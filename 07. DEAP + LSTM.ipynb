{
 "cells": [
  {
   "cell_type": "markdown",
   "metadata": {},
   "source": [
    "# Part 6. DEAP Dataset + LSTM\n",
    "\n",
    "In this part 6, we shall start using deep learning techniques which is different from the traditional machine learning approaches in the sense that deep learning techniques are able to automatically learn useful features for the task.  In a more simple words, we can directly feed the raw data into deep learning model, and the model should be able to give reasonable accuracy.\n",
    "\n",
    "*Note that we will be only predicting the valence.  Feel free to work on the arousal yourself.*\n",
    "\n",
    "In this part, we shall explore LSTM which is a very common model for handling sequential data."
   ]
  },
  {
   "cell_type": "code",
   "execution_count": 1,
   "metadata": {},
   "outputs": [],
   "source": [
    "import torch\n",
    "import torch.nn as nn\n",
    "import torch.nn.functional as F\n",
    "from torch.utils.data import DataLoader\n",
    "\n",
    "import os\n",
    "import pickle\n",
    "import numpy as np\n",
    "import time"
   ]
  },
  {
   "cell_type": "markdown",
   "metadata": {},
   "source": [
    "Set cuda accordingly."
   ]
  },
  {
   "cell_type": "code",
   "execution_count": 2,
   "metadata": {},
   "outputs": [
    {
     "name": "stdout",
     "output_type": "stream",
     "text": [
      "Configured device:  cuda\n"
     ]
    }
   ],
   "source": [
    "device = torch.device('cuda' if torch.cuda.is_available() else 'cpu')\n",
    "print(\"Configured device: \", device)"
   ]
  },
  {
   "cell_type": "markdown",
   "metadata": {},
   "source": [
    "## 1. Loading dataset\n",
    "\n",
    "Let's first reuse the dataset loader we have created in Part 1."
   ]
  },
  {
   "cell_type": "code",
   "execution_count": 3,
   "metadata": {},
   "outputs": [],
   "source": [
    "class Dataset(torch.utils.data.Dataset):\n",
    "    \n",
    "    def __init__(self, path, stim):\n",
    "        _, _, filenames = next(os.walk(path))\n",
    "        filenames = sorted(filenames)\n",
    "        all_data = []\n",
    "        all_label = []\n",
    "        for dat in filenames:\n",
    "            temp = pickle.load(open(os.path.join(path,dat), 'rb'), encoding='latin1')\n",
    "            all_data.append(temp['data'])\n",
    "            \n",
    "            if stim == \"Valence\":\n",
    "                all_label.append(temp['labels'][:,:1])   #the first index is valence\n",
    "            elif stim == \"Arousal\":\n",
    "                all_label.append(temp['labels'][:,1:2]) # Arousal  #the second index is arousal\n",
    "                \n",
    "        self.data = np.vstack(all_data)[:, :32, ]   #shape: (1280, 32, 8064) --> take only the first 32 channels\n",
    "        \n",
    "        shape = self.data.shape\n",
    "        \n",
    "        #perform segmentation=====\n",
    "        segments = 12\n",
    "        \n",
    "        self.data = self.data.reshape(shape[0], shape[1], int(shape[2]/segments), segments)\n",
    "        #data shape: (1280, 32, 672, 12)\n",
    "\n",
    "        self.data = self.data.transpose(0, 3, 1, 2)\n",
    "        #data shape: (1280, 12, 32, 672)\n",
    "\n",
    "        self.data = self.data.reshape(shape[0] * segments, shape[1], -1)\n",
    "        #data shape: (1280*12, 32, 672)\n",
    "        #==========================\n",
    "        \n",
    "        self.label = np.vstack(all_label) #(1280, 1)  ==> 1280 samples, \n",
    "        self.label = np.repeat(self.label, 12)[:, np.newaxis]  #the dimension 1 is lost after repeat, so need to unsqueeze (1280*12, 1)\n",
    "        \n",
    "        del temp, all_data, all_label\n",
    "\n",
    "    def __len__(self):\n",
    "        return self.data.shape[0]\n",
    "\n",
    "    def __getitem__(self, idx):\n",
    "        single_data  = self.data[idx]\n",
    "        single_label = (self.label[idx] > 5).astype(float)   #convert the scale to either 0 or 1 (to classification problem)\n",
    "        \n",
    "        batch = {\n",
    "            'data': torch.Tensor(single_data),\n",
    "            'label': torch.Tensor(single_label)\n",
    "        }\n",
    "        \n",
    "        return batch"
   ]
  },
  {
   "cell_type": "markdown",
   "metadata": {},
   "source": [
    "Let's try load the dataset."
   ]
  },
  {
   "cell_type": "code",
   "execution_count": 4,
   "metadata": {},
   "outputs": [],
   "source": [
    "path = \"data\"  #create a folder \"data\", and inside put s01.dat,....,s32.dat inside from the preprocessed folder from the DEAP dataset"
   ]
  },
  {
   "cell_type": "code",
   "execution_count": 5,
   "metadata": {
    "tags": []
   },
   "outputs": [
    {
     "name": "stdout",
     "output_type": "stream",
     "text": [
      "Data shape:  torch.Size([15360, 32, 672])\n",
      "Label shape:  torch.Size([15360, 1])\n"
     ]
    }
   ],
   "source": [
    "dataset = Dataset(path, \"Valence\")\n",
    "\n",
    "data  = dataset[:]['data']\n",
    "label = dataset[:]['label']\n",
    "\n",
    "print(\"Data shape: \" , data.shape)  #15360 = 32 * 40 trials * 12 segments, 32 EEG channels, 672 samples\n",
    "print(\"Label shape: \", label.shape)  #two classes of valence"
   ]
  },
  {
   "cell_type": "markdown",
   "metadata": {
    "tags": []
   },
   "source": [
    "## 2. Defining the Model -> LSTM\n",
    "\n",
    "Long Short Term Memory is a very simple model which treats data as sequence.  For sequential data such as EEG signal, LSTM (or other variants of recurrent neural network such as vanilla RNN or GRU) is one promising option.\n",
    "\n",
    "Here, we shall try bidirectional LSTM with two layers and see whether we could get decent accuracies."
   ]
  },
  {
   "cell_type": "code",
   "execution_count": 6,
   "metadata": {
    "tags": []
   },
   "outputs": [],
   "source": [
    "class LSTM(nn.Module):\n",
    "    '''\n",
    "    Expected Input Shape: (batch, seq_len, channels)\n",
    "    '''\n",
    "    def __init__(self, input_dim, hidden_dim, num_layers, output_dim, bidirectional, dropout):\n",
    "        super().__init__()\n",
    "        self.lstm = nn.LSTM(input_dim, \n",
    "                           hidden_dim, \n",
    "                           num_layers=num_layers, \n",
    "                           bidirectional=bidirectional, \n",
    "                           dropout=dropout,\n",
    "                           batch_first=True)\n",
    "        self.fc = nn.Linear(hidden_dim * num_layers, output_dim)\n",
    "        \n",
    "    def forward(self, x):\n",
    "        \n",
    "        #x = [batch size, seq len, channels]\n",
    "        out, (hn, cn) = self.lstm(x)\n",
    "        \n",
    "        #out = [batch size, seq len, hidden dim * num directions]        \n",
    "        #hn = [num layers * num directions, batch size, hidden dim]\n",
    "        #cn = [num layers * num directions, batch size, hidden dim]\n",
    "        \n",
    "        #concat the final forward (hidden[-2,:,:]) and backward (hidden[-1,:,:]) hidden layers\n",
    "        hn = torch.cat((hn[-2,:,:], hn[-1,:,:]), dim = 1)\n",
    "        #hn = [batch size, hidden dim * num directions]\n",
    "        \n",
    "        return self.fc(hn)"
   ]
  },
  {
   "cell_type": "markdown",
   "metadata": {},
   "source": [
    "**Weight init**: Before we initialize our model, let's also define a function how we want to initialize the network weights.  This is optional.  By default, layers will simply randomize weights but it is always nice to know how we can control weight initialization by defining a function"
   ]
  },
  {
   "cell_type": "code",
   "execution_count": 7,
   "metadata": {},
   "outputs": [],
   "source": [
    "#explicitly initialize weights for better learning\n",
    "def initialize_weights(m):\n",
    "    if isinstance(m, nn.Linear):   #if layer is of Linear\n",
    "        nn.init.xavier_normal_(m.weight)\n",
    "        nn.init.zeros_(m.bias)\n",
    "    elif isinstance(m, nn.LSTM):   #if layer is of LSTM\n",
    "        for name, param in m.named_parameters():\n",
    "            if 'bias' in name:\n",
    "                nn.init.zeros_(param)\n",
    "            elif 'weight' in name:\n",
    "                nn.init.orthogonal_(param)  #orthogonal is a common way to initialize weights for RNN/LSTM/GRU"
   ]
  },
  {
   "cell_type": "markdown",
   "metadata": {},
   "source": [
    "**Model init**: Let's init the class instance and create a workabout model."
   ]
  },
  {
   "cell_type": "code",
   "execution_count": 8,
   "metadata": {},
   "outputs": [
    {
     "data": {
      "text/plain": [
       "LSTM(\n",
       "  (lstm): LSTM(32, 256, num_layers=2, batch_first=True, dropout=0.5, bidirectional=True)\n",
       "  (fc): Linear(in_features=512, out_features=1, bias=True)\n",
       ")"
      ]
     },
     "execution_count": 8,
     "metadata": {},
     "output_type": "execute_result"
    }
   ],
   "source": [
    "#note that these params are simply obtained from trial and error; I got no theory to back up why I use certain numbers here...\n",
    "input_dim     = 32 #we got 32 EEG channels\n",
    "hidden_dim    = 256 #let's define hidden dim as 256\n",
    "num_layers    = 2  #we gonna have two LSTM layers\n",
    "output_dim    = 1  #we got 2 classes so we can output only 1 number, 0 for first class and 1 for another class\n",
    "bidirectional = True  #uses bidirectional LSTM\n",
    "dropout       = 0.5  #setting dropout to 0.5\n",
    "\n",
    "#define the model\n",
    "model = LSTM(input_dim, hidden_dim, num_layers, output_dim, bidirectional, dropout)\n",
    "\n",
    "#send to cuda so we can use the GPU\n",
    "model = model.to(device)  \n",
    "\n",
    "#apply weights\n",
    "model.apply(initialize_weights)"
   ]
  },
  {
   "cell_type": "markdown",
   "metadata": {},
   "source": [
    "**Param count**: Let's also check the number of parameters used"
   ]
  },
  {
   "cell_type": "code",
   "execution_count": 9,
   "metadata": {},
   "outputs": [
    {
     "name": "stdout",
     "output_type": "stream",
     "text": [
      "The model LSTM has 2,171,393 trainable parameters\n"
     ]
    }
   ],
   "source": [
    "def count_parameters(model):\n",
    "    return sum(p.numel() for p in model.parameters() if p.requires_grad)\n",
    "\n",
    "print(f'The model {type(model).__name__} has {count_parameters(model):,} trainable parameters')# Train the model"
   ]
  },
  {
   "cell_type": "markdown",
   "metadata": {},
   "source": [
    "**Unit test**: Let's define a simple unit test, inputing some mock EEG data and see whether we got the desired output as 4 classes."
   ]
  },
  {
   "cell_type": "code",
   "execution_count": 10,
   "metadata": {},
   "outputs": [
    {
     "name": "stdout",
     "output_type": "stream",
     "text": [
      "Prediction shape:  torch.Size([2, 1])\n",
      "Predictions:  tensor([[-0.0247],\n",
      "        [ 0.0065]], device='cuda:0', grad_fn=<AddmmBackward>)\n"
     ]
    }
   ],
   "source": [
    "mock_batch_size = 2  #in real training, we use 32\n",
    "mock_input_dim  = 32 #in real data, ours is 32 channels\n",
    "mock_seq_len    = 10 #in real data, ours is 8064\n",
    "\n",
    "#note that 8064 seq_len and 32 channels should be swapped because that's what LSTM wants\n",
    "mock_eegdata = torch.rand(mock_batch_size, mock_seq_len, mock_input_dim).to(device)\n",
    "\n",
    "#let's try run the model by simply inserting the mockdata into the model; very similar to .fit\n",
    "predictions = model(mock_eegdata)\n",
    "\n",
    "#let's try to see the predictions whether it really outputs 2 unique classes - 0 and 1\n",
    "print(\"Prediction shape: \", predictions.shape)\n",
    "print(\"Predictions: \", predictions)\n",
    "\n",
    "#simple unit test\n",
    "assert predictions.shape[0] == mock_batch_size\n",
    "assert predictions.shape[1] == output_dim"
   ]
  },
  {
   "cell_type": "markdown",
   "metadata": {},
   "source": [
    "## 3. Training"
   ]
  },
  {
   "cell_type": "markdown",
   "metadata": {
    "tags": []
   },
   "source": [
    "### I. Batch Iterators\n",
    "\n",
    "In order to easily loop the dataset, let's create a batch iterator.  The typical steps are:\n",
    "\n",
    "1.  Split the dataset into training and validation set.\n",
    "2.  Create a loader using DataLoader APIs"
   ]
  },
  {
   "cell_type": "code",
   "execution_count": 11,
   "metadata": {},
   "outputs": [
    {
     "name": "stdout",
     "output_type": "stream",
     "text": [
      "Full Dataset size:  15360\n",
      "Train Dataset size: 10752\n",
      "Valid Dataset size: 3072\n",
      "Test Dataset size:  1536\n",
      "\n"
     ]
    }
   ],
   "source": [
    "# setting seed so that splitting process and training process can be reproduced\n",
    "torch.manual_seed(1)\n",
    "\n",
    "# randomly shuffle the indexes, then randomly select 80% of the data\n",
    "indices   = torch.randperm(len(dataset)).tolist()\n",
    "train_ind = int(0.7 * len(dataset))\n",
    "val_ind   = int(0.9 * len(dataset))\n",
    "\n",
    "# create subset of dataset\n",
    "train_set = torch.utils.data.Subset(dataset, indices[:train_ind])\n",
    "val_set   = torch.utils.data.Subset(dataset, indices[train_ind:val_ind])\n",
    "test_set  = torch.utils.data.Subset(dataset, indices[val_ind:])\n",
    "\n",
    "print(f\"Full Dataset size:  {len(dataset)}\")\n",
    "print(f\"Train Dataset size: {len(train_set)}\")\n",
    "print(f\"Valid Dataset size: {len(val_set)}\")\n",
    "print(f\"Test Dataset size:  {len(test_set)}\\n\")\n",
    "\n",
    "# let's create the loader so we can easily loop each batch for training\n",
    "params = {\"batch_size\":16,\"shuffle\": True,\"pin_memory\": True}\n",
    "\n",
    "train_loader = DataLoader(train_set, **params)\n",
    "val_loader   = DataLoader(val_set, **params)\n",
    "test_loader  = DataLoader(test_set, **params)"
   ]
  },
  {
   "cell_type": "markdown",
   "metadata": {},
   "source": [
    "### II. Optimizers\n",
    "\n",
    "Optimizer simply refers to the one that gonna take care of the backpropagation process.  The commonly used optimizer is SGD and Adam, both are quite interchangeable.  Here we gonna use Adam.  In order to backpropagate, we gonna define a loss function using cross entropy loss, which is a common loss function for multi-class purposes."
   ]
  },
  {
   "cell_type": "code",
   "execution_count": 12,
   "metadata": {},
   "outputs": [],
   "source": [
    "import torch.optim as optim\n",
    "\n",
    "num_epochs = 50\n",
    "\n",
    "lr = 0.0001\n",
    "\n",
    "#can also try SGD which should not make too much of a difference\n",
    "optimizer = optim.Adam(model.parameters(), lr=lr) \n",
    "\n",
    "#combine sigmoid with binary entropy; binary entropy is used for binary classification\n",
    "criterion = nn.BCEWithLogitsLoss() "
   ]
  },
  {
   "cell_type": "markdown",
   "metadata": {
    "tags": []
   },
   "source": [
    "### III. Training procedures\n",
    "\n",
    "Let's create a function for training, so we can reuse it in the future.  I will write comments where appropriate."
   ]
  },
  {
   "cell_type": "code",
   "execution_count": 13,
   "metadata": {},
   "outputs": [],
   "source": [
    "#for measuring accuracy\n",
    "def binary_accuracy(preds, y):\n",
    "    \"\"\"\n",
    "    Returns accuracy per batch, i.e. if you get 8/10 right, this returns 0.8, NOT 8\n",
    "    \"\"\"\n",
    "    #round predictions to the closest integer\n",
    "    rounded_preds = torch.round(torch.sigmoid(preds))\n",
    "    correct = (rounded_preds == y).float() #convert into float for division \n",
    "    acc = correct.sum() / len(correct)\n",
    "    return acc"
   ]
  },
  {
   "cell_type": "code",
   "execution_count": 14,
   "metadata": {},
   "outputs": [],
   "source": [
    "#for timing the epochs\n",
    "def epoch_time(start_time, end_time):\n",
    "    elapsed_time = end_time - start_time\n",
    "    elapsed_mins = int(elapsed_time / 60)\n",
    "    elapsed_secs = int(elapsed_time - (elapsed_mins * 60))\n",
    "    return elapsed_mins, elapsed_secs"
   ]
  },
  {
   "cell_type": "code",
   "execution_count": 15,
   "metadata": {},
   "outputs": [],
   "source": [
    "def train(model, train_loader,  optimizer, criterion):\n",
    "\n",
    "    model.train()\n",
    "    epoch_train_loss = 0\n",
    "    epoch_train_acc  = 0\n",
    "\n",
    "    for i, batch in enumerate(train_loader):\n",
    "    \n",
    "        # data shape: (batch, channel, seq len)\n",
    "        data  = batch['data'].to(device).permute(0, 2, 1)   \n",
    "        # data shape: (batch, seq len, channel)\n",
    "\n",
    "        # label shape: (batch, 1)\n",
    "        label = batch['label'].to(device)\n",
    "        \n",
    "        #predict\n",
    "        output = model(data)  #output shape: (batch, 1)\n",
    "        loss   = criterion(output, label)\n",
    "        \n",
    "        #backprop\n",
    "        optimizer.zero_grad()\n",
    "        loss.backward()\n",
    "        optimizer.step()\n",
    "        \n",
    "        #for visualizing\n",
    "        epoch_train_loss += loss.item()\n",
    "        acc = binary_accuracy(output, label)\n",
    "        epoch_train_acc += acc.item()\n",
    "        \n",
    "    epoch_train_loss = epoch_train_loss / len(train_loader)\n",
    "    epoch_train_acc  = epoch_train_acc  / len(train_loader)\n",
    "    \n",
    "    return epoch_train_loss, epoch_train_acc"
   ]
  },
  {
   "cell_type": "markdown",
   "metadata": {},
   "source": [
    "Let's also create another slightly different function to test our model on the validation set."
   ]
  },
  {
   "cell_type": "code",
   "execution_count": 16,
   "metadata": {},
   "outputs": [],
   "source": [
    "def evaluate(model, val_loader, criterion):\n",
    "\n",
    "    model.eval()\n",
    "    epoch_val_loss = 0\n",
    "    epoch_val_acc  = 0\n",
    "\n",
    "    with torch.no_grad():\n",
    "        for i, batch in enumerate(val_loader):\n",
    "            \n",
    "            # data shape: (batch, channel, seq len)\n",
    "            data  = batch['data'].to(device).permute(0, 2, 1)  \n",
    "            label = batch['label'].to(device)\n",
    "            \n",
    "            #predict\n",
    "            output = model(data)\n",
    "            loss   = criterion(output, label)\n",
    "            \n",
    "            #for visualizing\n",
    "            epoch_val_loss += loss.item()\n",
    "            acc = binary_accuracy(output, label)\n",
    "            epoch_val_acc += acc.item()\n",
    "    \n",
    "    epoch_val_loss =  epoch_val_loss / len(val_loader)\n",
    "    epoch_val_acc  =  epoch_val_acc  / len(val_loader)\n",
    "    \n",
    "    return epoch_val_loss, epoch_val_acc"
   ]
  },
  {
   "cell_type": "markdown",
   "metadata": {
    "tags": []
   },
   "source": [
    "### IV. Let's train!\n",
    "\n",
    "Nothing much but simply run the training functions!"
   ]
  },
  {
   "cell_type": "code",
   "execution_count": 17,
   "metadata": {},
   "outputs": [
    {
     "name": "stdout",
     "output_type": "stream",
     "text": [
      "Epoch: 02 | Epoch Time: 1m 30s\n",
      "\t Train Loss: 0.631 | Train Acc: 64.72%\n",
      "\t Val. Loss: 0.642  |  Val. Acc: 62.43%\n",
      "Epoch: 03 | Epoch Time: 1m 30s\n",
      "\t Train Loss: 0.580 | Train Acc: 69.59%\n",
      "\t Val. Loss: 0.594  |  Val. Acc: 67.97%\n",
      "Epoch: 04 | Epoch Time: 1m 29s\n",
      "\t Train Loss: 0.510 | Train Acc: 74.92%\n",
      "\t Val. Loss: 0.599  |  Val. Acc: 68.62%\n",
      "Epoch: 05 | Epoch Time: 1m 31s\n",
      "\t Train Loss: 0.442 | Train Acc: 79.13%\n",
      "\t Val. Loss: 0.561  |  Val. Acc: 71.71%\n",
      "Epoch: 06 | Epoch Time: 1m 30s\n",
      "\t Train Loss: 0.371 | Train Acc: 83.39%\n",
      "\t Val. Loss: 0.573  |  Val. Acc: 72.20%\n",
      "Epoch: 07 | Epoch Time: 1m 29s\n",
      "\t Train Loss: 0.309 | Train Acc: 86.41%\n",
      "\t Val. Loss: 0.592  |  Val. Acc: 73.80%\n",
      "Epoch: 08 | Epoch Time: 1m 29s\n",
      "\t Train Loss: 0.261 | Train Acc: 88.76%\n",
      "\t Val. Loss: 0.609  |  Val. Acc: 74.15%\n",
      "Epoch: 09 | Epoch Time: 1m 29s\n",
      "\t Train Loss: 0.217 | Train Acc: 90.85%\n",
      "\t Val. Loss: 0.654  |  Val. Acc: 73.93%\n",
      "Epoch: 10 | Epoch Time: 1m 30s\n",
      "\t Train Loss: 0.184 | Train Acc: 92.50%\n",
      "\t Val. Loss: 0.655  |  Val. Acc: 75.36%\n",
      "Epoch: 11 | Epoch Time: 1m 30s\n",
      "\t Train Loss: 0.157 | Train Acc: 93.63%\n",
      "\t Val. Loss: 0.646  |  Val. Acc: 75.55%\n",
      "Epoch: 12 | Epoch Time: 1m 30s\n",
      "\t Train Loss: 0.130 | Train Acc: 94.96%\n",
      "\t Val. Loss: 0.752  |  Val. Acc: 74.51%\n",
      "Epoch: 13 | Epoch Time: 1m 29s\n",
      "\t Train Loss: 0.122 | Train Acc: 94.96%\n",
      "\t Val. Loss: 0.728  |  Val. Acc: 76.07%\n",
      "Epoch: 14 | Epoch Time: 1m 30s\n",
      "\t Train Loss: 0.101 | Train Acc: 96.12%\n",
      "\t Val. Loss: 0.719  |  Val. Acc: 76.53%\n",
      "Epoch: 15 | Epoch Time: 1m 31s\n",
      "\t Train Loss: 0.093 | Train Acc: 96.51%\n",
      "\t Val. Loss: 0.785  |  Val. Acc: 76.04%\n",
      "Epoch: 16 | Epoch Time: 1m 30s\n",
      "\t Train Loss: 0.083 | Train Acc: 96.84%\n",
      "\t Val. Loss: 0.837  |  Val. Acc: 75.39%\n",
      "Epoch: 17 | Epoch Time: 1m 30s\n",
      "\t Train Loss: 0.082 | Train Acc: 96.88%\n",
      "\t Val. Loss: 0.768  |  Val. Acc: 77.28%\n",
      "Epoch: 18 | Epoch Time: 1m 30s\n",
      "\t Train Loss: 0.072 | Train Acc: 97.15%\n",
      "\t Val. Loss: 0.888  |  Val. Acc: 76.56%\n",
      "Epoch: 19 | Epoch Time: 1m 29s\n",
      "\t Train Loss: 0.070 | Train Acc: 97.31%\n",
      "\t Val. Loss: 0.843  |  Val. Acc: 76.60%\n",
      "Epoch: 20 | Epoch Time: 1m 30s\n",
      "\t Train Loss: 0.064 | Train Acc: 97.55%\n",
      "\t Val. Loss: 0.895  |  Val. Acc: 77.05%\n",
      "Epoch: 21 | Epoch Time: 1m 30s\n",
      "\t Train Loss: 0.064 | Train Acc: 97.65%\n",
      "\t Val. Loss: 0.802  |  Val. Acc: 77.57%\n",
      "Epoch: 22 | Epoch Time: 1m 30s\n",
      "\t Train Loss: 0.054 | Train Acc: 98.19%\n",
      "\t Val. Loss: 0.877  |  Val. Acc: 77.12%\n",
      "Epoch: 23 | Epoch Time: 1m 30s\n",
      "\t Train Loss: 0.056 | Train Acc: 98.01%\n",
      "\t Val. Loss: 0.901  |  Val. Acc: 76.95%\n",
      "Epoch: 24 | Epoch Time: 1m 31s\n",
      "\t Train Loss: 0.053 | Train Acc: 98.02%\n",
      "\t Val. Loss: 0.918  |  Val. Acc: 77.02%\n",
      "Epoch: 25 | Epoch Time: 1m 31s\n",
      "\t Train Loss: 0.042 | Train Acc: 98.45%\n",
      "\t Val. Loss: 0.949  |  Val. Acc: 77.90%\n",
      "Epoch: 26 | Epoch Time: 1m 29s\n",
      "\t Train Loss: 0.051 | Train Acc: 98.21%\n",
      "\t Val. Loss: 0.980  |  Val. Acc: 76.30%\n",
      "Epoch: 27 | Epoch Time: 1m 30s\n",
      "\t Train Loss: 0.042 | Train Acc: 98.46%\n",
      "\t Val. Loss: 0.945  |  Val. Acc: 78.19%\n",
      "Epoch: 28 | Epoch Time: 1m 29s\n",
      "\t Train Loss: 0.039 | Train Acc: 98.57%\n",
      "\t Val. Loss: 1.081  |  Val. Acc: 76.11%\n",
      "Epoch: 29 | Epoch Time: 1m 29s\n",
      "\t Train Loss: 0.040 | Train Acc: 98.52%\n",
      "\t Val. Loss: 1.046  |  Val. Acc: 77.64%\n",
      "Epoch: 30 | Epoch Time: 1m 30s\n",
      "\t Train Loss: 0.037 | Train Acc: 98.67%\n",
      "\t Val. Loss: 1.020  |  Val. Acc: 77.38%\n",
      "Epoch: 31 | Epoch Time: 1m 30s\n",
      "\t Train Loss: 0.043 | Train Acc: 98.49%\n",
      "\t Val. Loss: 1.064  |  Val. Acc: 77.25%\n",
      "Epoch: 32 | Epoch Time: 1m 30s\n",
      "\t Train Loss: 0.037 | Train Acc: 98.69%\n",
      "\t Val. Loss: 0.940  |  Val. Acc: 77.67%\n",
      "Epoch: 33 | Epoch Time: 1m 30s\n",
      "\t Train Loss: 0.036 | Train Acc: 98.69%\n",
      "\t Val. Loss: 1.040  |  Val. Acc: 78.16%\n",
      "Epoch: 34 | Epoch Time: 1m 30s\n",
      "\t Train Loss: 0.030 | Train Acc: 98.96%\n",
      "\t Val. Loss: 1.026  |  Val. Acc: 77.77%\n",
      "Epoch: 35 | Epoch Time: 1m 31s\n",
      "\t Train Loss: 0.040 | Train Acc: 98.51%\n",
      "\t Val. Loss: 0.993  |  Val. Acc: 77.12%\n",
      "Epoch: 36 | Epoch Time: 1m 30s\n",
      "\t Train Loss: 0.033 | Train Acc: 98.76%\n",
      "\t Val. Loss: 1.023  |  Val. Acc: 77.73%\n",
      "Epoch: 37 | Epoch Time: 1m 30s\n",
      "\t Train Loss: 0.024 | Train Acc: 99.17%\n",
      "\t Val. Loss: 1.115  |  Val. Acc: 76.63%\n",
      "Epoch: 38 | Epoch Time: 1m 31s\n",
      "\t Train Loss: 0.029 | Train Acc: 98.87%\n",
      "\t Val. Loss: 1.025  |  Val. Acc: 77.73%\n",
      "Epoch: 39 | Epoch Time: 1m 29s\n",
      "\t Train Loss: 0.029 | Train Acc: 99.00%\n",
      "\t Val. Loss: 1.031  |  Val. Acc: 77.90%\n",
      "Epoch: 40 | Epoch Time: 1m 30s\n",
      "\t Train Loss: 0.036 | Train Acc: 98.64%\n",
      "\t Val. Loss: 1.011  |  Val. Acc: 78.81%\n",
      "Epoch: 41 | Epoch Time: 1m 30s\n",
      "\t Train Loss: 0.022 | Train Acc: 99.27%\n",
      "\t Val. Loss: 1.078  |  Val. Acc: 78.03%\n",
      "Epoch: 42 | Epoch Time: 1m 30s\n",
      "\t Train Loss: 0.023 | Train Acc: 99.20%\n",
      "\t Val. Loss: 1.127  |  Val. Acc: 78.12%\n",
      "Epoch: 43 | Epoch Time: 1m 30s\n",
      "\t Train Loss: 0.025 | Train Acc: 99.15%\n",
      "\t Val. Loss: 1.016  |  Val. Acc: 77.38%\n",
      "Epoch: 44 | Epoch Time: 1m 31s\n",
      "\t Train Loss: 0.025 | Train Acc: 99.19%\n",
      "\t Val. Loss: 1.022  |  Val. Acc: 78.32%\n",
      "Epoch: 45 | Epoch Time: 1m 31s\n",
      "\t Train Loss: 0.019 | Train Acc: 99.30%\n",
      "\t Val. Loss: 1.099  |  Val. Acc: 78.29%\n",
      "Epoch: 46 | Epoch Time: 1m 30s\n",
      "\t Train Loss: 0.029 | Train Acc: 98.93%\n",
      "\t Val. Loss: 1.141  |  Val. Acc: 76.89%\n",
      "Epoch: 47 | Epoch Time: 1m 30s\n",
      "\t Train Loss: 0.026 | Train Acc: 99.09%\n",
      "\t Val. Loss: 1.033  |  Val. Acc: 77.44%\n",
      "Epoch: 48 | Epoch Time: 1m 30s\n",
      "\t Train Loss: 0.023 | Train Acc: 99.17%\n",
      "\t Val. Loss: 1.022  |  Val. Acc: 78.91%\n",
      "Epoch: 49 | Epoch Time: 1m 30s\n",
      "\t Train Loss: 0.017 | Train Acc: 99.45%\n",
      "\t Val. Loss: 1.164  |  Val. Acc: 78.16%\n",
      "Epoch: 50 | Epoch Time: 1m 29s\n",
      "\t Train Loss: 0.022 | Train Acc: 99.24%\n",
      "\t Val. Loss: 1.089  |  Val. Acc: 77.70%\n"
     ]
    }
   ],
   "source": [
    "best_valid_loss = float('inf')\n",
    "\n",
    "train_losses = []\n",
    "train_accs   = []\n",
    "valid_losses = []\n",
    "valid_accs   = []\n",
    "\n",
    "for epoch in range(num_epochs):\n",
    "    \n",
    "    start_time = time.time()\n",
    "\n",
    "    train_loss, train_acc = train(model, train_loader, optimizer, criterion)\n",
    "    valid_loss, valid_acc = evaluate(model, val_loader, criterion)\n",
    "    \n",
    "    #for plotting\n",
    "    train_losses.append(train_loss)\n",
    "    train_accs  .append(train_acc)\n",
    "    valid_losses.append(valid_loss)\n",
    "    valid_accs  .append(valid_acc)\n",
    "    \n",
    "    if valid_loss < best_valid_loss:\n",
    "        best_valid_loss = valid_loss\n",
    "        torch.save(model.state_dict(), 'models/DEAP_BiLSTM.pt')\n",
    "        \n",
    "    end_time = time.time()\n",
    "    epoch_mins, epoch_secs = epoch_time(start_time, end_time)\n",
    "    \n",
    "    print(f'Epoch: {epoch+1:02} | Epoch Time: {epoch_mins}m {epoch_secs}s')\n",
    "    print(f'\\t Train Loss: {train_loss:.3f} | Train Acc: {train_acc*100:.2f}%')\n",
    "    print(f'\\t Val. Loss: {valid_loss:.3f}  |  Val. Acc: {valid_acc*100:.2f}%')"
   ]
  },
  {
   "cell_type": "markdown",
   "metadata": {},
   "source": [
    "Let's plot the losses and acc for easier inspection"
   ]
  },
  {
   "cell_type": "code",
   "execution_count": 18,
   "metadata": {},
   "outputs": [
    {
     "data": {
      "text/plain": [
       "Text(0, 0.5, 'loss')"
      ]
     },
     "execution_count": 18,
     "metadata": {},
     "output_type": "execute_result"
    },
    {
     "data": {
      "image/png": "[encoded data removed]",
      "text/plain": [
       "<Figure size 720x432 with 1 Axes>"
      ]
     },
     "metadata": {
      "needs_background": "light"
     },
     "output_type": "display_data"
    }
   ],
   "source": [
    "import matplotlib.pyplot as plt\n",
    "fig = plt.figure(figsize=(10, 6))\n",
    "ax  = fig.add_subplot(1, 1, 1)\n",
    "ax.plot(train_losses, label = 'train loss')\n",
    "ax.plot(valid_losses, label = 'valid loss')\n",
    "plt.legend()\n",
    "ax.set_xlabel('updates')\n",
    "ax.set_ylabel('loss')"
   ]
  },
  {
   "cell_type": "code",
   "execution_count": 19,
   "metadata": {},
   "outputs": [
    {
     "data": {
      "text/plain": [
       "Text(0, 0.5, 'acc')"
      ]
     },
     "execution_count": 19,
     "metadata": {},
     "output_type": "execute_result"
    },
    {
     "data": {
      "image/png": "[encoded data removed]",
      "text/plain": [
       "<Figure size 720x432 with 1 Axes>"
      ]
     },
     "metadata": {
      "needs_background": "light"
     },
     "output_type": "display_data"
    }
   ],
   "source": [
    "fig = plt.figure(figsize=(10, 6))\n",
    "ax  = fig.add_subplot(1, 1, 1)\n",
    "ax.plot(train_accs, label = 'train acc')\n",
    "ax.plot(valid_accs, label = 'valid acc')\n",
    "plt.legend()\n",
    "ax.set_xlabel('updates')\n",
    "ax.set_ylabel('acc')"
   ]
  },
  {
   "cell_type": "markdown",
   "metadata": {},
   "source": [
    "## 4. Evaluation on test set"
   ]
  },
  {
   "cell_type": "code",
   "execution_count": 20,
   "metadata": {},
   "outputs": [
    {
     "name": "stdout",
     "output_type": "stream",
     "text": [
      "Test Loss: 0.573 | Test Acc: 71.29%\n"
     ]
    }
   ],
   "source": [
    "model.load_state_dict(torch.load('models/DEAP_BiLSTM.pt'))\n",
    "test_loss, test_acc = evaluate(model, test_loader, criterion)\n",
    "\n",
    "print(f'Test Loss: {test_loss:.3f} | Test Acc: {test_acc*100:.2f}%')"
   ]
  },
  {
   "cell_type": "markdown",
   "metadata": {},
   "source": [
    "## Final Verdict\n",
    "\n"
   ]
  },
  {
   "cell_type": "markdown",
   "metadata": {},
   "source": [
    "Hmm...so the accuracy is around 71%.  Not really impressive.\n",
    "\n",
    "One quick improvement to LSTM is its speed which takes considerable time to train for each epoch, especially if the seq len is very big.  One way to dramatically increase the speed is to downsize the seq len.  One good way is by applying conv1d+pooling before LSTM."
   ]
  }
 ],
 "metadata": {
  "kernelspec": {
   "display_name": "Python 3",
   "language": "python",
   "name": "python3"
  },
  "language_info": {
   "codemirror_mode": {
    "name": "ipython",
    "version": 3
   },
   "file_extension": ".py",
   "mimetype": "text/x-python",
   "name": "python",
   "nbconvert_exporter": "python",
   "pygments_lexer": "ipython3",
   "version": "3.8.10"
  }
 },
 "nbformat": 4,
 "nbformat_minor": 5
}
