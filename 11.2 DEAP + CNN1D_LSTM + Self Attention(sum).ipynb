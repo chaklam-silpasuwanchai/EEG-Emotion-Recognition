{
 "cells": [
  {
   "cell_type": "markdown",
   "metadata": {},
   "source": [
    "# DEAP Dataset + CNN1D_LSTM + Self Attention\n",
    "\n",
    "In this part 9, we shall try add self-attention mechanisms after LSTM, which is inspired by the Transformers architecture.\n",
    "\n",
    "*Note that we will be only predicting the valence.  Feel free to work on the arousal yourself.*\n",
    "\n",
    "In this part, most of the code will be the same except 2 Defining Model."
   ]
  },
  {
   "cell_type": "code",
   "execution_count": 1,
   "metadata": {},
   "outputs": [],
   "source": [
    "import torch\n",
    "import torch.nn as nn\n",
    "import torch.nn.functional as F\n",
    "\n",
    "# setting seed so that splitting process and training process can be reproduce\n",
    "torch.manual_seed(1)\n",
    "\n",
    "import numpy as np\n",
    "\n",
    "#refactoring components\n",
    "#maybe you want to take a look at these components, because we will be using them in the future series\n",
    "from components.dataset import Dataset\n",
    "from components.helper import getLoaders, count_parameters, plot_performance\n",
    "from components.train import train, evaluate, initialize_weights"
   ]
  },
  {
   "cell_type": "markdown",
   "metadata": {},
   "source": [
    "Set cuda accordingly."
   ]
  },
  {
   "cell_type": "code",
   "execution_count": 2,
   "metadata": {},
   "outputs": [
    {
     "name": "stdout",
     "output_type": "stream",
     "text": [
      "Configured device:  cuda\n"
     ]
    }
   ],
   "source": [
    "device = torch.device('cuda' if torch.cuda.is_available() else 'cpu')\n",
    "print(\"Configured device: \", device)"
   ]
  },
  {
   "cell_type": "markdown",
   "metadata": {},
   "source": [
    "## 1. Loading dataset\n",
    "\n",
    "Let's first reuse the dataset loader we have created in Part 1."
   ]
  },
  {
   "cell_type": "code",
   "execution_count": 3,
   "metadata": {},
   "outputs": [],
   "source": [
    "path = \"data\"  #create a folder \"data\", and inside put s01.dat,....,s32.dat inside from the preprocessed folder from the DEAP dataset"
   ]
  },
  {
   "cell_type": "code",
   "execution_count": 4,
   "metadata": {
    "tags": []
   },
   "outputs": [
    {
     "name": "stdout",
     "output_type": "stream",
     "text": [
      "Data shape:  torch.Size([15360, 32, 672])\n",
      "Label shape:  torch.Size([15360, 1])\n"
     ]
    }
   ],
   "source": [
    "dataset = Dataset(path, \"Valence\")\n",
    "\n",
    "data  = dataset[:]['data']\n",
    "label = dataset[:]['label']\n",
    "\n",
    "print(\"Data shape: \" , data.shape)  #15360 = 32 * 40 trials * 12 segments, 32 EEG channels, 672 samples\n",
    "print(\"Label shape: \", label.shape)  #two classes of valence"
   ]
  },
  {
   "cell_type": "markdown",
   "metadata": {
    "tags": []
   },
   "source": [
    "## 2. Defining the Model\n",
    "\n",
    "Self Attention is a very simple idea in which we wanna find the best weighted sum of all hidden states, instead of using the last hidden state to input into the linear layer.  However, the procedure in doing so it's a bit different, especially in step 1.  In order to find that weight, we \n",
    "1. we create three copies of (i.e., <code>out</code>) and called them Q (queries), K (key), V (value)\n",
    "2. attention weights matrix is done by having Q and K dotted together\n",
    "3. perform a softmax on this attention matrix so we can get value between 0 and 1\n",
    "4. lastly, we simply multiply this attention matrix with V"
   ]
  },
  {
   "cell_type": "code",
   "execution_count": 5,
   "metadata": {},
   "outputs": [],
   "source": [
    "class Conv1D_LSTM_SelfAttention(nn.Module):\n",
    "    '''\n",
    "    Expected Input Shape: (batch, channels, seq_len)  <==what conv1d wants\n",
    "    '''\n",
    "    def __init__(self, input_dim, hidden_dim, num_layers, output_dim, bidirectional, dropout, len_reduction='mean'):\n",
    "        super(Conv1D_LSTM_SelfAttention, self).__init__()\n",
    "        self.conv1d = nn.Conv1d(input_dim, input_dim, kernel_size=128, stride=1, padding=1)\n",
    "        self.norm = nn.BatchNorm1d(input_dim)\n",
    "        self.lstm = nn.LSTM(input_dim, \n",
    "                           hidden_dim, \n",
    "                           num_layers=num_layers, \n",
    "                           bidirectional=bidirectional, \n",
    "                           dropout=dropout,\n",
    "                           batch_first=True)\n",
    "        self.fc = nn.Linear(hidden_dim * num_layers, output_dim)\n",
    "        self.lin_Q = nn.Linear(hidden_dim * 2, hidden_dim * 2)\n",
    "        self.lin_K = nn.Linear(hidden_dim * 2, hidden_dim * 2)\n",
    "        self.lin_V = nn.Linear(hidden_dim * 2, hidden_dim * 2)\n",
    "        self.len_reduction = len_reduction\n",
    "    \n",
    "    # lstm_output : [batch_size, seq len, n_hidden * num_directions(=2)]\n",
    "    def self_attention_net(self, lstm_output):\n",
    "        q = self.lin_Q(torch.clone(lstm_output))\n",
    "        k = self.lin_K(torch.clone(lstm_output))\n",
    "        v = self.lin_V(torch.clone(lstm_output))\n",
    "        # q : [batch_size, seq_len, n_hidden * num_directions(=2)]\n",
    "        # k.transpose(1, 2): [batch_size, n_hidden * num_directions(=2), seq_len]\n",
    "        # attn_w = [batch_size, seq_len, seq_len]\n",
    "                \n",
    "        attn_w = torch.matmul(q, k.transpose(1, 2))\n",
    "        sfmx_attn_w = F.softmax(attn_w, 1)\n",
    "        \n",
    "        # context = [batch_size, seq_len, hidden_dim * num_directions(=2)]\n",
    "        context = torch.matmul(sfmx_attn_w, v)\n",
    "        \n",
    "        # by doing some mean/sum, the dimension on the seq len is gone\n",
    "        if self.len_reduction == \"mean\":\n",
    "            return torch.mean(context, dim=1), sfmx_attn_w.cpu().data.numpy()\n",
    "        elif self.len_reduction == \"sum\":\n",
    "            return torch.sum(context, dim=1), sfmx_attn_w.cpu().data.numpy()\n",
    "        elif self.len_reduction == \"last\":\n",
    "            return context[:, -1, :], sfmx_attn_w.cpu().data.numpy()   \n",
    "        \n",
    "    def forward(self, x):\n",
    "        # conv1d expects (batch, channels, seq_len)\n",
    "        # should not try too big a kernel size, which could lead to too much information loss\n",
    "        x = F.max_pool1d(F.relu(self.norm(self.conv1d(x))), kernel_size=3)\n",
    "\n",
    "        # change to (batch, seq_len, channels) because lstm expects\n",
    "        x = x.permute(0,2,1)\n",
    "        \n",
    "        #x = [batch size, seq len, channels]\n",
    "        out, (hn, cn) = self.lstm(x)\n",
    "        \n",
    "        #out = [batch size, seq len, hidden dim * num directions]        \n",
    "        #hn = [num layers * num directions, batch size, hidden dim]\n",
    "        #cn = [num layers * num directions, batch size, hidden dim]\n",
    "        \n",
    "        #concat the final forward (hidden[-2,:,:]) and backward (hidden[-1,:,:]) hidden layers\n",
    "        hn = torch.cat((hn[-2,:,:], hn[-1,:,:]), dim = 1)\n",
    "        #hn = [batch size, hidden dim * num directions]\n",
    "        \n",
    "        attn_output, attention = self.self_attention_net(out)\n",
    "\n",
    "        return self.fc(attn_output)"
   ]
  },
  {
   "cell_type": "markdown",
   "metadata": {},
   "source": [
    "**Model init**: Let's init the class instance and create a workabout model."
   ]
  },
  {
   "cell_type": "code",
   "execution_count": 6,
   "metadata": {},
   "outputs": [
    {
     "data": {
      "text/plain": [
       "Conv1D_LSTM_SelfAttention(\n",
       "  (conv1d): Conv1d(32, 32, kernel_size=(128,), stride=(1,), padding=(1,))\n",
       "  (norm): BatchNorm1d(32, eps=1e-05, momentum=0.1, affine=True, track_running_stats=True)\n",
       "  (lstm): LSTM(32, 256, num_layers=2, batch_first=True, dropout=0.5, bidirectional=True)\n",
       "  (fc): Linear(in_features=512, out_features=1, bias=True)\n",
       "  (lin_Q): Linear(in_features=512, out_features=512, bias=True)\n",
       "  (lin_K): Linear(in_features=512, out_features=512, bias=True)\n",
       "  (lin_V): Linear(in_features=512, out_features=512, bias=True)\n",
       ")"
      ]
     },
     "execution_count": 6,
     "metadata": {},
     "output_type": "execute_result"
    }
   ],
   "source": [
    "#note that these params are simply obtained from trial and error; I got no theory to back up why I use certain numbers here...\n",
    "input_dim     = 32 #we got 32 EEG channels\n",
    "hidden_dim    = 256 #let's define hidden dim as 256\n",
    "num_layers    = 2  #we gonna have two LSTM layers\n",
    "output_dim    = 1  #we got 2 classes for our labels\n",
    "bidirectional = True  #uses bidirectional LSTM\n",
    "dropout       = 0.5  #setting dropout to 0.5\n",
    "len_reduction = 'sum' #try sum or last\n",
    "\n",
    "#define the model\n",
    "model = Conv1D_LSTM_SelfAttention(input_dim, hidden_dim, num_layers, output_dim, bidirectional, dropout, len_reduction)\n",
    "\n",
    "#send to cuda so we can use the GPU\n",
    "model = model.to(device)  \n",
    "\n",
    "#apply weights\n",
    "model.apply(initialize_weights)"
   ]
  },
  {
   "cell_type": "markdown",
   "metadata": {},
   "source": [
    "**Param count**: Let's also check the number of parameters used"
   ]
  },
  {
   "cell_type": "code",
   "execution_count": 7,
   "metadata": {},
   "outputs": [
    {
     "name": "stdout",
     "output_type": "stream",
     "text": [
      "The model Conv1D_LSTM_SelfAttention has 3,090,529 trainable parameters\n"
     ]
    }
   ],
   "source": [
    "print(f'The model {type(model).__name__} has {count_parameters(model):,} trainable parameters')# Train the model"
   ]
  },
  {
   "cell_type": "markdown",
   "metadata": {},
   "source": [
    "**Unit test**: Let's define a simple unit test, inputing some mock EEG data and see whether we got the desired output as 4 classes."
   ]
  },
  {
   "cell_type": "code",
   "execution_count": 8,
   "metadata": {},
   "outputs": [
    {
     "name": "stdout",
     "output_type": "stream",
     "text": [
      "Prediction shape:  torch.Size([2, 1])\n",
      "Predictions:  tensor([[39.0355],\n",
      "        [40.5299]], device='cuda:0', grad_fn=<AddmmBackward>)\n"
     ]
    }
   ],
   "source": [
    "mock_batch_size = 2    #in real training, we use 32\n",
    "mock_input_dim  = 32   #in real data, ours is 32 channels\n",
    "mock_seq_len    = 8064 #in real data, ours is 8064\n",
    "\n",
    "#note that our model first layer is conv1d which expects (batch, channel, seq len)\n",
    "mock_eegdata = torch.rand(mock_batch_size, mock_input_dim, mock_seq_len).to(device)\n",
    "\n",
    "#let's try run the model by simply inserting the mockdata into the model; very similar to .fit\n",
    "predictions = model(mock_eegdata)\n",
    "\n",
    "#let's try to see the predictions whether it really outputs 2 unique classes - 0 and 1\n",
    "print(\"Prediction shape: \", predictions.shape)\n",
    "print(\"Predictions: \", predictions)\n",
    "\n",
    "#simple unit test\n",
    "assert predictions.shape[0] == mock_batch_size\n",
    "assert predictions.shape[1] == output_dim"
   ]
  },
  {
   "cell_type": "markdown",
   "metadata": {},
   "source": [
    "## 3. Training"
   ]
  },
  {
   "cell_type": "markdown",
   "metadata": {
    "tags": []
   },
   "source": [
    "### I. Batch Iterators\n",
    "\n",
    "To make it easier to manage, I have put this into our <code>components/helper.py</code>."
   ]
  },
  {
   "cell_type": "code",
   "execution_count": 9,
   "metadata": {},
   "outputs": [
    {
     "name": "stdout",
     "output_type": "stream",
     "text": [
      "Full Dataset size:  15360\n",
      "Train Dataset size: 10752\n",
      "Valid Dataset size: 3072\n",
      "Test Dataset size:  1536\n",
      "\n"
     ]
    }
   ],
   "source": [
    "train_loader, val_loader, test_loader = getLoaders(dataset=dataset, batch_size=16)"
   ]
  },
  {
   "cell_type": "markdown",
   "metadata": {},
   "source": [
    "### II. Optimizers\n",
    "\n",
    "Optimizer simply refers to the one that gonna take care of the backpropagation process.  The commonly used optimizer is SGD and Adam, both are quite interchangeable.  Here we gonna use Adam.  In order to backpropagate, we gonna define a loss function using cross entropy loss, which is a common loss function for multi-class purposes."
   ]
  },
  {
   "cell_type": "code",
   "execution_count": 10,
   "metadata": {},
   "outputs": [],
   "source": [
    "import torch.optim as optim\n",
    "\n",
    "num_epochs = 50\n",
    "\n",
    "lr = 0.0001\n",
    "\n",
    "#can also try SGD which should not make too much of a difference\n",
    "optimizer = optim.Adam(model.parameters(), lr=lr) \n",
    "\n",
    "#combine sigmoid with binary entropy; binary entropy is used for binary classification\n",
    "criterion = nn.BCEWithLogitsLoss() "
   ]
  },
  {
   "cell_type": "markdown",
   "metadata": {
    "tags": []
   },
   "source": [
    "### III. Let's train!"
   ]
  },
  {
   "cell_type": "code",
   "execution_count": 11,
   "metadata": {},
   "outputs": [
    {
     "name": "stdout",
     "output_type": "stream",
     "text": [
      "Epoch: 01 | Epoch Time: 0m 28s\n",
      "\t Train Loss: 0.859 | Train Acc: 53.81%\n",
      "\t Val. Loss: 0.685  |  Val. Acc: 58.17%\n",
      "Epoch: 02 | Epoch Time: 0m 29s\n",
      "\t Train Loss: 0.680 | Train Acc: 60.88%\n",
      "\t Val. Loss: 0.615  |  Val. Acc: 64.97%\n",
      "Epoch: 03 | Epoch Time: 0m 29s\n",
      "\t Train Loss: 0.617 | Train Acc: 66.98%\n",
      "\t Val. Loss: 0.617  |  Val. Acc: 68.75%\n",
      "Epoch: 04 | Epoch Time: 0m 29s\n",
      "\t Train Loss: 0.542 | Train Acc: 73.11%\n",
      "\t Val. Loss: 0.525  |  Val. Acc: 74.54%\n",
      "Epoch: 05 | Epoch Time: 0m 29s\n",
      "\t Train Loss: 0.461 | Train Acc: 78.06%\n",
      "\t Val. Loss: 0.493  |  Val. Acc: 76.79%\n",
      "Epoch: 06 | Epoch Time: 0m 29s\n",
      "\t Train Loss: 0.409 | Train Acc: 81.68%\n",
      "\t Val. Loss: 0.531  |  Val. Acc: 77.80%\n",
      "Epoch: 07 | Epoch Time: 0m 29s\n",
      "\t Train Loss: 0.351 | Train Acc: 83.98%\n",
      "\t Val. Loss: 0.386  |  Val. Acc: 83.27%\n",
      "Epoch: 08 | Epoch Time: 0m 29s\n",
      "\t Train Loss: 0.273 | Train Acc: 88.26%\n",
      "\t Val. Loss: 0.503  |  Val. Acc: 81.15%\n",
      "Epoch: 09 | Epoch Time: 0m 29s\n",
      "\t Train Loss: 0.251 | Train Acc: 89.69%\n",
      "\t Val. Loss: 0.375  |  Val. Acc: 86.36%\n",
      "Epoch: 10 | Epoch Time: 0m 28s\n",
      "\t Train Loss: 0.228 | Train Acc: 90.85%\n",
      "\t Val. Loss: 0.540  |  Val. Acc: 77.54%\n",
      "Epoch: 11 | Epoch Time: 0m 28s\n",
      "\t Train Loss: 0.184 | Train Acc: 92.96%\n",
      "\t Val. Loss: 0.484  |  Val. Acc: 84.31%\n",
      "Epoch: 12 | Epoch Time: 0m 29s\n",
      "\t Train Loss: 0.185 | Train Acc: 92.53%\n",
      "\t Val. Loss: 0.330  |  Val. Acc: 88.31%\n",
      "Epoch: 13 | Epoch Time: 0m 29s\n",
      "\t Train Loss: 0.154 | Train Acc: 94.11%\n",
      "\t Val. Loss: 0.338  |  Val. Acc: 87.21%\n",
      "Epoch: 14 | Epoch Time: 0m 29s\n",
      "\t Train Loss: 0.146 | Train Acc: 94.37%\n",
      "\t Val. Loss: 0.398  |  Val. Acc: 85.42%\n",
      "Epoch: 15 | Epoch Time: 0m 29s\n",
      "\t Train Loss: 0.124 | Train Acc: 95.29%\n",
      "\t Val. Loss: 0.289  |  Val. Acc: 89.36%\n",
      "Epoch: 16 | Epoch Time: 0m 29s\n",
      "\t Train Loss: 0.112 | Train Acc: 95.90%\n",
      "\t Val. Loss: 0.342  |  Val. Acc: 87.21%\n",
      "Epoch: 17 | Epoch Time: 0m 29s\n",
      "\t Train Loss: 0.112 | Train Acc: 95.96%\n",
      "\t Val. Loss: 0.264  |  Val. Acc: 90.23%\n",
      "Epoch: 18 | Epoch Time: 0m 29s\n",
      "\t Train Loss: 0.088 | Train Acc: 96.71%\n",
      "\t Val. Loss: 0.653  |  Val. Acc: 81.54%\n",
      "Epoch: 19 | Epoch Time: 0m 29s\n",
      "\t Train Loss: 0.102 | Train Acc: 96.11%\n",
      "\t Val. Loss: 0.321  |  Val. Acc: 89.26%\n",
      "Epoch: 20 | Epoch Time: 0m 29s\n",
      "\t Train Loss: 0.083 | Train Acc: 96.87%\n",
      "\t Val. Loss: 0.349  |  Val. Acc: 89.26%\n",
      "Epoch: 21 | Epoch Time: 0m 29s\n",
      "\t Train Loss: 0.070 | Train Acc: 97.27%\n",
      "\t Val. Loss: 0.460  |  Val. Acc: 86.91%\n",
      "Epoch: 22 | Epoch Time: 0m 29s\n",
      "\t Train Loss: 0.097 | Train Acc: 96.59%\n",
      "\t Val. Loss: 0.301  |  Val. Acc: 91.21%\n",
      "Epoch: 23 | Epoch Time: 0m 29s\n",
      "\t Train Loss: 0.066 | Train Acc: 97.48%\n",
      "\t Val. Loss: 0.249  |  Val. Acc: 91.44%\n",
      "Epoch: 24 | Epoch Time: 0m 29s\n",
      "\t Train Loss: 0.062 | Train Acc: 97.86%\n",
      "\t Val. Loss: 0.283  |  Val. Acc: 90.10%\n",
      "Epoch: 25 | Epoch Time: 0m 29s\n",
      "\t Train Loss: 0.094 | Train Acc: 96.74%\n",
      "\t Val. Loss: 0.279  |  Val. Acc: 88.44%\n",
      "Epoch: 26 | Epoch Time: 0m 29s\n",
      "\t Train Loss: 0.074 | Train Acc: 97.29%\n",
      "\t Val. Loss: 0.268  |  Val. Acc: 91.63%\n",
      "Epoch: 27 | Epoch Time: 0m 29s\n",
      "\t Train Loss: 0.069 | Train Acc: 97.62%\n",
      "\t Val. Loss: 0.239  |  Val. Acc: 91.76%\n",
      "Epoch: 28 | Epoch Time: 0m 29s\n",
      "\t Train Loss: 0.052 | Train Acc: 98.29%\n",
      "\t Val. Loss: 0.198  |  Val. Acc: 91.73%\n",
      "Epoch: 29 | Epoch Time: 0m 29s\n",
      "\t Train Loss: 0.068 | Train Acc: 97.69%\n",
      "\t Val. Loss: 0.311  |  Val. Acc: 91.24%\n",
      "Epoch: 30 | Epoch Time: 0m 29s\n",
      "\t Train Loss: 0.052 | Train Acc: 98.28%\n",
      "\t Val. Loss: 0.313  |  Val. Acc: 90.66%\n",
      "Epoch: 31 | Epoch Time: 0m 29s\n",
      "\t Train Loss: 0.070 | Train Acc: 97.60%\n",
      "\t Val. Loss: 0.365  |  Val. Acc: 89.97%\n",
      "Epoch: 32 | Epoch Time: 0m 29s\n",
      "\t Train Loss: 0.061 | Train Acc: 97.77%\n",
      "\t Val. Loss: 0.289  |  Val. Acc: 91.57%\n",
      "Epoch: 33 | Epoch Time: 0m 29s\n",
      "\t Train Loss: 0.063 | Train Acc: 97.82%\n",
      "\t Val. Loss: 0.232  |  Val. Acc: 91.60%\n",
      "Epoch: 34 | Epoch Time: 0m 29s\n",
      "\t Train Loss: 0.058 | Train Acc: 98.11%\n",
      "\t Val. Loss: 0.278  |  Val. Acc: 91.70%\n",
      "Epoch: 35 | Epoch Time: 0m 29s\n",
      "\t Train Loss: 0.046 | Train Acc: 98.40%\n",
      "\t Val. Loss: 0.375  |  Val. Acc: 90.23%\n",
      "Epoch: 36 | Epoch Time: 0m 29s\n",
      "\t Train Loss: 0.043 | Train Acc: 98.34%\n",
      "\t Val. Loss: 0.252  |  Val. Acc: 91.83%\n",
      "Epoch: 37 | Epoch Time: 0m 29s\n",
      "\t Train Loss: 0.051 | Train Acc: 98.16%\n",
      "\t Val. Loss: 0.259  |  Val. Acc: 91.41%\n",
      "Epoch: 38 | Epoch Time: 0m 29s\n",
      "\t Train Loss: 0.074 | Train Acc: 97.56%\n",
      "\t Val. Loss: 0.223  |  Val. Acc: 92.42%\n",
      "Epoch: 39 | Epoch Time: 0m 29s\n",
      "\t Train Loss: 0.043 | Train Acc: 98.70%\n",
      "\t Val. Loss: 0.243  |  Val. Acc: 92.22%\n",
      "Epoch: 40 | Epoch Time: 0m 29s\n",
      "\t Train Loss: 0.027 | Train Acc: 99.11%\n",
      "\t Val. Loss: 0.213  |  Val. Acc: 93.85%\n",
      "Epoch: 41 | Epoch Time: 0m 29s\n",
      "\t Train Loss: 0.033 | Train Acc: 98.96%\n",
      "\t Val. Loss: 0.240  |  Val. Acc: 92.32%\n",
      "Epoch: 42 | Epoch Time: 0m 29s\n",
      "\t Train Loss: 0.043 | Train Acc: 98.48%\n",
      "\t Val. Loss: 0.367  |  Val. Acc: 88.44%\n",
      "Epoch: 43 | Epoch Time: 0m 29s\n",
      "\t Train Loss: 0.035 | Train Acc: 98.83%\n",
      "\t Val. Loss: 0.332  |  Val. Acc: 91.93%\n",
      "Epoch: 44 | Epoch Time: 0m 29s\n",
      "\t Train Loss: 0.034 | Train Acc: 98.91%\n",
      "\t Val. Loss: 0.244  |  Val. Acc: 91.57%\n",
      "Epoch: 45 | Epoch Time: 0m 28s\n",
      "\t Train Loss: 0.037 | Train Acc: 98.72%\n",
      "\t Val. Loss: 0.350  |  Val. Acc: 89.26%\n",
      "Epoch: 46 | Epoch Time: 0m 29s\n",
      "\t Train Loss: 0.043 | Train Acc: 98.56%\n",
      "\t Val. Loss: 0.272  |  Val. Acc: 90.27%\n",
      "Epoch: 47 | Epoch Time: 0m 29s\n",
      "\t Train Loss: 0.038 | Train Acc: 98.85%\n",
      "\t Val. Loss: 0.367  |  Val. Acc: 90.04%\n",
      "Epoch: 48 | Epoch Time: 0m 29s\n",
      "\t Train Loss: 0.071 | Train Acc: 97.68%\n",
      "\t Val. Loss: 0.466  |  Val. Acc: 90.30%\n",
      "Epoch: 49 | Epoch Time: 0m 29s\n",
      "\t Train Loss: 0.037 | Train Acc: 98.80%\n",
      "\t Val. Loss: 0.346  |  Val. Acc: 90.46%\n",
      "Epoch: 50 | Epoch Time: 0m 29s\n",
      "\t Train Loss: 0.033 | Train Acc: 98.76%\n",
      "\t Val. Loss: 0.319  |  Val. Acc: 90.14%\n"
     ]
    }
   ],
   "source": [
    "model_saved_name = \"models/DEAP_CNN_BiLSTM_SelfAttention_sum.pt\"\n",
    "\n",
    "#trainer(num_epochs, model, train_loader, val_loader, optimizer, criterion, model_name, device, seq_len_first=False)\n",
    "train_losses, valid_losses, train_accs, valid_accs = train(num_epochs, model, train_loader, val_loader, optimizer, criterion, model_saved_name, device)"
   ]
  },
  {
   "cell_type": "code",
   "execution_count": 12,
   "metadata": {},
   "outputs": [
    {
     "data": {
      "image/png": "[encoded data removed]",
      "text/plain": [
       "<Figure size 720x432 with 1 Axes>"
      ]
     },
     "metadata": {
      "needs_background": "light"
     },
     "output_type": "display_data"
    },
    {
     "data": {
      "image/png": "[encoded data removed]",
      "text/plain": [
       "<Figure size 720x432 with 1 Axes>"
      ]
     },
     "metadata": {
      "needs_background": "light"
     },
     "output_type": "display_data"
    }
   ],
   "source": [
    "plot_performance(train_losses, valid_losses, \"loss\")\n",
    "plot_performance(train_accs, valid_accs, \"acc\")"
   ]
  },
  {
   "cell_type": "markdown",
   "metadata": {},
   "source": [
    "## 4. Evaluation on test set"
   ]
  },
  {
   "cell_type": "code",
   "execution_count": 13,
   "metadata": {},
   "outputs": [
    {
     "name": "stdout",
     "output_type": "stream",
     "text": [
      "Test Loss: 0.244 | Test Acc: 91.34%\n"
     ]
    }
   ],
   "source": [
    "model.load_state_dict(torch.load(model_saved_name))\n",
    "test_loss, test_acc = evaluate(model, test_loader, criterion, device)\n",
    "\n",
    "print(f'Test Loss: {test_loss:.3f} | Test Acc: {test_acc*100:.2f}%')"
   ]
  },
  {
   "cell_type": "markdown",
   "metadata": {},
   "source": [
    "## Final Verdict\n",
    "\n"
   ]
  },
  {
   "cell_type": "markdown",
   "metadata": {},
   "source": [
    "Hmm....slight improvement.  Let's try one more len_reduction."
   ]
  }
 ],
 "metadata": {
  "kernelspec": {
   "display_name": "Python 3",
   "language": "python",
   "name": "python3"
  },
  "language_info": {
   "codemirror_mode": {
    "name": "ipython",
    "version": 3
   },
   "file_extension": ".py",
   "mimetype": "text/x-python",
   "name": "python",
   "nbconvert_exporter": "python",
   "pygments_lexer": "ipython3",
   "version": "3.8.10"
  }
 },
 "nbformat": 4,
 "nbformat_minor": 5
}
