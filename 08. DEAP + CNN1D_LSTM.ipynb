{
 "cells": [
  {
   "cell_type": "markdown",
   "metadata": {},
   "source": [
    "# Part 7. DEAP Dataset + CNN1D_LSTM\n",
    "\n",
    "In this part 7, we shall try to improve the previous part by adding CNN1D before taking LSTM, since CNN1D helps us smoothen the signal.  Consequently, these signals are much smaller in sequence length thus can drastically increase the speed of training. (it is like taking moving average, instead of using raw data).   Also, since these convoluted signals are not only a single point of samples, inputting into LSTM will lead to much greater accuracies.\n",
    "\n",
    "**Note**: Also we will be doing some refactoring, and move some of the repeating components into python file, so that it is easier to manage and do not clutter our notebooks.   All python files are kept in the <code>components</code> folder.\n",
    "\n",
    "*Note that we will be only predicting the valence.  Feel free to work on the arousal yourself.*\n",
    "\n",
    "In this part, most of the code will be the same except 2 Defining Model."
   ]
  },
  {
   "cell_type": "code",
   "execution_count": 1,
   "metadata": {},
   "outputs": [],
   "source": [
    "import torch\n",
    "import torch.nn as nn\n",
    "import torch.nn.functional as F\n",
    "\n",
    "# setting seed so that splitting process and training process can be reproduce\n",
    "torch.manual_seed(1)\n",
    "\n",
    "import numpy as np\n",
    "\n",
    "#refactoring components\n",
    "#maybe you want to take a look at these components, because we will be using them in the future series\n",
    "from components.dataset import Dataset\n",
    "from components.helper import getLoaders, count_parameters, plot_performance\n",
    "from components.train import train, evaluate, initialize_weights"
   ]
  },
  {
   "cell_type": "markdown",
   "metadata": {},
   "source": [
    "Set cuda accordingly."
   ]
  },
  {
   "cell_type": "code",
   "execution_count": 2,
   "metadata": {},
   "outputs": [
    {
     "name": "stdout",
     "output_type": "stream",
     "text": [
      "Configured device:  cuda\n"
     ]
    }
   ],
   "source": [
    "device = torch.device('cuda' if torch.cuda.is_available() else 'cpu')\n",
    "print(\"Configured device: \", device)"
   ]
  },
  {
   "cell_type": "markdown",
   "metadata": {},
   "source": [
    "## 1. Loading dataset\n",
    "\n",
    "Let's first reuse the dataset loader we have created in Part 1."
   ]
  },
  {
   "cell_type": "code",
   "execution_count": 3,
   "metadata": {},
   "outputs": [],
   "source": [
    "path = \"data\"  #create a folder \"data\", and inside put s01.dat,....,s32.dat inside from the preprocessed folder from the DEAP dataset"
   ]
  },
  {
   "cell_type": "code",
   "execution_count": 4,
   "metadata": {
    "tags": []
   },
   "outputs": [
    {
     "name": "stdout",
     "output_type": "stream",
     "text": [
      "Data shape:  torch.Size([15360, 32, 672])\n",
      "Label shape:  torch.Size([15360, 1])\n"
     ]
    }
   ],
   "source": [
    "dataset = Dataset(path, \"Valence\")\n",
    "\n",
    "data  = dataset[:]['data']\n",
    "label = dataset[:]['label']\n",
    "\n",
    "print(\"Data shape: \" , data.shape)  #15360 = 32 * 40 trials * 12 segments, 32 EEG channels, 672 samples\n",
    "print(\"Label shape: \", label.shape)  #two classes of valence"
   ]
  },
  {
   "cell_type": "markdown",
   "metadata": {
    "tags": []
   },
   "source": [
    "## 2. Defining the Model -> CNN1D_LSTM\n",
    "\n",
    "By applying CNN1D before LSTM, we are smoothening and downsampling the signals. Performing Conv1d can be easily done by using <code>nn.Conv1d</code>.\n",
    "\n",
    "Let's first look at how cnn1d process our mockdata.\n",
    "\n",
    "### I. Understanding CNN1D"
   ]
  },
  {
   "cell_type": "code",
   "execution_count": 5,
   "metadata": {},
   "outputs": [
    {
     "name": "stdout",
     "output_type": "stream",
     "text": [
      "torch.Size([2, 32, 8])\n"
     ]
    }
   ],
   "source": [
    "mock_batch_size = 2    #in real training, we use 32\n",
    "mock_input_dim  = 32   #in real data, ours is 32 channels\n",
    "mock_seq_len    = 10   #in real data, ours is 8064\n",
    "\n",
    "#note that conv1d wants shape of (batch size, channel, seq len), unlike LSTM which wants (batch size, seq len, channel)\n",
    "mock_eegdata = torch.rand(mock_batch_size, mock_input_dim, mock_seq_len).to(device)\n",
    "\n",
    "#define the layer\n",
    "conv1d = nn.Conv1d(mock_input_dim, mock_input_dim, kernel_size=3, stride=1).to(device)\n",
    "\n",
    "#execute\n",
    "conv_mock_eegdata = conv1d(mock_eegdata)\n",
    "\n",
    "print(conv_mock_eegdata.shape)"
   ]
  },
  {
   "cell_type": "markdown",
   "metadata": {},
   "source": [
    "As we can see, conv1d runs a window along each channel independently, where the window size is defined by the kernel size.  Imagine a block of 10 (i.e., seq_len=10), we define a window size of 3 that shift to the right one block at a time.  This process of convolution will give us a total of 8 values, thus the out_channel would become 8 after the convolution process.  (I recommend you to try draw it out).\n",
    "\n",
    "**Padding**: Since some block are not being used equally, we can also add padding to the left and right of this ten block by 1, such convolution will create out_channel to 10 after the convolution process"
   ]
  },
  {
   "cell_type": "code",
   "execution_count": 6,
   "metadata": {},
   "outputs": [
    {
     "name": "stdout",
     "output_type": "stream",
     "text": [
      "torch.Size([2, 32, 10])\n"
     ]
    }
   ],
   "source": [
    "#adding padding = 1 which adds a empty block on the left and right.\n",
    "conv1d = nn.Conv1d(mock_input_dim, mock_input_dim, kernel_size=3, stride=1, padding=1).to(device)\n",
    "conv_mock_eegdata = conv1d(mock_eegdata)\n",
    "print(conv_mock_eegdata.shape)"
   ]
  },
  {
   "cell_type": "markdown",
   "metadata": {},
   "source": [
    "**Stacking**: There is still one problem, i.e., if we use only kernel size of 3, only three nearby blocks will have some type of interactions.  To model longer-term dependencies, it is also possible to stack convolution layers, so to create some kind of interactions between block1 and farther blocks like block 8.  If you don't see why stacking allows longer-term dependencies, imagine drawing a tree of convolutions."
   ]
  },
  {
   "cell_type": "code",
   "execution_count": 7,
   "metadata": {},
   "outputs": [
    {
     "name": "stdout",
     "output_type": "stream",
     "text": [
      "torch.Size([2, 32, 10])\n"
     ]
    }
   ],
   "source": [
    "conv1d = nn.Conv1d(mock_input_dim, mock_input_dim, kernel_size=3, stride=1, padding=1).to(device)\n",
    "\n",
    "#defining three layers of convolution\n",
    "conv_mock_eegdata = conv1d(mock_eegdata)\n",
    "conv_mock_eegdata = conv1d(conv_mock_eegdata)\n",
    "\n",
    "print(conv_mock_eegdata.shape)"
   ]
  },
  {
   "cell_type": "markdown",
   "metadata": {},
   "source": [
    "**Batch norm**: Always recommended to add normalization after convolution and before activation"
   ]
  },
  {
   "cell_type": "code",
   "execution_count": 8,
   "metadata": {},
   "outputs": [
    {
     "name": "stdout",
     "output_type": "stream",
     "text": [
      "torch.Size([2, 32, 10])\n"
     ]
    }
   ],
   "source": [
    "#define a norm layer with param as the input channel\n",
    "norm = nn.BatchNorm1d(mock_input_dim).to(device)\n",
    "\n",
    "conv1d = nn.Conv1d(mock_input_dim, mock_input_dim, kernel_size=3, stride=1, padding=1).to(device)\n",
    "\n",
    "#adding normalization\n",
    "conv_mock_eegdata = norm(conv1d(mock_eegdata))\n",
    "conv_mock_eegdata = norm(conv1d(conv_mock_eegdata))\n",
    "     \n",
    "print(conv_mock_eegdata.shape)"
   ]
  },
  {
   "cell_type": "markdown",
   "metadata": {},
   "source": [
    "**Activations**: Add some activation to add some non-linearities"
   ]
  },
  {
   "cell_type": "code",
   "execution_count": 9,
   "metadata": {},
   "outputs": [
    {
     "name": "stdout",
     "output_type": "stream",
     "text": [
      "torch.Size([2, 32, 10])\n"
     ]
    }
   ],
   "source": [
    "#define a norm layer with param as the input channel\n",
    "norm = nn.BatchNorm1d(mock_input_dim).to(device)\n",
    "\n",
    "conv1d = nn.Conv1d(mock_input_dim, mock_input_dim, kernel_size=3, stride=1, padding=1).to(device)\n",
    "\n",
    "#adding normalization\n",
    "conv_mock_eegdata = F.relu(norm(conv1d(mock_eegdata)))\n",
    "conv_mock_eegdata = F.relu(norm(conv1d(conv_mock_eegdata)))\n",
    "     \n",
    "print(conv_mock_eegdata.shape)"
   ]
  },
  {
   "cell_type": "markdown",
   "metadata": {},
   "source": [
    "**Pooling**: Last, to smoothen out noise and obtain a simpler representations, we can use maxpooling, which takes the peak of each window."
   ]
  },
  {
   "cell_type": "code",
   "execution_count": 10,
   "metadata": {},
   "outputs": [
    {
     "name": "stdout",
     "output_type": "stream",
     "text": [
      "torch.Size([2, 32, 3])\n"
     ]
    }
   ],
   "source": [
    "#define a norm layer with param as the input channel\n",
    "norm = nn.BatchNorm1d(mock_input_dim).to(device)\n",
    "\n",
    "conv1d = nn.Conv1d(mock_input_dim, mock_input_dim, kernel_size=3, stride=1, padding=1).to(device)\n",
    "\n",
    "#adding pooling\n",
    "conv_mock_eegdata = F.max_pool1d(F.relu(norm(conv1d(mock_eegdata))), kernel_size=3)\n",
    "                                     \n",
    "print(conv_mock_eegdata.shape)  #takes every three blocks and max.  Thus from 10, it becomes 3, ignoring the last block."
   ]
  },
  {
   "cell_type": "markdown",
   "metadata": {},
   "source": [
    "### II. Let's define the model"
   ]
  },
  {
   "cell_type": "code",
   "execution_count": 11,
   "metadata": {},
   "outputs": [],
   "source": [
    "class Conv1D_LSTM(nn.Module):\n",
    "    '''\n",
    "    Expected Input Shape: (batch, channels, seq_len)  <==what conv1d wants\n",
    "    '''\n",
    "    def __init__(self, input_dim, hidden_dim, num_layers, output_dim, bidirectional, dropout):\n",
    "        super(Conv1D_LSTM, self).__init__()\n",
    "        self.conv1d = nn.Conv1d(input_dim, input_dim, kernel_size=128, stride=1, padding=1)\n",
    "        self.norm = nn.BatchNorm1d(input_dim)\n",
    "        self.lstm = nn.LSTM(input_dim, \n",
    "                           hidden_dim, \n",
    "                           num_layers=num_layers, \n",
    "                           bidirectional=bidirectional, \n",
    "                           dropout=dropout,\n",
    "                           batch_first=True)\n",
    "        self.fc = nn.Linear(hidden_dim * num_layers, output_dim)\n",
    "        \n",
    "    def forward(self, x):\n",
    "        # conv1d expects (batch, channels, seq_len)\n",
    "        # should not try too big a kernel size, which could lead to too much information loss\n",
    "        x = F.max_pool1d(F.relu(self.norm(self.conv1d(x))), kernel_size=3)\n",
    "        x = F.max_pool1d(F.relu(self.norm(self.conv1d(x))), kernel_size=3)\n",
    "\n",
    "        # change to (batch, seq_len, channels) because lstm expects\n",
    "        x = x.permute(0,2,1)\n",
    "        \n",
    "        #x = [batch size, seq len, channels]\n",
    "        out, (hn, cn) = self.lstm(x)\n",
    "        \n",
    "        #out = [batch size, seq len, hidden dim * num directions]        \n",
    "        #hn = [num layers * num directions, batch size, hidden dim]\n",
    "        #cn = [num layers * num directions, batch size, hidden dim]\n",
    "        \n",
    "        #concat the final forward (hidden[-2,:,:]) and backward (hidden[-1,:,:]) hidden layers\n",
    "        hn = torch.cat((hn[-2,:,:], hn[-1,:,:]), dim = 1)\n",
    "        #hn = [batch size, hidden dim * num directions]\n",
    "        \n",
    "        return self.fc(hn)"
   ]
  },
  {
   "cell_type": "markdown",
   "metadata": {},
   "source": [
    "**Model init**: Let's init the class instance and create a workabout model."
   ]
  },
  {
   "cell_type": "code",
   "execution_count": 12,
   "metadata": {},
   "outputs": [
    {
     "data": {
      "text/plain": [
       "Conv1D_LSTM(\n",
       "  (conv1d): Conv1d(32, 32, kernel_size=(128,), stride=(1,), padding=(1,))\n",
       "  (norm): BatchNorm1d(32, eps=1e-05, momentum=0.1, affine=True, track_running_stats=True)\n",
       "  (lstm): LSTM(32, 256, num_layers=2, batch_first=True, dropout=0.5, bidirectional=True)\n",
       "  (fc): Linear(in_features=512, out_features=1, bias=True)\n",
       ")"
      ]
     },
     "execution_count": 12,
     "metadata": {},
     "output_type": "execute_result"
    }
   ],
   "source": [
    "#note that these params are simply obtained from trial and error; I got no theory to back up why I use certain numbers here...\n",
    "input_dim     = 32 #we got 32 EEG channels\n",
    "hidden_dim    = 256 #let's define hidden dim as 256\n",
    "num_layers    = 2  #we gonna have two LSTM layers\n",
    "output_dim    = 1  #we got 4 classes for our labels\n",
    "bidirectional = True  #uses bidirectional LSTM\n",
    "dropout       = 0.5  #setting dropout to 0.5\n",
    "\n",
    "#define the model\n",
    "model = Conv1D_LSTM(input_dim, hidden_dim, num_layers, output_dim, bidirectional, dropout)\n",
    "\n",
    "#send to cuda so we can use the GPU\n",
    "model = model.to(device)  \n",
    "\n",
    "#apply weights\n",
    "model.apply(initialize_weights)"
   ]
  },
  {
   "cell_type": "markdown",
   "metadata": {},
   "source": [
    "**Param count**: Let's also check the number of parameters used"
   ]
  },
  {
   "cell_type": "code",
   "execution_count": 13,
   "metadata": {},
   "outputs": [
    {
     "name": "stdout",
     "output_type": "stream",
     "text": [
      "The model Conv1D_LSTM has 2,302,561 trainable parameters\n"
     ]
    }
   ],
   "source": [
    "print(f'The model {type(model).__name__} has {count_parameters(model):,} trainable parameters')# Train the model"
   ]
  },
  {
   "cell_type": "markdown",
   "metadata": {},
   "source": [
    "**Unit test**: Let's define a simple unit test, inputing some mock EEG data and see whether we got the desired output as 4 classes."
   ]
  },
  {
   "cell_type": "code",
   "execution_count": 14,
   "metadata": {},
   "outputs": [
    {
     "name": "stdout",
     "output_type": "stream",
     "text": [
      "Prediction shape:  torch.Size([2, 1])\n",
      "Predictions:  tensor([[-0.0144],\n",
      "        [ 0.0184]], device='cuda:0', grad_fn=<AddmmBackward>)\n"
     ]
    }
   ],
   "source": [
    "mock_batch_size = 2    #in real training, we use 32\n",
    "mock_input_dim  = 32   #in real data, ours is 32 channels\n",
    "mock_seq_len    = 8064 #in real data, ours is 8064\n",
    "\n",
    "#note that our model first layer is conv1d which expects (batch, channel, seq len)\n",
    "mock_eegdata = torch.rand(mock_batch_size, mock_input_dim, mock_seq_len).to(device)\n",
    "\n",
    "#let's try run the model by simply inserting the mockdata into the model; very similar to .fit\n",
    "predictions = model(mock_eegdata)\n",
    "\n",
    "#let's try to see the predictions whether it really outputs 2 unique classes - 0 and 1\n",
    "print(\"Prediction shape: \", predictions.shape)\n",
    "print(\"Predictions: \", predictions)\n",
    "\n",
    "#simple unit test\n",
    "assert predictions.shape[0] == mock_batch_size\n",
    "assert predictions.shape[1] == output_dim"
   ]
  },
  {
   "cell_type": "markdown",
   "metadata": {},
   "source": [
    "## 3. Training"
   ]
  },
  {
   "cell_type": "markdown",
   "metadata": {
    "tags": []
   },
   "source": [
    "### I. Batch Iterators\n",
    "\n",
    "To make it easier to manage, I have put this into our <code>components/helper.py</code>."
   ]
  },
  {
   "cell_type": "code",
   "execution_count": 15,
   "metadata": {},
   "outputs": [
    {
     "name": "stdout",
     "output_type": "stream",
     "text": [
      "Full Dataset size:  15360\n",
      "Train Dataset size: 10752\n",
      "Valid Dataset size: 3072\n",
      "Test Dataset size:  1536\n",
      "\n"
     ]
    }
   ],
   "source": [
    "train_loader, val_loader, test_loader = getLoaders(dataset=dataset, batch_size=16)"
   ]
  },
  {
   "cell_type": "markdown",
   "metadata": {},
   "source": [
    "### II. Optimizers\n",
    "\n",
    "Optimizer simply refers to the one that gonna take care of the backpropagation process.  The commonly used optimizer is SGD and Adam, both are quite interchangeable.  Here we gonna use Adam.  In order to backpropagate, we gonna define a loss function using cross entropy loss, which is a common loss function for multi-class purposes."
   ]
  },
  {
   "cell_type": "code",
   "execution_count": 16,
   "metadata": {},
   "outputs": [],
   "source": [
    "import torch.optim as optim\n",
    "\n",
    "num_epochs = 50\n",
    "\n",
    "lr = 0.0001\n",
    "\n",
    "#can also try SGD which should not make too much of a difference\n",
    "optimizer = optim.Adam(model.parameters(), lr=lr) \n",
    "\n",
    "#combine sigmoid with binary entropy; binary entropy is used for binary classification\n",
    "criterion = nn.BCEWithLogitsLoss() "
   ]
  },
  {
   "cell_type": "markdown",
   "metadata": {
    "tags": []
   },
   "source": [
    "### III. Let's train!\n",
    "\n",
    "Nothing much but simply run the training functions!"
   ]
  },
  {
   "cell_type": "code",
   "execution_count": 17,
   "metadata": {},
   "outputs": [
    {
     "name": "stdout",
     "output_type": "stream",
     "text": [
      "Epoch: 01 | Epoch Time: 0m 9s\n",
      "\t Train Loss: 0.674 | Train Acc: 57.65%\n",
      "\t Val. Loss: 0.686  |  Val. Acc: 57.62%\n",
      "Epoch: 02 | Epoch Time: 0m 7s\n",
      "\t Train Loss: 0.414 | Train Acc: 79.88%\n",
      "\t Val. Loss: 0.648  |  Val. Acc: 62.79%\n",
      "Epoch: 03 | Epoch Time: 0m 7s\n",
      "\t Train Loss: 0.136 | Train Acc: 94.75%\n",
      "\t Val. Loss: 0.578  |  Val. Acc: 82.39%\n",
      "Epoch: 04 | Epoch Time: 0m 9s\n",
      "\t Train Loss: 0.046 | Train Acc: 98.44%\n",
      "\t Val. Loss: 0.577  |  Val. Acc: 86.59%\n",
      "Epoch: 05 | Epoch Time: 0m 6s\n",
      "\t Train Loss: 0.033 | Train Acc: 99.00%\n",
      "\t Val. Loss: 0.560  |  Val. Acc: 83.14%\n",
      "Epoch: 06 | Epoch Time: 0m 7s\n",
      "\t Train Loss: 0.019 | Train Acc: 99.46%\n",
      "\t Val. Loss: 0.555  |  Val. Acc: 88.41%\n",
      "Epoch: 07 | Epoch Time: 0m 8s\n",
      "\t Train Loss: 0.025 | Train Acc: 99.18%\n",
      "\t Val. Loss: 0.559  |  Val. Acc: 86.23%\n",
      "Epoch: 08 | Epoch Time: 0m 8s\n",
      "\t Train Loss: 0.024 | Train Acc: 99.14%\n",
      "\t Val. Loss: 0.563  |  Val. Acc: 73.54%\n",
      "Epoch: 09 | Epoch Time: 0m 7s\n",
      "\t Train Loss: 0.019 | Train Acc: 99.32%\n",
      "\t Val. Loss: 0.509  |  Val. Acc: 86.91%\n",
      "Epoch: 10 | Epoch Time: 0m 8s\n",
      "\t Train Loss: 0.015 | Train Acc: 99.53%\n",
      "\t Val. Loss: 0.516  |  Val. Acc: 90.30%\n",
      "Epoch: 11 | Epoch Time: 0m 7s\n",
      "\t Train Loss: 0.011 | Train Acc: 99.68%\n",
      "\t Val. Loss: 0.530  |  Val. Acc: 73.89%\n",
      "Epoch: 12 | Epoch Time: 0m 8s\n",
      "\t Train Loss: 0.017 | Train Acc: 99.47%\n",
      "\t Val. Loss: 0.561  |  Val. Acc: 86.65%\n",
      "Epoch: 13 | Epoch Time: 0m 7s\n",
      "\t Train Loss: 0.013 | Train Acc: 99.64%\n",
      "\t Val. Loss: 0.535  |  Val. Acc: 83.17%\n",
      "Epoch: 14 | Epoch Time: 0m 7s\n",
      "\t Train Loss: 0.009 | Train Acc: 99.71%\n",
      "\t Val. Loss: 0.481  |  Val. Acc: 81.58%\n",
      "Epoch: 15 | Epoch Time: 0m 9s\n",
      "\t Train Loss: 0.010 | Train Acc: 99.72%\n",
      "\t Val. Loss: 0.506  |  Val. Acc: 78.78%\n",
      "Epoch: 16 | Epoch Time: 0m 7s\n",
      "\t Train Loss: 0.012 | Train Acc: 99.66%\n",
      "\t Val. Loss: 0.435  |  Val. Acc: 90.40%\n",
      "Epoch: 17 | Epoch Time: 0m 7s\n",
      "\t Train Loss: 0.017 | Train Acc: 99.42%\n",
      "\t Val. Loss: 0.471  |  Val. Acc: 88.38%\n",
      "Epoch: 18 | Epoch Time: 0m 7s\n",
      "\t Train Loss: 0.014 | Train Acc: 99.64%\n",
      "\t Val. Loss: 0.465  |  Val. Acc: 89.55%\n",
      "Epoch: 19 | Epoch Time: 0m 8s\n",
      "\t Train Loss: 0.007 | Train Acc: 99.80%\n",
      "\t Val. Loss: 0.432  |  Val. Acc: 91.02%\n",
      "Epoch: 20 | Epoch Time: 0m 9s\n",
      "\t Train Loss: 0.010 | Train Acc: 99.78%\n",
      "\t Val. Loss: 0.443  |  Val. Acc: 87.79%\n",
      "Epoch: 21 | Epoch Time: 0m 9s\n",
      "\t Train Loss: 0.024 | Train Acc: 99.20%\n",
      "\t Val. Loss: 0.398  |  Val. Acc: 84.54%\n",
      "Epoch: 22 | Epoch Time: 0m 8s\n",
      "\t Train Loss: 0.006 | Train Acc: 99.79%\n",
      "\t Val. Loss: 0.416  |  Val. Acc: 89.52%\n",
      "Epoch: 23 | Epoch Time: 0m 8s\n",
      "\t Train Loss: 0.009 | Train Acc: 99.67%\n",
      "\t Val. Loss: 0.447  |  Val. Acc: 87.04%\n",
      "Epoch: 24 | Epoch Time: 0m 7s\n",
      "\t Train Loss: 0.008 | Train Acc: 99.69%\n",
      "\t Val. Loss: 0.414  |  Val. Acc: 88.05%\n",
      "Epoch: 25 | Epoch Time: 0m 8s\n",
      "\t Train Loss: 0.007 | Train Acc: 99.79%\n",
      "\t Val. Loss: 0.456  |  Val. Acc: 90.92%\n",
      "Epoch: 26 | Epoch Time: 0m 7s\n",
      "\t Train Loss: 0.005 | Train Acc: 99.85%\n",
      "\t Val. Loss: 0.445  |  Val. Acc: 91.50%\n",
      "Epoch: 27 | Epoch Time: 0m 7s\n",
      "\t Train Loss: 0.007 | Train Acc: 99.78%\n",
      "\t Val. Loss: 0.411  |  Val. Acc: 90.23%\n",
      "Epoch: 28 | Epoch Time: 0m 8s\n",
      "\t Train Loss: 0.012 | Train Acc: 99.66%\n",
      "\t Val. Loss: 0.433  |  Val. Acc: 91.63%\n",
      "Epoch: 29 | Epoch Time: 0m 8s\n",
      "\t Train Loss: 0.002 | Train Acc: 99.93%\n",
      "\t Val. Loss: 0.348  |  Val. Acc: 92.06%\n",
      "Epoch: 30 | Epoch Time: 0m 8s\n",
      "\t Train Loss: 0.000 | Train Acc: 100.00%\n",
      "\t Val. Loss: 0.328  |  Val. Acc: 92.02%\n",
      "Epoch: 31 | Epoch Time: 0m 7s\n",
      "\t Train Loss: 0.013 | Train Acc: 99.53%\n",
      "\t Val. Loss: 0.386  |  Val. Acc: 89.78%\n",
      "Epoch: 32 | Epoch Time: 0m 7s\n",
      "\t Train Loss: 0.010 | Train Acc: 99.72%\n",
      "\t Val. Loss: 0.416  |  Val. Acc: 87.73%\n",
      "Epoch: 33 | Epoch Time: 0m 7s\n",
      "\t Train Loss: 0.008 | Train Acc: 99.67%\n",
      "\t Val. Loss: 0.426  |  Val. Acc: 90.40%\n",
      "Epoch: 34 | Epoch Time: 0m 8s\n",
      "\t Train Loss: 0.009 | Train Acc: 99.73%\n",
      "\t Val. Loss: 0.488  |  Val. Acc: 72.01%\n",
      "Epoch: 35 | Epoch Time: 0m 8s\n",
      "\t Train Loss: 0.002 | Train Acc: 99.92%\n",
      "\t Val. Loss: 0.392  |  Val. Acc: 90.23%\n",
      "Epoch: 36 | Epoch Time: 0m 8s\n",
      "\t Train Loss: 0.006 | Train Acc: 99.89%\n",
      "\t Val. Loss: 0.422  |  Val. Acc: 83.53%\n",
      "Epoch: 37 | Epoch Time: 0m 8s\n",
      "\t Train Loss: 0.010 | Train Acc: 99.60%\n",
      "\t Val. Loss: 0.364  |  Val. Acc: 92.19%\n",
      "Epoch: 38 | Epoch Time: 0m 9s\n",
      "\t Train Loss: 0.009 | Train Acc: 99.73%\n",
      "\t Val. Loss: 0.351  |  Val. Acc: 93.59%\n",
      "Epoch: 39 | Epoch Time: 0m 7s\n",
      "\t Train Loss: 0.002 | Train Acc: 99.95%\n",
      "\t Val. Loss: 0.412  |  Val. Acc: 87.27%\n",
      "Epoch: 40 | Epoch Time: 0m 7s\n",
      "\t Train Loss: 0.000 | Train Acc: 100.00%\n",
      "\t Val. Loss: 0.273  |  Val. Acc: 92.15%\n",
      "Epoch: 41 | Epoch Time: 0m 9s\n",
      "\t Train Loss: 0.000 | Train Acc: 100.00%\n",
      "\t Val. Loss: 0.346  |  Val. Acc: 88.61%\n",
      "Epoch: 42 | Epoch Time: 0m 7s\n",
      "\t Train Loss: 0.000 | Train Acc: 100.00%\n",
      "\t Val. Loss: 0.290  |  Val. Acc: 91.50%\n",
      "Epoch: 43 | Epoch Time: 0m 7s\n",
      "\t Train Loss: 0.000 | Train Acc: 100.00%\n",
      "\t Val. Loss: 0.275  |  Val. Acc: 93.52%\n",
      "Epoch: 44 | Epoch Time: 0m 7s\n",
      "\t Train Loss: 0.000 | Train Acc: 100.00%\n",
      "\t Val. Loss: 0.288  |  Val. Acc: 91.83%\n",
      "Epoch: 45 | Epoch Time: 0m 8s\n",
      "\t Train Loss: 0.000 | Train Acc: 100.00%\n",
      "\t Val. Loss: 0.313  |  Val. Acc: 87.96%\n",
      "Epoch: 46 | Epoch Time: 0m 8s\n",
      "\t Train Loss: 0.000 | Train Acc: 100.00%\n",
      "\t Val. Loss: 0.281  |  Val. Acc: 93.39%\n",
      "Epoch: 47 | Epoch Time: 0m 7s\n",
      "\t Train Loss: 0.000 | Train Acc: 100.00%\n",
      "\t Val. Loss: 0.250  |  Val. Acc: 92.74%\n",
      "Epoch: 48 | Epoch Time: 0m 8s\n",
      "\t Train Loss: 0.000 | Train Acc: 100.00%\n",
      "\t Val. Loss: 0.275  |  Val. Acc: 91.93%\n",
      "Epoch: 49 | Epoch Time: 0m 8s\n",
      "\t Train Loss: 0.000 | Train Acc: 100.00%\n",
      "\t Val. Loss: 0.292  |  Val. Acc: 92.48%\n",
      "Epoch: 50 | Epoch Time: 0m 7s\n",
      "\t Train Loss: 0.036 | Train Acc: 98.80%\n",
      "\t Val. Loss: 0.403  |  Val. Acc: 82.06%\n"
     ]
    }
   ],
   "source": [
    "model_saved_name = \"models/DEAP_CNN_BiLSTM.pt\"\n",
    "\n",
    "#trainer(num_epochs, model, train_loader, val_loader, optimizer, criterion, model_name, device, seq_len_first=False)\n",
    "train_losses, valid_losses, train_accs, valid_accs = train(num_epochs, model, train_loader, val_loader, optimizer, criterion, model_saved_name, device)"
   ]
  },
  {
   "cell_type": "markdown",
   "metadata": {},
   "source": [
    "Let's plot the losses and acc for easier inspection"
   ]
  },
  {
   "cell_type": "code",
   "execution_count": 18,
   "metadata": {},
   "outputs": [
    {
     "data": {
      "image/png": "[encoded data removed]",
      "text/plain": [
       "<Figure size 720x432 with 1 Axes>"
      ]
     },
     "metadata": {
      "needs_background": "light"
     },
     "output_type": "display_data"
    },
    {
     "data": {
      "image/png": "[encoded data removed]",
      "text/plain": [
       "<Figure size 720x432 with 1 Axes>"
      ]
     },
     "metadata": {
      "needs_background": "light"
     },
     "output_type": "display_data"
    }
   ],
   "source": [
    "plot_performance(train_losses, valid_losses, \"loss\")\n",
    "plot_performance(train_accs, valid_accs, \"acc\")"
   ]
  },
  {
   "cell_type": "markdown",
   "metadata": {},
   "source": [
    "## 4. Evaluation on test set"
   ]
  },
  {
   "cell_type": "code",
   "execution_count": 19,
   "metadata": {},
   "outputs": [
    {
     "name": "stdout",
     "output_type": "stream",
     "text": [
      "Test Loss: 0.254 | Test Acc: 92.45%\n"
     ]
    }
   ],
   "source": [
    "model.load_state_dict(torch.load(model_saved_name))\n",
    "test_loss, test_acc = evaluate(model, test_loader, criterion, device)\n",
    "\n",
    "print(f'Test Loss: {test_loss:.3f} | Test Acc: {test_acc*100:.2f}%')"
   ]
  },
  {
   "cell_type": "markdown",
   "metadata": {},
   "source": [
    "## Final Verdict\n",
    "\n"
   ]
  },
  {
   "cell_type": "markdown",
   "metadata": {},
   "source": [
    "There are two observations.  \n",
    "\n",
    "- By performing pooling, it's almost 10 times faster!  That's because LSTM is a very slow model especially if the seq len is very big.  By doing pooling, it downsizes the seq len by almost 10 times, thus the time is also increase dramatically.\n",
    "\n",
    "- Our accuracy also increases by a lot!  It is clearly because convoluted signals carry more meanings sequentially, thus LSTM was able to learn the patterns.\n",
    "\n",
    "In the next tutorial, let's try applying attention mechanisms after CNN1D_LSTM, which might help improve accuracy.  I haven't try, so let's see."
   ]
  }
 ],
 "metadata": {
  "kernelspec": {
   "display_name": "Python 3",
   "language": "python",
   "name": "python3"
  },
  "language_info": {
   "codemirror_mode": {
    "name": "ipython",
    "version": 3
   },
   "file_extension": ".py",
   "mimetype": "text/x-python",
   "name": "python",
   "nbconvert_exporter": "python",
   "pygments_lexer": "ipython3",
   "version": "3.8.10"
  }
 },
 "nbformat": 4,
 "nbformat_minor": 5
}
