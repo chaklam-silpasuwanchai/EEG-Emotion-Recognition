{
 "cells": [
  {
   "cell_type": "markdown",
   "metadata": {},
   "source": [
    "# Part 8. DEAP Dataset + CNN1D_LSTM + General Attention\n",
    "\n",
    "In this part 8, we shall try add attention mechanisms after LSTM, which has seen a lot of success in the area of NLP.  It's the idea of trying to finding the best possible weighted sum of all hidden states instead of using only the last hidden state for inputting to the linear layer.\n",
    "\n",
    "*Note that we will be only predicting the valence.  Feel free to work on the arousal yourself.*\n",
    "\n",
    "In this part, most of the code will be the same except 2 Defining Model."
   ]
  },
  {
   "cell_type": "code",
   "execution_count": 1,
   "metadata": {},
   "outputs": [],
   "source": [
    "import torch\n",
    "import torch.nn as nn\n",
    "import torch.nn.functional as F\n",
    "from torch.utils.data import DataLoader\n",
    "\n",
    "import os\n",
    "import pickle\n",
    "import numpy as np"
   ]
  },
  {
   "cell_type": "markdown",
   "metadata": {},
   "source": [
    "Set cuda accordingly."
   ]
  },
  {
   "cell_type": "code",
   "execution_count": 2,
   "metadata": {},
   "outputs": [
    {
     "name": "stdout",
     "output_type": "stream",
     "text": [
      "Configured device:  cuda\n"
     ]
    }
   ],
   "source": [
    "device = torch.device('cuda' if torch.cuda.is_available() else 'cpu')\n",
    "print(\"Configured device: \", device)"
   ]
  },
  {
   "cell_type": "markdown",
   "metadata": {},
   "source": [
    "## 1. Loading dataset\n",
    "\n",
    "Let's first reuse the dataset loader we have created in Part 1."
   ]
  },
  {
   "cell_type": "code",
   "execution_count": 3,
   "metadata": {},
   "outputs": [],
   "source": [
    "class Dataset(torch.utils.data.Dataset):\n",
    "    \n",
    "    def __init__(self, path, stim):\n",
    "        _, _, filenames = next(os.walk(path))\n",
    "        filenames = sorted(filenames)\n",
    "        all_data = []\n",
    "        all_label = []\n",
    "        for dat in filenames:\n",
    "            temp = pickle.load(open(os.path.join(path,dat), 'rb'), encoding='latin1')\n",
    "            all_data.append(temp['data'])\n",
    "            \n",
    "            if stim == \"Valence\":\n",
    "                all_label.append(temp['labels'][:,:1])   #the first index is valence\n",
    "            elif stim == \"Arousal\":\n",
    "                all_label.append(temp['labels'][:,1:2]) # Arousal  #the second index is arousal\n",
    "                \n",
    "        self.data = np.vstack(all_data)[:, :32, ]   #shape: (1280, 32, 8064) --> take only the first 32 channels\n",
    "        self.label = np.vstack(all_label) #(1280, )  ==> 1280 samples, each with a unique label (depend on the param \"stim\")\n",
    "        \n",
    "        del temp, all_data, all_label\n",
    "\n",
    "    def __len__(self):\n",
    "        return self.data.shape[0]\n",
    "\n",
    "    def __getitem__(self, idx):\n",
    "        single_data  = self.data[idx]\n",
    "        single_label = (self.label[idx] > 5).astype(float)   #convert the scale to either 0 or 1 (to classification problem)\n",
    "        \n",
    "        batch = {\n",
    "            'data' : torch.Tensor(single_data),\n",
    "            'label': torch.Tensor(single_label)\n",
    "        }\n",
    "        \n",
    "        return batch"
   ]
  },
  {
   "cell_type": "markdown",
   "metadata": {},
   "source": [
    "Let's try load the dataset."
   ]
  },
  {
   "cell_type": "code",
   "execution_count": 4,
   "metadata": {},
   "outputs": [],
   "source": [
    "path = \"data\"  #create a folder \"data\", and inside put s01.dat,....,s32.dat inside from the preprocessed folder from the DEAP dataset"
   ]
  },
  {
   "cell_type": "code",
   "execution_count": 5,
   "metadata": {
    "tags": []
   },
   "outputs": [
    {
     "name": "stdout",
     "output_type": "stream",
     "text": [
      "Data shape:  torch.Size([1280, 32, 8064])\n",
      "Label shape:  torch.Size([1280, 1])\n"
     ]
    }
   ],
   "source": [
    "dataset = Dataset(path, \"Valence\")\n",
    "\n",
    "data  = dataset[:]['data']\n",
    "label = dataset[:]['label']\n",
    "\n",
    "print(\"Data shape: \" , data.shape)  #1280 = 32 * 40 trials, 32 EEG channels, 8064 samples\n",
    "print(\"Label shape: \", label.shape)  #two classes of valence"
   ]
  },
  {
   "cell_type": "markdown",
   "metadata": {},
   "source": [
    "Let's look the label distribution of the dataset."
   ]
  },
  {
   "cell_type": "code",
   "execution_count": 6,
   "metadata": {},
   "outputs": [
    {
     "name": "stdout",
     "output_type": "stream",
     "text": [
      "count of low valence:  572\n",
      "count of high valence:  708\n"
     ]
    }
   ],
   "source": [
    "lv = label == 0\n",
    "hv = label == 1\n",
    "\n",
    "assert len(label[lv]) + len(label[hv]) == label.shape[0]  #simple unit test\n",
    "print(\"count of low valence: \", len(label[lv]))\n",
    "print(\"count of high valence: \", len(label[hv]))"
   ]
  },
  {
   "cell_type": "markdown",
   "metadata": {},
   "source": [
    "Let's see the median of EEG of each group (you can do std on your own exercise)"
   ]
  },
  {
   "cell_type": "code",
   "execution_count": 7,
   "metadata": {},
   "outputs": [
    {
     "name": "stdout",
     "output_type": "stream",
     "text": [
      "Median of low valence 0.009302851\n",
      "Median of high valence 0.0034587365\n"
     ]
    }
   ],
   "source": [
    "lv_unsqueeze = lv.squeeze()\n",
    "hv_unsqueeze = hv.squeeze()\n",
    "\n",
    "print(\"Median of low valence\",  np.median(data[lv_unsqueeze, :, :]))\n",
    "print(\"Median of high valence\", np.median(data[hv_unsqueeze, :, :]))"
   ]
  },
  {
   "cell_type": "markdown",
   "metadata": {
    "tags": []
   },
   "source": [
    "## 2. Defining the Model\n",
    "\n",
    "General Attention is a very simple idea in which we wanna find the best weighted sum of all hidden states, instead of using the last hidden state to input into the linear layer.  In order to find that weight, we \n",
    "1. perform a multiplication between the all hidden states (i.e., <code>out</code>) and the last hidden state (i.e., <code>hn</code>).  This multiplication will tell us whether the last hidden state should attend to which hidden state more.  \n",
    "2. perform a softmax on this attention matrix so we can get value between 0 and 1\n",
    "3. lastly, we simply multiply this attention matrix with our all hidden states (i.e.,  <code>out</code>)\n",
    "\n",
    "Note that attention has many variants, mostly differ in how they find the attention weights in step 1.  We shall explore other variants of attention in the next tutorial."
   ]
  },
  {
   "cell_type": "code",
   "execution_count": 8,
   "metadata": {},
   "outputs": [],
   "source": [
    "class Conv1D_LSTM_Attention(nn.Module):\n",
    "    '''\n",
    "    Expected Input Shape: (batch, channels, seq_len)  <==what conv1d wants\n",
    "    '''\n",
    "    def __init__(self, input_dim, hidden_dim, num_layers, output_dim, bidirectional, dropout):\n",
    "        super(Conv1D_LSTM_Attention, self).__init__()\n",
    "        self.conv1d = nn.Conv1d(input_dim, input_dim, kernel_size=128, stride=1, padding=1)\n",
    "        self.norm = nn.BatchNorm1d(input_dim)\n",
    "        self.lstm = nn.LSTM(input_dim, \n",
    "                           hidden_dim, \n",
    "                           num_layers=num_layers, \n",
    "                           bidirectional=bidirectional, \n",
    "                           dropout=dropout,\n",
    "                           batch_first=True)\n",
    "        self.fc = nn.Linear(hidden_dim * num_layers, output_dim)\n",
    "    \n",
    "    def attention_net(self, lstm_output, final_state):\n",
    "        hidden = final_state.unsqueeze(2)  # hidden : [batch_size, n_hidden * num_directions(=2), 1(=n_layer)]\n",
    "        attn_weights = torch.bmm(lstm_output, hidden).squeeze(2) # attn_weights : [batch_size, seq_len, 1]\n",
    "        soft_attn_weights = F.softmax(attn_weights, 1)\n",
    "        # context = [batch_size, n_hidden * num_directions(=2), seq_len] * [batch_size, seq_len, 1] = [batch_size, n_hidden * num_directions(=2), 1]\n",
    "        context = torch.bmm(lstm_output.transpose(1, 2), soft_attn_weights.unsqueeze(2)).squeeze(2)\n",
    "        return context, soft_attn_weights.cpu().data.numpy() # context : [batch_size, n_hidden * num_directions(=2)]\n",
    "    \n",
    "    def forward(self, x):\n",
    "        # conv1d expects (batch, channels, seq_len)\n",
    "        # should not try too big a kernel size, which could lead to too much information loss\n",
    "        x = F.avg_pool1d(self.conv1d(x), kernel_size=5)\n",
    "        x = F.avg_pool1d(self.conv1d(x), kernel_size=5)\n",
    "\n",
    "        # change to (batch, seq_len, channels) because lstm expects\n",
    "        x = x.permute(0,2,1)\n",
    "        \n",
    "        #x = [batch size, seq len, channels]\n",
    "        out, (hn, cn) = self.lstm(x)\n",
    "        \n",
    "        #out = [batch size, seq len, hidden dim * num directions]        \n",
    "        #hn = [num layers * num directions, batch size, hidden dim]\n",
    "        #cn = [num layers * num directions, batch size, hidden dim]\n",
    "        \n",
    "        #concat the final forward (hidden[-2,:,:]) and backward (hidden[-1,:,:]) hidden layers\n",
    "        hn = torch.cat((hn[-2,:,:], hn[-1,:,:]), dim = 1)\n",
    "        #hn = [batch size, hidden dim * num directions]\n",
    "        \n",
    "        attn_output, attention = self.attention_net(out, hn)\n",
    "\n",
    "        return self.fc(attn_output)"
   ]
  },
  {
   "cell_type": "markdown",
   "metadata": {},
   "source": [
    "Before we initialize our model, let's also define a function how we want to initialize the network weights.  This is optional.  By default, layers will simply randomize weights but it is always nice to know how we can control weight initialization by defining a function"
   ]
  },
  {
   "cell_type": "code",
   "execution_count": 9,
   "metadata": {},
   "outputs": [],
   "source": [
    "#explicitly initialize weights for better learning\n",
    "def initialize_weights(m):\n",
    "    if isinstance(m, nn.Linear):   #if layer is of Linear\n",
    "        nn.init.xavier_normal_(m.weight)\n",
    "        nn.init.zeros_(m.bias)\n",
    "    elif isinstance(m, nn.LSTM):   #if layer is of LSTM\n",
    "        for name, param in m.named_parameters():\n",
    "            if 'bias' in name:\n",
    "                nn.init.zeros_(param)\n",
    "            elif 'weight' in name:\n",
    "                nn.init.orthogonal_(param)  #orthogonal is a common way to initialize weights for RNN/LSTM/GRU\n",
    "    elif isinstance(m, nn.Conv1d):\n",
    "        for name, param in m.named_parameters():\n",
    "            if 'bias' in name:\n",
    "                nn.init.zeros_(param)\n",
    "            elif 'weight' in name:\n",
    "                nn.init.kaiming_normal_(param) #there are really no evidence what works best for convolution, so I just pick one"
   ]
  },
  {
   "cell_type": "markdown",
   "metadata": {},
   "source": [
    "Let's init the class instance and create a workabout model."
   ]
  },
  {
   "cell_type": "code",
   "execution_count": 10,
   "metadata": {},
   "outputs": [
    {
     "data": {
      "text/plain": [
       "Conv1D_LSTM_Attention(\n",
       "  (conv1d): Conv1d(32, 32, kernel_size=(128,), stride=(1,), padding=(1,))\n",
       "  (norm): BatchNorm1d(32, eps=1e-05, momentum=0.1, affine=True, track_running_stats=True)\n",
       "  (lstm): LSTM(32, 256, num_layers=2, batch_first=True, dropout=0.5, bidirectional=True)\n",
       "  (fc): Linear(in_features=512, out_features=1, bias=True)\n",
       ")"
      ]
     },
     "execution_count": 10,
     "metadata": {},
     "output_type": "execute_result"
    }
   ],
   "source": [
    "#note that these params are simply obtained from trial and error; I got no theory to back up why I use certain numbers here...\n",
    "input_dim     = 32 #we got 32 EEG channels\n",
    "hidden_dim    = 256 #let's define hidden dim as 256\n",
    "num_layers    = 2  #we gonna have two LSTM layers\n",
    "output_dim    = 1  #we got 4 classes for our labels\n",
    "bidirectional = True  #uses bidirectional LSTM\n",
    "dropout       = 0.5  #setting dropout to 0.5\n",
    "\n",
    "#define the model\n",
    "model = Conv1D_LSTM_Attention(input_dim, hidden_dim, num_layers, output_dim, bidirectional, dropout)\n",
    "\n",
    "#send to cuda so we can use the GPU\n",
    "model = model.to(device)  \n",
    "\n",
    "#apply weights\n",
    "model.apply(initialize_weights)"
   ]
  },
  {
   "cell_type": "markdown",
   "metadata": {},
   "source": [
    "Let's also check the number of parameters used"
   ]
  },
  {
   "cell_type": "code",
   "execution_count": 11,
   "metadata": {},
   "outputs": [
    {
     "name": "stdout",
     "output_type": "stream",
     "text": [
      "The model Conv1D_LSTM_Attention has 2,302,561 trainable parameters\n"
     ]
    }
   ],
   "source": [
    "def count_parameters(model):\n",
    "    return sum(p.numel() for p in model.parameters() if p.requires_grad)\n",
    "\n",
    "print(f'The model {type(model).__name__} has {count_parameters(model):,} trainable parameters')# Train the model"
   ]
  },
  {
   "cell_type": "markdown",
   "metadata": {},
   "source": [
    "Let's define a simple unit test, inputing some mock EEG data and see whether we got the desired output as 4 classes."
   ]
  },
  {
   "cell_type": "code",
   "execution_count": 12,
   "metadata": {},
   "outputs": [
    {
     "name": "stdout",
     "output_type": "stream",
     "text": [
      "Prediction shape:  torch.Size([2, 1])\n",
      "Predictions:  tensor([[0.0780],\n",
      "        [0.0765]], device='cuda:0', grad_fn=<AddmmBackward>)\n"
     ]
    }
   ],
   "source": [
    "mock_batch_size = 2    #in real training, we use 32\n",
    "mock_input_dim  = 32   #in real data, ours is 32 channels\n",
    "mock_seq_len    = 8064 #in real data, ours is 8064\n",
    "\n",
    "#note that our model first layer is conv1d which expects (batch, channel, seq len)\n",
    "mock_eegdata = torch.rand(mock_batch_size, mock_input_dim, mock_seq_len).to(device)\n",
    "\n",
    "#let's try run the model by simply inserting the mockdata into the model; very similar to .fit\n",
    "predictions = model(mock_eegdata)\n",
    "\n",
    "#let's try to see the predictions whether it really outputs four unique classes\n",
    "print(\"Prediction shape: \", predictions.shape)\n",
    "print(\"Predictions: \", predictions)\n",
    "\n",
    "#simple unit test\n",
    "assert predictions.shape[0] == mock_batch_size\n",
    "assert predictions.shape[1] == output_dim"
   ]
  },
  {
   "cell_type": "markdown",
   "metadata": {},
   "source": [
    "## 3. Training"
   ]
  },
  {
   "cell_type": "markdown",
   "metadata": {
    "tags": []
   },
   "source": [
    "### I. Batch Iterators\n",
    "\n",
    "In order to easily loop the dataset, let's create a batch iterator.  The typical steps are:\n",
    "\n",
    "1.  Split the dataset into training and validation set.\n",
    "2.  Create a loader using DataLoader APIs"
   ]
  },
  {
   "cell_type": "code",
   "execution_count": 13,
   "metadata": {},
   "outputs": [
    {
     "name": "stdout",
     "output_type": "stream",
     "text": [
      "Full Dataset size:  1280\n",
      "Train Dataset size: 896\n",
      "Valid Dataset size: 256\n",
      "Test Dataset size:  128\n",
      "\n"
     ]
    }
   ],
   "source": [
    "# setting seed so that splitting process and training process can be reproduced\n",
    "torch.manual_seed(1)\n",
    "\n",
    "# randomly shuffle the indexes, then randomly select 80% of the data\n",
    "indices   = torch.randperm(len(dataset)).tolist()\n",
    "train_ind = int(0.7 * len(dataset))\n",
    "val_ind   = int(0.9 * len(dataset))\n",
    "\n",
    "# create subset of dataset\n",
    "train_set = torch.utils.data.Subset(dataset, indices[:train_ind])\n",
    "val_set   = torch.utils.data.Subset(dataset, indices[train_ind:val_ind])\n",
    "test_set  = torch.utils.data.Subset(dataset, indices[val_ind:])\n",
    "\n",
    "print(f\"Full Dataset size:  {len(dataset)}\")\n",
    "print(f\"Train Dataset size: {len(train_set)}\")\n",
    "print(f\"Valid Dataset size: {len(val_set)}\")\n",
    "print(f\"Test Dataset size:  {len(test_set)}\\n\")\n",
    "\n",
    "# let's create the loader so we can easily loop each batch for training\n",
    "params = {\"batch_size\":16,\"shuffle\": True,\"pin_memory\": True}\n",
    "\n",
    "train_loader = DataLoader(train_set, **params)\n",
    "val_loader   = DataLoader(val_set, **params)\n",
    "test_loader  = DataLoader(test_set, **params)"
   ]
  },
  {
   "cell_type": "markdown",
   "metadata": {},
   "source": [
    "### II. Optimizers\n",
    "\n",
    "Optimizer simply refers to the one that gonna take care of the backpropagation process.  The commonly used optimizer is SGD and Adam, both are quite interchangeable.  Here we gonna use Adam.  In order to backpropagate, we gonna define a loss function using cross entropy loss, which is a common loss function for multi-class purposes."
   ]
  },
  {
   "cell_type": "code",
   "execution_count": 14,
   "metadata": {},
   "outputs": [],
   "source": [
    "import torch.optim as optim\n",
    "\n",
    "lr = 0.001\n",
    "\n",
    "#can also try SGD which should not make too much of a difference\n",
    "optimizer = optim.Adam(model.parameters(), lr=lr) \n",
    "\n",
    "#combine sigmoid with binary entropy; binary entropy is used for binary classification\n",
    "criterion = nn.BCEWithLogitsLoss() "
   ]
  },
  {
   "cell_type": "markdown",
   "metadata": {
    "tags": []
   },
   "source": [
    "### III. Training procedures\n",
    "\n",
    "Let's create a function for training, so we can reuse it in the future.  I will write comments where appropriate."
   ]
  },
  {
   "cell_type": "code",
   "execution_count": 15,
   "metadata": {},
   "outputs": [],
   "source": [
    "def binary_accuracy(preds, y):\n",
    "    \"\"\"\n",
    "    Returns accuracy per batch, i.e. if you get 8/10 right, this returns 0.8, NOT 8\n",
    "    \"\"\"\n",
    "    #round predictions to the closest integer\n",
    "    rounded_preds = torch.round(torch.sigmoid(preds))\n",
    "    correct = (rounded_preds == y).float() #convert into float for division \n",
    "    acc = correct.sum() / len(correct)\n",
    "    return acc"
   ]
  },
  {
   "cell_type": "code",
   "execution_count": 16,
   "metadata": {},
   "outputs": [],
   "source": [
    "def train(model, train_loader,  optimizer, criterion):\n",
    "\n",
    "    model.train()\n",
    "    epoch_train_loss = 0\n",
    "    epoch_train_acc  = 0\n",
    "\n",
    "    for i, batch in enumerate(train_loader):\n",
    "    \n",
    "        # data shape: (batch, channel, seq len)\n",
    "        data  = batch['data'].to(device)    \n",
    "        # label shape: (batch, 1)\n",
    "        label = batch['label'].to(device) \n",
    "        \n",
    "        #predict\n",
    "        output = model(data)  #output shape: (batch, 1)\n",
    "        loss   = criterion(output, label)\n",
    "        \n",
    "        #backprop\n",
    "        optimizer.zero_grad()\n",
    "        loss.backward()\n",
    "        optimizer.step()\n",
    "        \n",
    "        #for visualizing\n",
    "        epoch_train_loss += loss.item()\n",
    "        acc = binary_accuracy(output, label)\n",
    "        epoch_train_acc += acc.item()\n",
    "        \n",
    "    epoch_train_loss = epoch_train_loss / len(train_loader)\n",
    "    epoch_train_acc  = epoch_train_acc  / len(train_loader)\n",
    "    \n",
    "    return epoch_train_loss, epoch_train_acc"
   ]
  },
  {
   "cell_type": "markdown",
   "metadata": {},
   "source": [
    "Let's also create another slightly different function to test our model on the validation set."
   ]
  },
  {
   "cell_type": "code",
   "execution_count": 17,
   "metadata": {},
   "outputs": [],
   "source": [
    "def evaluate(model, val_loader, criterion):\n",
    "\n",
    "    model.eval()\n",
    "    epoch_val_loss = 0\n",
    "    epoch_val_acc  = 0\n",
    "\n",
    "    with torch.no_grad():\n",
    "        for i, batch in enumerate(val_loader):\n",
    "            \n",
    "            # data shape: (batch, channel, seq len)\n",
    "            data  = batch['data'].to(device)\n",
    "            label = batch['label'].to(device)\n",
    "            \n",
    "            #predict and cal loss\n",
    "            output = model(data)\n",
    "            loss   = criterion(output, label)\n",
    "            \n",
    "            #for visualizing\n",
    "            epoch_val_loss += loss.item()\n",
    "            acc = binary_accuracy(output, label)\n",
    "            epoch_val_acc += acc.item()\n",
    "    \n",
    "    epoch_val_loss =  epoch_val_loss / len(val_loader)\n",
    "    epoch_val_acc  =  epoch_val_acc  / len(val_loader)\n",
    "    \n",
    "    return epoch_val_loss, epoch_val_acc"
   ]
  },
  {
   "cell_type": "markdown",
   "metadata": {
    "tags": []
   },
   "source": [
    "### IV. Let's train!\n",
    "\n",
    "Nothing much but simply run the training functions!"
   ]
  },
  {
   "cell_type": "code",
   "execution_count": 18,
   "metadata": {},
   "outputs": [
    {
     "name": "stdout",
     "output_type": "stream",
     "text": [
      "Epoch: 01 | Train Loss: 0.705 | Train Acc: 54.24%\n",
      "\t Val. Loss: 0.751 |  Val. Acc: 47.27%\n",
      "Epoch: 02 | Train Loss: 0.695 | Train Acc: 56.70%\n",
      "\t Val. Loss: 0.700 |  Val. Acc: 50.78%\n",
      "Epoch: 03 | Train Loss: 0.694 | Train Acc: 54.24%\n",
      "\t Val. Loss: 0.695 |  Val. Acc: 53.12%\n",
      "Epoch: 04 | Train Loss: 0.679 | Train Acc: 56.25%\n",
      "\t Val. Loss: 0.719 |  Val. Acc: 48.05%\n",
      "Epoch: 05 | Train Loss: 0.681 | Train Acc: 58.15%\n",
      "\t Val. Loss: 0.682 |  Val. Acc: 54.69%\n",
      "Epoch: 06 | Train Loss: 0.677 | Train Acc: 59.60%\n",
      "\t Val. Loss: 0.716 |  Val. Acc: 52.34%\n",
      "Epoch: 07 | Train Loss: 0.674 | Train Acc: 59.38%\n",
      "\t Val. Loss: 0.701 |  Val. Acc: 52.73%\n",
      "Epoch: 08 | Train Loss: 0.641 | Train Acc: 63.95%\n",
      "\t Val. Loss: 0.749 |  Val. Acc: 49.61%\n",
      "Epoch: 09 | Train Loss: 0.640 | Train Acc: 62.61%\n",
      "\t Val. Loss: 0.743 |  Val. Acc: 48.44%\n",
      "Epoch: 10 | Train Loss: 0.638 | Train Acc: 65.07%\n",
      "\t Val. Loss: 0.720 |  Val. Acc: 54.30%\n"
     ]
    }
   ],
   "source": [
    "best_valid_loss = float('inf')\n",
    "\n",
    "train_losses = []\n",
    "train_accs   = []\n",
    "valid_losses = []\n",
    "valid_accs   = []\n",
    "\n",
    "num_epochs = 10\n",
    "\n",
    "for epoch in range(num_epochs):\n",
    "\n",
    "    train_loss, train_acc = train(model, train_loader, optimizer, criterion)\n",
    "    valid_loss, valid_acc = evaluate(model, val_loader, criterion)\n",
    "    \n",
    "    #for plotting\n",
    "    train_losses.append(train_loss)\n",
    "    train_accs  .append(train_acc)\n",
    "    valid_losses.append(valid_loss)\n",
    "    valid_accs  .append(valid_acc)\n",
    "    \n",
    "    if valid_loss < best_valid_loss:\n",
    "        best_valid_loss = valid_loss\n",
    "        torch.save(model.state_dict(), 'models/DEAP_CNN_BiLSTM_Attention.pt')\n",
    "    \n",
    "    print(f'Epoch: {epoch+1:02} | Train Loss: {train_loss:.3f} | Train Acc: {train_acc*100:.2f}%')\n",
    "    print(f'\\t Val. Loss: {valid_loss:.3f} |  Val. Acc: {valid_acc*100:.2f}%')"
   ]
  },
  {
   "cell_type": "markdown",
   "metadata": {},
   "source": [
    "Let's plot the losses and acc for easier inspection"
   ]
  },
  {
   "cell_type": "code",
   "execution_count": 19,
   "metadata": {},
   "outputs": [
    {
     "data": {
      "text/plain": [
       "Text(0, 0.5, 'loss')"
      ]
     },
     "execution_count": 19,
     "metadata": {},
     "output_type": "execute_result"
    },
    {
     "data": {
      "image/png": "[encoded data removed]",
      "text/plain": [
       "<Figure size 720x432 with 1 Axes>"
      ]
     },
     "metadata": {
      "needs_background": "light"
     },
     "output_type": "display_data"
    }
   ],
   "source": [
    "import matplotlib.pyplot as plt\n",
    "fig = plt.figure(figsize=(10, 6))\n",
    "ax  = fig.add_subplot(1, 1, 1)\n",
    "ax.plot(train_losses, label = 'train loss')\n",
    "ax.plot(valid_losses, label = 'valid loss')\n",
    "plt.legend()\n",
    "ax.set_xlabel('updates')\n",
    "ax.set_ylabel('loss')"
   ]
  },
  {
   "cell_type": "code",
   "execution_count": 20,
   "metadata": {},
   "outputs": [
    {
     "data": {
      "text/plain": [
       "Text(0, 0.5, 'acc')"
      ]
     },
     "execution_count": 20,
     "metadata": {},
     "output_type": "execute_result"
    },
    {
     "data": {
      "image/png": "[encoded data removed]",
      "text/plain": [
       "<Figure size 720x432 with 1 Axes>"
      ]
     },
     "metadata": {
      "needs_background": "light"
     },
     "output_type": "display_data"
    }
   ],
   "source": [
    "fig = plt.figure(figsize=(10, 6))\n",
    "ax  = fig.add_subplot(1, 1, 1)\n",
    "ax.plot(train_accs, label = 'train acc')\n",
    "ax.plot(valid_accs, label = 'valid acc')\n",
    "plt.legend()\n",
    "ax.set_xlabel('updates')\n",
    "ax.set_ylabel('acc')"
   ]
  },
  {
   "cell_type": "markdown",
   "metadata": {},
   "source": [
    "## 4. Evaluation on test set"
   ]
  },
  {
   "cell_type": "code",
   "execution_count": 21,
   "metadata": {},
   "outputs": [
    {
     "name": "stdout",
     "output_type": "stream",
     "text": [
      "Test Loss: 0.692 | Test Acc: 56.25%\n"
     ]
    }
   ],
   "source": [
    "model.load_state_dict(torch.load('models/DEAP_CNN_BiLSTM_Attention.pt'))\n",
    "test_loss, test_acc = evaluate(model, test_loader, criterion)\n",
    "\n",
    "print(f'Test Loss: {test_loss:.3f} | Test Acc: {test_acc*100:.2f}%')"
   ]
  },
  {
   "cell_type": "markdown",
   "metadata": {},
   "source": [
    "## Final Verdict\n",
    "\n"
   ]
  },
  {
   "cell_type": "markdown",
   "metadata": {},
   "source": [
    "Hmm....we clearly don't see any difference but it's always good to have attention as one of your toolset.  Let's try another variant of attention which is self-attention, inspired by the Transformers."
   ]
  }
 ],
 "metadata": {
  "kernelspec": {
   "display_name": "Python 3",
   "language": "python",
   "name": "python3"
  },
  "language_info": {
   "codemirror_mode": {
    "name": "ipython",
    "version": 3
   },
   "file_extension": ".py",
   "mimetype": "text/x-python",
   "name": "python",
   "nbconvert_exporter": "python",
   "pygments_lexer": "ipython3",
   "version": "3.8.10"
  }
 },
 "nbformat": 4,
 "nbformat_minor": 5
}
