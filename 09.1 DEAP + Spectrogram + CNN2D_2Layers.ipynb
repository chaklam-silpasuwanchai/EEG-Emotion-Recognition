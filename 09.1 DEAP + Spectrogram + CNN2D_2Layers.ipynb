{
 "cells": [
  {
   "cell_type": "markdown",
   "metadata": {},
   "source": [
    "# DEAP Dataset + Spectrogram + CNN2D (2 layers)\n",
    "\n",
    "In this part, we shall try inputting the spectrogram into 2 layers of CNN2D.\n",
    "\n",
    "*Note that we will be only predicting the valence.  Feel free to work on the arousal yourself.*"
   ]
  },
  {
   "cell_type": "code",
   "execution_count": 1,
   "metadata": {},
   "outputs": [],
   "source": [
    "import torch\n",
    "import torch.nn as nn\n",
    "import torch.nn.functional as F\n",
    "import os, pickle\n",
    "\n",
    "# setting seed so that splitting process and training process can be reproduce\n",
    "torch.manual_seed(1)\n",
    "\n",
    "import numpy as np\n",
    "\n",
    "#refactoring components\n",
    "#maybe you want to take a look at these components, because we will be using them in the future series\n",
    "from components.dataset import Dataset, SpecDataset\n",
    "from components.helper import getLoaders, count_parameters, plot_performance\n",
    "from components.train import train, evaluate, initialize_weights"
   ]
  },
  {
   "cell_type": "markdown",
   "metadata": {},
   "source": [
    "Set cuda accordingly."
   ]
  },
  {
   "cell_type": "code",
   "execution_count": 2,
   "metadata": {},
   "outputs": [
    {
     "name": "stdout",
     "output_type": "stream",
     "text": [
      "Configured device:  cuda\n"
     ]
    }
   ],
   "source": [
    "device = torch.device('cuda' if torch.cuda.is_available() else 'cpu')\n",
    "print(\"Configured device: \", device)"
   ]
  },
  {
   "cell_type": "markdown",
   "metadata": {},
   "source": [
    "## 1. Loading the SpecDataset\n",
    "\n",
    "Here we gonna just refactor the code and put into the <code>components/dataset.py</code> folder"
   ]
  },
  {
   "cell_type": "code",
   "execution_count": 3,
   "metadata": {},
   "outputs": [],
   "source": [
    "path = \"data\"  #create a folder \"data\", and inside put s01.dat,....,s32.dat inside from the preprocessed folder from the DEAP dataset\n",
    "\n",
    "sample_rate = 128\n",
    "window_size = int(sample_rate)  #1s\n",
    "step_size = sample_rate * 0.5 #0.5s"
   ]
  },
  {
   "cell_type": "code",
   "execution_count": 4,
   "metadata": {},
   "outputs": [
    {
     "name": "stdout",
     "output_type": "stream",
     "text": [
      "Data shape:  torch.Size([15360, 32, 9, 65])\n",
      "Label shape:  torch.Size([15360, 1])\n"
     ]
    }
   ],
   "source": [
    "#def __init__(self, path, stim, sample_rate, window_size, step_size, segments):\n",
    "#12 here means breaking 60s video into 12 segments\n",
    "dataset = SpecDataset(path, \"Valence\", sample_rate, window_size, step_size, 12)\n",
    "\n",
    "data  = dataset[:]['data']\n",
    "label = dataset[:]['label']\n",
    "\n",
    "print(\"Data shape: \" , data.shape)  # batches, channels, height, width\n",
    "print(\"Label shape: \", label.shape)  #two classes of valence"
   ]
  },
  {
   "cell_type": "markdown",
   "metadata": {
    "tags": []
   },
   "source": [
    "## 2. Defining the Model\n",
    "\n",
    "Convolution is a very simple idea.  For those who want to complete tutorial on CNN, you can visit my another tutorial on CNN here -> https://github.com/chaklam-silpasuwanchai/Python-for-Data-Science/blob/master/Lectures/03-PyTorch/03%20-%20Deep%20Learning%20-%20PyTorch%20-%20Convolutional%20Neural%20Network.ipynb"
   ]
  },
  {
   "cell_type": "markdown",
   "metadata": {},
   "source": [
    "### Getting shape so we can make sure our convolution always work dynamically"
   ]
  },
  {
   "cell_type": "code",
   "execution_count": 5,
   "metadata": {},
   "outputs": [],
   "source": [
    "conv2d1 = nn.Conv2d(32, 64, kernel_size=3, stride=1, padding=1)\n",
    "maxpool1 = nn.MaxPool2d(kernel_size=2)\n",
    "\n",
    "conv2d2 = nn.Conv2d(64, 128, kernel_size=3, stride=1, padding=1)\n",
    "maxpool2 = nn.MaxPool2d(kernel_size=2)"
   ]
  },
  {
   "cell_type": "code",
   "execution_count": 6,
   "metadata": {},
   "outputs": [
    {
     "data": {
      "text/plain": [
       "torch.Size([15360, 64, 9, 65])"
      ]
     },
     "execution_count": 6,
     "metadata": {},
     "output_type": "execute_result"
    }
   ],
   "source": [
    "out = conv2d1(data)\n",
    "out.shape"
   ]
  },
  {
   "cell_type": "code",
   "execution_count": 7,
   "metadata": {},
   "outputs": [
    {
     "data": {
      "text/plain": [
       "torch.Size([15360, 64, 4, 32])"
      ]
     },
     "execution_count": 7,
     "metadata": {},
     "output_type": "execute_result"
    }
   ],
   "source": [
    "out = maxpool1(out)\n",
    "out.shape"
   ]
  },
  {
   "cell_type": "code",
   "execution_count": 8,
   "metadata": {},
   "outputs": [
    {
     "data": {
      "text/plain": [
       "torch.Size([15360, 128, 4, 32])"
      ]
     },
     "execution_count": 8,
     "metadata": {},
     "output_type": "execute_result"
    }
   ],
   "source": [
    "out = conv2d2(out)\n",
    "out.shape"
   ]
  },
  {
   "cell_type": "code",
   "execution_count": 9,
   "metadata": {},
   "outputs": [
    {
     "name": "stdout",
     "output_type": "stream",
     "text": [
      "torch.Size([15360, 128, 2, 16])\n"
     ]
    }
   ],
   "source": [
    "out = maxpool2(out)\n",
    "print(out.shape)\n",
    "final_shape = out.shape"
   ]
  },
  {
   "cell_type": "markdown",
   "metadata": {},
   "source": [
    "### Model Definition"
   ]
  },
  {
   "cell_type": "code",
   "execution_count": 10,
   "metadata": {},
   "outputs": [],
   "source": [
    "# Convolutional neural network (two convolutional layers)\n",
    "class ConvNet(nn.Module):\n",
    "    def __init__(self, input_dim=32, output_dim=1):\n",
    "        super(ConvNet, self).__init__()\n",
    "        \n",
    "        #using sequential helps bind multiple operations together\n",
    "        self.layer1 = nn.Sequential(\n",
    "            #in_channel = 32, #out_channel = 64\n",
    "            nn.Conv2d(input_dim, input_dim*2, kernel_size=3, stride=1, padding=1),\n",
    "            nn.BatchNorm2d(input_dim*2),\n",
    "            nn.ReLU(),\n",
    "            nn.MaxPool2d(kernel_size=2))\n",
    "        \n",
    "        self.layer2 = nn.Sequential(\n",
    "            nn.Conv2d(input_dim*2, input_dim*4, kernel_size=3, stride=1, padding=1),\n",
    "            nn.BatchNorm2d(input_dim*4),\n",
    "            nn.ReLU(),\n",
    "            nn.MaxPool2d(kernel_size=2))\n",
    "        \n",
    "        self.fc = nn.Linear(final_shape[1]*final_shape[2]*final_shape[3], output_dim)\n",
    "        self.drop_out = nn.Dropout(p=0.2)  #zeroed 0.2% data\n",
    "        #after fc will be of shape [batch, 1]\n",
    "        \n",
    "    def forward(self, x):\n",
    "        #x shape: [batch, in_channel, img_width, img_height]\n",
    "        out = self.layer1(x)\n",
    "        out = self.drop_out(out)\n",
    "        out = self.layer2(out)\n",
    "        out = self.drop_out(out)\n",
    "        \n",
    "        out = out.reshape(out.size(0), -1)   #can also use .view()\n",
    "        #we squeeze so that it can be inputted into the fc layer\n",
    "        out = self.fc(out)\n",
    "        #after fc layer: shape: [batch, 1]\n",
    "        return out"
   ]
  },
  {
   "cell_type": "markdown",
   "metadata": {},
   "source": [
    "**Model init**: Let's init the class instance and create a workabout model."
   ]
  },
  {
   "cell_type": "code",
   "execution_count": 11,
   "metadata": {},
   "outputs": [
    {
     "data": {
      "text/plain": [
       "ConvNet(\n",
       "  (layer1): Sequential(\n",
       "    (0): Conv2d(32, 64, kernel_size=(3, 3), stride=(1, 1), padding=(1, 1))\n",
       "    (1): BatchNorm2d(64, eps=1e-05, momentum=0.1, affine=True, track_running_stats=True)\n",
       "    (2): ReLU()\n",
       "    (3): MaxPool2d(kernel_size=2, stride=2, padding=0, dilation=1, ceil_mode=False)\n",
       "  )\n",
       "  (layer2): Sequential(\n",
       "    (0): Conv2d(64, 128, kernel_size=(3, 3), stride=(1, 1), padding=(1, 1))\n",
       "    (1): BatchNorm2d(128, eps=1e-05, momentum=0.1, affine=True, track_running_stats=True)\n",
       "    (2): ReLU()\n",
       "    (3): MaxPool2d(kernel_size=2, stride=2, padding=0, dilation=1, ceil_mode=False)\n",
       "  )\n",
       "  (fc): Linear(in_features=4096, out_features=1, bias=True)\n",
       "  (drop_out): Dropout(p=0.2, inplace=False)\n",
       ")"
      ]
     },
     "execution_count": 11,
     "metadata": {},
     "output_type": "execute_result"
    }
   ],
   "source": [
    "input_dim     = 32 #we got 32 EEG channels\n",
    "output_dim    = 1  #we got 2 classes for our labels\n",
    "\n",
    "#define the model\n",
    "model = ConvNet(input_dim, output_dim)\n",
    "\n",
    "#send to cuda so we can use the GPU\n",
    "model = model.to(device)  \n",
    "\n",
    "#apply weights\n",
    "model.apply(initialize_weights)"
   ]
  },
  {
   "cell_type": "markdown",
   "metadata": {},
   "source": [
    "**Param count**: Let's also check the number of parameters used"
   ]
  },
  {
   "cell_type": "code",
   "execution_count": 12,
   "metadata": {},
   "outputs": [
    {
     "name": "stdout",
     "output_type": "stream",
     "text": [
      "The model ConvNet has 96,833 trainable parameters\n"
     ]
    }
   ],
   "source": [
    "print(f'The model {type(model).__name__} has {count_parameters(model):,} trainable parameters')# Train the model"
   ]
  },
  {
   "cell_type": "markdown",
   "metadata": {},
   "source": [
    "**Unit test**: Let's define a simple unit test, inputing some mock EEG data and see whether we got the desired output as 4 classes."
   ]
  },
  {
   "cell_type": "code",
   "execution_count": 13,
   "metadata": {},
   "outputs": [
    {
     "name": "stdout",
     "output_type": "stream",
     "text": [
      "Prediction shape:  torch.Size([2, 1])\n",
      "Predictions:  tensor([[0.5552],\n",
      "        [0.6666]], device='cuda:0', grad_fn=<AddmmBackward>)\n"
     ]
    }
   ],
   "source": [
    "mock_batch_size = 2   \n",
    "mock_input_dim  = 32   \n",
    "mock_height     = data.shape[2]  #need to use real shape to make sure CNN layers work\n",
    "mock_width      = data.shape[3]\n",
    "\n",
    "#note that our model first layer is conv1d which expects (batch, channel, height, width)\n",
    "mock_eegdata = torch.rand(mock_batch_size, mock_input_dim, mock_height, mock_width).to(device)\n",
    "\n",
    "#let's try run the model by simply inserting the mockdata into the model; very similar to .fit\n",
    "predictions = model(mock_eegdata)\n",
    "\n",
    "#let's try to see the predictions whether it really outputs 2 unique classes - 0 and 1\n",
    "print(\"Prediction shape: \", predictions.shape)\n",
    "print(\"Predictions: \", predictions)\n",
    "\n",
    "#simple unit test\n",
    "assert predictions.shape[0] == mock_batch_size\n",
    "assert predictions.shape[1] == output_dim"
   ]
  },
  {
   "cell_type": "markdown",
   "metadata": {},
   "source": [
    "## 3. Training"
   ]
  },
  {
   "cell_type": "markdown",
   "metadata": {
    "tags": []
   },
   "source": [
    "### I. Batch Iterators\n",
    "\n",
    "To make it easier to manage, I have put this into our <code>components/helper.py</code>."
   ]
  },
  {
   "cell_type": "code",
   "execution_count": 14,
   "metadata": {},
   "outputs": [
    {
     "name": "stdout",
     "output_type": "stream",
     "text": [
      "Full Dataset size:  15360\n",
      "Train Dataset size: 10752\n",
      "Valid Dataset size: 3072\n",
      "Test Dataset size:  1536\n",
      "\n"
     ]
    }
   ],
   "source": [
    "train_loader, val_loader, test_loader = getLoaders(dataset=dataset, batch_size=16)"
   ]
  },
  {
   "cell_type": "markdown",
   "metadata": {},
   "source": [
    "### II. Optimizers\n",
    "\n",
    "Optimizer simply refers to the one that gonna take care of the backpropagation process.  The commonly used optimizer is SGD and Adam, both are quite interchangeable.  Here we gonna use Adam.  In order to backpropagate, we gonna define a loss function using cross entropy loss, which is a common loss function for multi-class purposes."
   ]
  },
  {
   "cell_type": "code",
   "execution_count": 15,
   "metadata": {},
   "outputs": [],
   "source": [
    "import torch.optim as optim\n",
    "\n",
    "num_epochs = 50\n",
    "\n",
    "lr = 0.0001\n",
    "\n",
    "#can also try SGD which should not make too much of a difference\n",
    "optimizer = optim.Adam(model.parameters(), lr=lr) \n",
    "\n",
    "#combine sigmoid with binary entropy; binary entropy is used for binary classification\n",
    "criterion = nn.BCEWithLogitsLoss() "
   ]
  },
  {
   "cell_type": "markdown",
   "metadata": {
    "tags": []
   },
   "source": [
    "### III. Let's train!"
   ]
  },
  {
   "cell_type": "code",
   "execution_count": 16,
   "metadata": {},
   "outputs": [
    {
     "name": "stdout",
     "output_type": "stream",
     "text": [
      "Epoch: 01 | Epoch Time: 0m 3s\n",
      "\t Train Loss: 0.795 | Train Acc: 53.90%\n",
      "\t Val. Loss: 0.678  |  Val. Acc: 57.98%\n",
      "Epoch: 02 | Epoch Time: 0m 3s\n",
      "\t Train Loss: 0.738 | Train Acc: 57.29%\n",
      "\t Val. Loss: 0.689  |  Val. Acc: 60.48%\n",
      "Epoch: 03 | Epoch Time: 0m 3s\n",
      "\t Train Loss: 0.701 | Train Acc: 59.77%\n",
      "\t Val. Loss: 0.636  |  Val. Acc: 63.80%\n",
      "Epoch: 04 | Epoch Time: 0m 3s\n",
      "\t Train Loss: 0.680 | Train Acc: 60.94%\n",
      "\t Val. Loss: 0.627  |  Val. Acc: 64.52%\n",
      "Epoch: 05 | Epoch Time: 0m 3s\n",
      "\t Train Loss: 0.656 | Train Acc: 63.19%\n",
      "\t Val. Loss: 0.620  |  Val. Acc: 65.72%\n",
      "Epoch: 06 | Epoch Time: 0m 3s\n",
      "\t Train Loss: 0.642 | Train Acc: 64.75%\n",
      "\t Val. Loss: 0.597  |  Val. Acc: 67.55%\n",
      "Epoch: 07 | Epoch Time: 0m 3s\n",
      "\t Train Loss: 0.616 | Train Acc: 66.19%\n",
      "\t Val. Loss: 0.582  |  Val. Acc: 69.86%\n",
      "Epoch: 08 | Epoch Time: 0m 3s\n",
      "\t Train Loss: 0.607 | Train Acc: 67.15%\n",
      "\t Val. Loss: 0.580  |  Val. Acc: 69.30%\n",
      "Epoch: 09 | Epoch Time: 0m 3s\n",
      "\t Train Loss: 0.590 | Train Acc: 68.40%\n",
      "\t Val. Loss: 0.566  |  Val. Acc: 70.93%\n",
      "Epoch: 10 | Epoch Time: 0m 3s\n",
      "\t Train Loss: 0.582 | Train Acc: 68.71%\n",
      "\t Val. Loss: 0.558  |  Val. Acc: 71.78%\n",
      "Epoch: 11 | Epoch Time: 0m 3s\n",
      "\t Train Loss: 0.557 | Train Acc: 71.81%\n",
      "\t Val. Loss: 0.545  |  Val. Acc: 72.98%\n",
      "Epoch: 12 | Epoch Time: 0m 3s\n",
      "\t Train Loss: 0.544 | Train Acc: 72.17%\n",
      "\t Val. Loss: 0.539  |  Val. Acc: 72.82%\n",
      "Epoch: 13 | Epoch Time: 0m 3s\n",
      "\t Train Loss: 0.531 | Train Acc: 73.00%\n",
      "\t Val. Loss: 0.522  |  Val. Acc: 74.45%\n",
      "Epoch: 14 | Epoch Time: 0m 3s\n",
      "\t Train Loss: 0.518 | Train Acc: 74.10%\n",
      "\t Val. Loss: 0.572  |  Val. Acc: 69.47%\n",
      "Epoch: 15 | Epoch Time: 0m 4s\n",
      "\t Train Loss: 0.511 | Train Acc: 74.99%\n",
      "\t Val. Loss: 0.512  |  Val. Acc: 74.28%\n",
      "Epoch: 16 | Epoch Time: 0m 3s\n",
      "\t Train Loss: 0.495 | Train Acc: 75.82%\n",
      "\t Val. Loss: 0.512  |  Val. Acc: 74.54%\n",
      "Epoch: 17 | Epoch Time: 0m 3s\n",
      "\t Train Loss: 0.479 | Train Acc: 77.04%\n",
      "\t Val. Loss: 0.501  |  Val. Acc: 75.13%\n",
      "Epoch: 18 | Epoch Time: 0m 3s\n",
      "\t Train Loss: 0.471 | Train Acc: 76.79%\n",
      "\t Val. Loss: 0.489  |  Val. Acc: 75.62%\n",
      "Epoch: 19 | Epoch Time: 0m 3s\n",
      "\t Train Loss: 0.462 | Train Acc: 77.52%\n",
      "\t Val. Loss: 0.474  |  Val. Acc: 77.02%\n",
      "Epoch: 20 | Epoch Time: 0m 3s\n",
      "\t Train Loss: 0.448 | Train Acc: 79.13%\n",
      "\t Val. Loss: 0.480  |  Val. Acc: 75.65%\n",
      "Epoch: 21 | Epoch Time: 0m 3s\n",
      "\t Train Loss: 0.437 | Train Acc: 79.33%\n",
      "\t Val. Loss: 0.494  |  Val. Acc: 75.46%\n",
      "Epoch: 22 | Epoch Time: 0m 3s\n",
      "\t Train Loss: 0.425 | Train Acc: 80.04%\n",
      "\t Val. Loss: 0.455  |  Val. Acc: 77.99%\n",
      "Epoch: 23 | Epoch Time: 0m 3s\n",
      "\t Train Loss: 0.410 | Train Acc: 81.04%\n",
      "\t Val. Loss: 0.450  |  Val. Acc: 78.74%\n",
      "Epoch: 24 | Epoch Time: 0m 3s\n",
      "\t Train Loss: 0.398 | Train Acc: 81.71%\n",
      "\t Val. Loss: 0.443  |  Val. Acc: 79.20%\n",
      "Epoch: 25 | Epoch Time: 0m 3s\n",
      "\t Train Loss: 0.392 | Train Acc: 82.32%\n",
      "\t Val. Loss: 0.433  |  Val. Acc: 79.92%\n",
      "Epoch: 26 | Epoch Time: 0m 3s\n",
      "\t Train Loss: 0.389 | Train Acc: 82.49%\n",
      "\t Val. Loss: 0.452  |  Val. Acc: 78.71%\n",
      "Epoch: 27 | Epoch Time: 0m 3s\n",
      "\t Train Loss: 0.381 | Train Acc: 82.59%\n",
      "\t Val. Loss: 0.480  |  Val. Acc: 76.66%\n",
      "Epoch: 28 | Epoch Time: 0m 3s\n",
      "\t Train Loss: 0.372 | Train Acc: 83.18%\n",
      "\t Val. Loss: 0.447  |  Val. Acc: 78.87%\n",
      "Epoch: 29 | Epoch Time: 0m 3s\n",
      "\t Train Loss: 0.362 | Train Acc: 83.58%\n",
      "\t Val. Loss: 0.429  |  Val. Acc: 79.69%\n",
      "Epoch: 30 | Epoch Time: 0m 3s\n",
      "\t Train Loss: 0.348 | Train Acc: 84.95%\n",
      "\t Val. Loss: 0.414  |  Val. Acc: 80.57%\n",
      "Epoch: 31 | Epoch Time: 0m 3s\n",
      "\t Train Loss: 0.341 | Train Acc: 85.11%\n",
      "\t Val. Loss: 0.420  |  Val. Acc: 79.39%\n",
      "Epoch: 32 | Epoch Time: 0m 3s\n",
      "\t Train Loss: 0.325 | Train Acc: 86.33%\n",
      "\t Val. Loss: 0.420  |  Val. Acc: 79.98%\n",
      "Epoch: 33 | Epoch Time: 0m 3s\n",
      "\t Train Loss: 0.326 | Train Acc: 85.69%\n",
      "\t Val. Loss: 0.415  |  Val. Acc: 80.24%\n",
      "Epoch: 34 | Epoch Time: 0m 3s\n",
      "\t Train Loss: 0.317 | Train Acc: 86.39%\n",
      "\t Val. Loss: 0.392  |  Val. Acc: 82.10%\n",
      "Epoch: 35 | Epoch Time: 0m 3s\n",
      "\t Train Loss: 0.305 | Train Acc: 86.92%\n",
      "\t Val. Loss: 0.407  |  Val. Acc: 81.77%\n",
      "Epoch: 36 | Epoch Time: 0m 3s\n",
      "\t Train Loss: 0.299 | Train Acc: 87.55%\n",
      "\t Val. Loss: 0.397  |  Val. Acc: 81.58%\n",
      "Epoch: 37 | Epoch Time: 0m 3s\n",
      "\t Train Loss: 0.292 | Train Acc: 87.51%\n",
      "\t Val. Loss: 0.399  |  Val. Acc: 80.79%\n",
      "Epoch: 38 | Epoch Time: 0m 3s\n",
      "\t Train Loss: 0.284 | Train Acc: 88.09%\n",
      "\t Val. Loss: 0.408  |  Val. Acc: 80.60%\n",
      "Epoch: 39 | Epoch Time: 0m 3s\n",
      "\t Train Loss: 0.284 | Train Acc: 87.91%\n",
      "\t Val. Loss: 0.378  |  Val. Acc: 82.98%\n",
      "Epoch: 40 | Epoch Time: 0m 3s\n",
      "\t Train Loss: 0.270 | Train Acc: 88.88%\n",
      "\t Val. Loss: 0.373  |  Val. Acc: 83.40%\n",
      "Epoch: 41 | Epoch Time: 0m 3s\n",
      "\t Train Loss: 0.269 | Train Acc: 89.01%\n",
      "\t Val. Loss: 0.398  |  Val. Acc: 81.41%\n",
      "Epoch: 42 | Epoch Time: 0m 3s\n",
      "\t Train Loss: 0.259 | Train Acc: 89.25%\n",
      "\t Val. Loss: 0.381  |  Val. Acc: 82.49%\n",
      "Epoch: 43 | Epoch Time: 0m 3s\n",
      "\t Train Loss: 0.252 | Train Acc: 89.56%\n",
      "\t Val. Loss: 0.405  |  Val. Acc: 81.12%\n",
      "Epoch: 44 | Epoch Time: 0m 3s\n",
      "\t Train Loss: 0.248 | Train Acc: 89.57%\n",
      "\t Val. Loss: 0.370  |  Val. Acc: 83.95%\n",
      "Epoch: 45 | Epoch Time: 0m 3s\n",
      "\t Train Loss: 0.239 | Train Acc: 90.20%\n",
      "\t Val. Loss: 0.370  |  Val. Acc: 83.43%\n",
      "Epoch: 46 | Epoch Time: 0m 4s\n",
      "\t Train Loss: 0.232 | Train Acc: 90.73%\n",
      "\t Val. Loss: 0.358  |  Val. Acc: 84.31%\n",
      "Epoch: 47 | Epoch Time: 0m 3s\n",
      "\t Train Loss: 0.233 | Train Acc: 90.60%\n",
      "\t Val. Loss: 0.350  |  Val. Acc: 84.44%\n",
      "Epoch: 48 | Epoch Time: 0m 3s\n",
      "\t Train Loss: 0.219 | Train Acc: 91.01%\n",
      "\t Val. Loss: 0.346  |  Val. Acc: 84.86%\n",
      "Epoch: 49 | Epoch Time: 0m 3s\n",
      "\t Train Loss: 0.218 | Train Acc: 91.23%\n",
      "\t Val. Loss: 0.343  |  Val. Acc: 85.19%\n",
      "Epoch: 50 | Epoch Time: 0m 3s\n",
      "\t Train Loss: 0.213 | Train Acc: 91.48%\n",
      "\t Val. Loss: 0.345  |  Val. Acc: 85.03%\n"
     ]
    }
   ],
   "source": [
    "model_saved_name = \"models/DEAP_Specgram_CNN2D_2layers.pt\"\n",
    "\n",
    "#trainer(num_epochs, model, train_loader, val_loader, optimizer, criterion, model_name, device, seq_len_first=False)\n",
    "train_losses, valid_losses, train_accs, valid_accs = train(num_epochs, model, train_loader, val_loader, optimizer, criterion, model_saved_name, device)"
   ]
  },
  {
   "cell_type": "markdown",
   "metadata": {},
   "source": [
    "Let's plot the losses and acc for easier inspection"
   ]
  },
  {
   "cell_type": "code",
   "execution_count": 17,
   "metadata": {},
   "outputs": [
    {
     "data": {
      "image/png": "[encoded data removed]",
      "text/plain": [
       "<Figure size 720x432 with 1 Axes>"
      ]
     },
     "metadata": {
      "needs_background": "light"
     },
     "output_type": "display_data"
    },
    {
     "data": {
      "image/png": "[encoded data removed]",
      "text/plain": [
       "<Figure size 720x432 with 1 Axes>"
      ]
     },
     "metadata": {
      "needs_background": "light"
     },
     "output_type": "display_data"
    }
   ],
   "source": [
    "plot_performance(train_losses, valid_losses, \"loss\")\n",
    "plot_performance(train_accs, valid_accs, \"acc\")"
   ]
  },
  {
   "cell_type": "markdown",
   "metadata": {},
   "source": [
    "## 4. Evaluation on test set"
   ]
  },
  {
   "cell_type": "code",
   "execution_count": 18,
   "metadata": {},
   "outputs": [
    {
     "name": "stdout",
     "output_type": "stream",
     "text": [
      "Test Loss: 0.334 | Test Acc: 86.20%\n"
     ]
    }
   ],
   "source": [
    "model.load_state_dict(torch.load(model_saved_name))\n",
    "test_loss, test_acc = evaluate(model, test_loader, criterion, device)\n",
    "\n",
    "print(f'Test Loss: {test_loss:.3f} | Test Acc: {test_acc*100:.2f}%')"
   ]
  },
  {
   "cell_type": "markdown",
   "metadata": {},
   "source": [
    "## Final Verdict\n",
    "\n"
   ]
  },
  {
   "cell_type": "markdown",
   "metadata": {},
   "source": [
    "The accuracy is between LSTM and CNN1D_LSTM.  However, one important note is the relatively much lesser parameters.  In addition, if we train for even longer, perhaps we could achieve even better accuracy.\n",
    "\n",
    "In simple words, spectrograms are a very lean way to achieve reasonable accuracy.\n",
    "\n",
    "In the next tutorial, let's try to add two more layers of convolution and see whether there is any accuracy increased."
   ]
  }
 ],
 "metadata": {
  "kernelspec": {
   "display_name": "Python 3",
   "language": "python",
   "name": "python3"
  },
  "language_info": {
   "codemirror_mode": {
    "name": "ipython",
    "version": 3
   },
   "file_extension": ".py",
   "mimetype": "text/x-python",
   "name": "python",
   "nbconvert_exporter": "python",
   "pygments_lexer": "ipython3",
   "version": "3.8.10"
  }
 },
 "nbformat": 4,
 "nbformat_minor": 5
}
