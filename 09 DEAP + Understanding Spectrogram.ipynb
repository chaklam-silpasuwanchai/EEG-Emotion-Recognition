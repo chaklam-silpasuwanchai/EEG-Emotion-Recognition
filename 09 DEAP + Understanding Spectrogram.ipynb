{
 "cells": [
  {
   "cell_type": "markdown",
   "metadata": {},
   "source": [
    "# DEAP Dataset + Understanding Spectrogram\n",
    "\n",
    "In this part, we shall try something quite different.  That is, we shall convert EEG signals to spectrogram images, where width is time, and height is frequency.  In a nutshell, spectrogram contains both temporal and spatial information, which can then be learned effectively by CNN2D (we hope).\n",
    "\n",
    "*Note that we will be only predicting the valence.  Feel free to work on the arousal yourself.*"
   ]
  },
  {
   "cell_type": "code",
   "execution_count": 1,
   "metadata": {},
   "outputs": [],
   "source": [
    "import torch\n",
    "import torch.nn as nn\n",
    "import torch.nn.functional as F\n",
    "import os, pickle\n",
    "\n",
    "# setting seed so that splitting process and training process can be reproduce\n",
    "torch.manual_seed(1)\n",
    "\n",
    "import numpy as np\n",
    "\n",
    "#refactoring components\n",
    "#maybe you want to take a look at these components, because we will be using them in the future series\n",
    "from components.dataset import Dataset, SpecDataset\n",
    "from components.helper import getLoaders, count_parameters, plot_performance\n",
    "from components.train import train, evaluate, initialize_weights"
   ]
  },
  {
   "cell_type": "markdown",
   "metadata": {},
   "source": [
    "Set cuda accordingly."
   ]
  },
  {
   "cell_type": "code",
   "execution_count": 2,
   "metadata": {},
   "outputs": [
    {
     "name": "stdout",
     "output_type": "stream",
     "text": [
      "Configured device:  cuda\n"
     ]
    }
   ],
   "source": [
    "device = torch.device('cuda' if torch.cuda.is_available() else 'cpu')\n",
    "print(\"Configured device: \", device)"
   ]
  },
  {
   "cell_type": "markdown",
   "metadata": {},
   "source": [
    "## 1. Understanding spectogram\n",
    "\n",
    "Ref: https://docs.scipy.org/doc/scipy/reference/generated/scipy.signal.spectrogram.html"
   ]
  },
  {
   "cell_type": "code",
   "execution_count": 3,
   "metadata": {},
   "outputs": [],
   "source": [
    "path = \"data\""
   ]
  },
  {
   "cell_type": "code",
   "execution_count": 4,
   "metadata": {},
   "outputs": [],
   "source": [
    "_, _, filenames = next(os.walk(path))\n",
    "filenames = sorted(filenames)\n",
    "all_data = []\n",
    "all_label = []\n",
    "for dat in filenames:\n",
    "    temp = pickle.load(open(os.path.join(path,dat), 'rb'), encoding='latin1')\n",
    "    all_data.append(temp['data'])\n",
    "    all_label.append(temp['labels'][:,:1])   #the first index is valence\n",
    "    \n",
    "data = np.vstack(all_data)[:, :32, :]   #shape: (1280, 40, 8064) ==> 1280 samples / 40 samples = 32 participants\n",
    "label = np.vstack(all_label) #(1280, )  ==> 1280 samples, each with a unique label (depend on the param \"stim\")    "
   ]
  },
  {
   "cell_type": "code",
   "execution_count": 5,
   "metadata": {},
   "outputs": [
    {
     "data": {
      "text/plain": [
       "(1280, 32, 8064)"
      ]
     },
     "execution_count": 5,
     "metadata": {},
     "output_type": "execute_result"
    }
   ],
   "source": [
    "data.shape"
   ]
  },
  {
   "cell_type": "code",
   "execution_count": 6,
   "metadata": {},
   "outputs": [
    {
     "data": {
      "text/plain": [
       "(1280, 1)"
      ]
     },
     "execution_count": 6,
     "metadata": {},
     "output_type": "execute_result"
    }
   ],
   "source": [
    "label.shape"
   ]
  },
  {
   "cell_type": "code",
   "execution_count": 7,
   "metadata": {},
   "outputs": [
    {
     "data": {
      "text/plain": [
       "(8064,)"
      ]
     },
     "execution_count": 7,
     "metadata": {},
     "output_type": "execute_result"
    }
   ],
   "source": [
    "#let's try get one sample data, the first trial data of the first channel\n",
    "sample = data[0, 0, :]\n",
    "\n",
    "sample.shape"
   ]
  },
  {
   "cell_type": "markdown",
   "metadata": {},
   "source": [
    "Let's define the function for running the spectogram.  "
   ]
  },
  {
   "cell_type": "code",
   "execution_count": 8,
   "metadata": {},
   "outputs": [],
   "source": [
    "from scipy import signal\n",
    "\n",
    "def log_specgram(sample, sample_rate, window_size=20, step_size=10, eps=1e-10):\n",
    "    #expect sample shape of (number of samples, )\n",
    "    #thus if we want to use this scipy.signal, we have to loop each trial and each channel\n",
    "    freqs, times, spec = signal.spectrogram(sample,\n",
    "                                        fs=sample_rate,\n",
    "                                        nperseg=window_size,\n",
    "                                        noverlap=step_size)\n",
    "    return freqs, times, 10 * np.log(spec.T.astype(np.float32) + eps)"
   ]
  },
  {
   "cell_type": "markdown",
   "metadata": {},
   "source": [
    "Let's call the function"
   ]
  },
  {
   "cell_type": "code",
   "execution_count": 9,
   "metadata": {},
   "outputs": [],
   "source": [
    "# the sampling rate in which our data is at\n",
    "sample_rate = 128\n",
    "\n",
    "# window size refers to the length of time in which we want to create spectograms\n",
    "# step size refers to how the window is gonna move; here we set it to half the window size, thus it gonna overlap by half\n",
    "\n",
    "# the intuition of the optimum window length will depend on your application. \n",
    "# If your application is such that you need time domain information to be more accurate, \n",
    "# reduce the size of your windows. If the application demands frequency domain information \n",
    "# to be more specific, then increase the size of the windows. \n",
    "\n",
    "window_size = int(sample_rate)  #1s\n",
    "step_size = sample_rate * 0.5 #0.5s\n",
    "\n",
    "freqs, times, spectrogram = log_specgram(sample, sample_rate, window_size, step_size)"
   ]
  },
  {
   "cell_type": "markdown",
   "metadata": {},
   "source": [
    "Let's try to understand each of them.\n",
    "\n",
    "The <code>freqs</code> is simply the list of all possible frequencies from 0 to sampling rate /2 (128 / 2 = 64).  The reason we can only analyze up to half our sampling rate is according to **Nyquist theory**."
   ]
  },
  {
   "cell_type": "code",
   "execution_count": 10,
   "metadata": {},
   "outputs": [
    {
     "data": {
      "text/plain": [
       "(65,)"
      ]
     },
     "execution_count": 10,
     "metadata": {},
     "output_type": "execute_result"
    }
   ],
   "source": [
    "freqs.shape"
   ]
  },
  {
   "cell_type": "code",
   "execution_count": 11,
   "metadata": {},
   "outputs": [
    {
     "data": {
      "text/plain": [
       "array([ 0.,  1.,  2.,  3.,  4.,  5.,  6.,  7.,  8.,  9., 10., 11., 12.,\n",
       "       13., 14., 15., 16., 17., 18., 19., 20., 21., 22., 23., 24., 25.,\n",
       "       26., 27., 28., 29., 30., 31., 32., 33., 34., 35., 36., 37., 38.,\n",
       "       39., 40., 41., 42., 43., 44., 45., 46., 47., 48., 49., 50., 51.,\n",
       "       52., 53., 54., 55., 56., 57., 58., 59., 60., 61., 62., 63., 64.])"
      ]
     },
     "execution_count": 11,
     "metadata": {},
     "output_type": "execute_result"
    }
   ],
   "source": [
    "freqs[:]"
   ]
  },
  {
   "cell_type": "markdown",
   "metadata": {},
   "source": [
    "<code>times</code> is in the unit of seconds which determine when we should start our window, i.e., start at 0 to 1, then 0.5 to 1.5, then 1 to 2, etc.  Since we got overlap of 0.5 seconds, thus, the next window will always overlap with previous window by 0.5 seconds."
   ]
  },
  {
   "cell_type": "code",
   "execution_count": 12,
   "metadata": {},
   "outputs": [
    {
     "data": {
      "text/plain": [
       "(125,)"
      ]
     },
     "execution_count": 12,
     "metadata": {},
     "output_type": "execute_result"
    }
   ],
   "source": [
    "times.shape   #8064 / 128 window size * 2 overlap = 126 - 1 = 125   (-1 for the cutoff)"
   ]
  },
  {
   "cell_type": "code",
   "execution_count": 13,
   "metadata": {},
   "outputs": [
    {
     "data": {
      "text/plain": [
       "array([ 0.5,  1. ,  1.5,  2. ,  2.5,  3. ,  3.5,  4. ,  4.5,  5. ,  5.5,\n",
       "        6. ,  6.5,  7. ,  7.5,  8. ,  8.5,  9. ,  9.5, 10. , 10.5, 11. ,\n",
       "       11.5, 12. , 12.5, 13. , 13.5, 14. , 14.5, 15. , 15.5, 16. , 16.5,\n",
       "       17. , 17.5, 18. , 18.5, 19. , 19.5, 20. , 20.5, 21. , 21.5, 22. ,\n",
       "       22.5, 23. , 23.5, 24. , 24.5, 25. , 25.5, 26. , 26.5, 27. , 27.5,\n",
       "       28. , 28.5, 29. , 29.5, 30. , 30.5, 31. , 31.5, 32. , 32.5, 33. ,\n",
       "       33.5, 34. , 34.5, 35. , 35.5, 36. , 36.5, 37. , 37.5, 38. , 38.5,\n",
       "       39. , 39.5, 40. , 40.5, 41. , 41.5, 42. , 42.5, 43. , 43.5, 44. ,\n",
       "       44.5, 45. , 45.5, 46. , 46.5, 47. , 47.5, 48. , 48.5, 49. , 49.5,\n",
       "       50. , 50.5, 51. , 51.5, 52. , 52.5, 53. , 53.5, 54. , 54.5, 55. ,\n",
       "       55.5, 56. , 56.5, 57. , 57.5, 58. , 58.5, 59. , 59.5, 60. , 60.5,\n",
       "       61. , 61.5, 62. , 62.5])"
      ]
     },
     "execution_count": 13,
     "metadata": {},
     "output_type": "execute_result"
    }
   ],
   "source": [
    "times  #(in seconds)"
   ]
  },
  {
   "cell_type": "markdown",
   "metadata": {},
   "source": [
    "Last, the <code>spectrogram</code> describes the magnitude for each combination of <code>times</code> and <code>freqs</code>.  Note that we perform <code>log10</code> in order to scale so that lesser frequencies can be seen and not be dominated by only the 60Hz which is the powerline.  This is also called the process of *converting power to decibel* in the formula of \n",
    "\n",
    "$$ 10 * \\log(P) $$ \n",
    "\n",
    "where P is the power."
   ]
  },
  {
   "cell_type": "code",
   "execution_count": 14,
   "metadata": {},
   "outputs": [
    {
     "data": {
      "text/plain": [
       "(125, 65)"
      ]
     },
     "execution_count": 14,
     "metadata": {},
     "output_type": "execute_result"
    }
   ],
   "source": [
    "spectrogram.shape"
   ]
  },
  {
   "cell_type": "code",
   "execution_count": 15,
   "metadata": {},
   "outputs": [
    {
     "data": {
      "text/plain": [
       "-113.145386"
      ]
     },
     "execution_count": 15,
     "metadata": {},
     "output_type": "execute_result"
    }
   ],
   "source": [
    "#the magnitude at time 0 and frequency 0.125\n",
    "spectrogram[0, 1]"
   ]
  },
  {
   "cell_type": "markdown",
   "metadata": {},
   "source": [
    "Let's plot everything.  It's conventional to plot x as time and y as frequency, thus I input <code>spectrogram.T</code>"
   ]
  },
  {
   "cell_type": "code",
   "execution_count": 16,
   "metadata": {},
   "outputs": [
    {
     "data": {
      "text/plain": [
       "<matplotlib.image.AxesImage at 0x7f82a3366460>"
      ]
     },
     "execution_count": 16,
     "metadata": {},
     "output_type": "execute_result"
    },
    {
     "data": {
      "image/png": "[encoded data removed]",
      "text/plain": [
       "<Figure size 1008x576 with 1 Axes>"
      ]
     },
     "metadata": {
      "needs_background": "light"
     },
     "output_type": "display_data"
    }
   ],
   "source": [
    "import matplotlib.pyplot as plt\n",
    "\n",
    "fig = plt.figure(figsize=(14, 8))\n",
    "ax1 = fig.add_subplot(211)\n",
    "ax1.set_title('Spectrogram')\n",
    "ax1.set_ylabel('Frequency (Decibels)')\n",
    "ax1.set_xlabel('Seconds')\n",
    "ax1.imshow(spectrogram.T, aspect='auto', origin='lower', \n",
    "           extent=[times.min(), times.max(), freqs.min(), freqs.max()])"
   ]
  },
  {
   "cell_type": "markdown",
   "metadata": {},
   "source": [
    "Lastly, let's loop through each trial and each channel, and then combine these spectrograms.  Let's first create a holder."
   ]
  },
  {
   "cell_type": "code",
   "execution_count": 17,
   "metadata": {},
   "outputs": [
    {
     "data": {
      "text/plain": [
       "(1280, 32, 125, 65)"
      ]
     },
     "execution_count": 17,
     "metadata": {},
     "output_type": "execute_result"
    }
   ],
   "source": [
    "all_spec_data = np.zeros((data.shape[0], data.shape[1], spectrogram.shape[0], spectrogram.shape[1]))\n",
    "all_spec_data.shape"
   ]
  },
  {
   "cell_type": "code",
   "execution_count": 18,
   "metadata": {},
   "outputs": [
    {
     "data": {
      "text/plain": [
       "(1280, 32, 125, 65)"
      ]
     },
     "execution_count": 18,
     "metadata": {},
     "output_type": "execute_result"
    }
   ],
   "source": [
    "#loop each trial\n",
    "for i, each_trial in enumerate(data):\n",
    "#     print(each_trial.shape) # (channel, seq len) (e.g., 32, 8064)\n",
    "    for j, each_trial_channel in enumerate(each_trial):\n",
    "#         print(each_trial_channel.shape) # (seq len) (e.g., 8064, ) \n",
    "        freqs, times, spectrogram = log_specgram(each_trial_channel, sample_rate, window_size, step_size)\n",
    "        all_spec_data[i, j, :, :] = spectrogram\n",
    "        \n",
    "all_spec_data.shape"
   ]
  },
  {
   "cell_type": "markdown",
   "metadata": {},
   "source": [
    "Here, we got one spectrogram of size (125 times * 65 freq) for each trial and each channel data.  We're done!  \n",
    "\n",
    "**Note**:  the data is in nice shape ready for inputting into CNN, since CNN expects 4D data (batch, channels, height, width)\n",
    "\n",
    "Final note is that </code>window_size</code> and </code>step_size</code> create different tradeoffs between time and frequency resolution.  The intuition of the optimum window length will depend on your application. If your application is such that you need time domain information to be more accurate, reduce the size of your windows. If the application demands frequency domain information to be more specific, then increase the size of the windows. \n",
    "\n",
    "Finally, we have included this boilet code in the <code>components</code> folder so we do not need to repeat it again.\n",
    "\n",
    "Let's load this dataset in the next tutorial and try it in CNN2D."
   ]
  }
 ],
 "metadata": {
  "kernelspec": {
   "display_name": "Python 3",
   "language": "python",
   "name": "python3"
  },
  "language_info": {
   "codemirror_mode": {
    "name": "ipython",
    "version": 3
   },
   "file_extension": ".py",
   "mimetype": "text/x-python",
   "name": "python",
   "nbconvert_exporter": "python",
   "pygments_lexer": "ipython3",
   "version": "3.8.10"
  }
 },
 "nbformat": 4,
 "nbformat_minor": 5
}
