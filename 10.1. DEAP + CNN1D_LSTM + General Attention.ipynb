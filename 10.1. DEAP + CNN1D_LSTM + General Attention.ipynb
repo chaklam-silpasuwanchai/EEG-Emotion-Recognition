{
 "cells": [
  {
   "cell_type": "markdown",
   "metadata": {},
   "source": [
    "# DEAP Dataset + CNN1D_LSTM + General Attention\n",
    "\n",
    "In this part, we shall try add attention mechanisms after LSTM, which has seen a lot of success in the area of NLP.  It's the idea of trying to finding the best possible weighted sum of all hidden states instead of using only the last hidden state for inputting to the linear layer.\n",
    "\n",
    "*Note that we will be only predicting the valence.  Feel free to work on the arousal yourself.*\n",
    "\n",
    "In this part, most of the code will be the same except 2 Defining Model."
   ]
  },
  {
   "cell_type": "code",
   "execution_count": 1,
   "metadata": {},
   "outputs": [],
   "source": [
    "import torch\n",
    "import torch.nn as nn\n",
    "import torch.nn.functional as F\n",
    "\n",
    "# setting seed so that splitting process and training process can be reproduce\n",
    "torch.manual_seed(1)\n",
    "\n",
    "import numpy as np\n",
    "\n",
    "#refactoring components\n",
    "#maybe you want to take a look at these components, because we will be using them in the future series\n",
    "from components.dataset import Dataset\n",
    "from components.helper import getLoaders, count_parameters, plot_performance\n",
    "from components.train import train, evaluate, initialize_weights"
   ]
  },
  {
   "cell_type": "markdown",
   "metadata": {},
   "source": [
    "Set cuda accordingly."
   ]
  },
  {
   "cell_type": "code",
   "execution_count": 2,
   "metadata": {},
   "outputs": [
    {
     "name": "stdout",
     "output_type": "stream",
     "text": [
      "Configured device:  cuda\n"
     ]
    }
   ],
   "source": [
    "device = torch.device('cuda' if torch.cuda.is_available() else 'cpu')\n",
    "print(\"Configured device: \", device)"
   ]
  },
  {
   "cell_type": "markdown",
   "metadata": {},
   "source": [
    "## 1. Loading dataset\n",
    "\n",
    "Let's first reuse the dataset loader we have created in Part 1."
   ]
  },
  {
   "cell_type": "code",
   "execution_count": 3,
   "metadata": {},
   "outputs": [],
   "source": [
    "path = \"data\"  #create a folder \"data\", and inside put s01.dat,....,s32.dat inside from the preprocessed folder from the DEAP dataset"
   ]
  },
  {
   "cell_type": "code",
   "execution_count": 4,
   "metadata": {
    "tags": []
   },
   "outputs": [
    {
     "name": "stdout",
     "output_type": "stream",
     "text": [
      "Data shape:  torch.Size([15360, 32, 672])\n",
      "Label shape:  torch.Size([15360, 1])\n"
     ]
    }
   ],
   "source": [
    "dataset = Dataset(path, \"Valence\")\n",
    "\n",
    "data  = dataset[:]['data']\n",
    "label = dataset[:]['label']\n",
    "\n",
    "print(\"Data shape: \" , data.shape)  #15360 = 32 * 40 trials * 12 segments, 32 EEG channels, 672 samples\n",
    "print(\"Label shape: \", label.shape)  #two classes of valence"
   ]
  },
  {
   "cell_type": "markdown",
   "metadata": {
    "tags": []
   },
   "source": [
    "## 2. Defining the Model\n",
    "\n",
    "General Attention is a very simple idea in which we wanna find the best weighted sum of all hidden states, instead of using the last hidden state to input into the linear layer.  In order to find that weight, we \n",
    "1. perform a multiplication between the all hidden states (i.e., <code>out</code>) and the last hidden state (i.e., <code>hn</code>).  This multiplication will tell us whether the last hidden state should attend to which hidden state more.  \n",
    "2. perform a softmax on this attention matrix so we can get value between 0 and 1\n",
    "3. lastly, we simply multiply this attention matrix with our all hidden states (i.e.,  <code>out</code>)\n",
    "\n",
    "Note that attention has many variants, mostly differ in how they find the attention weights in step 1.  We shall explore other variants of attention in the next tutorial."
   ]
  },
  {
   "cell_type": "code",
   "execution_count": 5,
   "metadata": {},
   "outputs": [],
   "source": [
    "class Conv1D_LSTM_Attention(nn.Module):\n",
    "    '''\n",
    "    Expected Input Shape: (batch, channels, seq_len)  <==what conv1d wants\n",
    "    '''\n",
    "    def __init__(self, input_dim, hidden_dim, num_layers, output_dim, bidirectional, dropout):\n",
    "        super(Conv1D_LSTM_Attention, self).__init__()\n",
    "        self.conv1d = nn.Conv1d(input_dim, input_dim, kernel_size=128, stride=1, padding=1)\n",
    "        self.norm = nn.BatchNorm1d(input_dim)\n",
    "        self.lstm = nn.LSTM(input_dim, \n",
    "                           hidden_dim, \n",
    "                           num_layers=num_layers, \n",
    "                           bidirectional=bidirectional, \n",
    "                           dropout=dropout,\n",
    "                           batch_first=True)\n",
    "        self.fc = nn.Linear(hidden_dim * num_layers, output_dim)\n",
    "    \n",
    "    def attention_net(self, lstm_output, final_state):\n",
    "        hidden = final_state.unsqueeze(2)  # hidden : [batch_size, n_hidden * num_directions(=2), 1(=n_layer)]\n",
    "        attn_weights = torch.bmm(lstm_output, hidden).squeeze(2) # attn_weights : [batch_size, seq_len, 1]\n",
    "        soft_attn_weights = F.softmax(attn_weights, 1)\n",
    "        # context = [batch_size, n_hidden * num_directions(=2), seq_len] * [batch_size, seq_len, 1] = [batch_size, n_hidden * num_directions(=2), 1]\n",
    "        context = torch.bmm(lstm_output.transpose(1, 2), soft_attn_weights.unsqueeze(2)).squeeze(2)\n",
    "        return context, soft_attn_weights.cpu().data.numpy() # context : [batch_size, n_hidden * num_directions(=2)]\n",
    "    \n",
    "    def forward(self, x):\n",
    "        # conv1d expects (batch, channels, seq_len)\n",
    "        # should not try too many conv1d or there is nothing to attend to, thus I have only left with one layer of conv1d\n",
    "        x = F.max_pool1d(F.relu(self.norm(self.conv1d(x))), kernel_size=3)\n",
    "\n",
    "        # change to (batch, seq_len, channels) because lstm expects\n",
    "        x = x.permute(0,2,1)\n",
    "        \n",
    "        #x = [batch size, seq len, channels]\n",
    "        out, (hn, cn) = self.lstm(x)\n",
    "        \n",
    "        #out = [batch size, seq len, hidden dim * num directions]        \n",
    "        #hn = [num layers * num directions, batch size, hidden dim]\n",
    "        #cn = [num layers * num directions, batch size, hidden dim]\n",
    "        \n",
    "        #concat the final forward (hidden[-2,:,:]) and backward (hidden[-1,:,:]) hidden layers\n",
    "        hn = torch.cat((hn[-2,:,:], hn[-1,:,:]), dim = 1)\n",
    "        #hn = [batch size, hidden dim * num directions]\n",
    "        \n",
    "        attn_output, attention = self.attention_net(out, hn)\n",
    "\n",
    "        return self.fc(attn_output)"
   ]
  },
  {
   "cell_type": "markdown",
   "metadata": {},
   "source": [
    "**Model init**: Let's init the class instance and create a workabout model."
   ]
  },
  {
   "cell_type": "code",
   "execution_count": 6,
   "metadata": {},
   "outputs": [
    {
     "data": {
      "text/plain": [
       "Conv1D_LSTM_Attention(\n",
       "  (conv1d): Conv1d(32, 32, kernel_size=(128,), stride=(1,), padding=(1,))\n",
       "  (norm): BatchNorm1d(32, eps=1e-05, momentum=0.1, affine=True, track_running_stats=True)\n",
       "  (lstm): LSTM(32, 256, num_layers=2, batch_first=True, dropout=0.5, bidirectional=True)\n",
       "  (fc): Linear(in_features=512, out_features=1, bias=True)\n",
       ")"
      ]
     },
     "execution_count": 6,
     "metadata": {},
     "output_type": "execute_result"
    }
   ],
   "source": [
    "#note that these params are simply obtained from trial and error; I got no theory to back up why I use certain numbers here...\n",
    "input_dim     = 32 #we got 32 EEG channels\n",
    "hidden_dim    = 256 #let's define hidden dim as 256\n",
    "num_layers    = 2  #we gonna have two LSTM layers\n",
    "output_dim    = 1  #we got 2 classes for our labels\n",
    "bidirectional = True  #uses bidirectional LSTM\n",
    "dropout       = 0.5  #setting dropout to 0.5\n",
    "\n",
    "#define the model\n",
    "model = Conv1D_LSTM_Attention(input_dim, hidden_dim, num_layers, output_dim, bidirectional, dropout)\n",
    "\n",
    "#send to cuda so we can use the GPU\n",
    "model = model.to(device)  \n",
    "\n",
    "#apply weights\n",
    "model.apply(initialize_weights)"
   ]
  },
  {
   "cell_type": "markdown",
   "metadata": {},
   "source": [
    "**Param count**: Let's also check the number of parameters used"
   ]
  },
  {
   "cell_type": "code",
   "execution_count": 7,
   "metadata": {},
   "outputs": [
    {
     "name": "stdout",
     "output_type": "stream",
     "text": [
      "The model Conv1D_LSTM_Attention has 2,302,561 trainable parameters\n"
     ]
    }
   ],
   "source": [
    "print(f'The model {type(model).__name__} has {count_parameters(model):,} trainable parameters')# Train the model"
   ]
  },
  {
   "cell_type": "markdown",
   "metadata": {},
   "source": [
    "**Unit test**: Let's define a simple unit test, inputing some mock EEG data and see whether we got the desired output as 4 classes."
   ]
  },
  {
   "cell_type": "code",
   "execution_count": 8,
   "metadata": {},
   "outputs": [
    {
     "name": "stdout",
     "output_type": "stream",
     "text": [
      "Prediction shape:  torch.Size([2, 1])\n",
      "Predictions:  tensor([[-0.0193],\n",
      "        [-0.0190]], device='cuda:0', grad_fn=<AddmmBackward>)\n"
     ]
    }
   ],
   "source": [
    "mock_batch_size = 2    #in real training, we use 32\n",
    "mock_input_dim  = 32   #in real data, ours is 32 channels\n",
    "mock_seq_len    = 8064 #in real data, ours is 8064\n",
    "\n",
    "#note that our model first layer is conv1d which expects (batch, channel, seq len)\n",
    "mock_eegdata = torch.rand(mock_batch_size, mock_input_dim, mock_seq_len).to(device)\n",
    "\n",
    "#let's try run the model by simply inserting the mockdata into the model; very similar to .fit\n",
    "predictions = model(mock_eegdata)\n",
    "\n",
    "#let's try to see the predictions whether it really outputs 2 unique classes - 0 and 1\n",
    "print(\"Prediction shape: \", predictions.shape)\n",
    "print(\"Predictions: \", predictions)\n",
    "\n",
    "#simple unit test\n",
    "assert predictions.shape[0] == mock_batch_size\n",
    "assert predictions.shape[1] == output_dim"
   ]
  },
  {
   "cell_type": "markdown",
   "metadata": {},
   "source": [
    "## 3. Training"
   ]
  },
  {
   "cell_type": "markdown",
   "metadata": {
    "tags": []
   },
   "source": [
    "### I. Batch Iterators\n",
    "\n",
    "To make it easier to manage, I have put this into our <code>components/helper.py</code>."
   ]
  },
  {
   "cell_type": "code",
   "execution_count": 9,
   "metadata": {},
   "outputs": [
    {
     "name": "stdout",
     "output_type": "stream",
     "text": [
      "Full Dataset size:  15360\n",
      "Train Dataset size: 10752\n",
      "Valid Dataset size: 3072\n",
      "Test Dataset size:  1536\n",
      "\n"
     ]
    }
   ],
   "source": [
    "train_loader, val_loader, test_loader = getLoaders(dataset=dataset, batch_size=16)"
   ]
  },
  {
   "cell_type": "markdown",
   "metadata": {},
   "source": [
    "### II. Optimizers\n",
    "\n",
    "Optimizer simply refers to the one that gonna take care of the backpropagation process.  The commonly used optimizer is SGD and Adam, both are quite interchangeable.  Here we gonna use Adam.  In order to backpropagate, we gonna define a loss function using cross entropy loss, which is a common loss function for multi-class purposes."
   ]
  },
  {
   "cell_type": "code",
   "execution_count": 10,
   "metadata": {},
   "outputs": [],
   "source": [
    "import torch.optim as optim\n",
    "\n",
    "num_epochs = 50\n",
    "\n",
    "lr = 0.0001\n",
    "\n",
    "#can also try SGD which should not make too much of a difference\n",
    "optimizer = optim.Adam(model.parameters(), lr=lr) \n",
    "\n",
    "#combine sigmoid with binary entropy; binary entropy is used for binary classification\n",
    "criterion = nn.BCEWithLogitsLoss() "
   ]
  },
  {
   "cell_type": "markdown",
   "metadata": {
    "tags": []
   },
   "source": [
    "### III. Let's train!"
   ]
  },
  {
   "cell_type": "code",
   "execution_count": 11,
   "metadata": {},
   "outputs": [
    {
     "name": "stdout",
     "output_type": "stream",
     "text": [
      "Epoch: 01 | Epoch Time: 0m 26s\n",
      "\t Train Loss: 0.683 | Train Acc: 56.18%\n",
      "\t Val. Loss: 0.677  |  Val. Acc: 58.30%\n",
      "Epoch: 02 | Epoch Time: 0m 26s\n",
      "\t Train Loss: 0.643 | Train Acc: 61.42%\n",
      "\t Val. Loss: 0.599  |  Val. Acc: 65.95%\n",
      "Epoch: 03 | Epoch Time: 0m 26s\n",
      "\t Train Loss: 0.514 | Train Acc: 73.77%\n",
      "\t Val. Loss: 0.479  |  Val. Acc: 76.07%\n",
      "Epoch: 04 | Epoch Time: 0m 27s\n",
      "\t Train Loss: 0.371 | Train Acc: 82.26%\n",
      "\t Val. Loss: 0.361  |  Val. Acc: 82.32%\n",
      "Epoch: 05 | Epoch Time: 0m 26s\n",
      "\t Train Loss: 0.266 | Train Acc: 88.07%\n",
      "\t Val. Loss: 0.318  |  Val. Acc: 85.19%\n",
      "Epoch: 06 | Epoch Time: 0m 27s\n",
      "\t Train Loss: 0.186 | Train Acc: 92.21%\n",
      "\t Val. Loss: 0.289  |  Val. Acc: 87.86%\n",
      "Epoch: 07 | Epoch Time: 0m 27s\n",
      "\t Train Loss: 0.133 | Train Acc: 94.75%\n",
      "\t Val. Loss: 0.348  |  Val. Acc: 88.15%\n",
      "Epoch: 08 | Epoch Time: 0m 27s\n",
      "\t Train Loss: 0.104 | Train Acc: 95.60%\n",
      "\t Val. Loss: 0.245  |  Val. Acc: 90.89%\n",
      "Epoch: 09 | Epoch Time: 0m 26s\n",
      "\t Train Loss: 0.088 | Train Acc: 96.90%\n",
      "\t Val. Loss: 0.294  |  Val. Acc: 90.01%\n",
      "Epoch: 10 | Epoch Time: 0m 26s\n",
      "\t Train Loss: 0.054 | Train Acc: 97.91%\n",
      "\t Val. Loss: 0.245  |  Val. Acc: 91.57%\n",
      "Epoch: 11 | Epoch Time: 0m 26s\n",
      "\t Train Loss: 0.053 | Train Acc: 97.94%\n",
      "\t Val. Loss: 0.263  |  Val. Acc: 92.02%\n",
      "Epoch: 12 | Epoch Time: 0m 27s\n",
      "\t Train Loss: 0.038 | Train Acc: 98.68%\n",
      "\t Val. Loss: 0.278  |  Val. Acc: 92.45%\n",
      "Epoch: 13 | Epoch Time: 0m 26s\n",
      "\t Train Loss: 0.042 | Train Acc: 98.52%\n",
      "\t Val. Loss: 0.253  |  Val. Acc: 92.94%\n",
      "Epoch: 14 | Epoch Time: 0m 27s\n",
      "\t Train Loss: 0.029 | Train Acc: 99.14%\n",
      "\t Val. Loss: 0.264  |  Val. Acc: 93.13%\n",
      "Epoch: 15 | Epoch Time: 0m 27s\n",
      "\t Train Loss: 0.024 | Train Acc: 99.27%\n",
      "\t Val. Loss: 0.294  |  Val. Acc: 91.54%\n",
      "Epoch: 16 | Epoch Time: 0m 27s\n",
      "\t Train Loss: 0.018 | Train Acc: 99.53%\n",
      "\t Val. Loss: 0.391  |  Val. Acc: 91.96%\n",
      "Epoch: 17 | Epoch Time: 0m 27s\n",
      "\t Train Loss: 0.018 | Train Acc: 99.41%\n",
      "\t Val. Loss: 0.271  |  Val. Acc: 92.55%\n",
      "Epoch: 18 | Epoch Time: 0m 26s\n",
      "\t Train Loss: 0.022 | Train Acc: 99.42%\n",
      "\t Val. Loss: 0.317  |  Val. Acc: 91.86%\n",
      "Epoch: 19 | Epoch Time: 0m 26s\n",
      "\t Train Loss: 0.015 | Train Acc: 99.55%\n",
      "\t Val. Loss: 0.265  |  Val. Acc: 91.76%\n",
      "Epoch: 20 | Epoch Time: 0m 27s\n",
      "\t Train Loss: 0.015 | Train Acc: 99.53%\n",
      "\t Val. Loss: 0.277  |  Val. Acc: 92.84%\n",
      "Epoch: 21 | Epoch Time: 0m 26s\n",
      "\t Train Loss: 0.011 | Train Acc: 99.62%\n",
      "\t Val. Loss: 0.347  |  Val. Acc: 92.25%\n",
      "Epoch: 22 | Epoch Time: 0m 27s\n",
      "\t Train Loss: 0.011 | Train Acc: 99.72%\n",
      "\t Val. Loss: 0.340  |  Val. Acc: 92.38%\n",
      "Epoch: 23 | Epoch Time: 0m 26s\n",
      "\t Train Loss: 0.023 | Train Acc: 99.21%\n",
      "\t Val. Loss: 0.247  |  Val. Acc: 93.46%\n",
      "Epoch: 24 | Epoch Time: 0m 27s\n",
      "\t Train Loss: 0.012 | Train Acc: 99.68%\n",
      "\t Val. Loss: 0.296  |  Val. Acc: 93.46%\n",
      "Epoch: 25 | Epoch Time: 0m 27s\n",
      "\t Train Loss: 0.014 | Train Acc: 99.52%\n",
      "\t Val. Loss: 0.277  |  Val. Acc: 93.55%\n",
      "Epoch: 26 | Epoch Time: 0m 27s\n",
      "\t Train Loss: 0.009 | Train Acc: 99.71%\n",
      "\t Val. Loss: 0.265  |  Val. Acc: 93.78%\n",
      "Epoch: 27 | Epoch Time: 0m 26s\n",
      "\t Train Loss: 0.013 | Train Acc: 99.60%\n",
      "\t Val. Loss: 0.232  |  Val. Acc: 94.01%\n",
      "Epoch: 28 | Epoch Time: 0m 26s\n",
      "\t Train Loss: 0.008 | Train Acc: 99.75%\n",
      "\t Val. Loss: 0.291  |  Val. Acc: 93.07%\n",
      "Epoch: 29 | Epoch Time: 0m 27s\n",
      "\t Train Loss: 0.014 | Train Acc: 99.56%\n",
      "\t Val. Loss: 0.284  |  Val. Acc: 93.07%\n",
      "Epoch: 30 | Epoch Time: 0m 27s\n",
      "\t Train Loss: 0.014 | Train Acc: 99.54%\n",
      "\t Val. Loss: 0.278  |  Val. Acc: 93.07%\n",
      "Epoch: 31 | Epoch Time: 0m 27s\n",
      "\t Train Loss: 0.007 | Train Acc: 99.76%\n",
      "\t Val. Loss: 0.409  |  Val. Acc: 92.42%\n",
      "Epoch: 32 | Epoch Time: 0m 26s\n",
      "\t Train Loss: 0.009 | Train Acc: 99.66%\n",
      "\t Val. Loss: 0.327  |  Val. Acc: 92.81%\n",
      "Epoch: 33 | Epoch Time: 0m 27s\n",
      "\t Train Loss: 0.013 | Train Acc: 99.58%\n",
      "\t Val. Loss: 0.269  |  Val. Acc: 92.97%\n",
      "Epoch: 34 | Epoch Time: 0m 27s\n",
      "\t Train Loss: 0.005 | Train Acc: 99.86%\n",
      "\t Val. Loss: 0.335  |  Val. Acc: 92.45%\n",
      "Epoch: 35 | Epoch Time: 0m 26s\n",
      "\t Train Loss: 0.008 | Train Acc: 99.75%\n",
      "\t Val. Loss: 0.346  |  Val. Acc: 93.13%\n",
      "Epoch: 36 | Epoch Time: 0m 26s\n",
      "\t Train Loss: 0.011 | Train Acc: 99.66%\n",
      "\t Val. Loss: 0.355  |  Val. Acc: 92.42%\n",
      "Epoch: 37 | Epoch Time: 0m 27s\n",
      "\t Train Loss: 0.006 | Train Acc: 99.79%\n",
      "\t Val. Loss: 0.390  |  Val. Acc: 92.55%\n",
      "Epoch: 38 | Epoch Time: 0m 26s\n",
      "\t Train Loss: 0.012 | Train Acc: 99.62%\n",
      "\t Val. Loss: 0.259  |  Val. Acc: 94.24%\n",
      "Epoch: 39 | Epoch Time: 0m 26s\n",
      "\t Train Loss: 0.005 | Train Acc: 99.81%\n",
      "\t Val. Loss: 0.271  |  Val. Acc: 93.49%\n",
      "Epoch: 40 | Epoch Time: 0m 26s\n",
      "\t Train Loss: 0.006 | Train Acc: 99.82%\n",
      "\t Val. Loss: 0.412  |  Val. Acc: 92.68%\n",
      "Epoch: 41 | Epoch Time: 0m 27s\n",
      "\t Train Loss: 0.007 | Train Acc: 99.79%\n",
      "\t Val. Loss: 0.357  |  Val. Acc: 93.42%\n",
      "Epoch: 42 | Epoch Time: 0m 27s\n",
      "\t Train Loss: 0.008 | Train Acc: 99.80%\n",
      "\t Val. Loss: 0.304  |  Val. Acc: 94.17%\n",
      "Epoch: 43 | Epoch Time: 0m 26s\n",
      "\t Train Loss: 0.013 | Train Acc: 99.60%\n",
      "\t Val. Loss: 0.295  |  Val. Acc: 94.17%\n",
      "Epoch: 44 | Epoch Time: 0m 26s\n",
      "\t Train Loss: 0.004 | Train Acc: 99.90%\n",
      "\t Val. Loss: 0.314  |  Val. Acc: 93.10%\n",
      "Epoch: 45 | Epoch Time: 0m 26s\n",
      "\t Train Loss: 0.007 | Train Acc: 99.79%\n",
      "\t Val. Loss: 0.337  |  Val. Acc: 93.91%\n",
      "Epoch: 46 | Epoch Time: 0m 26s\n",
      "\t Train Loss: 0.005 | Train Acc: 99.85%\n",
      "\t Val. Loss: 0.358  |  Val. Acc: 94.01%\n",
      "Epoch: 47 | Epoch Time: 0m 26s\n",
      "\t Train Loss: 0.008 | Train Acc: 99.78%\n",
      "\t Val. Loss: 0.379  |  Val. Acc: 91.86%\n",
      "Epoch: 48 | Epoch Time: 0m 27s\n",
      "\t Train Loss: 0.014 | Train Acc: 99.64%\n",
      "\t Val. Loss: 0.272  |  Val. Acc: 94.11%\n",
      "Epoch: 49 | Epoch Time: 0m 26s\n",
      "\t Train Loss: 0.005 | Train Acc: 99.87%\n",
      "\t Val. Loss: 0.368  |  Val. Acc: 93.49%\n",
      "Epoch: 50 | Epoch Time: 0m 26s\n",
      "\t Train Loss: 0.002 | Train Acc: 99.94%\n",
      "\t Val. Loss: 0.303  |  Val. Acc: 94.60%\n"
     ]
    }
   ],
   "source": [
    "model_saved_name = \"models/DEAP_CNN_BiLSTM_Attention.pt\"\n",
    "\n",
    "#trainer(num_epochs, model, train_loader, val_loader, optimizer, criterion, model_name, device, seq_len_first=False)\n",
    "train_losses, valid_losses, train_accs, valid_accs = train(num_epochs, model, train_loader, val_loader, optimizer, criterion, model_saved_name, device)"
   ]
  },
  {
   "cell_type": "markdown",
   "metadata": {},
   "source": [
    "Let's plot the losses and acc for easier inspection"
   ]
  },
  {
   "cell_type": "code",
   "execution_count": 12,
   "metadata": {},
   "outputs": [
    {
     "data": {
      "image/png": "[encoded data removed]",
      "text/plain": [
       "<Figure size 720x432 with 1 Axes>"
      ]
     },
     "metadata": {
      "needs_background": "light"
     },
     "output_type": "display_data"
    },
    {
     "data": {
      "image/png": "[encoded data removed]",
      "text/plain": [
       "<Figure size 720x432 with 1 Axes>"
      ]
     },
     "metadata": {
      "needs_background": "light"
     },
     "output_type": "display_data"
    }
   ],
   "source": [
    "plot_performance(train_losses, valid_losses, \"loss\")\n",
    "plot_performance(train_accs, valid_accs, \"acc\")"
   ]
  },
  {
   "cell_type": "markdown",
   "metadata": {},
   "source": [
    "## 4. Evaluation on test set"
   ]
  },
  {
   "cell_type": "code",
   "execution_count": 13,
   "metadata": {},
   "outputs": [
    {
     "name": "stdout",
     "output_type": "stream",
     "text": [
      "Test Loss: 0.215 | Test Acc: 94.66%\n"
     ]
    }
   ],
   "source": [
    "model.load_state_dict(torch.load(model_saved_name))\n",
    "test_loss, test_acc = evaluate(model, test_loader, criterion, device)\n",
    "\n",
    "print(f'Test Loss: {test_loss:.3f} | Test Acc: {test_acc*100:.2f}%')"
   ]
  },
  {
   "cell_type": "markdown",
   "metadata": {},
   "source": [
    "## Final Verdict\n",
    "\n"
   ]
  },
  {
   "cell_type": "markdown",
   "metadata": {},
   "source": [
    "Hmm...it works fine increasing the accuracy by around 3%.  The intuition is likely that attention is like another layer that allows longer dependencies learning because attention is simply like convolution but of full width.\n",
    "\n",
    "Let's try another variant of attention which is self-attention, inspired by the Transformers.  Maybe it will perform better."
   ]
  }
 ],
 "metadata": {
  "kernelspec": {
   "display_name": "Python 3",
   "language": "python",
   "name": "python3"
  },
  "language_info": {
   "codemirror_mode": {
    "name": "ipython",
    "version": 3
   },
   "file_extension": ".py",
   "mimetype": "text/x-python",
   "name": "python",
   "nbconvert_exporter": "python",
   "pygments_lexer": "ipython3",
   "version": "3.8.10"
  }
 },
 "nbformat": 4,
 "nbformat_minor": 5
}
