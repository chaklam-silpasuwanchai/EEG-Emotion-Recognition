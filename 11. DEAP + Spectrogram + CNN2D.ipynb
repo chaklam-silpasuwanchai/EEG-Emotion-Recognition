{
 "cells": [
  {
   "cell_type": "markdown",
   "metadata": {},
   "source": [
    "# Part 11. DEAP Dataset + Spectrogram + CNN2D\n",
    "\n",
    "In this part 11, we shall try something quite different.  That is, we shall convert EEG signals to spectrogram images, where width is time, and height is frequency.  In a nutshell, spectrogram contains both temporal and spatial information, which can then be learned effectively by CNN2D (we hope).\n",
    "\n",
    "*Note that we will be only predicting the valence.  Feel free to work on the arousal yourself.*\n",
    "\n",
    "In this part, most of the code will be the same except 1. Loading Dataset, and 2 Defining Model."
   ]
  },
  {
   "cell_type": "code",
   "execution_count": 1,
   "metadata": {},
   "outputs": [],
   "source": [
    "import torch\n",
    "import torch.nn as nn\n",
    "import torch.nn.functional as F\n",
    "import os, pickle\n",
    "\n",
    "# setting seed so that splitting process and training process can be reproduce\n",
    "torch.manual_seed(1)\n",
    "\n",
    "import numpy as np\n",
    "\n",
    "#refactoring components\n",
    "#maybe you want to take a look at these components, because we will be using them in the future series\n",
    "from components.dataset import Dataset, SpecDataset\n",
    "from components.helper import getLoaders, count_parameters, plot_performance\n",
    "from components.train import train, evaluate, initialize_weights"
   ]
  },
  {
   "cell_type": "markdown",
   "metadata": {},
   "source": [
    "Set cuda accordingly."
   ]
  },
  {
   "cell_type": "code",
   "execution_count": 2,
   "metadata": {},
   "outputs": [
    {
     "name": "stdout",
     "output_type": "stream",
     "text": [
      "Configured device:  cuda\n"
     ]
    }
   ],
   "source": [
    "device = torch.device('cuda' if torch.cuda.is_available() else 'cpu')\n",
    "print(\"Configured device: \", device)"
   ]
  },
  {
   "cell_type": "markdown",
   "metadata": {},
   "source": [
    "## 1. Understanding spectogram\n",
    "\n",
    "Ref: https://docs.scipy.org/doc/scipy/reference/generated/scipy.signal.spectrogram.html"
   ]
  },
  {
   "cell_type": "code",
   "execution_count": 3,
   "metadata": {},
   "outputs": [],
   "source": [
    "path = \"data\""
   ]
  },
  {
   "cell_type": "code",
   "execution_count": 4,
   "metadata": {},
   "outputs": [],
   "source": [
    "_, _, filenames = next(os.walk(path))\n",
    "filenames = sorted(filenames)\n",
    "all_data = []\n",
    "all_label = []\n",
    "for dat in filenames:\n",
    "    temp = pickle.load(open(os.path.join(path,dat), 'rb'), encoding='latin1')\n",
    "    all_data.append(temp['data'])\n",
    "    all_label.append(temp['labels'][:,:1])   #the first index is valence\n",
    "    \n",
    "data = np.vstack(all_data)[:, :32, :]   #shape: (1280, 40, 8064) ==> 1280 samples / 40 samples = 32 participants\n",
    "label = np.vstack(all_label) #(1280, )  ==> 1280 samples, each with a unique label (depend on the param \"stim\")    "
   ]
  },
  {
   "cell_type": "code",
   "execution_count": 5,
   "metadata": {},
   "outputs": [
    {
     "data": {
      "text/plain": [
       "(1280, 32, 8064)"
      ]
     },
     "execution_count": 5,
     "metadata": {},
     "output_type": "execute_result"
    }
   ],
   "source": [
    "data.shape"
   ]
  },
  {
   "cell_type": "code",
   "execution_count": 6,
   "metadata": {},
   "outputs": [
    {
     "data": {
      "text/plain": [
       "(1280, 1)"
      ]
     },
     "execution_count": 6,
     "metadata": {},
     "output_type": "execute_result"
    }
   ],
   "source": [
    "label.shape"
   ]
  },
  {
   "cell_type": "code",
   "execution_count": 7,
   "metadata": {},
   "outputs": [
    {
     "data": {
      "text/plain": [
       "(8064,)"
      ]
     },
     "execution_count": 7,
     "metadata": {},
     "output_type": "execute_result"
    }
   ],
   "source": [
    "#let's try get one sample data, the first trial data of the first channel\n",
    "sample = data[0, 0, :]\n",
    "\n",
    "sample.shape"
   ]
  },
  {
   "cell_type": "markdown",
   "metadata": {},
   "source": [
    "Let's define the function for running the spectogram.  "
   ]
  },
  {
   "cell_type": "code",
   "execution_count": 8,
   "metadata": {},
   "outputs": [],
   "source": [
    "from scipy import signal\n",
    "\n",
    "def log_specgram(sample, sample_rate, window_size=20, step_size=10, eps=1e-10):\n",
    "    #expect sample shape of (number of samples, )\n",
    "    #thus if we want to use this scipy.signal, we have to loop each trial and each channel\n",
    "    freqs, times, spec = signal.spectrogram(sample,\n",
    "                                        fs=sample_rate,\n",
    "                                        nperseg=window_size,\n",
    "                                        noverlap=step_size)\n",
    "    return freqs, times, 10 * np.log(spec.T.astype(np.float32) + eps)"
   ]
  },
  {
   "cell_type": "markdown",
   "metadata": {},
   "source": [
    "Let's call the function"
   ]
  },
  {
   "cell_type": "code",
   "execution_count": 9,
   "metadata": {},
   "outputs": [],
   "source": [
    "# the sampling rate in which our data is at\n",
    "sample_rate = 128\n",
    "\n",
    "# window size refers to the length of time in which we want to create spectograms\n",
    "# step size refers to how the window is gonna move; here we set it to half the window size, thus it gonna overlap by half\n",
    "\n",
    "# the intuition of the optimum window length will depend on your application. \n",
    "# If your application is such that you need time domain information to be more accurate, \n",
    "# reduce the size of your windows. If the application demands frequency domain information \n",
    "# to be more specific, then increase the size of the windows. \n",
    "\n",
    "#we have chosen a rather large window size, because we thought emotion is more about frequency\n",
    "window_size = int(sample_rate)  #1s\n",
    "\n",
    "#512 will be overlapping\n",
    "step_size = sample_rate * 0.5 #0.5s\n",
    "\n",
    "freqs, times, spectrogram = log_specgram(sample, sample_rate, window_size, step_size)"
   ]
  },
  {
   "cell_type": "markdown",
   "metadata": {},
   "source": [
    "Let's try to understand each of them.\n",
    "\n",
    "The <code>freqs</code> is simply the list of all possible frequencies from 0 to sampling rate /2 (128 / 2 = 64).  The reason we can only analyze up to half our sampling rate is according to **Nyquist theory**."
   ]
  },
  {
   "cell_type": "code",
   "execution_count": 10,
   "metadata": {},
   "outputs": [
    {
     "data": {
      "text/plain": [
       "(65,)"
      ]
     },
     "execution_count": 10,
     "metadata": {},
     "output_type": "execute_result"
    }
   ],
   "source": [
    "freqs.shape"
   ]
  },
  {
   "cell_type": "code",
   "execution_count": 11,
   "metadata": {},
   "outputs": [
    {
     "data": {
      "text/plain": [
       "array([ 0.,  1.,  2.,  3.,  4.,  5.,  6.,  7.,  8.,  9., 10., 11., 12.,\n",
       "       13., 14., 15., 16., 17., 18., 19., 20., 21., 22., 23., 24., 25.,\n",
       "       26., 27., 28., 29., 30., 31., 32., 33., 34., 35., 36., 37., 38.,\n",
       "       39., 40., 41., 42., 43., 44., 45., 46., 47., 48., 49., 50., 51.,\n",
       "       52., 53., 54., 55., 56., 57., 58., 59., 60., 61., 62., 63., 64.])"
      ]
     },
     "execution_count": 11,
     "metadata": {},
     "output_type": "execute_result"
    }
   ],
   "source": [
    "freqs[:]"
   ]
  },
  {
   "cell_type": "markdown",
   "metadata": {},
   "source": [
    "<code>times</code> is in the unit of seconds which determine when we should start our window, i.e., start at 0 to 1, then 0.5 to 1.5, then 1 to 2, etc.  Since we got overlap of 0.5 seconds, thus, the next window will always overlap with previous window by 0.5 seconds."
   ]
  },
  {
   "cell_type": "code",
   "execution_count": 12,
   "metadata": {},
   "outputs": [
    {
     "data": {
      "text/plain": [
       "(125,)"
      ]
     },
     "execution_count": 12,
     "metadata": {},
     "output_type": "execute_result"
    }
   ],
   "source": [
    "times.shape   #8064 / 128 window size * 2 overlap = 126 - 1 = 125   (-1 for the cutoff)"
   ]
  },
  {
   "cell_type": "code",
   "execution_count": 13,
   "metadata": {},
   "outputs": [
    {
     "data": {
      "text/plain": [
       "array([ 0.5,  1. ,  1.5,  2. ,  2.5,  3. ,  3.5,  4. ,  4.5,  5. ,  5.5,\n",
       "        6. ,  6.5,  7. ,  7.5,  8. ,  8.5,  9. ,  9.5, 10. , 10.5, 11. ,\n",
       "       11.5, 12. , 12.5, 13. , 13.5, 14. , 14.5, 15. , 15.5, 16. , 16.5,\n",
       "       17. , 17.5, 18. , 18.5, 19. , 19.5, 20. , 20.5, 21. , 21.5, 22. ,\n",
       "       22.5, 23. , 23.5, 24. , 24.5, 25. , 25.5, 26. , 26.5, 27. , 27.5,\n",
       "       28. , 28.5, 29. , 29.5, 30. , 30.5, 31. , 31.5, 32. , 32.5, 33. ,\n",
       "       33.5, 34. , 34.5, 35. , 35.5, 36. , 36.5, 37. , 37.5, 38. , 38.5,\n",
       "       39. , 39.5, 40. , 40.5, 41. , 41.5, 42. , 42.5, 43. , 43.5, 44. ,\n",
       "       44.5, 45. , 45.5, 46. , 46.5, 47. , 47.5, 48. , 48.5, 49. , 49.5,\n",
       "       50. , 50.5, 51. , 51.5, 52. , 52.5, 53. , 53.5, 54. , 54.5, 55. ,\n",
       "       55.5, 56. , 56.5, 57. , 57.5, 58. , 58.5, 59. , 59.5, 60. , 60.5,\n",
       "       61. , 61.5, 62. , 62.5])"
      ]
     },
     "execution_count": 13,
     "metadata": {},
     "output_type": "execute_result"
    }
   ],
   "source": [
    "times  #(in seconds)"
   ]
  },
  {
   "cell_type": "markdown",
   "metadata": {},
   "source": [
    "Last, the <code>spectrogram</code> describes the magnitude for each combination of <code>times</code> and <code>freqs</code>.  Note that we perform <code>log10</code> in order to scale so that lesser frequencies can be seen and not be dominated by only the 60Hz which is the powerline.  This is also called the process of *converting power to decibel* in the formula of \n",
    "\n",
    "$$ 10 * \\log(P) $$ \n",
    "\n",
    "where P is the power."
   ]
  },
  {
   "cell_type": "code",
   "execution_count": 14,
   "metadata": {},
   "outputs": [
    {
     "data": {
      "text/plain": [
       "(125, 65)"
      ]
     },
     "execution_count": 14,
     "metadata": {},
     "output_type": "execute_result"
    }
   ],
   "source": [
    "spectrogram.shape"
   ]
  },
  {
   "cell_type": "code",
   "execution_count": 15,
   "metadata": {},
   "outputs": [
    {
     "data": {
      "text/plain": [
       "-113.145386"
      ]
     },
     "execution_count": 15,
     "metadata": {},
     "output_type": "execute_result"
    }
   ],
   "source": [
    "#the magnitude at time 0 and frequency 0.125\n",
    "spectrogram[0, 1]"
   ]
  },
  {
   "cell_type": "markdown",
   "metadata": {},
   "source": [
    "Let's plot everything.  It's conventional to plot x as time and y as frequency, thus I input <code>spectrogram.T</code>"
   ]
  },
  {
   "cell_type": "code",
   "execution_count": 16,
   "metadata": {},
   "outputs": [
    {
     "data": {
      "text/plain": [
       "<matplotlib.image.AxesImage at 0x7f96dc0a02b0>"
      ]
     },
     "execution_count": 16,
     "metadata": {},
     "output_type": "execute_result"
    },
    {
     "data": {
      "image/png": "[encoded data removed]",
      "text/plain": [
       "<Figure size 1008x576 with 1 Axes>"
      ]
     },
     "metadata": {
      "needs_background": "light"
     },
     "output_type": "display_data"
    }
   ],
   "source": [
    "import matplotlib.pyplot as plt\n",
    "\n",
    "fig = plt.figure(figsize=(14, 8))\n",
    "ax1 = fig.add_subplot(211)\n",
    "ax1.set_title('Spectrogram')\n",
    "ax1.set_ylabel('Frequency (Decibels)')\n",
    "ax1.set_xlabel('Seconds')\n",
    "ax1.imshow(spectrogram.T, aspect='auto', origin='lower', \n",
    "           extent=[times.min(), times.max(), freqs.min(), freqs.max()])"
   ]
  },
  {
   "cell_type": "markdown",
   "metadata": {},
   "source": [
    "Lastly, let's loop through each trial and each channel, and then combine these spectrograms.  Let's first create a holder."
   ]
  },
  {
   "cell_type": "code",
   "execution_count": 17,
   "metadata": {},
   "outputs": [
    {
     "data": {
      "text/plain": [
       "(1280, 32, 125, 65)"
      ]
     },
     "execution_count": 17,
     "metadata": {},
     "output_type": "execute_result"
    }
   ],
   "source": [
    "all_spec_data = np.zeros((data.shape[0], data.shape[1], spectrogram.shape[0], spectrogram.shape[1]))\n",
    "all_spec_data.shape"
   ]
  },
  {
   "cell_type": "code",
   "execution_count": 18,
   "metadata": {},
   "outputs": [
    {
     "data": {
      "text/plain": [
       "(1280, 32, 125, 65)"
      ]
     },
     "execution_count": 18,
     "metadata": {},
     "output_type": "execute_result"
    }
   ],
   "source": [
    "#loop each trial\n",
    "for i, each_trial in enumerate(data):\n",
    "#     print(each_trial.shape) # (channel, seq len) (e.g., 32, 8064)\n",
    "    for j, each_trial_channel in enumerate(each_trial):\n",
    "#         print(each_trial_channel.shape) # (seq len) (e.g., 8064, ) \n",
    "        freqs, times, spectrogram = log_specgram(each_trial_channel, sample_rate, window_size, step_size)\n",
    "        all_spec_data[i, j, :, :] = spectrogram\n",
    "        \n",
    "all_spec_data.shape"
   ]
  },
  {
   "cell_type": "markdown",
   "metadata": {},
   "source": [
    "Here, we got one spectrogram of size (125 times * 65 freq) for each trial and each channel data.  We're done!  \n",
    "\n",
    "**Note**:  the data is in nice shape ready for inputting into CNN, since CNN expects 4D data (batch, channels, height, width)\n",
    "\n",
    "Final note is that </code>window_size</code> and </code>step_size</code> create different tradeoffs between time and frequency resolution.  The intuition of the optimum window length will depend on your application. If your application is such that you need time domain information to be more accurate, reduce the size of your windows. If the application demands frequency domain information to be more specific, then increase the size of the windows. \n",
    "\n",
    "Finally, we have included this boilet code in the <code>components</code> folder so we do not need to repeat it again."
   ]
  },
  {
   "cell_type": "markdown",
   "metadata": {},
   "source": [
    "## 2. Loading the SpecDataset\n",
    "\n",
    "Here we gonna just refactor the code and put into the <code>components/dataset.py</code> folder"
   ]
  },
  {
   "cell_type": "code",
   "execution_count": 19,
   "metadata": {},
   "outputs": [],
   "source": [
    "path = \"data\"  #create a folder \"data\", and inside put s01.dat,....,s32.dat inside from the preprocessed folder from the DEAP dataset"
   ]
  },
  {
   "cell_type": "code",
   "execution_count": 20,
   "metadata": {},
   "outputs": [
    {
     "name": "stdout",
     "output_type": "stream",
     "text": [
      "Data shape:  torch.Size([15360, 32, 9, 65])\n",
      "Label shape:  torch.Size([15360, 1])\n"
     ]
    }
   ],
   "source": [
    "#def __init__(self, path, stim, sample_rate, window_size, step_size):\n",
    "dataset = SpecDataset(path, \"Valence\", sample_rate, window_size, step_size)\n",
    "\n",
    "data  = dataset[:]['data']\n",
    "label = dataset[:]['label']\n",
    "\n",
    "print(\"Data shape: \" , data.shape)  # batches, channels, height, width\n",
    "print(\"Label shape: \", label.shape)  #two classes of valence"
   ]
  },
  {
   "cell_type": "markdown",
   "metadata": {
    "tags": []
   },
   "source": [
    "## 3. Defining the Model\n",
    "\n",
    "Convolution is a very simple idea.  For those who want to complete tutorial on CNN, you can visit my another tutorial on CNN here -> https://github.com/chaklam-silpasuwanchai/Python-for-Data-Science/blob/master/Lectures/03-PyTorch/03%20-%20Deep%20Learning%20-%20PyTorch%20-%20Convolutional%20Neural%20Network.ipynb"
   ]
  },
  {
   "cell_type": "markdown",
   "metadata": {},
   "source": [
    "### Getting shape so we can make sure our convolution always work dynamically"
   ]
  },
  {
   "cell_type": "code",
   "execution_count": 21,
   "metadata": {},
   "outputs": [],
   "source": [
    "conv2d1 = nn.Conv2d(32, 64, kernel_size=3, stride=1, padding=1)\n",
    "maxpool1 = nn.MaxPool2d(kernel_size=2)\n",
    "\n",
    "conv2d2 = nn.Conv2d(64, 128, kernel_size=3, stride=1, padding=1)\n",
    "maxpool2 = nn.MaxPool2d(kernel_size=2)"
   ]
  },
  {
   "cell_type": "code",
   "execution_count": 22,
   "metadata": {},
   "outputs": [
    {
     "data": {
      "text/plain": [
       "torch.Size([15360, 64, 9, 65])"
      ]
     },
     "execution_count": 22,
     "metadata": {},
     "output_type": "execute_result"
    }
   ],
   "source": [
    "out = conv2d1(data)\n",
    "out.shape"
   ]
  },
  {
   "cell_type": "code",
   "execution_count": 23,
   "metadata": {},
   "outputs": [
    {
     "data": {
      "text/plain": [
       "torch.Size([15360, 64, 4, 32])"
      ]
     },
     "execution_count": 23,
     "metadata": {},
     "output_type": "execute_result"
    }
   ],
   "source": [
    "out = maxpool1(out)\n",
    "out.shape"
   ]
  },
  {
   "cell_type": "code",
   "execution_count": 24,
   "metadata": {},
   "outputs": [
    {
     "data": {
      "text/plain": [
       "torch.Size([15360, 128, 4, 32])"
      ]
     },
     "execution_count": 24,
     "metadata": {},
     "output_type": "execute_result"
    }
   ],
   "source": [
    "out = conv2d2(out)\n",
    "out.shape"
   ]
  },
  {
   "cell_type": "code",
   "execution_count": 25,
   "metadata": {},
   "outputs": [
    {
     "name": "stdout",
     "output_type": "stream",
     "text": [
      "torch.Size([15360, 128, 2, 16])\n"
     ]
    }
   ],
   "source": [
    "out = maxpool2(out)\n",
    "print(out.shape)\n",
    "final_shape = out.shape"
   ]
  },
  {
   "cell_type": "markdown",
   "metadata": {},
   "source": [
    "### Model Definition"
   ]
  },
  {
   "cell_type": "code",
   "execution_count": 26,
   "metadata": {},
   "outputs": [],
   "source": [
    "# Convolutional neural network (two convolutional layers)\n",
    "class ConvNet(nn.Module):\n",
    "    def __init__(self, input_dim=32, output_dim=1):\n",
    "        super(ConvNet, self).__init__()\n",
    "        \n",
    "        #using sequential helps bind multiple operations together\n",
    "        self.layer1 = nn.Sequential(\n",
    "            #in_channel = 32, #out_channel = 64\n",
    "            nn.Conv2d(input_dim, input_dim*2, kernel_size=3, stride=1, padding=1),\n",
    "            nn.BatchNorm2d(input_dim*2),\n",
    "            nn.ReLU(),\n",
    "            nn.MaxPool2d(kernel_size=2))\n",
    "        \n",
    "        self.layer2 = nn.Sequential(\n",
    "            nn.Conv2d(input_dim*2, input_dim*4, kernel_size=3, stride=1, padding=1),\n",
    "            nn.BatchNorm2d(input_dim*4),\n",
    "            nn.ReLU(),\n",
    "            nn.MaxPool2d(kernel_size=2))\n",
    "        \n",
    "        self.fc = nn.Linear(final_shape[1]*final_shape[2]*final_shape[3], output_dim)\n",
    "        self.drop_out = nn.Dropout(p=0.2)  #zeroed 0.2% data\n",
    "        #after fc will be of shape [batch, 1]\n",
    "        \n",
    "    def forward(self, x):\n",
    "        #x shape: [batch, in_channel, img_width, img_height]\n",
    "        out = self.layer1(x)\n",
    "        out = self.drop_out(out)\n",
    "        out = self.layer2(out)\n",
    "        out = self.drop_out(out)\n",
    "        \n",
    "        out = out.reshape(out.size(0), -1)   #can also use .view()\n",
    "        #we squeeze so that it can be inputted into the fc layer\n",
    "        out = self.fc(out)\n",
    "        #after fc layer: shape: [batch, 1]\n",
    "        return out"
   ]
  },
  {
   "cell_type": "markdown",
   "metadata": {},
   "source": [
    "**Model init**: Let's init the class instance and create a workabout model."
   ]
  },
  {
   "cell_type": "code",
   "execution_count": 27,
   "metadata": {},
   "outputs": [
    {
     "data": {
      "text/plain": [
       "ConvNet(\n",
       "  (layer1): Sequential(\n",
       "    (0): Conv2d(32, 64, kernel_size=(3, 3), stride=(1, 1), padding=(1, 1))\n",
       "    (1): BatchNorm2d(64, eps=1e-05, momentum=0.1, affine=True, track_running_stats=True)\n",
       "    (2): ReLU()\n",
       "    (3): MaxPool2d(kernel_size=2, stride=2, padding=0, dilation=1, ceil_mode=False)\n",
       "  )\n",
       "  (layer2): Sequential(\n",
       "    (0): Conv2d(64, 128, kernel_size=(3, 3), stride=(1, 1), padding=(1, 1))\n",
       "    (1): BatchNorm2d(128, eps=1e-05, momentum=0.1, affine=True, track_running_stats=True)\n",
       "    (2): ReLU()\n",
       "    (3): MaxPool2d(kernel_size=2, stride=2, padding=0, dilation=1, ceil_mode=False)\n",
       "  )\n",
       "  (fc): Linear(in_features=4096, out_features=1, bias=True)\n",
       "  (drop_out): Dropout(p=0.2, inplace=False)\n",
       ")"
      ]
     },
     "execution_count": 27,
     "metadata": {},
     "output_type": "execute_result"
    }
   ],
   "source": [
    "input_dim     = 32 #we got 32 EEG channels\n",
    "output_dim    = 1  #we got 4 classes for our labels\n",
    "\n",
    "#define the model\n",
    "model = ConvNet(input_dim, output_dim)\n",
    "\n",
    "#send to cuda so we can use the GPU\n",
    "model = model.to(device)  \n",
    "\n",
    "#apply weights\n",
    "model.apply(initialize_weights)"
   ]
  },
  {
   "cell_type": "markdown",
   "metadata": {},
   "source": [
    "**Param count**: Let's also check the number of parameters used"
   ]
  },
  {
   "cell_type": "code",
   "execution_count": 28,
   "metadata": {},
   "outputs": [
    {
     "name": "stdout",
     "output_type": "stream",
     "text": [
      "The model ConvNet has 96,833 trainable parameters\n"
     ]
    }
   ],
   "source": [
    "print(f'The model {type(model).__name__} has {count_parameters(model):,} trainable parameters')# Train the model"
   ]
  },
  {
   "cell_type": "markdown",
   "metadata": {},
   "source": [
    "**Unit test**: Let's define a simple unit test, inputing some mock EEG data and see whether we got the desired output as 4 classes."
   ]
  },
  {
   "cell_type": "code",
   "execution_count": 29,
   "metadata": {},
   "outputs": [
    {
     "name": "stdout",
     "output_type": "stream",
     "text": [
      "Prediction shape:  torch.Size([2, 1])\n",
      "Predictions:  tensor([[0.5552],\n",
      "        [0.6666]], device='cuda:0', grad_fn=<AddmmBackward>)\n"
     ]
    }
   ],
   "source": [
    "mock_batch_size = 2   \n",
    "mock_input_dim  = 32   \n",
    "mock_height     = data.shape[2]  #need to use real shape to make sure CNN layers work\n",
    "mock_width      = data.shape[3]\n",
    "\n",
    "#note that our model first layer is conv1d which expects (batch, channel, height, width)\n",
    "mock_eegdata = torch.rand(mock_batch_size, mock_input_dim, mock_height, mock_width).to(device)\n",
    "\n",
    "#let's try run the model by simply inserting the mockdata into the model; very similar to .fit\n",
    "predictions = model(mock_eegdata)\n",
    "\n",
    "#let's try to see the predictions whether it really outputs four unique classes\n",
    "print(\"Prediction shape: \", predictions.shape)\n",
    "print(\"Predictions: \", predictions)\n",
    "\n",
    "#simple unit test\n",
    "assert predictions.shape[0] == mock_batch_size\n",
    "assert predictions.shape[1] == output_dim"
   ]
  },
  {
   "cell_type": "markdown",
   "metadata": {},
   "source": [
    "## 4. Training"
   ]
  },
  {
   "cell_type": "markdown",
   "metadata": {
    "tags": []
   },
   "source": [
    "### I. Batch Iterators\n",
    "\n",
    "To make it easier to manage, I have put this into our <code>components/helper.py</code>."
   ]
  },
  {
   "cell_type": "code",
   "execution_count": 30,
   "metadata": {},
   "outputs": [
    {
     "name": "stdout",
     "output_type": "stream",
     "text": [
      "Full Dataset size:  15360\n",
      "Train Dataset size: 10752\n",
      "Valid Dataset size: 3072\n",
      "Test Dataset size:  1536\n",
      "\n"
     ]
    }
   ],
   "source": [
    "train_loader, val_loader, test_loader = getLoaders(dataset=dataset, batch_size=16)"
   ]
  },
  {
   "cell_type": "markdown",
   "metadata": {},
   "source": [
    "### II. Optimizers\n",
    "\n",
    "Optimizer simply refers to the one that gonna take care of the backpropagation process.  The commonly used optimizer is SGD and Adam, both are quite interchangeable.  Here we gonna use Adam.  In order to backpropagate, we gonna define a loss function using cross entropy loss, which is a common loss function for multi-class purposes."
   ]
  },
  {
   "cell_type": "code",
   "execution_count": 31,
   "metadata": {},
   "outputs": [],
   "source": [
    "import torch.optim as optim\n",
    "\n",
    "lr = 0.0001\n",
    "\n",
    "#can also try SGD which should not make too much of a difference\n",
    "optimizer = optim.Adam(model.parameters(), lr=lr) \n",
    "\n",
    "#combine sigmoid with binary entropy; binary entropy is used for binary classification\n",
    "criterion = nn.BCEWithLogitsLoss() "
   ]
  },
  {
   "cell_type": "markdown",
   "metadata": {
    "tags": []
   },
   "source": [
    "### III. Let's train!"
   ]
  },
  {
   "cell_type": "code",
   "execution_count": 32,
   "metadata": {},
   "outputs": [
    {
     "name": "stdout",
     "output_type": "stream",
     "text": [
      "Epoch: 01 | Epoch Time: 0m 3s\n",
      "\t Train Loss: 0.795 | Train Acc: 53.86%\n",
      "\t Val. Loss: 0.677  |  Val. Acc: 58.01%\n",
      "Epoch: 02 | Epoch Time: 0m 3s\n",
      "\t Train Loss: 0.738 | Train Acc: 57.26%\n",
      "\t Val. Loss: 0.689  |  Val. Acc: 60.58%\n",
      "Epoch: 03 | Epoch Time: 0m 3s\n",
      "\t Train Loss: 0.701 | Train Acc: 59.66%\n",
      "\t Val. Loss: 0.636  |  Val. Acc: 63.64%\n",
      "Epoch: 04 | Epoch Time: 0m 3s\n",
      "\t Train Loss: 0.680 | Train Acc: 61.11%\n",
      "\t Val. Loss: 0.628  |  Val. Acc: 64.71%\n",
      "Epoch: 05 | Epoch Time: 0m 3s\n",
      "\t Train Loss: 0.656 | Train Acc: 63.22%\n",
      "\t Val. Loss: 0.620  |  Val. Acc: 65.53%\n",
      "Epoch: 06 | Epoch Time: 0m 3s\n",
      "\t Train Loss: 0.642 | Train Acc: 64.72%\n",
      "\t Val. Loss: 0.597  |  Val. Acc: 67.51%\n",
      "Epoch: 07 | Epoch Time: 0m 3s\n",
      "\t Train Loss: 0.616 | Train Acc: 66.19%\n",
      "\t Val. Loss: 0.582  |  Val. Acc: 69.92%\n",
      "Epoch: 08 | Epoch Time: 0m 3s\n",
      "\t Train Loss: 0.607 | Train Acc: 67.00%\n",
      "\t Val. Loss: 0.580  |  Val. Acc: 69.43%\n",
      "Epoch: 09 | Epoch Time: 0m 4s\n",
      "\t Train Loss: 0.590 | Train Acc: 68.34%\n",
      "\t Val. Loss: 0.564  |  Val. Acc: 71.19%\n",
      "Epoch: 10 | Epoch Time: 0m 3s\n",
      "\t Train Loss: 0.582 | Train Acc: 68.92%\n",
      "\t Val. Loss: 0.556  |  Val. Acc: 72.27%\n"
     ]
    }
   ],
   "source": [
    "model_saved_name = \"models/DEAP_Specgram_CNN2D.pt\"\n",
    "\n",
    "#trainer(num_epochs, model, train_loader, val_loader, optimizer, criterion, model_name, device, seq_len_first=False)\n",
    "train_losses, valid_losses, train_accs, valid_accs = train(10, model, train_loader, val_loader, optimizer, criterion, model_saved_name, device)"
   ]
  },
  {
   "cell_type": "markdown",
   "metadata": {},
   "source": [
    "Let's plot the losses and acc for easier inspection"
   ]
  },
  {
   "cell_type": "code",
   "execution_count": 33,
   "metadata": {},
   "outputs": [
    {
     "data": {
      "image/png": "[encoded data removed]",
      "text/plain": [
       "<Figure size 720x432 with 1 Axes>"
      ]
     },
     "metadata": {
      "needs_background": "light"
     },
     "output_type": "display_data"
    },
    {
     "data": {
      "image/png": "[encoded data removed]",
      "text/plain": [
       "<Figure size 720x432 with 1 Axes>"
      ]
     },
     "metadata": {
      "needs_background": "light"
     },
     "output_type": "display_data"
    }
   ],
   "source": [
    "plot_performance(train_losses, valid_losses, \"loss\")\n",
    "plot_performance(train_accs, valid_accs, \"acc\")"
   ]
  },
  {
   "cell_type": "markdown",
   "metadata": {},
   "source": [
    "## 5. Evaluation on test set"
   ]
  },
  {
   "cell_type": "code",
   "execution_count": 34,
   "metadata": {},
   "outputs": [
    {
     "name": "stdout",
     "output_type": "stream",
     "text": [
      "Test Loss: 0.554 | Test Acc: 72.20%\n"
     ]
    }
   ],
   "source": [
    "model.load_state_dict(torch.load(model_saved_name))\n",
    "test_loss, test_acc = evaluate(model, test_loader, criterion, device)\n",
    "\n",
    "print(f'Test Loss: {test_loss:.3f} | Test Acc: {test_acc*100:.2f}%')"
   ]
  },
  {
   "cell_type": "markdown",
   "metadata": {},
   "source": [
    "## Final Verdict\n",
    "\n"
   ]
  },
  {
   "cell_type": "markdown",
   "metadata": {},
   "source": [
    "Hmm...not as good as LSTM variants.  Maybe we are missing something?"
   ]
  }
 ],
 "metadata": {
  "kernelspec": {
   "display_name": "Python 3",
   "language": "python",
   "name": "python3"
  },
  "language_info": {
   "codemirror_mode": {
    "name": "ipython",
    "version": 3
   },
   "file_extension": ".py",
   "mimetype": "text/x-python",
   "name": "python",
   "nbconvert_exporter": "python",
   "pygments_lexer": "ipython3",
   "version": "3.8.10"
  }
 },
 "nbformat": 4,
 "nbformat_minor": 5
}
