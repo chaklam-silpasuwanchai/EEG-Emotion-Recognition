{
 "cells": [
  {
   "cell_type": "markdown",
   "metadata": {},
   "source": [
    "# Part 6. DEAP Dataset + LSTM\n",
    "\n",
    "In this part 6, we shall start using deap learning techniques which is different from the traditional machine learning approaches in the sense that deep learning techniques are able to automatically learn useful features for the task.  In a more simple words, we can directly feed the raw data into deep learning model, and the model should be able to give reasonable accuracy.\n",
    "\n",
    "In this part, we shall explore LSTM which is a very common model for handling sequential data."
   ]
  },
  {
   "cell_type": "code",
   "execution_count": 1,
   "metadata": {},
   "outputs": [],
   "source": [
    "import torch\n",
    "import torch.nn as nn\n",
    "import torch.nn.functional as F\n",
    "from torch.utils.data import DataLoader\n",
    "\n",
    "import os\n",
    "import pickle\n",
    "import numpy as np"
   ]
  },
  {
   "cell_type": "markdown",
   "metadata": {},
   "source": [
    "Set cuda accordingly."
   ]
  },
  {
   "cell_type": "code",
   "execution_count": 2,
   "metadata": {},
   "outputs": [
    {
     "name": "stdout",
     "output_type": "stream",
     "text": [
      "Configured device:  cuda\n"
     ]
    }
   ],
   "source": [
    "device = torch.device('cuda' if torch.cuda.is_available() else 'cpu')\n",
    "print(\"Configured device: \", device)"
   ]
  },
  {
   "cell_type": "markdown",
   "metadata": {},
   "source": [
    "## 1. Loading dataset\n",
    "\n",
    "Let's first reuse the dataset loader we have created in Part 1."
   ]
  },
  {
   "cell_type": "code",
   "execution_count": 3,
   "metadata": {},
   "outputs": [],
   "source": [
    "class Dataset(torch.utils.data.Dataset):\n",
    "    \n",
    "    def __init__(self, path):\n",
    "        _, _, filenames = next(os.walk(path))\n",
    "        filenames = sorted(filenames)\n",
    "        all_data = []\n",
    "        all_label = []\n",
    "        for dat in filenames:\n",
    "            \n",
    "            temp = pickle.load(open(os.path.join(path,dat), 'rb'), encoding='latin1')\n",
    "            all_data.append(temp['data'])\n",
    "            \n",
    "            #####divide labels into four classes: LALV, HALV, LAHV, HAHV\n",
    "            labels = temp['labels']\n",
    "            labels_holder = np.zeros((40, 1))\n",
    "            \n",
    "            val_med = np.median(labels[:, 0])\n",
    "            aro_med = np.median(labels[:, 1])\n",
    "\n",
    "            cond_lalv = (labels[:, 0] <= val_med) & (labels[:, 1] <= aro_med)\n",
    "            cond_halv = (labels[:, 0] <= val_med) & (labels[:, 1] >= aro_med)\n",
    "            cond_lahv = (labels[:, 0] >= val_med) & (labels[:, 1] <= aro_med)\n",
    "            cond_hahv = (labels[:, 0] >= val_med) & (labels[:, 1] >= aro_med)\n",
    "            \n",
    "            labels_holder[cond_lalv] = 0  #LALV\n",
    "            labels_holder[cond_halv] = 1  #HALV\n",
    "            labels_holder[cond_lahv] = 2  #LAHV\n",
    "            labels_holder[cond_hahv] = 3  #HAHV\n",
    "                                    \n",
    "            #labels_holder shape: (40, 1)\n",
    "            all_label.append(labels_holder)\n",
    "                \n",
    "        self.data = np.vstack(all_data)[:, :32, ]   #shape: (1280, 32, 8064) --> take only the first 32 channels\n",
    "        self.label = np.vstack(all_label) #(1280, 1)  ==> 1280 samples, \n",
    "        \n",
    "        del temp, all_data, all_label\n",
    "\n",
    "    def __len__(self):\n",
    "        return self.data.shape[0]\n",
    "\n",
    "    def __getitem__(self, idx):\n",
    "        single_data  = self.data[idx]\n",
    "        single_label = self.label[idx]\n",
    "        \n",
    "        batch = {\n",
    "            'data' : torch.Tensor(single_data),\n",
    "            'label': torch.Tensor(single_label)\n",
    "        }\n",
    "        \n",
    "        return batch"
   ]
  },
  {
   "cell_type": "markdown",
   "metadata": {},
   "source": [
    "Let's try load the dataset."
   ]
  },
  {
   "cell_type": "code",
   "execution_count": 4,
   "metadata": {},
   "outputs": [],
   "source": [
    "path = \"data\"  #create a folder \"data\", and inside put s01.dat,....,s32.dat inside from the preprocessed folder from the DEAP dataset"
   ]
  },
  {
   "cell_type": "code",
   "execution_count": 5,
   "metadata": {
    "tags": []
   },
   "outputs": [
    {
     "name": "stdout",
     "output_type": "stream",
     "text": [
      "Data shape:  torch.Size([1280, 32, 8064])\n",
      "Label shape:  torch.Size([1280, 1])\n"
     ]
    }
   ],
   "source": [
    "dataset = Dataset(path)\n",
    "\n",
    "data  = dataset[:]['data']\n",
    "label = dataset[:]['label']\n",
    "\n",
    "print(\"Data shape: \" , data.shape)  #1280 = 32 * 40 trials, 32 EEG channels, 8064 samples\n",
    "print(\"Label shape: \", label.shape)  #four classes of LALV, HALV, LAHV, HAHV"
   ]
  },
  {
   "cell_type": "markdown",
   "metadata": {},
   "source": [
    "Let's look the label distribution of the dataset."
   ]
  },
  {
   "cell_type": "code",
   "execution_count": 6,
   "metadata": {},
   "outputs": [
    {
     "name": "stdout",
     "output_type": "stream",
     "text": [
      "count of LALV:  344\n",
      "count of HALV:  285\n",
      "count of LAHV:  281\n",
      "count of HAHV:  370\n"
     ]
    }
   ],
   "source": [
    "lalv = label == 0\n",
    "halv = label == 1\n",
    "lahv = label == 2\n",
    "hahv = label == 3\n",
    "\n",
    "assert len(label[lalv]) + len(label[halv]) + len(label[lahv]) + len(label[hahv]) == label.shape[0]  #simple unit test\n",
    "print(\"count of LALV: \", len(label[lalv]))\n",
    "print(\"count of HALV: \", len(label[halv]))\n",
    "print(\"count of LAHV: \", len(label[lahv]))\n",
    "print(\"count of HAHV: \", len(label[hahv]))"
   ]
  },
  {
   "cell_type": "markdown",
   "metadata": {},
   "source": [
    "Let's see the median of EEG of each group (you can do std on your own exercise)"
   ]
  },
  {
   "cell_type": "code",
   "execution_count": 7,
   "metadata": {},
   "outputs": [
    {
     "name": "stdout",
     "output_type": "stream",
     "text": [
      "Median of LALV 0.008621817\n",
      "Median of HALV 0.008139102\n",
      "Median of LAHV 0.0065687215\n",
      "Median of HAHV 0.0016776982\n"
     ]
    }
   ],
   "source": [
    "lalv_unsqueeze = lalv.squeeze()\n",
    "halv_unsqueeze = halv.squeeze()\n",
    "lahv_unsqueeze = lahv.squeeze()\n",
    "hahv_unsqueeze = hahv.squeeze()\n",
    "\n",
    "print(\"Median of LALV\", np.median(data[lalv_unsqueeze, :, :]))\n",
    "print(\"Median of HALV\", np.median(data[halv_unsqueeze, :, :]))\n",
    "print(\"Median of LAHV\", np.median(data[lahv_unsqueeze, :, :]))\n",
    "print(\"Median of HAHV\", np.median(data[hahv_unsqueeze, :, :]))"
   ]
  },
  {
   "cell_type": "markdown",
   "metadata": {
    "tags": []
   },
   "source": [
    "## 2. Defining the Model -> LSTM\n",
    "\n",
    "Long Short Term Memory is a very simple model which treats data as sequence.  For sequential data such as EEG signal, LSTM (or other variants of recurrent neural network such as vanilla RNN or GRU) is one promising option.\n",
    "\n",
    "Here, we shall try bidirectional LSTM with two layers and see whether we could get decent accuracies."
   ]
  },
  {
   "cell_type": "code",
   "execution_count": 8,
   "metadata": {
    "tags": []
   },
   "outputs": [],
   "source": [
    "class LSTM(nn.Module):\n",
    "    '''\n",
    "    Expected Input Shape: (batch, seq_len, channels)\n",
    "    '''\n",
    "    def __init__(self, input_dim, hidden_dim, num_layers, output_dim, bidirectional, dropout):\n",
    "        super().__init__()\n",
    "        self.lstm = nn.LSTM(input_dim, \n",
    "                           hidden_dim, \n",
    "                           num_layers=num_layers, \n",
    "                           bidirectional=bidirectional, \n",
    "                           dropout=dropout,\n",
    "                           batch_first=True)\n",
    "        self.fc = nn.Linear(hidden_dim * num_layers, output_dim)\n",
    "        \n",
    "    def forward(self, x):\n",
    "        \n",
    "        #x = [batch size, seq len, channels]\n",
    "        out, (hn, cn) = self.lstm(x)\n",
    "        \n",
    "        #out = [batch size, seq len, hidden dim * num directions]        \n",
    "        #hn = [num layers * num directions, batch size, hidden dim]\n",
    "        #cn = [num layers * num directions, batch size, hidden dim]\n",
    "        \n",
    "        #concat the final forward (hidden[-2,:,:]) and backward (hidden[-1,:,:]) hidden layers\n",
    "        hn = torch.cat((hn[-2,:,:], hn[-1,:,:]), dim = 1)\n",
    "        #hn = [batch size, hidden dim * num directions]\n",
    "        \n",
    "        return self.fc(hn)"
   ]
  },
  {
   "cell_type": "markdown",
   "metadata": {},
   "source": [
    "Before we initialize our model, let's also define a function how we want to initialize the network weights.  This is optional.  By default, layers will simply randomize weights but it is always nice to know how we can control weight initialization by defining a function"
   ]
  },
  {
   "cell_type": "code",
   "execution_count": 9,
   "metadata": {},
   "outputs": [],
   "source": [
    "#explicitly initialize weights for better learning\n",
    "def initialize_weights(m):\n",
    "    if isinstance(m, nn.Linear):   #if layer is of Linear\n",
    "        nn.init.xavier_normal_(m.weight)\n",
    "        nn.init.zeros_(m.bias)\n",
    "    elif isinstance(m, nn.LSTM):   #if layer is of LSTM\n",
    "        for name, param in m.named_parameters():\n",
    "            if 'bias' in name:\n",
    "                nn.init.zeros_(param)\n",
    "            elif 'weight' in name:\n",
    "                nn.init.orthogonal_(param)  #orthogonal is a common way to initialize weights for RNN/LSTM/GRU"
   ]
  },
  {
   "cell_type": "markdown",
   "metadata": {},
   "source": [
    "Let's init the class instance and create a workabout model."
   ]
  },
  {
   "cell_type": "code",
   "execution_count": 10,
   "metadata": {},
   "outputs": [
    {
     "data": {
      "text/plain": [
       "LSTM(\n",
       "  (lstm): LSTM(32, 256, num_layers=2, batch_first=True, dropout=0.5, bidirectional=True)\n",
       "  (fc): Linear(in_features=512, out_features=4, bias=True)\n",
       ")"
      ]
     },
     "execution_count": 10,
     "metadata": {},
     "output_type": "execute_result"
    }
   ],
   "source": [
    "#note that these params are simply obtained from trial and error; I got no theory to back up why I use certain numbers here...\n",
    "input_dim     = 32 #we got 32 EEG channels\n",
    "hidden_dim    = 256 #let's define hidden dim as 256\n",
    "num_layers    = 2  #we gonna have two LSTM layers\n",
    "output_dim    = 4  #we got 4 classes for our labels\n",
    "bidirectional = True  #uses bidirectional LSTM\n",
    "dropout       = 0.5  #setting dropout to 0.5\n",
    "\n",
    "#define the model\n",
    "model = LSTM(input_dim, hidden_dim, num_layers, output_dim, bidirectional, dropout)\n",
    "\n",
    "#send to cuda so we can use the GPU\n",
    "model = model.to(device)  \n",
    "\n",
    "#apply weights\n",
    "model.apply(initialize_weights)"
   ]
  },
  {
   "cell_type": "markdown",
   "metadata": {},
   "source": [
    "Let's also check the number of parameters used"
   ]
  },
  {
   "cell_type": "code",
   "execution_count": 11,
   "metadata": {},
   "outputs": [
    {
     "name": "stdout",
     "output_type": "stream",
     "text": [
      "The model LSTM has 2,172,932 trainable parameters\n"
     ]
    }
   ],
   "source": [
    "def count_parameters(model):\n",
    "    return sum(p.numel() for p in model.parameters() if p.requires_grad)\n",
    "\n",
    "print(f'The model {type(model).__name__} has {count_parameters(model):,} trainable parameters')# Train the model"
   ]
  },
  {
   "cell_type": "markdown",
   "metadata": {},
   "source": [
    "Let's define a simple unit test, inputing some mock EEG data and see whether we got the desired output as 4 classes."
   ]
  },
  {
   "cell_type": "code",
   "execution_count": 12,
   "metadata": {},
   "outputs": [
    {
     "name": "stdout",
     "output_type": "stream",
     "text": [
      "Prediction shape:  torch.Size([2, 4])\n",
      "Predictions:  tensor([[ 0.0300,  0.0240,  0.0055, -0.0370],\n",
      "        [ 0.0203, -0.0012, -0.0341,  0.0058]], device='cuda:0',\n",
      "       grad_fn=<AddmmBackward>)\n"
     ]
    }
   ],
   "source": [
    "mock_batch_size = 2  #in real training, we use 32\n",
    "mock_input_dim  = 32 #in real data, ours is 32 channels\n",
    "mock_seq_len    = 10 #in real data, ours is 8064\n",
    "\n",
    "#note that 8064 seq_len and 32 channels should be swapped because that's what LSTM wants\n",
    "mock_eegdata = torch.rand(mock_batch_size, mock_seq_len, mock_input_dim).to(device)\n",
    "\n",
    "#let's try run the model by simply inserting the mockdata into the model; very similar to .fit\n",
    "predictions = model(mock_eegdata)\n",
    "\n",
    "#let's try to see the predictions whether it really outputs four unique classes\n",
    "print(\"Prediction shape: \", predictions.shape)\n",
    "print(\"Predictions: \", predictions)\n",
    "\n",
    "#simple unit test\n",
    "assert predictions.shape[0] == mock_batch_size\n",
    "assert predictions.shape[1] == 4"
   ]
  },
  {
   "cell_type": "markdown",
   "metadata": {},
   "source": [
    "## 3. Training"
   ]
  },
  {
   "cell_type": "markdown",
   "metadata": {
    "tags": []
   },
   "source": [
    "### I. Batch Iterators\n",
    "\n",
    "In order to easily loop the dataset, let's create a batch iterator.  The typical steps are:\n",
    "\n",
    "1.  Split the dataset into training and validation set.\n",
    "2.  Create a loader using DataLoader APIs"
   ]
  },
  {
   "cell_type": "code",
   "execution_count": 13,
   "metadata": {},
   "outputs": [
    {
     "name": "stdout",
     "output_type": "stream",
     "text": [
      "Full Dataset size:  1280\n",
      "Train Dataset size: 896\n",
      "Valid Dataset size: 256\n",
      "Test Dataset size:  128\n",
      "\n"
     ]
    }
   ],
   "source": [
    "# setting seed so that splitting process and training process can be reproduced\n",
    "torch.manual_seed(1)\n",
    "\n",
    "# randomly shuffle the indexes, then randomly select 80% of the data\n",
    "indices   = torch.randperm(len(dataset)).tolist()\n",
    "train_ind = int(0.7 * len(dataset))\n",
    "val_ind   = int(0.9 * len(dataset))\n",
    "\n",
    "# create subset of dataset\n",
    "train_set = torch.utils.data.Subset(dataset, indices[:train_ind])\n",
    "val_set   = torch.utils.data.Subset(dataset, indices[train_ind:val_ind])\n",
    "test_set  = torch.utils.data.Subset(dataset, indices[val_ind:])\n",
    "\n",
    "print(f\"Full Dataset size:  {len(dataset)}\")\n",
    "print(f\"Train Dataset size: {len(train_set)}\")\n",
    "print(f\"Valid Dataset size: {len(val_set)}\")\n",
    "print(f\"Test Dataset size:  {len(test_set)}\\n\")\n",
    "\n",
    "# let's create the loader so we can easily loop each batch for training\n",
    "params = {\"batch_size\":32,\"shuffle\": True,\"pin_memory\": True}\n",
    "\n",
    "train_loader = DataLoader(train_set, **params)\n",
    "val_loader   = DataLoader(val_set, **params)\n",
    "test_loader  = DataLoader(test_set, **params)"
   ]
  },
  {
   "cell_type": "markdown",
   "metadata": {},
   "source": [
    "### II. Optimizers\n",
    "\n",
    "Optimizer simply refers to the one that gonna take care of the backpropagation process.  The commonly used optimizer is SGD and Adam, both are quite interchangeable.  Here we gonna use Adam.  In order to backpropagate, we gonna define a loss function using cross entropy loss, which is a common loss function for multi-class purposes."
   ]
  },
  {
   "cell_type": "code",
   "execution_count": 14,
   "metadata": {},
   "outputs": [],
   "source": [
    "import torch.optim as optim\n",
    "\n",
    "lr = 0.001\n",
    "\n",
    "#can also try SGD which should not make too much of a difference\n",
    "optimizer = optim.Adam(model.parameters(), lr=lr) \n",
    "\n",
    "#combine softmax with cross entropy; cross entropy is used for multi-class classification\n",
    "criterion = nn.CrossEntropyLoss() "
   ]
  },
  {
   "cell_type": "markdown",
   "metadata": {
    "tags": []
   },
   "source": [
    "### III. Training procedures\n",
    "\n",
    "Let's create a function for training, so we can reuse it in the future.  I will write comments where appropriate."
   ]
  },
  {
   "cell_type": "code",
   "execution_count": 15,
   "metadata": {},
   "outputs": [],
   "source": [
    "def train(model, train_loader,  optimizer, criterion):\n",
    "\n",
    "    model.train()\n",
    "    epoch_train_loss = 0\n",
    "    epoch_train_acc  = 0\n",
    "    correct = 0\n",
    "    total_size = 0\n",
    "\n",
    "    for i, batch in enumerate(train_loader):\n",
    "    \n",
    "        #change from (batch, channel, seq len) to (batch, seq len, channel)\n",
    "        data  = batch['data'].to(device).permute(0, 2, 1)        \n",
    "        # shape: (batch, )\n",
    "        label = batch['label'].long().squeeze().to(device)  #squeeze to remove the 1 in the 2nd dimension; needed for the criterion to work\n",
    "        \n",
    "        #predict and cal loss\n",
    "        optimizer.zero_grad()\n",
    "        output = model(data)  #shape: (batch, num_classes)\n",
    "        loss   = criterion(output, label)\n",
    "        \n",
    "        #backprop\n",
    "        loss.backward()\n",
    "        optimizer.step()\n",
    "        \n",
    "        #for visualizing\n",
    "        epoch_train_loss += loss.item()\n",
    "        total_size += label.size(0)  #keep track of total\n",
    "        _, predicted = torch.max(output.data, 1)  #returns max value, indices        \n",
    "        correct += (predicted == label).float().sum().item()\n",
    "        \n",
    "    epoch_train_loss = epoch_train_loss / len(train_loader)\n",
    "    epoch_train_acc  = 100 * correct / total_size\n",
    "    \n",
    "    return epoch_train_loss, epoch_train_acc"
   ]
  },
  {
   "cell_type": "markdown",
   "metadata": {},
   "source": [
    "Let's also create another slightly different function to test our model on the validation set."
   ]
  },
  {
   "cell_type": "code",
   "execution_count": 16,
   "metadata": {},
   "outputs": [],
   "source": [
    "def evaluate(model, val_loader, criterion):\n",
    "\n",
    "    model.eval()\n",
    "    epoch_val_loss = 0\n",
    "    epoch_val_acc  = 0\n",
    "    correct = 0\n",
    "    total_size = 0\n",
    "\n",
    "    with torch.no_grad():\n",
    "        for i, batch in enumerate(val_loader):\n",
    "            #change from (batch, channel, seq len) to (batch, seq len, channel)\n",
    "            data  = batch['data'].to(device).permute(0, 2, 1)\n",
    "            label = batch['label'].long().squeeze().to(device)\n",
    "            \n",
    "            #predict and cal loss\n",
    "            output = model(data)\n",
    "            loss   = criterion(output, label)\n",
    "            \n",
    "            #for visualizing\n",
    "            epoch_val_loss += loss.item()\n",
    "            total_size += label.size(0)  #keep track of total\n",
    "            _, predicted = torch.max(output.data, 1)  #returns max value, indices\n",
    "            correct += (predicted == label).float().sum().item()\n",
    "    \n",
    "    epoch_val_loss = epoch_val_loss / len(val_loader)\n",
    "    epoch_val_acc  = 100 * correct /  total_size\n",
    "    \n",
    "    return epoch_val_loss, epoch_val_acc"
   ]
  },
  {
   "cell_type": "markdown",
   "metadata": {
    "tags": []
   },
   "source": [
    "### IV. Let's train!\n",
    "\n",
    "Nothing much but simply run the training functions!"
   ]
  },
  {
   "cell_type": "code",
   "execution_count": 17,
   "metadata": {},
   "outputs": [
    {
     "name": "stdout",
     "output_type": "stream",
     "text": [
      "Epoch: 01 | Train Loss: 1.445 | Train Acc: 26.56%\n",
      "\t Val. Loss: 1.405 |  Val. Acc: 29.30%\n",
      "Epoch: 02 | Train Loss: 1.160 | Train Acc: 52.57%\n",
      "\t Val. Loss: 1.497 |  Val. Acc: 27.73%\n",
      "Epoch: 03 | Train Loss: 0.935 | Train Acc: 64.73%\n",
      "\t Val. Loss: 1.708 |  Val. Acc: 24.61%\n",
      "Epoch: 04 | Train Loss: 0.633 | Train Acc: 79.02%\n",
      "\t Val. Loss: 2.091 |  Val. Acc: 29.30%\n",
      "Epoch: 05 | Train Loss: 0.438 | Train Acc: 84.93%\n",
      "\t Val. Loss: 2.154 |  Val. Acc: 30.47%\n"
     ]
    }
   ],
   "source": [
    "best_valid_loss = float('inf')\n",
    "\n",
    "train_losses = []\n",
    "train_accs   = []\n",
    "valid_losses = []\n",
    "valid_accs   = []\n",
    "\n",
    "num_epochs = 5\n",
    "\n",
    "for epoch in range(num_epochs):\n",
    "\n",
    "    train_loss, train_acc = train(model, train_loader, optimizer, criterion)\n",
    "    valid_loss, valid_acc = evaluate(model, val_loader, criterion)\n",
    "    \n",
    "    #for plotting\n",
    "    train_losses.append(train_loss)\n",
    "    train_accs  .append(train_acc)\n",
    "    valid_losses.append(valid_loss)\n",
    "    valid_accs  .append(valid_acc)\n",
    "    \n",
    "    if valid_loss < best_valid_loss:\n",
    "        best_valid_loss = valid_loss\n",
    "        torch.save(model.state_dict(), 'models/DEAP_BiLSTM.pt')\n",
    "    \n",
    "    print(f'Epoch: {epoch+1:02} | Train Loss: {train_loss:.3f} | Train Acc: {train_acc:.2f}%')\n",
    "    print(f'\\t Val. Loss: {valid_loss:.3f} |  Val. Acc: {valid_acc:.2f}%')"
   ]
  },
  {
   "cell_type": "markdown",
   "metadata": {},
   "source": [
    "Let's plot the losses and acc for easier inspection"
   ]
  },
  {
   "cell_type": "code",
   "execution_count": 18,
   "metadata": {},
   "outputs": [
    {
     "data": {
      "text/plain": [
       "Text(0, 0.5, 'loss')"
      ]
     },
     "execution_count": 18,
     "metadata": {},
     "output_type": "execute_result"
    },
    {
     "data": {
      "image/png": "[encoded data removed]",
      "text/plain": [
       "<Figure size 720x432 with 1 Axes>"
      ]
     },
     "metadata": {
      "needs_background": "light"
     },
     "output_type": "display_data"
    }
   ],
   "source": [
    "import matplotlib.pyplot as plt\n",
    "fig = plt.figure(figsize=(10, 6))\n",
    "ax  = fig.add_subplot(1, 1, 1)\n",
    "ax.plot(train_losses, label = 'train loss')\n",
    "ax.plot(valid_losses, label = 'valid loss')\n",
    "plt.legend()\n",
    "ax.set_xlabel('updates')\n",
    "ax.set_ylabel('loss')"
   ]
  },
  {
   "cell_type": "code",
   "execution_count": 19,
   "metadata": {},
   "outputs": [
    {
     "data": {
      "text/plain": [
       "Text(0, 0.5, 'acc')"
      ]
     },
     "execution_count": 19,
     "metadata": {},
     "output_type": "execute_result"
    },
    {
     "data": {
      "image/png": "[encoded data removed]",
      "text/plain": [
       "<Figure size 720x432 with 1 Axes>"
      ]
     },
     "metadata": {
      "needs_background": "light"
     },
     "output_type": "display_data"
    }
   ],
   "source": [
    "fig = plt.figure(figsize=(10, 6))\n",
    "ax  = fig.add_subplot(1, 1, 1)\n",
    "ax.plot(train_accs, label = 'train acc')\n",
    "ax.plot(valid_accs, label = 'valid acc')\n",
    "plt.legend()\n",
    "ax.set_xlabel('updates')\n",
    "ax.set_ylabel('acc')"
   ]
  },
  {
   "cell_type": "markdown",
   "metadata": {},
   "source": [
    "## 4. Evaluation on test set"
   ]
  },
  {
   "cell_type": "code",
   "execution_count": 20,
   "metadata": {},
   "outputs": [
    {
     "name": "stdout",
     "output_type": "stream",
     "text": [
      "Test Loss: 1.417 | Test Acc: 30.47%\n"
     ]
    }
   ],
   "source": [
    "model.load_state_dict(torch.load('models/DEAP_BiLSTM.pt'))\n",
    "test_loss, test_acc = evaluate(model, test_loader, criterion)\n",
    "\n",
    "print(f'Test Loss: {test_loss:.3f} | Test Acc: {test_acc:.2f}%')"
   ]
  },
  {
   "cell_type": "markdown",
   "metadata": {},
   "source": [
    "## Final Verdict\n",
    "\n"
   ]
  },
  {
   "cell_type": "markdown",
   "metadata": {},
   "source": [
    "Hmm...so the accuracy is just slightly above chance (100 / 4 classes = 25%).   The reason for LSTM to perform poorly because taking each single sample point and tied them sequentially can be very ineffective, since each single sample point does not really mean anything.  In the next tutorial, we shall introduce a CONV1D + LSTM, which applies convolution first to capture some windowing average before applying to the LSTM.  "
   ]
  }
 ],
 "metadata": {
  "kernelspec": {
   "display_name": "Python 3",
   "language": "python",
   "name": "python3"
  },
  "language_info": {
   "codemirror_mode": {
    "name": "ipython",
    "version": 3
   },
   "file_extension": ".py",
   "mimetype": "text/x-python",
   "name": "python",
   "nbconvert_exporter": "python",
   "pygments_lexer": "ipython3",
   "version": "3.8.10"
  }
 },
 "nbformat": 4,
 "nbformat_minor": 5
}
