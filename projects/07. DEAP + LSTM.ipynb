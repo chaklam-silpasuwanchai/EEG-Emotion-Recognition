{
 "cells": [
  {
   "cell_type": "markdown",
   "id": "9d079904",
   "metadata": {},
   "source": [
    "# DEAP Dataset + LSTM\n",
    "\n",
    "In this part, we shall start using deep learning techniques which is different from the traditional machine learning approaches in the sense that deep learning techniques are able to automatically learn useful features for the task.  In a more simple words, we can directly feed the raw data into deep learning model, and the model should be able to give reasonable accuracy.\n",
    "\n",
    "*Note that we will be only predicting the valence.  Feel free to work on the arousal yourself.*\n",
    "\n",
    "In this part, we shall explore LSTM which is a very common model for handling sequential data."
   ]
  },
  {
   "cell_type": "code",
   "execution_count": 2,
   "id": "2f366f85",
   "metadata": {},
   "outputs": [],
   "source": [
    "import torch\n",
    "import torch.nn as nn\n",
    "import torch.nn.functional as F\n",
    "from torch.utils.data import DataLoader\n",
    "\n",
    "import os\n",
    "import pickle\n",
    "import numpy as np\n",
    "import time\n",
    "\n",
    "def get_freer_gpu():\n",
    "    os.system('nvidia-smi -q -d Memory |grep -A4 GPU|grep Free >gpu_free')\n",
    "    memory_available = [int(x.split()[2]) for x in open('gpu_free', 'r').readlines()]\n",
    "    gpu = f'cuda:{np.argmax(memory_available)}'\n",
    "    if os.path.exists(\"gpu_free\"):\n",
    "        os.remove(\"gpu_free\")\n",
    "    else:\n",
    "          print(\"The file does not exist\") \n",
    "    return gpu"
   ]
  },
  {
   "cell_type": "markdown",
   "id": "5452ecca",
   "metadata": {},
   "source": [
    "Set cuda accordingly."
   ]
  },
  {
   "cell_type": "code",
   "execution_count": 3,
   "id": "d893f925",
   "metadata": {},
   "outputs": [
    {
     "name": "stdout",
     "output_type": "stream",
     "text": [
      "Configured device:  cuda\n"
     ]
    }
   ],
   "source": [
    "device = get_freer_gpu()\n",
    "print(\"Configured device: \", device)"
   ]
  },
  {
   "cell_type": "markdown",
   "id": "503c716d",
   "metadata": {},
   "source": [
    "## 1. Loading dataset\n",
    "\n",
    "Let's first reuse the dataset loader we have created in Part 1."
   ]
  },
  {
   "cell_type": "code",
   "execution_count": 4,
   "id": "86b737fb",
   "metadata": {},
   "outputs": [
    {
     "data": {
      "text/plain": [
       "<torch._C.Generator at 0x7f4238124bb0>"
      ]
     },
     "execution_count": 4,
     "metadata": {},
     "output_type": "execute_result"
    }
   ],
   "source": [
    "# setting seed so that splitting process and training process can be reproduced\n",
    "torch.manual_seed(1)"
   ]
  },
  {
   "cell_type": "code",
   "execution_count": 5,
   "id": "c9f11137",
   "metadata": {},
   "outputs": [],
   "source": [
    "class Dataset(torch.utils.data.Dataset):\n",
    "    \n",
    "    def __init__(self, path, stim, split):\n",
    "        _, _, filenames = next(os.walk(path))\n",
    "        filenames = sorted(filenames)\n",
    "        all_data = []\n",
    "        all_label = []\n",
    "        for dat in filenames:\n",
    "            temp = pickle.load(open(os.path.join(path,dat), 'rb'), encoding='latin1')\n",
    "            all_data.append(temp['data'])\n",
    "            \n",
    "            if stim == \"Valence\":\n",
    "                all_label.append(temp['labels'][:,:1])   #the first index is valence\n",
    "            elif stim == \"Arousal\":\n",
    "                all_label.append(temp['labels'][:,1:2]) # Arousal  #the second index is arousal\n",
    "                \n",
    "        data = np.vstack(all_data)[:, :32, ]   #shape: (1280, 32, 8064) --> take only the first 32 channels\n",
    "        label = np.vstack(all_label) #(1280, 1)  ==> 1280 samples, \n",
    "        \n",
    "        self.data, self.label = self._split(data, label, split)\n",
    "        \n",
    "        shape = self.data.shape\n",
    "        \n",
    "        #perform segmentation=====\n",
    "        segments = 12\n",
    "        \n",
    "        self.data = self.data.reshape(shape[0], shape[1], int(shape[2]/segments), segments)\n",
    "        #train data shape: (896, 32, 672, 12)\n",
    "\n",
    "        self.data = self.data.transpose(0, 3, 1, 2)\n",
    "        #train data shape: (896, 12, 32, 672)\n",
    "\n",
    "        self.data = self.data.reshape(shape[0] * segments, shape[1], -1)\n",
    "        #train data shape: (896*12, 32, 672)\n",
    "        #==========================\n",
    "        \n",
    "        self.label = np.repeat(self.label, segments)[:, np.newaxis]  #the dimension 1 is lost after repeat, so need to unsqueeze (896*12, 1)\n",
    "        \n",
    "        del temp, all_data, all_label\n",
    "\n",
    "    def __len__(self):\n",
    "        return self.data.shape[0]\n",
    "\n",
    "    def __getitem__(self, idx):\n",
    "        single_data  = self.data[idx]\n",
    "        single_label = (self.label[idx] > 5).astype(float)   #convert the scale to either 0 or 1 (to classification problem)\n",
    "        \n",
    "        batch = {\n",
    "            'data': torch.Tensor(single_data),\n",
    "            'label': torch.Tensor(single_label)\n",
    "        }\n",
    "        \n",
    "        return batch\n",
    "    \n",
    "    def _split(self, data, label, split):\n",
    "        # randomly shuffle the indexes, then randomly select 80% of the data\n",
    "        indices   = torch.randperm(len(data)).tolist()\n",
    "        train_ind = int(0.7 * len(data))\n",
    "        val_ind   = int(0.9 * len(data))\n",
    "\n",
    "        # create idx\n",
    "        if split == \"train\":\n",
    "            idx = indices[:train_ind]\n",
    "        \n",
    "        elif split == \"val\":\n",
    "            idx = indices[train_ind:val_ind]\n",
    "        \n",
    "        elif split == \"test\":\n",
    "            idx = indices[val_ind:]\n",
    "        else:\n",
    "            raise ValueError(\"train/val/test\")\n",
    "        \n",
    "        data = data[idx]\n",
    "        label = label[idx]\n",
    "        \n",
    "        return data, label"
   ]
  },
  {
   "cell_type": "markdown",
   "id": "667e638d",
   "metadata": {},
   "source": [
    "Let's try load the dataset."
   ]
  },
  {
   "cell_type": "code",
   "execution_count": 6,
   "id": "889a7824",
   "metadata": {},
   "outputs": [],
   "source": [
    "path = \"data\"  #create a folder \"data\", and inside put s01.dat,....,s32.dat inside from the preprocessed folder from the DEAP dataset"
   ]
  },
  {
   "cell_type": "code",
   "execution_count": 7,
   "id": "35d6414d",
   "metadata": {},
   "outputs": [
    {
     "name": "stdout",
     "output_type": "stream",
     "text": [
      "Train Data shape:  torch.Size([10752, 32, 672])\n",
      "Train Label shape:  torch.Size([10752, 1])\n"
     ]
    }
   ],
   "source": [
    "train_set = Dataset(path, \"Valence\", \"train\") \n",
    "val_set = Dataset(path, \"Valence\", \"val\")\n",
    "test_set = Dataset(path, \"Valence\", \"test\")\n",
    "\n",
    "data_train  = train_set[:]['data']\n",
    "label_train = train_set[:]['label']\n",
    "\n",
    "print(\"Train Data shape: \" , data_train.shape)  #10752 = 32 * 28 trials * 12 segments, 32 EEG channels, 672 samples\n",
    "print(\"Train Label shape: \", label_train.shape)  #two classes of valence"
   ]
  },
  {
   "cell_type": "markdown",
   "id": "bc8d0cbd",
   "metadata": {
    "tags": []
   },
   "source": [
    "## 2. Defining the Model -> LSTM\n",
    "\n",
    "Long Short Term Memory is a very simple model which treats data as sequence.  For sequential data such as EEG signal, LSTM (or other variants of recurrent neural network such as vanilla RNN or GRU) is one promising option.\n",
    "\n",
    "Here, we shall try bidirectional LSTM with two layers and see whether we could get decent accuracies."
   ]
  },
  {
   "cell_type": "code",
   "execution_count": 8,
   "id": "c010e4e4",
   "metadata": {
    "tags": []
   },
   "outputs": [],
   "source": [
    "class LSTM(nn.Module):\n",
    "    '''\n",
    "    Expected Input Shape: (batch, seq_len, channels)\n",
    "    '''\n",
    "    def __init__(self, input_dim, hidden_dim, num_layers, output_dim, bidirectional, dropout):\n",
    "        super().__init__()\n",
    "        self.lstm = nn.LSTM(input_dim, \n",
    "                           hidden_dim, \n",
    "                           num_layers=num_layers, \n",
    "                           bidirectional=bidirectional, \n",
    "                           dropout=dropout,\n",
    "                           batch_first=True)\n",
    "        self.fc = nn.Linear(hidden_dim * num_layers, output_dim)\n",
    "        \n",
    "    def forward(self, x):\n",
    "        \n",
    "        #x = [batch size, seq len, channels]\n",
    "        out, (hn, cn) = self.lstm(x)\n",
    "        \n",
    "        #out = [batch size, seq len, hidden dim * num directions]        \n",
    "        #hn = [num layers * num directions, batch size, hidden dim]\n",
    "        #cn = [num layers * num directions, batch size, hidden dim]\n",
    "        \n",
    "        #concat the final forward (hidden[-2,:,:]) and backward (hidden[-1,:,:]) hidden layers\n",
    "        hn = torch.cat((hn[-2,:,:], hn[-1,:,:]), dim = 1)\n",
    "        #hn = [batch size, hidden dim * num directions]\n",
    "        \n",
    "        return self.fc(hn)"
   ]
  },
  {
   "cell_type": "markdown",
   "id": "6d235fcd",
   "metadata": {},
   "source": [
    "**Weight init**: Before we initialize our model, let's also define a function how we want to initialize the network weights.  This is optional.  By default, layers will simply randomize weights but it is always nice to know how we can control weight initialization by defining a function"
   ]
  },
  {
   "cell_type": "code",
   "execution_count": 9,
   "id": "9cff000b",
   "metadata": {},
   "outputs": [],
   "source": [
    "#explicitly initialize weights for better learning\n",
    "def initialize_weights(m):\n",
    "    if isinstance(m, nn.Linear):   #if layer is of Linear\n",
    "        nn.init.xavier_normal_(m.weight)\n",
    "        nn.init.zeros_(m.bias)\n",
    "    elif isinstance(m, nn.LSTM):   #if layer is of LSTM\n",
    "        for name, param in m.named_parameters():\n",
    "            if 'bias' in name:\n",
    "                nn.init.zeros_(param)\n",
    "            elif 'weight' in name:\n",
    "                nn.init.orthogonal_(param)  #orthogonal is a common way to initialize weights for RNN/LSTM/GRU"
   ]
  },
  {
   "cell_type": "markdown",
   "id": "b2408a4a",
   "metadata": {},
   "source": [
    "**Model init**: Let's init the class instance and create a workabout model."
   ]
  },
  {
   "cell_type": "code",
   "execution_count": 10,
   "id": "c3d3edb0",
   "metadata": {},
   "outputs": [
    {
     "data": {
      "text/plain": [
       "LSTM(\n",
       "  (lstm): LSTM(32, 256, num_layers=2, batch_first=True, dropout=0.5, bidirectional=True)\n",
       "  (fc): Linear(in_features=512, out_features=1, bias=True)\n",
       ")"
      ]
     },
     "execution_count": 10,
     "metadata": {},
     "output_type": "execute_result"
    }
   ],
   "source": [
    "#note that these params are simply obtained from trial and error; I got no theory to back up why I use certain numbers here...\n",
    "input_dim     = 32 #we got 32 EEG channels\n",
    "hidden_dim    = 256 #let's define hidden dim as 256\n",
    "num_layers    = 2  #we gonna have two LSTM layers\n",
    "output_dim    = 1  #we got 2 classes so we can output only 1 number, 0 for first class and 1 for another class\n",
    "bidirectional = True  #uses bidirectional LSTM\n",
    "dropout       = 0.5  #setting dropout to 0.5\n",
    "\n",
    "#define the model\n",
    "model = LSTM(input_dim, hidden_dim, num_layers, output_dim, bidirectional, dropout)\n",
    "\n",
    "#send to cuda so we can use the GPU\n",
    "model = model.to(device)  \n",
    "\n",
    "#apply weights\n",
    "model.apply(initialize_weights)"
   ]
  },
  {
   "cell_type": "markdown",
   "id": "fd909a8b",
   "metadata": {},
   "source": [
    "**Param count**: Let's also check the number of parameters used"
   ]
  },
  {
   "cell_type": "code",
   "execution_count": 11,
   "id": "7a2f7414",
   "metadata": {},
   "outputs": [
    {
     "name": "stdout",
     "output_type": "stream",
     "text": [
      "The model LSTM has 2,171,393 trainable parameters\n"
     ]
    }
   ],
   "source": [
    "def count_parameters(model):\n",
    "    return sum(p.numel() for p in model.parameters() if p.requires_grad)\n",
    "\n",
    "print(f'The model {type(model).__name__} has {count_parameters(model):,} trainable parameters')# Train the model"
   ]
  },
  {
   "cell_type": "markdown",
   "id": "c8eeebbf",
   "metadata": {},
   "source": [
    "**Unit test**: Let's define a simple unit test, inputing some mock EEG data and see whether we got the desired output as 4 classes."
   ]
  },
  {
   "cell_type": "code",
   "execution_count": 12,
   "id": "92ad3192",
   "metadata": {},
   "outputs": [
    {
     "name": "stdout",
     "output_type": "stream",
     "text": [
      "Prediction shape:  torch.Size([2, 1])\n",
      "Predictions:  tensor([[-0.0002],\n",
      "        [-0.0212]], device='cuda:0', grad_fn=<AddmmBackward0>)\n"
     ]
    }
   ],
   "source": [
    "mock_batch_size = 2  #in real training, we use 32\n",
    "mock_input_dim  = 32 #in real data, ours is 32 channels\n",
    "mock_seq_len    = 10 #in real data, ours is 8064\n",
    "\n",
    "#note that 8064 seq_len and 32 channels should be swapped because that's what LSTM wants\n",
    "mock_eegdata = torch.rand(mock_batch_size, mock_seq_len, mock_input_dim).to(device)\n",
    "\n",
    "#let's try run the model by simply inserting the mockdata into the model; very similar to .fit\n",
    "predictions = model(mock_eegdata)\n",
    "\n",
    "#let's try to see the predictions whether it really outputs 2 unique classes - 0 and 1\n",
    "print(\"Prediction shape: \", predictions.shape)\n",
    "print(\"Predictions: \", predictions)\n",
    "\n",
    "#simple unit test\n",
    "assert predictions.shape[0] == mock_batch_size\n",
    "assert predictions.shape[1] == output_dim"
   ]
  },
  {
   "cell_type": "markdown",
   "id": "98aa2d3c",
   "metadata": {},
   "source": [
    "## 3. Training"
   ]
  },
  {
   "cell_type": "markdown",
   "id": "86238bee",
   "metadata": {
    "tags": []
   },
   "source": [
    "### I. Batch Iterators\n",
    "\n",
    "In order to easily loop the dataset, let's create a batch iterator.  The typical steps are:\n",
    "\n",
    "1.  Create a loader using DataLoader APIs"
   ]
  },
  {
   "cell_type": "code",
   "execution_count": 14,
   "id": "a3d862c1",
   "metadata": {},
   "outputs": [
    {
     "name": "stdout",
     "output_type": "stream",
     "text": [
      "Train Dataset size: 10752\n",
      "Valid Dataset size: 3072\n",
      "Test Dataset size:  1536\n",
      "\n"
     ]
    }
   ],
   "source": [
    "# print(f\"Full Dataset size:  {len(dataset)}\")\n",
    "print(f\"Train Dataset size: {len(train_set)}\")\n",
    "print(f\"Valid Dataset size: {len(val_set)}\")\n",
    "print(f\"Test Dataset size:  {len(test_set)}\\n\")\n",
    "\n",
    "# let's create the loader so we can easily loop each batch for training\n",
    "params = {\"batch_size\":16,\"shuffle\": True,\"pin_memory\": True}\n",
    "\n",
    "train_loader = DataLoader(train_set, **params)\n",
    "val_loader   = DataLoader(val_set, **params)\n",
    "test_loader  = DataLoader(test_set, **params)"
   ]
  },
  {
   "cell_type": "markdown",
   "id": "5c455810",
   "metadata": {},
   "source": [
    "### II. Optimizers\n",
    "\n",
    "Optimizer simply refers to the one that gonna take care of the backpropagation process.  The commonly used optimizer is SGD and Adam, both are quite interchangeable.  Here we gonna use Adam.  In order to backpropagate, we gonna define a loss function using cross entropy loss, which is a common loss function for multi-class purposes."
   ]
  },
  {
   "cell_type": "code",
   "execution_count": 15,
   "id": "e439032c",
   "metadata": {},
   "outputs": [],
   "source": [
    "import torch.optim as optim\n",
    "\n",
    "num_epochs = 50\n",
    "\n",
    "lr = 0.0001\n",
    "\n",
    "#can also try SGD which should not make too much of a difference\n",
    "optimizer = optim.Adam(model.parameters(), lr=lr) \n",
    "\n",
    "#combine sigmoid with binary entropy; binary entropy is used for binary classification\n",
    "criterion = nn.BCEWithLogitsLoss() "
   ]
  },
  {
   "cell_type": "markdown",
   "id": "e9d9cf15",
   "metadata": {
    "tags": []
   },
   "source": [
    "### III. Training procedures\n",
    "\n",
    "Let's create a function for training, so we can reuse it in the future.  I will write comments where appropriate."
   ]
  },
  {
   "cell_type": "code",
   "execution_count": 16,
   "id": "c4ba70f2",
   "metadata": {},
   "outputs": [],
   "source": [
    "#for measuring accuracy\n",
    "def binary_accuracy(preds, y):\n",
    "    \"\"\"\n",
    "    Returns accuracy per batch, i.e. if you get 8/10 right, this returns 0.8, NOT 8\n",
    "    \"\"\"\n",
    "    #round predictions to the closest integer\n",
    "    rounded_preds = torch.round(torch.sigmoid(preds))\n",
    "    correct = (rounded_preds == y).float() #convert into float for division \n",
    "    acc = correct.sum() / len(correct)\n",
    "    return acc"
   ]
  },
  {
   "cell_type": "code",
   "execution_count": 17,
   "id": "304962dc",
   "metadata": {},
   "outputs": [],
   "source": [
    "#for timing the epochs\n",
    "def epoch_time(start_time, end_time):\n",
    "    elapsed_time = end_time - start_time\n",
    "    elapsed_mins = int(elapsed_time / 60)\n",
    "    elapsed_secs = int(elapsed_time - (elapsed_mins * 60))\n",
    "    return elapsed_mins, elapsed_secs"
   ]
  },
  {
   "cell_type": "code",
   "execution_count": 18,
   "id": "aaa7d02b",
   "metadata": {},
   "outputs": [],
   "source": [
    "def train(model, train_loader,  optimizer, criterion):\n",
    "\n",
    "    model.train()\n",
    "    epoch_train_loss = 0\n",
    "    epoch_train_acc  = 0\n",
    "\n",
    "    for i, batch in enumerate(train_loader):\n",
    "    \n",
    "        # data shape: (batch, channel, seq len)\n",
    "        data  = batch['data'].to(device).permute(0, 2, 1)   \n",
    "        # data shape: (batch, seq len, channel)\n",
    "\n",
    "        # label shape: (batch, 1)\n",
    "        label = batch['label'].to(device)\n",
    "        \n",
    "        #predict\n",
    "        output = model(data)  #output shape: (batch, 1)\n",
    "        loss   = criterion(output, label)\n",
    "        \n",
    "        #backprop\n",
    "        optimizer.zero_grad()\n",
    "        loss.backward()\n",
    "        optimizer.step()\n",
    "        \n",
    "        #for visualizing\n",
    "        epoch_train_loss += loss.item()\n",
    "        acc = binary_accuracy(output, label)\n",
    "        epoch_train_acc += acc.item()\n",
    "        \n",
    "    epoch_train_loss = epoch_train_loss / len(train_loader)\n",
    "    epoch_train_acc  = epoch_train_acc  / len(train_loader)\n",
    "    \n",
    "    return epoch_train_loss, epoch_train_acc"
   ]
  },
  {
   "cell_type": "markdown",
   "id": "1e4c49db",
   "metadata": {},
   "source": [
    "Let's also create another slightly different function to test our model on the validation set."
   ]
  },
  {
   "cell_type": "code",
   "execution_count": 19,
   "id": "58cdddbb",
   "metadata": {},
   "outputs": [],
   "source": [
    "def evaluate(model, val_loader, criterion):\n",
    "\n",
    "    model.eval()\n",
    "    epoch_val_loss = 0\n",
    "    epoch_val_acc  = 0\n",
    "\n",
    "    with torch.no_grad():\n",
    "        for i, batch in enumerate(val_loader):\n",
    "            \n",
    "            # data shape: (batch, channel, seq len)\n",
    "            data  = batch['data'].to(device).permute(0, 2, 1)  \n",
    "            label = batch['label'].to(device)\n",
    "            \n",
    "            #predict\n",
    "            output = model(data)\n",
    "            loss   = criterion(output, label)\n",
    "            \n",
    "            #for visualizing\n",
    "            epoch_val_loss += loss.item()\n",
    "            acc = binary_accuracy(output, label)\n",
    "            epoch_val_acc += acc.item()\n",
    "    \n",
    "    epoch_val_loss =  epoch_val_loss / len(val_loader)\n",
    "    epoch_val_acc  =  epoch_val_acc  / len(val_loader)\n",
    "    \n",
    "    return epoch_val_loss, epoch_val_acc"
   ]
  },
  {
   "cell_type": "markdown",
   "id": "a61cd1b3",
   "metadata": {
    "tags": []
   },
   "source": [
    "### IV. Let's train!\n",
    "\n",
    "Nothing much but simply run the training functions!"
   ]
  },
  {
   "cell_type": "code",
   "execution_count": 20,
   "id": "07fa310c",
   "metadata": {},
   "outputs": [
    {
     "name": "stdout",
     "output_type": "stream",
     "text": [
      "Epoch: 01 | Epoch Time: 1m 32s\n",
      "\t Train Loss: 0.663 | Train Acc: 60.10%\n",
      "\t Val. Loss: 0.642  |  Val. Acc: 61.52%\n",
      "Epoch: 02 | Epoch Time: 1m 33s\n",
      "\t Train Loss: 0.600 | Train Acc: 67.77%\n",
      "\t Val. Loss: 0.566  |  Val. Acc: 72.01%\n",
      "Epoch: 03 | Epoch Time: 1m 33s\n",
      "\t Train Loss: 0.519 | Train Acc: 74.71%\n",
      "\t Val. Loss: 0.509  |  Val. Acc: 77.08%\n",
      "Epoch: 04 | Epoch Time: 1m 33s\n",
      "\t Train Loss: 0.437 | Train Acc: 79.39%\n",
      "\t Val. Loss: 0.490  |  Val. Acc: 79.92%\n",
      "Epoch: 05 | Epoch Time: 1m 34s\n",
      "\t Train Loss: 0.355 | Train Acc: 83.91%\n",
      "\t Val. Loss: 0.455  |  Val. Acc: 82.94%\n",
      "Epoch: 06 | Epoch Time: 1m 33s\n",
      "\t Train Loss: 0.291 | Train Acc: 87.23%\n",
      "\t Val. Loss: 0.458  |  Val. Acc: 85.06%\n",
      "Epoch: 07 | Epoch Time: 1m 33s\n",
      "\t Train Loss: 0.239 | Train Acc: 89.65%\n",
      "\t Val. Loss: 0.494  |  Val. Acc: 83.98%\n",
      "Epoch: 08 | Epoch Time: 1m 33s\n",
      "\t Train Loss: 0.191 | Train Acc: 92.13%\n",
      "\t Val. Loss: 0.496  |  Val. Acc: 85.58%\n",
      "Epoch: 09 | Epoch Time: 1m 33s\n",
      "\t Train Loss: 0.166 | Train Acc: 93.17%\n",
      "\t Val. Loss: 0.562  |  Val. Acc: 85.68%\n",
      "Epoch: 10 | Epoch Time: 1m 33s\n",
      "\t Train Loss: 0.135 | Train Acc: 94.61%\n",
      "\t Val. Loss: 0.562  |  Val. Acc: 86.82%\n",
      "Epoch: 11 | Epoch Time: 1m 32s\n",
      "\t Train Loss: 0.126 | Train Acc: 94.86%\n",
      "\t Val. Loss: 0.597  |  Val. Acc: 86.65%\n",
      "Epoch: 12 | Epoch Time: 1m 33s\n",
      "\t Train Loss: 0.108 | Train Acc: 95.99%\n",
      "\t Val. Loss: 0.610  |  Val. Acc: 87.47%\n",
      "Epoch: 13 | Epoch Time: 1m 33s\n",
      "\t Train Loss: 0.092 | Train Acc: 96.48%\n",
      "\t Val. Loss: 0.656  |  Val. Acc: 87.27%\n",
      "Epoch: 14 | Epoch Time: 1m 34s\n",
      "\t Train Loss: 0.088 | Train Acc: 96.61%\n",
      "\t Val. Loss: 0.688  |  Val. Acc: 86.13%\n",
      "Epoch: 15 | Epoch Time: 1m 33s\n",
      "\t Train Loss: 0.078 | Train Acc: 96.87%\n",
      "\t Val. Loss: 0.662  |  Val. Acc: 86.49%\n",
      "Epoch: 16 | Epoch Time: 1m 33s\n",
      "\t Train Loss: 0.066 | Train Acc: 97.51%\n",
      "\t Val. Loss: 0.699  |  Val. Acc: 86.72%\n",
      "Epoch: 17 | Epoch Time: 1m 33s\n",
      "\t Train Loss: 0.069 | Train Acc: 97.47%\n",
      "\t Val. Loss: 0.743  |  Val. Acc: 86.98%\n",
      "Epoch: 18 | Epoch Time: 1m 34s\n",
      "\t Train Loss: 0.066 | Train Acc: 97.45%\n",
      "\t Val. Loss: 0.681  |  Val. Acc: 87.50%\n",
      "Epoch: 19 | Epoch Time: 1m 33s\n",
      "\t Train Loss: 0.060 | Train Acc: 97.76%\n",
      "\t Val. Loss: 0.693  |  Val. Acc: 87.30%\n",
      "Epoch: 20 | Epoch Time: 1m 34s\n",
      "\t Train Loss: 0.048 | Train Acc: 98.13%\n",
      "\t Val. Loss: 0.775  |  Val. Acc: 87.17%\n",
      "Epoch: 21 | Epoch Time: 1m 33s\n",
      "\t Train Loss: 0.054 | Train Acc: 97.93%\n",
      "\t Val. Loss: 0.728  |  Val. Acc: 87.43%\n",
      "Epoch: 22 | Epoch Time: 1m 34s\n",
      "\t Train Loss: 0.049 | Train Acc: 98.20%\n",
      "\t Val. Loss: 0.784  |  Val. Acc: 87.53%\n",
      "Epoch: 23 | Epoch Time: 1m 34s\n",
      "\t Train Loss: 0.050 | Train Acc: 98.02%\n",
      "\t Val. Loss: 0.773  |  Val. Acc: 87.24%\n",
      "Epoch: 24 | Epoch Time: 1m 34s\n",
      "\t Train Loss: 0.052 | Train Acc: 98.04%\n",
      "\t Val. Loss: 0.864  |  Val. Acc: 86.78%\n",
      "Epoch: 25 | Epoch Time: 1m 33s\n",
      "\t Train Loss: 0.035 | Train Acc: 98.63%\n",
      "\t Val. Loss: 0.863  |  Val. Acc: 86.78%\n",
      "Epoch: 26 | Epoch Time: 1m 33s\n",
      "\t Train Loss: 0.042 | Train Acc: 98.38%\n",
      "\t Val. Loss: 0.800  |  Val. Acc: 87.17%\n",
      "Epoch: 27 | Epoch Time: 1m 34s\n",
      "\t Train Loss: 0.039 | Train Acc: 98.45%\n",
      "\t Val. Loss: 0.869  |  Val. Acc: 86.95%\n",
      "Epoch: 28 | Epoch Time: 1m 33s\n",
      "\t Train Loss: 0.037 | Train Acc: 98.68%\n",
      "\t Val. Loss: 0.806  |  Val. Acc: 87.34%\n",
      "Epoch: 29 | Epoch Time: 1m 33s\n",
      "\t Train Loss: 0.033 | Train Acc: 98.78%\n",
      "\t Val. Loss: 0.867  |  Val. Acc: 87.34%\n",
      "Epoch: 30 | Epoch Time: 1m 33s\n",
      "\t Train Loss: 0.041 | Train Acc: 98.21%\n",
      "\t Val. Loss: 0.894  |  Val. Acc: 86.52%\n",
      "Epoch: 31 | Epoch Time: 1m 33s\n",
      "\t Train Loss: 0.029 | Train Acc: 98.90%\n",
      "\t Val. Loss: 0.827  |  Val. Acc: 87.34%\n",
      "Epoch: 32 | Epoch Time: 1m 33s\n",
      "\t Train Loss: 0.031 | Train Acc: 98.97%\n",
      "\t Val. Loss: 0.850  |  Val. Acc: 87.30%\n",
      "Epoch: 33 | Epoch Time: 1m 33s\n",
      "\t Train Loss: 0.031 | Train Acc: 98.85%\n",
      "\t Val. Loss: 0.944  |  Val. Acc: 86.62%\n",
      "Epoch: 34 | Epoch Time: 1m 33s\n",
      "\t Train Loss: 0.029 | Train Acc: 98.93%\n",
      "\t Val. Loss: 0.961  |  Val. Acc: 87.27%\n",
      "Epoch: 35 | Epoch Time: 1m 33s\n",
      "\t Train Loss: 0.033 | Train Acc: 98.79%\n",
      "\t Val. Loss: 0.956  |  Val. Acc: 86.78%\n",
      "Epoch: 36 | Epoch Time: 1m 33s\n",
      "\t Train Loss: 0.033 | Train Acc: 98.87%\n",
      "\t Val. Loss: 0.904  |  Val. Acc: 87.50%\n",
      "Epoch: 37 | Epoch Time: 1m 33s\n",
      "\t Train Loss: 0.030 | Train Acc: 99.03%\n",
      "\t Val. Loss: 0.872  |  Val. Acc: 86.62%\n",
      "Epoch: 38 | Epoch Time: 1m 32s\n",
      "\t Train Loss: 0.027 | Train Acc: 99.14%\n",
      "\t Val. Loss: 0.939  |  Val. Acc: 86.69%\n",
      "Epoch: 39 | Epoch Time: 1m 33s\n",
      "\t Train Loss: 0.024 | Train Acc: 99.14%\n",
      "\t Val. Loss: 0.911  |  Val. Acc: 87.01%\n",
      "Epoch: 40 | Epoch Time: 1m 33s\n",
      "\t Train Loss: 0.025 | Train Acc: 99.13%\n",
      "\t Val. Loss: 1.012  |  Val. Acc: 86.72%\n",
      "Epoch: 41 | Epoch Time: 1m 33s\n",
      "\t Train Loss: 0.025 | Train Acc: 99.19%\n",
      "\t Val. Loss: 0.985  |  Val. Acc: 86.72%\n",
      "Epoch: 42 | Epoch Time: 1m 33s\n",
      "\t Train Loss: 0.024 | Train Acc: 99.24%\n",
      "\t Val. Loss: 1.012  |  Val. Acc: 86.30%\n",
      "Epoch: 43 | Epoch Time: 1m 33s\n",
      "\t Train Loss: 0.024 | Train Acc: 99.21%\n",
      "\t Val. Loss: 1.042  |  Val. Acc: 86.91%\n",
      "Epoch: 44 | Epoch Time: 1m 34s\n",
      "\t Train Loss: 0.024 | Train Acc: 99.11%\n",
      "\t Val. Loss: 1.022  |  Val. Acc: 86.75%\n",
      "Epoch: 45 | Epoch Time: 1m 34s\n",
      "\t Train Loss: 0.018 | Train Acc: 99.31%\n",
      "\t Val. Loss: 0.980  |  Val. Acc: 87.27%\n",
      "Epoch: 46 | Epoch Time: 1m 34s\n",
      "\t Train Loss: 0.021 | Train Acc: 99.34%\n",
      "\t Val. Loss: 0.912  |  Val. Acc: 87.73%\n",
      "Epoch: 47 | Epoch Time: 1m 33s\n",
      "\t Train Loss: 0.023 | Train Acc: 99.22%\n",
      "\t Val. Loss: 1.038  |  Val. Acc: 87.14%\n",
      "Epoch: 48 | Epoch Time: 1m 33s\n",
      "\t Train Loss: 0.026 | Train Acc: 99.00%\n",
      "\t Val. Loss: 0.984  |  Val. Acc: 86.78%\n",
      "Epoch: 49 | Epoch Time: 1m 33s\n",
      "\t Train Loss: 0.017 | Train Acc: 99.49%\n",
      "\t Val. Loss: 1.054  |  Val. Acc: 87.08%\n",
      "Epoch: 50 | Epoch Time: 1m 33s\n",
      "\t Train Loss: 0.024 | Train Acc: 99.16%\n",
      "\t Val. Loss: 0.998  |  Val. Acc: 86.33%\n"
     ]
    }
   ],
   "source": [
    "best_valid_loss = float('inf')\n",
    "\n",
    "train_losses = []\n",
    "train_accs   = []\n",
    "valid_losses = []\n",
    "valid_accs   = []\n",
    "\n",
    "for epoch in range(num_epochs):\n",
    "    \n",
    "    start_time = time.time()\n",
    "\n",
    "    train_loss, train_acc = train(model, train_loader, optimizer, criterion)\n",
    "    valid_loss, valid_acc = evaluate(model, val_loader, criterion)\n",
    "    \n",
    "    #for plotting\n",
    "    train_losses.append(train_loss)\n",
    "    train_accs  .append(train_acc)\n",
    "    valid_losses.append(valid_loss)\n",
    "    valid_accs  .append(valid_acc)\n",
    "    \n",
    "    if valid_loss < best_valid_loss:\n",
    "        best_valid_loss = valid_loss\n",
    "        torch.save(model.state_dict(), 'models/DEAP_BiLSTM.pt')\n",
    "        \n",
    "    end_time = time.time()\n",
    "    epoch_mins, epoch_secs = epoch_time(start_time, end_time)\n",
    "    \n",
    "    print(f'Epoch: {epoch+1:02} | Epoch Time: {epoch_mins}m {epoch_secs}s')\n",
    "    print(f'\\t Train Loss: {train_loss:.3f} | Train Acc: {train_acc*100:.2f}%')\n",
    "    print(f'\\t Val. Loss: {valid_loss:.3f}  |  Val. Acc: {valid_acc*100:.2f}%')"
   ]
  },
  {
   "cell_type": "markdown",
   "id": "6a47f3f5",
   "metadata": {},
   "source": [
    "Let's plot the losses and acc for easier inspection"
   ]
  },
  {
   "cell_type": "code",
   "execution_count": 21,
   "id": "9129fc3b",
   "metadata": {},
   "outputs": [
    {
     "data": {
      "text/plain": [
       "Text(0, 0.5, 'loss')"
      ]
     },
     "execution_count": 21,
     "metadata": {},
     "output_type": "execute_result"
    },
    {
     "data": {
      "image/png": "[encoded data removed]",
      "text/plain": [
       "<Figure size 720x432 with 1 Axes>"
      ]
     },
     "metadata": {
      "needs_background": "light"
     },
     "output_type": "display_data"
    }
   ],
   "source": [
    "import matplotlib.pyplot as plt\n",
    "fig = plt.figure(figsize=(10, 6))\n",
    "ax  = fig.add_subplot(1, 1, 1)\n",
    "ax.plot(train_losses, label = 'train loss')\n",
    "ax.plot(valid_losses, label = 'valid loss')\n",
    "plt.legend()\n",
    "ax.set_xlabel('updates')\n",
    "ax.set_ylabel('loss')"
   ]
  },
  {
   "cell_type": "code",
   "execution_count": 22,
   "id": "49b7dde4",
   "metadata": {},
   "outputs": [
    {
     "data": {
      "text/plain": [
       "Text(0, 0.5, 'acc')"
      ]
     },
     "execution_count": 22,
     "metadata": {},
     "output_type": "execute_result"
    },
    {
     "data": {
      "image/png": "[encoded data removed]",
      "text/plain": [
       "<Figure size 720x432 with 1 Axes>"
      ]
     },
     "metadata": {
      "needs_background": "light"
     },
     "output_type": "display_data"
    }
   ],
   "source": [
    "fig = plt.figure(figsize=(10, 6))\n",
    "ax  = fig.add_subplot(1, 1, 1)\n",
    "ax.plot(train_accs, label = 'train acc')\n",
    "ax.plot(valid_accs, label = 'valid acc')\n",
    "plt.legend()\n",
    "ax.set_xlabel('updates')\n",
    "ax.set_ylabel('acc')"
   ]
  },
  {
   "cell_type": "markdown",
   "id": "d889f8ab",
   "metadata": {},
   "source": [
    "## 4. Evaluation on test set"
   ]
  },
  {
   "cell_type": "code",
   "execution_count": 23,
   "id": "a93c1cb2",
   "metadata": {},
   "outputs": [
    {
     "name": "stdout",
     "output_type": "stream",
     "text": [
      "Test Loss: 0.462 | Test Acc: 81.64%\n"
     ]
    }
   ],
   "source": [
    "model.load_state_dict(torch.load('models/DEAP_BiLSTM.pt'))\n",
    "test_loss, test_acc = evaluate(model, test_loader, criterion)\n",
    "\n",
    "print(f'Test Loss: {test_loss:.3f} | Test Acc: {test_acc*100:.2f}%')"
   ]
  },
  {
   "cell_type": "markdown",
   "id": "a4726c81",
   "metadata": {},
   "source": [
    "## Final Verdict\n",
    "\n"
   ]
  },
  {
   "cell_type": "markdown",
   "id": "af8595c5",
   "metadata": {},
   "source": [
    "Hmm...so the accuracy is around 81.64%.  Not really impressive.\n",
    "\n",
    "One quick improvement to LSTM is its speed which takes considerable time to train for each epoch, especially if the seq len is very big.  One way to dramatically increase the speed is to downsize the seq len.  One good way is by applying conv1d+pooling before LSTM."
   ]
  }
 ],
 "metadata": {
  "kernelspec": {
   "display_name": "jakrapop_nlu",
   "language": "python",
   "name": "jakrapop_nlu"
  },
  "language_info": {
   "codemirror_mode": {
    "name": "ipython",
    "version": 3
   },
   "file_extension": ".py",
   "mimetype": "text/x-python",
   "name": "python",
   "nbconvert_exporter": "python",
   "pygments_lexer": "ipython3",
   "version": "3.9.4"
  }
 },
 "nbformat": 4,
 "nbformat_minor": 5
}
