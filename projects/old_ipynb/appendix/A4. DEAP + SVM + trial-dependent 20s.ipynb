{
 "cells": [
  {
   "cell_type": "code",
   "execution_count": 1,
   "metadata": {},
   "outputs": [
    {
     "name": "stdout",
     "output_type": "stream",
     "text": [
      "Found: 32 files\n",
      "s01 (120, 2) [47.5 60. ]\n"
     ]
    }
   ],
   "source": [
    "import time\n",
    "import numpy as np\n",
    "from tqdm.notebook import tqdm\n",
    "\n",
    "from components.dataset_jo import *\n",
    "\n",
    "dataset = Dataset_subjectDependent('data')\n",
    "segment_lenght = 20 #second\n",
    "dataset.set_segment(7680//(128*segment_lenght))\n",
    "for filename in dataset.get_file_list():\n",
    "    data, labels, _ = dataset.get_data(filename, return_type='numpy')\n",
    "    print(filename, labels.shape, labels.sum(axis=0)/labels.shape[0]*100)\n",
    "    break"
   ]
  },
  {
   "cell_type": "code",
   "execution_count": 2,
   "metadata": {},
   "outputs": [],
   "source": [
    "def train_model(X_ori,y_ori,groups_ori,filename=None, kernel='rbf',return_text=False):\n",
    "    # Make a copy because I am paranoid\n",
    "    X,y,groups = X_ori.copy(), y_ori.copy(), groups_ori.copy()\n",
    "\n",
    "    from sklearn.svm import SVC\n",
    "    from sklearn.model_selection import StratifiedShuffleSplit \n",
    "    from sklearn.model_selection import cross_val_score\n",
    "\n",
    "    model = SVC(kernel=kernel,max_iter=50000)\n",
    "    cv = StratifiedShuffleSplit(n_splits=10, train_size=0.75, random_state=0)\n",
    "    cross = cross_val_score(model, X, y, cv=cv, n_jobs=8)\n",
    "    \n",
    "    # We probably dont need this\n",
    "    model = SVC(kernel=kernel, max_iter=50000)\n",
    "    model.fit(X, y)\n",
    "    ans = model.predict(X)\n",
    "    acc = sum(ans == y) / len(y)\n",
    "    # If the model answer with all 0 or 1, we print this message\n",
    "    text = None\n",
    "    if( sum(ans) == len(y) or sum(ans) == 0 ): \n",
    "        text = f\"-----WARNING: Model {filename} failed to learn: sum(ans)={sum(ans)} sum(y)={sum(y)} len(y)={len(y)}\"\n",
    "    if(return_text):\n",
    "        return model, acc, cross, text\n",
    "    else:\n",
    "        if(text != None): print(text)\n",
    "        return model, acc, cross"
   ]
  },
  {
   "cell_type": "markdown",
   "metadata": {},
   "source": [
    "## 2. Spectral Features"
   ]
  },
  {
   "cell_type": "code",
   "execution_count": 3,
   "metadata": {},
   "outputs": [],
   "source": [
    "from mne_features.feature_extraction import FeatureExtractor"
   ]
  },
  {
   "cell_type": "code",
   "execution_count": 4,
   "metadata": {},
   "outputs": [
    {
     "name": "stdout",
     "output_type": "stream",
     "text": [
      "-----WARNING: Model s01 failed to learn: sum(ans)=120.0 sum(y)=72.0 len(y)=120\n",
      "\tAROUSAL-s01|Acc=0.6|10-CV=0.6|STD=0.0|Time spend=31.63000512123108\n",
      "-----WARNING: Model s02 failed to learn: sum(ans)=120.0 sum(y)=72.0 len(y)=120\n",
      "\tAROUSAL-s02|Acc=0.6|10-CV=0.59667|STD=0.01|Time spend=0.4062986373901367\n",
      "-----WARNING: Model s03 failed to learn: sum(ans)=0.0 sum(y)=24.0 len(y)=120\n",
      "\tAROUSAL-s03|Acc=0.8|10-CV=0.8|STD=0.0|Time spend=0.389326810836792\n",
      "\tAROUSAL-s04|Acc=0.625|10-CV=0.59667|STD=0.01|Time spend=0.4115104675292969\n",
      "\tAROUSAL-s05|Acc=0.53333|10-CV=0.48333|STD=0.04773|Time spend=0.39510297775268555\n",
      "\tAROUSAL-s06|Acc=0.6|10-CV=0.57|STD=0.0526|Time spend=0.39026379585266113\n",
      "\tAROUSAL-s07|Acc=0.66667|10-CV=0.65667|STD=0.02134|Time spend=0.3884427547454834\n",
      "\tAROUSAL-s08|Acc=0.59167|10-CV=0.55|STD=0.03416|Time spend=0.3902244567871094\n",
      "\tAROUSAL-s09|Acc=0.60833|10-CV=0.59667|STD=0.01795|Time spend=0.43497157096862793\n",
      "\tAROUSAL-s10|Acc=0.675|10-CV=0.61667|STD=0.04534|Time spend=0.4355909824371338\n",
      "-----WARNING: Model s11 failed to learn: sum(ans)=0.0 sum(y)=45.0 len(y)=120\n",
      "\tAROUSAL-s11|Acc=0.625|10-CV=0.63333|STD=0.0|Time spend=0.40058183670043945\n",
      "-----WARNING: Model s12 failed to learn: sum(ans)=120.0 sum(y)=99.0 len(y)=120\n",
      "\tAROUSAL-s12|Acc=0.825|10-CV=0.83333|STD=0.0|Time spend=0.401993989944458\n",
      "-----WARNING: Model s13 failed to learn: sum(ans)=120.0 sum(y)=102.0 len(y)=120\n",
      "\tAROUSAL-s13|Acc=0.85|10-CV=0.86|STD=0.01333|Time spend=0.3983168601989746\n",
      "-----WARNING: Model s14 failed to learn: sum(ans)=120.0 sum(y)=81.0 len(y)=120\n",
      "\tAROUSAL-s14|Acc=0.675|10-CV=0.66667|STD=0.0|Time spend=0.43176841735839844\n",
      "\tAROUSAL-s15|Acc=0.7|10-CV=0.63667|STD=0.07219|Time spend=0.3863992691040039\n",
      "\tAROUSAL-s16|Acc=0.74167|10-CV=0.67333|STD=0.10306|Time spend=0.41384220123291016\n",
      "\tAROUSAL-s17|Acc=0.73333|10-CV=0.65333|STD=0.02211|Time spend=0.4135589599609375\n",
      "\tAROUSAL-s18|Acc=0.63333|10-CV=0.63333|STD=0.0|Time spend=0.45409679412841797\n",
      "\tAROUSAL-s19|Acc=0.68333|10-CV=0.66667|STD=0.0|Time spend=0.4384958744049072\n",
      "-----WARNING: Model s20 failed to learn: sum(ans)=120.0 sum(y)=93.0 len(y)=120\n",
      "\tAROUSAL-s20|Acc=0.775|10-CV=0.76667|STD=0.0|Time spend=0.41173243522644043\n",
      "-----WARNING: Model s21 failed to learn: sum(ans)=120.0 sum(y)=96.0 len(y)=120\n",
      "\tAROUSAL-s21|Acc=0.8|10-CV=0.8|STD=0.0|Time spend=0.41809844970703125\n",
      "\tAROUSAL-s22|Acc=0.65833|10-CV=0.59|STD=0.06839|Time spend=0.37946438789367676\n",
      "-----WARNING: Model s23 failed to learn: sum(ans)=0.0 sum(y)=30.0 len(y)=120\n",
      "\tAROUSAL-s23|Acc=0.75|10-CV=0.75333|STD=0.01633|Time spend=0.4358944892883301\n",
      "-----WARNING: Model s24 failed to learn: sum(ans)=120.0 sum(y)=99.0 len(y)=120\n",
      "\tAROUSAL-s24|Acc=0.825|10-CV=0.83333|STD=0.0|Time spend=0.4128756523132324\n",
      "-----WARNING: Model s25 failed to learn: sum(ans)=120.0 sum(y)=87.0 len(y)=120\n",
      "\tAROUSAL-s25|Acc=0.725|10-CV=0.73333|STD=0.0|Time spend=0.40743589401245117\n",
      "\tAROUSAL-s26|Acc=0.61667|10-CV=0.55667|STD=0.02134|Time spend=0.4102492332458496\n",
      "\tAROUSAL-s27|Acc=0.725|10-CV=0.68|STD=0.02211|Time spend=0.4016306400299072\n",
      "\tAROUSAL-s28|Acc=0.6|10-CV=0.54|STD=0.01333|Time spend=0.4118828773498535\n",
      "-----WARNING: Model s29 failed to learn: sum(ans)=120.0 sum(y)=75.0 len(y)=120\n",
      "\tAROUSAL-s29|Acc=0.625|10-CV=0.62667|STD=0.01333|Time spend=0.41483521461486816\n",
      "\tAROUSAL-s30|Acc=0.7|10-CV=0.63333|STD=0.10435|Time spend=0.3811657428741455\n",
      "\tAROUSAL-s31|Acc=0.65833|10-CV=0.61333|STD=0.03055|Time spend=0.5104949474334717\n",
      "-----WARNING: Model s32 failed to learn: sum(ans)=120.0 sum(y)=81.0 len(y)=120\n",
      "\tAROUSAL-s32|Acc=0.675|10-CV=0.66667|STD=0.0|Time spend=0.5754897594451904\n",
      "AROUSAL|Acc=0.6843750000000002|10-CV=0.6598958333333333|STD=0.023111136792062444\n",
      "-----WARNING: Model s01 failed to learn: sum(ans)=0.0 sum(y)=57.0 len(y)=120\n",
      "\tVALENCE-s01|Acc=0.525|10-CV=0.53333|STD=0.0|Time spend=0.2350771427154541\n",
      "\tVALENCE-s02|Acc=0.65833|10-CV=0.56333|STD=0.05859|Time spend=0.21022605895996094\n",
      "-----WARNING: Model s03 failed to learn: sum(ans)=120.0 sum(y)=66.0 len(y)=120\n",
      "\tVALENCE-s03|Acc=0.55|10-CV=0.52667|STD=0.01333|Time spend=0.19781756401062012\n",
      "\tVALENCE-s04|Acc=0.63333|10-CV=0.61|STD=0.03|Time spend=0.19664573669433594\n",
      "\tVALENCE-s05|Acc=0.68333|10-CV=0.58333|STD=0.03416|Time spend=0.20174622535705566\n",
      "-----WARNING: Model s06 failed to learn: sum(ans)=120.0 sum(y)=90.0 len(y)=120\n",
      "\tVALENCE-s06|Acc=0.75|10-CV=0.75|STD=0.01667|Time spend=0.25452685356140137\n",
      "-----WARNING: Model s07 failed to learn: sum(ans)=120.0 sum(y)=84.0 len(y)=120\n",
      "\tVALENCE-s07|Acc=0.7|10-CV=0.7|STD=0.0|Time spend=0.22698760032653809\n",
      "\tVALENCE-s08|Acc=0.725|10-CV=0.55333|STD=0.03399|Time spend=0.22760415077209473\n",
      "\tVALENCE-s09|Acc=0.76667|10-CV=0.72667|STD=0.0611|Time spend=0.20804142951965332\n",
      "\tVALENCE-s10|Acc=0.775|10-CV=0.78333|STD=0.05|Time spend=0.3811299800872803\n",
      "\tVALENCE-s11|Acc=0.70833|10-CV=0.65667|STD=0.05175|Time spend=0.21959686279296875\n",
      "\tVALENCE-s12|Acc=0.675|10-CV=0.62667|STD=0.04667|Time spend=0.2298111915588379\n",
      "\tVALENCE-s13|Acc=0.81667|10-CV=0.81333|STD=0.03712|Time spend=0.2472856044769287\n",
      "\tVALENCE-s14|Acc=0.75|10-CV=0.71333|STD=0.04989|Time spend=0.201416015625\n",
      "\tVALENCE-s15|Acc=0.8|10-CV=0.77667|STD=0.0423|Time spend=0.2274785041809082\n",
      "\tVALENCE-s16|Acc=0.725|10-CV=0.70333|STD=0.04069|Time spend=0.218947172164917\n",
      "-----WARNING: Model s17 failed to learn: sum(ans)=120.0 sum(y)=66.0 len(y)=120\n",
      "\tVALENCE-s17|Acc=0.55|10-CV=0.53333|STD=0.0|Time spend=0.1836376190185547\n",
      "\tVALENCE-s18|Acc=0.78333|10-CV=0.74333|STD=0.05588|Time spend=0.19904255867004395\n",
      "\tVALENCE-s19|Acc=0.65833|10-CV=0.65|STD=0.06191|Time spend=0.19221115112304688\n",
      "\tVALENCE-s20|Acc=0.825|10-CV=0.74333|STD=0.07|Time spend=0.20302510261535645\n",
      "\tVALENCE-s21|Acc=0.63333|10-CV=0.64667|STD=0.08844|Time spend=0.19816064834594727\n",
      "\tVALENCE-s22|Acc=0.7|10-CV=0.59333|STD=0.04163|Time spend=0.21132659912109375\n",
      "-----WARNING: Model s23 failed to learn: sum(ans)=120.0 sum(y)=78.0 len(y)=120\n",
      "\tVALENCE-s23|Acc=0.65|10-CV=0.63333|STD=0.0|Time spend=0.252871036529541\n",
      "-----WARNING: Model s24 failed to learn: sum(ans)=0.0 sum(y)=54.0 len(y)=120\n",
      "\tVALENCE-s24|Acc=0.55|10-CV=0.53333|STD=0.0|Time spend=0.21285271644592285\n",
      "\tVALENCE-s25|Acc=0.54167|10-CV=0.48667|STD=0.08589|Time spend=0.1916790008544922\n",
      "-----WARNING: Model s26 failed to learn: sum(ans)=120.0 sum(y)=78.0 len(y)=120\n",
      "\tVALENCE-s26|Acc=0.65|10-CV=0.63333|STD=0.0|Time spend=0.19102931022644043\n",
      "-----WARNING: Model s27 failed to learn: sum(ans)=120.0 sum(y)=90.0 len(y)=120\n",
      "\tVALENCE-s27|Acc=0.75|10-CV=0.75|STD=0.01667|Time spend=0.19890522956848145\n",
      "\tVALENCE-s28|Acc=0.69167|10-CV=0.64|STD=0.02494|Time spend=0.20160579681396484\n",
      "\tVALENCE-s29|Acc=0.70833|10-CV=0.61|STD=0.04955|Time spend=0.21468591690063477\n",
      "-----WARNING: Model s30 failed to learn: sum(ans)=120.0 sum(y)=81.0 len(y)=120\n",
      "\tVALENCE-s30|Acc=0.675|10-CV=0.66667|STD=0.0|Time spend=0.18824315071105957\n",
      "-----WARNING: Model s31 failed to learn: sum(ans)=120.0 sum(y)=69.0 len(y)=120\n",
      "\tVALENCE-s31|Acc=0.575|10-CV=0.57|STD=0.01|Time spend=0.19891977310180664\n",
      "\tVALENCE-s32|Acc=0.69167|10-CV=0.64|STD=0.06289|Time spend=0.2178480625152588\n",
      "VALENCE|Acc=0.6835937499999999|10-CV=0.6466666666666667|STD=0.035439679408617863\n",
      "TOTAL|Acc=0.6839843750000001|10-CV=0.6532812499999999|STD=0.029275408100340156\n"
     ]
    }
   ],
   "source": [
    "bands = [(0,4), (4,8), (8,12), (12,30), (30,64)]\n",
    "# [alias_feature_function]__[optional_param]\n",
    "params = dict({\n",
    "    'pow_freq_bands__log':True,\n",
    "    'pow_freq_bands__normalize':False,\n",
    "    'pow_freq_bands__freq_bands':bands\n",
    "})\n",
    "\n",
    "\n",
    "accs,cv_means,cv_stds  = [],[],[]\n",
    "# count = 0\n",
    "for filename in dataset.get_file_list():\n",
    "    start = time.time()\n",
    "    data, labels, groups = dataset.get_data(filename, stimuli=Dataset_subjectDependent.STIMULI_AROUSAL, return_type='numpy')\n",
    "    fe = FeatureExtractor(sfreq=128, selected_funcs=['pow_freq_bands'],params=params,n_jobs=8)\n",
    "    X = fe.fit_transform(X=data)\n",
    "    _, acc, cross = train_model(X, labels.reshape(-1), groups,filename=filename)\n",
    "    print(f\"\\tAROUSAL-{filename}|Acc={round(acc,5)}|10-CV={round(cross.mean(),5)}|STD={round(cross.std(),5)}|Time spend={time.time() - start}\")\n",
    "    accs.append(acc)\n",
    "    cv_means.append(cross.mean())\n",
    "    cv_stds.append(cross.std())\n",
    "    # count+=1\n",
    "    # if(count == 5): break\n",
    "print(f\"AROUSAL|Acc={sum(accs)/len(accs)}|10-CV={sum(cv_means)/len(cv_means)}|STD={sum(cv_stds)/len(cv_stds)}\")\n",
    "\n",
    "accs_v,cv_means_v,cv_stds_v  = [],[],[]\n",
    "# count=0\n",
    "for filename in dataset.get_file_list():\n",
    "    start = time.time()\n",
    "    data, labels, groups = dataset.get_data(filename, stimuli=Dataset_subjectDependent.STIMULI_VALENCE, return_type='numpy')\n",
    "    fe = FeatureExtractor(sfreq=128, selected_funcs=['pow_freq_bands'],params=params,n_jobs=8)\n",
    "    X = fe.fit_transform(X=data)\n",
    "    _, acc, cross = train_model(X, labels.reshape(-1), groups,filename=filename)\n",
    "    print(f\"\\tVALENCE-{filename}|Acc={round(acc,5)}|10-CV={round(cross.mean(),5)}|STD={round(cross.std(),5)}|Time spend={time.time() - start}\")\n",
    "    accs_v.append(acc)\n",
    "    cv_means_v.append(cross.mean())\n",
    "    cv_stds_v.append(cross.std())\n",
    "    # count+=1\n",
    "    # if(count == 5): break\n",
    "print(f\"VALENCE|Acc={sum(accs_v)/len(accs_v)}|10-CV={sum(cv_means_v)/len(cv_means_v)}|STD={sum(cv_stds_v)/len(cv_stds_v)}\")\n",
    "\n",
    "accs.extend(accs_v)\n",
    "cv_means.extend(cv_means_v)\n",
    "cv_stds.extend(cv_stds_v)\n",
    "print(f\"TOTAL|Acc={sum(accs)/len(accs)}|10-CV={sum(cv_means)/len(cv_means)}|STD={sum(cv_stds)/len(cv_stds)}\")"
   ]
  },
  {
   "cell_type": "markdown",
   "metadata": {},
   "source": [
    "## 3. Asymetry"
   ]
  },
  {
   "cell_type": "code",
   "execution_count": 5,
   "metadata": {},
   "outputs": [
    {
     "name": "stdout",
     "output_type": "stream",
     "text": [
      "left_channel_indexes=[0, 3, 2, 7, 11, 6, 10, 13, 1, 4, 5, 8, 9, 12]\n",
      "right_channel_indexes=[16, 20, 19, 25, 29, 24, 28, 31, 17, 21, 22, 26, 27, 30]\n",
      "frontal_channel_indexes=[4, 5, 22, 21, 3, 2, 18, 19, 20, 0, 16]\n",
      "posterior_channel_indexes=[8, 9, 27, 26, 11, 10, 15, 28, 29, 13, 31]\n"
     ]
    }
   ],
   "source": [
    "channels = ['Fp1','AF3','F3','F7','FC5','FC1','C3','T7','CP5','CP1','P3','P7','PO3','O1','Oz','Pz','Fp2','AF4','Fz','F4','F8','FC6','FC2','Cz','C4','T8','CP6','CP2','P4','P8','PO4','O2']\n",
    "left_channels = ['Fp1','F7','F3','T7','P7','C3','P3','O1','AF3','FC5','FC1','CP5','CP1','PO3']\n",
    "right_channels = ['Fp2','F8','F4','T8','P8','C4','P4','O2','AF4','FC6','FC2','CP6','CP2','PO4']\n",
    "left_channel_indexes = [ channels.index(ch) for ch in left_channels ]\n",
    "right_channel_indexes = [ channels.index(ch) for ch in right_channels ]\n",
    "\n",
    "print(f\"{left_channel_indexes=}\")\n",
    "print(f\"{right_channel_indexes=}\")\n",
    "\n",
    "frontal_channels = ['FC5','FC1','FC2','FC6','F7','F3','Fz','F4','F8','Fp1','Fp2']\n",
    "posterior_channels = ['CP5','CP1','CP2','CP6','P7','P3','Pz','P4','P8','O1','O2']\n",
    "\n",
    "frontal_channel_indexes = [ channels.index(ch) for ch in frontal_channels ]\n",
    "posterior_channel_indexes = [ channels.index(ch) for ch in posterior_channels ]\n",
    "\n",
    "print(f\"{frontal_channel_indexes=}\")\n",
    "print(f\"{posterior_channel_indexes=}\")"
   ]
  },
  {
   "cell_type": "code",
   "execution_count": 6,
   "metadata": {},
   "outputs": [
    {
     "name": "stdout",
     "output_type": "stream",
     "text": [
      "-----WARNING: Model s01 failed to learn: sum(ans)=120.0 sum(y)=72.0 len(y)=120\n",
      "\tAROUSAL-s01-DASM|Acc=0.6|10-CV=0.6|STD=0.0|Time spend=0.1897737979888916\n",
      "\tAROUSAL-s01-RASM|Acc=0.61667|10-CV=0.59667|STD=0.01|Time spend=0.1998305320739746\n",
      "-----WARNING: Model s01 failed to learn: sum(ans)=120.0 sum(y)=72.0 len(y)=120\n",
      "\tAROUSAL-s01-DCAU|Acc=0.6|10-CV=0.6|STD=0.0|Time spend=0.20902085304260254\n",
      "-----WARNING: Model s02 failed to learn: sum(ans)=120.0 sum(y)=72.0 len(y)=120\n",
      "\tAROUSAL-s02-DASM|Acc=0.6|10-CV=0.6|STD=0.0|Time spend=0.17818737030029297\n",
      "\tAROUSAL-s02-RASM|Acc=0.625|10-CV=0.61333|STD=0.02667|Time spend=0.19118285179138184\n",
      "\tAROUSAL-s02-DCAU|Acc=0.61667|10-CV=0.6|STD=0.0|Time spend=0.2016315460205078\n",
      "-----WARNING: Model s03 failed to learn: sum(ans)=0.0 sum(y)=24.0 len(y)=120\n",
      "\tAROUSAL-s03-DASM|Acc=0.8|10-CV=0.8|STD=0.0|Time spend=0.1796116828918457\n",
      "-----WARNING: Model s03 failed to learn: sum(ans)=0.0 sum(y)=24.0 len(y)=120\n",
      "\tAROUSAL-s03-RASM|Acc=0.8|10-CV=0.8|STD=0.0|Time spend=0.19144463539123535\n",
      "-----WARNING: Model s03 failed to learn: sum(ans)=0.0 sum(y)=24.0 len(y)=120\n",
      "\tAROUSAL-s03-DCAU|Acc=0.8|10-CV=0.8|STD=0.0|Time spend=0.20384669303894043\n",
      "\tAROUSAL-s04-DASM|Acc=0.60833|10-CV=0.6|STD=0.01491|Time spend=0.1770620346069336\n",
      "\tAROUSAL-s04-RASM|Acc=0.65833|10-CV=0.62333|STD=0.03667|Time spend=0.18695282936096191\n",
      "\tAROUSAL-s04-DCAU|Acc=0.725|10-CV=0.65667|STD=0.0335|Time spend=0.19799065589904785\n",
      "\tAROUSAL-s05-DASM|Acc=0.55833|10-CV=0.49667|STD=0.05467|Time spend=0.18676304817199707\n",
      "\tAROUSAL-s05-RASM|Acc=0.6|10-CV=0.47667|STD=0.05972|Time spend=0.19696784019470215\n",
      "\tAROUSAL-s05-DCAU|Acc=0.59167|10-CV=0.49667|STD=0.04583|Time spend=0.20881414413452148\n",
      "\tAROUSAL-s06-DASM|Acc=0.63333|10-CV=0.56667|STD=0.02108|Time spend=0.18699383735656738\n",
      "\tAROUSAL-s06-RASM|Acc=0.61667|10-CV=0.56|STD=0.05538|Time spend=0.19752717018127441\n",
      "\tAROUSAL-s06-DCAU|Acc=0.59167|10-CV=0.57333|STD=0.01333|Time spend=0.20961499214172363\n",
      "-----WARNING: Model s07 failed to learn: sum(ans)=120.0 sum(y)=75.0 len(y)=120\n",
      "\tAROUSAL-s07-DASM|Acc=0.625|10-CV=0.63333|STD=0.0|Time spend=0.1856675148010254\n",
      "-----WARNING: Model s07 failed to learn: sum(ans)=120.0 sum(y)=75.0 len(y)=120\n",
      "\tAROUSAL-s07-RASM|Acc=0.625|10-CV=0.63333|STD=0.0|Time spend=0.19620537757873535\n",
      "-----WARNING: Model s07 failed to learn: sum(ans)=120.0 sum(y)=75.0 len(y)=120\n",
      "\tAROUSAL-s07-DCAU|Acc=0.625|10-CV=0.63333|STD=0.0|Time spend=0.20946955680847168\n",
      "-----WARNING: Model s08 failed to learn: sum(ans)=120.0 sum(y)=69.0 len(y)=120\n",
      "\tAROUSAL-s08-DASM|Acc=0.575|10-CV=0.57|STD=0.01|Time spend=0.1782543659210205\n",
      "\tAROUSAL-s08-RASM|Acc=0.6|10-CV=0.56667|STD=0.0|Time spend=0.1891937255859375\n",
      "\tAROUSAL-s08-DCAU|Acc=0.63333|10-CV=0.58667|STD=0.03399|Time spend=0.20118188858032227\n",
      "-----WARNING: Model s09 failed to learn: sum(ans)=120.0 sum(y)=72.0 len(y)=120\n",
      "\tAROUSAL-s09-DASM|Acc=0.6|10-CV=0.6|STD=0.0|Time spend=0.17646431922912598\n",
      "-----WARNING: Model s09 failed to learn: sum(ans)=120.0 sum(y)=72.0 len(y)=120\n",
      "\tAROUSAL-s09-RASM|Acc=0.6|10-CV=0.6|STD=0.0|Time spend=0.18569254875183105\n",
      "-----WARNING: Model s09 failed to learn: sum(ans)=120.0 sum(y)=72.0 len(y)=120\n",
      "\tAROUSAL-s09-DCAU|Acc=0.6|10-CV=0.60333|STD=0.01|Time spend=0.19570660591125488\n",
      "\tAROUSAL-s10-DASM|Acc=0.71667|10-CV=0.68667|STD=0.08459|Time spend=0.17928743362426758\n",
      "\tAROUSAL-s10-RASM|Acc=0.7|10-CV=0.67667|STD=0.07157|Time spend=0.19007587432861328\n",
      "\tAROUSAL-s10-DCAU|Acc=0.74167|10-CV=0.69333|STD=0.08|Time spend=0.20003223419189453\n",
      "-----WARNING: Model s11 failed to learn: sum(ans)=0.0 sum(y)=45.0 len(y)=120\n",
      "\tAROUSAL-s11-DASM|Acc=0.625|10-CV=0.63333|STD=0.0|Time spend=0.19429898262023926\n",
      "-----WARNING: Model s11 failed to learn: sum(ans)=0.0 sum(y)=45.0 len(y)=120\n",
      "\tAROUSAL-s11-RASM|Acc=0.625|10-CV=0.63333|STD=0.0|Time spend=0.20555567741394043\n",
      "\tAROUSAL-s11-DCAU|Acc=0.64167|10-CV=0.64|STD=0.01333|Time spend=0.21640706062316895\n",
      "-----WARNING: Model s12 failed to learn: sum(ans)=120.0 sum(y)=99.0 len(y)=120\n",
      "\tAROUSAL-s12-DASM|Acc=0.825|10-CV=0.83333|STD=0.0|Time spend=0.17475366592407227\n",
      "-----WARNING: Model s12 failed to learn: sum(ans)=120.0 sum(y)=99.0 len(y)=120\n",
      "\tAROUSAL-s12-RASM|Acc=0.825|10-CV=0.83333|STD=0.0|Time spend=0.18709540367126465\n",
      "-----WARNING: Model s12 failed to learn: sum(ans)=120.0 sum(y)=99.0 len(y)=120\n",
      "\tAROUSAL-s12-DCAU|Acc=0.825|10-CV=0.83333|STD=0.0|Time spend=0.19849371910095215\n",
      "-----WARNING: Model s13 failed to learn: sum(ans)=120.0 sum(y)=102.0 len(y)=120\n",
      "\tAROUSAL-s13-DASM|Acc=0.85|10-CV=0.86|STD=0.01333|Time spend=0.201277494430542\n",
      "-----WARNING: Model s13 failed to learn: sum(ans)=120.0 sum(y)=102.0 len(y)=120\n",
      "\tAROUSAL-s13-RASM|Acc=0.85|10-CV=0.86|STD=0.01333|Time spend=0.21332454681396484\n",
      "-----WARNING: Model s13 failed to learn: sum(ans)=120.0 sum(y)=102.0 len(y)=120\n",
      "\tAROUSAL-s13-DCAU|Acc=0.85|10-CV=0.86|STD=0.01333|Time spend=0.22940349578857422\n",
      "-----WARNING: Model s14 failed to learn: sum(ans)=120.0 sum(y)=81.0 len(y)=120\n",
      "\tAROUSAL-s14-DASM|Acc=0.675|10-CV=0.66667|STD=0.0|Time spend=0.2003178596496582\n",
      "\tAROUSAL-s14-RASM|Acc=0.68333|10-CV=0.66333|STD=0.01|Time spend=0.21120786666870117\n",
      "-----WARNING: Model s14 failed to learn: sum(ans)=120.0 sum(y)=81.0 len(y)=120\n",
      "\tAROUSAL-s14-DCAU|Acc=0.675|10-CV=0.66667|STD=0.0|Time spend=0.2216799259185791\n",
      "\tAROUSAL-s15-DASM|Acc=0.68333|10-CV=0.60667|STD=0.07424|Time spend=0.180372953414917\n",
      "\tAROUSAL-s15-RASM|Acc=0.56667|10-CV=0.56667|STD=0.03944|Time spend=0.1935133934020996\n",
      "\tAROUSAL-s15-DCAU|Acc=0.675|10-CV=0.63|STD=0.08226|Time spend=0.20534491539001465\n",
      "\tAROUSAL-s16-DASM|Acc=0.66667|10-CV=0.59667|STD=0.08876|Time spend=0.21871519088745117\n",
      "\tAROUSAL-s16-RASM|Acc=0.51667|10-CV=0.54|STD=0.05121|Time spend=0.2300093173980713\n",
      "\tAROUSAL-s16-DCAU|Acc=0.65833|10-CV=0.61333|STD=0.09684|Time spend=0.2410106658935547\n",
      "\tAROUSAL-s17-DASM|Acc=0.69167|10-CV=0.64333|STD=0.0335|Time spend=0.19939756393432617\n",
      "-----WARNING: Model s17 failed to learn: sum(ans)=120.0 sum(y)=72.0 len(y)=120\n",
      "\tAROUSAL-s17-RASM|Acc=0.6|10-CV=0.59667|STD=0.01|Time spend=0.20993375778198242\n",
      "\tAROUSAL-s17-DCAU|Acc=0.68333|10-CV=0.63667|STD=0.05044|Time spend=0.22018790245056152\n",
      "\tAROUSAL-s18-DASM|Acc=0.63333|10-CV=0.63333|STD=0.0|Time spend=0.18489789962768555\n",
      "\tAROUSAL-s18-RASM|Acc=0.65|10-CV=0.63333|STD=0.0|Time spend=0.19810199737548828\n",
      "\tAROUSAL-s18-DCAU|Acc=0.64167|10-CV=0.63|STD=0.01795|Time spend=0.21096253395080566\n",
      "\tAROUSAL-s19-DASM|Acc=0.68333|10-CV=0.66667|STD=0.0|Time spend=0.21283960342407227\n",
      "\tAROUSAL-s19-RASM|Acc=0.68333|10-CV=0.66667|STD=0.0|Time spend=0.2230546474456787\n",
      "\tAROUSAL-s19-DCAU|Acc=0.69167|10-CV=0.66|STD=0.02494|Time spend=0.23268890380859375\n",
      "-----WARNING: Model s20 failed to learn: sum(ans)=120.0 sum(y)=93.0 len(y)=120\n",
      "\tAROUSAL-s20-DASM|Acc=0.775|10-CV=0.76667|STD=0.0|Time spend=0.19808554649353027\n",
      "\tAROUSAL-s20-RASM|Acc=0.78333|10-CV=0.76667|STD=0.0|Time spend=0.21104860305786133\n",
      "-----WARNING: Model s20 failed to learn: sum(ans)=120.0 sum(y)=93.0 len(y)=120\n",
      "\tAROUSAL-s20-DCAU|Acc=0.775|10-CV=0.76667|STD=0.0|Time spend=0.22246432304382324\n",
      "-----WARNING: Model s21 failed to learn: sum(ans)=120.0 sum(y)=96.0 len(y)=120\n",
      "\tAROUSAL-s21-DASM|Acc=0.8|10-CV=0.8|STD=0.0|Time spend=0.19300222396850586\n",
      "\tAROUSAL-s21-RASM|Acc=0.80833|10-CV=0.8|STD=0.0|Time spend=0.2037816047668457\n",
      "-----WARNING: Model s21 failed to learn: sum(ans)=120.0 sum(y)=96.0 len(y)=120\n",
      "\tAROUSAL-s21-DCAU|Acc=0.8|10-CV=0.8|STD=0.0|Time spend=0.2136681079864502\n",
      "\tAROUSAL-s22-DASM|Acc=0.66667|10-CV=0.64333|STD=0.04726|Time spend=0.18761491775512695\n",
      "\tAROUSAL-s22-RASM|Acc=0.70833|10-CV=0.62333|STD=0.05175|Time spend=0.20004868507385254\n",
      "\tAROUSAL-s22-DCAU|Acc=0.66667|10-CV=0.61667|STD=0.06708|Time spend=0.2107102870941162\n",
      "-----WARNING: Model s23 failed to learn: sum(ans)=0.0 sum(y)=30.0 len(y)=120\n",
      "\tAROUSAL-s23-DASM|Acc=0.75|10-CV=0.75333|STD=0.01633|Time spend=0.2051074504852295\n",
      "\tAROUSAL-s23-RASM|Acc=0.75833|10-CV=0.75333|STD=0.01633|Time spend=0.21560144424438477\n",
      "-----WARNING: Model s23 failed to learn: sum(ans)=0.0 sum(y)=30.0 len(y)=120\n",
      "\tAROUSAL-s23-DCAU|Acc=0.75|10-CV=0.75333|STD=0.01633|Time spend=0.22690033912658691\n",
      "-----WARNING: Model s24 failed to learn: sum(ans)=120.0 sum(y)=99.0 len(y)=120\n",
      "\tAROUSAL-s24-DASM|Acc=0.825|10-CV=0.83333|STD=0.0|Time spend=0.1814267635345459\n",
      "-----WARNING: Model s24 failed to learn: sum(ans)=120.0 sum(y)=99.0 len(y)=120\n",
      "\tAROUSAL-s24-RASM|Acc=0.825|10-CV=0.83333|STD=0.0|Time spend=0.19550323486328125\n",
      "-----WARNING: Model s24 failed to learn: sum(ans)=120.0 sum(y)=99.0 len(y)=120\n",
      "\tAROUSAL-s24-DCAU|Acc=0.825|10-CV=0.83333|STD=0.0|Time spend=0.20628714561462402\n",
      "-----WARNING: Model s25 failed to learn: sum(ans)=120.0 sum(y)=87.0 len(y)=120\n",
      "\tAROUSAL-s25-DASM|Acc=0.725|10-CV=0.73333|STD=0.0|Time spend=0.2582826614379883\n",
      "-----WARNING: Model s25 failed to learn: sum(ans)=120.0 sum(y)=87.0 len(y)=120\n",
      "\tAROUSAL-s25-RASM|Acc=0.725|10-CV=0.73333|STD=0.0|Time spend=0.2728557586669922\n",
      "-----WARNING: Model s25 failed to learn: sum(ans)=120.0 sum(y)=87.0 len(y)=120\n",
      "\tAROUSAL-s25-DCAU|Acc=0.725|10-CV=0.73333|STD=0.0|Time spend=0.2844860553741455\n",
      "\tAROUSAL-s26-DASM|Acc=0.68333|10-CV=0.61|STD=0.06155|Time spend=0.22668886184692383\n",
      "-----WARNING: Model s26 failed to learn: sum(ans)=0.0 sum(y)=51.0 len(y)=120\n",
      "\tAROUSAL-s26-RASM|Acc=0.575|10-CV=0.56667|STD=0.03333|Time spend=0.23819780349731445\n",
      "\tAROUSAL-s26-DCAU|Acc=0.64167|10-CV=0.56|STD=0.02906|Time spend=0.2474651336669922\n",
      "\tAROUSAL-s27-DASM|Acc=0.71667|10-CV=0.67667|STD=0.02134|Time spend=0.17476391792297363\n",
      "\tAROUSAL-s27-RASM|Acc=0.68333|10-CV=0.67333|STD=0.02494|Time spend=0.18651485443115234\n",
      "\tAROUSAL-s27-DCAU|Acc=0.725|10-CV=0.67|STD=0.01|Time spend=0.19710898399353027\n",
      "-----WARNING: Model s28 failed to learn: sum(ans)=0.0 sum(y)=54.0 len(y)=120\n",
      "\tAROUSAL-s28-DASM|Acc=0.55|10-CV=0.53333|STD=0.0|Time spend=0.20043349266052246\n",
      "\tAROUSAL-s28-RASM|Acc=0.54167|10-CV=0.52|STD=0.02667|Time spend=0.21306991577148438\n",
      "-----WARNING: Model s28 failed to learn: sum(ans)=0.0 sum(y)=54.0 len(y)=120\n",
      "\tAROUSAL-s28-DCAU|Acc=0.55|10-CV=0.53333|STD=0.0|Time spend=0.22570538520812988\n",
      "-----WARNING: Model s29 failed to learn: sum(ans)=120.0 sum(y)=75.0 len(y)=120\n",
      "\tAROUSAL-s29-DASM|Acc=0.625|10-CV=0.62333|STD=0.02603|Time spend=0.1738278865814209\n",
      "-----WARNING: Model s29 failed to learn: sum(ans)=120.0 sum(y)=75.0 len(y)=120\n",
      "\tAROUSAL-s29-RASM|Acc=0.625|10-CV=0.63333|STD=0.0|Time spend=0.18735957145690918\n",
      "\tAROUSAL-s29-DCAU|Acc=0.63333|10-CV=0.62333|STD=0.01528|Time spend=0.19926929473876953\n",
      "\tAROUSAL-s30-DASM|Acc=0.66667|10-CV=0.56|STD=0.06633|Time spend=0.2055351734161377\n",
      "\tAROUSAL-s30-RASM|Acc=0.58333|10-CV=0.55667|STD=0.05385|Time spend=0.220289945602417\n",
      "\tAROUSAL-s30-DCAU|Acc=0.64167|10-CV=0.55|STD=0.06708|Time spend=0.23180413246154785\n",
      "\tAROUSAL-s31-DASM|Acc=0.68333|10-CV=0.71333|STD=0.06864|Time spend=0.18593335151672363\n",
      "\tAROUSAL-s31-RASM|Acc=0.59167|10-CV=0.55667|STD=0.03|Time spend=0.19815325736999512\n",
      "\tAROUSAL-s31-DCAU|Acc=0.675|10-CV=0.67333|STD=0.04667|Time spend=0.21071171760559082\n",
      "-----WARNING: Model s32 failed to learn: sum(ans)=120.0 sum(y)=81.0 len(y)=120\n",
      "\tAROUSAL-s32-DASM|Acc=0.675|10-CV=0.66667|STD=0.0|Time spend=0.17187881469726562\n",
      "\tAROUSAL-s32-RASM|Acc=0.68333|10-CV=0.66667|STD=0.0|Time spend=0.1850595474243164\n",
      "-----WARNING: Model s32 failed to learn: sum(ans)=120.0 sum(y)=81.0 len(y)=120\n",
      "\tAROUSAL-s32-DCAU|Acc=0.675|10-CV=0.65333|STD=0.02211|Time spend=0.19604206085205078\n",
      "AROUSAL-DASM|Acc=0.6809895833333335|10-CV=0.6627083333333333|STD=0.02195521327305329\n",
      "AROUSAL-RASM|Acc=0.6666666666666667|10-CV=0.6507291666666665|STD=0.01940177558180244\n",
      "AROUSAL-DCAU|Acc=0.6859375000000002|10-CV=0.6618750000000001|STD=0.024667530933204444\n",
      "-----WARNING: Model s01 failed to learn: sum(ans)=0.0 sum(y)=57.0 len(y)=120\n",
      "\tVALENCE-s01-DASM|Acc=0.525|10-CV=0.53333|STD=0.0|Time spend=0.19271445274353027\n",
      "\tVALENCE-s01-RASM|Acc=0.53333|10-CV=0.53|STD=0.01|Time spend=0.20417046546936035\n",
      "-----WARNING: Model s01 failed to learn: sum(ans)=0.0 sum(y)=57.0 len(y)=120\n",
      "\tVALENCE-s01-DCAU|Acc=0.525|10-CV=0.53333|STD=0.0|Time spend=0.2165849208831787\n",
      "\tVALENCE-s02-DASM|Acc=0.71667|10-CV=0.65333|STD=0.04|Time spend=0.17220830917358398\n",
      "\tVALENCE-s02-RASM|Acc=0.70833|10-CV=0.59|STD=0.10333|Time spend=0.18568634986877441\n",
      "\tVALENCE-s02-DCAU|Acc=0.725|10-CV=0.69333|STD=0.05735|Time spend=0.19965696334838867\n",
      "-----WARNING: Model s03 failed to learn: sum(ans)=120.0 sum(y)=66.0 len(y)=120\n",
      "\tVALENCE-s03-DASM|Acc=0.55|10-CV=0.53333|STD=0.0|Time spend=0.19861888885498047\n",
      "-----WARNING: Model s03 failed to learn: sum(ans)=120.0 sum(y)=66.0 len(y)=120\n",
      "\tVALENCE-s03-RASM|Acc=0.55|10-CV=0.51|STD=0.03958|Time spend=0.21236324310302734\n",
      "-----WARNING: Model s03 failed to learn: sum(ans)=120.0 sum(y)=66.0 len(y)=120\n",
      "\tVALENCE-s03-DCAU|Acc=0.55|10-CV=0.53333|STD=0.0|Time spend=0.2255997657775879\n",
      "\tVALENCE-s04-DASM|Acc=0.7|10-CV=0.63333|STD=0.05375|Time spend=0.18892216682434082\n",
      "\tVALENCE-s04-RASM|Acc=0.70833|10-CV=0.66333|STD=0.05044|Time spend=0.2009599208831787\n",
      "\tVALENCE-s04-DCAU|Acc=0.725|10-CV=0.70667|STD=0.04163|Time spend=0.21160602569580078\n",
      "\tVALENCE-s05-DASM|Acc=0.60833|10-CV=0.58667|STD=0.04|Time spend=0.17538857460021973\n",
      "\tVALENCE-s05-RASM|Acc=0.65833|10-CV=0.6|STD=0.02981|Time spend=0.18812847137451172\n",
      "\tVALENCE-s05-DCAU|Acc=0.64167|10-CV=0.59333|STD=0.07118|Time spend=0.1995546817779541\n",
      "-----WARNING: Model s06 failed to learn: sum(ans)=120.0 sum(y)=90.0 len(y)=120\n",
      "\tVALENCE-s06-DASM|Acc=0.75|10-CV=0.75|STD=0.01667|Time spend=0.18464374542236328\n",
      "-----WARNING: Model s06 failed to learn: sum(ans)=120.0 sum(y)=90.0 len(y)=120\n",
      "\tVALENCE-s06-RASM|Acc=0.75|10-CV=0.75|STD=0.01667|Time spend=0.19786381721496582\n",
      "-----WARNING: Model s06 failed to learn: sum(ans)=120.0 sum(y)=90.0 len(y)=120\n",
      "\tVALENCE-s06-DCAU|Acc=0.75|10-CV=0.75|STD=0.01667|Time spend=0.21251988410949707\n",
      "-----WARNING: Model s07 failed to learn: sum(ans)=120.0 sum(y)=84.0 len(y)=120\n",
      "\tVALENCE-s07-DASM|Acc=0.7|10-CV=0.7|STD=0.0|Time spend=0.18007588386535645\n",
      "-----WARNING: Model s07 failed to learn: sum(ans)=120.0 sum(y)=84.0 len(y)=120\n",
      "\tVALENCE-s07-RASM|Acc=0.7|10-CV=0.7|STD=0.0|Time spend=0.18981146812438965\n",
      "-----WARNING: Model s07 failed to learn: sum(ans)=120.0 sum(y)=84.0 len(y)=120\n",
      "\tVALENCE-s07-DCAU|Acc=0.7|10-CV=0.7|STD=0.0|Time spend=0.20081400871276855\n",
      "\tVALENCE-s08-DASM|Acc=0.71667|10-CV=0.57|STD=0.07219|Time spend=0.17122650146484375\n",
      "\tVALENCE-s08-RASM|Acc=0.55833|10-CV=0.53|STD=0.01|Time spend=0.18211936950683594\n",
      "\tVALENCE-s08-DCAU|Acc=0.725|10-CV=0.57|STD=0.05667|Time spend=0.1938791275024414\n",
      "\tVALENCE-s09-DASM|Acc=0.71667|10-CV=0.70333|STD=0.09481|Time spend=0.17572450637817383\n",
      "\tVALENCE-s09-RASM|Acc=0.73333|10-CV=0.68333|STD=0.07638|Time spend=0.18596196174621582\n",
      "\tVALENCE-s09-DCAU|Acc=0.74167|10-CV=0.71333|STD=0.07024|Time spend=0.19547796249389648\n",
      "\tVALENCE-s10-DASM|Acc=0.73333|10-CV=0.68667|STD=0.09214|Time spend=0.1840219497680664\n",
      "\tVALENCE-s10-RASM|Acc=0.775|10-CV=0.78|STD=0.07024|Time spend=0.19447040557861328\n",
      "\tVALENCE-s10-DCAU|Acc=0.8|10-CV=0.75333|STD=0.0718|Time spend=0.20376825332641602\n",
      "\tVALENCE-s11-DASM|Acc=0.70833|10-CV=0.70333|STD=0.05667|Time spend=0.2184295654296875\n",
      "\tVALENCE-s11-RASM|Acc=0.71667|10-CV=0.69333|STD=0.05121|Time spend=0.23865199089050293\n",
      "\tVALENCE-s11-DCAU|Acc=0.70833|10-CV=0.70333|STD=0.04583|Time spend=0.25507116317749023\n",
      "\tVALENCE-s12-DASM|Acc=0.70833|10-CV=0.65333|STD=0.07775|Time spend=0.2339153289794922\n",
      "\tVALENCE-s12-RASM|Acc=0.58333|10-CV=0.56333|STD=0.0526|Time spend=0.24530649185180664\n",
      "\tVALENCE-s12-DCAU|Acc=0.64167|10-CV=0.56333|STD=0.07371|Time spend=0.2565014362335205\n",
      "\tVALENCE-s13-DASM|Acc=0.775|10-CV=0.74|STD=0.04163|Time spend=0.20490717887878418\n",
      "\tVALENCE-s13-RASM|Acc=0.70833|10-CV=0.64|STD=0.05121|Time spend=0.21591448783874512\n",
      "\tVALENCE-s13-DCAU|Acc=0.79167|10-CV=0.80333|STD=0.03786|Time spend=0.22637152671813965\n",
      "\tVALENCE-s14-DASM|Acc=0.725|10-CV=0.64|STD=0.06464|Time spend=0.18640351295471191\n",
      "\tVALENCE-s14-RASM|Acc=0.66667|10-CV=0.53333|STD=0.07746|Time spend=0.19667983055114746\n",
      "\tVALENCE-s14-DCAU|Acc=0.70833|10-CV=0.63667|STD=0.0752|Time spend=0.20624732971191406\n",
      "\tVALENCE-s15-DASM|Acc=0.80833|10-CV=0.75667|STD=0.05972|Time spend=0.17676949501037598\n",
      "\tVALENCE-s15-RASM|Acc=0.525|10-CV=0.46667|STD=0.05578|Time spend=0.18952655792236328\n",
      "\tVALENCE-s15-DCAU|Acc=0.78333|10-CV=0.76|STD=0.0786|Time spend=0.2014155387878418\n",
      "\tVALENCE-s16-DASM|Acc=0.73333|10-CV=0.71333|STD=0.04989|Time spend=0.17678070068359375\n",
      "\tVALENCE-s16-RASM|Acc=0.63333|10-CV=0.63333|STD=0.0|Time spend=0.18839335441589355\n",
      "\tVALENCE-s16-DCAU|Acc=0.75|10-CV=0.7|STD=0.04472|Time spend=0.1991710662841797\n",
      "-----WARNING: Model s17 failed to learn: sum(ans)=120.0 sum(y)=66.0 len(y)=120\n",
      "\tVALENCE-s17-DASM|Acc=0.55|10-CV=0.53333|STD=0.0|Time spend=0.1735084056854248\n",
      "\tVALENCE-s17-RASM|Acc=0.59167|10-CV=0.54|STD=0.01333|Time spend=0.1845560073852539\n",
      "-----WARNING: Model s17 failed to learn: sum(ans)=120.0 sum(y)=66.0 len(y)=120\n",
      "\tVALENCE-s17-DCAU|Acc=0.55|10-CV=0.53333|STD=0.0|Time spend=0.19472575187683105\n",
      "\tVALENCE-s18-DASM|Acc=0.83333|10-CV=0.76|STD=0.03266|Time spend=0.20131659507751465\n",
      "\tVALENCE-s18-RASM|Acc=0.625|10-CV=0.6|STD=0.01491|Time spend=0.21719789505004883\n",
      "\tVALENCE-s18-DCAU|Acc=0.8|10-CV=0.8|STD=0.06146|Time spend=0.23235869407653809\n",
      "\tVALENCE-s19-DASM|Acc=0.60833|10-CV=0.56667|STD=0.0|Time spend=0.2391948699951172\n",
      "\tVALENCE-s19-RASM|Acc=0.58333|10-CV=0.56667|STD=0.0|Time spend=0.25266289710998535\n",
      "\tVALENCE-s19-DCAU|Acc=0.61667|10-CV=0.55667|STD=0.0335|Time spend=0.2667083740234375\n",
      "\tVALENCE-s20-DASM|Acc=0.74167|10-CV=0.7|STD=0.06325|Time spend=0.2556273937225342\n",
      "\tVALENCE-s20-RASM|Acc=0.65|10-CV=0.57|STD=0.02769|Time spend=0.2681400775909424\n",
      "\tVALENCE-s20-DCAU|Acc=0.80833|10-CV=0.67333|STD=0.09286|Time spend=0.28084826469421387\n",
      "\tVALENCE-s21-DASM|Acc=0.64167|10-CV=0.59667|STD=0.08492|Time spend=0.2322249412536621\n",
      "\tVALENCE-s21-RASM|Acc=0.63333|10-CV=0.55667|STD=0.07608|Time spend=0.2429654598236084\n",
      "\tVALENCE-s21-DCAU|Acc=0.6|10-CV=0.61667|STD=0.06872|Time spend=0.25332021713256836\n",
      "\tVALENCE-s22-DASM|Acc=0.61667|10-CV=0.6|STD=0.05963|Time spend=0.24654245376586914\n",
      "\tVALENCE-s22-RASM|Acc=0.625|10-CV=0.59333|STD=0.05121|Time spend=0.25725746154785156\n",
      "\tVALENCE-s22-DCAU|Acc=0.625|10-CV=0.60333|STD=0.05467|Time spend=0.2677319049835205\n",
      "-----WARNING: Model s23 failed to learn: sum(ans)=120.0 sum(y)=78.0 len(y)=120\n",
      "\tVALENCE-s23-DASM|Acc=0.65|10-CV=0.63333|STD=0.0|Time spend=0.20406889915466309\n",
      "\tVALENCE-s23-RASM|Acc=0.65833|10-CV=0.63333|STD=0.0|Time spend=0.21575284004211426\n",
      "-----WARNING: Model s23 failed to learn: sum(ans)=120.0 sum(y)=78.0 len(y)=120\n",
      "\tVALENCE-s23-DCAU|Acc=0.65|10-CV=0.63333|STD=0.0|Time spend=0.22649693489074707\n",
      "-----WARNING: Model s24 failed to learn: sum(ans)=0.0 sum(y)=54.0 len(y)=120\n",
      "\tVALENCE-s24-DASM|Acc=0.55|10-CV=0.53333|STD=0.0|Time spend=0.18143677711486816\n",
      "\tVALENCE-s24-RASM|Acc=0.64167|10-CV=0.55|STD=0.02236|Time spend=0.19282937049865723\n",
      "\tVALENCE-s24-DCAU|Acc=0.58333|10-CV=0.54|STD=0.01333|Time spend=0.20334625244140625\n",
      "-----WARNING: Model s25 failed to learn: sum(ans)=0.0 sum(y)=57.0 len(y)=120\n",
      "\tVALENCE-s25-DASM|Acc=0.525|10-CV=0.5|STD=0.06831|Time spend=0.21900248527526855\n",
      "-----WARNING: Model s25 failed to learn: sum(ans)=0.0 sum(y)=57.0 len(y)=120\n",
      "\tVALENCE-s25-RASM|Acc=0.525|10-CV=0.49|STD=0.05783|Time spend=0.23062753677368164\n",
      "\tVALENCE-s25-DCAU|Acc=0.53333|10-CV=0.50333|STD=0.05859|Time spend=0.24416589736938477\n",
      "\tVALENCE-s26-DASM|Acc=0.675|10-CV=0.62667|STD=0.02|Time spend=0.18579339981079102\n",
      "\tVALENCE-s26-RASM|Acc=0.65833|10-CV=0.64333|STD=0.03|Time spend=0.19650626182556152\n",
      "\tVALENCE-s26-DCAU|Acc=0.68333|10-CV=0.62333|STD=0.03|Time spend=0.20663046836853027\n",
      "-----WARNING: Model s27 failed to learn: sum(ans)=120.0 sum(y)=90.0 len(y)=120\n",
      "\tVALENCE-s27-DASM|Acc=0.75|10-CV=0.75|STD=0.01667|Time spend=0.18106818199157715\n",
      "\tVALENCE-s27-RASM|Acc=0.76667|10-CV=0.75|STD=0.01667|Time spend=0.19167423248291016\n",
      "-----WARNING: Model s27 failed to learn: sum(ans)=120.0 sum(y)=90.0 len(y)=120\n",
      "\tVALENCE-s27-DCAU|Acc=0.75|10-CV=0.75|STD=0.01667|Time spend=0.20296168327331543\n",
      "-----WARNING: Model s28 failed to learn: sum(ans)=120.0 sum(y)=75.0 len(y)=120\n",
      "\tVALENCE-s28-DASM|Acc=0.625|10-CV=0.63333|STD=0.0|Time spend=0.21001744270324707\n",
      "\tVALENCE-s28-RASM|Acc=0.675|10-CV=0.64667|STD=0.02211|Time spend=0.2227342128753662\n",
      "-----WARNING: Model s28 failed to learn: sum(ans)=120.0 sum(y)=75.0 len(y)=120\n",
      "\tVALENCE-s28-DCAU|Acc=0.625|10-CV=0.63333|STD=0.0|Time spend=0.2349867820739746\n",
      "\tVALENCE-s29-DASM|Acc=0.70833|10-CV=0.60333|STD=0.06403|Time spend=0.19933605194091797\n",
      "\tVALENCE-s29-RASM|Acc=0.58333|10-CV=0.57|STD=0.01|Time spend=0.21193981170654297\n",
      "\tVALENCE-s29-DCAU|Acc=0.73333|10-CV=0.60667|STD=0.0359|Time spend=0.22205281257629395\n",
      "-----WARNING: Model s30 failed to learn: sum(ans)=120.0 sum(y)=81.0 len(y)=120\n",
      "\tVALENCE-s30-DASM|Acc=0.675|10-CV=0.66667|STD=0.0|Time spend=0.20385456085205078\n",
      "-----WARNING: Model s30 failed to learn: sum(ans)=120.0 sum(y)=81.0 len(y)=120\n",
      "\tVALENCE-s30-RASM|Acc=0.675|10-CV=0.66667|STD=0.0|Time spend=0.21812868118286133\n",
      "-----WARNING: Model s30 failed to learn: sum(ans)=120.0 sum(y)=81.0 len(y)=120\n",
      "\tVALENCE-s30-DCAU|Acc=0.675|10-CV=0.66667|STD=0.0|Time spend=0.23009586334228516\n",
      "-----WARNING: Model s31 failed to learn: sum(ans)=120.0 sum(y)=69.0 len(y)=120\n",
      "\tVALENCE-s31-DASM|Acc=0.575|10-CV=0.56667|STD=0.0|Time spend=0.2027428150177002\n",
      "\tVALENCE-s31-RASM|Acc=0.61667|10-CV=0.6|STD=0.02582|Time spend=0.215667724609375\n",
      "-----WARNING: Model s31 failed to learn: sum(ans)=120.0 sum(y)=69.0 len(y)=120\n",
      "\tVALENCE-s31-DCAU|Acc=0.575|10-CV=0.56667|STD=0.01491|Time spend=0.2281050682067871\n",
      "\tVALENCE-s32-DASM|Acc=0.65833|10-CV=0.61667|STD=0.05821|Time spend=0.21953797340393066\n",
      "\tVALENCE-s32-RASM|Acc=0.58333|10-CV=0.54|STD=0.03887|Time spend=0.23166489601135254\n",
      "\tVALENCE-s32-DCAU|Acc=0.74167|10-CV=0.66|STD=0.05333|Time spend=0.2435603141784668\n",
      "VALENCE-DASM|Acc=0.6736979166666667|10-CV=0.6388541666666665|STD=0.03835991610123804\n",
      "VALENCE-RASM|Acc=0.64375|10-CV=0.6057291666666668|STD=0.0344245952779477\n",
      "VALENCE-DCAU|Acc=0.6817708333333334|10-CV=0.64625|STD=0.03985626004939028\n",
      "TOTAL-DASM|Acc=0.6773437499999998|10-CV=0.65078125|STD=0.030157564687145665\n",
      "TOTAL-RASM|Acc=0.6552083333333332|10-CV=0.6282291666666666|STD=0.026913185429875076\n",
      "TOTAL-DCAU|Acc=0.6838541666666667|10-CV=0.6540625|STD=0.03226189549129736\n"
     ]
    }
   ],
   "source": [
    "bands = [(0,4), (4,8), (8,12), (12,30), (30,64)]\n",
    "# [alias_feature_function]__[optional_param]\n",
    "params = dict({\n",
    "    'pow_freq_bands__log':True,\n",
    "    'pow_freq_bands__normalize':False,\n",
    "    'pow_freq_bands__freq_bands':bands\n",
    "})\n",
    "\n",
    "accs,cv_means,cv_stds  = {'DASM':[],'RASM':[],'DCAU':[]},{'DASM':[],'RASM':[],'DCAU':[]},{'DASM':[],'RASM':[],'DCAU':[]}\n",
    "# count = 0\n",
    "for filename in dataset.get_file_list():\n",
    "    start = time.time()\n",
    "    data, labels, groups = dataset.get_data(filename, stimuli=Dataset_subjectDependent.STIMULI_AROUSAL, return_type='numpy')\n",
    "    fe = FeatureExtractor(sfreq=128, selected_funcs=['pow_freq_bands'],params=params,n_jobs=8)\n",
    "    X = fe.fit_transform(X=data)\n",
    "\n",
    "    PSD_left = X[:, left_channel_indexes].copy()\n",
    "    PSD_right = X[:, right_channel_indexes].copy()\n",
    "    PSD_frontal = X[:, frontal_channel_indexes].copy()\n",
    "    PSD_posterior = X[:, posterior_channel_indexes].copy()\n",
    "    X = {\n",
    "        'DASM': PSD_left - PSD_right,\n",
    "        'RASM': PSD_left / PSD_right,\n",
    "        'DCAU': PSD_frontal - PSD_posterior,\n",
    "    }\n",
    "\n",
    "    for feature_name in ['DASM','RASM','DCAU']:\n",
    "        _, acc, cross = train_model(X[feature_name], labels.reshape(-1), groups, filename=filename)\n",
    "        print(f\"\\tAROUSAL-{filename}-{feature_name}|Acc={round(acc,5)}|10-CV={round(cross.mean(),5)}|STD={round(cross.std(),5)}|Time spend={time.time() - start}\")\n",
    "        accs[feature_name].append(acc)\n",
    "        cv_means[feature_name].append(cross.mean())\n",
    "        cv_stds[feature_name].append(cross.std())\n",
    "    # count+=1\n",
    "    # if(count == 3): break\n",
    "for feature_name in ['DASM','RASM','DCAU']:\n",
    "    print(f\"AROUSAL-{feature_name}|Acc={sum(accs[feature_name])/len(accs[feature_name])}|10-CV={sum(cv_means[feature_name])/len(cv_means[feature_name])}|STD={sum(cv_stds[feature_name])/len(cv_stds[feature_name])}\")\n",
    "\n",
    "accs_v,cv_means_v,cv_stds_v  = {'DASM':[],'RASM':[],'DCAU':[]},{'DASM':[],'RASM':[],'DCAU':[]},{'DASM':[],'RASM':[],'DCAU':[]}\n",
    "# count=0\n",
    "for filename in dataset.get_file_list():\n",
    "    start = time.time()\n",
    "    data, labels, groups = dataset.get_data(filename, stimuli=Dataset_subjectDependent.STIMULI_VALENCE, return_type='numpy')\n",
    "    fe = FeatureExtractor(sfreq=128, selected_funcs=['pow_freq_bands'],params=params,n_jobs=8)\n",
    "    X = fe.fit_transform(X=data)\n",
    "\n",
    "    PSD_left = X[:, left_channel_indexes].copy()\n",
    "    PSD_right = X[:, right_channel_indexes].copy()\n",
    "    PSD_frontal = X[:, frontal_channel_indexes].copy()\n",
    "    PSD_posterior = X[:, posterior_channel_indexes].copy()\n",
    "    X = {\n",
    "        'DASM': PSD_left - PSD_right,\n",
    "        'RASM': PSD_left / PSD_right,\n",
    "        'DCAU': PSD_frontal - PSD_posterior,\n",
    "    }\n",
    "\n",
    "    for feature_name in ['DASM','RASM','DCAU']:\n",
    "        _, acc, cross = train_model(X[feature_name], labels.reshape(-1), groups, filename=filename)\n",
    "        print(f\"\\tVALENCE-{filename}-{feature_name}|Acc={round(acc,5)}|10-CV={round(cross.mean(),5)}|STD={round(cross.std(),5)}|Time spend={time.time() - start}\")\n",
    "        accs_v[feature_name].append(acc)\n",
    "        cv_means_v[feature_name].append(cross.mean())\n",
    "        cv_stds_v[feature_name].append(cross.std())\n",
    "    # count+=1\n",
    "    # if(count == 3): break\n",
    "for feature_name in ['DASM','RASM','DCAU']:\n",
    "    print(f\"VALENCE-{feature_name}|Acc={sum(accs_v[feature_name])/len(accs_v[feature_name])}|10-CV={sum(cv_means_v[feature_name])/len(cv_means_v[feature_name])}|STD={sum(cv_stds_v[feature_name])/len(cv_stds_v[feature_name])}\")\n",
    "\n",
    "for feature_name in ['DASM','RASM','DCAU']:\n",
    "    accs[feature_name].extend(accs_v[feature_name])\n",
    "    cv_means[feature_name].extend(cv_means_v[feature_name])\n",
    "    cv_stds[feature_name].extend(cv_stds_v[feature_name])\n",
    "    print(f\"TOTAL-{feature_name}|Acc={sum(accs[feature_name])/len(accs[feature_name])}|10-CV={sum(cv_means[feature_name])/len(cv_means[feature_name])}|STD={sum(cv_stds[feature_name])/len(cv_stds[feature_name])}\")"
   ]
  },
  {
   "cell_type": "markdown",
   "metadata": {},
   "source": [
    "## 4. Connectivity\n",
    "\n",
    "### 4.1 $ \\text{PCC}_{\\text{time}}(i,j) = \\frac{\\text{Cov}[\\mathbf{X}_i, \\mathbf{X}_j]}{\\sigma_{\\mathbf{X}_i} \\sigma_{\\mathbf{X}_j}} $"
   ]
  },
  {
   "cell_type": "code",
   "execution_count": 7,
   "metadata": {},
   "outputs": [],
   "source": [
    "\n",
    "def pearson_correlation(x,y):\n",
    "    \"\"\" x,y denoted the signal_x and signal_y following the equation \"\"\"\n",
    "    cov = np.cov(x, y)\n",
    "    # print(cov)\n",
    "    # [[ 8806859.74527069  8007149.0906219 ] ==> [[cov_xx, cov_xy]\n",
    "    # [ 8007149.0906219  10396797.72458848]]      [cov_yx, cov_yy]]\n",
    "    cov_xy = cov[0,1] # or cov[1,0]\n",
    "    cov_xx = cov[0,0]\n",
    "    cov_yy = cov[1,1]\n",
    "    corr = cov_xy / ( cov_xx**0.5 * cov_yy**0.5  )\n",
    "    return corr\n",
    "\n",
    "def _cal(p_id, partial_data):\n",
    "    # print(f\"p_id:{p_id} - data to run {partial_data.shape}\")\n",
    "    from itertools import combinations\n",
    "    pcc = []\n",
    "    for index in range(partial_data.shape[0]):\n",
    "        pcc_epoch = []\n",
    "        for comb in combinations(list(range(partial_data.shape[1])), 2):\n",
    "            pcc_ab = pearson_correlation(partial_data[index, comb[0], :], partial_data[index, comb[1], :]   )\n",
    "            pcc_epoch.append(pcc_ab)\n",
    "        pcc_epoch = np.hstack(pcc_epoch)\n",
    "        pcc.append(pcc_epoch)\n",
    "    pcc = np.vstack(pcc)\n",
    "    return pcc\n",
    "\n",
    "def calculate_pcc(data, n_jobs=8):\n",
    "    \"\"\" \n",
    "    Input: Expect data to have (n_epochs, n_channels, n_samples)\n",
    "    Output: (n_epochs, n_conn ) => n_conn = n_channels!/(2!(n_channels-2)!)\n",
    "    \"\"\"\n",
    "    from multiprocessing import Pool\n",
    "\n",
    "    try:\n",
    "        t_out = 60000\n",
    "        pool = Pool()\n",
    "        p_list = []\n",
    "        ans_list = []\n",
    "        num_p = n_jobs\n",
    "        indices = np.array_split(np.arange(data.shape[0]), num_p)\n",
    "        for p_id in range(num_p):\n",
    "            p_list.append(pool.apply_async(_cal, [p_id, data[indices[p_id]] ]))\n",
    "        for p_id in range(num_p):\n",
    "            ans_list.append( p_list[p_id].get(timeout=t_out) )\n",
    "        # ans_list\n",
    "    except Exception as e:\n",
    "        print(e)\n",
    "    finally:\n",
    "        print(\"========= close ========\")\n",
    "        pool.close() \n",
    "        pool.terminate()\n",
    "    return np.vstack(ans_list)"
   ]
  },
  {
   "cell_type": "code",
   "execution_count": 8,
   "metadata": {},
   "outputs": [
    {
     "data": {
      "application/vnd.jupyter.widget-view+json": {
       "model_id": "72ea40d8e76a4da18ea483186aed7852",
       "version_major": 2,
       "version_minor": 0
      },
      "text/plain": [
       "  0%|          | 0/32 [00:00<?, ?it/s]"
      ]
     },
     "metadata": {},
     "output_type": "display_data"
    },
    {
     "name": "stdout",
     "output_type": "stream",
     "text": [
      "Fitted sphere radius:         95.3 mm\n",
      "Origin head coordinates:      -0.8 15.1 45.3 mm\n",
      "Origin device coordinates:    -0.8 15.1 45.3 mm\n",
      "========= close ========\n",
      "\tAROUSAL-s01|Acc=0.6|10-CV=0.60667|STD=0.02|Time spend=1.3755977153778076\n",
      "\tVALENCE-s01|Acc=0.6|10-CV=0.57|STD=0.04333|Time spend=1.4403202533721924\n",
      "Fitted sphere radius:         95.3 mm\n",
      "Origin head coordinates:      -0.8 15.1 45.3 mm\n",
      "Origin device coordinates:    -0.8 15.1 45.3 mm\n",
      "========= close ========\n",
      "\tAROUSAL-s02|Acc=0.6|10-CV=0.6|STD=0.0|Time spend=0.9881289005279541\n",
      "\tVALENCE-s02|Acc=0.55|10-CV=0.52|STD=0.03055|Time spend=1.0531396865844727\n",
      "Fitted sphere radius:         95.3 mm\n",
      "Origin head coordinates:      -0.8 15.1 45.3 mm\n",
      "Origin device coordinates:    -0.8 15.1 45.3 mm\n",
      "========= close ========\n",
      "\tAROUSAL-s03|Acc=0.8|10-CV=0.8|STD=0.0|Time spend=1.0099425315856934\n",
      "\tVALENCE-s03|Acc=0.55|10-CV=0.53333|STD=0.0|Time spend=1.0642659664154053\n",
      "Fitted sphere radius:         95.3 mm\n",
      "Origin head coordinates:      -0.8 15.1 45.3 mm\n",
      "Origin device coordinates:    -0.8 15.1 45.3 mm\n",
      "========= close ========\n",
      "\tAROUSAL-s04|Acc=0.6|10-CV=0.6|STD=0.0|Time spend=1.0823140144348145\n",
      "\tVALENCE-s04|Acc=0.6|10-CV=0.6|STD=0.0|Time spend=1.1373529434204102\n",
      "Fitted sphere radius:         95.3 mm\n",
      "Origin head coordinates:      -0.8 15.1 45.3 mm\n",
      "Origin device coordinates:    -0.8 15.1 45.3 mm\n",
      "========= close ========\n",
      "\tAROUSAL-s05|Acc=0.525|10-CV=0.49333|STD=0.06289|Time spend=0.9356734752655029\n",
      "\tVALENCE-s05|Acc=0.6|10-CV=0.6|STD=0.0|Time spend=0.9875068664550781\n",
      "Fitted sphere radius:         95.3 mm\n",
      "Origin head coordinates:      -0.8 15.1 45.3 mm\n",
      "Origin device coordinates:    -0.8 15.1 45.3 mm\n",
      "========= close ========\n",
      "\tAROUSAL-s06|Acc=0.575|10-CV=0.56667|STD=0.0|Time spend=0.9547600746154785\n",
      "\tVALENCE-s06|Acc=0.75|10-CV=0.75|STD=0.01667|Time spend=1.0034160614013672\n",
      "Fitted sphere radius:         95.3 mm\n",
      "Origin head coordinates:      -0.8 15.1 45.3 mm\n",
      "Origin device coordinates:    -0.8 15.1 45.3 mm\n",
      "========= close ========\n",
      "\tAROUSAL-s07|Acc=0.625|10-CV=0.63|STD=0.01|Time spend=0.8704237937927246\n",
      "\tVALENCE-s07|Acc=0.7|10-CV=0.7|STD=0.0|Time spend=0.9316465854644775\n",
      "Fitted sphere radius:         95.3 mm\n",
      "Origin head coordinates:      -0.8 15.1 45.3 mm\n",
      "Origin device coordinates:    -0.8 15.1 45.3 mm\n",
      "========= close ========\n",
      "\tAROUSAL-s08|Acc=0.575|10-CV=0.56667|STD=0.0|Time spend=1.0210223197937012\n",
      "\tVALENCE-s08|Acc=0.69167|10-CV=0.65667|STD=0.06506|Time spend=1.0792992115020752\n",
      "Fitted sphere radius:         95.3 mm\n",
      "Origin head coordinates:      -0.8 15.1 45.3 mm\n",
      "Origin device coordinates:    -0.8 15.1 45.3 mm\n",
      "========= close ========\n",
      "\tAROUSAL-s09|Acc=0.6|10-CV=0.6|STD=0.0|Time spend=0.9737875461578369\n",
      "\tVALENCE-s09|Acc=0.66667|10-CV=0.69|STD=0.05588|Time spend=1.0298638343811035\n",
      "Fitted sphere radius:         95.3 mm\n",
      "Origin head coordinates:      -0.8 15.1 45.3 mm\n",
      "Origin device coordinates:    -0.8 15.1 45.3 mm\n",
      "========= close ========\n",
      "\tAROUSAL-s10|Acc=0.625|10-CV=0.53|STD=0.03145|Time spend=1.0127580165863037\n",
      "\tVALENCE-s10|Acc=0.75833|10-CV=0.73333|STD=0.05578|Time spend=1.0650303363800049\n",
      "Fitted sphere radius:         95.3 mm\n",
      "Origin head coordinates:      -0.8 15.1 45.3 mm\n",
      "Origin device coordinates:    -0.8 15.1 45.3 mm\n",
      "========= close ========\n",
      "\tAROUSAL-s11|Acc=0.625|10-CV=0.63333|STD=0.0|Time spend=0.9431858062744141\n",
      "\tVALENCE-s11|Acc=0.6|10-CV=0.6|STD=0.0|Time spend=0.9945480823516846\n",
      "Fitted sphere radius:         95.3 mm\n",
      "Origin head coordinates:      -0.8 15.1 45.3 mm\n",
      "Origin device coordinates:    -0.8 15.1 45.3 mm\n",
      "========= close ========\n",
      "\tAROUSAL-s12|Acc=0.825|10-CV=0.83333|STD=0.0|Time spend=0.9116151332855225\n",
      "\tVALENCE-s12|Acc=0.53333|10-CV=0.52667|STD=0.01333|Time spend=0.9781432151794434\n",
      "Fitted sphere radius:         95.3 mm\n",
      "Origin head coordinates:      -0.8 15.1 45.3 mm\n",
      "Origin device coordinates:    -0.8 15.1 45.3 mm\n",
      "========= close ========\n",
      "\tAROUSAL-s13|Acc=0.85|10-CV=0.86|STD=0.01333|Time spend=0.9137768745422363\n",
      "\tVALENCE-s13|Acc=0.79167|10-CV=0.75667|STD=0.06675|Time spend=0.9699921607971191\n",
      "Fitted sphere radius:         95.3 mm\n",
      "Origin head coordinates:      -0.8 15.1 45.3 mm\n",
      "Origin device coordinates:    -0.8 15.1 45.3 mm\n",
      "========= close ========\n",
      "\tAROUSAL-s14|Acc=0.675|10-CV=0.66667|STD=0.0|Time spend=0.9121580123901367\n",
      "\tVALENCE-s14|Acc=0.64167|10-CV=0.6|STD=0.09068|Time spend=0.9761762619018555\n",
      "Fitted sphere radius:         95.3 mm\n",
      "Origin head coordinates:      -0.8 15.1 45.3 mm\n",
      "Origin device coordinates:    -0.8 15.1 45.3 mm\n",
      "========= close ========\n",
      "\tAROUSAL-s15|Acc=0.525|10-CV=0.53667|STD=0.01|Time spend=0.9394659996032715\n",
      "\tVALENCE-s15|Acc=0.75|10-CV=0.71333|STD=0.04761|Time spend=0.9906048774719238\n",
      "Fitted sphere radius:         95.3 mm\n",
      "Origin head coordinates:      -0.8 15.1 45.3 mm\n",
      "Origin device coordinates:    -0.8 15.1 45.3 mm\n",
      "========= close ========\n",
      "\tAROUSAL-s16|Acc=0.58333|10-CV=0.57333|STD=0.05333|Time spend=0.9295458793640137\n",
      "\tVALENCE-s16|Acc=0.625|10-CV=0.63333|STD=0.0|Time spend=0.9835202693939209\n",
      "Fitted sphere radius:         95.3 mm\n",
      "Origin head coordinates:      -0.8 15.1 45.3 mm\n",
      "Origin device coordinates:    -0.8 15.1 45.3 mm\n",
      "========= close ========\n",
      "\tAROUSAL-s17|Acc=0.6|10-CV=0.6|STD=0.0|Time spend=0.9801895618438721\n",
      "\tVALENCE-s17|Acc=0.55|10-CV=0.53333|STD=0.0|Time spend=1.0331480503082275\n",
      "Fitted sphere radius:         95.3 mm\n",
      "Origin head coordinates:      -0.8 15.1 45.3 mm\n",
      "Origin device coordinates:    -0.8 15.1 45.3 mm\n",
      "========= close ========\n",
      "\tAROUSAL-s18|Acc=0.625|10-CV=0.63333|STD=0.0|Time spend=0.982391357421875\n",
      "\tVALENCE-s18|Acc=0.68333|10-CV=0.65333|STD=0.04989|Time spend=1.0387489795684814\n",
      "Fitted sphere radius:         95.3 mm\n",
      "Origin head coordinates:      -0.8 15.1 45.3 mm\n",
      "Origin device coordinates:    -0.8 15.1 45.3 mm\n",
      "========= close ========\n",
      "\tAROUSAL-s19|Acc=0.68333|10-CV=0.66667|STD=0.0|Time spend=1.0387415885925293\n",
      "\tVALENCE-s19|Acc=0.59167|10-CV=0.56667|STD=0.0|Time spend=1.1005380153656006\n",
      "Fitted sphere radius:         95.3 mm\n",
      "Origin head coordinates:      -0.8 15.1 45.3 mm\n",
      "Origin device coordinates:    -0.8 15.1 45.3 mm\n",
      "========= close ========\n",
      "\tAROUSAL-s20|Acc=0.775|10-CV=0.76667|STD=0.0|Time spend=0.9009077548980713\n",
      "\tVALENCE-s20|Acc=0.69167|10-CV=0.63|STD=0.06046|Time spend=0.9622812271118164\n",
      "Fitted sphere radius:         95.3 mm\n",
      "Origin head coordinates:      -0.8 15.1 45.3 mm\n",
      "Origin device coordinates:    -0.8 15.1 45.3 mm\n",
      "========= close ========\n",
      "\tAROUSAL-s21|Acc=0.8|10-CV=0.8|STD=0.0|Time spend=1.0137109756469727\n",
      "\tVALENCE-s21|Acc=0.59167|10-CV=0.50667|STD=0.04163|Time spend=1.0682752132415771\n",
      "Fitted sphere radius:         95.3 mm\n",
      "Origin head coordinates:      -0.8 15.1 45.3 mm\n",
      "Origin device coordinates:    -0.8 15.1 45.3 mm\n",
      "========= close ========\n",
      "\tAROUSAL-s22|Acc=0.6|10-CV=0.6|STD=0.0|Time spend=0.8920538425445557\n",
      "\tVALENCE-s22|Acc=0.55|10-CV=0.53333|STD=0.0|Time spend=0.943089485168457\n",
      "Fitted sphere radius:         95.3 mm\n",
      "Origin head coordinates:      -0.8 15.1 45.3 mm\n",
      "Origin device coordinates:    -0.8 15.1 45.3 mm\n",
      "========= close ========\n",
      "\tAROUSAL-s23|Acc=0.75|10-CV=0.75333|STD=0.01633|Time spend=1.7755327224731445\n",
      "\tVALENCE-s23|Acc=0.65|10-CV=0.63333|STD=0.0|Time spend=1.8298699855804443\n",
      "Fitted sphere radius:         95.3 mm\n",
      "Origin head coordinates:      -0.8 15.1 45.3 mm\n",
      "Origin device coordinates:    -0.8 15.1 45.3 mm\n",
      "========= close ========\n",
      "\tAROUSAL-s24|Acc=0.825|10-CV=0.83333|STD=0.0|Time spend=1.1880004405975342\n",
      "\tVALENCE-s24|Acc=0.55|10-CV=0.53333|STD=0.0|Time spend=1.2569174766540527\n",
      "Fitted sphere radius:         95.3 mm\n",
      "Origin head coordinates:      -0.8 15.1 45.3 mm\n",
      "Origin device coordinates:    -0.8 15.1 45.3 mm\n",
      "========= close ========\n",
      "\tAROUSAL-s25|Acc=0.725|10-CV=0.73333|STD=0.0|Time spend=0.9299154281616211\n",
      "\tVALENCE-s25|Acc=0.525|10-CV=0.53333|STD=0.0|Time spend=0.9887869358062744\n",
      "Fitted sphere radius:         95.3 mm\n",
      "Origin head coordinates:      -0.8 15.1 45.3 mm\n",
      "Origin device coordinates:    -0.8 15.1 45.3 mm\n",
      "========= close ========\n",
      "\tAROUSAL-s26|Acc=0.61667|10-CV=0.57333|STD=0.02906|Time spend=0.9184677600860596\n",
      "\tVALENCE-s26|Acc=0.65|10-CV=0.63333|STD=0.0|Time spend=0.9920744895935059\n",
      "Fitted sphere radius:         95.3 mm\n",
      "Origin head coordinates:      -0.8 15.1 45.3 mm\n",
      "Origin device coordinates:    -0.8 15.1 45.3 mm\n",
      "========= close ========\n",
      "\tAROUSAL-s27|Acc=0.675|10-CV=0.67|STD=0.01|Time spend=0.9008913040161133\n",
      "\tVALENCE-s27|Acc=0.75|10-CV=0.75|STD=0.01667|Time spend=0.9524214267730713\n",
      "Fitted sphere radius:         95.3 mm\n",
      "Origin head coordinates:      -0.8 15.1 45.3 mm\n",
      "Origin device coordinates:    -0.8 15.1 45.3 mm\n",
      "========= close ========\n",
      "\tAROUSAL-s28|Acc=0.55|10-CV=0.53333|STD=0.0|Time spend=0.9391152858734131\n",
      "\tVALENCE-s28|Acc=0.625|10-CV=0.63333|STD=0.0|Time spend=1.0254466533660889\n",
      "Fitted sphere radius:         95.3 mm\n",
      "Origin head coordinates:      -0.8 15.1 45.3 mm\n",
      "Origin device coordinates:    -0.8 15.1 45.3 mm\n",
      "========= close ========\n",
      "\tAROUSAL-s29|Acc=0.625|10-CV=0.63333|STD=0.0|Time spend=1.1991865634918213\n",
      "\tVALENCE-s29|Acc=0.70833|10-CV=0.7|STD=0.04944|Time spend=1.2502737045288086\n",
      "Fitted sphere radius:         95.3 mm\n",
      "Origin head coordinates:      -0.8 15.1 45.3 mm\n",
      "Origin device coordinates:    -0.8 15.1 45.3 mm\n",
      "========= close ========\n",
      "\tAROUSAL-s30|Acc=0.61667|10-CV=0.56667|STD=0.07149|Time spend=0.9779958724975586\n",
      "\tVALENCE-s30|Acc=0.675|10-CV=0.66667|STD=0.0|Time spend=1.0617783069610596\n",
      "Fitted sphere radius:         95.3 mm\n",
      "Origin head coordinates:      -0.8 15.1 45.3 mm\n",
      "Origin device coordinates:    -0.8 15.1 45.3 mm\n",
      "========= close ========\n",
      "\tAROUSAL-s31|Acc=0.55833|10-CV=0.55667|STD=0.02603|Time spend=0.9607388973236084\n",
      "\tVALENCE-s31|Acc=0.575|10-CV=0.56667|STD=0.0|Time spend=1.0217907428741455\n",
      "Fitted sphere radius:         95.3 mm\n",
      "Origin head coordinates:      -0.8 15.1 45.3 mm\n",
      "Origin device coordinates:    -0.8 15.1 45.3 mm\n",
      "========= close ========\n",
      "\tAROUSAL-s32|Acc=0.675|10-CV=0.66667|STD=0.0|Time spend=1.0494005680084229\n",
      "\tVALENCE-s32|Acc=0.71667|10-CV=0.73|STD=0.07951|Time spend=1.1219658851623535\n",
      "AROUSAL|Acc=0.6533854166666668|10-CV=0.6463541666666667|STD=0.011060060524401224\n",
      "VALENCE|Acc=0.6403645833333333|10-CV=0.6245833333333332|STD=0.02447630319259253\n"
     ]
    }
   ],
   "source": [
    "accs, cv_means, cv_stds = [],[],[]\n",
    "accs_v, cv_means_v, cv_stds_v = [],[],[]\n",
    "reports = []\n",
    "for filename in (pbar := tqdm(dataset.get_file_list())):\n",
    "    start = time.time()\n",
    "    pbar.set_description(filename)\n",
    "    data, labels, groups = dataset.get_data(filename, stimuli=Dataset_subjectDependent.STIMULI_AROUSAL, return_type='mne', sfreq=128)\n",
    "    data_csd = mne.preprocessing.compute_current_source_density(data)\n",
    "    pcc = calculate_pcc(data_csd.get_data())\n",
    "    _,acc,cross,train_report = train_model(pcc, labels.squeeze(), groups, filename=filename, return_text=True)\n",
    "    report = f\"\\tAROUSAL-{filename}|Acc={round(acc,5)}|10-CV={round(cross.mean(),5)}|STD={round(cross.std(),5)}|Time spend={time.time() - start}\"\n",
    "    print(report)\n",
    "    reports.append(report)\n",
    "    reports.append(train_report)\n",
    "    accs.append(acc)\n",
    "    cv_means.append(cross.mean())\n",
    "    cv_stds.append(cross.std())\n",
    "\n",
    "    _, labels_v, groups_v = dataset.get_data(filename, stimuli=Dataset_subjectDependent.STIMULI_VALENCE, return_type='mne', sfreq=128)\n",
    "    _,acc,cross,train_report = train_model(pcc, labels_v.squeeze(), groups_v, filename=filename, return_text=True)\n",
    "    report = f\"\\tVALENCE-{filename}|Acc={round(acc,5)}|10-CV={round(cross.mean(),5)}|STD={round(cross.std(),5)}|Time spend={time.time() - start}\"\n",
    "    print(report)\n",
    "    reports.append(report)\n",
    "    reports.append(train_report)\n",
    "    accs_v.append(acc)\n",
    "    cv_means_v.append(cross.mean())\n",
    "    cv_stds_v.append(cross.std())\n",
    "    # break\n",
    "    # count+=1\n",
    "    # if(count == 5): break\n",
    "report = f\"AROUSAL|Acc={sum(accs)/len(accs)}|10-CV={sum(cv_means)/len(cv_means)}|STD={sum(cv_stds)/len(cv_stds)}\"\n",
    "print(report)\n",
    "reports.append(report)\n",
    "report = f\"VALENCE|Acc={sum(accs_v)/len(accs_v)}|10-CV={sum(cv_means_v)/len(cv_means_v)}|STD={sum(cv_stds_v)/len(cv_stds_v)}\"\n",
    "print(report)\n",
    "reports.append(report)"
   ]
  },
  {
   "cell_type": "code",
   "execution_count": 9,
   "metadata": {},
   "outputs": [
    {
     "name": "stdout",
     "output_type": "stream",
     "text": [
      "\tAROUSAL-s01|Acc=0.6|10-CV=0.60667|STD=0.02|Time spend=1.3755977153778076\n",
      "-----WARNING: Model s01 failed to learn: sum(ans)=120.0 sum(y)=72.0 len(y)=120\n",
      "\tVALENCE-s01|Acc=0.6|10-CV=0.57|STD=0.04333|Time spend=1.4403202533721924\n",
      "\tAROUSAL-s02|Acc=0.6|10-CV=0.6|STD=0.0|Time spend=0.9881289005279541\n",
      "-----WARNING: Model s02 failed to learn: sum(ans)=120.0 sum(y)=72.0 len(y)=120\n",
      "\tVALENCE-s02|Acc=0.55|10-CV=0.52|STD=0.03055|Time spend=1.0531396865844727\n",
      "-----WARNING: Model s02 failed to learn: sum(ans)=120.0 sum(y)=66.0 len(y)=120\n",
      "\tAROUSAL-s03|Acc=0.8|10-CV=0.8|STD=0.0|Time spend=1.0099425315856934\n",
      "-----WARNING: Model s03 failed to learn: sum(ans)=0.0 sum(y)=24.0 len(y)=120\n",
      "\tVALENCE-s03|Acc=0.55|10-CV=0.53333|STD=0.0|Time spend=1.0642659664154053\n",
      "-----WARNING: Model s03 failed to learn: sum(ans)=120.0 sum(y)=66.0 len(y)=120\n",
      "\tAROUSAL-s04|Acc=0.6|10-CV=0.6|STD=0.0|Time spend=1.0823140144348145\n",
      "-----WARNING: Model s04 failed to learn: sum(ans)=0.0 sum(y)=48.0 len(y)=120\n",
      "\tVALENCE-s04|Acc=0.6|10-CV=0.6|STD=0.0|Time spend=1.1373529434204102\n",
      "-----WARNING: Model s04 failed to learn: sum(ans)=0.0 sum(y)=48.0 len(y)=120\n",
      "\tAROUSAL-s05|Acc=0.525|10-CV=0.49333|STD=0.06289|Time spend=0.9356734752655029\n",
      "-----WARNING: Model s05 failed to learn: sum(ans)=0.0 sum(y)=57.0 len(y)=120\n",
      "\tVALENCE-s05|Acc=0.6|10-CV=0.6|STD=0.0|Time spend=0.9875068664550781\n",
      "-----WARNING: Model s05 failed to learn: sum(ans)=120.0 sum(y)=72.0 len(y)=120\n",
      "\tAROUSAL-s06|Acc=0.575|10-CV=0.56667|STD=0.0|Time spend=0.9547600746154785\n",
      "-----WARNING: Model s06 failed to learn: sum(ans)=0.0 sum(y)=51.0 len(y)=120\n",
      "\tVALENCE-s06|Acc=0.75|10-CV=0.75|STD=0.01667|Time spend=1.0034160614013672\n",
      "-----WARNING: Model s06 failed to learn: sum(ans)=120.0 sum(y)=90.0 len(y)=120\n",
      "\tAROUSAL-s07|Acc=0.625|10-CV=0.63|STD=0.01|Time spend=0.8704237937927246\n",
      "-----WARNING: Model s07 failed to learn: sum(ans)=120.0 sum(y)=75.0 len(y)=120\n",
      "\tVALENCE-s07|Acc=0.7|10-CV=0.7|STD=0.0|Time spend=0.9316465854644775\n",
      "-----WARNING: Model s07 failed to learn: sum(ans)=120.0 sum(y)=84.0 len(y)=120\n",
      "\tAROUSAL-s08|Acc=0.575|10-CV=0.56667|STD=0.0|Time spend=1.0210223197937012\n",
      "-----WARNING: Model s08 failed to learn: sum(ans)=120.0 sum(y)=69.0 len(y)=120\n",
      "\tVALENCE-s08|Acc=0.69167|10-CV=0.65667|STD=0.06506|Time spend=1.0792992115020752\n",
      "\tAROUSAL-s09|Acc=0.6|10-CV=0.6|STD=0.0|Time spend=0.9737875461578369\n",
      "-----WARNING: Model s09 failed to learn: sum(ans)=120.0 sum(y)=72.0 len(y)=120\n",
      "\tVALENCE-s09|Acc=0.66667|10-CV=0.69|STD=0.05588|Time spend=1.0298638343811035\n",
      "\tAROUSAL-s10|Acc=0.625|10-CV=0.53|STD=0.03145|Time spend=1.0127580165863037\n",
      "\tVALENCE-s10|Acc=0.75833|10-CV=0.73333|STD=0.05578|Time spend=1.0650303363800049\n",
      "\tAROUSAL-s11|Acc=0.625|10-CV=0.63333|STD=0.0|Time spend=0.9431858062744141\n",
      "-----WARNING: Model s11 failed to learn: sum(ans)=0.0 sum(y)=45.0 len(y)=120\n",
      "\tVALENCE-s11|Acc=0.6|10-CV=0.6|STD=0.0|Time spend=0.9945480823516846\n",
      "-----WARNING: Model s11 failed to learn: sum(ans)=120.0 sum(y)=72.0 len(y)=120\n",
      "\tAROUSAL-s12|Acc=0.825|10-CV=0.83333|STD=0.0|Time spend=0.9116151332855225\n",
      "-----WARNING: Model s12 failed to learn: sum(ans)=120.0 sum(y)=99.0 len(y)=120\n",
      "\tVALENCE-s12|Acc=0.53333|10-CV=0.52667|STD=0.01333|Time spend=0.9781432151794434\n",
      "\tAROUSAL-s13|Acc=0.85|10-CV=0.86|STD=0.01333|Time spend=0.9137768745422363\n",
      "-----WARNING: Model s13 failed to learn: sum(ans)=120.0 sum(y)=102.0 len(y)=120\n",
      "\tVALENCE-s13|Acc=0.79167|10-CV=0.75667|STD=0.06675|Time spend=0.9699921607971191\n",
      "\tAROUSAL-s14|Acc=0.675|10-CV=0.66667|STD=0.0|Time spend=0.9121580123901367\n",
      "-----WARNING: Model s14 failed to learn: sum(ans)=120.0 sum(y)=81.0 len(y)=120\n",
      "\tVALENCE-s14|Acc=0.64167|10-CV=0.6|STD=0.09068|Time spend=0.9761762619018555\n",
      "\tAROUSAL-s15|Acc=0.525|10-CV=0.53667|STD=0.01|Time spend=0.9394659996032715\n",
      "-----WARNING: Model s15 failed to learn: sum(ans)=0.0 sum(y)=57.0 len(y)=120\n",
      "\tVALENCE-s15|Acc=0.75|10-CV=0.71333|STD=0.04761|Time spend=0.9906048774719238\n",
      "\tAROUSAL-s16|Acc=0.58333|10-CV=0.57333|STD=0.05333|Time spend=0.9295458793640137\n",
      "\tVALENCE-s16|Acc=0.625|10-CV=0.63333|STD=0.0|Time spend=0.9835202693939209\n",
      "-----WARNING: Model s16 failed to learn: sum(ans)=0.0 sum(y)=45.0 len(y)=120\n",
      "\tAROUSAL-s17|Acc=0.6|10-CV=0.6|STD=0.0|Time spend=0.9801895618438721\n",
      "-----WARNING: Model s17 failed to learn: sum(ans)=120.0 sum(y)=72.0 len(y)=120\n",
      "\tVALENCE-s17|Acc=0.55|10-CV=0.53333|STD=0.0|Time spend=1.0331480503082275\n",
      "-----WARNING: Model s17 failed to learn: sum(ans)=120.0 sum(y)=66.0 len(y)=120\n",
      "\tAROUSAL-s18|Acc=0.625|10-CV=0.63333|STD=0.0|Time spend=0.982391357421875\n",
      "-----WARNING: Model s18 failed to learn: sum(ans)=120.0 sum(y)=75.0 len(y)=120\n",
      "\tVALENCE-s18|Acc=0.68333|10-CV=0.65333|STD=0.04989|Time spend=1.0387489795684814\n",
      "\tAROUSAL-s19|Acc=0.68333|10-CV=0.66667|STD=0.0|Time spend=1.0387415885925293\n",
      "\tVALENCE-s19|Acc=0.59167|10-CV=0.56667|STD=0.0|Time spend=1.1005380153656006\n",
      "\tAROUSAL-s20|Acc=0.775|10-CV=0.76667|STD=0.0|Time spend=0.9009077548980713\n",
      "-----WARNING: Model s20 failed to learn: sum(ans)=120.0 sum(y)=93.0 len(y)=120\n",
      "\tVALENCE-s20|Acc=0.69167|10-CV=0.63|STD=0.06046|Time spend=0.9622812271118164\n",
      "\tAROUSAL-s21|Acc=0.8|10-CV=0.8|STD=0.0|Time spend=1.0137109756469727\n",
      "-----WARNING: Model s21 failed to learn: sum(ans)=120.0 sum(y)=96.0 len(y)=120\n",
      "\tVALENCE-s21|Acc=0.59167|10-CV=0.50667|STD=0.04163|Time spend=1.0682752132415771\n",
      "\tAROUSAL-s22|Acc=0.6|10-CV=0.6|STD=0.0|Time spend=0.8920538425445557\n",
      "-----WARNING: Model s22 failed to learn: sum(ans)=120.0 sum(y)=72.0 len(y)=120\n",
      "\tVALENCE-s22|Acc=0.55|10-CV=0.53333|STD=0.0|Time spend=0.943089485168457\n",
      "-----WARNING: Model s22 failed to learn: sum(ans)=0.0 sum(y)=54.0 len(y)=120\n",
      "\tAROUSAL-s23|Acc=0.75|10-CV=0.75333|STD=0.01633|Time spend=1.7755327224731445\n",
      "-----WARNING: Model s23 failed to learn: sum(ans)=0.0 sum(y)=30.0 len(y)=120\n",
      "\tVALENCE-s23|Acc=0.65|10-CV=0.63333|STD=0.0|Time spend=1.8298699855804443\n",
      "-----WARNING: Model s23 failed to learn: sum(ans)=120.0 sum(y)=78.0 len(y)=120\n",
      "\tAROUSAL-s24|Acc=0.825|10-CV=0.83333|STD=0.0|Time spend=1.1880004405975342\n",
      "-----WARNING: Model s24 failed to learn: sum(ans)=120.0 sum(y)=99.0 len(y)=120\n",
      "\tVALENCE-s24|Acc=0.55|10-CV=0.53333|STD=0.0|Time spend=1.2569174766540527\n",
      "-----WARNING: Model s24 failed to learn: sum(ans)=0.0 sum(y)=54.0 len(y)=120\n",
      "\tAROUSAL-s25|Acc=0.725|10-CV=0.73333|STD=0.0|Time spend=0.9299154281616211\n",
      "-----WARNING: Model s25 failed to learn: sum(ans)=120.0 sum(y)=87.0 len(y)=120\n",
      "\tVALENCE-s25|Acc=0.525|10-CV=0.53333|STD=0.0|Time spend=0.9887869358062744\n",
      "-----WARNING: Model s25 failed to learn: sum(ans)=0.0 sum(y)=57.0 len(y)=120\n",
      "\tAROUSAL-s26|Acc=0.61667|10-CV=0.57333|STD=0.02906|Time spend=0.9184677600860596\n",
      "\tVALENCE-s26|Acc=0.65|10-CV=0.63333|STD=0.0|Time spend=0.9920744895935059\n",
      "-----WARNING: Model s26 failed to learn: sum(ans)=120.0 sum(y)=78.0 len(y)=120\n",
      "\tAROUSAL-s27|Acc=0.675|10-CV=0.67|STD=0.01|Time spend=0.9008913040161133\n",
      "-----WARNING: Model s27 failed to learn: sum(ans)=120.0 sum(y)=81.0 len(y)=120\n",
      "\tVALENCE-s27|Acc=0.75|10-CV=0.75|STD=0.01667|Time spend=0.9524214267730713\n",
      "-----WARNING: Model s27 failed to learn: sum(ans)=120.0 sum(y)=90.0 len(y)=120\n",
      "\tAROUSAL-s28|Acc=0.55|10-CV=0.53333|STD=0.0|Time spend=0.9391152858734131\n",
      "-----WARNING: Model s28 failed to learn: sum(ans)=0.0 sum(y)=54.0 len(y)=120\n",
      "\tVALENCE-s28|Acc=0.625|10-CV=0.63333|STD=0.0|Time spend=1.0254466533660889\n",
      "-----WARNING: Model s28 failed to learn: sum(ans)=120.0 sum(y)=75.0 len(y)=120\n",
      "\tAROUSAL-s29|Acc=0.625|10-CV=0.63333|STD=0.0|Time spend=1.1991865634918213\n",
      "-----WARNING: Model s29 failed to learn: sum(ans)=120.0 sum(y)=75.0 len(y)=120\n",
      "\tVALENCE-s29|Acc=0.70833|10-CV=0.7|STD=0.04944|Time spend=1.2502737045288086\n",
      "\tAROUSAL-s30|Acc=0.61667|10-CV=0.56667|STD=0.07149|Time spend=0.9779958724975586\n",
      "\tVALENCE-s30|Acc=0.675|10-CV=0.66667|STD=0.0|Time spend=1.0617783069610596\n",
      "-----WARNING: Model s30 failed to learn: sum(ans)=120.0 sum(y)=81.0 len(y)=120\n",
      "\tAROUSAL-s31|Acc=0.55833|10-CV=0.55667|STD=0.02603|Time spend=0.9607388973236084\n",
      "\tVALENCE-s31|Acc=0.575|10-CV=0.56667|STD=0.0|Time spend=1.0217907428741455\n",
      "-----WARNING: Model s31 failed to learn: sum(ans)=120.0 sum(y)=69.0 len(y)=120\n",
      "\tAROUSAL-s32|Acc=0.675|10-CV=0.66667|STD=0.0|Time spend=1.0494005680084229\n",
      "-----WARNING: Model s32 failed to learn: sum(ans)=120.0 sum(y)=81.0 len(y)=120\n",
      "\tVALENCE-s32|Acc=0.71667|10-CV=0.73|STD=0.07951|Time spend=1.1219658851623535\n",
      "AROUSAL|Acc=0.6533854166666668|10-CV=0.6463541666666667|STD=0.011060060524401224\n",
      "VALENCE|Acc=0.6403645833333333|10-CV=0.6245833333333332|STD=0.02447630319259253\n",
      "TOTAL|Acc=0.6468750000000002|10-CV=0.6354687500000002|STD=0.017768181858496875\n"
     ]
    }
   ],
   "source": [
    "for text in reports:\n",
    "    if(text == None): continue\n",
    "    print(text)\n",
    "\n",
    "accs.extend(accs_v)\n",
    "cv_means.extend(cv_means_v)\n",
    "cv_stds.extend(cv_stds_v)\n",
    "print(f\"TOTAL|Acc={sum(accs)/len(accs)}|10-CV={sum(cv_means)/len(cv_means)}|STD={sum(cv_stds)/len(cv_stds)}\")"
   ]
  },
  {
   "cell_type": "markdown",
   "metadata": {},
   "source": [
    "### 4.2 $ \\text{PCC}_{freq} (i,j) = \\frac{\\text{Cov}[\\hat{\\mathbf{X}}_i, \\hat{\\mathbf{X}}_j]}{\\sigma_{\\hat{\\mathbf{X}}_i} \\sigma_{\\hat{\\mathbf{X}}_j}} $"
   ]
  },
  {
   "cell_type": "code",
   "execution_count": 10,
   "metadata": {},
   "outputs": [],
   "source": [
    "def calculate_fft(signal, sfreq):\n",
    "    \"\"\" signal: can be 1D array of (n_sample,) or 2D array of (n_signal, n_sample)  \"\"\"\n",
    "    number_sample = signal.shape[-1]\n",
    "\n",
    "    # the result will be a complex number. We can obtain the magnitude using `absolute`\n",
    "    magnitude = np.abs(np.fft.fft(signal))\n",
    "    # scale the result\n",
    "    magnitude = magnitude / (number_sample/2)\n",
    "    # Selecting the range\n",
    "    magnitude = magnitude.T[:number_sample//2].T\n",
    "    freq_range = np.fft.fftfreq(number_sample, d=1/sfreq)[:number_sample//2]\n",
    "\n",
    "    return magnitude, freq_range"
   ]
  },
  {
   "cell_type": "code",
   "execution_count": 11,
   "metadata": {},
   "outputs": [
    {
     "data": {
      "application/vnd.jupyter.widget-view+json": {
       "model_id": "3cdee83c57234895a8d435129ee71e67",
       "version_major": 2,
       "version_minor": 0
      },
      "text/plain": [
       "  0%|          | 0/32 [00:00<?, ?it/s]"
      ]
     },
     "metadata": {},
     "output_type": "display_data"
    },
    {
     "name": "stdout",
     "output_type": "stream",
     "text": [
      "Fitted sphere radius:         95.3 mm\n",
      "Origin head coordinates:      -0.8 15.1 45.3 mm\n",
      "Origin device coordinates:    -0.8 15.1 45.3 mm\n",
      "========= close ========\n",
      "\tAROUSAL-s01|Acc=0.76667|10-CV=0.67333|STD=0.04163|Time spend=1.148848295211792\n",
      "\tVALENCE-s01|Acc=0.68333|10-CV=0.56667|STD=0.05375|Time spend=1.2048087120056152\n",
      "Fitted sphere radius:         95.3 mm\n",
      "Origin head coordinates:      -0.8 15.1 45.3 mm\n",
      "Origin device coordinates:    -0.8 15.1 45.3 mm\n",
      "========= close ========\n",
      "\tAROUSAL-s02|Acc=0.6|10-CV=0.60333|STD=0.01|Time spend=1.0940876007080078\n",
      "\tVALENCE-s02|Acc=0.66667|10-CV=0.58667|STD=0.08192|Time spend=1.1537401676177979\n",
      "Fitted sphere radius:         95.3 mm\n",
      "Origin head coordinates:      -0.8 15.1 45.3 mm\n",
      "Origin device coordinates:    -0.8 15.1 45.3 mm\n",
      "========= close ========\n",
      "\tAROUSAL-s03|Acc=0.8|10-CV=0.8|STD=0.0|Time spend=1.0335493087768555\n",
      "\tVALENCE-s03|Acc=0.55833|10-CV=0.51667|STD=0.05|Time spend=1.0884132385253906\n",
      "Fitted sphere radius:         95.3 mm\n",
      "Origin head coordinates:      -0.8 15.1 45.3 mm\n",
      "Origin device coordinates:    -0.8 15.1 45.3 mm\n",
      "========= close ========\n",
      "\tAROUSAL-s04|Acc=0.6|10-CV=0.6|STD=0.0|Time spend=1.1182231903076172\n",
      "\tVALENCE-s04|Acc=0.6|10-CV=0.59333|STD=0.02|Time spend=1.2032766342163086\n",
      "Fitted sphere radius:         95.3 mm\n",
      "Origin head coordinates:      -0.8 15.1 45.3 mm\n",
      "Origin device coordinates:    -0.8 15.1 45.3 mm\n",
      "========= close ========\n",
      "\tAROUSAL-s05|Acc=0.69167|10-CV=0.52|STD=0.06864|Time spend=0.9793248176574707\n",
      "\tVALENCE-s05|Acc=0.625|10-CV=0.59333|STD=0.01333|Time spend=1.028796672821045\n",
      "Fitted sphere radius:         95.3 mm\n",
      "Origin head coordinates:      -0.8 15.1 45.3 mm\n",
      "Origin device coordinates:    -0.8 15.1 45.3 mm\n",
      "========= close ========\n",
      "\tAROUSAL-s06|Acc=0.64167|10-CV=0.58333|STD=0.06872|Time spend=1.2210779190063477\n",
      "\tVALENCE-s06|Acc=0.75|10-CV=0.75|STD=0.01667|Time spend=1.321655035018921\n",
      "Fitted sphere radius:         95.3 mm\n",
      "Origin head coordinates:      -0.8 15.1 45.3 mm\n",
      "Origin device coordinates:    -0.8 15.1 45.3 mm\n",
      "========= close ========\n",
      "\tAROUSAL-s07|Acc=0.675|10-CV=0.63|STD=0.04819|Time spend=1.0368521213531494\n",
      "\tVALENCE-s07|Acc=0.71667|10-CV=0.70667|STD=0.01333|Time spend=1.0882863998413086\n",
      "Fitted sphere radius:         95.3 mm\n",
      "Origin head coordinates:      -0.8 15.1 45.3 mm\n",
      "Origin device coordinates:    -0.8 15.1 45.3 mm\n",
      "========= close ========\n",
      "\tAROUSAL-s08|Acc=0.6|10-CV=0.55333|STD=0.03055|Time spend=1.12131929397583\n",
      "\tVALENCE-s08|Acc=0.71667|10-CV=0.67667|STD=0.06333|Time spend=1.194502830505371\n",
      "Fitted sphere radius:         95.3 mm\n",
      "Origin head coordinates:      -0.8 15.1 45.3 mm\n",
      "Origin device coordinates:    -0.8 15.1 45.3 mm\n",
      "========= close ========\n",
      "\tAROUSAL-s09|Acc=0.60833|10-CV=0.6|STD=0.0|Time spend=1.2203669548034668\n",
      "\tVALENCE-s09|Acc=0.71667|10-CV=0.70667|STD=0.04163|Time spend=1.3090758323669434\n",
      "Fitted sphere radius:         95.3 mm\n",
      "Origin head coordinates:      -0.8 15.1 45.3 mm\n",
      "Origin device coordinates:    -0.8 15.1 45.3 mm\n",
      "========= close ========\n",
      "\tAROUSAL-s10|Acc=0.69167|10-CV=0.59333|STD=0.08406|Time spend=1.2577006816864014\n",
      "\tVALENCE-s10|Acc=0.75833|10-CV=0.75667|STD=0.05588|Time spend=1.3165886402130127\n",
      "Fitted sphere radius:         95.3 mm\n",
      "Origin head coordinates:      -0.8 15.1 45.3 mm\n",
      "Origin device coordinates:    -0.8 15.1 45.3 mm\n",
      "========= close ========\n",
      "\tAROUSAL-s11|Acc=0.675|10-CV=0.64667|STD=0.02667|Time spend=1.2038562297821045\n",
      "\tVALENCE-s11|Acc=0.69167|10-CV=0.65333|STD=0.02667|Time spend=1.279970407485962\n",
      "Fitted sphere radius:         95.3 mm\n",
      "Origin head coordinates:      -0.8 15.1 45.3 mm\n",
      "Origin device coordinates:    -0.8 15.1 45.3 mm\n",
      "========= close ========\n",
      "\tAROUSAL-s12|Acc=0.825|10-CV=0.83333|STD=0.0|Time spend=1.2803432941436768\n",
      "\tVALENCE-s12|Acc=0.65|10-CV=0.6|STD=0.06831|Time spend=1.3341782093048096\n",
      "Fitted sphere radius:         95.3 mm\n",
      "Origin head coordinates:      -0.8 15.1 45.3 mm\n",
      "Origin device coordinates:    -0.8 15.1 45.3 mm\n",
      "========= close ========\n",
      "\tAROUSAL-s13|Acc=0.85|10-CV=0.86|STD=0.01333|Time spend=1.3755412101745605\n",
      "\tVALENCE-s13|Acc=0.74167|10-CV=0.69333|STD=0.07424|Time spend=1.428947925567627\n",
      "Fitted sphere radius:         95.3 mm\n",
      "Origin head coordinates:      -0.8 15.1 45.3 mm\n",
      "Origin device coordinates:    -0.8 15.1 45.3 mm\n",
      "========= close ========\n",
      "\tAROUSAL-s14|Acc=0.675|10-CV=0.66667|STD=0.0|Time spend=1.2648608684539795\n",
      "\tVALENCE-s14|Acc=0.74167|10-CV=0.71|STD=0.09195|Time spend=1.3626883029937744\n",
      "Fitted sphere radius:         95.3 mm\n",
      "Origin head coordinates:      -0.8 15.1 45.3 mm\n",
      "Origin device coordinates:    -0.8 15.1 45.3 mm\n",
      "========= close ========\n",
      "\tAROUSAL-s15|Acc=0.65|10-CV=0.56|STD=0.06289|Time spend=1.275477647781372\n",
      "\tVALENCE-s15|Acc=0.76667|10-CV=0.73|STD=0.06574|Time spend=1.3285448551177979\n",
      "Fitted sphere radius:         95.3 mm\n",
      "Origin head coordinates:      -0.8 15.1 45.3 mm\n",
      "Origin device coordinates:    -0.8 15.1 45.3 mm\n",
      "========= close ========\n",
      "\tAROUSAL-s16|Acc=0.65833|10-CV=0.56333|STD=0.0526|Time spend=1.7440478801727295\n",
      "\tVALENCE-s16|Acc=0.69167|10-CV=0.68|STD=0.03055|Time spend=1.8115417957305908\n",
      "Fitted sphere radius:         95.3 mm\n",
      "Origin head coordinates:      -0.8 15.1 45.3 mm\n",
      "Origin device coordinates:    -0.8 15.1 45.3 mm\n",
      "========= close ========\n",
      "\tAROUSAL-s17|Acc=0.725|10-CV=0.61333|STD=0.07024|Time spend=1.3354263305664062\n",
      "\tVALENCE-s17|Acc=0.55|10-CV=0.53|STD=0.01|Time spend=1.4189274311065674\n",
      "Fitted sphere radius:         95.3 mm\n",
      "Origin head coordinates:      -0.8 15.1 45.3 mm\n",
      "Origin device coordinates:    -0.8 15.1 45.3 mm\n",
      "========= close ========\n",
      "\tAROUSAL-s18|Acc=0.63333|10-CV=0.63|STD=0.01|Time spend=1.8898742198944092\n",
      "\tVALENCE-s18|Acc=0.775|10-CV=0.72667|STD=0.04422|Time spend=1.9651989936828613\n",
      "Fitted sphere radius:         95.3 mm\n",
      "Origin head coordinates:      -0.8 15.1 45.3 mm\n",
      "Origin device coordinates:    -0.8 15.1 45.3 mm\n",
      "========= close ========\n",
      "\tAROUSAL-s19|Acc=0.71667|10-CV=0.63667|STD=0.02769|Time spend=1.050785779953003\n",
      "\tVALENCE-s19|Acc=0.75|10-CV=0.64333|STD=0.04485|Time spend=1.1059696674346924\n",
      "Fitted sphere radius:         95.3 mm\n",
      "Origin head coordinates:      -0.8 15.1 45.3 mm\n",
      "Origin device coordinates:    -0.8 15.1 45.3 mm\n",
      "========= close ========\n",
      "\tAROUSAL-s20|Acc=0.775|10-CV=0.76667|STD=0.0|Time spend=1.2331490516662598\n",
      "\tVALENCE-s20|Acc=0.70833|10-CV=0.61667|STD=0.05821|Time spend=1.3176119327545166\n",
      "Fitted sphere radius:         95.3 mm\n",
      "Origin head coordinates:      -0.8 15.1 45.3 mm\n",
      "Origin device coordinates:    -0.8 15.1 45.3 mm\n",
      "========= close ========\n",
      "\tAROUSAL-s21|Acc=0.8|10-CV=0.8|STD=0.0|Time spend=1.811098337173462\n",
      "\tVALENCE-s21|Acc=0.61667|10-CV=0.60667|STD=0.05925|Time spend=1.878521203994751\n",
      "Fitted sphere radius:         95.3 mm\n",
      "Origin head coordinates:      -0.8 15.1 45.3 mm\n",
      "Origin device coordinates:    -0.8 15.1 45.3 mm\n",
      "========= close ========\n",
      "\tAROUSAL-s22|Acc=0.6|10-CV=0.58333|STD=0.02687|Time spend=1.400075912475586\n",
      "\tVALENCE-s22|Acc=0.59167|10-CV=0.51667|STD=0.03416|Time spend=1.4532463550567627\n",
      "Fitted sphere radius:         95.3 mm\n",
      "Origin head coordinates:      -0.8 15.1 45.3 mm\n",
      "Origin device coordinates:    -0.8 15.1 45.3 mm\n",
      "========= close ========\n",
      "\tAROUSAL-s23|Acc=0.75|10-CV=0.75333|STD=0.01633|Time spend=1.027803897857666\n",
      "\tVALENCE-s23|Acc=0.65|10-CV=0.62667|STD=0.01333|Time spend=1.1050121784210205\n",
      "Fitted sphere radius:         95.3 mm\n",
      "Origin head coordinates:      -0.8 15.1 45.3 mm\n",
      "Origin device coordinates:    -0.8 15.1 45.3 mm\n",
      "========= close ========\n",
      "\tAROUSAL-s24|Acc=0.825|10-CV=0.83333|STD=0.0|Time spend=1.1724226474761963\n",
      "\tVALENCE-s24|Acc=0.64167|10-CV=0.54667|STD=0.04269|Time spend=1.2308809757232666\n",
      "Fitted sphere radius:         95.3 mm\n",
      "Origin head coordinates:      -0.8 15.1 45.3 mm\n",
      "Origin device coordinates:    -0.8 15.1 45.3 mm\n",
      "========= close ========\n",
      "\tAROUSAL-s25|Acc=0.725|10-CV=0.73333|STD=0.0|Time spend=1.0269525051116943\n",
      "\tVALENCE-s25|Acc=0.675|10-CV=0.56667|STD=0.06667|Time spend=1.0920279026031494\n",
      "Fitted sphere radius:         95.3 mm\n",
      "Origin head coordinates:      -0.8 15.1 45.3 mm\n",
      "Origin device coordinates:    -0.8 15.1 45.3 mm\n",
      "========= close ========\n",
      "\tAROUSAL-s26|Acc=0.69167|10-CV=0.58667|STD=0.04989|Time spend=1.3434040546417236\n",
      "\tVALENCE-s26|Acc=0.65|10-CV=0.63333|STD=0.0|Time spend=1.409127950668335\n",
      "Fitted sphere radius:         95.3 mm\n",
      "Origin head coordinates:      -0.8 15.1 45.3 mm\n",
      "Origin device coordinates:    -0.8 15.1 45.3 mm\n",
      "========= close ========\n",
      "\tAROUSAL-s27|Acc=0.74167|10-CV=0.68|STD=0.04522|Time spend=0.9808595180511475\n",
      "\tVALENCE-s27|Acc=0.79167|10-CV=0.76333|STD=0.0348|Time spend=1.0434694290161133\n",
      "Fitted sphere radius:         95.3 mm\n",
      "Origin head coordinates:      -0.8 15.1 45.3 mm\n",
      "Origin device coordinates:    -0.8 15.1 45.3 mm\n",
      "========= close ========\n",
      "\tAROUSAL-s28|Acc=0.60833|10-CV=0.52667|STD=0.02494|Time spend=1.356421947479248\n",
      "\tVALENCE-s28|Acc=0.625|10-CV=0.63333|STD=0.0|Time spend=1.421644687652588\n",
      "Fitted sphere radius:         95.3 mm\n",
      "Origin head coordinates:      -0.8 15.1 45.3 mm\n",
      "Origin device coordinates:    -0.8 15.1 45.3 mm\n",
      "========= close ========\n",
      "\tAROUSAL-s29|Acc=0.71667|10-CV=0.66|STD=0.05333|Time spend=1.1330621242523193\n",
      "\tVALENCE-s29|Acc=0.71667|10-CV=0.67333|STD=0.0786|Time spend=1.2022533416748047\n",
      "Fitted sphere radius:         95.3 mm\n",
      "Origin head coordinates:      -0.8 15.1 45.3 mm\n",
      "Origin device coordinates:    -0.8 15.1 45.3 mm\n",
      "========= close ========\n",
      "\tAROUSAL-s30|Acc=0.66667|10-CV=0.59|STD=0.08035|Time spend=1.219327688217163\n",
      "\tVALENCE-s30|Acc=0.675|10-CV=0.66|STD=0.02|Time spend=1.27724289894104\n",
      "Fitted sphere radius:         95.3 mm\n",
      "Origin head coordinates:      -0.8 15.1 45.3 mm\n",
      "Origin device coordinates:    -0.8 15.1 45.3 mm\n",
      "========= close ========\n",
      "\tAROUSAL-s31|Acc=0.7|10-CV=0.60333|STD=0.06403|Time spend=1.0930094718933105\n",
      "\tVALENCE-s31|Acc=0.575|10-CV=0.56667|STD=0.0|Time spend=1.1657588481903076\n",
      "Fitted sphere radius:         95.3 mm\n",
      "Origin head coordinates:      -0.8 15.1 45.3 mm\n",
      "Origin device coordinates:    -0.8 15.1 45.3 mm\n",
      "========= close ========\n",
      "\tAROUSAL-s32|Acc=0.71667|10-CV=0.65667|STD=0.01528|Time spend=1.2205579280853271\n",
      "\tVALENCE-s32|Acc=0.75|10-CV=0.69333|STD=0.07572|Time spend=1.2741060256958008\n",
      "AROUSAL|Acc=0.7|10-CV=0.6543749999999999|STD=0.030982829948188177\n",
      "VALENCE|Acc=0.6817708333333334|10-CV=0.6413541666666667|STD=0.042181557492187216\n"
     ]
    }
   ],
   "source": [
    "accs, cv_means, cv_stds = [],[],[]\n",
    "accs_v, cv_means_v, cv_stds_v = [],[],[]\n",
    "reports = []\n",
    "for filename in (pbar := tqdm(dataset.get_file_list())):\n",
    "    start = time.time()\n",
    "    pbar.set_description(filename)\n",
    "    data, labels, groups = dataset.get_data(filename, stimuli=Dataset_subjectDependent.STIMULI_AROUSAL, return_type='mne', sfreq=128)\n",
    "    \n",
    "    data_csd = mne.preprocessing.compute_current_source_density(data)\n",
    "    magnitude, freq_range = calculate_fft(data_csd.get_data(), 128)\n",
    "    pcc = calculate_pcc(magnitude)\n",
    "    _,acc,cross,train_report = train_model(pcc, labels.squeeze(), groups, filename=filename, return_text=True)\n",
    "    report = f\"\\tAROUSAL-{filename}|Acc={round(acc,5)}|10-CV={round(cross.mean(),5)}|STD={round(cross.std(),5)}|Time spend={time.time() - start}\"\n",
    "    print(report)\n",
    "    reports.append(report)\n",
    "    reports.append(train_report)\n",
    "    accs.append(acc)\n",
    "    cv_means.append(cross.mean())\n",
    "    cv_stds.append(cross.std())\n",
    "\n",
    "    _, labels_v, groups_v = dataset.get_data(filename, stimuli=Dataset_subjectDependent.STIMULI_VALENCE, return_type='mne', sfreq=128)\n",
    "    _,acc,cross,train_report = train_model(pcc, labels_v.squeeze(), groups_v, filename=filename, return_text=True)\n",
    "    report = f\"\\tVALENCE-{filename}|Acc={round(acc,5)}|10-CV={round(cross.mean(),5)}|STD={round(cross.std(),5)}|Time spend={time.time() - start}\"\n",
    "    print(report)\n",
    "    reports.append(report)\n",
    "    reports.append(train_report)\n",
    "    accs_v.append(acc)\n",
    "    cv_means_v.append(cross.mean())\n",
    "    cv_stds_v.append(cross.std())\n",
    "    # break\n",
    "    # count+=1\n",
    "    # if(count == 5): break\n",
    "report = f\"AROUSAL|Acc={sum(accs)/len(accs)}|10-CV={sum(cv_means)/len(cv_means)}|STD={sum(cv_stds)/len(cv_stds)}\"\n",
    "print(report)\n",
    "reports.append(report)\n",
    "report = f\"VALENCE|Acc={sum(accs_v)/len(accs_v)}|10-CV={sum(cv_means_v)/len(cv_means_v)}|STD={sum(cv_stds_v)/len(cv_stds_v)}\"\n",
    "print(report)\n",
    "reports.append(report)"
   ]
  },
  {
   "cell_type": "code",
   "execution_count": 12,
   "metadata": {},
   "outputs": [
    {
     "name": "stdout",
     "output_type": "stream",
     "text": [
      "\tAROUSAL-s01|Acc=0.76667|10-CV=0.67333|STD=0.04163|Time spend=1.148848295211792\n",
      "\tVALENCE-s01|Acc=0.68333|10-CV=0.56667|STD=0.05375|Time spend=1.2048087120056152\n",
      "\tAROUSAL-s02|Acc=0.6|10-CV=0.60333|STD=0.01|Time spend=1.0940876007080078\n",
      "-----WARNING: Model s02 failed to learn: sum(ans)=120.0 sum(y)=72.0 len(y)=120\n",
      "\tVALENCE-s02|Acc=0.66667|10-CV=0.58667|STD=0.08192|Time spend=1.1537401676177979\n",
      "\tAROUSAL-s03|Acc=0.8|10-CV=0.8|STD=0.0|Time spend=1.0335493087768555\n",
      "-----WARNING: Model s03 failed to learn: sum(ans)=0.0 sum(y)=24.0 len(y)=120\n",
      "\tVALENCE-s03|Acc=0.55833|10-CV=0.51667|STD=0.05|Time spend=1.0884132385253906\n",
      "\tAROUSAL-s04|Acc=0.6|10-CV=0.6|STD=0.0|Time spend=1.1182231903076172\n",
      "-----WARNING: Model s04 failed to learn: sum(ans)=0.0 sum(y)=48.0 len(y)=120\n",
      "\tVALENCE-s04|Acc=0.6|10-CV=0.59333|STD=0.02|Time spend=1.2032766342163086\n",
      "-----WARNING: Model s04 failed to learn: sum(ans)=0.0 sum(y)=48.0 len(y)=120\n",
      "\tAROUSAL-s05|Acc=0.69167|10-CV=0.52|STD=0.06864|Time spend=0.9793248176574707\n",
      "\tVALENCE-s05|Acc=0.625|10-CV=0.59333|STD=0.01333|Time spend=1.028796672821045\n",
      "\tAROUSAL-s06|Acc=0.64167|10-CV=0.58333|STD=0.06872|Time spend=1.2210779190063477\n",
      "\tVALENCE-s06|Acc=0.75|10-CV=0.75|STD=0.01667|Time spend=1.321655035018921\n",
      "-----WARNING: Model s06 failed to learn: sum(ans)=120.0 sum(y)=90.0 len(y)=120\n",
      "\tAROUSAL-s07|Acc=0.675|10-CV=0.63|STD=0.04819|Time spend=1.0368521213531494\n",
      "\tVALENCE-s07|Acc=0.71667|10-CV=0.70667|STD=0.01333|Time spend=1.0882863998413086\n",
      "\tAROUSAL-s08|Acc=0.6|10-CV=0.55333|STD=0.03055|Time spend=1.12131929397583\n",
      "\tVALENCE-s08|Acc=0.71667|10-CV=0.67667|STD=0.06333|Time spend=1.194502830505371\n",
      "\tAROUSAL-s09|Acc=0.60833|10-CV=0.6|STD=0.0|Time spend=1.2203669548034668\n",
      "\tVALENCE-s09|Acc=0.71667|10-CV=0.70667|STD=0.04163|Time spend=1.3090758323669434\n",
      "\tAROUSAL-s10|Acc=0.69167|10-CV=0.59333|STD=0.08406|Time spend=1.2577006816864014\n",
      "\tVALENCE-s10|Acc=0.75833|10-CV=0.75667|STD=0.05588|Time spend=1.3165886402130127\n",
      "\tAROUSAL-s11|Acc=0.675|10-CV=0.64667|STD=0.02667|Time spend=1.2038562297821045\n",
      "\tVALENCE-s11|Acc=0.69167|10-CV=0.65333|STD=0.02667|Time spend=1.279970407485962\n",
      "\tAROUSAL-s12|Acc=0.825|10-CV=0.83333|STD=0.0|Time spend=1.2803432941436768\n",
      "-----WARNING: Model s12 failed to learn: sum(ans)=120.0 sum(y)=99.0 len(y)=120\n",
      "\tVALENCE-s12|Acc=0.65|10-CV=0.6|STD=0.06831|Time spend=1.3341782093048096\n",
      "\tAROUSAL-s13|Acc=0.85|10-CV=0.86|STD=0.01333|Time spend=1.3755412101745605\n",
      "-----WARNING: Model s13 failed to learn: sum(ans)=120.0 sum(y)=102.0 len(y)=120\n",
      "\tVALENCE-s13|Acc=0.74167|10-CV=0.69333|STD=0.07424|Time spend=1.428947925567627\n",
      "\tAROUSAL-s14|Acc=0.675|10-CV=0.66667|STD=0.0|Time spend=1.2648608684539795\n",
      "-----WARNING: Model s14 failed to learn: sum(ans)=120.0 sum(y)=81.0 len(y)=120\n",
      "\tVALENCE-s14|Acc=0.74167|10-CV=0.71|STD=0.09195|Time spend=1.3626883029937744\n",
      "\tAROUSAL-s15|Acc=0.65|10-CV=0.56|STD=0.06289|Time spend=1.275477647781372\n",
      "\tVALENCE-s15|Acc=0.76667|10-CV=0.73|STD=0.06574|Time spend=1.3285448551177979\n",
      "\tAROUSAL-s16|Acc=0.65833|10-CV=0.56333|STD=0.0526|Time spend=1.7440478801727295\n",
      "\tVALENCE-s16|Acc=0.69167|10-CV=0.68|STD=0.03055|Time spend=1.8115417957305908\n",
      "\tAROUSAL-s17|Acc=0.725|10-CV=0.61333|STD=0.07024|Time spend=1.3354263305664062\n",
      "\tVALENCE-s17|Acc=0.55|10-CV=0.53|STD=0.01|Time spend=1.4189274311065674\n",
      "-----WARNING: Model s17 failed to learn: sum(ans)=120.0 sum(y)=66.0 len(y)=120\n",
      "\tAROUSAL-s18|Acc=0.63333|10-CV=0.63|STD=0.01|Time spend=1.8898742198944092\n",
      "\tVALENCE-s18|Acc=0.775|10-CV=0.72667|STD=0.04422|Time spend=1.9651989936828613\n",
      "\tAROUSAL-s19|Acc=0.71667|10-CV=0.63667|STD=0.02769|Time spend=1.050785779953003\n",
      "\tVALENCE-s19|Acc=0.75|10-CV=0.64333|STD=0.04485|Time spend=1.1059696674346924\n",
      "\tAROUSAL-s20|Acc=0.775|10-CV=0.76667|STD=0.0|Time spend=1.2331490516662598\n",
      "-----WARNING: Model s20 failed to learn: sum(ans)=120.0 sum(y)=93.0 len(y)=120\n",
      "\tVALENCE-s20|Acc=0.70833|10-CV=0.61667|STD=0.05821|Time spend=1.3176119327545166\n",
      "\tAROUSAL-s21|Acc=0.8|10-CV=0.8|STD=0.0|Time spend=1.811098337173462\n",
      "-----WARNING: Model s21 failed to learn: sum(ans)=120.0 sum(y)=96.0 len(y)=120\n",
      "\tVALENCE-s21|Acc=0.61667|10-CV=0.60667|STD=0.05925|Time spend=1.878521203994751\n",
      "\tAROUSAL-s22|Acc=0.6|10-CV=0.58333|STD=0.02687|Time spend=1.400075912475586\n",
      "-----WARNING: Model s22 failed to learn: sum(ans)=120.0 sum(y)=72.0 len(y)=120\n",
      "\tVALENCE-s22|Acc=0.59167|10-CV=0.51667|STD=0.03416|Time spend=1.4532463550567627\n",
      "\tAROUSAL-s23|Acc=0.75|10-CV=0.75333|STD=0.01633|Time spend=1.027803897857666\n",
      "-----WARNING: Model s23 failed to learn: sum(ans)=0.0 sum(y)=30.0 len(y)=120\n",
      "\tVALENCE-s23|Acc=0.65|10-CV=0.62667|STD=0.01333|Time spend=1.1050121784210205\n",
      "-----WARNING: Model s23 failed to learn: sum(ans)=120.0 sum(y)=78.0 len(y)=120\n",
      "\tAROUSAL-s24|Acc=0.825|10-CV=0.83333|STD=0.0|Time spend=1.1724226474761963\n",
      "-----WARNING: Model s24 failed to learn: sum(ans)=120.0 sum(y)=99.0 len(y)=120\n",
      "\tVALENCE-s24|Acc=0.64167|10-CV=0.54667|STD=0.04269|Time spend=1.2308809757232666\n",
      "\tAROUSAL-s25|Acc=0.725|10-CV=0.73333|STD=0.0|Time spend=1.0269525051116943\n",
      "-----WARNING: Model s25 failed to learn: sum(ans)=120.0 sum(y)=87.0 len(y)=120\n",
      "\tVALENCE-s25|Acc=0.675|10-CV=0.56667|STD=0.06667|Time spend=1.0920279026031494\n",
      "\tAROUSAL-s26|Acc=0.69167|10-CV=0.58667|STD=0.04989|Time spend=1.3434040546417236\n",
      "\tVALENCE-s26|Acc=0.65|10-CV=0.63333|STD=0.0|Time spend=1.409127950668335\n",
      "-----WARNING: Model s26 failed to learn: sum(ans)=120.0 sum(y)=78.0 len(y)=120\n",
      "\tAROUSAL-s27|Acc=0.74167|10-CV=0.68|STD=0.04522|Time spend=0.9808595180511475\n",
      "\tVALENCE-s27|Acc=0.79167|10-CV=0.76333|STD=0.0348|Time spend=1.0434694290161133\n",
      "\tAROUSAL-s28|Acc=0.60833|10-CV=0.52667|STD=0.02494|Time spend=1.356421947479248\n",
      "\tVALENCE-s28|Acc=0.625|10-CV=0.63333|STD=0.0|Time spend=1.421644687652588\n",
      "-----WARNING: Model s28 failed to learn: sum(ans)=120.0 sum(y)=75.0 len(y)=120\n",
      "\tAROUSAL-s29|Acc=0.71667|10-CV=0.66|STD=0.05333|Time spend=1.1330621242523193\n",
      "\tVALENCE-s29|Acc=0.71667|10-CV=0.67333|STD=0.0786|Time spend=1.2022533416748047\n",
      "\tAROUSAL-s30|Acc=0.66667|10-CV=0.59|STD=0.08035|Time spend=1.219327688217163\n",
      "\tVALENCE-s30|Acc=0.675|10-CV=0.66|STD=0.02|Time spend=1.27724289894104\n",
      "-----WARNING: Model s30 failed to learn: sum(ans)=120.0 sum(y)=81.0 len(y)=120\n",
      "\tAROUSAL-s31|Acc=0.7|10-CV=0.60333|STD=0.06403|Time spend=1.0930094718933105\n",
      "\tVALENCE-s31|Acc=0.575|10-CV=0.56667|STD=0.0|Time spend=1.1657588481903076\n",
      "-----WARNING: Model s31 failed to learn: sum(ans)=120.0 sum(y)=69.0 len(y)=120\n",
      "\tAROUSAL-s32|Acc=0.71667|10-CV=0.65667|STD=0.01528|Time spend=1.2205579280853271\n",
      "\tVALENCE-s32|Acc=0.75|10-CV=0.69333|STD=0.07572|Time spend=1.2741060256958008\n",
      "AROUSAL|Acc=0.7|10-CV=0.6543749999999999|STD=0.030982829948188177\n",
      "VALENCE|Acc=0.6817708333333334|10-CV=0.6413541666666667|STD=0.042181557492187216\n",
      "TOTAL|Acc=0.6908854166666665|10-CV=0.6478645833333334|STD=0.03658219372018769\n"
     ]
    }
   ],
   "source": [
    "for text in reports:\n",
    "    if(text == None): continue\n",
    "    print(text)\n",
    "\n",
    "accs.extend(accs_v)\n",
    "cv_means.extend(cv_means_v)\n",
    "cv_stds.extend(cv_stds_v)\n",
    "print(f\"TOTAL|Acc={sum(accs)/len(accs)}|10-CV={sum(cv_means)/len(cv_means)}|STD={sum(cv_stds)/len(cv_stds)}\")"
   ]
  },
  {
   "cell_type": "markdown",
   "metadata": {},
   "source": [
    "### 4.3 $ \\text{PLV}(j,k) = \\frac{1}{T} | \\Sigma^{T}_{t=1} e^{i(\\phi^{t}_{j} - \\phi^{t}_{k})}   | $"
   ]
  },
  {
   "cell_type": "code",
   "execution_count": 13,
   "metadata": {},
   "outputs": [],
   "source": [
    "# bands = [(0,4), (4,8), (8,12), (12,30), (30,64)]\n",
    "def calculate_stft(signals, sfreq):\n",
    "    from scipy import signal\n",
    "    f_range, t_range, Z = signal.stft(signals, sfreq, nperseg=sfreq//10, nfft=sfreq)\n",
    "    magnitude = np.abs(Z) \n",
    "    phase = np.angle(Z)\n",
    "    return magnitude, phase, f_range, t_range\n",
    "\n",
    "def PLV_stft(p_id, phase):\n",
    "    # (32, 65, 12) => (channels, freqs, times)\n",
    "    # print(f\"p_id:{p_id} - data to run {phase.shape}\")\n",
    "    print(phase.shape)\n",
    "    from itertools import combinations\n",
    "    plv = []\n",
    "    # count = 0\n",
    "    for index in range(phase.shape[0]):\n",
    "        plv_epoch = []\n",
    "        for comb in combinations(list(range(phase.shape[1])), 2):\n",
    "            # shape = (65,12)\n",
    "            phase_a, phase_b = phase[index, comb[0]], phase[index, comb[1]]\n",
    "            phase_diff = phase_a - phase_b\n",
    "            # sum along the time size\n",
    "            plv_ab = np.abs(np.average(np.exp(complex(0,1) * phase_diff), axis=1))\n",
    "            plv_epoch.append(plv_ab)\n",
    "        plv_epoch = np.vstack(plv_epoch)\n",
    "        # print(plv_epoch.shape) => (300, 32, 65, 23)\n",
    "        plv_epoch_5 = np.concatenate([ plv_epoch[:,0:4].mean(axis=1).reshape(-1,1),\n",
    "                                        plv_epoch[:,4:8].mean(axis=1).reshape(-1,1),\n",
    "                                        plv_epoch[:,8:12].mean(axis=1).reshape(-1,1),\n",
    "                                        plv_epoch[:,12:30].mean(axis=1).reshape(-1,1),\n",
    "                                        plv_epoch[:,30:65].mean(axis=1).reshape(-1,1)], axis=0)\n",
    "        plv.append(np.expand_dims(plv_epoch_5, axis=0))\n",
    "        # count += 1\n",
    "        # if(count == 3): break\n",
    "    # shape (496, 65)\n",
    "    # 496 is number of pairs that is not duplicate\n",
    "    # 65 is number of phase of frequencies\n",
    "    plv = np.vstack( plv )\n",
    "    return plv.squeeze()\n",
    "\n",
    "def calculate_plv(data, n_jobs=8):\n",
    "    \"\"\" \n",
    "    Input: Expect data to have (n_epochs, n_channels, n_samples)\n",
    "    Output: (n_epochs, n_conn, n_freqs ) => n_conn = n_channels!/(2!(n_channels-2)!)\n",
    "    \"\"\"\n",
    "    from multiprocessing import Pool\n",
    "\n",
    "    try:\n",
    "        t_out = 60000\n",
    "        pool = Pool()\n",
    "        p_list = []\n",
    "        ans_list = []\n",
    "        num_p = n_jobs\n",
    "        indices = np.array_split(np.arange(data.shape[0]), num_p)\n",
    "        _, phase, _, _ = calculate_stft(data, 128)\n",
    "        for p_id in range(num_p):\n",
    "            p_list.append(pool.apply_async(PLV_stft, [p_id, phase[indices[p_id]] ]))\n",
    "        for p_id in range(num_p):\n",
    "            ans_list.append( p_list[p_id].get(timeout=t_out) )\n",
    "        # ans_list\n",
    "    finally:\n",
    "        print(\"========= close ========\")\n",
    "        pool.close() \n",
    "        pool.terminate()\n",
    "    return np.vstack(ans_list)\n"
   ]
  },
  {
   "cell_type": "code",
   "execution_count": 14,
   "metadata": {},
   "outputs": [
    {
     "data": {
      "application/vnd.jupyter.widget-view+json": {
       "model_id": "d6bf2850dce3469ea86106d1417e8367",
       "version_major": 2,
       "version_minor": 0
      },
      "text/plain": [
       "  0%|          | 0/32 [00:00<?, ?it/s]"
      ]
     },
     "metadata": {},
     "output_type": "display_data"
    },
    {
     "name": "stdout",
     "output_type": "stream",
     "text": [
      "Fitted sphere radius:         95.3 mm\n",
      "Origin head coordinates:      -0.8 15.1 45.3 mm\n",
      "Origin device coordinates:    -0.8 15.1 45.3 mm\n",
      "(15, 32, 65, 428)\n",
      "(15, 32, 65, 428)\n",
      "(15, 32, 65, 428)\n",
      "(15, 32, 65, 428)\n",
      "(15, 32, 65, 428)\n",
      "(15, 32, 65, 428)\n",
      "(15, 32, 65, 428)\n",
      "(15, 32, 65, 428)\n",
      "========= close ========\n",
      "\tAROUSAL-s01|Acc=0.76667|10-CV=0.6|STD=0.04944|Time spend=25.278510093688965\n",
      "\tVALENCE-s01|Acc=0.74167|10-CV=0.63667|STD=0.07667|Time spend=25.552942752838135\n",
      "Fitted sphere radius:         95.3 mm\n",
      "Origin head coordinates:      -0.8 15.1 45.3 mm\n",
      "Origin device coordinates:    -0.8 15.1 45.3 mm\n",
      "(15, 32, 65, 428)\n",
      "(15, 32, 65, 428)\n",
      "(15, 32, 65, 428)\n",
      "(15, 32, 65, 428)\n",
      "(15, 32, 65, 428)\n",
      "(15, 32, 65, 428)\n",
      "(15, 32, 65, 428)\n",
      "(15, 32, 65, 428)\n",
      "========= close ========\n",
      "\tAROUSAL-s02|Acc=0.69167|10-CV=0.61667|STD=0.02236|Time spend=18.955332279205322\n",
      "\tVALENCE-s02|Acc=0.74167|10-CV=0.69333|STD=0.06799|Time spend=19.16702151298523\n",
      "Fitted sphere radius:         95.3 mm\n",
      "Origin head coordinates:      -0.8 15.1 45.3 mm\n",
      "Origin device coordinates:    -0.8 15.1 45.3 mm\n",
      "(15, 32, 65, 428)\n",
      "(15, 32, 65, 428)\n",
      "(15, 32, 65, 428)\n",
      "(15, 32, 65, 428)\n",
      "(15, 32, 65, 428)\n",
      "(15, 32, 65, 428)\n",
      "(15, 32, 65, 428)\n",
      "(15, 32, 65, 428)\n",
      "========= close ========\n",
      "\tAROUSAL-s03|Acc=0.8|10-CV=0.8|STD=0.0|Time spend=17.475910902023315\n",
      "\tVALENCE-s03|Acc=0.73333|10-CV=0.56667|STD=0.04714|Time spend=17.742969751358032\n",
      "Fitted sphere radius:         95.3 mm\n",
      "Origin head coordinates:      -0.8 15.1 45.3 mm\n",
      "Origin device coordinates:    -0.8 15.1 45.3 mm\n",
      "(15, 32, 65, 428)\n",
      "(15, 32, 65, 428)\n",
      "(15, 32, 65, 428)\n",
      "(15, 32, 65, 428)\n",
      "(15, 32, 65, 428)\n",
      "(15, 32, 65, 428)\n",
      "(15, 32, 65, 428)\n",
      "(15, 32, 65, 428)\n",
      "========= close ========\n",
      "\tAROUSAL-s04|Acc=0.725|10-CV=0.6|STD=0.02582|Time spend=19.260356903076172\n",
      "\tVALENCE-s04|Acc=0.75|10-CV=0.71|STD=0.07157|Time spend=19.526955366134644\n",
      "Fitted sphere radius:         95.3 mm\n",
      "Origin head coordinates:      -0.8 15.1 45.3 mm\n",
      "Origin device coordinates:    -0.8 15.1 45.3 mm\n",
      "(15, 32, 65, 428)\n",
      "(15, 32, 65, 428)\n",
      "(15, 32, 65, 428)\n",
      "(15, 32, 65, 428)\n",
      "(15, 32, 65, 428)\n",
      "(15, 32, 65, 428)\n",
      "(15, 32, 65, 428)\n",
      "(15, 32, 65, 428)\n",
      "========= close ========\n",
      "\tAROUSAL-s05|Acc=0.66667|10-CV=0.59667|STD=0.10899|Time spend=17.832380056381226\n",
      "\tVALENCE-s05|Acc=0.6|10-CV=0.6|STD=0.0|Time spend=18.025920152664185\n",
      "Fitted sphere radius:         95.3 mm\n",
      "Origin head coordinates:      -0.8 15.1 45.3 mm\n",
      "Origin device coordinates:    -0.8 15.1 45.3 mm\n",
      "(15, 32, 65, 428)\n",
      "(15, 32, 65, 428)\n",
      "(15, 32, 65, 428)\n",
      "(15, 32, 65, 428)\n",
      "(15, 32, 65, 428)\n",
      "(15, 32, 65, 428)\n",
      "(15, 32, 65, 428)\n",
      "(15, 32, 65, 428)\n",
      "========= close ========\n",
      "\tAROUSAL-s06|Acc=0.60833|10-CV=0.56|STD=0.0359|Time spend=17.098912477493286\n",
      "\tVALENCE-s06|Acc=0.75|10-CV=0.75|STD=0.01667|Time spend=17.30394434928894\n",
      "Fitted sphere radius:         95.3 mm\n",
      "Origin head coordinates:      -0.8 15.1 45.3 mm\n",
      "Origin device coordinates:    -0.8 15.1 45.3 mm\n",
      "(15, 32, 65, 428)\n",
      "(15, 32, 65, 428)\n",
      "(15, 32, 65, 428)\n",
      "(15, 32, 65, 428)\n",
      "(15, 32, 65, 428)\n",
      "(15, 32, 65, 428)\n",
      "(15, 32, 65, 428)\n",
      "(15, 32, 65, 428)\n",
      "========= close ========\n",
      "\tAROUSAL-s07|Acc=0.69167|10-CV=0.65667|STD=0.0423|Time spend=20.0266375541687\n",
      "\tVALENCE-s07|Acc=0.71667|10-CV=0.69333|STD=0.01333|Time spend=20.249036073684692\n",
      "Fitted sphere radius:         95.3 mm\n",
      "Origin head coordinates:      -0.8 15.1 45.3 mm\n",
      "Origin device coordinates:    -0.8 15.1 45.3 mm\n",
      "(15, 32, 65, 428)\n",
      "(15, 32, 65, 428)\n",
      "(15, 32, 65, 428)\n",
      "(15, 32, 65, 428)\n",
      "(15, 32, 65, 428)\n",
      "(15, 32, 65, 428)\n",
      "(15, 32, 65, 428)\n",
      "(15, 32, 65, 428)\n",
      "========= close ========\n",
      "\tAROUSAL-s08|Acc=0.725|10-CV=0.58667|STD=0.05812|Time spend=17.156755685806274\n",
      "\tVALENCE-s08|Acc=0.76667|10-CV=0.71|STD=0.07753|Time spend=17.409886598587036\n",
      "Fitted sphere radius:         95.3 mm\n",
      "Origin head coordinates:      -0.8 15.1 45.3 mm\n",
      "Origin device coordinates:    -0.8 15.1 45.3 mm\n",
      "(15, 32, 65, 428)\n",
      "(15, 32, 65, 428)\n",
      "(15, 32, 65, 428)\n",
      "(15, 32, 65, 428)\n",
      "(15, 32, 65, 428)\n",
      "(15, 32, 65, 428)\n",
      "(15, 32, 65, 428)\n",
      "(15, 32, 65, 428)\n",
      "========= close ========\n",
      "\tAROUSAL-s09|Acc=0.66667|10-CV=0.63333|STD=0.03944|Time spend=16.067188262939453\n",
      "\tVALENCE-s09|Acc=0.8|10-CV=0.77|STD=0.06227|Time spend=16.308109760284424\n",
      "Fitted sphere radius:         95.3 mm\n",
      "Origin head coordinates:      -0.8 15.1 45.3 mm\n",
      "Origin device coordinates:    -0.8 15.1 45.3 mm\n",
      "(15, 32, 65, 428)\n",
      "(15, 32, 65, 428)\n",
      "(15, 32, 65, 428)\n",
      "(15, 32, 65, 428)\n",
      "(15, 32, 65, 428)\n",
      "(15, 32, 65, 428)\n",
      "(15, 32, 65, 428)\n",
      "(15, 32, 65, 428)\n",
      "========= close ========\n",
      "\tAROUSAL-s10|Acc=0.725|10-CV=0.66|STD=0.05735|Time spend=17.483723402023315\n",
      "\tVALENCE-s10|Acc=0.83333|10-CV=0.75667|STD=0.0895|Time spend=17.689735174179077\n",
      "Fitted sphere radius:         95.3 mm\n",
      "Origin head coordinates:      -0.8 15.1 45.3 mm\n",
      "Origin device coordinates:    -0.8 15.1 45.3 mm\n",
      "(15, 32, 65, 428)\n",
      "(15, 32, 65, 428)\n",
      "(15, 32, 65, 428)\n",
      "(15, 32, 65, 428)\n",
      "(15, 32, 65, 428)\n",
      "(15, 32, 65, 428)\n",
      "(15, 32, 65, 428)\n",
      "(15, 32, 65, 428)\n",
      "========= close ========\n",
      "\tAROUSAL-s11|Acc=0.625|10-CV=0.63333|STD=0.0|Time spend=15.943296670913696\n",
      "\tVALENCE-s11|Acc=0.7|10-CV=0.64333|STD=0.0335|Time spend=16.158870935440063\n",
      "Fitted sphere radius:         95.3 mm\n",
      "Origin head coordinates:      -0.8 15.1 45.3 mm\n",
      "Origin device coordinates:    -0.8 15.1 45.3 mm\n",
      "(15, 32, 65, 428)\n",
      "(15, 32, 65, 428)\n",
      "(15, 32, 65, 428)\n",
      "(15, 32, 65, 428)\n",
      "(15, 32, 65, 428)\n",
      "(15, 32, 65, 428)\n",
      "(15, 32, 65, 428)\n",
      "(15, 32, 65, 428)\n",
      "========= close ========\n",
      "\tAROUSAL-s12|Acc=0.825|10-CV=0.83333|STD=0.0|Time spend=16.292055130004883\n",
      "\tVALENCE-s12|Acc=0.61667|10-CV=0.60667|STD=0.05735|Time spend=16.50018620491028\n",
      "Fitted sphere radius:         95.3 mm\n",
      "Origin head coordinates:      -0.8 15.1 45.3 mm\n",
      "Origin device coordinates:    -0.8 15.1 45.3 mm\n",
      "(15, 32, 65, 428)\n",
      "(15, 32, 65, 428)\n",
      "(15, 32, 65, 428)\n",
      "(15, 32, 65, 428)\n",
      "(15, 32, 65, 428)\n",
      "(15, 32, 65, 428)\n",
      "(15, 32, 65, 428)\n",
      "(15, 32, 65, 428)\n",
      "========= close ========\n",
      "\tAROUSAL-s13|Acc=0.85|10-CV=0.86|STD=0.01333|Time spend=16.27733278274536\n",
      "\tVALENCE-s13|Acc=0.80833|10-CV=0.82333|STD=0.03667|Time spend=16.4917414188385\n",
      "Fitted sphere radius:         95.3 mm\n",
      "Origin head coordinates:      -0.8 15.1 45.3 mm\n",
      "Origin device coordinates:    -0.8 15.1 45.3 mm\n",
      "(15, 32, 65, 428)\n",
      "(15, 32, 65, 428)\n",
      "(15, 32, 65, 428)\n",
      "(15, 32, 65, 428)\n",
      "(15, 32, 65, 428)\n",
      "(15, 32, 65, 428)\n",
      "(15, 32, 65, 428)\n",
      "(15, 32, 65, 428)\n",
      "========= close ========\n",
      "\tAROUSAL-s14|Acc=0.675|10-CV=0.66667|STD=0.0|Time spend=15.729658842086792\n",
      "\tVALENCE-s14|Acc=0.76667|10-CV=0.74667|STD=0.05617|Time spend=15.95109486579895\n",
      "Fitted sphere radius:         95.3 mm\n",
      "Origin head coordinates:      -0.8 15.1 45.3 mm\n",
      "Origin device coordinates:    -0.8 15.1 45.3 mm\n",
      "(15, 32, 65, 428)\n",
      "(15, 32, 65, 428)\n",
      "(15, 32, 65, 428)\n",
      "(15, 32, 65, 428)\n",
      "(15, 32, 65, 428)\n",
      "(15, 32, 65, 428)\n",
      "(15, 32, 65, 428)\n",
      "(15, 32, 65, 428)\n",
      "========= close ========\n",
      "\tAROUSAL-s15|Acc=0.69167|10-CV=0.62|STD=0.067|Time spend=15.935031652450562\n",
      "\tVALENCE-s15|Acc=0.89167|10-CV=0.84|STD=0.05333|Time spend=16.268325567245483\n",
      "Fitted sphere radius:         95.3 mm\n",
      "Origin head coordinates:      -0.8 15.1 45.3 mm\n",
      "Origin device coordinates:    -0.8 15.1 45.3 mm\n",
      "(15, 32, 65, 428)\n",
      "(15, 32, 65, 428)\n",
      "(15, 32, 65, 428)\n",
      "(15, 32, 65, 428)\n",
      "(15, 32, 65, 428)\n",
      "(15, 32, 65, 428)\n",
      "(15, 32, 65, 428)\n",
      "(15, 32, 65, 428)\n",
      "========= close ========\n",
      "\tAROUSAL-s16|Acc=0.7|10-CV=0.65|STD=0.07782|Time spend=16.29301118850708\n",
      "\tVALENCE-s16|Acc=0.70833|10-CV=0.71333|STD=0.04761|Time spend=16.49915337562561\n",
      "Fitted sphere radius:         95.3 mm\n",
      "Origin head coordinates:      -0.8 15.1 45.3 mm\n",
      "Origin device coordinates:    -0.8 15.1 45.3 mm\n",
      "(15, 32, 65, 428)\n",
      "(15, 32, 65, 428)\n",
      "(15, 32, 65, 428)\n",
      "(15, 32, 65, 428)\n",
      "(15, 32, 65, 428)\n",
      "(15, 32, 65, 428)\n",
      "(15, 32, 65, 428)\n",
      "(15, 32, 65, 428)\n",
      "========= close ========\n",
      "\tAROUSAL-s17|Acc=0.79167|10-CV=0.72667|STD=0.07717|Time spend=16.429595232009888\n",
      "\tVALENCE-s17|Acc=0.625|10-CV=0.57333|STD=0.05925|Time spend=16.789958000183105\n",
      "Fitted sphere radius:         95.3 mm\n",
      "Origin head coordinates:      -0.8 15.1 45.3 mm\n",
      "Origin device coordinates:    -0.8 15.1 45.3 mm\n",
      "(15, 32, 65, 428)\n",
      "(15, 32, 65, 428)\n",
      "(15, 32, 65, 428)\n",
      "(15, 32, 65, 428)\n",
      "(15, 32, 65, 428)\n",
      "(15, 32, 65, 428)\n",
      "(15, 32, 65, 428)\n",
      "(15, 32, 65, 428)\n",
      "========= close ========\n",
      "\tAROUSAL-s18|Acc=0.625|10-CV=0.63333|STD=0.0|Time spend=16.44343590736389\n",
      "\tVALENCE-s18|Acc=0.81667|10-CV=0.81667|STD=0.0654|Time spend=16.642382621765137\n",
      "Fitted sphere radius:         95.3 mm\n",
      "Origin head coordinates:      -0.8 15.1 45.3 mm\n",
      "Origin device coordinates:    -0.8 15.1 45.3 mm\n",
      "(15, 32, 65, 428)\n",
      "(15, 32, 65, 428)\n",
      "(15, 32, 65, 428)\n",
      "(15, 32, 65, 428)\n",
      "(15, 32, 65, 428)\n",
      "(15, 32, 65, 428)\n",
      "(15, 32, 65, 428)\n",
      "(15, 32, 65, 428)\n",
      "========= close ========\n",
      "\tAROUSAL-s19|Acc=0.775|10-CV=0.67333|STD=0.02|Time spend=16.148138284683228\n",
      "\tVALENCE-s19|Acc=0.725|10-CV=0.71333|STD=0.06|Time spend=16.368112087249756\n",
      "Fitted sphere radius:         95.3 mm\n",
      "Origin head coordinates:      -0.8 15.1 45.3 mm\n",
      "Origin device coordinates:    -0.8 15.1 45.3 mm\n",
      "(15, 32, 65, 428)\n",
      "(15, 32, 65, 428)\n",
      "(15, 32, 65, 428)\n",
      "(15, 32, 65, 428)\n",
      "(15, 32, 65, 428)\n",
      "(15, 32, 65, 428)\n",
      "(15, 32, 65, 428)\n",
      "(15, 32, 65, 428)\n",
      "========= close ========\n",
      "\tAROUSAL-s20|Acc=0.775|10-CV=0.76667|STD=0.0|Time spend=15.892464399337769\n",
      "\tVALENCE-s20|Acc=0.80833|10-CV=0.74667|STD=0.06182|Time spend=16.100192308425903\n",
      "Fitted sphere radius:         95.3 mm\n",
      "Origin head coordinates:      -0.8 15.1 45.3 mm\n",
      "Origin device coordinates:    -0.8 15.1 45.3 mm\n",
      "(15, 32, 65, 428)\n",
      "(15, 32, 65, 428)\n",
      "(15, 32, 65, 428)\n",
      "(15, 32, 65, 428)\n",
      "(15, 32, 65, 428)\n",
      "(15, 32, 65, 428)\n",
      "(15, 32, 65, 428)\n",
      "(15, 32, 65, 428)\n",
      "========= close ========\n",
      "\tAROUSAL-s21|Acc=0.8|10-CV=0.8|STD=0.0|Time spend=15.508589029312134\n",
      "\tVALENCE-s21|Acc=0.65833|10-CV=0.53333|STD=0.04714|Time spend=15.805342674255371\n",
      "Fitted sphere radius:         95.3 mm\n",
      "Origin head coordinates:      -0.8 15.1 45.3 mm\n",
      "Origin device coordinates:    -0.8 15.1 45.3 mm\n",
      "(15, 32, 65, 428)\n",
      "(15, 32, 65, 428)\n",
      "(15, 32, 65, 428)\n",
      "(15, 32, 65, 428)\n",
      "(15, 32, 65, 428)\n",
      "(15, 32, 65, 428)\n",
      "(15, 32, 65, 428)\n",
      "(15, 32, 65, 428)\n",
      "========= close ========\n",
      "\tAROUSAL-s22|Acc=0.60833|10-CV=0.60333|STD=0.01|Time spend=14.907252788543701\n",
      "\tVALENCE-s22|Acc=0.74167|10-CV=0.7|STD=0.06992|Time spend=15.115738868713379\n",
      "Fitted sphere radius:         95.3 mm\n",
      "Origin head coordinates:      -0.8 15.1 45.3 mm\n",
      "Origin device coordinates:    -0.8 15.1 45.3 mm\n",
      "(15, 32, 65, 428)\n",
      "(15, 32, 65, 428)\n",
      "(15, 32, 65, 428)\n",
      "(15, 32, 65, 428)\n",
      "(15, 32, 65, 428)\n",
      "(15, 32, 65, 428)\n",
      "(15, 32, 65, 428)\n",
      "(15, 32, 65, 428)\n",
      "========= close ========\n",
      "\tAROUSAL-s23|Acc=0.75|10-CV=0.75333|STD=0.01633|Time spend=15.541131496429443\n",
      "\tVALENCE-s23|Acc=0.65|10-CV=0.63333|STD=0.0|Time spend=15.746826648712158\n",
      "Fitted sphere radius:         95.3 mm\n",
      "Origin head coordinates:      -0.8 15.1 45.3 mm\n",
      "Origin device coordinates:    -0.8 15.1 45.3 mm\n",
      "(15, 32, 65, 428)\n",
      "(15, 32, 65, 428)\n",
      "(15, 32, 65, 428)\n",
      "(15, 32, 65, 428)\n",
      "(15, 32, 65, 428)\n",
      "(15, 32, 65, 428)\n",
      "(15, 32, 65, 428)\n",
      "(15, 32, 65, 428)\n",
      "========= close ========\n",
      "\tAROUSAL-s24|Acc=0.825|10-CV=0.83333|STD=0.0|Time spend=16.57570505142212\n",
      "\tVALENCE-s24|Acc=0.78333|10-CV=0.72333|STD=0.07461|Time spend=16.784382820129395\n",
      "Fitted sphere radius:         95.3 mm\n",
      "Origin head coordinates:      -0.8 15.1 45.3 mm\n",
      "Origin device coordinates:    -0.8 15.1 45.3 mm\n",
      "(15, 32, 65, 428)\n",
      "(15, 32, 65, 428)\n",
      "(15, 32, 65, 428)\n",
      "(15, 32, 65, 428)\n",
      "(15, 32, 65, 428)\n",
      "(15, 32, 65, 428)\n",
      "(15, 32, 65, 428)\n",
      "(15, 32, 65, 428)\n",
      "========= close ========\n",
      "\tAROUSAL-s25|Acc=0.725|10-CV=0.73333|STD=0.0|Time spend=16.98401117324829\n",
      "\tVALENCE-s25|Acc=0.625|10-CV=0.53333|STD=0.02981|Time spend=17.315260648727417\n",
      "Fitted sphere radius:         95.3 mm\n",
      "Origin head coordinates:      -0.8 15.1 45.3 mm\n",
      "Origin device coordinates:    -0.8 15.1 45.3 mm\n",
      "(15, 32, 65, 428)\n",
      "(15, 32, 65, 428)\n",
      "(15, 32, 65, 428)\n",
      "(15, 32, 65, 428)\n",
      "(15, 32, 65, 428)\n",
      "(15, 32, 65, 428)\n",
      "(15, 32, 65, 428)\n",
      "(15, 32, 65, 428)\n",
      "========= close ========\n",
      "\tAROUSAL-s26|Acc=0.66667|10-CV=0.59|STD=0.04955|Time spend=15.953983306884766\n",
      "\tVALENCE-s26|Acc=0.65|10-CV=0.63333|STD=0.0|Time spend=16.254178762435913\n",
      "Fitted sphere radius:         95.3 mm\n",
      "Origin head coordinates:      -0.8 15.1 45.3 mm\n",
      "Origin device coordinates:    -0.8 15.1 45.3 mm\n",
      "(15, 32, 65, 428)\n",
      "(15, 32, 65, 428)\n",
      "(15, 32, 65, 428)\n",
      "(15, 32, 65, 428)\n",
      "(15, 32, 65, 428)\n",
      "(15, 32, 65, 428)\n",
      "(15, 32, 65, 428)\n",
      "(15, 32, 65, 428)\n",
      "========= close ========\n",
      "\tAROUSAL-s27|Acc=0.75833|10-CV=0.67667|STD=0.03958|Time spend=16.288286685943604\n",
      "\tVALENCE-s27|Acc=0.75|10-CV=0.75|STD=0.01667|Time spend=16.604386568069458\n",
      "Fitted sphere radius:         95.3 mm\n",
      "Origin head coordinates:      -0.8 15.1 45.3 mm\n",
      "Origin device coordinates:    -0.8 15.1 45.3 mm\n",
      "(15, 32, 65, 428)\n",
      "(15, 32, 65, 428)\n",
      "(15, 32, 65, 428)\n",
      "(15, 32, 65, 428)\n",
      "(15, 32, 65, 428)\n",
      "(15, 32, 65, 428)\n",
      "(15, 32, 65, 428)\n",
      "(15, 32, 65, 428)\n",
      "========= close ========\n",
      "\tAROUSAL-s28|Acc=0.55|10-CV=0.52333|STD=0.01528|Time spend=15.143430709838867\n",
      "\tVALENCE-s28|Acc=0.625|10-CV=0.63333|STD=0.0|Time spend=15.35344672203064\n",
      "Fitted sphere radius:         95.3 mm\n",
      "Origin head coordinates:      -0.8 15.1 45.3 mm\n",
      "Origin device coordinates:    -0.8 15.1 45.3 mm\n",
      "(15, 32, 65, 428)\n",
      "(15, 32, 65, 428)\n",
      "(15, 32, 65, 428)\n",
      "(15, 32, 65, 428)\n",
      "(15, 32, 65, 428)\n",
      "(15, 32, 65, 428)\n",
      "(15, 32, 65, 428)\n",
      "(15, 32, 65, 428)\n",
      "========= close ========\n",
      "\tAROUSAL-s29|Acc=0.70833|10-CV=0.65|STD=0.04773|Time spend=15.869550943374634\n",
      "\tVALENCE-s29|Acc=0.725|10-CV=0.68333|STD=0.08596|Time spend=16.136447429656982\n",
      "Fitted sphere radius:         95.3 mm\n",
      "Origin head coordinates:      -0.8 15.1 45.3 mm\n",
      "Origin device coordinates:    -0.8 15.1 45.3 mm\n",
      "(15, 32, 65, 428)\n",
      "(15, 32, 65, 428)\n",
      "(15, 32, 65, 428)\n",
      "(15, 32, 65, 428)\n",
      "(15, 32, 65, 428)\n",
      "(15, 32, 65, 428)\n",
      "(15, 32, 65, 428)\n",
      "(15, 32, 65, 428)\n",
      "========= close ========\n",
      "\tAROUSAL-s30|Acc=0.65|10-CV=0.56333|STD=0.09|Time spend=16.70969533920288\n",
      "\tVALENCE-s30|Acc=0.675|10-CV=0.66667|STD=0.0|Time spend=16.92407488822937\n",
      "Fitted sphere radius:         95.3 mm\n",
      "Origin head coordinates:      -0.8 15.1 45.3 mm\n",
      "Origin device coordinates:    -0.8 15.1 45.3 mm\n",
      "(15, 32, 65, 428)\n",
      "(15, 32, 65, 428)\n",
      "(15, 32, 65, 428)\n",
      "(15, 32, 65, 428)\n",
      "(15, 32, 65, 428)\n",
      "(15, 32, 65, 428)\n",
      "(15, 32, 65, 428)\n",
      "(15, 32, 65, 428)\n",
      "========= close ========\n",
      "\tAROUSAL-s31|Acc=0.65|10-CV=0.62667|STD=0.03266|Time spend=16.31109094619751\n",
      "\tVALENCE-s31|Acc=0.65833|10-CV=0.58|STD=0.02667|Time spend=16.581915140151978\n",
      "Fitted sphere radius:         95.3 mm\n",
      "Origin head coordinates:      -0.8 15.1 45.3 mm\n",
      "Origin device coordinates:    -0.8 15.1 45.3 mm\n",
      "(15, 32, 65, 428)\n",
      "(15, 32, 65, 428)\n",
      "(15, 32, 65, 428)\n",
      "(15, 32, 65, 428)\n",
      "(15, 32, 65, 428)\n",
      "(15, 32, 65, 428)\n",
      "(15, 32, 65, 428)\n",
      "(15, 32, 65, 428)\n",
      "========= close ========\n",
      "\tAROUSAL-s32|Acc=0.675|10-CV=0.66667|STD=0.0|Time spend=15.712431192398071\n",
      "\tVALENCE-s32|Acc=0.78333|10-CV=0.69667|STD=0.06227|Time spend=15.914634227752686\n",
      "AROUSAL|Acc=0.7114583333333332|10-CV=0.6685416666666666|STD=0.03112998460768567\n",
      "VALENCE|Acc=0.7257812500000002|10-CV=0.6836458333333332|STD=0.04583864483681766\n"
     ]
    }
   ],
   "source": [
    "accs, cv_means, cv_stds = [],[],[]\n",
    "accs_v, cv_means_v, cv_stds_v = [],[],[]\n",
    "reports = []\n",
    "for filename in (pbar := tqdm(dataset.get_file_list())):\n",
    "    start = time.time()\n",
    "    pbar.set_description(filename)\n",
    "    data, labels, groups = dataset.get_data(filename, stimuli=Dataset_subjectDependent.STIMULI_AROUSAL, return_type='mne', sfreq=128)\n",
    "    \n",
    "    data_csd = mne.preprocessing.compute_current_source_density(data)\n",
    "\n",
    "    plv = calculate_plv(data_csd.get_data(), n_jobs=8)\n",
    "\n",
    "    _,acc,cross,train_report = train_model(plv, labels.squeeze(), groups, filename=filename, return_text=True)\n",
    "    report = f\"\\tAROUSAL-{filename}|Acc={round(acc,5)}|10-CV={round(cross.mean(),5)}|STD={round(cross.std(),5)}|Time spend={time.time() - start}\"\n",
    "    print(report)\n",
    "    reports.append(report)\n",
    "    reports.append(train_report)\n",
    "    accs.append(acc)\n",
    "    cv_means.append(cross.mean())\n",
    "    cv_stds.append(cross.std())\n",
    "\n",
    "    _, labels_v, groups_v = dataset.get_data(filename, stimuli=Dataset_subjectDependent.STIMULI_VALENCE, return_type='mne', sfreq=128)\n",
    "    _,acc,cross,train_report = train_model(plv, labels_v.squeeze(), groups_v, filename=filename, return_text=True)\n",
    "    report = f\"\\tVALENCE-{filename}|Acc={round(acc,5)}|10-CV={round(cross.mean(),5)}|STD={round(cross.std(),5)}|Time spend={time.time() - start}\"\n",
    "    print(report)\n",
    "    reports.append(report)\n",
    "    reports.append(train_report)\n",
    "    accs_v.append(acc)\n",
    "    cv_means_v.append(cross.mean())\n",
    "    cv_stds_v.append(cross.std())\n",
    "    # break\n",
    "    # count+=1\n",
    "    # if(count == 5): break\n",
    "report = f\"AROUSAL|Acc={sum(accs)/len(accs)}|10-CV={sum(cv_means)/len(cv_means)}|STD={sum(cv_stds)/len(cv_stds)}\"\n",
    "print(report)\n",
    "reports.append(report)\n",
    "report = f\"VALENCE|Acc={sum(accs_v)/len(accs_v)}|10-CV={sum(cv_means_v)/len(cv_means_v)}|STD={sum(cv_stds_v)/len(cv_stds_v)}\"\n",
    "print(report)\n",
    "reports.append(report)"
   ]
  },
  {
   "cell_type": "code",
   "execution_count": 15,
   "metadata": {},
   "outputs": [
    {
     "name": "stdout",
     "output_type": "stream",
     "text": [
      "\tAROUSAL-s01|Acc=0.76667|10-CV=0.6|STD=0.04944|Time spend=25.278510093688965\n",
      "\tVALENCE-s01|Acc=0.74167|10-CV=0.63667|STD=0.07667|Time spend=25.552942752838135\n",
      "\tAROUSAL-s02|Acc=0.69167|10-CV=0.61667|STD=0.02236|Time spend=18.955332279205322\n",
      "\tVALENCE-s02|Acc=0.74167|10-CV=0.69333|STD=0.06799|Time spend=19.16702151298523\n",
      "\tAROUSAL-s03|Acc=0.8|10-CV=0.8|STD=0.0|Time spend=17.475910902023315\n",
      "-----WARNING: Model s03 failed to learn: sum(ans)=0.0 sum(y)=24.0 len(y)=120\n",
      "\tVALENCE-s03|Acc=0.73333|10-CV=0.56667|STD=0.04714|Time spend=17.742969751358032\n",
      "\tAROUSAL-s04|Acc=0.725|10-CV=0.6|STD=0.02582|Time spend=19.260356903076172\n",
      "\tVALENCE-s04|Acc=0.75|10-CV=0.71|STD=0.07157|Time spend=19.526955366134644\n",
      "\tAROUSAL-s05|Acc=0.66667|10-CV=0.59667|STD=0.10899|Time spend=17.832380056381226\n",
      "\tVALENCE-s05|Acc=0.6|10-CV=0.6|STD=0.0|Time spend=18.025920152664185\n",
      "-----WARNING: Model s05 failed to learn: sum(ans)=120.0 sum(y)=72.0 len(y)=120\n",
      "\tAROUSAL-s06|Acc=0.60833|10-CV=0.56|STD=0.0359|Time spend=17.098912477493286\n",
      "\tVALENCE-s06|Acc=0.75|10-CV=0.75|STD=0.01667|Time spend=17.30394434928894\n",
      "-----WARNING: Model s06 failed to learn: sum(ans)=120.0 sum(y)=90.0 len(y)=120\n",
      "\tAROUSAL-s07|Acc=0.69167|10-CV=0.65667|STD=0.0423|Time spend=20.0266375541687\n",
      "\tVALENCE-s07|Acc=0.71667|10-CV=0.69333|STD=0.01333|Time spend=20.249036073684692\n",
      "\tAROUSAL-s08|Acc=0.725|10-CV=0.58667|STD=0.05812|Time spend=17.156755685806274\n",
      "\tVALENCE-s08|Acc=0.76667|10-CV=0.71|STD=0.07753|Time spend=17.409886598587036\n",
      "\tAROUSAL-s09|Acc=0.66667|10-CV=0.63333|STD=0.03944|Time spend=16.067188262939453\n",
      "\tVALENCE-s09|Acc=0.8|10-CV=0.77|STD=0.06227|Time spend=16.308109760284424\n",
      "\tAROUSAL-s10|Acc=0.725|10-CV=0.66|STD=0.05735|Time spend=17.483723402023315\n",
      "\tVALENCE-s10|Acc=0.83333|10-CV=0.75667|STD=0.0895|Time spend=17.689735174179077\n",
      "\tAROUSAL-s11|Acc=0.625|10-CV=0.63333|STD=0.0|Time spend=15.943296670913696\n",
      "-----WARNING: Model s11 failed to learn: sum(ans)=0.0 sum(y)=45.0 len(y)=120\n",
      "\tVALENCE-s11|Acc=0.7|10-CV=0.64333|STD=0.0335|Time spend=16.158870935440063\n",
      "\tAROUSAL-s12|Acc=0.825|10-CV=0.83333|STD=0.0|Time spend=16.292055130004883\n",
      "-----WARNING: Model s12 failed to learn: sum(ans)=120.0 sum(y)=99.0 len(y)=120\n",
      "\tVALENCE-s12|Acc=0.61667|10-CV=0.60667|STD=0.05735|Time spend=16.50018620491028\n",
      "\tAROUSAL-s13|Acc=0.85|10-CV=0.86|STD=0.01333|Time spend=16.27733278274536\n",
      "-----WARNING: Model s13 failed to learn: sum(ans)=120.0 sum(y)=102.0 len(y)=120\n",
      "\tVALENCE-s13|Acc=0.80833|10-CV=0.82333|STD=0.03667|Time spend=16.4917414188385\n",
      "\tAROUSAL-s14|Acc=0.675|10-CV=0.66667|STD=0.0|Time spend=15.729658842086792\n",
      "-----WARNING: Model s14 failed to learn: sum(ans)=120.0 sum(y)=81.0 len(y)=120\n",
      "\tVALENCE-s14|Acc=0.76667|10-CV=0.74667|STD=0.05617|Time spend=15.95109486579895\n",
      "\tAROUSAL-s15|Acc=0.69167|10-CV=0.62|STD=0.067|Time spend=15.935031652450562\n",
      "\tVALENCE-s15|Acc=0.89167|10-CV=0.84|STD=0.05333|Time spend=16.268325567245483\n",
      "\tAROUSAL-s16|Acc=0.7|10-CV=0.65|STD=0.07782|Time spend=16.29301118850708\n",
      "\tVALENCE-s16|Acc=0.70833|10-CV=0.71333|STD=0.04761|Time spend=16.49915337562561\n",
      "\tAROUSAL-s17|Acc=0.79167|10-CV=0.72667|STD=0.07717|Time spend=16.429595232009888\n",
      "\tVALENCE-s17|Acc=0.625|10-CV=0.57333|STD=0.05925|Time spend=16.789958000183105\n",
      "\tAROUSAL-s18|Acc=0.625|10-CV=0.63333|STD=0.0|Time spend=16.44343590736389\n",
      "-----WARNING: Model s18 failed to learn: sum(ans)=120.0 sum(y)=75.0 len(y)=120\n",
      "\tVALENCE-s18|Acc=0.81667|10-CV=0.81667|STD=0.0654|Time spend=16.642382621765137\n",
      "\tAROUSAL-s19|Acc=0.775|10-CV=0.67333|STD=0.02|Time spend=16.148138284683228\n",
      "\tVALENCE-s19|Acc=0.725|10-CV=0.71333|STD=0.06|Time spend=16.368112087249756\n",
      "\tAROUSAL-s20|Acc=0.775|10-CV=0.76667|STD=0.0|Time spend=15.892464399337769\n",
      "-----WARNING: Model s20 failed to learn: sum(ans)=120.0 sum(y)=93.0 len(y)=120\n",
      "\tVALENCE-s20|Acc=0.80833|10-CV=0.74667|STD=0.06182|Time spend=16.100192308425903\n",
      "\tAROUSAL-s21|Acc=0.8|10-CV=0.8|STD=0.0|Time spend=15.508589029312134\n",
      "-----WARNING: Model s21 failed to learn: sum(ans)=120.0 sum(y)=96.0 len(y)=120\n",
      "\tVALENCE-s21|Acc=0.65833|10-CV=0.53333|STD=0.04714|Time spend=15.805342674255371\n",
      "\tAROUSAL-s22|Acc=0.60833|10-CV=0.60333|STD=0.01|Time spend=14.907252788543701\n",
      "\tVALENCE-s22|Acc=0.74167|10-CV=0.7|STD=0.06992|Time spend=15.115738868713379\n",
      "\tAROUSAL-s23|Acc=0.75|10-CV=0.75333|STD=0.01633|Time spend=15.541131496429443\n",
      "-----WARNING: Model s23 failed to learn: sum(ans)=0.0 sum(y)=30.0 len(y)=120\n",
      "\tVALENCE-s23|Acc=0.65|10-CV=0.63333|STD=0.0|Time spend=15.746826648712158\n",
      "-----WARNING: Model s23 failed to learn: sum(ans)=120.0 sum(y)=78.0 len(y)=120\n",
      "\tAROUSAL-s24|Acc=0.825|10-CV=0.83333|STD=0.0|Time spend=16.57570505142212\n",
      "-----WARNING: Model s24 failed to learn: sum(ans)=120.0 sum(y)=99.0 len(y)=120\n",
      "\tVALENCE-s24|Acc=0.78333|10-CV=0.72333|STD=0.07461|Time spend=16.784382820129395\n",
      "\tAROUSAL-s25|Acc=0.725|10-CV=0.73333|STD=0.0|Time spend=16.98401117324829\n",
      "-----WARNING: Model s25 failed to learn: sum(ans)=120.0 sum(y)=87.0 len(y)=120\n",
      "\tVALENCE-s25|Acc=0.625|10-CV=0.53333|STD=0.02981|Time spend=17.315260648727417\n",
      "\tAROUSAL-s26|Acc=0.66667|10-CV=0.59|STD=0.04955|Time spend=15.953983306884766\n",
      "\tVALENCE-s26|Acc=0.65|10-CV=0.63333|STD=0.0|Time spend=16.254178762435913\n",
      "-----WARNING: Model s26 failed to learn: sum(ans)=120.0 sum(y)=78.0 len(y)=120\n",
      "\tAROUSAL-s27|Acc=0.75833|10-CV=0.67667|STD=0.03958|Time spend=16.288286685943604\n",
      "\tVALENCE-s27|Acc=0.75|10-CV=0.75|STD=0.01667|Time spend=16.604386568069458\n",
      "-----WARNING: Model s27 failed to learn: sum(ans)=120.0 sum(y)=90.0 len(y)=120\n",
      "\tAROUSAL-s28|Acc=0.55|10-CV=0.52333|STD=0.01528|Time spend=15.143430709838867\n",
      "\tVALENCE-s28|Acc=0.625|10-CV=0.63333|STD=0.0|Time spend=15.35344672203064\n",
      "-----WARNING: Model s28 failed to learn: sum(ans)=120.0 sum(y)=75.0 len(y)=120\n",
      "\tAROUSAL-s29|Acc=0.70833|10-CV=0.65|STD=0.04773|Time spend=15.869550943374634\n",
      "\tVALENCE-s29|Acc=0.725|10-CV=0.68333|STD=0.08596|Time spend=16.136447429656982\n",
      "\tAROUSAL-s30|Acc=0.65|10-CV=0.56333|STD=0.09|Time spend=16.70969533920288\n",
      "\tVALENCE-s30|Acc=0.675|10-CV=0.66667|STD=0.0|Time spend=16.92407488822937\n",
      "-----WARNING: Model s30 failed to learn: sum(ans)=120.0 sum(y)=81.0 len(y)=120\n",
      "\tAROUSAL-s31|Acc=0.65|10-CV=0.62667|STD=0.03266|Time spend=16.31109094619751\n",
      "\tVALENCE-s31|Acc=0.65833|10-CV=0.58|STD=0.02667|Time spend=16.581915140151978\n",
      "\tAROUSAL-s32|Acc=0.675|10-CV=0.66667|STD=0.0|Time spend=15.712431192398071\n",
      "-----WARNING: Model s32 failed to learn: sum(ans)=120.0 sum(y)=81.0 len(y)=120\n",
      "\tVALENCE-s32|Acc=0.78333|10-CV=0.69667|STD=0.06227|Time spend=15.914634227752686\n",
      "AROUSAL|Acc=0.7114583333333332|10-CV=0.6685416666666666|STD=0.03112998460768567\n",
      "VALENCE|Acc=0.7257812500000002|10-CV=0.6836458333333332|STD=0.04583864483681766\n",
      "TOTAL|Acc=0.7186197916666665|10-CV=0.6760937499999998|STD=0.03848431472225167\n"
     ]
    }
   ],
   "source": [
    "for text in reports:\n",
    "    if(text == None): continue\n",
    "    print(text)\n",
    "\n",
    "accs.extend(accs_v)\n",
    "cv_means.extend(cv_means_v)\n",
    "cv_stds.extend(cv_stds_v)\n",
    "print(f\"TOTAL|Acc={sum(accs)/len(accs)}|10-CV={sum(cv_means)/len(cv_means)}|STD={sum(cv_stds)/len(cv_stds)}\")"
   ]
  },
  {
   "cell_type": "markdown",
   "metadata": {},
   "source": [
    "### 4.4 $ \\text{PLI}(j,k) =  \\frac{1}{T} | \\Sigma^{T}_{t=1} \\text{sign}(Im[e^{i (\\phi^{t}_{j} - \\phi^{t}_{k})}])  | $"
   ]
  },
  {
   "cell_type": "code",
   "execution_count": 16,
   "metadata": {},
   "outputs": [],
   "source": [
    "# bands = [(0,4), (4,8), (8,12), (12,30), (30,64)]\n",
    "def calculate_stft(signals, sfreq):\n",
    "    from scipy import signal\n",
    "    f_range, t_range, Z = signal.stft(signals, sfreq, nperseg=sfreq//10, nfft=sfreq)\n",
    "    magnitude = np.abs(Z) \n",
    "    phase = np.angle(Z)\n",
    "    return magnitude, phase, f_range, t_range\n",
    "\n",
    "def PLI_stft(p_id, phase):\n",
    "    # (32, 65, 12) => (channels, freqs, times)\n",
    "    # print(f\"p_id:{p_id} - data to run {phase.shape}\")\n",
    "    from itertools import combinations\n",
    "    pli = []\n",
    "    # count = 0\n",
    "    for index in range(phase.shape[0]):\n",
    "        pli_epoch = []\n",
    "        for comb in combinations(list(range(phase.shape[1])), 2):\n",
    "            # shape = (65,12)\n",
    "            phase_a, phase_b = phase[index, comb[0]], phase[index, comb[1]]\n",
    "            phase_diff = phase_a - phase_b\n",
    "            # sum along the time size\n",
    "            pli_ab = np.abs(np.average(   np.sign(np.imag(   np.exp(complex(0,1) * phase_diff) ))  , axis=1))\n",
    "            pli_epoch.append(pli_ab)\n",
    "        pli_epoch = np.vstack(pli_epoch)\n",
    "        pli_epoch_5 = np.concatenate([ pli_epoch[:,0:4].mean(axis=1).reshape(-1,1),\n",
    "                                        pli_epoch[:,4:8].mean(axis=1).reshape(-1,1),\n",
    "                                        pli_epoch[:,8:12].mean(axis=1).reshape(-1,1),\n",
    "                                        pli_epoch[:,12:30].mean(axis=1).reshape(-1,1),\n",
    "                                        pli_epoch[:,30:65].mean(axis=1).reshape(-1,1)], axis=0)\n",
    "        pli.append(np.expand_dims(pli_epoch_5, axis=0))\n",
    "        # count += 1\n",
    "        # if(count == 3): break\n",
    "    # shape (496, 65)\n",
    "    # 496 is number of pairs that is not duplicate\n",
    "    # 65 is number of phase of frequencies\n",
    "    pli = np.vstack( pli )\n",
    "    return pli.squeeze()\n",
    "\n",
    "def calculate_pli(data, n_jobs=8):\n",
    "    \"\"\" \n",
    "    Input: Expect data to have (n_epochs, n_channels, n_samples)\n",
    "    Output: (n_epochs, n_conn, n_freqs ) => n_conn = n_channels!/(2!(n_channels-2)!)\n",
    "    \"\"\"\n",
    "    from multiprocessing import Pool\n",
    "\n",
    "    try:\n",
    "        t_out = 60000\n",
    "        pool = Pool()\n",
    "        p_list = []\n",
    "        ans_list = []\n",
    "        num_p = n_jobs\n",
    "        indices = np.array_split(np.arange(data.shape[0]), num_p)\n",
    "        _, phase, _, _ = calculate_stft(data, 128)\n",
    "        for p_id in range(num_p):\n",
    "            p_list.append(pool.apply_async(PLI_stft, [p_id, phase[indices[p_id]] ]))\n",
    "        for p_id in range(num_p):\n",
    "            ans_list.append( p_list[p_id].get(timeout=t_out) )\n",
    "        # ans_list\n",
    "    finally:\n",
    "        print(\"========= close ========\")\n",
    "        pool.close() \n",
    "        pool.terminate()\n",
    "    return np.vstack(ans_list)\n"
   ]
  },
  {
   "cell_type": "code",
   "execution_count": 17,
   "metadata": {},
   "outputs": [
    {
     "data": {
      "application/vnd.jupyter.widget-view+json": {
       "model_id": "981aebeba042456bb86cb08c6d2ea151",
       "version_major": 2,
       "version_minor": 0
      },
      "text/plain": [
       "  0%|          | 0/32 [00:00<?, ?it/s]"
      ]
     },
     "metadata": {},
     "output_type": "display_data"
    },
    {
     "name": "stdout",
     "output_type": "stream",
     "text": [
      "Fitted sphere radius:         95.3 mm\n",
      "Origin head coordinates:      -0.8 15.1 45.3 mm\n",
      "Origin device coordinates:    -0.8 15.1 45.3 mm\n",
      "========= close ========\n",
      "\tAROUSAL-s01|Acc=0.98333|10-CV=0.62|STD=0.04|Time spend=16.27442765235901\n",
      "\tVALENCE-s01|Acc=1.0|10-CV=0.55|STD=0.07188|Time spend=16.549288749694824\n",
      "Fitted sphere radius:         95.3 mm\n",
      "Origin head coordinates:      -0.8 15.1 45.3 mm\n",
      "Origin device coordinates:    -0.8 15.1 45.3 mm\n",
      "========= close ========\n",
      "\tAROUSAL-s02|Acc=0.825|10-CV=0.58667|STD=0.04522|Time spend=15.20316457748413\n",
      "\tVALENCE-s02|Acc=0.875|10-CV=0.62333|STD=0.07157|Time spend=15.41545557975769\n",
      "Fitted sphere radius:         95.3 mm\n",
      "Origin head coordinates:      -0.8 15.1 45.3 mm\n",
      "Origin device coordinates:    -0.8 15.1 45.3 mm\n",
      "========= close ========\n",
      "\tAROUSAL-s03|Acc=0.85833|10-CV=0.8|STD=0.0|Time spend=15.274969577789307\n",
      "\tVALENCE-s03|Acc=1.0|10-CV=0.53|STD=0.01795|Time spend=15.478407621383667\n",
      "Fitted sphere radius:         95.3 mm\n",
      "Origin head coordinates:      -0.8 15.1 45.3 mm\n",
      "Origin device coordinates:    -0.8 15.1 45.3 mm\n",
      "========= close ========\n",
      "\tAROUSAL-s04|Acc=0.85833|10-CV=0.6|STD=0.0|Time spend=15.344121217727661\n",
      "\tVALENCE-s04|Acc=0.86667|10-CV=0.61|STD=0.02134|Time spend=15.490424156188965\n",
      "Fitted sphere radius:         95.3 mm\n",
      "Origin head coordinates:      -0.8 15.1 45.3 mm\n",
      "Origin device coordinates:    -0.8 15.1 45.3 mm\n",
      "========= close ========\n",
      "\tAROUSAL-s05|Acc=0.85833|10-CV=0.52667|STD=0.04667|Time spend=15.519486427307129\n",
      "\tVALENCE-s05|Acc=0.85833|10-CV=0.58333|STD=0.05426|Time spend=15.757775068283081\n",
      "Fitted sphere radius:         95.3 mm\n",
      "Origin head coordinates:      -0.8 15.1 45.3 mm\n",
      "Origin device coordinates:    -0.8 15.1 45.3 mm\n",
      "========= close ========\n",
      "\tAROUSAL-s06|Acc=0.975|10-CV=0.58333|STD=0.03073|Time spend=16.515109300613403\n",
      "\tVALENCE-s06|Acc=0.89167|10-CV=0.75|STD=0.01667|Time spend=16.73914647102356\n",
      "Fitted sphere radius:         95.3 mm\n",
      "Origin head coordinates:      -0.8 15.1 45.3 mm\n",
      "Origin device coordinates:    -0.8 15.1 45.3 mm\n",
      "========= close ========\n",
      "\tAROUSAL-s07|Acc=0.98333|10-CV=0.63333|STD=0.0|Time spend=16.147098779678345\n",
      "\tVALENCE-s07|Acc=0.95|10-CV=0.7|STD=0.0|Time spend=16.35587430000305\n",
      "Fitted sphere radius:         95.3 mm\n",
      "Origin head coordinates:      -0.8 15.1 45.3 mm\n",
      "Origin device coordinates:    -0.8 15.1 45.3 mm\n",
      "========= close ========\n",
      "\tAROUSAL-s08|Acc=0.99167|10-CV=0.54667|STD=0.02667|Time spend=16.206971168518066\n",
      "\tVALENCE-s08|Acc=0.99167|10-CV=0.56667|STD=0.02981|Time spend=16.516722202301025\n",
      "Fitted sphere radius:         95.3 mm\n",
      "Origin head coordinates:      -0.8 15.1 45.3 mm\n",
      "Origin device coordinates:    -0.8 15.1 45.3 mm\n",
      "========= close ========\n",
      "\tAROUSAL-s09|Acc=0.925|10-CV=0.57333|STD=0.05333|Time spend=16.14238214492798\n",
      "\tVALENCE-s09|Acc=1.0|10-CV=0.50333|STD=0.05667|Time spend=16.350133895874023\n",
      "Fitted sphere radius:         95.3 mm\n",
      "Origin head coordinates:      -0.8 15.1 45.3 mm\n",
      "Origin device coordinates:    -0.8 15.1 45.3 mm\n",
      "========= close ========\n",
      "\tAROUSAL-s10|Acc=1.0|10-CV=0.55333|STD=0.04761|Time spend=15.889320373535156\n",
      "\tVALENCE-s10|Acc=1.0|10-CV=0.56|STD=0.06464|Time spend=16.234554052352905\n",
      "Fitted sphere radius:         95.3 mm\n",
      "Origin head coordinates:      -0.8 15.1 45.3 mm\n",
      "Origin device coordinates:    -0.8 15.1 45.3 mm\n",
      "========= close ========\n",
      "\tAROUSAL-s11|Acc=0.81667|10-CV=0.63333|STD=0.0|Time spend=15.722813129425049\n",
      "\tVALENCE-s11|Acc=0.83333|10-CV=0.57333|STD=0.0359|Time spend=15.94008469581604\n",
      "Fitted sphere radius:         95.3 mm\n",
      "Origin head coordinates:      -0.8 15.1 45.3 mm\n",
      "Origin device coordinates:    -0.8 15.1 45.3 mm\n",
      "========= close ========\n",
      "\tAROUSAL-s12|Acc=0.89167|10-CV=0.83333|STD=0.0|Time spend=16.132447957992554\n",
      "\tVALENCE-s12|Acc=1.0|10-CV=0.52667|STD=0.08138|Time spend=16.39299750328064\n",
      "Fitted sphere radius:         95.3 mm\n",
      "Origin head coordinates:      -0.8 15.1 45.3 mm\n",
      "Origin device coordinates:    -0.8 15.1 45.3 mm\n",
      "========= close ========\n",
      "\tAROUSAL-s13|Acc=0.90833|10-CV=0.86|STD=0.01333|Time spend=15.728152513504028\n",
      "\tVALENCE-s13|Acc=0.95833|10-CV=0.55|STD=0.02236|Time spend=15.951581478118896\n",
      "Fitted sphere radius:         95.3 mm\n",
      "Origin head coordinates:      -0.8 15.1 45.3 mm\n",
      "Origin device coordinates:    -0.8 15.1 45.3 mm\n",
      "========= close ========\n",
      "\tAROUSAL-s14|Acc=0.89167|10-CV=0.66667|STD=0.0|Time spend=15.796033143997192\n",
      "\tVALENCE-s14|Acc=0.98333|10-CV=0.49667|STD=0.05044|Time spend=16.10341787338257\n",
      "Fitted sphere radius:         95.3 mm\n",
      "Origin head coordinates:      -0.8 15.1 45.3 mm\n",
      "Origin device coordinates:    -0.8 15.1 45.3 mm\n",
      "========= close ========\n",
      "\tAROUSAL-s15|Acc=1.0|10-CV=0.55667|STD=0.1106|Time spend=15.950413465499878\n",
      "\tVALENCE-s15|Acc=1.0|10-CV=0.62|STD=0.05812|Time spend=16.154883861541748\n",
      "Fitted sphere radius:         95.3 mm\n",
      "Origin head coordinates:      -0.8 15.1 45.3 mm\n",
      "Origin device coordinates:    -0.8 15.1 45.3 mm\n",
      "========= close ========\n",
      "\tAROUSAL-s16|Acc=1.0|10-CV=0.57667|STD=0.1116|Time spend=15.535088539123535\n",
      "\tVALENCE-s16|Acc=1.0|10-CV=0.63333|STD=0.0|Time spend=15.784722566604614\n",
      "Fitted sphere radius:         95.3 mm\n",
      "Origin head coordinates:      -0.8 15.1 45.3 mm\n",
      "Origin device coordinates:    -0.8 15.1 45.3 mm\n",
      "========= close ========\n",
      "\tAROUSAL-s17|Acc=0.8|10-CV=0.65|STD=0.08062|Time spend=15.664430379867554\n",
      "\tVALENCE-s17|Acc=0.91667|10-CV=0.52333|STD=0.02603|Time spend=15.87457823753357\n",
      "Fitted sphere radius:         95.3 mm\n",
      "Origin head coordinates:      -0.8 15.1 45.3 mm\n",
      "Origin device coordinates:    -0.8 15.1 45.3 mm\n",
      "========= close ========\n",
      "\tAROUSAL-s18|Acc=0.975|10-CV=0.63333|STD=0.0|Time spend=15.541423320770264\n",
      "\tVALENCE-s18|Acc=0.975|10-CV=0.59|STD=0.02134|Time spend=15.774197101593018\n",
      "Fitted sphere radius:         95.3 mm\n",
      "Origin head coordinates:      -0.8 15.1 45.3 mm\n",
      "Origin device coordinates:    -0.8 15.1 45.3 mm\n",
      "========= close ========\n",
      "\tAROUSAL-s19|Acc=0.675|10-CV=0.66667|STD=0.0|Time spend=15.645448446273804\n",
      "\tVALENCE-s19|Acc=0.65|10-CV=0.55|STD=0.02236|Time spend=15.848697423934937\n",
      "Fitted sphere radius:         95.3 mm\n",
      "Origin head coordinates:      -0.8 15.1 45.3 mm\n",
      "Origin device coordinates:    -0.8 15.1 45.3 mm\n",
      "========= close ========\n",
      "\tAROUSAL-s20|Acc=0.89167|10-CV=0.76667|STD=0.0|Time spend=15.568524837493896\n",
      "\tVALENCE-s20|Acc=0.99167|10-CV=0.58333|STD=0.02236|Time spend=15.800336599349976\n",
      "Fitted sphere radius:         95.3 mm\n",
      "Origin head coordinates:      -0.8 15.1 45.3 mm\n",
      "Origin device coordinates:    -0.8 15.1 45.3 mm\n",
      "========= close ========\n",
      "\tAROUSAL-s21|Acc=0.80833|10-CV=0.8|STD=0.0|Time spend=15.346072435379028\n",
      "\tVALENCE-s21|Acc=1.0|10-CV=0.55667|STD=0.05783|Time spend=15.562631368637085\n",
      "Fitted sphere radius:         95.3 mm\n",
      "Origin head coordinates:      -0.8 15.1 45.3 mm\n",
      "Origin device coordinates:    -0.8 15.1 45.3 mm\n",
      "========= close ========\n",
      "\tAROUSAL-s22|Acc=0.875|10-CV=0.59|STD=0.03958|Time spend=14.835147380828857\n",
      "\tVALENCE-s22|Acc=0.91667|10-CV=0.46667|STD=0.07454|Time spend=15.041305541992188\n",
      "Fitted sphere radius:         95.3 mm\n",
      "Origin head coordinates:      -0.8 15.1 45.3 mm\n",
      "Origin device coordinates:    -0.8 15.1 45.3 mm\n",
      "========= close ========\n",
      "\tAROUSAL-s23|Acc=0.975|10-CV=0.75333|STD=0.01633|Time spend=16.511332988739014\n",
      "\tVALENCE-s23|Acc=1.0|10-CV=0.63333|STD=0.0|Time spend=16.739331007003784\n",
      "Fitted sphere radius:         95.3 mm\n",
      "Origin head coordinates:      -0.8 15.1 45.3 mm\n",
      "Origin device coordinates:    -0.8 15.1 45.3 mm\n",
      "========= close ========\n",
      "\tAROUSAL-s24|Acc=0.825|10-CV=0.83333|STD=0.0|Time spend=15.728341817855835\n",
      "\tVALENCE-s24|Acc=0.85833|10-CV=0.49667|STD=0.06227|Time spend=15.926919937133789\n",
      "Fitted sphere radius:         95.3 mm\n",
      "Origin head coordinates:      -0.8 15.1 45.3 mm\n",
      "Origin device coordinates:    -0.8 15.1 45.3 mm\n",
      "========= close ========\n",
      "\tAROUSAL-s25|Acc=0.84167|10-CV=0.73333|STD=0.0|Time spend=15.512256860733032\n",
      "\tVALENCE-s25|Acc=0.91667|10-CV=0.51333|STD=0.04269|Time spend=15.729243755340576\n",
      "Fitted sphere radius:         95.3 mm\n",
      "Origin head coordinates:      -0.8 15.1 45.3 mm\n",
      "Origin device coordinates:    -0.8 15.1 45.3 mm\n",
      "========= close ========\n",
      "\tAROUSAL-s26|Acc=0.95833|10-CV=0.56667|STD=0.0|Time spend=15.68081259727478\n",
      "\tVALENCE-s26|Acc=0.81667|10-CV=0.63333|STD=0.0|Time spend=15.891433477401733\n",
      "Fitted sphere radius:         95.3 mm\n",
      "Origin head coordinates:      -0.8 15.1 45.3 mm\n",
      "Origin device coordinates:    -0.8 15.1 45.3 mm\n",
      "========= close ========\n",
      "\tAROUSAL-s27|Acc=0.975|10-CV=0.66667|STD=0.0|Time spend=16.162344932556152\n",
      "\tVALENCE-s27|Acc=0.93333|10-CV=0.75|STD=0.01667|Time spend=16.362645387649536\n",
      "Fitted sphere radius:         95.3 mm\n",
      "Origin head coordinates:      -0.8 15.1 45.3 mm\n",
      "Origin device coordinates:    -0.8 15.1 45.3 mm\n",
      "========= close ========\n",
      "\tAROUSAL-s28|Acc=0.96667|10-CV=0.55333|STD=0.07024|Time spend=15.901294231414795\n",
      "\tVALENCE-s28|Acc=0.95|10-CV=0.63333|STD=0.0|Time spend=16.158992767333984\n",
      "Fitted sphere radius:         95.3 mm\n",
      "Origin head coordinates:      -0.8 15.1 45.3 mm\n",
      "Origin device coordinates:    -0.8 15.1 45.3 mm\n",
      "========= close ========\n",
      "\tAROUSAL-s29|Acc=0.90833|10-CV=0.63667|STD=0.01|Time spend=15.87650990486145\n",
      "\tVALENCE-s29|Acc=0.875|10-CV=0.55333|STD=0.04761|Time spend=16.086807012557983\n",
      "Fitted sphere radius:         95.3 mm\n",
      "Origin head coordinates:      -0.8 15.1 45.3 mm\n",
      "Origin device coordinates:    -0.8 15.1 45.3 mm\n",
      "========= close ========\n",
      "\tAROUSAL-s30|Acc=0.96667|10-CV=0.55333|STD=0.0718|Time spend=16.37870717048645\n",
      "\tVALENCE-s30|Acc=0.775|10-CV=0.66667|STD=0.0|Time spend=16.577879190444946\n",
      "Fitted sphere radius:         95.3 mm\n",
      "Origin head coordinates:      -0.8 15.1 45.3 mm\n",
      "Origin device coordinates:    -0.8 15.1 45.3 mm\n",
      "========= close ========\n",
      "\tAROUSAL-s31|Acc=1.0|10-CV=0.65333|STD=0.06|Time spend=16.535038471221924\n",
      "\tVALENCE-s31|Acc=1.0|10-CV=0.56333|STD=0.05044|Time spend=16.784655570983887\n",
      "Fitted sphere radius:         95.3 mm\n",
      "Origin head coordinates:      -0.8 15.1 45.3 mm\n",
      "Origin device coordinates:    -0.8 15.1 45.3 mm\n",
      "========= close ========\n",
      "\tAROUSAL-s32|Acc=0.91667|10-CV=0.66667|STD=0.0|Time spend=15.281052589416504\n",
      "\tVALENCE-s32|Acc=1.0|10-CV=0.64|STD=0.05333|Time spend=15.496381044387817\n",
      "AROUSAL|Acc=0.91015625|10-CV=0.6522916666666667|STD=0.02732310218375139\n",
      "VALENCE|Acc=0.9307291666666667|10-CV=0.5853125|STD=0.03595208987400619\n"
     ]
    }
   ],
   "source": [
    "accs, cv_means, cv_stds = [],[],[]\n",
    "accs_v, cv_means_v, cv_stds_v = [],[],[]\n",
    "reports = []\n",
    "for filename in (pbar := tqdm(dataset.get_file_list())):\n",
    "    start = time.time()\n",
    "    pbar.set_description(filename)\n",
    "    data, labels, groups = dataset.get_data(filename, stimuli=Dataset_subjectDependent.STIMULI_AROUSAL, return_type='mne', sfreq=128)\n",
    "    \n",
    "    data_csd = mne.preprocessing.compute_current_source_density(data)\n",
    "\n",
    "    pli = calculate_pli(data_csd.get_data(), n_jobs=8)\n",
    "\n",
    "    _,acc,cross,train_report = train_model(pli, labels.squeeze(), groups, filename=filename, return_text=True)\n",
    "    report = f\"\\tAROUSAL-{filename}|Acc={round(acc,5)}|10-CV={round(cross.mean(),5)}|STD={round(cross.std(),5)}|Time spend={time.time() - start}\"\n",
    "    print(report)\n",
    "    reports.append(report)\n",
    "    reports.append(train_report)\n",
    "    accs.append(acc)\n",
    "    cv_means.append(cross.mean())\n",
    "    cv_stds.append(cross.std())\n",
    "\n",
    "    _, labels_v, groups_v = dataset.get_data(filename, stimuli=Dataset_subjectDependent.STIMULI_VALENCE, return_type='mne', sfreq=128)\n",
    "    _,acc,cross,train_report = train_model(pli, labels_v.squeeze(), groups_v, filename=filename, return_text=True)\n",
    "    report = f\"\\tVALENCE-{filename}|Acc={round(acc,5)}|10-CV={round(cross.mean(),5)}|STD={round(cross.std(),5)}|Time spend={time.time() - start}\"\n",
    "    print(report)\n",
    "    reports.append(report)\n",
    "    reports.append(train_report)\n",
    "    accs_v.append(acc)\n",
    "    cv_means_v.append(cross.mean())\n",
    "    cv_stds_v.append(cross.std())\n",
    "    # break\n",
    "    # count+=1\n",
    "    # if(count == 5): break\n",
    "report = f\"AROUSAL|Acc={sum(accs)/len(accs)}|10-CV={sum(cv_means)/len(cv_means)}|STD={sum(cv_stds)/len(cv_stds)}\"\n",
    "print(report)\n",
    "reports.append(report)\n",
    "report = f\"VALENCE|Acc={sum(accs_v)/len(accs_v)}|10-CV={sum(cv_means_v)/len(cv_means_v)}|STD={sum(cv_stds_v)/len(cv_stds_v)}\"\n",
    "print(report)\n",
    "reports.append(report)"
   ]
  },
  {
   "cell_type": "code",
   "execution_count": 18,
   "metadata": {},
   "outputs": [
    {
     "name": "stdout",
     "output_type": "stream",
     "text": [
      "\tAROUSAL-s01|Acc=0.98333|10-CV=0.62|STD=0.04|Time spend=16.27442765235901\n",
      "\tVALENCE-s01|Acc=1.0|10-CV=0.55|STD=0.07188|Time spend=16.549288749694824\n",
      "\tAROUSAL-s02|Acc=0.825|10-CV=0.58667|STD=0.04522|Time spend=15.20316457748413\n",
      "\tVALENCE-s02|Acc=0.875|10-CV=0.62333|STD=0.07157|Time spend=15.41545557975769\n",
      "\tAROUSAL-s03|Acc=0.85833|10-CV=0.8|STD=0.0|Time spend=15.274969577789307\n",
      "\tVALENCE-s03|Acc=1.0|10-CV=0.53|STD=0.01795|Time spend=15.478407621383667\n",
      "\tAROUSAL-s04|Acc=0.85833|10-CV=0.6|STD=0.0|Time spend=15.344121217727661\n",
      "\tVALENCE-s04|Acc=0.86667|10-CV=0.61|STD=0.02134|Time spend=15.490424156188965\n",
      "\tAROUSAL-s05|Acc=0.85833|10-CV=0.52667|STD=0.04667|Time spend=15.519486427307129\n",
      "\tVALENCE-s05|Acc=0.85833|10-CV=0.58333|STD=0.05426|Time spend=15.757775068283081\n",
      "\tAROUSAL-s06|Acc=0.975|10-CV=0.58333|STD=0.03073|Time spend=16.515109300613403\n",
      "\tVALENCE-s06|Acc=0.89167|10-CV=0.75|STD=0.01667|Time spend=16.73914647102356\n",
      "\tAROUSAL-s07|Acc=0.98333|10-CV=0.63333|STD=0.0|Time spend=16.147098779678345\n",
      "\tVALENCE-s07|Acc=0.95|10-CV=0.7|STD=0.0|Time spend=16.35587430000305\n",
      "\tAROUSAL-s08|Acc=0.99167|10-CV=0.54667|STD=0.02667|Time spend=16.206971168518066\n",
      "\tVALENCE-s08|Acc=0.99167|10-CV=0.56667|STD=0.02981|Time spend=16.516722202301025\n",
      "\tAROUSAL-s09|Acc=0.925|10-CV=0.57333|STD=0.05333|Time spend=16.14238214492798\n",
      "\tVALENCE-s09|Acc=1.0|10-CV=0.50333|STD=0.05667|Time spend=16.350133895874023\n",
      "\tAROUSAL-s10|Acc=1.0|10-CV=0.55333|STD=0.04761|Time spend=15.889320373535156\n",
      "\tVALENCE-s10|Acc=1.0|10-CV=0.56|STD=0.06464|Time spend=16.234554052352905\n",
      "\tAROUSAL-s11|Acc=0.81667|10-CV=0.63333|STD=0.0|Time spend=15.722813129425049\n",
      "\tVALENCE-s11|Acc=0.83333|10-CV=0.57333|STD=0.0359|Time spend=15.94008469581604\n",
      "\tAROUSAL-s12|Acc=0.89167|10-CV=0.83333|STD=0.0|Time spend=16.132447957992554\n",
      "\tVALENCE-s12|Acc=1.0|10-CV=0.52667|STD=0.08138|Time spend=16.39299750328064\n",
      "\tAROUSAL-s13|Acc=0.90833|10-CV=0.86|STD=0.01333|Time spend=15.728152513504028\n",
      "\tVALENCE-s13|Acc=0.95833|10-CV=0.55|STD=0.02236|Time spend=15.951581478118896\n",
      "\tAROUSAL-s14|Acc=0.89167|10-CV=0.66667|STD=0.0|Time spend=15.796033143997192\n",
      "\tVALENCE-s14|Acc=0.98333|10-CV=0.49667|STD=0.05044|Time spend=16.10341787338257\n",
      "\tAROUSAL-s15|Acc=1.0|10-CV=0.55667|STD=0.1106|Time spend=15.950413465499878\n",
      "\tVALENCE-s15|Acc=1.0|10-CV=0.62|STD=0.05812|Time spend=16.154883861541748\n",
      "\tAROUSAL-s16|Acc=1.0|10-CV=0.57667|STD=0.1116|Time spend=15.535088539123535\n",
      "\tVALENCE-s16|Acc=1.0|10-CV=0.63333|STD=0.0|Time spend=15.784722566604614\n",
      "\tAROUSAL-s17|Acc=0.8|10-CV=0.65|STD=0.08062|Time spend=15.664430379867554\n",
      "\tVALENCE-s17|Acc=0.91667|10-CV=0.52333|STD=0.02603|Time spend=15.87457823753357\n",
      "\tAROUSAL-s18|Acc=0.975|10-CV=0.63333|STD=0.0|Time spend=15.541423320770264\n",
      "\tVALENCE-s18|Acc=0.975|10-CV=0.59|STD=0.02134|Time spend=15.774197101593018\n",
      "\tAROUSAL-s19|Acc=0.675|10-CV=0.66667|STD=0.0|Time spend=15.645448446273804\n",
      "-----WARNING: Model s19 failed to learn: sum(ans)=120.0 sum(y)=81.0 len(y)=120\n",
      "\tVALENCE-s19|Acc=0.65|10-CV=0.55|STD=0.02236|Time spend=15.848697423934937\n",
      "\tAROUSAL-s20|Acc=0.89167|10-CV=0.76667|STD=0.0|Time spend=15.568524837493896\n",
      "\tVALENCE-s20|Acc=0.99167|10-CV=0.58333|STD=0.02236|Time spend=15.800336599349976\n",
      "\tAROUSAL-s21|Acc=0.80833|10-CV=0.8|STD=0.0|Time spend=15.346072435379028\n",
      "\tVALENCE-s21|Acc=1.0|10-CV=0.55667|STD=0.05783|Time spend=15.562631368637085\n",
      "\tAROUSAL-s22|Acc=0.875|10-CV=0.59|STD=0.03958|Time spend=14.835147380828857\n",
      "\tVALENCE-s22|Acc=0.91667|10-CV=0.46667|STD=0.07454|Time spend=15.041305541992188\n",
      "\tAROUSAL-s23|Acc=0.975|10-CV=0.75333|STD=0.01633|Time spend=16.511332988739014\n",
      "\tVALENCE-s23|Acc=1.0|10-CV=0.63333|STD=0.0|Time spend=16.739331007003784\n",
      "\tAROUSAL-s24|Acc=0.825|10-CV=0.83333|STD=0.0|Time spend=15.728341817855835\n",
      "-----WARNING: Model s24 failed to learn: sum(ans)=120.0 sum(y)=99.0 len(y)=120\n",
      "\tVALENCE-s24|Acc=0.85833|10-CV=0.49667|STD=0.06227|Time spend=15.926919937133789\n",
      "\tAROUSAL-s25|Acc=0.84167|10-CV=0.73333|STD=0.0|Time spend=15.512256860733032\n",
      "\tVALENCE-s25|Acc=0.91667|10-CV=0.51333|STD=0.04269|Time spend=15.729243755340576\n",
      "\tAROUSAL-s26|Acc=0.95833|10-CV=0.56667|STD=0.0|Time spend=15.68081259727478\n",
      "\tVALENCE-s26|Acc=0.81667|10-CV=0.63333|STD=0.0|Time spend=15.891433477401733\n",
      "\tAROUSAL-s27|Acc=0.975|10-CV=0.66667|STD=0.0|Time spend=16.162344932556152\n",
      "\tVALENCE-s27|Acc=0.93333|10-CV=0.75|STD=0.01667|Time spend=16.362645387649536\n",
      "\tAROUSAL-s28|Acc=0.96667|10-CV=0.55333|STD=0.07024|Time spend=15.901294231414795\n",
      "\tVALENCE-s28|Acc=0.95|10-CV=0.63333|STD=0.0|Time spend=16.158992767333984\n",
      "\tAROUSAL-s29|Acc=0.90833|10-CV=0.63667|STD=0.01|Time spend=15.87650990486145\n",
      "\tVALENCE-s29|Acc=0.875|10-CV=0.55333|STD=0.04761|Time spend=16.086807012557983\n",
      "\tAROUSAL-s30|Acc=0.96667|10-CV=0.55333|STD=0.0718|Time spend=16.37870717048645\n",
      "\tVALENCE-s30|Acc=0.775|10-CV=0.66667|STD=0.0|Time spend=16.577879190444946\n",
      "\tAROUSAL-s31|Acc=1.0|10-CV=0.65333|STD=0.06|Time spend=16.535038471221924\n",
      "\tVALENCE-s31|Acc=1.0|10-CV=0.56333|STD=0.05044|Time spend=16.784655570983887\n",
      "\tAROUSAL-s32|Acc=0.91667|10-CV=0.66667|STD=0.0|Time spend=15.281052589416504\n",
      "\tVALENCE-s32|Acc=1.0|10-CV=0.64|STD=0.05333|Time spend=15.496381044387817\n",
      "AROUSAL|Acc=0.91015625|10-CV=0.6522916666666667|STD=0.02732310218375139\n",
      "VALENCE|Acc=0.9307291666666667|10-CV=0.5853125|STD=0.03595208987400619\n",
      "TOTAL|Acc=0.9204427083333334|10-CV=0.6188020833333334|STD=0.03163759602887879\n"
     ]
    }
   ],
   "source": [
    "for text in reports:\n",
    "    if(text == None): continue\n",
    "    print(text)\n",
    "\n",
    "accs.extend(accs_v)\n",
    "cv_means.extend(cv_means_v)\n",
    "cv_stds.extend(cv_stds_v)\n",
    "print(f\"TOTAL|Acc={sum(accs)/len(accs)}|10-CV={sum(cv_means)/len(cv_means)}|STD={sum(cv_stds)/len(cv_stds)}\")"
   ]
  },
  {
   "cell_type": "markdown",
   "metadata": {},
   "source": [
    "## 5. CSP"
   ]
  },
  {
   "cell_type": "code",
   "execution_count": 19,
   "metadata": {},
   "outputs": [],
   "source": [
    "from components.CSP import CSP\n",
    "from mne_features.feature_extraction import FeatureExtractor\n",
    "\n",
    "bands = [(0,4), (4,8), (8,12), (12,30), (30,64)]\n",
    "# [alias_feature_function]__[optional_param]\n",
    "params = dict({\n",
    "    'pow_freq_bands__log':True,\n",
    "    'pow_freq_bands__normalize':False,\n",
    "    'pow_freq_bands__freq_bands':bands\n",
    "})"
   ]
  },
  {
   "cell_type": "code",
   "execution_count": 20,
   "metadata": {},
   "outputs": [
    {
     "data": {
      "application/vnd.jupyter.widget-view+json": {
       "model_id": "a1e64d3c4ff244c49545a51c84e75310",
       "version_major": 2,
       "version_minor": 0
      },
      "text/plain": [
       "  0%|          | 0/32 [00:00<?, ?it/s]"
      ]
     },
     "metadata": {},
     "output_type": "display_data"
    },
    {
     "name": "stderr",
     "output_type": "stream",
     "text": [
      "/root/projects/components/CSP.py:78: ComplexWarning: Casting complex values to real discards the imaginary part\n",
      "  return SFa.astype(np.float32)\n"
     ]
    },
    {
     "name": "stdout",
     "output_type": "stream",
     "text": [
      "-----WARNING: Model s01 failed to learn: sum(ans)=120.0 sum(y)=72.0 len(y)=120\n",
      "\tAROUSAL-s01|Acc=0.6|10-CV=0.6|STD=0.0|Time spend=0.7972865104675293\n"
     ]
    },
    {
     "name": "stderr",
     "output_type": "stream",
     "text": [
      "/root/projects/components/CSP.py:78: ComplexWarning: Casting complex values to real discards the imaginary part\n",
      "  return SFa.astype(np.float32)\n"
     ]
    },
    {
     "name": "stdout",
     "output_type": "stream",
     "text": [
      "\tAROUSAL-s02|Acc=1.0|10-CV=1.0|STD=0.0|Time spend=0.5657939910888672\n"
     ]
    },
    {
     "name": "stderr",
     "output_type": "stream",
     "text": [
      "/root/projects/components/CSP.py:78: ComplexWarning: Casting complex values to real discards the imaginary part\n",
      "  return SFa.astype(np.float32)\n"
     ]
    },
    {
     "name": "stdout",
     "output_type": "stream",
     "text": [
      "-----WARNING: Model s03 failed to learn: sum(ans)=0.0 sum(y)=24.0 len(y)=120\n",
      "\tAROUSAL-s03|Acc=0.8|10-CV=0.8|STD=0.0|Time spend=0.8097250461578369\n"
     ]
    },
    {
     "name": "stderr",
     "output_type": "stream",
     "text": [
      "/root/projects/components/CSP.py:78: ComplexWarning: Casting complex values to real discards the imaginary part\n",
      "  return SFa.astype(np.float32)\n"
     ]
    },
    {
     "name": "stdout",
     "output_type": "stream",
     "text": [
      "\tAROUSAL-s04|Acc=0.88333|10-CV=0.84|STD=0.05925|Time spend=1.2063806056976318\n"
     ]
    },
    {
     "name": "stderr",
     "output_type": "stream",
     "text": [
      "/root/projects/components/CSP.py:78: ComplexWarning: Casting complex values to real discards the imaginary part\n",
      "  return SFa.astype(np.float32)\n"
     ]
    },
    {
     "name": "stdout",
     "output_type": "stream",
     "text": [
      "\tAROUSAL-s05|Acc=0.89167|10-CV=0.86|STD=0.05121|Time spend=0.8219923973083496\n"
     ]
    },
    {
     "name": "stderr",
     "output_type": "stream",
     "text": [
      "/root/projects/components/CSP.py:78: ComplexWarning: Casting complex values to real discards the imaginary part\n",
      "  return SFa.astype(np.float32)\n"
     ]
    },
    {
     "name": "stdout",
     "output_type": "stream",
     "text": [
      "\tAROUSAL-s06|Acc=0.93333|10-CV=0.87|STD=0.04069|Time spend=0.5535659790039062\n"
     ]
    },
    {
     "name": "stderr",
     "output_type": "stream",
     "text": [
      "/root/projects/components/CSP.py:78: ComplexWarning: Casting complex values to real discards the imaginary part\n",
      "  return SFa.astype(np.float32)\n"
     ]
    },
    {
     "name": "stdout",
     "output_type": "stream",
     "text": [
      "-----WARNING: Model s07 failed to learn: sum(ans)=120.0 sum(y)=75.0 len(y)=120\n",
      "\tAROUSAL-s07|Acc=0.625|10-CV=0.63333|STD=0.0|Time spend=0.5890042781829834\n"
     ]
    },
    {
     "name": "stderr",
     "output_type": "stream",
     "text": [
      "/root/projects/components/CSP.py:78: ComplexWarning: Casting complex values to real discards the imaginary part\n",
      "  return SFa.astype(np.float32)\n"
     ]
    },
    {
     "name": "stdout",
     "output_type": "stream",
     "text": [
      "\tAROUSAL-s08|Acc=0.81667|10-CV=0.80333|STD=0.04819|Time spend=0.9980838298797607\n"
     ]
    },
    {
     "name": "stderr",
     "output_type": "stream",
     "text": [
      "/root/projects/components/CSP.py:78: ComplexWarning: Casting complex values to real discards the imaginary part\n",
      "  return SFa.astype(np.float32)\n"
     ]
    },
    {
     "name": "stdout",
     "output_type": "stream",
     "text": [
      "\tAROUSAL-s09|Acc=0.99167|10-CV=0.99333|STD=0.01333|Time spend=0.7863266468048096\n"
     ]
    },
    {
     "name": "stderr",
     "output_type": "stream",
     "text": [
      "/root/projects/components/CSP.py:78: ComplexWarning: Casting complex values to real discards the imaginary part\n",
      "  return SFa.astype(np.float32)\n"
     ]
    },
    {
     "name": "stdout",
     "output_type": "stream",
     "text": [
      "\tAROUSAL-s10|Acc=1.0|10-CV=0.99333|STD=0.01333|Time spend=0.9944248199462891\n"
     ]
    },
    {
     "name": "stderr",
     "output_type": "stream",
     "text": [
      "/root/projects/components/CSP.py:78: ComplexWarning: Casting complex values to real discards the imaginary part\n",
      "  return SFa.astype(np.float32)\n"
     ]
    },
    {
     "name": "stdout",
     "output_type": "stream",
     "text": [
      "-----WARNING: Model s11 failed to learn: sum(ans)=0.0 sum(y)=45.0 len(y)=120\n",
      "\tAROUSAL-s11|Acc=0.625|10-CV=0.63333|STD=0.0|Time spend=0.7749748229980469\n"
     ]
    },
    {
     "name": "stderr",
     "output_type": "stream",
     "text": [
      "/root/projects/components/CSP.py:78: ComplexWarning: Casting complex values to real discards the imaginary part\n",
      "  return SFa.astype(np.float32)\n"
     ]
    },
    {
     "name": "stdout",
     "output_type": "stream",
     "text": [
      "\tAROUSAL-s12|Acc=0.91667|10-CV=0.88|STD=0.02211|Time spend=1.2056028842926025\n"
     ]
    },
    {
     "name": "stderr",
     "output_type": "stream",
     "text": [
      "/root/projects/components/CSP.py:78: ComplexWarning: Casting complex values to real discards the imaginary part\n",
      "  return SFa.astype(np.float32)\n"
     ]
    },
    {
     "name": "stdout",
     "output_type": "stream",
     "text": [
      "-----WARNING: Model s13 failed to learn: sum(ans)=120.0 sum(y)=102.0 len(y)=120\n",
      "\tAROUSAL-s13|Acc=0.85|10-CV=0.86|STD=0.01333|Time spend=0.8065814971923828\n"
     ]
    },
    {
     "name": "stderr",
     "output_type": "stream",
     "text": [
      "/root/projects/components/CSP.py:78: ComplexWarning: Casting complex values to real discards the imaginary part\n",
      "  return SFa.astype(np.float32)\n"
     ]
    },
    {
     "name": "stdout",
     "output_type": "stream",
     "text": [
      "\tAROUSAL-s14|Acc=1.0|10-CV=1.0|STD=0.0|Time spend=0.7206935882568359\n"
     ]
    },
    {
     "name": "stderr",
     "output_type": "stream",
     "text": [
      "/root/projects/components/CSP.py:78: ComplexWarning: Casting complex values to real discards the imaginary part\n",
      "  return SFa.astype(np.float32)\n"
     ]
    },
    {
     "name": "stdout",
     "output_type": "stream",
     "text": [
      "\tAROUSAL-s15|Acc=0.63333|10-CV=0.55333|STD=0.067|Time spend=0.42058372497558594\n"
     ]
    },
    {
     "name": "stderr",
     "output_type": "stream",
     "text": [
      "/root/projects/components/CSP.py:78: ComplexWarning: Casting complex values to real discards the imaginary part\n",
      "  return SFa.astype(np.float32)\n"
     ]
    },
    {
     "name": "stdout",
     "output_type": "stream",
     "text": [
      "\tAROUSAL-s16|Acc=0.78333|10-CV=0.76|STD=0.05925|Time spend=0.4739196300506592\n"
     ]
    },
    {
     "name": "stderr",
     "output_type": "stream",
     "text": [
      "/root/projects/components/CSP.py:78: ComplexWarning: Casting complex values to real discards the imaginary part\n",
      "  return SFa.astype(np.float32)\n"
     ]
    },
    {
     "name": "stdout",
     "output_type": "stream",
     "text": [
      "\tAROUSAL-s17|Acc=0.68333|10-CV=0.65333|STD=0.0636|Time spend=0.46021103858947754\n"
     ]
    },
    {
     "name": "stderr",
     "output_type": "stream",
     "text": [
      "/root/projects/components/CSP.py:78: ComplexWarning: Casting complex values to real discards the imaginary part\n",
      "  return SFa.astype(np.float32)\n"
     ]
    },
    {
     "name": "stdout",
     "output_type": "stream",
     "text": [
      "\tAROUSAL-s18|Acc=0.65|10-CV=0.62667|STD=0.02|Time spend=0.4559626579284668\n"
     ]
    },
    {
     "name": "stderr",
     "output_type": "stream",
     "text": [
      "/root/projects/components/CSP.py:78: ComplexWarning: Casting complex values to real discards the imaginary part\n",
      "  return SFa.astype(np.float32)\n"
     ]
    },
    {
     "name": "stdout",
     "output_type": "stream",
     "text": [
      "\tAROUSAL-s19|Acc=0.89167|10-CV=0.84|STD=0.04422|Time spend=0.44942331314086914\n"
     ]
    },
    {
     "name": "stderr",
     "output_type": "stream",
     "text": [
      "/root/projects/components/CSP.py:78: ComplexWarning: Casting complex values to real discards the imaginary part\n",
      "  return SFa.astype(np.float32)\n"
     ]
    },
    {
     "name": "stdout",
     "output_type": "stream",
     "text": [
      "\tAROUSAL-s20|Acc=0.99167|10-CV=0.99333|STD=0.01333|Time spend=0.4260127544403076\n"
     ]
    },
    {
     "name": "stderr",
     "output_type": "stream",
     "text": [
      "/root/projects/components/CSP.py:78: ComplexWarning: Casting complex values to real discards the imaginary part\n",
      "  return SFa.astype(np.float32)\n"
     ]
    },
    {
     "name": "stdout",
     "output_type": "stream",
     "text": [
      "\tAROUSAL-s21|Acc=1.0|10-CV=0.99|STD=0.01528|Time spend=0.4079582691192627\n"
     ]
    },
    {
     "name": "stderr",
     "output_type": "stream",
     "text": [
      "/root/projects/components/CSP.py:78: ComplexWarning: Casting complex values to real discards the imaginary part\n",
      "  return SFa.astype(np.float32)\n"
     ]
    },
    {
     "name": "stdout",
     "output_type": "stream",
     "text": [
      "\tAROUSAL-s22|Acc=0.65833|10-CV=0.63|STD=0.0526|Time spend=0.38683128356933594\n"
     ]
    },
    {
     "name": "stderr",
     "output_type": "stream",
     "text": [
      "/root/projects/components/CSP.py:78: ComplexWarning: Casting complex values to real discards the imaginary part\n",
      "  return SFa.astype(np.float32)\n"
     ]
    },
    {
     "name": "stdout",
     "output_type": "stream",
     "text": [
      "\tAROUSAL-s23|Acc=1.0|10-CV=1.0|STD=0.0|Time spend=0.435039758682251\n"
     ]
    },
    {
     "name": "stderr",
     "output_type": "stream",
     "text": [
      "/root/projects/components/CSP.py:78: ComplexWarning: Casting complex values to real discards the imaginary part\n",
      "  return SFa.astype(np.float32)\n"
     ]
    },
    {
     "name": "stdout",
     "output_type": "stream",
     "text": [
      "\tAROUSAL-s24|Acc=1.0|10-CV=1.0|STD=0.0|Time spend=0.45828795433044434\n"
     ]
    },
    {
     "name": "stderr",
     "output_type": "stream",
     "text": [
      "/root/projects/components/CSP.py:78: ComplexWarning: Casting complex values to real discards the imaginary part\n",
      "  return SFa.astype(np.float32)\n"
     ]
    },
    {
     "name": "stdout",
     "output_type": "stream",
     "text": [
      "\tAROUSAL-s25|Acc=0.98333|10-CV=0.97333|STD=0.02494|Time spend=0.39931631088256836\n"
     ]
    },
    {
     "name": "stderr",
     "output_type": "stream",
     "text": [
      "/root/projects/components/CSP.py:78: ComplexWarning: Casting complex values to real discards the imaginary part\n",
      "  return SFa.astype(np.float32)\n"
     ]
    },
    {
     "name": "stdout",
     "output_type": "stream",
     "text": [
      "\tAROUSAL-s26|Acc=0.59167|10-CV=0.55|STD=0.03073|Time spend=0.44857096672058105\n"
     ]
    },
    {
     "name": "stderr",
     "output_type": "stream",
     "text": [
      "/root/projects/components/CSP.py:78: ComplexWarning: Casting complex values to real discards the imaginary part\n",
      "  return SFa.astype(np.float32)\n"
     ]
    },
    {
     "name": "stdout",
     "output_type": "stream",
     "text": [
      "\tAROUSAL-s27|Acc=0.73333|10-CV=0.68667|STD=0.03712|Time spend=0.5615577697753906\n"
     ]
    },
    {
     "name": "stderr",
     "output_type": "stream",
     "text": [
      "/root/projects/components/CSP.py:78: ComplexWarning: Casting complex values to real discards the imaginary part\n",
      "  return SFa.astype(np.float32)\n"
     ]
    },
    {
     "name": "stdout",
     "output_type": "stream",
     "text": [
      "\tAROUSAL-s28|Acc=0.60833|10-CV=0.59667|STD=0.0526|Time spend=0.41403937339782715\n"
     ]
    },
    {
     "name": "stderr",
     "output_type": "stream",
     "text": [
      "/root/projects/components/CSP.py:78: ComplexWarning: Casting complex values to real discards the imaginary part\n",
      "  return SFa.astype(np.float32)\n"
     ]
    },
    {
     "name": "stdout",
     "output_type": "stream",
     "text": [
      "\tAROUSAL-s29|Acc=0.675|10-CV=0.64|STD=0.06799|Time spend=0.408062219619751\n"
     ]
    },
    {
     "name": "stderr",
     "output_type": "stream",
     "text": [
      "/root/projects/components/CSP.py:78: ComplexWarning: Casting complex values to real discards the imaginary part\n",
      "  return SFa.astype(np.float32)\n"
     ]
    },
    {
     "name": "stdout",
     "output_type": "stream",
     "text": [
      "\tAROUSAL-s30|Acc=0.675|10-CV=0.57667|STD=0.06333|Time spend=0.4651062488555908\n"
     ]
    },
    {
     "name": "stderr",
     "output_type": "stream",
     "text": [
      "/root/projects/components/CSP.py:78: ComplexWarning: Casting complex values to real discards the imaginary part\n",
      "  return SFa.astype(np.float32)\n"
     ]
    },
    {
     "name": "stdout",
     "output_type": "stream",
     "text": [
      "\tAROUSAL-s31|Acc=0.99167|10-CV=0.98333|STD=0.01667|Time spend=0.7070796489715576\n"
     ]
    },
    {
     "name": "stderr",
     "output_type": "stream",
     "text": [
      "/root/projects/components/CSP.py:78: ComplexWarning: Casting complex values to real discards the imaginary part\n",
      "  return SFa.astype(np.float32)\n"
     ]
    },
    {
     "name": "stdout",
     "output_type": "stream",
     "text": [
      "\tAROUSAL-s32|Acc=0.95|10-CV=0.94|STD=0.04667|Time spend=0.4966285228729248\n",
      "AROUSAL|Acc=0.8260416666666668|10-CV=0.8050000000000002|STD=0.029274296923978566\n"
     ]
    }
   ],
   "source": [
    "accs, cv_means, cv_stds = [],[],[]\n",
    "for filename in tqdm(dataset.get_file_list()):\n",
    "\n",
    "    data, labels, groups = dataset.get_data(filename, stimuli=Dataset_subjectDependent.STIMULI_AROUSAL, return_type='numpy')\n",
    "    labels = labels.squeeze()\n",
    "    start = time.time()\n",
    "    filters = CSP(data[labels==0], data[labels==1])\n",
    "    \n",
    "    csp_data = []\n",
    "    for index in range(len(data)):\n",
    "        \n",
    "        # (672, 32) @ (32, 32) = (672, 32)\n",
    "        csp = data[index].T @ filters[labels[index].astype(int)]\n",
    "        # (1, 32, 672)\n",
    "        csp = np.expand_dims(csp.T, axis=0)\n",
    "        csp_data.append(csp)\n",
    "\n",
    "    csp_data = np.vstack(csp_data)\n",
    "    # print(csp_data.shape) => (2400, 32, 128)\n",
    "    fe = FeatureExtractor(sfreq=128, selected_funcs=['pow_freq_bands'],params=params,n_jobs=8)\n",
    "    X = fe.fit_transform(X=csp_data)\n",
    "    # print(X.shape, time.time() - start) => (2400, 160) 1.2374355792999268\n",
    "    # print(X.shape)\n",
    "    assert X.shape[1] == 160\n",
    "    _, acc, cross = train_model(X, labels.reshape(-1), groups, filename=filename)\n",
    "    print(f\"\\tAROUSAL-{filename}|Acc={round(acc,5)}|10-CV={round(cross.mean(),5)}|STD={round(cross.std(),5)}|Time spend={time.time() - start}\")\n",
    "    accs.append(acc)\n",
    "    cv_means.append(cross.mean())\n",
    "    cv_stds.append(cross.std())\n",
    "print(f\"AROUSAL|Acc={sum(accs)/len(accs)}|10-CV={sum(cv_means)/len(cv_means)}|STD={sum(cv_stds)/len(cv_stds)}\")"
   ]
  },
  {
   "cell_type": "code",
   "execution_count": 21,
   "metadata": {},
   "outputs": [
    {
     "data": {
      "application/vnd.jupyter.widget-view+json": {
       "model_id": "2cebaee5596a439fa1cb47d94e0be1bb",
       "version_major": 2,
       "version_minor": 0
      },
      "text/plain": [
       "  0%|          | 0/32 [00:00<?, ?it/s]"
      ]
     },
     "metadata": {},
     "output_type": "display_data"
    },
    {
     "name": "stderr",
     "output_type": "stream",
     "text": [
      "/root/projects/components/CSP.py:78: ComplexWarning: Casting complex values to real discards the imaginary part\n",
      "  return SFa.astype(np.float32)\n"
     ]
    },
    {
     "name": "stdout",
     "output_type": "stream",
     "text": [
      "\tVALENCE-s01|Acc=0.58333|10-CV=0.51333|STD=0.04761|Time spend=0.47261476516723633\n"
     ]
    },
    {
     "name": "stderr",
     "output_type": "stream",
     "text": [
      "/root/projects/components/CSP.py:78: ComplexWarning: Casting complex values to real discards the imaginary part\n",
      "  return SFa.astype(np.float32)\n"
     ]
    },
    {
     "name": "stdout",
     "output_type": "stream",
     "text": [
      "\tVALENCE-s02|Acc=0.55833|10-CV=0.49333|STD=0.07424|Time spend=0.45268678665161133\n"
     ]
    },
    {
     "name": "stderr",
     "output_type": "stream",
     "text": [
      "/root/projects/components/CSP.py:78: ComplexWarning: Casting complex values to real discards the imaginary part\n",
      "  return SFa.astype(np.float32)\n"
     ]
    },
    {
     "name": "stdout",
     "output_type": "stream",
     "text": [
      "\tVALENCE-s03|Acc=0.71667|10-CV=0.71333|STD=0.05617|Time spend=0.43096089363098145\n"
     ]
    },
    {
     "name": "stderr",
     "output_type": "stream",
     "text": [
      "/root/projects/components/CSP.py:78: ComplexWarning: Casting complex values to real discards the imaginary part\n",
      "  return SFa.astype(np.float32)\n"
     ]
    },
    {
     "name": "stdout",
     "output_type": "stream",
     "text": [
      "\tVALENCE-s04|Acc=0.68333|10-CV=0.62333|STD=0.0335|Time spend=0.41321825981140137\n"
     ]
    },
    {
     "name": "stderr",
     "output_type": "stream",
     "text": [
      "/root/projects/components/CSP.py:78: ComplexWarning: Casting complex values to real discards the imaginary part\n",
      "  return SFa.astype(np.float32)\n"
     ]
    },
    {
     "name": "stdout",
     "output_type": "stream",
     "text": [
      "\tVALENCE-s05|Acc=0.88333|10-CV=0.86333|STD=0.04583|Time spend=0.4955289363861084\n"
     ]
    },
    {
     "name": "stderr",
     "output_type": "stream",
     "text": [
      "/root/projects/components/CSP.py:78: ComplexWarning: Casting complex values to real discards the imaginary part\n",
      "  return SFa.astype(np.float32)\n"
     ]
    },
    {
     "name": "stdout",
     "output_type": "stream",
     "text": [
      "\tVALENCE-s06|Acc=1.0|10-CV=1.0|STD=0.0|Time spend=0.749692440032959\n"
     ]
    },
    {
     "name": "stderr",
     "output_type": "stream",
     "text": [
      "/root/projects/components/CSP.py:78: ComplexWarning: Casting complex values to real discards the imaginary part\n",
      "  return SFa.astype(np.float32)\n"
     ]
    },
    {
     "name": "stdout",
     "output_type": "stream",
     "text": [
      "-----WARNING: Model s07 failed to learn: sum(ans)=120.0 sum(y)=84.0 len(y)=120\n",
      "\tVALENCE-s07|Acc=0.7|10-CV=0.7|STD=0.0|Time spend=0.6337778568267822\n"
     ]
    },
    {
     "name": "stderr",
     "output_type": "stream",
     "text": [
      "/root/projects/components/CSP.py:78: ComplexWarning: Casting complex values to real discards the imaginary part\n",
      "  return SFa.astype(np.float32)\n"
     ]
    },
    {
     "name": "stdout",
     "output_type": "stream",
     "text": [
      "\tVALENCE-s08|Acc=0.625|10-CV=0.55333|STD=0.03712|Time spend=0.5849294662475586\n"
     ]
    },
    {
     "name": "stderr",
     "output_type": "stream",
     "text": [
      "/root/projects/components/CSP.py:78: ComplexWarning: Casting complex values to real discards the imaginary part\n",
      "  return SFa.astype(np.float32)\n"
     ]
    },
    {
     "name": "stdout",
     "output_type": "stream",
     "text": [
      "\tVALENCE-s09|Acc=0.95833|10-CV=0.95|STD=0.02236|Time spend=0.7760283946990967\n"
     ]
    },
    {
     "name": "stderr",
     "output_type": "stream",
     "text": [
      "/root/projects/components/CSP.py:78: ComplexWarning: Casting complex values to real discards the imaginary part\n",
      "  return SFa.astype(np.float32)\n"
     ]
    },
    {
     "name": "stdout",
     "output_type": "stream",
     "text": [
      "\tVALENCE-s10|Acc=1.0|10-CV=0.99|STD=0.01528|Time spend=0.616391658782959\n"
     ]
    },
    {
     "name": "stderr",
     "output_type": "stream",
     "text": [
      "/root/projects/components/CSP.py:78: ComplexWarning: Casting complex values to real discards the imaginary part\n",
      "  return SFa.astype(np.float32)\n"
     ]
    },
    {
     "name": "stdout",
     "output_type": "stream",
     "text": [
      "\tVALENCE-s11|Acc=0.69167|10-CV=0.68667|STD=0.06|Time spend=0.5119860172271729\n"
     ]
    },
    {
     "name": "stderr",
     "output_type": "stream",
     "text": [
      "/root/projects/components/CSP.py:78: ComplexWarning: Casting complex values to real discards the imaginary part\n",
      "  return SFa.astype(np.float32)\n"
     ]
    },
    {
     "name": "stdout",
     "output_type": "stream",
     "text": [
      "\tVALENCE-s12|Acc=0.98333|10-CV=0.97667|STD=0.02603|Time spend=0.44986534118652344\n"
     ]
    },
    {
     "name": "stderr",
     "output_type": "stream",
     "text": [
      "/root/projects/components/CSP.py:78: ComplexWarning: Casting complex values to real discards the imaginary part\n",
      "  return SFa.astype(np.float32)\n"
     ]
    },
    {
     "name": "stdout",
     "output_type": "stream",
     "text": [
      "\tVALENCE-s13|Acc=0.8|10-CV=0.78333|STD=0.04282|Time spend=0.43243408203125\n"
     ]
    },
    {
     "name": "stderr",
     "output_type": "stream",
     "text": [
      "/root/projects/components/CSP.py:78: ComplexWarning: Casting complex values to real discards the imaginary part\n",
      "  return SFa.astype(np.float32)\n"
     ]
    },
    {
     "name": "stdout",
     "output_type": "stream",
     "text": [
      "\tVALENCE-s14|Acc=0.925|10-CV=0.88667|STD=0.05207|Time spend=0.42706966400146484\n"
     ]
    },
    {
     "name": "stderr",
     "output_type": "stream",
     "text": [
      "/root/projects/components/CSP.py:78: ComplexWarning: Casting complex values to real discards the imaginary part\n",
      "  return SFa.astype(np.float32)\n"
     ]
    },
    {
     "name": "stdout",
     "output_type": "stream",
     "text": [
      "\tVALENCE-s15|Acc=0.69167|10-CV=0.66667|STD=0.04944|Time spend=0.46913957595825195\n"
     ]
    },
    {
     "name": "stderr",
     "output_type": "stream",
     "text": [
      "/root/projects/components/CSP.py:78: ComplexWarning: Casting complex values to real discards the imaginary part\n",
      "  return SFa.astype(np.float32)\n"
     ]
    },
    {
     "name": "stdout",
     "output_type": "stream",
     "text": [
      "\tVALENCE-s16|Acc=1.0|10-CV=0.98667|STD=0.01633|Time spend=0.417675256729126\n"
     ]
    },
    {
     "name": "stderr",
     "output_type": "stream",
     "text": [
      "/root/projects/components/CSP.py:78: ComplexWarning: Casting complex values to real discards the imaginary part\n",
      "  return SFa.astype(np.float32)\n"
     ]
    },
    {
     "name": "stdout",
     "output_type": "stream",
     "text": [
      "\tVALENCE-s17|Acc=0.61667|10-CV=0.56667|STD=0.04944|Time spend=0.42890214920043945\n"
     ]
    },
    {
     "name": "stderr",
     "output_type": "stream",
     "text": [
      "/root/projects/components/CSP.py:78: ComplexWarning: Casting complex values to real discards the imaginary part\n",
      "  return SFa.astype(np.float32)\n"
     ]
    },
    {
     "name": "stdout",
     "output_type": "stream",
     "text": [
      "\tVALENCE-s18|Acc=0.95|10-CV=0.91|STD=0.05175|Time spend=0.44368863105773926\n"
     ]
    },
    {
     "name": "stderr",
     "output_type": "stream",
     "text": [
      "/root/projects/components/CSP.py:78: ComplexWarning: Casting complex values to real discards the imaginary part\n",
      "  return SFa.astype(np.float32)\n"
     ]
    },
    {
     "name": "stdout",
     "output_type": "stream",
     "text": [
      "\tVALENCE-s19|Acc=0.99167|10-CV=0.98667|STD=0.01633|Time spend=0.39710211753845215\n"
     ]
    },
    {
     "name": "stderr",
     "output_type": "stream",
     "text": [
      "/root/projects/components/CSP.py:78: ComplexWarning: Casting complex values to real discards the imaginary part\n",
      "  return SFa.astype(np.float32)\n"
     ]
    },
    {
     "name": "stdout",
     "output_type": "stream",
     "text": [
      "\tVALENCE-s20|Acc=0.73333|10-CV=0.67333|STD=0.05735|Time spend=0.436248779296875\n"
     ]
    },
    {
     "name": "stderr",
     "output_type": "stream",
     "text": [
      "/root/projects/components/CSP.py:78: ComplexWarning: Casting complex values to real discards the imaginary part\n",
      "  return SFa.astype(np.float32)\n"
     ]
    },
    {
     "name": "stdout",
     "output_type": "stream",
     "text": [
      "\tVALENCE-s21|Acc=0.61667|10-CV=0.6|STD=0.11547|Time spend=0.44800519943237305\n"
     ]
    },
    {
     "name": "stderr",
     "output_type": "stream",
     "text": [
      "/root/projects/components/CSP.py:78: ComplexWarning: Casting complex values to real discards the imaginary part\n",
      "  return SFa.astype(np.float32)\n"
     ]
    },
    {
     "name": "stdout",
     "output_type": "stream",
     "text": [
      "\tVALENCE-s22|Acc=0.91667|10-CV=0.90333|STD=0.06741|Time spend=0.4425392150878906\n"
     ]
    },
    {
     "name": "stderr",
     "output_type": "stream",
     "text": [
      "/root/projects/components/CSP.py:78: ComplexWarning: Casting complex values to real discards the imaginary part\n",
      "  return SFa.astype(np.float32)\n"
     ]
    },
    {
     "name": "stdout",
     "output_type": "stream",
     "text": [
      "-----WARNING: Model s23 failed to learn: sum(ans)=120.0 sum(y)=78.0 len(y)=120\n",
      "\tVALENCE-s23|Acc=0.65|10-CV=0.63333|STD=0.0|Time spend=0.4449138641357422\n"
     ]
    },
    {
     "name": "stderr",
     "output_type": "stream",
     "text": [
      "/root/projects/components/CSP.py:78: ComplexWarning: Casting complex values to real discards the imaginary part\n",
      "  return SFa.astype(np.float32)\n"
     ]
    },
    {
     "name": "stdout",
     "output_type": "stream",
     "text": [
      "\tVALENCE-s24|Acc=0.78333|10-CV=0.77667|STD=0.05175|Time spend=0.4368443489074707\n"
     ]
    },
    {
     "name": "stderr",
     "output_type": "stream",
     "text": [
      "/root/projects/components/CSP.py:78: ComplexWarning: Casting complex values to real discards the imaginary part\n",
      "  return SFa.astype(np.float32)\n"
     ]
    },
    {
     "name": "stdout",
     "output_type": "stream",
     "text": [
      "\tVALENCE-s25|Acc=0.68333|10-CV=0.53|STD=0.09363|Time spend=0.4131464958190918\n"
     ]
    },
    {
     "name": "stderr",
     "output_type": "stream",
     "text": [
      "/root/projects/components/CSP.py:78: ComplexWarning: Casting complex values to real discards the imaginary part\n",
      "  return SFa.astype(np.float32)\n"
     ]
    },
    {
     "name": "stdout",
     "output_type": "stream",
     "text": [
      "\tVALENCE-s26|Acc=0.85833|10-CV=0.82667|STD=0.09404|Time spend=0.4635148048400879\n"
     ]
    },
    {
     "name": "stderr",
     "output_type": "stream",
     "text": [
      "/root/projects/components/CSP.py:78: ComplexWarning: Casting complex values to real discards the imaginary part\n",
      "  return SFa.astype(np.float32)\n"
     ]
    },
    {
     "name": "stdout",
     "output_type": "stream",
     "text": [
      "\tVALENCE-s27|Acc=0.925|10-CV=0.88|STD=0.03399|Time spend=0.4977736473083496\n"
     ]
    },
    {
     "name": "stderr",
     "output_type": "stream",
     "text": [
      "/root/projects/components/CSP.py:78: ComplexWarning: Casting complex values to real discards the imaginary part\n",
      "  return SFa.astype(np.float32)\n"
     ]
    },
    {
     "name": "stdout",
     "output_type": "stream",
     "text": [
      "\tVALENCE-s28|Acc=0.71667|10-CV=0.65|STD=0.04534|Time spend=0.39572596549987793\n"
     ]
    },
    {
     "name": "stderr",
     "output_type": "stream",
     "text": [
      "/root/projects/components/CSP.py:78: ComplexWarning: Casting complex values to real discards the imaginary part\n",
      "  return SFa.astype(np.float32)\n"
     ]
    },
    {
     "name": "stdout",
     "output_type": "stream",
     "text": [
      "\tVALENCE-s29|Acc=1.0|10-CV=1.0|STD=0.0|Time spend=0.4246816635131836\n"
     ]
    },
    {
     "name": "stderr",
     "output_type": "stream",
     "text": [
      "/root/projects/components/CSP.py:78: ComplexWarning: Casting complex values to real discards the imaginary part\n",
      "  return SFa.astype(np.float32)\n"
     ]
    },
    {
     "name": "stdout",
     "output_type": "stream",
     "text": [
      "-----WARNING: Model s30 failed to learn: sum(ans)=120.0 sum(y)=81.0 len(y)=120\n",
      "\tVALENCE-s30|Acc=0.675|10-CV=0.66667|STD=0.0|Time spend=0.43340325355529785\n"
     ]
    },
    {
     "name": "stderr",
     "output_type": "stream",
     "text": [
      "/root/projects/components/CSP.py:78: ComplexWarning: Casting complex values to real discards the imaginary part\n",
      "  return SFa.astype(np.float32)\n"
     ]
    },
    {
     "name": "stdout",
     "output_type": "stream",
     "text": [
      "\tVALENCE-s31|Acc=0.98333|10-CV=0.98|STD=0.02667|Time spend=0.476947546005249\n"
     ]
    },
    {
     "name": "stderr",
     "output_type": "stream",
     "text": [
      "/root/projects/components/CSP.py:78: ComplexWarning: Casting complex values to real discards the imaginary part\n",
      "  return SFa.astype(np.float32)\n"
     ]
    },
    {
     "name": "stdout",
     "output_type": "stream",
     "text": [
      "\tVALENCE-s32|Acc=0.66667|10-CV=0.64667|STD=0.0718|Time spend=0.40377116203308105\n",
      "VALENCE|Acc=0.7989583333333335|10-CV=0.7692708333333335|STD=0.042305146715423875\n"
     ]
    }
   ],
   "source": [
    "accs_v, cv_means_v, cv_stds_v = [],[],[]\n",
    "for filename in tqdm(dataset.get_file_list()):\n",
    "\n",
    "    data, labels, groups = dataset.get_data(filename, stimuli=Dataset_subjectDependent.STIMULI_VALENCE, return_type='numpy')\n",
    "    labels = labels.squeeze()\n",
    "    start = time.time()\n",
    "    filters = CSP(data[labels==0], data[labels==1])\n",
    "    \n",
    "    csp_data = []\n",
    "    for index in range(len(data)):\n",
    "        \n",
    "        # (672, 32) @ (32, 32) = (672, 32)\n",
    "        csp = data[index].T @ filters[labels[index].astype(int)]\n",
    "        # (1, 32, 672)\n",
    "        csp = np.expand_dims(csp.T, axis=0)\n",
    "        csp_data.append(csp)\n",
    "\n",
    "    csp_data = np.vstack(csp_data)\n",
    "    # print(csp_data.shape) => (2400, 32, 128)\n",
    "    fe = FeatureExtractor(sfreq=128, selected_funcs=['pow_freq_bands'],params=params,n_jobs=8)\n",
    "    X = fe.fit_transform(X=csp_data)\n",
    "    # print(X.shape, time.time() - start) => (2400, 160) 1.2374355792999268\n",
    "\n",
    "    assert X.shape[1] == 160\n",
    "    _, acc, cross = train_model(X, labels.reshape(-1), groups, filename=filename)\n",
    "    print(f\"\\tVALENCE-{filename}|Acc={round(acc,5)}|10-CV={round(cross.mean(),5)}|STD={round(cross.std(),5)}|Time spend={time.time() - start}\")\n",
    "    accs_v.append(acc)\n",
    "    cv_means_v.append(cross.mean())\n",
    "    cv_stds_v.append(cross.std())\n",
    "print(f\"VALENCE|Acc={sum(accs_v)/len(accs_v)}|10-CV={sum(cv_means_v)/len(cv_means_v)}|STD={sum(cv_stds_v)/len(cv_stds_v)}\")"
   ]
  },
  {
   "cell_type": "code",
   "execution_count": 22,
   "metadata": {},
   "outputs": [
    {
     "name": "stdout",
     "output_type": "stream",
     "text": [
      "TOTAL|Acc=0.8125|10-CV=0.7871354166666666|STD=0.03578972181970123\n"
     ]
    }
   ],
   "source": [
    "accs.extend(accs_v)\n",
    "cv_means.extend(cv_means_v)\n",
    "cv_stds.extend(cv_stds_v)\n",
    "\n",
    "print(f\"TOTAL|Acc={sum(accs)/len(accs)}|10-CV={sum(cv_means)/len(cv_means)}|STD={sum(cv_stds)/len(cv_stds)}\")"
   ]
  },
  {
   "cell_type": "code",
   "execution_count": null,
   "metadata": {},
   "outputs": [],
   "source": []
  }
 ],
 "metadata": {
  "interpreter": {
   "hash": "27768773b483d82a9b2b839e3fa80b1be5789db7fd78df4eedef2df266871616"
  },
  "kernelspec": {
   "display_name": "Python 3 (ipykernel)",
   "language": "python",
   "name": "python3"
  },
  "language_info": {
   "codemirror_mode": {
    "name": "ipython",
    "version": 3
   },
   "file_extension": ".py",
   "mimetype": "text/x-python",
   "name": "python",
   "nbconvert_exporter": "python",
   "pygments_lexer": "ipython3",
   "version": "3.8.10"
  }
 },
 "nbformat": 4,
 "nbformat_minor": 4
}
