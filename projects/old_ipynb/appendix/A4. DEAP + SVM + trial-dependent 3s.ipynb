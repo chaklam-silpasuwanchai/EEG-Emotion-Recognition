{
 "cells": [
  {
   "cell_type": "code",
   "execution_count": 1,
   "metadata": {},
   "outputs": [
    {
     "name": "stdout",
     "output_type": "stream",
     "text": [
      "Found: 32 files\n",
      "s01 (800, 2) [47.5 60. ]\n"
     ]
    }
   ],
   "source": [
    "import time\n",
    "import numpy as np\n",
    "from tqdm.notebook import tqdm\n",
    "\n",
    "from components.dataset_jo import *\n",
    "\n",
    "dataset = Dataset_subjectDependent('data')\n",
    "segment_lenght = 3 #second\n",
    "dataset.set_segment(7680//(128*segment_lenght))\n",
    "for filename in dataset.get_file_list():\n",
    "    data, labels, _ = dataset.get_data(filename, return_type='numpy')\n",
    "    print(filename, labels.shape, labels.sum(axis=0)/labels.shape[0]*100)\n",
    "    break"
   ]
  },
  {
   "cell_type": "code",
   "execution_count": 2,
   "metadata": {},
   "outputs": [],
   "source": [
    "def train_model(X_ori,y_ori,groups_ori,filename=None, kernel='rbf',return_text=False):\n",
    "    # Make a copy because I am paranoid\n",
    "    X,y,groups = X_ori.copy(), y_ori.copy(), groups_ori.copy()\n",
    "\n",
    "    from sklearn.svm import SVC\n",
    "    from sklearn.model_selection import StratifiedShuffleSplit \n",
    "    from sklearn.model_selection import cross_val_score\n",
    "\n",
    "    model = SVC(kernel=kernel,max_iter=50000)\n",
    "    cv = StratifiedShuffleSplit(n_splits=10, train_size=0.75, random_state=0)\n",
    "    cross = cross_val_score(model, X, y, cv=cv, n_jobs=8)\n",
    "    \n",
    "    # We probably dont need this\n",
    "    model = SVC(kernel=kernel, max_iter=50000)\n",
    "    model.fit(X, y)\n",
    "    ans = model.predict(X)\n",
    "    acc = sum(ans == y) / len(y)\n",
    "    # If the model answer with all 0 or 1, we print this message\n",
    "    text = None\n",
    "    if( sum(ans) == len(y) or sum(ans) == 0 ): \n",
    "        text = f\"-----WARNING: Model {filename} failed to learn: sum(ans)={sum(ans)} sum(y)={sum(y)} len(y)={len(y)}\"\n",
    "    if(return_text):\n",
    "        return model, acc, cross, text\n",
    "    else:\n",
    "        if(text != None): print(text)\n",
    "        return model, acc, cross"
   ]
  },
  {
   "cell_type": "markdown",
   "metadata": {},
   "source": [
    "## 2. Spectral Features"
   ]
  },
  {
   "cell_type": "code",
   "execution_count": 3,
   "metadata": {},
   "outputs": [],
   "source": [
    "from mne_features.feature_extraction import FeatureExtractor"
   ]
  },
  {
   "cell_type": "code",
   "execution_count": 5,
   "metadata": {},
   "outputs": [
    {
     "name": "stdout",
     "output_type": "stream",
     "text": [
      "\tAROUSAL-s01|Acc=0.72125|10-CV=0.6535|STD=0.01747|Time spend=34.55497932434082\n",
      "\tAROUSAL-s02|Acc=0.63375|10-CV=0.6265|STD=0.01501|Time spend=0.7872111797332764\n",
      "-----WARNING: Model s03 failed to learn: sum(ans)=0.0 sum(y)=160.0 len(y)=800\n",
      "\tAROUSAL-s03|Acc=0.8|10-CV=0.8|STD=0.0|Time spend=0.6194753646850586\n",
      "\tAROUSAL-s04|Acc=0.6525|10-CV=0.607|STD=0.02135|Time spend=0.688223123550415\n",
      "\tAROUSAL-s05|Acc=0.63125|10-CV=0.55|STD=0.01688|Time spend=0.6807258129119873\n",
      "\tAROUSAL-s06|Acc=0.64|10-CV=0.594|STD=0.02956|Time spend=0.7450368404388428\n",
      "\tAROUSAL-s07|Acc=0.68125|10-CV=0.643|STD=0.01054|Time spend=0.6804623603820801\n",
      "\tAROUSAL-s08|Acc=0.6925|10-CV=0.6105|STD=0.03282|Time spend=0.7227375507354736\n",
      "\tAROUSAL-s09|Acc=0.64375|10-CV=0.6225|STD=0.01834|Time spend=0.7428150177001953\n",
      "\tAROUSAL-s10|Acc=0.7675|10-CV=0.683|STD=0.021|Time spend=0.7191517353057861\n",
      "-----WARNING: Model s11 failed to learn: sum(ans)=0.0 sum(y)=300.0 len(y)=800\n",
      "\tAROUSAL-s11|Acc=0.625|10-CV=0.6245|STD=0.0015|Time spend=0.7061340808868408\n",
      "-----WARNING: Model s12 failed to learn: sum(ans)=800.0 sum(y)=660.0 len(y)=800\n",
      "\tAROUSAL-s12|Acc=0.825|10-CV=0.825|STD=0.0|Time spend=0.7037277221679688\n",
      "-----WARNING: Model s13 failed to learn: sum(ans)=800.0 sum(y)=680.0 len(y)=800\n",
      "\tAROUSAL-s13|Acc=0.85|10-CV=0.85|STD=0.0|Time spend=0.6416637897491455\n",
      "-----WARNING: Model s14 failed to learn: sum(ans)=800.0 sum(y)=540.0 len(y)=800\n",
      "\tAROUSAL-s14|Acc=0.675|10-CV=0.675|STD=0.0|Time spend=0.6811330318450928\n",
      "\tAROUSAL-s15|Acc=0.72625|10-CV=0.68|STD=0.01884|Time spend=0.6794006824493408\n",
      "\tAROUSAL-s16|Acc=0.7575|10-CV=0.676|STD=0.01985|Time spend=0.7412357330322266\n",
      "\tAROUSAL-s17|Acc=0.715|10-CV=0.69|STD=0.0282|Time spend=0.7359726428985596\n",
      "\tAROUSAL-s18|Acc=0.64625|10-CV=0.63|STD=0.00447|Time spend=0.7680714130401611\n",
      "\tAROUSAL-s19|Acc=0.68375|10-CV=0.6755|STD=0.00269|Time spend=1.813462734222412\n",
      "-----WARNING: Model s20 failed to learn: sum(ans)=800.0 sum(y)=620.0 len(y)=800\n",
      "\tAROUSAL-s20|Acc=0.775|10-CV=0.775|STD=0.0|Time spend=1.2496123313903809\n",
      "-----WARNING: Model s21 failed to learn: sum(ans)=800.0 sum(y)=640.0 len(y)=800\n",
      "\tAROUSAL-s21|Acc=0.8|10-CV=0.8|STD=0.0|Time spend=1.0845508575439453\n",
      "-----WARNING: Model s22 failed to learn: sum(ans)=800.0 sum(y)=480.0 len(y)=800\n",
      "\tAROUSAL-s22|Acc=0.6|10-CV=0.587|STD=0.01706|Time spend=1.515617847442627\n",
      "-----WARNING: Model s23 failed to learn: sum(ans)=0.0 sum(y)=200.0 len(y)=800\n",
      "\tAROUSAL-s23|Acc=0.75|10-CV=0.75|STD=0.0|Time spend=1.6998388767242432\n",
      "-----WARNING: Model s24 failed to learn: sum(ans)=800.0 sum(y)=660.0 len(y)=800\n",
      "\tAROUSAL-s24|Acc=0.825|10-CV=0.825|STD=0.0|Time spend=1.2579529285430908\n",
      "-----WARNING: Model s25 failed to learn: sum(ans)=800.0 sum(y)=580.0 len(y)=800\n",
      "\tAROUSAL-s25|Acc=0.725|10-CV=0.725|STD=0.0|Time spend=1.718855619430542\n",
      "\tAROUSAL-s26|Acc=0.62875|10-CV=0.6055|STD=0.02173|Time spend=1.8620951175689697\n",
      "\tAROUSAL-s27|Acc=0.70125|10-CV=0.679|STD=0.0102|Time spend=1.6375501155853271\n",
      "\tAROUSAL-s28|Acc=0.61375|10-CV=0.584|STD=0.01179|Time spend=1.6974458694458008\n",
      "\tAROUSAL-s29|Acc=0.66625|10-CV=0.6335|STD=0.02191|Time spend=1.8948557376861572\n",
      "\tAROUSAL-s30|Acc=0.6225|10-CV=0.5605|STD=0.01507|Time spend=1.888824462890625\n",
      "\tAROUSAL-s31|Acc=0.7|10-CV=0.62|STD=0.04472|Time spend=1.7477850914001465\n",
      "-----WARNING: Model s32 failed to learn: sum(ans)=800.0 sum(y)=540.0 len(y)=800\n",
      "\tAROUSAL-s32|Acc=0.675|10-CV=0.675|STD=0.0|Time spend=1.247793436050415\n",
      "AROUSAL|Acc=0.7015625000000002|10-CV=0.6729843750000002|STD=0.01253167527752211\n",
      "\tVALENCE-s01|Acc=0.68625|10-CV=0.5595|STD=0.02631|Time spend=0.5980844497680664\n",
      "\tVALENCE-s02|Acc=0.71875|10-CV=0.682|STD=0.02713|Time spend=0.8348362445831299\n",
      "\tVALENCE-s03|Acc=0.6925|10-CV=0.624|STD=0.02931|Time spend=0.6199402809143066\n",
      "\tVALENCE-s04|Acc=0.66|10-CV=0.618|STD=0.02315|Time spend=0.5568137168884277\n",
      "\tVALENCE-s05|Acc=0.64625|10-CV=0.62|STD=0.02074|Time spend=0.5315136909484863\n",
      "-----WARNING: Model s06 failed to learn: sum(ans)=800.0 sum(y)=600.0 len(y)=800\n",
      "\tVALENCE-s06|Acc=0.75|10-CV=0.75|STD=0.0|Time spend=0.6764981746673584\n",
      "\tVALENCE-s07|Acc=0.70875|10-CV=0.701|STD=0.003|Time spend=0.4958529472351074\n",
      "\tVALENCE-s08|Acc=0.725|10-CV=0.5925|STD=0.02462|Time spend=0.5853517055511475\n",
      "\tVALENCE-s09|Acc=0.72875|10-CV=0.6845|STD=0.03636|Time spend=0.5079574584960938\n",
      "\tVALENCE-s10|Acc=0.78625|10-CV=0.743|STD=0.02865|Time spend=0.5483055114746094\n",
      "\tVALENCE-s11|Acc=0.6|10-CV=0.599|STD=0.00374|Time spend=0.5553197860717773\n",
      "\tVALENCE-s12|Acc=0.70375|10-CV=0.6255|STD=0.02659|Time spend=0.6544251441955566\n",
      "\tVALENCE-s13|Acc=0.77375|10-CV=0.76|STD=0.02121|Time spend=0.5484602451324463\n",
      "\tVALENCE-s14|Acc=0.74125|10-CV=0.69|STD=0.02683|Time spend=0.6102786064147949\n",
      "\tVALENCE-s15|Acc=0.8225|10-CV=0.773|STD=0.02857|Time spend=0.7050702571868896\n",
      "\tVALENCE-s16|Acc=0.75625|10-CV=0.7135|STD=0.01718|Time spend=0.9245765209197998\n",
      "\tVALENCE-s17|Acc=0.65125|10-CV=0.5745|STD=0.02285|Time spend=0.7931337356567383\n",
      "\tVALENCE-s18|Acc=0.8075|10-CV=0.776|STD=0.03023|Time spend=0.6478424072265625\n",
      "\tVALENCE-s19|Acc=0.7025|10-CV=0.6465|STD=0.0321|Time spend=0.6572961807250977\n",
      "\tVALENCE-s20|Acc=0.725|10-CV=0.6835|STD=0.03115|Time spend=0.7647149562835693\n",
      "\tVALENCE-s21|Acc=0.655|10-CV=0.5625|STD=0.01901|Time spend=0.8984448909759521\n",
      "\tVALENCE-s22|Acc=0.72875|10-CV=0.703|STD=0.03051|Time spend=0.5416707992553711\n",
      "\tVALENCE-s23|Acc=0.66375|10-CV=0.6485|STD=0.0045|Time spend=0.5515360832214355\n",
      "\tVALENCE-s24|Acc=0.60875|10-CV=0.5665|STD=0.01845|Time spend=0.7312283515930176\n",
      "\tVALENCE-s25|Acc=0.6375|10-CV=0.564|STD=0.02782|Time spend=0.6225042343139648\n",
      "-----WARNING: Model s26 failed to learn: sum(ans)=800.0 sum(y)=520.0 len(y)=800\n",
      "\tVALENCE-s26|Acc=0.65|10-CV=0.65|STD=0.0|Time spend=0.544074296951294\n",
      "\tVALENCE-s27|Acc=0.75125|10-CV=0.747|STD=0.004|Time spend=0.5368037223815918\n",
      "\tVALENCE-s28|Acc=0.635|10-CV=0.6275|STD=0.00335|Time spend=0.5283722877502441\n",
      "\tVALENCE-s29|Acc=0.67875|10-CV=0.6155|STD=0.01836|Time spend=0.5319418907165527\n",
      "-----WARNING: Model s30 failed to learn: sum(ans)=800.0 sum(y)=540.0 len(y)=800\n",
      "\tVALENCE-s30|Acc=0.675|10-CV=0.675|STD=0.0|Time spend=0.5411386489868164\n",
      "\tVALENCE-s31|Acc=0.63125|10-CV=0.5835|STD=0.00808|Time spend=0.6316306591033936\n",
      "\tVALENCE-s32|Acc=0.63875|10-CV=0.583|STD=0.01778|Time spend=0.533503532409668\n",
      "VALENCE|Acc=0.698125|10-CV=0.6544374999999999|STD=0.01911234208240908\n",
      "TOTAL|Acc=0.69984375|10-CV=0.6637109375000001|STD=0.015822008679965596\n"
     ]
    }
   ],
   "source": [
    "bands = [(0,4), (4,8), (8,12), (12,30), (30,64)]\n",
    "# [alias_feature_function]__[optional_param]\n",
    "params = dict({\n",
    "    'pow_freq_bands__log':True,\n",
    "    'pow_freq_bands__normalize':False,\n",
    "    'pow_freq_bands__freq_bands':bands\n",
    "})\n",
    "\n",
    "\n",
    "accs,cv_means,cv_stds  = [],[],[]\n",
    "# count = 0\n",
    "for filename in dataset.get_file_list():\n",
    "    start = time.time()\n",
    "    data, labels, groups = dataset.get_data(filename, stimuli=Dataset_subjectDependent.STIMULI_AROUSAL, return_type='numpy')\n",
    "    fe = FeatureExtractor(sfreq=128, selected_funcs=['pow_freq_bands'],params=params,n_jobs=8)\n",
    "    X = fe.fit_transform(X=data)\n",
    "    _, acc, cross = train_model(X, labels.reshape(-1), groups,filename=filename)\n",
    "    print(f\"\\tAROUSAL-{filename}|Acc={round(acc,5)}|10-CV={round(cross.mean(),5)}|STD={round(cross.std(),5)}|Time spend={time.time() - start}\")\n",
    "    accs.append(acc)\n",
    "    cv_means.append(cross.mean())\n",
    "    cv_stds.append(cross.std())\n",
    "    # count+=1\n",
    "    # if(count == 5): break\n",
    "print(f\"AROUSAL|Acc={sum(accs)/len(accs)}|10-CV={sum(cv_means)/len(cv_means)}|STD={sum(cv_stds)/len(cv_stds)}\")\n",
    "\n",
    "accs_v,cv_means_v,cv_stds_v  = [],[],[]\n",
    "# count=0\n",
    "for filename in dataset.get_file_list():\n",
    "    start = time.time()\n",
    "    data, labels, groups = dataset.get_data(filename, stimuli=Dataset_subjectDependent.STIMULI_VALENCE, return_type='numpy')\n",
    "    fe = FeatureExtractor(sfreq=128, selected_funcs=['pow_freq_bands'],params=params,n_jobs=8)\n",
    "    X = fe.fit_transform(X=data)\n",
    "    _, acc, cross = train_model(X, labels.reshape(-1), groups,filename=filename)\n",
    "    print(f\"\\tVALENCE-{filename}|Acc={round(acc,5)}|10-CV={round(cross.mean(),5)}|STD={round(cross.std(),5)}|Time spend={time.time() - start}\")\n",
    "    accs_v.append(acc)\n",
    "    cv_means_v.append(cross.mean())\n",
    "    cv_stds_v.append(cross.std())\n",
    "    # count+=1\n",
    "    # if(count == 5): break\n",
    "print(f\"VALENCE|Acc={sum(accs_v)/len(accs_v)}|10-CV={sum(cv_means_v)/len(cv_means_v)}|STD={sum(cv_stds_v)/len(cv_stds_v)}\")\n",
    "\n",
    "accs.extend(accs_v)\n",
    "cv_means.extend(cv_means_v)\n",
    "cv_stds.extend(cv_stds_v)\n",
    "print(f\"TOTAL|Acc={sum(accs)/len(accs)}|10-CV={sum(cv_means)/len(cv_means)}|STD={sum(cv_stds)/len(cv_stds)}\")"
   ]
  },
  {
   "cell_type": "markdown",
   "metadata": {},
   "source": [
    "## 3. Asymetry"
   ]
  },
  {
   "cell_type": "code",
   "execution_count": 6,
   "metadata": {},
   "outputs": [
    {
     "name": "stdout",
     "output_type": "stream",
     "text": [
      "left_channel_indexes=[0, 3, 2, 7, 11, 6, 10, 13, 1, 4, 5, 8, 9, 12]\n",
      "right_channel_indexes=[16, 20, 19, 25, 29, 24, 28, 31, 17, 21, 22, 26, 27, 30]\n",
      "frontal_channel_indexes=[4, 5, 22, 21, 3, 2, 18, 19, 20, 0, 16]\n",
      "posterior_channel_indexes=[8, 9, 27, 26, 11, 10, 15, 28, 29, 13, 31]\n"
     ]
    }
   ],
   "source": [
    "channels = ['Fp1','AF3','F3','F7','FC5','FC1','C3','T7','CP5','CP1','P3','P7','PO3','O1','Oz','Pz','Fp2','AF4','Fz','F4','F8','FC6','FC2','Cz','C4','T8','CP6','CP2','P4','P8','PO4','O2']\n",
    "left_channels = ['Fp1','F7','F3','T7','P7','C3','P3','O1','AF3','FC5','FC1','CP5','CP1','PO3']\n",
    "right_channels = ['Fp2','F8','F4','T8','P8','C4','P4','O2','AF4','FC6','FC2','CP6','CP2','PO4']\n",
    "left_channel_indexes = [ channels.index(ch) for ch in left_channels ]\n",
    "right_channel_indexes = [ channels.index(ch) for ch in right_channels ]\n",
    "\n",
    "print(f\"{left_channel_indexes=}\")\n",
    "print(f\"{right_channel_indexes=}\")\n",
    "\n",
    "frontal_channels = ['FC5','FC1','FC2','FC6','F7','F3','Fz','F4','F8','Fp1','Fp2']\n",
    "posterior_channels = ['CP5','CP1','CP2','CP6','P7','P3','Pz','P4','P8','O1','O2']\n",
    "\n",
    "frontal_channel_indexes = [ channels.index(ch) for ch in frontal_channels ]\n",
    "posterior_channel_indexes = [ channels.index(ch) for ch in posterior_channels ]\n",
    "\n",
    "print(f\"{frontal_channel_indexes=}\")\n",
    "print(f\"{posterior_channel_indexes=}\")"
   ]
  },
  {
   "cell_type": "code",
   "execution_count": 7,
   "metadata": {},
   "outputs": [
    {
     "name": "stdout",
     "output_type": "stream",
     "text": [
      "\tAROUSAL-s01-DASM|Acc=0.6025|10-CV=0.6015|STD=0.00502|Time spend=0.38223981857299805\n",
      "\tAROUSAL-s01-RASM|Acc=0.6025|10-CV=0.6|STD=0.0|Time spend=0.4559028148651123\n",
      "\tAROUSAL-s01-DCAU|Acc=0.6375|10-CV=0.601|STD=0.0153|Time spend=0.5185790061950684\n",
      "\tAROUSAL-s02-DASM|Acc=0.61375|10-CV=0.6035|STD=0.01266|Time spend=0.39681053161621094\n",
      "\tAROUSAL-s02-RASM|Acc=0.60875|10-CV=0.6015|STD=0.00229|Time spend=0.4647860527038574\n",
      "\tAROUSAL-s02-DCAU|Acc=0.61375|10-CV=0.604|STD=0.01513|Time spend=0.529778242111206\n",
      "-----WARNING: Model s03 failed to learn: sum(ans)=0.0 sum(y)=160.0 len(y)=800\n",
      "\tAROUSAL-s03-DASM|Acc=0.8|10-CV=0.8|STD=0.0|Time spend=0.46967601776123047\n",
      "\tAROUSAL-s03-RASM|Acc=0.8025|10-CV=0.8|STD=0.0|Time spend=0.5160152912139893\n",
      "-----WARNING: Model s03 failed to learn: sum(ans)=0.0 sum(y)=160.0 len(y)=800\n",
      "\tAROUSAL-s03-DCAU|Acc=0.8|10-CV=0.8|STD=0.0|Time spend=0.5804157257080078\n",
      "\tAROUSAL-s04-DASM|Acc=0.61875|10-CV=0.6035|STD=0.00776|Time spend=0.4532430171966553\n",
      "\tAROUSAL-s04-RASM|Acc=0.60125|10-CV=0.598|STD=0.004|Time spend=0.5202639102935791\n",
      "\tAROUSAL-s04-DCAU|Acc=0.61875|10-CV=0.5985|STD=0.01097|Time spend=0.5859332084655762\n",
      "\tAROUSAL-s05-DASM|Acc=0.59|10-CV=0.525|STD=0.02098|Time spend=0.38785409927368164\n",
      "\tAROUSAL-s05-RASM|Acc=0.535|10-CV=0.528|STD=0.00458|Time spend=0.45931458473205566\n",
      "\tAROUSAL-s05-DCAU|Acc=0.5925|10-CV=0.5345|STD=0.02207|Time spend=0.5272121429443359\n",
      "\tAROUSAL-s06-DASM|Acc=0.63625|10-CV=0.607|STD=0.01631|Time spend=0.38252997398376465\n",
      "\tAROUSAL-s06-RASM|Acc=0.58375|10-CV=0.5765|STD=0.00391|Time spend=0.44948267936706543\n",
      "\tAROUSAL-s06-DCAU|Acc=0.62125|10-CV=0.5935|STD=0.01975|Time spend=0.5203845500946045\n",
      "\tAROUSAL-s07-DASM|Acc=0.63125|10-CV=0.626|STD=0.003|Time spend=0.48000454902648926\n",
      "\tAROUSAL-s07-RASM|Acc=0.62875|10-CV=0.6255|STD=0.00269|Time spend=0.5634653568267822\n",
      "\tAROUSAL-s07-DCAU|Acc=0.62625|10-CV=0.6245|STD=0.0015|Time spend=0.6310644149780273\n",
      "\tAROUSAL-s08-DASM|Acc=0.62|10-CV=0.5735|STD=0.01629|Time spend=0.3804199695587158\n",
      "-----WARNING: Model s08 failed to learn: sum(ans)=800.0 sum(y)=460.0 len(y)=800\n",
      "\tAROUSAL-s08-RASM|Acc=0.575|10-CV=0.576|STD=0.002|Time spend=0.4492959976196289\n",
      "\tAROUSAL-s08-DCAU|Acc=0.6225|10-CV=0.564|STD=0.0167|Time spend=0.5188727378845215\n",
      "\tAROUSAL-s09-DASM|Acc=0.66375|10-CV=0.6345|STD=0.01387|Time spend=0.38257813453674316\n",
      "\tAROUSAL-s09-RASM|Acc=0.60125|10-CV=0.6|STD=0.00707|Time spend=0.4511420726776123\n",
      "\tAROUSAL-s09-DCAU|Acc=0.64625|10-CV=0.623|STD=0.01453|Time spend=0.5173711776733398\n",
      "\tAROUSAL-s10-DASM|Acc=0.65875|10-CV=0.5995|STD=0.03166|Time spend=0.3929145336151123\n",
      "\tAROUSAL-s10-RASM|Acc=0.555|10-CV=0.548|STD=0.00332|Time spend=0.4671955108642578\n",
      "\tAROUSAL-s10-DCAU|Acc=0.65625|10-CV=0.5985|STD=0.02656|Time spend=0.5330047607421875\n",
      "-----WARNING: Model s11 failed to learn: sum(ans)=0.0 sum(y)=300.0 len(y)=800\n",
      "\tAROUSAL-s11-DASM|Acc=0.625|10-CV=0.625|STD=0.0|Time spend=0.48443055152893066\n",
      "\tAROUSAL-s11-RASM|Acc=0.62625|10-CV=0.6245|STD=0.0015|Time spend=0.5452361106872559\n",
      "-----WARNING: Model s11 failed to learn: sum(ans)=0.0 sum(y)=300.0 len(y)=800\n",
      "\tAROUSAL-s11-DCAU|Acc=0.625|10-CV=0.625|STD=0.0|Time spend=0.6110782623291016\n",
      "-----WARNING: Model s12 failed to learn: sum(ans)=800.0 sum(y)=660.0 len(y)=800\n",
      "\tAROUSAL-s12-DASM|Acc=0.825|10-CV=0.825|STD=0.0|Time spend=0.379439115524292\n",
      "\tAROUSAL-s12-RASM|Acc=0.8275|10-CV=0.8235|STD=0.00229|Time spend=0.42263293266296387\n",
      "-----WARNING: Model s12 failed to learn: sum(ans)=800.0 sum(y)=660.0 len(y)=800\n",
      "\tAROUSAL-s12-DCAU|Acc=0.825|10-CV=0.825|STD=0.0|Time spend=0.48891711235046387\n",
      "-----WARNING: Model s13 failed to learn: sum(ans)=800.0 sum(y)=680.0 len(y)=800\n",
      "\tAROUSAL-s13-DASM|Acc=0.85|10-CV=0.85|STD=0.0|Time spend=0.3809335231781006\n",
      "-----WARNING: Model s13 failed to learn: sum(ans)=800.0 sum(y)=680.0 len(y)=800\n",
      "\tAROUSAL-s13-RASM|Acc=0.85|10-CV=0.85|STD=0.0|Time spend=0.4181187152862549\n",
      "-----WARNING: Model s13 failed to learn: sum(ans)=800.0 sum(y)=680.0 len(y)=800\n",
      "\tAROUSAL-s13-DCAU|Acc=0.85|10-CV=0.85|STD=0.0|Time spend=0.47884416580200195\n",
      "-----WARNING: Model s14 failed to learn: sum(ans)=800.0 sum(y)=540.0 len(y)=800\n",
      "\tAROUSAL-s14-DASM|Acc=0.675|10-CV=0.675|STD=0.0|Time spend=0.38835597038269043\n",
      "\tAROUSAL-s14-RASM|Acc=0.67625|10-CV=0.6745|STD=0.0015|Time spend=0.45046401023864746\n",
      "-----WARNING: Model s14 failed to learn: sum(ans)=800.0 sum(y)=540.0 len(y)=800\n",
      "\tAROUSAL-s14-DCAU|Acc=0.675|10-CV=0.675|STD=0.0|Time spend=0.5212678909301758\n",
      "\tAROUSAL-s15-DASM|Acc=0.6825|10-CV=0.633|STD=0.02293|Time spend=0.4462261199951172\n",
      "\tAROUSAL-s15-RASM|Acc=0.54375|10-CV=0.523|STD=0.009|Time spend=0.520111083984375\n",
      "\tAROUSAL-s15-DCAU|Acc=0.68125|10-CV=0.637|STD=0.039|Time spend=0.5841188430786133\n",
      "\tAROUSAL-s16-DASM|Acc=0.6575|10-CV=0.607|STD=0.02848|Time spend=0.40529727935791016\n",
      "\tAROUSAL-s16-RASM|Acc=0.51875|10-CV=0.5105|STD=0.01274|Time spend=0.47635912895202637\n",
      "\tAROUSAL-s16-DCAU|Acc=0.62|10-CV=0.57|STD=0.02855|Time spend=0.5434951782226562\n",
      "\tAROUSAL-s17-DASM|Acc=0.69|10-CV=0.6635|STD=0.0179|Time spend=0.36896753311157227\n",
      "\tAROUSAL-s17-RASM|Acc=0.60125|10-CV=0.602|STD=0.00458|Time spend=0.4335057735443115\n",
      "\tAROUSAL-s17-DCAU|Acc=0.66625|10-CV=0.635|STD=0.02559|Time spend=0.4947052001953125\n",
      "\tAROUSAL-s18-DASM|Acc=0.63875|10-CV=0.6285|STD=0.00594|Time spend=0.38077688217163086\n",
      "\tAROUSAL-s18-RASM|Acc=0.62625|10-CV=0.62|STD=0.00894|Time spend=0.4437899589538574\n",
      "-----WARNING: Model s18 failed to learn: sum(ans)=800.0 sum(y)=500.0 len(y)=800\n",
      "\tAROUSAL-s18-DCAU|Acc=0.625|10-CV=0.6245|STD=0.00269|Time spend=0.5100400447845459\n",
      "\tAROUSAL-s19-DASM|Acc=0.685|10-CV=0.6775|STD=0.0025|Time spend=0.3956003189086914\n",
      "-----WARNING: Model s19 failed to learn: sum(ans)=800.0 sum(y)=540.0 len(y)=800\n",
      "\tAROUSAL-s19-RASM|Acc=0.675|10-CV=0.674|STD=0.002|Time spend=0.46145033836364746\n",
      "\tAROUSAL-s19-DCAU|Acc=0.69125|10-CV=0.6805|STD=0.00415|Time spend=0.5246706008911133\n",
      "-----WARNING: Model s20 failed to learn: sum(ans)=800.0 sum(y)=620.0 len(y)=800\n",
      "\tAROUSAL-s20-DASM|Acc=0.775|10-CV=0.775|STD=0.0|Time spend=0.46868276596069336\n",
      "-----WARNING: Model s20 failed to learn: sum(ans)=800.0 sum(y)=620.0 len(y)=800\n",
      "\tAROUSAL-s20-RASM|Acc=0.775|10-CV=0.775|STD=0.0|Time spend=0.5212423801422119\n",
      "-----WARNING: Model s20 failed to learn: sum(ans)=800.0 sum(y)=620.0 len(y)=800\n",
      "\tAROUSAL-s20-DCAU|Acc=0.775|10-CV=0.775|STD=0.0|Time spend=0.598170280456543\n",
      "-----WARNING: Model s21 failed to learn: sum(ans)=800.0 sum(y)=640.0 len(y)=800\n",
      "\tAROUSAL-s21-DASM|Acc=0.8|10-CV=0.8|STD=0.0|Time spend=0.37906670570373535\n",
      "\tAROUSAL-s21-RASM|Acc=0.80125|10-CV=0.8|STD=0.0|Time spend=0.4310286045074463\n",
      "-----WARNING: Model s21 failed to learn: sum(ans)=800.0 sum(y)=640.0 len(y)=800\n",
      "\tAROUSAL-s21-DCAU|Acc=0.8|10-CV=0.8|STD=0.0|Time spend=0.49422478675842285\n",
      "\tAROUSAL-s22-DASM|Acc=0.60625|10-CV=0.5945|STD=0.01387|Time spend=0.3741281032562256\n",
      "\tAROUSAL-s22-RASM|Acc=0.60125|10-CV=0.6|STD=0.0|Time spend=0.43935489654541016\n",
      "-----WARNING: Model s22 failed to learn: sum(ans)=800.0 sum(y)=480.0 len(y)=800\n",
      "\tAROUSAL-s22-DCAU|Acc=0.6|10-CV=0.596|STD=0.00917|Time spend=0.507220983505249\n",
      "-----WARNING: Model s23 failed to learn: sum(ans)=0.0 sum(y)=200.0 len(y)=800\n",
      "\tAROUSAL-s23-DASM|Acc=0.75|10-CV=0.75|STD=0.0|Time spend=0.37595200538635254\n",
      "\tAROUSAL-s23-RASM|Acc=0.75375|10-CV=0.7525|STD=0.0025|Time spend=0.42635440826416016\n",
      "-----WARNING: Model s23 failed to learn: sum(ans)=0.0 sum(y)=200.0 len(y)=800\n",
      "\tAROUSAL-s23-DCAU|Acc=0.75|10-CV=0.75|STD=0.0|Time spend=0.4866018295288086\n",
      "-----WARNING: Model s24 failed to learn: sum(ans)=800.0 sum(y)=660.0 len(y)=800\n",
      "\tAROUSAL-s24-DASM|Acc=0.825|10-CV=0.825|STD=0.0|Time spend=0.4259777069091797\n",
      "\tAROUSAL-s24-RASM|Acc=0.82625|10-CV=0.825|STD=0.0|Time spend=0.48190855979919434\n",
      "-----WARNING: Model s24 failed to learn: sum(ans)=800.0 sum(y)=660.0 len(y)=800\n",
      "\tAROUSAL-s24-DCAU|Acc=0.825|10-CV=0.825|STD=0.0|Time spend=0.5521025657653809\n",
      "-----WARNING: Model s25 failed to learn: sum(ans)=800.0 sum(y)=580.0 len(y)=800\n",
      "\tAROUSAL-s25-DASM|Acc=0.725|10-CV=0.725|STD=0.0|Time spend=0.3898806571960449\n",
      "\tAROUSAL-s25-RASM|Acc=0.72875|10-CV=0.7265|STD=0.00229|Time spend=0.4553067684173584\n",
      "-----WARNING: Model s25 failed to learn: sum(ans)=800.0 sum(y)=580.0 len(y)=800\n",
      "\tAROUSAL-s25-DCAU|Acc=0.725|10-CV=0.725|STD=0.0|Time spend=0.5232934951782227\n",
      "\tAROUSAL-s26-DASM|Acc=0.63125|10-CV=0.603|STD=0.019|Time spend=0.38779258728027344\n",
      "\tAROUSAL-s26-RASM|Acc=0.5825|10-CV=0.572|STD=0.00458|Time spend=0.46042871475219727\n",
      "\tAROUSAL-s26-DCAU|Acc=0.64125|10-CV=0.5905|STD=0.02514|Time spend=0.5225365161895752\n",
      "\tAROUSAL-s27-DASM|Acc=0.68375|10-CV=0.6755|STD=0.0015|Time spend=0.3660159111022949\n",
      "\tAROUSAL-s27-RASM|Acc=0.68375|10-CV=0.6725|STD=0.0025|Time spend=0.43165063858032227\n",
      "-----WARNING: Model s27 failed to learn: sum(ans)=800.0 sum(y)=540.0 len(y)=800\n",
      "\tAROUSAL-s27-DCAU|Acc=0.675|10-CV=0.675|STD=0.0|Time spend=0.49581360816955566\n",
      "\tAROUSAL-s28-DASM|Acc=0.57625|10-CV=0.563|STD=0.0152|Time spend=0.48560452461242676\n",
      "\tAROUSAL-s28-RASM|Acc=0.55625|10-CV=0.55|STD=0.00447|Time spend=0.5581800937652588\n",
      "\tAROUSAL-s28-DCAU|Acc=0.55875|10-CV=0.5525|STD=0.0068|Time spend=0.6269593238830566\n",
      "\tAROUSAL-s29-DASM|Acc=0.64625|10-CV=0.621|STD=0.0086|Time spend=0.3688833713531494\n",
      "\tAROUSAL-s29-RASM|Acc=0.63625|10-CV=0.627|STD=0.00332|Time spend=0.4407944679260254\n",
      "\tAROUSAL-s29-DCAU|Acc=0.63125|10-CV=0.625|STD=0.00387|Time spend=0.5095980167388916\n",
      "\tAROUSAL-s30-DASM|Acc=0.6|10-CV=0.5445|STD=0.02867|Time spend=0.372952938079834\n",
      "\tAROUSAL-s30-RASM|Acc=0.53|10-CV=0.5245|STD=0.00522|Time spend=0.44309258460998535\n",
      "\tAROUSAL-s30-DCAU|Acc=0.6175|10-CV=0.5615|STD=0.03309|Time spend=0.511082649230957\n",
      "\tAROUSAL-s31-DASM|Acc=0.65625|10-CV=0.6175|STD=0.03386|Time spend=0.38052845001220703\n",
      "\tAROUSAL-s31-RASM|Acc=0.535|10-CV=0.522|STD=0.009|Time spend=0.4566009044647217\n",
      "\tAROUSAL-s31-DCAU|Acc=0.6425|10-CV=0.604|STD=0.03007|Time spend=0.5282478332519531\n",
      "-----WARNING: Model s32 failed to learn: sum(ans)=800.0 sum(y)=540.0 len(y)=800\n",
      "\tAROUSAL-s32-DASM|Acc=0.675|10-CV=0.675|STD=0.0|Time spend=0.5274372100830078\n",
      "\tAROUSAL-s32-RASM|Acc=0.67875|10-CV=0.675|STD=0.00447|Time spend=0.5944023132324219\n",
      "-----WARNING: Model s32 failed to learn: sum(ans)=800.0 sum(y)=540.0 len(y)=800\n",
      "\tAROUSAL-s32-DCAU|Acc=0.675|10-CV=0.675|STD=0.0|Time spend=0.6584692001342773\n",
      "AROUSAL-DASM|Acc=0.6785546875000003|10-CV=0.660234375|STD=0.010187032956610841\n",
      "AROUSAL-RASM|Acc=0.6477343750000001|10-CV=0.6430468749999999|STD=0.0034615641105846602\n",
      "AROUSAL-DCAU|Acc=0.6753125000000001|10-CV=0.6568125|STD=0.010957546738033164\n",
      "\tVALENCE-s01-DASM|Acc=0.58875|10-CV=0.5425|STD=0.01978|Time spend=0.3812570571899414\n",
      "\tVALENCE-s01-RASM|Acc=0.5325|10-CV=0.5185|STD=0.00634|Time spend=0.4532194137573242\n",
      "\tVALENCE-s01-DCAU|Acc=0.5775|10-CV=0.5435|STD=0.0244|Time spend=0.5228347778320312\n",
      "\tVALENCE-s02-DASM|Acc=0.69625|10-CV=0.659|STD=0.01319|Time spend=0.37427711486816406\n",
      "\tVALENCE-s02-RASM|Acc=0.56375|10-CV=0.55|STD=0.00775|Time spend=0.44259166717529297\n",
      "\tVALENCE-s02-DCAU|Acc=0.71125|10-CV=0.6815|STD=0.03058|Time spend=0.5021374225616455\n",
      "\tVALENCE-s03-DASM|Acc=0.625|10-CV=0.572|STD=0.01536|Time spend=0.3870973587036133\n",
      "\tVALENCE-s03-RASM|Acc=0.56125|10-CV=0.5495|STD=0.00723|Time spend=0.4636383056640625\n",
      "\tVALENCE-s03-DCAU|Acc=0.59|10-CV=0.5495|STD=0.02761|Time spend=0.5442414283752441\n",
      "\tVALENCE-s04-DASM|Acc=0.66|10-CV=0.619|STD=0.01513|Time spend=0.45062732696533203\n",
      "\tVALENCE-s04-RASM|Acc=0.6025|10-CV=0.5975|STD=0.0025|Time spend=0.5207602977752686\n",
      "\tVALENCE-s04-DCAU|Acc=0.65125|10-CV=0.6225|STD=0.01887|Time spend=0.5880250930786133\n",
      "\tVALENCE-s05-DASM|Acc=0.61|10-CV=0.601|STD=0.00374|Time spend=0.3936781883239746\n",
      "\tVALENCE-s05-RASM|Acc=0.6075|10-CV=0.6025|STD=0.00403|Time spend=0.4640071392059326\n",
      "\tVALENCE-s05-DCAU|Acc=0.63|10-CV=0.601|STD=0.0086|Time spend=0.5282235145568848\n",
      "-----WARNING: Model s06 failed to learn: sum(ans)=800.0 sum(y)=600.0 len(y)=800\n",
      "\tVALENCE-s06-DASM|Acc=0.75|10-CV=0.75|STD=0.0|Time spend=0.3774528503417969\n",
      "\tVALENCE-s06-RASM|Acc=0.75125|10-CV=0.75|STD=0.0|Time spend=0.4328615665435791\n",
      "-----WARNING: Model s06 failed to learn: sum(ans)=800.0 sum(y)=600.0 len(y)=800\n",
      "\tVALENCE-s06-DCAU|Acc=0.75|10-CV=0.75|STD=0.0|Time spend=0.5150723457336426\n",
      "-----WARNING: Model s07 failed to learn: sum(ans)=800.0 sum(y)=560.0 len(y)=800\n",
      "\tVALENCE-s07-DASM|Acc=0.7|10-CV=0.7|STD=0.0|Time spend=0.42489075660705566\n",
      "\tVALENCE-s07-RASM|Acc=0.7025|10-CV=0.699|STD=0.002|Time spend=0.48975205421447754\n",
      "-----WARNING: Model s07 failed to learn: sum(ans)=800.0 sum(y)=560.0 len(y)=800\n",
      "\tVALENCE-s07-DCAU|Acc=0.7|10-CV=0.7|STD=0.0|Time spend=0.5669662952423096\n",
      "\tVALENCE-s08-DASM|Acc=0.645|10-CV=0.595|STD=0.02387|Time spend=0.3987386226654053\n",
      "\tVALENCE-s08-RASM|Acc=0.55125|10-CV=0.551|STD=0.002|Time spend=0.4629387855529785\n",
      "\tVALENCE-s08-DCAU|Acc=0.63|10-CV=0.56|STD=0.01761|Time spend=0.5284366607666016\n",
      "\tVALENCE-s09-DASM|Acc=0.705|10-CV=0.6865|STD=0.0254|Time spend=0.3704075813293457\n",
      "\tVALENCE-s09-RASM|Acc=0.625|10-CV=0.5745|STD=0.07471|Time spend=0.4418787956237793\n",
      "\tVALENCE-s09-DCAU|Acc=0.7|10-CV=0.677|STD=0.03407|Time spend=0.5063927173614502\n",
      "\tVALENCE-s10-DASM|Acc=0.7675|10-CV=0.715|STD=0.03362|Time spend=0.37683796882629395\n",
      "\tVALENCE-s10-RASM|Acc=0.52875|10-CV=0.5005|STD=0.01274|Time spend=0.4547257423400879\n",
      "\tVALENCE-s10-DCAU|Acc=0.75875|10-CV=0.7235|STD=0.03592|Time spend=0.5148005485534668\n",
      "-----WARNING: Model s11 failed to learn: sum(ans)=800.0 sum(y)=480.0 len(y)=800\n",
      "\tVALENCE-s11-DASM|Acc=0.6|10-CV=0.5975|STD=0.0075|Time spend=0.3818399906158447\n",
      "\tVALENCE-s11-RASM|Acc=0.60125|10-CV=0.5995|STD=0.0015|Time spend=0.44686317443847656\n",
      "\tVALENCE-s11-DCAU|Acc=0.60125|10-CV=0.598|STD=0.00781|Time spend=0.5163073539733887\n",
      "\tVALENCE-s12-DASM|Acc=0.63625|10-CV=0.592|STD=0.0261|Time spend=0.42432236671447754\n",
      "\tVALENCE-s12-RASM|Acc=0.5325|10-CV=0.5265|STD=0.00594|Time spend=0.49671030044555664\n",
      "\tVALENCE-s12-DCAU|Acc=0.59375|10-CV=0.5625|STD=0.02194|Time spend=0.5623607635498047\n",
      "\tVALENCE-s13-DASM|Acc=0.7075|10-CV=0.687|STD=0.02283|Time spend=0.413318395614624\n",
      "\tVALENCE-s13-RASM|Acc=0.5775|10-CV=0.573|STD=0.004|Time spend=0.4798107147216797\n",
      "\tVALENCE-s13-DCAU|Acc=0.71625|10-CV=0.709|STD=0.01997|Time spend=0.538625955581665\n",
      "\tVALENCE-s14-DASM|Acc=0.65875|10-CV=0.6425|STD=0.0238|Time spend=0.7434773445129395\n",
      "\tVALENCE-s14-RASM|Acc=0.50125|10-CV=0.502|STD=0.004|Time spend=0.815265417098999\n",
      "\tVALENCE-s14-DCAU|Acc=0.67625|10-CV=0.6385|STD=0.0257|Time spend=0.8787572383880615\n",
      "\tVALENCE-s15-DASM|Acc=0.76875|10-CV=0.731|STD=0.02888|Time spend=0.43854737281799316\n",
      "\tVALENCE-s15-RASM|Acc=0.575|10-CV=0.527|STD=0.0261|Time spend=0.5111606121063232\n",
      "\tVALENCE-s15-DCAU|Acc=0.76375|10-CV=0.732|STD=0.03607|Time spend=0.5643563270568848\n",
      "\tVALENCE-s16-DASM|Acc=0.70125|10-CV=0.6665|STD=0.01803|Time spend=0.39466261863708496\n",
      "\tVALENCE-s16-RASM|Acc=0.62625|10-CV=0.625|STD=0.0|Time spend=0.4584624767303467\n",
      "\tVALENCE-s16-DCAU|Acc=0.70125|10-CV=0.675|STD=0.01643|Time spend=0.5184640884399414\n",
      "\tVALENCE-s17-DASM|Acc=0.57|10-CV=0.556|STD=0.00768|Time spend=0.372880220413208\n",
      "\tVALENCE-s17-RASM|Acc=0.55125|10-CV=0.5495|STD=0.0015|Time spend=0.4416236877441406\n",
      "\tVALENCE-s17-DCAU|Acc=0.5525|10-CV=0.5465|STD=0.00867|Time spend=0.5105738639831543\n",
      "\tVALENCE-s18-DASM|Acc=0.76625|10-CV=0.737|STD=0.02482|Time spend=0.37542104721069336\n",
      "\tVALENCE-s18-RASM|Acc=0.6075|10-CV=0.5985|STD=0.00673|Time spend=0.4401857852935791\n",
      "\tVALENCE-s18-DCAU|Acc=0.76|10-CV=0.7415|STD=0.03|Time spend=0.496427059173584\n",
      "\tVALENCE-s19-DASM|Acc=0.63875|10-CV=0.58|STD=0.01204|Time spend=0.48351502418518066\n",
      "\tVALENCE-s19-RASM|Acc=0.57875|10-CV=0.5745|STD=0.0015|Time spend=0.5626859664916992\n",
      "\tVALENCE-s19-DCAU|Acc=0.635|10-CV=0.594|STD=0.01319|Time spend=0.6434109210968018\n",
      "\tVALENCE-s20-DASM|Acc=0.69|10-CV=0.6385|STD=0.03233|Time spend=0.3809027671813965\n",
      "\tVALENCE-s20-RASM|Acc=0.57625|10-CV=0.5745|STD=0.0015|Time spend=0.45018458366394043\n",
      "\tVALENCE-s20-DCAU|Acc=0.675|10-CV=0.613|STD=0.01691|Time spend=0.51513671875\n",
      "\tVALENCE-s21-DASM|Acc=0.60375|10-CV=0.5375|STD=0.02294|Time spend=0.382138729095459\n",
      "\tVALENCE-s21-RASM|Acc=0.5375|10-CV=0.5115|STD=0.0105|Time spend=0.45171189308166504\n",
      "\tVALENCE-s21-DCAU|Acc=0.6125|10-CV=0.5525|STD=0.04106|Time spend=0.522047758102417\n",
      "\tVALENCE-s22-DASM|Acc=0.5775|10-CV=0.5585|STD=0.01911|Time spend=0.39362168312072754\n",
      "\tVALENCE-s22-RASM|Acc=0.5525|10-CV=0.549|STD=0.002|Time spend=0.45937037467956543\n",
      "\tVALENCE-s22-DCAU|Acc=0.57|10-CV=0.549|STD=0.02095|Time spend=0.5266351699829102\n",
      "-----WARNING: Model s23 failed to learn: sum(ans)=800.0 sum(y)=520.0 len(y)=800\n",
      "\tVALENCE-s23-DASM|Acc=0.65|10-CV=0.65|STD=0.0|Time spend=0.47076845169067383\n",
      "\tVALENCE-s23-RASM|Acc=0.65875|10-CV=0.6495|STD=0.00568|Time spend=0.5431785583496094\n",
      "-----WARNING: Model s23 failed to learn: sum(ans)=800.0 sum(y)=520.0 len(y)=800\n",
      "\tVALENCE-s23-DCAU|Acc=0.65|10-CV=0.65|STD=0.0|Time spend=0.6106410026550293\n",
      "\tVALENCE-s24-DASM|Acc=0.59125|10-CV=0.559|STD=0.02914|Time spend=0.37317991256713867\n",
      "-----WARNING: Model s24 failed to learn: sum(ans)=0.0 sum(y)=360.0 len(y)=800\n",
      "\tVALENCE-s24-RASM|Acc=0.55|10-CV=0.5505|STD=0.0015|Time spend=0.44152069091796875\n",
      "\tVALENCE-s24-DCAU|Acc=0.625|10-CV=0.6065|STD=0.02984|Time spend=0.5070514678955078\n",
      "\tVALENCE-s25-DASM|Acc=0.56375|10-CV=0.5295|STD=0.03061|Time spend=0.3749537467956543\n",
      "\tVALENCE-s25-RASM|Acc=0.54|10-CV=0.5355|STD=0.00687|Time spend=0.4446396827697754\n",
      "\tVALENCE-s25-DCAU|Acc=0.5525|10-CV=0.5145|STD=0.02382|Time spend=0.5130593776702881\n",
      "-----WARNING: Model s26 failed to learn: sum(ans)=800.0 sum(y)=520.0 len(y)=800\n",
      "\tVALENCE-s26-DASM|Acc=0.65|10-CV=0.65|STD=0.0|Time spend=0.40731143951416016\n",
      "\tVALENCE-s26-RASM|Acc=0.6575|10-CV=0.648|STD=0.00332|Time spend=0.4773695468902588\n",
      "\tVALENCE-s26-DCAU|Acc=0.65125|10-CV=0.648|STD=0.006|Time spend=0.5458874702453613\n",
      "-----WARNING: Model s27 failed to learn: sum(ans)=800.0 sum(y)=600.0 len(y)=800\n",
      "\tVALENCE-s27-DASM|Acc=0.75|10-CV=0.75|STD=0.0|Time spend=0.468646764755249\n",
      "\tVALENCE-s27-RASM|Acc=0.75125|10-CV=0.7495|STD=0.0015|Time spend=0.5300617218017578\n",
      "-----WARNING: Model s27 failed to learn: sum(ans)=800.0 sum(y)=600.0 len(y)=800\n",
      "\tVALENCE-s27-DCAU|Acc=0.75|10-CV=0.75|STD=0.0|Time spend=0.6011595726013184\n",
      "-----WARNING: Model s28 failed to learn: sum(ans)=800.0 sum(y)=500.0 len(y)=800\n",
      "\tVALENCE-s28-DASM|Acc=0.625|10-CV=0.625|STD=0.0|Time spend=0.39838194847106934\n",
      "\tVALENCE-s28-RASM|Acc=0.6375|10-CV=0.6295|STD=0.00522|Time spend=0.4638707637786865\n",
      "-----WARNING: Model s28 failed to learn: sum(ans)=800.0 sum(y)=500.0 len(y)=800\n",
      "\tVALENCE-s28-DCAU|Acc=0.625|10-CV=0.625|STD=0.0|Time spend=0.536890983581543\n",
      "\tVALENCE-s29-DASM|Acc=0.64875|10-CV=0.601|STD=0.01855|Time spend=0.407562255859375\n",
      "\tVALENCE-s29-RASM|Acc=0.58125|10-CV=0.5745|STD=0.00269|Time spend=0.48970794677734375\n",
      "\tVALENCE-s29-DCAU|Acc=0.6725|10-CV=0.61|STD=0.0136|Time spend=0.5690517425537109\n",
      "-----WARNING: Model s30 failed to learn: sum(ans)=800.0 sum(y)=540.0 len(y)=800\n",
      "\tVALENCE-s30-DASM|Acc=0.675|10-CV=0.675|STD=0.0|Time spend=0.4289584159851074\n",
      "\tVALENCE-s30-RASM|Acc=0.6775|10-CV=0.6755|STD=0.0015|Time spend=0.5002689361572266\n",
      "-----WARNING: Model s30 failed to learn: sum(ans)=800.0 sum(y)=540.0 len(y)=800\n",
      "\tVALENCE-s30-DCAU|Acc=0.675|10-CV=0.675|STD=0.0|Time spend=0.582420825958252\n",
      "\tVALENCE-s31-DASM|Acc=0.625|10-CV=0.595|STD=0.01414|Time spend=0.5089735984802246\n",
      "\tVALENCE-s31-RASM|Acc=0.58375|10-CV=0.573|STD=0.00458|Time spend=0.5934922695159912\n",
      "\tVALENCE-s31-DCAU|Acc=0.5725|10-CV=0.5685|STD=0.0105|Time spend=0.6728687286376953\n",
      "\tVALENCE-s32-DASM|Acc=0.59875|10-CV=0.564|STD=0.00995|Time spend=0.3779325485229492\n",
      "\tVALENCE-s32-RASM|Acc=0.51875|10-CV=0.5025|STD=0.00814|Time spend=0.44744229316711426\n",
      "\tVALENCE-s32-DCAU|Acc=0.6175|10-CV=0.565|STD=0.01597|Time spend=0.512270450592041\n",
      "VALENCE-DASM|Acc=0.6576171875|10-CV=0.6300781249999999|STD=0.015579567913863035\n",
      "VALENCE-RASM|Acc=0.5937499999999999|10-CV=0.584109375|STD=0.00704893981929979\n",
      "VALENCE-DCAU|Acc=0.6546093750000002|10-CV=0.6291406250000001|STD=0.01737833058457137\n",
      "TOTAL-DASM|Acc=0.6680859375|10-CV=0.6451562499999998|STD=0.01288330043523694\n",
      "TOTAL-RASM|Acc=0.6207421874999999|10-CV=0.6135781249999999|STD=0.005255251964942223\n",
      "TOTAL-DCAU|Acc=0.6649609374999997|10-CV=0.6429765624999999|STD=0.014167938661302271\n"
     ]
    }
   ],
   "source": [
    "bands = [(0,4), (4,8), (8,12), (12,30), (30,64)]\n",
    "# [alias_feature_function]__[optional_param]\n",
    "params = dict({\n",
    "    'pow_freq_bands__log':True,\n",
    "    'pow_freq_bands__normalize':False,\n",
    "    'pow_freq_bands__freq_bands':bands\n",
    "})\n",
    "\n",
    "accs,cv_means,cv_stds  = {'DASM':[],'RASM':[],'DCAU':[]},{'DASM':[],'RASM':[],'DCAU':[]},{'DASM':[],'RASM':[],'DCAU':[]}\n",
    "# count = 0\n",
    "for filename in dataset.get_file_list():\n",
    "    start = time.time()\n",
    "    data, labels, groups = dataset.get_data(filename, stimuli=Dataset_subjectDependent.STIMULI_AROUSAL, return_type='numpy')\n",
    "    fe = FeatureExtractor(sfreq=128, selected_funcs=['pow_freq_bands'],params=params,n_jobs=8)\n",
    "    X = fe.fit_transform(X=data)\n",
    "\n",
    "    PSD_left = X[:, left_channel_indexes].copy()\n",
    "    PSD_right = X[:, right_channel_indexes].copy()\n",
    "    PSD_frontal = X[:, frontal_channel_indexes].copy()\n",
    "    PSD_posterior = X[:, posterior_channel_indexes].copy()\n",
    "    X = {\n",
    "        'DASM': PSD_left - PSD_right,\n",
    "        'RASM': PSD_left / PSD_right,\n",
    "        'DCAU': PSD_frontal - PSD_posterior,\n",
    "    }\n",
    "\n",
    "    for feature_name in ['DASM','RASM','DCAU']:\n",
    "        _, acc, cross = train_model(X[feature_name], labels.reshape(-1), groups, filename=filename)\n",
    "        print(f\"\\tAROUSAL-{filename}-{feature_name}|Acc={round(acc,5)}|10-CV={round(cross.mean(),5)}|STD={round(cross.std(),5)}|Time spend={time.time() - start}\")\n",
    "        accs[feature_name].append(acc)\n",
    "        cv_means[feature_name].append(cross.mean())\n",
    "        cv_stds[feature_name].append(cross.std())\n",
    "    # count+=1\n",
    "    # if(count == 3): break\n",
    "for feature_name in ['DASM','RASM','DCAU']:\n",
    "    print(f\"AROUSAL-{feature_name}|Acc={sum(accs[feature_name])/len(accs[feature_name])}|10-CV={sum(cv_means[feature_name])/len(cv_means[feature_name])}|STD={sum(cv_stds[feature_name])/len(cv_stds[feature_name])}\")\n",
    "\n",
    "accs_v,cv_means_v,cv_stds_v  = {'DASM':[],'RASM':[],'DCAU':[]},{'DASM':[],'RASM':[],'DCAU':[]},{'DASM':[],'RASM':[],'DCAU':[]}\n",
    "# count=0\n",
    "for filename in dataset.get_file_list():\n",
    "    start = time.time()\n",
    "    data, labels, groups = dataset.get_data(filename, stimuli=Dataset_subjectDependent.STIMULI_VALENCE, return_type='numpy')\n",
    "    fe = FeatureExtractor(sfreq=128, selected_funcs=['pow_freq_bands'],params=params,n_jobs=8)\n",
    "    X = fe.fit_transform(X=data)\n",
    "\n",
    "    PSD_left = X[:, left_channel_indexes].copy()\n",
    "    PSD_right = X[:, right_channel_indexes].copy()\n",
    "    PSD_frontal = X[:, frontal_channel_indexes].copy()\n",
    "    PSD_posterior = X[:, posterior_channel_indexes].copy()\n",
    "    X = {\n",
    "        'DASM': PSD_left - PSD_right,\n",
    "        'RASM': PSD_left / PSD_right,\n",
    "        'DCAU': PSD_frontal - PSD_posterior,\n",
    "    }\n",
    "\n",
    "    for feature_name in ['DASM','RASM','DCAU']:\n",
    "        _, acc, cross = train_model(X[feature_name], labels.reshape(-1), groups, filename=filename)\n",
    "        print(f\"\\tVALENCE-{filename}-{feature_name}|Acc={round(acc,5)}|10-CV={round(cross.mean(),5)}|STD={round(cross.std(),5)}|Time spend={time.time() - start}\")\n",
    "        accs_v[feature_name].append(acc)\n",
    "        cv_means_v[feature_name].append(cross.mean())\n",
    "        cv_stds_v[feature_name].append(cross.std())\n",
    "    # count+=1\n",
    "    # if(count == 3): break\n",
    "for feature_name in ['DASM','RASM','DCAU']:\n",
    "    print(f\"VALENCE-{feature_name}|Acc={sum(accs_v[feature_name])/len(accs_v[feature_name])}|10-CV={sum(cv_means_v[feature_name])/len(cv_means_v[feature_name])}|STD={sum(cv_stds_v[feature_name])/len(cv_stds_v[feature_name])}\")\n",
    "\n",
    "for feature_name in ['DASM','RASM','DCAU']:\n",
    "    accs[feature_name].extend(accs_v[feature_name])\n",
    "    cv_means[feature_name].extend(cv_means_v[feature_name])\n",
    "    cv_stds[feature_name].extend(cv_stds_v[feature_name])\n",
    "    print(f\"TOTAL-{feature_name}|Acc={sum(accs[feature_name])/len(accs[feature_name])}|10-CV={sum(cv_means[feature_name])/len(cv_means[feature_name])}|STD={sum(cv_stds[feature_name])/len(cv_stds[feature_name])}\")"
   ]
  },
  {
   "cell_type": "markdown",
   "metadata": {},
   "source": [
    "## 4. Connectivity\n",
    "\n",
    "### 4.1 $ \\text{PCC}_{\\text{time}}(i,j) = \\frac{\\text{Cov}[\\mathbf{X}_i, \\mathbf{X}_j]}{\\sigma_{\\mathbf{X}_i} \\sigma_{\\mathbf{X}_j}} $"
   ]
  },
  {
   "cell_type": "code",
   "execution_count": 8,
   "metadata": {},
   "outputs": [],
   "source": [
    "\n",
    "def pearson_correlation(x,y):\n",
    "    \"\"\" x,y denoted the signal_x and signal_y following the equation \"\"\"\n",
    "    cov = np.cov(x, y)\n",
    "    # print(cov)\n",
    "    # [[ 8806859.74527069  8007149.0906219 ] ==> [[cov_xx, cov_xy]\n",
    "    # [ 8007149.0906219  10396797.72458848]]      [cov_yx, cov_yy]]\n",
    "    cov_xy = cov[0,1] # or cov[1,0]\n",
    "    cov_xx = cov[0,0]\n",
    "    cov_yy = cov[1,1]\n",
    "    corr = cov_xy / ( cov_xx**0.5 * cov_yy**0.5  )\n",
    "    return corr\n",
    "\n",
    "def _cal(p_id, partial_data):\n",
    "    # print(f\"p_id:{p_id} - data to run {partial_data.shape}\")\n",
    "    from itertools import combinations\n",
    "    pcc = []\n",
    "    for index in range(partial_data.shape[0]):\n",
    "        pcc_epoch = []\n",
    "        for comb in combinations(list(range(partial_data.shape[1])), 2):\n",
    "            pcc_ab = pearson_correlation(partial_data[index, comb[0], :], partial_data[index, comb[1], :]   )\n",
    "            pcc_epoch.append(pcc_ab)\n",
    "        pcc_epoch = np.hstack(pcc_epoch)\n",
    "        pcc.append(pcc_epoch)\n",
    "    pcc = np.vstack(pcc)\n",
    "    return pcc\n",
    "\n",
    "def calculate_pcc(data, n_jobs=8):\n",
    "    \"\"\" \n",
    "    Input: Expect data to have (n_epochs, n_channels, n_samples)\n",
    "    Output: (n_epochs, n_conn ) => n_conn = n_channels!/(2!(n_channels-2)!)\n",
    "    \"\"\"\n",
    "    from multiprocessing import Pool\n",
    "\n",
    "    try:\n",
    "        t_out = 60000\n",
    "        pool = Pool()\n",
    "        p_list = []\n",
    "        ans_list = []\n",
    "        num_p = n_jobs\n",
    "        indices = np.array_split(np.arange(data.shape[0]), num_p)\n",
    "        for p_id in range(num_p):\n",
    "            p_list.append(pool.apply_async(_cal, [p_id, data[indices[p_id]] ]))\n",
    "        for p_id in range(num_p):\n",
    "            ans_list.append( p_list[p_id].get(timeout=t_out) )\n",
    "        # ans_list\n",
    "    except Exception as e:\n",
    "        print(e)\n",
    "    finally:\n",
    "        print(\"========= close ========\")\n",
    "        pool.close() \n",
    "        pool.terminate()\n",
    "    return np.vstack(ans_list)"
   ]
  },
  {
   "cell_type": "code",
   "execution_count": 9,
   "metadata": {},
   "outputs": [
    {
     "data": {
      "application/vnd.jupyter.widget-view+json": {
       "model_id": "599a01ddfc5d47ce9992747bae9f891f",
       "version_major": 2,
       "version_minor": 0
      },
      "text/plain": [
       "  0%|          | 0/32 [00:00<?, ?it/s]"
      ]
     },
     "metadata": {},
     "output_type": "display_data"
    },
    {
     "name": "stdout",
     "output_type": "stream",
     "text": [
      "Fitted sphere radius:         95.3 mm\n",
      "Origin head coordinates:      -0.8 15.1 45.3 mm\n",
      "Origin device coordinates:    -0.8 15.1 45.3 mm\n",
      "========= close ========\n",
      "\tAROUSAL-s01|Acc=0.70125|10-CV=0.66|STD=0.01703|Time spend=4.3500940799713135\n",
      "\tVALENCE-s01|Acc=0.66375|10-CV=0.5865|STD=0.02303|Time spend=4.94545841217041\n",
      "Fitted sphere radius:         95.3 mm\n",
      "Origin head coordinates:      -0.8 15.1 45.3 mm\n",
      "Origin device coordinates:    -0.8 15.1 45.3 mm\n",
      "========= close ========\n",
      "\tAROUSAL-s02|Acc=0.61875|10-CV=0.6045|STD=0.0065|Time spend=4.0203001499176025\n",
      "\tVALENCE-s02|Acc=0.57625|10-CV=0.546|STD=0.02375|Time spend=4.61430287361145\n",
      "Fitted sphere radius:         95.3 mm\n",
      "Origin head coordinates:      -0.8 15.1 45.3 mm\n",
      "Origin device coordinates:    -0.8 15.1 45.3 mm\n",
      "========= close ========\n",
      "\tAROUSAL-s03|Acc=0.8|10-CV=0.8|STD=0.0|Time spend=3.772531270980835\n",
      "\tVALENCE-s03|Acc=0.55|10-CV=0.55|STD=0.0|Time spend=4.417262077331543\n",
      "Fitted sphere radius:         95.3 mm\n",
      "Origin head coordinates:      -0.8 15.1 45.3 mm\n",
      "Origin device coordinates:    -0.8 15.1 45.3 mm\n",
      "========= close ========\n",
      "\tAROUSAL-s04|Acc=0.6|10-CV=0.6|STD=0.0|Time spend=4.039694309234619\n",
      "\tVALENCE-s04|Acc=0.6|10-CV=0.6|STD=0.0|Time spend=4.59551739692688\n",
      "Fitted sphere radius:         95.3 mm\n",
      "Origin head coordinates:      -0.8 15.1 45.3 mm\n",
      "Origin device coordinates:    -0.8 15.1 45.3 mm\n",
      "========= close ========\n",
      "\tAROUSAL-s05|Acc=0.55|10-CV=0.5415|STD=0.01534|Time spend=3.9486429691314697\n",
      "\tVALENCE-s05|Acc=0.6|10-CV=0.6|STD=0.0|Time spend=4.57779860496521\n",
      "Fitted sphere radius:         95.3 mm\n",
      "Origin head coordinates:      -0.8 15.1 45.3 mm\n",
      "Origin device coordinates:    -0.8 15.1 45.3 mm\n",
      "========= close ========\n",
      "\tAROUSAL-s06|Acc=0.6|10-CV=0.583|STD=0.0172|Time spend=3.9442052841186523\n",
      "\tVALENCE-s06|Acc=0.75|10-CV=0.75|STD=0.0|Time spend=4.41447114944458\n",
      "Fitted sphere radius:         95.3 mm\n",
      "Origin head coordinates:      -0.8 15.1 45.3 mm\n",
      "Origin device coordinates:    -0.8 15.1 45.3 mm\n",
      "========= close ========\n",
      "\tAROUSAL-s07|Acc=0.6725|10-CV=0.663|STD=0.01229|Time spend=3.867187023162842\n",
      "\tVALENCE-s07|Acc=0.70125|10-CV=0.7005|STD=0.0015|Time spend=4.3286638259887695\n",
      "Fitted sphere radius:         95.3 mm\n",
      "Origin head coordinates:      -0.8 15.1 45.3 mm\n",
      "Origin device coordinates:    -0.8 15.1 45.3 mm\n",
      "========= close ========\n",
      "\tAROUSAL-s08|Acc=0.58875|10-CV=0.578|STD=0.00458|Time spend=3.9775583744049072\n",
      "\tVALENCE-s08|Acc=0.62625|10-CV=0.59|STD=0.02846|Time spend=4.549700736999512\n",
      "Fitted sphere radius:         95.3 mm\n",
      "Origin head coordinates:      -0.8 15.1 45.3 mm\n",
      "Origin device coordinates:    -0.8 15.1 45.3 mm\n",
      "========= close ========\n",
      "\tAROUSAL-s09|Acc=0.6|10-CV=0.6|STD=0.0|Time spend=3.9214229583740234\n",
      "\tVALENCE-s09|Acc=0.64375|10-CV=0.631|STD=0.03176|Time spend=4.507770776748657\n",
      "Fitted sphere radius:         95.3 mm\n",
      "Origin head coordinates:      -0.8 15.1 45.3 mm\n",
      "Origin device coordinates:    -0.8 15.1 45.3 mm\n",
      "========= close ========\n",
      "\tAROUSAL-s10|Acc=0.6175|10-CV=0.581|STD=0.02922|Time spend=3.930018424987793\n",
      "\tVALENCE-s10|Acc=0.78125|10-CV=0.7535|STD=0.02377|Time spend=4.466434001922607\n",
      "Fitted sphere radius:         95.3 mm\n",
      "Origin head coordinates:      -0.8 15.1 45.3 mm\n",
      "Origin device coordinates:    -0.8 15.1 45.3 mm\n",
      "========= close ========\n",
      "\tAROUSAL-s11|Acc=0.625|10-CV=0.625|STD=0.0|Time spend=3.8665242195129395\n",
      "\tVALENCE-s11|Acc=0.605|10-CV=0.6005|STD=0.0035|Time spend=4.395841836929321\n",
      "Fitted sphere radius:         95.3 mm\n",
      "Origin head coordinates:      -0.8 15.1 45.3 mm\n",
      "Origin device coordinates:    -0.8 15.1 45.3 mm\n",
      "========= close ========\n",
      "\tAROUSAL-s12|Acc=0.825|10-CV=0.825|STD=0.0|Time spend=3.7155649662017822\n",
      "\tVALENCE-s12|Acc=0.6275|10-CV=0.5925|STD=0.0261|Time spend=4.288682222366333\n",
      "Fitted sphere radius:         95.3 mm\n",
      "Origin head coordinates:      -0.8 15.1 45.3 mm\n",
      "Origin device coordinates:    -0.8 15.1 45.3 mm\n",
      "========= close ========\n",
      "\tAROUSAL-s13|Acc=0.85|10-CV=0.85|STD=0.0|Time spend=3.7563228607177734\n",
      "\tVALENCE-s13|Acc=0.6625|10-CV=0.6585|STD=0.0248|Time spend=4.2796666622161865\n",
      "Fitted sphere radius:         95.3 mm\n",
      "Origin head coordinates:      -0.8 15.1 45.3 mm\n",
      "Origin device coordinates:    -0.8 15.1 45.3 mm\n",
      "========= close ========\n",
      "\tAROUSAL-s14|Acc=0.675|10-CV=0.675|STD=0.0|Time spend=3.908583164215088\n",
      "\tVALENCE-s14|Acc=0.645|10-CV=0.62|STD=0.02748|Time spend=4.471192359924316\n",
      "Fitted sphere radius:         95.3 mm\n",
      "Origin head coordinates:      -0.8 15.1 45.3 mm\n",
      "Origin device coordinates:    -0.8 15.1 45.3 mm\n",
      "========= close ========\n",
      "\tAROUSAL-s15|Acc=0.62125|10-CV=0.579|STD=0.02131|Time spend=4.03742790222168\n",
      "\tVALENCE-s15|Acc=0.73875|10-CV=0.7245|STD=0.02573|Time spend=4.583279848098755\n",
      "Fitted sphere radius:         95.3 mm\n",
      "Origin head coordinates:      -0.8 15.1 45.3 mm\n",
      "Origin device coordinates:    -0.8 15.1 45.3 mm\n",
      "========= close ========\n",
      "\tAROUSAL-s16|Acc=0.65875|10-CV=0.6335|STD=0.04075|Time spend=4.381825923919678\n",
      "\tVALENCE-s16|Acc=0.6975|10-CV=0.668|STD=0.01005|Time spend=4.874210596084595\n",
      "Fitted sphere radius:         95.3 mm\n",
      "Origin head coordinates:      -0.8 15.1 45.3 mm\n",
      "Origin device coordinates:    -0.8 15.1 45.3 mm\n",
      "========= close ========\n",
      "\tAROUSAL-s17|Acc=0.60125|10-CV=0.6|STD=0.00224|Time spend=3.9062390327453613\n",
      "\tVALENCE-s17|Acc=0.55|10-CV=0.55|STD=0.0|Time spend=4.462786436080933\n",
      "Fitted sphere radius:         95.3 mm\n",
      "Origin head coordinates:      -0.8 15.1 45.3 mm\n",
      "Origin device coordinates:    -0.8 15.1 45.3 mm\n",
      "========= close ========\n",
      "\tAROUSAL-s18|Acc=0.625|10-CV=0.625|STD=0.0|Time spend=3.863574266433716\n",
      "\tVALENCE-s18|Acc=0.72875|10-CV=0.726|STD=0.02278|Time spend=4.4118263721466064\n",
      "Fitted sphere radius:         95.3 mm\n",
      "Origin head coordinates:      -0.8 15.1 45.3 mm\n",
      "Origin device coordinates:    -0.8 15.1 45.3 mm\n",
      "========= close ========\n",
      "\tAROUSAL-s19|Acc=0.675|10-CV=0.675|STD=0.0|Time spend=3.7951769828796387\n",
      "\tVALENCE-s19|Acc=0.645|10-CV=0.631|STD=0.02267|Time spend=4.3524487018585205\n",
      "Fitted sphere radius:         95.3 mm\n",
      "Origin head coordinates:      -0.8 15.1 45.3 mm\n",
      "Origin device coordinates:    -0.8 15.1 45.3 mm\n",
      "========= close ========\n",
      "\tAROUSAL-s20|Acc=0.775|10-CV=0.775|STD=0.0|Time spend=4.294854640960693\n",
      "\tVALENCE-s20|Acc=0.6675|10-CV=0.651|STD=0.03176|Time spend=4.930998802185059\n",
      "Fitted sphere radius:         95.3 mm\n",
      "Origin head coordinates:      -0.8 15.1 45.3 mm\n",
      "Origin device coordinates:    -0.8 15.1 45.3 mm\n",
      "========= close ========\n",
      "\tAROUSAL-s21|Acc=0.8|10-CV=0.8|STD=0.0|Time spend=4.977488994598389\n",
      "\tVALENCE-s21|Acc=0.525|10-CV=0.5195|STD=0.0165|Time spend=5.581724643707275\n",
      "Fitted sphere radius:         95.3 mm\n",
      "Origin head coordinates:      -0.8 15.1 45.3 mm\n",
      "Origin device coordinates:    -0.8 15.1 45.3 mm\n",
      "========= close ========\n",
      "\tAROUSAL-s22|Acc=0.6|10-CV=0.6|STD=0.0|Time spend=3.9729063510894775\n",
      "\tVALENCE-s22|Acc=0.61875|10-CV=0.617|STD=0.01977|Time spend=4.569455862045288\n",
      "Fitted sphere radius:         95.3 mm\n",
      "Origin head coordinates:      -0.8 15.1 45.3 mm\n",
      "Origin device coordinates:    -0.8 15.1 45.3 mm\n",
      "========= close ========\n",
      "\tAROUSAL-s23|Acc=0.75|10-CV=0.75|STD=0.0|Time spend=3.7114481925964355\n",
      "\tVALENCE-s23|Acc=0.65|10-CV=0.649|STD=0.003|Time spend=4.208460092544556\n",
      "Fitted sphere radius:         95.3 mm\n",
      "Origin head coordinates:      -0.8 15.1 45.3 mm\n",
      "Origin device coordinates:    -0.8 15.1 45.3 mm\n",
      "========= close ========\n",
      "\tAROUSAL-s24|Acc=0.825|10-CV=0.825|STD=0.0|Time spend=3.679074287414551\n",
      "\tVALENCE-s24|Acc=0.58875|10-CV=0.5695|STD=0.01387|Time spend=4.270703315734863\n",
      "Fitted sphere radius:         95.3 mm\n",
      "Origin head coordinates:      -0.8 15.1 45.3 mm\n",
      "Origin device coordinates:    -0.8 15.1 45.3 mm\n",
      "========= close ========\n",
      "\tAROUSAL-s25|Acc=0.725|10-CV=0.725|STD=0.0|Time spend=3.911994218826294\n",
      "\tVALENCE-s25|Acc=0.5275|10-CV=0.52|STD=0.00742|Time spend=4.49661660194397\n",
      "Fitted sphere radius:         95.3 mm\n",
      "Origin head coordinates:      -0.8 15.1 45.3 mm\n",
      "Origin device coordinates:    -0.8 15.1 45.3 mm\n",
      "========= close ========\n",
      "\tAROUSAL-s26|Acc=0.6225|10-CV=0.618|STD=0.01418|Time spend=3.908874750137329\n",
      "\tVALENCE-s26|Acc=0.65|10-CV=0.65|STD=0.0|Time spend=4.442433834075928\n",
      "Fitted sphere radius:         95.3 mm\n",
      "Origin head coordinates:      -0.8 15.1 45.3 mm\n",
      "Origin device coordinates:    -0.8 15.1 45.3 mm\n",
      "========= close ========\n",
      "\tAROUSAL-s27|Acc=0.7025|10-CV=0.6885|STD=0.02038|Time spend=3.728278636932373\n",
      "\tVALENCE-s27|Acc=0.75|10-CV=0.75|STD=0.0|Time spend=4.13803768157959\n",
      "Fitted sphere radius:         95.3 mm\n",
      "Origin head coordinates:      -0.8 15.1 45.3 mm\n",
      "Origin device coordinates:    -0.8 15.1 45.3 mm\n",
      "========= close ========\n",
      "\tAROUSAL-s28|Acc=0.56125|10-CV=0.5635|STD=0.00673|Time spend=3.9898910522460938\n",
      "\tVALENCE-s28|Acc=0.625|10-CV=0.625|STD=0.0|Time spend=4.5135838985443115\n",
      "Fitted sphere radius:         95.3 mm\n",
      "Origin head coordinates:      -0.8 15.1 45.3 mm\n",
      "Origin device coordinates:    -0.8 15.1 45.3 mm\n",
      "========= close ========\n",
      "\tAROUSAL-s29|Acc=0.625|10-CV=0.6245|STD=0.0015|Time spend=3.925713062286377\n",
      "\tVALENCE-s29|Acc=0.64875|10-CV=0.6275|STD=0.02077|Time spend=4.473132848739624\n",
      "Fitted sphere radius:         95.3 mm\n",
      "Origin head coordinates:      -0.8 15.1 45.3 mm\n",
      "Origin device coordinates:    -0.8 15.1 45.3 mm\n",
      "========= close ========\n",
      "\tAROUSAL-s30|Acc=0.5875|10-CV=0.566|STD=0.02871|Time spend=3.9771180152893066\n",
      "\tVALENCE-s30|Acc=0.675|10-CV=0.675|STD=0.0|Time spend=4.476534843444824\n",
      "Fitted sphere radius:         95.3 mm\n",
      "Origin head coordinates:      -0.8 15.1 45.3 mm\n",
      "Origin device coordinates:    -0.8 15.1 45.3 mm\n",
      "========= close ========\n",
      "\tAROUSAL-s31|Acc=0.66875|10-CV=0.6415|STD=0.02646|Time spend=3.8673994541168213\n",
      "\tVALENCE-s31|Acc=0.60875|10-CV=0.5795|STD=0.01172|Time spend=4.452782392501831\n",
      "Fitted sphere radius:         95.3 mm\n",
      "Origin head coordinates:      -0.8 15.1 45.3 mm\n",
      "Origin device coordinates:    -0.8 15.1 45.3 mm\n",
      "========= close ========\n",
      "\tAROUSAL-s32|Acc=0.675|10-CV=0.675|STD=0.0|Time spend=3.7499687671661377\n",
      "\tVALENCE-s32|Acc=0.625|10-CV=0.595|STD=0.02683|Time spend=4.30448055267334\n",
      "AROUSAL|Acc=0.6694531250000001|10-CV=0.6609531250000003|STD=0.008262657742723091\n",
      "VALENCE|Acc=0.642265625|10-CV=0.6283281250000001|STD=0.013969701196457563\n"
     ]
    }
   ],
   "source": [
    "accs, cv_means, cv_stds = [],[],[]\n",
    "accs_v, cv_means_v, cv_stds_v = [],[],[]\n",
    "reports = []\n",
    "for filename in (pbar := tqdm(dataset.get_file_list())):\n",
    "    start = time.time()\n",
    "    pbar.set_description(filename)\n",
    "    data, labels, groups = dataset.get_data(filename, stimuli=Dataset_subjectDependent.STIMULI_AROUSAL, return_type='mne', sfreq=128)\n",
    "    data_csd = mne.preprocessing.compute_current_source_density(data)\n",
    "    pcc = calculate_pcc(data_csd.get_data())\n",
    "    _,acc,cross,train_report = train_model(pcc, labels.squeeze(), groups, filename=filename, return_text=True)\n",
    "    report = f\"\\tAROUSAL-{filename}|Acc={round(acc,5)}|10-CV={round(cross.mean(),5)}|STD={round(cross.std(),5)}|Time spend={time.time() - start}\"\n",
    "    print(report)\n",
    "    reports.append(report)\n",
    "    reports.append(train_report)\n",
    "    accs.append(acc)\n",
    "    cv_means.append(cross.mean())\n",
    "    cv_stds.append(cross.std())\n",
    "\n",
    "    _, labels_v, groups_v = dataset.get_data(filename, stimuli=Dataset_subjectDependent.STIMULI_VALENCE, return_type='mne', sfreq=128)\n",
    "    _,acc,cross,train_report = train_model(pcc, labels_v.squeeze(), groups_v, filename=filename, return_text=True)\n",
    "    report = f\"\\tVALENCE-{filename}|Acc={round(acc,5)}|10-CV={round(cross.mean(),5)}|STD={round(cross.std(),5)}|Time spend={time.time() - start}\"\n",
    "    print(report)\n",
    "    reports.append(report)\n",
    "    reports.append(train_report)\n",
    "    accs_v.append(acc)\n",
    "    cv_means_v.append(cross.mean())\n",
    "    cv_stds_v.append(cross.std())\n",
    "    # break\n",
    "    # count+=1\n",
    "    # if(count == 5): break\n",
    "report = f\"AROUSAL|Acc={sum(accs)/len(accs)}|10-CV={sum(cv_means)/len(cv_means)}|STD={sum(cv_stds)/len(cv_stds)}\"\n",
    "print(report)\n",
    "reports.append(report)\n",
    "report = f\"VALENCE|Acc={sum(accs_v)/len(accs_v)}|10-CV={sum(cv_means_v)/len(cv_means_v)}|STD={sum(cv_stds_v)/len(cv_stds_v)}\"\n",
    "print(report)\n",
    "reports.append(report)"
   ]
  },
  {
   "cell_type": "code",
   "execution_count": 10,
   "metadata": {},
   "outputs": [
    {
     "name": "stdout",
     "output_type": "stream",
     "text": [
      "\tAROUSAL-s01|Acc=0.70125|10-CV=0.66|STD=0.01703|Time spend=4.3500940799713135\n",
      "\tVALENCE-s01|Acc=0.66375|10-CV=0.5865|STD=0.02303|Time spend=4.94545841217041\n",
      "\tAROUSAL-s02|Acc=0.61875|10-CV=0.6045|STD=0.0065|Time spend=4.0203001499176025\n",
      "\tVALENCE-s02|Acc=0.57625|10-CV=0.546|STD=0.02375|Time spend=4.61430287361145\n",
      "\tAROUSAL-s03|Acc=0.8|10-CV=0.8|STD=0.0|Time spend=3.772531270980835\n",
      "-----WARNING: Model s03 failed to learn: sum(ans)=0.0 sum(y)=160.0 len(y)=800\n",
      "\tVALENCE-s03|Acc=0.55|10-CV=0.55|STD=0.0|Time spend=4.417262077331543\n",
      "-----WARNING: Model s03 failed to learn: sum(ans)=800.0 sum(y)=440.0 len(y)=800\n",
      "\tAROUSAL-s04|Acc=0.6|10-CV=0.6|STD=0.0|Time spend=4.039694309234619\n",
      "-----WARNING: Model s04 failed to learn: sum(ans)=0.0 sum(y)=320.0 len(y)=800\n",
      "\tVALENCE-s04|Acc=0.6|10-CV=0.6|STD=0.0|Time spend=4.59551739692688\n",
      "-----WARNING: Model s04 failed to learn: sum(ans)=0.0 sum(y)=320.0 len(y)=800\n",
      "\tAROUSAL-s05|Acc=0.55|10-CV=0.5415|STD=0.01534|Time spend=3.9486429691314697\n",
      "\tVALENCE-s05|Acc=0.6|10-CV=0.6|STD=0.0|Time spend=4.57779860496521\n",
      "-----WARNING: Model s05 failed to learn: sum(ans)=800.0 sum(y)=480.0 len(y)=800\n",
      "\tAROUSAL-s06|Acc=0.6|10-CV=0.583|STD=0.0172|Time spend=3.9442052841186523\n",
      "\tVALENCE-s06|Acc=0.75|10-CV=0.75|STD=0.0|Time spend=4.41447114944458\n",
      "-----WARNING: Model s06 failed to learn: sum(ans)=800.0 sum(y)=600.0 len(y)=800\n",
      "\tAROUSAL-s07|Acc=0.6725|10-CV=0.663|STD=0.01229|Time spend=3.867187023162842\n",
      "\tVALENCE-s07|Acc=0.70125|10-CV=0.7005|STD=0.0015|Time spend=4.3286638259887695\n",
      "\tAROUSAL-s08|Acc=0.58875|10-CV=0.578|STD=0.00458|Time spend=3.9775583744049072\n",
      "\tVALENCE-s08|Acc=0.62625|10-CV=0.59|STD=0.02846|Time spend=4.549700736999512\n",
      "\tAROUSAL-s09|Acc=0.6|10-CV=0.6|STD=0.0|Time spend=3.9214229583740234\n",
      "-----WARNING: Model s09 failed to learn: sum(ans)=800.0 sum(y)=480.0 len(y)=800\n",
      "\tVALENCE-s09|Acc=0.64375|10-CV=0.631|STD=0.03176|Time spend=4.507770776748657\n",
      "\tAROUSAL-s10|Acc=0.6175|10-CV=0.581|STD=0.02922|Time spend=3.930018424987793\n",
      "\tVALENCE-s10|Acc=0.78125|10-CV=0.7535|STD=0.02377|Time spend=4.466434001922607\n",
      "\tAROUSAL-s11|Acc=0.625|10-CV=0.625|STD=0.0|Time spend=3.8665242195129395\n",
      "-----WARNING: Model s11 failed to learn: sum(ans)=0.0 sum(y)=300.0 len(y)=800\n",
      "\tVALENCE-s11|Acc=0.605|10-CV=0.6005|STD=0.0035|Time spend=4.395841836929321\n",
      "\tAROUSAL-s12|Acc=0.825|10-CV=0.825|STD=0.0|Time spend=3.7155649662017822\n",
      "-----WARNING: Model s12 failed to learn: sum(ans)=800.0 sum(y)=660.0 len(y)=800\n",
      "\tVALENCE-s12|Acc=0.6275|10-CV=0.5925|STD=0.0261|Time spend=4.288682222366333\n",
      "\tAROUSAL-s13|Acc=0.85|10-CV=0.85|STD=0.0|Time spend=3.7563228607177734\n",
      "-----WARNING: Model s13 failed to learn: sum(ans)=800.0 sum(y)=680.0 len(y)=800\n",
      "\tVALENCE-s13|Acc=0.6625|10-CV=0.6585|STD=0.0248|Time spend=4.2796666622161865\n",
      "\tAROUSAL-s14|Acc=0.675|10-CV=0.675|STD=0.0|Time spend=3.908583164215088\n",
      "-----WARNING: Model s14 failed to learn: sum(ans)=800.0 sum(y)=540.0 len(y)=800\n",
      "\tVALENCE-s14|Acc=0.645|10-CV=0.62|STD=0.02748|Time spend=4.471192359924316\n",
      "\tAROUSAL-s15|Acc=0.62125|10-CV=0.579|STD=0.02131|Time spend=4.03742790222168\n",
      "\tVALENCE-s15|Acc=0.73875|10-CV=0.7245|STD=0.02573|Time spend=4.583279848098755\n",
      "\tAROUSAL-s16|Acc=0.65875|10-CV=0.6335|STD=0.04075|Time spend=4.381825923919678\n",
      "\tVALENCE-s16|Acc=0.6975|10-CV=0.668|STD=0.01005|Time spend=4.874210596084595\n",
      "\tAROUSAL-s17|Acc=0.60125|10-CV=0.6|STD=0.00224|Time spend=3.9062390327453613\n",
      "\tVALENCE-s17|Acc=0.55|10-CV=0.55|STD=0.0|Time spend=4.462786436080933\n",
      "-----WARNING: Model s17 failed to learn: sum(ans)=800.0 sum(y)=440.0 len(y)=800\n",
      "\tAROUSAL-s18|Acc=0.625|10-CV=0.625|STD=0.0|Time spend=3.863574266433716\n",
      "-----WARNING: Model s18 failed to learn: sum(ans)=800.0 sum(y)=500.0 len(y)=800\n",
      "\tVALENCE-s18|Acc=0.72875|10-CV=0.726|STD=0.02278|Time spend=4.4118263721466064\n",
      "\tAROUSAL-s19|Acc=0.675|10-CV=0.675|STD=0.0|Time spend=3.7951769828796387\n",
      "-----WARNING: Model s19 failed to learn: sum(ans)=800.0 sum(y)=540.0 len(y)=800\n",
      "\tVALENCE-s19|Acc=0.645|10-CV=0.631|STD=0.02267|Time spend=4.3524487018585205\n",
      "\tAROUSAL-s20|Acc=0.775|10-CV=0.775|STD=0.0|Time spend=4.294854640960693\n",
      "-----WARNING: Model s20 failed to learn: sum(ans)=800.0 sum(y)=620.0 len(y)=800\n",
      "\tVALENCE-s20|Acc=0.6675|10-CV=0.651|STD=0.03176|Time spend=4.930998802185059\n",
      "\tAROUSAL-s21|Acc=0.8|10-CV=0.8|STD=0.0|Time spend=4.977488994598389\n",
      "-----WARNING: Model s21 failed to learn: sum(ans)=800.0 sum(y)=640.0 len(y)=800\n",
      "\tVALENCE-s21|Acc=0.525|10-CV=0.5195|STD=0.0165|Time spend=5.581724643707275\n",
      "-----WARNING: Model s21 failed to learn: sum(ans)=800.0 sum(y)=420.0 len(y)=800\n",
      "\tAROUSAL-s22|Acc=0.6|10-CV=0.6|STD=0.0|Time spend=3.9729063510894775\n",
      "-----WARNING: Model s22 failed to learn: sum(ans)=800.0 sum(y)=480.0 len(y)=800\n",
      "\tVALENCE-s22|Acc=0.61875|10-CV=0.617|STD=0.01977|Time spend=4.569455862045288\n",
      "\tAROUSAL-s23|Acc=0.75|10-CV=0.75|STD=0.0|Time spend=3.7114481925964355\n",
      "-----WARNING: Model s23 failed to learn: sum(ans)=0.0 sum(y)=200.0 len(y)=800\n",
      "\tVALENCE-s23|Acc=0.65|10-CV=0.649|STD=0.003|Time spend=4.208460092544556\n",
      "\tAROUSAL-s24|Acc=0.825|10-CV=0.825|STD=0.0|Time spend=3.679074287414551\n",
      "-----WARNING: Model s24 failed to learn: sum(ans)=800.0 sum(y)=660.0 len(y)=800\n",
      "\tVALENCE-s24|Acc=0.58875|10-CV=0.5695|STD=0.01387|Time spend=4.270703315734863\n",
      "\tAROUSAL-s25|Acc=0.725|10-CV=0.725|STD=0.0|Time spend=3.911994218826294\n",
      "-----WARNING: Model s25 failed to learn: sum(ans)=800.0 sum(y)=580.0 len(y)=800\n",
      "\tVALENCE-s25|Acc=0.5275|10-CV=0.52|STD=0.00742|Time spend=4.49661660194397\n",
      "\tAROUSAL-s26|Acc=0.6225|10-CV=0.618|STD=0.01418|Time spend=3.908874750137329\n",
      "\tVALENCE-s26|Acc=0.65|10-CV=0.65|STD=0.0|Time spend=4.442433834075928\n",
      "-----WARNING: Model s26 failed to learn: sum(ans)=800.0 sum(y)=520.0 len(y)=800\n",
      "\tAROUSAL-s27|Acc=0.7025|10-CV=0.6885|STD=0.02038|Time spend=3.728278636932373\n",
      "\tVALENCE-s27|Acc=0.75|10-CV=0.75|STD=0.0|Time spend=4.13803768157959\n",
      "-----WARNING: Model s27 failed to learn: sum(ans)=800.0 sum(y)=600.0 len(y)=800\n",
      "\tAROUSAL-s28|Acc=0.56125|10-CV=0.5635|STD=0.00673|Time spend=3.9898910522460938\n",
      "\tVALENCE-s28|Acc=0.625|10-CV=0.625|STD=0.0|Time spend=4.5135838985443115\n",
      "-----WARNING: Model s28 failed to learn: sum(ans)=800.0 sum(y)=500.0 len(y)=800\n",
      "\tAROUSAL-s29|Acc=0.625|10-CV=0.6245|STD=0.0015|Time spend=3.925713062286377\n",
      "-----WARNING: Model s29 failed to learn: sum(ans)=800.0 sum(y)=500.0 len(y)=800\n",
      "\tVALENCE-s29|Acc=0.64875|10-CV=0.6275|STD=0.02077|Time spend=4.473132848739624\n",
      "\tAROUSAL-s30|Acc=0.5875|10-CV=0.566|STD=0.02871|Time spend=3.9771180152893066\n",
      "\tVALENCE-s30|Acc=0.675|10-CV=0.675|STD=0.0|Time spend=4.476534843444824\n",
      "-----WARNING: Model s30 failed to learn: sum(ans)=800.0 sum(y)=540.0 len(y)=800\n",
      "\tAROUSAL-s31|Acc=0.66875|10-CV=0.6415|STD=0.02646|Time spend=3.8673994541168213\n",
      "\tVALENCE-s31|Acc=0.60875|10-CV=0.5795|STD=0.01172|Time spend=4.452782392501831\n",
      "\tAROUSAL-s32|Acc=0.675|10-CV=0.675|STD=0.0|Time spend=3.7499687671661377\n",
      "-----WARNING: Model s32 failed to learn: sum(ans)=800.0 sum(y)=540.0 len(y)=800\n",
      "\tVALENCE-s32|Acc=0.625|10-CV=0.595|STD=0.02683|Time spend=4.30448055267334\n",
      "AROUSAL|Acc=0.6694531250000001|10-CV=0.6609531250000003|STD=0.008262657742723091\n",
      "VALENCE|Acc=0.642265625|10-CV=0.6283281250000001|STD=0.013969701196457563\n",
      "TOTAL|Acc=0.655859375|10-CV=0.6446406250000002|STD=0.011116179469590327\n"
     ]
    }
   ],
   "source": [
    "for text in reports:\n",
    "    if(text == None): continue\n",
    "    print(text)\n",
    "\n",
    "accs.extend(accs_v)\n",
    "cv_means.extend(cv_means_v)\n",
    "cv_stds.extend(cv_stds_v)\n",
    "print(f\"TOTAL|Acc={sum(accs)/len(accs)}|10-CV={sum(cv_means)/len(cv_means)}|STD={sum(cv_stds)/len(cv_stds)}\")"
   ]
  },
  {
   "cell_type": "markdown",
   "metadata": {},
   "source": [
    "### 4.2 $ \\text{PCC}_{freq} (i,j) = \\frac{\\text{Cov}[\\hat{\\mathbf{X}}_i, \\hat{\\mathbf{X}}_j]}{\\sigma_{\\hat{\\mathbf{X}}_i} \\sigma_{\\hat{\\mathbf{X}}_j}} $"
   ]
  },
  {
   "cell_type": "code",
   "execution_count": 11,
   "metadata": {},
   "outputs": [],
   "source": [
    "def calculate_fft(signal, sfreq):\n",
    "    \"\"\" signal: can be 1D array of (n_sample,) or 2D array of (n_signal, n_sample)  \"\"\"\n",
    "    number_sample = signal.shape[-1]\n",
    "\n",
    "    # the result will be a complex number. We can obtain the magnitude using `absolute`\n",
    "    magnitude = np.abs(np.fft.fft(signal))\n",
    "    # scale the result\n",
    "    magnitude = magnitude / (number_sample/2)\n",
    "    # Selecting the range\n",
    "    magnitude = magnitude.T[:number_sample//2].T\n",
    "    freq_range = np.fft.fftfreq(number_sample, d=1/sfreq)[:number_sample//2]\n",
    "\n",
    "    return magnitude, freq_range"
   ]
  },
  {
   "cell_type": "code",
   "execution_count": 12,
   "metadata": {},
   "outputs": [
    {
     "data": {
      "application/vnd.jupyter.widget-view+json": {
       "model_id": "3415d53de9c044d79758f2a15178ced8",
       "version_major": 2,
       "version_minor": 0
      },
      "text/plain": [
       "  0%|          | 0/32 [00:00<?, ?it/s]"
      ]
     },
     "metadata": {},
     "output_type": "display_data"
    },
    {
     "name": "stdout",
     "output_type": "stream",
     "text": [
      "Fitted sphere radius:         95.3 mm\n",
      "Origin head coordinates:      -0.8 15.1 45.3 mm\n",
      "Origin device coordinates:    -0.8 15.1 45.3 mm\n",
      "========= close ========\n",
      "\tAROUSAL-s01|Acc=0.79375|10-CV=0.662|STD=0.02713|Time spend=4.58443284034729\n",
      "\tVALENCE-s01|Acc=0.81875|10-CV=0.589|STD=0.03315|Time spend=5.374698162078857\n",
      "Fitted sphere radius:         95.3 mm\n",
      "Origin head coordinates:      -0.8 15.1 45.3 mm\n",
      "Origin device coordinates:    -0.8 15.1 45.3 mm\n",
      "========= close ========\n",
      "\tAROUSAL-s02|Acc=0.65125|10-CV=0.63|STD=0.0183|Time spend=4.847272634506226\n",
      "\tVALENCE-s02|Acc=0.60875|10-CV=0.5775|STD=0.03092|Time spend=5.4630560874938965\n",
      "Fitted sphere radius:         95.3 mm\n",
      "Origin head coordinates:      -0.8 15.1 45.3 mm\n",
      "Origin device coordinates:    -0.8 15.1 45.3 mm\n",
      "========= close ========\n",
      "\tAROUSAL-s03|Acc=0.8|10-CV=0.8|STD=0.0|Time spend=3.9351449012756348\n",
      "\tVALENCE-s03|Acc=0.66875|10-CV=0.589|STD=0.02718|Time spend=4.553076267242432\n",
      "Fitted sphere radius:         95.3 mm\n",
      "Origin head coordinates:      -0.8 15.1 45.3 mm\n",
      "Origin device coordinates:    -0.8 15.1 45.3 mm\n",
      "========= close ========\n",
      "\tAROUSAL-s04|Acc=0.6575|10-CV=0.611|STD=0.01985|Time spend=4.308786630630493\n",
      "\tVALENCE-s04|Acc=0.64|10-CV=0.603|STD=0.02205|Time spend=4.8652002811431885\n",
      "Fitted sphere radius:         95.3 mm\n",
      "Origin head coordinates:      -0.8 15.1 45.3 mm\n",
      "Origin device coordinates:    -0.8 15.1 45.3 mm\n",
      "========= close ========\n",
      "\tAROUSAL-s05|Acc=0.65125|10-CV=0.549|STD=0.03967|Time spend=4.097350358963013\n",
      "\tVALENCE-s05|Acc=0.66125|10-CV=0.602|STD=0.01764|Time spend=4.652278184890747\n",
      "Fitted sphere radius:         95.3 mm\n",
      "Origin head coordinates:      -0.8 15.1 45.3 mm\n",
      "Origin device coordinates:    -0.8 15.1 45.3 mm\n",
      "========= close ========\n",
      "\tAROUSAL-s06|Acc=0.67875|10-CV=0.609|STD=0.02478|Time spend=4.100043773651123\n",
      "\tVALENCE-s06|Acc=0.75|10-CV=0.75|STD=0.0|Time spend=4.5888831615448\n",
      "Fitted sphere radius:         95.3 mm\n",
      "Origin head coordinates:      -0.8 15.1 45.3 mm\n",
      "Origin device coordinates:    -0.8 15.1 45.3 mm\n",
      "========= close ========\n",
      "\tAROUSAL-s07|Acc=0.73|10-CV=0.6685|STD=0.02001|Time spend=4.066116571426392\n",
      "\tVALENCE-s07|Acc=0.78375|10-CV=0.729|STD=0.01356|Time spend=4.5524022579193115\n",
      "Fitted sphere radius:         95.3 mm\n",
      "Origin head coordinates:      -0.8 15.1 45.3 mm\n",
      "Origin device coordinates:    -0.8 15.1 45.3 mm\n",
      "========= close ========\n",
      "\tAROUSAL-s08|Acc=0.69625|10-CV=0.5755|STD=0.02392|Time spend=4.039201974868774\n",
      "\tVALENCE-s08|Acc=0.70875|10-CV=0.5925|STD=0.03084|Time spend=4.62016224861145\n",
      "Fitted sphere radius:         95.3 mm\n",
      "Origin head coordinates:      -0.8 15.1 45.3 mm\n",
      "Origin device coordinates:    -0.8 15.1 45.3 mm\n",
      "========= close ========\n",
      "\tAROUSAL-s09|Acc=0.65|10-CV=0.6265|STD=0.01324|Time spend=3.978774309158325\n",
      "\tVALENCE-s09|Acc=0.68625|10-CV=0.666|STD=0.03813|Time spend=4.493742942810059\n",
      "Fitted sphere radius:         95.3 mm\n",
      "Origin head coordinates:      -0.8 15.1 45.3 mm\n",
      "Origin device coordinates:    -0.8 15.1 45.3 mm\n",
      "========= close ========\n",
      "\tAROUSAL-s10|Acc=0.7125|10-CV=0.6275|STD=0.02401|Time spend=4.030194044113159\n",
      "\tVALENCE-s10|Acc=0.81625|10-CV=0.7795|STD=0.02641|Time spend=4.488012075424194\n",
      "Fitted sphere radius:         95.3 mm\n",
      "Origin head coordinates:      -0.8 15.1 45.3 mm\n",
      "Origin device coordinates:    -0.8 15.1 45.3 mm\n",
      "========= close ========\n",
      "\tAROUSAL-s11|Acc=0.67625|10-CV=0.6465|STD=0.01246|Time spend=4.8052380084991455\n",
      "\tVALENCE-s11|Acc=0.67|10-CV=0.6465|STD=0.01324|Time spend=5.387870788574219\n",
      "Fitted sphere radius:         95.3 mm\n",
      "Origin head coordinates:      -0.8 15.1 45.3 mm\n",
      "Origin device coordinates:    -0.8 15.1 45.3 mm\n",
      "========= close ========\n",
      "\tAROUSAL-s12|Acc=0.825|10-CV=0.825|STD=0.0|Time spend=3.9060847759246826\n",
      "\tVALENCE-s12|Acc=0.67625|10-CV=0.612|STD=0.03982|Time spend=4.499527454376221\n",
      "Fitted sphere radius:         95.3 mm\n",
      "Origin head coordinates:      -0.8 15.1 45.3 mm\n",
      "Origin device coordinates:    -0.8 15.1 45.3 mm\n",
      "========= close ========\n",
      "\tAROUSAL-s13|Acc=0.85|10-CV=0.85|STD=0.0|Time spend=3.760441303253174\n",
      "\tVALENCE-s13|Acc=0.705|10-CV=0.6485|STD=0.02214|Time spend=4.309781551361084\n",
      "Fitted sphere radius:         95.3 mm\n",
      "Origin head coordinates:      -0.8 15.1 45.3 mm\n",
      "Origin device coordinates:    -0.8 15.1 45.3 mm\n",
      "========= close ========\n",
      "\tAROUSAL-s14|Acc=0.675|10-CV=0.675|STD=0.0|Time spend=3.994753837585449\n",
      "\tVALENCE-s14|Acc=0.72|10-CV=0.6455|STD=0.03539|Time spend=4.539771795272827\n",
      "Fitted sphere radius:         95.3 mm\n",
      "Origin head coordinates:      -0.8 15.1 45.3 mm\n",
      "Origin device coordinates:    -0.8 15.1 45.3 mm\n",
      "========= close ========\n",
      "\tAROUSAL-s15|Acc=0.78|10-CV=0.677|STD=0.03803|Time spend=4.064313650131226\n",
      "\tVALENCE-s15|Acc=0.81875|10-CV=0.7655|STD=0.03312|Time spend=4.535829305648804\n",
      "Fitted sphere radius:         95.3 mm\n",
      "Origin head coordinates:      -0.8 15.1 45.3 mm\n",
      "Origin device coordinates:    -0.8 15.1 45.3 mm\n",
      "========= close ========\n",
      "\tAROUSAL-s16|Acc=0.72625|10-CV=0.6285|STD=0.0245|Time spend=4.012382507324219\n",
      "\tVALENCE-s16|Acc=0.73|10-CV=0.695|STD=0.0136|Time spend=4.5011420249938965\n",
      "Fitted sphere radius:         95.3 mm\n",
      "Origin head coordinates:      -0.8 15.1 45.3 mm\n",
      "Origin device coordinates:    -0.8 15.1 45.3 mm\n",
      "========= close ========\n",
      "\tAROUSAL-s17|Acc=0.6925|10-CV=0.6665|STD=0.01975|Time spend=4.057527542114258\n",
      "\tVALENCE-s17|Acc=0.59625|10-CV=0.546|STD=0.01985|Time spend=4.65181040763855\n",
      "Fitted sphere radius:         95.3 mm\n",
      "Origin head coordinates:      -0.8 15.1 45.3 mm\n",
      "Origin device coordinates:    -0.8 15.1 45.3 mm\n",
      "========= close ========\n",
      "\tAROUSAL-s18|Acc=0.67375|10-CV=0.6595|STD=0.01781|Time spend=4.08705735206604\n",
      "\tVALENCE-s18|Acc=0.79|10-CV=0.7525|STD=0.031|Time spend=4.5844550132751465\n",
      "Fitted sphere radius:         95.3 mm\n",
      "Origin head coordinates:      -0.8 15.1 45.3 mm\n",
      "Origin device coordinates:    -0.8 15.1 45.3 mm\n",
      "========= close ========\n",
      "\tAROUSAL-s19|Acc=0.71625|10-CV=0.687|STD=0.0098|Time spend=4.06390643119812\n",
      "\tVALENCE-s19|Acc=0.67375|10-CV=0.6255|STD=0.02079|Time spend=4.633298635482788\n",
      "Fitted sphere radius:         95.3 mm\n",
      "Origin head coordinates:      -0.8 15.1 45.3 mm\n",
      "Origin device coordinates:    -0.8 15.1 45.3 mm\n",
      "========= close ========\n",
      "\tAROUSAL-s20|Acc=0.775|10-CV=0.775|STD=0.0|Time spend=4.039688348770142\n",
      "\tVALENCE-s20|Acc=0.75375|10-CV=0.6575|STD=0.03219|Time spend=4.597447395324707\n",
      "Fitted sphere radius:         95.3 mm\n",
      "Origin head coordinates:      -0.8 15.1 45.3 mm\n",
      "Origin device coordinates:    -0.8 15.1 45.3 mm\n",
      "========= close ========\n",
      "\tAROUSAL-s21|Acc=0.8|10-CV=0.8|STD=0.0|Time spend=4.007930040359497\n",
      "\tVALENCE-s21|Acc=0.61375|10-CV=0.5575|STD=0.02977|Time spend=4.60455584526062\n",
      "Fitted sphere radius:         95.3 mm\n",
      "Origin head coordinates:      -0.8 15.1 45.3 mm\n",
      "Origin device coordinates:    -0.8 15.1 45.3 mm\n",
      "========= close ========\n",
      "\tAROUSAL-s22|Acc=0.6|10-CV=0.5975|STD=0.0127|Time spend=4.3122172355651855\n",
      "\tVALENCE-s22|Acc=0.64125|10-CV=0.6325|STD=0.01901|Time spend=4.902910947799683\n",
      "Fitted sphere radius:         95.3 mm\n",
      "Origin head coordinates:      -0.8 15.1 45.3 mm\n",
      "Origin device coordinates:    -0.8 15.1 45.3 mm\n",
      "========= close ========\n",
      "\tAROUSAL-s23|Acc=0.75375|10-CV=0.75|STD=0.0|Time spend=4.099746465682983\n",
      "\tVALENCE-s23|Acc=0.74|10-CV=0.6665|STD=0.01119|Time spend=4.669374465942383\n",
      "Fitted sphere radius:         95.3 mm\n",
      "Origin head coordinates:      -0.8 15.1 45.3 mm\n",
      "Origin device coordinates:    -0.8 15.1 45.3 mm\n",
      "========= close ========\n",
      "\tAROUSAL-s24|Acc=0.825|10-CV=0.825|STD=0.0|Time spend=4.297294855117798\n",
      "\tVALENCE-s24|Acc=0.63125|10-CV=0.5435|STD=0.03218|Time spend=4.993772268295288\n",
      "Fitted sphere radius:         95.3 mm\n",
      "Origin head coordinates:      -0.8 15.1 45.3 mm\n",
      "Origin device coordinates:    -0.8 15.1 45.3 mm\n",
      "========= close ========\n",
      "\tAROUSAL-s25|Acc=0.725|10-CV=0.725|STD=0.0|Time spend=4.157195806503296\n",
      "\tVALENCE-s25|Acc=0.6025|10-CV=0.5265|STD=0.02775|Time spend=4.76305365562439\n",
      "Fitted sphere radius:         95.3 mm\n",
      "Origin head coordinates:      -0.8 15.1 45.3 mm\n",
      "Origin device coordinates:    -0.8 15.1 45.3 mm\n",
      "========= close ========\n",
      "\tAROUSAL-s26|Acc=0.67|10-CV=0.629|STD=0.02177|Time spend=4.05236554145813\n",
      "\tVALENCE-s26|Acc=0.6525|10-CV=0.6495|STD=0.0035|Time spend=4.579981327056885\n",
      "Fitted sphere radius:         95.3 mm\n",
      "Origin head coordinates:      -0.8 15.1 45.3 mm\n",
      "Origin device coordinates:    -0.8 15.1 45.3 mm\n",
      "========= close ========\n",
      "\tAROUSAL-s27|Acc=0.77|10-CV=0.7125|STD=0.01707|Time spend=3.9263274669647217\n",
      "\tVALENCE-s27|Acc=0.80375|10-CV=0.7695|STD=0.0082|Time spend=4.357630252838135\n",
      "Fitted sphere radius:         95.3 mm\n",
      "Origin head coordinates:      -0.8 15.1 45.3 mm\n",
      "Origin device coordinates:    -0.8 15.1 45.3 mm\n",
      "========= close ========\n",
      "\tAROUSAL-s28|Acc=0.5925|10-CV=0.56|STD=0.01118|Time spend=4.145040512084961\n",
      "\tVALENCE-s28|Acc=0.625|10-CV=0.625|STD=0.0|Time spend=4.734598398208618\n",
      "Fitted sphere radius:         95.3 mm\n",
      "Origin head coordinates:      -0.8 15.1 45.3 mm\n",
      "Origin device coordinates:    -0.8 15.1 45.3 mm\n",
      "========= close ========\n",
      "\tAROUSAL-s29|Acc=0.695|10-CV=0.6345|STD=0.0215|Time spend=3.9519903659820557\n",
      "\tVALENCE-s29|Acc=0.695|10-CV=0.641|STD=0.02755|Time spend=4.468284606933594\n",
      "Fitted sphere radius:         95.3 mm\n",
      "Origin head coordinates:      -0.8 15.1 45.3 mm\n",
      "Origin device coordinates:    -0.8 15.1 45.3 mm\n",
      "========= close ========\n",
      "\tAROUSAL-s30|Acc=0.69125|10-CV=0.6025|STD=0.03593|Time spend=4.040302991867065\n",
      "\tVALENCE-s30|Acc=0.675|10-CV=0.675|STD=0.0|Time spend=4.545603036880493\n",
      "Fitted sphere radius:         95.3 mm\n",
      "Origin head coordinates:      -0.8 15.1 45.3 mm\n",
      "Origin device coordinates:    -0.8 15.1 45.3 mm\n",
      "========= close ========\n",
      "\tAROUSAL-s31|Acc=0.7625|10-CV=0.6355|STD=0.02138|Time spend=4.102919101715088\n",
      "\tVALENCE-s31|Acc=0.72625|10-CV=0.629|STD=0.02518|Time spend=4.632753849029541\n",
      "Fitted sphere radius:         95.3 mm\n",
      "Origin head coordinates:      -0.8 15.1 45.3 mm\n",
      "Origin device coordinates:    -0.8 15.1 45.3 mm\n",
      "========= close ========\n",
      "\tAROUSAL-s32|Acc=0.7|10-CV=0.677|STD=0.0064|Time spend=4.312561750411987\n",
      "\tVALENCE-s32|Acc=0.665|10-CV=0.598|STD=0.02551|Time spend=4.9870054721832275\n",
      "AROUSAL|Acc=0.7186328125000001|10-CV=0.674921875|STD=0.015037286513521498\n",
      "VALENCE|Acc=0.6983593750000001|10-CV=0.6432968750000001|STD=0.022214922434121886\n"
     ]
    }
   ],
   "source": [
    "accs, cv_means, cv_stds = [],[],[]\n",
    "accs_v, cv_means_v, cv_stds_v = [],[],[]\n",
    "reports = []\n",
    "for filename in (pbar := tqdm(dataset.get_file_list())):\n",
    "    start = time.time()\n",
    "    pbar.set_description(filename)\n",
    "    data, labels, groups = dataset.get_data(filename, stimuli=Dataset_subjectDependent.STIMULI_AROUSAL, return_type='mne', sfreq=128)\n",
    "    \n",
    "    data_csd = mne.preprocessing.compute_current_source_density(data)\n",
    "    magnitude, freq_range = calculate_fft(data_csd.get_data(), 128)\n",
    "    pcc = calculate_pcc(magnitude)\n",
    "    _,acc,cross,train_report = train_model(pcc, labels.squeeze(), groups, filename=filename, return_text=True)\n",
    "    report = f\"\\tAROUSAL-{filename}|Acc={round(acc,5)}|10-CV={round(cross.mean(),5)}|STD={round(cross.std(),5)}|Time spend={time.time() - start}\"\n",
    "    print(report)\n",
    "    reports.append(report)\n",
    "    reports.append(train_report)\n",
    "    accs.append(acc)\n",
    "    cv_means.append(cross.mean())\n",
    "    cv_stds.append(cross.std())\n",
    "\n",
    "    _, labels_v, groups_v = dataset.get_data(filename, stimuli=Dataset_subjectDependent.STIMULI_VALENCE, return_type='mne', sfreq=128)\n",
    "    _,acc,cross,train_report = train_model(pcc, labels_v.squeeze(), groups_v, filename=filename, return_text=True)\n",
    "    report = f\"\\tVALENCE-{filename}|Acc={round(acc,5)}|10-CV={round(cross.mean(),5)}|STD={round(cross.std(),5)}|Time spend={time.time() - start}\"\n",
    "    print(report)\n",
    "    reports.append(report)\n",
    "    reports.append(train_report)\n",
    "    accs_v.append(acc)\n",
    "    cv_means_v.append(cross.mean())\n",
    "    cv_stds_v.append(cross.std())\n",
    "    # break\n",
    "    # count+=1\n",
    "    # if(count == 5): break\n",
    "report = f\"AROUSAL|Acc={sum(accs)/len(accs)}|10-CV={sum(cv_means)/len(cv_means)}|STD={sum(cv_stds)/len(cv_stds)}\"\n",
    "print(report)\n",
    "reports.append(report)\n",
    "report = f\"VALENCE|Acc={sum(accs_v)/len(accs_v)}|10-CV={sum(cv_means_v)/len(cv_means_v)}|STD={sum(cv_stds_v)/len(cv_stds_v)}\"\n",
    "print(report)\n",
    "reports.append(report)"
   ]
  },
  {
   "cell_type": "code",
   "execution_count": 13,
   "metadata": {},
   "outputs": [
    {
     "name": "stdout",
     "output_type": "stream",
     "text": [
      "\tAROUSAL-s01|Acc=0.79375|10-CV=0.662|STD=0.02713|Time spend=4.58443284034729\n",
      "\tVALENCE-s01|Acc=0.81875|10-CV=0.589|STD=0.03315|Time spend=5.374698162078857\n",
      "\tAROUSAL-s02|Acc=0.65125|10-CV=0.63|STD=0.0183|Time spend=4.847272634506226\n",
      "\tVALENCE-s02|Acc=0.60875|10-CV=0.5775|STD=0.03092|Time spend=5.4630560874938965\n",
      "\tAROUSAL-s03|Acc=0.8|10-CV=0.8|STD=0.0|Time spend=3.9351449012756348\n",
      "-----WARNING: Model s03 failed to learn: sum(ans)=0.0 sum(y)=160.0 len(y)=800\n",
      "\tVALENCE-s03|Acc=0.66875|10-CV=0.589|STD=0.02718|Time spend=4.553076267242432\n",
      "\tAROUSAL-s04|Acc=0.6575|10-CV=0.611|STD=0.01985|Time spend=4.308786630630493\n",
      "\tVALENCE-s04|Acc=0.64|10-CV=0.603|STD=0.02205|Time spend=4.8652002811431885\n",
      "\tAROUSAL-s05|Acc=0.65125|10-CV=0.549|STD=0.03967|Time spend=4.097350358963013\n",
      "\tVALENCE-s05|Acc=0.66125|10-CV=0.602|STD=0.01764|Time spend=4.652278184890747\n",
      "\tAROUSAL-s06|Acc=0.67875|10-CV=0.609|STD=0.02478|Time spend=4.100043773651123\n",
      "\tVALENCE-s06|Acc=0.75|10-CV=0.75|STD=0.0|Time spend=4.5888831615448\n",
      "-----WARNING: Model s06 failed to learn: sum(ans)=800.0 sum(y)=600.0 len(y)=800\n",
      "\tAROUSAL-s07|Acc=0.73|10-CV=0.6685|STD=0.02001|Time spend=4.066116571426392\n",
      "\tVALENCE-s07|Acc=0.78375|10-CV=0.729|STD=0.01356|Time spend=4.5524022579193115\n",
      "\tAROUSAL-s08|Acc=0.69625|10-CV=0.5755|STD=0.02392|Time spend=4.039201974868774\n",
      "\tVALENCE-s08|Acc=0.70875|10-CV=0.5925|STD=0.03084|Time spend=4.62016224861145\n",
      "\tAROUSAL-s09|Acc=0.65|10-CV=0.6265|STD=0.01324|Time spend=3.978774309158325\n",
      "\tVALENCE-s09|Acc=0.68625|10-CV=0.666|STD=0.03813|Time spend=4.493742942810059\n",
      "\tAROUSAL-s10|Acc=0.7125|10-CV=0.6275|STD=0.02401|Time spend=4.030194044113159\n",
      "\tVALENCE-s10|Acc=0.81625|10-CV=0.7795|STD=0.02641|Time spend=4.488012075424194\n",
      "\tAROUSAL-s11|Acc=0.67625|10-CV=0.6465|STD=0.01246|Time spend=4.8052380084991455\n",
      "\tVALENCE-s11|Acc=0.67|10-CV=0.6465|STD=0.01324|Time spend=5.387870788574219\n",
      "\tAROUSAL-s12|Acc=0.825|10-CV=0.825|STD=0.0|Time spend=3.9060847759246826\n",
      "-----WARNING: Model s12 failed to learn: sum(ans)=800.0 sum(y)=660.0 len(y)=800\n",
      "\tVALENCE-s12|Acc=0.67625|10-CV=0.612|STD=0.03982|Time spend=4.499527454376221\n",
      "\tAROUSAL-s13|Acc=0.85|10-CV=0.85|STD=0.0|Time spend=3.760441303253174\n",
      "-----WARNING: Model s13 failed to learn: sum(ans)=800.0 sum(y)=680.0 len(y)=800\n",
      "\tVALENCE-s13|Acc=0.705|10-CV=0.6485|STD=0.02214|Time spend=4.309781551361084\n",
      "\tAROUSAL-s14|Acc=0.675|10-CV=0.675|STD=0.0|Time spend=3.994753837585449\n",
      "-----WARNING: Model s14 failed to learn: sum(ans)=800.0 sum(y)=540.0 len(y)=800\n",
      "\tVALENCE-s14|Acc=0.72|10-CV=0.6455|STD=0.03539|Time spend=4.539771795272827\n",
      "\tAROUSAL-s15|Acc=0.78|10-CV=0.677|STD=0.03803|Time spend=4.064313650131226\n",
      "\tVALENCE-s15|Acc=0.81875|10-CV=0.7655|STD=0.03312|Time spend=4.535829305648804\n",
      "\tAROUSAL-s16|Acc=0.72625|10-CV=0.6285|STD=0.0245|Time spend=4.012382507324219\n",
      "\tVALENCE-s16|Acc=0.73|10-CV=0.695|STD=0.0136|Time spend=4.5011420249938965\n",
      "\tAROUSAL-s17|Acc=0.6925|10-CV=0.6665|STD=0.01975|Time spend=4.057527542114258\n",
      "\tVALENCE-s17|Acc=0.59625|10-CV=0.546|STD=0.01985|Time spend=4.65181040763855\n",
      "\tAROUSAL-s18|Acc=0.67375|10-CV=0.6595|STD=0.01781|Time spend=4.08705735206604\n",
      "\tVALENCE-s18|Acc=0.79|10-CV=0.7525|STD=0.031|Time spend=4.5844550132751465\n",
      "\tAROUSAL-s19|Acc=0.71625|10-CV=0.687|STD=0.0098|Time spend=4.06390643119812\n",
      "\tVALENCE-s19|Acc=0.67375|10-CV=0.6255|STD=0.02079|Time spend=4.633298635482788\n",
      "\tAROUSAL-s20|Acc=0.775|10-CV=0.775|STD=0.0|Time spend=4.039688348770142\n",
      "-----WARNING: Model s20 failed to learn: sum(ans)=800.0 sum(y)=620.0 len(y)=800\n",
      "\tVALENCE-s20|Acc=0.75375|10-CV=0.6575|STD=0.03219|Time spend=4.597447395324707\n",
      "\tAROUSAL-s21|Acc=0.8|10-CV=0.8|STD=0.0|Time spend=4.007930040359497\n",
      "-----WARNING: Model s21 failed to learn: sum(ans)=800.0 sum(y)=640.0 len(y)=800\n",
      "\tVALENCE-s21|Acc=0.61375|10-CV=0.5575|STD=0.02977|Time spend=4.60455584526062\n",
      "\tAROUSAL-s22|Acc=0.6|10-CV=0.5975|STD=0.0127|Time spend=4.3122172355651855\n",
      "-----WARNING: Model s22 failed to learn: sum(ans)=800.0 sum(y)=480.0 len(y)=800\n",
      "\tVALENCE-s22|Acc=0.64125|10-CV=0.6325|STD=0.01901|Time spend=4.902910947799683\n",
      "\tAROUSAL-s23|Acc=0.75375|10-CV=0.75|STD=0.0|Time spend=4.099746465682983\n",
      "\tVALENCE-s23|Acc=0.74|10-CV=0.6665|STD=0.01119|Time spend=4.669374465942383\n",
      "\tAROUSAL-s24|Acc=0.825|10-CV=0.825|STD=0.0|Time spend=4.297294855117798\n",
      "-----WARNING: Model s24 failed to learn: sum(ans)=800.0 sum(y)=660.0 len(y)=800\n",
      "\tVALENCE-s24|Acc=0.63125|10-CV=0.5435|STD=0.03218|Time spend=4.993772268295288\n",
      "\tAROUSAL-s25|Acc=0.725|10-CV=0.725|STD=0.0|Time spend=4.157195806503296\n",
      "-----WARNING: Model s25 failed to learn: sum(ans)=800.0 sum(y)=580.0 len(y)=800\n",
      "\tVALENCE-s25|Acc=0.6025|10-CV=0.5265|STD=0.02775|Time spend=4.76305365562439\n",
      "\tAROUSAL-s26|Acc=0.67|10-CV=0.629|STD=0.02177|Time spend=4.05236554145813\n",
      "\tVALENCE-s26|Acc=0.6525|10-CV=0.6495|STD=0.0035|Time spend=4.579981327056885\n",
      "\tAROUSAL-s27|Acc=0.77|10-CV=0.7125|STD=0.01707|Time spend=3.9263274669647217\n",
      "\tVALENCE-s27|Acc=0.80375|10-CV=0.7695|STD=0.0082|Time spend=4.357630252838135\n",
      "\tAROUSAL-s28|Acc=0.5925|10-CV=0.56|STD=0.01118|Time spend=4.145040512084961\n",
      "\tVALENCE-s28|Acc=0.625|10-CV=0.625|STD=0.0|Time spend=4.734598398208618\n",
      "-----WARNING: Model s28 failed to learn: sum(ans)=800.0 sum(y)=500.0 len(y)=800\n",
      "\tAROUSAL-s29|Acc=0.695|10-CV=0.6345|STD=0.0215|Time spend=3.9519903659820557\n",
      "\tVALENCE-s29|Acc=0.695|10-CV=0.641|STD=0.02755|Time spend=4.468284606933594\n",
      "\tAROUSAL-s30|Acc=0.69125|10-CV=0.6025|STD=0.03593|Time spend=4.040302991867065\n",
      "\tVALENCE-s30|Acc=0.675|10-CV=0.675|STD=0.0|Time spend=4.545603036880493\n",
      "-----WARNING: Model s30 failed to learn: sum(ans)=800.0 sum(y)=540.0 len(y)=800\n",
      "\tAROUSAL-s31|Acc=0.7625|10-CV=0.6355|STD=0.02138|Time spend=4.102919101715088\n",
      "\tVALENCE-s31|Acc=0.72625|10-CV=0.629|STD=0.02518|Time spend=4.632753849029541\n",
      "\tAROUSAL-s32|Acc=0.7|10-CV=0.677|STD=0.0064|Time spend=4.312561750411987\n",
      "\tVALENCE-s32|Acc=0.665|10-CV=0.598|STD=0.02551|Time spend=4.9870054721832275\n",
      "AROUSAL|Acc=0.7186328125000001|10-CV=0.674921875|STD=0.015037286513521498\n",
      "VALENCE|Acc=0.6983593750000001|10-CV=0.6432968750000001|STD=0.022214922434121886\n",
      "TOTAL|Acc=0.70849609375|10-CV=0.6591093749999998|STD=0.018626104473821695\n"
     ]
    }
   ],
   "source": [
    "for text in reports:\n",
    "    if(text == None): continue\n",
    "    print(text)\n",
    "\n",
    "accs.extend(accs_v)\n",
    "cv_means.extend(cv_means_v)\n",
    "cv_stds.extend(cv_stds_v)\n",
    "print(f\"TOTAL|Acc={sum(accs)/len(accs)}|10-CV={sum(cv_means)/len(cv_means)}|STD={sum(cv_stds)/len(cv_stds)}\")"
   ]
  },
  {
   "cell_type": "markdown",
   "metadata": {},
   "source": [
    "### 4.3 $ \\text{PLV}(j,k) = \\frac{1}{T} | \\Sigma^{T}_{t=1} e^{i(\\phi^{t}_{j} - \\phi^{t}_{k})}   | $"
   ]
  },
  {
   "cell_type": "code",
   "execution_count": 4,
   "metadata": {},
   "outputs": [],
   "source": [
    "# bands = [(0,4), (4,8), (8,12), (12,30), (30,64)]\n",
    "def calculate_stft(signals, sfreq):\n",
    "    from scipy import signal\n",
    "    f_range, t_range, Z = signal.stft(signals, sfreq, nperseg=sfreq//10, nfft=sfreq)\n",
    "    magnitude = np.abs(Z) \n",
    "    phase = np.angle(Z)\n",
    "    return magnitude, phase, f_range, t_range\n",
    "\n",
    "def PLV_stft(p_id, phase):\n",
    "    # (32, 65, 12) => (channels, freqs, times)\n",
    "    # print(f\"p_id:{p_id} - data to run {phase.shape}\")\n",
    "    print(phase.shape)\n",
    "    from itertools import combinations\n",
    "    plv = []\n",
    "    # count = 0\n",
    "    for index in range(phase.shape[0]):\n",
    "        plv_epoch = []\n",
    "        for comb in combinations(list(range(phase.shape[1])), 2):\n",
    "            # shape = (65,12)\n",
    "            phase_a, phase_b = phase[index, comb[0]], phase[index, comb[1]]\n",
    "            phase_diff = phase_a - phase_b\n",
    "            # sum along the time size\n",
    "            plv_ab = np.abs(np.average(np.exp(complex(0,1) * phase_diff), axis=1))\n",
    "            plv_epoch.append(plv_ab)\n",
    "        plv_epoch = np.vstack(plv_epoch)\n",
    "        # print(plv_epoch.shape) => (300, 32, 65, 23)\n",
    "        plv_epoch_5 = np.concatenate([ plv_epoch[:,0:4].mean(axis=1).reshape(-1,1),\n",
    "                                        plv_epoch[:,4:8].mean(axis=1).reshape(-1,1),\n",
    "                                        plv_epoch[:,8:12].mean(axis=1).reshape(-1,1),\n",
    "                                        plv_epoch[:,12:30].mean(axis=1).reshape(-1,1),\n",
    "                                        plv_epoch[:,30:65].mean(axis=1).reshape(-1,1)], axis=0)\n",
    "        plv.append(np.expand_dims(plv_epoch_5, axis=0))\n",
    "        # count += 1\n",
    "        # if(count == 3): break\n",
    "    # shape (496, 65)\n",
    "    # 496 is number of pairs that is not duplicate\n",
    "    # 65 is number of phase of frequencies\n",
    "    plv = np.vstack( plv )\n",
    "    return plv.squeeze()\n",
    "\n",
    "def calculate_plv(data, n_jobs=8):\n",
    "    \"\"\" \n",
    "    Input: Expect data to have (n_epochs, n_channels, n_samples)\n",
    "    Output: (n_epochs, n_conn, n_freqs ) => n_conn = n_channels!/(2!(n_channels-2)!)\n",
    "    \"\"\"\n",
    "    from multiprocessing import Pool\n",
    "\n",
    "    try:\n",
    "        t_out = 60000\n",
    "        pool = Pool()\n",
    "        p_list = []\n",
    "        ans_list = []\n",
    "        num_p = n_jobs\n",
    "        indices = np.array_split(np.arange(data.shape[0]), num_p)\n",
    "        _, phase, _, _ = calculate_stft(data, 128)\n",
    "        for p_id in range(num_p):\n",
    "            p_list.append(pool.apply_async(PLV_stft, [p_id, phase[indices[p_id]] ]))\n",
    "        for p_id in range(num_p):\n",
    "            ans_list.append( p_list[p_id].get(timeout=t_out) )\n",
    "        # ans_list\n",
    "    finally:\n",
    "        print(\"========= close ========\")\n",
    "        pool.close() \n",
    "        pool.terminate()\n",
    "    return np.vstack(ans_list)\n"
   ]
  },
  {
   "cell_type": "code",
   "execution_count": 5,
   "metadata": {},
   "outputs": [
    {
     "data": {
      "application/vnd.jupyter.widget-view+json": {
       "model_id": "8e999efc05574919ac2cf40c434f77a3",
       "version_major": 2,
       "version_minor": 0
      },
      "text/plain": [
       "  0%|          | 0/32 [00:00<?, ?it/s]"
      ]
     },
     "metadata": {},
     "output_type": "display_data"
    },
    {
     "name": "stdout",
     "output_type": "stream",
     "text": [
      "Fitted sphere radius:         95.3 mm\n",
      "Origin head coordinates:      -0.8 15.1 45.3 mm\n",
      "Origin device coordinates:    -0.8 15.1 45.3 mm\n",
      "(100, 32, 65, 65)\n",
      "(100, 32, 65, 65)\n",
      "(100, 32, 65, 65)\n",
      "(100, 32, 65, 65)\n",
      "(100, 32, 65, 65)\n",
      "(100, 32, 65, 65)\n",
      "(100, 32, 65, 65)\n",
      "(100, 32, 65, 65)\n",
      "========= close ========\n",
      "\tAROUSAL-s01|Acc=0.8725|10-CV=0.691|STD=0.02755|Time spend=37.502729177474976\n",
      "\tVALENCE-s01|Acc=0.84875|10-CV=0.6515|STD=0.0251|Time spend=42.69966912269592\n",
      "Fitted sphere radius:         95.3 mm\n",
      "Origin head coordinates:      -0.8 15.1 45.3 mm\n",
      "Origin device coordinates:    -0.8 15.1 45.3 mm\n",
      "(100, 32, 65, 65)\n",
      "(100, 32, 65, 65)\n",
      "(100, 32, 65, 65)\n",
      "(100, 32, 65, 65)\n",
      "(100, 32, 65, 65)\n",
      "(100, 32, 65, 65)\n",
      "(100, 32, 65, 65)\n",
      "(100, 32, 65, 65)\n",
      "========= close ========\n",
      "\tAROUSAL-s02|Acc=0.6925|10-CV=0.647|STD=0.01308|Time spend=24.185926914215088\n",
      "\tVALENCE-s02|Acc=0.73625|10-CV=0.724|STD=0.03048|Time spend=28.42509388923645\n",
      "Fitted sphere radius:         95.3 mm\n",
      "Origin head coordinates:      -0.8 15.1 45.3 mm\n",
      "Origin device coordinates:    -0.8 15.1 45.3 mm\n",
      "(100, 32, 65, 65)\n",
      "(100, 32, 65, 65)\n",
      "(100, 32, 65, 65)\n",
      "(100, 32, 65, 65)\n",
      "(100, 32, 65, 65)\n",
      "(100, 32, 65, 65)\n",
      "(100, 32, 65, 65)\n",
      "(100, 32, 65, 65)\n",
      "========= close ========\n",
      "\tAROUSAL-s03|Acc=0.8|10-CV=0.8|STD=0.0|Time spend=22.495110273361206\n",
      "\tVALENCE-s03|Acc=0.75125|10-CV=0.691|STD=0.01895|Time spend=26.774548053741455\n",
      "Fitted sphere radius:         95.3 mm\n",
      "Origin head coordinates:      -0.8 15.1 45.3 mm\n",
      "Origin device coordinates:    -0.8 15.1 45.3 mm\n",
      "(100, 32, 65, 65)\n",
      "(100, 32, 65, 65)\n",
      "(100, 32, 65, 65)\n",
      "(100, 32, 65, 65)\n",
      "(100, 32, 65, 65)\n",
      "(100, 32, 65, 65)\n",
      "(100, 32, 65, 65)\n",
      "(100, 32, 65, 65)\n",
      "========= close ========\n",
      "\tAROUSAL-s04|Acc=0.72625|10-CV=0.672|STD=0.02492|Time spend=22.98375177383423\n",
      "\tVALENCE-s04|Acc=0.7225|10-CV=0.694|STD=0.02131|Time spend=26.997567176818848\n",
      "Fitted sphere radius:         95.3 mm\n",
      "Origin head coordinates:      -0.8 15.1 45.3 mm\n",
      "Origin device coordinates:    -0.8 15.1 45.3 mm\n",
      "(100, 32, 65, 65)\n",
      "(100, 32, 65, 65)\n",
      "(100, 32, 65, 65)\n",
      "(100, 32, 65, 65)\n",
      "(100, 32, 65, 65)\n",
      "(100, 32, 65, 65)\n",
      "(100, 32, 65, 65)\n",
      "(100, 32, 65, 65)\n",
      "========= close ========\n",
      "\tAROUSAL-s05|Acc=0.71125|10-CV=0.626|STD=0.0333|Time spend=23.18226718902588\n",
      "\tVALENCE-s05|Acc=0.69625|10-CV=0.635|STD=0.01245|Time spend=27.516411781311035\n",
      "Fitted sphere radius:         95.3 mm\n",
      "Origin head coordinates:      -0.8 15.1 45.3 mm\n",
      "Origin device coordinates:    -0.8 15.1 45.3 mm\n",
      "(100, 32, 65, 65)\n",
      "(100, 32, 65, 65)\n",
      "(100, 32, 65, 65)\n",
      "(100, 32, 65, 65)\n",
      "(100, 32, 65, 65)\n",
      "(100, 32, 65, 65)\n",
      "(100, 32, 65, 65)\n",
      "(100, 32, 65, 65)\n",
      "========= close ========\n",
      "\tAROUSAL-s06|Acc=0.64625|10-CV=0.5905|STD=0.02876|Time spend=24.656656742095947\n",
      "\tVALENCE-s06|Acc=0.75|10-CV=0.75|STD=0.0|Time spend=28.508275508880615\n",
      "Fitted sphere radius:         95.3 mm\n",
      "Origin head coordinates:      -0.8 15.1 45.3 mm\n",
      "Origin device coordinates:    -0.8 15.1 45.3 mm\n",
      "(100, 32, 65, 65)\n",
      "(100, 32, 65, 65)\n",
      "(100, 32, 65, 65)\n",
      "(100, 32, 65, 65)\n",
      "(100, 32, 65, 65)\n",
      "(100, 32, 65, 65)\n",
      "(100, 32, 65, 65)\n",
      "(100, 32, 65, 65)\n",
      "========= close ========\n",
      "\tAROUSAL-s07|Acc=0.76375|10-CV=0.6855|STD=0.01942|Time spend=24.84661078453064\n",
      "\tVALENCE-s07|Acc=0.7975|10-CV=0.757|STD=0.01269|Time spend=28.424371004104614\n",
      "Fitted sphere radius:         95.3 mm\n",
      "Origin head coordinates:      -0.8 15.1 45.3 mm\n",
      "Origin device coordinates:    -0.8 15.1 45.3 mm\n",
      "(100, 32, 65, 65)\n",
      "(100, 32, 65, 65)\n",
      "(100, 32, 65, 65)\n",
      "(100, 32, 65, 65)\n",
      "(100, 32, 65, 65)\n",
      "(100, 32, 65, 65)\n",
      "(100, 32, 65, 65)\n",
      "(100, 32, 65, 65)\n",
      "========= close ========\n",
      "\tAROUSAL-s08|Acc=0.8|10-CV=0.631|STD=0.02931|Time spend=25.347781658172607\n",
      "\tVALENCE-s08|Acc=0.81625|10-CV=0.635|STD=0.04207|Time spend=29.87752890586853\n",
      "Fitted sphere radius:         95.3 mm\n",
      "Origin head coordinates:      -0.8 15.1 45.3 mm\n",
      "Origin device coordinates:    -0.8 15.1 45.3 mm\n",
      "(100, 32, 65, 65)\n",
      "(100, 32, 65, 65)\n",
      "(100, 32, 65, 65)\n",
      "(100, 32, 65, 65)\n",
      "(100, 32, 65, 65)\n",
      "(100, 32, 65, 65)\n",
      "(100, 32, 65, 65)\n",
      "(100, 32, 65, 65)\n",
      "========= close ========\n",
      "\tAROUSAL-s09|Acc=0.7475|10-CV=0.7085|STD=0.02237|Time spend=22.82713484764099\n",
      "\tVALENCE-s09|Acc=0.77125|10-CV=0.745|STD=0.0246|Time spend=26.705055952072144\n",
      "Fitted sphere radius:         95.3 mm\n",
      "Origin head coordinates:      -0.8 15.1 45.3 mm\n",
      "Origin device coordinates:    -0.8 15.1 45.3 mm\n",
      "(100, 32, 65, 65)\n",
      "(100, 32, 65, 65)\n",
      "(100, 32, 65, 65)\n",
      "(100, 32, 65, 65)\n",
      "(100, 32, 65, 65)\n",
      "(100, 32, 65, 65)\n",
      "(100, 32, 65, 65)\n",
      "(100, 32, 65, 65)\n",
      "========= close ========\n",
      "\tAROUSAL-s10|Acc=0.76375|10-CV=0.689|STD=0.02142|Time spend=23.76455807685852\n",
      "\tVALENCE-s10|Acc=0.86|10-CV=0.816|STD=0.03089|Time spend=26.874401807785034\n",
      "Fitted sphere radius:         95.3 mm\n",
      "Origin head coordinates:      -0.8 15.1 45.3 mm\n",
      "Origin device coordinates:    -0.8 15.1 45.3 mm\n",
      "(100, 32, 65, 65)\n",
      "(100, 32, 65, 65)\n",
      "(100, 32, 65, 65)\n",
      "(100, 32, 65, 65)\n",
      "(100, 32, 65, 65)\n",
      "(100, 32, 65, 65)\n",
      "(100, 32, 65, 65)\n",
      "(100, 32, 65, 65)\n",
      "========= close ========\n",
      "\tAROUSAL-s11|Acc=0.6775|10-CV=0.63|STD=0.00837|Time spend=22.718287706375122\n",
      "\tVALENCE-s11|Acc=0.71375|10-CV=0.6695|STD=0.02079|Time spend=27.233028650283813\n",
      "Fitted sphere radius:         95.3 mm\n",
      "Origin head coordinates:      -0.8 15.1 45.3 mm\n",
      "Origin device coordinates:    -0.8 15.1 45.3 mm\n",
      "(100, 32, 65, 65)\n",
      "(100, 32, 65, 65)\n",
      "(100, 32, 65, 65)\n",
      "(100, 32, 65, 65)\n",
      "(100, 32, 65, 65)\n",
      "(100, 32, 65, 65)\n",
      "(100, 32, 65, 65)\n",
      "(100, 32, 65, 65)\n",
      "========= close ========\n",
      "\tAROUSAL-s12|Acc=0.825|10-CV=0.825|STD=0.0|Time spend=22.0917010307312\n",
      "\tVALENCE-s12|Acc=0.7225|10-CV=0.64|STD=0.02086|Time spend=26.454474925994873\n",
      "Fitted sphere radius:         95.3 mm\n",
      "Origin head coordinates:      -0.8 15.1 45.3 mm\n",
      "Origin device coordinates:    -0.8 15.1 45.3 mm\n",
      "(100, 32, 65, 65)\n",
      "(100, 32, 65, 65)\n",
      "(100, 32, 65, 65)\n",
      "(100, 32, 65, 65)\n",
      "(100, 32, 65, 65)\n",
      "(100, 32, 65, 65)\n",
      "(100, 32, 65, 65)\n",
      "(100, 32, 65, 65)\n",
      "========= close ========\n",
      "\tAROUSAL-s13|Acc=0.85|10-CV=0.85|STD=0.0|Time spend=21.68503165245056\n",
      "\tVALENCE-s13|Acc=0.78875|10-CV=0.771|STD=0.02737|Time spend=25.318077564239502\n",
      "Fitted sphere radius:         95.3 mm\n",
      "Origin head coordinates:      -0.8 15.1 45.3 mm\n",
      "Origin device coordinates:    -0.8 15.1 45.3 mm\n",
      "(100, 32, 65, 65)\n",
      "(100, 32, 65, 65)\n",
      "(100, 32, 65, 65)\n",
      "(100, 32, 65, 65)\n",
      "(100, 32, 65, 65)\n",
      "(100, 32, 65, 65)\n",
      "(100, 32, 65, 65)\n",
      "(100, 32, 65, 65)\n",
      "========= close ========\n",
      "\tAROUSAL-s14|Acc=0.70625|10-CV=0.686|STD=0.01179|Time spend=22.31292748451233\n",
      "\tVALENCE-s14|Acc=0.785|10-CV=0.729|STD=0.02267|Time spend=26.244662523269653\n",
      "Fitted sphere radius:         95.3 mm\n",
      "Origin head coordinates:      -0.8 15.1 45.3 mm\n",
      "Origin device coordinates:    -0.8 15.1 45.3 mm\n",
      "(100, 32, 65, 65)\n",
      "(100, 32, 65, 65)\n",
      "(100, 32, 65, 65)\n",
      "(100, 32, 65, 65)\n",
      "(100, 32, 65, 65)\n",
      "(100, 32, 65, 65)\n",
      "(100, 32, 65, 65)\n",
      "(100, 32, 65, 65)\n",
      "========= close ========\n",
      "\tAROUSAL-s15|Acc=0.79375|10-CV=0.694|STD=0.02853|Time spend=23.155863523483276\n",
      "\tVALENCE-s15|Acc=0.88375|10-CV=0.82|STD=0.0253|Time spend=26.494455575942993\n",
      "Fitted sphere radius:         95.3 mm\n",
      "Origin head coordinates:      -0.8 15.1 45.3 mm\n",
      "Origin device coordinates:    -0.8 15.1 45.3 mm\n",
      "(100, 32, 65, 65)\n",
      "(100, 32, 65, 65)\n",
      "(100, 32, 65, 65)\n",
      "(100, 32, 65, 65)\n",
      "(100, 32, 65, 65)\n",
      "(100, 32, 65, 65)\n",
      "(100, 32, 65, 65)\n",
      "(100, 32, 65, 65)\n",
      "========= close ========\n",
      "\tAROUSAL-s16|Acc=0.7625|10-CV=0.67|STD=0.01565|Time spend=23.385815858840942\n",
      "\tVALENCE-s16|Acc=0.75625|10-CV=0.71|STD=0.01118|Time spend=27.297423362731934\n",
      "Fitted sphere radius:         95.3 mm\n",
      "Origin head coordinates:      -0.8 15.1 45.3 mm\n",
      "Origin device coordinates:    -0.8 15.1 45.3 mm\n",
      "(100, 32, 65, 65)\n",
      "(100, 32, 65, 65)\n",
      "(100, 32, 65, 65)\n",
      "(100, 32, 65, 65)\n",
      "(100, 32, 65, 65)\n",
      "(100, 32, 65, 65)\n",
      "(100, 32, 65, 65)\n",
      "(100, 32, 65, 65)\n",
      "========= close ========\n",
      "\tAROUSAL-s17|Acc=0.77|10-CV=0.738|STD=0.02304|Time spend=22.63121247291565\n",
      "\tVALENCE-s17|Acc=0.65625|10-CV=0.611|STD=0.01868|Time spend=27.13783073425293\n",
      "Fitted sphere radius:         95.3 mm\n",
      "Origin head coordinates:      -0.8 15.1 45.3 mm\n",
      "Origin device coordinates:    -0.8 15.1 45.3 mm\n",
      "(100, 32, 65, 65)\n",
      "(100, 32, 65, 65)\n",
      "(100, 32, 65, 65)\n",
      "(100, 32, 65, 65)\n",
      "(100, 32, 65, 65)\n",
      "(100, 32, 65, 65)\n",
      "(100, 32, 65, 65)\n",
      "(100, 32, 65, 65)\n",
      "========= close ========\n",
      "\tAROUSAL-s18|Acc=0.68125|10-CV=0.649|STD=0.00995|Time spend=22.7476007938385\n",
      "\tVALENCE-s18|Acc=0.8125|10-CV=0.7795|STD=0.02979|Time spend=25.914950847625732\n",
      "Fitted sphere radius:         95.3 mm\n",
      "Origin head coordinates:      -0.8 15.1 45.3 mm\n",
      "Origin device coordinates:    -0.8 15.1 45.3 mm\n",
      "(100, 32, 65, 65)\n",
      "(100, 32, 65, 65)\n",
      "(100, 32, 65, 65)\n",
      "(100, 32, 65, 65)\n",
      "(100, 32, 65, 65)\n",
      "(100, 32, 65, 65)\n",
      "(100, 32, 65, 65)\n",
      "(100, 32, 65, 65)\n",
      "========= close ========\n",
      "\tAROUSAL-s19|Acc=0.76375|10-CV=0.699|STD=0.01136|Time spend=21.942896604537964\n",
      "\tVALENCE-s19|Acc=0.77|10-CV=0.679|STD=0.03569|Time spend=26.178056001663208\n",
      "Fitted sphere radius:         95.3 mm\n",
      "Origin head coordinates:      -0.8 15.1 45.3 mm\n",
      "Origin device coordinates:    -0.8 15.1 45.3 mm\n",
      "(100, 32, 65, 65)\n",
      "(100, 32, 65, 65)\n",
      "(100, 32, 65, 65)\n",
      "(100, 32, 65, 65)\n",
      "(100, 32, 65, 65)\n",
      "(100, 32, 65, 65)\n",
      "(100, 32, 65, 65)\n",
      "(100, 32, 65, 65)\n",
      "========= close ========\n",
      "\tAROUSAL-s20|Acc=0.775|10-CV=0.775|STD=0.0|Time spend=21.943527698516846\n",
      "\tVALENCE-s20|Acc=0.77625|10-CV=0.709|STD=0.03618|Time spend=25.684295892715454\n",
      "Fitted sphere radius:         95.3 mm\n",
      "Origin head coordinates:      -0.8 15.1 45.3 mm\n",
      "Origin device coordinates:    -0.8 15.1 45.3 mm\n",
      "(100, 32, 65, 65)\n",
      "(100, 32, 65, 65)\n",
      "(100, 32, 65, 65)\n",
      "(100, 32, 65, 65)\n",
      "(100, 32, 65, 65)\n",
      "(100, 32, 65, 65)\n",
      "(100, 32, 65, 65)\n",
      "(100, 32, 65, 65)\n",
      "========= close ========\n",
      "\tAROUSAL-s21|Acc=0.8|10-CV=0.8|STD=0.0|Time spend=22.19621205329895\n",
      "\tVALENCE-s21|Acc=0.6875|10-CV=0.5995|STD=0.02382|Time spend=26.667376279830933\n",
      "Fitted sphere radius:         95.3 mm\n",
      "Origin head coordinates:      -0.8 15.1 45.3 mm\n",
      "Origin device coordinates:    -0.8 15.1 45.3 mm\n",
      "(100, 32, 65, 65)\n",
      "(100, 32, 65, 65)\n",
      "(100, 32, 65, 65)\n",
      "(100, 32, 65, 65)\n",
      "(100, 32, 65, 65)\n",
      "(100, 32, 65, 65)\n",
      "(100, 32, 65, 65)\n",
      "(100, 32, 65, 65)\n",
      "========= close ========\n",
      "\tAROUSAL-s22|Acc=0.615|10-CV=0.609|STD=0.00995|Time spend=23.578615427017212\n",
      "\tVALENCE-s22|Acc=0.7525|10-CV=0.7415|STD=0.0255|Time spend=27.120246410369873\n",
      "Fitted sphere radius:         95.3 mm\n",
      "Origin head coordinates:      -0.8 15.1 45.3 mm\n",
      "Origin device coordinates:    -0.8 15.1 45.3 mm\n",
      "(100, 32, 65, 65)\n",
      "(100, 32, 65, 65)\n",
      "(100, 32, 65, 65)\n",
      "(100, 32, 65, 65)\n",
      "(100, 32, 65, 65)\n",
      "(100, 32, 65, 65)\n",
      "(100, 32, 65, 65)\n",
      "(100, 32, 65, 65)\n",
      "========= close ========\n",
      "\tAROUSAL-s23|Acc=0.805|10-CV=0.764|STD=0.00539|Time spend=23.479029655456543\n",
      "\tVALENCE-s23|Acc=0.795|10-CV=0.736|STD=0.01114|Time spend=27.680716514587402\n",
      "Fitted sphere radius:         95.3 mm\n",
      "Origin head coordinates:      -0.8 15.1 45.3 mm\n",
      "Origin device coordinates:    -0.8 15.1 45.3 mm\n",
      "(100, 32, 65, 65)\n",
      "(100, 32, 65, 65)\n",
      "(100, 32, 65, 65)\n",
      "(100, 32, 65, 65)\n",
      "(100, 32, 65, 65)\n",
      "(100, 32, 65, 65)\n",
      "(100, 32, 65, 65)\n",
      "(100, 32, 65, 65)\n",
      "========= close ========\n",
      "\tAROUSAL-s24|Acc=0.825|10-CV=0.825|STD=0.0|Time spend=23.087377786636353\n",
      "\tVALENCE-s24|Acc=0.74375|10-CV=0.7025|STD=0.03124|Time spend=27.491995334625244\n",
      "Fitted sphere radius:         95.3 mm\n",
      "Origin head coordinates:      -0.8 15.1 45.3 mm\n",
      "Origin device coordinates:    -0.8 15.1 45.3 mm\n",
      "(100, 32, 65, 65)\n",
      "(100, 32, 65, 65)\n",
      "(100, 32, 65, 65)\n",
      "(100, 32, 65, 65)\n",
      "(100, 32, 65, 65)\n",
      "(100, 32, 65, 65)\n",
      "(100, 32, 65, 65)\n",
      "(100, 32, 65, 65)\n",
      "========= close ========\n",
      "\tAROUSAL-s25|Acc=0.725|10-CV=0.725|STD=0.0|Time spend=21.737776041030884\n",
      "\tVALENCE-s25|Acc=0.66875|10-CV=0.6125|STD=0.03349|Time spend=26.100735425949097\n",
      "Fitted sphere radius:         95.3 mm\n",
      "Origin head coordinates:      -0.8 15.1 45.3 mm\n",
      "Origin device coordinates:    -0.8 15.1 45.3 mm\n",
      "(100, 32, 65, 65)\n",
      "(100, 32, 65, 65)\n",
      "(100, 32, 65, 65)\n",
      "(100, 32, 65, 65)\n",
      "(100, 32, 65, 65)\n",
      "(100, 32, 65, 65)\n",
      "(100, 32, 65, 65)\n",
      "(100, 32, 65, 65)\n",
      "========= close ========\n",
      "\tAROUSAL-s26|Acc=0.7|10-CV=0.639|STD=0.012|Time spend=22.922071933746338\n",
      "\tVALENCE-s26|Acc=0.66375|10-CV=0.649|STD=0.00374|Time spend=26.9148850440979\n",
      "Fitted sphere radius:         95.3 mm\n",
      "Origin head coordinates:      -0.8 15.1 45.3 mm\n",
      "Origin device coordinates:    -0.8 15.1 45.3 mm\n",
      "(100, 32, 65, 65)\n",
      "(100, 32, 65, 65)\n",
      "(100, 32, 65, 65)\n",
      "(100, 32, 65, 65)\n",
      "(100, 32, 65, 65)\n",
      "(100, 32, 65, 65)\n",
      "(100, 32, 65, 65)\n",
      "(100, 32, 65, 65)\n",
      "========= close ========\n",
      "\tAROUSAL-s27|Acc=0.82875|10-CV=0.746|STD=0.02022|Time spend=21.909936666488647\n",
      "\tVALENCE-s27|Acc=0.76625|10-CV=0.751|STD=0.003|Time spend=25.217761516571045\n",
      "Fitted sphere radius:         95.3 mm\n",
      "Origin head coordinates:      -0.8 15.1 45.3 mm\n",
      "Origin device coordinates:    -0.8 15.1 45.3 mm\n",
      "(100, 32, 65, 65)\n",
      "(100, 32, 65, 65)\n",
      "(100, 32, 65, 65)\n",
      "(100, 32, 65, 65)\n",
      "(100, 32, 65, 65)\n",
      "(100, 32, 65, 65)\n",
      "(100, 32, 65, 65)\n",
      "(100, 32, 65, 65)\n",
      "========= close ========\n",
      "\tAROUSAL-s28|Acc=0.6725|10-CV=0.6255|STD=0.01724|Time spend=24.858994245529175\n",
      "\tVALENCE-s28|Acc=0.7225|10-CV=0.6705|STD=0.02162|Time spend=28.460503578186035\n",
      "Fitted sphere radius:         95.3 mm\n",
      "Origin head coordinates:      -0.8 15.1 45.3 mm\n",
      "Origin device coordinates:    -0.8 15.1 45.3 mm\n",
      "(100, 32, 65, 65)\n",
      "(100, 32, 65, 65)\n",
      "(100, 32, 65, 65)\n",
      "(100, 32, 65, 65)\n",
      "(100, 32, 65, 65)\n",
      "(100, 32, 65, 65)\n",
      "(100, 32, 65, 65)\n",
      "(100, 32, 65, 65)\n",
      "========= close ========\n",
      "\tAROUSAL-s29|Acc=0.70625|10-CV=0.6405|STD=0.01619|Time spend=24.01015830039978\n",
      "\tVALENCE-s29|Acc=0.7575|10-CV=0.671|STD=0.02672|Time spend=27.949742555618286\n",
      "Fitted sphere radius:         95.3 mm\n",
      "Origin head coordinates:      -0.8 15.1 45.3 mm\n",
      "Origin device coordinates:    -0.8 15.1 45.3 mm\n",
      "(100, 32, 65, 65)\n",
      "(100, 32, 65, 65)\n",
      "(100, 32, 65, 65)\n",
      "(100, 32, 65, 65)\n",
      "(100, 32, 65, 65)\n",
      "(100, 32, 65, 65)\n",
      "(100, 32, 65, 65)\n",
      "(100, 32, 65, 65)\n",
      "========= close ========\n",
      "\tAROUSAL-s30|Acc=0.73|10-CV=0.593|STD=0.03211|Time spend=24.86917018890381\n",
      "\tVALENCE-s30|Acc=0.6775|10-CV=0.6745|STD=0.0035|Time spend=28.4754581451416\n",
      "Fitted sphere radius:         95.3 mm\n",
      "Origin head coordinates:      -0.8 15.1 45.3 mm\n",
      "Origin device coordinates:    -0.8 15.1 45.3 mm\n",
      "(100, 32, 65, 65)\n",
      "(100, 32, 65, 65)\n",
      "(100, 32, 65, 65)\n",
      "(100, 32, 65, 65)\n",
      "(100, 32, 65, 65)\n",
      "(100, 32, 65, 65)\n",
      "(100, 32, 65, 65)\n",
      "(100, 32, 65, 65)\n",
      "========= close ========\n",
      "\tAROUSAL-s31|Acc=0.8325|10-CV=0.6635|STD=0.03194|Time spend=23.931846618652344\n",
      "\tVALENCE-s31|Acc=0.8025|10-CV=0.6245|STD=0.02392|Time spend=28.51926064491272\n",
      "Fitted sphere radius:         95.3 mm\n",
      "Origin head coordinates:      -0.8 15.1 45.3 mm\n",
      "Origin device coordinates:    -0.8 15.1 45.3 mm\n",
      "(100, 32, 65, 65)\n",
      "(100, 32, 65, 65)\n",
      "(100, 32, 65, 65)\n",
      "(100, 32, 65, 65)\n",
      "(100, 32, 65, 65)\n",
      "(100, 32, 65, 65)\n",
      "(100, 32, 65, 65)\n",
      "(100, 32, 65, 65)\n",
      "========= close ========\n",
      "\tAROUSAL-s32|Acc=0.715|10-CV=0.6835|STD=0.00673|Time spend=22.73346495628357\n",
      "\tVALENCE-s32|Acc=0.6775|10-CV=0.6115|STD=0.02766|Time spend=27.34872603416443\n",
      "AROUSAL|Acc=0.7526171875|10-CV=0.6959531249999998|STD=0.01501857001903528\n",
      "VALENCE|Acc=0.7540624999999999|10-CV=0.695640625|STD=0.0219495326197191\n"
     ]
    }
   ],
   "source": [
    "accs, cv_means, cv_stds = [],[],[]\n",
    "accs_v, cv_means_v, cv_stds_v = [],[],[]\n",
    "reports = []\n",
    "for filename in (pbar := tqdm(dataset.get_file_list())):\n",
    "    start = time.time()\n",
    "    pbar.set_description(filename)\n",
    "    data, labels, groups = dataset.get_data(filename, stimuli=Dataset_subjectDependent.STIMULI_AROUSAL, return_type='mne', sfreq=128)\n",
    "    \n",
    "    data_csd = mne.preprocessing.compute_current_source_density(data)\n",
    "\n",
    "    plv = calculate_plv(data_csd.get_data(), n_jobs=8)\n",
    "\n",
    "    _,acc,cross,train_report = train_model(plv, labels.squeeze(), groups, filename=filename, return_text=True)\n",
    "    report = f\"\\tAROUSAL-{filename}|Acc={round(acc,5)}|10-CV={round(cross.mean(),5)}|STD={round(cross.std(),5)}|Time spend={time.time() - start}\"\n",
    "    print(report)\n",
    "    reports.append(report)\n",
    "    reports.append(train_report)\n",
    "    accs.append(acc)\n",
    "    cv_means.append(cross.mean())\n",
    "    cv_stds.append(cross.std())\n",
    "\n",
    "    _, labels_v, groups_v = dataset.get_data(filename, stimuli=Dataset_subjectDependent.STIMULI_VALENCE, return_type='mne', sfreq=128)\n",
    "    _,acc,cross,train_report = train_model(plv, labels_v.squeeze(), groups_v, filename=filename, return_text=True)\n",
    "    report = f\"\\tVALENCE-{filename}|Acc={round(acc,5)}|10-CV={round(cross.mean(),5)}|STD={round(cross.std(),5)}|Time spend={time.time() - start}\"\n",
    "    print(report)\n",
    "    reports.append(report)\n",
    "    reports.append(train_report)\n",
    "    accs_v.append(acc)\n",
    "    cv_means_v.append(cross.mean())\n",
    "    cv_stds_v.append(cross.std())\n",
    "    # break\n",
    "    # count+=1\n",
    "    # if(count == 5): break\n",
    "report = f\"AROUSAL|Acc={sum(accs)/len(accs)}|10-CV={sum(cv_means)/len(cv_means)}|STD={sum(cv_stds)/len(cv_stds)}\"\n",
    "print(report)\n",
    "reports.append(report)\n",
    "report = f\"VALENCE|Acc={sum(accs_v)/len(accs_v)}|10-CV={sum(cv_means_v)/len(cv_means_v)}|STD={sum(cv_stds_v)/len(cv_stds_v)}\"\n",
    "print(report)\n",
    "reports.append(report)"
   ]
  },
  {
   "cell_type": "code",
   "execution_count": 6,
   "metadata": {},
   "outputs": [
    {
     "name": "stdout",
     "output_type": "stream",
     "text": [
      "\tAROUSAL-s01|Acc=0.8725|10-CV=0.691|STD=0.02755|Time spend=37.502729177474976\n",
      "\tVALENCE-s01|Acc=0.84875|10-CV=0.6515|STD=0.0251|Time spend=42.69966912269592\n",
      "\tAROUSAL-s02|Acc=0.6925|10-CV=0.647|STD=0.01308|Time spend=24.185926914215088\n",
      "\tVALENCE-s02|Acc=0.73625|10-CV=0.724|STD=0.03048|Time spend=28.42509388923645\n",
      "\tAROUSAL-s03|Acc=0.8|10-CV=0.8|STD=0.0|Time spend=22.495110273361206\n",
      "-----WARNING: Model s03 failed to learn: sum(ans)=0.0 sum(y)=160.0 len(y)=800\n",
      "\tVALENCE-s03|Acc=0.75125|10-CV=0.691|STD=0.01895|Time spend=26.774548053741455\n",
      "\tAROUSAL-s04|Acc=0.72625|10-CV=0.672|STD=0.02492|Time spend=22.98375177383423\n",
      "\tVALENCE-s04|Acc=0.7225|10-CV=0.694|STD=0.02131|Time spend=26.997567176818848\n",
      "\tAROUSAL-s05|Acc=0.71125|10-CV=0.626|STD=0.0333|Time spend=23.18226718902588\n",
      "\tVALENCE-s05|Acc=0.69625|10-CV=0.635|STD=0.01245|Time spend=27.516411781311035\n",
      "\tAROUSAL-s06|Acc=0.64625|10-CV=0.5905|STD=0.02876|Time spend=24.656656742095947\n",
      "\tVALENCE-s06|Acc=0.75|10-CV=0.75|STD=0.0|Time spend=28.508275508880615\n",
      "-----WARNING: Model s06 failed to learn: sum(ans)=800.0 sum(y)=600.0 len(y)=800\n",
      "\tAROUSAL-s07|Acc=0.76375|10-CV=0.6855|STD=0.01942|Time spend=24.84661078453064\n",
      "\tVALENCE-s07|Acc=0.7975|10-CV=0.757|STD=0.01269|Time spend=28.424371004104614\n",
      "\tAROUSAL-s08|Acc=0.8|10-CV=0.631|STD=0.02931|Time spend=25.347781658172607\n",
      "\tVALENCE-s08|Acc=0.81625|10-CV=0.635|STD=0.04207|Time spend=29.87752890586853\n",
      "\tAROUSAL-s09|Acc=0.7475|10-CV=0.7085|STD=0.02237|Time spend=22.82713484764099\n",
      "\tVALENCE-s09|Acc=0.77125|10-CV=0.745|STD=0.0246|Time spend=26.705055952072144\n",
      "\tAROUSAL-s10|Acc=0.76375|10-CV=0.689|STD=0.02142|Time spend=23.76455807685852\n",
      "\tVALENCE-s10|Acc=0.86|10-CV=0.816|STD=0.03089|Time spend=26.874401807785034\n",
      "\tAROUSAL-s11|Acc=0.6775|10-CV=0.63|STD=0.00837|Time spend=22.718287706375122\n",
      "\tVALENCE-s11|Acc=0.71375|10-CV=0.6695|STD=0.02079|Time spend=27.233028650283813\n",
      "\tAROUSAL-s12|Acc=0.825|10-CV=0.825|STD=0.0|Time spend=22.0917010307312\n",
      "-----WARNING: Model s12 failed to learn: sum(ans)=800.0 sum(y)=660.0 len(y)=800\n",
      "\tVALENCE-s12|Acc=0.7225|10-CV=0.64|STD=0.02086|Time spend=26.454474925994873\n",
      "\tAROUSAL-s13|Acc=0.85|10-CV=0.85|STD=0.0|Time spend=21.68503165245056\n",
      "-----WARNING: Model s13 failed to learn: sum(ans)=800.0 sum(y)=680.0 len(y)=800\n",
      "\tVALENCE-s13|Acc=0.78875|10-CV=0.771|STD=0.02737|Time spend=25.318077564239502\n",
      "\tAROUSAL-s14|Acc=0.70625|10-CV=0.686|STD=0.01179|Time spend=22.31292748451233\n",
      "\tVALENCE-s14|Acc=0.785|10-CV=0.729|STD=0.02267|Time spend=26.244662523269653\n",
      "\tAROUSAL-s15|Acc=0.79375|10-CV=0.694|STD=0.02853|Time spend=23.155863523483276\n",
      "\tVALENCE-s15|Acc=0.88375|10-CV=0.82|STD=0.0253|Time spend=26.494455575942993\n",
      "\tAROUSAL-s16|Acc=0.7625|10-CV=0.67|STD=0.01565|Time spend=23.385815858840942\n",
      "\tVALENCE-s16|Acc=0.75625|10-CV=0.71|STD=0.01118|Time spend=27.297423362731934\n",
      "\tAROUSAL-s17|Acc=0.77|10-CV=0.738|STD=0.02304|Time spend=22.63121247291565\n",
      "\tVALENCE-s17|Acc=0.65625|10-CV=0.611|STD=0.01868|Time spend=27.13783073425293\n",
      "\tAROUSAL-s18|Acc=0.68125|10-CV=0.649|STD=0.00995|Time spend=22.7476007938385\n",
      "\tVALENCE-s18|Acc=0.8125|10-CV=0.7795|STD=0.02979|Time spend=25.914950847625732\n",
      "\tAROUSAL-s19|Acc=0.76375|10-CV=0.699|STD=0.01136|Time spend=21.942896604537964\n",
      "\tVALENCE-s19|Acc=0.77|10-CV=0.679|STD=0.03569|Time spend=26.178056001663208\n",
      "\tAROUSAL-s20|Acc=0.775|10-CV=0.775|STD=0.0|Time spend=21.943527698516846\n",
      "-----WARNING: Model s20 failed to learn: sum(ans)=800.0 sum(y)=620.0 len(y)=800\n",
      "\tVALENCE-s20|Acc=0.77625|10-CV=0.709|STD=0.03618|Time spend=25.684295892715454\n",
      "\tAROUSAL-s21|Acc=0.8|10-CV=0.8|STD=0.0|Time spend=22.19621205329895\n",
      "-----WARNING: Model s21 failed to learn: sum(ans)=800.0 sum(y)=640.0 len(y)=800\n",
      "\tVALENCE-s21|Acc=0.6875|10-CV=0.5995|STD=0.02382|Time spend=26.667376279830933\n",
      "\tAROUSAL-s22|Acc=0.615|10-CV=0.609|STD=0.00995|Time spend=23.578615427017212\n",
      "\tVALENCE-s22|Acc=0.7525|10-CV=0.7415|STD=0.0255|Time spend=27.120246410369873\n",
      "\tAROUSAL-s23|Acc=0.805|10-CV=0.764|STD=0.00539|Time spend=23.479029655456543\n",
      "\tVALENCE-s23|Acc=0.795|10-CV=0.736|STD=0.01114|Time spend=27.680716514587402\n",
      "\tAROUSAL-s24|Acc=0.825|10-CV=0.825|STD=0.0|Time spend=23.087377786636353\n",
      "-----WARNING: Model s24 failed to learn: sum(ans)=800.0 sum(y)=660.0 len(y)=800\n",
      "\tVALENCE-s24|Acc=0.74375|10-CV=0.7025|STD=0.03124|Time spend=27.491995334625244\n",
      "\tAROUSAL-s25|Acc=0.725|10-CV=0.725|STD=0.0|Time spend=21.737776041030884\n",
      "-----WARNING: Model s25 failed to learn: sum(ans)=800.0 sum(y)=580.0 len(y)=800\n",
      "\tVALENCE-s25|Acc=0.66875|10-CV=0.6125|STD=0.03349|Time spend=26.100735425949097\n",
      "\tAROUSAL-s26|Acc=0.7|10-CV=0.639|STD=0.012|Time spend=22.922071933746338\n",
      "\tVALENCE-s26|Acc=0.66375|10-CV=0.649|STD=0.00374|Time spend=26.9148850440979\n",
      "\tAROUSAL-s27|Acc=0.82875|10-CV=0.746|STD=0.02022|Time spend=21.909936666488647\n",
      "\tVALENCE-s27|Acc=0.76625|10-CV=0.751|STD=0.003|Time spend=25.217761516571045\n",
      "\tAROUSAL-s28|Acc=0.6725|10-CV=0.6255|STD=0.01724|Time spend=24.858994245529175\n",
      "\tVALENCE-s28|Acc=0.7225|10-CV=0.6705|STD=0.02162|Time spend=28.460503578186035\n",
      "\tAROUSAL-s29|Acc=0.70625|10-CV=0.6405|STD=0.01619|Time spend=24.01015830039978\n",
      "\tVALENCE-s29|Acc=0.7575|10-CV=0.671|STD=0.02672|Time spend=27.949742555618286\n",
      "\tAROUSAL-s30|Acc=0.73|10-CV=0.593|STD=0.03211|Time spend=24.86917018890381\n",
      "\tVALENCE-s30|Acc=0.6775|10-CV=0.6745|STD=0.0035|Time spend=28.4754581451416\n",
      "\tAROUSAL-s31|Acc=0.8325|10-CV=0.6635|STD=0.03194|Time spend=23.931846618652344\n",
      "\tVALENCE-s31|Acc=0.8025|10-CV=0.6245|STD=0.02392|Time spend=28.51926064491272\n",
      "\tAROUSAL-s32|Acc=0.715|10-CV=0.6835|STD=0.00673|Time spend=22.73346495628357\n",
      "\tVALENCE-s32|Acc=0.6775|10-CV=0.6115|STD=0.02766|Time spend=27.34872603416443\n",
      "AROUSAL|Acc=0.7526171875|10-CV=0.6959531249999998|STD=0.01501857001903528\n",
      "VALENCE|Acc=0.7540624999999999|10-CV=0.695640625|STD=0.0219495326197191\n",
      "TOTAL|Acc=0.7533398437499998|10-CV=0.6957968749999999|STD=0.018484051319377186\n"
     ]
    }
   ],
   "source": [
    "for text in reports:\n",
    "    if(text == None): continue\n",
    "    print(text)\n",
    "\n",
    "accs.extend(accs_v)\n",
    "cv_means.extend(cv_means_v)\n",
    "cv_stds.extend(cv_stds_v)\n",
    "print(f\"TOTAL|Acc={sum(accs)/len(accs)}|10-CV={sum(cv_means)/len(cv_means)}|STD={sum(cv_stds)/len(cv_stds)}\")"
   ]
  },
  {
   "cell_type": "markdown",
   "metadata": {},
   "source": [
    "### 4.4 $ \\text{PLI}(j,k) =  \\frac{1}{T} | \\Sigma^{T}_{t=1} \\text{sign}(Im[e^{i (\\phi^{t}_{j} - \\phi^{t}_{k})}])  | $"
   ]
  },
  {
   "cell_type": "code",
   "execution_count": 7,
   "metadata": {},
   "outputs": [],
   "source": [
    "# bands = [(0,4), (4,8), (8,12), (12,30), (30,64)]\n",
    "def calculate_stft(signals, sfreq):\n",
    "    from scipy import signal\n",
    "    f_range, t_range, Z = signal.stft(signals, sfreq, nperseg=sfreq//10, nfft=sfreq)\n",
    "    magnitude = np.abs(Z) \n",
    "    phase = np.angle(Z)\n",
    "    return magnitude, phase, f_range, t_range\n",
    "\n",
    "def PLI_stft(p_id, phase):\n",
    "    # (32, 65, 12) => (channels, freqs, times)\n",
    "    # print(f\"p_id:{p_id} - data to run {phase.shape}\")\n",
    "    from itertools import combinations\n",
    "    pli = []\n",
    "    # count = 0\n",
    "    for index in range(phase.shape[0]):\n",
    "        pli_epoch = []\n",
    "        for comb in combinations(list(range(phase.shape[1])), 2):\n",
    "            # shape = (65,12)\n",
    "            phase_a, phase_b = phase[index, comb[0]], phase[index, comb[1]]\n",
    "            phase_diff = phase_a - phase_b\n",
    "            # sum along the time size\n",
    "            pli_ab = np.abs(np.average(   np.sign(np.imag(   np.exp(complex(0,1) * phase_diff) ))  , axis=1))\n",
    "            pli_epoch.append(pli_ab)\n",
    "        pli_epoch = np.vstack(pli_epoch)\n",
    "        pli_epoch_5 = np.concatenate([ pli_epoch[:,0:4].mean(axis=1).reshape(-1,1),\n",
    "                                        pli_epoch[:,4:8].mean(axis=1).reshape(-1,1),\n",
    "                                        pli_epoch[:,8:12].mean(axis=1).reshape(-1,1),\n",
    "                                        pli_epoch[:,12:30].mean(axis=1).reshape(-1,1),\n",
    "                                        pli_epoch[:,30:65].mean(axis=1).reshape(-1,1)], axis=0)\n",
    "        pli.append(np.expand_dims(pli_epoch_5, axis=0))\n",
    "        # count += 1\n",
    "        # if(count == 3): break\n",
    "    # shape (496, 65)\n",
    "    # 496 is number of pairs that is not duplicate\n",
    "    # 65 is number of phase of frequencies\n",
    "    pli = np.vstack( pli )\n",
    "    return pli.squeeze()\n",
    "\n",
    "def calculate_pli(data, n_jobs=8):\n",
    "    \"\"\" \n",
    "    Input: Expect data to have (n_epochs, n_channels, n_samples)\n",
    "    Output: (n_epochs, n_conn, n_freqs ) => n_conn = n_channels!/(2!(n_channels-2)!)\n",
    "    \"\"\"\n",
    "    from multiprocessing import Pool\n",
    "\n",
    "    try:\n",
    "        t_out = 60000\n",
    "        pool = Pool()\n",
    "        p_list = []\n",
    "        ans_list = []\n",
    "        num_p = n_jobs\n",
    "        indices = np.array_split(np.arange(data.shape[0]), num_p)\n",
    "        _, phase, _, _ = calculate_stft(data, 128)\n",
    "        for p_id in range(num_p):\n",
    "            p_list.append(pool.apply_async(PLI_stft, [p_id, phase[indices[p_id]] ]))\n",
    "        for p_id in range(num_p):\n",
    "            ans_list.append( p_list[p_id].get(timeout=t_out) )\n",
    "        # ans_list\n",
    "    finally:\n",
    "        print(\"========= close ========\")\n",
    "        pool.close() \n",
    "        pool.terminate()\n",
    "    return np.vstack(ans_list)\n"
   ]
  },
  {
   "cell_type": "code",
   "execution_count": 8,
   "metadata": {},
   "outputs": [
    {
     "data": {
      "application/vnd.jupyter.widget-view+json": {
       "model_id": "ee0f9265d7d344f791c2b3e41c0a2b1e",
       "version_major": 2,
       "version_minor": 0
      },
      "text/plain": [
       "  0%|          | 0/32 [00:00<?, ?it/s]"
      ]
     },
     "metadata": {},
     "output_type": "display_data"
    },
    {
     "name": "stdout",
     "output_type": "stream",
     "text": [
      "Fitted sphere radius:         95.3 mm\n",
      "Origin head coordinates:      -0.8 15.1 45.3 mm\n",
      "Origin device coordinates:    -0.8 15.1 45.3 mm\n",
      "========= close ========\n",
      "\tAROUSAL-s01|Acc=0.9425|10-CV=0.6115|STD=0.01184|Time spend=24.00746464729309\n",
      "\tVALENCE-s01|Acc=0.9925|10-CV=0.5305|STD=0.0171|Time spend=28.659448385238647\n",
      "Fitted sphere radius:         95.3 mm\n",
      "Origin head coordinates:      -0.8 15.1 45.3 mm\n",
      "Origin device coordinates:    -0.8 15.1 45.3 mm\n",
      "========= close ========\n",
      "\tAROUSAL-s02|Acc=0.845|10-CV=0.626|STD=0.0164|Time spend=22.93105721473694\n",
      "\tVALENCE-s02|Acc=0.92875|10-CV=0.538|STD=0.0259|Time spend=27.48645806312561\n",
      "Fitted sphere radius:         95.3 mm\n",
      "Origin head coordinates:      -0.8 15.1 45.3 mm\n",
      "Origin device coordinates:    -0.8 15.1 45.3 mm\n",
      "========= close ========\n",
      "\tAROUSAL-s03|Acc=0.845|10-CV=0.8|STD=0.0|Time spend=22.485769987106323\n",
      "\tVALENCE-s03|Acc=0.9575|10-CV=0.537|STD=0.01749|Time spend=27.842889547348022\n",
      "Fitted sphere radius:         95.3 mm\n",
      "Origin head coordinates:      -0.8 15.1 45.3 mm\n",
      "Origin device coordinates:    -0.8 15.1 45.3 mm\n",
      "========= close ========\n",
      "\tAROUSAL-s04|Acc=0.88125|10-CV=0.6155|STD=0.00789|Time spend=22.977734088897705\n",
      "\tVALENCE-s04|Acc=0.84125|10-CV=0.5995|STD=0.0082|Time spend=27.827568292617798\n",
      "Fitted sphere radius:         95.3 mm\n",
      "Origin head coordinates:      -0.8 15.1 45.3 mm\n",
      "Origin device coordinates:    -0.8 15.1 45.3 mm\n",
      "========= close ========\n",
      "\tAROUSAL-s05|Acc=0.86625|10-CV=0.5325|STD=0.02369|Time spend=22.7110493183136\n",
      "\tVALENCE-s05|Acc=0.72375|10-CV=0.59|STD=0.00632|Time spend=27.125536680221558\n",
      "Fitted sphere radius:         95.3 mm\n",
      "Origin head coordinates:      -0.8 15.1 45.3 mm\n",
      "Origin device coordinates:    -0.8 15.1 45.3 mm\n",
      "========= close ========\n",
      "\tAROUSAL-s06|Acc=0.9425|10-CV=0.5665|STD=0.01097|Time spend=24.950120449066162\n",
      "\tVALENCE-s06|Acc=0.845|10-CV=0.75|STD=0.0|Time spend=29.21006941795349\n",
      "Fitted sphere radius:         95.3 mm\n",
      "Origin head coordinates:      -0.8 15.1 45.3 mm\n",
      "Origin device coordinates:    -0.8 15.1 45.3 mm\n",
      "========= close ========\n",
      "\tAROUSAL-s07|Acc=0.9525|10-CV=0.6225|STD=0.00783|Time spend=24.99294877052307\n",
      "\tVALENCE-s07|Acc=0.91375|10-CV=0.7|STD=0.0|Time spend=29.5248761177063\n",
      "Fitted sphere radius:         95.3 mm\n",
      "Origin head coordinates:      -0.8 15.1 45.3 mm\n",
      "Origin device coordinates:    -0.8 15.1 45.3 mm\n",
      "========= close ========\n",
      "\tAROUSAL-s08|Acc=0.9725|10-CV=0.579|STD=0.01655|Time spend=25.01331639289856\n",
      "\tVALENCE-s08|Acc=0.96375|10-CV=0.5985|STD=0.02157|Time spend=29.562013387680054\n",
      "Fitted sphere radius:         95.3 mm\n",
      "Origin head coordinates:      -0.8 15.1 45.3 mm\n",
      "Origin device coordinates:    -0.8 15.1 45.3 mm\n",
      "========= close ========\n",
      "\tAROUSAL-s09|Acc=0.81375|10-CV=0.599|STD=0.01261|Time spend=24.496707916259766\n",
      "\tVALENCE-s09|Acc=0.92875|10-CV=0.534|STD=0.02634|Time spend=28.933736324310303\n",
      "Fitted sphere radius:         95.3 mm\n",
      "Origin head coordinates:      -0.8 15.1 45.3 mm\n",
      "Origin device coordinates:    -0.8 15.1 45.3 mm\n",
      "========= close ========\n",
      "\tAROUSAL-s10|Acc=0.96125|10-CV=0.537|STD=0.01792|Time spend=24.95618224143982\n",
      "\tVALENCE-s10|Acc=0.9725|10-CV=0.543|STD=0.03108|Time spend=29.49621319770813\n",
      "Fitted sphere radius:         95.3 mm\n",
      "Origin head coordinates:      -0.8 15.1 45.3 mm\n",
      "Origin device coordinates:    -0.8 15.1 45.3 mm\n",
      "========= close ========\n",
      "\tAROUSAL-s11|Acc=0.835|10-CV=0.624|STD=0.003|Time spend=23.75873565673828\n",
      "\tVALENCE-s11|Acc=0.8425|10-CV=0.593|STD=0.01487|Time spend=28.422659397125244\n",
      "Fitted sphere radius:         95.3 mm\n",
      "Origin head coordinates:      -0.8 15.1 45.3 mm\n",
      "Origin device coordinates:    -0.8 15.1 45.3 mm\n",
      "========= close ========\n",
      "\tAROUSAL-s12|Acc=0.8625|10-CV=0.825|STD=0.0|Time spend=23.148473024368286\n",
      "\tVALENCE-s12|Acc=0.975|10-CV=0.5165|STD=0.02281|Time spend=28.172693490982056\n",
      "Fitted sphere radius:         95.3 mm\n",
      "Origin head coordinates:      -0.8 15.1 45.3 mm\n",
      "Origin device coordinates:    -0.8 15.1 45.3 mm\n",
      "========= close ========\n",
      "\tAROUSAL-s13|Acc=0.8825|10-CV=0.85|STD=0.0|Time spend=23.03110408782959\n",
      "\tVALENCE-s13|Acc=0.92375|10-CV=0.5665|STD=0.0105|Time spend=28.097761631011963\n",
      "Fitted sphere radius:         95.3 mm\n",
      "Origin head coordinates:      -0.8 15.1 45.3 mm\n",
      "Origin device coordinates:    -0.8 15.1 45.3 mm\n",
      "========= close ========\n",
      "\tAROUSAL-s14|Acc=0.835|10-CV=0.6735|STD=0.0032|Time spend=23.74661660194397\n",
      "\tVALENCE-s14|Acc=0.97875|10-CV=0.497|STD=0.03363|Time spend=28.933233976364136\n",
      "Fitted sphere radius:         95.3 mm\n",
      "Origin head coordinates:      -0.8 15.1 45.3 mm\n",
      "Origin device coordinates:    -0.8 15.1 45.3 mm\n",
      "========= close ========\n",
      "\tAROUSAL-s15|Acc=0.98875|10-CV=0.477|STD=0.02777|Time spend=24.14621090888977\n",
      "\tVALENCE-s15|Acc=0.985|10-CV=0.554|STD=0.027|Time spend=29.379607677459717\n",
      "Fitted sphere radius:         95.3 mm\n",
      "Origin head coordinates:      -0.8 15.1 45.3 mm\n",
      "Origin device coordinates:    -0.8 15.1 45.3 mm\n",
      "========= close ========\n",
      "\tAROUSAL-s16|Acc=0.99|10-CV=0.504|STD=0.02385|Time spend=24.42754101753235\n",
      "\tVALENCE-s16|Acc=0.93625|10-CV=0.623|STD=0.00678|Time spend=29.610546827316284\n",
      "Fitted sphere radius:         95.3 mm\n",
      "Origin head coordinates:      -0.8 15.1 45.3 mm\n",
      "Origin device coordinates:    -0.8 15.1 45.3 mm\n",
      "========= close ========\n",
      "\tAROUSAL-s17|Acc=0.82625|10-CV=0.597|STD=0.01691|Time spend=23.861518621444702\n",
      "\tVALENCE-s17|Acc=0.9275|10-CV=0.528|STD=0.01269|Time spend=29.233125686645508\n",
      "Fitted sphere radius:         95.3 mm\n",
      "Origin head coordinates:      -0.8 15.1 45.3 mm\n",
      "Origin device coordinates:    -0.8 15.1 45.3 mm\n",
      "========= close ========\n",
      "\tAROUSAL-s18|Acc=0.85625|10-CV=0.6235|STD=0.0032|Time spend=23.498534440994263\n",
      "\tVALENCE-s18|Acc=0.9225|10-CV=0.5965|STD=0.01246|Time spend=28.874573945999146\n",
      "Fitted sphere radius:         95.3 mm\n",
      "Origin head coordinates:      -0.8 15.1 45.3 mm\n",
      "Origin device coordinates:    -0.8 15.1 45.3 mm\n",
      "========= close ========\n",
      "\tAROUSAL-s19|Acc=0.70875|10-CV=0.675|STD=0.0|Time spend=23.88041853904724\n",
      "\tVALENCE-s19|Acc=0.835|10-CV=0.5655|STD=0.01234|Time spend=28.992300033569336\n",
      "Fitted sphere radius:         95.3 mm\n",
      "Origin head coordinates:      -0.8 15.1 45.3 mm\n",
      "Origin device coordinates:    -0.8 15.1 45.3 mm\n",
      "========= close ========\n",
      "\tAROUSAL-s20|Acc=0.85125|10-CV=0.775|STD=0.0|Time spend=23.896366596221924\n",
      "\tVALENCE-s20|Acc=0.9275|10-CV=0.5765|STD=0.02225|Time spend=29.01858425140381\n",
      "Fitted sphere radius:         95.3 mm\n",
      "Origin head coordinates:      -0.8 15.1 45.3 mm\n",
      "Origin device coordinates:    -0.8 15.1 45.3 mm\n",
      "========= close ========\n",
      "\tAROUSAL-s21|Acc=0.81625|10-CV=0.8|STD=0.0|Time spend=26.156187057495117\n",
      "\tVALENCE-s21|Acc=0.94875|10-CV=0.508|STD=0.02839|Time spend=31.114003896713257\n",
      "Fitted sphere radius:         95.3 mm\n",
      "Origin head coordinates:      -0.8 15.1 45.3 mm\n",
      "Origin device coordinates:    -0.8 15.1 45.3 mm\n",
      "========= close ========\n",
      "\tAROUSAL-s22|Acc=0.765|10-CV=0.6|STD=0.0228|Time spend=24.70647668838501\n",
      "\tVALENCE-s22|Acc=0.89875|10-CV=0.5695|STD=0.01863|Time spend=29.830142736434937\n",
      "Fitted sphere radius:         95.3 mm\n",
      "Origin head coordinates:      -0.8 15.1 45.3 mm\n",
      "Origin device coordinates:    -0.8 15.1 45.3 mm\n",
      "========= close ========\n",
      "\tAROUSAL-s23|Acc=0.90875|10-CV=0.75|STD=0.0|Time spend=25.76101326942444\n",
      "\tVALENCE-s23|Acc=0.95875|10-CV=0.6495|STD=0.0015|Time spend=30.873759984970093\n",
      "Fitted sphere radius:         95.3 mm\n",
      "Origin head coordinates:      -0.8 15.1 45.3 mm\n",
      "Origin device coordinates:    -0.8 15.1 45.3 mm\n",
      "========= close ========\n",
      "\tAROUSAL-s24|Acc=0.83|10-CV=0.825|STD=0.0|Time spend=25.179126024246216\n",
      "\tVALENCE-s24|Acc=0.93375|10-CV=0.536|STD=0.02818|Time spend=30.171665906906128\n",
      "Fitted sphere radius:         95.3 mm\n",
      "Origin head coordinates:      -0.8 15.1 45.3 mm\n",
      "Origin device coordinates:    -0.8 15.1 45.3 mm\n",
      "========= close ========\n",
      "\tAROUSAL-s25|Acc=0.78125|10-CV=0.725|STD=0.0|Time spend=25.081806898117065\n",
      "\tVALENCE-s25|Acc=0.93375|10-CV=0.492|STD=0.0204|Time spend=30.218154191970825\n",
      "Fitted sphere radius:         95.3 mm\n",
      "Origin head coordinates:      -0.8 15.1 45.3 mm\n",
      "Origin device coordinates:    -0.8 15.1 45.3 mm\n",
      "========= close ========\n",
      "\tAROUSAL-s26|Acc=0.92875|10-CV=0.5585|STD=0.01871|Time spend=25.67313289642334\n",
      "\tVALENCE-s26|Acc=0.825|10-CV=0.6495|STD=0.0015|Time spend=30.668086051940918\n",
      "Fitted sphere radius:         95.3 mm\n",
      "Origin head coordinates:      -0.8 15.1 45.3 mm\n",
      "Origin device coordinates:    -0.8 15.1 45.3 mm\n",
      "========= close ========\n",
      "\tAROUSAL-s27|Acc=0.92875|10-CV=0.675|STD=0.0|Time spend=25.75114107131958\n",
      "\tVALENCE-s27|Acc=0.89125|10-CV=0.75|STD=0.0|Time spend=30.572420597076416\n",
      "Fitted sphere radius:         95.3 mm\n",
      "Origin head coordinates:      -0.8 15.1 45.3 mm\n",
      "Origin device coordinates:    -0.8 15.1 45.3 mm\n",
      "========= close ========\n",
      "\tAROUSAL-s28|Acc=0.9475|10-CV=0.5435|STD=0.01898|Time spend=25.143939971923828\n",
      "\tVALENCE-s28|Acc=0.87375|10-CV=0.627|STD=0.004|Time spend=30.13256549835205\n",
      "Fitted sphere radius:         95.3 mm\n",
      "Origin head coordinates:      -0.8 15.1 45.3 mm\n",
      "Origin device coordinates:    -0.8 15.1 45.3 mm\n",
      "========= close ========\n",
      "\tAROUSAL-s29|Acc=0.86875|10-CV=0.626|STD=0.00735|Time spend=25.612306356430054\n",
      "\tVALENCE-s29|Acc=0.91875|10-CV=0.57|STD=0.01466|Time spend=30.60836362838745\n",
      "Fitted sphere radius:         95.3 mm\n",
      "Origin head coordinates:      -0.8 15.1 45.3 mm\n",
      "Origin device coordinates:    -0.8 15.1 45.3 mm\n",
      "========= close ========\n",
      "\tAROUSAL-s30|Acc=0.95625|10-CV=0.4985|STD=0.0257|Time spend=26.185168504714966\n",
      "\tVALENCE-s30|Acc=0.78|10-CV=0.675|STD=0.0|Time spend=31.051904439926147\n",
      "Fitted sphere radius:         95.3 mm\n",
      "Origin head coordinates:      -0.8 15.1 45.3 mm\n",
      "Origin device coordinates:    -0.8 15.1 45.3 mm\n",
      "========= close ========\n",
      "\tAROUSAL-s31|Acc=0.99375|10-CV=0.55|STD=0.03256|Time spend=26.781389951705933\n",
      "\tVALENCE-s31|Acc=0.97125|10-CV=0.566|STD=0.01158|Time spend=31.914730072021484\n",
      "Fitted sphere radius:         95.3 mm\n",
      "Origin head coordinates:      -0.8 15.1 45.3 mm\n",
      "Origin device coordinates:    -0.8 15.1 45.3 mm\n",
      "========= close ========\n",
      "\tAROUSAL-s32|Acc=0.84375|10-CV=0.675|STD=0.0|Time spend=25.71919560432434\n",
      "\tVALENCE-s32|Acc=0.955|10-CV=0.531|STD=0.01921|Time spend=30.939687967300415\n",
      "AROUSAL|Acc=0.8821093750000001|10-CV=0.6418750000000002|STD=0.010304093419178175\n",
      "VALENCE|Acc=0.9128124999999999|10-CV=0.5831406249999999|STD=0.01491835815339037\n"
     ]
    }
   ],
   "source": [
    "accs, cv_means, cv_stds = [],[],[]\n",
    "accs_v, cv_means_v, cv_stds_v = [],[],[]\n",
    "reports = []\n",
    "for filename in (pbar := tqdm(dataset.get_file_list())):\n",
    "    start = time.time()\n",
    "    pbar.set_description(filename)\n",
    "    data, labels, groups = dataset.get_data(filename, stimuli=Dataset_subjectDependent.STIMULI_AROUSAL, return_type='mne', sfreq=128)\n",
    "    \n",
    "    data_csd = mne.preprocessing.compute_current_source_density(data)\n",
    "\n",
    "    pli = calculate_pli(data_csd.get_data(), n_jobs=8)\n",
    "\n",
    "    _,acc,cross,train_report = train_model(pli, labels.squeeze(), groups, filename=filename, return_text=True)\n",
    "    report = f\"\\tAROUSAL-{filename}|Acc={round(acc,5)}|10-CV={round(cross.mean(),5)}|STD={round(cross.std(),5)}|Time spend={time.time() - start}\"\n",
    "    print(report)\n",
    "    reports.append(report)\n",
    "    reports.append(train_report)\n",
    "    accs.append(acc)\n",
    "    cv_means.append(cross.mean())\n",
    "    cv_stds.append(cross.std())\n",
    "\n",
    "    _, labels_v, groups_v = dataset.get_data(filename, stimuli=Dataset_subjectDependent.STIMULI_VALENCE, return_type='mne', sfreq=128)\n",
    "    _,acc,cross,train_report = train_model(pli, labels_v.squeeze(), groups_v, filename=filename, return_text=True)\n",
    "    report = f\"\\tVALENCE-{filename}|Acc={round(acc,5)}|10-CV={round(cross.mean(),5)}|STD={round(cross.std(),5)}|Time spend={time.time() - start}\"\n",
    "    print(report)\n",
    "    reports.append(report)\n",
    "    reports.append(train_report)\n",
    "    accs_v.append(acc)\n",
    "    cv_means_v.append(cross.mean())\n",
    "    cv_stds_v.append(cross.std())\n",
    "    # break\n",
    "    # count+=1\n",
    "    # if(count == 5): break\n",
    "report = f\"AROUSAL|Acc={sum(accs)/len(accs)}|10-CV={sum(cv_means)/len(cv_means)}|STD={sum(cv_stds)/len(cv_stds)}\"\n",
    "print(report)\n",
    "reports.append(report)\n",
    "report = f\"VALENCE|Acc={sum(accs_v)/len(accs_v)}|10-CV={sum(cv_means_v)/len(cv_means_v)}|STD={sum(cv_stds_v)/len(cv_stds_v)}\"\n",
    "print(report)\n",
    "reports.append(report)"
   ]
  },
  {
   "cell_type": "code",
   "execution_count": 9,
   "metadata": {},
   "outputs": [
    {
     "name": "stdout",
     "output_type": "stream",
     "text": [
      "\tAROUSAL-s01|Acc=0.9425|10-CV=0.6115|STD=0.01184|Time spend=24.00746464729309\n",
      "\tVALENCE-s01|Acc=0.9925|10-CV=0.5305|STD=0.0171|Time spend=28.659448385238647\n",
      "\tAROUSAL-s02|Acc=0.845|10-CV=0.626|STD=0.0164|Time spend=22.93105721473694\n",
      "\tVALENCE-s02|Acc=0.92875|10-CV=0.538|STD=0.0259|Time spend=27.48645806312561\n",
      "\tAROUSAL-s03|Acc=0.845|10-CV=0.8|STD=0.0|Time spend=22.485769987106323\n",
      "\tVALENCE-s03|Acc=0.9575|10-CV=0.537|STD=0.01749|Time spend=27.842889547348022\n",
      "\tAROUSAL-s04|Acc=0.88125|10-CV=0.6155|STD=0.00789|Time spend=22.977734088897705\n",
      "\tVALENCE-s04|Acc=0.84125|10-CV=0.5995|STD=0.0082|Time spend=27.827568292617798\n",
      "\tAROUSAL-s05|Acc=0.86625|10-CV=0.5325|STD=0.02369|Time spend=22.7110493183136\n",
      "\tVALENCE-s05|Acc=0.72375|10-CV=0.59|STD=0.00632|Time spend=27.125536680221558\n",
      "\tAROUSAL-s06|Acc=0.9425|10-CV=0.5665|STD=0.01097|Time spend=24.950120449066162\n",
      "\tVALENCE-s06|Acc=0.845|10-CV=0.75|STD=0.0|Time spend=29.21006941795349\n",
      "\tAROUSAL-s07|Acc=0.9525|10-CV=0.6225|STD=0.00783|Time spend=24.99294877052307\n",
      "\tVALENCE-s07|Acc=0.91375|10-CV=0.7|STD=0.0|Time spend=29.5248761177063\n",
      "\tAROUSAL-s08|Acc=0.9725|10-CV=0.579|STD=0.01655|Time spend=25.01331639289856\n",
      "\tVALENCE-s08|Acc=0.96375|10-CV=0.5985|STD=0.02157|Time spend=29.562013387680054\n",
      "\tAROUSAL-s09|Acc=0.81375|10-CV=0.599|STD=0.01261|Time spend=24.496707916259766\n",
      "\tVALENCE-s09|Acc=0.92875|10-CV=0.534|STD=0.02634|Time spend=28.933736324310303\n",
      "\tAROUSAL-s10|Acc=0.96125|10-CV=0.537|STD=0.01792|Time spend=24.95618224143982\n",
      "\tVALENCE-s10|Acc=0.9725|10-CV=0.543|STD=0.03108|Time spend=29.49621319770813\n",
      "\tAROUSAL-s11|Acc=0.835|10-CV=0.624|STD=0.003|Time spend=23.75873565673828\n",
      "\tVALENCE-s11|Acc=0.8425|10-CV=0.593|STD=0.01487|Time spend=28.422659397125244\n",
      "\tAROUSAL-s12|Acc=0.8625|10-CV=0.825|STD=0.0|Time spend=23.148473024368286\n",
      "\tVALENCE-s12|Acc=0.975|10-CV=0.5165|STD=0.02281|Time spend=28.172693490982056\n",
      "\tAROUSAL-s13|Acc=0.8825|10-CV=0.85|STD=0.0|Time spend=23.03110408782959\n",
      "\tVALENCE-s13|Acc=0.92375|10-CV=0.5665|STD=0.0105|Time spend=28.097761631011963\n",
      "\tAROUSAL-s14|Acc=0.835|10-CV=0.6735|STD=0.0032|Time spend=23.74661660194397\n",
      "\tVALENCE-s14|Acc=0.97875|10-CV=0.497|STD=0.03363|Time spend=28.933233976364136\n",
      "\tAROUSAL-s15|Acc=0.98875|10-CV=0.477|STD=0.02777|Time spend=24.14621090888977\n",
      "\tVALENCE-s15|Acc=0.985|10-CV=0.554|STD=0.027|Time spend=29.379607677459717\n",
      "\tAROUSAL-s16|Acc=0.99|10-CV=0.504|STD=0.02385|Time spend=24.42754101753235\n",
      "\tVALENCE-s16|Acc=0.93625|10-CV=0.623|STD=0.00678|Time spend=29.610546827316284\n",
      "\tAROUSAL-s17|Acc=0.82625|10-CV=0.597|STD=0.01691|Time spend=23.861518621444702\n",
      "\tVALENCE-s17|Acc=0.9275|10-CV=0.528|STD=0.01269|Time spend=29.233125686645508\n",
      "\tAROUSAL-s18|Acc=0.85625|10-CV=0.6235|STD=0.0032|Time spend=23.498534440994263\n",
      "\tVALENCE-s18|Acc=0.9225|10-CV=0.5965|STD=0.01246|Time spend=28.874573945999146\n",
      "\tAROUSAL-s19|Acc=0.70875|10-CV=0.675|STD=0.0|Time spend=23.88041853904724\n",
      "\tVALENCE-s19|Acc=0.835|10-CV=0.5655|STD=0.01234|Time spend=28.992300033569336\n",
      "\tAROUSAL-s20|Acc=0.85125|10-CV=0.775|STD=0.0|Time spend=23.896366596221924\n",
      "\tVALENCE-s20|Acc=0.9275|10-CV=0.5765|STD=0.02225|Time spend=29.01858425140381\n",
      "\tAROUSAL-s21|Acc=0.81625|10-CV=0.8|STD=0.0|Time spend=26.156187057495117\n",
      "\tVALENCE-s21|Acc=0.94875|10-CV=0.508|STD=0.02839|Time spend=31.114003896713257\n",
      "\tAROUSAL-s22|Acc=0.765|10-CV=0.6|STD=0.0228|Time spend=24.70647668838501\n",
      "\tVALENCE-s22|Acc=0.89875|10-CV=0.5695|STD=0.01863|Time spend=29.830142736434937\n",
      "\tAROUSAL-s23|Acc=0.90875|10-CV=0.75|STD=0.0|Time spend=25.76101326942444\n",
      "\tVALENCE-s23|Acc=0.95875|10-CV=0.6495|STD=0.0015|Time spend=30.873759984970093\n",
      "\tAROUSAL-s24|Acc=0.83|10-CV=0.825|STD=0.0|Time spend=25.179126024246216\n",
      "\tVALENCE-s24|Acc=0.93375|10-CV=0.536|STD=0.02818|Time spend=30.171665906906128\n",
      "\tAROUSAL-s25|Acc=0.78125|10-CV=0.725|STD=0.0|Time spend=25.081806898117065\n",
      "\tVALENCE-s25|Acc=0.93375|10-CV=0.492|STD=0.0204|Time spend=30.218154191970825\n",
      "\tAROUSAL-s26|Acc=0.92875|10-CV=0.5585|STD=0.01871|Time spend=25.67313289642334\n",
      "\tVALENCE-s26|Acc=0.825|10-CV=0.6495|STD=0.0015|Time spend=30.668086051940918\n",
      "\tAROUSAL-s27|Acc=0.92875|10-CV=0.675|STD=0.0|Time spend=25.75114107131958\n",
      "\tVALENCE-s27|Acc=0.89125|10-CV=0.75|STD=0.0|Time spend=30.572420597076416\n",
      "\tAROUSAL-s28|Acc=0.9475|10-CV=0.5435|STD=0.01898|Time spend=25.143939971923828\n",
      "\tVALENCE-s28|Acc=0.87375|10-CV=0.627|STD=0.004|Time spend=30.13256549835205\n",
      "\tAROUSAL-s29|Acc=0.86875|10-CV=0.626|STD=0.00735|Time spend=25.612306356430054\n",
      "\tVALENCE-s29|Acc=0.91875|10-CV=0.57|STD=0.01466|Time spend=30.60836362838745\n",
      "\tAROUSAL-s30|Acc=0.95625|10-CV=0.4985|STD=0.0257|Time spend=26.185168504714966\n",
      "\tVALENCE-s30|Acc=0.78|10-CV=0.675|STD=0.0|Time spend=31.051904439926147\n",
      "\tAROUSAL-s31|Acc=0.99375|10-CV=0.55|STD=0.03256|Time spend=26.781389951705933\n",
      "\tVALENCE-s31|Acc=0.97125|10-CV=0.566|STD=0.01158|Time spend=31.914730072021484\n",
      "\tAROUSAL-s32|Acc=0.84375|10-CV=0.675|STD=0.0|Time spend=25.71919560432434\n",
      "\tVALENCE-s32|Acc=0.955|10-CV=0.531|STD=0.01921|Time spend=30.939687967300415\n",
      "AROUSAL|Acc=0.8821093750000001|10-CV=0.6418750000000002|STD=0.010304093419178175\n",
      "VALENCE|Acc=0.9128124999999999|10-CV=0.5831406249999999|STD=0.01491835815339037\n",
      "TOTAL|Acc=0.8974609375000001|10-CV=0.6125078125000002|STD=0.012611225786284267\n"
     ]
    }
   ],
   "source": [
    "for text in reports:\n",
    "    if(text == None): continue\n",
    "    print(text)\n",
    "\n",
    "accs.extend(accs_v)\n",
    "cv_means.extend(cv_means_v)\n",
    "cv_stds.extend(cv_stds_v)\n",
    "print(f\"TOTAL|Acc={sum(accs)/len(accs)}|10-CV={sum(cv_means)/len(cv_means)}|STD={sum(cv_stds)/len(cv_stds)}\")"
   ]
  },
  {
   "cell_type": "markdown",
   "metadata": {},
   "source": [
    "## 5. CSP"
   ]
  },
  {
   "cell_type": "code",
   "execution_count": 10,
   "metadata": {},
   "outputs": [],
   "source": [
    "from components.CSP import CSP\n",
    "from mne_features.feature_extraction import FeatureExtractor\n",
    "\n",
    "bands = [(0,4), (4,8), (8,12), (12,30), (30,64)]\n",
    "# [alias_feature_function]__[optional_param]\n",
    "params = dict({\n",
    "    'pow_freq_bands__log':True,\n",
    "    'pow_freq_bands__normalize':False,\n",
    "    'pow_freq_bands__freq_bands':bands\n",
    "})"
   ]
  },
  {
   "cell_type": "code",
   "execution_count": 11,
   "metadata": {},
   "outputs": [
    {
     "data": {
      "application/vnd.jupyter.widget-view+json": {
       "model_id": "a653690d85d14070b5146d29f8a7dad4",
       "version_major": 2,
       "version_minor": 0
      },
      "text/plain": [
       "  0%|          | 0/32 [00:00<?, ?it/s]"
      ]
     },
     "metadata": {},
     "output_type": "display_data"
    },
    {
     "name": "stderr",
     "output_type": "stream",
     "text": [
      "/root/projects/components/CSP.py:78: ComplexWarning: Casting complex values to real discards the imaginary part\n",
      "  return SFa.astype(np.float32)\n"
     ]
    },
    {
     "name": "stdout",
     "output_type": "stream",
     "text": [
      "\tAROUSAL-s01|Acc=0.73375|10-CV=0.7255|STD=0.03213|Time spend=25.626899003982544\n"
     ]
    },
    {
     "name": "stderr",
     "output_type": "stream",
     "text": [
      "/root/projects/components/CSP.py:78: ComplexWarning: Casting complex values to real discards the imaginary part\n",
      "  return SFa.astype(np.float32)\n"
     ]
    },
    {
     "name": "stdout",
     "output_type": "stream",
     "text": [
      "\tAROUSAL-s02|Acc=0.6175|10-CV=0.604|STD=0.01221|Time spend=5.863447666168213\n"
     ]
    },
    {
     "name": "stderr",
     "output_type": "stream",
     "text": [
      "/root/projects/components/CSP.py:78: ComplexWarning: Casting complex values to real discards the imaginary part\n",
      "  return SFa.astype(np.float32)\n"
     ]
    },
    {
     "name": "stdout",
     "output_type": "stream",
     "text": [
      "\tAROUSAL-s03|Acc=0.8475|10-CV=0.836|STD=0.01158|Time spend=0.8147978782653809\n"
     ]
    },
    {
     "name": "stderr",
     "output_type": "stream",
     "text": [
      "/root/projects/components/CSP.py:78: ComplexWarning: Casting complex values to real discards the imaginary part\n",
      "  return SFa.astype(np.float32)\n"
     ]
    },
    {
     "name": "stdout",
     "output_type": "stream",
     "text": [
      "\tAROUSAL-s04|Acc=0.99875|10-CV=0.998|STD=0.00245|Time spend=1.725146770477295\n"
     ]
    },
    {
     "name": "stderr",
     "output_type": "stream",
     "text": [
      "/root/projects/components/CSP.py:78: ComplexWarning: Casting complex values to real discards the imaginary part\n",
      "  return SFa.astype(np.float32)\n"
     ]
    },
    {
     "name": "stdout",
     "output_type": "stream",
     "text": [
      "\tAROUSAL-s05|Acc=0.56875|10-CV=0.5155|STD=0.02067|Time spend=1.6822330951690674\n"
     ]
    },
    {
     "name": "stderr",
     "output_type": "stream",
     "text": [
      "/root/projects/components/CSP.py:78: ComplexWarning: Casting complex values to real discards the imaginary part\n",
      "  return SFa.astype(np.float32)\n"
     ]
    },
    {
     "name": "stdout",
     "output_type": "stream",
     "text": [
      "\tAROUSAL-s06|Acc=0.6175|10-CV=0.5885|STD=0.0257|Time spend=1.296339750289917\n"
     ]
    },
    {
     "name": "stderr",
     "output_type": "stream",
     "text": [
      "/root/projects/components/CSP.py:78: ComplexWarning: Casting complex values to real discards the imaginary part\n",
      "  return SFa.astype(np.float32)\n"
     ]
    },
    {
     "name": "stdout",
     "output_type": "stream",
     "text": [
      "\tAROUSAL-s07|Acc=0.91125|10-CV=0.902|STD=0.01764|Time spend=1.288003921508789\n"
     ]
    },
    {
     "name": "stderr",
     "output_type": "stream",
     "text": [
      "/root/projects/components/CSP.py:78: ComplexWarning: Casting complex values to real discards the imaginary part\n",
      "  return SFa.astype(np.float32)\n"
     ]
    },
    {
     "name": "stdout",
     "output_type": "stream",
     "text": [
      "\tAROUSAL-s08|Acc=0.6225|10-CV=0.5885|STD=0.01246|Time spend=0.9677116870880127\n"
     ]
    },
    {
     "name": "stderr",
     "output_type": "stream",
     "text": [
      "/root/projects/components/CSP.py:78: ComplexWarning: Casting complex values to real discards the imaginary part\n",
      "  return SFa.astype(np.float32)\n"
     ]
    },
    {
     "name": "stdout",
     "output_type": "stream",
     "text": [
      "\tAROUSAL-s09|Acc=0.92625|10-CV=0.916|STD=0.01546|Time spend=0.898916482925415\n"
     ]
    },
    {
     "name": "stderr",
     "output_type": "stream",
     "text": [
      "/root/projects/components/CSP.py:78: ComplexWarning: Casting complex values to real discards the imaginary part\n",
      "  return SFa.astype(np.float32)\n"
     ]
    },
    {
     "name": "stdout",
     "output_type": "stream",
     "text": [
      "\tAROUSAL-s10|Acc=0.60375|10-CV=0.5725|STD=0.02089|Time spend=0.7735574245452881\n"
     ]
    },
    {
     "name": "stderr",
     "output_type": "stream",
     "text": [
      "/root/projects/components/CSP.py:78: ComplexWarning: Casting complex values to real discards the imaginary part\n",
      "  return SFa.astype(np.float32)\n"
     ]
    },
    {
     "name": "stdout",
     "output_type": "stream",
     "text": [
      "\tAROUSAL-s11|Acc=0.84|10-CV=0.82|STD=0.02012|Time spend=1.5376522541046143\n"
     ]
    },
    {
     "name": "stderr",
     "output_type": "stream",
     "text": [
      "/root/projects/components/CSP.py:78: ComplexWarning: Casting complex values to real discards the imaginary part\n",
      "  return SFa.astype(np.float32)\n"
     ]
    },
    {
     "name": "stdout",
     "output_type": "stream",
     "text": [
      "-----WARNING: Model s12 failed to learn: sum(ans)=800.0 sum(y)=660.0 len(y)=800\n",
      "\tAROUSAL-s12|Acc=0.825|10-CV=0.825|STD=0.0|Time spend=0.9679863452911377\n"
     ]
    },
    {
     "name": "stderr",
     "output_type": "stream",
     "text": [
      "/root/projects/components/CSP.py:78: ComplexWarning: Casting complex values to real discards the imaginary part\n",
      "  return SFa.astype(np.float32)\n"
     ]
    },
    {
     "name": "stdout",
     "output_type": "stream",
     "text": [
      "-----WARNING: Model s13 failed to learn: sum(ans)=800.0 sum(y)=680.0 len(y)=800\n",
      "\tAROUSAL-s13|Acc=0.85|10-CV=0.85|STD=0.0|Time spend=0.9738543033599854\n"
     ]
    },
    {
     "name": "stderr",
     "output_type": "stream",
     "text": [
      "/root/projects/components/CSP.py:78: ComplexWarning: Casting complex values to real discards the imaginary part\n",
      "  return SFa.astype(np.float32)\n"
     ]
    },
    {
     "name": "stdout",
     "output_type": "stream",
     "text": [
      "-----WARNING: Model s14 failed to learn: sum(ans)=800.0 sum(y)=540.0 len(y)=800\n",
      "\tAROUSAL-s14|Acc=0.675|10-CV=0.675|STD=0.0|Time spend=2.57682466506958\n"
     ]
    },
    {
     "name": "stderr",
     "output_type": "stream",
     "text": [
      "/root/projects/components/CSP.py:78: ComplexWarning: Casting complex values to real discards the imaginary part\n",
      "  return SFa.astype(np.float32)\n"
     ]
    },
    {
     "name": "stdout",
     "output_type": "stream",
     "text": [
      "\tAROUSAL-s15|Acc=0.76|10-CV=0.7475|STD=0.02124|Time spend=0.7062196731567383\n"
     ]
    },
    {
     "name": "stderr",
     "output_type": "stream",
     "text": [
      "/root/projects/components/CSP.py:78: ComplexWarning: Casting complex values to real discards the imaginary part\n",
      "  return SFa.astype(np.float32)\n"
     ]
    },
    {
     "name": "stdout",
     "output_type": "stream",
     "text": [
      "\tAROUSAL-s16|Acc=0.72125|10-CV=0.7215|STD=0.02419|Time spend=1.3791465759277344\n"
     ]
    },
    {
     "name": "stderr",
     "output_type": "stream",
     "text": [
      "/root/projects/components/CSP.py:78: ComplexWarning: Casting complex values to real discards the imaginary part\n",
      "  return SFa.astype(np.float32)\n"
     ]
    },
    {
     "name": "stdout",
     "output_type": "stream",
     "text": [
      "\tAROUSAL-s17|Acc=0.68375|10-CV=0.6685|STD=0.02398|Time spend=0.9907233715057373\n"
     ]
    },
    {
     "name": "stderr",
     "output_type": "stream",
     "text": [
      "/root/projects/components/CSP.py:78: ComplexWarning: Casting complex values to real discards the imaginary part\n",
      "  return SFa.astype(np.float32)\n"
     ]
    },
    {
     "name": "stdout",
     "output_type": "stream",
     "text": [
      "\tAROUSAL-s18|Acc=0.62625|10-CV=0.6245|STD=0.0015|Time spend=0.9447369575500488\n"
     ]
    },
    {
     "name": "stderr",
     "output_type": "stream",
     "text": [
      "/root/projects/components/CSP.py:78: ComplexWarning: Casting complex values to real discards the imaginary part\n",
      "  return SFa.astype(np.float32)\n"
     ]
    },
    {
     "name": "stdout",
     "output_type": "stream",
     "text": [
      "\tAROUSAL-s19|Acc=0.97625|10-CV=0.975|STD=0.00949|Time spend=0.6065347194671631\n"
     ]
    },
    {
     "name": "stderr",
     "output_type": "stream",
     "text": [
      "/root/projects/components/CSP.py:78: ComplexWarning: Casting complex values to real discards the imaginary part\n",
      "  return SFa.astype(np.float32)\n"
     ]
    },
    {
     "name": "stdout",
     "output_type": "stream",
     "text": [
      "\tAROUSAL-s20|Acc=0.89875|10-CV=0.8925|STD=0.01792|Time spend=0.6970622539520264\n"
     ]
    },
    {
     "name": "stderr",
     "output_type": "stream",
     "text": [
      "/root/projects/components/CSP.py:78: ComplexWarning: Casting complex values to real discards the imaginary part\n",
      "  return SFa.astype(np.float32)\n"
     ]
    },
    {
     "name": "stdout",
     "output_type": "stream",
     "text": [
      "-----WARNING: Model s21 failed to learn: sum(ans)=800.0 sum(y)=640.0 len(y)=800\n",
      "\tAROUSAL-s21|Acc=0.8|10-CV=0.8|STD=0.0|Time spend=0.7753629684448242\n"
     ]
    },
    {
     "name": "stderr",
     "output_type": "stream",
     "text": [
      "/root/projects/components/CSP.py:78: ComplexWarning: Casting complex values to real discards the imaginary part\n",
      "  return SFa.astype(np.float32)\n"
     ]
    },
    {
     "name": "stdout",
     "output_type": "stream",
     "text": [
      "\tAROUSAL-s22|Acc=0.995|10-CV=0.994|STD=0.0049|Time spend=0.6846489906311035\n"
     ]
    },
    {
     "name": "stderr",
     "output_type": "stream",
     "text": [
      "/root/projects/components/CSP.py:78: ComplexWarning: Casting complex values to real discards the imaginary part\n",
      "  return SFa.astype(np.float32)\n"
     ]
    },
    {
     "name": "stdout",
     "output_type": "stream",
     "text": [
      "\tAROUSAL-s23|Acc=0.83625|10-CV=0.83|STD=0.0183|Time spend=0.7770726680755615\n"
     ]
    },
    {
     "name": "stderr",
     "output_type": "stream",
     "text": [
      "/root/projects/components/CSP.py:78: ComplexWarning: Casting complex values to real discards the imaginary part\n",
      "  return SFa.astype(np.float32)\n"
     ]
    },
    {
     "name": "stdout",
     "output_type": "stream",
     "text": [
      "\tAROUSAL-s24|Acc=0.9975|10-CV=0.9935|STD=0.00502|Time spend=1.1801278591156006\n"
     ]
    },
    {
     "name": "stderr",
     "output_type": "stream",
     "text": [
      "/root/projects/components/CSP.py:78: ComplexWarning: Casting complex values to real discards the imaginary part\n",
      "  return SFa.astype(np.float32)\n"
     ]
    },
    {
     "name": "stdout",
     "output_type": "stream",
     "text": [
      "-----WARNING: Model s25 failed to learn: sum(ans)=800.0 sum(y)=580.0 len(y)=800\n",
      "\tAROUSAL-s25|Acc=0.725|10-CV=0.725|STD=0.0|Time spend=1.1548025608062744\n"
     ]
    },
    {
     "name": "stderr",
     "output_type": "stream",
     "text": [
      "/root/projects/components/CSP.py:78: ComplexWarning: Casting complex values to real discards the imaginary part\n",
      "  return SFa.astype(np.float32)\n"
     ]
    },
    {
     "name": "stdout",
     "output_type": "stream",
     "text": [
      "\tAROUSAL-s26|Acc=0.74375|10-CV=0.73|STD=0.03873|Time spend=0.8550004959106445\n"
     ]
    },
    {
     "name": "stderr",
     "output_type": "stream",
     "text": [
      "/root/projects/components/CSP.py:78: ComplexWarning: Casting complex values to real discards the imaginary part\n",
      "  return SFa.astype(np.float32)\n"
     ]
    },
    {
     "name": "stdout",
     "output_type": "stream",
     "text": [
      "\tAROUSAL-s27|Acc=0.6875|10-CV=0.6765|STD=0.0055|Time spend=0.8607304096221924\n"
     ]
    },
    {
     "name": "stderr",
     "output_type": "stream",
     "text": [
      "/root/projects/components/CSP.py:78: ComplexWarning: Casting complex values to real discards the imaginary part\n",
      "  return SFa.astype(np.float32)\n"
     ]
    },
    {
     "name": "stdout",
     "output_type": "stream",
     "text": [
      "\tAROUSAL-s28|Acc=0.8925|10-CV=0.8685|STD=0.01674|Time spend=0.7378184795379639\n"
     ]
    },
    {
     "name": "stderr",
     "output_type": "stream",
     "text": [
      "/root/projects/components/CSP.py:78: ComplexWarning: Casting complex values to real discards the imaginary part\n",
      "  return SFa.astype(np.float32)\n"
     ]
    },
    {
     "name": "stdout",
     "output_type": "stream",
     "text": [
      "\tAROUSAL-s29|Acc=0.65125|10-CV=0.641|STD=0.013|Time spend=1.5083799362182617\n"
     ]
    },
    {
     "name": "stderr",
     "output_type": "stream",
     "text": [
      "/root/projects/components/CSP.py:78: ComplexWarning: Casting complex values to real discards the imaginary part\n",
      "  return SFa.astype(np.float32)\n"
     ]
    },
    {
     "name": "stdout",
     "output_type": "stream",
     "text": [
      "\tAROUSAL-s30|Acc=0.8875|10-CV=0.866|STD=0.02447|Time spend=0.7703380584716797\n"
     ]
    },
    {
     "name": "stderr",
     "output_type": "stream",
     "text": [
      "/root/projects/components/CSP.py:78: ComplexWarning: Casting complex values to real discards the imaginary part\n",
      "  return SFa.astype(np.float32)\n"
     ]
    },
    {
     "name": "stdout",
     "output_type": "stream",
     "text": [
      "\tAROUSAL-s31|Acc=0.57625|10-CV=0.545|STD=0.04353|Time spend=0.859874963760376\n"
     ]
    },
    {
     "name": "stderr",
     "output_type": "stream",
     "text": [
      "/root/projects/components/CSP.py:78: ComplexWarning: Casting complex values to real discards the imaginary part\n",
      "  return SFa.astype(np.float32)\n"
     ]
    },
    {
     "name": "stdout",
     "output_type": "stream",
     "text": [
      "-----WARNING: Model s32 failed to learn: sum(ans)=800.0 sum(y)=540.0 len(y)=800\n",
      "\tAROUSAL-s32|Acc=0.675|10-CV=0.675|STD=0.0|Time spend=0.8631472587585449\n",
      "AROUSAL|Acc=0.7741015625|10-CV=0.7622031250000002|STD=0.014369518343068365\n"
     ]
    }
   ],
   "source": [
    "accs, cv_means, cv_stds = [],[],[]\n",
    "for filename in tqdm(dataset.get_file_list()):\n",
    "\n",
    "    data, labels, groups = dataset.get_data(filename, stimuli=Dataset_subjectDependent.STIMULI_AROUSAL, return_type='numpy')\n",
    "    labels = labels.squeeze()\n",
    "    start = time.time()\n",
    "    filters = CSP(data[labels==0], data[labels==1])\n",
    "    \n",
    "    csp_data = []\n",
    "    for index in range(len(data)):\n",
    "        \n",
    "        # (672, 32) @ (32, 32) = (672, 32)\n",
    "        csp = data[index].T @ filters[labels[index].astype(int)]\n",
    "        # (1, 32, 672)\n",
    "        csp = np.expand_dims(csp.T, axis=0)\n",
    "        csp_data.append(csp)\n",
    "\n",
    "    csp_data = np.vstack(csp_data)\n",
    "    # print(csp_data.shape) => (2400, 32, 128)\n",
    "    fe = FeatureExtractor(sfreq=128, selected_funcs=['pow_freq_bands'],params=params,n_jobs=8)\n",
    "    X = fe.fit_transform(X=csp_data)\n",
    "    # print(X.shape, time.time() - start) => (2400, 160) 1.2374355792999268\n",
    "\n",
    "    assert X.shape[1] == 160\n",
    "    _, acc, cross = train_model(X, labels.reshape(-1), groups, filename=filename)\n",
    "    print(f\"\\tAROUSAL-{filename}|Acc={round(acc,5)}|10-CV={round(cross.mean(),5)}|STD={round(cross.std(),5)}|Time spend={time.time() - start}\")\n",
    "    accs.append(acc)\n",
    "    cv_means.append(cross.mean())\n",
    "    cv_stds.append(cross.std())\n",
    "print(f\"AROUSAL|Acc={sum(accs)/len(accs)}|10-CV={sum(cv_means)/len(cv_means)}|STD={sum(cv_stds)/len(cv_stds)}\")"
   ]
  },
  {
   "cell_type": "code",
   "execution_count": 12,
   "metadata": {},
   "outputs": [
    {
     "data": {
      "application/vnd.jupyter.widget-view+json": {
       "model_id": "29ff064bae2b4feeb3d03c8ac06f0544",
       "version_major": 2,
       "version_minor": 0
      },
      "text/plain": [
       "  0%|          | 0/32 [00:00<?, ?it/s]"
      ]
     },
     "metadata": {},
     "output_type": "display_data"
    },
    {
     "name": "stderr",
     "output_type": "stream",
     "text": [
      "/root/projects/components/CSP.py:78: ComplexWarning: Casting complex values to real discards the imaginary part\n",
      "  return SFa.astype(np.float32)\n"
     ]
    },
    {
     "name": "stdout",
     "output_type": "stream",
     "text": [
      "\tVALENCE-s01|Acc=0.585|10-CV=0.559|STD=0.02223|Time spend=0.7104105949401855\n"
     ]
    },
    {
     "name": "stderr",
     "output_type": "stream",
     "text": [
      "/root/projects/components/CSP.py:78: ComplexWarning: Casting complex values to real discards the imaginary part\n",
      "  return SFa.astype(np.float32)\n"
     ]
    },
    {
     "name": "stdout",
     "output_type": "stream",
     "text": [
      "\tVALENCE-s02|Acc=0.995|10-CV=0.9975|STD=0.00335|Time spend=0.6917166709899902\n"
     ]
    },
    {
     "name": "stderr",
     "output_type": "stream",
     "text": [
      "/root/projects/components/CSP.py:78: ComplexWarning: Casting complex values to real discards the imaginary part\n",
      "  return SFa.astype(np.float32)\n"
     ]
    },
    {
     "name": "stdout",
     "output_type": "stream",
     "text": [
      "\tVALENCE-s03|Acc=0.8775|10-CV=0.8805|STD=0.01665|Time spend=0.8744256496429443\n"
     ]
    },
    {
     "name": "stderr",
     "output_type": "stream",
     "text": [
      "/root/projects/components/CSP.py:78: ComplexWarning: Casting complex values to real discards the imaginary part\n",
      "  return SFa.astype(np.float32)\n"
     ]
    },
    {
     "name": "stdout",
     "output_type": "stream",
     "text": [
      "\tVALENCE-s04|Acc=0.9275|10-CV=0.927|STD=0.0172|Time spend=0.9016122817993164\n"
     ]
    },
    {
     "name": "stderr",
     "output_type": "stream",
     "text": [
      "/root/projects/components/CSP.py:78: ComplexWarning: Casting complex values to real discards the imaginary part\n",
      "  return SFa.astype(np.float32)\n"
     ]
    },
    {
     "name": "stdout",
     "output_type": "stream",
     "text": [
      "\tVALENCE-s05|Acc=0.845|10-CV=0.8135|STD=0.02122|Time spend=0.9266958236694336\n"
     ]
    },
    {
     "name": "stderr",
     "output_type": "stream",
     "text": [
      "/root/projects/components/CSP.py:78: ComplexWarning: Casting complex values to real discards the imaginary part\n",
      "  return SFa.astype(np.float32)\n"
     ]
    },
    {
     "name": "stdout",
     "output_type": "stream",
     "text": [
      "\tVALENCE-s06|Acc=0.80375|10-CV=0.777|STD=0.01887|Time spend=0.8136196136474609\n"
     ]
    },
    {
     "name": "stderr",
     "output_type": "stream",
     "text": [
      "/root/projects/components/CSP.py:78: ComplexWarning: Casting complex values to real discards the imaginary part\n",
      "  return SFa.astype(np.float32)\n"
     ]
    },
    {
     "name": "stdout",
     "output_type": "stream",
     "text": [
      "-----WARNING: Model s07 failed to learn: sum(ans)=800.0 sum(y)=560.0 len(y)=800\n",
      "\tVALENCE-s07|Acc=0.7|10-CV=0.7|STD=0.0|Time spend=0.8634207248687744\n"
     ]
    },
    {
     "name": "stderr",
     "output_type": "stream",
     "text": [
      "/root/projects/components/CSP.py:78: ComplexWarning: Casting complex values to real discards the imaginary part\n",
      "  return SFa.astype(np.float32)\n"
     ]
    },
    {
     "name": "stdout",
     "output_type": "stream",
     "text": [
      "\tVALENCE-s08|Acc=0.59125|10-CV=0.552|STD=0.01873|Time spend=0.8901147842407227\n"
     ]
    },
    {
     "name": "stderr",
     "output_type": "stream",
     "text": [
      "/root/projects/components/CSP.py:78: ComplexWarning: Casting complex values to real discards the imaginary part\n",
      "  return SFa.astype(np.float32)\n"
     ]
    },
    {
     "name": "stdout",
     "output_type": "stream",
     "text": [
      "\tVALENCE-s09|Acc=0.59125|10-CV=0.5475|STD=0.04423|Time spend=0.9612252712249756\n"
     ]
    },
    {
     "name": "stderr",
     "output_type": "stream",
     "text": [
      "/root/projects/components/CSP.py:78: ComplexWarning: Casting complex values to real discards the imaginary part\n",
      "  return SFa.astype(np.float32)\n"
     ]
    },
    {
     "name": "stdout",
     "output_type": "stream",
     "text": [
      "\tVALENCE-s10|Acc=0.69875|10-CV=0.6685|STD=0.0252|Time spend=1.3707740306854248\n"
     ]
    },
    {
     "name": "stderr",
     "output_type": "stream",
     "text": [
      "/root/projects/components/CSP.py:78: ComplexWarning: Casting complex values to real discards the imaginary part\n",
      "  return SFa.astype(np.float32)\n"
     ]
    },
    {
     "name": "stdout",
     "output_type": "stream",
     "text": [
      "\tVALENCE-s11|Acc=0.95125|10-CV=0.938|STD=0.01382|Time spend=0.6950411796569824\n"
     ]
    },
    {
     "name": "stderr",
     "output_type": "stream",
     "text": [
      "/root/projects/components/CSP.py:78: ComplexWarning: Casting complex values to real discards the imaginary part\n",
      "  return SFa.astype(np.float32)\n"
     ]
    },
    {
     "name": "stdout",
     "output_type": "stream",
     "text": [
      "\tVALENCE-s12|Acc=0.7925|10-CV=0.7665|STD=0.0145|Time spend=0.9409792423248291\n"
     ]
    },
    {
     "name": "stderr",
     "output_type": "stream",
     "text": [
      "/root/projects/components/CSP.py:78: ComplexWarning: Casting complex values to real discards the imaginary part\n",
      "  return SFa.astype(np.float32)\n"
     ]
    },
    {
     "name": "stdout",
     "output_type": "stream",
     "text": [
      "\tVALENCE-s13|Acc=0.7375|10-CV=0.7315|STD=0.02122|Time spend=0.9943253993988037\n"
     ]
    },
    {
     "name": "stderr",
     "output_type": "stream",
     "text": [
      "/root/projects/components/CSP.py:78: ComplexWarning: Casting complex values to real discards the imaginary part\n",
      "  return SFa.astype(np.float32)\n"
     ]
    },
    {
     "name": "stdout",
     "output_type": "stream",
     "text": [
      "\tVALENCE-s14|Acc=0.8425|10-CV=0.838|STD=0.02124|Time spend=0.75372314453125\n"
     ]
    },
    {
     "name": "stderr",
     "output_type": "stream",
     "text": [
      "/root/projects/components/CSP.py:78: ComplexWarning: Casting complex values to real discards the imaginary part\n",
      "  return SFa.astype(np.float32)\n"
     ]
    },
    {
     "name": "stdout",
     "output_type": "stream",
     "text": [
      "\tVALENCE-s15|Acc=0.65375|10-CV=0.6275|STD=0.03052|Time spend=0.7842741012573242\n"
     ]
    },
    {
     "name": "stderr",
     "output_type": "stream",
     "text": [
      "/root/projects/components/CSP.py:78: ComplexWarning: Casting complex values to real discards the imaginary part\n",
      "  return SFa.astype(np.float32)\n"
     ]
    },
    {
     "name": "stdout",
     "output_type": "stream",
     "text": [
      "\tVALENCE-s16|Acc=0.94125|10-CV=0.936|STD=0.01655|Time spend=0.9590611457824707\n"
     ]
    },
    {
     "name": "stderr",
     "output_type": "stream",
     "text": [
      "/root/projects/components/CSP.py:78: ComplexWarning: Casting complex values to real discards the imaginary part\n",
      "  return SFa.astype(np.float32)\n"
     ]
    },
    {
     "name": "stdout",
     "output_type": "stream",
     "text": [
      "\tVALENCE-s17|Acc=0.69625|10-CV=0.688|STD=0.02551|Time spend=0.8032469749450684\n"
     ]
    },
    {
     "name": "stderr",
     "output_type": "stream",
     "text": [
      "/root/projects/components/CSP.py:78: ComplexWarning: Casting complex values to real discards the imaginary part\n",
      "  return SFa.astype(np.float32)\n"
     ]
    },
    {
     "name": "stdout",
     "output_type": "stream",
     "text": [
      "\tVALENCE-s18|Acc=0.68625|10-CV=0.667|STD=0.03051|Time spend=0.8509562015533447\n"
     ]
    },
    {
     "name": "stderr",
     "output_type": "stream",
     "text": [
      "/root/projects/components/CSP.py:78: ComplexWarning: Casting complex values to real discards the imaginary part\n",
      "  return SFa.astype(np.float32)\n"
     ]
    },
    {
     "name": "stdout",
     "output_type": "stream",
     "text": [
      "\tVALENCE-s19|Acc=0.61625|10-CV=0.603|STD=0.02786|Time spend=0.7574334144592285\n"
     ]
    },
    {
     "name": "stderr",
     "output_type": "stream",
     "text": [
      "/root/projects/components/CSP.py:78: ComplexWarning: Casting complex values to real discards the imaginary part\n",
      "  return SFa.astype(np.float32)\n"
     ]
    },
    {
     "name": "stdout",
     "output_type": "stream",
     "text": [
      "\tVALENCE-s20|Acc=0.66125|10-CV=0.626|STD=0.02289|Time spend=1.0295627117156982\n"
     ]
    },
    {
     "name": "stderr",
     "output_type": "stream",
     "text": [
      "/root/projects/components/CSP.py:78: ComplexWarning: Casting complex values to real discards the imaginary part\n",
      "  return SFa.astype(np.float32)\n"
     ]
    },
    {
     "name": "stdout",
     "output_type": "stream",
     "text": [
      "\tVALENCE-s21|Acc=0.56875|10-CV=0.5235|STD=0.03507|Time spend=0.8758971691131592\n"
     ]
    },
    {
     "name": "stderr",
     "output_type": "stream",
     "text": [
      "/root/projects/components/CSP.py:78: ComplexWarning: Casting complex values to real discards the imaginary part\n",
      "  return SFa.astype(np.float32)\n"
     ]
    },
    {
     "name": "stdout",
     "output_type": "stream",
     "text": [
      "\tVALENCE-s22|Acc=0.9075|10-CV=0.8965|STD=0.01246|Time spend=0.6811060905456543\n"
     ]
    },
    {
     "name": "stderr",
     "output_type": "stream",
     "text": [
      "/root/projects/components/CSP.py:78: ComplexWarning: Casting complex values to real discards the imaginary part\n",
      "  return SFa.astype(np.float32)\n"
     ]
    },
    {
     "name": "stdout",
     "output_type": "stream",
     "text": [
      "-----WARNING: Model s23 failed to learn: sum(ans)=800.0 sum(y)=520.0 len(y)=800\n",
      "\tVALENCE-s23|Acc=0.65|10-CV=0.6455|STD=0.0061|Time spend=0.8472464084625244\n"
     ]
    },
    {
     "name": "stderr",
     "output_type": "stream",
     "text": [
      "/root/projects/components/CSP.py:78: ComplexWarning: Casting complex values to real discards the imaginary part\n",
      "  return SFa.astype(np.float32)\n"
     ]
    },
    {
     "name": "stdout",
     "output_type": "stream",
     "text": [
      "\tVALENCE-s24|Acc=0.55625|10-CV=0.54|STD=0.01183|Time spend=0.7821977138519287\n"
     ]
    },
    {
     "name": "stderr",
     "output_type": "stream",
     "text": [
      "/root/projects/components/CSP.py:78: ComplexWarning: Casting complex values to real discards the imaginary part\n",
      "  return SFa.astype(np.float32)\n"
     ]
    },
    {
     "name": "stdout",
     "output_type": "stream",
     "text": [
      "\tVALENCE-s25|Acc=0.61625|10-CV=0.591|STD=0.02278|Time spend=0.877427339553833\n"
     ]
    },
    {
     "name": "stderr",
     "output_type": "stream",
     "text": [
      "/root/projects/components/CSP.py:78: ComplexWarning: Casting complex values to real discards the imaginary part\n",
      "  return SFa.astype(np.float32)\n"
     ]
    },
    {
     "name": "stdout",
     "output_type": "stream",
     "text": [
      "-----WARNING: Model s26 failed to learn: sum(ans)=800.0 sum(y)=520.0 len(y)=800\n",
      "\tVALENCE-s26|Acc=0.65|10-CV=0.65|STD=0.0|Time spend=0.8541960716247559\n"
     ]
    },
    {
     "name": "stderr",
     "output_type": "stream",
     "text": [
      "/root/projects/components/CSP.py:78: ComplexWarning: Casting complex values to real discards the imaginary part\n",
      "  return SFa.astype(np.float32)\n"
     ]
    },
    {
     "name": "stdout",
     "output_type": "stream",
     "text": [
      "\tVALENCE-s27|Acc=0.855|10-CV=0.8465|STD=0.01704|Time spend=1.151475191116333\n"
     ]
    },
    {
     "name": "stderr",
     "output_type": "stream",
     "text": [
      "/root/projects/components/CSP.py:78: ComplexWarning: Casting complex values to real discards the imaginary part\n",
      "  return SFa.astype(np.float32)\n"
     ]
    },
    {
     "name": "stdout",
     "output_type": "stream",
     "text": [
      "\tVALENCE-s28|Acc=0.645|10-CV=0.6305|STD=0.0061|Time spend=1.1454224586486816\n"
     ]
    },
    {
     "name": "stderr",
     "output_type": "stream",
     "text": [
      "/root/projects/components/CSP.py:78: ComplexWarning: Casting complex values to real discards the imaginary part\n",
      "  return SFa.astype(np.float32)\n"
     ]
    },
    {
     "name": "stdout",
     "output_type": "stream",
     "text": [
      "\tVALENCE-s29|Acc=0.9975|10-CV=0.9975|STD=0.0025|Time spend=0.8663640022277832\n"
     ]
    },
    {
     "name": "stderr",
     "output_type": "stream",
     "text": [
      "/root/projects/components/CSP.py:78: ComplexWarning: Casting complex values to real discards the imaginary part\n",
      "  return SFa.astype(np.float32)\n"
     ]
    },
    {
     "name": "stdout",
     "output_type": "stream",
     "text": [
      "-----WARNING: Model s30 failed to learn: sum(ans)=800.0 sum(y)=540.0 len(y)=800\n",
      "\tVALENCE-s30|Acc=0.675|10-CV=0.675|STD=0.0|Time spend=1.0110697746276855\n"
     ]
    },
    {
     "name": "stderr",
     "output_type": "stream",
     "text": [
      "/root/projects/components/CSP.py:78: ComplexWarning: Casting complex values to real discards the imaginary part\n",
      "  return SFa.astype(np.float32)\n"
     ]
    },
    {
     "name": "stdout",
     "output_type": "stream",
     "text": [
      "-----WARNING: Model s31 failed to learn: sum(ans)=800.0 sum(y)=460.0 len(y)=800\n",
      "\tVALENCE-s31|Acc=0.575|10-CV=0.575|STD=0.0|Time spend=0.8570995330810547\n"
     ]
    },
    {
     "name": "stderr",
     "output_type": "stream",
     "text": [
      "/root/projects/components/CSP.py:78: ComplexWarning: Casting complex values to real discards the imaginary part\n",
      "  return SFa.astype(np.float32)\n"
     ]
    },
    {
     "name": "stdout",
     "output_type": "stream",
     "text": [
      "\tVALENCE-s32|Acc=0.90875|10-CV=0.8945|STD=0.02018|Time spend=0.8391971588134766\n",
      "VALENCE|Acc=0.7437109374999998|10-CV=0.7284218749999999|STD=0.017074500233261028\n"
     ]
    }
   ],
   "source": [
    "accs_v, cv_means_v, cv_stds_v = [],[],[]\n",
    "for filename in tqdm(dataset.get_file_list()):\n",
    "\n",
    "    data, labels, groups = dataset.get_data(filename, stimuli=Dataset_subjectDependent.STIMULI_VALENCE, return_type='numpy')\n",
    "    labels = labels.squeeze()\n",
    "    start = time.time()\n",
    "    filters = CSP(data[labels==0], data[labels==1])\n",
    "    \n",
    "    csp_data = []\n",
    "    for index in range(len(data)):\n",
    "        \n",
    "        # (672, 32) @ (32, 32) = (672, 32)\n",
    "        csp = data[index].T @ filters[labels[index].astype(int)]\n",
    "        # (1, 32, 672)\n",
    "        csp = np.expand_dims(csp.T, axis=0)\n",
    "        csp_data.append(csp)\n",
    "\n",
    "    csp_data = np.vstack(csp_data)\n",
    "    # print(csp_data.shape) => (2400, 32, 128)\n",
    "    fe = FeatureExtractor(sfreq=128, selected_funcs=['pow_freq_bands'],params=params,n_jobs=8)\n",
    "    X = fe.fit_transform(X=csp_data)\n",
    "    # print(X.shape, time.time() - start) => (2400, 160) 1.2374355792999268\n",
    "\n",
    "    assert X.shape[1] == 160\n",
    "    _, acc, cross = train_model(X, labels.reshape(-1), groups, filename=filename)\n",
    "    print(f\"\\tVALENCE-{filename}|Acc={round(acc,5)}|10-CV={round(cross.mean(),5)}|STD={round(cross.std(),5)}|Time spend={time.time() - start}\")\n",
    "    accs_v.append(acc)\n",
    "    cv_means_v.append(cross.mean())\n",
    "    cv_stds_v.append(cross.std())\n",
    "print(f\"VALENCE|Acc={sum(accs_v)/len(accs_v)}|10-CV={sum(cv_means_v)/len(cv_means_v)}|STD={sum(cv_stds_v)/len(cv_stds_v)}\")"
   ]
  },
  {
   "cell_type": "code",
   "execution_count": 13,
   "metadata": {},
   "outputs": [
    {
     "name": "stdout",
     "output_type": "stream",
     "text": [
      "TOTAL|Acc=0.7589062499999999|10-CV=0.7453125000000002|STD=0.0157220092881647\n"
     ]
    }
   ],
   "source": [
    "accs.extend(accs_v)\n",
    "cv_means.extend(cv_means_v)\n",
    "cv_stds.extend(cv_stds_v)\n",
    "\n",
    "print(f\"TOTAL|Acc={sum(accs)/len(accs)}|10-CV={sum(cv_means)/len(cv_means)}|STD={sum(cv_stds)/len(cv_stds)}\")"
   ]
  },
  {
   "cell_type": "code",
   "execution_count": null,
   "metadata": {},
   "outputs": [],
   "source": []
  }
 ],
 "metadata": {
  "interpreter": {
   "hash": "27768773b483d82a9b2b839e3fa80b1be5789db7fd78df4eedef2df266871616"
  },
  "kernelspec": {
   "display_name": "eeg",
   "language": "python",
   "name": "python3"
  },
  "language_info": {
   "codemirror_mode": {
    "name": "ipython",
    "version": 3
   },
   "file_extension": ".py",
   "mimetype": "text/x-python",
   "name": "python",
   "nbconvert_exporter": "python",
   "pygments_lexer": "ipython3",
   "version": "3.8.10"
  }
 },
 "nbformat": 4,
 "nbformat_minor": 4
}
