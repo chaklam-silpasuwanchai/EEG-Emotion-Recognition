{
 "cells": [
  {
   "cell_type": "code",
   "execution_count": 1,
   "metadata": {},
   "outputs": [
    {
     "name": "stdout",
     "output_type": "stream",
     "text": [
      "Found: 32 files\n",
      "s01 (480, 2) [47.5 60. ]\n"
     ]
    }
   ],
   "source": [
    "import time\n",
    "import numpy as np\n",
    "from tqdm.notebook import tqdm\n",
    "\n",
    "from components.dataset_jo import *\n",
    "\n",
    "dataset = Dataset_subjectDependent('data')\n",
    "segment_lenght = 5 #second\n",
    "dataset.set_segment(7680//(128*segment_lenght))\n",
    "for filename in dataset.get_file_list():\n",
    "    data, labels, _ = dataset.get_data(filename, return_type='numpy')\n",
    "    print(filename, labels.shape, labels.sum(axis=0)/labels.shape[0]*100)\n",
    "    break"
   ]
  },
  {
   "cell_type": "code",
   "execution_count": 2,
   "metadata": {},
   "outputs": [],
   "source": [
    "def train_model(X_ori,y_ori,groups_ori,filename=None, kernel='rbf',return_text=False):\n",
    "    # Make a copy because I am paranoid\n",
    "    X,y,groups = X_ori.copy(), y_ori.copy(), groups_ori.copy()\n",
    "\n",
    "    from sklearn.svm import SVC\n",
    "    from sklearn.model_selection import StratifiedShuffleSplit \n",
    "    from sklearn.model_selection import cross_val_score\n",
    "\n",
    "    model = SVC(kernel=kernel,max_iter=50000)\n",
    "    cv = StratifiedShuffleSplit(n_splits=10, train_size=0.75, random_state=0)\n",
    "    cross = cross_val_score(model, X, y, cv=cv, n_jobs=8)\n",
    "    \n",
    "    # We probably dont need this\n",
    "    model = SVC(kernel=kernel, max_iter=50000)\n",
    "    model.fit(X, y)\n",
    "    ans = model.predict(X)\n",
    "    acc = sum(ans == y) / len(y)\n",
    "    # If the model answer with all 0 or 1, we print this message\n",
    "    text = None\n",
    "    if( sum(ans) == len(y) or sum(ans) == 0 ): \n",
    "        text = f\"-----WARNING: Model {filename} failed to learn: sum(ans)={sum(ans)} sum(y)={sum(y)} len(y)={len(y)}\"\n",
    "    if(return_text):\n",
    "        return model, acc, cross, text\n",
    "    else:\n",
    "        if(text != None): print(text)\n",
    "        return model, acc, cross"
   ]
  },
  {
   "cell_type": "markdown",
   "metadata": {},
   "source": [
    "## 2. Spectral Features"
   ]
  },
  {
   "cell_type": "code",
   "execution_count": 3,
   "metadata": {},
   "outputs": [],
   "source": [
    "from mne_features.feature_extraction import FeatureExtractor"
   ]
  },
  {
   "cell_type": "code",
   "execution_count": 4,
   "metadata": {},
   "outputs": [
    {
     "name": "stdout",
     "output_type": "stream",
     "text": [
      "\tAROUSAL-s01|Acc=0.67917|10-CV=0.6225|STD=0.01346|Time spend=31.954869747161865\n",
      "\tAROUSAL-s02|Acc=0.62083|10-CV=0.60167|STD=0.01965|Time spend=0.562838077545166\n",
      "-----WARNING: Model s03 failed to learn: sum(ans)=0.0 sum(y)=96.0 len(y)=480\n",
      "\tAROUSAL-s03|Acc=0.8|10-CV=0.8|STD=0.0|Time spend=0.48596811294555664\n",
      "\tAROUSAL-s04|Acc=0.68125|10-CV=0.63667|STD=0.02667|Time spend=0.514404296875\n",
      "\tAROUSAL-s05|Acc=0.59167|10-CV=0.52917|STD=0.03966|Time spend=0.5258924961090088\n",
      "\tAROUSAL-s06|Acc=0.62917|10-CV=0.60833|STD=0.03801|Time spend=0.5145721435546875\n",
      "\tAROUSAL-s07|Acc=0.68125|10-CV=0.6375|STD=0.01304|Time spend=0.5113976001739502\n",
      "\tAROUSAL-s08|Acc=0.67917|10-CV=0.60417|STD=0.02181|Time spend=0.5185661315917969\n",
      "\tAROUSAL-s09|Acc=0.62292|10-CV=0.6025|STD=0.00382|Time spend=0.5433547496795654\n",
      "\tAROUSAL-s10|Acc=0.7|10-CV=0.64417|STD=0.04519|Time spend=0.5769264698028564\n",
      "-----WARNING: Model s11 failed to learn: sum(ans)=0.0 sum(y)=180.0 len(y)=480\n",
      "\tAROUSAL-s11|Acc=0.625|10-CV=0.625|STD=0.0|Time spend=0.5723214149475098\n",
      "-----WARNING: Model s12 failed to learn: sum(ans)=480.0 sum(y)=396.0 len(y)=480\n",
      "\tAROUSAL-s12|Acc=0.825|10-CV=0.825|STD=0.0|Time spend=0.5363278388977051\n",
      "-----WARNING: Model s13 failed to learn: sum(ans)=480.0 sum(y)=408.0 len(y)=480\n",
      "\tAROUSAL-s13|Acc=0.85|10-CV=0.85|STD=0.0|Time spend=0.4905405044555664\n",
      "-----WARNING: Model s14 failed to learn: sum(ans)=480.0 sum(y)=324.0 len(y)=480\n",
      "\tAROUSAL-s14|Acc=0.675|10-CV=0.675|STD=0.0|Time spend=0.5166277885437012\n",
      "\tAROUSAL-s15|Acc=0.74375|10-CV=0.665|STD=0.02522|Time spend=0.5238456726074219\n",
      "\tAROUSAL-s16|Acc=0.75|10-CV=0.6525|STD=0.01789|Time spend=0.5260770320892334\n",
      "\tAROUSAL-s17|Acc=0.73125|10-CV=0.70583|STD=0.03709|Time spend=0.531639814376831\n",
      "\tAROUSAL-s18|Acc=0.6625|10-CV=0.62833|STD=0.0085|Time spend=0.522376298904419\n",
      "\tAROUSAL-s19|Acc=0.68542|10-CV=0.68|STD=0.00764|Time spend=0.5250320434570312\n",
      "-----WARNING: Model s20 failed to learn: sum(ans)=480.0 sum(y)=372.0 len(y)=480\n",
      "\tAROUSAL-s20|Acc=0.775|10-CV=0.775|STD=0.0|Time spend=0.5075259208679199\n",
      "-----WARNING: Model s21 failed to learn: sum(ans)=480.0 sum(y)=384.0 len(y)=480\n",
      "\tAROUSAL-s21|Acc=0.8|10-CV=0.8|STD=0.0|Time spend=0.5277502536773682\n",
      "\tAROUSAL-s22|Acc=0.60833|10-CV=0.58667|STD=0.02506|Time spend=0.547856330871582\n",
      "-----WARNING: Model s23 failed to learn: sum(ans)=0.0 sum(y)=120.0 len(y)=480\n",
      "\tAROUSAL-s23|Acc=0.75|10-CV=0.75|STD=0.0|Time spend=0.548762321472168\n",
      "-----WARNING: Model s24 failed to learn: sum(ans)=480.0 sum(y)=396.0 len(y)=480\n",
      "\tAROUSAL-s24|Acc=0.825|10-CV=0.825|STD=0.0|Time spend=0.5194754600524902\n",
      "-----WARNING: Model s25 failed to learn: sum(ans)=480.0 sum(y)=348.0 len(y)=480\n",
      "\tAROUSAL-s25|Acc=0.725|10-CV=0.725|STD=0.0|Time spend=0.534092903137207\n",
      "\tAROUSAL-s26|Acc=0.63958|10-CV=0.585|STD=0.02682|Time spend=0.5453643798828125\n",
      "\tAROUSAL-s27|Acc=0.69792|10-CV=0.68167|STD=0.00726|Time spend=0.5257277488708496\n",
      "\tAROUSAL-s28|Acc=0.59792|10-CV=0.5725|STD=0.02142|Time spend=0.5261235237121582\n",
      "\tAROUSAL-s29|Acc=0.67917|10-CV=0.64583|STD=0.02016|Time spend=0.5327730178833008\n",
      "\tAROUSAL-s30|Acc=0.65417|10-CV=0.5625|STD=0.03841|Time spend=0.5717973709106445\n",
      "\tAROUSAL-s31|Acc=0.68542|10-CV=0.5975|STD=0.04565|Time spend=0.5689249038696289\n",
      "-----WARNING: Model s32 failed to learn: sum(ans)=480.0 sum(y)=324.0 len(y)=480\n",
      "\tAROUSAL-s32|Acc=0.675|10-CV=0.67417|STD=0.0025|Time spend=0.5328047275543213\n",
      "AROUSAL|Acc=0.6983072916666667|10-CV=0.6679427083333336|STD=0.015779372044562593\n",
      "\tVALENCE-s01|Acc=0.69792|10-CV=0.56167|STD=0.04413|Time spend=0.33828020095825195\n",
      "\tVALENCE-s02|Acc=0.6875|10-CV=0.63833|STD=0.03749|Time spend=0.32369065284729004\n",
      "\tVALENCE-s03|Acc=0.66042|10-CV=0.6125|STD=0.0277|Time spend=0.3532986640930176\n",
      "\tVALENCE-s04|Acc=0.67708|10-CV=0.65083|STD=0.02123|Time spend=0.30175185203552246\n",
      "\tVALENCE-s05|Acc=0.63542|10-CV=0.60917|STD=0.01261|Time spend=0.3182504177093506\n",
      "-----WARNING: Model s06 failed to learn: sum(ans)=480.0 sum(y)=360.0 len(y)=480\n",
      "\tVALENCE-s06|Acc=0.75|10-CV=0.75|STD=0.0|Time spend=0.3312947750091553\n",
      "-----WARNING: Model s07 failed to learn: sum(ans)=480.0 sum(y)=336.0 len(y)=480\n",
      "\tVALENCE-s07|Acc=0.7|10-CV=0.69917|STD=0.0025|Time spend=0.32546424865722656\n",
      "\tVALENCE-s08|Acc=0.70208|10-CV=0.59667|STD=0.03167|Time spend=0.3411216735839844\n",
      "\tVALENCE-s09|Acc=0.73958|10-CV=0.70667|STD=0.03887|Time spend=0.35250306129455566\n",
      "\tVALENCE-s10|Acc=0.77708|10-CV=0.74083|STD=0.0209|Time spend=0.3537180423736572\n",
      "\tVALENCE-s11|Acc=0.6125|10-CV=0.59167|STD=0.01443|Time spend=0.33538365364074707\n",
      "\tVALENCE-s12|Acc=0.69167|10-CV=0.655|STD=0.04035|Time spend=0.34161853790283203\n",
      "\tVALENCE-s13|Acc=0.79375|10-CV=0.78333|STD=0.03028|Time spend=0.32542848587036133\n",
      "\tVALENCE-s14|Acc=0.7375|10-CV=0.72333|STD=0.0238|Time spend=0.3394961357116699\n",
      "\tVALENCE-s15|Acc=0.82292|10-CV=0.78333|STD=0.02236|Time spend=0.39055752754211426\n",
      "\tVALENCE-s16|Acc=0.72917|10-CV=0.71417|STD=0.02142|Time spend=0.3732297420501709\n",
      "\tVALENCE-s17|Acc=0.64792|10-CV=0.5875|STD=0.0301|Time spend=0.35803699493408203\n",
      "\tVALENCE-s18|Acc=0.7875|10-CV=0.76083|STD=0.03292|Time spend=0.34722328186035156\n",
      "\tVALENCE-s19|Acc=0.67708|10-CV=0.62583|STD=0.03172|Time spend=0.33878302574157715\n",
      "\tVALENCE-s20|Acc=0.75625|10-CV=0.705|STD=0.04333|Time spend=0.3342604637145996\n",
      "\tVALENCE-s21|Acc=0.6375|10-CV=0.585|STD=0.0318|Time spend=0.36777305603027344\n",
      "\tVALENCE-s22|Acc=0.73333|10-CV=0.7075|STD=0.02921|Time spend=0.35599231719970703\n",
      "\tVALENCE-s23|Acc=0.6625|10-CV=0.65167|STD=0.00333|Time spend=0.35145115852355957\n",
      "\tVALENCE-s24|Acc=0.65833|10-CV=0.58333|STD=0.02958|Time spend=0.3522200584411621\n",
      "\tVALENCE-s25|Acc=0.64792|10-CV=0.53|STD=0.05312|Time spend=0.38565945625305176\n",
      "-----WARNING: Model s26 failed to learn: sum(ans)=480.0 sum(y)=312.0 len(y)=480\n",
      "\tVALENCE-s26|Acc=0.65|10-CV=0.65|STD=0.0|Time spend=0.3647911548614502\n",
      "\tVALENCE-s27|Acc=0.75625|10-CV=0.74917|STD=0.0025|Time spend=0.34612131118774414\n",
      "\tVALENCE-s28|Acc=0.62917|10-CV=0.62583|STD=0.0025|Time spend=0.3276326656341553\n",
      "\tVALENCE-s29|Acc=0.71042|10-CV=0.64167|STD=0.03051|Time spend=0.32880377769470215\n",
      "-----WARNING: Model s30 failed to learn: sum(ans)=480.0 sum(y)=324.0 len(y)=480\n",
      "\tVALENCE-s30|Acc=0.675|10-CV=0.675|STD=0.0|Time spend=0.33930230140686035\n",
      "\tVALENCE-s31|Acc=0.59583|10-CV=0.57583|STD=0.00449|Time spend=0.3446798324584961\n",
      "\tVALENCE-s32|Acc=0.65417|10-CV=0.61917|STD=0.0211|Time spend=0.32253599166870117\n",
      "VALENCE|Acc=0.6966796875000001|10-CV=0.6590625000000001|STD=0.022999072902436152\n",
      "TOTAL|Acc=0.6974934895833335|10-CV=0.6635026041666667|STD=0.019389222473499376\n"
     ]
    }
   ],
   "source": [
    "bands = [(0,4), (4,8), (8,12), (12,30), (30,64)]\n",
    "# [alias_feature_function]__[optional_param]\n",
    "params = dict({\n",
    "    'pow_freq_bands__log':True,\n",
    "    'pow_freq_bands__normalize':False,\n",
    "    'pow_freq_bands__freq_bands':bands\n",
    "})\n",
    "\n",
    "\n",
    "accs,cv_means,cv_stds  = [],[],[]\n",
    "# count = 0\n",
    "for filename in dataset.get_file_list():\n",
    "    start = time.time()\n",
    "    data, labels, groups = dataset.get_data(filename, stimuli=Dataset_subjectDependent.STIMULI_AROUSAL, return_type='numpy')\n",
    "    fe = FeatureExtractor(sfreq=128, selected_funcs=['pow_freq_bands'],params=params,n_jobs=8)\n",
    "    X = fe.fit_transform(X=data)\n",
    "    _, acc, cross = train_model(X, labels.reshape(-1), groups,filename=filename)\n",
    "    print(f\"\\tAROUSAL-{filename}|Acc={round(acc,5)}|10-CV={round(cross.mean(),5)}|STD={round(cross.std(),5)}|Time spend={time.time() - start}\")\n",
    "    accs.append(acc)\n",
    "    cv_means.append(cross.mean())\n",
    "    cv_stds.append(cross.std())\n",
    "    # count+=1\n",
    "    # if(count == 5): break\n",
    "print(f\"AROUSAL|Acc={sum(accs)/len(accs)}|10-CV={sum(cv_means)/len(cv_means)}|STD={sum(cv_stds)/len(cv_stds)}\")\n",
    "\n",
    "accs_v,cv_means_v,cv_stds_v  = [],[],[]\n",
    "# count=0\n",
    "for filename in dataset.get_file_list():\n",
    "    start = time.time()\n",
    "    data, labels, groups = dataset.get_data(filename, stimuli=Dataset_subjectDependent.STIMULI_VALENCE, return_type='numpy')\n",
    "    fe = FeatureExtractor(sfreq=128, selected_funcs=['pow_freq_bands'],params=params,n_jobs=8)\n",
    "    X = fe.fit_transform(X=data)\n",
    "    _, acc, cross = train_model(X, labels.reshape(-1), groups,filename=filename)\n",
    "    print(f\"\\tVALENCE-{filename}|Acc={round(acc,5)}|10-CV={round(cross.mean(),5)}|STD={round(cross.std(),5)}|Time spend={time.time() - start}\")\n",
    "    accs_v.append(acc)\n",
    "    cv_means_v.append(cross.mean())\n",
    "    cv_stds_v.append(cross.std())\n",
    "    # count+=1\n",
    "    # if(count == 5): break\n",
    "print(f\"VALENCE|Acc={sum(accs_v)/len(accs_v)}|10-CV={sum(cv_means_v)/len(cv_means_v)}|STD={sum(cv_stds_v)/len(cv_stds_v)}\")\n",
    "\n",
    "accs.extend(accs_v)\n",
    "cv_means.extend(cv_means_v)\n",
    "cv_stds.extend(cv_stds_v)\n",
    "print(f\"TOTAL|Acc={sum(accs)/len(accs)}|10-CV={sum(cv_means)/len(cv_means)}|STD={sum(cv_stds)/len(cv_stds)}\")"
   ]
  },
  {
   "cell_type": "markdown",
   "metadata": {},
   "source": [
    "## 3. Asymetry"
   ]
  },
  {
   "cell_type": "code",
   "execution_count": 5,
   "metadata": {},
   "outputs": [
    {
     "name": "stdout",
     "output_type": "stream",
     "text": [
      "left_channel_indexes=[0, 3, 2, 7, 11, 6, 10, 13, 1, 4, 5, 8, 9, 12]\n",
      "right_channel_indexes=[16, 20, 19, 25, 29, 24, 28, 31, 17, 21, 22, 26, 27, 30]\n",
      "frontal_channel_indexes=[4, 5, 22, 21, 3, 2, 18, 19, 20, 0, 16]\n",
      "posterior_channel_indexes=[8, 9, 27, 26, 11, 10, 15, 28, 29, 13, 31]\n"
     ]
    }
   ],
   "source": [
    "channels = ['Fp1','AF3','F3','F7','FC5','FC1','C3','T7','CP5','CP1','P3','P7','PO3','O1','Oz','Pz','Fp2','AF4','Fz','F4','F8','FC6','FC2','Cz','C4','T8','CP6','CP2','P4','P8','PO4','O2']\n",
    "left_channels = ['Fp1','F7','F3','T7','P7','C3','P3','O1','AF3','FC5','FC1','CP5','CP1','PO3']\n",
    "right_channels = ['Fp2','F8','F4','T8','P8','C4','P4','O2','AF4','FC6','FC2','CP6','CP2','PO4']\n",
    "left_channel_indexes = [ channels.index(ch) for ch in left_channels ]\n",
    "right_channel_indexes = [ channels.index(ch) for ch in right_channels ]\n",
    "\n",
    "print(f\"{left_channel_indexes=}\")\n",
    "print(f\"{right_channel_indexes=}\")\n",
    "\n",
    "frontal_channels = ['FC5','FC1','FC2','FC6','F7','F3','Fz','F4','F8','Fp1','Fp2']\n",
    "posterior_channels = ['CP5','CP1','CP2','CP6','P7','P3','Pz','P4','P8','O1','O2']\n",
    "\n",
    "frontal_channel_indexes = [ channels.index(ch) for ch in frontal_channels ]\n",
    "posterior_channel_indexes = [ channels.index(ch) for ch in posterior_channels ]\n",
    "\n",
    "print(f\"{frontal_channel_indexes=}\")\n",
    "print(f\"{posterior_channel_indexes=}\")"
   ]
  },
  {
   "cell_type": "code",
   "execution_count": 6,
   "metadata": {},
   "outputs": [
    {
     "name": "stdout",
     "output_type": "stream",
     "text": [
      "\tAROUSAL-s01-DASM|Acc=0.60417|10-CV=0.6|STD=0.00745|Time spend=0.3191564083099365\n",
      "\tAROUSAL-s01-RASM|Acc=0.61458|10-CV=0.59833|STD=0.01106|Time spend=0.3558821678161621\n",
      "\tAROUSAL-s01-DCAU|Acc=0.62292|10-CV=0.59917|STD=0.01261|Time spend=0.38868188858032227\n",
      "\tAROUSAL-s02-DASM|Acc=0.61875|10-CV=0.59917|STD=0.02022|Time spend=0.2985725402832031\n",
      "\tAROUSAL-s02-RASM|Acc=0.60833|10-CV=0.59917|STD=0.0025|Time spend=0.334439754486084\n",
      "\tAROUSAL-s02-DCAU|Acc=0.62917|10-CV=0.60667|STD=0.01893|Time spend=0.3689405918121338\n",
      "-----WARNING: Model s03 failed to learn: sum(ans)=0.0 sum(y)=96.0 len(y)=480\n",
      "\tAROUSAL-s03-DASM|Acc=0.8|10-CV=0.8|STD=0.0|Time spend=0.29027366638183594\n",
      "\tAROUSAL-s03-RASM|Acc=0.80208|10-CV=0.8|STD=0.0|Time spend=0.3195760250091553\n",
      "-----WARNING: Model s03 failed to learn: sum(ans)=0.0 sum(y)=96.0 len(y)=480\n",
      "\tAROUSAL-s03-DCAU|Acc=0.8|10-CV=0.8|STD=0.0|Time spend=0.3520383834838867\n",
      "\tAROUSAL-s04-DASM|Acc=0.65208|10-CV=0.6025|STD=0.02529|Time spend=0.3154008388519287\n",
      "\tAROUSAL-s04-RASM|Acc=0.60417|10-CV=0.60083|STD=0.0025|Time spend=0.3536679744720459\n",
      "\tAROUSAL-s04-DCAU|Acc=0.66458|10-CV=0.61917|STD=0.0274|Time spend=0.3884594440460205\n",
      "\tAROUSAL-s05-DASM|Acc=0.56875|10-CV=0.52333|STD=0.04842|Time spend=0.30002665519714355\n",
      "\tAROUSAL-s05-RASM|Acc=0.53958|10-CV=0.52917|STD=0.01003|Time spend=0.3388233184814453\n",
      "\tAROUSAL-s05-DCAU|Acc=0.6|10-CV=0.53083|STD=0.03477|Time spend=0.3756735324859619\n",
      "\tAROUSAL-s06-DASM|Acc=0.59583|10-CV=0.58333|STD=0.01667|Time spend=0.31299757957458496\n",
      "\tAROUSAL-s06-RASM|Acc=0.58125|10-CV=0.575|STD=0.0|Time spend=0.34768223762512207\n",
      "\tAROUSAL-s06-DCAU|Acc=0.59792|10-CV=0.58|STD=0.02392|Time spend=0.3827395439147949\n",
      "\tAROUSAL-s07-DASM|Acc=0.62917|10-CV=0.62833|STD=0.00553|Time spend=0.3010270595550537\n",
      "\tAROUSAL-s07-RASM|Acc=0.63333|10-CV=0.625|STD=0.0|Time spend=0.33991003036499023\n",
      "-----WARNING: Model s07 failed to learn: sum(ans)=480.0 sum(y)=300.0 len(y)=480\n",
      "\tAROUSAL-s07-DCAU|Acc=0.625|10-CV=0.625|STD=0.0|Time spend=0.3780953884124756\n",
      "\tAROUSAL-s08-DASM|Acc=0.60417|10-CV=0.57417|STD=0.02155|Time spend=0.30227208137512207\n",
      "\tAROUSAL-s08-RASM|Acc=0.58333|10-CV=0.5675|STD=0.01557|Time spend=0.3390941619873047\n",
      "\tAROUSAL-s08-DCAU|Acc=0.625|10-CV=0.585|STD=0.02291|Time spend=0.37924981117248535\n",
      "\tAROUSAL-s09-DASM|Acc=0.625|10-CV=0.60583|STD=0.0075|Time spend=0.30571818351745605\n",
      "\tAROUSAL-s09-RASM|Acc=0.7|10-CV=0.655|STD=0.02303|Time spend=0.34138011932373047\n",
      "\tAROUSAL-s09-DCAU|Acc=0.60208|10-CV=0.59417|STD=0.01493|Time spend=0.3753547668457031\n",
      "\tAROUSAL-s10-DASM|Acc=0.64792|10-CV=0.6125|STD=0.04187|Time spend=0.2972898483276367\n",
      "\tAROUSAL-s10-RASM|Acc=0.55417|10-CV=0.54333|STD=0.00726|Time spend=0.34051084518432617\n",
      "\tAROUSAL-s10-DCAU|Acc=0.69583|10-CV=0.64583|STD=0.04035|Time spend=0.379910945892334\n",
      "-----WARNING: Model s11 failed to learn: sum(ans)=0.0 sum(y)=180.0 len(y)=480\n",
      "\tAROUSAL-s11-DASM|Acc=0.625|10-CV=0.625|STD=0.0|Time spend=0.3163318634033203\n",
      "\tAROUSAL-s11-RASM|Acc=0.62708|10-CV=0.62583|STD=0.0025|Time spend=0.35622644424438477\n",
      "\tAROUSAL-s11-DCAU|Acc=0.62708|10-CV=0.62417|STD=0.0025|Time spend=0.391141414642334\n",
      "-----WARNING: Model s12 failed to learn: sum(ans)=480.0 sum(y)=396.0 len(y)=480\n",
      "\tAROUSAL-s12-DASM|Acc=0.825|10-CV=0.825|STD=0.0|Time spend=0.3111240863800049\n",
      "\tAROUSAL-s12-RASM|Acc=0.82917|10-CV=0.825|STD=0.0|Time spend=0.33847713470458984\n",
      "-----WARNING: Model s12 failed to learn: sum(ans)=480.0 sum(y)=396.0 len(y)=480\n",
      "\tAROUSAL-s12-DCAU|Acc=0.825|10-CV=0.825|STD=0.0|Time spend=0.3739345073699951\n",
      "-----WARNING: Model s13 failed to learn: sum(ans)=480.0 sum(y)=408.0 len(y)=480\n",
      "\tAROUSAL-s13-DASM|Acc=0.85|10-CV=0.85|STD=0.0|Time spend=0.3029747009277344\n",
      "-----WARNING: Model s13 failed to learn: sum(ans)=480.0 sum(y)=408.0 len(y)=480\n",
      "\tAROUSAL-s13-RASM|Acc=0.85|10-CV=0.85|STD=0.0|Time spend=0.32483434677124023\n",
      "-----WARNING: Model s13 failed to learn: sum(ans)=480.0 sum(y)=408.0 len(y)=480\n",
      "\tAROUSAL-s13-DCAU|Acc=0.85|10-CV=0.85|STD=0.0|Time spend=0.35360217094421387\n",
      "-----WARNING: Model s14 failed to learn: sum(ans)=480.0 sum(y)=324.0 len(y)=480\n",
      "\tAROUSAL-s14-DASM|Acc=0.675|10-CV=0.675|STD=0.0|Time spend=0.29511189460754395\n",
      "\tAROUSAL-s14-RASM|Acc=0.67708|10-CV=0.67417|STD=0.00583|Time spend=0.33325791358947754\n",
      "-----WARNING: Model s14 failed to learn: sum(ans)=480.0 sum(y)=324.0 len(y)=480\n",
      "\tAROUSAL-s14-DCAU|Acc=0.675|10-CV=0.675|STD=0.0|Time spend=0.3711879253387451\n",
      "\tAROUSAL-s15-DASM|Acc=0.70208|10-CV=0.62583|STD=0.03384|Time spend=0.2960386276245117\n",
      "\tAROUSAL-s15-RASM|Acc=0.52708|10-CV=0.52417|STD=0.00583|Time spend=0.3362267017364502\n",
      "\tAROUSAL-s15-DCAU|Acc=0.67292|10-CV=0.6075|STD=0.03015|Time spend=0.3725578784942627\n",
      "\tAROUSAL-s16-DASM|Acc=0.65833|10-CV=0.60083|STD=0.04073|Time spend=0.2971935272216797\n",
      "\tAROUSAL-s16-RASM|Acc=0.54583|10-CV=0.51167|STD=0.0256|Time spend=0.3361988067626953\n",
      "\tAROUSAL-s16-DCAU|Acc=0.66458|10-CV=0.61917|STD=0.02417|Time spend=0.37136197090148926\n",
      "\tAROUSAL-s17-DASM|Acc=0.725|10-CV=0.72|STD=0.03232|Time spend=0.3090958595275879\n",
      "\tAROUSAL-s17-RASM|Acc=0.6125|10-CV=0.60083|STD=0.00786|Time spend=0.3458094596862793\n",
      "\tAROUSAL-s17-DCAU|Acc=0.69583|10-CV=0.66917|STD=0.03556|Time spend=0.3807356357574463\n",
      "\tAROUSAL-s18-DASM|Acc=0.65|10-CV=0.62917|STD=0.00932|Time spend=0.319596529006958\n",
      "\tAROUSAL-s18-RASM|Acc=0.62917|10-CV=0.625|STD=0.00527|Time spend=0.35828137397766113\n",
      "\tAROUSAL-s18-DCAU|Acc=0.63333|10-CV=0.62333|STD=0.00333|Time spend=0.3987143039703369\n",
      "\tAROUSAL-s19-DASM|Acc=0.68333|10-CV=0.67917|STD=0.00417|Time spend=0.3260378837585449\n",
      "-----WARNING: Model s19 failed to learn: sum(ans)=480.0 sum(y)=324.0 len(y)=480\n",
      "\tAROUSAL-s19-RASM|Acc=0.675|10-CV=0.67|STD=0.01|Time spend=0.35944461822509766\n",
      "\tAROUSAL-s19-DCAU|Acc=0.6875|10-CV=0.6775|STD=0.0075|Time spend=0.3954613208770752\n",
      "-----WARNING: Model s20 failed to learn: sum(ans)=480.0 sum(y)=372.0 len(y)=480\n",
      "\tAROUSAL-s20-DASM|Acc=0.775|10-CV=0.775|STD=0.0|Time spend=0.3081784248352051\n",
      "\tAROUSAL-s20-RASM|Acc=0.78542|10-CV=0.775|STD=0.00527|Time spend=0.337139368057251\n",
      "-----WARNING: Model s20 failed to learn: sum(ans)=480.0 sum(y)=372.0 len(y)=480\n",
      "\tAROUSAL-s20-DCAU|Acc=0.775|10-CV=0.775|STD=0.0|Time spend=0.3683178424835205\n",
      "-----WARNING: Model s21 failed to learn: sum(ans)=480.0 sum(y)=384.0 len(y)=480\n",
      "\tAROUSAL-s21-DASM|Acc=0.8|10-CV=0.8|STD=0.0|Time spend=0.29578709602355957\n",
      "\tAROUSAL-s21-RASM|Acc=0.80208|10-CV=0.8|STD=0.0|Time spend=0.32186102867126465\n",
      "-----WARNING: Model s21 failed to learn: sum(ans)=480.0 sum(y)=384.0 len(y)=480\n",
      "\tAROUSAL-s21-DCAU|Acc=0.8|10-CV=0.8|STD=0.0|Time spend=0.35268497467041016\n",
      "\tAROUSAL-s22-DASM|Acc=0.61042|10-CV=0.58583|STD=0.02501|Time spend=0.3181614875793457\n",
      "\tAROUSAL-s22-RASM|Acc=0.60625|10-CV=0.6|STD=0.00645|Time spend=0.3575408458709717\n",
      "\tAROUSAL-s22-DCAU|Acc=0.60833|10-CV=0.5925|STD=0.0188|Time spend=0.39247632026672363\n",
      "-----WARNING: Model s23 failed to learn: sum(ans)=0.0 sum(y)=120.0 len(y)=480\n",
      "\tAROUSAL-s23-DASM|Acc=0.75|10-CV=0.75|STD=0.0|Time spend=0.2944052219390869\n",
      "\tAROUSAL-s23-RASM|Acc=0.75417|10-CV=0.74833|STD=0.005|Time spend=0.32482314109802246\n",
      "-----WARNING: Model s23 failed to learn: sum(ans)=0.0 sum(y)=120.0 len(y)=480\n",
      "\tAROUSAL-s23-DCAU|Acc=0.75|10-CV=0.75|STD=0.0|Time spend=0.35860157012939453\n",
      "-----WARNING: Model s24 failed to learn: sum(ans)=480.0 sum(y)=396.0 len(y)=480\n",
      "\tAROUSAL-s24-DASM|Acc=0.825|10-CV=0.825|STD=0.0|Time spend=0.30674147605895996\n",
      "\tAROUSAL-s24-RASM|Acc=0.82917|10-CV=0.825|STD=0.0|Time spend=0.3355436325073242\n",
      "-----WARNING: Model s24 failed to learn: sum(ans)=480.0 sum(y)=396.0 len(y)=480\n",
      "\tAROUSAL-s24-DCAU|Acc=0.825|10-CV=0.825|STD=0.0|Time spend=0.3706076145172119\n",
      "-----WARNING: Model s25 failed to learn: sum(ans)=480.0 sum(y)=348.0 len(y)=480\n",
      "\tAROUSAL-s25-DASM|Acc=0.725|10-CV=0.725|STD=0.0|Time spend=0.313612699508667\n",
      "-----WARNING: Model s25 failed to learn: sum(ans)=480.0 sum(y)=348.0 len(y)=480\n",
      "\tAROUSAL-s25-RASM|Acc=0.725|10-CV=0.72333|STD=0.005|Time spend=0.34363436698913574\n",
      "-----WARNING: Model s25 failed to learn: sum(ans)=480.0 sum(y)=348.0 len(y)=480\n",
      "\tAROUSAL-s25-DCAU|Acc=0.725|10-CV=0.725|STD=0.0|Time spend=0.3780937194824219\n",
      "\tAROUSAL-s26-DASM|Acc=0.625|10-CV=0.5825|STD=0.02123|Time spend=0.30667853355407715\n",
      "\tAROUSAL-s26-RASM|Acc=0.58958|10-CV=0.57583|STD=0.00692|Time spend=0.34356021881103516\n",
      "\tAROUSAL-s26-DCAU|Acc=0.67083|10-CV=0.59417|STD=0.03437|Time spend=0.38053083419799805\n",
      "\tAROUSAL-s27-DASM|Acc=0.68333|10-CV=0.67333|STD=0.005|Time spend=0.3021366596221924\n",
      "\tAROUSAL-s27-RASM|Acc=0.68125|10-CV=0.67|STD=0.00553|Time spend=0.335247278213501\n",
      "-----WARNING: Model s27 failed to learn: sum(ans)=480.0 sum(y)=324.0 len(y)=480\n",
      "\tAROUSAL-s27-DCAU|Acc=0.675|10-CV=0.675|STD=0.0|Time spend=0.37244176864624023\n",
      "\tAROUSAL-s28-DASM|Acc=0.57083|10-CV=0.55083|STD=0.02056|Time spend=0.3048379421234131\n",
      "\tAROUSAL-s28-RASM|Acc=0.56042|10-CV=0.55|STD=0.0|Time spend=0.344449520111084\n",
      "\tAROUSAL-s28-DCAU|Acc=0.55625|10-CV=0.54667|STD=0.01675|Time spend=0.38123011589050293\n",
      "\tAROUSAL-s29-DASM|Acc=0.65625|10-CV=0.62583|STD=0.01146|Time spend=0.30796194076538086\n",
      "\tAROUSAL-s29-RASM|Acc=0.63958|10-CV=0.63417|STD=0.00449|Time spend=0.34383559226989746\n",
      "\tAROUSAL-s29-DCAU|Acc=0.6375|10-CV=0.625|STD=0.0|Time spend=0.38065505027770996\n",
      "\tAROUSAL-s30-DASM|Acc=0.60833|10-CV=0.52833|STD=0.03877|Time spend=0.3127617835998535\n",
      "\tAROUSAL-s30-RASM|Acc=0.54583|10-CV=0.5275|STD=0.01181|Time spend=0.35353970527648926\n",
      "\tAROUSAL-s30-DCAU|Acc=0.63125|10-CV=0.50833|STD=0.03005|Time spend=0.39246273040771484\n",
      "\tAROUSAL-s31-DASM|Acc=0.66042|10-CV=0.61417|STD=0.04874|Time spend=0.33341336250305176\n",
      "\tAROUSAL-s31-RASM|Acc=0.53542|10-CV=0.52417|STD=0.00449|Time spend=0.3735232353210449\n",
      "\tAROUSAL-s31-DCAU|Acc=0.66458|10-CV=0.61167|STD=0.0446|Time spend=0.40936994552612305\n",
      "-----WARNING: Model s32 failed to learn: sum(ans)=480.0 sum(y)=324.0 len(y)=480\n",
      "\tAROUSAL-s32-DASM|Acc=0.675|10-CV=0.675|STD=0.0|Time spend=0.2924020290374756\n",
      "-----WARNING: Model s32 failed to learn: sum(ans)=480.0 sum(y)=324.0 len(y)=480\n",
      "\tAROUSAL-s32-RASM|Acc=0.675|10-CV=0.67333|STD=0.005|Time spend=0.3323328495025635\n",
      "\tAROUSAL-s32-DCAU|Acc=0.6875|10-CV=0.67833|STD=0.01354|Time spend=0.36747026443481445\n",
      "AROUSAL-DASM|Acc=0.6782552083333335|10-CV=0.6584375|STD=0.01517670763150638\n",
      "AROUSAL-RASM|Acc=0.6538411458333334|10-CV=0.6445833333333333|STD=0.006088262360286723\n",
      "AROUSAL-DCAU|Acc=0.68125|10-CV=0.6582291666666669|STD=0.014285727807558808\n",
      "\tVALENCE-s01-DASM|Acc=0.56875|10-CV=0.51833|STD=0.03629|Time spend=0.32149577140808105\n",
      "\tVALENCE-s01-RASM|Acc=0.53333|10-CV=0.51833|STD=0.00624|Time spend=0.363750696182251\n",
      "\tVALENCE-s01-DCAU|Acc=0.6|10-CV=0.545|STD=0.03253|Time spend=0.404238224029541\n",
      "\tVALENCE-s02-DASM|Acc=0.68125|10-CV=0.64417|STD=0.03052|Time spend=0.332930326461792\n",
      "\tVALENCE-s02-RASM|Acc=0.55208|10-CV=0.54833|STD=0.00333|Time spend=0.3761100769042969\n",
      "\tVALENCE-s02-DCAU|Acc=0.70208|10-CV=0.685|STD=0.02708|Time spend=0.41859889030456543\n",
      "\tVALENCE-s03-DASM|Acc=0.60625|10-CV=0.57833|STD=0.01871|Time spend=0.3138730525970459\n",
      "\tVALENCE-s03-RASM|Acc=0.56042|10-CV=0.54667|STD=0.01546|Time spend=0.35035228729248047\n",
      "-----WARNING: Model s03 failed to learn: sum(ans)=480.0 sum(y)=264.0 len(y)=480\n",
      "\tVALENCE-s03-DCAU|Acc=0.55|10-CV=0.54667|STD=0.01404|Time spend=0.38584113121032715\n",
      "\tVALENCE-s04-DASM|Acc=0.66667|10-CV=0.64917|STD=0.02399|Time spend=0.36747312545776367\n",
      "\tVALENCE-s04-RASM|Acc=0.60625|10-CV=0.60583|STD=0.0175|Time spend=0.40587401390075684\n",
      "\tVALENCE-s04-DCAU|Acc=0.7|10-CV=0.67667|STD=0.03046|Time spend=0.4430406093597412\n",
      "\tVALENCE-s05-DASM|Acc=0.60208|10-CV=0.59833|STD=0.005|Time spend=0.3127734661102295\n",
      "\tVALENCE-s05-RASM|Acc=0.60208|10-CV=0.6|STD=0.0|Time spend=0.35707616806030273\n",
      "\tVALENCE-s05-DCAU|Acc=0.62292|10-CV=0.6|STD=0.01787|Time spend=0.3981962203979492\n",
      "-----WARNING: Model s06 failed to learn: sum(ans)=480.0 sum(y)=360.0 len(y)=480\n",
      "\tVALENCE-s06-DASM|Acc=0.75|10-CV=0.75|STD=0.0|Time spend=0.30481934547424316\n",
      "-----WARNING: Model s06 failed to learn: sum(ans)=480.0 sum(y)=360.0 len(y)=480\n",
      "\tVALENCE-s06-RASM|Acc=0.75|10-CV=0.75|STD=0.0|Time spend=0.3310685157775879\n",
      "-----WARNING: Model s06 failed to learn: sum(ans)=480.0 sum(y)=360.0 len(y)=480\n",
      "\tVALENCE-s06-DCAU|Acc=0.75|10-CV=0.75|STD=0.0|Time spend=0.3668217658996582\n",
      "-----WARNING: Model s07 failed to learn: sum(ans)=480.0 sum(y)=336.0 len(y)=480\n",
      "\tVALENCE-s07-DASM|Acc=0.7|10-CV=0.7|STD=0.0|Time spend=0.3159637451171875\n",
      "\tVALENCE-s07-RASM|Acc=0.70625|10-CV=0.7|STD=0.0|Time spend=0.35070085525512695\n",
      "-----WARNING: Model s07 failed to learn: sum(ans)=480.0 sum(y)=336.0 len(y)=480\n",
      "\tVALENCE-s07-DCAU|Acc=0.7|10-CV=0.7|STD=0.0|Time spend=0.38884806632995605\n",
      "\tVALENCE-s08-DASM|Acc=0.63958|10-CV=0.59667|STD=0.03274|Time spend=0.3152601718902588\n",
      "\tVALENCE-s08-RASM|Acc=0.57708|10-CV=0.55917|STD=0.00946|Time spend=0.3552694320678711\n",
      "\tVALENCE-s08-DCAU|Acc=0.675|10-CV=0.56333|STD=0.02303|Time spend=0.3949599266052246\n",
      "\tVALENCE-s09-DASM|Acc=0.71875|10-CV=0.71667|STD=0.02911|Time spend=0.30745577812194824\n",
      "\tVALENCE-s09-RASM|Acc=0.73125|10-CV=0.7075|STD=0.03301|Time spend=0.3462944030761719\n",
      "\tVALENCE-s09-DCAU|Acc=0.73542|10-CV=0.71833|STD=0.02708|Time spend=0.37943577766418457\n",
      "\tVALENCE-s10-DASM|Acc=0.75833|10-CV=0.72583|STD=0.03106|Time spend=0.2984130382537842\n",
      "\tVALENCE-s10-RASM|Acc=0.52083|10-CV=0.52417|STD=0.03952|Time spend=0.3393545150756836\n",
      "\tVALENCE-s10-DCAU|Acc=0.79375|10-CV=0.74333|STD=0.02577|Time spend=0.37308263778686523\n",
      "\tVALENCE-s11-DASM|Acc=0.60625|10-CV=0.5875|STD=0.01758|Time spend=0.32044243812561035\n",
      "\tVALENCE-s11-RASM|Acc=0.60417|10-CV=0.585|STD=0.02291|Time spend=0.35678625106811523\n",
      "\tVALENCE-s11-DCAU|Acc=0.63542|10-CV=0.57917|STD=0.01945|Time spend=0.3913915157318115\n",
      "\tVALENCE-s12-DASM|Acc=0.6625|10-CV=0.61583|STD=0.03343|Time spend=0.3264317512512207\n",
      "\tVALENCE-s12-RASM|Acc=0.53542|10-CV=0.52833|STD=0.00764|Time spend=0.3662910461425781\n",
      "\tVALENCE-s12-DCAU|Acc=0.6125|10-CV=0.58083|STD=0.03119|Time spend=0.4033536911010742\n",
      "\tVALENCE-s13-DASM|Acc=0.74375|10-CV=0.71417|STD=0.02714|Time spend=0.2995150089263916\n",
      "\tVALENCE-s13-RASM|Acc=0.57708|10-CV=0.57417|STD=0.0025|Time spend=0.3372623920440674\n",
      "\tVALENCE-s13-DCAU|Acc=0.76875|10-CV=0.75083|STD=0.03172|Time spend=0.3691742420196533\n",
      "\tVALENCE-s14-DASM|Acc=0.7|10-CV=0.67083|STD=0.03297|Time spend=0.31334590911865234\n",
      "\tVALENCE-s14-RASM|Acc=0.56875|10-CV=0.55167|STD=0.02321|Time spend=0.3549811840057373\n",
      "\tVALENCE-s14-DCAU|Acc=0.70625|10-CV=0.65833|STD=0.025|Time spend=0.3931405544281006\n",
      "\tVALENCE-s15-DASM|Acc=0.7625|10-CV=0.7225|STD=0.03633|Time spend=0.6009130477905273\n",
      "\tVALENCE-s15-RASM|Acc=0.50625|10-CV=0.4925|STD=0.00786|Time spend=0.6410927772521973\n",
      "\tVALENCE-s15-DCAU|Acc=0.74375|10-CV=0.70917|STD=0.02673|Time spend=0.6760740280151367\n",
      "\tVALENCE-s16-DASM|Acc=0.70833|10-CV=0.6875|STD=0.02507|Time spend=0.3226320743560791\n",
      "\tVALENCE-s16-RASM|Acc=0.63542|10-CV=0.62417|STD=0.0025|Time spend=0.365372896194458\n",
      "\tVALENCE-s16-DCAU|Acc=0.7|10-CV=0.69333|STD=0.02034|Time spend=0.3975343704223633\n",
      "\tVALENCE-s17-DASM|Acc=0.55417|10-CV=0.55|STD=0.00645|Time spend=0.29660582542419434\n",
      "\tVALENCE-s17-RASM|Acc=0.58333|10-CV=0.54833|STD=0.02|Time spend=0.33768153190612793\n",
      "\tVALENCE-s17-DCAU|Acc=0.55625|10-CV=0.55083|STD=0.01417|Time spend=0.3799927234649658\n",
      "\tVALENCE-s18-DASM|Acc=0.76042|10-CV=0.7175|STD=0.03772|Time spend=0.299560546875\n",
      "\tVALENCE-s18-RASM|Acc=0.60833|10-CV=0.6075|STD=0.01205|Time spend=0.34211063385009766\n",
      "\tVALENCE-s18-DCAU|Acc=0.76667|10-CV=0.735|STD=0.03704|Time spend=0.37627696990966797\n",
      "\tVALENCE-s19-DASM|Acc=0.6625|10-CV=0.605|STD=0.03253|Time spend=0.3010244369506836\n",
      "-----WARNING: Model s19 failed to learn: sum(ans)=480.0 sum(y)=276.0 len(y)=480\n",
      "\tVALENCE-s19-RASM|Acc=0.575|10-CV=0.57333|STD=0.00333|Time spend=0.3361072540283203\n",
      "\tVALENCE-s19-DCAU|Acc=0.67083|10-CV=0.585|STD=0.02167|Time spend=0.3723442554473877\n",
      "\tVALENCE-s20-DASM|Acc=0.72708|10-CV=0.67417|STD=0.04401|Time spend=0.2902085781097412\n",
      "\tVALENCE-s20-RASM|Acc=0.59792|10-CV=0.57417|STD=0.0188|Time spend=0.32797718048095703\n",
      "\tVALENCE-s20-DCAU|Acc=0.70208|10-CV=0.635|STD=0.03797|Time spend=0.36212968826293945\n",
      "\tVALENCE-s21-DASM|Acc=0.58542|10-CV=0.53833|STD=0.02769|Time spend=0.2977294921875\n",
      "\tVALENCE-s21-RASM|Acc=0.52708|10-CV=0.5225|STD=0.00534|Time spend=0.33798718452453613\n",
      "\tVALENCE-s21-DCAU|Acc=0.60417|10-CV=0.55917|STD=0.02399|Time spend=0.37537646293640137\n",
      "\tVALENCE-s22-DASM|Acc=0.59583|10-CV=0.5625|STD=0.02364|Time spend=0.3150601387023926\n",
      "\tVALENCE-s22-RASM|Acc=0.55208|10-CV=0.54917|STD=0.0025|Time spend=0.35283946990966797\n",
      "\tVALENCE-s22-DCAU|Acc=0.57917|10-CV=0.56667|STD=0.01344|Time spend=0.3913743495941162\n",
      "-----WARNING: Model s23 failed to learn: sum(ans)=480.0 sum(y)=312.0 len(y)=480\n",
      "\tVALENCE-s23-DASM|Acc=0.65|10-CV=0.65|STD=0.0|Time spend=0.3120255470275879\n",
      "\tVALENCE-s23-RASM|Acc=0.65208|10-CV=0.65|STD=0.0|Time spend=0.34830236434936523\n",
      "-----WARNING: Model s23 failed to learn: sum(ans)=480.0 sum(y)=312.0 len(y)=480\n",
      "\tVALENCE-s23-DCAU|Acc=0.65|10-CV=0.65|STD=0.0|Time spend=0.38465142250061035\n",
      "\tVALENCE-s24-DASM|Acc=0.61667|10-CV=0.56833|STD=0.01528|Time spend=0.3095402717590332\n",
      "\tVALENCE-s24-RASM|Acc=0.55417|10-CV=0.54833|STD=0.00333|Time spend=0.3510575294494629\n",
      "\tVALENCE-s24-DCAU|Acc=0.65833|10-CV=0.63|STD=0.01354|Time spend=0.3899977207183838\n",
      "\tVALENCE-s25-DASM|Acc=0.57083|10-CV=0.50583|STD=0.03229|Time spend=0.3151581287384033\n",
      "\tVALENCE-s25-RASM|Acc=0.52708|10-CV=0.525|STD=0.0|Time spend=0.3522984981536865\n",
      "\tVALENCE-s25-DCAU|Acc=0.56042|10-CV=0.49917|STD=0.03404|Time spend=0.3925015926361084\n",
      "-----WARNING: Model s26 failed to learn: sum(ans)=480.0 sum(y)=312.0 len(y)=480\n",
      "\tVALENCE-s26-DASM|Acc=0.65|10-CV=0.64917|STD=0.0025|Time spend=0.29657626152038574\n",
      "\tVALENCE-s26-RASM|Acc=0.65625|10-CV=0.65|STD=0.0|Time spend=0.33618760108947754\n",
      "\tVALENCE-s26-DCAU|Acc=0.65625|10-CV=0.64833|STD=0.00624|Time spend=0.37331438064575195\n",
      "-----WARNING: Model s27 failed to learn: sum(ans)=480.0 sum(y)=360.0 len(y)=480\n",
      "\tVALENCE-s27-DASM|Acc=0.75|10-CV=0.75|STD=0.0|Time spend=0.33133363723754883\n",
      "\tVALENCE-s27-RASM|Acc=0.75208|10-CV=0.75|STD=0.0|Time spend=0.36510396003723145\n",
      "-----WARNING: Model s27 failed to learn: sum(ans)=480.0 sum(y)=360.0 len(y)=480\n",
      "\tVALENCE-s27-DCAU|Acc=0.75|10-CV=0.75|STD=0.0|Time spend=0.40827417373657227\n",
      "-----WARNING: Model s28 failed to learn: sum(ans)=480.0 sum(y)=300.0 len(y)=480\n",
      "\tVALENCE-s28-DASM|Acc=0.625|10-CV=0.625|STD=0.0|Time spend=0.3195493221282959\n",
      "\tVALENCE-s28-RASM|Acc=0.6375|10-CV=0.61417|STD=0.01397|Time spend=0.35999441146850586\n",
      "-----WARNING: Model s28 failed to learn: sum(ans)=480.0 sum(y)=300.0 len(y)=480\n",
      "\tVALENCE-s28-DCAU|Acc=0.625|10-CV=0.625|STD=0.0|Time spend=0.4005706310272217\n",
      "\tVALENCE-s29-DASM|Acc=0.65417|10-CV=0.6275|STD=0.02358|Time spend=0.2945535182952881\n",
      "\tVALENCE-s29-RASM|Acc=0.57917|10-CV=0.56917|STD=0.0099|Time spend=0.33277249336242676\n",
      "\tVALENCE-s29-DCAU|Acc=0.67708|10-CV=0.60083|STD=0.02155|Time spend=0.3674328327178955\n",
      "-----WARNING: Model s30 failed to learn: sum(ans)=480.0 sum(y)=324.0 len(y)=480\n",
      "\tVALENCE-s30-DASM|Acc=0.675|10-CV=0.675|STD=0.0|Time spend=0.31597137451171875\n",
      "\tVALENCE-s30-RASM|Acc=0.68333|10-CV=0.675|STD=0.0|Time spend=0.35296082496643066\n",
      "-----WARNING: Model s30 failed to learn: sum(ans)=480.0 sum(y)=324.0 len(y)=480\n",
      "\tVALENCE-s30-DCAU|Acc=0.675|10-CV=0.675|STD=0.0|Time spend=0.38956737518310547\n",
      "\tVALENCE-s31-DASM|Acc=0.62917|10-CV=0.59417|STD=0.01057|Time spend=0.3131389617919922\n",
      "\tVALENCE-s31-RASM|Acc=0.58542|10-CV=0.57417|STD=0.0025|Time spend=0.3512763977050781\n",
      "\tVALENCE-s31-DCAU|Acc=0.59167|10-CV=0.58083|STD=0.00917|Time spend=0.386394739151001\n",
      "\tVALENCE-s32-DASM|Acc=0.64792|10-CV=0.62583|STD=0.02311|Time spend=0.29883742332458496\n",
      "\tVALENCE-s32-RASM|Acc=0.51667|10-CV=0.50583|STD=0.01789|Time spend=0.33550453186035156\n",
      "\tVALENCE-s32-DCAU|Acc=0.63542|10-CV=0.6225|STD=0.01669|Time spend=0.3691258430480957\n",
      "VALENCE-DASM|Acc=0.6634114583333331|10-CV=0.6373177083333333|STD=0.020603526850926732\n",
      "VALENCE-RASM|Acc=0.5985677083333333|10-CV=0.5891406250000001|STD=0.009398522168772369\n",
      "VALENCE-DCAU|Acc=0.6673177083333334|10-CV=0.6379166666666668|STD=0.01880679384111284\n",
      "TOTAL-DASM|Acc=0.6708333333333334|10-CV=0.6478776041666665|STD=0.017890117241216554\n",
      "TOTAL-RASM|Acc=0.6262044270833333|10-CV=0.6168619791666666|STD=0.007743392264529543\n",
      "TOTAL-DCAU|Acc=0.6742838541666667|10-CV=0.6480729166666669|STD=0.01654626082433583\n"
     ]
    }
   ],
   "source": [
    "bands = [(0,4), (4,8), (8,12), (12,30), (30,64)]\n",
    "# [alias_feature_function]__[optional_param]\n",
    "params = dict({\n",
    "    'pow_freq_bands__log':True,\n",
    "    'pow_freq_bands__normalize':False,\n",
    "    'pow_freq_bands__freq_bands':bands\n",
    "})\n",
    "\n",
    "accs,cv_means,cv_stds  = {'DASM':[],'RASM':[],'DCAU':[]},{'DASM':[],'RASM':[],'DCAU':[]},{'DASM':[],'RASM':[],'DCAU':[]}\n",
    "# count = 0\n",
    "for filename in dataset.get_file_list():\n",
    "    start = time.time()\n",
    "    data, labels, groups = dataset.get_data(filename, stimuli=Dataset_subjectDependent.STIMULI_AROUSAL, return_type='numpy')\n",
    "    fe = FeatureExtractor(sfreq=128, selected_funcs=['pow_freq_bands'],params=params,n_jobs=8)\n",
    "    X = fe.fit_transform(X=data)\n",
    "\n",
    "    PSD_left = X[:, left_channel_indexes].copy()\n",
    "    PSD_right = X[:, right_channel_indexes].copy()\n",
    "    PSD_frontal = X[:, frontal_channel_indexes].copy()\n",
    "    PSD_posterior = X[:, posterior_channel_indexes].copy()\n",
    "    X = {\n",
    "        'DASM': PSD_left - PSD_right,\n",
    "        'RASM': PSD_left / PSD_right,\n",
    "        'DCAU': PSD_frontal - PSD_posterior,\n",
    "    }\n",
    "\n",
    "    for feature_name in ['DASM','RASM','DCAU']:\n",
    "        _, acc, cross = train_model(X[feature_name], labels.reshape(-1), groups, filename=filename)\n",
    "        print(f\"\\tAROUSAL-{filename}-{feature_name}|Acc={round(acc,5)}|10-CV={round(cross.mean(),5)}|STD={round(cross.std(),5)}|Time spend={time.time() - start}\")\n",
    "        accs[feature_name].append(acc)\n",
    "        cv_means[feature_name].append(cross.mean())\n",
    "        cv_stds[feature_name].append(cross.std())\n",
    "    # count+=1\n",
    "    # if(count == 3): break\n",
    "for feature_name in ['DASM','RASM','DCAU']:\n",
    "    print(f\"AROUSAL-{feature_name}|Acc={sum(accs[feature_name])/len(accs[feature_name])}|10-CV={sum(cv_means[feature_name])/len(cv_means[feature_name])}|STD={sum(cv_stds[feature_name])/len(cv_stds[feature_name])}\")\n",
    "\n",
    "accs_v,cv_means_v,cv_stds_v  = {'DASM':[],'RASM':[],'DCAU':[]},{'DASM':[],'RASM':[],'DCAU':[]},{'DASM':[],'RASM':[],'DCAU':[]}\n",
    "# count=0\n",
    "for filename in dataset.get_file_list():\n",
    "    start = time.time()\n",
    "    data, labels, groups = dataset.get_data(filename, stimuli=Dataset_subjectDependent.STIMULI_VALENCE, return_type='numpy')\n",
    "    fe = FeatureExtractor(sfreq=128, selected_funcs=['pow_freq_bands'],params=params,n_jobs=8)\n",
    "    X = fe.fit_transform(X=data)\n",
    "\n",
    "    PSD_left = X[:, left_channel_indexes].copy()\n",
    "    PSD_right = X[:, right_channel_indexes].copy()\n",
    "    PSD_frontal = X[:, frontal_channel_indexes].copy()\n",
    "    PSD_posterior = X[:, posterior_channel_indexes].copy()\n",
    "    X = {\n",
    "        'DASM': PSD_left - PSD_right,\n",
    "        'RASM': PSD_left / PSD_right,\n",
    "        'DCAU': PSD_frontal - PSD_posterior,\n",
    "    }\n",
    "\n",
    "    for feature_name in ['DASM','RASM','DCAU']:\n",
    "        _, acc, cross = train_model(X[feature_name], labels.reshape(-1), groups, filename=filename)\n",
    "        print(f\"\\tVALENCE-{filename}-{feature_name}|Acc={round(acc,5)}|10-CV={round(cross.mean(),5)}|STD={round(cross.std(),5)}|Time spend={time.time() - start}\")\n",
    "        accs_v[feature_name].append(acc)\n",
    "        cv_means_v[feature_name].append(cross.mean())\n",
    "        cv_stds_v[feature_name].append(cross.std())\n",
    "    # count+=1\n",
    "    # if(count == 3): break\n",
    "for feature_name in ['DASM','RASM','DCAU']:\n",
    "    print(f\"VALENCE-{feature_name}|Acc={sum(accs_v[feature_name])/len(accs_v[feature_name])}|10-CV={sum(cv_means_v[feature_name])/len(cv_means_v[feature_name])}|STD={sum(cv_stds_v[feature_name])/len(cv_stds_v[feature_name])}\")\n",
    "\n",
    "for feature_name in ['DASM','RASM','DCAU']:\n",
    "    accs[feature_name].extend(accs_v[feature_name])\n",
    "    cv_means[feature_name].extend(cv_means_v[feature_name])\n",
    "    cv_stds[feature_name].extend(cv_stds_v[feature_name])\n",
    "    print(f\"TOTAL-{feature_name}|Acc={sum(accs[feature_name])/len(accs[feature_name])}|10-CV={sum(cv_means[feature_name])/len(cv_means[feature_name])}|STD={sum(cv_stds[feature_name])/len(cv_stds[feature_name])}\")"
   ]
  },
  {
   "cell_type": "markdown",
   "metadata": {},
   "source": [
    "## 4. Connectivity\n",
    "\n",
    "### 4.1 $ \\text{PCC}_{\\text{time}}(i,j) = \\frac{\\text{Cov}[\\mathbf{X}_i, \\mathbf{X}_j]}{\\sigma_{\\mathbf{X}_i} \\sigma_{\\mathbf{X}_j}} $"
   ]
  },
  {
   "cell_type": "code",
   "execution_count": 7,
   "metadata": {},
   "outputs": [],
   "source": [
    "\n",
    "def pearson_correlation(x,y):\n",
    "    \"\"\" x,y denoted the signal_x and signal_y following the equation \"\"\"\n",
    "    cov = np.cov(x, y)\n",
    "    # print(cov)\n",
    "    # [[ 8806859.74527069  8007149.0906219 ] ==> [[cov_xx, cov_xy]\n",
    "    # [ 8007149.0906219  10396797.72458848]]      [cov_yx, cov_yy]]\n",
    "    cov_xy = cov[0,1] # or cov[1,0]\n",
    "    cov_xx = cov[0,0]\n",
    "    cov_yy = cov[1,1]\n",
    "    corr = cov_xy / ( cov_xx**0.5 * cov_yy**0.5  )\n",
    "    return corr\n",
    "\n",
    "def _cal(p_id, partial_data):\n",
    "    # print(f\"p_id:{p_id} - data to run {partial_data.shape}\")\n",
    "    from itertools import combinations\n",
    "    pcc = []\n",
    "    for index in range(partial_data.shape[0]):\n",
    "        pcc_epoch = []\n",
    "        for comb in combinations(list(range(partial_data.shape[1])), 2):\n",
    "            pcc_ab = pearson_correlation(partial_data[index, comb[0], :], partial_data[index, comb[1], :]   )\n",
    "            pcc_epoch.append(pcc_ab)\n",
    "        pcc_epoch = np.hstack(pcc_epoch)\n",
    "        pcc.append(pcc_epoch)\n",
    "    pcc = np.vstack(pcc)\n",
    "    return pcc\n",
    "\n",
    "def calculate_pcc(data, n_jobs=8):\n",
    "    \"\"\" \n",
    "    Input: Expect data to have (n_epochs, n_channels, n_samples)\n",
    "    Output: (n_epochs, n_conn ) => n_conn = n_channels!/(2!(n_channels-2)!)\n",
    "    \"\"\"\n",
    "    from multiprocessing import Pool\n",
    "\n",
    "    try:\n",
    "        t_out = 60000\n",
    "        pool = Pool()\n",
    "        p_list = []\n",
    "        ans_list = []\n",
    "        num_p = n_jobs\n",
    "        indices = np.array_split(np.arange(data.shape[0]), num_p)\n",
    "        for p_id in range(num_p):\n",
    "            p_list.append(pool.apply_async(_cal, [p_id, data[indices[p_id]] ]))\n",
    "        for p_id in range(num_p):\n",
    "            ans_list.append( p_list[p_id].get(timeout=t_out) )\n",
    "        # ans_list\n",
    "    except Exception as e:\n",
    "        print(e)\n",
    "    finally:\n",
    "        print(\"========= close ========\")\n",
    "        pool.close() \n",
    "        pool.terminate()\n",
    "    return np.vstack(ans_list)"
   ]
  },
  {
   "cell_type": "code",
   "execution_count": 8,
   "metadata": {},
   "outputs": [
    {
     "data": {
      "application/vnd.jupyter.widget-view+json": {
       "model_id": "766ec3bd9f18478a948528c9aca10410",
       "version_major": 2,
       "version_minor": 0
      },
      "text/plain": [
       "  0%|          | 0/32 [00:00<?, ?it/s]"
      ]
     },
     "metadata": {},
     "output_type": "display_data"
    },
    {
     "name": "stdout",
     "output_type": "stream",
     "text": [
      "Fitted sphere radius:         95.3 mm\n",
      "Origin head coordinates:      -0.8 15.1 45.3 mm\n",
      "Origin device coordinates:    -0.8 15.1 45.3 mm\n",
      "========= close ========\n",
      "\tAROUSAL-s01|Acc=0.70625|10-CV=0.63083|STD=0.02142|Time spend=2.7023706436157227\n",
      "\tVALENCE-s01|Acc=0.63958|10-CV=0.56|STD=0.02734|Time spend=3.0101306438446045\n",
      "Fitted sphere radius:         95.3 mm\n",
      "Origin head coordinates:      -0.8 15.1 45.3 mm\n",
      "Origin device coordinates:    -0.8 15.1 45.3 mm\n",
      "========= close ========\n",
      "\tAROUSAL-s02|Acc=0.6|10-CV=0.6|STD=0.0|Time spend=2.429328441619873\n",
      "\tVALENCE-s02|Acc=0.58333|10-CV=0.56167|STD=0.02614|Time spend=2.7316009998321533\n",
      "Fitted sphere radius:         95.3 mm\n",
      "Origin head coordinates:      -0.8 15.1 45.3 mm\n",
      "Origin device coordinates:    -0.8 15.1 45.3 mm\n",
      "========= close ========\n",
      "\tAROUSAL-s03|Acc=0.8|10-CV=0.8|STD=0.0|Time spend=2.4666967391967773\n",
      "\tVALENCE-s03|Acc=0.55|10-CV=0.55|STD=0.0|Time spend=2.7770159244537354\n",
      "Fitted sphere radius:         95.3 mm\n",
      "Origin head coordinates:      -0.8 15.1 45.3 mm\n",
      "Origin device coordinates:    -0.8 15.1 45.3 mm\n",
      "========= close ========\n",
      "\tAROUSAL-s04|Acc=0.6|10-CV=0.6|STD=0.0|Time spend=2.401986837387085\n",
      "\tVALENCE-s04|Acc=0.6|10-CV=0.6|STD=0.0|Time spend=2.6966781616210938\n",
      "Fitted sphere radius:         95.3 mm\n",
      "Origin head coordinates:      -0.8 15.1 45.3 mm\n",
      "Origin device coordinates:    -0.8 15.1 45.3 mm\n",
      "========= close ========\n",
      "\tAROUSAL-s05|Acc=0.55833|10-CV=0.5275|STD=0.0175|Time spend=2.57735276222229\n",
      "\tVALENCE-s05|Acc=0.6|10-CV=0.6|STD=0.0|Time spend=2.880280017852783\n",
      "Fitted sphere radius:         95.3 mm\n",
      "Origin head coordinates:      -0.8 15.1 45.3 mm\n",
      "Origin device coordinates:    -0.8 15.1 45.3 mm\n",
      "========= close ========\n",
      "\tAROUSAL-s06|Acc=0.58542|10-CV=0.58167|STD=0.01965|Time spend=2.5415165424346924\n",
      "\tVALENCE-s06|Acc=0.75|10-CV=0.75|STD=0.0|Time spend=2.804563045501709\n",
      "Fitted sphere radius:         95.3 mm\n",
      "Origin head coordinates:      -0.8 15.1 45.3 mm\n",
      "Origin device coordinates:    -0.8 15.1 45.3 mm\n",
      "========= close ========\n",
      "\tAROUSAL-s07|Acc=0.65833|10-CV=0.6425|STD=0.01083|Time spend=2.5041558742523193\n",
      "\tVALENCE-s07|Acc=0.7|10-CV=0.7|STD=0.0|Time spend=2.7711055278778076\n",
      "Fitted sphere radius:         95.3 mm\n",
      "Origin head coordinates:      -0.8 15.1 45.3 mm\n",
      "Origin device coordinates:    -0.8 15.1 45.3 mm\n",
      "========= close ========\n",
      "\tAROUSAL-s08|Acc=0.58125|10-CV=0.57333|STD=0.00624|Time spend=2.5192182064056396\n",
      "\tVALENCE-s08|Acc=0.6375|10-CV=0.62167|STD=0.04613|Time spend=2.816293716430664\n",
      "Fitted sphere radius:         95.3 mm\n",
      "Origin head coordinates:      -0.8 15.1 45.3 mm\n",
      "Origin device coordinates:    -0.8 15.1 45.3 mm\n",
      "========= close ========\n",
      "\tAROUSAL-s09|Acc=0.6|10-CV=0.6|STD=0.0|Time spend=2.8040435314178467\n",
      "\tVALENCE-s09|Acc=0.66042|10-CV=0.65083|STD=0.04207|Time spend=3.1109774112701416\n",
      "Fitted sphere radius:         95.3 mm\n",
      "Origin head coordinates:      -0.8 15.1 45.3 mm\n",
      "Origin device coordinates:    -0.8 15.1 45.3 mm\n",
      "========= close ========\n",
      "\tAROUSAL-s10|Acc=0.57292|10-CV=0.54667|STD=0.03253|Time spend=2.6975462436676025\n",
      "\tVALENCE-s10|Acc=0.75208|10-CV=0.69667|STD=0.04381|Time spend=3.0071983337402344\n",
      "Fitted sphere radius:         95.3 mm\n",
      "Origin head coordinates:      -0.8 15.1 45.3 mm\n",
      "Origin device coordinates:    -0.8 15.1 45.3 mm\n",
      "========= close ========\n",
      "\tAROUSAL-s11|Acc=0.625|10-CV=0.625|STD=0.0|Time spend=2.8890445232391357\n",
      "\tVALENCE-s11|Acc=0.60833|10-CV=0.60417|STD=0.00417|Time spend=3.207699775695801\n",
      "Fitted sphere radius:         95.3 mm\n",
      "Origin head coordinates:      -0.8 15.1 45.3 mm\n",
      "Origin device coordinates:    -0.8 15.1 45.3 mm\n",
      "========= close ========\n",
      "\tAROUSAL-s12|Acc=0.825|10-CV=0.825|STD=0.0|Time spend=2.626885414123535\n",
      "\tVALENCE-s12|Acc=0.62708|10-CV=0.61667|STD=0.04314|Time spend=2.9394338130950928\n",
      "Fitted sphere radius:         95.3 mm\n",
      "Origin head coordinates:      -0.8 15.1 45.3 mm\n",
      "Origin device coordinates:    -0.8 15.1 45.3 mm\n",
      "========= close ========\n",
      "\tAROUSAL-s13|Acc=0.85|10-CV=0.85|STD=0.0|Time spend=2.4391701221466064\n",
      "\tVALENCE-s13|Acc=0.70625|10-CV=0.705|STD=0.04|Time spend=2.7318010330200195\n",
      "Fitted sphere radius:         95.3 mm\n",
      "Origin head coordinates:      -0.8 15.1 45.3 mm\n",
      "Origin device coordinates:    -0.8 15.1 45.3 mm\n",
      "========= close ========\n",
      "\tAROUSAL-s14|Acc=0.675|10-CV=0.675|STD=0.0|Time spend=2.654294967651367\n",
      "\tVALENCE-s14|Acc=0.66042|10-CV=0.61833|STD=0.04438|Time spend=2.9840853214263916\n",
      "Fitted sphere radius:         95.3 mm\n",
      "Origin head coordinates:      -0.8 15.1 45.3 mm\n",
      "Origin device coordinates:    -0.8 15.1 45.3 mm\n",
      "========= close ========\n",
      "\tAROUSAL-s15|Acc=0.59375|10-CV=0.55417|STD=0.02213|Time spend=2.601865291595459\n",
      "\tVALENCE-s15|Acc=0.74167|10-CV=0.72417|STD=0.03343|Time spend=2.879619598388672\n",
      "Fitted sphere radius:         95.3 mm\n",
      "Origin head coordinates:      -0.8 15.1 45.3 mm\n",
      "Origin device coordinates:    -0.8 15.1 45.3 mm\n",
      "========= close ========\n",
      "\tAROUSAL-s16|Acc=0.63958|10-CV=0.57167|STD=0.03358|Time spend=2.4629759788513184\n",
      "\tVALENCE-s16|Acc=0.66458|10-CV=0.64083|STD=0.01017|Time spend=2.7496049404144287\n",
      "Fitted sphere radius:         95.3 mm\n",
      "Origin head coordinates:      -0.8 15.1 45.3 mm\n",
      "Origin device coordinates:    -0.8 15.1 45.3 mm\n",
      "========= close ========\n",
      "\tAROUSAL-s17|Acc=0.61667|10-CV=0.6|STD=0.01118|Time spend=2.5555903911590576\n",
      "\tVALENCE-s17|Acc=0.55|10-CV=0.55|STD=0.0|Time spend=2.8807170391082764\n",
      "Fitted sphere radius:         95.3 mm\n",
      "Origin head coordinates:      -0.8 15.1 45.3 mm\n",
      "Origin device coordinates:    -0.8 15.1 45.3 mm\n",
      "========= close ========\n",
      "\tAROUSAL-s18|Acc=0.625|10-CV=0.625|STD=0.0|Time spend=2.4943690299987793\n",
      "\tVALENCE-s18|Acc=0.725|10-CV=0.715|STD=0.03571|Time spend=2.7965145111083984\n",
      "Fitted sphere radius:         95.3 mm\n",
      "Origin head coordinates:      -0.8 15.1 45.3 mm\n",
      "Origin device coordinates:    -0.8 15.1 45.3 mm\n",
      "========= close ========\n",
      "\tAROUSAL-s19|Acc=0.67708|10-CV=0.67417|STD=0.0025|Time spend=2.522472620010376\n",
      "\tVALENCE-s19|Acc=0.66667|10-CV=0.63583|STD=0.01239|Time spend=2.826612949371338\n",
      "Fitted sphere radius:         95.3 mm\n",
      "Origin head coordinates:      -0.8 15.1 45.3 mm\n",
      "Origin device coordinates:    -0.8 15.1 45.3 mm\n",
      "========= close ========\n",
      "\tAROUSAL-s20|Acc=0.775|10-CV=0.775|STD=0.0|Time spend=2.8066368103027344\n",
      "\tVALENCE-s20|Acc=0.69167|10-CV=0.67167|STD=0.04252|Time spend=3.106456756591797\n",
      "Fitted sphere radius:         95.3 mm\n",
      "Origin head coordinates:      -0.8 15.1 45.3 mm\n",
      "Origin device coordinates:    -0.8 15.1 45.3 mm\n",
      "========= close ========\n",
      "\tAROUSAL-s21|Acc=0.8|10-CV=0.8|STD=0.0|Time spend=2.5407238006591797\n",
      "\tVALENCE-s21|Acc=0.525|10-CV=0.51833|STD=0.02|Time spend=2.8652291297912598\n",
      "Fitted sphere radius:         95.3 mm\n",
      "Origin head coordinates:      -0.8 15.1 45.3 mm\n",
      "Origin device coordinates:    -0.8 15.1 45.3 mm\n",
      "========= close ========\n",
      "\tAROUSAL-s22|Acc=0.6|10-CV=0.6|STD=0.0|Time spend=2.4748363494873047\n",
      "\tVALENCE-s22|Acc=0.59792|10-CV=0.58667|STD=0.02082|Time spend=2.7783141136169434\n",
      "Fitted sphere radius:         95.3 mm\n",
      "Origin head coordinates:      -0.8 15.1 45.3 mm\n",
      "Origin device coordinates:    -0.8 15.1 45.3 mm\n",
      "========= close ========\n",
      "\tAROUSAL-s23|Acc=0.75|10-CV=0.75|STD=0.0|Time spend=2.3153445720672607\n",
      "\tVALENCE-s23|Acc=0.65|10-CV=0.65|STD=0.0|Time spend=2.622913360595703\n",
      "Fitted sphere radius:         95.3 mm\n",
      "Origin head coordinates:      -0.8 15.1 45.3 mm\n",
      "Origin device coordinates:    -0.8 15.1 45.3 mm\n",
      "========= close ========\n",
      "\tAROUSAL-s24|Acc=0.825|10-CV=0.825|STD=0.0|Time spend=2.624526262283325\n",
      "\tVALENCE-s24|Acc=0.59375|10-CV=0.57|STD=0.031|Time spend=2.9421451091766357\n",
      "Fitted sphere radius:         95.3 mm\n",
      "Origin head coordinates:      -0.8 15.1 45.3 mm\n",
      "Origin device coordinates:    -0.8 15.1 45.3 mm\n",
      "========= close ========\n",
      "\tAROUSAL-s25|Acc=0.725|10-CV=0.725|STD=0.0|Time spend=2.5219104290008545\n",
      "\tVALENCE-s25|Acc=0.52083|10-CV=0.5225|STD=0.01446|Time spend=2.8446502685546875\n",
      "Fitted sphere radius:         95.3 mm\n",
      "Origin head coordinates:      -0.8 15.1 45.3 mm\n",
      "Origin device coordinates:    -0.8 15.1 45.3 mm\n",
      "========= close ========\n",
      "\tAROUSAL-s26|Acc=0.6125|10-CV=0.59333|STD=0.02068|Time spend=2.4200069904327393\n",
      "\tVALENCE-s26|Acc=0.65|10-CV=0.65|STD=0.0|Time spend=2.7120096683502197\n",
      "Fitted sphere radius:         95.3 mm\n",
      "Origin head coordinates:      -0.8 15.1 45.3 mm\n",
      "Origin device coordinates:    -0.8 15.1 45.3 mm\n",
      "========= close ========\n",
      "\tAROUSAL-s27|Acc=0.70625|10-CV=0.69333|STD=0.01167|Time spend=2.4493985176086426\n",
      "\tVALENCE-s27|Acc=0.75|10-CV=0.75|STD=0.0|Time spend=2.7090067863464355\n",
      "Fitted sphere radius:         95.3 mm\n",
      "Origin head coordinates:      -0.8 15.1 45.3 mm\n",
      "Origin device coordinates:    -0.8 15.1 45.3 mm\n",
      "========= close ========\n",
      "\tAROUSAL-s28|Acc=0.56875|10-CV=0.55583|STD=0.00917|Time spend=2.5181524753570557\n",
      "\tVALENCE-s28|Acc=0.625|10-CV=0.625|STD=0.0|Time spend=2.8220267295837402\n",
      "Fitted sphere radius:         95.3 mm\n",
      "Origin head coordinates:      -0.8 15.1 45.3 mm\n",
      "Origin device coordinates:    -0.8 15.1 45.3 mm\n",
      "========= close ========\n",
      "\tAROUSAL-s29|Acc=0.625|10-CV=0.625|STD=0.0|Time spend=2.711582660675049\n",
      "\tVALENCE-s29|Acc=0.65833|10-CV=0.65083|STD=0.02341|Time spend=3.0037760734558105\n",
      "Fitted sphere radius:         95.3 mm\n",
      "Origin head coordinates:      -0.8 15.1 45.3 mm\n",
      "Origin device coordinates:    -0.8 15.1 45.3 mm\n",
      "========= close ========\n",
      "\tAROUSAL-s30|Acc=0.59583|10-CV=0.55333|STD=0.0342|Time spend=2.657012701034546\n",
      "\tVALENCE-s30|Acc=0.675|10-CV=0.675|STD=0.0|Time spend=2.948408842086792\n",
      "Fitted sphere radius:         95.3 mm\n",
      "Origin head coordinates:      -0.8 15.1 45.3 mm\n",
      "Origin device coordinates:    -0.8 15.1 45.3 mm\n",
      "========= close ========\n",
      "\tAROUSAL-s31|Acc=0.67292|10-CV=0.59|STD=0.03629|Time spend=2.4581120014190674\n",
      "\tVALENCE-s31|Acc=0.575|10-CV=0.57583|STD=0.00449|Time spend=2.757101058959961\n",
      "Fitted sphere radius:         95.3 mm\n",
      "Origin head coordinates:      -0.8 15.1 45.3 mm\n",
      "Origin device coordinates:    -0.8 15.1 45.3 mm\n",
      "========= close ========\n",
      "\tAROUSAL-s32|Acc=0.675|10-CV=0.675|STD=0.0|Time spend=2.542144298553467\n",
      "\tVALENCE-s32|Acc=0.64583|10-CV=0.63667|STD=0.0159|Time spend=2.8418192863464355\n",
      "AROUSAL|Acc=0.6662760416666669|10-CV=0.6519791666666667|STD=0.009048892074409572\n",
      "VALENCE|Acc=0.6431640624999999|10-CV=0.6307291666666667|STD=0.018170738400591097\n"
     ]
    }
   ],
   "source": [
    "accs, cv_means, cv_stds = [],[],[]\n",
    "accs_v, cv_means_v, cv_stds_v = [],[],[]\n",
    "reports = []\n",
    "for filename in (pbar := tqdm(dataset.get_file_list())):\n",
    "    start = time.time()\n",
    "    pbar.set_description(filename)\n",
    "    data, labels, groups = dataset.get_data(filename, stimuli=Dataset_subjectDependent.STIMULI_AROUSAL, return_type='mne', sfreq=128)\n",
    "    data_csd = mne.preprocessing.compute_current_source_density(data)\n",
    "    pcc = calculate_pcc(data_csd.get_data())\n",
    "    _,acc,cross,train_report = train_model(pcc, labels.squeeze(), groups, filename=filename, return_text=True)\n",
    "    report = f\"\\tAROUSAL-{filename}|Acc={round(acc,5)}|10-CV={round(cross.mean(),5)}|STD={round(cross.std(),5)}|Time spend={time.time() - start}\"\n",
    "    print(report)\n",
    "    reports.append(report)\n",
    "    reports.append(train_report)\n",
    "    accs.append(acc)\n",
    "    cv_means.append(cross.mean())\n",
    "    cv_stds.append(cross.std())\n",
    "\n",
    "    _, labels_v, groups_v = dataset.get_data(filename, stimuli=Dataset_subjectDependent.STIMULI_VALENCE, return_type='mne', sfreq=128)\n",
    "    _,acc,cross,train_report = train_model(pcc, labels_v.squeeze(), groups_v, filename=filename, return_text=True)\n",
    "    report = f\"\\tVALENCE-{filename}|Acc={round(acc,5)}|10-CV={round(cross.mean(),5)}|STD={round(cross.std(),5)}|Time spend={time.time() - start}\"\n",
    "    print(report)\n",
    "    reports.append(report)\n",
    "    reports.append(train_report)\n",
    "    accs_v.append(acc)\n",
    "    cv_means_v.append(cross.mean())\n",
    "    cv_stds_v.append(cross.std())\n",
    "    # break\n",
    "    # count+=1\n",
    "    # if(count == 5): break\n",
    "report = f\"AROUSAL|Acc={sum(accs)/len(accs)}|10-CV={sum(cv_means)/len(cv_means)}|STD={sum(cv_stds)/len(cv_stds)}\"\n",
    "print(report)\n",
    "reports.append(report)\n",
    "report = f\"VALENCE|Acc={sum(accs_v)/len(accs_v)}|10-CV={sum(cv_means_v)/len(cv_means_v)}|STD={sum(cv_stds_v)/len(cv_stds_v)}\"\n",
    "print(report)\n",
    "reports.append(report)"
   ]
  },
  {
   "cell_type": "code",
   "execution_count": 9,
   "metadata": {},
   "outputs": [
    {
     "name": "stdout",
     "output_type": "stream",
     "text": [
      "\tAROUSAL-s01|Acc=0.70625|10-CV=0.63083|STD=0.02142|Time spend=2.7023706436157227\n",
      "\tVALENCE-s01|Acc=0.63958|10-CV=0.56|STD=0.02734|Time spend=3.0101306438446045\n",
      "\tAROUSAL-s02|Acc=0.6|10-CV=0.6|STD=0.0|Time spend=2.429328441619873\n",
      "-----WARNING: Model s02 failed to learn: sum(ans)=480.0 sum(y)=288.0 len(y)=480\n",
      "\tVALENCE-s02|Acc=0.58333|10-CV=0.56167|STD=0.02614|Time spend=2.7316009998321533\n",
      "\tAROUSAL-s03|Acc=0.8|10-CV=0.8|STD=0.0|Time spend=2.4666967391967773\n",
      "-----WARNING: Model s03 failed to learn: sum(ans)=0.0 sum(y)=96.0 len(y)=480\n",
      "\tVALENCE-s03|Acc=0.55|10-CV=0.55|STD=0.0|Time spend=2.7770159244537354\n",
      "-----WARNING: Model s03 failed to learn: sum(ans)=480.0 sum(y)=264.0 len(y)=480\n",
      "\tAROUSAL-s04|Acc=0.6|10-CV=0.6|STD=0.0|Time spend=2.401986837387085\n",
      "-----WARNING: Model s04 failed to learn: sum(ans)=0.0 sum(y)=192.0 len(y)=480\n",
      "\tVALENCE-s04|Acc=0.6|10-CV=0.6|STD=0.0|Time spend=2.6966781616210938\n",
      "-----WARNING: Model s04 failed to learn: sum(ans)=0.0 sum(y)=192.0 len(y)=480\n",
      "\tAROUSAL-s05|Acc=0.55833|10-CV=0.5275|STD=0.0175|Time spend=2.57735276222229\n",
      "\tVALENCE-s05|Acc=0.6|10-CV=0.6|STD=0.0|Time spend=2.880280017852783\n",
      "-----WARNING: Model s05 failed to learn: sum(ans)=480.0 sum(y)=288.0 len(y)=480\n",
      "\tAROUSAL-s06|Acc=0.58542|10-CV=0.58167|STD=0.01965|Time spend=2.5415165424346924\n",
      "\tVALENCE-s06|Acc=0.75|10-CV=0.75|STD=0.0|Time spend=2.804563045501709\n",
      "-----WARNING: Model s06 failed to learn: sum(ans)=480.0 sum(y)=360.0 len(y)=480\n",
      "\tAROUSAL-s07|Acc=0.65833|10-CV=0.6425|STD=0.01083|Time spend=2.5041558742523193\n",
      "\tVALENCE-s07|Acc=0.7|10-CV=0.7|STD=0.0|Time spend=2.7711055278778076\n",
      "-----WARNING: Model s07 failed to learn: sum(ans)=480.0 sum(y)=336.0 len(y)=480\n",
      "\tAROUSAL-s08|Acc=0.58125|10-CV=0.57333|STD=0.00624|Time spend=2.5192182064056396\n",
      "\tVALENCE-s08|Acc=0.6375|10-CV=0.62167|STD=0.04613|Time spend=2.816293716430664\n",
      "\tAROUSAL-s09|Acc=0.6|10-CV=0.6|STD=0.0|Time spend=2.8040435314178467\n",
      "-----WARNING: Model s09 failed to learn: sum(ans)=480.0 sum(y)=288.0 len(y)=480\n",
      "\tVALENCE-s09|Acc=0.66042|10-CV=0.65083|STD=0.04207|Time spend=3.1109774112701416\n",
      "\tAROUSAL-s10|Acc=0.57292|10-CV=0.54667|STD=0.03253|Time spend=2.6975462436676025\n",
      "\tVALENCE-s10|Acc=0.75208|10-CV=0.69667|STD=0.04381|Time spend=3.0071983337402344\n",
      "\tAROUSAL-s11|Acc=0.625|10-CV=0.625|STD=0.0|Time spend=2.8890445232391357\n",
      "-----WARNING: Model s11 failed to learn: sum(ans)=0.0 sum(y)=180.0 len(y)=480\n",
      "\tVALENCE-s11|Acc=0.60833|10-CV=0.60417|STD=0.00417|Time spend=3.207699775695801\n",
      "\tAROUSAL-s12|Acc=0.825|10-CV=0.825|STD=0.0|Time spend=2.626885414123535\n",
      "-----WARNING: Model s12 failed to learn: sum(ans)=480.0 sum(y)=396.0 len(y)=480\n",
      "\tVALENCE-s12|Acc=0.62708|10-CV=0.61667|STD=0.04314|Time spend=2.9394338130950928\n",
      "\tAROUSAL-s13|Acc=0.85|10-CV=0.85|STD=0.0|Time spend=2.4391701221466064\n",
      "-----WARNING: Model s13 failed to learn: sum(ans)=480.0 sum(y)=408.0 len(y)=480\n",
      "\tVALENCE-s13|Acc=0.70625|10-CV=0.705|STD=0.04|Time spend=2.7318010330200195\n",
      "\tAROUSAL-s14|Acc=0.675|10-CV=0.675|STD=0.0|Time spend=2.654294967651367\n",
      "-----WARNING: Model s14 failed to learn: sum(ans)=480.0 sum(y)=324.0 len(y)=480\n",
      "\tVALENCE-s14|Acc=0.66042|10-CV=0.61833|STD=0.04438|Time spend=2.9840853214263916\n",
      "\tAROUSAL-s15|Acc=0.59375|10-CV=0.55417|STD=0.02213|Time spend=2.601865291595459\n",
      "\tVALENCE-s15|Acc=0.74167|10-CV=0.72417|STD=0.03343|Time spend=2.879619598388672\n",
      "\tAROUSAL-s16|Acc=0.63958|10-CV=0.57167|STD=0.03358|Time spend=2.4629759788513184\n",
      "\tVALENCE-s16|Acc=0.66458|10-CV=0.64083|STD=0.01017|Time spend=2.7496049404144287\n",
      "\tAROUSAL-s17|Acc=0.61667|10-CV=0.6|STD=0.01118|Time spend=2.5555903911590576\n",
      "\tVALENCE-s17|Acc=0.55|10-CV=0.55|STD=0.0|Time spend=2.8807170391082764\n",
      "-----WARNING: Model s17 failed to learn: sum(ans)=480.0 sum(y)=264.0 len(y)=480\n",
      "\tAROUSAL-s18|Acc=0.625|10-CV=0.625|STD=0.0|Time spend=2.4943690299987793\n",
      "-----WARNING: Model s18 failed to learn: sum(ans)=480.0 sum(y)=300.0 len(y)=480\n",
      "\tVALENCE-s18|Acc=0.725|10-CV=0.715|STD=0.03571|Time spend=2.7965145111083984\n",
      "\tAROUSAL-s19|Acc=0.67708|10-CV=0.67417|STD=0.0025|Time spend=2.522472620010376\n",
      "\tVALENCE-s19|Acc=0.66667|10-CV=0.63583|STD=0.01239|Time spend=2.826612949371338\n",
      "\tAROUSAL-s20|Acc=0.775|10-CV=0.775|STD=0.0|Time spend=2.8066368103027344\n",
      "-----WARNING: Model s20 failed to learn: sum(ans)=480.0 sum(y)=372.0 len(y)=480\n",
      "\tVALENCE-s20|Acc=0.69167|10-CV=0.67167|STD=0.04252|Time spend=3.106456756591797\n",
      "\tAROUSAL-s21|Acc=0.8|10-CV=0.8|STD=0.0|Time spend=2.5407238006591797\n",
      "-----WARNING: Model s21 failed to learn: sum(ans)=480.0 sum(y)=384.0 len(y)=480\n",
      "\tVALENCE-s21|Acc=0.525|10-CV=0.51833|STD=0.02|Time spend=2.8652291297912598\n",
      "-----WARNING: Model s21 failed to learn: sum(ans)=480.0 sum(y)=252.0 len(y)=480\n",
      "\tAROUSAL-s22|Acc=0.6|10-CV=0.6|STD=0.0|Time spend=2.4748363494873047\n",
      "-----WARNING: Model s22 failed to learn: sum(ans)=480.0 sum(y)=288.0 len(y)=480\n",
      "\tVALENCE-s22|Acc=0.59792|10-CV=0.58667|STD=0.02082|Time spend=2.7783141136169434\n",
      "\tAROUSAL-s23|Acc=0.75|10-CV=0.75|STD=0.0|Time spend=2.3153445720672607\n",
      "-----WARNING: Model s23 failed to learn: sum(ans)=0.0 sum(y)=120.0 len(y)=480\n",
      "\tVALENCE-s23|Acc=0.65|10-CV=0.65|STD=0.0|Time spend=2.622913360595703\n",
      "-----WARNING: Model s23 failed to learn: sum(ans)=480.0 sum(y)=312.0 len(y)=480\n",
      "\tAROUSAL-s24|Acc=0.825|10-CV=0.825|STD=0.0|Time spend=2.624526262283325\n",
      "-----WARNING: Model s24 failed to learn: sum(ans)=480.0 sum(y)=396.0 len(y)=480\n",
      "\tVALENCE-s24|Acc=0.59375|10-CV=0.57|STD=0.031|Time spend=2.9421451091766357\n",
      "\tAROUSAL-s25|Acc=0.725|10-CV=0.725|STD=0.0|Time spend=2.5219104290008545\n",
      "-----WARNING: Model s25 failed to learn: sum(ans)=480.0 sum(y)=348.0 len(y)=480\n",
      "\tVALENCE-s25|Acc=0.52083|10-CV=0.5225|STD=0.01446|Time spend=2.8446502685546875\n",
      "\tAROUSAL-s26|Acc=0.6125|10-CV=0.59333|STD=0.02068|Time spend=2.4200069904327393\n",
      "\tVALENCE-s26|Acc=0.65|10-CV=0.65|STD=0.0|Time spend=2.7120096683502197\n",
      "-----WARNING: Model s26 failed to learn: sum(ans)=480.0 sum(y)=312.0 len(y)=480\n",
      "\tAROUSAL-s27|Acc=0.70625|10-CV=0.69333|STD=0.01167|Time spend=2.4493985176086426\n",
      "\tVALENCE-s27|Acc=0.75|10-CV=0.75|STD=0.0|Time spend=2.7090067863464355\n",
      "-----WARNING: Model s27 failed to learn: sum(ans)=480.0 sum(y)=360.0 len(y)=480\n",
      "\tAROUSAL-s28|Acc=0.56875|10-CV=0.55583|STD=0.00917|Time spend=2.5181524753570557\n",
      "\tVALENCE-s28|Acc=0.625|10-CV=0.625|STD=0.0|Time spend=2.8220267295837402\n",
      "-----WARNING: Model s28 failed to learn: sum(ans)=480.0 sum(y)=300.0 len(y)=480\n",
      "\tAROUSAL-s29|Acc=0.625|10-CV=0.625|STD=0.0|Time spend=2.711582660675049\n",
      "-----WARNING: Model s29 failed to learn: sum(ans)=480.0 sum(y)=300.0 len(y)=480\n",
      "\tVALENCE-s29|Acc=0.65833|10-CV=0.65083|STD=0.02341|Time spend=3.0037760734558105\n",
      "\tAROUSAL-s30|Acc=0.59583|10-CV=0.55333|STD=0.0342|Time spend=2.657012701034546\n",
      "\tVALENCE-s30|Acc=0.675|10-CV=0.675|STD=0.0|Time spend=2.948408842086792\n",
      "-----WARNING: Model s30 failed to learn: sum(ans)=480.0 sum(y)=324.0 len(y)=480\n",
      "\tAROUSAL-s31|Acc=0.67292|10-CV=0.59|STD=0.03629|Time spend=2.4581120014190674\n",
      "\tVALENCE-s31|Acc=0.575|10-CV=0.57583|STD=0.00449|Time spend=2.757101058959961\n",
      "\tAROUSAL-s32|Acc=0.675|10-CV=0.675|STD=0.0|Time spend=2.542144298553467\n",
      "-----WARNING: Model s32 failed to learn: sum(ans)=480.0 sum(y)=324.0 len(y)=480\n",
      "\tVALENCE-s32|Acc=0.64583|10-CV=0.63667|STD=0.0159|Time spend=2.8418192863464355\n",
      "AROUSAL|Acc=0.6662760416666669|10-CV=0.6519791666666667|STD=0.009048892074409572\n",
      "VALENCE|Acc=0.6431640624999999|10-CV=0.6307291666666667|STD=0.018170738400591097\n",
      "TOTAL|Acc=0.6547200520833336|10-CV=0.6413541666666666|STD=0.013609815237500333\n"
     ]
    }
   ],
   "source": [
    "for text in reports:\n",
    "    if(text == None): continue\n",
    "    print(text)\n",
    "\n",
    "accs.extend(accs_v)\n",
    "cv_means.extend(cv_means_v)\n",
    "cv_stds.extend(cv_stds_v)\n",
    "print(f\"TOTAL|Acc={sum(accs)/len(accs)}|10-CV={sum(cv_means)/len(cv_means)}|STD={sum(cv_stds)/len(cv_stds)}\")"
   ]
  },
  {
   "cell_type": "markdown",
   "metadata": {},
   "source": [
    "### 4.2 $ \\text{PCC}_{freq} (i,j) = \\frac{\\text{Cov}[\\hat{\\mathbf{X}}_i, \\hat{\\mathbf{X}}_j]}{\\sigma_{\\hat{\\mathbf{X}}_i} \\sigma_{\\hat{\\mathbf{X}}_j}} $"
   ]
  },
  {
   "cell_type": "code",
   "execution_count": 10,
   "metadata": {},
   "outputs": [],
   "source": [
    "def calculate_fft(signal, sfreq):\n",
    "    \"\"\" signal: can be 1D array of (n_sample,) or 2D array of (n_signal, n_sample)  \"\"\"\n",
    "    number_sample = signal.shape[-1]\n",
    "\n",
    "    # the result will be a complex number. We can obtain the magnitude using `absolute`\n",
    "    magnitude = np.abs(np.fft.fft(signal))\n",
    "    # scale the result\n",
    "    magnitude = magnitude / (number_sample/2)\n",
    "    # Selecting the range\n",
    "    magnitude = magnitude.T[:number_sample//2].T\n",
    "    freq_range = np.fft.fftfreq(number_sample, d=1/sfreq)[:number_sample//2]\n",
    "\n",
    "    return magnitude, freq_range"
   ]
  },
  {
   "cell_type": "code",
   "execution_count": 11,
   "metadata": {},
   "outputs": [
    {
     "data": {
      "application/vnd.jupyter.widget-view+json": {
       "model_id": "2bfd6dc002204a36bdeba0b13a750bd0",
       "version_major": 2,
       "version_minor": 0
      },
      "text/plain": [
       "  0%|          | 0/32 [00:00<?, ?it/s]"
      ]
     },
     "metadata": {},
     "output_type": "display_data"
    },
    {
     "name": "stdout",
     "output_type": "stream",
     "text": [
      "Fitted sphere radius:         95.3 mm\n",
      "Origin head coordinates:      -0.8 15.1 45.3 mm\n",
      "Origin device coordinates:    -0.8 15.1 45.3 mm\n",
      "========= close ========\n",
      "\tAROUSAL-s01|Acc=0.7875|10-CV=0.67667|STD=0.0238|Time spend=3.006192445755005\n",
      "\tVALENCE-s01|Acc=0.82917|10-CV=0.59667|STD=0.05286|Time spend=3.3221335411071777\n",
      "Fitted sphere radius:         95.3 mm\n",
      "Origin head coordinates:      -0.8 15.1 45.3 mm\n",
      "Origin device coordinates:    -0.8 15.1 45.3 mm\n",
      "========= close ========\n",
      "\tAROUSAL-s02|Acc=0.64583|10-CV=0.63333|STD=0.01936|Time spend=2.7718424797058105\n",
      "\tVALENCE-s02|Acc=0.61667|10-CV=0.5725|STD=0.03229|Time spend=3.1048591136932373\n",
      "Fitted sphere radius:         95.3 mm\n",
      "Origin head coordinates:      -0.8 15.1 45.3 mm\n",
      "Origin device coordinates:    -0.8 15.1 45.3 mm\n",
      "========= close ========\n",
      "\tAROUSAL-s03|Acc=0.8|10-CV=0.8|STD=0.0|Time spend=2.47969913482666\n",
      "\tVALENCE-s03|Acc=0.65208|10-CV=0.5725|STD=0.02529|Time spend=2.8198533058166504\n",
      "Fitted sphere radius:         95.3 mm\n",
      "Origin head coordinates:      -0.8 15.1 45.3 mm\n",
      "Origin device coordinates:    -0.8 15.1 45.3 mm\n",
      "========= close ========\n",
      "\tAROUSAL-s04|Acc=0.61875|10-CV=0.59667|STD=0.00667|Time spend=2.64009165763855\n",
      "\tVALENCE-s04|Acc=0.61042|10-CV=0.59583|STD=0.00672|Time spend=2.9409255981445312\n",
      "Fitted sphere radius:         95.3 mm\n",
      "Origin head coordinates:      -0.8 15.1 45.3 mm\n",
      "Origin device coordinates:    -0.8 15.1 45.3 mm\n",
      "========= close ========\n",
      "\tAROUSAL-s05|Acc=0.65833|10-CV=0.57|STD=0.04628|Time spend=2.744375467300415\n",
      "\tVALENCE-s05|Acc=0.61667|10-CV=0.60333|STD=0.01067|Time spend=3.047403335571289\n",
      "Fitted sphere radius:         95.3 mm\n",
      "Origin head coordinates:      -0.8 15.1 45.3 mm\n",
      "Origin device coordinates:    -0.8 15.1 45.3 mm\n",
      "========= close ========\n",
      "\tAROUSAL-s06|Acc=0.675|10-CV=0.61333|STD=0.04365|Time spend=2.8756020069122314\n",
      "\tVALENCE-s06|Acc=0.75|10-CV=0.75|STD=0.0|Time spend=3.1982240676879883\n",
      "Fitted sphere radius:         95.3 mm\n",
      "Origin head coordinates:      -0.8 15.1 45.3 mm\n",
      "Origin device coordinates:    -0.8 15.1 45.3 mm\n",
      "========= close ========\n",
      "\tAROUSAL-s07|Acc=0.70208|10-CV=0.66333|STD=0.01302|Time spend=3.465453863143921\n",
      "\tVALENCE-s07|Acc=0.76042|10-CV=0.71167|STD=0.01|Time spend=3.803101062774658\n",
      "Fitted sphere radius:         95.3 mm\n",
      "Origin head coordinates:      -0.8 15.1 45.3 mm\n",
      "Origin device coordinates:    -0.8 15.1 45.3 mm\n",
      "========= close ========\n",
      "\tAROUSAL-s08|Acc=0.69167|10-CV=0.58917|STD=0.0171|Time spend=2.925774574279785\n",
      "\tVALENCE-s08|Acc=0.71042|10-CV=0.62083|STD=0.03101|Time spend=3.238173007965088\n",
      "Fitted sphere radius:         95.3 mm\n",
      "Origin head coordinates:      -0.8 15.1 45.3 mm\n",
      "Origin device coordinates:    -0.8 15.1 45.3 mm\n",
      "========= close ========\n",
      "\tAROUSAL-s09|Acc=0.65625|10-CV=0.6375|STD=0.02589|Time spend=2.6561057567596436\n",
      "\tVALENCE-s09|Acc=0.71458|10-CV=0.67417|STD=0.04735|Time spend=2.9696269035339355\n",
      "Fitted sphere radius:         95.3 mm\n",
      "Origin head coordinates:      -0.8 15.1 45.3 mm\n",
      "Origin device coordinates:    -0.8 15.1 45.3 mm\n",
      "========= close ========\n",
      "\tAROUSAL-s10|Acc=0.72917|10-CV=0.66|STD=0.05281|Time spend=2.7793190479278564\n",
      "\tVALENCE-s10|Acc=0.825|10-CV=0.7775|STD=0.02206|Time spend=3.059001922607422\n",
      "Fitted sphere radius:         95.3 mm\n",
      "Origin head coordinates:      -0.8 15.1 45.3 mm\n",
      "Origin device coordinates:    -0.8 15.1 45.3 mm\n",
      "========= close ========\n",
      "\tAROUSAL-s11|Acc=0.67083|10-CV=0.65917|STD=0.02825|Time spend=2.590496063232422\n",
      "\tVALENCE-s11|Acc=0.68125|10-CV=0.65|STD=0.02444|Time spend=2.924800395965576\n",
      "Fitted sphere radius:         95.3 mm\n",
      "Origin head coordinates:      -0.8 15.1 45.3 mm\n",
      "Origin device coordinates:    -0.8 15.1 45.3 mm\n",
      "========= close ========\n",
      "\tAROUSAL-s12|Acc=0.825|10-CV=0.825|STD=0.0|Time spend=3.1352458000183105\n",
      "\tVALENCE-s12|Acc=0.67292|10-CV=0.6275|STD=0.0441|Time spend=3.45994234085083\n",
      "Fitted sphere radius:         95.3 mm\n",
      "Origin head coordinates:      -0.8 15.1 45.3 mm\n",
      "Origin device coordinates:    -0.8 15.1 45.3 mm\n",
      "========= close ========\n",
      "\tAROUSAL-s13|Acc=0.85|10-CV=0.85|STD=0.0|Time spend=2.6666371822357178\n",
      "\tVALENCE-s13|Acc=0.7125|10-CV=0.6875|STD=0.03895|Time spend=2.974935531616211\n",
      "Fitted sphere radius:         95.3 mm\n",
      "Origin head coordinates:      -0.8 15.1 45.3 mm\n",
      "Origin device coordinates:    -0.8 15.1 45.3 mm\n",
      "========= close ========\n",
      "\tAROUSAL-s14|Acc=0.675|10-CV=0.675|STD=0.0|Time spend=2.808589458465576\n",
      "\tVALENCE-s14|Acc=0.7375|10-CV=0.66917|STD=0.03313|Time spend=3.124788999557495\n",
      "Fitted sphere radius:         95.3 mm\n",
      "Origin head coordinates:      -0.8 15.1 45.3 mm\n",
      "Origin device coordinates:    -0.8 15.1 45.3 mm\n",
      "========= close ========\n",
      "\tAROUSAL-s15|Acc=0.77292|10-CV=0.655|STD=0.03337|Time spend=2.887557029724121\n",
      "\tVALENCE-s15|Acc=0.81042|10-CV=0.75583|STD=0.0325|Time spend=3.1701509952545166\n",
      "Fitted sphere radius:         95.3 mm\n",
      "Origin head coordinates:      -0.8 15.1 45.3 mm\n",
      "Origin device coordinates:    -0.8 15.1 45.3 mm\n",
      "========= close ========\n",
      "\tAROUSAL-s16|Acc=0.70417|10-CV=0.615|STD=0.04842|Time spend=3.0003809928894043\n",
      "\tVALENCE-s16|Acc=0.73333|10-CV=0.69083|STD=0.02187|Time spend=3.318976402282715\n",
      "Fitted sphere radius:         95.3 mm\n",
      "Origin head coordinates:      -0.8 15.1 45.3 mm\n",
      "Origin device coordinates:    -0.8 15.1 45.3 mm\n",
      "========= close ========\n",
      "\tAROUSAL-s17|Acc=0.70417|10-CV=0.69333|STD=0.0359|Time spend=2.6518166065216064\n",
      "\tVALENCE-s17|Acc=0.5875|10-CV=0.55333|STD=0.02303|Time spend=2.994398355484009\n",
      "Fitted sphere radius:         95.3 mm\n",
      "Origin head coordinates:      -0.8 15.1 45.3 mm\n",
      "Origin device coordinates:    -0.8 15.1 45.3 mm\n",
      "========= close ========\n",
      "\tAROUSAL-s18|Acc=0.67917|10-CV=0.63083|STD=0.00837|Time spend=2.751647710800171\n",
      "\tVALENCE-s18|Acc=0.79375|10-CV=0.74667|STD=0.0344|Time spend=3.06016206741333\n",
      "Fitted sphere radius:         95.3 mm\n",
      "Origin head coordinates:      -0.8 15.1 45.3 mm\n",
      "Origin device coordinates:    -0.8 15.1 45.3 mm\n",
      "========= close ========\n",
      "\tAROUSAL-s19|Acc=0.72292|10-CV=0.6875|STD=0.01304|Time spend=2.469362497329712\n",
      "\tVALENCE-s19|Acc=0.7125|10-CV=0.62667|STD=0.0318|Time spend=2.8111259937286377\n",
      "Fitted sphere radius:         95.3 mm\n",
      "Origin head coordinates:      -0.8 15.1 45.3 mm\n",
      "Origin device coordinates:    -0.8 15.1 45.3 mm\n",
      "========= close ========\n",
      "\tAROUSAL-s20|Acc=0.775|10-CV=0.775|STD=0.0|Time spend=2.8156626224517822\n",
      "\tVALENCE-s20|Acc=0.72917|10-CV=0.65167|STD=0.0335|Time spend=3.1112756729125977\n",
      "Fitted sphere radius:         95.3 mm\n",
      "Origin head coordinates:      -0.8 15.1 45.3 mm\n",
      "Origin device coordinates:    -0.8 15.1 45.3 mm\n",
      "========= close ========\n",
      "\tAROUSAL-s21|Acc=0.8|10-CV=0.8|STD=0.0|Time spend=3.3540592193603516\n",
      "\tVALENCE-s21|Acc=0.58333|10-CV=0.5375|STD=0.01873|Time spend=3.7097084522247314\n",
      "Fitted sphere radius:         95.3 mm\n",
      "Origin head coordinates:      -0.8 15.1 45.3 mm\n",
      "Origin device coordinates:    -0.8 15.1 45.3 mm\n",
      "========= close ========\n",
      "\tAROUSAL-s22|Acc=0.6|10-CV=0.6|STD=0.0|Time spend=2.78531551361084\n",
      "\tVALENCE-s22|Acc=0.65208|10-CV=0.625|STD=0.02981|Time spend=3.1082358360290527\n",
      "Fitted sphere radius:         95.3 mm\n",
      "Origin head coordinates:      -0.8 15.1 45.3 mm\n",
      "Origin device coordinates:    -0.8 15.1 45.3 mm\n",
      "========= close ========\n",
      "\tAROUSAL-s23|Acc=0.75|10-CV=0.75|STD=0.0|Time spend=2.6979541778564453\n",
      "\tVALENCE-s23|Acc=0.73333|10-CV=0.67167|STD=0.01633|Time spend=3.007580518722534\n",
      "Fitted sphere radius:         95.3 mm\n",
      "Origin head coordinates:      -0.8 15.1 45.3 mm\n",
      "Origin device coordinates:    -0.8 15.1 45.3 mm\n",
      "========= close ========\n",
      "\tAROUSAL-s24|Acc=0.825|10-CV=0.825|STD=0.0|Time spend=2.6497905254364014\n",
      "\tVALENCE-s24|Acc=0.62917|10-CV=0.54083|STD=0.03194|Time spend=2.9763686656951904\n",
      "Fitted sphere radius:         95.3 mm\n",
      "Origin head coordinates:      -0.8 15.1 45.3 mm\n",
      "Origin device coordinates:    -0.8 15.1 45.3 mm\n",
      "========= close ========\n",
      "\tAROUSAL-s25|Acc=0.72917|10-CV=0.725|STD=0.0|Time spend=2.6816463470458984\n",
      "\tVALENCE-s25|Acc=0.6375|10-CV=0.575|STD=0.02205|Time spend=3.0193347930908203\n",
      "Fitted sphere radius:         95.3 mm\n",
      "Origin head coordinates:      -0.8 15.1 45.3 mm\n",
      "Origin device coordinates:    -0.8 15.1 45.3 mm\n",
      "========= close ========\n",
      "\tAROUSAL-s26|Acc=0.68958|10-CV=0.59167|STD=0.03206|Time spend=2.8449172973632812\n",
      "\tVALENCE-s26|Acc=0.65|10-CV=0.64833|STD=0.00333|Time spend=3.154904842376709\n",
      "Fitted sphere radius:         95.3 mm\n",
      "Origin head coordinates:      -0.8 15.1 45.3 mm\n",
      "Origin device coordinates:    -0.8 15.1 45.3 mm\n",
      "========= close ========\n",
      "\tAROUSAL-s27|Acc=0.76875|10-CV=0.72417|STD=0.01146|Time spend=2.732356071472168\n",
      "\tVALENCE-s27|Acc=0.79375|10-CV=0.76667|STD=0.01667|Time spend=3.0520105361938477\n",
      "Fitted sphere radius:         95.3 mm\n",
      "Origin head coordinates:      -0.8 15.1 45.3 mm\n",
      "Origin device coordinates:    -0.8 15.1 45.3 mm\n",
      "========= close ========\n",
      "\tAROUSAL-s28|Acc=0.59167|10-CV=0.54333|STD=0.0223|Time spend=2.928516387939453\n",
      "\tVALENCE-s28|Acc=0.625|10-CV=0.625|STD=0.0|Time spend=3.251469373703003\n",
      "Fitted sphere radius:         95.3 mm\n",
      "Origin head coordinates:      -0.8 15.1 45.3 mm\n",
      "Origin device coordinates:    -0.8 15.1 45.3 mm\n",
      "========= close ========\n",
      "\tAROUSAL-s29|Acc=0.71042|10-CV=0.645|STD=0.02179|Time spend=2.90140700340271\n",
      "\tVALENCE-s29|Acc=0.72708|10-CV=0.65417|STD=0.02615|Time spend=3.250333786010742\n",
      "Fitted sphere radius:         95.3 mm\n",
      "Origin head coordinates:      -0.8 15.1 45.3 mm\n",
      "Origin device coordinates:    -0.8 15.1 45.3 mm\n",
      "========= close ========\n",
      "\tAROUSAL-s30|Acc=0.67708|10-CV=0.59667|STD=0.04153|Time spend=3.2964720726013184\n",
      "\tVALENCE-s30|Acc=0.675|10-CV=0.67417|STD=0.0025|Time spend=3.617327928543091\n",
      "Fitted sphere radius:         95.3 mm\n",
      "Origin head coordinates:      -0.8 15.1 45.3 mm\n",
      "Origin device coordinates:    -0.8 15.1 45.3 mm\n",
      "========= close ========\n",
      "\tAROUSAL-s31|Acc=0.75833|10-CV=0.635|STD=0.02882|Time spend=2.8288700580596924\n",
      "\tVALENCE-s31|Acc=0.73125|10-CV=0.6425|STD=0.02647|Time spend=3.1566591262817383\n",
      "Fitted sphere radius:         95.3 mm\n",
      "Origin head coordinates:      -0.8 15.1 45.3 mm\n",
      "Origin device coordinates:    -0.8 15.1 45.3 mm\n",
      "========= close ========\n",
      "\tAROUSAL-s32|Acc=0.7125|10-CV=0.69167|STD=0.01537|Time spend=2.7797436714172363\n",
      "\tVALENCE-s32|Acc=0.66458|10-CV=0.64|STD=0.01616|Time spend=3.0937819480895996\n",
      "AROUSAL|Acc=0.7173828125000001|10-CV=0.6760416666666667|STD=0.01841462941201779\n",
      "VALENCE|Acc=0.6986979166666666|10-CV=0.64796875|STD=0.023941743173822076\n"
     ]
    }
   ],
   "source": [
    "accs, cv_means, cv_stds = [],[],[]\n",
    "accs_v, cv_means_v, cv_stds_v = [],[],[]\n",
    "reports = []\n",
    "for filename in (pbar := tqdm(dataset.get_file_list())):\n",
    "    start = time.time()\n",
    "    pbar.set_description(filename)\n",
    "    data, labels, groups = dataset.get_data(filename, stimuli=Dataset_subjectDependent.STIMULI_AROUSAL, return_type='mne', sfreq=128)\n",
    "    \n",
    "    data_csd = mne.preprocessing.compute_current_source_density(data)\n",
    "    magnitude, freq_range = calculate_fft(data_csd.get_data(), 128)\n",
    "    pcc = calculate_pcc(magnitude)\n",
    "    _,acc,cross,train_report = train_model(pcc, labels.squeeze(), groups, filename=filename, return_text=True)\n",
    "    report = f\"\\tAROUSAL-{filename}|Acc={round(acc,5)}|10-CV={round(cross.mean(),5)}|STD={round(cross.std(),5)}|Time spend={time.time() - start}\"\n",
    "    print(report)\n",
    "    reports.append(report)\n",
    "    reports.append(train_report)\n",
    "    accs.append(acc)\n",
    "    cv_means.append(cross.mean())\n",
    "    cv_stds.append(cross.std())\n",
    "\n",
    "    _, labels_v, groups_v = dataset.get_data(filename, stimuli=Dataset_subjectDependent.STIMULI_VALENCE, return_type='mne', sfreq=128)\n",
    "    _,acc,cross,train_report = train_model(pcc, labels_v.squeeze(), groups_v, filename=filename, return_text=True)\n",
    "    report = f\"\\tVALENCE-{filename}|Acc={round(acc,5)}|10-CV={round(cross.mean(),5)}|STD={round(cross.std(),5)}|Time spend={time.time() - start}\"\n",
    "    print(report)\n",
    "    reports.append(report)\n",
    "    reports.append(train_report)\n",
    "    accs_v.append(acc)\n",
    "    cv_means_v.append(cross.mean())\n",
    "    cv_stds_v.append(cross.std())\n",
    "    # break\n",
    "    # count+=1\n",
    "    # if(count == 5): break\n",
    "report = f\"AROUSAL|Acc={sum(accs)/len(accs)}|10-CV={sum(cv_means)/len(cv_means)}|STD={sum(cv_stds)/len(cv_stds)}\"\n",
    "print(report)\n",
    "reports.append(report)\n",
    "report = f\"VALENCE|Acc={sum(accs_v)/len(accs_v)}|10-CV={sum(cv_means_v)/len(cv_means_v)}|STD={sum(cv_stds_v)/len(cv_stds_v)}\"\n",
    "print(report)\n",
    "reports.append(report)"
   ]
  },
  {
   "cell_type": "code",
   "execution_count": 12,
   "metadata": {},
   "outputs": [
    {
     "name": "stdout",
     "output_type": "stream",
     "text": [
      "\tAROUSAL-s01|Acc=0.7875|10-CV=0.67667|STD=0.0238|Time spend=3.006192445755005\n",
      "\tVALENCE-s01|Acc=0.82917|10-CV=0.59667|STD=0.05286|Time spend=3.3221335411071777\n",
      "\tAROUSAL-s02|Acc=0.64583|10-CV=0.63333|STD=0.01936|Time spend=2.7718424797058105\n",
      "\tVALENCE-s02|Acc=0.61667|10-CV=0.5725|STD=0.03229|Time spend=3.1048591136932373\n",
      "\tAROUSAL-s03|Acc=0.8|10-CV=0.8|STD=0.0|Time spend=2.47969913482666\n",
      "-----WARNING: Model s03 failed to learn: sum(ans)=0.0 sum(y)=96.0 len(y)=480\n",
      "\tVALENCE-s03|Acc=0.65208|10-CV=0.5725|STD=0.02529|Time spend=2.8198533058166504\n",
      "\tAROUSAL-s04|Acc=0.61875|10-CV=0.59667|STD=0.00667|Time spend=2.64009165763855\n",
      "\tVALENCE-s04|Acc=0.61042|10-CV=0.59583|STD=0.00672|Time spend=2.9409255981445312\n",
      "\tAROUSAL-s05|Acc=0.65833|10-CV=0.57|STD=0.04628|Time spend=2.744375467300415\n",
      "\tVALENCE-s05|Acc=0.61667|10-CV=0.60333|STD=0.01067|Time spend=3.047403335571289\n",
      "\tAROUSAL-s06|Acc=0.675|10-CV=0.61333|STD=0.04365|Time spend=2.8756020069122314\n",
      "\tVALENCE-s06|Acc=0.75|10-CV=0.75|STD=0.0|Time spend=3.1982240676879883\n",
      "-----WARNING: Model s06 failed to learn: sum(ans)=480.0 sum(y)=360.0 len(y)=480\n",
      "\tAROUSAL-s07|Acc=0.70208|10-CV=0.66333|STD=0.01302|Time spend=3.465453863143921\n",
      "\tVALENCE-s07|Acc=0.76042|10-CV=0.71167|STD=0.01|Time spend=3.803101062774658\n",
      "\tAROUSAL-s08|Acc=0.69167|10-CV=0.58917|STD=0.0171|Time spend=2.925774574279785\n",
      "\tVALENCE-s08|Acc=0.71042|10-CV=0.62083|STD=0.03101|Time spend=3.238173007965088\n",
      "\tAROUSAL-s09|Acc=0.65625|10-CV=0.6375|STD=0.02589|Time spend=2.6561057567596436\n",
      "\tVALENCE-s09|Acc=0.71458|10-CV=0.67417|STD=0.04735|Time spend=2.9696269035339355\n",
      "\tAROUSAL-s10|Acc=0.72917|10-CV=0.66|STD=0.05281|Time spend=2.7793190479278564\n",
      "\tVALENCE-s10|Acc=0.825|10-CV=0.7775|STD=0.02206|Time spend=3.059001922607422\n",
      "\tAROUSAL-s11|Acc=0.67083|10-CV=0.65917|STD=0.02825|Time spend=2.590496063232422\n",
      "\tVALENCE-s11|Acc=0.68125|10-CV=0.65|STD=0.02444|Time spend=2.924800395965576\n",
      "\tAROUSAL-s12|Acc=0.825|10-CV=0.825|STD=0.0|Time spend=3.1352458000183105\n",
      "-----WARNING: Model s12 failed to learn: sum(ans)=480.0 sum(y)=396.0 len(y)=480\n",
      "\tVALENCE-s12|Acc=0.67292|10-CV=0.6275|STD=0.0441|Time spend=3.45994234085083\n",
      "\tAROUSAL-s13|Acc=0.85|10-CV=0.85|STD=0.0|Time spend=2.6666371822357178\n",
      "-----WARNING: Model s13 failed to learn: sum(ans)=480.0 sum(y)=408.0 len(y)=480\n",
      "\tVALENCE-s13|Acc=0.7125|10-CV=0.6875|STD=0.03895|Time spend=2.974935531616211\n",
      "\tAROUSAL-s14|Acc=0.675|10-CV=0.675|STD=0.0|Time spend=2.808589458465576\n",
      "-----WARNING: Model s14 failed to learn: sum(ans)=480.0 sum(y)=324.0 len(y)=480\n",
      "\tVALENCE-s14|Acc=0.7375|10-CV=0.66917|STD=0.03313|Time spend=3.124788999557495\n",
      "\tAROUSAL-s15|Acc=0.77292|10-CV=0.655|STD=0.03337|Time spend=2.887557029724121\n",
      "\tVALENCE-s15|Acc=0.81042|10-CV=0.75583|STD=0.0325|Time spend=3.1701509952545166\n",
      "\tAROUSAL-s16|Acc=0.70417|10-CV=0.615|STD=0.04842|Time spend=3.0003809928894043\n",
      "\tVALENCE-s16|Acc=0.73333|10-CV=0.69083|STD=0.02187|Time spend=3.318976402282715\n",
      "\tAROUSAL-s17|Acc=0.70417|10-CV=0.69333|STD=0.0359|Time spend=2.6518166065216064\n",
      "\tVALENCE-s17|Acc=0.5875|10-CV=0.55333|STD=0.02303|Time spend=2.994398355484009\n",
      "\tAROUSAL-s18|Acc=0.67917|10-CV=0.63083|STD=0.00837|Time spend=2.751647710800171\n",
      "\tVALENCE-s18|Acc=0.79375|10-CV=0.74667|STD=0.0344|Time spend=3.06016206741333\n",
      "\tAROUSAL-s19|Acc=0.72292|10-CV=0.6875|STD=0.01304|Time spend=2.469362497329712\n",
      "\tVALENCE-s19|Acc=0.7125|10-CV=0.62667|STD=0.0318|Time spend=2.8111259937286377\n",
      "\tAROUSAL-s20|Acc=0.775|10-CV=0.775|STD=0.0|Time spend=2.8156626224517822\n",
      "-----WARNING: Model s20 failed to learn: sum(ans)=480.0 sum(y)=372.0 len(y)=480\n",
      "\tVALENCE-s20|Acc=0.72917|10-CV=0.65167|STD=0.0335|Time spend=3.1112756729125977\n",
      "\tAROUSAL-s21|Acc=0.8|10-CV=0.8|STD=0.0|Time spend=3.3540592193603516\n",
      "-----WARNING: Model s21 failed to learn: sum(ans)=480.0 sum(y)=384.0 len(y)=480\n",
      "\tVALENCE-s21|Acc=0.58333|10-CV=0.5375|STD=0.01873|Time spend=3.7097084522247314\n",
      "\tAROUSAL-s22|Acc=0.6|10-CV=0.6|STD=0.0|Time spend=2.78531551361084\n",
      "-----WARNING: Model s22 failed to learn: sum(ans)=480.0 sum(y)=288.0 len(y)=480\n",
      "\tVALENCE-s22|Acc=0.65208|10-CV=0.625|STD=0.02981|Time spend=3.1082358360290527\n",
      "\tAROUSAL-s23|Acc=0.75|10-CV=0.75|STD=0.0|Time spend=2.6979541778564453\n",
      "-----WARNING: Model s23 failed to learn: sum(ans)=0.0 sum(y)=120.0 len(y)=480\n",
      "\tVALENCE-s23|Acc=0.73333|10-CV=0.67167|STD=0.01633|Time spend=3.007580518722534\n",
      "\tAROUSAL-s24|Acc=0.825|10-CV=0.825|STD=0.0|Time spend=2.6497905254364014\n",
      "-----WARNING: Model s24 failed to learn: sum(ans)=480.0 sum(y)=396.0 len(y)=480\n",
      "\tVALENCE-s24|Acc=0.62917|10-CV=0.54083|STD=0.03194|Time spend=2.9763686656951904\n",
      "\tAROUSAL-s25|Acc=0.72917|10-CV=0.725|STD=0.0|Time spend=2.6816463470458984\n",
      "\tVALENCE-s25|Acc=0.6375|10-CV=0.575|STD=0.02205|Time spend=3.0193347930908203\n",
      "\tAROUSAL-s26|Acc=0.68958|10-CV=0.59167|STD=0.03206|Time spend=2.8449172973632812\n",
      "\tVALENCE-s26|Acc=0.65|10-CV=0.64833|STD=0.00333|Time spend=3.154904842376709\n",
      "\tAROUSAL-s27|Acc=0.76875|10-CV=0.72417|STD=0.01146|Time spend=2.732356071472168\n",
      "\tVALENCE-s27|Acc=0.79375|10-CV=0.76667|STD=0.01667|Time spend=3.0520105361938477\n",
      "\tAROUSAL-s28|Acc=0.59167|10-CV=0.54333|STD=0.0223|Time spend=2.928516387939453\n",
      "\tVALENCE-s28|Acc=0.625|10-CV=0.625|STD=0.0|Time spend=3.251469373703003\n",
      "-----WARNING: Model s28 failed to learn: sum(ans)=480.0 sum(y)=300.0 len(y)=480\n",
      "\tAROUSAL-s29|Acc=0.71042|10-CV=0.645|STD=0.02179|Time spend=2.90140700340271\n",
      "\tVALENCE-s29|Acc=0.72708|10-CV=0.65417|STD=0.02615|Time spend=3.250333786010742\n",
      "\tAROUSAL-s30|Acc=0.67708|10-CV=0.59667|STD=0.04153|Time spend=3.2964720726013184\n",
      "\tVALENCE-s30|Acc=0.675|10-CV=0.67417|STD=0.0025|Time spend=3.617327928543091\n",
      "-----WARNING: Model s30 failed to learn: sum(ans)=480.0 sum(y)=324.0 len(y)=480\n",
      "\tAROUSAL-s31|Acc=0.75833|10-CV=0.635|STD=0.02882|Time spend=2.8288700580596924\n",
      "\tVALENCE-s31|Acc=0.73125|10-CV=0.6425|STD=0.02647|Time spend=3.1566591262817383\n",
      "\tAROUSAL-s32|Acc=0.7125|10-CV=0.69167|STD=0.01537|Time spend=2.7797436714172363\n",
      "\tVALENCE-s32|Acc=0.66458|10-CV=0.64|STD=0.01616|Time spend=3.0937819480895996\n",
      "AROUSAL|Acc=0.7173828125000001|10-CV=0.6760416666666667|STD=0.01841462941201779\n",
      "VALENCE|Acc=0.6986979166666666|10-CV=0.64796875|STD=0.023941743173822076\n",
      "TOTAL|Acc=0.7080403645833334|10-CV=0.6620052083333333|STD=0.021178186292919936\n"
     ]
    }
   ],
   "source": [
    "for text in reports:\n",
    "    if(text == None): continue\n",
    "    print(text)\n",
    "\n",
    "accs.extend(accs_v)\n",
    "cv_means.extend(cv_means_v)\n",
    "cv_stds.extend(cv_stds_v)\n",
    "print(f\"TOTAL|Acc={sum(accs)/len(accs)}|10-CV={sum(cv_means)/len(cv_means)}|STD={sum(cv_stds)/len(cv_stds)}\")"
   ]
  },
  {
   "cell_type": "markdown",
   "metadata": {},
   "source": [
    "### 4.3 $ \\text{PLV}(j,k) = \\frac{1}{T} | \\Sigma^{T}_{t=1} e^{i(\\phi^{t}_{j} - \\phi^{t}_{k})}   | $"
   ]
  },
  {
   "cell_type": "code",
   "execution_count": 13,
   "metadata": {},
   "outputs": [],
   "source": [
    "# bands = [(0,4), (4,8), (8,12), (12,30), (30,64)]\n",
    "def calculate_stft(signals, sfreq):\n",
    "    from scipy import signal\n",
    "    f_range, t_range, Z = signal.stft(signals, sfreq, nperseg=sfreq//10, nfft=sfreq)\n",
    "    magnitude = np.abs(Z) \n",
    "    phase = np.angle(Z)\n",
    "    return magnitude, phase, f_range, t_range\n",
    "\n",
    "def PLV_stft(p_id, phase):\n",
    "    # (32, 65, 12) => (channels, freqs, times)\n",
    "    # print(f\"p_id:{p_id} - data to run {phase.shape}\")\n",
    "    print(phase.shape)\n",
    "    from itertools import combinations\n",
    "    plv = []\n",
    "    # count = 0\n",
    "    for index in range(phase.shape[0]):\n",
    "        plv_epoch = []\n",
    "        for comb in combinations(list(range(phase.shape[1])), 2):\n",
    "            # shape = (65,12)\n",
    "            phase_a, phase_b = phase[index, comb[0]], phase[index, comb[1]]\n",
    "            phase_diff = phase_a - phase_b\n",
    "            # sum along the time size\n",
    "            plv_ab = np.abs(np.average(np.exp(complex(0,1) * phase_diff), axis=1))\n",
    "            plv_epoch.append(plv_ab)\n",
    "        plv_epoch = np.vstack(plv_epoch)\n",
    "        # print(plv_epoch.shape) => (300, 32, 65, 23)\n",
    "        plv_epoch_5 = np.concatenate([ plv_epoch[:,0:4].mean(axis=1).reshape(-1,1),\n",
    "                                        plv_epoch[:,4:8].mean(axis=1).reshape(-1,1),\n",
    "                                        plv_epoch[:,8:12].mean(axis=1).reshape(-1,1),\n",
    "                                        plv_epoch[:,12:30].mean(axis=1).reshape(-1,1),\n",
    "                                        plv_epoch[:,30:65].mean(axis=1).reshape(-1,1)], axis=0)\n",
    "        plv.append(np.expand_dims(plv_epoch_5, axis=0))\n",
    "        # count += 1\n",
    "        # if(count == 3): break\n",
    "    # shape (496, 65)\n",
    "    # 496 is number of pairs that is not duplicate\n",
    "    # 65 is number of phase of frequencies\n",
    "    plv = np.vstack( plv )\n",
    "    return plv.squeeze()\n",
    "\n",
    "def calculate_plv(data, n_jobs=8):\n",
    "    \"\"\" \n",
    "    Input: Expect data to have (n_epochs, n_channels, n_samples)\n",
    "    Output: (n_epochs, n_conn, n_freqs ) => n_conn = n_channels!/(2!(n_channels-2)!)\n",
    "    \"\"\"\n",
    "    from multiprocessing import Pool\n",
    "\n",
    "    try:\n",
    "        t_out = 60000\n",
    "        pool = Pool()\n",
    "        p_list = []\n",
    "        ans_list = []\n",
    "        num_p = n_jobs\n",
    "        indices = np.array_split(np.arange(data.shape[0]), num_p)\n",
    "        _, phase, _, _ = calculate_stft(data, 128)\n",
    "        for p_id in range(num_p):\n",
    "            p_list.append(pool.apply_async(PLV_stft, [p_id, phase[indices[p_id]] ]))\n",
    "        for p_id in range(num_p):\n",
    "            ans_list.append( p_list[p_id].get(timeout=t_out) )\n",
    "        # ans_list\n",
    "    finally:\n",
    "        print(\"========= close ========\")\n",
    "        pool.close() \n",
    "        pool.terminate()\n",
    "    return np.vstack(ans_list)\n"
   ]
  },
  {
   "cell_type": "code",
   "execution_count": 14,
   "metadata": {},
   "outputs": [
    {
     "data": {
      "application/vnd.jupyter.widget-view+json": {
       "model_id": "230465796de244aeb9b30cc0c0191948",
       "version_major": 2,
       "version_minor": 0
      },
      "text/plain": [
       "  0%|          | 0/32 [00:00<?, ?it/s]"
      ]
     },
     "metadata": {},
     "output_type": "display_data"
    },
    {
     "name": "stdout",
     "output_type": "stream",
     "text": [
      "Fitted sphere radius:         95.3 mm\n",
      "Origin head coordinates:      -0.8 15.1 45.3 mm\n",
      "Origin device coordinates:    -0.8 15.1 45.3 mm\n",
      "(60, 32, 65, 108)\n",
      "(60, 32, 65, 108)\n",
      "(60, 32, 65, 108)\n",
      "(60, 32, 65, 108)\n",
      "(60, 32, 65, 108)\n",
      "(60, 32, 65, 108)\n",
      "(60, 32, 65, 108)\n",
      "(60, 32, 65, 108)\n",
      "========= close ========\n",
      "\tAROUSAL-s01|Acc=0.82917|10-CV=0.70417|STD=0.0301|Time spend=21.25208020210266\n",
      "\tVALENCE-s01|Acc=0.83542|10-CV=0.61583|STD=0.04448|Time spend=22.633060693740845\n",
      "Fitted sphere radius:         95.3 mm\n",
      "Origin head coordinates:      -0.8 15.1 45.3 mm\n",
      "Origin device coordinates:    -0.8 15.1 45.3 mm\n",
      "(60, 32, 65, 108)\n",
      "(60, 32, 65, 108)\n",
      "(60, 32, 65, 108)\n",
      "(60, 32, 65, 108)\n",
      "(60, 32, 65, 108)\n",
      "(60, 32, 65, 108)\n",
      "(60, 32, 65, 108)\n",
      "(60, 32, 65, 108)\n",
      "========= close ========\n",
      "\tAROUSAL-s02|Acc=0.69375|10-CV=0.65917|STD=0.03128|Time spend=21.170554399490356\n",
      "\tVALENCE-s02|Acc=0.7375|10-CV=0.71417|STD=0.03652|Time spend=22.291282653808594\n",
      "Fitted sphere radius:         95.3 mm\n",
      "Origin head coordinates:      -0.8 15.1 45.3 mm\n",
      "Origin device coordinates:    -0.8 15.1 45.3 mm\n",
      "(60, 32, 65, 108)\n",
      "(60, 32, 65, 108)\n",
      "(60, 32, 65, 108)\n",
      "(60, 32, 65, 108)\n",
      "(60, 32, 65, 108)\n",
      "(60, 32, 65, 108)\n",
      "(60, 32, 65, 108)\n",
      "(60, 32, 65, 108)\n",
      "========= close ========\n",
      "\tAROUSAL-s03|Acc=0.8|10-CV=0.8|STD=0.0|Time spend=22.833285570144653\n",
      "\tVALENCE-s03|Acc=0.76875|10-CV=0.7025|STD=0.05297|Time spend=24.05602788925171\n",
      "Fitted sphere radius:         95.3 mm\n",
      "Origin head coordinates:      -0.8 15.1 45.3 mm\n",
      "Origin device coordinates:    -0.8 15.1 45.3 mm\n",
      "(60, 32, 65, 108)\n",
      "(60, 32, 65, 108)\n",
      "(60, 32, 65, 108)\n",
      "(60, 32, 65, 108)\n",
      "(60, 32, 65, 108)\n",
      "(60, 32, 65, 108)\n",
      "(60, 32, 65, 108)\n",
      "(60, 32, 65, 108)\n",
      "========= close ========\n",
      "\tAROUSAL-s04|Acc=0.72083|10-CV=0.67167|STD=0.03379|Time spend=20.20174241065979\n",
      "\tVALENCE-s04|Acc=0.73333|10-CV=0.67417|STD=0.03717|Time spend=21.34722590446472\n",
      "Fitted sphere radius:         95.3 mm\n",
      "Origin head coordinates:      -0.8 15.1 45.3 mm\n",
      "Origin device coordinates:    -0.8 15.1 45.3 mm\n",
      "(60, 32, 65, 108)\n",
      "(60, 32, 65, 108)\n",
      "(60, 32, 65, 108)\n",
      "(60, 32, 65, 108)\n",
      "(60, 32, 65, 108)\n",
      "(60, 32, 65, 108)\n",
      "(60, 32, 65, 108)\n",
      "(60, 32, 65, 108)\n",
      "========= close ========\n",
      "\tAROUSAL-s05|Acc=0.6875|10-CV=0.61167|STD=0.02915|Time spend=19.658122062683105\n",
      "\tVALENCE-s05|Acc=0.63958|10-CV=0.59917|STD=0.00786|Time spend=20.926229238510132\n",
      "Fitted sphere radius:         95.3 mm\n",
      "Origin head coordinates:      -0.8 15.1 45.3 mm\n",
      "Origin device coordinates:    -0.8 15.1 45.3 mm\n",
      "(60, 32, 65, 108)\n",
      "(60, 32, 65, 108)\n",
      "(60, 32, 65, 108)\n",
      "(60, 32, 65, 108)\n",
      "(60, 32, 65, 108)\n",
      "(60, 32, 65, 108)\n",
      "(60, 32, 65, 108)\n",
      "(60, 32, 65, 108)\n",
      "========= close ========\n",
      "\tAROUSAL-s06|Acc=0.625|10-CV=0.6025|STD=0.03765|Time spend=22.4258291721344\n",
      "\tVALENCE-s06|Acc=0.75|10-CV=0.75|STD=0.0|Time spend=23.528836965560913\n",
      "Fitted sphere radius:         95.3 mm\n",
      "Origin head coordinates:      -0.8 15.1 45.3 mm\n",
      "Origin device coordinates:    -0.8 15.1 45.3 mm\n",
      "(60, 32, 65, 108)\n",
      "(60, 32, 65, 108)\n",
      "(60, 32, 65, 108)\n",
      "(60, 32, 65, 108)\n",
      "(60, 32, 65, 108)\n",
      "(60, 32, 65, 108)\n",
      "(60, 32, 65, 108)\n",
      "(60, 32, 65, 108)\n",
      "========= close ========\n",
      "\tAROUSAL-s07|Acc=0.74375|10-CV=0.6675|STD=0.01315|Time spend=20.272073984146118\n",
      "\tVALENCE-s07|Acc=0.78333|10-CV=0.75417|STD=0.01835|Time spend=21.339735507965088\n",
      "Fitted sphere radius:         95.3 mm\n",
      "Origin head coordinates:      -0.8 15.1 45.3 mm\n",
      "Origin device coordinates:    -0.8 15.1 45.3 mm\n",
      "(60, 32, 65, 108)\n",
      "(60, 32, 65, 108)\n",
      "(60, 32, 65, 108)\n",
      "(60, 32, 65, 108)\n",
      "(60, 32, 65, 108)\n",
      "(60, 32, 65, 108)\n",
      "(60, 32, 65, 108)\n",
      "(60, 32, 65, 108)\n",
      "========= close ========\n",
      "\tAROUSAL-s08|Acc=0.775|10-CV=0.63667|STD=0.02303|Time spend=20.49223256111145\n",
      "\tVALENCE-s08|Acc=0.79167|10-CV=0.64917|STD=0.02775|Time spend=21.99094843864441\n",
      "Fitted sphere radius:         95.3 mm\n",
      "Origin head coordinates:      -0.8 15.1 45.3 mm\n",
      "Origin device coordinates:    -0.8 15.1 45.3 mm\n",
      "(60, 32, 65, 108)\n",
      "(60, 32, 65, 108)\n",
      "(60, 32, 65, 108)\n",
      "(60, 32, 65, 108)\n",
      "(60, 32, 65, 108)\n",
      "(60, 32, 65, 108)\n",
      "(60, 32, 65, 108)\n",
      "(60, 32, 65, 108)\n",
      "========= close ========\n",
      "\tAROUSAL-s09|Acc=0.75208|10-CV=0.68833|STD=0.02867|Time spend=22.861006259918213\n",
      "\tVALENCE-s09|Acc=0.77083|10-CV=0.74|STD=0.03245|Time spend=23.942692756652832\n",
      "Fitted sphere radius:         95.3 mm\n",
      "Origin head coordinates:      -0.8 15.1 45.3 mm\n",
      "Origin device coordinates:    -0.8 15.1 45.3 mm\n",
      "(60, 32, 65, 108)\n",
      "(60, 32, 65, 108)\n",
      "(60, 32, 65, 108)\n",
      "(60, 32, 65, 108)\n",
      "(60, 32, 65, 108)\n",
      "(60, 32, 65, 108)\n",
      "(60, 32, 65, 108)\n",
      "(60, 32, 65, 108)\n",
      "========= close ========\n",
      "\tAROUSAL-s10|Acc=0.75417|10-CV=0.705|STD=0.03167|Time spend=21.08182430267334\n",
      "\tVALENCE-s10|Acc=0.8375|10-CV=0.79167|STD=0.02635|Time spend=22.096924781799316\n",
      "Fitted sphere radius:         95.3 mm\n",
      "Origin head coordinates:      -0.8 15.1 45.3 mm\n",
      "Origin device coordinates:    -0.8 15.1 45.3 mm\n",
      "(60, 32, 65, 108)\n",
      "(60, 32, 65, 108)\n",
      "(60, 32, 65, 108)\n",
      "(60, 32, 65, 108)\n",
      "(60, 32, 65, 108)\n",
      "(60, 32, 65, 108)\n",
      "(60, 32, 65, 108)\n",
      "(60, 32, 65, 108)\n",
      "========= close ========\n",
      "\tAROUSAL-s11|Acc=0.66042|10-CV=0.6275|STD=0.00651|Time spend=19.87223505973816\n",
      "\tVALENCE-s11|Acc=0.7|10-CV=0.67417|STD=0.02775|Time spend=21.1697256565094\n",
      "Fitted sphere radius:         95.3 mm\n",
      "Origin head coordinates:      -0.8 15.1 45.3 mm\n",
      "Origin device coordinates:    -0.8 15.1 45.3 mm\n",
      "(60, 32, 65, 108)\n",
      "(60, 32, 65, 108)\n",
      "(60, 32, 65, 108)\n",
      "(60, 32, 65, 108)\n",
      "(60, 32, 65, 108)\n",
      "(60, 32, 65, 108)\n",
      "(60, 32, 65, 108)\n",
      "(60, 32, 65, 108)\n",
      "========= close ========\n",
      "\tAROUSAL-s12|Acc=0.825|10-CV=0.825|STD=0.0|Time spend=21.18411374092102\n",
      "\tVALENCE-s12|Acc=0.70833|10-CV=0.645|STD=0.03539|Time spend=22.467191696166992\n",
      "Fitted sphere radius:         95.3 mm\n",
      "Origin head coordinates:      -0.8 15.1 45.3 mm\n",
      "Origin device coordinates:    -0.8 15.1 45.3 mm\n",
      "(60, 32, 65, 108)\n",
      "(60, 32, 65, 108)\n",
      "(60, 32, 65, 108)\n",
      "(60, 32, 65, 108)\n",
      "(60, 32, 65, 108)\n",
      "(60, 32, 65, 108)\n",
      "(60, 32, 65, 108)\n",
      "(60, 32, 65, 108)\n",
      "========= close ========\n",
      "\tAROUSAL-s13|Acc=0.85|10-CV=0.85|STD=0.0|Time spend=19.551993131637573\n",
      "\tVALENCE-s13|Acc=0.79375|10-CV=0.785|STD=0.02409|Time spend=20.54712724685669\n",
      "Fitted sphere radius:         95.3 mm\n",
      "Origin head coordinates:      -0.8 15.1 45.3 mm\n",
      "Origin device coordinates:    -0.8 15.1 45.3 mm\n",
      "(60, 32, 65, 108)\n",
      "(60, 32, 65, 108)\n",
      "(60, 32, 65, 108)\n",
      "(60, 32, 65, 108)\n",
      "(60, 32, 65, 108)\n",
      "(60, 32, 65, 108)\n",
      "(60, 32, 65, 108)\n",
      "(60, 32, 65, 108)\n",
      "========= close ========\n",
      "\tAROUSAL-s14|Acc=0.68958|10-CV=0.6775|STD=0.00534|Time spend=20.898070573806763\n",
      "\tVALENCE-s14|Acc=0.78125|10-CV=0.75583|STD=0.04299|Time spend=22.24191689491272\n",
      "Fitted sphere radius:         95.3 mm\n",
      "Origin head coordinates:      -0.8 15.1 45.3 mm\n",
      "Origin device coordinates:    -0.8 15.1 45.3 mm\n",
      "(60, 32, 65, 108)\n",
      "(60, 32, 65, 108)\n",
      "(60, 32, 65, 108)\n",
      "(60, 32, 65, 108)\n",
      "(60, 32, 65, 108)\n",
      "(60, 32, 65, 108)\n",
      "(60, 32, 65, 108)\n",
      "(60, 32, 65, 108)\n",
      "========= close ========\n",
      "\tAROUSAL-s15|Acc=0.76667|10-CV=0.66833|STD=0.02906|Time spend=20.2975492477417\n",
      "\tVALENCE-s15|Acc=0.8625|10-CV=0.81417|STD=0.02637|Time spend=21.36899757385254\n",
      "Fitted sphere radius:         95.3 mm\n",
      "Origin head coordinates:      -0.8 15.1 45.3 mm\n",
      "Origin device coordinates:    -0.8 15.1 45.3 mm\n",
      "(60, 32, 65, 108)\n",
      "(60, 32, 65, 108)\n",
      "(60, 32, 65, 108)\n",
      "(60, 32, 65, 108)\n",
      "(60, 32, 65, 108)\n",
      "(60, 32, 65, 108)\n",
      "(60, 32, 65, 108)\n",
      "(60, 32, 65, 108)\n",
      "========= close ========\n",
      "\tAROUSAL-s16|Acc=0.73333|10-CV=0.655|STD=0.02115|Time spend=20.664206504821777\n",
      "\tVALENCE-s16|Acc=0.74375|10-CV=0.70583|STD=0.02206|Time spend=21.778506994247437\n",
      "Fitted sphere radius:         95.3 mm\n",
      "Origin head coordinates:      -0.8 15.1 45.3 mm\n",
      "Origin device coordinates:    -0.8 15.1 45.3 mm\n",
      "(60, 32, 65, 108)\n",
      "(60, 32, 65, 108)\n",
      "(60, 32, 65, 108)\n",
      "(60, 32, 65, 108)\n",
      "(60, 32, 65, 108)\n",
      "(60, 32, 65, 108)\n",
      "(60, 32, 65, 108)\n",
      "(60, 32, 65, 108)\n",
      "========= close ========\n",
      "\tAROUSAL-s17|Acc=0.76042|10-CV=0.72667|STD=0.01965|Time spend=18.726207971572876\n",
      "\tVALENCE-s17|Acc=0.65625|10-CV=0.61417|STD=0.0274|Time spend=20.144214391708374\n",
      "Fitted sphere radius:         95.3 mm\n",
      "Origin head coordinates:      -0.8 15.1 45.3 mm\n",
      "Origin device coordinates:    -0.8 15.1 45.3 mm\n",
      "(60, 32, 65, 108)\n",
      "(60, 32, 65, 108)\n",
      "(60, 32, 65, 108)\n",
      "(60, 32, 65, 108)\n",
      "(60, 32, 65, 108)\n",
      "(60, 32, 65, 108)\n",
      "(60, 32, 65, 108)\n",
      "(60, 32, 65, 108)\n",
      "========= close ========\n",
      "\tAROUSAL-s18|Acc=0.65417|10-CV=0.63|STD=0.00667|Time spend=19.898013591766357\n",
      "\tVALENCE-s18|Acc=0.80625|10-CV=0.78167|STD=0.02682|Time spend=20.935644388198853\n",
      "Fitted sphere radius:         95.3 mm\n",
      "Origin head coordinates:      -0.8 15.1 45.3 mm\n",
      "Origin device coordinates:    -0.8 15.1 45.3 mm\n",
      "(60, 32, 65, 108)\n",
      "(60, 32, 65, 108)\n",
      "(60, 32, 65, 108)\n",
      "(60, 32, 65, 108)\n",
      "(60, 32, 65, 108)\n",
      "(60, 32, 65, 108)\n",
      "(60, 32, 65, 108)\n",
      "(60, 32, 65, 108)\n",
      "========= close ========\n",
      "\tAROUSAL-s19|Acc=0.76042|10-CV=0.71417|STD=0.01828|Time spend=21.19402313232422\n",
      "\tVALENCE-s19|Acc=0.7625|10-CV=0.6975|STD=0.04134|Time spend=22.46904444694519\n",
      "Fitted sphere radius:         95.3 mm\n",
      "Origin head coordinates:      -0.8 15.1 45.3 mm\n",
      "Origin device coordinates:    -0.8 15.1 45.3 mm\n",
      "(60, 32, 65, 108)\n",
      "(60, 32, 65, 108)\n",
      "(60, 32, 65, 108)\n",
      "(60, 32, 65, 108)\n",
      "(60, 32, 65, 108)\n",
      "(60, 32, 65, 108)\n",
      "(60, 32, 65, 108)\n",
      "(60, 32, 65, 108)\n",
      "========= close ========\n",
      "\tAROUSAL-s20|Acc=0.775|10-CV=0.775|STD=0.0|Time spend=20.850430250167847\n",
      "\tVALENCE-s20|Acc=0.76875|10-CV=0.71833|STD=0.03091|Time spend=22.013937950134277\n",
      "Fitted sphere radius:         95.3 mm\n",
      "Origin head coordinates:      -0.8 15.1 45.3 mm\n",
      "Origin device coordinates:    -0.8 15.1 45.3 mm\n",
      "(60, 32, 65, 108)\n",
      "(60, 32, 65, 108)\n",
      "(60, 32, 65, 108)\n",
      "(60, 32, 65, 108)\n",
      "(60, 32, 65, 108)\n",
      "(60, 32, 65, 108)\n",
      "(60, 32, 65, 108)\n",
      "(60, 32, 65, 108)\n",
      "========= close ========\n",
      "\tAROUSAL-s21|Acc=0.8|10-CV=0.8|STD=0.0|Time spend=19.874966859817505\n",
      "\tVALENCE-s21|Acc=0.65208|10-CV=0.62083|STD=0.02479|Time spend=21.413803100585938\n",
      "Fitted sphere radius:         95.3 mm\n",
      "Origin head coordinates:      -0.8 15.1 45.3 mm\n",
      "Origin device coordinates:    -0.8 15.1 45.3 mm\n",
      "(60, 32, 65, 108)\n",
      "(60, 32, 65, 108)\n",
      "(60, 32, 65, 108)\n",
      "(60, 32, 65, 108)\n",
      "(60, 32, 65, 108)\n",
      "(60, 32, 65, 108)\n",
      "(60, 32, 65, 108)\n",
      "(60, 32, 65, 108)\n",
      "========= close ========\n",
      "\tAROUSAL-s22|Acc=0.62083|10-CV=0.6125|STD=0.01133|Time spend=21.335516929626465\n",
      "\tVALENCE-s22|Acc=0.75625|10-CV=0.73083|STD=0.02329|Time spend=22.631097555160522\n",
      "Fitted sphere radius:         95.3 mm\n",
      "Origin head coordinates:      -0.8 15.1 45.3 mm\n",
      "Origin device coordinates:    -0.8 15.1 45.3 mm\n",
      "(60, 32, 65, 108)\n",
      "(60, 32, 65, 108)\n",
      "(60, 32, 65, 108)\n",
      "(60, 32, 65, 108)\n",
      "(60, 32, 65, 108)\n",
      "(60, 32, 65, 108)\n",
      "(60, 32, 65, 108)\n",
      "(60, 32, 65, 108)\n",
      "========= close ========\n",
      "\tAROUSAL-s23|Acc=0.77708|10-CV=0.75417|STD=0.00417|Time spend=20.7413272857666\n",
      "\tVALENCE-s23|Acc=0.77083|10-CV=0.71417|STD=0.01493|Time spend=22.04738450050354\n",
      "Fitted sphere radius:         95.3 mm\n",
      "Origin head coordinates:      -0.8 15.1 45.3 mm\n",
      "Origin device coordinates:    -0.8 15.1 45.3 mm\n",
      "(60, 32, 65, 108)\n",
      "(60, 32, 65, 108)\n",
      "(60, 32, 65, 108)\n",
      "(60, 32, 65, 108)\n",
      "(60, 32, 65, 108)\n",
      "(60, 32, 65, 108)\n",
      "(60, 32, 65, 108)\n",
      "(60, 32, 65, 108)\n",
      "========= close ========\n",
      "\tAROUSAL-s24|Acc=0.825|10-CV=0.825|STD=0.0|Time spend=21.185797452926636\n",
      "\tVALENCE-s24|Acc=0.775|10-CV=0.69917|STD=0.0502|Time spend=22.51097345352173\n",
      "Fitted sphere radius:         95.3 mm\n",
      "Origin head coordinates:      -0.8 15.1 45.3 mm\n",
      "Origin device coordinates:    -0.8 15.1 45.3 mm\n",
      "(60, 32, 65, 108)\n",
      "(60, 32, 65, 108)\n",
      "(60, 32, 65, 108)\n",
      "(60, 32, 65, 108)\n",
      "(60, 32, 65, 108)\n",
      "(60, 32, 65, 108)\n",
      "(60, 32, 65, 108)\n",
      "(60, 32, 65, 108)\n",
      "========= close ========\n",
      "\tAROUSAL-s25|Acc=0.725|10-CV=0.725|STD=0.0|Time spend=19.408945322036743\n",
      "\tVALENCE-s25|Acc=0.67708|10-CV=0.61167|STD=0.04035|Time spend=20.86202907562256\n",
      "Fitted sphere radius:         95.3 mm\n",
      "Origin head coordinates:      -0.8 15.1 45.3 mm\n",
      "Origin device coordinates:    -0.8 15.1 45.3 mm\n",
      "(60, 32, 65, 108)\n",
      "(60, 32, 65, 108)\n",
      "(60, 32, 65, 108)\n",
      "(60, 32, 65, 108)\n",
      "(60, 32, 65, 108)\n",
      "(60, 32, 65, 108)\n",
      "(60, 32, 65, 108)\n",
      "(60, 32, 65, 108)\n",
      "========= close ========\n",
      "\tAROUSAL-s26|Acc=0.7|10-CV=0.61583|STD=0.02594|Time spend=20.87892985343933\n",
      "\tVALENCE-s26|Acc=0.65208|10-CV=0.65083|STD=0.0025|Time spend=22.10742425918579\n",
      "Fitted sphere radius:         95.3 mm\n",
      "Origin head coordinates:      -0.8 15.1 45.3 mm\n",
      "Origin device coordinates:    -0.8 15.1 45.3 mm\n",
      "(60, 32, 65, 108)\n",
      "(60, 32, 65, 108)\n",
      "(60, 32, 65, 108)\n",
      "(60, 32, 65, 108)\n",
      "(60, 32, 65, 108)\n",
      "(60, 32, 65, 108)\n",
      "(60, 32, 65, 108)\n",
      "(60, 32, 65, 108)\n",
      "========= close ========\n",
      "\tAROUSAL-s27|Acc=0.80833|10-CV=0.74333|STD=0.02034|Time spend=20.688008546829224\n",
      "\tVALENCE-s27|Acc=0.75417|10-CV=0.75|STD=0.0|Time spend=21.832430362701416\n",
      "Fitted sphere radius:         95.3 mm\n",
      "Origin head coordinates:      -0.8 15.1 45.3 mm\n",
      "Origin device coordinates:    -0.8 15.1 45.3 mm\n",
      "(60, 32, 65, 108)\n",
      "(60, 32, 65, 108)\n",
      "(60, 32, 65, 108)\n",
      "(60, 32, 65, 108)\n",
      "(60, 32, 65, 108)\n",
      "(60, 32, 65, 108)\n",
      "(60, 32, 65, 108)\n",
      "(60, 32, 65, 108)\n",
      "========= close ========\n",
      "\tAROUSAL-s28|Acc=0.6625|10-CV=0.61|STD=0.02833|Time spend=19.28823471069336\n",
      "\tVALENCE-s28|Acc=0.69375|10-CV=0.63|STD=0.01067|Time spend=20.589502573013306\n",
      "Fitted sphere radius:         95.3 mm\n",
      "Origin head coordinates:      -0.8 15.1 45.3 mm\n",
      "Origin device coordinates:    -0.8 15.1 45.3 mm\n",
      "(60, 32, 65, 108)\n",
      "(60, 32, 65, 108)\n",
      "(60, 32, 65, 108)\n",
      "(60, 32, 65, 108)\n",
      "(60, 32, 65, 108)\n",
      "(60, 32, 65, 108)\n",
      "(60, 32, 65, 108)\n",
      "(60, 32, 65, 108)\n",
      "========= close ========\n",
      "\tAROUSAL-s29|Acc=0.72083|10-CV=0.6575|STD=0.02187|Time spend=21.016555786132812\n",
      "\tVALENCE-s29|Acc=0.7125|10-CV=0.68917|STD=0.02077|Time spend=22.25580644607544\n",
      "Fitted sphere radius:         95.3 mm\n",
      "Origin head coordinates:      -0.8 15.1 45.3 mm\n",
      "Origin device coordinates:    -0.8 15.1 45.3 mm\n",
      "(60, 32, 65, 108)\n",
      "(60, 32, 65, 108)\n",
      "(60, 32, 65, 108)\n",
      "(60, 32, 65, 108)\n",
      "(60, 32, 65, 108)\n",
      "(60, 32, 65, 108)\n",
      "(60, 32, 65, 108)\n",
      "(60, 32, 65, 108)\n",
      "========= close ========\n",
      "\tAROUSAL-s30|Acc=0.67708|10-CV=0.57667|STD=0.03136|Time spend=20.178387880325317\n",
      "\tVALENCE-s30|Acc=0.675|10-CV=0.675|STD=0.0|Time spend=21.43880867958069\n",
      "Fitted sphere radius:         95.3 mm\n",
      "Origin head coordinates:      -0.8 15.1 45.3 mm\n",
      "Origin device coordinates:    -0.8 15.1 45.3 mm\n",
      "(60, 32, 65, 108)\n",
      "(60, 32, 65, 108)\n",
      "(60, 32, 65, 108)\n",
      "(60, 32, 65, 108)\n",
      "(60, 32, 65, 108)\n",
      "(60, 32, 65, 108)\n",
      "(60, 32, 65, 108)\n",
      "(60, 32, 65, 108)\n",
      "========= close ========\n",
      "\tAROUSAL-s31|Acc=0.81667|10-CV=0.66917|STD=0.03874|Time spend=20.124085426330566\n",
      "\tVALENCE-s31|Acc=0.75208|10-CV=0.61917|STD=0.03029|Time spend=21.767634391784668\n",
      "Fitted sphere radius:         95.3 mm\n",
      "Origin head coordinates:      -0.8 15.1 45.3 mm\n",
      "Origin device coordinates:    -0.8 15.1 45.3 mm\n",
      "(60, 32, 65, 108)\n",
      "(60, 32, 65, 108)\n",
      "(60, 32, 65, 108)\n",
      "(60, 32, 65, 108)\n",
      "(60, 32, 65, 108)\n",
      "(60, 32, 65, 108)\n",
      "(60, 32, 65, 108)\n",
      "(60, 32, 65, 108)\n",
      "========= close ========\n",
      "\tAROUSAL-s32|Acc=0.71042|10-CV=0.685|STD=0.00624|Time spend=20.319731950759888\n",
      "\tVALENCE-s32|Acc=0.68958|10-CV=0.635|STD=0.02034|Time spend=21.68203067779541\n",
      "AROUSAL|Acc=0.7406250000000001|10-CV=0.6928125|STD=0.01729597174534375\n",
      "VALENCE|Acc=0.7434895833333334|10-CV=0.6940104166666666|STD=0.025848934682847463\n"
     ]
    }
   ],
   "source": [
    "accs, cv_means, cv_stds = [],[],[]\n",
    "accs_v, cv_means_v, cv_stds_v = [],[],[]\n",
    "reports = []\n",
    "for filename in (pbar := tqdm(dataset.get_file_list())):\n",
    "    start = time.time()\n",
    "    pbar.set_description(filename)\n",
    "    data, labels, groups = dataset.get_data(filename, stimuli=Dataset_subjectDependent.STIMULI_AROUSAL, return_type='mne', sfreq=128)\n",
    "    \n",
    "    data_csd = mne.preprocessing.compute_current_source_density(data)\n",
    "\n",
    "    plv = calculate_plv(data_csd.get_data(), n_jobs=8)\n",
    "\n",
    "    _,acc,cross,train_report = train_model(plv, labels.squeeze(), groups, filename=filename, return_text=True)\n",
    "    report = f\"\\tAROUSAL-{filename}|Acc={round(acc,5)}|10-CV={round(cross.mean(),5)}|STD={round(cross.std(),5)}|Time spend={time.time() - start}\"\n",
    "    print(report)\n",
    "    reports.append(report)\n",
    "    reports.append(train_report)\n",
    "    accs.append(acc)\n",
    "    cv_means.append(cross.mean())\n",
    "    cv_stds.append(cross.std())\n",
    "\n",
    "    _, labels_v, groups_v = dataset.get_data(filename, stimuli=Dataset_subjectDependent.STIMULI_VALENCE, return_type='mne', sfreq=128)\n",
    "    _,acc,cross,train_report = train_model(plv, labels_v.squeeze(), groups_v, filename=filename, return_text=True)\n",
    "    report = f\"\\tVALENCE-{filename}|Acc={round(acc,5)}|10-CV={round(cross.mean(),5)}|STD={round(cross.std(),5)}|Time spend={time.time() - start}\"\n",
    "    print(report)\n",
    "    reports.append(report)\n",
    "    reports.append(train_report)\n",
    "    accs_v.append(acc)\n",
    "    cv_means_v.append(cross.mean())\n",
    "    cv_stds_v.append(cross.std())\n",
    "    # break\n",
    "    # count+=1\n",
    "    # if(count == 5): break\n",
    "report = f\"AROUSAL|Acc={sum(accs)/len(accs)}|10-CV={sum(cv_means)/len(cv_means)}|STD={sum(cv_stds)/len(cv_stds)}\"\n",
    "print(report)\n",
    "reports.append(report)\n",
    "report = f\"VALENCE|Acc={sum(accs_v)/len(accs_v)}|10-CV={sum(cv_means_v)/len(cv_means_v)}|STD={sum(cv_stds_v)/len(cv_stds_v)}\"\n",
    "print(report)\n",
    "reports.append(report)"
   ]
  },
  {
   "cell_type": "code",
   "execution_count": 15,
   "metadata": {},
   "outputs": [
    {
     "name": "stdout",
     "output_type": "stream",
     "text": [
      "\tAROUSAL-s01|Acc=0.82917|10-CV=0.70417|STD=0.0301|Time spend=21.25208020210266\n",
      "\tVALENCE-s01|Acc=0.83542|10-CV=0.61583|STD=0.04448|Time spend=22.633060693740845\n",
      "\tAROUSAL-s02|Acc=0.69375|10-CV=0.65917|STD=0.03128|Time spend=21.170554399490356\n",
      "\tVALENCE-s02|Acc=0.7375|10-CV=0.71417|STD=0.03652|Time spend=22.291282653808594\n",
      "\tAROUSAL-s03|Acc=0.8|10-CV=0.8|STD=0.0|Time spend=22.833285570144653\n",
      "-----WARNING: Model s03 failed to learn: sum(ans)=0.0 sum(y)=96.0 len(y)=480\n",
      "\tVALENCE-s03|Acc=0.76875|10-CV=0.7025|STD=0.05297|Time spend=24.05602788925171\n",
      "\tAROUSAL-s04|Acc=0.72083|10-CV=0.67167|STD=0.03379|Time spend=20.20174241065979\n",
      "\tVALENCE-s04|Acc=0.73333|10-CV=0.67417|STD=0.03717|Time spend=21.34722590446472\n",
      "\tAROUSAL-s05|Acc=0.6875|10-CV=0.61167|STD=0.02915|Time spend=19.658122062683105\n",
      "\tVALENCE-s05|Acc=0.63958|10-CV=0.59917|STD=0.00786|Time spend=20.926229238510132\n",
      "\tAROUSAL-s06|Acc=0.625|10-CV=0.6025|STD=0.03765|Time spend=22.4258291721344\n",
      "\tVALENCE-s06|Acc=0.75|10-CV=0.75|STD=0.0|Time spend=23.528836965560913\n",
      "-----WARNING: Model s06 failed to learn: sum(ans)=480.0 sum(y)=360.0 len(y)=480\n",
      "\tAROUSAL-s07|Acc=0.74375|10-CV=0.6675|STD=0.01315|Time spend=20.272073984146118\n",
      "\tVALENCE-s07|Acc=0.78333|10-CV=0.75417|STD=0.01835|Time spend=21.339735507965088\n",
      "\tAROUSAL-s08|Acc=0.775|10-CV=0.63667|STD=0.02303|Time spend=20.49223256111145\n",
      "\tVALENCE-s08|Acc=0.79167|10-CV=0.64917|STD=0.02775|Time spend=21.99094843864441\n",
      "\tAROUSAL-s09|Acc=0.75208|10-CV=0.68833|STD=0.02867|Time spend=22.861006259918213\n",
      "\tVALENCE-s09|Acc=0.77083|10-CV=0.74|STD=0.03245|Time spend=23.942692756652832\n",
      "\tAROUSAL-s10|Acc=0.75417|10-CV=0.705|STD=0.03167|Time spend=21.08182430267334\n",
      "\tVALENCE-s10|Acc=0.8375|10-CV=0.79167|STD=0.02635|Time spend=22.096924781799316\n",
      "\tAROUSAL-s11|Acc=0.66042|10-CV=0.6275|STD=0.00651|Time spend=19.87223505973816\n",
      "\tVALENCE-s11|Acc=0.7|10-CV=0.67417|STD=0.02775|Time spend=21.1697256565094\n",
      "\tAROUSAL-s12|Acc=0.825|10-CV=0.825|STD=0.0|Time spend=21.18411374092102\n",
      "-----WARNING: Model s12 failed to learn: sum(ans)=480.0 sum(y)=396.0 len(y)=480\n",
      "\tVALENCE-s12|Acc=0.70833|10-CV=0.645|STD=0.03539|Time spend=22.467191696166992\n",
      "\tAROUSAL-s13|Acc=0.85|10-CV=0.85|STD=0.0|Time spend=19.551993131637573\n",
      "-----WARNING: Model s13 failed to learn: sum(ans)=480.0 sum(y)=408.0 len(y)=480\n",
      "\tVALENCE-s13|Acc=0.79375|10-CV=0.785|STD=0.02409|Time spend=20.54712724685669\n",
      "\tAROUSAL-s14|Acc=0.68958|10-CV=0.6775|STD=0.00534|Time spend=20.898070573806763\n",
      "\tVALENCE-s14|Acc=0.78125|10-CV=0.75583|STD=0.04299|Time spend=22.24191689491272\n",
      "\tAROUSAL-s15|Acc=0.76667|10-CV=0.66833|STD=0.02906|Time spend=20.2975492477417\n",
      "\tVALENCE-s15|Acc=0.8625|10-CV=0.81417|STD=0.02637|Time spend=21.36899757385254\n",
      "\tAROUSAL-s16|Acc=0.73333|10-CV=0.655|STD=0.02115|Time spend=20.664206504821777\n",
      "\tVALENCE-s16|Acc=0.74375|10-CV=0.70583|STD=0.02206|Time spend=21.778506994247437\n",
      "\tAROUSAL-s17|Acc=0.76042|10-CV=0.72667|STD=0.01965|Time spend=18.726207971572876\n",
      "\tVALENCE-s17|Acc=0.65625|10-CV=0.61417|STD=0.0274|Time spend=20.144214391708374\n",
      "\tAROUSAL-s18|Acc=0.65417|10-CV=0.63|STD=0.00667|Time spend=19.898013591766357\n",
      "\tVALENCE-s18|Acc=0.80625|10-CV=0.78167|STD=0.02682|Time spend=20.935644388198853\n",
      "\tAROUSAL-s19|Acc=0.76042|10-CV=0.71417|STD=0.01828|Time spend=21.19402313232422\n",
      "\tVALENCE-s19|Acc=0.7625|10-CV=0.6975|STD=0.04134|Time spend=22.46904444694519\n",
      "\tAROUSAL-s20|Acc=0.775|10-CV=0.775|STD=0.0|Time spend=20.850430250167847\n",
      "-----WARNING: Model s20 failed to learn: sum(ans)=480.0 sum(y)=372.0 len(y)=480\n",
      "\tVALENCE-s20|Acc=0.76875|10-CV=0.71833|STD=0.03091|Time spend=22.013937950134277\n",
      "\tAROUSAL-s21|Acc=0.8|10-CV=0.8|STD=0.0|Time spend=19.874966859817505\n",
      "-----WARNING: Model s21 failed to learn: sum(ans)=480.0 sum(y)=384.0 len(y)=480\n",
      "\tVALENCE-s21|Acc=0.65208|10-CV=0.62083|STD=0.02479|Time spend=21.413803100585938\n",
      "\tAROUSAL-s22|Acc=0.62083|10-CV=0.6125|STD=0.01133|Time spend=21.335516929626465\n",
      "\tVALENCE-s22|Acc=0.75625|10-CV=0.73083|STD=0.02329|Time spend=22.631097555160522\n",
      "\tAROUSAL-s23|Acc=0.77708|10-CV=0.75417|STD=0.00417|Time spend=20.7413272857666\n",
      "\tVALENCE-s23|Acc=0.77083|10-CV=0.71417|STD=0.01493|Time spend=22.04738450050354\n",
      "\tAROUSAL-s24|Acc=0.825|10-CV=0.825|STD=0.0|Time spend=21.185797452926636\n",
      "-----WARNING: Model s24 failed to learn: sum(ans)=480.0 sum(y)=396.0 len(y)=480\n",
      "\tVALENCE-s24|Acc=0.775|10-CV=0.69917|STD=0.0502|Time spend=22.51097345352173\n",
      "\tAROUSAL-s25|Acc=0.725|10-CV=0.725|STD=0.0|Time spend=19.408945322036743\n",
      "-----WARNING: Model s25 failed to learn: sum(ans)=480.0 sum(y)=348.0 len(y)=480\n",
      "\tVALENCE-s25|Acc=0.67708|10-CV=0.61167|STD=0.04035|Time spend=20.86202907562256\n",
      "\tAROUSAL-s26|Acc=0.7|10-CV=0.61583|STD=0.02594|Time spend=20.87892985343933\n",
      "\tVALENCE-s26|Acc=0.65208|10-CV=0.65083|STD=0.0025|Time spend=22.10742425918579\n",
      "\tAROUSAL-s27|Acc=0.80833|10-CV=0.74333|STD=0.02034|Time spend=20.688008546829224\n",
      "\tVALENCE-s27|Acc=0.75417|10-CV=0.75|STD=0.0|Time spend=21.832430362701416\n",
      "\tAROUSAL-s28|Acc=0.6625|10-CV=0.61|STD=0.02833|Time spend=19.28823471069336\n",
      "\tVALENCE-s28|Acc=0.69375|10-CV=0.63|STD=0.01067|Time spend=20.589502573013306\n",
      "\tAROUSAL-s29|Acc=0.72083|10-CV=0.6575|STD=0.02187|Time spend=21.016555786132812\n",
      "\tVALENCE-s29|Acc=0.7125|10-CV=0.68917|STD=0.02077|Time spend=22.25580644607544\n",
      "\tAROUSAL-s30|Acc=0.67708|10-CV=0.57667|STD=0.03136|Time spend=20.178387880325317\n",
      "\tVALENCE-s30|Acc=0.675|10-CV=0.675|STD=0.0|Time spend=21.43880867958069\n",
      "-----WARNING: Model s30 failed to learn: sum(ans)=480.0 sum(y)=324.0 len(y)=480\n",
      "\tAROUSAL-s31|Acc=0.81667|10-CV=0.66917|STD=0.03874|Time spend=20.124085426330566\n",
      "\tVALENCE-s31|Acc=0.75208|10-CV=0.61917|STD=0.03029|Time spend=21.767634391784668\n",
      "\tAROUSAL-s32|Acc=0.71042|10-CV=0.685|STD=0.00624|Time spend=20.319731950759888\n",
      "\tVALENCE-s32|Acc=0.68958|10-CV=0.635|STD=0.02034|Time spend=21.68203067779541\n",
      "AROUSAL|Acc=0.7406250000000001|10-CV=0.6928125|STD=0.01729597174534375\n",
      "VALENCE|Acc=0.7434895833333334|10-CV=0.6940104166666666|STD=0.025848934682847463\n",
      "TOTAL|Acc=0.7420572916666667|10-CV=0.6934114583333331|STD=0.0215724532140956\n"
     ]
    }
   ],
   "source": [
    "for text in reports:\n",
    "    if(text == None): continue\n",
    "    print(text)\n",
    "\n",
    "accs.extend(accs_v)\n",
    "cv_means.extend(cv_means_v)\n",
    "cv_stds.extend(cv_stds_v)\n",
    "print(f\"TOTAL|Acc={sum(accs)/len(accs)}|10-CV={sum(cv_means)/len(cv_means)}|STD={sum(cv_stds)/len(cv_stds)}\")"
   ]
  },
  {
   "cell_type": "markdown",
   "metadata": {},
   "source": [
    "### 4.4 $ \\text{PLI}(j,k) =  \\frac{1}{T} | \\Sigma^{T}_{t=1} \\text{sign}(Im[e^{i (\\phi^{t}_{j} - \\phi^{t}_{k})}])  | $"
   ]
  },
  {
   "cell_type": "code",
   "execution_count": 16,
   "metadata": {},
   "outputs": [],
   "source": [
    "# bands = [(0,4), (4,8), (8,12), (12,30), (30,64)]\n",
    "def calculate_stft(signals, sfreq):\n",
    "    from scipy import signal\n",
    "    f_range, t_range, Z = signal.stft(signals, sfreq, nperseg=sfreq//10, nfft=sfreq)\n",
    "    magnitude = np.abs(Z) \n",
    "    phase = np.angle(Z)\n",
    "    return magnitude, phase, f_range, t_range\n",
    "\n",
    "def PLI_stft(p_id, phase):\n",
    "    # (32, 65, 12) => (channels, freqs, times)\n",
    "    # print(f\"p_id:{p_id} - data to run {phase.shape}\")\n",
    "    from itertools import combinations\n",
    "    pli = []\n",
    "    # count = 0\n",
    "    for index in range(phase.shape[0]):\n",
    "        pli_epoch = []\n",
    "        for comb in combinations(list(range(phase.shape[1])), 2):\n",
    "            # shape = (65,12)\n",
    "            phase_a, phase_b = phase[index, comb[0]], phase[index, comb[1]]\n",
    "            phase_diff = phase_a - phase_b\n",
    "            # sum along the time size\n",
    "            pli_ab = np.abs(np.average(   np.sign(np.imag(   np.exp(complex(0,1) * phase_diff) ))  , axis=1))\n",
    "            pli_epoch.append(pli_ab)\n",
    "        pli_epoch = np.vstack(pli_epoch)\n",
    "        pli_epoch_5 = np.concatenate([ pli_epoch[:,0:4].mean(axis=1).reshape(-1,1),\n",
    "                                        pli_epoch[:,4:8].mean(axis=1).reshape(-1,1),\n",
    "                                        pli_epoch[:,8:12].mean(axis=1).reshape(-1,1),\n",
    "                                        pli_epoch[:,12:30].mean(axis=1).reshape(-1,1),\n",
    "                                        pli_epoch[:,30:65].mean(axis=1).reshape(-1,1)], axis=0)\n",
    "        pli.append(np.expand_dims(pli_epoch_5, axis=0))\n",
    "        # count += 1\n",
    "        # if(count == 3): break\n",
    "    # shape (496, 65)\n",
    "    # 496 is number of pairs that is not duplicate\n",
    "    # 65 is number of phase of frequencies\n",
    "    pli = np.vstack( pli )\n",
    "    return pli.squeeze()\n",
    "\n",
    "def calculate_pli(data, n_jobs=8):\n",
    "    \"\"\" \n",
    "    Input: Expect data to have (n_epochs, n_channels, n_samples)\n",
    "    Output: (n_epochs, n_conn, n_freqs ) => n_conn = n_channels!/(2!(n_channels-2)!)\n",
    "    \"\"\"\n",
    "    from multiprocessing import Pool\n",
    "\n",
    "    try:\n",
    "        t_out = 60000\n",
    "        pool = Pool()\n",
    "        p_list = []\n",
    "        ans_list = []\n",
    "        num_p = n_jobs\n",
    "        indices = np.array_split(np.arange(data.shape[0]), num_p)\n",
    "        _, phase, _, _ = calculate_stft(data, 128)\n",
    "        for p_id in range(num_p):\n",
    "            p_list.append(pool.apply_async(PLI_stft, [p_id, phase[indices[p_id]] ]))\n",
    "        for p_id in range(num_p):\n",
    "            ans_list.append( p_list[p_id].get(timeout=t_out) )\n",
    "        # ans_list\n",
    "    finally:\n",
    "        print(\"========= close ========\")\n",
    "        pool.close() \n",
    "        pool.terminate()\n",
    "    return np.vstack(ans_list)\n"
   ]
  },
  {
   "cell_type": "code",
   "execution_count": 17,
   "metadata": {},
   "outputs": [
    {
     "data": {
      "application/vnd.jupyter.widget-view+json": {
       "model_id": "2cd90f36f51c44d4b12c75a506e8c9fd",
       "version_major": 2,
       "version_minor": 0
      },
      "text/plain": [
       "  0%|          | 0/32 [00:00<?, ?it/s]"
      ]
     },
     "metadata": {},
     "output_type": "display_data"
    },
    {
     "name": "stdout",
     "output_type": "stream",
     "text": [
      "Fitted sphere radius:         95.3 mm\n",
      "Origin head coordinates:      -0.8 15.1 45.3 mm\n",
      "Origin device coordinates:    -0.8 15.1 45.3 mm\n",
      "========= close ========\n",
      "\tAROUSAL-s01|Acc=0.93542|10-CV=0.60833|STD=0.01708|Time spend=21.347578287124634\n",
      "\tVALENCE-s01|Acc=0.99792|10-CV=0.52|STD=0.0344|Time spend=22.788733959197998\n",
      "Fitted sphere radius:         95.3 mm\n",
      "Origin head coordinates:      -0.8 15.1 45.3 mm\n",
      "Origin device coordinates:    -0.8 15.1 45.3 mm\n",
      "========= close ========\n",
      "\tAROUSAL-s02|Acc=0.87083|10-CV=0.61083|STD=0.02299|Time spend=21.382967948913574\n",
      "\tVALENCE-s02|Acc=0.93333|10-CV=0.58833|STD=0.02843|Time spend=23.179449319839478\n",
      "Fitted sphere radius:         95.3 mm\n",
      "Origin head coordinates:      -0.8 15.1 45.3 mm\n",
      "Origin device coordinates:    -0.8 15.1 45.3 mm\n",
      "========= close ========\n",
      "\tAROUSAL-s03|Acc=0.84167|10-CV=0.8|STD=0.0|Time spend=20.61544966697693\n",
      "\tVALENCE-s03|Acc=0.9875|10-CV=0.53167|STD=0.03114|Time spend=22.888082027435303\n",
      "Fitted sphere radius:         95.3 mm\n",
      "Origin head coordinates:      -0.8 15.1 45.3 mm\n",
      "Origin device coordinates:    -0.8 15.1 45.3 mm\n",
      "========= close ========\n",
      "\tAROUSAL-s04|Acc=0.85|10-CV=0.59583|STD=0.01003|Time spend=25.853066205978394\n",
      "\tVALENCE-s04|Acc=0.80208|10-CV=0.59833|STD=0.00333|Time spend=27.641732454299927\n",
      "Fitted sphere radius:         95.3 mm\n",
      "Origin head coordinates:      -0.8 15.1 45.3 mm\n",
      "Origin device coordinates:    -0.8 15.1 45.3 mm\n",
      "========= close ========\n",
      "\tAROUSAL-s05|Acc=0.84375|10-CV=0.52333|STD=0.0263|Time spend=22.116210460662842\n",
      "\tVALENCE-s05|Acc=0.73333|10-CV=0.58667|STD=0.01247|Time spend=23.979090452194214\n",
      "Fitted sphere radius:         95.3 mm\n",
      "Origin head coordinates:      -0.8 15.1 45.3 mm\n",
      "Origin device coordinates:    -0.8 15.1 45.3 mm\n",
      "========= close ========\n",
      "\tAROUSAL-s06|Acc=0.96667|10-CV=0.57833|STD=0.02303|Time spend=22.677961826324463\n",
      "\tVALENCE-s06|Acc=0.84792|10-CV=0.75|STD=0.0|Time spend=24.429141521453857\n",
      "Fitted sphere radius:         95.3 mm\n",
      "Origin head coordinates:      -0.8 15.1 45.3 mm\n",
      "Origin device coordinates:    -0.8 15.1 45.3 mm\n",
      "========= close ========\n",
      "\tAROUSAL-s07|Acc=0.95|10-CV=0.625|STD=0.0|Time spend=22.38774609565735\n",
      "\tVALENCE-s07|Acc=0.91458|10-CV=0.7|STD=0.0|Time spend=24.614661931991577\n",
      "Fitted sphere radius:         95.3 mm\n",
      "Origin head coordinates:      -0.8 15.1 45.3 mm\n",
      "Origin device coordinates:    -0.8 15.1 45.3 mm\n",
      "========= close ========\n",
      "\tAROUSAL-s08|Acc=0.98958|10-CV=0.56583|STD=0.00946|Time spend=21.704567193984985\n",
      "\tVALENCE-s08|Acc=0.98958|10-CV=0.5725|STD=0.02556|Time spend=23.65564227104187\n",
      "Fitted sphere radius:         95.3 mm\n",
      "Origin head coordinates:      -0.8 15.1 45.3 mm\n",
      "Origin device coordinates:    -0.8 15.1 45.3 mm\n",
      "========= close ========\n",
      "\tAROUSAL-s09|Acc=0.82292|10-CV=0.6025|STD=0.01493|Time spend=22.3971266746521\n",
      "\tVALENCE-s09|Acc=0.95208|10-CV=0.51083|STD=0.03074|Time spend=24.19742488861084\n",
      "Fitted sphere radius:         95.3 mm\n",
      "Origin head coordinates:      -0.8 15.1 45.3 mm\n",
      "Origin device coordinates:    -0.8 15.1 45.3 mm\n",
      "========= close ========\n",
      "\tAROUSAL-s10|Acc=0.98542|10-CV=0.54583|STD=0.02869|Time spend=23.97346544265747\n",
      "\tVALENCE-s10|Acc=0.96875|10-CV=0.58917|STD=0.03292|Time spend=25.839534282684326\n",
      "Fitted sphere radius:         95.3 mm\n",
      "Origin head coordinates:      -0.8 15.1 45.3 mm\n",
      "Origin device coordinates:    -0.8 15.1 45.3 mm\n",
      "========= close ========\n",
      "\tAROUSAL-s11|Acc=0.8625|10-CV=0.62083|STD=0.00672|Time spend=21.823849201202393\n",
      "\tVALENCE-s11|Acc=0.88125|10-CV=0.59417|STD=0.00837|Time spend=23.93106985092163\n",
      "Fitted sphere radius:         95.3 mm\n",
      "Origin head coordinates:      -0.8 15.1 45.3 mm\n",
      "Origin device coordinates:    -0.8 15.1 45.3 mm\n",
      "========= close ========\n",
      "\tAROUSAL-s12|Acc=0.84792|10-CV=0.825|STD=0.0|Time spend=21.979219675064087\n",
      "\tVALENCE-s12|Acc=0.99375|10-CV=0.55417|STD=0.01835|Time spend=24.008018970489502\n",
      "Fitted sphere radius:         95.3 mm\n",
      "Origin head coordinates:      -0.8 15.1 45.3 mm\n",
      "Origin device coordinates:    -0.8 15.1 45.3 mm\n",
      "========= close ========\n",
      "\tAROUSAL-s13|Acc=0.8875|10-CV=0.85|STD=0.0|Time spend=22.073868989944458\n",
      "\tVALENCE-s13|Acc=0.95833|10-CV=0.5675|STD=0.02873|Time spend=24.293587923049927\n",
      "Fitted sphere radius:         95.3 mm\n",
      "Origin head coordinates:      -0.8 15.1 45.3 mm\n",
      "Origin device coordinates:    -0.8 15.1 45.3 mm\n",
      "========= close ========\n",
      "\tAROUSAL-s14|Acc=0.87917|10-CV=0.675|STD=0.0|Time spend=23.54564642906189\n",
      "\tVALENCE-s14|Acc=0.97292|10-CV=0.50583|STD=0.06102|Time spend=25.531947135925293\n",
      "Fitted sphere radius:         95.3 mm\n",
      "Origin head coordinates:      -0.8 15.1 45.3 mm\n",
      "Origin device coordinates:    -0.8 15.1 45.3 mm\n",
      "========= close ========\n",
      "\tAROUSAL-s15|Acc=0.98958|10-CV=0.50583|STD=0.02637|Time spend=22.83009648323059\n",
      "\tVALENCE-s15|Acc=0.99167|10-CV=0.58333|STD=0.05528|Time spend=24.827154397964478\n",
      "Fitted sphere radius:         95.3 mm\n",
      "Origin head coordinates:      -0.8 15.1 45.3 mm\n",
      "Origin device coordinates:    -0.8 15.1 45.3 mm\n",
      "========= close ========\n",
      "\tAROUSAL-s16|Acc=0.99792|10-CV=0.49083|STD=0.02898|Time spend=23.41477346420288\n",
      "\tVALENCE-s16|Acc=0.95208|10-CV=0.62333|STD=0.00333|Time spend=25.418245553970337\n",
      "Fitted sphere radius:         95.3 mm\n",
      "Origin head coordinates:      -0.8 15.1 45.3 mm\n",
      "Origin device coordinates:    -0.8 15.1 45.3 mm\n",
      "========= close ========\n",
      "\tAROUSAL-s17|Acc=0.84167|10-CV=0.605|STD=0.01756|Time spend=21.348869562149048\n",
      "\tVALENCE-s17|Acc=0.92917|10-CV=0.55833|STD=0.03476|Time spend=23.270553827285767\n",
      "Fitted sphere radius:         95.3 mm\n",
      "Origin head coordinates:      -0.8 15.1 45.3 mm\n",
      "Origin device coordinates:    -0.8 15.1 45.3 mm\n",
      "========= close ========\n",
      "\tAROUSAL-s18|Acc=0.88333|10-CV=0.62167|STD=0.00553|Time spend=21.82521152496338\n",
      "\tVALENCE-s18|Acc=0.92292|10-CV=0.60083|STD=0.00583|Time spend=23.909390449523926\n",
      "Fitted sphere radius:         95.3 mm\n",
      "Origin head coordinates:      -0.8 15.1 45.3 mm\n",
      "Origin device coordinates:    -0.8 15.1 45.3 mm\n",
      "========= close ========\n",
      "\tAROUSAL-s19|Acc=0.68542|10-CV=0.675|STD=0.0|Time spend=23.70511531829834\n",
      "\tVALENCE-s19|Acc=0.77917|10-CV=0.56667|STD=0.00833|Time spend=25.703354597091675\n",
      "Fitted sphere radius:         95.3 mm\n",
      "Origin head coordinates:      -0.8 15.1 45.3 mm\n",
      "Origin device coordinates:    -0.8 15.1 45.3 mm\n",
      "========= close ========\n",
      "\tAROUSAL-s20|Acc=0.87292|10-CV=0.775|STD=0.0|Time spend=21.84294867515564\n",
      "\tVALENCE-s20|Acc=0.97708|10-CV=0.55|STD=0.03118|Time spend=24.001718997955322\n",
      "Fitted sphere radius:         95.3 mm\n",
      "Origin head coordinates:      -0.8 15.1 45.3 mm\n",
      "Origin device coordinates:    -0.8 15.1 45.3 mm\n",
      "========= close ========\n",
      "\tAROUSAL-s21|Acc=0.82708|10-CV=0.8|STD=0.0|Time spend=21.404832363128662\n",
      "\tVALENCE-s21|Acc=0.97292|10-CV=0.50083|STD=0.0275|Time spend=23.474724531173706\n",
      "Fitted sphere radius:         95.3 mm\n",
      "Origin head coordinates:      -0.8 15.1 45.3 mm\n",
      "Origin device coordinates:    -0.8 15.1 45.3 mm\n",
      "========= close ========\n",
      "\tAROUSAL-s22|Acc=0.84167|10-CV=0.59583|STD=0.01718|Time spend=21.743324279785156\n",
      "\tVALENCE-s22|Acc=0.88958|10-CV=0.555|STD=0.02082|Time spend=23.762000560760498\n",
      "Fitted sphere radius:         95.3 mm\n",
      "Origin head coordinates:      -0.8 15.1 45.3 mm\n",
      "Origin device coordinates:    -0.8 15.1 45.3 mm\n",
      "========= close ========\n",
      "\tAROUSAL-s23|Acc=0.925|10-CV=0.75|STD=0.0|Time spend=26.006836414337158\n",
      "\tVALENCE-s23|Acc=0.97292|10-CV=0.65|STD=0.0|Time spend=28.010047435760498\n",
      "Fitted sphere radius:         95.3 mm\n",
      "Origin head coordinates:      -0.8 15.1 45.3 mm\n",
      "Origin device coordinates:    -0.8 15.1 45.3 mm\n",
      "========= close ========\n",
      "\tAROUSAL-s24|Acc=0.82708|10-CV=0.825|STD=0.0|Time spend=22.02081871032715\n",
      "\tVALENCE-s24|Acc=0.94792|10-CV=0.54167|STD=0.02739|Time spend=23.78045678138733\n",
      "Fitted sphere radius:         95.3 mm\n",
      "Origin head coordinates:      -0.8 15.1 45.3 mm\n",
      "Origin device coordinates:    -0.8 15.1 45.3 mm\n",
      "========= close ========\n",
      "\tAROUSAL-s25|Acc=0.79167|10-CV=0.725|STD=0.0|Time spend=21.92883062362671\n",
      "\tVALENCE-s25|Acc=0.93333|10-CV=0.5475|STD=0.03962|Time spend=23.715466260910034\n",
      "Fitted sphere radius:         95.3 mm\n",
      "Origin head coordinates:      -0.8 15.1 45.3 mm\n",
      "Origin device coordinates:    -0.8 15.1 45.3 mm\n",
      "========= close ========\n",
      "\tAROUSAL-s26|Acc=0.95|10-CV=0.56917|STD=0.01789|Time spend=21.705841541290283\n",
      "\tVALENCE-s26|Acc=0.83542|10-CV=0.65|STD=0.0|Time spend=23.552423238754272\n",
      "Fitted sphere radius:         95.3 mm\n",
      "Origin head coordinates:      -0.8 15.1 45.3 mm\n",
      "Origin device coordinates:    -0.8 15.1 45.3 mm\n",
      "========= close ========\n",
      "\tAROUSAL-s27|Acc=0.93958|10-CV=0.675|STD=0.0|Time spend=22.368011236190796\n",
      "\tVALENCE-s27|Acc=0.91875|10-CV=0.75|STD=0.0|Time spend=24.03403615951538\n",
      "Fitted sphere radius:         95.3 mm\n",
      "Origin head coordinates:      -0.8 15.1 45.3 mm\n",
      "Origin device coordinates:    -0.8 15.1 45.3 mm\n",
      "========= close ========\n",
      "\tAROUSAL-s28|Acc=0.93958|10-CV=0.52167|STD=0.02147|Time spend=21.41925597190857\n",
      "\tVALENCE-s28|Acc=0.9125|10-CV=0.62417|STD=0.00449|Time spend=23.099621772766113\n",
      "Fitted sphere radius:         95.3 mm\n",
      "Origin head coordinates:      -0.8 15.1 45.3 mm\n",
      "Origin device coordinates:    -0.8 15.1 45.3 mm\n",
      "========= close ========\n",
      "\tAROUSAL-s29|Acc=0.86458|10-CV=0.6225|STD=0.00534|Time spend=21.651435375213623\n",
      "\tVALENCE-s29|Acc=0.89375|10-CV=0.56667|STD=0.03333|Time spend=23.453925609588623\n",
      "Fitted sphere radius:         95.3 mm\n",
      "Origin head coordinates:      -0.8 15.1 45.3 mm\n",
      "Origin device coordinates:    -0.8 15.1 45.3 mm\n",
      "========= close ========\n",
      "\tAROUSAL-s30|Acc=0.95625|10-CV=0.51167|STD=0.03894|Time spend=21.12885808944702\n",
      "\tVALENCE-s30|Acc=0.82917|10-CV=0.675|STD=0.0|Time spend=22.920016527175903\n",
      "Fitted sphere radius:         95.3 mm\n",
      "Origin head coordinates:      -0.8 15.1 45.3 mm\n",
      "Origin device coordinates:    -0.8 15.1 45.3 mm\n",
      "========= close ========\n",
      "\tAROUSAL-s31|Acc=0.99583|10-CV=0.5775|STD=0.02206|Time spend=23.22924780845642\n",
      "\tVALENCE-s31|Acc=0.98958|10-CV=0.59|STD=0.0223|Time spend=24.9867901802063\n",
      "Fitted sphere radius:         95.3 mm\n",
      "Origin head coordinates:      -0.8 15.1 45.3 mm\n",
      "Origin device coordinates:    -0.8 15.1 45.3 mm\n",
      "========= close ========\n",
      "\tAROUSAL-s32|Acc=0.86875|10-CV=0.675|STD=0.00373|Time spend=20.530163526535034\n",
      "\tVALENCE-s32|Acc=0.98958|10-CV=0.48833|STD=0.05326|Time spend=22.21745800971985\n",
      "AROUSAL|Acc=0.8916015625|10-CV=0.6421354166666668|STD=0.011383737592367297\n",
      "VALENCE|Acc=0.9240885416666667|10-CV=0.5872135416666666|STD=0.021340681777946787\n"
     ]
    }
   ],
   "source": [
    "accs, cv_means, cv_stds = [],[],[]\n",
    "accs_v, cv_means_v, cv_stds_v = [],[],[]\n",
    "reports = []\n",
    "for filename in (pbar := tqdm(dataset.get_file_list())):\n",
    "    start = time.time()\n",
    "    pbar.set_description(filename)\n",
    "    data, labels, groups = dataset.get_data(filename, stimuli=Dataset_subjectDependent.STIMULI_AROUSAL, return_type='mne', sfreq=128)\n",
    "    \n",
    "    data_csd = mne.preprocessing.compute_current_source_density(data)\n",
    "\n",
    "    pli = calculate_pli(data_csd.get_data(), n_jobs=8)\n",
    "\n",
    "    _,acc,cross,train_report = train_model(pli, labels.squeeze(), groups, filename=filename, return_text=True)\n",
    "    report = f\"\\tAROUSAL-{filename}|Acc={round(acc,5)}|10-CV={round(cross.mean(),5)}|STD={round(cross.std(),5)}|Time spend={time.time() - start}\"\n",
    "    print(report)\n",
    "    reports.append(report)\n",
    "    reports.append(train_report)\n",
    "    accs.append(acc)\n",
    "    cv_means.append(cross.mean())\n",
    "    cv_stds.append(cross.std())\n",
    "\n",
    "    _, labels_v, groups_v = dataset.get_data(filename, stimuli=Dataset_subjectDependent.STIMULI_VALENCE, return_type='mne', sfreq=128)\n",
    "    _,acc,cross,train_report = train_model(pli, labels_v.squeeze(), groups_v, filename=filename, return_text=True)\n",
    "    report = f\"\\tVALENCE-{filename}|Acc={round(acc,5)}|10-CV={round(cross.mean(),5)}|STD={round(cross.std(),5)}|Time spend={time.time() - start}\"\n",
    "    print(report)\n",
    "    reports.append(report)\n",
    "    reports.append(train_report)\n",
    "    accs_v.append(acc)\n",
    "    cv_means_v.append(cross.mean())\n",
    "    cv_stds_v.append(cross.std())\n",
    "    # break\n",
    "    # count+=1\n",
    "    # if(count == 5): break\n",
    "report = f\"AROUSAL|Acc={sum(accs)/len(accs)}|10-CV={sum(cv_means)/len(cv_means)}|STD={sum(cv_stds)/len(cv_stds)}\"\n",
    "print(report)\n",
    "reports.append(report)\n",
    "report = f\"VALENCE|Acc={sum(accs_v)/len(accs_v)}|10-CV={sum(cv_means_v)/len(cv_means_v)}|STD={sum(cv_stds_v)/len(cv_stds_v)}\"\n",
    "print(report)\n",
    "reports.append(report)"
   ]
  },
  {
   "cell_type": "code",
   "execution_count": 18,
   "metadata": {},
   "outputs": [
    {
     "name": "stdout",
     "output_type": "stream",
     "text": [
      "\tAROUSAL-s01|Acc=0.93542|10-CV=0.60833|STD=0.01708|Time spend=21.347578287124634\n",
      "\tVALENCE-s01|Acc=0.99792|10-CV=0.52|STD=0.0344|Time spend=22.788733959197998\n",
      "\tAROUSAL-s02|Acc=0.87083|10-CV=0.61083|STD=0.02299|Time spend=21.382967948913574\n",
      "\tVALENCE-s02|Acc=0.93333|10-CV=0.58833|STD=0.02843|Time spend=23.179449319839478\n",
      "\tAROUSAL-s03|Acc=0.84167|10-CV=0.8|STD=0.0|Time spend=20.61544966697693\n",
      "\tVALENCE-s03|Acc=0.9875|10-CV=0.53167|STD=0.03114|Time spend=22.888082027435303\n",
      "\tAROUSAL-s04|Acc=0.85|10-CV=0.59583|STD=0.01003|Time spend=25.853066205978394\n",
      "\tVALENCE-s04|Acc=0.80208|10-CV=0.59833|STD=0.00333|Time spend=27.641732454299927\n",
      "\tAROUSAL-s05|Acc=0.84375|10-CV=0.52333|STD=0.0263|Time spend=22.116210460662842\n",
      "\tVALENCE-s05|Acc=0.73333|10-CV=0.58667|STD=0.01247|Time spend=23.979090452194214\n",
      "\tAROUSAL-s06|Acc=0.96667|10-CV=0.57833|STD=0.02303|Time spend=22.677961826324463\n",
      "\tVALENCE-s06|Acc=0.84792|10-CV=0.75|STD=0.0|Time spend=24.429141521453857\n",
      "\tAROUSAL-s07|Acc=0.95|10-CV=0.625|STD=0.0|Time spend=22.38774609565735\n",
      "\tVALENCE-s07|Acc=0.91458|10-CV=0.7|STD=0.0|Time spend=24.614661931991577\n",
      "\tAROUSAL-s08|Acc=0.98958|10-CV=0.56583|STD=0.00946|Time spend=21.704567193984985\n",
      "\tVALENCE-s08|Acc=0.98958|10-CV=0.5725|STD=0.02556|Time spend=23.65564227104187\n",
      "\tAROUSAL-s09|Acc=0.82292|10-CV=0.6025|STD=0.01493|Time spend=22.3971266746521\n",
      "\tVALENCE-s09|Acc=0.95208|10-CV=0.51083|STD=0.03074|Time spend=24.19742488861084\n",
      "\tAROUSAL-s10|Acc=0.98542|10-CV=0.54583|STD=0.02869|Time spend=23.97346544265747\n",
      "\tVALENCE-s10|Acc=0.96875|10-CV=0.58917|STD=0.03292|Time spend=25.839534282684326\n",
      "\tAROUSAL-s11|Acc=0.8625|10-CV=0.62083|STD=0.00672|Time spend=21.823849201202393\n",
      "\tVALENCE-s11|Acc=0.88125|10-CV=0.59417|STD=0.00837|Time spend=23.93106985092163\n",
      "\tAROUSAL-s12|Acc=0.84792|10-CV=0.825|STD=0.0|Time spend=21.979219675064087\n",
      "\tVALENCE-s12|Acc=0.99375|10-CV=0.55417|STD=0.01835|Time spend=24.008018970489502\n",
      "\tAROUSAL-s13|Acc=0.8875|10-CV=0.85|STD=0.0|Time spend=22.073868989944458\n",
      "\tVALENCE-s13|Acc=0.95833|10-CV=0.5675|STD=0.02873|Time spend=24.293587923049927\n",
      "\tAROUSAL-s14|Acc=0.87917|10-CV=0.675|STD=0.0|Time spend=23.54564642906189\n",
      "\tVALENCE-s14|Acc=0.97292|10-CV=0.50583|STD=0.06102|Time spend=25.531947135925293\n",
      "\tAROUSAL-s15|Acc=0.98958|10-CV=0.50583|STD=0.02637|Time spend=22.83009648323059\n",
      "\tVALENCE-s15|Acc=0.99167|10-CV=0.58333|STD=0.05528|Time spend=24.827154397964478\n",
      "\tAROUSAL-s16|Acc=0.99792|10-CV=0.49083|STD=0.02898|Time spend=23.41477346420288\n",
      "\tVALENCE-s16|Acc=0.95208|10-CV=0.62333|STD=0.00333|Time spend=25.418245553970337\n",
      "\tAROUSAL-s17|Acc=0.84167|10-CV=0.605|STD=0.01756|Time spend=21.348869562149048\n",
      "\tVALENCE-s17|Acc=0.92917|10-CV=0.55833|STD=0.03476|Time spend=23.270553827285767\n",
      "\tAROUSAL-s18|Acc=0.88333|10-CV=0.62167|STD=0.00553|Time spend=21.82521152496338\n",
      "\tVALENCE-s18|Acc=0.92292|10-CV=0.60083|STD=0.00583|Time spend=23.909390449523926\n",
      "\tAROUSAL-s19|Acc=0.68542|10-CV=0.675|STD=0.0|Time spend=23.70511531829834\n",
      "\tVALENCE-s19|Acc=0.77917|10-CV=0.56667|STD=0.00833|Time spend=25.703354597091675\n",
      "\tAROUSAL-s20|Acc=0.87292|10-CV=0.775|STD=0.0|Time spend=21.84294867515564\n",
      "\tVALENCE-s20|Acc=0.97708|10-CV=0.55|STD=0.03118|Time spend=24.001718997955322\n",
      "\tAROUSAL-s21|Acc=0.82708|10-CV=0.8|STD=0.0|Time spend=21.404832363128662\n",
      "\tVALENCE-s21|Acc=0.97292|10-CV=0.50083|STD=0.0275|Time spend=23.474724531173706\n",
      "\tAROUSAL-s22|Acc=0.84167|10-CV=0.59583|STD=0.01718|Time spend=21.743324279785156\n",
      "\tVALENCE-s22|Acc=0.88958|10-CV=0.555|STD=0.02082|Time spend=23.762000560760498\n",
      "\tAROUSAL-s23|Acc=0.925|10-CV=0.75|STD=0.0|Time spend=26.006836414337158\n",
      "\tVALENCE-s23|Acc=0.97292|10-CV=0.65|STD=0.0|Time spend=28.010047435760498\n",
      "\tAROUSAL-s24|Acc=0.82708|10-CV=0.825|STD=0.0|Time spend=22.02081871032715\n",
      "\tVALENCE-s24|Acc=0.94792|10-CV=0.54167|STD=0.02739|Time spend=23.78045678138733\n",
      "\tAROUSAL-s25|Acc=0.79167|10-CV=0.725|STD=0.0|Time spend=21.92883062362671\n",
      "\tVALENCE-s25|Acc=0.93333|10-CV=0.5475|STD=0.03962|Time spend=23.715466260910034\n",
      "\tAROUSAL-s26|Acc=0.95|10-CV=0.56917|STD=0.01789|Time spend=21.705841541290283\n",
      "\tVALENCE-s26|Acc=0.83542|10-CV=0.65|STD=0.0|Time spend=23.552423238754272\n",
      "\tAROUSAL-s27|Acc=0.93958|10-CV=0.675|STD=0.0|Time spend=22.368011236190796\n",
      "\tVALENCE-s27|Acc=0.91875|10-CV=0.75|STD=0.0|Time spend=24.03403615951538\n",
      "\tAROUSAL-s28|Acc=0.93958|10-CV=0.52167|STD=0.02147|Time spend=21.41925597190857\n",
      "\tVALENCE-s28|Acc=0.9125|10-CV=0.62417|STD=0.00449|Time spend=23.099621772766113\n",
      "\tAROUSAL-s29|Acc=0.86458|10-CV=0.6225|STD=0.00534|Time spend=21.651435375213623\n",
      "\tVALENCE-s29|Acc=0.89375|10-CV=0.56667|STD=0.03333|Time spend=23.453925609588623\n",
      "\tAROUSAL-s30|Acc=0.95625|10-CV=0.51167|STD=0.03894|Time spend=21.12885808944702\n",
      "\tVALENCE-s30|Acc=0.82917|10-CV=0.675|STD=0.0|Time spend=22.920016527175903\n",
      "\tAROUSAL-s31|Acc=0.99583|10-CV=0.5775|STD=0.02206|Time spend=23.22924780845642\n",
      "\tVALENCE-s31|Acc=0.98958|10-CV=0.59|STD=0.0223|Time spend=24.9867901802063\n",
      "\tAROUSAL-s32|Acc=0.86875|10-CV=0.675|STD=0.00373|Time spend=20.530163526535034\n",
      "\tVALENCE-s32|Acc=0.98958|10-CV=0.48833|STD=0.05326|Time spend=22.21745800971985\n",
      "AROUSAL|Acc=0.8916015625|10-CV=0.6421354166666668|STD=0.011383737592367297\n",
      "VALENCE|Acc=0.9240885416666667|10-CV=0.5872135416666666|STD=0.021340681777946787\n",
      "TOTAL|Acc=0.9078450520833337|10-CV=0.6146744791666667|STD=0.01636220968515704\n"
     ]
    }
   ],
   "source": [
    "for text in reports:\n",
    "    if(text == None): continue\n",
    "    print(text)\n",
    "\n",
    "accs.extend(accs_v)\n",
    "cv_means.extend(cv_means_v)\n",
    "cv_stds.extend(cv_stds_v)\n",
    "print(f\"TOTAL|Acc={sum(accs)/len(accs)}|10-CV={sum(cv_means)/len(cv_means)}|STD={sum(cv_stds)/len(cv_stds)}\")"
   ]
  },
  {
   "cell_type": "markdown",
   "metadata": {},
   "source": [
    "## 5. CSP"
   ]
  },
  {
   "cell_type": "code",
   "execution_count": 19,
   "metadata": {},
   "outputs": [],
   "source": [
    "from components.CSP import CSP\n",
    "from mne_features.feature_extraction import FeatureExtractor\n",
    "\n",
    "bands = [(0,4), (4,8), (8,12), (12,30), (30,64)]\n",
    "# [alias_feature_function]__[optional_param]\n",
    "params = dict({\n",
    "    'pow_freq_bands__log':True,\n",
    "    'pow_freq_bands__normalize':False,\n",
    "    'pow_freq_bands__freq_bands':bands\n",
    "})"
   ]
  },
  {
   "cell_type": "code",
   "execution_count": 20,
   "metadata": {},
   "outputs": [
    {
     "data": {
      "application/vnd.jupyter.widget-view+json": {
       "model_id": "8b7a07a23be640a1aaa99b3155dfee4e",
       "version_major": 2,
       "version_minor": 0
      },
      "text/plain": [
       "  0%|          | 0/32 [00:00<?, ?it/s]"
      ]
     },
     "metadata": {},
     "output_type": "display_data"
    },
    {
     "name": "stderr",
     "output_type": "stream",
     "text": [
      "/root/projects/components/CSP.py:78: ComplexWarning: Casting complex values to real discards the imaginary part\n",
      "  return SFa.astype(np.float32)\n"
     ]
    },
    {
     "name": "stdout",
     "output_type": "stream",
     "text": [
      "-----WARNING: Model s01 failed to learn: sum(ans)=480.0 sum(y)=288.0 len(y)=480\n",
      "\tAROUSAL-s01|Acc=0.6|10-CV=0.6|STD=0.0|Time spend=1.3191819190979004\n"
     ]
    },
    {
     "name": "stderr",
     "output_type": "stream",
     "text": [
      "/root/projects/components/CSP.py:78: ComplexWarning: Casting complex values to real discards the imaginary part\n",
      "  return SFa.astype(np.float32)\n"
     ]
    },
    {
     "name": "stdout",
     "output_type": "stream",
     "text": [
      "\tAROUSAL-s02|Acc=0.63542|10-CV=0.60833|STD=0.01394|Time spend=1.6479735374450684\n"
     ]
    },
    {
     "name": "stderr",
     "output_type": "stream",
     "text": [
      "/root/projects/components/CSP.py:78: ComplexWarning: Casting complex values to real discards the imaginary part\n",
      "  return SFa.astype(np.float32)\n"
     ]
    },
    {
     "name": "stdout",
     "output_type": "stream",
     "text": [
      "\tAROUSAL-s03|Acc=0.94792|10-CV=0.94167|STD=0.019|Time spend=1.5636968612670898\n"
     ]
    },
    {
     "name": "stderr",
     "output_type": "stream",
     "text": [
      "/root/projects/components/CSP.py:78: ComplexWarning: Casting complex values to real discards the imaginary part\n",
      "  return SFa.astype(np.float32)\n"
     ]
    },
    {
     "name": "stdout",
     "output_type": "stream",
     "text": [
      "\tAROUSAL-s04|Acc=0.66667|10-CV=0.60667|STD=0.02603|Time spend=1.5765018463134766\n"
     ]
    },
    {
     "name": "stderr",
     "output_type": "stream",
     "text": [
      "/root/projects/components/CSP.py:78: ComplexWarning: Casting complex values to real discards the imaginary part\n",
      "  return SFa.astype(np.float32)\n"
     ]
    },
    {
     "name": "stdout",
     "output_type": "stream",
     "text": [
      "\tAROUSAL-s05|Acc=0.84375|10-CV=0.83|STD=0.04552|Time spend=1.3570048809051514\n"
     ]
    },
    {
     "name": "stderr",
     "output_type": "stream",
     "text": [
      "/root/projects/components/CSP.py:78: ComplexWarning: Casting complex values to real discards the imaginary part\n",
      "  return SFa.astype(np.float32)\n"
     ]
    },
    {
     "name": "stdout",
     "output_type": "stream",
     "text": [
      "\tAROUSAL-s06|Acc=0.77083|10-CV=0.745|STD=0.03636|Time spend=1.7055926322937012\n"
     ]
    },
    {
     "name": "stderr",
     "output_type": "stream",
     "text": [
      "/root/projects/components/CSP.py:78: ComplexWarning: Casting complex values to real discards the imaginary part\n",
      "  return SFa.astype(np.float32)\n"
     ]
    },
    {
     "name": "stdout",
     "output_type": "stream",
     "text": [
      "\tAROUSAL-s07|Acc=0.94375|10-CV=0.93583|STD=0.02043|Time spend=1.225365161895752\n"
     ]
    },
    {
     "name": "stderr",
     "output_type": "stream",
     "text": [
      "/root/projects/components/CSP.py:78: ComplexWarning: Casting complex values to real discards the imaginary part\n",
      "  return SFa.astype(np.float32)\n"
     ]
    },
    {
     "name": "stdout",
     "output_type": "stream",
     "text": [
      "\tAROUSAL-s08|Acc=0.59167|10-CV=0.57|STD=0.02744|Time spend=1.4843449592590332\n"
     ]
    },
    {
     "name": "stderr",
     "output_type": "stream",
     "text": [
      "/root/projects/components/CSP.py:78: ComplexWarning: Casting complex values to real discards the imaginary part\n",
      "  return SFa.astype(np.float32)\n"
     ]
    },
    {
     "name": "stdout",
     "output_type": "stream",
     "text": [
      "\tAROUSAL-s09|Acc=0.94792|10-CV=0.9375|STD=0.01455|Time spend=1.1036555767059326\n"
     ]
    },
    {
     "name": "stderr",
     "output_type": "stream",
     "text": [
      "/root/projects/components/CSP.py:78: ComplexWarning: Casting complex values to real discards the imaginary part\n",
      "  return SFa.astype(np.float32)\n"
     ]
    },
    {
     "name": "stdout",
     "output_type": "stream",
     "text": [
      "\tAROUSAL-s10|Acc=0.9625|10-CV=0.96333|STD=0.01871|Time spend=0.8383004665374756\n"
     ]
    },
    {
     "name": "stderr",
     "output_type": "stream",
     "text": [
      "/root/projects/components/CSP.py:78: ComplexWarning: Casting complex values to real discards the imaginary part\n",
      "  return SFa.astype(np.float32)\n"
     ]
    },
    {
     "name": "stdout",
     "output_type": "stream",
     "text": [
      "-----WARNING: Model s11 failed to learn: sum(ans)=0.0 sum(y)=180.0 len(y)=480\n",
      "\tAROUSAL-s11|Acc=0.625|10-CV=0.625|STD=0.0|Time spend=1.4753811359405518\n"
     ]
    },
    {
     "name": "stderr",
     "output_type": "stream",
     "text": [
      "/root/projects/components/CSP.py:78: ComplexWarning: Casting complex values to real discards the imaginary part\n",
      "  return SFa.astype(np.float32)\n"
     ]
    },
    {
     "name": "stdout",
     "output_type": "stream",
     "text": [
      "\tAROUSAL-s12|Acc=0.90417|10-CV=0.89583|STD=0.01592|Time spend=1.0940263271331787\n"
     ]
    },
    {
     "name": "stderr",
     "output_type": "stream",
     "text": [
      "/root/projects/components/CSP.py:78: ComplexWarning: Casting complex values to real discards the imaginary part\n",
      "  return SFa.astype(np.float32)\n"
     ]
    },
    {
     "name": "stdout",
     "output_type": "stream",
     "text": [
      "\tAROUSAL-s13|Acc=0.90208|10-CV=0.87417|STD=0.01205|Time spend=1.1995010375976562\n"
     ]
    },
    {
     "name": "stderr",
     "output_type": "stream",
     "text": [
      "/root/projects/components/CSP.py:78: ComplexWarning: Casting complex values to real discards the imaginary part\n",
      "  return SFa.astype(np.float32)\n"
     ]
    },
    {
     "name": "stdout",
     "output_type": "stream",
     "text": [
      "-----WARNING: Model s14 failed to learn: sum(ans)=480.0 sum(y)=324.0 len(y)=480\n",
      "\tAROUSAL-s14|Acc=0.675|10-CV=0.67667|STD=0.00333|Time spend=1.6020817756652832\n"
     ]
    },
    {
     "name": "stderr",
     "output_type": "stream",
     "text": [
      "/root/projects/components/CSP.py:78: ComplexWarning: Casting complex values to real discards the imaginary part\n",
      "  return SFa.astype(np.float32)\n"
     ]
    },
    {
     "name": "stdout",
     "output_type": "stream",
     "text": [
      "\tAROUSAL-s15|Acc=0.625|10-CV=0.56083|STD=0.04184|Time spend=1.1861932277679443\n"
     ]
    },
    {
     "name": "stderr",
     "output_type": "stream",
     "text": [
      "/root/projects/components/CSP.py:78: ComplexWarning: Casting complex values to real discards the imaginary part\n",
      "  return SFa.astype(np.float32)\n"
     ]
    },
    {
     "name": "stdout",
     "output_type": "stream",
     "text": [
      "\tAROUSAL-s16|Acc=0.99167|10-CV=0.99083|STD=0.01083|Time spend=0.8541164398193359\n"
     ]
    },
    {
     "name": "stderr",
     "output_type": "stream",
     "text": [
      "/root/projects/components/CSP.py:78: ComplexWarning: Casting complex values to real discards the imaginary part\n",
      "  return SFa.astype(np.float32)\n"
     ]
    },
    {
     "name": "stdout",
     "output_type": "stream",
     "text": [
      "\tAROUSAL-s17|Acc=0.94375|10-CV=0.94|STD=0.01658|Time spend=0.747441291809082\n"
     ]
    },
    {
     "name": "stderr",
     "output_type": "stream",
     "text": [
      "/root/projects/components/CSP.py:78: ComplexWarning: Casting complex values to real discards the imaginary part\n",
      "  return SFa.astype(np.float32)\n"
     ]
    },
    {
     "name": "stdout",
     "output_type": "stream",
     "text": [
      "\tAROUSAL-s18|Acc=0.64375|10-CV=0.63333|STD=0.01179|Time spend=0.9071221351623535\n"
     ]
    },
    {
     "name": "stderr",
     "output_type": "stream",
     "text": [
      "/root/projects/components/CSP.py:78: ComplexWarning: Casting complex values to real discards the imaginary part\n",
      "  return SFa.astype(np.float32)\n"
     ]
    },
    {
     "name": "stdout",
     "output_type": "stream",
     "text": [
      "\tAROUSAL-s19|Acc=0.925|10-CV=0.925|STD=0.01787|Time spend=0.9065165519714355\n"
     ]
    },
    {
     "name": "stderr",
     "output_type": "stream",
     "text": [
      "/root/projects/components/CSP.py:78: ComplexWarning: Casting complex values to real discards the imaginary part\n",
      "  return SFa.astype(np.float32)\n"
     ]
    },
    {
     "name": "stdout",
     "output_type": "stream",
     "text": [
      "-----WARNING: Model s20 failed to learn: sum(ans)=480.0 sum(y)=372.0 len(y)=480\n",
      "\tAROUSAL-s20|Acc=0.775|10-CV=0.775|STD=0.0|Time spend=0.6970162391662598\n"
     ]
    },
    {
     "name": "stderr",
     "output_type": "stream",
     "text": [
      "/root/projects/components/CSP.py:78: ComplexWarning: Casting complex values to real discards the imaginary part\n",
      "  return SFa.astype(np.float32)\n"
     ]
    },
    {
     "name": "stdout",
     "output_type": "stream",
     "text": [
      "-----WARNING: Model s21 failed to learn: sum(ans)=480.0 sum(y)=384.0 len(y)=480\n",
      "\tAROUSAL-s21|Acc=0.8|10-CV=0.7975|STD=0.0075|Time spend=0.9711315631866455\n"
     ]
    },
    {
     "name": "stderr",
     "output_type": "stream",
     "text": [
      "/root/projects/components/CSP.py:78: ComplexWarning: Casting complex values to real discards the imaginary part\n",
      "  return SFa.astype(np.float32)\n"
     ]
    },
    {
     "name": "stdout",
     "output_type": "stream",
     "text": [
      "\tAROUSAL-s22|Acc=0.60208|10-CV=0.58083|STD=0.02299|Time spend=0.6600346565246582\n"
     ]
    },
    {
     "name": "stderr",
     "output_type": "stream",
     "text": [
      "/root/projects/components/CSP.py:78: ComplexWarning: Casting complex values to real discards the imaginary part\n",
      "  return SFa.astype(np.float32)\n"
     ]
    },
    {
     "name": "stdout",
     "output_type": "stream",
     "text": [
      "\tAROUSAL-s23|Acc=0.85208|10-CV=0.85083|STD=0.02341|Time spend=0.5949339866638184\n"
     ]
    },
    {
     "name": "stderr",
     "output_type": "stream",
     "text": [
      "/root/projects/components/CSP.py:78: ComplexWarning: Casting complex values to real discards the imaginary part\n",
      "  return SFa.astype(np.float32)\n"
     ]
    },
    {
     "name": "stdout",
     "output_type": "stream",
     "text": [
      "-----WARNING: Model s24 failed to learn: sum(ans)=480.0 sum(y)=396.0 len(y)=480\n",
      "\tAROUSAL-s24|Acc=0.825|10-CV=0.825|STD=0.0|Time spend=0.6049678325653076\n"
     ]
    },
    {
     "name": "stderr",
     "output_type": "stream",
     "text": [
      "/root/projects/components/CSP.py:78: ComplexWarning: Casting complex values to real discards the imaginary part\n",
      "  return SFa.astype(np.float32)\n"
     ]
    },
    {
     "name": "stdout",
     "output_type": "stream",
     "text": [
      "-----WARNING: Model s25 failed to learn: sum(ans)=480.0 sum(y)=348.0 len(y)=480\n",
      "\tAROUSAL-s25|Acc=0.725|10-CV=0.725|STD=0.0|Time spend=0.8780219554901123\n"
     ]
    },
    {
     "name": "stderr",
     "output_type": "stream",
     "text": [
      "/root/projects/components/CSP.py:78: ComplexWarning: Casting complex values to real discards the imaginary part\n",
      "  return SFa.astype(np.float32)\n"
     ]
    },
    {
     "name": "stdout",
     "output_type": "stream",
     "text": [
      "\tAROUSAL-s26|Acc=0.75|10-CV=0.725|STD=0.03416|Time spend=0.7597005367279053\n"
     ]
    },
    {
     "name": "stderr",
     "output_type": "stream",
     "text": [
      "/root/projects/components/CSP.py:78: ComplexWarning: Casting complex values to real discards the imaginary part\n",
      "  return SFa.astype(np.float32)\n"
     ]
    },
    {
     "name": "stdout",
     "output_type": "stream",
     "text": [
      "\tAROUSAL-s27|Acc=0.88542|10-CV=0.86333|STD=0.02333|Time spend=0.6184847354888916\n"
     ]
    },
    {
     "name": "stderr",
     "output_type": "stream",
     "text": [
      "/root/projects/components/CSP.py:78: ComplexWarning: Casting complex values to real discards the imaginary part\n",
      "  return SFa.astype(np.float32)\n"
     ]
    },
    {
     "name": "stdout",
     "output_type": "stream",
     "text": [
      "\tAROUSAL-s28|Acc=0.60833|10-CV=0.57917|STD=0.02795|Time spend=0.7154512405395508\n"
     ]
    },
    {
     "name": "stderr",
     "output_type": "stream",
     "text": [
      "/root/projects/components/CSP.py:78: ComplexWarning: Casting complex values to real discards the imaginary part\n",
      "  return SFa.astype(np.float32)\n"
     ]
    },
    {
     "name": "stdout",
     "output_type": "stream",
     "text": [
      "\tAROUSAL-s29|Acc=0.66667|10-CV=0.63667|STD=0.02048|Time spend=1.6533079147338867\n"
     ]
    },
    {
     "name": "stderr",
     "output_type": "stream",
     "text": [
      "/root/projects/components/CSP.py:78: ComplexWarning: Casting complex values to real discards the imaginary part\n",
      "  return SFa.astype(np.float32)\n"
     ]
    },
    {
     "name": "stdout",
     "output_type": "stream",
     "text": [
      "\tAROUSAL-s30|Acc=0.94167|10-CV=0.93583|STD=0.01669|Time spend=0.7009027004241943\n"
     ]
    },
    {
     "name": "stderr",
     "output_type": "stream",
     "text": [
      "/root/projects/components/CSP.py:78: ComplexWarning: Casting complex values to real discards the imaginary part\n",
      "  return SFa.astype(np.float32)\n"
     ]
    },
    {
     "name": "stdout",
     "output_type": "stream",
     "text": [
      "\tAROUSAL-s31|Acc=0.59167|10-CV=0.55083|STD=0.03343|Time spend=0.7258539199829102\n"
     ]
    },
    {
     "name": "stderr",
     "output_type": "stream",
     "text": [
      "/root/projects/components/CSP.py:78: ComplexWarning: Casting complex values to real discards the imaginary part\n",
      "  return SFa.astype(np.float32)\n"
     ]
    },
    {
     "name": "stdout",
     "output_type": "stream",
     "text": [
      "\tAROUSAL-s32|Acc=0.85417|10-CV=0.835|STD=0.02409|Time spend=0.6284253597259521\n",
      "AROUSAL|Acc=0.7819661458333335|10-CV=0.7668750000000002|STD=0.0183199131872165\n"
     ]
    }
   ],
   "source": [
    "accs, cv_means, cv_stds = [],[],[]\n",
    "for filename in tqdm(dataset.get_file_list()):\n",
    "\n",
    "    data, labels, groups = dataset.get_data(filename, stimuli=Dataset_subjectDependent.STIMULI_AROUSAL, return_type='numpy')\n",
    "    labels = labels.squeeze()\n",
    "    start = time.time()\n",
    "    filters = CSP(data[labels==0], data[labels==1])\n",
    "    \n",
    "    csp_data = []\n",
    "    for index in range(len(data)):\n",
    "        \n",
    "        # (672, 32) @ (32, 32) = (672, 32)\n",
    "        csp = data[index].T @ filters[labels[index].astype(int)]\n",
    "        # (1, 32, 672)\n",
    "        csp = np.expand_dims(csp.T, axis=0)\n",
    "        csp_data.append(csp)\n",
    "\n",
    "    csp_data = np.vstack(csp_data)\n",
    "    # print(csp_data.shape) => (2400, 32, 128)\n",
    "    fe = FeatureExtractor(sfreq=128, selected_funcs=['pow_freq_bands'],params=params,n_jobs=8)\n",
    "    X = fe.fit_transform(X=csp_data)\n",
    "    # print(X.shape, time.time() - start) => (2400, 160) 1.2374355792999268\n",
    "\n",
    "    assert X.shape[1] == 160\n",
    "    _, acc, cross = train_model(X, labels.reshape(-1), groups, filename=filename)\n",
    "    print(f\"\\tAROUSAL-{filename}|Acc={round(acc,5)}|10-CV={round(cross.mean(),5)}|STD={round(cross.std(),5)}|Time spend={time.time() - start}\")\n",
    "    accs.append(acc)\n",
    "    cv_means.append(cross.mean())\n",
    "    cv_stds.append(cross.std())\n",
    "print(f\"AROUSAL|Acc={sum(accs)/len(accs)}|10-CV={sum(cv_means)/len(cv_means)}|STD={sum(cv_stds)/len(cv_stds)}\")"
   ]
  },
  {
   "cell_type": "code",
   "execution_count": 21,
   "metadata": {},
   "outputs": [
    {
     "data": {
      "application/vnd.jupyter.widget-view+json": {
       "model_id": "75be802f31db40f0be9c5d3b666cb7ad",
       "version_major": 2,
       "version_minor": 0
      },
      "text/plain": [
       "  0%|          | 0/32 [00:00<?, ?it/s]"
      ]
     },
     "metadata": {},
     "output_type": "display_data"
    },
    {
     "name": "stderr",
     "output_type": "stream",
     "text": [
      "/root/projects/components/CSP.py:78: ComplexWarning: Casting complex values to real discards the imaginary part\n",
      "  return SFa.astype(np.float32)\n"
     ]
    },
    {
     "name": "stdout",
     "output_type": "stream",
     "text": [
      "\tVALENCE-s01|Acc=0.79583|10-CV=0.8|STD=0.02838|Time spend=0.7523384094238281\n"
     ]
    },
    {
     "name": "stderr",
     "output_type": "stream",
     "text": [
      "/root/projects/components/CSP.py:78: ComplexWarning: Casting complex values to real discards the imaginary part\n",
      "  return SFa.astype(np.float32)\n"
     ]
    },
    {
     "name": "stdout",
     "output_type": "stream",
     "text": [
      "\tVALENCE-s02|Acc=0.99792|10-CV=0.99833|STD=0.00333|Time spend=0.815838098526001\n"
     ]
    },
    {
     "name": "stderr",
     "output_type": "stream",
     "text": [
      "/root/projects/components/CSP.py:78: ComplexWarning: Casting complex values to real discards the imaginary part\n",
      "  return SFa.astype(np.float32)\n"
     ]
    },
    {
     "name": "stdout",
     "output_type": "stream",
     "text": [
      "\tVALENCE-s03|Acc=0.71667|10-CV=0.6825|STD=0.03259|Time spend=0.9267787933349609\n"
     ]
    },
    {
     "name": "stderr",
     "output_type": "stream",
     "text": [
      "/root/projects/components/CSP.py:78: ComplexWarning: Casting complex values to real discards the imaginary part\n",
      "  return SFa.astype(np.float32)\n"
     ]
    },
    {
     "name": "stdout",
     "output_type": "stream",
     "text": [
      "\tVALENCE-s04|Acc=0.98333|10-CV=0.98417|STD=0.00786|Time spend=0.8449451923370361\n"
     ]
    },
    {
     "name": "stderr",
     "output_type": "stream",
     "text": [
      "/root/projects/components/CSP.py:78: ComplexWarning: Casting complex values to real discards the imaginary part\n",
      "  return SFa.astype(np.float32)\n"
     ]
    },
    {
     "name": "stdout",
     "output_type": "stream",
     "text": [
      "\tVALENCE-s05|Acc=0.98542|10-CV=0.98|STD=0.01067|Time spend=0.8100099563598633\n"
     ]
    },
    {
     "name": "stderr",
     "output_type": "stream",
     "text": [
      "/root/projects/components/CSP.py:78: ComplexWarning: Casting complex values to real discards the imaginary part\n",
      "  return SFa.astype(np.float32)\n"
     ]
    },
    {
     "name": "stdout",
     "output_type": "stream",
     "text": [
      "\tVALENCE-s06|Acc=0.85|10-CV=0.83|STD=0.01633|Time spend=0.7875998020172119\n"
     ]
    },
    {
     "name": "stderr",
     "output_type": "stream",
     "text": [
      "/root/projects/components/CSP.py:78: ComplexWarning: Casting complex values to real discards the imaginary part\n",
      "  return SFa.astype(np.float32)\n"
     ]
    },
    {
     "name": "stdout",
     "output_type": "stream",
     "text": [
      "\tVALENCE-s07|Acc=0.76667|10-CV=0.76667|STD=0.01936|Time spend=0.9157440662384033\n"
     ]
    },
    {
     "name": "stderr",
     "output_type": "stream",
     "text": [
      "/root/projects/components/CSP.py:78: ComplexWarning: Casting complex values to real discards the imaginary part\n",
      "  return SFa.astype(np.float32)\n"
     ]
    },
    {
     "name": "stdout",
     "output_type": "stream",
     "text": [
      "\tVALENCE-s08|Acc=0.9375|10-CV=0.93167|STD=0.01818|Time spend=0.9301409721374512\n"
     ]
    },
    {
     "name": "stderr",
     "output_type": "stream",
     "text": [
      "/root/projects/components/CSP.py:78: ComplexWarning: Casting complex values to real discards the imaginary part\n",
      "  return SFa.astype(np.float32)\n"
     ]
    },
    {
     "name": "stdout",
     "output_type": "stream",
     "text": [
      "\tVALENCE-s09|Acc=0.61458|10-CV=0.575|STD=0.03962|Time spend=0.9299511909484863\n"
     ]
    },
    {
     "name": "stderr",
     "output_type": "stream",
     "text": [
      "/root/projects/components/CSP.py:78: ComplexWarning: Casting complex values to real discards the imaginary part\n",
      "  return SFa.astype(np.float32)\n"
     ]
    },
    {
     "name": "stdout",
     "output_type": "stream",
     "text": [
      "\tVALENCE-s10|Acc=0.7|10-CV=0.68|STD=0.02769|Time spend=0.7764632701873779\n"
     ]
    },
    {
     "name": "stderr",
     "output_type": "stream",
     "text": [
      "/root/projects/components/CSP.py:78: ComplexWarning: Casting complex values to real discards the imaginary part\n",
      "  return SFa.astype(np.float32)\n"
     ]
    },
    {
     "name": "stdout",
     "output_type": "stream",
     "text": [
      "\tVALENCE-s11|Acc=0.60833|10-CV=0.6075|STD=0.00786|Time spend=1.0314879417419434\n"
     ]
    },
    {
     "name": "stderr",
     "output_type": "stream",
     "text": [
      "/root/projects/components/CSP.py:78: ComplexWarning: Casting complex values to real discards the imaginary part\n",
      "  return SFa.astype(np.float32)\n"
     ]
    },
    {
     "name": "stdout",
     "output_type": "stream",
     "text": [
      "\tVALENCE-s12|Acc=0.64375|10-CV=0.6275|STD=0.05111|Time spend=0.7801535129547119\n"
     ]
    },
    {
     "name": "stderr",
     "output_type": "stream",
     "text": [
      "/root/projects/components/CSP.py:78: ComplexWarning: Casting complex values to real discards the imaginary part\n",
      "  return SFa.astype(np.float32)\n"
     ]
    },
    {
     "name": "stdout",
     "output_type": "stream",
     "text": [
      "\tVALENCE-s13|Acc=0.94792|10-CV=0.94333|STD=0.00898|Time spend=0.7956514358520508\n"
     ]
    },
    {
     "name": "stderr",
     "output_type": "stream",
     "text": [
      "/root/projects/components/CSP.py:78: ComplexWarning: Casting complex values to real discards the imaginary part\n",
      "  return SFa.astype(np.float32)\n"
     ]
    },
    {
     "name": "stdout",
     "output_type": "stream",
     "text": [
      "\tVALENCE-s14|Acc=0.6125|10-CV=0.57917|STD=0.0356|Time spend=0.9325637817382812\n"
     ]
    },
    {
     "name": "stderr",
     "output_type": "stream",
     "text": [
      "/root/projects/components/CSP.py:78: ComplexWarning: Casting complex values to real discards the imaginary part\n",
      "  return SFa.astype(np.float32)\n"
     ]
    },
    {
     "name": "stdout",
     "output_type": "stream",
     "text": [
      "\tVALENCE-s15|Acc=0.72917|10-CV=0.71667|STD=0.02863|Time spend=0.8470838069915771\n"
     ]
    },
    {
     "name": "stderr",
     "output_type": "stream",
     "text": [
      "/root/projects/components/CSP.py:78: ComplexWarning: Casting complex values to real discards the imaginary part\n",
      "  return SFa.astype(np.float32)\n"
     ]
    },
    {
     "name": "stdout",
     "output_type": "stream",
     "text": [
      "\tVALENCE-s16|Acc=0.67292|10-CV=0.6625|STD=0.02244|Time spend=0.8543262481689453\n"
     ]
    },
    {
     "name": "stderr",
     "output_type": "stream",
     "text": [
      "/root/projects/components/CSP.py:78: ComplexWarning: Casting complex values to real discards the imaginary part\n",
      "  return SFa.astype(np.float32)\n"
     ]
    },
    {
     "name": "stdout",
     "output_type": "stream",
     "text": [
      "\tVALENCE-s17|Acc=0.6125|10-CV=0.595|STD=0.03822|Time spend=0.7860927581787109\n"
     ]
    },
    {
     "name": "stderr",
     "output_type": "stream",
     "text": [
      "/root/projects/components/CSP.py:78: ComplexWarning: Casting complex values to real discards the imaginary part\n",
      "  return SFa.astype(np.float32)\n"
     ]
    },
    {
     "name": "stdout",
     "output_type": "stream",
     "text": [
      "\tVALENCE-s18|Acc=0.61875|10-CV=0.60083|STD=0.01726|Time spend=0.7224130630493164\n"
     ]
    },
    {
     "name": "stderr",
     "output_type": "stream",
     "text": [
      "/root/projects/components/CSP.py:78: ComplexWarning: Casting complex values to real discards the imaginary part\n",
      "  return SFa.astype(np.float32)\n"
     ]
    },
    {
     "name": "stdout",
     "output_type": "stream",
     "text": [
      "\tVALENCE-s19|Acc=0.60417|10-CV=0.58|STD=0.04137|Time spend=0.9133892059326172\n"
     ]
    },
    {
     "name": "stderr",
     "output_type": "stream",
     "text": [
      "/root/projects/components/CSP.py:78: ComplexWarning: Casting complex values to real discards the imaginary part\n",
      "  return SFa.astype(np.float32)\n"
     ]
    },
    {
     "name": "stdout",
     "output_type": "stream",
     "text": [
      "\tVALENCE-s20|Acc=0.68333|10-CV=0.655|STD=0.0352|Time spend=0.8179070949554443\n"
     ]
    },
    {
     "name": "stderr",
     "output_type": "stream",
     "text": [
      "/root/projects/components/CSP.py:78: ComplexWarning: Casting complex values to real discards the imaginary part\n",
      "  return SFa.astype(np.float32)\n"
     ]
    },
    {
     "name": "stdout",
     "output_type": "stream",
     "text": [
      "\tVALENCE-s21|Acc=0.58542|10-CV=0.525|STD=0.04518|Time spend=0.979912281036377\n"
     ]
    },
    {
     "name": "stderr",
     "output_type": "stream",
     "text": [
      "/root/projects/components/CSP.py:78: ComplexWarning: Casting complex values to real discards the imaginary part\n",
      "  return SFa.astype(np.float32)\n"
     ]
    },
    {
     "name": "stdout",
     "output_type": "stream",
     "text": [
      "\tVALENCE-s22|Acc=0.97917|10-CV=0.9575|STD=0.00946|Time spend=0.7782115936279297\n"
     ]
    },
    {
     "name": "stderr",
     "output_type": "stream",
     "text": [
      "/root/projects/components/CSP.py:78: ComplexWarning: Casting complex values to real discards the imaginary part\n",
      "  return SFa.astype(np.float32)\n"
     ]
    },
    {
     "name": "stdout",
     "output_type": "stream",
     "text": [
      "\tVALENCE-s23|Acc=0.82292|10-CV=0.81083|STD=0.02714|Time spend=0.8109736442565918\n"
     ]
    },
    {
     "name": "stderr",
     "output_type": "stream",
     "text": [
      "/root/projects/components/CSP.py:78: ComplexWarning: Casting complex values to real discards the imaginary part\n",
      "  return SFa.astype(np.float32)\n"
     ]
    },
    {
     "name": "stdout",
     "output_type": "stream",
     "text": [
      "-----WARNING: Model s24 failed to learn: sum(ans)=0.0 sum(y)=216.0 len(y)=480\n",
      "\tVALENCE-s24|Acc=0.55|10-CV=0.55|STD=0.0|Time spend=0.8146524429321289\n"
     ]
    },
    {
     "name": "stderr",
     "output_type": "stream",
     "text": [
      "/root/projects/components/CSP.py:78: ComplexWarning: Casting complex values to real discards the imaginary part\n",
      "  return SFa.astype(np.float32)\n"
     ]
    },
    {
     "name": "stdout",
     "output_type": "stream",
     "text": [
      "\tVALENCE-s25|Acc=0.97708|10-CV=0.96917|STD=0.0075|Time spend=0.7805755138397217\n"
     ]
    },
    {
     "name": "stderr",
     "output_type": "stream",
     "text": [
      "/root/projects/components/CSP.py:78: ComplexWarning: Casting complex values to real discards the imaginary part\n",
      "  return SFa.astype(np.float32)\n"
     ]
    },
    {
     "name": "stdout",
     "output_type": "stream",
     "text": [
      "\tVALENCE-s26|Acc=0.81458|10-CV=0.80417|STD=0.01981|Time spend=0.80617356300354\n"
     ]
    },
    {
     "name": "stderr",
     "output_type": "stream",
     "text": [
      "/root/projects/components/CSP.py:78: ComplexWarning: Casting complex values to real discards the imaginary part\n",
      "  return SFa.astype(np.float32)\n"
     ]
    },
    {
     "name": "stdout",
     "output_type": "stream",
     "text": [
      "\tVALENCE-s27|Acc=0.90417|10-CV=0.88417|STD=0.02123|Time spend=0.7101871967315674\n"
     ]
    },
    {
     "name": "stderr",
     "output_type": "stream",
     "text": [
      "/root/projects/components/CSP.py:78: ComplexWarning: Casting complex values to real discards the imaginary part\n",
      "  return SFa.astype(np.float32)\n"
     ]
    },
    {
     "name": "stdout",
     "output_type": "stream",
     "text": [
      "\tVALENCE-s28|Acc=0.62292|10-CV=0.61833|STD=0.01167|Time spend=0.8484702110290527\n"
     ]
    },
    {
     "name": "stderr",
     "output_type": "stream",
     "text": [
      "/root/projects/components/CSP.py:78: ComplexWarning: Casting complex values to real discards the imaginary part\n",
      "  return SFa.astype(np.float32)\n"
     ]
    },
    {
     "name": "stdout",
     "output_type": "stream",
     "text": [
      "\tVALENCE-s29|Acc=0.63333|10-CV=0.6125|STD=0.02394|Time spend=0.8195793628692627\n"
     ]
    },
    {
     "name": "stderr",
     "output_type": "stream",
     "text": [
      "/root/projects/components/CSP.py:78: ComplexWarning: Casting complex values to real discards the imaginary part\n",
      "  return SFa.astype(np.float32)\n"
     ]
    },
    {
     "name": "stdout",
     "output_type": "stream",
     "text": [
      "\tVALENCE-s30|Acc=0.89375|10-CV=0.8875|STD=0.01455|Time spend=0.8396103382110596\n"
     ]
    },
    {
     "name": "stderr",
     "output_type": "stream",
     "text": [
      "/root/projects/components/CSP.py:78: ComplexWarning: Casting complex values to real discards the imaginary part\n",
      "  return SFa.astype(np.float32)\n"
     ]
    },
    {
     "name": "stdout",
     "output_type": "stream",
     "text": [
      "-----WARNING: Model s31 failed to learn: sum(ans)=480.0 sum(y)=276.0 len(y)=480\n",
      "\tVALENCE-s31|Acc=0.575|10-CV=0.575|STD=0.0|Time spend=0.7985196113586426\n"
     ]
    },
    {
     "name": "stderr",
     "output_type": "stream",
     "text": [
      "/root/projects/components/CSP.py:78: ComplexWarning: Casting complex values to real discards the imaginary part\n",
      "  return SFa.astype(np.float32)\n"
     ]
    },
    {
     "name": "stdout",
     "output_type": "stream",
     "text": [
      "\tVALENCE-s32|Acc=0.63958|10-CV=0.63167|STD=0.03287|Time spend=0.9344546794891357\n",
      "VALENCE|Acc=0.7524739583333334|10-CV=0.7381770833333334|STD=0.02200093042823058\n"
     ]
    }
   ],
   "source": [
    "accs_v, cv_means_v, cv_stds_v = [],[],[]\n",
    "for filename in tqdm(dataset.get_file_list()):\n",
    "\n",
    "    data, labels, groups = dataset.get_data(filename, stimuli=Dataset_subjectDependent.STIMULI_VALENCE, return_type='numpy')\n",
    "    labels = labels.squeeze()\n",
    "    start = time.time()\n",
    "    filters = CSP(data[labels==0], data[labels==1])\n",
    "    \n",
    "    csp_data = []\n",
    "    for index in range(len(data)):\n",
    "        \n",
    "        # (672, 32) @ (32, 32) = (672, 32)\n",
    "        csp = data[index].T @ filters[labels[index].astype(int)]\n",
    "        # (1, 32, 672)\n",
    "        csp = np.expand_dims(csp.T, axis=0)\n",
    "        csp_data.append(csp)\n",
    "\n",
    "    csp_data = np.vstack(csp_data)\n",
    "    # print(csp_data.shape) => (2400, 32, 128)\n",
    "    fe = FeatureExtractor(sfreq=128, selected_funcs=['pow_freq_bands'],params=params,n_jobs=8)\n",
    "    X = fe.fit_transform(X=csp_data)\n",
    "    # print(X.shape, time.time() - start) => (2400, 160) 1.2374355792999268\n",
    "\n",
    "    assert X.shape[1] == 160\n",
    "    _, acc, cross = train_model(X, labels.reshape(-1), groups, filename=filename)\n",
    "    print(f\"\\tVALENCE-{filename}|Acc={round(acc,5)}|10-CV={round(cross.mean(),5)}|STD={round(cross.std(),5)}|Time spend={time.time() - start}\")\n",
    "    accs_v.append(acc)\n",
    "    cv_means_v.append(cross.mean())\n",
    "    cv_stds_v.append(cross.std())\n",
    "print(f\"VALENCE|Acc={sum(accs_v)/len(accs_v)}|10-CV={sum(cv_means_v)/len(cv_means_v)}|STD={sum(cv_stds_v)/len(cv_stds_v)}\")"
   ]
  },
  {
   "cell_type": "code",
   "execution_count": 22,
   "metadata": {},
   "outputs": [
    {
     "name": "stdout",
     "output_type": "stream",
     "text": [
      "TOTAL|Acc=0.7672200520833331|10-CV=0.7525260416666669|STD=0.020160421807723553\n"
     ]
    }
   ],
   "source": [
    "accs.extend(accs_v)\n",
    "cv_means.extend(cv_means_v)\n",
    "cv_stds.extend(cv_stds_v)\n",
    "\n",
    "print(f\"TOTAL|Acc={sum(accs)/len(accs)}|10-CV={sum(cv_means)/len(cv_means)}|STD={sum(cv_stds)/len(cv_stds)}\")"
   ]
  }
 ],
 "metadata": {
  "interpreter": {
   "hash": "27768773b483d82a9b2b839e3fa80b1be5789db7fd78df4eedef2df266871616"
  },
  "kernelspec": {
   "display_name": "eeg",
   "language": "python",
   "name": "python3"
  },
  "language_info": {
   "codemirror_mode": {
    "name": "ipython",
    "version": 3
   },
   "file_extension": ".py",
   "mimetype": "text/x-python",
   "name": "python",
   "nbconvert_exporter": "python",
   "pygments_lexer": "ipython3",
   "version": "3.8.10"
  }
 },
 "nbformat": 4,
 "nbformat_minor": 4
}
