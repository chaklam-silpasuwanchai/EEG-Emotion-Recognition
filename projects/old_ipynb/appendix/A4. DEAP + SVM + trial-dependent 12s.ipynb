{
 "cells": [
  {
   "cell_type": "code",
   "execution_count": 1,
   "metadata": {},
   "outputs": [
    {
     "name": "stdout",
     "output_type": "stream",
     "text": [
      "Found: 32 files\n",
      "s09 (200, 2) [50. 60.]\n"
     ]
    }
   ],
   "source": [
    "import time\n",
    "import numpy as np\n",
    "from tqdm.notebook import tqdm\n",
    "\n",
    "from components.dataset_jo import *\n",
    "\n",
    "dataset = Dataset_subjectDependent('data')\n",
    "segment_lenght = 12 #second\n",
    "dataset.set_segment(7680//(128*segment_lenght))\n",
    "for filename in dataset.get_file_list():\n",
    "    data, labels, _ = dataset.get_data(filename, return_type='numpy')\n",
    "    print(filename, labels.shape, labels.sum(axis=0)/labels.shape[0]*100)\n",
    "    break"
   ]
  },
  {
   "cell_type": "code",
   "execution_count": 2,
   "metadata": {},
   "outputs": [],
   "source": [
    "def train_model(X_ori,y_ori,groups_ori,filename=None, kernel='rbf',return_text=False):\n",
    "    # Make a copy because I am paranoid\n",
    "    X,y,groups = X_ori.copy(), y_ori.copy(), groups_ori.copy()\n",
    "\n",
    "    from sklearn.svm import SVC\n",
    "    from sklearn.model_selection import StratifiedShuffleSplit \n",
    "    from sklearn.model_selection import cross_val_score\n",
    "\n",
    "    model = SVC(kernel=kernel,max_iter=50000)\n",
    "    cv = StratifiedShuffleSplit(n_splits=10, train_size=0.75, random_state=0)\n",
    "    cross = cross_val_score(model, X, y, cv=cv, n_jobs=8)\n",
    "    \n",
    "    # We probably dont need this\n",
    "    model = SVC(kernel=kernel, max_iter=50000)\n",
    "    model.fit(X, y)\n",
    "    ans = model.predict(X)\n",
    "    acc = sum(ans == y) / len(y)\n",
    "    # If the model answer with all 0 or 1, we print this message\n",
    "    text = None\n",
    "    if( sum(ans) == len(y) or sum(ans) == 0 ): \n",
    "        text = f\"-----WARNING: Model {filename} failed to learn: sum(ans)={sum(ans)} sum(y)={sum(y)} len(y)={len(y)}\"\n",
    "    if(return_text):\n",
    "        return model, acc, cross, text\n",
    "    else:\n",
    "        if(text != None): print(text)\n",
    "        return model, acc, cross"
   ]
  },
  {
   "cell_type": "markdown",
   "metadata": {},
   "source": [
    "## 2. Spectral Features"
   ]
  },
  {
   "cell_type": "code",
   "execution_count": 3,
   "metadata": {},
   "outputs": [],
   "source": [
    "from mne_features.feature_extraction import FeatureExtractor"
   ]
  },
  {
   "cell_type": "code",
   "execution_count": 4,
   "metadata": {},
   "outputs": [
    {
     "name": "stdout",
     "output_type": "stream",
     "text": [
      "\tAROUSAL-s09|Acc=0.63|10-CV=0.61|STD=0.02049|Time spend=16.307893753051758\n",
      "\tAROUSAL-s19|Acc=0.685|10-CV=0.684|STD=0.008|Time spend=0.7742457389831543\n",
      "\tAROUSAL-s17|Acc=0.73|10-CV=0.704|STD=0.04079|Time spend=0.7740578651428223\n",
      "\tAROUSAL-s28|Acc=0.615|10-CV=0.548|STD=0.0204|Time spend=0.7647850513458252\n",
      "\tAROUSAL-s07|Acc=0.695|10-CV=0.656|STD=0.01497|Time spend=0.6996736526489258\n",
      "-----WARNING: Model s11 failed to learn: sum(ans)=0.0 sum(y)=75.0 len(y)=200\n",
      "\tAROUSAL-s11|Acc=0.625|10-CV=0.62|STD=0.0|Time spend=0.8179335594177246\n",
      "\tAROUSAL-s25|Acc=0.73|10-CV=0.716|STD=0.008|Time spend=0.8779654502868652\n",
      "-----WARNING: Model s24 failed to learn: sum(ans)=200.0 sum(y)=165.0 len(y)=200\n",
      "\tAROUSAL-s24|Acc=0.825|10-CV=0.82|STD=0.0|Time spend=0.8092198371887207\n",
      "\tAROUSAL-s04|Acc=0.635|10-CV=0.582|STD=0.046|Time spend=0.8763775825500488\n",
      "\tAROUSAL-s16|Acc=0.735|10-CV=0.684|STD=0.05499|Time spend=0.7928857803344727\n",
      "\tAROUSAL-s29|Acc=0.63|10-CV=0.61|STD=0.01612|Time spend=0.7436213493347168\n",
      "\tAROUSAL-s26|Acc=0.625|10-CV=0.558|STD=0.0328|Time spend=0.7787642478942871\n",
      "\tAROUSAL-s15|Acc=0.72|10-CV=0.662|STD=0.05095|Time spend=0.7446320056915283\n",
      "-----WARNING: Model s21 failed to learn: sum(ans)=200.0 sum(y)=160.0 len(y)=200\n",
      "\tAROUSAL-s21|Acc=0.8|10-CV=0.8|STD=0.0|Time spend=0.6989576816558838\n",
      "\tAROUSAL-s30|Acc=0.705|10-CV=0.636|STD=0.04883|Time spend=0.9583292007446289\n",
      "\tAROUSAL-s27|Acc=0.74|10-CV=0.712|STD=0.02857|Time spend=0.9402692317962646\n",
      "\tAROUSAL-s31|Acc=0.74|10-CV=0.66|STD=0.07211|Time spend=0.748241662979126\n",
      "\tAROUSAL-s10|Acc=0.695|10-CV=0.634|STD=0.06003|Time spend=0.7828233242034912\n",
      "\tAROUSAL-s22|Acc=0.65|10-CV=0.638|STD=0.03736|Time spend=0.7619643211364746\n",
      "\tAROUSAL-s18|Acc=0.63|10-CV=0.614|STD=0.01562|Time spend=0.785534143447876\n",
      "\tAROUSAL-s02|Acc=0.605|10-CV=0.594|STD=0.01281|Time spend=0.6422758102416992\n",
      "-----WARNING: Model s20 failed to learn: sum(ans)=200.0 sum(y)=155.0 len(y)=200\n",
      "\tAROUSAL-s20|Acc=0.775|10-CV=0.78|STD=0.0|Time spend=0.7018923759460449\n",
      "\tAROUSAL-s06|Acc=0.595|10-CV=0.594|STD=0.04104|Time spend=0.8307859897613525\n",
      "-----WARNING: Model s23 failed to learn: sum(ans)=0.0 sum(y)=50.0 len(y)=200\n",
      "\tAROUSAL-s23|Acc=0.75|10-CV=0.75|STD=0.01|Time spend=0.8484616279602051\n",
      "-----WARNING: Model s03 failed to learn: sum(ans)=0.0 sum(y)=40.0 len(y)=200\n",
      "\tAROUSAL-s03|Acc=0.8|10-CV=0.8|STD=0.0|Time spend=0.8033449649810791\n",
      "\tAROUSAL-s05|Acc=0.57|10-CV=0.498|STD=0.02088|Time spend=0.7754316329956055\n",
      "-----WARNING: Model s12 failed to learn: sum(ans)=200.0 sum(y)=165.0 len(y)=200\n",
      "\tAROUSAL-s12|Acc=0.825|10-CV=0.82|STD=0.0|Time spend=0.7599878311157227\n",
      "-----WARNING: Model s32 failed to learn: sum(ans)=200.0 sum(y)=135.0 len(y)=200\n",
      "\tAROUSAL-s32|Acc=0.675|10-CV=0.674|STD=0.01281|Time spend=0.7226719856262207\n",
      "\tAROUSAL-s08|Acc=0.615|10-CV=0.57|STD=0.04919|Time spend=0.7846283912658691\n",
      "\tAROUSAL-s01|Acc=0.61|10-CV=0.602|STD=0.006|Time spend=0.6863505840301514\n",
      "-----WARNING: Model s13 failed to learn: sum(ans)=200.0 sum(y)=170.0 len(y)=200\n",
      "\tAROUSAL-s13|Acc=0.85|10-CV=0.848|STD=0.0098|Time spend=0.7238938808441162\n",
      "-----WARNING: Model s14 failed to learn: sum(ans)=200.0 sum(y)=135.0 len(y)=200\n",
      "\tAROUSAL-s14|Acc=0.675|10-CV=0.68|STD=0.0|Time spend=0.881507158279419\n",
      "AROUSAL|Acc=0.6932812500000002|10-CV=0.6674375|STD=0.023079955838323018\n",
      "\tVALENCE-s09|Acc=0.755|10-CV=0.72|STD=0.06387|Time spend=0.6215498447418213\n",
      "\tVALENCE-s19|Acc=0.685|10-CV=0.656|STD=0.0398|Time spend=0.5783593654632568\n",
      "-----WARNING: Model s17 failed to learn: sum(ans)=200.0 sum(y)=110.0 len(y)=200\n",
      "\tVALENCE-s17|Acc=0.55|10-CV=0.53|STD=0.03256|Time spend=0.5530846118927002\n",
      "\tVALENCE-s28|Acc=0.66|10-CV=0.628|STD=0.0098|Time spend=0.5477845668792725\n",
      "-----WARNING: Model s07 failed to learn: sum(ans)=200.0 sum(y)=140.0 len(y)=200\n",
      "\tVALENCE-s07|Acc=0.7|10-CV=0.7|STD=0.0|Time spend=0.5556716918945312\n",
      "\tVALENCE-s11|Acc=0.64|10-CV=0.582|STD=0.03945|Time spend=0.4968233108520508\n",
      "\tVALENCE-s25|Acc=0.615|10-CV=0.506|STD=0.05936|Time spend=0.504098653793335\n",
      "-----WARNING: Model s24 failed to learn: sum(ans)=0.0 sum(y)=90.0 len(y)=200\n",
      "\tVALENCE-s24|Acc=0.55|10-CV=0.542|STD=0.01661|Time spend=0.5160090923309326\n",
      "\tVALENCE-s04|Acc=0.715|10-CV=0.64|STD=0.05138|Time spend=0.5116493701934814\n",
      "\tVALENCE-s16|Acc=0.735|10-CV=0.732|STD=0.0325|Time spend=0.5079195499420166\n",
      "\tVALENCE-s29|Acc=0.725|10-CV=0.628|STD=0.02857|Time spend=0.5101587772369385\n",
      "-----WARNING: Model s26 failed to learn: sum(ans)=200.0 sum(y)=130.0 len(y)=200\n",
      "\tVALENCE-s26|Acc=0.65|10-CV=0.644|STD=0.012|Time spend=0.527374267578125\n",
      "\tVALENCE-s15|Acc=0.825|10-CV=0.772|STD=0.06765|Time spend=0.592139482498169\n",
      "\tVALENCE-s21|Acc=0.62|10-CV=0.588|STD=0.04996|Time spend=0.5679903030395508\n",
      "-----WARNING: Model s30 failed to learn: sum(ans)=200.0 sum(y)=135.0 len(y)=200\n",
      "\tVALENCE-s30|Acc=0.675|10-CV=0.68|STD=0.00894|Time spend=0.5727095603942871\n",
      "-----WARNING: Model s27 failed to learn: sum(ans)=200.0 sum(y)=150.0 len(y)=200\n",
      "\tVALENCE-s27|Acc=0.75|10-CV=0.744|STD=0.008|Time spend=0.5530929565429688\n",
      "-----WARNING: Model s31 failed to learn: sum(ans)=200.0 sum(y)=115.0 len(y)=200\n",
      "\tVALENCE-s31|Acc=0.575|10-CV=0.58|STD=0.0|Time spend=0.5274126529693604\n",
      "\tVALENCE-s10|Acc=0.775|10-CV=0.756|STD=0.06053|Time spend=0.5066545009613037\n",
      "\tVALENCE-s22|Acc=0.69|10-CV=0.658|STD=0.0328|Time spend=0.5379519462585449\n",
      "\tVALENCE-s18|Acc=0.8|10-CV=0.704|STD=0.06053|Time spend=0.5690741539001465\n",
      "\tVALENCE-s02|Acc=0.685|10-CV=0.664|STD=0.04271|Time spend=0.5341315269470215\n",
      "\tVALENCE-s20|Acc=0.79|10-CV=0.746|STD=0.04386|Time spend=0.48152828216552734\n",
      "-----WARNING: Model s06 failed to learn: sum(ans)=200.0 sum(y)=150.0 len(y)=200\n",
      "\tVALENCE-s06|Acc=0.75|10-CV=0.746|STD=0.00917|Time spend=0.562734842300415\n",
      "-----WARNING: Model s23 failed to learn: sum(ans)=200.0 sum(y)=130.0 len(y)=200\n",
      "\tVALENCE-s23|Acc=0.65|10-CV=0.646|STD=0.00917|Time spend=0.4776325225830078\n",
      "\tVALENCE-s03|Acc=0.555|10-CV=0.554|STD=0.01281|Time spend=0.4907081127166748\n",
      "\tVALENCE-s05|Acc=0.67|10-CV=0.606|STD=0.04104|Time spend=0.5443370342254639\n",
      "\tVALENCE-s12|Acc=0.68|10-CV=0.616|STD=0.04883|Time spend=0.5667195320129395\n",
      "\tVALENCE-s32|Acc=0.69|10-CV=0.676|STD=0.05352|Time spend=0.6360578536987305\n",
      "\tVALENCE-s08|Acc=0.7|10-CV=0.588|STD=0.08495|Time spend=0.5863173007965088\n",
      "\tVALENCE-s01|Acc=0.615|10-CV=0.512|STD=0.02857|Time spend=0.5252277851104736\n",
      "\tVALENCE-s13|Acc=0.795|10-CV=0.8|STD=0.02191|Time spend=0.5242915153503418\n",
      "\tVALENCE-s14|Acc=0.745|10-CV=0.702|STD=0.0666|Time spend=0.49263429641723633\n",
      "VALENCE|Acc=0.68796875|10-CV=0.6514375|STD=0.035544458431168616\n",
      "TOTAL|Acc=0.690625|10-CV=0.6594375000000001|STD=0.029312207134745822\n"
     ]
    }
   ],
   "source": [
    "bands = [(0,4), (4,8), (8,12), (12,30), (30,64)]\n",
    "# [alias_feature_function]__[optional_param]\n",
    "params = dict({\n",
    "    'pow_freq_bands__log':True,\n",
    "    'pow_freq_bands__normalize':False,\n",
    "    'pow_freq_bands__freq_bands':bands\n",
    "})\n",
    "\n",
    "\n",
    "accs,cv_means,cv_stds  = [],[],[]\n",
    "# count = 0\n",
    "for filename in dataset.get_file_list():\n",
    "    start = time.time()\n",
    "    data, labels, groups = dataset.get_data(filename, stimuli=Dataset_subjectDependent.STIMULI_AROUSAL, return_type='numpy')\n",
    "    fe = FeatureExtractor(sfreq=128, selected_funcs=['pow_freq_bands'],params=params,n_jobs=8)\n",
    "    X = fe.fit_transform(X=data)\n",
    "    _, acc, cross = train_model(X, labels.reshape(-1), groups,filename=filename)\n",
    "    print(f\"\\tAROUSAL-{filename}|Acc={round(acc,5)}|10-CV={round(cross.mean(),5)}|STD={round(cross.std(),5)}|Time spend={time.time() - start}\")\n",
    "    accs.append(acc)\n",
    "    cv_means.append(cross.mean())\n",
    "    cv_stds.append(cross.std())\n",
    "    # count+=1\n",
    "    # if(count == 5): break\n",
    "print(f\"AROUSAL|Acc={sum(accs)/len(accs)}|10-CV={sum(cv_means)/len(cv_means)}|STD={sum(cv_stds)/len(cv_stds)}\")\n",
    "\n",
    "accs_v,cv_means_v,cv_stds_v  = [],[],[]\n",
    "# count=0\n",
    "for filename in dataset.get_file_list():\n",
    "    start = time.time()\n",
    "    data, labels, groups = dataset.get_data(filename, stimuli=Dataset_subjectDependent.STIMULI_VALENCE, return_type='numpy')\n",
    "    fe = FeatureExtractor(sfreq=128, selected_funcs=['pow_freq_bands'],params=params,n_jobs=8)\n",
    "    X = fe.fit_transform(X=data)\n",
    "    _, acc, cross = train_model(X, labels.reshape(-1), groups,filename=filename)\n",
    "    print(f\"\\tVALENCE-{filename}|Acc={round(acc,5)}|10-CV={round(cross.mean(),5)}|STD={round(cross.std(),5)}|Time spend={time.time() - start}\")\n",
    "    accs_v.append(acc)\n",
    "    cv_means_v.append(cross.mean())\n",
    "    cv_stds_v.append(cross.std())\n",
    "    # count+=1\n",
    "    # if(count == 5): break\n",
    "print(f\"VALENCE|Acc={sum(accs_v)/len(accs_v)}|10-CV={sum(cv_means_v)/len(cv_means_v)}|STD={sum(cv_stds_v)/len(cv_stds_v)}\")\n",
    "\n",
    "accs.extend(accs_v)\n",
    "cv_means.extend(cv_means_v)\n",
    "cv_stds.extend(cv_stds_v)\n",
    "print(f\"TOTAL|Acc={sum(accs)/len(accs)}|10-CV={sum(cv_means)/len(cv_means)}|STD={sum(cv_stds)/len(cv_stds)}\")"
   ]
  },
  {
   "cell_type": "markdown",
   "metadata": {},
   "source": [
    "## 3. Asymetry"
   ]
  },
  {
   "cell_type": "code",
   "execution_count": 5,
   "metadata": {},
   "outputs": [
    {
     "name": "stdout",
     "output_type": "stream",
     "text": [
      "left_channel_indexes=[0, 3, 2, 7, 11, 6, 10, 13, 1, 4, 5, 8, 9, 12]\n",
      "right_channel_indexes=[16, 20, 19, 25, 29, 24, 28, 31, 17, 21, 22, 26, 27, 30]\n",
      "frontal_channel_indexes=[4, 5, 22, 21, 3, 2, 18, 19, 20, 0, 16]\n",
      "posterior_channel_indexes=[8, 9, 27, 26, 11, 10, 15, 28, 29, 13, 31]\n"
     ]
    }
   ],
   "source": [
    "channels = ['Fp1','AF3','F3','F7','FC5','FC1','C3','T7','CP5','CP1','P3','P7','PO3','O1','Oz','Pz','Fp2','AF4','Fz','F4','F8','FC6','FC2','Cz','C4','T8','CP6','CP2','P4','P8','PO4','O2']\n",
    "left_channels = ['Fp1','F7','F3','T7','P7','C3','P3','O1','AF3','FC5','FC1','CP5','CP1','PO3']\n",
    "right_channels = ['Fp2','F8','F4','T8','P8','C4','P4','O2','AF4','FC6','FC2','CP6','CP2','PO4']\n",
    "left_channel_indexes = [ channels.index(ch) for ch in left_channels ]\n",
    "right_channel_indexes = [ channels.index(ch) for ch in right_channels ]\n",
    "\n",
    "print(f\"{left_channel_indexes=}\")\n",
    "print(f\"{right_channel_indexes=}\")\n",
    "\n",
    "frontal_channels = ['FC5','FC1','FC2','FC6','F7','F3','Fz','F4','F8','Fp1','Fp2']\n",
    "posterior_channels = ['CP5','CP1','CP2','CP6','P7','P3','Pz','P4','P8','O1','O2']\n",
    "\n",
    "frontal_channel_indexes = [ channels.index(ch) for ch in frontal_channels ]\n",
    "posterior_channel_indexes = [ channels.index(ch) for ch in posterior_channels ]\n",
    "\n",
    "print(f\"{frontal_channel_indexes=}\")\n",
    "print(f\"{posterior_channel_indexes=}\")"
   ]
  },
  {
   "cell_type": "code",
   "execution_count": 6,
   "metadata": {},
   "outputs": [
    {
     "name": "stdout",
     "output_type": "stream",
     "text": [
      "\tAROUSAL-s09-DASM|Acc=0.605|10-CV=0.598|STD=0.006|Time spend=0.5211277008056641\n",
      "\tAROUSAL-s09-RASM|Acc=0.67|10-CV=0.616|STD=0.02939|Time spend=0.5691184997558594\n",
      "\tAROUSAL-s09-DCAU|Acc=0.615|10-CV=0.592|STD=0.01327|Time spend=0.6183903217315674\n",
      "\tAROUSAL-s19-DASM|Acc=0.685|10-CV=0.684|STD=0.008|Time spend=0.5160350799560547\n",
      "\tAROUSAL-s19-RASM|Acc=0.68|10-CV=0.68|STD=0.0|Time spend=0.5649323463439941\n",
      "\tAROUSAL-s19-DCAU|Acc=0.69|10-CV=0.678|STD=0.01887|Time spend=0.609611988067627\n",
      "\tAROUSAL-s17-DASM|Acc=0.73|10-CV=0.672|STD=0.05381|Time spend=0.47174954414367676\n",
      "\tAROUSAL-s17-RASM|Acc=0.62|10-CV=0.596|STD=0.008|Time spend=0.5287227630615234\n",
      "\tAROUSAL-s17-DCAU|Acc=0.7|10-CV=0.668|STD=0.024|Time spend=0.5623183250427246\n",
      "-----WARNING: Model s28 failed to learn: sum(ans)=0.0 sum(y)=90.0 len(y)=200\n",
      "\tAROUSAL-s28-DASM|Acc=0.55|10-CV=0.548|STD=0.0098|Time spend=0.44018030166625977\n",
      "-----WARNING: Model s28 failed to learn: sum(ans)=0.0 sum(y)=90.0 len(y)=200\n",
      "\tAROUSAL-s28-RASM|Acc=0.55|10-CV=0.52|STD=0.03225|Time spend=0.478574275970459\n",
      "-----WARNING: Model s28 failed to learn: sum(ans)=0.0 sum(y)=90.0 len(y)=200\n",
      "\tAROUSAL-s28-DCAU|Acc=0.55|10-CV=0.548|STD=0.0098|Time spend=0.5107972621917725\n",
      "-----WARNING: Model s07 failed to learn: sum(ans)=200.0 sum(y)=125.0 len(y)=200\n",
      "\tAROUSAL-s07-DASM|Acc=0.625|10-CV=0.62|STD=0.0|Time spend=0.5124268531799316\n",
      "\tAROUSAL-s07-RASM|Acc=0.63|10-CV=0.62|STD=0.0|Time spend=0.5431478023529053\n",
      "-----WARNING: Model s07 failed to learn: sum(ans)=200.0 sum(y)=125.0 len(y)=200\n",
      "\tAROUSAL-s07-DCAU|Acc=0.625|10-CV=0.62|STD=0.0|Time spend=0.5728678703308105\n",
      "\tAROUSAL-s11-DASM|Acc=0.63|10-CV=0.62|STD=0.0|Time spend=0.4024641513824463\n",
      "-----WARNING: Model s11 failed to learn: sum(ans)=0.0 sum(y)=75.0 len(y)=200\n",
      "\tAROUSAL-s11-RASM|Acc=0.625|10-CV=0.62|STD=0.0|Time spend=0.43928050994873047\n",
      "\tAROUSAL-s11-DCAU|Acc=0.655|10-CV=0.628|STD=0.0098|Time spend=0.49126148223876953\n",
      "-----WARNING: Model s25 failed to learn: sum(ans)=200.0 sum(y)=145.0 len(y)=200\n",
      "\tAROUSAL-s25-DASM|Acc=0.725|10-CV=0.714|STD=0.01281|Time spend=0.6303887367248535\n",
      "-----WARNING: Model s25 failed to learn: sum(ans)=200.0 sum(y)=145.0 len(y)=200\n",
      "\tAROUSAL-s25-RASM|Acc=0.725|10-CV=0.712|STD=0.016|Time spend=0.6796824932098389\n",
      "-----WARNING: Model s25 failed to learn: sum(ans)=200.0 sum(y)=145.0 len(y)=200\n",
      "\tAROUSAL-s25-DCAU|Acc=0.725|10-CV=0.712|STD=0.016|Time spend=0.7228884696960449\n",
      "-----WARNING: Model s24 failed to learn: sum(ans)=200.0 sum(y)=165.0 len(y)=200\n",
      "\tAROUSAL-s24-DASM|Acc=0.825|10-CV=0.82|STD=0.0|Time spend=0.5767121315002441\n",
      "-----WARNING: Model s24 failed to learn: sum(ans)=200.0 sum(y)=165.0 len(y)=200\n",
      "\tAROUSAL-s24-RASM|Acc=0.825|10-CV=0.82|STD=0.0|Time spend=0.6262674331665039\n",
      "-----WARNING: Model s24 failed to learn: sum(ans)=200.0 sum(y)=165.0 len(y)=200\n",
      "\tAROUSAL-s24-DCAU|Acc=0.825|10-CV=0.82|STD=0.0|Time spend=0.6798036098480225\n",
      "-----WARNING: Model s04 failed to learn: sum(ans)=0.0 sum(y)=80.0 len(y)=200\n",
      "\tAROUSAL-s04-DASM|Acc=0.6|10-CV=0.594|STD=0.018|Time spend=0.5581052303314209\n",
      "\tAROUSAL-s04-RASM|Acc=0.63|10-CV=0.612|STD=0.02857|Time spend=0.6132583618164062\n",
      "\tAROUSAL-s04-DCAU|Acc=0.67|10-CV=0.616|STD=0.02653|Time spend=0.6693329811096191\n",
      "\tAROUSAL-s16-DASM|Acc=0.63|10-CV=0.598|STD=0.01661|Time spend=0.5371649265289307\n",
      "\tAROUSAL-s16-RASM|Acc=0.68|10-CV=0.64|STD=0.05514|Time spend=0.5917768478393555\n",
      "\tAROUSAL-s16-DCAU|Acc=0.635|10-CV=0.616|STD=0.04543|Time spend=0.6372225284576416\n",
      "\tAROUSAL-s29-DASM|Acc=0.64|10-CV=0.612|STD=0.016|Time spend=0.5546307563781738\n",
      "\tAROUSAL-s29-RASM|Acc=0.64|10-CV=0.624|STD=0.01744|Time spend=0.6054782867431641\n",
      "\tAROUSAL-s29-DCAU|Acc=0.63|10-CV=0.614|STD=0.01281|Time spend=0.653397798538208\n",
      "\tAROUSAL-s26-DASM|Acc=0.685|10-CV=0.574|STD=0.04821|Time spend=0.5526754856109619\n",
      "\tAROUSAL-s26-RASM|Acc=0.58|10-CV=0.574|STD=0.00917|Time spend=0.5962467193603516\n",
      "\tAROUSAL-s26-DCAU|Acc=0.65|10-CV=0.558|STD=0.03516|Time spend=0.6512355804443359\n",
      "\tAROUSAL-s15-DASM|Acc=0.665|10-CV=0.628|STD=0.04214|Time spend=0.4863884449005127\n",
      "\tAROUSAL-s15-RASM|Acc=0.55|10-CV=0.522|STD=0.01077|Time spend=0.5363590717315674\n",
      "\tAROUSAL-s15-DCAU|Acc=0.685|10-CV=0.65|STD=0.03376|Time spend=0.5864410400390625\n",
      "-----WARNING: Model s21 failed to learn: sum(ans)=200.0 sum(y)=160.0 len(y)=200\n",
      "\tAROUSAL-s21-DASM|Acc=0.8|10-CV=0.8|STD=0.0|Time spend=0.5061450004577637\n",
      "-----WARNING: Model s21 failed to learn: sum(ans)=200.0 sum(y)=160.0 len(y)=200\n",
      "\tAROUSAL-s21-RASM|Acc=0.8|10-CV=0.8|STD=0.0|Time spend=0.5407381057739258\n",
      "-----WARNING: Model s21 failed to learn: sum(ans)=200.0 sum(y)=160.0 len(y)=200\n",
      "\tAROUSAL-s21-DCAU|Acc=0.8|10-CV=0.8|STD=0.0|Time spend=0.5743331909179688\n",
      "\tAROUSAL-s30-DASM|Acc=0.66|10-CV=0.628|STD=0.06337|Time spend=0.4984707832336426\n",
      "\tAROUSAL-s30-RASM|Acc=0.64|10-CV=0.616|STD=0.02939|Time spend=0.5421195030212402\n",
      "\tAROUSAL-s30-DCAU|Acc=0.655|10-CV=0.626|STD=0.058|Time spend=0.5902431011199951\n",
      "\tAROUSAL-s27-DASM|Acc=0.725|10-CV=0.708|STD=0.02713|Time spend=0.5053195953369141\n",
      "\tAROUSAL-s27-RASM|Acc=0.705|10-CV=0.684|STD=0.0196|Time spend=0.5472278594970703\n",
      "\tAROUSAL-s27-DCAU|Acc=0.71|10-CV=0.704|STD=0.0196|Time spend=0.5894520282745361\n",
      "\tAROUSAL-s31-DASM|Acc=0.71|10-CV=0.664|STD=0.07088|Time spend=0.5192146301269531\n",
      "\tAROUSAL-s31-RASM|Acc=0.565|10-CV=0.5|STD=0.0498|Time spend=0.5638418197631836\n",
      "\tAROUSAL-s31-DCAU|Acc=0.71|10-CV=0.642|STD=0.07346|Time spend=0.6092479228973389\n",
      "\tAROUSAL-s10-DASM|Acc=0.65|10-CV=0.618|STD=0.026|Time spend=0.4560215473175049\n",
      "\tAROUSAL-s10-RASM|Acc=0.645|10-CV=0.62|STD=0.04099|Time spend=0.4985311031341553\n",
      "\tAROUSAL-s10-DCAU|Acc=0.67|10-CV=0.616|STD=0.05987|Time spend=0.5434951782226562\n",
      "\tAROUSAL-s22-DASM|Acc=0.665|10-CV=0.622|STD=0.054|Time spend=0.4460315704345703\n",
      "\tAROUSAL-s22-RASM|Acc=0.675|10-CV=0.624|STD=0.048|Time spend=0.49431395530700684\n",
      "\tAROUSAL-s22-DCAU|Acc=0.64|10-CV=0.632|STD=0.04308|Time spend=0.5394494533538818\n",
      "\tAROUSAL-s18-DASM|Acc=0.645|10-CV=0.612|STD=0.0098|Time spend=0.4455375671386719\n",
      "\tAROUSAL-s18-RASM|Acc=0.635|10-CV=0.61|STD=0.01|Time spend=0.4995689392089844\n",
      "\tAROUSAL-s18-DCAU|Acc=0.64|10-CV=0.628|STD=0.0098|Time spend=0.5587975978851318\n",
      "-----WARNING: Model s02 failed to learn: sum(ans)=200.0 sum(y)=120.0 len(y)=200\n",
      "\tAROUSAL-s02-DASM|Acc=0.6|10-CV=0.6|STD=0.0|Time spend=0.5620267391204834\n",
      "\tAROUSAL-s02-RASM|Acc=0.625|10-CV=0.598|STD=0.006|Time spend=0.6125373840332031\n",
      "\tAROUSAL-s02-DCAU|Acc=0.605|10-CV=0.596|STD=0.008|Time spend=0.6591591835021973\n",
      "-----WARNING: Model s20 failed to learn: sum(ans)=200.0 sum(y)=155.0 len(y)=200\n",
      "\tAROUSAL-s20-DASM|Acc=0.775|10-CV=0.78|STD=0.0|Time spend=0.5549535751342773\n",
      "\tAROUSAL-s20-RASM|Acc=0.79|10-CV=0.778|STD=0.006|Time spend=0.6111419200897217\n",
      "-----WARNING: Model s20 failed to learn: sum(ans)=200.0 sum(y)=155.0 len(y)=200\n",
      "\tAROUSAL-s20-DCAU|Acc=0.775|10-CV=0.78|STD=0.0|Time spend=0.6586623191833496\n",
      "\tAROUSAL-s06-DASM|Acc=0.625|10-CV=0.606|STD=0.038|Time spend=0.5914862155914307\n",
      "-----WARNING: Model s06 failed to learn: sum(ans)=0.0 sum(y)=85.0 len(y)=200\n",
      "\tAROUSAL-s06-RASM|Acc=0.575|10-CV=0.578|STD=0.006|Time spend=0.6296799182891846\n",
      "\tAROUSAL-s06-DCAU|Acc=0.635|10-CV=0.592|STD=0.0204|Time spend=0.677854061126709\n",
      "-----WARNING: Model s23 failed to learn: sum(ans)=0.0 sum(y)=50.0 len(y)=200\n",
      "\tAROUSAL-s23-DASM|Acc=0.75|10-CV=0.75|STD=0.01|Time spend=0.5469608306884766\n",
      "\tAROUSAL-s23-RASM|Acc=0.755|10-CV=0.75|STD=0.01|Time spend=0.592482328414917\n",
      "-----WARNING: Model s23 failed to learn: sum(ans)=0.0 sum(y)=50.0 len(y)=200\n",
      "\tAROUSAL-s23-DCAU|Acc=0.75|10-CV=0.75|STD=0.01|Time spend=0.6330723762512207\n",
      "-----WARNING: Model s03 failed to learn: sum(ans)=0.0 sum(y)=40.0 len(y)=200\n",
      "\tAROUSAL-s03-DASM|Acc=0.8|10-CV=0.8|STD=0.0|Time spend=0.511472225189209\n",
      "\tAROUSAL-s03-RASM|Acc=0.81|10-CV=0.8|STD=0.0|Time spend=0.552786111831665\n",
      "-----WARNING: Model s03 failed to learn: sum(ans)=0.0 sum(y)=40.0 len(y)=200\n",
      "\tAROUSAL-s03-DCAU|Acc=0.8|10-CV=0.8|STD=0.0|Time spend=0.5932643413543701\n",
      "\tAROUSAL-s05-DASM|Acc=0.55|10-CV=0.482|STD=0.046|Time spend=0.5145642757415771\n",
      "-----WARNING: Model s05 failed to learn: sum(ans)=0.0 sum(y)=95.0 len(y)=200\n",
      "\tAROUSAL-s05-RASM|Acc=0.525|10-CV=0.502|STD=0.04238|Time spend=0.5600597858428955\n",
      "\tAROUSAL-s05-DCAU|Acc=0.585|10-CV=0.504|STD=0.03878|Time spend=0.6044175624847412\n",
      "-----WARNING: Model s12 failed to learn: sum(ans)=200.0 sum(y)=165.0 len(y)=200\n",
      "\tAROUSAL-s12-DASM|Acc=0.825|10-CV=0.82|STD=0.0|Time spend=0.5036988258361816\n",
      "-----WARNING: Model s12 failed to learn: sum(ans)=200.0 sum(y)=165.0 len(y)=200\n",
      "\tAROUSAL-s12-RASM|Acc=0.825|10-CV=0.82|STD=0.0|Time spend=0.5427711009979248\n",
      "-----WARNING: Model s12 failed to learn: sum(ans)=200.0 sum(y)=165.0 len(y)=200\n",
      "\tAROUSAL-s12-DCAU|Acc=0.825|10-CV=0.82|STD=0.0|Time spend=0.5867433547973633\n",
      "-----WARNING: Model s32 failed to learn: sum(ans)=200.0 sum(y)=135.0 len(y)=200\n",
      "\tAROUSAL-s32-DASM|Acc=0.675|10-CV=0.68|STD=0.0|Time spend=0.4837322235107422\n",
      "\tAROUSAL-s32-RASM|Acc=0.68|10-CV=0.668|STD=0.01327|Time spend=0.531475305557251\n",
      "-----WARNING: Model s32 failed to learn: sum(ans)=200.0 sum(y)=135.0 len(y)=200\n",
      "\tAROUSAL-s32-DCAU|Acc=0.675|10-CV=0.652|STD=0.03124|Time spend=0.5693292617797852\n",
      "\tAROUSAL-s08-DASM|Acc=0.58|10-CV=0.57|STD=0.02408|Time spend=0.5316808223724365\n",
      "\tAROUSAL-s08-RASM|Acc=0.585|10-CV=0.574|STD=0.00917|Time spend=0.5747525691986084\n",
      "\tAROUSAL-s08-DCAU|Acc=0.645|10-CV=0.546|STD=0.042|Time spend=0.6167566776275635\n",
      "-----WARNING: Model s01 failed to learn: sum(ans)=200.0 sum(y)=120.0 len(y)=200\n",
      "\tAROUSAL-s01-DASM|Acc=0.6|10-CV=0.6|STD=0.0|Time spend=0.5225598812103271\n",
      "\tAROUSAL-s01-RASM|Acc=0.615|10-CV=0.606|STD=0.00917|Time spend=0.5679707527160645\n",
      "-----WARNING: Model s01 failed to learn: sum(ans)=200.0 sum(y)=120.0 len(y)=200\n",
      "\tAROUSAL-s01-DCAU|Acc=0.6|10-CV=0.6|STD=0.0|Time spend=0.6086728572845459\n",
      "-----WARNING: Model s13 failed to learn: sum(ans)=200.0 sum(y)=170.0 len(y)=200\n",
      "\tAROUSAL-s13-DASM|Acc=0.85|10-CV=0.848|STD=0.0098|Time spend=0.4086189270019531\n",
      "-----WARNING: Model s13 failed to learn: sum(ans)=200.0 sum(y)=170.0 len(y)=200\n",
      "\tAROUSAL-s13-RASM|Acc=0.85|10-CV=0.848|STD=0.0098|Time spend=0.4449460506439209\n",
      "-----WARNING: Model s13 failed to learn: sum(ans)=200.0 sum(y)=170.0 len(y)=200\n",
      "\tAROUSAL-s13-DCAU|Acc=0.85|10-CV=0.848|STD=0.0098|Time spend=0.5022327899932861\n",
      "-----WARNING: Model s14 failed to learn: sum(ans)=200.0 sum(y)=135.0 len(y)=200\n",
      "\tAROUSAL-s14-DASM|Acc=0.675|10-CV=0.68|STD=0.0|Time spend=0.5728955268859863\n",
      "\tAROUSAL-s14-RASM|Acc=0.7|10-CV=0.686|STD=0.01281|Time spend=0.625892162322998\n",
      "-----WARNING: Model s14 failed to learn: sum(ans)=200.0 sum(y)=135.0 len(y)=200\n",
      "\tAROUSAL-s14-DCAU|Acc=0.675|10-CV=0.68|STD=0.0|Time spend=0.7188808917999268\n",
      "AROUSAL-DASM|Acc=0.6798437500000001|10-CV=0.6609375|STD=0.01907634297607389\n",
      "AROUSAL-RASM|Acc=0.6689062499999999|10-CV=0.6505624999999999|STD=0.016533541853343825\n",
      "AROUSAL-DCAU|Acc=0.6843750000000003|10-CV=0.6605|STD=0.020919913420713115\n",
      "\tVALENCE-s09-DASM|Acc=0.725|10-CV=0.692|STD=0.0581|Time spend=0.5521655082702637\n",
      "\tVALENCE-s09-RASM|Acc=0.75|10-CV=0.728|STD=0.0449|Time spend=0.6039402484893799\n",
      "\tVALENCE-s09-DCAU|Acc=0.75|10-CV=0.7|STD=0.05586|Time spend=0.6504781246185303\n",
      "\tVALENCE-s19-DASM|Acc=0.605|10-CV=0.586|STD=0.04294|Time spend=0.49017810821533203\n",
      "\tVALENCE-s19-RASM|Acc=0.605|10-CV=0.572|STD=0.01833|Time spend=0.52801513671875\n",
      "\tVALENCE-s19-DCAU|Acc=0.66|10-CV=0.596|STD=0.0398|Time spend=0.5718164443969727\n",
      "-----WARNING: Model s17 failed to learn: sum(ans)=200.0 sum(y)=110.0 len(y)=200\n",
      "\tVALENCE-s17-DASM|Acc=0.55|10-CV=0.548|STD=0.0098|Time spend=0.5435073375701904\n",
      "\tVALENCE-s17-RASM|Acc=0.56|10-CV=0.55|STD=0.01|Time spend=0.5926101207733154\n",
      "-----WARNING: Model s17 failed to learn: sum(ans)=200.0 sum(y)=110.0 len(y)=200\n",
      "\tVALENCE-s17-DCAU|Acc=0.55|10-CV=0.548|STD=0.0098|Time spend=0.634476900100708\n",
      "-----WARNING: Model s28 failed to learn: sum(ans)=200.0 sum(y)=125.0 len(y)=200\n",
      "\tVALENCE-s28-DASM|Acc=0.625|10-CV=0.62|STD=0.0|Time spend=0.5292131900787354\n",
      "\tVALENCE-s28-RASM|Acc=0.68|10-CV=0.616|STD=0.032|Time spend=0.57110595703125\n",
      "-----WARNING: Model s28 failed to learn: sum(ans)=200.0 sum(y)=125.0 len(y)=200\n",
      "\tVALENCE-s28-DCAU|Acc=0.625|10-CV=0.62|STD=0.0|Time spend=0.6227853298187256\n",
      "-----WARNING: Model s07 failed to learn: sum(ans)=200.0 sum(y)=140.0 len(y)=200\n",
      "\tVALENCE-s07-DASM|Acc=0.7|10-CV=0.7|STD=0.0|Time spend=0.5467448234558105\n",
      "\tVALENCE-s07-RASM|Acc=0.705|10-CV=0.7|STD=0.0|Time spend=0.5982968807220459\n",
      "-----WARNING: Model s07 failed to learn: sum(ans)=200.0 sum(y)=140.0 len(y)=200\n",
      "\tVALENCE-s07-DCAU|Acc=0.7|10-CV=0.7|STD=0.0|Time spend=0.6445431709289551\n",
      "\tVALENCE-s11-DASM|Acc=0.67|10-CV=0.616|STD=0.04271|Time spend=0.5134432315826416\n",
      "\tVALENCE-s11-RASM|Acc=0.64|10-CV=0.576|STD=0.03774|Time spend=0.5590131282806396\n",
      "\tVALENCE-s11-DCAU|Acc=0.665|10-CV=0.592|STD=0.044|Time spend=0.5987541675567627\n",
      "\tVALENCE-s25-DASM|Acc=0.56|10-CV=0.494|STD=0.042|Time spend=0.5402746200561523\n",
      "\tVALENCE-s25-RASM|Acc=0.52|10-CV=0.494|STD=0.04652|Time spend=0.584144115447998\n",
      "\tVALENCE-s25-DCAU|Acc=0.56|10-CV=0.506|STD=0.03693|Time spend=0.622856855392456\n",
      "-----WARNING: Model s24 failed to learn: sum(ans)=0.0 sum(y)=90.0 len(y)=200\n",
      "\tVALENCE-s24-DASM|Acc=0.55|10-CV=0.548|STD=0.0098|Time spend=0.4618241786956787\n",
      "\tVALENCE-s24-RASM|Acc=0.6|10-CV=0.602|STD=0.05095|Time spend=0.5100002288818359\n",
      "\tVALENCE-s24-DCAU|Acc=0.66|10-CV=0.598|STD=0.03516|Time spend=0.5560095310211182\n",
      "\tVALENCE-s04-DASM|Acc=0.665|10-CV=0.598|STD=0.03027|Time spend=0.4933493137359619\n",
      "\tVALENCE-s04-RASM|Acc=0.665|10-CV=0.63|STD=0.05814|Time spend=0.5282230377197266\n",
      "\tVALENCE-s04-DCAU|Acc=0.7|10-CV=0.65|STD=0.0595|Time spend=0.5616621971130371\n",
      "\tVALENCE-s16-DASM|Acc=0.755|10-CV=0.726|STD=0.03231|Time spend=0.48406267166137695\n",
      "\tVALENCE-s16-RASM|Acc=0.635|10-CV=0.618|STD=0.01077|Time spend=0.5373461246490479\n",
      "\tVALENCE-s16-DCAU|Acc=0.735|10-CV=0.73|STD=0.04025|Time spend=0.5877199172973633\n",
      "\tVALENCE-s29-DASM|Acc=0.705|10-CV=0.632|STD=0.05741|Time spend=0.5611639022827148\n",
      "\tVALENCE-s29-RASM|Acc=0.585|10-CV=0.566|STD=0.018|Time spend=0.6146519184112549\n",
      "\tVALENCE-s29-DCAU|Acc=0.685|10-CV=0.606|STD=0.07432|Time spend=0.6563293933868408\n",
      "-----WARNING: Model s26 failed to learn: sum(ans)=200.0 sum(y)=130.0 len(y)=200\n",
      "\tVALENCE-s26-DASM|Acc=0.65|10-CV=0.646|STD=0.00917|Time spend=0.5643219947814941\n",
      "-----WARNING: Model s26 failed to learn: sum(ans)=200.0 sum(y)=130.0 len(y)=200\n",
      "\tVALENCE-s26-RASM|Acc=0.65|10-CV=0.646|STD=0.00917|Time spend=0.6103515625\n",
      "-----WARNING: Model s26 failed to learn: sum(ans)=200.0 sum(y)=130.0 len(y)=200\n",
      "\tVALENCE-s26-DCAU|Acc=0.65|10-CV=0.626|STD=0.04984|Time spend=0.6528174877166748\n",
      "\tVALENCE-s15-DASM|Acc=0.785|10-CV=0.758|STD=0.0603|Time spend=0.4829847812652588\n",
      "\tVALENCE-s15-RASM|Acc=0.525|10-CV=0.488|STD=0.0402|Time spend=0.5313429832458496\n",
      "\tVALENCE-s15-DCAU|Acc=0.795|10-CV=0.76|STD=0.04899|Time spend=0.5748786926269531\n",
      "\tVALENCE-s21-DASM|Acc=0.6|10-CV=0.584|STD=0.03774|Time spend=0.5313475131988525\n",
      "-----WARNING: Model s21 failed to learn: sum(ans)=200.0 sum(y)=105.0 len(y)=200\n",
      "\tVALENCE-s21-RASM|Acc=0.525|10-CV=0.518|STD=0.0275|Time spend=0.5720717906951904\n",
      "\tVALENCE-s21-DCAU|Acc=0.615|10-CV=0.588|STD=0.05528|Time spend=0.6118597984313965\n",
      "-----WARNING: Model s30 failed to learn: sum(ans)=200.0 sum(y)=135.0 len(y)=200\n",
      "\tVALENCE-s30-DASM|Acc=0.675|10-CV=0.68|STD=0.0|Time spend=0.5102880001068115\n",
      "\tVALENCE-s30-RASM|Acc=0.685|10-CV=0.68|STD=0.0|Time spend=0.5542058944702148\n",
      "-----WARNING: Model s30 failed to learn: sum(ans)=200.0 sum(y)=135.0 len(y)=200\n",
      "\tVALENCE-s30-DCAU|Acc=0.675|10-CV=0.68|STD=0.0|Time spend=0.6032555103302002\n",
      "-----WARNING: Model s27 failed to learn: sum(ans)=200.0 sum(y)=150.0 len(y)=200\n",
      "\tVALENCE-s27-DASM|Acc=0.75|10-CV=0.746|STD=0.00917|Time spend=0.4966084957122803\n",
      "\tVALENCE-s27-RASM|Acc=0.76|10-CV=0.738|STD=0.01077|Time spend=0.5321385860443115\n",
      "-----WARNING: Model s27 failed to learn: sum(ans)=200.0 sum(y)=150.0 len(y)=200\n",
      "\tVALENCE-s27-DCAU|Acc=0.75|10-CV=0.746|STD=0.00917|Time spend=0.5840508937835693\n",
      "\tVALENCE-s31-DASM|Acc=0.595|10-CV=0.582|STD=0.01077|Time spend=0.5112614631652832\n",
      "\tVALENCE-s31-RASM|Acc=0.62|10-CV=0.592|STD=0.01327|Time spend=0.5681238174438477\n",
      "-----WARNING: Model s31 failed to learn: sum(ans)=200.0 sum(y)=115.0 len(y)=200\n",
      "\tVALENCE-s31-DCAU|Acc=0.575|10-CV=0.58|STD=0.0|Time spend=0.6149797439575195\n",
      "\tVALENCE-s10-DASM|Acc=0.77|10-CV=0.738|STD=0.04686|Time spend=0.4896225929260254\n",
      "\tVALENCE-s10-RASM|Acc=0.79|10-CV=0.774|STD=0.038|Time spend=0.5331013202667236\n",
      "\tVALENCE-s10-DCAU|Acc=0.78|10-CV=0.754|STD=0.04737|Time spend=0.5699584484100342\n",
      "\tVALENCE-s22-DASM|Acc=0.6|10-CV=0.58|STD=0.02966|Time spend=0.49152636528015137\n",
      "\tVALENCE-s22-RASM|Acc=0.605|10-CV=0.58|STD=0.03688|Time spend=0.5372216701507568\n",
      "\tVALENCE-s22-DCAU|Acc=0.615|10-CV=0.582|STD=0.02441|Time spend=0.5887370109558105\n",
      "\tVALENCE-s18-DASM|Acc=0.81|10-CV=0.74|STD=0.04561|Time spend=0.49184107780456543\n",
      "\tVALENCE-s18-RASM|Acc=0.61|10-CV=0.592|STD=0.01833|Time spend=0.5302634239196777\n",
      "\tVALENCE-s18-DCAU|Acc=0.795|10-CV=0.736|STD=0.05276|Time spend=0.5657222270965576\n",
      "\tVALENCE-s02-DASM|Acc=0.71|10-CV=0.678|STD=0.0603|Time spend=0.426715612411499\n",
      "\tVALENCE-s02-RASM|Acc=0.555|10-CV=0.56|STD=0.0429|Time spend=0.46550607681274414\n",
      "\tVALENCE-s02-DCAU|Acc=0.725|10-CV=0.726|STD=0.04294|Time spend=0.49876904487609863\n",
      "\tVALENCE-s20-DASM|Acc=0.755|10-CV=0.758|STD=0.0629|Time spend=0.39544081687927246\n",
      "\tVALENCE-s20-RASM|Acc=0.605|10-CV=0.57|STD=0.01|Time spend=0.43941617012023926\n",
      "\tVALENCE-s20-DCAU|Acc=0.765|10-CV=0.728|STD=0.04996|Time spend=0.49582910537719727\n",
      "-----WARNING: Model s06 failed to learn: sum(ans)=200.0 sum(y)=150.0 len(y)=200\n",
      "\tVALENCE-s06-DASM|Acc=0.75|10-CV=0.746|STD=0.00917|Time spend=0.5269136428833008\n",
      "-----WARNING: Model s06 failed to learn: sum(ans)=200.0 sum(y)=150.0 len(y)=200\n",
      "\tVALENCE-s06-RASM|Acc=0.75|10-CV=0.746|STD=0.00917|Time spend=0.577385425567627\n",
      "-----WARNING: Model s06 failed to learn: sum(ans)=200.0 sum(y)=150.0 len(y)=200\n",
      "\tVALENCE-s06-DCAU|Acc=0.75|10-CV=0.746|STD=0.00917|Time spend=0.644672155380249\n",
      "-----WARNING: Model s23 failed to learn: sum(ans)=200.0 sum(y)=130.0 len(y)=200\n",
      "\tVALENCE-s23-DASM|Acc=0.65|10-CV=0.646|STD=0.00917|Time spend=0.5223441123962402\n",
      "\tVALENCE-s23-RASM|Acc=0.665|10-CV=0.642|STD=0.014|Time spend=0.5730791091918945\n",
      "-----WARNING: Model s23 failed to learn: sum(ans)=200.0 sum(y)=130.0 len(y)=200\n",
      "\tVALENCE-s23-DCAU|Acc=0.65|10-CV=0.646|STD=0.00917|Time spend=0.6143739223480225\n",
      "-----WARNING: Model s03 failed to learn: sum(ans)=200.0 sum(y)=110.0 len(y)=200\n",
      "\tVALENCE-s03-DASM|Acc=0.55|10-CV=0.55|STD=0.01|Time spend=0.5658636093139648\n",
      "\tVALENCE-s03-RASM|Acc=0.565|10-CV=0.532|STD=0.0098|Time spend=0.6227672100067139\n",
      "-----WARNING: Model s03 failed to learn: sum(ans)=200.0 sum(y)=110.0 len(y)=200\n",
      "\tVALENCE-s03-DCAU|Acc=0.55|10-CV=0.55|STD=0.01|Time spend=0.6724045276641846\n",
      "\tVALENCE-s05-DASM|Acc=0.605|10-CV=0.582|STD=0.04936|Time spend=0.5367071628570557\n",
      "\tVALENCE-s05-RASM|Acc=0.63|10-CV=0.604|STD=0.03072|Time spend=0.5838546752929688\n",
      "\tVALENCE-s05-DCAU|Acc=0.63|10-CV=0.552|STD=0.05307|Time spend=0.6391079425811768\n",
      "\tVALENCE-s12-DASM|Acc=0.65|10-CV=0.584|STD=0.052|Time spend=0.5729026794433594\n",
      "\tVALENCE-s12-RASM|Acc=0.53|10-CV=0.514|STD=0.018|Time spend=0.6231634616851807\n",
      "\tVALENCE-s12-DCAU|Acc=0.615|10-CV=0.57|STD=0.03606|Time spend=0.6665136814117432\n",
      "\tVALENCE-s32-DASM|Acc=0.665|10-CV=0.672|STD=0.04308|Time spend=0.5027458667755127\n",
      "\tVALENCE-s32-RASM|Acc=0.55|10-CV=0.554|STD=0.03231|Time spend=0.557058572769165\n",
      "\tVALENCE-s32-DCAU|Acc=0.71|10-CV=0.71|STD=0.05745|Time spend=0.5945589542388916\n",
      "\tVALENCE-s08-DASM|Acc=0.675|10-CV=0.608|STD=0.05741|Time spend=0.4943819046020508\n",
      "\tVALENCE-s08-RASM|Acc=0.565|10-CV=0.554|STD=0.00917|Time spend=0.5394155979156494\n",
      "\tVALENCE-s08-DCAU|Acc=0.725|10-CV=0.612|STD=0.05741|Time spend=0.578479528427124\n",
      "\tVALENCE-s01-DASM|Acc=0.565|10-CV=0.508|STD=0.036|Time spend=0.5290617942810059\n",
      "\tVALENCE-s01-RASM|Acc=0.53|10-CV=0.508|STD=0.01833|Time spend=0.5717735290527344\n",
      "\tVALENCE-s01-DCAU|Acc=0.55|10-CV=0.514|STD=0.0201|Time spend=0.6229016780853271\n",
      "\tVALENCE-s13-DASM|Acc=0.755|10-CV=0.744|STD=0.04271|Time spend=0.45227670669555664\n",
      "\tVALENCE-s13-RASM|Acc=0.595|10-CV=0.568|STD=0.01327|Time spend=0.49927544593811035\n",
      "\tVALENCE-s13-DCAU|Acc=0.79|10-CV=0.778|STD=0.0328|Time spend=0.55224609375\n",
      "\tVALENCE-s14-DASM|Acc=0.71|10-CV=0.69|STD=0.05385|Time spend=0.5035190582275391\n",
      "\tVALENCE-s14-RASM|Acc=0.695|10-CV=0.592|STD=0.08495|Time spend=0.5502421855926514\n",
      "\tVALENCE-s14-DCAU|Acc=0.695|10-CV=0.682|STD=0.05618|Time spend=0.5949389934539795\n",
      "VALENCE-DASM|Acc=0.66828125|10-CV=0.6431250000000001|STD=0.03314187615415027\n",
      "VALENCE-RASM|Acc=0.6234375000000001|10-CV=0.6001249999999999|STD=0.02543913436403795\n",
      "VALENCE-DCAU|Acc=0.67796875|10-CV=0.6472500000000001|STD=0.03492900755361057\n",
      "TOTAL-DASM|Acc=0.6740625|10-CV=0.65203125|STD=0.026109109565112067\n",
      "TOTAL-RASM|Acc=0.6461718749999997|10-CV=0.6253437500000001|STD=0.02098633810869089\n",
      "TOTAL-DCAU|Acc=0.6811718750000002|10-CV=0.653875|STD=0.027924460487161833\n"
     ]
    }
   ],
   "source": [
    "bands = [(0,4), (4,8), (8,12), (12,30), (30,64)]\n",
    "# [alias_feature_function]__[optional_param]\n",
    "params = dict({\n",
    "    'pow_freq_bands__log':True,\n",
    "    'pow_freq_bands__normalize':False,\n",
    "    'pow_freq_bands__freq_bands':bands\n",
    "})\n",
    "\n",
    "accs,cv_means,cv_stds  = {'DASM':[],'RASM':[],'DCAU':[]},{'DASM':[],'RASM':[],'DCAU':[]},{'DASM':[],'RASM':[],'DCAU':[]}\n",
    "# count = 0\n",
    "for filename in dataset.get_file_list():\n",
    "    start = time.time()\n",
    "    data, labels, groups = dataset.get_data(filename, stimuli=Dataset_subjectDependent.STIMULI_AROUSAL, return_type='numpy')\n",
    "    fe = FeatureExtractor(sfreq=128, selected_funcs=['pow_freq_bands'],params=params,n_jobs=8)\n",
    "    X = fe.fit_transform(X=data)\n",
    "\n",
    "    PSD_left = X[:, left_channel_indexes].copy()\n",
    "    PSD_right = X[:, right_channel_indexes].copy()\n",
    "    PSD_frontal = X[:, frontal_channel_indexes].copy()\n",
    "    PSD_posterior = X[:, posterior_channel_indexes].copy()\n",
    "    X = {\n",
    "        'DASM': PSD_left - PSD_right,\n",
    "        'RASM': PSD_left / PSD_right,\n",
    "        'DCAU': PSD_frontal - PSD_posterior,\n",
    "    }\n",
    "\n",
    "    for feature_name in ['DASM','RASM','DCAU']:\n",
    "        _, acc, cross = train_model(X[feature_name], labels.reshape(-1), groups, filename=filename)\n",
    "        print(f\"\\tAROUSAL-{filename}-{feature_name}|Acc={round(acc,5)}|10-CV={round(cross.mean(),5)}|STD={round(cross.std(),5)}|Time spend={time.time() - start}\")\n",
    "        accs[feature_name].append(acc)\n",
    "        cv_means[feature_name].append(cross.mean())\n",
    "        cv_stds[feature_name].append(cross.std())\n",
    "    # count+=1\n",
    "    # if(count == 3): break\n",
    "for feature_name in ['DASM','RASM','DCAU']:\n",
    "    print(f\"AROUSAL-{feature_name}|Acc={sum(accs[feature_name])/len(accs[feature_name])}|10-CV={sum(cv_means[feature_name])/len(cv_means[feature_name])}|STD={sum(cv_stds[feature_name])/len(cv_stds[feature_name])}\")\n",
    "\n",
    "accs_v,cv_means_v,cv_stds_v  = {'DASM':[],'RASM':[],'DCAU':[]},{'DASM':[],'RASM':[],'DCAU':[]},{'DASM':[],'RASM':[],'DCAU':[]}\n",
    "# count=0\n",
    "for filename in dataset.get_file_list():\n",
    "    start = time.time()\n",
    "    data, labels, groups = dataset.get_data(filename, stimuli=Dataset_subjectDependent.STIMULI_VALENCE, return_type='numpy')\n",
    "    fe = FeatureExtractor(sfreq=128, selected_funcs=['pow_freq_bands'],params=params,n_jobs=8)\n",
    "    X = fe.fit_transform(X=data)\n",
    "\n",
    "    PSD_left = X[:, left_channel_indexes].copy()\n",
    "    PSD_right = X[:, right_channel_indexes].copy()\n",
    "    PSD_frontal = X[:, frontal_channel_indexes].copy()\n",
    "    PSD_posterior = X[:, posterior_channel_indexes].copy()\n",
    "    X = {\n",
    "        'DASM': PSD_left - PSD_right,\n",
    "        'RASM': PSD_left / PSD_right,\n",
    "        'DCAU': PSD_frontal - PSD_posterior,\n",
    "    }\n",
    "\n",
    "    for feature_name in ['DASM','RASM','DCAU']:\n",
    "        _, acc, cross = train_model(X[feature_name], labels.reshape(-1), groups, filename=filename)\n",
    "        print(f\"\\tVALENCE-{filename}-{feature_name}|Acc={round(acc,5)}|10-CV={round(cross.mean(),5)}|STD={round(cross.std(),5)}|Time spend={time.time() - start}\")\n",
    "        accs_v[feature_name].append(acc)\n",
    "        cv_means_v[feature_name].append(cross.mean())\n",
    "        cv_stds_v[feature_name].append(cross.std())\n",
    "    # count+=1\n",
    "    # if(count == 3): break\n",
    "for feature_name in ['DASM','RASM','DCAU']:\n",
    "    print(f\"VALENCE-{feature_name}|Acc={sum(accs_v[feature_name])/len(accs_v[feature_name])}|10-CV={sum(cv_means_v[feature_name])/len(cv_means_v[feature_name])}|STD={sum(cv_stds_v[feature_name])/len(cv_stds_v[feature_name])}\")\n",
    "\n",
    "for feature_name in ['DASM','RASM','DCAU']:\n",
    "    accs[feature_name].extend(accs_v[feature_name])\n",
    "    cv_means[feature_name].extend(cv_means_v[feature_name])\n",
    "    cv_stds[feature_name].extend(cv_stds_v[feature_name])\n",
    "    print(f\"TOTAL-{feature_name}|Acc={sum(accs[feature_name])/len(accs[feature_name])}|10-CV={sum(cv_means[feature_name])/len(cv_means[feature_name])}|STD={sum(cv_stds[feature_name])/len(cv_stds[feature_name])}\")"
   ]
  },
  {
   "cell_type": "markdown",
   "metadata": {},
   "source": [
    "## 4. Connectivity\n",
    "\n",
    "### 4.1 $ \\text{PCC}_{\\text{time}}(i,j) = \\frac{\\text{Cov}[\\mathbf{X}_i, \\mathbf{X}_j]}{\\sigma_{\\mathbf{X}_i} \\sigma_{\\mathbf{X}_j}} $"
   ]
  },
  {
   "cell_type": "code",
   "execution_count": 7,
   "metadata": {},
   "outputs": [],
   "source": [
    "\n",
    "def pearson_correlation(x,y):\n",
    "    \"\"\" x,y denoted the signal_x and signal_y following the equation \"\"\"\n",
    "    cov = np.cov(x, y)\n",
    "    # print(cov)\n",
    "    # [[ 8806859.74527069  8007149.0906219 ] ==> [[cov_xx, cov_xy]\n",
    "    # [ 8007149.0906219  10396797.72458848]]      [cov_yx, cov_yy]]\n",
    "    cov_xy = cov[0,1] # or cov[1,0]\n",
    "    cov_xx = cov[0,0]\n",
    "    cov_yy = cov[1,1]\n",
    "    corr = cov_xy / ( cov_xx**0.5 * cov_yy**0.5  )\n",
    "    return corr\n",
    "\n",
    "def _cal(p_id, partial_data):\n",
    "    # print(f\"p_id:{p_id} - data to run {partial_data.shape}\")\n",
    "    from itertools import combinations\n",
    "    pcc = []\n",
    "    for index in range(partial_data.shape[0]):\n",
    "        pcc_epoch = []\n",
    "        for comb in combinations(list(range(partial_data.shape[1])), 2):\n",
    "            pcc_ab = pearson_correlation(partial_data[index, comb[0], :], partial_data[index, comb[1], :]   )\n",
    "            pcc_epoch.append(pcc_ab)\n",
    "        pcc_epoch = np.hstack(pcc_epoch)\n",
    "        pcc.append(pcc_epoch)\n",
    "    pcc = np.vstack(pcc)\n",
    "    return pcc\n",
    "\n",
    "def calculate_pcc(data, n_jobs=8):\n",
    "    \"\"\" \n",
    "    Input: Expect data to have (n_epochs, n_channels, n_samples)\n",
    "    Output: (n_epochs, n_conn ) => n_conn = n_channels!/(2!(n_channels-2)!)\n",
    "    \"\"\"\n",
    "    from multiprocessing import Pool\n",
    "\n",
    "    try:\n",
    "        t_out = 60000\n",
    "        pool = Pool()\n",
    "        p_list = []\n",
    "        ans_list = []\n",
    "        num_p = n_jobs\n",
    "        indices = np.array_split(np.arange(data.shape[0]), num_p)\n",
    "        for p_id in range(num_p):\n",
    "            p_list.append(pool.apply_async(_cal, [p_id, data[indices[p_id]] ]))\n",
    "        for p_id in range(num_p):\n",
    "            ans_list.append( p_list[p_id].get(timeout=t_out) )\n",
    "        # ans_list\n",
    "    except Exception as e:\n",
    "        print(e)\n",
    "    finally:\n",
    "        print(\"========= close ========\")\n",
    "        pool.close() \n",
    "        pool.terminate()\n",
    "    return np.vstack(ans_list)"
   ]
  },
  {
   "cell_type": "code",
   "execution_count": 8,
   "metadata": {},
   "outputs": [
    {
     "data": {
      "application/vnd.jupyter.widget-view+json": {
       "model_id": "8e8d473275244a96add9225d40cee51b",
       "version_major": 2,
       "version_minor": 0
      },
      "text/plain": [
       "  0%|          | 0/32 [00:00<?, ?it/s]"
      ]
     },
     "metadata": {},
     "output_type": "display_data"
    },
    {
     "name": "stdout",
     "output_type": "stream",
     "text": [
      "Fitted sphere radius:         95.3 mm\n",
      "Origin head coordinates:      -0.8 15.1 45.3 mm\n",
      "Origin device coordinates:    -0.8 15.1 45.3 mm\n",
      "========= close ========\n",
      "\tAROUSAL-s09|Acc=0.6|10-CV=0.6|STD=0.0|Time spend=8.250847101211548\n",
      "\tVALENCE-s09|Acc=0.665|10-CV=0.628|STD=0.05671|Time spend=8.452325582504272\n",
      "Fitted sphere radius:         95.3 mm\n",
      "Origin head coordinates:      -0.8 15.1 45.3 mm\n",
      "Origin device coordinates:    -0.8 15.1 45.3 mm\n",
      "========= close ========\n",
      "\tAROUSAL-s19|Acc=0.685|10-CV=0.68|STD=0.0|Time spend=8.35896110534668\n",
      "\tVALENCE-s19|Acc=0.63|10-CV=0.596|STD=0.02939|Time spend=8.558730840682983\n",
      "Fitted sphere radius:         95.3 mm\n",
      "Origin head coordinates:      -0.8 15.1 45.3 mm\n",
      "Origin device coordinates:    -0.8 15.1 45.3 mm\n",
      "========= close ========\n",
      "\tAROUSAL-s17|Acc=0.6|10-CV=0.6|STD=0.0|Time spend=7.53402304649353\n",
      "\tVALENCE-s17|Acc=0.55|10-CV=0.55|STD=0.01|Time spend=7.760587692260742\n",
      "Fitted sphere radius:         95.3 mm\n",
      "Origin head coordinates:      -0.8 15.1 45.3 mm\n",
      "Origin device coordinates:    -0.8 15.1 45.3 mm\n",
      "========= close ========\n",
      "\tAROUSAL-s28|Acc=0.55|10-CV=0.548|STD=0.0098|Time spend=8.273389101028442\n",
      "\tVALENCE-s28|Acc=0.625|10-CV=0.62|STD=0.0|Time spend=8.486640214920044\n",
      "Fitted sphere radius:         95.3 mm\n",
      "Origin head coordinates:      -0.8 15.1 45.3 mm\n",
      "Origin device coordinates:    -0.8 15.1 45.3 mm\n",
      "========= close ========\n",
      "\tAROUSAL-s07|Acc=0.625|10-CV=0.62|STD=0.0|Time spend=8.345711469650269\n",
      "\tVALENCE-s07|Acc=0.7|10-CV=0.7|STD=0.0|Time spend=8.542090892791748\n",
      "Fitted sphere radius:         95.3 mm\n",
      "Origin head coordinates:      -0.8 15.1 45.3 mm\n",
      "Origin device coordinates:    -0.8 15.1 45.3 mm\n",
      "========= close ========\n",
      "\tAROUSAL-s11|Acc=0.625|10-CV=0.62|STD=0.0|Time spend=7.882542371749878\n",
      "\tVALENCE-s11|Acc=0.6|10-CV=0.6|STD=0.0|Time spend=8.070793390274048\n",
      "Fitted sphere radius:         95.3 mm\n",
      "Origin head coordinates:      -0.8 15.1 45.3 mm\n",
      "Origin device coordinates:    -0.8 15.1 45.3 mm\n",
      "========= close ========\n",
      "\tAROUSAL-s25|Acc=0.725|10-CV=0.72|STD=0.0|Time spend=7.833923101425171\n",
      "\tVALENCE-s25|Acc=0.525|10-CV=0.52|STD=0.0|Time spend=8.02481460571289\n",
      "Fitted sphere radius:         95.3 mm\n",
      "Origin head coordinates:      -0.8 15.1 45.3 mm\n",
      "Origin device coordinates:    -0.8 15.1 45.3 mm\n",
      "========= close ========\n",
      "\tAROUSAL-s24|Acc=0.825|10-CV=0.82|STD=0.0|Time spend=7.568972826004028\n",
      "\tVALENCE-s24|Acc=0.56|10-CV=0.542|STD=0.01887|Time spend=7.77027440071106\n",
      "Fitted sphere radius:         95.3 mm\n",
      "Origin head coordinates:      -0.8 15.1 45.3 mm\n",
      "Origin device coordinates:    -0.8 15.1 45.3 mm\n",
      "========= close ========\n",
      "\tAROUSAL-s04|Acc=0.6|10-CV=0.6|STD=0.0|Time spend=8.572454452514648\n",
      "\tVALENCE-s04|Acc=0.6|10-CV=0.6|STD=0.0|Time spend=8.723875522613525\n",
      "Fitted sphere radius:         95.3 mm\n",
      "Origin head coordinates:      -0.8 15.1 45.3 mm\n",
      "Origin device coordinates:    -0.8 15.1 45.3 mm\n",
      "========= close ========\n",
      "\tAROUSAL-s16|Acc=0.595|10-CV=0.572|STD=0.06645|Time spend=8.007067680358887\n",
      "\tVALENCE-s16|Acc=0.625|10-CV=0.62|STD=0.0|Time spend=8.19601321220398\n",
      "Fitted sphere radius:         95.3 mm\n",
      "Origin head coordinates:      -0.8 15.1 45.3 mm\n",
      "Origin device coordinates:    -0.8 15.1 45.3 mm\n",
      "========= close ========\n",
      "\tAROUSAL-s29|Acc=0.625|10-CV=0.618|STD=0.006|Time spend=7.5206544399261475\n",
      "\tVALENCE-s29|Acc=0.67|10-CV=0.676|STD=0.06681|Time spend=7.7697367668151855\n",
      "Fitted sphere radius:         95.3 mm\n",
      "Origin head coordinates:      -0.8 15.1 45.3 mm\n",
      "Origin device coordinates:    -0.8 15.1 45.3 mm\n",
      "========= close ========\n",
      "\tAROUSAL-s26|Acc=0.625|10-CV=0.608|STD=0.044|Time spend=8.12624716758728\n",
      "\tVALENCE-s26|Acc=0.65|10-CV=0.646|STD=0.00917|Time spend=8.334580183029175\n",
      "Fitted sphere radius:         95.3 mm\n",
      "Origin head coordinates:      -0.8 15.1 45.3 mm\n",
      "Origin device coordinates:    -0.8 15.1 45.3 mm\n",
      "========= close ========\n",
      "\tAROUSAL-s15|Acc=0.535|10-CV=0.534|STD=0.022|Time spend=7.669536590576172\n",
      "\tVALENCE-s15|Acc=0.76|10-CV=0.74|STD=0.04648|Time spend=7.870079040527344\n",
      "Fitted sphere radius:         95.3 mm\n",
      "Origin head coordinates:      -0.8 15.1 45.3 mm\n",
      "Origin device coordinates:    -0.8 15.1 45.3 mm\n",
      "========= close ========\n",
      "\tAROUSAL-s21|Acc=0.8|10-CV=0.8|STD=0.0|Time spend=7.720508813858032\n",
      "\tVALENCE-s21|Acc=0.57|10-CV=0.522|STD=0.0328|Time spend=7.931051015853882\n",
      "Fitted sphere radius:         95.3 mm\n",
      "Origin head coordinates:      -0.8 15.1 45.3 mm\n",
      "Origin device coordinates:    -0.8 15.1 45.3 mm\n",
      "========= close ========\n",
      "\tAROUSAL-s30|Acc=0.635|10-CV=0.644|STD=0.03666|Time spend=7.850973606109619\n",
      "\tVALENCE-s30|Acc=0.675|10-CV=0.68|STD=0.0|Time spend=8.068311929702759\n",
      "Fitted sphere radius:         95.3 mm\n",
      "Origin head coordinates:      -0.8 15.1 45.3 mm\n",
      "Origin device coordinates:    -0.8 15.1 45.3 mm\n",
      "========= close ========\n",
      "\tAROUSAL-s27|Acc=0.735|10-CV=0.69|STD=0.02236|Time spend=8.134633541107178\n",
      "\tVALENCE-s27|Acc=0.75|10-CV=0.746|STD=0.00917|Time spend=8.335800170898438\n",
      "Fitted sphere radius:         95.3 mm\n",
      "Origin head coordinates:      -0.8 15.1 45.3 mm\n",
      "Origin device coordinates:    -0.8 15.1 45.3 mm\n",
      "========= close ========\n",
      "\tAROUSAL-s31|Acc=0.615|10-CV=0.536|STD=0.02498|Time spend=7.533940076828003\n",
      "\tVALENCE-s31|Acc=0.575|10-CV=0.58|STD=0.0|Time spend=7.685941934585571\n",
      "Fitted sphere radius:         95.3 mm\n",
      "Origin head coordinates:      -0.8 15.1 45.3 mm\n",
      "Origin device coordinates:    -0.8 15.1 45.3 mm\n",
      "========= close ========\n",
      "\tAROUSAL-s10|Acc=0.63|10-CV=0.562|STD=0.05963|Time spend=4.948837995529175\n",
      "\tVALENCE-s10|Acc=0.715|10-CV=0.69|STD=0.05079|Time spend=5.109210968017578\n",
      "Fitted sphere radius:         95.3 mm\n",
      "Origin head coordinates:      -0.8 15.1 45.3 mm\n",
      "Origin device coordinates:    -0.8 15.1 45.3 mm\n",
      "========= close ========\n",
      "\tAROUSAL-s22|Acc=0.6|10-CV=0.6|STD=0.0|Time spend=6.721645355224609\n",
      "\tVALENCE-s22|Acc=0.55|10-CV=0.546|STD=0.01281|Time spend=6.917716979980469\n",
      "Fitted sphere radius:         95.3 mm\n",
      "Origin head coordinates:      -0.8 15.1 45.3 mm\n",
      "Origin device coordinates:    -0.8 15.1 45.3 mm\n",
      "========= close ========\n",
      "\tAROUSAL-s18|Acc=0.625|10-CV=0.62|STD=0.0|Time spend=5.877720832824707\n",
      "\tVALENCE-s18|Acc=0.72|10-CV=0.664|STD=0.04271|Time spend=6.160045146942139\n",
      "Fitted sphere radius:         95.3 mm\n",
      "Origin head coordinates:      -0.8 15.1 45.3 mm\n",
      "Origin device coordinates:    -0.8 15.1 45.3 mm\n",
      "========= close ========\n",
      "\tAROUSAL-s02|Acc=0.6|10-CV=0.6|STD=0.0|Time spend=7.061770915985107\n",
      "\tVALENCE-s02|Acc=0.55|10-CV=0.554|STD=0.018|Time spend=7.270661354064941\n",
      "Fitted sphere radius:         95.3 mm\n",
      "Origin head coordinates:      -0.8 15.1 45.3 mm\n",
      "Origin device coordinates:    -0.8 15.1 45.3 mm\n",
      "========= close ========\n",
      "\tAROUSAL-s20|Acc=0.775|10-CV=0.78|STD=0.0|Time spend=6.771617889404297\n",
      "\tVALENCE-s20|Acc=0.645|10-CV=0.656|STD=0.05571|Time spend=6.940592288970947\n",
      "Fitted sphere radius:         95.3 mm\n",
      "Origin head coordinates:      -0.8 15.1 45.3 mm\n",
      "Origin device coordinates:    -0.8 15.1 45.3 mm\n",
      "========= close ========\n",
      "\tAROUSAL-s06|Acc=0.575|10-CV=0.582|STD=0.006|Time spend=8.365325212478638\n",
      "\tVALENCE-s06|Acc=0.75|10-CV=0.746|STD=0.00917|Time spend=8.5822012424469\n",
      "Fitted sphere radius:         95.3 mm\n",
      "Origin head coordinates:      -0.8 15.1 45.3 mm\n",
      "Origin device coordinates:    -0.8 15.1 45.3 mm\n",
      "========= close ========\n",
      "\tAROUSAL-s23|Acc=0.75|10-CV=0.75|STD=0.01|Time spend=7.608521223068237\n",
      "\tVALENCE-s23|Acc=0.65|10-CV=0.646|STD=0.00917|Time spend=7.815774440765381\n",
      "Fitted sphere radius:         95.3 mm\n",
      "Origin head coordinates:      -0.8 15.1 45.3 mm\n",
      "Origin device coordinates:    -0.8 15.1 45.3 mm\n",
      "========= close ========\n",
      "\tAROUSAL-s03|Acc=0.8|10-CV=0.8|STD=0.0|Time spend=8.27662181854248\n",
      "\tVALENCE-s03|Acc=0.55|10-CV=0.55|STD=0.01|Time spend=8.487746477127075\n",
      "Fitted sphere radius:         95.3 mm\n",
      "Origin head coordinates:      -0.8 15.1 45.3 mm\n",
      "Origin device coordinates:    -0.8 15.1 45.3 mm\n",
      "========= close ========\n",
      "\tAROUSAL-s05|Acc=0.575|10-CV=0.488|STD=0.03919|Time spend=7.018551349639893\n",
      "\tVALENCE-s05|Acc=0.6|10-CV=0.6|STD=0.0|Time spend=7.224375247955322\n",
      "Fitted sphere radius:         95.3 mm\n",
      "Origin head coordinates:      -0.8 15.1 45.3 mm\n",
      "Origin device coordinates:    -0.8 15.1 45.3 mm\n",
      "========= close ========\n",
      "\tAROUSAL-s12|Acc=0.825|10-CV=0.82|STD=0.0|Time spend=6.66710638999939\n",
      "\tVALENCE-s12|Acc=0.675|10-CV=0.552|STD=0.0325|Time spend=6.97411584854126\n",
      "Fitted sphere radius:         95.3 mm\n",
      "Origin head coordinates:      -0.8 15.1 45.3 mm\n",
      "Origin device coordinates:    -0.8 15.1 45.3 mm\n",
      "========= close ========\n",
      "\tAROUSAL-s32|Acc=0.675|10-CV=0.68|STD=0.0|Time spend=7.00553297996521\n",
      "\tVALENCE-s32|Acc=0.69|10-CV=0.714|STD=0.062|Time spend=7.1651611328125\n",
      "Fitted sphere radius:         95.3 mm\n",
      "Origin head coordinates:      -0.8 15.1 45.3 mm\n",
      "Origin device coordinates:    -0.8 15.1 45.3 mm\n",
      "========= close ========\n",
      "\tAROUSAL-s08|Acc=0.575|10-CV=0.566|STD=0.02538|Time spend=5.630510330200195\n",
      "\tVALENCE-s08|Acc=0.685|10-CV=0.672|STD=0.06765|Time spend=5.879383563995361\n",
      "Fitted sphere radius:         95.3 mm\n",
      "Origin head coordinates:      -0.8 15.1 45.3 mm\n",
      "Origin device coordinates:    -0.8 15.1 45.3 mm\n",
      "========= close ========\n",
      "\tAROUSAL-s01|Acc=0.62|10-CV=0.602|STD=0.01661|Time spend=6.843615293502808\n",
      "\tVALENCE-s01|Acc=0.64|10-CV=0.594|STD=0.062|Time spend=7.035039901733398\n",
      "Fitted sphere radius:         95.3 mm\n",
      "Origin head coordinates:      -0.8 15.1 45.3 mm\n",
      "Origin device coordinates:    -0.8 15.1 45.3 mm\n",
      "========= close ========\n",
      "\tAROUSAL-s13|Acc=0.85|10-CV=0.848|STD=0.0098|Time spend=7.052770376205444\n",
      "\tVALENCE-s13|Acc=0.745|10-CV=0.76|STD=0.05138|Time spend=7.242992877960205\n",
      "Fitted sphere radius:         95.3 mm\n",
      "Origin head coordinates:      -0.8 15.1 45.3 mm\n",
      "Origin device coordinates:    -0.8 15.1 45.3 mm\n",
      "========= close ========\n",
      "\tAROUSAL-s14|Acc=0.675|10-CV=0.68|STD=0.0|Time spend=6.343399286270142\n",
      "\tVALENCE-s14|Acc=0.68|10-CV=0.616|STD=0.04543|Time spend=6.498118877410889\n",
      "AROUSAL|Acc=0.6609375000000001|10-CV=0.6496249999999999|STD=0.012464519716519296\n",
      "VALENCE|Acc=0.6429687500000002|10-CV=0.6289375|STD=0.025271873358863717\n"
     ]
    }
   ],
   "source": [
    "accs, cv_means, cv_stds = [],[],[]\n",
    "accs_v, cv_means_v, cv_stds_v = [],[],[]\n",
    "reports = []\n",
    "for filename in (pbar := tqdm(dataset.get_file_list())):\n",
    "    start = time.time()\n",
    "    pbar.set_description(filename)\n",
    "    data, labels, groups = dataset.get_data(filename, stimuli=Dataset_subjectDependent.STIMULI_AROUSAL, return_type='mne', sfreq=128)\n",
    "    data_csd = mne.preprocessing.compute_current_source_density(data)\n",
    "    pcc = calculate_pcc(data_csd.get_data())\n",
    "    _,acc,cross,train_report = train_model(pcc, labels.squeeze(), groups, filename=filename, return_text=True)\n",
    "    report = f\"\\tAROUSAL-{filename}|Acc={round(acc,5)}|10-CV={round(cross.mean(),5)}|STD={round(cross.std(),5)}|Time spend={time.time() - start}\"\n",
    "    print(report)\n",
    "    reports.append(report)\n",
    "    reports.append(train_report)\n",
    "    accs.append(acc)\n",
    "    cv_means.append(cross.mean())\n",
    "    cv_stds.append(cross.std())\n",
    "\n",
    "    _, labels_v, groups_v = dataset.get_data(filename, stimuli=Dataset_subjectDependent.STIMULI_VALENCE, return_type='mne', sfreq=128)\n",
    "    _,acc,cross,train_report = train_model(pcc, labels_v.squeeze(), groups_v, filename=filename, return_text=True)\n",
    "    report = f\"\\tVALENCE-{filename}|Acc={round(acc,5)}|10-CV={round(cross.mean(),5)}|STD={round(cross.std(),5)}|Time spend={time.time() - start}\"\n",
    "    print(report)\n",
    "    reports.append(report)\n",
    "    reports.append(train_report)\n",
    "    accs_v.append(acc)\n",
    "    cv_means_v.append(cross.mean())\n",
    "    cv_stds_v.append(cross.std())\n",
    "    # break\n",
    "    # count+=1\n",
    "    # if(count == 5): break\n",
    "report = f\"AROUSAL|Acc={sum(accs)/len(accs)}|10-CV={sum(cv_means)/len(cv_means)}|STD={sum(cv_stds)/len(cv_stds)}\"\n",
    "print(report)\n",
    "reports.append(report)\n",
    "report = f\"VALENCE|Acc={sum(accs_v)/len(accs_v)}|10-CV={sum(cv_means_v)/len(cv_means_v)}|STD={sum(cv_stds_v)/len(cv_stds_v)}\"\n",
    "print(report)\n",
    "reports.append(report)"
   ]
  },
  {
   "cell_type": "code",
   "execution_count": 9,
   "metadata": {},
   "outputs": [
    {
     "name": "stdout",
     "output_type": "stream",
     "text": [
      "\tAROUSAL-s09|Acc=0.6|10-CV=0.6|STD=0.0|Time spend=8.250847101211548\n",
      "-----WARNING: Model s09 failed to learn: sum(ans)=200.0 sum(y)=120.0 len(y)=200\n",
      "\tVALENCE-s09|Acc=0.665|10-CV=0.628|STD=0.05671|Time spend=8.452325582504272\n",
      "\tAROUSAL-s19|Acc=0.685|10-CV=0.68|STD=0.0|Time spend=8.35896110534668\n",
      "\tVALENCE-s19|Acc=0.63|10-CV=0.596|STD=0.02939|Time spend=8.558730840682983\n",
      "\tAROUSAL-s17|Acc=0.6|10-CV=0.6|STD=0.0|Time spend=7.53402304649353\n",
      "-----WARNING: Model s17 failed to learn: sum(ans)=200.0 sum(y)=120.0 len(y)=200\n",
      "\tVALENCE-s17|Acc=0.55|10-CV=0.55|STD=0.01|Time spend=7.760587692260742\n",
      "-----WARNING: Model s17 failed to learn: sum(ans)=200.0 sum(y)=110.0 len(y)=200\n",
      "\tAROUSAL-s28|Acc=0.55|10-CV=0.548|STD=0.0098|Time spend=8.273389101028442\n",
      "-----WARNING: Model s28 failed to learn: sum(ans)=0.0 sum(y)=90.0 len(y)=200\n",
      "\tVALENCE-s28|Acc=0.625|10-CV=0.62|STD=0.0|Time spend=8.486640214920044\n",
      "-----WARNING: Model s28 failed to learn: sum(ans)=200.0 sum(y)=125.0 len(y)=200\n",
      "\tAROUSAL-s07|Acc=0.625|10-CV=0.62|STD=0.0|Time spend=8.345711469650269\n",
      "-----WARNING: Model s07 failed to learn: sum(ans)=200.0 sum(y)=125.0 len(y)=200\n",
      "\tVALENCE-s07|Acc=0.7|10-CV=0.7|STD=0.0|Time spend=8.542090892791748\n",
      "-----WARNING: Model s07 failed to learn: sum(ans)=200.0 sum(y)=140.0 len(y)=200\n",
      "\tAROUSAL-s11|Acc=0.625|10-CV=0.62|STD=0.0|Time spend=7.882542371749878\n",
      "-----WARNING: Model s11 failed to learn: sum(ans)=0.0 sum(y)=75.0 len(y)=200\n",
      "\tVALENCE-s11|Acc=0.6|10-CV=0.6|STD=0.0|Time spend=8.070793390274048\n",
      "-----WARNING: Model s11 failed to learn: sum(ans)=200.0 sum(y)=120.0 len(y)=200\n",
      "\tAROUSAL-s25|Acc=0.725|10-CV=0.72|STD=0.0|Time spend=7.833923101425171\n",
      "-----WARNING: Model s25 failed to learn: sum(ans)=200.0 sum(y)=145.0 len(y)=200\n",
      "\tVALENCE-s25|Acc=0.525|10-CV=0.52|STD=0.0|Time spend=8.02481460571289\n",
      "-----WARNING: Model s25 failed to learn: sum(ans)=0.0 sum(y)=95.0 len(y)=200\n",
      "\tAROUSAL-s24|Acc=0.825|10-CV=0.82|STD=0.0|Time spend=7.568972826004028\n",
      "-----WARNING: Model s24 failed to learn: sum(ans)=200.0 sum(y)=165.0 len(y)=200\n",
      "\tVALENCE-s24|Acc=0.56|10-CV=0.542|STD=0.01887|Time spend=7.77027440071106\n",
      "\tAROUSAL-s04|Acc=0.6|10-CV=0.6|STD=0.0|Time spend=8.572454452514648\n",
      "-----WARNING: Model s04 failed to learn: sum(ans)=0.0 sum(y)=80.0 len(y)=200\n",
      "\tVALENCE-s04|Acc=0.6|10-CV=0.6|STD=0.0|Time spend=8.723875522613525\n",
      "-----WARNING: Model s04 failed to learn: sum(ans)=0.0 sum(y)=80.0 len(y)=200\n",
      "\tAROUSAL-s16|Acc=0.595|10-CV=0.572|STD=0.06645|Time spend=8.007067680358887\n",
      "\tVALENCE-s16|Acc=0.625|10-CV=0.62|STD=0.0|Time spend=8.19601321220398\n",
      "-----WARNING: Model s16 failed to learn: sum(ans)=0.0 sum(y)=75.0 len(y)=200\n",
      "\tAROUSAL-s29|Acc=0.625|10-CV=0.618|STD=0.006|Time spend=7.5206544399261475\n",
      "-----WARNING: Model s29 failed to learn: sum(ans)=200.0 sum(y)=125.0 len(y)=200\n",
      "\tVALENCE-s29|Acc=0.67|10-CV=0.676|STD=0.06681|Time spend=7.7697367668151855\n",
      "\tAROUSAL-s26|Acc=0.625|10-CV=0.608|STD=0.044|Time spend=8.12624716758728\n",
      "\tVALENCE-s26|Acc=0.65|10-CV=0.646|STD=0.00917|Time spend=8.334580183029175\n",
      "-----WARNING: Model s26 failed to learn: sum(ans)=200.0 sum(y)=130.0 len(y)=200\n",
      "\tAROUSAL-s15|Acc=0.535|10-CV=0.534|STD=0.022|Time spend=7.669536590576172\n",
      "\tVALENCE-s15|Acc=0.76|10-CV=0.74|STD=0.04648|Time spend=7.870079040527344\n",
      "\tAROUSAL-s21|Acc=0.8|10-CV=0.8|STD=0.0|Time spend=7.720508813858032\n",
      "-----WARNING: Model s21 failed to learn: sum(ans)=200.0 sum(y)=160.0 len(y)=200\n",
      "\tVALENCE-s21|Acc=0.57|10-CV=0.522|STD=0.0328|Time spend=7.931051015853882\n",
      "\tAROUSAL-s30|Acc=0.635|10-CV=0.644|STD=0.03666|Time spend=7.850973606109619\n",
      "\tVALENCE-s30|Acc=0.675|10-CV=0.68|STD=0.0|Time spend=8.068311929702759\n",
      "-----WARNING: Model s30 failed to learn: sum(ans)=200.0 sum(y)=135.0 len(y)=200\n",
      "\tAROUSAL-s27|Acc=0.735|10-CV=0.69|STD=0.02236|Time spend=8.134633541107178\n",
      "\tVALENCE-s27|Acc=0.75|10-CV=0.746|STD=0.00917|Time spend=8.335800170898438\n",
      "-----WARNING: Model s27 failed to learn: sum(ans)=200.0 sum(y)=150.0 len(y)=200\n",
      "\tAROUSAL-s31|Acc=0.615|10-CV=0.536|STD=0.02498|Time spend=7.533940076828003\n",
      "\tVALENCE-s31|Acc=0.575|10-CV=0.58|STD=0.0|Time spend=7.685941934585571\n",
      "-----WARNING: Model s31 failed to learn: sum(ans)=200.0 sum(y)=115.0 len(y)=200\n",
      "\tAROUSAL-s10|Acc=0.63|10-CV=0.562|STD=0.05963|Time spend=4.948837995529175\n",
      "\tVALENCE-s10|Acc=0.715|10-CV=0.69|STD=0.05079|Time spend=5.109210968017578\n",
      "\tAROUSAL-s22|Acc=0.6|10-CV=0.6|STD=0.0|Time spend=6.721645355224609\n",
      "-----WARNING: Model s22 failed to learn: sum(ans)=200.0 sum(y)=120.0 len(y)=200\n",
      "\tVALENCE-s22|Acc=0.55|10-CV=0.546|STD=0.01281|Time spend=6.917716979980469\n",
      "-----WARNING: Model s22 failed to learn: sum(ans)=0.0 sum(y)=90.0 len(y)=200\n",
      "\tAROUSAL-s18|Acc=0.625|10-CV=0.62|STD=0.0|Time spend=5.877720832824707\n",
      "-----WARNING: Model s18 failed to learn: sum(ans)=200.0 sum(y)=125.0 len(y)=200\n",
      "\tVALENCE-s18|Acc=0.72|10-CV=0.664|STD=0.04271|Time spend=6.160045146942139\n",
      "\tAROUSAL-s02|Acc=0.6|10-CV=0.6|STD=0.0|Time spend=7.061770915985107\n",
      "-----WARNING: Model s02 failed to learn: sum(ans)=200.0 sum(y)=120.0 len(y)=200\n",
      "\tVALENCE-s02|Acc=0.55|10-CV=0.554|STD=0.018|Time spend=7.270661354064941\n",
      "-----WARNING: Model s02 failed to learn: sum(ans)=200.0 sum(y)=110.0 len(y)=200\n",
      "\tAROUSAL-s20|Acc=0.775|10-CV=0.78|STD=0.0|Time spend=6.771617889404297\n",
      "-----WARNING: Model s20 failed to learn: sum(ans)=200.0 sum(y)=155.0 len(y)=200\n",
      "\tVALENCE-s20|Acc=0.645|10-CV=0.656|STD=0.05571|Time spend=6.940592288970947\n",
      "\tAROUSAL-s06|Acc=0.575|10-CV=0.582|STD=0.006|Time spend=8.365325212478638\n",
      "-----WARNING: Model s06 failed to learn: sum(ans)=0.0 sum(y)=85.0 len(y)=200\n",
      "\tVALENCE-s06|Acc=0.75|10-CV=0.746|STD=0.00917|Time spend=8.5822012424469\n",
      "-----WARNING: Model s06 failed to learn: sum(ans)=200.0 sum(y)=150.0 len(y)=200\n",
      "\tAROUSAL-s23|Acc=0.75|10-CV=0.75|STD=0.01|Time spend=7.608521223068237\n",
      "-----WARNING: Model s23 failed to learn: sum(ans)=0.0 sum(y)=50.0 len(y)=200\n",
      "\tVALENCE-s23|Acc=0.65|10-CV=0.646|STD=0.00917|Time spend=7.815774440765381\n",
      "-----WARNING: Model s23 failed to learn: sum(ans)=200.0 sum(y)=130.0 len(y)=200\n",
      "\tAROUSAL-s03|Acc=0.8|10-CV=0.8|STD=0.0|Time spend=8.27662181854248\n",
      "-----WARNING: Model s03 failed to learn: sum(ans)=0.0 sum(y)=40.0 len(y)=200\n",
      "\tVALENCE-s03|Acc=0.55|10-CV=0.55|STD=0.01|Time spend=8.487746477127075\n",
      "-----WARNING: Model s03 failed to learn: sum(ans)=200.0 sum(y)=110.0 len(y)=200\n",
      "\tAROUSAL-s05|Acc=0.575|10-CV=0.488|STD=0.03919|Time spend=7.018551349639893\n",
      "\tVALENCE-s05|Acc=0.6|10-CV=0.6|STD=0.0|Time spend=7.224375247955322\n",
      "-----WARNING: Model s05 failed to learn: sum(ans)=200.0 sum(y)=120.0 len(y)=200\n",
      "\tAROUSAL-s12|Acc=0.825|10-CV=0.82|STD=0.0|Time spend=6.66710638999939\n",
      "-----WARNING: Model s12 failed to learn: sum(ans)=200.0 sum(y)=165.0 len(y)=200\n",
      "\tVALENCE-s12|Acc=0.675|10-CV=0.552|STD=0.0325|Time spend=6.97411584854126\n",
      "\tAROUSAL-s32|Acc=0.675|10-CV=0.68|STD=0.0|Time spend=7.00553297996521\n",
      "-----WARNING: Model s32 failed to learn: sum(ans)=200.0 sum(y)=135.0 len(y)=200\n",
      "\tVALENCE-s32|Acc=0.69|10-CV=0.714|STD=0.062|Time spend=7.1651611328125\n",
      "\tAROUSAL-s08|Acc=0.575|10-CV=0.566|STD=0.02538|Time spend=5.630510330200195\n",
      "-----WARNING: Model s08 failed to learn: sum(ans)=200.0 sum(y)=115.0 len(y)=200\n",
      "\tVALENCE-s08|Acc=0.685|10-CV=0.672|STD=0.06765|Time spend=5.879383563995361\n",
      "\tAROUSAL-s01|Acc=0.62|10-CV=0.602|STD=0.01661|Time spend=6.843615293502808\n",
      "\tVALENCE-s01|Acc=0.64|10-CV=0.594|STD=0.062|Time spend=7.035039901733398\n",
      "\tAROUSAL-s13|Acc=0.85|10-CV=0.848|STD=0.0098|Time spend=7.052770376205444\n",
      "-----WARNING: Model s13 failed to learn: sum(ans)=200.0 sum(y)=170.0 len(y)=200\n",
      "\tVALENCE-s13|Acc=0.745|10-CV=0.76|STD=0.05138|Time spend=7.242992877960205\n",
      "\tAROUSAL-s14|Acc=0.675|10-CV=0.68|STD=0.0|Time spend=6.343399286270142\n",
      "-----WARNING: Model s14 failed to learn: sum(ans)=200.0 sum(y)=135.0 len(y)=200\n",
      "\tVALENCE-s14|Acc=0.68|10-CV=0.616|STD=0.04543|Time spend=6.498118877410889\n",
      "AROUSAL|Acc=0.6609375000000001|10-CV=0.6496249999999999|STD=0.012464519716519296\n",
      "VALENCE|Acc=0.6429687500000002|10-CV=0.6289375|STD=0.025271873358863717\n",
      "TOTAL|Acc=0.6519531249999999|10-CV=0.6392812499999999|STD=0.018868196537691506\n"
     ]
    }
   ],
   "source": [
    "for text in reports:\n",
    "    if(text == None): continue\n",
    "    print(text)\n",
    "\n",
    "accs.extend(accs_v)\n",
    "cv_means.extend(cv_means_v)\n",
    "cv_stds.extend(cv_stds_v)\n",
    "print(f\"TOTAL|Acc={sum(accs)/len(accs)}|10-CV={sum(cv_means)/len(cv_means)}|STD={sum(cv_stds)/len(cv_stds)}\")"
   ]
  },
  {
   "cell_type": "markdown",
   "metadata": {},
   "source": [
    "### 4.2 $ \\text{PCC}_{freq} (i,j) = \\frac{\\text{Cov}[\\hat{\\mathbf{X}}_i, \\hat{\\mathbf{X}}_j]}{\\sigma_{\\hat{\\mathbf{X}}_i} \\sigma_{\\hat{\\mathbf{X}}_j}} $"
   ]
  },
  {
   "cell_type": "code",
   "execution_count": 10,
   "metadata": {},
   "outputs": [],
   "source": [
    "def calculate_fft(signal, sfreq):\n",
    "    \"\"\" signal: can be 1D array of (n_sample,) or 2D array of (n_signal, n_sample)  \"\"\"\n",
    "    number_sample = signal.shape[-1]\n",
    "\n",
    "    # the result will be a complex number. We can obtain the magnitude using `absolute`\n",
    "    magnitude = np.abs(np.fft.fft(signal))\n",
    "    # scale the result\n",
    "    magnitude = magnitude / (number_sample/2)\n",
    "    # Selecting the range\n",
    "    magnitude = magnitude.T[:number_sample//2].T\n",
    "    freq_range = np.fft.fftfreq(number_sample, d=1/sfreq)[:number_sample//2]\n",
    "\n",
    "    return magnitude, freq_range"
   ]
  },
  {
   "cell_type": "code",
   "execution_count": 11,
   "metadata": {},
   "outputs": [
    {
     "data": {
      "application/vnd.jupyter.widget-view+json": {
       "model_id": "6376923995804505b5ee8bd4e62e0ceb",
       "version_major": 2,
       "version_minor": 0
      },
      "text/plain": [
       "  0%|          | 0/32 [00:00<?, ?it/s]"
      ]
     },
     "metadata": {},
     "output_type": "display_data"
    },
    {
     "name": "stdout",
     "output_type": "stream",
     "text": [
      "Fitted sphere radius:         95.3 mm\n",
      "Origin head coordinates:      -0.8 15.1 45.3 mm\n",
      "Origin device coordinates:    -0.8 15.1 45.3 mm\n",
      "========= close ========\n",
      "\tAROUSAL-s09|Acc=0.67|10-CV=0.62|STD=0.04099|Time spend=7.233061075210571\n",
      "\tVALENCE-s09|Acc=0.74|10-CV=0.704|STD=0.05571|Time spend=7.4107770919799805\n",
      "Fitted sphere radius:         95.3 mm\n",
      "Origin head coordinates:      -0.8 15.1 45.3 mm\n",
      "Origin device coordinates:    -0.8 15.1 45.3 mm\n",
      "========= close ========\n",
      "\tAROUSAL-s19|Acc=0.75|10-CV=0.722|STD=0.03516|Time spend=10.769668579101562\n",
      "\tVALENCE-s19|Acc=0.715|10-CV=0.648|STD=0.05075|Time spend=11.01494288444519\n",
      "Fitted sphere radius:         95.3 mm\n",
      "Origin head coordinates:      -0.8 15.1 45.3 mm\n",
      "Origin device coordinates:    -0.8 15.1 45.3 mm\n",
      "========= close ========\n",
      "\tAROUSAL-s17|Acc=0.725|10-CV=0.678|STD=0.04238|Time spend=8.070189476013184\n",
      "\tVALENCE-s17|Acc=0.55|10-CV=0.552|STD=0.0098|Time spend=8.281605005264282\n",
      "Fitted sphere radius:         95.3 mm\n",
      "Origin head coordinates:      -0.8 15.1 45.3 mm\n",
      "Origin device coordinates:    -0.8 15.1 45.3 mm\n",
      "========= close ========\n",
      "\tAROUSAL-s28|Acc=0.565|10-CV=0.524|STD=0.04176|Time spend=7.115837335586548\n",
      "\tVALENCE-s28|Acc=0.625|10-CV=0.62|STD=0.0|Time spend=7.285228490829468\n",
      "Fitted sphere radius:         95.3 mm\n",
      "Origin head coordinates:      -0.8 15.1 45.3 mm\n",
      "Origin device coordinates:    -0.8 15.1 45.3 mm\n",
      "========= close ========\n",
      "\tAROUSAL-s07|Acc=0.695|10-CV=0.634|STD=0.02538|Time spend=5.912732124328613\n",
      "\tVALENCE-s07|Acc=0.735|10-CV=0.702|STD=0.014|Time spend=6.054260015487671\n",
      "Fitted sphere radius:         95.3 mm\n",
      "Origin head coordinates:      -0.8 15.1 45.3 mm\n",
      "Origin device coordinates:    -0.8 15.1 45.3 mm\n",
      "========= close ========\n",
      "\tAROUSAL-s11|Acc=0.665|10-CV=0.628|STD=0.024|Time spend=7.3204169273376465\n",
      "\tVALENCE-s11|Acc=0.69|10-CV=0.648|STD=0.04833|Time spend=7.574644327163696\n",
      "Fitted sphere radius:         95.3 mm\n",
      "Origin head coordinates:      -0.8 15.1 45.3 mm\n",
      "Origin device coordinates:    -0.8 15.1 45.3 mm\n",
      "========= close ========\n",
      "\tAROUSAL-s25|Acc=0.75|10-CV=0.726|STD=0.018|Time spend=7.026958703994751\n",
      "\tVALENCE-s25|Acc=0.615|10-CV=0.53|STD=0.05459|Time spend=7.228980541229248\n",
      "Fitted sphere radius:         95.3 mm\n",
      "Origin head coordinates:      -0.8 15.1 45.3 mm\n",
      "Origin device coordinates:    -0.8 15.1 45.3 mm\n",
      "========= close ========\n",
      "\tAROUSAL-s24|Acc=0.825|10-CV=0.82|STD=0.0|Time spend=6.681595802307129\n",
      "\tVALENCE-s24|Acc=0.63|10-CV=0.592|STD=0.036|Time spend=6.871258974075317\n",
      "Fitted sphere radius:         95.3 mm\n",
      "Origin head coordinates:      -0.8 15.1 45.3 mm\n",
      "Origin device coordinates:    -0.8 15.1 45.3 mm\n",
      "========= close ========\n",
      "\tAROUSAL-s04|Acc=0.605|10-CV=0.6|STD=0.0|Time spend=7.630995273590088\n",
      "\tVALENCE-s04|Acc=0.6|10-CV=0.59|STD=0.01844|Time spend=7.787747859954834\n",
      "Fitted sphere radius:         95.3 mm\n",
      "Origin head coordinates:      -0.8 15.1 45.3 mm\n",
      "Origin device coordinates:    -0.8 15.1 45.3 mm\n",
      "========= close ========\n",
      "\tAROUSAL-s16|Acc=0.665|10-CV=0.586|STD=0.05064|Time spend=7.081029653549194\n",
      "\tVALENCE-s16|Acc=0.715|10-CV=0.688|STD=0.02713|Time spend=7.280273199081421\n",
      "Fitted sphere radius:         95.3 mm\n",
      "Origin head coordinates:      -0.8 15.1 45.3 mm\n",
      "Origin device coordinates:    -0.8 15.1 45.3 mm\n",
      "========= close ========\n",
      "\tAROUSAL-s29|Acc=0.735|10-CV=0.672|STD=0.03487|Time spend=7.364943027496338\n",
      "\tVALENCE-s29|Acc=0.705|10-CV=0.652|STD=0.06585|Time spend=7.583980321884155\n",
      "Fitted sphere radius:         95.3 mm\n",
      "Origin head coordinates:      -0.8 15.1 45.3 mm\n",
      "Origin device coordinates:    -0.8 15.1 45.3 mm\n",
      "========= close ========\n",
      "\tAROUSAL-s26|Acc=0.705|10-CV=0.632|STD=0.03487|Time spend=7.280176401138306\n",
      "\tVALENCE-s26|Acc=0.65|10-CV=0.646|STD=0.00917|Time spend=7.447124481201172\n",
      "Fitted sphere radius:         95.3 mm\n",
      "Origin head coordinates:      -0.8 15.1 45.3 mm\n",
      "Origin device coordinates:    -0.8 15.1 45.3 mm\n",
      "========= close ========\n",
      "\tAROUSAL-s15|Acc=0.705|10-CV=0.608|STD=0.06585|Time spend=6.7676849365234375\n",
      "\tVALENCE-s15|Acc=0.815|10-CV=0.73|STD=0.05385|Time spend=6.9466564655303955\n",
      "Fitted sphere radius:         95.3 mm\n",
      "Origin head coordinates:      -0.8 15.1 45.3 mm\n",
      "Origin device coordinates:    -0.8 15.1 45.3 mm\n",
      "========= close ========\n",
      "\tAROUSAL-s21|Acc=0.8|10-CV=0.8|STD=0.0|Time spend=6.885455369949341\n",
      "\tVALENCE-s21|Acc=0.635|10-CV=0.582|STD=0.06226|Time spend=7.087014198303223\n",
      "Fitted sphere radius:         95.3 mm\n",
      "Origin head coordinates:      -0.8 15.1 45.3 mm\n",
      "Origin device coordinates:    -0.8 15.1 45.3 mm\n",
      "========= close ========\n",
      "\tAROUSAL-s30|Acc=0.695|10-CV=0.652|STD=0.05381|Time spend=6.595214366912842\n",
      "\tVALENCE-s30|Acc=0.675|10-CV=0.678|STD=0.006|Time spend=6.74514365196228\n",
      "Fitted sphere radius:         95.3 mm\n",
      "Origin head coordinates:      -0.8 15.1 45.3 mm\n",
      "Origin device coordinates:    -0.8 15.1 45.3 mm\n",
      "========= close ========\n",
      "\tAROUSAL-s27|Acc=0.735|10-CV=0.708|STD=0.03487|Time spend=6.9470696449279785\n",
      "\tVALENCE-s27|Acc=0.81|10-CV=0.784|STD=0.02154|Time spend=7.1086907386779785\n",
      "Fitted sphere radius:         95.3 mm\n",
      "Origin head coordinates:      -0.8 15.1 45.3 mm\n",
      "Origin device coordinates:    -0.8 15.1 45.3 mm\n",
      "========= close ========\n",
      "\tAROUSAL-s31|Acc=0.76|10-CV=0.556|STD=0.03878|Time spend=7.191472053527832\n",
      "\tVALENCE-s31|Acc=0.68|10-CV=0.572|STD=0.016|Time spend=7.400157690048218\n",
      "Fitted sphere radius:         95.3 mm\n",
      "Origin head coordinates:      -0.8 15.1 45.3 mm\n",
      "Origin device coordinates:    -0.8 15.1 45.3 mm\n",
      "========= close ========\n",
      "\tAROUSAL-s10|Acc=0.655|10-CV=0.586|STD=0.07378|Time spend=7.795869827270508\n",
      "\tVALENCE-s10|Acc=0.8|10-CV=0.764|STD=0.05044|Time spend=8.06890082359314\n",
      "Fitted sphere radius:         95.3 mm\n",
      "Origin head coordinates:      -0.8 15.1 45.3 mm\n",
      "Origin device coordinates:    -0.8 15.1 45.3 mm\n",
      "========= close ========\n",
      "\tAROUSAL-s22|Acc=0.605|10-CV=0.582|STD=0.0275|Time spend=7.207130432128906\n",
      "\tVALENCE-s22|Acc=0.655|10-CV=0.588|STD=0.0402|Time spend=7.409892559051514\n",
      "Fitted sphere radius:         95.3 mm\n",
      "Origin head coordinates:      -0.8 15.1 45.3 mm\n",
      "Origin device coordinates:    -0.8 15.1 45.3 mm\n",
      "========= close ========\n",
      "\tAROUSAL-s18|Acc=0.63|10-CV=0.624|STD=0.008|Time spend=5.755493402481079\n",
      "\tVALENCE-s18|Acc=0.77|10-CV=0.686|STD=0.042|Time spend=5.948476314544678\n",
      "Fitted sphere radius:         95.3 mm\n",
      "Origin head coordinates:      -0.8 15.1 45.3 mm\n",
      "Origin device coordinates:    -0.8 15.1 45.3 mm\n",
      "========= close ========\n",
      "\tAROUSAL-s02|Acc=0.64|10-CV=0.594|STD=0.02375|Time spend=7.552377223968506\n",
      "\tVALENCE-s02|Acc=0.63|10-CV=0.626|STD=0.03105|Time spend=7.792432069778442\n",
      "Fitted sphere radius:         95.3 mm\n",
      "Origin head coordinates:      -0.8 15.1 45.3 mm\n",
      "Origin device coordinates:    -0.8 15.1 45.3 mm\n",
      "========= close ========\n",
      "\tAROUSAL-s20|Acc=0.78|10-CV=0.78|STD=0.0|Time spend=7.601846218109131\n",
      "\tVALENCE-s20|Acc=0.72|10-CV=0.634|STD=0.06931|Time spend=7.797957181930542\n",
      "Fitted sphere radius:         95.3 mm\n",
      "Origin head coordinates:      -0.8 15.1 45.3 mm\n",
      "Origin device coordinates:    -0.8 15.1 45.3 mm\n",
      "========= close ========\n",
      "\tAROUSAL-s06|Acc=0.64|10-CV=0.606|STD=0.02538|Time spend=7.091683864593506\n",
      "\tVALENCE-s06|Acc=0.75|10-CV=0.746|STD=0.00917|Time spend=7.274582386016846\n",
      "Fitted sphere radius:         95.3 mm\n",
      "Origin head coordinates:      -0.8 15.1 45.3 mm\n",
      "Origin device coordinates:    -0.8 15.1 45.3 mm\n",
      "========= close ========\n",
      "\tAROUSAL-s23|Acc=0.75|10-CV=0.75|STD=0.01|Time spend=7.4120893478393555\n",
      "\tVALENCE-s23|Acc=0.72|10-CV=0.652|STD=0.024|Time spend=7.538855075836182\n",
      "Fitted sphere radius:         95.3 mm\n",
      "Origin head coordinates:      -0.8 15.1 45.3 mm\n",
      "Origin device coordinates:    -0.8 15.1 45.3 mm\n",
      "========= close ========\n",
      "\tAROUSAL-s03|Acc=0.8|10-CV=0.8|STD=0.0|Time spend=5.142800569534302\n",
      "\tVALENCE-s03|Acc=0.565|10-CV=0.554|STD=0.01562|Time spend=5.289082765579224\n",
      "Fitted sphere radius:         95.3 mm\n",
      "Origin head coordinates:      -0.8 15.1 45.3 mm\n",
      "Origin device coordinates:    -0.8 15.1 45.3 mm\n",
      "========= close ========\n",
      "\tAROUSAL-s05|Acc=0.655|10-CV=0.528|STD=0.03816|Time spend=6.90723729133606\n",
      "\tVALENCE-s05|Acc=0.63|10-CV=0.606|STD=0.018|Time spend=7.1453821659088135\n",
      "Fitted sphere radius:         95.3 mm\n",
      "Origin head coordinates:      -0.8 15.1 45.3 mm\n",
      "Origin device coordinates:    -0.8 15.1 45.3 mm\n",
      "========= close ========\n",
      "\tAROUSAL-s12|Acc=0.825|10-CV=0.82|STD=0.0|Time spend=7.407665491104126\n",
      "\tVALENCE-s12|Acc=0.68|10-CV=0.62|STD=0.04099|Time spend=7.637485980987549\n",
      "Fitted sphere radius:         95.3 mm\n",
      "Origin head coordinates:      -0.8 15.1 45.3 mm\n",
      "Origin device coordinates:    -0.8 15.1 45.3 mm\n",
      "========= close ========\n",
      "\tAROUSAL-s32|Acc=0.715|10-CV=0.662|STD=0.03027|Time spend=6.821158170700073\n",
      "\tVALENCE-s32|Acc=0.7|10-CV=0.676|STD=0.0656|Time spend=7.013469457626343\n",
      "Fitted sphere radius:         95.3 mm\n",
      "Origin head coordinates:      -0.8 15.1 45.3 mm\n",
      "Origin device coordinates:    -0.8 15.1 45.3 mm\n",
      "========= close ========\n",
      "\tAROUSAL-s08|Acc=0.665|10-CV=0.554|STD=0.04104|Time spend=6.590906858444214\n",
      "\tVALENCE-s08|Acc=0.71|10-CV=0.654|STD=0.07046|Time spend=6.8093321323394775\n",
      "Fitted sphere radius:         95.3 mm\n",
      "Origin head coordinates:      -0.8 15.1 45.3 mm\n",
      "Origin device coordinates:    -0.8 15.1 45.3 mm\n",
      "========= close ========\n",
      "\tAROUSAL-s01|Acc=0.76|10-CV=0.67|STD=0.03606|Time spend=6.680763483047485\n",
      "\tVALENCE-s01|Acc=0.775|10-CV=0.588|STD=0.07277|Time spend=6.89548659324646\n",
      "Fitted sphere radius:         95.3 mm\n",
      "Origin head coordinates:      -0.8 15.1 45.3 mm\n",
      "Origin device coordinates:    -0.8 15.1 45.3 mm\n",
      "========= close ========\n",
      "\tAROUSAL-s13|Acc=0.85|10-CV=0.848|STD=0.0098|Time spend=27.545490503311157\n",
      "\tVALENCE-s13|Acc=0.75|10-CV=0.698|STD=0.04142|Time spend=27.693084478378296\n",
      "Fitted sphere radius:         95.3 mm\n",
      "Origin head coordinates:      -0.8 15.1 45.3 mm\n",
      "Origin device coordinates:    -0.8 15.1 45.3 mm\n",
      "========= close ========\n",
      "\tAROUSAL-s14|Acc=0.675|10-CV=0.68|STD=0.0|Time spend=10.542969226837158\n",
      "\tVALENCE-s14|Acc=0.755|10-CV=0.652|STD=0.06997|Time spend=10.757649421691895\n",
      "AROUSAL|Acc=0.7092187500000001|10-CV=0.6640624999999998|STD=0.027033557906930385\n",
      "VALENCE|Acc=0.69359375|10-CV=0.6456875000000001|STD=0.0378256119636006\n"
     ]
    }
   ],
   "source": [
    "accs, cv_means, cv_stds = [],[],[]\n",
    "accs_v, cv_means_v, cv_stds_v = [],[],[]\n",
    "reports = []\n",
    "for filename in (pbar := tqdm(dataset.get_file_list())):\n",
    "    start = time.time()\n",
    "    pbar.set_description(filename)\n",
    "    data, labels, groups = dataset.get_data(filename, stimuli=Dataset_subjectDependent.STIMULI_AROUSAL, return_type='mne', sfreq=128)\n",
    "    \n",
    "    data_csd = mne.preprocessing.compute_current_source_density(data)\n",
    "    magnitude, freq_range = calculate_fft(data_csd.get_data(), 128)\n",
    "    pcc = calculate_pcc(magnitude)\n",
    "    _,acc,cross,train_report = train_model(pcc, labels.squeeze(), groups, filename=filename, return_text=True)\n",
    "    report = f\"\\tAROUSAL-{filename}|Acc={round(acc,5)}|10-CV={round(cross.mean(),5)}|STD={round(cross.std(),5)}|Time spend={time.time() - start}\"\n",
    "    print(report)\n",
    "    reports.append(report)\n",
    "    reports.append(train_report)\n",
    "    accs.append(acc)\n",
    "    cv_means.append(cross.mean())\n",
    "    cv_stds.append(cross.std())\n",
    "\n",
    "    _, labels_v, groups_v = dataset.get_data(filename, stimuli=Dataset_subjectDependent.STIMULI_VALENCE, return_type='mne', sfreq=128)\n",
    "    _,acc,cross,train_report = train_model(pcc, labels_v.squeeze(), groups_v, filename=filename, return_text=True)\n",
    "    report = f\"\\tVALENCE-{filename}|Acc={round(acc,5)}|10-CV={round(cross.mean(),5)}|STD={round(cross.std(),5)}|Time spend={time.time() - start}\"\n",
    "    print(report)\n",
    "    reports.append(report)\n",
    "    reports.append(train_report)\n",
    "    accs_v.append(acc)\n",
    "    cv_means_v.append(cross.mean())\n",
    "    cv_stds_v.append(cross.std())\n",
    "    # break\n",
    "    # count+=1\n",
    "    # if(count == 5): break\n",
    "report = f\"AROUSAL|Acc={sum(accs)/len(accs)}|10-CV={sum(cv_means)/len(cv_means)}|STD={sum(cv_stds)/len(cv_stds)}\"\n",
    "print(report)\n",
    "reports.append(report)\n",
    "report = f\"VALENCE|Acc={sum(accs_v)/len(accs_v)}|10-CV={sum(cv_means_v)/len(cv_means_v)}|STD={sum(cv_stds_v)/len(cv_stds_v)}\"\n",
    "print(report)\n",
    "reports.append(report)"
   ]
  },
  {
   "cell_type": "code",
   "execution_count": 12,
   "metadata": {},
   "outputs": [
    {
     "name": "stdout",
     "output_type": "stream",
     "text": [
      "\tAROUSAL-s09|Acc=0.67|10-CV=0.62|STD=0.04099|Time spend=7.233061075210571\n",
      "\tVALENCE-s09|Acc=0.74|10-CV=0.704|STD=0.05571|Time spend=7.4107770919799805\n",
      "\tAROUSAL-s19|Acc=0.75|10-CV=0.722|STD=0.03516|Time spend=10.769668579101562\n",
      "\tVALENCE-s19|Acc=0.715|10-CV=0.648|STD=0.05075|Time spend=11.01494288444519\n",
      "\tAROUSAL-s17|Acc=0.725|10-CV=0.678|STD=0.04238|Time spend=8.070189476013184\n",
      "\tVALENCE-s17|Acc=0.55|10-CV=0.552|STD=0.0098|Time spend=8.281605005264282\n",
      "-----WARNING: Model s17 failed to learn: sum(ans)=200.0 sum(y)=110.0 len(y)=200\n",
      "\tAROUSAL-s28|Acc=0.565|10-CV=0.524|STD=0.04176|Time spend=7.115837335586548\n",
      "\tVALENCE-s28|Acc=0.625|10-CV=0.62|STD=0.0|Time spend=7.285228490829468\n",
      "-----WARNING: Model s28 failed to learn: sum(ans)=200.0 sum(y)=125.0 len(y)=200\n",
      "\tAROUSAL-s07|Acc=0.695|10-CV=0.634|STD=0.02538|Time spend=5.912732124328613\n",
      "\tVALENCE-s07|Acc=0.735|10-CV=0.702|STD=0.014|Time spend=6.054260015487671\n",
      "\tAROUSAL-s11|Acc=0.665|10-CV=0.628|STD=0.024|Time spend=7.3204169273376465\n",
      "\tVALENCE-s11|Acc=0.69|10-CV=0.648|STD=0.04833|Time spend=7.574644327163696\n",
      "\tAROUSAL-s25|Acc=0.75|10-CV=0.726|STD=0.018|Time spend=7.026958703994751\n",
      "\tVALENCE-s25|Acc=0.615|10-CV=0.53|STD=0.05459|Time spend=7.228980541229248\n",
      "\tAROUSAL-s24|Acc=0.825|10-CV=0.82|STD=0.0|Time spend=6.681595802307129\n",
      "-----WARNING: Model s24 failed to learn: sum(ans)=200.0 sum(y)=165.0 len(y)=200\n",
      "\tVALENCE-s24|Acc=0.63|10-CV=0.592|STD=0.036|Time spend=6.871258974075317\n",
      "\tAROUSAL-s04|Acc=0.605|10-CV=0.6|STD=0.0|Time spend=7.630995273590088\n",
      "\tVALENCE-s04|Acc=0.6|10-CV=0.59|STD=0.01844|Time spend=7.787747859954834\n",
      "-----WARNING: Model s04 failed to learn: sum(ans)=0.0 sum(y)=80.0 len(y)=200\n",
      "\tAROUSAL-s16|Acc=0.665|10-CV=0.586|STD=0.05064|Time spend=7.081029653549194\n",
      "\tVALENCE-s16|Acc=0.715|10-CV=0.688|STD=0.02713|Time spend=7.280273199081421\n",
      "\tAROUSAL-s29|Acc=0.735|10-CV=0.672|STD=0.03487|Time spend=7.364943027496338\n",
      "\tVALENCE-s29|Acc=0.705|10-CV=0.652|STD=0.06585|Time spend=7.583980321884155\n",
      "\tAROUSAL-s26|Acc=0.705|10-CV=0.632|STD=0.03487|Time spend=7.280176401138306\n",
      "\tVALENCE-s26|Acc=0.65|10-CV=0.646|STD=0.00917|Time spend=7.447124481201172\n",
      "-----WARNING: Model s26 failed to learn: sum(ans)=200.0 sum(y)=130.0 len(y)=200\n",
      "\tAROUSAL-s15|Acc=0.705|10-CV=0.608|STD=0.06585|Time spend=6.7676849365234375\n",
      "\tVALENCE-s15|Acc=0.815|10-CV=0.73|STD=0.05385|Time spend=6.9466564655303955\n",
      "\tAROUSAL-s21|Acc=0.8|10-CV=0.8|STD=0.0|Time spend=6.885455369949341\n",
      "-----WARNING: Model s21 failed to learn: sum(ans)=200.0 sum(y)=160.0 len(y)=200\n",
      "\tVALENCE-s21|Acc=0.635|10-CV=0.582|STD=0.06226|Time spend=7.087014198303223\n",
      "\tAROUSAL-s30|Acc=0.695|10-CV=0.652|STD=0.05381|Time spend=6.595214366912842\n",
      "\tVALENCE-s30|Acc=0.675|10-CV=0.678|STD=0.006|Time spend=6.74514365196228\n",
      "-----WARNING: Model s30 failed to learn: sum(ans)=200.0 sum(y)=135.0 len(y)=200\n",
      "\tAROUSAL-s27|Acc=0.735|10-CV=0.708|STD=0.03487|Time spend=6.9470696449279785\n",
      "\tVALENCE-s27|Acc=0.81|10-CV=0.784|STD=0.02154|Time spend=7.1086907386779785\n",
      "\tAROUSAL-s31|Acc=0.76|10-CV=0.556|STD=0.03878|Time spend=7.191472053527832\n",
      "\tVALENCE-s31|Acc=0.68|10-CV=0.572|STD=0.016|Time spend=7.400157690048218\n",
      "\tAROUSAL-s10|Acc=0.655|10-CV=0.586|STD=0.07378|Time spend=7.795869827270508\n",
      "\tVALENCE-s10|Acc=0.8|10-CV=0.764|STD=0.05044|Time spend=8.06890082359314\n",
      "\tAROUSAL-s22|Acc=0.605|10-CV=0.582|STD=0.0275|Time spend=7.207130432128906\n",
      "\tVALENCE-s22|Acc=0.655|10-CV=0.588|STD=0.0402|Time spend=7.409892559051514\n",
      "\tAROUSAL-s18|Acc=0.63|10-CV=0.624|STD=0.008|Time spend=5.755493402481079\n",
      "\tVALENCE-s18|Acc=0.77|10-CV=0.686|STD=0.042|Time spend=5.948476314544678\n",
      "\tAROUSAL-s02|Acc=0.64|10-CV=0.594|STD=0.02375|Time spend=7.552377223968506\n",
      "\tVALENCE-s02|Acc=0.63|10-CV=0.626|STD=0.03105|Time spend=7.792432069778442\n",
      "\tAROUSAL-s20|Acc=0.78|10-CV=0.78|STD=0.0|Time spend=7.601846218109131\n",
      "\tVALENCE-s20|Acc=0.72|10-CV=0.634|STD=0.06931|Time spend=7.797957181930542\n",
      "\tAROUSAL-s06|Acc=0.64|10-CV=0.606|STD=0.02538|Time spend=7.091683864593506\n",
      "\tVALENCE-s06|Acc=0.75|10-CV=0.746|STD=0.00917|Time spend=7.274582386016846\n",
      "-----WARNING: Model s06 failed to learn: sum(ans)=200.0 sum(y)=150.0 len(y)=200\n",
      "\tAROUSAL-s23|Acc=0.75|10-CV=0.75|STD=0.01|Time spend=7.4120893478393555\n",
      "-----WARNING: Model s23 failed to learn: sum(ans)=0.0 sum(y)=50.0 len(y)=200\n",
      "\tVALENCE-s23|Acc=0.72|10-CV=0.652|STD=0.024|Time spend=7.538855075836182\n",
      "\tAROUSAL-s03|Acc=0.8|10-CV=0.8|STD=0.0|Time spend=5.142800569534302\n",
      "-----WARNING: Model s03 failed to learn: sum(ans)=0.0 sum(y)=40.0 len(y)=200\n",
      "\tVALENCE-s03|Acc=0.565|10-CV=0.554|STD=0.01562|Time spend=5.289082765579224\n",
      "\tAROUSAL-s05|Acc=0.655|10-CV=0.528|STD=0.03816|Time spend=6.90723729133606\n",
      "\tVALENCE-s05|Acc=0.63|10-CV=0.606|STD=0.018|Time spend=7.1453821659088135\n",
      "\tAROUSAL-s12|Acc=0.825|10-CV=0.82|STD=0.0|Time spend=7.407665491104126\n",
      "-----WARNING: Model s12 failed to learn: sum(ans)=200.0 sum(y)=165.0 len(y)=200\n",
      "\tVALENCE-s12|Acc=0.68|10-CV=0.62|STD=0.04099|Time spend=7.637485980987549\n",
      "\tAROUSAL-s32|Acc=0.715|10-CV=0.662|STD=0.03027|Time spend=6.821158170700073\n",
      "\tVALENCE-s32|Acc=0.7|10-CV=0.676|STD=0.0656|Time spend=7.013469457626343\n",
      "\tAROUSAL-s08|Acc=0.665|10-CV=0.554|STD=0.04104|Time spend=6.590906858444214\n",
      "\tVALENCE-s08|Acc=0.71|10-CV=0.654|STD=0.07046|Time spend=6.8093321323394775\n",
      "\tAROUSAL-s01|Acc=0.76|10-CV=0.67|STD=0.03606|Time spend=6.680763483047485\n",
      "\tVALENCE-s01|Acc=0.775|10-CV=0.588|STD=0.07277|Time spend=6.89548659324646\n",
      "\tAROUSAL-s13|Acc=0.85|10-CV=0.848|STD=0.0098|Time spend=27.545490503311157\n",
      "-----WARNING: Model s13 failed to learn: sum(ans)=200.0 sum(y)=170.0 len(y)=200\n",
      "\tVALENCE-s13|Acc=0.75|10-CV=0.698|STD=0.04142|Time spend=27.693084478378296\n",
      "\tAROUSAL-s14|Acc=0.675|10-CV=0.68|STD=0.0|Time spend=10.542969226837158\n",
      "-----WARNING: Model s14 failed to learn: sum(ans)=200.0 sum(y)=135.0 len(y)=200\n",
      "\tVALENCE-s14|Acc=0.755|10-CV=0.652|STD=0.06997|Time spend=10.757649421691895\n",
      "AROUSAL|Acc=0.7092187500000001|10-CV=0.6640624999999998|STD=0.027033557906930385\n",
      "VALENCE|Acc=0.69359375|10-CV=0.6456875000000001|STD=0.0378256119636006\n",
      "TOTAL|Acc=0.7014062500000001|10-CV=0.6548750000000001|STD=0.03242958493526549\n"
     ]
    }
   ],
   "source": [
    "for text in reports:\n",
    "    if(text == None): continue\n",
    "    print(text)\n",
    "\n",
    "accs.extend(accs_v)\n",
    "cv_means.extend(cv_means_v)\n",
    "cv_stds.extend(cv_stds_v)\n",
    "print(f\"TOTAL|Acc={sum(accs)/len(accs)}|10-CV={sum(cv_means)/len(cv_means)}|STD={sum(cv_stds)/len(cv_stds)}\")"
   ]
  },
  {
   "cell_type": "markdown",
   "metadata": {},
   "source": [
    "### 4.3 $ \\text{PLV}(j,k) = \\frac{1}{T} | \\Sigma^{T}_{t=1} e^{i(\\phi^{t}_{j} - \\phi^{t}_{k})}   | $"
   ]
  },
  {
   "cell_type": "code",
   "execution_count": 13,
   "metadata": {},
   "outputs": [],
   "source": [
    "# bands = [(0,4), (4,8), (8,12), (12,30), (30,64)]\n",
    "def calculate_stft(signals, sfreq):\n",
    "    from scipy import signal\n",
    "    f_range, t_range, Z = signal.stft(signals, sfreq, nperseg=sfreq//10, nfft=sfreq)\n",
    "    magnitude = np.abs(Z) \n",
    "    phase = np.angle(Z)\n",
    "    return magnitude, phase, f_range, t_range\n",
    "\n",
    "def PLV_stft(p_id, phase):\n",
    "    # (32, 65, 12) => (channels, freqs, times)\n",
    "    # print(f\"p_id:{p_id} - data to run {phase.shape}\")\n",
    "    print(phase.shape)\n",
    "    from itertools import combinations\n",
    "    plv = []\n",
    "    # count = 0\n",
    "    for index in range(phase.shape[0]):\n",
    "        plv_epoch = []\n",
    "        for comb in combinations(list(range(phase.shape[1])), 2):\n",
    "            # shape = (65,12)\n",
    "            phase_a, phase_b = phase[index, comb[0]], phase[index, comb[1]]\n",
    "            phase_diff = phase_a - phase_b\n",
    "            # sum along the time size\n",
    "            plv_ab = np.abs(np.average(np.exp(complex(0,1) * phase_diff), axis=1))\n",
    "            plv_epoch.append(plv_ab)\n",
    "        plv_epoch = np.vstack(plv_epoch)\n",
    "        # print(plv_epoch.shape) => (300, 32, 65, 23)\n",
    "        plv_epoch_5 = np.concatenate([ plv_epoch[:,0:4].mean(axis=1).reshape(-1,1),\n",
    "                                        plv_epoch[:,4:8].mean(axis=1).reshape(-1,1),\n",
    "                                        plv_epoch[:,8:12].mean(axis=1).reshape(-1,1),\n",
    "                                        plv_epoch[:,12:30].mean(axis=1).reshape(-1,1),\n",
    "                                        plv_epoch[:,30:65].mean(axis=1).reshape(-1,1)], axis=0)\n",
    "        plv.append(np.expand_dims(plv_epoch_5, axis=0))\n",
    "        # count += 1\n",
    "        # if(count == 3): break\n",
    "    # shape (496, 65)\n",
    "    # 496 is number of pairs that is not duplicate\n",
    "    # 65 is number of phase of frequencies\n",
    "    plv = np.vstack( plv )\n",
    "    return plv.squeeze()\n",
    "\n",
    "def calculate_plv(data, n_jobs=8):\n",
    "    \"\"\" \n",
    "    Input: Expect data to have (n_epochs, n_channels, n_samples)\n",
    "    Output: (n_epochs, n_conn, n_freqs ) => n_conn = n_channels!/(2!(n_channels-2)!)\n",
    "    \"\"\"\n",
    "    from multiprocessing import Pool\n",
    "\n",
    "    try:\n",
    "        t_out = 60000\n",
    "        pool = Pool()\n",
    "        p_list = []\n",
    "        ans_list = []\n",
    "        num_p = n_jobs\n",
    "        indices = np.array_split(np.arange(data.shape[0]), num_p)\n",
    "        _, phase, _, _ = calculate_stft(data, 128)\n",
    "        for p_id in range(num_p):\n",
    "            p_list.append(pool.apply_async(PLV_stft, [p_id, phase[indices[p_id]] ]))\n",
    "        for p_id in range(num_p):\n",
    "            ans_list.append( p_list[p_id].get(timeout=t_out) )\n",
    "        # ans_list\n",
    "    finally:\n",
    "        print(\"========= close ========\")\n",
    "        pool.close() \n",
    "        pool.terminate()\n",
    "    return np.vstack(ans_list)\n"
   ]
  },
  {
   "cell_type": "code",
   "execution_count": 14,
   "metadata": {},
   "outputs": [
    {
     "data": {
      "application/vnd.jupyter.widget-view+json": {
       "model_id": "8c784fbffeaf46f0a2ab81d4caa1ac2a",
       "version_major": 2,
       "version_minor": 0
      },
      "text/plain": [
       "  0%|          | 0/32 [00:00<?, ?it/s]"
      ]
     },
     "metadata": {},
     "output_type": "display_data"
    },
    {
     "name": "stdout",
     "output_type": "stream",
     "text": [
      "Fitted sphere radius:         95.3 mm\n",
      "Origin head coordinates:      -0.8 15.1 45.3 mm\n",
      "Origin device coordinates:    -0.8 15.1 45.3 mm\n",
      "(25, 32, 65, 257)\n",
      "(25, 32, 65, 257)\n",
      "(25, 32, 65, 257)\n",
      "(25, 32, 65, 257)\n",
      "(25, 32, 65, 257)\n",
      "(25, 32, 65, 257)\n",
      "(25, 32, 65, 257)\n",
      "(25, 32, 65, 257)\n",
      "========= close ========\n",
      "\tAROUSAL-s09|Acc=0.74|10-CV=0.664|STD=0.03072|Time spend=72.35968780517578\n",
      "\tVALENCE-s09|Acc=0.785|10-CV=0.736|STD=0.02653|Time spend=72.78555917739868\n",
      "Fitted sphere radius:         95.3 mm\n",
      "Origin head coordinates:      -0.8 15.1 45.3 mm\n",
      "Origin device coordinates:    -0.8 15.1 45.3 mm\n",
      "(25, 32, 65, 257)\n",
      "(25, 32, 65, 257)\n",
      "(25, 32, 65, 257)\n",
      "(25, 32, 65, 257)\n",
      "(25, 32, 65, 257)\n",
      "(25, 32, 65, 257)\n",
      "(25, 32, 65, 257)\n",
      "(25, 32, 65, 257)\n",
      "========= close ========\n",
      "\tAROUSAL-s19|Acc=0.76|10-CV=0.73|STD=0.05079|Time spend=40.492711782455444\n",
      "\tVALENCE-s19|Acc=0.725|10-CV=0.666|STD=0.062|Time spend=40.956605672836304\n",
      "Fitted sphere radius:         95.3 mm\n",
      "Origin head coordinates:      -0.8 15.1 45.3 mm\n",
      "Origin device coordinates:    -0.8 15.1 45.3 mm\n",
      "(25, 32, 65, 257)\n",
      "(25, 32, 65, 257)\n",
      "(25, 32, 65, 257)\n",
      "(25, 32, 65, 257)\n",
      "(25, 32, 65, 257)\n",
      "(25, 32, 65, 257)\n",
      "(25, 32, 65, 257)\n",
      "(25, 32, 65, 257)\n",
      "========= close ========\n",
      "\tAROUSAL-s17|Acc=0.775|10-CV=0.76|STD=0.04733|Time spend=39.35739731788635\n",
      "\tVALENCE-s17|Acc=0.64|10-CV=0.6|STD=0.06132|Time spend=39.76933550834656\n",
      "Fitted sphere radius:         95.3 mm\n",
      "Origin head coordinates:      -0.8 15.1 45.3 mm\n",
      "Origin device coordinates:    -0.8 15.1 45.3 mm\n",
      "(25, 32, 65, 257)\n",
      "(25, 32, 65, 257)\n",
      "(25, 32, 65, 257)\n",
      "(25, 32, 65, 257)\n",
      "(25, 32, 65, 257)\n",
      "(25, 32, 65, 257)\n",
      "(25, 32, 65, 257)\n",
      "(25, 32, 65, 257)\n",
      "========= close ========\n",
      "\tAROUSAL-s28|Acc=0.62|10-CV=0.55|STD=0.02569|Time spend=40.32633876800537\n",
      "\tVALENCE-s28|Acc=0.625|10-CV=0.62|STD=0.0|Time spend=40.69940781593323\n",
      "Fitted sphere radius:         95.3 mm\n",
      "Origin head coordinates:      -0.8 15.1 45.3 mm\n",
      "Origin device coordinates:    -0.8 15.1 45.3 mm\n",
      "(25, 32, 65, 257)\n",
      "(25, 32, 65, 257)\n",
      "(25, 32, 65, 257)\n",
      "(25, 32, 65, 257)\n",
      "(25, 32, 65, 257)\n",
      "(25, 32, 65, 257)\n",
      "(25, 32, 65, 257)\n",
      "(25, 32, 65, 257)\n",
      "========= close ========\n",
      "\tAROUSAL-s07|Acc=0.705|10-CV=0.662|STD=0.014|Time spend=42.322192430496216\n",
      "\tVALENCE-s07|Acc=0.78|10-CV=0.712|STD=0.01833|Time spend=42.6599555015564\n",
      "Fitted sphere radius:         95.3 mm\n",
      "Origin head coordinates:      -0.8 15.1 45.3 mm\n",
      "Origin device coordinates:    -0.8 15.1 45.3 mm\n",
      "(25, 32, 65, 257)\n",
      "(25, 32, 65, 257)\n",
      "(25, 32, 65, 257)\n",
      "(25, 32, 65, 257)\n",
      "(25, 32, 65, 257)\n",
      "(25, 32, 65, 257)\n",
      "(25, 32, 65, 257)\n",
      "(25, 32, 65, 257)\n",
      "========= close ========\n",
      "\tAROUSAL-s11|Acc=0.625|10-CV=0.62|STD=0.0|Time spend=40.95685362815857\n",
      "\tVALENCE-s11|Acc=0.695|10-CV=0.64|STD=0.03347|Time spend=41.32630658149719\n",
      "Fitted sphere radius:         95.3 mm\n",
      "Origin head coordinates:      -0.8 15.1 45.3 mm\n",
      "Origin device coordinates:    -0.8 15.1 45.3 mm\n",
      "(25, 32, 65, 257)\n",
      "(25, 32, 65, 257)\n",
      "(25, 32, 65, 257)\n",
      "(25, 32, 65, 257)\n",
      "(25, 32, 65, 257)\n",
      "(25, 32, 65, 257)\n",
      "(25, 32, 65, 257)\n",
      "(25, 32, 65, 257)\n",
      "========= close ========\n",
      "\tAROUSAL-s25|Acc=0.725|10-CV=0.72|STD=0.0|Time spend=40.02633571624756\n",
      "\tVALENCE-s25|Acc=0.655|10-CV=0.62|STD=0.03899|Time spend=40.54350185394287\n",
      "Fitted sphere radius:         95.3 mm\n",
      "Origin head coordinates:      -0.8 15.1 45.3 mm\n",
      "Origin device coordinates:    -0.8 15.1 45.3 mm\n",
      "(25, 32, 65, 257)\n",
      "(25, 32, 65, 257)\n",
      "(25, 32, 65, 257)\n",
      "(25, 32, 65, 257)\n",
      "(25, 32, 65, 257)\n",
      "(25, 32, 65, 257)\n",
      "(25, 32, 65, 257)\n",
      "(25, 32, 65, 257)\n",
      "========= close ========\n",
      "\tAROUSAL-s24|Acc=0.825|10-CV=0.82|STD=0.0|Time spend=38.784576416015625\n",
      "\tVALENCE-s24|Acc=0.775|10-CV=0.734|STD=0.05517|Time spend=39.152830600738525\n",
      "Fitted sphere radius:         95.3 mm\n",
      "Origin head coordinates:      -0.8 15.1 45.3 mm\n",
      "Origin device coordinates:    -0.8 15.1 45.3 mm\n",
      "(25, 32, 65, 257)\n",
      "(25, 32, 65, 257)\n",
      "(25, 32, 65, 257)\n",
      "(25, 32, 65, 257)\n",
      "(25, 32, 65, 257)\n",
      "(25, 32, 65, 257)\n",
      "(25, 32, 65, 257)\n",
      "(25, 32, 65, 257)\n",
      "========= close ========\n",
      "\tAROUSAL-s04|Acc=0.715|10-CV=0.648|STD=0.0475|Time spend=38.329848766326904\n",
      "\tVALENCE-s04|Acc=0.735|10-CV=0.69|STD=0.03493|Time spend=38.68669319152832\n",
      "Fitted sphere radius:         95.3 mm\n",
      "Origin head coordinates:      -0.8 15.1 45.3 mm\n",
      "Origin device coordinates:    -0.8 15.1 45.3 mm\n",
      "(25, 32, 65, 257)\n",
      "(25, 32, 65, 257)\n",
      "(25, 32, 65, 257)\n",
      "(25, 32, 65, 257)\n",
      "(25, 32, 65, 257)\n",
      "(25, 32, 65, 257)\n",
      "(25, 32, 65, 257)\n",
      "(25, 32, 65, 257)\n",
      "========= close ========\n",
      "\tAROUSAL-s16|Acc=0.725|10-CV=0.642|STD=0.04045|Time spend=39.35830569267273\n",
      "\tVALENCE-s16|Acc=0.735|10-CV=0.704|STD=0.04454|Time spend=39.72380328178406\n",
      "Fitted sphere radius:         95.3 mm\n",
      "Origin head coordinates:      -0.8 15.1 45.3 mm\n",
      "Origin device coordinates:    -0.8 15.1 45.3 mm\n",
      "(25, 32, 65, 257)\n",
      "(25, 32, 65, 257)\n",
      "(25, 32, 65, 257)\n",
      "(25, 32, 65, 257)\n",
      "(25, 32, 65, 257)\n",
      "(25, 32, 65, 257)\n",
      "(25, 32, 65, 257)\n",
      "(25, 32, 65, 257)\n",
      "========= close ========\n",
      "\tAROUSAL-s29|Acc=0.72|10-CV=0.69|STD=0.04025|Time spend=40.8155517578125\n",
      "\tVALENCE-s29|Acc=0.72|10-CV=0.692|STD=0.064|Time spend=41.28565812110901\n",
      "Fitted sphere radius:         95.3 mm\n",
      "Origin head coordinates:      -0.8 15.1 45.3 mm\n",
      "Origin device coordinates:    -0.8 15.1 45.3 mm\n",
      "(25, 32, 65, 257)\n",
      "(25, 32, 65, 257)\n",
      "(25, 32, 65, 257)\n",
      "(25, 32, 65, 257)\n",
      "(25, 32, 65, 257)\n",
      "(25, 32, 65, 257)\n",
      "(25, 32, 65, 257)\n",
      "(25, 32, 65, 257)\n",
      "========= close ========\n",
      "\tAROUSAL-s26|Acc=0.71|10-CV=0.634|STD=0.05064|Time spend=43.28418326377869\n",
      "\tVALENCE-s26|Acc=0.65|10-CV=0.646|STD=0.00917|Time spend=43.58008050918579\n",
      "Fitted sphere radius:         95.3 mm\n",
      "Origin head coordinates:      -0.8 15.1 45.3 mm\n",
      "Origin device coordinates:    -0.8 15.1 45.3 mm\n",
      "(25, 32, 65, 257)\n",
      "(25, 32, 65, 257)\n",
      "(25, 32, 65, 257)\n",
      "(25, 32, 65, 257)\n",
      "(25, 32, 65, 257)\n",
      "(25, 32, 65, 257)\n",
      "(25, 32, 65, 257)\n",
      "(25, 32, 65, 257)\n",
      "========= close ========\n",
      "\tAROUSAL-s15|Acc=0.72|10-CV=0.652|STD=0.0402|Time spend=39.71743154525757\n",
      "\tVALENCE-s15|Acc=0.86|10-CV=0.832|STD=0.05307|Time spend=40.12514805793762\n",
      "Fitted sphere radius:         95.3 mm\n",
      "Origin head coordinates:      -0.8 15.1 45.3 mm\n",
      "Origin device coordinates:    -0.8 15.1 45.3 mm\n",
      "(25, 32, 65, 257)\n",
      "(25, 32, 65, 257)\n",
      "(25, 32, 65, 257)\n",
      "(25, 32, 65, 257)\n",
      "(25, 32, 65, 257)\n",
      "(25, 32, 65, 257)\n",
      "(25, 32, 65, 257)\n",
      "(25, 32, 65, 257)\n",
      "========= close ========\n",
      "\tAROUSAL-s21|Acc=0.8|10-CV=0.8|STD=0.0|Time spend=38.86224961280823\n",
      "\tVALENCE-s21|Acc=0.64|10-CV=0.588|STD=0.04214|Time spend=39.355406522750854\n",
      "Fitted sphere radius:         95.3 mm\n",
      "Origin head coordinates:      -0.8 15.1 45.3 mm\n",
      "Origin device coordinates:    -0.8 15.1 45.3 mm\n",
      "(25, 32, 65, 257)\n",
      "(25, 32, 65, 257)\n",
      "(25, 32, 65, 257)\n",
      "(25, 32, 65, 257)\n",
      "(25, 32, 65, 257)\n",
      "(25, 32, 65, 257)\n",
      "(25, 32, 65, 257)\n",
      "(25, 32, 65, 257)\n",
      "========= close ========\n",
      "\tAROUSAL-s30|Acc=0.68|10-CV=0.608|STD=0.044|Time spend=40.187360525131226\n",
      "\tVALENCE-s30|Acc=0.675|10-CV=0.68|STD=0.0|Time spend=40.52788591384888\n",
      "Fitted sphere radius:         95.3 mm\n",
      "Origin head coordinates:      -0.8 15.1 45.3 mm\n",
      "Origin device coordinates:    -0.8 15.1 45.3 mm\n",
      "(25, 32, 65, 257)\n",
      "(25, 32, 65, 257)\n",
      "(25, 32, 65, 257)\n",
      "(25, 32, 65, 257)\n",
      "(25, 32, 65, 257)\n",
      "(25, 32, 65, 257)\n",
      "(25, 32, 65, 257)\n",
      "(25, 32, 65, 257)\n",
      "========= close ========\n",
      "\tAROUSAL-s27|Acc=0.77|10-CV=0.694|STD=0.04104|Time spend=40.4406259059906\n",
      "\tVALENCE-s27|Acc=0.75|10-CV=0.746|STD=0.00917|Time spend=40.85555720329285\n",
      "Fitted sphere radius:         95.3 mm\n",
      "Origin head coordinates:      -0.8 15.1 45.3 mm\n",
      "Origin device coordinates:    -0.8 15.1 45.3 mm\n",
      "(25, 32, 65, 257)\n",
      "(25, 32, 65, 257)\n",
      "(25, 32, 65, 257)\n",
      "(25, 32, 65, 257)\n",
      "(25, 32, 65, 257)\n",
      "(25, 32, 65, 257)\n",
      "(25, 32, 65, 257)\n",
      "(25, 32, 65, 257)\n",
      "========= close ========\n",
      "\tAROUSAL-s31|Acc=0.755|10-CV=0.598|STD=0.04238|Time spend=44.69533038139343\n",
      "\tVALENCE-s31|Acc=0.67|10-CV=0.59|STD=0.03493|Time spend=45.18802547454834\n",
      "Fitted sphere radius:         95.3 mm\n",
      "Origin head coordinates:      -0.8 15.1 45.3 mm\n",
      "Origin device coordinates:    -0.8 15.1 45.3 mm\n",
      "(25, 32, 65, 257)\n",
      "(25, 32, 65, 257)\n",
      "(25, 32, 65, 257)\n",
      "(25, 32, 65, 257)\n",
      "(25, 32, 65, 257)\n",
      "(25, 32, 65, 257)\n",
      "(25, 32, 65, 257)\n",
      "(25, 32, 65, 257)\n",
      "========= close ========\n",
      "\tAROUSAL-s10|Acc=0.735|10-CV=0.686|STD=0.04005|Time spend=40.426194190979004\n",
      "\tVALENCE-s10|Acc=0.82|10-CV=0.812|STD=0.05381|Time spend=40.83613681793213\n",
      "Fitted sphere radius:         95.3 mm\n",
      "Origin head coordinates:      -0.8 15.1 45.3 mm\n",
      "Origin device coordinates:    -0.8 15.1 45.3 mm\n",
      "(25, 32, 65, 257)\n",
      "(25, 32, 65, 257)\n",
      "(25, 32, 65, 257)\n",
      "(25, 32, 65, 257)\n",
      "(25, 32, 65, 257)\n",
      "(25, 32, 65, 257)\n",
      "(25, 32, 65, 257)\n",
      "(25, 32, 65, 257)\n",
      "========= close ========\n",
      "\tAROUSAL-s22|Acc=0.605|10-CV=0.598|STD=0.006|Time spend=39.672828912734985\n",
      "\tVALENCE-s22|Acc=0.76|10-CV=0.724|STD=0.03323|Time spend=40.051621437072754\n",
      "Fitted sphere radius:         95.3 mm\n",
      "Origin head coordinates:      -0.8 15.1 45.3 mm\n",
      "Origin device coordinates:    -0.8 15.1 45.3 mm\n",
      "(25, 32, 65, 257)\n",
      "(25, 32, 65, 257)\n",
      "(25, 32, 65, 257)\n",
      "(25, 32, 65, 257)\n",
      "(25, 32, 65, 257)\n",
      "(25, 32, 65, 257)\n",
      "(25, 32, 65, 257)\n",
      "(25, 32, 65, 257)\n",
      "========= close ========\n",
      "\tAROUSAL-s18|Acc=0.625|10-CV=0.62|STD=0.0|Time spend=42.79560732841492\n",
      "\tVALENCE-s18|Acc=0.8|10-CV=0.728|STD=0.04578|Time spend=43.2366464138031\n",
      "Fitted sphere radius:         95.3 mm\n",
      "Origin head coordinates:      -0.8 15.1 45.3 mm\n",
      "Origin device coordinates:    -0.8 15.1 45.3 mm\n",
      "(25, 32, 65, 257)\n",
      "(25, 32, 65, 257)\n",
      "(25, 32, 65, 257)\n",
      "(25, 32, 65, 257)\n",
      "(25, 32, 65, 257)\n",
      "(25, 32, 65, 257)\n",
      "(25, 32, 65, 257)\n",
      "(25, 32, 65, 257)\n",
      "========= close ========\n",
      "\tAROUSAL-s02|Acc=0.69|10-CV=0.616|STD=0.04079|Time spend=41.10498881340027\n",
      "\tVALENCE-s02|Acc=0.745|10-CV=0.74|STD=0.0253|Time spend=41.551527976989746\n",
      "Fitted sphere radius:         95.3 mm\n",
      "Origin head coordinates:      -0.8 15.1 45.3 mm\n",
      "Origin device coordinates:    -0.8 15.1 45.3 mm\n",
      "(25, 32, 65, 257)\n",
      "(25, 32, 65, 257)\n",
      "(25, 32, 65, 257)\n",
      "(25, 32, 65, 257)\n",
      "(25, 32, 65, 257)\n",
      "(25, 32, 65, 257)\n",
      "(25, 32, 65, 257)\n",
      "(25, 32, 65, 257)\n",
      "========= close ========\n",
      "\tAROUSAL-s20|Acc=0.775|10-CV=0.78|STD=0.0|Time spend=40.035781145095825\n",
      "\tVALENCE-s20|Acc=0.78|10-CV=0.738|STD=0.06353|Time spend=40.5191433429718\n",
      "Fitted sphere radius:         95.3 mm\n",
      "Origin head coordinates:      -0.8 15.1 45.3 mm\n",
      "Origin device coordinates:    -0.8 15.1 45.3 mm\n",
      "(25, 32, 65, 257)\n",
      "(25, 32, 65, 257)\n",
      "(25, 32, 65, 257)\n",
      "(25, 32, 65, 257)\n",
      "(25, 32, 65, 257)\n",
      "(25, 32, 65, 257)\n",
      "(25, 32, 65, 257)\n",
      "(25, 32, 65, 257)\n",
      "========= close ========\n",
      "\tAROUSAL-s06|Acc=0.62|10-CV=0.594|STD=0.04565|Time spend=40.91983914375305\n",
      "\tVALENCE-s06|Acc=0.75|10-CV=0.746|STD=0.00917|Time spend=41.22597861289978\n",
      "Fitted sphere radius:         95.3 mm\n",
      "Origin head coordinates:      -0.8 15.1 45.3 mm\n",
      "Origin device coordinates:    -0.8 15.1 45.3 mm\n",
      "(25, 32, 65, 257)\n",
      "(25, 32, 65, 257)\n",
      "(25, 32, 65, 257)\n",
      "(25, 32, 65, 257)\n",
      "(25, 32, 65, 257)\n",
      "(25, 32, 65, 257)\n",
      "(25, 32, 65, 257)\n",
      "(25, 32, 65, 257)\n",
      "========= close ========\n",
      "\tAROUSAL-s23|Acc=0.75|10-CV=0.75|STD=0.01|Time spend=40.67746710777283\n",
      "\tVALENCE-s23|Acc=0.71|10-CV=0.65|STD=0.01342|Time spend=41.110107421875\n",
      "Fitted sphere radius:         95.3 mm\n",
      "Origin head coordinates:      -0.8 15.1 45.3 mm\n",
      "Origin device coordinates:    -0.8 15.1 45.3 mm\n",
      "(25, 32, 65, 257)\n",
      "(25, 32, 65, 257)\n",
      "(25, 32, 65, 257)\n",
      "(25, 32, 65, 257)\n",
      "(25, 32, 65, 257)\n",
      "(25, 32, 65, 257)\n",
      "(25, 32, 65, 257)\n",
      "(25, 32, 65, 257)\n",
      "========= close ========\n",
      "\tAROUSAL-s03|Acc=0.8|10-CV=0.8|STD=0.0|Time spend=42.955832719802856\n",
      "\tVALENCE-s03|Acc=0.73|10-CV=0.7|STD=0.04561|Time spend=43.463050842285156\n",
      "Fitted sphere radius:         95.3 mm\n",
      "Origin head coordinates:      -0.8 15.1 45.3 mm\n",
      "Origin device coordinates:    -0.8 15.1 45.3 mm\n",
      "(25, 32, 65, 257)\n",
      "(25, 32, 65, 257)\n",
      "(25, 32, 65, 257)\n",
      "(25, 32, 65, 257)\n",
      "(25, 32, 65, 257)\n",
      "(25, 32, 65, 257)\n",
      "(25, 32, 65, 257)\n",
      "(25, 32, 65, 257)\n",
      "========= close ========\n",
      "\tAROUSAL-s05|Acc=0.685|10-CV=0.608|STD=0.06823|Time spend=39.206300497055054\n",
      "\tVALENCE-s05|Acc=0.6|10-CV=0.6|STD=0.0|Time spend=39.70811319351196\n",
      "Fitted sphere radius:         95.3 mm\n",
      "Origin head coordinates:      -0.8 15.1 45.3 mm\n",
      "Origin device coordinates:    -0.8 15.1 45.3 mm\n",
      "(25, 32, 65, 257)\n",
      "(25, 32, 65, 257)\n",
      "(25, 32, 65, 257)\n",
      "(25, 32, 65, 257)\n",
      "(25, 32, 65, 257)\n",
      "(25, 32, 65, 257)\n",
      "(25, 32, 65, 257)\n",
      "(25, 32, 65, 257)\n",
      "========= close ========\n",
      "\tAROUSAL-s12|Acc=0.825|10-CV=0.82|STD=0.0|Time spend=38.77569317817688\n",
      "\tVALENCE-s12|Acc=0.645|10-CV=0.618|STD=0.04142|Time spend=39.26236152648926\n",
      "Fitted sphere radius:         95.3 mm\n",
      "Origin head coordinates:      -0.8 15.1 45.3 mm\n",
      "Origin device coordinates:    -0.8 15.1 45.3 mm\n",
      "(25, 32, 65, 257)\n",
      "(25, 32, 65, 257)\n",
      "(25, 32, 65, 257)\n",
      "(25, 32, 65, 257)\n",
      "(25, 32, 65, 257)\n",
      "(25, 32, 65, 257)\n",
      "(25, 32, 65, 257)\n",
      "(25, 32, 65, 257)\n",
      "========= close ========\n",
      "\tAROUSAL-s32|Acc=0.675|10-CV=0.672|STD=0.01833|Time spend=40.09292244911194\n",
      "\tVALENCE-s32|Acc=0.735|10-CV=0.708|STD=0.04578|Time spend=40.46109747886658\n",
      "Fitted sphere radius:         95.3 mm\n",
      "Origin head coordinates:      -0.8 15.1 45.3 mm\n",
      "Origin device coordinates:    -0.8 15.1 45.3 mm\n",
      "(25, 32, 65, 257)\n",
      "(25, 32, 65, 257)\n",
      "(25, 32, 65, 257)\n",
      "(25, 32, 65, 257)\n",
      "(25, 32, 65, 257)\n",
      "(25, 32, 65, 257)\n",
      "(25, 32, 65, 257)\n",
      "(25, 32, 65, 257)\n",
      "========= close ========\n",
      "\tAROUSAL-s08|Acc=0.73|10-CV=0.606|STD=0.04903|Time spend=48.50262451171875\n",
      "\tVALENCE-s08|Acc=0.77|10-CV=0.624|STD=0.05499|Time spend=48.98425602912903\n",
      "Fitted sphere radius:         95.3 mm\n",
      "Origin head coordinates:      -0.8 15.1 45.3 mm\n",
      "Origin device coordinates:    -0.8 15.1 45.3 mm\n",
      "(25, 32, 65, 257)\n",
      "(25, 32, 65, 257)\n",
      "(25, 32, 65, 257)\n",
      "(25, 32, 65, 257)\n",
      "(25, 32, 65, 257)\n",
      "(25, 32, 65, 257)\n",
      "(25, 32, 65, 257)\n",
      "(25, 32, 65, 257)\n",
      "========= close ========\n",
      "\tAROUSAL-s01|Acc=0.775|10-CV=0.64|STD=0.04099|Time spend=40.99664545059204\n",
      "\tVALENCE-s01|Acc=0.74|10-CV=0.658|STD=0.06353|Time spend=41.49879598617554\n",
      "Fitted sphere radius:         95.3 mm\n",
      "Origin head coordinates:      -0.8 15.1 45.3 mm\n",
      "Origin device coordinates:    -0.8 15.1 45.3 mm\n",
      "(25, 32, 65, 257)\n",
      "(25, 32, 65, 257)\n",
      "(25, 32, 65, 257)\n",
      "(25, 32, 65, 257)\n",
      "(25, 32, 65, 257)\n",
      "(25, 32, 65, 257)\n",
      "(25, 32, 65, 257)\n",
      "(25, 32, 65, 257)\n",
      "========= close ========\n",
      "\tAROUSAL-s13|Acc=0.85|10-CV=0.848|STD=0.0098|Time spend=39.68933963775635\n",
      "\tVALENCE-s13|Acc=0.81|10-CV=0.802|STD=0.03736|Time spend=39.97312545776367\n",
      "Fitted sphere radius:         95.3 mm\n",
      "Origin head coordinates:      -0.8 15.1 45.3 mm\n",
      "Origin device coordinates:    -0.8 15.1 45.3 mm\n",
      "(25, 32, 65, 257)\n",
      "(25, 32, 65, 257)\n",
      "(25, 32, 65, 257)\n",
      "(25, 32, 65, 257)\n",
      "(25, 32, 65, 257)\n",
      "(25, 32, 65, 257)\n",
      "(25, 32, 65, 257)\n",
      "(25, 32, 65, 257)\n",
      "========= close ========\n",
      "\tAROUSAL-s14|Acc=0.675|10-CV=0.676|STD=0.012|Time spend=45.57635760307312\n",
      "\tVALENCE-s14|Acc=0.785|10-CV=0.756|STD=0.04079|Time spend=46.05422377586365\n",
      "AROUSAL|Acc=0.7245312500000001|10-CV=0.6814375000000001|STD=0.026745539769165046\n",
      "VALENCE|Acc=0.72796875|10-CV=0.6906249999999999|STD=0.036295874854133124\n"
     ]
    }
   ],
   "source": [
    "accs, cv_means, cv_stds = [],[],[]\n",
    "accs_v, cv_means_v, cv_stds_v = [],[],[]\n",
    "reports = []\n",
    "for filename in (pbar := tqdm(dataset.get_file_list())):\n",
    "    start = time.time()\n",
    "    pbar.set_description(filename)\n",
    "    data, labels, groups = dataset.get_data(filename, stimuli=Dataset_subjectDependent.STIMULI_AROUSAL, return_type='mne', sfreq=128)\n",
    "    \n",
    "    data_csd = mne.preprocessing.compute_current_source_density(data)\n",
    "\n",
    "    plv = calculate_plv(data_csd.get_data(), n_jobs=8)\n",
    "\n",
    "    _,acc,cross,train_report = train_model(plv, labels.squeeze(), groups, filename=filename, return_text=True)\n",
    "    report = f\"\\tAROUSAL-{filename}|Acc={round(acc,5)}|10-CV={round(cross.mean(),5)}|STD={round(cross.std(),5)}|Time spend={time.time() - start}\"\n",
    "    print(report)\n",
    "    reports.append(report)\n",
    "    reports.append(train_report)\n",
    "    accs.append(acc)\n",
    "    cv_means.append(cross.mean())\n",
    "    cv_stds.append(cross.std())\n",
    "\n",
    "    _, labels_v, groups_v = dataset.get_data(filename, stimuli=Dataset_subjectDependent.STIMULI_VALENCE, return_type='mne', sfreq=128)\n",
    "    _,acc,cross,train_report = train_model(plv, labels_v.squeeze(), groups_v, filename=filename, return_text=True)\n",
    "    report = f\"\\tVALENCE-{filename}|Acc={round(acc,5)}|10-CV={round(cross.mean(),5)}|STD={round(cross.std(),5)}|Time spend={time.time() - start}\"\n",
    "    print(report)\n",
    "    reports.append(report)\n",
    "    reports.append(train_report)\n",
    "    accs_v.append(acc)\n",
    "    cv_means_v.append(cross.mean())\n",
    "    cv_stds_v.append(cross.std())\n",
    "    # break\n",
    "    # count+=1\n",
    "    # if(count == 5): break\n",
    "report = f\"AROUSAL|Acc={sum(accs)/len(accs)}|10-CV={sum(cv_means)/len(cv_means)}|STD={sum(cv_stds)/len(cv_stds)}\"\n",
    "print(report)\n",
    "reports.append(report)\n",
    "report = f\"VALENCE|Acc={sum(accs_v)/len(accs_v)}|10-CV={sum(cv_means_v)/len(cv_means_v)}|STD={sum(cv_stds_v)/len(cv_stds_v)}\"\n",
    "print(report)\n",
    "reports.append(report)"
   ]
  },
  {
   "cell_type": "code",
   "execution_count": 15,
   "metadata": {},
   "outputs": [
    {
     "name": "stdout",
     "output_type": "stream",
     "text": [
      "\tAROUSAL-s09|Acc=0.74|10-CV=0.664|STD=0.03072|Time spend=72.35968780517578\n",
      "\tVALENCE-s09|Acc=0.785|10-CV=0.736|STD=0.02653|Time spend=72.78555917739868\n",
      "\tAROUSAL-s19|Acc=0.76|10-CV=0.73|STD=0.05079|Time spend=40.492711782455444\n",
      "\tVALENCE-s19|Acc=0.725|10-CV=0.666|STD=0.062|Time spend=40.956605672836304\n",
      "\tAROUSAL-s17|Acc=0.775|10-CV=0.76|STD=0.04733|Time spend=39.35739731788635\n",
      "\tVALENCE-s17|Acc=0.64|10-CV=0.6|STD=0.06132|Time spend=39.76933550834656\n",
      "\tAROUSAL-s28|Acc=0.62|10-CV=0.55|STD=0.02569|Time spend=40.32633876800537\n",
      "\tVALENCE-s28|Acc=0.625|10-CV=0.62|STD=0.0|Time spend=40.69940781593323\n",
      "-----WARNING: Model s28 failed to learn: sum(ans)=200.0 sum(y)=125.0 len(y)=200\n",
      "\tAROUSAL-s07|Acc=0.705|10-CV=0.662|STD=0.014|Time spend=42.322192430496216\n",
      "\tVALENCE-s07|Acc=0.78|10-CV=0.712|STD=0.01833|Time spend=42.6599555015564\n",
      "\tAROUSAL-s11|Acc=0.625|10-CV=0.62|STD=0.0|Time spend=40.95685362815857\n",
      "-----WARNING: Model s11 failed to learn: sum(ans)=0.0 sum(y)=75.0 len(y)=200\n",
      "\tVALENCE-s11|Acc=0.695|10-CV=0.64|STD=0.03347|Time spend=41.32630658149719\n",
      "\tAROUSAL-s25|Acc=0.725|10-CV=0.72|STD=0.0|Time spend=40.02633571624756\n",
      "-----WARNING: Model s25 failed to learn: sum(ans)=200.0 sum(y)=145.0 len(y)=200\n",
      "\tVALENCE-s25|Acc=0.655|10-CV=0.62|STD=0.03899|Time spend=40.54350185394287\n",
      "\tAROUSAL-s24|Acc=0.825|10-CV=0.82|STD=0.0|Time spend=38.784576416015625\n",
      "-----WARNING: Model s24 failed to learn: sum(ans)=200.0 sum(y)=165.0 len(y)=200\n",
      "\tVALENCE-s24|Acc=0.775|10-CV=0.734|STD=0.05517|Time spend=39.152830600738525\n",
      "\tAROUSAL-s04|Acc=0.715|10-CV=0.648|STD=0.0475|Time spend=38.329848766326904\n",
      "\tVALENCE-s04|Acc=0.735|10-CV=0.69|STD=0.03493|Time spend=38.68669319152832\n",
      "\tAROUSAL-s16|Acc=0.725|10-CV=0.642|STD=0.04045|Time spend=39.35830569267273\n",
      "\tVALENCE-s16|Acc=0.735|10-CV=0.704|STD=0.04454|Time spend=39.72380328178406\n",
      "\tAROUSAL-s29|Acc=0.72|10-CV=0.69|STD=0.04025|Time spend=40.8155517578125\n",
      "\tVALENCE-s29|Acc=0.72|10-CV=0.692|STD=0.064|Time spend=41.28565812110901\n",
      "\tAROUSAL-s26|Acc=0.71|10-CV=0.634|STD=0.05064|Time spend=43.28418326377869\n",
      "\tVALENCE-s26|Acc=0.65|10-CV=0.646|STD=0.00917|Time spend=43.58008050918579\n",
      "-----WARNING: Model s26 failed to learn: sum(ans)=200.0 sum(y)=130.0 len(y)=200\n",
      "\tAROUSAL-s15|Acc=0.72|10-CV=0.652|STD=0.0402|Time spend=39.71743154525757\n",
      "\tVALENCE-s15|Acc=0.86|10-CV=0.832|STD=0.05307|Time spend=40.12514805793762\n",
      "\tAROUSAL-s21|Acc=0.8|10-CV=0.8|STD=0.0|Time spend=38.86224961280823\n",
      "-----WARNING: Model s21 failed to learn: sum(ans)=200.0 sum(y)=160.0 len(y)=200\n",
      "\tVALENCE-s21|Acc=0.64|10-CV=0.588|STD=0.04214|Time spend=39.355406522750854\n",
      "\tAROUSAL-s30|Acc=0.68|10-CV=0.608|STD=0.044|Time spend=40.187360525131226\n",
      "\tVALENCE-s30|Acc=0.675|10-CV=0.68|STD=0.0|Time spend=40.52788591384888\n",
      "-----WARNING: Model s30 failed to learn: sum(ans)=200.0 sum(y)=135.0 len(y)=200\n",
      "\tAROUSAL-s27|Acc=0.77|10-CV=0.694|STD=0.04104|Time spend=40.4406259059906\n",
      "\tVALENCE-s27|Acc=0.75|10-CV=0.746|STD=0.00917|Time spend=40.85555720329285\n",
      "-----WARNING: Model s27 failed to learn: sum(ans)=200.0 sum(y)=150.0 len(y)=200\n",
      "\tAROUSAL-s31|Acc=0.755|10-CV=0.598|STD=0.04238|Time spend=44.69533038139343\n",
      "\tVALENCE-s31|Acc=0.67|10-CV=0.59|STD=0.03493|Time spend=45.18802547454834\n",
      "\tAROUSAL-s10|Acc=0.735|10-CV=0.686|STD=0.04005|Time spend=40.426194190979004\n",
      "\tVALENCE-s10|Acc=0.82|10-CV=0.812|STD=0.05381|Time spend=40.83613681793213\n",
      "\tAROUSAL-s22|Acc=0.605|10-CV=0.598|STD=0.006|Time spend=39.672828912734985\n",
      "\tVALENCE-s22|Acc=0.76|10-CV=0.724|STD=0.03323|Time spend=40.051621437072754\n",
      "\tAROUSAL-s18|Acc=0.625|10-CV=0.62|STD=0.0|Time spend=42.79560732841492\n",
      "-----WARNING: Model s18 failed to learn: sum(ans)=200.0 sum(y)=125.0 len(y)=200\n",
      "\tVALENCE-s18|Acc=0.8|10-CV=0.728|STD=0.04578|Time spend=43.2366464138031\n",
      "\tAROUSAL-s02|Acc=0.69|10-CV=0.616|STD=0.04079|Time spend=41.10498881340027\n",
      "\tVALENCE-s02|Acc=0.745|10-CV=0.74|STD=0.0253|Time spend=41.551527976989746\n",
      "\tAROUSAL-s20|Acc=0.775|10-CV=0.78|STD=0.0|Time spend=40.035781145095825\n",
      "-----WARNING: Model s20 failed to learn: sum(ans)=200.0 sum(y)=155.0 len(y)=200\n",
      "\tVALENCE-s20|Acc=0.78|10-CV=0.738|STD=0.06353|Time spend=40.5191433429718\n",
      "\tAROUSAL-s06|Acc=0.62|10-CV=0.594|STD=0.04565|Time spend=40.91983914375305\n",
      "\tVALENCE-s06|Acc=0.75|10-CV=0.746|STD=0.00917|Time spend=41.22597861289978\n",
      "-----WARNING: Model s06 failed to learn: sum(ans)=200.0 sum(y)=150.0 len(y)=200\n",
      "\tAROUSAL-s23|Acc=0.75|10-CV=0.75|STD=0.01|Time spend=40.67746710777283\n",
      "-----WARNING: Model s23 failed to learn: sum(ans)=0.0 sum(y)=50.0 len(y)=200\n",
      "\tVALENCE-s23|Acc=0.71|10-CV=0.65|STD=0.01342|Time spend=41.110107421875\n",
      "\tAROUSAL-s03|Acc=0.8|10-CV=0.8|STD=0.0|Time spend=42.955832719802856\n",
      "-----WARNING: Model s03 failed to learn: sum(ans)=0.0 sum(y)=40.0 len(y)=200\n",
      "\tVALENCE-s03|Acc=0.73|10-CV=0.7|STD=0.04561|Time spend=43.463050842285156\n",
      "\tAROUSAL-s05|Acc=0.685|10-CV=0.608|STD=0.06823|Time spend=39.206300497055054\n",
      "\tVALENCE-s05|Acc=0.6|10-CV=0.6|STD=0.0|Time spend=39.70811319351196\n",
      "-----WARNING: Model s05 failed to learn: sum(ans)=200.0 sum(y)=120.0 len(y)=200\n",
      "\tAROUSAL-s12|Acc=0.825|10-CV=0.82|STD=0.0|Time spend=38.77569317817688\n",
      "-----WARNING: Model s12 failed to learn: sum(ans)=200.0 sum(y)=165.0 len(y)=200\n",
      "\tVALENCE-s12|Acc=0.645|10-CV=0.618|STD=0.04142|Time spend=39.26236152648926\n",
      "\tAROUSAL-s32|Acc=0.675|10-CV=0.672|STD=0.01833|Time spend=40.09292244911194\n",
      "-----WARNING: Model s32 failed to learn: sum(ans)=200.0 sum(y)=135.0 len(y)=200\n",
      "\tVALENCE-s32|Acc=0.735|10-CV=0.708|STD=0.04578|Time spend=40.46109747886658\n",
      "\tAROUSAL-s08|Acc=0.73|10-CV=0.606|STD=0.04903|Time spend=48.50262451171875\n",
      "\tVALENCE-s08|Acc=0.77|10-CV=0.624|STD=0.05499|Time spend=48.98425602912903\n",
      "\tAROUSAL-s01|Acc=0.775|10-CV=0.64|STD=0.04099|Time spend=40.99664545059204\n",
      "\tVALENCE-s01|Acc=0.74|10-CV=0.658|STD=0.06353|Time spend=41.49879598617554\n",
      "\tAROUSAL-s13|Acc=0.85|10-CV=0.848|STD=0.0098|Time spend=39.68933963775635\n",
      "-----WARNING: Model s13 failed to learn: sum(ans)=200.0 sum(y)=170.0 len(y)=200\n",
      "\tVALENCE-s13|Acc=0.81|10-CV=0.802|STD=0.03736|Time spend=39.97312545776367\n",
      "\tAROUSAL-s14|Acc=0.675|10-CV=0.676|STD=0.012|Time spend=45.57635760307312\n",
      "-----WARNING: Model s14 failed to learn: sum(ans)=200.0 sum(y)=135.0 len(y)=200\n",
      "\tVALENCE-s14|Acc=0.785|10-CV=0.756|STD=0.04079|Time spend=46.05422377586365\n",
      "AROUSAL|Acc=0.7245312500000001|10-CV=0.6814375000000001|STD=0.026745539769165046\n",
      "VALENCE|Acc=0.72796875|10-CV=0.6906249999999999|STD=0.036295874854133124\n",
      "TOTAL|Acc=0.7262500000000001|10-CV=0.6860312500000003|STD=0.03152070731164908\n"
     ]
    }
   ],
   "source": [
    "for text in reports:\n",
    "    if(text == None): continue\n",
    "    print(text)\n",
    "\n",
    "accs.extend(accs_v)\n",
    "cv_means.extend(cv_means_v)\n",
    "cv_stds.extend(cv_stds_v)\n",
    "print(f\"TOTAL|Acc={sum(accs)/len(accs)}|10-CV={sum(cv_means)/len(cv_means)}|STD={sum(cv_stds)/len(cv_stds)}\")"
   ]
  },
  {
   "cell_type": "markdown",
   "metadata": {},
   "source": [
    "### 4.4 $ \\text{PLI}(j,k) =  \\frac{1}{T} | \\Sigma^{T}_{t=1} \\text{sign}(Im[e^{i (\\phi^{t}_{j} - \\phi^{t}_{k})}])  | $"
   ]
  },
  {
   "cell_type": "code",
   "execution_count": 16,
   "metadata": {},
   "outputs": [],
   "source": [
    "# bands = [(0,4), (4,8), (8,12), (12,30), (30,64)]\n",
    "def calculate_stft(signals, sfreq):\n",
    "    from scipy import signal\n",
    "    f_range, t_range, Z = signal.stft(signals, sfreq, nperseg=sfreq//10, nfft=sfreq)\n",
    "    magnitude = np.abs(Z) \n",
    "    phase = np.angle(Z)\n",
    "    return magnitude, phase, f_range, t_range\n",
    "\n",
    "def PLI_stft(p_id, phase):\n",
    "    # (32, 65, 12) => (channels, freqs, times)\n",
    "    # print(f\"p_id:{p_id} - data to run {phase.shape}\")\n",
    "    from itertools import combinations\n",
    "    pli = []\n",
    "    # count = 0\n",
    "    for index in range(phase.shape[0]):\n",
    "        pli_epoch = []\n",
    "        for comb in combinations(list(range(phase.shape[1])), 2):\n",
    "            # shape = (65,12)\n",
    "            phase_a, phase_b = phase[index, comb[0]], phase[index, comb[1]]\n",
    "            phase_diff = phase_a - phase_b\n",
    "            # sum along the time size\n",
    "            pli_ab = np.abs(np.average(   np.sign(np.imag(   np.exp(complex(0,1) * phase_diff) ))  , axis=1))\n",
    "            pli_epoch.append(pli_ab)\n",
    "        pli_epoch = np.vstack(pli_epoch)\n",
    "        pli_epoch_5 = np.concatenate([ pli_epoch[:,0:4].mean(axis=1).reshape(-1,1),\n",
    "                                        pli_epoch[:,4:8].mean(axis=1).reshape(-1,1),\n",
    "                                        pli_epoch[:,8:12].mean(axis=1).reshape(-1,1),\n",
    "                                        pli_epoch[:,12:30].mean(axis=1).reshape(-1,1),\n",
    "                                        pli_epoch[:,30:65].mean(axis=1).reshape(-1,1)], axis=0)\n",
    "        pli.append(np.expand_dims(pli_epoch_5, axis=0))\n",
    "        # count += 1\n",
    "        # if(count == 3): break\n",
    "    # shape (496, 65)\n",
    "    # 496 is number of pairs that is not duplicate\n",
    "    # 65 is number of phase of frequencies\n",
    "    pli = np.vstack( pli )\n",
    "    return pli.squeeze()\n",
    "\n",
    "def calculate_pli(data, n_jobs=8):\n",
    "    \"\"\" \n",
    "    Input: Expect data to have (n_epochs, n_channels, n_samples)\n",
    "    Output: (n_epochs, n_conn, n_freqs ) => n_conn = n_channels!/(2!(n_channels-2)!)\n",
    "    \"\"\"\n",
    "    from multiprocessing import Pool\n",
    "\n",
    "    try:\n",
    "        t_out = 60000\n",
    "        pool = Pool()\n",
    "        p_list = []\n",
    "        ans_list = []\n",
    "        num_p = n_jobs\n",
    "        indices = np.array_split(np.arange(data.shape[0]), num_p)\n",
    "        _, phase, _, _ = calculate_stft(data, 128)\n",
    "        for p_id in range(num_p):\n",
    "            p_list.append(pool.apply_async(PLI_stft, [p_id, phase[indices[p_id]] ]))\n",
    "        for p_id in range(num_p):\n",
    "            ans_list.append( p_list[p_id].get(timeout=t_out) )\n",
    "        # ans_list\n",
    "    finally:\n",
    "        print(\"========= close ========\")\n",
    "        pool.close() \n",
    "        pool.terminate()\n",
    "    return np.vstack(ans_list)\n"
   ]
  },
  {
   "cell_type": "code",
   "execution_count": 17,
   "metadata": {},
   "outputs": [
    {
     "data": {
      "application/vnd.jupyter.widget-view+json": {
       "model_id": "02b81311f1c24f638ef16c3b09769204",
       "version_major": 2,
       "version_minor": 0
      },
      "text/plain": [
       "  0%|          | 0/32 [00:00<?, ?it/s]"
      ]
     },
     "metadata": {},
     "output_type": "display_data"
    },
    {
     "name": "stdout",
     "output_type": "stream",
     "text": [
      "Fitted sphere radius:         95.3 mm\n",
      "Origin head coordinates:      -0.8 15.1 45.3 mm\n",
      "Origin device coordinates:    -0.8 15.1 45.3 mm\n",
      "========= close ========\n",
      "\tAROUSAL-s09|Acc=0.865|10-CV=0.606|STD=0.03231|Time spend=41.92472505569458\n",
      "\tVALENCE-s09|Acc=0.96|10-CV=0.52|STD=0.04|Time spend=42.39958953857422\n",
      "Fitted sphere radius:         95.3 mm\n",
      "Origin head coordinates:      -0.8 15.1 45.3 mm\n",
      "Origin device coordinates:    -0.8 15.1 45.3 mm\n",
      "========= close ========\n",
      "\tAROUSAL-s19|Acc=0.68|10-CV=0.68|STD=0.0|Time spend=41.046886920928955\n",
      "\tVALENCE-s19|Acc=0.675|10-CV=0.554|STD=0.03231|Time spend=41.47844839096069\n",
      "Fitted sphere radius:         95.3 mm\n",
      "Origin head coordinates:      -0.8 15.1 45.3 mm\n",
      "Origin device coordinates:    -0.8 15.1 45.3 mm\n",
      "========= close ========\n",
      "\tAROUSAL-s17|Acc=0.835|10-CV=0.608|STD=0.0337|Time spend=40.6726713180542\n",
      "\tVALENCE-s17|Acc=0.97|10-CV=0.556|STD=0.032|Time spend=41.17308521270752\n",
      "Fitted sphere radius:         95.3 mm\n",
      "Origin head coordinates:      -0.8 15.1 45.3 mm\n",
      "Origin device coordinates:    -0.8 15.1 45.3 mm\n",
      "========= close ========\n",
      "\tAROUSAL-s28|Acc=0.96|10-CV=0.488|STD=0.04996|Time spend=38.107471227645874\n",
      "\tVALENCE-s28|Acc=0.93|10-CV=0.618|STD=0.006|Time spend=38.627007722854614\n",
      "Fitted sphere radius:         95.3 mm\n",
      "Origin head coordinates:      -0.8 15.1 45.3 mm\n",
      "Origin device coordinates:    -0.8 15.1 45.3 mm\n",
      "========= close ========\n",
      "\tAROUSAL-s07|Acc=0.99|10-CV=0.62|STD=0.0|Time spend=40.31473398208618\n",
      "\tVALENCE-s07|Acc=0.945|10-CV=0.7|STD=0.0|Time spend=40.72826957702637\n",
      "Fitted sphere radius:         95.3 mm\n",
      "Origin head coordinates:      -0.8 15.1 45.3 mm\n",
      "Origin device coordinates:    -0.8 15.1 45.3 mm\n",
      "========= close ========\n",
      "\tAROUSAL-s11|Acc=0.845|10-CV=0.618|STD=0.006|Time spend=38.902161598205566\n",
      "\tVALENCE-s11|Acc=0.855|10-CV=0.622|STD=0.03516|Time spend=39.37044143676758\n",
      "Fitted sphere radius:         95.3 mm\n",
      "Origin head coordinates:      -0.8 15.1 45.3 mm\n",
      "Origin device coordinates:    -0.8 15.1 45.3 mm\n",
      "========= close ========\n",
      "\tAROUSAL-s25|Acc=0.82|10-CV=0.72|STD=0.0|Time spend=38.689852476119995\n",
      "\tVALENCE-s25|Acc=0.97|10-CV=0.548|STD=0.0337|Time spend=39.23768162727356\n",
      "Fitted sphere radius:         95.3 mm\n",
      "Origin head coordinates:      -0.8 15.1 45.3 mm\n",
      "Origin device coordinates:    -0.8 15.1 45.3 mm\n",
      "========= close ========\n",
      "\tAROUSAL-s24|Acc=0.825|10-CV=0.82|STD=0.0|Time spend=37.99795150756836\n",
      "\tVALENCE-s24|Acc=0.96|10-CV=0.506|STD=0.03583|Time spend=38.48217058181763\n",
      "Fitted sphere radius:         95.3 mm\n",
      "Origin head coordinates:      -0.8 15.1 45.3 mm\n",
      "Origin device coordinates:    -0.8 15.1 45.3 mm\n",
      "========= close ========\n",
      "\tAROUSAL-s04|Acc=0.88|10-CV=0.6|STD=0.01549|Time spend=40.094310998916626\n",
      "\tVALENCE-s04|Acc=0.86|10-CV=0.59|STD=0.02049|Time spend=40.52320957183838\n",
      "Fitted sphere radius:         95.3 mm\n",
      "Origin head coordinates:      -0.8 15.1 45.3 mm\n",
      "Origin device coordinates:    -0.8 15.1 45.3 mm\n",
      "========= close ========\n",
      "\tAROUSAL-s16|Acc=1.0|10-CV=0.554|STD=0.05936|Time spend=39.924798011779785\n",
      "\tVALENCE-s16|Acc=0.99|10-CV=0.614|STD=0.00917|Time spend=40.43250894546509\n",
      "Fitted sphere radius:         95.3 mm\n",
      "Origin head coordinates:      -0.8 15.1 45.3 mm\n",
      "Origin device coordinates:    -0.8 15.1 45.3 mm\n",
      "========= close ========\n",
      "\tAROUSAL-s29|Acc=0.86|10-CV=0.614|STD=0.00917|Time spend=40.66183376312256\n",
      "\tVALENCE-s29|Acc=0.89|10-CV=0.582|STD=0.026|Time spend=41.08276438713074\n",
      "Fitted sphere radius:         95.3 mm\n",
      "Origin head coordinates:      -0.8 15.1 45.3 mm\n",
      "Origin device coordinates:    -0.8 15.1 45.3 mm\n",
      "========= close ========\n",
      "\tAROUSAL-s26|Acc=0.97|10-CV=0.56|STD=0.05215|Time spend=39.052303075790405\n",
      "\tVALENCE-s26|Acc=0.855|10-CV=0.646|STD=0.00917|Time spend=39.6178560256958\n",
      "Fitted sphere radius:         95.3 mm\n",
      "Origin head coordinates:      -0.8 15.1 45.3 mm\n",
      "Origin device coordinates:    -0.8 15.1 45.3 mm\n",
      "========= close ========\n",
      "\tAROUSAL-s15|Acc=0.995|10-CV=0.53|STD=0.05385|Time spend=39.441285371780396\n",
      "\tVALENCE-s15|Acc=1.0|10-CV=0.596|STD=0.06248|Time spend=39.962427377700806\n",
      "Fitted sphere radius:         95.3 mm\n",
      "Origin head coordinates:      -0.8 15.1 45.3 mm\n",
      "Origin device coordinates:    -0.8 15.1 45.3 mm\n",
      "========= close ========\n",
      "\tAROUSAL-s21|Acc=0.86|10-CV=0.8|STD=0.0|Time spend=39.029035806655884\n",
      "\tVALENCE-s21|Acc=0.985|10-CV=0.49|STD=0.05158|Time spend=39.41818165779114\n",
      "Fitted sphere radius:         95.3 mm\n",
      "Origin head coordinates:      -0.8 15.1 45.3 mm\n",
      "Origin device coordinates:    -0.8 15.1 45.3 mm\n",
      "========= close ========\n",
      "\tAROUSAL-s30|Acc=0.905|10-CV=0.63|STD=0.07225|Time spend=49.29766511917114\n",
      "\tVALENCE-s30|Acc=0.835|10-CV=0.678|STD=0.014|Time spend=49.78374457359314\n",
      "Fitted sphere radius:         95.3 mm\n",
      "Origin head coordinates:      -0.8 15.1 45.3 mm\n",
      "Origin device coordinates:    -0.8 15.1 45.3 mm\n",
      "========= close ========\n",
      "\tAROUSAL-s27|Acc=0.97|10-CV=0.68|STD=0.0|Time spend=46.63227033615112\n",
      "\tVALENCE-s27|Acc=0.97|10-CV=0.746|STD=0.00917|Time spend=47.14221215248108\n",
      "Fitted sphere radius:         95.3 mm\n",
      "Origin head coordinates:      -0.8 15.1 45.3 mm\n",
      "Origin device coordinates:    -0.8 15.1 45.3 mm\n",
      "========= close ========\n",
      "\tAROUSAL-s31|Acc=1.0|10-CV=0.61|STD=0.06083|Time spend=40.71962928771973\n",
      "\tVALENCE-s31|Acc=0.99|10-CV=0.602|STD=0.02088|Time spend=41.251068353652954\n",
      "Fitted sphere radius:         95.3 mm\n",
      "Origin head coordinates:      -0.8 15.1 45.3 mm\n",
      "Origin device coordinates:    -0.8 15.1 45.3 mm\n",
      "========= close ========\n",
      "\tAROUSAL-s10|Acc=0.995|10-CV=0.568|STD=0.02713|Time spend=49.16326308250427\n",
      "\tVALENCE-s10|Acc=0.995|10-CV=0.61|STD=0.04837|Time spend=49.70803260803223\n",
      "Fitted sphere radius:         95.3 mm\n",
      "Origin head coordinates:      -0.8 15.1 45.3 mm\n",
      "Origin device coordinates:    -0.8 15.1 45.3 mm\n",
      "========= close ========\n",
      "\tAROUSAL-s22|Acc=0.785|10-CV=0.594|STD=0.038|Time spend=55.479636430740356\n",
      "\tVALENCE-s22|Acc=0.875|10-CV=0.552|STD=0.02713|Time spend=55.96986627578735\n",
      "Fitted sphere radius:         95.3 mm\n",
      "Origin head coordinates:      -0.8 15.1 45.3 mm\n",
      "Origin device coordinates:    -0.8 15.1 45.3 mm\n",
      "========= close ========\n",
      "\tAROUSAL-s18|Acc=0.94|10-CV=0.622|STD=0.006|Time spend=84.7621202468872\n",
      "\tVALENCE-s18|Acc=0.965|10-CV=0.596|STD=0.008|Time spend=85.30328440666199\n",
      "Fitted sphere radius:         95.3 mm\n",
      "Origin head coordinates:      -0.8 15.1 45.3 mm\n",
      "Origin device coordinates:    -0.8 15.1 45.3 mm\n",
      "========= close ========\n",
      "\tAROUSAL-s02|Acc=0.855|10-CV=0.62|STD=0.0429|Time spend=80.28926944732666\n",
      "\tVALENCE-s02|Acc=0.85|10-CV=0.61|STD=0.04025|Time spend=80.79135966300964\n",
      "Fitted sphere radius:         95.3 mm\n",
      "Origin head coordinates:      -0.8 15.1 45.3 mm\n",
      "Origin device coordinates:    -0.8 15.1 45.3 mm\n",
      "========= close ========\n",
      "\tAROUSAL-s20|Acc=0.91|10-CV=0.78|STD=0.0|Time spend=76.31791853904724\n",
      "\tVALENCE-s20|Acc=0.985|10-CV=0.578|STD=0.02088|Time spend=76.80315256118774\n",
      "Fitted sphere radius:         95.3 mm\n",
      "Origin head coordinates:      -0.8 15.1 45.3 mm\n",
      "Origin device coordinates:    -0.8 15.1 45.3 mm\n",
      "========= close ========\n",
      "\tAROUSAL-s06|Acc=0.98|10-CV=0.59|STD=0.03493|Time spend=46.105385303497314\n",
      "\tVALENCE-s06|Acc=0.87|10-CV=0.746|STD=0.00917|Time spend=46.64287519454956\n",
      "Fitted sphere radius:         95.3 mm\n",
      "Origin head coordinates:      -0.8 15.1 45.3 mm\n",
      "Origin device coordinates:    -0.8 15.1 45.3 mm\n",
      "========= close ========\n",
      "\tAROUSAL-s23|Acc=0.96|10-CV=0.75|STD=0.01|Time spend=41.98184394836426\n",
      "\tVALENCE-s23|Acc=0.995|10-CV=0.646|STD=0.00917|Time spend=42.506983041763306\n",
      "Fitted sphere radius:         95.3 mm\n",
      "Origin head coordinates:      -0.8 15.1 45.3 mm\n",
      "Origin device coordinates:    -0.8 15.1 45.3 mm\n",
      "========= close ========\n",
      "\tAROUSAL-s03|Acc=0.87|10-CV=0.8|STD=0.0|Time spend=42.12129092216492\n",
      "\tVALENCE-s03|Acc=0.995|10-CV=0.522|STD=0.06478|Time spend=42.5371778011322\n",
      "Fitted sphere radius:         95.3 mm\n",
      "Origin head coordinates:      -0.8 15.1 45.3 mm\n",
      "Origin device coordinates:    -0.8 15.1 45.3 mm\n",
      "========= close ========\n",
      "\tAROUSAL-s05|Acc=0.745|10-CV=0.502|STD=0.034|Time spend=44.520936489105225\n",
      "\tVALENCE-s05|Acc=0.69|10-CV=0.592|STD=0.02713|Time spend=44.93972301483154\n",
      "Fitted sphere radius:         95.3 mm\n",
      "Origin head coordinates:      -0.8 15.1 45.3 mm\n",
      "Origin device coordinates:    -0.8 15.1 45.3 mm\n",
      "========= close ========\n",
      "\tAROUSAL-s12|Acc=0.865|10-CV=0.82|STD=0.0|Time spend=47.19494032859802\n",
      "\tVALENCE-s12|Acc=1.0|10-CV=0.532|STD=0.0337|Time spend=47.694092988967896\n",
      "Fitted sphere radius:         95.3 mm\n",
      "Origin head coordinates:      -0.8 15.1 45.3 mm\n",
      "Origin device coordinates:    -0.8 15.1 45.3 mm\n",
      "========= close ========\n",
      "\tAROUSAL-s32|Acc=0.875|10-CV=0.67|STD=0.02049|Time spend=42.61566662788391\n",
      "\tVALENCE-s32|Acc=0.985|10-CV=0.56|STD=0.03347|Time spend=43.09018683433533\n",
      "Fitted sphere radius:         95.3 mm\n",
      "Origin head coordinates:      -0.8 15.1 45.3 mm\n",
      "Origin device coordinates:    -0.8 15.1 45.3 mm\n",
      "========= close ========\n",
      "\tAROUSAL-s08|Acc=0.985|10-CV=0.57|STD=0.01612|Time spend=44.845953941345215\n",
      "\tVALENCE-s08|Acc=0.98|10-CV=0.594|STD=0.02375|Time spend=45.24348998069763\n",
      "Fitted sphere radius:         95.3 mm\n",
      "Origin head coordinates:      -0.8 15.1 45.3 mm\n",
      "Origin device coordinates:    -0.8 15.1 45.3 mm\n",
      "========= close ========\n",
      "\tAROUSAL-s01|Acc=0.96|10-CV=0.588|STD=0.02993|Time spend=49.537238359451294\n",
      "\tVALENCE-s01|Acc=0.995|10-CV=0.482|STD=0.06478|Time spend=50.03964710235596\n",
      "Fitted sphere radius:         95.3 mm\n",
      "Origin head coordinates:      -0.8 15.1 45.3 mm\n",
      "Origin device coordinates:    -0.8 15.1 45.3 mm\n",
      "========= close ========\n",
      "\tAROUSAL-s13|Acc=0.905|10-CV=0.848|STD=0.0098|Time spend=41.171791076660156\n",
      "\tVALENCE-s13|Acc=0.96|10-CV=0.568|STD=0.02227|Time spend=41.65446209907532\n",
      "Fitted sphere radius:         95.3 mm\n",
      "Origin head coordinates:      -0.8 15.1 45.3 mm\n",
      "Origin device coordinates:    -0.8 15.1 45.3 mm\n",
      "========= close ========\n",
      "\tAROUSAL-s14|Acc=0.885|10-CV=0.678|STD=0.006|Time spend=44.675087451934814\n",
      "\tVALENCE-s14|Acc=0.995|10-CV=0.484|STD=0.05571|Time spend=45.20831656455994\n",
      "AROUSAL|Acc=0.8992187500000002|10-CV=0.6480624999999999|STD=0.0225119087407284\n",
      "VALENCE|Acc=0.9304687500000003|10-CV=0.5887500000000001|STD=0.028952568057913488\n"
     ]
    }
   ],
   "source": [
    "accs, cv_means, cv_stds = [],[],[]\n",
    "accs_v, cv_means_v, cv_stds_v = [],[],[]\n",
    "reports = []\n",
    "for filename in (pbar := tqdm(dataset.get_file_list())):\n",
    "    start = time.time()\n",
    "    pbar.set_description(filename)\n",
    "    data, labels, groups = dataset.get_data(filename, stimuli=Dataset_subjectDependent.STIMULI_AROUSAL, return_type='mne', sfreq=128)\n",
    "    \n",
    "    data_csd = mne.preprocessing.compute_current_source_density(data)\n",
    "\n",
    "    pli = calculate_pli(data_csd.get_data(), n_jobs=8)\n",
    "\n",
    "    _,acc,cross,train_report = train_model(pli, labels.squeeze(), groups, filename=filename, return_text=True)\n",
    "    report = f\"\\tAROUSAL-{filename}|Acc={round(acc,5)}|10-CV={round(cross.mean(),5)}|STD={round(cross.std(),5)}|Time spend={time.time() - start}\"\n",
    "    print(report)\n",
    "    reports.append(report)\n",
    "    reports.append(train_report)\n",
    "    accs.append(acc)\n",
    "    cv_means.append(cross.mean())\n",
    "    cv_stds.append(cross.std())\n",
    "\n",
    "    _, labels_v, groups_v = dataset.get_data(filename, stimuli=Dataset_subjectDependent.STIMULI_VALENCE, return_type='mne', sfreq=128)\n",
    "    _,acc,cross,train_report = train_model(pli, labels_v.squeeze(), groups_v, filename=filename, return_text=True)\n",
    "    report = f\"\\tVALENCE-{filename}|Acc={round(acc,5)}|10-CV={round(cross.mean(),5)}|STD={round(cross.std(),5)}|Time spend={time.time() - start}\"\n",
    "    print(report)\n",
    "    reports.append(report)\n",
    "    reports.append(train_report)\n",
    "    accs_v.append(acc)\n",
    "    cv_means_v.append(cross.mean())\n",
    "    cv_stds_v.append(cross.std())\n",
    "    # break\n",
    "    # count+=1\n",
    "    # if(count == 5): break\n",
    "report = f\"AROUSAL|Acc={sum(accs)/len(accs)}|10-CV={sum(cv_means)/len(cv_means)}|STD={sum(cv_stds)/len(cv_stds)}\"\n",
    "print(report)\n",
    "reports.append(report)\n",
    "report = f\"VALENCE|Acc={sum(accs_v)/len(accs_v)}|10-CV={sum(cv_means_v)/len(cv_means_v)}|STD={sum(cv_stds_v)/len(cv_stds_v)}\"\n",
    "print(report)\n",
    "reports.append(report)"
   ]
  },
  {
   "cell_type": "code",
   "execution_count": 18,
   "metadata": {},
   "outputs": [
    {
     "name": "stdout",
     "output_type": "stream",
     "text": [
      "\tAROUSAL-s09|Acc=0.865|10-CV=0.606|STD=0.03231|Time spend=41.92472505569458\n",
      "\tVALENCE-s09|Acc=0.96|10-CV=0.52|STD=0.04|Time spend=42.39958953857422\n",
      "\tAROUSAL-s19|Acc=0.68|10-CV=0.68|STD=0.0|Time spend=41.046886920928955\n",
      "\tVALENCE-s19|Acc=0.675|10-CV=0.554|STD=0.03231|Time spend=41.47844839096069\n",
      "\tAROUSAL-s17|Acc=0.835|10-CV=0.608|STD=0.0337|Time spend=40.6726713180542\n",
      "\tVALENCE-s17|Acc=0.97|10-CV=0.556|STD=0.032|Time spend=41.17308521270752\n",
      "\tAROUSAL-s28|Acc=0.96|10-CV=0.488|STD=0.04996|Time spend=38.107471227645874\n",
      "\tVALENCE-s28|Acc=0.93|10-CV=0.618|STD=0.006|Time spend=38.627007722854614\n",
      "\tAROUSAL-s07|Acc=0.99|10-CV=0.62|STD=0.0|Time spend=40.31473398208618\n",
      "\tVALENCE-s07|Acc=0.945|10-CV=0.7|STD=0.0|Time spend=40.72826957702637\n",
      "\tAROUSAL-s11|Acc=0.845|10-CV=0.618|STD=0.006|Time spend=38.902161598205566\n",
      "\tVALENCE-s11|Acc=0.855|10-CV=0.622|STD=0.03516|Time spend=39.37044143676758\n",
      "\tAROUSAL-s25|Acc=0.82|10-CV=0.72|STD=0.0|Time spend=38.689852476119995\n",
      "\tVALENCE-s25|Acc=0.97|10-CV=0.548|STD=0.0337|Time spend=39.23768162727356\n",
      "\tAROUSAL-s24|Acc=0.825|10-CV=0.82|STD=0.0|Time spend=37.99795150756836\n",
      "-----WARNING: Model s24 failed to learn: sum(ans)=200.0 sum(y)=165.0 len(y)=200\n",
      "\tVALENCE-s24|Acc=0.96|10-CV=0.506|STD=0.03583|Time spend=38.48217058181763\n",
      "\tAROUSAL-s04|Acc=0.88|10-CV=0.6|STD=0.01549|Time spend=40.094310998916626\n",
      "\tVALENCE-s04|Acc=0.86|10-CV=0.59|STD=0.02049|Time spend=40.52320957183838\n",
      "\tAROUSAL-s16|Acc=1.0|10-CV=0.554|STD=0.05936|Time spend=39.924798011779785\n",
      "\tVALENCE-s16|Acc=0.99|10-CV=0.614|STD=0.00917|Time spend=40.43250894546509\n",
      "\tAROUSAL-s29|Acc=0.86|10-CV=0.614|STD=0.00917|Time spend=40.66183376312256\n",
      "\tVALENCE-s29|Acc=0.89|10-CV=0.582|STD=0.026|Time spend=41.08276438713074\n",
      "\tAROUSAL-s26|Acc=0.97|10-CV=0.56|STD=0.05215|Time spend=39.052303075790405\n",
      "\tVALENCE-s26|Acc=0.855|10-CV=0.646|STD=0.00917|Time spend=39.6178560256958\n",
      "\tAROUSAL-s15|Acc=0.995|10-CV=0.53|STD=0.05385|Time spend=39.441285371780396\n",
      "\tVALENCE-s15|Acc=1.0|10-CV=0.596|STD=0.06248|Time spend=39.962427377700806\n",
      "\tAROUSAL-s21|Acc=0.86|10-CV=0.8|STD=0.0|Time spend=39.029035806655884\n",
      "\tVALENCE-s21|Acc=0.985|10-CV=0.49|STD=0.05158|Time spend=39.41818165779114\n",
      "\tAROUSAL-s30|Acc=0.905|10-CV=0.63|STD=0.07225|Time spend=49.29766511917114\n",
      "\tVALENCE-s30|Acc=0.835|10-CV=0.678|STD=0.014|Time spend=49.78374457359314\n",
      "\tAROUSAL-s27|Acc=0.97|10-CV=0.68|STD=0.0|Time spend=46.63227033615112\n",
      "\tVALENCE-s27|Acc=0.97|10-CV=0.746|STD=0.00917|Time spend=47.14221215248108\n",
      "\tAROUSAL-s31|Acc=1.0|10-CV=0.61|STD=0.06083|Time spend=40.71962928771973\n",
      "\tVALENCE-s31|Acc=0.99|10-CV=0.602|STD=0.02088|Time spend=41.251068353652954\n",
      "\tAROUSAL-s10|Acc=0.995|10-CV=0.568|STD=0.02713|Time spend=49.16326308250427\n",
      "\tVALENCE-s10|Acc=0.995|10-CV=0.61|STD=0.04837|Time spend=49.70803260803223\n",
      "\tAROUSAL-s22|Acc=0.785|10-CV=0.594|STD=0.038|Time spend=55.479636430740356\n",
      "\tVALENCE-s22|Acc=0.875|10-CV=0.552|STD=0.02713|Time spend=55.96986627578735\n",
      "\tAROUSAL-s18|Acc=0.94|10-CV=0.622|STD=0.006|Time spend=84.7621202468872\n",
      "\tVALENCE-s18|Acc=0.965|10-CV=0.596|STD=0.008|Time spend=85.30328440666199\n",
      "\tAROUSAL-s02|Acc=0.855|10-CV=0.62|STD=0.0429|Time spend=80.28926944732666\n",
      "\tVALENCE-s02|Acc=0.85|10-CV=0.61|STD=0.04025|Time spend=80.79135966300964\n",
      "\tAROUSAL-s20|Acc=0.91|10-CV=0.78|STD=0.0|Time spend=76.31791853904724\n",
      "\tVALENCE-s20|Acc=0.985|10-CV=0.578|STD=0.02088|Time spend=76.80315256118774\n",
      "\tAROUSAL-s06|Acc=0.98|10-CV=0.59|STD=0.03493|Time spend=46.105385303497314\n",
      "\tVALENCE-s06|Acc=0.87|10-CV=0.746|STD=0.00917|Time spend=46.64287519454956\n",
      "\tAROUSAL-s23|Acc=0.96|10-CV=0.75|STD=0.01|Time spend=41.98184394836426\n",
      "\tVALENCE-s23|Acc=0.995|10-CV=0.646|STD=0.00917|Time spend=42.506983041763306\n",
      "\tAROUSAL-s03|Acc=0.87|10-CV=0.8|STD=0.0|Time spend=42.12129092216492\n",
      "\tVALENCE-s03|Acc=0.995|10-CV=0.522|STD=0.06478|Time spend=42.5371778011322\n",
      "\tAROUSAL-s05|Acc=0.745|10-CV=0.502|STD=0.034|Time spend=44.520936489105225\n",
      "\tVALENCE-s05|Acc=0.69|10-CV=0.592|STD=0.02713|Time spend=44.93972301483154\n",
      "\tAROUSAL-s12|Acc=0.865|10-CV=0.82|STD=0.0|Time spend=47.19494032859802\n",
      "\tVALENCE-s12|Acc=1.0|10-CV=0.532|STD=0.0337|Time spend=47.694092988967896\n",
      "\tAROUSAL-s32|Acc=0.875|10-CV=0.67|STD=0.02049|Time spend=42.61566662788391\n",
      "\tVALENCE-s32|Acc=0.985|10-CV=0.56|STD=0.03347|Time spend=43.09018683433533\n",
      "\tAROUSAL-s08|Acc=0.985|10-CV=0.57|STD=0.01612|Time spend=44.845953941345215\n",
      "\tVALENCE-s08|Acc=0.98|10-CV=0.594|STD=0.02375|Time spend=45.24348998069763\n",
      "\tAROUSAL-s01|Acc=0.96|10-CV=0.588|STD=0.02993|Time spend=49.537238359451294\n",
      "\tVALENCE-s01|Acc=0.995|10-CV=0.482|STD=0.06478|Time spend=50.03964710235596\n",
      "\tAROUSAL-s13|Acc=0.905|10-CV=0.848|STD=0.0098|Time spend=41.171791076660156\n",
      "\tVALENCE-s13|Acc=0.96|10-CV=0.568|STD=0.02227|Time spend=41.65446209907532\n",
      "\tAROUSAL-s14|Acc=0.885|10-CV=0.678|STD=0.006|Time spend=44.675087451934814\n",
      "\tVALENCE-s14|Acc=0.995|10-CV=0.484|STD=0.05571|Time spend=45.20831656455994\n",
      "AROUSAL|Acc=0.8992187500000002|10-CV=0.6480624999999999|STD=0.0225119087407284\n",
      "VALENCE|Acc=0.9304687500000003|10-CV=0.5887500000000001|STD=0.028952568057913488\n",
      "TOTAL|Acc=0.9148437499999998|10-CV=0.61840625|STD=0.025732238399320935\n"
     ]
    }
   ],
   "source": [
    "for text in reports:\n",
    "    if(text == None): continue\n",
    "    print(text)\n",
    "\n",
    "accs.extend(accs_v)\n",
    "cv_means.extend(cv_means_v)\n",
    "cv_stds.extend(cv_stds_v)\n",
    "print(f\"TOTAL|Acc={sum(accs)/len(accs)}|10-CV={sum(cv_means)/len(cv_means)}|STD={sum(cv_stds)/len(cv_stds)}\")"
   ]
  },
  {
   "cell_type": "markdown",
   "metadata": {},
   "source": [
    "## 5. CSP"
   ]
  },
  {
   "cell_type": "code",
   "execution_count": 19,
   "metadata": {},
   "outputs": [],
   "source": [
    "from components.CSP import CSP\n",
    "from mne_features.feature_extraction import FeatureExtractor\n",
    "\n",
    "bands = [(0,4), (4,8), (8,12), (12,30), (30,64)]\n",
    "# [alias_feature_function]__[optional_param]\n",
    "params = dict({\n",
    "    'pow_freq_bands__log':True,\n",
    "    'pow_freq_bands__normalize':False,\n",
    "    'pow_freq_bands__freq_bands':bands\n",
    "})"
   ]
  },
  {
   "cell_type": "code",
   "execution_count": 21,
   "metadata": {},
   "outputs": [
    {
     "data": {
      "application/vnd.jupyter.widget-view+json": {
       "model_id": "8449e23539164f10b0f7a4d5c4e4c09e",
       "version_major": 2,
       "version_minor": 0
      },
      "text/plain": [
       "  0%|          | 0/32 [00:00<?, ?it/s]"
      ]
     },
     "metadata": {},
     "output_type": "display_data"
    },
    {
     "name": "stdout",
     "output_type": "stream",
     "text": [
      "\tAROUSAL-s09|Acc=0.615|10-CV=0.596|STD=0.01497|Time spend=3.580129384994507\n"
     ]
    },
    {
     "name": "stderr",
     "output_type": "stream",
     "text": [
      "/home/st121413/work/EEG-Emotion-Recognition/projects/components/CSP.py:78: ComplexWarning: Casting complex values to real discards the imaginary part\n",
      "  return SFa.astype(np.float32)\n"
     ]
    },
    {
     "name": "stdout",
     "output_type": "stream",
     "text": [
      "-----WARNING: Model s19 failed to learn: sum(ans)=200.0 sum(y)=135.0 len(y)=200\n",
      "\tAROUSAL-s19|Acc=0.675|10-CV=0.676|STD=0.012|Time spend=4.232907056808472\n"
     ]
    },
    {
     "name": "stderr",
     "output_type": "stream",
     "text": [
      "/home/st121413/work/EEG-Emotion-Recognition/projects/components/CSP.py:78: ComplexWarning: Casting complex values to real discards the imaginary part\n",
      "  return SFa.astype(np.float32)\n"
     ]
    },
    {
     "name": "stdout",
     "output_type": "stream",
     "text": [
      "\tAROUSAL-s17|Acc=0.685|10-CV=0.632|STD=0.02227|Time spend=4.206018924713135\n"
     ]
    },
    {
     "name": "stderr",
     "output_type": "stream",
     "text": [
      "/home/st121413/work/EEG-Emotion-Recognition/projects/components/CSP.py:78: ComplexWarning: Casting complex values to real discards the imaginary part\n",
      "  return SFa.astype(np.float32)\n"
     ]
    },
    {
     "name": "stdout",
     "output_type": "stream",
     "text": [
      "\tAROUSAL-s28|Acc=0.985|10-CV=0.982|STD=0.014|Time spend=3.6815807819366455\n"
     ]
    },
    {
     "name": "stderr",
     "output_type": "stream",
     "text": [
      "/home/st121413/work/EEG-Emotion-Recognition/projects/components/CSP.py:78: ComplexWarning: Casting complex values to real discards the imaginary part\n",
      "  return SFa.astype(np.float32)\n"
     ]
    },
    {
     "name": "stdout",
     "output_type": "stream",
     "text": [
      "\tAROUSAL-s07|Acc=0.97|10-CV=0.984|STD=0.012|Time spend=3.1199731826782227\n"
     ]
    },
    {
     "name": "stderr",
     "output_type": "stream",
     "text": [
      "/home/st121413/work/EEG-Emotion-Recognition/projects/components/CSP.py:78: ComplexWarning: Casting complex values to real discards the imaginary part\n",
      "  return SFa.astype(np.float32)\n"
     ]
    },
    {
     "name": "stdout",
     "output_type": "stream",
     "text": [
      "\tAROUSAL-s11|Acc=0.99|10-CV=0.984|STD=0.012|Time spend=4.056191682815552\n"
     ]
    },
    {
     "name": "stderr",
     "output_type": "stream",
     "text": [
      "/home/st121413/work/EEG-Emotion-Recognition/projects/components/CSP.py:78: ComplexWarning: Casting complex values to real discards the imaginary part\n",
      "  return SFa.astype(np.float32)\n"
     ]
    },
    {
     "name": "stdout",
     "output_type": "stream",
     "text": [
      "-----WARNING: Model s25 failed to learn: sum(ans)=200.0 sum(y)=145.0 len(y)=200\n",
      "\tAROUSAL-s25|Acc=0.725|10-CV=0.708|STD=0.02561|Time spend=3.0734646320343018\n"
     ]
    },
    {
     "name": "stderr",
     "output_type": "stream",
     "text": [
      "/home/st121413/work/EEG-Emotion-Recognition/projects/components/CSP.py:78: ComplexWarning: Casting complex values to real discards the imaginary part\n",
      "  return SFa.astype(np.float32)\n"
     ]
    },
    {
     "name": "stdout",
     "output_type": "stream",
     "text": [
      "\tAROUSAL-s24|Acc=1.0|10-CV=1.0|STD=0.0|Time spend=3.6739306449890137\n"
     ]
    },
    {
     "name": "stderr",
     "output_type": "stream",
     "text": [
      "/home/st121413/work/EEG-Emotion-Recognition/projects/components/CSP.py:78: ComplexWarning: Casting complex values to real discards the imaginary part\n",
      "  return SFa.astype(np.float32)\n"
     ]
    },
    {
     "name": "stdout",
     "output_type": "stream",
     "text": [
      "\tAROUSAL-s04|Acc=0.605|10-CV=0.574|STD=0.02973|Time spend=3.6429331302642822\n"
     ]
    },
    {
     "name": "stderr",
     "output_type": "stream",
     "text": [
      "/home/st121413/work/EEG-Emotion-Recognition/projects/components/CSP.py:78: ComplexWarning: Casting complex values to real discards the imaginary part\n",
      "  return SFa.astype(np.float32)\n"
     ]
    },
    {
     "name": "stdout",
     "output_type": "stream",
     "text": [
      "\tAROUSAL-s16|Acc=0.775|10-CV=0.736|STD=0.04543|Time spend=3.7710041999816895\n"
     ]
    },
    {
     "name": "stderr",
     "output_type": "stream",
     "text": [
      "/home/st121413/work/EEG-Emotion-Recognition/projects/components/CSP.py:78: ComplexWarning: Casting complex values to real discards the imaginary part\n",
      "  return SFa.astype(np.float32)\n"
     ]
    },
    {
     "name": "stdout",
     "output_type": "stream",
     "text": [
      "\tAROUSAL-s29|Acc=1.0|10-CV=1.0|STD=0.0|Time spend=3.8929970264434814\n"
     ]
    },
    {
     "name": "stderr",
     "output_type": "stream",
     "text": [
      "/home/st121413/work/EEG-Emotion-Recognition/projects/components/CSP.py:78: ComplexWarning: Casting complex values to real discards the imaginary part\n",
      "  return SFa.astype(np.float32)\n"
     ]
    },
    {
     "name": "stdout",
     "output_type": "stream",
     "text": [
      "\tAROUSAL-s26|Acc=0.76|10-CV=0.738|STD=0.07181|Time spend=3.774315357208252\n"
     ]
    },
    {
     "name": "stderr",
     "output_type": "stream",
     "text": [
      "/home/st121413/work/EEG-Emotion-Recognition/projects/components/CSP.py:78: ComplexWarning: Casting complex values to real discards the imaginary part\n",
      "  return SFa.astype(np.float32)\n"
     ]
    },
    {
     "name": "stdout",
     "output_type": "stream",
     "text": [
      "\tAROUSAL-s15|Acc=0.995|10-CV=0.994|STD=0.00917|Time spend=3.531047821044922\n"
     ]
    },
    {
     "name": "stderr",
     "output_type": "stream",
     "text": [
      "/home/st121413/work/EEG-Emotion-Recognition/projects/components/CSP.py:78: ComplexWarning: Casting complex values to real discards the imaginary part\n",
      "  return SFa.astype(np.float32)\n"
     ]
    },
    {
     "name": "stdout",
     "output_type": "stream",
     "text": [
      "\tAROUSAL-s21|Acc=0.995|10-CV=0.994|STD=0.00917|Time spend=4.205883741378784\n"
     ]
    },
    {
     "name": "stderr",
     "output_type": "stream",
     "text": [
      "/home/st121413/work/EEG-Emotion-Recognition/projects/components/CSP.py:78: ComplexWarning: Casting complex values to real discards the imaginary part\n",
      "  return SFa.astype(np.float32)\n"
     ]
    },
    {
     "name": "stdout",
     "output_type": "stream",
     "text": [
      "\tAROUSAL-s30|Acc=0.93|10-CV=0.918|STD=0.034|Time spend=3.7739646434783936\n"
     ]
    },
    {
     "name": "stderr",
     "output_type": "stream",
     "text": [
      "/home/st121413/work/EEG-Emotion-Recognition/projects/components/CSP.py:78: ComplexWarning: Casting complex values to real discards the imaginary part\n",
      "  return SFa.astype(np.float32)\n"
     ]
    },
    {
     "name": "stdout",
     "output_type": "stream",
     "text": [
      "\tAROUSAL-s27|Acc=0.73|10-CV=0.694|STD=0.022|Time spend=2.4672882556915283\n"
     ]
    },
    {
     "name": "stderr",
     "output_type": "stream",
     "text": [
      "/home/st121413/work/EEG-Emotion-Recognition/projects/components/CSP.py:78: ComplexWarning: Casting complex values to real discards the imaginary part\n",
      "  return SFa.astype(np.float32)\n"
     ]
    },
    {
     "name": "stdout",
     "output_type": "stream",
     "text": [
      "\tAROUSAL-s31|Acc=0.995|10-CV=0.994|STD=0.00917|Time spend=3.508226156234741\n"
     ]
    },
    {
     "name": "stderr",
     "output_type": "stream",
     "text": [
      "/home/st121413/work/EEG-Emotion-Recognition/projects/components/CSP.py:78: ComplexWarning: Casting complex values to real discards the imaginary part\n",
      "  return SFa.astype(np.float32)\n"
     ]
    },
    {
     "name": "stdout",
     "output_type": "stream",
     "text": [
      "\tAROUSAL-s10|Acc=0.6|10-CV=0.522|STD=0.07181|Time spend=3.8910927772521973\n"
     ]
    },
    {
     "name": "stderr",
     "output_type": "stream",
     "text": [
      "/home/st121413/work/EEG-Emotion-Recognition/projects/components/CSP.py:78: ComplexWarning: Casting complex values to real discards the imaginary part\n",
      "  return SFa.astype(np.float32)\n"
     ]
    },
    {
     "name": "stdout",
     "output_type": "stream",
     "text": [
      "\tAROUSAL-s22|Acc=0.66|10-CV=0.658|STD=0.05016|Time spend=3.189542055130005\n"
     ]
    },
    {
     "name": "stderr",
     "output_type": "stream",
     "text": [
      "/home/st121413/work/EEG-Emotion-Recognition/projects/components/CSP.py:78: ComplexWarning: Casting complex values to real discards the imaginary part\n",
      "  return SFa.astype(np.float32)\n"
     ]
    },
    {
     "name": "stdout",
     "output_type": "stream",
     "text": [
      "\tAROUSAL-s18|Acc=0.65|10-CV=0.6|STD=0.02366|Time spend=3.234917402267456\n"
     ]
    },
    {
     "name": "stderr",
     "output_type": "stream",
     "text": [
      "/home/st121413/work/EEG-Emotion-Recognition/projects/components/CSP.py:78: ComplexWarning: Casting complex values to real discards the imaginary part\n",
      "  return SFa.astype(np.float32)\n"
     ]
    },
    {
     "name": "stdout",
     "output_type": "stream",
     "text": [
      "\tAROUSAL-s02|Acc=0.61|10-CV=0.596|STD=0.008|Time spend=3.8878982067108154\n"
     ]
    },
    {
     "name": "stderr",
     "output_type": "stream",
     "text": [
      "/home/st121413/work/EEG-Emotion-Recognition/projects/components/CSP.py:78: ComplexWarning: Casting complex values to real discards the imaginary part\n",
      "  return SFa.astype(np.float32)\n"
     ]
    },
    {
     "name": "stdout",
     "output_type": "stream",
     "text": [
      "-----WARNING: Model s20 failed to learn: sum(ans)=200.0 sum(y)=155.0 len(y)=200\n",
      "\tAROUSAL-s20|Acc=0.775|10-CV=0.78|STD=0.0|Time spend=3.9758152961730957\n"
     ]
    },
    {
     "name": "stderr",
     "output_type": "stream",
     "text": [
      "/home/st121413/work/EEG-Emotion-Recognition/projects/components/CSP.py:78: ComplexWarning: Casting complex values to real discards the imaginary part\n",
      "  return SFa.astype(np.float32)\n"
     ]
    },
    {
     "name": "stdout",
     "output_type": "stream",
     "text": [
      "\tAROUSAL-s06|Acc=0.61|10-CV=0.59|STD=0.03256|Time spend=3.138651132583618\n"
     ]
    },
    {
     "name": "stderr",
     "output_type": "stream",
     "text": [
      "/home/st121413/work/EEG-Emotion-Recognition/projects/components/CSP.py:78: ComplexWarning: Casting complex values to real discards the imaginary part\n",
      "  return SFa.astype(np.float32)\n"
     ]
    },
    {
     "name": "stdout",
     "output_type": "stream",
     "text": [
      "-----WARNING: Model s23 failed to learn: sum(ans)=0.0 sum(y)=50.0 len(y)=200\n",
      "\tAROUSAL-s23|Acc=0.75|10-CV=0.75|STD=0.01|Time spend=3.820876359939575\n"
     ]
    },
    {
     "name": "stderr",
     "output_type": "stream",
     "text": [
      "/home/st121413/work/EEG-Emotion-Recognition/projects/components/CSP.py:78: ComplexWarning: Casting complex values to real discards the imaginary part\n",
      "  return SFa.astype(np.float32)\n"
     ]
    },
    {
     "name": "stdout",
     "output_type": "stream",
     "text": [
      "\tAROUSAL-s03|Acc=1.0|10-CV=1.0|STD=0.0|Time spend=3.595802068710327\n"
     ]
    },
    {
     "name": "stderr",
     "output_type": "stream",
     "text": [
      "/home/st121413/work/EEG-Emotion-Recognition/projects/components/CSP.py:78: ComplexWarning: Casting complex values to real discards the imaginary part\n",
      "  return SFa.astype(np.float32)\n"
     ]
    },
    {
     "name": "stdout",
     "output_type": "stream",
     "text": [
      "\tAROUSAL-s05|Acc=0.91|10-CV=0.878|STD=0.0328|Time spend=3.0328235626220703\n"
     ]
    },
    {
     "name": "stderr",
     "output_type": "stream",
     "text": [
      "/home/st121413/work/EEG-Emotion-Recognition/projects/components/CSP.py:78: ComplexWarning: Casting complex values to real discards the imaginary part\n",
      "  return SFa.astype(np.float32)\n"
     ]
    },
    {
     "name": "stdout",
     "output_type": "stream",
     "text": [
      "-----WARNING: Model s12 failed to learn: sum(ans)=200.0 sum(y)=165.0 len(y)=200\n",
      "\tAROUSAL-s12|Acc=0.825|10-CV=0.82|STD=0.0|Time spend=4.066279411315918\n"
     ]
    },
    {
     "name": "stderr",
     "output_type": "stream",
     "text": [
      "/home/st121413/work/EEG-Emotion-Recognition/projects/components/CSP.py:78: ComplexWarning: Casting complex values to real discards the imaginary part\n",
      "  return SFa.astype(np.float32)\n"
     ]
    },
    {
     "name": "stdout",
     "output_type": "stream",
     "text": [
      "\tAROUSAL-s32|Acc=0.945|10-CV=0.936|STD=0.03555|Time spend=3.596444606781006\n"
     ]
    },
    {
     "name": "stderr",
     "output_type": "stream",
     "text": [
      "/home/st121413/work/EEG-Emotion-Recognition/projects/components/CSP.py:78: ComplexWarning: Casting complex values to real discards the imaginary part\n",
      "  return SFa.astype(np.float32)\n"
     ]
    },
    {
     "name": "stdout",
     "output_type": "stream",
     "text": [
      "\tAROUSAL-s08|Acc=0.965|10-CV=0.928|STD=0.02857|Time spend=4.08339786529541\n"
     ]
    },
    {
     "name": "stderr",
     "output_type": "stream",
     "text": [
      "/home/st121413/work/EEG-Emotion-Recognition/projects/components/CSP.py:78: ComplexWarning: Casting complex values to real discards the imaginary part\n",
      "  return SFa.astype(np.float32)\n"
     ]
    },
    {
     "name": "stdout",
     "output_type": "stream",
     "text": [
      "-----WARNING: Model s01 failed to learn: sum(ans)=200.0 sum(y)=120.0 len(y)=200\n",
      "\tAROUSAL-s01|Acc=0.6|10-CV=0.6|STD=0.0|Time spend=3.7735888957977295\n"
     ]
    },
    {
     "name": "stderr",
     "output_type": "stream",
     "text": [
      "/home/st121413/work/EEG-Emotion-Recognition/projects/components/CSP.py:78: ComplexWarning: Casting complex values to real discards the imaginary part\n",
      "  return SFa.astype(np.float32)\n"
     ]
    },
    {
     "name": "stdout",
     "output_type": "stream",
     "text": [
      "-----WARNING: Model s13 failed to learn: sum(ans)=200.0 sum(y)=170.0 len(y)=200\n",
      "\tAROUSAL-s13|Acc=0.85|10-CV=0.848|STD=0.0098|Time spend=3.4031143188476562\n"
     ]
    },
    {
     "name": "stderr",
     "output_type": "stream",
     "text": [
      "/home/st121413/work/EEG-Emotion-Recognition/projects/components/CSP.py:78: ComplexWarning: Casting complex values to real discards the imaginary part\n",
      "  return SFa.astype(np.float32)\n"
     ]
    },
    {
     "name": "stdout",
     "output_type": "stream",
     "text": [
      "\tAROUSAL-s14|Acc=0.94|10-CV=0.938|STD=0.03027|Time spend=3.3983869552612305\n",
      "AROUSAL|Acc=0.8162499999999999|10-CV=0.8014999999999999|STD=0.021140178539897192\n"
     ]
    }
   ],
   "source": [
    "accs, cv_means, cv_stds = [],[],[]\n",
    "for filename in tqdm(dataset.get_file_list()):\n",
    "\n",
    "    data, labels, groups = dataset.get_data(filename, stimuli=Dataset_subjectDependent.STIMULI_AROUSAL, return_type='numpy')\n",
    "    labels = labels.squeeze()\n",
    "    start = time.time()\n",
    "    filters = CSP(data[labels==0], data[labels==1])\n",
    "    \n",
    "    csp_data = []\n",
    "    for index in range(len(data)):\n",
    "        \n",
    "        # (672, 32) @ (32, 32) = (672, 32)\n",
    "        csp = data[index].T @ filters[labels[index].astype(int)]\n",
    "        # (1, 32, 672)\n",
    "        csp = np.expand_dims(csp.T, axis=0)\n",
    "        csp_data.append(csp)\n",
    "\n",
    "    csp_data = np.vstack(csp_data)\n",
    "    # print(csp_data.shape) => (2400, 32, 128)\n",
    "    fe = FeatureExtractor(sfreq=128, selected_funcs=['pow_freq_bands'],params=params,n_jobs=8)\n",
    "    X = fe.fit_transform(X=csp_data)\n",
    "    # print(X.shape, time.time() - start) => (2400, 160) 1.2374355792999268\n",
    "\n",
    "    assert X.shape[1] == 160\n",
    "    _, acc, cross = train_model(X, labels.reshape(-1), groups, filename=filename)\n",
    "    print(f\"\\tAROUSAL-{filename}|Acc={round(acc,5)}|10-CV={round(cross.mean(),5)}|STD={round(cross.std(),5)}|Time spend={time.time() - start}\")\n",
    "    accs.append(acc)\n",
    "    cv_means.append(cross.mean())\n",
    "    cv_stds.append(cross.std())\n",
    "print(f\"AROUSAL|Acc={sum(accs)/len(accs)}|10-CV={sum(cv_means)/len(cv_means)}|STD={sum(cv_stds)/len(cv_stds)}\")"
   ]
  },
  {
   "cell_type": "code",
   "execution_count": 22,
   "metadata": {},
   "outputs": [
    {
     "data": {
      "application/vnd.jupyter.widget-view+json": {
       "model_id": "8c676497663641ec8de8d41f70f050a1",
       "version_major": 2,
       "version_minor": 0
      },
      "text/plain": [
       "  0%|          | 0/32 [00:00<?, ?it/s]"
      ]
     },
     "metadata": {},
     "output_type": "display_data"
    },
    {
     "name": "stderr",
     "output_type": "stream",
     "text": [
      "/home/st121413/work/EEG-Emotion-Recognition/projects/components/CSP.py:78: ComplexWarning: Casting complex values to real discards the imaginary part\n",
      "  return SFa.astype(np.float32)\n"
     ]
    },
    {
     "name": "stdout",
     "output_type": "stream",
     "text": [
      "\tVALENCE-s09|Acc=1.0|10-CV=1.0|STD=0.0|Time spend=3.7624807357788086\n"
     ]
    },
    {
     "name": "stderr",
     "output_type": "stream",
     "text": [
      "/home/st121413/work/EEG-Emotion-Recognition/projects/components/CSP.py:78: ComplexWarning: Casting complex values to real discards the imaginary part\n",
      "  return SFa.astype(np.float32)\n"
     ]
    },
    {
     "name": "stdout",
     "output_type": "stream",
     "text": [
      "\tVALENCE-s19|Acc=0.635|10-CV=0.626|STD=0.03353|Time spend=3.8512470722198486\n"
     ]
    },
    {
     "name": "stderr",
     "output_type": "stream",
     "text": [
      "/home/st121413/work/EEG-Emotion-Recognition/projects/components/CSP.py:78: ComplexWarning: Casting complex values to real discards the imaginary part\n",
      "  return SFa.astype(np.float32)\n"
     ]
    },
    {
     "name": "stdout",
     "output_type": "stream",
     "text": [
      "\tVALENCE-s17|Acc=0.61|10-CV=0.58|STD=0.04472|Time spend=2.5267832279205322\n"
     ]
    },
    {
     "name": "stderr",
     "output_type": "stream",
     "text": [
      "/home/st121413/work/EEG-Emotion-Recognition/projects/components/CSP.py:78: ComplexWarning: Casting complex values to real discards the imaginary part\n",
      "  return SFa.astype(np.float32)\n"
     ]
    },
    {
     "name": "stdout",
     "output_type": "stream",
     "text": [
      "\tVALENCE-s28|Acc=0.675|10-CV=0.634|STD=0.04477|Time spend=3.7551841735839844\n"
     ]
    },
    {
     "name": "stderr",
     "output_type": "stream",
     "text": [
      "/home/st121413/work/EEG-Emotion-Recognition/projects/components/CSP.py:78: ComplexWarning: Casting complex values to real discards the imaginary part\n",
      "  return SFa.astype(np.float32)\n"
     ]
    },
    {
     "name": "stdout",
     "output_type": "stream",
     "text": [
      "-----WARNING: Model s07 failed to learn: sum(ans)=200.0 sum(y)=140.0 len(y)=200\n",
      "\tVALENCE-s07|Acc=0.7|10-CV=0.7|STD=0.0|Time spend=4.2745561599731445\n"
     ]
    },
    {
     "name": "stderr",
     "output_type": "stream",
     "text": [
      "/home/st121413/work/EEG-Emotion-Recognition/projects/components/CSP.py:78: ComplexWarning: Casting complex values to real discards the imaginary part\n",
      "  return SFa.astype(np.float32)\n"
     ]
    },
    {
     "name": "stdout",
     "output_type": "stream",
     "text": [
      "\tVALENCE-s11|Acc=0.975|10-CV=0.968|STD=0.01833|Time spend=3.4680633544921875\n"
     ]
    },
    {
     "name": "stderr",
     "output_type": "stream",
     "text": [
      "/home/st121413/work/EEG-Emotion-Recognition/projects/components/CSP.py:78: ComplexWarning: Casting complex values to real discards the imaginary part\n",
      "  return SFa.astype(np.float32)\n"
     ]
    },
    {
     "name": "stdout",
     "output_type": "stream",
     "text": [
      "\tVALENCE-s25|Acc=0.995|10-CV=0.996|STD=0.008|Time spend=3.8086209297180176\n"
     ]
    },
    {
     "name": "stderr",
     "output_type": "stream",
     "text": [
      "/home/st121413/work/EEG-Emotion-Recognition/projects/components/CSP.py:78: ComplexWarning: Casting complex values to real discards the imaginary part\n",
      "  return SFa.astype(np.float32)\n"
     ]
    },
    {
     "name": "stdout",
     "output_type": "stream",
     "text": [
      "\tVALENCE-s24|Acc=1.0|10-CV=1.0|STD=0.0|Time spend=3.567070960998535\n"
     ]
    },
    {
     "name": "stderr",
     "output_type": "stream",
     "text": [
      "/home/st121413/work/EEG-Emotion-Recognition/projects/components/CSP.py:78: ComplexWarning: Casting complex values to real discards the imaginary part\n",
      "  return SFa.astype(np.float32)\n"
     ]
    },
    {
     "name": "stdout",
     "output_type": "stream",
     "text": [
      "\tVALENCE-s04|Acc=0.705|10-CV=0.648|STD=0.05528|Time spend=4.0377357006073\n"
     ]
    },
    {
     "name": "stderr",
     "output_type": "stream",
     "text": [
      "/home/st121413/work/EEG-Emotion-Recognition/projects/components/CSP.py:78: ComplexWarning: Casting complex values to real discards the imaginary part\n",
      "  return SFa.astype(np.float32)\n"
     ]
    },
    {
     "name": "stdout",
     "output_type": "stream",
     "text": [
      "\tVALENCE-s16|Acc=0.825|10-CV=0.822|STD=0.0328|Time spend=2.7154977321624756\n"
     ]
    },
    {
     "name": "stderr",
     "output_type": "stream",
     "text": [
      "/home/st121413/work/EEG-Emotion-Recognition/projects/components/CSP.py:78: ComplexWarning: Casting complex values to real discards the imaginary part\n",
      "  return SFa.astype(np.float32)\n"
     ]
    },
    {
     "name": "stdout",
     "output_type": "stream",
     "text": [
      "\tVALENCE-s29|Acc=1.0|10-CV=1.0|STD=0.0|Time spend=3.235196113586426\n"
     ]
    },
    {
     "name": "stderr",
     "output_type": "stream",
     "text": [
      "/home/st121413/work/EEG-Emotion-Recognition/projects/components/CSP.py:78: ComplexWarning: Casting complex values to real discards the imaginary part\n",
      "  return SFa.astype(np.float32)\n"
     ]
    },
    {
     "name": "stdout",
     "output_type": "stream",
     "text": [
      "-----WARNING: Model s26 failed to learn: sum(ans)=200.0 sum(y)=130.0 len(y)=200\n",
      "\tVALENCE-s26|Acc=0.65|10-CV=0.616|STD=0.03774|Time spend=3.1482439041137695\n"
     ]
    },
    {
     "name": "stderr",
     "output_type": "stream",
     "text": [
      "/home/st121413/work/EEG-Emotion-Recognition/projects/components/CSP.py:78: ComplexWarning: Casting complex values to real discards the imaginary part\n",
      "  return SFa.astype(np.float32)\n"
     ]
    },
    {
     "name": "stdout",
     "output_type": "stream",
     "text": [
      "\tVALENCE-s15|Acc=0.66|10-CV=0.628|STD=0.02993|Time spend=2.9711837768554688\n"
     ]
    },
    {
     "name": "stderr",
     "output_type": "stream",
     "text": [
      "/home/st121413/work/EEG-Emotion-Recognition/projects/components/CSP.py:78: ComplexWarning: Casting complex values to real discards the imaginary part\n",
      "  return SFa.astype(np.float32)\n"
     ]
    },
    {
     "name": "stdout",
     "output_type": "stream",
     "text": [
      "\tVALENCE-s21|Acc=0.97|10-CV=0.962|STD=0.02088|Time spend=2.8022797107696533\n"
     ]
    },
    {
     "name": "stderr",
     "output_type": "stream",
     "text": [
      "/home/st121413/work/EEG-Emotion-Recognition/projects/components/CSP.py:78: ComplexWarning: Casting complex values to real discards the imaginary part\n",
      "  return SFa.astype(np.float32)\n"
     ]
    },
    {
     "name": "stdout",
     "output_type": "stream",
     "text": [
      "-----WARNING: Model s30 failed to learn: sum(ans)=200.0 sum(y)=135.0 len(y)=200\n",
      "\tVALENCE-s30|Acc=0.675|10-CV=0.682|STD=0.006|Time spend=3.1026053428649902\n"
     ]
    },
    {
     "name": "stderr",
     "output_type": "stream",
     "text": [
      "/home/st121413/work/EEG-Emotion-Recognition/projects/components/CSP.py:78: ComplexWarning: Casting complex values to real discards the imaginary part\n",
      "  return SFa.astype(np.float32)\n"
     ]
    },
    {
     "name": "stdout",
     "output_type": "stream",
     "text": [
      "\tVALENCE-s27|Acc=0.765|10-CV=0.744|STD=0.008|Time spend=3.7798402309417725\n"
     ]
    },
    {
     "name": "stderr",
     "output_type": "stream",
     "text": [
      "/home/st121413/work/EEG-Emotion-Recognition/projects/components/CSP.py:78: ComplexWarning: Casting complex values to real discards the imaginary part\n",
      "  return SFa.astype(np.float32)\n"
     ]
    },
    {
     "name": "stdout",
     "output_type": "stream",
     "text": [
      "\tVALENCE-s31|Acc=0.995|10-CV=0.994|STD=0.00917|Time spend=3.4117214679718018\n"
     ]
    },
    {
     "name": "stderr",
     "output_type": "stream",
     "text": [
      "/home/st121413/work/EEG-Emotion-Recognition/projects/components/CSP.py:78: ComplexWarning: Casting complex values to real discards the imaginary part\n",
      "  return SFa.astype(np.float32)\n"
     ]
    },
    {
     "name": "stdout",
     "output_type": "stream",
     "text": [
      "\tVALENCE-s10|Acc=0.99|10-CV=0.99|STD=0.01342|Time spend=3.7924420833587646\n"
     ]
    },
    {
     "name": "stderr",
     "output_type": "stream",
     "text": [
      "/home/st121413/work/EEG-Emotion-Recognition/projects/components/CSP.py:78: ComplexWarning: Casting complex values to real discards the imaginary part\n",
      "  return SFa.astype(np.float32)\n"
     ]
    },
    {
     "name": "stdout",
     "output_type": "stream",
     "text": [
      "\tVALENCE-s22|Acc=0.7|10-CV=0.666|STD=0.04104|Time spend=3.8197901248931885\n"
     ]
    },
    {
     "name": "stderr",
     "output_type": "stream",
     "text": [
      "/home/st121413/work/EEG-Emotion-Recognition/projects/components/CSP.py:78: ComplexWarning: Casting complex values to real discards the imaginary part\n",
      "  return SFa.astype(np.float32)\n"
     ]
    },
    {
     "name": "stdout",
     "output_type": "stream",
     "text": [
      "\tVALENCE-s18|Acc=0.61|10-CV=0.582|STD=0.03027|Time spend=3.2313809394836426\n"
     ]
    },
    {
     "name": "stderr",
     "output_type": "stream",
     "text": [
      "/home/st121413/work/EEG-Emotion-Recognition/projects/components/CSP.py:78: ComplexWarning: Casting complex values to real discards the imaginary part\n",
      "  return SFa.astype(np.float32)\n"
     ]
    },
    {
     "name": "stdout",
     "output_type": "stream",
     "text": [
      "\tVALENCE-s02|Acc=0.565|10-CV=0.552|STD=0.016|Time spend=3.0869524478912354\n"
     ]
    },
    {
     "name": "stderr",
     "output_type": "stream",
     "text": [
      "/home/st121413/work/EEG-Emotion-Recognition/projects/components/CSP.py:78: ComplexWarning: Casting complex values to real discards the imaginary part\n",
      "  return SFa.astype(np.float32)\n"
     ]
    },
    {
     "name": "stdout",
     "output_type": "stream",
     "text": [
      "\tVALENCE-s20|Acc=0.98|10-CV=0.958|STD=0.02441|Time spend=3.1818840503692627\n"
     ]
    },
    {
     "name": "stderr",
     "output_type": "stream",
     "text": [
      "/home/st121413/work/EEG-Emotion-Recognition/projects/components/CSP.py:78: ComplexWarning: Casting complex values to real discards the imaginary part\n",
      "  return SFa.astype(np.float32)\n"
     ]
    },
    {
     "name": "stdout",
     "output_type": "stream",
     "text": [
      "-----WARNING: Model s06 failed to learn: sum(ans)=200.0 sum(y)=150.0 len(y)=200\n",
      "\tVALENCE-s06|Acc=0.75|10-CV=0.744|STD=0.012|Time spend=3.9438860416412354\n"
     ]
    },
    {
     "name": "stderr",
     "output_type": "stream",
     "text": [
      "/home/st121413/work/EEG-Emotion-Recognition/projects/components/CSP.py:78: ComplexWarning: Casting complex values to real discards the imaginary part\n",
      "  return SFa.astype(np.float32)\n"
     ]
    },
    {
     "name": "stdout",
     "output_type": "stream",
     "text": [
      "-----WARNING: Model s23 failed to learn: sum(ans)=200.0 sum(y)=130.0 len(y)=200\n",
      "\tVALENCE-s23|Acc=0.65|10-CV=0.642|STD=0.01661|Time spend=3.3573379516601562\n"
     ]
    },
    {
     "name": "stderr",
     "output_type": "stream",
     "text": [
      "/home/st121413/work/EEG-Emotion-Recognition/projects/components/CSP.py:78: ComplexWarning: Casting complex values to real discards the imaginary part\n",
      "  return SFa.astype(np.float32)\n"
     ]
    },
    {
     "name": "stdout",
     "output_type": "stream",
     "text": [
      "\tVALENCE-s03|Acc=0.66|10-CV=0.638|STD=0.04512|Time spend=2.869231939315796\n"
     ]
    },
    {
     "name": "stderr",
     "output_type": "stream",
     "text": [
      "/home/st121413/work/EEG-Emotion-Recognition/projects/components/CSP.py:78: ComplexWarning: Casting complex values to real discards the imaginary part\n",
      "  return SFa.astype(np.float32)\n"
     ]
    },
    {
     "name": "stdout",
     "output_type": "stream",
     "text": [
      "\tVALENCE-s05|Acc=0.895|10-CV=0.85|STD=0.04025|Time spend=3.722120761871338\n"
     ]
    },
    {
     "name": "stderr",
     "output_type": "stream",
     "text": [
      "/home/st121413/work/EEG-Emotion-Recognition/projects/components/CSP.py:78: ComplexWarning: Casting complex values to real discards the imaginary part\n",
      "  return SFa.astype(np.float32)\n"
     ]
    },
    {
     "name": "stdout",
     "output_type": "stream",
     "text": [
      "\tVALENCE-s12|Acc=0.86|10-CV=0.836|STD=0.03441|Time spend=3.3202381134033203\n"
     ]
    },
    {
     "name": "stderr",
     "output_type": "stream",
     "text": [
      "/home/st121413/work/EEG-Emotion-Recognition/projects/components/CSP.py:78: ComplexWarning: Casting complex values to real discards the imaginary part\n",
      "  return SFa.astype(np.float32)\n"
     ]
    },
    {
     "name": "stdout",
     "output_type": "stream",
     "text": [
      "\tVALENCE-s32|Acc=0.665|10-CV=0.654|STD=0.05219|Time spend=3.800529718399048\n"
     ]
    },
    {
     "name": "stderr",
     "output_type": "stream",
     "text": [
      "/home/st121413/work/EEG-Emotion-Recognition/projects/components/CSP.py:78: ComplexWarning: Casting complex values to real discards the imaginary part\n",
      "  return SFa.astype(np.float32)\n"
     ]
    },
    {
     "name": "stdout",
     "output_type": "stream",
     "text": [
      "\tVALENCE-s08|Acc=0.99|10-CV=0.964|STD=0.02154|Time spend=2.954144239425659\n"
     ]
    },
    {
     "name": "stderr",
     "output_type": "stream",
     "text": [
      "/home/st121413/work/EEG-Emotion-Recognition/projects/components/CSP.py:78: ComplexWarning: Casting complex values to real discards the imaginary part\n",
      "  return SFa.astype(np.float32)\n"
     ]
    },
    {
     "name": "stdout",
     "output_type": "stream",
     "text": [
      "\tVALENCE-s01|Acc=0.865|10-CV=0.854|STD=0.03693|Time spend=3.614772081375122\n"
     ]
    },
    {
     "name": "stderr",
     "output_type": "stream",
     "text": [
      "/home/st121413/work/EEG-Emotion-Recognition/projects/components/CSP.py:78: ComplexWarning: Casting complex values to real discards the imaginary part\n",
      "  return SFa.astype(np.float32)\n"
     ]
    },
    {
     "name": "stdout",
     "output_type": "stream",
     "text": [
      "\tVALENCE-s13|Acc=0.77|10-CV=0.758|STD=0.01887|Time spend=3.4072134494781494\n"
     ]
    },
    {
     "name": "stderr",
     "output_type": "stream",
     "text": [
      "/home/st121413/work/EEG-Emotion-Recognition/projects/components/CSP.py:78: ComplexWarning: Casting complex values to real discards the imaginary part\n",
      "  return SFa.astype(np.float32)\n"
     ]
    },
    {
     "name": "stdout",
     "output_type": "stream",
     "text": [
      "\tVALENCE-s14|Acc=0.67|10-CV=0.604|STD=0.04964|Time spend=2.9661331176757812\n",
      "VALENCE|Acc=0.79546875|10-CV=0.7778749999999999|STD=0.02505748019302341\n"
     ]
    }
   ],
   "source": [
    "accs_v, cv_means_v, cv_stds_v = [],[],[]\n",
    "for filename in tqdm(dataset.get_file_list()):\n",
    "\n",
    "    data, labels, groups = dataset.get_data(filename, stimuli=Dataset_subjectDependent.STIMULI_VALENCE, return_type='numpy')\n",
    "    labels = labels.squeeze()\n",
    "    start = time.time()\n",
    "    filters = CSP(data[labels==0], data[labels==1])\n",
    "    \n",
    "    csp_data = []\n",
    "    for index in range(len(data)):\n",
    "        \n",
    "        # (672, 32) @ (32, 32) = (672, 32)\n",
    "        csp = data[index].T @ filters[labels[index].astype(int)]\n",
    "        # (1, 32, 672)\n",
    "        csp = np.expand_dims(csp.T, axis=0)\n",
    "        csp_data.append(csp)\n",
    "\n",
    "    csp_data = np.vstack(csp_data)\n",
    "    # print(csp_data.shape) => (2400, 32, 128)\n",
    "    fe = FeatureExtractor(sfreq=128, selected_funcs=['pow_freq_bands'],params=params,n_jobs=8)\n",
    "    X = fe.fit_transform(X=csp_data)\n",
    "    # print(X.shape, time.time() - start) => (2400, 160) 1.2374355792999268\n",
    "\n",
    "    assert X.shape[1] == 160\n",
    "    _, acc, cross = train_model(X, labels.reshape(-1), groups, filename=filename)\n",
    "    print(f\"\\tVALENCE-{filename}|Acc={round(acc,5)}|10-CV={round(cross.mean(),5)}|STD={round(cross.std(),5)}|Time spend={time.time() - start}\")\n",
    "    accs_v.append(acc)\n",
    "    cv_means_v.append(cross.mean())\n",
    "    cv_stds_v.append(cross.std())\n",
    "print(f\"VALENCE|Acc={sum(accs_v)/len(accs_v)}|10-CV={sum(cv_means_v)/len(cv_means_v)}|STD={sum(cv_stds_v)/len(cv_stds_v)}\")"
   ]
  },
  {
   "cell_type": "code",
   "execution_count": 23,
   "metadata": {},
   "outputs": [
    {
     "name": "stdout",
     "output_type": "stream",
     "text": [
      "TOTAL|Acc=0.8058593749999999|10-CV=0.7896875|STD=0.023098829366460304\n"
     ]
    }
   ],
   "source": [
    "accs.extend(accs_v)\n",
    "cv_means.extend(cv_means_v)\n",
    "cv_stds.extend(cv_stds_v)\n",
    "\n",
    "print(f\"TOTAL|Acc={sum(accs)/len(accs)}|10-CV={sum(cv_means)/len(cv_means)}|STD={sum(cv_stds)/len(cv_stds)}\")"
   ]
  }
 ],
 "metadata": {
  "interpreter": {
   "hash": "27768773b483d82a9b2b839e3fa80b1be5789db7fd78df4eedef2df266871616"
  },
  "kernelspec": {
   "display_name": "eeg",
   "language": "python",
   "name": "eeg"
  },
  "language_info": {
   "codemirror_mode": {
    "name": "ipython",
    "version": 3
   },
   "file_extension": ".py",
   "mimetype": "text/x-python",
   "name": "python",
   "nbconvert_exporter": "python",
   "pygments_lexer": "ipython3",
   "version": "3.8.3"
  }
 },
 "nbformat": 4,
 "nbformat_minor": 4
}
