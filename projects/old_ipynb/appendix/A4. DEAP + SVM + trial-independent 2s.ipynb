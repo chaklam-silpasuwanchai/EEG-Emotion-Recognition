{
 "cells": [
  {
   "cell_type": "code",
   "execution_count": 1,
   "metadata": {},
   "outputs": [
    {
     "name": "stdout",
     "output_type": "stream",
     "text": [
      "Found: 32 files\n",
      "s01 (1200, 2) [47.5 60. ]\n"
     ]
    }
   ],
   "source": [
    "import time\n",
    "import numpy as np\n",
    "from tqdm.notebook import tqdm\n",
    "\n",
    "from components.dataset_jo import *\n",
    "\n",
    "dataset = Dataset_subjectDependent('data')\n",
    "segment_lenght = 2 #second\n",
    "dataset.set_segment(7680//(128*segment_lenght))\n",
    "for filename in dataset.get_file_list():\n",
    "    data, labels, _ = dataset.get_data(filename, return_type='numpy')\n",
    "    print(filename, labels.shape, labels.sum(axis=0)/labels.shape[0]*100)\n",
    "    break"
   ]
  },
  {
   "cell_type": "code",
   "execution_count": 2,
   "metadata": {},
   "outputs": [],
   "source": [
    "def train_model(X_ori,y_ori,groups_ori,filename=None, kernel='rbf',return_text=False):\n",
    "    # Make a copy because I am paranoid\n",
    "    X,y,groups = X_ori.copy(), y_ori.copy(), groups_ori.copy()\n",
    "\n",
    "    from sklearn.svm import SVC\n",
    "    from sklearn.model_selection import GroupShuffleSplit \n",
    "    from sklearn.model_selection import cross_val_score\n",
    "\n",
    "    model = SVC(kernel=kernel,max_iter=50000)\n",
    "    cv = GroupShuffleSplit(n_splits=10, train_size=0.75, random_state=0)\n",
    "    cross = cross_val_score(model, X, y, cv=cv,groups=groups, n_jobs=8)\n",
    "    \n",
    "    # We probably dont need this\n",
    "    model = SVC(kernel=kernel, max_iter=50000)\n",
    "    model.fit(X, y)\n",
    "    ans = model.predict(X)\n",
    "    acc = sum(ans == y) / len(y)\n",
    "    # If the model answer with all 0 or 1, we print this message\n",
    "    text = None\n",
    "    if( sum(ans) == len(y) or sum(ans) == 0 ): \n",
    "        text = f\"-----WARNING: Model {filename} failed to learn: sum(ans)={sum(ans)} sum(y)={sum(y)} len(y)={len(y)}\"\n",
    "    if(return_text):\n",
    "        return model, acc, cross, text\n",
    "    else:\n",
    "        if(text != None): print(text)\n",
    "        return model, acc, cross"
   ]
  },
  {
   "cell_type": "markdown",
   "metadata": {},
   "source": [
    "## 2. Spectral Features"
   ]
  },
  {
   "cell_type": "code",
   "execution_count": 3,
   "metadata": {},
   "outputs": [],
   "source": [
    "from mne_features.feature_extraction import FeatureExtractor"
   ]
  },
  {
   "cell_type": "code",
   "execution_count": 4,
   "metadata": {},
   "outputs": [
    {
     "name": "stdout",
     "output_type": "stream",
     "text": [
      "\tAROUSAL-s01|Acc=0.74|10-CV=0.539|STD=0.13676|Time spend=31.936970472335815\n",
      "\tAROUSAL-s02|Acc=0.64417|10-CV=0.54767|STD=0.07573|Time spend=1.0269865989685059\n",
      "-----WARNING: Model s03 failed to learn: sum(ans)=0.0 sum(y)=240.0 len(y)=1200\n",
      "\tAROUSAL-s03|Acc=0.8|10-CV=0.73|STD=0.15524|Time spend=0.8959026336669922\n",
      "\tAROUSAL-s04|Acc=0.66667|10-CV=0.53167|STD=0.10024|Time spend=1.0146362781524658\n",
      "\tAROUSAL-s05|Acc=0.62|10-CV=0.42367|STD=0.1024|Time spend=1.0432641506195068\n",
      "\tAROUSAL-s06|Acc=0.64|10-CV=0.523|STD=0.13136|Time spend=1.06235933303833\n",
      "\tAROUSAL-s07|Acc=0.69|10-CV=0.60933|STD=0.10012|Time spend=1.1035740375518799\n",
      "\tAROUSAL-s08|Acc=0.70833|10-CV=0.418|STD=0.11587|Time spend=1.2086389064788818\n",
      "\tAROUSAL-s09|Acc=0.6625|10-CV=0.51533|STD=0.08214|Time spend=1.130753517150879\n",
      "\tAROUSAL-s10|Acc=0.73917|10-CV=0.55933|STD=0.09027|Time spend=1.0242671966552734\n",
      "\tAROUSAL-s11|Acc=0.62833|10-CV=0.59033|STD=0.05513|Time spend=1.024167537689209\n",
      "-----WARNING: Model s12 failed to learn: sum(ans)=1200.0 sum(y)=990.0 len(y)=1200\n",
      "\tAROUSAL-s12|Acc=0.825|10-CV=0.83|STD=0.1005|Time spend=0.9284958839416504\n",
      "-----WARNING: Model s13 failed to learn: sum(ans)=1200.0 sum(y)=1020.0 len(y)=1200\n",
      "\tAROUSAL-s13|Acc=0.85|10-CV=0.84|STD=0.06633|Time spend=0.8413252830505371\n",
      "-----WARNING: Model s14 failed to learn: sum(ans)=1200.0 sum(y)=810.0 len(y)=1200\n",
      "\tAROUSAL-s14|Acc=0.675|10-CV=0.65|STD=0.10247|Time spend=0.9741237163543701\n",
      "\tAROUSAL-s15|Acc=0.72083|10-CV=0.57567|STD=0.10095|Time spend=1.0117239952087402\n",
      "\tAROUSAL-s16|Acc=0.76583|10-CV=0.568|STD=0.0782|Time spend=1.0135366916656494\n",
      "\tAROUSAL-s17|Acc=0.72833|10-CV=0.62|STD=0.05467|Time spend=1.008577585220337\n",
      "\tAROUSAL-s18|Acc=0.6775|10-CV=0.548|STD=0.09926|Time spend=0.9778296947479248\n",
      "\tAROUSAL-s19|Acc=0.68083|10-CV=0.62667|STD=0.1285|Time spend=0.965524435043335\n",
      "-----WARNING: Model s20 failed to learn: sum(ans)=1200.0 sum(y)=930.0 len(y)=1200\n",
      "\tAROUSAL-s20|Acc=0.775|10-CV=0.82|STD=0.08718|Time spend=0.9695618152618408\n",
      "-----WARNING: Model s21 failed to learn: sum(ans)=1200.0 sum(y)=960.0 len(y)=1200\n",
      "\tAROUSAL-s21|Acc=0.8|10-CV=0.8|STD=0.1|Time spend=0.9389569759368896\n",
      "\tAROUSAL-s22|Acc=0.62083|10-CV=0.59267|STD=0.07292|Time spend=1.0525450706481934\n",
      "-----WARNING: Model s23 failed to learn: sum(ans)=0.0 sum(y)=300.0 len(y)=1200\n",
      "\tAROUSAL-s23|Acc=0.75|10-CV=0.77967|STD=0.09758|Time spend=1.008718490600586\n",
      "-----WARNING: Model s24 failed to learn: sum(ans)=1200.0 sum(y)=990.0 len(y)=1200\n",
      "\tAROUSAL-s24|Acc=0.825|10-CV=0.82|STD=0.07483|Time spend=0.9369213581085205\n",
      "-----WARNING: Model s25 failed to learn: sum(ans)=1200.0 sum(y)=870.0 len(y)=1200\n",
      "\tAROUSAL-s25|Acc=0.725|10-CV=0.73933|STD=0.12672|Time spend=1.0051040649414062\n",
      "\tAROUSAL-s26|Acc=0.6275|10-CV=0.51633|STD=0.111|Time spend=1.1461780071258545\n",
      "\tAROUSAL-s27|Acc=0.70417|10-CV=0.62633|STD=0.09517|Time spend=1.0053436756134033\n",
      "\tAROUSAL-s28|Acc=0.62667|10-CV=0.49|STD=0.1094|Time spend=1.1083123683929443\n",
      "\tAROUSAL-s29|Acc=0.67583|10-CV=0.53033|STD=0.08407|Time spend=1.077331304550171\n",
      "\tAROUSAL-s30|Acc=0.63917|10-CV=0.47733|STD=0.07909|Time spend=1.1021296977996826\n",
      "\tAROUSAL-s31|Acc=0.71583|10-CV=0.582|STD=0.10303|Time spend=1.054027795791626\n",
      "-----WARNING: Model s32 failed to learn: sum(ans)=1200.0 sum(y)=810.0 len(y)=1200\n",
      "\tAROUSAL-s32|Acc=0.675|10-CV=0.67933|STD=0.10999|Time spend=1.0404791831970215\n",
      "AROUSAL|Acc=0.7069531250000001|10-CV=0.61559375|STD=0.09772223933058433\n",
      "\tVALENCE-s01|Acc=0.69583|10-CV=0.47833|STD=0.07528|Time spend=0.8694415092468262\n",
      "\tVALENCE-s02|Acc=0.70417|10-CV=0.60367|STD=0.11633|Time spend=0.7980360984802246\n",
      "\tVALENCE-s03|Acc=0.71917|10-CV=0.51067|STD=0.15976|Time spend=0.9215145111083984\n",
      "\tVALENCE-s04|Acc=0.68833|10-CV=0.54167|STD=0.09091|Time spend=0.7933275699615479\n",
      "\tVALENCE-s05|Acc=0.65167|10-CV=0.538|STD=0.0684|Time spend=0.8291146755218506\n",
      "\tVALENCE-s06|Acc=0.75083|10-CV=0.71667|STD=0.07291|Time spend=0.7664248943328857\n",
      "\tVALENCE-s07|Acc=0.70917|10-CV=0.64333|STD=0.12157|Time spend=0.7750718593597412\n",
      "\tVALENCE-s08|Acc=0.70167|10-CV=0.47967|STD=0.08951|Time spend=0.8445079326629639\n",
      "\tVALENCE-s09|Acc=0.76417|10-CV=0.62533|STD=0.08133|Time spend=0.8229584693908691\n",
      "\tVALENCE-s10|Acc=0.79333|10-CV=0.72933|STD=0.08611|Time spend=0.7502353191375732\n",
      "\tVALENCE-s11|Acc=0.6375|10-CV=0.525|STD=0.13441|Time spend=0.8282570838928223\n",
      "\tVALENCE-s12|Acc=0.69333|10-CV=0.52067|STD=0.1109|Time spend=0.8180270195007324\n",
      "\tVALENCE-s13|Acc=0.78|10-CV=0.72467|STD=0.11449|Time spend=0.7283926010131836\n",
      "\tVALENCE-s14|Acc=0.76167|10-CV=0.63967|STD=0.07379|Time spend=0.7744369506835938\n",
      "\tVALENCE-s15|Acc=0.82833|10-CV=0.737|STD=0.06972|Time spend=0.7368841171264648\n",
      "\tVALENCE-s16|Acc=0.7525|10-CV=0.666|STD=0.09643|Time spend=0.8855931758880615\n",
      "\tVALENCE-s17|Acc=0.64417|10-CV=0.43533|STD=0.106|Time spend=0.881864070892334\n",
      "\tVALENCE-s18|Acc=0.80833|10-CV=0.687|STD=0.06208|Time spend=0.7507505416870117\n",
      "\tVALENCE-s19|Acc=0.69667|10-CV=0.49067|STD=0.13373|Time spend=0.8063440322875977\n",
      "\tVALENCE-s20|Acc=0.76583|10-CV=0.623|STD=0.13336|Time spend=0.788665771484375\n",
      "\tVALENCE-s21|Acc=0.645|10-CV=0.45067|STD=0.0887|Time spend=0.8465826511383057\n",
      "\tVALENCE-s22|Acc=0.70833|10-CV=0.64433|STD=0.10164|Time spend=0.8117837905883789\n",
      "\tVALENCE-s23|Acc=0.7125|10-CV=0.583|STD=0.11118|Time spend=0.8248693943023682\n",
      "\tVALENCE-s24|Acc=0.625|10-CV=0.47467|STD=0.13882|Time spend=0.9054789543151855\n",
      "\tVALENCE-s25|Acc=0.66333|10-CV=0.44233|STD=0.10318|Time spend=0.8817751407623291\n",
      "-----WARNING: Model s26 failed to learn: sum(ans)=1200.0 sum(y)=780.0 len(y)=1200\n",
      "\tVALENCE-s26|Acc=0.65|10-CV=0.591|STD=0.11138|Time spend=0.8862342834472656\n",
      "\tVALENCE-s27|Acc=0.755|10-CV=0.667|STD=0.12336|Time spend=0.7367777824401855\n",
      "\tVALENCE-s28|Acc=0.67833|10-CV=0.527|STD=0.10848|Time spend=0.9307372570037842\n",
      "\tVALENCE-s29|Acc=0.70917|10-CV=0.50367|STD=0.07512|Time spend=0.8423678874969482\n",
      "-----WARNING: Model s30 failed to learn: sum(ans)=1200.0 sum(y)=810.0 len(y)=1200\n",
      "\tVALENCE-s30|Acc=0.675|10-CV=0.61967|STD=0.14634|Time spend=0.9052274227142334\n",
      "\tVALENCE-s31|Acc=0.64417|10-CV=0.48667|STD=0.10125|Time spend=0.9335455894470215\n",
      "\tVALENCE-s32|Acc=0.6575|10-CV=0.43867|STD=0.1013|Time spend=0.9885683059692383\n",
      "VALENCE|Acc=0.7084374999999999|10-CV=0.5732604166666667|STD=0.10336819569835323\n",
      "TOTAL|Acc=0.7076953124999998|10-CV=0.5944270833333333|STD=0.10054521751446878\n"
     ]
    }
   ],
   "source": [
    "bands = [(0,4), (4,8), (8,12), (12,30), (30,64)]\n",
    "# [alias_feature_function]__[optional_param]\n",
    "params = dict({\n",
    "    'pow_freq_bands__log':True,\n",
    "    'pow_freq_bands__normalize':False,\n",
    "    'pow_freq_bands__freq_bands':bands\n",
    "})\n",
    "\n",
    "\n",
    "accs,cv_means,cv_stds  = [],[],[]\n",
    "# count = 0\n",
    "for filename in dataset.get_file_list():\n",
    "    start = time.time()\n",
    "    data, labels, groups = dataset.get_data(filename, stimuli=Dataset_subjectDependent.STIMULI_AROUSAL, return_type='numpy')\n",
    "    fe = FeatureExtractor(sfreq=128, selected_funcs=['pow_freq_bands'],params=params,n_jobs=8)\n",
    "    X = fe.fit_transform(X=data)\n",
    "    _, acc, cross = train_model(X, labels.reshape(-1), groups,filename=filename)\n",
    "    print(f\"\\tAROUSAL-{filename}|Acc={round(acc,5)}|10-CV={round(cross.mean(),5)}|STD={round(cross.std(),5)}|Time spend={time.time() - start}\")\n",
    "    accs.append(acc)\n",
    "    cv_means.append(cross.mean())\n",
    "    cv_stds.append(cross.std())\n",
    "    # count+=1\n",
    "    # if(count == 5): break\n",
    "print(f\"AROUSAL|Acc={sum(accs)/len(accs)}|10-CV={sum(cv_means)/len(cv_means)}|STD={sum(cv_stds)/len(cv_stds)}\")\n",
    "\n",
    "accs_v,cv_means_v,cv_stds_v  = [],[],[]\n",
    "# count=0\n",
    "for filename in dataset.get_file_list():\n",
    "    start = time.time()\n",
    "    data, labels, groups = dataset.get_data(filename, stimuli=Dataset_subjectDependent.STIMULI_VALENCE, return_type='numpy')\n",
    "    fe = FeatureExtractor(sfreq=128, selected_funcs=['pow_freq_bands'],params=params,n_jobs=8)\n",
    "    X = fe.fit_transform(X=data)\n",
    "    _, acc, cross = train_model(X, labels.reshape(-1), groups,filename=filename)\n",
    "    print(f\"\\tVALENCE-{filename}|Acc={round(acc,5)}|10-CV={round(cross.mean(),5)}|STD={round(cross.std(),5)}|Time spend={time.time() - start}\")\n",
    "    accs_v.append(acc)\n",
    "    cv_means_v.append(cross.mean())\n",
    "    cv_stds_v.append(cross.std())\n",
    "    # count+=1\n",
    "    # if(count == 5): break\n",
    "print(f\"VALENCE|Acc={sum(accs_v)/len(accs_v)}|10-CV={sum(cv_means_v)/len(cv_means_v)}|STD={sum(cv_stds_v)/len(cv_stds_v)}\")\n",
    "\n",
    "accs.extend(accs_v)\n",
    "cv_means.extend(cv_means_v)\n",
    "cv_stds.extend(cv_stds_v)\n",
    "print(f\"TOTAL|Acc={sum(accs)/len(accs)}|10-CV={sum(cv_means)/len(cv_means)}|STD={sum(cv_stds)/len(cv_stds)}\")"
   ]
  },
  {
   "cell_type": "markdown",
   "metadata": {},
   "source": [
    "## 3. Asymetry"
   ]
  },
  {
   "cell_type": "code",
   "execution_count": 5,
   "metadata": {},
   "outputs": [
    {
     "name": "stdout",
     "output_type": "stream",
     "text": [
      "left_channel_indexes=[0, 3, 2, 7, 11, 6, 10, 13, 1, 4, 5, 8, 9, 12]\n",
      "right_channel_indexes=[16, 20, 19, 25, 29, 24, 28, 31, 17, 21, 22, 26, 27, 30]\n",
      "frontal_channel_indexes=[4, 5, 22, 21, 3, 2, 18, 19, 20, 0, 16]\n",
      "posterior_channel_indexes=[8, 9, 27, 26, 11, 10, 15, 28, 29, 13, 31]\n"
     ]
    }
   ],
   "source": [
    "channels = ['Fp1','AF3','F3','F7','FC5','FC1','C3','T7','CP5','CP1','P3','P7','PO3','O1','Oz','Pz','Fp2','AF4','Fz','F4','F8','FC6','FC2','Cz','C4','T8','CP6','CP2','P4','P8','PO4','O2']\n",
    "left_channels = ['Fp1','F7','F3','T7','P7','C3','P3','O1','AF3','FC5','FC1','CP5','CP1','PO3']\n",
    "right_channels = ['Fp2','F8','F4','T8','P8','C4','P4','O2','AF4','FC6','FC2','CP6','CP2','PO4']\n",
    "left_channel_indexes = [ channels.index(ch) for ch in left_channels ]\n",
    "right_channel_indexes = [ channels.index(ch) for ch in right_channels ]\n",
    "\n",
    "print(f\"{left_channel_indexes=}\")\n",
    "print(f\"{right_channel_indexes=}\")\n",
    "\n",
    "frontal_channels = ['FC5','FC1','FC2','FC6','F7','F3','Fz','F4','F8','Fp1','Fp2']\n",
    "posterior_channels = ['CP5','CP1','CP2','CP6','P7','P3','Pz','P4','P8','O1','O2']\n",
    "\n",
    "frontal_channel_indexes = [ channels.index(ch) for ch in frontal_channels ]\n",
    "posterior_channel_indexes = [ channels.index(ch) for ch in posterior_channels ]\n",
    "\n",
    "print(f\"{frontal_channel_indexes=}\")\n",
    "print(f\"{posterior_channel_indexes=}\")"
   ]
  },
  {
   "cell_type": "code",
   "execution_count": 6,
   "metadata": {},
   "outputs": [
    {
     "name": "stdout",
     "output_type": "stream",
     "text": [
      "-----WARNING: Model s01 failed to learn: sum(ans)=1200.0 sum(y)=720.0 len(y)=1200\n",
      "\tAROUSAL-s01-DASM|Acc=0.6|10-CV=0.536|STD=0.12927|Time spend=0.6508145332336426\n",
      "\tAROUSAL-s01-RASM|Acc=0.6025|10-CV=0.55933|STD=0.15561|Time spend=0.782059907913208\n",
      "\tAROUSAL-s01-DCAU|Acc=0.6|10-CV=0.51867|STD=0.11925|Time spend=0.906517744064331\n",
      "\tAROUSAL-s02-DASM|Acc=0.6275|10-CV=0.53067|STD=0.07698|Time spend=0.5706417560577393\n",
      "\tAROUSAL-s02-RASM|Acc=0.6025|10-CV=0.57867|STD=0.15197|Time spend=0.6914501190185547\n",
      "\tAROUSAL-s02-DCAU|Acc=0.62167|10-CV=0.52933|STD=0.07669|Time spend=0.8130218982696533\n",
      "-----WARNING: Model s03 failed to learn: sum(ans)=0.0 sum(y)=240.0 len(y)=1200\n",
      "\tAROUSAL-s03-DASM|Acc=0.8|10-CV=0.73|STD=0.15524|Time spend=0.5361099243164062\n",
      "\tAROUSAL-s03-RASM|Acc=0.8025|10-CV=0.72967|STD=0.15488|Time spend=0.623300313949585\n",
      "-----WARNING: Model s03 failed to learn: sum(ans)=0.0 sum(y)=240.0 len(y)=1200\n",
      "\tAROUSAL-s03-DCAU|Acc=0.8|10-CV=0.73|STD=0.15524|Time spend=0.726020097732544\n",
      "\tAROUSAL-s04-DASM|Acc=0.64833|10-CV=0.551|STD=0.12443|Time spend=0.5542876720428467\n",
      "\tAROUSAL-s04-RASM|Acc=0.60083|10-CV=0.53567|STD=0.21847|Time spend=0.6962690353393555\n",
      "\tAROUSAL-s04-DCAU|Acc=0.64417|10-CV=0.551|STD=0.12104|Time spend=0.826566219329834\n",
      "\tAROUSAL-s05-DASM|Acc=0.59667|10-CV=0.436|STD=0.09983|Time spend=0.581265926361084\n",
      "\tAROUSAL-s05-RASM|Acc=0.53333|10-CV=0.378|STD=0.07663|Time spend=0.7157857418060303\n",
      "\tAROUSAL-s05-DCAU|Acc=0.58667|10-CV=0.43433|STD=0.1057|Time spend=0.8458786010742188\n",
      "\tAROUSAL-s06-DASM|Acc=0.62417|10-CV=0.534|STD=0.14655|Time spend=0.5806665420532227\n",
      "\tAROUSAL-s06-RASM|Acc=0.58|10-CV=0.54033|STD=0.14893|Time spend=0.7067720890045166\n",
      "\tAROUSAL-s06-DCAU|Acc=0.61667|10-CV=0.53467|STD=0.14768|Time spend=0.8309457302093506\n",
      "\tAROUSAL-s07-DASM|Acc=0.62917|10-CV=0.62733|STD=0.11602|Time spend=0.5974323749542236\n",
      "\tAROUSAL-s07-RASM|Acc=0.62667|10-CV=0.64733|STD=0.14089|Time spend=0.7319910526275635\n",
      "-----WARNING: Model s07 failed to learn: sum(ans)=1200.0 sum(y)=750.0 len(y)=1200\n",
      "\tAROUSAL-s07-DCAU|Acc=0.625|10-CV=0.63633|STD=0.12389|Time spend=0.8617403507232666\n",
      "\tAROUSAL-s08-DASM|Acc=0.6275|10-CV=0.43033|STD=0.10441|Time spend=0.5447952747344971\n",
      "\tAROUSAL-s08-RASM|Acc=0.58667|10-CV=0.507|STD=0.14043|Time spend=0.6710085868835449\n",
      "\tAROUSAL-s08-DCAU|Acc=0.65167|10-CV=0.43467|STD=0.10258|Time spend=0.7924737930297852\n",
      "\tAROUSAL-s09-DASM|Acc=0.66667|10-CV=0.523|STD=0.0902|Time spend=0.5283174514770508\n",
      "\tAROUSAL-s09-RASM|Acc=0.62083|10-CV=0.50667|STD=0.09205|Time spend=0.6497550010681152\n",
      "\tAROUSAL-s09-DCAU|Acc=0.62917|10-CV=0.49533|STD=0.08714|Time spend=0.7759346961975098\n",
      "\tAROUSAL-s10-DASM|Acc=0.66417|10-CV=0.53|STD=0.05352|Time spend=0.5560140609741211\n",
      "\tAROUSAL-s10-RASM|Acc=0.56167|10-CV=0.442|STD=0.10509|Time spend=0.7102336883544922\n",
      "\tAROUSAL-s10-DCAU|Acc=0.65583|10-CV=0.53567|STD=0.06125|Time spend=0.8418984413146973\n",
      "-----WARNING: Model s11 failed to learn: sum(ans)=0.0 sum(y)=450.0 len(y)=1200\n",
      "\tAROUSAL-s11-DASM|Acc=0.625|10-CV=0.60133|STD=0.06176|Time spend=0.5421144962310791\n",
      "\tAROUSAL-s11-RASM|Acc=0.62667|10-CV=0.62833|STD=0.10595|Time spend=0.6566498279571533\n",
      "-----WARNING: Model s11 failed to learn: sum(ans)=0.0 sum(y)=450.0 len(y)=1200\n",
      "\tAROUSAL-s11-DCAU|Acc=0.625|10-CV=0.59433|STD=0.05661|Time spend=0.7843091487884521\n",
      "-----WARNING: Model s12 failed to learn: sum(ans)=1200.0 sum(y)=990.0 len(y)=1200\n",
      "\tAROUSAL-s12-DASM|Acc=0.825|10-CV=0.83|STD=0.1005|Time spend=0.6445934772491455\n",
      "\tAROUSAL-s12-RASM|Acc=0.8275|10-CV=0.83|STD=0.1005|Time spend=0.7181746959686279\n",
      "-----WARNING: Model s12 failed to learn: sum(ans)=1200.0 sum(y)=990.0 len(y)=1200\n",
      "\tAROUSAL-s12-DCAU|Acc=0.825|10-CV=0.83|STD=0.1005|Time spend=0.8640778064727783\n",
      "-----WARNING: Model s13 failed to learn: sum(ans)=1200.0 sum(y)=1020.0 len(y)=1200\n",
      "\tAROUSAL-s13-DASM|Acc=0.85|10-CV=0.84|STD=0.06633|Time spend=0.6183533668518066\n",
      "\tAROUSAL-s13-RASM|Acc=0.85083|10-CV=0.84|STD=0.06633|Time spend=0.701117992401123\n",
      "-----WARNING: Model s13 failed to learn: sum(ans)=1200.0 sum(y)=1020.0 len(y)=1200\n",
      "\tAROUSAL-s13-DCAU|Acc=0.85|10-CV=0.84|STD=0.06633|Time spend=0.824681282043457\n",
      "-----WARNING: Model s14 failed to learn: sum(ans)=1200.0 sum(y)=810.0 len(y)=1200\n",
      "\tAROUSAL-s14-DASM|Acc=0.675|10-CV=0.65|STD=0.10247|Time spend=0.6582543849945068\n",
      "\tAROUSAL-s14-RASM|Acc=0.67583|10-CV=0.64967|STD=0.10296|Time spend=0.7695398330688477\n",
      "-----WARNING: Model s14 failed to learn: sum(ans)=1200.0 sum(y)=810.0 len(y)=1200\n",
      "\tAROUSAL-s14-DCAU|Acc=0.675|10-CV=0.65|STD=0.10247|Time spend=0.9074790477752686\n",
      "\tAROUSAL-s15-DASM|Acc=0.66417|10-CV=0.53133|STD=0.07575|Time spend=0.5280823707580566\n",
      "\tAROUSAL-s15-RASM|Acc=0.52667|10-CV=0.43|STD=0.1005|Time spend=0.658238410949707\n",
      "\tAROUSAL-s15-DCAU|Acc=0.66333|10-CV=0.53667|STD=0.08189|Time spend=0.7863144874572754\n",
      "\tAROUSAL-s16-DASM|Acc=0.63417|10-CV=0.45567|STD=0.09684|Time spend=0.5867531299591064\n",
      "\tAROUSAL-s16-RASM|Acc=0.50417|10-CV=0.35233|STD=0.08761|Time spend=0.7232968807220459\n",
      "\tAROUSAL-s16-DCAU|Acc=0.63333|10-CV=0.44267|STD=0.1013|Time spend=0.8453621864318848\n",
      "\tAROUSAL-s17-DASM|Acc=0.69083|10-CV=0.61833|STD=0.08376|Time spend=0.5276191234588623\n",
      "\tAROUSAL-s17-RASM|Acc=0.6125|10-CV=0.56733|STD=0.09206|Time spend=0.6494390964508057\n",
      "\tAROUSAL-s17-DCAU|Acc=0.665|10-CV=0.58233|STD=0.08701|Time spend=0.7627866268157959\n",
      "\tAROUSAL-s18-DASM|Acc=0.64083|10-CV=0.556|STD=0.10281|Time spend=0.5516440868377686\n",
      "-----WARNING: Model s18 failed to learn: sum(ans)=1200.0 sum(y)=750.0 len(y)=1200\n",
      "\tAROUSAL-s18-RASM|Acc=0.625|10-CV=0.594|STD=0.12932|Time spend=0.6672909259796143\n",
      "\tAROUSAL-s18-DCAU|Acc=0.63083|10-CV=0.56367|STD=0.1013|Time spend=0.7853105068206787\n",
      "\tAROUSAL-s19-DASM|Acc=0.67917|10-CV=0.62967|STD=0.13387|Time spend=0.5945920944213867\n",
      "\tAROUSAL-s19-RASM|Acc=0.67667|10-CV=0.63|STD=0.13454|Time spend=0.7124569416046143\n",
      "\tAROUSAL-s19-DCAU|Acc=0.6825|10-CV=0.627|STD=0.13003|Time spend=0.8471400737762451\n",
      "-----WARNING: Model s20 failed to learn: sum(ans)=1200.0 sum(y)=930.0 len(y)=1200\n",
      "\tAROUSAL-s20-DASM|Acc=0.775|10-CV=0.82|STD=0.08718|Time spend=0.5487985610961914\n",
      "\tAROUSAL-s20-RASM|Acc=0.77583|10-CV=0.81967|STD=0.08764|Time spend=0.6317758560180664\n",
      "-----WARNING: Model s20 failed to learn: sum(ans)=1200.0 sum(y)=930.0 len(y)=1200\n",
      "\tAROUSAL-s20-DCAU|Acc=0.775|10-CV=0.82|STD=0.08718|Time spend=0.7816205024719238\n",
      "-----WARNING: Model s21 failed to learn: sum(ans)=1200.0 sum(y)=960.0 len(y)=1200\n",
      "\tAROUSAL-s21-DASM|Acc=0.8|10-CV=0.8|STD=0.1|Time spend=0.537914514541626\n",
      "\tAROUSAL-s21-RASM|Acc=0.80417|10-CV=0.79967|STD=0.09967|Time spend=0.6420602798461914\n",
      "-----WARNING: Model s21 failed to learn: sum(ans)=1200.0 sum(y)=960.0 len(y)=1200\n",
      "\tAROUSAL-s21-DCAU|Acc=0.8|10-CV=0.8|STD=0.1|Time spend=0.7639322280883789\n",
      "\tAROUSAL-s22-DASM|Acc=0.62|10-CV=0.59667|STD=0.07154|Time spend=0.5584826469421387\n",
      "\tAROUSAL-s22-RASM|Acc=0.60167|10-CV=0.61|STD=0.07|Time spend=0.6706593036651611\n",
      "\tAROUSAL-s22-DCAU|Acc=0.60583|10-CV=0.59233|STD=0.06952|Time spend=0.8112814426422119\n",
      "-----WARNING: Model s23 failed to learn: sum(ans)=0.0 sum(y)=300.0 len(y)=1200\n",
      "\tAROUSAL-s23-DASM|Acc=0.75|10-CV=0.78|STD=0.09798|Time spend=0.5604000091552734\n",
      "\tAROUSAL-s23-RASM|Acc=0.75333|10-CV=0.77733|STD=0.09715|Time spend=0.6543176174163818\n",
      "-----WARNING: Model s23 failed to learn: sum(ans)=0.0 sum(y)=300.0 len(y)=1200\n",
      "\tAROUSAL-s23-DCAU|Acc=0.75|10-CV=0.78|STD=0.09798|Time spend=0.7639143466949463\n",
      "-----WARNING: Model s24 failed to learn: sum(ans)=1200.0 sum(y)=990.0 len(y)=1200\n",
      "\tAROUSAL-s24-DASM|Acc=0.825|10-CV=0.82|STD=0.07483|Time spend=0.5356466770172119\n",
      "\tAROUSAL-s24-RASM|Acc=0.82667|10-CV=0.82|STD=0.07483|Time spend=0.6133601665496826\n",
      "-----WARNING: Model s24 failed to learn: sum(ans)=1200.0 sum(y)=990.0 len(y)=1200\n",
      "\tAROUSAL-s24-DCAU|Acc=0.825|10-CV=0.82|STD=0.07483|Time spend=0.7396740913391113\n",
      "-----WARNING: Model s25 failed to learn: sum(ans)=1200.0 sum(y)=870.0 len(y)=1200\n",
      "\tAROUSAL-s25-DASM|Acc=0.725|10-CV=0.739|STD=0.12605|Time spend=0.5599303245544434\n",
      "\tAROUSAL-s25-RASM|Acc=0.72667|10-CV=0.74|STD=0.12806|Time spend=0.670881986618042\n",
      "-----WARNING: Model s25 failed to learn: sum(ans)=1200.0 sum(y)=870.0 len(y)=1200\n",
      "\tAROUSAL-s25-DCAU|Acc=0.725|10-CV=0.73967|STD=0.12739|Time spend=0.7901625633239746\n",
      "\tAROUSAL-s26-DASM|Acc=0.62833|10-CV=0.54167|STD=0.11497|Time spend=0.5542926788330078\n",
      "\tAROUSAL-s26-RASM|Acc=0.58167|10-CV=0.51767|STD=0.16491|Time spend=0.6873338222503662\n",
      "\tAROUSAL-s26-DCAU|Acc=0.62333|10-CV=0.53067|STD=0.11389|Time spend=0.8109948635101318\n",
      "\tAROUSAL-s27-DASM|Acc=0.6825|10-CV=0.64033|STD=0.10254|Time spend=0.5344417095184326\n",
      "\tAROUSAL-s27-RASM|Acc=0.68|10-CV=0.64833|STD=0.11049|Time spend=0.652965784072876\n",
      "-----WARNING: Model s27 failed to learn: sum(ans)=1200.0 sum(y)=810.0 len(y)=1200\n",
      "\tAROUSAL-s27-DCAU|Acc=0.675|10-CV=0.64733|STD=0.10895|Time spend=0.7756128311157227\n",
      "\tAROUSAL-s28-DASM|Acc=0.57917|10-CV=0.443|STD=0.1339|Time spend=0.572697639465332\n",
      "-----WARNING: Model s28 failed to learn: sum(ans)=0.0 sum(y)=540.0 len(y)=1200\n",
      "\tAROUSAL-s28-RASM|Acc=0.55|10-CV=0.39933|STD=0.15039|Time spend=0.6986849308013916\n",
      "\tAROUSAL-s28-DCAU|Acc=0.5675|10-CV=0.44633|STD=0.13157|Time spend=0.8319501876831055\n",
      "\tAROUSAL-s29-DASM|Acc=0.63417|10-CV=0.52867|STD=0.08868|Time spend=0.5679078102111816\n",
      "\tAROUSAL-s29-RASM|Acc=0.62667|10-CV=0.52967|STD=0.08937|Time spend=0.6991231441497803\n",
      "\tAROUSAL-s29-DCAU|Acc=0.6275|10-CV=0.52733|STD=0.08801|Time spend=0.8283264636993408\n",
      "\tAROUSAL-s30-DASM|Acc=0.60083|10-CV=0.443|STD=0.07861|Time spend=0.6246073246002197\n",
      "\tAROUSAL-s30-RASM|Acc=0.5275|10-CV=0.40033|STD=0.07754|Time spend=0.7799563407897949\n",
      "\tAROUSAL-s30-DCAU|Acc=0.6075|10-CV=0.444|STD=0.07477|Time spend=0.9263772964477539\n",
      "\tAROUSAL-s31-DASM|Acc=0.67167|10-CV=0.57567|STD=0.12466|Time spend=0.7482688426971436\n",
      "\tAROUSAL-s31-RASM|Acc=0.53417|10-CV=0.45333|STD=0.12532|Time spend=0.8713529109954834\n",
      "\tAROUSAL-s31-DCAU|Acc=0.65833|10-CV=0.54433|STD=0.12377|Time spend=0.991173267364502\n",
      "-----WARNING: Model s32 failed to learn: sum(ans)=1200.0 sum(y)=810.0 len(y)=1200\n",
      "\tAROUSAL-s32-DASM|Acc=0.675|10-CV=0.73167|STD=0.12005|Time spend=0.5410583019256592\n",
      "\tAROUSAL-s32-RASM|Acc=0.67583|10-CV=0.75|STD=0.13601|Time spend=0.6683623790740967\n",
      "\tAROUSAL-s32-DCAU|Acc=0.67583|10-CV=0.71633|STD=0.11832|Time spend=0.7801856994628906\n",
      "AROUSAL-DASM|Acc=0.6792187500000001|10-CV=0.6125104166666667|STD=0.10129796186062726\n",
      "AROUSAL-RASM|Acc=0.6471093750000001|10-CV=0.6003645833333334|STD=0.11612857652673873\n",
      "AROUSAL-DCAU|Acc=0.6748958333333336|10-CV=0.6085937499999999|STD=0.101377912416928\n",
      "\tVALENCE-s01-DASM|Acc=0.56667|10-CV=0.42667|STD=0.06363|Time spend=0.5518884658813477\n",
      "\tVALENCE-s01-RASM|Acc=0.53333|10-CV=0.43867|STD=0.09148|Time spend=0.6810498237609863\n",
      "\tVALENCE-s01-DCAU|Acc=0.5925|10-CV=0.43033|STD=0.06311|Time spend=0.8248026371002197\n",
      "\tVALENCE-s02-DASM|Acc=0.6725|10-CV=0.56767|STD=0.10073|Time spend=0.5317411422729492\n",
      "\tVALENCE-s02-RASM|Acc=0.55083|10-CV=0.42033|STD=0.10556|Time spend=0.6642706394195557\n",
      "\tVALENCE-s02-DCAU|Acc=0.71|10-CV=0.62467|STD=0.0961|Time spend=0.7722799777984619\n",
      "\tVALENCE-s03-DASM|Acc=0.60167|10-CV=0.451|STD=0.1289|Time spend=0.5411999225616455\n",
      "\tVALENCE-s03-RASM|Acc=0.55833|10-CV=0.40167|STD=0.12297|Time spend=0.677117109298706\n",
      "\tVALENCE-s03-DCAU|Acc=0.60333|10-CV=0.44933|STD=0.12519|Time spend=0.8198273181915283\n",
      "\tVALENCE-s04-DASM|Acc=0.66583|10-CV=0.53567|STD=0.10111|Time spend=0.5241208076477051\n",
      "\tVALENCE-s04-RASM|Acc=0.60083|10-CV=0.488|STD=0.18577|Time spend=0.6663005352020264\n",
      "\tVALENCE-s04-DCAU|Acc=0.66417|10-CV=0.53733|STD=0.1005|Time spend=0.8080523014068604\n",
      "\tVALENCE-s05-DASM|Acc=0.60583|10-CV=0.54867|STD=0.07337|Time spend=0.5740125179290771\n",
      "\tVALENCE-s05-RASM|Acc=0.60417|10-CV=0.605|STD=0.10687|Time spend=0.7057116031646729\n",
      "\tVALENCE-s05-DCAU|Acc=0.62333|10-CV=0.569|STD=0.08781|Time spend=0.8294558525085449\n",
      "-----WARNING: Model s06 failed to learn: sum(ans)=1200.0 sum(y)=900.0 len(y)=1200\n",
      "\tVALENCE-s06-DASM|Acc=0.75|10-CV=0.72|STD=0.07483|Time spend=0.5606708526611328\n",
      "\tVALENCE-s06-RASM|Acc=0.7525|10-CV=0.719|STD=0.07382|Time spend=0.6467454433441162\n",
      "-----WARNING: Model s06 failed to learn: sum(ans)=1200.0 sum(y)=900.0 len(y)=1200\n",
      "\tVALENCE-s06-DCAU|Acc=0.75|10-CV=0.72|STD=0.07483|Time spend=0.8026738166809082\n",
      "-----WARNING: Model s07 failed to learn: sum(ans)=1200.0 sum(y)=840.0 len(y)=1200\n",
      "\tVALENCE-s07-DASM|Acc=0.7|10-CV=0.69|STD=0.13748|Time spend=0.5363166332244873\n",
      "\tVALENCE-s07-RASM|Acc=0.70333|10-CV=0.68867|STD=0.13571|Time spend=0.6563858985900879\n",
      "-----WARNING: Model s07 failed to learn: sum(ans)=1200.0 sum(y)=840.0 len(y)=1200\n",
      "\tVALENCE-s07-DCAU|Acc=0.7|10-CV=0.69|STD=0.13748|Time spend=0.7833056449890137\n",
      "\tVALENCE-s08-DASM|Acc=0.635|10-CV=0.481|STD=0.08181|Time spend=0.5809762477874756\n",
      "\tVALENCE-s08-RASM|Acc=0.5575|10-CV=0.41833|STD=0.09613|Time spend=0.7158715724945068\n",
      "\tVALENCE-s08-DCAU|Acc=0.65|10-CV=0.492|STD=0.08529|Time spend=0.8388504981994629\n",
      "\tVALENCE-s09-DASM|Acc=0.73333|10-CV=0.61867|STD=0.09381|Time spend=0.5536408424377441\n",
      "\tVALENCE-s09-RASM|Acc=0.70583|10-CV=0.565|STD=0.11872|Time spend=0.6696362495422363\n",
      "\tVALENCE-s09-DCAU|Acc=0.71333|10-CV=0.621|STD=0.07699|Time spend=0.789290189743042\n",
      "\tVALENCE-s10-DASM|Acc=0.77083|10-CV=0.69267|STD=0.07889|Time spend=0.535499095916748\n",
      "\tVALENCE-s10-RASM|Acc=0.5325|10-CV=0.34767|STD=0.1126|Time spend=0.684380054473877\n",
      "\tVALENCE-s10-DCAU|Acc=0.7675|10-CV=0.70333|STD=0.07323|Time spend=0.7909629344940186\n",
      "\tVALENCE-s11-DASM|Acc=0.61833|10-CV=0.52867|STD=0.13898|Time spend=0.5702321529388428\n",
      "-----WARNING: Model s11 failed to learn: sum(ans)=1200.0 sum(y)=720.0 len(y)=1200\n",
      "\tVALENCE-s11-RASM|Acc=0.6|10-CV=0.55933|STD=0.16758|Time spend=0.6852338314056396\n",
      "\tVALENCE-s11-DCAU|Acc=0.615|10-CV=0.53067|STD=0.14089|Time spend=0.8072164058685303\n",
      "\tVALENCE-s12-DASM|Acc=0.62833|10-CV=0.492|STD=0.13727|Time spend=0.5356473922729492\n",
      "\tVALENCE-s12-RASM|Acc=0.52917|10-CV=0.4|STD=0.11833|Time spend=0.6645021438598633\n",
      "\tVALENCE-s12-DCAU|Acc=0.6|10-CV=0.45267|STD=0.15159|Time spend=0.7868132591247559\n",
      "\tVALENCE-s13-DASM|Acc=0.7|10-CV=0.64533|STD=0.1135|Time spend=0.5207312107086182\n",
      "\tVALENCE-s13-RASM|Acc=0.58167|10-CV=0.49067|STD=0.16726|Time spend=0.6525523662567139\n",
      "\tVALENCE-s13-DCAU|Acc=0.74083|10-CV=0.69467|STD=0.099|Time spend=0.7576990127563477\n",
      "\tVALENCE-s14-DASM|Acc=0.66667|10-CV=0.54933|STD=0.07202|Time spend=0.5841007232666016\n",
      "\tVALENCE-s14-RASM|Acc=0.50083|10-CV=0.36067|STD=0.06685|Time spend=0.7317264080047607\n",
      "\tVALENCE-s14-DCAU|Acc=0.675|10-CV=0.568|STD=0.06997|Time spend=0.8645117282867432\n",
      "\tVALENCE-s15-DASM|Acc=0.7425|10-CV=0.66733|STD=0.05874|Time spend=0.6047906875610352\n",
      "\tVALENCE-s15-RASM|Acc=0.50333|10-CV=0.38033|STD=0.07493|Time spend=0.7532668113708496\n",
      "\tVALENCE-s15-DCAU|Acc=0.76167|10-CV=0.712|STD=0.06893|Time spend=0.857710599899292\n",
      "\tVALENCE-s16-DASM|Acc=0.69333|10-CV=0.63833|STD=0.08459|Time spend=0.6029229164123535\n",
      "\tVALENCE-s16-RASM|Acc=0.62583|10-CV=0.64|STD=0.10198|Time spend=0.7307562828063965\n",
      "\tVALENCE-s16-DCAU|Acc=0.70417|10-CV=0.64833|STD=0.08745|Time spend=0.8504242897033691\n",
      "\tVALENCE-s17-DASM|Acc=0.595|10-CV=0.42133|STD=0.09442|Time spend=0.6487681865692139\n",
      "\tVALENCE-s17-RASM|Acc=0.56|10-CV=0.467|STD=0.16465|Time spend=0.7936642169952393\n",
      "\tVALENCE-s17-DCAU|Acc=0.56917|10-CV=0.41533|STD=0.09387|Time spend=0.9316527843475342\n",
      "\tVALENCE-s18-DASM|Acc=0.74917|10-CV=0.661|STD=0.0793|Time spend=0.5177857875823975\n",
      "\tVALENCE-s18-RASM|Acc=0.6025|10-CV=0.569|STD=0.16647|Time spend=0.6450746059417725\n",
      "\tVALENCE-s18-DCAU|Acc=0.7625|10-CV=0.66967|STD=0.07069|Time spend=0.7602989673614502\n",
      "\tVALENCE-s19-DASM|Acc=0.62583|10-CV=0.45067|STD=0.12791|Time spend=0.5866560935974121\n",
      "\tVALENCE-s19-RASM|Acc=0.5825|10-CV=0.43867|STD=0.18516|Time spend=0.7428371906280518\n",
      "\tVALENCE-s19-DCAU|Acc=0.63167|10-CV=0.45367|STD=0.12886|Time spend=0.8726301193237305\n",
      "\tVALENCE-s20-DASM|Acc=0.71|10-CV=0.56867|STD=0.14845|Time spend=0.5259761810302734\n",
      "\tVALENCE-s20-RASM|Acc=0.57667|10-CV=0.44833|STD=0.1846|Time spend=0.6499924659729004\n",
      "\tVALENCE-s20-DCAU|Acc=0.70417|10-CV=0.532|STD=0.15161|Time spend=0.7632761001586914\n",
      "\tVALENCE-s21-DASM|Acc=0.58917|10-CV=0.417|STD=0.07573|Time spend=0.5551614761352539\n",
      "\tVALENCE-s21-RASM|Acc=0.53167|10-CV=0.371|STD=0.08888|Time spend=0.6846299171447754\n",
      "\tVALENCE-s21-DCAU|Acc=0.59667|10-CV=0.41533|STD=0.07277|Time spend=0.8159728050231934\n",
      "\tVALENCE-s22-DASM|Acc=0.59667|10-CV=0.50833|STD=0.08952|Time spend=0.5565125942230225\n",
      "\tVALENCE-s22-RASM|Acc=0.55333|10-CV=0.497|STD=0.12713|Time spend=0.6954684257507324\n",
      "\tVALENCE-s22-DCAU|Acc=0.5825|10-CV=0.49367|STD=0.08585|Time spend=0.853492021560669\n",
      "-----WARNING: Model s23 failed to learn: sum(ans)=1200.0 sum(y)=780.0 len(y)=1200\n",
      "\tVALENCE-s23-DASM|Acc=0.65|10-CV=0.58567|STD=0.11497|Time spend=0.5394496917724609\n",
      "\tVALENCE-s23-RASM|Acc=0.65083|10-CV=0.60733|STD=0.14735|Time spend=0.6607091426849365\n",
      "-----WARNING: Model s23 failed to learn: sum(ans)=1200.0 sum(y)=780.0 len(y)=1200\n",
      "\tVALENCE-s23-DCAU|Acc=0.65|10-CV=0.59767|STD=0.13083|Time spend=0.7822315692901611\n",
      "\tVALENCE-s24-DASM|Acc=0.615|10-CV=0.46567|STD=0.16667|Time spend=0.5400183200836182\n",
      "\tVALENCE-s24-RASM|Acc=0.555|10-CV=0.431|STD=0.18325|Time spend=0.670626163482666\n",
      "\tVALENCE-s24-DCAU|Acc=0.63083|10-CV=0.50933|STD=0.11677|Time spend=0.7945938110351562\n",
      "\tVALENCE-s25-DASM|Acc=0.58667|10-CV=0.38467|STD=0.09725|Time spend=0.5489273071289062\n",
      "\tVALENCE-s25-RASM|Acc=0.5275|10-CV=0.36533|STD=0.09884|Time spend=0.7034945487976074\n",
      "\tVALENCE-s25-DCAU|Acc=0.58333|10-CV=0.383|STD=0.0944|Time spend=0.8723657131195068\n",
      "-----WARNING: Model s26 failed to learn: sum(ans)=1200.0 sum(y)=780.0 len(y)=1200\n",
      "\tVALENCE-s26-DASM|Acc=0.65|10-CV=0.59533|STD=0.11489|Time spend=0.6126518249511719\n",
      "\tVALENCE-s26-RASM|Acc=0.65083|10-CV=0.619|STD=0.13944|Time spend=0.7369482517242432\n",
      "\tVALENCE-s26-DCAU|Acc=0.65167|10-CV=0.601|STD=0.11961|Time spend=0.8720755577087402\n",
      "-----WARNING: Model s27 failed to learn: sum(ans)=1200.0 sum(y)=900.0 len(y)=1200\n",
      "\tVALENCE-s27-DASM|Acc=0.75|10-CV=0.67|STD=0.12689|Time spend=0.5349266529083252\n",
      "\tVALENCE-s27-RASM|Acc=0.7525|10-CV=0.66967|STD=0.12707|Time spend=0.6338846683502197\n",
      "-----WARNING: Model s27 failed to learn: sum(ans)=1200.0 sum(y)=900.0 len(y)=1200\n",
      "\tVALENCE-s27-DCAU|Acc=0.75|10-CV=0.67|STD=0.12689|Time spend=0.7677369117736816\n",
      "-----WARNING: Model s28 failed to learn: sum(ans)=1200.0 sum(y)=750.0 len(y)=1200\n",
      "\tVALENCE-s28-DASM|Acc=0.625|10-CV=0.556|STD=0.1351|Time spend=0.5586886405944824\n",
      "\tVALENCE-s28-RASM|Acc=0.6275|10-CV=0.61367|STD=0.19193|Time spend=0.6950728893280029\n",
      "-----WARNING: Model s28 failed to learn: sum(ans)=1200.0 sum(y)=750.0 len(y)=1200\n",
      "\tVALENCE-s28-DCAU|Acc=0.625|10-CV=0.55933|STD=0.13861|Time spend=0.8464231491088867\n",
      "\tVALENCE-s29-DASM|Acc=0.63333|10-CV=0.51867|STD=0.07776|Time spend=0.5698931217193604\n",
      "\tVALENCE-s29-RASM|Acc=0.58083|10-CV=0.558|STD=0.11935|Time spend=0.6983795166015625\n",
      "\tVALENCE-s29-DCAU|Acc=0.63333|10-CV=0.521|STD=0.08082|Time spend=0.8286430835723877\n",
      "-----WARNING: Model s30 failed to learn: sum(ans)=1200.0 sum(y)=810.0 len(y)=1200\n",
      "\tVALENCE-s30-DASM|Acc=0.675|10-CV=0.62|STD=0.14697|Time spend=0.5588266849517822\n",
      "\tVALENCE-s30-RASM|Acc=0.67667|10-CV=0.619|STD=0.14508|Time spend=0.6741600036621094\n",
      "-----WARNING: Model s30 failed to learn: sum(ans)=1200.0 sum(y)=810.0 len(y)=1200\n",
      "\tVALENCE-s30-DCAU|Acc=0.675|10-CV=0.62|STD=0.14697|Time spend=0.807056188583374\n",
      "\tVALENCE-s31-DASM|Acc=0.63417|10-CV=0.47367|STD=0.08971|Time spend=0.5615050792694092\n",
      "\tVALENCE-s31-RASM|Acc=0.58083|10-CV=0.549|STD=0.16215|Time spend=0.6895055770874023\n",
      "\tVALENCE-s31-DCAU|Acc=0.58333|10-CV=0.47167|STD=0.09135|Time spend=0.8183667659759521\n",
      "\tVALENCE-s32-DASM|Acc=0.60417|10-CV=0.456|STD=0.12285|Time spend=0.543973445892334\n",
      "\tVALENCE-s32-RASM|Acc=0.52083|10-CV=0.37433|STD=0.13611|Time spend=0.6772677898406982\n",
      "\tVALENCE-s32-DCAU|Acc=0.61167|10-CV=0.44733|STD=0.1172|Time spend=0.7999730110168457\n",
      "VALENCE-DASM|Acc=0.6575|10-CV=0.5501770833333333|STD=0.10462724349069955\n",
      "VALENCE-RASM|Acc=0.5928124999999999|10-CV=0.5037708333333333|STD=0.13168786831387663\n",
      "VALENCE-DCAU|Acc=0.6597395833333334|10-CV=0.5563541666666667|STD=0.10329523622407208\n",
      "TOTAL-DASM|Acc=0.6683593749999998|10-CV=0.58134375|STD=0.10296260267566339\n",
      "TOTAL-RASM|Acc=0.6199609375|10-CV=0.5520677083333333|STD=0.12390822242030768\n",
      "TOTAL-DCAU|Acc=0.6673177083333335|10-CV=0.5824739583333332|STD=0.10233657432050006\n"
     ]
    }
   ],
   "source": [
    "bands = [(0,4), (4,8), (8,12), (12,30), (30,64)]\n",
    "# [alias_feature_function]__[optional_param]\n",
    "params = dict({\n",
    "    'pow_freq_bands__log':True,\n",
    "    'pow_freq_bands__normalize':False,\n",
    "    'pow_freq_bands__freq_bands':bands\n",
    "})\n",
    "\n",
    "accs,cv_means,cv_stds  = {'DASM':[],'RASM':[],'DCAU':[]},{'DASM':[],'RASM':[],'DCAU':[]},{'DASM':[],'RASM':[],'DCAU':[]}\n",
    "# count = 0\n",
    "for filename in dataset.get_file_list():\n",
    "    start = time.time()\n",
    "    data, labels, groups = dataset.get_data(filename, stimuli=Dataset_subjectDependent.STIMULI_AROUSAL, return_type='numpy')\n",
    "    fe = FeatureExtractor(sfreq=128, selected_funcs=['pow_freq_bands'],params=params,n_jobs=8)\n",
    "    X = fe.fit_transform(X=data)\n",
    "\n",
    "    PSD_left = X[:, left_channel_indexes].copy()\n",
    "    PSD_right = X[:, right_channel_indexes].copy()\n",
    "    PSD_frontal = X[:, frontal_channel_indexes].copy()\n",
    "    PSD_posterior = X[:, posterior_channel_indexes].copy()\n",
    "    X = {\n",
    "        'DASM': PSD_left - PSD_right,\n",
    "        'RASM': PSD_left / PSD_right,\n",
    "        'DCAU': PSD_frontal - PSD_posterior,\n",
    "    }\n",
    "\n",
    "    for feature_name in ['DASM','RASM','DCAU']:\n",
    "        _, acc, cross = train_model(X[feature_name], labels.reshape(-1), groups, filename=filename)\n",
    "        print(f\"\\tAROUSAL-{filename}-{feature_name}|Acc={round(acc,5)}|10-CV={round(cross.mean(),5)}|STD={round(cross.std(),5)}|Time spend={time.time() - start}\")\n",
    "        accs[feature_name].append(acc)\n",
    "        cv_means[feature_name].append(cross.mean())\n",
    "        cv_stds[feature_name].append(cross.std())\n",
    "    # count+=1\n",
    "    # if(count == 3): break\n",
    "for feature_name in ['DASM','RASM','DCAU']:\n",
    "    print(f\"AROUSAL-{feature_name}|Acc={sum(accs[feature_name])/len(accs[feature_name])}|10-CV={sum(cv_means[feature_name])/len(cv_means[feature_name])}|STD={sum(cv_stds[feature_name])/len(cv_stds[feature_name])}\")\n",
    "\n",
    "accs_v,cv_means_v,cv_stds_v  = {'DASM':[],'RASM':[],'DCAU':[]},{'DASM':[],'RASM':[],'DCAU':[]},{'DASM':[],'RASM':[],'DCAU':[]}\n",
    "# count=0\n",
    "for filename in dataset.get_file_list():\n",
    "    start = time.time()\n",
    "    data, labels, groups = dataset.get_data(filename, stimuli=Dataset_subjectDependent.STIMULI_VALENCE, return_type='numpy')\n",
    "    fe = FeatureExtractor(sfreq=128, selected_funcs=['pow_freq_bands'],params=params,n_jobs=8)\n",
    "    X = fe.fit_transform(X=data)\n",
    "\n",
    "    PSD_left = X[:, left_channel_indexes].copy()\n",
    "    PSD_right = X[:, right_channel_indexes].copy()\n",
    "    PSD_frontal = X[:, frontal_channel_indexes].copy()\n",
    "    PSD_posterior = X[:, posterior_channel_indexes].copy()\n",
    "    X = {\n",
    "        'DASM': PSD_left - PSD_right,\n",
    "        'RASM': PSD_left / PSD_right,\n",
    "        'DCAU': PSD_frontal - PSD_posterior,\n",
    "    }\n",
    "\n",
    "    for feature_name in ['DASM','RASM','DCAU']:\n",
    "        _, acc, cross = train_model(X[feature_name], labels.reshape(-1), groups, filename=filename)\n",
    "        print(f\"\\tVALENCE-{filename}-{feature_name}|Acc={round(acc,5)}|10-CV={round(cross.mean(),5)}|STD={round(cross.std(),5)}|Time spend={time.time() - start}\")\n",
    "        accs_v[feature_name].append(acc)\n",
    "        cv_means_v[feature_name].append(cross.mean())\n",
    "        cv_stds_v[feature_name].append(cross.std())\n",
    "    # count+=1\n",
    "    # if(count == 3): break\n",
    "for feature_name in ['DASM','RASM','DCAU']:\n",
    "    print(f\"VALENCE-{feature_name}|Acc={sum(accs_v[feature_name])/len(accs_v[feature_name])}|10-CV={sum(cv_means_v[feature_name])/len(cv_means_v[feature_name])}|STD={sum(cv_stds_v[feature_name])/len(cv_stds_v[feature_name])}\")\n",
    "\n",
    "for feature_name in ['DASM','RASM','DCAU']:\n",
    "    accs[feature_name].extend(accs_v[feature_name])\n",
    "    cv_means[feature_name].extend(cv_means_v[feature_name])\n",
    "    cv_stds[feature_name].extend(cv_stds_v[feature_name])\n",
    "    print(f\"TOTAL-{feature_name}|Acc={sum(accs[feature_name])/len(accs[feature_name])}|10-CV={sum(cv_means[feature_name])/len(cv_means[feature_name])}|STD={sum(cv_stds[feature_name])/len(cv_stds[feature_name])}\")"
   ]
  },
  {
   "cell_type": "markdown",
   "metadata": {},
   "source": [
    "## 4. Connectivity\n",
    "\n",
    "### 4.1 $ \\text{PCC}_{\\text{time}}(i,j) = \\frac{\\text{Cov}[\\mathbf{X}_i, \\mathbf{X}_j]}{\\sigma_{\\mathbf{X}_i} \\sigma_{\\mathbf{X}_j}} $"
   ]
  },
  {
   "cell_type": "code",
   "execution_count": 7,
   "metadata": {},
   "outputs": [],
   "source": [
    "\n",
    "def pearson_correlation(x,y):\n",
    "    \"\"\" x,y denoted the signal_x and signal_y following the equation \"\"\"\n",
    "    cov = np.cov(x, y)\n",
    "    # print(cov)\n",
    "    # [[ 8806859.74527069  8007149.0906219 ] ==> [[cov_xx, cov_xy]\n",
    "    # [ 8007149.0906219  10396797.72458848]]      [cov_yx, cov_yy]]\n",
    "    cov_xy = cov[0,1] # or cov[1,0]\n",
    "    cov_xx = cov[0,0]\n",
    "    cov_yy = cov[1,1]\n",
    "    corr = cov_xy / ( cov_xx**0.5 * cov_yy**0.5  )\n",
    "    return corr\n",
    "\n",
    "def _cal(p_id, partial_data):\n",
    "    # print(f\"p_id:{p_id} - data to run {partial_data.shape}\")\n",
    "    from itertools import combinations\n",
    "    pcc = []\n",
    "    for index in range(partial_data.shape[0]):\n",
    "        pcc_epoch = []\n",
    "        for comb in combinations(list(range(partial_data.shape[1])), 2):\n",
    "            pcc_ab = pearson_correlation(partial_data[index, comb[0], :], partial_data[index, comb[1], :]   )\n",
    "            pcc_epoch.append(pcc_ab)\n",
    "        pcc_epoch = np.hstack(pcc_epoch)\n",
    "        pcc.append(pcc_epoch)\n",
    "    pcc = np.vstack(pcc)\n",
    "    return pcc\n",
    "\n",
    "def calculate_pcc(data, n_jobs=8):\n",
    "    \"\"\" \n",
    "    Input: Expect data to have (n_epochs, n_channels, n_samples)\n",
    "    Output: (n_epochs, n_conn ) => n_conn = n_channels!/(2!(n_channels-2)!)\n",
    "    \"\"\"\n",
    "    from multiprocessing import Pool\n",
    "\n",
    "    try:\n",
    "        t_out = 60000\n",
    "        pool = Pool()\n",
    "        p_list = []\n",
    "        ans_list = []\n",
    "        num_p = n_jobs\n",
    "        indices = np.array_split(np.arange(data.shape[0]), num_p)\n",
    "        for p_id in range(num_p):\n",
    "            p_list.append(pool.apply_async(_cal, [p_id, data[indices[p_id]] ]))\n",
    "        for p_id in range(num_p):\n",
    "            ans_list.append( p_list[p_id].get(timeout=t_out) )\n",
    "        # ans_list\n",
    "    except Exception as e:\n",
    "        print(e)\n",
    "    finally:\n",
    "        print(\"========= close ========\")\n",
    "        pool.close() \n",
    "        pool.terminate()\n",
    "    return np.vstack(ans_list)"
   ]
  },
  {
   "cell_type": "code",
   "execution_count": 8,
   "metadata": {},
   "outputs": [
    {
     "data": {
      "application/vnd.jupyter.widget-view+json": {
       "model_id": "79533ec7ad014b89bc2199704fdf6859",
       "version_major": 2,
       "version_minor": 0
      },
      "text/plain": [
       "  0%|          | 0/32 [00:00<?, ?it/s]"
      ]
     },
     "metadata": {},
     "output_type": "display_data"
    },
    {
     "name": "stdout",
     "output_type": "stream",
     "text": [
      "Fitted sphere radius:         95.3 mm\n",
      "Origin head coordinates:      -0.8 15.1 45.3 mm\n",
      "Origin device coordinates:    -0.8 15.1 45.3 mm\n",
      "========= close ========\n",
      "\tAROUSAL-s01|Acc=0.70083|10-CV=0.54|STD=0.13565|Time spend=6.010799169540405\n",
      "\tVALENCE-s01|Acc=0.68417|10-CV=0.47733|STD=0.0791|Time spend=7.167034864425659\n",
      "Fitted sphere radius:         95.3 mm\n",
      "Origin head coordinates:      -0.8 15.1 45.3 mm\n",
      "Origin device coordinates:    -0.8 15.1 45.3 mm\n",
      "========= close ========\n",
      "\tAROUSAL-s02|Acc=0.61667|10-CV=0.559|STD=0.1107|Time spend=5.722625494003296\n",
      "\tVALENCE-s02|Acc=0.57083|10-CV=0.45|STD=0.08719|Time spend=6.859820604324341\n",
      "Fitted sphere radius:         95.3 mm\n",
      "Origin head coordinates:      -0.8 15.1 45.3 mm\n",
      "Origin device coordinates:    -0.8 15.1 45.3 mm\n",
      "========= close ========\n",
      "\tAROUSAL-s03|Acc=0.8|10-CV=0.73|STD=0.15524|Time spend=5.192487955093384\n",
      "\tVALENCE-s03|Acc=0.55|10-CV=0.43467|STD=0.11931|Time spend=6.351564884185791\n",
      "Fitted sphere radius:         95.3 mm\n",
      "Origin head coordinates:      -0.8 15.1 45.3 mm\n",
      "Origin device coordinates:    -0.8 15.1 45.3 mm\n",
      "========= close ========\n",
      "\tAROUSAL-s04|Acc=0.6|10-CV=0.53333|STD=0.21292|Time spend=5.656438827514648\n",
      "\tVALENCE-s04|Acc=0.6|10-CV=0.49|STD=0.18682|Time spend=6.726111888885498\n",
      "Fitted sphere radius:         95.3 mm\n",
      "Origin head coordinates:      -0.8 15.1 45.3 mm\n",
      "Origin device coordinates:    -0.8 15.1 45.3 mm\n",
      "========= close ========\n",
      "\tAROUSAL-s05|Acc=0.55333|10-CV=0.426|STD=0.10758|Time spend=5.628695249557495\n",
      "\tVALENCE-s05|Acc=0.6|10-CV=0.588|STD=0.08892|Time spend=6.866531133651733\n",
      "Fitted sphere radius:         95.3 mm\n",
      "Origin head coordinates:      -0.8 15.1 45.3 mm\n",
      "Origin device coordinates:    -0.8 15.1 45.3 mm\n",
      "========= close ========\n",
      "\tAROUSAL-s06|Acc=0.60833|10-CV=0.52067|STD=0.14098|Time spend=5.733104944229126\n",
      "\tVALENCE-s06|Acc=0.75|10-CV=0.72|STD=0.07483|Time spend=6.629878997802734\n",
      "Fitted sphere radius:         95.3 mm\n",
      "Origin head coordinates:      -0.8 15.1 45.3 mm\n",
      "Origin device coordinates:    -0.8 15.1 45.3 mm\n",
      "========= close ========\n",
      "\tAROUSAL-s07|Acc=0.67083|10-CV=0.63433|STD=0.10768|Time spend=5.472980260848999\n",
      "\tVALENCE-s07|Acc=0.7|10-CV=0.66967|STD=0.12172|Time spend=6.345069408416748\n",
      "Fitted sphere radius:         95.3 mm\n",
      "Origin head coordinates:      -0.8 15.1 45.3 mm\n",
      "Origin device coordinates:    -0.8 15.1 45.3 mm\n",
      "========= close ========\n",
      "\tAROUSAL-s08|Acc=0.59417|10-CV=0.41167|STD=0.10577|Time spend=5.709673643112183\n",
      "\tVALENCE-s08|Acc=0.635|10-CV=0.505|STD=0.08703|Time spend=6.875301837921143\n",
      "Fitted sphere radius:         95.3 mm\n",
      "Origin head coordinates:      -0.8 15.1 45.3 mm\n",
      "Origin device coordinates:    -0.8 15.1 45.3 mm\n",
      "========= close ========\n",
      "\tAROUSAL-s09|Acc=0.61667|10-CV=0.54267|STD=0.12171|Time spend=5.877356290817261\n",
      "\tVALENCE-s09|Acc=0.62833|10-CV=0.51433|STD=0.1614|Time spend=7.042843580245972\n",
      "Fitted sphere radius:         95.3 mm\n",
      "Origin head coordinates:      -0.8 15.1 45.3 mm\n",
      "Origin device coordinates:    -0.8 15.1 45.3 mm\n",
      "========= close ========\n",
      "\tAROUSAL-s10|Acc=0.6|10-CV=0.496|STD=0.08018|Time spend=5.601139068603516\n",
      "\tVALENCE-s10|Acc=0.7775|10-CV=0.70367|STD=0.10599|Time spend=6.618859052658081\n",
      "Fitted sphere radius:         95.3 mm\n",
      "Origin head coordinates:      -0.8 15.1 45.3 mm\n",
      "Origin device coordinates:    -0.8 15.1 45.3 mm\n",
      "========= close ========\n",
      "\tAROUSAL-s11|Acc=0.625|10-CV=0.597|STD=0.06034|Time spend=5.5461366176605225\n",
      "\tVALENCE-s11|Acc=0.60917|10-CV=0.543|STD=0.15409|Time spend=6.638014793395996\n",
      "Fitted sphere radius:         95.3 mm\n",
      "Origin head coordinates:      -0.8 15.1 45.3 mm\n",
      "Origin device coordinates:    -0.8 15.1 45.3 mm\n",
      "========= close ========\n",
      "\tAROUSAL-s12|Acc=0.825|10-CV=0.83|STD=0.1005|Time spend=5.128117322921753\n",
      "\tVALENCE-s12|Acc=0.62083|10-CV=0.447|STD=0.13906|Time spend=6.240788698196411\n",
      "Fitted sphere radius:         95.3 mm\n",
      "Origin head coordinates:      -0.8 15.1 45.3 mm\n",
      "Origin device coordinates:    -0.8 15.1 45.3 mm\n",
      "========= close ========\n",
      "\tAROUSAL-s13|Acc=0.85|10-CV=0.84|STD=0.06633|Time spend=5.1267781257629395\n",
      "\tVALENCE-s13|Acc=0.66417|10-CV=0.58867|STD=0.07849|Time spend=6.18237566947937\n",
      "Fitted sphere radius:         95.3 mm\n",
      "Origin head coordinates:      -0.8 15.1 45.3 mm\n",
      "Origin device coordinates:    -0.8 15.1 45.3 mm\n",
      "========= close ========\n",
      "\tAROUSAL-s14|Acc=0.675|10-CV=0.65|STD=0.10247|Time spend=5.522896766662598\n",
      "\tVALENCE-s14|Acc=0.62333|10-CV=0.507|STD=0.10066|Time spend=6.684532642364502\n",
      "Fitted sphere radius:         95.3 mm\n",
      "Origin head coordinates:      -0.8 15.1 45.3 mm\n",
      "Origin device coordinates:    -0.8 15.1 45.3 mm\n",
      "========= close ========\n",
      "\tAROUSAL-s15|Acc=0.67|10-CV=0.45133|STD=0.09829|Time spend=5.577397584915161\n",
      "\tVALENCE-s15|Acc=0.7325|10-CV=0.67467|STD=0.07242|Time spend=6.531519174575806\n",
      "Fitted sphere radius:         95.3 mm\n",
      "Origin head coordinates:      -0.8 15.1 45.3 mm\n",
      "Origin device coordinates:    -0.8 15.1 45.3 mm\n",
      "========= close ========\n",
      "\tAROUSAL-s16|Acc=0.665|10-CV=0.44167|STD=0.11354|Time spend=5.51965856552124\n",
      "\tVALENCE-s16|Acc=0.70917|10-CV=0.644|STD=0.09389|Time spend=6.5479443073272705\n",
      "Fitted sphere radius:         95.3 mm\n",
      "Origin head coordinates:      -0.8 15.1 45.3 mm\n",
      "Origin device coordinates:    -0.8 15.1 45.3 mm\n",
      "========= close ========\n",
      "\tAROUSAL-s17|Acc=0.60167|10-CV=0.55367|STD=0.08247|Time spend=5.6440441608428955\n",
      "\tVALENCE-s17|Acc=0.55|10-CV=0.40767|STD=0.10578|Time spend=6.855534315109253\n",
      "Fitted sphere radius:         95.3 mm\n",
      "Origin head coordinates:      -0.8 15.1 45.3 mm\n",
      "Origin device coordinates:    -0.8 15.1 45.3 mm\n",
      "========= close ========\n",
      "\tAROUSAL-s18|Acc=0.625|10-CV=0.56033|STD=0.1003|Time spend=5.512954950332642\n",
      "\tVALENCE-s18|Acc=0.73333|10-CV=0.62467|STD=0.13654|Time spend=6.6541337966918945\n",
      "Fitted sphere radius:         95.3 mm\n",
      "Origin head coordinates:      -0.8 15.1 45.3 mm\n",
      "Origin device coordinates:    -0.8 15.1 45.3 mm\n",
      "========= close ========\n",
      "\tAROUSAL-s19|Acc=0.675|10-CV=0.62733|STD=0.12932|Time spend=5.479546785354614\n",
      "\tVALENCE-s19|Acc=0.625|10-CV=0.46067|STD=0.13026|Time spend=6.525890588760376\n",
      "Fitted sphere radius:         95.3 mm\n",
      "Origin head coordinates:      -0.8 15.1 45.3 mm\n",
      "Origin device coordinates:    -0.8 15.1 45.3 mm\n",
      "========= close ========\n",
      "\tAROUSAL-s20|Acc=0.775|10-CV=0.82|STD=0.08718|Time spend=5.3615312576293945\n",
      "\tVALENCE-s20|Acc=0.67833|10-CV=0.53267|STD=0.15534|Time spend=6.40425705909729\n",
      "Fitted sphere radius:         95.3 mm\n",
      "Origin head coordinates:      -0.8 15.1 45.3 mm\n",
      "Origin device coordinates:    -0.8 15.1 45.3 mm\n",
      "========= close ========\n",
      "\tAROUSAL-s21|Acc=0.8|10-CV=0.8|STD=0.1|Time spend=5.209720134735107\n",
      "\tVALENCE-s21|Acc=0.525|10-CV=0.38067|STD=0.08488|Time spend=6.431766510009766\n",
      "Fitted sphere radius:         95.3 mm\n",
      "Origin head coordinates:      -0.8 15.1 45.3 mm\n",
      "Origin device coordinates:    -0.8 15.1 45.3 mm\n",
      "========= close ========\n",
      "\tAROUSAL-s22|Acc=0.6|10-CV=0.61|STD=0.07|Time spend=5.582016468048096\n",
      "\tVALENCE-s22|Acc=0.63083|10-CV=0.59233|STD=0.1089|Time spend=6.728222846984863\n",
      "Fitted sphere radius:         95.3 mm\n",
      "Origin head coordinates:      -0.8 15.1 45.3 mm\n",
      "Origin device coordinates:    -0.8 15.1 45.3 mm\n",
      "========= close ========\n",
      "\tAROUSAL-s23|Acc=0.75|10-CV=0.777|STD=0.0945|Time spend=5.353243827819824\n",
      "\tVALENCE-s23|Acc=0.69083|10-CV=0.58233|STD=0.11211|Time spend=6.279165506362915\n",
      "Fitted sphere radius:         95.3 mm\n",
      "Origin head coordinates:      -0.8 15.1 45.3 mm\n",
      "Origin device coordinates:    -0.8 15.1 45.3 mm\n",
      "========= close ========\n",
      "\tAROUSAL-s24|Acc=0.825|10-CV=0.82|STD=0.07483|Time spend=5.3350303173065186\n",
      "\tVALENCE-s24|Acc=0.5775|10-CV=0.43867|STD=0.18961|Time spend=6.450671195983887\n",
      "Fitted sphere radius:         95.3 mm\n",
      "Origin head coordinates:      -0.8 15.1 45.3 mm\n",
      "Origin device coordinates:    -0.8 15.1 45.3 mm\n",
      "========= close ========\n",
      "\tAROUSAL-s25|Acc=0.725|10-CV=0.74|STD=0.12806|Time spend=5.351832151412964\n",
      "\tVALENCE-s25|Acc=0.52417|10-CV=0.37667|STD=0.09947|Time spend=6.570748567581177\n",
      "Fitted sphere radius:         95.3 mm\n",
      "Origin head coordinates:      -0.8 15.1 45.3 mm\n",
      "Origin device coordinates:    -0.8 15.1 45.3 mm\n",
      "========= close ========\n",
      "\tAROUSAL-s26|Acc=0.61167|10-CV=0.551|STD=0.11401|Time spend=5.620652198791504\n",
      "\tVALENCE-s26|Acc=0.65|10-CV=0.62|STD=0.14|Time spend=6.6073315143585205\n",
      "Fitted sphere radius:         95.3 mm\n",
      "Origin head coordinates:      -0.8 15.1 45.3 mm\n",
      "Origin device coordinates:    -0.8 15.1 45.3 mm\n",
      "========= close ========\n",
      "\tAROUSAL-s27|Acc=0.70667|10-CV=0.63567|STD=0.10004|Time spend=5.52179741859436\n",
      "\tVALENCE-s27|Acc=0.75|10-CV=0.66733|STD=0.1232|Time spend=6.246619701385498\n",
      "Fitted sphere radius:         95.3 mm\n",
      "Origin head coordinates:      -0.8 15.1 45.3 mm\n",
      "Origin device coordinates:    -0.8 15.1 45.3 mm\n",
      "========= close ========\n",
      "\tAROUSAL-s28|Acc=0.56167|10-CV=0.43567|STD=0.15411|Time spend=5.8481605052948\n",
      "\tVALENCE-s28|Acc=0.625|10-CV=0.57367|STD=0.15786|Time spend=6.876648902893066\n",
      "Fitted sphere radius:         95.3 mm\n",
      "Origin head coordinates:      -0.8 15.1 45.3 mm\n",
      "Origin device coordinates:    -0.8 15.1 45.3 mm\n",
      "========= close ========\n",
      "\tAROUSAL-s29|Acc=0.6275|10-CV=0.52967|STD=0.08976|Time spend=5.4934632778167725\n",
      "\tVALENCE-s29|Acc=0.63583|10-CV=0.551|STD=0.10441|Time spend=6.579558372497559\n",
      "Fitted sphere radius:         95.3 mm\n",
      "Origin head coordinates:      -0.8 15.1 45.3 mm\n",
      "Origin device coordinates:    -0.8 15.1 45.3 mm\n",
      "========= close ========\n",
      "\tAROUSAL-s30|Acc=0.58583|10-CV=0.45933|STD=0.0791|Time spend=5.6380510330200195\n",
      "\tVALENCE-s30|Acc=0.675|10-CV=0.62|STD=0.14697|Time spend=6.616171836853027\n",
      "Fitted sphere radius:         95.3 mm\n",
      "Origin head coordinates:      -0.8 15.1 45.3 mm\n",
      "Origin device coordinates:    -0.8 15.1 45.3 mm\n",
      "========= close ========\n",
      "\tAROUSAL-s31|Acc=0.68417|10-CV=0.57767|STD=0.14317|Time spend=5.6456239223480225\n",
      "\tVALENCE-s31|Acc=0.6175|10-CV=0.479|STD=0.10537|Time spend=6.720306396484375\n",
      "Fitted sphere radius:         95.3 mm\n",
      "Origin head coordinates:      -0.8 15.1 45.3 mm\n",
      "Origin device coordinates:    -0.8 15.1 45.3 mm\n",
      "========= close ========\n",
      "\tAROUSAL-s32|Acc=0.675|10-CV=0.75|STD=0.13601|Time spend=5.473202228546143\n",
      "\tVALENCE-s32|Acc=0.60083|10-CV=0.487|STD=0.12741|Time spend=6.596614837646484\n",
      "AROUSAL|Acc=0.6718750000000002|10-CV=0.6078437499999999|STD=0.10946058619081746\n",
      "VALENCE|Acc=0.6420052083333334|10-CV=0.5422291666666665|STD=0.11809517279587159\n"
     ]
    }
   ],
   "source": [
    "accs, cv_means, cv_stds = [],[],[]\n",
    "accs_v, cv_means_v, cv_stds_v = [],[],[]\n",
    "reports = []\n",
    "for filename in (pbar := tqdm(dataset.get_file_list())):\n",
    "    start = time.time()\n",
    "    pbar.set_description(filename)\n",
    "    data, labels, groups = dataset.get_data(filename, stimuli=Dataset_subjectDependent.STIMULI_AROUSAL, return_type='mne', sfreq=128)\n",
    "    data_csd = mne.preprocessing.compute_current_source_density(data)\n",
    "    pcc = calculate_pcc(data_csd.get_data())\n",
    "    _,acc,cross,train_report = train_model(pcc, labels.squeeze(), groups, filename=filename, return_text=True)\n",
    "    report = f\"\\tAROUSAL-{filename}|Acc={round(acc,5)}|10-CV={round(cross.mean(),5)}|STD={round(cross.std(),5)}|Time spend={time.time() - start}\"\n",
    "    print(report)\n",
    "    reports.append(report)\n",
    "    reports.append(train_report)\n",
    "    accs.append(acc)\n",
    "    cv_means.append(cross.mean())\n",
    "    cv_stds.append(cross.std())\n",
    "\n",
    "    _, labels_v, groups_v = dataset.get_data(filename, stimuli=Dataset_subjectDependent.STIMULI_VALENCE, return_type='mne', sfreq=128)\n",
    "    _,acc,cross,train_report = train_model(pcc, labels_v.squeeze(), groups_v, filename=filename, return_text=True)\n",
    "    report = f\"\\tVALENCE-{filename}|Acc={round(acc,5)}|10-CV={round(cross.mean(),5)}|STD={round(cross.std(),5)}|Time spend={time.time() - start}\"\n",
    "    print(report)\n",
    "    reports.append(report)\n",
    "    reports.append(train_report)\n",
    "    accs_v.append(acc)\n",
    "    cv_means_v.append(cross.mean())\n",
    "    cv_stds_v.append(cross.std())\n",
    "    # break\n",
    "    # count+=1\n",
    "    # if(count == 5): break\n",
    "report = f\"AROUSAL|Acc={sum(accs)/len(accs)}|10-CV={sum(cv_means)/len(cv_means)}|STD={sum(cv_stds)/len(cv_stds)}\"\n",
    "print(report)\n",
    "reports.append(report)\n",
    "report = f\"VALENCE|Acc={sum(accs_v)/len(accs_v)}|10-CV={sum(cv_means_v)/len(cv_means_v)}|STD={sum(cv_stds_v)/len(cv_stds_v)}\"\n",
    "print(report)\n",
    "reports.append(report)"
   ]
  },
  {
   "cell_type": "code",
   "execution_count": 9,
   "metadata": {},
   "outputs": [
    {
     "name": "stdout",
     "output_type": "stream",
     "text": [
      "\tAROUSAL-s01|Acc=0.70083|10-CV=0.54|STD=0.13565|Time spend=6.010799169540405\n",
      "\tVALENCE-s01|Acc=0.68417|10-CV=0.47733|STD=0.0791|Time spend=7.167034864425659\n",
      "\tAROUSAL-s02|Acc=0.61667|10-CV=0.559|STD=0.1107|Time spend=5.722625494003296\n",
      "\tVALENCE-s02|Acc=0.57083|10-CV=0.45|STD=0.08719|Time spend=6.859820604324341\n",
      "\tAROUSAL-s03|Acc=0.8|10-CV=0.73|STD=0.15524|Time spend=5.192487955093384\n",
      "-----WARNING: Model s03 failed to learn: sum(ans)=0.0 sum(y)=240.0 len(y)=1200\n",
      "\tVALENCE-s03|Acc=0.55|10-CV=0.43467|STD=0.11931|Time spend=6.351564884185791\n",
      "-----WARNING: Model s03 failed to learn: sum(ans)=1200.0 sum(y)=660.0 len(y)=1200\n",
      "\tAROUSAL-s04|Acc=0.6|10-CV=0.53333|STD=0.21292|Time spend=5.656438827514648\n",
      "-----WARNING: Model s04 failed to learn: sum(ans)=0.0 sum(y)=480.0 len(y)=1200\n",
      "\tVALENCE-s04|Acc=0.6|10-CV=0.49|STD=0.18682|Time spend=6.726111888885498\n",
      "-----WARNING: Model s04 failed to learn: sum(ans)=0.0 sum(y)=480.0 len(y)=1200\n",
      "\tAROUSAL-s05|Acc=0.55333|10-CV=0.426|STD=0.10758|Time spend=5.628695249557495\n",
      "\tVALENCE-s05|Acc=0.6|10-CV=0.588|STD=0.08892|Time spend=6.866531133651733\n",
      "-----WARNING: Model s05 failed to learn: sum(ans)=1200.0 sum(y)=720.0 len(y)=1200\n",
      "\tAROUSAL-s06|Acc=0.60833|10-CV=0.52067|STD=0.14098|Time spend=5.733104944229126\n",
      "\tVALENCE-s06|Acc=0.75|10-CV=0.72|STD=0.07483|Time spend=6.629878997802734\n",
      "-----WARNING: Model s06 failed to learn: sum(ans)=1200.0 sum(y)=900.0 len(y)=1200\n",
      "\tAROUSAL-s07|Acc=0.67083|10-CV=0.63433|STD=0.10768|Time spend=5.472980260848999\n",
      "\tVALENCE-s07|Acc=0.7|10-CV=0.66967|STD=0.12172|Time spend=6.345069408416748\n",
      "-----WARNING: Model s07 failed to learn: sum(ans)=1200.0 sum(y)=840.0 len(y)=1200\n",
      "\tAROUSAL-s08|Acc=0.59417|10-CV=0.41167|STD=0.10577|Time spend=5.709673643112183\n",
      "\tVALENCE-s08|Acc=0.635|10-CV=0.505|STD=0.08703|Time spend=6.875301837921143\n",
      "\tAROUSAL-s09|Acc=0.61667|10-CV=0.54267|STD=0.12171|Time spend=5.877356290817261\n",
      "\tVALENCE-s09|Acc=0.62833|10-CV=0.51433|STD=0.1614|Time spend=7.042843580245972\n",
      "\tAROUSAL-s10|Acc=0.6|10-CV=0.496|STD=0.08018|Time spend=5.601139068603516\n",
      "\tVALENCE-s10|Acc=0.7775|10-CV=0.70367|STD=0.10599|Time spend=6.618859052658081\n",
      "\tAROUSAL-s11|Acc=0.625|10-CV=0.597|STD=0.06034|Time spend=5.5461366176605225\n",
      "-----WARNING: Model s11 failed to learn: sum(ans)=0.0 sum(y)=450.0 len(y)=1200\n",
      "\tVALENCE-s11|Acc=0.60917|10-CV=0.543|STD=0.15409|Time spend=6.638014793395996\n",
      "\tAROUSAL-s12|Acc=0.825|10-CV=0.83|STD=0.1005|Time spend=5.128117322921753\n",
      "-----WARNING: Model s12 failed to learn: sum(ans)=1200.0 sum(y)=990.0 len(y)=1200\n",
      "\tVALENCE-s12|Acc=0.62083|10-CV=0.447|STD=0.13906|Time spend=6.240788698196411\n",
      "\tAROUSAL-s13|Acc=0.85|10-CV=0.84|STD=0.06633|Time spend=5.1267781257629395\n",
      "-----WARNING: Model s13 failed to learn: sum(ans)=1200.0 sum(y)=1020.0 len(y)=1200\n",
      "\tVALENCE-s13|Acc=0.66417|10-CV=0.58867|STD=0.07849|Time spend=6.18237566947937\n",
      "\tAROUSAL-s14|Acc=0.675|10-CV=0.65|STD=0.10247|Time spend=5.522896766662598\n",
      "-----WARNING: Model s14 failed to learn: sum(ans)=1200.0 sum(y)=810.0 len(y)=1200\n",
      "\tVALENCE-s14|Acc=0.62333|10-CV=0.507|STD=0.10066|Time spend=6.684532642364502\n",
      "\tAROUSAL-s15|Acc=0.67|10-CV=0.45133|STD=0.09829|Time spend=5.577397584915161\n",
      "\tVALENCE-s15|Acc=0.7325|10-CV=0.67467|STD=0.07242|Time spend=6.531519174575806\n",
      "\tAROUSAL-s16|Acc=0.665|10-CV=0.44167|STD=0.11354|Time spend=5.51965856552124\n",
      "\tVALENCE-s16|Acc=0.70917|10-CV=0.644|STD=0.09389|Time spend=6.5479443073272705\n",
      "\tAROUSAL-s17|Acc=0.60167|10-CV=0.55367|STD=0.08247|Time spend=5.6440441608428955\n",
      "\tVALENCE-s17|Acc=0.55|10-CV=0.40767|STD=0.10578|Time spend=6.855534315109253\n",
      "-----WARNING: Model s17 failed to learn: sum(ans)=1200.0 sum(y)=660.0 len(y)=1200\n",
      "\tAROUSAL-s18|Acc=0.625|10-CV=0.56033|STD=0.1003|Time spend=5.512954950332642\n",
      "-----WARNING: Model s18 failed to learn: sum(ans)=1200.0 sum(y)=750.0 len(y)=1200\n",
      "\tVALENCE-s18|Acc=0.73333|10-CV=0.62467|STD=0.13654|Time spend=6.6541337966918945\n",
      "\tAROUSAL-s19|Acc=0.675|10-CV=0.62733|STD=0.12932|Time spend=5.479546785354614\n",
      "-----WARNING: Model s19 failed to learn: sum(ans)=1200.0 sum(y)=810.0 len(y)=1200\n",
      "\tVALENCE-s19|Acc=0.625|10-CV=0.46067|STD=0.13026|Time spend=6.525890588760376\n",
      "\tAROUSAL-s20|Acc=0.775|10-CV=0.82|STD=0.08718|Time spend=5.3615312576293945\n",
      "-----WARNING: Model s20 failed to learn: sum(ans)=1200.0 sum(y)=930.0 len(y)=1200\n",
      "\tVALENCE-s20|Acc=0.67833|10-CV=0.53267|STD=0.15534|Time spend=6.40425705909729\n",
      "\tAROUSAL-s21|Acc=0.8|10-CV=0.8|STD=0.1|Time spend=5.209720134735107\n",
      "-----WARNING: Model s21 failed to learn: sum(ans)=1200.0 sum(y)=960.0 len(y)=1200\n",
      "\tVALENCE-s21|Acc=0.525|10-CV=0.38067|STD=0.08488|Time spend=6.431766510009766\n",
      "-----WARNING: Model s21 failed to learn: sum(ans)=1200.0 sum(y)=630.0 len(y)=1200\n",
      "\tAROUSAL-s22|Acc=0.6|10-CV=0.61|STD=0.07|Time spend=5.582016468048096\n",
      "-----WARNING: Model s22 failed to learn: sum(ans)=1200.0 sum(y)=720.0 len(y)=1200\n",
      "\tVALENCE-s22|Acc=0.63083|10-CV=0.59233|STD=0.1089|Time spend=6.728222846984863\n",
      "\tAROUSAL-s23|Acc=0.75|10-CV=0.777|STD=0.0945|Time spend=5.353243827819824\n",
      "-----WARNING: Model s23 failed to learn: sum(ans)=0.0 sum(y)=300.0 len(y)=1200\n",
      "\tVALENCE-s23|Acc=0.69083|10-CV=0.58233|STD=0.11211|Time spend=6.279165506362915\n",
      "\tAROUSAL-s24|Acc=0.825|10-CV=0.82|STD=0.07483|Time spend=5.3350303173065186\n",
      "-----WARNING: Model s24 failed to learn: sum(ans)=1200.0 sum(y)=990.0 len(y)=1200\n",
      "\tVALENCE-s24|Acc=0.5775|10-CV=0.43867|STD=0.18961|Time spend=6.450671195983887\n",
      "\tAROUSAL-s25|Acc=0.725|10-CV=0.74|STD=0.12806|Time spend=5.351832151412964\n",
      "-----WARNING: Model s25 failed to learn: sum(ans)=1200.0 sum(y)=870.0 len(y)=1200\n",
      "\tVALENCE-s25|Acc=0.52417|10-CV=0.37667|STD=0.09947|Time spend=6.570748567581177\n",
      "\tAROUSAL-s26|Acc=0.61167|10-CV=0.551|STD=0.11401|Time spend=5.620652198791504\n",
      "\tVALENCE-s26|Acc=0.65|10-CV=0.62|STD=0.14|Time spend=6.6073315143585205\n",
      "-----WARNING: Model s26 failed to learn: sum(ans)=1200.0 sum(y)=780.0 len(y)=1200\n",
      "\tAROUSAL-s27|Acc=0.70667|10-CV=0.63567|STD=0.10004|Time spend=5.52179741859436\n",
      "\tVALENCE-s27|Acc=0.75|10-CV=0.66733|STD=0.1232|Time spend=6.246619701385498\n",
      "-----WARNING: Model s27 failed to learn: sum(ans)=1200.0 sum(y)=900.0 len(y)=1200\n",
      "\tAROUSAL-s28|Acc=0.56167|10-CV=0.43567|STD=0.15411|Time spend=5.8481605052948\n",
      "\tVALENCE-s28|Acc=0.625|10-CV=0.57367|STD=0.15786|Time spend=6.876648902893066\n",
      "-----WARNING: Model s28 failed to learn: sum(ans)=1200.0 sum(y)=750.0 len(y)=1200\n",
      "\tAROUSAL-s29|Acc=0.6275|10-CV=0.52967|STD=0.08976|Time spend=5.4934632778167725\n",
      "\tVALENCE-s29|Acc=0.63583|10-CV=0.551|STD=0.10441|Time spend=6.579558372497559\n",
      "\tAROUSAL-s30|Acc=0.58583|10-CV=0.45933|STD=0.0791|Time spend=5.6380510330200195\n",
      "\tVALENCE-s30|Acc=0.675|10-CV=0.62|STD=0.14697|Time spend=6.616171836853027\n",
      "-----WARNING: Model s30 failed to learn: sum(ans)=1200.0 sum(y)=810.0 len(y)=1200\n",
      "\tAROUSAL-s31|Acc=0.68417|10-CV=0.57767|STD=0.14317|Time spend=5.6456239223480225\n",
      "\tVALENCE-s31|Acc=0.6175|10-CV=0.479|STD=0.10537|Time spend=6.720306396484375\n",
      "\tAROUSAL-s32|Acc=0.675|10-CV=0.75|STD=0.13601|Time spend=5.473202228546143\n",
      "-----WARNING: Model s32 failed to learn: sum(ans)=1200.0 sum(y)=810.0 len(y)=1200\n",
      "\tVALENCE-s32|Acc=0.60083|10-CV=0.487|STD=0.12741|Time spend=6.596614837646484\n",
      "AROUSAL|Acc=0.6718750000000002|10-CV=0.6078437499999999|STD=0.10946058619081746\n",
      "VALENCE|Acc=0.6420052083333334|10-CV=0.5422291666666665|STD=0.11809517279587159\n",
      "TOTAL|Acc=0.6569401041666668|10-CV=0.5750364583333332|STD=0.11377787949334453\n"
     ]
    }
   ],
   "source": [
    "for text in reports:\n",
    "    if(text == None): continue\n",
    "    print(text)\n",
    "\n",
    "accs.extend(accs_v)\n",
    "cv_means.extend(cv_means_v)\n",
    "cv_stds.extend(cv_stds_v)\n",
    "print(f\"TOTAL|Acc={sum(accs)/len(accs)}|10-CV={sum(cv_means)/len(cv_means)}|STD={sum(cv_stds)/len(cv_stds)}\")"
   ]
  },
  {
   "cell_type": "markdown",
   "metadata": {},
   "source": [
    "### 4.2 $ \\text{PCC}_{freq} (i,j) = \\frac{\\text{Cov}[\\hat{\\mathbf{X}}_i, \\hat{\\mathbf{X}}_j]}{\\sigma_{\\hat{\\mathbf{X}}_i} \\sigma_{\\hat{\\mathbf{X}}_j}} $"
   ]
  },
  {
   "cell_type": "code",
   "execution_count": 10,
   "metadata": {},
   "outputs": [],
   "source": [
    "def calculate_fft(signal, sfreq):\n",
    "    \"\"\" signal: can be 1D array of (n_sample,) or 2D array of (n_signal, n_sample)  \"\"\"\n",
    "    number_sample = signal.shape[-1]\n",
    "\n",
    "    # the result will be a complex number. We can obtain the magnitude using `absolute`\n",
    "    magnitude = np.abs(np.fft.fft(signal))\n",
    "    # scale the result\n",
    "    magnitude = magnitude / (number_sample/2)\n",
    "    # Selecting the range\n",
    "    magnitude = magnitude.T[:number_sample//2].T\n",
    "    freq_range = np.fft.fftfreq(number_sample, d=1/sfreq)[:number_sample//2]\n",
    "\n",
    "    return magnitude, freq_range"
   ]
  },
  {
   "cell_type": "code",
   "execution_count": 11,
   "metadata": {},
   "outputs": [
    {
     "data": {
      "application/vnd.jupyter.widget-view+json": {
       "model_id": "ba276119367d4b5ab411e12d99c48110",
       "version_major": 2,
       "version_minor": 0
      },
      "text/plain": [
       "  0%|          | 0/32 [00:00<?, ?it/s]"
      ]
     },
     "metadata": {},
     "output_type": "display_data"
    },
    {
     "name": "stdout",
     "output_type": "stream",
     "text": [
      "Fitted sphere radius:         95.3 mm\n",
      "Origin head coordinates:      -0.8 15.1 45.3 mm\n",
      "Origin device coordinates:    -0.8 15.1 45.3 mm\n",
      "========= close ========\n",
      "\tAROUSAL-s01|Acc=0.815|10-CV=0.544|STD=0.11104|Time spend=5.497409105300903\n",
      "\tVALENCE-s01|Acc=0.82417|10-CV=0.46|STD=0.05119|Time spend=6.70176100730896\n",
      "Fitted sphere radius:         95.3 mm\n",
      "Origin head coordinates:      -0.8 15.1 45.3 mm\n",
      "Origin device coordinates:    -0.8 15.1 45.3 mm\n",
      "========= close ========\n",
      "\tAROUSAL-s02|Acc=0.66083|10-CV=0.57133|STD=0.10547|Time spend=5.572080612182617\n",
      "\tVALENCE-s02|Acc=0.64333|10-CV=0.466|STD=0.0907|Time spend=6.756743907928467\n",
      "Fitted sphere radius:         95.3 mm\n",
      "Origin head coordinates:      -0.8 15.1 45.3 mm\n",
      "Origin device coordinates:    -0.8 15.1 45.3 mm\n",
      "========= close ========\n",
      "\tAROUSAL-s03|Acc=0.8|10-CV=0.73|STD=0.15524|Time spend=5.254481315612793\n",
      "\tVALENCE-s03|Acc=0.65583|10-CV=0.46233|STD=0.13144|Time spend=6.3797607421875\n",
      "Fitted sphere radius:         95.3 mm\n",
      "Origin head coordinates:      -0.8 15.1 45.3 mm\n",
      "Origin device coordinates:    -0.8 15.1 45.3 mm\n",
      "========= close ========\n",
      "\tAROUSAL-s04|Acc=0.64667|10-CV=0.52567|STD=0.14196|Time spend=5.810120582580566\n",
      "\tVALENCE-s04|Acc=0.6425|10-CV=0.50133|STD=0.11397|Time spend=6.880080938339233\n",
      "Fitted sphere radius:         95.3 mm\n",
      "Origin head coordinates:      -0.8 15.1 45.3 mm\n",
      "Origin device coordinates:    -0.8 15.1 45.3 mm\n",
      "========= close ========\n",
      "\tAROUSAL-s05|Acc=0.64833|10-CV=0.454|STD=0.1083|Time spend=6.153169393539429\n",
      "\tVALENCE-s05|Acc=0.63|10-CV=0.56367|STD=0.06951|Time spend=7.383643865585327\n",
      "Fitted sphere radius:         95.3 mm\n",
      "Origin head coordinates:      -0.8 15.1 45.3 mm\n",
      "Origin device coordinates:    -0.8 15.1 45.3 mm\n",
      "========= close ========\n",
      "\tAROUSAL-s06|Acc=0.695|10-CV=0.53833|STD=0.12359|Time spend=5.667987108230591\n",
      "\tVALENCE-s06|Acc=0.75167|10-CV=0.71767|STD=0.07379|Time spend=6.612112760543823\n",
      "Fitted sphere radius:         95.3 mm\n",
      "Origin head coordinates:      -0.8 15.1 45.3 mm\n",
      "Origin device coordinates:    -0.8 15.1 45.3 mm\n",
      "========= close ========\n",
      "\tAROUSAL-s07|Acc=0.73583|10-CV=0.59767|STD=0.08543|Time spend=5.504276275634766\n",
      "\tVALENCE-s07|Acc=0.77833|10-CV=0.653|STD=0.12678|Time spend=6.448670148849487\n",
      "Fitted sphere radius:         95.3 mm\n",
      "Origin head coordinates:      -0.8 15.1 45.3 mm\n",
      "Origin device coordinates:    -0.8 15.1 45.3 mm\n",
      "========= close ========\n",
      "\tAROUSAL-s08|Acc=0.71|10-CV=0.402|STD=0.11487|Time spend=5.93004035949707\n",
      "\tVALENCE-s08|Acc=0.71167|10-CV=0.475|STD=0.06882|Time spend=7.061407089233398\n",
      "Fitted sphere radius:         95.3 mm\n",
      "Origin head coordinates:      -0.8 15.1 45.3 mm\n",
      "Origin device coordinates:    -0.8 15.1 45.3 mm\n",
      "========= close ========\n",
      "\tAROUSAL-s09|Acc=0.64917|10-CV=0.55367|STD=0.11295|Time spend=5.635653018951416\n",
      "\tVALENCE-s09|Acc=0.68833|10-CV=0.59567|STD=0.06787|Time spend=6.653577566146851\n",
      "Fitted sphere radius:         95.3 mm\n",
      "Origin head coordinates:      -0.8 15.1 45.3 mm\n",
      "Origin device coordinates:    -0.8 15.1 45.3 mm\n",
      "========= close ========\n",
      "\tAROUSAL-s10|Acc=0.715|10-CV=0.566|STD=0.07368|Time spend=5.504791021347046\n",
      "\tVALENCE-s10|Acc=0.82833|10-CV=0.75367|STD=0.07845|Time spend=6.358045816421509\n",
      "Fitted sphere radius:         95.3 mm\n",
      "Origin head coordinates:      -0.8 15.1 45.3 mm\n",
      "Origin device coordinates:    -0.8 15.1 45.3 mm\n",
      "========= close ========\n",
      "\tAROUSAL-s11|Acc=0.645|10-CV=0.58867|STD=0.05199|Time spend=5.4747843742370605\n",
      "\tVALENCE-s11|Acc=0.66167|10-CV=0.54433|STD=0.14712|Time spend=6.478906869888306\n",
      "Fitted sphere radius:         95.3 mm\n",
      "Origin head coordinates:      -0.8 15.1 45.3 mm\n",
      "Origin device coordinates:    -0.8 15.1 45.3 mm\n",
      "========= close ========\n",
      "\tAROUSAL-s12|Acc=0.825|10-CV=0.83|STD=0.1005|Time spend=5.291571855545044\n",
      "\tVALENCE-s12|Acc=0.70917|10-CV=0.488|STD=0.14347|Time spend=6.324139356613159\n",
      "Fitted sphere radius:         95.3 mm\n",
      "Origin head coordinates:      -0.8 15.1 45.3 mm\n",
      "Origin device coordinates:    -0.8 15.1 45.3 mm\n",
      "========= close ========\n",
      "\tAROUSAL-s13|Acc=0.85|10-CV=0.84|STD=0.06633|Time spend=5.125365257263184\n",
      "\tVALENCE-s13|Acc=0.69833|10-CV=0.57467|STD=0.06335|Time spend=6.1513800621032715\n",
      "Fitted sphere radius:         95.3 mm\n",
      "Origin head coordinates:      -0.8 15.1 45.3 mm\n",
      "Origin device coordinates:    -0.8 15.1 45.3 mm\n",
      "========= close ========\n",
      "\tAROUSAL-s14|Acc=0.67833|10-CV=0.65067|STD=0.10489|Time spend=5.688422441482544\n",
      "\tVALENCE-s14|Acc=0.6925|10-CV=0.55233|STD=0.06231|Time spend=6.789854288101196\n",
      "Fitted sphere radius:         95.3 mm\n",
      "Origin head coordinates:      -0.8 15.1 45.3 mm\n",
      "Origin device coordinates:    -0.8 15.1 45.3 mm\n",
      "========= close ========\n",
      "\tAROUSAL-s15|Acc=0.7775|10-CV=0.50667|STD=0.10683|Time spend=5.558118581771851\n",
      "\tVALENCE-s15|Acc=0.82|10-CV=0.68767|STD=0.07131|Time spend=6.465729475021362\n",
      "Fitted sphere radius:         95.3 mm\n",
      "Origin head coordinates:      -0.8 15.1 45.3 mm\n",
      "Origin device coordinates:    -0.8 15.1 45.3 mm\n",
      "========= close ========\n",
      "\tAROUSAL-s16|Acc=0.7375|10-CV=0.459|STD=0.09487|Time spend=5.592339038848877\n",
      "\tVALENCE-s16|Acc=0.74|10-CV=0.641|STD=0.08809|Time spend=6.545929431915283\n",
      "Fitted sphere radius:         95.3 mm\n",
      "Origin head coordinates:      -0.8 15.1 45.3 mm\n",
      "Origin device coordinates:    -0.8 15.1 45.3 mm\n",
      "========= close ========\n",
      "\tAROUSAL-s17|Acc=0.6825|10-CV=0.585|STD=0.07661|Time spend=5.6148810386657715\n",
      "\tVALENCE-s17|Acc=0.61333|10-CV=0.41833|STD=0.09559|Time spend=6.78548526763916\n",
      "Fitted sphere radius:         95.3 mm\n",
      "Origin head coordinates:      -0.8 15.1 45.3 mm\n",
      "Origin device coordinates:    -0.8 15.1 45.3 mm\n",
      "========= close ========\n",
      "\tAROUSAL-s18|Acc=0.68667|10-CV=0.547|STD=0.11619|Time spend=5.51325535774231\n",
      "\tVALENCE-s18|Acc=0.7775|10-CV=0.673|STD=0.075|Time spend=6.438329458236694\n",
      "Fitted sphere radius:         95.3 mm\n",
      "Origin head coordinates:      -0.8 15.1 45.3 mm\n",
      "Origin device coordinates:    -0.8 15.1 45.3 mm\n",
      "========= close ========\n",
      "\tAROUSAL-s19|Acc=0.7125|10-CV=0.62633|STD=0.12083|Time spend=5.564124822616577\n",
      "\tVALENCE-s19|Acc=0.68|10-CV=0.475|STD=0.12294|Time spend=6.620676279067993\n",
      "Fitted sphere radius:         95.3 mm\n",
      "Origin head coordinates:      -0.8 15.1 45.3 mm\n",
      "Origin device coordinates:    -0.8 15.1 45.3 mm\n",
      "========= close ========\n",
      "\tAROUSAL-s20|Acc=0.775|10-CV=0.82|STD=0.08718|Time spend=5.3393027782440186\n",
      "\tVALENCE-s20|Acc=0.74917|10-CV=0.56333|STD=0.13044|Time spend=6.350862503051758\n",
      "Fitted sphere radius:         95.3 mm\n",
      "Origin head coordinates:      -0.8 15.1 45.3 mm\n",
      "Origin device coordinates:    -0.8 15.1 45.3 mm\n",
      "========= close ========\n",
      "\tAROUSAL-s21|Acc=0.8|10-CV=0.8|STD=0.1|Time spend=5.413840055465698\n",
      "\tVALENCE-s21|Acc=0.63167|10-CV=0.40233|STD=0.07834|Time spend=6.619513034820557\n",
      "Fitted sphere radius:         95.3 mm\n",
      "Origin head coordinates:      -0.8 15.1 45.3 mm\n",
      "Origin device coordinates:    -0.8 15.1 45.3 mm\n",
      "========= close ========\n",
      "\tAROUSAL-s22|Acc=0.60083|10-CV=0.587|STD=0.06388|Time spend=5.581557512283325\n",
      "\tVALENCE-s22|Acc=0.6425|10-CV=0.59033|STD=0.08343|Time spend=6.606181383132935\n",
      "Fitted sphere radius:         95.3 mm\n",
      "Origin head coordinates:      -0.8 15.1 45.3 mm\n",
      "Origin device coordinates:    -0.8 15.1 45.3 mm\n",
      "========= close ========\n",
      "\tAROUSAL-s23|Acc=0.755|10-CV=0.77133|STD=0.0877|Time spend=5.2853076457977295\n",
      "\tVALENCE-s23|Acc=0.77583|10-CV=0.57767|STD=0.11038|Time spend=6.302171230316162\n",
      "Fitted sphere radius:         95.3 mm\n",
      "Origin head coordinates:      -0.8 15.1 45.3 mm\n",
      "Origin device coordinates:    -0.8 15.1 45.3 mm\n",
      "========= close ========\n",
      "\tAROUSAL-s24|Acc=0.825|10-CV=0.82|STD=0.07483|Time spend=5.54198145866394\n",
      "\tVALENCE-s24|Acc=0.6425|10-CV=0.47433|STD=0.12874|Time spend=6.675267934799194\n",
      "Fitted sphere radius:         95.3 mm\n",
      "Origin head coordinates:      -0.8 15.1 45.3 mm\n",
      "Origin device coordinates:    -0.8 15.1 45.3 mm\n",
      "========= close ========\n",
      "\tAROUSAL-s25|Acc=0.725|10-CV=0.73967|STD=0.12739|Time spend=5.329046726226807\n",
      "\tVALENCE-s25|Acc=0.61167|10-CV=0.40633|STD=0.10026|Time spend=6.481108903884888\n",
      "Fitted sphere radius:         95.3 mm\n",
      "Origin head coordinates:      -0.8 15.1 45.3 mm\n",
      "Origin device coordinates:    -0.8 15.1 45.3 mm\n",
      "========= close ========\n",
      "\tAROUSAL-s26|Acc=0.665|10-CV=0.53167|STD=0.10402|Time spend=5.533663034439087\n",
      "\tVALENCE-s26|Acc=0.6525|10-CV=0.599|STD=0.11868|Time spend=6.640631914138794\n",
      "Fitted sphere radius:         95.3 mm\n",
      "Origin head coordinates:      -0.8 15.1 45.3 mm\n",
      "Origin device coordinates:    -0.8 15.1 45.3 mm\n",
      "========= close ========\n",
      "\tAROUSAL-s27|Acc=0.7725|10-CV=0.634|STD=0.1002|Time spend=5.35786509513855\n",
      "\tVALENCE-s27|Acc=0.79333|10-CV=0.667|STD=0.11992|Time spend=6.164238929748535\n",
      "Fitted sphere radius:         95.3 mm\n",
      "Origin head coordinates:      -0.8 15.1 45.3 mm\n",
      "Origin device coordinates:    -0.8 15.1 45.3 mm\n",
      "========= close ========\n",
      "\tAROUSAL-s28|Acc=0.59167|10-CV=0.45867|STD=0.10066|Time spend=5.6372058391571045\n",
      "\tVALENCE-s28|Acc=0.62917|10-CV=0.534|STD=0.11209|Time spend=6.727813720703125\n",
      "Fitted sphere radius:         95.3 mm\n",
      "Origin head coordinates:      -0.8 15.1 45.3 mm\n",
      "Origin device coordinates:    -0.8 15.1 45.3 mm\n",
      "========= close ========\n",
      "\tAROUSAL-s29|Acc=0.685|10-CV=0.53533|STD=0.08908|Time spend=5.396834850311279\n",
      "\tVALENCE-s29|Acc=0.69833|10-CV=0.56367|STD=0.07729|Time spend=6.477293968200684\n",
      "Fitted sphere radius:         95.3 mm\n",
      "Origin head coordinates:      -0.8 15.1 45.3 mm\n",
      "Origin device coordinates:    -0.8 15.1 45.3 mm\n",
      "========= close ========\n",
      "\tAROUSAL-s30|Acc=0.6875|10-CV=0.476|STD=0.08099|Time spend=5.734174013137817\n",
      "\tVALENCE-s30|Acc=0.675|10-CV=0.617|STD=0.14225|Time spend=6.746039628982544\n",
      "Fitted sphere radius:         95.3 mm\n",
      "Origin head coordinates:      -0.8 15.1 45.3 mm\n",
      "Origin device coordinates:    -0.8 15.1 45.3 mm\n",
      "========= close ========\n",
      "\tAROUSAL-s31|Acc=0.77083|10-CV=0.57133|STD=0.11927|Time spend=5.642541885375977\n",
      "\tVALENCE-s31|Acc=0.75667|10-CV=0.507|STD=0.10231|Time spend=6.84014892578125\n",
      "Fitted sphere radius:         95.3 mm\n",
      "Origin head coordinates:      -0.8 15.1 45.3 mm\n",
      "Origin device coordinates:    -0.8 15.1 45.3 mm\n",
      "========= close ========\n",
      "\tAROUSAL-s32|Acc=0.70167|10-CV=0.68367|STD=0.09657|Time spend=5.5910773277282715\n",
      "\tVALENCE-s32|Acc=0.6525|10-CV=0.48|STD=0.08871|Time spend=6.663195371627808\n",
      "AROUSAL|Acc=0.7195572916666666|10-CV=0.6107708333333333|STD=0.10010485534757038\n",
      "VALENCE|Acc=0.7017968750000001|10-CV=0.5526458333333334|STD=0.09795452517764909\n"
     ]
    }
   ],
   "source": [
    "accs, cv_means, cv_stds = [],[],[]\n",
    "accs_v, cv_means_v, cv_stds_v = [],[],[]\n",
    "reports = []\n",
    "for filename in (pbar := tqdm(dataset.get_file_list())):\n",
    "    start = time.time()\n",
    "    pbar.set_description(filename)\n",
    "    data, labels, groups = dataset.get_data(filename, stimuli=Dataset_subjectDependent.STIMULI_AROUSAL, return_type='mne', sfreq=128)\n",
    "    \n",
    "    data_csd = mne.preprocessing.compute_current_source_density(data)\n",
    "    magnitude, freq_range = calculate_fft(data_csd.get_data(), 128)\n",
    "    pcc = calculate_pcc(magnitude)\n",
    "    _,acc,cross,train_report = train_model(pcc, labels.squeeze(), groups, filename=filename, return_text=True)\n",
    "    report = f\"\\tAROUSAL-{filename}|Acc={round(acc,5)}|10-CV={round(cross.mean(),5)}|STD={round(cross.std(),5)}|Time spend={time.time() - start}\"\n",
    "    print(report)\n",
    "    reports.append(report)\n",
    "    reports.append(train_report)\n",
    "    accs.append(acc)\n",
    "    cv_means.append(cross.mean())\n",
    "    cv_stds.append(cross.std())\n",
    "\n",
    "    _, labels_v, groups_v = dataset.get_data(filename, stimuli=Dataset_subjectDependent.STIMULI_VALENCE, return_type='mne', sfreq=128)\n",
    "    _,acc,cross,train_report = train_model(pcc, labels_v.squeeze(), groups_v, filename=filename, return_text=True)\n",
    "    report = f\"\\tVALENCE-{filename}|Acc={round(acc,5)}|10-CV={round(cross.mean(),5)}|STD={round(cross.std(),5)}|Time spend={time.time() - start}\"\n",
    "    print(report)\n",
    "    reports.append(report)\n",
    "    reports.append(train_report)\n",
    "    accs_v.append(acc)\n",
    "    cv_means_v.append(cross.mean())\n",
    "    cv_stds_v.append(cross.std())\n",
    "    # break\n",
    "    # count+=1\n",
    "    # if(count == 5): break\n",
    "report = f\"AROUSAL|Acc={sum(accs)/len(accs)}|10-CV={sum(cv_means)/len(cv_means)}|STD={sum(cv_stds)/len(cv_stds)}\"\n",
    "print(report)\n",
    "reports.append(report)\n",
    "report = f\"VALENCE|Acc={sum(accs_v)/len(accs_v)}|10-CV={sum(cv_means_v)/len(cv_means_v)}|STD={sum(cv_stds_v)/len(cv_stds_v)}\"\n",
    "print(report)\n",
    "reports.append(report)"
   ]
  },
  {
   "cell_type": "code",
   "execution_count": 12,
   "metadata": {},
   "outputs": [
    {
     "name": "stdout",
     "output_type": "stream",
     "text": [
      "\tAROUSAL-s01|Acc=0.815|10-CV=0.544|STD=0.11104|Time spend=5.497409105300903\n",
      "\tVALENCE-s01|Acc=0.82417|10-CV=0.46|STD=0.05119|Time spend=6.70176100730896\n",
      "\tAROUSAL-s02|Acc=0.66083|10-CV=0.57133|STD=0.10547|Time spend=5.572080612182617\n",
      "\tVALENCE-s02|Acc=0.64333|10-CV=0.466|STD=0.0907|Time spend=6.756743907928467\n",
      "\tAROUSAL-s03|Acc=0.8|10-CV=0.73|STD=0.15524|Time spend=5.254481315612793\n",
      "-----WARNING: Model s03 failed to learn: sum(ans)=0.0 sum(y)=240.0 len(y)=1200\n",
      "\tVALENCE-s03|Acc=0.65583|10-CV=0.46233|STD=0.13144|Time spend=6.3797607421875\n",
      "\tAROUSAL-s04|Acc=0.64667|10-CV=0.52567|STD=0.14196|Time spend=5.810120582580566\n",
      "\tVALENCE-s04|Acc=0.6425|10-CV=0.50133|STD=0.11397|Time spend=6.880080938339233\n",
      "\tAROUSAL-s05|Acc=0.64833|10-CV=0.454|STD=0.1083|Time spend=6.153169393539429\n",
      "\tVALENCE-s05|Acc=0.63|10-CV=0.56367|STD=0.06951|Time spend=7.383643865585327\n",
      "\tAROUSAL-s06|Acc=0.695|10-CV=0.53833|STD=0.12359|Time spend=5.667987108230591\n",
      "\tVALENCE-s06|Acc=0.75167|10-CV=0.71767|STD=0.07379|Time spend=6.612112760543823\n",
      "\tAROUSAL-s07|Acc=0.73583|10-CV=0.59767|STD=0.08543|Time spend=5.504276275634766\n",
      "\tVALENCE-s07|Acc=0.77833|10-CV=0.653|STD=0.12678|Time spend=6.448670148849487\n",
      "\tAROUSAL-s08|Acc=0.71|10-CV=0.402|STD=0.11487|Time spend=5.93004035949707\n",
      "\tVALENCE-s08|Acc=0.71167|10-CV=0.475|STD=0.06882|Time spend=7.061407089233398\n",
      "\tAROUSAL-s09|Acc=0.64917|10-CV=0.55367|STD=0.11295|Time spend=5.635653018951416\n",
      "\tVALENCE-s09|Acc=0.68833|10-CV=0.59567|STD=0.06787|Time spend=6.653577566146851\n",
      "\tAROUSAL-s10|Acc=0.715|10-CV=0.566|STD=0.07368|Time spend=5.504791021347046\n",
      "\tVALENCE-s10|Acc=0.82833|10-CV=0.75367|STD=0.07845|Time spend=6.358045816421509\n",
      "\tAROUSAL-s11|Acc=0.645|10-CV=0.58867|STD=0.05199|Time spend=5.4747843742370605\n",
      "\tVALENCE-s11|Acc=0.66167|10-CV=0.54433|STD=0.14712|Time spend=6.478906869888306\n",
      "\tAROUSAL-s12|Acc=0.825|10-CV=0.83|STD=0.1005|Time spend=5.291571855545044\n",
      "-----WARNING: Model s12 failed to learn: sum(ans)=1200.0 sum(y)=990.0 len(y)=1200\n",
      "\tVALENCE-s12|Acc=0.70917|10-CV=0.488|STD=0.14347|Time spend=6.324139356613159\n",
      "\tAROUSAL-s13|Acc=0.85|10-CV=0.84|STD=0.06633|Time spend=5.125365257263184\n",
      "-----WARNING: Model s13 failed to learn: sum(ans)=1200.0 sum(y)=1020.0 len(y)=1200\n",
      "\tVALENCE-s13|Acc=0.69833|10-CV=0.57467|STD=0.06335|Time spend=6.1513800621032715\n",
      "\tAROUSAL-s14|Acc=0.67833|10-CV=0.65067|STD=0.10489|Time spend=5.688422441482544\n",
      "\tVALENCE-s14|Acc=0.6925|10-CV=0.55233|STD=0.06231|Time spend=6.789854288101196\n",
      "\tAROUSAL-s15|Acc=0.7775|10-CV=0.50667|STD=0.10683|Time spend=5.558118581771851\n",
      "\tVALENCE-s15|Acc=0.82|10-CV=0.68767|STD=0.07131|Time spend=6.465729475021362\n",
      "\tAROUSAL-s16|Acc=0.7375|10-CV=0.459|STD=0.09487|Time spend=5.592339038848877\n",
      "\tVALENCE-s16|Acc=0.74|10-CV=0.641|STD=0.08809|Time spend=6.545929431915283\n",
      "\tAROUSAL-s17|Acc=0.6825|10-CV=0.585|STD=0.07661|Time spend=5.6148810386657715\n",
      "\tVALENCE-s17|Acc=0.61333|10-CV=0.41833|STD=0.09559|Time spend=6.78548526763916\n",
      "\tAROUSAL-s18|Acc=0.68667|10-CV=0.547|STD=0.11619|Time spend=5.51325535774231\n",
      "\tVALENCE-s18|Acc=0.7775|10-CV=0.673|STD=0.075|Time spend=6.438329458236694\n",
      "\tAROUSAL-s19|Acc=0.7125|10-CV=0.62633|STD=0.12083|Time spend=5.564124822616577\n",
      "\tVALENCE-s19|Acc=0.68|10-CV=0.475|STD=0.12294|Time spend=6.620676279067993\n",
      "\tAROUSAL-s20|Acc=0.775|10-CV=0.82|STD=0.08718|Time spend=5.3393027782440186\n",
      "-----WARNING: Model s20 failed to learn: sum(ans)=1200.0 sum(y)=930.0 len(y)=1200\n",
      "\tVALENCE-s20|Acc=0.74917|10-CV=0.56333|STD=0.13044|Time spend=6.350862503051758\n",
      "\tAROUSAL-s21|Acc=0.8|10-CV=0.8|STD=0.1|Time spend=5.413840055465698\n",
      "-----WARNING: Model s21 failed to learn: sum(ans)=1200.0 sum(y)=960.0 len(y)=1200\n",
      "\tVALENCE-s21|Acc=0.63167|10-CV=0.40233|STD=0.07834|Time spend=6.619513034820557\n",
      "\tAROUSAL-s22|Acc=0.60083|10-CV=0.587|STD=0.06388|Time spend=5.581557512283325\n",
      "\tVALENCE-s22|Acc=0.6425|10-CV=0.59033|STD=0.08343|Time spend=6.606181383132935\n",
      "\tAROUSAL-s23|Acc=0.755|10-CV=0.77133|STD=0.0877|Time spend=5.2853076457977295\n",
      "\tVALENCE-s23|Acc=0.77583|10-CV=0.57767|STD=0.11038|Time spend=6.302171230316162\n",
      "\tAROUSAL-s24|Acc=0.825|10-CV=0.82|STD=0.07483|Time spend=5.54198145866394\n",
      "-----WARNING: Model s24 failed to learn: sum(ans)=1200.0 sum(y)=990.0 len(y)=1200\n",
      "\tVALENCE-s24|Acc=0.6425|10-CV=0.47433|STD=0.12874|Time spend=6.675267934799194\n",
      "\tAROUSAL-s25|Acc=0.725|10-CV=0.73967|STD=0.12739|Time spend=5.329046726226807\n",
      "-----WARNING: Model s25 failed to learn: sum(ans)=1200.0 sum(y)=870.0 len(y)=1200\n",
      "\tVALENCE-s25|Acc=0.61167|10-CV=0.40633|STD=0.10026|Time spend=6.481108903884888\n",
      "\tAROUSAL-s26|Acc=0.665|10-CV=0.53167|STD=0.10402|Time spend=5.533663034439087\n",
      "\tVALENCE-s26|Acc=0.6525|10-CV=0.599|STD=0.11868|Time spend=6.640631914138794\n",
      "\tAROUSAL-s27|Acc=0.7725|10-CV=0.634|STD=0.1002|Time spend=5.35786509513855\n",
      "\tVALENCE-s27|Acc=0.79333|10-CV=0.667|STD=0.11992|Time spend=6.164238929748535\n",
      "\tAROUSAL-s28|Acc=0.59167|10-CV=0.45867|STD=0.10066|Time spend=5.6372058391571045\n",
      "\tVALENCE-s28|Acc=0.62917|10-CV=0.534|STD=0.11209|Time spend=6.727813720703125\n",
      "\tAROUSAL-s29|Acc=0.685|10-CV=0.53533|STD=0.08908|Time spend=5.396834850311279\n",
      "\tVALENCE-s29|Acc=0.69833|10-CV=0.56367|STD=0.07729|Time spend=6.477293968200684\n",
      "\tAROUSAL-s30|Acc=0.6875|10-CV=0.476|STD=0.08099|Time spend=5.734174013137817\n",
      "\tVALENCE-s30|Acc=0.675|10-CV=0.617|STD=0.14225|Time spend=6.746039628982544\n",
      "-----WARNING: Model s30 failed to learn: sum(ans)=1200.0 sum(y)=810.0 len(y)=1200\n",
      "\tAROUSAL-s31|Acc=0.77083|10-CV=0.57133|STD=0.11927|Time spend=5.642541885375977\n",
      "\tVALENCE-s31|Acc=0.75667|10-CV=0.507|STD=0.10231|Time spend=6.84014892578125\n",
      "\tAROUSAL-s32|Acc=0.70167|10-CV=0.68367|STD=0.09657|Time spend=5.5910773277282715\n",
      "\tVALENCE-s32|Acc=0.6525|10-CV=0.48|STD=0.08871|Time spend=6.663195371627808\n",
      "AROUSAL|Acc=0.7195572916666666|10-CV=0.6107708333333333|STD=0.10010485534757038\n",
      "VALENCE|Acc=0.7017968750000001|10-CV=0.5526458333333334|STD=0.09795452517764909\n",
      "TOTAL|Acc=0.7106770833333333|10-CV=0.5817083333333333|STD=0.0990296902626097\n"
     ]
    }
   ],
   "source": [
    "for text in reports:\n",
    "    if(text == None): continue\n",
    "    print(text)\n",
    "\n",
    "accs.extend(accs_v)\n",
    "cv_means.extend(cv_means_v)\n",
    "cv_stds.extend(cv_stds_v)\n",
    "print(f\"TOTAL|Acc={sum(accs)/len(accs)}|10-CV={sum(cv_means)/len(cv_means)}|STD={sum(cv_stds)/len(cv_stds)}\")"
   ]
  },
  {
   "cell_type": "markdown",
   "metadata": {},
   "source": [
    "### 4.3 $ \\text{PLV}(j,k) = \\frac{1}{T} | \\Sigma^{T}_{t=1} e^{i(\\phi^{t}_{j} - \\phi^{t}_{k})}   | $"
   ]
  },
  {
   "cell_type": "code",
   "execution_count": 13,
   "metadata": {},
   "outputs": [],
   "source": [
    "# bands = [(0,4), (4,8), (8,12), (12,30), (30,64)]\n",
    "def calculate_stft(signals, sfreq):\n",
    "    from scipy import signal\n",
    "    f_range, t_range, Z = signal.stft(signals, sfreq, nperseg=sfreq//10, nfft=sfreq)\n",
    "    magnitude = np.abs(Z) \n",
    "    phase = np.angle(Z)\n",
    "    return magnitude, phase, f_range, t_range\n",
    "\n",
    "def PLV_stft(p_id, phase):\n",
    "    # (32, 65, 12) => (channels, freqs, times)\n",
    "    # print(f\"p_id:{p_id} - data to run {phase.shape}\")\n",
    "    print(phase.shape)\n",
    "    from itertools import combinations\n",
    "    plv = []\n",
    "    # count = 0\n",
    "    for index in range(phase.shape[0]):\n",
    "        plv_epoch = []\n",
    "        for comb in combinations(list(range(phase.shape[1])), 2):\n",
    "            # shape = (65,12)\n",
    "            phase_a, phase_b = phase[index, comb[0]], phase[index, comb[1]]\n",
    "            phase_diff = phase_a - phase_b\n",
    "            # sum along the time size\n",
    "            plv_ab = np.abs(np.average(np.exp(complex(0,1) * phase_diff), axis=1))\n",
    "            plv_epoch.append(plv_ab)\n",
    "        plv_epoch = np.vstack(plv_epoch)\n",
    "        # print(plv_epoch.shape) => (300, 32, 65, 23)\n",
    "        plv_epoch_5 = np.concatenate([ plv_epoch[:,0:4].mean(axis=1).reshape(-1,1),\n",
    "                                        plv_epoch[:,4:8].mean(axis=1).reshape(-1,1),\n",
    "                                        plv_epoch[:,8:12].mean(axis=1).reshape(-1,1),\n",
    "                                        plv_epoch[:,12:30].mean(axis=1).reshape(-1,1),\n",
    "                                        plv_epoch[:,30:65].mean(axis=1).reshape(-1,1)], axis=0)\n",
    "        plv.append(np.expand_dims(plv_epoch_5, axis=0))\n",
    "        # count += 1\n",
    "        # if(count == 3): break\n",
    "    # shape (496, 65)\n",
    "    # 496 is number of pairs that is not duplicate\n",
    "    # 65 is number of phase of frequencies\n",
    "    plv = np.vstack( plv )\n",
    "    return plv.squeeze()\n",
    "\n",
    "def calculate_plv(data, n_jobs=8):\n",
    "    \"\"\" \n",
    "    Input: Expect data to have (n_epochs, n_channels, n_samples)\n",
    "    Output: (n_epochs, n_conn, n_freqs ) => n_conn = n_channels!/(2!(n_channels-2)!)\n",
    "    \"\"\"\n",
    "    from multiprocessing import Pool\n",
    "\n",
    "    try:\n",
    "        t_out = 60000\n",
    "        pool = Pool()\n",
    "        p_list = []\n",
    "        ans_list = []\n",
    "        num_p = n_jobs\n",
    "        indices = np.array_split(np.arange(data.shape[0]), num_p)\n",
    "        _, phase, _, _ = calculate_stft(data, 128)\n",
    "        for p_id in range(num_p):\n",
    "            p_list.append(pool.apply_async(PLV_stft, [p_id, phase[indices[p_id]] ]))\n",
    "        for p_id in range(num_p):\n",
    "            ans_list.append( p_list[p_id].get(timeout=t_out) )\n",
    "        # ans_list\n",
    "    finally:\n",
    "        print(\"========= close ========\")\n",
    "        pool.close() \n",
    "        pool.terminate()\n",
    "    return np.vstack(ans_list)\n"
   ]
  },
  {
   "cell_type": "code",
   "execution_count": 14,
   "metadata": {},
   "outputs": [
    {
     "data": {
      "application/vnd.jupyter.widget-view+json": {
       "model_id": "1cd0a4d7d9594f2081748a20969ec88c",
       "version_major": 2,
       "version_minor": 0
      },
      "text/plain": [
       "  0%|          | 0/32 [00:00<?, ?it/s]"
      ]
     },
     "metadata": {},
     "output_type": "display_data"
    },
    {
     "name": "stdout",
     "output_type": "stream",
     "text": [
      "Fitted sphere radius:         95.3 mm\n",
      "Origin head coordinates:      -0.8 15.1 45.3 mm\n",
      "Origin device coordinates:    -0.8 15.1 45.3 mm\n",
      "(150, 32, 65, 44)\n",
      "(150, 32, 65, 44)\n",
      "(150, 32, 65, 44)\n",
      "(150, 32, 65, 44)\n",
      "(150, 32, 65, 44)\n",
      "(150, 32, 65, 44)\n",
      "(150, 32, 65, 44)\n",
      "(150, 32, 65, 44)\n",
      "========= close ========\n",
      "\tAROUSAL-s01|Acc=0.87417|10-CV=0.56033|STD=0.12806|Time spend=29.60220718383789\n",
      "\tVALENCE-s01|Acc=0.86667|10-CV=0.49867|STD=0.06483|Time spend=40.257089138031006\n",
      "Fitted sphere radius:         95.3 mm\n",
      "Origin head coordinates:      -0.8 15.1 45.3 mm\n",
      "Origin device coordinates:    -0.8 15.1 45.3 mm\n",
      "(150, 32, 65, 44)\n",
      "(150, 32, 65, 44)\n",
      "(150, 32, 65, 44)\n",
      "(150, 32, 65, 44)\n",
      "(150, 32, 65, 44)\n",
      "(150, 32, 65, 44)\n",
      "(150, 32, 65, 44)\n",
      "(150, 32, 65, 44)\n",
      "========= close ========\n",
      "\tAROUSAL-s02|Acc=0.705|10-CV=0.538|STD=0.07512|Time spend=31.160213232040405\n",
      "\tVALENCE-s02|Acc=0.745|10-CV=0.671|STD=0.10194|Time spend=39.45696949958801\n",
      "Fitted sphere radius:         95.3 mm\n",
      "Origin head coordinates:      -0.8 15.1 45.3 mm\n",
      "Origin device coordinates:    -0.8 15.1 45.3 mm\n",
      "(150, 32, 65, 44)\n",
      "(150, 32, 65, 44)\n",
      "(150, 32, 65, 44)\n",
      "(150, 32, 65, 44)\n",
      "(150, 32, 65, 44)\n",
      "(150, 32, 65, 44)\n",
      "(150, 32, 65, 44)\n",
      "(150, 32, 65, 44)\n",
      "========= close ========\n",
      "\tAROUSAL-s03|Acc=0.8|10-CV=0.73|STD=0.15524|Time spend=25.96568989753723\n",
      "\tVALENCE-s03|Acc=0.76417|10-CV=0.58667|STD=0.17731|Time spend=35.901060819625854\n",
      "Fitted sphere radius:         95.3 mm\n",
      "Origin head coordinates:      -0.8 15.1 45.3 mm\n",
      "Origin device coordinates:    -0.8 15.1 45.3 mm\n",
      "(150, 32, 65, 44)\n",
      "(150, 32, 65, 44)\n",
      "(150, 32, 65, 44)\n",
      "(150, 32, 65, 44)\n",
      "(150, 32, 65, 44)\n",
      "(150, 32, 65, 44)\n",
      "(150, 32, 65, 44)\n",
      "(150, 32, 65, 44)\n",
      "========= close ========\n",
      "\tAROUSAL-s04|Acc=0.725|10-CV=0.54067|STD=0.10875|Time spend=27.966418981552124\n",
      "\tVALENCE-s04|Acc=0.75417|10-CV=0.58533|STD=0.07107|Time spend=36.30028200149536\n",
      "Fitted sphere radius:         95.3 mm\n",
      "Origin head coordinates:      -0.8 15.1 45.3 mm\n",
      "Origin device coordinates:    -0.8 15.1 45.3 mm\n",
      "(150, 32, 65, 44)\n",
      "(150, 32, 65, 44)\n",
      "(150, 32, 65, 44)\n",
      "(150, 32, 65, 44)\n",
      "(150, 32, 65, 44)\n",
      "(150, 32, 65, 44)\n",
      "(150, 32, 65, 44)\n",
      "(150, 32, 65, 44)\n",
      "========= close ========\n",
      "\tAROUSAL-s05|Acc=0.71167|10-CV=0.46067|STD=0.10356|Time spend=28.829132318496704\n",
      "\tVALENCE-s05|Acc=0.72333|10-CV=0.54833|STD=0.07519|Time spend=38.7113676071167\n",
      "Fitted sphere radius:         95.3 mm\n",
      "Origin head coordinates:      -0.8 15.1 45.3 mm\n",
      "Origin device coordinates:    -0.8 15.1 45.3 mm\n",
      "(150, 32, 65, 44)\n",
      "(150, 32, 65, 44)\n",
      "(150, 32, 65, 44)\n",
      "(150, 32, 65, 44)\n",
      "(150, 32, 65, 44)\n",
      "(150, 32, 65, 44)\n",
      "(150, 32, 65, 44)\n",
      "(150, 32, 65, 44)\n",
      "========= close ========\n",
      "\tAROUSAL-s06|Acc=0.66417|10-CV=0.51233|STD=0.12533|Time spend=29.059391498565674\n",
      "\tVALENCE-s06|Acc=0.75|10-CV=0.72|STD=0.07483|Time spend=37.23496699333191\n",
      "Fitted sphere radius:         95.3 mm\n",
      "Origin head coordinates:      -0.8 15.1 45.3 mm\n",
      "Origin device coordinates:    -0.8 15.1 45.3 mm\n",
      "(150, 32, 65, 44)\n",
      "(150, 32, 65, 44)\n",
      "(150, 32, 65, 44)\n",
      "(150, 32, 65, 44)\n",
      "(150, 32, 65, 44)\n",
      "(150, 32, 65, 44)\n",
      "(150, 32, 65, 44)\n",
      "(150, 32, 65, 44)\n",
      "========= close ========\n",
      "\tAROUSAL-s07|Acc=0.78833|10-CV=0.59067|STD=0.07104|Time spend=28.62398648262024\n",
      "\tVALENCE-s07|Acc=0.81833|10-CV=0.66033|STD=0.14102|Time spend=36.68145704269409\n",
      "Fitted sphere radius:         95.3 mm\n",
      "Origin head coordinates:      -0.8 15.1 45.3 mm\n",
      "Origin device coordinates:    -0.8 15.1 45.3 mm\n",
      "(150, 32, 65, 44)\n",
      "(150, 32, 65, 44)\n",
      "(150, 32, 65, 44)\n",
      "(150, 32, 65, 44)\n",
      "(150, 32, 65, 44)\n",
      "(150, 32, 65, 44)\n",
      "(150, 32, 65, 44)\n",
      "(150, 32, 65, 44)\n",
      "========= close ========\n",
      "\tAROUSAL-s08|Acc=0.81917|10-CV=0.42633|STD=0.1228|Time spend=30.93105411529541\n",
      "\tVALENCE-s08|Acc=0.83917|10-CV=0.50033|STD=0.07346|Time spend=41.42194175720215\n",
      "Fitted sphere radius:         95.3 mm\n",
      "Origin head coordinates:      -0.8 15.1 45.3 mm\n",
      "Origin device coordinates:    -0.8 15.1 45.3 mm\n",
      "(150, 32, 65, 44)\n",
      "(150, 32, 65, 44)\n",
      "(150, 32, 65, 44)\n",
      "(150, 32, 65, 44)\n",
      "(150, 32, 65, 44)\n",
      "(150, 32, 65, 44)\n",
      "(150, 32, 65, 44)\n",
      "(150, 32, 65, 44)\n",
      "========= close ========\n",
      "\tAROUSAL-s09|Acc=0.74583|10-CV=0.50533|STD=0.08661|Time spend=28.034406900405884\n",
      "\tVALENCE-s09|Acc=0.7775|10-CV=0.64967|STD=0.08965|Time spend=36.05450892448425\n",
      "Fitted sphere radius:         95.3 mm\n",
      "Origin head coordinates:      -0.8 15.1 45.3 mm\n",
      "Origin device coordinates:    -0.8 15.1 45.3 mm\n",
      "(150, 32, 65, 44)\n",
      "(150, 32, 65, 44)\n",
      "(150, 32, 65, 44)\n",
      "(150, 32, 65, 44)\n",
      "(150, 32, 65, 44)\n",
      "(150, 32, 65, 44)\n",
      "(150, 32, 65, 44)\n",
      "(150, 32, 65, 44)\n",
      "========= close ========\n",
      "\tAROUSAL-s10|Acc=0.7825|10-CV=0.60167|STD=0.08695|Time spend=28.088804960250854\n",
      "\tVALENCE-s10|Acc=0.855|10-CV=0.77933|STD=0.07144|Time spend=34.8206524848938\n",
      "Fitted sphere radius:         95.3 mm\n",
      "Origin head coordinates:      -0.8 15.1 45.3 mm\n",
      "Origin device coordinates:    -0.8 15.1 45.3 mm\n",
      "(150, 32, 65, 44)\n",
      "(150, 32, 65, 44)\n",
      "(150, 32, 65, 44)\n",
      "(150, 32, 65, 44)\n",
      "(150, 32, 65, 44)\n",
      "(150, 32, 65, 44)\n",
      "(150, 32, 65, 44)\n",
      "(150, 32, 65, 44)\n",
      "========= close ========\n",
      "\tAROUSAL-s11|Acc=0.67667|10-CV=0.57267|STD=0.04901|Time spend=27.22204899787903\n",
      "\tVALENCE-s11|Acc=0.695|10-CV=0.53533|STD=0.13813|Time spend=36.27945017814636\n",
      "Fitted sphere radius:         95.3 mm\n",
      "Origin head coordinates:      -0.8 15.1 45.3 mm\n",
      "Origin device coordinates:    -0.8 15.1 45.3 mm\n",
      "(150, 32, 65, 44)\n",
      "(150, 32, 65, 44)\n",
      "(150, 32, 65, 44)\n",
      "(150, 32, 65, 44)\n",
      "(150, 32, 65, 44)\n",
      "(150, 32, 65, 44)\n",
      "(150, 32, 65, 44)\n",
      "(150, 32, 65, 44)\n",
      "========= close ========\n",
      "\tAROUSAL-s12|Acc=0.825|10-CV=0.83|STD=0.1005|Time spend=25.928860664367676\n",
      "\tVALENCE-s12|Acc=0.7325|10-CV=0.509|STD=0.14417|Time spend=35.191314697265625\n",
      "Fitted sphere radius:         95.3 mm\n",
      "Origin head coordinates:      -0.8 15.1 45.3 mm\n",
      "Origin device coordinates:    -0.8 15.1 45.3 mm\n",
      "(150, 32, 65, 44)\n",
      "(150, 32, 65, 44)\n",
      "(150, 32, 65, 44)\n",
      "(150, 32, 65, 44)\n",
      "(150, 32, 65, 44)\n",
      "(150, 32, 65, 44)\n",
      "(150, 32, 65, 44)\n",
      "(150, 32, 65, 44)\n",
      "========= close ========\n",
      "\tAROUSAL-s13|Acc=0.85|10-CV=0.84|STD=0.06633|Time spend=23.83678150177002\n",
      "\tVALENCE-s13|Acc=0.7775|10-CV=0.73933|STD=0.09462|Time spend=31.32721257209778\n",
      "Fitted sphere radius:         95.3 mm\n",
      "Origin head coordinates:      -0.8 15.1 45.3 mm\n",
      "Origin device coordinates:    -0.8 15.1 45.3 mm\n",
      "(150, 32, 65, 44)\n",
      "(150, 32, 65, 44)\n",
      "(150, 32, 65, 44)\n",
      "(150, 32, 65, 44)\n",
      "(150, 32, 65, 44)\n",
      "(150, 32, 65, 44)\n",
      "(150, 32, 65, 44)\n",
      "(150, 32, 65, 44)\n",
      "========= close ========\n",
      "\tAROUSAL-s14|Acc=0.70417|10-CV=0.631|STD=0.09357|Time spend=28.665828943252563\n",
      "\tVALENCE-s14|Acc=0.79|10-CV=0.67233|STD=0.02985|Time spend=37.53947615623474\n",
      "Fitted sphere radius:         95.3 mm\n",
      "Origin head coordinates:      -0.8 15.1 45.3 mm\n",
      "Origin device coordinates:    -0.8 15.1 45.3 mm\n",
      "(150, 32, 65, 44)\n",
      "(150, 32, 65, 44)\n",
      "(150, 32, 65, 44)\n",
      "(150, 32, 65, 44)\n",
      "(150, 32, 65, 44)\n",
      "(150, 32, 65, 44)\n",
      "(150, 32, 65, 44)\n",
      "(150, 32, 65, 44)\n",
      "========= close ========\n",
      "\tAROUSAL-s15|Acc=0.81083|10-CV=0.523|STD=0.10935|Time spend=28.689927101135254\n",
      "\tVALENCE-s15|Acc=0.875|10-CV=0.77167|STD=0.05791|Time spend=35.48547983169556\n",
      "Fitted sphere radius:         95.3 mm\n",
      "Origin head coordinates:      -0.8 15.1 45.3 mm\n",
      "Origin device coordinates:    -0.8 15.1 45.3 mm\n",
      "(150, 32, 65, 44)\n",
      "(150, 32, 65, 44)\n",
      "(150, 32, 65, 44)\n",
      "(150, 32, 65, 44)\n",
      "(150, 32, 65, 44)\n",
      "(150, 32, 65, 44)\n",
      "(150, 32, 65, 44)\n",
      "(150, 32, 65, 44)\n",
      "========= close ========\n",
      "\tAROUSAL-s16|Acc=0.78333|10-CV=0.493|STD=0.06299|Time spend=27.4401912689209\n",
      "\tVALENCE-s16|Acc=0.7575|10-CV=0.65333|STD=0.09906|Time spend=35.300219774246216\n",
      "Fitted sphere radius:         95.3 mm\n",
      "Origin head coordinates:      -0.8 15.1 45.3 mm\n",
      "Origin device coordinates:    -0.8 15.1 45.3 mm\n",
      "(150, 32, 65, 44)\n",
      "(150, 32, 65, 44)\n",
      "(150, 32, 65, 44)\n",
      "(150, 32, 65, 44)\n",
      "(150, 32, 65, 44)\n",
      "(150, 32, 65, 44)\n",
      "(150, 32, 65, 44)\n",
      "(150, 32, 65, 44)\n",
      "========= close ========\n",
      "\tAROUSAL-s17|Acc=0.74333|10-CV=0.646|STD=0.04033|Time spend=26.37265396118164\n",
      "\tVALENCE-s17|Acc=0.68|10-CV=0.46533|STD=0.09938|Time spend=35.893253564834595\n",
      "Fitted sphere radius:         95.3 mm\n",
      "Origin head coordinates:      -0.8 15.1 45.3 mm\n",
      "Origin device coordinates:    -0.8 15.1 45.3 mm\n",
      "(150, 32, 65, 44)\n",
      "(150, 32, 65, 44)\n",
      "(150, 32, 65, 44)\n",
      "(150, 32, 65, 44)\n",
      "(150, 32, 65, 44)\n",
      "(150, 32, 65, 44)\n",
      "(150, 32, 65, 44)\n",
      "(150, 32, 65, 44)\n",
      "========= close ========\n",
      "\tAROUSAL-s18|Acc=0.685|10-CV=0.51467|STD=0.12627|Time spend=27.5995512008667\n",
      "\tVALENCE-s18|Acc=0.81083|10-CV=0.70667|STD=0.06841|Time spend=33.711288928985596\n",
      "Fitted sphere radius:         95.3 mm\n",
      "Origin head coordinates:      -0.8 15.1 45.3 mm\n",
      "Origin device coordinates:    -0.8 15.1 45.3 mm\n",
      "(150, 32, 65, 44)\n",
      "(150, 32, 65, 44)\n",
      "(150, 32, 65, 44)\n",
      "(150, 32, 65, 44)\n",
      "(150, 32, 65, 44)\n",
      "(150, 32, 65, 44)\n",
      "(150, 32, 65, 44)\n",
      "(150, 32, 65, 44)\n",
      "========= close ========\n",
      "\tAROUSAL-s19|Acc=0.7525|10-CV=0.629|STD=0.11558|Time spend=26.674000024795532\n",
      "\tVALENCE-s19|Acc=0.76667|10-CV=0.49633|STD=0.10083|Time spend=35.48122024536133\n",
      "Fitted sphere radius:         95.3 mm\n",
      "Origin head coordinates:      -0.8 15.1 45.3 mm\n",
      "Origin device coordinates:    -0.8 15.1 45.3 mm\n",
      "(150, 32, 65, 44)\n",
      "(150, 32, 65, 44)\n",
      "(150, 32, 65, 44)\n",
      "(150, 32, 65, 44)\n",
      "(150, 32, 65, 44)\n",
      "(150, 32, 65, 44)\n",
      "(150, 32, 65, 44)\n",
      "(150, 32, 65, 44)\n",
      "========= close ========\n",
      "\tAROUSAL-s20|Acc=0.775|10-CV=0.82|STD=0.08718|Time spend=26.47575807571411\n",
      "\tVALENCE-s20|Acc=0.79167|10-CV=0.616|STD=0.1174|Time spend=35.245588064193726\n",
      "Fitted sphere radius:         95.3 mm\n",
      "Origin head coordinates:      -0.8 15.1 45.3 mm\n",
      "Origin device coordinates:    -0.8 15.1 45.3 mm\n",
      "(150, 32, 65, 44)\n",
      "(150, 32, 65, 44)\n",
      "(150, 32, 65, 44)\n",
      "(150, 32, 65, 44)\n",
      "(150, 32, 65, 44)\n",
      "(150, 32, 65, 44)\n",
      "(150, 32, 65, 44)\n",
      "(150, 32, 65, 44)\n",
      "========= close ========\n",
      "\tAROUSAL-s21|Acc=0.8|10-CV=0.8|STD=0.1|Time spend=26.198232412338257\n",
      "\tVALENCE-s21|Acc=0.68417|10-CV=0.468|STD=0.09677|Time spend=37.11423397064209\n",
      "Fitted sphere radius:         95.3 mm\n",
      "Origin head coordinates:      -0.8 15.1 45.3 mm\n",
      "Origin device coordinates:    -0.8 15.1 45.3 mm\n",
      "(150, 32, 65, 44)\n",
      "(150, 32, 65, 44)\n",
      "(150, 32, 65, 44)\n",
      "(150, 32, 65, 44)\n",
      "(150, 32, 65, 44)\n",
      "(150, 32, 65, 44)\n",
      "(150, 32, 65, 44)\n",
      "(150, 32, 65, 44)\n",
      "========= close ========\n",
      "\tAROUSAL-s22|Acc=0.62083|10-CV=0.60267|STD=0.07035|Time spend=28.162819147109985\n",
      "\tVALENCE-s22|Acc=0.7475|10-CV=0.68367|STD=0.084|Time spend=35.71668457984924\n",
      "Fitted sphere radius:         95.3 mm\n",
      "Origin head coordinates:      -0.8 15.1 45.3 mm\n",
      "Origin device coordinates:    -0.8 15.1 45.3 mm\n",
      "(150, 32, 65, 44)\n",
      "(150, 32, 65, 44)\n",
      "(150, 32, 65, 44)\n",
      "(150, 32, 65, 44)\n",
      "(150, 32, 65, 44)\n",
      "(150, 32, 65, 44)\n",
      "(150, 32, 65, 44)\n",
      "(150, 32, 65, 44)\n",
      "========= close ========\n",
      "\tAROUSAL-s23|Acc=0.8125|10-CV=0.774|STD=0.08803|Time spend=26.05374836921692\n",
      "\tVALENCE-s23|Acc=0.82|10-CV=0.58733|STD=0.11415|Time spend=34.439127922058105\n",
      "Fitted sphere radius:         95.3 mm\n",
      "Origin head coordinates:      -0.8 15.1 45.3 mm\n",
      "Origin device coordinates:    -0.8 15.1 45.3 mm\n",
      "(150, 32, 65, 44)\n",
      "(150, 32, 65, 44)\n",
      "(150, 32, 65, 44)\n",
      "(150, 32, 65, 44)\n",
      "(150, 32, 65, 44)\n",
      "(150, 32, 65, 44)\n",
      "(150, 32, 65, 44)\n",
      "(150, 32, 65, 44)\n",
      "========= close ========\n",
      "\tAROUSAL-s24|Acc=0.825|10-CV=0.82|STD=0.07483|Time spend=24.991963863372803\n",
      "\tVALENCE-s24|Acc=0.74833|10-CV=0.587|STD=0.08885|Time spend=33.749157190322876\n",
      "Fitted sphere radius:         95.3 mm\n",
      "Origin head coordinates:      -0.8 15.1 45.3 mm\n",
      "Origin device coordinates:    -0.8 15.1 45.3 mm\n",
      "(150, 32, 65, 44)\n",
      "(150, 32, 65, 44)\n",
      "(150, 32, 65, 44)\n",
      "(150, 32, 65, 44)\n",
      "(150, 32, 65, 44)\n",
      "(150, 32, 65, 44)\n",
      "(150, 32, 65, 44)\n",
      "(150, 32, 65, 44)\n",
      "========= close ========\n",
      "\tAROUSAL-s25|Acc=0.725|10-CV=0.74|STD=0.12806|Time spend=26.039897441864014\n",
      "\tVALENCE-s25|Acc=0.68583|10-CV=0.44367|STD=0.10413|Time spend=36.204240798950195\n",
      "Fitted sphere radius:         95.3 mm\n",
      "Origin head coordinates:      -0.8 15.1 45.3 mm\n",
      "Origin device coordinates:    -0.8 15.1 45.3 mm\n",
      "(150, 32, 65, 44)\n",
      "(150, 32, 65, 44)\n",
      "(150, 32, 65, 44)\n",
      "(150, 32, 65, 44)\n",
      "(150, 32, 65, 44)\n",
      "(150, 32, 65, 44)\n",
      "(150, 32, 65, 44)\n",
      "(150, 32, 65, 44)\n",
      "========= close ========\n",
      "\tAROUSAL-s26|Acc=0.70917|10-CV=0.53967|STD=0.09543|Time spend=28.81717801094055\n",
      "\tVALENCE-s26|Acc=0.6725|10-CV=0.584|STD=0.10872|Time spend=37.26518678665161\n",
      "Fitted sphere radius:         95.3 mm\n",
      "Origin head coordinates:      -0.8 15.1 45.3 mm\n",
      "Origin device coordinates:    -0.8 15.1 45.3 mm\n",
      "(150, 32, 65, 44)\n",
      "(150, 32, 65, 44)\n",
      "(150, 32, 65, 44)\n",
      "(150, 32, 65, 44)\n",
      "(150, 32, 65, 44)\n",
      "(150, 32, 65, 44)\n",
      "(150, 32, 65, 44)\n",
      "(150, 32, 65, 44)\n",
      "========= close ========\n",
      "\tAROUSAL-s27|Acc=0.83583|10-CV=0.63067|STD=0.09916|Time spend=23.568681955337524\n",
      "\tVALENCE-s27|Acc=0.77833|10-CV=0.652|STD=0.10994|Time spend=29.512991428375244\n",
      "Fitted sphere radius:         95.3 mm\n",
      "Origin head coordinates:      -0.8 15.1 45.3 mm\n",
      "Origin device coordinates:    -0.8 15.1 45.3 mm\n",
      "(150, 32, 65, 44)\n",
      "(150, 32, 65, 44)\n",
      "(150, 32, 65, 44)\n",
      "(150, 32, 65, 44)\n",
      "(150, 32, 65, 44)\n",
      "(150, 32, 65, 44)\n",
      "(150, 32, 65, 44)\n",
      "(150, 32, 65, 44)\n",
      "========= close ========\n",
      "\tAROUSAL-s28|Acc=0.68|10-CV=0.49|STD=0.09796|Time spend=25.216128826141357\n",
      "\tVALENCE-s28|Acc=0.71917|10-CV=0.50533|STD=0.09595|Time spend=31.77020287513733\n",
      "Fitted sphere radius:         95.3 mm\n",
      "Origin head coordinates:      -0.8 15.1 45.3 mm\n",
      "Origin device coordinates:    -0.8 15.1 45.3 mm\n",
      "(150, 32, 65, 44)\n",
      "(150, 32, 65, 44)\n",
      "(150, 32, 65, 44)\n",
      "(150, 32, 65, 44)\n",
      "(150, 32, 65, 44)\n",
      "(150, 32, 65, 44)\n",
      "(150, 32, 65, 44)\n",
      "(150, 32, 65, 44)\n",
      "========= close ========\n",
      "\tAROUSAL-s29|Acc=0.7175|10-CV=0.55467|STD=0.08776|Time spend=24.416287183761597\n",
      "\tVALENCE-s29|Acc=0.745|10-CV=0.54067|STD=0.07372|Time spend=31.492863416671753\n",
      "Fitted sphere radius:         95.3 mm\n",
      "Origin head coordinates:      -0.8 15.1 45.3 mm\n",
      "Origin device coordinates:    -0.8 15.1 45.3 mm\n",
      "(150, 32, 65, 44)\n",
      "(150, 32, 65, 44)\n",
      "(150, 32, 65, 44)\n",
      "(150, 32, 65, 44)\n",
      "(150, 32, 65, 44)\n",
      "(150, 32, 65, 44)\n",
      "(150, 32, 65, 44)\n",
      "(150, 32, 65, 44)\n",
      "========= close ========\n",
      "\tAROUSAL-s30|Acc=0.74167|10-CV=0.46233|STD=0.08859|Time spend=25.31056237220764\n",
      "\tVALENCE-s30|Acc=0.67917|10-CV=0.60367|STD=0.13756|Time spend=32.10312294960022\n",
      "Fitted sphere radius:         95.3 mm\n",
      "Origin head coordinates:      -0.8 15.1 45.3 mm\n",
      "Origin device coordinates:    -0.8 15.1 45.3 mm\n",
      "(150, 32, 65, 44)\n",
      "(150, 32, 65, 44)\n",
      "(150, 32, 65, 44)\n",
      "(150, 32, 65, 44)\n",
      "(150, 32, 65, 44)\n",
      "(150, 32, 65, 44)\n",
      "(150, 32, 65, 44)\n",
      "(150, 32, 65, 44)\n",
      "========= close ========\n",
      "\tAROUSAL-s31|Acc=0.83667|10-CV=0.55|STD=0.10432|Time spend=25.12279987335205\n",
      "\tVALENCE-s31|Acc=0.80833|10-CV=0.49767|STD=0.09945|Time spend=33.1791615486145\n",
      "Fitted sphere radius:         95.3 mm\n",
      "Origin head coordinates:      -0.8 15.1 45.3 mm\n",
      "Origin device coordinates:    -0.8 15.1 45.3 mm\n",
      "(150, 32, 65, 44)\n",
      "(150, 32, 65, 44)\n",
      "(150, 32, 65, 44)\n",
      "(150, 32, 65, 44)\n",
      "(150, 32, 65, 44)\n",
      "(150, 32, 65, 44)\n",
      "(150, 32, 65, 44)\n",
      "(150, 32, 65, 44)\n",
      "========= close ========\n",
      "\tAROUSAL-s32|Acc=0.73583|10-CV=0.65333|STD=0.08064|Time spend=22.622886180877686\n",
      "\tVALENCE-s32|Acc=0.70917|10-CV=0.435|STD=0.08806|Time spend=29.85447096824646\n",
      "AROUSAL|Acc=0.7581770833333333|10-CV=0.6119583333333333|STD=0.09467718322653786\n",
      "VALENCE|Acc=0.7614843750000001|10-CV=0.59228125|STD=0.09661991469096001\n"
     ]
    }
   ],
   "source": [
    "accs, cv_means, cv_stds = [],[],[]\n",
    "accs_v, cv_means_v, cv_stds_v = [],[],[]\n",
    "reports = []\n",
    "for filename in (pbar := tqdm(dataset.get_file_list())):\n",
    "    start = time.time()\n",
    "    pbar.set_description(filename)\n",
    "    data, labels, groups = dataset.get_data(filename, stimuli=Dataset_subjectDependent.STIMULI_AROUSAL, return_type='mne', sfreq=128)\n",
    "    \n",
    "    data_csd = mne.preprocessing.compute_current_source_density(data)\n",
    "\n",
    "    plv = calculate_plv(data_csd.get_data(), n_jobs=8)\n",
    "\n",
    "    _,acc,cross,train_report = train_model(plv, labels.squeeze(), groups, filename=filename, return_text=True)\n",
    "    report = f\"\\tAROUSAL-{filename}|Acc={round(acc,5)}|10-CV={round(cross.mean(),5)}|STD={round(cross.std(),5)}|Time spend={time.time() - start}\"\n",
    "    print(report)\n",
    "    reports.append(report)\n",
    "    reports.append(train_report)\n",
    "    accs.append(acc)\n",
    "    cv_means.append(cross.mean())\n",
    "    cv_stds.append(cross.std())\n",
    "\n",
    "    _, labels_v, groups_v = dataset.get_data(filename, stimuli=Dataset_subjectDependent.STIMULI_VALENCE, return_type='mne', sfreq=128)\n",
    "    _,acc,cross,train_report = train_model(plv, labels_v.squeeze(), groups_v, filename=filename, return_text=True)\n",
    "    report = f\"\\tVALENCE-{filename}|Acc={round(acc,5)}|10-CV={round(cross.mean(),5)}|STD={round(cross.std(),5)}|Time spend={time.time() - start}\"\n",
    "    print(report)\n",
    "    reports.append(report)\n",
    "    reports.append(train_report)\n",
    "    accs_v.append(acc)\n",
    "    cv_means_v.append(cross.mean())\n",
    "    cv_stds_v.append(cross.std())\n",
    "    # break\n",
    "    # count+=1\n",
    "    # if(count == 5): break\n",
    "report = f\"AROUSAL|Acc={sum(accs)/len(accs)}|10-CV={sum(cv_means)/len(cv_means)}|STD={sum(cv_stds)/len(cv_stds)}\"\n",
    "print(report)\n",
    "reports.append(report)\n",
    "report = f\"VALENCE|Acc={sum(accs_v)/len(accs_v)}|10-CV={sum(cv_means_v)/len(cv_means_v)}|STD={sum(cv_stds_v)/len(cv_stds_v)}\"\n",
    "print(report)\n",
    "reports.append(report)"
   ]
  },
  {
   "cell_type": "code",
   "execution_count": 15,
   "metadata": {},
   "outputs": [
    {
     "name": "stdout",
     "output_type": "stream",
     "text": [
      "\tAROUSAL-s01|Acc=0.87417|10-CV=0.56033|STD=0.12806|Time spend=29.60220718383789\n",
      "\tVALENCE-s01|Acc=0.86667|10-CV=0.49867|STD=0.06483|Time spend=40.257089138031006\n",
      "\tAROUSAL-s02|Acc=0.705|10-CV=0.538|STD=0.07512|Time spend=31.160213232040405\n",
      "\tVALENCE-s02|Acc=0.745|10-CV=0.671|STD=0.10194|Time spend=39.45696949958801\n",
      "\tAROUSAL-s03|Acc=0.8|10-CV=0.73|STD=0.15524|Time spend=25.96568989753723\n",
      "-----WARNING: Model s03 failed to learn: sum(ans)=0.0 sum(y)=240.0 len(y)=1200\n",
      "\tVALENCE-s03|Acc=0.76417|10-CV=0.58667|STD=0.17731|Time spend=35.901060819625854\n",
      "\tAROUSAL-s04|Acc=0.725|10-CV=0.54067|STD=0.10875|Time spend=27.966418981552124\n",
      "\tVALENCE-s04|Acc=0.75417|10-CV=0.58533|STD=0.07107|Time spend=36.30028200149536\n",
      "\tAROUSAL-s05|Acc=0.71167|10-CV=0.46067|STD=0.10356|Time spend=28.829132318496704\n",
      "\tVALENCE-s05|Acc=0.72333|10-CV=0.54833|STD=0.07519|Time spend=38.7113676071167\n",
      "\tAROUSAL-s06|Acc=0.66417|10-CV=0.51233|STD=0.12533|Time spend=29.059391498565674\n",
      "\tVALENCE-s06|Acc=0.75|10-CV=0.72|STD=0.07483|Time spend=37.23496699333191\n",
      "-----WARNING: Model s06 failed to learn: sum(ans)=1200.0 sum(y)=900.0 len(y)=1200\n",
      "\tAROUSAL-s07|Acc=0.78833|10-CV=0.59067|STD=0.07104|Time spend=28.62398648262024\n",
      "\tVALENCE-s07|Acc=0.81833|10-CV=0.66033|STD=0.14102|Time spend=36.68145704269409\n",
      "\tAROUSAL-s08|Acc=0.81917|10-CV=0.42633|STD=0.1228|Time spend=30.93105411529541\n",
      "\tVALENCE-s08|Acc=0.83917|10-CV=0.50033|STD=0.07346|Time spend=41.42194175720215\n",
      "\tAROUSAL-s09|Acc=0.74583|10-CV=0.50533|STD=0.08661|Time spend=28.034406900405884\n",
      "\tVALENCE-s09|Acc=0.7775|10-CV=0.64967|STD=0.08965|Time spend=36.05450892448425\n",
      "\tAROUSAL-s10|Acc=0.7825|10-CV=0.60167|STD=0.08695|Time spend=28.088804960250854\n",
      "\tVALENCE-s10|Acc=0.855|10-CV=0.77933|STD=0.07144|Time spend=34.8206524848938\n",
      "\tAROUSAL-s11|Acc=0.67667|10-CV=0.57267|STD=0.04901|Time spend=27.22204899787903\n",
      "\tVALENCE-s11|Acc=0.695|10-CV=0.53533|STD=0.13813|Time spend=36.27945017814636\n",
      "\tAROUSAL-s12|Acc=0.825|10-CV=0.83|STD=0.1005|Time spend=25.928860664367676\n",
      "-----WARNING: Model s12 failed to learn: sum(ans)=1200.0 sum(y)=990.0 len(y)=1200\n",
      "\tVALENCE-s12|Acc=0.7325|10-CV=0.509|STD=0.14417|Time spend=35.191314697265625\n",
      "\tAROUSAL-s13|Acc=0.85|10-CV=0.84|STD=0.06633|Time spend=23.83678150177002\n",
      "-----WARNING: Model s13 failed to learn: sum(ans)=1200.0 sum(y)=1020.0 len(y)=1200\n",
      "\tVALENCE-s13|Acc=0.7775|10-CV=0.73933|STD=0.09462|Time spend=31.32721257209778\n",
      "\tAROUSAL-s14|Acc=0.70417|10-CV=0.631|STD=0.09357|Time spend=28.665828943252563\n",
      "\tVALENCE-s14|Acc=0.79|10-CV=0.67233|STD=0.02985|Time spend=37.53947615623474\n",
      "\tAROUSAL-s15|Acc=0.81083|10-CV=0.523|STD=0.10935|Time spend=28.689927101135254\n",
      "\tVALENCE-s15|Acc=0.875|10-CV=0.77167|STD=0.05791|Time spend=35.48547983169556\n",
      "\tAROUSAL-s16|Acc=0.78333|10-CV=0.493|STD=0.06299|Time spend=27.4401912689209\n",
      "\tVALENCE-s16|Acc=0.7575|10-CV=0.65333|STD=0.09906|Time spend=35.300219774246216\n",
      "\tAROUSAL-s17|Acc=0.74333|10-CV=0.646|STD=0.04033|Time spend=26.37265396118164\n",
      "\tVALENCE-s17|Acc=0.68|10-CV=0.46533|STD=0.09938|Time spend=35.893253564834595\n",
      "\tAROUSAL-s18|Acc=0.685|10-CV=0.51467|STD=0.12627|Time spend=27.5995512008667\n",
      "\tVALENCE-s18|Acc=0.81083|10-CV=0.70667|STD=0.06841|Time spend=33.711288928985596\n",
      "\tAROUSAL-s19|Acc=0.7525|10-CV=0.629|STD=0.11558|Time spend=26.674000024795532\n",
      "\tVALENCE-s19|Acc=0.76667|10-CV=0.49633|STD=0.10083|Time spend=35.48122024536133\n",
      "\tAROUSAL-s20|Acc=0.775|10-CV=0.82|STD=0.08718|Time spend=26.47575807571411\n",
      "-----WARNING: Model s20 failed to learn: sum(ans)=1200.0 sum(y)=930.0 len(y)=1200\n",
      "\tVALENCE-s20|Acc=0.79167|10-CV=0.616|STD=0.1174|Time spend=35.245588064193726\n",
      "\tAROUSAL-s21|Acc=0.8|10-CV=0.8|STD=0.1|Time spend=26.198232412338257\n",
      "-----WARNING: Model s21 failed to learn: sum(ans)=1200.0 sum(y)=960.0 len(y)=1200\n",
      "\tVALENCE-s21|Acc=0.68417|10-CV=0.468|STD=0.09677|Time spend=37.11423397064209\n",
      "\tAROUSAL-s22|Acc=0.62083|10-CV=0.60267|STD=0.07035|Time spend=28.162819147109985\n",
      "\tVALENCE-s22|Acc=0.7475|10-CV=0.68367|STD=0.084|Time spend=35.71668457984924\n",
      "\tAROUSAL-s23|Acc=0.8125|10-CV=0.774|STD=0.08803|Time spend=26.05374836921692\n",
      "\tVALENCE-s23|Acc=0.82|10-CV=0.58733|STD=0.11415|Time spend=34.439127922058105\n",
      "\tAROUSAL-s24|Acc=0.825|10-CV=0.82|STD=0.07483|Time spend=24.991963863372803\n",
      "-----WARNING: Model s24 failed to learn: sum(ans)=1200.0 sum(y)=990.0 len(y)=1200\n",
      "\tVALENCE-s24|Acc=0.74833|10-CV=0.587|STD=0.08885|Time spend=33.749157190322876\n",
      "\tAROUSAL-s25|Acc=0.725|10-CV=0.74|STD=0.12806|Time spend=26.039897441864014\n",
      "-----WARNING: Model s25 failed to learn: sum(ans)=1200.0 sum(y)=870.0 len(y)=1200\n",
      "\tVALENCE-s25|Acc=0.68583|10-CV=0.44367|STD=0.10413|Time spend=36.204240798950195\n",
      "\tAROUSAL-s26|Acc=0.70917|10-CV=0.53967|STD=0.09543|Time spend=28.81717801094055\n",
      "\tVALENCE-s26|Acc=0.6725|10-CV=0.584|STD=0.10872|Time spend=37.26518678665161\n",
      "\tAROUSAL-s27|Acc=0.83583|10-CV=0.63067|STD=0.09916|Time spend=23.568681955337524\n",
      "\tVALENCE-s27|Acc=0.77833|10-CV=0.652|STD=0.10994|Time spend=29.512991428375244\n",
      "\tAROUSAL-s28|Acc=0.68|10-CV=0.49|STD=0.09796|Time spend=25.216128826141357\n",
      "\tVALENCE-s28|Acc=0.71917|10-CV=0.50533|STD=0.09595|Time spend=31.77020287513733\n",
      "\tAROUSAL-s29|Acc=0.7175|10-CV=0.55467|STD=0.08776|Time spend=24.416287183761597\n",
      "\tVALENCE-s29|Acc=0.745|10-CV=0.54067|STD=0.07372|Time spend=31.492863416671753\n",
      "\tAROUSAL-s30|Acc=0.74167|10-CV=0.46233|STD=0.08859|Time spend=25.31056237220764\n",
      "\tVALENCE-s30|Acc=0.67917|10-CV=0.60367|STD=0.13756|Time spend=32.10312294960022\n",
      "\tAROUSAL-s31|Acc=0.83667|10-CV=0.55|STD=0.10432|Time spend=25.12279987335205\n",
      "\tVALENCE-s31|Acc=0.80833|10-CV=0.49767|STD=0.09945|Time spend=33.1791615486145\n",
      "\tAROUSAL-s32|Acc=0.73583|10-CV=0.65333|STD=0.08064|Time spend=22.622886180877686\n",
      "\tVALENCE-s32|Acc=0.70917|10-CV=0.435|STD=0.08806|Time spend=29.85447096824646\n",
      "AROUSAL|Acc=0.7581770833333333|10-CV=0.6119583333333333|STD=0.09467718322653786\n",
      "VALENCE|Acc=0.7614843750000001|10-CV=0.59228125|STD=0.09661991469096001\n",
      "TOTAL|Acc=0.7598307291666668|10-CV=0.6021197916666668|STD=0.09564854895874893\n"
     ]
    }
   ],
   "source": [
    "for text in reports:\n",
    "    if(text == None): continue\n",
    "    print(text)\n",
    "\n",
    "accs.extend(accs_v)\n",
    "cv_means.extend(cv_means_v)\n",
    "cv_stds.extend(cv_stds_v)\n",
    "print(f\"TOTAL|Acc={sum(accs)/len(accs)}|10-CV={sum(cv_means)/len(cv_means)}|STD={sum(cv_stds)/len(cv_stds)}\")"
   ]
  },
  {
   "cell_type": "markdown",
   "metadata": {},
   "source": [
    "### 4.4 $ \\text{PLI}(j,k) =  \\frac{1}{T} | \\Sigma^{T}_{t=1} \\text{sign}(Im[e^{i (\\phi^{t}_{j} - \\phi^{t}_{k})}])  | $"
   ]
  },
  {
   "cell_type": "code",
   "execution_count": 16,
   "metadata": {},
   "outputs": [],
   "source": [
    "# bands = [(0,4), (4,8), (8,12), (12,30), (30,64)]\n",
    "def calculate_stft(signals, sfreq):\n",
    "    from scipy import signal\n",
    "    f_range, t_range, Z = signal.stft(signals, sfreq, nperseg=sfreq//10, nfft=sfreq)\n",
    "    magnitude = np.abs(Z) \n",
    "    phase = np.angle(Z)\n",
    "    return magnitude, phase, f_range, t_range\n",
    "\n",
    "def PLI_stft(p_id, phase):\n",
    "    # (32, 65, 12) => (channels, freqs, times)\n",
    "    # print(f\"p_id:{p_id} - data to run {phase.shape}\")\n",
    "    from itertools import combinations\n",
    "    pli = []\n",
    "    # count = 0\n",
    "    for index in range(phase.shape[0]):\n",
    "        pli_epoch = []\n",
    "        for comb in combinations(list(range(phase.shape[1])), 2):\n",
    "            # shape = (65,12)\n",
    "            phase_a, phase_b = phase[index, comb[0]], phase[index, comb[1]]\n",
    "            phase_diff = phase_a - phase_b\n",
    "            # sum along the time size\n",
    "            pli_ab = np.abs(np.average(   np.sign(np.imag(   np.exp(complex(0,1) * phase_diff) ))  , axis=1))\n",
    "            pli_epoch.append(pli_ab)\n",
    "        pli_epoch = np.vstack(pli_epoch)\n",
    "        pli_epoch_5 = np.concatenate([ pli_epoch[:,0:4].mean(axis=1).reshape(-1,1),\n",
    "                                        pli_epoch[:,4:8].mean(axis=1).reshape(-1,1),\n",
    "                                        pli_epoch[:,8:12].mean(axis=1).reshape(-1,1),\n",
    "                                        pli_epoch[:,12:30].mean(axis=1).reshape(-1,1),\n",
    "                                        pli_epoch[:,30:65].mean(axis=1).reshape(-1,1)], axis=0)\n",
    "        pli.append(np.expand_dims(pli_epoch_5, axis=0))\n",
    "        # count += 1\n",
    "        # if(count == 3): break\n",
    "    # shape (496, 65)\n",
    "    # 496 is number of pairs that is not duplicate\n",
    "    # 65 is number of phase of frequencies\n",
    "    pli = np.vstack( pli )\n",
    "    return pli.squeeze()\n",
    "\n",
    "def calculate_pli(data, n_jobs=8):\n",
    "    \"\"\" \n",
    "    Input: Expect data to have (n_epochs, n_channels, n_samples)\n",
    "    Output: (n_epochs, n_conn, n_freqs ) => n_conn = n_channels!/(2!(n_channels-2)!)\n",
    "    \"\"\"\n",
    "    from multiprocessing import Pool\n",
    "\n",
    "    try:\n",
    "        t_out = 60000\n",
    "        pool = Pool()\n",
    "        p_list = []\n",
    "        ans_list = []\n",
    "        num_p = n_jobs\n",
    "        indices = np.array_split(np.arange(data.shape[0]), num_p)\n",
    "        _, phase, _, _ = calculate_stft(data, 128)\n",
    "        for p_id in range(num_p):\n",
    "            p_list.append(pool.apply_async(PLI_stft, [p_id, phase[indices[p_id]] ]))\n",
    "        for p_id in range(num_p):\n",
    "            ans_list.append( p_list[p_id].get(timeout=t_out) )\n",
    "        # ans_list\n",
    "    finally:\n",
    "        print(\"========= close ========\")\n",
    "        pool.close() \n",
    "        pool.terminate()\n",
    "    return np.vstack(ans_list)\n"
   ]
  },
  {
   "cell_type": "code",
   "execution_count": 17,
   "metadata": {},
   "outputs": [
    {
     "data": {
      "application/vnd.jupyter.widget-view+json": {
       "model_id": "67b8b46e37dd4161b15cea94250f626e",
       "version_major": 2,
       "version_minor": 0
      },
      "text/plain": [
       "  0%|          | 0/32 [00:00<?, ?it/s]"
      ]
     },
     "metadata": {},
     "output_type": "display_data"
    },
    {
     "name": "stdout",
     "output_type": "stream",
     "text": [
      "Fitted sphere radius:         95.3 mm\n",
      "Origin head coordinates:      -0.8 15.1 45.3 mm\n",
      "Origin device coordinates:    -0.8 15.1 45.3 mm\n",
      "========= close ========\n",
      "\tAROUSAL-s01|Acc=0.94583|10-CV=0.53133|STD=0.12739|Time spend=26.505093812942505\n",
      "\tVALENCE-s01|Acc=0.9925|10-CV=0.46367|STD=0.06445|Time spend=34.69260883331299\n",
      "Fitted sphere radius:         95.3 mm\n",
      "Origin head coordinates:      -0.8 15.1 45.3 mm\n",
      "Origin device coordinates:    -0.8 15.1 45.3 mm\n",
      "========= close ========\n",
      "\tAROUSAL-s02|Acc=0.8425|10-CV=0.54167|STD=0.08818|Time spend=25.20341396331787\n",
      "\tVALENCE-s02|Acc=0.91083|10-CV=0.462|STD=0.08967|Time spend=33.69158864021301\n",
      "Fitted sphere radius:         95.3 mm\n",
      "Origin head coordinates:      -0.8 15.1 45.3 mm\n",
      "Origin device coordinates:    -0.8 15.1 45.3 mm\n",
      "========= close ========\n",
      "\tAROUSAL-s03|Acc=0.83417|10-CV=0.73|STD=0.15524|Time spend=24.018346309661865\n",
      "\tVALENCE-s03|Acc=0.97083|10-CV=0.444|STD=0.12222|Time spend=32.23697352409363\n",
      "Fitted sphere radius:         95.3 mm\n",
      "Origin head coordinates:      -0.8 15.1 45.3 mm\n",
      "Origin device coordinates:    -0.8 15.1 45.3 mm\n",
      "========= close ========\n",
      "\tAROUSAL-s04|Acc=0.8325|10-CV=0.54667|STD=0.13846|Time spend=25.338690519332886\n",
      "\tVALENCE-s04|Acc=0.78167|10-CV=0.50433|STD=0.11478|Time spend=33.370349168777466\n",
      "Fitted sphere radius:         95.3 mm\n",
      "Origin head coordinates:      -0.8 15.1 45.3 mm\n",
      "Origin device coordinates:    -0.8 15.1 45.3 mm\n",
      "========= close ========\n",
      "\tAROUSAL-s05|Acc=0.83833|10-CV=0.41467|STD=0.09858|Time spend=24.510822772979736\n",
      "\tVALENCE-s05|Acc=0.69583|10-CV=0.578|STD=0.08741|Time spend=32.41114068031311\n",
      "Fitted sphere radius:         95.3 mm\n",
      "Origin head coordinates:      -0.8 15.1 45.3 mm\n",
      "Origin device coordinates:    -0.8 15.1 45.3 mm\n",
      "========= close ========\n",
      "\tAROUSAL-s06|Acc=0.92|10-CV=0.505|STD=0.11977|Time spend=30.433154821395874\n",
      "\tVALENCE-s06|Acc=0.85417|10-CV=0.72|STD=0.07483|Time spend=42.6720986366272\n",
      "Fitted sphere radius:         95.3 mm\n",
      "Origin head coordinates:      -0.8 15.1 45.3 mm\n",
      "Origin device coordinates:    -0.8 15.1 45.3 mm\n",
      "========= close ========\n",
      "\tAROUSAL-s07|Acc=0.9375|10-CV=0.61267|STD=0.09988|Time spend=39.415703535079956\n",
      "\tVALENCE-s07|Acc=0.9|10-CV=0.68967|STD=0.13697|Time spend=51.75613307952881\n",
      "Fitted sphere radius:         95.3 mm\n",
      "Origin head coordinates:      -0.8 15.1 45.3 mm\n",
      "Origin device coordinates:    -0.8 15.1 45.3 mm\n",
      "========= close ========\n",
      "\tAROUSAL-s08|Acc=0.96083|10-CV=0.46933|STD=0.11278|Time spend=26.744006872177124\n",
      "\tVALENCE-s08|Acc=0.9575|10-CV=0.50767|STD=0.07632|Time spend=35.175167083740234\n",
      "Fitted sphere radius:         95.3 mm\n",
      "Origin head coordinates:      -0.8 15.1 45.3 mm\n",
      "Origin device coordinates:    -0.8 15.1 45.3 mm\n",
      "========= close ========\n",
      "\tAROUSAL-s09|Acc=0.78417|10-CV=0.537|STD=0.11618|Time spend=25.17006826400757\n",
      "\tVALENCE-s09|Acc=0.92167|10-CV=0.43933|STD=0.12442|Time spend=33.9109251499176\n",
      "Fitted sphere radius:         95.3 mm\n",
      "Origin head coordinates:      -0.8 15.1 45.3 mm\n",
      "Origin device coordinates:    -0.8 15.1 45.3 mm\n",
      "========= close ========\n",
      "\tAROUSAL-s10|Acc=0.95667|10-CV=0.49433|STD=0.05861|Time spend=26.506094217300415\n",
      "\tVALENCE-s10|Acc=0.9775|10-CV=0.39567|STD=0.12729|Time spend=35.25633931159973\n",
      "Fitted sphere radius:         95.3 mm\n",
      "Origin head coordinates:      -0.8 15.1 45.3 mm\n",
      "Origin device coordinates:    -0.8 15.1 45.3 mm\n",
      "========= close ========\n",
      "\tAROUSAL-s11|Acc=0.81333|10-CV=0.608|STD=0.06809|Time spend=25.654357194900513\n",
      "\tVALENCE-s11|Acc=0.83167|10-CV=0.534|STD=0.14444|Time spend=34.95100140571594\n",
      "Fitted sphere radius:         95.3 mm\n",
      "Origin head coordinates:      -0.8 15.1 45.3 mm\n",
      "Origin device coordinates:    -0.8 15.1 45.3 mm\n",
      "========= close ========\n",
      "\tAROUSAL-s12|Acc=0.85833|10-CV=0.83|STD=0.1005|Time spend=26.048912525177002\n",
      "\tVALENCE-s12|Acc=0.97583|10-CV=0.43|STD=0.1157|Time spend=34.65795135498047\n",
      "Fitted sphere radius:         95.3 mm\n",
      "Origin head coordinates:      -0.8 15.1 45.3 mm\n",
      "Origin device coordinates:    -0.8 15.1 45.3 mm\n",
      "========= close ========\n",
      "\tAROUSAL-s13|Acc=0.86917|10-CV=0.84|STD=0.06633|Time spend=24.660732746124268\n",
      "\tVALENCE-s13|Acc=0.91|10-CV=0.49367|STD=0.10076|Time spend=32.84889602661133\n",
      "Fitted sphere radius:         95.3 mm\n",
      "Origin head coordinates:      -0.8 15.1 45.3 mm\n",
      "Origin device coordinates:    -0.8 15.1 45.3 mm\n",
      "========= close ========\n",
      "\tAROUSAL-s14|Acc=0.82083|10-CV=0.64933|STD=0.10126|Time spend=25.39773678779602\n",
      "\tVALENCE-s14|Acc=0.96167|10-CV=0.41567|STD=0.08244|Time spend=34.226274728775024\n",
      "Fitted sphere radius:         95.3 mm\n",
      "Origin head coordinates:      -0.8 15.1 45.3 mm\n",
      "Origin device coordinates:    -0.8 15.1 45.3 mm\n",
      "========= close ========\n",
      "\tAROUSAL-s15|Acc=0.97833|10-CV=0.42067|STD=0.07287|Time spend=26.308563709259033\n",
      "\tVALENCE-s15|Acc=0.98667|10-CV=0.45767|STD=0.06979|Time spend=34.56141924858093\n",
      "Fitted sphere radius:         95.3 mm\n",
      "Origin head coordinates:      -0.8 15.1 45.3 mm\n",
      "Origin device coordinates:    -0.8 15.1 45.3 mm\n",
      "========= close ========\n",
      "\tAROUSAL-s16|Acc=0.98667|10-CV=0.34767|STD=0.09165|Time spend=26.76363754272461\n",
      "\tVALENCE-s16|Acc=0.94083|10-CV=0.62467|STD=0.08177|Time spend=35.039753675460815\n",
      "Fitted sphere radius:         95.3 mm\n",
      "Origin head coordinates:      -0.8 15.1 45.3 mm\n",
      "Origin device coordinates:    -0.8 15.1 45.3 mm\n",
      "========= close ========\n",
      "\tAROUSAL-s17|Acc=0.8025|10-CV=0.55333|STD=0.07971|Time spend=24.899516344070435\n",
      "\tVALENCE-s17|Acc=0.9225|10-CV=0.45533|STD=0.11052|Time spend=33.01534390449524\n",
      "Fitted sphere radius:         95.3 mm\n",
      "Origin head coordinates:      -0.8 15.1 45.3 mm\n",
      "Origin device coordinates:    -0.8 15.1 45.3 mm\n",
      "========= close ========\n",
      "\tAROUSAL-s18|Acc=0.84833|10-CV=0.57733|STD=0.1042|Time spend=25.7307870388031\n",
      "\tVALENCE-s18|Acc=0.89417|10-CV=0.52767|STD=0.1182|Time spend=33.80751299858093\n",
      "Fitted sphere radius:         95.3 mm\n",
      "Origin head coordinates:      -0.8 15.1 45.3 mm\n",
      "Origin device coordinates:    -0.8 15.1 45.3 mm\n",
      "========= close ========\n",
      "\tAROUSAL-s19|Acc=0.71|10-CV=0.62767|STD=0.12996|Time spend=25.707135438919067\n",
      "\tVALENCE-s19|Acc=0.84917|10-CV=0.43267|STD=0.12254|Time spend=34.1581072807312\n",
      "Fitted sphere radius:         95.3 mm\n",
      "Origin head coordinates:      -0.8 15.1 45.3 mm\n",
      "Origin device coordinates:    -0.8 15.1 45.3 mm\n",
      "========= close ========\n",
      "\tAROUSAL-s20|Acc=0.84833|10-CV=0.82|STD=0.08718|Time spend=25.24833917617798\n",
      "\tVALENCE-s20|Acc=0.9375|10-CV=0.45133|STD=0.13986|Time spend=33.82683849334717\n",
      "Fitted sphere radius:         95.3 mm\n",
      "Origin head coordinates:      -0.8 15.1 45.3 mm\n",
      "Origin device coordinates:    -0.8 15.1 45.3 mm\n",
      "========= close ========\n",
      "\tAROUSAL-s21|Acc=0.81667|10-CV=0.8|STD=0.1|Time spend=24.261054754257202\n",
      "\tVALENCE-s21|Acc=0.95|10-CV=0.41233|STD=0.0751|Time spend=32.95064377784729\n",
      "Fitted sphere radius:         95.3 mm\n",
      "Origin head coordinates:      -0.8 15.1 45.3 mm\n",
      "Origin device coordinates:    -0.8 15.1 45.3 mm\n",
      "========= close ========\n",
      "\tAROUSAL-s22|Acc=0.78|10-CV=0.60067|STD=0.06472|Time spend=24.208510875701904\n",
      "\tVALENCE-s22|Acc=0.88083|10-CV=0.49867|STD=0.07679|Time spend=32.36459183692932\n",
      "Fitted sphere radius:         95.3 mm\n",
      "Origin head coordinates:      -0.8 15.1 45.3 mm\n",
      "Origin device coordinates:    -0.8 15.1 45.3 mm\n",
      "========= close ========\n",
      "\tAROUSAL-s23|Acc=0.89|10-CV=0.78|STD=0.09798|Time spend=26.255051136016846\n",
      "\tVALENCE-s23|Acc=0.94417|10-CV=0.60133|STD=0.13648|Time spend=34.420804023742676\n",
      "Fitted sphere radius:         95.3 mm\n",
      "Origin head coordinates:      -0.8 15.1 45.3 mm\n",
      "Origin device coordinates:    -0.8 15.1 45.3 mm\n",
      "========= close ========\n",
      "\tAROUSAL-s24|Acc=0.83167|10-CV=0.82|STD=0.07483|Time spend=24.488024473190308\n",
      "\tVALENCE-s24|Acc=0.90667|10-CV=0.45167|STD=0.14868|Time spend=32.589967250823975\n",
      "Fitted sphere radius:         95.3 mm\n",
      "Origin head coordinates:      -0.8 15.1 45.3 mm\n",
      "Origin device coordinates:    -0.8 15.1 45.3 mm\n",
      "========= close ========\n",
      "\tAROUSAL-s25|Acc=0.7675|10-CV=0.73967|STD=0.12739|Time spend=24.97650170326233\n",
      "\tVALENCE-s25|Acc=0.94333|10-CV=0.40433|STD=0.09697|Time spend=33.11922526359558\n",
      "Fitted sphere radius:         95.3 mm\n",
      "Origin head coordinates:      -0.8 15.1 45.3 mm\n",
      "Origin device coordinates:    -0.8 15.1 45.3 mm\n",
      "========= close ========\n",
      "\tAROUSAL-s26|Acc=0.92|10-CV=0.50733|STD=0.09964|Time spend=25.020238876342773\n",
      "\tVALENCE-s26|Acc=0.81667|10-CV=0.616|STD=0.13542|Time spend=33.97567868232727\n",
      "Fitted sphere radius:         95.3 mm\n",
      "Origin head coordinates:      -0.8 15.1 45.3 mm\n",
      "Origin device coordinates:    -0.8 15.1 45.3 mm\n",
      "========= close ========\n",
      "\tAROUSAL-s27|Acc=0.895|10-CV=0.65|STD=0.11151|Time spend=26.047203063964844\n",
      "\tVALENCE-s27|Acc=0.87333|10-CV=0.67|STD=0.12689|Time spend=34.1404595375061\n",
      "Fitted sphere radius:         95.3 mm\n",
      "Origin head coordinates:      -0.8 15.1 45.3 mm\n",
      "Origin device coordinates:    -0.8 15.1 45.3 mm\n",
      "========= close ========\n",
      "\tAROUSAL-s28|Acc=0.9375|10-CV=0.47233|STD=0.08379|Time spend=25.608523845672607\n",
      "\tVALENCE-s28|Acc=0.8825|10-CV=0.58267|STD=0.15987|Time spend=33.78605532646179\n",
      "Fitted sphere radius:         95.3 mm\n",
      "Origin head coordinates:      -0.8 15.1 45.3 mm\n",
      "Origin device coordinates:    -0.8 15.1 45.3 mm\n",
      "========= close ========\n",
      "\tAROUSAL-s29|Acc=0.86167|10-CV=0.52833|STD=0.08375|Time spend=25.24287462234497\n",
      "\tVALENCE-s29|Acc=0.90167|10-CV=0.53467|STD=0.09309|Time spend=33.36587595939636\n",
      "Fitted sphere radius:         95.3 mm\n",
      "Origin head coordinates:      -0.8 15.1 45.3 mm\n",
      "Origin device coordinates:    -0.8 15.1 45.3 mm\n",
      "========= close ========\n",
      "\tAROUSAL-s30|Acc=0.93667|10-CV=0.41533|STD=0.06885|Time spend=26.673509120941162\n",
      "\tVALENCE-s30|Acc=0.76917|10-CV=0.61967|STD=0.14634|Time spend=35.02443552017212\n",
      "Fitted sphere radius:         95.3 mm\n",
      "Origin head coordinates:      -0.8 15.1 45.3 mm\n",
      "Origin device coordinates:    -0.8 15.1 45.3 mm\n",
      "========= close ========\n",
      "\tAROUSAL-s31|Acc=0.9875|10-CV=0.481|STD=0.09868|Time spend=27.360188245773315\n",
      "\tVALENCE-s31|Acc=0.97667|10-CV=0.46267|STD=0.0823|Time spend=35.96385359764099\n",
      "Fitted sphere radius:         95.3 mm\n",
      "Origin head coordinates:      -0.8 15.1 45.3 mm\n",
      "Origin device coordinates:    -0.8 15.1 45.3 mm\n",
      "========= close ========\n",
      "\tAROUSAL-s32|Acc=0.8275|10-CV=0.74033|STD=0.12675|Time spend=24.7480685710907\n",
      "\tVALENCE-s32|Acc=0.9625|10-CV=0.40967|STD=0.14079|Time spend=33.408998012542725\n",
      "AROUSAL|Acc=0.87|10-CV=0.5997395833333334|STD=0.09858475767284665\n",
      "VALENCE|Acc=0.905625|10-CV=0.5090833333333332|STD=0.11009599536362967\n"
     ]
    }
   ],
   "source": [
    "accs, cv_means, cv_stds = [],[],[]\n",
    "accs_v, cv_means_v, cv_stds_v = [],[],[]\n",
    "reports = []\n",
    "for filename in (pbar := tqdm(dataset.get_file_list())):\n",
    "    start = time.time()\n",
    "    pbar.set_description(filename)\n",
    "    data, labels, groups = dataset.get_data(filename, stimuli=Dataset_subjectDependent.STIMULI_AROUSAL, return_type='mne', sfreq=128)\n",
    "    \n",
    "    data_csd = mne.preprocessing.compute_current_source_density(data)\n",
    "\n",
    "    pli = calculate_pli(data_csd.get_data(), n_jobs=8)\n",
    "\n",
    "    _,acc,cross,train_report = train_model(pli, labels.squeeze(), groups, filename=filename, return_text=True)\n",
    "    report = f\"\\tAROUSAL-{filename}|Acc={round(acc,5)}|10-CV={round(cross.mean(),5)}|STD={round(cross.std(),5)}|Time spend={time.time() - start}\"\n",
    "    print(report)\n",
    "    reports.append(report)\n",
    "    reports.append(train_report)\n",
    "    accs.append(acc)\n",
    "    cv_means.append(cross.mean())\n",
    "    cv_stds.append(cross.std())\n",
    "\n",
    "    _, labels_v, groups_v = dataset.get_data(filename, stimuli=Dataset_subjectDependent.STIMULI_VALENCE, return_type='mne', sfreq=128)\n",
    "    _,acc,cross,train_report = train_model(pli, labels_v.squeeze(), groups_v, filename=filename, return_text=True)\n",
    "    report = f\"\\tVALENCE-{filename}|Acc={round(acc,5)}|10-CV={round(cross.mean(),5)}|STD={round(cross.std(),5)}|Time spend={time.time() - start}\"\n",
    "    print(report)\n",
    "    reports.append(report)\n",
    "    reports.append(train_report)\n",
    "    accs_v.append(acc)\n",
    "    cv_means_v.append(cross.mean())\n",
    "    cv_stds_v.append(cross.std())\n",
    "    # break\n",
    "    # count+=1\n",
    "    # if(count == 5): break\n",
    "report = f\"AROUSAL|Acc={sum(accs)/len(accs)}|10-CV={sum(cv_means)/len(cv_means)}|STD={sum(cv_stds)/len(cv_stds)}\"\n",
    "print(report)\n",
    "reports.append(report)\n",
    "report = f\"VALENCE|Acc={sum(accs_v)/len(accs_v)}|10-CV={sum(cv_means_v)/len(cv_means_v)}|STD={sum(cv_stds_v)/len(cv_stds_v)}\"\n",
    "print(report)\n",
    "reports.append(report)"
   ]
  },
  {
   "cell_type": "code",
   "execution_count": 18,
   "metadata": {},
   "outputs": [
    {
     "name": "stdout",
     "output_type": "stream",
     "text": [
      "\tAROUSAL-s01|Acc=0.94583|10-CV=0.53133|STD=0.12739|Time spend=26.505093812942505\n",
      "\tVALENCE-s01|Acc=0.9925|10-CV=0.46367|STD=0.06445|Time spend=34.69260883331299\n",
      "\tAROUSAL-s02|Acc=0.8425|10-CV=0.54167|STD=0.08818|Time spend=25.20341396331787\n",
      "\tVALENCE-s02|Acc=0.91083|10-CV=0.462|STD=0.08967|Time spend=33.69158864021301\n",
      "\tAROUSAL-s03|Acc=0.83417|10-CV=0.73|STD=0.15524|Time spend=24.018346309661865\n",
      "\tVALENCE-s03|Acc=0.97083|10-CV=0.444|STD=0.12222|Time spend=32.23697352409363\n",
      "\tAROUSAL-s04|Acc=0.8325|10-CV=0.54667|STD=0.13846|Time spend=25.338690519332886\n",
      "\tVALENCE-s04|Acc=0.78167|10-CV=0.50433|STD=0.11478|Time spend=33.370349168777466\n",
      "\tAROUSAL-s05|Acc=0.83833|10-CV=0.41467|STD=0.09858|Time spend=24.510822772979736\n",
      "\tVALENCE-s05|Acc=0.69583|10-CV=0.578|STD=0.08741|Time spend=32.41114068031311\n",
      "\tAROUSAL-s06|Acc=0.92|10-CV=0.505|STD=0.11977|Time spend=30.433154821395874\n",
      "\tVALENCE-s06|Acc=0.85417|10-CV=0.72|STD=0.07483|Time spend=42.6720986366272\n",
      "\tAROUSAL-s07|Acc=0.9375|10-CV=0.61267|STD=0.09988|Time spend=39.415703535079956\n",
      "\tVALENCE-s07|Acc=0.9|10-CV=0.68967|STD=0.13697|Time spend=51.75613307952881\n",
      "\tAROUSAL-s08|Acc=0.96083|10-CV=0.46933|STD=0.11278|Time spend=26.744006872177124\n",
      "\tVALENCE-s08|Acc=0.9575|10-CV=0.50767|STD=0.07632|Time spend=35.175167083740234\n",
      "\tAROUSAL-s09|Acc=0.78417|10-CV=0.537|STD=0.11618|Time spend=25.17006826400757\n",
      "\tVALENCE-s09|Acc=0.92167|10-CV=0.43933|STD=0.12442|Time spend=33.9109251499176\n",
      "\tAROUSAL-s10|Acc=0.95667|10-CV=0.49433|STD=0.05861|Time spend=26.506094217300415\n",
      "\tVALENCE-s10|Acc=0.9775|10-CV=0.39567|STD=0.12729|Time spend=35.25633931159973\n",
      "\tAROUSAL-s11|Acc=0.81333|10-CV=0.608|STD=0.06809|Time spend=25.654357194900513\n",
      "\tVALENCE-s11|Acc=0.83167|10-CV=0.534|STD=0.14444|Time spend=34.95100140571594\n",
      "\tAROUSAL-s12|Acc=0.85833|10-CV=0.83|STD=0.1005|Time spend=26.048912525177002\n",
      "\tVALENCE-s12|Acc=0.97583|10-CV=0.43|STD=0.1157|Time spend=34.65795135498047\n",
      "\tAROUSAL-s13|Acc=0.86917|10-CV=0.84|STD=0.06633|Time spend=24.660732746124268\n",
      "\tVALENCE-s13|Acc=0.91|10-CV=0.49367|STD=0.10076|Time spend=32.84889602661133\n",
      "\tAROUSAL-s14|Acc=0.82083|10-CV=0.64933|STD=0.10126|Time spend=25.39773678779602\n",
      "\tVALENCE-s14|Acc=0.96167|10-CV=0.41567|STD=0.08244|Time spend=34.226274728775024\n",
      "\tAROUSAL-s15|Acc=0.97833|10-CV=0.42067|STD=0.07287|Time spend=26.308563709259033\n",
      "\tVALENCE-s15|Acc=0.98667|10-CV=0.45767|STD=0.06979|Time spend=34.56141924858093\n",
      "\tAROUSAL-s16|Acc=0.98667|10-CV=0.34767|STD=0.09165|Time spend=26.76363754272461\n",
      "\tVALENCE-s16|Acc=0.94083|10-CV=0.62467|STD=0.08177|Time spend=35.039753675460815\n",
      "\tAROUSAL-s17|Acc=0.8025|10-CV=0.55333|STD=0.07971|Time spend=24.899516344070435\n",
      "\tVALENCE-s17|Acc=0.9225|10-CV=0.45533|STD=0.11052|Time spend=33.01534390449524\n",
      "\tAROUSAL-s18|Acc=0.84833|10-CV=0.57733|STD=0.1042|Time spend=25.7307870388031\n",
      "\tVALENCE-s18|Acc=0.89417|10-CV=0.52767|STD=0.1182|Time spend=33.80751299858093\n",
      "\tAROUSAL-s19|Acc=0.71|10-CV=0.62767|STD=0.12996|Time spend=25.707135438919067\n",
      "\tVALENCE-s19|Acc=0.84917|10-CV=0.43267|STD=0.12254|Time spend=34.1581072807312\n",
      "\tAROUSAL-s20|Acc=0.84833|10-CV=0.82|STD=0.08718|Time spend=25.24833917617798\n",
      "\tVALENCE-s20|Acc=0.9375|10-CV=0.45133|STD=0.13986|Time spend=33.82683849334717\n",
      "\tAROUSAL-s21|Acc=0.81667|10-CV=0.8|STD=0.1|Time spend=24.261054754257202\n",
      "\tVALENCE-s21|Acc=0.95|10-CV=0.41233|STD=0.0751|Time spend=32.95064377784729\n",
      "\tAROUSAL-s22|Acc=0.78|10-CV=0.60067|STD=0.06472|Time spend=24.208510875701904\n",
      "\tVALENCE-s22|Acc=0.88083|10-CV=0.49867|STD=0.07679|Time spend=32.36459183692932\n",
      "\tAROUSAL-s23|Acc=0.89|10-CV=0.78|STD=0.09798|Time spend=26.255051136016846\n",
      "\tVALENCE-s23|Acc=0.94417|10-CV=0.60133|STD=0.13648|Time spend=34.420804023742676\n",
      "\tAROUSAL-s24|Acc=0.83167|10-CV=0.82|STD=0.07483|Time spend=24.488024473190308\n",
      "\tVALENCE-s24|Acc=0.90667|10-CV=0.45167|STD=0.14868|Time spend=32.589967250823975\n",
      "\tAROUSAL-s25|Acc=0.7675|10-CV=0.73967|STD=0.12739|Time spend=24.97650170326233\n",
      "\tVALENCE-s25|Acc=0.94333|10-CV=0.40433|STD=0.09697|Time spend=33.11922526359558\n",
      "\tAROUSAL-s26|Acc=0.92|10-CV=0.50733|STD=0.09964|Time spend=25.020238876342773\n",
      "\tVALENCE-s26|Acc=0.81667|10-CV=0.616|STD=0.13542|Time spend=33.97567868232727\n",
      "\tAROUSAL-s27|Acc=0.895|10-CV=0.65|STD=0.11151|Time spend=26.047203063964844\n",
      "\tVALENCE-s27|Acc=0.87333|10-CV=0.67|STD=0.12689|Time spend=34.1404595375061\n",
      "\tAROUSAL-s28|Acc=0.9375|10-CV=0.47233|STD=0.08379|Time spend=25.608523845672607\n",
      "\tVALENCE-s28|Acc=0.8825|10-CV=0.58267|STD=0.15987|Time spend=33.78605532646179\n",
      "\tAROUSAL-s29|Acc=0.86167|10-CV=0.52833|STD=0.08375|Time spend=25.24287462234497\n",
      "\tVALENCE-s29|Acc=0.90167|10-CV=0.53467|STD=0.09309|Time spend=33.36587595939636\n",
      "\tAROUSAL-s30|Acc=0.93667|10-CV=0.41533|STD=0.06885|Time spend=26.673509120941162\n",
      "\tVALENCE-s30|Acc=0.76917|10-CV=0.61967|STD=0.14634|Time spend=35.02443552017212\n",
      "\tAROUSAL-s31|Acc=0.9875|10-CV=0.481|STD=0.09868|Time spend=27.360188245773315\n",
      "\tVALENCE-s31|Acc=0.97667|10-CV=0.46267|STD=0.0823|Time spend=35.96385359764099\n",
      "\tAROUSAL-s32|Acc=0.8275|10-CV=0.74033|STD=0.12675|Time spend=24.7480685710907\n",
      "\tVALENCE-s32|Acc=0.9625|10-CV=0.40967|STD=0.14079|Time spend=33.408998012542725\n",
      "AROUSAL|Acc=0.87|10-CV=0.5997395833333334|STD=0.09858475767284665\n",
      "VALENCE|Acc=0.905625|10-CV=0.5090833333333332|STD=0.11009599536362967\n",
      "TOTAL|Acc=0.8878124999999999|10-CV=0.5544114583333334|STD=0.10434037651823817\n"
     ]
    }
   ],
   "source": [
    "for text in reports:\n",
    "    if(text == None): continue\n",
    "    print(text)\n",
    "\n",
    "accs.extend(accs_v)\n",
    "cv_means.extend(cv_means_v)\n",
    "cv_stds.extend(cv_stds_v)\n",
    "print(f\"TOTAL|Acc={sum(accs)/len(accs)}|10-CV={sum(cv_means)/len(cv_means)}|STD={sum(cv_stds)/len(cv_stds)}\")"
   ]
  },
  {
   "cell_type": "markdown",
   "metadata": {},
   "source": [
    "## 5. CSP"
   ]
  },
  {
   "cell_type": "code",
   "execution_count": 19,
   "metadata": {},
   "outputs": [],
   "source": [
    "from components.CSP import CSP\n",
    "from mne_features.feature_extraction import FeatureExtractor\n",
    "\n",
    "bands = [(0,4), (4,8), (8,12), (12,30), (30,64)]\n",
    "# [alias_feature_function]__[optional_param]\n",
    "params = dict({\n",
    "    'pow_freq_bands__log':True,\n",
    "    'pow_freq_bands__normalize':False,\n",
    "    'pow_freq_bands__freq_bands':bands\n",
    "})"
   ]
  },
  {
   "cell_type": "code",
   "execution_count": 21,
   "metadata": {},
   "outputs": [
    {
     "data": {
      "application/vnd.jupyter.widget-view+json": {
       "model_id": "6b84df887eee4ad085c091bee9bd5642",
       "version_major": 2,
       "version_minor": 0
      },
      "text/plain": [
       "  0%|          | 0/32 [00:00<?, ?it/s]"
      ]
     },
     "metadata": {},
     "output_type": "display_data"
    },
    {
     "name": "stdout",
     "output_type": "stream",
     "text": [
      "\tAROUSAL-s01|Acc=0.75833|10-CV=0.69967|STD=0.07771|Time spend=0.945894718170166\n"
     ]
    },
    {
     "name": "stderr",
     "output_type": "stream",
     "text": [
      "/root/projects/components/CSP.py:78: ComplexWarning: Casting complex values to real discards the imaginary part\n",
      "  return SFa.astype(np.float32)\n"
     ]
    },
    {
     "name": "stdout",
     "output_type": "stream",
     "text": [
      "\tAROUSAL-s02|Acc=0.6125|10-CV=0.52967|STD=0.09813|Time spend=1.1673650741577148\n"
     ]
    },
    {
     "name": "stderr",
     "output_type": "stream",
     "text": [
      "/root/projects/components/CSP.py:78: ComplexWarning: Casting complex values to real discards the imaginary part\n",
      "  return SFa.astype(np.float32)\n"
     ]
    },
    {
     "name": "stdout",
     "output_type": "stream",
     "text": [
      "\tAROUSAL-s03|Acc=0.83583|10-CV=0.73333|STD=0.15341|Time spend=0.8356776237487793\n"
     ]
    },
    {
     "name": "stderr",
     "output_type": "stream",
     "text": [
      "/root/projects/components/CSP.py:78: ComplexWarning: Casting complex values to real discards the imaginary part\n",
      "  return SFa.astype(np.float32)\n"
     ]
    },
    {
     "name": "stdout",
     "output_type": "stream",
     "text": [
      "\tAROUSAL-s04|Acc=0.6375|10-CV=0.545|STD=0.11747|Time spend=1.0219488143920898\n"
     ]
    },
    {
     "name": "stderr",
     "output_type": "stream",
     "text": [
      "/root/projects/components/CSP.py:78: ComplexWarning: Casting complex values to real discards the imaginary part\n",
      "  return SFa.astype(np.float32)\n"
     ]
    },
    {
     "name": "stdout",
     "output_type": "stream",
     "text": [
      "\tAROUSAL-s05|Acc=0.81167|10-CV=0.756|STD=0.03633|Time spend=0.8707275390625\n"
     ]
    },
    {
     "name": "stderr",
     "output_type": "stream",
     "text": [
      "/root/projects/components/CSP.py:78: ComplexWarning: Casting complex values to real discards the imaginary part\n",
      "  return SFa.astype(np.float32)\n"
     ]
    },
    {
     "name": "stdout",
     "output_type": "stream",
     "text": [
      "\tAROUSAL-s06|Acc=0.72917|10-CV=0.64933|STD=0.08312|Time spend=0.9218776226043701\n"
     ]
    },
    {
     "name": "stderr",
     "output_type": "stream",
     "text": [
      "/root/projects/components/CSP.py:78: ComplexWarning: Casting complex values to real discards the imaginary part\n",
      "  return SFa.astype(np.float32)\n"
     ]
    },
    {
     "name": "stdout",
     "output_type": "stream",
     "text": [
      "\tAROUSAL-s07|Acc=0.88333|10-CV=0.873|STD=0.0386|Time spend=0.7645373344421387\n"
     ]
    },
    {
     "name": "stderr",
     "output_type": "stream",
     "text": [
      "/root/projects/components/CSP.py:78: ComplexWarning: Casting complex values to real discards the imaginary part\n",
      "  return SFa.astype(np.float32)\n"
     ]
    },
    {
     "name": "stdout",
     "output_type": "stream",
     "text": [
      "\tAROUSAL-s08|Acc=0.75167|10-CV=0.70867|STD=0.09129|Time spend=0.9369945526123047\n"
     ]
    },
    {
     "name": "stderr",
     "output_type": "stream",
     "text": [
      "/root/projects/components/CSP.py:78: ComplexWarning: Casting complex values to real discards the imaginary part\n",
      "  return SFa.astype(np.float32)\n"
     ]
    },
    {
     "name": "stdout",
     "output_type": "stream",
     "text": [
      "\tAROUSAL-s09|Acc=0.62167|10-CV=0.541|STD=0.11981|Time spend=0.929401159286499\n"
     ]
    },
    {
     "name": "stderr",
     "output_type": "stream",
     "text": [
      "/root/projects/components/CSP.py:78: ComplexWarning: Casting complex values to real discards the imaginary part\n",
      "  return SFa.astype(np.float32)\n"
     ]
    },
    {
     "name": "stdout",
     "output_type": "stream",
     "text": [
      "\tAROUSAL-s10|Acc=0.575|10-CV=0.44633|STD=0.05122|Time spend=0.9786233901977539\n"
     ]
    },
    {
     "name": "stderr",
     "output_type": "stream",
     "text": [
      "/root/projects/components/CSP.py:78: ComplexWarning: Casting complex values to real discards the imaginary part\n",
      "  return SFa.astype(np.float32)\n"
     ]
    },
    {
     "name": "stdout",
     "output_type": "stream",
     "text": [
      "\tAROUSAL-s11|Acc=0.9625|10-CV=0.947|STD=0.02283|Time spend=0.6816449165344238\n"
     ]
    },
    {
     "name": "stderr",
     "output_type": "stream",
     "text": [
      "/root/projects/components/CSP.py:78: ComplexWarning: Casting complex values to real discards the imaginary part\n",
      "  return SFa.astype(np.float32)\n"
     ]
    },
    {
     "name": "stdout",
     "output_type": "stream",
     "text": [
      "\tAROUSAL-s12|Acc=0.85917|10-CV=0.82933|STD=0.06875|Time spend=0.7565333843231201\n"
     ]
    },
    {
     "name": "stderr",
     "output_type": "stream",
     "text": [
      "/root/projects/components/CSP.py:78: ComplexWarning: Casting complex values to real discards the imaginary part\n",
      "  return SFa.astype(np.float32)\n"
     ]
    },
    {
     "name": "stdout",
     "output_type": "stream",
     "text": [
      "\tAROUSAL-s13|Acc=0.87417|10-CV=0.85267|STD=0.06139|Time spend=0.7545650005340576\n"
     ]
    },
    {
     "name": "stderr",
     "output_type": "stream",
     "text": [
      "/root/projects/components/CSP.py:78: ComplexWarning: Casting complex values to real discards the imaginary part\n",
      "  return SFa.astype(np.float32)\n"
     ]
    },
    {
     "name": "stdout",
     "output_type": "stream",
     "text": [
      "\tAROUSAL-s14|Acc=0.83167|10-CV=0.805|STD=0.05392|Time spend=0.8515026569366455\n"
     ]
    },
    {
     "name": "stderr",
     "output_type": "stream",
     "text": [
      "/root/projects/components/CSP.py:78: ComplexWarning: Casting complex values to real discards the imaginary part\n",
      "  return SFa.astype(np.float32)\n"
     ]
    },
    {
     "name": "stdout",
     "output_type": "stream",
     "text": [
      "\tAROUSAL-s15|Acc=0.61917|10-CV=0.49833|STD=0.10813|Time spend=1.0060603618621826\n"
     ]
    },
    {
     "name": "stderr",
     "output_type": "stream",
     "text": [
      "/root/projects/components/CSP.py:78: ComplexWarning: Casting complex values to real discards the imaginary part\n",
      "  return SFa.astype(np.float32)\n"
     ]
    },
    {
     "name": "stdout",
     "output_type": "stream",
     "text": [
      "\tAROUSAL-s16|Acc=0.72917|10-CV=0.68533|STD=0.08194|Time spend=0.9490389823913574\n"
     ]
    },
    {
     "name": "stderr",
     "output_type": "stream",
     "text": [
      "/root/projects/components/CSP.py:78: ComplexWarning: Casting complex values to real discards the imaginary part\n",
      "  return SFa.astype(np.float32)\n"
     ]
    },
    {
     "name": "stdout",
     "output_type": "stream",
     "text": [
      "\tAROUSAL-s17|Acc=0.92417|10-CV=0.90167|STD=0.01905|Time spend=0.7294294834136963\n"
     ]
    },
    {
     "name": "stderr",
     "output_type": "stream",
     "text": [
      "/root/projects/components/CSP.py:78: ComplexWarning: Casting complex values to real discards the imaginary part\n",
      "  return SFa.astype(np.float32)\n"
     ]
    },
    {
     "name": "stdout",
     "output_type": "stream",
     "text": [
      "\tAROUSAL-s18|Acc=0.6325|10-CV=0.57533|STD=0.11515|Time spend=0.9818692207336426\n"
     ]
    },
    {
     "name": "stderr",
     "output_type": "stream",
     "text": [
      "/root/projects/components/CSP.py:78: ComplexWarning: Casting complex values to real discards the imaginary part\n",
      "  return SFa.astype(np.float32)\n"
     ]
    },
    {
     "name": "stdout",
     "output_type": "stream",
     "text": [
      "-----WARNING: Model s19 failed to learn: sum(ans)=1200.0 sum(y)=810.0 len(y)=1200\n",
      "\tAROUSAL-s19|Acc=0.675|10-CV=0.63|STD=0.13454|Time spend=1.0067713260650635\n"
     ]
    },
    {
     "name": "stderr",
     "output_type": "stream",
     "text": [
      "/root/projects/components/CSP.py:78: ComplexWarning: Casting complex values to real discards the imaginary part\n",
      "  return SFa.astype(np.float32)\n"
     ]
    },
    {
     "name": "stdout",
     "output_type": "stream",
     "text": [
      "\tAROUSAL-s20|Acc=0.86583|10-CV=0.87533|STD=0.03824|Time spend=0.7907130718231201\n"
     ]
    },
    {
     "name": "stderr",
     "output_type": "stream",
     "text": [
      "/root/projects/components/CSP.py:78: ComplexWarning: Casting complex values to real discards the imaginary part\n",
      "  return SFa.astype(np.float32)\n"
     ]
    },
    {
     "name": "stdout",
     "output_type": "stream",
     "text": [
      "\tAROUSAL-s21|Acc=0.94167|10-CV=0.90167|STD=0.05634|Time spend=0.7322831153869629\n"
     ]
    },
    {
     "name": "stderr",
     "output_type": "stream",
     "text": [
      "/root/projects/components/CSP.py:78: ComplexWarning: Casting complex values to real discards the imaginary part\n",
      "  return SFa.astype(np.float32)\n"
     ]
    },
    {
     "name": "stdout",
     "output_type": "stream",
     "text": [
      "\tAROUSAL-s22|Acc=0.6175|10-CV=0.59467|STD=0.07386|Time spend=0.9748106002807617\n"
     ]
    },
    {
     "name": "stderr",
     "output_type": "stream",
     "text": [
      "/root/projects/components/CSP.py:78: ComplexWarning: Casting complex values to real discards the imaginary part\n",
      "  return SFa.astype(np.float32)\n"
     ]
    },
    {
     "name": "stdout",
     "output_type": "stream",
     "text": [
      "\tAROUSAL-s23|Acc=0.80583|10-CV=0.78767|STD=0.07958|Time spend=0.8242640495300293\n"
     ]
    },
    {
     "name": "stderr",
     "output_type": "stream",
     "text": [
      "/root/projects/components/CSP.py:78: ComplexWarning: Casting complex values to real discards the imaginary part\n",
      "  return SFa.astype(np.float32)\n"
     ]
    },
    {
     "name": "stdout",
     "output_type": "stream",
     "text": [
      "\tAROUSAL-s24|Acc=0.99833|10-CV=0.996|STD=0.00249|Time spend=0.6822795867919922\n"
     ]
    },
    {
     "name": "stderr",
     "output_type": "stream",
     "text": [
      "/root/projects/components/CSP.py:78: ComplexWarning: Casting complex values to real discards the imaginary part\n",
      "  return SFa.astype(np.float32)\n"
     ]
    },
    {
     "name": "stdout",
     "output_type": "stream",
     "text": [
      "\tAROUSAL-s25|Acc=0.96917|10-CV=0.95767|STD=0.01521|Time spend=0.7031903266906738\n"
     ]
    },
    {
     "name": "stderr",
     "output_type": "stream",
     "text": [
      "/root/projects/components/CSP.py:78: ComplexWarning: Casting complex values to real discards the imaginary part\n",
      "  return SFa.astype(np.float32)\n"
     ]
    },
    {
     "name": "stdout",
     "output_type": "stream",
     "text": [
      "\tAROUSAL-s26|Acc=0.73333|10-CV=0.67633|STD=0.08886|Time spend=0.9219815731048584\n"
     ]
    },
    {
     "name": "stderr",
     "output_type": "stream",
     "text": [
      "/root/projects/components/CSP.py:78: ComplexWarning: Casting complex values to real discards the imaginary part\n",
      "  return SFa.astype(np.float32)\n"
     ]
    },
    {
     "name": "stdout",
     "output_type": "stream",
     "text": [
      "\tAROUSAL-s27|Acc=0.67833|10-CV=0.63333|STD=0.09888|Time spend=0.923738956451416\n"
     ]
    },
    {
     "name": "stderr",
     "output_type": "stream",
     "text": [
      "/root/projects/components/CSP.py:78: ComplexWarning: Casting complex values to real discards the imaginary part\n",
      "  return SFa.astype(np.float32)\n"
     ]
    },
    {
     "name": "stdout",
     "output_type": "stream",
     "text": [
      "\tAROUSAL-s28|Acc=0.60917|10-CV=0.516|STD=0.1197|Time spend=0.9798612594604492\n"
     ]
    },
    {
     "name": "stderr",
     "output_type": "stream",
     "text": [
      "/root/projects/components/CSP.py:78: ComplexWarning: Casting complex values to real discards the imaginary part\n",
      "  return SFa.astype(np.float32)\n"
     ]
    },
    {
     "name": "stdout",
     "output_type": "stream",
     "text": [
      "\tAROUSAL-s29|Acc=0.6425|10-CV=0.526|STD=0.08081|Time spend=0.9716780185699463\n"
     ]
    },
    {
     "name": "stderr",
     "output_type": "stream",
     "text": [
      "/root/projects/components/CSP.py:78: ComplexWarning: Casting complex values to real discards the imaginary part\n",
      "  return SFa.astype(np.float32)\n"
     ]
    },
    {
     "name": "stdout",
     "output_type": "stream",
     "text": [
      "\tAROUSAL-s30|Acc=0.59917|10-CV=0.47233|STD=0.07706|Time spend=0.9838671684265137\n"
     ]
    },
    {
     "name": "stderr",
     "output_type": "stream",
     "text": [
      "/root/projects/components/CSP.py:78: ComplexWarning: Casting complex values to real discards the imaginary part\n",
      "  return SFa.astype(np.float32)\n"
     ]
    },
    {
     "name": "stdout",
     "output_type": "stream",
     "text": [
      "\tAROUSAL-s31|Acc=0.9725|10-CV=0.96733|STD=0.00929|Time spend=0.6896071434020996\n"
     ]
    },
    {
     "name": "stderr",
     "output_type": "stream",
     "text": [
      "/root/projects/components/CSP.py:78: ComplexWarning: Casting complex values to real discards the imaginary part\n",
      "  return SFa.astype(np.float32)\n"
     ]
    },
    {
     "name": "stdout",
     "output_type": "stream",
     "text": [
      "\tAROUSAL-s32|Acc=0.9975|10-CV=0.99367|STD=0.00767|Time spend=0.7904689311981201\n",
      "AROUSAL|Acc=0.77359375|10-CV=0.7220208333333333|STD=0.07127342403763777\n"
     ]
    }
   ],
   "source": [
    "accs, cv_means, cv_stds = [],[],[]\n",
    "for filename in tqdm(dataset.get_file_list()):\n",
    "\n",
    "    data, labels, groups = dataset.get_data(filename, stimuli=Dataset_subjectDependent.STIMULI_AROUSAL, return_type='numpy')\n",
    "    labels = labels.squeeze()\n",
    "    start = time.time()\n",
    "    filters = CSP(data[labels==0], data[labels==1])\n",
    "    \n",
    "    csp_data = []\n",
    "    for index in range(len(data)):\n",
    "        \n",
    "        # (672, 32) @ (32, 32) = (672, 32)\n",
    "        csp = data[index].T @ filters[labels[index].astype(int)]\n",
    "        # (1, 32, 672)\n",
    "        csp = np.expand_dims(csp.T, axis=0)\n",
    "        csp_data.append(csp)\n",
    "\n",
    "    csp_data = np.vstack(csp_data)\n",
    "    # print(csp_data.shape) => (2400, 32, 128)\n",
    "    fe = FeatureExtractor(sfreq=128, selected_funcs=['pow_freq_bands'],params=params,n_jobs=8)\n",
    "    X = fe.fit_transform(X=csp_data)\n",
    "    # print(X.shape, time.time() - start) => (2400, 160) 1.2374355792999268\n",
    "\n",
    "    assert X.shape[1] == 160\n",
    "    _, acc, cross = train_model(X, labels.reshape(-1), groups, filename=filename)\n",
    "    print(f\"\\tAROUSAL-{filename}|Acc={round(acc,5)}|10-CV={round(cross.mean(),5)}|STD={round(cross.std(),5)}|Time spend={time.time() - start}\")\n",
    "    accs.append(acc)\n",
    "    cv_means.append(cross.mean())\n",
    "    cv_stds.append(cross.std())\n",
    "print(f\"AROUSAL|Acc={sum(accs)/len(accs)}|10-CV={sum(cv_means)/len(cv_means)}|STD={sum(cv_stds)/len(cv_stds)}\")"
   ]
  },
  {
   "cell_type": "code",
   "execution_count": 22,
   "metadata": {},
   "outputs": [
    {
     "data": {
      "application/vnd.jupyter.widget-view+json": {
       "model_id": "2db4fb7e6924405388514253a05faea4",
       "version_major": 2,
       "version_minor": 0
      },
      "text/plain": [
       "  0%|          | 0/32 [00:00<?, ?it/s]"
      ]
     },
     "metadata": {},
     "output_type": "display_data"
    },
    {
     "name": "stderr",
     "output_type": "stream",
     "text": [
      "/root/projects/components/CSP.py:78: ComplexWarning: Casting complex values to real discards the imaginary part\n",
      "  return SFa.astype(np.float32)\n"
     ]
    },
    {
     "name": "stdout",
     "output_type": "stream",
     "text": [
      "\tVALENCE-s01|Acc=0.5675|10-CV=0.44067|STD=0.0663|Time spend=0.993372917175293\n"
     ]
    },
    {
     "name": "stderr",
     "output_type": "stream",
     "text": [
      "/root/projects/components/CSP.py:78: ComplexWarning: Casting complex values to real discards the imaginary part\n",
      "  return SFa.astype(np.float32)\n"
     ]
    },
    {
     "name": "stdout",
     "output_type": "stream",
     "text": [
      "\tVALENCE-s02|Acc=0.6|10-CV=0.46267|STD=0.09086|Time spend=0.9802024364471436\n"
     ]
    },
    {
     "name": "stderr",
     "output_type": "stream",
     "text": [
      "/root/projects/components/CSP.py:78: ComplexWarning: Casting complex values to real discards the imaginary part\n",
      "  return SFa.astype(np.float32)\n"
     ]
    },
    {
     "name": "stdout",
     "output_type": "stream",
     "text": [
      "\tVALENCE-s03|Acc=0.69|10-CV=0.572|STD=0.16789|Time spend=0.946366548538208\n"
     ]
    },
    {
     "name": "stderr",
     "output_type": "stream",
     "text": [
      "/root/projects/components/CSP.py:78: ComplexWarning: Casting complex values to real discards the imaginary part\n",
      "  return SFa.astype(np.float32)\n"
     ]
    },
    {
     "name": "stdout",
     "output_type": "stream",
     "text": [
      "\tVALENCE-s04|Acc=0.68167|10-CV=0.55067|STD=0.0962|Time spend=1.0283770561218262\n"
     ]
    },
    {
     "name": "stderr",
     "output_type": "stream",
     "text": [
      "/root/projects/components/CSP.py:78: ComplexWarning: Casting complex values to real discards the imaginary part\n",
      "  return SFa.astype(np.float32)\n"
     ]
    },
    {
     "name": "stdout",
     "output_type": "stream",
     "text": [
      "\tVALENCE-s05|Acc=0.60833|10-CV=0.57367|STD=0.08477|Time spend=0.9783754348754883\n"
     ]
    },
    {
     "name": "stderr",
     "output_type": "stream",
     "text": [
      "/root/projects/components/CSP.py:78: ComplexWarning: Casting complex values to real discards the imaginary part\n",
      "  return SFa.astype(np.float32)\n"
     ]
    },
    {
     "name": "stdout",
     "output_type": "stream",
     "text": [
      "\tVALENCE-s06|Acc=0.9875|10-CV=0.976|STD=0.01685|Time spend=0.6930298805236816\n"
     ]
    },
    {
     "name": "stderr",
     "output_type": "stream",
     "text": [
      "/root/projects/components/CSP.py:78: ComplexWarning: Casting complex values to real discards the imaginary part\n",
      "  return SFa.astype(np.float32)\n"
     ]
    },
    {
     "name": "stdout",
     "output_type": "stream",
     "text": [
      "\tVALENCE-s07|Acc=0.92833|10-CV=0.91333|STD=0.03559|Time spend=0.735445499420166\n"
     ]
    },
    {
     "name": "stderr",
     "output_type": "stream",
     "text": [
      "/root/projects/components/CSP.py:78: ComplexWarning: Casting complex values to real discards the imaginary part\n",
      "  return SFa.astype(np.float32)\n"
     ]
    },
    {
     "name": "stdout",
     "output_type": "stream",
     "text": [
      "\tVALENCE-s08|Acc=0.87417|10-CV=0.852|STD=0.0328|Time spend=0.7808427810668945\n"
     ]
    },
    {
     "name": "stderr",
     "output_type": "stream",
     "text": [
      "/root/projects/components/CSP.py:78: ComplexWarning: Casting complex values to real discards the imaginary part\n",
      "  return SFa.astype(np.float32)\n"
     ]
    },
    {
     "name": "stdout",
     "output_type": "stream",
     "text": [
      "\tVALENCE-s09|Acc=0.61417|10-CV=0.46367|STD=0.10269|Time spend=1.0067203044891357\n"
     ]
    },
    {
     "name": "stderr",
     "output_type": "stream",
     "text": [
      "/root/projects/components/CSP.py:78: ComplexWarning: Casting complex values to real discards the imaginary part\n",
      "  return SFa.astype(np.float32)\n"
     ]
    },
    {
     "name": "stdout",
     "output_type": "stream",
     "text": [
      "\tVALENCE-s10|Acc=0.68667|10-CV=0.616|STD=0.10919|Time spend=0.9335207939147949\n"
     ]
    },
    {
     "name": "stderr",
     "output_type": "stream",
     "text": [
      "/root/projects/components/CSP.py:78: ComplexWarning: Casting complex values to real discards the imaginary part\n",
      "  return SFa.astype(np.float32)\n"
     ]
    },
    {
     "name": "stdout",
     "output_type": "stream",
     "text": [
      "\tVALENCE-s11|Acc=0.61333|10-CV=0.51767|STD=0.12937|Time spend=0.9580271244049072\n"
     ]
    },
    {
     "name": "stderr",
     "output_type": "stream",
     "text": [
      "/root/projects/components/CSP.py:78: ComplexWarning: Casting complex values to real discards the imaginary part\n",
      "  return SFa.astype(np.float32)\n"
     ]
    },
    {
     "name": "stdout",
     "output_type": "stream",
     "text": [
      "\tVALENCE-s12|Acc=0.7925|10-CV=0.73833|STD=0.04573|Time spend=0.864342212677002\n"
     ]
    },
    {
     "name": "stderr",
     "output_type": "stream",
     "text": [
      "/root/projects/components/CSP.py:78: ComplexWarning: Casting complex values to real discards the imaginary part\n",
      "  return SFa.astype(np.float32)\n"
     ]
    },
    {
     "name": "stdout",
     "output_type": "stream",
     "text": [
      "\tVALENCE-s13|Acc=0.74083|10-CV=0.724|STD=0.10981|Time spend=0.936791181564331\n"
     ]
    },
    {
     "name": "stderr",
     "output_type": "stream",
     "text": [
      "/root/projects/components/CSP.py:78: ComplexWarning: Casting complex values to real discards the imaginary part\n",
      "  return SFa.astype(np.float32)\n"
     ]
    },
    {
     "name": "stdout",
     "output_type": "stream",
     "text": [
      "\tVALENCE-s14|Acc=0.61333|10-CV=0.46933|STD=0.09504|Time spend=0.9701459407806396\n"
     ]
    },
    {
     "name": "stderr",
     "output_type": "stream",
     "text": [
      "/root/projects/components/CSP.py:78: ComplexWarning: Casting complex values to real discards the imaginary part\n",
      "  return SFa.astype(np.float32)\n"
     ]
    },
    {
     "name": "stdout",
     "output_type": "stream",
     "text": [
      "\tVALENCE-s15|Acc=0.6375|10-CV=0.57233|STD=0.08094|Time spend=0.9708714485168457\n"
     ]
    },
    {
     "name": "stderr",
     "output_type": "stream",
     "text": [
      "/root/projects/components/CSP.py:78: ComplexWarning: Casting complex values to real discards the imaginary part\n",
      "  return SFa.astype(np.float32)\n"
     ]
    },
    {
     "name": "stdout",
     "output_type": "stream",
     "text": [
      "\tVALENCE-s16|Acc=0.75917|10-CV=0.73733|STD=0.03927|Time spend=0.9027791023254395\n"
     ]
    },
    {
     "name": "stderr",
     "output_type": "stream",
     "text": [
      "/root/projects/components/CSP.py:78: ComplexWarning: Casting complex values to real discards the imaginary part\n",
      "  return SFa.astype(np.float32)\n"
     ]
    },
    {
     "name": "stdout",
     "output_type": "stream",
     "text": [
      "\tVALENCE-s17|Acc=0.66833|10-CV=0.53567|STD=0.09633|Time spend=0.9538054466247559\n"
     ]
    },
    {
     "name": "stderr",
     "output_type": "stream",
     "text": [
      "/root/projects/components/CSP.py:78: ComplexWarning: Casting complex values to real discards the imaginary part\n",
      "  return SFa.astype(np.float32)\n"
     ]
    },
    {
     "name": "stdout",
     "output_type": "stream",
     "text": [
      "\tVALENCE-s18|Acc=0.615|10-CV=0.517|STD=0.11599|Time spend=0.964897871017456\n"
     ]
    },
    {
     "name": "stderr",
     "output_type": "stream",
     "text": [
      "/root/projects/components/CSP.py:78: ComplexWarning: Casting complex values to real discards the imaginary part\n",
      "  return SFa.astype(np.float32)\n"
     ]
    },
    {
     "name": "stdout",
     "output_type": "stream",
     "text": [
      "\tVALENCE-s19|Acc=0.61167|10-CV=0.47567|STD=0.14154|Time spend=0.955047607421875\n"
     ]
    },
    {
     "name": "stderr",
     "output_type": "stream",
     "text": [
      "/root/projects/components/CSP.py:78: ComplexWarning: Casting complex values to real discards the imaginary part\n",
      "  return SFa.astype(np.float32)\n"
     ]
    },
    {
     "name": "stdout",
     "output_type": "stream",
     "text": [
      "\tVALENCE-s20|Acc=0.79|10-CV=0.754|STD=0.06492|Time spend=0.8373124599456787\n"
     ]
    },
    {
     "name": "stderr",
     "output_type": "stream",
     "text": [
      "/root/projects/components/CSP.py:78: ComplexWarning: Casting complex values to real discards the imaginary part\n",
      "  return SFa.astype(np.float32)\n"
     ]
    },
    {
     "name": "stdout",
     "output_type": "stream",
     "text": [
      "\tVALENCE-s21|Acc=0.55083|10-CV=0.37433|STD=0.08434|Time spend=1.0727579593658447\n"
     ]
    },
    {
     "name": "stderr",
     "output_type": "stream",
     "text": [
      "/root/projects/components/CSP.py:78: ComplexWarning: Casting complex values to real discards the imaginary part\n",
      "  return SFa.astype(np.float32)\n"
     ]
    },
    {
     "name": "stdout",
     "output_type": "stream",
     "text": [
      "\tVALENCE-s22|Acc=0.66|10-CV=0.6|STD=0.10219|Time spend=0.9473996162414551\n"
     ]
    },
    {
     "name": "stderr",
     "output_type": "stream",
     "text": [
      "/root/projects/components/CSP.py:78: ComplexWarning: Casting complex values to real discards the imaginary part\n",
      "  return SFa.astype(np.float32)\n"
     ]
    },
    {
     "name": "stdout",
     "output_type": "stream",
     "text": [
      "\tVALENCE-s23|Acc=0.81167|10-CV=0.77667|STD=0.06517|Time spend=0.831373929977417\n"
     ]
    },
    {
     "name": "stderr",
     "output_type": "stream",
     "text": [
      "/root/projects/components/CSP.py:78: ComplexWarning: Casting complex values to real discards the imaginary part\n",
      "  return SFa.astype(np.float32)\n"
     ]
    },
    {
     "name": "stdout",
     "output_type": "stream",
     "text": [
      "-----WARNING: Model s24 failed to learn: sum(ans)=0.0 sum(y)=540.0 len(y)=1200\n",
      "\tVALENCE-s24|Acc=0.55|10-CV=0.43033|STD=0.18407|Time spend=1.033806562423706\n"
     ]
    },
    {
     "name": "stderr",
     "output_type": "stream",
     "text": [
      "/root/projects/components/CSP.py:78: ComplexWarning: Casting complex values to real discards the imaginary part\n",
      "  return SFa.astype(np.float32)\n"
     ]
    },
    {
     "name": "stdout",
     "output_type": "stream",
     "text": [
      "\tVALENCE-s25|Acc=0.9675|10-CV=0.96767|STD=0.02921|Time spend=0.7339868545532227\n"
     ]
    },
    {
     "name": "stderr",
     "output_type": "stream",
     "text": [
      "/root/projects/components/CSP.py:78: ComplexWarning: Casting complex values to real discards the imaginary part\n",
      "  return SFa.astype(np.float32)\n"
     ]
    },
    {
     "name": "stdout",
     "output_type": "stream",
     "text": [
      "-----WARNING: Model s26 failed to learn: sum(ans)=1200.0 sum(y)=780.0 len(y)=1200\n",
      "\tVALENCE-s26|Acc=0.65|10-CV=0.60767|STD=0.12682|Time spend=1.0878479480743408\n"
     ]
    },
    {
     "name": "stderr",
     "output_type": "stream",
     "text": [
      "/root/projects/components/CSP.py:78: ComplexWarning: Casting complex values to real discards the imaginary part\n",
      "  return SFa.astype(np.float32)\n"
     ]
    },
    {
     "name": "stdout",
     "output_type": "stream",
     "text": [
      "\tVALENCE-s27|Acc=0.885|10-CV=0.81867|STD=0.05743|Time spend=0.8338150978088379\n"
     ]
    },
    {
     "name": "stderr",
     "output_type": "stream",
     "text": [
      "/root/projects/components/CSP.py:78: ComplexWarning: Casting complex values to real discards the imaginary part\n",
      "  return SFa.astype(np.float32)\n"
     ]
    },
    {
     "name": "stdout",
     "output_type": "stream",
     "text": [
      "\tVALENCE-s28|Acc=0.64583|10-CV=0.53733|STD=0.11666|Time spend=1.0422186851501465\n"
     ]
    },
    {
     "name": "stderr",
     "output_type": "stream",
     "text": [
      "/root/projects/components/CSP.py:78: ComplexWarning: Casting complex values to real discards the imaginary part\n",
      "  return SFa.astype(np.float32)\n"
     ]
    },
    {
     "name": "stdout",
     "output_type": "stream",
     "text": [
      "\tVALENCE-s29|Acc=0.595|10-CV=0.54833|STD=0.11129|Time spend=1.0229625701904297\n"
     ]
    },
    {
     "name": "stderr",
     "output_type": "stream",
     "text": [
      "/root/projects/components/CSP.py:78: ComplexWarning: Casting complex values to real discards the imaginary part\n",
      "  return SFa.astype(np.float32)\n"
     ]
    },
    {
     "name": "stdout",
     "output_type": "stream",
     "text": [
      "-----WARNING: Model s30 failed to learn: sum(ans)=1200.0 sum(y)=810.0 len(y)=1200\n",
      "\tVALENCE-s30|Acc=0.675|10-CV=0.62|STD=0.14697|Time spend=1.015592098236084\n"
     ]
    },
    {
     "name": "stderr",
     "output_type": "stream",
     "text": [
      "/root/projects/components/CSP.py:78: ComplexWarning: Casting complex values to real discards the imaginary part\n",
      "  return SFa.astype(np.float32)\n"
     ]
    },
    {
     "name": "stdout",
     "output_type": "stream",
     "text": [
      "\tVALENCE-s31|Acc=0.97167|10-CV=0.95933|STD=0.01744|Time spend=0.732532262802124\n"
     ]
    },
    {
     "name": "stderr",
     "output_type": "stream",
     "text": [
      "/root/projects/components/CSP.py:78: ComplexWarning: Casting complex values to real discards the imaginary part\n",
      "  return SFa.astype(np.float32)\n"
     ]
    },
    {
     "name": "stdout",
     "output_type": "stream",
     "text": [
      "\tVALENCE-s32|Acc=0.81833|10-CV=0.781|STD=0.0592|Time spend=0.8865208625793457\n",
      "VALENCE|Acc=0.7144010416666666|10-CV=0.6401041666666665|STD=0.0882143717020136\n"
     ]
    }
   ],
   "source": [
    "accs_v, cv_means_v, cv_stds_v = [],[],[]\n",
    "for filename in tqdm(dataset.get_file_list()):\n",
    "\n",
    "    data, labels, groups = dataset.get_data(filename, stimuli=Dataset_subjectDependent.STIMULI_VALENCE, return_type='numpy')\n",
    "    labels = labels.squeeze()\n",
    "    start = time.time()\n",
    "    filters = CSP(data[labels==0], data[labels==1])\n",
    "    \n",
    "    csp_data = []\n",
    "    for index in range(len(data)):\n",
    "        \n",
    "        # (672, 32) @ (32, 32) = (672, 32)\n",
    "        csp = data[index].T @ filters[labels[index].astype(int)]\n",
    "        # (1, 32, 672)\n",
    "        csp = np.expand_dims(csp.T, axis=0)\n",
    "        csp_data.append(csp)\n",
    "\n",
    "    csp_data = np.vstack(csp_data)\n",
    "    # print(csp_data.shape) => (2400, 32, 128)\n",
    "    fe = FeatureExtractor(sfreq=128, selected_funcs=['pow_freq_bands'],params=params,n_jobs=8)\n",
    "    X = fe.fit_transform(X=csp_data)\n",
    "    # print(X.shape, time.time() - start) => (2400, 160) 1.2374355792999268\n",
    "\n",
    "    assert X.shape[1] == 160\n",
    "    _, acc, cross = train_model(X, labels.reshape(-1), groups, filename=filename)\n",
    "    print(f\"\\tVALENCE-{filename}|Acc={round(acc,5)}|10-CV={round(cross.mean(),5)}|STD={round(cross.std(),5)}|Time spend={time.time() - start}\")\n",
    "    accs_v.append(acc)\n",
    "    cv_means_v.append(cross.mean())\n",
    "    cv_stds_v.append(cross.std())\n",
    "print(f\"VALENCE|Acc={sum(accs_v)/len(accs_v)}|10-CV={sum(cv_means_v)/len(cv_means_v)}|STD={sum(cv_stds_v)/len(cv_stds_v)}\")"
   ]
  },
  {
   "cell_type": "code",
   "execution_count": 23,
   "metadata": {},
   "outputs": [
    {
     "name": "stdout",
     "output_type": "stream",
     "text": [
      "TOTAL|Acc=0.7439973958333332|10-CV=0.6810624999999999|STD=0.07974389786982566\n"
     ]
    }
   ],
   "source": [
    "accs.extend(accs_v)\n",
    "cv_means.extend(cv_means_v)\n",
    "cv_stds.extend(cv_stds_v)\n",
    "\n",
    "print(f\"TOTAL|Acc={sum(accs)/len(accs)}|10-CV={sum(cv_means)/len(cv_means)}|STD={sum(cv_stds)/len(cv_stds)}\")"
   ]
  }
 ],
 "metadata": {
  "interpreter": {
   "hash": "27768773b483d82a9b2b839e3fa80b1be5789db7fd78df4eedef2df266871616"
  },
  "kernelspec": {
   "display_name": "Python 3 (ipykernel)",
   "language": "python",
   "name": "python3"
  },
  "language_info": {
   "codemirror_mode": {
    "name": "ipython",
    "version": 3
   },
   "file_extension": ".py",
   "mimetype": "text/x-python",
   "name": "python",
   "nbconvert_exporter": "python",
   "pygments_lexer": "ipython3",
   "version": "3.8.10"
  }
 },
 "nbformat": 4,
 "nbformat_minor": 4
}
