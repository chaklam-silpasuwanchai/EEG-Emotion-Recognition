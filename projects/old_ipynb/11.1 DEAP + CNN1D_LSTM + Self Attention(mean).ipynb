{
 "cells": [
  {
   "cell_type": "markdown",
   "metadata": {},
   "source": [
    "# DEAP Dataset + CNN1D_LSTM + Self Attention\n",
    "\n",
    "In this part, we shall try add self-attention mechanisms after LSTM, which is inspired by the Transformers architecture.\n",
    "\n",
    "*Note that we will be only predicting the valence.  Feel free to work on the arousal yourself.*\n",
    "\n",
    "In this part, most of the code will be the same except 2 Defining Model."
   ]
  },
  {
   "cell_type": "code",
   "execution_count": 1,
   "metadata": {},
   "outputs": [],
   "source": [
    "import torch\n",
    "import torch.nn as nn\n",
    "import torch.nn.functional as F\n",
    "\n",
    "# setting seed so that splitting process and training process can be reproduce\n",
    "torch.manual_seed(1)\n",
    "\n",
    "import numpy as np\n",
    "\n",
    "#refactoring components\n",
    "#maybe you want to take a look at these components, because we will be using them in the future series\n",
    "from components.dataset import Dataset\n",
    "from components.helper import getLoaders, count_parameters, plot_performance\n",
    "from components.train import train, evaluate, initialize_weights"
   ]
  },
  {
   "cell_type": "markdown",
   "metadata": {},
   "source": [
    "Set cuda accordingly."
   ]
  },
  {
   "cell_type": "code",
   "execution_count": 2,
   "metadata": {},
   "outputs": [
    {
     "name": "stdout",
     "output_type": "stream",
     "text": [
      "Configured device:  cuda\n"
     ]
    }
   ],
   "source": [
    "device = torch.device('cuda' if torch.cuda.is_available() else 'cpu')\n",
    "print(\"Configured device: \", device)"
   ]
  },
  {
   "cell_type": "markdown",
   "metadata": {},
   "source": [
    "## 1. Loading dataset\n",
    "\n",
    "Let's first reuse the dataset loader we have created in Part 1."
   ]
  },
  {
   "cell_type": "code",
   "execution_count": 3,
   "metadata": {},
   "outputs": [],
   "source": [
    "path = \"data\"  #create a folder \"data\", and inside put s01.dat,....,s32.dat inside from the preprocessed folder from the DEAP dataset"
   ]
  },
  {
   "cell_type": "code",
   "execution_count": 4,
   "metadata": {
    "tags": []
   },
   "outputs": [
    {
     "name": "stdout",
     "output_type": "stream",
     "text": [
      "Train Data shape:  torch.Size([10752, 32, 672])\n",
      "Train Label shape:  torch.Size([10752, 1])\n"
     ]
    }
   ],
   "source": [
    "train_set = Dataset(path, \"Valence\", \"train\") \n",
    "val_set = Dataset(path, \"Valence\", \"val\")\n",
    "test_set = Dataset(path, \"Valence\", \"test\")\n",
    "\n",
    "data_train  = train_set[:]['data']\n",
    "label_train = train_set[:]['label']\n",
    "\n",
    "print(\"Train Data shape: \" , data_train.shape)  #10752 = 32 * 28 trials * 12 segments, 32 EEG channels, 672 samples\n",
    "print(\"Train Label shape: \", label_train.shape)  #two classes of valence"
   ]
  },
  {
   "cell_type": "markdown",
   "metadata": {
    "tags": []
   },
   "source": [
    "## 2. Defining the Model\n",
    "\n",
    "Self Attention is a very simple idea in which we wanna find the best weighted sum of all hidden states, instead of using the last hidden state to input into the linear layer.  However, the procedure in doing so it's a bit different, especially in step 1.  In order to find that weight, we \n",
    "1. we create three copies of (i.e., <code>out</code>) and called them Q (queries), K (key), V (value)\n",
    "2. attention weights matrix is done by having Q and K dotted together\n",
    "3. perform a softmax on this attention matrix so we can get value between 0 and 1\n",
    "4. lastly, we simply multiply this attention matrix with V"
   ]
  },
  {
   "cell_type": "code",
   "execution_count": 5,
   "metadata": {},
   "outputs": [],
   "source": [
    "class Conv1D_LSTM_SelfAttention(nn.Module):\n",
    "    '''\n",
    "    Expected Input Shape: (batch, channels, seq_len)  <==what conv1d wants\n",
    "    '''\n",
    "    def __init__(self, input_dim, hidden_dim, num_layers, output_dim, bidirectional, dropout, len_reduction='mean'):\n",
    "        super(Conv1D_LSTM_SelfAttention, self).__init__()\n",
    "        self.conv1d = nn.Conv1d(input_dim, input_dim, kernel_size=128, stride=1, padding=1)\n",
    "        self.norm = nn.BatchNorm1d(input_dim)\n",
    "        self.lstm = nn.LSTM(input_dim, \n",
    "                           hidden_dim, \n",
    "                           num_layers=num_layers, \n",
    "                           bidirectional=bidirectional, \n",
    "                           dropout=dropout,\n",
    "                           batch_first=True)\n",
    "        self.fc = nn.Linear(hidden_dim * num_layers, output_dim)\n",
    "        self.lin_Q = nn.Linear(hidden_dim * 2, hidden_dim * 2)\n",
    "        self.lin_K = nn.Linear(hidden_dim * 2, hidden_dim * 2)\n",
    "        self.lin_V = nn.Linear(hidden_dim * 2, hidden_dim * 2)\n",
    "        self.len_reduction = len_reduction\n",
    "    \n",
    "    # lstm_output : [batch_size, seq len, n_hidden * num_directions(=2)]\n",
    "    def self_attention_net(self, lstm_output):\n",
    "        q = self.lin_Q(torch.clone(lstm_output))\n",
    "        k = self.lin_K(torch.clone(lstm_output))\n",
    "        v = self.lin_V(torch.clone(lstm_output))\n",
    "        # q : [batch_size, seq_len, n_hidden * num_directions(=2)]\n",
    "        # k.transpose(1, 2): [batch_size, n_hidden * num_directions(=2), seq_len]\n",
    "        # attn_w = [batch_size, seq_len, seq_len]\n",
    "                \n",
    "        attn_w = torch.matmul(q, k.transpose(1, 2))\n",
    "        sfmx_attn_w = F.softmax(attn_w, 1)\n",
    "        \n",
    "        # context = [batch_size, seq_len, hidden_dim * num_directions(=2)]\n",
    "        context = torch.matmul(sfmx_attn_w, v)\n",
    "        \n",
    "        # by doing some mean/sum, the dimension on the seq len is gone\n",
    "        if self.len_reduction == \"mean\":\n",
    "            return torch.mean(context, dim=1), sfmx_attn_w.cpu().data.numpy()\n",
    "        elif self.len_reduction == \"sum\":\n",
    "            return torch.sum(context, dim=1), sfmx_attn_w.cpu().data.numpy()\n",
    "        elif self.len_reduction == \"last\":\n",
    "            return context[:, -1, :], sfmx_attn_w.cpu().data.numpy()   \n",
    "        \n",
    "    def forward(self, x):\n",
    "        # conv1d expects (batch, channels, seq_len)\n",
    "        # should not try too big a kernel size, which could lead to too much information loss\n",
    "        x = F.max_pool1d(F.relu(self.norm(self.conv1d(x))), kernel_size=3)\n",
    "\n",
    "        # change to (batch, seq_len, channels) because lstm expects\n",
    "        x = x.permute(0,2,1)\n",
    "        \n",
    "        #x = [batch size, seq len, channels]\n",
    "        out, (hn, cn) = self.lstm(x)\n",
    "        \n",
    "        #out = [batch size, seq len, hidden dim * num directions]        \n",
    "        #hn = [num layers * num directions, batch size, hidden dim]\n",
    "        #cn = [num layers * num directions, batch size, hidden dim]\n",
    "        \n",
    "        #concat the final forward (hidden[-2,:,:]) and backward (hidden[-1,:,:]) hidden layers\n",
    "        hn = torch.cat((hn[-2,:,:], hn[-1,:,:]), dim = 1)\n",
    "        #hn = [batch size, hidden dim * num directions]\n",
    "        \n",
    "        attn_output, attention = self.self_attention_net(out)\n",
    "\n",
    "        return self.fc(attn_output)"
   ]
  },
  {
   "cell_type": "markdown",
   "metadata": {},
   "source": [
    "**Model init**: Let's init the class instance and create a workabout model."
   ]
  },
  {
   "cell_type": "code",
   "execution_count": 6,
   "metadata": {},
   "outputs": [
    {
     "data": {
      "text/plain": [
       "Conv1D_LSTM_SelfAttention(\n",
       "  (conv1d): Conv1d(32, 32, kernel_size=(128,), stride=(1,), padding=(1,))\n",
       "  (norm): BatchNorm1d(32, eps=1e-05, momentum=0.1, affine=True, track_running_stats=True)\n",
       "  (lstm): LSTM(32, 256, num_layers=2, batch_first=True, dropout=0.5, bidirectional=True)\n",
       "  (fc): Linear(in_features=512, out_features=1, bias=True)\n",
       "  (lin_Q): Linear(in_features=512, out_features=512, bias=True)\n",
       "  (lin_K): Linear(in_features=512, out_features=512, bias=True)\n",
       "  (lin_V): Linear(in_features=512, out_features=512, bias=True)\n",
       ")"
      ]
     },
     "execution_count": 6,
     "metadata": {},
     "output_type": "execute_result"
    }
   ],
   "source": [
    "#note that these params are simply obtained from trial and error; I got no theory to back up why I use certain numbers here...\n",
    "input_dim     = 32 #we got 32 EEG channels\n",
    "hidden_dim    = 256 #let's define hidden dim as 256\n",
    "num_layers    = 2  #we gonna have two LSTM layers\n",
    "output_dim    = 1  #we got 2 classes for our labels\n",
    "bidirectional = True  #uses bidirectional LSTM\n",
    "dropout       = 0.5  #setting dropout to 0.5\n",
    "len_reduction = 'mean' #try sum or last\n",
    "\n",
    "#define the model\n",
    "model = Conv1D_LSTM_SelfAttention(input_dim, hidden_dim, num_layers, output_dim, bidirectional, dropout, len_reduction)\n",
    "\n",
    "#send to cuda so we can use the GPU\n",
    "model = model.to(device)  \n",
    "\n",
    "#apply weights\n",
    "model.apply(initialize_weights)"
   ]
  },
  {
   "cell_type": "markdown",
   "metadata": {},
   "source": [
    "**Param count**: Let's also check the number of parameters used"
   ]
  },
  {
   "cell_type": "code",
   "execution_count": 7,
   "metadata": {},
   "outputs": [
    {
     "name": "stdout",
     "output_type": "stream",
     "text": [
      "The model Conv1D_LSTM_SelfAttention has 3,090,529 trainable parameters\n"
     ]
    }
   ],
   "source": [
    "print(f'The model {type(model).__name__} has {count_parameters(model):,} trainable parameters')# Train the model"
   ]
  },
  {
   "cell_type": "markdown",
   "metadata": {},
   "source": [
    "**Unit test**: Let's define a simple unit test, inputing some mock EEG data and see whether we got the desired output as 4 classes."
   ]
  },
  {
   "cell_type": "code",
   "execution_count": 8,
   "metadata": {},
   "outputs": [
    {
     "name": "stdout",
     "output_type": "stream",
     "text": [
      "Prediction shape:  torch.Size([2, 1])\n",
      "Predictions:  tensor([[0.0145],\n",
      "        [0.0135]], device='cuda:0', grad_fn=<AddmmBackward0>)\n"
     ]
    }
   ],
   "source": [
    "mock_batch_size = 2    #in real training, we use 32\n",
    "mock_input_dim  = 32   #in real data, ours is 32 channels\n",
    "mock_seq_len    = 8064 #in real data, ours is 8064\n",
    "\n",
    "#note that our model first layer is conv1d which expects (batch, channel, seq len)\n",
    "mock_eegdata = torch.rand(mock_batch_size, mock_input_dim, mock_seq_len).to(device)\n",
    "\n",
    "#let's try run the model by simply inserting the mockdata into the model; very similar to .fit\n",
    "predictions = model(mock_eegdata)\n",
    "\n",
    "#let's try to see the predictions whether it really outputs 2 unique classes - 0 and 1\n",
    "print(\"Prediction shape: \", predictions.shape)\n",
    "print(\"Predictions: \", predictions)\n",
    "\n",
    "#simple unit test\n",
    "assert predictions.shape[0] == mock_batch_size\n",
    "assert predictions.shape[1] == output_dim"
   ]
  },
  {
   "cell_type": "markdown",
   "metadata": {},
   "source": [
    "## 3. Training"
   ]
  },
  {
   "cell_type": "markdown",
   "metadata": {
    "tags": []
   },
   "source": [
    "### I. Batch Iterators\n",
    "\n",
    "To make it easier to manage, I have put this into our <code>components/helper.py</code>."
   ]
  },
  {
   "cell_type": "code",
   "execution_count": 9,
   "metadata": {},
   "outputs": [
    {
     "name": "stdout",
     "output_type": "stream",
     "text": [
      "Dataset size:  10752\n",
      "Loader size:  672\n",
      "Dataset size:  3072\n",
      "Loader size:  192\n",
      "Dataset size:  1536\n",
      "Loader size:  96\n"
     ]
    }
   ],
   "source": [
    "train_loader = getLoaders(dataset=train_set, batch_size=16)\n",
    "val_loader = getLoaders(dataset=val_set, batch_size=16)\n",
    "test_loader = getLoaders(dataset=test_set, batch_size=16)"
   ]
  },
  {
   "cell_type": "markdown",
   "metadata": {},
   "source": [
    "### II. Optimizers\n",
    "\n",
    "Optimizer simply refers to the one that gonna take care of the backpropagation process.  The commonly used optimizer is SGD and Adam, both are quite interchangeable.  Here we gonna use Adam.  In order to backpropagate, we gonna define a loss function using cross entropy loss, which is a common loss function for multi-class purposes."
   ]
  },
  {
   "cell_type": "code",
   "execution_count": 10,
   "metadata": {},
   "outputs": [],
   "source": [
    "import torch.optim as optim\n",
    "\n",
    "num_epochs = 50\n",
    "\n",
    "lr = 0.0001\n",
    "\n",
    "#can also try SGD which should not make too much of a difference\n",
    "optimizer = optim.Adam(model.parameters(), lr=lr) \n",
    "\n",
    "#combine sigmoid with binary entropy; binary entropy is used for binary classification\n",
    "criterion = nn.BCEWithLogitsLoss() "
   ]
  },
  {
   "cell_type": "markdown",
   "metadata": {
    "tags": []
   },
   "source": [
    "### III. Let's train!"
   ]
  },
  {
   "cell_type": "code",
   "execution_count": 11,
   "metadata": {},
   "outputs": [
    {
     "name": "stdout",
     "output_type": "stream",
     "text": [
      "Epoch: 01 | Epoch Time: 0m 30s\n",
      "\t Train Loss: 0.679 | Train Acc: 57.06%\n",
      "\t Val. Loss: 0.656  |  Val. Acc: 60.68%\n",
      "Epoch: 02 | Epoch Time: 0m 30s\n",
      "\t Train Loss: 0.623 | Train Acc: 65.14%\n",
      "\t Val. Loss: 0.567  |  Val. Acc: 74.58%\n",
      "Epoch: 03 | Epoch Time: 0m 30s\n",
      "\t Train Loss: 0.487 | Train Acc: 75.93%\n",
      "\t Val. Loss: 0.469  |  Val. Acc: 78.39%\n",
      "Epoch: 04 | Epoch Time: 0m 29s\n",
      "\t Train Loss: 0.359 | Train Acc: 83.84%\n",
      "\t Val. Loss: 0.424  |  Val. Acc: 82.03%\n",
      "Epoch: 05 | Epoch Time: 0m 30s\n",
      "\t Train Loss: 0.276 | Train Acc: 88.10%\n",
      "\t Val. Loss: 0.385  |  Val. Acc: 85.19%\n",
      "Epoch: 06 | Epoch Time: 0m 30s\n",
      "\t Train Loss: 0.237 | Train Acc: 90.52%\n",
      "\t Val. Loss: 0.367  |  Val. Acc: 87.92%\n",
      "Epoch: 07 | Epoch Time: 0m 30s\n",
      "\t Train Loss: 0.169 | Train Acc: 93.34%\n",
      "\t Val. Loss: 0.440  |  Val. Acc: 87.99%\n",
      "Epoch: 08 | Epoch Time: 0m 30s\n",
      "\t Train Loss: 0.143 | Train Acc: 94.32%\n",
      "\t Val. Loss: 0.565  |  Val. Acc: 86.65%\n",
      "Epoch: 09 | Epoch Time: 0m 29s\n",
      "\t Train Loss: 0.138 | Train Acc: 95.00%\n",
      "\t Val. Loss: 0.361  |  Val. Acc: 86.82%\n",
      "Epoch: 10 | Epoch Time: 0m 30s\n",
      "\t Train Loss: 0.117 | Train Acc: 95.81%\n",
      "\t Val. Loss: 0.582  |  Val. Acc: 87.99%\n",
      "Epoch: 11 | Epoch Time: 0m 30s\n",
      "\t Train Loss: 0.091 | Train Acc: 96.67%\n",
      "\t Val. Loss: 0.429  |  Val. Acc: 87.83%\n",
      "Epoch: 12 | Epoch Time: 0m 30s\n",
      "\t Train Loss: 0.091 | Train Acc: 96.87%\n",
      "\t Val. Loss: 0.622  |  Val. Acc: 86.88%\n",
      "Epoch: 13 | Epoch Time: 0m 30s\n",
      "\t Train Loss: 0.091 | Train Acc: 96.63%\n",
      "\t Val. Loss: 0.510  |  Val. Acc: 88.70%\n",
      "Epoch: 14 | Epoch Time: 0m 30s\n",
      "\t Train Loss: 0.063 | Train Acc: 97.75%\n",
      "\t Val. Loss: 0.493  |  Val. Acc: 88.02%\n",
      "Epoch: 15 | Epoch Time: 0m 30s\n",
      "\t Train Loss: 0.060 | Train Acc: 97.93%\n",
      "\t Val. Loss: 0.555  |  Val. Acc: 88.05%\n",
      "Epoch: 16 | Epoch Time: 0m 30s\n",
      "\t Train Loss: 0.056 | Train Acc: 98.01%\n",
      "\t Val. Loss: 0.443  |  Val. Acc: 87.57%\n",
      "Epoch: 17 | Epoch Time: 0m 30s\n",
      "\t Train Loss: 0.058 | Train Acc: 98.04%\n",
      "\t Val. Loss: 0.707  |  Val. Acc: 87.17%\n",
      "Epoch: 18 | Epoch Time: 0m 29s\n",
      "\t Train Loss: 0.080 | Train Acc: 97.54%\n",
      "\t Val. Loss: 0.426  |  Val. Acc: 88.51%\n",
      "Epoch: 19 | Epoch Time: 0m 30s\n",
      "\t Train Loss: 0.058 | Train Acc: 97.98%\n",
      "\t Val. Loss: 0.578  |  Val. Acc: 87.47%\n",
      "Epoch: 20 | Epoch Time: 0m 30s\n",
      "\t Train Loss: 0.066 | Train Acc: 97.89%\n",
      "\t Val. Loss: 0.513  |  Val. Acc: 88.12%\n",
      "Epoch: 21 | Epoch Time: 0m 29s\n",
      "\t Train Loss: 0.048 | Train Acc: 98.52%\n",
      "\t Val. Loss: 0.684  |  Val. Acc: 86.59%\n",
      "Epoch: 22 | Epoch Time: 0m 30s\n",
      "\t Train Loss: 0.050 | Train Acc: 98.20%\n",
      "\t Val. Loss: 0.700  |  Val. Acc: 88.57%\n",
      "Epoch: 23 | Epoch Time: 0m 29s\n",
      "\t Train Loss: 0.057 | Train Acc: 98.03%\n",
      "\t Val. Loss: 0.427  |  Val. Acc: 88.87%\n",
      "Epoch: 24 | Epoch Time: 0m 29s\n",
      "\t Train Loss: 0.037 | Train Acc: 98.73%\n",
      "\t Val. Loss: 0.601  |  Val. Acc: 88.28%\n",
      "Epoch: 25 | Epoch Time: 0m 30s\n",
      "\t Train Loss: 0.059 | Train Acc: 98.03%\n",
      "\t Val. Loss: 0.770  |  Val. Acc: 87.66%\n",
      "Epoch: 26 | Epoch Time: 0m 30s\n",
      "\t Train Loss: 0.048 | Train Acc: 98.50%\n",
      "\t Val. Loss: 0.410  |  Val. Acc: 87.37%\n",
      "Epoch: 27 | Epoch Time: 0m 30s\n",
      "\t Train Loss: 0.033 | Train Acc: 98.95%\n",
      "\t Val. Loss: 0.617  |  Val. Acc: 87.50%\n",
      "Epoch: 28 | Epoch Time: 0m 29s\n",
      "\t Train Loss: 0.043 | Train Acc: 98.53%\n",
      "\t Val. Loss: 0.575  |  Val. Acc: 88.67%\n",
      "Epoch: 29 | Epoch Time: 0m 30s\n",
      "\t Train Loss: 0.049 | Train Acc: 98.35%\n",
      "\t Val. Loss: 0.648  |  Val. Acc: 88.15%\n",
      "Epoch: 30 | Epoch Time: 0m 30s\n",
      "\t Train Loss: 0.034 | Train Acc: 98.98%\n",
      "\t Val. Loss: 0.512  |  Val. Acc: 88.48%\n",
      "Epoch: 31 | Epoch Time: 0m 30s\n",
      "\t Train Loss: 0.035 | Train Acc: 98.72%\n",
      "\t Val. Loss: 0.562  |  Val. Acc: 85.64%\n",
      "Epoch: 32 | Epoch Time: 0m 30s\n",
      "\t Train Loss: 0.034 | Train Acc: 98.79%\n",
      "\t Val. Loss: 0.634  |  Val. Acc: 86.98%\n",
      "Epoch: 33 | Epoch Time: 0m 29s\n",
      "\t Train Loss: 0.034 | Train Acc: 98.95%\n",
      "\t Val. Loss: 0.787  |  Val. Acc: 88.61%\n",
      "Epoch: 34 | Epoch Time: 0m 30s\n",
      "\t Train Loss: 0.037 | Train Acc: 98.79%\n",
      "\t Val. Loss: 0.598  |  Val. Acc: 88.38%\n",
      "Epoch: 35 | Epoch Time: 0m 30s\n",
      "\t Train Loss: 0.022 | Train Acc: 99.40%\n",
      "\t Val. Loss: 0.723  |  Val. Acc: 87.70%\n",
      "Epoch: 36 | Epoch Time: 0m 30s\n",
      "\t Train Loss: 0.039 | Train Acc: 98.73%\n",
      "\t Val. Loss: 0.695  |  Val. Acc: 87.60%\n",
      "Epoch: 37 | Epoch Time: 0m 30s\n",
      "\t Train Loss: 0.032 | Train Acc: 99.00%\n",
      "\t Val. Loss: 0.637  |  Val. Acc: 88.12%\n",
      "Epoch: 38 | Epoch Time: 0m 30s\n",
      "\t Train Loss: 0.044 | Train Acc: 98.58%\n",
      "\t Val. Loss: 0.810  |  Val. Acc: 88.22%\n",
      "Epoch: 39 | Epoch Time: 0m 29s\n",
      "\t Train Loss: 0.030 | Train Acc: 98.81%\n",
      "\t Val. Loss: 0.613  |  Val. Acc: 88.54%\n",
      "Epoch: 40 | Epoch Time: 0m 30s\n",
      "\t Train Loss: 0.029 | Train Acc: 99.01%\n",
      "\t Val. Loss: 0.858  |  Val. Acc: 87.37%\n",
      "Epoch: 41 | Epoch Time: 0m 30s\n",
      "\t Train Loss: 0.033 | Train Acc: 98.99%\n",
      "\t Val. Loss: 0.584  |  Val. Acc: 87.99%\n",
      "Epoch: 42 | Epoch Time: 0m 30s\n",
      "\t Train Loss: 0.032 | Train Acc: 99.06%\n",
      "\t Val. Loss: 0.755  |  Val. Acc: 88.35%\n",
      "Epoch: 43 | Epoch Time: 0m 30s\n",
      "\t Train Loss: 0.025 | Train Acc: 99.21%\n",
      "\t Val. Loss: 0.473  |  Val. Acc: 87.83%\n",
      "Epoch: 44 | Epoch Time: 0m 30s\n",
      "\t Train Loss: 0.038 | Train Acc: 98.84%\n",
      "\t Val. Loss: 0.669  |  Val. Acc: 88.31%\n",
      "Epoch: 45 | Epoch Time: 0m 30s\n",
      "\t Train Loss: 0.044 | Train Acc: 98.62%\n",
      "\t Val. Loss: 0.542  |  Val. Acc: 87.83%\n",
      "Epoch: 46 | Epoch Time: 0m 29s\n",
      "\t Train Loss: 0.011 | Train Acc: 99.64%\n",
      "\t Val. Loss: 0.806  |  Val. Acc: 86.95%\n",
      "Epoch: 47 | Epoch Time: 0m 29s\n",
      "\t Train Loss: 0.044 | Train Acc: 98.63%\n",
      "\t Val. Loss: 0.689  |  Val. Acc: 88.05%\n",
      "Epoch: 48 | Epoch Time: 0m 30s\n",
      "\t Train Loss: 0.014 | Train Acc: 99.54%\n",
      "\t Val. Loss: 0.828  |  Val. Acc: 87.66%\n",
      "Epoch: 49 | Epoch Time: 0m 30s\n",
      "\t Train Loss: 0.026 | Train Acc: 99.14%\n",
      "\t Val. Loss: 0.604  |  Val. Acc: 88.31%\n",
      "Epoch: 50 | Epoch Time: 0m 30s\n",
      "\t Train Loss: 0.027 | Train Acc: 99.15%\n",
      "\t Val. Loss: 0.633  |  Val. Acc: 88.61%\n"
     ]
    }
   ],
   "source": [
    "model_saved_name = \"models/DEAP_CNN_BiLSTM_SelfAttention_mean.pt\"\n",
    "\n",
    "#trainer(num_epochs, model, train_loader, val_loader, optimizer, criterion, model_name, device, seq_len_first=False)\n",
    "train_losses, valid_losses, train_accs, valid_accs = train(num_epochs, model, train_loader, val_loader, optimizer, criterion, model_saved_name, device)"
   ]
  },
  {
   "cell_type": "code",
   "execution_count": 12,
   "metadata": {},
   "outputs": [
    {
     "data": {
      "image/png": "[encoded data removed]",
      "text/plain": [
       "<Figure size 720x432 with 1 Axes>"
      ]
     },
     "metadata": {
      "needs_background": "light"
     },
     "output_type": "display_data"
    },
    {
     "data": {
      "image/png": "[encoded data removed]",
      "text/plain": [
       "<Figure size 720x432 with 1 Axes>"
      ]
     },
     "metadata": {
      "needs_background": "light"
     },
     "output_type": "display_data"
    }
   ],
   "source": [
    "plot_performance(train_losses, valid_losses, \"loss\")\n",
    "plot_performance(train_accs, valid_accs, \"acc\")"
   ]
  },
  {
   "cell_type": "markdown",
   "metadata": {},
   "source": [
    "## 4. Evaluation on test set"
   ]
  },
  {
   "cell_type": "code",
   "execution_count": 13,
   "metadata": {},
   "outputs": [
    {
     "name": "stdout",
     "output_type": "stream",
     "text": [
      "Test Loss: 0.433 | Test Acc: 84.51%\n"
     ]
    }
   ],
   "source": [
    "model.load_state_dict(torch.load(model_saved_name))\n",
    "test_loss, test_acc = evaluate(model, test_loader, criterion, device)\n",
    "\n",
    "print(f'Test Loss: {test_loss:.3f} | Test Acc: {test_acc*100:.2f}%')"
   ]
  },
  {
   "cell_type": "markdown",
   "metadata": {},
   "source": [
    "## Final Verdict\n",
    "\n"
   ]
  },
  {
   "cell_type": "markdown",
   "metadata": {},
   "source": [
    "Hmm....quite dissapointing.  Slightly less than other variants. Let's also check whether the way we use the hidden states (<code>len_reduction</code>) matters in next two tutorials."
   ]
  }
 ],
 "metadata": {
  "kernelspec": {
   "display_name": "thesis",
   "language": "python",
   "name": "thesis"
  },
  "language_info": {
   "codemirror_mode": {
    "name": "ipython",
    "version": 3
   },
   "file_extension": ".py",
   "mimetype": "text/x-python",
   "name": "python",
   "nbconvert_exporter": "python",
   "pygments_lexer": "ipython3",
   "version": "3.8.10"
  }
 },
 "nbformat": 4,
 "nbformat_minor": 5
}
