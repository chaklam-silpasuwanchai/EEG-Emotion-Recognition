{
 "cells": [
  {
   "cell_type": "markdown",
   "metadata": {},
   "source": [
    "## 1. The new dataset class for Subject Dependent\n",
    "\n",
    "The `data` is loaded during the `.get_data*()` call. It will select the label according to the ENUM `Dataset_subjectDependent.STIMULI_AROUSAL` and `Dataset_subjectDependent.STIMULI_VALENCE`.\n",
    "\n",
    "The `label` is convert to `{0,1}` base on the mean of that selected data.\n",
    "\n",
    "The `data` and `label` are then split with `test_size = 0.3` and `shuffle` in the split function followed by segmentation (according to the .set_segment() number. Default:1)"
   ]
  },
  {
   "cell_type": "code",
   "execution_count": 24,
   "metadata": {},
   "outputs": [
    {
     "name": "stdout",
     "output_type": "stream",
     "text": [
      "Found: 32 files\n"
     ]
    }
   ],
   "source": [
    "from components.dataset_jo import *\n",
    "import time\n",
    "from tqdm.notebook import tqdm\n",
    "\n",
    "def train_model(X_ori,y_ori, kernel='rbf'):\n",
    "    # Make a copy because I am paranoid\n",
    "    X,y = X_ori.copy(), y_ori.copy()\n",
    "\n",
    "    from sklearn.svm import SVC\n",
    "    from sklearn.utils import shuffle\n",
    "    from sklearn.model_selection import cross_val_score\n",
    "\n",
    "    X_shuff,y_shuff = shuffle(X,y)\n",
    "    model = SVC(kernel=kernel,max_iter=50000)\n",
    "    cross = cross_val_score(model, X_shuff, y_shuff, cv=10)\n",
    "\n",
    "    model = SVC(kernel=kernel, max_iter=50000)\n",
    "    model.fit(X_shuff, y_shuff)\n",
    "    ans = model.predict(X_shuff)\n",
    "    acc = sum(ans == y_shuff) / len(y_shuff)\n",
    "    return model, acc, cross\n",
    "\n",
    "dataset = Dataset_subjectDependent('data')\n",
    "dataset.set_segment(60)"
   ]
  },
  {
   "cell_type": "code",
   "execution_count": null,
   "metadata": {},
   "outputs": [],
   "source": [
    "# You can get the data in to way\n",
    "# First way, the numpy array\n",
    "data_train, data_test, labels_train, labels_test = dataset.get_data_numpy('s01', Dataset_subjectDependent.STIMULI_AROUSAL)\n",
    "print(data_train.shape, data_test.shape, labels_train.shape, labels_test.shape)\n",
    "\n",
    "# Second way, as pytorch.util.Dataset\n",
    "train_dataset, test_dataset = dataset.get_data_torch_dataset('s01', Dataset_subjectDependent.STIMULI_VALENCE)\n",
    "print(len(train_dataset), len(test_dataset) )\n",
    "# This train_dataset, and test_dataset is DataLoader ready\n",
    "# train_loader = torch.utils.data.DataLoader(train_dataset, batch=8)"
   ]
  },
  {
   "cell_type": "markdown",
   "metadata": {},
   "source": [
    "## 2. Spectral Features"
   ]
  },
  {
   "cell_type": "code",
   "execution_count": 3,
   "metadata": {},
   "outputs": [],
   "source": [
    "from mne_features.feature_extraction import FeatureExtractor"
   ]
  },
  {
   "cell_type": "code",
   "execution_count": 13,
   "metadata": {},
   "outputs": [
    {
     "name": "stdout",
     "output_type": "stream",
     "text": [
      "\tAROUSAL-s01|Acc=0.76917|10-CV=0.6875|STD=0.02582|Time spend=4.8965325355529785\n",
      "\tAROUSAL-s02|Acc=0.67292|10-CV=0.63875|STD=0.02387|Time spend=5.065949201583862\n",
      "\tAROUSAL-s03|Acc=0.69875|10-CV=0.6325|STD=0.02435|Time spend=5.33520245552063\n",
      "\tAROUSAL-s04|Acc=0.6775|10-CV=0.62875|STD=0.0408|Time spend=4.705340147018433\n",
      "\tAROUSAL-s05|Acc=0.62875|10-CV=0.60375|STD=0.00976|Time spend=5.062718152999878\n",
      "\tAROUSAL-s06|Acc=0.63292|10-CV=0.59958|STD=0.02524|Time spend=4.962883472442627\n",
      "\tAROUSAL-s07|Acc=0.74167|10-CV=0.65833|STD=0.04187|Time spend=5.100658178329468\n",
      "\tAROUSAL-s08|Acc=0.71083|10-CV=0.63292|STD=0.02972|Time spend=4.9638588428497314\n",
      "\tAROUSAL-s09|Acc=0.71458|10-CV=0.65708|STD=0.01729|Time spend=5.046931505203247\n",
      "\tAROUSAL-s10|Acc=0.75208|10-CV=0.70542|STD=0.02958|Time spend=4.747288465499878\n",
      "\tAROUSAL-s11|Acc=0.64083|10-CV=0.61417|STD=0.0293|Time spend=4.990945339202881\n",
      "\tAROUSAL-s12|Acc=0.66708|10-CV=0.65167|STD=0.02623|Time spend=4.959524869918823\n",
      "\tAROUSAL-s13|Acc=0.64958|10-CV=0.61833|STD=0.01225|Time spend=5.066551685333252\n",
      "\tAROUSAL-s14|Acc=0.67542|10-CV=0.675|STD=0.0|Time spend=4.626598834991455\n",
      "\tAROUSAL-s15|Acc=0.765|10-CV=0.68458|STD=0.03195|Time spend=4.724443674087524\n",
      "\tAROUSAL-s16|Acc=0.77458|10-CV=0.7225|STD=0.02529|Time spend=4.599236249923706\n",
      "\tAROUSAL-s17|Acc=0.71333|10-CV=0.69667|STD=0.01766|Time spend=4.4825592041015625\n",
      "\tAROUSAL-s18|Acc=0.70042|10-CV=0.64292|STD=0.02808|Time spend=5.042032718658447\n",
      "\tAROUSAL-s19|Acc=0.66667|10-CV=0.65708|STD=0.00769|Time spend=4.789993524551392\n",
      "\tAROUSAL-s20|Acc=0.66292|10-CV=0.58958|STD=0.04607|Time spend=5.422368049621582\n",
      "\tAROUSAL-s21|Acc=0.75|10-CV=0.74958|STD=0.00125|Time spend=5.052671909332275\n",
      "\tAROUSAL-s22|Acc=0.5725|10-CV=0.56542|STD=0.02387|Time spend=5.396558523178101\n",
      "\tAROUSAL-s23|Acc=0.76042|10-CV=0.69125|STD=0.0212|Time spend=4.892556667327881\n",
      "\tAROUSAL-s24|Acc=0.675|10-CV=0.675|STD=0.0|Time spend=5.014523267745972\n",
      "\tAROUSAL-s25|Acc=0.65|10-CV=0.65|STD=0.0|Time spend=5.223593235015869\n",
      "\tAROUSAL-s26|Acc=0.63917|10-CV=0.57958|STD=0.02883|Time spend=5.388954401016235\n",
      "\tAROUSAL-s27|Acc=0.745|10-CV=0.70083|STD=0.01328|Time spend=4.734618186950684\n",
      "\tAROUSAL-s28|Acc=0.62208|10-CV=0.57167|STD=0.02378|Time spend=5.639927864074707\n",
      "\tAROUSAL-s29|Acc=0.71458|10-CV=0.65708|STD=0.01758|Time spend=5.004124641418457\n",
      "\tAROUSAL-s30|Acc=0.625|10-CV=0.625|STD=0.0|Time spend=5.898405313491821\n",
      "\tAROUSAL-s31|Acc=0.71125|10-CV=0.65542|STD=0.03456|Time spend=5.292586088180542\n",
      "\tAROUSAL-s32|Acc=0.6875|10-CV=0.64625|STD=0.01597|Time spend=5.009809732437134\n",
      "AROUSAL|Acc=0.6896093750000001|10-CV=0.6488802083333332|STD=0.02103612452114\n",
      "\tVALENCE-s01|Acc=0.73|10-CV=0.62625|STD=0.01432|Time spend=5.081598520278931\n",
      "\tVALENCE-s02|Acc=0.70542|10-CV=0.66542|STD=0.02905|Time spend=5.115018367767334\n",
      "\tVALENCE-s03|Acc=0.76708|10-CV=0.71292|STD=0.01375|Time spend=4.70478630065918\n",
      "\tVALENCE-s04|Acc=0.67958|10-CV=0.64792|STD=0.02026|Time spend=4.873819351196289\n",
      "\tVALENCE-s05|Acc=0.65042|10-CV=0.59042|STD=0.02733|Time spend=5.242847681045532\n",
      "\tVALENCE-s06|Acc=0.66375|10-CV=0.62708|STD=0.01627|Time spend=5.072486162185669\n",
      "\tVALENCE-s07|Acc=0.76083|10-CV=0.70083|STD=0.01953|Time spend=4.4238057136535645\n",
      "\tVALENCE-s08|Acc=0.745|10-CV=0.70125|STD=0.01223|Time spend=4.672809362411499\n",
      "\tVALENCE-s09|Acc=0.71667|10-CV=0.69167|STD=0.03146|Time spend=4.983173131942749\n",
      "\tVALENCE-s10|Acc=0.81167|10-CV=0.78333|STD=0.01873|Time spend=4.521303653717041\n",
      "\tVALENCE-s11|Acc=0.65333|10-CV=0.62375|STD=0.02528|Time spend=5.384230136871338\n",
      "\tVALENCE-s12|Acc=0.70292|10-CV=0.63792|STD=0.03019|Time spend=4.877678871154785\n",
      "\tVALENCE-s13|Acc=0.73542|10-CV=0.70542|STD=0.0226|Time spend=4.540250301361084\n",
      "\tVALENCE-s14|Acc=0.73708|10-CV=0.69875|STD=0.04599|Time spend=4.482757091522217\n",
      "\tVALENCE-s15|Acc=0.8425|10-CV=0.8075|STD=0.01889|Time spend=3.680043935775757\n",
      "\tVALENCE-s16|Acc=0.71375|10-CV=0.65542|STD=0.02335|Time spend=5.242300748825073\n",
      "\tVALENCE-s17|Acc=0.61792|10-CV=0.57458|STD=0.02382|Time spend=5.546350717544556\n",
      "\tVALENCE-s18|Acc=0.79458|10-CV=0.75792|STD=0.02045|Time spend=4.063509702682495\n",
      "\tVALENCE-s19|Acc=0.72542|10-CV=0.68167|STD=0.02424|Time spend=5.0328528881073\n",
      "\tVALENCE-s20|Acc=0.75417|10-CV=0.72583|STD=0.02115|Time spend=4.3947999477386475\n",
      "\tVALENCE-s21|Acc=0.66|10-CV=0.59667|STD=0.01935|Time spend=5.126335859298706\n",
      "\tVALENCE-s22|Acc=0.68208|10-CV=0.65708|STD=0.02869|Time spend=5.144514799118042\n",
      "\tVALENCE-s23|Acc=0.78833|10-CV=0.70917|STD=0.038|Time spend=4.6509928703308105\n",
      "\tVALENCE-s24|Acc=0.66917|10-CV=0.62417|STD=0.03078|Time spend=5.122099161148071\n",
      "\tVALENCE-s25|Acc=0.61208|10-CV=0.6|STD=0.00559|Time spend=5.270651340484619\n",
      "\tVALENCE-s26|Acc=0.6|10-CV=0.6|STD=0.0|Time spend=5.625221490859985\n",
      "\tVALENCE-s27|Acc=0.75792|10-CV=0.67917|STD=0.02648|Time spend=5.089393854141235\n",
      "\tVALENCE-s28|Acc=0.65917|10-CV=0.62042|STD=0.03691|Time spend=4.970698356628418\n",
      "\tVALENCE-s29|Acc=0.725|10-CV=0.64667|STD=0.02904|Time spend=5.1635870933532715\n",
      "\tVALENCE-s30|Acc=0.69542|10-CV=0.6725|STD=0.0132|Time spend=4.8503382205963135\n",
      "\tVALENCE-s31|Acc=0.71542|10-CV=0.65|STD=0.02116|Time spend=5.239397287368774\n",
      "\tVALENCE-s32|Acc=0.67083|10-CV=0.61917|STD=0.02344|Time spend=5.102285623550415\n",
      "VALENCE|Acc=0.7107161458333333|10-CV=0.6653385416666668|STD=0.02285962870447757\n",
      "TOTAL|Acc=0.7001627604166667|10-CV=0.657109375|STD=0.021947876612808788\n"
     ]
    }
   ],
   "source": [
    "bands = [(0,4), (4,8), (8,12), (12,30), (30,64)]\n",
    "# [alias_feature_function]__[optional_param]\n",
    "params = dict({\n",
    "    'pow_freq_bands__log':True,\n",
    "    'pow_freq_bands__normalize':False,\n",
    "    'pow_freq_bands__freq_bands':bands\n",
    "})\n",
    "fe = FeatureExtractor(sfreq=128, selected_funcs=['pow_freq_bands'],params=params,n_jobs=8)\n",
    "\n",
    "accs,cv_means,cv_stds  = [],[],[]\n",
    "# count = 0\n",
    "for filename in dataset.get_file_list():\n",
    "    start = time.time()\n",
    "    data, labels = dataset.get_data_numpy(filename, stimuli=Dataset_subjectDependent.STIMULI_AROUSAL, split=False)\n",
    "    X = fe.fit_transform(X=data)\n",
    "    _, acc, cross = train_model(X, labels.reshape(-1))\n",
    "    print(f\"\\tAROUSAL-{filename}|Acc={round(acc,5)}|10-CV={round(cross.mean(),5)}|STD={round(cross.std(),5)}|Time spend={time.time() - start}\")\n",
    "    accs.append(acc)\n",
    "    cv_means.append(cross.mean())\n",
    "    cv_stds.append(cross.std())\n",
    "    # count+=1\n",
    "    # if(count == 5): break\n",
    "print(f\"AROUSAL|Acc={sum(accs)/len(accs)}|10-CV={sum(cv_means)/len(cv_means)}|STD={sum(cv_stds)/len(cv_stds)}\")\n",
    "\n",
    "accs_v,cv_means_v,cv_stds_v  = [],[],[]\n",
    "# count=0\n",
    "for filename in dataset.get_file_list():\n",
    "    start = time.time()\n",
    "    data, labels = dataset.get_data_numpy(filename, stimuli=Dataset_subjectDependent.STIMULI_VALENCE, split=False)\n",
    "    X = fe.fit_transform(X=data)\n",
    "    _, acc, cross = train_model(X, labels.reshape(-1))\n",
    "    print(f\"\\tVALENCE-{filename}|Acc={round(acc,5)}|10-CV={round(cross.mean(),5)}|STD={round(cross.std(),5)}|Time spend={time.time() - start}\")\n",
    "    accs_v.append(acc)\n",
    "    cv_means_v.append(cross.mean())\n",
    "    cv_stds_v.append(cross.std())\n",
    "    # count+=1\n",
    "    # if(count == 5): break\n",
    "print(f\"VALENCE|Acc={sum(accs_v)/len(accs_v)}|10-CV={sum(cv_means_v)/len(cv_means_v)}|STD={sum(cv_stds_v)/len(cv_stds_v)}\")\n",
    "\n",
    "accs.extend(accs_v)\n",
    "cv_means.extend(cv_means_v)\n",
    "cv_stds.extend(cv_stds_v)\n",
    "print(f\"TOTAL|Acc={sum(accs)/len(accs)}|10-CV={sum(cv_means)/len(cv_means)}|STD={sum(cv_stds)/len(cv_stds)}\")"
   ]
  },
  {
   "cell_type": "markdown",
   "metadata": {},
   "source": [
    "## 3. Asymetry"
   ]
  },
  {
   "cell_type": "code",
   "execution_count": 14,
   "metadata": {},
   "outputs": [
    {
     "name": "stdout",
     "output_type": "stream",
     "text": [
      "left_channel_indexes=[0, 3, 2, 7, 11, 6, 10, 13, 1, 4, 5, 8, 9, 12]\n",
      "right_channel_indexes=[16, 20, 19, 25, 29, 24, 28, 31, 17, 21, 22, 26, 27, 30]\n",
      "frontal_channel_indexes=[4, 5, 22, 21, 3, 2, 18, 19, 20, 0, 16]\n",
      "posterior_channel_indexes=[8, 9, 27, 26, 11, 10, 15, 28, 29, 13, 31]\n"
     ]
    }
   ],
   "source": [
    "channels = ['Fp1','AF3','F3','F7','FC5','FC1','C3','T7','CP5','CP1','P3','P7','PO3','O1','Oz','Pz','Fp2','AF4','Fz','F4','F8','FC6','FC2','Cz','C4','T8','CP6','CP2','P4','P8','PO4','O2']\n",
    "left_channels = ['Fp1','F7','F3','T7','P7','C3','P3','O1','AF3','FC5','FC1','CP5','CP1','PO3']\n",
    "right_channels = ['Fp2','F8','F4','T8','P8','C4','P4','O2','AF4','FC6','FC2','CP6','CP2','PO4']\n",
    "left_channel_indexes = [ channels.index(ch) for ch in left_channels ]\n",
    "right_channel_indexes = [ channels.index(ch) for ch in right_channels ]\n",
    "\n",
    "print(f\"{left_channel_indexes=}\")\n",
    "print(f\"{right_channel_indexes=}\")\n",
    "\n",
    "frontal_channels = ['FC5','FC1','FC2','FC6','F7','F3','Fz','F4','F8','Fp1','Fp2']\n",
    "posterior_channels = ['CP5','CP1','CP2','CP6','P7','P3','Pz','P4','P8','O1','O2']\n",
    "\n",
    "frontal_channel_indexes = [ channels.index(ch) for ch in frontal_channels ]\n",
    "posterior_channel_indexes = [ channels.index(ch) for ch in posterior_channels ]\n",
    "\n",
    "print(f\"{frontal_channel_indexes=}\")\n",
    "print(f\"{posterior_channel_indexes=}\")\n",
    "\n"
   ]
  },
  {
   "cell_type": "code",
   "execution_count": 27,
   "metadata": {},
   "outputs": [
    {
     "name": "stdout",
     "output_type": "stream",
     "text": [
      "\tAROUSAL-s01-DASM|Acc=0.61|10-CV=0.60125|STD=0.00591|Time spend=3.4438962936401367\n",
      "\tAROUSAL-s01-RASM|Acc=0.60833|10-CV=0.60167|STD=0.00276|Time spend=6.116313219070435\n",
      "\tAROUSAL-s01-DCAU|Acc=0.63167|10-CV=0.61458|STD=0.01551|Time spend=8.154110670089722\n",
      "\tAROUSAL-s02-DASM|Acc=0.61|10-CV=0.57333|STD=0.02329|Time spend=3.3877434730529785\n",
      "\tAROUSAL-s02-RASM|Acc=0.53583|10-CV=0.52625|STD=0.00834|Time spend=5.936612844467163\n",
      "\tAROUSAL-s02-DCAU|Acc=0.62208|10-CV=0.58708|STD=0.03844|Time spend=7.928848505020142\n",
      "\tAROUSAL-s03-DASM|Acc=0.59167|10-CV=0.5475|STD=0.02473|Time spend=3.299607992172241\n",
      "\tAROUSAL-s03-RASM|Acc=0.5375|10-CV=0.52917|STD=0.00968|Time spend=5.6853928565979\n",
      "\tAROUSAL-s03-DCAU|Acc=0.57875|10-CV=0.535|STD=0.02858|Time spend=7.843799829483032\n",
      "\tAROUSAL-s04-DASM|Acc=0.6325|10-CV=0.60917|STD=0.02794|Time spend=2.923250198364258\n",
      "\tAROUSAL-s04-RASM|Acc=0.55375|10-CV=0.5475|STD=0.00333|Time spend=5.007073640823364\n",
      "\tAROUSAL-s04-DCAU|Acc=0.61333|10-CV=0.59083|STD=0.02998|Time spend=6.836649179458618\n",
      "\tAROUSAL-s05-DASM|Acc=0.61|10-CV=0.605|STD=0.00829|Time spend=3.2101364135742188\n",
      "\tAROUSAL-s05-RASM|Acc=0.6025|10-CV=0.59917|STD=0.00167|Time spend=5.283232688903809\n",
      "\tAROUSAL-s05-DCAU|Acc=0.6075|10-CV=0.60167|STD=0.01007|Time spend=7.204951047897339\n",
      "\tAROUSAL-s06-DASM|Acc=0.60708|10-CV=0.59167|STD=0.02615|Time spend=3.243338108062744\n",
      "\tAROUSAL-s06-RASM|Acc=0.58083|10-CV=0.57458|STD=0.00393|Time spend=5.3419413566589355\n",
      "\tAROUSAL-s06-DCAU|Acc=0.59625|10-CV=0.58708|STD=0.022|Time spend=7.234075307846069\n",
      "\tAROUSAL-s07-DASM|Acc=0.61292|10-CV=0.5725|STD=0.02965|Time spend=3.2841930389404297\n",
      "\tAROUSAL-s07-RASM|Acc=0.55667|10-CV=0.55417|STD=0.00456|Time spend=5.690989017486572\n",
      "\tAROUSAL-s07-DCAU|Acc=0.60208|10-CV=0.57167|STD=0.02861|Time spend=7.941781282424927\n",
      "\tAROUSAL-s08-DASM|Acc=0.64917|10-CV=0.60792|STD=0.02411|Time spend=3.0818073749542236\n",
      "\tAROUSAL-s08-RASM|Acc=0.55458|10-CV=0.54917|STD=0.00312|Time spend=5.262912273406982\n",
      "\tAROUSAL-s08-DCAU|Acc=0.6475|10-CV=0.59917|STD=0.02712|Time spend=7.1852216720581055\n",
      "\tAROUSAL-s09-DASM|Acc=0.65917|10-CV=0.63542|STD=0.03427|Time spend=3.1089580059051514\n",
      "\tAROUSAL-s09-RASM|Acc=0.62083|10-CV=0.60333|STD=0.03274|Time spend=5.404515743255615\n",
      "\tAROUSAL-s09-DCAU|Acc=0.63667|10-CV=0.61833|STD=0.03006|Time spend=7.395861625671387\n",
      "\tAROUSAL-s10-DASM|Acc=0.65417|10-CV=0.62917|STD=0.01291|Time spend=3.3230910301208496\n",
      "\tAROUSAL-s10-RASM|Acc=0.57875|10-CV=0.57417|STD=0.00363|Time spend=5.7284996509552\n",
      "\tAROUSAL-s10-DCAU|Acc=0.66583|10-CV=0.63583|STD=0.0248|Time spend=7.59589958190918\n",
      "\tAROUSAL-s11-DASM|Acc=0.62|10-CV=0.59958|STD=0.02087|Time spend=3.0791802406311035\n",
      "\tAROUSAL-s11-RASM|Acc=0.55417|10-CV=0.55|STD=0.00323|Time spend=5.300931930541992\n",
      "\tAROUSAL-s11-DCAU|Acc=0.6|10-CV=0.58|STD=0.02627|Time spend=7.238477468490601\n",
      "\tAROUSAL-s12-DASM|Acc=0.6425|10-CV=0.62958|STD=0.01985|Time spend=3.244641065597534\n",
      "\tAROUSAL-s12-RASM|Acc=0.60083|10-CV=0.59958|STD=0.00125|Time spend=5.6373350620269775\n",
      "\tAROUSAL-s12-DCAU|Acc=0.62917|10-CV=0.62375|STD=0.01537|Time spend=7.662871360778809\n",
      "\tAROUSAL-s13-DASM|Acc=0.605|10-CV=0.59875|STD=0.00458|Time spend=3.6238863468170166\n",
      "\tAROUSAL-s13-RASM|Acc=0.605|10-CV=0.59917|STD=0.00408|Time spend=6.175502777099609\n",
      "\tAROUSAL-s13-DCAU|Acc=0.60667|10-CV=0.5975|STD=0.00624|Time spend=8.360690116882324\n",
      "\tAROUSAL-s14-DASM|Acc=0.675|10-CV=0.675|STD=0.0|Time spend=3.6591145992279053\n",
      "\tAROUSAL-s14-RASM|Acc=0.67542|10-CV=0.675|STD=0.0|Time spend=5.5869715213775635\n",
      "\tAROUSAL-s14-DCAU|Acc=0.675|10-CV=0.675|STD=0.0|Time spend=8.250568389892578\n",
      "\tAROUSAL-s15-DASM|Acc=0.675|10-CV=0.63583|STD=0.01689|Time spend=3.135282516479492\n",
      "\tAROUSAL-s15-RASM|Acc=0.55375|10-CV=0.54958|STD=0.00224|Time spend=5.610371112823486\n",
      "\tAROUSAL-s15-DCAU|Acc=0.67167|10-CV=0.6275|STD=0.03239|Time spend=7.5173773765563965\n",
      "\tAROUSAL-s16-DASM|Acc=0.63583|10-CV=0.5975|STD=0.02924|Time spend=3.337862730026245\n",
      "\tAROUSAL-s16-RASM|Acc=0.50125|10-CV=0.4975|STD=0.00773|Time spend=5.780678987503052\n",
      "\tAROUSAL-s16-DCAU|Acc=0.63|10-CV=0.60542|STD=0.02423|Time spend=7.642430305480957\n",
      "\tAROUSAL-s17-DASM|Acc=0.68083|10-CV=0.67167|STD=0.01219|Time spend=3.0212552547454834\n",
      "\tAROUSAL-s17-RASM|Acc=0.60333|10-CV=0.59958|STD=0.00224|Time spend=5.340095520019531\n",
      "\tAROUSAL-s17-DCAU|Acc=0.65583|10-CV=0.64792|STD=0.02467|Time spend=7.118350028991699\n",
      "\tAROUSAL-s18-DASM|Acc=0.63583|10-CV=0.60292|STD=0.02675|Time spend=3.3982913494110107\n",
      "\tAROUSAL-s18-RASM|Acc=0.57833|10-CV=0.57375|STD=0.00458|Time spend=5.932086229324341\n",
      "\tAROUSAL-s18-DCAU|Acc=0.61083|10-CV=0.58417|STD=0.01675|Time spend=8.05856466293335\n",
      "\tAROUSAL-s19-DASM|Acc=0.65208|10-CV=0.65125|STD=0.00495|Time spend=3.605090379714966\n",
      "\tAROUSAL-s19-RASM|Acc=0.65|10-CV=0.65|STD=0.0|Time spend=5.361090183258057\n",
      "\tAROUSAL-s19-DCAU|Acc=0.65333|10-CV=0.64917|STD=0.0052|Time spend=7.741416692733765\n",
      "\tAROUSAL-s20-DASM|Acc=0.57958|10-CV=0.54917|STD=0.03809|Time spend=3.418531656265259\n",
      "\tAROUSAL-s20-RASM|Acc=0.53|10-CV=0.52292|STD=0.00597|Time spend=5.935974597930908\n",
      "\tAROUSAL-s20-DCAU|Acc=0.60333|10-CV=0.55292|STD=0.0277|Time spend=8.0900399684906\n",
      "\tAROUSAL-s21-DASM|Acc=0.75|10-CV=0.75|STD=0.0|Time spend=3.77848744392395\n",
      "\tAROUSAL-s21-RASM|Acc=0.75083|10-CV=0.74875|STD=0.00375|Time spend=5.79610013961792\n",
      "\tAROUSAL-s21-DCAU|Acc=0.75|10-CV=0.75|STD=0.0|Time spend=8.305663824081421\n",
      "\tAROUSAL-s22-DASM|Acc=0.57208|10-CV=0.56625|STD=0.02468|Time spend=3.562328815460205\n",
      "\tAROUSAL-s22-RASM|Acc=0.555|10-CV=0.55042|STD=0.00346|Time spend=5.998563766479492\n",
      "\tAROUSAL-s22-DCAU|Acc=0.57125|10-CV=0.56833|STD=0.03324|Time spend=8.268888711929321\n",
      "\tAROUSAL-s23-DASM|Acc=0.60375|10-CV=0.58833|STD=0.015|Time spend=3.0536980628967285\n",
      "\tAROUSAL-s23-RASM|Acc=0.58292|10-CV=0.5775|STD=0.00534|Time spend=5.331959962844849\n",
      "\tAROUSAL-s23-DCAU|Acc=0.58708|10-CV=0.58458|STD=0.01071|Time spend=7.282866716384888\n",
      "\tAROUSAL-s24-DASM|Acc=0.675|10-CV=0.675|STD=0.0|Time spend=3.991373300552368\n",
      "\tAROUSAL-s24-RASM|Acc=0.675|10-CV=0.675|STD=0.0|Time spend=6.022993087768555\n",
      "\tAROUSAL-s24-DCAU|Acc=0.675|10-CV=0.675|STD=0.0|Time spend=8.671873807907104\n",
      "\tAROUSAL-s25-DASM|Acc=0.65|10-CV=0.65|STD=0.0|Time spend=3.7281062602996826\n",
      "\tAROUSAL-s25-RASM|Acc=0.65125|10-CV=0.64917|STD=0.00167|Time spend=5.774775981903076\n",
      "\tAROUSAL-s25-DCAU|Acc=0.65|10-CV=0.65|STD=0.0|Time spend=8.25028920173645\n",
      "\tAROUSAL-s26-DASM|Acc=0.60708|10-CV=0.55958|STD=0.02745|Time spend=3.4288415908813477\n",
      "\tAROUSAL-s26-RASM|Acc=0.54083|10-CV=0.50875|STD=0.02592|Time spend=5.839823961257935\n",
      "\tAROUSAL-s26-DCAU|Acc=0.60208|10-CV=0.5575|STD=0.02775|Time spend=7.898205995559692\n",
      "\tAROUSAL-s27-DASM|Acc=0.67875|10-CV=0.67542|STD=0.00292|Time spend=3.2858147621154785\n",
      "\tAROUSAL-s27-RASM|Acc=0.67792|10-CV=0.67583|STD=0.0025|Time spend=5.635993242263794\n",
      "\tAROUSAL-s27-DCAU|Acc=0.67583|10-CV=0.675|STD=0.0|Time spend=7.945833444595337\n",
      "\tAROUSAL-s28-DASM|Acc=0.56083|10-CV=0.5275|STD=0.02291|Time spend=3.4378855228424072\n",
      "\tAROUSAL-s28-RASM|Acc=0.5025|10-CV=0.50167|STD=0.00816|Time spend=5.918637752532959\n",
      "\tAROUSAL-s28-DCAU|Acc=0.57042|10-CV=0.54417|STD=0.03|Time spend=8.096776723861694\n",
      "\tAROUSAL-s29-DASM|Acc=0.6225|10-CV=0.59167|STD=0.01718|Time spend=3.4404518604278564\n",
      "\tAROUSAL-s29-RASM|Acc=0.55|10-CV=0.55|STD=0.0|Time spend=5.922799110412598\n",
      "\tAROUSAL-s29-DCAU|Acc=0.60333|10-CV=0.565|STD=0.03686|Time spend=8.060079097747803\n",
      "\tAROUSAL-s30-DASM|Acc=0.625|10-CV=0.625|STD=0.0|Time spend=3.8570291996002197\n",
      "\tAROUSAL-s30-RASM|Acc=0.62583|10-CV=0.62417|STD=0.00167|Time spend=6.138592958450317\n",
      "\tAROUSAL-s30-DCAU|Acc=0.625|10-CV=0.625|STD=0.0|Time spend=8.519800662994385\n",
      "\tAROUSAL-s31-DASM|Acc=0.64917|10-CV=0.62083|STD=0.03446|Time spend=3.090256690979004\n",
      "\tAROUSAL-s31-RASM|Acc=0.53208|10-CV=0.52417|STD=0.0025|Time spend=5.450894355773926\n",
      "\tAROUSAL-s31-DCAU|Acc=0.63375|10-CV=0.59375|STD=0.02191|Time spend=7.57772159576416\n",
      "\tAROUSAL-s32-DASM|Acc=0.625|10-CV=0.62458|STD=0.00224|Time spend=3.5040884017944336\n",
      "\tAROUSAL-s32-RASM|Acc=0.62542|10-CV=0.625|STD=0.0|Time spend=5.597855091094971\n",
      "\tAROUSAL-s32-DCAU|Acc=0.64042|10-CV=0.62292|STD=0.00796|Time spend=7.652540445327759\n",
      "AROUSAL-DASM|Acc=0.6330468750000001|10-CV=0.6136979166666666|STD=0.01679732578046379\n",
      "AROUSAL-RASM|Acc=0.5891015625|10-CV=0.5839583333333334|STD=0.005002117182099861\n",
      "AROUSAL-DCAU|Acc=0.6288020833333334|10-CV=0.6092447916666666|STD=0.01882566525175168\n",
      "\\VALENCE-s01-DASM|Acc=0.57167|10-CV=0.55083|STD=0.01233|Time spend=3.2933084964752197\n",
      "\\VALENCE-s01-RASM|Acc=0.56292|10-CV=0.5525|STD=0.00651|Time spend=5.600872039794922\n",
      "\\VALENCE-s01-DCAU|Acc=0.57|10-CV=0.54125|STD=0.01597|Time spend=7.54495644569397\n",
      "\\VALENCE-s02-DASM|Acc=0.67583|10-CV=0.65583|STD=0.02965|Time spend=3.0066440105438232\n",
      "\\VALENCE-s02-RASM|Acc=0.575|10-CV=0.52|STD=0.03363|Time spend=5.582230806350708\n",
      "\\VALENCE-s02-DCAU|Acc=0.69583|10-CV=0.66792|STD=0.02181|Time spend=7.289509057998657\n",
      "\\VALENCE-s03-DASM|Acc=0.62333|10-CV=0.60125|STD=0.01444|Time spend=3.272088050842285\n",
      "\\VALENCE-s03-RASM|Acc=0.60417|10-CV=0.59833|STD=0.00204|Time spend=5.833748817443848\n",
      "\\VALENCE-s03-DCAU|Acc=0.62042|10-CV=0.6075|STD=0.01067|Time spend=7.785490036010742\n",
      "\\VALENCE-s04-DASM|Acc=0.66542|10-CV=0.64208|STD=0.02433|Time spend=3.0036582946777344\n",
      "\\VALENCE-s04-RASM|Acc=0.57958|10-CV=0.575|STD=0.00697|Time spend=5.081988334655762\n",
      "\\VALENCE-s04-DCAU|Acc=0.65125|10-CV=0.6325|STD=0.03061|Time spend=6.884071350097656\n",
      "\\VALENCE-s05-DASM|Acc=0.59458|10-CV=0.55292|STD=0.01788|Time spend=3.362668514251709\n",
      "\\VALENCE-s05-RASM|Acc=0.55667|10-CV=0.54958|STD=0.00732|Time spend=5.850135564804077\n",
      "\\VALENCE-s05-DCAU|Acc=0.5975|10-CV=0.57375|STD=0.02952|Time spend=7.933520793914795\n",
      "\\VALENCE-s06-DASM|Acc=0.61208|10-CV=0.60583|STD=0.00425|Time spend=3.405754327774048\n",
      "\\VALENCE-s06-RASM|Acc=0.60458|10-CV=0.60042|STD=0.00224|Time spend=5.815899133682251\n",
      "\\VALENCE-s06-DCAU|Acc=0.6025|10-CV=0.60125|STD=0.00267|Time spend=8.202704191207886\n",
      "\\VALENCE-s07-DASM|Acc=0.67625|10-CV=0.66333|STD=0.01898|Time spend=3.1671206951141357\n",
      "\\VALENCE-s07-RASM|Acc=0.62625|10-CV=0.62458|STD=0.00125|Time spend=5.478123426437378\n",
      "\\VALENCE-s07-DCAU|Acc=0.62542|10-CV=0.62417|STD=0.0025|Time spend=7.7273268699646\n",
      "\\VALENCE-s08-DASM|Acc=0.62875|10-CV=0.62583|STD=0.00312|Time spend=3.192788600921631\n",
      "\\VALENCE-s08-RASM|Acc=0.62542|10-CV=0.62458|STD=0.00125|Time spend=5.216710567474365\n",
      "\\VALENCE-s08-DCAU|Acc=0.64542|10-CV=0.63417|STD=0.0113|Time spend=7.023170471191406\n",
      "\\VALENCE-s09-DASM|Acc=0.67042|10-CV=0.64875|STD=0.03129|Time spend=2.954059362411499\n",
      "\\VALENCE-s09-RASM|Acc=0.64125|10-CV=0.62042|STD=0.03126|Time spend=5.097461223602295\n",
      "\\VALENCE-s09-DCAU|Acc=0.68875|10-CV=0.665|STD=0.02473|Time spend=6.8356382846832275\n",
      "\\VALENCE-s10-DASM|Acc=0.74333|10-CV=0.71708|STD=0.02185|Time spend=2.864013433456421\n",
      "\\VALENCE-s10-RASM|Acc=0.50667|10-CV=0.51|STD=0.02953|Time spend=5.446594953536987\n",
      "\\VALENCE-s10-DCAU|Acc=0.7375|10-CV=0.71083|STD=0.02102|Time spend=7.063671588897705\n",
      "\\VALENCE-s11-DASM|Acc=0.6025|10-CV=0.58167|STD=0.03052|Time spend=3.254822254180908\n",
      "\\VALENCE-s11-RASM|Acc=0.56583|10-CV=0.55208|STD=0.03131|Time spend=5.619465112686157\n",
      "\\VALENCE-s11-DCAU|Acc=0.59292|10-CV=0.57542|STD=0.02397|Time spend=7.7001519203186035\n",
      "\\VALENCE-s12-DASM|Acc=0.61167|10-CV=0.58083|STD=0.02276|Time spend=3.1228199005126953\n",
      "\\VALENCE-s12-RASM|Acc=0.53667|10-CV=0.52875|STD=0.00602|Time spend=5.613983869552612\n",
      "\\VALENCE-s12-DCAU|Acc=0.61042|10-CV=0.59083|STD=0.02607|Time spend=7.52829122543335\n",
      "\\VALENCE-s13-DASM|Acc=0.65375|10-CV=0.6375|STD=0.025|Time spend=3.104520797729492\n",
      "\\VALENCE-s13-RASM|Acc=0.53125|10-CV=0.52583|STD=0.00408|Time spend=5.425691843032837\n",
      "\\VALENCE-s13-DCAU|Acc=0.67917|10-CV=0.66167|STD=0.02781|Time spend=7.234080791473389\n",
      "\\VALENCE-s14-DASM|Acc=0.67208|10-CV=0.63917|STD=0.02702|Time spend=3.037334442138672\n",
      "\\VALENCE-s14-RASM|Acc=0.50083|10-CV=0.50292|STD=0.00875|Time spend=5.587614297866821\n",
      "\\VALENCE-s14-DCAU|Acc=0.68|10-CV=0.65333|STD=0.02219|Time spend=7.450364351272583\n",
      "\\VALENCE-s15-DASM|Acc=0.75375|10-CV=0.7275|STD=0.02947|Time spend=2.694143772125244\n",
      "\\VALENCE-s15-RASM|Acc=0.57667|10-CV=0.57458|STD=0.00224|Time spend=4.980727910995483\n",
      "\\VALENCE-s15-DCAU|Acc=0.77083|10-CV=0.7525|STD=0.02336|Time spend=6.4558351039886475\n",
      "\\VALENCE-s16-DASM|Acc=0.63917|10-CV=0.60208|STD=0.04339|Time spend=3.143439531326294\n",
      "\\VALENCE-s16-RASM|Acc=0.525|10-CV=0.525|STD=0.0|Time spend=5.6383185386657715\n",
      "\\VALENCE-s16-DCAU|Acc=0.64458|10-CV=0.61167|STD=0.01579|Time spend=7.502078294754028\n",
      "\\VALENCE-s17-DASM|Acc=0.58708|10-CV=0.56042|STD=0.02864|Time spend=3.461369752883911\n",
      "\\VALENCE-s17-RASM|Acc=0.53167|10-CV=0.52625|STD=0.00495|Time spend=6.09559178352356\n",
      "\\VALENCE-s17-DCAU|Acc=0.55833|10-CV=0.53917|STD=0.01333|Time spend=8.305576801300049\n",
      "\\VALENCE-s18-DASM|Acc=0.73542|10-CV=0.7125|STD=0.02228|Time spend=2.84161376953125\n",
      "\\VALENCE-s18-RASM|Acc=0.52917|10-CV=0.52417|STD=0.00583|Time spend=5.374435186386108\n",
      "\\VALENCE-s18-DCAU|Acc=0.74083|10-CV=0.72667|STD=0.01605|Time spend=6.897428750991821\n",
      "\\VALENCE-s19-DASM|Acc=0.62917|10-CV=0.59333|STD=0.0274|Time spend=3.1746068000793457\n",
      "\\VALENCE-s19-RASM|Acc=0.52542|10-CV=0.525|STD=0.0|Time spend=5.561304807662964\n",
      "\\VALENCE-s19-DCAU|Acc=0.6425|10-CV=0.59167|STD=0.02364|Time spend=7.550820350646973\n",
      "\\VALENCE-s20-DASM|Acc=0.6825|10-CV=0.66125|STD=0.0199|Time spend=3.0234246253967285\n",
      "\\VALENCE-s20-RASM|Acc=0.57917|10-CV=0.57458|STD=0.00224|Time spend=5.345412254333496\n",
      "\\VALENCE-s20-DCAU|Acc=0.66667|10-CV=0.6475|STD=0.01333|Time spend=7.119321584701538\n",
      "\\VALENCE-s21-DASM|Acc=0.59375|10-CV=0.54708|STD=0.02726|Time spend=3.3175208568573\n",
      "\\VALENCE-s21-RASM|Acc=0.53083|10-CV=0.52667|STD=0.00276|Time spend=5.733376979827881\n",
      "\\VALENCE-s21-DCAU|Acc=0.58167|10-CV=0.54125|STD=0.02658|Time spend=7.885330677032471\n",
      "\\VALENCE-s22-DASM|Acc=0.56958|10-CV=0.55167|STD=0.0128|Time spend=3.4777586460113525\n",
      "\\VALENCE-s22-RASM|Acc=0.55333|10-CV=0.55083|STD=0.00167|Time spend=6.012791395187378\n",
      "\\VALENCE-s22-DCAU|Acc=0.56|10-CV=0.54917|STD=0.01441|Time spend=8.265042066574097\n",
      "\\VALENCE-s23-DASM|Acc=0.6175|10-CV=0.58958|STD=0.02727|Time spend=3.22513484954834\n",
      "\\VALENCE-s23-RASM|Acc=0.53333|10-CV=0.52708|STD=0.00535|Time spend=5.540551662445068\n",
      "\\VALENCE-s23-DCAU|Acc=0.60125|10-CV=0.57375|STD=0.02267|Time spend=7.5587546825408936\n",
      "\\VALENCE-s24-DASM|Acc=0.63583|10-CV=0.60458|STD=0.04547|Time spend=3.1580810546875\n",
      "\\VALENCE-s24-RASM|Acc=0.525|10-CV=0.52417|STD=0.0025|Time spend=5.7354443073272705\n",
      "\\VALENCE-s24-DCAU|Acc=0.60917|10-CV=0.58333|STD=0.02507|Time spend=7.67774772644043\n",
      "\\VALENCE-s25-DASM|Acc=0.60208|10-CV=0.60125|STD=0.00267|Time spend=3.600559711456299\n",
      "\\VALENCE-s25-RASM|Acc=0.60042|10-CV=0.59875|STD=0.00267|Time spend=5.955902099609375\n",
      "\\VALENCE-s25-DCAU|Acc=0.60333|10-CV=0.60167|STD=0.00333|Time spend=8.297597646713257\n",
      "\\VALENCE-s26-DASM|Acc=0.6|10-CV=0.6|STD=0.0|Time spend=3.6037354469299316\n",
      "\\VALENCE-s26-RASM|Acc=0.60375|10-CV=0.59917|STD=0.00486|Time spend=6.169027805328369\n",
      "\\VALENCE-s26-DCAU|Acc=0.61833|10-CV=0.60333|STD=0.01051|Time spend=8.367993593215942\n",
      "\\VALENCE-s27-DASM|Acc=0.64417|10-CV=0.59958|STD=0.03059|Time spend=3.170210838317871\n",
      "\\VALENCE-s27-RASM|Acc=0.51375|10-CV=0.50792|STD=0.00843|Time spend=5.5081024169921875\n",
      "\\VALENCE-s27-DCAU|Acc=0.61375|10-CV=0.56917|STD=0.01956|Time spend=7.512702703475952\n",
      "\\VALENCE-s28-DASM|Acc=0.59375|10-CV=0.57958|STD=0.02104|Time spend=3.2504093647003174\n",
      "\\VALENCE-s28-RASM|Acc=0.55125|10-CV=0.54958|STD=0.00346|Time spend=5.715035915374756\n",
      "\\VALENCE-s28-DCAU|Acc=0.59042|10-CV=0.575|STD=0.01728|Time spend=7.73079514503479\n",
      "\\VALENCE-s29-DASM|Acc=0.63667|10-CV=0.59125|STD=0.0317|Time spend=3.2109639644622803\n",
      "\\VALENCE-s29-RASM|Acc=0.50458|10-CV=0.505|STD=0.00612|Time spend=5.7100136280059814\n",
      "\\VALENCE-s29-DCAU|Acc=0.63042|10-CV=0.58917|STD=0.02284|Time spend=7.730780124664307\n",
      "\\VALENCE-s30-DASM|Acc=0.64417|10-CV=0.63333|STD=0.01491|Time spend=3.0454823970794678\n",
      "\\VALENCE-s30-RASM|Acc=0.62958|10-CV=0.62333|STD=0.00276|Time spend=5.071292161941528\n",
      "\\VALENCE-s30-DCAU|Acc=0.63875|10-CV=0.62667|STD=0.01983|Time spend=6.907178163528442\n",
      "\\VALENCE-s31-DASM|Acc=0.63167|10-CV=0.60333|STD=0.015|Time spend=3.0963921546936035\n",
      "\\VALENCE-s31-RASM|Acc=0.56|10-CV=0.54833|STD=0.00624|Time spend=5.236793041229248\n",
      "\\VALENCE-s31-DCAU|Acc=0.615|10-CV=0.59458|STD=0.02814|Time spend=7.149529218673706\n",
      "\\VALENCE-s32-DASM|Acc=0.60583|10-CV=0.57833|STD=0.02385|Time spend=3.1125905513763428\n",
      "\\VALENCE-s32-RASM|Acc=0.55042|10-CV=0.55125|STD=0.00375|Time spend=5.310788869857788\n",
      "\\VALENCE-s32-DCAU|Acc=0.63125|10-CV=0.58917|STD=0.02734|Time spend=7.293612241744995\n",
      "VALENCE-DASM|Acc=0.6376171875000002|10-CV=0.6137369791666666|STD=0.022095679132574986\n",
      "VALENCE-RASM|Acc=0.5606380208333333|10-CV=0.5545833333333333|STD=0.007438127667259651\n",
      "VALENCE-DCAU|Acc=0.6348177083333333|10-CV=0.6126562499999999|STD=0.019185030617516686\n",
      "TOTAL-DASM|Acc=0.63533203125|10-CV=0.6137174479166666|STD=0.019446502456519386\n",
      "TOTAL-RASM|Acc=0.5748697916666667|10-CV=0.5692708333333334|STD=0.006220122424679759\n",
      "TOTAL-DCAU|Acc=0.6318098958333335|10-CV=0.6109505208333331|STD=0.019005347934634185\n"
     ]
    }
   ],
   "source": [
    "bands = [(0,4), (4,8), (8,12), (12,30), (30,64)]\n",
    "# [alias_feature_function]__[optional_param]\n",
    "params = dict({\n",
    "    'pow_freq_bands__log':True,\n",
    "    'pow_freq_bands__normalize':False,\n",
    "    'pow_freq_bands__freq_bands':bands\n",
    "})\n",
    "\n",
    "accs,cv_means,cv_stds  = {'DASM':[],'RASM':[],'DCAU':[]},{'DASM':[],'RASM':[],'DCAU':[]},{'DASM':[],'RASM':[],'DCAU':[]}\n",
    "# count = 0\n",
    "for filename in dataset.get_file_list():\n",
    "    start = time.time()\n",
    "    data, labels = dataset.get_data_numpy(filename, stimuli=Dataset_subjectDependent.STIMULI_AROUSAL, split=False)\n",
    "    fe = FeatureExtractor(sfreq=128, selected_funcs=['pow_freq_bands'],params=params,n_jobs=8)\n",
    "    X = fe.fit_transform(X=data)\n",
    "\n",
    "    PSD_left = X[:, left_channel_indexes].copy()\n",
    "    PSD_right = X[:, right_channel_indexes].copy()\n",
    "    PSD_frontal = X[:, frontal_channel_indexes].copy()\n",
    "    PSD_posterior = X[:, posterior_channel_indexes].copy()\n",
    "    X = {\n",
    "        'DASM': PSD_left - PSD_right,\n",
    "        'RASM': PSD_left / PSD_right,\n",
    "        'DCAU': PSD_frontal - PSD_posterior,\n",
    "    }\n",
    "\n",
    "    for feature_name in ['DASM','RASM','DCAU']:\n",
    "        _, acc, cross = train_model(X[feature_name], labels.reshape(-1))\n",
    "        print(f\"\\tAROUSAL-{filename}-{feature_name}|Acc={round(acc,5)}|10-CV={round(cross.mean(),5)}|STD={round(cross.std(),5)}|Time spend={time.time() - start}\")\n",
    "        accs[feature_name].append(acc)\n",
    "        cv_means[feature_name].append(cross.mean())\n",
    "        cv_stds[feature_name].append(cross.std())\n",
    "    # count+=1\n",
    "    # if(count == 3): break\n",
    "for feature_name in ['DASM','RASM','DCAU']:\n",
    "    print(f\"AROUSAL-{feature_name}|Acc={sum(accs[feature_name])/len(accs[feature_name])}|10-CV={sum(cv_means[feature_name])/len(cv_means[feature_name])}|STD={sum(cv_stds[feature_name])/len(cv_stds[feature_name])}\")\n",
    "\n",
    "accs_v,cv_means_v,cv_stds_v  = {'DASM':[],'RASM':[],'DCAU':[]},{'DASM':[],'RASM':[],'DCAU':[]},{'DASM':[],'RASM':[],'DCAU':[]}\n",
    "# count=0\n",
    "for filename in dataset.get_file_list():\n",
    "    start = time.time()\n",
    "    data, labels = dataset.get_data_numpy(filename, stimuli=Dataset_subjectDependent.STIMULI_VALENCE, split=False)\n",
    "    fe = FeatureExtractor(sfreq=128, selected_funcs=['pow_freq_bands'],params=params,n_jobs=8)\n",
    "    X = fe.fit_transform(X=data)\n",
    "\n",
    "    PSD_left = X[:, left_channel_indexes].copy()\n",
    "    PSD_right = X[:, right_channel_indexes].copy()\n",
    "    PSD_frontal = X[:, frontal_channel_indexes].copy()\n",
    "    PSD_posterior = X[:, posterior_channel_indexes].copy()\n",
    "    X = {\n",
    "        'DASM': PSD_left - PSD_right,\n",
    "        'RASM': PSD_left / PSD_right,\n",
    "        'DCAU': PSD_frontal - PSD_posterior,\n",
    "    }\n",
    "\n",
    "    for feature_name in ['DASM','RASM','DCAU']:\n",
    "        _, acc, cross = train_model(X[feature_name], labels.reshape(-1))\n",
    "        print(f\"\\tVALENCE-{filename}-{feature_name}|Acc={round(acc,5)}|10-CV={round(cross.mean(),5)}|STD={round(cross.std(),5)}|Time spend={time.time() - start}\")\n",
    "        accs_v[feature_name].append(acc)\n",
    "        cv_means_v[feature_name].append(cross.mean())\n",
    "        cv_stds_v[feature_name].append(cross.std())\n",
    "    # count+=1\n",
    "    # if(count == 3): break\n",
    "for feature_name in ['DASM','RASM','DCAU']:\n",
    "    print(f\"VALENCE-{feature_name}|Acc={sum(accs_v[feature_name])/len(accs_v[feature_name])}|10-CV={sum(cv_means_v[feature_name])/len(cv_means_v[feature_name])}|STD={sum(cv_stds_v[feature_name])/len(cv_stds_v[feature_name])}\")\n",
    "\n",
    "for feature_name in ['DASM','RASM','DCAU']:\n",
    "    accs[feature_name].extend(accs_v[feature_name])\n",
    "    cv_means[feature_name].extend(cv_means_v[feature_name])\n",
    "    cv_stds[feature_name].extend(cv_stds_v[feature_name])\n",
    "    print(f\"TOTAL-{feature_name}|Acc={sum(accs[feature_name])/len(accs[feature_name])}|10-CV={sum(cv_means[feature_name])/len(cv_means[feature_name])}|STD={sum(cv_stds[feature_name])/len(cv_stds[feature_name])}\")"
   ]
  },
  {
   "cell_type": "markdown",
   "metadata": {},
   "source": [
    "## 4. Connectivity\n",
    "\n",
    "### 4.1 coherence"
   ]
  },
  {
   "cell_type": "code",
   "execution_count": 6,
   "metadata": {},
   "outputs": [],
   "source": [
    "from mne_connectivity import spectral_connectivity_time\n",
    "\n",
    "def save(data,filename):\n",
    "    with open(f'cache/{filename}.pickle', 'wb') as handle:\n",
    "        pickle.dump(data, handle, protocol=pickle.HIGHEST_PROTOCOL)\n",
    "\n",
    "def load(filename):\n",
    "    with open(f'cache/{filename}.pickle', 'rb') as handle:\n",
    "        data = pickle.load(handle)\n",
    "    return data"
   ]
  },
  {
   "cell_type": "code",
   "execution_count": 4,
   "metadata": {},
   "outputs": [],
   "source": [
    "# bands = [(0,4), (4,8), (8,12), (12,30), (30,64)]\n",
    "for filename in tqdm(dataset.get_file_list()):\n",
    "    # if(filename in ['s01','s02','s03','s04','s05','s06','s07']): continue\n",
    "    print(\"----\"*5, filename, \"----\"*5)\n",
    "    # start = time.time()\n",
    "    epochs, _ = dataset.get_data_mne_epochs(filename, sfreq=128, stimuli=Dataset_subjectDependent.STIMULI_AROUSAL, split=False)\n",
    "    # X = fe.fit_transform(X=data)\n",
    "    # print(epochs, labels.shape)\n",
    "    step = 150//2\n",
    "    X = []\n",
    "    # count = 0\n",
    "    for index in range(0,len(epochs), step):\n",
    "        # print(index,index+step)\n",
    "        conn = spectral_connectivity_time(epochs[index:index+step], method='coh',mode='multitaper',sfreq=128, freqs=range(7,64), verbose='CRITICAL')\n",
    "        # (step, 528, 57, 128) => (epoch, conn, freq, time) .mean(axis=3)\n",
    "        # (step, 528, 57) => (epoch, conn, freq)\n",
    "        # print(conn.get_data('raveled').mean(axis=3).shape)\n",
    "        conn = conn.get_data('raveled').mean(axis=3)\n",
    "        # (step, 528*4 ) =>(step, 2112 )\n",
    "        x = np.concatenate([ conn[:,:,7-7:8-7 ].mean(axis=2),\n",
    "                            conn[:,:,8-7:12-7 ].mean(axis=2),\n",
    "                            conn[:,:,12-7:30-7 ].mean(axis=2),\n",
    "                            conn[:,:,30-7:64-7 ].mean(axis=2) ],axis=1)\n",
    "        X.append(x)\n",
    "        # count += 1\n",
    "        # if(count == 3): break\n",
    "    X = np.vstack(X)\n",
    "    print(X.shape)\n",
    "    save(X,f\"X_COH_AROUSAL_{filename}\")\n",
    "\n",
    "\n",
    "    epochs, _ = dataset.get_data_mne_epochs(filename, sfreq=128, stimuli=Dataset_subjectDependent.STIMULI_VALENCE, split=False)\n",
    "    # X = fe.fit_transform(X=data)\n",
    "    # print(epochs, labels.shape)\n",
    "    step = 150//2\n",
    "    X = []\n",
    "    # count = 0\n",
    "    for index in tqdm(range(0,len(epochs), step)):\n",
    "        # print(index,index+step)\n",
    "        conn = spectral_connectivity_time(epochs[index:index+step], method='coh',mode='multitaper',sfreq=128, freqs=range(7,64), verbose='CRITICAL')\n",
    "        # (step, 528, 57, 128) => (epoc\n",
    "        # h, conn, freq, time) .mean(axis=3)\n",
    "        # (step, 528, 57) => (epoch, conn, freq)\n",
    "        # print(conn.get_data('raveled').mean(axis=3).shape)\n",
    "        conn = conn.get_data('raveled').mean(axis=3)\n",
    "        # (step, 528*4 ) =>(step, 2112 )\n",
    "        x = np.concatenate([ conn[:,:,7-7:8-7 ].mean(axis=2),\n",
    "                            conn[:,:,8-7:12-7 ].mean(axis=2),\n",
    "                            conn[:,:,12-7:30-7 ].mean(axis=2),\n",
    "                            conn[:,:,30-7:64-7 ].mean(axis=2) ],axis=1)\n",
    "        X.append(x)\n",
    "        # count += 1\n",
    "        # if(count == 3): break\n",
    "    X = np.vstack(X)\n",
    "    print(X.shape)\n",
    "    save(X,f\"X_COH_VALENCE_{filename}\")"
   ]
  },
  {
   "cell_type": "code",
   "execution_count": 13,
   "metadata": {},
   "outputs": [
    {
     "data": {
      "application/vnd.jupyter.widget-view+json": {
       "model_id": "0eeed55fd74e4402ab0bdb5dd43b62ca",
       "version_major": 2,
       "version_minor": 0
      },
      "text/plain": [
       "  0%|          | 0/32 [00:00<?, ?it/s]"
      ]
     },
     "metadata": {},
     "output_type": "display_data"
    },
    {
     "name": "stdout",
     "output_type": "stream",
     "text": [
      "\tAROUSAL-s01|Acc=0.77917|10-CV=0.68208|STD=0.02084|Time spend=64.93514370918274\n",
      "\tAROUSAL-s02|Acc=0.70125|10-CV=0.66167|STD=0.02998|Time spend=66.43738794326782\n",
      "\tAROUSAL-s03|Acc=0.7425|10-CV=0.63583|STD=0.03035|Time spend=69.64683055877686\n",
      "\tAROUSAL-s04|Acc=0.735|10-CV=0.66708|STD=0.02792|Time spend=64.85696578025818\n",
      "\tAROUSAL-s05|Acc=0.6975|10-CV=0.64583|STD=0.01667|Time spend=71.05305814743042\n",
      "\tAROUSAL-s06|Acc=0.67792|10-CV=0.625|STD=0.02041|Time spend=69.97903823852539\n",
      "\tAROUSAL-s07|Acc=0.78125|10-CV=0.67625|STD=0.03085|Time spend=66.84944558143616\n",
      "\tAROUSAL-s08|Acc=0.74167|10-CV=0.63875|STD=0.03385|Time spend=65.9965980052948\n",
      "\tAROUSAL-s09|Acc=0.77625|10-CV=0.70125|STD=0.03416|Time spend=67.61231112480164\n",
      "\tAROUSAL-s10|Acc=0.80333|10-CV=0.75|STD=0.03107|Time spend=60.44512343406677\n",
      "\tAROUSAL-s11|Acc=0.69125|10-CV=0.65083|STD=0.02348|Time spend=69.42803263664246\n",
      "\tAROUSAL-s12|Acc=0.71333|10-CV=0.66667|STD=0.02197|Time spend=64.91551637649536\n",
      "\tAROUSAL-s13|Acc=0.67542|10-CV=0.65042|STD=0.01125|Time spend=67.72411251068115\n",
      "\tAROUSAL-s14|Acc=0.68792|10-CV=0.67417|STD=0.00408|Time spend=62.0476016998291\n",
      "\tAROUSAL-s15|Acc=0.79708|10-CV=0.68625|STD=0.02952|Time spend=70.38946914672852\n",
      "\tAROUSAL-s16|Acc=0.78667|10-CV=0.70333|STD=0.02485|Time spend=65.51235461235046\n",
      "\tAROUSAL-s17|Acc=0.75417|10-CV=0.72458|STD=0.02177|Time spend=60.902904748916626\n",
      "\tAROUSAL-s18|Acc=0.7425|10-CV=0.65|STD=0.02394|Time spend=68.20192837715149\n",
      "\tAROUSAL-s19|Acc=0.66458|10-CV=0.65|STD=0.00373|Time spend=65.11910247802734\n",
      "\tAROUSAL-s20|Acc=0.69792|10-CV=0.6025|STD=0.01539|Time spend=75.35716795921326\n",
      "\tAROUSAL-s21|Acc=0.75|10-CV=0.75|STD=0.0|Time spend=59.41318321228027\n",
      "\tAROUSAL-s22|Acc=0.61625|10-CV=0.575|STD=0.01646|Time spend=74.63718461990356\n",
      "\tAROUSAL-s23|Acc=0.78917|10-CV=0.68167|STD=0.02051|Time spend=69.51285219192505\n",
      "\tAROUSAL-s24|Acc=0.70292|10-CV=0.68625|STD=0.00747|Time spend=60.85410666465759\n",
      "\tAROUSAL-s25|Acc=0.65458|10-CV=0.65125|STD=0.00191|Time spend=64.4164707660675\n",
      "\tAROUSAL-s26|Acc=0.73042|10-CV=0.61792|STD=0.02999|Time spend=73.86975932121277\n",
      "\tAROUSAL-s27|Acc=0.81875|10-CV=0.76167|STD=0.01523|Time spend=54.748555421829224\n",
      "\tAROUSAL-s28|Acc=0.675|10-CV=0.59958|STD=0.03611|Time spend=70.29245710372925\n",
      "\tAROUSAL-s29|Acc=0.75292|10-CV=0.67542|STD=0.03132|Time spend=60.55335545539856\n",
      "\tAROUSAL-s30|Acc=0.625|10-CV=0.625|STD=0.0|Time spend=64.80770421028137\n",
      "\tAROUSAL-s31|Acc=0.74333|10-CV=0.645|STD=0.03032|Time spend=71.17979717254639\n",
      "\tAROUSAL-s32|Acc=0.79042|10-CV=0.69292|STD=0.02609|Time spend=62.43407344818115\n"
     ]
    }
   ],
   "source": [
    "accs, cv_means, cv_stds = [],[],[]\n",
    "for filename in tqdm(dataset.get_file_list()):\n",
    "    start = time.time()\n",
    "    X = load(f\"X_COH_AROUSAL_{filename}\")\n",
    "    assert X.shape == (2400,2112)\n",
    "    _, labels = dataset.get_data_numpy(filename, stimuli=Dataset_subjectDependent.STIMULI_AROUSAL, split=False)\n",
    "    _, acc, cross = train_model(X, labels.reshape(-1))\n",
    "    print(f\"\\tAROUSAL-{filename}|Acc={round(acc,5)}|10-CV={round(cross.mean(),5)}|STD={round(cross.std(),5)}|Time spend={time.time() - start}\")\n",
    "    accs.append(acc)\n",
    "    cv_means.append(cross.mean())\n",
    "    cv_stds.append(cross.std())"
   ]
  },
  {
   "cell_type": "code",
   "execution_count": 14,
   "metadata": {},
   "outputs": [
    {
     "name": "stdout",
     "output_type": "stream",
     "text": [
      "AROUSAL|Acc=0.7279817708333334|10-CV=0.6657552083333331|STD=0.020983067047204703\n"
     ]
    }
   ],
   "source": [
    "print(f\"AROUSAL|Acc={sum(accs)/len(accs)}|10-CV={sum(cv_means)/len(cv_means)}|STD={sum(cv_stds)/len(cv_stds)}\")"
   ]
  },
  {
   "cell_type": "code",
   "execution_count": 16,
   "metadata": {},
   "outputs": [
    {
     "data": {
      "application/vnd.jupyter.widget-view+json": {
       "model_id": "936247d9a1524049af35b041a078763e",
       "version_major": 2,
       "version_minor": 0
      },
      "text/plain": [
       "  0%|          | 0/32 [00:00<?, ?it/s]"
      ]
     },
     "metadata": {},
     "output_type": "display_data"
    },
    {
     "name": "stdout",
     "output_type": "stream",
     "text": [
      "\tVALENCE-s01|Acc=0.72083|10-CV=0.5975|STD=0.01837|Time spend=69.1800467967987\n",
      "\tVALENCE-s02|Acc=0.75833|10-CV=0.70125|STD=0.02075|Time spend=60.175132274627686\n",
      "\tVALENCE-s03|Acc=0.81792|10-CV=0.75917|STD=0.03475|Time spend=52.87031078338623\n",
      "\tVALENCE-s04|Acc=0.75792|10-CV=0.69625|STD=0.02578|Time spend=58.85808539390564\n",
      "\tVALENCE-s05|Acc=0.72542|10-CV=0.64833|STD=0.0293|Time spend=67.06726145744324\n",
      "\tVALENCE-s06|Acc=0.72958|10-CV=0.65542|STD=0.01571|Time spend=65.33635210990906\n",
      "\tVALENCE-s07|Acc=0.79|10-CV=0.7125|STD=0.02394|Time spend=56.17925047874451\n",
      "\tVALENCE-s08|Acc=0.74917|10-CV=0.69958|STD=0.01976|Time spend=62.60816264152527\n",
      "\tVALENCE-s09|Acc=0.77417|10-CV=0.72375|STD=0.02472|Time spend=59.522428035736084\n",
      "\tVALENCE-s10|Acc=0.85083|10-CV=0.81833|STD=0.02839|Time spend=45.94798946380615\n",
      "\tVALENCE-s11|Acc=0.71083|10-CV=0.67542|STD=0.02585|Time spend=65.4010488986969\n",
      "\tVALENCE-s12|Acc=0.75958|10-CV=0.6625|STD=0.0337|Time spend=63.1700873374939\n",
      "\tVALENCE-s13|Acc=0.7675|10-CV=0.73083|STD=0.02167|Time spend=53.236050844192505\n",
      "\tVALENCE-s14|Acc=0.80375|10-CV=0.74833|STD=0.02515|Time spend=55.30126667022705\n",
      "\tVALENCE-s15|Acc=0.86792|10-CV=0.82167|STD=0.02265|Time spend=43.73091697692871\n",
      "\tVALENCE-s16|Acc=0.76083|10-CV=0.68|STD=0.02667|Time spend=63.47489833831787\n",
      "\tVALENCE-s17|Acc=0.65542|10-CV=0.59167|STD=0.02615|Time spend=72.11311864852905\n",
      "\tVALENCE-s18|Acc=0.81333|10-CV=0.76083|STD=0.01911|Time spend=48.1674268245697\n",
      "\tVALENCE-s19|Acc=0.75583|10-CV=0.68542|STD=0.01669|Time spend=64.47737503051758\n",
      "\tVALENCE-s20|Acc=0.78917|10-CV=0.74583|STD=0.02415|Time spend=55.84392261505127\n",
      "\tVALENCE-s21|Acc=0.71667|10-CV=0.61167|STD=0.01953|Time spend=70.57783675193787\n",
      "\tVALENCE-s22|Acc=0.73458|10-CV=0.6975|STD=0.03936|Time spend=56.494670391082764\n",
      "\tVALENCE-s23|Acc=0.82833|10-CV=0.71958|STD=0.02357|Time spend=58.526042461395264\n",
      "\tVALENCE-s24|Acc=0.7725|10-CV=0.69708|STD=0.02472|Time spend=53.00210428237915\n",
      "\tVALENCE-s25|Acc=0.64417|10-CV=0.61667|STD=0.00874|Time spend=56.16106629371643\n",
      "\tVALENCE-s26|Acc=0.64167|10-CV=0.61042|STD=0.01385|Time spend=57.825881481170654\n",
      "\tVALENCE-s27|Acc=0.79625|10-CV=0.72583|STD=0.03226|Time spend=50.461695432662964\n",
      "\tVALENCE-s28|Acc=0.71167|10-CV=0.64833|STD=0.02245|Time spend=52.93678402900696\n",
      "\tVALENCE-s29|Acc=0.73958|10-CV=0.63917|STD=0.01837|Time spend=55.81660866737366\n",
      "\tVALENCE-s30|Acc=0.72542|10-CV=0.69833|STD=0.0121|Time spend=51.2335741519928\n",
      "\tVALENCE-s31|Acc=0.74167|10-CV=0.62708|STD=0.02151|Time spend=58.94717216491699\n",
      "\tVALENCE-s32|Acc=0.73792|10-CV=0.65333|STD=0.02235|Time spend=56.0092716217041\n",
      "VALENCE|Acc=0.7546484375|10-CV=0.6893619791666667|STD=0.023190579904645393\n"
     ]
    }
   ],
   "source": [
    "accs_v, cv_means_v, cv_stds_v = [],[],[]\n",
    "for filename in tqdm(dataset.get_file_list()):\n",
    "    start = time.time()\n",
    "    X = load(f\"X_COH_VALENCE_{filename}\")\n",
    "    assert X.shape == (2400,2112)\n",
    "    _, labels = dataset.get_data_numpy(filename, stimuli=Dataset_subjectDependent.STIMULI_VALENCE, split=False)\n",
    "    _, acc, cross = train_model(X, labels.reshape(-1))\n",
    "    print(f\"\\tVALENCE-{filename}|Acc={round(acc,5)}|10-CV={round(cross.mean(),5)}|STD={round(cross.std(),5)}|Time spend={time.time() - start}\")\n",
    "    accs_v.append(acc)\n",
    "    cv_means_v.append(cross.mean())\n",
    "    cv_stds_v.append(cross.std())\n",
    "print(f\"VALENCE|Acc={sum(accs_v)/len(accs_v)}|10-CV={sum(cv_means_v)/len(cv_means_v)}|STD={sum(cv_stds_v)/len(cv_stds_v)}\")"
   ]
  },
  {
   "cell_type": "code",
   "execution_count": 17,
   "metadata": {},
   "outputs": [
    {
     "name": "stdout",
     "output_type": "stream",
     "text": [
      "TOTAL|Acc=0.7413151041666667|10-CV=0.6775585937499997|STD=0.02208682347592504\n"
     ]
    }
   ],
   "source": [
    "accs.extend(accs_v)\n",
    "cv_means.extend(cv_means_v)\n",
    "cv_stds.extend(cv_stds_v)\n",
    "print(f\"TOTAL|Acc={sum(accs)/len(accs)}|10-CV={sum(cv_means)/len(cv_means)}|STD={sum(cv_stds)/len(cv_stds)}\")"
   ]
  },
  {
   "cell_type": "markdown",
   "metadata": {},
   "source": [
    "### Connectivity PLV"
   ]
  },
  {
   "cell_type": "code",
   "execution_count": null,
   "metadata": {},
   "outputs": [],
   "source": [
    "# bands = [(0,4), (4,8), (8,12), (12,30), (30,64)]\n",
    "for filename in tqdm(dataset.get_file_list()):\n",
    "    # if(filename in ['s01','s02','s03','s04','s05','s06','s07']): continue\n",
    "    print(\"----\"*5, filename, \"----\"*5)\n",
    "    # start = time.time()\n",
    "    epochs, _ = dataset.get_data_mne_epochs(filename, sfreq=128, stimuli=Dataset_subjectDependent.STIMULI_AROUSAL, split=False)\n",
    "    # X = fe.fit_transform(X=data)\n",
    "    # print(epochs, labels.shape)\n",
    "    step = 150//2\n",
    "    X = []\n",
    "    # count = 0\n",
    "    for index in range(0,len(epochs), step):\n",
    "        # print(index,index+step)\n",
    "        conn = spectral_connectivity_time(epochs[index:index+step], method='plv',mode='multitaper',sfreq=128, freqs=range(7,64), verbose='CRITICAL')\n",
    "        # (step, 528, 57, 128) => (epoch, conn, freq, time) .mean(axis=3)\n",
    "        # (step, 528, 57) => (epoch, conn, freq)\n",
    "        # print(conn.get_data('raveled').mean(axis=3).shape)\n",
    "        conn = conn.get_data('raveled').mean(axis=3)\n",
    "        # (step, 528*4 ) =>(step, 2112 )\n",
    "        x = np.concatenate([ conn[:,:,7-7:8-7 ].mean(axis=2),\n",
    "                            conn[:,:,8-7:12-7 ].mean(axis=2),\n",
    "                            conn[:,:,12-7:30-7 ].mean(axis=2),\n",
    "                            conn[:,:,30-7:64-7 ].mean(axis=2) ],axis=1)\n",
    "        X.append(x)\n",
    "        # count += 1\n",
    "        # if(count == 3): break\n",
    "    X = np.vstack(X)\n",
    "    print(X.shape)\n",
    "    save(X,f\"X_PLV_AROUSAL_{filename}\")\n",
    "\n",
    "\n",
    "    epochs, _ = dataset.get_data_mne_epochs(filename, sfreq=128, stimuli=Dataset_subjectDependent.STIMULI_VALENCE, split=False)\n",
    "    # X = fe.fit_transform(X=data)\n",
    "    # print(epochs, labels.shape)\n",
    "    step = 150//2\n",
    "    X = []\n",
    "    # count = 0\n",
    "    for index in tqdm(range(0,len(epochs), step)):\n",
    "        # print(index,index+step)\n",
    "        conn = spectral_connectivity_time(epochs[index:index+step], method='plv',mode='multitaper',sfreq=128, freqs=range(7,64), verbose='CRITICAL')\n",
    "        # (step, 528, 57, 128) => (epoc\n",
    "        # h, conn, freq, time) .mean(axis=3)\n",
    "        # (step, 528, 57) => (epoch, conn, freq)\n",
    "        # print(conn.get_data('raveled').mean(axis=3).shape)\n",
    "        conn = conn.get_data('raveled').mean(axis=3)\n",
    "        # (step, 528*4 ) =>(step, 2112 )\n",
    "        x = np.concatenate([ conn[:,:,7-7:8-7 ].mean(axis=2),\n",
    "                            conn[:,:,8-7:12-7 ].mean(axis=2),\n",
    "                            conn[:,:,12-7:30-7 ].mean(axis=2),\n",
    "                            conn[:,:,30-7:64-7 ].mean(axis=2) ],axis=1)\n",
    "        X.append(x)\n",
    "        # count += 1\n",
    "        # if(count == 3): break\n",
    "    X = np.vstack(X)\n",
    "    print(X.shape)\n",
    "    save(X,f\"X_PLV_VALENCE_{filename}\")"
   ]
  },
  {
   "cell_type": "code",
   "execution_count": 21,
   "metadata": {},
   "outputs": [
    {
     "data": {
      "application/vnd.jupyter.widget-view+json": {
       "model_id": "f81de60a693449b6a96989e9f5044992",
       "version_major": 2,
       "version_minor": 0
      },
      "text/plain": [
       "  0%|          | 0/32 [00:00<?, ?it/s]"
      ]
     },
     "metadata": {},
     "output_type": "display_data"
    },
    {
     "name": "stdout",
     "output_type": "stream",
     "text": [
      "\tAROUSAL-s01|Acc=0.75542|10-CV=0.66833|STD=0.02291|Time spend=63.03299117088318\n",
      "\tAROUSAL-s02|Acc=0.70708|10-CV=0.66708|STD=0.02375|Time spend=61.41347575187683\n",
      "\tAROUSAL-s03|Acc=0.74083|10-CV=0.62417|STD=0.03455|Time spend=66.05428910255432\n",
      "\tAROUSAL-s04|Acc=0.73542|10-CV=0.65958|STD=0.02197|Time spend=58.56443166732788\n",
      "\tAROUSAL-s05|Acc=0.71708|10-CV=0.64917|STD=0.02031|Time spend=64.23791289329529\n",
      "\tAROUSAL-s06|Acc=0.675|10-CV=0.61625|STD=0.01932|Time spend=63.78882026672363\n",
      "\tAROUSAL-s07|Acc=0.77417|10-CV=0.66167|STD=0.03327|Time spend=63.45789623260498\n",
      "\tAROUSAL-s08|Acc=0.73667|10-CV=0.64625|STD=0.01671|Time spend=63.11403250694275\n",
      "\tAROUSAL-s09|Acc=0.77458|10-CV=0.7025|STD=0.01856|Time spend=63.68644738197327\n",
      "\tAROUSAL-s10|Acc=0.79917|10-CV=0.74458|STD=0.02305|Time spend=59.18967938423157\n",
      "\tAROUSAL-s11|Acc=0.69167|10-CV=0.65042|STD=0.02087|Time spend=66.4958643913269\n",
      "\tAROUSAL-s12|Acc=0.71208|10-CV=0.66042|STD=0.0177|Time spend=62.903270959854126\n",
      "\tAROUSAL-s13|Acc=0.67167|10-CV=0.65125|STD=0.01292|Time spend=65.19533038139343\n",
      "\tAROUSAL-s14|Acc=0.68208|10-CV=0.67542|STD=0.00125|Time spend=60.37700891494751\n",
      "\tAROUSAL-s15|Acc=0.785|10-CV=0.67|STD=0.01612|Time spend=67.03474998474121\n",
      "\tAROUSAL-s16|Acc=0.78375|10-CV=0.70292|STD=0.02084|Time spend=63.86115026473999\n",
      "\tAROUSAL-s17|Acc=0.76042|10-CV=0.7175|STD=0.03332|Time spend=58.10611343383789\n",
      "\tAROUSAL-s18|Acc=0.7375|10-CV=0.6375|STD=0.02764|Time spend=66.45516657829285\n",
      "\tAROUSAL-s19|Acc=0.66833|10-CV=0.65083|STD=0.00449|Time spend=61.88895297050476\n",
      "\tAROUSAL-s20|Acc=0.69833|10-CV=0.58875|STD=0.03764|Time spend=72.33902740478516\n",
      "\tAROUSAL-s21|Acc=0.75|10-CV=0.75|STD=0.0|Time spend=54.04443120956421\n",
      "\tAROUSAL-s22|Acc=0.63042|10-CV=0.56458|STD=0.03052|Time spend=61.72451186180115\n",
      "\tAROUSAL-s23|Acc=0.77958|10-CV=0.65375|STD=0.02153|Time spend=57.34879541397095\n",
      "\tAROUSAL-s24|Acc=0.70417|10-CV=0.68583|STD=0.0075|Time spend=50.03238105773926\n",
      "\tAROUSAL-s25|Acc=0.65583|10-CV=0.65|STD=0.0|Time spend=50.910343170166016\n",
      "\tAROUSAL-s26|Acc=0.72417|10-CV=0.60333|STD=0.03296|Time spend=83.100759267807\n",
      "\tAROUSAL-s27|Acc=0.81333|10-CV=0.76417|STD=0.02026|Time spend=51.48072552680969\n",
      "\tAROUSAL-s28|Acc=0.67625|10-CV=0.59625|STD=0.02531|Time spend=70.52338600158691\n",
      "\tAROUSAL-s29|Acc=0.7475|10-CV=0.66292|STD=0.01542|Time spend=82.21674013137817\n",
      "\tAROUSAL-s30|Acc=0.62542|10-CV=0.625|STD=0.0|Time spend=78.96601390838623\n",
      "\tAROUSAL-s31|Acc=0.74125|10-CV=0.64333|STD=0.02714|Time spend=74.46005773544312\n",
      "\tAROUSAL-s32|Acc=0.79667|10-CV=0.69458|STD=0.02394|Time spend=57.301087617874146\n",
      "AROUSAL|Acc=0.7265885416666665|10-CV=0.6605729166666667|STD=0.019742463482000396\n"
     ]
    }
   ],
   "source": [
    "accs, cv_means, cv_stds = [],[],[]\n",
    "for filename in tqdm(dataset.get_file_list()):\n",
    "    start = time.time()\n",
    "    X = load(f\"X_PLV_AROUSAL_{filename}\")\n",
    "    assert X.shape == (2400,2112)\n",
    "    _, labels = dataset.get_data_numpy(filename, stimuli=Dataset_subjectDependent.STIMULI_AROUSAL, split=False)\n",
    "    _, acc, cross = train_model(X, labels.reshape(-1))\n",
    "    print(f\"\\tAROUSAL-{filename}|Acc={round(acc,5)}|10-CV={round(cross.mean(),5)}|STD={round(cross.std(),5)}|Time spend={time.time() - start}\")\n",
    "    accs.append(acc)\n",
    "    cv_means.append(cross.mean())\n",
    "    cv_stds.append(cross.std())\n",
    "print(f\"AROUSAL|Acc={sum(accs)/len(accs)}|10-CV={sum(cv_means)/len(cv_means)}|STD={sum(cv_stds)/len(cv_stds)}\")"
   ]
  },
  {
   "cell_type": "code",
   "execution_count": 22,
   "metadata": {},
   "outputs": [
    {
     "data": {
      "application/vnd.jupyter.widget-view+json": {
       "model_id": "950d27c191034b85aa0dca8857170fc0",
       "version_major": 2,
       "version_minor": 0
      },
      "text/plain": [
       "  0%|          | 0/32 [00:00<?, ?it/s]"
      ]
     },
     "metadata": {},
     "output_type": "display_data"
    },
    {
     "name": "stdout",
     "output_type": "stream",
     "text": [
      "\tVALENCE-s01|Acc=0.715|10-CV=0.59583|STD=0.01981|Time spend=117.21722841262817\n",
      "\tVALENCE-s02|Acc=0.76375|10-CV=0.70292|STD=0.02733|Time spend=118.19430232048035\n",
      "\tVALENCE-s03|Acc=0.815|10-CV=0.74583|STD=0.02472|Time spend=109.09722566604614\n",
      "\tVALENCE-s04|Acc=0.76208|10-CV=0.69042|STD=0.02313|Time spend=110.54049324989319\n",
      "\tVALENCE-s05|Acc=0.73417|10-CV=0.64125|STD=0.02382|Time spend=119.80090141296387\n",
      "\tVALENCE-s06|Acc=0.72667|10-CV=0.64792|STD=0.01992|Time spend=81.20034623146057\n",
      "\tVALENCE-s07|Acc=0.78333|10-CV=0.7075|STD=0.01161|Time spend=57.46352481842041\n",
      "\tVALENCE-s08|Acc=0.75458|10-CV=0.69917|STD=0.01997|Time spend=65.95078611373901\n",
      "\tVALENCE-s09|Acc=0.78125|10-CV=0.71917|STD=0.02388|Time spend=59.49257016181946\n",
      "\tVALENCE-s10|Acc=0.84917|10-CV=0.8125|STD=0.02958|Time spend=44.80204176902771\n",
      "\tVALENCE-s11|Acc=0.71|10-CV=0.665|STD=0.0304|Time spend=64.8858253955841\n",
      "\tVALENCE-s12|Acc=0.76083|10-CV=0.66667|STD=0.0107|Time spend=61.64257526397705\n",
      "\tVALENCE-s13|Acc=0.76375|10-CV=0.72042|STD=0.02447|Time spend=52.727548599243164\n",
      "\tVALENCE-s14|Acc=0.80583|10-CV=0.74708|STD=0.03396|Time spend=55.23702430725098\n",
      "\tVALENCE-s15|Acc=0.86542|10-CV=0.815|STD=0.03271|Time spend=43.14983105659485\n",
      "\tVALENCE-s16|Acc=0.75792|10-CV=0.6725|STD=0.03282|Time spend=62.5923752784729\n",
      "\tVALENCE-s17|Acc=0.64958|10-CV=0.5825|STD=0.03836|Time spend=70.45051431655884\n",
      "\tVALENCE-s18|Acc=0.81417|10-CV=0.76167|STD=0.02945|Time spend=45.98915457725525\n",
      "\tVALENCE-s19|Acc=0.75708|10-CV=0.67417|STD=0.03259|Time spend=62.86282658576965\n",
      "\tVALENCE-s20|Acc=0.78958|10-CV=0.74292|STD=0.01237|Time spend=56.08211016654968\n",
      "\tVALENCE-s21|Acc=0.73208|10-CV=0.61667|STD=0.03589|Time spend=70.58265805244446\n",
      "\tVALENCE-s22|Acc=0.74042|10-CV=0.69625|STD=0.02368|Time spend=58.81048941612244\n",
      "\tVALENCE-s23|Acc=0.82167|10-CV=0.70333|STD=0.03122|Time spend=69.6779248714447\n",
      "\tVALENCE-s24|Acc=0.7675|10-CV=0.69458|STD=0.02869|Time spend=63.65571594238281\n",
      "\tVALENCE-s25|Acc=0.65375|10-CV=0.61958|STD=0.01134|Time spend=66.88339257240295\n",
      "\tVALENCE-s26|Acc=0.61875|10-CV=0.60375|STD=0.00224|Time spend=70.17567753791809\n",
      "\tVALENCE-s27|Acc=0.79583|10-CV=0.70958|STD=0.01537|Time spend=60.33087968826294\n",
      "\tVALENCE-s28|Acc=0.71958|10-CV=0.65292|STD=0.01625|Time spend=63.5604043006897\n",
      "\tVALENCE-s29|Acc=0.74792|10-CV=0.65208|STD=0.02657|Time spend=67.24471092224121\n",
      "\tVALENCE-s30|Acc=0.72|10-CV=0.695|STD=0.02442|Time spend=61.255621671676636\n",
      "\tVALENCE-s31|Acc=0.73417|10-CV=0.62875|STD=0.03137|Time spend=69.45246839523315\n",
      "\tVALENCE-s32|Acc=0.73417|10-CV=0.63333|STD=0.0235|Time spend=67.35180425643921\n",
      "VALENCE|Acc=0.7545312499999999|10-CV=0.6848828125|STD=0.0241290422042518\n",
      "TOTAL|Acc=0.7405598958333334|10-CV=0.6727278645833332|STD=0.021935752843126103\n"
     ]
    }
   ],
   "source": [
    "accs_v, cv_means_v, cv_stds_v = [],[],[]\n",
    "for filename in tqdm(dataset.get_file_list()):\n",
    "    start = time.time()\n",
    "    X = load(f\"X_PLV_VALENCE_{filename}\")\n",
    "    assert X.shape == (2400,2112)\n",
    "    _, labels = dataset.get_data_numpy(filename, stimuli=Dataset_subjectDependent.STIMULI_VALENCE, split=False)\n",
    "    _, acc, cross = train_model(X, labels.reshape(-1))\n",
    "    print(f\"\\tVALENCE-{filename}|Acc={round(acc,5)}|10-CV={round(cross.mean(),5)}|STD={round(cross.std(),5)}|Time spend={time.time() - start}\")\n",
    "    accs_v.append(acc)\n",
    "    cv_means_v.append(cross.mean())\n",
    "    cv_stds_v.append(cross.std())\n",
    "print(f\"VALENCE|Acc={sum(accs_v)/len(accs_v)}|10-CV={sum(cv_means_v)/len(cv_means_v)}|STD={sum(cv_stds_v)/len(cv_stds_v)}\")\n",
    "\n",
    "accs.extend(accs_v)\n",
    "cv_means.extend(cv_means_v)\n",
    "cv_stds.extend(cv_stds_v)\n",
    "\n",
    "print(f\"TOTAL|Acc={sum(accs)/len(accs)}|10-CV={sum(cv_means)/len(cv_means)}|STD={sum(cv_stds)/len(cv_stds)}\")"
   ]
  },
  {
   "cell_type": "markdown",
   "metadata": {},
   "source": [
    "## 5. CSP"
   ]
  },
  {
   "cell_type": "code",
   "execution_count": 30,
   "metadata": {},
   "outputs": [],
   "source": [
    "from components.CSP import CSP\n",
    "from mne_features.feature_extraction import FeatureExtractor\n",
    "\n",
    "bands = [(0,4), (4,8), (8,12), (12,30), (30,64)]\n",
    "# [alias_feature_function]__[optional_param]\n",
    "params = dict({\n",
    "    'pow_freq_bands__log':True,\n",
    "    'pow_freq_bands__normalize':False,\n",
    "    'pow_freq_bands__freq_bands':bands\n",
    "})"
   ]
  },
  {
   "cell_type": "code",
   "execution_count": 35,
   "metadata": {},
   "outputs": [
    {
     "data": {
      "application/vnd.jupyter.widget-view+json": {
       "model_id": "b5725960fecf487bbe5471e8dbd715c8",
       "version_major": 2,
       "version_minor": 0
      },
      "text/plain": [
       "  0%|          | 0/32 [00:00<?, ?it/s]"
      ]
     },
     "metadata": {},
     "output_type": "display_data"
    },
    {
     "name": "stdout",
     "output_type": "stream",
     "text": [
      "\tAROUSAL-s01|Acc=0.575|10-CV=0.56833|STD=0.02597|Time spend=54.61695194244385\n"
     ]
    },
    {
     "name": "stderr",
     "output_type": "stream",
     "text": [
      "/root/projects/components/CSP.py:78: ComplexWarning: Casting complex values to real discards the imaginary part\n",
      "  return SFa.astype(np.float32)\n"
     ]
    },
    {
     "name": "stdout",
     "output_type": "stream",
     "text": [
      "\tAROUSAL-s02|Acc=0.63458|10-CV=0.62125|STD=0.03187|Time spend=6.6895201206207275\n"
     ]
    },
    {
     "name": "stderr",
     "output_type": "stream",
     "text": [
      "/root/projects/components/CSP.py:78: ComplexWarning: Casting complex values to real discards the imaginary part\n",
      "  return SFa.astype(np.float32)\n"
     ]
    },
    {
     "name": "stdout",
     "output_type": "stream",
     "text": [
      "\tAROUSAL-s03|Acc=0.69917|10-CV=0.69208|STD=0.01923|Time spend=5.09550666809082\n"
     ]
    },
    {
     "name": "stderr",
     "output_type": "stream",
     "text": [
      "/root/projects/components/CSP.py:78: ComplexWarning: Casting complex values to real discards the imaginary part\n",
      "  return SFa.astype(np.float32)\n"
     ]
    },
    {
     "name": "stdout",
     "output_type": "stream",
     "text": [
      "\tAROUSAL-s04|Acc=0.65292|10-CV=0.64|STD=0.02151|Time spend=5.684126615524292\n"
     ]
    },
    {
     "name": "stderr",
     "output_type": "stream",
     "text": [
      "/root/projects/components/CSP.py:78: ComplexWarning: Casting complex values to real discards the imaginary part\n",
      "  return SFa.astype(np.float32)\n"
     ]
    },
    {
     "name": "stdout",
     "output_type": "stream",
     "text": [
      "\tAROUSAL-s05|Acc=0.565|10-CV=0.55708|STD=0.01514|Time spend=7.280527114868164\n"
     ]
    },
    {
     "name": "stderr",
     "output_type": "stream",
     "text": [
      "/root/projects/components/CSP.py:78: ComplexWarning: Casting complex values to real discards the imaginary part\n",
      "  return SFa.astype(np.float32)\n"
     ]
    },
    {
     "name": "stdout",
     "output_type": "stream",
     "text": [
      "\tAROUSAL-s06|Acc=0.61|10-CV=0.60458|STD=0.00542|Time spend=7.0535571575164795\n"
     ]
    },
    {
     "name": "stderr",
     "output_type": "stream",
     "text": [
      "/root/projects/components/CSP.py:78: ComplexWarning: Casting complex values to real discards the imaginary part\n",
      "  return SFa.astype(np.float32)\n"
     ]
    },
    {
     "name": "stdout",
     "output_type": "stream",
     "text": [
      "\tAROUSAL-s07|Acc=0.625|10-CV=0.625|STD=0.0|Time spend=6.985548734664917\n"
     ]
    },
    {
     "name": "stderr",
     "output_type": "stream",
     "text": [
      "/root/projects/components/CSP.py:78: ComplexWarning: Casting complex values to real discards the imaginary part\n",
      "  return SFa.astype(np.float32)\n"
     ]
    },
    {
     "name": "stdout",
     "output_type": "stream",
     "text": [
      "\tAROUSAL-s08|Acc=0.63542|10-CV=0.63375|STD=0.00542|Time spend=6.404637813568115\n"
     ]
    },
    {
     "name": "stderr",
     "output_type": "stream",
     "text": [
      "/root/projects/components/CSP.py:78: ComplexWarning: Casting complex values to real discards the imaginary part\n",
      "  return SFa.astype(np.float32)\n"
     ]
    },
    {
     "name": "stdout",
     "output_type": "stream",
     "text": [
      "\tAROUSAL-s09|Acc=0.58708|10-CV=0.57333|STD=0.0175|Time spend=6.743951320648193\n"
     ]
    },
    {
     "name": "stderr",
     "output_type": "stream",
     "text": [
      "/root/projects/components/CSP.py:78: ComplexWarning: Casting complex values to real discards the imaginary part\n",
      "  return SFa.astype(np.float32)\n"
     ]
    },
    {
     "name": "stdout",
     "output_type": "stream",
     "text": [
      "\tAROUSAL-s10|Acc=0.6475|10-CV=0.6375|STD=0.02575|Time spend=5.792233228683472\n"
     ]
    },
    {
     "name": "stderr",
     "output_type": "stream",
     "text": [
      "/root/projects/components/CSP.py:78: ComplexWarning: Casting complex values to real discards the imaginary part\n",
      "  return SFa.astype(np.float32)\n"
     ]
    },
    {
     "name": "stdout",
     "output_type": "stream",
     "text": [
      "\tAROUSAL-s11|Acc=0.56958|10-CV=0.5575|STD=0.02435|Time spend=6.315411567687988\n"
     ]
    },
    {
     "name": "stderr",
     "output_type": "stream",
     "text": [
      "/root/projects/components/CSP.py:78: ComplexWarning: Casting complex values to real discards the imaginary part\n",
      "  return SFa.astype(np.float32)\n"
     ]
    },
    {
     "name": "stdout",
     "output_type": "stream",
     "text": [
      "\tAROUSAL-s12|Acc=0.62083|10-CV=0.59458|STD=0.03318|Time spend=5.7657506465911865\n"
     ]
    },
    {
     "name": "stderr",
     "output_type": "stream",
     "text": [
      "/root/projects/components/CSP.py:78: ComplexWarning: Casting complex values to real discards the imaginary part\n",
      "  return SFa.astype(np.float32)\n"
     ]
    },
    {
     "name": "stdout",
     "output_type": "stream",
     "text": [
      "\tAROUSAL-s13|Acc=0.67292|10-CV=0.665|STD=0.02093|Time spend=5.509474992752075\n"
     ]
    },
    {
     "name": "stderr",
     "output_type": "stream",
     "text": [
      "/root/projects/components/CSP.py:78: ComplexWarning: Casting complex values to real discards the imaginary part\n",
      "  return SFa.astype(np.float32)\n"
     ]
    },
    {
     "name": "stdout",
     "output_type": "stream",
     "text": [
      "\tAROUSAL-s14|Acc=0.61333|10-CV=0.59083|STD=0.04329|Time spend=6.171212196350098\n"
     ]
    },
    {
     "name": "stderr",
     "output_type": "stream",
     "text": [
      "/root/projects/components/CSP.py:78: ComplexWarning: Casting complex values to real discards the imaginary part\n",
      "  return SFa.astype(np.float32)\n"
     ]
    },
    {
     "name": "stdout",
     "output_type": "stream",
     "text": [
      "\tAROUSAL-s15|Acc=0.63042|10-CV=0.60917|STD=0.02082|Time spend=6.5671679973602295\n"
     ]
    },
    {
     "name": "stderr",
     "output_type": "stream",
     "text": [
      "/root/projects/components/CSP.py:78: ComplexWarning: Casting complex values to real discards the imaginary part\n",
      "  return SFa.astype(np.float32)\n"
     ]
    },
    {
     "name": "stdout",
     "output_type": "stream",
     "text": [
      "\tAROUSAL-s16|Acc=0.64792|10-CV=0.6425|STD=0.02333|Time spend=5.957169532775879\n"
     ]
    },
    {
     "name": "stderr",
     "output_type": "stream",
     "text": [
      "/root/projects/components/CSP.py:78: ComplexWarning: Casting complex values to real discards the imaginary part\n",
      "  return SFa.astype(np.float32)\n"
     ]
    },
    {
     "name": "stdout",
     "output_type": "stream",
     "text": [
      "\tAROUSAL-s17|Acc=0.60208|10-CV=0.57958|STD=0.02919|Time spend=6.417904853820801\n"
     ]
    },
    {
     "name": "stderr",
     "output_type": "stream",
     "text": [
      "/root/projects/components/CSP.py:78: ComplexWarning: Casting complex values to real discards the imaginary part\n",
      "  return SFa.astype(np.float32)\n"
     ]
    },
    {
     "name": "stdout",
     "output_type": "stream",
     "text": [
      "\tAROUSAL-s18|Acc=0.61833|10-CV=0.59375|STD=0.02374|Time spend=6.42040491104126\n"
     ]
    },
    {
     "name": "stderr",
     "output_type": "stream",
     "text": [
      "/root/projects/components/CSP.py:78: ComplexWarning: Casting complex values to real discards the imaginary part\n",
      "  return SFa.astype(np.float32)\n"
     ]
    },
    {
     "name": "stdout",
     "output_type": "stream",
     "text": [
      "\tAROUSAL-s19|Acc=0.5725|10-CV=0.56208|STD=0.03132|Time spend=6.557281017303467\n"
     ]
    },
    {
     "name": "stderr",
     "output_type": "stream",
     "text": [
      "/root/projects/components/CSP.py:78: ComplexWarning: Casting complex values to real discards the imaginary part\n",
      "  return SFa.astype(np.float32)\n"
     ]
    },
    {
     "name": "stdout",
     "output_type": "stream",
     "text": [
      "\tAROUSAL-s20|Acc=0.6|10-CV=0.59083|STD=0.00717|Time spend=6.274605751037598\n"
     ]
    },
    {
     "name": "stderr",
     "output_type": "stream",
     "text": [
      "/root/projects/components/CSP.py:78: ComplexWarning: Casting complex values to real discards the imaginary part\n",
      "  return SFa.astype(np.float32)\n"
     ]
    },
    {
     "name": "stdout",
     "output_type": "stream",
     "text": [
      "\tAROUSAL-s21|Acc=0.58542|10-CV=0.55583|STD=0.02487|Time spend=6.27742075920105\n"
     ]
    },
    {
     "name": "stderr",
     "output_type": "stream",
     "text": [
      "/root/projects/components/CSP.py:78: ComplexWarning: Casting complex values to real discards the imaginary part\n",
      "  return SFa.astype(np.float32)\n"
     ]
    },
    {
     "name": "stdout",
     "output_type": "stream",
     "text": [
      "\tAROUSAL-s22|Acc=0.57917|10-CV=0.56042|STD=0.0223|Time spend=6.3243818283081055\n"
     ]
    },
    {
     "name": "stderr",
     "output_type": "stream",
     "text": [
      "/root/projects/components/CSP.py:78: ComplexWarning: Casting complex values to real discards the imaginary part\n",
      "  return SFa.astype(np.float32)\n"
     ]
    },
    {
     "name": "stdout",
     "output_type": "stream",
     "text": [
      "\tAROUSAL-s23|Acc=0.5725|10-CV=0.55542|STD=0.02252|Time spend=6.433392763137817\n"
     ]
    },
    {
     "name": "stderr",
     "output_type": "stream",
     "text": [
      "/root/projects/components/CSP.py:78: ComplexWarning: Casting complex values to real discards the imaginary part\n",
      "  return SFa.astype(np.float32)\n"
     ]
    },
    {
     "name": "stdout",
     "output_type": "stream",
     "text": [
      "\tAROUSAL-s24|Acc=0.7075|10-CV=0.70542|STD=0.02851|Time spend=5.481907367706299\n"
     ]
    },
    {
     "name": "stderr",
     "output_type": "stream",
     "text": [
      "/root/projects/components/CSP.py:78: ComplexWarning: Casting complex values to real discards the imaginary part\n",
      "  return SFa.astype(np.float32)\n"
     ]
    },
    {
     "name": "stdout",
     "output_type": "stream",
     "text": [
      "\tAROUSAL-s25|Acc=0.64|10-CV=0.62667|STD=0.02366|Time spend=6.4026501178741455\n"
     ]
    },
    {
     "name": "stderr",
     "output_type": "stream",
     "text": [
      "/root/projects/components/CSP.py:78: ComplexWarning: Casting complex values to real discards the imaginary part\n",
      "  return SFa.astype(np.float32)\n"
     ]
    },
    {
     "name": "stdout",
     "output_type": "stream",
     "text": [
      "\tAROUSAL-s26|Acc=0.6|10-CV=0.6|STD=0.0|Time spend=7.759684801101685\n"
     ]
    },
    {
     "name": "stderr",
     "output_type": "stream",
     "text": [
      "/root/projects/components/CSP.py:78: ComplexWarning: Casting complex values to real discards the imaginary part\n",
      "  return SFa.astype(np.float32)\n"
     ]
    },
    {
     "name": "stdout",
     "output_type": "stream",
     "text": [
      "\tAROUSAL-s27|Acc=0.67792|10-CV=0.66167|STD=0.01795|Time spend=6.110239028930664\n"
     ]
    },
    {
     "name": "stderr",
     "output_type": "stream",
     "text": [
      "/root/projects/components/CSP.py:78: ComplexWarning: Casting complex values to real discards the imaginary part\n",
      "  return SFa.astype(np.float32)\n"
     ]
    },
    {
     "name": "stdout",
     "output_type": "stream",
     "text": [
      "\tAROUSAL-s28|Acc=0.61958|10-CV=0.60583|STD=0.0192|Time spend=5.866818189620972\n"
     ]
    },
    {
     "name": "stderr",
     "output_type": "stream",
     "text": [
      "/root/projects/components/CSP.py:78: ComplexWarning: Casting complex values to real discards the imaginary part\n",
      "  return SFa.astype(np.float32)\n"
     ]
    },
    {
     "name": "stdout",
     "output_type": "stream",
     "text": [
      "\tAROUSAL-s29|Acc=0.65125|10-CV=0.6475|STD=0.03487|Time spend=6.088446378707886\n"
     ]
    },
    {
     "name": "stderr",
     "output_type": "stream",
     "text": [
      "/root/projects/components/CSP.py:78: ComplexWarning: Casting complex values to real discards the imaginary part\n",
      "  return SFa.astype(np.float32)\n"
     ]
    },
    {
     "name": "stdout",
     "output_type": "stream",
     "text": [
      "\tAROUSAL-s30|Acc=0.66083|10-CV=0.64125|STD=0.02729|Time spend=5.268497467041016\n"
     ]
    },
    {
     "name": "stderr",
     "output_type": "stream",
     "text": [
      "/root/projects/components/CSP.py:78: ComplexWarning: Casting complex values to real discards the imaginary part\n",
      "  return SFa.astype(np.float32)\n"
     ]
    },
    {
     "name": "stdout",
     "output_type": "stream",
     "text": [
      "\tAROUSAL-s31|Acc=0.66333|10-CV=0.64083|STD=0.03744|Time spend=5.89745569229126\n"
     ]
    },
    {
     "name": "stderr",
     "output_type": "stream",
     "text": [
      "/root/projects/components/CSP.py:78: ComplexWarning: Casting complex values to real discards the imaginary part\n",
      "  return SFa.astype(np.float32)\n"
     ]
    },
    {
     "name": "stdout",
     "output_type": "stream",
     "text": [
      "\tAROUSAL-s32|Acc=0.59292|10-CV=0.57542|STD=0.02544|Time spend=5.9968421459198\n",
      "AROUSAL|Acc=0.6228125000000002|10-CV=0.60984375|STD=0.02216186258106818\n"
     ]
    }
   ],
   "source": [
    "accs, cv_means, cv_stds = [],[],[]\n",
    "for filename in tqdm(dataset.get_file_list()):\n",
    "\n",
    "    data, label = dataset.get_data_numpy(filename, stimuli=Dataset_subjectDependent.STIMULI_AROUSAL, split=False)\n",
    "    label = label.squeeze()\n",
    "    start = time.time()\n",
    "    filters = CSP(data[label==0], data[label==1])\n",
    "    \n",
    "    csp_data = []\n",
    "    for index in range(len(data)):\n",
    "        \n",
    "        # (672, 32) @ (32, 32) = (672, 32)\n",
    "        csp = data[index].T @ filters[label[index].astype(int)]\n",
    "        # (1, 32, 672)\n",
    "        csp = np.expand_dims(csp.T, axis=0)\n",
    "        csp_data.append(csp)\n",
    "\n",
    "    csp_data = np.vstack(csp_data)\n",
    "    # print(csp_data.shape) => (2400, 32, 128)\n",
    "    fe = FeatureExtractor(sfreq=128, selected_funcs=['pow_freq_bands'],params=params,n_jobs=8)\n",
    "    X = fe.fit_transform(X=csp_data)\n",
    "    # print(X.shape, time.time() - start) => (2400, 160) 1.2374355792999268\n",
    "\n",
    "    assert X.shape == (2400,160)\n",
    "    _, labels = dataset.get_data_numpy(filename, stimuli=Dataset_subjectDependent.STIMULI_VALENCE, split=False)\n",
    "    _, acc, cross = train_model(X, labels.reshape(-1))\n",
    "    print(f\"\\tAROUSAL-{filename}|Acc={round(acc,5)}|10-CV={round(cross.mean(),5)}|STD={round(cross.std(),5)}|Time spend={time.time() - start}\")\n",
    "    accs.append(acc)\n",
    "    cv_means.append(cross.mean())\n",
    "    cv_stds.append(cross.std())\n",
    "print(f\"AROUSAL|Acc={sum(accs)/len(accs)}|10-CV={sum(cv_means)/len(cv_means)}|STD={sum(cv_stds)/len(cv_stds)}\")"
   ]
  },
  {
   "cell_type": "code",
   "execution_count": 36,
   "metadata": {},
   "outputs": [
    {
     "data": {
      "application/vnd.jupyter.widget-view+json": {
       "model_id": "a7bc216295d6409690525a6dbe4df5d7",
       "version_major": 2,
       "version_minor": 0
      },
      "text/plain": [
       "  0%|          | 0/32 [00:00<?, ?it/s]"
      ]
     },
     "metadata": {},
     "output_type": "display_data"
    },
    {
     "name": "stderr",
     "output_type": "stream",
     "text": [
      "/root/projects/components/CSP.py:78: ComplexWarning: Casting complex values to real discards the imaginary part\n",
      "  return SFa.astype(np.float32)\n"
     ]
    },
    {
     "name": "stdout",
     "output_type": "stream",
     "text": [
      "\tVALENCE-s01|Acc=0.70708|10-CV=0.69708|STD=0.02814|Time spend=5.238353967666626\n"
     ]
    },
    {
     "name": "stderr",
     "output_type": "stream",
     "text": [
      "/root/projects/components/CSP.py:78: ComplexWarning: Casting complex values to real discards the imaginary part\n",
      "  return SFa.astype(np.float32)\n"
     ]
    },
    {
     "name": "stdout",
     "output_type": "stream",
     "text": [
      "\tVALENCE-s02|Acc=0.99708|10-CV=0.99667|STD=0.00363|Time spend=1.6159617900848389\n"
     ]
    },
    {
     "name": "stderr",
     "output_type": "stream",
     "text": [
      "/root/projects/components/CSP.py:78: ComplexWarning: Casting complex values to real discards the imaginary part\n",
      "  return SFa.astype(np.float32)\n"
     ]
    },
    {
     "name": "stdout",
     "output_type": "stream",
     "text": [
      "\tVALENCE-s03|Acc=0.84125|10-CV=0.83333|STD=0.02493|Time spend=3.866022825241089\n"
     ]
    },
    {
     "name": "stderr",
     "output_type": "stream",
     "text": [
      "/root/projects/components/CSP.py:78: ComplexWarning: Casting complex values to real discards the imaginary part\n",
      "  return SFa.astype(np.float32)\n"
     ]
    },
    {
     "name": "stdout",
     "output_type": "stream",
     "text": [
      "\tVALENCE-s04|Acc=0.65292|10-CV=0.63625|STD=0.02133|Time spend=5.90047812461853\n"
     ]
    },
    {
     "name": "stderr",
     "output_type": "stream",
     "text": [
      "/root/projects/components/CSP.py:78: ComplexWarning: Casting complex values to real discards the imaginary part\n",
      "  return SFa.astype(np.float32)\n"
     ]
    },
    {
     "name": "stdout",
     "output_type": "stream",
     "text": [
      "\tVALENCE-s05|Acc=0.79|10-CV=0.78|STD=0.02533|Time spend=4.976951599121094\n"
     ]
    },
    {
     "name": "stderr",
     "output_type": "stream",
     "text": [
      "/root/projects/components/CSP.py:78: ComplexWarning: Casting complex values to real discards the imaginary part\n",
      "  return SFa.astype(np.float32)\n"
     ]
    },
    {
     "name": "stdout",
     "output_type": "stream",
     "text": [
      "\tVALENCE-s06|Acc=0.61875|10-CV=0.60375|STD=0.00863|Time spend=6.679641008377075\n"
     ]
    },
    {
     "name": "stderr",
     "output_type": "stream",
     "text": [
      "/root/projects/components/CSP.py:78: ComplexWarning: Casting complex values to real discards the imaginary part\n",
      "  return SFa.astype(np.float32)\n"
     ]
    },
    {
     "name": "stdout",
     "output_type": "stream",
     "text": [
      "\tVALENCE-s07|Acc=1.0|10-CV=1.0|STD=0.0|Time spend=1.776179313659668\n"
     ]
    },
    {
     "name": "stderr",
     "output_type": "stream",
     "text": [
      "/root/projects/components/CSP.py:78: ComplexWarning: Casting complex values to real discards the imaginary part\n",
      "  return SFa.astype(np.float32)\n"
     ]
    },
    {
     "name": "stdout",
     "output_type": "stream",
     "text": [
      "\tVALENCE-s08|Acc=0.8425|10-CV=0.83583|STD=0.02085|Time spend=4.159879684448242\n"
     ]
    },
    {
     "name": "stderr",
     "output_type": "stream",
     "text": [
      "/root/projects/components/CSP.py:78: ComplexWarning: Casting complex values to real discards the imaginary part\n",
      "  return SFa.astype(np.float32)\n"
     ]
    },
    {
     "name": "stdout",
     "output_type": "stream",
     "text": [
      "\tVALENCE-s09|Acc=0.87875|10-CV=0.87042|STD=0.01597|Time spend=3.6133508682250977\n"
     ]
    },
    {
     "name": "stderr",
     "output_type": "stream",
     "text": [
      "/root/projects/components/CSP.py:78: ComplexWarning: Casting complex values to real discards the imaginary part\n",
      "  return SFa.astype(np.float32)\n"
     ]
    },
    {
     "name": "stdout",
     "output_type": "stream",
     "text": [
      "\tVALENCE-s10|Acc=0.93625|10-CV=0.93292|STD=0.01078|Time spend=2.8163015842437744\n"
     ]
    },
    {
     "name": "stderr",
     "output_type": "stream",
     "text": [
      "/root/projects/components/CSP.py:78: ComplexWarning: Casting complex values to real discards the imaginary part\n",
      "  return SFa.astype(np.float32)\n"
     ]
    },
    {
     "name": "stdout",
     "output_type": "stream",
     "text": [
      "\tVALENCE-s11|Acc=0.99833|10-CV=0.9975|STD=0.00276|Time spend=4.489258050918579\n"
     ]
    },
    {
     "name": "stderr",
     "output_type": "stream",
     "text": [
      "/root/projects/components/CSP.py:78: ComplexWarning: Casting complex values to real discards the imaginary part\n",
      "  return SFa.astype(np.float32)\n"
     ]
    },
    {
     "name": "stdout",
     "output_type": "stream",
     "text": [
      "\tVALENCE-s12|Acc=0.62|10-CV=0.59333|STD=0.0238|Time spend=6.337089776992798\n"
     ]
    },
    {
     "name": "stderr",
     "output_type": "stream",
     "text": [
      "/root/projects/components/CSP.py:78: ComplexWarning: Casting complex values to real discards the imaginary part\n",
      "  return SFa.astype(np.float32)\n"
     ]
    },
    {
     "name": "stdout",
     "output_type": "stream",
     "text": [
      "\tVALENCE-s13|Acc=0.67292|10-CV=0.66375|STD=0.02357|Time spend=5.932385444641113\n"
     ]
    },
    {
     "name": "stderr",
     "output_type": "stream",
     "text": [
      "/root/projects/components/CSP.py:78: ComplexWarning: Casting complex values to real discards the imaginary part\n",
      "  return SFa.astype(np.float32)\n"
     ]
    },
    {
     "name": "stdout",
     "output_type": "stream",
     "text": [
      "\tVALENCE-s14|Acc=0.74375|10-CV=0.73583|STD=0.02721|Time spend=4.99970555305481\n"
     ]
    },
    {
     "name": "stderr",
     "output_type": "stream",
     "text": [
      "/root/projects/components/CSP.py:78: ComplexWarning: Casting complex values to real discards the imaginary part\n",
      "  return SFa.astype(np.float32)\n"
     ]
    },
    {
     "name": "stdout",
     "output_type": "stream",
     "text": [
      "\tVALENCE-s15|Acc=0.655|10-CV=0.65625|STD=0.02337|Time spend=5.786301374435425\n"
     ]
    },
    {
     "name": "stderr",
     "output_type": "stream",
     "text": [
      "/root/projects/components/CSP.py:78: ComplexWarning: Casting complex values to real discards the imaginary part\n",
      "  return SFa.astype(np.float32)\n"
     ]
    },
    {
     "name": "stdout",
     "output_type": "stream",
     "text": [
      "\tVALENCE-s16|Acc=0.65417|10-CV=0.64375|STD=0.03586|Time spend=5.976454973220825\n"
     ]
    },
    {
     "name": "stderr",
     "output_type": "stream",
     "text": [
      "/root/projects/components/CSP.py:78: ComplexWarning: Casting complex values to real discards the imaginary part\n",
      "  return SFa.astype(np.float32)\n"
     ]
    },
    {
     "name": "stdout",
     "output_type": "stream",
     "text": [
      "\tVALENCE-s17|Acc=0.57833|10-CV=0.55625|STD=0.03058|Time spend=6.955570697784424\n"
     ]
    },
    {
     "name": "stderr",
     "output_type": "stream",
     "text": [
      "/root/projects/components/CSP.py:78: ComplexWarning: Casting complex values to real discards the imaginary part\n",
      "  return SFa.astype(np.float32)\n"
     ]
    },
    {
     "name": "stdout",
     "output_type": "stream",
     "text": [
      "\tVALENCE-s18|Acc=0.61833|10-CV=0.59125|STD=0.02598|Time spend=6.713612079620361\n"
     ]
    },
    {
     "name": "stderr",
     "output_type": "stream",
     "text": [
      "/root/projects/components/CSP.py:78: ComplexWarning: Casting complex values to real discards the imaginary part\n",
      "  return SFa.astype(np.float32)\n"
     ]
    },
    {
     "name": "stdout",
     "output_type": "stream",
     "text": [
      "\tVALENCE-s19|Acc=0.57292|10-CV=0.55625|STD=0.03108|Time spend=6.5447540283203125\n"
     ]
    },
    {
     "name": "stderr",
     "output_type": "stream",
     "text": [
      "/root/projects/components/CSP.py:78: ComplexWarning: Casting complex values to real discards the imaginary part\n",
      "  return SFa.astype(np.float32)\n"
     ]
    },
    {
     "name": "stdout",
     "output_type": "stream",
     "text": [
      "\tVALENCE-s20|Acc=0.76292|10-CV=0.75417|STD=0.02694|Time spend=4.8529908657073975\n"
     ]
    },
    {
     "name": "stderr",
     "output_type": "stream",
     "text": [
      "/root/projects/components/CSP.py:78: ComplexWarning: Casting complex values to real discards the imaginary part\n",
      "  return SFa.astype(np.float32)\n"
     ]
    },
    {
     "name": "stdout",
     "output_type": "stream",
     "text": [
      "\tVALENCE-s21|Acc=0.88833|10-CV=0.88083|STD=0.01253|Time spend=3.8118462562561035\n"
     ]
    },
    {
     "name": "stderr",
     "output_type": "stream",
     "text": [
      "/root/projects/components/CSP.py:78: ComplexWarning: Casting complex values to real discards the imaginary part\n",
      "  return SFa.astype(np.float32)\n"
     ]
    },
    {
     "name": "stdout",
     "output_type": "stream",
     "text": [
      "\tVALENCE-s22|Acc=0.8725|10-CV=0.87|STD=0.0197|Time spend=3.717301845550537\n"
     ]
    },
    {
     "name": "stderr",
     "output_type": "stream",
     "text": [
      "/root/projects/components/CSP.py:78: ComplexWarning: Casting complex values to real discards the imaginary part\n",
      "  return SFa.astype(np.float32)\n"
     ]
    },
    {
     "name": "stdout",
     "output_type": "stream",
     "text": [
      "\tVALENCE-s23|Acc=0.71958|10-CV=0.70667|STD=0.02438|Time spend=5.064954519271851\n"
     ]
    },
    {
     "name": "stderr",
     "output_type": "stream",
     "text": [
      "/root/projects/components/CSP.py:78: ComplexWarning: Casting complex values to real discards the imaginary part\n",
      "  return SFa.astype(np.float32)\n"
     ]
    },
    {
     "name": "stdout",
     "output_type": "stream",
     "text": [
      "\tVALENCE-s24|Acc=0.9925|10-CV=0.99125|STD=0.00393|Time spend=2.16294002532959\n"
     ]
    },
    {
     "name": "stderr",
     "output_type": "stream",
     "text": [
      "/root/projects/components/CSP.py:78: ComplexWarning: Casting complex values to real discards the imaginary part\n",
      "  return SFa.astype(np.float32)\n"
     ]
    },
    {
     "name": "stdout",
     "output_type": "stream",
     "text": [
      "\tVALENCE-s25|Acc=0.94125|10-CV=0.93875|STD=0.01179|Time spend=2.6990692615509033\n"
     ]
    },
    {
     "name": "stderr",
     "output_type": "stream",
     "text": [
      "/root/projects/components/CSP.py:78: ComplexWarning: Casting complex values to real discards the imaginary part\n",
      "  return SFa.astype(np.float32)\n"
     ]
    },
    {
     "name": "stdout",
     "output_type": "stream",
     "text": [
      "\tVALENCE-s26|Acc=0.6|10-CV=0.59917|STD=0.0025|Time spend=6.901219367980957\n"
     ]
    },
    {
     "name": "stderr",
     "output_type": "stream",
     "text": [
      "/root/projects/components/CSP.py:78: ComplexWarning: Casting complex values to real discards the imaginary part\n",
      "  return SFa.astype(np.float32)\n"
     ]
    },
    {
     "name": "stdout",
     "output_type": "stream",
     "text": [
      "\tVALENCE-s27|Acc=0.74458|10-CV=0.74125|STD=0.02062|Time spend=5.035516738891602\n"
     ]
    },
    {
     "name": "stderr",
     "output_type": "stream",
     "text": [
      "/root/projects/components/CSP.py:78: ComplexWarning: Casting complex values to real discards the imaginary part\n",
      "  return SFa.astype(np.float32)\n"
     ]
    },
    {
     "name": "stdout",
     "output_type": "stream",
     "text": [
      "\tVALENCE-s28|Acc=0.61958|10-CV=0.60167|STD=0.02183|Time spend=6.199569463729858\n"
     ]
    },
    {
     "name": "stderr",
     "output_type": "stream",
     "text": [
      "/root/projects/components/CSP.py:78: ComplexWarning: Casting complex values to real discards the imaginary part\n",
      "  return SFa.astype(np.float32)\n"
     ]
    },
    {
     "name": "stdout",
     "output_type": "stream",
     "text": [
      "\tVALENCE-s29|Acc=0.99417|10-CV=0.99125|STD=0.00708|Time spend=2.485088586807251\n"
     ]
    },
    {
     "name": "stderr",
     "output_type": "stream",
     "text": [
      "/root/projects/components/CSP.py:78: ComplexWarning: Casting complex values to real discards the imaginary part\n",
      "  return SFa.astype(np.float32)\n"
     ]
    },
    {
     "name": "stdout",
     "output_type": "stream",
     "text": [
      "\tVALENCE-s30|Acc=0.87625|10-CV=0.87125|STD=0.01061|Time spend=3.785003423690796\n"
     ]
    },
    {
     "name": "stderr",
     "output_type": "stream",
     "text": [
      "/root/projects/components/CSP.py:78: ComplexWarning: Casting complex values to real discards the imaginary part\n",
      "  return SFa.astype(np.float32)\n"
     ]
    },
    {
     "name": "stdout",
     "output_type": "stream",
     "text": [
      "\tVALENCE-s31|Acc=0.555|10-CV=0.54708|STD=0.00747|Time spend=6.546914100646973\n"
     ]
    },
    {
     "name": "stderr",
     "output_type": "stream",
     "text": [
      "/root/projects/components/CSP.py:78: ComplexWarning: Casting complex values to real discards the imaginary part\n",
      "  return SFa.astype(np.float32)\n"
     ]
    },
    {
     "name": "stdout",
     "output_type": "stream",
     "text": [
      "\tVALENCE-s32|Acc=0.57417|10-CV=0.555|STD=0.02892|Time spend=6.225713729858398\n",
      "VALENCE|Acc=0.7662239583333333|10-CV=0.7571484375|STD=0.01819082529684967\n"
     ]
    }
   ],
   "source": [
    "accs_v, cv_means_v, cv_stds_v = [],[],[]\n",
    "for filename in tqdm(dataset.get_file_list()):\n",
    "\n",
    "    data, label = dataset.get_data_numpy(filename, stimuli=Dataset_subjectDependent.STIMULI_VALENCE, split=False)\n",
    "    label = label.squeeze()\n",
    "    start = time.time()\n",
    "    filters = CSP(data[label==0], data[label==1])\n",
    "    \n",
    "    csp_data = []\n",
    "    for index in range(len(data)):\n",
    "        \n",
    "        # (672, 32) @ (32, 32) = (672, 32)\n",
    "        csp = data[index].T @ filters[label[index].astype(int)]\n",
    "        # (1, 32, 672)\n",
    "        csp = np.expand_dims(csp.T, axis=0)\n",
    "        csp_data.append(csp)\n",
    "\n",
    "    csp_data = np.vstack(csp_data)\n",
    "    # print(csp_data.shape) => (2400, 32, 128)\n",
    "    fe = FeatureExtractor(sfreq=128, selected_funcs=['pow_freq_bands'],params=params,n_jobs=8)\n",
    "    X = fe.fit_transform(X=csp_data)\n",
    "    # print(X.shape, time.time() - start) => (2400, 160) 1.2374355792999268\n",
    "\n",
    "    assert X.shape == (2400,160)\n",
    "    _, labels = dataset.get_data_numpy(filename, stimuli=Dataset_subjectDependent.STIMULI_VALENCE, split=False)\n",
    "    _, acc, cross = train_model(X, labels.reshape(-1))\n",
    "    print(f\"\\tVALENCE-{filename}|Acc={round(acc,5)}|10-CV={round(cross.mean(),5)}|STD={round(cross.std(),5)}|Time spend={time.time() - start}\")\n",
    "    accs_v.append(acc)\n",
    "    cv_means_v.append(cross.mean())\n",
    "    cv_stds_v.append(cross.std())\n",
    "print(f\"VALENCE|Acc={sum(accs_v)/len(accs_v)}|10-CV={sum(cv_means_v)/len(cv_means_v)}|STD={sum(cv_stds_v)/len(cv_stds_v)}\")"
   ]
  },
  {
   "cell_type": "code",
   "execution_count": 37,
   "metadata": {},
   "outputs": [
    {
     "name": "stdout",
     "output_type": "stream",
     "text": [
      "TOTAL|Acc=0.6945182291666667|10-CV=0.6834960937500001|STD=0.020176343938958924\n"
     ]
    }
   ],
   "source": [
    "accs.extend(accs_v)\n",
    "cv_means.extend(cv_means_v)\n",
    "cv_stds.extend(cv_stds_v)\n",
    "\n",
    "print(f\"TOTAL|Acc={sum(accs)/len(accs)}|10-CV={sum(cv_means)/len(cv_means)}|STD={sum(cv_stds)/len(cv_stds)}\")"
   ]
  }
 ],
 "metadata": {
  "interpreter": {
   "hash": "27768773b483d82a9b2b839e3fa80b1be5789db7fd78df4eedef2df266871616"
  },
  "kernelspec": {
   "display_name": "Python 3.8.10 ('.venv': pipenv)",
   "language": "python",
   "name": "python3"
  },
  "language_info": {
   "codemirror_mode": {
    "name": "ipython",
    "version": 3
   },
   "file_extension": ".py",
   "mimetype": "text/x-python",
   "name": "python",
   "nbconvert_exporter": "python",
   "pygments_lexer": "ipython3",
   "version": "3.8.10"
  },
  "orig_nbformat": 4
 },
 "nbformat": 4,
 "nbformat_minor": 2
}
