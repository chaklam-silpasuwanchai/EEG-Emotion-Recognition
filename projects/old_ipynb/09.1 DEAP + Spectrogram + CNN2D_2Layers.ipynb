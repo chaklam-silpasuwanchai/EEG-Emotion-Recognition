{
 "cells": [
  {
   "cell_type": "markdown",
   "id": "ee2d394b",
   "metadata": {},
   "source": [
    "# DEAP Dataset + Spectrogram + CNN2D (2 layers)\n",
    "\n",
    "In this part, we shall try inputting the spectrogram into 2 layers of CNN2D.\n",
    "\n",
    "*Note that we will be only predicting the valence.  Feel free to work on the arousal yourself.*"
   ]
  },
  {
   "cell_type": "code",
   "execution_count": 1,
   "id": "7aeb22e7",
   "metadata": {},
   "outputs": [],
   "source": [
    "import torch\n",
    "import torch.nn as nn\n",
    "import torch.nn.functional as F\n",
    "import os, pickle\n",
    "\n",
    "# setting seed so that splitting process and training process can be reproduce\n",
    "torch.manual_seed(1)\n",
    "\n",
    "import numpy as np\n",
    "\n",
    "#refactoring components\n",
    "#maybe you want to take a look at these components, because we will be using them in the future series\n",
    "from components.dataset import Dataset, SpecDataset\n",
    "from components.helper import getLoaders, count_parameters, plot_performance\n",
    "from components.train import train, evaluate, initialize_weights"
   ]
  },
  {
   "cell_type": "markdown",
   "id": "2af3ac60",
   "metadata": {},
   "source": [
    "Set cuda accordingly."
   ]
  },
  {
   "cell_type": "code",
   "execution_count": 2,
   "id": "90656c0c",
   "metadata": {},
   "outputs": [
    {
     "name": "stdout",
     "output_type": "stream",
     "text": [
      "Configured device:  cuda\n"
     ]
    }
   ],
   "source": [
    "device = torch.device('cuda' if torch.cuda.is_available() else 'cpu')\n",
    "print(\"Configured device: \", device)"
   ]
  },
  {
   "cell_type": "markdown",
   "id": "3eb048d1",
   "metadata": {},
   "source": [
    "## 1. Loading the SpecDataset\n",
    "\n",
    "Here we gonna just refactor the code and put into the <code>components/dataset.py</code> folder"
   ]
  },
  {
   "cell_type": "code",
   "execution_count": 3,
   "id": "48c3241a",
   "metadata": {},
   "outputs": [],
   "source": [
    "path = \"data\"  #create a folder \"data\", and inside put s01.dat,....,s32.dat inside from the preprocessed folder from the DEAP dataset\n",
    "\n",
    "sample_rate = 128\n",
    "window_size = int(sample_rate)  #1s\n",
    "step_size = sample_rate * 0.5 #0.5s"
   ]
  },
  {
   "cell_type": "code",
   "execution_count": 4,
   "id": "efcc6828",
   "metadata": {},
   "outputs": [
    {
     "name": "stdout",
     "output_type": "stream",
     "text": [
      "Data shape:  torch.Size([7680, 32, 20, 65])\n",
      "Label shape:  torch.Size([7680, 1])\n"
     ]
    }
   ],
   "source": [
    "#def __init__(self, path, stim, sample_rate, window_size, step_size, segments):\n",
    "#6 here means breaking 60s video into 10 segments.  We have selected this from trial-and-error.  Too high or low leads to worse accuracy - that's what we found.\n",
    "dataset = SpecDataset(path, \"Valence\", sample_rate, window_size, step_size, 6)\n",
    "\n",
    "data  = dataset[:]['data']\n",
    "label = dataset[:]['label']\n",
    "\n",
    "print(\"Data shape: \" , data.shape)  # batches, channels, height, width\n",
    "print(\"Label shape: \", label.shape)  #two classes of valence"
   ]
  },
  {
   "cell_type": "markdown",
   "id": "77eeb477",
   "metadata": {
    "tags": []
   },
   "source": [
    "## 2. Defining the Model\n",
    "\n",
    "Convolution is a very simple idea.  For those who want to complete tutorial on CNN, you can visit my another tutorial on CNN here -> https://github.com/chaklam-silpasuwanchai/Python-for-Data-Science/blob/master/Lectures/03-PyTorch/03%20-%20Deep%20Learning%20-%20PyTorch%20-%20Convolutional%20Neural%20Network.ipynb"
   ]
  },
  {
   "cell_type": "markdown",
   "id": "00625e64",
   "metadata": {},
   "source": [
    "### Getting shape so we can make sure our convolution always work dynamically"
   ]
  },
  {
   "cell_type": "code",
   "execution_count": 5,
   "id": "4e1299cf",
   "metadata": {},
   "outputs": [],
   "source": [
    "conv2d1 = nn.Conv2d(32, 64, kernel_size=3, stride=1, padding=1)\n",
    "maxpool1 = nn.MaxPool2d(kernel_size=2)\n",
    "\n",
    "conv2d2 = nn.Conv2d(64, 128, kernel_size=3, stride=1, padding=1)\n",
    "maxpool2 = nn.MaxPool2d(kernel_size=2)"
   ]
  },
  {
   "cell_type": "code",
   "execution_count": 6,
   "id": "653a5b98",
   "metadata": {},
   "outputs": [
    {
     "data": {
      "text/plain": [
       "torch.Size([7680, 64, 20, 65])"
      ]
     },
     "execution_count": 6,
     "metadata": {},
     "output_type": "execute_result"
    }
   ],
   "source": [
    "out = conv2d1(data)\n",
    "out.shape"
   ]
  },
  {
   "cell_type": "code",
   "execution_count": 7,
   "id": "63e081c7",
   "metadata": {},
   "outputs": [
    {
     "data": {
      "text/plain": [
       "torch.Size([7680, 64, 10, 32])"
      ]
     },
     "execution_count": 7,
     "metadata": {},
     "output_type": "execute_result"
    }
   ],
   "source": [
    "out = maxpool1(out)\n",
    "out.shape"
   ]
  },
  {
   "cell_type": "code",
   "execution_count": 8,
   "id": "834c939b",
   "metadata": {},
   "outputs": [
    {
     "data": {
      "text/plain": [
       "torch.Size([7680, 128, 10, 32])"
      ]
     },
     "execution_count": 8,
     "metadata": {},
     "output_type": "execute_result"
    }
   ],
   "source": [
    "out = conv2d2(out)\n",
    "out.shape"
   ]
  },
  {
   "cell_type": "code",
   "execution_count": 9,
   "id": "ab8f36bd",
   "metadata": {},
   "outputs": [
    {
     "name": "stdout",
     "output_type": "stream",
     "text": [
      "torch.Size([7680, 128, 5, 16])\n"
     ]
    }
   ],
   "source": [
    "out = maxpool2(out)\n",
    "print(out.shape)\n",
    "final_shape = out.shape"
   ]
  },
  {
   "cell_type": "markdown",
   "id": "98118098",
   "metadata": {},
   "source": [
    "### Model Definition"
   ]
  },
  {
   "cell_type": "code",
   "execution_count": 10,
   "id": "373fa5f7",
   "metadata": {},
   "outputs": [],
   "source": [
    "# Convolutional neural network (two convolutional layers)\n",
    "class ConvNet(nn.Module):\n",
    "    def __init__(self, input_dim=32, output_dim=1):\n",
    "        super(ConvNet, self).__init__()\n",
    "        \n",
    "        #using sequential helps bind multiple operations together\n",
    "        self.layer1 = nn.Sequential(\n",
    "            #in_channel = 32, #out_channel = 64\n",
    "            nn.Conv2d(input_dim, input_dim*2, kernel_size=3, stride=1, padding=1),\n",
    "            nn.BatchNorm2d(input_dim*2),\n",
    "            nn.ReLU(),\n",
    "            nn.MaxPool2d(kernel_size=2))\n",
    "        \n",
    "        self.layer2 = nn.Sequential(\n",
    "            nn.Conv2d(input_dim*2, input_dim*4, kernel_size=3, stride=1, padding=1),\n",
    "            nn.BatchNorm2d(input_dim*4),\n",
    "            nn.ReLU(),\n",
    "            nn.MaxPool2d(kernel_size=2))\n",
    "        \n",
    "        self.fc = nn.Linear(final_shape[1]*final_shape[2]*final_shape[3], output_dim)\n",
    "        self.drop_out = nn.Dropout(p=0.2)  #zeroed 0.2% data\n",
    "        #after fc will be of shape [batch, 1]\n",
    "        \n",
    "    def forward(self, x):\n",
    "        #x shape: [batch, in_channel, img_width, img_height]\n",
    "        out = self.layer1(x)\n",
    "        out = self.drop_out(out)\n",
    "        out = self.layer2(out)\n",
    "        out = self.drop_out(out)\n",
    "        \n",
    "        out = out.reshape(out.size(0), -1)   #can also use .view()\n",
    "        #we squeeze so that it can be inputted into the fc layer\n",
    "        out = self.fc(out)\n",
    "        #after fc layer: shape: [batch, 1]\n",
    "        return out"
   ]
  },
  {
   "cell_type": "markdown",
   "id": "edf497cd",
   "metadata": {},
   "source": [
    "**Model init**: Let's init the class instance and create a workabout model."
   ]
  },
  {
   "cell_type": "code",
   "execution_count": 11,
   "id": "097ecc33",
   "metadata": {},
   "outputs": [
    {
     "data": {
      "text/plain": [
       "ConvNet(\n",
       "  (layer1): Sequential(\n",
       "    (0): Conv2d(32, 64, kernel_size=(3, 3), stride=(1, 1), padding=(1, 1))\n",
       "    (1): BatchNorm2d(64, eps=1e-05, momentum=0.1, affine=True, track_running_stats=True)\n",
       "    (2): ReLU()\n",
       "    (3): MaxPool2d(kernel_size=2, stride=2, padding=0, dilation=1, ceil_mode=False)\n",
       "  )\n",
       "  (layer2): Sequential(\n",
       "    (0): Conv2d(64, 128, kernel_size=(3, 3), stride=(1, 1), padding=(1, 1))\n",
       "    (1): BatchNorm2d(128, eps=1e-05, momentum=0.1, affine=True, track_running_stats=True)\n",
       "    (2): ReLU()\n",
       "    (3): MaxPool2d(kernel_size=2, stride=2, padding=0, dilation=1, ceil_mode=False)\n",
       "  )\n",
       "  (fc): Linear(in_features=10240, out_features=1, bias=True)\n",
       "  (drop_out): Dropout(p=0.2, inplace=False)\n",
       ")"
      ]
     },
     "execution_count": 11,
     "metadata": {},
     "output_type": "execute_result"
    }
   ],
   "source": [
    "input_dim     = 32 #we got 32 EEG channels\n",
    "output_dim    = 1  #we got 2 classes for our labels\n",
    "\n",
    "#define the model\n",
    "model = ConvNet(input_dim, output_dim)\n",
    "\n",
    "#send to cuda so we can use the GPU\n",
    "model = model.to(device)  \n",
    "\n",
    "#apply weights\n",
    "model.apply(initialize_weights)"
   ]
  },
  {
   "cell_type": "markdown",
   "id": "dd42c056",
   "metadata": {},
   "source": [
    "**Param count**: Let's also check the number of parameters used"
   ]
  },
  {
   "cell_type": "code",
   "execution_count": 12,
   "id": "e3c956ac",
   "metadata": {},
   "outputs": [
    {
     "name": "stdout",
     "output_type": "stream",
     "text": [
      "The model ConvNet has 102,977 trainable parameters\n"
     ]
    }
   ],
   "source": [
    "print(f'The model {type(model).__name__} has {count_parameters(model):,} trainable parameters')# Train the model"
   ]
  },
  {
   "cell_type": "markdown",
   "id": "79bfe63e",
   "metadata": {},
   "source": [
    "**Unit test**: Let's define a simple unit test, inputing some mock EEG data and see whether we got the desired output as 4 classes."
   ]
  },
  {
   "cell_type": "code",
   "execution_count": 13,
   "id": "a3dd1ed9",
   "metadata": {},
   "outputs": [
    {
     "name": "stdout",
     "output_type": "stream",
     "text": [
      "Prediction shape:  torch.Size([2, 1])\n",
      "Predictions:  tensor([[2.9348],\n",
      "        [3.4003]], device='cuda:0', grad_fn=<AddmmBackward>)\n"
     ]
    }
   ],
   "source": [
    "mock_batch_size = 2   \n",
    "mock_input_dim  = 32   \n",
    "mock_height     = data.shape[2]  #need to use real shape to make sure CNN layers work\n",
    "mock_width      = data.shape[3]\n",
    "\n",
    "#note that our model first layer is conv1d which expects (batch, channel, height, width)\n",
    "mock_eegdata = torch.rand(mock_batch_size, mock_input_dim, mock_height, mock_width).to(device)\n",
    "\n",
    "#let's try run the model by simply inserting the mockdata into the model; very similar to .fit\n",
    "predictions = model(mock_eegdata)\n",
    "\n",
    "#let's try to see the predictions whether it really outputs 2 unique classes - 0 and 1\n",
    "print(\"Prediction shape: \", predictions.shape)\n",
    "print(\"Predictions: \", predictions)\n",
    "\n",
    "#simple unit test\n",
    "assert predictions.shape[0] == mock_batch_size\n",
    "assert predictions.shape[1] == output_dim"
   ]
  },
  {
   "cell_type": "markdown",
   "id": "3f5307d0",
   "metadata": {},
   "source": [
    "## 3. Training"
   ]
  },
  {
   "cell_type": "markdown",
   "id": "d3061347",
   "metadata": {
    "tags": []
   },
   "source": [
    "### I. Batch Iterators\n",
    "\n",
    "To make it easier to manage, I have put this into our <code>components/helper.py</code>."
   ]
  },
  {
   "cell_type": "code",
   "execution_count": 14,
   "id": "fcc37fb4",
   "metadata": {},
   "outputs": [
    {
     "name": "stdout",
     "output_type": "stream",
     "text": [
      "Full Dataset size:  7680\n",
      "Train Dataset size: 5376\n",
      "Valid Dataset size: 1536\n",
      "Test Dataset size:  768\n",
      "\n"
     ]
    }
   ],
   "source": [
    "train_loader, val_loader, test_loader = getLoaders(dataset=dataset, batch_size=16)"
   ]
  },
  {
   "cell_type": "markdown",
   "id": "27d9f0f4",
   "metadata": {},
   "source": [
    "### II. Optimizers\n",
    "\n",
    "Optimizer simply refers to the one that gonna take care of the backpropagation process.  The commonly used optimizer is SGD and Adam, both are quite interchangeable.  Here we gonna use Adam.  In order to backpropagate, we gonna define a loss function using cross entropy loss, which is a common loss function for multi-class purposes."
   ]
  },
  {
   "cell_type": "code",
   "execution_count": 15,
   "id": "9ded4662",
   "metadata": {},
   "outputs": [],
   "source": [
    "import torch.optim as optim\n",
    "\n",
    "num_epochs = 50\n",
    "\n",
    "lr = 0.0001\n",
    "\n",
    "#can also try SGD which should not make too much of a difference\n",
    "optimizer = optim.Adam(model.parameters(), lr=lr) \n",
    "\n",
    "#combine sigmoid with binary entropy; binary entropy is used for binary classification\n",
    "criterion = nn.BCEWithLogitsLoss() "
   ]
  },
  {
   "cell_type": "markdown",
   "id": "a8ed30f8",
   "metadata": {
    "tags": []
   },
   "source": [
    "### III. Let's train!"
   ]
  },
  {
   "cell_type": "code",
   "execution_count": 16,
   "id": "8d2a3ce2",
   "metadata": {},
   "outputs": [
    {
     "name": "stdout",
     "output_type": "stream",
     "text": [
      "Epoch: 01 | Epoch Time: 0m 2s\n",
      "\t Train Loss: 0.818 | Train Acc: 53.07%\n",
      "\t Val. Loss: 0.688  |  Val. Acc: 57.88%\n",
      "Epoch: 02 | Epoch Time: 0m 2s\n",
      "\t Train Loss: 0.774 | Train Acc: 55.30%\n",
      "\t Val. Loss: 0.676  |  Val. Acc: 60.16%\n",
      "Epoch: 03 | Epoch Time: 0m 2s\n",
      "\t Train Loss: 0.722 | Train Acc: 59.00%\n",
      "\t Val. Loss: 0.647  |  Val. Acc: 61.85%\n",
      "Epoch: 04 | Epoch Time: 0m 1s\n",
      "\t Train Loss: 0.698 | Train Acc: 61.37%\n",
      "\t Val. Loss: 0.629  |  Val. Acc: 66.15%\n",
      "Epoch: 05 | Epoch Time: 0m 1s\n",
      "\t Train Loss: 0.653 | Train Acc: 63.39%\n",
      "\t Val. Loss: 0.631  |  Val. Acc: 64.13%\n",
      "Epoch: 06 | Epoch Time: 0m 1s\n",
      "\t Train Loss: 0.646 | Train Acc: 65.18%\n",
      "\t Val. Loss: 0.600  |  Val. Acc: 67.51%\n",
      "Epoch: 07 | Epoch Time: 0m 1s\n",
      "\t Train Loss: 0.625 | Train Acc: 66.93%\n",
      "\t Val. Loss: 0.613  |  Val. Acc: 66.28%\n",
      "Epoch: 08 | Epoch Time: 0m 1s\n",
      "\t Train Loss: 0.599 | Train Acc: 68.34%\n",
      "\t Val. Loss: 0.606  |  Val. Acc: 66.86%\n",
      "Epoch: 09 | Epoch Time: 0m 1s\n",
      "\t Train Loss: 0.584 | Train Acc: 68.88%\n",
      "\t Val. Loss: 0.591  |  Val. Acc: 67.90%\n",
      "Epoch: 10 | Epoch Time: 0m 1s\n",
      "\t Train Loss: 0.578 | Train Acc: 69.66%\n",
      "\t Val. Loss: 0.591  |  Val. Acc: 68.82%\n",
      "Epoch: 11 | Epoch Time: 0m 1s\n",
      "\t Train Loss: 0.571 | Train Acc: 70.74%\n",
      "\t Val. Loss: 0.592  |  Val. Acc: 70.77%\n",
      "Epoch: 12 | Epoch Time: 0m 1s\n",
      "\t Train Loss: 0.541 | Train Acc: 72.69%\n",
      "\t Val. Loss: 0.556  |  Val. Acc: 72.20%\n",
      "Epoch: 13 | Epoch Time: 0m 1s\n",
      "\t Train Loss: 0.519 | Train Acc: 74.50%\n",
      "\t Val. Loss: 0.540  |  Val. Acc: 73.31%\n",
      "Epoch: 14 | Epoch Time: 0m 1s\n",
      "\t Train Loss: 0.510 | Train Acc: 75.35%\n",
      "\t Val. Loss: 0.537  |  Val. Acc: 73.70%\n",
      "Epoch: 15 | Epoch Time: 0m 1s\n",
      "\t Train Loss: 0.493 | Train Acc: 75.89%\n",
      "\t Val. Loss: 0.536  |  Val. Acc: 74.22%\n",
      "Epoch: 16 | Epoch Time: 0m 1s\n",
      "\t Train Loss: 0.469 | Train Acc: 78.03%\n",
      "\t Val. Loss: 0.548  |  Val. Acc: 73.11%\n",
      "Epoch: 17 | Epoch Time: 0m 1s\n",
      "\t Train Loss: 0.475 | Train Acc: 77.10%\n",
      "\t Val. Loss: 0.560  |  Val. Acc: 72.07%\n",
      "Epoch: 18 | Epoch Time: 0m 1s\n",
      "\t Train Loss: 0.444 | Train Acc: 79.69%\n",
      "\t Val. Loss: 0.507  |  Val. Acc: 76.17%\n",
      "Epoch: 19 | Epoch Time: 0m 1s\n",
      "\t Train Loss: 0.438 | Train Acc: 79.46%\n",
      "\t Val. Loss: 0.503  |  Val. Acc: 76.30%\n",
      "Epoch: 20 | Epoch Time: 0m 1s\n",
      "\t Train Loss: 0.414 | Train Acc: 81.58%\n",
      "\t Val. Loss: 0.476  |  Val. Acc: 78.71%\n",
      "Epoch: 21 | Epoch Time: 0m 1s\n",
      "\t Train Loss: 0.401 | Train Acc: 82.12%\n",
      "\t Val. Loss: 0.514  |  Val. Acc: 73.89%\n",
      "Epoch: 22 | Epoch Time: 0m 1s\n",
      "\t Train Loss: 0.397 | Train Acc: 82.09%\n",
      "\t Val. Loss: 0.467  |  Val. Acc: 78.91%\n",
      "Epoch: 23 | Epoch Time: 0m 1s\n",
      "\t Train Loss: 0.385 | Train Acc: 83.04%\n",
      "\t Val. Loss: 0.457  |  Val. Acc: 79.49%\n",
      "Epoch: 24 | Epoch Time: 0m 1s\n",
      "\t Train Loss: 0.361 | Train Acc: 84.84%\n",
      "\t Val. Loss: 0.472  |  Val. Acc: 77.34%\n",
      "Epoch: 25 | Epoch Time: 0m 1s\n",
      "\t Train Loss: 0.357 | Train Acc: 84.47%\n",
      "\t Val. Loss: 0.479  |  Val. Acc: 76.76%\n",
      "Epoch: 26 | Epoch Time: 0m 1s\n",
      "\t Train Loss: 0.343 | Train Acc: 85.38%\n",
      "\t Val. Loss: 0.431  |  Val. Acc: 80.79%\n",
      "Epoch: 27 | Epoch Time: 0m 1s\n",
      "\t Train Loss: 0.339 | Train Acc: 86.22%\n",
      "\t Val. Loss: 0.449  |  Val. Acc: 78.97%\n",
      "Epoch: 28 | Epoch Time: 0m 1s\n",
      "\t Train Loss: 0.323 | Train Acc: 86.79%\n",
      "\t Val. Loss: 0.431  |  Val. Acc: 79.88%\n",
      "Epoch: 29 | Epoch Time: 0m 1s\n",
      "\t Train Loss: 0.308 | Train Acc: 86.96%\n",
      "\t Val. Loss: 0.451  |  Val. Acc: 78.32%\n",
      "Epoch: 30 | Epoch Time: 0m 1s\n",
      "\t Train Loss: 0.299 | Train Acc: 87.46%\n",
      "\t Val. Loss: 0.410  |  Val. Acc: 81.45%\n",
      "Epoch: 31 | Epoch Time: 0m 1s\n",
      "\t Train Loss: 0.285 | Train Acc: 88.97%\n",
      "\t Val. Loss: 0.400  |  Val. Acc: 82.75%\n",
      "Epoch: 32 | Epoch Time: 0m 1s\n",
      "\t Train Loss: 0.288 | Train Acc: 87.63%\n",
      "\t Val. Loss: 0.392  |  Val. Acc: 82.75%\n",
      "Epoch: 33 | Epoch Time: 0m 1s\n",
      "\t Train Loss: 0.263 | Train Acc: 89.84%\n",
      "\t Val. Loss: 0.390  |  Val. Acc: 82.81%\n",
      "Epoch: 34 | Epoch Time: 0m 1s\n",
      "\t Train Loss: 0.261 | Train Acc: 90.48%\n",
      "\t Val. Loss: 0.369  |  Val. Acc: 84.77%\n",
      "Epoch: 35 | Epoch Time: 0m 1s\n",
      "\t Train Loss: 0.251 | Train Acc: 90.35%\n",
      "\t Val. Loss: 0.370  |  Val. Acc: 84.18%\n",
      "Epoch: 36 | Epoch Time: 0m 1s\n",
      "\t Train Loss: 0.256 | Train Acc: 89.92%\n",
      "\t Val. Loss: 0.362  |  Val. Acc: 84.64%\n",
      "Epoch: 37 | Epoch Time: 0m 1s\n",
      "\t Train Loss: 0.233 | Train Acc: 91.63%\n",
      "\t Val. Loss: 0.365  |  Val. Acc: 84.05%\n",
      "Epoch: 38 | Epoch Time: 0m 1s\n",
      "\t Train Loss: 0.237 | Train Acc: 90.66%\n",
      "\t Val. Loss: 0.375  |  Val. Acc: 82.36%\n",
      "Epoch: 39 | Epoch Time: 0m 1s\n",
      "\t Train Loss: 0.231 | Train Acc: 91.33%\n",
      "\t Val. Loss: 0.346  |  Val. Acc: 85.09%\n",
      "Epoch: 40 | Epoch Time: 0m 1s\n",
      "\t Train Loss: 0.214 | Train Acc: 92.34%\n",
      "\t Val. Loss: 0.343  |  Val. Acc: 85.35%\n",
      "Epoch: 41 | Epoch Time: 0m 1s\n",
      "\t Train Loss: 0.208 | Train Acc: 91.65%\n",
      "\t Val. Loss: 0.328  |  Val. Acc: 86.85%\n",
      "Epoch: 42 | Epoch Time: 0m 1s\n",
      "\t Train Loss: 0.213 | Train Acc: 91.91%\n",
      "\t Val. Loss: 0.328  |  Val. Acc: 86.59%\n",
      "Epoch: 43 | Epoch Time: 0m 1s\n",
      "\t Train Loss: 0.190 | Train Acc: 93.51%\n",
      "\t Val. Loss: 0.360  |  Val. Acc: 83.66%\n",
      "Epoch: 44 | Epoch Time: 0m 1s\n",
      "\t Train Loss: 0.187 | Train Acc: 93.23%\n",
      "\t Val. Loss: 0.342  |  Val. Acc: 84.83%\n",
      "Epoch: 45 | Epoch Time: 0m 1s\n",
      "\t Train Loss: 0.180 | Train Acc: 93.38%\n",
      "\t Val. Loss: 0.326  |  Val. Acc: 86.33%\n",
      "Epoch: 46 | Epoch Time: 0m 1s\n",
      "\t Train Loss: 0.173 | Train Acc: 93.75%\n",
      "\t Val. Loss: 0.324  |  Val. Acc: 85.87%\n",
      "Epoch: 47 | Epoch Time: 0m 1s\n",
      "\t Train Loss: 0.160 | Train Acc: 94.44%\n",
      "\t Val. Loss: 0.318  |  Val. Acc: 86.65%\n",
      "Epoch: 48 | Epoch Time: 0m 1s\n",
      "\t Train Loss: 0.160 | Train Acc: 94.33%\n",
      "\t Val. Loss: 0.324  |  Val. Acc: 85.61%\n",
      "Epoch: 49 | Epoch Time: 0m 1s\n",
      "\t Train Loss: 0.156 | Train Acc: 94.46%\n",
      "\t Val. Loss: 0.314  |  Val. Acc: 86.85%\n",
      "Epoch: 50 | Epoch Time: 0m 1s\n",
      "\t Train Loss: 0.159 | Train Acc: 94.01%\n",
      "\t Val. Loss: 0.301  |  Val. Acc: 87.83%\n"
     ]
    }
   ],
   "source": [
    "model_saved_name = \"models/DEAP_Specgram_CNN2D_2layers.pt\"\n",
    "\n",
    "#trainer(num_epochs, model, train_loader, val_loader, optimizer, criterion, model_name, device, seq_len_first=False)\n",
    "train_losses, valid_losses, train_accs, valid_accs = train(num_epochs, model, train_loader, val_loader, optimizer, criterion, model_saved_name, device)"
   ]
  },
  {
   "cell_type": "markdown",
   "id": "5235d732",
   "metadata": {},
   "source": [
    "Let's plot the losses and acc for easier inspection"
   ]
  },
  {
   "cell_type": "code",
   "execution_count": 17,
   "id": "df8123b0",
   "metadata": {},
   "outputs": [
    {
     "data": {
      "image/png": "[encoded data removed]",
      "text/plain": [
       "<Figure size 720x432 with 1 Axes>"
      ]
     },
     "metadata": {
      "needs_background": "light"
     },
     "output_type": "display_data"
    },
    {
     "data": {
      "image/png": "[encoded data removed]",
      "text/plain": [
       "<Figure size 720x432 with 1 Axes>"
      ]
     },
     "metadata": {
      "needs_background": "light"
     },
     "output_type": "display_data"
    }
   ],
   "source": [
    "plot_performance(train_losses, valid_losses, \"loss\")\n",
    "plot_performance(train_accs, valid_accs, \"acc\")"
   ]
  },
  {
   "cell_type": "markdown",
   "id": "f53c5f3a",
   "metadata": {},
   "source": [
    "## 4. Evaluation on test set"
   ]
  },
  {
   "cell_type": "code",
   "execution_count": 18,
   "id": "97ca46e9",
   "metadata": {},
   "outputs": [
    {
     "name": "stdout",
     "output_type": "stream",
     "text": [
      "Test Loss: 0.305 | Test Acc: 87.76%\n"
     ]
    }
   ],
   "source": [
    "model.load_state_dict(torch.load(model_saved_name))\n",
    "test_loss, test_acc = evaluate(model, test_loader, criterion, device)\n",
    "\n",
    "print(f'Test Loss: {test_loss:.3f} | Test Acc: {test_acc*100:.2f}%')"
   ]
  },
  {
   "cell_type": "markdown",
   "id": "a86dd882",
   "metadata": {},
   "source": [
    "## Final Verdict\n",
    "\n"
   ]
  },
  {
   "cell_type": "markdown",
   "id": "54262533",
   "metadata": {},
   "source": [
    "The accuracy is between LSTM and CNN1D_LSTM.  However, one important note is the relatively much lesser parameters.  In addition, if we train for even longer, perhaps we could achieve even better accuracy.\n",
    "\n",
    "In simple words, spectrograms are a very lean way to achieve reasonable accuracy.\n",
    "\n",
    "In the next tutorial, let's try to add two more layers of convolution and see whether there is any accuracy increased."
   ]
  }
 ],
 "metadata": {
  "kernelspec": {
   "display_name": "Python 3 (ipykernel)",
   "language": "python",
   "name": "python3"
  },
  "language_info": {
   "codemirror_mode": {
    "name": "ipython",
    "version": 3
   },
   "file_extension": ".py",
   "mimetype": "text/x-python",
   "name": "python",
   "nbconvert_exporter": "python",
   "pygments_lexer": "ipython3",
   "version": "3.9.4"
  }
 },
 "nbformat": 4,
 "nbformat_minor": 5
}
