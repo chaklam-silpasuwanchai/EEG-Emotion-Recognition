{
 "cells": [
  {
   "cell_type": "code",
   "execution_count": 1,
   "metadata": {},
   "outputs": [
    {
     "name": "stdout",
     "output_type": "stream",
     "text": [
      "Found: 32 files\n",
      "s01 (80, 2) [47.5 60. ]\n"
     ]
    }
   ],
   "source": [
    "import time\n",
    "import numpy as np\n",
    "from tqdm.notebook import tqdm\n",
    "\n",
    "from components.dataset_jo import *\n",
    "\n",
    "dataset = Dataset_subjectDependent('data')\n",
    "segment_lenght = 30 #second\n",
    "dataset.set_segment(7680//(128*segment_lenght))\n",
    "for filename in dataset.get_file_list():\n",
    "    data, labels, _ = dataset.get_data(filename, return_type='numpy')\n",
    "    print(filename, labels.shape, labels.sum(axis=0)/labels.shape[0]*100)\n",
    "    break"
   ]
  },
  {
   "cell_type": "code",
   "execution_count": 2,
   "metadata": {},
   "outputs": [],
   "source": [
    "def train_model(X_ori,y_ori,groups_ori,filename=None, kernel='rbf',return_text=False):\n",
    "    # Make a copy because I am paranoid\n",
    "    X,y,groups = X_ori.copy(), y_ori.copy(), groups_ori.copy()\n",
    "\n",
    "    from sklearn.svm import SVC\n",
    "    from sklearn.model_selection import StratifiedShuffleSplit \n",
    "    from sklearn.model_selection import cross_val_score\n",
    "\n",
    "    model = SVC(kernel=kernel,max_iter=50000)\n",
    "    cv = StratifiedShuffleSplit(n_splits=10, train_size=0.75, random_state=0)\n",
    "    cross = cross_val_score(model, X, y, cv=cv, n_jobs=8)\n",
    "    \n",
    "    # We probably dont need this\n",
    "    model = SVC(kernel=kernel, max_iter=50000)\n",
    "    model.fit(X, y)\n",
    "    ans = model.predict(X)\n",
    "    acc = sum(ans == y) / len(y)\n",
    "    # If the model answer with all 0 or 1, we print this message\n",
    "    text = None\n",
    "    if( sum(ans) == len(y) or sum(ans) == 0 ): \n",
    "        text = f\"-----WARNING: Model {filename} failed to learn: sum(ans)={sum(ans)} sum(y)={sum(y)} len(y)={len(y)}\"\n",
    "    if(return_text):\n",
    "        return model, acc, cross, text\n",
    "    else:\n",
    "        if(text != None): print(text)\n",
    "        return model, acc, cross"
   ]
  },
  {
   "cell_type": "markdown",
   "metadata": {},
   "source": [
    "## 2. Spectral Features"
   ]
  },
  {
   "cell_type": "code",
   "execution_count": 3,
   "metadata": {},
   "outputs": [],
   "source": [
    "from mne_features.feature_extraction import FeatureExtractor"
   ]
  },
  {
   "cell_type": "code",
   "execution_count": 4,
   "metadata": {},
   "outputs": [
    {
     "name": "stdout",
     "output_type": "stream",
     "text": [
      "-----WARNING: Model s01 failed to learn: sum(ans)=80.0 sum(y)=48.0 len(y)=80\n",
      "\tAROUSAL-s01|Acc=0.6|10-CV=0.6|STD=0.0|Time spend=33.977253437042236\n",
      "-----WARNING: Model s02 failed to learn: sum(ans)=80.0 sum(y)=48.0 len(y)=80\n",
      "\tAROUSAL-s02|Acc=0.6|10-CV=0.6|STD=0.0|Time spend=0.4776163101196289\n",
      "-----WARNING: Model s03 failed to learn: sum(ans)=0.0 sum(y)=16.0 len(y)=80\n",
      "\tAROUSAL-s03|Acc=0.8|10-CV=0.8|STD=0.0|Time spend=0.39475464820861816\n",
      "-----WARNING: Model s04 failed to learn: sum(ans)=0.0 sum(y)=32.0 len(y)=80\n",
      "\tAROUSAL-s04|Acc=0.6|10-CV=0.6|STD=0.0|Time spend=0.4414374828338623\n",
      "-----WARNING: Model s05 failed to learn: sum(ans)=0.0 sum(y)=38.0 len(y)=80\n",
      "\tAROUSAL-s05|Acc=0.525|10-CV=0.505|STD=0.035|Time spend=0.4433021545410156\n",
      "\tAROUSAL-s06|Acc=0.6125|10-CV=0.56|STD=0.04899|Time spend=0.47302913665771484\n",
      "\tAROUSAL-s07|Acc=0.6375|10-CV=0.63|STD=0.02449|Time spend=0.46573352813720703\n",
      "-----WARNING: Model s08 failed to learn: sum(ans)=80.0 sum(y)=46.0 len(y)=80\n",
      "\tAROUSAL-s08|Acc=0.575|10-CV=0.58|STD=0.02449|Time spend=0.43501973152160645\n",
      "-----WARNING: Model s09 failed to learn: sum(ans)=80.0 sum(y)=48.0 len(y)=80\n",
      "\tAROUSAL-s09|Acc=0.6|10-CV=0.6|STD=0.0|Time spend=0.42988014221191406\n",
      "\tAROUSAL-s10|Acc=0.7375|10-CV=0.65|STD=0.0922|Time spend=0.44518494606018066\n",
      "-----WARNING: Model s11 failed to learn: sum(ans)=0.0 sum(y)=30.0 len(y)=80\n",
      "\tAROUSAL-s11|Acc=0.625|10-CV=0.635|STD=0.02291|Time spend=0.43070125579833984\n",
      "-----WARNING: Model s12 failed to learn: sum(ans)=80.0 sum(y)=66.0 len(y)=80\n",
      "\tAROUSAL-s12|Acc=0.825|10-CV=0.82|STD=0.02449|Time spend=0.44278740882873535\n",
      "-----WARNING: Model s13 failed to learn: sum(ans)=80.0 sum(y)=68.0 len(y)=80\n",
      "\tAROUSAL-s13|Acc=0.85|10-CV=0.85|STD=0.0|Time spend=0.4185512065887451\n",
      "-----WARNING: Model s14 failed to learn: sum(ans)=80.0 sum(y)=54.0 len(y)=80\n",
      "\tAROUSAL-s14|Acc=0.675|10-CV=0.665|STD=0.02291|Time spend=0.4192376136779785\n",
      "\tAROUSAL-s15|Acc=0.7|10-CV=0.645|STD=0.10112|Time spend=0.39753150939941406\n",
      "\tAROUSAL-s16|Acc=0.7125|10-CV=0.595|STD=0.065|Time spend=0.3990447521209717\n",
      "\tAROUSAL-s17|Acc=0.625|10-CV=0.595|STD=0.015|Time spend=0.4118504524230957\n",
      "-----WARNING: Model s18 failed to learn: sum(ans)=80.0 sum(y)=50.0 len(y)=80\n",
      "\tAROUSAL-s18|Acc=0.625|10-CV=0.615|STD=0.03202|Time spend=0.4364187717437744\n",
      "\tAROUSAL-s19|Acc=0.6875|10-CV=0.665|STD=0.02291|Time spend=0.4474904537200928\n",
      "-----WARNING: Model s20 failed to learn: sum(ans)=80.0 sum(y)=62.0 len(y)=80\n",
      "\tAROUSAL-s20|Acc=0.775|10-CV=0.77|STD=0.02449|Time spend=0.43717408180236816\n",
      "-----WARNING: Model s21 failed to learn: sum(ans)=80.0 sum(y)=64.0 len(y)=80\n",
      "\tAROUSAL-s21|Acc=0.8|10-CV=0.8|STD=0.0|Time spend=0.43905091285705566\n",
      "\tAROUSAL-s22|Acc=0.675|10-CV=0.61|STD=0.04359|Time spend=0.418712854385376\n",
      "-----WARNING: Model s23 failed to learn: sum(ans)=0.0 sum(y)=20.0 len(y)=80\n",
      "\tAROUSAL-s23|Acc=0.75|10-CV=0.75|STD=0.0|Time spend=0.43537425994873047\n",
      "-----WARNING: Model s24 failed to learn: sum(ans)=80.0 sum(y)=66.0 len(y)=80\n",
      "\tAROUSAL-s24|Acc=0.825|10-CV=0.82|STD=0.02449|Time spend=0.41708922386169434\n",
      "-----WARNING: Model s25 failed to learn: sum(ans)=80.0 sum(y)=58.0 len(y)=80\n",
      "\tAROUSAL-s25|Acc=0.725|10-CV=0.72|STD=0.02449|Time spend=0.45206260681152344\n",
      "-----WARNING: Model s26 failed to learn: sum(ans)=0.0 sum(y)=34.0 len(y)=80\n",
      "\tAROUSAL-s26|Acc=0.575|10-CV=0.56|STD=0.04899|Time spend=0.4303865432739258\n",
      "\tAROUSAL-s27|Acc=0.75|10-CV=0.645|STD=0.05679|Time spend=0.4506399631500244\n",
      "\tAROUSAL-s28|Acc=0.575|10-CV=0.535|STD=0.02291|Time spend=0.41892528533935547\n",
      "-----WARNING: Model s29 failed to learn: sum(ans)=80.0 sum(y)=50.0 len(y)=80\n",
      "\tAROUSAL-s29|Acc=0.625|10-CV=0.62|STD=0.02449|Time spend=0.4263801574707031\n",
      "\tAROUSAL-s30|Acc=0.7|10-CV=0.665|STD=0.095|Time spend=0.430377721786499\n",
      "\tAROUSAL-s31|Acc=0.65|10-CV=0.545|STD=0.04153|Time spend=0.40859222412109375\n",
      "-----WARNING: Model s32 failed to learn: sum(ans)=80.0 sum(y)=54.0 len(y)=80\n",
      "\tAROUSAL-s32|Acc=0.675|10-CV=0.665|STD=0.02291|Time spend=0.435805082321167\n",
      "AROUSAL|Acc=0.6785156250000001|10-CV=0.6535937500000001|STD=0.030039039504028822\n",
      "-----WARNING: Model s01 failed to learn: sum(ans)=0.0 sum(y)=38.0 len(y)=80\n",
      "\tVALENCE-s01|Acc=0.525|10-CV=0.525|STD=0.025|Time spend=0.19118523597717285\n",
      "\tVALENCE-s02|Acc=0.65|10-CV=0.56|STD=0.03742|Time spend=0.20706582069396973\n",
      "-----WARNING: Model s03 failed to learn: sum(ans)=80.0 sum(y)=44.0 len(y)=80\n",
      "\tVALENCE-s03|Acc=0.55|10-CV=0.545|STD=0.015|Time spend=0.18834352493286133\n",
      "-----WARNING: Model s04 failed to learn: sum(ans)=0.0 sum(y)=32.0 len(y)=80\n",
      "\tVALENCE-s04|Acc=0.6|10-CV=0.575|STD=0.05123|Time spend=0.1955718994140625\n",
      "\tVALENCE-s05|Acc=0.6375|10-CV=0.6|STD=0.0|Time spend=0.20695185661315918\n",
      "-----WARNING: Model s06 failed to learn: sum(ans)=80.0 sum(y)=60.0 len(y)=80\n",
      "\tVALENCE-s06|Acc=0.75|10-CV=0.75|STD=0.0|Time spend=0.24631834030151367\n",
      "-----WARNING: Model s07 failed to learn: sum(ans)=80.0 sum(y)=56.0 len(y)=80\n",
      "\tVALENCE-s07|Acc=0.7|10-CV=0.7|STD=0.0|Time spend=0.2411963939666748\n",
      "\tVALENCE-s08|Acc=0.725|10-CV=0.58|STD=0.09|Time spend=0.396315336227417\n",
      "\tVALENCE-s09|Acc=0.775|10-CV=0.67|STD=0.08124|Time spend=0.3160550594329834\n",
      "\tVALENCE-s10|Acc=0.7625|10-CV=0.72|STD=0.11874|Time spend=0.31670069694519043\n",
      "\tVALENCE-s11|Acc=0.7|10-CV=0.64|STD=0.03742|Time spend=0.30036330223083496\n",
      "\tVALENCE-s12|Acc=0.675|10-CV=0.655|STD=0.05679|Time spend=0.2632596492767334\n",
      "\tVALENCE-s13|Acc=0.8|10-CV=0.79|STD=0.07|Time spend=0.2574429512023926\n",
      "\tVALENCE-s14|Acc=0.725|10-CV=0.72|STD=0.10296|Time spend=0.25155138969421387\n",
      "\tVALENCE-s15|Acc=0.8125|10-CV=0.765|STD=0.07089|Time spend=0.25255537033081055\n",
      "\tVALENCE-s16|Acc=0.725|10-CV=0.68|STD=0.07141|Time spend=0.281158447265625\n",
      "-----WARNING: Model s17 failed to learn: sum(ans)=80.0 sum(y)=44.0 len(y)=80\n",
      "\tVALENCE-s17|Acc=0.55|10-CV=0.55|STD=0.0|Time spend=0.28941988945007324\n",
      "\tVALENCE-s18|Acc=0.825|10-CV=0.74|STD=0.06633|Time spend=0.22999906539916992\n",
      "\tVALENCE-s19|Acc=0.7125|10-CV=0.665|STD=0.08382|Time spend=0.23777365684509277\n",
      "\tVALENCE-s20|Acc=0.825|10-CV=0.72|STD=0.1005|Time spend=0.23640084266662598\n",
      "\tVALENCE-s21|Acc=0.675|10-CV=0.6|STD=0.05916|Time spend=0.25320959091186523\n",
      "\tVALENCE-s22|Acc=0.7|10-CV=0.605|STD=0.05679|Time spend=0.24689841270446777\n",
      "-----WARNING: Model s23 failed to learn: sum(ans)=80.0 sum(y)=52.0 len(y)=80\n",
      "\tVALENCE-s23|Acc=0.65|10-CV=0.65|STD=0.0|Time spend=0.25916004180908203\n",
      "-----WARNING: Model s24 failed to learn: sum(ans)=0.0 sum(y)=36.0 len(y)=80\n",
      "\tVALENCE-s24|Acc=0.55|10-CV=0.55|STD=0.0|Time spend=0.2351210117340088\n",
      "-----WARNING: Model s25 failed to learn: sum(ans)=0.0 sum(y)=38.0 len(y)=80\n",
      "\tVALENCE-s25|Acc=0.525|10-CV=0.485|STD=0.05025|Time spend=0.2418365478515625\n",
      "-----WARNING: Model s26 failed to learn: sum(ans)=80.0 sum(y)=52.0 len(y)=80\n",
      "\tVALENCE-s26|Acc=0.65|10-CV=0.655|STD=0.015|Time spend=0.22378897666931152\n",
      "-----WARNING: Model s27 failed to learn: sum(ans)=80.0 sum(y)=60.0 len(y)=80\n",
      "\tVALENCE-s27|Acc=0.75|10-CV=0.75|STD=0.0|Time spend=0.2079765796661377\n",
      "-----WARNING: Model s28 failed to learn: sum(ans)=80.0 sum(y)=50.0 len(y)=80\n",
      "\tVALENCE-s28|Acc=0.625|10-CV=0.63|STD=0.02449|Time spend=0.25618553161621094\n",
      "\tVALENCE-s29|Acc=0.6375|10-CV=0.56|STD=0.04359|Time spend=0.21427011489868164\n",
      "-----WARNING: Model s30 failed to learn: sum(ans)=80.0 sum(y)=54.0 len(y)=80\n",
      "\tVALENCE-s30|Acc=0.675|10-CV=0.665|STD=0.02291|Time spend=0.21236443519592285\n",
      "-----WARNING: Model s31 failed to learn: sum(ans)=80.0 sum(y)=46.0 len(y)=80\n",
      "\tVALENCE-s31|Acc=0.575|10-CV=0.585|STD=0.02291|Time spend=0.23354005813598633\n",
      "\tVALENCE-s32|Acc=0.725|10-CV=0.63|STD=0.08718|Time spend=0.21100354194641113\n",
      "VALENCE|Acc=0.680078125|10-CV=0.64109375|STD=0.04565725053740116\n",
      "TOTAL|Acc=0.679296875|10-CV=0.64734375|STD=0.037848145020715\n"
     ]
    }
   ],
   "source": [
    "bands = [(0,4), (4,8), (8,12), (12,30), (30,64)]\n",
    "# [alias_feature_function]__[optional_param]\n",
    "params = dict({\n",
    "    'pow_freq_bands__log':True,\n",
    "    'pow_freq_bands__normalize':False,\n",
    "    'pow_freq_bands__freq_bands':bands\n",
    "})\n",
    "\n",
    "\n",
    "accs,cv_means,cv_stds  = [],[],[]\n",
    "# count = 0\n",
    "for filename in dataset.get_file_list():\n",
    "    start = time.time()\n",
    "    data, labels, groups = dataset.get_data(filename, stimuli=Dataset_subjectDependent.STIMULI_AROUSAL, return_type='numpy')\n",
    "    fe = FeatureExtractor(sfreq=128, selected_funcs=['pow_freq_bands'],params=params,n_jobs=8)\n",
    "    X = fe.fit_transform(X=data)\n",
    "    _, acc, cross = train_model(X, labels.reshape(-1), groups,filename=filename)\n",
    "    print(f\"\\tAROUSAL-{filename}|Acc={round(acc,5)}|10-CV={round(cross.mean(),5)}|STD={round(cross.std(),5)}|Time spend={time.time() - start}\")\n",
    "    accs.append(acc)\n",
    "    cv_means.append(cross.mean())\n",
    "    cv_stds.append(cross.std())\n",
    "    # count+=1\n",
    "    # if(count == 5): break\n",
    "print(f\"AROUSAL|Acc={sum(accs)/len(accs)}|10-CV={sum(cv_means)/len(cv_means)}|STD={sum(cv_stds)/len(cv_stds)}\")\n",
    "\n",
    "accs_v,cv_means_v,cv_stds_v  = [],[],[]\n",
    "# count=0\n",
    "for filename in dataset.get_file_list():\n",
    "    start = time.time()\n",
    "    data, labels, groups = dataset.get_data(filename, stimuli=Dataset_subjectDependent.STIMULI_VALENCE, return_type='numpy')\n",
    "    fe = FeatureExtractor(sfreq=128, selected_funcs=['pow_freq_bands'],params=params,n_jobs=8)\n",
    "    X = fe.fit_transform(X=data)\n",
    "    _, acc, cross = train_model(X, labels.reshape(-1), groups,filename=filename)\n",
    "    print(f\"\\tVALENCE-{filename}|Acc={round(acc,5)}|10-CV={round(cross.mean(),5)}|STD={round(cross.std(),5)}|Time spend={time.time() - start}\")\n",
    "    accs_v.append(acc)\n",
    "    cv_means_v.append(cross.mean())\n",
    "    cv_stds_v.append(cross.std())\n",
    "    # count+=1\n",
    "    # if(count == 5): break\n",
    "print(f\"VALENCE|Acc={sum(accs_v)/len(accs_v)}|10-CV={sum(cv_means_v)/len(cv_means_v)}|STD={sum(cv_stds_v)/len(cv_stds_v)}\")\n",
    "\n",
    "accs.extend(accs_v)\n",
    "cv_means.extend(cv_means_v)\n",
    "cv_stds.extend(cv_stds_v)\n",
    "print(f\"TOTAL|Acc={sum(accs)/len(accs)}|10-CV={sum(cv_means)/len(cv_means)}|STD={sum(cv_stds)/len(cv_stds)}\")"
   ]
  },
  {
   "cell_type": "markdown",
   "metadata": {},
   "source": [
    "## 3. Asymetry"
   ]
  },
  {
   "cell_type": "code",
   "execution_count": 5,
   "metadata": {},
   "outputs": [
    {
     "name": "stdout",
     "output_type": "stream",
     "text": [
      "left_channel_indexes=[0, 3, 2, 7, 11, 6, 10, 13, 1, 4, 5, 8, 9, 12]\n",
      "right_channel_indexes=[16, 20, 19, 25, 29, 24, 28, 31, 17, 21, 22, 26, 27, 30]\n",
      "frontal_channel_indexes=[4, 5, 22, 21, 3, 2, 18, 19, 20, 0, 16]\n",
      "posterior_channel_indexes=[8, 9, 27, 26, 11, 10, 15, 28, 29, 13, 31]\n"
     ]
    }
   ],
   "source": [
    "channels = ['Fp1','AF3','F3','F7','FC5','FC1','C3','T7','CP5','CP1','P3','P7','PO3','O1','Oz','Pz','Fp2','AF4','Fz','F4','F8','FC6','FC2','Cz','C4','T8','CP6','CP2','P4','P8','PO4','O2']\n",
    "left_channels = ['Fp1','F7','F3','T7','P7','C3','P3','O1','AF3','FC5','FC1','CP5','CP1','PO3']\n",
    "right_channels = ['Fp2','F8','F4','T8','P8','C4','P4','O2','AF4','FC6','FC2','CP6','CP2','PO4']\n",
    "left_channel_indexes = [ channels.index(ch) for ch in left_channels ]\n",
    "right_channel_indexes = [ channels.index(ch) for ch in right_channels ]\n",
    "\n",
    "print(f\"{left_channel_indexes=}\")\n",
    "print(f\"{right_channel_indexes=}\")\n",
    "\n",
    "frontal_channels = ['FC5','FC1','FC2','FC6','F7','F3','Fz','F4','F8','Fp1','Fp2']\n",
    "posterior_channels = ['CP5','CP1','CP2','CP6','P7','P3','Pz','P4','P8','O1','O2']\n",
    "\n",
    "frontal_channel_indexes = [ channels.index(ch) for ch in frontal_channels ]\n",
    "posterior_channel_indexes = [ channels.index(ch) for ch in posterior_channels ]\n",
    "\n",
    "print(f\"{frontal_channel_indexes=}\")\n",
    "print(f\"{posterior_channel_indexes=}\")"
   ]
  },
  {
   "cell_type": "code",
   "execution_count": 6,
   "metadata": {},
   "outputs": [
    {
     "name": "stdout",
     "output_type": "stream",
     "text": [
      "-----WARNING: Model s01 failed to learn: sum(ans)=80.0 sum(y)=48.0 len(y)=80\n",
      "\tAROUSAL-s01-DASM|Acc=0.6|10-CV=0.6|STD=0.0|Time spend=0.2173900604248047\n",
      "\tAROUSAL-s01-RASM|Acc=0.6375|10-CV=0.6|STD=0.0|Time spend=0.22930264472961426\n",
      "-----WARNING: Model s01 failed to learn: sum(ans)=80.0 sum(y)=48.0 len(y)=80\n",
      "\tAROUSAL-s01-DCAU|Acc=0.6|10-CV=0.6|STD=0.0|Time spend=0.24025440216064453\n",
      "-----WARNING: Model s02 failed to learn: sum(ans)=80.0 sum(y)=48.0 len(y)=80\n",
      "\tAROUSAL-s02-DASM|Acc=0.6|10-CV=0.6|STD=0.0|Time spend=0.20933842658996582\n",
      "\tAROUSAL-s02-RASM|Acc=0.6875|10-CV=0.655|STD=0.04153|Time spend=0.21893715858459473\n",
      "-----WARNING: Model s02 failed to learn: sum(ans)=80.0 sum(y)=48.0 len(y)=80\n",
      "\tAROUSAL-s02-DCAU|Acc=0.6|10-CV=0.6|STD=0.0|Time spend=0.22925090789794922\n",
      "-----WARNING: Model s03 failed to learn: sum(ans)=0.0 sum(y)=16.0 len(y)=80\n",
      "\tAROUSAL-s03-DASM|Acc=0.8|10-CV=0.8|STD=0.0|Time spend=0.18728137016296387\n",
      "-----WARNING: Model s03 failed to learn: sum(ans)=0.0 sum(y)=16.0 len(y)=80\n",
      "\tAROUSAL-s03-RASM|Acc=0.8|10-CV=0.8|STD=0.0|Time spend=0.1988542079925537\n",
      "-----WARNING: Model s03 failed to learn: sum(ans)=0.0 sum(y)=16.0 len(y)=80\n",
      "\tAROUSAL-s03-DCAU|Acc=0.8|10-CV=0.8|STD=0.0|Time spend=0.20870494842529297\n",
      "-----WARNING: Model s04 failed to learn: sum(ans)=0.0 sum(y)=32.0 len(y)=80\n",
      "\tAROUSAL-s04-DASM|Acc=0.6|10-CV=0.585|STD=0.045|Time spend=0.18382954597473145\n",
      "\tAROUSAL-s04-RASM|Acc=0.625|10-CV=0.585|STD=0.06344|Time spend=0.19450020790100098\n",
      "\tAROUSAL-s04-DCAU|Acc=0.7|10-CV=0.59|STD=0.06245|Time spend=0.20760774612426758\n",
      "-----WARNING: Model s05 failed to learn: sum(ans)=0.0 sum(y)=38.0 len(y)=80\n",
      "\tAROUSAL-s05-DASM|Acc=0.525|10-CV=0.505|STD=0.04717|Time spend=0.20096278190612793\n",
      "\tAROUSAL-s05-RASM|Acc=0.5375|10-CV=0.47|STD=0.07141|Time spend=0.21553850173950195\n",
      "\tAROUSAL-s05-DCAU|Acc=0.6|10-CV=0.475|STD=0.0461|Time spend=0.22713470458984375\n",
      "\tAROUSAL-s06-DASM|Acc=0.6125|10-CV=0.585|STD=0.045|Time spend=0.1904458999633789\n",
      "\tAROUSAL-s06-RASM|Acc=0.65|10-CV=0.58|STD=0.04|Time spend=0.20244145393371582\n",
      "-----WARNING: Model s06 failed to learn: sum(ans)=0.0 sum(y)=34.0 len(y)=80\n",
      "\tAROUSAL-s06-DCAU|Acc=0.575|10-CV=0.595|STD=0.0522|Time spend=0.21380066871643066\n",
      "-----WARNING: Model s07 failed to learn: sum(ans)=80.0 sum(y)=50.0 len(y)=80\n",
      "\tAROUSAL-s07-DASM|Acc=0.625|10-CV=0.63|STD=0.02449|Time spend=0.18365740776062012\n",
      "\tAROUSAL-s07-RASM|Acc=0.6375|10-CV=0.63|STD=0.02449|Time spend=0.1959211826324463\n",
      "-----WARNING: Model s07 failed to learn: sum(ans)=80.0 sum(y)=50.0 len(y)=80\n",
      "\tAROUSAL-s07-DCAU|Acc=0.625|10-CV=0.63|STD=0.02449|Time spend=0.20845699310302734\n",
      "-----WARNING: Model s08 failed to learn: sum(ans)=80.0 sum(y)=46.0 len(y)=80\n",
      "\tAROUSAL-s08-DASM|Acc=0.575|10-CV=0.585|STD=0.02291|Time spend=0.18220782279968262\n",
      "\tAROUSAL-s08-RASM|Acc=0.5875|10-CV=0.585|STD=0.02291|Time spend=0.19399380683898926\n",
      "\tAROUSAL-s08-DCAU|Acc=0.5875|10-CV=0.565|STD=0.05937|Time spend=0.20414471626281738\n",
      "-----WARNING: Model s09 failed to learn: sum(ans)=80.0 sum(y)=48.0 len(y)=80\n",
      "\tAROUSAL-s09-DASM|Acc=0.6|10-CV=0.6|STD=0.0|Time spend=0.183274507522583\n",
      "-----WARNING: Model s09 failed to learn: sum(ans)=80.0 sum(y)=48.0 len(y)=80\n",
      "\tAROUSAL-s09-RASM|Acc=0.6|10-CV=0.605|STD=0.015|Time spend=0.19438695907592773\n",
      "-----WARNING: Model s09 failed to learn: sum(ans)=80.0 sum(y)=48.0 len(y)=80\n",
      "\tAROUSAL-s09-DCAU|Acc=0.6|10-CV=0.6|STD=0.0|Time spend=0.2063305377960205\n",
      "\tAROUSAL-s10-DASM|Acc=0.6875|10-CV=0.665|STD=0.08078|Time spend=0.18543577194213867\n",
      "\tAROUSAL-s10-RASM|Acc=0.725|10-CV=0.65|STD=0.1|Time spend=0.2007753849029541\n",
      "\tAROUSAL-s10-DCAU|Acc=0.7125|10-CV=0.68|STD=0.08426|Time spend=0.21653056144714355\n",
      "-----WARNING: Model s11 failed to learn: sum(ans)=0.0 sum(y)=30.0 len(y)=80\n",
      "\tAROUSAL-s11-DASM|Acc=0.625|10-CV=0.635|STD=0.02291|Time spend=0.23894238471984863\n",
      "-----WARNING: Model s11 failed to learn: sum(ans)=0.0 sum(y)=30.0 len(y)=80\n",
      "\tAROUSAL-s11-RASM|Acc=0.625|10-CV=0.635|STD=0.02291|Time spend=0.2574896812438965\n",
      "\tAROUSAL-s11-DCAU|Acc=0.6375|10-CV=0.635|STD=0.02291|Time spend=0.27719688415527344\n",
      "-----WARNING: Model s12 failed to learn: sum(ans)=80.0 sum(y)=66.0 len(y)=80\n",
      "\tAROUSAL-s12-DASM|Acc=0.825|10-CV=0.82|STD=0.02449|Time spend=0.28314685821533203\n",
      "-----WARNING: Model s12 failed to learn: sum(ans)=80.0 sum(y)=66.0 len(y)=80\n",
      "\tAROUSAL-s12-RASM|Acc=0.825|10-CV=0.82|STD=0.02449|Time spend=0.29642629623413086\n",
      "-----WARNING: Model s12 failed to learn: sum(ans)=80.0 sum(y)=66.0 len(y)=80\n",
      "\tAROUSAL-s12-DCAU|Acc=0.825|10-CV=0.82|STD=0.02449|Time spend=0.30968523025512695\n",
      "-----WARNING: Model s13 failed to learn: sum(ans)=80.0 sum(y)=68.0 len(y)=80\n",
      "\tAROUSAL-s13-DASM|Acc=0.85|10-CV=0.85|STD=0.0|Time spend=0.19125103950500488\n",
      "-----WARNING: Model s13 failed to learn: sum(ans)=80.0 sum(y)=68.0 len(y)=80\n",
      "\tAROUSAL-s13-RASM|Acc=0.85|10-CV=0.85|STD=0.0|Time spend=0.2020125389099121\n",
      "-----WARNING: Model s13 failed to learn: sum(ans)=80.0 sum(y)=68.0 len(y)=80\n",
      "\tAROUSAL-s13-DCAU|Acc=0.85|10-CV=0.85|STD=0.0|Time spend=0.21196842193603516\n",
      "-----WARNING: Model s14 failed to learn: sum(ans)=80.0 sum(y)=54.0 len(y)=80\n",
      "\tAROUSAL-s14-DASM|Acc=0.675|10-CV=0.665|STD=0.02291|Time spend=0.18051457405090332\n",
      "\tAROUSAL-s14-RASM|Acc=0.6875|10-CV=0.66|STD=0.02|Time spend=0.19208645820617676\n",
      "-----WARNING: Model s14 failed to learn: sum(ans)=80.0 sum(y)=54.0 len(y)=80\n",
      "\tAROUSAL-s14-DCAU|Acc=0.675|10-CV=0.665|STD=0.02291|Time spend=0.2039809226989746\n",
      "\tAROUSAL-s15-DASM|Acc=0.6625|10-CV=0.62|STD=0.06782|Time spend=0.18262195587158203\n",
      "\tAROUSAL-s15-RASM|Acc=0.5375|10-CV=0.495|STD=0.07228|Time spend=0.194563627243042\n",
      "\tAROUSAL-s15-DCAU|Acc=0.7125|10-CV=0.63|STD=0.04583|Time spend=0.20495104789733887\n",
      "\tAROUSAL-s16-DASM|Acc=0.675|10-CV=0.59|STD=0.04359|Time spend=0.180708646774292\n",
      "\tAROUSAL-s16-RASM|Acc=0.6875|10-CV=0.605|STD=0.0789|Time spend=0.1910240650177002\n",
      "\tAROUSAL-s16-DCAU|Acc=0.6625|10-CV=0.63|STD=0.04|Time spend=0.20206499099731445\n",
      "\tAROUSAL-s17-DASM|Acc=0.6125|10-CV=0.6|STD=0.0|Time spend=0.18903112411499023\n",
      "\tAROUSAL-s17-RASM|Acc=0.6125|10-CV=0.605|STD=0.015|Time spend=0.19899702072143555\n",
      "-----WARNING: Model s17 failed to learn: sum(ans)=80.0 sum(y)=48.0 len(y)=80\n",
      "\tAROUSAL-s17-DCAU|Acc=0.6|10-CV=0.6|STD=0.0|Time spend=0.21126151084899902\n",
      "-----WARNING: Model s18 failed to learn: sum(ans)=80.0 sum(y)=50.0 len(y)=80\n",
      "\tAROUSAL-s18-DASM|Acc=0.625|10-CV=0.625|STD=0.025|Time spend=0.18562912940979004\n",
      "-----WARNING: Model s18 failed to learn: sum(ans)=80.0 sum(y)=50.0 len(y)=80\n",
      "\tAROUSAL-s18-RASM|Acc=0.625|10-CV=0.63|STD=0.02449|Time spend=0.19627881050109863\n",
      "\tAROUSAL-s18-DCAU|Acc=0.6375|10-CV=0.63|STD=0.03317|Time spend=0.20713162422180176\n",
      "\tAROUSAL-s19-DASM|Acc=0.6875|10-CV=0.665|STD=0.02291|Time spend=0.18413734436035156\n",
      "\tAROUSAL-s19-RASM|Acc=0.7|10-CV=0.675|STD=0.04031|Time spend=0.19474267959594727\n",
      "\tAROUSAL-s19-DCAU|Acc=0.7|10-CV=0.665|STD=0.02291|Time spend=0.20648527145385742\n",
      "-----WARNING: Model s20 failed to learn: sum(ans)=80.0 sum(y)=62.0 len(y)=80\n",
      "\tAROUSAL-s20-DASM|Acc=0.775|10-CV=0.77|STD=0.02449|Time spend=0.19043660163879395\n",
      "-----WARNING: Model s20 failed to learn: sum(ans)=80.0 sum(y)=62.0 len(y)=80\n",
      "\tAROUSAL-s20-RASM|Acc=0.775|10-CV=0.77|STD=0.02449|Time spend=0.20180463790893555\n",
      "-----WARNING: Model s20 failed to learn: sum(ans)=80.0 sum(y)=62.0 len(y)=80\n",
      "\tAROUSAL-s20-DCAU|Acc=0.775|10-CV=0.77|STD=0.02449|Time spend=0.21277260780334473\n",
      "-----WARNING: Model s21 failed to learn: sum(ans)=80.0 sum(y)=64.0 len(y)=80\n",
      "\tAROUSAL-s21-DASM|Acc=0.8|10-CV=0.8|STD=0.0|Time spend=0.1928694248199463\n",
      "-----WARNING: Model s21 failed to learn: sum(ans)=80.0 sum(y)=64.0 len(y)=80\n",
      "\tAROUSAL-s21-RASM|Acc=0.8|10-CV=0.8|STD=0.0|Time spend=0.2050154209136963\n",
      "-----WARNING: Model s21 failed to learn: sum(ans)=80.0 sum(y)=64.0 len(y)=80\n",
      "\tAROUSAL-s21-DCAU|Acc=0.8|10-CV=0.8|STD=0.0|Time spend=0.2159862518310547\n",
      "\tAROUSAL-s22-DASM|Acc=0.7625|10-CV=0.675|STD=0.075|Time spend=0.17653441429138184\n",
      "\tAROUSAL-s22-RASM|Acc=0.75|10-CV=0.685|STD=0.06727|Time spend=0.1903064250946045\n",
      "\tAROUSAL-s22-DCAU|Acc=0.6875|10-CV=0.645|STD=0.0522|Time spend=0.20101022720336914\n",
      "-----WARNING: Model s23 failed to learn: sum(ans)=0.0 sum(y)=20.0 len(y)=80\n",
      "\tAROUSAL-s23-DASM|Acc=0.75|10-CV=0.75|STD=0.0|Time spend=0.2063741683959961\n",
      "\tAROUSAL-s23-RASM|Acc=0.775|10-CV=0.745|STD=0.02693|Time spend=0.22078561782836914\n",
      "-----WARNING: Model s23 failed to learn: sum(ans)=0.0 sum(y)=20.0 len(y)=80\n",
      "\tAROUSAL-s23-DCAU|Acc=0.75|10-CV=0.75|STD=0.0|Time spend=0.23258233070373535\n",
      "-----WARNING: Model s24 failed to learn: sum(ans)=80.0 sum(y)=66.0 len(y)=80\n",
      "\tAROUSAL-s24-DASM|Acc=0.825|10-CV=0.82|STD=0.02449|Time spend=0.17473745346069336\n",
      "-----WARNING: Model s24 failed to learn: sum(ans)=80.0 sum(y)=66.0 len(y)=80\n",
      "\tAROUSAL-s24-RASM|Acc=0.825|10-CV=0.82|STD=0.02449|Time spend=0.18708157539367676\n",
      "-----WARNING: Model s24 failed to learn: sum(ans)=80.0 sum(y)=66.0 len(y)=80\n",
      "\tAROUSAL-s24-DCAU|Acc=0.825|10-CV=0.82|STD=0.02449|Time spend=0.19939708709716797\n",
      "-----WARNING: Model s25 failed to learn: sum(ans)=80.0 sum(y)=58.0 len(y)=80\n",
      "\tAROUSAL-s25-DASM|Acc=0.725|10-CV=0.72|STD=0.02449|Time spend=0.17677712440490723\n",
      "-----WARNING: Model s25 failed to learn: sum(ans)=80.0 sum(y)=58.0 len(y)=80\n",
      "\tAROUSAL-s25-RASM|Acc=0.725|10-CV=0.72|STD=0.02449|Time spend=0.1874551773071289\n",
      "-----WARNING: Model s25 failed to learn: sum(ans)=80.0 sum(y)=58.0 len(y)=80\n",
      "\tAROUSAL-s25-DCAU|Acc=0.725|10-CV=0.72|STD=0.02449|Time spend=0.19885683059692383\n",
      "\tAROUSAL-s26-DASM|Acc=0.675|10-CV=0.58|STD=0.06782|Time spend=0.1807866096496582\n",
      "\tAROUSAL-s26-RASM|Acc=0.5875|10-CV=0.575|STD=0.03354|Time spend=0.1913433074951172\n",
      "\tAROUSAL-s26-DCAU|Acc=0.625|10-CV=0.55|STD=0.05477|Time spend=0.2007143497467041\n",
      "\tAROUSAL-s27-DASM|Acc=0.7125|10-CV=0.655|STD=0.04717|Time spend=0.19020748138427734\n",
      "\tAROUSAL-s27-RASM|Acc=0.75|10-CV=0.67|STD=0.06|Time spend=0.2004702091217041\n",
      "\tAROUSAL-s27-DCAU|Acc=0.725|10-CV=0.65|STD=0.04472|Time spend=0.21143770217895508\n",
      "-----WARNING: Model s28 failed to learn: sum(ans)=0.0 sum(y)=36.0 len(y)=80\n",
      "\tAROUSAL-s28-DASM|Acc=0.55|10-CV=0.55|STD=0.0|Time spend=0.17716574668884277\n",
      "-----WARNING: Model s28 failed to learn: sum(ans)=0.0 sum(y)=36.0 len(y)=80\n",
      "\tAROUSAL-s28-RASM|Acc=0.55|10-CV=0.52|STD=0.05099|Time spend=0.19030141830444336\n",
      "-----WARNING: Model s28 failed to learn: sum(ans)=0.0 sum(y)=36.0 len(y)=80\n",
      "\tAROUSAL-s28-DCAU|Acc=0.55|10-CV=0.55|STD=0.0|Time spend=0.20049166679382324\n",
      "-----WARNING: Model s29 failed to learn: sum(ans)=80.0 sum(y)=50.0 len(y)=80\n",
      "\tAROUSAL-s29-DASM|Acc=0.625|10-CV=0.61|STD=0.03|Time spend=0.23041009902954102\n",
      "\tAROUSAL-s29-RASM|Acc=0.6375|10-CV=0.62|STD=0.02449|Time spend=0.2446882724761963\n",
      "-----WARNING: Model s29 failed to learn: sum(ans)=80.0 sum(y)=50.0 len(y)=80\n",
      "\tAROUSAL-s29-DCAU|Acc=0.625|10-CV=0.605|STD=0.035|Time spend=0.26036977767944336\n",
      "\tAROUSAL-s30-DASM|Acc=0.7|10-CV=0.63|STD=0.10536|Time spend=0.2038285732269287\n",
      "\tAROUSAL-s30-RASM|Acc=0.5375|10-CV=0.535|STD=0.05025|Time spend=0.22003793716430664\n",
      "\tAROUSAL-s30-DCAU|Acc=0.675|10-CV=0.63|STD=0.08718|Time spend=0.23276638984680176\n",
      "\tAROUSAL-s31-DASM|Acc=0.7125|10-CV=0.665|STD=0.06727|Time spend=0.2097771167755127\n",
      "\tAROUSAL-s31-RASM|Acc=0.5875|10-CV=0.47|STD=0.04|Time spend=0.22119379043579102\n",
      "\tAROUSAL-s31-DCAU|Acc=0.6625|10-CV=0.635|STD=0.05937|Time spend=0.23204469680786133\n",
      "-----WARNING: Model s32 failed to learn: sum(ans)=80.0 sum(y)=54.0 len(y)=80\n",
      "\tAROUSAL-s32-DASM|Acc=0.675|10-CV=0.665|STD=0.02291|Time spend=0.22549057006835938\n",
      "\tAROUSAL-s32-RASM|Acc=0.6875|10-CV=0.665|STD=0.02291|Time spend=0.23784661293029785\n",
      "-----WARNING: Model s32 failed to learn: sum(ans)=80.0 sum(y)=54.0 len(y)=80\n",
      "\tAROUSAL-s32-DCAU|Acc=0.675|10-CV=0.66|STD=0.03|Time spend=0.2509474754333496\n",
      "AROUSAL-DASM|Acc=0.6796875000000001|10-CV=0.6598437499999998|STD=0.030750512806326465\n",
      "AROUSAL-RASM|Acc=0.67578125|10-CV=0.6478125|STD=0.03522068329069662\n",
      "AROUSAL-DCAU|Acc=0.6812500000000002|10-CV=0.65765625|STD=0.030557262735926\n",
      "\tVALENCE-s01-DASM|Acc=0.5375|10-CV=0.525|STD=0.025|Time spend=0.18331623077392578\n",
      "\tVALENCE-s01-RASM|Acc=0.6|10-CV=0.55|STD=0.03873|Time spend=0.1988062858581543\n",
      "-----WARNING: Model s01 failed to learn: sum(ans)=0.0 sum(y)=38.0 len(y)=80\n",
      "\tVALENCE-s01-DCAU|Acc=0.525|10-CV=0.525|STD=0.025|Time spend=0.2126147747039795\n",
      "\tVALENCE-s02-DASM|Acc=0.6375|10-CV=0.565|STD=0.02291|Time spend=0.19474267959594727\n",
      "\tVALENCE-s02-RASM|Acc=0.7125|10-CV=0.71|STD=0.07|Time spend=0.20541167259216309\n",
      "\tVALENCE-s02-DCAU|Acc=0.7375|10-CV=0.695|STD=0.07566|Time spend=0.21601152420043945\n",
      "-----WARNING: Model s03 failed to learn: sum(ans)=80.0 sum(y)=44.0 len(y)=80\n",
      "\tVALENCE-s03-DASM|Acc=0.55|10-CV=0.55|STD=0.0|Time spend=0.17949128150939941\n",
      "\tVALENCE-s03-RASM|Acc=0.6|10-CV=0.54|STD=0.02|Time spend=0.1905078887939453\n",
      "-----WARNING: Model s03 failed to learn: sum(ans)=80.0 sum(y)=44.0 len(y)=80\n",
      "\tVALENCE-s03-DCAU|Acc=0.55|10-CV=0.55|STD=0.0|Time spend=0.20149755477905273\n",
      "\tVALENCE-s04-DASM|Acc=0.6375|10-CV=0.61|STD=0.04899|Time spend=0.18027162551879883\n",
      "\tVALENCE-s04-RASM|Acc=0.6625|10-CV=0.615|STD=0.05937|Time spend=0.18928265571594238\n",
      "\tVALENCE-s04-DCAU|Acc=0.7125|10-CV=0.63|STD=0.07141|Time spend=0.1988823413848877\n",
      "\tVALENCE-s05-DASM|Acc=0.6125|10-CV=0.6|STD=0.0|Time spend=0.17926669120788574\n",
      "\tVALENCE-s05-RASM|Acc=0.6625|10-CV=0.62|STD=0.06403|Time spend=0.18979382514953613\n",
      "\tVALENCE-s05-DCAU|Acc=0.625|10-CV=0.61|STD=0.02|Time spend=0.20053362846374512\n",
      "-----WARNING: Model s06 failed to learn: sum(ans)=80.0 sum(y)=60.0 len(y)=80\n",
      "\tVALENCE-s06-DASM|Acc=0.75|10-CV=0.75|STD=0.0|Time spend=0.18454289436340332\n",
      "\tVALENCE-s06-RASM|Acc=0.7625|10-CV=0.75|STD=0.0|Time spend=0.1944425106048584\n",
      "-----WARNING: Model s06 failed to learn: sum(ans)=80.0 sum(y)=60.0 len(y)=80\n",
      "\tVALENCE-s06-DCAU|Acc=0.75|10-CV=0.75|STD=0.0|Time spend=0.20450115203857422\n",
      "-----WARNING: Model s07 failed to learn: sum(ans)=80.0 sum(y)=56.0 len(y)=80\n",
      "\tVALENCE-s07-DASM|Acc=0.7|10-CV=0.7|STD=0.0|Time spend=0.1775362491607666\n",
      "\tVALENCE-s07-RASM|Acc=0.7125|10-CV=0.7|STD=0.0|Time spend=0.18693184852600098\n",
      "-----WARNING: Model s07 failed to learn: sum(ans)=80.0 sum(y)=56.0 len(y)=80\n",
      "\tVALENCE-s07-DCAU|Acc=0.7|10-CV=0.7|STD=0.0|Time spend=0.1963179111480713\n",
      "\tVALENCE-s08-DASM|Acc=0.7|10-CV=0.555|STD=0.065|Time spend=0.17993569374084473\n",
      "\tVALENCE-s08-RASM|Acc=0.5625|10-CV=0.545|STD=0.015|Time spend=0.18924903869628906\n",
      "\tVALENCE-s08-DCAU|Acc=0.7375|10-CV=0.57|STD=0.09274|Time spend=0.20541882514953613\n",
      "\tVALENCE-s09-DASM|Acc=0.6875|10-CV=0.605|STD=0.09069|Time spend=0.22108912467956543\n",
      "\tVALENCE-s09-RASM|Acc=0.7375|10-CV=0.635|STD=0.14151|Time spend=0.23160076141357422\n",
      "\tVALENCE-s09-DCAU|Acc=0.7375|10-CV=0.645|STD=0.0789|Time spend=0.24215960502624512\n",
      "\tVALENCE-s10-DASM|Acc=0.7375|10-CV=0.705|STD=0.07228|Time spend=0.18275117874145508\n",
      "\tVALENCE-s10-RASM|Acc=0.8|10-CV=0.73|STD=0.1005|Time spend=0.19308710098266602\n",
      "\tVALENCE-s10-DCAU|Acc=0.7625|10-CV=0.74|STD=0.08307|Time spend=0.20540618896484375\n",
      "\tVALENCE-s11-DASM|Acc=0.7125|10-CV=0.69|STD=0.04359|Time spend=0.19023704528808594\n",
      "\tVALENCE-s11-RASM|Acc=0.7125|10-CV=0.685|STD=0.03202|Time spend=0.2008063793182373\n",
      "\tVALENCE-s11-DCAU|Acc=0.725|10-CV=0.73|STD=0.06|Time spend=0.21138906478881836\n",
      "\tVALENCE-s12-DASM|Acc=0.6125|10-CV=0.64|STD=0.10677|Time spend=0.18027210235595703\n",
      "\tVALENCE-s12-RASM|Acc=0.6875|10-CV=0.635|STD=0.11192|Time spend=0.1914980411529541\n",
      "\tVALENCE-s12-DCAU|Acc=0.6125|10-CV=0.6|STD=0.07416|Time spend=0.20288300514221191\n",
      "\tVALENCE-s13-DASM|Acc=0.75|10-CV=0.725|STD=0.0461|Time spend=0.18575811386108398\n",
      "\tVALENCE-s13-RASM|Acc=0.5875|10-CV=0.585|STD=0.02291|Time spend=0.19818520545959473\n",
      "\tVALENCE-s13-DCAU|Acc=0.775|10-CV=0.795|STD=0.06103|Time spend=0.20976614952087402\n",
      "\tVALENCE-s14-DASM|Acc=0.6875|10-CV=0.655|STD=0.11281|Time spend=0.20585155487060547\n",
      "\tVALENCE-s14-RASM|Acc=0.7375|10-CV=0.74|STD=0.05831|Time spend=0.2198786735534668\n",
      "\tVALENCE-s14-DCAU|Acc=0.7|10-CV=0.565|STD=0.105|Time spend=0.23333239555358887\n",
      "\tVALENCE-s15-DASM|Acc=0.8|10-CV=0.75|STD=0.0866|Time spend=0.20531368255615234\n",
      "\tVALENCE-s15-RASM|Acc=0.55|10-CV=0.485|STD=0.07762|Time spend=0.21639466285705566\n",
      "\tVALENCE-s15-DCAU|Acc=0.775|10-CV=0.76|STD=0.06633|Time spend=0.22637152671813965\n",
      "\tVALENCE-s16-DASM|Acc=0.7375|10-CV=0.67|STD=0.05568|Time spend=0.18344426155090332\n",
      "\tVALENCE-s16-RASM|Acc=0.65|10-CV=0.63|STD=0.03317|Time spend=0.1956026554107666\n",
      "\tVALENCE-s16-DCAU|Acc=0.725|10-CV=0.67|STD=0.06403|Time spend=0.2082984447479248\n",
      "-----WARNING: Model s17 failed to learn: sum(ans)=80.0 sum(y)=44.0 len(y)=80\n",
      "\tVALENCE-s17-DASM|Acc=0.55|10-CV=0.55|STD=0.0|Time spend=0.19042539596557617\n",
      "\tVALENCE-s17-RASM|Acc=0.5875|10-CV=0.555|STD=0.015|Time spend=0.20372843742370605\n",
      "-----WARNING: Model s17 failed to learn: sum(ans)=80.0 sum(y)=44.0 len(y)=80\n",
      "\tVALENCE-s17-DCAU|Acc=0.55|10-CV=0.55|STD=0.0|Time spend=0.21560382843017578\n",
      "\tVALENCE-s18-DASM|Acc=0.75|10-CV=0.67|STD=0.0781|Time spend=0.19955897331237793\n",
      "\tVALENCE-s18-RASM|Acc=0.625|10-CV=0.585|STD=0.045|Time spend=0.2116694450378418\n",
      "\tVALENCE-s18-DCAU|Acc=0.8|10-CV=0.75|STD=0.05916|Time spend=0.2233574390411377\n",
      "\tVALENCE-s19-DASM|Acc=0.5875|10-CV=0.585|STD=0.02291|Time spend=0.19465065002441406\n",
      "\tVALENCE-s19-RASM|Acc=0.6|10-CV=0.59|STD=0.02|Time spend=0.20610618591308594\n",
      "\tVALENCE-s19-DCAU|Acc=0.625|10-CV=0.58|STD=0.04583|Time spend=0.2166433334350586\n",
      "\tVALENCE-s20-DASM|Acc=0.8125|10-CV=0.765|STD=0.05937|Time spend=0.18260550498962402\n",
      "\tVALENCE-s20-RASM|Acc=0.8|10-CV=0.76|STD=0.07681|Time spend=0.19447779655456543\n",
      "\tVALENCE-s20-DCAU|Acc=0.7875|10-CV=0.75|STD=0.08062|Time spend=0.2057514190673828\n",
      "\tVALENCE-s21-DASM|Acc=0.65|10-CV=0.56|STD=0.08888|Time spend=0.20435214042663574\n",
      "\tVALENCE-s21-RASM|Acc=0.7|10-CV=0.61|STD=0.07|Time spend=0.21889472007751465\n",
      "\tVALENCE-s21-DCAU|Acc=0.6625|10-CV=0.565|STD=0.07762|Time spend=0.22939801216125488\n",
      "\tVALENCE-s22-DASM|Acc=0.65|10-CV=0.625|STD=0.07826|Time spend=0.17956089973449707\n",
      "\tVALENCE-s22-RASM|Acc=0.6375|10-CV=0.635|STD=0.08382|Time spend=0.19164323806762695\n",
      "\tVALENCE-s22-DCAU|Acc=0.65|10-CV=0.625|STD=0.06021|Time spend=0.20415186882019043\n",
      "-----WARNING: Model s23 failed to learn: sum(ans)=80.0 sum(y)=52.0 len(y)=80\n",
      "\tVALENCE-s23-DASM|Acc=0.65|10-CV=0.65|STD=0.0|Time spend=0.2049863338470459\n",
      "-----WARNING: Model s23 failed to learn: sum(ans)=80.0 sum(y)=52.0 len(y)=80\n",
      "\tVALENCE-s23-RASM|Acc=0.65|10-CV=0.65|STD=0.0|Time spend=0.21721887588500977\n",
      "-----WARNING: Model s23 failed to learn: sum(ans)=80.0 sum(y)=52.0 len(y)=80\n",
      "\tVALENCE-s23-DCAU|Acc=0.65|10-CV=0.65|STD=0.0|Time spend=0.229902982711792\n",
      "-----WARNING: Model s24 failed to learn: sum(ans)=0.0 sum(y)=36.0 len(y)=80\n",
      "\tVALENCE-s24-DASM|Acc=0.55|10-CV=0.55|STD=0.0|Time spend=0.2761099338531494\n",
      "\tVALENCE-s24-RASM|Acc=0.6375|10-CV=0.56|STD=0.05831|Time spend=0.2949392795562744\n",
      "\tVALENCE-s24-DCAU|Acc=0.5625|10-CV=0.55|STD=0.0|Time spend=0.3124406337738037\n",
      "-----WARNING: Model s25 failed to learn: sum(ans)=0.0 sum(y)=38.0 len(y)=80\n",
      "\tVALENCE-s25-DASM|Acc=0.525|10-CV=0.52|STD=0.02449|Time spend=0.28655004501342773\n",
      "-----WARNING: Model s25 failed to learn: sum(ans)=0.0 sum(y)=38.0 len(y)=80\n",
      "\tVALENCE-s25-RASM|Acc=0.525|10-CV=0.505|STD=0.04153|Time spend=0.30226659774780273\n",
      "\tVALENCE-s25-DCAU|Acc=0.5375|10-CV=0.515|STD=0.03905|Time spend=0.319350004196167\n",
      "-----WARNING: Model s26 failed to learn: sum(ans)=80.0 sum(y)=52.0 len(y)=80\n",
      "\tVALENCE-s26-DASM|Acc=0.65|10-CV=0.65|STD=0.0|Time spend=0.290447473526001\n",
      "\tVALENCE-s26-RASM|Acc=0.6875|10-CV=0.66|STD=0.02|Time spend=0.3008451461791992\n",
      "\tVALENCE-s26-DCAU|Acc=0.75|10-CV=0.645|STD=0.05679|Time spend=0.31072998046875\n",
      "-----WARNING: Model s27 failed to learn: sum(ans)=80.0 sum(y)=60.0 len(y)=80\n",
      "\tVALENCE-s27-DASM|Acc=0.75|10-CV=0.75|STD=0.0|Time spend=0.25750303268432617\n",
      "\tVALENCE-s27-RASM|Acc=0.775|10-CV=0.74|STD=0.03|Time spend=0.26938819885253906\n",
      "-----WARNING: Model s27 failed to learn: sum(ans)=80.0 sum(y)=60.0 len(y)=80\n",
      "\tVALENCE-s27-DCAU|Acc=0.75|10-CV=0.75|STD=0.0|Time spend=0.278759241104126\n",
      "-----WARNING: Model s28 failed to learn: sum(ans)=80.0 sum(y)=50.0 len(y)=80\n",
      "\tVALENCE-s28-DASM|Acc=0.625|10-CV=0.63|STD=0.02449|Time spend=0.22802352905273438\n",
      "\tVALENCE-s28-RASM|Acc=0.6875|10-CV=0.615|STD=0.06344|Time spend=0.23997974395751953\n",
      "-----WARNING: Model s28 failed to learn: sum(ans)=80.0 sum(y)=50.0 len(y)=80\n",
      "\tVALENCE-s28-DCAU|Acc=0.625|10-CV=0.63|STD=0.02449|Time spend=0.25136256217956543\n",
      "\tVALENCE-s29-DASM|Acc=0.675|10-CV=0.595|STD=0.04717|Time spend=0.2772066593170166\n",
      "-----WARNING: Model s29 failed to learn: sum(ans)=80.0 sum(y)=46.0 len(y)=80\n",
      "\tVALENCE-s29-RASM|Acc=0.575|10-CV=0.575|STD=0.03354|Time spend=0.28778862953186035\n",
      "\tVALENCE-s29-DCAU|Acc=0.6875|10-CV=0.6|STD=0.05|Time spend=0.29851436614990234\n",
      "-----WARNING: Model s30 failed to learn: sum(ans)=80.0 sum(y)=54.0 len(y)=80\n",
      "\tVALENCE-s30-DASM|Acc=0.675|10-CV=0.665|STD=0.02291|Time spend=0.18996119499206543\n",
      "-----WARNING: Model s30 failed to learn: sum(ans)=80.0 sum(y)=54.0 len(y)=80\n",
      "\tVALENCE-s30-RASM|Acc=0.675|10-CV=0.665|STD=0.02291|Time spend=0.20174860954284668\n",
      "-----WARNING: Model s30 failed to learn: sum(ans)=80.0 sum(y)=54.0 len(y)=80\n",
      "\tVALENCE-s30-DCAU|Acc=0.675|10-CV=0.665|STD=0.02291|Time spend=0.2129044532775879\n",
      "-----WARNING: Model s31 failed to learn: sum(ans)=80.0 sum(y)=46.0 len(y)=80\n",
      "\tVALENCE-s31-DASM|Acc=0.575|10-CV=0.585|STD=0.02291|Time spend=0.19434881210327148\n",
      "\tVALENCE-s31-RASM|Acc=0.6|10-CV=0.585|STD=0.02291|Time spend=0.20584487915039062\n",
      "-----WARNING: Model s31 failed to learn: sum(ans)=80.0 sum(y)=46.0 len(y)=80\n",
      "\tVALENCE-s31-DCAU|Acc=0.575|10-CV=0.58|STD=0.02449|Time spend=0.21687030792236328\n",
      "\tVALENCE-s32-DASM|Acc=0.6375|10-CV=0.61|STD=0.1044|Time spend=0.23442935943603516\n",
      "\tVALENCE-s32-RASM|Acc=0.5625|10-CV=0.525|STD=0.0461|Time spend=0.24485206604003906\n",
      "\tVALENCE-s32-DCAU|Acc=0.725|10-CV=0.655|STD=0.065|Time spend=0.2553093433380127\n",
      "VALENCE-DASM|Acc=0.661328125|10-CV=0.6329687499999999|STD=0.042198167878923144\n",
      "VALENCE-RASM|Acc=0.658203125|10-CV=0.6240624999999999|STD=0.04670182191564363\n",
      "VALENCE-DCAU|Acc=0.6800781250000001|10-CV=0.64359375|STD=0.04635995599218169\n",
      "TOTAL-DASM|Acc=0.6705078124999998|10-CV=0.6464062500000001|STD=0.03647434034262479\n",
      "TOTAL-RASM|Acc=0.6669921875000001|10-CV=0.6359374999999999|STD=0.040961252603170115\n",
      "TOTAL-DCAU|Acc=0.6806640625000001|10-CV=0.650625|STD=0.03845860936405384\n"
     ]
    }
   ],
   "source": [
    "bands = [(0,4), (4,8), (8,12), (12,30), (30,64)]\n",
    "# [alias_feature_function]__[optional_param]\n",
    "params = dict({\n",
    "    'pow_freq_bands__log':True,\n",
    "    'pow_freq_bands__normalize':False,\n",
    "    'pow_freq_bands__freq_bands':bands\n",
    "})\n",
    "\n",
    "accs,cv_means,cv_stds  = {'DASM':[],'RASM':[],'DCAU':[]},{'DASM':[],'RASM':[],'DCAU':[]},{'DASM':[],'RASM':[],'DCAU':[]}\n",
    "# count = 0\n",
    "for filename in dataset.get_file_list():\n",
    "    start = time.time()\n",
    "    data, labels, groups = dataset.get_data(filename, stimuli=Dataset_subjectDependent.STIMULI_AROUSAL, return_type='numpy')\n",
    "    fe = FeatureExtractor(sfreq=128, selected_funcs=['pow_freq_bands'],params=params,n_jobs=8)\n",
    "    X = fe.fit_transform(X=data)\n",
    "\n",
    "    PSD_left = X[:, left_channel_indexes].copy()\n",
    "    PSD_right = X[:, right_channel_indexes].copy()\n",
    "    PSD_frontal = X[:, frontal_channel_indexes].copy()\n",
    "    PSD_posterior = X[:, posterior_channel_indexes].copy()\n",
    "    X = {\n",
    "        'DASM': PSD_left - PSD_right,\n",
    "        'RASM': PSD_left / PSD_right,\n",
    "        'DCAU': PSD_frontal - PSD_posterior,\n",
    "    }\n",
    "\n",
    "    for feature_name in ['DASM','RASM','DCAU']:\n",
    "        _, acc, cross = train_model(X[feature_name], labels.reshape(-1), groups, filename=filename)\n",
    "        print(f\"\\tAROUSAL-{filename}-{feature_name}|Acc={round(acc,5)}|10-CV={round(cross.mean(),5)}|STD={round(cross.std(),5)}|Time spend={time.time() - start}\")\n",
    "        accs[feature_name].append(acc)\n",
    "        cv_means[feature_name].append(cross.mean())\n",
    "        cv_stds[feature_name].append(cross.std())\n",
    "    # count+=1\n",
    "    # if(count == 3): break\n",
    "for feature_name in ['DASM','RASM','DCAU']:\n",
    "    print(f\"AROUSAL-{feature_name}|Acc={sum(accs[feature_name])/len(accs[feature_name])}|10-CV={sum(cv_means[feature_name])/len(cv_means[feature_name])}|STD={sum(cv_stds[feature_name])/len(cv_stds[feature_name])}\")\n",
    "\n",
    "accs_v,cv_means_v,cv_stds_v  = {'DASM':[],'RASM':[],'DCAU':[]},{'DASM':[],'RASM':[],'DCAU':[]},{'DASM':[],'RASM':[],'DCAU':[]}\n",
    "# count=0\n",
    "for filename in dataset.get_file_list():\n",
    "    start = time.time()\n",
    "    data, labels, groups = dataset.get_data(filename, stimuli=Dataset_subjectDependent.STIMULI_VALENCE, return_type='numpy')\n",
    "    fe = FeatureExtractor(sfreq=128, selected_funcs=['pow_freq_bands'],params=params,n_jobs=8)\n",
    "    X = fe.fit_transform(X=data)\n",
    "\n",
    "    PSD_left = X[:, left_channel_indexes].copy()\n",
    "    PSD_right = X[:, right_channel_indexes].copy()\n",
    "    PSD_frontal = X[:, frontal_channel_indexes].copy()\n",
    "    PSD_posterior = X[:, posterior_channel_indexes].copy()\n",
    "    X = {\n",
    "        'DASM': PSD_left - PSD_right,\n",
    "        'RASM': PSD_left / PSD_right,\n",
    "        'DCAU': PSD_frontal - PSD_posterior,\n",
    "    }\n",
    "\n",
    "    for feature_name in ['DASM','RASM','DCAU']:\n",
    "        _, acc, cross = train_model(X[feature_name], labels.reshape(-1), groups, filename=filename)\n",
    "        print(f\"\\tVALENCE-{filename}-{feature_name}|Acc={round(acc,5)}|10-CV={round(cross.mean(),5)}|STD={round(cross.std(),5)}|Time spend={time.time() - start}\")\n",
    "        accs_v[feature_name].append(acc)\n",
    "        cv_means_v[feature_name].append(cross.mean())\n",
    "        cv_stds_v[feature_name].append(cross.std())\n",
    "    # count+=1\n",
    "    # if(count == 3): break\n",
    "for feature_name in ['DASM','RASM','DCAU']:\n",
    "    print(f\"VALENCE-{feature_name}|Acc={sum(accs_v[feature_name])/len(accs_v[feature_name])}|10-CV={sum(cv_means_v[feature_name])/len(cv_means_v[feature_name])}|STD={sum(cv_stds_v[feature_name])/len(cv_stds_v[feature_name])}\")\n",
    "\n",
    "for feature_name in ['DASM','RASM','DCAU']:\n",
    "    accs[feature_name].extend(accs_v[feature_name])\n",
    "    cv_means[feature_name].extend(cv_means_v[feature_name])\n",
    "    cv_stds[feature_name].extend(cv_stds_v[feature_name])\n",
    "    print(f\"TOTAL-{feature_name}|Acc={sum(accs[feature_name])/len(accs[feature_name])}|10-CV={sum(cv_means[feature_name])/len(cv_means[feature_name])}|STD={sum(cv_stds[feature_name])/len(cv_stds[feature_name])}\")"
   ]
  },
  {
   "cell_type": "markdown",
   "metadata": {},
   "source": [
    "## 4. Connectivity\n",
    "\n",
    "### 4.1 $ \\text{PCC}_{\\text{time}}(i,j) = \\frac{\\text{Cov}[\\mathbf{X}_i, \\mathbf{X}_j]}{\\sigma_{\\mathbf{X}_i} \\sigma_{\\mathbf{X}_j}} $"
   ]
  },
  {
   "cell_type": "code",
   "execution_count": 7,
   "metadata": {},
   "outputs": [],
   "source": [
    "\n",
    "def pearson_correlation(x,y):\n",
    "    \"\"\" x,y denoted the signal_x and signal_y following the equation \"\"\"\n",
    "    cov = np.cov(x, y)\n",
    "    # print(cov)\n",
    "    # [[ 8806859.74527069  8007149.0906219 ] ==> [[cov_xx, cov_xy]\n",
    "    # [ 8007149.0906219  10396797.72458848]]      [cov_yx, cov_yy]]\n",
    "    cov_xy = cov[0,1] # or cov[1,0]\n",
    "    cov_xx = cov[0,0]\n",
    "    cov_yy = cov[1,1]\n",
    "    corr = cov_xy / ( cov_xx**0.5 * cov_yy**0.5  )\n",
    "    return corr\n",
    "\n",
    "def _cal(p_id, partial_data):\n",
    "    # print(f\"p_id:{p_id} - data to run {partial_data.shape}\")\n",
    "    from itertools import combinations\n",
    "    pcc = []\n",
    "    for index in range(partial_data.shape[0]):\n",
    "        pcc_epoch = []\n",
    "        for comb in combinations(list(range(partial_data.shape[1])), 2):\n",
    "            pcc_ab = pearson_correlation(partial_data[index, comb[0], :], partial_data[index, comb[1], :]   )\n",
    "            pcc_epoch.append(pcc_ab)\n",
    "        pcc_epoch = np.hstack(pcc_epoch)\n",
    "        pcc.append(pcc_epoch)\n",
    "    pcc = np.vstack(pcc)\n",
    "    return pcc\n",
    "\n",
    "def calculate_pcc(data, n_jobs=8):\n",
    "    \"\"\" \n",
    "    Input: Expect data to have (n_epochs, n_channels, n_samples)\n",
    "    Output: (n_epochs, n_conn ) => n_conn = n_channels!/(2!(n_channels-2)!)\n",
    "    \"\"\"\n",
    "    from multiprocessing import Pool\n",
    "\n",
    "    try:\n",
    "        t_out = 60000\n",
    "        pool = Pool()\n",
    "        p_list = []\n",
    "        ans_list = []\n",
    "        num_p = n_jobs\n",
    "        indices = np.array_split(np.arange(data.shape[0]), num_p)\n",
    "        for p_id in range(num_p):\n",
    "            p_list.append(pool.apply_async(_cal, [p_id, data[indices[p_id]] ]))\n",
    "        for p_id in range(num_p):\n",
    "            ans_list.append( p_list[p_id].get(timeout=t_out) )\n",
    "        # ans_list\n",
    "    except Exception as e:\n",
    "        print(e)\n",
    "    finally:\n",
    "        print(\"========= close ========\")\n",
    "        pool.close() \n",
    "        pool.terminate()\n",
    "    return np.vstack(ans_list)"
   ]
  },
  {
   "cell_type": "code",
   "execution_count": 8,
   "metadata": {},
   "outputs": [
    {
     "data": {
      "application/vnd.jupyter.widget-view+json": {
       "model_id": "ed657c92b21f434c88f3a7c48aa54547",
       "version_major": 2,
       "version_minor": 0
      },
      "text/plain": [
       "  0%|          | 0/32 [00:00<?, ?it/s]"
      ]
     },
     "metadata": {},
     "output_type": "display_data"
    },
    {
     "name": "stdout",
     "output_type": "stream",
     "text": [
      "Fitted sphere radius:         95.3 mm\n",
      "Origin head coordinates:      -0.8 15.1 45.3 mm\n",
      "Origin device coordinates:    -0.8 15.1 45.3 mm\n",
      "========= close ========\n",
      "\tAROUSAL-s01|Acc=0.6|10-CV=0.6|STD=0.0|Time spend=0.8097360134124756\n",
      "\tVALENCE-s01|Acc=0.6125|10-CV=0.545|STD=0.035|Time spend=0.8612370491027832\n",
      "Fitted sphere radius:         95.3 mm\n",
      "Origin head coordinates:      -0.8 15.1 45.3 mm\n",
      "Origin device coordinates:    -0.8 15.1 45.3 mm\n",
      "========= close ========\n",
      "\tAROUSAL-s02|Acc=0.6|10-CV=0.6|STD=0.0|Time spend=0.8346667289733887\n",
      "\tVALENCE-s02|Acc=0.55|10-CV=0.55|STD=0.0|Time spend=0.8859176635742188\n",
      "Fitted sphere radius:         95.3 mm\n",
      "Origin head coordinates:      -0.8 15.1 45.3 mm\n",
      "Origin device coordinates:    -0.8 15.1 45.3 mm\n",
      "========= close ========\n",
      "\tAROUSAL-s03|Acc=0.8|10-CV=0.8|STD=0.0|Time spend=0.9414215087890625\n",
      "\tVALENCE-s03|Acc=0.55|10-CV=0.55|STD=0.0|Time spend=0.9992475509643555\n",
      "Fitted sphere radius:         95.3 mm\n",
      "Origin head coordinates:      -0.8 15.1 45.3 mm\n",
      "Origin device coordinates:    -0.8 15.1 45.3 mm\n",
      "========= close ========\n",
      "\tAROUSAL-s04|Acc=0.6|10-CV=0.6|STD=0.0|Time spend=0.9344725608825684\n",
      "\tVALENCE-s04|Acc=0.6|10-CV=0.6|STD=0.0|Time spend=0.9895322322845459\n",
      "Fitted sphere radius:         95.3 mm\n",
      "Origin head coordinates:      -0.8 15.1 45.3 mm\n",
      "Origin device coordinates:    -0.8 15.1 45.3 mm\n",
      "========= close ========\n",
      "\tAROUSAL-s05|Acc=0.525|10-CV=0.525|STD=0.025|Time spend=0.8406248092651367\n",
      "\tVALENCE-s05|Acc=0.6|10-CV=0.6|STD=0.0|Time spend=0.9103453159332275\n",
      "Fitted sphere radius:         95.3 mm\n",
      "Origin head coordinates:      -0.8 15.1 45.3 mm\n",
      "Origin device coordinates:    -0.8 15.1 45.3 mm\n",
      "========= close ========\n",
      "\tAROUSAL-s06|Acc=0.575|10-CV=0.585|STD=0.02291|Time spend=0.8782021999359131\n",
      "\tVALENCE-s06|Acc=0.75|10-CV=0.75|STD=0.0|Time spend=0.9347131252288818\n",
      "Fitted sphere radius:         95.3 mm\n",
      "Origin head coordinates:      -0.8 15.1 45.3 mm\n",
      "Origin device coordinates:    -0.8 15.1 45.3 mm\n",
      "========= close ========\n",
      "\tAROUSAL-s07|Acc=0.625|10-CV=0.63|STD=0.02449|Time spend=0.9105257987976074\n",
      "\tVALENCE-s07|Acc=0.7|10-CV=0.7|STD=0.0|Time spend=0.9678552150726318\n",
      "Fitted sphere radius:         95.3 mm\n",
      "Origin head coordinates:      -0.8 15.1 45.3 mm\n",
      "Origin device coordinates:    -0.8 15.1 45.3 mm\n",
      "========= close ========\n",
      "\tAROUSAL-s08|Acc=0.575|10-CV=0.585|STD=0.02291|Time spend=0.884850263595581\n",
      "\tVALENCE-s08|Acc=0.6625|10-CV=0.645|STD=0.065|Time spend=0.9362785816192627\n",
      "Fitted sphere radius:         95.3 mm\n",
      "Origin head coordinates:      -0.8 15.1 45.3 mm\n",
      "Origin device coordinates:    -0.8 15.1 45.3 mm\n",
      "========= close ========\n",
      "\tAROUSAL-s09|Acc=0.6|10-CV=0.6|STD=0.0|Time spend=1.038620948791504\n",
      "\tVALENCE-s09|Acc=0.7125|10-CV=0.7|STD=0.05|Time spend=1.0866975784301758\n",
      "Fitted sphere radius:         95.3 mm\n",
      "Origin head coordinates:      -0.8 15.1 45.3 mm\n",
      "Origin device coordinates:    -0.8 15.1 45.3 mm\n",
      "========= close ========\n",
      "\tAROUSAL-s10|Acc=0.5375|10-CV=0.53|STD=0.04583|Time spend=0.9708642959594727\n",
      "\tVALENCE-s10|Acc=0.7|10-CV=0.69|STD=0.09165|Time spend=1.0264263153076172\n",
      "Fitted sphere radius:         95.3 mm\n",
      "Origin head coordinates:      -0.8 15.1 45.3 mm\n",
      "Origin device coordinates:    -0.8 15.1 45.3 mm\n",
      "========= close ========\n",
      "\tAROUSAL-s11|Acc=0.625|10-CV=0.635|STD=0.02291|Time spend=0.8254868984222412\n",
      "\tVALENCE-s11|Acc=0.6|10-CV=0.6|STD=0.0|Time spend=0.8776519298553467\n",
      "Fitted sphere radius:         95.3 mm\n",
      "Origin head coordinates:      -0.8 15.1 45.3 mm\n",
      "Origin device coordinates:    -0.8 15.1 45.3 mm\n",
      "========= close ========\n",
      "\tAROUSAL-s12|Acc=0.825|10-CV=0.82|STD=0.02449|Time spend=0.8950908184051514\n",
      "\tVALENCE-s12|Acc=0.525|10-CV=0.525|STD=0.025|Time spend=0.9501380920410156\n",
      "Fitted sphere radius:         95.3 mm\n",
      "Origin head coordinates:      -0.8 15.1 45.3 mm\n",
      "Origin device coordinates:    -0.8 15.1 45.3 mm\n",
      "========= close ========\n",
      "\tAROUSAL-s13|Acc=0.85|10-CV=0.85|STD=0.0|Time spend=0.909661054611206\n",
      "\tVALENCE-s13|Acc=0.7875|10-CV=0.68|STD=0.07141|Time spend=0.9647386074066162\n",
      "Fitted sphere radius:         95.3 mm\n",
      "Origin head coordinates:      -0.8 15.1 45.3 mm\n",
      "Origin device coordinates:    -0.8 15.1 45.3 mm\n",
      "========= close ========\n",
      "\tAROUSAL-s14|Acc=0.675|10-CV=0.665|STD=0.02291|Time spend=1.097172498703003\n",
      "\tVALENCE-s14|Acc=0.6125|10-CV=0.605|STD=0.07566|Time spend=1.1516027450561523\n",
      "Fitted sphere radius:         95.3 mm\n",
      "Origin head coordinates:      -0.8 15.1 45.3 mm\n",
      "Origin device coordinates:    -0.8 15.1 45.3 mm\n",
      "========= close ========\n",
      "\tAROUSAL-s15|Acc=0.525|10-CV=0.525|STD=0.025|Time spend=0.8259196281433105\n",
      "\tVALENCE-s15|Acc=0.775|10-CV=0.71|STD=0.07|Time spend=0.8767201900482178\n",
      "Fitted sphere radius:         95.3 mm\n",
      "Origin head coordinates:      -0.8 15.1 45.3 mm\n",
      "Origin device coordinates:    -0.8 15.1 45.3 mm\n",
      "========= close ========\n",
      "\tAROUSAL-s16|Acc=0.625|10-CV=0.5|STD=0.08367|Time spend=0.8519294261932373\n",
      "\tVALENCE-s16|Acc=0.625|10-CV=0.635|STD=0.02291|Time spend=0.918574333190918\n",
      "Fitted sphere radius:         95.3 mm\n",
      "Origin head coordinates:      -0.8 15.1 45.3 mm\n",
      "Origin device coordinates:    -0.8 15.1 45.3 mm\n",
      "========= close ========\n",
      "\tAROUSAL-s17|Acc=0.6|10-CV=0.6|STD=0.0|Time spend=0.9130277633666992\n",
      "\tVALENCE-s17|Acc=0.55|10-CV=0.55|STD=0.0|Time spend=0.9643068313598633\n",
      "Fitted sphere radius:         95.3 mm\n",
      "Origin head coordinates:      -0.8 15.1 45.3 mm\n",
      "Origin device coordinates:    -0.8 15.1 45.3 mm\n",
      "========= close ========\n",
      "\tAROUSAL-s18|Acc=0.625|10-CV=0.63|STD=0.02449|Time spend=0.8726639747619629\n",
      "\tVALENCE-s18|Acc=0.6625|10-CV=0.615|STD=0.03202|Time spend=0.9456584453582764\n",
      "Fitted sphere radius:         95.3 mm\n",
      "Origin head coordinates:      -0.8 15.1 45.3 mm\n",
      "Origin device coordinates:    -0.8 15.1 45.3 mm\n",
      "========= close ========\n",
      "\tAROUSAL-s19|Acc=0.675|10-CV=0.665|STD=0.02291|Time spend=0.9120385646820068\n",
      "\tVALENCE-s19|Acc=0.575|10-CV=0.585|STD=0.02291|Time spend=0.964228630065918\n",
      "Fitted sphere radius:         95.3 mm\n",
      "Origin head coordinates:      -0.8 15.1 45.3 mm\n",
      "Origin device coordinates:    -0.8 15.1 45.3 mm\n",
      "========= close ========\n",
      "\tAROUSAL-s20|Acc=0.775|10-CV=0.77|STD=0.02449|Time spend=0.8671071529388428\n",
      "\tVALENCE-s20|Acc=0.65|10-CV=0.595|STD=0.0522|Time spend=0.9276793003082275\n",
      "Fitted sphere radius:         95.3 mm\n",
      "Origin head coordinates:      -0.8 15.1 45.3 mm\n",
      "Origin device coordinates:    -0.8 15.1 45.3 mm\n",
      "========= close ========\n",
      "\tAROUSAL-s21|Acc=0.8|10-CV=0.8|STD=0.0|Time spend=1.0961577892303467\n",
      "\tVALENCE-s21|Acc=0.55|10-CV=0.525|STD=0.025|Time spend=1.1570630073547363\n",
      "Fitted sphere radius:         95.3 mm\n",
      "Origin head coordinates:      -0.8 15.1 45.3 mm\n",
      "Origin device coordinates:    -0.8 15.1 45.3 mm\n",
      "========= close ========\n",
      "\tAROUSAL-s22|Acc=0.6|10-CV=0.6|STD=0.0|Time spend=0.8938190937042236\n",
      "\tVALENCE-s22|Acc=0.55|10-CV=0.55|STD=0.0|Time spend=0.9473848342895508\n",
      "Fitted sphere radius:         95.3 mm\n",
      "Origin head coordinates:      -0.8 15.1 45.3 mm\n",
      "Origin device coordinates:    -0.8 15.1 45.3 mm\n",
      "========= close ========\n",
      "\tAROUSAL-s23|Acc=0.75|10-CV=0.75|STD=0.0|Time spend=0.9073319435119629\n",
      "\tVALENCE-s23|Acc=0.65|10-CV=0.65|STD=0.0|Time spend=0.9599981307983398\n",
      "Fitted sphere radius:         95.3 mm\n",
      "Origin head coordinates:      -0.8 15.1 45.3 mm\n",
      "Origin device coordinates:    -0.8 15.1 45.3 mm\n",
      "========= close ========\n",
      "\tAROUSAL-s24|Acc=0.825|10-CV=0.82|STD=0.02449|Time spend=1.0598890781402588\n",
      "\tVALENCE-s24|Acc=0.55|10-CV=0.55|STD=0.0|Time spend=1.111783742904663\n",
      "Fitted sphere radius:         95.3 mm\n",
      "Origin head coordinates:      -0.8 15.1 45.3 mm\n",
      "Origin device coordinates:    -0.8 15.1 45.3 mm\n",
      "========= close ========\n",
      "\tAROUSAL-s25|Acc=0.725|10-CV=0.72|STD=0.02449|Time spend=0.9146606922149658\n",
      "\tVALENCE-s25|Acc=0.525|10-CV=0.525|STD=0.025|Time spend=0.9682133197784424\n",
      "Fitted sphere radius:         95.3 mm\n",
      "Origin head coordinates:      -0.8 15.1 45.3 mm\n",
      "Origin device coordinates:    -0.8 15.1 45.3 mm\n",
      "========= close ========\n",
      "\tAROUSAL-s26|Acc=0.625|10-CV=0.58|STD=0.04583|Time spend=0.8976626396179199\n",
      "\tVALENCE-s26|Acc=0.65|10-CV=0.65|STD=0.0|Time spend=0.9577124118804932\n",
      "Fitted sphere radius:         95.3 mm\n",
      "Origin head coordinates:      -0.8 15.1 45.3 mm\n",
      "Origin device coordinates:    -0.8 15.1 45.3 mm\n",
      "========= close ========\n",
      "\tAROUSAL-s27|Acc=0.675|10-CV=0.66|STD=0.03|Time spend=1.7419919967651367\n",
      "\tVALENCE-s27|Acc=0.75|10-CV=0.75|STD=0.0|Time spend=1.8230962753295898\n",
      "Fitted sphere radius:         95.3 mm\n",
      "Origin head coordinates:      -0.8 15.1 45.3 mm\n",
      "Origin device coordinates:    -0.8 15.1 45.3 mm\n",
      "========= close ========\n",
      "\tAROUSAL-s28|Acc=0.55|10-CV=0.55|STD=0.0|Time spend=1.1894807815551758\n",
      "\tVALENCE-s28|Acc=0.625|10-CV=0.63|STD=0.02449|Time spend=1.2592709064483643\n",
      "Fitted sphere radius:         95.3 mm\n",
      "Origin head coordinates:      -0.8 15.1 45.3 mm\n",
      "Origin device coordinates:    -0.8 15.1 45.3 mm\n",
      "========= close ========\n",
      "\tAROUSAL-s29|Acc=0.625|10-CV=0.63|STD=0.02449|Time spend=0.9006121158599854\n",
      "\tVALENCE-s29|Acc=0.65|10-CV=0.595|STD=0.12339|Time spend=0.954923152923584\n",
      "Fitted sphere radius:         95.3 mm\n",
      "Origin head coordinates:      -0.8 15.1 45.3 mm\n",
      "Origin device coordinates:    -0.8 15.1 45.3 mm\n",
      "========= close ========\n",
      "\tAROUSAL-s30|Acc=0.6375|10-CV=0.67|STD=0.10536|Time spend=0.888810396194458\n",
      "\tVALENCE-s30|Acc=0.675|10-CV=0.665|STD=0.02291|Time spend=0.9394376277923584\n",
      "Fitted sphere radius:         95.3 mm\n",
      "Origin head coordinates:      -0.8 15.1 45.3 mm\n",
      "Origin device coordinates:    -0.8 15.1 45.3 mm\n",
      "========= close ========\n",
      "\tAROUSAL-s31|Acc=0.525|10-CV=0.52|STD=0.02449|Time spend=1.113931655883789\n",
      "\tVALENCE-s31|Acc=0.575|10-CV=0.585|STD=0.02291|Time spend=1.2227485179901123\n",
      "Fitted sphere radius:         95.3 mm\n",
      "Origin head coordinates:      -0.8 15.1 45.3 mm\n",
      "Origin device coordinates:    -0.8 15.1 45.3 mm\n",
      "========= close ========\n",
      "\tAROUSAL-s32|Acc=0.675|10-CV=0.665|STD=0.02291|Time spend=1.0407469272613525\n",
      "\tVALENCE-s32|Acc=0.725|10-CV=0.755|STD=0.07566|Time spend=1.1021690368652344\n",
      "AROUSAL|Acc=0.6515625|10-CV=0.64625|STD=0.021690953261011933\n",
      "VALENCE|Acc=0.6335937500000001|10-CV=0.620625|STD=0.02916082654812368\n"
     ]
    }
   ],
   "source": [
    "accs, cv_means, cv_stds = [],[],[]\n",
    "accs_v, cv_means_v, cv_stds_v = [],[],[]\n",
    "reports = []\n",
    "for filename in (pbar := tqdm(dataset.get_file_list())):\n",
    "    start = time.time()\n",
    "    pbar.set_description(filename)\n",
    "    data, labels, groups = dataset.get_data(filename, stimuli=Dataset_subjectDependent.STIMULI_AROUSAL, return_type='mne', sfreq=128)\n",
    "    data_csd = mne.preprocessing.compute_current_source_density(data)\n",
    "    pcc = calculate_pcc(data_csd.get_data())\n",
    "    _,acc,cross,train_report = train_model(pcc, labels.squeeze(), groups, filename=filename, return_text=True)\n",
    "    report = f\"\\tAROUSAL-{filename}|Acc={round(acc,5)}|10-CV={round(cross.mean(),5)}|STD={round(cross.std(),5)}|Time spend={time.time() - start}\"\n",
    "    print(report)\n",
    "    reports.append(report)\n",
    "    reports.append(train_report)\n",
    "    accs.append(acc)\n",
    "    cv_means.append(cross.mean())\n",
    "    cv_stds.append(cross.std())\n",
    "\n",
    "    _, labels_v, groups_v = dataset.get_data(filename, stimuli=Dataset_subjectDependent.STIMULI_VALENCE, return_type='mne', sfreq=128)\n",
    "    _,acc,cross,train_report = train_model(pcc, labels_v.squeeze(), groups_v, filename=filename, return_text=True)\n",
    "    report = f\"\\tVALENCE-{filename}|Acc={round(acc,5)}|10-CV={round(cross.mean(),5)}|STD={round(cross.std(),5)}|Time spend={time.time() - start}\"\n",
    "    print(report)\n",
    "    reports.append(report)\n",
    "    reports.append(train_report)\n",
    "    accs_v.append(acc)\n",
    "    cv_means_v.append(cross.mean())\n",
    "    cv_stds_v.append(cross.std())\n",
    "    # break\n",
    "    # count+=1\n",
    "    # if(count == 5): break\n",
    "report = f\"AROUSAL|Acc={sum(accs)/len(accs)}|10-CV={sum(cv_means)/len(cv_means)}|STD={sum(cv_stds)/len(cv_stds)}\"\n",
    "print(report)\n",
    "reports.append(report)\n",
    "report = f\"VALENCE|Acc={sum(accs_v)/len(accs_v)}|10-CV={sum(cv_means_v)/len(cv_means_v)}|STD={sum(cv_stds_v)/len(cv_stds_v)}\"\n",
    "print(report)\n",
    "reports.append(report)"
   ]
  },
  {
   "cell_type": "code",
   "execution_count": 9,
   "metadata": {},
   "outputs": [
    {
     "name": "stdout",
     "output_type": "stream",
     "text": [
      "\tAROUSAL-s01|Acc=0.6|10-CV=0.6|STD=0.0|Time spend=0.8097360134124756\n",
      "-----WARNING: Model s01 failed to learn: sum(ans)=80.0 sum(y)=48.0 len(y)=80\n",
      "\tVALENCE-s01|Acc=0.6125|10-CV=0.545|STD=0.035|Time spend=0.8612370491027832\n",
      "\tAROUSAL-s02|Acc=0.6|10-CV=0.6|STD=0.0|Time spend=0.8346667289733887\n",
      "-----WARNING: Model s02 failed to learn: sum(ans)=80.0 sum(y)=48.0 len(y)=80\n",
      "\tVALENCE-s02|Acc=0.55|10-CV=0.55|STD=0.0|Time spend=0.8859176635742188\n",
      "-----WARNING: Model s02 failed to learn: sum(ans)=80.0 sum(y)=44.0 len(y)=80\n",
      "\tAROUSAL-s03|Acc=0.8|10-CV=0.8|STD=0.0|Time spend=0.9414215087890625\n",
      "-----WARNING: Model s03 failed to learn: sum(ans)=0.0 sum(y)=16.0 len(y)=80\n",
      "\tVALENCE-s03|Acc=0.55|10-CV=0.55|STD=0.0|Time spend=0.9992475509643555\n",
      "-----WARNING: Model s03 failed to learn: sum(ans)=80.0 sum(y)=44.0 len(y)=80\n",
      "\tAROUSAL-s04|Acc=0.6|10-CV=0.6|STD=0.0|Time spend=0.9344725608825684\n",
      "-----WARNING: Model s04 failed to learn: sum(ans)=0.0 sum(y)=32.0 len(y)=80\n",
      "\tVALENCE-s04|Acc=0.6|10-CV=0.6|STD=0.0|Time spend=0.9895322322845459\n",
      "-----WARNING: Model s04 failed to learn: sum(ans)=0.0 sum(y)=32.0 len(y)=80\n",
      "\tAROUSAL-s05|Acc=0.525|10-CV=0.525|STD=0.025|Time spend=0.8406248092651367\n",
      "-----WARNING: Model s05 failed to learn: sum(ans)=0.0 sum(y)=38.0 len(y)=80\n",
      "\tVALENCE-s05|Acc=0.6|10-CV=0.6|STD=0.0|Time spend=0.9103453159332275\n",
      "-----WARNING: Model s05 failed to learn: sum(ans)=80.0 sum(y)=48.0 len(y)=80\n",
      "\tAROUSAL-s06|Acc=0.575|10-CV=0.585|STD=0.02291|Time spend=0.8782021999359131\n",
      "-----WARNING: Model s06 failed to learn: sum(ans)=0.0 sum(y)=34.0 len(y)=80\n",
      "\tVALENCE-s06|Acc=0.75|10-CV=0.75|STD=0.0|Time spend=0.9347131252288818\n",
      "-----WARNING: Model s06 failed to learn: sum(ans)=80.0 sum(y)=60.0 len(y)=80\n",
      "\tAROUSAL-s07|Acc=0.625|10-CV=0.63|STD=0.02449|Time spend=0.9105257987976074\n",
      "-----WARNING: Model s07 failed to learn: sum(ans)=80.0 sum(y)=50.0 len(y)=80\n",
      "\tVALENCE-s07|Acc=0.7|10-CV=0.7|STD=0.0|Time spend=0.9678552150726318\n",
      "-----WARNING: Model s07 failed to learn: sum(ans)=80.0 sum(y)=56.0 len(y)=80\n",
      "\tAROUSAL-s08|Acc=0.575|10-CV=0.585|STD=0.02291|Time spend=0.884850263595581\n",
      "-----WARNING: Model s08 failed to learn: sum(ans)=80.0 sum(y)=46.0 len(y)=80\n",
      "\tVALENCE-s08|Acc=0.6625|10-CV=0.645|STD=0.065|Time spend=0.9362785816192627\n",
      "\tAROUSAL-s09|Acc=0.6|10-CV=0.6|STD=0.0|Time spend=1.038620948791504\n",
      "-----WARNING: Model s09 failed to learn: sum(ans)=80.0 sum(y)=48.0 len(y)=80\n",
      "\tVALENCE-s09|Acc=0.7125|10-CV=0.7|STD=0.05|Time spend=1.0866975784301758\n",
      "\tAROUSAL-s10|Acc=0.5375|10-CV=0.53|STD=0.04583|Time spend=0.9708642959594727\n",
      "\tVALENCE-s10|Acc=0.7|10-CV=0.69|STD=0.09165|Time spend=1.0264263153076172\n",
      "\tAROUSAL-s11|Acc=0.625|10-CV=0.635|STD=0.02291|Time spend=0.8254868984222412\n",
      "-----WARNING: Model s11 failed to learn: sum(ans)=0.0 sum(y)=30.0 len(y)=80\n",
      "\tVALENCE-s11|Acc=0.6|10-CV=0.6|STD=0.0|Time spend=0.8776519298553467\n",
      "-----WARNING: Model s11 failed to learn: sum(ans)=80.0 sum(y)=48.0 len(y)=80\n",
      "\tAROUSAL-s12|Acc=0.825|10-CV=0.82|STD=0.02449|Time spend=0.8950908184051514\n",
      "-----WARNING: Model s12 failed to learn: sum(ans)=80.0 sum(y)=66.0 len(y)=80\n",
      "\tVALENCE-s12|Acc=0.525|10-CV=0.525|STD=0.025|Time spend=0.9501380920410156\n",
      "-----WARNING: Model s12 failed to learn: sum(ans)=80.0 sum(y)=42.0 len(y)=80\n",
      "\tAROUSAL-s13|Acc=0.85|10-CV=0.85|STD=0.0|Time spend=0.909661054611206\n",
      "-----WARNING: Model s13 failed to learn: sum(ans)=80.0 sum(y)=68.0 len(y)=80\n",
      "\tVALENCE-s13|Acc=0.7875|10-CV=0.68|STD=0.07141|Time spend=0.9647386074066162\n",
      "\tAROUSAL-s14|Acc=0.675|10-CV=0.665|STD=0.02291|Time spend=1.097172498703003\n",
      "-----WARNING: Model s14 failed to learn: sum(ans)=80.0 sum(y)=54.0 len(y)=80\n",
      "\tVALENCE-s14|Acc=0.6125|10-CV=0.605|STD=0.07566|Time spend=1.1516027450561523\n",
      "\tAROUSAL-s15|Acc=0.525|10-CV=0.525|STD=0.025|Time spend=0.8259196281433105\n",
      "-----WARNING: Model s15 failed to learn: sum(ans)=0.0 sum(y)=38.0 len(y)=80\n",
      "\tVALENCE-s15|Acc=0.775|10-CV=0.71|STD=0.07|Time spend=0.8767201900482178\n",
      "\tAROUSAL-s16|Acc=0.625|10-CV=0.5|STD=0.08367|Time spend=0.8519294261932373\n",
      "\tVALENCE-s16|Acc=0.625|10-CV=0.635|STD=0.02291|Time spend=0.918574333190918\n",
      "-----WARNING: Model s16 failed to learn: sum(ans)=0.0 sum(y)=30.0 len(y)=80\n",
      "\tAROUSAL-s17|Acc=0.6|10-CV=0.6|STD=0.0|Time spend=0.9130277633666992\n",
      "-----WARNING: Model s17 failed to learn: sum(ans)=80.0 sum(y)=48.0 len(y)=80\n",
      "\tVALENCE-s17|Acc=0.55|10-CV=0.55|STD=0.0|Time spend=0.9643068313598633\n",
      "-----WARNING: Model s17 failed to learn: sum(ans)=80.0 sum(y)=44.0 len(y)=80\n",
      "\tAROUSAL-s18|Acc=0.625|10-CV=0.63|STD=0.02449|Time spend=0.8726639747619629\n",
      "-----WARNING: Model s18 failed to learn: sum(ans)=80.0 sum(y)=50.0 len(y)=80\n",
      "\tVALENCE-s18|Acc=0.6625|10-CV=0.615|STD=0.03202|Time spend=0.9456584453582764\n",
      "\tAROUSAL-s19|Acc=0.675|10-CV=0.665|STD=0.02291|Time spend=0.9120385646820068\n",
      "-----WARNING: Model s19 failed to learn: sum(ans)=80.0 sum(y)=54.0 len(y)=80\n",
      "\tVALENCE-s19|Acc=0.575|10-CV=0.585|STD=0.02291|Time spend=0.964228630065918\n",
      "-----WARNING: Model s19 failed to learn: sum(ans)=80.0 sum(y)=46.0 len(y)=80\n",
      "\tAROUSAL-s20|Acc=0.775|10-CV=0.77|STD=0.02449|Time spend=0.8671071529388428\n",
      "-----WARNING: Model s20 failed to learn: sum(ans)=80.0 sum(y)=62.0 len(y)=80\n",
      "\tVALENCE-s20|Acc=0.65|10-CV=0.595|STD=0.0522|Time spend=0.9276793003082275\n",
      "\tAROUSAL-s21|Acc=0.8|10-CV=0.8|STD=0.0|Time spend=1.0961577892303467\n",
      "-----WARNING: Model s21 failed to learn: sum(ans)=80.0 sum(y)=64.0 len(y)=80\n",
      "\tVALENCE-s21|Acc=0.55|10-CV=0.525|STD=0.025|Time spend=1.1570630073547363\n",
      "\tAROUSAL-s22|Acc=0.6|10-CV=0.6|STD=0.0|Time spend=0.8938190937042236\n",
      "-----WARNING: Model s22 failed to learn: sum(ans)=80.0 sum(y)=48.0 len(y)=80\n",
      "\tVALENCE-s22|Acc=0.55|10-CV=0.55|STD=0.0|Time spend=0.9473848342895508\n",
      "-----WARNING: Model s22 failed to learn: sum(ans)=0.0 sum(y)=36.0 len(y)=80\n",
      "\tAROUSAL-s23|Acc=0.75|10-CV=0.75|STD=0.0|Time spend=0.9073319435119629\n",
      "-----WARNING: Model s23 failed to learn: sum(ans)=0.0 sum(y)=20.0 len(y)=80\n",
      "\tVALENCE-s23|Acc=0.65|10-CV=0.65|STD=0.0|Time spend=0.9599981307983398\n",
      "-----WARNING: Model s23 failed to learn: sum(ans)=80.0 sum(y)=52.0 len(y)=80\n",
      "\tAROUSAL-s24|Acc=0.825|10-CV=0.82|STD=0.02449|Time spend=1.0598890781402588\n",
      "-----WARNING: Model s24 failed to learn: sum(ans)=80.0 sum(y)=66.0 len(y)=80\n",
      "\tVALENCE-s24|Acc=0.55|10-CV=0.55|STD=0.0|Time spend=1.111783742904663\n",
      "-----WARNING: Model s24 failed to learn: sum(ans)=0.0 sum(y)=36.0 len(y)=80\n",
      "\tAROUSAL-s25|Acc=0.725|10-CV=0.72|STD=0.02449|Time spend=0.9146606922149658\n",
      "-----WARNING: Model s25 failed to learn: sum(ans)=80.0 sum(y)=58.0 len(y)=80\n",
      "\tVALENCE-s25|Acc=0.525|10-CV=0.525|STD=0.025|Time spend=0.9682133197784424\n",
      "-----WARNING: Model s25 failed to learn: sum(ans)=0.0 sum(y)=38.0 len(y)=80\n",
      "\tAROUSAL-s26|Acc=0.625|10-CV=0.58|STD=0.04583|Time spend=0.8976626396179199\n",
      "\tVALENCE-s26|Acc=0.65|10-CV=0.65|STD=0.0|Time spend=0.9577124118804932\n",
      "-----WARNING: Model s26 failed to learn: sum(ans)=80.0 sum(y)=52.0 len(y)=80\n",
      "\tAROUSAL-s27|Acc=0.675|10-CV=0.66|STD=0.03|Time spend=1.7419919967651367\n",
      "-----WARNING: Model s27 failed to learn: sum(ans)=80.0 sum(y)=54.0 len(y)=80\n",
      "\tVALENCE-s27|Acc=0.75|10-CV=0.75|STD=0.0|Time spend=1.8230962753295898\n",
      "-----WARNING: Model s27 failed to learn: sum(ans)=80.0 sum(y)=60.0 len(y)=80\n",
      "\tAROUSAL-s28|Acc=0.55|10-CV=0.55|STD=0.0|Time spend=1.1894807815551758\n",
      "-----WARNING: Model s28 failed to learn: sum(ans)=0.0 sum(y)=36.0 len(y)=80\n",
      "\tVALENCE-s28|Acc=0.625|10-CV=0.63|STD=0.02449|Time spend=1.2592709064483643\n",
      "-----WARNING: Model s28 failed to learn: sum(ans)=80.0 sum(y)=50.0 len(y)=80\n",
      "\tAROUSAL-s29|Acc=0.625|10-CV=0.63|STD=0.02449|Time spend=0.9006121158599854\n",
      "-----WARNING: Model s29 failed to learn: sum(ans)=80.0 sum(y)=50.0 len(y)=80\n",
      "\tVALENCE-s29|Acc=0.65|10-CV=0.595|STD=0.12339|Time spend=0.954923152923584\n",
      "\tAROUSAL-s30|Acc=0.6375|10-CV=0.67|STD=0.10536|Time spend=0.888810396194458\n",
      "\tVALENCE-s30|Acc=0.675|10-CV=0.665|STD=0.02291|Time spend=0.9394376277923584\n",
      "-----WARNING: Model s30 failed to learn: sum(ans)=80.0 sum(y)=54.0 len(y)=80\n",
      "\tAROUSAL-s31|Acc=0.525|10-CV=0.52|STD=0.02449|Time spend=1.113931655883789\n",
      "-----WARNING: Model s31 failed to learn: sum(ans)=0.0 sum(y)=38.0 len(y)=80\n",
      "\tVALENCE-s31|Acc=0.575|10-CV=0.585|STD=0.02291|Time spend=1.2227485179901123\n",
      "-----WARNING: Model s31 failed to learn: sum(ans)=80.0 sum(y)=46.0 len(y)=80\n",
      "\tAROUSAL-s32|Acc=0.675|10-CV=0.665|STD=0.02291|Time spend=1.0407469272613525\n",
      "-----WARNING: Model s32 failed to learn: sum(ans)=80.0 sum(y)=54.0 len(y)=80\n",
      "\tVALENCE-s32|Acc=0.725|10-CV=0.755|STD=0.07566|Time spend=1.1021690368652344\n",
      "AROUSAL|Acc=0.6515625|10-CV=0.64625|STD=0.021690953261011933\n",
      "VALENCE|Acc=0.6335937500000001|10-CV=0.620625|STD=0.02916082654812368\n",
      "TOTAL|Acc=0.6425781249999999|10-CV=0.6334375|STD=0.02542588990456782\n"
     ]
    }
   ],
   "source": [
    "for text in reports:\n",
    "    if(text == None): continue\n",
    "    print(text)\n",
    "\n",
    "accs.extend(accs_v)\n",
    "cv_means.extend(cv_means_v)\n",
    "cv_stds.extend(cv_stds_v)\n",
    "print(f\"TOTAL|Acc={sum(accs)/len(accs)}|10-CV={sum(cv_means)/len(cv_means)}|STD={sum(cv_stds)/len(cv_stds)}\")"
   ]
  },
  {
   "cell_type": "markdown",
   "metadata": {},
   "source": [
    "### 4.2 $ \\text{PCC}_{freq} (i,j) = \\frac{\\text{Cov}[\\hat{\\mathbf{X}}_i, \\hat{\\mathbf{X}}_j]}{\\sigma_{\\hat{\\mathbf{X}}_i} \\sigma_{\\hat{\\mathbf{X}}_j}} $"
   ]
  },
  {
   "cell_type": "code",
   "execution_count": 10,
   "metadata": {},
   "outputs": [],
   "source": [
    "def calculate_fft(signal, sfreq):\n",
    "    \"\"\" signal: can be 1D array of (n_sample,) or 2D array of (n_signal, n_sample)  \"\"\"\n",
    "    number_sample = signal.shape[-1]\n",
    "\n",
    "    # the result will be a complex number. We can obtain the magnitude using `absolute`\n",
    "    magnitude = np.abs(np.fft.fft(signal))\n",
    "    # scale the result\n",
    "    magnitude = magnitude / (number_sample/2)\n",
    "    # Selecting the range\n",
    "    magnitude = magnitude.T[:number_sample//2].T\n",
    "    freq_range = np.fft.fftfreq(number_sample, d=1/sfreq)[:number_sample//2]\n",
    "\n",
    "    return magnitude, freq_range"
   ]
  },
  {
   "cell_type": "code",
   "execution_count": 11,
   "metadata": {},
   "outputs": [
    {
     "data": {
      "application/vnd.jupyter.widget-view+json": {
       "model_id": "08e1feba2a1e43a7a225e7fc2914c5e9",
       "version_major": 2,
       "version_minor": 0
      },
      "text/plain": [
       "  0%|          | 0/32 [00:00<?, ?it/s]"
      ]
     },
     "metadata": {},
     "output_type": "display_data"
    },
    {
     "name": "stdout",
     "output_type": "stream",
     "text": [
      "Fitted sphere radius:         95.3 mm\n",
      "Origin head coordinates:      -0.8 15.1 45.3 mm\n",
      "Origin device coordinates:    -0.8 15.1 45.3 mm\n",
      "========= close ========\n",
      "\tAROUSAL-s01|Acc=0.75|10-CV=0.665|STD=0.05025|Time spend=0.9623894691467285\n",
      "\tVALENCE-s01|Acc=0.725|10-CV=0.53|STD=0.06782|Time spend=1.0136828422546387\n",
      "Fitted sphere radius:         95.3 mm\n",
      "Origin head coordinates:      -0.8 15.1 45.3 mm\n",
      "Origin device coordinates:    -0.8 15.1 45.3 mm\n",
      "========= close ========\n",
      "\tAROUSAL-s02|Acc=0.6|10-CV=0.6|STD=0.0|Time spend=0.90494704246521\n",
      "\tVALENCE-s02|Acc=0.7125|10-CV=0.645|STD=0.08789|Time spend=0.9649949073791504\n",
      "Fitted sphere radius:         95.3 mm\n",
      "Origin head coordinates:      -0.8 15.1 45.3 mm\n",
      "Origin device coordinates:    -0.8 15.1 45.3 mm\n",
      "========= close ========\n",
      "\tAROUSAL-s03|Acc=0.8|10-CV=0.8|STD=0.0|Time spend=0.9145128726959229\n",
      "\tVALENCE-s03|Acc=0.55|10-CV=0.54|STD=0.03|Time spend=0.9707098007202148\n",
      "Fitted sphere radius:         95.3 mm\n",
      "Origin head coordinates:      -0.8 15.1 45.3 mm\n",
      "Origin device coordinates:    -0.8 15.1 45.3 mm\n",
      "========= close ========\n",
      "\tAROUSAL-s04|Acc=0.6|10-CV=0.6|STD=0.0|Time spend=1.0812809467315674\n",
      "\tVALENCE-s04|Acc=0.6|10-CV=0.605|STD=0.015|Time spend=1.1382873058319092\n",
      "Fitted sphere radius:         95.3 mm\n",
      "Origin head coordinates:      -0.8 15.1 45.3 mm\n",
      "Origin device coordinates:    -0.8 15.1 45.3 mm\n",
      "========= close ========\n",
      "\tAROUSAL-s05|Acc=0.625|10-CV=0.5|STD=0.07746|Time spend=0.9840984344482422\n",
      "\tVALENCE-s05|Acc=0.6375|10-CV=0.605|STD=0.015|Time spend=1.0356626510620117\n",
      "Fitted sphere radius:         95.3 mm\n",
      "Origin head coordinates:      -0.8 15.1 45.3 mm\n",
      "Origin device coordinates:    -0.8 15.1 45.3 mm\n",
      "========= close ========\n",
      "\tAROUSAL-s06|Acc=0.65|10-CV=0.605|STD=0.04717|Time spend=0.9334537982940674\n",
      "\tVALENCE-s06|Acc=0.75|10-CV=0.75|STD=0.0|Time spend=0.9849662780761719\n",
      "Fitted sphere radius:         95.3 mm\n",
      "Origin head coordinates:      -0.8 15.1 45.3 mm\n",
      "Origin device coordinates:    -0.8 15.1 45.3 mm\n",
      "========= close ========\n",
      "\tAROUSAL-s07|Acc=0.6375|10-CV=0.615|STD=0.05025|Time spend=0.9715983867645264\n",
      "\tVALENCE-s07|Acc=0.7125|10-CV=0.685|STD=0.045|Time spend=1.0234942436218262\n",
      "Fitted sphere radius:         95.3 mm\n",
      "Origin head coordinates:      -0.8 15.1 45.3 mm\n",
      "Origin device coordinates:    -0.8 15.1 45.3 mm\n",
      "========= close ========\n",
      "\tAROUSAL-s08|Acc=0.65|10-CV=0.55|STD=0.07746|Time spend=0.9291939735412598\n",
      "\tVALENCE-s08|Acc=0.75|10-CV=0.705|STD=0.07228|Time spend=0.9799249172210693\n",
      "Fitted sphere radius:         95.3 mm\n",
      "Origin head coordinates:      -0.8 15.1 45.3 mm\n",
      "Origin device coordinates:    -0.8 15.1 45.3 mm\n",
      "========= close ========\n",
      "\tAROUSAL-s09|Acc=0.6|10-CV=0.6|STD=0.02236|Time spend=1.013676643371582\n",
      "\tVALENCE-s09|Acc=0.7625|10-CV=0.73|STD=0.06782|Time spend=1.0674898624420166\n",
      "Fitted sphere radius:         95.3 mm\n",
      "Origin head coordinates:      -0.8 15.1 45.3 mm\n",
      "Origin device coordinates:    -0.8 15.1 45.3 mm\n",
      "========= close ========\n",
      "\tAROUSAL-s10|Acc=0.6875|10-CV=0.605|STD=0.08789|Time spend=0.9148528575897217\n",
      "\tVALENCE-s10|Acc=0.8125|10-CV=0.775|STD=0.09287|Time spend=0.965641975402832\n",
      "Fitted sphere radius:         95.3 mm\n",
      "Origin head coordinates:      -0.8 15.1 45.3 mm\n",
      "Origin device coordinates:    -0.8 15.1 45.3 mm\n",
      "========= close ========\n",
      "\tAROUSAL-s11|Acc=0.6625|10-CV=0.635|STD=0.03202|Time spend=1.0390887260437012\n",
      "\tVALENCE-s11|Acc=0.7|10-CV=0.66|STD=0.06245|Time spend=1.090320348739624\n",
      "Fitted sphere radius:         95.3 mm\n",
      "Origin head coordinates:      -0.8 15.1 45.3 mm\n",
      "Origin device coordinates:    -0.8 15.1 45.3 mm\n",
      "========= close ========\n",
      "\tAROUSAL-s12|Acc=0.825|10-CV=0.82|STD=0.02449|Time spend=0.9413306713104248\n",
      "\tVALENCE-s12|Acc=0.7|10-CV=0.555|STD=0.0789|Time spend=0.9920635223388672\n",
      "Fitted sphere radius:         95.3 mm\n",
      "Origin head coordinates:      -0.8 15.1 45.3 mm\n",
      "Origin device coordinates:    -0.8 15.1 45.3 mm\n",
      "========= close ========\n",
      "\tAROUSAL-s13|Acc=0.85|10-CV=0.85|STD=0.0|Time spend=1.1513237953186035\n",
      "\tVALENCE-s13|Acc=0.7625|10-CV=0.645|STD=0.06103|Time spend=1.2122116088867188\n",
      "Fitted sphere radius:         95.3 mm\n",
      "Origin head coordinates:      -0.8 15.1 45.3 mm\n",
      "Origin device coordinates:    -0.8 15.1 45.3 mm\n",
      "========= close ========\n",
      "\tAROUSAL-s14|Acc=0.675|10-CV=0.665|STD=0.02291|Time spend=1.2131476402282715\n",
      "\tVALENCE-s14|Acc=0.7625|10-CV=0.685|STD=0.1163|Time spend=1.3044908046722412\n",
      "Fitted sphere radius:         95.3 mm\n",
      "Origin head coordinates:      -0.8 15.1 45.3 mm\n",
      "Origin device coordinates:    -0.8 15.1 45.3 mm\n",
      "========= close ========\n",
      "\tAROUSAL-s15|Acc=0.625|10-CV=0.57|STD=0.07141|Time spend=1.1032109260559082\n",
      "\tVALENCE-s15|Acc=0.7625|10-CV=0.695|STD=0.06874|Time spend=1.1607191562652588\n",
      "Fitted sphere radius:         95.3 mm\n",
      "Origin head coordinates:      -0.8 15.1 45.3 mm\n",
      "Origin device coordinates:    -0.8 15.1 45.3 mm\n",
      "========= close ========\n",
      "\tAROUSAL-s16|Acc=0.65|10-CV=0.565|STD=0.0976|Time spend=1.010277509689331\n",
      "\tVALENCE-s16|Acc=0.625|10-CV=0.63|STD=0.02449|Time spend=1.0761306285858154\n",
      "Fitted sphere radius:         95.3 mm\n",
      "Origin head coordinates:      -0.8 15.1 45.3 mm\n",
      "Origin device coordinates:    -0.8 15.1 45.3 mm\n",
      "========= close ========\n",
      "\tAROUSAL-s17|Acc=0.6875|10-CV=0.61|STD=0.07348|Time spend=1.0986363887786865\n",
      "\tVALENCE-s17|Acc=0.55|10-CV=0.55|STD=0.0|Time spend=1.14878511428833\n",
      "Fitted sphere radius:         95.3 mm\n",
      "Origin head coordinates:      -0.8 15.1 45.3 mm\n",
      "Origin device coordinates:    -0.8 15.1 45.3 mm\n",
      "========= close ========\n",
      "\tAROUSAL-s18|Acc=0.625|10-CV=0.625|STD=0.025|Time spend=1.0715665817260742\n",
      "\tVALENCE-s18|Acc=0.75|10-CV=0.65|STD=0.03162|Time spend=1.137047529220581\n",
      "Fitted sphere radius:         95.3 mm\n",
      "Origin head coordinates:      -0.8 15.1 45.3 mm\n",
      "Origin device coordinates:    -0.8 15.1 45.3 mm\n",
      "========= close ========\n",
      "\tAROUSAL-s19|Acc=0.75|10-CV=0.67|STD=0.02449|Time spend=1.0167148113250732\n",
      "\tVALENCE-s19|Acc=0.7125|10-CV=0.66|STD=0.06633|Time spend=1.068373203277588\n",
      "Fitted sphere radius:         95.3 mm\n",
      "Origin head coordinates:      -0.8 15.1 45.3 mm\n",
      "Origin device coordinates:    -0.8 15.1 45.3 mm\n",
      "========= close ========\n",
      "\tAROUSAL-s20|Acc=0.775|10-CV=0.77|STD=0.02449|Time spend=1.036362886428833\n",
      "\tVALENCE-s20|Acc=0.6875|10-CV=0.605|STD=0.065|Time spend=1.10209321975708\n",
      "Fitted sphere radius:         95.3 mm\n",
      "Origin head coordinates:      -0.8 15.1 45.3 mm\n",
      "Origin device coordinates:    -0.8 15.1 45.3 mm\n",
      "========= close ========\n",
      "\tAROUSAL-s21|Acc=0.8|10-CV=0.8|STD=0.0|Time spend=1.5850605964660645\n",
      "\tVALENCE-s21|Acc=0.65|10-CV=0.59|STD=0.08|Time spend=1.640763759613037\n",
      "Fitted sphere radius:         95.3 mm\n",
      "Origin head coordinates:      -0.8 15.1 45.3 mm\n",
      "Origin device coordinates:    -0.8 15.1 45.3 mm\n",
      "========= close ========\n",
      "\tAROUSAL-s22|Acc=0.6|10-CV=0.585|STD=0.045|Time spend=1.2521507740020752\n",
      "\tVALENCE-s22|Acc=0.6125|10-CV=0.56|STD=0.04359|Time spend=1.3103611469268799\n",
      "Fitted sphere radius:         95.3 mm\n",
      "Origin head coordinates:      -0.8 15.1 45.3 mm\n",
      "Origin device coordinates:    -0.8 15.1 45.3 mm\n",
      "========= close ========\n",
      "\tAROUSAL-s23|Acc=0.75|10-CV=0.75|STD=0.0|Time spend=1.0763909816741943\n",
      "\tVALENCE-s23|Acc=0.65|10-CV=0.65|STD=0.0|Time spend=1.1306538581848145\n",
      "Fitted sphere radius:         95.3 mm\n",
      "Origin head coordinates:      -0.8 15.1 45.3 mm\n",
      "Origin device coordinates:    -0.8 15.1 45.3 mm\n",
      "========= close ========\n",
      "\tAROUSAL-s24|Acc=0.825|10-CV=0.82|STD=0.02449|Time spend=1.0315537452697754\n",
      "\tVALENCE-s24|Acc=0.6|10-CV=0.575|STD=0.08139|Time spend=1.092472791671753\n",
      "Fitted sphere radius:         95.3 mm\n",
      "Origin head coordinates:      -0.8 15.1 45.3 mm\n",
      "Origin device coordinates:    -0.8 15.1 45.3 mm\n",
      "========= close ========\n",
      "\tAROUSAL-s25|Acc=0.725|10-CV=0.72|STD=0.02449|Time spend=1.8283698558807373\n",
      "\tVALENCE-s25|Acc=0.6375|10-CV=0.49|STD=0.07|Time spend=1.9282593727111816\n",
      "Fitted sphere radius:         95.3 mm\n",
      "Origin head coordinates:      -0.8 15.1 45.3 mm\n",
      "Origin device coordinates:    -0.8 15.1 45.3 mm\n",
      "========= close ========\n",
      "\tAROUSAL-s26|Acc=0.7|10-CV=0.59|STD=0.07|Time spend=1.560364007949829\n",
      "\tVALENCE-s26|Acc=0.65|10-CV=0.65|STD=0.0|Time spend=1.6339316368103027\n",
      "Fitted sphere radius:         95.3 mm\n",
      "Origin head coordinates:      -0.8 15.1 45.3 mm\n",
      "Origin device coordinates:    -0.8 15.1 45.3 mm\n",
      "========= close ========\n",
      "\tAROUSAL-s27|Acc=0.725|10-CV=0.7|STD=0.07071|Time spend=1.3226697444915771\n",
      "\tVALENCE-s27|Acc=0.775|10-CV=0.765|STD=0.02291|Time spend=1.3738422393798828\n",
      "Fitted sphere radius:         95.3 mm\n",
      "Origin head coordinates:      -0.8 15.1 45.3 mm\n",
      "Origin device coordinates:    -0.8 15.1 45.3 mm\n",
      "========= close ========\n",
      "\tAROUSAL-s28|Acc=0.575|10-CV=0.545|STD=0.035|Time spend=1.086836814880371\n",
      "\tVALENCE-s28|Acc=0.625|10-CV=0.63|STD=0.02449|Time spend=1.1602494716644287\n",
      "Fitted sphere radius:         95.3 mm\n",
      "Origin head coordinates:      -0.8 15.1 45.3 mm\n",
      "Origin device coordinates:    -0.8 15.1 45.3 mm\n",
      "========= close ========\n",
      "\tAROUSAL-s29|Acc=0.7375|10-CV=0.705|STD=0.05679|Time spend=1.214470386505127\n",
      "\tVALENCE-s29|Acc=0.7125|10-CV=0.65|STD=0.08944|Time spend=1.2647671699523926\n",
      "Fitted sphere radius:         95.3 mm\n",
      "Origin head coordinates:      -0.8 15.1 45.3 mm\n",
      "Origin device coordinates:    -0.8 15.1 45.3 mm\n",
      "========= close ========\n",
      "\tAROUSAL-s30|Acc=0.725|10-CV=0.68|STD=0.09274|Time spend=1.136564016342163\n",
      "\tVALENCE-s30|Acc=0.6875|10-CV=0.665|STD=0.03905|Time spend=1.1937835216522217\n",
      "Fitted sphere radius:         95.3 mm\n",
      "Origin head coordinates:      -0.8 15.1 45.3 mm\n",
      "Origin device coordinates:    -0.8 15.1 45.3 mm\n",
      "========= close ========\n",
      "\tAROUSAL-s31|Acc=0.7125|10-CV=0.575|STD=0.06801|Time spend=1.12345290184021\n",
      "\tVALENCE-s31|Acc=0.575|10-CV=0.585|STD=0.02291|Time spend=1.1765635013580322\n",
      "Fitted sphere radius:         95.3 mm\n",
      "Origin head coordinates:      -0.8 15.1 45.3 mm\n",
      "Origin device coordinates:    -0.8 15.1 45.3 mm\n",
      "========= close ========\n",
      "\tAROUSAL-s32|Acc=0.7125|10-CV=0.65|STD=0.03873|Time spend=1.7561438083648682\n",
      "\tVALENCE-s32|Acc=0.7625|10-CV=0.685|STD=0.05025|Time spend=1.8052277565002441\n",
      "AROUSAL|Acc=0.6972656250000001|10-CV=0.6574999999999999|STD=0.04170974553244153\n",
      "VALENCE|Acc=0.6863281249999998|10-CV=0.6375|STD=0.04976899927457014\n"
     ]
    }
   ],
   "source": [
    "accs, cv_means, cv_stds = [],[],[]\n",
    "accs_v, cv_means_v, cv_stds_v = [],[],[]\n",
    "reports = []\n",
    "for filename in (pbar := tqdm(dataset.get_file_list())):\n",
    "    start = time.time()\n",
    "    pbar.set_description(filename)\n",
    "    data, labels, groups = dataset.get_data(filename, stimuli=Dataset_subjectDependent.STIMULI_AROUSAL, return_type='mne', sfreq=128)\n",
    "    \n",
    "    data_csd = mne.preprocessing.compute_current_source_density(data)\n",
    "    magnitude, freq_range = calculate_fft(data_csd.get_data(), 128)\n",
    "    pcc = calculate_pcc(magnitude)\n",
    "    _,acc,cross,train_report = train_model(pcc, labels.squeeze(), groups, filename=filename, return_text=True)\n",
    "    report = f\"\\tAROUSAL-{filename}|Acc={round(acc,5)}|10-CV={round(cross.mean(),5)}|STD={round(cross.std(),5)}|Time spend={time.time() - start}\"\n",
    "    print(report)\n",
    "    reports.append(report)\n",
    "    reports.append(train_report)\n",
    "    accs.append(acc)\n",
    "    cv_means.append(cross.mean())\n",
    "    cv_stds.append(cross.std())\n",
    "\n",
    "    _, labels_v, groups_v = dataset.get_data(filename, stimuli=Dataset_subjectDependent.STIMULI_VALENCE, return_type='mne', sfreq=128)\n",
    "    _,acc,cross,train_report = train_model(pcc, labels_v.squeeze(), groups_v, filename=filename, return_text=True)\n",
    "    report = f\"\\tVALENCE-{filename}|Acc={round(acc,5)}|10-CV={round(cross.mean(),5)}|STD={round(cross.std(),5)}|Time spend={time.time() - start}\"\n",
    "    print(report)\n",
    "    reports.append(report)\n",
    "    reports.append(train_report)\n",
    "    accs_v.append(acc)\n",
    "    cv_means_v.append(cross.mean())\n",
    "    cv_stds_v.append(cross.std())\n",
    "    # break\n",
    "    # count+=1\n",
    "    # if(count == 5): break\n",
    "report = f\"AROUSAL|Acc={sum(accs)/len(accs)}|10-CV={sum(cv_means)/len(cv_means)}|STD={sum(cv_stds)/len(cv_stds)}\"\n",
    "print(report)\n",
    "reports.append(report)\n",
    "report = f\"VALENCE|Acc={sum(accs_v)/len(accs_v)}|10-CV={sum(cv_means_v)/len(cv_means_v)}|STD={sum(cv_stds_v)/len(cv_stds_v)}\"\n",
    "print(report)\n",
    "reports.append(report)"
   ]
  },
  {
   "cell_type": "code",
   "execution_count": 12,
   "metadata": {},
   "outputs": [
    {
     "name": "stdout",
     "output_type": "stream",
     "text": [
      "\tAROUSAL-s01|Acc=0.75|10-CV=0.665|STD=0.05025|Time spend=0.9623894691467285\n",
      "\tVALENCE-s01|Acc=0.725|10-CV=0.53|STD=0.06782|Time spend=1.0136828422546387\n",
      "\tAROUSAL-s02|Acc=0.6|10-CV=0.6|STD=0.0|Time spend=0.90494704246521\n",
      "-----WARNING: Model s02 failed to learn: sum(ans)=80.0 sum(y)=48.0 len(y)=80\n",
      "\tVALENCE-s02|Acc=0.7125|10-CV=0.645|STD=0.08789|Time spend=0.9649949073791504\n",
      "\tAROUSAL-s03|Acc=0.8|10-CV=0.8|STD=0.0|Time spend=0.9145128726959229\n",
      "-----WARNING: Model s03 failed to learn: sum(ans)=0.0 sum(y)=16.0 len(y)=80\n",
      "\tVALENCE-s03|Acc=0.55|10-CV=0.54|STD=0.03|Time spend=0.9707098007202148\n",
      "-----WARNING: Model s03 failed to learn: sum(ans)=80.0 sum(y)=44.0 len(y)=80\n",
      "\tAROUSAL-s04|Acc=0.6|10-CV=0.6|STD=0.0|Time spend=1.0812809467315674\n",
      "-----WARNING: Model s04 failed to learn: sum(ans)=0.0 sum(y)=32.0 len(y)=80\n",
      "\tVALENCE-s04|Acc=0.6|10-CV=0.605|STD=0.015|Time spend=1.1382873058319092\n",
      "-----WARNING: Model s04 failed to learn: sum(ans)=0.0 sum(y)=32.0 len(y)=80\n",
      "\tAROUSAL-s05|Acc=0.625|10-CV=0.5|STD=0.07746|Time spend=0.9840984344482422\n",
      "\tVALENCE-s05|Acc=0.6375|10-CV=0.605|STD=0.015|Time spend=1.0356626510620117\n",
      "\tAROUSAL-s06|Acc=0.65|10-CV=0.605|STD=0.04717|Time spend=0.9334537982940674\n",
      "\tVALENCE-s06|Acc=0.75|10-CV=0.75|STD=0.0|Time spend=0.9849662780761719\n",
      "-----WARNING: Model s06 failed to learn: sum(ans)=80.0 sum(y)=60.0 len(y)=80\n",
      "\tAROUSAL-s07|Acc=0.6375|10-CV=0.615|STD=0.05025|Time spend=0.9715983867645264\n",
      "\tVALENCE-s07|Acc=0.7125|10-CV=0.685|STD=0.045|Time spend=1.0234942436218262\n",
      "\tAROUSAL-s08|Acc=0.65|10-CV=0.55|STD=0.07746|Time spend=0.9291939735412598\n",
      "\tVALENCE-s08|Acc=0.75|10-CV=0.705|STD=0.07228|Time spend=0.9799249172210693\n",
      "\tAROUSAL-s09|Acc=0.6|10-CV=0.6|STD=0.02236|Time spend=1.013676643371582\n",
      "-----WARNING: Model s09 failed to learn: sum(ans)=80.0 sum(y)=48.0 len(y)=80\n",
      "\tVALENCE-s09|Acc=0.7625|10-CV=0.73|STD=0.06782|Time spend=1.0674898624420166\n",
      "\tAROUSAL-s10|Acc=0.6875|10-CV=0.605|STD=0.08789|Time spend=0.9148528575897217\n",
      "\tVALENCE-s10|Acc=0.8125|10-CV=0.775|STD=0.09287|Time spend=0.965641975402832\n",
      "\tAROUSAL-s11|Acc=0.6625|10-CV=0.635|STD=0.03202|Time spend=1.0390887260437012\n",
      "\tVALENCE-s11|Acc=0.7|10-CV=0.66|STD=0.06245|Time spend=1.090320348739624\n",
      "\tAROUSAL-s12|Acc=0.825|10-CV=0.82|STD=0.02449|Time spend=0.9413306713104248\n",
      "-----WARNING: Model s12 failed to learn: sum(ans)=80.0 sum(y)=66.0 len(y)=80\n",
      "\tVALENCE-s12|Acc=0.7|10-CV=0.555|STD=0.0789|Time spend=0.9920635223388672\n",
      "\tAROUSAL-s13|Acc=0.85|10-CV=0.85|STD=0.0|Time spend=1.1513237953186035\n",
      "-----WARNING: Model s13 failed to learn: sum(ans)=80.0 sum(y)=68.0 len(y)=80\n",
      "\tVALENCE-s13|Acc=0.7625|10-CV=0.645|STD=0.06103|Time spend=1.2122116088867188\n",
      "\tAROUSAL-s14|Acc=0.675|10-CV=0.665|STD=0.02291|Time spend=1.2131476402282715\n",
      "-----WARNING: Model s14 failed to learn: sum(ans)=80.0 sum(y)=54.0 len(y)=80\n",
      "\tVALENCE-s14|Acc=0.7625|10-CV=0.685|STD=0.1163|Time spend=1.3044908046722412\n",
      "\tAROUSAL-s15|Acc=0.625|10-CV=0.57|STD=0.07141|Time spend=1.1032109260559082\n",
      "\tVALENCE-s15|Acc=0.7625|10-CV=0.695|STD=0.06874|Time spend=1.1607191562652588\n",
      "\tAROUSAL-s16|Acc=0.65|10-CV=0.565|STD=0.0976|Time spend=1.010277509689331\n",
      "\tVALENCE-s16|Acc=0.625|10-CV=0.63|STD=0.02449|Time spend=1.0761306285858154\n",
      "-----WARNING: Model s16 failed to learn: sum(ans)=0.0 sum(y)=30.0 len(y)=80\n",
      "\tAROUSAL-s17|Acc=0.6875|10-CV=0.61|STD=0.07348|Time spend=1.0986363887786865\n",
      "\tVALENCE-s17|Acc=0.55|10-CV=0.55|STD=0.0|Time spend=1.14878511428833\n",
      "-----WARNING: Model s17 failed to learn: sum(ans)=80.0 sum(y)=44.0 len(y)=80\n",
      "\tAROUSAL-s18|Acc=0.625|10-CV=0.625|STD=0.025|Time spend=1.0715665817260742\n",
      "-----WARNING: Model s18 failed to learn: sum(ans)=80.0 sum(y)=50.0 len(y)=80\n",
      "\tVALENCE-s18|Acc=0.75|10-CV=0.65|STD=0.03162|Time spend=1.137047529220581\n",
      "\tAROUSAL-s19|Acc=0.75|10-CV=0.67|STD=0.02449|Time spend=1.0167148113250732\n",
      "\tVALENCE-s19|Acc=0.7125|10-CV=0.66|STD=0.06633|Time spend=1.068373203277588\n",
      "\tAROUSAL-s20|Acc=0.775|10-CV=0.77|STD=0.02449|Time spend=1.036362886428833\n",
      "-----WARNING: Model s20 failed to learn: sum(ans)=80.0 sum(y)=62.0 len(y)=80\n",
      "\tVALENCE-s20|Acc=0.6875|10-CV=0.605|STD=0.065|Time spend=1.10209321975708\n",
      "\tAROUSAL-s21|Acc=0.8|10-CV=0.8|STD=0.0|Time spend=1.5850605964660645\n",
      "-----WARNING: Model s21 failed to learn: sum(ans)=80.0 sum(y)=64.0 len(y)=80\n",
      "\tVALENCE-s21|Acc=0.65|10-CV=0.59|STD=0.08|Time spend=1.640763759613037\n",
      "\tAROUSAL-s22|Acc=0.6|10-CV=0.585|STD=0.045|Time spend=1.2521507740020752\n",
      "-----WARNING: Model s22 failed to learn: sum(ans)=80.0 sum(y)=48.0 len(y)=80\n",
      "\tVALENCE-s22|Acc=0.6125|10-CV=0.56|STD=0.04359|Time spend=1.3103611469268799\n",
      "\tAROUSAL-s23|Acc=0.75|10-CV=0.75|STD=0.0|Time spend=1.0763909816741943\n",
      "-----WARNING: Model s23 failed to learn: sum(ans)=0.0 sum(y)=20.0 len(y)=80\n",
      "\tVALENCE-s23|Acc=0.65|10-CV=0.65|STD=0.0|Time spend=1.1306538581848145\n",
      "-----WARNING: Model s23 failed to learn: sum(ans)=80.0 sum(y)=52.0 len(y)=80\n",
      "\tAROUSAL-s24|Acc=0.825|10-CV=0.82|STD=0.02449|Time spend=1.0315537452697754\n",
      "-----WARNING: Model s24 failed to learn: sum(ans)=80.0 sum(y)=66.0 len(y)=80\n",
      "\tVALENCE-s24|Acc=0.6|10-CV=0.575|STD=0.08139|Time spend=1.092472791671753\n",
      "\tAROUSAL-s25|Acc=0.725|10-CV=0.72|STD=0.02449|Time spend=1.8283698558807373\n",
      "-----WARNING: Model s25 failed to learn: sum(ans)=80.0 sum(y)=58.0 len(y)=80\n",
      "\tVALENCE-s25|Acc=0.6375|10-CV=0.49|STD=0.07|Time spend=1.9282593727111816\n",
      "\tAROUSAL-s26|Acc=0.7|10-CV=0.59|STD=0.07|Time spend=1.560364007949829\n",
      "\tVALENCE-s26|Acc=0.65|10-CV=0.65|STD=0.0|Time spend=1.6339316368103027\n",
      "-----WARNING: Model s26 failed to learn: sum(ans)=80.0 sum(y)=52.0 len(y)=80\n",
      "\tAROUSAL-s27|Acc=0.725|10-CV=0.7|STD=0.07071|Time spend=1.3226697444915771\n",
      "\tVALENCE-s27|Acc=0.775|10-CV=0.765|STD=0.02291|Time spend=1.3738422393798828\n",
      "\tAROUSAL-s28|Acc=0.575|10-CV=0.545|STD=0.035|Time spend=1.086836814880371\n",
      "\tVALENCE-s28|Acc=0.625|10-CV=0.63|STD=0.02449|Time spend=1.1602494716644287\n",
      "-----WARNING: Model s28 failed to learn: sum(ans)=80.0 sum(y)=50.0 len(y)=80\n",
      "\tAROUSAL-s29|Acc=0.7375|10-CV=0.705|STD=0.05679|Time spend=1.214470386505127\n",
      "\tVALENCE-s29|Acc=0.7125|10-CV=0.65|STD=0.08944|Time spend=1.2647671699523926\n",
      "\tAROUSAL-s30|Acc=0.725|10-CV=0.68|STD=0.09274|Time spend=1.136564016342163\n",
      "\tVALENCE-s30|Acc=0.6875|10-CV=0.665|STD=0.03905|Time spend=1.1937835216522217\n",
      "\tAROUSAL-s31|Acc=0.7125|10-CV=0.575|STD=0.06801|Time spend=1.12345290184021\n",
      "\tVALENCE-s31|Acc=0.575|10-CV=0.585|STD=0.02291|Time spend=1.1765635013580322\n",
      "-----WARNING: Model s31 failed to learn: sum(ans)=80.0 sum(y)=46.0 len(y)=80\n",
      "\tAROUSAL-s32|Acc=0.7125|10-CV=0.65|STD=0.03873|Time spend=1.7561438083648682\n",
      "\tVALENCE-s32|Acc=0.7625|10-CV=0.685|STD=0.05025|Time spend=1.8052277565002441\n",
      "AROUSAL|Acc=0.6972656250000001|10-CV=0.6574999999999999|STD=0.04170974553244153\n",
      "VALENCE|Acc=0.6863281249999998|10-CV=0.6375|STD=0.04976899927457014\n",
      "TOTAL|Acc=0.691796875|10-CV=0.6475|STD=0.04573937240350583\n"
     ]
    }
   ],
   "source": [
    "for text in reports:\n",
    "    if(text == None): continue\n",
    "    print(text)\n",
    "\n",
    "accs.extend(accs_v)\n",
    "cv_means.extend(cv_means_v)\n",
    "cv_stds.extend(cv_stds_v)\n",
    "print(f\"TOTAL|Acc={sum(accs)/len(accs)}|10-CV={sum(cv_means)/len(cv_means)}|STD={sum(cv_stds)/len(cv_stds)}\")"
   ]
  },
  {
   "cell_type": "markdown",
   "metadata": {},
   "source": [
    "### 4.3 $ \\text{PLV}(j,k) = \\frac{1}{T} | \\Sigma^{T}_{t=1} e^{i(\\phi^{t}_{j} - \\phi^{t}_{k})}   | $"
   ]
  },
  {
   "cell_type": "code",
   "execution_count": 13,
   "metadata": {},
   "outputs": [],
   "source": [
    "# bands = [(0,4), (4,8), (8,12), (12,30), (30,64)]\n",
    "def calculate_stft(signals, sfreq):\n",
    "    from scipy import signal\n",
    "    f_range, t_range, Z = signal.stft(signals, sfreq, nperseg=sfreq//10, nfft=sfreq)\n",
    "    magnitude = np.abs(Z) \n",
    "    phase = np.angle(Z)\n",
    "    return magnitude, phase, f_range, t_range\n",
    "\n",
    "def PLV_stft(p_id, phase):\n",
    "    # (32, 65, 12) => (channels, freqs, times)\n",
    "    # print(f\"p_id:{p_id} - data to run {phase.shape}\")\n",
    "    print(phase.shape)\n",
    "    from itertools import combinations\n",
    "    plv = []\n",
    "    # count = 0\n",
    "    for index in range(phase.shape[0]):\n",
    "        plv_epoch = []\n",
    "        for comb in combinations(list(range(phase.shape[1])), 2):\n",
    "            # shape = (65,12)\n",
    "            phase_a, phase_b = phase[index, comb[0]], phase[index, comb[1]]\n",
    "            phase_diff = phase_a - phase_b\n",
    "            # sum along the time size\n",
    "            plv_ab = np.abs(np.average(np.exp(complex(0,1) * phase_diff), axis=1))\n",
    "            plv_epoch.append(plv_ab)\n",
    "        plv_epoch = np.vstack(plv_epoch)\n",
    "        # print(plv_epoch.shape) => (300, 32, 65, 23)\n",
    "        plv_epoch_5 = np.concatenate([ plv_epoch[:,0:4].mean(axis=1).reshape(-1,1),\n",
    "                                        plv_epoch[:,4:8].mean(axis=1).reshape(-1,1),\n",
    "                                        plv_epoch[:,8:12].mean(axis=1).reshape(-1,1),\n",
    "                                        plv_epoch[:,12:30].mean(axis=1).reshape(-1,1),\n",
    "                                        plv_epoch[:,30:65].mean(axis=1).reshape(-1,1)], axis=0)\n",
    "        plv.append(np.expand_dims(plv_epoch_5, axis=0))\n",
    "        # count += 1\n",
    "        # if(count == 3): break\n",
    "    # shape (496, 65)\n",
    "    # 496 is number of pairs that is not duplicate\n",
    "    # 65 is number of phase of frequencies\n",
    "    plv = np.vstack( plv )\n",
    "    return plv.squeeze()\n",
    "\n",
    "def calculate_plv(data, n_jobs=8):\n",
    "    \"\"\" \n",
    "    Input: Expect data to have (n_epochs, n_channels, n_samples)\n",
    "    Output: (n_epochs, n_conn, n_freqs ) => n_conn = n_channels!/(2!(n_channels-2)!)\n",
    "    \"\"\"\n",
    "    from multiprocessing import Pool\n",
    "\n",
    "    try:\n",
    "        t_out = 60000\n",
    "        pool = Pool()\n",
    "        p_list = []\n",
    "        ans_list = []\n",
    "        num_p = n_jobs\n",
    "        indices = np.array_split(np.arange(data.shape[0]), num_p)\n",
    "        _, phase, _, _ = calculate_stft(data, 128)\n",
    "        for p_id in range(num_p):\n",
    "            p_list.append(pool.apply_async(PLV_stft, [p_id, phase[indices[p_id]] ]))\n",
    "        for p_id in range(num_p):\n",
    "            ans_list.append( p_list[p_id].get(timeout=t_out) )\n",
    "        # ans_list\n",
    "    finally:\n",
    "        print(\"========= close ========\")\n",
    "        pool.close() \n",
    "        pool.terminate()\n",
    "    return np.vstack(ans_list)\n"
   ]
  },
  {
   "cell_type": "code",
   "execution_count": 14,
   "metadata": {},
   "outputs": [
    {
     "data": {
      "application/vnd.jupyter.widget-view+json": {
       "model_id": "35c5b6f4810d49a8af59744412027379",
       "version_major": 2,
       "version_minor": 0
      },
      "text/plain": [
       "  0%|          | 0/32 [00:00<?, ?it/s]"
      ]
     },
     "metadata": {},
     "output_type": "display_data"
    },
    {
     "name": "stdout",
     "output_type": "stream",
     "text": [
      "Fitted sphere radius:         95.3 mm\n",
      "Origin head coordinates:      -0.8 15.1 45.3 mm\n",
      "Origin device coordinates:    -0.8 15.1 45.3 mm\n",
      "(10, 32, 65, 641)\n",
      "(10, 32, 65, 641)\n",
      "(10, 32, 65, 641)\n",
      "(10, 32, 65, 641)\n",
      "(10, 32, 65, 641)\n",
      "(10, 32, 65, 641)\n",
      "(10, 32, 65, 641)\n",
      "(10, 32, 65, 641)\n",
      "========= close ========\n",
      "\tAROUSAL-s01|Acc=0.6375|10-CV=0.6|STD=0.0|Time spend=22.736393928527832\n",
      "\tVALENCE-s01|Acc=0.6875|10-CV=0.57|STD=0.08718|Time spend=22.98538088798523\n",
      "Fitted sphere radius:         95.3 mm\n",
      "Origin head coordinates:      -0.8 15.1 45.3 mm\n",
      "Origin device coordinates:    -0.8 15.1 45.3 mm\n",
      "(10, 32, 65, 641)\n",
      "(10, 32, 65, 641)\n",
      "(10, 32, 65, 641)\n",
      "(10, 32, 65, 641)\n",
      "(10, 32, 65, 641)\n",
      "(10, 32, 65, 641)\n",
      "(10, 32, 65, 641)\n",
      "(10, 32, 65, 641)\n",
      "========= close ========\n",
      "\tAROUSAL-s02|Acc=0.6|10-CV=0.605|STD=0.015|Time spend=18.433027267456055\n",
      "\tVALENCE-s02|Acc=0.7625|10-CV=0.7|STD=0.05916|Time spend=18.607035160064697\n",
      "Fitted sphere radius:         95.3 mm\n",
      "Origin head coordinates:      -0.8 15.1 45.3 mm\n",
      "Origin device coordinates:    -0.8 15.1 45.3 mm\n",
      "(10, 32, 65, 641)\n",
      "(10, 32, 65, 641)\n",
      "(10, 32, 65, 641)\n",
      "(10, 32, 65, 641)\n",
      "(10, 32, 65, 641)\n",
      "(10, 32, 65, 641)\n",
      "(10, 32, 65, 641)\n",
      "(10, 32, 65, 641)\n",
      "========= close ========\n",
      "\tAROUSAL-s03|Acc=0.8|10-CV=0.8|STD=0.0|Time spend=18.599188327789307\n",
      "\tVALENCE-s03|Acc=0.625|10-CV=0.53|STD=0.02449|Time spend=18.792882442474365\n",
      "Fitted sphere radius:         95.3 mm\n",
      "Origin head coordinates:      -0.8 15.1 45.3 mm\n",
      "Origin device coordinates:    -0.8 15.1 45.3 mm\n",
      "(10, 32, 65, 641)\n",
      "(10, 32, 65, 641)\n",
      "(10, 32, 65, 641)\n",
      "(10, 32, 65, 641)\n",
      "(10, 32, 65, 641)\n",
      "(10, 32, 65, 641)\n",
      "(10, 32, 65, 641)\n",
      "(10, 32, 65, 641)\n",
      "========= close ========\n",
      "\tAROUSAL-s04|Acc=0.6375|10-CV=0.58|STD=0.06403|Time spend=16.604431629180908\n",
      "\tVALENCE-s04|Acc=0.75|10-CV=0.64|STD=0.09165|Time spend=16.78192687034607\n",
      "Fitted sphere radius:         95.3 mm\n",
      "Origin head coordinates:      -0.8 15.1 45.3 mm\n",
      "Origin device coordinates:    -0.8 15.1 45.3 mm\n",
      "(10, 32, 65, 641)\n",
      "(10, 32, 65, 641)\n",
      "(10, 32, 65, 641)\n",
      "(10, 32, 65, 641)\n",
      "(10, 32, 65, 641)\n",
      "(10, 32, 65, 641)\n",
      "(10, 32, 65, 641)\n",
      "(10, 32, 65, 641)\n",
      "========= close ========\n",
      "\tAROUSAL-s05|Acc=0.6625|10-CV=0.58|STD=0.04583|Time spend=17.680272340774536\n",
      "\tVALENCE-s05|Acc=0.6|10-CV=0.6|STD=0.0|Time spend=17.87785840034485\n",
      "Fitted sphere radius:         95.3 mm\n",
      "Origin head coordinates:      -0.8 15.1 45.3 mm\n",
      "Origin device coordinates:    -0.8 15.1 45.3 mm\n",
      "(10, 32, 65, 641)\n",
      "(10, 32, 65, 641)\n",
      "(10, 32, 65, 641)\n",
      "(10, 32, 65, 641)\n",
      "(10, 32, 65, 641)\n",
      "(10, 32, 65, 641)\n",
      "(10, 32, 65, 641)\n",
      "(10, 32, 65, 641)\n",
      "========= close ========\n",
      "\tAROUSAL-s06|Acc=0.6|10-CV=0.585|STD=0.045|Time spend=17.033620357513428\n",
      "\tVALENCE-s06|Acc=0.75|10-CV=0.75|STD=0.0|Time spend=17.227988719940186\n",
      "Fitted sphere radius:         95.3 mm\n",
      "Origin head coordinates:      -0.8 15.1 45.3 mm\n",
      "Origin device coordinates:    -0.8 15.1 45.3 mm\n",
      "(10, 32, 65, 641)\n",
      "(10, 32, 65, 641)\n",
      "(10, 32, 65, 641)\n",
      "(10, 32, 65, 641)\n",
      "(10, 32, 65, 641)\n",
      "(10, 32, 65, 641)\n",
      "(10, 32, 65, 641)\n",
      "(10, 32, 65, 641)\n",
      "========= close ========\n",
      "\tAROUSAL-s07|Acc=0.675|10-CV=0.635|STD=0.05937|Time spend=17.94364285469055\n",
      "\tVALENCE-s07|Acc=0.7|10-CV=0.695|STD=0.015|Time spend=18.15059232711792\n",
      "Fitted sphere radius:         95.3 mm\n",
      "Origin head coordinates:      -0.8 15.1 45.3 mm\n",
      "Origin device coordinates:    -0.8 15.1 45.3 mm\n",
      "(10, 32, 65, 641)\n",
      "(10, 32, 65, 641)\n",
      "(10, 32, 65, 641)\n",
      "(10, 32, 65, 641)\n",
      "(10, 32, 65, 641)\n",
      "(10, 32, 65, 641)\n",
      "(10, 32, 65, 641)\n",
      "(10, 32, 65, 641)\n",
      "========= close ========\n",
      "\tAROUSAL-s08|Acc=0.6875|10-CV=0.595|STD=0.035|Time spend=17.154186725616455\n",
      "\tVALENCE-s08|Acc=0.7375|10-CV=0.665|STD=0.08675|Time spend=17.434614896774292\n",
      "Fitted sphere radius:         95.3 mm\n",
      "Origin head coordinates:      -0.8 15.1 45.3 mm\n",
      "Origin device coordinates:    -0.8 15.1 45.3 mm\n",
      "(10, 32, 65, 641)\n",
      "(10, 32, 65, 641)\n",
      "(10, 32, 65, 641)\n",
      "(10, 32, 65, 641)\n",
      "(10, 32, 65, 641)\n",
      "(10, 32, 65, 641)\n",
      "(10, 32, 65, 641)\n",
      "(10, 32, 65, 641)\n",
      "========= close ========\n",
      "\tAROUSAL-s09|Acc=0.6625|10-CV=0.6|STD=0.0|Time spend=16.939079523086548\n",
      "\tVALENCE-s09|Acc=0.8125|10-CV=0.75|STD=0.08367|Time spend=17.135572910308838\n",
      "Fitted sphere radius:         95.3 mm\n",
      "Origin head coordinates:      -0.8 15.1 45.3 mm\n",
      "Origin device coordinates:    -0.8 15.1 45.3 mm\n",
      "(10, 32, 65, 641)\n",
      "(10, 32, 65, 641)\n",
      "(10, 32, 65, 641)\n",
      "(10, 32, 65, 641)\n",
      "(10, 32, 65, 641)\n",
      "(10, 32, 65, 641)\n",
      "(10, 32, 65, 641)\n",
      "(10, 32, 65, 641)\n",
      "========= close ========\n",
      "\tAROUSAL-s10|Acc=0.725|10-CV=0.685|STD=0.09233|Time spend=17.46040678024292\n",
      "\tVALENCE-s10|Acc=0.825|10-CV=0.785|STD=0.08958|Time spend=17.651350498199463\n",
      "Fitted sphere radius:         95.3 mm\n",
      "Origin head coordinates:      -0.8 15.1 45.3 mm\n",
      "Origin device coordinates:    -0.8 15.1 45.3 mm\n",
      "(10, 32, 65, 641)\n",
      "(10, 32, 65, 641)\n",
      "(10, 32, 65, 641)\n",
      "(10, 32, 65, 641)\n",
      "(10, 32, 65, 641)\n",
      "(10, 32, 65, 641)\n",
      "(10, 32, 65, 641)\n",
      "(10, 32, 65, 641)\n",
      "========= close ========\n",
      "\tAROUSAL-s11|Acc=0.625|10-CV=0.635|STD=0.02291|Time spend=16.264690160751343\n",
      "\tVALENCE-s11|Acc=0.65|10-CV=0.6|STD=0.0|Time spend=16.443856239318848\n",
      "Fitted sphere radius:         95.3 mm\n",
      "Origin head coordinates:      -0.8 15.1 45.3 mm\n",
      "Origin device coordinates:    -0.8 15.1 45.3 mm\n",
      "(10, 32, 65, 641)\n",
      "(10, 32, 65, 641)\n",
      "(10, 32, 65, 641)\n",
      "(10, 32, 65, 641)\n",
      "(10, 32, 65, 641)\n",
      "(10, 32, 65, 641)\n",
      "(10, 32, 65, 641)\n",
      "(10, 32, 65, 641)\n",
      "========= close ========\n",
      "\tAROUSAL-s12|Acc=0.825|10-CV=0.82|STD=0.02449|Time spend=17.77476453781128\n",
      "\tVALENCE-s12|Acc=0.6375|10-CV=0.64|STD=0.04899|Time spend=18.064062118530273\n",
      "Fitted sphere radius:         95.3 mm\n",
      "Origin head coordinates:      -0.8 15.1 45.3 mm\n",
      "Origin device coordinates:    -0.8 15.1 45.3 mm\n",
      "(10, 32, 65, 641)\n",
      "(10, 32, 65, 641)\n",
      "(10, 32, 65, 641)\n",
      "(10, 32, 65, 641)\n",
      "(10, 32, 65, 641)\n",
      "(10, 32, 65, 641)\n",
      "(10, 32, 65, 641)\n",
      "(10, 32, 65, 641)\n",
      "========= close ========\n",
      "\tAROUSAL-s13|Acc=0.85|10-CV=0.85|STD=0.0|Time spend=17.009931564331055\n",
      "\tVALENCE-s13|Acc=0.8|10-CV=0.82|STD=0.07141|Time spend=17.249864101409912\n",
      "Fitted sphere radius:         95.3 mm\n",
      "Origin head coordinates:      -0.8 15.1 45.3 mm\n",
      "Origin device coordinates:    -0.8 15.1 45.3 mm\n",
      "(10, 32, 65, 641)\n",
      "(10, 32, 65, 641)\n",
      "(10, 32, 65, 641)\n",
      "(10, 32, 65, 641)\n",
      "(10, 32, 65, 641)\n",
      "(10, 32, 65, 641)\n",
      "(10, 32, 65, 641)\n",
      "(10, 32, 65, 641)\n",
      "========= close ========\n",
      "\tAROUSAL-s14|Acc=0.675|10-CV=0.665|STD=0.02291|Time spend=16.834811449050903\n",
      "\tVALENCE-s14|Acc=0.75|10-CV=0.735|STD=0.06727|Time spend=17.05816125869751\n",
      "Fitted sphere radius:         95.3 mm\n",
      "Origin head coordinates:      -0.8 15.1 45.3 mm\n",
      "Origin device coordinates:    -0.8 15.1 45.3 mm\n",
      "(10, 32, 65, 641)\n",
      "(10, 32, 65, 641)\n",
      "(10, 32, 65, 641)\n",
      "(10, 32, 65, 641)\n",
      "(10, 32, 65, 641)\n",
      "(10, 32, 65, 641)\n",
      "(10, 32, 65, 641)\n",
      "(10, 32, 65, 641)\n",
      "========= close ========\n",
      "\tAROUSAL-s15|Acc=0.6625|10-CV=0.58|STD=0.03317|Time spend=17.61961317062378\n",
      "\tVALENCE-s15|Acc=0.85|10-CV=0.81|STD=0.04899|Time spend=17.815279006958008\n",
      "Fitted sphere radius:         95.3 mm\n",
      "Origin head coordinates:      -0.8 15.1 45.3 mm\n",
      "Origin device coordinates:    -0.8 15.1 45.3 mm\n",
      "(10, 32, 65, 641)\n",
      "(10, 32, 65, 641)\n",
      "(10, 32, 65, 641)\n",
      "(10, 32, 65, 641)\n",
      "(10, 32, 65, 641)\n",
      "(10, 32, 65, 641)\n",
      "(10, 32, 65, 641)\n",
      "(10, 32, 65, 641)\n",
      "========= close ========\n",
      "\tAROUSAL-s16|Acc=0.6625|10-CV=0.59|STD=0.10677|Time spend=16.657895803451538\n",
      "\tVALENCE-s16|Acc=0.7|10-CV=0.625|STD=0.025|Time spend=16.8514883518219\n",
      "Fitted sphere radius:         95.3 mm\n",
      "Origin head coordinates:      -0.8 15.1 45.3 mm\n",
      "Origin device coordinates:    -0.8 15.1 45.3 mm\n",
      "(10, 32, 65, 641)\n",
      "(10, 32, 65, 641)\n",
      "(10, 32, 65, 641)\n",
      "(10, 32, 65, 641)\n",
      "(10, 32, 65, 641)\n",
      "(10, 32, 65, 641)\n",
      "(10, 32, 65, 641)\n",
      "(10, 32, 65, 641)\n",
      "========= close ========\n",
      "\tAROUSAL-s17|Acc=0.8|10-CV=0.805|STD=0.10595|Time spend=17.52100372314453\n",
      "\tVALENCE-s17|Acc=0.625|10-CV=0.54|STD=0.05385|Time spend=17.706173181533813\n",
      "Fitted sphere radius:         95.3 mm\n",
      "Origin head coordinates:      -0.8 15.1 45.3 mm\n",
      "Origin device coordinates:    -0.8 15.1 45.3 mm\n",
      "(10, 32, 65, 641)\n",
      "(10, 32, 65, 641)\n",
      "(10, 32, 65, 641)\n",
      "(10, 32, 65, 641)\n",
      "(10, 32, 65, 641)\n",
      "(10, 32, 65, 641)\n",
      "(10, 32, 65, 641)\n",
      "(10, 32, 65, 641)\n",
      "========= close ========\n",
      "\tAROUSAL-s18|Acc=0.625|10-CV=0.63|STD=0.02449|Time spend=17.38199472427368\n",
      "\tVALENCE-s18|Acc=0.8375|10-CV=0.77|STD=0.09798|Time spend=17.562071800231934\n",
      "Fitted sphere radius:         95.3 mm\n",
      "Origin head coordinates:      -0.8 15.1 45.3 mm\n",
      "Origin device coordinates:    -0.8 15.1 45.3 mm\n",
      "(10, 32, 65, 641)\n",
      "(10, 32, 65, 641)\n",
      "(10, 32, 65, 641)\n",
      "(10, 32, 65, 641)\n",
      "(10, 32, 65, 641)\n",
      "(10, 32, 65, 641)\n",
      "(10, 32, 65, 641)\n",
      "(10, 32, 65, 641)\n",
      "========= close ========\n",
      "\tAROUSAL-s19|Acc=0.725|10-CV=0.665|STD=0.02291|Time spend=18.097581386566162\n",
      "\tVALENCE-s19|Acc=0.7375|10-CV=0.69|STD=0.07348|Time spend=18.36644434928894\n",
      "Fitted sphere radius:         95.3 mm\n",
      "Origin head coordinates:      -0.8 15.1 45.3 mm\n",
      "Origin device coordinates:    -0.8 15.1 45.3 mm\n",
      "(10, 32, 65, 641)\n",
      "(10, 32, 65, 641)\n",
      "(10, 32, 65, 641)\n",
      "(10, 32, 65, 641)\n",
      "(10, 32, 65, 641)\n",
      "(10, 32, 65, 641)\n",
      "(10, 32, 65, 641)\n",
      "(10, 32, 65, 641)\n",
      "========= close ========\n",
      "\tAROUSAL-s20|Acc=0.775|10-CV=0.77|STD=0.02449|Time spend=17.556640625\n",
      "\tVALENCE-s20|Acc=0.8625|10-CV=0.745|STD=0.11057|Time spend=17.737908363342285\n",
      "Fitted sphere radius:         95.3 mm\n",
      "Origin head coordinates:      -0.8 15.1 45.3 mm\n",
      "Origin device coordinates:    -0.8 15.1 45.3 mm\n",
      "(10, 32, 65, 641)\n",
      "(10, 32, 65, 641)\n",
      "(10, 32, 65, 641)\n",
      "(10, 32, 65, 641)\n",
      "(10, 32, 65, 641)\n",
      "(10, 32, 65, 641)\n",
      "(10, 32, 65, 641)\n",
      "(10, 32, 65, 641)\n",
      "========= close ========\n",
      "\tAROUSAL-s21|Acc=0.8|10-CV=0.8|STD=0.0|Time spend=17.94292688369751\n",
      "\tVALENCE-s21|Acc=0.55|10-CV=0.535|STD=0.03202|Time spend=18.178266048431396\n",
      "Fitted sphere radius:         95.3 mm\n",
      "Origin head coordinates:      -0.8 15.1 45.3 mm\n",
      "Origin device coordinates:    -0.8 15.1 45.3 mm\n",
      "(10, 32, 65, 641)\n",
      "(10, 32, 65, 641)\n",
      "(10, 32, 65, 641)\n",
      "(10, 32, 65, 641)\n",
      "(10, 32, 65, 641)\n",
      "(10, 32, 65, 641)\n",
      "(10, 32, 65, 641)\n",
      "(10, 32, 65, 641)\n",
      "========= close ========\n",
      "\tAROUSAL-s22|Acc=0.6|10-CV=0.6|STD=0.0|Time spend=17.514610528945923\n",
      "\tVALENCE-s22|Acc=0.7625|10-CV=0.74|STD=0.08307|Time spend=17.69521427154541\n",
      "Fitted sphere radius:         95.3 mm\n",
      "Origin head coordinates:      -0.8 15.1 45.3 mm\n",
      "Origin device coordinates:    -0.8 15.1 45.3 mm\n",
      "(10, 32, 65, 641)\n",
      "(10, 32, 65, 641)\n",
      "(10, 32, 65, 641)\n",
      "(10, 32, 65, 641)\n",
      "(10, 32, 65, 641)\n",
      "(10, 32, 65, 641)\n",
      "(10, 32, 65, 641)\n",
      "(10, 32, 65, 641)\n",
      "========= close ========\n",
      "\tAROUSAL-s23|Acc=0.75|10-CV=0.75|STD=0.0|Time spend=17.29868173599243\n",
      "\tVALENCE-s23|Acc=0.65|10-CV=0.65|STD=0.0|Time spend=17.48311185836792\n",
      "Fitted sphere radius:         95.3 mm\n",
      "Origin head coordinates:      -0.8 15.1 45.3 mm\n",
      "Origin device coordinates:    -0.8 15.1 45.3 mm\n",
      "(10, 32, 65, 641)\n",
      "(10, 32, 65, 641)\n",
      "(10, 32, 65, 641)\n",
      "(10, 32, 65, 641)\n",
      "(10, 32, 65, 641)\n",
      "(10, 32, 65, 641)\n",
      "(10, 32, 65, 641)\n",
      "(10, 32, 65, 641)\n",
      "========= close ========\n",
      "\tAROUSAL-s24|Acc=0.825|10-CV=0.82|STD=0.02449|Time spend=18.477989435195923\n",
      "\tVALENCE-s24|Acc=0.75|10-CV=0.715|STD=0.07089|Time spend=18.753884077072144\n",
      "Fitted sphere radius:         95.3 mm\n",
      "Origin head coordinates:      -0.8 15.1 45.3 mm\n",
      "Origin device coordinates:    -0.8 15.1 45.3 mm\n",
      "(10, 32, 65, 641)\n",
      "(10, 32, 65, 641)\n",
      "(10, 32, 65, 641)\n",
      "(10, 32, 65, 641)\n",
      "(10, 32, 65, 641)\n",
      "(10, 32, 65, 641)\n",
      "(10, 32, 65, 641)\n",
      "(10, 32, 65, 641)\n",
      "========= close ========\n",
      "\tAROUSAL-s25|Acc=0.725|10-CV=0.72|STD=0.02449|Time spend=18.558079719543457\n",
      "\tVALENCE-s25|Acc=0.5375|10-CV=0.51|STD=0.06245|Time spend=18.79473114013672\n",
      "Fitted sphere radius:         95.3 mm\n",
      "Origin head coordinates:      -0.8 15.1 45.3 mm\n",
      "Origin device coordinates:    -0.8 15.1 45.3 mm\n",
      "(10, 32, 65, 641)\n",
      "(10, 32, 65, 641)\n",
      "(10, 32, 65, 641)\n",
      "(10, 32, 65, 641)\n",
      "(10, 32, 65, 641)\n",
      "(10, 32, 65, 641)\n",
      "(10, 32, 65, 641)\n",
      "(10, 32, 65, 641)\n",
      "========= close ========\n",
      "\tAROUSAL-s26|Acc=0.7|10-CV=0.6|STD=0.05477|Time spend=17.982327699661255\n",
      "\tVALENCE-s26|Acc=0.65|10-CV=0.65|STD=0.0|Time spend=18.279170036315918\n",
      "Fitted sphere radius:         95.3 mm\n",
      "Origin head coordinates:      -0.8 15.1 45.3 mm\n",
      "Origin device coordinates:    -0.8 15.1 45.3 mm\n",
      "(10, 32, 65, 641)\n",
      "(10, 32, 65, 641)\n",
      "(10, 32, 65, 641)\n",
      "(10, 32, 65, 641)\n",
      "(10, 32, 65, 641)\n",
      "(10, 32, 65, 641)\n",
      "(10, 32, 65, 641)\n",
      "(10, 32, 65, 641)\n",
      "========= close ========\n",
      "\tAROUSAL-s27|Acc=0.725|10-CV=0.65|STD=0.03162|Time spend=17.822603225708008\n",
      "\tVALENCE-s27|Acc=0.75|10-CV=0.75|STD=0.0|Time spend=18.007871389389038\n",
      "Fitted sphere radius:         95.3 mm\n",
      "Origin head coordinates:      -0.8 15.1 45.3 mm\n",
      "Origin device coordinates:    -0.8 15.1 45.3 mm\n",
      "(10, 32, 65, 641)\n",
      "(10, 32, 65, 641)\n",
      "(10, 32, 65, 641)\n",
      "(10, 32, 65, 641)\n",
      "(10, 32, 65, 641)\n",
      "(10, 32, 65, 641)\n",
      "(10, 32, 65, 641)\n",
      "(10, 32, 65, 641)\n",
      "========= close ========\n",
      "\tAROUSAL-s28|Acc=0.55|10-CV=0.55|STD=0.0|Time spend=17.158958673477173\n",
      "\tVALENCE-s28|Acc=0.625|10-CV=0.63|STD=0.02449|Time spend=17.394052267074585\n",
      "Fitted sphere radius:         95.3 mm\n",
      "Origin head coordinates:      -0.8 15.1 45.3 mm\n",
      "Origin device coordinates:    -0.8 15.1 45.3 mm\n",
      "(10, 32, 65, 641)\n",
      "(10, 32, 65, 641)\n",
      "(10, 32, 65, 641)\n",
      "(10, 32, 65, 641)\n",
      "(10, 32, 65, 641)\n",
      "(10, 32, 65, 641)\n",
      "(10, 32, 65, 641)\n",
      "(10, 32, 65, 641)\n",
      "========= close ========\n",
      "\tAROUSAL-s29|Acc=0.7|10-CV=0.64|STD=0.03|Time spend=17.421288013458252\n",
      "\tVALENCE-s29|Acc=0.7625|10-CV=0.605|STD=0.11927|Time spend=17.627010107040405\n",
      "Fitted sphere radius:         95.3 mm\n",
      "Origin head coordinates:      -0.8 15.1 45.3 mm\n",
      "Origin device coordinates:    -0.8 15.1 45.3 mm\n",
      "(10, 32, 65, 641)\n",
      "(10, 32, 65, 641)\n",
      "(10, 32, 65, 641)\n",
      "(10, 32, 65, 641)\n",
      "(10, 32, 65, 641)\n",
      "(10, 32, 65, 641)\n",
      "(10, 32, 65, 641)\n",
      "(10, 32, 65, 641)\n",
      "========= close ========\n",
      "\tAROUSAL-s30|Acc=0.6375|10-CV=0.685|STD=0.105|Time spend=17.90938639640808\n",
      "\tVALENCE-s30|Acc=0.675|10-CV=0.665|STD=0.02291|Time spend=18.087976455688477\n",
      "Fitted sphere radius:         95.3 mm\n",
      "Origin head coordinates:      -0.8 15.1 45.3 mm\n",
      "Origin device coordinates:    -0.8 15.1 45.3 mm\n",
      "(10, 32, 65, 641)\n",
      "(10, 32, 65, 641)\n",
      "(10, 32, 65, 641)\n",
      "(10, 32, 65, 641)\n",
      "(10, 32, 65, 641)\n",
      "(10, 32, 65, 641)\n",
      "(10, 32, 65, 641)\n",
      "(10, 32, 65, 641)\n",
      "========= close ========\n",
      "\tAROUSAL-s31|Acc=0.7|10-CV=0.59|STD=0.05385|Time spend=18.051429510116577\n",
      "\tVALENCE-s31|Acc=0.625|10-CV=0.585|STD=0.045|Time spend=18.366912126541138\n",
      "Fitted sphere radius:         95.3 mm\n",
      "Origin head coordinates:      -0.8 15.1 45.3 mm\n",
      "Origin device coordinates:    -0.8 15.1 45.3 mm\n",
      "(10, 32, 65, 641)\n",
      "(10, 32, 65, 641)\n",
      "(10, 32, 65, 641)\n",
      "(10, 32, 65, 641)\n",
      "(10, 32, 65, 641)\n",
      "(10, 32, 65, 641)\n",
      "(10, 32, 65, 641)\n",
      "(10, 32, 65, 641)\n",
      "========= close ========\n",
      "\tAROUSAL-s32|Acc=0.675|10-CV=0.665|STD=0.02291|Time spend=19.038570642471313\n",
      "\tVALENCE-s32|Acc=0.7875|10-CV=0.71|STD=0.09165|Time spend=19.251403331756592\n",
      "AROUSAL|Acc=0.696875|10-CV=0.66703125|STD=0.034119295272185865\n",
      "VALENCE|Acc=0.7132812500000001|10-CV=0.6689062499999999|STD=0.05271162273540255\n"
     ]
    }
   ],
   "source": [
    "accs, cv_means, cv_stds = [],[],[]\n",
    "accs_v, cv_means_v, cv_stds_v = [],[],[]\n",
    "reports = []\n",
    "for filename in (pbar := tqdm(dataset.get_file_list())):\n",
    "    start = time.time()\n",
    "    pbar.set_description(filename)\n",
    "    data, labels, groups = dataset.get_data(filename, stimuli=Dataset_subjectDependent.STIMULI_AROUSAL, return_type='mne', sfreq=128)\n",
    "    \n",
    "    data_csd = mne.preprocessing.compute_current_source_density(data)\n",
    "\n",
    "    plv = calculate_plv(data_csd.get_data(), n_jobs=8)\n",
    "\n",
    "    _,acc,cross,train_report = train_model(plv, labels.squeeze(), groups, filename=filename, return_text=True)\n",
    "    report = f\"\\tAROUSAL-{filename}|Acc={round(acc,5)}|10-CV={round(cross.mean(),5)}|STD={round(cross.std(),5)}|Time spend={time.time() - start}\"\n",
    "    print(report)\n",
    "    reports.append(report)\n",
    "    reports.append(train_report)\n",
    "    accs.append(acc)\n",
    "    cv_means.append(cross.mean())\n",
    "    cv_stds.append(cross.std())\n",
    "\n",
    "    _, labels_v, groups_v = dataset.get_data(filename, stimuli=Dataset_subjectDependent.STIMULI_VALENCE, return_type='mne', sfreq=128)\n",
    "    _,acc,cross,train_report = train_model(plv, labels_v.squeeze(), groups_v, filename=filename, return_text=True)\n",
    "    report = f\"\\tVALENCE-{filename}|Acc={round(acc,5)}|10-CV={round(cross.mean(),5)}|STD={round(cross.std(),5)}|Time spend={time.time() - start}\"\n",
    "    print(report)\n",
    "    reports.append(report)\n",
    "    reports.append(train_report)\n",
    "    accs_v.append(acc)\n",
    "    cv_means_v.append(cross.mean())\n",
    "    cv_stds_v.append(cross.std())\n",
    "    # break\n",
    "    # count+=1\n",
    "    # if(count == 5): break\n",
    "report = f\"AROUSAL|Acc={sum(accs)/len(accs)}|10-CV={sum(cv_means)/len(cv_means)}|STD={sum(cv_stds)/len(cv_stds)}\"\n",
    "print(report)\n",
    "reports.append(report)\n",
    "report = f\"VALENCE|Acc={sum(accs_v)/len(accs_v)}|10-CV={sum(cv_means_v)/len(cv_means_v)}|STD={sum(cv_stds_v)/len(cv_stds_v)}\"\n",
    "print(report)\n",
    "reports.append(report)"
   ]
  },
  {
   "cell_type": "code",
   "execution_count": 15,
   "metadata": {},
   "outputs": [
    {
     "name": "stdout",
     "output_type": "stream",
     "text": [
      "\tAROUSAL-s01|Acc=0.6375|10-CV=0.6|STD=0.0|Time spend=22.736393928527832\n",
      "\tVALENCE-s01|Acc=0.6875|10-CV=0.57|STD=0.08718|Time spend=22.98538088798523\n",
      "\tAROUSAL-s02|Acc=0.6|10-CV=0.605|STD=0.015|Time spend=18.433027267456055\n",
      "-----WARNING: Model s02 failed to learn: sum(ans)=80.0 sum(y)=48.0 len(y)=80\n",
      "\tVALENCE-s02|Acc=0.7625|10-CV=0.7|STD=0.05916|Time spend=18.607035160064697\n",
      "\tAROUSAL-s03|Acc=0.8|10-CV=0.8|STD=0.0|Time spend=18.599188327789307\n",
      "-----WARNING: Model s03 failed to learn: sum(ans)=0.0 sum(y)=16.0 len(y)=80\n",
      "\tVALENCE-s03|Acc=0.625|10-CV=0.53|STD=0.02449|Time spend=18.792882442474365\n",
      "\tAROUSAL-s04|Acc=0.6375|10-CV=0.58|STD=0.06403|Time spend=16.604431629180908\n",
      "\tVALENCE-s04|Acc=0.75|10-CV=0.64|STD=0.09165|Time spend=16.78192687034607\n",
      "\tAROUSAL-s05|Acc=0.6625|10-CV=0.58|STD=0.04583|Time spend=17.680272340774536\n",
      "\tVALENCE-s05|Acc=0.6|10-CV=0.6|STD=0.0|Time spend=17.87785840034485\n",
      "-----WARNING: Model s05 failed to learn: sum(ans)=80.0 sum(y)=48.0 len(y)=80\n",
      "\tAROUSAL-s06|Acc=0.6|10-CV=0.585|STD=0.045|Time spend=17.033620357513428\n",
      "\tVALENCE-s06|Acc=0.75|10-CV=0.75|STD=0.0|Time spend=17.227988719940186\n",
      "-----WARNING: Model s06 failed to learn: sum(ans)=80.0 sum(y)=60.0 len(y)=80\n",
      "\tAROUSAL-s07|Acc=0.675|10-CV=0.635|STD=0.05937|Time spend=17.94364285469055\n",
      "\tVALENCE-s07|Acc=0.7|10-CV=0.695|STD=0.015|Time spend=18.15059232711792\n",
      "-----WARNING: Model s07 failed to learn: sum(ans)=80.0 sum(y)=56.0 len(y)=80\n",
      "\tAROUSAL-s08|Acc=0.6875|10-CV=0.595|STD=0.035|Time spend=17.154186725616455\n",
      "\tVALENCE-s08|Acc=0.7375|10-CV=0.665|STD=0.08675|Time spend=17.434614896774292\n",
      "\tAROUSAL-s09|Acc=0.6625|10-CV=0.6|STD=0.0|Time spend=16.939079523086548\n",
      "\tVALENCE-s09|Acc=0.8125|10-CV=0.75|STD=0.08367|Time spend=17.135572910308838\n",
      "\tAROUSAL-s10|Acc=0.725|10-CV=0.685|STD=0.09233|Time spend=17.46040678024292\n",
      "\tVALENCE-s10|Acc=0.825|10-CV=0.785|STD=0.08958|Time spend=17.651350498199463\n",
      "\tAROUSAL-s11|Acc=0.625|10-CV=0.635|STD=0.02291|Time spend=16.264690160751343\n",
      "-----WARNING: Model s11 failed to learn: sum(ans)=0.0 sum(y)=30.0 len(y)=80\n",
      "\tVALENCE-s11|Acc=0.65|10-CV=0.6|STD=0.0|Time spend=16.443856239318848\n",
      "\tAROUSAL-s12|Acc=0.825|10-CV=0.82|STD=0.02449|Time spend=17.77476453781128\n",
      "-----WARNING: Model s12 failed to learn: sum(ans)=80.0 sum(y)=66.0 len(y)=80\n",
      "\tVALENCE-s12|Acc=0.6375|10-CV=0.64|STD=0.04899|Time spend=18.064062118530273\n",
      "\tAROUSAL-s13|Acc=0.85|10-CV=0.85|STD=0.0|Time spend=17.009931564331055\n",
      "-----WARNING: Model s13 failed to learn: sum(ans)=80.0 sum(y)=68.0 len(y)=80\n",
      "\tVALENCE-s13|Acc=0.8|10-CV=0.82|STD=0.07141|Time spend=17.249864101409912\n",
      "\tAROUSAL-s14|Acc=0.675|10-CV=0.665|STD=0.02291|Time spend=16.834811449050903\n",
      "-----WARNING: Model s14 failed to learn: sum(ans)=80.0 sum(y)=54.0 len(y)=80\n",
      "\tVALENCE-s14|Acc=0.75|10-CV=0.735|STD=0.06727|Time spend=17.05816125869751\n",
      "\tAROUSAL-s15|Acc=0.6625|10-CV=0.58|STD=0.03317|Time spend=17.61961317062378\n",
      "\tVALENCE-s15|Acc=0.85|10-CV=0.81|STD=0.04899|Time spend=17.815279006958008\n",
      "\tAROUSAL-s16|Acc=0.6625|10-CV=0.59|STD=0.10677|Time spend=16.657895803451538\n",
      "\tVALENCE-s16|Acc=0.7|10-CV=0.625|STD=0.025|Time spend=16.8514883518219\n",
      "\tAROUSAL-s17|Acc=0.8|10-CV=0.805|STD=0.10595|Time spend=17.52100372314453\n",
      "\tVALENCE-s17|Acc=0.625|10-CV=0.54|STD=0.05385|Time spend=17.706173181533813\n",
      "\tAROUSAL-s18|Acc=0.625|10-CV=0.63|STD=0.02449|Time spend=17.38199472427368\n",
      "-----WARNING: Model s18 failed to learn: sum(ans)=80.0 sum(y)=50.0 len(y)=80\n",
      "\tVALENCE-s18|Acc=0.8375|10-CV=0.77|STD=0.09798|Time spend=17.562071800231934\n",
      "\tAROUSAL-s19|Acc=0.725|10-CV=0.665|STD=0.02291|Time spend=18.097581386566162\n",
      "\tVALENCE-s19|Acc=0.7375|10-CV=0.69|STD=0.07348|Time spend=18.36644434928894\n",
      "\tAROUSAL-s20|Acc=0.775|10-CV=0.77|STD=0.02449|Time spend=17.556640625\n",
      "-----WARNING: Model s20 failed to learn: sum(ans)=80.0 sum(y)=62.0 len(y)=80\n",
      "\tVALENCE-s20|Acc=0.8625|10-CV=0.745|STD=0.11057|Time spend=17.737908363342285\n",
      "\tAROUSAL-s21|Acc=0.8|10-CV=0.8|STD=0.0|Time spend=17.94292688369751\n",
      "-----WARNING: Model s21 failed to learn: sum(ans)=80.0 sum(y)=64.0 len(y)=80\n",
      "\tVALENCE-s21|Acc=0.55|10-CV=0.535|STD=0.03202|Time spend=18.178266048431396\n",
      "\tAROUSAL-s22|Acc=0.6|10-CV=0.6|STD=0.0|Time spend=17.514610528945923\n",
      "-----WARNING: Model s22 failed to learn: sum(ans)=80.0 sum(y)=48.0 len(y)=80\n",
      "\tVALENCE-s22|Acc=0.7625|10-CV=0.74|STD=0.08307|Time spend=17.69521427154541\n",
      "\tAROUSAL-s23|Acc=0.75|10-CV=0.75|STD=0.0|Time spend=17.29868173599243\n",
      "-----WARNING: Model s23 failed to learn: sum(ans)=0.0 sum(y)=20.0 len(y)=80\n",
      "\tVALENCE-s23|Acc=0.65|10-CV=0.65|STD=0.0|Time spend=17.48311185836792\n",
      "-----WARNING: Model s23 failed to learn: sum(ans)=80.0 sum(y)=52.0 len(y)=80\n",
      "\tAROUSAL-s24|Acc=0.825|10-CV=0.82|STD=0.02449|Time spend=18.477989435195923\n",
      "-----WARNING: Model s24 failed to learn: sum(ans)=80.0 sum(y)=66.0 len(y)=80\n",
      "\tVALENCE-s24|Acc=0.75|10-CV=0.715|STD=0.07089|Time spend=18.753884077072144\n",
      "\tAROUSAL-s25|Acc=0.725|10-CV=0.72|STD=0.02449|Time spend=18.558079719543457\n",
      "-----WARNING: Model s25 failed to learn: sum(ans)=80.0 sum(y)=58.0 len(y)=80\n",
      "\tVALENCE-s25|Acc=0.5375|10-CV=0.51|STD=0.06245|Time spend=18.79473114013672\n",
      "\tAROUSAL-s26|Acc=0.7|10-CV=0.6|STD=0.05477|Time spend=17.982327699661255\n",
      "\tVALENCE-s26|Acc=0.65|10-CV=0.65|STD=0.0|Time spend=18.279170036315918\n",
      "-----WARNING: Model s26 failed to learn: sum(ans)=80.0 sum(y)=52.0 len(y)=80\n",
      "\tAROUSAL-s27|Acc=0.725|10-CV=0.65|STD=0.03162|Time spend=17.822603225708008\n",
      "\tVALENCE-s27|Acc=0.75|10-CV=0.75|STD=0.0|Time spend=18.007871389389038\n",
      "-----WARNING: Model s27 failed to learn: sum(ans)=80.0 sum(y)=60.0 len(y)=80\n",
      "\tAROUSAL-s28|Acc=0.55|10-CV=0.55|STD=0.0|Time spend=17.158958673477173\n",
      "-----WARNING: Model s28 failed to learn: sum(ans)=0.0 sum(y)=36.0 len(y)=80\n",
      "\tVALENCE-s28|Acc=0.625|10-CV=0.63|STD=0.02449|Time spend=17.394052267074585\n",
      "-----WARNING: Model s28 failed to learn: sum(ans)=80.0 sum(y)=50.0 len(y)=80\n",
      "\tAROUSAL-s29|Acc=0.7|10-CV=0.64|STD=0.03|Time spend=17.421288013458252\n",
      "\tVALENCE-s29|Acc=0.7625|10-CV=0.605|STD=0.11927|Time spend=17.627010107040405\n",
      "\tAROUSAL-s30|Acc=0.6375|10-CV=0.685|STD=0.105|Time spend=17.90938639640808\n",
      "\tVALENCE-s30|Acc=0.675|10-CV=0.665|STD=0.02291|Time spend=18.087976455688477\n",
      "-----WARNING: Model s30 failed to learn: sum(ans)=80.0 sum(y)=54.0 len(y)=80\n",
      "\tAROUSAL-s31|Acc=0.7|10-CV=0.59|STD=0.05385|Time spend=18.051429510116577\n",
      "\tVALENCE-s31|Acc=0.625|10-CV=0.585|STD=0.045|Time spend=18.366912126541138\n",
      "\tAROUSAL-s32|Acc=0.675|10-CV=0.665|STD=0.02291|Time spend=19.038570642471313\n",
      "-----WARNING: Model s32 failed to learn: sum(ans)=80.0 sum(y)=54.0 len(y)=80\n",
      "\tVALENCE-s32|Acc=0.7875|10-CV=0.71|STD=0.09165|Time spend=19.251403331756592\n",
      "AROUSAL|Acc=0.696875|10-CV=0.66703125|STD=0.034119295272185865\n",
      "VALENCE|Acc=0.7132812500000001|10-CV=0.6689062499999999|STD=0.05271162273540255\n",
      "TOTAL|Acc=0.705078125|10-CV=0.66796875|STD=0.043415459003794205\n"
     ]
    }
   ],
   "source": [
    "for text in reports:\n",
    "    if(text == None): continue\n",
    "    print(text)\n",
    "\n",
    "accs.extend(accs_v)\n",
    "cv_means.extend(cv_means_v)\n",
    "cv_stds.extend(cv_stds_v)\n",
    "print(f\"TOTAL|Acc={sum(accs)/len(accs)}|10-CV={sum(cv_means)/len(cv_means)}|STD={sum(cv_stds)/len(cv_stds)}\")"
   ]
  },
  {
   "cell_type": "markdown",
   "metadata": {},
   "source": [
    "### 4.4 $ \\text{PLI}(j,k) =  \\frac{1}{T} | \\Sigma^{T}_{t=1} \\text{sign}(Im[e^{i (\\phi^{t}_{j} - \\phi^{t}_{k})}])  | $"
   ]
  },
  {
   "cell_type": "code",
   "execution_count": 16,
   "metadata": {},
   "outputs": [],
   "source": [
    "# bands = [(0,4), (4,8), (8,12), (12,30), (30,64)]\n",
    "def calculate_stft(signals, sfreq):\n",
    "    from scipy import signal\n",
    "    f_range, t_range, Z = signal.stft(signals, sfreq, nperseg=sfreq//10, nfft=sfreq)\n",
    "    magnitude = np.abs(Z) \n",
    "    phase = np.angle(Z)\n",
    "    return magnitude, phase, f_range, t_range\n",
    "\n",
    "def PLI_stft(p_id, phase):\n",
    "    # (32, 65, 12) => (channels, freqs, times)\n",
    "    # print(f\"p_id:{p_id} - data to run {phase.shape}\")\n",
    "    from itertools import combinations\n",
    "    pli = []\n",
    "    # count = 0\n",
    "    for index in range(phase.shape[0]):\n",
    "        pli_epoch = []\n",
    "        for comb in combinations(list(range(phase.shape[1])), 2):\n",
    "            # shape = (65,12)\n",
    "            phase_a, phase_b = phase[index, comb[0]], phase[index, comb[1]]\n",
    "            phase_diff = phase_a - phase_b\n",
    "            # sum along the time size\n",
    "            pli_ab = np.abs(np.average(   np.sign(np.imag(   np.exp(complex(0,1) * phase_diff) ))  , axis=1))\n",
    "            pli_epoch.append(pli_ab)\n",
    "        pli_epoch = np.vstack(pli_epoch)\n",
    "        pli_epoch_5 = np.concatenate([ pli_epoch[:,0:4].mean(axis=1).reshape(-1,1),\n",
    "                                        pli_epoch[:,4:8].mean(axis=1).reshape(-1,1),\n",
    "                                        pli_epoch[:,8:12].mean(axis=1).reshape(-1,1),\n",
    "                                        pli_epoch[:,12:30].mean(axis=1).reshape(-1,1),\n",
    "                                        pli_epoch[:,30:65].mean(axis=1).reshape(-1,1)], axis=0)\n",
    "        pli.append(np.expand_dims(pli_epoch_5, axis=0))\n",
    "        # count += 1\n",
    "        # if(count == 3): break\n",
    "    # shape (496, 65)\n",
    "    # 496 is number of pairs that is not duplicate\n",
    "    # 65 is number of phase of frequencies\n",
    "    pli = np.vstack( pli )\n",
    "    return pli.squeeze()\n",
    "\n",
    "def calculate_pli(data, n_jobs=8):\n",
    "    \"\"\" \n",
    "    Input: Expect data to have (n_epochs, n_channels, n_samples)\n",
    "    Output: (n_epochs, n_conn, n_freqs ) => n_conn = n_channels!/(2!(n_channels-2)!)\n",
    "    \"\"\"\n",
    "    from multiprocessing import Pool\n",
    "\n",
    "    try:\n",
    "        t_out = 60000\n",
    "        pool = Pool()\n",
    "        p_list = []\n",
    "        ans_list = []\n",
    "        num_p = n_jobs\n",
    "        indices = np.array_split(np.arange(data.shape[0]), num_p)\n",
    "        _, phase, _, _ = calculate_stft(data, 128)\n",
    "        for p_id in range(num_p):\n",
    "            p_list.append(pool.apply_async(PLI_stft, [p_id, phase[indices[p_id]] ]))\n",
    "        for p_id in range(num_p):\n",
    "            ans_list.append( p_list[p_id].get(timeout=t_out) )\n",
    "        # ans_list\n",
    "    finally:\n",
    "        print(\"========= close ========\")\n",
    "        pool.close() \n",
    "        pool.terminate()\n",
    "    return np.vstack(ans_list)\n"
   ]
  },
  {
   "cell_type": "code",
   "execution_count": 17,
   "metadata": {},
   "outputs": [
    {
     "data": {
      "application/vnd.jupyter.widget-view+json": {
       "model_id": "d27a34489866452580cf56d01f0ae3e1",
       "version_major": 2,
       "version_minor": 0
      },
      "text/plain": [
       "  0%|          | 0/32 [00:00<?, ?it/s]"
      ]
     },
     "metadata": {},
     "output_type": "display_data"
    },
    {
     "name": "stdout",
     "output_type": "stream",
     "text": [
      "Fitted sphere radius:         95.3 mm\n",
      "Origin head coordinates:      -0.8 15.1 45.3 mm\n",
      "Origin device coordinates:    -0.8 15.1 45.3 mm\n",
      "========= close ========\n",
      "\tAROUSAL-s01|Acc=0.975|10-CV=0.595|STD=0.04153|Time spend=18.058106422424316\n",
      "\tVALENCE-s01|Acc=1.0|10-CV=0.51|STD=0.05385|Time spend=18.26532769203186\n",
      "Fitted sphere radius:         95.3 mm\n",
      "Origin head coordinates:      -0.8 15.1 45.3 mm\n",
      "Origin device coordinates:    -0.8 15.1 45.3 mm\n",
      "========= close ========\n",
      "\tAROUSAL-s02|Acc=0.875|10-CV=0.555|STD=0.035|Time spend=18.947001218795776\n",
      "\tVALENCE-s02|Acc=0.85|10-CV=0.61|STD=0.08888|Time spend=19.169092178344727\n",
      "Fitted sphere radius:         95.3 mm\n",
      "Origin head coordinates:      -0.8 15.1 45.3 mm\n",
      "Origin device coordinates:    -0.8 15.1 45.3 mm\n",
      "========= close ========\n",
      "\tAROUSAL-s03|Acc=0.8625|10-CV=0.8|STD=0.0|Time spend=21.996312141418457\n",
      "\tVALENCE-s03|Acc=0.9875|10-CV=0.525|STD=0.0461|Time spend=22.186484336853027\n",
      "Fitted sphere radius:         95.3 mm\n",
      "Origin head coordinates:      -0.8 15.1 45.3 mm\n",
      "Origin device coordinates:    -0.8 15.1 45.3 mm\n",
      "========= close ========\n",
      "\tAROUSAL-s04|Acc=0.8875|10-CV=0.595|STD=0.02693|Time spend=17.781394481658936\n",
      "\tVALENCE-s04|Acc=0.85|10-CV=0.59|STD=0.03|Time spend=18.057205200195312\n",
      "Fitted sphere radius:         95.3 mm\n",
      "Origin head coordinates:      -0.8 15.1 45.3 mm\n",
      "Origin device coordinates:    -0.8 15.1 45.3 mm\n",
      "========= close ========\n",
      "\tAROUSAL-s05|Acc=0.95|10-CV=0.47|STD=0.05568|Time spend=19.606008529663086\n",
      "\tVALENCE-s05|Acc=0.7875|10-CV=0.605|STD=0.04153|Time spend=19.827048540115356\n",
      "Fitted sphere radius:         95.3 mm\n",
      "Origin head coordinates:      -0.8 15.1 45.3 mm\n",
      "Origin device coordinates:    -0.8 15.1 45.3 mm\n",
      "========= close ========\n",
      "\tAROUSAL-s06|Acc=0.975|10-CV=0.58|STD=0.04583|Time spend=17.337834358215332\n",
      "\tVALENCE-s06|Acc=0.925|10-CV=0.75|STD=0.0|Time spend=17.509785652160645\n",
      "Fitted sphere radius:         95.3 mm\n",
      "Origin head coordinates:      -0.8 15.1 45.3 mm\n",
      "Origin device coordinates:    -0.8 15.1 45.3 mm\n",
      "========= close ========\n",
      "\tAROUSAL-s07|Acc=1.0|10-CV=0.63|STD=0.02449|Time spend=19.0875723361969\n",
      "\tVALENCE-s07|Acc=0.975|10-CV=0.7|STD=0.0|Time spend=19.32661199569702\n",
      "Fitted sphere radius:         95.3 mm\n",
      "Origin head coordinates:      -0.8 15.1 45.3 mm\n",
      "Origin device coordinates:    -0.8 15.1 45.3 mm\n",
      "========= close ========\n",
      "\tAROUSAL-s08|Acc=1.0|10-CV=0.585|STD=0.02291|Time spend=17.955023050308228\n",
      "\tVALENCE-s08|Acc=0.9875|10-CV=0.575|STD=0.04031|Time spend=18.148746967315674\n",
      "Fitted sphere radius:         95.3 mm\n",
      "Origin head coordinates:      -0.8 15.1 45.3 mm\n",
      "Origin device coordinates:    -0.8 15.1 45.3 mm\n",
      "========= close ========\n",
      "\tAROUSAL-s09|Acc=0.9375|10-CV=0.58|STD=0.04583|Time spend=17.679331064224243\n",
      "\tVALENCE-s09|Acc=0.9625|10-CV=0.705|STD=0.0789|Time spend=17.975077390670776\n",
      "Fitted sphere radius:         95.3 mm\n",
      "Origin head coordinates:      -0.8 15.1 45.3 mm\n",
      "Origin device coordinates:    -0.8 15.1 45.3 mm\n",
      "========= close ========\n",
      "\tAROUSAL-s10|Acc=1.0|10-CV=0.55|STD=0.05916|Time spend=17.801599740982056\n",
      "\tVALENCE-s10|Acc=1.0|10-CV=0.605|STD=0.0789|Time spend=18.07747769355774\n",
      "Fitted sphere radius:         95.3 mm\n",
      "Origin head coordinates:      -0.8 15.1 45.3 mm\n",
      "Origin device coordinates:    -0.8 15.1 45.3 mm\n",
      "========= close ========\n",
      "\tAROUSAL-s11|Acc=0.8875|10-CV=0.625|STD=0.0461|Time spend=16.54685950279236\n",
      "\tVALENCE-s11|Acc=0.8375|10-CV=0.61|STD=0.02|Time spend=16.780598640441895\n",
      "Fitted sphere radius:         95.3 mm\n",
      "Origin head coordinates:      -0.8 15.1 45.3 mm\n",
      "Origin device coordinates:    -0.8 15.1 45.3 mm\n",
      "========= close ========\n",
      "\tAROUSAL-s12|Acc=0.8875|10-CV=0.82|STD=0.02449|Time spend=17.399723529815674\n",
      "\tVALENCE-s12|Acc=1.0|10-CV=0.465|STD=0.06344|Time spend=17.61986994743347\n",
      "Fitted sphere radius:         95.3 mm\n",
      "Origin head coordinates:      -0.8 15.1 45.3 mm\n",
      "Origin device coordinates:    -0.8 15.1 45.3 mm\n",
      "========= close ========\n",
      "\tAROUSAL-s13|Acc=0.9|10-CV=0.85|STD=0.0|Time spend=17.445867776870728\n",
      "\tVALENCE-s13|Acc=0.95|10-CV=0.58|STD=0.02449|Time spend=17.62984538078308\n",
      "Fitted sphere radius:         95.3 mm\n",
      "Origin head coordinates:      -0.8 15.1 45.3 mm\n",
      "Origin device coordinates:    -0.8 15.1 45.3 mm\n",
      "========= close ========\n",
      "\tAROUSAL-s14|Acc=0.9|10-CV=0.665|STD=0.02291|Time spend=17.907333612442017\n",
      "\tVALENCE-s14|Acc=1.0|10-CV=0.445|STD=0.065|Time spend=18.192856550216675\n",
      "Fitted sphere radius:         95.3 mm\n",
      "Origin head coordinates:      -0.8 15.1 45.3 mm\n",
      "Origin device coordinates:    -0.8 15.1 45.3 mm\n",
      "========= close ========\n",
      "\tAROUSAL-s15|Acc=1.0|10-CV=0.55|STD=0.06325|Time spend=18.33086395263672\n",
      "\tVALENCE-s15|Acc=1.0|10-CV=0.65|STD=0.03873|Time spend=18.526028156280518\n",
      "Fitted sphere radius:         95.3 mm\n",
      "Origin head coordinates:      -0.8 15.1 45.3 mm\n",
      "Origin device coordinates:    -0.8 15.1 45.3 mm\n",
      "========= close ========\n",
      "\tAROUSAL-s16|Acc=1.0|10-CV=0.665|STD=0.10012|Time spend=18.61668348312378\n",
      "\tVALENCE-s16|Acc=0.9875|10-CV=0.635|STD=0.02291|Time spend=18.90057873725891\n",
      "Fitted sphere radius:         95.3 mm\n",
      "Origin head coordinates:      -0.8 15.1 45.3 mm\n",
      "Origin device coordinates:    -0.8 15.1 45.3 mm\n",
      "========= close ========\n",
      "\tAROUSAL-s17|Acc=0.825|10-CV=0.76|STD=0.09434|Time spend=18.34000015258789\n",
      "\tVALENCE-s17|Acc=0.85|10-CV=0.56|STD=0.04899|Time spend=18.66984796524048\n",
      "Fitted sphere radius:         95.3 mm\n",
      "Origin head coordinates:      -0.8 15.1 45.3 mm\n",
      "Origin device coordinates:    -0.8 15.1 45.3 mm\n",
      "========= close ========\n",
      "\tAROUSAL-s18|Acc=1.0|10-CV=0.63|STD=0.02449|Time spend=17.200819492340088\n",
      "\tVALENCE-s18|Acc=0.9875|10-CV=0.6|STD=0.0|Time spend=17.490187644958496\n",
      "Fitted sphere radius:         95.3 mm\n",
      "Origin head coordinates:      -0.8 15.1 45.3 mm\n",
      "Origin device coordinates:    -0.8 15.1 45.3 mm\n",
      "========= close ========\n",
      "\tAROUSAL-s19|Acc=0.675|10-CV=0.665|STD=0.02291|Time spend=18.4915292263031\n",
      "\tVALENCE-s19|Acc=0.6375|10-CV=0.585|STD=0.03202|Time spend=18.810593843460083\n",
      "Fitted sphere radius:         95.3 mm\n",
      "Origin head coordinates:      -0.8 15.1 45.3 mm\n",
      "Origin device coordinates:    -0.8 15.1 45.3 mm\n",
      "========= close ========\n",
      "\tAROUSAL-s20|Acc=0.8875|10-CV=0.77|STD=0.02449|Time spend=18.062854766845703\n",
      "\tVALENCE-s20|Acc=1.0|10-CV=0.6|STD=0.03162|Time spend=18.264917612075806\n",
      "Fitted sphere radius:         95.3 mm\n",
      "Origin head coordinates:      -0.8 15.1 45.3 mm\n",
      "Origin device coordinates:    -0.8 15.1 45.3 mm\n",
      "========= close ========\n",
      "\tAROUSAL-s21|Acc=0.875|10-CV=0.8|STD=0.0|Time spend=17.501370191574097\n",
      "\tVALENCE-s21|Acc=1.0|10-CV=0.505|STD=0.07228|Time spend=17.776201963424683\n",
      "Fitted sphere radius:         95.3 mm\n",
      "Origin head coordinates:      -0.8 15.1 45.3 mm\n",
      "Origin device coordinates:    -0.8 15.1 45.3 mm\n",
      "========= close ========\n",
      "\tAROUSAL-s22|Acc=0.8625|10-CV=0.59|STD=0.05385|Time spend=18.366533994674683\n",
      "\tVALENCE-s22|Acc=0.8875|10-CV=0.585|STD=0.03202|Time spend=18.647692441940308\n",
      "Fitted sphere radius:         95.3 mm\n",
      "Origin head coordinates:      -0.8 15.1 45.3 mm\n",
      "Origin device coordinates:    -0.8 15.1 45.3 mm\n",
      "========= close ========\n",
      "\tAROUSAL-s23|Acc=0.9875|10-CV=0.75|STD=0.0|Time spend=17.61143684387207\n",
      "\tVALENCE-s23|Acc=1.0|10-CV=0.65|STD=0.0|Time spend=17.802557229995728\n",
      "Fitted sphere radius:         95.3 mm\n",
      "Origin head coordinates:      -0.8 15.1 45.3 mm\n",
      "Origin device coordinates:    -0.8 15.1 45.3 mm\n",
      "========= close ========\n",
      "\tAROUSAL-s24|Acc=0.825|10-CV=0.82|STD=0.02449|Time spend=17.86463236808777\n",
      "\tVALENCE-s24|Acc=0.8875|10-CV=0.52|STD=0.05568|Time spend=18.17052721977234\n",
      "Fitted sphere radius:         95.3 mm\n",
      "Origin head coordinates:      -0.8 15.1 45.3 mm\n",
      "Origin device coordinates:    -0.8 15.1 45.3 mm\n",
      "========= close ========\n",
      "\tAROUSAL-s25|Acc=0.9125|10-CV=0.72|STD=0.02449|Time spend=18.5101637840271\n",
      "\tVALENCE-s25|Acc=0.9875|10-CV=0.43|STD=0.06782|Time spend=18.70943331718445\n",
      "Fitted sphere radius:         95.3 mm\n",
      "Origin head coordinates:      -0.8 15.1 45.3 mm\n",
      "Origin device coordinates:    -0.8 15.1 45.3 mm\n",
      "========= close ========\n",
      "\tAROUSAL-s26|Acc=0.9375|10-CV=0.58|STD=0.03317|Time spend=18.12753176689148\n",
      "\tVALENCE-s26|Acc=0.825|10-CV=0.65|STD=0.0|Time spend=18.39326047897339\n",
      "Fitted sphere radius:         95.3 mm\n",
      "Origin head coordinates:      -0.8 15.1 45.3 mm\n",
      "Origin device coordinates:    -0.8 15.1 45.3 mm\n",
      "========= close ========\n",
      "\tAROUSAL-s27|Acc=0.9875|10-CV=0.665|STD=0.02291|Time spend=17.400371551513672\n",
      "\tVALENCE-s27|Acc=0.95|10-CV=0.75|STD=0.0|Time spend=17.647492170333862\n",
      "Fitted sphere radius:         95.3 mm\n",
      "Origin head coordinates:      -0.8 15.1 45.3 mm\n",
      "Origin device coordinates:    -0.8 15.1 45.3 mm\n",
      "========= close ========\n",
      "\tAROUSAL-s28|Acc=0.975|10-CV=0.57|STD=0.03317|Time spend=17.133228063583374\n",
      "\tVALENCE-s28|Acc=0.9625|10-CV=0.63|STD=0.02449|Time spend=17.31193232536316\n",
      "Fitted sphere radius:         95.3 mm\n",
      "Origin head coordinates:      -0.8 15.1 45.3 mm\n",
      "Origin device coordinates:    -0.8 15.1 45.3 mm\n",
      "========= close ========\n",
      "\tAROUSAL-s29|Acc=0.8875|10-CV=0.62|STD=0.03317|Time spend=17.965879201889038\n",
      "\tVALENCE-s29|Acc=0.925|10-CV=0.57|STD=0.04583|Time spend=18.287272930145264\n",
      "Fitted sphere radius:         95.3 mm\n",
      "Origin head coordinates:      -0.8 15.1 45.3 mm\n",
      "Origin device coordinates:    -0.8 15.1 45.3 mm\n",
      "========= close ========\n",
      "\tAROUSAL-s30|Acc=0.95|10-CV=0.545|STD=0.07566|Time spend=17.523319959640503\n",
      "\tVALENCE-s30|Acc=0.75|10-CV=0.665|STD=0.02291|Time spend=17.706329584121704\n",
      "Fitted sphere radius:         95.3 mm\n",
      "Origin head coordinates:      -0.8 15.1 45.3 mm\n",
      "Origin device coordinates:    -0.8 15.1 45.3 mm\n",
      "========= close ========\n",
      "\tAROUSAL-s31|Acc=1.0|10-CV=0.64|STD=0.11136|Time spend=18.316238164901733\n",
      "\tVALENCE-s31|Acc=0.9875|10-CV=0.57|STD=0.0781|Time spend=18.63040328025818\n",
      "Fitted sphere radius:         95.3 mm\n",
      "Origin head coordinates:      -0.8 15.1 45.3 mm\n",
      "Origin device coordinates:    -0.8 15.1 45.3 mm\n",
      "========= close ========\n",
      "\tAROUSAL-s32|Acc=0.95|10-CV=0.665|STD=0.02291|Time spend=16.99657440185547\n",
      "\tVALENCE-s32|Acc=1.0|10-CV=0.565|STD=0.07433|Time spend=17.192243576049805\n",
      "AROUSAL|Acc=0.92421875|10-CV=0.6532812500000001|STD=0.03798937791322437\n",
      "VALENCE|Acc=0.9292968749999999|10-CV=0.59359375|STD=0.0399734015671137\n"
     ]
    }
   ],
   "source": [
    "accs, cv_means, cv_stds = [],[],[]\n",
    "accs_v, cv_means_v, cv_stds_v = [],[],[]\n",
    "reports = []\n",
    "for filename in (pbar := tqdm(dataset.get_file_list())):\n",
    "    start = time.time()\n",
    "    pbar.set_description(filename)\n",
    "    data, labels, groups = dataset.get_data(filename, stimuli=Dataset_subjectDependent.STIMULI_AROUSAL, return_type='mne', sfreq=128)\n",
    "    \n",
    "    data_csd = mne.preprocessing.compute_current_source_density(data)\n",
    "\n",
    "    pli = calculate_pli(data_csd.get_data(), n_jobs=8)\n",
    "\n",
    "    _,acc,cross,train_report = train_model(pli, labels.squeeze(), groups, filename=filename, return_text=True)\n",
    "    report = f\"\\tAROUSAL-{filename}|Acc={round(acc,5)}|10-CV={round(cross.mean(),5)}|STD={round(cross.std(),5)}|Time spend={time.time() - start}\"\n",
    "    print(report)\n",
    "    reports.append(report)\n",
    "    reports.append(train_report)\n",
    "    accs.append(acc)\n",
    "    cv_means.append(cross.mean())\n",
    "    cv_stds.append(cross.std())\n",
    "\n",
    "    _, labels_v, groups_v = dataset.get_data(filename, stimuli=Dataset_subjectDependent.STIMULI_VALENCE, return_type='mne', sfreq=128)\n",
    "    _,acc,cross,train_report = train_model(pli, labels_v.squeeze(), groups_v, filename=filename, return_text=True)\n",
    "    report = f\"\\tVALENCE-{filename}|Acc={round(acc,5)}|10-CV={round(cross.mean(),5)}|STD={round(cross.std(),5)}|Time spend={time.time() - start}\"\n",
    "    print(report)\n",
    "    reports.append(report)\n",
    "    reports.append(train_report)\n",
    "    accs_v.append(acc)\n",
    "    cv_means_v.append(cross.mean())\n",
    "    cv_stds_v.append(cross.std())\n",
    "    # break\n",
    "    # count+=1\n",
    "    # if(count == 5): break\n",
    "report = f\"AROUSAL|Acc={sum(accs)/len(accs)}|10-CV={sum(cv_means)/len(cv_means)}|STD={sum(cv_stds)/len(cv_stds)}\"\n",
    "print(report)\n",
    "reports.append(report)\n",
    "report = f\"VALENCE|Acc={sum(accs_v)/len(accs_v)}|10-CV={sum(cv_means_v)/len(cv_means_v)}|STD={sum(cv_stds_v)/len(cv_stds_v)}\"\n",
    "print(report)\n",
    "reports.append(report)"
   ]
  },
  {
   "cell_type": "code",
   "execution_count": 18,
   "metadata": {},
   "outputs": [
    {
     "name": "stdout",
     "output_type": "stream",
     "text": [
      "\tAROUSAL-s01|Acc=0.975|10-CV=0.595|STD=0.04153|Time spend=18.058106422424316\n",
      "\tVALENCE-s01|Acc=1.0|10-CV=0.51|STD=0.05385|Time spend=18.26532769203186\n",
      "\tAROUSAL-s02|Acc=0.875|10-CV=0.555|STD=0.035|Time spend=18.947001218795776\n",
      "\tVALENCE-s02|Acc=0.85|10-CV=0.61|STD=0.08888|Time spend=19.169092178344727\n",
      "\tAROUSAL-s03|Acc=0.8625|10-CV=0.8|STD=0.0|Time spend=21.996312141418457\n",
      "\tVALENCE-s03|Acc=0.9875|10-CV=0.525|STD=0.0461|Time spend=22.186484336853027\n",
      "\tAROUSAL-s04|Acc=0.8875|10-CV=0.595|STD=0.02693|Time spend=17.781394481658936\n",
      "\tVALENCE-s04|Acc=0.85|10-CV=0.59|STD=0.03|Time spend=18.057205200195312\n",
      "\tAROUSAL-s05|Acc=0.95|10-CV=0.47|STD=0.05568|Time spend=19.606008529663086\n",
      "\tVALENCE-s05|Acc=0.7875|10-CV=0.605|STD=0.04153|Time spend=19.827048540115356\n",
      "\tAROUSAL-s06|Acc=0.975|10-CV=0.58|STD=0.04583|Time spend=17.337834358215332\n",
      "\tVALENCE-s06|Acc=0.925|10-CV=0.75|STD=0.0|Time spend=17.509785652160645\n",
      "\tAROUSAL-s07|Acc=1.0|10-CV=0.63|STD=0.02449|Time spend=19.0875723361969\n",
      "\tVALENCE-s07|Acc=0.975|10-CV=0.7|STD=0.0|Time spend=19.32661199569702\n",
      "\tAROUSAL-s08|Acc=1.0|10-CV=0.585|STD=0.02291|Time spend=17.955023050308228\n",
      "\tVALENCE-s08|Acc=0.9875|10-CV=0.575|STD=0.04031|Time spend=18.148746967315674\n",
      "\tAROUSAL-s09|Acc=0.9375|10-CV=0.58|STD=0.04583|Time spend=17.679331064224243\n",
      "\tVALENCE-s09|Acc=0.9625|10-CV=0.705|STD=0.0789|Time spend=17.975077390670776\n",
      "\tAROUSAL-s10|Acc=1.0|10-CV=0.55|STD=0.05916|Time spend=17.801599740982056\n",
      "\tVALENCE-s10|Acc=1.0|10-CV=0.605|STD=0.0789|Time spend=18.07747769355774\n",
      "\tAROUSAL-s11|Acc=0.8875|10-CV=0.625|STD=0.0461|Time spend=16.54685950279236\n",
      "\tVALENCE-s11|Acc=0.8375|10-CV=0.61|STD=0.02|Time spend=16.780598640441895\n",
      "\tAROUSAL-s12|Acc=0.8875|10-CV=0.82|STD=0.02449|Time spend=17.399723529815674\n",
      "\tVALENCE-s12|Acc=1.0|10-CV=0.465|STD=0.06344|Time spend=17.61986994743347\n",
      "\tAROUSAL-s13|Acc=0.9|10-CV=0.85|STD=0.0|Time spend=17.445867776870728\n",
      "\tVALENCE-s13|Acc=0.95|10-CV=0.58|STD=0.02449|Time spend=17.62984538078308\n",
      "\tAROUSAL-s14|Acc=0.9|10-CV=0.665|STD=0.02291|Time spend=17.907333612442017\n",
      "\tVALENCE-s14|Acc=1.0|10-CV=0.445|STD=0.065|Time spend=18.192856550216675\n",
      "\tAROUSAL-s15|Acc=1.0|10-CV=0.55|STD=0.06325|Time spend=18.33086395263672\n",
      "\tVALENCE-s15|Acc=1.0|10-CV=0.65|STD=0.03873|Time spend=18.526028156280518\n",
      "\tAROUSAL-s16|Acc=1.0|10-CV=0.665|STD=0.10012|Time spend=18.61668348312378\n",
      "\tVALENCE-s16|Acc=0.9875|10-CV=0.635|STD=0.02291|Time spend=18.90057873725891\n",
      "\tAROUSAL-s17|Acc=0.825|10-CV=0.76|STD=0.09434|Time spend=18.34000015258789\n",
      "\tVALENCE-s17|Acc=0.85|10-CV=0.56|STD=0.04899|Time spend=18.66984796524048\n",
      "\tAROUSAL-s18|Acc=1.0|10-CV=0.63|STD=0.02449|Time spend=17.200819492340088\n",
      "\tVALENCE-s18|Acc=0.9875|10-CV=0.6|STD=0.0|Time spend=17.490187644958496\n",
      "\tAROUSAL-s19|Acc=0.675|10-CV=0.665|STD=0.02291|Time spend=18.4915292263031\n",
      "-----WARNING: Model s19 failed to learn: sum(ans)=80.0 sum(y)=54.0 len(y)=80\n",
      "\tVALENCE-s19|Acc=0.6375|10-CV=0.585|STD=0.03202|Time spend=18.810593843460083\n",
      "\tAROUSAL-s20|Acc=0.8875|10-CV=0.77|STD=0.02449|Time spend=18.062854766845703\n",
      "\tVALENCE-s20|Acc=1.0|10-CV=0.6|STD=0.03162|Time spend=18.264917612075806\n",
      "\tAROUSAL-s21|Acc=0.875|10-CV=0.8|STD=0.0|Time spend=17.501370191574097\n",
      "\tVALENCE-s21|Acc=1.0|10-CV=0.505|STD=0.07228|Time spend=17.776201963424683\n",
      "\tAROUSAL-s22|Acc=0.8625|10-CV=0.59|STD=0.05385|Time spend=18.366533994674683\n",
      "\tVALENCE-s22|Acc=0.8875|10-CV=0.585|STD=0.03202|Time spend=18.647692441940308\n",
      "\tAROUSAL-s23|Acc=0.9875|10-CV=0.75|STD=0.0|Time spend=17.61143684387207\n",
      "\tVALENCE-s23|Acc=1.0|10-CV=0.65|STD=0.0|Time spend=17.802557229995728\n",
      "\tAROUSAL-s24|Acc=0.825|10-CV=0.82|STD=0.02449|Time spend=17.86463236808777\n",
      "-----WARNING: Model s24 failed to learn: sum(ans)=80.0 sum(y)=66.0 len(y)=80\n",
      "\tVALENCE-s24|Acc=0.8875|10-CV=0.52|STD=0.05568|Time spend=18.17052721977234\n",
      "\tAROUSAL-s25|Acc=0.9125|10-CV=0.72|STD=0.02449|Time spend=18.5101637840271\n",
      "\tVALENCE-s25|Acc=0.9875|10-CV=0.43|STD=0.06782|Time spend=18.70943331718445\n",
      "\tAROUSAL-s26|Acc=0.9375|10-CV=0.58|STD=0.03317|Time spend=18.12753176689148\n",
      "\tVALENCE-s26|Acc=0.825|10-CV=0.65|STD=0.0|Time spend=18.39326047897339\n",
      "\tAROUSAL-s27|Acc=0.9875|10-CV=0.665|STD=0.02291|Time spend=17.400371551513672\n",
      "\tVALENCE-s27|Acc=0.95|10-CV=0.75|STD=0.0|Time spend=17.647492170333862\n",
      "\tAROUSAL-s28|Acc=0.975|10-CV=0.57|STD=0.03317|Time spend=17.133228063583374\n",
      "\tVALENCE-s28|Acc=0.9625|10-CV=0.63|STD=0.02449|Time spend=17.31193232536316\n",
      "\tAROUSAL-s29|Acc=0.8875|10-CV=0.62|STD=0.03317|Time spend=17.965879201889038\n",
      "\tVALENCE-s29|Acc=0.925|10-CV=0.57|STD=0.04583|Time spend=18.287272930145264\n",
      "\tAROUSAL-s30|Acc=0.95|10-CV=0.545|STD=0.07566|Time spend=17.523319959640503\n",
      "\tVALENCE-s30|Acc=0.75|10-CV=0.665|STD=0.02291|Time spend=17.706329584121704\n",
      "\tAROUSAL-s31|Acc=1.0|10-CV=0.64|STD=0.11136|Time spend=18.316238164901733\n",
      "\tVALENCE-s31|Acc=0.9875|10-CV=0.57|STD=0.0781|Time spend=18.63040328025818\n",
      "\tAROUSAL-s32|Acc=0.95|10-CV=0.665|STD=0.02291|Time spend=16.99657440185547\n",
      "\tVALENCE-s32|Acc=1.0|10-CV=0.565|STD=0.07433|Time spend=17.192243576049805\n",
      "AROUSAL|Acc=0.92421875|10-CV=0.6532812500000001|STD=0.03798937791322437\n",
      "VALENCE|Acc=0.9292968749999999|10-CV=0.59359375|STD=0.0399734015671137\n",
      "TOTAL|Acc=0.9267578125|10-CV=0.6234375000000001|STD=0.038981389740169035\n"
     ]
    }
   ],
   "source": [
    "for text in reports:\n",
    "    if(text == None): continue\n",
    "    print(text)\n",
    "\n",
    "accs.extend(accs_v)\n",
    "cv_means.extend(cv_means_v)\n",
    "cv_stds.extend(cv_stds_v)\n",
    "print(f\"TOTAL|Acc={sum(accs)/len(accs)}|10-CV={sum(cv_means)/len(cv_means)}|STD={sum(cv_stds)/len(cv_stds)}\")"
   ]
  },
  {
   "cell_type": "markdown",
   "metadata": {},
   "source": [
    "## 5. CSP"
   ]
  },
  {
   "cell_type": "code",
   "execution_count": 19,
   "metadata": {},
   "outputs": [],
   "source": [
    "from components.CSP import CSP\n",
    "from mne_features.feature_extraction import FeatureExtractor\n",
    "\n",
    "bands = [(0,4), (4,8), (8,12), (12,30), (30,64)]\n",
    "# [alias_feature_function]__[optional_param]\n",
    "params = dict({\n",
    "    'pow_freq_bands__log':True,\n",
    "    'pow_freq_bands__normalize':False,\n",
    "    'pow_freq_bands__freq_bands':bands\n",
    "})"
   ]
  },
  {
   "cell_type": "code",
   "execution_count": 20,
   "metadata": {},
   "outputs": [
    {
     "data": {
      "application/vnd.jupyter.widget-view+json": {
       "model_id": "a362959cbac44ad1bcd27b85d2864af4",
       "version_major": 2,
       "version_minor": 0
      },
      "text/plain": [
       "  0%|          | 0/32 [00:00<?, ?it/s]"
      ]
     },
     "metadata": {},
     "output_type": "display_data"
    },
    {
     "name": "stderr",
     "output_type": "stream",
     "text": [
      "/root/projects/components/CSP.py:78: ComplexWarning: Casting complex values to real discards the imaginary part\n",
      "  return SFa.astype(np.float32)\n"
     ]
    },
    {
     "name": "stdout",
     "output_type": "stream",
     "text": [
      "\tAROUSAL-s01|Acc=0.9125|10-CV=0.865|STD=0.1163|Time spend=0.806694746017456\n"
     ]
    },
    {
     "name": "stderr",
     "output_type": "stream",
     "text": [
      "/root/projects/components/CSP.py:78: ComplexWarning: Casting complex values to real discards the imaginary part\n",
      "  return SFa.astype(np.float32)\n"
     ]
    },
    {
     "name": "stdout",
     "output_type": "stream",
     "text": [
      "\tAROUSAL-s02|Acc=1.0|10-CV=1.0|STD=0.0|Time spend=0.8266067504882812\n"
     ]
    },
    {
     "name": "stderr",
     "output_type": "stream",
     "text": [
      "/root/projects/components/CSP.py:78: ComplexWarning: Casting complex values to real discards the imaginary part\n",
      "  return SFa.astype(np.float32)\n"
     ]
    },
    {
     "name": "stdout",
     "output_type": "stream",
     "text": [
      "-----WARNING: Model s03 failed to learn: sum(ans)=0.0 sum(y)=16.0 len(y)=80\n",
      "\tAROUSAL-s03|Acc=0.8|10-CV=0.8|STD=0.0|Time spend=0.815563440322876\n"
     ]
    },
    {
     "name": "stderr",
     "output_type": "stream",
     "text": [
      "/root/projects/components/CSP.py:78: ComplexWarning: Casting complex values to real discards the imaginary part\n",
      "  return SFa.astype(np.float32)\n"
     ]
    },
    {
     "name": "stdout",
     "output_type": "stream",
     "text": [
      "\tAROUSAL-s04|Acc=0.925|10-CV=0.9|STD=0.07071|Time spend=1.02178955078125\n"
     ]
    },
    {
     "name": "stderr",
     "output_type": "stream",
     "text": [
      "/root/projects/components/CSP.py:78: ComplexWarning: Casting complex values to real discards the imaginary part\n",
      "  return SFa.astype(np.float32)\n"
     ]
    },
    {
     "name": "stdout",
     "output_type": "stream",
     "text": [
      "\tAROUSAL-s05|Acc=0.9125|10-CV=0.915|STD=0.045|Time spend=0.72251296043396\n"
     ]
    },
    {
     "name": "stderr",
     "output_type": "stream",
     "text": [
      "/root/projects/components/CSP.py:78: ComplexWarning: Casting complex values to real discards the imaginary part\n",
      "  return SFa.astype(np.float32)\n"
     ]
    },
    {
     "name": "stdout",
     "output_type": "stream",
     "text": [
      "\tAROUSAL-s06|Acc=0.625|10-CV=0.53|STD=0.09539|Time spend=1.2387185096740723\n"
     ]
    },
    {
     "name": "stderr",
     "output_type": "stream",
     "text": [
      "/root/projects/components/CSP.py:78: ComplexWarning: Casting complex values to real discards the imaginary part\n",
      "  return SFa.astype(np.float32)\n"
     ]
    },
    {
     "name": "stdout",
     "output_type": "stream",
     "text": [
      "\tAROUSAL-s07|Acc=0.9875|10-CV=0.98|STD=0.03317|Time spend=0.799163818359375\n"
     ]
    },
    {
     "name": "stderr",
     "output_type": "stream",
     "text": [
      "/root/projects/components/CSP.py:78: ComplexWarning: Casting complex values to real discards the imaginary part\n",
      "  return SFa.astype(np.float32)\n"
     ]
    },
    {
     "name": "stdout",
     "output_type": "stream",
     "text": [
      "-----WARNING: Model s08 failed to learn: sum(ans)=80.0 sum(y)=46.0 len(y)=80\n",
      "\tAROUSAL-s08|Acc=0.575|10-CV=0.585|STD=0.02291|Time spend=0.9162795543670654\n"
     ]
    },
    {
     "name": "stderr",
     "output_type": "stream",
     "text": [
      "/root/projects/components/CSP.py:78: ComplexWarning: Casting complex values to real discards the imaginary part\n",
      "  return SFa.astype(np.float32)\n"
     ]
    },
    {
     "name": "stdout",
     "output_type": "stream",
     "text": [
      "\tAROUSAL-s09|Acc=0.9125|10-CV=0.885|STD=0.045|Time spend=0.8140873908996582\n"
     ]
    },
    {
     "name": "stderr",
     "output_type": "stream",
     "text": [
      "/root/projects/components/CSP.py:78: ComplexWarning: Casting complex values to real discards the imaginary part\n",
      "  return SFa.astype(np.float32)\n"
     ]
    },
    {
     "name": "stdout",
     "output_type": "stream",
     "text": [
      "\tAROUSAL-s10|Acc=0.5875|10-CV=0.515|STD=0.05025|Time spend=0.7321715354919434\n"
     ]
    },
    {
     "name": "stderr",
     "output_type": "stream",
     "text": [
      "/root/projects/components/CSP.py:78: ComplexWarning: Casting complex values to real discards the imaginary part\n",
      "  return SFa.astype(np.float32)\n"
     ]
    },
    {
     "name": "stdout",
     "output_type": "stream",
     "text": [
      "\tAROUSAL-s11|Acc=1.0|10-CV=0.99|STD=0.02|Time spend=0.7634646892547607\n"
     ]
    },
    {
     "name": "stderr",
     "output_type": "stream",
     "text": [
      "/root/projects/components/CSP.py:78: ComplexWarning: Casting complex values to real discards the imaginary part\n",
      "  return SFa.astype(np.float32)\n"
     ]
    },
    {
     "name": "stdout",
     "output_type": "stream",
     "text": [
      "-----WARNING: Model s12 failed to learn: sum(ans)=80.0 sum(y)=66.0 len(y)=80\n",
      "\tAROUSAL-s12|Acc=0.825|10-CV=0.82|STD=0.02449|Time spend=0.9894015789031982\n"
     ]
    },
    {
     "name": "stderr",
     "output_type": "stream",
     "text": [
      "/root/projects/components/CSP.py:78: ComplexWarning: Casting complex values to real discards the imaginary part\n",
      "  return SFa.astype(np.float32)\n"
     ]
    },
    {
     "name": "stdout",
     "output_type": "stream",
     "text": [
      "-----WARNING: Model s13 failed to learn: sum(ans)=80.0 sum(y)=68.0 len(y)=80\n",
      "\tAROUSAL-s13|Acc=0.85|10-CV=0.85|STD=0.0|Time spend=1.0979089736938477\n"
     ]
    },
    {
     "name": "stderr",
     "output_type": "stream",
     "text": [
      "/root/projects/components/CSP.py:78: ComplexWarning: Casting complex values to real discards the imaginary part\n",
      "  return SFa.astype(np.float32)\n"
     ]
    },
    {
     "name": "stdout",
     "output_type": "stream",
     "text": [
      "\tAROUSAL-s14|Acc=0.75|10-CV=0.66|STD=0.04899|Time spend=0.7053253650665283\n"
     ]
    },
    {
     "name": "stderr",
     "output_type": "stream",
     "text": [
      "/root/projects/components/CSP.py:78: ComplexWarning: Casting complex values to real discards the imaginary part\n",
      "  return SFa.astype(np.float32)\n"
     ]
    },
    {
     "name": "stdout",
     "output_type": "stream",
     "text": [
      "\tAROUSAL-s15|Acc=0.6125|10-CV=0.58|STD=0.04|Time spend=0.46330928802490234\n"
     ]
    },
    {
     "name": "stderr",
     "output_type": "stream",
     "text": [
      "/root/projects/components/CSP.py:78: ComplexWarning: Casting complex values to real discards the imaginary part\n",
      "  return SFa.astype(np.float32)\n"
     ]
    },
    {
     "name": "stdout",
     "output_type": "stream",
     "text": [
      "\tAROUSAL-s16|Acc=0.9875|10-CV=0.99|STD=0.02|Time spend=0.46861958503723145\n"
     ]
    },
    {
     "name": "stderr",
     "output_type": "stream",
     "text": [
      "/root/projects/components/CSP.py:78: ComplexWarning: Casting complex values to real discards the imaginary part\n",
      "  return SFa.astype(np.float32)\n"
     ]
    },
    {
     "name": "stdout",
     "output_type": "stream",
     "text": [
      "\tAROUSAL-s17|Acc=0.9|10-CV=0.89|STD=0.06245|Time spend=0.7130532264709473\n"
     ]
    },
    {
     "name": "stderr",
     "output_type": "stream",
     "text": [
      "/root/projects/components/CSP.py:78: ComplexWarning: Casting complex values to real discards the imaginary part\n",
      "  return SFa.astype(np.float32)\n"
     ]
    },
    {
     "name": "stdout",
     "output_type": "stream",
     "text": [
      "\tAROUSAL-s18|Acc=0.925|10-CV=0.9|STD=0.04472|Time spend=0.47049760818481445\n"
     ]
    },
    {
     "name": "stderr",
     "output_type": "stream",
     "text": [
      "/root/projects/components/CSP.py:78: ComplexWarning: Casting complex values to real discards the imaginary part\n",
      "  return SFa.astype(np.float32)\n"
     ]
    },
    {
     "name": "stdout",
     "output_type": "stream",
     "text": [
      "\tAROUSAL-s19|Acc=1.0|10-CV=1.0|STD=0.0|Time spend=0.48967504501342773\n"
     ]
    },
    {
     "name": "stderr",
     "output_type": "stream",
     "text": [
      "/root/projects/components/CSP.py:78: ComplexWarning: Casting complex values to real discards the imaginary part\n",
      "  return SFa.astype(np.float32)\n"
     ]
    },
    {
     "name": "stdout",
     "output_type": "stream",
     "text": [
      "\tAROUSAL-s20|Acc=0.975|10-CV=0.975|STD=0.03354|Time spend=0.4301450252532959\n"
     ]
    },
    {
     "name": "stderr",
     "output_type": "stream",
     "text": [
      "/root/projects/components/CSP.py:78: ComplexWarning: Casting complex values to real discards the imaginary part\n",
      "  return SFa.astype(np.float32)\n"
     ]
    },
    {
     "name": "stdout",
     "output_type": "stream",
     "text": [
      "-----WARNING: Model s21 failed to learn: sum(ans)=80.0 sum(y)=64.0 len(y)=80\n",
      "\tAROUSAL-s21|Acc=0.8|10-CV=0.79|STD=0.03|Time spend=0.5079958438873291\n"
     ]
    },
    {
     "name": "stderr",
     "output_type": "stream",
     "text": [
      "/root/projects/components/CSP.py:78: ComplexWarning: Casting complex values to real discards the imaginary part\n",
      "  return SFa.astype(np.float32)\n"
     ]
    },
    {
     "name": "stdout",
     "output_type": "stream",
     "text": [
      "\tAROUSAL-s22|Acc=0.7|10-CV=0.65|STD=0.06325|Time spend=1.0268609523773193\n"
     ]
    },
    {
     "name": "stderr",
     "output_type": "stream",
     "text": [
      "/root/projects/components/CSP.py:78: ComplexWarning: Casting complex values to real discards the imaginary part\n",
      "  return SFa.astype(np.float32)\n"
     ]
    },
    {
     "name": "stdout",
     "output_type": "stream",
     "text": [
      "-----WARNING: Model s23 failed to learn: sum(ans)=0.0 sum(y)=20.0 len(y)=80\n",
      "\tAROUSAL-s23|Acc=0.75|10-CV=0.75|STD=0.0|Time spend=0.6817295551300049\n"
     ]
    },
    {
     "name": "stderr",
     "output_type": "stream",
     "text": [
      "/root/projects/components/CSP.py:78: ComplexWarning: Casting complex values to real discards the imaginary part\n",
      "  return SFa.astype(np.float32)\n"
     ]
    },
    {
     "name": "stdout",
     "output_type": "stream",
     "text": [
      "-----WARNING: Model s24 failed to learn: sum(ans)=80.0 sum(y)=66.0 len(y)=80\n",
      "\tAROUSAL-s24|Acc=0.825|10-CV=0.82|STD=0.02449|Time spend=0.5932908058166504\n"
     ]
    },
    {
     "name": "stderr",
     "output_type": "stream",
     "text": [
      "/root/projects/components/CSP.py:78: ComplexWarning: Casting complex values to real discards the imaginary part\n",
      "  return SFa.astype(np.float32)\n"
     ]
    },
    {
     "name": "stdout",
     "output_type": "stream",
     "text": [
      "-----WARNING: Model s25 failed to learn: sum(ans)=80.0 sum(y)=58.0 len(y)=80\n",
      "\tAROUSAL-s25|Acc=0.725|10-CV=0.72|STD=0.02449|Time spend=0.5661411285400391\n"
     ]
    },
    {
     "name": "stderr",
     "output_type": "stream",
     "text": [
      "/root/projects/components/CSP.py:78: ComplexWarning: Casting complex values to real discards the imaginary part\n",
      "  return SFa.astype(np.float32)\n"
     ]
    },
    {
     "name": "stdout",
     "output_type": "stream",
     "text": [
      "-----WARNING: Model s26 failed to learn: sum(ans)=0.0 sum(y)=34.0 len(y)=80\n",
      "\tAROUSAL-s26|Acc=0.575|10-CV=0.57|STD=0.03317|Time spend=0.5228564739227295\n"
     ]
    },
    {
     "name": "stderr",
     "output_type": "stream",
     "text": [
      "/root/projects/components/CSP.py:78: ComplexWarning: Casting complex values to real discards the imaginary part\n",
      "  return SFa.astype(np.float32)\n"
     ]
    },
    {
     "name": "stdout",
     "output_type": "stream",
     "text": [
      "\tAROUSAL-s27|Acc=0.95|10-CV=0.94|STD=0.05831|Time spend=0.5205671787261963\n"
     ]
    },
    {
     "name": "stderr",
     "output_type": "stream",
     "text": [
      "/root/projects/components/CSP.py:78: ComplexWarning: Casting complex values to real discards the imaginary part\n",
      "  return SFa.astype(np.float32)\n"
     ]
    },
    {
     "name": "stdout",
     "output_type": "stream",
     "text": [
      "\tAROUSAL-s28|Acc=0.625|10-CV=0.575|STD=0.06423|Time spend=0.45439767837524414\n"
     ]
    },
    {
     "name": "stderr",
     "output_type": "stream",
     "text": [
      "/root/projects/components/CSP.py:78: ComplexWarning: Casting complex values to real discards the imaginary part\n",
      "  return SFa.astype(np.float32)\n"
     ]
    },
    {
     "name": "stdout",
     "output_type": "stream",
     "text": [
      "\tAROUSAL-s29|Acc=1.0|10-CV=1.0|STD=0.0|Time spend=0.5364575386047363\n"
     ]
    },
    {
     "name": "stderr",
     "output_type": "stream",
     "text": [
      "/root/projects/components/CSP.py:78: ComplexWarning: Casting complex values to real discards the imaginary part\n",
      "  return SFa.astype(np.float32)\n"
     ]
    },
    {
     "name": "stdout",
     "output_type": "stream",
     "text": [
      "\tAROUSAL-s30|Acc=0.9|10-CV=0.9|STD=0.06325|Time spend=0.45896458625793457\n"
     ]
    },
    {
     "name": "stderr",
     "output_type": "stream",
     "text": [
      "/root/projects/components/CSP.py:78: ComplexWarning: Casting complex values to real discards the imaginary part\n",
      "  return SFa.astype(np.float32)\n"
     ]
    },
    {
     "name": "stdout",
     "output_type": "stream",
     "text": [
      "\tAROUSAL-s31|Acc=0.675|10-CV=0.625|STD=0.07826|Time spend=0.48593831062316895\n"
     ]
    },
    {
     "name": "stderr",
     "output_type": "stream",
     "text": [
      "/root/projects/components/CSP.py:78: ComplexWarning: Casting complex values to real discards the imaginary part\n",
      "  return SFa.astype(np.float32)\n"
     ]
    },
    {
     "name": "stdout",
     "output_type": "stream",
     "text": [
      "-----WARNING: Model s32 failed to learn: sum(ans)=80.0 sum(y)=54.0 len(y)=80\n",
      "\tAROUSAL-s32|Acc=0.675|10-CV=0.665|STD=0.02291|Time spend=0.46678996086120605\n",
      "AROUSAL|Acc=0.820703125|10-CV=0.8010937499999999|STD=0.038602664887981\n"
     ]
    }
   ],
   "source": [
    "accs, cv_means, cv_stds = [],[],[]\n",
    "for filename in tqdm(dataset.get_file_list()):\n",
    "\n",
    "    data, labels, groups = dataset.get_data(filename, stimuli=Dataset_subjectDependent.STIMULI_AROUSAL, return_type='numpy')\n",
    "    labels = labels.squeeze()\n",
    "    start = time.time()\n",
    "    filters = CSP(data[labels==0], data[labels==1])\n",
    "    \n",
    "    csp_data = []\n",
    "    for index in range(len(data)):\n",
    "        \n",
    "        # (672, 32) @ (32, 32) = (672, 32)\n",
    "        csp = data[index].T @ filters[labels[index].astype(int)]\n",
    "        # (1, 32, 672)\n",
    "        csp = np.expand_dims(csp.T, axis=0)\n",
    "        csp_data.append(csp)\n",
    "\n",
    "    csp_data = np.vstack(csp_data)\n",
    "    # print(csp_data.shape) => (2400, 32, 128)\n",
    "    fe = FeatureExtractor(sfreq=128, selected_funcs=['pow_freq_bands'],params=params,n_jobs=8)\n",
    "    X = fe.fit_transform(X=csp_data)\n",
    "    # print(X.shape, time.time() - start) => (2400, 160) 1.2374355792999268\n",
    "    # print(X.shape)\n",
    "    assert X.shape[1] == 160\n",
    "    _, acc, cross = train_model(X, labels.reshape(-1), groups, filename=filename)\n",
    "    print(f\"\\tAROUSAL-{filename}|Acc={round(acc,5)}|10-CV={round(cross.mean(),5)}|STD={round(cross.std(),5)}|Time spend={time.time() - start}\")\n",
    "    accs.append(acc)\n",
    "    cv_means.append(cross.mean())\n",
    "    cv_stds.append(cross.std())\n",
    "print(f\"AROUSAL|Acc={sum(accs)/len(accs)}|10-CV={sum(cv_means)/len(cv_means)}|STD={sum(cv_stds)/len(cv_stds)}\")"
   ]
  },
  {
   "cell_type": "code",
   "execution_count": 21,
   "metadata": {},
   "outputs": [
    {
     "data": {
      "application/vnd.jupyter.widget-view+json": {
       "model_id": "fe95005799ce41b398cfbe068e38ce62",
       "version_major": 2,
       "version_minor": 0
      },
      "text/plain": [
       "  0%|          | 0/32 [00:00<?, ?it/s]"
      ]
     },
     "metadata": {},
     "output_type": "display_data"
    },
    {
     "name": "stderr",
     "output_type": "stream",
     "text": [
      "/root/projects/components/CSP.py:78: ComplexWarning: Casting complex values to real discards the imaginary part\n",
      "  return SFa.astype(np.float32)\n"
     ]
    },
    {
     "name": "stdout",
     "output_type": "stream",
     "text": [
      "\tVALENCE-s01|Acc=0.8625|10-CV=0.875|STD=0.0461|Time spend=0.4709789752960205\n"
     ]
    },
    {
     "name": "stderr",
     "output_type": "stream",
     "text": [
      "/root/projects/components/CSP.py:78: ComplexWarning: Casting complex values to real discards the imaginary part\n",
      "  return SFa.astype(np.float32)\n"
     ]
    },
    {
     "name": "stdout",
     "output_type": "stream",
     "text": [
      "\tVALENCE-s02|Acc=1.0|10-CV=1.0|STD=0.0|Time spend=0.4615457057952881\n"
     ]
    },
    {
     "name": "stderr",
     "output_type": "stream",
     "text": [
      "/root/projects/components/CSP.py:78: ComplexWarning: Casting complex values to real discards the imaginary part\n",
      "  return SFa.astype(np.float32)\n"
     ]
    },
    {
     "name": "stdout",
     "output_type": "stream",
     "text": [
      "\tVALENCE-s03|Acc=0.7|10-CV=0.62|STD=0.05568|Time spend=0.4972383975982666\n"
     ]
    },
    {
     "name": "stderr",
     "output_type": "stream",
     "text": [
      "/root/projects/components/CSP.py:78: ComplexWarning: Casting complex values to real discards the imaginary part\n",
      "  return SFa.astype(np.float32)\n"
     ]
    },
    {
     "name": "stdout",
     "output_type": "stream",
     "text": [
      "\tVALENCE-s04|Acc=0.6875|10-CV=0.585|STD=0.10259|Time spend=0.46779322624206543\n"
     ]
    },
    {
     "name": "stderr",
     "output_type": "stream",
     "text": [
      "/root/projects/components/CSP.py:78: ComplexWarning: Casting complex values to real discards the imaginary part\n",
      "  return SFa.astype(np.float32)\n"
     ]
    },
    {
     "name": "stdout",
     "output_type": "stream",
     "text": [
      "-----WARNING: Model s05 failed to learn: sum(ans)=80.0 sum(y)=48.0 len(y)=80\n",
      "\tVALENCE-s05|Acc=0.6|10-CV=0.59|STD=0.02|Time spend=0.5421814918518066\n"
     ]
    },
    {
     "name": "stderr",
     "output_type": "stream",
     "text": [
      "/root/projects/components/CSP.py:78: ComplexWarning: Casting complex values to real discards the imaginary part\n",
      "  return SFa.astype(np.float32)\n"
     ]
    },
    {
     "name": "stdout",
     "output_type": "stream",
     "text": [
      "\tVALENCE-s06|Acc=1.0|10-CV=1.0|STD=0.0|Time spend=0.46492457389831543\n"
     ]
    },
    {
     "name": "stderr",
     "output_type": "stream",
     "text": [
      "/root/projects/components/CSP.py:78: ComplexWarning: Casting complex values to real discards the imaginary part\n",
      "  return SFa.astype(np.float32)\n"
     ]
    },
    {
     "name": "stdout",
     "output_type": "stream",
     "text": [
      "-----WARNING: Model s07 failed to learn: sum(ans)=80.0 sum(y)=56.0 len(y)=80\n",
      "\tVALENCE-s07|Acc=0.7|10-CV=0.7|STD=0.0|Time spend=0.4886744022369385\n"
     ]
    },
    {
     "name": "stderr",
     "output_type": "stream",
     "text": [
      "/root/projects/components/CSP.py:78: ComplexWarning: Casting complex values to real discards the imaginary part\n",
      "  return SFa.astype(np.float32)\n"
     ]
    },
    {
     "name": "stdout",
     "output_type": "stream",
     "text": [
      "\tVALENCE-s08|Acc=0.65|10-CV=0.575|STD=0.05123|Time spend=0.46992993354797363\n"
     ]
    },
    {
     "name": "stderr",
     "output_type": "stream",
     "text": [
      "/root/projects/components/CSP.py:78: ComplexWarning: Casting complex values to real discards the imaginary part\n",
      "  return SFa.astype(np.float32)\n"
     ]
    },
    {
     "name": "stdout",
     "output_type": "stream",
     "text": [
      "\tVALENCE-s09|Acc=0.9625|10-CV=0.965|STD=0.03202|Time spend=0.4665558338165283\n"
     ]
    },
    {
     "name": "stderr",
     "output_type": "stream",
     "text": [
      "/root/projects/components/CSP.py:78: ComplexWarning: Casting complex values to real discards the imaginary part\n",
      "  return SFa.astype(np.float32)\n"
     ]
    },
    {
     "name": "stdout",
     "output_type": "stream",
     "text": [
      "\tVALENCE-s10|Acc=0.9875|10-CV=0.98|STD=0.03317|Time spend=0.5135741233825684\n"
     ]
    },
    {
     "name": "stderr",
     "output_type": "stream",
     "text": [
      "/root/projects/components/CSP.py:78: ComplexWarning: Casting complex values to real discards the imaginary part\n",
      "  return SFa.astype(np.float32)\n"
     ]
    },
    {
     "name": "stdout",
     "output_type": "stream",
     "text": [
      "\tVALENCE-s11|Acc=0.725|10-CV=0.615|STD=0.07762|Time spend=0.4780406951904297\n"
     ]
    },
    {
     "name": "stderr",
     "output_type": "stream",
     "text": [
      "/root/projects/components/CSP.py:78: ComplexWarning: Casting complex values to real discards the imaginary part\n",
      "  return SFa.astype(np.float32)\n"
     ]
    },
    {
     "name": "stdout",
     "output_type": "stream",
     "text": [
      "\tVALENCE-s12|Acc=0.925|10-CV=0.9|STD=0.05|Time spend=0.45626354217529297\n"
     ]
    },
    {
     "name": "stderr",
     "output_type": "stream",
     "text": [
      "/root/projects/components/CSP.py:78: ComplexWarning: Casting complex values to real discards the imaginary part\n",
      "  return SFa.astype(np.float32)\n"
     ]
    },
    {
     "name": "stdout",
     "output_type": "stream",
     "text": [
      "\tVALENCE-s13|Acc=1.0|10-CV=0.995|STD=0.015|Time spend=0.48023366928100586\n"
     ]
    },
    {
     "name": "stderr",
     "output_type": "stream",
     "text": [
      "/root/projects/components/CSP.py:78: ComplexWarning: Casting complex values to real discards the imaginary part\n",
      "  return SFa.astype(np.float32)\n"
     ]
    },
    {
     "name": "stdout",
     "output_type": "stream",
     "text": [
      "\tVALENCE-s14|Acc=0.625|10-CV=0.55|STD=0.08944|Time spend=0.49930858612060547\n"
     ]
    },
    {
     "name": "stderr",
     "output_type": "stream",
     "text": [
      "/root/projects/components/CSP.py:78: ComplexWarning: Casting complex values to real discards the imaginary part\n",
      "  return SFa.astype(np.float32)\n"
     ]
    },
    {
     "name": "stdout",
     "output_type": "stream",
     "text": [
      "\tVALENCE-s15|Acc=0.8375|10-CV=0.805|STD=0.07566|Time spend=0.5918083190917969\n"
     ]
    },
    {
     "name": "stderr",
     "output_type": "stream",
     "text": [
      "/root/projects/components/CSP.py:78: ComplexWarning: Casting complex values to real discards the imaginary part\n",
      "  return SFa.astype(np.float32)\n"
     ]
    },
    {
     "name": "stdout",
     "output_type": "stream",
     "text": [
      "\tVALENCE-s16|Acc=0.9875|10-CV=0.97|STD=0.03317|Time spend=0.4860258102416992\n"
     ]
    },
    {
     "name": "stderr",
     "output_type": "stream",
     "text": [
      "/root/projects/components/CSP.py:78: ComplexWarning: Casting complex values to real discards the imaginary part\n",
      "  return SFa.astype(np.float32)\n"
     ]
    },
    {
     "name": "stdout",
     "output_type": "stream",
     "text": [
      "\tVALENCE-s17|Acc=0.6625|10-CV=0.64|STD=0.07348|Time spend=0.4077136516571045\n"
     ]
    },
    {
     "name": "stderr",
     "output_type": "stream",
     "text": [
      "/root/projects/components/CSP.py:78: ComplexWarning: Casting complex values to real discards the imaginary part\n",
      "  return SFa.astype(np.float32)\n"
     ]
    },
    {
     "name": "stdout",
     "output_type": "stream",
     "text": [
      "\tVALENCE-s18|Acc=0.7|10-CV=0.635|STD=0.06727|Time spend=0.4597928524017334\n"
     ]
    },
    {
     "name": "stderr",
     "output_type": "stream",
     "text": [
      "/root/projects/components/CSP.py:78: ComplexWarning: Casting complex values to real discards the imaginary part\n",
      "  return SFa.astype(np.float32)\n"
     ]
    },
    {
     "name": "stdout",
     "output_type": "stream",
     "text": [
      "\tVALENCE-s19|Acc=1.0|10-CV=1.0|STD=0.0|Time spend=0.4521830081939697\n"
     ]
    },
    {
     "name": "stderr",
     "output_type": "stream",
     "text": [
      "/root/projects/components/CSP.py:78: ComplexWarning: Casting complex values to real discards the imaginary part\n",
      "  return SFa.astype(np.float32)\n"
     ]
    },
    {
     "name": "stdout",
     "output_type": "stream",
     "text": [
      "\tVALENCE-s20|Acc=0.725|10-CV=0.675|STD=0.06801|Time spend=0.5081641674041748\n"
     ]
    },
    {
     "name": "stderr",
     "output_type": "stream",
     "text": [
      "/root/projects/components/CSP.py:78: ComplexWarning: Casting complex values to real discards the imaginary part\n",
      "  return SFa.astype(np.float32)\n"
     ]
    },
    {
     "name": "stdout",
     "output_type": "stream",
     "text": [
      "\tVALENCE-s21|Acc=0.6625|10-CV=0.59|STD=0.06245|Time spend=0.4600234031677246\n"
     ]
    },
    {
     "name": "stderr",
     "output_type": "stream",
     "text": [
      "/root/projects/components/CSP.py:78: ComplexWarning: Casting complex values to real discards the imaginary part\n",
      "  return SFa.astype(np.float32)\n"
     ]
    },
    {
     "name": "stdout",
     "output_type": "stream",
     "text": [
      "\tVALENCE-s22|Acc=0.725|10-CV=0.655|STD=0.05679|Time spend=0.5195705890655518\n"
     ]
    },
    {
     "name": "stderr",
     "output_type": "stream",
     "text": [
      "/root/projects/components/CSP.py:78: ComplexWarning: Casting complex values to real discards the imaginary part\n",
      "  return SFa.astype(np.float32)\n"
     ]
    },
    {
     "name": "stdout",
     "output_type": "stream",
     "text": [
      "-----WARNING: Model s23 failed to learn: sum(ans)=80.0 sum(y)=52.0 len(y)=80\n",
      "\tVALENCE-s23|Acc=0.65|10-CV=0.65|STD=0.0|Time spend=0.5144591331481934\n"
     ]
    },
    {
     "name": "stderr",
     "output_type": "stream",
     "text": [
      "/root/projects/components/CSP.py:78: ComplexWarning: Casting complex values to real discards the imaginary part\n",
      "  return SFa.astype(np.float32)\n"
     ]
    },
    {
     "name": "stdout",
     "output_type": "stream",
     "text": [
      "\tVALENCE-s24|Acc=1.0|10-CV=1.0|STD=0.0|Time spend=0.43855929374694824\n"
     ]
    },
    {
     "name": "stderr",
     "output_type": "stream",
     "text": [
      "/root/projects/components/CSP.py:78: ComplexWarning: Casting complex values to real discards the imaginary part\n",
      "  return SFa.astype(np.float32)\n"
     ]
    },
    {
     "name": "stdout",
     "output_type": "stream",
     "text": [
      "\tVALENCE-s25|Acc=0.65|10-CV=0.56|STD=0.07|Time spend=0.6121184825897217\n"
     ]
    },
    {
     "name": "stderr",
     "output_type": "stream",
     "text": [
      "/root/projects/components/CSP.py:78: ComplexWarning: Casting complex values to real discards the imaginary part\n",
      "  return SFa.astype(np.float32)\n"
     ]
    },
    {
     "name": "stdout",
     "output_type": "stream",
     "text": [
      "\tVALENCE-s26|Acc=0.7|10-CV=0.655|STD=0.0522|Time spend=0.4868342876434326\n"
     ]
    },
    {
     "name": "stderr",
     "output_type": "stream",
     "text": [
      "/root/projects/components/CSP.py:78: ComplexWarning: Casting complex values to real discards the imaginary part\n",
      "  return SFa.astype(np.float32)\n"
     ]
    },
    {
     "name": "stdout",
     "output_type": "stream",
     "text": [
      "\tVALENCE-s27|Acc=0.7625|10-CV=0.75|STD=0.0|Time spend=0.46503114700317383\n"
     ]
    },
    {
     "name": "stderr",
     "output_type": "stream",
     "text": [
      "/root/projects/components/CSP.py:78: ComplexWarning: Casting complex values to real discards the imaginary part\n",
      "  return SFa.astype(np.float32)\n"
     ]
    },
    {
     "name": "stdout",
     "output_type": "stream",
     "text": [
      "\tVALENCE-s28|Acc=0.9625|10-CV=0.975|STD=0.025|Time spend=0.4734807014465332\n"
     ]
    },
    {
     "name": "stderr",
     "output_type": "stream",
     "text": [
      "/root/projects/components/CSP.py:78: ComplexWarning: Casting complex values to real discards the imaginary part\n",
      "  return SFa.astype(np.float32)\n"
     ]
    },
    {
     "name": "stdout",
     "output_type": "stream",
     "text": [
      "\tVALENCE-s29|Acc=1.0|10-CV=1.0|STD=0.0|Time spend=0.5196347236633301\n"
     ]
    },
    {
     "name": "stderr",
     "output_type": "stream",
     "text": [
      "/root/projects/components/CSP.py:78: ComplexWarning: Casting complex values to real discards the imaginary part\n",
      "  return SFa.astype(np.float32)\n"
     ]
    },
    {
     "name": "stdout",
     "output_type": "stream",
     "text": [
      "\tVALENCE-s30|Acc=0.85|10-CV=0.825|STD=0.06423|Time spend=0.450211763381958\n"
     ]
    },
    {
     "name": "stderr",
     "output_type": "stream",
     "text": [
      "/root/projects/components/CSP.py:78: ComplexWarning: Casting complex values to real discards the imaginary part\n",
      "  return SFa.astype(np.float32)\n"
     ]
    },
    {
     "name": "stdout",
     "output_type": "stream",
     "text": [
      "\tVALENCE-s31|Acc=0.9875|10-CV=0.99|STD=0.03|Time spend=0.45833563804626465\n"
     ]
    },
    {
     "name": "stderr",
     "output_type": "stream",
     "text": [
      "/root/projects/components/CSP.py:78: ComplexWarning: Casting complex values to real discards the imaginary part\n",
      "  return SFa.astype(np.float32)\n"
     ]
    },
    {
     "name": "stdout",
     "output_type": "stream",
     "text": [
      "\tVALENCE-s32|Acc=0.6625|10-CV=0.6|STD=0.06325|Time spend=0.42611145973205566\n",
      "VALENCE|Acc=0.8109375000000001|10-CV=0.7789062500000001|STD=0.041073420589419506\n"
     ]
    }
   ],
   "source": [
    "accs_v, cv_means_v, cv_stds_v = [],[],[]\n",
    "for filename in tqdm(dataset.get_file_list()):\n",
    "\n",
    "    data, labels, groups = dataset.get_data(filename, stimuli=Dataset_subjectDependent.STIMULI_VALENCE, return_type='numpy')\n",
    "    labels = labels.squeeze()\n",
    "    start = time.time()\n",
    "    filters = CSP(data[labels==0], data[labels==1])\n",
    "    \n",
    "    csp_data = []\n",
    "    for index in range(len(data)):\n",
    "        \n",
    "        # (672, 32) @ (32, 32) = (672, 32)\n",
    "        csp = data[index].T @ filters[labels[index].astype(int)]\n",
    "        # (1, 32, 672)\n",
    "        csp = np.expand_dims(csp.T, axis=0)\n",
    "        csp_data.append(csp)\n",
    "\n",
    "    csp_data = np.vstack(csp_data)\n",
    "    # print(csp_data.shape) => (2400, 32, 128)\n",
    "    fe = FeatureExtractor(sfreq=128, selected_funcs=['pow_freq_bands'],params=params,n_jobs=8)\n",
    "    X = fe.fit_transform(X=csp_data)\n",
    "    # print(X.shape, time.time() - start) => (2400, 160) 1.2374355792999268\n",
    "\n",
    "    assert X.shape[1] == 160\n",
    "    _, acc, cross = train_model(X, labels.reshape(-1), groups, filename=filename)\n",
    "    print(f\"\\tVALENCE-{filename}|Acc={round(acc,5)}|10-CV={round(cross.mean(),5)}|STD={round(cross.std(),5)}|Time spend={time.time() - start}\")\n",
    "    accs_v.append(acc)\n",
    "    cv_means_v.append(cross.mean())\n",
    "    cv_stds_v.append(cross.std())\n",
    "print(f\"VALENCE|Acc={sum(accs_v)/len(accs_v)}|10-CV={sum(cv_means_v)/len(cv_means_v)}|STD={sum(cv_stds_v)/len(cv_stds_v)}\")"
   ]
  },
  {
   "cell_type": "code",
   "execution_count": 22,
   "metadata": {},
   "outputs": [
    {
     "name": "stdout",
     "output_type": "stream",
     "text": [
      "TOTAL|Acc=0.8158203125|10-CV=0.79|STD=0.03983804273870025\n"
     ]
    }
   ],
   "source": [
    "accs.extend(accs_v)\n",
    "cv_means.extend(cv_means_v)\n",
    "cv_stds.extend(cv_stds_v)\n",
    "\n",
    "print(f\"TOTAL|Acc={sum(accs)/len(accs)}|10-CV={sum(cv_means)/len(cv_means)}|STD={sum(cv_stds)/len(cv_stds)}\")"
   ]
  },
  {
   "cell_type": "code",
   "execution_count": null,
   "metadata": {},
   "outputs": [],
   "source": []
  }
 ],
 "metadata": {
  "interpreter": {
   "hash": "27768773b483d82a9b2b839e3fa80b1be5789db7fd78df4eedef2df266871616"
  },
  "kernelspec": {
   "display_name": "Python 3 (ipykernel)",
   "language": "python",
   "name": "python3"
  },
  "language_info": {
   "codemirror_mode": {
    "name": "ipython",
    "version": 3
   },
   "file_extension": ".py",
   "mimetype": "text/x-python",
   "name": "python",
   "nbconvert_exporter": "python",
   "pygments_lexer": "ipython3",
   "version": "3.8.10"
  }
 },
 "nbformat": 4,
 "nbformat_minor": 4
}
