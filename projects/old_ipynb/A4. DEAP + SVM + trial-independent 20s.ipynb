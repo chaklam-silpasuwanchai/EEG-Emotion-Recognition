{
 "cells": [
  {
   "cell_type": "code",
   "execution_count": 1,
   "metadata": {},
   "outputs": [
    {
     "name": "stdout",
     "output_type": "stream",
     "text": [
      "Found: 32 files\n",
      "s01 (120, 2) [47.5 60. ]\n"
     ]
    }
   ],
   "source": [
    "import time\n",
    "import numpy as np\n",
    "from tqdm.notebook import tqdm\n",
    "\n",
    "from components.dataset_jo import *\n",
    "\n",
    "dataset = Dataset_subjectDependent('data')\n",
    "segment_lenght = 20 #second\n",
    "dataset.set_segment(7680//(128*segment_lenght))\n",
    "for filename in dataset.get_file_list():\n",
    "    data, labels, _ = dataset.get_data(filename, return_type='numpy')\n",
    "    print(filename, labels.shape, labels.sum(axis=0)/labels.shape[0]*100)\n",
    "    break"
   ]
  },
  {
   "cell_type": "code",
   "execution_count": 2,
   "metadata": {},
   "outputs": [],
   "source": [
    "def train_model(X_ori,y_ori,groups_ori,filename=None, kernel='rbf',return_text=False):\n",
    "    # Make a copy because I am paranoid\n",
    "    X,y,groups = X_ori.copy(), y_ori.copy(), groups_ori.copy()\n",
    "\n",
    "    from sklearn.svm import SVC\n",
    "    from sklearn.model_selection import GroupShuffleSplit \n",
    "    from sklearn.model_selection import cross_val_score\n",
    "\n",
    "    model = SVC(kernel=kernel,max_iter=50000)\n",
    "    cv = GroupShuffleSplit(n_splits=10, train_size=0.75, random_state=0)\n",
    "    cross = cross_val_score(model, X, y, cv=cv,groups=groups, n_jobs=8)\n",
    "    \n",
    "    # We probably dont need this\n",
    "    model = SVC(kernel=kernel, max_iter=50000)\n",
    "    model.fit(X, y)\n",
    "    ans = model.predict(X)\n",
    "    acc = sum(ans == y) / len(y)\n",
    "    # If the model answer with all 0 or 1, we print this message\n",
    "    text = None\n",
    "    if( sum(ans) == len(y) or sum(ans) == 0 ): \n",
    "        text = f\"-----WARNING: Model {filename} failed to learn: sum(ans)={sum(ans)} sum(y)={sum(y)} len(y)={len(y)}\"\n",
    "    if(return_text):\n",
    "        return model, acc, cross, text\n",
    "    else:\n",
    "        if(text != None): print(text)\n",
    "        return model, acc, cross"
   ]
  },
  {
   "cell_type": "markdown",
   "metadata": {},
   "source": [
    "## 2. Spectral Features"
   ]
  },
  {
   "cell_type": "code",
   "execution_count": 3,
   "metadata": {},
   "outputs": [],
   "source": [
    "from mne_features.feature_extraction import FeatureExtractor"
   ]
  },
  {
   "cell_type": "code",
   "execution_count": 4,
   "metadata": {},
   "outputs": [
    {
     "name": "stdout",
     "output_type": "stream",
     "text": [
      "-----WARNING: Model s01 failed to learn: sum(ans)=120.0 sum(y)=72.0 len(y)=120\n",
      "\tAROUSAL-s01|Acc=0.6|10-CV=0.55333|STD=0.1507|Time spend=34.89105558395386\n",
      "-----WARNING: Model s02 failed to learn: sum(ans)=120.0 sum(y)=72.0 len(y)=120\n",
      "\tAROUSAL-s02|Acc=0.6|10-CV=0.50667|STD=0.07118|Time spend=0.46436595916748047\n",
      "-----WARNING: Model s03 failed to learn: sum(ans)=0.0 sum(y)=24.0 len(y)=120\n",
      "\tAROUSAL-s03|Acc=0.8|10-CV=0.73|STD=0.15524|Time spend=0.4583899974822998\n",
      "\tAROUSAL-s04|Acc=0.625|10-CV=0.52667|STD=0.10306|Time spend=0.41852402687072754\n",
      "\tAROUSAL-s05|Acc=0.53333|10-CV=0.40333|STD=0.10796|Time spend=0.4185655117034912\n",
      "\tAROUSAL-s06|Acc=0.6|10-CV=0.54333|STD=0.15351|Time spend=0.4057955741882324\n",
      "\tAROUSAL-s07|Acc=0.66667|10-CV=0.64333|STD=0.13421|Time spend=0.40932583808898926\n",
      "\tAROUSAL-s08|Acc=0.59167|10-CV=0.43|STD=0.1178|Time spend=0.40654897689819336\n",
      "\tAROUSAL-s09|Acc=0.60833|10-CV=0.53|STD=0.11968|Time spend=0.4610869884490967\n",
      "\tAROUSAL-s10|Acc=0.675|10-CV=0.56333|STD=0.11494|Time spend=0.46961498260498047\n",
      "-----WARNING: Model s11 failed to learn: sum(ans)=0.0 sum(y)=45.0 len(y)=120\n",
      "\tAROUSAL-s11|Acc=0.625|10-CV=0.62|STD=0.08718|Time spend=0.46471285820007324\n",
      "-----WARNING: Model s12 failed to learn: sum(ans)=120.0 sum(y)=99.0 len(y)=120\n",
      "\tAROUSAL-s12|Acc=0.825|10-CV=0.83|STD=0.1005|Time spend=0.45500612258911133\n",
      "-----WARNING: Model s13 failed to learn: sum(ans)=120.0 sum(y)=102.0 len(y)=120\n",
      "\tAROUSAL-s13|Acc=0.85|10-CV=0.84|STD=0.06633|Time spend=0.4277355670928955\n",
      "-----WARNING: Model s14 failed to learn: sum(ans)=120.0 sum(y)=81.0 len(y)=120\n",
      "\tAROUSAL-s14|Acc=0.675|10-CV=0.65|STD=0.10247|Time spend=0.43767547607421875\n",
      "\tAROUSAL-s15|Acc=0.7|10-CV=0.60333|STD=0.09939|Time spend=0.44251155853271484\n",
      "\tAROUSAL-s16|Acc=0.74167|10-CV=0.53667|STD=0.12423|Time spend=0.4180138111114502\n",
      "\tAROUSAL-s17|Acc=0.73333|10-CV=0.61333|STD=0.12311|Time spend=0.4309265613555908\n",
      "\tAROUSAL-s18|Acc=0.63333|10-CV=0.58|STD=0.11757|Time spend=0.42420077323913574\n",
      "\tAROUSAL-s19|Acc=0.68333|10-CV=0.63|STD=0.13454|Time spend=0.4334449768066406\n",
      "-----WARNING: Model s20 failed to learn: sum(ans)=120.0 sum(y)=93.0 len(y)=120\n",
      "\tAROUSAL-s20|Acc=0.775|10-CV=0.82|STD=0.08718|Time spend=0.41272449493408203\n",
      "-----WARNING: Model s21 failed to learn: sum(ans)=120.0 sum(y)=96.0 len(y)=120\n",
      "\tAROUSAL-s21|Acc=0.8|10-CV=0.8|STD=0.1|Time spend=0.4377119541168213\n",
      "\tAROUSAL-s22|Acc=0.65833|10-CV=0.62|STD=0.10456|Time spend=0.41701412200927734\n",
      "-----WARNING: Model s23 failed to learn: sum(ans)=0.0 sum(y)=30.0 len(y)=120\n",
      "\tAROUSAL-s23|Acc=0.75|10-CV=0.78|STD=0.09798|Time spend=0.4196481704711914\n",
      "-----WARNING: Model s24 failed to learn: sum(ans)=120.0 sum(y)=99.0 len(y)=120\n",
      "\tAROUSAL-s24|Acc=0.825|10-CV=0.82|STD=0.07483|Time spend=0.43841123580932617\n",
      "-----WARNING: Model s25 failed to learn: sum(ans)=120.0 sum(y)=87.0 len(y)=120\n",
      "\tAROUSAL-s25|Acc=0.725|10-CV=0.74|STD=0.12806|Time spend=0.4100379943847656\n",
      "\tAROUSAL-s26|Acc=0.61667|10-CV=0.54333|STD=0.15638|Time spend=0.4393961429595947\n",
      "\tAROUSAL-s27|Acc=0.725|10-CV=0.62667|STD=0.1052|Time spend=0.47159600257873535\n",
      "\tAROUSAL-s28|Acc=0.6|10-CV=0.47|STD=0.11101|Time spend=0.49877452850341797\n",
      "-----WARNING: Model s29 failed to learn: sum(ans)=120.0 sum(y)=75.0 len(y)=120\n",
      "\tAROUSAL-s29|Acc=0.625|10-CV=0.52333|STD=0.07895|Time spend=0.42580723762512207\n",
      "\tAROUSAL-s30|Acc=0.7|10-CV=0.5|STD=0.11155|Time spend=0.45030736923217773\n",
      "\tAROUSAL-s31|Acc=0.65833|10-CV=0.47|STD=0.12333|Time spend=0.409818172454834\n",
      "-----WARNING: Model s32 failed to learn: sum(ans)=120.0 sum(y)=81.0 len(y)=120\n",
      "\tAROUSAL-s32|Acc=0.675|10-CV=0.71667|STD=0.13102|Time spend=0.4443955421447754\n",
      "AROUSAL|Acc=0.6843750000000002|10-CV=0.6176041666666665|STD=0.1123018893057801\n",
      "-----WARNING: Model s01 failed to learn: sum(ans)=0.0 sum(y)=57.0 len(y)=120\n",
      "\tVALENCE-s01|Acc=0.525|10-CV=0.43667|STD=0.12152|Time spend=0.22681331634521484\n",
      "\tVALENCE-s02|Acc=0.65833|10-CV=0.49|STD=0.14067|Time spend=0.21261978149414062\n",
      "-----WARNING: Model s03 failed to learn: sum(ans)=120.0 sum(y)=66.0 len(y)=120\n",
      "\tVALENCE-s03|Acc=0.55|10-CV=0.41|STD=0.11455|Time spend=0.2122800350189209\n",
      "\tVALENCE-s04|Acc=0.63333|10-CV=0.48333|STD=0.0922|Time spend=0.2127854824066162\n",
      "\tVALENCE-s05|Acc=0.68333|10-CV=0.59667|STD=0.10796|Time spend=0.21488118171691895\n",
      "-----WARNING: Model s06 failed to learn: sum(ans)=120.0 sum(y)=90.0 len(y)=120\n",
      "\tVALENCE-s06|Acc=0.75|10-CV=0.72|STD=0.07483|Time spend=0.20240235328674316\n",
      "-----WARNING: Model s07 failed to learn: sum(ans)=120.0 sum(y)=84.0 len(y)=120\n",
      "\tVALENCE-s07|Acc=0.7|10-CV=0.68|STD=0.1249|Time spend=0.20406079292297363\n",
      "\tVALENCE-s08|Acc=0.725|10-CV=0.51333|STD=0.10456|Time spend=0.2028663158416748\n",
      "\tVALENCE-s09|Acc=0.76667|10-CV=0.57333|STD=0.17689|Time spend=0.21109509468078613\n",
      "\tVALENCE-s10|Acc=0.775|10-CV=0.73333|STD=0.083|Time spend=0.2293999195098877\n",
      "\tVALENCE-s11|Acc=0.70833|10-CV=0.55667|STD=0.15638|Time spend=0.20649170875549316\n",
      "\tVALENCE-s12|Acc=0.675|10-CV=0.49333|STD=0.19195|Time spend=0.2021937370300293\n",
      "\tVALENCE-s13|Acc=0.81667|10-CV=0.79667|STD=0.1159|Time spend=0.2085731029510498\n",
      "\tVALENCE-s14|Acc=0.75|10-CV=0.62|STD=0.12927|Time spend=0.20273923873901367\n",
      "\tVALENCE-s15|Acc=0.8|10-CV=0.75333|STD=0.10132|Time spend=0.1994462013244629\n",
      "\tVALENCE-s16|Acc=0.725|10-CV=0.63|STD=0.10899|Time spend=0.21692347526550293\n",
      "-----WARNING: Model s17 failed to learn: sum(ans)=120.0 sum(y)=66.0 len(y)=120\n",
      "\tVALENCE-s17|Acc=0.55|10-CV=0.45|STD=0.12931|Time spend=0.22142529487609863\n",
      "\tVALENCE-s18|Acc=0.78333|10-CV=0.63667|STD=0.15737|Time spend=0.22212004661560059\n",
      "\tVALENCE-s19|Acc=0.65833|10-CV=0.48667|STD=0.1593|Time spend=0.21764063835144043\n",
      "\tVALENCE-s20|Acc=0.825|10-CV=0.61333|STD=0.17901|Time spend=0.23703289031982422\n",
      "\tVALENCE-s21|Acc=0.63333|10-CV=0.46333|STD=0.09123|Time spend=0.2110457420349121\n",
      "\tVALENCE-s22|Acc=0.7|10-CV=0.54667|STD=0.13515|Time spend=0.19747376441955566\n",
      "-----WARNING: Model s23 failed to learn: sum(ans)=120.0 sum(y)=78.0 len(y)=120\n",
      "\tVALENCE-s23|Acc=0.65|10-CV=0.61|STD=0.15133|Time spend=0.20876407623291016\n",
      "-----WARNING: Model s24 failed to learn: sum(ans)=0.0 sum(y)=54.0 len(y)=120\n",
      "\tVALENCE-s24|Acc=0.55|10-CV=0.43|STD=0.18466|Time spend=0.20481610298156738\n",
      "\tVALENCE-s25|Acc=0.54167|10-CV=0.35667|STD=0.10116|Time spend=0.19931292533874512\n",
      "-----WARNING: Model s26 failed to learn: sum(ans)=120.0 sum(y)=78.0 len(y)=120\n",
      "\tVALENCE-s26|Acc=0.65|10-CV=0.61333|STD=0.1335|Time spend=0.19827485084533691\n",
      "-----WARNING: Model s27 failed to learn: sum(ans)=120.0 sum(y)=90.0 len(y)=120\n",
      "\tVALENCE-s27|Acc=0.75|10-CV=0.67|STD=0.12689|Time spend=0.20062756538391113\n",
      "\tVALENCE-s28|Acc=0.69167|10-CV=0.55333|STD=0.14996|Time spend=0.2066643238067627\n",
      "\tVALENCE-s29|Acc=0.70833|10-CV=0.56333|STD=0.11874|Time spend=0.21799230575561523\n",
      "-----WARNING: Model s30 failed to learn: sum(ans)=120.0 sum(y)=81.0 len(y)=120\n",
      "\tVALENCE-s30|Acc=0.675|10-CV=0.59667|STD=0.1178|Time spend=0.24165129661560059\n",
      "-----WARNING: Model s31 failed to learn: sum(ans)=120.0 sum(y)=69.0 len(y)=120\n",
      "\tVALENCE-s31|Acc=0.575|10-CV=0.5|STD=0.11643|Time spend=0.20494532585144043\n",
      "\tVALENCE-s32|Acc=0.69167|10-CV=0.62333|STD=0.1044|Time spend=0.21712756156921387\n",
      "VALENCE|Acc=0.6835937499999999|10-CV=0.5687500000000001|STD=0.12816113253136258\n",
      "TOTAL|Acc=0.6839843750000001|10-CV=0.5931770833333333|STD=0.12023151091857133\n"
     ]
    }
   ],
   "source": [
    "bands = [(0,4), (4,8), (8,12), (12,30), (30,64)]\n",
    "# [alias_feature_function]__[optional_param]\n",
    "params = dict({\n",
    "    'pow_freq_bands__log':True,\n",
    "    'pow_freq_bands__normalize':False,\n",
    "    'pow_freq_bands__freq_bands':bands\n",
    "})\n",
    "\n",
    "\n",
    "accs,cv_means,cv_stds  = [],[],[]\n",
    "# count = 0\n",
    "for filename in dataset.get_file_list():\n",
    "    start = time.time()\n",
    "    data, labels, groups = dataset.get_data(filename, stimuli=Dataset_subjectDependent.STIMULI_AROUSAL, return_type='numpy')\n",
    "    fe = FeatureExtractor(sfreq=128, selected_funcs=['pow_freq_bands'],params=params,n_jobs=8)\n",
    "    X = fe.fit_transform(X=data)\n",
    "    _, acc, cross = train_model(X, labels.reshape(-1), groups,filename=filename)\n",
    "    print(f\"\\tAROUSAL-{filename}|Acc={round(acc,5)}|10-CV={round(cross.mean(),5)}|STD={round(cross.std(),5)}|Time spend={time.time() - start}\")\n",
    "    accs.append(acc)\n",
    "    cv_means.append(cross.mean())\n",
    "    cv_stds.append(cross.std())\n",
    "    # count+=1\n",
    "    # if(count == 5): break\n",
    "print(f\"AROUSAL|Acc={sum(accs)/len(accs)}|10-CV={sum(cv_means)/len(cv_means)}|STD={sum(cv_stds)/len(cv_stds)}\")\n",
    "\n",
    "accs_v,cv_means_v,cv_stds_v  = [],[],[]\n",
    "# count=0\n",
    "for filename in dataset.get_file_list():\n",
    "    start = time.time()\n",
    "    data, labels, groups = dataset.get_data(filename, stimuli=Dataset_subjectDependent.STIMULI_VALENCE, return_type='numpy')\n",
    "    fe = FeatureExtractor(sfreq=128, selected_funcs=['pow_freq_bands'],params=params,n_jobs=8)\n",
    "    X = fe.fit_transform(X=data)\n",
    "    _, acc, cross = train_model(X, labels.reshape(-1), groups,filename=filename)\n",
    "    print(f\"\\tVALENCE-{filename}|Acc={round(acc,5)}|10-CV={round(cross.mean(),5)}|STD={round(cross.std(),5)}|Time spend={time.time() - start}\")\n",
    "    accs_v.append(acc)\n",
    "    cv_means_v.append(cross.mean())\n",
    "    cv_stds_v.append(cross.std())\n",
    "    # count+=1\n",
    "    # if(count == 5): break\n",
    "print(f\"VALENCE|Acc={sum(accs_v)/len(accs_v)}|10-CV={sum(cv_means_v)/len(cv_means_v)}|STD={sum(cv_stds_v)/len(cv_stds_v)}\")\n",
    "\n",
    "accs.extend(accs_v)\n",
    "cv_means.extend(cv_means_v)\n",
    "cv_stds.extend(cv_stds_v)\n",
    "print(f\"TOTAL|Acc={sum(accs)/len(accs)}|10-CV={sum(cv_means)/len(cv_means)}|STD={sum(cv_stds)/len(cv_stds)}\")"
   ]
  },
  {
   "cell_type": "markdown",
   "metadata": {},
   "source": [
    "## 3. Asymetry"
   ]
  },
  {
   "cell_type": "code",
   "execution_count": 5,
   "metadata": {},
   "outputs": [
    {
     "name": "stdout",
     "output_type": "stream",
     "text": [
      "left_channel_indexes=[0, 3, 2, 7, 11, 6, 10, 13, 1, 4, 5, 8, 9, 12]\n",
      "right_channel_indexes=[16, 20, 19, 25, 29, 24, 28, 31, 17, 21, 22, 26, 27, 30]\n",
      "frontal_channel_indexes=[4, 5, 22, 21, 3, 2, 18, 19, 20, 0, 16]\n",
      "posterior_channel_indexes=[8, 9, 27, 26, 11, 10, 15, 28, 29, 13, 31]\n"
     ]
    }
   ],
   "source": [
    "channels = ['Fp1','AF3','F3','F7','FC5','FC1','C3','T7','CP5','CP1','P3','P7','PO3','O1','Oz','Pz','Fp2','AF4','Fz','F4','F8','FC6','FC2','Cz','C4','T8','CP6','CP2','P4','P8','PO4','O2']\n",
    "left_channels = ['Fp1','F7','F3','T7','P7','C3','P3','O1','AF3','FC5','FC1','CP5','CP1','PO3']\n",
    "right_channels = ['Fp2','F8','F4','T8','P8','C4','P4','O2','AF4','FC6','FC2','CP6','CP2','PO4']\n",
    "left_channel_indexes = [ channels.index(ch) for ch in left_channels ]\n",
    "right_channel_indexes = [ channels.index(ch) for ch in right_channels ]\n",
    "\n",
    "print(f\"{left_channel_indexes=}\")\n",
    "print(f\"{right_channel_indexes=}\")\n",
    "\n",
    "frontal_channels = ['FC5','FC1','FC2','FC6','F7','F3','Fz','F4','F8','Fp1','Fp2']\n",
    "posterior_channels = ['CP5','CP1','CP2','CP6','P7','P3','Pz','P4','P8','O1','O2']\n",
    "\n",
    "frontal_channel_indexes = [ channels.index(ch) for ch in frontal_channels ]\n",
    "posterior_channel_indexes = [ channels.index(ch) for ch in posterior_channels ]\n",
    "\n",
    "print(f\"{frontal_channel_indexes=}\")\n",
    "print(f\"{posterior_channel_indexes=}\")"
   ]
  },
  {
   "cell_type": "code",
   "execution_count": 6,
   "metadata": {},
   "outputs": [
    {
     "name": "stdout",
     "output_type": "stream",
     "text": [
      "-----WARNING: Model s01 failed to learn: sum(ans)=120.0 sum(y)=72.0 len(y)=120\n",
      "\tAROUSAL-s01-DASM|Acc=0.6|10-CV=0.56|STD=0.1562|Time spend=0.21038460731506348\n",
      "\tAROUSAL-s01-RASM|Acc=0.61667|10-CV=0.56|STD=0.1562|Time spend=0.22298192977905273\n",
      "-----WARNING: Model s01 failed to learn: sum(ans)=120.0 sum(y)=72.0 len(y)=120\n",
      "\tAROUSAL-s01-DCAU|Acc=0.6|10-CV=0.55667|STD=0.15133|Time spend=0.23386216163635254\n",
      "-----WARNING: Model s02 failed to learn: sum(ans)=120.0 sum(y)=72.0 len(y)=120\n",
      "\tAROUSAL-s02-DASM|Acc=0.6|10-CV=0.56667|STD=0.1291|Time spend=0.19214916229248047\n",
      "\tAROUSAL-s02-RASM|Acc=0.625|10-CV=0.58|STD=0.12667|Time spend=0.20374608039855957\n",
      "\tAROUSAL-s02-DCAU|Acc=0.61667|10-CV=0.53667|STD=0.10376|Time spend=0.21521234512329102\n",
      "-----WARNING: Model s03 failed to learn: sum(ans)=0.0 sum(y)=24.0 len(y)=120\n",
      "\tAROUSAL-s03-DASM|Acc=0.8|10-CV=0.73|STD=0.15524|Time spend=0.19105815887451172\n",
      "-----WARNING: Model s03 failed to learn: sum(ans)=0.0 sum(y)=24.0 len(y)=120\n",
      "\tAROUSAL-s03-RASM|Acc=0.8|10-CV=0.73|STD=0.15524|Time spend=0.20310163497924805\n",
      "-----WARNING: Model s03 failed to learn: sum(ans)=0.0 sum(y)=24.0 len(y)=120\n",
      "\tAROUSAL-s03-DCAU|Acc=0.8|10-CV=0.73|STD=0.15524|Time spend=0.21402788162231445\n",
      "\tAROUSAL-s04-DASM|Acc=0.60833|10-CV=0.49667|STD=0.10376|Time spend=0.19684481620788574\n",
      "\tAROUSAL-s04-RASM|Acc=0.65833|10-CV=0.51333|STD=0.10975|Time spend=0.20988249778747559\n",
      "\tAROUSAL-s04-DCAU|Acc=0.725|10-CV=0.52|STD=0.15649|Time spend=0.22118163108825684\n",
      "\tAROUSAL-s05-DASM|Acc=0.55833|10-CV=0.40333|STD=0.10796|Time spend=0.20144248008728027\n",
      "\tAROUSAL-s05-RASM|Acc=0.6|10-CV=0.37|STD=0.07951|Time spend=0.21303033828735352\n",
      "\tAROUSAL-s05-DCAU|Acc=0.59167|10-CV=0.4|STD=0.10541|Time spend=0.2236480712890625\n",
      "\tAROUSAL-s06-DASM|Acc=0.63333|10-CV=0.53333|STD=0.15055|Time spend=0.21321439743041992\n",
      "\tAROUSAL-s06-RASM|Acc=0.61667|10-CV=0.51667|STD=0.14162|Time spend=0.22857022285461426\n",
      "\tAROUSAL-s06-DCAU|Acc=0.59167|10-CV=0.52667|STD=0.15902|Time spend=0.24175548553466797\n",
      "-----WARNING: Model s07 failed to learn: sum(ans)=120.0 sum(y)=75.0 len(y)=120\n",
      "\tAROUSAL-s07-DASM|Acc=0.625|10-CV=0.63667|STD=0.12423|Time spend=0.22124814987182617\n",
      "-----WARNING: Model s07 failed to learn: sum(ans)=120.0 sum(y)=75.0 len(y)=120\n",
      "\tAROUSAL-s07-RASM|Acc=0.625|10-CV=0.65|STD=0.14318|Time spend=0.23319292068481445\n",
      "-----WARNING: Model s07 failed to learn: sum(ans)=120.0 sum(y)=75.0 len(y)=120\n",
      "\tAROUSAL-s07-DCAU|Acc=0.625|10-CV=0.65|STD=0.14318|Time spend=0.24520492553710938\n",
      "-----WARNING: Model s08 failed to learn: sum(ans)=120.0 sum(y)=69.0 len(y)=120\n",
      "\tAROUSAL-s08-DASM|Acc=0.575|10-CV=0.43333|STD=0.1022|Time spend=0.19229817390441895\n",
      "\tAROUSAL-s08-RASM|Acc=0.6|10-CV=0.45|STD=0.14318|Time spend=0.20444750785827637\n",
      "\tAROUSAL-s08-DCAU|Acc=0.63333|10-CV=0.41333|STD=0.10456|Time spend=0.21599102020263672\n",
      "-----WARNING: Model s09 failed to learn: sum(ans)=120.0 sum(y)=72.0 len(y)=120\n",
      "\tAROUSAL-s09-DASM|Acc=0.6|10-CV=0.53333|STD=0.1145|Time spend=0.22907161712646484\n",
      "-----WARNING: Model s09 failed to learn: sum(ans)=120.0 sum(y)=72.0 len(y)=120\n",
      "\tAROUSAL-s09-RASM|Acc=0.6|10-CV=0.5|STD=0.09068|Time spend=0.24339675903320312\n",
      "-----WARNING: Model s09 failed to learn: sum(ans)=120.0 sum(y)=72.0 len(y)=120\n",
      "\tAROUSAL-s09-DCAU|Acc=0.6|10-CV=0.51667|STD=0.09574|Time spend=0.25901007652282715\n",
      "\tAROUSAL-s10-DASM|Acc=0.71667|10-CV=0.62|STD=0.11662|Time spend=0.22275829315185547\n",
      "\tAROUSAL-s10-RASM|Acc=0.7|10-CV=0.56667|STD=0.15492|Time spend=0.23614764213562012\n",
      "\tAROUSAL-s10-DCAU|Acc=0.74167|10-CV=0.63333|STD=0.08165|Time spend=0.24831938743591309\n",
      "-----WARNING: Model s11 failed to learn: sum(ans)=0.0 sum(y)=45.0 len(y)=120\n",
      "\tAROUSAL-s11-DASM|Acc=0.625|10-CV=0.59667|STD=0.06403|Time spend=0.2036287784576416\n",
      "-----WARNING: Model s11 failed to learn: sum(ans)=0.0 sum(y)=45.0 len(y)=120\n",
      "\tAROUSAL-s11-RASM|Acc=0.625|10-CV=0.60667|STD=0.06633|Time spend=0.21622896194458008\n",
      "\tAROUSAL-s11-DCAU|Acc=0.64167|10-CV=0.59333|STD=0.06633|Time spend=0.2270352840423584\n",
      "-----WARNING: Model s12 failed to learn: sum(ans)=120.0 sum(y)=99.0 len(y)=120\n",
      "\tAROUSAL-s12-DASM|Acc=0.825|10-CV=0.83|STD=0.1005|Time spend=0.20435309410095215\n",
      "-----WARNING: Model s12 failed to learn: sum(ans)=120.0 sum(y)=99.0 len(y)=120\n",
      "\tAROUSAL-s12-RASM|Acc=0.825|10-CV=0.83|STD=0.1005|Time spend=0.21648764610290527\n",
      "-----WARNING: Model s12 failed to learn: sum(ans)=120.0 sum(y)=99.0 len(y)=120\n",
      "\tAROUSAL-s12-DCAU|Acc=0.825|10-CV=0.83|STD=0.1005|Time spend=0.22767281532287598\n",
      "-----WARNING: Model s13 failed to learn: sum(ans)=120.0 sum(y)=102.0 len(y)=120\n",
      "\tAROUSAL-s13-DASM|Acc=0.85|10-CV=0.84|STD=0.06633|Time spend=0.1950819492340088\n",
      "-----WARNING: Model s13 failed to learn: sum(ans)=120.0 sum(y)=102.0 len(y)=120\n",
      "\tAROUSAL-s13-RASM|Acc=0.85|10-CV=0.84|STD=0.06633|Time spend=0.20748567581176758\n",
      "-----WARNING: Model s13 failed to learn: sum(ans)=120.0 sum(y)=102.0 len(y)=120\n",
      "\tAROUSAL-s13-DCAU|Acc=0.85|10-CV=0.84|STD=0.06633|Time spend=0.22075629234313965\n",
      "-----WARNING: Model s14 failed to learn: sum(ans)=120.0 sum(y)=81.0 len(y)=120\n",
      "\tAROUSAL-s14-DASM|Acc=0.675|10-CV=0.65|STD=0.10247|Time spend=0.2112109661102295\n",
      "\tAROUSAL-s14-RASM|Acc=0.68333|10-CV=0.64|STD=0.09165|Time spend=0.22647690773010254\n",
      "-----WARNING: Model s14 failed to learn: sum(ans)=120.0 sum(y)=81.0 len(y)=120\n",
      "\tAROUSAL-s14-DCAU|Acc=0.675|10-CV=0.65|STD=0.10247|Time spend=0.2371838092803955\n",
      "\tAROUSAL-s15-DASM|Acc=0.68333|10-CV=0.56|STD=0.11035|Time spend=0.21424651145935059\n",
      "\tAROUSAL-s15-RASM|Acc=0.56667|10-CV=0.46|STD=0.09752|Time spend=0.22718024253845215\n",
      "\tAROUSAL-s15-DCAU|Acc=0.675|10-CV=0.56|STD=0.12632|Time spend=0.23952865600585938\n",
      "\tAROUSAL-s16-DASM|Acc=0.66667|10-CV=0.51333|STD=0.09568|Time spend=0.2321615219116211\n",
      "\tAROUSAL-s16-RASM|Acc=0.51667|10-CV=0.39667|STD=0.13454|Time spend=0.2436981201171875\n",
      "\tAROUSAL-s16-DCAU|Acc=0.65833|10-CV=0.50667|STD=0.10625|Time spend=0.25517821311950684\n",
      "\tAROUSAL-s17-DASM|Acc=0.69167|10-CV=0.61|STD=0.13085|Time spend=0.19974040985107422\n",
      "-----WARNING: Model s17 failed to learn: sum(ans)=120.0 sum(y)=72.0 len(y)=120\n",
      "\tAROUSAL-s17-RASM|Acc=0.6|10-CV=0.55667|STD=0.08699|Time spend=0.2120647430419922\n",
      "\tAROUSAL-s17-DCAU|Acc=0.68333|10-CV=0.58667|STD=0.1147|Time spend=0.22400617599487305\n",
      "\tAROUSAL-s18-DASM|Acc=0.63333|10-CV=0.57667|STD=0.10755|Time spend=0.20277953147888184\n",
      "\tAROUSAL-s18-RASM|Acc=0.65|10-CV=0.6|STD=0.14142|Time spend=0.21509337425231934\n",
      "\tAROUSAL-s18-DCAU|Acc=0.64167|10-CV=0.57333|STD=0.10414|Time spend=0.22673773765563965\n",
      "\tAROUSAL-s19-DASM|Acc=0.68333|10-CV=0.63333|STD=0.14142|Time spend=0.1977393627166748\n",
      "\tAROUSAL-s19-RASM|Acc=0.68333|10-CV=0.63|STD=0.13454|Time spend=0.21017169952392578\n",
      "\tAROUSAL-s19-DCAU|Acc=0.69167|10-CV=0.62333|STD=0.13337|Time spend=0.22108840942382812\n",
      "-----WARNING: Model s20 failed to learn: sum(ans)=120.0 sum(y)=93.0 len(y)=120\n",
      "\tAROUSAL-s20-DASM|Acc=0.775|10-CV=0.82|STD=0.08718|Time spend=0.20498251914978027\n",
      "\tAROUSAL-s20-RASM|Acc=0.78333|10-CV=0.82|STD=0.08718|Time spend=0.21837520599365234\n",
      "-----WARNING: Model s20 failed to learn: sum(ans)=120.0 sum(y)=93.0 len(y)=120\n",
      "\tAROUSAL-s20-DCAU|Acc=0.775|10-CV=0.82|STD=0.08718|Time spend=0.2301502227783203\n",
      "-----WARNING: Model s21 failed to learn: sum(ans)=120.0 sum(y)=96.0 len(y)=120\n",
      "\tAROUSAL-s21-DASM|Acc=0.8|10-CV=0.8|STD=0.1|Time spend=0.20029926300048828\n",
      "\tAROUSAL-s21-RASM|Acc=0.80833|10-CV=0.8|STD=0.1|Time spend=0.21263980865478516\n",
      "-----WARNING: Model s21 failed to learn: sum(ans)=120.0 sum(y)=96.0 len(y)=120\n",
      "\tAROUSAL-s21-DCAU|Acc=0.8|10-CV=0.8|STD=0.1|Time spend=0.22475695610046387\n",
      "\tAROUSAL-s22-DASM|Acc=0.66667|10-CV=0.62|STD=0.09333|Time spend=0.2010974884033203\n",
      "\tAROUSAL-s22-RASM|Acc=0.70833|10-CV=0.63|STD=0.09597|Time spend=0.2129528522491455\n",
      "\tAROUSAL-s22-DCAU|Acc=0.66667|10-CV=0.62|STD=0.08055|Time spend=0.22494077682495117\n",
      "-----WARNING: Model s23 failed to learn: sum(ans)=0.0 sum(y)=30.0 len(y)=120\n",
      "\tAROUSAL-s23-DASM|Acc=0.75|10-CV=0.78|STD=0.09798|Time spend=0.20686674118041992\n",
      "\tAROUSAL-s23-RASM|Acc=0.75833|10-CV=0.78|STD=0.09798|Time spend=0.21937012672424316\n",
      "-----WARNING: Model s23 failed to learn: sum(ans)=0.0 sum(y)=30.0 len(y)=120\n",
      "\tAROUSAL-s23-DCAU|Acc=0.75|10-CV=0.78|STD=0.09798|Time spend=0.23132753372192383\n",
      "-----WARNING: Model s24 failed to learn: sum(ans)=120.0 sum(y)=99.0 len(y)=120\n",
      "\tAROUSAL-s24-DASM|Acc=0.825|10-CV=0.82|STD=0.07483|Time spend=0.21433305740356445\n",
      "-----WARNING: Model s24 failed to learn: sum(ans)=120.0 sum(y)=99.0 len(y)=120\n",
      "\tAROUSAL-s24-RASM|Acc=0.825|10-CV=0.82|STD=0.07483|Time spend=0.2260723114013672\n",
      "-----WARNING: Model s24 failed to learn: sum(ans)=120.0 sum(y)=99.0 len(y)=120\n",
      "\tAROUSAL-s24-DCAU|Acc=0.825|10-CV=0.82|STD=0.07483|Time spend=0.23952794075012207\n",
      "-----WARNING: Model s25 failed to learn: sum(ans)=120.0 sum(y)=87.0 len(y)=120\n",
      "\tAROUSAL-s25-DASM|Acc=0.725|10-CV=0.74|STD=0.12806|Time spend=0.21265268325805664\n",
      "-----WARNING: Model s25 failed to learn: sum(ans)=120.0 sum(y)=87.0 len(y)=120\n",
      "\tAROUSAL-s25-RASM|Acc=0.725|10-CV=0.74|STD=0.12806|Time spend=0.22485780715942383\n",
      "-----WARNING: Model s25 failed to learn: sum(ans)=120.0 sum(y)=87.0 len(y)=120\n",
      "\tAROUSAL-s25-DCAU|Acc=0.725|10-CV=0.74|STD=0.12806|Time spend=0.2384951114654541\n",
      "\tAROUSAL-s26-DASM|Acc=0.68333|10-CV=0.59|STD=0.16737|Time spend=0.19932770729064941\n",
      "-----WARNING: Model s26 failed to learn: sum(ans)=0.0 sum(y)=51.0 len(y)=120\n",
      "\tAROUSAL-s26-RASM|Acc=0.575|10-CV=0.46|STD=0.1562|Time spend=0.21345806121826172\n",
      "\tAROUSAL-s26-DCAU|Acc=0.64167|10-CV=0.52|STD=0.12401|Time spend=0.2255556583404541\n",
      "\tAROUSAL-s27-DASM|Acc=0.71667|10-CV=0.62667|STD=0.1052|Time spend=0.2015070915222168\n",
      "\tAROUSAL-s27-RASM|Acc=0.68333|10-CV=0.64|STD=0.10198|Time spend=0.2155146598815918\n",
      "\tAROUSAL-s27-DCAU|Acc=0.725|10-CV=0.62|STD=0.10022|Time spend=0.22707867622375488\n",
      "-----WARNING: Model s28 failed to learn: sum(ans)=0.0 sum(y)=54.0 len(y)=120\n",
      "\tAROUSAL-s28-DASM|Acc=0.55|10-CV=0.38333|STD=0.16347|Time spend=0.20076394081115723\n",
      "\tAROUSAL-s28-RASM|Acc=0.54167|10-CV=0.43333|STD=0.15492|Time spend=0.21425938606262207\n",
      "-----WARNING: Model s28 failed to learn: sum(ans)=0.0 sum(y)=54.0 len(y)=120\n",
      "\tAROUSAL-s28-DCAU|Acc=0.55|10-CV=0.38667|STD=0.15506|Time spend=0.2263014316558838\n",
      "-----WARNING: Model s29 failed to learn: sum(ans)=120.0 sum(y)=75.0 len(y)=120\n",
      "\tAROUSAL-s29-DASM|Acc=0.625|10-CV=0.51667|STD=0.07341|Time spend=0.20953822135925293\n",
      "-----WARNING: Model s29 failed to learn: sum(ans)=120.0 sum(y)=75.0 len(y)=120\n",
      "\tAROUSAL-s29-RASM|Acc=0.625|10-CV=0.53|STD=0.09|Time spend=0.22203421592712402\n",
      "\tAROUSAL-s29-DCAU|Acc=0.63333|10-CV=0.51333|STD=0.08969|Time spend=0.23476099967956543\n",
      "\tAROUSAL-s30-DASM|Acc=0.66667|10-CV=0.45667|STD=0.08439|Time spend=0.2101120948791504\n",
      "\tAROUSAL-s30-RASM|Acc=0.58333|10-CV=0.48333|STD=0.10567|Time spend=0.22312283515930176\n",
      "\tAROUSAL-s30-DCAU|Acc=0.64167|10-CV=0.45667|STD=0.0895|Time spend=0.23539257049560547\n",
      "\tAROUSAL-s31-DASM|Acc=0.68333|10-CV=0.57|STD=0.16428|Time spend=0.22246098518371582\n",
      "\tAROUSAL-s31-RASM|Acc=0.59167|10-CV=0.48333|STD=0.12405|Time spend=0.23581600189208984\n",
      "\tAROUSAL-s31-DCAU|Acc=0.675|10-CV=0.55|STD=0.14318|Time spend=0.24820542335510254\n",
      "-----WARNING: Model s32 failed to learn: sum(ans)=120.0 sum(y)=81.0 len(y)=120\n",
      "\tAROUSAL-s32-DASM|Acc=0.675|10-CV=0.75|STD=0.13924|Time spend=0.23534035682678223\n",
      "\tAROUSAL-s32-RASM|Acc=0.68333|10-CV=0.75333|STD=0.1376|Time spend=0.253079891204834\n",
      "-----WARNING: Model s32 failed to learn: sum(ans)=120.0 sum(y)=81.0 len(y)=120\n",
      "\tAROUSAL-s32-DCAU|Acc=0.675|10-CV=0.69333|STD=0.12806|Time spend=0.26880335807800293\n",
      "AROUSAL-DASM|Acc=0.6809895833333335|10-CV=0.6186458333333332|STD=0.11432237144970137\n",
      "AROUSAL-RASM|Acc=0.6666666666666667|10-CV=0.6053125000000001|STD=0.1148505869956089\n",
      "AROUSAL-DCAU|Acc=0.6859375000000002|10-CV=0.6114583333333332|STD=0.11172282296160267\n",
      "-----WARNING: Model s01 failed to learn: sum(ans)=0.0 sum(y)=57.0 len(y)=120\n",
      "\tVALENCE-s01-DASM|Acc=0.525|10-CV=0.39|STD=0.0895|Time spend=0.26641225814819336\n",
      "\tVALENCE-s01-RASM|Acc=0.53333|10-CV=0.41667|STD=0.07491|Time spend=0.2797985076904297\n",
      "-----WARNING: Model s01 failed to learn: sum(ans)=0.0 sum(y)=57.0 len(y)=120\n",
      "\tVALENCE-s01-DCAU|Acc=0.525|10-CV=0.41667|STD=0.07341|Time spend=0.29411768913269043\n",
      "\tVALENCE-s02-DASM|Acc=0.71667|10-CV=0.54333|STD=0.14686|Time spend=0.22430181503295898\n",
      "\tVALENCE-s02-RASM|Acc=0.70833|10-CV=0.52333|STD=0.13503|Time spend=0.23604702949523926\n",
      "\tVALENCE-s02-DCAU|Acc=0.725|10-CV=0.64667|STD=0.10873|Time spend=0.24778103828430176\n",
      "-----WARNING: Model s03 failed to learn: sum(ans)=120.0 sum(y)=66.0 len(y)=120\n",
      "\tVALENCE-s03-DASM|Acc=0.55|10-CV=0.40333|STD=0.11874|Time spend=0.20757246017456055\n",
      "-----WARNING: Model s03 failed to learn: sum(ans)=120.0 sum(y)=66.0 len(y)=120\n",
      "\tVALENCE-s03-RASM|Acc=0.55|10-CV=0.40333|STD=0.12776|Time spend=0.22069859504699707\n",
      "-----WARNING: Model s03 failed to learn: sum(ans)=120.0 sum(y)=66.0 len(y)=120\n",
      "\tVALENCE-s03-DCAU|Acc=0.55|10-CV=0.4|STD=0.11643|Time spend=0.23450708389282227\n",
      "\tVALENCE-s04-DASM|Acc=0.7|10-CV=0.49667|STD=0.08226|Time spend=0.20047473907470703\n",
      "\tVALENCE-s04-RASM|Acc=0.70833|10-CV=0.57333|STD=0.10832|Time spend=0.2109994888305664\n",
      "\tVALENCE-s04-DCAU|Acc=0.725|10-CV=0.58333|STD=0.09098|Time spend=0.22188091278076172\n",
      "\tVALENCE-s05-DASM|Acc=0.60833|10-CV=0.57333|STD=0.09866|Time spend=0.19873380661010742\n",
      "\tVALENCE-s05-RASM|Acc=0.65833|10-CV=0.55|STD=0.10028|Time spend=0.21065139770507812\n",
      "\tVALENCE-s05-DCAU|Acc=0.64167|10-CV=0.58333|STD=0.12758|Time spend=0.22228455543518066\n",
      "-----WARNING: Model s06 failed to learn: sum(ans)=120.0 sum(y)=90.0 len(y)=120\n",
      "\tVALENCE-s06-DASM|Acc=0.75|10-CV=0.72|STD=0.07483|Time spend=0.1973254680633545\n",
      "-----WARNING: Model s06 failed to learn: sum(ans)=120.0 sum(y)=90.0 len(y)=120\n",
      "\tVALENCE-s06-RASM|Acc=0.75|10-CV=0.72|STD=0.07483|Time spend=0.210005521774292\n",
      "-----WARNING: Model s06 failed to learn: sum(ans)=120.0 sum(y)=90.0 len(y)=120\n",
      "\tVALENCE-s06-DCAU|Acc=0.75|10-CV=0.72|STD=0.07483|Time spend=0.2220609188079834\n",
      "-----WARNING: Model s07 failed to learn: sum(ans)=120.0 sum(y)=84.0 len(y)=120\n",
      "\tVALENCE-s07-DASM|Acc=0.7|10-CV=0.69|STD=0.13748|Time spend=0.20841288566589355\n",
      "-----WARNING: Model s07 failed to learn: sum(ans)=120.0 sum(y)=84.0 len(y)=120\n",
      "\tVALENCE-s07-RASM|Acc=0.7|10-CV=0.69|STD=0.13748|Time spend=0.22141051292419434\n",
      "-----WARNING: Model s07 failed to learn: sum(ans)=120.0 sum(y)=84.0 len(y)=120\n",
      "\tVALENCE-s07-DCAU|Acc=0.7|10-CV=0.69|STD=0.13748|Time spend=0.23408937454223633\n",
      "\tVALENCE-s08-DASM|Acc=0.71667|10-CV=0.50667|STD=0.1052|Time spend=0.2086179256439209\n",
      "\tVALENCE-s08-RASM|Acc=0.55833|10-CV=0.43|STD=0.09713|Time spend=0.22048664093017578\n",
      "\tVALENCE-s08-DCAU|Acc=0.725|10-CV=0.51333|STD=0.10242|Time spend=0.23128294944763184\n",
      "\tVALENCE-s09-DASM|Acc=0.71667|10-CV=0.50333|STD=0.20841|Time spend=0.2050457000732422\n",
      "\tVALENCE-s09-RASM|Acc=0.73333|10-CV=0.58333|STD=0.13601|Time spend=0.2193617820739746\n",
      "\tVALENCE-s09-DCAU|Acc=0.74167|10-CV=0.57667|STD=0.17515|Time spend=0.23015785217285156\n",
      "\tVALENCE-s10-DASM|Acc=0.73333|10-CV=0.64667|STD=0.1384|Time spend=0.2228684425354004\n",
      "\tVALENCE-s10-RASM|Acc=0.775|10-CV=0.74333|STD=0.12914|Time spend=0.2339615821838379\n",
      "\tVALENCE-s10-DCAU|Acc=0.8|10-CV=0.71|STD=0.09315|Time spend=0.24691557884216309\n",
      "\tVALENCE-s11-DASM|Acc=0.70833|10-CV=0.61667|STD=0.17401|Time spend=0.2068312168121338\n",
      "\tVALENCE-s11-RASM|Acc=0.71667|10-CV=0.61667|STD=0.14318|Time spend=0.21868467330932617\n",
      "\tVALENCE-s11-DCAU|Acc=0.70833|10-CV=0.61333|STD=0.13098|Time spend=0.23153162002563477\n",
      "\tVALENCE-s12-DASM|Acc=0.70833|10-CV=0.53|STD=0.18224|Time spend=0.1977214813232422\n",
      "\tVALENCE-s12-RASM|Acc=0.58333|10-CV=0.42667|STD=0.13482|Time spend=0.21111416816711426\n",
      "\tVALENCE-s12-DCAU|Acc=0.64167|10-CV=0.48333|STD=0.19394|Time spend=0.2231125831604004\n",
      "\tVALENCE-s13-DASM|Acc=0.775|10-CV=0.70333|STD=0.12601|Time spend=0.20321440696716309\n",
      "\tVALENCE-s13-RASM|Acc=0.70833|10-CV=0.56|STD=0.12806|Time spend=0.21917510032653809\n",
      "\tVALENCE-s13-DCAU|Acc=0.79167|10-CV=0.78667|STD=0.11566|Time spend=0.23206067085266113\n",
      "\tVALENCE-s14-DASM|Acc=0.725|10-CV=0.46667|STD=0.12996|Time spend=0.20531630516052246\n",
      "\tVALENCE-s14-RASM|Acc=0.66667|10-CV=0.40667|STD=0.13728|Time spend=0.21766424179077148\n",
      "\tVALENCE-s14-DCAU|Acc=0.70833|10-CV=0.48667|STD=0.13679|Time spend=0.23171043395996094\n",
      "\tVALENCE-s15-DASM|Acc=0.80833|10-CV=0.69|STD=0.1096|Time spend=0.21022486686706543\n",
      "\tVALENCE-s15-RASM|Acc=0.525|10-CV=0.38333|STD=0.07341|Time spend=0.22339415550231934\n",
      "\tVALENCE-s15-DCAU|Acc=0.78333|10-CV=0.72333|STD=0.1044|Time spend=0.23573780059814453\n",
      "\tVALENCE-s16-DASM|Acc=0.73333|10-CV=0.62667|STD=0.1052|Time spend=0.20164871215820312\n",
      "\tVALENCE-s16-RASM|Acc=0.63333|10-CV=0.64|STD=0.10198|Time spend=0.21417951583862305\n",
      "\tVALENCE-s16-DCAU|Acc=0.75|10-CV=0.63|STD=0.09826|Time spend=0.22576069831848145\n",
      "-----WARNING: Model s17 failed to learn: sum(ans)=120.0 sum(y)=66.0 len(y)=120\n",
      "\tVALENCE-s17-DASM|Acc=0.55|10-CV=0.42667|STD=0.12979|Time spend=0.19904613494873047\n",
      "\tVALENCE-s17-RASM|Acc=0.59167|10-CV=0.47667|STD=0.16469|Time spend=0.21141409873962402\n",
      "-----WARNING: Model s17 failed to learn: sum(ans)=120.0 sum(y)=66.0 len(y)=120\n",
      "\tVALENCE-s17-DCAU|Acc=0.55|10-CV=0.42667|STD=0.12543|Time spend=0.2240767478942871\n",
      "\tVALENCE-s18-DASM|Acc=0.83333|10-CV=0.63333|STD=0.19032|Time spend=0.2068932056427002\n",
      "\tVALENCE-s18-RASM|Acc=0.625|10-CV=0.57|STD=0.14716|Time spend=0.2190854549407959\n",
      "\tVALENCE-s18-DCAU|Acc=0.8|10-CV=0.67333|STD=0.15114|Time spend=0.23018980026245117\n",
      "\tVALENCE-s19-DASM|Acc=0.60833|10-CV=0.45667|STD=0.14911|Time spend=0.20074677467346191\n",
      "\tVALENCE-s19-RASM|Acc=0.58333|10-CV=0.43667|STD=0.19348|Time spend=0.21413230895996094\n",
      "\tVALENCE-s19-DCAU|Acc=0.61667|10-CV=0.48|STD=0.15578|Time spend=0.22629404067993164\n",
      "\tVALENCE-s20-DASM|Acc=0.74167|10-CV=0.60667|STD=0.16918|Time spend=0.22139286994934082\n",
      "\tVALENCE-s20-RASM|Acc=0.65|10-CV=0.47|STD=0.15308|Time spend=0.2324686050415039\n",
      "\tVALENCE-s20-DCAU|Acc=0.80833|10-CV=0.57333|STD=0.16786|Time spend=0.24564695358276367\n",
      "\tVALENCE-s21-DASM|Acc=0.64167|10-CV=0.44333|STD=0.13085|Time spend=0.20261716842651367\n",
      "\tVALENCE-s21-RASM|Acc=0.63333|10-CV=0.46667|STD=0.11738|Time spend=0.2147660255432129\n",
      "\tVALENCE-s21-DCAU|Acc=0.6|10-CV=0.44333|STD=0.1193|Time spend=0.22672319412231445\n",
      "\tVALENCE-s22-DASM|Acc=0.61667|10-CV=0.58667|STD=0.1572|Time spend=0.20180654525756836\n",
      "\tVALENCE-s22-RASM|Acc=0.625|10-CV=0.55|STD=0.14083|Time spend=0.21482133865356445\n",
      "\tVALENCE-s22-DCAU|Acc=0.625|10-CV=0.58|STD=0.16479|Time spend=0.22708821296691895\n",
      "-----WARNING: Model s23 failed to learn: sum(ans)=120.0 sum(y)=78.0 len(y)=120\n",
      "\tVALENCE-s23-DASM|Acc=0.65|10-CV=0.61|STD=0.15133|Time spend=0.23186802864074707\n",
      "\tVALENCE-s23-RASM|Acc=0.65833|10-CV=0.61|STD=0.15133|Time spend=0.2471301555633545\n",
      "-----WARNING: Model s23 failed to learn: sum(ans)=120.0 sum(y)=78.0 len(y)=120\n",
      "\tVALENCE-s23-DCAU|Acc=0.65|10-CV=0.61|STD=0.15133|Time spend=0.260303258895874\n",
      "-----WARNING: Model s24 failed to learn: sum(ans)=0.0 sum(y)=54.0 len(y)=120\n",
      "\tVALENCE-s24-DASM|Acc=0.55|10-CV=0.43|STD=0.18466|Time spend=0.29492783546447754\n",
      "\tVALENCE-s24-RASM|Acc=0.64167|10-CV=0.43333|STD=0.19379|Time spend=0.3092010021209717\n",
      "\tVALENCE-s24-DCAU|Acc=0.58333|10-CV=0.43667|STD=0.18941|Time spend=0.3239114284515381\n",
      "-----WARNING: Model s25 failed to learn: sum(ans)=0.0 sum(y)=57.0 len(y)=120\n",
      "\tVALENCE-s25-DASM|Acc=0.525|10-CV=0.36667|STD=0.1022|Time spend=0.23803138732910156\n",
      "-----WARNING: Model s25 failed to learn: sum(ans)=0.0 sum(y)=57.0 len(y)=120\n",
      "\tVALENCE-s25-RASM|Acc=0.525|10-CV=0.34667|STD=0.10349|Time spend=0.2495863437652588\n",
      "\tVALENCE-s25-DCAU|Acc=0.53333|10-CV=0.36|STD=0.09978|Time spend=0.2619051933288574\n",
      "\tVALENCE-s26-DASM|Acc=0.675|10-CV=0.61333|STD=0.1392|Time spend=0.20288991928100586\n",
      "\tVALENCE-s26-RASM|Acc=0.65833|10-CV=0.62333|STD=0.14224|Time spend=0.2173008918762207\n",
      "\tVALENCE-s26-DCAU|Acc=0.68333|10-CV=0.62667|STD=0.14817|Time spend=0.2300724983215332\n",
      "-----WARNING: Model s27 failed to learn: sum(ans)=120.0 sum(y)=90.0 len(y)=120\n",
      "\tVALENCE-s27-DASM|Acc=0.75|10-CV=0.67|STD=0.12689|Time spend=0.21568822860717773\n",
      "\tVALENCE-s27-RASM|Acc=0.76667|10-CV=0.67|STD=0.12689|Time spend=0.2269301414489746\n",
      "-----WARNING: Model s27 failed to learn: sum(ans)=120.0 sum(y)=90.0 len(y)=120\n",
      "\tVALENCE-s27-DCAU|Acc=0.75|10-CV=0.67|STD=0.12689|Time spend=0.23933792114257812\n",
      "-----WARNING: Model s28 failed to learn: sum(ans)=120.0 sum(y)=75.0 len(y)=120\n",
      "\tVALENCE-s28-DASM|Acc=0.625|10-CV=0.59333|STD=0.17436|Time spend=0.22725462913513184\n",
      "\tVALENCE-s28-RASM|Acc=0.675|10-CV=0.55|STD=0.14083|Time spend=0.24100303649902344\n",
      "-----WARNING: Model s28 failed to learn: sum(ans)=120.0 sum(y)=75.0 len(y)=120\n",
      "\tVALENCE-s28-DCAU|Acc=0.625|10-CV=0.61|STD=0.19209|Time spend=0.256793737411499\n",
      "\tVALENCE-s29-DASM|Acc=0.70833|10-CV=0.55|STD=0.11949|Time spend=0.20633792877197266\n",
      "\tVALENCE-s29-RASM|Acc=0.58333|10-CV=0.56|STD=0.12|Time spend=0.2177107334136963\n",
      "\tVALENCE-s29-DCAU|Acc=0.73333|10-CV=0.52667|STD=0.11528|Time spend=0.22997188568115234\n",
      "-----WARNING: Model s30 failed to learn: sum(ans)=120.0 sum(y)=81.0 len(y)=120\n",
      "\tVALENCE-s30-DASM|Acc=0.675|10-CV=0.62|STD=0.14697|Time spend=0.2022101879119873\n",
      "-----WARNING: Model s30 failed to learn: sum(ans)=120.0 sum(y)=81.0 len(y)=120\n",
      "\tVALENCE-s30-RASM|Acc=0.675|10-CV=0.62|STD=0.14697|Time spend=0.21528148651123047\n",
      "-----WARNING: Model s30 failed to learn: sum(ans)=120.0 sum(y)=81.0 len(y)=120\n",
      "\tVALENCE-s30-DCAU|Acc=0.675|10-CV=0.62|STD=0.14697|Time spend=0.22773170471191406\n",
      "-----WARNING: Model s31 failed to learn: sum(ans)=120.0 sum(y)=69.0 len(y)=120\n",
      "\tVALENCE-s31-DASM|Acc=0.575|10-CV=0.49|STD=0.1116|Time spend=0.19899487495422363\n",
      "\tVALENCE-s31-RASM|Acc=0.61667|10-CV=0.44667|STD=0.1147|Time spend=0.2104792594909668\n",
      "-----WARNING: Model s31 failed to learn: sum(ans)=120.0 sum(y)=69.0 len(y)=120\n",
      "\tVALENCE-s31-DCAU|Acc=0.575|10-CV=0.45333|STD=0.12927|Time spend=0.2215876579284668\n",
      "\tVALENCE-s32-DASM|Acc=0.65833|10-CV=0.57667|STD=0.14067|Time spend=0.19760704040527344\n",
      "\tVALENCE-s32-RASM|Acc=0.58333|10-CV=0.46|STD=0.21177|Time spend=0.21053433418273926\n",
      "\tVALENCE-s32-DCAU|Acc=0.74167|10-CV=0.62|STD=0.12129|Time spend=0.22493577003479004\n",
      "VALENCE-DASM|Acc=0.6736979166666667|10-CV=0.5556249999999999|STD=0.13597371180765344\n",
      "VALENCE-RASM|Acc=0.64375|10-CV=0.5298958333333333|STD=0.13150742317087616\n",
      "VALENCE-DCAU|Acc=0.6817708333333334|10-CV=0.5710416666666668|STD=0.13078083446272776\n",
      "TOTAL-DASM|Acc=0.6773437499999998|10-CV=0.5871354166666667|STD=0.12514804162867743\n",
      "TOTAL-RASM|Acc=0.6552083333333332|10-CV=0.5676041666666666|STD=0.12317900508324255\n",
      "TOTAL-DCAU|Acc=0.6838541666666667|10-CV=0.5912499999999997|STD=0.12125182871216521\n"
     ]
    }
   ],
   "source": [
    "bands = [(0,4), (4,8), (8,12), (12,30), (30,64)]\n",
    "# [alias_feature_function]__[optional_param]\n",
    "params = dict({\n",
    "    'pow_freq_bands__log':True,\n",
    "    'pow_freq_bands__normalize':False,\n",
    "    'pow_freq_bands__freq_bands':bands\n",
    "})\n",
    "\n",
    "accs,cv_means,cv_stds  = {'DASM':[],'RASM':[],'DCAU':[]},{'DASM':[],'RASM':[],'DCAU':[]},{'DASM':[],'RASM':[],'DCAU':[]}\n",
    "# count = 0\n",
    "for filename in dataset.get_file_list():\n",
    "    start = time.time()\n",
    "    data, labels, groups = dataset.get_data(filename, stimuli=Dataset_subjectDependent.STIMULI_AROUSAL, return_type='numpy')\n",
    "    fe = FeatureExtractor(sfreq=128, selected_funcs=['pow_freq_bands'],params=params,n_jobs=8)\n",
    "    X = fe.fit_transform(X=data)\n",
    "\n",
    "    PSD_left = X[:, left_channel_indexes].copy()\n",
    "    PSD_right = X[:, right_channel_indexes].copy()\n",
    "    PSD_frontal = X[:, frontal_channel_indexes].copy()\n",
    "    PSD_posterior = X[:, posterior_channel_indexes].copy()\n",
    "    X = {\n",
    "        'DASM': PSD_left - PSD_right,\n",
    "        'RASM': PSD_left / PSD_right,\n",
    "        'DCAU': PSD_frontal - PSD_posterior,\n",
    "    }\n",
    "\n",
    "    for feature_name in ['DASM','RASM','DCAU']:\n",
    "        _, acc, cross = train_model(X[feature_name], labels.reshape(-1), groups, filename=filename)\n",
    "        print(f\"\\tAROUSAL-{filename}-{feature_name}|Acc={round(acc,5)}|10-CV={round(cross.mean(),5)}|STD={round(cross.std(),5)}|Time spend={time.time() - start}\")\n",
    "        accs[feature_name].append(acc)\n",
    "        cv_means[feature_name].append(cross.mean())\n",
    "        cv_stds[feature_name].append(cross.std())\n",
    "    # count+=1\n",
    "    # if(count == 3): break\n",
    "for feature_name in ['DASM','RASM','DCAU']:\n",
    "    print(f\"AROUSAL-{feature_name}|Acc={sum(accs[feature_name])/len(accs[feature_name])}|10-CV={sum(cv_means[feature_name])/len(cv_means[feature_name])}|STD={sum(cv_stds[feature_name])/len(cv_stds[feature_name])}\")\n",
    "\n",
    "accs_v,cv_means_v,cv_stds_v  = {'DASM':[],'RASM':[],'DCAU':[]},{'DASM':[],'RASM':[],'DCAU':[]},{'DASM':[],'RASM':[],'DCAU':[]}\n",
    "# count=0\n",
    "for filename in dataset.get_file_list():\n",
    "    start = time.time()\n",
    "    data, labels, groups = dataset.get_data(filename, stimuli=Dataset_subjectDependent.STIMULI_VALENCE, return_type='numpy')\n",
    "    fe = FeatureExtractor(sfreq=128, selected_funcs=['pow_freq_bands'],params=params,n_jobs=8)\n",
    "    X = fe.fit_transform(X=data)\n",
    "\n",
    "    PSD_left = X[:, left_channel_indexes].copy()\n",
    "    PSD_right = X[:, right_channel_indexes].copy()\n",
    "    PSD_frontal = X[:, frontal_channel_indexes].copy()\n",
    "    PSD_posterior = X[:, posterior_channel_indexes].copy()\n",
    "    X = {\n",
    "        'DASM': PSD_left - PSD_right,\n",
    "        'RASM': PSD_left / PSD_right,\n",
    "        'DCAU': PSD_frontal - PSD_posterior,\n",
    "    }\n",
    "\n",
    "    for feature_name in ['DASM','RASM','DCAU']:\n",
    "        _, acc, cross = train_model(X[feature_name], labels.reshape(-1), groups, filename=filename)\n",
    "        print(f\"\\tVALENCE-{filename}-{feature_name}|Acc={round(acc,5)}|10-CV={round(cross.mean(),5)}|STD={round(cross.std(),5)}|Time spend={time.time() - start}\")\n",
    "        accs_v[feature_name].append(acc)\n",
    "        cv_means_v[feature_name].append(cross.mean())\n",
    "        cv_stds_v[feature_name].append(cross.std())\n",
    "    # count+=1\n",
    "    # if(count == 3): break\n",
    "for feature_name in ['DASM','RASM','DCAU']:\n",
    "    print(f\"VALENCE-{feature_name}|Acc={sum(accs_v[feature_name])/len(accs_v[feature_name])}|10-CV={sum(cv_means_v[feature_name])/len(cv_means_v[feature_name])}|STD={sum(cv_stds_v[feature_name])/len(cv_stds_v[feature_name])}\")\n",
    "\n",
    "for feature_name in ['DASM','RASM','DCAU']:\n",
    "    accs[feature_name].extend(accs_v[feature_name])\n",
    "    cv_means[feature_name].extend(cv_means_v[feature_name])\n",
    "    cv_stds[feature_name].extend(cv_stds_v[feature_name])\n",
    "    print(f\"TOTAL-{feature_name}|Acc={sum(accs[feature_name])/len(accs[feature_name])}|10-CV={sum(cv_means[feature_name])/len(cv_means[feature_name])}|STD={sum(cv_stds[feature_name])/len(cv_stds[feature_name])}\")"
   ]
  },
  {
   "cell_type": "markdown",
   "metadata": {},
   "source": [
    "## 4. Connectivity\n",
    "\n",
    "### 4.1 $ \\text{PCC}_{\\text{time}}(i,j) = \\frac{\\text{Cov}[\\mathbf{X}_i, \\mathbf{X}_j]}{\\sigma_{\\mathbf{X}_i} \\sigma_{\\mathbf{X}_j}} $"
   ]
  },
  {
   "cell_type": "code",
   "execution_count": 7,
   "metadata": {},
   "outputs": [],
   "source": [
    "\n",
    "def pearson_correlation(x,y):\n",
    "    \"\"\" x,y denoted the signal_x and signal_y following the equation \"\"\"\n",
    "    cov = np.cov(x, y)\n",
    "    # print(cov)\n",
    "    # [[ 8806859.74527069  8007149.0906219 ] ==> [[cov_xx, cov_xy]\n",
    "    # [ 8007149.0906219  10396797.72458848]]      [cov_yx, cov_yy]]\n",
    "    cov_xy = cov[0,1] # or cov[1,0]\n",
    "    cov_xx = cov[0,0]\n",
    "    cov_yy = cov[1,1]\n",
    "    corr = cov_xy / ( cov_xx**0.5 * cov_yy**0.5  )\n",
    "    return corr\n",
    "\n",
    "def _cal(p_id, partial_data):\n",
    "    # print(f\"p_id:{p_id} - data to run {partial_data.shape}\")\n",
    "    from itertools import combinations\n",
    "    pcc = []\n",
    "    for index in range(partial_data.shape[0]):\n",
    "        pcc_epoch = []\n",
    "        for comb in combinations(list(range(partial_data.shape[1])), 2):\n",
    "            pcc_ab = pearson_correlation(partial_data[index, comb[0], :], partial_data[index, comb[1], :]   )\n",
    "            pcc_epoch.append(pcc_ab)\n",
    "        pcc_epoch = np.hstack(pcc_epoch)\n",
    "        pcc.append(pcc_epoch)\n",
    "    pcc = np.vstack(pcc)\n",
    "    return pcc\n",
    "\n",
    "def calculate_pcc(data, n_jobs=8):\n",
    "    \"\"\" \n",
    "    Input: Expect data to have (n_epochs, n_channels, n_samples)\n",
    "    Output: (n_epochs, n_conn ) => n_conn = n_channels!/(2!(n_channels-2)!)\n",
    "    \"\"\"\n",
    "    from multiprocessing import Pool\n",
    "\n",
    "    try:\n",
    "        t_out = 60000\n",
    "        pool = Pool()\n",
    "        p_list = []\n",
    "        ans_list = []\n",
    "        num_p = n_jobs\n",
    "        indices = np.array_split(np.arange(data.shape[0]), num_p)\n",
    "        for p_id in range(num_p):\n",
    "            p_list.append(pool.apply_async(_cal, [p_id, data[indices[p_id]] ]))\n",
    "        for p_id in range(num_p):\n",
    "            ans_list.append( p_list[p_id].get(timeout=t_out) )\n",
    "        # ans_list\n",
    "    except Exception as e:\n",
    "        print(e)\n",
    "    finally:\n",
    "        print(\"========= close ========\")\n",
    "        pool.close() \n",
    "        pool.terminate()\n",
    "    return np.vstack(ans_list)"
   ]
  },
  {
   "cell_type": "code",
   "execution_count": 8,
   "metadata": {},
   "outputs": [
    {
     "data": {
      "application/vnd.jupyter.widget-view+json": {
       "model_id": "4454f4e42aa54680862a06d05af4fa92",
       "version_major": 2,
       "version_minor": 0
      },
      "text/plain": [
       "  0%|          | 0/32 [00:00<?, ?it/s]"
      ]
     },
     "metadata": {},
     "output_type": "display_data"
    },
    {
     "name": "stdout",
     "output_type": "stream",
     "text": [
      "Fitted sphere radius:         95.3 mm\n",
      "Origin head coordinates:      -0.8 15.1 45.3 mm\n",
      "Origin device coordinates:    -0.8 15.1 45.3 mm\n",
      "========= close ========\n",
      "\tAROUSAL-s01|Acc=0.6|10-CV=0.56|STD=0.15902|Time spend=1.3260257244110107\n",
      "\tVALENCE-s01|Acc=0.6|10-CV=0.40667|STD=0.08406|Time spend=1.39223313331604\n",
      "Fitted sphere radius:         95.3 mm\n",
      "Origin head coordinates:      -0.8 15.1 45.3 mm\n",
      "Origin device coordinates:    -0.8 15.1 45.3 mm\n",
      "========= close ========\n",
      "\tAROUSAL-s02|Acc=0.6|10-CV=0.57|STD=0.13454|Time spend=1.0074682235717773\n",
      "\tVALENCE-s02|Acc=0.55|10-CV=0.47333|STD=0.10306|Time spend=1.063878059387207\n",
      "Fitted sphere radius:         95.3 mm\n",
      "Origin head coordinates:      -0.8 15.1 45.3 mm\n",
      "Origin device coordinates:    -0.8 15.1 45.3 mm\n",
      "========= close ========\n",
      "\tAROUSAL-s03|Acc=0.8|10-CV=0.73|STD=0.15524|Time spend=1.1366753578186035\n",
      "\tVALENCE-s03|Acc=0.55|10-CV=0.42333|STD=0.11455|Time spend=1.211927890777588\n",
      "Fitted sphere radius:         95.3 mm\n",
      "Origin head coordinates:      -0.8 15.1 45.3 mm\n",
      "Origin device coordinates:    -0.8 15.1 45.3 mm\n",
      "========= close ========\n",
      "\tAROUSAL-s04|Acc=0.6|10-CV=0.54|STD=0.22|Time spend=1.008270502090454\n",
      "\tVALENCE-s04|Acc=0.6|10-CV=0.49|STD=0.18682|Time spend=1.064056634902954\n",
      "Fitted sphere radius:         95.3 mm\n",
      "Origin head coordinates:      -0.8 15.1 45.3 mm\n",
      "Origin device coordinates:    -0.8 15.1 45.3 mm\n",
      "========= close ========\n",
      "\tAROUSAL-s05|Acc=0.525|10-CV=0.4|STD=0.10328|Time spend=1.1396563053131104\n",
      "\tVALENCE-s05|Acc=0.6|10-CV=0.59|STD=0.09434|Time spend=1.2010819911956787\n",
      "Fitted sphere radius:         95.3 mm\n",
      "Origin head coordinates:      -0.8 15.1 45.3 mm\n",
      "Origin device coordinates:    -0.8 15.1 45.3 mm\n",
      "========= close ========\n",
      "\tAROUSAL-s06|Acc=0.575|10-CV=0.53|STD=0.14177|Time spend=0.9674055576324463\n",
      "\tVALENCE-s06|Acc=0.75|10-CV=0.72|STD=0.07483|Time spend=1.0234248638153076\n",
      "Fitted sphere radius:         95.3 mm\n",
      "Origin head coordinates:      -0.8 15.1 45.3 mm\n",
      "Origin device coordinates:    -0.8 15.1 45.3 mm\n",
      "========= close ========\n",
      "\tAROUSAL-s07|Acc=0.625|10-CV=0.64|STD=0.12806|Time spend=0.9464762210845947\n",
      "\tVALENCE-s07|Acc=0.7|10-CV=0.68667|STD=0.13266|Time spend=1.0153617858886719\n",
      "Fitted sphere radius:         95.3 mm\n",
      "Origin head coordinates:      -0.8 15.1 45.3 mm\n",
      "Origin device coordinates:    -0.8 15.1 45.3 mm\n",
      "========= close ========\n",
      "\tAROUSAL-s08|Acc=0.575|10-CV=0.45333|STD=0.12927|Time spend=1.0867195129394531\n",
      "\tVALENCE-s08|Acc=0.69167|10-CV=0.55|STD=0.11475|Time spend=1.1533162593841553\n",
      "Fitted sphere radius:         95.3 mm\n",
      "Origin head coordinates:      -0.8 15.1 45.3 mm\n",
      "Origin device coordinates:    -0.8 15.1 45.3 mm\n",
      "========= close ========\n",
      "\tAROUSAL-s09|Acc=0.6|10-CV=0.54|STD=0.12|Time spend=1.070582389831543\n",
      "\tVALENCE-s09|Acc=0.66667|10-CV=0.45667|STD=0.18382|Time spend=1.1394033432006836\n",
      "Fitted sphere radius:         95.3 mm\n",
      "Origin head coordinates:      -0.8 15.1 45.3 mm\n",
      "Origin device coordinates:    -0.8 15.1 45.3 mm\n",
      "========= close ========\n",
      "\tAROUSAL-s10|Acc=0.625|10-CV=0.48333|STD=0.07032|Time spend=0.9667458534240723\n",
      "\tVALENCE-s10|Acc=0.75833|10-CV=0.61|STD=0.20873|Time spend=1.0250270366668701\n",
      "Fitted sphere radius:         95.3 mm\n",
      "Origin head coordinates:      -0.8 15.1 45.3 mm\n",
      "Origin device coordinates:    -0.8 15.1 45.3 mm\n",
      "========= close ========\n",
      "\tAROUSAL-s11|Acc=0.625|10-CV=0.63|STD=0.11|Time spend=1.03621506690979\n",
      "\tVALENCE-s11|Acc=0.6|10-CV=0.56|STD=0.16852|Time spend=1.1014704704284668\n",
      "Fitted sphere radius:         95.3 mm\n",
      "Origin head coordinates:      -0.8 15.1 45.3 mm\n",
      "Origin device coordinates:    -0.8 15.1 45.3 mm\n",
      "========= close ========\n",
      "\tAROUSAL-s12|Acc=0.825|10-CV=0.83|STD=0.1005|Time spend=1.012413740158081\n",
      "\tVALENCE-s12|Acc=0.53333|10-CV=0.42|STD=0.1249|Time spend=1.0707950592041016\n",
      "Fitted sphere radius:         95.3 mm\n",
      "Origin head coordinates:      -0.8 15.1 45.3 mm\n",
      "Origin device coordinates:    -0.8 15.1 45.3 mm\n",
      "========= close ========\n",
      "\tAROUSAL-s13|Acc=0.85|10-CV=0.84|STD=0.06633|Time spend=1.0396404266357422\n",
      "\tVALENCE-s13|Acc=0.79167|10-CV=0.65333|STD=0.1376|Time spend=1.1090772151947021\n",
      "Fitted sphere radius:         95.3 mm\n",
      "Origin head coordinates:      -0.8 15.1 45.3 mm\n",
      "Origin device coordinates:    -0.8 15.1 45.3 mm\n",
      "========= close ========\n",
      "\tAROUSAL-s14|Acc=0.675|10-CV=0.65|STD=0.10247|Time spend=1.0357704162597656\n",
      "\tVALENCE-s14|Acc=0.64167|10-CV=0.37|STD=0.0752|Time spend=1.0936470031738281\n",
      "Fitted sphere radius:         95.3 mm\n",
      "Origin head coordinates:      -0.8 15.1 45.3 mm\n",
      "Origin device coordinates:    -0.8 15.1 45.3 mm\n",
      "========= close ========\n",
      "\tAROUSAL-s15|Acc=0.525|10-CV=0.41|STD=0.11455|Time spend=1.2425642013549805\n",
      "\tVALENCE-s15|Acc=0.75|10-CV=0.72|STD=0.08718|Time spend=1.3041672706604004\n",
      "Fitted sphere radius:         95.3 mm\n",
      "Origin head coordinates:      -0.8 15.1 45.3 mm\n",
      "Origin device coordinates:    -0.8 15.1 45.3 mm\n",
      "========= close ========\n",
      "\tAROUSAL-s16|Acc=0.58333|10-CV=0.34667|STD=0.10456|Time spend=0.9101669788360596\n",
      "\tVALENCE-s16|Acc=0.625|10-CV=0.64|STD=0.10198|Time spend=0.9733738899230957\n",
      "Fitted sphere radius:         95.3 mm\n",
      "Origin head coordinates:      -0.8 15.1 45.3 mm\n",
      "Origin device coordinates:    -0.8 15.1 45.3 mm\n",
      "========= close ========\n",
      "\tAROUSAL-s17|Acc=0.6|10-CV=0.56|STD=0.09165|Time spend=1.0078675746917725\n",
      "\tVALENCE-s17|Acc=0.55|10-CV=0.39667|STD=0.12689|Time spend=1.0771772861480713\n",
      "Fitted sphere radius:         95.3 mm\n",
      "Origin head coordinates:      -0.8 15.1 45.3 mm\n",
      "Origin device coordinates:    -0.8 15.1 45.3 mm\n",
      "========= close ========\n",
      "\tAROUSAL-s18|Acc=0.625|10-CV=0.59|STD=0.12207|Time spend=1.0362980365753174\n",
      "\tVALENCE-s18|Acc=0.68333|10-CV=0.57667|STD=0.15424|Time spend=1.0973670482635498\n",
      "Fitted sphere radius:         95.3 mm\n",
      "Origin head coordinates:      -0.8 15.1 45.3 mm\n",
      "Origin device coordinates:    -0.8 15.1 45.3 mm\n",
      "========= close ========\n",
      "\tAROUSAL-s19|Acc=0.68333|10-CV=0.63|STD=0.13454|Time spend=0.977353572845459\n",
      "\tVALENCE-s19|Acc=0.59167|10-CV=0.46333|STD=0.15235|Time spend=1.0426688194274902\n",
      "Fitted sphere radius:         95.3 mm\n",
      "Origin head coordinates:      -0.8 15.1 45.3 mm\n",
      "Origin device coordinates:    -0.8 15.1 45.3 mm\n",
      "========= close ========\n",
      "\tAROUSAL-s20|Acc=0.775|10-CV=0.82|STD=0.08718|Time spend=1.0618188381195068\n",
      "\tVALENCE-s20|Acc=0.69167|10-CV=0.50667|STD=0.16111|Time spend=1.117936372756958\n",
      "Fitted sphere radius:         95.3 mm\n",
      "Origin head coordinates:      -0.8 15.1 45.3 mm\n",
      "Origin device coordinates:    -0.8 15.1 45.3 mm\n",
      "========= close ========\n",
      "\tAROUSAL-s21|Acc=0.8|10-CV=0.8|STD=0.1|Time spend=0.9047181606292725\n",
      "\tVALENCE-s21|Acc=0.59167|10-CV=0.40333|STD=0.1005|Time spend=0.9695632457733154\n",
      "Fitted sphere radius:         95.3 mm\n",
      "Origin head coordinates:      -0.8 15.1 45.3 mm\n",
      "Origin device coordinates:    -0.8 15.1 45.3 mm\n",
      "========= close ========\n",
      "\tAROUSAL-s22|Acc=0.6|10-CV=0.61|STD=0.07|Time spend=0.965764045715332\n",
      "\tVALENCE-s22|Acc=0.55|10-CV=0.54333|STD=0.12477|Time spend=1.0231671333312988\n",
      "Fitted sphere radius:         95.3 mm\n",
      "Origin head coordinates:      -0.8 15.1 45.3 mm\n",
      "Origin device coordinates:    -0.8 15.1 45.3 mm\n",
      "========= close ========\n",
      "\tAROUSAL-s23|Acc=0.75|10-CV=0.78|STD=0.09798|Time spend=1.103214979171753\n",
      "\tVALENCE-s23|Acc=0.65|10-CV=0.61|STD=0.15133|Time spend=1.1790409088134766\n",
      "Fitted sphere radius:         95.3 mm\n",
      "Origin head coordinates:      -0.8 15.1 45.3 mm\n",
      "Origin device coordinates:    -0.8 15.1 45.3 mm\n",
      "========= close ========\n",
      "\tAROUSAL-s24|Acc=0.825|10-CV=0.82|STD=0.07483|Time spend=0.982703685760498\n",
      "\tVALENCE-s24|Acc=0.55|10-CV=0.42|STD=0.17839|Time spend=1.039996862411499\n",
      "Fitted sphere radius:         95.3 mm\n",
      "Origin head coordinates:      -0.8 15.1 45.3 mm\n",
      "Origin device coordinates:    -0.8 15.1 45.3 mm\n",
      "========= close ========\n",
      "\tAROUSAL-s25|Acc=0.725|10-CV=0.74|STD=0.12806|Time spend=0.930166482925415\n",
      "\tVALENCE-s25|Acc=0.525|10-CV=0.36667|STD=0.10646|Time spend=0.9938027858734131\n",
      "Fitted sphere radius:         95.3 mm\n",
      "Origin head coordinates:      -0.8 15.1 45.3 mm\n",
      "Origin device coordinates:    -0.8 15.1 45.3 mm\n",
      "========= close ========\n",
      "\tAROUSAL-s26|Acc=0.61667|10-CV=0.53333|STD=0.12019|Time spend=1.1122586727142334\n",
      "\tVALENCE-s26|Acc=0.65|10-CV=0.62|STD=0.14|Time spend=1.169022560119629\n",
      "Fitted sphere radius:         95.3 mm\n",
      "Origin head coordinates:      -0.8 15.1 45.3 mm\n",
      "Origin device coordinates:    -0.8 15.1 45.3 mm\n",
      "========= close ========\n",
      "\tAROUSAL-s27|Acc=0.675|10-CV=0.63667|STD=0.1005|Time spend=1.0504636764526367\n",
      "\tVALENCE-s27|Acc=0.75|10-CV=0.67|STD=0.12689|Time spend=1.115556001663208\n",
      "Fitted sphere radius:         95.3 mm\n",
      "Origin head coordinates:      -0.8 15.1 45.3 mm\n",
      "Origin device coordinates:    -0.8 15.1 45.3 mm\n",
      "========= close ========\n",
      "\tAROUSAL-s28|Acc=0.55|10-CV=0.44|STD=0.17814|Time spend=0.953669548034668\n",
      "\tVALENCE-s28|Acc=0.625|10-CV=0.57333|STD=0.1618|Time spend=1.0191552639007568\n",
      "Fitted sphere radius:         95.3 mm\n",
      "Origin head coordinates:      -0.8 15.1 45.3 mm\n",
      "Origin device coordinates:    -0.8 15.1 45.3 mm\n",
      "========= close ========\n",
      "\tAROUSAL-s29|Acc=0.625|10-CV=0.53|STD=0.09|Time spend=1.0556607246398926\n",
      "\tVALENCE-s29|Acc=0.70833|10-CV=0.58667|STD=0.14|Time spend=1.123631477355957\n",
      "Fitted sphere radius:         95.3 mm\n",
      "Origin head coordinates:      -0.8 15.1 45.3 mm\n",
      "Origin device coordinates:    -0.8 15.1 45.3 mm\n",
      "========= close ========\n",
      "\tAROUSAL-s30|Acc=0.61667|10-CV=0.49333|STD=0.09522|Time spend=1.0053043365478516\n",
      "\tVALENCE-s30|Acc=0.675|10-CV=0.62|STD=0.14697|Time spend=1.0593340396881104\n",
      "Fitted sphere radius:         95.3 mm\n",
      "Origin head coordinates:      -0.8 15.1 45.3 mm\n",
      "Origin device coordinates:    -0.8 15.1 45.3 mm\n",
      "========= close ========\n",
      "\tAROUSAL-s31|Acc=0.55833|10-CV=0.45667|STD=0.13585|Time spend=1.0111489295959473\n",
      "\tVALENCE-s31|Acc=0.575|10-CV=0.46667|STD=0.12649|Time spend=1.0756819248199463\n",
      "Fitted sphere radius:         95.3 mm\n",
      "Origin head coordinates:      -0.8 15.1 45.3 mm\n",
      "Origin device coordinates:    -0.8 15.1 45.3 mm\n",
      "========= close ========\n",
      "\tAROUSAL-s32|Acc=0.675|10-CV=0.75|STD=0.13601|Time spend=1.0634136199951172\n",
      "\tVALENCE-s32|Acc=0.71667|10-CV=0.68|STD=0.14621|Time spend=1.1192288398742676\n",
      "AROUSAL|Acc=0.6533854166666668|10-CV=0.6044791666666668|STD=0.11631677900861107\n",
      "VALENCE|Acc=0.6403645833333333|10-CV=0.5397916666666666|STD=0.132418114449928\n"
     ]
    }
   ],
   "source": [
    "accs, cv_means, cv_stds = [],[],[]\n",
    "accs_v, cv_means_v, cv_stds_v = [],[],[]\n",
    "reports = []\n",
    "for filename in (pbar := tqdm(dataset.get_file_list())):\n",
    "    start = time.time()\n",
    "    pbar.set_description(filename)\n",
    "    data, labels, groups = dataset.get_data(filename, stimuli=Dataset_subjectDependent.STIMULI_AROUSAL, return_type='mne', sfreq=128)\n",
    "    data_csd = mne.preprocessing.compute_current_source_density(data)\n",
    "    pcc = calculate_pcc(data_csd.get_data())\n",
    "    _,acc,cross,train_report = train_model(pcc, labels.squeeze(), groups, filename=filename, return_text=True)\n",
    "    report = f\"\\tAROUSAL-{filename}|Acc={round(acc,5)}|10-CV={round(cross.mean(),5)}|STD={round(cross.std(),5)}|Time spend={time.time() - start}\"\n",
    "    print(report)\n",
    "    reports.append(report)\n",
    "    reports.append(train_report)\n",
    "    accs.append(acc)\n",
    "    cv_means.append(cross.mean())\n",
    "    cv_stds.append(cross.std())\n",
    "\n",
    "    _, labels_v, groups_v = dataset.get_data(filename, stimuli=Dataset_subjectDependent.STIMULI_VALENCE, return_type='mne', sfreq=128)\n",
    "    _,acc,cross,train_report = train_model(pcc, labels_v.squeeze(), groups_v, filename=filename, return_text=True)\n",
    "    report = f\"\\tVALENCE-{filename}|Acc={round(acc,5)}|10-CV={round(cross.mean(),5)}|STD={round(cross.std(),5)}|Time spend={time.time() - start}\"\n",
    "    print(report)\n",
    "    reports.append(report)\n",
    "    reports.append(train_report)\n",
    "    accs_v.append(acc)\n",
    "    cv_means_v.append(cross.mean())\n",
    "    cv_stds_v.append(cross.std())\n",
    "    # break\n",
    "    # count+=1\n",
    "    # if(count == 5): break\n",
    "report = f\"AROUSAL|Acc={sum(accs)/len(accs)}|10-CV={sum(cv_means)/len(cv_means)}|STD={sum(cv_stds)/len(cv_stds)}\"\n",
    "print(report)\n",
    "reports.append(report)\n",
    "report = f\"VALENCE|Acc={sum(accs_v)/len(accs_v)}|10-CV={sum(cv_means_v)/len(cv_means_v)}|STD={sum(cv_stds_v)/len(cv_stds_v)}\"\n",
    "print(report)\n",
    "reports.append(report)"
   ]
  },
  {
   "cell_type": "code",
   "execution_count": 9,
   "metadata": {},
   "outputs": [
    {
     "name": "stdout",
     "output_type": "stream",
     "text": [
      "\tAROUSAL-s01|Acc=0.6|10-CV=0.56|STD=0.15902|Time spend=1.3260257244110107\n",
      "-----WARNING: Model s01 failed to learn: sum(ans)=120.0 sum(y)=72.0 len(y)=120\n",
      "\tVALENCE-s01|Acc=0.6|10-CV=0.40667|STD=0.08406|Time spend=1.39223313331604\n",
      "\tAROUSAL-s02|Acc=0.6|10-CV=0.57|STD=0.13454|Time spend=1.0074682235717773\n",
      "-----WARNING: Model s02 failed to learn: sum(ans)=120.0 sum(y)=72.0 len(y)=120\n",
      "\tVALENCE-s02|Acc=0.55|10-CV=0.47333|STD=0.10306|Time spend=1.063878059387207\n",
      "-----WARNING: Model s02 failed to learn: sum(ans)=120.0 sum(y)=66.0 len(y)=120\n",
      "\tAROUSAL-s03|Acc=0.8|10-CV=0.73|STD=0.15524|Time spend=1.1366753578186035\n",
      "-----WARNING: Model s03 failed to learn: sum(ans)=0.0 sum(y)=24.0 len(y)=120\n",
      "\tVALENCE-s03|Acc=0.55|10-CV=0.42333|STD=0.11455|Time spend=1.211927890777588\n",
      "-----WARNING: Model s03 failed to learn: sum(ans)=120.0 sum(y)=66.0 len(y)=120\n",
      "\tAROUSAL-s04|Acc=0.6|10-CV=0.54|STD=0.22|Time spend=1.008270502090454\n",
      "-----WARNING: Model s04 failed to learn: sum(ans)=0.0 sum(y)=48.0 len(y)=120\n",
      "\tVALENCE-s04|Acc=0.6|10-CV=0.49|STD=0.18682|Time spend=1.064056634902954\n",
      "-----WARNING: Model s04 failed to learn: sum(ans)=0.0 sum(y)=48.0 len(y)=120\n",
      "\tAROUSAL-s05|Acc=0.525|10-CV=0.4|STD=0.10328|Time spend=1.1396563053131104\n",
      "-----WARNING: Model s05 failed to learn: sum(ans)=0.0 sum(y)=57.0 len(y)=120\n",
      "\tVALENCE-s05|Acc=0.6|10-CV=0.59|STD=0.09434|Time spend=1.2010819911956787\n",
      "-----WARNING: Model s05 failed to learn: sum(ans)=120.0 sum(y)=72.0 len(y)=120\n",
      "\tAROUSAL-s06|Acc=0.575|10-CV=0.53|STD=0.14177|Time spend=0.9674055576324463\n",
      "-----WARNING: Model s06 failed to learn: sum(ans)=0.0 sum(y)=51.0 len(y)=120\n",
      "\tVALENCE-s06|Acc=0.75|10-CV=0.72|STD=0.07483|Time spend=1.0234248638153076\n",
      "-----WARNING: Model s06 failed to learn: sum(ans)=120.0 sum(y)=90.0 len(y)=120\n",
      "\tAROUSAL-s07|Acc=0.625|10-CV=0.64|STD=0.12806|Time spend=0.9464762210845947\n",
      "-----WARNING: Model s07 failed to learn: sum(ans)=120.0 sum(y)=75.0 len(y)=120\n",
      "\tVALENCE-s07|Acc=0.7|10-CV=0.68667|STD=0.13266|Time spend=1.0153617858886719\n",
      "-----WARNING: Model s07 failed to learn: sum(ans)=120.0 sum(y)=84.0 len(y)=120\n",
      "\tAROUSAL-s08|Acc=0.575|10-CV=0.45333|STD=0.12927|Time spend=1.0867195129394531\n",
      "-----WARNING: Model s08 failed to learn: sum(ans)=120.0 sum(y)=69.0 len(y)=120\n",
      "\tVALENCE-s08|Acc=0.69167|10-CV=0.55|STD=0.11475|Time spend=1.1533162593841553\n",
      "\tAROUSAL-s09|Acc=0.6|10-CV=0.54|STD=0.12|Time spend=1.070582389831543\n",
      "-----WARNING: Model s09 failed to learn: sum(ans)=120.0 sum(y)=72.0 len(y)=120\n",
      "\tVALENCE-s09|Acc=0.66667|10-CV=0.45667|STD=0.18382|Time spend=1.1394033432006836\n",
      "\tAROUSAL-s10|Acc=0.625|10-CV=0.48333|STD=0.07032|Time spend=0.9667458534240723\n",
      "\tVALENCE-s10|Acc=0.75833|10-CV=0.61|STD=0.20873|Time spend=1.0250270366668701\n",
      "\tAROUSAL-s11|Acc=0.625|10-CV=0.63|STD=0.11|Time spend=1.03621506690979\n",
      "-----WARNING: Model s11 failed to learn: sum(ans)=0.0 sum(y)=45.0 len(y)=120\n",
      "\tVALENCE-s11|Acc=0.6|10-CV=0.56|STD=0.16852|Time spend=1.1014704704284668\n",
      "-----WARNING: Model s11 failed to learn: sum(ans)=120.0 sum(y)=72.0 len(y)=120\n",
      "\tAROUSAL-s12|Acc=0.825|10-CV=0.83|STD=0.1005|Time spend=1.012413740158081\n",
      "-----WARNING: Model s12 failed to learn: sum(ans)=120.0 sum(y)=99.0 len(y)=120\n",
      "\tVALENCE-s12|Acc=0.53333|10-CV=0.42|STD=0.1249|Time spend=1.0707950592041016\n",
      "\tAROUSAL-s13|Acc=0.85|10-CV=0.84|STD=0.06633|Time spend=1.0396404266357422\n",
      "-----WARNING: Model s13 failed to learn: sum(ans)=120.0 sum(y)=102.0 len(y)=120\n",
      "\tVALENCE-s13|Acc=0.79167|10-CV=0.65333|STD=0.1376|Time spend=1.1090772151947021\n",
      "\tAROUSAL-s14|Acc=0.675|10-CV=0.65|STD=0.10247|Time spend=1.0357704162597656\n",
      "-----WARNING: Model s14 failed to learn: sum(ans)=120.0 sum(y)=81.0 len(y)=120\n",
      "\tVALENCE-s14|Acc=0.64167|10-CV=0.37|STD=0.0752|Time spend=1.0936470031738281\n",
      "\tAROUSAL-s15|Acc=0.525|10-CV=0.41|STD=0.11455|Time spend=1.2425642013549805\n",
      "-----WARNING: Model s15 failed to learn: sum(ans)=0.0 sum(y)=57.0 len(y)=120\n",
      "\tVALENCE-s15|Acc=0.75|10-CV=0.72|STD=0.08718|Time spend=1.3041672706604004\n",
      "\tAROUSAL-s16|Acc=0.58333|10-CV=0.34667|STD=0.10456|Time spend=0.9101669788360596\n",
      "\tVALENCE-s16|Acc=0.625|10-CV=0.64|STD=0.10198|Time spend=0.9733738899230957\n",
      "-----WARNING: Model s16 failed to learn: sum(ans)=0.0 sum(y)=45.0 len(y)=120\n",
      "\tAROUSAL-s17|Acc=0.6|10-CV=0.56|STD=0.09165|Time spend=1.0078675746917725\n",
      "-----WARNING: Model s17 failed to learn: sum(ans)=120.0 sum(y)=72.0 len(y)=120\n",
      "\tVALENCE-s17|Acc=0.55|10-CV=0.39667|STD=0.12689|Time spend=1.0771772861480713\n",
      "-----WARNING: Model s17 failed to learn: sum(ans)=120.0 sum(y)=66.0 len(y)=120\n",
      "\tAROUSAL-s18|Acc=0.625|10-CV=0.59|STD=0.12207|Time spend=1.0362980365753174\n",
      "-----WARNING: Model s18 failed to learn: sum(ans)=120.0 sum(y)=75.0 len(y)=120\n",
      "\tVALENCE-s18|Acc=0.68333|10-CV=0.57667|STD=0.15424|Time spend=1.0973670482635498\n",
      "\tAROUSAL-s19|Acc=0.68333|10-CV=0.63|STD=0.13454|Time spend=0.977353572845459\n",
      "\tVALENCE-s19|Acc=0.59167|10-CV=0.46333|STD=0.15235|Time spend=1.0426688194274902\n",
      "\tAROUSAL-s20|Acc=0.775|10-CV=0.82|STD=0.08718|Time spend=1.0618188381195068\n",
      "-----WARNING: Model s20 failed to learn: sum(ans)=120.0 sum(y)=93.0 len(y)=120\n",
      "\tVALENCE-s20|Acc=0.69167|10-CV=0.50667|STD=0.16111|Time spend=1.117936372756958\n",
      "\tAROUSAL-s21|Acc=0.8|10-CV=0.8|STD=0.1|Time spend=0.9047181606292725\n",
      "-----WARNING: Model s21 failed to learn: sum(ans)=120.0 sum(y)=96.0 len(y)=120\n",
      "\tVALENCE-s21|Acc=0.59167|10-CV=0.40333|STD=0.1005|Time spend=0.9695632457733154\n",
      "\tAROUSAL-s22|Acc=0.6|10-CV=0.61|STD=0.07|Time spend=0.965764045715332\n",
      "-----WARNING: Model s22 failed to learn: sum(ans)=120.0 sum(y)=72.0 len(y)=120\n",
      "\tVALENCE-s22|Acc=0.55|10-CV=0.54333|STD=0.12477|Time spend=1.0231671333312988\n",
      "-----WARNING: Model s22 failed to learn: sum(ans)=0.0 sum(y)=54.0 len(y)=120\n",
      "\tAROUSAL-s23|Acc=0.75|10-CV=0.78|STD=0.09798|Time spend=1.103214979171753\n",
      "-----WARNING: Model s23 failed to learn: sum(ans)=0.0 sum(y)=30.0 len(y)=120\n",
      "\tVALENCE-s23|Acc=0.65|10-CV=0.61|STD=0.15133|Time spend=1.1790409088134766\n",
      "-----WARNING: Model s23 failed to learn: sum(ans)=120.0 sum(y)=78.0 len(y)=120\n",
      "\tAROUSAL-s24|Acc=0.825|10-CV=0.82|STD=0.07483|Time spend=0.982703685760498\n",
      "-----WARNING: Model s24 failed to learn: sum(ans)=120.0 sum(y)=99.0 len(y)=120\n",
      "\tVALENCE-s24|Acc=0.55|10-CV=0.42|STD=0.17839|Time spend=1.039996862411499\n",
      "-----WARNING: Model s24 failed to learn: sum(ans)=0.0 sum(y)=54.0 len(y)=120\n",
      "\tAROUSAL-s25|Acc=0.725|10-CV=0.74|STD=0.12806|Time spend=0.930166482925415\n",
      "-----WARNING: Model s25 failed to learn: sum(ans)=120.0 sum(y)=87.0 len(y)=120\n",
      "\tVALENCE-s25|Acc=0.525|10-CV=0.36667|STD=0.10646|Time spend=0.9938027858734131\n",
      "-----WARNING: Model s25 failed to learn: sum(ans)=0.0 sum(y)=57.0 len(y)=120\n",
      "\tAROUSAL-s26|Acc=0.61667|10-CV=0.53333|STD=0.12019|Time spend=1.1122586727142334\n",
      "\tVALENCE-s26|Acc=0.65|10-CV=0.62|STD=0.14|Time spend=1.169022560119629\n",
      "-----WARNING: Model s26 failed to learn: sum(ans)=120.0 sum(y)=78.0 len(y)=120\n",
      "\tAROUSAL-s27|Acc=0.675|10-CV=0.63667|STD=0.1005|Time spend=1.0504636764526367\n",
      "-----WARNING: Model s27 failed to learn: sum(ans)=120.0 sum(y)=81.0 len(y)=120\n",
      "\tVALENCE-s27|Acc=0.75|10-CV=0.67|STD=0.12689|Time spend=1.115556001663208\n",
      "-----WARNING: Model s27 failed to learn: sum(ans)=120.0 sum(y)=90.0 len(y)=120\n",
      "\tAROUSAL-s28|Acc=0.55|10-CV=0.44|STD=0.17814|Time spend=0.953669548034668\n",
      "-----WARNING: Model s28 failed to learn: sum(ans)=0.0 sum(y)=54.0 len(y)=120\n",
      "\tVALENCE-s28|Acc=0.625|10-CV=0.57333|STD=0.1618|Time spend=1.0191552639007568\n",
      "-----WARNING: Model s28 failed to learn: sum(ans)=120.0 sum(y)=75.0 len(y)=120\n",
      "\tAROUSAL-s29|Acc=0.625|10-CV=0.53|STD=0.09|Time spend=1.0556607246398926\n",
      "-----WARNING: Model s29 failed to learn: sum(ans)=120.0 sum(y)=75.0 len(y)=120\n",
      "\tVALENCE-s29|Acc=0.70833|10-CV=0.58667|STD=0.14|Time spend=1.123631477355957\n",
      "\tAROUSAL-s30|Acc=0.61667|10-CV=0.49333|STD=0.09522|Time spend=1.0053043365478516\n",
      "\tVALENCE-s30|Acc=0.675|10-CV=0.62|STD=0.14697|Time spend=1.0593340396881104\n",
      "-----WARNING: Model s30 failed to learn: sum(ans)=120.0 sum(y)=81.0 len(y)=120\n",
      "\tAROUSAL-s31|Acc=0.55833|10-CV=0.45667|STD=0.13585|Time spend=1.0111489295959473\n",
      "\tVALENCE-s31|Acc=0.575|10-CV=0.46667|STD=0.12649|Time spend=1.0756819248199463\n",
      "-----WARNING: Model s31 failed to learn: sum(ans)=120.0 sum(y)=69.0 len(y)=120\n",
      "\tAROUSAL-s32|Acc=0.675|10-CV=0.75|STD=0.13601|Time spend=1.0634136199951172\n",
      "-----WARNING: Model s32 failed to learn: sum(ans)=120.0 sum(y)=81.0 len(y)=120\n",
      "\tVALENCE-s32|Acc=0.71667|10-CV=0.68|STD=0.14621|Time spend=1.1192288398742676\n",
      "AROUSAL|Acc=0.6533854166666668|10-CV=0.6044791666666668|STD=0.11631677900861107\n",
      "VALENCE|Acc=0.6403645833333333|10-CV=0.5397916666666666|STD=0.132418114449928\n",
      "TOTAL|Acc=0.6468750000000002|10-CV=0.5721354166666667|STD=0.12436744672926951\n"
     ]
    }
   ],
   "source": [
    "for text in reports:\n",
    "    if(text == None): continue\n",
    "    print(text)\n",
    "\n",
    "accs.extend(accs_v)\n",
    "cv_means.extend(cv_means_v)\n",
    "cv_stds.extend(cv_stds_v)\n",
    "print(f\"TOTAL|Acc={sum(accs)/len(accs)}|10-CV={sum(cv_means)/len(cv_means)}|STD={sum(cv_stds)/len(cv_stds)}\")"
   ]
  },
  {
   "cell_type": "markdown",
   "metadata": {},
   "source": [
    "### 4.2 $ \\text{PCC}_{freq} (i,j) = \\frac{\\text{Cov}[\\hat{\\mathbf{X}}_i, \\hat{\\mathbf{X}}_j]}{\\sigma_{\\hat{\\mathbf{X}}_i} \\sigma_{\\hat{\\mathbf{X}}_j}} $"
   ]
  },
  {
   "cell_type": "code",
   "execution_count": 10,
   "metadata": {},
   "outputs": [],
   "source": [
    "def calculate_fft(signal, sfreq):\n",
    "    \"\"\" signal: can be 1D array of (n_sample,) or 2D array of (n_signal, n_sample)  \"\"\"\n",
    "    number_sample = signal.shape[-1]\n",
    "\n",
    "    # the result will be a complex number. We can obtain the magnitude using `absolute`\n",
    "    magnitude = np.abs(np.fft.fft(signal))\n",
    "    # scale the result\n",
    "    magnitude = magnitude / (number_sample/2)\n",
    "    # Selecting the range\n",
    "    magnitude = magnitude.T[:number_sample//2].T\n",
    "    freq_range = np.fft.fftfreq(number_sample, d=1/sfreq)[:number_sample//2]\n",
    "\n",
    "    return magnitude, freq_range"
   ]
  },
  {
   "cell_type": "code",
   "execution_count": 11,
   "metadata": {},
   "outputs": [
    {
     "data": {
      "application/vnd.jupyter.widget-view+json": {
       "model_id": "39e61a8544514c1585c8c4c673f85fd5",
       "version_major": 2,
       "version_minor": 0
      },
      "text/plain": [
       "  0%|          | 0/32 [00:00<?, ?it/s]"
      ]
     },
     "metadata": {},
     "output_type": "display_data"
    },
    {
     "name": "stdout",
     "output_type": "stream",
     "text": [
      "Fitted sphere radius:         95.3 mm\n",
      "Origin head coordinates:      -0.8 15.1 45.3 mm\n",
      "Origin device coordinates:    -0.8 15.1 45.3 mm\n",
      "========= close ========\n",
      "\tAROUSAL-s01|Acc=0.76667|10-CV=0.57|STD=0.13034|Time spend=1.2065541744232178\n",
      "\tVALENCE-s01|Acc=0.68333|10-CV=0.45|STD=0.09339|Time spend=1.2777726650238037\n",
      "Fitted sphere radius:         95.3 mm\n",
      "Origin head coordinates:      -0.8 15.1 45.3 mm\n",
      "Origin device coordinates:    -0.8 15.1 45.3 mm\n",
      "========= close ========\n",
      "\tAROUSAL-s02|Acc=0.6|10-CV=0.50333|STD=0.07371|Time spend=1.1953396797180176\n",
      "\tVALENCE-s02|Acc=0.66667|10-CV=0.49|STD=0.10225|Time spend=1.2591137886047363\n",
      "Fitted sphere radius:         95.3 mm\n",
      "Origin head coordinates:      -0.8 15.1 45.3 mm\n",
      "Origin device coordinates:    -0.8 15.1 45.3 mm\n",
      "========= close ========\n",
      "\tAROUSAL-s03|Acc=0.8|10-CV=0.73|STD=0.15524|Time spend=1.2277345657348633\n",
      "\tVALENCE-s03|Acc=0.55833|10-CV=0.42333|STD=0.11837|Time spend=1.2922275066375732\n",
      "Fitted sphere radius:         95.3 mm\n",
      "Origin head coordinates:      -0.8 15.1 45.3 mm\n",
      "Origin device coordinates:    -0.8 15.1 45.3 mm\n",
      "========= close ========\n",
      "\tAROUSAL-s04|Acc=0.6|10-CV=0.54667|STD=0.20396|Time spend=1.1275639533996582\n",
      "\tVALENCE-s04|Acc=0.6|10-CV=0.49|STD=0.18682|Time spend=1.1914796829223633\n",
      "Fitted sphere radius:         95.3 mm\n",
      "Origin head coordinates:      -0.8 15.1 45.3 mm\n",
      "Origin device coordinates:    -0.8 15.1 45.3 mm\n",
      "========= close ========\n",
      "\tAROUSAL-s05|Acc=0.69167|10-CV=0.41|STD=0.10333|Time spend=1.2099015712738037\n",
      "\tVALENCE-s05|Acc=0.625|10-CV=0.58333|STD=0.10672|Time spend=1.2795820236206055\n",
      "Fitted sphere radius:         95.3 mm\n",
      "Origin head coordinates:      -0.8 15.1 45.3 mm\n",
      "Origin device coordinates:    -0.8 15.1 45.3 mm\n",
      "========= close ========\n",
      "\tAROUSAL-s06|Acc=0.64167|10-CV=0.54667|STD=0.15649|Time spend=1.251173973083496\n",
      "\tVALENCE-s06|Acc=0.75|10-CV=0.72|STD=0.07483|Time spend=1.3209478855133057\n",
      "Fitted sphere radius:         95.3 mm\n",
      "Origin head coordinates:      -0.8 15.1 45.3 mm\n",
      "Origin device coordinates:    -0.8 15.1 45.3 mm\n",
      "========= close ========\n",
      "\tAROUSAL-s07|Acc=0.675|10-CV=0.61|STD=0.11455|Time spend=1.4342799186706543\n",
      "\tVALENCE-s07|Acc=0.71667|10-CV=0.66667|STD=0.12019|Time spend=1.504863977432251\n",
      "Fitted sphere radius:         95.3 mm\n",
      "Origin head coordinates:      -0.8 15.1 45.3 mm\n",
      "Origin device coordinates:    -0.8 15.1 45.3 mm\n",
      "========= close ========\n",
      "\tAROUSAL-s08|Acc=0.6|10-CV=0.41333|STD=0.10349|Time spend=1.1637482643127441\n",
      "\tVALENCE-s08|Acc=0.71667|10-CV=0.58333|STD=0.08062|Time spend=1.2211692333221436\n",
      "Fitted sphere radius:         95.3 mm\n",
      "Origin head coordinates:      -0.8 15.1 45.3 mm\n",
      "Origin device coordinates:    -0.8 15.1 45.3 mm\n",
      "========= close ========\n",
      "\tAROUSAL-s09|Acc=0.60833|10-CV=0.52667|STD=0.11431|Time spend=1.2095086574554443\n",
      "\tVALENCE-s09|Acc=0.71667|10-CV=0.68333|STD=0.09804|Time spend=1.29622220993042\n",
      "Fitted sphere radius:         95.3 mm\n",
      "Origin head coordinates:      -0.8 15.1 45.3 mm\n",
      "Origin device coordinates:    -0.8 15.1 45.3 mm\n",
      "========= close ========\n",
      "\tAROUSAL-s10|Acc=0.69167|10-CV=0.51333|STD=0.12311|Time spend=1.5266432762145996\n",
      "\tVALENCE-s10|Acc=0.75833|10-CV=0.71|STD=0.08699|Time spend=1.5811572074890137\n",
      "Fitted sphere radius:         95.3 mm\n",
      "Origin head coordinates:      -0.8 15.1 45.3 mm\n",
      "Origin device coordinates:    -0.8 15.1 45.3 mm\n",
      "========= close ========\n",
      "\tAROUSAL-s11|Acc=0.675|10-CV=0.59667|STD=0.06046|Time spend=1.1383631229400635\n",
      "\tVALENCE-s11|Acc=0.69167|10-CV=0.57667|STD=0.16469|Time spend=1.2269952297210693\n",
      "Fitted sphere radius:         95.3 mm\n",
      "Origin head coordinates:      -0.8 15.1 45.3 mm\n",
      "Origin device coordinates:    -0.8 15.1 45.3 mm\n",
      "========= close ========\n",
      "\tAROUSAL-s12|Acc=0.825|10-CV=0.83|STD=0.1005|Time spend=1.1152935028076172\n",
      "\tVALENCE-s12|Acc=0.65|10-CV=0.44667|STD=0.13597|Time spend=1.171046495437622\n",
      "Fitted sphere radius:         95.3 mm\n",
      "Origin head coordinates:      -0.8 15.1 45.3 mm\n",
      "Origin device coordinates:    -0.8 15.1 45.3 mm\n",
      "========= close ========\n",
      "\tAROUSAL-s13|Acc=0.85|10-CV=0.84|STD=0.06633|Time spend=1.134873867034912\n",
      "\tVALENCE-s13|Acc=0.74167|10-CV=0.61333|STD=0.08844|Time spend=1.191880464553833\n",
      "Fitted sphere radius:         95.3 mm\n",
      "Origin head coordinates:      -0.8 15.1 45.3 mm\n",
      "Origin device coordinates:    -0.8 15.1 45.3 mm\n",
      "========= close ========\n",
      "\tAROUSAL-s14|Acc=0.675|10-CV=0.65|STD=0.10247|Time spend=1.1013422012329102\n",
      "\tVALENCE-s14|Acc=0.74167|10-CV=0.57667|STD=0.13503|Time spend=1.163038969039917\n",
      "Fitted sphere radius:         95.3 mm\n",
      "Origin head coordinates:      -0.8 15.1 45.3 mm\n",
      "Origin device coordinates:    -0.8 15.1 45.3 mm\n",
      "========= close ========\n",
      "\tAROUSAL-s15|Acc=0.65|10-CV=0.49|STD=0.09781|Time spend=1.305100440979004\n",
      "\tVALENCE-s15|Acc=0.76667|10-CV=0.7|STD=0.08692|Time spend=1.3634414672851562\n",
      "Fitted sphere radius:         95.3 mm\n",
      "Origin head coordinates:      -0.8 15.1 45.3 mm\n",
      "Origin device coordinates:    -0.8 15.1 45.3 mm\n",
      "========= close ========\n",
      "\tAROUSAL-s16|Acc=0.65833|10-CV=0.44667|STD=0.11757|Time spend=1.0845613479614258\n",
      "\tVALENCE-s16|Acc=0.69167|10-CV=0.65333|STD=0.11851|Time spend=1.158536672592163\n",
      "Fitted sphere radius:         95.3 mm\n",
      "Origin head coordinates:      -0.8 15.1 45.3 mm\n",
      "Origin device coordinates:    -0.8 15.1 45.3 mm\n",
      "========= close ========\n",
      "\tAROUSAL-s17|Acc=0.725|10-CV=0.55333|STD=0.09092|Time spend=1.4151523113250732\n",
      "\tVALENCE-s17|Acc=0.55|10-CV=0.42|STD=0.13182|Time spend=1.4710948467254639\n",
      "Fitted sphere radius:         95.3 mm\n",
      "Origin head coordinates:      -0.8 15.1 45.3 mm\n",
      "Origin device coordinates:    -0.8 15.1 45.3 mm\n",
      "========= close ========\n",
      "\tAROUSAL-s18|Acc=0.63333|10-CV=0.58667|STD=0.11662|Time spend=1.1657075881958008\n",
      "\tVALENCE-s18|Acc=0.775|10-CV=0.62667|STD=0.16316|Time spend=1.2642934322357178\n",
      "Fitted sphere radius:         95.3 mm\n",
      "Origin head coordinates:      -0.8 15.1 45.3 mm\n",
      "Origin device coordinates:    -0.8 15.1 45.3 mm\n",
      "========= close ========\n",
      "\tAROUSAL-s19|Acc=0.71667|10-CV=0.61667|STD=0.13017|Time spend=1.2330243587493896\n",
      "\tVALENCE-s19|Acc=0.75|10-CV=0.45667|STD=0.12828|Time spend=1.296274185180664\n",
      "Fitted sphere radius:         95.3 mm\n",
      "Origin head coordinates:      -0.8 15.1 45.3 mm\n",
      "Origin device coordinates:    -0.8 15.1 45.3 mm\n",
      "========= close ========\n",
      "\tAROUSAL-s20|Acc=0.775|10-CV=0.82|STD=0.08718|Time spend=1.6907203197479248\n",
      "\tVALENCE-s20|Acc=0.70833|10-CV=0.51333|STD=0.17269|Time spend=1.7540853023529053\n",
      "Fitted sphere radius:         95.3 mm\n",
      "Origin head coordinates:      -0.8 15.1 45.3 mm\n",
      "Origin device coordinates:    -0.8 15.1 45.3 mm\n",
      "========= close ========\n",
      "\tAROUSAL-s21|Acc=0.8|10-CV=0.8|STD=0.1|Time spend=1.3510150909423828\n",
      "\tVALENCE-s21|Acc=0.61667|10-CV=0.45333|STD=0.11075|Time spend=1.4322707653045654\n",
      "Fitted sphere radius:         95.3 mm\n",
      "Origin head coordinates:      -0.8 15.1 45.3 mm\n",
      "Origin device coordinates:    -0.8 15.1 45.3 mm\n",
      "========= close ========\n",
      "\tAROUSAL-s22|Acc=0.6|10-CV=0.60333|STD=0.0752|Time spend=1.3167221546173096\n",
      "\tVALENCE-s22|Acc=0.59167|10-CV=0.54|STD=0.09978|Time spend=1.3840351104736328\n",
      "Fitted sphere radius:         95.3 mm\n",
      "Origin head coordinates:      -0.8 15.1 45.3 mm\n",
      "Origin device coordinates:    -0.8 15.1 45.3 mm\n",
      "========= close ========\n",
      "\tAROUSAL-s23|Acc=0.75|10-CV=0.78|STD=0.09798|Time spend=1.1206903457641602\n",
      "\tVALENCE-s23|Acc=0.65|10-CV=0.61|STD=0.15133|Time spend=1.1856575012207031\n",
      "Fitted sphere radius:         95.3 mm\n",
      "Origin head coordinates:      -0.8 15.1 45.3 mm\n",
      "Origin device coordinates:    -0.8 15.1 45.3 mm\n",
      "========= close ========\n",
      "\tAROUSAL-s24|Acc=0.825|10-CV=0.82|STD=0.07483|Time spend=1.1106891632080078\n",
      "\tVALENCE-s24|Acc=0.64167|10-CV=0.48333|STD=0.13844|Time spend=1.172192096710205\n",
      "Fitted sphere radius:         95.3 mm\n",
      "Origin head coordinates:      -0.8 15.1 45.3 mm\n",
      "Origin device coordinates:    -0.8 15.1 45.3 mm\n",
      "========= close ========\n",
      "\tAROUSAL-s25|Acc=0.725|10-CV=0.74|STD=0.12806|Time spend=1.1442947387695312\n",
      "\tVALENCE-s25|Acc=0.675|10-CV=0.41|STD=0.13|Time spend=1.2058508396148682\n",
      "Fitted sphere radius:         95.3 mm\n",
      "Origin head coordinates:      -0.8 15.1 45.3 mm\n",
      "Origin device coordinates:    -0.8 15.1 45.3 mm\n",
      "========= close ========\n",
      "\tAROUSAL-s26|Acc=0.69167|10-CV=0.52|STD=0.11075|Time spend=1.0248661041259766\n",
      "\tVALENCE-s26|Acc=0.65|10-CV=0.62|STD=0.14|Time spend=1.0880622863769531\n",
      "Fitted sphere radius:         95.3 mm\n",
      "Origin head coordinates:      -0.8 15.1 45.3 mm\n",
      "Origin device coordinates:    -0.8 15.1 45.3 mm\n",
      "========= close ========\n",
      "\tAROUSAL-s27|Acc=0.74167|10-CV=0.65|STD=0.1098|Time spend=1.5616188049316406\n",
      "\tVALENCE-s27|Acc=0.79167|10-CV=0.68|STD=0.1376|Time spend=1.6235485076904297\n",
      "Fitted sphere radius:         95.3 mm\n",
      "Origin head coordinates:      -0.8 15.1 45.3 mm\n",
      "Origin device coordinates:    -0.8 15.1 45.3 mm\n",
      "========= close ========\n",
      "\tAROUSAL-s28|Acc=0.60833|10-CV=0.45333|STD=0.14922|Time spend=1.8298842906951904\n",
      "\tVALENCE-s28|Acc=0.625|10-CV=0.52333|STD=0.1592|Time spend=1.964550495147705\n",
      "Fitted sphere radius:         95.3 mm\n",
      "Origin head coordinates:      -0.8 15.1 45.3 mm\n",
      "Origin device coordinates:    -0.8 15.1 45.3 mm\n",
      "========= close ========\n",
      "\tAROUSAL-s29|Acc=0.71667|10-CV=0.55333|STD=0.10349|Time spend=1.9599575996398926\n",
      "\tVALENCE-s29|Acc=0.71667|10-CV=0.63667|STD=0.07951|Time spend=2.0799717903137207\n",
      "Fitted sphere radius:         95.3 mm\n",
      "Origin head coordinates:      -0.8 15.1 45.3 mm\n",
      "Origin device coordinates:    -0.8 15.1 45.3 mm\n",
      "========= close ========\n",
      "\tAROUSAL-s30|Acc=0.66667|10-CV=0.49667|STD=0.10693|Time spend=1.202559471130371\n",
      "\tVALENCE-s30|Acc=0.675|10-CV=0.6|STD=0.12824|Time spend=1.2779247760772705\n",
      "Fitted sphere radius:         95.3 mm\n",
      "Origin head coordinates:      -0.8 15.1 45.3 mm\n",
      "Origin device coordinates:    -0.8 15.1 45.3 mm\n",
      "========= close ========\n",
      "\tAROUSAL-s31|Acc=0.7|10-CV=0.50333|STD=0.11968|Time spend=1.259000301361084\n",
      "\tVALENCE-s31|Acc=0.575|10-CV=0.45|STD=0.10878|Time spend=1.3154103755950928\n",
      "Fitted sphere radius:         95.3 mm\n",
      "Origin head coordinates:      -0.8 15.1 45.3 mm\n",
      "Origin device coordinates:    -0.8 15.1 45.3 mm\n",
      "========= close ========\n",
      "\tAROUSAL-s32|Acc=0.71667|10-CV=0.67667|STD=0.13503|Time spend=1.224290132522583\n",
      "\tVALENCE-s32|Acc=0.75|10-CV=0.67|STD=0.0809|Time spend=1.289046049118042\n",
      "AROUSAL|Acc=0.7|10-CV=0.6061458333333334|STD=0.11123591936720509\n",
      "VALENCE|Acc=0.6817708333333334|10-CV=0.564375|STD=0.1205708387262893\n"
     ]
    }
   ],
   "source": [
    "accs, cv_means, cv_stds = [],[],[]\n",
    "accs_v, cv_means_v, cv_stds_v = [],[],[]\n",
    "reports = []\n",
    "for filename in (pbar := tqdm(dataset.get_file_list())):\n",
    "    start = time.time()\n",
    "    pbar.set_description(filename)\n",
    "    data, labels, groups = dataset.get_data(filename, stimuli=Dataset_subjectDependent.STIMULI_AROUSAL, return_type='mne', sfreq=128)\n",
    "    \n",
    "    data_csd = mne.preprocessing.compute_current_source_density(data)\n",
    "    magnitude, freq_range = calculate_fft(data_csd.get_data(), 128)\n",
    "    pcc = calculate_pcc(magnitude)\n",
    "    _,acc,cross,train_report = train_model(pcc, labels.squeeze(), groups, filename=filename, return_text=True)\n",
    "    report = f\"\\tAROUSAL-{filename}|Acc={round(acc,5)}|10-CV={round(cross.mean(),5)}|STD={round(cross.std(),5)}|Time spend={time.time() - start}\"\n",
    "    print(report)\n",
    "    reports.append(report)\n",
    "    reports.append(train_report)\n",
    "    accs.append(acc)\n",
    "    cv_means.append(cross.mean())\n",
    "    cv_stds.append(cross.std())\n",
    "\n",
    "    _, labels_v, groups_v = dataset.get_data(filename, stimuli=Dataset_subjectDependent.STIMULI_VALENCE, return_type='mne', sfreq=128)\n",
    "    _,acc,cross,train_report = train_model(pcc, labels_v.squeeze(), groups_v, filename=filename, return_text=True)\n",
    "    report = f\"\\tVALENCE-{filename}|Acc={round(acc,5)}|10-CV={round(cross.mean(),5)}|STD={round(cross.std(),5)}|Time spend={time.time() - start}\"\n",
    "    print(report)\n",
    "    reports.append(report)\n",
    "    reports.append(train_report)\n",
    "    accs_v.append(acc)\n",
    "    cv_means_v.append(cross.mean())\n",
    "    cv_stds_v.append(cross.std())\n",
    "    # break\n",
    "    # count+=1\n",
    "    # if(count == 5): break\n",
    "report = f\"AROUSAL|Acc={sum(accs)/len(accs)}|10-CV={sum(cv_means)/len(cv_means)}|STD={sum(cv_stds)/len(cv_stds)}\"\n",
    "print(report)\n",
    "reports.append(report)\n",
    "report = f\"VALENCE|Acc={sum(accs_v)/len(accs_v)}|10-CV={sum(cv_means_v)/len(cv_means_v)}|STD={sum(cv_stds_v)/len(cv_stds_v)}\"\n",
    "print(report)\n",
    "reports.append(report)"
   ]
  },
  {
   "cell_type": "code",
   "execution_count": 12,
   "metadata": {},
   "outputs": [
    {
     "name": "stdout",
     "output_type": "stream",
     "text": [
      "\tAROUSAL-s01|Acc=0.76667|10-CV=0.57|STD=0.13034|Time spend=1.2065541744232178\n",
      "\tVALENCE-s01|Acc=0.68333|10-CV=0.45|STD=0.09339|Time spend=1.2777726650238037\n",
      "\tAROUSAL-s02|Acc=0.6|10-CV=0.50333|STD=0.07371|Time spend=1.1953396797180176\n",
      "-----WARNING: Model s02 failed to learn: sum(ans)=120.0 sum(y)=72.0 len(y)=120\n",
      "\tVALENCE-s02|Acc=0.66667|10-CV=0.49|STD=0.10225|Time spend=1.2591137886047363\n",
      "\tAROUSAL-s03|Acc=0.8|10-CV=0.73|STD=0.15524|Time spend=1.2277345657348633\n",
      "-----WARNING: Model s03 failed to learn: sum(ans)=0.0 sum(y)=24.0 len(y)=120\n",
      "\tVALENCE-s03|Acc=0.55833|10-CV=0.42333|STD=0.11837|Time spend=1.2922275066375732\n",
      "\tAROUSAL-s04|Acc=0.6|10-CV=0.54667|STD=0.20396|Time spend=1.1275639533996582\n",
      "-----WARNING: Model s04 failed to learn: sum(ans)=0.0 sum(y)=48.0 len(y)=120\n",
      "\tVALENCE-s04|Acc=0.6|10-CV=0.49|STD=0.18682|Time spend=1.1914796829223633\n",
      "-----WARNING: Model s04 failed to learn: sum(ans)=0.0 sum(y)=48.0 len(y)=120\n",
      "\tAROUSAL-s05|Acc=0.69167|10-CV=0.41|STD=0.10333|Time spend=1.2099015712738037\n",
      "\tVALENCE-s05|Acc=0.625|10-CV=0.58333|STD=0.10672|Time spend=1.2795820236206055\n",
      "\tAROUSAL-s06|Acc=0.64167|10-CV=0.54667|STD=0.15649|Time spend=1.251173973083496\n",
      "\tVALENCE-s06|Acc=0.75|10-CV=0.72|STD=0.07483|Time spend=1.3209478855133057\n",
      "-----WARNING: Model s06 failed to learn: sum(ans)=120.0 sum(y)=90.0 len(y)=120\n",
      "\tAROUSAL-s07|Acc=0.675|10-CV=0.61|STD=0.11455|Time spend=1.4342799186706543\n",
      "\tVALENCE-s07|Acc=0.71667|10-CV=0.66667|STD=0.12019|Time spend=1.504863977432251\n",
      "\tAROUSAL-s08|Acc=0.6|10-CV=0.41333|STD=0.10349|Time spend=1.1637482643127441\n",
      "\tVALENCE-s08|Acc=0.71667|10-CV=0.58333|STD=0.08062|Time spend=1.2211692333221436\n",
      "\tAROUSAL-s09|Acc=0.60833|10-CV=0.52667|STD=0.11431|Time spend=1.2095086574554443\n",
      "\tVALENCE-s09|Acc=0.71667|10-CV=0.68333|STD=0.09804|Time spend=1.29622220993042\n",
      "\tAROUSAL-s10|Acc=0.69167|10-CV=0.51333|STD=0.12311|Time spend=1.5266432762145996\n",
      "\tVALENCE-s10|Acc=0.75833|10-CV=0.71|STD=0.08699|Time spend=1.5811572074890137\n",
      "\tAROUSAL-s11|Acc=0.675|10-CV=0.59667|STD=0.06046|Time spend=1.1383631229400635\n",
      "\tVALENCE-s11|Acc=0.69167|10-CV=0.57667|STD=0.16469|Time spend=1.2269952297210693\n",
      "\tAROUSAL-s12|Acc=0.825|10-CV=0.83|STD=0.1005|Time spend=1.1152935028076172\n",
      "-----WARNING: Model s12 failed to learn: sum(ans)=120.0 sum(y)=99.0 len(y)=120\n",
      "\tVALENCE-s12|Acc=0.65|10-CV=0.44667|STD=0.13597|Time spend=1.171046495437622\n",
      "\tAROUSAL-s13|Acc=0.85|10-CV=0.84|STD=0.06633|Time spend=1.134873867034912\n",
      "-----WARNING: Model s13 failed to learn: sum(ans)=120.0 sum(y)=102.0 len(y)=120\n",
      "\tVALENCE-s13|Acc=0.74167|10-CV=0.61333|STD=0.08844|Time spend=1.191880464553833\n",
      "\tAROUSAL-s14|Acc=0.675|10-CV=0.65|STD=0.10247|Time spend=1.1013422012329102\n",
      "-----WARNING: Model s14 failed to learn: sum(ans)=120.0 sum(y)=81.0 len(y)=120\n",
      "\tVALENCE-s14|Acc=0.74167|10-CV=0.57667|STD=0.13503|Time spend=1.163038969039917\n",
      "\tAROUSAL-s15|Acc=0.65|10-CV=0.49|STD=0.09781|Time spend=1.305100440979004\n",
      "\tVALENCE-s15|Acc=0.76667|10-CV=0.7|STD=0.08692|Time spend=1.3634414672851562\n",
      "\tAROUSAL-s16|Acc=0.65833|10-CV=0.44667|STD=0.11757|Time spend=1.0845613479614258\n",
      "\tVALENCE-s16|Acc=0.69167|10-CV=0.65333|STD=0.11851|Time spend=1.158536672592163\n",
      "\tAROUSAL-s17|Acc=0.725|10-CV=0.55333|STD=0.09092|Time spend=1.4151523113250732\n",
      "\tVALENCE-s17|Acc=0.55|10-CV=0.42|STD=0.13182|Time spend=1.4710948467254639\n",
      "-----WARNING: Model s17 failed to learn: sum(ans)=120.0 sum(y)=66.0 len(y)=120\n",
      "\tAROUSAL-s18|Acc=0.63333|10-CV=0.58667|STD=0.11662|Time spend=1.1657075881958008\n",
      "\tVALENCE-s18|Acc=0.775|10-CV=0.62667|STD=0.16316|Time spend=1.2642934322357178\n",
      "\tAROUSAL-s19|Acc=0.71667|10-CV=0.61667|STD=0.13017|Time spend=1.2330243587493896\n",
      "\tVALENCE-s19|Acc=0.75|10-CV=0.45667|STD=0.12828|Time spend=1.296274185180664\n",
      "\tAROUSAL-s20|Acc=0.775|10-CV=0.82|STD=0.08718|Time spend=1.6907203197479248\n",
      "-----WARNING: Model s20 failed to learn: sum(ans)=120.0 sum(y)=93.0 len(y)=120\n",
      "\tVALENCE-s20|Acc=0.70833|10-CV=0.51333|STD=0.17269|Time spend=1.7540853023529053\n",
      "\tAROUSAL-s21|Acc=0.8|10-CV=0.8|STD=0.1|Time spend=1.3510150909423828\n",
      "-----WARNING: Model s21 failed to learn: sum(ans)=120.0 sum(y)=96.0 len(y)=120\n",
      "\tVALENCE-s21|Acc=0.61667|10-CV=0.45333|STD=0.11075|Time spend=1.4322707653045654\n",
      "\tAROUSAL-s22|Acc=0.6|10-CV=0.60333|STD=0.0752|Time spend=1.3167221546173096\n",
      "-----WARNING: Model s22 failed to learn: sum(ans)=120.0 sum(y)=72.0 len(y)=120\n",
      "\tVALENCE-s22|Acc=0.59167|10-CV=0.54|STD=0.09978|Time spend=1.3840351104736328\n",
      "\tAROUSAL-s23|Acc=0.75|10-CV=0.78|STD=0.09798|Time spend=1.1206903457641602\n",
      "-----WARNING: Model s23 failed to learn: sum(ans)=0.0 sum(y)=30.0 len(y)=120\n",
      "\tVALENCE-s23|Acc=0.65|10-CV=0.61|STD=0.15133|Time spend=1.1856575012207031\n",
      "-----WARNING: Model s23 failed to learn: sum(ans)=120.0 sum(y)=78.0 len(y)=120\n",
      "\tAROUSAL-s24|Acc=0.825|10-CV=0.82|STD=0.07483|Time spend=1.1106891632080078\n",
      "-----WARNING: Model s24 failed to learn: sum(ans)=120.0 sum(y)=99.0 len(y)=120\n",
      "\tVALENCE-s24|Acc=0.64167|10-CV=0.48333|STD=0.13844|Time spend=1.172192096710205\n",
      "\tAROUSAL-s25|Acc=0.725|10-CV=0.74|STD=0.12806|Time spend=1.1442947387695312\n",
      "-----WARNING: Model s25 failed to learn: sum(ans)=120.0 sum(y)=87.0 len(y)=120\n",
      "\tVALENCE-s25|Acc=0.675|10-CV=0.41|STD=0.13|Time spend=1.2058508396148682\n",
      "\tAROUSAL-s26|Acc=0.69167|10-CV=0.52|STD=0.11075|Time spend=1.0248661041259766\n",
      "\tVALENCE-s26|Acc=0.65|10-CV=0.62|STD=0.14|Time spend=1.0880622863769531\n",
      "-----WARNING: Model s26 failed to learn: sum(ans)=120.0 sum(y)=78.0 len(y)=120\n",
      "\tAROUSAL-s27|Acc=0.74167|10-CV=0.65|STD=0.1098|Time spend=1.5616188049316406\n",
      "\tVALENCE-s27|Acc=0.79167|10-CV=0.68|STD=0.1376|Time spend=1.6235485076904297\n",
      "\tAROUSAL-s28|Acc=0.60833|10-CV=0.45333|STD=0.14922|Time spend=1.8298842906951904\n",
      "\tVALENCE-s28|Acc=0.625|10-CV=0.52333|STD=0.1592|Time spend=1.964550495147705\n",
      "-----WARNING: Model s28 failed to learn: sum(ans)=120.0 sum(y)=75.0 len(y)=120\n",
      "\tAROUSAL-s29|Acc=0.71667|10-CV=0.55333|STD=0.10349|Time spend=1.9599575996398926\n",
      "\tVALENCE-s29|Acc=0.71667|10-CV=0.63667|STD=0.07951|Time spend=2.0799717903137207\n",
      "\tAROUSAL-s30|Acc=0.66667|10-CV=0.49667|STD=0.10693|Time spend=1.202559471130371\n",
      "\tVALENCE-s30|Acc=0.675|10-CV=0.6|STD=0.12824|Time spend=1.2779247760772705\n",
      "-----WARNING: Model s30 failed to learn: sum(ans)=120.0 sum(y)=81.0 len(y)=120\n",
      "\tAROUSAL-s31|Acc=0.7|10-CV=0.50333|STD=0.11968|Time spend=1.259000301361084\n",
      "\tVALENCE-s31|Acc=0.575|10-CV=0.45|STD=0.10878|Time spend=1.3154103755950928\n",
      "-----WARNING: Model s31 failed to learn: sum(ans)=120.0 sum(y)=69.0 len(y)=120\n",
      "\tAROUSAL-s32|Acc=0.71667|10-CV=0.67667|STD=0.13503|Time spend=1.224290132522583\n",
      "\tVALENCE-s32|Acc=0.75|10-CV=0.67|STD=0.0809|Time spend=1.289046049118042\n",
      "AROUSAL|Acc=0.7|10-CV=0.6061458333333334|STD=0.11123591936720509\n",
      "VALENCE|Acc=0.6817708333333334|10-CV=0.564375|STD=0.1205708387262893\n",
      "TOTAL|Acc=0.6908854166666665|10-CV=0.5852604166666665|STD=0.11590337904674722\n"
     ]
    }
   ],
   "source": [
    "for text in reports:\n",
    "    if(text == None): continue\n",
    "    print(text)\n",
    "\n",
    "accs.extend(accs_v)\n",
    "cv_means.extend(cv_means_v)\n",
    "cv_stds.extend(cv_stds_v)\n",
    "print(f\"TOTAL|Acc={sum(accs)/len(accs)}|10-CV={sum(cv_means)/len(cv_means)}|STD={sum(cv_stds)/len(cv_stds)}\")"
   ]
  },
  {
   "cell_type": "markdown",
   "metadata": {},
   "source": [
    "### 4.3 $ \\text{PLV}(j,k) = \\frac{1}{T} | \\Sigma^{T}_{t=1} e^{i(\\phi^{t}_{j} - \\phi^{t}_{k})}   | $"
   ]
  },
  {
   "cell_type": "code",
   "execution_count": 13,
   "metadata": {},
   "outputs": [],
   "source": [
    "# bands = [(0,4), (4,8), (8,12), (12,30), (30,64)]\n",
    "def calculate_stft(signals, sfreq):\n",
    "    from scipy import signal\n",
    "    f_range, t_range, Z = signal.stft(signals, sfreq, nperseg=sfreq//10, nfft=sfreq)\n",
    "    magnitude = np.abs(Z) \n",
    "    phase = np.angle(Z)\n",
    "    return magnitude, phase, f_range, t_range\n",
    "\n",
    "def PLV_stft(p_id, phase):\n",
    "    # (32, 65, 12) => (channels, freqs, times)\n",
    "    # print(f\"p_id:{p_id} - data to run {phase.shape}\")\n",
    "    print(phase.shape)\n",
    "    from itertools import combinations\n",
    "    plv = []\n",
    "    # count = 0\n",
    "    for index in range(phase.shape[0]):\n",
    "        plv_epoch = []\n",
    "        for comb in combinations(list(range(phase.shape[1])), 2):\n",
    "            # shape = (65,12)\n",
    "            phase_a, phase_b = phase[index, comb[0]], phase[index, comb[1]]\n",
    "            phase_diff = phase_a - phase_b\n",
    "            # sum along the time size\n",
    "            plv_ab = np.abs(np.average(np.exp(complex(0,1) * phase_diff), axis=1))\n",
    "            plv_epoch.append(plv_ab)\n",
    "        plv_epoch = np.vstack(plv_epoch)\n",
    "        # print(plv_epoch.shape) => (300, 32, 65, 23)\n",
    "        plv_epoch_5 = np.concatenate([ plv_epoch[:,0:4].mean(axis=1).reshape(-1,1),\n",
    "                                        plv_epoch[:,4:8].mean(axis=1).reshape(-1,1),\n",
    "                                        plv_epoch[:,8:12].mean(axis=1).reshape(-1,1),\n",
    "                                        plv_epoch[:,12:30].mean(axis=1).reshape(-1,1),\n",
    "                                        plv_epoch[:,30:65].mean(axis=1).reshape(-1,1)], axis=0)\n",
    "        plv.append(np.expand_dims(plv_epoch_5, axis=0))\n",
    "        # count += 1\n",
    "        # if(count == 3): break\n",
    "    # shape (496, 65)\n",
    "    # 496 is number of pairs that is not duplicate\n",
    "    # 65 is number of phase of frequencies\n",
    "    plv = np.vstack( plv )\n",
    "    return plv.squeeze()\n",
    "\n",
    "def calculate_plv(data, n_jobs=8):\n",
    "    \"\"\" \n",
    "    Input: Expect data to have (n_epochs, n_channels, n_samples)\n",
    "    Output: (n_epochs, n_conn, n_freqs ) => n_conn = n_channels!/(2!(n_channels-2)!)\n",
    "    \"\"\"\n",
    "    from multiprocessing import Pool\n",
    "\n",
    "    try:\n",
    "        t_out = 60000\n",
    "        pool = Pool()\n",
    "        p_list = []\n",
    "        ans_list = []\n",
    "        num_p = n_jobs\n",
    "        indices = np.array_split(np.arange(data.shape[0]), num_p)\n",
    "        _, phase, _, _ = calculate_stft(data, 128)\n",
    "        for p_id in range(num_p):\n",
    "            p_list.append(pool.apply_async(PLV_stft, [p_id, phase[indices[p_id]] ]))\n",
    "        for p_id in range(num_p):\n",
    "            ans_list.append( p_list[p_id].get(timeout=t_out) )\n",
    "        # ans_list\n",
    "    finally:\n",
    "        print(\"========= close ========\")\n",
    "        pool.close() \n",
    "        pool.terminate()\n",
    "    return np.vstack(ans_list)\n"
   ]
  },
  {
   "cell_type": "code",
   "execution_count": 14,
   "metadata": {},
   "outputs": [
    {
     "data": {
      "application/vnd.jupyter.widget-view+json": {
       "model_id": "0136556522da4d9491b9e137cc205bfa",
       "version_major": 2,
       "version_minor": 0
      },
      "text/plain": [
       "  0%|          | 0/32 [00:00<?, ?it/s]"
      ]
     },
     "metadata": {},
     "output_type": "display_data"
    },
    {
     "name": "stdout",
     "output_type": "stream",
     "text": [
      "Fitted sphere radius:         95.3 mm\n",
      "Origin head coordinates:      -0.8 15.1 45.3 mm\n",
      "Origin device coordinates:    -0.8 15.1 45.3 mm\n",
      "(15, 32, 65, 428)\n",
      "(15, 32, 65, 428)\n",
      "(15, 32, 65, 428)\n",
      "(15, 32, 65, 428)\n",
      "(15, 32, 65, 428)\n",
      "(15, 32, 65, 428)\n",
      "(15, 32, 65, 428)\n",
      "(15, 32, 65, 428)\n",
      "========= close ========\n",
      "\tAROUSAL-s01|Acc=0.76667|10-CV=0.57|STD=0.17156|Time spend=20.15840244293213\n",
      "\tVALENCE-s01|Acc=0.74167|10-CV=0.50667|STD=0.12543|Time spend=20.388860940933228\n",
      "Fitted sphere radius:         95.3 mm\n",
      "Origin head coordinates:      -0.8 15.1 45.3 mm\n",
      "Origin device coordinates:    -0.8 15.1 45.3 mm\n",
      "(15, 32, 65, 428)\n",
      "(15, 32, 65, 428)\n",
      "(15, 32, 65, 428)\n",
      "(15, 32, 65, 428)\n",
      "(15, 32, 65, 428)\n",
      "(15, 32, 65, 428)\n",
      "(15, 32, 65, 428)\n",
      "(15, 32, 65, 428)\n",
      "========= close ========\n",
      "\tAROUSAL-s02|Acc=0.69167|10-CV=0.51667|STD=0.07782|Time spend=18.61149287223816\n",
      "\tVALENCE-s02|Acc=0.74167|10-CV=0.65|STD=0.10878|Time spend=18.826033353805542\n",
      "Fitted sphere radius:         95.3 mm\n",
      "Origin head coordinates:      -0.8 15.1 45.3 mm\n",
      "Origin device coordinates:    -0.8 15.1 45.3 mm\n",
      "(15, 32, 65, 428)\n",
      "(15, 32, 65, 428)\n",
      "(15, 32, 65, 428)\n",
      "(15, 32, 65, 428)\n",
      "(15, 32, 65, 428)\n",
      "(15, 32, 65, 428)\n",
      "(15, 32, 65, 428)\n",
      "(15, 32, 65, 428)\n",
      "========= close ========\n",
      "\tAROUSAL-s03|Acc=0.8|10-CV=0.73|STD=0.15524|Time spend=19.47097945213318\n",
      "\tVALENCE-s03|Acc=0.73333|10-CV=0.49667|STD=0.17026|Time spend=19.5855450630188\n",
      "Fitted sphere radius:         95.3 mm\n",
      "Origin head coordinates:      -0.8 15.1 45.3 mm\n",
      "Origin device coordinates:    -0.8 15.1 45.3 mm\n",
      "(15, 32, 65, 428)\n",
      "(15, 32, 65, 428)\n",
      "(15, 32, 65, 428)\n",
      "(15, 32, 65, 428)\n",
      "(15, 32, 65, 428)\n",
      "(15, 32, 65, 428)\n",
      "(15, 32, 65, 428)\n",
      "(15, 32, 65, 428)\n",
      "========= close ========\n",
      "\tAROUSAL-s04|Acc=0.725|10-CV=0.58333|STD=0.12494|Time spend=18.402034521102905\n",
      "\tVALENCE-s04|Acc=0.75|10-CV=0.54667|STD=0.09798|Time spend=18.631186723709106\n",
      "Fitted sphere radius:         95.3 mm\n",
      "Origin head coordinates:      -0.8 15.1 45.3 mm\n",
      "Origin device coordinates:    -0.8 15.1 45.3 mm\n",
      "(15, 32, 65, 428)\n",
      "(15, 32, 65, 428)\n",
      "(15, 32, 65, 428)\n",
      "(15, 32, 65, 428)\n",
      "(15, 32, 65, 428)\n",
      "(15, 32, 65, 428)\n",
      "(15, 32, 65, 428)\n",
      "(15, 32, 65, 428)\n",
      "========= close ========\n",
      "\tAROUSAL-s05|Acc=0.66667|10-CV=0.44667|STD=0.13597|Time spend=19.92616081237793\n",
      "\tVALENCE-s05|Acc=0.6|10-CV=0.57667|STD=0.09315|Time spend=20.15305757522583\n",
      "Fitted sphere radius:         95.3 mm\n",
      "Origin head coordinates:      -0.8 15.1 45.3 mm\n",
      "Origin device coordinates:    -0.8 15.1 45.3 mm\n",
      "(15, 32, 65, 428)\n",
      "(15, 32, 65, 428)\n",
      "(15, 32, 65, 428)\n",
      "(15, 32, 65, 428)\n",
      "(15, 32, 65, 428)\n",
      "(15, 32, 65, 428)\n",
      "(15, 32, 65, 428)\n",
      "(15, 32, 65, 428)\n",
      "========= close ========\n",
      "\tAROUSAL-s06|Acc=0.60833|10-CV=0.51333|STD=0.1384|Time spend=18.602551698684692\n",
      "\tVALENCE-s06|Acc=0.75|10-CV=0.72|STD=0.07483|Time spend=18.840715169906616\n",
      "Fitted sphere radius:         95.3 mm\n",
      "Origin head coordinates:      -0.8 15.1 45.3 mm\n",
      "Origin device coordinates:    -0.8 15.1 45.3 mm\n",
      "(15, 32, 65, 428)\n",
      "(15, 32, 65, 428)\n",
      "(15, 32, 65, 428)\n",
      "(15, 32, 65, 428)\n",
      "(15, 32, 65, 428)\n",
      "(15, 32, 65, 428)\n",
      "(15, 32, 65, 428)\n",
      "(15, 32, 65, 428)\n",
      "========= close ========\n",
      "\tAROUSAL-s07|Acc=0.69167|10-CV=0.62667|STD=0.11235|Time spend=19.478858470916748\n",
      "\tVALENCE-s07|Acc=0.71667|10-CV=0.66|STD=0.13728|Time spend=19.688887357711792\n",
      "Fitted sphere radius:         95.3 mm\n",
      "Origin head coordinates:      -0.8 15.1 45.3 mm\n",
      "Origin device coordinates:    -0.8 15.1 45.3 mm\n",
      "(15, 32, 65, 428)\n",
      "(15, 32, 65, 428)\n",
      "(15, 32, 65, 428)\n",
      "(15, 32, 65, 428)\n",
      "(15, 32, 65, 428)\n",
      "(15, 32, 65, 428)\n",
      "(15, 32, 65, 428)\n",
      "(15, 32, 65, 428)\n",
      "========= close ========\n",
      "\tAROUSAL-s08|Acc=0.725|10-CV=0.41333|STD=0.11662|Time spend=18.21119737625122\n",
      "\tVALENCE-s08|Acc=0.76667|10-CV=0.54333|STD=0.1193|Time spend=18.413172483444214\n",
      "Fitted sphere radius:         95.3 mm\n",
      "Origin head coordinates:      -0.8 15.1 45.3 mm\n",
      "Origin device coordinates:    -0.8 15.1 45.3 mm\n",
      "(15, 32, 65, 428)\n",
      "(15, 32, 65, 428)\n",
      "(15, 32, 65, 428)\n",
      "(15, 32, 65, 428)\n",
      "(15, 32, 65, 428)\n",
      "(15, 32, 65, 428)\n",
      "(15, 32, 65, 428)\n",
      "(15, 32, 65, 428)\n",
      "========= close ========\n",
      "\tAROUSAL-s09|Acc=0.66667|10-CV=0.50667|STD=0.08794|Time spend=18.513688802719116\n",
      "\tVALENCE-s09|Acc=0.8|10-CV=0.67|STD=0.09939|Time spend=18.744421005249023\n",
      "Fitted sphere radius:         95.3 mm\n",
      "Origin head coordinates:      -0.8 15.1 45.3 mm\n",
      "Origin device coordinates:    -0.8 15.1 45.3 mm\n",
      "(15, 32, 65, 428)\n",
      "(15, 32, 65, 428)\n",
      "(15, 32, 65, 428)\n",
      "(15, 32, 65, 428)\n",
      "(15, 32, 65, 428)\n",
      "(15, 32, 65, 428)\n",
      "(15, 32, 65, 428)\n",
      "(15, 32, 65, 428)\n",
      "========= close ========\n",
      "\tAROUSAL-s10|Acc=0.725|10-CV=0.64|STD=0.07118|Time spend=18.754103899002075\n",
      "\tVALENCE-s10|Acc=0.83333|10-CV=0.77|STD=0.09597|Time spend=18.998952865600586\n",
      "Fitted sphere radius:         95.3 mm\n",
      "Origin head coordinates:      -0.8 15.1 45.3 mm\n",
      "Origin device coordinates:    -0.8 15.1 45.3 mm\n",
      "(15, 32, 65, 428)\n",
      "(15, 32, 65, 428)\n",
      "(15, 32, 65, 428)\n",
      "(15, 32, 65, 428)\n",
      "(15, 32, 65, 428)\n",
      "(15, 32, 65, 428)\n",
      "(15, 32, 65, 428)\n",
      "(15, 32, 65, 428)\n",
      "========= close ========\n",
      "\tAROUSAL-s11|Acc=0.625|10-CV=0.59|STD=0.07|Time spend=17.912303686141968\n",
      "\tVALENCE-s11|Acc=0.7|10-CV=0.53333|STD=0.16125|Time spend=18.111365795135498\n",
      "Fitted sphere radius:         95.3 mm\n",
      "Origin head coordinates:      -0.8 15.1 45.3 mm\n",
      "Origin device coordinates:    -0.8 15.1 45.3 mm\n",
      "(15, 32, 65, 428)\n",
      "(15, 32, 65, 428)\n",
      "(15, 32, 65, 428)\n",
      "(15, 32, 65, 428)\n",
      "(15, 32, 65, 428)\n",
      "(15, 32, 65, 428)\n",
      "(15, 32, 65, 428)\n",
      "(15, 32, 65, 428)\n",
      "========= close ========\n",
      "\tAROUSAL-s12|Acc=0.825|10-CV=0.83|STD=0.1005|Time spend=18.593616724014282\n",
      "\tVALENCE-s12|Acc=0.61667|10-CV=0.46667|STD=0.16865|Time spend=18.711397409439087\n",
      "Fitted sphere radius:         95.3 mm\n",
      "Origin head coordinates:      -0.8 15.1 45.3 mm\n",
      "Origin device coordinates:    -0.8 15.1 45.3 mm\n",
      "(15, 32, 65, 428)\n",
      "(15, 32, 65, 428)\n",
      "(15, 32, 65, 428)\n",
      "(15, 32, 65, 428)\n",
      "(15, 32, 65, 428)\n",
      "(15, 32, 65, 428)\n",
      "(15, 32, 65, 428)\n",
      "(15, 32, 65, 428)\n",
      "========= close ========\n",
      "\tAROUSAL-s13|Acc=0.85|10-CV=0.84|STD=0.06633|Time spend=17.791789531707764\n",
      "\tVALENCE-s13|Acc=0.80833|10-CV=0.77667|STD=0.1096|Time spend=18.00439214706421\n",
      "Fitted sphere radius:         95.3 mm\n",
      "Origin head coordinates:      -0.8 15.1 45.3 mm\n",
      "Origin device coordinates:    -0.8 15.1 45.3 mm\n",
      "(15, 32, 65, 428)\n",
      "(15, 32, 65, 428)\n",
      "(15, 32, 65, 428)\n",
      "(15, 32, 65, 428)\n",
      "(15, 32, 65, 428)\n",
      "(15, 32, 65, 428)\n",
      "(15, 32, 65, 428)\n",
      "(15, 32, 65, 428)\n",
      "========= close ========\n",
      "\tAROUSAL-s14|Acc=0.675|10-CV=0.65667|STD=0.11358|Time spend=18.728073120117188\n",
      "\tVALENCE-s14|Acc=0.76667|10-CV=0.65333|STD=0.08327|Time spend=19.029064655303955\n",
      "Fitted sphere radius:         95.3 mm\n",
      "Origin head coordinates:      -0.8 15.1 45.3 mm\n",
      "Origin device coordinates:    -0.8 15.1 45.3 mm\n",
      "(15, 32, 65, 428)\n",
      "(15, 32, 65, 428)\n",
      "(15, 32, 65, 428)\n",
      "(15, 32, 65, 428)\n",
      "(15, 32, 65, 428)\n",
      "(15, 32, 65, 428)\n",
      "(15, 32, 65, 428)\n",
      "(15, 32, 65, 428)\n",
      "========= close ========\n",
      "\tAROUSAL-s15|Acc=0.69167|10-CV=0.5|STD=0.12824|Time spend=17.955145835876465\n",
      "\tVALENCE-s15|Acc=0.89167|10-CV=0.8|STD=0.07746|Time spend=18.161165475845337\n",
      "Fitted sphere radius:         95.3 mm\n",
      "Origin head coordinates:      -0.8 15.1 45.3 mm\n",
      "Origin device coordinates:    -0.8 15.1 45.3 mm\n",
      "(15, 32, 65, 428)\n",
      "(15, 32, 65, 428)\n",
      "(15, 32, 65, 428)\n",
      "(15, 32, 65, 428)\n",
      "(15, 32, 65, 428)\n",
      "(15, 32, 65, 428)\n",
      "(15, 32, 65, 428)\n",
      "(15, 32, 65, 428)\n",
      "========= close ========\n",
      "\tAROUSAL-s16|Acc=0.7|10-CV=0.47|STD=0.15162|Time spend=17.06482219696045\n",
      "\tVALENCE-s16|Acc=0.70833|10-CV=0.63333|STD=0.11353|Time spend=17.36113405227661\n",
      "Fitted sphere radius:         95.3 mm\n",
      "Origin head coordinates:      -0.8 15.1 45.3 mm\n",
      "Origin device coordinates:    -0.8 15.1 45.3 mm\n",
      "(15, 32, 65, 428)\n",
      "(15, 32, 65, 428)\n",
      "(15, 32, 65, 428)\n",
      "(15, 32, 65, 428)\n",
      "(15, 32, 65, 428)\n",
      "(15, 32, 65, 428)\n",
      "(15, 32, 65, 428)\n",
      "(15, 32, 65, 428)\n",
      "========= close ========\n",
      "\tAROUSAL-s17|Acc=0.79167|10-CV=0.66333|STD=0.0836|Time spend=17.17287516593933\n",
      "\tVALENCE-s17|Acc=0.625|10-CV=0.43667|STD=0.0875|Time spend=17.374147653579712\n",
      "Fitted sphere radius:         95.3 mm\n",
      "Origin head coordinates:      -0.8 15.1 45.3 mm\n",
      "Origin device coordinates:    -0.8 15.1 45.3 mm\n",
      "(15, 32, 65, 428)\n",
      "(15, 32, 65, 428)\n",
      "(15, 32, 65, 428)\n",
      "(15, 32, 65, 428)\n",
      "(15, 32, 65, 428)\n",
      "(15, 32, 65, 428)\n",
      "(15, 32, 65, 428)\n",
      "(15, 32, 65, 428)\n",
      "========= close ========\n",
      "\tAROUSAL-s18|Acc=0.625|10-CV=0.54667|STD=0.11662|Time spend=17.46455478668213\n",
      "\tVALENCE-s18|Acc=0.81667|10-CV=0.78333|STD=0.08199|Time spend=17.704328060150146\n",
      "Fitted sphere radius:         95.3 mm\n",
      "Origin head coordinates:      -0.8 15.1 45.3 mm\n",
      "Origin device coordinates:    -0.8 15.1 45.3 mm\n",
      "(15, 32, 65, 428)\n",
      "(15, 32, 65, 428)\n",
      "(15, 32, 65, 428)\n",
      "(15, 32, 65, 428)\n",
      "(15, 32, 65, 428)\n",
      "(15, 32, 65, 428)\n",
      "(15, 32, 65, 428)\n",
      "(15, 32, 65, 428)\n",
      "========= close ========\n",
      "\tAROUSAL-s19|Acc=0.775|10-CV=0.63333|STD=0.1325|Time spend=18.13073492050171\n",
      "\tVALENCE-s19|Acc=0.725|10-CV=0.53|STD=0.15452|Time spend=18.462473154067993\n",
      "Fitted sphere radius:         95.3 mm\n",
      "Origin head coordinates:      -0.8 15.1 45.3 mm\n",
      "Origin device coordinates:    -0.8 15.1 45.3 mm\n",
      "(15, 32, 65, 428)\n",
      "(15, 32, 65, 428)\n",
      "(15, 32, 65, 428)\n",
      "(15, 32, 65, 428)\n",
      "(15, 32, 65, 428)\n",
      "(15, 32, 65, 428)\n",
      "(15, 32, 65, 428)\n",
      "(15, 32, 65, 428)\n",
      "========= close ========\n",
      "\tAROUSAL-s20|Acc=0.775|10-CV=0.82|STD=0.08718|Time spend=17.954002857208252\n",
      "\tVALENCE-s20|Acc=0.80833|10-CV=0.64333|STD=0.15496|Time spend=18.14989399909973\n",
      "Fitted sphere radius:         95.3 mm\n",
      "Origin head coordinates:      -0.8 15.1 45.3 mm\n",
      "Origin device coordinates:    -0.8 15.1 45.3 mm\n",
      "(15, 32, 65, 428)\n",
      "(15, 32, 65, 428)\n",
      "(15, 32, 65, 428)\n",
      "(15, 32, 65, 428)\n",
      "(15, 32, 65, 428)\n",
      "(15, 32, 65, 428)\n",
      "(15, 32, 65, 428)\n",
      "(15, 32, 65, 428)\n",
      "========= close ========\n",
      "\tAROUSAL-s21|Acc=0.8|10-CV=0.8|STD=0.1|Time spend=17.359912872314453\n",
      "\tVALENCE-s21|Acc=0.65833|10-CV=0.39|STD=0.07157|Time spend=17.600696563720703\n",
      "Fitted sphere radius:         95.3 mm\n",
      "Origin head coordinates:      -0.8 15.1 45.3 mm\n",
      "Origin device coordinates:    -0.8 15.1 45.3 mm\n",
      "(15, 32, 65, 428)\n",
      "(15, 32, 65, 428)\n",
      "(15, 32, 65, 428)\n",
      "(15, 32, 65, 428)\n",
      "(15, 32, 65, 428)\n",
      "(15, 32, 65, 428)\n",
      "(15, 32, 65, 428)\n",
      "(15, 32, 65, 428)\n",
      "========= close ========\n",
      "\tAROUSAL-s22|Acc=0.60833|10-CV=0.6|STD=0.06498|Time spend=16.027748823165894\n",
      "\tVALENCE-s22|Acc=0.74167|10-CV=0.69667|STD=0.06046|Time spend=16.23517346382141\n",
      "Fitted sphere radius:         95.3 mm\n",
      "Origin head coordinates:      -0.8 15.1 45.3 mm\n",
      "Origin device coordinates:    -0.8 15.1 45.3 mm\n",
      "(15, 32, 65, 428)\n",
      "(15, 32, 65, 428)\n",
      "(15, 32, 65, 428)\n",
      "(15, 32, 65, 428)\n",
      "(15, 32, 65, 428)\n",
      "(15, 32, 65, 428)\n",
      "(15, 32, 65, 428)\n",
      "(15, 32, 65, 428)\n",
      "========= close ========\n",
      "\tAROUSAL-s23|Acc=0.75|10-CV=0.78|STD=0.09798|Time spend=16.99070906639099\n",
      "\tVALENCE-s23|Acc=0.65|10-CV=0.60667|STD=0.14742|Time spend=17.185694932937622\n",
      "Fitted sphere radius:         95.3 mm\n",
      "Origin head coordinates:      -0.8 15.1 45.3 mm\n",
      "Origin device coordinates:    -0.8 15.1 45.3 mm\n",
      "(15, 32, 65, 428)\n",
      "(15, 32, 65, 428)\n",
      "(15, 32, 65, 428)\n",
      "(15, 32, 65, 428)\n",
      "(15, 32, 65, 428)\n",
      "(15, 32, 65, 428)\n",
      "(15, 32, 65, 428)\n",
      "(15, 32, 65, 428)\n",
      "========= close ========\n",
      "\tAROUSAL-s24|Acc=0.825|10-CV=0.82|STD=0.07483|Time spend=17.83641505241394\n",
      "\tVALENCE-s24|Acc=0.78333|10-CV=0.59667|STD=0.12152|Time spend=18.042221069335938\n",
      "Fitted sphere radius:         95.3 mm\n",
      "Origin head coordinates:      -0.8 15.1 45.3 mm\n",
      "Origin device coordinates:    -0.8 15.1 45.3 mm\n",
      "(15, 32, 65, 428)\n",
      "(15, 32, 65, 428)\n",
      "(15, 32, 65, 428)\n",
      "(15, 32, 65, 428)\n",
      "(15, 32, 65, 428)\n",
      "(15, 32, 65, 428)\n",
      "(15, 32, 65, 428)\n",
      "(15, 32, 65, 428)\n",
      "========= close ========\n",
      "\tAROUSAL-s25|Acc=0.725|10-CV=0.74|STD=0.12806|Time spend=16.780237197875977\n",
      "\tVALENCE-s25|Acc=0.625|10-CV=0.39|STD=0.10006|Time spend=16.997225046157837\n",
      "Fitted sphere radius:         95.3 mm\n",
      "Origin head coordinates:      -0.8 15.1 45.3 mm\n",
      "Origin device coordinates:    -0.8 15.1 45.3 mm\n",
      "(15, 32, 65, 428)\n",
      "(15, 32, 65, 428)\n",
      "(15, 32, 65, 428)\n",
      "(15, 32, 65, 428)\n",
      "(15, 32, 65, 428)\n",
      "(15, 32, 65, 428)\n",
      "(15, 32, 65, 428)\n",
      "(15, 32, 65, 428)\n",
      "========= close ========\n",
      "\tAROUSAL-s26|Acc=0.66667|10-CV=0.56333|STD=0.15308|Time spend=17.217772245407104\n",
      "\tVALENCE-s26|Acc=0.65|10-CV=0.62|STD=0.14|Time spend=17.49379825592041\n",
      "Fitted sphere radius:         95.3 mm\n",
      "Origin head coordinates:      -0.8 15.1 45.3 mm\n",
      "Origin device coordinates:    -0.8 15.1 45.3 mm\n",
      "(15, 32, 65, 428)\n",
      "(15, 32, 65, 428)\n",
      "(15, 32, 65, 428)\n",
      "(15, 32, 65, 428)\n",
      "(15, 32, 65, 428)\n",
      "(15, 32, 65, 428)\n",
      "(15, 32, 65, 428)\n",
      "(15, 32, 65, 428)\n",
      "========= close ========\n",
      "\tAROUSAL-s27|Acc=0.75833|10-CV=0.62667|STD=0.09978|Time spend=17.671376705169678\n",
      "\tVALENCE-s27|Acc=0.75|10-CV=0.67|STD=0.12689|Time spend=17.87037992477417\n",
      "Fitted sphere radius:         95.3 mm\n",
      "Origin head coordinates:      -0.8 15.1 45.3 mm\n",
      "Origin device coordinates:    -0.8 15.1 45.3 mm\n",
      "(15, 32, 65, 428)\n",
      "(15, 32, 65, 428)\n",
      "(15, 32, 65, 428)\n",
      "(15, 32, 65, 428)\n",
      "(15, 32, 65, 428)\n",
      "(15, 32, 65, 428)\n",
      "(15, 32, 65, 428)\n",
      "(15, 32, 65, 428)\n",
      "========= close ========\n",
      "\tAROUSAL-s28|Acc=0.55|10-CV=0.44667|STD=0.16138|Time spend=17.85354995727539\n",
      "\tVALENCE-s28|Acc=0.625|10-CV=0.52|STD=0.1249|Time spend=18.105986833572388\n",
      "Fitted sphere radius:         95.3 mm\n",
      "Origin head coordinates:      -0.8 15.1 45.3 mm\n",
      "Origin device coordinates:    -0.8 15.1 45.3 mm\n",
      "(15, 32, 65, 428)\n",
      "(15, 32, 65, 428)\n",
      "(15, 32, 65, 428)\n",
      "(15, 32, 65, 428)\n",
      "(15, 32, 65, 428)\n",
      "(15, 32, 65, 428)\n",
      "(15, 32, 65, 428)\n",
      "(15, 32, 65, 428)\n",
      "========= close ========\n",
      "\tAROUSAL-s29|Acc=0.70833|10-CV=0.56333|STD=0.1159|Time spend=18.878539323806763\n",
      "\tVALENCE-s29|Acc=0.725|10-CV=0.58|STD=0.08589|Time spend=19.090675354003906\n",
      "Fitted sphere radius:         95.3 mm\n",
      "Origin head coordinates:      -0.8 15.1 45.3 mm\n",
      "Origin device coordinates:    -0.8 15.1 45.3 mm\n",
      "(15, 32, 65, 428)\n",
      "(15, 32, 65, 428)\n",
      "(15, 32, 65, 428)\n",
      "(15, 32, 65, 428)\n",
      "(15, 32, 65, 428)\n",
      "(15, 32, 65, 428)\n",
      "(15, 32, 65, 428)\n",
      "(15, 32, 65, 428)\n",
      "========= close ========\n",
      "\tAROUSAL-s30|Acc=0.65|10-CV=0.48333|STD=0.12671|Time spend=17.483876705169678\n",
      "\tVALENCE-s30|Acc=0.675|10-CV=0.62|STD=0.14697|Time spend=17.763676404953003\n",
      "Fitted sphere radius:         95.3 mm\n",
      "Origin head coordinates:      -0.8 15.1 45.3 mm\n",
      "Origin device coordinates:    -0.8 15.1 45.3 mm\n",
      "(15, 32, 65, 428)\n",
      "(15, 32, 65, 428)\n",
      "(15, 32, 65, 428)\n",
      "(15, 32, 65, 428)\n",
      "(15, 32, 65, 428)\n",
      "(15, 32, 65, 428)\n",
      "(15, 32, 65, 428)\n",
      "(15, 32, 65, 428)\n",
      "========= close ========\n",
      "\tAROUSAL-s31|Acc=0.65|10-CV=0.50667|STD=0.12365|Time spend=18.219266176223755\n",
      "\tVALENCE-s31|Acc=0.65833|10-CV=0.48667|STD=0.12927|Time spend=18.546899795532227\n",
      "Fitted sphere radius:         95.3 mm\n",
      "Origin head coordinates:      -0.8 15.1 45.3 mm\n",
      "Origin device coordinates:    -0.8 15.1 45.3 mm\n",
      "(15, 32, 65, 428)\n",
      "(15, 32, 65, 428)\n",
      "(15, 32, 65, 428)\n",
      "(15, 32, 65, 428)\n",
      "(15, 32, 65, 428)\n",
      "(15, 32, 65, 428)\n",
      "(15, 32, 65, 428)\n",
      "(15, 32, 65, 428)\n",
      "========= close ========\n",
      "\tAROUSAL-s32|Acc=0.675|10-CV=0.74|STD=0.14283|Time spend=16.95392608642578\n",
      "\tVALENCE-s32|Acc=0.78333|10-CV=0.65|STD=0.08851|Time spend=17.157273054122925\n",
      "AROUSAL|Acc=0.7114583333333332|10-CV=0.6177083333333333|STD=0.11348042730099067\n",
      "VALENCE|Acc=0.7257812500000002|10-CV=0.6007291666666666|STD=0.11432973403109145\n"
     ]
    }
   ],
   "source": [
    "accs, cv_means, cv_stds = [],[],[]\n",
    "accs_v, cv_means_v, cv_stds_v = [],[],[]\n",
    "reports = []\n",
    "for filename in (pbar := tqdm(dataset.get_file_list())):\n",
    "    start = time.time()\n",
    "    pbar.set_description(filename)\n",
    "    data, labels, groups = dataset.get_data(filename, stimuli=Dataset_subjectDependent.STIMULI_AROUSAL, return_type='mne', sfreq=128)\n",
    "    \n",
    "    data_csd = mne.preprocessing.compute_current_source_density(data)\n",
    "\n",
    "    plv = calculate_plv(data_csd.get_data(), n_jobs=8)\n",
    "\n",
    "    _,acc,cross,train_report = train_model(plv, labels.squeeze(), groups, filename=filename, return_text=True)\n",
    "    report = f\"\\tAROUSAL-{filename}|Acc={round(acc,5)}|10-CV={round(cross.mean(),5)}|STD={round(cross.std(),5)}|Time spend={time.time() - start}\"\n",
    "    print(report)\n",
    "    reports.append(report)\n",
    "    reports.append(train_report)\n",
    "    accs.append(acc)\n",
    "    cv_means.append(cross.mean())\n",
    "    cv_stds.append(cross.std())\n",
    "\n",
    "    _, labels_v, groups_v = dataset.get_data(filename, stimuli=Dataset_subjectDependent.STIMULI_VALENCE, return_type='mne', sfreq=128)\n",
    "    _,acc,cross,train_report = train_model(plv, labels_v.squeeze(), groups_v, filename=filename, return_text=True)\n",
    "    report = f\"\\tVALENCE-{filename}|Acc={round(acc,5)}|10-CV={round(cross.mean(),5)}|STD={round(cross.std(),5)}|Time spend={time.time() - start}\"\n",
    "    print(report)\n",
    "    reports.append(report)\n",
    "    reports.append(train_report)\n",
    "    accs_v.append(acc)\n",
    "    cv_means_v.append(cross.mean())\n",
    "    cv_stds_v.append(cross.std())\n",
    "    # break\n",
    "    # count+=1\n",
    "    # if(count == 5): break\n",
    "report = f\"AROUSAL|Acc={sum(accs)/len(accs)}|10-CV={sum(cv_means)/len(cv_means)}|STD={sum(cv_stds)/len(cv_stds)}\"\n",
    "print(report)\n",
    "reports.append(report)\n",
    "report = f\"VALENCE|Acc={sum(accs_v)/len(accs_v)}|10-CV={sum(cv_means_v)/len(cv_means_v)}|STD={sum(cv_stds_v)/len(cv_stds_v)}\"\n",
    "print(report)\n",
    "reports.append(report)"
   ]
  },
  {
   "cell_type": "code",
   "execution_count": 15,
   "metadata": {},
   "outputs": [
    {
     "name": "stdout",
     "output_type": "stream",
     "text": [
      "\tAROUSAL-s01|Acc=0.76667|10-CV=0.57|STD=0.17156|Time spend=20.15840244293213\n",
      "\tVALENCE-s01|Acc=0.74167|10-CV=0.50667|STD=0.12543|Time spend=20.388860940933228\n",
      "\tAROUSAL-s02|Acc=0.69167|10-CV=0.51667|STD=0.07782|Time spend=18.61149287223816\n",
      "\tVALENCE-s02|Acc=0.74167|10-CV=0.65|STD=0.10878|Time spend=18.826033353805542\n",
      "\tAROUSAL-s03|Acc=0.8|10-CV=0.73|STD=0.15524|Time spend=19.47097945213318\n",
      "-----WARNING: Model s03 failed to learn: sum(ans)=0.0 sum(y)=24.0 len(y)=120\n",
      "\tVALENCE-s03|Acc=0.73333|10-CV=0.49667|STD=0.17026|Time spend=19.5855450630188\n",
      "\tAROUSAL-s04|Acc=0.725|10-CV=0.58333|STD=0.12494|Time spend=18.402034521102905\n",
      "\tVALENCE-s04|Acc=0.75|10-CV=0.54667|STD=0.09798|Time spend=18.631186723709106\n",
      "\tAROUSAL-s05|Acc=0.66667|10-CV=0.44667|STD=0.13597|Time spend=19.92616081237793\n",
      "\tVALENCE-s05|Acc=0.6|10-CV=0.57667|STD=0.09315|Time spend=20.15305757522583\n",
      "-----WARNING: Model s05 failed to learn: sum(ans)=120.0 sum(y)=72.0 len(y)=120\n",
      "\tAROUSAL-s06|Acc=0.60833|10-CV=0.51333|STD=0.1384|Time spend=18.602551698684692\n",
      "\tVALENCE-s06|Acc=0.75|10-CV=0.72|STD=0.07483|Time spend=18.840715169906616\n",
      "-----WARNING: Model s06 failed to learn: sum(ans)=120.0 sum(y)=90.0 len(y)=120\n",
      "\tAROUSAL-s07|Acc=0.69167|10-CV=0.62667|STD=0.11235|Time spend=19.478858470916748\n",
      "\tVALENCE-s07|Acc=0.71667|10-CV=0.66|STD=0.13728|Time spend=19.688887357711792\n",
      "\tAROUSAL-s08|Acc=0.725|10-CV=0.41333|STD=0.11662|Time spend=18.21119737625122\n",
      "\tVALENCE-s08|Acc=0.76667|10-CV=0.54333|STD=0.1193|Time spend=18.413172483444214\n",
      "\tAROUSAL-s09|Acc=0.66667|10-CV=0.50667|STD=0.08794|Time spend=18.513688802719116\n",
      "\tVALENCE-s09|Acc=0.8|10-CV=0.67|STD=0.09939|Time spend=18.744421005249023\n",
      "\tAROUSAL-s10|Acc=0.725|10-CV=0.64|STD=0.07118|Time spend=18.754103899002075\n",
      "\tVALENCE-s10|Acc=0.83333|10-CV=0.77|STD=0.09597|Time spend=18.998952865600586\n",
      "\tAROUSAL-s11|Acc=0.625|10-CV=0.59|STD=0.07|Time spend=17.912303686141968\n",
      "-----WARNING: Model s11 failed to learn: sum(ans)=0.0 sum(y)=45.0 len(y)=120\n",
      "\tVALENCE-s11|Acc=0.7|10-CV=0.53333|STD=0.16125|Time spend=18.111365795135498\n",
      "\tAROUSAL-s12|Acc=0.825|10-CV=0.83|STD=0.1005|Time spend=18.593616724014282\n",
      "-----WARNING: Model s12 failed to learn: sum(ans)=120.0 sum(y)=99.0 len(y)=120\n",
      "\tVALENCE-s12|Acc=0.61667|10-CV=0.46667|STD=0.16865|Time spend=18.711397409439087\n",
      "\tAROUSAL-s13|Acc=0.85|10-CV=0.84|STD=0.06633|Time spend=17.791789531707764\n",
      "-----WARNING: Model s13 failed to learn: sum(ans)=120.0 sum(y)=102.0 len(y)=120\n",
      "\tVALENCE-s13|Acc=0.80833|10-CV=0.77667|STD=0.1096|Time spend=18.00439214706421\n",
      "\tAROUSAL-s14|Acc=0.675|10-CV=0.65667|STD=0.11358|Time spend=18.728073120117188\n",
      "-----WARNING: Model s14 failed to learn: sum(ans)=120.0 sum(y)=81.0 len(y)=120\n",
      "\tVALENCE-s14|Acc=0.76667|10-CV=0.65333|STD=0.08327|Time spend=19.029064655303955\n",
      "\tAROUSAL-s15|Acc=0.69167|10-CV=0.5|STD=0.12824|Time spend=17.955145835876465\n",
      "\tVALENCE-s15|Acc=0.89167|10-CV=0.8|STD=0.07746|Time spend=18.161165475845337\n",
      "\tAROUSAL-s16|Acc=0.7|10-CV=0.47|STD=0.15162|Time spend=17.06482219696045\n",
      "\tVALENCE-s16|Acc=0.70833|10-CV=0.63333|STD=0.11353|Time spend=17.36113405227661\n",
      "\tAROUSAL-s17|Acc=0.79167|10-CV=0.66333|STD=0.0836|Time spend=17.17287516593933\n",
      "\tVALENCE-s17|Acc=0.625|10-CV=0.43667|STD=0.0875|Time spend=17.374147653579712\n",
      "\tAROUSAL-s18|Acc=0.625|10-CV=0.54667|STD=0.11662|Time spend=17.46455478668213\n",
      "-----WARNING: Model s18 failed to learn: sum(ans)=120.0 sum(y)=75.0 len(y)=120\n",
      "\tVALENCE-s18|Acc=0.81667|10-CV=0.78333|STD=0.08199|Time spend=17.704328060150146\n",
      "\tAROUSAL-s19|Acc=0.775|10-CV=0.63333|STD=0.1325|Time spend=18.13073492050171\n",
      "\tVALENCE-s19|Acc=0.725|10-CV=0.53|STD=0.15452|Time spend=18.462473154067993\n",
      "\tAROUSAL-s20|Acc=0.775|10-CV=0.82|STD=0.08718|Time spend=17.954002857208252\n",
      "-----WARNING: Model s20 failed to learn: sum(ans)=120.0 sum(y)=93.0 len(y)=120\n",
      "\tVALENCE-s20|Acc=0.80833|10-CV=0.64333|STD=0.15496|Time spend=18.14989399909973\n",
      "\tAROUSAL-s21|Acc=0.8|10-CV=0.8|STD=0.1|Time spend=17.359912872314453\n",
      "-----WARNING: Model s21 failed to learn: sum(ans)=120.0 sum(y)=96.0 len(y)=120\n",
      "\tVALENCE-s21|Acc=0.65833|10-CV=0.39|STD=0.07157|Time spend=17.600696563720703\n",
      "\tAROUSAL-s22|Acc=0.60833|10-CV=0.6|STD=0.06498|Time spend=16.027748823165894\n",
      "\tVALENCE-s22|Acc=0.74167|10-CV=0.69667|STD=0.06046|Time spend=16.23517346382141\n",
      "\tAROUSAL-s23|Acc=0.75|10-CV=0.78|STD=0.09798|Time spend=16.99070906639099\n",
      "-----WARNING: Model s23 failed to learn: sum(ans)=0.0 sum(y)=30.0 len(y)=120\n",
      "\tVALENCE-s23|Acc=0.65|10-CV=0.60667|STD=0.14742|Time spend=17.185694932937622\n",
      "-----WARNING: Model s23 failed to learn: sum(ans)=120.0 sum(y)=78.0 len(y)=120\n",
      "\tAROUSAL-s24|Acc=0.825|10-CV=0.82|STD=0.07483|Time spend=17.83641505241394\n",
      "-----WARNING: Model s24 failed to learn: sum(ans)=120.0 sum(y)=99.0 len(y)=120\n",
      "\tVALENCE-s24|Acc=0.78333|10-CV=0.59667|STD=0.12152|Time spend=18.042221069335938\n",
      "\tAROUSAL-s25|Acc=0.725|10-CV=0.74|STD=0.12806|Time spend=16.780237197875977\n",
      "-----WARNING: Model s25 failed to learn: sum(ans)=120.0 sum(y)=87.0 len(y)=120\n",
      "\tVALENCE-s25|Acc=0.625|10-CV=0.39|STD=0.10006|Time spend=16.997225046157837\n",
      "\tAROUSAL-s26|Acc=0.66667|10-CV=0.56333|STD=0.15308|Time spend=17.217772245407104\n",
      "\tVALENCE-s26|Acc=0.65|10-CV=0.62|STD=0.14|Time spend=17.49379825592041\n",
      "-----WARNING: Model s26 failed to learn: sum(ans)=120.0 sum(y)=78.0 len(y)=120\n",
      "\tAROUSAL-s27|Acc=0.75833|10-CV=0.62667|STD=0.09978|Time spend=17.671376705169678\n",
      "\tVALENCE-s27|Acc=0.75|10-CV=0.67|STD=0.12689|Time spend=17.87037992477417\n",
      "-----WARNING: Model s27 failed to learn: sum(ans)=120.0 sum(y)=90.0 len(y)=120\n",
      "\tAROUSAL-s28|Acc=0.55|10-CV=0.44667|STD=0.16138|Time spend=17.85354995727539\n",
      "\tVALENCE-s28|Acc=0.625|10-CV=0.52|STD=0.1249|Time spend=18.105986833572388\n",
      "-----WARNING: Model s28 failed to learn: sum(ans)=120.0 sum(y)=75.0 len(y)=120\n",
      "\tAROUSAL-s29|Acc=0.70833|10-CV=0.56333|STD=0.1159|Time spend=18.878539323806763\n",
      "\tVALENCE-s29|Acc=0.725|10-CV=0.58|STD=0.08589|Time spend=19.090675354003906\n",
      "\tAROUSAL-s30|Acc=0.65|10-CV=0.48333|STD=0.12671|Time spend=17.483876705169678\n",
      "\tVALENCE-s30|Acc=0.675|10-CV=0.62|STD=0.14697|Time spend=17.763676404953003\n",
      "-----WARNING: Model s30 failed to learn: sum(ans)=120.0 sum(y)=81.0 len(y)=120\n",
      "\tAROUSAL-s31|Acc=0.65|10-CV=0.50667|STD=0.12365|Time spend=18.219266176223755\n",
      "\tVALENCE-s31|Acc=0.65833|10-CV=0.48667|STD=0.12927|Time spend=18.546899795532227\n",
      "\tAROUSAL-s32|Acc=0.675|10-CV=0.74|STD=0.14283|Time spend=16.95392608642578\n",
      "-----WARNING: Model s32 failed to learn: sum(ans)=120.0 sum(y)=81.0 len(y)=120\n",
      "\tVALENCE-s32|Acc=0.78333|10-CV=0.65|STD=0.08851|Time spend=17.157273054122925\n",
      "AROUSAL|Acc=0.7114583333333332|10-CV=0.6177083333333333|STD=0.11348042730099067\n",
      "VALENCE|Acc=0.7257812500000002|10-CV=0.6007291666666666|STD=0.11432973403109145\n",
      "TOTAL|Acc=0.7186197916666665|10-CV=0.6092187499999999|STD=0.11390508066604105\n"
     ]
    }
   ],
   "source": [
    "for text in reports:\n",
    "    if(text == None): continue\n",
    "    print(text)\n",
    "\n",
    "accs.extend(accs_v)\n",
    "cv_means.extend(cv_means_v)\n",
    "cv_stds.extend(cv_stds_v)\n",
    "print(f\"TOTAL|Acc={sum(accs)/len(accs)}|10-CV={sum(cv_means)/len(cv_means)}|STD={sum(cv_stds)/len(cv_stds)}\")"
   ]
  },
  {
   "cell_type": "markdown",
   "metadata": {},
   "source": [
    "### 4.4 $ \\text{PLI}(j,k) =  \\frac{1}{T} | \\Sigma^{T}_{t=1} \\text{sign}(Im[e^{i (\\phi^{t}_{j} - \\phi^{t}_{k})}])  | $"
   ]
  },
  {
   "cell_type": "code",
   "execution_count": 16,
   "metadata": {},
   "outputs": [],
   "source": [
    "# bands = [(0,4), (4,8), (8,12), (12,30), (30,64)]\n",
    "def calculate_stft(signals, sfreq):\n",
    "    from scipy import signal\n",
    "    f_range, t_range, Z = signal.stft(signals, sfreq, nperseg=sfreq//10, nfft=sfreq)\n",
    "    magnitude = np.abs(Z) \n",
    "    phase = np.angle(Z)\n",
    "    return magnitude, phase, f_range, t_range\n",
    "\n",
    "def PLI_stft(p_id, phase):\n",
    "    # (32, 65, 12) => (channels, freqs, times)\n",
    "    # print(f\"p_id:{p_id} - data to run {phase.shape}\")\n",
    "    from itertools import combinations\n",
    "    pli = []\n",
    "    # count = 0\n",
    "    for index in range(phase.shape[0]):\n",
    "        pli_epoch = []\n",
    "        for comb in combinations(list(range(phase.shape[1])), 2):\n",
    "            # shape = (65,12)\n",
    "            phase_a, phase_b = phase[index, comb[0]], phase[index, comb[1]]\n",
    "            phase_diff = phase_a - phase_b\n",
    "            # sum along the time size\n",
    "            pli_ab = np.abs(np.average(   np.sign(np.imag(   np.exp(complex(0,1) * phase_diff) ))  , axis=1))\n",
    "            pli_epoch.append(pli_ab)\n",
    "        pli_epoch = np.vstack(pli_epoch)\n",
    "        pli_epoch_5 = np.concatenate([ pli_epoch[:,0:4].mean(axis=1).reshape(-1,1),\n",
    "                                        pli_epoch[:,4:8].mean(axis=1).reshape(-1,1),\n",
    "                                        pli_epoch[:,8:12].mean(axis=1).reshape(-1,1),\n",
    "                                        pli_epoch[:,12:30].mean(axis=1).reshape(-1,1),\n",
    "                                        pli_epoch[:,30:65].mean(axis=1).reshape(-1,1)], axis=0)\n",
    "        pli.append(np.expand_dims(pli_epoch_5, axis=0))\n",
    "        # count += 1\n",
    "        # if(count == 3): break\n",
    "    # shape (496, 65)\n",
    "    # 496 is number of pairs that is not duplicate\n",
    "    # 65 is number of phase of frequencies\n",
    "    pli = np.vstack( pli )\n",
    "    return pli.squeeze()\n",
    "\n",
    "def calculate_pli(data, n_jobs=8):\n",
    "    \"\"\" \n",
    "    Input: Expect data to have (n_epochs, n_channels, n_samples)\n",
    "    Output: (n_epochs, n_conn, n_freqs ) => n_conn = n_channels!/(2!(n_channels-2)!)\n",
    "    \"\"\"\n",
    "    from multiprocessing import Pool\n",
    "\n",
    "    try:\n",
    "        t_out = 60000\n",
    "        pool = Pool()\n",
    "        p_list = []\n",
    "        ans_list = []\n",
    "        num_p = n_jobs\n",
    "        indices = np.array_split(np.arange(data.shape[0]), num_p)\n",
    "        _, phase, _, _ = calculate_stft(data, 128)\n",
    "        for p_id in range(num_p):\n",
    "            p_list.append(pool.apply_async(PLI_stft, [p_id, phase[indices[p_id]] ]))\n",
    "        for p_id in range(num_p):\n",
    "            ans_list.append( p_list[p_id].get(timeout=t_out) )\n",
    "        # ans_list\n",
    "    finally:\n",
    "        print(\"========= close ========\")\n",
    "        pool.close() \n",
    "        pool.terminate()\n",
    "    return np.vstack(ans_list)\n"
   ]
  },
  {
   "cell_type": "code",
   "execution_count": 17,
   "metadata": {},
   "outputs": [
    {
     "data": {
      "application/vnd.jupyter.widget-view+json": {
       "model_id": "d44d89ea59c94c108711b0d1c3b07e07",
       "version_major": 2,
       "version_minor": 0
      },
      "text/plain": [
       "  0%|          | 0/32 [00:00<?, ?it/s]"
      ]
     },
     "metadata": {},
     "output_type": "display_data"
    },
    {
     "name": "stdout",
     "output_type": "stream",
     "text": [
      "Fitted sphere radius:         95.3 mm\n",
      "Origin head coordinates:      -0.8 15.1 45.3 mm\n",
      "Origin device coordinates:    -0.8 15.1 45.3 mm\n",
      "========= close ========\n",
      "\tAROUSAL-s01|Acc=0.98333|10-CV=0.51|STD=0.12387|Time spend=17.35491681098938\n",
      "\tVALENCE-s01|Acc=1.0|10-CV=0.45333|STD=0.07775|Time spend=17.604790925979614\n",
      "Fitted sphere radius:         95.3 mm\n",
      "Origin head coordinates:      -0.8 15.1 45.3 mm\n",
      "Origin device coordinates:    -0.8 15.1 45.3 mm\n",
      "========= close ========\n",
      "\tAROUSAL-s02|Acc=0.825|10-CV=0.53667|STD=0.10588|Time spend=16.662060737609863\n",
      "\tVALENCE-s02|Acc=0.875|10-CV=0.53667|STD=0.1005|Time spend=16.864854097366333\n",
      "Fitted sphere radius:         95.3 mm\n",
      "Origin head coordinates:      -0.8 15.1 45.3 mm\n",
      "Origin device coordinates:    -0.8 15.1 45.3 mm\n",
      "========= close ========\n",
      "\tAROUSAL-s03|Acc=0.85833|10-CV=0.73|STD=0.15524|Time spend=16.319695234298706\n",
      "\tVALENCE-s03|Acc=1.0|10-CV=0.46333|STD=0.14177|Time spend=16.580402851104736\n",
      "Fitted sphere radius:         95.3 mm\n",
      "Origin head coordinates:      -0.8 15.1 45.3 mm\n",
      "Origin device coordinates:    -0.8 15.1 45.3 mm\n",
      "========= close ========\n",
      "\tAROUSAL-s04|Acc=0.85833|10-CV=0.54|STD=0.14892|Time spend=17.884828090667725\n",
      "\tVALENCE-s04|Acc=0.86667|10-CV=0.53333|STD=0.09428|Time spend=18.101075172424316\n",
      "Fitted sphere radius:         95.3 mm\n",
      "Origin head coordinates:      -0.8 15.1 45.3 mm\n",
      "Origin device coordinates:    -0.8 15.1 45.3 mm\n",
      "========= close ========\n",
      "\tAROUSAL-s05|Acc=0.85833|10-CV=0.41|STD=0.0895|Time spend=16.603824853897095\n",
      "\tVALENCE-s05|Acc=0.85833|10-CV=0.54667|STD=0.08459|Time spend=16.811858892440796\n",
      "Fitted sphere radius:         95.3 mm\n",
      "Origin head coordinates:      -0.8 15.1 45.3 mm\n",
      "Origin device coordinates:    -0.8 15.1 45.3 mm\n",
      "========= close ========\n",
      "\tAROUSAL-s06|Acc=0.975|10-CV=0.54333|STD=0.16265|Time spend=16.568464279174805\n",
      "\tVALENCE-s06|Acc=0.89167|10-CV=0.72|STD=0.07483|Time spend=16.79551339149475\n",
      "Fitted sphere radius:         95.3 mm\n",
      "Origin head coordinates:      -0.8 15.1 45.3 mm\n",
      "Origin device coordinates:    -0.8 15.1 45.3 mm\n",
      "========= close ========\n",
      "\tAROUSAL-s07|Acc=0.98333|10-CV=0.65|STD=0.14318|Time spend=17.588140726089478\n",
      "\tVALENCE-s07|Acc=0.95|10-CV=0.69|STD=0.13748|Time spend=17.803908586502075\n",
      "Fitted sphere radius:         95.3 mm\n",
      "Origin head coordinates:      -0.8 15.1 45.3 mm\n",
      "Origin device coordinates:    -0.8 15.1 45.3 mm\n",
      "========= close ========\n",
      "\tAROUSAL-s08|Acc=0.99167|10-CV=0.47667|STD=0.1193|Time spend=16.734925746917725\n",
      "\tVALENCE-s08|Acc=0.99167|10-CV=0.53333|STD=0.12293|Time spend=17.045197248458862\n",
      "Fitted sphere radius:         95.3 mm\n",
      "Origin head coordinates:      -0.8 15.1 45.3 mm\n",
      "Origin device coordinates:    -0.8 15.1 45.3 mm\n",
      "========= close ========\n",
      "\tAROUSAL-s09|Acc=0.925|10-CV=0.52333|STD=0.12115|Time spend=17.007359743118286\n",
      "\tVALENCE-s09|Acc=1.0|10-CV=0.4|STD=0.12383|Time spend=17.212852239608765\n",
      "Fitted sphere radius:         95.3 mm\n",
      "Origin head coordinates:      -0.8 15.1 45.3 mm\n",
      "Origin device coordinates:    -0.8 15.1 45.3 mm\n",
      "========= close ========\n",
      "\tAROUSAL-s10|Acc=1.0|10-CV=0.49333|STD=0.10729|Time spend=17.591455221176147\n",
      "\tVALENCE-s10|Acc=1.0|10-CV=0.4|STD=0.15275|Time spend=17.892926931381226\n",
      "Fitted sphere radius:         95.3 mm\n",
      "Origin head coordinates:      -0.8 15.1 45.3 mm\n",
      "Origin device coordinates:    -0.8 15.1 45.3 mm\n",
      "========= close ========\n",
      "\tAROUSAL-s11|Acc=0.81667|10-CV=0.61|STD=0.07|Time spend=16.014728546142578\n",
      "\tVALENCE-s11|Acc=0.83333|10-CV=0.53667|STD=0.15524|Time spend=16.218180894851685\n",
      "Fitted sphere radius:         95.3 mm\n",
      "Origin head coordinates:      -0.8 15.1 45.3 mm\n",
      "Origin device coordinates:    -0.8 15.1 45.3 mm\n",
      "========= close ========\n",
      "\tAROUSAL-s12|Acc=0.89167|10-CV=0.83|STD=0.1005|Time spend=16.48779535293579\n",
      "\tVALENCE-s12|Acc=1.0|10-CV=0.41|STD=0.10333|Time spend=16.772194385528564\n",
      "Fitted sphere radius:         95.3 mm\n",
      "Origin head coordinates:      -0.8 15.1 45.3 mm\n",
      "Origin device coordinates:    -0.8 15.1 45.3 mm\n",
      "========= close ========\n",
      "\tAROUSAL-s13|Acc=0.90833|10-CV=0.84|STD=0.06633|Time spend=17.355891466140747\n",
      "\tVALENCE-s13|Acc=0.95833|10-CV=0.5|STD=0.12202|Time spend=17.57688307762146\n",
      "Fitted sphere radius:         95.3 mm\n",
      "Origin head coordinates:      -0.8 15.1 45.3 mm\n",
      "Origin device coordinates:    -0.8 15.1 45.3 mm\n",
      "========= close ========\n",
      "\tAROUSAL-s14|Acc=0.89167|10-CV=0.65|STD=0.10247|Time spend=16.9405038356781\n",
      "\tVALENCE-s14|Acc=0.98333|10-CV=0.38333|STD=0.08851|Time spend=17.148151397705078\n",
      "Fitted sphere radius:         95.3 mm\n",
      "Origin head coordinates:      -0.8 15.1 45.3 mm\n",
      "Origin device coordinates:    -0.8 15.1 45.3 mm\n",
      "========= close ========\n",
      "\tAROUSAL-s15|Acc=1.0|10-CV=0.44667|STD=0.08459|Time spend=17.625652551651\n",
      "\tVALENCE-s15|Acc=1.0|10-CV=0.46|STD=0.08667|Time spend=17.902949810028076\n",
      "Fitted sphere radius:         95.3 mm\n",
      "Origin head coordinates:      -0.8 15.1 45.3 mm\n",
      "Origin device coordinates:    -0.8 15.1 45.3 mm\n",
      "========= close ========\n",
      "\tAROUSAL-s16|Acc=1.0|10-CV=0.38667|STD=0.13182|Time spend=17.071112871170044\n",
      "\tVALENCE-s16|Acc=1.0|10-CV=0.64|STD=0.10198|Time spend=17.2793972492218\n",
      "Fitted sphere radius:         95.3 mm\n",
      "Origin head coordinates:      -0.8 15.1 45.3 mm\n",
      "Origin device coordinates:    -0.8 15.1 45.3 mm\n",
      "========= close ========\n",
      "\tAROUSAL-s17|Acc=0.8|10-CV=0.61667|STD=0.07491|Time spend=16.871618509292603\n",
      "\tVALENCE-s17|Acc=0.91667|10-CV=0.43333|STD=0.11926|Time spend=17.134479999542236\n",
      "Fitted sphere radius:         95.3 mm\n",
      "Origin head coordinates:      -0.8 15.1 45.3 mm\n",
      "Origin device coordinates:    -0.8 15.1 45.3 mm\n",
      "========= close ========\n",
      "\tAROUSAL-s18|Acc=0.975|10-CV=0.57333|STD=0.10198|Time spend=16.500741481781006\n",
      "\tVALENCE-s18|Acc=0.975|10-CV=0.53333|STD=0.12561|Time spend=16.708061695098877\n",
      "Fitted sphere radius:         95.3 mm\n",
      "Origin head coordinates:      -0.8 15.1 45.3 mm\n",
      "Origin device coordinates:    -0.8 15.1 45.3 mm\n",
      "========= close ========\n",
      "\tAROUSAL-s19|Acc=0.675|10-CV=0.60333|STD=0.1005|Time spend=17.42492365837097\n",
      "\tVALENCE-s19|Acc=0.65|10-CV=0.45667|STD=0.13667|Time spend=17.649175882339478\n",
      "Fitted sphere radius:         95.3 mm\n",
      "Origin head coordinates:      -0.8 15.1 45.3 mm\n",
      "Origin device coordinates:    -0.8 15.1 45.3 mm\n",
      "========= close ========\n",
      "\tAROUSAL-s20|Acc=0.89167|10-CV=0.82|STD=0.08718|Time spend=17.914523124694824\n",
      "\tVALENCE-s20|Acc=0.99167|10-CV=0.48667|STD=0.17205|Time spend=18.131739854812622\n",
      "Fitted sphere radius:         95.3 mm\n",
      "Origin head coordinates:      -0.8 15.1 45.3 mm\n",
      "Origin device coordinates:    -0.8 15.1 45.3 mm\n",
      "========= close ========\n",
      "\tAROUSAL-s21|Acc=0.80833|10-CV=0.8|STD=0.1|Time spend=16.63782501220703\n",
      "\tVALENCE-s21|Acc=1.0|10-CV=0.42667|STD=0.10306|Time spend=16.857243537902832\n",
      "Fitted sphere radius:         95.3 mm\n",
      "Origin head coordinates:      -0.8 15.1 45.3 mm\n",
      "Origin device coordinates:    -0.8 15.1 45.3 mm\n",
      "========= close ========\n",
      "\tAROUSAL-s22|Acc=0.875|10-CV=0.59667|STD=0.06046|Time spend=16.595237970352173\n",
      "\tVALENCE-s22|Acc=0.91667|10-CV=0.48|STD=0.08192|Time spend=16.905736207962036\n",
      "Fitted sphere radius:         95.3 mm\n",
      "Origin head coordinates:      -0.8 15.1 45.3 mm\n",
      "Origin device coordinates:    -0.8 15.1 45.3 mm\n",
      "========= close ========\n",
      "\tAROUSAL-s23|Acc=0.975|10-CV=0.78|STD=0.09798|Time spend=18.34293818473816\n",
      "\tVALENCE-s23|Acc=1.0|10-CV=0.61|STD=0.15133|Time spend=18.57537603378296\n",
      "Fitted sphere radius:         95.3 mm\n",
      "Origin head coordinates:      -0.8 15.1 45.3 mm\n",
      "Origin device coordinates:    -0.8 15.1 45.3 mm\n",
      "========= close ========\n",
      "\tAROUSAL-s24|Acc=0.825|10-CV=0.82|STD=0.07483|Time spend=16.916109323501587\n",
      "\tVALENCE-s24|Acc=0.85833|10-CV=0.37667|STD=0.12387|Time spend=17.159467697143555\n",
      "Fitted sphere radius:         95.3 mm\n",
      "Origin head coordinates:      -0.8 15.1 45.3 mm\n",
      "Origin device coordinates:    -0.8 15.1 45.3 mm\n",
      "========= close ========\n",
      "\tAROUSAL-s25|Acc=0.84167|10-CV=0.74|STD=0.12806|Time spend=17.376760244369507\n",
      "\tVALENCE-s25|Acc=0.91667|10-CV=0.4|STD=0.11547|Time spend=17.57918405532837\n",
      "Fitted sphere radius:         95.3 mm\n",
      "Origin head coordinates:      -0.8 15.1 45.3 mm\n",
      "Origin device coordinates:    -0.8 15.1 45.3 mm\n",
      "========= close ========\n",
      "\tAROUSAL-s26|Acc=0.95833|10-CV=0.51667|STD=0.1098|Time spend=17.442747354507446\n",
      "\tVALENCE-s26|Acc=0.81667|10-CV=0.62|STD=0.14|Time spend=17.69673991203308\n",
      "Fitted sphere radius:         95.3 mm\n",
      "Origin head coordinates:      -0.8 15.1 45.3 mm\n",
      "Origin device coordinates:    -0.8 15.1 45.3 mm\n",
      "========= close ========\n",
      "\tAROUSAL-s27|Acc=0.975|10-CV=0.63333|STD=0.10954|Time spend=16.828944444656372\n",
      "\tVALENCE-s27|Acc=0.93333|10-CV=0.67|STD=0.12689|Time spend=17.102165460586548\n",
      "Fitted sphere radius:         95.3 mm\n",
      "Origin head coordinates:      -0.8 15.1 45.3 mm\n",
      "Origin device coordinates:    -0.8 15.1 45.3 mm\n",
      "========= close ========\n",
      "\tAROUSAL-s28|Acc=0.96667|10-CV=0.52333|STD=0.10225|Time spend=17.764800548553467\n",
      "\tVALENCE-s28|Acc=0.95|10-CV=0.55333|STD=0.1529|Time spend=17.97559905052185\n",
      "Fitted sphere radius:         95.3 mm\n",
      "Origin head coordinates:      -0.8 15.1 45.3 mm\n",
      "Origin device coordinates:    -0.8 15.1 45.3 mm\n",
      "========= close ========\n",
      "\tAROUSAL-s29|Acc=0.90833|10-CV=0.51333|STD=0.07024|Time spend=17.144907474517822\n",
      "\tVALENCE-s29|Acc=0.875|10-CV=0.49667|STD=0.09|Time spend=17.407336711883545\n",
      "Fitted sphere radius:         95.3 mm\n",
      "Origin head coordinates:      -0.8 15.1 45.3 mm\n",
      "Origin device coordinates:    -0.8 15.1 45.3 mm\n",
      "========= close ========\n",
      "\tAROUSAL-s30|Acc=0.96667|10-CV=0.41667|STD=0.07341|Time spend=18.14728355407715\n",
      "\tVALENCE-s30|Acc=0.775|10-CV=0.61667|STD=0.14083|Time spend=18.349316358566284\n",
      "Fitted sphere radius:         95.3 mm\n",
      "Origin head coordinates:      -0.8 15.1 45.3 mm\n",
      "Origin device coordinates:    -0.8 15.1 45.3 mm\n",
      "========= close ========\n",
      "\tAROUSAL-s31|Acc=1.0|10-CV=0.52|STD=0.14079|Time spend=17.831315994262695\n",
      "\tVALENCE-s31|Acc=1.0|10-CV=0.49333|STD=0.11035|Time spend=18.081802129745483\n",
      "Fitted sphere radius:         95.3 mm\n",
      "Origin head coordinates:      -0.8 15.1 45.3 mm\n",
      "Origin device coordinates:    -0.8 15.1 45.3 mm\n",
      "========= close ========\n",
      "\tAROUSAL-s32|Acc=0.91667|10-CV=0.75|STD=0.13601|Time spend=17.18216896057129\n",
      "\tVALENCE-s32|Acc=1.0|10-CV=0.53|STD=0.18466|Time spend=17.431219577789307\n",
      "AROUSAL|Acc=0.91015625|10-CV=0.60625|STD=0.10627073410885045\n",
      "VALENCE|Acc=0.9307291666666667|10-CV=0.5121875|STD=0.12010380939302612\n"
     ]
    }
   ],
   "source": [
    "accs, cv_means, cv_stds = [],[],[]\n",
    "accs_v, cv_means_v, cv_stds_v = [],[],[]\n",
    "reports = []\n",
    "for filename in (pbar := tqdm(dataset.get_file_list())):\n",
    "    start = time.time()\n",
    "    pbar.set_description(filename)\n",
    "    data, labels, groups = dataset.get_data(filename, stimuli=Dataset_subjectDependent.STIMULI_AROUSAL, return_type='mne', sfreq=128)\n",
    "    \n",
    "    data_csd = mne.preprocessing.compute_current_source_density(data)\n",
    "\n",
    "    pli = calculate_pli(data_csd.get_data(), n_jobs=8)\n",
    "\n",
    "    _,acc,cross,train_report = train_model(pli, labels.squeeze(), groups, filename=filename, return_text=True)\n",
    "    report = f\"\\tAROUSAL-{filename}|Acc={round(acc,5)}|10-CV={round(cross.mean(),5)}|STD={round(cross.std(),5)}|Time spend={time.time() - start}\"\n",
    "    print(report)\n",
    "    reports.append(report)\n",
    "    reports.append(train_report)\n",
    "    accs.append(acc)\n",
    "    cv_means.append(cross.mean())\n",
    "    cv_stds.append(cross.std())\n",
    "\n",
    "    _, labels_v, groups_v = dataset.get_data(filename, stimuli=Dataset_subjectDependent.STIMULI_VALENCE, return_type='mne', sfreq=128)\n",
    "    _,acc,cross,train_report = train_model(pli, labels_v.squeeze(), groups_v, filename=filename, return_text=True)\n",
    "    report = f\"\\tVALENCE-{filename}|Acc={round(acc,5)}|10-CV={round(cross.mean(),5)}|STD={round(cross.std(),5)}|Time spend={time.time() - start}\"\n",
    "    print(report)\n",
    "    reports.append(report)\n",
    "    reports.append(train_report)\n",
    "    accs_v.append(acc)\n",
    "    cv_means_v.append(cross.mean())\n",
    "    cv_stds_v.append(cross.std())\n",
    "    # break\n",
    "    # count+=1\n",
    "    # if(count == 5): break\n",
    "report = f\"AROUSAL|Acc={sum(accs)/len(accs)}|10-CV={sum(cv_means)/len(cv_means)}|STD={sum(cv_stds)/len(cv_stds)}\"\n",
    "print(report)\n",
    "reports.append(report)\n",
    "report = f\"VALENCE|Acc={sum(accs_v)/len(accs_v)}|10-CV={sum(cv_means_v)/len(cv_means_v)}|STD={sum(cv_stds_v)/len(cv_stds_v)}\"\n",
    "print(report)\n",
    "reports.append(report)"
   ]
  },
  {
   "cell_type": "code",
   "execution_count": 18,
   "metadata": {},
   "outputs": [
    {
     "name": "stdout",
     "output_type": "stream",
     "text": [
      "\tAROUSAL-s01|Acc=0.98333|10-CV=0.51|STD=0.12387|Time spend=17.35491681098938\n",
      "\tVALENCE-s01|Acc=1.0|10-CV=0.45333|STD=0.07775|Time spend=17.604790925979614\n",
      "\tAROUSAL-s02|Acc=0.825|10-CV=0.53667|STD=0.10588|Time spend=16.662060737609863\n",
      "\tVALENCE-s02|Acc=0.875|10-CV=0.53667|STD=0.1005|Time spend=16.864854097366333\n",
      "\tAROUSAL-s03|Acc=0.85833|10-CV=0.73|STD=0.15524|Time spend=16.319695234298706\n",
      "\tVALENCE-s03|Acc=1.0|10-CV=0.46333|STD=0.14177|Time spend=16.580402851104736\n",
      "\tAROUSAL-s04|Acc=0.85833|10-CV=0.54|STD=0.14892|Time spend=17.884828090667725\n",
      "\tVALENCE-s04|Acc=0.86667|10-CV=0.53333|STD=0.09428|Time spend=18.101075172424316\n",
      "\tAROUSAL-s05|Acc=0.85833|10-CV=0.41|STD=0.0895|Time spend=16.603824853897095\n",
      "\tVALENCE-s05|Acc=0.85833|10-CV=0.54667|STD=0.08459|Time spend=16.811858892440796\n",
      "\tAROUSAL-s06|Acc=0.975|10-CV=0.54333|STD=0.16265|Time spend=16.568464279174805\n",
      "\tVALENCE-s06|Acc=0.89167|10-CV=0.72|STD=0.07483|Time spend=16.79551339149475\n",
      "\tAROUSAL-s07|Acc=0.98333|10-CV=0.65|STD=0.14318|Time spend=17.588140726089478\n",
      "\tVALENCE-s07|Acc=0.95|10-CV=0.69|STD=0.13748|Time spend=17.803908586502075\n",
      "\tAROUSAL-s08|Acc=0.99167|10-CV=0.47667|STD=0.1193|Time spend=16.734925746917725\n",
      "\tVALENCE-s08|Acc=0.99167|10-CV=0.53333|STD=0.12293|Time spend=17.045197248458862\n",
      "\tAROUSAL-s09|Acc=0.925|10-CV=0.52333|STD=0.12115|Time spend=17.007359743118286\n",
      "\tVALENCE-s09|Acc=1.0|10-CV=0.4|STD=0.12383|Time spend=17.212852239608765\n",
      "\tAROUSAL-s10|Acc=1.0|10-CV=0.49333|STD=0.10729|Time spend=17.591455221176147\n",
      "\tVALENCE-s10|Acc=1.0|10-CV=0.4|STD=0.15275|Time spend=17.892926931381226\n",
      "\tAROUSAL-s11|Acc=0.81667|10-CV=0.61|STD=0.07|Time spend=16.014728546142578\n",
      "\tVALENCE-s11|Acc=0.83333|10-CV=0.53667|STD=0.15524|Time spend=16.218180894851685\n",
      "\tAROUSAL-s12|Acc=0.89167|10-CV=0.83|STD=0.1005|Time spend=16.48779535293579\n",
      "\tVALENCE-s12|Acc=1.0|10-CV=0.41|STD=0.10333|Time spend=16.772194385528564\n",
      "\tAROUSAL-s13|Acc=0.90833|10-CV=0.84|STD=0.06633|Time spend=17.355891466140747\n",
      "\tVALENCE-s13|Acc=0.95833|10-CV=0.5|STD=0.12202|Time spend=17.57688307762146\n",
      "\tAROUSAL-s14|Acc=0.89167|10-CV=0.65|STD=0.10247|Time spend=16.9405038356781\n",
      "\tVALENCE-s14|Acc=0.98333|10-CV=0.38333|STD=0.08851|Time spend=17.148151397705078\n",
      "\tAROUSAL-s15|Acc=1.0|10-CV=0.44667|STD=0.08459|Time spend=17.625652551651\n",
      "\tVALENCE-s15|Acc=1.0|10-CV=0.46|STD=0.08667|Time spend=17.902949810028076\n",
      "\tAROUSAL-s16|Acc=1.0|10-CV=0.38667|STD=0.13182|Time spend=17.071112871170044\n",
      "\tVALENCE-s16|Acc=1.0|10-CV=0.64|STD=0.10198|Time spend=17.2793972492218\n",
      "\tAROUSAL-s17|Acc=0.8|10-CV=0.61667|STD=0.07491|Time spend=16.871618509292603\n",
      "\tVALENCE-s17|Acc=0.91667|10-CV=0.43333|STD=0.11926|Time spend=17.134479999542236\n",
      "\tAROUSAL-s18|Acc=0.975|10-CV=0.57333|STD=0.10198|Time spend=16.500741481781006\n",
      "\tVALENCE-s18|Acc=0.975|10-CV=0.53333|STD=0.12561|Time spend=16.708061695098877\n",
      "\tAROUSAL-s19|Acc=0.675|10-CV=0.60333|STD=0.1005|Time spend=17.42492365837097\n",
      "-----WARNING: Model s19 failed to learn: sum(ans)=120.0 sum(y)=81.0 len(y)=120\n",
      "\tVALENCE-s19|Acc=0.65|10-CV=0.45667|STD=0.13667|Time spend=17.649175882339478\n",
      "\tAROUSAL-s20|Acc=0.89167|10-CV=0.82|STD=0.08718|Time spend=17.914523124694824\n",
      "\tVALENCE-s20|Acc=0.99167|10-CV=0.48667|STD=0.17205|Time spend=18.131739854812622\n",
      "\tAROUSAL-s21|Acc=0.80833|10-CV=0.8|STD=0.1|Time spend=16.63782501220703\n",
      "\tVALENCE-s21|Acc=1.0|10-CV=0.42667|STD=0.10306|Time spend=16.857243537902832\n",
      "\tAROUSAL-s22|Acc=0.875|10-CV=0.59667|STD=0.06046|Time spend=16.595237970352173\n",
      "\tVALENCE-s22|Acc=0.91667|10-CV=0.48|STD=0.08192|Time spend=16.905736207962036\n",
      "\tAROUSAL-s23|Acc=0.975|10-CV=0.78|STD=0.09798|Time spend=18.34293818473816\n",
      "\tVALENCE-s23|Acc=1.0|10-CV=0.61|STD=0.15133|Time spend=18.57537603378296\n",
      "\tAROUSAL-s24|Acc=0.825|10-CV=0.82|STD=0.07483|Time spend=16.916109323501587\n",
      "-----WARNING: Model s24 failed to learn: sum(ans)=120.0 sum(y)=99.0 len(y)=120\n",
      "\tVALENCE-s24|Acc=0.85833|10-CV=0.37667|STD=0.12387|Time spend=17.159467697143555\n",
      "\tAROUSAL-s25|Acc=0.84167|10-CV=0.74|STD=0.12806|Time spend=17.376760244369507\n",
      "\tVALENCE-s25|Acc=0.91667|10-CV=0.4|STD=0.11547|Time spend=17.57918405532837\n",
      "\tAROUSAL-s26|Acc=0.95833|10-CV=0.51667|STD=0.1098|Time spend=17.442747354507446\n",
      "\tVALENCE-s26|Acc=0.81667|10-CV=0.62|STD=0.14|Time spend=17.69673991203308\n",
      "\tAROUSAL-s27|Acc=0.975|10-CV=0.63333|STD=0.10954|Time spend=16.828944444656372\n",
      "\tVALENCE-s27|Acc=0.93333|10-CV=0.67|STD=0.12689|Time spend=17.102165460586548\n",
      "\tAROUSAL-s28|Acc=0.96667|10-CV=0.52333|STD=0.10225|Time spend=17.764800548553467\n",
      "\tVALENCE-s28|Acc=0.95|10-CV=0.55333|STD=0.1529|Time spend=17.97559905052185\n",
      "\tAROUSAL-s29|Acc=0.90833|10-CV=0.51333|STD=0.07024|Time spend=17.144907474517822\n",
      "\tVALENCE-s29|Acc=0.875|10-CV=0.49667|STD=0.09|Time spend=17.407336711883545\n",
      "\tAROUSAL-s30|Acc=0.96667|10-CV=0.41667|STD=0.07341|Time spend=18.14728355407715\n",
      "\tVALENCE-s30|Acc=0.775|10-CV=0.61667|STD=0.14083|Time spend=18.349316358566284\n",
      "\tAROUSAL-s31|Acc=1.0|10-CV=0.52|STD=0.14079|Time spend=17.831315994262695\n",
      "\tVALENCE-s31|Acc=1.0|10-CV=0.49333|STD=0.11035|Time spend=18.081802129745483\n",
      "\tAROUSAL-s32|Acc=0.91667|10-CV=0.75|STD=0.13601|Time spend=17.18216896057129\n",
      "\tVALENCE-s32|Acc=1.0|10-CV=0.53|STD=0.18466|Time spend=17.431219577789307\n",
      "AROUSAL|Acc=0.91015625|10-CV=0.60625|STD=0.10627073410885045\n",
      "VALENCE|Acc=0.9307291666666667|10-CV=0.5121875|STD=0.12010380939302612\n",
      "TOTAL|Acc=0.9204427083333334|10-CV=0.55921875|STD=0.1131872717509383\n"
     ]
    }
   ],
   "source": [
    "for text in reports:\n",
    "    if(text == None): continue\n",
    "    print(text)\n",
    "\n",
    "accs.extend(accs_v)\n",
    "cv_means.extend(cv_means_v)\n",
    "cv_stds.extend(cv_stds_v)\n",
    "print(f\"TOTAL|Acc={sum(accs)/len(accs)}|10-CV={sum(cv_means)/len(cv_means)}|STD={sum(cv_stds)/len(cv_stds)}\")"
   ]
  },
  {
   "cell_type": "markdown",
   "metadata": {},
   "source": [
    "## 5. CSP"
   ]
  },
  {
   "cell_type": "code",
   "execution_count": 19,
   "metadata": {},
   "outputs": [],
   "source": [
    "from components.CSP import CSP\n",
    "from mne_features.feature_extraction import FeatureExtractor\n",
    "\n",
    "bands = [(0,4), (4,8), (8,12), (12,30), (30,64)]\n",
    "# [alias_feature_function]__[optional_param]\n",
    "params = dict({\n",
    "    'pow_freq_bands__log':True,\n",
    "    'pow_freq_bands__normalize':False,\n",
    "    'pow_freq_bands__freq_bands':bands\n",
    "})"
   ]
  },
  {
   "cell_type": "code",
   "execution_count": 20,
   "metadata": {},
   "outputs": [
    {
     "data": {
      "application/vnd.jupyter.widget-view+json": {
       "model_id": "56dd97271f0c4591b18eac24716c36b7",
       "version_major": 2,
       "version_minor": 0
      },
      "text/plain": [
       "  0%|          | 0/32 [00:00<?, ?it/s]"
      ]
     },
     "metadata": {},
     "output_type": "display_data"
    },
    {
     "name": "stderr",
     "output_type": "stream",
     "text": [
      "/root/projects/components/CSP.py:78: ComplexWarning: Casting complex values to real discards the imaginary part\n",
      "  return SFa.astype(np.float32)\n"
     ]
    },
    {
     "name": "stdout",
     "output_type": "stream",
     "text": [
      "-----WARNING: Model s01 failed to learn: sum(ans)=120.0 sum(y)=72.0 len(y)=120\n",
      "\tAROUSAL-s01|Acc=0.6|10-CV=0.56|STD=0.1562|Time spend=0.6866075992584229\n"
     ]
    },
    {
     "name": "stderr",
     "output_type": "stream",
     "text": [
      "/root/projects/components/CSP.py:78: ComplexWarning: Casting complex values to real discards the imaginary part\n",
      "  return SFa.astype(np.float32)\n"
     ]
    },
    {
     "name": "stdout",
     "output_type": "stream",
     "text": [
      "\tAROUSAL-s02|Acc=1.0|10-CV=1.0|STD=0.0|Time spend=0.84194016456604\n"
     ]
    },
    {
     "name": "stderr",
     "output_type": "stream",
     "text": [
      "/root/projects/components/CSP.py:78: ComplexWarning: Casting complex values to real discards the imaginary part\n",
      "  return SFa.astype(np.float32)\n"
     ]
    },
    {
     "name": "stdout",
     "output_type": "stream",
     "text": [
      "-----WARNING: Model s03 failed to learn: sum(ans)=0.0 sum(y)=24.0 len(y)=120\n",
      "\tAROUSAL-s03|Acc=0.8|10-CV=0.73|STD=0.15524|Time spend=0.6089248657226562\n"
     ]
    },
    {
     "name": "stderr",
     "output_type": "stream",
     "text": [
      "/root/projects/components/CSP.py:78: ComplexWarning: Casting complex values to real discards the imaginary part\n",
      "  return SFa.astype(np.float32)\n"
     ]
    },
    {
     "name": "stdout",
     "output_type": "stream",
     "text": [
      "\tAROUSAL-s04|Acc=0.88333|10-CV=0.82|STD=0.04761|Time spend=1.4195590019226074\n"
     ]
    },
    {
     "name": "stderr",
     "output_type": "stream",
     "text": [
      "/root/projects/components/CSP.py:78: ComplexWarning: Casting complex values to real discards the imaginary part\n",
      "  return SFa.astype(np.float32)\n"
     ]
    },
    {
     "name": "stdout",
     "output_type": "stream",
     "text": [
      "\tAROUSAL-s05|Acc=0.89167|10-CV=0.86|STD=0.06464|Time spend=0.7881350517272949\n"
     ]
    },
    {
     "name": "stderr",
     "output_type": "stream",
     "text": [
      "/root/projects/components/CSP.py:78: ComplexWarning: Casting complex values to real discards the imaginary part\n",
      "  return SFa.astype(np.float32)\n"
     ]
    },
    {
     "name": "stdout",
     "output_type": "stream",
     "text": [
      "\tAROUSAL-s06|Acc=0.93333|10-CV=0.87333|STD=0.08406|Time spend=0.863074779510498\n"
     ]
    },
    {
     "name": "stderr",
     "output_type": "stream",
     "text": [
      "/root/projects/components/CSP.py:78: ComplexWarning: Casting complex values to real discards the imaginary part\n",
      "  return SFa.astype(np.float32)\n"
     ]
    },
    {
     "name": "stdout",
     "output_type": "stream",
     "text": [
      "-----WARNING: Model s07 failed to learn: sum(ans)=120.0 sum(y)=75.0 len(y)=120\n",
      "\tAROUSAL-s07|Acc=0.625|10-CV=0.65|STD=0.14318|Time spend=1.08815598487854\n"
     ]
    },
    {
     "name": "stderr",
     "output_type": "stream",
     "text": [
      "/root/projects/components/CSP.py:78: ComplexWarning: Casting complex values to real discards the imaginary part\n",
      "  return SFa.astype(np.float32)\n"
     ]
    },
    {
     "name": "stdout",
     "output_type": "stream",
     "text": [
      "\tAROUSAL-s08|Acc=0.81667|10-CV=0.75|STD=0.10138|Time spend=0.8967008590698242\n"
     ]
    },
    {
     "name": "stderr",
     "output_type": "stream",
     "text": [
      "/root/projects/components/CSP.py:78: ComplexWarning: Casting complex values to real discards the imaginary part\n",
      "  return SFa.astype(np.float32)\n"
     ]
    },
    {
     "name": "stdout",
     "output_type": "stream",
     "text": [
      "\tAROUSAL-s09|Acc=0.99167|10-CV=0.99667|STD=0.01|Time spend=1.084695816040039\n"
     ]
    },
    {
     "name": "stderr",
     "output_type": "stream",
     "text": [
      "/root/projects/components/CSP.py:78: ComplexWarning: Casting complex values to real discards the imaginary part\n",
      "  return SFa.astype(np.float32)\n"
     ]
    },
    {
     "name": "stdout",
     "output_type": "stream",
     "text": [
      "\tAROUSAL-s10|Acc=1.0|10-CV=1.0|STD=0.0|Time spend=0.8717272281646729\n"
     ]
    },
    {
     "name": "stderr",
     "output_type": "stream",
     "text": [
      "/root/projects/components/CSP.py:78: ComplexWarning: Casting complex values to real discards the imaginary part\n",
      "  return SFa.astype(np.float32)\n"
     ]
    },
    {
     "name": "stdout",
     "output_type": "stream",
     "text": [
      "-----WARNING: Model s11 failed to learn: sum(ans)=0.0 sum(y)=45.0 len(y)=120\n",
      "\tAROUSAL-s11|Acc=0.625|10-CV=0.57667|STD=0.09434|Time spend=0.9614439010620117\n"
     ]
    },
    {
     "name": "stderr",
     "output_type": "stream",
     "text": [
      "/root/projects/components/CSP.py:78: ComplexWarning: Casting complex values to real discards the imaginary part\n",
      "  return SFa.astype(np.float32)\n"
     ]
    },
    {
     "name": "stdout",
     "output_type": "stream",
     "text": [
      "\tAROUSAL-s12|Acc=0.91667|10-CV=0.84667|STD=0.10022|Time spend=0.8851292133331299\n"
     ]
    },
    {
     "name": "stderr",
     "output_type": "stream",
     "text": [
      "/root/projects/components/CSP.py:78: ComplexWarning: Casting complex values to real discards the imaginary part\n",
      "  return SFa.astype(np.float32)\n"
     ]
    },
    {
     "name": "stdout",
     "output_type": "stream",
     "text": [
      "-----WARNING: Model s13 failed to learn: sum(ans)=120.0 sum(y)=102.0 len(y)=120\n",
      "\tAROUSAL-s13|Acc=0.85|10-CV=0.84|STD=0.06633|Time spend=1.379457950592041\n"
     ]
    },
    {
     "name": "stderr",
     "output_type": "stream",
     "text": [
      "/root/projects/components/CSP.py:78: ComplexWarning: Casting complex values to real discards the imaginary part\n",
      "  return SFa.astype(np.float32)\n"
     ]
    },
    {
     "name": "stdout",
     "output_type": "stream",
     "text": [
      "\tAROUSAL-s14|Acc=1.0|10-CV=1.0|STD=0.0|Time spend=0.6571207046508789\n"
     ]
    },
    {
     "name": "stderr",
     "output_type": "stream",
     "text": [
      "/root/projects/components/CSP.py:78: ComplexWarning: Casting complex values to real discards the imaginary part\n",
      "  return SFa.astype(np.float32)\n"
     ]
    },
    {
     "name": "stdout",
     "output_type": "stream",
     "text": [
      "\tAROUSAL-s15|Acc=0.63333|10-CV=0.56333|STD=0.12512|Time spend=0.9593448638916016\n"
     ]
    },
    {
     "name": "stderr",
     "output_type": "stream",
     "text": [
      "/root/projects/components/CSP.py:78: ComplexWarning: Casting complex values to real discards the imaginary part\n",
      "  return SFa.astype(np.float32)\n"
     ]
    },
    {
     "name": "stdout",
     "output_type": "stream",
     "text": [
      "\tAROUSAL-s16|Acc=0.78333|10-CV=0.73|STD=0.08492|Time spend=0.901721715927124\n"
     ]
    },
    {
     "name": "stderr",
     "output_type": "stream",
     "text": [
      "/root/projects/components/CSP.py:78: ComplexWarning: Casting complex values to real discards the imaginary part\n",
      "  return SFa.astype(np.float32)\n"
     ]
    },
    {
     "name": "stdout",
     "output_type": "stream",
     "text": [
      "\tAROUSAL-s17|Acc=0.68333|10-CV=0.54667|STD=0.10349|Time spend=1.0271785259246826\n"
     ]
    },
    {
     "name": "stderr",
     "output_type": "stream",
     "text": [
      "/root/projects/components/CSP.py:78: ComplexWarning: Casting complex values to real discards the imaginary part\n",
      "  return SFa.astype(np.float32)\n"
     ]
    },
    {
     "name": "stdout",
     "output_type": "stream",
     "text": [
      "\tAROUSAL-s18|Acc=0.65|10-CV=0.54667|STD=0.11372|Time spend=0.6873505115509033\n"
     ]
    },
    {
     "name": "stderr",
     "output_type": "stream",
     "text": [
      "/root/projects/components/CSP.py:78: ComplexWarning: Casting complex values to real discards the imaginary part\n",
      "  return SFa.astype(np.float32)\n"
     ]
    },
    {
     "name": "stdout",
     "output_type": "stream",
     "text": [
      "\tAROUSAL-s19|Acc=0.89167|10-CV=0.76667|STD=0.10328|Time spend=0.8358211517333984\n"
     ]
    },
    {
     "name": "stderr",
     "output_type": "stream",
     "text": [
      "/root/projects/components/CSP.py:78: ComplexWarning: Casting complex values to real discards the imaginary part\n",
      "  return SFa.astype(np.float32)\n"
     ]
    },
    {
     "name": "stdout",
     "output_type": "stream",
     "text": [
      "\tAROUSAL-s20|Acc=0.99167|10-CV=0.99333|STD=0.02|Time spend=0.6326079368591309\n"
     ]
    },
    {
     "name": "stderr",
     "output_type": "stream",
     "text": [
      "/root/projects/components/CSP.py:78: ComplexWarning: Casting complex values to real discards the imaginary part\n",
      "  return SFa.astype(np.float32)\n"
     ]
    },
    {
     "name": "stdout",
     "output_type": "stream",
     "text": [
      "\tAROUSAL-s21|Acc=1.0|10-CV=0.94667|STD=0.05207|Time spend=0.7426624298095703\n"
     ]
    },
    {
     "name": "stderr",
     "output_type": "stream",
     "text": [
      "/root/projects/components/CSP.py:78: ComplexWarning: Casting complex values to real discards the imaginary part\n",
      "  return SFa.astype(np.float32)\n"
     ]
    },
    {
     "name": "stdout",
     "output_type": "stream",
     "text": [
      "\tAROUSAL-s22|Acc=0.65833|10-CV=0.61333|STD=0.10132|Time spend=0.5971028804779053\n"
     ]
    },
    {
     "name": "stderr",
     "output_type": "stream",
     "text": [
      "/root/projects/components/CSP.py:78: ComplexWarning: Casting complex values to real discards the imaginary part\n",
      "  return SFa.astype(np.float32)\n"
     ]
    },
    {
     "name": "stdout",
     "output_type": "stream",
     "text": [
      "\tAROUSAL-s23|Acc=1.0|10-CV=1.0|STD=0.0|Time spend=0.9541752338409424\n"
     ]
    },
    {
     "name": "stderr",
     "output_type": "stream",
     "text": [
      "/root/projects/components/CSP.py:78: ComplexWarning: Casting complex values to real discards the imaginary part\n",
      "  return SFa.astype(np.float32)\n"
     ]
    },
    {
     "name": "stdout",
     "output_type": "stream",
     "text": [
      "\tAROUSAL-s24|Acc=1.0|10-CV=1.0|STD=0.0|Time spend=0.47805213928222656\n"
     ]
    },
    {
     "name": "stderr",
     "output_type": "stream",
     "text": [
      "/root/projects/components/CSP.py:78: ComplexWarning: Casting complex values to real discards the imaginary part\n",
      "  return SFa.astype(np.float32)\n"
     ]
    },
    {
     "name": "stdout",
     "output_type": "stream",
     "text": [
      "\tAROUSAL-s25|Acc=0.98333|10-CV=0.99667|STD=0.01|Time spend=0.5042762756347656\n"
     ]
    },
    {
     "name": "stderr",
     "output_type": "stream",
     "text": [
      "/root/projects/components/CSP.py:78: ComplexWarning: Casting complex values to real discards the imaginary part\n",
      "  return SFa.astype(np.float32)\n"
     ]
    },
    {
     "name": "stdout",
     "output_type": "stream",
     "text": [
      "\tAROUSAL-s26|Acc=0.59167|10-CV=0.50667|STD=0.11719|Time spend=0.6987237930297852\n"
     ]
    },
    {
     "name": "stderr",
     "output_type": "stream",
     "text": [
      "/root/projects/components/CSP.py:78: ComplexWarning: Casting complex values to real discards the imaginary part\n",
      "  return SFa.astype(np.float32)\n"
     ]
    },
    {
     "name": "stdout",
     "output_type": "stream",
     "text": [
      "\tAROUSAL-s27|Acc=0.73333|10-CV=0.61333|STD=0.10132|Time spend=0.4902682304382324\n"
     ]
    },
    {
     "name": "stderr",
     "output_type": "stream",
     "text": [
      "/root/projects/components/CSP.py:78: ComplexWarning: Casting complex values to real discards the imaginary part\n",
      "  return SFa.astype(np.float32)\n"
     ]
    },
    {
     "name": "stdout",
     "output_type": "stream",
     "text": [
      "\tAROUSAL-s28|Acc=0.60833|10-CV=0.48333|STD=0.1551|Time spend=0.5013787746429443\n"
     ]
    },
    {
     "name": "stderr",
     "output_type": "stream",
     "text": [
      "/root/projects/components/CSP.py:78: ComplexWarning: Casting complex values to real discards the imaginary part\n",
      "  return SFa.astype(np.float32)\n"
     ]
    },
    {
     "name": "stdout",
     "output_type": "stream",
     "text": [
      "\tAROUSAL-s29|Acc=0.675|10-CV=0.54|STD=0.09165|Time spend=0.4912567138671875\n"
     ]
    },
    {
     "name": "stderr",
     "output_type": "stream",
     "text": [
      "/root/projects/components/CSP.py:78: ComplexWarning: Casting complex values to real discards the imaginary part\n",
      "  return SFa.astype(np.float32)\n"
     ]
    },
    {
     "name": "stdout",
     "output_type": "stream",
     "text": [
      "\tAROUSAL-s30|Acc=0.675|10-CV=0.43|STD=0.08492|Time spend=0.5419273376464844\n"
     ]
    },
    {
     "name": "stderr",
     "output_type": "stream",
     "text": [
      "/root/projects/components/CSP.py:78: ComplexWarning: Casting complex values to real discards the imaginary part\n",
      "  return SFa.astype(np.float32)\n"
     ]
    },
    {
     "name": "stdout",
     "output_type": "stream",
     "text": [
      "\tAROUSAL-s31|Acc=0.99167|10-CV=1.0|STD=0.0|Time spend=0.479595422744751\n"
     ]
    },
    {
     "name": "stderr",
     "output_type": "stream",
     "text": [
      "/root/projects/components/CSP.py:78: ComplexWarning: Casting complex values to real discards the imaginary part\n",
      "  return SFa.astype(np.float32)\n"
     ]
    },
    {
     "name": "stdout",
     "output_type": "stream",
     "text": [
      "\tAROUSAL-s32|Acc=0.95|10-CV=0.90667|STD=0.0696|Time spend=0.5186688899993896\n",
      "AROUSAL|Acc=0.8260416666666668|10-CV=0.7714583333333334|STD=0.07365386675585081\n"
     ]
    }
   ],
   "source": [
    "accs, cv_means, cv_stds = [],[],[]\n",
    "for filename in tqdm(dataset.get_file_list()):\n",
    "\n",
    "    data, labels, groups = dataset.get_data(filename, stimuli=Dataset_subjectDependent.STIMULI_AROUSAL, return_type='numpy')\n",
    "    labels = labels.squeeze()\n",
    "    start = time.time()\n",
    "    filters = CSP(data[labels==0], data[labels==1])\n",
    "    \n",
    "    csp_data = []\n",
    "    for index in range(len(data)):\n",
    "        \n",
    "        # (672, 32) @ (32, 32) = (672, 32)\n",
    "        csp = data[index].T @ filters[labels[index].astype(int)]\n",
    "        # (1, 32, 672)\n",
    "        csp = np.expand_dims(csp.T, axis=0)\n",
    "        csp_data.append(csp)\n",
    "\n",
    "    csp_data = np.vstack(csp_data)\n",
    "    # print(csp_data.shape) => (2400, 32, 128)\n",
    "    fe = FeatureExtractor(sfreq=128, selected_funcs=['pow_freq_bands'],params=params,n_jobs=8)\n",
    "    X = fe.fit_transform(X=csp_data)\n",
    "    # print(X.shape, time.time() - start) => (2400, 160) 1.2374355792999268\n",
    "    # print(X.shape)\n",
    "    assert X.shape[1] == 160\n",
    "    _, acc, cross = train_model(X, labels.reshape(-1), groups, filename=filename)\n",
    "    print(f\"\\tAROUSAL-{filename}|Acc={round(acc,5)}|10-CV={round(cross.mean(),5)}|STD={round(cross.std(),5)}|Time spend={time.time() - start}\")\n",
    "    accs.append(acc)\n",
    "    cv_means.append(cross.mean())\n",
    "    cv_stds.append(cross.std())\n",
    "print(f\"AROUSAL|Acc={sum(accs)/len(accs)}|10-CV={sum(cv_means)/len(cv_means)}|STD={sum(cv_stds)/len(cv_stds)}\")"
   ]
  },
  {
   "cell_type": "code",
   "execution_count": 21,
   "metadata": {},
   "outputs": [
    {
     "data": {
      "application/vnd.jupyter.widget-view+json": {
       "model_id": "bb499c67bceb4221acae7977541f82b2",
       "version_major": 2,
       "version_minor": 0
      },
      "text/plain": [
       "  0%|          | 0/32 [00:00<?, ?it/s]"
      ]
     },
     "metadata": {},
     "output_type": "display_data"
    },
    {
     "name": "stderr",
     "output_type": "stream",
     "text": [
      "/root/projects/components/CSP.py:78: ComplexWarning: Casting complex values to real discards the imaginary part\n",
      "  return SFa.astype(np.float32)\n"
     ]
    },
    {
     "name": "stdout",
     "output_type": "stream",
     "text": [
      "\tVALENCE-s01|Acc=0.58333|10-CV=0.45|STD=0.08333|Time spend=0.4796326160430908\n"
     ]
    },
    {
     "name": "stderr",
     "output_type": "stream",
     "text": [
      "/root/projects/components/CSP.py:78: ComplexWarning: Casting complex values to real discards the imaginary part\n",
      "  return SFa.astype(np.float32)\n"
     ]
    },
    {
     "name": "stdout",
     "output_type": "stream",
     "text": [
      "\tVALENCE-s02|Acc=0.55833|10-CV=0.42333|STD=0.10116|Time spend=0.4357895851135254\n"
     ]
    },
    {
     "name": "stderr",
     "output_type": "stream",
     "text": [
      "/root/projects/components/CSP.py:78: ComplexWarning: Casting complex values to real discards the imaginary part\n",
      "  return SFa.astype(np.float32)\n"
     ]
    },
    {
     "name": "stdout",
     "output_type": "stream",
     "text": [
      "\tVALENCE-s03|Acc=0.71667|10-CV=0.60667|STD=0.18245|Time spend=0.5779335498809814\n"
     ]
    },
    {
     "name": "stderr",
     "output_type": "stream",
     "text": [
      "/root/projects/components/CSP.py:78: ComplexWarning: Casting complex values to real discards the imaginary part\n",
      "  return SFa.astype(np.float32)\n"
     ]
    },
    {
     "name": "stdout",
     "output_type": "stream",
     "text": [
      "\tVALENCE-s04|Acc=0.68333|10-CV=0.51333|STD=0.09911|Time spend=0.5190837383270264\n"
     ]
    },
    {
     "name": "stderr",
     "output_type": "stream",
     "text": [
      "/root/projects/components/CSP.py:78: ComplexWarning: Casting complex values to real discards the imaginary part\n",
      "  return SFa.astype(np.float32)\n"
     ]
    },
    {
     "name": "stdout",
     "output_type": "stream",
     "text": [
      "\tVALENCE-s05|Acc=0.88333|10-CV=0.83|STD=0.09597|Time spend=0.4173285961151123\n"
     ]
    },
    {
     "name": "stderr",
     "output_type": "stream",
     "text": [
      "/root/projects/components/CSP.py:78: ComplexWarning: Casting complex values to real discards the imaginary part\n",
      "  return SFa.astype(np.float32)\n"
     ]
    },
    {
     "name": "stdout",
     "output_type": "stream",
     "text": [
      "\tVALENCE-s06|Acc=1.0|10-CV=1.0|STD=0.0|Time spend=0.5212249755859375\n"
     ]
    },
    {
     "name": "stderr",
     "output_type": "stream",
     "text": [
      "/root/projects/components/CSP.py:78: ComplexWarning: Casting complex values to real discards the imaginary part\n",
      "  return SFa.astype(np.float32)\n"
     ]
    },
    {
     "name": "stdout",
     "output_type": "stream",
     "text": [
      "-----WARNING: Model s07 failed to learn: sum(ans)=120.0 sum(y)=84.0 len(y)=120\n",
      "\tVALENCE-s07|Acc=0.7|10-CV=0.69|STD=0.13748|Time spend=0.5498027801513672\n"
     ]
    },
    {
     "name": "stderr",
     "output_type": "stream",
     "text": [
      "/root/projects/components/CSP.py:78: ComplexWarning: Casting complex values to real discards the imaginary part\n",
      "  return SFa.astype(np.float32)\n"
     ]
    },
    {
     "name": "stdout",
     "output_type": "stream",
     "text": [
      "\tVALENCE-s08|Acc=0.625|10-CV=0.49333|STD=0.14126|Time spend=0.5322251319885254\n"
     ]
    },
    {
     "name": "stderr",
     "output_type": "stream",
     "text": [
      "/root/projects/components/CSP.py:78: ComplexWarning: Casting complex values to real discards the imaginary part\n",
      "  return SFa.astype(np.float32)\n"
     ]
    },
    {
     "name": "stdout",
     "output_type": "stream",
     "text": [
      "\tVALENCE-s09|Acc=0.95833|10-CV=0.93333|STD=0.05164|Time spend=0.6931478977203369\n"
     ]
    },
    {
     "name": "stderr",
     "output_type": "stream",
     "text": [
      "/root/projects/components/CSP.py:78: ComplexWarning: Casting complex values to real discards the imaginary part\n",
      "  return SFa.astype(np.float32)\n"
     ]
    },
    {
     "name": "stdout",
     "output_type": "stream",
     "text": [
      "\tVALENCE-s10|Acc=1.0|10-CV=0.98667|STD=0.01633|Time spend=0.5445411205291748\n"
     ]
    },
    {
     "name": "stderr",
     "output_type": "stream",
     "text": [
      "/root/projects/components/CSP.py:78: ComplexWarning: Casting complex values to real discards the imaginary part\n",
      "  return SFa.astype(np.float32)\n"
     ]
    },
    {
     "name": "stdout",
     "output_type": "stream",
     "text": [
      "\tVALENCE-s11|Acc=0.69167|10-CV=0.54|STD=0.13565|Time spend=0.5225412845611572\n"
     ]
    },
    {
     "name": "stderr",
     "output_type": "stream",
     "text": [
      "/root/projects/components/CSP.py:78: ComplexWarning: Casting complex values to real discards the imaginary part\n",
      "  return SFa.astype(np.float32)\n"
     ]
    },
    {
     "name": "stdout",
     "output_type": "stream",
     "text": [
      "\tVALENCE-s12|Acc=0.98333|10-CV=0.99|STD=0.01528|Time spend=0.6673426628112793\n"
     ]
    },
    {
     "name": "stderr",
     "output_type": "stream",
     "text": [
      "/root/projects/components/CSP.py:78: ComplexWarning: Casting complex values to real discards the imaginary part\n",
      "  return SFa.astype(np.float32)\n"
     ]
    },
    {
     "name": "stdout",
     "output_type": "stream",
     "text": [
      "\tVALENCE-s13|Acc=0.8|10-CV=0.79|STD=0.10225|Time spend=0.6565206050872803\n"
     ]
    },
    {
     "name": "stderr",
     "output_type": "stream",
     "text": [
      "/root/projects/components/CSP.py:78: ComplexWarning: Casting complex values to real discards the imaginary part\n",
      "  return SFa.astype(np.float32)\n"
     ]
    },
    {
     "name": "stdout",
     "output_type": "stream",
     "text": [
      "\tVALENCE-s14|Acc=0.925|10-CV=0.89667|STD=0.04069|Time spend=0.5412187576293945\n"
     ]
    },
    {
     "name": "stderr",
     "output_type": "stream",
     "text": [
      "/root/projects/components/CSP.py:78: ComplexWarning: Casting complex values to real discards the imaginary part\n",
      "  return SFa.astype(np.float32)\n"
     ]
    },
    {
     "name": "stdout",
     "output_type": "stream",
     "text": [
      "\tVALENCE-s15|Acc=0.69167|10-CV=0.63667|STD=0.0809|Time spend=0.48587584495544434\n"
     ]
    },
    {
     "name": "stderr",
     "output_type": "stream",
     "text": [
      "/root/projects/components/CSP.py:78: ComplexWarning: Casting complex values to real discards the imaginary part\n",
      "  return SFa.astype(np.float32)\n"
     ]
    },
    {
     "name": "stdout",
     "output_type": "stream",
     "text": [
      "\tVALENCE-s16|Acc=1.0|10-CV=0.98|STD=0.03055|Time spend=0.4382321834564209\n"
     ]
    },
    {
     "name": "stderr",
     "output_type": "stream",
     "text": [
      "/root/projects/components/CSP.py:78: ComplexWarning: Casting complex values to real discards the imaginary part\n",
      "  return SFa.astype(np.float32)\n"
     ]
    },
    {
     "name": "stdout",
     "output_type": "stream",
     "text": [
      "\tVALENCE-s17|Acc=0.61667|10-CV=0.44667|STD=0.11757|Time spend=0.5005085468292236\n"
     ]
    },
    {
     "name": "stderr",
     "output_type": "stream",
     "text": [
      "/root/projects/components/CSP.py:78: ComplexWarning: Casting complex values to real discards the imaginary part\n",
      "  return SFa.astype(np.float32)\n"
     ]
    },
    {
     "name": "stdout",
     "output_type": "stream",
     "text": [
      "\tVALENCE-s18|Acc=0.95|10-CV=0.90333|STD=0.03786|Time spend=0.5980706214904785\n"
     ]
    },
    {
     "name": "stderr",
     "output_type": "stream",
     "text": [
      "/root/projects/components/CSP.py:78: ComplexWarning: Casting complex values to real discards the imaginary part\n",
      "  return SFa.astype(np.float32)\n"
     ]
    },
    {
     "name": "stdout",
     "output_type": "stream",
     "text": [
      "\tVALENCE-s19|Acc=0.99167|10-CV=0.98667|STD=0.01633|Time spend=0.48640918731689453\n"
     ]
    },
    {
     "name": "stderr",
     "output_type": "stream",
     "text": [
      "/root/projects/components/CSP.py:78: ComplexWarning: Casting complex values to real discards the imaginary part\n",
      "  return SFa.astype(np.float32)\n"
     ]
    },
    {
     "name": "stdout",
     "output_type": "stream",
     "text": [
      "\tVALENCE-s20|Acc=0.73333|10-CV=0.53667|STD=0.1538|Time spend=0.44348716735839844\n"
     ]
    },
    {
     "name": "stderr",
     "output_type": "stream",
     "text": [
      "/root/projects/components/CSP.py:78: ComplexWarning: Casting complex values to real discards the imaginary part\n",
      "  return SFa.astype(np.float32)\n"
     ]
    },
    {
     "name": "stdout",
     "output_type": "stream",
     "text": [
      "\tVALENCE-s21|Acc=0.61667|10-CV=0.45667|STD=0.10333|Time spend=0.4857141971588135\n"
     ]
    },
    {
     "name": "stderr",
     "output_type": "stream",
     "text": [
      "/root/projects/components/CSP.py:78: ComplexWarning: Casting complex values to real discards the imaginary part\n",
      "  return SFa.astype(np.float32)\n"
     ]
    },
    {
     "name": "stdout",
     "output_type": "stream",
     "text": [
      "\tVALENCE-s22|Acc=0.91667|10-CV=0.89333|STD=0.05333|Time spend=0.4861180782318115\n"
     ]
    },
    {
     "name": "stderr",
     "output_type": "stream",
     "text": [
      "/root/projects/components/CSP.py:78: ComplexWarning: Casting complex values to real discards the imaginary part\n",
      "  return SFa.astype(np.float32)\n"
     ]
    },
    {
     "name": "stdout",
     "output_type": "stream",
     "text": [
      "-----WARNING: Model s23 failed to learn: sum(ans)=120.0 sum(y)=78.0 len(y)=120\n",
      "\tVALENCE-s23|Acc=0.65|10-CV=0.59667|STD=0.12949|Time spend=0.6455361843109131\n"
     ]
    },
    {
     "name": "stderr",
     "output_type": "stream",
     "text": [
      "/root/projects/components/CSP.py:78: ComplexWarning: Casting complex values to real discards the imaginary part\n",
      "  return SFa.astype(np.float32)\n"
     ]
    },
    {
     "name": "stdout",
     "output_type": "stream",
     "text": [
      "\tVALENCE-s24|Acc=0.78333|10-CV=0.72667|STD=0.10198|Time spend=0.6433455944061279\n"
     ]
    },
    {
     "name": "stderr",
     "output_type": "stream",
     "text": [
      "/root/projects/components/CSP.py:78: ComplexWarning: Casting complex values to real discards the imaginary part\n",
      "  return SFa.astype(np.float32)\n"
     ]
    },
    {
     "name": "stdout",
     "output_type": "stream",
     "text": [
      "\tVALENCE-s25|Acc=0.68333|10-CV=0.4|STD=0.12737|Time spend=0.49382734298706055\n"
     ]
    },
    {
     "name": "stderr",
     "output_type": "stream",
     "text": [
      "/root/projects/components/CSP.py:78: ComplexWarning: Casting complex values to real discards the imaginary part\n",
      "  return SFa.astype(np.float32)\n"
     ]
    },
    {
     "name": "stdout",
     "output_type": "stream",
     "text": [
      "\tVALENCE-s26|Acc=0.85833|10-CV=0.81667|STD=0.06708|Time spend=0.4804995059967041\n"
     ]
    },
    {
     "name": "stderr",
     "output_type": "stream",
     "text": [
      "/root/projects/components/CSP.py:78: ComplexWarning: Casting complex values to real discards the imaginary part\n",
      "  return SFa.astype(np.float32)\n"
     ]
    },
    {
     "name": "stdout",
     "output_type": "stream",
     "text": [
      "\tVALENCE-s27|Acc=0.925|10-CV=0.83333|STD=0.13166|Time spend=0.527738094329834\n"
     ]
    },
    {
     "name": "stderr",
     "output_type": "stream",
     "text": [
      "/root/projects/components/CSP.py:78: ComplexWarning: Casting complex values to real discards the imaginary part\n",
      "  return SFa.astype(np.float32)\n"
     ]
    },
    {
     "name": "stdout",
     "output_type": "stream",
     "text": [
      "\tVALENCE-s28|Acc=0.71667|10-CV=0.52333|STD=0.1116|Time spend=0.4505894184112549\n"
     ]
    },
    {
     "name": "stderr",
     "output_type": "stream",
     "text": [
      "/root/projects/components/CSP.py:78: ComplexWarning: Casting complex values to real discards the imaginary part\n",
      "  return SFa.astype(np.float32)\n"
     ]
    },
    {
     "name": "stdout",
     "output_type": "stream",
     "text": [
      "\tVALENCE-s29|Acc=1.0|10-CV=1.0|STD=0.0|Time spend=0.5011088848114014\n"
     ]
    },
    {
     "name": "stderr",
     "output_type": "stream",
     "text": [
      "/root/projects/components/CSP.py:78: ComplexWarning: Casting complex values to real discards the imaginary part\n",
      "  return SFa.astype(np.float32)\n"
     ]
    },
    {
     "name": "stdout",
     "output_type": "stream",
     "text": [
      "-----WARNING: Model s30 failed to learn: sum(ans)=120.0 sum(y)=81.0 len(y)=120\n",
      "\tVALENCE-s30|Acc=0.675|10-CV=0.61667|STD=0.14549|Time spend=0.43703341484069824\n"
     ]
    },
    {
     "name": "stderr",
     "output_type": "stream",
     "text": [
      "/root/projects/components/CSP.py:78: ComplexWarning: Casting complex values to real discards the imaginary part\n",
      "  return SFa.astype(np.float32)\n"
     ]
    },
    {
     "name": "stdout",
     "output_type": "stream",
     "text": [
      "\tVALENCE-s31|Acc=0.98333|10-CV=0.98667|STD=0.02211|Time spend=0.4821810722351074\n"
     ]
    },
    {
     "name": "stderr",
     "output_type": "stream",
     "text": [
      "/root/projects/components/CSP.py:78: ComplexWarning: Casting complex values to real discards the imaginary part\n",
      "  return SFa.astype(np.float32)\n"
     ]
    },
    {
     "name": "stdout",
     "output_type": "stream",
     "text": [
      "\tVALENCE-s32|Acc=0.66667|10-CV=0.59333|STD=0.12092|Time spend=0.5227715969085693\n",
      "VALENCE|Acc=0.7989583333333335|10-CV=0.7211458333333334|STD=0.08606167565478091\n"
     ]
    }
   ],
   "source": [
    "accs_v, cv_means_v, cv_stds_v = [],[],[]\n",
    "for filename in tqdm(dataset.get_file_list()):\n",
    "\n",
    "    data, labels, groups = dataset.get_data(filename, stimuli=Dataset_subjectDependent.STIMULI_VALENCE, return_type='numpy')\n",
    "    labels = labels.squeeze()\n",
    "    start = time.time()\n",
    "    filters = CSP(data[labels==0], data[labels==1])\n",
    "    \n",
    "    csp_data = []\n",
    "    for index in range(len(data)):\n",
    "        \n",
    "        # (672, 32) @ (32, 32) = (672, 32)\n",
    "        csp = data[index].T @ filters[labels[index].astype(int)]\n",
    "        # (1, 32, 672)\n",
    "        csp = np.expand_dims(csp.T, axis=0)\n",
    "        csp_data.append(csp)\n",
    "\n",
    "    csp_data = np.vstack(csp_data)\n",
    "    # print(csp_data.shape) => (2400, 32, 128)\n",
    "    fe = FeatureExtractor(sfreq=128, selected_funcs=['pow_freq_bands'],params=params,n_jobs=8)\n",
    "    X = fe.fit_transform(X=csp_data)\n",
    "    # print(X.shape, time.time() - start) => (2400, 160) 1.2374355792999268\n",
    "\n",
    "    assert X.shape[1] == 160\n",
    "    _, acc, cross = train_model(X, labels.reshape(-1), groups, filename=filename)\n",
    "    print(f\"\\tVALENCE-{filename}|Acc={round(acc,5)}|10-CV={round(cross.mean(),5)}|STD={round(cross.std(),5)}|Time spend={time.time() - start}\")\n",
    "    accs_v.append(acc)\n",
    "    cv_means_v.append(cross.mean())\n",
    "    cv_stds_v.append(cross.std())\n",
    "print(f\"VALENCE|Acc={sum(accs_v)/len(accs_v)}|10-CV={sum(cv_means_v)/len(cv_means_v)}|STD={sum(cv_stds_v)/len(cv_stds_v)}\")"
   ]
  },
  {
   "cell_type": "code",
   "execution_count": 22,
   "metadata": {},
   "outputs": [
    {
     "name": "stdout",
     "output_type": "stream",
     "text": [
      "TOTAL|Acc=0.8125|10-CV=0.7463020833333333|STD=0.0798577712053159\n"
     ]
    }
   ],
   "source": [
    "accs.extend(accs_v)\n",
    "cv_means.extend(cv_means_v)\n",
    "cv_stds.extend(cv_stds_v)\n",
    "\n",
    "print(f\"TOTAL|Acc={sum(accs)/len(accs)}|10-CV={sum(cv_means)/len(cv_means)}|STD={sum(cv_stds)/len(cv_stds)}\")"
   ]
  },
  {
   "cell_type": "code",
   "execution_count": null,
   "metadata": {},
   "outputs": [],
   "source": []
  }
 ],
 "metadata": {
  "interpreter": {
   "hash": "27768773b483d82a9b2b839e3fa80b1be5789db7fd78df4eedef2df266871616"
  },
  "kernelspec": {
   "display_name": "Python 3 (ipykernel)",
   "language": "python",
   "name": "python3"
  },
  "language_info": {
   "codemirror_mode": {
    "name": "ipython",
    "version": 3
   },
   "file_extension": ".py",
   "mimetype": "text/x-python",
   "name": "python",
   "nbconvert_exporter": "python",
   "pygments_lexer": "ipython3",
   "version": "3.8.10"
  }
 },
 "nbformat": 4,
 "nbformat_minor": 4
}
