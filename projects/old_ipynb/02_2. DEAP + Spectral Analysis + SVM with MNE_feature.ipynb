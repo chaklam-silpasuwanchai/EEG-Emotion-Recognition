{
 "cells": [
  {
   "cell_type": "markdown",
   "id": "35f7a256",
   "metadata": {},
   "source": [
    "# Part 2_2. DEAP Dataset + Spectral Analysis + SVM With MNE_feature\n",
    "\n",
    "Continuing from Part2_1., this part we will explore another library called [`mne_features`](https://mne.tools/mne-features/index.html). This library aims to extract features out of the epochs-like data (n_epochs, n_channels, n_samples).\n",
    "\n",
    "We could skip the entire `MNE` library if our data is preprocessed like this DEAP dataset."
   ]
  },
  {
   "cell_type": "code",
   "execution_count": 2,
   "id": "7dd63c1e",
   "metadata": {},
   "outputs": [],
   "source": [
    "import pickle\n",
    "import numpy as np\n",
    "\n",
    "# this time I will load the Dataset class from `./components/dataset.py`\n",
    "from components.dataset import Dataset"
   ]
  },
  {
   "cell_type": "code",
   "execution_count": 3,
   "id": "1e0a770c",
   "metadata": {},
   "outputs": [
    {
     "name": "stdout",
     "output_type": "stream",
     "text": [
      "Data shape:  (15360, 32, 672)\n",
      "Label shape:  (15360, 1)\n",
      "sum(label==0)=array([6864]) + sum(label==1)=array([8496]) = [15360]\n"
     ]
    }
   ],
   "source": [
    "path = \"data\"\n",
    "dataset = Dataset(path, \"Valence\")\n",
    "\n",
    "data  = np.array(dataset[:]['data'])\n",
    "label = np.array(dataset[:]['label'])\n",
    "\n",
    "print(\"Data shape: \" , data.shape)  #15360 = 32 participants * 40 trials * 12 segments, 32 EEG channels, 672 samples\n",
    "print(\"Label shape: \", label.shape)  #two classes of valence\n",
    "print(f\"{sum(label==0)=} + {sum(label==1)=} = {sum(label==0)+sum(label==1)}\")\n",
    "\n",
    "del(dataset)"
   ]
  },
  {
   "cell_type": "markdown",
   "id": "91c56575",
   "metadata": {},
   "source": [
    "# MNE_features"
   ]
  },
  {
   "cell_type": "code",
   "execution_count": 23,
   "id": "b878baac",
   "metadata": {},
   "outputs": [],
   "source": [
    "from mne_features.feature_extraction import FeatureExtractor\n",
    "import time"
   ]
  },
  {
   "cell_type": "code",
   "execution_count": 6,
   "id": "6456d728",
   "metadata": {},
   "outputs": [
    {
     "name": "stdout",
     "output_type": "stream",
     "text": [
      "(15360, 32) 6.546555280685425\n",
      "(15360, 32) 6.762385845184326\n",
      "(15360, 32) 5.830480575561523\n"
     ]
    }
   ],
   "source": [
    "# mne_features.univariate.compute_mean: Mean of the data (per channel).\n",
    "start = time.time()\n",
    "fe = FeatureExtractor(sfreq=128, selected_funcs=['mean'])\n",
    "X = fe.fit_transform(X=data)\n",
    "print(X.shape, time.time() - start)\n",
    "\n",
    "# mne_features.univariate.compute_variance: Variance of the data (per channel).\n",
    "start = time.time()\n",
    "fe = FeatureExtractor(sfreq=128, selected_funcs=['variance'])\n",
    "X = fe.fit_transform(X=data)\n",
    "print(X.shape, time.time() - start)\n",
    "\n",
    "# mne_features.univariate.compute_ptp_amp: Peak-to-peak (PTP) amplitude of the data (per channel).\n",
    "start = time.time()\n",
    "fe = FeatureExtractor(sfreq=128, selected_funcs=['ptp_amp'])\n",
    "X = fe.fit_transform(X=data)\n",
    "print(X.shape, time.time() - start)"
   ]
  },
  {
   "cell_type": "code",
   "execution_count": 15,
   "id": "cbd02112",
   "metadata": {},
   "outputs": [
    {
     "name": "stdout",
     "output_type": "stream",
     "text": [
      "(15360, 96) 11.249577522277832\n"
     ]
    }
   ],
   "source": [
    "# You can extract everything in one go (well, it just do a loop for you)\n",
    "start = time.time()\n",
    "fe = FeatureExtractor(sfreq=128, selected_funcs=['mean','variance','ptp_amp'])\n",
    "X = fe.fit_transform(X=data)\n",
    "print(X.shape, time.time() - start)"
   ]
  },
  {
   "cell_type": "code",
   "execution_count": 16,
   "id": "5baf139d",
   "metadata": {},
   "outputs": [
    {
     "name": "stdout",
     "output_type": "stream",
     "text": [
      "(15360, 96) 5.23874568939209\n"
     ]
    }
   ],
   "source": [
    "# We can set parallel with n_jobs\n",
    "start = time.time()\n",
    "fe = FeatureExtractor(sfreq=128, selected_funcs=['mean','variance','ptp_amp'],n_jobs=3)\n",
    "X = fe.fit_transform(X=data)\n",
    "print(X.shape, time.time() - start)"
   ]
  },
  {
   "cell_type": "code",
   "execution_count": 20,
   "id": "6d22f936",
   "metadata": {},
   "outputs": [
    {
     "name": "stdout",
     "output_type": "stream",
     "text": [
      "________________________________________________________________________________\n",
      "[Memory] Calling mne_features.feature_extraction.extract_features...\n",
      "extract_features(array([[[  0.948232, ...,   1.381568],\n",
      "        ...,\n",
      "        [  0.372271, ...,  -0.810515]],\n",
      "\n",
      "       ...,\n",
      "\n",
      "       [[ -1.971357, ...,   2.64132 ],\n",
      "        ...,\n",
      "        [  0.722246, ..., -10.919237]]], dtype=float32), \n",
      "128, ['mean', 'variance', 'ptp_amp'], funcs_params=None, n_jobs=3)\n"
     ]
    },
    {
     "name": "stderr",
     "output_type": "stream",
     "text": [
      "/root/projects/.venv/lib/python3.8/site-packages/mne_features/feature_extraction.py:386: UserWarning: Persisting input arguments took 1.64s to run.\n",
      "If this happens often in your code, it can cause performance problems \n",
      "(results will be correct in all cases). \n",
      "The reason for this is probably some large input arguments for a wrapped\n",
      " function (e.g. large strings).\n",
      "THIS IS A JOBLIB ISSUE. If you can, kindly provide the joblib's team with an\n",
      " example so that they can fix the problem.\n",
      "  return _extractor(X, self.sfreq, self.selected_funcs,\n"
     ]
    },
    {
     "name": "stdout",
     "output_type": "stream",
     "text": [
      "_________________________________________________extract_features - 6.8s, 0.1min\n",
      "(15360, 96) 10.048383474349976\n",
      "(15360, 96) 1.6996862888336182\n"
     ]
    }
   ],
   "source": [
    "# You can provide the memeory argument (which is a path to store cache). Everytime you rerun the Extractor, it will fetch from the cache\n",
    "start = time.time()\n",
    "fe = FeatureExtractor(sfreq=128, selected_funcs=['mean','variance','ptp_amp'],n_jobs=3,memory='cache/')\n",
    "X = fe.fit_transform(X=data)\n",
    "print(X.shape, time.time() - start)\n",
    "\n",
    "start = time.time()\n",
    "fe = FeatureExtractor(sfreq=128, selected_funcs=['mean','variance','ptp_amp'],n_jobs=3,memory='cache/')\n",
    "X = fe.fit_transform(X=data)\n",
    "print(X.shape, time.time() - start)"
   ]
  },
  {
   "cell_type": "markdown",
   "id": "cbb097f2",
   "metadata": {},
   "source": [
    "# Extract PSD with MNE_features\n",
    "\n"
   ]
  },
  {
   "cell_type": "markdown",
   "id": "7453ca6a",
   "metadata": {},
   "source": [
    "https://mne.tools/mne-features/generated/mne_features.univariate.compute_pow_freq_bands.html#mne_features.univariate.compute_pow_freq_bands\n",
    "\n",
    "The `compute_pow_freq_bands` has optional parameters.\n",
    "\n",
    "Before we go stright to the `FeatureExtractor` pipeline, it is easier to play with the function directly (for me)"
   ]
  },
  {
   "cell_type": "code",
   "execution_count": 28,
   "id": "7bb47ba5",
   "metadata": {},
   "outputs": [
    {
     "name": "stdout",
     "output_type": "stream",
     "text": [
      "(32,) 0.0038406848907470703\n"
     ]
    }
   ],
   "source": [
    "from mne_features.univariate import compute_pow_freq_bands\n",
    "import matplotlib.pyplot as plt\n",
    "\n",
    "# The `compute_pow_freq_bands` expects data to be in a shape of (n_channels, n_samples). \n",
    "# I want to extract the information with base-10 log and no normalize. (please read the manual for more information)\n",
    "start = time.time()\n",
    "psd_0 = compute_pow_freq_bands(sfreq=128, data=data[0], freq_bands=np.array([0.5,4.]), log=True , normalize=False)\n",
    "print(psd_0.shape, time.time() - start)"
   ]
  },
  {
   "cell_type": "markdown",
   "id": "4affa371",
   "metadata": {},
   "source": [
    "To pass the optional parameter to a specific function, the `params` argument is needed.\n",
    "\n",
    "Since we can have multiple function (mean,variance,std,...) in the `selected_funcs`, the `params` needs to be in a form of dictionary with key in a format of `<func_name>__<param_name>`\n",
    "\n",
    "If I want to pass a paremeter of `log` for `pow_freq_bands` then the key is `pow_freq_bands__log`. The associated value is the value you want to pass."
   ]
  },
  {
   "cell_type": "code",
   "execution_count": 34,
   "id": "4fc36d46",
   "metadata": {},
   "outputs": [
    {
     "name": "stdout",
     "output_type": "stream",
     "text": [
      "(15360, 32) 4.470647573471069\n"
     ]
    }
   ],
   "source": [
    "start = time.time()\n",
    "# [alias_feature_function]__[optional_param]\n",
    "params = dict({\n",
    "    'pow_freq_bands__log':True,\n",
    "    'pow_freq_bands__normalize':False,\n",
    "    'pow_freq_bands__freq_bands':np.array([0.5,4.])\n",
    "})\n",
    "fe = FeatureExtractor(sfreq=128, selected_funcs=['pow_freq_bands'],params=params,n_jobs=8)\n",
    "X = fe.fit_transform(X=data)\n",
    "print(X.shape, time.time() - start)"
   ]
  },
  {
   "cell_type": "markdown",
   "id": "00d1d05c",
   "metadata": {},
   "source": [
    "The `FeatureExtractor` loops through the epochs and calculate `pow_freq_bands`. Since we use `n_jobs`, the time we spent is faster than write a loop yourself."
   ]
  },
  {
   "cell_type": "code",
   "execution_count": 43,
   "id": "c3d9237b",
   "metadata": {},
   "outputs": [
    {
     "data": {
      "image/png": "[encoded data removed]",
      "text/plain": [
       "<Figure size 432x288 with 1 Axes>"
      ]
     },
     "metadata": {
      "needs_background": "light"
     },
     "output_type": "display_data"
    }
   ],
   "source": [
    "# And the data is exactly the same.\n",
    "plt.plot(X[0], color='b', linewidth=8)\n",
    "plt.plot(psd_0, color='r')\n",
    "plt.show()"
   ]
  },
  {
   "cell_type": "markdown",
   "id": "d7563a8f",
   "metadata": {},
   "source": [
    "Now, need to understand `freq_bands` and why the current argument result in a shape of (32,).\n",
    "\n",
    "I could just go write a bunch of code and let you figure out (I know you can) or I will explain right now.\n",
    "\n",
    "I don't know why I wrote the above sentence but here we go.\n",
    "\n",
    "There are `3` ways you can define `freq_bands`.\n",
    "\n",
    "```\n",
    "1. np.array( [.5, 4, 8] )\n",
    "2. np.array( [\n",
    "    [.5,4],\n",
    "    [4,8]\n",
    "])\n",
    "3. dict({\n",
    "    'delta': [.5,4],\n",
    "    'theta': [4,8]\n",
    "})\n",
    "```\n",
    "\n",
    "Previously, the I only pass [.5,4] so there is only one band that is extracted. The shape (32,) is a the value of [.5,4] in those channels.\n",
    "\n",
    "Ah.. If we pass all bands, we will get (32,5)?\n",
    "\n",
    "Actually, no. See for yourself."
   ]
  },
  {
   "cell_type": "code",
   "execution_count": 44,
   "id": "a7ff1d85",
   "metadata": {},
   "outputs": [
    {
     "name": "stdout",
     "output_type": "stream",
     "text": [
      "(15360, 64) 34.27146863937378\n"
     ]
    }
   ],
   "source": [
    "start = time.time()\n",
    "# [alias_feature_function]__[optional_param]\n",
    "params = dict({\n",
    "    'pow_freq_bands__log':True,\n",
    "    'pow_freq_bands__normalize':False,\n",
    "    'pow_freq_bands__freq_bands':dict({\n",
    "        'delta': [.5,4],\n",
    "        'theta': [4,8]\n",
    "    })\n",
    "})\n",
    "fe = FeatureExtractor(sfreq=128, selected_funcs=['pow_freq_bands'],params=params,n_jobs=8)\n",
    "X = fe.fit_transform(X=data)\n",
    "print(X.shape, time.time() - start)"
   ]
  },
  {
   "cell_type": "markdown",
   "id": "2920920d",
   "metadata": {},
   "source": [
    "GGWP.\n",
    "\n",
    "This is understandable since the return data is `sklearn`-ready (n_epochs, features).\n",
    "\n",
    "Is this a bad thing? no... Well, that depends on what you want, if you want to later futhur summarize the data then probably yes.\n",
    "\n",
    "Since we are here now, why don't we give this a try in SVM"
   ]
  },
  {
   "cell_type": "markdown",
   "id": "1d955ea7",
   "metadata": {},
   "source": [
    "## 3. Machine Learning"
   ]
  },
  {
   "cell_type": "code",
   "execution_count": 45,
   "id": "63dfe74f",
   "metadata": {},
   "outputs": [
    {
     "name": "stdout",
     "output_type": "stream",
     "text": [
      "(15360, 160) 40.66635036468506\n"
     ]
    }
   ],
   "source": [
    "from mne_features.feature_extraction import FeatureExtractor\n",
    "import time\n",
    "start = time.time()\n",
    "\n",
    "bands = [(0,4), (4,8), (8,12), (12,30), (30,64)]\n",
    "# [alias_feature_function]__[optional_param]\n",
    "params = dict({\n",
    "    'pow_freq_bands__log':True,\n",
    "    'pow_freq_bands__normalize':False,\n",
    "    'pow_freq_bands__freq_bands':bands\n",
    "})\n",
    "fe = FeatureExtractor(sfreq=128, selected_funcs=['pow_freq_bands'],params=params,n_jobs=8)\n",
    "X = fe.fit_transform(X=data)\n",
    "print(X.shape, time.time() - start)"
   ]
  },
  {
   "cell_type": "code",
   "execution_count": 50,
   "id": "a1c0054a",
   "metadata": {},
   "outputs": [
    {
     "data": {
      "text/plain": [
       "(15360,)"
      ]
     },
     "execution_count": 50,
     "metadata": {},
     "output_type": "execute_result"
    }
   ],
   "source": [
    "y = label.squeeze()\n",
    "y.shape"
   ]
  },
  {
   "cell_type": "code",
   "execution_count": 47,
   "id": "bad1e8ae",
   "metadata": {},
   "outputs": [],
   "source": [
    "def train_model(X_ori,y_ori, kernel='rbf'):\n",
    "    # Make a copy because I am paranoid\n",
    "    X,y = X_ori.copy(), y_ori.copy()\n",
    "\n",
    "    from sklearn.svm import SVC\n",
    "    from sklearn.utils import shuffle\n",
    "    from sklearn.model_selection import cross_val_score\n",
    "\n",
    "    # \n",
    "    X_shuff,y_shuff = shuffle(X,y)\n",
    "    model = SVC(kernel=kernel,max_iter=10000)\n",
    "    cross = cross_val_score(model, X_shuff, y_shuff, cv=3)\n",
    "\n",
    "    model = SVC(kernel=kernel, max_iter=10000)\n",
    "    model.fit(X_shuff, y_shuff)\n",
    "    ans = model.predict(X_shuff)\n",
    "    acc = sum(ans == y_shuff) / len(y_shuff)\n",
    "    return model, acc, cross"
   ]
  },
  {
   "cell_type": "code",
   "execution_count": 51,
   "id": "88ea0c05",
   "metadata": {},
   "outputs": [
    {
     "name": "stderr",
     "output_type": "stream",
     "text": [
      "/root/projects/.venv/lib/python3.8/site-packages/sklearn/svm/_base.py:284: ConvergenceWarning: Solver terminated early (max_iter=10000).  Consider pre-processing your data with StandardScaler or MinMaxScaler.\n",
      "  warnings.warn(\n",
      "/root/projects/.venv/lib/python3.8/site-packages/sklearn/svm/_base.py:284: ConvergenceWarning: Solver terminated early (max_iter=10000).  Consider pre-processing your data with StandardScaler or MinMaxScaler.\n",
      "  warnings.warn(\n",
      "/root/projects/.venv/lib/python3.8/site-packages/sklearn/svm/_base.py:284: ConvergenceWarning: Solver terminated early (max_iter=10000).  Consider pre-processing your data with StandardScaler or MinMaxScaler.\n",
      "  warnings.warn(\n",
      "/root/projects/.venv/lib/python3.8/site-packages/sklearn/svm/_base.py:284: ConvergenceWarning: Solver terminated early (max_iter=10000).  Consider pre-processing your data with StandardScaler or MinMaxScaler.\n",
      "  warnings.warn(\n"
     ]
    },
    {
     "name": "stdout",
     "output_type": "stream",
     "text": [
      "\tKernel=linear| Acc=0.53197 | 3-CV score=0.5304 STD=0.02003| Time spend=44.6980504989624\n"
     ]
    },
    {
     "name": "stderr",
     "output_type": "stream",
     "text": [
      "/root/projects/.venv/lib/python3.8/site-packages/sklearn/svm/_base.py:284: ConvergenceWarning: Solver terminated early (max_iter=10000).  Consider pre-processing your data with StandardScaler or MinMaxScaler.\n",
      "  warnings.warn(\n",
      "/root/projects/.venv/lib/python3.8/site-packages/sklearn/svm/_base.py:284: ConvergenceWarning: Solver terminated early (max_iter=10000).  Consider pre-processing your data with StandardScaler or MinMaxScaler.\n",
      "  warnings.warn(\n",
      "/root/projects/.venv/lib/python3.8/site-packages/sklearn/svm/_base.py:284: ConvergenceWarning: Solver terminated early (max_iter=10000).  Consider pre-processing your data with StandardScaler or MinMaxScaler.\n",
      "  warnings.warn(\n",
      "/root/projects/.venv/lib/python3.8/site-packages/sklearn/svm/_base.py:284: ConvergenceWarning: Solver terminated early (max_iter=10000).  Consider pre-processing your data with StandardScaler or MinMaxScaler.\n",
      "  warnings.warn(\n"
     ]
    },
    {
     "name": "stdout",
     "output_type": "stream",
     "text": [
      "\tKernel=poly| Acc=0.63346 | 3-CV score=0.60326 STD=0.03844| Time spend=53.509968996047974\n",
      "\tKernel=rbf| Acc=0.70436 | 3-CV score=0.67168 STD=0.00306| Time spend=97.64887022972107\n",
      "\tKernel=sigmoid| Acc=0.52975 | 3-CV score=0.52988 STD=0.00428| Time spend=52.1804633140564\n"
     ]
    }
   ],
   "source": [
    "for kernel in ['linear','poly','rbf', 'sigmoid']:\n",
    "    start = time.time()\n",
    "    model, acc, cross = train_model(X, y, kernel=kernel)\n",
    "    # We can save the model and reuse it later\n",
    "    print(f\"\\tKernel={kernel}| Acc={round(acc,5)} | 3-CV score={round(cross.mean(),5)} STD={round(cross.std(),5)}| Time spend={time.time() - start}\")"
   ]
  },
  {
   "cell_type": "markdown",
   "id": "2c14280c",
   "metadata": {},
   "source": [
    "Seem like having features as `n_channels * freq_bands` is a better approach for this dataset.\n",
    "\n",
    "However, Having too many features could lead to various problem. As told before, the challenge of this work is to find the a combination of technique that yield the best result without biasing."
   ]
  }
 ],
 "metadata": {
  "kernelspec": {
   "display_name": "Python 3",
   "language": "python",
   "name": "python3"
  },
  "language_info": {
   "codemirror_mode": {
    "name": "ipython",
    "version": 3
   },
   "file_extension": ".py",
   "mimetype": "text/x-python",
   "name": "python",
   "nbconvert_exporter": "python",
   "pygments_lexer": "ipython3",
   "version": "3.8.10"
  }
 },
 "nbformat": 4,
 "nbformat_minor": 5
}
