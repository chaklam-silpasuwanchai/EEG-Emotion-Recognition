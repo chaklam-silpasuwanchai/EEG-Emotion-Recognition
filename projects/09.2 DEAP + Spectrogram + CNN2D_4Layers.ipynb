{
 "cells": [
  {
   "cell_type": "markdown",
   "metadata": {},
   "source": [
    "# DEAP Dataset + Spectrogram + CNN2D (4 layers)\n",
    "\n",
    "In this part, we shall try inputting the spectrogram into 4 layers of CNN2D.\n",
    "\n",
    "*Note that we will be only predicting the valence.  Feel free to work on the arousal yourself.*"
   ]
  },
  {
   "cell_type": "code",
   "execution_count": 1,
   "metadata": {},
   "outputs": [],
   "source": [
    "import torch\n",
    "import torch.nn as nn\n",
    "import torch.nn.functional as F\n",
    "import os, pickle\n",
    "\n",
    "# setting seed so that splitting process and training process can be reproduce\n",
    "torch.manual_seed(1)\n",
    "\n",
    "import numpy as np\n",
    "\n",
    "#refactoring components\n",
    "#maybe you want to take a look at these components, because we will be using them in the future series\n",
    "from components.dataset import Dataset, SpecDataset\n",
    "from components.helper import getLoaders, count_parameters, plot_performance\n",
    "from components.train import train, evaluate, initialize_weights"
   ]
  },
  {
   "cell_type": "markdown",
   "metadata": {},
   "source": [
    "Set cuda accordingly."
   ]
  },
  {
   "cell_type": "code",
   "execution_count": 2,
   "metadata": {},
   "outputs": [
    {
     "name": "stdout",
     "output_type": "stream",
     "text": [
      "Configured device:  cuda\n"
     ]
    }
   ],
   "source": [
    "device = torch.device('cuda' if torch.cuda.is_available() else 'cpu')\n",
    "print(\"Configured device: \", device)"
   ]
  },
  {
   "cell_type": "markdown",
   "metadata": {},
   "source": [
    "## 1. Loading the SpecDataset\n",
    "\n",
    "Here we gonna just refactor the code and put into the <code>components/dataset.py</code> folder"
   ]
  },
  {
   "cell_type": "code",
   "execution_count": 3,
   "metadata": {},
   "outputs": [],
   "source": [
    "path = \"data\"  #create a folder \"data\", and inside put s01.dat,....,s32.dat inside from the preprocessed folder from the DEAP dataset\n",
    "\n",
    "sample_rate = 128\n",
    "window_size = int(sample_rate)  #1s\n",
    "step_size = sample_rate * 0.5 #0.5s"
   ]
  },
  {
   "cell_type": "code",
   "execution_count": 4,
   "metadata": {},
   "outputs": [
    {
     "name": "stdout",
     "output_type": "stream",
     "text": [
      "Data shape:  torch.Size([7680, 32, 20, 65])\n",
      "Label shape:  torch.Size([7680, 1])\n"
     ]
    }
   ],
   "source": [
    "#def __init__(self, path, stim, sample_rate, window_size, step_size, segments):\n",
    "#6 here means breaking 60s video into 10 segments.  We have selected this from trial-and-error.  Too high or low leads to worse accuracy - that's what we found.\n",
    "dataset = SpecDataset(path, \"Valence\", sample_rate, window_size, step_size, 6)\n",
    "\n",
    "data  = dataset[:]['data']\n",
    "label = dataset[:]['label']\n",
    "\n",
    "print(\"Data shape: \" , data.shape)  # batches, channels, height, width\n",
    "print(\"Label shape: \", label.shape)  #two classes of valence"
   ]
  },
  {
   "cell_type": "markdown",
   "metadata": {
    "tags": []
   },
   "source": [
    "## 2. Defining the Model\n",
    "\n",
    "Here we will try 4 layers.  Let's get the shapes so we can define our CNN dynamically.\n",
    "\n",
    "Note that I only put maxpool at layer2 and 4.  This is because if we put too many maxpool, the size of the images will be reduced too drastically, losing information.  This is especially true since we already segmented our data in the beginning.\n",
    "\n",
    "Thus I have keep it consistent with previous tutorial, i.e., 2 maxpooling."
   ]
  },
  {
   "cell_type": "markdown",
   "metadata": {},
   "source": [
    "### Getting shape so we can make sure our convolution always work dynamically"
   ]
  },
  {
   "cell_type": "code",
   "execution_count": 5,
   "metadata": {},
   "outputs": [],
   "source": [
    "conv2d1 = nn.Conv2d(32, 64, kernel_size=3, stride=1, padding=1)\n",
    "\n",
    "conv2d2 = nn.Conv2d(64, 128, kernel_size=3, stride=1, padding=1)\n",
    "maxpool2 = nn.MaxPool2d(kernel_size=2)\n",
    "\n",
    "conv2d3 = nn.Conv2d(128, 256, kernel_size=3, stride=1, padding=1)\n",
    "\n",
    "conv2d4 = nn.Conv2d(256, 512, kernel_size=3, stride=1, padding=1)\n",
    "maxpool4 = nn.MaxPool2d(kernel_size=2)"
   ]
  },
  {
   "cell_type": "code",
   "execution_count": 6,
   "metadata": {},
   "outputs": [
    {
     "data": {
      "text/plain": [
       "torch.Size([7680, 64, 20, 65])"
      ]
     },
     "execution_count": 6,
     "metadata": {},
     "output_type": "execute_result"
    }
   ],
   "source": [
    "out = conv2d1(data)\n",
    "out.shape"
   ]
  },
  {
   "cell_type": "code",
   "execution_count": 7,
   "metadata": {},
   "outputs": [
    {
     "data": {
      "text/plain": [
       "torch.Size([7680, 128, 20, 65])"
      ]
     },
     "execution_count": 7,
     "metadata": {},
     "output_type": "execute_result"
    }
   ],
   "source": [
    "out = conv2d2(out)\n",
    "out.shape"
   ]
  },
  {
   "cell_type": "code",
   "execution_count": 8,
   "metadata": {},
   "outputs": [
    {
     "data": {
      "text/plain": [
       "torch.Size([7680, 128, 10, 32])"
      ]
     },
     "execution_count": 8,
     "metadata": {},
     "output_type": "execute_result"
    }
   ],
   "source": [
    "out = maxpool2(out)\n",
    "out.shape"
   ]
  },
  {
   "cell_type": "code",
   "execution_count": 9,
   "metadata": {},
   "outputs": [
    {
     "data": {
      "text/plain": [
       "torch.Size([7680, 256, 10, 32])"
      ]
     },
     "execution_count": 9,
     "metadata": {},
     "output_type": "execute_result"
    }
   ],
   "source": [
    "out = conv2d3(out)\n",
    "out.shape"
   ]
  },
  {
   "cell_type": "code",
   "execution_count": 10,
   "metadata": {},
   "outputs": [
    {
     "data": {
      "text/plain": [
       "torch.Size([7680, 512, 10, 32])"
      ]
     },
     "execution_count": 10,
     "metadata": {},
     "output_type": "execute_result"
    }
   ],
   "source": [
    "out = conv2d4(out)\n",
    "out.shape"
   ]
  },
  {
   "cell_type": "code",
   "execution_count": 11,
   "metadata": {},
   "outputs": [
    {
     "name": "stdout",
     "output_type": "stream",
     "text": [
      "torch.Size([7680, 512, 5, 16])\n"
     ]
    }
   ],
   "source": [
    "out = maxpool4(out)\n",
    "final_shape = out.shape\n",
    "print(out.shape)"
   ]
  },
  {
   "cell_type": "markdown",
   "metadata": {},
   "source": [
    "### Model Definition"
   ]
  },
  {
   "cell_type": "code",
   "execution_count": 12,
   "metadata": {},
   "outputs": [],
   "source": [
    "# Convolutional neural network (two convolutional layers)\n",
    "class ConvNet(nn.Module):\n",
    "    def __init__(self, input_dim=32, output_dim=1):\n",
    "        super(ConvNet, self).__init__()\n",
    "        \n",
    "        #using sequential helps bind multiple operations together\n",
    "        self.layer1 = nn.Sequential(\n",
    "            #in_channel = 32, #out_channel = 64\n",
    "            nn.Conv2d(input_dim, input_dim*2, kernel_size=3, stride=1, padding=1),\n",
    "            nn.BatchNorm2d(input_dim*2),\n",
    "            nn.ReLU())\n",
    "        \n",
    "        self.layer2 = nn.Sequential(\n",
    "            nn.Conv2d(input_dim*2, input_dim*4, kernel_size=3, stride=1, padding=1),\n",
    "            nn.BatchNorm2d(input_dim*4),\n",
    "            nn.ReLU(),\n",
    "            nn.MaxPool2d(kernel_size=2))\n",
    "        \n",
    "        self.layer3 = nn.Sequential(\n",
    "            nn.Conv2d(input_dim*4, input_dim*8, kernel_size=3, stride=1, padding=1),\n",
    "            nn.BatchNorm2d(input_dim*8),\n",
    "            nn.ReLU())\n",
    "            \n",
    "        self.layer4 = nn.Sequential(\n",
    "            nn.Conv2d(input_dim*8, input_dim*16, kernel_size=3, stride=1, padding=1),\n",
    "            nn.BatchNorm2d(input_dim*16),\n",
    "            nn.ReLU(),\n",
    "            nn.MaxPool2d(kernel_size=2))\n",
    "        \n",
    "        self.fc = nn.Linear(final_shape[1]*final_shape[2]*final_shape[3], output_dim)\n",
    "\n",
    "        self.drop_out = nn.Dropout(p=0.2)  #zeroed 0.2% data\n",
    "        #after fc will be of shape [batch, 1]\n",
    "        \n",
    "    def forward(self, x):\n",
    "        #x shape: [batch, in_channel, img_width, img_height]\n",
    "        out = self.layer1(x)\n",
    "        out = self.drop_out(out)\n",
    "        out = self.layer2(out)\n",
    "        out = self.drop_out(out)\n",
    "        out = self.layer3(out)\n",
    "        out = self.drop_out(out)\n",
    "        out = self.layer4(out)\n",
    "        out = self.drop_out(out)\n",
    "        \n",
    "        out = out.reshape(out.size(0), -1)   #can also use .view()\n",
    "        #we squeeze so that it can be inputted into the fc layer\n",
    "        \n",
    "        out = self.fc(out)\n",
    "        #after fc layer: shape: [batch, 1]\n",
    "        return out"
   ]
  },
  {
   "cell_type": "markdown",
   "metadata": {},
   "source": [
    "**Model init**: Let's init the class instance and create a workabout model."
   ]
  },
  {
   "cell_type": "code",
   "execution_count": 13,
   "metadata": {},
   "outputs": [
    {
     "data": {
      "text/plain": [
       "ConvNet(\n",
       "  (layer1): Sequential(\n",
       "    (0): Conv2d(32, 64, kernel_size=(3, 3), stride=(1, 1), padding=(1, 1))\n",
       "    (1): BatchNorm2d(64, eps=1e-05, momentum=0.1, affine=True, track_running_stats=True)\n",
       "    (2): ReLU()\n",
       "  )\n",
       "  (layer2): Sequential(\n",
       "    (0): Conv2d(64, 128, kernel_size=(3, 3), stride=(1, 1), padding=(1, 1))\n",
       "    (1): BatchNorm2d(128, eps=1e-05, momentum=0.1, affine=True, track_running_stats=True)\n",
       "    (2): ReLU()\n",
       "    (3): MaxPool2d(kernel_size=2, stride=2, padding=0, dilation=1, ceil_mode=False)\n",
       "  )\n",
       "  (layer3): Sequential(\n",
       "    (0): Conv2d(128, 256, kernel_size=(3, 3), stride=(1, 1), padding=(1, 1))\n",
       "    (1): BatchNorm2d(256, eps=1e-05, momentum=0.1, affine=True, track_running_stats=True)\n",
       "    (2): ReLU()\n",
       "  )\n",
       "  (layer4): Sequential(\n",
       "    (0): Conv2d(256, 512, kernel_size=(3, 3), stride=(1, 1), padding=(1, 1))\n",
       "    (1): BatchNorm2d(512, eps=1e-05, momentum=0.1, affine=True, track_running_stats=True)\n",
       "    (2): ReLU()\n",
       "    (3): MaxPool2d(kernel_size=2, stride=2, padding=0, dilation=1, ceil_mode=False)\n",
       "  )\n",
       "  (fc): Linear(in_features=40960, out_features=1, bias=True)\n",
       "  (drop_out): Dropout(p=0.2, inplace=False)\n",
       ")"
      ]
     },
     "execution_count": 13,
     "metadata": {},
     "output_type": "execute_result"
    }
   ],
   "source": [
    "input_dim     = 32 #we got 32 EEG channels\n",
    "output_dim    = 1  #we got 2 classes for our labels\n",
    "\n",
    "#define the model\n",
    "model = ConvNet(input_dim, output_dim)\n",
    "\n",
    "#send to cuda so we can use the GPU\n",
    "model = model.to(device)  \n",
    "\n",
    "#apply weights\n",
    "model.apply(initialize_weights)"
   ]
  },
  {
   "cell_type": "markdown",
   "metadata": {},
   "source": [
    "**Param count**: Let's also check the number of parameters used"
   ]
  },
  {
   "cell_type": "code",
   "execution_count": 14,
   "metadata": {},
   "outputs": [
    {
     "name": "stdout",
     "output_type": "stream",
     "text": [
      "The model ConvNet has 1,610,561 trainable parameters\n"
     ]
    }
   ],
   "source": [
    "print(f'The model {type(model).__name__} has {count_parameters(model):,} trainable parameters')# Train the model"
   ]
  },
  {
   "cell_type": "markdown",
   "metadata": {},
   "source": [
    "**Unit test**: Let's define a simple unit test, inputing some mock EEG data and see whether we got the desired output as 4 classes."
   ]
  },
  {
   "cell_type": "code",
   "execution_count": 15,
   "metadata": {},
   "outputs": [
    {
     "name": "stdout",
     "output_type": "stream",
     "text": [
      "Prediction shape:  torch.Size([2, 1])\n",
      "Predictions:  tensor([[-0.5197],\n",
      "        [ 2.1632]], device='cuda:0', grad_fn=<AddmmBackward>)\n"
     ]
    }
   ],
   "source": [
    "mock_batch_size = 2   \n",
    "mock_input_dim  = 32   \n",
    "mock_height     = data.shape[2]  #need to use real shape to make sure CNN layers work\n",
    "mock_width      = data.shape[3]\n",
    "\n",
    "#note that our model first layer is conv1d which expects (batch, channel, height, width)\n",
    "mock_eegdata = torch.rand(mock_batch_size, mock_input_dim, mock_height, mock_width).to(device)\n",
    "\n",
    "#let's try run the model by simply inserting the mockdata into the model; very similar to .fit\n",
    "predictions = model(mock_eegdata)\n",
    "\n",
    "#let's try to see the predictions whether it really outputs 2 unique classes - 0 and 1\n",
    "print(\"Prediction shape: \", predictions.shape)\n",
    "print(\"Predictions: \", predictions)\n",
    "\n",
    "#simple unit test\n",
    "assert predictions.shape[0] == mock_batch_size\n",
    "assert predictions.shape[1] == output_dim"
   ]
  },
  {
   "cell_type": "markdown",
   "metadata": {},
   "source": [
    "## 4. Training"
   ]
  },
  {
   "cell_type": "markdown",
   "metadata": {
    "tags": []
   },
   "source": [
    "### I. Batch Iterators\n",
    "\n",
    "To make it easier to manage, I have put this into our <code>components/helper.py</code>."
   ]
  },
  {
   "cell_type": "code",
   "execution_count": 16,
   "metadata": {},
   "outputs": [
    {
     "name": "stdout",
     "output_type": "stream",
     "text": [
      "Full Dataset size:  7680\n",
      "Train Dataset size: 5376\n",
      "Valid Dataset size: 1536\n",
      "Test Dataset size:  768\n",
      "\n"
     ]
    }
   ],
   "source": [
    "train_loader, val_loader, test_loader = getLoaders(dataset=dataset, batch_size=16)"
   ]
  },
  {
   "cell_type": "markdown",
   "metadata": {},
   "source": [
    "### II. Optimizers\n",
    "\n",
    "Optimizer simply refers to the one that gonna take care of the backpropagation process.  The commonly used optimizer is SGD and Adam, both are quite interchangeable.  Here we gonna use Adam.  In order to backpropagate, we gonna define a loss function using cross entropy loss, which is a common loss function for multi-class purposes."
   ]
  },
  {
   "cell_type": "code",
   "execution_count": 17,
   "metadata": {},
   "outputs": [],
   "source": [
    "import torch.optim as optim\n",
    "\n",
    "num_epochs = 50\n",
    "\n",
    "lr = 0.0001\n",
    "\n",
    "#can also try SGD which should not make too much of a difference\n",
    "optimizer = optim.Adam(model.parameters(), lr=lr) \n",
    "\n",
    "#combine sigmoid with binary entropy; binary entropy is used for binary classification\n",
    "criterion = nn.BCEWithLogitsLoss() "
   ]
  },
  {
   "cell_type": "markdown",
   "metadata": {
    "tags": []
   },
   "source": [
    "### III. Let's train!"
   ]
  },
  {
   "cell_type": "code",
   "execution_count": 18,
   "metadata": {},
   "outputs": [
    {
     "name": "stdout",
     "output_type": "stream",
     "text": [
      "Epoch: 01 | Epoch Time: 0m 4s\n",
      "\t Train Loss: 0.899 | Train Acc: 55.62%\n",
      "\t Val. Loss: 0.670  |  Val. Acc: 60.03%\n",
      "Epoch: 02 | Epoch Time: 0m 3s\n",
      "\t Train Loss: 0.834 | Train Acc: 58.28%\n",
      "\t Val. Loss: 0.661  |  Val. Acc: 61.52%\n",
      "Epoch: 03 | Epoch Time: 0m 3s\n",
      "\t Train Loss: 0.728 | Train Acc: 62.56%\n",
      "\t Val. Loss: 0.596  |  Val. Acc: 67.84%\n",
      "Epoch: 04 | Epoch Time: 0m 3s\n",
      "\t Train Loss: 0.713 | Train Acc: 64.60%\n",
      "\t Val. Loss: 0.577  |  Val. Acc: 69.60%\n",
      "Epoch: 05 | Epoch Time: 0m 3s\n",
      "\t Train Loss: 0.716 | Train Acc: 65.22%\n",
      "\t Val. Loss: 0.820  |  Val. Acc: 56.38%\n",
      "Epoch: 06 | Epoch Time: 0m 3s\n",
      "\t Train Loss: 0.622 | Train Acc: 69.70%\n",
      "\t Val. Loss: 0.529  |  Val. Acc: 72.92%\n",
      "Epoch: 07 | Epoch Time: 0m 3s\n",
      "\t Train Loss: 0.621 | Train Acc: 69.49%\n",
      "\t Val. Loss: 0.538  |  Val. Acc: 72.59%\n",
      "Epoch: 08 | Epoch Time: 0m 3s\n",
      "\t Train Loss: 0.569 | Train Acc: 72.06%\n",
      "\t Val. Loss: 0.706  |  Val. Acc: 64.39%\n",
      "Epoch: 09 | Epoch Time: 0m 3s\n",
      "\t Train Loss: 0.536 | Train Acc: 74.11%\n",
      "\t Val. Loss: 0.479  |  Val. Acc: 76.56%\n",
      "Epoch: 10 | Epoch Time: 0m 3s\n",
      "\t Train Loss: 0.500 | Train Acc: 76.64%\n",
      "\t Val. Loss: 0.443  |  Val. Acc: 78.58%\n",
      "Epoch: 11 | Epoch Time: 0m 3s\n",
      "\t Train Loss: 0.474 | Train Acc: 77.94%\n",
      "\t Val. Loss: 0.434  |  Val. Acc: 78.26%\n",
      "Epoch: 12 | Epoch Time: 0m 3s\n",
      "\t Train Loss: 0.441 | Train Acc: 78.74%\n",
      "\t Val. Loss: 0.413  |  Val. Acc: 79.30%\n",
      "Epoch: 13 | Epoch Time: 0m 3s\n",
      "\t Train Loss: 0.394 | Train Acc: 82.51%\n",
      "\t Val. Loss: 0.376  |  Val. Acc: 82.29%\n",
      "Epoch: 14 | Epoch Time: 0m 3s\n",
      "\t Train Loss: 0.391 | Train Acc: 82.42%\n",
      "\t Val. Loss: 0.340  |  Val. Acc: 84.38%\n",
      "Epoch: 15 | Epoch Time: 0m 3s\n",
      "\t Train Loss: 0.332 | Train Acc: 85.90%\n",
      "\t Val. Loss: 0.324  |  Val. Acc: 86.26%\n",
      "Epoch: 16 | Epoch Time: 0m 3s\n",
      "\t Train Loss: 0.318 | Train Acc: 86.68%\n",
      "\t Val. Loss: 0.315  |  Val. Acc: 86.98%\n",
      "Epoch: 17 | Epoch Time: 0m 4s\n",
      "\t Train Loss: 0.297 | Train Acc: 87.11%\n",
      "\t Val. Loss: 0.309  |  Val. Acc: 86.72%\n",
      "Epoch: 18 | Epoch Time: 0m 3s\n",
      "\t Train Loss: 0.253 | Train Acc: 89.68%\n",
      "\t Val. Loss: 0.287  |  Val. Acc: 87.24%\n",
      "Epoch: 19 | Epoch Time: 0m 3s\n",
      "\t Train Loss: 0.246 | Train Acc: 89.66%\n",
      "\t Val. Loss: 0.266  |  Val. Acc: 89.00%\n",
      "Epoch: 20 | Epoch Time: 0m 4s\n",
      "\t Train Loss: 0.218 | Train Acc: 90.98%\n",
      "\t Val. Loss: 0.706  |  Val. Acc: 70.51%\n",
      "Epoch: 21 | Epoch Time: 0m 4s\n",
      "\t Train Loss: 0.232 | Train Acc: 90.81%\n",
      "\t Val. Loss: 0.255  |  Val. Acc: 89.19%\n",
      "Epoch: 22 | Epoch Time: 0m 4s\n",
      "\t Train Loss: 0.189 | Train Acc: 92.19%\n",
      "\t Val. Loss: 0.246  |  Val. Acc: 89.45%\n",
      "Epoch: 23 | Epoch Time: 0m 4s\n",
      "\t Train Loss: 0.174 | Train Acc: 92.84%\n",
      "\t Val. Loss: 0.249  |  Val. Acc: 90.10%\n",
      "Epoch: 24 | Epoch Time: 0m 4s\n",
      "\t Train Loss: 0.177 | Train Acc: 92.76%\n",
      "\t Val. Loss: 0.233  |  Val. Acc: 91.02%\n",
      "Epoch: 25 | Epoch Time: 0m 3s\n",
      "\t Train Loss: 0.162 | Train Acc: 93.47%\n",
      "\t Val. Loss: 0.202  |  Val. Acc: 92.64%\n",
      "Epoch: 26 | Epoch Time: 0m 3s\n",
      "\t Train Loss: 0.133 | Train Acc: 94.74%\n",
      "\t Val. Loss: 0.201  |  Val. Acc: 91.99%\n",
      "Epoch: 27 | Epoch Time: 0m 4s\n",
      "\t Train Loss: 0.127 | Train Acc: 95.29%\n",
      "\t Val. Loss: 0.178  |  Val. Acc: 93.23%\n",
      "Epoch: 28 | Epoch Time: 0m 3s\n",
      "\t Train Loss: 0.135 | Train Acc: 94.48%\n",
      "\t Val. Loss: 0.194  |  Val. Acc: 91.86%\n",
      "Epoch: 29 | Epoch Time: 0m 3s\n",
      "\t Train Loss: 0.121 | Train Acc: 95.33%\n",
      "\t Val. Loss: 0.166  |  Val. Acc: 93.62%\n",
      "Epoch: 30 | Epoch Time: 0m 3s\n",
      "\t Train Loss: 0.097 | Train Acc: 96.50%\n",
      "\t Val. Loss: 0.164  |  Val. Acc: 92.90%\n",
      "Epoch: 31 | Epoch Time: 0m 3s\n",
      "\t Train Loss: 0.105 | Train Acc: 95.98%\n",
      "\t Val. Loss: 0.202  |  Val. Acc: 91.67%\n",
      "Epoch: 32 | Epoch Time: 0m 3s\n",
      "\t Train Loss: 0.123 | Train Acc: 95.39%\n",
      "\t Val. Loss: 0.157  |  Val. Acc: 93.82%\n",
      "Epoch: 33 | Epoch Time: 0m 3s\n",
      "\t Train Loss: 0.091 | Train Acc: 96.67%\n",
      "\t Val. Loss: 0.162  |  Val. Acc: 94.40%\n",
      "Epoch: 34 | Epoch Time: 0m 3s\n",
      "\t Train Loss: 0.087 | Train Acc: 96.93%\n",
      "\t Val. Loss: 0.169  |  Val. Acc: 93.62%\n",
      "Epoch: 35 | Epoch Time: 0m 4s\n",
      "\t Train Loss: 0.077 | Train Acc: 96.91%\n",
      "\t Val. Loss: 0.131  |  Val. Acc: 95.18%\n",
      "Epoch: 36 | Epoch Time: 0m 3s\n",
      "\t Train Loss: 0.071 | Train Acc: 97.49%\n",
      "\t Val. Loss: 0.239  |  Val. Acc: 89.84%\n",
      "Epoch: 37 | Epoch Time: 0m 4s\n",
      "\t Train Loss: 0.069 | Train Acc: 97.28%\n",
      "\t Val. Loss: 0.141  |  Val. Acc: 94.73%\n",
      "Epoch: 38 | Epoch Time: 0m 4s\n",
      "\t Train Loss: 0.064 | Train Acc: 97.86%\n",
      "\t Val. Loss: 0.127  |  Val. Acc: 94.92%\n",
      "Epoch: 39 | Epoch Time: 0m 3s\n",
      "\t Train Loss: 0.078 | Train Acc: 96.84%\n",
      "\t Val. Loss: 0.145  |  Val. Acc: 94.40%\n",
      "Epoch: 40 | Epoch Time: 0m 3s\n",
      "\t Train Loss: 0.059 | Train Acc: 97.81%\n",
      "\t Val. Loss: 0.145  |  Val. Acc: 94.60%\n",
      "Epoch: 41 | Epoch Time: 0m 3s\n",
      "\t Train Loss: 0.055 | Train Acc: 97.88%\n",
      "\t Val. Loss: 0.180  |  Val. Acc: 92.84%\n",
      "Epoch: 42 | Epoch Time: 0m 4s\n",
      "\t Train Loss: 0.057 | Train Acc: 97.77%\n",
      "\t Val. Loss: 0.121  |  Val. Acc: 96.09%\n",
      "Epoch: 43 | Epoch Time: 0m 4s\n",
      "\t Train Loss: 0.056 | Train Acc: 97.92%\n",
      "\t Val. Loss: 0.165  |  Val. Acc: 93.16%\n",
      "Epoch: 44 | Epoch Time: 0m 4s\n",
      "\t Train Loss: 0.058 | Train Acc: 97.88%\n",
      "\t Val. Loss: 0.134  |  Val. Acc: 94.73%\n",
      "Epoch: 45 | Epoch Time: 0m 3s\n",
      "\t Train Loss: 0.059 | Train Acc: 97.71%\n",
      "\t Val. Loss: 0.139  |  Val. Acc: 94.86%\n",
      "Epoch: 46 | Epoch Time: 0m 4s\n",
      "\t Train Loss: 0.047 | Train Acc: 98.29%\n",
      "\t Val. Loss: 0.138  |  Val. Acc: 94.99%\n",
      "Epoch: 47 | Epoch Time: 0m 3s\n",
      "\t Train Loss: 0.041 | Train Acc: 98.47%\n",
      "\t Val. Loss: 0.139  |  Val. Acc: 94.73%\n",
      "Epoch: 48 | Epoch Time: 0m 4s\n",
      "\t Train Loss: 0.042 | Train Acc: 98.62%\n",
      "\t Val. Loss: 0.184  |  Val. Acc: 93.03%\n",
      "Epoch: 49 | Epoch Time: 0m 3s\n",
      "\t Train Loss: 0.039 | Train Acc: 98.57%\n",
      "\t Val. Loss: 0.133  |  Val. Acc: 94.47%\n",
      "Epoch: 50 | Epoch Time: 0m 4s\n",
      "\t Train Loss: 0.041 | Train Acc: 98.49%\n",
      "\t Val. Loss: 0.124  |  Val. Acc: 95.18%\n"
     ]
    }
   ],
   "source": [
    "model_saved_name = \"models/DEAP_Specgram_CNN2D_4layers.pt\"\n",
    "\n",
    "#trainer(num_epochs, model, train_loader, val_loader, optimizer, criterion, model_name, device, seq_len_first=False)\n",
    "train_losses, valid_losses, train_accs, valid_accs = train(num_epochs, model, train_loader, val_loader, optimizer, criterion, model_saved_name, device)"
   ]
  },
  {
   "cell_type": "markdown",
   "metadata": {},
   "source": [
    "Let's plot the losses and acc for easier inspection"
   ]
  },
  {
   "cell_type": "code",
   "execution_count": 19,
   "metadata": {},
   "outputs": [
    {
     "data": {
      "image/png": "[encoded data removed]",
      "text/plain": [
       "<Figure size 720x432 with 1 Axes>"
      ]
     },
     "metadata": {
      "needs_background": "light"
     },
     "output_type": "display_data"
    },
    {
     "data": {
      "image/png": "[encoded data removed]",
      "text/plain": [
       "<Figure size 720x432 with 1 Axes>"
      ]
     },
     "metadata": {
      "needs_background": "light"
     },
     "output_type": "display_data"
    }
   ],
   "source": [
    "plot_performance(train_losses, valid_losses, \"loss\")\n",
    "plot_performance(train_accs, valid_accs, \"acc\")"
   ]
  },
  {
   "cell_type": "markdown",
   "metadata": {},
   "source": [
    "## 5. Evaluation on test set"
   ]
  },
  {
   "cell_type": "code",
   "execution_count": 20,
   "metadata": {},
   "outputs": [
    {
     "name": "stdout",
     "output_type": "stream",
     "text": [
      "Test Loss: 0.094 | Test Acc: 96.61%\n"
     ]
    }
   ],
   "source": [
    "model.load_state_dict(torch.load(model_saved_name))\n",
    "test_loss, test_acc = evaluate(model, test_loader, criterion, device)\n",
    "\n",
    "print(f'Test Loss: {test_loss:.3f} | Test Acc: {test_acc*100:.2f}%')"
   ]
  },
  {
   "cell_type": "markdown",
   "metadata": {},
   "source": [
    "## Final Verdict\n",
    "\n"
   ]
  },
  {
   "cell_type": "markdown",
   "metadata": {},
   "source": [
    "Wow, this accuracy is really impressive...a whooping 96%.  It is clear that spectrogram offers both fast and very accurate results."
   ]
  }
 ],
 "metadata": {
  "kernelspec": {
   "display_name": "Python 3",
   "language": "python",
   "name": "python3"
  },
  "language_info": {
   "codemirror_mode": {
    "name": "ipython",
    "version": 3
   },
   "file_extension": ".py",
   "mimetype": "text/x-python",
   "name": "python",
   "nbconvert_exporter": "python",
   "pygments_lexer": "ipython3",
   "version": "3.8.10"
  }
 },
 "nbformat": 4,
 "nbformat_minor": 5
}
