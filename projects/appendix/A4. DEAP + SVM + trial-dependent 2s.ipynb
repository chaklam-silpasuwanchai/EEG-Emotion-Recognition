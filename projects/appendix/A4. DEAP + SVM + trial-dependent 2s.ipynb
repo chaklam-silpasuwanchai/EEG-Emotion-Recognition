{
 "cells": [
  {
   "cell_type": "code",
   "execution_count": 1,
   "metadata": {},
   "outputs": [
    {
     "name": "stdout",
     "output_type": "stream",
     "text": [
      "Found: 32 files\n",
      "s01 (1200, 2) [47.5 60. ]\n"
     ]
    }
   ],
   "source": [
    "import time\n",
    "import numpy as np\n",
    "from tqdm.notebook import tqdm\n",
    "\n",
    "from components.dataset_jo import *\n",
    "\n",
    "dataset = Dataset_subjectDependent('data')\n",
    "segment_lenght = 2 #second\n",
    "dataset.set_segment(7680//(128*segment_lenght))\n",
    "for filename in dataset.get_file_list():\n",
    "    data, labels, _ = dataset.get_data(filename, return_type='numpy')\n",
    "    print(filename, labels.shape, labels.sum(axis=0)/labels.shape[0]*100)\n",
    "    break"
   ]
  },
  {
   "cell_type": "code",
   "execution_count": 2,
   "metadata": {},
   "outputs": [],
   "source": [
    "def train_model(X_ori,y_ori,groups_ori,filename=None, kernel='rbf',return_text=False):\n",
    "    # Make a copy because I am paranoid\n",
    "    X,y,groups = X_ori.copy(), y_ori.copy(), groups_ori.copy()\n",
    "\n",
    "    from sklearn.svm import SVC\n",
    "    from sklearn.model_selection import StratifiedShuffleSplit \n",
    "    from sklearn.model_selection import cross_val_score\n",
    "\n",
    "    model = SVC(kernel=kernel,max_iter=50000)\n",
    "    cv = StratifiedShuffleSplit(n_splits=10, train_size=0.75, random_state=0)\n",
    "    cross = cross_val_score(model, X, y, cv=cv, n_jobs=8)\n",
    "    \n",
    "    # We probably dont need this\n",
    "    model = SVC(kernel=kernel, max_iter=50000)\n",
    "    model.fit(X, y)\n",
    "    ans = model.predict(X)\n",
    "    acc = sum(ans == y) / len(y)\n",
    "    # If the model answer with all 0 or 1, we print this message\n",
    "    text = None\n",
    "    if( sum(ans) == len(y) or sum(ans) == 0 ): \n",
    "        text = f\"-----WARNING: Model {filename} failed to learn: sum(ans)={sum(ans)} sum(y)={sum(y)} len(y)={len(y)}\"\n",
    "    if(return_text):\n",
    "        return model, acc, cross, text\n",
    "    else:\n",
    "        if(text != None): print(text)\n",
    "        return model, acc, cross"
   ]
  },
  {
   "cell_type": "markdown",
   "metadata": {},
   "source": [
    "## 2. Spectral Features"
   ]
  },
  {
   "cell_type": "code",
   "execution_count": 3,
   "metadata": {},
   "outputs": [],
   "source": [
    "from mne_features.feature_extraction import FeatureExtractor"
   ]
  },
  {
   "cell_type": "code",
   "execution_count": 4,
   "metadata": {},
   "outputs": [
    {
     "name": "stdout",
     "output_type": "stream",
     "text": [
      "\tAROUSAL-s01|Acc=0.74|10-CV=0.65667|STD=0.01498|Time spend=38.35933017730713\n",
      "\tAROUSAL-s02|Acc=0.64417|10-CV=0.61933|STD=0.01436|Time spend=1.0456657409667969\n",
      "-----WARNING: Model s03 failed to learn: sum(ans)=0.0 sum(y)=240.0 len(y)=1200\n",
      "\tAROUSAL-s03|Acc=0.8|10-CV=0.8|STD=0.0|Time spend=0.8959627151489258\n",
      "\tAROUSAL-s04|Acc=0.66667|10-CV=0.64333|STD=0.01978|Time spend=1.0091092586517334\n",
      "\tAROUSAL-s05|Acc=0.62|10-CV=0.53733|STD=0.01914|Time spend=1.0517404079437256\n",
      "\tAROUSAL-s06|Acc=0.64|10-CV=0.61367|STD=0.019|Time spend=1.0228016376495361\n",
      "\tAROUSAL-s07|Acc=0.69|10-CV=0.658|STD=0.01293|Time spend=1.0349414348602295\n",
      "\tAROUSAL-s08|Acc=0.70833|10-CV=0.62767|STD=0.02082|Time spend=1.0137245655059814\n",
      "\tAROUSAL-s09|Acc=0.6625|10-CV=0.63133|STD=0.01586|Time spend=1.0317373275756836\n",
      "\tAROUSAL-s10|Acc=0.73917|10-CV=0.701|STD=0.02362|Time spend=1.0155582427978516\n",
      "\tAROUSAL-s11|Acc=0.62833|10-CV=0.625|STD=0.00167|Time spend=0.9884819984436035\n",
      "-----WARNING: Model s12 failed to learn: sum(ans)=1200.0 sum(y)=990.0 len(y)=1200\n",
      "\tAROUSAL-s12|Acc=0.825|10-CV=0.82533|STD=0.00163|Time spend=0.9219224452972412\n",
      "-----WARNING: Model s13 failed to learn: sum(ans)=1200.0 sum(y)=1020.0 len(y)=1200\n",
      "\tAROUSAL-s13|Acc=0.85|10-CV=0.85|STD=0.0|Time spend=0.8382899761199951\n",
      "-----WARNING: Model s14 failed to learn: sum(ans)=1200.0 sum(y)=810.0 len(y)=1200\n",
      "\tAROUSAL-s14|Acc=0.675|10-CV=0.67433|STD=0.00153|Time spend=1.0081567764282227\n",
      "\tAROUSAL-s15|Acc=0.72083|10-CV=0.68|STD=0.01563|Time spend=0.9911668300628662\n",
      "\tAROUSAL-s16|Acc=0.76583|10-CV=0.71833|STD=0.02007|Time spend=1.0890617370605469\n",
      "\tAROUSAL-s17|Acc=0.72833|10-CV=0.71267|STD=0.00975|Time spend=1.0429620742797852\n",
      "\tAROUSAL-s18|Acc=0.6775|10-CV=0.64533|STD=0.00499|Time spend=1.0731182098388672\n",
      "\tAROUSAL-s19|Acc=0.68083|10-CV=0.677|STD=0.00277|Time spend=1.0005836486816406\n",
      "-----WARNING: Model s20 failed to learn: sum(ans)=1200.0 sum(y)=930.0 len(y)=1200\n",
      "\tAROUSAL-s20|Acc=0.775|10-CV=0.775|STD=0.00167|Time spend=0.9823200702667236\n",
      "-----WARNING: Model s21 failed to learn: sum(ans)=1200.0 sum(y)=960.0 len(y)=1200\n",
      "\tAROUSAL-s21|Acc=0.8|10-CV=0.8|STD=0.0|Time spend=1.0502839088439941\n",
      "\tAROUSAL-s22|Acc=0.62083|10-CV=0.602|STD=0.016|Time spend=1.0680954456329346\n",
      "-----WARNING: Model s23 failed to learn: sum(ans)=0.0 sum(y)=300.0 len(y)=1200\n",
      "\tAROUSAL-s23|Acc=0.75|10-CV=0.75|STD=0.0|Time spend=0.9349334239959717\n",
      "-----WARNING: Model s24 failed to learn: sum(ans)=1200.0 sum(y)=990.0 len(y)=1200\n",
      "\tAROUSAL-s24|Acc=0.825|10-CV=0.82533|STD=0.00163|Time spend=0.9272034168243408\n",
      "-----WARNING: Model s25 failed to learn: sum(ans)=1200.0 sum(y)=870.0 len(y)=1200\n",
      "\tAROUSAL-s25|Acc=0.725|10-CV=0.72667|STD=0.0|Time spend=1.089808464050293\n",
      "\tAROUSAL-s26|Acc=0.6275|10-CV=0.58633|STD=0.01696|Time spend=1.0802991390228271\n",
      "\tAROUSAL-s27|Acc=0.70417|10-CV=0.68|STD=0.00667|Time spend=1.0527088642120361\n",
      "\tAROUSAL-s28|Acc=0.62667|10-CV=0.57533|STD=0.01551|Time spend=1.2180440425872803\n",
      "\tAROUSAL-s29|Acc=0.67583|10-CV=0.64733|STD=0.01062|Time spend=1.0329151153564453\n",
      "\tAROUSAL-s30|Acc=0.63917|10-CV=0.57433|STD=0.0249|Time spend=1.0852346420288086\n",
      "\tAROUSAL-s31|Acc=0.71583|10-CV=0.65567|STD=0.02463|Time spend=1.0509827136993408\n",
      "-----WARNING: Model s32 failed to learn: sum(ans)=1200.0 sum(y)=810.0 len(y)=1200\n",
      "\tAROUSAL-s32|Acc=0.675|10-CV=0.674|STD=0.00133|Time spend=1.0128941535949707\n",
      "AROUSAL|Acc=0.7069531250000001|10-CV=0.6802604166666665|STD=0.010576561634902226\n",
      "\tVALENCE-s01|Acc=0.69583|10-CV=0.59733|STD=0.02043|Time spend=0.8788061141967773\n",
      "\tVALENCE-s02|Acc=0.70417|10-CV=0.68|STD=0.02261|Time spend=0.9281506538391113\n",
      "\tVALENCE-s03|Acc=0.71917|10-CV=0.63767|STD=0.02561|Time spend=0.8815169334411621\n",
      "\tVALENCE-s04|Acc=0.68833|10-CV=0.65233|STD=0.01557|Time spend=0.8311841487884521\n",
      "\tVALENCE-s05|Acc=0.65167|10-CV=0.611|STD=0.01317|Time spend=0.9148514270782471\n",
      "\tVALENCE-s06|Acc=0.75083|10-CV=0.75|STD=0.0|Time spend=0.825343132019043\n",
      "\tVALENCE-s07|Acc=0.70917|10-CV=0.70167|STD=0.00342|Time spend=0.8392832279205322\n",
      "\tVALENCE-s08|Acc=0.70167|10-CV=0.623|STD=0.01963|Time spend=0.8540225028991699\n",
      "\tVALENCE-s09|Acc=0.76417|10-CV=0.71567|STD=0.02176|Time spend=0.852454423904419\n",
      "\tVALENCE-s10|Acc=0.79333|10-CV=0.77933|STD=0.01679|Time spend=0.7709386348724365\n",
      "\tVALENCE-s11|Acc=0.6375|10-CV=0.61467|STD=0.01024|Time spend=0.8400721549987793\n",
      "\tVALENCE-s12|Acc=0.69333|10-CV=0.62533|STD=0.01727|Time spend=0.902834415435791\n",
      "\tVALENCE-s13|Acc=0.78|10-CV=0.76233|STD=0.01564|Time spend=0.7850131988525391\n",
      "\tVALENCE-s14|Acc=0.76167|10-CV=0.72867|STD=0.02833|Time spend=0.802325963973999\n",
      "\tVALENCE-s15|Acc=0.82833|10-CV=0.79267|STD=0.01459|Time spend=0.81498122215271\n",
      "\tVALENCE-s16|Acc=0.7525|10-CV=0.73233|STD=0.02114|Time spend=0.7594707012176514\n",
      "\tVALENCE-s17|Acc=0.64417|10-CV=0.616|STD=0.01632|Time spend=0.8944993019104004\n",
      "\tVALENCE-s18|Acc=0.80833|10-CV=0.766|STD=0.02768|Time spend=0.7969756126403809\n",
      "\tVALENCE-s19|Acc=0.69667|10-CV=0.65667|STD=0.02129|Time spend=0.8668467998504639\n",
      "\tVALENCE-s20|Acc=0.76583|10-CV=0.714|STD=0.03158|Time spend=0.8156652450561523\n",
      "\tVALENCE-s21|Acc=0.645|10-CV=0.57733|STD=0.02439|Time spend=0.8885416984558105\n",
      "\tVALENCE-s22|Acc=0.70833|10-CV=0.69533|STD=0.02786|Time spend=0.8128855228424072\n",
      "\tVALENCE-s23|Acc=0.7125|10-CV=0.66267|STD=0.0049|Time spend=0.8165225982666016\n",
      "\tVALENCE-s24|Acc=0.625|10-CV=0.58433|STD=0.02191|Time spend=0.8646376132965088\n",
      "\tVALENCE-s25|Acc=0.66333|10-CV=0.59333|STD=0.02477|Time spend=0.9020164012908936\n",
      "-----WARNING: Model s26 failed to learn: sum(ans)=1200.0 sum(y)=780.0 len(y)=1200\n",
      "\tVALENCE-s26|Acc=0.65|10-CV=0.65|STD=0.0|Time spend=0.866844654083252\n",
      "\tVALENCE-s27|Acc=0.755|10-CV=0.75133|STD=0.00163|Time spend=0.7874605655670166\n",
      "\tVALENCE-s28|Acc=0.67833|10-CV=0.63733|STD=0.00917|Time spend=0.8447425365447998\n",
      "\tVALENCE-s29|Acc=0.70917|10-CV=0.638|STD=0.01928|Time spend=0.896498441696167\n",
      "-----WARNING: Model s30 failed to learn: sum(ans)=1200.0 sum(y)=810.0 len(y)=1200\n",
      "\tVALENCE-s30|Acc=0.675|10-CV=0.67433|STD=0.00153|Time spend=0.809701681137085\n",
      "\tVALENCE-s31|Acc=0.64417|10-CV=0.59267|STD=0.01041|Time spend=0.8540329933166504\n",
      "\tVALENCE-s32|Acc=0.6575|10-CV=0.614|STD=0.01698|Time spend=0.853752613067627\n",
      "VALENCE|Acc=0.7084374999999999|10-CV=0.6696041666666668|STD=0.016433643037374424\n",
      "TOTAL|Acc=0.7076953124999998|10-CV=0.6749322916666667|STD=0.013505102336138325\n"
     ]
    }
   ],
   "source": [
    "bands = [(0,4), (4,8), (8,12), (12,30), (30,64)]\n",
    "# [alias_feature_function]__[optional_param]\n",
    "params = dict({\n",
    "    'pow_freq_bands__log':True,\n",
    "    'pow_freq_bands__normalize':False,\n",
    "    'pow_freq_bands__freq_bands':bands\n",
    "})\n",
    "\n",
    "\n",
    "accs,cv_means,cv_stds  = [],[],[]\n",
    "# count = 0\n",
    "for filename in dataset.get_file_list():\n",
    "    start = time.time()\n",
    "    data, labels, groups = dataset.get_data(filename, stimuli=Dataset_subjectDependent.STIMULI_AROUSAL, return_type='numpy')\n",
    "    fe = FeatureExtractor(sfreq=128, selected_funcs=['pow_freq_bands'],params=params,n_jobs=8)\n",
    "    X = fe.fit_transform(X=data)\n",
    "    _, acc, cross = train_model(X, labels.reshape(-1), groups,filename=filename)\n",
    "    print(f\"\\tAROUSAL-{filename}|Acc={round(acc,5)}|10-CV={round(cross.mean(),5)}|STD={round(cross.std(),5)}|Time spend={time.time() - start}\")\n",
    "    accs.append(acc)\n",
    "    cv_means.append(cross.mean())\n",
    "    cv_stds.append(cross.std())\n",
    "    # count+=1\n",
    "    # if(count == 5): break\n",
    "print(f\"AROUSAL|Acc={sum(accs)/len(accs)}|10-CV={sum(cv_means)/len(cv_means)}|STD={sum(cv_stds)/len(cv_stds)}\")\n",
    "\n",
    "accs_v,cv_means_v,cv_stds_v  = [],[],[]\n",
    "# count=0\n",
    "for filename in dataset.get_file_list():\n",
    "    start = time.time()\n",
    "    data, labels, groups = dataset.get_data(filename, stimuli=Dataset_subjectDependent.STIMULI_VALENCE, return_type='numpy')\n",
    "    fe = FeatureExtractor(sfreq=128, selected_funcs=['pow_freq_bands'],params=params,n_jobs=8)\n",
    "    X = fe.fit_transform(X=data)\n",
    "    _, acc, cross = train_model(X, labels.reshape(-1), groups,filename=filename)\n",
    "    print(f\"\\tVALENCE-{filename}|Acc={round(acc,5)}|10-CV={round(cross.mean(),5)}|STD={round(cross.std(),5)}|Time spend={time.time() - start}\")\n",
    "    accs_v.append(acc)\n",
    "    cv_means_v.append(cross.mean())\n",
    "    cv_stds_v.append(cross.std())\n",
    "    # count+=1\n",
    "    # if(count == 5): break\n",
    "print(f\"VALENCE|Acc={sum(accs_v)/len(accs_v)}|10-CV={sum(cv_means_v)/len(cv_means_v)}|STD={sum(cv_stds_v)/len(cv_stds_v)}\")\n",
    "\n",
    "accs.extend(accs_v)\n",
    "cv_means.extend(cv_means_v)\n",
    "cv_stds.extend(cv_stds_v)\n",
    "print(f\"TOTAL|Acc={sum(accs)/len(accs)}|10-CV={sum(cv_means)/len(cv_means)}|STD={sum(cv_stds)/len(cv_stds)}\")"
   ]
  },
  {
   "cell_type": "markdown",
   "metadata": {},
   "source": [
    "## 3. Asymetry"
   ]
  },
  {
   "cell_type": "code",
   "execution_count": 5,
   "metadata": {},
   "outputs": [
    {
     "name": "stdout",
     "output_type": "stream",
     "text": [
      "left_channel_indexes=[0, 3, 2, 7, 11, 6, 10, 13, 1, 4, 5, 8, 9, 12]\n",
      "right_channel_indexes=[16, 20, 19, 25, 29, 24, 28, 31, 17, 21, 22, 26, 27, 30]\n",
      "frontal_channel_indexes=[4, 5, 22, 21, 3, 2, 18, 19, 20, 0, 16]\n",
      "posterior_channel_indexes=[8, 9, 27, 26, 11, 10, 15, 28, 29, 13, 31]\n"
     ]
    }
   ],
   "source": [
    "channels = ['Fp1','AF3','F3','F7','FC5','FC1','C3','T7','CP5','CP1','P3','P7','PO3','O1','Oz','Pz','Fp2','AF4','Fz','F4','F8','FC6','FC2','Cz','C4','T8','CP6','CP2','P4','P8','PO4','O2']\n",
    "left_channels = ['Fp1','F7','F3','T7','P7','C3','P3','O1','AF3','FC5','FC1','CP5','CP1','PO3']\n",
    "right_channels = ['Fp2','F8','F4','T8','P8','C4','P4','O2','AF4','FC6','FC2','CP6','CP2','PO4']\n",
    "left_channel_indexes = [ channels.index(ch) for ch in left_channels ]\n",
    "right_channel_indexes = [ channels.index(ch) for ch in right_channels ]\n",
    "\n",
    "print(f\"{left_channel_indexes=}\")\n",
    "print(f\"{right_channel_indexes=}\")\n",
    "\n",
    "frontal_channels = ['FC5','FC1','FC2','FC6','F7','F3','Fz','F4','F8','Fp1','Fp2']\n",
    "posterior_channels = ['CP5','CP1','CP2','CP6','P7','P3','Pz','P4','P8','O1','O2']\n",
    "\n",
    "frontal_channel_indexes = [ channels.index(ch) for ch in frontal_channels ]\n",
    "posterior_channel_indexes = [ channels.index(ch) for ch in posterior_channels ]\n",
    "\n",
    "print(f\"{frontal_channel_indexes=}\")\n",
    "print(f\"{posterior_channel_indexes=}\")"
   ]
  },
  {
   "cell_type": "code",
   "execution_count": 6,
   "metadata": {},
   "outputs": [
    {
     "name": "stdout",
     "output_type": "stream",
     "text": [
      "-----WARNING: Model s01 failed to learn: sum(ans)=1200.0 sum(y)=720.0 len(y)=1200\n",
      "\tAROUSAL-s01-DASM|Acc=0.6|10-CV=0.6|STD=0.0|Time spend=0.5847971439361572\n",
      "\tAROUSAL-s01-RASM|Acc=0.6025|10-CV=0.59833|STD=0.00428|Time spend=0.7150177955627441\n",
      "\tAROUSAL-s01-DCAU|Acc=0.6|10-CV=0.59967|STD=0.001|Time spend=0.8406035900115967\n",
      "\tAROUSAL-s02-DASM|Acc=0.6275|10-CV=0.60933|STD=0.00975|Time spend=0.5400333404541016\n",
      "\tAROUSAL-s02-RASM|Acc=0.6025|10-CV=0.59967|STD=0.00314|Time spend=0.6680636405944824\n",
      "\tAROUSAL-s02-DCAU|Acc=0.62167|10-CV=0.60933|STD=0.01381|Time spend=0.8268475532531738\n",
      "-----WARNING: Model s03 failed to learn: sum(ans)=0.0 sum(y)=240.0 len(y)=1200\n",
      "\tAROUSAL-s03-DASM|Acc=0.8|10-CV=0.8|STD=0.0|Time spend=0.507225513458252\n",
      "\tAROUSAL-s03-RASM|Acc=0.8025|10-CV=0.8|STD=0.0|Time spend=0.5985827445983887\n",
      "-----WARNING: Model s03 failed to learn: sum(ans)=0.0 sum(y)=240.0 len(y)=1200\n",
      "\tAROUSAL-s03-DCAU|Acc=0.8|10-CV=0.8|STD=0.0|Time spend=0.716001033782959\n",
      "\tAROUSAL-s04-DASM|Acc=0.64833|10-CV=0.619|STD=0.01732|Time spend=0.5161495208740234\n",
      "\tAROUSAL-s04-RASM|Acc=0.60083|10-CV=0.59833|STD=0.00167|Time spend=0.6367194652557373\n",
      "\tAROUSAL-s04-DCAU|Acc=0.64417|10-CV=0.60767|STD=0.0164|Time spend=0.7644791603088379\n",
      "\tAROUSAL-s05-DASM|Acc=0.59667|10-CV=0.54733|STD=0.01405|Time spend=0.5439109802246094\n",
      "\tAROUSAL-s05-RASM|Acc=0.53333|10-CV=0.52633|STD=0.00314|Time spend=0.6886131763458252\n",
      "\tAROUSAL-s05-DCAU|Acc=0.58667|10-CV=0.54033|STD=0.01509|Time spend=0.8200483322143555\n",
      "\tAROUSAL-s06-DASM|Acc=0.62417|10-CV=0.608|STD=0.01746|Time spend=0.5368378162384033\n",
      "\tAROUSAL-s06-RASM|Acc=0.58|10-CV=0.57433|STD=0.00335|Time spend=0.6659963130950928\n",
      "\tAROUSAL-s06-DCAU|Acc=0.61667|10-CV=0.60633|STD=0.00862|Time spend=0.7936234474182129\n",
      "\tAROUSAL-s07-DASM|Acc=0.62917|10-CV=0.62733|STD=0.00291|Time spend=0.5415451526641846\n",
      "\tAROUSAL-s07-RASM|Acc=0.62667|10-CV=0.62367|STD=0.00504|Time spend=0.6775100231170654\n",
      "-----WARNING: Model s07 failed to learn: sum(ans)=1200.0 sum(y)=750.0 len(y)=1200\n",
      "\tAROUSAL-s07-DCAU|Acc=0.625|10-CV=0.62567|STD=0.00153|Time spend=0.7992022037506104\n",
      "\tAROUSAL-s08-DASM|Acc=0.6275|10-CV=0.583|STD=0.01616|Time spend=0.5234546661376953\n",
      "\tAROUSAL-s08-RASM|Acc=0.58667|10-CV=0.57333|STD=0.00745|Time spend=0.6543633937835693\n",
      "\tAROUSAL-s08-DCAU|Acc=0.65167|10-CV=0.587|STD=0.01871|Time spend=0.7803959846496582\n",
      "\tAROUSAL-s09-DASM|Acc=0.66667|10-CV=0.63967|STD=0.0112|Time spend=0.5424637794494629\n",
      "\tAROUSAL-s09-RASM|Acc=0.62083|10-CV=0.605|STD=0.00847|Time spend=0.6622633934020996\n",
      "\tAROUSAL-s09-DCAU|Acc=0.62917|10-CV=0.615|STD=0.01157|Time spend=0.7838883399963379\n",
      "\tAROUSAL-s10-DASM|Acc=0.66417|10-CV=0.618|STD=0.03048|Time spend=0.530479907989502\n",
      "\tAROUSAL-s10-RASM|Acc=0.56167|10-CV=0.54833|STD=0.00373|Time spend=0.6723954677581787\n",
      "\tAROUSAL-s10-DCAU|Acc=0.65583|10-CV=0.618|STD=0.01648|Time spend=0.7924206256866455\n",
      "-----WARNING: Model s11 failed to learn: sum(ans)=0.0 sum(y)=450.0 len(y)=1200\n",
      "\tAROUSAL-s11-DASM|Acc=0.625|10-CV=0.62467|STD=0.00163|Time spend=0.5244307518005371\n",
      "\tAROUSAL-s11-RASM|Acc=0.62667|10-CV=0.62467|STD=0.00163|Time spend=0.6402676105499268\n",
      "-----WARNING: Model s11 failed to learn: sum(ans)=0.0 sum(y)=450.0 len(y)=1200\n",
      "\tAROUSAL-s11-DCAU|Acc=0.625|10-CV=0.62467|STD=0.00163|Time spend=0.7640383243560791\n",
      "-----WARNING: Model s12 failed to learn: sum(ans)=1200.0 sum(y)=990.0 len(y)=1200\n",
      "\tAROUSAL-s12-DASM|Acc=0.825|10-CV=0.82533|STD=0.00163|Time spend=0.5175316333770752\n",
      "\tAROUSAL-s12-RASM|Acc=0.8275|10-CV=0.82367|STD=0.00407|Time spend=0.5865268707275391\n",
      "-----WARNING: Model s12 failed to learn: sum(ans)=1200.0 sum(y)=990.0 len(y)=1200\n",
      "\tAROUSAL-s12-DCAU|Acc=0.825|10-CV=0.82533|STD=0.00163|Time spend=0.7242801189422607\n",
      "-----WARNING: Model s13 failed to learn: sum(ans)=1200.0 sum(y)=1020.0 len(y)=1200\n",
      "\tAROUSAL-s13-DASM|Acc=0.85|10-CV=0.85|STD=0.0|Time spend=0.5089280605316162\n",
      "\tAROUSAL-s13-RASM|Acc=0.85083|10-CV=0.85|STD=0.0|Time spend=0.6028218269348145\n",
      "-----WARNING: Model s13 failed to learn: sum(ans)=1200.0 sum(y)=1020.0 len(y)=1200\n",
      "\tAROUSAL-s13-DCAU|Acc=0.85|10-CV=0.85|STD=0.0|Time spend=0.7181107997894287\n",
      "-----WARNING: Model s14 failed to learn: sum(ans)=1200.0 sum(y)=810.0 len(y)=1200\n",
      "\tAROUSAL-s14-DASM|Acc=0.675|10-CV=0.67433|STD=0.00153|Time spend=0.5153236389160156\n",
      "\tAROUSAL-s14-RASM|Acc=0.67583|10-CV=0.674|STD=0.00133|Time spend=0.6224238872528076\n",
      "-----WARNING: Model s14 failed to learn: sum(ans)=1200.0 sum(y)=810.0 len(y)=1200\n",
      "\tAROUSAL-s14-DCAU|Acc=0.675|10-CV=0.67433|STD=0.00153|Time spend=0.7649381160736084\n",
      "\tAROUSAL-s15-DASM|Acc=0.66417|10-CV=0.63133|STD=0.02276|Time spend=0.5191223621368408\n",
      "\tAROUSAL-s15-RASM|Acc=0.52667|10-CV=0.52467|STD=0.00163|Time spend=0.6645565032958984\n",
      "\tAROUSAL-s15-DCAU|Acc=0.66333|10-CV=0.62167|STD=0.01945|Time spend=0.8016126155853271\n",
      "\tAROUSAL-s16-DASM|Acc=0.63417|10-CV=0.59833|STD=0.01607|Time spend=0.5281457901000977\n",
      "\tAROUSAL-s16-RASM|Acc=0.50417|10-CV=0.50933|STD=0.01218|Time spend=0.6641814708709717\n",
      "\tAROUSAL-s16-DCAU|Acc=0.63333|10-CV=0.60033|STD=0.02142|Time spend=0.7931900024414062\n",
      "\tAROUSAL-s17-DASM|Acc=0.69083|10-CV=0.681|STD=0.01383|Time spend=0.5113887786865234\n",
      "\tAROUSAL-s17-RASM|Acc=0.6125|10-CV=0.60633|STD=0.00781|Time spend=0.6405971050262451\n",
      "\tAROUSAL-s17-DCAU|Acc=0.665|10-CV=0.65233|STD=0.01886|Time spend=0.7681169509887695\n",
      "\tAROUSAL-s18-DASM|Acc=0.64083|10-CV=0.639|STD=0.00651|Time spend=0.5403413772583008\n",
      "-----WARNING: Model s18 failed to learn: sum(ans)=1200.0 sum(y)=750.0 len(y)=1200\n",
      "\tAROUSAL-s18-RASM|Acc=0.625|10-CV=0.626|STD=0.002|Time spend=0.6665709018707275\n",
      "\tAROUSAL-s18-DCAU|Acc=0.63083|10-CV=0.62833|STD=0.00269|Time spend=0.7939929962158203\n",
      "\tAROUSAL-s19-DASM|Acc=0.67917|10-CV=0.67867|STD=0.00221|Time spend=0.5239231586456299\n",
      "\tAROUSAL-s19-RASM|Acc=0.67667|10-CV=0.67433|STD=0.00153|Time spend=0.6637325286865234\n",
      "\tAROUSAL-s19-DCAU|Acc=0.6825|10-CV=0.67733|STD=0.00327|Time spend=0.8026068210601807\n",
      "-----WARNING: Model s20 failed to learn: sum(ans)=1200.0 sum(y)=930.0 len(y)=1200\n",
      "\tAROUSAL-s20-DASM|Acc=0.775|10-CV=0.775|STD=0.00167|Time spend=0.5227017402648926\n",
      "\tAROUSAL-s20-RASM|Acc=0.77583|10-CV=0.775|STD=0.00167|Time spend=0.6024425029754639\n",
      "-----WARNING: Model s20 failed to learn: sum(ans)=1200.0 sum(y)=930.0 len(y)=1200\n",
      "\tAROUSAL-s20-DCAU|Acc=0.775|10-CV=0.775|STD=0.00167|Time spend=0.7610681056976318\n",
      "-----WARNING: Model s21 failed to learn: sum(ans)=1200.0 sum(y)=960.0 len(y)=1200\n",
      "\tAROUSAL-s21-DASM|Acc=0.8|10-CV=0.8|STD=0.0|Time spend=0.5474739074707031\n",
      "\tAROUSAL-s21-RASM|Acc=0.80417|10-CV=0.8|STD=0.0|Time spend=0.6394436359405518\n",
      "-----WARNING: Model s21 failed to learn: sum(ans)=1200.0 sum(y)=960.0 len(y)=1200\n",
      "\tAROUSAL-s21-DCAU|Acc=0.8|10-CV=0.8|STD=0.0|Time spend=0.7663755416870117\n",
      "\tAROUSAL-s22-DASM|Acc=0.62|10-CV=0.598|STD=0.01655|Time spend=0.535452127456665\n",
      "\tAROUSAL-s22-RASM|Acc=0.60167|10-CV=0.6|STD=0.0|Time spend=0.6545655727386475\n",
      "\tAROUSAL-s22-DCAU|Acc=0.60583|10-CV=0.59467|STD=0.01477|Time spend=0.7936837673187256\n",
      "-----WARNING: Model s23 failed to learn: sum(ans)=0.0 sum(y)=300.0 len(y)=1200\n",
      "\tAROUSAL-s23-DASM|Acc=0.75|10-CV=0.75|STD=0.0|Time spend=0.528641939163208\n",
      "\tAROUSAL-s23-RASM|Acc=0.75333|10-CV=0.74967|STD=0.0018|Time spend=0.6227433681488037\n",
      "-----WARNING: Model s23 failed to learn: sum(ans)=0.0 sum(y)=300.0 len(y)=1200\n",
      "\tAROUSAL-s23-DCAU|Acc=0.75|10-CV=0.75|STD=0.0|Time spend=0.7340641021728516\n",
      "-----WARNING: Model s24 failed to learn: sum(ans)=1200.0 sum(y)=990.0 len(y)=1200\n",
      "\tAROUSAL-s24-DASM|Acc=0.825|10-CV=0.82533|STD=0.00163|Time spend=0.5453858375549316\n",
      "\tAROUSAL-s24-RASM|Acc=0.82667|10-CV=0.82533|STD=0.00163|Time spend=0.6210072040557861\n",
      "-----WARNING: Model s24 failed to learn: sum(ans)=1200.0 sum(y)=990.0 len(y)=1200\n",
      "\tAROUSAL-s24-DCAU|Acc=0.825|10-CV=0.82533|STD=0.00163|Time spend=0.7463240623474121\n",
      "-----WARNING: Model s25 failed to learn: sum(ans)=1200.0 sum(y)=870.0 len(y)=1200\n",
      "\tAROUSAL-s25-DASM|Acc=0.725|10-CV=0.72667|STD=0.0|Time spend=0.5168099403381348\n",
      "\tAROUSAL-s25-RASM|Acc=0.72667|10-CV=0.72567|STD=0.00153|Time spend=0.6289618015289307\n",
      "-----WARNING: Model s25 failed to learn: sum(ans)=1200.0 sum(y)=870.0 len(y)=1200\n",
      "\tAROUSAL-s25-DCAU|Acc=0.725|10-CV=0.72667|STD=0.0|Time spend=0.7501943111419678\n",
      "\tAROUSAL-s26-DASM|Acc=0.62833|10-CV=0.59|STD=0.02006|Time spend=0.5421135425567627\n",
      "\tAROUSAL-s26-RASM|Acc=0.58167|10-CV=0.569|STD=0.00517|Time spend=0.6845157146453857\n",
      "\tAROUSAL-s26-DCAU|Acc=0.62333|10-CV=0.57033|STD=0.01779|Time spend=0.8104443550109863\n",
      "\tAROUSAL-s27-DASM|Acc=0.6825|10-CV=0.676|STD=0.00593|Time spend=0.5410404205322266\n",
      "\tAROUSAL-s27-RASM|Acc=0.68|10-CV=0.67267|STD=0.00359|Time spend=0.6560416221618652\n",
      "-----WARNING: Model s27 failed to learn: sum(ans)=1200.0 sum(y)=810.0 len(y)=1200\n",
      "\tAROUSAL-s27-DCAU|Acc=0.675|10-CV=0.67433|STD=0.00153|Time spend=0.7781369686126709\n",
      "\tAROUSAL-s28-DASM|Acc=0.57917|10-CV=0.56267|STD=0.01031|Time spend=0.5292913913726807\n",
      "-----WARNING: Model s28 failed to learn: sum(ans)=0.0 sum(y)=540.0 len(y)=1200\n",
      "\tAROUSAL-s28-RASM|Acc=0.55|10-CV=0.54967|STD=0.001|Time spend=0.6538655757904053\n",
      "\tAROUSAL-s28-DCAU|Acc=0.5675|10-CV=0.561|STD=0.00539|Time spend=0.7812449932098389\n",
      "\tAROUSAL-s29-DASM|Acc=0.63417|10-CV=0.62233|STD=0.00448|Time spend=0.5233960151672363\n",
      "\tAROUSAL-s29-RASM|Acc=0.62667|10-CV=0.625|STD=0.00269|Time spend=0.6600892543792725\n",
      "\tAROUSAL-s29-DCAU|Acc=0.6275|10-CV=0.62567|STD=0.00448|Time spend=0.8022570610046387\n",
      "\tAROUSAL-s30-DASM|Acc=0.60083|10-CV=0.551|STD=0.02737|Time spend=0.5505366325378418\n",
      "\tAROUSAL-s30-RASM|Acc=0.5275|10-CV=0.524|STD=0.00291|Time spend=0.6863830089569092\n",
      "\tAROUSAL-s30-DCAU|Acc=0.6075|10-CV=0.55367|STD=0.03338|Time spend=0.8209114074707031\n",
      "\tAROUSAL-s31-DASM|Acc=0.67167|10-CV=0.637|STD=0.01969|Time spend=0.5036897659301758\n",
      "\tAROUSAL-s31-RASM|Acc=0.53417|10-CV=0.529|STD=0.00761|Time spend=0.6397457122802734\n",
      "\tAROUSAL-s31-DCAU|Acc=0.65833|10-CV=0.62067|STD=0.02304|Time spend=0.7649998664855957\n",
      "-----WARNING: Model s32 failed to learn: sum(ans)=1200.0 sum(y)=810.0 len(y)=1200\n",
      "\tAROUSAL-s32-DASM|Acc=0.675|10-CV=0.67433|STD=0.00153|Time spend=0.5400364398956299\n",
      "\tAROUSAL-s32-RASM|Acc=0.67583|10-CV=0.674|STD=0.00133|Time spend=0.6662437915802002\n",
      "\tAROUSAL-s32-DCAU|Acc=0.67583|10-CV=0.67367|STD=0.0018|Time spend=0.7816810607910156\n",
      "AROUSAL-DASM|Acc=0.6792187500000001|10-CV=0.6638333333333332|STD=0.009209700050840075\n",
      "AROUSAL-RASM|Acc=0.6471093750000001|10-CV=0.6431041666666667|STD=0.0032309329552536142\n",
      "AROUSAL-DCAU|Acc=0.6748958333333336|10-CV=0.6598229166666667|STD=0.008723519610994003\n",
      "\tVALENCE-s01-DASM|Acc=0.56667|10-CV=0.52433|STD=0.02463|Time spend=0.7431318759918213\n",
      "\tVALENCE-s01-RASM|Acc=0.53333|10-CV=0.52433|STD=0.00448|Time spend=0.869088888168335\n",
      "\tVALENCE-s01-DCAU|Acc=0.5925|10-CV=0.53533|STD=0.02276|Time spend=0.9983186721801758\n",
      "\tVALENCE-s02-DASM|Acc=0.6725|10-CV=0.653|STD=0.02369|Time spend=0.4935111999511719\n",
      "\tVALENCE-s02-RASM|Acc=0.55083|10-CV=0.54967|STD=0.001|Time spend=0.6264469623565674\n",
      "\tVALENCE-s02-DCAU|Acc=0.71|10-CV=0.68733|STD=0.01451|Time spend=0.7386481761932373\n",
      "\tVALENCE-s03-DASM|Acc=0.60167|10-CV=0.53867|STD=0.01733|Time spend=0.5858867168426514\n",
      "\tVALENCE-s03-RASM|Acc=0.55833|10-CV=0.54967|STD=0.00277|Time spend=0.719294548034668\n",
      "\tVALENCE-s03-DCAU|Acc=0.60333|10-CV=0.57133|STD=0.01821|Time spend=0.8630242347717285\n",
      "\tVALENCE-s04-DASM|Acc=0.66583|10-CV=0.644|STD=0.02707|Time spend=0.5168204307556152\n",
      "\tVALENCE-s04-RASM|Acc=0.60083|10-CV=0.598|STD=0.00221|Time spend=0.6356601715087891\n",
      "\tVALENCE-s04-DCAU|Acc=0.66417|10-CV=0.637|STD=0.0285|Time spend=0.7539896965026855\n",
      "\tVALENCE-s05-DASM|Acc=0.60583|10-CV=0.59933|STD=0.00291|Time spend=0.5271737575531006\n",
      "\tVALENCE-s05-RASM|Acc=0.60417|10-CV=0.59633|STD=0.00547|Time spend=0.6571946144104004\n",
      "\tVALENCE-s05-DCAU|Acc=0.62333|10-CV=0.60433|STD=0.01126|Time spend=0.8035752773284912\n",
      "-----WARNING: Model s06 failed to learn: sum(ans)=1200.0 sum(y)=900.0 len(y)=1200\n",
      "\tVALENCE-s06-DASM|Acc=0.75|10-CV=0.75|STD=0.0|Time spend=0.5702404975891113\n",
      "\tVALENCE-s06-RASM|Acc=0.7525|10-CV=0.74967|STD=0.001|Time spend=0.6603736877441406\n",
      "-----WARNING: Model s06 failed to learn: sum(ans)=1200.0 sum(y)=900.0 len(y)=1200\n",
      "\tVALENCE-s06-DCAU|Acc=0.75|10-CV=0.75|STD=0.0|Time spend=0.8219451904296875\n",
      "-----WARNING: Model s07 failed to learn: sum(ans)=1200.0 sum(y)=840.0 len(y)=1200\n",
      "\tVALENCE-s07-DASM|Acc=0.7|10-CV=0.7|STD=0.0|Time spend=0.5332133769989014\n",
      "\tVALENCE-s07-RASM|Acc=0.70333|10-CV=0.69933|STD=0.00133|Time spend=0.6548056602478027\n",
      "-----WARNING: Model s07 failed to learn: sum(ans)=1200.0 sum(y)=840.0 len(y)=1200\n",
      "\tVALENCE-s07-DCAU|Acc=0.7|10-CV=0.7|STD=0.0|Time spend=0.7842228412628174\n",
      "\tVALENCE-s08-DASM|Acc=0.635|10-CV=0.596|STD=0.01298|Time spend=0.5148928165435791\n",
      "\tVALENCE-s08-RASM|Acc=0.5575|10-CV=0.544|STD=0.00727|Time spend=0.6518313884735107\n",
      "\tVALENCE-s08-DCAU|Acc=0.65|10-CV=0.589|STD=0.01795|Time spend=0.7936477661132812\n",
      "\tVALENCE-s09-DASM|Acc=0.73333|10-CV=0.71133|STD=0.02135|Time spend=0.4890720844268799\n",
      "\tVALENCE-s09-RASM|Acc=0.70583|10-CV=0.693|STD=0.0176|Time spend=0.6100215911865234\n",
      "\tVALENCE-s09-DCAU|Acc=0.71333|10-CV=0.704|STD=0.02511|Time spend=0.7227616310119629\n",
      "\tVALENCE-s10-DASM|Acc=0.77083|10-CV=0.739|STD=0.02186|Time spend=0.5118377208709717\n",
      "\tVALENCE-s10-RASM|Acc=0.5325|10-CV=0.52367|STD=0.01345|Time spend=0.6457512378692627\n",
      "\tVALENCE-s10-DCAU|Acc=0.7675|10-CV=0.75367|STD=0.01963|Time spend=0.7513773441314697\n",
      "\tVALENCE-s11-DASM|Acc=0.61833|10-CV=0.60467|STD=0.00806|Time spend=0.5315289497375488\n",
      "-----WARNING: Model s11 failed to learn: sum(ans)=1200.0 sum(y)=720.0 len(y)=1200\n",
      "\tVALENCE-s11-RASM|Acc=0.6|10-CV=0.60033|STD=0.001|Time spend=0.6549162864685059\n",
      "\tVALENCE-s11-DCAU|Acc=0.615|10-CV=0.605|STD=0.01408|Time spend=0.7884979248046875\n",
      "\tVALENCE-s12-DASM|Acc=0.62833|10-CV=0.58733|STD=0.01884|Time spend=0.5149760246276855\n",
      "\tVALENCE-s12-RASM|Acc=0.52917|10-CV=0.52333|STD=0.00333|Time spend=0.6561799049377441\n",
      "\tVALENCE-s12-DCAU|Acc=0.6|10-CV=0.56833|STD=0.02325|Time spend=0.7935745716094971\n",
      "\tVALENCE-s13-DASM|Acc=0.7|10-CV=0.681|STD=0.01535|Time spend=0.5437378883361816\n",
      "\tVALENCE-s13-RASM|Acc=0.58167|10-CV=0.57033|STD=0.00458|Time spend=0.6715362071990967\n",
      "\tVALENCE-s13-DCAU|Acc=0.74083|10-CV=0.72533|STD=0.015|Time spend=0.7759029865264893\n",
      "\tVALENCE-s14-DASM|Acc=0.66667|10-CV=0.646|STD=0.01272|Time spend=0.5187673568725586\n",
      "\tVALENCE-s14-RASM|Acc=0.50083|10-CV=0.50533|STD=0.01157|Time spend=0.6561019420623779\n",
      "\tVALENCE-s14-DCAU|Acc=0.675|10-CV=0.63567|STD=0.02381|Time spend=0.7769229412078857\n",
      "\tVALENCE-s15-DASM|Acc=0.7425|10-CV=0.719|STD=0.02459|Time spend=0.5028700828552246\n",
      "\tVALENCE-s15-RASM|Acc=0.50333|10-CV=0.5|STD=0.00558|Time spend=0.6424660682678223\n",
      "\tVALENCE-s15-DCAU|Acc=0.76167|10-CV=0.73867|STD=0.0275|Time spend=0.7428522109985352\n",
      "\tVALENCE-s16-DASM|Acc=0.69333|10-CV=0.68|STD=0.01886|Time spend=0.5166699886322021\n",
      "\tVALENCE-s16-RASM|Acc=0.62583|10-CV=0.62467|STD=0.00163|Time spend=0.632462739944458\n",
      "\tVALENCE-s16-DCAU|Acc=0.70417|10-CV=0.68733|STD=0.01281|Time spend=0.7416439056396484\n",
      "\tVALENCE-s17-DASM|Acc=0.595|10-CV=0.563|STD=0.0167|Time spend=0.5445976257324219\n",
      "\tVALENCE-s17-RASM|Acc=0.56|10-CV=0.54967|STD=0.00458|Time spend=0.7140734195709229\n",
      "\tVALENCE-s17-DCAU|Acc=0.56917|10-CV=0.555|STD=0.00477|Time spend=0.8988754749298096\n",
      "\tVALENCE-s18-DASM|Acc=0.74917|10-CV=0.72067|STD=0.01405|Time spend=0.48485350608825684\n",
      "\tVALENCE-s18-RASM|Acc=0.6025|10-CV=0.59933|STD=0.00133|Time spend=0.6178731918334961\n",
      "\tVALENCE-s18-DCAU|Acc=0.7625|10-CV=0.73867|STD=0.02077|Time spend=0.7205531597137451\n",
      "\tVALENCE-s19-DASM|Acc=0.62583|10-CV=0.60033|STD=0.01729|Time spend=0.5980069637298584\n",
      "\tVALENCE-s19-RASM|Acc=0.5825|10-CV=0.57333|STD=0.00494|Time spend=0.7249369621276855\n",
      "\tVALENCE-s19-DCAU|Acc=0.63167|10-CV=0.58633|STD=0.01169|Time spend=0.852135181427002\n",
      "\tVALENCE-s20-DASM|Acc=0.71|10-CV=0.67533|STD=0.03449|Time spend=0.5069465637207031\n",
      "\tVALENCE-s20-RASM|Acc=0.57667|10-CV=0.57367|STD=0.00277|Time spend=0.6350786685943604\n",
      "\tVALENCE-s20-DCAU|Acc=0.70417|10-CV=0.65767|STD=0.03639|Time spend=0.7506437301635742\n",
      "\tVALENCE-s21-DASM|Acc=0.58917|10-CV=0.53067|STD=0.03165|Time spend=0.5267090797424316\n",
      "\tVALENCE-s21-RASM|Acc=0.53167|10-CV=0.52133|STD=0.01087|Time spend=0.6689639091491699\n",
      "\tVALENCE-s21-DCAU|Acc=0.59667|10-CV=0.54767|STD=0.01915|Time spend=0.8243277072906494\n",
      "\tVALENCE-s22-DASM|Acc=0.59667|10-CV=0.583|STD=0.02354|Time spend=0.5337090492248535\n",
      "\tVALENCE-s22-RASM|Acc=0.55333|10-CV=0.55033|STD=0.00233|Time spend=0.6676328182220459\n",
      "\tVALENCE-s22-DCAU|Acc=0.5825|10-CV=0.57467|STD=0.01335|Time spend=0.795588493347168\n",
      "-----WARNING: Model s23 failed to learn: sum(ans)=1200.0 sum(y)=780.0 len(y)=1200\n",
      "\tVALENCE-s23-DASM|Acc=0.65|10-CV=0.65|STD=0.0|Time spend=0.5127449035644531\n",
      "\tVALENCE-s23-RASM|Acc=0.65083|10-CV=0.64933|STD=0.00133|Time spend=0.6415250301361084\n",
      "-----WARNING: Model s23 failed to learn: sum(ans)=1200.0 sum(y)=780.0 len(y)=1200\n",
      "\tVALENCE-s23-DCAU|Acc=0.65|10-CV=0.65|STD=0.0|Time spend=0.7691497802734375\n",
      "\tVALENCE-s24-DASM|Acc=0.615|10-CV=0.58033|STD=0.01798|Time spend=0.5248079299926758\n",
      "\tVALENCE-s24-RASM|Acc=0.555|10-CV=0.55167|STD=0.00307|Time spend=0.6613588333129883\n",
      "\tVALENCE-s24-DCAU|Acc=0.63083|10-CV=0.60267|STD=0.01943|Time spend=0.782606840133667\n",
      "\tVALENCE-s25-DASM|Acc=0.58667|10-CV=0.545|STD=0.02167|Time spend=0.5347850322723389\n",
      "\tVALENCE-s25-RASM|Acc=0.5275|10-CV=0.522|STD=0.00427|Time spend=0.6694450378417969\n",
      "\tVALENCE-s25-DCAU|Acc=0.58333|10-CV=0.53033|STD=0.01871|Time spend=0.8046817779541016\n",
      "-----WARNING: Model s26 failed to learn: sum(ans)=1200.0 sum(y)=780.0 len(y)=1200\n",
      "\tVALENCE-s26-DASM|Acc=0.65|10-CV=0.65|STD=0.0|Time spend=0.5277516841888428\n",
      "\tVALENCE-s26-RASM|Acc=0.65083|10-CV=0.64933|STD=0.00133|Time spend=0.6579222679138184\n",
      "\tVALENCE-s26-DCAU|Acc=0.65167|10-CV=0.651|STD=0.00213|Time spend=0.7867941856384277\n",
      "-----WARNING: Model s27 failed to learn: sum(ans)=1200.0 sum(y)=900.0 len(y)=1200\n",
      "\tVALENCE-s27-DASM|Acc=0.75|10-CV=0.75|STD=0.0|Time spend=0.5049052238464355\n",
      "\tVALENCE-s27-RASM|Acc=0.7525|10-CV=0.75|STD=0.0|Time spend=0.6165671348571777\n",
      "-----WARNING: Model s27 failed to learn: sum(ans)=1200.0 sum(y)=900.0 len(y)=1200\n",
      "\tVALENCE-s27-DCAU|Acc=0.75|10-CV=0.75|STD=0.0|Time spend=0.7597589492797852\n",
      "-----WARNING: Model s28 failed to learn: sum(ans)=1200.0 sum(y)=750.0 len(y)=1200\n",
      "\tVALENCE-s28-DASM|Acc=0.625|10-CV=0.62567|STD=0.00153|Time spend=0.5278534889221191\n",
      "\tVALENCE-s28-RASM|Acc=0.6275|10-CV=0.627|STD=0.0018|Time spend=0.6422371864318848\n",
      "-----WARNING: Model s28 failed to learn: sum(ans)=1200.0 sum(y)=750.0 len(y)=1200\n",
      "\tVALENCE-s28-DCAU|Acc=0.625|10-CV=0.62567|STD=0.00153|Time spend=0.7688233852386475\n",
      "\tVALENCE-s29-DASM|Acc=0.63333|10-CV=0.60833|STD=0.02282|Time spend=0.5420033931732178\n",
      "\tVALENCE-s29-RASM|Acc=0.58083|10-CV=0.57267|STD=0.00359|Time spend=0.6862711906433105\n",
      "\tVALENCE-s29-DCAU|Acc=0.63333|10-CV=0.59667|STD=0.01706|Time spend=0.8217387199401855\n",
      "-----WARNING: Model s30 failed to learn: sum(ans)=1200.0 sum(y)=810.0 len(y)=1200\n",
      "\tVALENCE-s30-DASM|Acc=0.675|10-CV=0.67433|STD=0.00153|Time spend=0.5254573822021484\n",
      "\tVALENCE-s30-RASM|Acc=0.67667|10-CV=0.67433|STD=0.00153|Time spend=0.6460709571838379\n",
      "-----WARNING: Model s30 failed to learn: sum(ans)=1200.0 sum(y)=810.0 len(y)=1200\n",
      "\tVALENCE-s30-DCAU|Acc=0.675|10-CV=0.67433|STD=0.00153|Time spend=0.7895348072052002\n",
      "\tVALENCE-s31-DASM|Acc=0.63417|10-CV=0.58567|STD=0.01938|Time spend=0.5354959964752197\n",
      "\tVALENCE-s31-RASM|Acc=0.58083|10-CV=0.572|STD=0.00452|Time spend=0.6666607856750488\n",
      "\tVALENCE-s31-DCAU|Acc=0.58333|10-CV=0.56933|STD=0.0094|Time spend=0.8133726119995117\n",
      "\tVALENCE-s32-DASM|Acc=0.60417|10-CV=0.582|STD=0.0245|Time spend=0.5092439651489258\n",
      "\tVALENCE-s32-RASM|Acc=0.52083|10-CV=0.51033|STD=0.01016|Time spend=0.6439883708953857\n",
      "\tVALENCE-s32-DCAU|Acc=0.61167|10-CV=0.57733|STD=0.02603|Time spend=0.7706634998321533\n",
      "VALENCE-DASM|Acc=0.6575|10-CV=0.6343125000000002|STD=0.015542197386520192\n",
      "VALENCE-RASM|Acc=0.5928124999999999|10-CV=0.5874374999999998|STD=0.004460170754027163\n",
      "VALENCE-DCAU|Acc=0.6597395833333334|10-CV=0.6368645833333334|STD=0.014885067152301878\n",
      "TOTAL-DASM|Acc=0.6683593749999998|10-CV=0.6490729166666668|STD=0.012375948718680132\n",
      "TOTAL-RASM|Acc=0.6199609375|10-CV=0.6152708333333334|STD=0.0038455518546403875\n",
      "TOTAL-DCAU|Acc=0.6673177083333335|10-CV=0.64834375|STD=0.011804293381647945\n"
     ]
    }
   ],
   "source": [
    "bands = [(0,4), (4,8), (8,12), (12,30), (30,64)]\n",
    "# [alias_feature_function]__[optional_param]\n",
    "params = dict({\n",
    "    'pow_freq_bands__log':True,\n",
    "    'pow_freq_bands__normalize':False,\n",
    "    'pow_freq_bands__freq_bands':bands\n",
    "})\n",
    "\n",
    "accs,cv_means,cv_stds  = {'DASM':[],'RASM':[],'DCAU':[]},{'DASM':[],'RASM':[],'DCAU':[]},{'DASM':[],'RASM':[],'DCAU':[]}\n",
    "# count = 0\n",
    "for filename in dataset.get_file_list():\n",
    "    start = time.time()\n",
    "    data, labels, groups = dataset.get_data(filename, stimuli=Dataset_subjectDependent.STIMULI_AROUSAL, return_type='numpy')\n",
    "    fe = FeatureExtractor(sfreq=128, selected_funcs=['pow_freq_bands'],params=params,n_jobs=8)\n",
    "    X = fe.fit_transform(X=data)\n",
    "\n",
    "    PSD_left = X[:, left_channel_indexes].copy()\n",
    "    PSD_right = X[:, right_channel_indexes].copy()\n",
    "    PSD_frontal = X[:, frontal_channel_indexes].copy()\n",
    "    PSD_posterior = X[:, posterior_channel_indexes].copy()\n",
    "    X = {\n",
    "        'DASM': PSD_left - PSD_right,\n",
    "        'RASM': PSD_left / PSD_right,\n",
    "        'DCAU': PSD_frontal - PSD_posterior,\n",
    "    }\n",
    "\n",
    "    for feature_name in ['DASM','RASM','DCAU']:\n",
    "        _, acc, cross = train_model(X[feature_name], labels.reshape(-1), groups, filename=filename)\n",
    "        print(f\"\\tAROUSAL-{filename}-{feature_name}|Acc={round(acc,5)}|10-CV={round(cross.mean(),5)}|STD={round(cross.std(),5)}|Time spend={time.time() - start}\")\n",
    "        accs[feature_name].append(acc)\n",
    "        cv_means[feature_name].append(cross.mean())\n",
    "        cv_stds[feature_name].append(cross.std())\n",
    "    # count+=1\n",
    "    # if(count == 3): break\n",
    "for feature_name in ['DASM','RASM','DCAU']:\n",
    "    print(f\"AROUSAL-{feature_name}|Acc={sum(accs[feature_name])/len(accs[feature_name])}|10-CV={sum(cv_means[feature_name])/len(cv_means[feature_name])}|STD={sum(cv_stds[feature_name])/len(cv_stds[feature_name])}\")\n",
    "\n",
    "accs_v,cv_means_v,cv_stds_v  = {'DASM':[],'RASM':[],'DCAU':[]},{'DASM':[],'RASM':[],'DCAU':[]},{'DASM':[],'RASM':[],'DCAU':[]}\n",
    "# count=0\n",
    "for filename in dataset.get_file_list():\n",
    "    start = time.time()\n",
    "    data, labels, groups = dataset.get_data(filename, stimuli=Dataset_subjectDependent.STIMULI_VALENCE, return_type='numpy')\n",
    "    fe = FeatureExtractor(sfreq=128, selected_funcs=['pow_freq_bands'],params=params,n_jobs=8)\n",
    "    X = fe.fit_transform(X=data)\n",
    "\n",
    "    PSD_left = X[:, left_channel_indexes].copy()\n",
    "    PSD_right = X[:, right_channel_indexes].copy()\n",
    "    PSD_frontal = X[:, frontal_channel_indexes].copy()\n",
    "    PSD_posterior = X[:, posterior_channel_indexes].copy()\n",
    "    X = {\n",
    "        'DASM': PSD_left - PSD_right,\n",
    "        'RASM': PSD_left / PSD_right,\n",
    "        'DCAU': PSD_frontal - PSD_posterior,\n",
    "    }\n",
    "\n",
    "    for feature_name in ['DASM','RASM','DCAU']:\n",
    "        _, acc, cross = train_model(X[feature_name], labels.reshape(-1), groups, filename=filename)\n",
    "        print(f\"\\tVALENCE-{filename}-{feature_name}|Acc={round(acc,5)}|10-CV={round(cross.mean(),5)}|STD={round(cross.std(),5)}|Time spend={time.time() - start}\")\n",
    "        accs_v[feature_name].append(acc)\n",
    "        cv_means_v[feature_name].append(cross.mean())\n",
    "        cv_stds_v[feature_name].append(cross.std())\n",
    "    # count+=1\n",
    "    # if(count == 3): break\n",
    "for feature_name in ['DASM','RASM','DCAU']:\n",
    "    print(f\"VALENCE-{feature_name}|Acc={sum(accs_v[feature_name])/len(accs_v[feature_name])}|10-CV={sum(cv_means_v[feature_name])/len(cv_means_v[feature_name])}|STD={sum(cv_stds_v[feature_name])/len(cv_stds_v[feature_name])}\")\n",
    "\n",
    "for feature_name in ['DASM','RASM','DCAU']:\n",
    "    accs[feature_name].extend(accs_v[feature_name])\n",
    "    cv_means[feature_name].extend(cv_means_v[feature_name])\n",
    "    cv_stds[feature_name].extend(cv_stds_v[feature_name])\n",
    "    print(f\"TOTAL-{feature_name}|Acc={sum(accs[feature_name])/len(accs[feature_name])}|10-CV={sum(cv_means[feature_name])/len(cv_means[feature_name])}|STD={sum(cv_stds[feature_name])/len(cv_stds[feature_name])}\")"
   ]
  },
  {
   "cell_type": "markdown",
   "metadata": {},
   "source": [
    "## 4. Connectivity\n",
    "\n",
    "### 4.1 $ \\text{PCC}_{\\text{time}}(i,j) = \\frac{\\text{Cov}[\\mathbf{X}_i, \\mathbf{X}_j]}{\\sigma_{\\mathbf{X}_i} \\sigma_{\\mathbf{X}_j}} $"
   ]
  },
  {
   "cell_type": "code",
   "execution_count": 7,
   "metadata": {},
   "outputs": [],
   "source": [
    "\n",
    "def pearson_correlation(x,y):\n",
    "    \"\"\" x,y denoted the signal_x and signal_y following the equation \"\"\"\n",
    "    cov = np.cov(x, y)\n",
    "    # print(cov)\n",
    "    # [[ 8806859.74527069  8007149.0906219 ] ==> [[cov_xx, cov_xy]\n",
    "    # [ 8007149.0906219  10396797.72458848]]      [cov_yx, cov_yy]]\n",
    "    cov_xy = cov[0,1] # or cov[1,0]\n",
    "    cov_xx = cov[0,0]\n",
    "    cov_yy = cov[1,1]\n",
    "    corr = cov_xy / ( cov_xx**0.5 * cov_yy**0.5  )\n",
    "    return corr\n",
    "\n",
    "def _cal(p_id, partial_data):\n",
    "    # print(f\"p_id:{p_id} - data to run {partial_data.shape}\")\n",
    "    from itertools import combinations\n",
    "    pcc = []\n",
    "    for index in range(partial_data.shape[0]):\n",
    "        pcc_epoch = []\n",
    "        for comb in combinations(list(range(partial_data.shape[1])), 2):\n",
    "            pcc_ab = pearson_correlation(partial_data[index, comb[0], :], partial_data[index, comb[1], :]   )\n",
    "            pcc_epoch.append(pcc_ab)\n",
    "        pcc_epoch = np.hstack(pcc_epoch)\n",
    "        pcc.append(pcc_epoch)\n",
    "    pcc = np.vstack(pcc)\n",
    "    return pcc\n",
    "\n",
    "def calculate_pcc(data, n_jobs=8):\n",
    "    \"\"\" \n",
    "    Input: Expect data to have (n_epochs, n_channels, n_samples)\n",
    "    Output: (n_epochs, n_conn ) => n_conn = n_channels!/(2!(n_channels-2)!)\n",
    "    \"\"\"\n",
    "    from multiprocessing import Pool\n",
    "\n",
    "    try:\n",
    "        t_out = 60000\n",
    "        pool = Pool()\n",
    "        p_list = []\n",
    "        ans_list = []\n",
    "        num_p = n_jobs\n",
    "        indices = np.array_split(np.arange(data.shape[0]), num_p)\n",
    "        for p_id in range(num_p):\n",
    "            p_list.append(pool.apply_async(_cal, [p_id, data[indices[p_id]] ]))\n",
    "        for p_id in range(num_p):\n",
    "            ans_list.append( p_list[p_id].get(timeout=t_out) )\n",
    "        # ans_list\n",
    "    except Exception as e:\n",
    "        print(e)\n",
    "    finally:\n",
    "        print(\"========= close ========\")\n",
    "        pool.close() \n",
    "        pool.terminate()\n",
    "    return np.vstack(ans_list)"
   ]
  },
  {
   "cell_type": "code",
   "execution_count": 8,
   "metadata": {},
   "outputs": [
    {
     "data": {
      "application/vnd.jupyter.widget-view+json": {
       "model_id": "37c1d46009e94af5b75527dcac1afc50",
       "version_major": 2,
       "version_minor": 0
      },
      "text/plain": [
       "  0%|          | 0/32 [00:00<?, ?it/s]"
      ]
     },
     "metadata": {},
     "output_type": "display_data"
    },
    {
     "name": "stdout",
     "output_type": "stream",
     "text": [
      "Fitted sphere radius:         95.3 mm\n",
      "Origin head coordinates:      -0.8 15.1 45.3 mm\n",
      "Origin device coordinates:    -0.8 15.1 45.3 mm\n",
      "========= close ========\n",
      "\tAROUSAL-s01|Acc=0.70083|10-CV=0.65167|STD=0.01979|Time spend=5.877695322036743\n",
      "\tVALENCE-s01|Acc=0.68417|10-CV=0.59|STD=0.0216|Time spend=6.987509727478027\n",
      "Fitted sphere radius:         95.3 mm\n",
      "Origin head coordinates:      -0.8 15.1 45.3 mm\n",
      "Origin device coordinates:    -0.8 15.1 45.3 mm\n",
      "========= close ========\n",
      "\tAROUSAL-s02|Acc=0.61667|10-CV=0.613|STD=0.0112|Time spend=5.624778747558594\n",
      "\tVALENCE-s02|Acc=0.57083|10-CV=0.55967|STD=0.02378|Time spend=6.829440116882324\n",
      "Fitted sphere radius:         95.3 mm\n",
      "Origin head coordinates:      -0.8 15.1 45.3 mm\n",
      "Origin device coordinates:    -0.8 15.1 45.3 mm\n",
      "========= close ========\n",
      "\tAROUSAL-s03|Acc=0.8|10-CV=0.8|STD=0.0|Time spend=5.1216771602630615\n",
      "\tVALENCE-s03|Acc=0.55|10-CV=0.55|STD=0.0|Time spend=6.28533935546875\n",
      "Fitted sphere radius:         95.3 mm\n",
      "Origin head coordinates:      -0.8 15.1 45.3 mm\n",
      "Origin device coordinates:    -0.8 15.1 45.3 mm\n",
      "========= close ========\n",
      "\tAROUSAL-s04|Acc=0.6|10-CV=0.6|STD=0.0|Time spend=5.4815943241119385\n",
      "\tVALENCE-s04|Acc=0.6|10-CV=0.59967|STD=0.001|Time spend=6.579483509063721\n",
      "Fitted sphere radius:         95.3 mm\n",
      "Origin head coordinates:      -0.8 15.1 45.3 mm\n",
      "Origin device coordinates:    -0.8 15.1 45.3 mm\n",
      "========= close ========\n",
      "\tAROUSAL-s05|Acc=0.55333|10-CV=0.538|STD=0.02207|Time spend=5.469560623168945\n",
      "\tVALENCE-s05|Acc=0.6|10-CV=0.6|STD=0.0|Time spend=6.596469163894653\n",
      "Fitted sphere radius:         95.3 mm\n",
      "Origin head coordinates:      -0.8 15.1 45.3 mm\n",
      "Origin device coordinates:    -0.8 15.1 45.3 mm\n",
      "========= close ========\n",
      "\tAROUSAL-s06|Acc=0.60833|10-CV=0.589|STD=0.01342|Time spend=5.653823614120483\n",
      "\tVALENCE-s06|Acc=0.75|10-CV=0.75|STD=0.0|Time spend=6.53239369392395\n",
      "Fitted sphere radius:         95.3 mm\n",
      "Origin head coordinates:      -0.8 15.1 45.3 mm\n",
      "Origin device coordinates:    -0.8 15.1 45.3 mm\n",
      "========= close ========\n",
      "\tAROUSAL-s07|Acc=0.67083|10-CV=0.66867|STD=0.01013|Time spend=5.485066175460815\n",
      "\tVALENCE-s07|Acc=0.7|10-CV=0.7|STD=0.0|Time spend=6.383302450180054\n",
      "Fitted sphere radius:         95.3 mm\n",
      "Origin head coordinates:      -0.8 15.1 45.3 mm\n",
      "Origin device coordinates:    -0.8 15.1 45.3 mm\n",
      "========= close ========\n",
      "\tAROUSAL-s08|Acc=0.59417|10-CV=0.573|STD=0.00433|Time spend=5.77390456199646\n",
      "\tVALENCE-s08|Acc=0.635|10-CV=0.60133|STD=0.01327|Time spend=6.930157661437988\n",
      "Fitted sphere radius:         95.3 mm\n",
      "Origin head coordinates:      -0.8 15.1 45.3 mm\n",
      "Origin device coordinates:    -0.8 15.1 45.3 mm\n",
      "========= close ========\n",
      "\tAROUSAL-s09|Acc=0.61667|10-CV=0.606|STD=0.00593|Time spend=5.443854331970215\n",
      "\tVALENCE-s09|Acc=0.62833|10-CV=0.62233|STD=0.02757|Time spend=6.565145969390869\n",
      "Fitted sphere radius:         95.3 mm\n",
      "Origin head coordinates:      -0.8 15.1 45.3 mm\n",
      "Origin device coordinates:    -0.8 15.1 45.3 mm\n",
      "========= close ========\n",
      "\tAROUSAL-s10|Acc=0.6|10-CV=0.58|STD=0.02044|Time spend=5.54261040687561\n",
      "\tVALENCE-s10|Acc=0.7775|10-CV=0.77233|STD=0.02595|Time spend=6.523389577865601\n",
      "Fitted sphere radius:         95.3 mm\n",
      "Origin head coordinates:      -0.8 15.1 45.3 mm\n",
      "Origin device coordinates:    -0.8 15.1 45.3 mm\n",
      "========= close ========\n",
      "\tAROUSAL-s11|Acc=0.625|10-CV=0.62467|STD=0.00163|Time spend=5.460717439651489\n",
      "\tVALENCE-s11|Acc=0.60917|10-CV=0.60533|STD=0.00521|Time spend=6.5198423862457275\n",
      "Fitted sphere radius:         95.3 mm\n",
      "Origin head coordinates:      -0.8 15.1 45.3 mm\n",
      "Origin device coordinates:    -0.8 15.1 45.3 mm\n",
      "========= close ========\n",
      "\tAROUSAL-s12|Acc=0.825|10-CV=0.82533|STD=0.00163|Time spend=5.1955156326293945\n",
      "\tVALENCE-s12|Acc=0.62083|10-CV=0.60033|STD=0.01449|Time spend=6.314404487609863\n",
      "Fitted sphere radius:         95.3 mm\n",
      "Origin head coordinates:      -0.8 15.1 45.3 mm\n",
      "Origin device coordinates:    -0.8 15.1 45.3 mm\n",
      "========= close ========\n",
      "\tAROUSAL-s13|Acc=0.85|10-CV=0.85|STD=0.0|Time spend=4.975753545761108\n",
      "\tVALENCE-s13|Acc=0.66417|10-CV=0.65833|STD=0.015|Time spend=6.0322370529174805\n",
      "Fitted sphere radius:         95.3 mm\n",
      "Origin head coordinates:      -0.8 15.1 45.3 mm\n",
      "Origin device coordinates:    -0.8 15.1 45.3 mm\n",
      "========= close ========\n",
      "\tAROUSAL-s14|Acc=0.675|10-CV=0.67433|STD=0.00153|Time spend=5.362853050231934\n",
      "\tVALENCE-s14|Acc=0.62333|10-CV=0.602|STD=0.02202|Time spend=6.479007720947266\n",
      "Fitted sphere radius:         95.3 mm\n",
      "Origin head coordinates:      -0.8 15.1 45.3 mm\n",
      "Origin device coordinates:    -0.8 15.1 45.3 mm\n",
      "========= close ========\n",
      "\tAROUSAL-s15|Acc=0.67|10-CV=0.62567|STD=0.02989|Time spend=5.5872862339019775\n",
      "\tVALENCE-s15|Acc=0.7325|10-CV=0.723|STD=0.02383|Time spend=6.543261528015137\n",
      "Fitted sphere radius:         95.3 mm\n",
      "Origin head coordinates:      -0.8 15.1 45.3 mm\n",
      "Origin device coordinates:    -0.8 15.1 45.3 mm\n",
      "========= close ========\n",
      "\tAROUSAL-s16|Acc=0.665|10-CV=0.64767|STD=0.02399|Time spend=5.520846843719482\n",
      "\tVALENCE-s16|Acc=0.70917|10-CV=0.694|STD=0.01365|Time spend=6.55782151222229\n",
      "Fitted sphere radius:         95.3 mm\n",
      "Origin head coordinates:      -0.8 15.1 45.3 mm\n",
      "Origin device coordinates:    -0.8 15.1 45.3 mm\n",
      "========= close ========\n",
      "\tAROUSAL-s17|Acc=0.60167|10-CV=0.6|STD=0.0|Time spend=5.530056953430176\n",
      "\tVALENCE-s17|Acc=0.55|10-CV=0.55|STD=0.0|Time spend=6.827754259109497\n",
      "Fitted sphere radius:         95.3 mm\n",
      "Origin head coordinates:      -0.8 15.1 45.3 mm\n",
      "Origin device coordinates:    -0.8 15.1 45.3 mm\n",
      "========= close ========\n",
      "\tAROUSAL-s18|Acc=0.625|10-CV=0.62567|STD=0.00153|Time spend=5.590884447097778\n",
      "\tVALENCE-s18|Acc=0.73333|10-CV=0.72767|STD=0.02659|Time spend=6.532222270965576\n",
      "Fitted sphere radius:         95.3 mm\n",
      "Origin head coordinates:      -0.8 15.1 45.3 mm\n",
      "Origin device coordinates:    -0.8 15.1 45.3 mm\n",
      "========= close ========\n",
      "\tAROUSAL-s19|Acc=0.675|10-CV=0.674|STD=0.00133|Time spend=5.346062898635864\n",
      "\tVALENCE-s19|Acc=0.625|10-CV=0.60167|STD=0.01945|Time spend=6.423395156860352\n",
      "Fitted sphere radius:         95.3 mm\n",
      "Origin head coordinates:      -0.8 15.1 45.3 mm\n",
      "Origin device coordinates:    -0.8 15.1 45.3 mm\n",
      "========= close ========\n",
      "\tAROUSAL-s20|Acc=0.775|10-CV=0.775|STD=0.00167|Time spend=5.24894380569458\n",
      "\tVALENCE-s20|Acc=0.67833|10-CV=0.66433|STD=0.02521|Time spend=6.342333793640137\n",
      "Fitted sphere radius:         95.3 mm\n",
      "Origin head coordinates:      -0.8 15.1 45.3 mm\n",
      "Origin device coordinates:    -0.8 15.1 45.3 mm\n",
      "========= close ========\n",
      "\tAROUSAL-s21|Acc=0.8|10-CV=0.8|STD=0.0|Time spend=5.432548761367798\n",
      "\tVALENCE-s21|Acc=0.525|10-CV=0.52467|STD=0.00221|Time spend=6.683500289916992\n",
      "Fitted sphere radius:         95.3 mm\n",
      "Origin head coordinates:      -0.8 15.1 45.3 mm\n",
      "Origin device coordinates:    -0.8 15.1 45.3 mm\n",
      "========= close ========\n",
      "\tAROUSAL-s22|Acc=0.6|10-CV=0.6|STD=0.0|Time spend=5.515929698944092\n",
      "\tVALENCE-s22|Acc=0.63083|10-CV=0.62733|STD=0.01298|Time spend=6.625113248825073\n",
      "Fitted sphere radius:         95.3 mm\n",
      "Origin head coordinates:      -0.8 15.1 45.3 mm\n",
      "Origin device coordinates:    -0.8 15.1 45.3 mm\n",
      "========= close ========\n",
      "\tAROUSAL-s23|Acc=0.75|10-CV=0.75|STD=0.0|Time spend=5.0890302658081055\n",
      "\tVALENCE-s23|Acc=0.69083|10-CV=0.65433|STD=0.00616|Time spend=6.137742757797241\n",
      "Fitted sphere radius:         95.3 mm\n",
      "Origin head coordinates:      -0.8 15.1 45.3 mm\n",
      "Origin device coordinates:    -0.8 15.1 45.3 mm\n",
      "========= close ========\n",
      "\tAROUSAL-s24|Acc=0.825|10-CV=0.82533|STD=0.00163|Time spend=5.155319690704346\n",
      "\tVALENCE-s24|Acc=0.5775|10-CV=0.576|STD=0.02065|Time spend=6.3665032386779785\n",
      "Fitted sphere radius:         95.3 mm\n",
      "Origin head coordinates:      -0.8 15.1 45.3 mm\n",
      "Origin device coordinates:    -0.8 15.1 45.3 mm\n",
      "========= close ========\n",
      "\tAROUSAL-s25|Acc=0.725|10-CV=0.72667|STD=0.0|Time spend=5.228461027145386\n",
      "\tVALENCE-s25|Acc=0.52417|10-CV=0.521|STD=0.01184|Time spend=6.427196264266968\n",
      "Fitted sphere radius:         95.3 mm\n",
      "Origin head coordinates:      -0.8 15.1 45.3 mm\n",
      "Origin device coordinates:    -0.8 15.1 45.3 mm\n",
      "========= close ========\n",
      "\tAROUSAL-s26|Acc=0.61167|10-CV=0.59867|STD=0.01746|Time spend=5.448181867599487\n",
      "\tVALENCE-s26|Acc=0.65|10-CV=0.65|STD=0.0|Time spend=6.478358268737793\n",
      "Fitted sphere radius:         95.3 mm\n",
      "Origin head coordinates:      -0.8 15.1 45.3 mm\n",
      "Origin device coordinates:    -0.8 15.1 45.3 mm\n",
      "========= close ========\n",
      "\tAROUSAL-s27|Acc=0.70667|10-CV=0.68833|STD=0.00734|Time spend=5.4263927936553955\n",
      "\tVALENCE-s27|Acc=0.75|10-CV=0.75|STD=0.0|Time spend=6.207224130630493\n",
      "Fitted sphere radius:         95.3 mm\n",
      "Origin head coordinates:      -0.8 15.1 45.3 mm\n",
      "Origin device coordinates:    -0.8 15.1 45.3 mm\n",
      "========= close ========\n",
      "\tAROUSAL-s28|Acc=0.56167|10-CV=0.56233|STD=0.00716|Time spend=5.568199396133423\n",
      "\tVALENCE-s28|Acc=0.625|10-CV=0.62567|STD=0.00153|Time spend=6.595222234725952\n",
      "Fitted sphere radius:         95.3 mm\n",
      "Origin head coordinates:      -0.8 15.1 45.3 mm\n",
      "Origin device coordinates:    -0.8 15.1 45.3 mm\n",
      "========= close ========\n",
      "\tAROUSAL-s29|Acc=0.6275|10-CV=0.62567|STD=0.00153|Time spend=5.465750694274902\n",
      "\tVALENCE-s29|Acc=0.63583|10-CV=0.62867|STD=0.01869|Time spend=6.570560455322266\n",
      "Fitted sphere radius:         95.3 mm\n",
      "Origin head coordinates:      -0.8 15.1 45.3 mm\n",
      "Origin device coordinates:    -0.8 15.1 45.3 mm\n",
      "========= close ========\n",
      "\tAROUSAL-s30|Acc=0.58583|10-CV=0.57367|STD=0.0322|Time spend=5.583702802658081\n",
      "\tVALENCE-s30|Acc=0.675|10-CV=0.67433|STD=0.00153|Time spend=6.572044134140015\n",
      "Fitted sphere radius:         95.3 mm\n",
      "Origin head coordinates:      -0.8 15.1 45.3 mm\n",
      "Origin device coordinates:    -0.8 15.1 45.3 mm\n",
      "========= close ========\n",
      "\tAROUSAL-s31|Acc=0.68417|10-CV=0.658|STD=0.02177|Time spend=5.558100938796997\n",
      "\tVALENCE-s31|Acc=0.6175|10-CV=0.58433|STD=0.01033|Time spend=6.672121047973633\n",
      "Fitted sphere radius:         95.3 mm\n",
      "Origin head coordinates:      -0.8 15.1 45.3 mm\n",
      "Origin device coordinates:    -0.8 15.1 45.3 mm\n",
      "========= close ========\n",
      "\tAROUSAL-s32|Acc=0.675|10-CV=0.67433|STD=0.00153|Time spend=5.321379661560059\n",
      "\tVALENCE-s32|Acc=0.60083|10-CV=0.59733|STD=0.01896|Time spend=6.413317918777466\n",
      "AROUSAL|Acc=0.6718750000000002|10-CV=0.6632708333333335|STD=0.008160200462378284\n",
      "VALENCE|Acc=0.6420052083333334|10-CV=0.6308020833333334|STD=0.0119835007500816\n"
     ]
    }
   ],
   "source": [
    "accs, cv_means, cv_stds = [],[],[]\n",
    "accs_v, cv_means_v, cv_stds_v = [],[],[]\n",
    "reports = []\n",
    "for filename in (pbar := tqdm(dataset.get_file_list())):\n",
    "    start = time.time()\n",
    "    pbar.set_description(filename)\n",
    "    data, labels, groups = dataset.get_data(filename, stimuli=Dataset_subjectDependent.STIMULI_AROUSAL, return_type='mne', sfreq=128)\n",
    "    data_csd = mne.preprocessing.compute_current_source_density(data)\n",
    "    pcc = calculate_pcc(data_csd.get_data())\n",
    "    _,acc,cross,train_report = train_model(pcc, labels.squeeze(), groups, filename=filename, return_text=True)\n",
    "    report = f\"\\tAROUSAL-{filename}|Acc={round(acc,5)}|10-CV={round(cross.mean(),5)}|STD={round(cross.std(),5)}|Time spend={time.time() - start}\"\n",
    "    print(report)\n",
    "    reports.append(report)\n",
    "    reports.append(train_report)\n",
    "    accs.append(acc)\n",
    "    cv_means.append(cross.mean())\n",
    "    cv_stds.append(cross.std())\n",
    "\n",
    "    _, labels_v, groups_v = dataset.get_data(filename, stimuli=Dataset_subjectDependent.STIMULI_VALENCE, return_type='mne', sfreq=128)\n",
    "    _,acc,cross,train_report = train_model(pcc, labels_v.squeeze(), groups_v, filename=filename, return_text=True)\n",
    "    report = f\"\\tVALENCE-{filename}|Acc={round(acc,5)}|10-CV={round(cross.mean(),5)}|STD={round(cross.std(),5)}|Time spend={time.time() - start}\"\n",
    "    print(report)\n",
    "    reports.append(report)\n",
    "    reports.append(train_report)\n",
    "    accs_v.append(acc)\n",
    "    cv_means_v.append(cross.mean())\n",
    "    cv_stds_v.append(cross.std())\n",
    "    # break\n",
    "    # count+=1\n",
    "    # if(count == 5): break\n",
    "report = f\"AROUSAL|Acc={sum(accs)/len(accs)}|10-CV={sum(cv_means)/len(cv_means)}|STD={sum(cv_stds)/len(cv_stds)}\"\n",
    "print(report)\n",
    "reports.append(report)\n",
    "report = f\"VALENCE|Acc={sum(accs_v)/len(accs_v)}|10-CV={sum(cv_means_v)/len(cv_means_v)}|STD={sum(cv_stds_v)/len(cv_stds_v)}\"\n",
    "print(report)\n",
    "reports.append(report)"
   ]
  },
  {
   "cell_type": "code",
   "execution_count": 9,
   "metadata": {},
   "outputs": [
    {
     "name": "stdout",
     "output_type": "stream",
     "text": [
      "\tAROUSAL-s01|Acc=0.70083|10-CV=0.65167|STD=0.01979|Time spend=5.877695322036743\n",
      "\tVALENCE-s01|Acc=0.68417|10-CV=0.59|STD=0.0216|Time spend=6.987509727478027\n",
      "\tAROUSAL-s02|Acc=0.61667|10-CV=0.613|STD=0.0112|Time spend=5.624778747558594\n",
      "\tVALENCE-s02|Acc=0.57083|10-CV=0.55967|STD=0.02378|Time spend=6.829440116882324\n",
      "\tAROUSAL-s03|Acc=0.8|10-CV=0.8|STD=0.0|Time spend=5.1216771602630615\n",
      "-----WARNING: Model s03 failed to learn: sum(ans)=0.0 sum(y)=240.0 len(y)=1200\n",
      "\tVALENCE-s03|Acc=0.55|10-CV=0.55|STD=0.0|Time spend=6.28533935546875\n",
      "-----WARNING: Model s03 failed to learn: sum(ans)=1200.0 sum(y)=660.0 len(y)=1200\n",
      "\tAROUSAL-s04|Acc=0.6|10-CV=0.6|STD=0.0|Time spend=5.4815943241119385\n",
      "-----WARNING: Model s04 failed to learn: sum(ans)=0.0 sum(y)=480.0 len(y)=1200\n",
      "\tVALENCE-s04|Acc=0.6|10-CV=0.59967|STD=0.001|Time spend=6.579483509063721\n",
      "-----WARNING: Model s04 failed to learn: sum(ans)=0.0 sum(y)=480.0 len(y)=1200\n",
      "\tAROUSAL-s05|Acc=0.55333|10-CV=0.538|STD=0.02207|Time spend=5.469560623168945\n",
      "\tVALENCE-s05|Acc=0.6|10-CV=0.6|STD=0.0|Time spend=6.596469163894653\n",
      "-----WARNING: Model s05 failed to learn: sum(ans)=1200.0 sum(y)=720.0 len(y)=1200\n",
      "\tAROUSAL-s06|Acc=0.60833|10-CV=0.589|STD=0.01342|Time spend=5.653823614120483\n",
      "\tVALENCE-s06|Acc=0.75|10-CV=0.75|STD=0.0|Time spend=6.53239369392395\n",
      "-----WARNING: Model s06 failed to learn: sum(ans)=1200.0 sum(y)=900.0 len(y)=1200\n",
      "\tAROUSAL-s07|Acc=0.67083|10-CV=0.66867|STD=0.01013|Time spend=5.485066175460815\n",
      "\tVALENCE-s07|Acc=0.7|10-CV=0.7|STD=0.0|Time spend=6.383302450180054\n",
      "-----WARNING: Model s07 failed to learn: sum(ans)=1200.0 sum(y)=840.0 len(y)=1200\n",
      "\tAROUSAL-s08|Acc=0.59417|10-CV=0.573|STD=0.00433|Time spend=5.77390456199646\n",
      "\tVALENCE-s08|Acc=0.635|10-CV=0.60133|STD=0.01327|Time spend=6.930157661437988\n",
      "\tAROUSAL-s09|Acc=0.61667|10-CV=0.606|STD=0.00593|Time spend=5.443854331970215\n",
      "\tVALENCE-s09|Acc=0.62833|10-CV=0.62233|STD=0.02757|Time spend=6.565145969390869\n",
      "\tAROUSAL-s10|Acc=0.6|10-CV=0.58|STD=0.02044|Time spend=5.54261040687561\n",
      "\tVALENCE-s10|Acc=0.7775|10-CV=0.77233|STD=0.02595|Time spend=6.523389577865601\n",
      "\tAROUSAL-s11|Acc=0.625|10-CV=0.62467|STD=0.00163|Time spend=5.460717439651489\n",
      "-----WARNING: Model s11 failed to learn: sum(ans)=0.0 sum(y)=450.0 len(y)=1200\n",
      "\tVALENCE-s11|Acc=0.60917|10-CV=0.60533|STD=0.00521|Time spend=6.5198423862457275\n",
      "\tAROUSAL-s12|Acc=0.825|10-CV=0.82533|STD=0.00163|Time spend=5.1955156326293945\n",
      "-----WARNING: Model s12 failed to learn: sum(ans)=1200.0 sum(y)=990.0 len(y)=1200\n",
      "\tVALENCE-s12|Acc=0.62083|10-CV=0.60033|STD=0.01449|Time spend=6.314404487609863\n",
      "\tAROUSAL-s13|Acc=0.85|10-CV=0.85|STD=0.0|Time spend=4.975753545761108\n",
      "-----WARNING: Model s13 failed to learn: sum(ans)=1200.0 sum(y)=1020.0 len(y)=1200\n",
      "\tVALENCE-s13|Acc=0.66417|10-CV=0.65833|STD=0.015|Time spend=6.0322370529174805\n",
      "\tAROUSAL-s14|Acc=0.675|10-CV=0.67433|STD=0.00153|Time spend=5.362853050231934\n",
      "-----WARNING: Model s14 failed to learn: sum(ans)=1200.0 sum(y)=810.0 len(y)=1200\n",
      "\tVALENCE-s14|Acc=0.62333|10-CV=0.602|STD=0.02202|Time spend=6.479007720947266\n",
      "\tAROUSAL-s15|Acc=0.67|10-CV=0.62567|STD=0.02989|Time spend=5.5872862339019775\n",
      "\tVALENCE-s15|Acc=0.7325|10-CV=0.723|STD=0.02383|Time spend=6.543261528015137\n",
      "\tAROUSAL-s16|Acc=0.665|10-CV=0.64767|STD=0.02399|Time spend=5.520846843719482\n",
      "\tVALENCE-s16|Acc=0.70917|10-CV=0.694|STD=0.01365|Time spend=6.55782151222229\n",
      "\tAROUSAL-s17|Acc=0.60167|10-CV=0.6|STD=0.0|Time spend=5.530056953430176\n",
      "\tVALENCE-s17|Acc=0.55|10-CV=0.55|STD=0.0|Time spend=6.827754259109497\n",
      "-----WARNING: Model s17 failed to learn: sum(ans)=1200.0 sum(y)=660.0 len(y)=1200\n",
      "\tAROUSAL-s18|Acc=0.625|10-CV=0.62567|STD=0.00153|Time spend=5.590884447097778\n",
      "-----WARNING: Model s18 failed to learn: sum(ans)=1200.0 sum(y)=750.0 len(y)=1200\n",
      "\tVALENCE-s18|Acc=0.73333|10-CV=0.72767|STD=0.02659|Time spend=6.532222270965576\n",
      "\tAROUSAL-s19|Acc=0.675|10-CV=0.674|STD=0.00133|Time spend=5.346062898635864\n",
      "-----WARNING: Model s19 failed to learn: sum(ans)=1200.0 sum(y)=810.0 len(y)=1200\n",
      "\tVALENCE-s19|Acc=0.625|10-CV=0.60167|STD=0.01945|Time spend=6.423395156860352\n",
      "\tAROUSAL-s20|Acc=0.775|10-CV=0.775|STD=0.00167|Time spend=5.24894380569458\n",
      "-----WARNING: Model s20 failed to learn: sum(ans)=1200.0 sum(y)=930.0 len(y)=1200\n",
      "\tVALENCE-s20|Acc=0.67833|10-CV=0.66433|STD=0.02521|Time spend=6.342333793640137\n",
      "\tAROUSAL-s21|Acc=0.8|10-CV=0.8|STD=0.0|Time spend=5.432548761367798\n",
      "-----WARNING: Model s21 failed to learn: sum(ans)=1200.0 sum(y)=960.0 len(y)=1200\n",
      "\tVALENCE-s21|Acc=0.525|10-CV=0.52467|STD=0.00221|Time spend=6.683500289916992\n",
      "-----WARNING: Model s21 failed to learn: sum(ans)=1200.0 sum(y)=630.0 len(y)=1200\n",
      "\tAROUSAL-s22|Acc=0.6|10-CV=0.6|STD=0.0|Time spend=5.515929698944092\n",
      "-----WARNING: Model s22 failed to learn: sum(ans)=1200.0 sum(y)=720.0 len(y)=1200\n",
      "\tVALENCE-s22|Acc=0.63083|10-CV=0.62733|STD=0.01298|Time spend=6.625113248825073\n",
      "\tAROUSAL-s23|Acc=0.75|10-CV=0.75|STD=0.0|Time spend=5.0890302658081055\n",
      "-----WARNING: Model s23 failed to learn: sum(ans)=0.0 sum(y)=300.0 len(y)=1200\n",
      "\tVALENCE-s23|Acc=0.69083|10-CV=0.65433|STD=0.00616|Time spend=6.137742757797241\n",
      "\tAROUSAL-s24|Acc=0.825|10-CV=0.82533|STD=0.00163|Time spend=5.155319690704346\n",
      "-----WARNING: Model s24 failed to learn: sum(ans)=1200.0 sum(y)=990.0 len(y)=1200\n",
      "\tVALENCE-s24|Acc=0.5775|10-CV=0.576|STD=0.02065|Time spend=6.3665032386779785\n",
      "\tAROUSAL-s25|Acc=0.725|10-CV=0.72667|STD=0.0|Time spend=5.228461027145386\n",
      "-----WARNING: Model s25 failed to learn: sum(ans)=1200.0 sum(y)=870.0 len(y)=1200\n",
      "\tVALENCE-s25|Acc=0.52417|10-CV=0.521|STD=0.01184|Time spend=6.427196264266968\n",
      "\tAROUSAL-s26|Acc=0.61167|10-CV=0.59867|STD=0.01746|Time spend=5.448181867599487\n",
      "\tVALENCE-s26|Acc=0.65|10-CV=0.65|STD=0.0|Time spend=6.478358268737793\n",
      "-----WARNING: Model s26 failed to learn: sum(ans)=1200.0 sum(y)=780.0 len(y)=1200\n",
      "\tAROUSAL-s27|Acc=0.70667|10-CV=0.68833|STD=0.00734|Time spend=5.4263927936553955\n",
      "\tVALENCE-s27|Acc=0.75|10-CV=0.75|STD=0.0|Time spend=6.207224130630493\n",
      "-----WARNING: Model s27 failed to learn: sum(ans)=1200.0 sum(y)=900.0 len(y)=1200\n",
      "\tAROUSAL-s28|Acc=0.56167|10-CV=0.56233|STD=0.00716|Time spend=5.568199396133423\n",
      "\tVALENCE-s28|Acc=0.625|10-CV=0.62567|STD=0.00153|Time spend=6.595222234725952\n",
      "-----WARNING: Model s28 failed to learn: sum(ans)=1200.0 sum(y)=750.0 len(y)=1200\n",
      "\tAROUSAL-s29|Acc=0.6275|10-CV=0.62567|STD=0.00153|Time spend=5.465750694274902\n",
      "\tVALENCE-s29|Acc=0.63583|10-CV=0.62867|STD=0.01869|Time spend=6.570560455322266\n",
      "\tAROUSAL-s30|Acc=0.58583|10-CV=0.57367|STD=0.0322|Time spend=5.583702802658081\n",
      "\tVALENCE-s30|Acc=0.675|10-CV=0.67433|STD=0.00153|Time spend=6.572044134140015\n",
      "-----WARNING: Model s30 failed to learn: sum(ans)=1200.0 sum(y)=810.0 len(y)=1200\n",
      "\tAROUSAL-s31|Acc=0.68417|10-CV=0.658|STD=0.02177|Time spend=5.558100938796997\n",
      "\tVALENCE-s31|Acc=0.6175|10-CV=0.58433|STD=0.01033|Time spend=6.672121047973633\n",
      "\tAROUSAL-s32|Acc=0.675|10-CV=0.67433|STD=0.00153|Time spend=5.321379661560059\n",
      "-----WARNING: Model s32 failed to learn: sum(ans)=1200.0 sum(y)=810.0 len(y)=1200\n",
      "\tVALENCE-s32|Acc=0.60083|10-CV=0.59733|STD=0.01896|Time spend=6.413317918777466\n",
      "AROUSAL|Acc=0.6718750000000002|10-CV=0.6632708333333335|STD=0.008160200462378284\n",
      "VALENCE|Acc=0.6420052083333334|10-CV=0.6308020833333334|STD=0.0119835007500816\n",
      "TOTAL|Acc=0.6569401041666668|10-CV=0.6470364583333333|STD=0.01007185060622994\n"
     ]
    }
   ],
   "source": [
    "for text in reports:\n",
    "    if(text == None): continue\n",
    "    print(text)\n",
    "\n",
    "accs.extend(accs_v)\n",
    "cv_means.extend(cv_means_v)\n",
    "cv_stds.extend(cv_stds_v)\n",
    "print(f\"TOTAL|Acc={sum(accs)/len(accs)}|10-CV={sum(cv_means)/len(cv_means)}|STD={sum(cv_stds)/len(cv_stds)}\")"
   ]
  },
  {
   "cell_type": "markdown",
   "metadata": {},
   "source": [
    "### 4.2 $ \\text{PCC}_{freq} (i,j) = \\frac{\\text{Cov}[\\hat{\\mathbf{X}}_i, \\hat{\\mathbf{X}}_j]}{\\sigma_{\\hat{\\mathbf{X}}_i} \\sigma_{\\hat{\\mathbf{X}}_j}} $"
   ]
  },
  {
   "cell_type": "code",
   "execution_count": 10,
   "metadata": {},
   "outputs": [],
   "source": [
    "def calculate_fft(signal, sfreq):\n",
    "    \"\"\" signal: can be 1D array of (n_sample,) or 2D array of (n_signal, n_sample)  \"\"\"\n",
    "    number_sample = signal.shape[-1]\n",
    "\n",
    "    # the result will be a complex number. We can obtain the magnitude using `absolute`\n",
    "    magnitude = np.abs(np.fft.fft(signal))\n",
    "    # scale the result\n",
    "    magnitude = magnitude / (number_sample/2)\n",
    "    # Selecting the range\n",
    "    magnitude = magnitude.T[:number_sample//2].T\n",
    "    freq_range = np.fft.fftfreq(number_sample, d=1/sfreq)[:number_sample//2]\n",
    "\n",
    "    return magnitude, freq_range"
   ]
  },
  {
   "cell_type": "code",
   "execution_count": 11,
   "metadata": {},
   "outputs": [
    {
     "data": {
      "application/vnd.jupyter.widget-view+json": {
       "model_id": "03f1c006b6f647aebeb3ae668c197362",
       "version_major": 2,
       "version_minor": 0
      },
      "text/plain": [
       "  0%|          | 0/32 [00:00<?, ?it/s]"
      ]
     },
     "metadata": {},
     "output_type": "display_data"
    },
    {
     "name": "stdout",
     "output_type": "stream",
     "text": [
      "Fitted sphere radius:         95.3 mm\n",
      "Origin head coordinates:      -0.8 15.1 45.3 mm\n",
      "Origin device coordinates:    -0.8 15.1 45.3 mm\n",
      "========= close ========\n",
      "\tAROUSAL-s01|Acc=0.815|10-CV=0.65867|STD=0.02099|Time spend=5.471814393997192\n",
      "\tVALENCE-s01|Acc=0.82417|10-CV=0.55967|STD=0.01835|Time spend=6.653813600540161\n",
      "Fitted sphere radius:         95.3 mm\n",
      "Origin head coordinates:      -0.8 15.1 45.3 mm\n",
      "Origin device coordinates:    -0.8 15.1 45.3 mm\n",
      "========= close ========\n",
      "\tAROUSAL-s02|Acc=0.66083|10-CV=0.62167|STD=0.01765|Time spend=5.478224515914917\n",
      "\tVALENCE-s02|Acc=0.64333|10-CV=0.59967|STD=0.02597|Time spend=6.657634973526001\n",
      "Fitted sphere radius:         95.3 mm\n",
      "Origin head coordinates:      -0.8 15.1 45.3 mm\n",
      "Origin device coordinates:    -0.8 15.1 45.3 mm\n",
      "========= close ========\n",
      "\tAROUSAL-s03|Acc=0.8|10-CV=0.8|STD=0.0|Time spend=5.13618278503418\n",
      "\tVALENCE-s03|Acc=0.65583|10-CV=0.58233|STD=0.01627|Time spend=6.334866523742676\n",
      "Fitted sphere radius:         95.3 mm\n",
      "Origin head coordinates:      -0.8 15.1 45.3 mm\n",
      "Origin device coordinates:    -0.8 15.1 45.3 mm\n",
      "========= close ========\n",
      "\tAROUSAL-s04|Acc=0.64667|10-CV=0.60567|STD=0.00932|Time spend=5.437614917755127\n",
      "\tVALENCE-s04|Acc=0.6425|10-CV=0.60467|STD=0.01827|Time spend=6.484172344207764\n",
      "Fitted sphere radius:         95.3 mm\n",
      "Origin head coordinates:      -0.8 15.1 45.3 mm\n",
      "Origin device coordinates:    -0.8 15.1 45.3 mm\n",
      "========= close ========\n",
      "\tAROUSAL-s05|Acc=0.64833|10-CV=0.57367|STD=0.01986|Time spend=5.846257209777832\n",
      "\tVALENCE-s05|Acc=0.63|10-CV=0.60233|STD=0.00716|Time spend=6.936567783355713\n",
      "Fitted sphere radius:         95.3 mm\n",
      "Origin head coordinates:      -0.8 15.1 45.3 mm\n",
      "Origin device coordinates:    -0.8 15.1 45.3 mm\n",
      "========= close ========\n",
      "\tAROUSAL-s06|Acc=0.695|10-CV=0.63367|STD=0.01479|Time spend=5.5703840255737305\n",
      "\tVALENCE-s06|Acc=0.75167|10-CV=0.74933|STD=0.002|Time spend=6.496253728866577\n",
      "Fitted sphere radius:         95.3 mm\n",
      "Origin head coordinates:      -0.8 15.1 45.3 mm\n",
      "Origin device coordinates:    -0.8 15.1 45.3 mm\n",
      "========= close ========\n",
      "\tAROUSAL-s07|Acc=0.73583|10-CV=0.67367|STD=0.01735|Time spend=5.707255601882935\n",
      "\tVALENCE-s07|Acc=0.77833|10-CV=0.73067|STD=0.00841|Time spend=6.616023063659668\n",
      "Fitted sphere radius:         95.3 mm\n",
      "Origin head coordinates:      -0.8 15.1 45.3 mm\n",
      "Origin device coordinates:    -0.8 15.1 45.3 mm\n",
      "========= close ========\n",
      "\tAROUSAL-s08|Acc=0.71|10-CV=0.598|STD=0.02579|Time spend=5.636946678161621\n",
      "\tVALENCE-s08|Acc=0.71167|10-CV=0.60267|STD=0.01315|Time spend=6.788402080535889\n",
      "Fitted sphere radius:         95.3 mm\n",
      "Origin head coordinates:      -0.8 15.1 45.3 mm\n",
      "Origin device coordinates:    -0.8 15.1 45.3 mm\n",
      "========= close ========\n",
      "\tAROUSAL-s09|Acc=0.64917|10-CV=0.629|STD=0.00932|Time spend=5.505757093429565\n",
      "\tVALENCE-s09|Acc=0.68833|10-CV=0.65433|STD=0.02413|Time spend=6.557152271270752\n",
      "Fitted sphere radius:         95.3 mm\n",
      "Origin head coordinates:      -0.8 15.1 45.3 mm\n",
      "Origin device coordinates:    -0.8 15.1 45.3 mm\n",
      "========= close ========\n",
      "\tAROUSAL-s10|Acc=0.715|10-CV=0.64433|STD=0.02486|Time spend=5.525827407836914\n",
      "\tVALENCE-s10|Acc=0.82833|10-CV=0.791|STD=0.02813|Time spend=6.396880388259888\n",
      "Fitted sphere radius:         95.3 mm\n",
      "Origin head coordinates:      -0.8 15.1 45.3 mm\n",
      "Origin device coordinates:    -0.8 15.1 45.3 mm\n",
      "========= close ========\n",
      "\tAROUSAL-s11|Acc=0.645|10-CV=0.63833|STD=0.00833|Time spend=5.4545252323150635\n",
      "\tVALENCE-s11|Acc=0.66167|10-CV=0.64833|STD=0.01544|Time spend=6.441051721572876\n",
      "Fitted sphere radius:         95.3 mm\n",
      "Origin head coordinates:      -0.8 15.1 45.3 mm\n",
      "Origin device coordinates:    -0.8 15.1 45.3 mm\n",
      "========= close ========\n",
      "\tAROUSAL-s12|Acc=0.825|10-CV=0.82533|STD=0.00163|Time spend=5.267337322235107\n",
      "\tVALENCE-s12|Acc=0.70917|10-CV=0.634|STD=0.02294|Time spend=6.344989061355591\n",
      "Fitted sphere radius:         95.3 mm\n",
      "Origin head coordinates:      -0.8 15.1 45.3 mm\n",
      "Origin device coordinates:    -0.8 15.1 45.3 mm\n",
      "========= close ========\n",
      "\tAROUSAL-s13|Acc=0.85|10-CV=0.85|STD=0.0|Time spend=5.131534099578857\n",
      "\tVALENCE-s13|Acc=0.69833|10-CV=0.65633|STD=0.0176|Time spend=6.195447206497192\n",
      "Fitted sphere radius:         95.3 mm\n",
      "Origin head coordinates:      -0.8 15.1 45.3 mm\n",
      "Origin device coordinates:    -0.8 15.1 45.3 mm\n",
      "========= close ========\n",
      "\tAROUSAL-s14|Acc=0.67833|10-CV=0.67433|STD=0.00213|Time spend=5.435062646865845\n",
      "\tVALENCE-s14|Acc=0.6925|10-CV=0.62667|STD=0.01886|Time spend=6.63834285736084\n",
      "Fitted sphere radius:         95.3 mm\n",
      "Origin head coordinates:      -0.8 15.1 45.3 mm\n",
      "Origin device coordinates:    -0.8 15.1 45.3 mm\n",
      "========= close ========\n",
      "\tAROUSAL-s15|Acc=0.7775|10-CV=0.694|STD=0.03176|Time spend=5.734315872192383\n",
      "\tVALENCE-s15|Acc=0.82|10-CV=0.76033|STD=0.02669|Time spend=6.655998945236206\n",
      "Fitted sphere radius:         95.3 mm\n",
      "Origin head coordinates:      -0.8 15.1 45.3 mm\n",
      "Origin device coordinates:    -0.8 15.1 45.3 mm\n",
      "========= close ========\n",
      "\tAROUSAL-s16|Acc=0.7375|10-CV=0.65|STD=0.0253|Time spend=5.601420164108276\n",
      "\tVALENCE-s16|Acc=0.74|10-CV=0.69667|STD=0.02404|Time spend=6.5653464794158936\n",
      "Fitted sphere radius:         95.3 mm\n",
      "Origin head coordinates:      -0.8 15.1 45.3 mm\n",
      "Origin device coordinates:    -0.8 15.1 45.3 mm\n",
      "========= close ========\n",
      "\tAROUSAL-s17|Acc=0.6825|10-CV=0.65867|STD=0.02786|Time spend=5.566525459289551\n",
      "\tVALENCE-s17|Acc=0.61333|10-CV=0.579|STD=0.01764|Time spend=6.722369194030762\n",
      "Fitted sphere radius:         95.3 mm\n",
      "Origin head coordinates:      -0.8 15.1 45.3 mm\n",
      "Origin device coordinates:    -0.8 15.1 45.3 mm\n",
      "========= close ========\n",
      "\tAROUSAL-s18|Acc=0.68667|10-CV=0.65967|STD=0.01456|Time spend=5.440162658691406\n",
      "\tVALENCE-s18|Acc=0.7775|10-CV=0.73867|STD=0.02083|Time spend=6.3127946853637695\n",
      "Fitted sphere radius:         95.3 mm\n",
      "Origin head coordinates:      -0.8 15.1 45.3 mm\n",
      "Origin device coordinates:    -0.8 15.1 45.3 mm\n",
      "========= close ========\n",
      "\tAROUSAL-s19|Acc=0.7125|10-CV=0.691|STD=0.00667|Time spend=5.520467281341553\n",
      "\tVALENCE-s19|Acc=0.68|10-CV=0.61167|STD=0.01485|Time spend=6.609727144241333\n",
      "Fitted sphere radius:         95.3 mm\n",
      "Origin head coordinates:      -0.8 15.1 45.3 mm\n",
      "Origin device coordinates:    -0.8 15.1 45.3 mm\n",
      "========= close ========\n",
      "\tAROUSAL-s20|Acc=0.775|10-CV=0.775|STD=0.00167|Time spend=5.399418354034424\n",
      "\tVALENCE-s20|Acc=0.74917|10-CV=0.663|STD=0.02073|Time spend=6.430097341537476\n",
      "Fitted sphere radius:         95.3 mm\n",
      "Origin head coordinates:      -0.8 15.1 45.3 mm\n",
      "Origin device coordinates:    -0.8 15.1 45.3 mm\n",
      "========= close ========\n",
      "\tAROUSAL-s21|Acc=0.8|10-CV=0.8|STD=0.0|Time spend=5.281970739364624\n",
      "\tVALENCE-s21|Acc=0.63167|10-CV=0.54167|STD=0.01996|Time spend=6.50550389289856\n",
      "Fitted sphere radius:         95.3 mm\n",
      "Origin head coordinates:      -0.8 15.1 45.3 mm\n",
      "Origin device coordinates:    -0.8 15.1 45.3 mm\n",
      "========= close ========\n",
      "\tAROUSAL-s22|Acc=0.60083|10-CV=0.59233|STD=0.01248|Time spend=5.494937181472778\n",
      "\tVALENCE-s22|Acc=0.6425|10-CV=0.638|STD=0.01213|Time spend=6.491251707077026\n",
      "Fitted sphere radius:         95.3 mm\n",
      "Origin head coordinates:      -0.8 15.1 45.3 mm\n",
      "Origin device coordinates:    -0.8 15.1 45.3 mm\n",
      "========= close ========\n",
      "\tAROUSAL-s23|Acc=0.755|10-CV=0.75|STD=0.0|Time spend=5.229719161987305\n",
      "\tVALENCE-s23|Acc=0.77583|10-CV=0.71167|STD=0.00806|Time spend=6.225430250167847\n",
      "Fitted sphere radius:         95.3 mm\n",
      "Origin head coordinates:      -0.8 15.1 45.3 mm\n",
      "Origin device coordinates:    -0.8 15.1 45.3 mm\n",
      "========= close ========\n",
      "\tAROUSAL-s24|Acc=0.825|10-CV=0.82533|STD=0.00163|Time spend=5.273504257202148\n",
      "\tVALENCE-s24|Acc=0.6425|10-CV=0.568|STD=0.02104|Time spend=6.4271533489227295\n",
      "Fitted sphere radius:         95.3 mm\n",
      "Origin head coordinates:      -0.8 15.1 45.3 mm\n",
      "Origin device coordinates:    -0.8 15.1 45.3 mm\n",
      "========= close ========\n",
      "\tAROUSAL-s25|Acc=0.725|10-CV=0.72667|STD=0.0|Time spend=5.412022590637207\n",
      "\tVALENCE-s25|Acc=0.61167|10-CV=0.55533|STD=0.02083|Time spend=6.571451902389526\n",
      "Fitted sphere radius:         95.3 mm\n",
      "Origin head coordinates:      -0.8 15.1 45.3 mm\n",
      "Origin device coordinates:    -0.8 15.1 45.3 mm\n",
      "========= close ========\n",
      "\tAROUSAL-s26|Acc=0.665|10-CV=0.60067|STD=0.02026|Time spend=5.569682836532593\n",
      "\tVALENCE-s26|Acc=0.6525|10-CV=0.64967|STD=0.001|Time spend=6.6292643547058105\n",
      "Fitted sphere radius:         95.3 mm\n",
      "Origin head coordinates:      -0.8 15.1 45.3 mm\n",
      "Origin device coordinates:    -0.8 15.1 45.3 mm\n",
      "========= close ========\n",
      "\tAROUSAL-s27|Acc=0.7725|10-CV=0.715|STD=0.00885|Time spend=5.402409315109253\n",
      "\tVALENCE-s27|Acc=0.79333|10-CV=0.76333|STD=0.0073|Time spend=6.21321439743042\n",
      "Fitted sphere radius:         95.3 mm\n",
      "Origin head coordinates:      -0.8 15.1 45.3 mm\n",
      "Origin device coordinates:    -0.8 15.1 45.3 mm\n",
      "========= close ========\n",
      "\tAROUSAL-s28|Acc=0.59167|10-CV=0.55533|STD=0.01327|Time spend=5.583473443984985\n",
      "\tVALENCE-s28|Acc=0.62917|10-CV=0.62667|STD=0.00149|Time spend=6.664721250534058\n",
      "Fitted sphere radius:         95.3 mm\n",
      "Origin head coordinates:      -0.8 15.1 45.3 mm\n",
      "Origin device coordinates:    -0.8 15.1 45.3 mm\n",
      "========= close ========\n",
      "\tAROUSAL-s29|Acc=0.685|10-CV=0.64033|STD=0.0096|Time spend=5.521729469299316\n",
      "\tVALENCE-s29|Acc=0.69833|10-CV=0.64367|STD=0.01912|Time spend=6.670150279998779\n",
      "Fitted sphere radius:         95.3 mm\n",
      "Origin head coordinates:      -0.8 15.1 45.3 mm\n",
      "Origin device coordinates:    -0.8 15.1 45.3 mm\n",
      "========= close ========\n",
      "\tAROUSAL-s30|Acc=0.6875|10-CV=0.60067|STD=0.02992|Time spend=5.678839921951294\n",
      "\tVALENCE-s30|Acc=0.675|10-CV=0.67433|STD=0.00153|Time spend=6.7127509117126465\n",
      "Fitted sphere radius:         95.3 mm\n",
      "Origin head coordinates:      -0.8 15.1 45.3 mm\n",
      "Origin device coordinates:    -0.8 15.1 45.3 mm\n",
      "========= close ========\n",
      "\tAROUSAL-s31|Acc=0.77083|10-CV=0.63167|STD=0.02544|Time spend=5.554458856582642\n",
      "\tVALENCE-s31|Acc=0.75667|10-CV=0.61533|STD=0.01875|Time spend=6.7935709953308105\n",
      "Fitted sphere radius:         95.3 mm\n",
      "Origin head coordinates:      -0.8 15.1 45.3 mm\n",
      "Origin device coordinates:    -0.8 15.1 45.3 mm\n",
      "========= close ========\n",
      "\tAROUSAL-s32|Acc=0.70167|10-CV=0.67667|STD=0.00577|Time spend=5.856151580810547\n",
      "\tVALENCE-s32|Acc=0.6525|10-CV=0.60467|STD=0.01529|Time spend=6.962893009185791\n",
      "AROUSAL|Acc=0.7195572916666666|10-CV=0.6771666666666667|STD=0.012720371742569177\n",
      "VALENCE|Acc=0.7017968750000001|10-CV=0.6463645833333334|STD=0.015872745086004465\n"
     ]
    }
   ],
   "source": [
    "accs, cv_means, cv_stds = [],[],[]\n",
    "accs_v, cv_means_v, cv_stds_v = [],[],[]\n",
    "reports = []\n",
    "for filename in (pbar := tqdm(dataset.get_file_list())):\n",
    "    start = time.time()\n",
    "    pbar.set_description(filename)\n",
    "    data, labels, groups = dataset.get_data(filename, stimuli=Dataset_subjectDependent.STIMULI_AROUSAL, return_type='mne', sfreq=128)\n",
    "    \n",
    "    data_csd = mne.preprocessing.compute_current_source_density(data)\n",
    "    magnitude, freq_range = calculate_fft(data_csd.get_data(), 128)\n",
    "    pcc = calculate_pcc(magnitude)\n",
    "    _,acc,cross,train_report = train_model(pcc, labels.squeeze(), groups, filename=filename, return_text=True)\n",
    "    report = f\"\\tAROUSAL-{filename}|Acc={round(acc,5)}|10-CV={round(cross.mean(),5)}|STD={round(cross.std(),5)}|Time spend={time.time() - start}\"\n",
    "    print(report)\n",
    "    reports.append(report)\n",
    "    reports.append(train_report)\n",
    "    accs.append(acc)\n",
    "    cv_means.append(cross.mean())\n",
    "    cv_stds.append(cross.std())\n",
    "\n",
    "    _, labels_v, groups_v = dataset.get_data(filename, stimuli=Dataset_subjectDependent.STIMULI_VALENCE, return_type='mne', sfreq=128)\n",
    "    _,acc,cross,train_report = train_model(pcc, labels_v.squeeze(), groups_v, filename=filename, return_text=True)\n",
    "    report = f\"\\tVALENCE-{filename}|Acc={round(acc,5)}|10-CV={round(cross.mean(),5)}|STD={round(cross.std(),5)}|Time spend={time.time() - start}\"\n",
    "    print(report)\n",
    "    reports.append(report)\n",
    "    reports.append(train_report)\n",
    "    accs_v.append(acc)\n",
    "    cv_means_v.append(cross.mean())\n",
    "    cv_stds_v.append(cross.std())\n",
    "    # break\n",
    "    # count+=1\n",
    "    # if(count == 5): break\n",
    "report = f\"AROUSAL|Acc={sum(accs)/len(accs)}|10-CV={sum(cv_means)/len(cv_means)}|STD={sum(cv_stds)/len(cv_stds)}\"\n",
    "print(report)\n",
    "reports.append(report)\n",
    "report = f\"VALENCE|Acc={sum(accs_v)/len(accs_v)}|10-CV={sum(cv_means_v)/len(cv_means_v)}|STD={sum(cv_stds_v)/len(cv_stds_v)}\"\n",
    "print(report)\n",
    "reports.append(report)"
   ]
  },
  {
   "cell_type": "code",
   "execution_count": 12,
   "metadata": {},
   "outputs": [
    {
     "name": "stdout",
     "output_type": "stream",
     "text": [
      "\tAROUSAL-s01|Acc=0.815|10-CV=0.65867|STD=0.02099|Time spend=5.471814393997192\n",
      "\tVALENCE-s01|Acc=0.82417|10-CV=0.55967|STD=0.01835|Time spend=6.653813600540161\n",
      "\tAROUSAL-s02|Acc=0.66083|10-CV=0.62167|STD=0.01765|Time spend=5.478224515914917\n",
      "\tVALENCE-s02|Acc=0.64333|10-CV=0.59967|STD=0.02597|Time spend=6.657634973526001\n",
      "\tAROUSAL-s03|Acc=0.8|10-CV=0.8|STD=0.0|Time spend=5.13618278503418\n",
      "-----WARNING: Model s03 failed to learn: sum(ans)=0.0 sum(y)=240.0 len(y)=1200\n",
      "\tVALENCE-s03|Acc=0.65583|10-CV=0.58233|STD=0.01627|Time spend=6.334866523742676\n",
      "\tAROUSAL-s04|Acc=0.64667|10-CV=0.60567|STD=0.00932|Time spend=5.437614917755127\n",
      "\tVALENCE-s04|Acc=0.6425|10-CV=0.60467|STD=0.01827|Time spend=6.484172344207764\n",
      "\tAROUSAL-s05|Acc=0.64833|10-CV=0.57367|STD=0.01986|Time spend=5.846257209777832\n",
      "\tVALENCE-s05|Acc=0.63|10-CV=0.60233|STD=0.00716|Time spend=6.936567783355713\n",
      "\tAROUSAL-s06|Acc=0.695|10-CV=0.63367|STD=0.01479|Time spend=5.5703840255737305\n",
      "\tVALENCE-s06|Acc=0.75167|10-CV=0.74933|STD=0.002|Time spend=6.496253728866577\n",
      "\tAROUSAL-s07|Acc=0.73583|10-CV=0.67367|STD=0.01735|Time spend=5.707255601882935\n",
      "\tVALENCE-s07|Acc=0.77833|10-CV=0.73067|STD=0.00841|Time spend=6.616023063659668\n",
      "\tAROUSAL-s08|Acc=0.71|10-CV=0.598|STD=0.02579|Time spend=5.636946678161621\n",
      "\tVALENCE-s08|Acc=0.71167|10-CV=0.60267|STD=0.01315|Time spend=6.788402080535889\n",
      "\tAROUSAL-s09|Acc=0.64917|10-CV=0.629|STD=0.00932|Time spend=5.505757093429565\n",
      "\tVALENCE-s09|Acc=0.68833|10-CV=0.65433|STD=0.02413|Time spend=6.557152271270752\n",
      "\tAROUSAL-s10|Acc=0.715|10-CV=0.64433|STD=0.02486|Time spend=5.525827407836914\n",
      "\tVALENCE-s10|Acc=0.82833|10-CV=0.791|STD=0.02813|Time spend=6.396880388259888\n",
      "\tAROUSAL-s11|Acc=0.645|10-CV=0.63833|STD=0.00833|Time spend=5.4545252323150635\n",
      "\tVALENCE-s11|Acc=0.66167|10-CV=0.64833|STD=0.01544|Time spend=6.441051721572876\n",
      "\tAROUSAL-s12|Acc=0.825|10-CV=0.82533|STD=0.00163|Time spend=5.267337322235107\n",
      "-----WARNING: Model s12 failed to learn: sum(ans)=1200.0 sum(y)=990.0 len(y)=1200\n",
      "\tVALENCE-s12|Acc=0.70917|10-CV=0.634|STD=0.02294|Time spend=6.344989061355591\n",
      "\tAROUSAL-s13|Acc=0.85|10-CV=0.85|STD=0.0|Time spend=5.131534099578857\n",
      "-----WARNING: Model s13 failed to learn: sum(ans)=1200.0 sum(y)=1020.0 len(y)=1200\n",
      "\tVALENCE-s13|Acc=0.69833|10-CV=0.65633|STD=0.0176|Time spend=6.195447206497192\n",
      "\tAROUSAL-s14|Acc=0.67833|10-CV=0.67433|STD=0.00213|Time spend=5.435062646865845\n",
      "\tVALENCE-s14|Acc=0.6925|10-CV=0.62667|STD=0.01886|Time spend=6.63834285736084\n",
      "\tAROUSAL-s15|Acc=0.7775|10-CV=0.694|STD=0.03176|Time spend=5.734315872192383\n",
      "\tVALENCE-s15|Acc=0.82|10-CV=0.76033|STD=0.02669|Time spend=6.655998945236206\n",
      "\tAROUSAL-s16|Acc=0.7375|10-CV=0.65|STD=0.0253|Time spend=5.601420164108276\n",
      "\tVALENCE-s16|Acc=0.74|10-CV=0.69667|STD=0.02404|Time spend=6.5653464794158936\n",
      "\tAROUSAL-s17|Acc=0.6825|10-CV=0.65867|STD=0.02786|Time spend=5.566525459289551\n",
      "\tVALENCE-s17|Acc=0.61333|10-CV=0.579|STD=0.01764|Time spend=6.722369194030762\n",
      "\tAROUSAL-s18|Acc=0.68667|10-CV=0.65967|STD=0.01456|Time spend=5.440162658691406\n",
      "\tVALENCE-s18|Acc=0.7775|10-CV=0.73867|STD=0.02083|Time spend=6.3127946853637695\n",
      "\tAROUSAL-s19|Acc=0.7125|10-CV=0.691|STD=0.00667|Time spend=5.520467281341553\n",
      "\tVALENCE-s19|Acc=0.68|10-CV=0.61167|STD=0.01485|Time spend=6.609727144241333\n",
      "\tAROUSAL-s20|Acc=0.775|10-CV=0.775|STD=0.00167|Time spend=5.399418354034424\n",
      "-----WARNING: Model s20 failed to learn: sum(ans)=1200.0 sum(y)=930.0 len(y)=1200\n",
      "\tVALENCE-s20|Acc=0.74917|10-CV=0.663|STD=0.02073|Time spend=6.430097341537476\n",
      "\tAROUSAL-s21|Acc=0.8|10-CV=0.8|STD=0.0|Time spend=5.281970739364624\n",
      "-----WARNING: Model s21 failed to learn: sum(ans)=1200.0 sum(y)=960.0 len(y)=1200\n",
      "\tVALENCE-s21|Acc=0.63167|10-CV=0.54167|STD=0.01996|Time spend=6.50550389289856\n",
      "\tAROUSAL-s22|Acc=0.60083|10-CV=0.59233|STD=0.01248|Time spend=5.494937181472778\n",
      "\tVALENCE-s22|Acc=0.6425|10-CV=0.638|STD=0.01213|Time spend=6.491251707077026\n",
      "\tAROUSAL-s23|Acc=0.755|10-CV=0.75|STD=0.0|Time spend=5.229719161987305\n",
      "\tVALENCE-s23|Acc=0.77583|10-CV=0.71167|STD=0.00806|Time spend=6.225430250167847\n",
      "\tAROUSAL-s24|Acc=0.825|10-CV=0.82533|STD=0.00163|Time spend=5.273504257202148\n",
      "-----WARNING: Model s24 failed to learn: sum(ans)=1200.0 sum(y)=990.0 len(y)=1200\n",
      "\tVALENCE-s24|Acc=0.6425|10-CV=0.568|STD=0.02104|Time spend=6.4271533489227295\n",
      "\tAROUSAL-s25|Acc=0.725|10-CV=0.72667|STD=0.0|Time spend=5.412022590637207\n",
      "-----WARNING: Model s25 failed to learn: sum(ans)=1200.0 sum(y)=870.0 len(y)=1200\n",
      "\tVALENCE-s25|Acc=0.61167|10-CV=0.55533|STD=0.02083|Time spend=6.571451902389526\n",
      "\tAROUSAL-s26|Acc=0.665|10-CV=0.60067|STD=0.02026|Time spend=5.569682836532593\n",
      "\tVALENCE-s26|Acc=0.6525|10-CV=0.64967|STD=0.001|Time spend=6.6292643547058105\n",
      "\tAROUSAL-s27|Acc=0.7725|10-CV=0.715|STD=0.00885|Time spend=5.402409315109253\n",
      "\tVALENCE-s27|Acc=0.79333|10-CV=0.76333|STD=0.0073|Time spend=6.21321439743042\n",
      "\tAROUSAL-s28|Acc=0.59167|10-CV=0.55533|STD=0.01327|Time spend=5.583473443984985\n",
      "\tVALENCE-s28|Acc=0.62917|10-CV=0.62667|STD=0.00149|Time spend=6.664721250534058\n",
      "\tAROUSAL-s29|Acc=0.685|10-CV=0.64033|STD=0.0096|Time spend=5.521729469299316\n",
      "\tVALENCE-s29|Acc=0.69833|10-CV=0.64367|STD=0.01912|Time spend=6.670150279998779\n",
      "\tAROUSAL-s30|Acc=0.6875|10-CV=0.60067|STD=0.02992|Time spend=5.678839921951294\n",
      "\tVALENCE-s30|Acc=0.675|10-CV=0.67433|STD=0.00153|Time spend=6.7127509117126465\n",
      "-----WARNING: Model s30 failed to learn: sum(ans)=1200.0 sum(y)=810.0 len(y)=1200\n",
      "\tAROUSAL-s31|Acc=0.77083|10-CV=0.63167|STD=0.02544|Time spend=5.554458856582642\n",
      "\tVALENCE-s31|Acc=0.75667|10-CV=0.61533|STD=0.01875|Time spend=6.7935709953308105\n",
      "\tAROUSAL-s32|Acc=0.70167|10-CV=0.67667|STD=0.00577|Time spend=5.856151580810547\n",
      "\tVALENCE-s32|Acc=0.6525|10-CV=0.60467|STD=0.01529|Time spend=6.962893009185791\n",
      "AROUSAL|Acc=0.7195572916666666|10-CV=0.6771666666666667|STD=0.012720371742569177\n",
      "VALENCE|Acc=0.7017968750000001|10-CV=0.6463645833333334|STD=0.015872745086004465\n",
      "TOTAL|Acc=0.7106770833333333|10-CV=0.6617656249999999|STD=0.01429655841428682\n"
     ]
    }
   ],
   "source": [
    "for text in reports:\n",
    "    if(text == None): continue\n",
    "    print(text)\n",
    "\n",
    "accs.extend(accs_v)\n",
    "cv_means.extend(cv_means_v)\n",
    "cv_stds.extend(cv_stds_v)\n",
    "print(f\"TOTAL|Acc={sum(accs)/len(accs)}|10-CV={sum(cv_means)/len(cv_means)}|STD={sum(cv_stds)/len(cv_stds)}\")"
   ]
  },
  {
   "cell_type": "markdown",
   "metadata": {},
   "source": [
    "### 4.3 $ \\text{PLV}(j,k) = \\frac{1}{T} | \\Sigma^{T}_{t=1} e^{i(\\phi^{t}_{j} - \\phi^{t}_{k})}   | $"
   ]
  },
  {
   "cell_type": "code",
   "execution_count": 13,
   "metadata": {},
   "outputs": [],
   "source": [
    "# bands = [(0,4), (4,8), (8,12), (12,30), (30,64)]\n",
    "def calculate_stft(signals, sfreq):\n",
    "    from scipy import signal\n",
    "    f_range, t_range, Z = signal.stft(signals, sfreq, nperseg=sfreq//10, nfft=sfreq)\n",
    "    magnitude = np.abs(Z) \n",
    "    phase = np.angle(Z)\n",
    "    return magnitude, phase, f_range, t_range\n",
    "\n",
    "def PLV_stft(p_id, phase):\n",
    "    # (32, 65, 12) => (channels, freqs, times)\n",
    "    # print(f\"p_id:{p_id} - data to run {phase.shape}\")\n",
    "    print(phase.shape)\n",
    "    from itertools import combinations\n",
    "    plv = []\n",
    "    # count = 0\n",
    "    for index in range(phase.shape[0]):\n",
    "        plv_epoch = []\n",
    "        for comb in combinations(list(range(phase.shape[1])), 2):\n",
    "            # shape = (65,12)\n",
    "            phase_a, phase_b = phase[index, comb[0]], phase[index, comb[1]]\n",
    "            phase_diff = phase_a - phase_b\n",
    "            # sum along the time size\n",
    "            plv_ab = np.abs(np.average(np.exp(complex(0,1) * phase_diff), axis=1))\n",
    "            plv_epoch.append(plv_ab)\n",
    "        plv_epoch = np.vstack(plv_epoch)\n",
    "        # print(plv_epoch.shape) => (300, 32, 65, 23)\n",
    "        plv_epoch_5 = np.concatenate([ plv_epoch[:,0:4].mean(axis=1).reshape(-1,1),\n",
    "                                        plv_epoch[:,4:8].mean(axis=1).reshape(-1,1),\n",
    "                                        plv_epoch[:,8:12].mean(axis=1).reshape(-1,1),\n",
    "                                        plv_epoch[:,12:30].mean(axis=1).reshape(-1,1),\n",
    "                                        plv_epoch[:,30:65].mean(axis=1).reshape(-1,1)], axis=0)\n",
    "        plv.append(np.expand_dims(plv_epoch_5, axis=0))\n",
    "        # count += 1\n",
    "        # if(count == 3): break\n",
    "    # shape (496, 65)\n",
    "    # 496 is number of pairs that is not duplicate\n",
    "    # 65 is number of phase of frequencies\n",
    "    plv = np.vstack( plv )\n",
    "    return plv.squeeze()\n",
    "\n",
    "def calculate_plv(data, n_jobs=8):\n",
    "    \"\"\" \n",
    "    Input: Expect data to have (n_epochs, n_channels, n_samples)\n",
    "    Output: (n_epochs, n_conn, n_freqs ) => n_conn = n_channels!/(2!(n_channels-2)!)\n",
    "    \"\"\"\n",
    "    from multiprocessing import Pool\n",
    "\n",
    "    try:\n",
    "        t_out = 60000\n",
    "        pool = Pool()\n",
    "        p_list = []\n",
    "        ans_list = []\n",
    "        num_p = n_jobs\n",
    "        indices = np.array_split(np.arange(data.shape[0]), num_p)\n",
    "        _, phase, _, _ = calculate_stft(data, 128)\n",
    "        for p_id in range(num_p):\n",
    "            p_list.append(pool.apply_async(PLV_stft, [p_id, phase[indices[p_id]] ]))\n",
    "        for p_id in range(num_p):\n",
    "            ans_list.append( p_list[p_id].get(timeout=t_out) )\n",
    "        # ans_list\n",
    "    finally:\n",
    "        print(\"========= close ========\")\n",
    "        pool.close() \n",
    "        pool.terminate()\n",
    "    return np.vstack(ans_list)\n"
   ]
  },
  {
   "cell_type": "code",
   "execution_count": 14,
   "metadata": {},
   "outputs": [
    {
     "data": {
      "application/vnd.jupyter.widget-view+json": {
       "model_id": "86593cbd8bc148e3abb6fdefcf26c924",
       "version_major": 2,
       "version_minor": 0
      },
      "text/plain": [
       "  0%|          | 0/32 [00:00<?, ?it/s]"
      ]
     },
     "metadata": {},
     "output_type": "display_data"
    },
    {
     "name": "stdout",
     "output_type": "stream",
     "text": [
      "Fitted sphere radius:         95.3 mm\n",
      "Origin head coordinates:      -0.8 15.1 45.3 mm\n",
      "Origin device coordinates:    -0.8 15.1 45.3 mm\n",
      "(150, 32, 65, 44)\n",
      "(150, 32, 65, 44)\n",
      "(150, 32, 65, 44)\n",
      "(150, 32, 65, 44)\n",
      "(150, 32, 65, 44)\n",
      "(150, 32, 65, 44)\n",
      "(150, 32, 65, 44)\n",
      "(150, 32, 65, 44)\n",
      "========= close ========\n",
      "\tAROUSAL-s01|Acc=0.87417|10-CV=0.69667|STD=0.00989|Time spend=38.30979824066162\n",
      "\tVALENCE-s01|Acc=0.86667|10-CV=0.62533|STD=0.03947|Time spend=48.68819212913513\n",
      "Fitted sphere radius:         95.3 mm\n",
      "Origin head coordinates:      -0.8 15.1 45.3 mm\n",
      "Origin device coordinates:    -0.8 15.1 45.3 mm\n",
      "(150, 32, 65, 44)\n",
      "(150, 32, 65, 44)\n",
      "(150, 32, 65, 44)\n",
      "(150, 32, 65, 44)\n",
      "(150, 32, 65, 44)\n",
      "(150, 32, 65, 44)\n",
      "(150, 32, 65, 44)\n",
      "(150, 32, 65, 44)\n",
      "========= close ========\n",
      "\tAROUSAL-s02|Acc=0.705|10-CV=0.64|STD=0.0168|Time spend=29.864434003829956\n",
      "\tVALENCE-s02|Acc=0.745|10-CV=0.739|STD=0.0185|Time spend=37.410340785980225\n",
      "Fitted sphere radius:         95.3 mm\n",
      "Origin head coordinates:      -0.8 15.1 45.3 mm\n",
      "Origin device coordinates:    -0.8 15.1 45.3 mm\n",
      "(150, 32, 65, 44)\n",
      "(150, 32, 65, 44)\n",
      "(150, 32, 65, 44)\n",
      "(150, 32, 65, 44)\n",
      "(150, 32, 65, 44)\n",
      "(150, 32, 65, 44)\n",
      "(150, 32, 65, 44)\n",
      "(150, 32, 65, 44)\n",
      "========= close ========\n",
      "\tAROUSAL-s03|Acc=0.8|10-CV=0.8|STD=0.0|Time spend=27.490134954452515\n",
      "\tVALENCE-s03|Acc=0.76417|10-CV=0.68633|STD=0.01722|Time spend=36.644960165023804\n",
      "Fitted sphere radius:         95.3 mm\n",
      "Origin head coordinates:      -0.8 15.1 45.3 mm\n",
      "Origin device coordinates:    -0.8 15.1 45.3 mm\n",
      "(150, 32, 65, 44)\n",
      "(150, 32, 65, 44)\n",
      "(150, 32, 65, 44)\n",
      "(150, 32, 65, 44)\n",
      "(150, 32, 65, 44)\n",
      "(150, 32, 65, 44)\n",
      "(150, 32, 65, 44)\n",
      "(150, 32, 65, 44)\n",
      "========= close ========\n",
      "\tAROUSAL-s04|Acc=0.725|10-CV=0.66267|STD=0.01756|Time spend=29.221171140670776\n",
      "\tVALENCE-s04|Acc=0.75417|10-CV=0.687|STD=0.01963|Time spend=37.460517168045044\n",
      "Fitted sphere radius:         95.3 mm\n",
      "Origin head coordinates:      -0.8 15.1 45.3 mm\n",
      "Origin device coordinates:    -0.8 15.1 45.3 mm\n",
      "(150, 32, 65, 44)\n",
      "(150, 32, 65, 44)\n",
      "(150, 32, 65, 44)\n",
      "(150, 32, 65, 44)\n",
      "(150, 32, 65, 44)\n",
      "(150, 32, 65, 44)\n",
      "(150, 32, 65, 44)\n",
      "(150, 32, 65, 44)\n",
      "========= close ========\n",
      "\tAROUSAL-s05|Acc=0.71167|10-CV=0.61467|STD=0.0191|Time spend=30.56930947303772\n",
      "\tVALENCE-s05|Acc=0.72333|10-CV=0.63567|STD=0.01212|Time spend=40.67337679862976\n",
      "Fitted sphere radius:         95.3 mm\n",
      "Origin head coordinates:      -0.8 15.1 45.3 mm\n",
      "Origin device coordinates:    -0.8 15.1 45.3 mm\n",
      "(150, 32, 65, 44)\n",
      "(150, 32, 65, 44)\n",
      "(150, 32, 65, 44)\n",
      "(150, 32, 65, 44)\n",
      "(150, 32, 65, 44)\n",
      "(150, 32, 65, 44)\n",
      "(150, 32, 65, 44)\n",
      "(150, 32, 65, 44)\n",
      "========= close ========\n",
      "\tAROUSAL-s06|Acc=0.66417|10-CV=0.61933|STD=0.01925|Time spend=29.43758273124695\n",
      "\tVALENCE-s06|Acc=0.75|10-CV=0.75|STD=0.0|Time spend=37.69355773925781\n",
      "Fitted sphere radius:         95.3 mm\n",
      "Origin head coordinates:      -0.8 15.1 45.3 mm\n",
      "Origin device coordinates:    -0.8 15.1 45.3 mm\n",
      "(150, 32, 65, 44)\n",
      "(150, 32, 65, 44)\n",
      "(150, 32, 65, 44)\n",
      "(150, 32, 65, 44)\n",
      "(150, 32, 65, 44)\n",
      "(150, 32, 65, 44)\n",
      "(150, 32, 65, 44)\n",
      "(150, 32, 65, 44)\n",
      "========= close ========\n",
      "\tAROUSAL-s07|Acc=0.78833|10-CV=0.68633|STD=0.01871|Time spend=28.120259284973145\n",
      "\tVALENCE-s07|Acc=0.81833|10-CV=0.74967|STD=0.00912|Time spend=36.27801465988159\n",
      "Fitted sphere radius:         95.3 mm\n",
      "Origin head coordinates:      -0.8 15.1 45.3 mm\n",
      "Origin device coordinates:    -0.8 15.1 45.3 mm\n",
      "(150, 32, 65, 44)\n",
      "(150, 32, 65, 44)\n",
      "(150, 32, 65, 44)\n",
      "(150, 32, 65, 44)\n",
      "(150, 32, 65, 44)\n",
      "(150, 32, 65, 44)\n",
      "(150, 32, 65, 44)\n",
      "(150, 32, 65, 44)\n",
      "========= close ========\n",
      "\tAROUSAL-s08|Acc=0.81917|10-CV=0.65133|STD=0.02197|Time spend=29.004106044769287\n",
      "\tVALENCE-s08|Acc=0.83917|10-CV=0.665|STD=0.01416|Time spend=39.03432774543762\n",
      "Fitted sphere radius:         95.3 mm\n",
      "Origin head coordinates:      -0.8 15.1 45.3 mm\n",
      "Origin device coordinates:    -0.8 15.1 45.3 mm\n",
      "(150, 32, 65, 44)\n",
      "(150, 32, 65, 44)\n",
      "(150, 32, 65, 44)\n",
      "(150, 32, 65, 44)\n",
      "(150, 32, 65, 44)\n",
      "(150, 32, 65, 44)\n",
      "(150, 32, 65, 44)\n",
      "(150, 32, 65, 44)\n",
      "========= close ========\n",
      "\tAROUSAL-s09|Acc=0.74583|10-CV=0.69767|STD=0.02675|Time spend=28.851884603500366\n",
      "\tVALENCE-s09|Acc=0.7775|10-CV=0.75433|STD=0.01967|Time spend=37.14391231536865\n",
      "Fitted sphere radius:         95.3 mm\n",
      "Origin head coordinates:      -0.8 15.1 45.3 mm\n",
      "Origin device coordinates:    -0.8 15.1 45.3 mm\n",
      "(150, 32, 65, 44)\n",
      "(150, 32, 65, 44)\n",
      "(150, 32, 65, 44)\n",
      "(150, 32, 65, 44)\n",
      "(150, 32, 65, 44)\n",
      "(150, 32, 65, 44)\n",
      "(150, 32, 65, 44)\n",
      "(150, 32, 65, 44)\n",
      "========= close ========\n",
      "\tAROUSAL-s10|Acc=0.7825|10-CV=0.68033|STD=0.01923|Time spend=29.205899477005005\n",
      "\tVALENCE-s10|Acc=0.855|10-CV=0.81433|STD=0.02512|Time spend=36.45062446594238\n",
      "Fitted sphere radius:         95.3 mm\n",
      "Origin head coordinates:      -0.8 15.1 45.3 mm\n",
      "Origin device coordinates:    -0.8 15.1 45.3 mm\n",
      "(150, 32, 65, 44)\n",
      "(150, 32, 65, 44)\n",
      "(150, 32, 65, 44)\n",
      "(150, 32, 65, 44)\n",
      "(150, 32, 65, 44)\n",
      "(150, 32, 65, 44)\n",
      "(150, 32, 65, 44)\n",
      "(150, 32, 65, 44)\n",
      "========= close ========\n",
      "\tAROUSAL-s11|Acc=0.67667|10-CV=0.64167|STD=0.00898|Time spend=27.559008598327637\n",
      "\tVALENCE-s11|Acc=0.695|10-CV=0.66267|STD=0.02037|Time spend=36.97031784057617\n",
      "Fitted sphere radius:         95.3 mm\n",
      "Origin head coordinates:      -0.8 15.1 45.3 mm\n",
      "Origin device coordinates:    -0.8 15.1 45.3 mm\n",
      "(150, 32, 65, 44)\n",
      "(150, 32, 65, 44)\n",
      "(150, 32, 65, 44)\n",
      "(150, 32, 65, 44)\n",
      "(150, 32, 65, 44)\n",
      "(150, 32, 65, 44)\n",
      "(150, 32, 65, 44)\n",
      "(150, 32, 65, 44)\n",
      "========= close ========\n",
      "\tAROUSAL-s12|Acc=0.825|10-CV=0.82533|STD=0.00163|Time spend=25.876046657562256\n",
      "\tVALENCE-s12|Acc=0.7325|10-CV=0.64867|STD=0.02072|Time spend=35.35728454589844\n",
      "Fitted sphere radius:         95.3 mm\n",
      "Origin head coordinates:      -0.8 15.1 45.3 mm\n",
      "Origin device coordinates:    -0.8 15.1 45.3 mm\n",
      "(150, 32, 65, 44)\n",
      "(150, 32, 65, 44)\n",
      "(150, 32, 65, 44)\n",
      "(150, 32, 65, 44)\n",
      "(150, 32, 65, 44)\n",
      "(150, 32, 65, 44)\n",
      "(150, 32, 65, 44)\n",
      "(150, 32, 65, 44)\n",
      "========= close ========\n",
      "\tAROUSAL-s13|Acc=0.85|10-CV=0.85|STD=0.0|Time spend=22.913379669189453\n",
      "\tVALENCE-s13|Acc=0.7775|10-CV=0.76567|STD=0.01578|Time spend=30.438143968582153\n",
      "Fitted sphere radius:         95.3 mm\n",
      "Origin head coordinates:      -0.8 15.1 45.3 mm\n",
      "Origin device coordinates:    -0.8 15.1 45.3 mm\n",
      "(150, 32, 65, 44)\n",
      "(150, 32, 65, 44)\n",
      "(150, 32, 65, 44)\n",
      "(150, 32, 65, 44)\n",
      "(150, 32, 65, 44)\n",
      "(150, 32, 65, 44)\n",
      "(150, 32, 65, 44)\n",
      "(150, 32, 65, 44)\n",
      "========= close ========\n",
      "\tAROUSAL-s14|Acc=0.70417|10-CV=0.67967|STD=0.00567|Time spend=27.386969804763794\n",
      "\tVALENCE-s14|Acc=0.79|10-CV=0.73567|STD=0.0265|Time spend=35.98297715187073\n",
      "Fitted sphere radius:         95.3 mm\n",
      "Origin head coordinates:      -0.8 15.1 45.3 mm\n",
      "Origin device coordinates:    -0.8 15.1 45.3 mm\n",
      "(150, 32, 65, 44)\n",
      "(150, 32, 65, 44)\n",
      "(150, 32, 65, 44)\n",
      "(150, 32, 65, 44)\n",
      "(150, 32, 65, 44)\n",
      "(150, 32, 65, 44)\n",
      "(150, 32, 65, 44)\n",
      "(150, 32, 65, 44)\n",
      "========= close ========\n",
      "\tAROUSAL-s15|Acc=0.81083|10-CV=0.70433|STD=0.02357|Time spend=28.909175395965576\n",
      "\tVALENCE-s15|Acc=0.875|10-CV=0.814|STD=0.02081|Time spend=35.89372897148132\n",
      "Fitted sphere radius:         95.3 mm\n",
      "Origin head coordinates:      -0.8 15.1 45.3 mm\n",
      "Origin device coordinates:    -0.8 15.1 45.3 mm\n",
      "(150, 32, 65, 44)\n",
      "(150, 32, 65, 44)\n",
      "(150, 32, 65, 44)\n",
      "(150, 32, 65, 44)\n",
      "(150, 32, 65, 44)\n",
      "(150, 32, 65, 44)\n",
      "(150, 32, 65, 44)\n",
      "(150, 32, 65, 44)\n",
      "========= close ========\n",
      "\tAROUSAL-s16|Acc=0.78333|10-CV=0.704|STD=0.01999|Time spend=29.53888201713562\n",
      "\tVALENCE-s16|Acc=0.7575|10-CV=0.71767|STD=0.02295|Time spend=38.80033040046692\n",
      "Fitted sphere radius:         95.3 mm\n",
      "Origin head coordinates:      -0.8 15.1 45.3 mm\n",
      "Origin device coordinates:    -0.8 15.1 45.3 mm\n",
      "(150, 32, 65, 44)\n",
      "(150, 32, 65, 44)\n",
      "(150, 32, 65, 44)\n",
      "(150, 32, 65, 44)\n",
      "(150, 32, 65, 44)\n",
      "(150, 32, 65, 44)\n",
      "(150, 32, 65, 44)\n",
      "(150, 32, 65, 44)\n",
      "========= close ========\n",
      "\tAROUSAL-s17|Acc=0.74333|10-CV=0.72333|STD=0.01795|Time spend=28.67808198928833\n",
      "\tVALENCE-s17|Acc=0.68|10-CV=0.634|STD=0.0142|Time spend=39.14323139190674\n",
      "Fitted sphere radius:         95.3 mm\n",
      "Origin head coordinates:      -0.8 15.1 45.3 mm\n",
      "Origin device coordinates:    -0.8 15.1 45.3 mm\n",
      "(150, 32, 65, 44)\n",
      "(150, 32, 65, 44)\n",
      "(150, 32, 65, 44)\n",
      "(150, 32, 65, 44)\n",
      "(150, 32, 65, 44)\n",
      "(150, 32, 65, 44)\n",
      "(150, 32, 65, 44)\n",
      "(150, 32, 65, 44)\n",
      "========= close ========\n",
      "\tAROUSAL-s18|Acc=0.685|10-CV=0.65433|STD=0.01023|Time spend=28.04339861869812\n",
      "\tVALENCE-s18|Acc=0.81083|10-CV=0.77167|STD=0.01797|Time spend=34.652549743652344\n",
      "Fitted sphere radius:         95.3 mm\n",
      "Origin head coordinates:      -0.8 15.1 45.3 mm\n",
      "Origin device coordinates:    -0.8 15.1 45.3 mm\n",
      "(150, 32, 65, 44)\n",
      "(150, 32, 65, 44)\n",
      "(150, 32, 65, 44)\n",
      "(150, 32, 65, 44)\n",
      "(150, 32, 65, 44)\n",
      "(150, 32, 65, 44)\n",
      "(150, 32, 65, 44)\n",
      "(150, 32, 65, 44)\n",
      "========= close ========\n",
      "\tAROUSAL-s19|Acc=0.7525|10-CV=0.697|STD=0.01286|Time spend=27.468379735946655\n",
      "\tVALENCE-s19|Acc=0.76667|10-CV=0.66533|STD=0.02837|Time spend=37.07264542579651\n",
      "Fitted sphere radius:         95.3 mm\n",
      "Origin head coordinates:      -0.8 15.1 45.3 mm\n",
      "Origin device coordinates:    -0.8 15.1 45.3 mm\n",
      "(150, 32, 65, 44)\n",
      "(150, 32, 65, 44)\n",
      "(150, 32, 65, 44)\n",
      "(150, 32, 65, 44)\n",
      "(150, 32, 65, 44)\n",
      "(150, 32, 65, 44)\n",
      "(150, 32, 65, 44)\n",
      "(150, 32, 65, 44)\n",
      "========= close ========\n",
      "\tAROUSAL-s20|Acc=0.775|10-CV=0.775|STD=0.00167|Time spend=26.605332374572754\n",
      "\tVALENCE-s20|Acc=0.79167|10-CV=0.70533|STD=0.02613|Time spend=35.00847339630127\n",
      "Fitted sphere radius:         95.3 mm\n",
      "Origin head coordinates:      -0.8 15.1 45.3 mm\n",
      "Origin device coordinates:    -0.8 15.1 45.3 mm\n",
      "(150, 32, 65, 44)\n",
      "(150, 32, 65, 44)\n",
      "(150, 32, 65, 44)\n",
      "(150, 32, 65, 44)\n",
      "(150, 32, 65, 44)\n",
      "(150, 32, 65, 44)\n",
      "(150, 32, 65, 44)\n",
      "(150, 32, 65, 44)\n",
      "========= close ========\n",
      "\tAROUSAL-s21|Acc=0.8|10-CV=0.8|STD=0.0|Time spend=27.091276168823242\n",
      "\tVALENCE-s21|Acc=0.68417|10-CV=0.60367|STD=0.01676|Time spend=38.15436053276062\n",
      "Fitted sphere radius:         95.3 mm\n",
      "Origin head coordinates:      -0.8 15.1 45.3 mm\n",
      "Origin device coordinates:    -0.8 15.1 45.3 mm\n",
      "(150, 32, 65, 44)\n",
      "(150, 32, 65, 44)\n",
      "(150, 32, 65, 44)\n",
      "(150, 32, 65, 44)\n",
      "(150, 32, 65, 44)\n",
      "(150, 32, 65, 44)\n",
      "(150, 32, 65, 44)\n",
      "(150, 32, 65, 44)\n",
      "========= close ========\n",
      "\tAROUSAL-s22|Acc=0.62083|10-CV=0.609|STD=0.00803|Time spend=27.630205869674683\n",
      "\tVALENCE-s22|Acc=0.7475|10-CV=0.74267|STD=0.01884|Time spend=35.86308002471924\n",
      "Fitted sphere radius:         95.3 mm\n",
      "Origin head coordinates:      -0.8 15.1 45.3 mm\n",
      "Origin device coordinates:    -0.8 15.1 45.3 mm\n",
      "(150, 32, 65, 44)\n",
      "(150, 32, 65, 44)\n",
      "(150, 32, 65, 44)\n",
      "(150, 32, 65, 44)\n",
      "(150, 32, 65, 44)\n",
      "(150, 32, 65, 44)\n",
      "(150, 32, 65, 44)\n",
      "(150, 32, 65, 44)\n",
      "========= close ========\n",
      "\tAROUSAL-s23|Acc=0.8125|10-CV=0.76533|STD=0.0067|Time spend=25.646703004837036\n",
      "\tVALENCE-s23|Acc=0.82|10-CV=0.743|STD=0.0096|Time spend=34.60293436050415\n",
      "Fitted sphere radius:         95.3 mm\n",
      "Origin head coordinates:      -0.8 15.1 45.3 mm\n",
      "Origin device coordinates:    -0.8 15.1 45.3 mm\n",
      "(150, 32, 65, 44)\n",
      "(150, 32, 65, 44)\n",
      "(150, 32, 65, 44)\n",
      "(150, 32, 65, 44)\n",
      "(150, 32, 65, 44)\n",
      "(150, 32, 65, 44)\n",
      "(150, 32, 65, 44)\n",
      "(150, 32, 65, 44)\n",
      "========= close ========\n",
      "\tAROUSAL-s24|Acc=0.825|10-CV=0.82533|STD=0.00163|Time spend=25.10549235343933\n",
      "\tVALENCE-s24|Acc=0.74833|10-CV=0.691|STD=0.02864|Time spend=34.07133769989014\n",
      "Fitted sphere radius:         95.3 mm\n",
      "Origin head coordinates:      -0.8 15.1 45.3 mm\n",
      "Origin device coordinates:    -0.8 15.1 45.3 mm\n",
      "(150, 32, 65, 44)\n",
      "(150, 32, 65, 44)\n",
      "(150, 32, 65, 44)\n",
      "(150, 32, 65, 44)\n",
      "(150, 32, 65, 44)\n",
      "(150, 32, 65, 44)\n",
      "(150, 32, 65, 44)\n",
      "(150, 32, 65, 44)\n",
      "========= close ========\n",
      "\tAROUSAL-s25|Acc=0.725|10-CV=0.72667|STD=0.0|Time spend=26.36049461364746\n",
      "\tVALENCE-s25|Acc=0.68583|10-CV=0.612|STD=0.01759|Time spend=36.11658811569214\n",
      "Fitted sphere radius:         95.3 mm\n",
      "Origin head coordinates:      -0.8 15.1 45.3 mm\n",
      "Origin device coordinates:    -0.8 15.1 45.3 mm\n",
      "(150, 32, 65, 44)\n",
      "(150, 32, 65, 44)\n",
      "(150, 32, 65, 44)\n",
      "(150, 32, 65, 44)\n",
      "(150, 32, 65, 44)\n",
      "(150, 32, 65, 44)\n",
      "(150, 32, 65, 44)\n",
      "(150, 32, 65, 44)\n",
      "========= close ========\n",
      "\tAROUSAL-s26|Acc=0.70917|10-CV=0.61867|STD=0.02339|Time spend=28.91557264328003\n",
      "\tVALENCE-s26|Acc=0.6725|10-CV=0.65233|STD=0.003|Time spend=37.82781720161438\n",
      "Fitted sphere radius:         95.3 mm\n",
      "Origin head coordinates:      -0.8 15.1 45.3 mm\n",
      "Origin device coordinates:    -0.8 15.1 45.3 mm\n",
      "(150, 32, 65, 44)\n",
      "(150, 32, 65, 44)\n",
      "(150, 32, 65, 44)\n",
      "(150, 32, 65, 44)\n",
      "(150, 32, 65, 44)\n",
      "(150, 32, 65, 44)\n",
      "(150, 32, 65, 44)\n",
      "(150, 32, 65, 44)\n",
      "========= close ========\n",
      "\tAROUSAL-s27|Acc=0.83583|10-CV=0.74367|STD=0.01027|Time spend=27.527464389801025\n",
      "\tVALENCE-s27|Acc=0.77833|10-CV=0.75267|STD=0.00389|Time spend=35.19842505455017\n",
      "Fitted sphere radius:         95.3 mm\n",
      "Origin head coordinates:      -0.8 15.1 45.3 mm\n",
      "Origin device coordinates:    -0.8 15.1 45.3 mm\n",
      "(150, 32, 65, 44)\n",
      "(150, 32, 65, 44)\n",
      "(150, 32, 65, 44)\n",
      "(150, 32, 65, 44)\n",
      "(150, 32, 65, 44)\n",
      "(150, 32, 65, 44)\n",
      "(150, 32, 65, 44)\n",
      "(150, 32, 65, 44)\n",
      "========= close ========\n",
      "\tAROUSAL-s28|Acc=0.68|10-CV=0.60533|STD=0.01979|Time spend=28.27849507331848\n",
      "\tVALENCE-s28|Acc=0.71917|10-CV=0.67|STD=0.01528|Time spend=36.97081160545349\n",
      "Fitted sphere radius:         95.3 mm\n",
      "Origin head coordinates:      -0.8 15.1 45.3 mm\n",
      "Origin device coordinates:    -0.8 15.1 45.3 mm\n",
      "(150, 32, 65, 44)\n",
      "(150, 32, 65, 44)\n",
      "(150, 32, 65, 44)\n",
      "(150, 32, 65, 44)\n",
      "(150, 32, 65, 44)\n",
      "(150, 32, 65, 44)\n",
      "(150, 32, 65, 44)\n",
      "(150, 32, 65, 44)\n",
      "========= close ========\n",
      "\tAROUSAL-s29|Acc=0.7175|10-CV=0.67067|STD=0.01373|Time spend=27.662049055099487\n",
      "\tVALENCE-s29|Acc=0.745|10-CV=0.66533|STD=0.01694|Time spend=36.6791353225708\n",
      "Fitted sphere radius:         95.3 mm\n",
      "Origin head coordinates:      -0.8 15.1 45.3 mm\n",
      "Origin device coordinates:    -0.8 15.1 45.3 mm\n",
      "(150, 32, 65, 44)\n",
      "(150, 32, 65, 44)\n",
      "(150, 32, 65, 44)\n",
      "(150, 32, 65, 44)\n",
      "(150, 32, 65, 44)\n",
      "(150, 32, 65, 44)\n",
      "(150, 32, 65, 44)\n",
      "(150, 32, 65, 44)\n",
      "========= close ========\n",
      "\tAROUSAL-s30|Acc=0.74167|10-CV=0.62133|STD=0.01851|Time spend=29.626966953277588\n",
      "\tVALENCE-s30|Acc=0.67917|10-CV=0.67467|STD=0.00163|Time spend=38.3304009437561\n",
      "Fitted sphere radius:         95.3 mm\n",
      "Origin head coordinates:      -0.8 15.1 45.3 mm\n",
      "Origin device coordinates:    -0.8 15.1 45.3 mm\n",
      "(150, 32, 65, 44)\n",
      "(150, 32, 65, 44)\n",
      "(150, 32, 65, 44)\n",
      "(150, 32, 65, 44)\n",
      "(150, 32, 65, 44)\n",
      "(150, 32, 65, 44)\n",
      "(150, 32, 65, 44)\n",
      "(150, 32, 65, 44)\n",
      "========= close ========\n",
      "\tAROUSAL-s31|Acc=0.83667|10-CV=0.67133|STD=0.02544|Time spend=30.503493785858154\n",
      "\tVALENCE-s31|Acc=0.80833|10-CV=0.627|STD=0.01479|Time spend=41.29386639595032\n",
      "Fitted sphere radius:         95.3 mm\n",
      "Origin head coordinates:      -0.8 15.1 45.3 mm\n",
      "Origin device coordinates:    -0.8 15.1 45.3 mm\n",
      "(150, 32, 65, 44)\n",
      "(150, 32, 65, 44)\n",
      "(150, 32, 65, 44)\n",
      "(150, 32, 65, 44)\n",
      "(150, 32, 65, 44)\n",
      "(150, 32, 65, 44)\n",
      "(150, 32, 65, 44)\n",
      "(150, 32, 65, 44)\n",
      "========= close ========\n",
      "\tAROUSAL-s32|Acc=0.73583|10-CV=0.692|STD=0.006|Time spend=26.757537126541138\n",
      "\tVALENCE-s32|Acc=0.70917|10-CV=0.63933|STD=0.01611|Time spend=36.9179425239563\n",
      "AROUSAL|Acc=0.7581770833333333|10-CV=0.6985312499999999|STD=0.012665543567592422\n",
      "VALENCE|Acc=0.7614843750000001|10-CV=0.6969062500000001|STD=0.017246734034843326\n"
     ]
    }
   ],
   "source": [
    "accs, cv_means, cv_stds = [],[],[]\n",
    "accs_v, cv_means_v, cv_stds_v = [],[],[]\n",
    "reports = []\n",
    "for filename in (pbar := tqdm(dataset.get_file_list())):\n",
    "    start = time.time()\n",
    "    pbar.set_description(filename)\n",
    "    data, labels, groups = dataset.get_data(filename, stimuli=Dataset_subjectDependent.STIMULI_AROUSAL, return_type='mne', sfreq=128)\n",
    "    \n",
    "    data_csd = mne.preprocessing.compute_current_source_density(data)\n",
    "\n",
    "    plv = calculate_plv(data_csd.get_data(), n_jobs=8)\n",
    "\n",
    "    _,acc,cross,train_report = train_model(plv, labels.squeeze(), groups, filename=filename, return_text=True)\n",
    "    report = f\"\\tAROUSAL-{filename}|Acc={round(acc,5)}|10-CV={round(cross.mean(),5)}|STD={round(cross.std(),5)}|Time spend={time.time() - start}\"\n",
    "    print(report)\n",
    "    reports.append(report)\n",
    "    reports.append(train_report)\n",
    "    accs.append(acc)\n",
    "    cv_means.append(cross.mean())\n",
    "    cv_stds.append(cross.std())\n",
    "\n",
    "    _, labels_v, groups_v = dataset.get_data(filename, stimuli=Dataset_subjectDependent.STIMULI_VALENCE, return_type='mne', sfreq=128)\n",
    "    _,acc,cross,train_report = train_model(plv, labels_v.squeeze(), groups_v, filename=filename, return_text=True)\n",
    "    report = f\"\\tVALENCE-{filename}|Acc={round(acc,5)}|10-CV={round(cross.mean(),5)}|STD={round(cross.std(),5)}|Time spend={time.time() - start}\"\n",
    "    print(report)\n",
    "    reports.append(report)\n",
    "    reports.append(train_report)\n",
    "    accs_v.append(acc)\n",
    "    cv_means_v.append(cross.mean())\n",
    "    cv_stds_v.append(cross.std())\n",
    "    # break\n",
    "    # count+=1\n",
    "    # if(count == 5): break\n",
    "report = f\"AROUSAL|Acc={sum(accs)/len(accs)}|10-CV={sum(cv_means)/len(cv_means)}|STD={sum(cv_stds)/len(cv_stds)}\"\n",
    "print(report)\n",
    "reports.append(report)\n",
    "report = f\"VALENCE|Acc={sum(accs_v)/len(accs_v)}|10-CV={sum(cv_means_v)/len(cv_means_v)}|STD={sum(cv_stds_v)/len(cv_stds_v)}\"\n",
    "print(report)\n",
    "reports.append(report)"
   ]
  },
  {
   "cell_type": "code",
   "execution_count": 15,
   "metadata": {},
   "outputs": [
    {
     "name": "stdout",
     "output_type": "stream",
     "text": [
      "\tAROUSAL-s01|Acc=0.87417|10-CV=0.69667|STD=0.00989|Time spend=38.30979824066162\n",
      "\tVALENCE-s01|Acc=0.86667|10-CV=0.62533|STD=0.03947|Time spend=48.68819212913513\n",
      "\tAROUSAL-s02|Acc=0.705|10-CV=0.64|STD=0.0168|Time spend=29.864434003829956\n",
      "\tVALENCE-s02|Acc=0.745|10-CV=0.739|STD=0.0185|Time spend=37.410340785980225\n",
      "\tAROUSAL-s03|Acc=0.8|10-CV=0.8|STD=0.0|Time spend=27.490134954452515\n",
      "-----WARNING: Model s03 failed to learn: sum(ans)=0.0 sum(y)=240.0 len(y)=1200\n",
      "\tVALENCE-s03|Acc=0.76417|10-CV=0.68633|STD=0.01722|Time spend=36.644960165023804\n",
      "\tAROUSAL-s04|Acc=0.725|10-CV=0.66267|STD=0.01756|Time spend=29.221171140670776\n",
      "\tVALENCE-s04|Acc=0.75417|10-CV=0.687|STD=0.01963|Time spend=37.460517168045044\n",
      "\tAROUSAL-s05|Acc=0.71167|10-CV=0.61467|STD=0.0191|Time spend=30.56930947303772\n",
      "\tVALENCE-s05|Acc=0.72333|10-CV=0.63567|STD=0.01212|Time spend=40.67337679862976\n",
      "\tAROUSAL-s06|Acc=0.66417|10-CV=0.61933|STD=0.01925|Time spend=29.43758273124695\n",
      "\tVALENCE-s06|Acc=0.75|10-CV=0.75|STD=0.0|Time spend=37.69355773925781\n",
      "-----WARNING: Model s06 failed to learn: sum(ans)=1200.0 sum(y)=900.0 len(y)=1200\n",
      "\tAROUSAL-s07|Acc=0.78833|10-CV=0.68633|STD=0.01871|Time spend=28.120259284973145\n",
      "\tVALENCE-s07|Acc=0.81833|10-CV=0.74967|STD=0.00912|Time spend=36.27801465988159\n",
      "\tAROUSAL-s08|Acc=0.81917|10-CV=0.65133|STD=0.02197|Time spend=29.004106044769287\n",
      "\tVALENCE-s08|Acc=0.83917|10-CV=0.665|STD=0.01416|Time spend=39.03432774543762\n",
      "\tAROUSAL-s09|Acc=0.74583|10-CV=0.69767|STD=0.02675|Time spend=28.851884603500366\n",
      "\tVALENCE-s09|Acc=0.7775|10-CV=0.75433|STD=0.01967|Time spend=37.14391231536865\n",
      "\tAROUSAL-s10|Acc=0.7825|10-CV=0.68033|STD=0.01923|Time spend=29.205899477005005\n",
      "\tVALENCE-s10|Acc=0.855|10-CV=0.81433|STD=0.02512|Time spend=36.45062446594238\n",
      "\tAROUSAL-s11|Acc=0.67667|10-CV=0.64167|STD=0.00898|Time spend=27.559008598327637\n",
      "\tVALENCE-s11|Acc=0.695|10-CV=0.66267|STD=0.02037|Time spend=36.97031784057617\n",
      "\tAROUSAL-s12|Acc=0.825|10-CV=0.82533|STD=0.00163|Time spend=25.876046657562256\n",
      "-----WARNING: Model s12 failed to learn: sum(ans)=1200.0 sum(y)=990.0 len(y)=1200\n",
      "\tVALENCE-s12|Acc=0.7325|10-CV=0.64867|STD=0.02072|Time spend=35.35728454589844\n",
      "\tAROUSAL-s13|Acc=0.85|10-CV=0.85|STD=0.0|Time spend=22.913379669189453\n",
      "-----WARNING: Model s13 failed to learn: sum(ans)=1200.0 sum(y)=1020.0 len(y)=1200\n",
      "\tVALENCE-s13|Acc=0.7775|10-CV=0.76567|STD=0.01578|Time spend=30.438143968582153\n",
      "\tAROUSAL-s14|Acc=0.70417|10-CV=0.67967|STD=0.00567|Time spend=27.386969804763794\n",
      "\tVALENCE-s14|Acc=0.79|10-CV=0.73567|STD=0.0265|Time spend=35.98297715187073\n",
      "\tAROUSAL-s15|Acc=0.81083|10-CV=0.70433|STD=0.02357|Time spend=28.909175395965576\n",
      "\tVALENCE-s15|Acc=0.875|10-CV=0.814|STD=0.02081|Time spend=35.89372897148132\n",
      "\tAROUSAL-s16|Acc=0.78333|10-CV=0.704|STD=0.01999|Time spend=29.53888201713562\n",
      "\tVALENCE-s16|Acc=0.7575|10-CV=0.71767|STD=0.02295|Time spend=38.80033040046692\n",
      "\tAROUSAL-s17|Acc=0.74333|10-CV=0.72333|STD=0.01795|Time spend=28.67808198928833\n",
      "\tVALENCE-s17|Acc=0.68|10-CV=0.634|STD=0.0142|Time spend=39.14323139190674\n",
      "\tAROUSAL-s18|Acc=0.685|10-CV=0.65433|STD=0.01023|Time spend=28.04339861869812\n",
      "\tVALENCE-s18|Acc=0.81083|10-CV=0.77167|STD=0.01797|Time spend=34.652549743652344\n",
      "\tAROUSAL-s19|Acc=0.7525|10-CV=0.697|STD=0.01286|Time spend=27.468379735946655\n",
      "\tVALENCE-s19|Acc=0.76667|10-CV=0.66533|STD=0.02837|Time spend=37.07264542579651\n",
      "\tAROUSAL-s20|Acc=0.775|10-CV=0.775|STD=0.00167|Time spend=26.605332374572754\n",
      "-----WARNING: Model s20 failed to learn: sum(ans)=1200.0 sum(y)=930.0 len(y)=1200\n",
      "\tVALENCE-s20|Acc=0.79167|10-CV=0.70533|STD=0.02613|Time spend=35.00847339630127\n",
      "\tAROUSAL-s21|Acc=0.8|10-CV=0.8|STD=0.0|Time spend=27.091276168823242\n",
      "-----WARNING: Model s21 failed to learn: sum(ans)=1200.0 sum(y)=960.0 len(y)=1200\n",
      "\tVALENCE-s21|Acc=0.68417|10-CV=0.60367|STD=0.01676|Time spend=38.15436053276062\n",
      "\tAROUSAL-s22|Acc=0.62083|10-CV=0.609|STD=0.00803|Time spend=27.630205869674683\n",
      "\tVALENCE-s22|Acc=0.7475|10-CV=0.74267|STD=0.01884|Time spend=35.86308002471924\n",
      "\tAROUSAL-s23|Acc=0.8125|10-CV=0.76533|STD=0.0067|Time spend=25.646703004837036\n",
      "\tVALENCE-s23|Acc=0.82|10-CV=0.743|STD=0.0096|Time spend=34.60293436050415\n",
      "\tAROUSAL-s24|Acc=0.825|10-CV=0.82533|STD=0.00163|Time spend=25.10549235343933\n",
      "-----WARNING: Model s24 failed to learn: sum(ans)=1200.0 sum(y)=990.0 len(y)=1200\n",
      "\tVALENCE-s24|Acc=0.74833|10-CV=0.691|STD=0.02864|Time spend=34.07133769989014\n",
      "\tAROUSAL-s25|Acc=0.725|10-CV=0.72667|STD=0.0|Time spend=26.36049461364746\n",
      "-----WARNING: Model s25 failed to learn: sum(ans)=1200.0 sum(y)=870.0 len(y)=1200\n",
      "\tVALENCE-s25|Acc=0.68583|10-CV=0.612|STD=0.01759|Time spend=36.11658811569214\n",
      "\tAROUSAL-s26|Acc=0.70917|10-CV=0.61867|STD=0.02339|Time spend=28.91557264328003\n",
      "\tVALENCE-s26|Acc=0.6725|10-CV=0.65233|STD=0.003|Time spend=37.82781720161438\n",
      "\tAROUSAL-s27|Acc=0.83583|10-CV=0.74367|STD=0.01027|Time spend=27.527464389801025\n",
      "\tVALENCE-s27|Acc=0.77833|10-CV=0.75267|STD=0.00389|Time spend=35.19842505455017\n",
      "\tAROUSAL-s28|Acc=0.68|10-CV=0.60533|STD=0.01979|Time spend=28.27849507331848\n",
      "\tVALENCE-s28|Acc=0.71917|10-CV=0.67|STD=0.01528|Time spend=36.97081160545349\n",
      "\tAROUSAL-s29|Acc=0.7175|10-CV=0.67067|STD=0.01373|Time spend=27.662049055099487\n",
      "\tVALENCE-s29|Acc=0.745|10-CV=0.66533|STD=0.01694|Time spend=36.6791353225708\n",
      "\tAROUSAL-s30|Acc=0.74167|10-CV=0.62133|STD=0.01851|Time spend=29.626966953277588\n",
      "\tVALENCE-s30|Acc=0.67917|10-CV=0.67467|STD=0.00163|Time spend=38.3304009437561\n",
      "\tAROUSAL-s31|Acc=0.83667|10-CV=0.67133|STD=0.02544|Time spend=30.503493785858154\n",
      "\tVALENCE-s31|Acc=0.80833|10-CV=0.627|STD=0.01479|Time spend=41.29386639595032\n",
      "\tAROUSAL-s32|Acc=0.73583|10-CV=0.692|STD=0.006|Time spend=26.757537126541138\n",
      "\tVALENCE-s32|Acc=0.70917|10-CV=0.63933|STD=0.01611|Time spend=36.9179425239563\n",
      "AROUSAL|Acc=0.7581770833333333|10-CV=0.6985312499999999|STD=0.012665543567592422\n",
      "VALENCE|Acc=0.7614843750000001|10-CV=0.6969062500000001|STD=0.017246734034843326\n",
      "TOTAL|Acc=0.7598307291666668|10-CV=0.6977187500000004|STD=0.014956138801217876\n"
     ]
    }
   ],
   "source": [
    "for text in reports:\n",
    "    if(text == None): continue\n",
    "    print(text)\n",
    "\n",
    "accs.extend(accs_v)\n",
    "cv_means.extend(cv_means_v)\n",
    "cv_stds.extend(cv_stds_v)\n",
    "print(f\"TOTAL|Acc={sum(accs)/len(accs)}|10-CV={sum(cv_means)/len(cv_means)}|STD={sum(cv_stds)/len(cv_stds)}\")"
   ]
  },
  {
   "cell_type": "markdown",
   "metadata": {},
   "source": [
    "### 4.4 $ \\text{PLI}(j,k) =  \\frac{1}{T} | \\Sigma^{T}_{t=1} \\text{sign}(Im[e^{i (\\phi^{t}_{j} - \\phi^{t}_{k})}])  | $"
   ]
  },
  {
   "cell_type": "code",
   "execution_count": 16,
   "metadata": {},
   "outputs": [],
   "source": [
    "# bands = [(0,4), (4,8), (8,12), (12,30), (30,64)]\n",
    "def calculate_stft(signals, sfreq):\n",
    "    from scipy import signal\n",
    "    f_range, t_range, Z = signal.stft(signals, sfreq, nperseg=sfreq//10, nfft=sfreq)\n",
    "    magnitude = np.abs(Z) \n",
    "    phase = np.angle(Z)\n",
    "    return magnitude, phase, f_range, t_range\n",
    "\n",
    "def PLI_stft(p_id, phase):\n",
    "    # (32, 65, 12) => (channels, freqs, times)\n",
    "    # print(f\"p_id:{p_id} - data to run {phase.shape}\")\n",
    "    from itertools import combinations\n",
    "    pli = []\n",
    "    # count = 0\n",
    "    for index in range(phase.shape[0]):\n",
    "        pli_epoch = []\n",
    "        for comb in combinations(list(range(phase.shape[1])), 2):\n",
    "            # shape = (65,12)\n",
    "            phase_a, phase_b = phase[index, comb[0]], phase[index, comb[1]]\n",
    "            phase_diff = phase_a - phase_b\n",
    "            # sum along the time size\n",
    "            pli_ab = np.abs(np.average(   np.sign(np.imag(   np.exp(complex(0,1) * phase_diff) ))  , axis=1))\n",
    "            pli_epoch.append(pli_ab)\n",
    "        pli_epoch = np.vstack(pli_epoch)\n",
    "        pli_epoch_5 = np.concatenate([ pli_epoch[:,0:4].mean(axis=1).reshape(-1,1),\n",
    "                                        pli_epoch[:,4:8].mean(axis=1).reshape(-1,1),\n",
    "                                        pli_epoch[:,8:12].mean(axis=1).reshape(-1,1),\n",
    "                                        pli_epoch[:,12:30].mean(axis=1).reshape(-1,1),\n",
    "                                        pli_epoch[:,30:65].mean(axis=1).reshape(-1,1)], axis=0)\n",
    "        pli.append(np.expand_dims(pli_epoch_5, axis=0))\n",
    "        # count += 1\n",
    "        # if(count == 3): break\n",
    "    # shape (496, 65)\n",
    "    # 496 is number of pairs that is not duplicate\n",
    "    # 65 is number of phase of frequencies\n",
    "    pli = np.vstack( pli )\n",
    "    return pli.squeeze()\n",
    "\n",
    "def calculate_pli(data, n_jobs=8):\n",
    "    \"\"\" \n",
    "    Input: Expect data to have (n_epochs, n_channels, n_samples)\n",
    "    Output: (n_epochs, n_conn, n_freqs ) => n_conn = n_channels!/(2!(n_channels-2)!)\n",
    "    \"\"\"\n",
    "    from multiprocessing import Pool\n",
    "\n",
    "    try:\n",
    "        t_out = 60000\n",
    "        pool = Pool()\n",
    "        p_list = []\n",
    "        ans_list = []\n",
    "        num_p = n_jobs\n",
    "        indices = np.array_split(np.arange(data.shape[0]), num_p)\n",
    "        _, phase, _, _ = calculate_stft(data, 128)\n",
    "        for p_id in range(num_p):\n",
    "            p_list.append(pool.apply_async(PLI_stft, [p_id, phase[indices[p_id]] ]))\n",
    "        for p_id in range(num_p):\n",
    "            ans_list.append( p_list[p_id].get(timeout=t_out) )\n",
    "        # ans_list\n",
    "    finally:\n",
    "        print(\"========= close ========\")\n",
    "        pool.close() \n",
    "        pool.terminate()\n",
    "    return np.vstack(ans_list)\n"
   ]
  },
  {
   "cell_type": "code",
   "execution_count": 17,
   "metadata": {},
   "outputs": [
    {
     "data": {
      "application/vnd.jupyter.widget-view+json": {
       "model_id": "32d44d7700dd430495c0f9926e7a9a77",
       "version_major": 2,
       "version_minor": 0
      },
      "text/plain": [
       "  0%|          | 0/32 [00:00<?, ?it/s]"
      ]
     },
     "metadata": {},
     "output_type": "display_data"
    },
    {
     "name": "stdout",
     "output_type": "stream",
     "text": [
      "Fitted sphere radius:         95.3 mm\n",
      "Origin head coordinates:      -0.8 15.1 45.3 mm\n",
      "Origin device coordinates:    -0.8 15.1 45.3 mm\n",
      "========= close ========\n",
      "\tAROUSAL-s01|Acc=0.94583|10-CV=0.60933|STD=0.00854|Time spend=30.060890197753906\n",
      "\tVALENCE-s01|Acc=0.9925|10-CV=0.52133|STD=0.02945|Time spend=40.77995467185974\n",
      "Fitted sphere radius:         95.3 mm\n",
      "Origin head coordinates:      -0.8 15.1 45.3 mm\n",
      "Origin device coordinates:    -0.8 15.1 45.3 mm\n",
      "========= close ========\n",
      "\tAROUSAL-s02|Acc=0.8425|10-CV=0.61967|STD=0.01882|Time spend=29.265422105789185\n",
      "\tVALENCE-s02|Acc=0.91083|10-CV=0.54167|STD=0.01579|Time spend=40.695847034454346\n",
      "Fitted sphere radius:         95.3 mm\n",
      "Origin head coordinates:      -0.8 15.1 45.3 mm\n",
      "Origin device coordinates:    -0.8 15.1 45.3 mm\n",
      "========= close ========\n",
      "\tAROUSAL-s03|Acc=0.83417|10-CV=0.8|STD=0.0|Time spend=30.220654249191284\n",
      "\tVALENCE-s03|Acc=0.97083|10-CV=0.53433|STD=0.01317|Time spend=41.46039891242981\n",
      "Fitted sphere radius:         95.3 mm\n",
      "Origin head coordinates:      -0.8 15.1 45.3 mm\n",
      "Origin device coordinates:    -0.8 15.1 45.3 mm\n",
      "========= close ========\n",
      "\tAROUSAL-s04|Acc=0.8325|10-CV=0.59733|STD=0.00867|Time spend=29.209376335144043\n",
      "\tVALENCE-s04|Acc=0.78167|10-CV=0.595|STD=0.00342|Time spend=40.013397216796875\n",
      "Fitted sphere radius:         95.3 mm\n",
      "Origin head coordinates:      -0.8 15.1 45.3 mm\n",
      "Origin device coordinates:    -0.8 15.1 45.3 mm\n",
      "========= close ========\n",
      "\tAROUSAL-s05|Acc=0.83833|10-CV=0.50733|STD=0.01104|Time spend=28.76143789291382\n",
      "\tVALENCE-s05|Acc=0.69583|10-CV=0.598|STD=0.00521|Time spend=39.41348338127136\n",
      "Fitted sphere radius:         95.3 mm\n",
      "Origin head coordinates:      -0.8 15.1 45.3 mm\n",
      "Origin device coordinates:    -0.8 15.1 45.3 mm\n",
      "========= close ========\n",
      "\tAROUSAL-s06|Acc=0.92|10-CV=0.56833|STD=0.00687|Time spend=29.730381965637207\n",
      "\tVALENCE-s06|Acc=0.85417|10-CV=0.75|STD=0.0|Time spend=40.840798139572144\n",
      "Fitted sphere radius:         95.3 mm\n",
      "Origin head coordinates:      -0.8 15.1 45.3 mm\n",
      "Origin device coordinates:    -0.8 15.1 45.3 mm\n",
      "========= close ========\n",
      "\tAROUSAL-s07|Acc=0.9375|10-CV=0.62467|STD=0.00427|Time spend=30.48803210258484\n",
      "\tVALENCE-s07|Acc=0.9|10-CV=0.7|STD=0.0|Time spend=41.293864488601685\n",
      "Fitted sphere radius:         95.3 mm\n",
      "Origin head coordinates:      -0.8 15.1 45.3 mm\n",
      "Origin device coordinates:    -0.8 15.1 45.3 mm\n",
      "========= close ========\n",
      "\tAROUSAL-s08|Acc=0.96083|10-CV=0.575|STD=0.01302|Time spend=29.96925401687622\n",
      "\tVALENCE-s08|Acc=0.9575|10-CV=0.59633|STD=0.02178|Time spend=41.22828555107117\n",
      "Fitted sphere radius:         95.3 mm\n",
      "Origin head coordinates:      -0.8 15.1 45.3 mm\n",
      "Origin device coordinates:    -0.8 15.1 45.3 mm\n",
      "========= close ========\n",
      "\tAROUSAL-s09|Acc=0.78417|10-CV=0.59933|STD=0.00663|Time spend=30.10565686225891\n",
      "\tVALENCE-s09|Acc=0.92167|10-CV=0.54533|STD=0.02286|Time spend=41.4113335609436\n",
      "Fitted sphere radius:         95.3 mm\n",
      "Origin head coordinates:      -0.8 15.1 45.3 mm\n",
      "Origin device coordinates:    -0.8 15.1 45.3 mm\n",
      "========= close ========\n",
      "\tAROUSAL-s10|Acc=0.95667|10-CV=0.55|STD=0.01612|Time spend=30.543362855911255\n",
      "\tVALENCE-s10|Acc=0.9775|10-CV=0.52733|STD=0.01093|Time spend=41.74215292930603\n",
      "Fitted sphere radius:         95.3 mm\n",
      "Origin head coordinates:      -0.8 15.1 45.3 mm\n",
      "Origin device coordinates:    -0.8 15.1 45.3 mm\n",
      "========= close ========\n",
      "\tAROUSAL-s11|Acc=0.81333|10-CV=0.62333|STD=0.00365|Time spend=28.6368727684021\n",
      "\tVALENCE-s11|Acc=0.83167|10-CV=0.60033|STD=0.00586|Time spend=39.60960531234741\n",
      "Fitted sphere radius:         95.3 mm\n",
      "Origin head coordinates:      -0.8 15.1 45.3 mm\n",
      "Origin device coordinates:    -0.8 15.1 45.3 mm\n",
      "========= close ========\n",
      "\tAROUSAL-s12|Acc=0.85833|10-CV=0.82533|STD=0.00163|Time spend=30.002082109451294\n",
      "\tVALENCE-s12|Acc=0.97583|10-CV=0.51467|STD=0.02072|Time spend=42.35338735580444\n",
      "Fitted sphere radius:         95.3 mm\n",
      "Origin head coordinates:      -0.8 15.1 45.3 mm\n",
      "Origin device coordinates:    -0.8 15.1 45.3 mm\n",
      "========= close ========\n",
      "\tAROUSAL-s13|Acc=0.86917|10-CV=0.85|STD=0.0|Time spend=30.946654796600342\n",
      "\tVALENCE-s13|Acc=0.91|10-CV=0.57067|STD=0.01672|Time spend=42.11245083808899\n",
      "Fitted sphere radius:         95.3 mm\n",
      "Origin head coordinates:      -0.8 15.1 45.3 mm\n",
      "Origin device coordinates:    -0.8 15.1 45.3 mm\n",
      "========= close ========\n",
      "\tAROUSAL-s14|Acc=0.82083|10-CV=0.674|STD=0.002|Time spend=29.76711654663086\n",
      "\tVALENCE-s14|Acc=0.96167|10-CV=0.517|STD=0.03223|Time spend=41.05075979232788\n",
      "Fitted sphere radius:         95.3 mm\n",
      "Origin head coordinates:      -0.8 15.1 45.3 mm\n",
      "Origin device coordinates:    -0.8 15.1 45.3 mm\n",
      "========= close ========\n",
      "\tAROUSAL-s15|Acc=0.97833|10-CV=0.50467|STD=0.03344|Time spend=30.751291036605835\n",
      "\tVALENCE-s15|Acc=0.98667|10-CV=0.54767|STD=0.02343|Time spend=42.3818621635437\n",
      "Fitted sphere radius:         95.3 mm\n",
      "Origin head coordinates:      -0.8 15.1 45.3 mm\n",
      "Origin device coordinates:    -0.8 15.1 45.3 mm\n",
      "========= close ========\n",
      "\tAROUSAL-s16|Acc=0.98667|10-CV=0.48533|STD=0.02083|Time spend=30.459830045700073\n",
      "\tVALENCE-s16|Acc=0.94083|10-CV=0.62|STD=0.00558|Time spend=41.669930934906006\n",
      "Fitted sphere radius:         95.3 mm\n",
      "Origin head coordinates:      -0.8 15.1 45.3 mm\n",
      "Origin device coordinates:    -0.8 15.1 45.3 mm\n",
      "========= close ========\n",
      "\tAROUSAL-s17|Acc=0.8025|10-CV=0.60733|STD=0.01041|Time spend=30.986047983169556\n",
      "\tVALENCE-s17|Acc=0.9225|10-CV=0.55933|STD=0.01919|Time spend=43.74236249923706\n",
      "Fitted sphere radius:         95.3 mm\n",
      "Origin head coordinates:      -0.8 15.1 45.3 mm\n",
      "Origin device coordinates:    -0.8 15.1 45.3 mm\n",
      "========= close ========\n",
      "\tAROUSAL-s18|Acc=0.84833|10-CV=0.62733|STD=0.00389|Time spend=32.899550914764404\n",
      "\tVALENCE-s18|Acc=0.89417|10-CV=0.59667|STD=0.00789|Time spend=43.38796901702881\n",
      "Fitted sphere radius:         95.3 mm\n",
      "Origin head coordinates:      -0.8 15.1 45.3 mm\n",
      "Origin device coordinates:    -0.8 15.1 45.3 mm\n",
      "========= close ========\n",
      "\tAROUSAL-s19|Acc=0.71|10-CV=0.67433|STD=0.00153|Time spend=30.51977014541626\n",
      "\tVALENCE-s19|Acc=0.84917|10-CV=0.56867|STD=0.02109|Time spend=39.50582528114319\n",
      "Fitted sphere radius:         95.3 mm\n",
      "Origin head coordinates:      -0.8 15.1 45.3 mm\n",
      "Origin device coordinates:    -0.8 15.1 45.3 mm\n",
      "========= close ========\n",
      "\tAROUSAL-s20|Acc=0.84833|10-CV=0.775|STD=0.00167|Time spend=29.983516216278076\n",
      "\tVALENCE-s20|Acc=0.9375|10-CV=0.575|STD=0.0147|Time spend=39.35298013687134\n",
      "Fitted sphere radius:         95.3 mm\n",
      "Origin head coordinates:      -0.8 15.1 45.3 mm\n",
      "Origin device coordinates:    -0.8 15.1 45.3 mm\n",
      "========= close ========\n",
      "\tAROUSAL-s21|Acc=0.81667|10-CV=0.8|STD=0.0|Time spend=29.13313341140747\n",
      "\tVALENCE-s21|Acc=0.95|10-CV=0.50267|STD=0.01812|Time spend=39.105305910110474\n",
      "Fitted sphere radius:         95.3 mm\n",
      "Origin head coordinates:      -0.8 15.1 45.3 mm\n",
      "Origin device coordinates:    -0.8 15.1 45.3 mm\n",
      "========= close ========\n",
      "\tAROUSAL-s22|Acc=0.78|10-CV=0.60633|STD=0.01159|Time spend=26.88963031768799\n",
      "\tVALENCE-s22|Acc=0.88083|10-CV=0.54033|STD=0.01696|Time spend=35.91201996803284\n",
      "Fitted sphere radius:         95.3 mm\n",
      "Origin head coordinates:      -0.8 15.1 45.3 mm\n",
      "Origin device coordinates:    -0.8 15.1 45.3 mm\n",
      "========= close ========\n",
      "\tAROUSAL-s23|Acc=0.89|10-CV=0.75|STD=0.0|Time spend=27.774670839309692\n",
      "\tVALENCE-s23|Acc=0.94417|10-CV=0.64967|STD=0.001|Time spend=37.64043307304382\n",
      "Fitted sphere radius:         95.3 mm\n",
      "Origin head coordinates:      -0.8 15.1 45.3 mm\n",
      "Origin device coordinates:    -0.8 15.1 45.3 mm\n",
      "========= close ========\n",
      "\tAROUSAL-s24|Acc=0.83167|10-CV=0.82533|STD=0.00163|Time spend=32.28861045837402\n",
      "\tVALENCE-s24|Acc=0.90667|10-CV=0.55933|STD=0.01625|Time spend=43.806676387786865\n",
      "Fitted sphere radius:         95.3 mm\n",
      "Origin head coordinates:      -0.8 15.1 45.3 mm\n",
      "Origin device coordinates:    -0.8 15.1 45.3 mm\n",
      "========= close ========\n",
      "\tAROUSAL-s25|Acc=0.7675|10-CV=0.72667|STD=0.0|Time spend=30.36008596420288\n",
      "\tVALENCE-s25|Acc=0.94333|10-CV=0.52367|STD=0.03501|Time spend=42.47360157966614\n",
      "Fitted sphere radius:         95.3 mm\n",
      "Origin head coordinates:      -0.8 15.1 45.3 mm\n",
      "Origin device coordinates:    -0.8 15.1 45.3 mm\n",
      "========= close ========\n",
      "\tAROUSAL-s26|Acc=0.92|10-CV=0.57433|STD=0.01461|Time spend=31.702455520629883\n",
      "\tVALENCE-s26|Acc=0.81667|10-CV=0.649|STD=0.00153|Time spend=43.58374857902527\n",
      "Fitted sphere radius:         95.3 mm\n",
      "Origin head coordinates:      -0.8 15.1 45.3 mm\n",
      "Origin device coordinates:    -0.8 15.1 45.3 mm\n",
      "========= close ========\n",
      "\tAROUSAL-s27|Acc=0.895|10-CV=0.67433|STD=0.00153|Time spend=34.84713363647461\n",
      "\tVALENCE-s27|Acc=0.87333|10-CV=0.75|STD=0.0|Time spend=46.34817934036255\n",
      "Fitted sphere radius:         95.3 mm\n",
      "Origin head coordinates:      -0.8 15.1 45.3 mm\n",
      "Origin device coordinates:    -0.8 15.1 45.3 mm\n",
      "========= close ========\n",
      "\tAROUSAL-s28|Acc=0.9375|10-CV=0.539|STD=0.01633|Time spend=32.87915277481079\n",
      "\tVALENCE-s28|Acc=0.8825|10-CV=0.62433|STD=0.003|Time spend=44.43670129776001\n",
      "Fitted sphere radius:         95.3 mm\n",
      "Origin head coordinates:      -0.8 15.1 45.3 mm\n",
      "Origin device coordinates:    -0.8 15.1 45.3 mm\n",
      "========= close ========\n",
      "\tAROUSAL-s29|Acc=0.86167|10-CV=0.62467|STD=0.00452|Time spend=31.260637521743774\n",
      "\tVALENCE-s29|Acc=0.90167|10-CV=0.569|STD=0.00844|Time spend=42.97972917556763\n",
      "Fitted sphere radius:         95.3 mm\n",
      "Origin head coordinates:      -0.8 15.1 45.3 mm\n",
      "Origin device coordinates:    -0.8 15.1 45.3 mm\n",
      "========= close ========\n",
      "\tAROUSAL-s30|Acc=0.93667|10-CV=0.50233|STD=0.02108|Time spend=31.84141230583191\n",
      "\tVALENCE-s30|Acc=0.76917|10-CV=0.67433|STD=0.00153|Time spend=43.31118822097778\n",
      "Fitted sphere radius:         95.3 mm\n",
      "Origin head coordinates:      -0.8 15.1 45.3 mm\n",
      "Origin device coordinates:    -0.8 15.1 45.3 mm\n",
      "========= close ========\n",
      "\tAROUSAL-s31|Acc=0.9875|10-CV=0.559|STD=0.02733|Time spend=31.985608339309692\n",
      "\tVALENCE-s31|Acc=0.97667|10-CV=0.55033|STD=0.01882|Time spend=44.63177561759949\n",
      "Fitted sphere radius:         95.3 mm\n",
      "Origin head coordinates:      -0.8 15.1 45.3 mm\n",
      "Origin device coordinates:    -0.8 15.1 45.3 mm\n",
      "========= close ========\n",
      "\tAROUSAL-s32|Acc=0.8275|10-CV=0.67367|STD=0.0018|Time spend=30.59741973876953\n",
      "\tVALENCE-s32|Acc=0.9625|10-CV=0.514|STD=0.02365|Time spend=41.78267979621887\n",
      "AROUSAL|Acc=0.87|10-CV=0.6422916666666666|STD=0.008545237190545398\n",
      "VALENCE|Acc=0.905625|10-CV=0.5839374999999999|STD=0.013572930857975025\n"
     ]
    }
   ],
   "source": [
    "accs, cv_means, cv_stds = [],[],[]\n",
    "accs_v, cv_means_v, cv_stds_v = [],[],[]\n",
    "reports = []\n",
    "for filename in (pbar := tqdm(dataset.get_file_list())):\n",
    "    start = time.time()\n",
    "    pbar.set_description(filename)\n",
    "    data, labels, groups = dataset.get_data(filename, stimuli=Dataset_subjectDependent.STIMULI_AROUSAL, return_type='mne', sfreq=128)\n",
    "    \n",
    "    data_csd = mne.preprocessing.compute_current_source_density(data)\n",
    "\n",
    "    pli = calculate_pli(data_csd.get_data(), n_jobs=8)\n",
    "\n",
    "    _,acc,cross,train_report = train_model(pli, labels.squeeze(), groups, filename=filename, return_text=True)\n",
    "    report = f\"\\tAROUSAL-{filename}|Acc={round(acc,5)}|10-CV={round(cross.mean(),5)}|STD={round(cross.std(),5)}|Time spend={time.time() - start}\"\n",
    "    print(report)\n",
    "    reports.append(report)\n",
    "    reports.append(train_report)\n",
    "    accs.append(acc)\n",
    "    cv_means.append(cross.mean())\n",
    "    cv_stds.append(cross.std())\n",
    "\n",
    "    _, labels_v, groups_v = dataset.get_data(filename, stimuli=Dataset_subjectDependent.STIMULI_VALENCE, return_type='mne', sfreq=128)\n",
    "    _,acc,cross,train_report = train_model(pli, labels_v.squeeze(), groups_v, filename=filename, return_text=True)\n",
    "    report = f\"\\tVALENCE-{filename}|Acc={round(acc,5)}|10-CV={round(cross.mean(),5)}|STD={round(cross.std(),5)}|Time spend={time.time() - start}\"\n",
    "    print(report)\n",
    "    reports.append(report)\n",
    "    reports.append(train_report)\n",
    "    accs_v.append(acc)\n",
    "    cv_means_v.append(cross.mean())\n",
    "    cv_stds_v.append(cross.std())\n",
    "    # break\n",
    "    # count+=1\n",
    "    # if(count == 5): break\n",
    "report = f\"AROUSAL|Acc={sum(accs)/len(accs)}|10-CV={sum(cv_means)/len(cv_means)}|STD={sum(cv_stds)/len(cv_stds)}\"\n",
    "print(report)\n",
    "reports.append(report)\n",
    "report = f\"VALENCE|Acc={sum(accs_v)/len(accs_v)}|10-CV={sum(cv_means_v)/len(cv_means_v)}|STD={sum(cv_stds_v)/len(cv_stds_v)}\"\n",
    "print(report)\n",
    "reports.append(report)"
   ]
  },
  {
   "cell_type": "code",
   "execution_count": 18,
   "metadata": {},
   "outputs": [
    {
     "name": "stdout",
     "output_type": "stream",
     "text": [
      "\tAROUSAL-s01|Acc=0.94583|10-CV=0.60933|STD=0.00854|Time spend=30.060890197753906\n",
      "\tVALENCE-s01|Acc=0.9925|10-CV=0.52133|STD=0.02945|Time spend=40.77995467185974\n",
      "\tAROUSAL-s02|Acc=0.8425|10-CV=0.61967|STD=0.01882|Time spend=29.265422105789185\n",
      "\tVALENCE-s02|Acc=0.91083|10-CV=0.54167|STD=0.01579|Time spend=40.695847034454346\n",
      "\tAROUSAL-s03|Acc=0.83417|10-CV=0.8|STD=0.0|Time spend=30.220654249191284\n",
      "\tVALENCE-s03|Acc=0.97083|10-CV=0.53433|STD=0.01317|Time spend=41.46039891242981\n",
      "\tAROUSAL-s04|Acc=0.8325|10-CV=0.59733|STD=0.00867|Time spend=29.209376335144043\n",
      "\tVALENCE-s04|Acc=0.78167|10-CV=0.595|STD=0.00342|Time spend=40.013397216796875\n",
      "\tAROUSAL-s05|Acc=0.83833|10-CV=0.50733|STD=0.01104|Time spend=28.76143789291382\n",
      "\tVALENCE-s05|Acc=0.69583|10-CV=0.598|STD=0.00521|Time spend=39.41348338127136\n",
      "\tAROUSAL-s06|Acc=0.92|10-CV=0.56833|STD=0.00687|Time spend=29.730381965637207\n",
      "\tVALENCE-s06|Acc=0.85417|10-CV=0.75|STD=0.0|Time spend=40.840798139572144\n",
      "\tAROUSAL-s07|Acc=0.9375|10-CV=0.62467|STD=0.00427|Time spend=30.48803210258484\n",
      "\tVALENCE-s07|Acc=0.9|10-CV=0.7|STD=0.0|Time spend=41.293864488601685\n",
      "\tAROUSAL-s08|Acc=0.96083|10-CV=0.575|STD=0.01302|Time spend=29.96925401687622\n",
      "\tVALENCE-s08|Acc=0.9575|10-CV=0.59633|STD=0.02178|Time spend=41.22828555107117\n",
      "\tAROUSAL-s09|Acc=0.78417|10-CV=0.59933|STD=0.00663|Time spend=30.10565686225891\n",
      "\tVALENCE-s09|Acc=0.92167|10-CV=0.54533|STD=0.02286|Time spend=41.4113335609436\n",
      "\tAROUSAL-s10|Acc=0.95667|10-CV=0.55|STD=0.01612|Time spend=30.543362855911255\n",
      "\tVALENCE-s10|Acc=0.9775|10-CV=0.52733|STD=0.01093|Time spend=41.74215292930603\n",
      "\tAROUSAL-s11|Acc=0.81333|10-CV=0.62333|STD=0.00365|Time spend=28.6368727684021\n",
      "\tVALENCE-s11|Acc=0.83167|10-CV=0.60033|STD=0.00586|Time spend=39.60960531234741\n",
      "\tAROUSAL-s12|Acc=0.85833|10-CV=0.82533|STD=0.00163|Time spend=30.002082109451294\n",
      "\tVALENCE-s12|Acc=0.97583|10-CV=0.51467|STD=0.02072|Time spend=42.35338735580444\n",
      "\tAROUSAL-s13|Acc=0.86917|10-CV=0.85|STD=0.0|Time spend=30.946654796600342\n",
      "\tVALENCE-s13|Acc=0.91|10-CV=0.57067|STD=0.01672|Time spend=42.11245083808899\n",
      "\tAROUSAL-s14|Acc=0.82083|10-CV=0.674|STD=0.002|Time spend=29.76711654663086\n",
      "\tVALENCE-s14|Acc=0.96167|10-CV=0.517|STD=0.03223|Time spend=41.05075979232788\n",
      "\tAROUSAL-s15|Acc=0.97833|10-CV=0.50467|STD=0.03344|Time spend=30.751291036605835\n",
      "\tVALENCE-s15|Acc=0.98667|10-CV=0.54767|STD=0.02343|Time spend=42.3818621635437\n",
      "\tAROUSAL-s16|Acc=0.98667|10-CV=0.48533|STD=0.02083|Time spend=30.459830045700073\n",
      "\tVALENCE-s16|Acc=0.94083|10-CV=0.62|STD=0.00558|Time spend=41.669930934906006\n",
      "\tAROUSAL-s17|Acc=0.8025|10-CV=0.60733|STD=0.01041|Time spend=30.986047983169556\n",
      "\tVALENCE-s17|Acc=0.9225|10-CV=0.55933|STD=0.01919|Time spend=43.74236249923706\n",
      "\tAROUSAL-s18|Acc=0.84833|10-CV=0.62733|STD=0.00389|Time spend=32.899550914764404\n",
      "\tVALENCE-s18|Acc=0.89417|10-CV=0.59667|STD=0.00789|Time spend=43.38796901702881\n",
      "\tAROUSAL-s19|Acc=0.71|10-CV=0.67433|STD=0.00153|Time spend=30.51977014541626\n",
      "\tVALENCE-s19|Acc=0.84917|10-CV=0.56867|STD=0.02109|Time spend=39.50582528114319\n",
      "\tAROUSAL-s20|Acc=0.84833|10-CV=0.775|STD=0.00167|Time spend=29.983516216278076\n",
      "\tVALENCE-s20|Acc=0.9375|10-CV=0.575|STD=0.0147|Time spend=39.35298013687134\n",
      "\tAROUSAL-s21|Acc=0.81667|10-CV=0.8|STD=0.0|Time spend=29.13313341140747\n",
      "\tVALENCE-s21|Acc=0.95|10-CV=0.50267|STD=0.01812|Time spend=39.105305910110474\n",
      "\tAROUSAL-s22|Acc=0.78|10-CV=0.60633|STD=0.01159|Time spend=26.88963031768799\n",
      "\tVALENCE-s22|Acc=0.88083|10-CV=0.54033|STD=0.01696|Time spend=35.91201996803284\n",
      "\tAROUSAL-s23|Acc=0.89|10-CV=0.75|STD=0.0|Time spend=27.774670839309692\n",
      "\tVALENCE-s23|Acc=0.94417|10-CV=0.64967|STD=0.001|Time spend=37.64043307304382\n",
      "\tAROUSAL-s24|Acc=0.83167|10-CV=0.82533|STD=0.00163|Time spend=32.28861045837402\n",
      "\tVALENCE-s24|Acc=0.90667|10-CV=0.55933|STD=0.01625|Time spend=43.806676387786865\n",
      "\tAROUSAL-s25|Acc=0.7675|10-CV=0.72667|STD=0.0|Time spend=30.36008596420288\n",
      "\tVALENCE-s25|Acc=0.94333|10-CV=0.52367|STD=0.03501|Time spend=42.47360157966614\n",
      "\tAROUSAL-s26|Acc=0.92|10-CV=0.57433|STD=0.01461|Time spend=31.702455520629883\n",
      "\tVALENCE-s26|Acc=0.81667|10-CV=0.649|STD=0.00153|Time spend=43.58374857902527\n",
      "\tAROUSAL-s27|Acc=0.895|10-CV=0.67433|STD=0.00153|Time spend=34.84713363647461\n",
      "\tVALENCE-s27|Acc=0.87333|10-CV=0.75|STD=0.0|Time spend=46.34817934036255\n",
      "\tAROUSAL-s28|Acc=0.9375|10-CV=0.539|STD=0.01633|Time spend=32.87915277481079\n",
      "\tVALENCE-s28|Acc=0.8825|10-CV=0.62433|STD=0.003|Time spend=44.43670129776001\n",
      "\tAROUSAL-s29|Acc=0.86167|10-CV=0.62467|STD=0.00452|Time spend=31.260637521743774\n",
      "\tVALENCE-s29|Acc=0.90167|10-CV=0.569|STD=0.00844|Time spend=42.97972917556763\n",
      "\tAROUSAL-s30|Acc=0.93667|10-CV=0.50233|STD=0.02108|Time spend=31.84141230583191\n",
      "\tVALENCE-s30|Acc=0.76917|10-CV=0.67433|STD=0.00153|Time spend=43.31118822097778\n",
      "\tAROUSAL-s31|Acc=0.9875|10-CV=0.559|STD=0.02733|Time spend=31.985608339309692\n",
      "\tVALENCE-s31|Acc=0.97667|10-CV=0.55033|STD=0.01882|Time spend=44.63177561759949\n",
      "\tAROUSAL-s32|Acc=0.8275|10-CV=0.67367|STD=0.0018|Time spend=30.59741973876953\n",
      "\tVALENCE-s32|Acc=0.9625|10-CV=0.514|STD=0.02365|Time spend=41.78267979621887\n",
      "AROUSAL|Acc=0.87|10-CV=0.6422916666666666|STD=0.008545237190545398\n",
      "VALENCE|Acc=0.905625|10-CV=0.5839374999999999|STD=0.013572930857975025\n",
      "TOTAL|Acc=0.8878124999999999|10-CV=0.6131145833333336|STD=0.011059084024260209\n"
     ]
    }
   ],
   "source": [
    "for text in reports:\n",
    "    if(text == None): continue\n",
    "    print(text)\n",
    "\n",
    "accs.extend(accs_v)\n",
    "cv_means.extend(cv_means_v)\n",
    "cv_stds.extend(cv_stds_v)\n",
    "print(f\"TOTAL|Acc={sum(accs)/len(accs)}|10-CV={sum(cv_means)/len(cv_means)}|STD={sum(cv_stds)/len(cv_stds)}\")"
   ]
  },
  {
   "cell_type": "markdown",
   "metadata": {},
   "source": [
    "## 5. CSP"
   ]
  },
  {
   "cell_type": "code",
   "execution_count": 19,
   "metadata": {},
   "outputs": [],
   "source": [
    "from components.CSP import CSP\n",
    "from mne_features.feature_extraction import FeatureExtractor\n",
    "\n",
    "bands = [(0,4), (4,8), (8,12), (12,30), (30,64)]\n",
    "# [alias_feature_function]__[optional_param]\n",
    "params = dict({\n",
    "    'pow_freq_bands__log':True,\n",
    "    'pow_freq_bands__normalize':False,\n",
    "    'pow_freq_bands__freq_bands':bands\n",
    "})"
   ]
  },
  {
   "cell_type": "code",
   "execution_count": 20,
   "metadata": {},
   "outputs": [
    {
     "data": {
      "application/vnd.jupyter.widget-view+json": {
       "model_id": "99b98a58b8cf4ad59592f89f3059b154",
       "version_major": 2,
       "version_minor": 0
      },
      "text/plain": [
       "  0%|          | 0/32 [00:00<?, ?it/s]"
      ]
     },
     "metadata": {},
     "output_type": "display_data"
    },
    {
     "name": "stderr",
     "output_type": "stream",
     "text": [
      "/root/projects/components/CSP.py:78: ComplexWarning: Casting complex values to real discards the imaginary part\n",
      "  return SFa.astype(np.float32)\n"
     ]
    },
    {
     "name": "stdout",
     "output_type": "stream",
     "text": [
      "\tAROUSAL-s01|Acc=0.75833|10-CV=0.76267|STD=0.01348|Time spend=1.3764214515686035\n"
     ]
    },
    {
     "name": "stderr",
     "output_type": "stream",
     "text": [
      "/root/projects/components/CSP.py:78: ComplexWarning: Casting complex values to real discards the imaginary part\n",
      "  return SFa.astype(np.float32)\n"
     ]
    },
    {
     "name": "stdout",
     "output_type": "stream",
     "text": [
      "\tAROUSAL-s02|Acc=0.6125|10-CV=0.60367|STD=0.00737|Time spend=1.0207149982452393\n"
     ]
    },
    {
     "name": "stderr",
     "output_type": "stream",
     "text": [
      "/root/projects/components/CSP.py:78: ComplexWarning: Casting complex values to real discards the imaginary part\n",
      "  return SFa.astype(np.float32)\n"
     ]
    },
    {
     "name": "stdout",
     "output_type": "stream",
     "text": [
      "\tAROUSAL-s03|Acc=0.83583|10-CV=0.82867|STD=0.01572|Time spend=0.7897648811340332\n"
     ]
    },
    {
     "name": "stderr",
     "output_type": "stream",
     "text": [
      "/root/projects/components/CSP.py:78: ComplexWarning: Casting complex values to real discards the imaginary part\n",
      "  return SFa.astype(np.float32)\n"
     ]
    },
    {
     "name": "stdout",
     "output_type": "stream",
     "text": [
      "\tAROUSAL-s04|Acc=0.6375|10-CV=0.61533|STD=0.01881|Time spend=0.9664087295532227\n"
     ]
    },
    {
     "name": "stderr",
     "output_type": "stream",
     "text": [
      "/root/projects/components/CSP.py:78: ComplexWarning: Casting complex values to real discards the imaginary part\n",
      "  return SFa.astype(np.float32)\n"
     ]
    },
    {
     "name": "stdout",
     "output_type": "stream",
     "text": [
      "\tAROUSAL-s05|Acc=0.81167|10-CV=0.79733|STD=0.02149|Time spend=0.8357725143432617\n"
     ]
    },
    {
     "name": "stderr",
     "output_type": "stream",
     "text": [
      "/root/projects/components/CSP.py:78: ComplexWarning: Casting complex values to real discards the imaginary part\n",
      "  return SFa.astype(np.float32)\n"
     ]
    },
    {
     "name": "stdout",
     "output_type": "stream",
     "text": [
      "\tAROUSAL-s06|Acc=0.72917|10-CV=0.708|STD=0.01893|Time spend=0.8777599334716797\n"
     ]
    },
    {
     "name": "stderr",
     "output_type": "stream",
     "text": [
      "/root/projects/components/CSP.py:78: ComplexWarning: Casting complex values to real discards the imaginary part\n",
      "  return SFa.astype(np.float32)\n"
     ]
    },
    {
     "name": "stdout",
     "output_type": "stream",
     "text": [
      "\tAROUSAL-s07|Acc=0.88333|10-CV=0.88467|STD=0.01275|Time spend=0.758676290512085\n"
     ]
    },
    {
     "name": "stderr",
     "output_type": "stream",
     "text": [
      "/root/projects/components/CSP.py:78: ComplexWarning: Casting complex values to real discards the imaginary part\n",
      "  return SFa.astype(np.float32)\n"
     ]
    },
    {
     "name": "stdout",
     "output_type": "stream",
     "text": [
      "\tAROUSAL-s08|Acc=0.75167|10-CV=0.74233|STD=0.01915|Time spend=0.9308791160583496\n"
     ]
    },
    {
     "name": "stderr",
     "output_type": "stream",
     "text": [
      "/root/projects/components/CSP.py:78: ComplexWarning: Casting complex values to real discards the imaginary part\n",
      "  return SFa.astype(np.float32)\n"
     ]
    },
    {
     "name": "stdout",
     "output_type": "stream",
     "text": [
      "\tAROUSAL-s09|Acc=0.62167|10-CV=0.61067|STD=0.01153|Time spend=1.0503926277160645\n"
     ]
    },
    {
     "name": "stderr",
     "output_type": "stream",
     "text": [
      "/root/projects/components/CSP.py:78: ComplexWarning: Casting complex values to real discards the imaginary part\n",
      "  return SFa.astype(np.float32)\n"
     ]
    },
    {
     "name": "stdout",
     "output_type": "stream",
     "text": [
      "\tAROUSAL-s10|Acc=0.575|10-CV=0.549|STD=0.01868|Time spend=1.055267095565796\n"
     ]
    },
    {
     "name": "stderr",
     "output_type": "stream",
     "text": [
      "/root/projects/components/CSP.py:78: ComplexWarning: Casting complex values to real discards the imaginary part\n",
      "  return SFa.astype(np.float32)\n"
     ]
    },
    {
     "name": "stdout",
     "output_type": "stream",
     "text": [
      "\tAROUSAL-s11|Acc=0.9625|10-CV=0.961|STD=0.007|Time spend=0.7221934795379639\n"
     ]
    },
    {
     "name": "stderr",
     "output_type": "stream",
     "text": [
      "/root/projects/components/CSP.py:78: ComplexWarning: Casting complex values to real discards the imaginary part\n",
      "  return SFa.astype(np.float32)\n"
     ]
    },
    {
     "name": "stdout",
     "output_type": "stream",
     "text": [
      "\tAROUSAL-s12|Acc=0.85917|10-CV=0.84933|STD=0.01281|Time spend=0.7876129150390625\n"
     ]
    },
    {
     "name": "stderr",
     "output_type": "stream",
     "text": [
      "/root/projects/components/CSP.py:78: ComplexWarning: Casting complex values to real discards the imaginary part\n",
      "  return SFa.astype(np.float32)\n"
     ]
    },
    {
     "name": "stdout",
     "output_type": "stream",
     "text": [
      "\tAROUSAL-s13|Acc=0.87417|10-CV=0.86633|STD=0.0109|Time spend=0.7541940212249756\n"
     ]
    },
    {
     "name": "stderr",
     "output_type": "stream",
     "text": [
      "/root/projects/components/CSP.py:78: ComplexWarning: Casting complex values to real discards the imaginary part\n",
      "  return SFa.astype(np.float32)\n"
     ]
    },
    {
     "name": "stdout",
     "output_type": "stream",
     "text": [
      "\tAROUSAL-s14|Acc=0.83167|10-CV=0.82067|STD=0.01763|Time spend=0.8542733192443848\n"
     ]
    },
    {
     "name": "stderr",
     "output_type": "stream",
     "text": [
      "/root/projects/components/CSP.py:78: ComplexWarning: Casting complex values to real discards the imaginary part\n",
      "  return SFa.astype(np.float32)\n"
     ]
    },
    {
     "name": "stdout",
     "output_type": "stream",
     "text": [
      "\tAROUSAL-s15|Acc=0.61917|10-CV=0.57633|STD=0.01841|Time spend=0.9806365966796875\n"
     ]
    },
    {
     "name": "stderr",
     "output_type": "stream",
     "text": [
      "/root/projects/components/CSP.py:78: ComplexWarning: Casting complex values to real discards the imaginary part\n",
      "  return SFa.astype(np.float32)\n"
     ]
    },
    {
     "name": "stdout",
     "output_type": "stream",
     "text": [
      "\tAROUSAL-s16|Acc=0.72917|10-CV=0.71433|STD=0.01065|Time spend=0.9093348979949951\n"
     ]
    },
    {
     "name": "stderr",
     "output_type": "stream",
     "text": [
      "/root/projects/components/CSP.py:78: ComplexWarning: Casting complex values to real discards the imaginary part\n",
      "  return SFa.astype(np.float32)\n"
     ]
    },
    {
     "name": "stdout",
     "output_type": "stream",
     "text": [
      "\tAROUSAL-s17|Acc=0.92417|10-CV=0.91267|STD=0.01788|Time spend=0.7228026390075684\n"
     ]
    },
    {
     "name": "stderr",
     "output_type": "stream",
     "text": [
      "/root/projects/components/CSP.py:78: ComplexWarning: Casting complex values to real discards the imaginary part\n",
      "  return SFa.astype(np.float32)\n"
     ]
    },
    {
     "name": "stdout",
     "output_type": "stream",
     "text": [
      "\tAROUSAL-s18|Acc=0.6325|10-CV=0.625|STD=0.00522|Time spend=0.9429354667663574\n"
     ]
    },
    {
     "name": "stderr",
     "output_type": "stream",
     "text": [
      "/root/projects/components/CSP.py:78: ComplexWarning: Casting complex values to real discards the imaginary part\n",
      "  return SFa.astype(np.float32)\n"
     ]
    },
    {
     "name": "stdout",
     "output_type": "stream",
     "text": [
      "-----WARNING: Model s19 failed to learn: sum(ans)=1200.0 sum(y)=810.0 len(y)=1200\n",
      "\tAROUSAL-s19|Acc=0.675|10-CV=0.67433|STD=0.00153|Time spend=0.953228235244751\n"
     ]
    },
    {
     "name": "stderr",
     "output_type": "stream",
     "text": [
      "/root/projects/components/CSP.py:78: ComplexWarning: Casting complex values to real discards the imaginary part\n",
      "  return SFa.astype(np.float32)\n"
     ]
    },
    {
     "name": "stdout",
     "output_type": "stream",
     "text": [
      "\tAROUSAL-s20|Acc=0.86583|10-CV=0.86167|STD=0.00734|Time spend=0.7922372817993164\n"
     ]
    },
    {
     "name": "stderr",
     "output_type": "stream",
     "text": [
      "/root/projects/components/CSP.py:78: ComplexWarning: Casting complex values to real discards the imaginary part\n",
      "  return SFa.astype(np.float32)\n"
     ]
    },
    {
     "name": "stdout",
     "output_type": "stream",
     "text": [
      "\tAROUSAL-s21|Acc=0.94167|10-CV=0.93|STD=0.00989|Time spend=0.7033607959747314\n"
     ]
    },
    {
     "name": "stderr",
     "output_type": "stream",
     "text": [
      "/root/projects/components/CSP.py:78: ComplexWarning: Casting complex values to real discards the imaginary part\n",
      "  return SFa.astype(np.float32)\n"
     ]
    },
    {
     "name": "stdout",
     "output_type": "stream",
     "text": [
      "\tAROUSAL-s22|Acc=0.6175|10-CV=0.59867|STD=0.01352|Time spend=0.9664328098297119\n"
     ]
    },
    {
     "name": "stderr",
     "output_type": "stream",
     "text": [
      "/root/projects/components/CSP.py:78: ComplexWarning: Casting complex values to real discards the imaginary part\n",
      "  return SFa.astype(np.float32)\n"
     ]
    },
    {
     "name": "stdout",
     "output_type": "stream",
     "text": [
      "\tAROUSAL-s23|Acc=0.80583|10-CV=0.79067|STD=0.01263|Time spend=0.7995045185089111\n"
     ]
    },
    {
     "name": "stderr",
     "output_type": "stream",
     "text": [
      "/root/projects/components/CSP.py:78: ComplexWarning: Casting complex values to real discards the imaginary part\n",
      "  return SFa.astype(np.float32)\n"
     ]
    },
    {
     "name": "stdout",
     "output_type": "stream",
     "text": [
      "\tAROUSAL-s24|Acc=0.99833|10-CV=0.99633|STD=0.00314|Time spend=0.6546452045440674\n"
     ]
    },
    {
     "name": "stderr",
     "output_type": "stream",
     "text": [
      "/root/projects/components/CSP.py:78: ComplexWarning: Casting complex values to real discards the imaginary part\n",
      "  return SFa.astype(np.float32)\n"
     ]
    },
    {
     "name": "stdout",
     "output_type": "stream",
     "text": [
      "\tAROUSAL-s25|Acc=0.96917|10-CV=0.95967|STD=0.00586|Time spend=0.7910275459289551\n"
     ]
    },
    {
     "name": "stderr",
     "output_type": "stream",
     "text": [
      "/root/projects/components/CSP.py:78: ComplexWarning: Casting complex values to real discards the imaginary part\n",
      "  return SFa.astype(np.float32)\n"
     ]
    },
    {
     "name": "stdout",
     "output_type": "stream",
     "text": [
      "\tAROUSAL-s26|Acc=0.73333|10-CV=0.71933|STD=0.01812|Time spend=0.9205577373504639\n"
     ]
    },
    {
     "name": "stderr",
     "output_type": "stream",
     "text": [
      "/root/projects/components/CSP.py:78: ComplexWarning: Casting complex values to real discards the imaginary part\n",
      "  return SFa.astype(np.float32)\n"
     ]
    },
    {
     "name": "stdout",
     "output_type": "stream",
     "text": [
      "\tAROUSAL-s27|Acc=0.67833|10-CV=0.673|STD=0.00504|Time spend=0.9462182521820068\n"
     ]
    },
    {
     "name": "stderr",
     "output_type": "stream",
     "text": [
      "/root/projects/components/CSP.py:78: ComplexWarning: Casting complex values to real discards the imaginary part\n",
      "  return SFa.astype(np.float32)\n"
     ]
    },
    {
     "name": "stdout",
     "output_type": "stream",
     "text": [
      "\tAROUSAL-s28|Acc=0.60917|10-CV=0.57433|STD=0.01826|Time spend=1.0431506633758545\n"
     ]
    },
    {
     "name": "stderr",
     "output_type": "stream",
     "text": [
      "/root/projects/components/CSP.py:78: ComplexWarning: Casting complex values to real discards the imaginary part\n",
      "  return SFa.astype(np.float32)\n"
     ]
    },
    {
     "name": "stdout",
     "output_type": "stream",
     "text": [
      "\tAROUSAL-s29|Acc=0.6425|10-CV=0.63467|STD=0.00718|Time spend=0.9872288703918457\n"
     ]
    },
    {
     "name": "stderr",
     "output_type": "stream",
     "text": [
      "/root/projects/components/CSP.py:78: ComplexWarning: Casting complex values to real discards the imaginary part\n",
      "  return SFa.astype(np.float32)\n"
     ]
    },
    {
     "name": "stdout",
     "output_type": "stream",
     "text": [
      "\tAROUSAL-s30|Acc=0.59917|10-CV=0.58733|STD=0.02015|Time spend=1.0209791660308838\n"
     ]
    },
    {
     "name": "stderr",
     "output_type": "stream",
     "text": [
      "/root/projects/components/CSP.py:78: ComplexWarning: Casting complex values to real discards the imaginary part\n",
      "  return SFa.astype(np.float32)\n"
     ]
    },
    {
     "name": "stdout",
     "output_type": "stream",
     "text": [
      "\tAROUSAL-s31|Acc=0.9725|10-CV=0.96633|STD=0.00836|Time spend=0.7068815231323242\n"
     ]
    },
    {
     "name": "stderr",
     "output_type": "stream",
     "text": [
      "/root/projects/components/CSP.py:78: ComplexWarning: Casting complex values to real discards the imaginary part\n",
      "  return SFa.astype(np.float32)\n"
     ]
    },
    {
     "name": "stdout",
     "output_type": "stream",
     "text": [
      "\tAROUSAL-s32|Acc=0.9975|10-CV=0.99333|STD=0.00494|Time spend=0.8033361434936523\n",
      "AROUSAL|Acc=0.77359375|10-CV=0.7621145833333334|STD=0.012324025052960845\n"
     ]
    }
   ],
   "source": [
    "accs, cv_means, cv_stds = [],[],[]\n",
    "for filename in tqdm(dataset.get_file_list()):\n",
    "\n",
    "    data, labels, groups = dataset.get_data(filename, stimuli=Dataset_subjectDependent.STIMULI_AROUSAL, return_type='numpy')\n",
    "    labels = labels.squeeze()\n",
    "    start = time.time()\n",
    "    filters = CSP(data[labels==0], data[labels==1])\n",
    "    \n",
    "    csp_data = []\n",
    "    for index in range(len(data)):\n",
    "        \n",
    "        # (672, 32) @ (32, 32) = (672, 32)\n",
    "        csp = data[index].T @ filters[labels[index].astype(int)]\n",
    "        # (1, 32, 672)\n",
    "        csp = np.expand_dims(csp.T, axis=0)\n",
    "        csp_data.append(csp)\n",
    "\n",
    "    csp_data = np.vstack(csp_data)\n",
    "    # print(csp_data.shape) => (2400, 32, 128)\n",
    "    fe = FeatureExtractor(sfreq=128, selected_funcs=['pow_freq_bands'],params=params,n_jobs=8)\n",
    "    X = fe.fit_transform(X=csp_data)\n",
    "    # print(X.shape, time.time() - start) => (2400, 160) 1.2374355792999268\n",
    "\n",
    "    assert X.shape[1] == 160\n",
    "    _, acc, cross = train_model(X, labels.reshape(-1), groups, filename=filename)\n",
    "    print(f\"\\tAROUSAL-{filename}|Acc={round(acc,5)}|10-CV={round(cross.mean(),5)}|STD={round(cross.std(),5)}|Time spend={time.time() - start}\")\n",
    "    accs.append(acc)\n",
    "    cv_means.append(cross.mean())\n",
    "    cv_stds.append(cross.std())\n",
    "print(f\"AROUSAL|Acc={sum(accs)/len(accs)}|10-CV={sum(cv_means)/len(cv_means)}|STD={sum(cv_stds)/len(cv_stds)}\")"
   ]
  },
  {
   "cell_type": "code",
   "execution_count": 21,
   "metadata": {},
   "outputs": [
    {
     "data": {
      "application/vnd.jupyter.widget-view+json": {
       "model_id": "e19493736a844d9f9a60f3c3012ec60b",
       "version_major": 2,
       "version_minor": 0
      },
      "text/plain": [
       "  0%|          | 0/32 [00:00<?, ?it/s]"
      ]
     },
     "metadata": {},
     "output_type": "display_data"
    },
    {
     "name": "stderr",
     "output_type": "stream",
     "text": [
      "/root/projects/components/CSP.py:78: ComplexWarning: Casting complex values to real discards the imaginary part\n",
      "  return SFa.astype(np.float32)\n"
     ]
    },
    {
     "name": "stdout",
     "output_type": "stream",
     "text": [
      "\tVALENCE-s01|Acc=0.5675|10-CV=0.55267|STD=0.01428|Time spend=1.05899977684021\n"
     ]
    },
    {
     "name": "stderr",
     "output_type": "stream",
     "text": [
      "/root/projects/components/CSP.py:78: ComplexWarning: Casting complex values to real discards the imaginary part\n",
      "  return SFa.astype(np.float32)\n"
     ]
    },
    {
     "name": "stdout",
     "output_type": "stream",
     "text": [
      "\tVALENCE-s02|Acc=0.6|10-CV=0.57033|STD=0.02089|Time spend=1.0811896324157715\n"
     ]
    },
    {
     "name": "stderr",
     "output_type": "stream",
     "text": [
      "/root/projects/components/CSP.py:78: ComplexWarning: Casting complex values to real discards the imaginary part\n",
      "  return SFa.astype(np.float32)\n"
     ]
    },
    {
     "name": "stdout",
     "output_type": "stream",
     "text": [
      "\tVALENCE-s03|Acc=0.69|10-CV=0.65567|STD=0.0327|Time spend=0.9624063968658447\n"
     ]
    },
    {
     "name": "stderr",
     "output_type": "stream",
     "text": [
      "/root/projects/components/CSP.py:78: ComplexWarning: Casting complex values to real discards the imaginary part\n",
      "  return SFa.astype(np.float32)\n"
     ]
    },
    {
     "name": "stdout",
     "output_type": "stream",
     "text": [
      "\tVALENCE-s04|Acc=0.68167|10-CV=0.65167|STD=0.01628|Time spend=0.9538490772247314\n"
     ]
    },
    {
     "name": "stderr",
     "output_type": "stream",
     "text": [
      "/root/projects/components/CSP.py:78: ComplexWarning: Casting complex values to real discards the imaginary part\n",
      "  return SFa.astype(np.float32)\n"
     ]
    },
    {
     "name": "stdout",
     "output_type": "stream",
     "text": [
      "\tVALENCE-s05|Acc=0.60833|10-CV=0.59967|STD=0.00862|Time spend=0.9928154945373535\n"
     ]
    },
    {
     "name": "stderr",
     "output_type": "stream",
     "text": [
      "/root/projects/components/CSP.py:78: ComplexWarning: Casting complex values to real discards the imaginary part\n",
      "  return SFa.astype(np.float32)\n"
     ]
    },
    {
     "name": "stdout",
     "output_type": "stream",
     "text": [
      "\tVALENCE-s06|Acc=0.9875|10-CV=0.984|STD=0.00416|Time spend=0.681753396987915\n"
     ]
    },
    {
     "name": "stderr",
     "output_type": "stream",
     "text": [
      "/root/projects/components/CSP.py:78: ComplexWarning: Casting complex values to real discards the imaginary part\n",
      "  return SFa.astype(np.float32)\n"
     ]
    },
    {
     "name": "stdout",
     "output_type": "stream",
     "text": [
      "\tVALENCE-s07|Acc=0.92833|10-CV=0.92433|STD=0.00883|Time spend=0.7630422115325928\n"
     ]
    },
    {
     "name": "stderr",
     "output_type": "stream",
     "text": [
      "/root/projects/components/CSP.py:78: ComplexWarning: Casting complex values to real discards the imaginary part\n",
      "  return SFa.astype(np.float32)\n"
     ]
    },
    {
     "name": "stdout",
     "output_type": "stream",
     "text": [
      "\tVALENCE-s08|Acc=0.87417|10-CV=0.85933|STD=0.02048|Time spend=0.8265244960784912\n"
     ]
    },
    {
     "name": "stderr",
     "output_type": "stream",
     "text": [
      "/root/projects/components/CSP.py:78: ComplexWarning: Casting complex values to real discards the imaginary part\n",
      "  return SFa.astype(np.float32)\n"
     ]
    },
    {
     "name": "stdout",
     "output_type": "stream",
     "text": [
      "\tVALENCE-s09|Acc=0.61417|10-CV=0.56767|STD=0.03266|Time spend=1.0226869583129883\n"
     ]
    },
    {
     "name": "stderr",
     "output_type": "stream",
     "text": [
      "/root/projects/components/CSP.py:78: ComplexWarning: Casting complex values to real discards the imaginary part\n",
      "  return SFa.astype(np.float32)\n"
     ]
    },
    {
     "name": "stdout",
     "output_type": "stream",
     "text": [
      "\tVALENCE-s10|Acc=0.68667|10-CV=0.67667|STD=0.01291|Time spend=0.9414718151092529\n"
     ]
    },
    {
     "name": "stderr",
     "output_type": "stream",
     "text": [
      "/root/projects/components/CSP.py:78: ComplexWarning: Casting complex values to real discards the imaginary part\n",
      "  return SFa.astype(np.float32)\n"
     ]
    },
    {
     "name": "stdout",
     "output_type": "stream",
     "text": [
      "\tVALENCE-s11|Acc=0.61333|10-CV=0.596|STD=0.0102|Time spend=1.0216691493988037\n"
     ]
    },
    {
     "name": "stderr",
     "output_type": "stream",
     "text": [
      "/root/projects/components/CSP.py:78: ComplexWarning: Casting complex values to real discards the imaginary part\n",
      "  return SFa.astype(np.float32)\n"
     ]
    },
    {
     "name": "stdout",
     "output_type": "stream",
     "text": [
      "\tVALENCE-s12|Acc=0.7925|10-CV=0.779|STD=0.02236|Time spend=0.8981049060821533\n"
     ]
    },
    {
     "name": "stderr",
     "output_type": "stream",
     "text": [
      "/root/projects/components/CSP.py:78: ComplexWarning: Casting complex values to real discards the imaginary part\n",
      "  return SFa.astype(np.float32)\n"
     ]
    },
    {
     "name": "stdout",
     "output_type": "stream",
     "text": [
      "\tVALENCE-s13|Acc=0.74083|10-CV=0.73167|STD=0.01368|Time spend=0.9386692047119141\n"
     ]
    },
    {
     "name": "stderr",
     "output_type": "stream",
     "text": [
      "/root/projects/components/CSP.py:78: ComplexWarning: Casting complex values to real discards the imaginary part\n",
      "  return SFa.astype(np.float32)\n"
     ]
    },
    {
     "name": "stdout",
     "output_type": "stream",
     "text": [
      "\tVALENCE-s14|Acc=0.61333|10-CV=0.598|STD=0.02591|Time spend=1.0488831996917725\n"
     ]
    },
    {
     "name": "stderr",
     "output_type": "stream",
     "text": [
      "/root/projects/components/CSP.py:78: ComplexWarning: Casting complex values to real discards the imaginary part\n",
      "  return SFa.astype(np.float32)\n"
     ]
    },
    {
     "name": "stdout",
     "output_type": "stream",
     "text": [
      "\tVALENCE-s15|Acc=0.6375|10-CV=0.629|STD=0.0291|Time spend=0.9934611320495605\n"
     ]
    },
    {
     "name": "stderr",
     "output_type": "stream",
     "text": [
      "/root/projects/components/CSP.py:78: ComplexWarning: Casting complex values to real discards the imaginary part\n",
      "  return SFa.astype(np.float32)\n"
     ]
    },
    {
     "name": "stdout",
     "output_type": "stream",
     "text": [
      "\tVALENCE-s16|Acc=0.75917|10-CV=0.742|STD=0.02918|Time spend=0.8756775856018066\n"
     ]
    },
    {
     "name": "stderr",
     "output_type": "stream",
     "text": [
      "/root/projects/components/CSP.py:78: ComplexWarning: Casting complex values to real discards the imaginary part\n",
      "  return SFa.astype(np.float32)\n"
     ]
    },
    {
     "name": "stdout",
     "output_type": "stream",
     "text": [
      "\tVALENCE-s17|Acc=0.66833|10-CV=0.644|STD=0.01604|Time spend=0.9924466609954834\n"
     ]
    },
    {
     "name": "stderr",
     "output_type": "stream",
     "text": [
      "/root/projects/components/CSP.py:78: ComplexWarning: Casting complex values to real discards the imaginary part\n",
      "  return SFa.astype(np.float32)\n"
     ]
    },
    {
     "name": "stdout",
     "output_type": "stream",
     "text": [
      "\tVALENCE-s18|Acc=0.615|10-CV=0.59933|STD=0.01731|Time spend=1.0084333419799805\n"
     ]
    },
    {
     "name": "stderr",
     "output_type": "stream",
     "text": [
      "/root/projects/components/CSP.py:78: ComplexWarning: Casting complex values to real discards the imaginary part\n",
      "  return SFa.astype(np.float32)\n"
     ]
    },
    {
     "name": "stdout",
     "output_type": "stream",
     "text": [
      "\tVALENCE-s19|Acc=0.61167|10-CV=0.59833|STD=0.02469|Time spend=1.0513741970062256\n"
     ]
    },
    {
     "name": "stderr",
     "output_type": "stream",
     "text": [
      "/root/projects/components/CSP.py:78: ComplexWarning: Casting complex values to real discards the imaginary part\n",
      "  return SFa.astype(np.float32)\n"
     ]
    },
    {
     "name": "stdout",
     "output_type": "stream",
     "text": [
      "\tVALENCE-s20|Acc=0.79|10-CV=0.79|STD=0.0135|Time spend=0.8820304870605469\n"
     ]
    },
    {
     "name": "stderr",
     "output_type": "stream",
     "text": [
      "/root/projects/components/CSP.py:78: ComplexWarning: Casting complex values to real discards the imaginary part\n",
      "  return SFa.astype(np.float32)\n"
     ]
    },
    {
     "name": "stdout",
     "output_type": "stream",
     "text": [
      "\tVALENCE-s21|Acc=0.55083|10-CV=0.52|STD=0.01915|Time spend=1.0555765628814697\n"
     ]
    },
    {
     "name": "stderr",
     "output_type": "stream",
     "text": [
      "/root/projects/components/CSP.py:78: ComplexWarning: Casting complex values to real discards the imaginary part\n",
      "  return SFa.astype(np.float32)\n"
     ]
    },
    {
     "name": "stdout",
     "output_type": "stream",
     "text": [
      "\tVALENCE-s22|Acc=0.66|10-CV=0.65033|STD=0.02738|Time spend=0.9798440933227539\n"
     ]
    },
    {
     "name": "stderr",
     "output_type": "stream",
     "text": [
      "/root/projects/components/CSP.py:78: ComplexWarning: Casting complex values to real discards the imaginary part\n",
      "  return SFa.astype(np.float32)\n"
     ]
    },
    {
     "name": "stdout",
     "output_type": "stream",
     "text": [
      "\tVALENCE-s23|Acc=0.81167|10-CV=0.80233|STD=0.02166|Time spend=0.8525102138519287\n"
     ]
    },
    {
     "name": "stderr",
     "output_type": "stream",
     "text": [
      "/root/projects/components/CSP.py:78: ComplexWarning: Casting complex values to real discards the imaginary part\n",
      "  return SFa.astype(np.float32)\n"
     ]
    },
    {
     "name": "stdout",
     "output_type": "stream",
     "text": [
      "-----WARNING: Model s24 failed to learn: sum(ans)=0.0 sum(y)=540.0 len(y)=1200\n",
      "\tVALENCE-s24|Acc=0.55|10-CV=0.54933|STD=0.002|Time spend=1.0700602531433105\n"
     ]
    },
    {
     "name": "stderr",
     "output_type": "stream",
     "text": [
      "/root/projects/components/CSP.py:78: ComplexWarning: Casting complex values to real discards the imaginary part\n",
      "  return SFa.astype(np.float32)\n"
     ]
    },
    {
     "name": "stdout",
     "output_type": "stream",
     "text": [
      "\tVALENCE-s25|Acc=0.9675|10-CV=0.974|STD=0.00772|Time spend=0.7349345684051514\n"
     ]
    },
    {
     "name": "stderr",
     "output_type": "stream",
     "text": [
      "/root/projects/components/CSP.py:78: ComplexWarning: Casting complex values to real discards the imaginary part\n",
      "  return SFa.astype(np.float32)\n"
     ]
    },
    {
     "name": "stdout",
     "output_type": "stream",
     "text": [
      "-----WARNING: Model s26 failed to learn: sum(ans)=1200.0 sum(y)=780.0 len(y)=1200\n",
      "\tVALENCE-s26|Acc=0.65|10-CV=0.65|STD=0.0|Time spend=1.0393788814544678\n"
     ]
    },
    {
     "name": "stderr",
     "output_type": "stream",
     "text": [
      "/root/projects/components/CSP.py:78: ComplexWarning: Casting complex values to real discards the imaginary part\n",
      "  return SFa.astype(np.float32)\n"
     ]
    },
    {
     "name": "stdout",
     "output_type": "stream",
     "text": [
      "\tVALENCE-s27|Acc=0.885|10-CV=0.877|STD=0.01501|Time spend=0.806199312210083\n"
     ]
    },
    {
     "name": "stderr",
     "output_type": "stream",
     "text": [
      "/root/projects/components/CSP.py:78: ComplexWarning: Casting complex values to real discards the imaginary part\n",
      "  return SFa.astype(np.float32)\n"
     ]
    },
    {
     "name": "stdout",
     "output_type": "stream",
     "text": [
      "\tVALENCE-s28|Acc=0.64583|10-CV=0.63867|STD=0.01343|Time spend=0.9716479778289795\n"
     ]
    },
    {
     "name": "stderr",
     "output_type": "stream",
     "text": [
      "/root/projects/components/CSP.py:78: ComplexWarning: Casting complex values to real discards the imaginary part\n",
      "  return SFa.astype(np.float32)\n"
     ]
    },
    {
     "name": "stdout",
     "output_type": "stream",
     "text": [
      "\tVALENCE-s29|Acc=0.595|10-CV=0.58333|STD=0.0076|Time spend=1.0132129192352295\n"
     ]
    },
    {
     "name": "stderr",
     "output_type": "stream",
     "text": [
      "/root/projects/components/CSP.py:78: ComplexWarning: Casting complex values to real discards the imaginary part\n",
      "  return SFa.astype(np.float32)\n"
     ]
    },
    {
     "name": "stdout",
     "output_type": "stream",
     "text": [
      "-----WARNING: Model s30 failed to learn: sum(ans)=1200.0 sum(y)=810.0 len(y)=1200\n",
      "\tVALENCE-s30|Acc=0.675|10-CV=0.67433|STD=0.00153|Time spend=1.0285396575927734\n"
     ]
    },
    {
     "name": "stderr",
     "output_type": "stream",
     "text": [
      "/root/projects/components/CSP.py:78: ComplexWarning: Casting complex values to real discards the imaginary part\n",
      "  return SFa.astype(np.float32)\n"
     ]
    },
    {
     "name": "stdout",
     "output_type": "stream",
     "text": [
      "\tVALENCE-s31|Acc=0.97167|10-CV=0.96767|STD=0.00775|Time spend=0.7637436389923096\n"
     ]
    },
    {
     "name": "stderr",
     "output_type": "stream",
     "text": [
      "/root/projects/components/CSP.py:78: ComplexWarning: Casting complex values to real discards the imaginary part\n",
      "  return SFa.astype(np.float32)\n"
     ]
    },
    {
     "name": "stdout",
     "output_type": "stream",
     "text": [
      "\tVALENCE-s32|Acc=0.81833|10-CV=0.80467|STD=0.01945|Time spend=0.8650267124176025\n",
      "VALENCE|Acc=0.7144010416666666|10-CV=0.7012812499999999|STD=0.01613983038169309\n"
     ]
    }
   ],
   "source": [
    "accs_v, cv_means_v, cv_stds_v = [],[],[]\n",
    "for filename in tqdm(dataset.get_file_list()):\n",
    "\n",
    "    data, labels, groups = dataset.get_data(filename, stimuli=Dataset_subjectDependent.STIMULI_VALENCE, return_type='numpy')\n",
    "    labels = labels.squeeze()\n",
    "    start = time.time()\n",
    "    filters = CSP(data[labels==0], data[labels==1])\n",
    "    \n",
    "    csp_data = []\n",
    "    for index in range(len(data)):\n",
    "        \n",
    "        # (672, 32) @ (32, 32) = (672, 32)\n",
    "        csp = data[index].T @ filters[labels[index].astype(int)]\n",
    "        # (1, 32, 672)\n",
    "        csp = np.expand_dims(csp.T, axis=0)\n",
    "        csp_data.append(csp)\n",
    "\n",
    "    csp_data = np.vstack(csp_data)\n",
    "    # print(csp_data.shape) => (2400, 32, 128)\n",
    "    fe = FeatureExtractor(sfreq=128, selected_funcs=['pow_freq_bands'],params=params,n_jobs=8)\n",
    "    X = fe.fit_transform(X=csp_data)\n",
    "    # print(X.shape, time.time() - start) => (2400, 160) 1.2374355792999268\n",
    "\n",
    "    assert X.shape[1] == 160\n",
    "    _, acc, cross = train_model(X, labels.reshape(-1), groups, filename=filename)\n",
    "    print(f\"\\tVALENCE-{filename}|Acc={round(acc,5)}|10-CV={round(cross.mean(),5)}|STD={round(cross.std(),5)}|Time spend={time.time() - start}\")\n",
    "    accs_v.append(acc)\n",
    "    cv_means_v.append(cross.mean())\n",
    "    cv_stds_v.append(cross.std())\n",
    "print(f\"VALENCE|Acc={sum(accs_v)/len(accs_v)}|10-CV={sum(cv_means_v)/len(cv_means_v)}|STD={sum(cv_stds_v)/len(cv_stds_v)}\")"
   ]
  },
  {
   "cell_type": "code",
   "execution_count": 22,
   "metadata": {},
   "outputs": [
    {
     "name": "stdout",
     "output_type": "stream",
     "text": [
      "TOTAL|Acc=0.7439973958333332|10-CV=0.7316979166666668|STD=0.01423192771732697\n"
     ]
    }
   ],
   "source": [
    "accs.extend(accs_v)\n",
    "cv_means.extend(cv_means_v)\n",
    "cv_stds.extend(cv_stds_v)\n",
    "\n",
    "print(f\"TOTAL|Acc={sum(accs)/len(accs)}|10-CV={sum(cv_means)/len(cv_means)}|STD={sum(cv_stds)/len(cv_stds)}\")"
   ]
  }
 ],
 "metadata": {
  "interpreter": {
   "hash": "27768773b483d82a9b2b839e3fa80b1be5789db7fd78df4eedef2df266871616"
  },
  "kernelspec": {
   "display_name": "eeg",
   "language": "python",
   "name": "python3"
  },
  "language_info": {
   "codemirror_mode": {
    "name": "ipython",
    "version": 3
   },
   "file_extension": ".py",
   "mimetype": "text/x-python",
   "name": "python",
   "nbconvert_exporter": "python",
   "pygments_lexer": "ipython3",
   "version": "3.8.10"
  }
 },
 "nbformat": 4,
 "nbformat_minor": 4
}
