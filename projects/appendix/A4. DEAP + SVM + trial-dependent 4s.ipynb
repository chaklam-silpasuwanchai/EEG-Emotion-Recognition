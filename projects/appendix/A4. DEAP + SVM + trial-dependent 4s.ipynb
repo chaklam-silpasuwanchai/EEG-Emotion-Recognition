{
 "cells": [
  {
   "cell_type": "code",
   "execution_count": 1,
   "metadata": {},
   "outputs": [
    {
     "name": "stdout",
     "output_type": "stream",
     "text": [
      "Found: 32 files\n",
      "s01 (600, 2) [47.5 60. ]\n"
     ]
    }
   ],
   "source": [
    "import time\n",
    "import numpy as np\n",
    "from tqdm.notebook import tqdm\n",
    "\n",
    "from components.dataset_jo import *\n",
    "\n",
    "dataset = Dataset_subjectDependent('data')\n",
    "segment_lenght = 4 #second\n",
    "dataset.set_segment(7680//(128*segment_lenght))\n",
    "for filename in dataset.get_file_list():\n",
    "    data, labels, _ = dataset.get_data(filename, return_type='numpy')\n",
    "    print(filename, labels.shape, labels.sum(axis=0)/labels.shape[0]*100)\n",
    "    break"
   ]
  },
  {
   "cell_type": "code",
   "execution_count": 2,
   "metadata": {},
   "outputs": [],
   "source": [
    "def train_model(X_ori,y_ori,groups_ori,filename=None, kernel='rbf',return_text=False):\n",
    "    # Make a copy because I am paranoid\n",
    "    X,y,groups = X_ori.copy(), y_ori.copy(), groups_ori.copy()\n",
    "\n",
    "    from sklearn.svm import SVC\n",
    "    from sklearn.model_selection import StratifiedShuffleSplit \n",
    "    from sklearn.model_selection import cross_val_score\n",
    "\n",
    "    model = SVC(kernel=kernel,max_iter=50000)\n",
    "    cv = StratifiedShuffleSplit(n_splits=10, train_size=0.75, random_state=0)\n",
    "    cross = cross_val_score(model, X, y, cv=cv, n_jobs=8)\n",
    "    \n",
    "    # We probably dont need this\n",
    "    model = SVC(kernel=kernel, max_iter=50000)\n",
    "    model.fit(X, y)\n",
    "    ans = model.predict(X)\n",
    "    acc = sum(ans == y) / len(y)\n",
    "    # If the model answer with all 0 or 1, we print this message\n",
    "    text = None\n",
    "    if( sum(ans) == len(y) or sum(ans) == 0 ): \n",
    "        text = f\"-----WARNING: Model {filename} failed to learn: sum(ans)={sum(ans)} sum(y)={sum(y)} len(y)={len(y)}\"\n",
    "    if(return_text):\n",
    "        return model, acc, cross, text\n",
    "    else:\n",
    "        if(text != None): print(text)\n",
    "        return model, acc, cross"
   ]
  },
  {
   "cell_type": "markdown",
   "metadata": {},
   "source": [
    "## 2. Spectral Features"
   ]
  },
  {
   "cell_type": "code",
   "execution_count": 3,
   "metadata": {},
   "outputs": [],
   "source": [
    "from mne_features.feature_extraction import FeatureExtractor"
   ]
  },
  {
   "cell_type": "code",
   "execution_count": 4,
   "metadata": {},
   "outputs": [
    {
     "name": "stdout",
     "output_type": "stream",
     "text": [
      "\tAROUSAL-s01|Acc=0.705|10-CV=0.63133|STD=0.01157|Time spend=36.652419567108154\n",
      "\tAROUSAL-s02|Acc=0.64833|10-CV=0.624|STD=0.01467|Time spend=0.6252050399780273\n",
      "-----WARNING: Model s03 failed to learn: sum(ans)=0.0 sum(y)=120.0 len(y)=600\n",
      "\tAROUSAL-s03|Acc=0.8|10-CV=0.8|STD=0.0|Time spend=0.6070544719696045\n",
      "\tAROUSAL-s04|Acc=0.665|10-CV=0.61067|STD=0.02462|Time spend=0.7097792625427246\n",
      "\tAROUSAL-s05|Acc=0.585|10-CV=0.52267|STD=0.03087|Time spend=0.7263054847717285\n",
      "\tAROUSAL-s06|Acc=0.62167|10-CV=0.61667|STD=0.02071|Time spend=0.6942152976989746\n",
      "\tAROUSAL-s07|Acc=0.685|10-CV=0.65867|STD=0.01108|Time spend=0.6683685779571533\n",
      "\tAROUSAL-s08|Acc=0.69667|10-CV=0.61133|STD=0.02405|Time spend=0.6514182090759277\n",
      "\tAROUSAL-s09|Acc=0.65333|10-CV=0.62533|STD=0.01759|Time spend=0.6073763370513916\n",
      "\tAROUSAL-s10|Acc=0.69667|10-CV=0.63867|STD=0.03649|Time spend=0.6475481986999512\n",
      "\tAROUSAL-s11|Acc=0.63|10-CV=0.62667|STD=0.0|Time spend=0.6270041465759277\n",
      "-----WARNING: Model s12 failed to learn: sum(ans)=600.0 sum(y)=495.0 len(y)=600\n",
      "\tAROUSAL-s12|Acc=0.825|10-CV=0.82667|STD=0.0|Time spend=0.5837090015411377\n",
      "-----WARNING: Model s13 failed to learn: sum(ans)=600.0 sum(y)=510.0 len(y)=600\n",
      "\tAROUSAL-s13|Acc=0.85|10-CV=0.85|STD=0.00333|Time spend=0.5940685272216797\n",
      "-----WARNING: Model s14 failed to learn: sum(ans)=600.0 sum(y)=405.0 len(y)=600\n",
      "\tAROUSAL-s14|Acc=0.675|10-CV=0.67333|STD=0.0|Time spend=0.6491765975952148\n",
      "\tAROUSAL-s15|Acc=0.72|10-CV=0.66933|STD=0.03186|Time spend=0.6734659671783447\n",
      "\tAROUSAL-s16|Acc=0.75333|10-CV=0.67867|STD=0.02418|Time spend=0.660761833190918\n",
      "\tAROUSAL-s17|Acc=0.73333|10-CV=0.71867|STD=0.02018|Time spend=0.6465754508972168\n",
      "\tAROUSAL-s18|Acc=0.665|10-CV=0.63067|STD=0.00742|Time spend=0.6822400093078613\n",
      "\tAROUSAL-s19|Acc=0.68333|10-CV=0.68|STD=0.00422|Time spend=0.6675713062286377\n",
      "-----WARNING: Model s20 failed to learn: sum(ans)=600.0 sum(y)=465.0 len(y)=600\n",
      "\tAROUSAL-s20|Acc=0.775|10-CV=0.77333|STD=0.0|Time spend=0.6550562381744385\n",
      "-----WARNING: Model s21 failed to learn: sum(ans)=600.0 sum(y)=480.0 len(y)=600\n",
      "\tAROUSAL-s21|Acc=0.8|10-CV=0.8|STD=0.0|Time spend=0.6588106155395508\n",
      "\tAROUSAL-s22|Acc=0.64167|10-CV=0.616|STD=0.01555|Time spend=0.6879920959472656\n",
      "-----WARNING: Model s23 failed to learn: sum(ans)=0.0 sum(y)=150.0 len(y)=600\n",
      "\tAROUSAL-s23|Acc=0.75|10-CV=0.75|STD=0.00333|Time spend=0.63242506980896\n",
      "-----WARNING: Model s24 failed to learn: sum(ans)=600.0 sum(y)=495.0 len(y)=600\n",
      "\tAROUSAL-s24|Acc=0.825|10-CV=0.82667|STD=0.0|Time spend=0.6315245628356934\n",
      "-----WARNING: Model s25 failed to learn: sum(ans)=600.0 sum(y)=435.0 len(y)=600\n",
      "\tAROUSAL-s25|Acc=0.725|10-CV=0.726|STD=0.002|Time spend=0.6823627948760986\n",
      "\tAROUSAL-s26|Acc=0.63333|10-CV=0.57|STD=0.02427|Time spend=0.6820173263549805\n",
      "\tAROUSAL-s27|Acc=0.71|10-CV=0.678|STD=0.01231|Time spend=0.6278841495513916\n",
      "\tAROUSAL-s28|Acc=0.59667|10-CV=0.56667|STD=0.03113|Time spend=0.6802253723144531\n",
      "\tAROUSAL-s29|Acc=0.68|10-CV=0.64867|STD=0.01815|Time spend=0.6493031978607178\n",
      "\tAROUSAL-s30|Acc=0.63833|10-CV=0.58|STD=0.02633|Time spend=0.6973841190338135\n",
      "\tAROUSAL-s31|Acc=0.725|10-CV=0.67|STD=0.01961|Time spend=0.6727602481842041\n",
      "-----WARNING: Model s32 failed to learn: sum(ans)=600.0 sum(y)=405.0 len(y)=600\n",
      "\tAROUSAL-s32|Acc=0.675|10-CV=0.67333|STD=0.0|Time spend=0.6405806541442871\n",
      "AROUSAL|Acc=0.7020833333333335|10-CV=0.6741250000000001|STD=0.013609442354738419\n",
      "\tVALENCE-s01|Acc=0.68333|10-CV=0.60467|STD=0.02876|Time spend=0.4879882335662842\n",
      "\tVALENCE-s02|Acc=0.69833|10-CV=0.674|STD=0.02943|Time spend=0.48125624656677246\n",
      "\tVALENCE-s03|Acc=0.65833|10-CV=0.61867|STD=0.02381|Time spend=0.44834065437316895\n",
      "\tVALENCE-s04|Acc=0.69167|10-CV=0.656|STD=0.0196|Time spend=0.4202866554260254\n",
      "\tVALENCE-s05|Acc=0.66|10-CV=0.61|STD=0.02427|Time spend=0.4485173225402832\n",
      "\tVALENCE-s06|Acc=0.75167|10-CV=0.74867|STD=0.00306|Time spend=0.4083395004272461\n",
      "-----WARNING: Model s07 failed to learn: sum(ans)=600.0 sum(y)=420.0 len(y)=600\n",
      "\tVALENCE-s07|Acc=0.7|10-CV=0.7|STD=0.0|Time spend=0.48389196395874023\n",
      "\tVALENCE-s08|Acc=0.69333|10-CV=0.59667|STD=0.03442|Time spend=0.46177101135253906\n",
      "\tVALENCE-s09|Acc=0.75167|10-CV=0.73|STD=0.03821|Time spend=0.4401671886444092\n",
      "\tVALENCE-s10|Acc=0.78333|10-CV=0.75733|STD=0.02195|Time spend=0.4233534336090088\n",
      "\tVALENCE-s11|Acc=0.63667|10-CV=0.596|STD=0.01041|Time spend=0.43556666374206543\n",
      "\tVALENCE-s12|Acc=0.69|10-CV=0.61|STD=0.03493|Time spend=0.4635629653930664\n",
      "\tVALENCE-s13|Acc=0.79|10-CV=0.77267|STD=0.01444|Time spend=0.40206122398376465\n",
      "\tVALENCE-s14|Acc=0.755|10-CV=0.71667|STD=0.03947|Time spend=0.44982361793518066\n",
      "\tVALENCE-s15|Acc=0.81667|10-CV=0.8|STD=0.02108|Time spend=0.4381885528564453\n",
      "\tVALENCE-s16|Acc=0.73833|10-CV=0.72467|STD=0.02252|Time spend=0.43129944801330566\n",
      "\tVALENCE-s17|Acc=0.63667|10-CV=0.58133|STD=0.02933|Time spend=0.4666116237640381\n",
      "\tVALENCE-s18|Acc=0.81333|10-CV=0.784|STD=0.03428|Time spend=0.441692590713501\n",
      "\tVALENCE-s19|Acc=0.67|10-CV=0.63667|STD=0.02445|Time spend=0.5269134044647217\n",
      "\tVALENCE-s20|Acc=0.77667|10-CV=0.716|STD=0.03349|Time spend=0.42372727394104004\n",
      "\tVALENCE-s21|Acc=0.63833|10-CV=0.60533|STD=0.0443|Time spend=0.45984315872192383\n",
      "\tVALENCE-s22|Acc=0.73667|10-CV=0.66333|STD=0.03429|Time spend=0.478273868560791\n",
      "\tVALENCE-s23|Acc=0.65667|10-CV=0.64933|STD=0.00327|Time spend=0.4463076591491699\n",
      "\tVALENCE-s24|Acc=0.62667|10-CV=0.56867|STD=0.01368|Time spend=0.45525693893432617\n",
      "\tVALENCE-s25|Acc=0.64167|10-CV=0.562|STD=0.02459|Time spend=0.46418118476867676\n",
      "-----WARNING: Model s26 failed to learn: sum(ans)=600.0 sum(y)=390.0 len(y)=600\n",
      "\tVALENCE-s26|Acc=0.65|10-CV=0.64933|STD=0.00327|Time spend=0.4296886920928955\n",
      "\tVALENCE-s27|Acc=0.75333|10-CV=0.746|STD=0.00629|Time spend=0.4197816848754883\n",
      "\tVALENCE-s28|Acc=0.69|10-CV=0.64|STD=0.0166|Time spend=0.42491626739501953\n",
      "\tVALENCE-s29|Acc=0.695|10-CV=0.64067|STD=0.0347|Time spend=0.4233851432800293\n",
      "-----WARNING: Model s30 failed to learn: sum(ans)=600.0 sum(y)=405.0 len(y)=600\n",
      "\tVALENCE-s30|Acc=0.675|10-CV=0.67333|STD=0.0|Time spend=0.4245126247406006\n",
      "\tVALENCE-s31|Acc=0.60333|10-CV=0.57333|STD=0.0073|Time spend=0.44132232666015625\n",
      "\tVALENCE-s32|Acc=0.655|10-CV=0.62333|STD=0.01868|Time spend=0.47962188720703125\n",
      "VALENCE|Acc=0.7005208333333333|10-CV=0.6633958333333334|STD=0.021714583076171398\n",
      "TOTAL|Acc=0.7013020833333332|10-CV=0.6687604166666665|STD=0.01766201271545491\n"
     ]
    }
   ],
   "source": [
    "bands = [(0,4), (4,8), (8,12), (12,30), (30,64)]\n",
    "# [alias_feature_function]__[optional_param]\n",
    "params = dict({\n",
    "    'pow_freq_bands__log':True,\n",
    "    'pow_freq_bands__normalize':False,\n",
    "    'pow_freq_bands__freq_bands':bands\n",
    "})\n",
    "\n",
    "\n",
    "accs,cv_means,cv_stds  = [],[],[]\n",
    "# count = 0\n",
    "for filename in dataset.get_file_list():\n",
    "    start = time.time()\n",
    "    data, labels, groups = dataset.get_data(filename, stimuli=Dataset_subjectDependent.STIMULI_AROUSAL, return_type='numpy')\n",
    "    fe = FeatureExtractor(sfreq=128, selected_funcs=['pow_freq_bands'],params=params,n_jobs=8)\n",
    "    X = fe.fit_transform(X=data)\n",
    "    _, acc, cross = train_model(X, labels.reshape(-1), groups,filename=filename)\n",
    "    print(f\"\\tAROUSAL-{filename}|Acc={round(acc,5)}|10-CV={round(cross.mean(),5)}|STD={round(cross.std(),5)}|Time spend={time.time() - start}\")\n",
    "    accs.append(acc)\n",
    "    cv_means.append(cross.mean())\n",
    "    cv_stds.append(cross.std())\n",
    "    # count+=1\n",
    "    # if(count == 5): break\n",
    "print(f\"AROUSAL|Acc={sum(accs)/len(accs)}|10-CV={sum(cv_means)/len(cv_means)}|STD={sum(cv_stds)/len(cv_stds)}\")\n",
    "\n",
    "accs_v,cv_means_v,cv_stds_v  = [],[],[]\n",
    "# count=0\n",
    "for filename in dataset.get_file_list():\n",
    "    start = time.time()\n",
    "    data, labels, groups = dataset.get_data(filename, stimuli=Dataset_subjectDependent.STIMULI_VALENCE, return_type='numpy')\n",
    "    fe = FeatureExtractor(sfreq=128, selected_funcs=['pow_freq_bands'],params=params,n_jobs=8)\n",
    "    X = fe.fit_transform(X=data)\n",
    "    _, acc, cross = train_model(X, labels.reshape(-1), groups,filename=filename)\n",
    "    print(f\"\\tVALENCE-{filename}|Acc={round(acc,5)}|10-CV={round(cross.mean(),5)}|STD={round(cross.std(),5)}|Time spend={time.time() - start}\")\n",
    "    accs_v.append(acc)\n",
    "    cv_means_v.append(cross.mean())\n",
    "    cv_stds_v.append(cross.std())\n",
    "    # count+=1\n",
    "    # if(count == 5): break\n",
    "print(f\"VALENCE|Acc={sum(accs_v)/len(accs_v)}|10-CV={sum(cv_means_v)/len(cv_means_v)}|STD={sum(cv_stds_v)/len(cv_stds_v)}\")\n",
    "\n",
    "accs.extend(accs_v)\n",
    "cv_means.extend(cv_means_v)\n",
    "cv_stds.extend(cv_stds_v)\n",
    "print(f\"TOTAL|Acc={sum(accs)/len(accs)}|10-CV={sum(cv_means)/len(cv_means)}|STD={sum(cv_stds)/len(cv_stds)}\")"
   ]
  },
  {
   "cell_type": "markdown",
   "metadata": {},
   "source": [
    "## 3. Asymetry"
   ]
  },
  {
   "cell_type": "code",
   "execution_count": 5,
   "metadata": {},
   "outputs": [
    {
     "name": "stdout",
     "output_type": "stream",
     "text": [
      "left_channel_indexes=[0, 3, 2, 7, 11, 6, 10, 13, 1, 4, 5, 8, 9, 12]\n",
      "right_channel_indexes=[16, 20, 19, 25, 29, 24, 28, 31, 17, 21, 22, 26, 27, 30]\n",
      "frontal_channel_indexes=[4, 5, 22, 21, 3, 2, 18, 19, 20, 0, 16]\n",
      "posterior_channel_indexes=[8, 9, 27, 26, 11, 10, 15, 28, 29, 13, 31]\n"
     ]
    }
   ],
   "source": [
    "channels = ['Fp1','AF3','F3','F7','FC5','FC1','C3','T7','CP5','CP1','P3','P7','PO3','O1','Oz','Pz','Fp2','AF4','Fz','F4','F8','FC6','FC2','Cz','C4','T8','CP6','CP2','P4','P8','PO4','O2']\n",
    "left_channels = ['Fp1','F7','F3','T7','P7','C3','P3','O1','AF3','FC5','FC1','CP5','CP1','PO3']\n",
    "right_channels = ['Fp2','F8','F4','T8','P8','C4','P4','O2','AF4','FC6','FC2','CP6','CP2','PO4']\n",
    "left_channel_indexes = [ channels.index(ch) for ch in left_channels ]\n",
    "right_channel_indexes = [ channels.index(ch) for ch in right_channels ]\n",
    "\n",
    "print(f\"{left_channel_indexes=}\")\n",
    "print(f\"{right_channel_indexes=}\")\n",
    "\n",
    "frontal_channels = ['FC5','FC1','FC2','FC6','F7','F3','Fz','F4','F8','Fp1','Fp2']\n",
    "posterior_channels = ['CP5','CP1','CP2','CP6','P7','P3','Pz','P4','P8','O1','O2']\n",
    "\n",
    "frontal_channel_indexes = [ channels.index(ch) for ch in frontal_channels ]\n",
    "posterior_channel_indexes = [ channels.index(ch) for ch in posterior_channels ]\n",
    "\n",
    "print(f\"{frontal_channel_indexes=}\")\n",
    "print(f\"{posterior_channel_indexes=}\")"
   ]
  },
  {
   "cell_type": "code",
   "execution_count": 6,
   "metadata": {},
   "outputs": [
    {
     "name": "stdout",
     "output_type": "stream",
     "text": [
      "-----WARNING: Model s01 failed to learn: sum(ans)=600.0 sum(y)=360.0 len(y)=600\n",
      "\tAROUSAL-s01-DASM|Acc=0.6|10-CV=0.6|STD=0.00298|Time spend=0.39429759979248047\n",
      "\tAROUSAL-s01-RASM|Acc=0.61333|10-CV=0.596|STD=0.00742|Time spend=0.4408438205718994\n",
      "\tAROUSAL-s01-DCAU|Acc=0.60167|10-CV=0.59533|STD=0.00846|Time spend=0.48130321502685547\n",
      "\tAROUSAL-s02-DASM|Acc=0.63|10-CV=0.614|STD=0.01645|Time spend=0.36493802070617676\n",
      "\tAROUSAL-s02-RASM|Acc=0.60333|10-CV=0.60067|STD=0.002|Time spend=0.409332275390625\n",
      "\tAROUSAL-s02-DCAU|Acc=0.63167|10-CV=0.614|STD=0.01281|Time spend=0.45324087142944336\n",
      "-----WARNING: Model s03 failed to learn: sum(ans)=0.0 sum(y)=120.0 len(y)=600\n",
      "\tAROUSAL-s03-DASM|Acc=0.8|10-CV=0.8|STD=0.0|Time spend=0.35468244552612305\n",
      "\tAROUSAL-s03-RASM|Acc=0.80667|10-CV=0.79333|STD=0.01366|Time spend=0.383983850479126\n",
      "-----WARNING: Model s03 failed to learn: sum(ans)=0.0 sum(y)=120.0 len(y)=600\n",
      "\tAROUSAL-s03-DCAU|Acc=0.8|10-CV=0.8|STD=0.0|Time spend=0.4237630367279053\n",
      "\tAROUSAL-s04-DASM|Acc=0.63333|10-CV=0.608|STD=0.01809|Time spend=0.38771677017211914\n",
      "\tAROUSAL-s04-RASM|Acc=0.61167|10-CV=0.59533|STD=0.00897|Time spend=0.4355599880218506\n",
      "\tAROUSAL-s04-DCAU|Acc=0.63833|10-CV=0.60867|STD=0.02405|Time spend=0.48195648193359375\n",
      "\tAROUSAL-s05-DASM|Acc=0.57833|10-CV=0.52067|STD=0.03608|Time spend=0.4677445888519287\n",
      "\tAROUSAL-s05-RASM|Acc=0.52667|10-CV=0.52533|STD=0.00267|Time spend=0.5158460140228271\n",
      "\tAROUSAL-s05-DCAU|Acc=0.58667|10-CV=0.52733|STD=0.02394|Time spend=0.564795970916748\n",
      "\tAROUSAL-s06-DASM|Acc=0.62|10-CV=0.612|STD=0.02306|Time spend=0.3592109680175781\n",
      "\tAROUSAL-s06-RASM|Acc=0.57667|10-CV=0.57533|STD=0.00427|Time spend=0.40309667587280273\n",
      "\tAROUSAL-s06-DCAU|Acc=0.60667|10-CV=0.59333|STD=0.01549|Time spend=0.4518735408782959\n",
      "\tAROUSAL-s07-DASM|Acc=0.63167|10-CV=0.628|STD=0.00499|Time spend=0.36330556869506836\n",
      "\tAROUSAL-s07-RASM|Acc=0.62833|10-CV=0.62667|STD=0.0|Time spend=0.40923094749450684\n",
      "-----WARNING: Model s07 failed to learn: sum(ans)=600.0 sum(y)=375.0 len(y)=600\n",
      "\tAROUSAL-s07-DCAU|Acc=0.625|10-CV=0.62733|STD=0.002|Time spend=0.45224642753601074\n",
      "\tAROUSAL-s08-DASM|Acc=0.6|10-CV=0.568|STD=0.01392|Time spend=0.36391258239746094\n",
      "\tAROUSAL-s08-RASM|Acc=0.58667|10-CV=0.57133|STD=0.00733|Time spend=0.4125821590423584\n",
      "\tAROUSAL-s08-DCAU|Acc=0.65167|10-CV=0.58333|STD=0.03215|Time spend=0.4563260078430176\n",
      "\tAROUSAL-s09-DASM|Acc=0.645|10-CV=0.618|STD=0.00846|Time spend=0.36094212532043457\n",
      "-----WARNING: Model s09 failed to learn: sum(ans)=600.0 sum(y)=360.0 len(y)=600\n",
      "\tAROUSAL-s09-RASM|Acc=0.6|10-CV=0.60867|STD=0.01887|Time spend=0.4088470935821533\n",
      "\tAROUSAL-s09-DCAU|Acc=0.63667|10-CV=0.60667|STD=0.01193|Time spend=0.46174120903015137\n",
      "\tAROUSAL-s10-DASM|Acc=0.65833|10-CV=0.602|STD=0.03945|Time spend=0.4113647937774658\n",
      "\tAROUSAL-s10-RASM|Acc=0.55667|10-CV=0.54467|STD=0.00306|Time spend=0.4657554626464844\n",
      "\tAROUSAL-s10-DCAU|Acc=0.68167|10-CV=0.622|STD=0.02997|Time spend=0.517113447189331\n",
      "-----WARNING: Model s11 failed to learn: sum(ans)=0.0 sum(y)=225.0 len(y)=600\n",
      "\tAROUSAL-s11-DASM|Acc=0.625|10-CV=0.62667|STD=0.0|Time spend=0.3601512908935547\n",
      "\tAROUSAL-s11-RASM|Acc=0.62667|10-CV=0.626|STD=0.002|Time spend=0.40267515182495117\n",
      "\tAROUSAL-s11-DCAU|Acc=0.62667|10-CV=0.62667|STD=0.00298|Time spend=0.4456307888031006\n",
      "-----WARNING: Model s12 failed to learn: sum(ans)=600.0 sum(y)=495.0 len(y)=600\n",
      "\tAROUSAL-s12-DASM|Acc=0.825|10-CV=0.82667|STD=0.0|Time spend=0.35157108306884766\n",
      "-----WARNING: Model s12 failed to learn: sum(ans)=600.0 sum(y)=495.0 len(y)=600\n",
      "\tAROUSAL-s12-RASM|Acc=0.825|10-CV=0.82667|STD=0.0|Time spend=0.38327932357788086\n",
      "-----WARNING: Model s12 failed to learn: sum(ans)=600.0 sum(y)=495.0 len(y)=600\n",
      "\tAROUSAL-s12-DCAU|Acc=0.825|10-CV=0.82667|STD=0.0|Time spend=0.4254016876220703\n",
      "-----WARNING: Model s13 failed to learn: sum(ans)=600.0 sum(y)=510.0 len(y)=600\n",
      "\tAROUSAL-s13-DASM|Acc=0.85|10-CV=0.85|STD=0.00333|Time spend=0.34491968154907227\n",
      "\tAROUSAL-s13-RASM|Acc=0.85333|10-CV=0.85|STD=0.00333|Time spend=0.3859713077545166\n",
      "-----WARNING: Model s13 failed to learn: sum(ans)=600.0 sum(y)=510.0 len(y)=600\n",
      "\tAROUSAL-s13-DCAU|Acc=0.85|10-CV=0.85|STD=0.00333|Time spend=0.4224069118499756\n",
      "-----WARNING: Model s14 failed to learn: sum(ans)=600.0 sum(y)=405.0 len(y)=600\n",
      "\tAROUSAL-s14-DASM|Acc=0.675|10-CV=0.67333|STD=0.0|Time spend=0.3839073181152344\n",
      "\tAROUSAL-s14-RASM|Acc=0.68333|10-CV=0.672|STD=0.00267|Time spend=0.43222570419311523\n",
      "-----WARNING: Model s14 failed to learn: sum(ans)=600.0 sum(y)=405.0 len(y)=600\n",
      "\tAROUSAL-s14-DCAU|Acc=0.675|10-CV=0.67333|STD=0.0|Time spend=0.474808931350708\n",
      "\tAROUSAL-s15-DASM|Acc=0.69|10-CV=0.64067|STD=0.03418|Time spend=0.41257262229919434\n",
      "\tAROUSAL-s15-RASM|Acc=0.535|10-CV=0.51067|STD=0.02832|Time spend=0.4620044231414795\n",
      "\tAROUSAL-s15-DCAU|Acc=0.67167|10-CV=0.62467|STD=0.04724|Time spend=0.5043988227844238\n",
      "\tAROUSAL-s16-DASM|Acc=0.62667|10-CV=0.58267|STD=0.02568|Time spend=0.35570430755615234\n",
      "\tAROUSAL-s16-RASM|Acc=0.53333|10-CV=0.49067|STD=0.02026|Time spend=0.4058818817138672\n",
      "\tAROUSAL-s16-DCAU|Acc=0.61667|10-CV=0.59467|STD=0.01973|Time spend=0.44997644424438477\n",
      "\tAROUSAL-s17-DASM|Acc=0.71667|10-CV=0.71533|STD=0.02023|Time spend=0.36683225631713867\n",
      "\tAROUSAL-s17-RASM|Acc=0.60167|10-CV=0.6|STD=0.0|Time spend=0.4083564281463623\n",
      "\tAROUSAL-s17-DCAU|Acc=0.70333|10-CV=0.68467|STD=0.02386|Time spend=0.44931817054748535\n",
      "\tAROUSAL-s18-DASM|Acc=0.64333|10-CV=0.626|STD=0.00814|Time spend=0.3814849853515625\n",
      "\tAROUSAL-s18-RASM|Acc=0.63333|10-CV=0.62667|STD=0.00298|Time spend=0.4304227828979492\n",
      "\tAROUSAL-s18-DCAU|Acc=0.64167|10-CV=0.62667|STD=0.01193|Time spend=0.4815983772277832\n",
      "\tAROUSAL-s19-DASM|Acc=0.68|10-CV=0.678|STD=0.00306|Time spend=0.3949429988861084\n",
      "\tAROUSAL-s19-RASM|Acc=0.67667|10-CV=0.67333|STD=0.0|Time spend=0.4383997917175293\n",
      "\tAROUSAL-s19-DCAU|Acc=0.68833|10-CV=0.67933|STD=0.00554|Time spend=0.48657703399658203\n",
      "-----WARNING: Model s20 failed to learn: sum(ans)=600.0 sum(y)=465.0 len(y)=600\n",
      "\tAROUSAL-s20-DASM|Acc=0.775|10-CV=0.77333|STD=0.0|Time spend=0.41848134994506836\n",
      "\tAROUSAL-s20-RASM|Acc=0.78|10-CV=0.77333|STD=0.0|Time spend=0.46423935890197754\n",
      "-----WARNING: Model s20 failed to learn: sum(ans)=600.0 sum(y)=465.0 len(y)=600\n",
      "\tAROUSAL-s20-DCAU|Acc=0.775|10-CV=0.77333|STD=0.0|Time spend=0.5125808715820312\n",
      "-----WARNING: Model s21 failed to learn: sum(ans)=600.0 sum(y)=480.0 len(y)=600\n",
      "\tAROUSAL-s21-DASM|Acc=0.8|10-CV=0.8|STD=0.0|Time spend=0.4408988952636719\n",
      "\tAROUSAL-s21-RASM|Acc=0.805|10-CV=0.8|STD=0.0|Time spend=0.4844534397125244\n",
      "-----WARNING: Model s21 failed to learn: sum(ans)=600.0 sum(y)=480.0 len(y)=600\n",
      "\tAROUSAL-s21-DCAU|Acc=0.8|10-CV=0.8|STD=0.0|Time spend=0.535494327545166\n",
      "\tAROUSAL-s22-DASM|Acc=0.64833|10-CV=0.62667|STD=0.03141|Time spend=0.4559285640716553\n",
      "\tAROUSAL-s22-RASM|Acc=0.63667|10-CV=0.602|STD=0.01634|Time spend=0.5022847652435303\n",
      "\tAROUSAL-s22-DCAU|Acc=0.63833|10-CV=0.602|STD=0.01839|Time spend=0.5449264049530029\n",
      "-----WARNING: Model s23 failed to learn: sum(ans)=0.0 sum(y)=150.0 len(y)=600\n",
      "\tAROUSAL-s23-DASM|Acc=0.75|10-CV=0.75|STD=0.00333|Time spend=0.36979103088378906\n",
      "\tAROUSAL-s23-RASM|Acc=0.75667|10-CV=0.75|STD=0.00333|Time spend=0.4066598415374756\n",
      "-----WARNING: Model s23 failed to learn: sum(ans)=0.0 sum(y)=150.0 len(y)=600\n",
      "\tAROUSAL-s23-DCAU|Acc=0.75|10-CV=0.75|STD=0.00333|Time spend=0.44637036323547363\n",
      "-----WARNING: Model s24 failed to learn: sum(ans)=600.0 sum(y)=495.0 len(y)=600\n",
      "\tAROUSAL-s24-DASM|Acc=0.825|10-CV=0.82667|STD=0.0|Time spend=0.38445591926574707\n",
      "-----WARNING: Model s24 failed to learn: sum(ans)=600.0 sum(y)=495.0 len(y)=600\n",
      "\tAROUSAL-s24-RASM|Acc=0.825|10-CV=0.82667|STD=0.0|Time spend=0.4217846393585205\n",
      "-----WARNING: Model s24 failed to learn: sum(ans)=600.0 sum(y)=495.0 len(y)=600\n",
      "\tAROUSAL-s24-DCAU|Acc=0.825|10-CV=0.82667|STD=0.0|Time spend=0.46457362174987793\n",
      "-----WARNING: Model s25 failed to learn: sum(ans)=600.0 sum(y)=435.0 len(y)=600\n",
      "\tAROUSAL-s25-DASM|Acc=0.725|10-CV=0.72667|STD=0.0|Time spend=0.40181422233581543\n",
      "\tAROUSAL-s25-RASM|Acc=0.73|10-CV=0.72467|STD=0.00521|Time spend=0.4482994079589844\n",
      "-----WARNING: Model s25 failed to learn: sum(ans)=600.0 sum(y)=435.0 len(y)=600\n",
      "\tAROUSAL-s25-DCAU|Acc=0.725|10-CV=0.72667|STD=0.0|Time spend=0.4916379451751709\n",
      "\tAROUSAL-s26-DASM|Acc=0.645|10-CV=0.60667|STD=0.02366|Time spend=0.38402223587036133\n",
      "\tAROUSAL-s26-RASM|Acc=0.585|10-CV=0.566|STD=0.01133|Time spend=0.4281442165374756\n",
      "\tAROUSAL-s26-DCAU|Acc=0.62833|10-CV=0.57133|STD=0.01714|Time spend=0.4707064628601074\n",
      "\tAROUSAL-s27-DASM|Acc=0.71|10-CV=0.688|STD=0.01222|Time spend=0.37590837478637695\n",
      "\tAROUSAL-s27-RASM|Acc=0.69167|10-CV=0.66067|STD=0.00696|Time spend=0.41710805892944336\n",
      "\tAROUSAL-s27-DCAU|Acc=0.68167|10-CV=0.672|STD=0.00499|Time spend=0.4580082893371582\n",
      "\tAROUSAL-s28-DASM|Acc=0.57|10-CV=0.55867|STD=0.01185|Time spend=0.41585230827331543\n",
      "-----WARNING: Model s28 failed to learn: sum(ans)=0.0 sum(y)=270.0 len(y)=600\n",
      "\tAROUSAL-s28-RASM|Acc=0.55|10-CV=0.54667|STD=0.0|Time spend=0.46120190620422363\n",
      "\tAROUSAL-s28-DCAU|Acc=0.56333|10-CV=0.548|STD=0.01067|Time spend=0.5059294700622559\n",
      "\tAROUSAL-s29-DASM|Acc=0.64|10-CV=0.62733|STD=0.00629|Time spend=0.4689195156097412\n",
      "-----WARNING: Model s29 failed to learn: sum(ans)=600.0 sum(y)=375.0 len(y)=600\n",
      "\tAROUSAL-s29-RASM|Acc=0.625|10-CV=0.62533|STD=0.004|Time spend=0.5086867809295654\n",
      "\tAROUSAL-s29-DCAU|Acc=0.62667|10-CV=0.626|STD=0.002|Time spend=0.5547280311584473\n",
      "\tAROUSAL-s30-DASM|Acc=0.62|10-CV=0.58667|STD=0.01909|Time spend=0.4019176959991455\n",
      "\tAROUSAL-s30-RASM|Acc=0.54833|10-CV=0.536|STD=0.00742|Time spend=0.44882822036743164\n",
      "\tAROUSAL-s30-DCAU|Acc=0.61167|10-CV=0.57|STD=0.02427|Time spend=0.4944727420806885\n",
      "\tAROUSAL-s31-DASM|Acc=0.69833|10-CV=0.65667|STD=0.0331|Time spend=0.43800973892211914\n",
      "\tAROUSAL-s31-RASM|Acc=0.55|10-CV=0.52933|STD=0.01843|Time spend=0.48836469650268555\n",
      "\tAROUSAL-s31-DCAU|Acc=0.68167|10-CV=0.632|STD=0.02418|Time spend=0.5353713035583496\n",
      "-----WARNING: Model s32 failed to learn: sum(ans)=600.0 sum(y)=405.0 len(y)=600\n",
      "\tAROUSAL-s32-DASM|Acc=0.675|10-CV=0.67333|STD=0.0|Time spend=0.46688413619995117\n",
      "\tAROUSAL-s32-RASM|Acc=0.68|10-CV=0.672|STD=0.00267|Time spend=0.5148110389709473\n",
      "\tAROUSAL-s32-DCAU|Acc=0.67667|10-CV=0.672|STD=0.004|Time spend=0.5611116886138916\n",
      "AROUSAL-DASM|Acc=0.6815625000000002|10-CV=0.6653333333333332|STD=0.012470346861085637\n",
      "AROUSAL-RASM|Acc=0.6513020833333333|10-CV=0.6414375000000001|STD=0.006359492900738625\n",
      "AROUSAL-DCAU|Acc=0.6794270833333335|10-CV=0.6604583333333335|STD=0.012011283512585704\n",
      "\tVALENCE-s01-DASM|Acc=0.55333|10-CV=0.52733|STD=0.0259|Time spend=0.41910266876220703\n",
      "\tVALENCE-s01-RASM|Acc=0.54667|10-CV=0.51667|STD=0.01406|Time spend=0.46712350845336914\n",
      "\tVALENCE-s01-DCAU|Acc=0.575|10-CV=0.52267|STD=0.0382|Time spend=0.5152137279510498\n",
      "\tVALENCE-s02-DASM|Acc=0.695|10-CV=0.674|STD=0.03272|Time spend=0.37276530265808105\n",
      "-----WARNING: Model s02 failed to learn: sum(ans)=600.0 sum(y)=330.0 len(y)=600\n",
      "\tVALENCE-s02-RASM|Acc=0.55|10-CV=0.54667|STD=0.0|Time spend=0.4201540946960449\n",
      "\tVALENCE-s02-DCAU|Acc=0.71833|10-CV=0.69333|STD=0.03169|Time spend=0.4600057601928711\n",
      "\tVALENCE-s03-DASM|Acc=0.615|10-CV=0.554|STD=0.01172|Time spend=0.3867816925048828\n",
      "\tVALENCE-s03-RASM|Acc=0.56833|10-CV=0.54467|STD=0.00945|Time spend=0.4355967044830322\n",
      "\tVALENCE-s03-DCAU|Acc=0.62|10-CV=0.562|STD=0.02272|Time spend=0.4804565906524658\n",
      "\tVALENCE-s04-DASM|Acc=0.66667|10-CV=0.64733|STD=0.01943|Time spend=0.5567398071289062\n",
      "\tVALENCE-s04-RASM|Acc=0.60833|10-CV=0.59733|STD=0.00442|Time spend=0.5971097946166992\n",
      "\tVALENCE-s04-DCAU|Acc=0.68167|10-CV=0.65133|STD=0.01887|Time spend=0.63533616065979\n",
      "\tVALENCE-s05-DASM|Acc=0.61833|10-CV=0.59|STD=0.01498|Time spend=0.37239551544189453\n",
      "\tVALENCE-s05-RASM|Acc=0.60333|10-CV=0.59867|STD=0.00267|Time spend=0.4145050048828125\n",
      "\tVALENCE-s05-DCAU|Acc=0.63833|10-CV=0.59867|STD=0.01424|Time spend=0.4587819576263428\n",
      "-----WARNING: Model s06 failed to learn: sum(ans)=600.0 sum(y)=450.0 len(y)=600\n",
      "\tVALENCE-s06-DASM|Acc=0.75|10-CV=0.74867|STD=0.00306|Time spend=0.36453771591186523\n",
      "\tVALENCE-s06-RASM|Acc=0.75167|10-CV=0.74867|STD=0.00306|Time spend=0.39818310737609863\n",
      "-----WARNING: Model s06 failed to learn: sum(ans)=600.0 sum(y)=450.0 len(y)=600\n",
      "\tVALENCE-s06-DCAU|Acc=0.75|10-CV=0.74867|STD=0.00306|Time spend=0.4474635124206543\n",
      "-----WARNING: Model s07 failed to learn: sum(ans)=600.0 sum(y)=420.0 len(y)=600\n",
      "\tVALENCE-s07-DASM|Acc=0.7|10-CV=0.7|STD=0.0|Time spend=0.39522719383239746\n",
      "\tVALENCE-s07-RASM|Acc=0.70667|10-CV=0.69933|STD=0.002|Time spend=0.44760847091674805\n",
      "-----WARNING: Model s07 failed to learn: sum(ans)=600.0 sum(y)=420.0 len(y)=600\n",
      "\tVALENCE-s07-DCAU|Acc=0.7|10-CV=0.7|STD=0.0|Time spend=0.4996168613433838\n",
      "\tVALENCE-s08-DASM|Acc=0.64333|10-CV=0.57533|STD=0.03819|Time spend=0.39962172508239746\n",
      "\tVALENCE-s08-RASM|Acc=0.55667|10-CV=0.546|STD=0.00696|Time spend=0.453808069229126\n",
      "\tVALENCE-s08-DCAU|Acc=0.69167|10-CV=0.60267|STD=0.0369|Time spend=0.4994690418243408\n",
      "\tVALENCE-s09-DASM|Acc=0.735|10-CV=0.72267|STD=0.0196|Time spend=0.38266825675964355\n",
      "\tVALENCE-s09-RASM|Acc=0.55167|10-CV=0.58267|STD=0.09912|Time spend=0.42964673042297363\n",
      "\tVALENCE-s09-DCAU|Acc=0.73|10-CV=0.724|STD=0.02255|Time spend=0.4684407711029053\n",
      "\tVALENCE-s10-DASM|Acc=0.78667|10-CV=0.76667|STD=0.0286|Time spend=0.3952622413635254\n",
      "\tVALENCE-s10-RASM|Acc=0.65333|10-CV=0.62133|STD=0.04075|Time spend=0.4461395740509033\n",
      "\tVALENCE-s10-DCAU|Acc=0.79167|10-CV=0.76667|STD=0.02477|Time spend=0.4865429401397705\n",
      "\tVALENCE-s11-DASM|Acc=0.61|10-CV=0.594|STD=0.01209|Time spend=0.4474513530731201\n",
      "\tVALENCE-s11-RASM|Acc=0.615|10-CV=0.60333|STD=0.00907|Time spend=0.4970591068267822\n",
      "\tVALENCE-s11-DCAU|Acc=0.62833|10-CV=0.594|STD=0.01209|Time spend=0.5462164878845215\n",
      "\tVALENCE-s12-DASM|Acc=0.64833|10-CV=0.602|STD=0.03113|Time spend=0.46799349784851074\n",
      "\tVALENCE-s12-RASM|Acc=0.52667|10-CV=0.52467|STD=0.00521|Time spend=0.5262234210968018\n",
      "\tVALENCE-s12-DCAU|Acc=0.60167|10-CV=0.592|STD=0.03685|Time spend=0.5771172046661377\n",
      "\tVALENCE-s13-DASM|Acc=0.73|10-CV=0.724|STD=0.01611|Time spend=0.416079044342041\n",
      "\tVALENCE-s13-RASM|Acc=0.59|10-CV=0.56267|STD=0.01236|Time spend=0.46755409240722656\n",
      "\tVALENCE-s13-DCAU|Acc=0.76833|10-CV=0.76067|STD=0.01052|Time spend=0.5090820789337158\n",
      "\tVALENCE-s14-DASM|Acc=0.69167|10-CV=0.66333|STD=0.03936|Time spend=0.3685178756713867\n",
      "\tVALENCE-s14-RASM|Acc=0.55833|10-CV=0.546|STD=0.01896|Time spend=0.41742539405822754\n",
      "\tVALENCE-s14-DCAU|Acc=0.69667|10-CV=0.66067|STD=0.03431|Time spend=0.4589836597442627\n",
      "\tVALENCE-s15-DASM|Acc=0.76333|10-CV=0.74133|STD=0.0268|Time spend=0.3773529529571533\n",
      "\tVALENCE-s15-RASM|Acc=0.52667|10-CV=0.514|STD=0.02054|Time spend=0.42833757400512695\n",
      "\tVALENCE-s15-DCAU|Acc=0.77333|10-CV=0.76|STD=0.02828|Time spend=0.4655792713165283\n",
      "\tVALENCE-s16-DASM|Acc=0.71|10-CV=0.69133|STD=0.02023|Time spend=0.3602328300476074\n",
      "\tVALENCE-s16-RASM|Acc=0.63167|10-CV=0.626|STD=0.00554|Time spend=0.40389108657836914\n",
      "\tVALENCE-s16-DCAU|Acc=0.70167|10-CV=0.69133|STD=0.02441|Time spend=0.4437065124511719\n",
      "\tVALENCE-s17-DASM|Acc=0.55167|10-CV=0.54467|STD=0.00306|Time spend=0.38579583168029785\n",
      "\tVALENCE-s17-RASM|Acc=0.555|10-CV=0.546|STD=0.002|Time spend=0.4332418441772461\n",
      "\tVALENCE-s17-DCAU|Acc=0.565|10-CV=0.54733|STD=0.00917|Time spend=0.47828078269958496\n",
      "\tVALENCE-s18-DASM|Acc=0.765|10-CV=0.73|STD=0.02704|Time spend=0.379286527633667\n",
      "\tVALENCE-s18-RASM|Acc=0.61167|10-CV=0.59733|STD=0.00904|Time spend=0.4217824935913086\n",
      "\tVALENCE-s18-DCAU|Acc=0.77833|10-CV=0.75533|STD=0.02684|Time spend=0.4612414836883545\n",
      "\tVALENCE-s19-DASM|Acc=0.64667|10-CV=0.612|STD=0.03067|Time spend=0.40903258323669434\n",
      "\tVALENCE-s19-RASM|Acc=0.57667|10-CV=0.57333|STD=0.0|Time spend=0.4553380012512207\n",
      "\tVALENCE-s19-DCAU|Acc=0.64|10-CV=0.59067|STD=0.02332|Time spend=0.5008928775787354\n",
      "\tVALENCE-s20-DASM|Acc=0.73167|10-CV=0.67867|STD=0.02613|Time spend=0.38739562034606934\n",
      "\tVALENCE-s20-RASM|Acc=0.58667|10-CV=0.57|STD=0.00615|Time spend=0.4320030212402344\n",
      "\tVALENCE-s20-DCAU|Acc=0.72333|10-CV=0.688|STD=0.0341|Time spend=0.4744899272918701\n",
      "\tVALENCE-s21-DASM|Acc=0.615|10-CV=0.56333|STD=0.03581|Time spend=0.4100806713104248\n",
      "\tVALENCE-s21-RASM|Acc=0.54167|10-CV=0.52467|STD=0.00733|Time spend=0.45984721183776855\n",
      "\tVALENCE-s21-DCAU|Acc=0.58833|10-CV=0.54933|STD=0.04333|Time spend=0.5067136287689209\n",
      "\tVALENCE-s22-DASM|Acc=0.60833|10-CV=0.58867|STD=0.01688|Time spend=0.39732837677001953\n",
      "\tVALENCE-s22-RASM|Acc=0.59333|10-CV=0.57133|STD=0.014|Time spend=0.45575857162475586\n",
      "\tVALENCE-s22-DCAU|Acc=0.58833|10-CV=0.582|STD=0.0179|Time spend=0.5053131580352783\n",
      "-----WARNING: Model s23 failed to learn: sum(ans)=600.0 sum(y)=390.0 len(y)=600\n",
      "\tVALENCE-s23-DASM|Acc=0.65|10-CV=0.64933|STD=0.00327|Time spend=0.39421534538269043\n",
      "\tVALENCE-s23-RASM|Acc=0.65833|10-CV=0.64733|STD=0.00359|Time spend=0.44612765312194824\n",
      "-----WARNING: Model s23 failed to learn: sum(ans)=600.0 sum(y)=390.0 len(y)=600\n",
      "\tVALENCE-s23-DCAU|Acc=0.65|10-CV=0.64933|STD=0.00327|Time spend=0.49153828620910645\n",
      "\tVALENCE-s24-DASM|Acc=0.625|10-CV=0.56133|STD=0.0136|Time spend=0.3751649856567383\n",
      "\tVALENCE-s24-RASM|Acc=0.55667|10-CV=0.54533|STD=0.00653|Time spend=0.4229772090911865\n",
      "\tVALENCE-s24-DCAU|Acc=0.65|10-CV=0.59667|STD=0.02408|Time spend=0.47321105003356934\n",
      "\tVALENCE-s25-DASM|Acc=0.58667|10-CV=0.52667|STD=0.03553|Time spend=0.4197216033935547\n",
      "\tVALENCE-s25-RASM|Acc=0.53|10-CV=0.51|STD=0.01498|Time spend=0.46834802627563477\n",
      "\tVALENCE-s25-DCAU|Acc=0.58333|10-CV=0.514|STD=0.02988|Time spend=0.5149025917053223\n",
      "-----WARNING: Model s26 failed to learn: sum(ans)=600.0 sum(y)=390.0 len(y)=600\n",
      "\tVALENCE-s26-DASM|Acc=0.65|10-CV=0.64933|STD=0.00327|Time spend=0.4569993019104004\n",
      "\tVALENCE-s26-RASM|Acc=0.66|10-CV=0.648|STD=0.004|Time spend=0.5051705837249756\n",
      "\tVALENCE-s26-DCAU|Acc=0.65833|10-CV=0.652|STD=0.00267|Time spend=0.5502290725708008\n",
      "-----WARNING: Model s27 failed to learn: sum(ans)=600.0 sum(y)=450.0 len(y)=600\n",
      "\tVALENCE-s27-DASM|Acc=0.75|10-CV=0.74867|STD=0.00306|Time spend=0.43340253829956055\n",
      "\tVALENCE-s27-RASM|Acc=0.75833|10-CV=0.74333|STD=0.00803|Time spend=0.47870302200317383\n",
      "-----WARNING: Model s27 failed to learn: sum(ans)=600.0 sum(y)=450.0 len(y)=600\n",
      "\tVALENCE-s27-DCAU|Acc=0.75|10-CV=0.74867|STD=0.00306|Time spend=0.5265378952026367\n",
      "-----WARNING: Model s28 failed to learn: sum(ans)=600.0 sum(y)=375.0 len(y)=600\n",
      "\tVALENCE-s28-DASM|Acc=0.625|10-CV=0.62667|STD=0.0|Time spend=0.36850690841674805\n",
      "\tVALENCE-s28-RASM|Acc=0.62667|10-CV=0.62733|STD=0.002|Time spend=0.4072268009185791\n",
      "-----WARNING: Model s28 failed to learn: sum(ans)=600.0 sum(y)=375.0 len(y)=600\n",
      "\tVALENCE-s28-DCAU|Acc=0.625|10-CV=0.62667|STD=0.0|Time spend=0.4491617679595947\n",
      "\tVALENCE-s29-DASM|Acc=0.65167|10-CV=0.60467|STD=0.01765|Time spend=0.43516063690185547\n",
      "-----WARNING: Model s29 failed to learn: sum(ans)=600.0 sum(y)=345.0 len(y)=600\n",
      "\tVALENCE-s29-RASM|Acc=0.575|10-CV=0.574|STD=0.002|Time spend=0.48214030265808105\n",
      "\tVALENCE-s29-DCAU|Acc=0.66833|10-CV=0.60333|STD=0.02864|Time spend=0.5262331962585449\n",
      "-----WARNING: Model s30 failed to learn: sum(ans)=600.0 sum(y)=405.0 len(y)=600\n",
      "\tVALENCE-s30-DASM|Acc=0.675|10-CV=0.67333|STD=0.0|Time spend=0.3641958236694336\n",
      "\tVALENCE-s30-RASM|Acc=0.68|10-CV=0.67333|STD=0.0|Time spend=0.4098854064941406\n",
      "-----WARNING: Model s30 failed to learn: sum(ans)=600.0 sum(y)=405.0 len(y)=600\n",
      "\tVALENCE-s30-DCAU|Acc=0.675|10-CV=0.67333|STD=0.0|Time spend=0.45809435844421387\n",
      "\tVALENCE-s31-DASM|Acc=0.63833|10-CV=0.59267|STD=0.01988|Time spend=0.4036436080932617\n",
      "\tVALENCE-s31-RASM|Acc=0.59167|10-CV=0.56867|STD=0.00897|Time spend=0.45630550384521484\n",
      "\tVALENCE-s31-DCAU|Acc=0.57833|10-CV=0.57067|STD=0.01373|Time spend=0.5094573497772217\n",
      "\tVALENCE-s32-DASM|Acc=0.63|10-CV=0.626|STD=0.018|Time spend=0.4325108528137207\n",
      "\tVALENCE-s32-RASM|Acc=0.52167|10-CV=0.506|STD=0.03299|Time spend=0.47930216789245605\n",
      "\tVALENCE-s32-DCAU|Acc=0.64333|10-CV=0.61467|STD=0.024|Time spend=0.5239286422729492\n",
      "VALENCE-DASM|Acc=0.6661458333333332|10-CV=0.6405624999999999|STD=0.018553713802983426\n",
      "VALENCE-RASM|Acc=0.5990104166666665|10-CV=0.5876458333333333|STD=0.01174295923350909\n",
      "VALENCE-DCAU|Acc=0.6697395833333334|10-CV=0.6434583333333332|STD=0.020107394218144514\n",
      "TOTAL-DASM|Acc=0.6738541666666669|10-CV=0.6529479166666662|STD=0.015512030332034531\n",
      "TOTAL-RASM|Acc=0.62515625|10-CV=0.6145416666666665|STD=0.009051226067123856\n",
      "TOTAL-DCAU|Acc=0.6745833333333333|10-CV=0.6519583333333333|STD=0.016059338865365116\n"
     ]
    }
   ],
   "source": [
    "bands = [(0,4), (4,8), (8,12), (12,30), (30,64)]\n",
    "# [alias_feature_function]__[optional_param]\n",
    "params = dict({\n",
    "    'pow_freq_bands__log':True,\n",
    "    'pow_freq_bands__normalize':False,\n",
    "    'pow_freq_bands__freq_bands':bands\n",
    "})\n",
    "\n",
    "accs,cv_means,cv_stds  = {'DASM':[],'RASM':[],'DCAU':[]},{'DASM':[],'RASM':[],'DCAU':[]},{'DASM':[],'RASM':[],'DCAU':[]}\n",
    "# count = 0\n",
    "for filename in dataset.get_file_list():\n",
    "    start = time.time()\n",
    "    data, labels, groups = dataset.get_data(filename, stimuli=Dataset_subjectDependent.STIMULI_AROUSAL, return_type='numpy')\n",
    "    fe = FeatureExtractor(sfreq=128, selected_funcs=['pow_freq_bands'],params=params,n_jobs=8)\n",
    "    X = fe.fit_transform(X=data)\n",
    "\n",
    "    PSD_left = X[:, left_channel_indexes].copy()\n",
    "    PSD_right = X[:, right_channel_indexes].copy()\n",
    "    PSD_frontal = X[:, frontal_channel_indexes].copy()\n",
    "    PSD_posterior = X[:, posterior_channel_indexes].copy()\n",
    "    X = {\n",
    "        'DASM': PSD_left - PSD_right,\n",
    "        'RASM': PSD_left / PSD_right,\n",
    "        'DCAU': PSD_frontal - PSD_posterior,\n",
    "    }\n",
    "\n",
    "    for feature_name in ['DASM','RASM','DCAU']:\n",
    "        _, acc, cross = train_model(X[feature_name], labels.reshape(-1), groups, filename=filename)\n",
    "        print(f\"\\tAROUSAL-{filename}-{feature_name}|Acc={round(acc,5)}|10-CV={round(cross.mean(),5)}|STD={round(cross.std(),5)}|Time spend={time.time() - start}\")\n",
    "        accs[feature_name].append(acc)\n",
    "        cv_means[feature_name].append(cross.mean())\n",
    "        cv_stds[feature_name].append(cross.std())\n",
    "    # count+=1\n",
    "    # if(count == 3): break\n",
    "for feature_name in ['DASM','RASM','DCAU']:\n",
    "    print(f\"AROUSAL-{feature_name}|Acc={sum(accs[feature_name])/len(accs[feature_name])}|10-CV={sum(cv_means[feature_name])/len(cv_means[feature_name])}|STD={sum(cv_stds[feature_name])/len(cv_stds[feature_name])}\")\n",
    "\n",
    "accs_v,cv_means_v,cv_stds_v  = {'DASM':[],'RASM':[],'DCAU':[]},{'DASM':[],'RASM':[],'DCAU':[]},{'DASM':[],'RASM':[],'DCAU':[]}\n",
    "# count=0\n",
    "for filename in dataset.get_file_list():\n",
    "    start = time.time()\n",
    "    data, labels, groups = dataset.get_data(filename, stimuli=Dataset_subjectDependent.STIMULI_VALENCE, return_type='numpy')\n",
    "    fe = FeatureExtractor(sfreq=128, selected_funcs=['pow_freq_bands'],params=params,n_jobs=8)\n",
    "    X = fe.fit_transform(X=data)\n",
    "\n",
    "    PSD_left = X[:, left_channel_indexes].copy()\n",
    "    PSD_right = X[:, right_channel_indexes].copy()\n",
    "    PSD_frontal = X[:, frontal_channel_indexes].copy()\n",
    "    PSD_posterior = X[:, posterior_channel_indexes].copy()\n",
    "    X = {\n",
    "        'DASM': PSD_left - PSD_right,\n",
    "        'RASM': PSD_left / PSD_right,\n",
    "        'DCAU': PSD_frontal - PSD_posterior,\n",
    "    }\n",
    "\n",
    "    for feature_name in ['DASM','RASM','DCAU']:\n",
    "        _, acc, cross = train_model(X[feature_name], labels.reshape(-1), groups, filename=filename)\n",
    "        print(f\"\\tVALENCE-{filename}-{feature_name}|Acc={round(acc,5)}|10-CV={round(cross.mean(),5)}|STD={round(cross.std(),5)}|Time spend={time.time() - start}\")\n",
    "        accs_v[feature_name].append(acc)\n",
    "        cv_means_v[feature_name].append(cross.mean())\n",
    "        cv_stds_v[feature_name].append(cross.std())\n",
    "    # count+=1\n",
    "    # if(count == 3): break\n",
    "for feature_name in ['DASM','RASM','DCAU']:\n",
    "    print(f\"VALENCE-{feature_name}|Acc={sum(accs_v[feature_name])/len(accs_v[feature_name])}|10-CV={sum(cv_means_v[feature_name])/len(cv_means_v[feature_name])}|STD={sum(cv_stds_v[feature_name])/len(cv_stds_v[feature_name])}\")\n",
    "\n",
    "for feature_name in ['DASM','RASM','DCAU']:\n",
    "    accs[feature_name].extend(accs_v[feature_name])\n",
    "    cv_means[feature_name].extend(cv_means_v[feature_name])\n",
    "    cv_stds[feature_name].extend(cv_stds_v[feature_name])\n",
    "    print(f\"TOTAL-{feature_name}|Acc={sum(accs[feature_name])/len(accs[feature_name])}|10-CV={sum(cv_means[feature_name])/len(cv_means[feature_name])}|STD={sum(cv_stds[feature_name])/len(cv_stds[feature_name])}\")"
   ]
  },
  {
   "cell_type": "markdown",
   "metadata": {},
   "source": [
    "## 4. Connectivity\n",
    "\n",
    "### 4.1 $ \\text{PCC}_{\\text{time}}(i,j) = \\frac{\\text{Cov}[\\mathbf{X}_i, \\mathbf{X}_j]}{\\sigma_{\\mathbf{X}_i} \\sigma_{\\mathbf{X}_j}} $"
   ]
  },
  {
   "cell_type": "code",
   "execution_count": 7,
   "metadata": {},
   "outputs": [],
   "source": [
    "\n",
    "def pearson_correlation(x,y):\n",
    "    \"\"\" x,y denoted the signal_x and signal_y following the equation \"\"\"\n",
    "    cov = np.cov(x, y)\n",
    "    # print(cov)\n",
    "    # [[ 8806859.74527069  8007149.0906219 ] ==> [[cov_xx, cov_xy]\n",
    "    # [ 8007149.0906219  10396797.72458848]]      [cov_yx, cov_yy]]\n",
    "    cov_xy = cov[0,1] # or cov[1,0]\n",
    "    cov_xx = cov[0,0]\n",
    "    cov_yy = cov[1,1]\n",
    "    corr = cov_xy / ( cov_xx**0.5 * cov_yy**0.5  )\n",
    "    return corr\n",
    "\n",
    "def _cal(p_id, partial_data):\n",
    "    # print(f\"p_id:{p_id} - data to run {partial_data.shape}\")\n",
    "    from itertools import combinations\n",
    "    pcc = []\n",
    "    for index in range(partial_data.shape[0]):\n",
    "        pcc_epoch = []\n",
    "        for comb in combinations(list(range(partial_data.shape[1])), 2):\n",
    "            pcc_ab = pearson_correlation(partial_data[index, comb[0], :], partial_data[index, comb[1], :]   )\n",
    "            pcc_epoch.append(pcc_ab)\n",
    "        pcc_epoch = np.hstack(pcc_epoch)\n",
    "        pcc.append(pcc_epoch)\n",
    "    pcc = np.vstack(pcc)\n",
    "    return pcc\n",
    "\n",
    "def calculate_pcc(data, n_jobs=8):\n",
    "    \"\"\" \n",
    "    Input: Expect data to have (n_epochs, n_channels, n_samples)\n",
    "    Output: (n_epochs, n_conn ) => n_conn = n_channels!/(2!(n_channels-2)!)\n",
    "    \"\"\"\n",
    "    from multiprocessing import Pool\n",
    "\n",
    "    try:\n",
    "        t_out = 60000\n",
    "        pool = Pool()\n",
    "        p_list = []\n",
    "        ans_list = []\n",
    "        num_p = n_jobs\n",
    "        indices = np.array_split(np.arange(data.shape[0]), num_p)\n",
    "        for p_id in range(num_p):\n",
    "            p_list.append(pool.apply_async(_cal, [p_id, data[indices[p_id]] ]))\n",
    "        for p_id in range(num_p):\n",
    "            ans_list.append( p_list[p_id].get(timeout=t_out) )\n",
    "        # ans_list\n",
    "    except Exception as e:\n",
    "        print(e)\n",
    "    finally:\n",
    "        print(\"========= close ========\")\n",
    "        pool.close() \n",
    "        pool.terminate()\n",
    "    return np.vstack(ans_list)"
   ]
  },
  {
   "cell_type": "code",
   "execution_count": 8,
   "metadata": {},
   "outputs": [
    {
     "data": {
      "application/vnd.jupyter.widget-view+json": {
       "model_id": "b20684699c154396833a0bb1e593d257",
       "version_major": 2,
       "version_minor": 0
      },
      "text/plain": [
       "  0%|          | 0/32 [00:00<?, ?it/s]"
      ]
     },
     "metadata": {},
     "output_type": "display_data"
    },
    {
     "name": "stdout",
     "output_type": "stream",
     "text": [
      "Fitted sphere radius:         95.3 mm\n",
      "Origin head coordinates:      -0.8 15.1 45.3 mm\n",
      "Origin device coordinates:    -0.8 15.1 45.3 mm\n",
      "========= close ========\n",
      "\tAROUSAL-s01|Acc=0.69833|10-CV=0.64333|STD=0.0182|Time spend=3.377887725830078\n",
      "\tVALENCE-s01|Acc=0.64167|10-CV=0.572|STD=0.02579|Time spend=3.80958890914917\n",
      "Fitted sphere radius:         95.3 mm\n",
      "Origin head coordinates:      -0.8 15.1 45.3 mm\n",
      "Origin device coordinates:    -0.8 15.1 45.3 mm\n",
      "========= close ========\n",
      "\tAROUSAL-s02|Acc=0.60833|10-CV=0.6|STD=0.00422|Time spend=3.7062079906463623\n",
      "\tVALENCE-s02|Acc=0.59167|10-CV=0.55533|STD=0.01157|Time spend=4.110574960708618\n",
      "Fitted sphere radius:         95.3 mm\n",
      "Origin head coordinates:      -0.8 15.1 45.3 mm\n",
      "Origin device coordinates:    -0.8 15.1 45.3 mm\n",
      "========= close ========\n",
      "\tAROUSAL-s03|Acc=0.8|10-CV=0.8|STD=0.0|Time spend=3.0407114028930664\n",
      "\tVALENCE-s03|Acc=0.55|10-CV=0.54667|STD=0.0|Time spend=3.438436985015869\n",
      "Fitted sphere radius:         95.3 mm\n",
      "Origin head coordinates:      -0.8 15.1 45.3 mm\n",
      "Origin device coordinates:    -0.8 15.1 45.3 mm\n",
      "========= close ========\n",
      "\tAROUSAL-s04|Acc=0.6|10-CV=0.6|STD=0.0|Time spend=2.9303200244903564\n",
      "\tVALENCE-s04|Acc=0.6|10-CV=0.6|STD=0.0|Time spend=3.292329788208008\n",
      "Fitted sphere radius:         95.3 mm\n",
      "Origin head coordinates:      -0.8 15.1 45.3 mm\n",
      "Origin device coordinates:    -0.8 15.1 45.3 mm\n",
      "========= close ========\n",
      "\tAROUSAL-s05|Acc=0.57333|10-CV=0.54|STD=0.02066|Time spend=2.9853851795196533\n",
      "\tVALENCE-s05|Acc=0.6|10-CV=0.59867|STD=0.004|Time spend=3.3558743000030518\n",
      "Fitted sphere radius:         95.3 mm\n",
      "Origin head coordinates:      -0.8 15.1 45.3 mm\n",
      "Origin device coordinates:    -0.8 15.1 45.3 mm\n",
      "========= close ========\n",
      "\tAROUSAL-s06|Acc=0.585|10-CV=0.582|STD=0.01431|Time spend=2.960508108139038\n",
      "\tVALENCE-s06|Acc=0.75|10-CV=0.74867|STD=0.00306|Time spend=3.2837746143341064\n",
      "Fitted sphere radius:         95.3 mm\n",
      "Origin head coordinates:      -0.8 15.1 45.3 mm\n",
      "Origin device coordinates:    -0.8 15.1 45.3 mm\n",
      "========= close ========\n",
      "\tAROUSAL-s07|Acc=0.66667|10-CV=0.65067|STD=0.00854|Time spend=2.974273681640625\n",
      "\tVALENCE-s07|Acc=0.7|10-CV=0.7|STD=0.0|Time spend=3.307978391647339\n",
      "Fitted sphere radius:         95.3 mm\n",
      "Origin head coordinates:      -0.8 15.1 45.3 mm\n",
      "Origin device coordinates:    -0.8 15.1 45.3 mm\n",
      "========= close ========\n",
      "\tAROUSAL-s08|Acc=0.585|10-CV=0.56667|STD=0.01366|Time spend=2.8944103717803955\n",
      "\tVALENCE-s08|Acc=0.63167|10-CV=0.59|STD=0.03727|Time spend=3.2747693061828613\n",
      "Fitted sphere radius:         95.3 mm\n",
      "Origin head coordinates:      -0.8 15.1 45.3 mm\n",
      "Origin device coordinates:    -0.8 15.1 45.3 mm\n",
      "========= close ========\n",
      "\tAROUSAL-s09|Acc=0.6|10-CV=0.6|STD=0.0|Time spend=3.263874053955078\n",
      "\tVALENCE-s09|Acc=0.635|10-CV=0.64467|STD=0.03899|Time spend=3.6499581336975098\n",
      "Fitted sphere radius:         95.3 mm\n",
      "Origin head coordinates:      -0.8 15.1 45.3 mm\n",
      "Origin device coordinates:    -0.8 15.1 45.3 mm\n",
      "========= close ========\n",
      "\tAROUSAL-s10|Acc=0.58667|10-CV=0.55733|STD=0.02215|Time spend=3.355478048324585\n",
      "\tVALENCE-s10|Acc=0.75833|10-CV=0.70467|STD=0.04629|Time spend=3.721259832382202\n",
      "Fitted sphere radius:         95.3 mm\n",
      "Origin head coordinates:      -0.8 15.1 45.3 mm\n",
      "Origin device coordinates:    -0.8 15.1 45.3 mm\n",
      "========= close ========\n",
      "\tAROUSAL-s11|Acc=0.625|10-CV=0.62667|STD=0.0|Time spend=2.964273691177368\n",
      "\tVALENCE-s11|Acc=0.605|10-CV=0.60067|STD=0.002|Time spend=3.3209125995635986\n",
      "Fitted sphere radius:         95.3 mm\n",
      "Origin head coordinates:      -0.8 15.1 45.3 mm\n",
      "Origin device coordinates:    -0.8 15.1 45.3 mm\n",
      "========= close ========\n",
      "\tAROUSAL-s12|Acc=0.825|10-CV=0.82667|STD=0.0|Time spend=2.8820700645446777\n",
      "\tVALENCE-s12|Acc=0.615|10-CV=0.61933|STD=0.04487|Time spend=3.2657995223999023\n",
      "Fitted sphere radius:         95.3 mm\n",
      "Origin head coordinates:      -0.8 15.1 45.3 mm\n",
      "Origin device coordinates:    -0.8 15.1 45.3 mm\n",
      "========= close ========\n",
      "\tAROUSAL-s13|Acc=0.85|10-CV=0.85|STD=0.00333|Time spend=2.944098472595215\n",
      "\tVALENCE-s13|Acc=0.68833|10-CV=0.69733|STD=0.03087|Time spend=3.3070356845855713\n",
      "Fitted sphere radius:         95.3 mm\n",
      "Origin head coordinates:      -0.8 15.1 45.3 mm\n",
      "Origin device coordinates:    -0.8 15.1 45.3 mm\n",
      "========= close ========\n",
      "\tAROUSAL-s14|Acc=0.675|10-CV=0.67333|STD=0.0|Time spend=2.898210048675537\n",
      "\tVALENCE-s14|Acc=0.655|10-CV=0.608|STD=0.03474|Time spend=3.283496856689453\n",
      "Fitted sphere radius:         95.3 mm\n",
      "Origin head coordinates:      -0.8 15.1 45.3 mm\n",
      "Origin device coordinates:    -0.8 15.1 45.3 mm\n",
      "========= close ========\n",
      "\tAROUSAL-s15|Acc=0.62667|10-CV=0.568|STD=0.01655|Time spend=2.9401113986968994\n",
      "\tVALENCE-s15|Acc=0.72|10-CV=0.708|STD=0.03096|Time spend=3.294529914855957\n",
      "Fitted sphere radius:         95.3 mm\n",
      "Origin head coordinates:      -0.8 15.1 45.3 mm\n",
      "Origin device coordinates:    -0.8 15.1 45.3 mm\n",
      "========= close ========\n",
      "\tAROUSAL-s16|Acc=0.64833|10-CV=0.61067|STD=0.0358|Time spend=3.0068204402923584\n",
      "\tVALENCE-s16|Acc=0.68333|10-CV=0.66|STD=0.01687|Time spend=3.3650951385498047\n",
      "Fitted sphere radius:         95.3 mm\n",
      "Origin head coordinates:      -0.8 15.1 45.3 mm\n",
      "Origin device coordinates:    -0.8 15.1 45.3 mm\n",
      "========= close ========\n",
      "\tAROUSAL-s17|Acc=0.60833|10-CV=0.60067|STD=0.002|Time spend=2.8829238414764404\n",
      "\tVALENCE-s17|Acc=0.55|10-CV=0.54667|STD=0.0|Time spend=3.2671780586242676\n",
      "Fitted sphere radius:         95.3 mm\n",
      "Origin head coordinates:      -0.8 15.1 45.3 mm\n",
      "Origin device coordinates:    -0.8 15.1 45.3 mm\n",
      "========= close ========\n",
      "\tAROUSAL-s18|Acc=0.625|10-CV=0.62667|STD=0.0|Time spend=2.9162895679473877\n",
      "\tVALENCE-s18|Acc=0.73833|10-CV=0.72467|STD=0.02252|Time spend=3.25434947013855\n",
      "Fitted sphere radius:         95.3 mm\n",
      "Origin head coordinates:      -0.8 15.1 45.3 mm\n",
      "Origin device coordinates:    -0.8 15.1 45.3 mm\n",
      "========= close ========\n",
      "\tAROUSAL-s19|Acc=0.675|10-CV=0.67267|STD=0.002|Time spend=3.015868663787842\n",
      "\tVALENCE-s19|Acc=0.665|10-CV=0.63733|STD=0.02832|Time spend=3.3929011821746826\n",
      "Fitted sphere radius:         95.3 mm\n",
      "Origin head coordinates:      -0.8 15.1 45.3 mm\n",
      "Origin device coordinates:    -0.8 15.1 45.3 mm\n",
      "========= close ========\n",
      "\tAROUSAL-s20|Acc=0.775|10-CV=0.77333|STD=0.0|Time spend=2.867793321609497\n",
      "\tVALENCE-s20|Acc=0.68333|10-CV=0.646|STD=0.03379|Time spend=3.226447105407715\n",
      "Fitted sphere radius:         95.3 mm\n",
      "Origin head coordinates:      -0.8 15.1 45.3 mm\n",
      "Origin device coordinates:    -0.8 15.1 45.3 mm\n",
      "========= close ========\n",
      "\tAROUSAL-s21|Acc=0.8|10-CV=0.8|STD=0.0|Time spend=2.9460530281066895\n",
      "\tVALENCE-s21|Acc=0.525|10-CV=0.52333|STD=0.01|Time spend=3.3406481742858887\n",
      "Fitted sphere radius:         95.3 mm\n",
      "Origin head coordinates:      -0.8 15.1 45.3 mm\n",
      "Origin device coordinates:    -0.8 15.1 45.3 mm\n",
      "========= close ========\n",
      "\tAROUSAL-s22|Acc=0.6|10-CV=0.6|STD=0.0|Time spend=2.9116036891937256\n",
      "\tVALENCE-s22|Acc=0.60833|10-CV=0.58467|STD=0.00897|Time spend=3.2921862602233887\n",
      "Fitted sphere radius:         95.3 mm\n",
      "Origin head coordinates:      -0.8 15.1 45.3 mm\n",
      "Origin device coordinates:    -0.8 15.1 45.3 mm\n",
      "========= close ========\n",
      "\tAROUSAL-s23|Acc=0.75|10-CV=0.75|STD=0.00333|Time spend=2.8541195392608643\n",
      "\tVALENCE-s23|Acc=0.65|10-CV=0.64933|STD=0.00327|Time spend=3.199526071548462\n",
      "Fitted sphere radius:         95.3 mm\n",
      "Origin head coordinates:      -0.8 15.1 45.3 mm\n",
      "Origin device coordinates:    -0.8 15.1 45.3 mm\n",
      "========= close ========\n",
      "\tAROUSAL-s24|Acc=0.825|10-CV=0.82667|STD=0.0|Time spend=2.841864824295044\n",
      "\tVALENCE-s24|Acc=0.595|10-CV=0.574|STD=0.01504|Time spend=3.2240564823150635\n",
      "Fitted sphere radius:         95.3 mm\n",
      "Origin head coordinates:      -0.8 15.1 45.3 mm\n",
      "Origin device coordinates:    -0.8 15.1 45.3 mm\n",
      "========= close ========\n",
      "\tAROUSAL-s25|Acc=0.725|10-CV=0.72667|STD=0.0|Time spend=2.897991895675659\n",
      "\tVALENCE-s25|Acc=0.51667|10-CV=0.51333|STD=0.03347|Time spend=3.2974185943603516\n",
      "Fitted sphere radius:         95.3 mm\n",
      "Origin head coordinates:      -0.8 15.1 45.3 mm\n",
      "Origin device coordinates:    -0.8 15.1 45.3 mm\n",
      "========= close ========\n",
      "\tAROUSAL-s26|Acc=0.62667|10-CV=0.622|STD=0.01194|Time spend=2.9805288314819336\n",
      "\tVALENCE-s26|Acc=0.65|10-CV=0.64933|STD=0.00327|Time spend=3.3370418548583984\n",
      "Fitted sphere radius:         95.3 mm\n",
      "Origin head coordinates:      -0.8 15.1 45.3 mm\n",
      "Origin device coordinates:    -0.8 15.1 45.3 mm\n",
      "========= close ========\n",
      "\tAROUSAL-s27|Acc=0.70333|10-CV=0.682|STD=0.01035|Time spend=2.885841131210327\n",
      "\tVALENCE-s27|Acc=0.75|10-CV=0.74867|STD=0.00306|Time spend=3.1879661083221436\n",
      "Fitted sphere radius:         95.3 mm\n",
      "Origin head coordinates:      -0.8 15.1 45.3 mm\n",
      "Origin device coordinates:    -0.8 15.1 45.3 mm\n",
      "========= close ========\n",
      "\tAROUSAL-s28|Acc=0.56667|10-CV=0.558|STD=0.01301|Time spend=2.9255783557891846\n",
      "\tVALENCE-s28|Acc=0.625|10-CV=0.62667|STD=0.0|Time spend=3.288567304611206\n",
      "Fitted sphere radius:         95.3 mm\n",
      "Origin head coordinates:      -0.8 15.1 45.3 mm\n",
      "Origin device coordinates:    -0.8 15.1 45.3 mm\n",
      "========= close ========\n",
      "\tAROUSAL-s29|Acc=0.625|10-CV=0.62667|STD=0.0|Time spend=3.0598487854003906\n",
      "\tVALENCE-s29|Acc=0.65167|10-CV=0.62533|STD=0.0204|Time spend=3.4434127807617188\n",
      "Fitted sphere radius:         95.3 mm\n",
      "Origin head coordinates:      -0.8 15.1 45.3 mm\n",
      "Origin device coordinates:    -0.8 15.1 45.3 mm\n",
      "========= close ========\n",
      "\tAROUSAL-s30|Acc=0.58167|10-CV=0.57067|STD=0.03389|Time spend=3.043679714202881\n",
      "\tVALENCE-s30|Acc=0.675|10-CV=0.67333|STD=0.0|Time spend=3.400908946990967\n",
      "Fitted sphere radius:         95.3 mm\n",
      "Origin head coordinates:      -0.8 15.1 45.3 mm\n",
      "Origin device coordinates:    -0.8 15.1 45.3 mm\n",
      "========= close ========\n",
      "\tAROUSAL-s31|Acc=0.68667|10-CV=0.62333|STD=0.03568|Time spend=3.0147621631622314\n",
      "\tVALENCE-s31|Acc=0.57667|10-CV=0.57267|STD=0.002|Time spend=3.4241106510162354\n",
      "Fitted sphere radius:         95.3 mm\n",
      "Origin head coordinates:      -0.8 15.1 45.3 mm\n",
      "Origin device coordinates:    -0.8 15.1 45.3 mm\n",
      "========= close ========\n",
      "\tAROUSAL-s32|Acc=0.675|10-CV=0.67333|STD=0.0|Time spend=2.9208381175994873\n",
      "\tVALENCE-s32|Acc=0.64|10-CV=0.64933|STD=0.028|Time spend=3.288280487060547\n",
      "AROUSAL|Acc=0.6688020833333335|10-CV=0.657125|STD=0.008425865074636264\n",
      "VALENCE|Acc=0.6414062500000002|10-CV=0.6280833333333333|STD=0.016854340891571697\n"
     ]
    }
   ],
   "source": [
    "accs, cv_means, cv_stds = [],[],[]\n",
    "accs_v, cv_means_v, cv_stds_v = [],[],[]\n",
    "reports = []\n",
    "for filename in (pbar := tqdm(dataset.get_file_list())):\n",
    "    start = time.time()\n",
    "    pbar.set_description(filename)\n",
    "    data, labels, groups = dataset.get_data(filename, stimuli=Dataset_subjectDependent.STIMULI_AROUSAL, return_type='mne', sfreq=128)\n",
    "    data_csd = mne.preprocessing.compute_current_source_density(data)\n",
    "    pcc = calculate_pcc(data_csd.get_data())\n",
    "    _,acc,cross,train_report = train_model(pcc, labels.squeeze(), groups, filename=filename, return_text=True)\n",
    "    report = f\"\\tAROUSAL-{filename}|Acc={round(acc,5)}|10-CV={round(cross.mean(),5)}|STD={round(cross.std(),5)}|Time spend={time.time() - start}\"\n",
    "    print(report)\n",
    "    reports.append(report)\n",
    "    reports.append(train_report)\n",
    "    accs.append(acc)\n",
    "    cv_means.append(cross.mean())\n",
    "    cv_stds.append(cross.std())\n",
    "\n",
    "    _, labels_v, groups_v = dataset.get_data(filename, stimuli=Dataset_subjectDependent.STIMULI_VALENCE, return_type='mne', sfreq=128)\n",
    "    _,acc,cross,train_report = train_model(pcc, labels_v.squeeze(), groups_v, filename=filename, return_text=True)\n",
    "    report = f\"\\tVALENCE-{filename}|Acc={round(acc,5)}|10-CV={round(cross.mean(),5)}|STD={round(cross.std(),5)}|Time spend={time.time() - start}\"\n",
    "    print(report)\n",
    "    reports.append(report)\n",
    "    reports.append(train_report)\n",
    "    accs_v.append(acc)\n",
    "    cv_means_v.append(cross.mean())\n",
    "    cv_stds_v.append(cross.std())\n",
    "    # break\n",
    "    # count+=1\n",
    "    # if(count == 5): break\n",
    "report = f\"AROUSAL|Acc={sum(accs)/len(accs)}|10-CV={sum(cv_means)/len(cv_means)}|STD={sum(cv_stds)/len(cv_stds)}\"\n",
    "print(report)\n",
    "reports.append(report)\n",
    "report = f\"VALENCE|Acc={sum(accs_v)/len(accs_v)}|10-CV={sum(cv_means_v)/len(cv_means_v)}|STD={sum(cv_stds_v)/len(cv_stds_v)}\"\n",
    "print(report)\n",
    "reports.append(report)"
   ]
  },
  {
   "cell_type": "code",
   "execution_count": 9,
   "metadata": {},
   "outputs": [
    {
     "name": "stdout",
     "output_type": "stream",
     "text": [
      "\tAROUSAL-s01|Acc=0.69833|10-CV=0.64333|STD=0.0182|Time spend=3.377887725830078\n",
      "\tVALENCE-s01|Acc=0.64167|10-CV=0.572|STD=0.02579|Time spend=3.80958890914917\n",
      "\tAROUSAL-s02|Acc=0.60833|10-CV=0.6|STD=0.00422|Time spend=3.7062079906463623\n",
      "\tVALENCE-s02|Acc=0.59167|10-CV=0.55533|STD=0.01157|Time spend=4.110574960708618\n",
      "\tAROUSAL-s03|Acc=0.8|10-CV=0.8|STD=0.0|Time spend=3.0407114028930664\n",
      "-----WARNING: Model s03 failed to learn: sum(ans)=0.0 sum(y)=120.0 len(y)=600\n",
      "\tVALENCE-s03|Acc=0.55|10-CV=0.54667|STD=0.0|Time spend=3.438436985015869\n",
      "-----WARNING: Model s03 failed to learn: sum(ans)=600.0 sum(y)=330.0 len(y)=600\n",
      "\tAROUSAL-s04|Acc=0.6|10-CV=0.6|STD=0.0|Time spend=2.9303200244903564\n",
      "-----WARNING: Model s04 failed to learn: sum(ans)=0.0 sum(y)=240.0 len(y)=600\n",
      "\tVALENCE-s04|Acc=0.6|10-CV=0.6|STD=0.0|Time spend=3.292329788208008\n",
      "-----WARNING: Model s04 failed to learn: sum(ans)=0.0 sum(y)=240.0 len(y)=600\n",
      "\tAROUSAL-s05|Acc=0.57333|10-CV=0.54|STD=0.02066|Time spend=2.9853851795196533\n",
      "\tVALENCE-s05|Acc=0.6|10-CV=0.59867|STD=0.004|Time spend=3.3558743000030518\n",
      "-----WARNING: Model s05 failed to learn: sum(ans)=600.0 sum(y)=360.0 len(y)=600\n",
      "\tAROUSAL-s06|Acc=0.585|10-CV=0.582|STD=0.01431|Time spend=2.960508108139038\n",
      "\tVALENCE-s06|Acc=0.75|10-CV=0.74867|STD=0.00306|Time spend=3.2837746143341064\n",
      "-----WARNING: Model s06 failed to learn: sum(ans)=600.0 sum(y)=450.0 len(y)=600\n",
      "\tAROUSAL-s07|Acc=0.66667|10-CV=0.65067|STD=0.00854|Time spend=2.974273681640625\n",
      "\tVALENCE-s07|Acc=0.7|10-CV=0.7|STD=0.0|Time spend=3.307978391647339\n",
      "-----WARNING: Model s07 failed to learn: sum(ans)=600.0 sum(y)=420.0 len(y)=600\n",
      "\tAROUSAL-s08|Acc=0.585|10-CV=0.56667|STD=0.01366|Time spend=2.8944103717803955\n",
      "\tVALENCE-s08|Acc=0.63167|10-CV=0.59|STD=0.03727|Time spend=3.2747693061828613\n",
      "\tAROUSAL-s09|Acc=0.6|10-CV=0.6|STD=0.0|Time spend=3.263874053955078\n",
      "-----WARNING: Model s09 failed to learn: sum(ans)=600.0 sum(y)=360.0 len(y)=600\n",
      "\tVALENCE-s09|Acc=0.635|10-CV=0.64467|STD=0.03899|Time spend=3.6499581336975098\n",
      "\tAROUSAL-s10|Acc=0.58667|10-CV=0.55733|STD=0.02215|Time spend=3.355478048324585\n",
      "\tVALENCE-s10|Acc=0.75833|10-CV=0.70467|STD=0.04629|Time spend=3.721259832382202\n",
      "\tAROUSAL-s11|Acc=0.625|10-CV=0.62667|STD=0.0|Time spend=2.964273691177368\n",
      "-----WARNING: Model s11 failed to learn: sum(ans)=0.0 sum(y)=225.0 len(y)=600\n",
      "\tVALENCE-s11|Acc=0.605|10-CV=0.60067|STD=0.002|Time spend=3.3209125995635986\n",
      "\tAROUSAL-s12|Acc=0.825|10-CV=0.82667|STD=0.0|Time spend=2.8820700645446777\n",
      "-----WARNING: Model s12 failed to learn: sum(ans)=600.0 sum(y)=495.0 len(y)=600\n",
      "\tVALENCE-s12|Acc=0.615|10-CV=0.61933|STD=0.04487|Time spend=3.2657995223999023\n",
      "\tAROUSAL-s13|Acc=0.85|10-CV=0.85|STD=0.00333|Time spend=2.944098472595215\n",
      "-----WARNING: Model s13 failed to learn: sum(ans)=600.0 sum(y)=510.0 len(y)=600\n",
      "\tVALENCE-s13|Acc=0.68833|10-CV=0.69733|STD=0.03087|Time spend=3.3070356845855713\n",
      "\tAROUSAL-s14|Acc=0.675|10-CV=0.67333|STD=0.0|Time spend=2.898210048675537\n",
      "-----WARNING: Model s14 failed to learn: sum(ans)=600.0 sum(y)=405.0 len(y)=600\n",
      "\tVALENCE-s14|Acc=0.655|10-CV=0.608|STD=0.03474|Time spend=3.283496856689453\n",
      "\tAROUSAL-s15|Acc=0.62667|10-CV=0.568|STD=0.01655|Time spend=2.9401113986968994\n",
      "\tVALENCE-s15|Acc=0.72|10-CV=0.708|STD=0.03096|Time spend=3.294529914855957\n",
      "\tAROUSAL-s16|Acc=0.64833|10-CV=0.61067|STD=0.0358|Time spend=3.0068204402923584\n",
      "\tVALENCE-s16|Acc=0.68333|10-CV=0.66|STD=0.01687|Time spend=3.3650951385498047\n",
      "\tAROUSAL-s17|Acc=0.60833|10-CV=0.60067|STD=0.002|Time spend=2.8829238414764404\n",
      "\tVALENCE-s17|Acc=0.55|10-CV=0.54667|STD=0.0|Time spend=3.2671780586242676\n",
      "-----WARNING: Model s17 failed to learn: sum(ans)=600.0 sum(y)=330.0 len(y)=600\n",
      "\tAROUSAL-s18|Acc=0.625|10-CV=0.62667|STD=0.0|Time spend=2.9162895679473877\n",
      "-----WARNING: Model s18 failed to learn: sum(ans)=600.0 sum(y)=375.0 len(y)=600\n",
      "\tVALENCE-s18|Acc=0.73833|10-CV=0.72467|STD=0.02252|Time spend=3.25434947013855\n",
      "\tAROUSAL-s19|Acc=0.675|10-CV=0.67267|STD=0.002|Time spend=3.015868663787842\n",
      "-----WARNING: Model s19 failed to learn: sum(ans)=600.0 sum(y)=405.0 len(y)=600\n",
      "\tVALENCE-s19|Acc=0.665|10-CV=0.63733|STD=0.02832|Time spend=3.3929011821746826\n",
      "\tAROUSAL-s20|Acc=0.775|10-CV=0.77333|STD=0.0|Time spend=2.867793321609497\n",
      "-----WARNING: Model s20 failed to learn: sum(ans)=600.0 sum(y)=465.0 len(y)=600\n",
      "\tVALENCE-s20|Acc=0.68333|10-CV=0.646|STD=0.03379|Time spend=3.226447105407715\n",
      "\tAROUSAL-s21|Acc=0.8|10-CV=0.8|STD=0.0|Time spend=2.9460530281066895\n",
      "-----WARNING: Model s21 failed to learn: sum(ans)=600.0 sum(y)=480.0 len(y)=600\n",
      "\tVALENCE-s21|Acc=0.525|10-CV=0.52333|STD=0.01|Time spend=3.3406481742858887\n",
      "-----WARNING: Model s21 failed to learn: sum(ans)=600.0 sum(y)=315.0 len(y)=600\n",
      "\tAROUSAL-s22|Acc=0.6|10-CV=0.6|STD=0.0|Time spend=2.9116036891937256\n",
      "-----WARNING: Model s22 failed to learn: sum(ans)=600.0 sum(y)=360.0 len(y)=600\n",
      "\tVALENCE-s22|Acc=0.60833|10-CV=0.58467|STD=0.00897|Time spend=3.2921862602233887\n",
      "\tAROUSAL-s23|Acc=0.75|10-CV=0.75|STD=0.00333|Time spend=2.8541195392608643\n",
      "-----WARNING: Model s23 failed to learn: sum(ans)=0.0 sum(y)=150.0 len(y)=600\n",
      "\tVALENCE-s23|Acc=0.65|10-CV=0.64933|STD=0.00327|Time spend=3.199526071548462\n",
      "-----WARNING: Model s23 failed to learn: sum(ans)=600.0 sum(y)=390.0 len(y)=600\n",
      "\tAROUSAL-s24|Acc=0.825|10-CV=0.82667|STD=0.0|Time spend=2.841864824295044\n",
      "-----WARNING: Model s24 failed to learn: sum(ans)=600.0 sum(y)=495.0 len(y)=600\n",
      "\tVALENCE-s24|Acc=0.595|10-CV=0.574|STD=0.01504|Time spend=3.2240564823150635\n",
      "\tAROUSAL-s25|Acc=0.725|10-CV=0.72667|STD=0.0|Time spend=2.897991895675659\n",
      "-----WARNING: Model s25 failed to learn: sum(ans)=600.0 sum(y)=435.0 len(y)=600\n",
      "\tVALENCE-s25|Acc=0.51667|10-CV=0.51333|STD=0.03347|Time spend=3.2974185943603516\n",
      "\tAROUSAL-s26|Acc=0.62667|10-CV=0.622|STD=0.01194|Time spend=2.9805288314819336\n",
      "\tVALENCE-s26|Acc=0.65|10-CV=0.64933|STD=0.00327|Time spend=3.3370418548583984\n",
      "-----WARNING: Model s26 failed to learn: sum(ans)=600.0 sum(y)=390.0 len(y)=600\n",
      "\tAROUSAL-s27|Acc=0.70333|10-CV=0.682|STD=0.01035|Time spend=2.885841131210327\n",
      "\tVALENCE-s27|Acc=0.75|10-CV=0.74867|STD=0.00306|Time spend=3.1879661083221436\n",
      "-----WARNING: Model s27 failed to learn: sum(ans)=600.0 sum(y)=450.0 len(y)=600\n",
      "\tAROUSAL-s28|Acc=0.56667|10-CV=0.558|STD=0.01301|Time spend=2.9255783557891846\n",
      "\tVALENCE-s28|Acc=0.625|10-CV=0.62667|STD=0.0|Time spend=3.288567304611206\n",
      "-----WARNING: Model s28 failed to learn: sum(ans)=600.0 sum(y)=375.0 len(y)=600\n",
      "\tAROUSAL-s29|Acc=0.625|10-CV=0.62667|STD=0.0|Time spend=3.0598487854003906\n",
      "-----WARNING: Model s29 failed to learn: sum(ans)=600.0 sum(y)=375.0 len(y)=600\n",
      "\tVALENCE-s29|Acc=0.65167|10-CV=0.62533|STD=0.0204|Time spend=3.4434127807617188\n",
      "\tAROUSAL-s30|Acc=0.58167|10-CV=0.57067|STD=0.03389|Time spend=3.043679714202881\n",
      "\tVALENCE-s30|Acc=0.675|10-CV=0.67333|STD=0.0|Time spend=3.400908946990967\n",
      "-----WARNING: Model s30 failed to learn: sum(ans)=600.0 sum(y)=405.0 len(y)=600\n",
      "\tAROUSAL-s31|Acc=0.68667|10-CV=0.62333|STD=0.03568|Time spend=3.0147621631622314\n",
      "\tVALENCE-s31|Acc=0.57667|10-CV=0.57267|STD=0.002|Time spend=3.4241106510162354\n",
      "\tAROUSAL-s32|Acc=0.675|10-CV=0.67333|STD=0.0|Time spend=2.9208381175994873\n",
      "-----WARNING: Model s32 failed to learn: sum(ans)=600.0 sum(y)=405.0 len(y)=600\n",
      "\tVALENCE-s32|Acc=0.64|10-CV=0.64933|STD=0.028|Time spend=3.288280487060547\n",
      "AROUSAL|Acc=0.6688020833333335|10-CV=0.657125|STD=0.008425865074636264\n",
      "VALENCE|Acc=0.6414062500000002|10-CV=0.6280833333333333|STD=0.016854340891571697\n",
      "TOTAL|Acc=0.6551041666666666|10-CV=0.6426041666666662|STD=0.012640102983103982\n"
     ]
    }
   ],
   "source": [
    "for text in reports:\n",
    "    if(text == None): continue\n",
    "    print(text)\n",
    "\n",
    "accs.extend(accs_v)\n",
    "cv_means.extend(cv_means_v)\n",
    "cv_stds.extend(cv_stds_v)\n",
    "print(f\"TOTAL|Acc={sum(accs)/len(accs)}|10-CV={sum(cv_means)/len(cv_means)}|STD={sum(cv_stds)/len(cv_stds)}\")"
   ]
  },
  {
   "cell_type": "markdown",
   "metadata": {},
   "source": [
    "### 4.2 $ \\text{PCC}_{freq} (i,j) = \\frac{\\text{Cov}[\\hat{\\mathbf{X}}_i, \\hat{\\mathbf{X}}_j]}{\\sigma_{\\hat{\\mathbf{X}}_i} \\sigma_{\\hat{\\mathbf{X}}_j}} $"
   ]
  },
  {
   "cell_type": "code",
   "execution_count": 10,
   "metadata": {},
   "outputs": [],
   "source": [
    "def calculate_fft(signal, sfreq):\n",
    "    \"\"\" signal: can be 1D array of (n_sample,) or 2D array of (n_signal, n_sample)  \"\"\"\n",
    "    number_sample = signal.shape[-1]\n",
    "\n",
    "    # the result will be a complex number. We can obtain the magnitude using `absolute`\n",
    "    magnitude = np.abs(np.fft.fft(signal))\n",
    "    # scale the result\n",
    "    magnitude = magnitude / (number_sample/2)\n",
    "    # Selecting the range\n",
    "    magnitude = magnitude.T[:number_sample//2].T\n",
    "    freq_range = np.fft.fftfreq(number_sample, d=1/sfreq)[:number_sample//2]\n",
    "\n",
    "    return magnitude, freq_range"
   ]
  },
  {
   "cell_type": "code",
   "execution_count": 11,
   "metadata": {},
   "outputs": [
    {
     "data": {
      "application/vnd.jupyter.widget-view+json": {
       "model_id": "2deb72d3c6c346d488a2a034e5a3154f",
       "version_major": 2,
       "version_minor": 0
      },
      "text/plain": [
       "  0%|          | 0/32 [00:00<?, ?it/s]"
      ]
     },
     "metadata": {},
     "output_type": "display_data"
    },
    {
     "name": "stdout",
     "output_type": "stream",
     "text": [
      "Fitted sphere radius:         95.3 mm\n",
      "Origin head coordinates:      -0.8 15.1 45.3 mm\n",
      "Origin device coordinates:    -0.8 15.1 45.3 mm\n",
      "========= close ========\n",
      "\tAROUSAL-s01|Acc=0.79|10-CV=0.65933|STD=0.0224|Time spend=3.134016275405884\n",
      "\tVALENCE-s01|Acc=0.77333|10-CV=0.57133|STD=0.04715|Time spend=3.5149497985839844\n",
      "Fitted sphere radius:         95.3 mm\n",
      "Origin head coordinates:      -0.8 15.1 45.3 mm\n",
      "Origin device coordinates:    -0.8 15.1 45.3 mm\n",
      "========= close ========\n",
      "\tAROUSAL-s02|Acc=0.64167|10-CV=0.624|STD=0.01818|Time spend=3.3635218143463135\n",
      "\tVALENCE-s02|Acc=0.62|10-CV=0.58067|STD=0.01724|Time spend=3.799100399017334\n",
      "Fitted sphere radius:         95.3 mm\n",
      "Origin head coordinates:      -0.8 15.1 45.3 mm\n",
      "Origin device coordinates:    -0.8 15.1 45.3 mm\n",
      "========= close ========\n",
      "\tAROUSAL-s03|Acc=0.8|10-CV=0.8|STD=0.0|Time spend=3.0158700942993164\n",
      "\tVALENCE-s03|Acc=0.63333|10-CV=0.55333|STD=0.01366|Time spend=3.419499397277832\n",
      "Fitted sphere radius:         95.3 mm\n",
      "Origin head coordinates:      -0.8 15.1 45.3 mm\n",
      "Origin device coordinates:    -0.8 15.1 45.3 mm\n",
      "========= close ========\n",
      "\tAROUSAL-s04|Acc=0.63333|10-CV=0.608|STD=0.01067|Time spend=3.0231428146362305\n",
      "\tVALENCE-s04|Acc=0.61|10-CV=0.588|STD=0.01024|Time spend=3.397219181060791\n",
      "Fitted sphere radius:         95.3 mm\n",
      "Origin head coordinates:      -0.8 15.1 45.3 mm\n",
      "Origin device coordinates:    -0.8 15.1 45.3 mm\n",
      "========= close ========\n",
      "\tAROUSAL-s05|Acc=0.65667|10-CV=0.57|STD=0.04036|Time spend=3.153475522994995\n",
      "\tVALENCE-s05|Acc=0.62833|10-CV=0.59733|STD=0.01272|Time spend=3.5519227981567383\n",
      "Fitted sphere radius:         95.3 mm\n",
      "Origin head coordinates:      -0.8 15.1 45.3 mm\n",
      "Origin device coordinates:    -0.8 15.1 45.3 mm\n",
      "========= close ========\n",
      "\tAROUSAL-s06|Acc=0.68667|10-CV=0.632|STD=0.01485|Time spend=3.516300678253174\n",
      "\tVALENCE-s06|Acc=0.75|10-CV=0.74867|STD=0.00306|Time spend=3.8546719551086426\n",
      "Fitted sphere radius:         95.3 mm\n",
      "Origin head coordinates:      -0.8 15.1 45.3 mm\n",
      "Origin device coordinates:    -0.8 15.1 45.3 mm\n",
      "========= close ========\n",
      "\tAROUSAL-s07|Acc=0.71833|10-CV=0.658|STD=0.01157|Time spend=3.1058623790740967\n",
      "\tVALENCE-s07|Acc=0.76667|10-CV=0.71133|STD=0.00792|Time spend=3.480760335922241\n",
      "Fitted sphere radius:         95.3 mm\n",
      "Origin head coordinates:      -0.8 15.1 45.3 mm\n",
      "Origin device coordinates:    -0.8 15.1 45.3 mm\n",
      "========= close ========\n",
      "\tAROUSAL-s08|Acc=0.66833|10-CV=0.596|STD=0.02533|Time spend=3.2386081218719482\n",
      "\tVALENCE-s08|Acc=0.685|10-CV=0.59133|STD=0.0349|Time spend=3.6194605827331543\n",
      "Fitted sphere radius:         95.3 mm\n",
      "Origin head coordinates:      -0.8 15.1 45.3 mm\n",
      "Origin device coordinates:    -0.8 15.1 45.3 mm\n",
      "========= close ========\n",
      "\tAROUSAL-s09|Acc=0.65167|10-CV=0.626|STD=0.02118|Time spend=3.181596517562866\n",
      "\tVALENCE-s09|Acc=0.70333|10-CV=0.67867|STD=0.0439|Time spend=3.55014705657959\n",
      "Fitted sphere radius:         95.3 mm\n",
      "Origin head coordinates:      -0.8 15.1 45.3 mm\n",
      "Origin device coordinates:    -0.8 15.1 45.3 mm\n",
      "========= close ========\n",
      "\tAROUSAL-s10|Acc=0.715|10-CV=0.61867|STD=0.02146|Time spend=3.119340658187866\n",
      "\tVALENCE-s10|Acc=0.79|10-CV=0.75067|STD=0.02703|Time spend=3.477210760116577\n",
      "Fitted sphere radius:         95.3 mm\n",
      "Origin head coordinates:      -0.8 15.1 45.3 mm\n",
      "Origin device coordinates:    -0.8 15.1 45.3 mm\n",
      "========= close ========\n",
      "\tAROUSAL-s11|Acc=0.66833|10-CV=0.66267|STD=0.02195|Time spend=3.069098949432373\n",
      "\tVALENCE-s11|Acc=0.66833|10-CV=0.65067|STD=0.02026|Time spend=3.4090185165405273\n",
      "Fitted sphere radius:         95.3 mm\n",
      "Origin head coordinates:      -0.8 15.1 45.3 mm\n",
      "Origin device coordinates:    -0.8 15.1 45.3 mm\n",
      "========= close ========\n",
      "\tAROUSAL-s12|Acc=0.825|10-CV=0.82667|STD=0.0|Time spend=3.1630825996398926\n",
      "\tVALENCE-s12|Acc=0.68333|10-CV=0.62133|STD=0.03222|Time spend=3.582045316696167\n",
      "Fitted sphere radius:         95.3 mm\n",
      "Origin head coordinates:      -0.8 15.1 45.3 mm\n",
      "Origin device coordinates:    -0.8 15.1 45.3 mm\n",
      "========= close ========\n",
      "\tAROUSAL-s13|Acc=0.85|10-CV=0.85|STD=0.00333|Time spend=3.1023013591766357\n",
      "\tVALENCE-s13|Acc=0.69333|10-CV=0.67933|STD=0.01988|Time spend=3.501293659210205\n",
      "Fitted sphere radius:         95.3 mm\n",
      "Origin head coordinates:      -0.8 15.1 45.3 mm\n",
      "Origin device coordinates:    -0.8 15.1 45.3 mm\n",
      "========= close ========\n",
      "\tAROUSAL-s14|Acc=0.675|10-CV=0.67267|STD=0.002|Time spend=3.07064151763916\n",
      "\tVALENCE-s14|Acc=0.70333|10-CV=0.63067|STD=0.03991|Time spend=3.4681074619293213\n",
      "Fitted sphere radius:         95.3 mm\n",
      "Origin head coordinates:      -0.8 15.1 45.3 mm\n",
      "Origin device coordinates:    -0.8 15.1 45.3 mm\n",
      "========= close ========\n",
      "\tAROUSAL-s15|Acc=0.775|10-CV=0.66533|STD=0.03851|Time spend=3.846944808959961\n",
      "\tVALENCE-s15|Acc=0.825|10-CV=0.77133|STD=0.02151|Time spend=4.188392400741577\n",
      "Fitted sphere radius:         95.3 mm\n",
      "Origin head coordinates:      -0.8 15.1 45.3 mm\n",
      "Origin device coordinates:    -0.8 15.1 45.3 mm\n",
      "========= close ========\n",
      "\tAROUSAL-s16|Acc=0.70167|10-CV=0.63733|STD=0.03241|Time spend=3.455634117126465\n",
      "\tVALENCE-s16|Acc=0.72167|10-CV=0.69133|STD=0.02922|Time spend=3.8228886127471924\n",
      "Fitted sphere radius:         95.3 mm\n",
      "Origin head coordinates:      -0.8 15.1 45.3 mm\n",
      "Origin device coordinates:    -0.8 15.1 45.3 mm\n",
      "========= close ========\n",
      "\tAROUSAL-s17|Acc=0.68667|10-CV=0.67533|STD=0.02367|Time spend=3.173614501953125\n",
      "\tVALENCE-s17|Acc=0.60333|10-CV=0.56|STD=0.01193|Time spend=3.572566509246826\n",
      "Fitted sphere radius:         95.3 mm\n",
      "Origin head coordinates:      -0.8 15.1 45.3 mm\n",
      "Origin device coordinates:    -0.8 15.1 45.3 mm\n",
      "========= close ========\n",
      "\tAROUSAL-s18|Acc=0.68167|10-CV=0.634|STD=0.01381|Time spend=3.125814437866211\n",
      "\tVALENCE-s18|Acc=0.78333|10-CV=0.73733|STD=0.02703|Time spend=3.4852142333984375\n",
      "Fitted sphere radius:         95.3 mm\n",
      "Origin head coordinates:      -0.8 15.1 45.3 mm\n",
      "Origin device coordinates:    -0.8 15.1 45.3 mm\n",
      "========= close ========\n",
      "\tAROUSAL-s19|Acc=0.72667|10-CV=0.68533|STD=0.0136|Time spend=3.109636068344116\n",
      "\tVALENCE-s19|Acc=0.69|10-CV=0.64267|STD=0.02332|Time spend=3.4934682846069336\n",
      "Fitted sphere radius:         95.3 mm\n",
      "Origin head coordinates:      -0.8 15.1 45.3 mm\n",
      "Origin device coordinates:    -0.8 15.1 45.3 mm\n",
      "========= close ========\n",
      "\tAROUSAL-s20|Acc=0.775|10-CV=0.77333|STD=0.0|Time spend=3.092804193496704\n",
      "\tVALENCE-s20|Acc=0.76|10-CV=0.656|STD=0.02703|Time spend=3.470566987991333\n",
      "Fitted sphere radius:         95.3 mm\n",
      "Origin head coordinates:      -0.8 15.1 45.3 mm\n",
      "Origin device coordinates:    -0.8 15.1 45.3 mm\n",
      "========= close ========\n",
      "\tAROUSAL-s21|Acc=0.8|10-CV=0.8|STD=0.0|Time spend=3.110673666000366\n",
      "\tVALENCE-s21|Acc=0.60333|10-CV=0.53533|STD=0.02684|Time spend=3.5354812145233154\n",
      "Fitted sphere radius:         95.3 mm\n",
      "Origin head coordinates:      -0.8 15.1 45.3 mm\n",
      "Origin device coordinates:    -0.8 15.1 45.3 mm\n",
      "========= close ========\n",
      "\tAROUSAL-s22|Acc=0.61167|10-CV=0.6|STD=0.02211|Time spend=3.1325273513793945\n",
      "\tVALENCE-s22|Acc=0.64|10-CV=0.60533|STD=0.02104|Time spend=3.5210611820220947\n",
      "Fitted sphere radius:         95.3 mm\n",
      "Origin head coordinates:      -0.8 15.1 45.3 mm\n",
      "Origin device coordinates:    -0.8 15.1 45.3 mm\n",
      "========= close ========\n",
      "\tAROUSAL-s23|Acc=0.75|10-CV=0.75|STD=0.00333|Time spend=3.196913003921509\n",
      "\tVALENCE-s23|Acc=0.75|10-CV=0.66667|STD=0.01578|Time spend=3.5617051124572754\n",
      "Fitted sphere radius:         95.3 mm\n",
      "Origin head coordinates:      -0.8 15.1 45.3 mm\n",
      "Origin device coordinates:    -0.8 15.1 45.3 mm\n",
      "========= close ========\n",
      "\tAROUSAL-s24|Acc=0.825|10-CV=0.82667|STD=0.0|Time spend=3.056060552597046\n",
      "\tVALENCE-s24|Acc=0.62833|10-CV=0.57133|STD=0.02922|Time spend=3.4667019844055176\n",
      "Fitted sphere radius:         95.3 mm\n",
      "Origin head coordinates:      -0.8 15.1 45.3 mm\n",
      "Origin device coordinates:    -0.8 15.1 45.3 mm\n",
      "========= close ========\n",
      "\tAROUSAL-s25|Acc=0.725|10-CV=0.72667|STD=0.0|Time spend=3.028388500213623\n",
      "\tVALENCE-s25|Acc=0.61167|10-CV=0.52733|STD=0.02394|Time spend=3.4511280059814453\n",
      "Fitted sphere radius:         95.3 mm\n",
      "Origin head coordinates:      -0.8 15.1 45.3 mm\n",
      "Origin device coordinates:    -0.8 15.1 45.3 mm\n",
      "========= close ========\n",
      "\tAROUSAL-s26|Acc=0.68167|10-CV=0.624|STD=0.0189|Time spend=3.1560707092285156\n",
      "\tVALENCE-s26|Acc=0.655|10-CV=0.64867|STD=0.00521|Time spend=3.5296196937561035\n",
      "Fitted sphere radius:         95.3 mm\n",
      "Origin head coordinates:      -0.8 15.1 45.3 mm\n",
      "Origin device coordinates:    -0.8 15.1 45.3 mm\n",
      "========= close ========\n",
      "\tAROUSAL-s27|Acc=0.76333|10-CV=0.716|STD=0.0189|Time spend=3.138895034790039\n",
      "\tVALENCE-s27|Acc=0.80167|10-CV=0.76867|STD=0.01194|Time spend=3.475719928741455\n",
      "Fitted sphere radius:         95.3 mm\n",
      "Origin head coordinates:      -0.8 15.1 45.3 mm\n",
      "Origin device coordinates:    -0.8 15.1 45.3 mm\n",
      "========= close ========\n",
      "\tAROUSAL-s28|Acc=0.58667|10-CV=0.56133|STD=0.02596|Time spend=3.1664271354675293\n",
      "\tVALENCE-s28|Acc=0.63833|10-CV=0.62333|STD=0.00537|Time spend=3.541952610015869\n",
      "Fitted sphere radius:         95.3 mm\n",
      "Origin head coordinates:      -0.8 15.1 45.3 mm\n",
      "Origin device coordinates:    -0.8 15.1 45.3 mm\n",
      "========= close ========\n",
      "\tAROUSAL-s29|Acc=0.7|10-CV=0.662|STD=0.0231|Time spend=3.0664823055267334\n",
      "\tVALENCE-s29|Acc=0.71333|10-CV=0.64467|STD=0.02441|Time spend=3.458545207977295\n",
      "Fitted sphere radius:         95.3 mm\n",
      "Origin head coordinates:      -0.8 15.1 45.3 mm\n",
      "Origin device coordinates:    -0.8 15.1 45.3 mm\n",
      "========= close ========\n",
      "\tAROUSAL-s30|Acc=0.665|10-CV=0.57133|STD=0.026|Time spend=3.245778799057007\n",
      "\tVALENCE-s30|Acc=0.675|10-CV=0.67333|STD=0.0|Time spend=3.6219563484191895\n",
      "Fitted sphere radius:         95.3 mm\n",
      "Origin head coordinates:      -0.8 15.1 45.3 mm\n",
      "Origin device coordinates:    -0.8 15.1 45.3 mm\n",
      "========= close ========\n",
      "\tAROUSAL-s31|Acc=0.76|10-CV=0.63933|STD=0.02988|Time spend=3.1256115436553955\n",
      "\tVALENCE-s31|Acc=0.73667|10-CV=0.62133|STD=0.02696|Time spend=3.5429937839508057\n",
      "Fitted sphere radius:         95.3 mm\n",
      "Origin head coordinates:      -0.8 15.1 45.3 mm\n",
      "Origin device coordinates:    -0.8 15.1 45.3 mm\n",
      "========= close ========\n",
      "\tAROUSAL-s32|Acc=0.69|10-CV=0.67533|STD=0.00521|Time spend=3.7072064876556396\n",
      "\tVALENCE-s32|Acc=0.65167|10-CV=0.64333|STD=0.02848|Time spend=4.070055723190308\n",
      "AROUSAL|Acc=0.7151562499999999|10-CV=0.6758541666666666|STD=0.01589604127958646\n",
      "VALENCE|Acc=0.6936458333333335|10-CV=0.6419166666666667|STD=0.021541458056533676\n"
     ]
    }
   ],
   "source": [
    "accs, cv_means, cv_stds = [],[],[]\n",
    "accs_v, cv_means_v, cv_stds_v = [],[],[]\n",
    "reports = []\n",
    "for filename in (pbar := tqdm(dataset.get_file_list())):\n",
    "    start = time.time()\n",
    "    pbar.set_description(filename)\n",
    "    data, labels, groups = dataset.get_data(filename, stimuli=Dataset_subjectDependent.STIMULI_AROUSAL, return_type='mne', sfreq=128)\n",
    "    \n",
    "    data_csd = mne.preprocessing.compute_current_source_density(data)\n",
    "    magnitude, freq_range = calculate_fft(data_csd.get_data(), 128)\n",
    "    pcc = calculate_pcc(magnitude)\n",
    "    _,acc,cross,train_report = train_model(pcc, labels.squeeze(), groups, filename=filename, return_text=True)\n",
    "    report = f\"\\tAROUSAL-{filename}|Acc={round(acc,5)}|10-CV={round(cross.mean(),5)}|STD={round(cross.std(),5)}|Time spend={time.time() - start}\"\n",
    "    print(report)\n",
    "    reports.append(report)\n",
    "    reports.append(train_report)\n",
    "    accs.append(acc)\n",
    "    cv_means.append(cross.mean())\n",
    "    cv_stds.append(cross.std())\n",
    "\n",
    "    _, labels_v, groups_v = dataset.get_data(filename, stimuli=Dataset_subjectDependent.STIMULI_VALENCE, return_type='mne', sfreq=128)\n",
    "    _,acc,cross,train_report = train_model(pcc, labels_v.squeeze(), groups_v, filename=filename, return_text=True)\n",
    "    report = f\"\\tVALENCE-{filename}|Acc={round(acc,5)}|10-CV={round(cross.mean(),5)}|STD={round(cross.std(),5)}|Time spend={time.time() - start}\"\n",
    "    print(report)\n",
    "    reports.append(report)\n",
    "    reports.append(train_report)\n",
    "    accs_v.append(acc)\n",
    "    cv_means_v.append(cross.mean())\n",
    "    cv_stds_v.append(cross.std())\n",
    "    # break\n",
    "    # count+=1\n",
    "    # if(count == 5): break\n",
    "report = f\"AROUSAL|Acc={sum(accs)/len(accs)}|10-CV={sum(cv_means)/len(cv_means)}|STD={sum(cv_stds)/len(cv_stds)}\"\n",
    "print(report)\n",
    "reports.append(report)\n",
    "report = f\"VALENCE|Acc={sum(accs_v)/len(accs_v)}|10-CV={sum(cv_means_v)/len(cv_means_v)}|STD={sum(cv_stds_v)/len(cv_stds_v)}\"\n",
    "print(report)\n",
    "reports.append(report)"
   ]
  },
  {
   "cell_type": "code",
   "execution_count": 12,
   "metadata": {},
   "outputs": [
    {
     "name": "stdout",
     "output_type": "stream",
     "text": [
      "\tAROUSAL-s01|Acc=0.79|10-CV=0.65933|STD=0.0224|Time spend=3.134016275405884\n",
      "\tVALENCE-s01|Acc=0.77333|10-CV=0.57133|STD=0.04715|Time spend=3.5149497985839844\n",
      "\tAROUSAL-s02|Acc=0.64167|10-CV=0.624|STD=0.01818|Time spend=3.3635218143463135\n",
      "\tVALENCE-s02|Acc=0.62|10-CV=0.58067|STD=0.01724|Time spend=3.799100399017334\n",
      "\tAROUSAL-s03|Acc=0.8|10-CV=0.8|STD=0.0|Time spend=3.0158700942993164\n",
      "-----WARNING: Model s03 failed to learn: sum(ans)=0.0 sum(y)=120.0 len(y)=600\n",
      "\tVALENCE-s03|Acc=0.63333|10-CV=0.55333|STD=0.01366|Time spend=3.419499397277832\n",
      "\tAROUSAL-s04|Acc=0.63333|10-CV=0.608|STD=0.01067|Time spend=3.0231428146362305\n",
      "\tVALENCE-s04|Acc=0.61|10-CV=0.588|STD=0.01024|Time spend=3.397219181060791\n",
      "\tAROUSAL-s05|Acc=0.65667|10-CV=0.57|STD=0.04036|Time spend=3.153475522994995\n",
      "\tVALENCE-s05|Acc=0.62833|10-CV=0.59733|STD=0.01272|Time spend=3.5519227981567383\n",
      "\tAROUSAL-s06|Acc=0.68667|10-CV=0.632|STD=0.01485|Time spend=3.516300678253174\n",
      "\tVALENCE-s06|Acc=0.75|10-CV=0.74867|STD=0.00306|Time spend=3.8546719551086426\n",
      "-----WARNING: Model s06 failed to learn: sum(ans)=600.0 sum(y)=450.0 len(y)=600\n",
      "\tAROUSAL-s07|Acc=0.71833|10-CV=0.658|STD=0.01157|Time spend=3.1058623790740967\n",
      "\tVALENCE-s07|Acc=0.76667|10-CV=0.71133|STD=0.00792|Time spend=3.480760335922241\n",
      "\tAROUSAL-s08|Acc=0.66833|10-CV=0.596|STD=0.02533|Time spend=3.2386081218719482\n",
      "\tVALENCE-s08|Acc=0.685|10-CV=0.59133|STD=0.0349|Time spend=3.6194605827331543\n",
      "\tAROUSAL-s09|Acc=0.65167|10-CV=0.626|STD=0.02118|Time spend=3.181596517562866\n",
      "\tVALENCE-s09|Acc=0.70333|10-CV=0.67867|STD=0.0439|Time spend=3.55014705657959\n",
      "\tAROUSAL-s10|Acc=0.715|10-CV=0.61867|STD=0.02146|Time spend=3.119340658187866\n",
      "\tVALENCE-s10|Acc=0.79|10-CV=0.75067|STD=0.02703|Time spend=3.477210760116577\n",
      "\tAROUSAL-s11|Acc=0.66833|10-CV=0.66267|STD=0.02195|Time spend=3.069098949432373\n",
      "\tVALENCE-s11|Acc=0.66833|10-CV=0.65067|STD=0.02026|Time spend=3.4090185165405273\n",
      "\tAROUSAL-s12|Acc=0.825|10-CV=0.82667|STD=0.0|Time spend=3.1630825996398926\n",
      "-----WARNING: Model s12 failed to learn: sum(ans)=600.0 sum(y)=495.0 len(y)=600\n",
      "\tVALENCE-s12|Acc=0.68333|10-CV=0.62133|STD=0.03222|Time spend=3.582045316696167\n",
      "\tAROUSAL-s13|Acc=0.85|10-CV=0.85|STD=0.00333|Time spend=3.1023013591766357\n",
      "-----WARNING: Model s13 failed to learn: sum(ans)=600.0 sum(y)=510.0 len(y)=600\n",
      "\tVALENCE-s13|Acc=0.69333|10-CV=0.67933|STD=0.01988|Time spend=3.501293659210205\n",
      "\tAROUSAL-s14|Acc=0.675|10-CV=0.67267|STD=0.002|Time spend=3.07064151763916\n",
      "-----WARNING: Model s14 failed to learn: sum(ans)=600.0 sum(y)=405.0 len(y)=600\n",
      "\tVALENCE-s14|Acc=0.70333|10-CV=0.63067|STD=0.03991|Time spend=3.4681074619293213\n",
      "\tAROUSAL-s15|Acc=0.775|10-CV=0.66533|STD=0.03851|Time spend=3.846944808959961\n",
      "\tVALENCE-s15|Acc=0.825|10-CV=0.77133|STD=0.02151|Time spend=4.188392400741577\n",
      "\tAROUSAL-s16|Acc=0.70167|10-CV=0.63733|STD=0.03241|Time spend=3.455634117126465\n",
      "\tVALENCE-s16|Acc=0.72167|10-CV=0.69133|STD=0.02922|Time spend=3.8228886127471924\n",
      "\tAROUSAL-s17|Acc=0.68667|10-CV=0.67533|STD=0.02367|Time spend=3.173614501953125\n",
      "\tVALENCE-s17|Acc=0.60333|10-CV=0.56|STD=0.01193|Time spend=3.572566509246826\n",
      "\tAROUSAL-s18|Acc=0.68167|10-CV=0.634|STD=0.01381|Time spend=3.125814437866211\n",
      "\tVALENCE-s18|Acc=0.78333|10-CV=0.73733|STD=0.02703|Time spend=3.4852142333984375\n",
      "\tAROUSAL-s19|Acc=0.72667|10-CV=0.68533|STD=0.0136|Time spend=3.109636068344116\n",
      "\tVALENCE-s19|Acc=0.69|10-CV=0.64267|STD=0.02332|Time spend=3.4934682846069336\n",
      "\tAROUSAL-s20|Acc=0.775|10-CV=0.77333|STD=0.0|Time spend=3.092804193496704\n",
      "-----WARNING: Model s20 failed to learn: sum(ans)=600.0 sum(y)=465.0 len(y)=600\n",
      "\tVALENCE-s20|Acc=0.76|10-CV=0.656|STD=0.02703|Time spend=3.470566987991333\n",
      "\tAROUSAL-s21|Acc=0.8|10-CV=0.8|STD=0.0|Time spend=3.110673666000366\n",
      "-----WARNING: Model s21 failed to learn: sum(ans)=600.0 sum(y)=480.0 len(y)=600\n",
      "\tVALENCE-s21|Acc=0.60333|10-CV=0.53533|STD=0.02684|Time spend=3.5354812145233154\n",
      "\tAROUSAL-s22|Acc=0.61167|10-CV=0.6|STD=0.02211|Time spend=3.1325273513793945\n",
      "\tVALENCE-s22|Acc=0.64|10-CV=0.60533|STD=0.02104|Time spend=3.5210611820220947\n",
      "\tAROUSAL-s23|Acc=0.75|10-CV=0.75|STD=0.00333|Time spend=3.196913003921509\n",
      "-----WARNING: Model s23 failed to learn: sum(ans)=0.0 sum(y)=150.0 len(y)=600\n",
      "\tVALENCE-s23|Acc=0.75|10-CV=0.66667|STD=0.01578|Time spend=3.5617051124572754\n",
      "\tAROUSAL-s24|Acc=0.825|10-CV=0.82667|STD=0.0|Time spend=3.056060552597046\n",
      "-----WARNING: Model s24 failed to learn: sum(ans)=600.0 sum(y)=495.0 len(y)=600\n",
      "\tVALENCE-s24|Acc=0.62833|10-CV=0.57133|STD=0.02922|Time spend=3.4667019844055176\n",
      "\tAROUSAL-s25|Acc=0.725|10-CV=0.72667|STD=0.0|Time spend=3.028388500213623\n",
      "-----WARNING: Model s25 failed to learn: sum(ans)=600.0 sum(y)=435.0 len(y)=600\n",
      "\tVALENCE-s25|Acc=0.61167|10-CV=0.52733|STD=0.02394|Time spend=3.4511280059814453\n",
      "\tAROUSAL-s26|Acc=0.68167|10-CV=0.624|STD=0.0189|Time spend=3.1560707092285156\n",
      "\tVALENCE-s26|Acc=0.655|10-CV=0.64867|STD=0.00521|Time spend=3.5296196937561035\n",
      "\tAROUSAL-s27|Acc=0.76333|10-CV=0.716|STD=0.0189|Time spend=3.138895034790039\n",
      "\tVALENCE-s27|Acc=0.80167|10-CV=0.76867|STD=0.01194|Time spend=3.475719928741455\n",
      "\tAROUSAL-s28|Acc=0.58667|10-CV=0.56133|STD=0.02596|Time spend=3.1664271354675293\n",
      "\tVALENCE-s28|Acc=0.63833|10-CV=0.62333|STD=0.00537|Time spend=3.541952610015869\n",
      "\tAROUSAL-s29|Acc=0.7|10-CV=0.662|STD=0.0231|Time spend=3.0664823055267334\n",
      "\tVALENCE-s29|Acc=0.71333|10-CV=0.64467|STD=0.02441|Time spend=3.458545207977295\n",
      "\tAROUSAL-s30|Acc=0.665|10-CV=0.57133|STD=0.026|Time spend=3.245778799057007\n",
      "\tVALENCE-s30|Acc=0.675|10-CV=0.67333|STD=0.0|Time spend=3.6219563484191895\n",
      "-----WARNING: Model s30 failed to learn: sum(ans)=600.0 sum(y)=405.0 len(y)=600\n",
      "\tAROUSAL-s31|Acc=0.76|10-CV=0.63933|STD=0.02988|Time spend=3.1256115436553955\n",
      "\tVALENCE-s31|Acc=0.73667|10-CV=0.62133|STD=0.02696|Time spend=3.5429937839508057\n",
      "\tAROUSAL-s32|Acc=0.69|10-CV=0.67533|STD=0.00521|Time spend=3.7072064876556396\n",
      "\tVALENCE-s32|Acc=0.65167|10-CV=0.64333|STD=0.02848|Time spend=4.070055723190308\n",
      "AROUSAL|Acc=0.7151562499999999|10-CV=0.6758541666666666|STD=0.01589604127958646\n",
      "VALENCE|Acc=0.6936458333333335|10-CV=0.6419166666666667|STD=0.021541458056533676\n",
      "TOTAL|Acc=0.7044010416666663|10-CV=0.6588854166666666|STD=0.01871874966806008\n"
     ]
    }
   ],
   "source": [
    "for text in reports:\n",
    "    if(text == None): continue\n",
    "    print(text)\n",
    "\n",
    "accs.extend(accs_v)\n",
    "cv_means.extend(cv_means_v)\n",
    "cv_stds.extend(cv_stds_v)\n",
    "print(f\"TOTAL|Acc={sum(accs)/len(accs)}|10-CV={sum(cv_means)/len(cv_means)}|STD={sum(cv_stds)/len(cv_stds)}\")"
   ]
  },
  {
   "cell_type": "markdown",
   "metadata": {},
   "source": [
    "### 4.3 $ \\text{PLV}(j,k) = \\frac{1}{T} | \\Sigma^{T}_{t=1} e^{i(\\phi^{t}_{j} - \\phi^{t}_{k})}   | $"
   ]
  },
  {
   "cell_type": "code",
   "execution_count": 13,
   "metadata": {},
   "outputs": [],
   "source": [
    "# bands = [(0,4), (4,8), (8,12), (12,30), (30,64)]\n",
    "def calculate_stft(signals, sfreq):\n",
    "    from scipy import signal\n",
    "    f_range, t_range, Z = signal.stft(signals, sfreq, nperseg=sfreq//10, nfft=sfreq)\n",
    "    magnitude = np.abs(Z) \n",
    "    phase = np.angle(Z)\n",
    "    return magnitude, phase, f_range, t_range\n",
    "\n",
    "def PLV_stft(p_id, phase):\n",
    "    # (32, 65, 12) => (channels, freqs, times)\n",
    "    # print(f\"p_id:{p_id} - data to run {phase.shape}\")\n",
    "    print(phase.shape)\n",
    "    from itertools import combinations\n",
    "    plv = []\n",
    "    # count = 0\n",
    "    for index in range(phase.shape[0]):\n",
    "        plv_epoch = []\n",
    "        for comb in combinations(list(range(phase.shape[1])), 2):\n",
    "            # shape = (65,12)\n",
    "            phase_a, phase_b = phase[index, comb[0]], phase[index, comb[1]]\n",
    "            phase_diff = phase_a - phase_b\n",
    "            # sum along the time size\n",
    "            plv_ab = np.abs(np.average(np.exp(complex(0,1) * phase_diff), axis=1))\n",
    "            plv_epoch.append(plv_ab)\n",
    "        plv_epoch = np.vstack(plv_epoch)\n",
    "        # print(plv_epoch.shape) => (300, 32, 65, 23)\n",
    "        plv_epoch_5 = np.concatenate([ plv_epoch[:,0:4].mean(axis=1).reshape(-1,1),\n",
    "                                        plv_epoch[:,4:8].mean(axis=1).reshape(-1,1),\n",
    "                                        plv_epoch[:,8:12].mean(axis=1).reshape(-1,1),\n",
    "                                        plv_epoch[:,12:30].mean(axis=1).reshape(-1,1),\n",
    "                                        plv_epoch[:,30:65].mean(axis=1).reshape(-1,1)], axis=0)\n",
    "        plv.append(np.expand_dims(plv_epoch_5, axis=0))\n",
    "        # count += 1\n",
    "        # if(count == 3): break\n",
    "    # shape (496, 65)\n",
    "    # 496 is number of pairs that is not duplicate\n",
    "    # 65 is number of phase of frequencies\n",
    "    plv = np.vstack( plv )\n",
    "    return plv.squeeze()\n",
    "\n",
    "def calculate_plv(data, n_jobs=8):\n",
    "    \"\"\" \n",
    "    Input: Expect data to have (n_epochs, n_channels, n_samples)\n",
    "    Output: (n_epochs, n_conn, n_freqs ) => n_conn = n_channels!/(2!(n_channels-2)!)\n",
    "    \"\"\"\n",
    "    from multiprocessing import Pool\n",
    "\n",
    "    try:\n",
    "        t_out = 60000\n",
    "        pool = Pool()\n",
    "        p_list = []\n",
    "        ans_list = []\n",
    "        num_p = n_jobs\n",
    "        indices = np.array_split(np.arange(data.shape[0]), num_p)\n",
    "        _, phase, _, _ = calculate_stft(data, 128)\n",
    "        for p_id in range(num_p):\n",
    "            p_list.append(pool.apply_async(PLV_stft, [p_id, phase[indices[p_id]] ]))\n",
    "        for p_id in range(num_p):\n",
    "            ans_list.append( p_list[p_id].get(timeout=t_out) )\n",
    "        # ans_list\n",
    "    finally:\n",
    "        print(\"========= close ========\")\n",
    "        pool.close() \n",
    "        pool.terminate()\n",
    "    return np.vstack(ans_list)\n"
   ]
  },
  {
   "cell_type": "code",
   "execution_count": 14,
   "metadata": {},
   "outputs": [
    {
     "data": {
      "application/vnd.jupyter.widget-view+json": {
       "model_id": "b1b4a7c365ae4f789d195db37b894a33",
       "version_major": 2,
       "version_minor": 0
      },
      "text/plain": [
       "  0%|          | 0/32 [00:00<?, ?it/s]"
      ]
     },
     "metadata": {},
     "output_type": "display_data"
    },
    {
     "name": "stdout",
     "output_type": "stream",
     "text": [
      "Fitted sphere radius:         95.3 mm\n",
      "Origin head coordinates:      -0.8 15.1 45.3 mm\n",
      "Origin device coordinates:    -0.8 15.1 45.3 mm\n",
      "(75, 32, 65, 87)\n",
      "(75, 32, 65, 87)\n",
      "(75, 32, 65, 87)\n",
      "(75, 32, 65, 87)\n",
      "(75, 32, 65, 87)\n",
      "(75, 32, 65, 87)\n",
      "(75, 32, 65, 87)\n",
      "(75, 32, 65, 87)\n",
      "========= close ========\n",
      "\tAROUSAL-s01|Acc=0.83333|10-CV=0.7|STD=0.02667|Time spend=24.242062091827393\n",
      "\tVALENCE-s01|Acc=0.83167|10-CV=0.62867|STD=0.03784|Time spend=26.571908473968506\n",
      "Fitted sphere radius:         95.3 mm\n",
      "Origin head coordinates:      -0.8 15.1 45.3 mm\n",
      "Origin device coordinates:    -0.8 15.1 45.3 mm\n",
      "(75, 32, 65, 87)\n",
      "(75, 32, 65, 87)\n",
      "(75, 32, 65, 87)\n",
      "(75, 32, 65, 87)\n",
      "(75, 32, 65, 87)\n",
      "(75, 32, 65, 87)\n",
      "(75, 32, 65, 87)\n",
      "(75, 32, 65, 87)\n",
      "========= close ========\n",
      "\tAROUSAL-s02|Acc=0.70333|10-CV=0.66067|STD=0.0243|Time spend=21.312659978866577\n",
      "\tVALENCE-s02|Acc=0.74833|10-CV=0.72667|STD=0.03026|Time spend=23.049426794052124\n",
      "Fitted sphere radius:         95.3 mm\n",
      "Origin head coordinates:      -0.8 15.1 45.3 mm\n",
      "Origin device coordinates:    -0.8 15.1 45.3 mm\n",
      "(75, 32, 65, 87)\n",
      "(75, 32, 65, 87)\n",
      "(75, 32, 65, 87)\n",
      "(75, 32, 65, 87)\n",
      "(75, 32, 65, 87)\n",
      "(75, 32, 65, 87)\n",
      "(75, 32, 65, 87)\n",
      "(75, 32, 65, 87)\n",
      "========= close ========\n",
      "\tAROUSAL-s03|Acc=0.8|10-CV=0.8|STD=0.0|Time spend=22.500916242599487\n",
      "\tVALENCE-s03|Acc=0.74667|10-CV=0.694|STD=0.0222|Time spend=24.647884130477905\n",
      "Fitted sphere radius:         95.3 mm\n",
      "Origin head coordinates:      -0.8 15.1 45.3 mm\n",
      "Origin device coordinates:    -0.8 15.1 45.3 mm\n",
      "(75, 32, 65, 87)\n",
      "(75, 32, 65, 87)\n",
      "(75, 32, 65, 87)\n",
      "(75, 32, 65, 87)\n",
      "(75, 32, 65, 87)\n",
      "(75, 32, 65, 87)\n",
      "(75, 32, 65, 87)\n",
      "(75, 32, 65, 87)\n",
      "========= close ========\n",
      "\tAROUSAL-s04|Acc=0.735|10-CV=0.68067|STD=0.01965|Time spend=21.71100115776062\n",
      "\tVALENCE-s04|Acc=0.74167|10-CV=0.69133|STD=0.03156|Time spend=23.48189401626587\n",
      "Fitted sphere radius:         95.3 mm\n",
      "Origin head coordinates:      -0.8 15.1 45.3 mm\n",
      "Origin device coordinates:    -0.8 15.1 45.3 mm\n",
      "(75, 32, 65, 87)\n",
      "(75, 32, 65, 87)\n",
      "(75, 32, 65, 87)\n",
      "(75, 32, 65, 87)\n",
      "(75, 32, 65, 87)\n",
      "(75, 32, 65, 87)\n",
      "(75, 32, 65, 87)\n",
      "(75, 32, 65, 87)\n",
      "========= close ========\n",
      "\tAROUSAL-s05|Acc=0.70167|10-CV=0.618|STD=0.03591|Time spend=20.39947509765625\n",
      "\tVALENCE-s05|Acc=0.675|10-CV=0.61733|STD=0.01555|Time spend=22.60740637779236\n",
      "Fitted sphere radius:         95.3 mm\n",
      "Origin head coordinates:      -0.8 15.1 45.3 mm\n",
      "Origin device coordinates:    -0.8 15.1 45.3 mm\n",
      "(75, 32, 65, 87)\n",
      "(75, 32, 65, 87)\n",
      "(75, 32, 65, 87)\n",
      "(75, 32, 65, 87)\n",
      "(75, 32, 65, 87)\n",
      "(75, 32, 65, 87)\n",
      "(75, 32, 65, 87)\n",
      "(75, 32, 65, 87)\n",
      "========= close ========\n",
      "\tAROUSAL-s06|Acc=0.635|10-CV=0.61133|STD=0.02566|Time spend=20.523341417312622\n",
      "\tVALENCE-s06|Acc=0.75|10-CV=0.74867|STD=0.00306|Time spend=22.399199962615967\n",
      "Fitted sphere radius:         95.3 mm\n",
      "Origin head coordinates:      -0.8 15.1 45.3 mm\n",
      "Origin device coordinates:    -0.8 15.1 45.3 mm\n",
      "(75, 32, 65, 87)\n",
      "(75, 32, 65, 87)\n",
      "(75, 32, 65, 87)\n",
      "(75, 32, 65, 87)\n",
      "(75, 32, 65, 87)\n",
      "(75, 32, 65, 87)\n",
      "(75, 32, 65, 87)\n",
      "(75, 32, 65, 87)\n",
      "========= close ========\n",
      "\tAROUSAL-s07|Acc=0.73667|10-CV=0.67|STD=0.02134|Time spend=23.49220323562622\n",
      "\tVALENCE-s07|Acc=0.79667|10-CV=0.74133|STD=0.01928|Time spend=25.38779354095459\n",
      "Fitted sphere radius:         95.3 mm\n",
      "Origin head coordinates:      -0.8 15.1 45.3 mm\n",
      "Origin device coordinates:    -0.8 15.1 45.3 mm\n",
      "(75, 32, 65, 87)\n",
      "(75, 32, 65, 87)\n",
      "(75, 32, 65, 87)\n",
      "(75, 32, 65, 87)\n",
      "(75, 32, 65, 87)\n",
      "(75, 32, 65, 87)\n",
      "(75, 32, 65, 87)\n",
      "(75, 32, 65, 87)\n",
      "========= close ========\n",
      "\tAROUSAL-s08|Acc=0.78|10-CV=0.654|STD=0.03669|Time spend=21.38087511062622\n",
      "\tVALENCE-s08|Acc=0.82167|10-CV=0.62933|STD=0.02533|Time spend=23.55602264404297\n",
      "Fitted sphere radius:         95.3 mm\n",
      "Origin head coordinates:      -0.8 15.1 45.3 mm\n",
      "Origin device coordinates:    -0.8 15.1 45.3 mm\n",
      "(75, 32, 65, 87)\n",
      "(75, 32, 65, 87)\n",
      "(75, 32, 65, 87)\n",
      "(75, 32, 65, 87)\n",
      "(75, 32, 65, 87)\n",
      "(75, 32, 65, 87)\n",
      "(75, 32, 65, 87)\n",
      "(75, 32, 65, 87)\n",
      "========= close ========\n",
      "\tAROUSAL-s09|Acc=0.75167|10-CV=0.68267|STD=0.02133|Time spend=21.50627589225769\n",
      "\tVALENCE-s09|Acc=0.78167|10-CV=0.766|STD=0.04082|Time spend=23.26595973968506\n",
      "Fitted sphere radius:         95.3 mm\n",
      "Origin head coordinates:      -0.8 15.1 45.3 mm\n",
      "Origin device coordinates:    -0.8 15.1 45.3 mm\n",
      "(75, 32, 65, 87)\n",
      "(75, 32, 65, 87)\n",
      "(75, 32, 65, 87)\n",
      "(75, 32, 65, 87)\n",
      "(75, 32, 65, 87)\n",
      "(75, 32, 65, 87)\n",
      "(75, 32, 65, 87)\n",
      "(75, 32, 65, 87)\n",
      "========= close ========\n",
      "\tAROUSAL-s10|Acc=0.765|10-CV=0.70067|STD=0.04027|Time spend=22.775102853775024\n",
      "\tVALENCE-s10|Acc=0.85|10-CV=0.79733|STD=0.02444|Time spend=24.407439708709717\n",
      "Fitted sphere radius:         95.3 mm\n",
      "Origin head coordinates:      -0.8 15.1 45.3 mm\n",
      "Origin device coordinates:    -0.8 15.1 45.3 mm\n",
      "(75, 32, 65, 87)\n",
      "(75, 32, 65, 87)\n",
      "(75, 32, 65, 87)\n",
      "(75, 32, 65, 87)\n",
      "(75, 32, 65, 87)\n",
      "(75, 32, 65, 87)\n",
      "(75, 32, 65, 87)\n",
      "(75, 32, 65, 87)\n",
      "========= close ========\n",
      "\tAROUSAL-s11|Acc=0.67667|10-CV=0.64467|STD=0.01551|Time spend=22.527122497558594\n",
      "\tVALENCE-s11|Acc=0.70333|10-CV=0.67533|STD=0.02405|Time spend=24.64858865737915\n",
      "Fitted sphere radius:         95.3 mm\n",
      "Origin head coordinates:      -0.8 15.1 45.3 mm\n",
      "Origin device coordinates:    -0.8 15.1 45.3 mm\n",
      "(75, 32, 65, 87)\n",
      "(75, 32, 65, 87)\n",
      "(75, 32, 65, 87)\n",
      "(75, 32, 65, 87)\n",
      "(75, 32, 65, 87)\n",
      "(75, 32, 65, 87)\n",
      "(75, 32, 65, 87)\n",
      "(75, 32, 65, 87)\n",
      "========= close ========\n",
      "\tAROUSAL-s12|Acc=0.825|10-CV=0.82667|STD=0.0|Time spend=20.69154953956604\n",
      "\tVALENCE-s12|Acc=0.72833|10-CV=0.656|STD=0.03454|Time spend=22.874385833740234\n",
      "Fitted sphere radius:         95.3 mm\n",
      "Origin head coordinates:      -0.8 15.1 45.3 mm\n",
      "Origin device coordinates:    -0.8 15.1 45.3 mm\n",
      "(75, 32, 65, 87)\n",
      "(75, 32, 65, 87)\n",
      "(75, 32, 65, 87)\n",
      "(75, 32, 65, 87)\n",
      "(75, 32, 65, 87)\n",
      "(75, 32, 65, 87)\n",
      "(75, 32, 65, 87)\n",
      "(75, 32, 65, 87)\n",
      "========= close ========\n",
      "\tAROUSAL-s13|Acc=0.85|10-CV=0.85|STD=0.00333|Time spend=21.39360737800598\n",
      "\tVALENCE-s13|Acc=0.78667|10-CV=0.77467|STD=0.02146|Time spend=23.12936758995056\n",
      "Fitted sphere radius:         95.3 mm\n",
      "Origin head coordinates:      -0.8 15.1 45.3 mm\n",
      "Origin device coordinates:    -0.8 15.1 45.3 mm\n",
      "(75, 32, 65, 87)\n",
      "(75, 32, 65, 87)\n",
      "(75, 32, 65, 87)\n",
      "(75, 32, 65, 87)\n",
      "(75, 32, 65, 87)\n",
      "(75, 32, 65, 87)\n",
      "(75, 32, 65, 87)\n",
      "(75, 32, 65, 87)\n",
      "========= close ========\n",
      "\tAROUSAL-s14|Acc=0.69833|10-CV=0.68|STD=0.0073|Time spend=20.922529220581055\n",
      "\tVALENCE-s14|Acc=0.78333|10-CV=0.73333|STD=0.02749|Time spend=22.907926321029663\n",
      "Fitted sphere radius:         95.3 mm\n",
      "Origin head coordinates:      -0.8 15.1 45.3 mm\n",
      "Origin device coordinates:    -0.8 15.1 45.3 mm\n",
      "(75, 32, 65, 87)\n",
      "(75, 32, 65, 87)\n",
      "(75, 32, 65, 87)\n",
      "(75, 32, 65, 87)\n",
      "(75, 32, 65, 87)\n",
      "(75, 32, 65, 87)\n",
      "(75, 32, 65, 87)\n",
      "(75, 32, 65, 87)\n",
      "========= close ========\n",
      "\tAROUSAL-s15|Acc=0.78|10-CV=0.69067|STD=0.02653|Time spend=24.030847311019897\n",
      "\tVALENCE-s15|Acc=0.87333|10-CV=0.83467|STD=0.02491|Time spend=25.66193962097168\n",
      "Fitted sphere radius:         95.3 mm\n",
      "Origin head coordinates:      -0.8 15.1 45.3 mm\n",
      "Origin device coordinates:    -0.8 15.1 45.3 mm\n",
      "(75, 32, 65, 87)\n",
      "(75, 32, 65, 87)\n",
      "(75, 32, 65, 87)\n",
      "(75, 32, 65, 87)\n",
      "(75, 32, 65, 87)\n",
      "(75, 32, 65, 87)\n",
      "(75, 32, 65, 87)\n",
      "(75, 32, 65, 87)\n",
      "========= close ========\n",
      "\tAROUSAL-s16|Acc=0.75333|10-CV=0.66133|STD=0.02963|Time spend=22.16606044769287\n",
      "\tVALENCE-s16|Acc=0.76|10-CV=0.73133|STD=0.02717|Time spend=24.126280546188354\n",
      "Fitted sphere radius:         95.3 mm\n",
      "Origin head coordinates:      -0.8 15.1 45.3 mm\n",
      "Origin device coordinates:    -0.8 15.1 45.3 mm\n",
      "(75, 32, 65, 87)\n",
      "(75, 32, 65, 87)\n",
      "(75, 32, 65, 87)\n",
      "(75, 32, 65, 87)\n",
      "(75, 32, 65, 87)\n",
      "(75, 32, 65, 87)\n",
      "(75, 32, 65, 87)\n",
      "(75, 32, 65, 87)\n",
      "========= close ========\n",
      "\tAROUSAL-s17|Acc=0.75333|10-CV=0.71933|STD=0.02279|Time spend=21.7671058177948\n",
      "\tVALENCE-s17|Acc=0.66833|10-CV=0.636|STD=0.03774|Time spend=23.96784806251526\n",
      "Fitted sphere radius:         95.3 mm\n",
      "Origin head coordinates:      -0.8 15.1 45.3 mm\n",
      "Origin device coordinates:    -0.8 15.1 45.3 mm\n",
      "(75, 32, 65, 87)\n",
      "(75, 32, 65, 87)\n",
      "(75, 32, 65, 87)\n",
      "(75, 32, 65, 87)\n",
      "(75, 32, 65, 87)\n",
      "(75, 32, 65, 87)\n",
      "(75, 32, 65, 87)\n",
      "(75, 32, 65, 87)\n",
      "========= close ========\n",
      "\tAROUSAL-s18|Acc=0.69|10-CV=0.62867|STD=0.0067|Time spend=21.32333779335022\n",
      "\tVALENCE-s18|Acc=0.81667|10-CV=0.77267|STD=0.03176|Time spend=22.925076007843018\n",
      "Fitted sphere radius:         95.3 mm\n",
      "Origin head coordinates:      -0.8 15.1 45.3 mm\n",
      "Origin device coordinates:    -0.8 15.1 45.3 mm\n",
      "(75, 32, 65, 87)\n",
      "(75, 32, 65, 87)\n",
      "(75, 32, 65, 87)\n",
      "(75, 32, 65, 87)\n",
      "(75, 32, 65, 87)\n",
      "(75, 32, 65, 87)\n",
      "(75, 32, 65, 87)\n",
      "(75, 32, 65, 87)\n",
      "========= close ========\n",
      "\tAROUSAL-s19|Acc=0.74833|10-CV=0.70267|STD=0.02048|Time spend=21.605870962142944\n",
      "\tVALENCE-s19|Acc=0.765|10-CV=0.68267|STD=0.02636|Time spend=23.83642840385437\n",
      "Fitted sphere radius:         95.3 mm\n",
      "Origin head coordinates:      -0.8 15.1 45.3 mm\n",
      "Origin device coordinates:    -0.8 15.1 45.3 mm\n",
      "(75, 32, 65, 87)\n",
      "(75, 32, 65, 87)\n",
      "(75, 32, 65, 87)\n",
      "(75, 32, 65, 87)\n",
      "(75, 32, 65, 87)\n",
      "(75, 32, 65, 87)\n",
      "(75, 32, 65, 87)\n",
      "(75, 32, 65, 87)\n",
      "========= close ========\n",
      "\tAROUSAL-s20|Acc=0.775|10-CV=0.77333|STD=0.0|Time spend=21.37275242805481\n",
      "\tVALENCE-s20|Acc=0.785|10-CV=0.70267|STD=0.03714|Time spend=23.329052209854126\n",
      "Fitted sphere radius:         95.3 mm\n",
      "Origin head coordinates:      -0.8 15.1 45.3 mm\n",
      "Origin device coordinates:    -0.8 15.1 45.3 mm\n",
      "(75, 32, 65, 87)\n",
      "(75, 32, 65, 87)\n",
      "(75, 32, 65, 87)\n",
      "(75, 32, 65, 87)\n",
      "(75, 32, 65, 87)\n",
      "(75, 32, 65, 87)\n",
      "(75, 32, 65, 87)\n",
      "(75, 32, 65, 87)\n",
      "========= close ========\n",
      "\tAROUSAL-s21|Acc=0.8|10-CV=0.8|STD=0.0|Time spend=21.889731645584106\n",
      "\tVALENCE-s21|Acc=0.66667|10-CV=0.61067|STD=0.02407|Time spend=24.291916370391846\n",
      "Fitted sphere radius:         95.3 mm\n",
      "Origin head coordinates:      -0.8 15.1 45.3 mm\n",
      "Origin device coordinates:    -0.8 15.1 45.3 mm\n",
      "(75, 32, 65, 87)\n",
      "(75, 32, 65, 87)\n",
      "(75, 32, 65, 87)\n",
      "(75, 32, 65, 87)\n",
      "(75, 32, 65, 87)\n",
      "(75, 32, 65, 87)\n",
      "(75, 32, 65, 87)\n",
      "(75, 32, 65, 87)\n",
      "========= close ========\n",
      "\tAROUSAL-s22|Acc=0.625|10-CV=0.60867|STD=0.01462|Time spend=20.404207468032837\n",
      "\tVALENCE-s22|Acc=0.76333|10-CV=0.728|STD=0.02825|Time spend=22.284805297851562\n",
      "Fitted sphere radius:         95.3 mm\n",
      "Origin head coordinates:      -0.8 15.1 45.3 mm\n",
      "Origin device coordinates:    -0.8 15.1 45.3 mm\n",
      "(75, 32, 65, 87)\n",
      "(75, 32, 65, 87)\n",
      "(75, 32, 65, 87)\n",
      "(75, 32, 65, 87)\n",
      "(75, 32, 65, 87)\n",
      "(75, 32, 65, 87)\n",
      "(75, 32, 65, 87)\n",
      "(75, 32, 65, 87)\n",
      "========= close ========\n",
      "\tAROUSAL-s23|Acc=0.79333|10-CV=0.758|STD=0.00945|Time spend=20.42721724510193\n",
      "\tVALENCE-s23|Acc=0.79|10-CV=0.714|STD=0.01413|Time spend=22.607496738433838\n",
      "Fitted sphere radius:         95.3 mm\n",
      "Origin head coordinates:      -0.8 15.1 45.3 mm\n",
      "Origin device coordinates:    -0.8 15.1 45.3 mm\n",
      "(75, 32, 65, 87)\n",
      "(75, 32, 65, 87)\n",
      "(75, 32, 65, 87)\n",
      "(75, 32, 65, 87)\n",
      "(75, 32, 65, 87)\n",
      "(75, 32, 65, 87)\n",
      "(75, 32, 65, 87)\n",
      "(75, 32, 65, 87)\n",
      "========= close ========\n",
      "\tAROUSAL-s24|Acc=0.825|10-CV=0.82667|STD=0.0|Time spend=22.399962425231934\n",
      "\tVALENCE-s24|Acc=0.76|10-CV=0.69733|STD=0.01692|Time spend=24.679983615875244\n",
      "Fitted sphere radius:         95.3 mm\n",
      "Origin head coordinates:      -0.8 15.1 45.3 mm\n",
      "Origin device coordinates:    -0.8 15.1 45.3 mm\n",
      "(75, 32, 65, 87)\n",
      "(75, 32, 65, 87)\n",
      "(75, 32, 65, 87)\n",
      "(75, 32, 65, 87)\n",
      "(75, 32, 65, 87)\n",
      "(75, 32, 65, 87)\n",
      "(75, 32, 65, 87)\n",
      "(75, 32, 65, 87)\n",
      "========= close ========\n",
      "\tAROUSAL-s25|Acc=0.725|10-CV=0.72667|STD=0.0|Time spend=20.451210737228394\n",
      "\tVALENCE-s25|Acc=0.67833|10-CV=0.62533|STD=0.02762|Time spend=22.762274026870728\n",
      "Fitted sphere radius:         95.3 mm\n",
      "Origin head coordinates:      -0.8 15.1 45.3 mm\n",
      "Origin device coordinates:    -0.8 15.1 45.3 mm\n",
      "(75, 32, 65, 87)\n",
      "(75, 32, 65, 87)\n",
      "(75, 32, 65, 87)\n",
      "(75, 32, 65, 87)\n",
      "(75, 32, 65, 87)\n",
      "(75, 32, 65, 87)\n",
      "(75, 32, 65, 87)\n",
      "(75, 32, 65, 87)\n",
      "========= close ========\n",
      "\tAROUSAL-s26|Acc=0.72667|10-CV=0.63667|STD=0.02155|Time spend=21.899452924728394\n",
      "\tVALENCE-s26|Acc=0.67667|10-CV=0.65133|STD=0.00846|Time spend=24.204017877578735\n",
      "Fitted sphere radius:         95.3 mm\n",
      "Origin head coordinates:      -0.8 15.1 45.3 mm\n",
      "Origin device coordinates:    -0.8 15.1 45.3 mm\n",
      "(75, 32, 65, 87)\n",
      "(75, 32, 65, 87)\n",
      "(75, 32, 65, 87)\n",
      "(75, 32, 65, 87)\n",
      "(75, 32, 65, 87)\n",
      "(75, 32, 65, 87)\n",
      "(75, 32, 65, 87)\n",
      "(75, 32, 65, 87)\n",
      "========= close ========\n",
      "\tAROUSAL-s27|Acc=0.81|10-CV=0.73933|STD=0.03018|Time spend=20.870545864105225\n",
      "\tVALENCE-s27|Acc=0.755|10-CV=0.74533|STD=0.00833|Time spend=22.75904417037964\n",
      "Fitted sphere radius:         95.3 mm\n",
      "Origin head coordinates:      -0.8 15.1 45.3 mm\n",
      "Origin device coordinates:    -0.8 15.1 45.3 mm\n",
      "(75, 32, 65, 87)\n",
      "(75, 32, 65, 87)\n",
      "(75, 32, 65, 87)\n",
      "(75, 32, 65, 87)\n",
      "(75, 32, 65, 87)\n",
      "(75, 32, 65, 87)\n",
      "(75, 32, 65, 87)\n",
      "(75, 32, 65, 87)\n",
      "========= close ========\n",
      "\tAROUSAL-s28|Acc=0.665|10-CV=0.626|STD=0.04016|Time spend=23.366172075271606\n",
      "\tVALENCE-s28|Acc=0.70667|10-CV=0.65333|STD=0.01578|Time spend=25.606504440307617\n",
      "Fitted sphere radius:         95.3 mm\n",
      "Origin head coordinates:      -0.8 15.1 45.3 mm\n",
      "Origin device coordinates:    -0.8 15.1 45.3 mm\n",
      "(75, 32, 65, 87)\n",
      "(75, 32, 65, 87)\n",
      "(75, 32, 65, 87)\n",
      "(75, 32, 65, 87)\n",
      "(75, 32, 65, 87)\n",
      "(75, 32, 65, 87)\n",
      "(75, 32, 65, 87)\n",
      "(75, 32, 65, 87)\n",
      "========= close ========\n",
      "\tAROUSAL-s29|Acc=0.725|10-CV=0.69267|STD=0.00917|Time spend=22.31273126602173\n",
      "\tVALENCE-s29|Acc=0.73|10-CV=0.67533|STD=0.02548|Time spend=24.528777599334717\n",
      "Fitted sphere radius:         95.3 mm\n",
      "Origin head coordinates:      -0.8 15.1 45.3 mm\n",
      "Origin device coordinates:    -0.8 15.1 45.3 mm\n",
      "(75, 32, 65, 87)\n",
      "(75, 32, 65, 87)\n",
      "(75, 32, 65, 87)\n",
      "(75, 32, 65, 87)\n",
      "(75, 32, 65, 87)\n",
      "(75, 32, 65, 87)\n",
      "(75, 32, 65, 87)\n",
      "(75, 32, 65, 87)\n",
      "========= close ========\n",
      "\tAROUSAL-s30|Acc=0.7|10-CV=0.60133|STD=0.01759|Time spend=21.98109483718872\n",
      "\tVALENCE-s30|Acc=0.675|10-CV=0.67333|STD=0.0|Time spend=24.08217978477478\n",
      "Fitted sphere radius:         95.3 mm\n",
      "Origin head coordinates:      -0.8 15.1 45.3 mm\n",
      "Origin device coordinates:    -0.8 15.1 45.3 mm\n",
      "(75, 32, 65, 87)\n",
      "(75, 32, 65, 87)\n",
      "(75, 32, 65, 87)\n",
      "(75, 32, 65, 87)\n",
      "(75, 32, 65, 87)\n",
      "(75, 32, 65, 87)\n",
      "(75, 32, 65, 87)\n",
      "(75, 32, 65, 87)\n",
      "========= close ========\n",
      "\tAROUSAL-s31|Acc=0.82167|10-CV=0.63533|STD=0.02583|Time spend=21.98612666130066\n",
      "\tVALENCE-s31|Acc=0.75167|10-CV=0.61333|STD=0.02459|Time spend=24.52582287788391\n",
      "Fitted sphere radius:         95.3 mm\n",
      "Origin head coordinates:      -0.8 15.1 45.3 mm\n",
      "Origin device coordinates:    -0.8 15.1 45.3 mm\n",
      "(75, 32, 65, 87)\n",
      "(75, 32, 65, 87)\n",
      "(75, 32, 65, 87)\n",
      "(75, 32, 65, 87)\n",
      "(75, 32, 65, 87)\n",
      "(75, 32, 65, 87)\n",
      "(75, 32, 65, 87)\n",
      "(75, 32, 65, 87)\n",
      "========= close ========\n",
      "\tAROUSAL-s32|Acc=0.70667|10-CV=0.676|STD=0.0068|Time spend=20.327452898025513\n",
      "\tVALENCE-s32|Acc=0.7|10-CV=0.65467|STD=0.01733|Time spend=22.53366708755493\n",
      "AROUSAL|Acc=0.7473437499999999|10-CV=0.6963333333333334|STD=0.017482949121400894\n",
      "VALENCE|Acc=0.7520833333333332|10-CV=0.6963125|STD=0.023558946324084926\n"
     ]
    }
   ],
   "source": [
    "accs, cv_means, cv_stds = [],[],[]\n",
    "accs_v, cv_means_v, cv_stds_v = [],[],[]\n",
    "reports = []\n",
    "for filename in (pbar := tqdm(dataset.get_file_list())):\n",
    "    start = time.time()\n",
    "    pbar.set_description(filename)\n",
    "    data, labels, groups = dataset.get_data(filename, stimuli=Dataset_subjectDependent.STIMULI_AROUSAL, return_type='mne', sfreq=128)\n",
    "    \n",
    "    data_csd = mne.preprocessing.compute_current_source_density(data)\n",
    "\n",
    "    plv = calculate_plv(data_csd.get_data(), n_jobs=8)\n",
    "\n",
    "    _,acc,cross,train_report = train_model(plv, labels.squeeze(), groups, filename=filename, return_text=True)\n",
    "    report = f\"\\tAROUSAL-{filename}|Acc={round(acc,5)}|10-CV={round(cross.mean(),5)}|STD={round(cross.std(),5)}|Time spend={time.time() - start}\"\n",
    "    print(report)\n",
    "    reports.append(report)\n",
    "    reports.append(train_report)\n",
    "    accs.append(acc)\n",
    "    cv_means.append(cross.mean())\n",
    "    cv_stds.append(cross.std())\n",
    "\n",
    "    _, labels_v, groups_v = dataset.get_data(filename, stimuli=Dataset_subjectDependent.STIMULI_VALENCE, return_type='mne', sfreq=128)\n",
    "    _,acc,cross,train_report = train_model(plv, labels_v.squeeze(), groups_v, filename=filename, return_text=True)\n",
    "    report = f\"\\tVALENCE-{filename}|Acc={round(acc,5)}|10-CV={round(cross.mean(),5)}|STD={round(cross.std(),5)}|Time spend={time.time() - start}\"\n",
    "    print(report)\n",
    "    reports.append(report)\n",
    "    reports.append(train_report)\n",
    "    accs_v.append(acc)\n",
    "    cv_means_v.append(cross.mean())\n",
    "    cv_stds_v.append(cross.std())\n",
    "    # break\n",
    "    # count+=1\n",
    "    # if(count == 5): break\n",
    "report = f\"AROUSAL|Acc={sum(accs)/len(accs)}|10-CV={sum(cv_means)/len(cv_means)}|STD={sum(cv_stds)/len(cv_stds)}\"\n",
    "print(report)\n",
    "reports.append(report)\n",
    "report = f\"VALENCE|Acc={sum(accs_v)/len(accs_v)}|10-CV={sum(cv_means_v)/len(cv_means_v)}|STD={sum(cv_stds_v)/len(cv_stds_v)}\"\n",
    "print(report)\n",
    "reports.append(report)"
   ]
  },
  {
   "cell_type": "code",
   "execution_count": 15,
   "metadata": {},
   "outputs": [
    {
     "name": "stdout",
     "output_type": "stream",
     "text": [
      "\tAROUSAL-s01|Acc=0.83333|10-CV=0.7|STD=0.02667|Time spend=24.242062091827393\n",
      "\tVALENCE-s01|Acc=0.83167|10-CV=0.62867|STD=0.03784|Time spend=26.571908473968506\n",
      "\tAROUSAL-s02|Acc=0.70333|10-CV=0.66067|STD=0.0243|Time spend=21.312659978866577\n",
      "\tVALENCE-s02|Acc=0.74833|10-CV=0.72667|STD=0.03026|Time spend=23.049426794052124\n",
      "\tAROUSAL-s03|Acc=0.8|10-CV=0.8|STD=0.0|Time spend=22.500916242599487\n",
      "-----WARNING: Model s03 failed to learn: sum(ans)=0.0 sum(y)=120.0 len(y)=600\n",
      "\tVALENCE-s03|Acc=0.74667|10-CV=0.694|STD=0.0222|Time spend=24.647884130477905\n",
      "\tAROUSAL-s04|Acc=0.735|10-CV=0.68067|STD=0.01965|Time spend=21.71100115776062\n",
      "\tVALENCE-s04|Acc=0.74167|10-CV=0.69133|STD=0.03156|Time spend=23.48189401626587\n",
      "\tAROUSAL-s05|Acc=0.70167|10-CV=0.618|STD=0.03591|Time spend=20.39947509765625\n",
      "\tVALENCE-s05|Acc=0.675|10-CV=0.61733|STD=0.01555|Time spend=22.60740637779236\n",
      "\tAROUSAL-s06|Acc=0.635|10-CV=0.61133|STD=0.02566|Time spend=20.523341417312622\n",
      "\tVALENCE-s06|Acc=0.75|10-CV=0.74867|STD=0.00306|Time spend=22.399199962615967\n",
      "-----WARNING: Model s06 failed to learn: sum(ans)=600.0 sum(y)=450.0 len(y)=600\n",
      "\tAROUSAL-s07|Acc=0.73667|10-CV=0.67|STD=0.02134|Time spend=23.49220323562622\n",
      "\tVALENCE-s07|Acc=0.79667|10-CV=0.74133|STD=0.01928|Time spend=25.38779354095459\n",
      "\tAROUSAL-s08|Acc=0.78|10-CV=0.654|STD=0.03669|Time spend=21.38087511062622\n",
      "\tVALENCE-s08|Acc=0.82167|10-CV=0.62933|STD=0.02533|Time spend=23.55602264404297\n",
      "\tAROUSAL-s09|Acc=0.75167|10-CV=0.68267|STD=0.02133|Time spend=21.50627589225769\n",
      "\tVALENCE-s09|Acc=0.78167|10-CV=0.766|STD=0.04082|Time spend=23.26595973968506\n",
      "\tAROUSAL-s10|Acc=0.765|10-CV=0.70067|STD=0.04027|Time spend=22.775102853775024\n",
      "\tVALENCE-s10|Acc=0.85|10-CV=0.79733|STD=0.02444|Time spend=24.407439708709717\n",
      "\tAROUSAL-s11|Acc=0.67667|10-CV=0.64467|STD=0.01551|Time spend=22.527122497558594\n",
      "\tVALENCE-s11|Acc=0.70333|10-CV=0.67533|STD=0.02405|Time spend=24.64858865737915\n",
      "\tAROUSAL-s12|Acc=0.825|10-CV=0.82667|STD=0.0|Time spend=20.69154953956604\n",
      "-----WARNING: Model s12 failed to learn: sum(ans)=600.0 sum(y)=495.0 len(y)=600\n",
      "\tVALENCE-s12|Acc=0.72833|10-CV=0.656|STD=0.03454|Time spend=22.874385833740234\n",
      "\tAROUSAL-s13|Acc=0.85|10-CV=0.85|STD=0.00333|Time spend=21.39360737800598\n",
      "-----WARNING: Model s13 failed to learn: sum(ans)=600.0 sum(y)=510.0 len(y)=600\n",
      "\tVALENCE-s13|Acc=0.78667|10-CV=0.77467|STD=0.02146|Time spend=23.12936758995056\n",
      "\tAROUSAL-s14|Acc=0.69833|10-CV=0.68|STD=0.0073|Time spend=20.922529220581055\n",
      "\tVALENCE-s14|Acc=0.78333|10-CV=0.73333|STD=0.02749|Time spend=22.907926321029663\n",
      "\tAROUSAL-s15|Acc=0.78|10-CV=0.69067|STD=0.02653|Time spend=24.030847311019897\n",
      "\tVALENCE-s15|Acc=0.87333|10-CV=0.83467|STD=0.02491|Time spend=25.66193962097168\n",
      "\tAROUSAL-s16|Acc=0.75333|10-CV=0.66133|STD=0.02963|Time spend=22.16606044769287\n",
      "\tVALENCE-s16|Acc=0.76|10-CV=0.73133|STD=0.02717|Time spend=24.126280546188354\n",
      "\tAROUSAL-s17|Acc=0.75333|10-CV=0.71933|STD=0.02279|Time spend=21.7671058177948\n",
      "\tVALENCE-s17|Acc=0.66833|10-CV=0.636|STD=0.03774|Time spend=23.96784806251526\n",
      "\tAROUSAL-s18|Acc=0.69|10-CV=0.62867|STD=0.0067|Time spend=21.32333779335022\n",
      "\tVALENCE-s18|Acc=0.81667|10-CV=0.77267|STD=0.03176|Time spend=22.925076007843018\n",
      "\tAROUSAL-s19|Acc=0.74833|10-CV=0.70267|STD=0.02048|Time spend=21.605870962142944\n",
      "\tVALENCE-s19|Acc=0.765|10-CV=0.68267|STD=0.02636|Time spend=23.83642840385437\n",
      "\tAROUSAL-s20|Acc=0.775|10-CV=0.77333|STD=0.0|Time spend=21.37275242805481\n",
      "-----WARNING: Model s20 failed to learn: sum(ans)=600.0 sum(y)=465.0 len(y)=600\n",
      "\tVALENCE-s20|Acc=0.785|10-CV=0.70267|STD=0.03714|Time spend=23.329052209854126\n",
      "\tAROUSAL-s21|Acc=0.8|10-CV=0.8|STD=0.0|Time spend=21.889731645584106\n",
      "-----WARNING: Model s21 failed to learn: sum(ans)=600.0 sum(y)=480.0 len(y)=600\n",
      "\tVALENCE-s21|Acc=0.66667|10-CV=0.61067|STD=0.02407|Time spend=24.291916370391846\n",
      "\tAROUSAL-s22|Acc=0.625|10-CV=0.60867|STD=0.01462|Time spend=20.404207468032837\n",
      "\tVALENCE-s22|Acc=0.76333|10-CV=0.728|STD=0.02825|Time spend=22.284805297851562\n",
      "\tAROUSAL-s23|Acc=0.79333|10-CV=0.758|STD=0.00945|Time spend=20.42721724510193\n",
      "\tVALENCE-s23|Acc=0.79|10-CV=0.714|STD=0.01413|Time spend=22.607496738433838\n",
      "\tAROUSAL-s24|Acc=0.825|10-CV=0.82667|STD=0.0|Time spend=22.399962425231934\n",
      "-----WARNING: Model s24 failed to learn: sum(ans)=600.0 sum(y)=495.0 len(y)=600\n",
      "\tVALENCE-s24|Acc=0.76|10-CV=0.69733|STD=0.01692|Time spend=24.679983615875244\n",
      "\tAROUSAL-s25|Acc=0.725|10-CV=0.72667|STD=0.0|Time spend=20.451210737228394\n",
      "-----WARNING: Model s25 failed to learn: sum(ans)=600.0 sum(y)=435.0 len(y)=600\n",
      "\tVALENCE-s25|Acc=0.67833|10-CV=0.62533|STD=0.02762|Time spend=22.762274026870728\n",
      "\tAROUSAL-s26|Acc=0.72667|10-CV=0.63667|STD=0.02155|Time spend=21.899452924728394\n",
      "\tVALENCE-s26|Acc=0.67667|10-CV=0.65133|STD=0.00846|Time spend=24.204017877578735\n",
      "\tAROUSAL-s27|Acc=0.81|10-CV=0.73933|STD=0.03018|Time spend=20.870545864105225\n",
      "\tVALENCE-s27|Acc=0.755|10-CV=0.74533|STD=0.00833|Time spend=22.75904417037964\n",
      "\tAROUSAL-s28|Acc=0.665|10-CV=0.626|STD=0.04016|Time spend=23.366172075271606\n",
      "\tVALENCE-s28|Acc=0.70667|10-CV=0.65333|STD=0.01578|Time spend=25.606504440307617\n",
      "\tAROUSAL-s29|Acc=0.725|10-CV=0.69267|STD=0.00917|Time spend=22.31273126602173\n",
      "\tVALENCE-s29|Acc=0.73|10-CV=0.67533|STD=0.02548|Time spend=24.528777599334717\n",
      "\tAROUSAL-s30|Acc=0.7|10-CV=0.60133|STD=0.01759|Time spend=21.98109483718872\n",
      "\tVALENCE-s30|Acc=0.675|10-CV=0.67333|STD=0.0|Time spend=24.08217978477478\n",
      "-----WARNING: Model s30 failed to learn: sum(ans)=600.0 sum(y)=405.0 len(y)=600\n",
      "\tAROUSAL-s31|Acc=0.82167|10-CV=0.63533|STD=0.02583|Time spend=21.98612666130066\n",
      "\tVALENCE-s31|Acc=0.75167|10-CV=0.61333|STD=0.02459|Time spend=24.52582287788391\n",
      "\tAROUSAL-s32|Acc=0.70667|10-CV=0.676|STD=0.0068|Time spend=20.327452898025513\n",
      "\tVALENCE-s32|Acc=0.7|10-CV=0.65467|STD=0.01733|Time spend=22.53366708755493\n",
      "AROUSAL|Acc=0.7473437499999999|10-CV=0.6963333333333334|STD=0.017482949121400894\n",
      "VALENCE|Acc=0.7520833333333332|10-CV=0.6963125|STD=0.023558946324084926\n",
      "TOTAL|Acc=0.7497135416666666|10-CV=0.6963229166666668|STD=0.020520947722742915\n"
     ]
    }
   ],
   "source": [
    "for text in reports:\n",
    "    if(text == None): continue\n",
    "    print(text)\n",
    "\n",
    "accs.extend(accs_v)\n",
    "cv_means.extend(cv_means_v)\n",
    "cv_stds.extend(cv_stds_v)\n",
    "print(f\"TOTAL|Acc={sum(accs)/len(accs)}|10-CV={sum(cv_means)/len(cv_means)}|STD={sum(cv_stds)/len(cv_stds)}\")"
   ]
  },
  {
   "cell_type": "markdown",
   "metadata": {},
   "source": [
    "### 4.4 $ \\text{PLI}(j,k) =  \\frac{1}{T} | \\Sigma^{T}_{t=1} \\text{sign}(Im[e^{i (\\phi^{t}_{j} - \\phi^{t}_{k})}])  | $"
   ]
  },
  {
   "cell_type": "code",
   "execution_count": 16,
   "metadata": {},
   "outputs": [],
   "source": [
    "# bands = [(0,4), (4,8), (8,12), (12,30), (30,64)]\n",
    "def calculate_stft(signals, sfreq):\n",
    "    from scipy import signal\n",
    "    f_range, t_range, Z = signal.stft(signals, sfreq, nperseg=sfreq//10, nfft=sfreq)\n",
    "    magnitude = np.abs(Z) \n",
    "    phase = np.angle(Z)\n",
    "    return magnitude, phase, f_range, t_range\n",
    "\n",
    "def PLI_stft(p_id, phase):\n",
    "    # (32, 65, 12) => (channels, freqs, times)\n",
    "    # print(f\"p_id:{p_id} - data to run {phase.shape}\")\n",
    "    from itertools import combinations\n",
    "    pli = []\n",
    "    # count = 0\n",
    "    for index in range(phase.shape[0]):\n",
    "        pli_epoch = []\n",
    "        for comb in combinations(list(range(phase.shape[1])), 2):\n",
    "            # shape = (65,12)\n",
    "            phase_a, phase_b = phase[index, comb[0]], phase[index, comb[1]]\n",
    "            phase_diff = phase_a - phase_b\n",
    "            # sum along the time size\n",
    "            pli_ab = np.abs(np.average(   np.sign(np.imag(   np.exp(complex(0,1) * phase_diff) ))  , axis=1))\n",
    "            pli_epoch.append(pli_ab)\n",
    "        pli_epoch = np.vstack(pli_epoch)\n",
    "        pli_epoch_5 = np.concatenate([ pli_epoch[:,0:4].mean(axis=1).reshape(-1,1),\n",
    "                                        pli_epoch[:,4:8].mean(axis=1).reshape(-1,1),\n",
    "                                        pli_epoch[:,8:12].mean(axis=1).reshape(-1,1),\n",
    "                                        pli_epoch[:,12:30].mean(axis=1).reshape(-1,1),\n",
    "                                        pli_epoch[:,30:65].mean(axis=1).reshape(-1,1)], axis=0)\n",
    "        pli.append(np.expand_dims(pli_epoch_5, axis=0))\n",
    "        # count += 1\n",
    "        # if(count == 3): break\n",
    "    # shape (496, 65)\n",
    "    # 496 is number of pairs that is not duplicate\n",
    "    # 65 is number of phase of frequencies\n",
    "    pli = np.vstack( pli )\n",
    "    return pli.squeeze()\n",
    "\n",
    "def calculate_pli(data, n_jobs=8):\n",
    "    \"\"\" \n",
    "    Input: Expect data to have (n_epochs, n_channels, n_samples)\n",
    "    Output: (n_epochs, n_conn, n_freqs ) => n_conn = n_channels!/(2!(n_channels-2)!)\n",
    "    \"\"\"\n",
    "    from multiprocessing import Pool\n",
    "\n",
    "    try:\n",
    "        t_out = 60000\n",
    "        pool = Pool()\n",
    "        p_list = []\n",
    "        ans_list = []\n",
    "        num_p = n_jobs\n",
    "        indices = np.array_split(np.arange(data.shape[0]), num_p)\n",
    "        _, phase, _, _ = calculate_stft(data, 128)\n",
    "        for p_id in range(num_p):\n",
    "            p_list.append(pool.apply_async(PLI_stft, [p_id, phase[indices[p_id]] ]))\n",
    "        for p_id in range(num_p):\n",
    "            ans_list.append( p_list[p_id].get(timeout=t_out) )\n",
    "        # ans_list\n",
    "    finally:\n",
    "        print(\"========= close ========\")\n",
    "        pool.close() \n",
    "        pool.terminate()\n",
    "    return np.vstack(ans_list)\n"
   ]
  },
  {
   "cell_type": "code",
   "execution_count": 17,
   "metadata": {},
   "outputs": [
    {
     "data": {
      "application/vnd.jupyter.widget-view+json": {
       "model_id": "7bf0bf69edce42dda7b5e0e4724a2fed",
       "version_major": 2,
       "version_minor": 0
      },
      "text/plain": [
       "  0%|          | 0/32 [00:00<?, ?it/s]"
      ]
     },
     "metadata": {},
     "output_type": "display_data"
    },
    {
     "name": "stdout",
     "output_type": "stream",
     "text": [
      "Fitted sphere radius:         95.3 mm\n",
      "Origin head coordinates:      -0.8 15.1 45.3 mm\n",
      "Origin device coordinates:    -0.8 15.1 45.3 mm\n",
      "========= close ========\n",
      "\tAROUSAL-s01|Acc=0.955|10-CV=0.60867|STD=0.01301|Time spend=24.069074153900146\n",
      "\tVALENCE-s01|Acc=1.0|10-CV=0.51333|STD=0.03026|Time spend=26.879728078842163\n",
      "Fitted sphere radius:         95.3 mm\n",
      "Origin head coordinates:      -0.8 15.1 45.3 mm\n",
      "Origin device coordinates:    -0.8 15.1 45.3 mm\n",
      "========= close ========\n",
      "\tAROUSAL-s02|Acc=0.86667|10-CV=0.622|STD=0.02001|Time spend=23.054458618164062\n",
      "\tVALENCE-s02|Acc=0.9|10-CV=0.57|STD=0.03531|Time spend=25.784274101257324\n",
      "Fitted sphere radius:         95.3 mm\n",
      "Origin head coordinates:      -0.8 15.1 45.3 mm\n",
      "Origin device coordinates:    -0.8 15.1 45.3 mm\n",
      "========= close ========\n",
      "\tAROUSAL-s03|Acc=0.84833|10-CV=0.8|STD=0.0|Time spend=22.31463313102722\n",
      "\tVALENCE-s03|Acc=0.98167|10-CV=0.51267|STD=0.02032|Time spend=25.074462890625\n",
      "Fitted sphere radius:         95.3 mm\n",
      "Origin head coordinates:      -0.8 15.1 45.3 mm\n",
      "Origin device coordinates:    -0.8 15.1 45.3 mm\n",
      "========= close ========\n",
      "\tAROUSAL-s04|Acc=0.86833|10-CV=0.58533|STD=0.024|Time spend=22.288633108139038\n",
      "\tVALENCE-s04|Acc=0.84167|10-CV=0.594|STD=0.01474|Time spend=25.12016224861145\n",
      "Fitted sphere radius:         95.3 mm\n",
      "Origin head coordinates:      -0.8 15.1 45.3 mm\n",
      "Origin device coordinates:    -0.8 15.1 45.3 mm\n",
      "========= close ========\n",
      "\tAROUSAL-s05|Acc=0.89333|10-CV=0.54067|STD=0.02835|Time spend=21.376088857650757\n",
      "\tVALENCE-s05|Acc=0.75167|10-CV=0.604|STD=0.00904|Time spend=24.219865560531616\n",
      "Fitted sphere radius:         95.3 mm\n",
      "Origin head coordinates:      -0.8 15.1 45.3 mm\n",
      "Origin device coordinates:    -0.8 15.1 45.3 mm\n",
      "========= close ========\n",
      "\tAROUSAL-s06|Acc=0.955|10-CV=0.56667|STD=0.01398|Time spend=24.599836587905884\n",
      "\tVALENCE-s06|Acc=0.86333|10-CV=0.74867|STD=0.00306|Time spend=27.45573854446411\n",
      "Fitted sphere radius:         95.3 mm\n",
      "Origin head coordinates:      -0.8 15.1 45.3 mm\n",
      "Origin device coordinates:    -0.8 15.1 45.3 mm\n",
      "========= close ========\n",
      "\tAROUSAL-s07|Acc=0.96667|10-CV=0.62467|STD=0.00427|Time spend=23.203545331954956\n",
      "\tVALENCE-s07|Acc=0.91|10-CV=0.7|STD=0.0|Time spend=26.224762201309204\n",
      "Fitted sphere radius:         95.3 mm\n",
      "Origin head coordinates:      -0.8 15.1 45.3 mm\n",
      "Origin device coordinates:    -0.8 15.1 45.3 mm\n",
      "========= close ========\n",
      "\tAROUSAL-s08|Acc=0.98667|10-CV=0.576|STD=0.00742|Time spend=22.468754053115845\n",
      "\tVALENCE-s08|Acc=0.98167|10-CV=0.588|STD=0.01707|Time spend=25.046589851379395\n",
      "Fitted sphere radius:         95.3 mm\n",
      "Origin head coordinates:      -0.8 15.1 45.3 mm\n",
      "Origin device coordinates:    -0.8 15.1 45.3 mm\n",
      "========= close ========\n",
      "\tAROUSAL-s09|Acc=0.77833|10-CV=0.594|STD=0.00757|Time spend=21.427249670028687\n",
      "\tVALENCE-s09|Acc=0.93833|10-CV=0.54133|STD=0.02857|Time spend=24.177568674087524\n",
      "Fitted sphere radius:         95.3 mm\n",
      "Origin head coordinates:      -0.8 15.1 45.3 mm\n",
      "Origin device coordinates:    -0.8 15.1 45.3 mm\n",
      "========= close ========\n",
      "\tAROUSAL-s10|Acc=0.97333|10-CV=0.53067|STD=0.01769|Time spend=23.728235960006714\n",
      "\tVALENCE-s10|Acc=0.97333|10-CV=0.57467|STD=0.03538|Time spend=26.658421277999878\n",
      "Fitted sphere radius:         95.3 mm\n",
      "Origin head coordinates:      -0.8 15.1 45.3 mm\n",
      "Origin device coordinates:    -0.8 15.1 45.3 mm\n",
      "========= close ========\n",
      "\tAROUSAL-s11|Acc=0.825|10-CV=0.62733|STD=0.002|Time spend=22.221298217773438\n",
      "\tVALENCE-s11|Acc=0.84833|10-CV=0.586|STD=0.01413|Time spend=25.018811464309692\n",
      "Fitted sphere radius:         95.3 mm\n",
      "Origin head coordinates:      -0.8 15.1 45.3 mm\n",
      "Origin device coordinates:    -0.8 15.1 45.3 mm\n",
      "========= close ========\n",
      "\tAROUSAL-s12|Acc=0.865|10-CV=0.82667|STD=0.0|Time spend=21.4825918674469\n",
      "\tVALENCE-s12|Acc=0.99667|10-CV=0.574|STD=0.04242|Time spend=24.146753072738647\n",
      "Fitted sphere radius:         95.3 mm\n",
      "Origin head coordinates:      -0.8 15.1 45.3 mm\n",
      "Origin device coordinates:    -0.8 15.1 45.3 mm\n",
      "========= close ========\n",
      "\tAROUSAL-s13|Acc=0.88333|10-CV=0.85|STD=0.00333|Time spend=21.13942551612854\n",
      "\tVALENCE-s13|Acc=0.93|10-CV=0.56333|STD=0.01892|Time spend=23.975932598114014\n",
      "Fitted sphere radius:         95.3 mm\n",
      "Origin head coordinates:      -0.8 15.1 45.3 mm\n",
      "Origin device coordinates:    -0.8 15.1 45.3 mm\n",
      "========= close ========\n",
      "\tAROUSAL-s14|Acc=0.84833|10-CV=0.67333|STD=0.0|Time spend=20.996950387954712\n",
      "\tVALENCE-s14|Acc=0.985|10-CV=0.538|STD=0.03676|Time spend=23.835551500320435\n",
      "Fitted sphere radius:         95.3 mm\n",
      "Origin head coordinates:      -0.8 15.1 45.3 mm\n",
      "Origin device coordinates:    -0.8 15.1 45.3 mm\n",
      "========= close ========\n",
      "\tAROUSAL-s15|Acc=0.99|10-CV=0.496|STD=0.04035|Time spend=22.612080335617065\n",
      "\tVALENCE-s15|Acc=0.98667|10-CV=0.572|STD=0.03874|Time spend=25.321359872817993\n",
      "Fitted sphere radius:         95.3 mm\n",
      "Origin head coordinates:      -0.8 15.1 45.3 mm\n",
      "Origin device coordinates:    -0.8 15.1 45.3 mm\n",
      "========= close ========\n",
      "\tAROUSAL-s16|Acc=0.99667|10-CV=0.48867|STD=0.02798|Time spend=22.11796259880066\n",
      "\tVALENCE-s16|Acc=0.94667|10-CV=0.62333|STD=0.00803|Time spend=24.800981283187866\n",
      "Fitted sphere radius:         95.3 mm\n",
      "Origin head coordinates:      -0.8 15.1 45.3 mm\n",
      "Origin device coordinates:    -0.8 15.1 45.3 mm\n",
      "========= close ========\n",
      "\tAROUSAL-s17|Acc=0.81833|10-CV=0.60333|STD=0.02463|Time spend=21.497727870941162\n",
      "\tVALENCE-s17|Acc=0.91167|10-CV=0.55867|STD=0.02778|Time spend=24.193952322006226\n",
      "Fitted sphere radius:         95.3 mm\n",
      "Origin head coordinates:      -0.8 15.1 45.3 mm\n",
      "Origin device coordinates:    -0.8 15.1 45.3 mm\n",
      "========= close ========\n",
      "\tAROUSAL-s18|Acc=0.875|10-CV=0.62733|STD=0.002|Time spend=21.34982132911682\n",
      "\tVALENCE-s18|Acc=0.91667|10-CV=0.59867|STD=0.01327|Time spend=24.19380497932434\n",
      "Fitted sphere radius:         95.3 mm\n",
      "Origin head coordinates:      -0.8 15.1 45.3 mm\n",
      "Origin device coordinates:    -0.8 15.1 45.3 mm\n",
      "========= close ========\n",
      "\tAROUSAL-s19|Acc=0.71|10-CV=0.67333|STD=0.0|Time spend=20.619266986846924\n",
      "\tVALENCE-s19|Acc=0.79833|10-CV=0.56267|STD=0.01083|Time spend=23.279396295547485\n",
      "Fitted sphere radius:         95.3 mm\n",
      "Origin head coordinates:      -0.8 15.1 45.3 mm\n",
      "Origin device coordinates:    -0.8 15.1 45.3 mm\n",
      "========= close ========\n",
      "\tAROUSAL-s20|Acc=0.87|10-CV=0.77333|STD=0.0|Time spend=23.789615631103516\n",
      "\tVALENCE-s20|Acc=0.955|10-CV=0.564|STD=0.02235|Time spend=26.43101167678833\n",
      "Fitted sphere radius:         95.3 mm\n",
      "Origin head coordinates:      -0.8 15.1 45.3 mm\n",
      "Origin device coordinates:    -0.8 15.1 45.3 mm\n",
      "========= close ========\n",
      "\tAROUSAL-s21|Acc=0.82667|10-CV=0.8|STD=0.0|Time spend=22.056713342666626\n",
      "\tVALENCE-s21|Acc=0.96667|10-CV=0.472|STD=0.03625|Time spend=24.97709608078003\n",
      "Fitted sphere radius:         95.3 mm\n",
      "Origin head coordinates:      -0.8 15.1 45.3 mm\n",
      "Origin device coordinates:    -0.8 15.1 45.3 mm\n",
      "========= close ========\n",
      "\tAROUSAL-s22|Acc=0.76333|10-CV=0.594|STD=0.00867|Time spend=21.731653451919556\n",
      "\tVALENCE-s22|Acc=0.85833|10-CV=0.55467|STD=0.01928|Time spend=24.374091863632202\n",
      "Fitted sphere radius:         95.3 mm\n",
      "Origin head coordinates:      -0.8 15.1 45.3 mm\n",
      "Origin device coordinates:    -0.8 15.1 45.3 mm\n",
      "========= close ========\n",
      "\tAROUSAL-s23|Acc=0.91167|10-CV=0.75|STD=0.00333|Time spend=21.96819758415222\n",
      "\tVALENCE-s23|Acc=0.96667|10-CV=0.64933|STD=0.00327|Time spend=24.826646089553833\n",
      "Fitted sphere radius:         95.3 mm\n",
      "Origin head coordinates:      -0.8 15.1 45.3 mm\n",
      "Origin device coordinates:    -0.8 15.1 45.3 mm\n",
      "========= close ========\n",
      "\tAROUSAL-s24|Acc=0.83|10-CV=0.82667|STD=0.0|Time spend=20.096623182296753\n",
      "\tVALENCE-s24|Acc=0.94167|10-CV=0.55333|STD=0.02716|Time spend=22.879287242889404\n",
      "Fitted sphere radius:         95.3 mm\n",
      "Origin head coordinates:      -0.8 15.1 45.3 mm\n",
      "Origin device coordinates:    -0.8 15.1 45.3 mm\n",
      "========= close ========\n",
      "\tAROUSAL-s25|Acc=0.77167|10-CV=0.72667|STD=0.0|Time spend=21.194871187210083\n",
      "\tVALENCE-s25|Acc=0.925|10-CV=0.536|STD=0.03654|Time spend=23.89259672164917\n",
      "Fitted sphere radius:         95.3 mm\n",
      "Origin head coordinates:      -0.8 15.1 45.3 mm\n",
      "Origin device coordinates:    -0.8 15.1 45.3 mm\n",
      "========= close ========\n",
      "\tAROUSAL-s26|Acc=0.93667|10-CV=0.564|STD=0.01467|Time spend=22.07230019569397\n",
      "\tVALENCE-s26|Acc=0.82833|10-CV=0.64533|STD=0.00718|Time spend=24.709233283996582\n",
      "Fitted sphere radius:         95.3 mm\n",
      "Origin head coordinates:      -0.8 15.1 45.3 mm\n",
      "Origin device coordinates:    -0.8 15.1 45.3 mm\n",
      "========= close ========\n",
      "\tAROUSAL-s27|Acc=0.94|10-CV=0.67333|STD=0.0|Time spend=22.182661294937134\n",
      "\tVALENCE-s27|Acc=0.9|10-CV=0.74867|STD=0.00306|Time spend=24.79986000061035\n",
      "Fitted sphere radius:         95.3 mm\n",
      "Origin head coordinates:      -0.8 15.1 45.3 mm\n",
      "Origin device coordinates:    -0.8 15.1 45.3 mm\n",
      "========= close ========\n",
      "\tAROUSAL-s28|Acc=0.94667|10-CV=0.54733|STD=0.02898|Time spend=21.28981304168701\n",
      "\tVALENCE-s28|Acc=0.93|10-CV=0.62733|STD=0.00757|Time spend=23.880322694778442\n",
      "Fitted sphere radius:         95.3 mm\n",
      "Origin head coordinates:      -0.8 15.1 45.3 mm\n",
      "Origin device coordinates:    -0.8 15.1 45.3 mm\n",
      "========= close ========\n",
      "\tAROUSAL-s29|Acc=0.87333|10-CV=0.624|STD=0.00998|Time spend=21.322614431381226\n",
      "\tVALENCE-s29|Acc=0.88833|10-CV=0.56067|STD=0.02097|Time spend=24.059869050979614\n",
      "Fitted sphere radius:         95.3 mm\n",
      "Origin head coordinates:      -0.8 15.1 45.3 mm\n",
      "Origin device coordinates:    -0.8 15.1 45.3 mm\n",
      "========= close ========\n",
      "\tAROUSAL-s30|Acc=0.95333|10-CV=0.52|STD=0.02966|Time spend=21.310959100723267\n",
      "\tVALENCE-s30|Acc=0.77333|10-CV=0.67333|STD=0.0|Time spend=23.999120712280273\n",
      "Fitted sphere radius:         95.3 mm\n",
      "Origin head coordinates:      -0.8 15.1 45.3 mm\n",
      "Origin device coordinates:    -0.8 15.1 45.3 mm\n",
      "========= close ========\n",
      "\tAROUSAL-s31|Acc=0.99333|10-CV=0.57|STD=0.02049|Time spend=21.282180309295654\n",
      "\tVALENCE-s31|Acc=0.98|10-CV=0.574|STD=0.01315|Time spend=23.83587098121643\n",
      "Fitted sphere radius:         95.3 mm\n",
      "Origin head coordinates:      -0.8 15.1 45.3 mm\n",
      "Origin device coordinates:    -0.8 15.1 45.3 mm\n",
      "========= close ========\n",
      "\tAROUSAL-s32|Acc=0.84833|10-CV=0.67333|STD=0.0|Time spend=21.08171010017395\n",
      "\tVALENCE-s32|Acc=0.98167|10-CV=0.51133|STD=0.03795|Time spend=23.93246555328369\n",
      "AROUSAL|Acc=0.8865104166666665|10-CV=0.6424166666666666|STD=0.011012131875557033\n",
      "VALENCE|Acc=0.917395833333333|10-CV=0.5872916666666667|STD=0.01997886586134689\n"
     ]
    }
   ],
   "source": [
    "accs, cv_means, cv_stds = [],[],[]\n",
    "accs_v, cv_means_v, cv_stds_v = [],[],[]\n",
    "reports = []\n",
    "for filename in (pbar := tqdm(dataset.get_file_list())):\n",
    "    start = time.time()\n",
    "    pbar.set_description(filename)\n",
    "    data, labels, groups = dataset.get_data(filename, stimuli=Dataset_subjectDependent.STIMULI_AROUSAL, return_type='mne', sfreq=128)\n",
    "    \n",
    "    data_csd = mne.preprocessing.compute_current_source_density(data)\n",
    "\n",
    "    pli = calculate_pli(data_csd.get_data(), n_jobs=8)\n",
    "\n",
    "    _,acc,cross,train_report = train_model(pli, labels.squeeze(), groups, filename=filename, return_text=True)\n",
    "    report = f\"\\tAROUSAL-{filename}|Acc={round(acc,5)}|10-CV={round(cross.mean(),5)}|STD={round(cross.std(),5)}|Time spend={time.time() - start}\"\n",
    "    print(report)\n",
    "    reports.append(report)\n",
    "    reports.append(train_report)\n",
    "    accs.append(acc)\n",
    "    cv_means.append(cross.mean())\n",
    "    cv_stds.append(cross.std())\n",
    "\n",
    "    _, labels_v, groups_v = dataset.get_data(filename, stimuli=Dataset_subjectDependent.STIMULI_VALENCE, return_type='mne', sfreq=128)\n",
    "    _,acc,cross,train_report = train_model(pli, labels_v.squeeze(), groups_v, filename=filename, return_text=True)\n",
    "    report = f\"\\tVALENCE-{filename}|Acc={round(acc,5)}|10-CV={round(cross.mean(),5)}|STD={round(cross.std(),5)}|Time spend={time.time() - start}\"\n",
    "    print(report)\n",
    "    reports.append(report)\n",
    "    reports.append(train_report)\n",
    "    accs_v.append(acc)\n",
    "    cv_means_v.append(cross.mean())\n",
    "    cv_stds_v.append(cross.std())\n",
    "    # break\n",
    "    # count+=1\n",
    "    # if(count == 5): break\n",
    "report = f\"AROUSAL|Acc={sum(accs)/len(accs)}|10-CV={sum(cv_means)/len(cv_means)}|STD={sum(cv_stds)/len(cv_stds)}\"\n",
    "print(report)\n",
    "reports.append(report)\n",
    "report = f\"VALENCE|Acc={sum(accs_v)/len(accs_v)}|10-CV={sum(cv_means_v)/len(cv_means_v)}|STD={sum(cv_stds_v)/len(cv_stds_v)}\"\n",
    "print(report)\n",
    "reports.append(report)"
   ]
  },
  {
   "cell_type": "code",
   "execution_count": 18,
   "metadata": {},
   "outputs": [
    {
     "name": "stdout",
     "output_type": "stream",
     "text": [
      "\tAROUSAL-s01|Acc=0.955|10-CV=0.60867|STD=0.01301|Time spend=24.069074153900146\n",
      "\tVALENCE-s01|Acc=1.0|10-CV=0.51333|STD=0.03026|Time spend=26.879728078842163\n",
      "\tAROUSAL-s02|Acc=0.86667|10-CV=0.622|STD=0.02001|Time spend=23.054458618164062\n",
      "\tVALENCE-s02|Acc=0.9|10-CV=0.57|STD=0.03531|Time spend=25.784274101257324\n",
      "\tAROUSAL-s03|Acc=0.84833|10-CV=0.8|STD=0.0|Time spend=22.31463313102722\n",
      "\tVALENCE-s03|Acc=0.98167|10-CV=0.51267|STD=0.02032|Time spend=25.074462890625\n",
      "\tAROUSAL-s04|Acc=0.86833|10-CV=0.58533|STD=0.024|Time spend=22.288633108139038\n",
      "\tVALENCE-s04|Acc=0.84167|10-CV=0.594|STD=0.01474|Time spend=25.12016224861145\n",
      "\tAROUSAL-s05|Acc=0.89333|10-CV=0.54067|STD=0.02835|Time spend=21.376088857650757\n",
      "\tVALENCE-s05|Acc=0.75167|10-CV=0.604|STD=0.00904|Time spend=24.219865560531616\n",
      "\tAROUSAL-s06|Acc=0.955|10-CV=0.56667|STD=0.01398|Time spend=24.599836587905884\n",
      "\tVALENCE-s06|Acc=0.86333|10-CV=0.74867|STD=0.00306|Time spend=27.45573854446411\n",
      "\tAROUSAL-s07|Acc=0.96667|10-CV=0.62467|STD=0.00427|Time spend=23.203545331954956\n",
      "\tVALENCE-s07|Acc=0.91|10-CV=0.7|STD=0.0|Time spend=26.224762201309204\n",
      "\tAROUSAL-s08|Acc=0.98667|10-CV=0.576|STD=0.00742|Time spend=22.468754053115845\n",
      "\tVALENCE-s08|Acc=0.98167|10-CV=0.588|STD=0.01707|Time spend=25.046589851379395\n",
      "\tAROUSAL-s09|Acc=0.77833|10-CV=0.594|STD=0.00757|Time spend=21.427249670028687\n",
      "\tVALENCE-s09|Acc=0.93833|10-CV=0.54133|STD=0.02857|Time spend=24.177568674087524\n",
      "\tAROUSAL-s10|Acc=0.97333|10-CV=0.53067|STD=0.01769|Time spend=23.728235960006714\n",
      "\tVALENCE-s10|Acc=0.97333|10-CV=0.57467|STD=0.03538|Time spend=26.658421277999878\n",
      "\tAROUSAL-s11|Acc=0.825|10-CV=0.62733|STD=0.002|Time spend=22.221298217773438\n",
      "\tVALENCE-s11|Acc=0.84833|10-CV=0.586|STD=0.01413|Time spend=25.018811464309692\n",
      "\tAROUSAL-s12|Acc=0.865|10-CV=0.82667|STD=0.0|Time spend=21.4825918674469\n",
      "\tVALENCE-s12|Acc=0.99667|10-CV=0.574|STD=0.04242|Time spend=24.146753072738647\n",
      "\tAROUSAL-s13|Acc=0.88333|10-CV=0.85|STD=0.00333|Time spend=21.13942551612854\n",
      "\tVALENCE-s13|Acc=0.93|10-CV=0.56333|STD=0.01892|Time spend=23.975932598114014\n",
      "\tAROUSAL-s14|Acc=0.84833|10-CV=0.67333|STD=0.0|Time spend=20.996950387954712\n",
      "\tVALENCE-s14|Acc=0.985|10-CV=0.538|STD=0.03676|Time spend=23.835551500320435\n",
      "\tAROUSAL-s15|Acc=0.99|10-CV=0.496|STD=0.04035|Time spend=22.612080335617065\n",
      "\tVALENCE-s15|Acc=0.98667|10-CV=0.572|STD=0.03874|Time spend=25.321359872817993\n",
      "\tAROUSAL-s16|Acc=0.99667|10-CV=0.48867|STD=0.02798|Time spend=22.11796259880066\n",
      "\tVALENCE-s16|Acc=0.94667|10-CV=0.62333|STD=0.00803|Time spend=24.800981283187866\n",
      "\tAROUSAL-s17|Acc=0.81833|10-CV=0.60333|STD=0.02463|Time spend=21.497727870941162\n",
      "\tVALENCE-s17|Acc=0.91167|10-CV=0.55867|STD=0.02778|Time spend=24.193952322006226\n",
      "\tAROUSAL-s18|Acc=0.875|10-CV=0.62733|STD=0.002|Time spend=21.34982132911682\n",
      "\tVALENCE-s18|Acc=0.91667|10-CV=0.59867|STD=0.01327|Time spend=24.19380497932434\n",
      "\tAROUSAL-s19|Acc=0.71|10-CV=0.67333|STD=0.0|Time spend=20.619266986846924\n",
      "\tVALENCE-s19|Acc=0.79833|10-CV=0.56267|STD=0.01083|Time spend=23.279396295547485\n",
      "\tAROUSAL-s20|Acc=0.87|10-CV=0.77333|STD=0.0|Time spend=23.789615631103516\n",
      "\tVALENCE-s20|Acc=0.955|10-CV=0.564|STD=0.02235|Time spend=26.43101167678833\n",
      "\tAROUSAL-s21|Acc=0.82667|10-CV=0.8|STD=0.0|Time spend=22.056713342666626\n",
      "\tVALENCE-s21|Acc=0.96667|10-CV=0.472|STD=0.03625|Time spend=24.97709608078003\n",
      "\tAROUSAL-s22|Acc=0.76333|10-CV=0.594|STD=0.00867|Time spend=21.731653451919556\n",
      "\tVALENCE-s22|Acc=0.85833|10-CV=0.55467|STD=0.01928|Time spend=24.374091863632202\n",
      "\tAROUSAL-s23|Acc=0.91167|10-CV=0.75|STD=0.00333|Time spend=21.96819758415222\n",
      "\tVALENCE-s23|Acc=0.96667|10-CV=0.64933|STD=0.00327|Time spend=24.826646089553833\n",
      "\tAROUSAL-s24|Acc=0.83|10-CV=0.82667|STD=0.0|Time spend=20.096623182296753\n",
      "\tVALENCE-s24|Acc=0.94167|10-CV=0.55333|STD=0.02716|Time spend=22.879287242889404\n",
      "\tAROUSAL-s25|Acc=0.77167|10-CV=0.72667|STD=0.0|Time spend=21.194871187210083\n",
      "\tVALENCE-s25|Acc=0.925|10-CV=0.536|STD=0.03654|Time spend=23.89259672164917\n",
      "\tAROUSAL-s26|Acc=0.93667|10-CV=0.564|STD=0.01467|Time spend=22.07230019569397\n",
      "\tVALENCE-s26|Acc=0.82833|10-CV=0.64533|STD=0.00718|Time spend=24.709233283996582\n",
      "\tAROUSAL-s27|Acc=0.94|10-CV=0.67333|STD=0.0|Time spend=22.182661294937134\n",
      "\tVALENCE-s27|Acc=0.9|10-CV=0.74867|STD=0.00306|Time spend=24.79986000061035\n",
      "\tAROUSAL-s28|Acc=0.94667|10-CV=0.54733|STD=0.02898|Time spend=21.28981304168701\n",
      "\tVALENCE-s28|Acc=0.93|10-CV=0.62733|STD=0.00757|Time spend=23.880322694778442\n",
      "\tAROUSAL-s29|Acc=0.87333|10-CV=0.624|STD=0.00998|Time spend=21.322614431381226\n",
      "\tVALENCE-s29|Acc=0.88833|10-CV=0.56067|STD=0.02097|Time spend=24.059869050979614\n",
      "\tAROUSAL-s30|Acc=0.95333|10-CV=0.52|STD=0.02966|Time spend=21.310959100723267\n",
      "\tVALENCE-s30|Acc=0.77333|10-CV=0.67333|STD=0.0|Time spend=23.999120712280273\n",
      "\tAROUSAL-s31|Acc=0.99333|10-CV=0.57|STD=0.02049|Time spend=21.282180309295654\n",
      "\tVALENCE-s31|Acc=0.98|10-CV=0.574|STD=0.01315|Time spend=23.83587098121643\n",
      "\tAROUSAL-s32|Acc=0.84833|10-CV=0.67333|STD=0.0|Time spend=21.08171010017395\n",
      "\tVALENCE-s32|Acc=0.98167|10-CV=0.51133|STD=0.03795|Time spend=23.93246555328369\n",
      "AROUSAL|Acc=0.8865104166666665|10-CV=0.6424166666666666|STD=0.011012131875557033\n",
      "VALENCE|Acc=0.917395833333333|10-CV=0.5872916666666667|STD=0.01997886586134689\n",
      "TOTAL|Acc=0.901953125|10-CV=0.6148541666666666|STD=0.01549549886845196\n"
     ]
    }
   ],
   "source": [
    "for text in reports:\n",
    "    if(text == None): continue\n",
    "    print(text)\n",
    "\n",
    "accs.extend(accs_v)\n",
    "cv_means.extend(cv_means_v)\n",
    "cv_stds.extend(cv_stds_v)\n",
    "print(f\"TOTAL|Acc={sum(accs)/len(accs)}|10-CV={sum(cv_means)/len(cv_means)}|STD={sum(cv_stds)/len(cv_stds)}\")"
   ]
  },
  {
   "cell_type": "markdown",
   "metadata": {},
   "source": [
    "## 5. CSP"
   ]
  },
  {
   "cell_type": "code",
   "execution_count": 19,
   "metadata": {},
   "outputs": [],
   "source": [
    "from components.CSP import CSP\n",
    "from mne_features.feature_extraction import FeatureExtractor\n",
    "\n",
    "bands = [(0,4), (4,8), (8,12), (12,30), (30,64)]\n",
    "# [alias_feature_function]__[optional_param]\n",
    "params = dict({\n",
    "    'pow_freq_bands__log':True,\n",
    "    'pow_freq_bands__normalize':False,\n",
    "    'pow_freq_bands__freq_bands':bands\n",
    "})"
   ]
  },
  {
   "cell_type": "code",
   "execution_count": 20,
   "metadata": {},
   "outputs": [
    {
     "data": {
      "application/vnd.jupyter.widget-view+json": {
       "model_id": "2e84cf0f42be4c958c25688d03935d1b",
       "version_major": 2,
       "version_minor": 0
      },
      "text/plain": [
       "  0%|          | 0/32 [00:00<?, ?it/s]"
      ]
     },
     "metadata": {},
     "output_type": "display_data"
    },
    {
     "name": "stderr",
     "output_type": "stream",
     "text": [
      "/root/projects/components/CSP.py:78: ComplexWarning: Casting complex values to real discards the imaginary part\n",
      "  return SFa.astype(np.float32)\n"
     ]
    },
    {
     "name": "stdout",
     "output_type": "stream",
     "text": [
      "\tAROUSAL-s01|Acc=0.795|10-CV=0.77733|STD=0.03186|Time spend=1.5473241806030273\n"
     ]
    },
    {
     "name": "stderr",
     "output_type": "stream",
     "text": [
      "/root/projects/components/CSP.py:78: ComplexWarning: Casting complex values to real discards the imaginary part\n",
      "  return SFa.astype(np.float32)\n"
     ]
    },
    {
     "name": "stdout",
     "output_type": "stream",
     "text": [
      "\tAROUSAL-s02|Acc=0.61333|10-CV=0.60867|STD=0.00733|Time spend=0.9724068641662598\n"
     ]
    },
    {
     "name": "stderr",
     "output_type": "stream",
     "text": [
      "/root/projects/components/CSP.py:78: ComplexWarning: Casting complex values to real discards the imaginary part\n",
      "  return SFa.astype(np.float32)\n"
     ]
    },
    {
     "name": "stdout",
     "output_type": "stream",
     "text": [
      "-----WARNING: Model s03 failed to learn: sum(ans)=0.0 sum(y)=120.0 len(y)=600\n",
      "\tAROUSAL-s03|Acc=0.8|10-CV=0.8|STD=0.0|Time spend=1.2516264915466309\n"
     ]
    },
    {
     "name": "stderr",
     "output_type": "stream",
     "text": [
      "/root/projects/components/CSP.py:78: ComplexWarning: Casting complex values to real discards the imaginary part\n",
      "  return SFa.astype(np.float32)\n"
     ]
    },
    {
     "name": "stdout",
     "output_type": "stream",
     "text": [
      "\tAROUSAL-s04|Acc=1.0|10-CV=1.0|STD=0.0|Time spend=1.0667319297790527\n"
     ]
    },
    {
     "name": "stderr",
     "output_type": "stream",
     "text": [
      "/root/projects/components/CSP.py:78: ComplexWarning: Casting complex values to real discards the imaginary part\n",
      "  return SFa.astype(np.float32)\n"
     ]
    },
    {
     "name": "stdout",
     "output_type": "stream",
     "text": [
      "\tAROUSAL-s05|Acc=0.73833|10-CV=0.72933|STD=0.02313|Time spend=1.112743854522705\n"
     ]
    },
    {
     "name": "stderr",
     "output_type": "stream",
     "text": [
      "/root/projects/components/CSP.py:78: ComplexWarning: Casting complex values to real discards the imaginary part\n",
      "  return SFa.astype(np.float32)\n"
     ]
    },
    {
     "name": "stdout",
     "output_type": "stream",
     "text": [
      "\tAROUSAL-s06|Acc=0.62|10-CV=0.61333|STD=0.02781|Time spend=0.5720171928405762\n"
     ]
    },
    {
     "name": "stderr",
     "output_type": "stream",
     "text": [
      "/root/projects/components/CSP.py:78: ComplexWarning: Casting complex values to real discards the imaginary part\n",
      "  return SFa.astype(np.float32)\n"
     ]
    },
    {
     "name": "stdout",
     "output_type": "stream",
     "text": [
      "-----WARNING: Model s07 failed to learn: sum(ans)=600.0 sum(y)=375.0 len(y)=600\n",
      "\tAROUSAL-s07|Acc=0.625|10-CV=0.62667|STD=0.0|Time spend=0.574836254119873\n"
     ]
    },
    {
     "name": "stderr",
     "output_type": "stream",
     "text": [
      "/root/projects/components/CSP.py:78: ComplexWarning: Casting complex values to real discards the imaginary part\n",
      "  return SFa.astype(np.float32)\n"
     ]
    },
    {
     "name": "stdout",
     "output_type": "stream",
     "text": [
      "\tAROUSAL-s08|Acc=0.93667|10-CV=0.92533|STD=0.01485|Time spend=0.612048864364624\n"
     ]
    },
    {
     "name": "stderr",
     "output_type": "stream",
     "text": [
      "/root/projects/components/CSP.py:78: ComplexWarning: Casting complex values to real discards the imaginary part\n",
      "  return SFa.astype(np.float32)\n"
     ]
    },
    {
     "name": "stdout",
     "output_type": "stream",
     "text": [
      "\tAROUSAL-s09|Acc=0.90667|10-CV=0.88733|STD=0.0222|Time spend=0.5611758232116699\n"
     ]
    },
    {
     "name": "stderr",
     "output_type": "stream",
     "text": [
      "/root/projects/components/CSP.py:78: ComplexWarning: Casting complex values to real discards the imaginary part\n",
      "  return SFa.astype(np.float32)\n"
     ]
    },
    {
     "name": "stdout",
     "output_type": "stream",
     "text": [
      "\tAROUSAL-s10|Acc=0.57667|10-CV=0.552|STD=0.02993|Time spend=0.6211526393890381\n"
     ]
    },
    {
     "name": "stderr",
     "output_type": "stream",
     "text": [
      "/root/projects/components/CSP.py:78: ComplexWarning: Casting complex values to real discards the imaginary part\n",
      "  return SFa.astype(np.float32)\n"
     ]
    },
    {
     "name": "stdout",
     "output_type": "stream",
     "text": [
      "\tAROUSAL-s11|Acc=0.97333|10-CV=0.97333|STD=0.01193|Time spend=0.6522154808044434\n"
     ]
    },
    {
     "name": "stderr",
     "output_type": "stream",
     "text": [
      "/root/projects/components/CSP.py:78: ComplexWarning: Casting complex values to real discards the imaginary part\n",
      "  return SFa.astype(np.float32)\n"
     ]
    },
    {
     "name": "stdout",
     "output_type": "stream",
     "text": [
      "\tAROUSAL-s12|Acc=0.84667|10-CV=0.832|STD=0.00718|Time spend=0.5548896789550781\n"
     ]
    },
    {
     "name": "stderr",
     "output_type": "stream",
     "text": [
      "/root/projects/components/CSP.py:78: ComplexWarning: Casting complex values to real discards the imaginary part\n",
      "  return SFa.astype(np.float32)\n"
     ]
    },
    {
     "name": "stdout",
     "output_type": "stream",
     "text": [
      "-----WARNING: Model s13 failed to learn: sum(ans)=600.0 sum(y)=510.0 len(y)=600\n",
      "\tAROUSAL-s13|Acc=0.85|10-CV=0.85|STD=0.00333|Time spend=0.5664370059967041\n"
     ]
    },
    {
     "name": "stderr",
     "output_type": "stream",
     "text": [
      "/root/projects/components/CSP.py:78: ComplexWarning: Casting complex values to real discards the imaginary part\n",
      "  return SFa.astype(np.float32)\n"
     ]
    },
    {
     "name": "stdout",
     "output_type": "stream",
     "text": [
      "\tAROUSAL-s14|Acc=0.92|10-CV=0.91333|STD=0.01909|Time spend=0.7048397064208984\n"
     ]
    },
    {
     "name": "stderr",
     "output_type": "stream",
     "text": [
      "/root/projects/components/CSP.py:78: ComplexWarning: Casting complex values to real discards the imaginary part\n",
      "  return SFa.astype(np.float32)\n"
     ]
    },
    {
     "name": "stdout",
     "output_type": "stream",
     "text": [
      "\tAROUSAL-s15|Acc=0.60333|10-CV=0.58867|STD=0.02733|Time spend=0.6014211177825928\n"
     ]
    },
    {
     "name": "stderr",
     "output_type": "stream",
     "text": [
      "/root/projects/components/CSP.py:78: ComplexWarning: Casting complex values to real discards the imaginary part\n",
      "  return SFa.astype(np.float32)\n"
     ]
    },
    {
     "name": "stdout",
     "output_type": "stream",
     "text": [
      "\tAROUSAL-s16|Acc=0.99|10-CV=0.98933|STD=0.00742|Time spend=0.5442519187927246\n"
     ]
    },
    {
     "name": "stderr",
     "output_type": "stream",
     "text": [
      "/root/projects/components/CSP.py:78: ComplexWarning: Casting complex values to real discards the imaginary part\n",
      "  return SFa.astype(np.float32)\n"
     ]
    },
    {
     "name": "stdout",
     "output_type": "stream",
     "text": [
      "\tAROUSAL-s17|Acc=0.67667|10-CV=0.656|STD=0.03043|Time spend=0.5652341842651367\n"
     ]
    },
    {
     "name": "stderr",
     "output_type": "stream",
     "text": [
      "/root/projects/components/CSP.py:78: ComplexWarning: Casting complex values to real discards the imaginary part\n",
      "  return SFa.astype(np.float32)\n"
     ]
    },
    {
     "name": "stdout",
     "output_type": "stream",
     "text": [
      "\tAROUSAL-s18|Acc=0.63667|10-CV=0.626|STD=0.01281|Time spend=0.7552816867828369\n"
     ]
    },
    {
     "name": "stderr",
     "output_type": "stream",
     "text": [
      "/root/projects/components/CSP.py:78: ComplexWarning: Casting complex values to real discards the imaginary part\n",
      "  return SFa.astype(np.float32)\n"
     ]
    },
    {
     "name": "stdout",
     "output_type": "stream",
     "text": [
      "-----WARNING: Model s19 failed to learn: sum(ans)=600.0 sum(y)=405.0 len(y)=600\n",
      "\tAROUSAL-s19|Acc=0.675|10-CV=0.67267|STD=0.002|Time spend=0.6151247024536133\n"
     ]
    },
    {
     "name": "stderr",
     "output_type": "stream",
     "text": [
      "/root/projects/components/CSP.py:78: ComplexWarning: Casting complex values to real discards the imaginary part\n",
      "  return SFa.astype(np.float32)\n"
     ]
    },
    {
     "name": "stdout",
     "output_type": "stream",
     "text": [
      "\tAROUSAL-s20|Acc=0.90833|10-CV=0.89733|STD=0.01914|Time spend=0.5211400985717773\n"
     ]
    },
    {
     "name": "stderr",
     "output_type": "stream",
     "text": [
      "/root/projects/components/CSP.py:78: ComplexWarning: Casting complex values to real discards the imaginary part\n",
      "  return SFa.astype(np.float32)\n"
     ]
    },
    {
     "name": "stdout",
     "output_type": "stream",
     "text": [
      "\tAROUSAL-s21|Acc=0.97|10-CV=0.95733|STD=0.012|Time spend=0.597369909286499\n"
     ]
    },
    {
     "name": "stderr",
     "output_type": "stream",
     "text": [
      "/root/projects/components/CSP.py:78: ComplexWarning: Casting complex values to real discards the imaginary part\n",
      "  return SFa.astype(np.float32)\n"
     ]
    },
    {
     "name": "stdout",
     "output_type": "stream",
     "text": [
      "\tAROUSAL-s22|Acc=0.82667|10-CV=0.81933|STD=0.02375|Time spend=0.5800595283508301\n"
     ]
    },
    {
     "name": "stderr",
     "output_type": "stream",
     "text": [
      "/root/projects/components/CSP.py:78: ComplexWarning: Casting complex values to real discards the imaginary part\n",
      "  return SFa.astype(np.float32)\n"
     ]
    },
    {
     "name": "stdout",
     "output_type": "stream",
     "text": [
      "-----WARNING: Model s23 failed to learn: sum(ans)=0.0 sum(y)=150.0 len(y)=600\n",
      "\tAROUSAL-s23|Acc=0.75|10-CV=0.75|STD=0.00333|Time spend=0.7281157970428467\n"
     ]
    },
    {
     "name": "stderr",
     "output_type": "stream",
     "text": [
      "/root/projects/components/CSP.py:78: ComplexWarning: Casting complex values to real discards the imaginary part\n",
      "  return SFa.astype(np.float32)\n"
     ]
    },
    {
     "name": "stdout",
     "output_type": "stream",
     "text": [
      "-----WARNING: Model s24 failed to learn: sum(ans)=600.0 sum(y)=495.0 len(y)=600\n",
      "\tAROUSAL-s24|Acc=0.825|10-CV=0.82667|STD=0.0|Time spend=0.6027309894561768\n"
     ]
    },
    {
     "name": "stderr",
     "output_type": "stream",
     "text": [
      "/root/projects/components/CSP.py:78: ComplexWarning: Casting complex values to real discards the imaginary part\n",
      "  return SFa.astype(np.float32)\n"
     ]
    },
    {
     "name": "stdout",
     "output_type": "stream",
     "text": [
      "-----WARNING: Model s25 failed to learn: sum(ans)=600.0 sum(y)=435.0 len(y)=600\n",
      "\tAROUSAL-s25|Acc=0.725|10-CV=0.72667|STD=0.0|Time spend=0.7105269432067871\n"
     ]
    },
    {
     "name": "stderr",
     "output_type": "stream",
     "text": [
      "/root/projects/components/CSP.py:78: ComplexWarning: Casting complex values to real discards the imaginary part\n",
      "  return SFa.astype(np.float32)\n"
     ]
    },
    {
     "name": "stdout",
     "output_type": "stream",
     "text": [
      "\tAROUSAL-s26|Acc=0.58833|10-CV=0.55267|STD=0.0201|Time spend=0.6953907012939453\n"
     ]
    },
    {
     "name": "stderr",
     "output_type": "stream",
     "text": [
      "/root/projects/components/CSP.py:78: ComplexWarning: Casting complex values to real discards the imaginary part\n",
      "  return SFa.astype(np.float32)\n"
     ]
    },
    {
     "name": "stdout",
     "output_type": "stream",
     "text": [
      "\tAROUSAL-s27|Acc=0.90667|10-CV=0.90333|STD=0.01892|Time spend=0.5811784267425537\n"
     ]
    },
    {
     "name": "stderr",
     "output_type": "stream",
     "text": [
      "/root/projects/components/CSP.py:78: ComplexWarning: Casting complex values to real discards the imaginary part\n",
      "  return SFa.astype(np.float32)\n"
     ]
    },
    {
     "name": "stdout",
     "output_type": "stream",
     "text": [
      "\tAROUSAL-s28|Acc=0.96167|10-CV=0.96|STD=0.01549|Time spend=0.5583295822143555\n"
     ]
    },
    {
     "name": "stderr",
     "output_type": "stream",
     "text": [
      "/root/projects/components/CSP.py:78: ComplexWarning: Casting complex values to real discards the imaginary part\n",
      "  return SFa.astype(np.float32)\n"
     ]
    },
    {
     "name": "stdout",
     "output_type": "stream",
     "text": [
      "\tAROUSAL-s29|Acc=0.65167|10-CV=0.64467|STD=0.014|Time spend=0.645134449005127\n"
     ]
    },
    {
     "name": "stderr",
     "output_type": "stream",
     "text": [
      "/root/projects/components/CSP.py:78: ComplexWarning: Casting complex values to real discards the imaginary part\n",
      "  return SFa.astype(np.float32)\n"
     ]
    },
    {
     "name": "stdout",
     "output_type": "stream",
     "text": [
      "\tAROUSAL-s30|Acc=0.89167|10-CV=0.89067|STD=0.01937|Time spend=0.6278626918792725\n"
     ]
    },
    {
     "name": "stderr",
     "output_type": "stream",
     "text": [
      "/root/projects/components/CSP.py:78: ComplexWarning: Casting complex values to real discards the imaginary part\n",
      "  return SFa.astype(np.float32)\n"
     ]
    },
    {
     "name": "stdout",
     "output_type": "stream",
     "text": [
      "\tAROUSAL-s31|Acc=0.59833|10-CV=0.578|STD=0.02733|Time spend=0.6416802406311035\n"
     ]
    },
    {
     "name": "stderr",
     "output_type": "stream",
     "text": [
      "/root/projects/components/CSP.py:78: ComplexWarning: Casting complex values to real discards the imaginary part\n",
      "  return SFa.astype(np.float32)\n"
     ]
    },
    {
     "name": "stdout",
     "output_type": "stream",
     "text": [
      "\tAROUSAL-s32|Acc=0.92167|10-CV=0.912|STD=0.01454|Time spend=0.5603609085083008\n",
      "AROUSAL|Acc=0.7908854166666667|10-CV=0.7825|STD=0.014581743002734321\n"
     ]
    }
   ],
   "source": [
    "accs, cv_means, cv_stds = [],[],[]\n",
    "for filename in tqdm(dataset.get_file_list()):\n",
    "\n",
    "    data, labels, groups = dataset.get_data(filename, stimuli=Dataset_subjectDependent.STIMULI_AROUSAL, return_type='numpy')\n",
    "    labels = labels.squeeze()\n",
    "    start = time.time()\n",
    "    filters = CSP(data[labels==0], data[labels==1])\n",
    "    \n",
    "    csp_data = []\n",
    "    for index in range(len(data)):\n",
    "        \n",
    "        # (672, 32) @ (32, 32) = (672, 32)\n",
    "        csp = data[index].T @ filters[labels[index].astype(int)]\n",
    "        # (1, 32, 672)\n",
    "        csp = np.expand_dims(csp.T, axis=0)\n",
    "        csp_data.append(csp)\n",
    "\n",
    "    csp_data = np.vstack(csp_data)\n",
    "    # print(csp_data.shape) => (2400, 32, 128)\n",
    "    fe = FeatureExtractor(sfreq=128, selected_funcs=['pow_freq_bands'],params=params,n_jobs=8)\n",
    "    X = fe.fit_transform(X=csp_data)\n",
    "    # print(X.shape, time.time() - start) => (2400, 160) 1.2374355792999268\n",
    "\n",
    "    assert X.shape[1] == 160\n",
    "    _, acc, cross = train_model(X, labels.reshape(-1), groups, filename=filename)\n",
    "    print(f\"\\tAROUSAL-{filename}|Acc={round(acc,5)}|10-CV={round(cross.mean(),5)}|STD={round(cross.std(),5)}|Time spend={time.time() - start}\")\n",
    "    accs.append(acc)\n",
    "    cv_means.append(cross.mean())\n",
    "    cv_stds.append(cross.std())\n",
    "print(f\"AROUSAL|Acc={sum(accs)/len(accs)}|10-CV={sum(cv_means)/len(cv_means)}|STD={sum(cv_stds)/len(cv_stds)}\")"
   ]
  },
  {
   "cell_type": "code",
   "execution_count": 21,
   "metadata": {},
   "outputs": [
    {
     "data": {
      "application/vnd.jupyter.widget-view+json": {
       "model_id": "d3e5b873116549ddad4542d69bc257ac",
       "version_major": 2,
       "version_minor": 0
      },
      "text/plain": [
       "  0%|          | 0/32 [00:00<?, ?it/s]"
      ]
     },
     "metadata": {},
     "output_type": "display_data"
    },
    {
     "name": "stderr",
     "output_type": "stream",
     "text": [
      "/root/projects/components/CSP.py:78: ComplexWarning: Casting complex values to real discards the imaginary part\n",
      "  return SFa.astype(np.float32)\n"
     ]
    },
    {
     "name": "stdout",
     "output_type": "stream",
     "text": [
      "\tVALENCE-s01|Acc=0.8|10-CV=0.81|STD=0.02637|Time spend=0.6035072803497314\n"
     ]
    },
    {
     "name": "stderr",
     "output_type": "stream",
     "text": [
      "/root/projects/components/CSP.py:78: ComplexWarning: Casting complex values to real discards the imaginary part\n",
      "  return SFa.astype(np.float32)\n"
     ]
    },
    {
     "name": "stdout",
     "output_type": "stream",
     "text": [
      "\tVALENCE-s02|Acc=0.60667|10-CV=0.578|STD=0.02477|Time spend=0.6456127166748047\n"
     ]
    },
    {
     "name": "stderr",
     "output_type": "stream",
     "text": [
      "/root/projects/components/CSP.py:78: ComplexWarning: Casting complex values to real discards the imaginary part\n",
      "  return SFa.astype(np.float32)\n"
     ]
    },
    {
     "name": "stdout",
     "output_type": "stream",
     "text": [
      "\tVALENCE-s03|Acc=0.7|10-CV=0.686|STD=0.04168|Time spend=0.6059386730194092\n"
     ]
    },
    {
     "name": "stderr",
     "output_type": "stream",
     "text": [
      "/root/projects/components/CSP.py:78: ComplexWarning: Casting complex values to real discards the imaginary part\n",
      "  return SFa.astype(np.float32)\n"
     ]
    },
    {
     "name": "stdout",
     "output_type": "stream",
     "text": [
      "\tVALENCE-s04|Acc=0.69833|10-CV=0.68067|STD=0.01672|Time spend=0.7509567737579346\n"
     ]
    },
    {
     "name": "stderr",
     "output_type": "stream",
     "text": [
      "/root/projects/components/CSP.py:78: ComplexWarning: Casting complex values to real discards the imaginary part\n",
      "  return SFa.astype(np.float32)\n"
     ]
    },
    {
     "name": "stdout",
     "output_type": "stream",
     "text": [
      "\tVALENCE-s05|Acc=0.86833|10-CV=0.85933|STD=0.018|Time spend=0.5680437088012695\n"
     ]
    },
    {
     "name": "stderr",
     "output_type": "stream",
     "text": [
      "/root/projects/components/CSP.py:78: ComplexWarning: Casting complex values to real discards the imaginary part\n",
      "  return SFa.astype(np.float32)\n"
     ]
    },
    {
     "name": "stdout",
     "output_type": "stream",
     "text": [
      "-----WARNING: Model s06 failed to learn: sum(ans)=600.0 sum(y)=450.0 len(y)=600\n",
      "\tVALENCE-s06|Acc=0.75|10-CV=0.748|STD=0.00267|Time spend=0.6046767234802246\n"
     ]
    },
    {
     "name": "stderr",
     "output_type": "stream",
     "text": [
      "/root/projects/components/CSP.py:78: ComplexWarning: Casting complex values to real discards the imaginary part\n",
      "  return SFa.astype(np.float32)\n"
     ]
    },
    {
     "name": "stdout",
     "output_type": "stream",
     "text": [
      "-----WARNING: Model s07 failed to learn: sum(ans)=600.0 sum(y)=420.0 len(y)=600\n",
      "\tVALENCE-s07|Acc=0.7|10-CV=0.7|STD=0.0|Time spend=0.5815403461456299\n"
     ]
    },
    {
     "name": "stderr",
     "output_type": "stream",
     "text": [
      "/root/projects/components/CSP.py:78: ComplexWarning: Casting complex values to real discards the imaginary part\n",
      "  return SFa.astype(np.float32)\n"
     ]
    },
    {
     "name": "stdout",
     "output_type": "stream",
     "text": [
      "\tVALENCE-s08|Acc=0.59167|10-CV=0.548|STD=0.03781|Time spend=0.6551337242126465\n"
     ]
    },
    {
     "name": "stderr",
     "output_type": "stream",
     "text": [
      "/root/projects/components/CSP.py:78: ComplexWarning: Casting complex values to real discards the imaginary part\n",
      "  return SFa.astype(np.float32)\n"
     ]
    },
    {
     "name": "stdout",
     "output_type": "stream",
     "text": [
      "\tVALENCE-s09|Acc=0.91|10-CV=0.90133|STD=0.01293|Time spend=0.5861673355102539\n"
     ]
    },
    {
     "name": "stderr",
     "output_type": "stream",
     "text": [
      "/root/projects/components/CSP.py:78: ComplexWarning: Casting complex values to real discards the imaginary part\n",
      "  return SFa.astype(np.float32)\n"
     ]
    },
    {
     "name": "stdout",
     "output_type": "stream",
     "text": [
      "\tVALENCE-s10|Acc=0.96167|10-CV=0.954|STD=0.02772|Time spend=0.5674166679382324\n"
     ]
    },
    {
     "name": "stderr",
     "output_type": "stream",
     "text": [
      "/root/projects/components/CSP.py:78: ComplexWarning: Casting complex values to real discards the imaginary part\n",
      "  return SFa.astype(np.float32)\n"
     ]
    },
    {
     "name": "stdout",
     "output_type": "stream",
     "text": [
      "\tVALENCE-s11|Acc=0.60667|10-CV=0.6|STD=0.01033|Time spend=0.6710550785064697\n"
     ]
    },
    {
     "name": "stderr",
     "output_type": "stream",
     "text": [
      "/root/projects/components/CSP.py:78: ComplexWarning: Casting complex values to real discards the imaginary part\n",
      "  return SFa.astype(np.float32)\n"
     ]
    },
    {
     "name": "stdout",
     "output_type": "stream",
     "text": [
      "\tVALENCE-s12|Acc=0.78667|10-CV=0.77667|STD=0.03044|Time spend=0.607128381729126\n"
     ]
    },
    {
     "name": "stderr",
     "output_type": "stream",
     "text": [
      "/root/projects/components/CSP.py:78: ComplexWarning: Casting complex values to real discards the imaginary part\n",
      "  return SFa.astype(np.float32)\n"
     ]
    },
    {
     "name": "stdout",
     "output_type": "stream",
     "text": [
      "\tVALENCE-s13|Acc=0.75833|10-CV=0.752|STD=0.01996|Time spend=0.657191276550293\n"
     ]
    },
    {
     "name": "stderr",
     "output_type": "stream",
     "text": [
      "/root/projects/components/CSP.py:78: ComplexWarning: Casting complex values to real discards the imaginary part\n",
      "  return SFa.astype(np.float32)\n"
     ]
    },
    {
     "name": "stdout",
     "output_type": "stream",
     "text": [
      "\tVALENCE-s14|Acc=0.635|10-CV=0.598|STD=0.03528|Time spend=0.6170041561126709\n"
     ]
    },
    {
     "name": "stderr",
     "output_type": "stream",
     "text": [
      "/root/projects/components/CSP.py:78: ComplexWarning: Casting complex values to real discards the imaginary part\n",
      "  return SFa.astype(np.float32)\n"
     ]
    },
    {
     "name": "stdout",
     "output_type": "stream",
     "text": [
      "\tVALENCE-s15|Acc=0.83333|10-CV=0.83533|STD=0.03239|Time spend=0.7687163352966309\n"
     ]
    },
    {
     "name": "stderr",
     "output_type": "stream",
     "text": [
      "/root/projects/components/CSP.py:78: ComplexWarning: Casting complex values to real discards the imaginary part\n",
      "  return SFa.astype(np.float32)\n"
     ]
    },
    {
     "name": "stdout",
     "output_type": "stream",
     "text": [
      "\tVALENCE-s16|Acc=0.68|10-CV=0.66533|STD=0.01185|Time spend=0.7256669998168945\n"
     ]
    },
    {
     "name": "stderr",
     "output_type": "stream",
     "text": [
      "/root/projects/components/CSP.py:78: ComplexWarning: Casting complex values to real discards the imaginary part\n",
      "  return SFa.astype(np.float32)\n"
     ]
    },
    {
     "name": "stdout",
     "output_type": "stream",
     "text": [
      "\tVALENCE-s17|Acc=0.605|10-CV=0.59133|STD=0.02212|Time spend=0.621788501739502\n"
     ]
    },
    {
     "name": "stderr",
     "output_type": "stream",
     "text": [
      "/root/projects/components/CSP.py:78: ComplexWarning: Casting complex values to real discards the imaginary part\n",
      "  return SFa.astype(np.float32)\n"
     ]
    },
    {
     "name": "stdout",
     "output_type": "stream",
     "text": [
      "\tVALENCE-s18|Acc=0.615|10-CV=0.606|STD=0.00757|Time spend=0.6440103054046631\n"
     ]
    },
    {
     "name": "stderr",
     "output_type": "stream",
     "text": [
      "/root/projects/components/CSP.py:78: ComplexWarning: Casting complex values to real discards the imaginary part\n",
      "  return SFa.astype(np.float32)\n"
     ]
    },
    {
     "name": "stdout",
     "output_type": "stream",
     "text": [
      "\tVALENCE-s19|Acc=0.99833|10-CV=0.99667|STD=0.00333|Time spend=0.5441417694091797\n"
     ]
    },
    {
     "name": "stderr",
     "output_type": "stream",
     "text": [
      "/root/projects/components/CSP.py:78: ComplexWarning: Casting complex values to real discards the imaginary part\n",
      "  return SFa.astype(np.float32)\n"
     ]
    },
    {
     "name": "stdout",
     "output_type": "stream",
     "text": [
      "\tVALENCE-s20|Acc=0.94167|10-CV=0.928|STD=0.02207|Time spend=0.5963866710662842\n"
     ]
    },
    {
     "name": "stderr",
     "output_type": "stream",
     "text": [
      "/root/projects/components/CSP.py:78: ComplexWarning: Casting complex values to real discards the imaginary part\n",
      "  return SFa.astype(np.float32)\n"
     ]
    },
    {
     "name": "stdout",
     "output_type": "stream",
     "text": [
      "\tVALENCE-s21|Acc=0.545|10-CV=0.514|STD=0.03379|Time spend=0.6430249214172363\n"
     ]
    },
    {
     "name": "stderr",
     "output_type": "stream",
     "text": [
      "/root/projects/components/CSP.py:78: ComplexWarning: Casting complex values to real discards the imaginary part\n",
      "  return SFa.astype(np.float32)\n"
     ]
    },
    {
     "name": "stdout",
     "output_type": "stream",
     "text": [
      "\tVALENCE-s22|Acc=0.90333|10-CV=0.89533|STD=0.02088|Time spend=0.5466194152832031\n"
     ]
    },
    {
     "name": "stderr",
     "output_type": "stream",
     "text": [
      "/root/projects/components/CSP.py:78: ComplexWarning: Casting complex values to real discards the imaginary part\n",
      "  return SFa.astype(np.float32)\n"
     ]
    },
    {
     "name": "stdout",
     "output_type": "stream",
     "text": [
      "-----WARNING: Model s23 failed to learn: sum(ans)=600.0 sum(y)=390.0 len(y)=600\n",
      "\tVALENCE-s23|Acc=0.65|10-CV=0.648|STD=0.00499|Time spend=0.6276438236236572\n"
     ]
    },
    {
     "name": "stderr",
     "output_type": "stream",
     "text": [
      "/root/projects/components/CSP.py:78: ComplexWarning: Casting complex values to real discards the imaginary part\n",
      "  return SFa.astype(np.float32)\n"
     ]
    },
    {
     "name": "stdout",
     "output_type": "stream",
     "text": [
      "-----WARNING: Model s24 failed to learn: sum(ans)=0.0 sum(y)=270.0 len(y)=600\n",
      "\tVALENCE-s24|Acc=0.55|10-CV=0.538|STD=0.014|Time spend=0.618314266204834\n"
     ]
    },
    {
     "name": "stderr",
     "output_type": "stream",
     "text": [
      "/root/projects/components/CSP.py:78: ComplexWarning: Casting complex values to real discards the imaginary part\n",
      "  return SFa.astype(np.float32)\n"
     ]
    },
    {
     "name": "stdout",
     "output_type": "stream",
     "text": [
      "\tVALENCE-s25|Acc=0.62|10-CV=0.544|STD=0.03617|Time spend=0.7317898273468018\n"
     ]
    },
    {
     "name": "stderr",
     "output_type": "stream",
     "text": [
      "/root/projects/components/CSP.py:78: ComplexWarning: Casting complex values to real discards the imaginary part\n",
      "  return SFa.astype(np.float32)\n"
     ]
    },
    {
     "name": "stdout",
     "output_type": "stream",
     "text": [
      "\tVALENCE-s26|Acc=0.78|10-CV=0.73733|STD=0.01914|Time spend=0.5626301765441895\n"
     ]
    },
    {
     "name": "stderr",
     "output_type": "stream",
     "text": [
      "/root/projects/components/CSP.py:78: ComplexWarning: Casting complex values to real discards the imaginary part\n",
      "  return SFa.astype(np.float32)\n"
     ]
    },
    {
     "name": "stdout",
     "output_type": "stream",
     "text": [
      "\tVALENCE-s27|Acc=0.75167|10-CV=0.74733|STD=0.00629|Time spend=0.5809259414672852\n"
     ]
    },
    {
     "name": "stderr",
     "output_type": "stream",
     "text": [
      "/root/projects/components/CSP.py:78: ComplexWarning: Casting complex values to real discards the imaginary part\n",
      "  return SFa.astype(np.float32)\n"
     ]
    },
    {
     "name": "stdout",
     "output_type": "stream",
     "text": [
      "\tVALENCE-s28|Acc=0.65167|10-CV=0.63867|STD=0.02104|Time spend=0.6210224628448486\n"
     ]
    },
    {
     "name": "stderr",
     "output_type": "stream",
     "text": [
      "/root/projects/components/CSP.py:78: ComplexWarning: Casting complex values to real discards the imaginary part\n",
      "  return SFa.astype(np.float32)\n"
     ]
    },
    {
     "name": "stdout",
     "output_type": "stream",
     "text": [
      "\tVALENCE-s29|Acc=0.99667|10-CV=0.99467|STD=0.004|Time spend=0.5401668548583984\n"
     ]
    },
    {
     "name": "stderr",
     "output_type": "stream",
     "text": [
      "/root/projects/components/CSP.py:78: ComplexWarning: Casting complex values to real discards the imaginary part\n",
      "  return SFa.astype(np.float32)\n"
     ]
    },
    {
     "name": "stdout",
     "output_type": "stream",
     "text": [
      "-----WARNING: Model s30 failed to learn: sum(ans)=600.0 sum(y)=405.0 len(y)=600\n",
      "\tVALENCE-s30|Acc=0.675|10-CV=0.67333|STD=0.0|Time spend=0.7154042720794678\n"
     ]
    },
    {
     "name": "stderr",
     "output_type": "stream",
     "text": [
      "/root/projects/components/CSP.py:78: ComplexWarning: Casting complex values to real discards the imaginary part\n",
      "  return SFa.astype(np.float32)\n"
     ]
    },
    {
     "name": "stdout",
     "output_type": "stream",
     "text": [
      "\tVALENCE-s31|Acc=0.57667|10-CV=0.57267|STD=0.002|Time spend=0.6332759857177734\n"
     ]
    },
    {
     "name": "stderr",
     "output_type": "stream",
     "text": [
      "/root/projects/components/CSP.py:78: ComplexWarning: Casting complex values to real discards the imaginary part\n",
      "  return SFa.astype(np.float32)\n"
     ]
    },
    {
     "name": "stdout",
     "output_type": "stream",
     "text": [
      "\tVALENCE-s32|Acc=0.63|10-CV=0.62867|STD=0.02067|Time spend=0.6738967895507812\n",
      "VALENCE|Acc=0.7305208333333334|10-CV=0.7170833333333333|STD=0.018343240483007832\n"
     ]
    }
   ],
   "source": [
    "accs_v, cv_means_v, cv_stds_v = [],[],[]\n",
    "for filename in tqdm(dataset.get_file_list()):\n",
    "\n",
    "    data, labels, groups = dataset.get_data(filename, stimuli=Dataset_subjectDependent.STIMULI_VALENCE, return_type='numpy')\n",
    "    labels = labels.squeeze()\n",
    "    start = time.time()\n",
    "    filters = CSP(data[labels==0], data[labels==1])\n",
    "    \n",
    "    csp_data = []\n",
    "    for index in range(len(data)):\n",
    "        \n",
    "        # (672, 32) @ (32, 32) = (672, 32)\n",
    "        csp = data[index].T @ filters[labels[index].astype(int)]\n",
    "        # (1, 32, 672)\n",
    "        csp = np.expand_dims(csp.T, axis=0)\n",
    "        csp_data.append(csp)\n",
    "\n",
    "    csp_data = np.vstack(csp_data)\n",
    "    # print(csp_data.shape) => (2400, 32, 128)\n",
    "    fe = FeatureExtractor(sfreq=128, selected_funcs=['pow_freq_bands'],params=params,n_jobs=8)\n",
    "    X = fe.fit_transform(X=csp_data)\n",
    "    # print(X.shape, time.time() - start) => (2400, 160) 1.2374355792999268\n",
    "\n",
    "    assert X.shape[1] == 160\n",
    "    _, acc, cross = train_model(X, labels.reshape(-1), groups, filename=filename)\n",
    "    print(f\"\\tVALENCE-{filename}|Acc={round(acc,5)}|10-CV={round(cross.mean(),5)}|STD={round(cross.std(),5)}|Time spend={time.time() - start}\")\n",
    "    accs_v.append(acc)\n",
    "    cv_means_v.append(cross.mean())\n",
    "    cv_stds_v.append(cross.std())\n",
    "print(f\"VALENCE|Acc={sum(accs_v)/len(accs_v)}|10-CV={sum(cv_means_v)/len(cv_means_v)}|STD={sum(cv_stds_v)/len(cv_stds_v)}\")"
   ]
  },
  {
   "cell_type": "code",
   "execution_count": 22,
   "metadata": {},
   "outputs": [
    {
     "name": "stdout",
     "output_type": "stream",
     "text": [
      "TOTAL|Acc=0.760703125|10-CV=0.7497916666666665|STD=0.01646249174287107\n"
     ]
    }
   ],
   "source": [
    "accs.extend(accs_v)\n",
    "cv_means.extend(cv_means_v)\n",
    "cv_stds.extend(cv_stds_v)\n",
    "\n",
    "print(f\"TOTAL|Acc={sum(accs)/len(accs)}|10-CV={sum(cv_means)/len(cv_means)}|STD={sum(cv_stds)/len(cv_stds)}\")"
   ]
  },
  {
   "cell_type": "code",
   "execution_count": null,
   "metadata": {},
   "outputs": [],
   "source": []
  }
 ],
 "metadata": {
  "interpreter": {
   "hash": "27768773b483d82a9b2b839e3fa80b1be5789db7fd78df4eedef2df266871616"
  },
  "kernelspec": {
   "display_name": "eeg",
   "language": "python",
   "name": "python3"
  },
  "language_info": {
   "codemirror_mode": {
    "name": "ipython",
    "version": 3
   },
   "file_extension": ".py",
   "mimetype": "text/x-python",
   "name": "python",
   "nbconvert_exporter": "python",
   "pygments_lexer": "ipython3",
   "version": "3.8.10"
  }
 },
 "nbformat": 4,
 "nbformat_minor": 4
}
