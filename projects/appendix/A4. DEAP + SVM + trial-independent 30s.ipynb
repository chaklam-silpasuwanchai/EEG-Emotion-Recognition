{
 "cells": [
  {
   "cell_type": "code",
   "execution_count": 1,
   "metadata": {},
   "outputs": [
    {
     "name": "stdout",
     "output_type": "stream",
     "text": [
      "Found: 32 files\n",
      "s01 (80, 2) [47.5 60. ]\n"
     ]
    }
   ],
   "source": [
    "import time\n",
    "import numpy as np\n",
    "from tqdm.notebook import tqdm\n",
    "\n",
    "from components.dataset_jo import *\n",
    "\n",
    "dataset = Dataset_subjectDependent('data')\n",
    "segment_lenght = 30 #second\n",
    "dataset.set_segment(7680//(128*segment_lenght))\n",
    "for filename in dataset.get_file_list():\n",
    "    data, labels, _ = dataset.get_data(filename, return_type='numpy')\n",
    "    print(filename, labels.shape, labels.sum(axis=0)/labels.shape[0]*100)\n",
    "    break"
   ]
  },
  {
   "cell_type": "code",
   "execution_count": 2,
   "metadata": {},
   "outputs": [],
   "source": [
    "def train_model(X_ori,y_ori,groups_ori,filename=None, kernel='rbf',return_text=False):\n",
    "    # Make a copy because I am paranoid\n",
    "    X,y,groups = X_ori.copy(), y_ori.copy(), groups_ori.copy()\n",
    "\n",
    "    from sklearn.svm import SVC\n",
    "    from sklearn.model_selection import GroupShuffleSplit \n",
    "    from sklearn.model_selection import cross_val_score\n",
    "\n",
    "    model = SVC(kernel=kernel,max_iter=50000)\n",
    "    cv = GroupShuffleSplit(n_splits=10, train_size=0.75, random_state=0)\n",
    "    cross = cross_val_score(model, X, y, cv=cv,groups=groups, n_jobs=8)\n",
    "    \n",
    "    # We probably dont need this\n",
    "    model = SVC(kernel=kernel, max_iter=50000)\n",
    "    model.fit(X, y)\n",
    "    ans = model.predict(X)\n",
    "    acc = sum(ans == y) / len(y)\n",
    "    # If the model answer with all 0 or 1, we print this message\n",
    "    text = None\n",
    "    if( sum(ans) == len(y) or sum(ans) == 0 ): \n",
    "        text = f\"-----WARNING: Model {filename} failed to learn: sum(ans)={sum(ans)} sum(y)={sum(y)} len(y)={len(y)}\"\n",
    "    if(return_text):\n",
    "        return model, acc, cross, text\n",
    "    else:\n",
    "        if(text != None): print(text)\n",
    "        return model, acc, cross"
   ]
  },
  {
   "cell_type": "markdown",
   "metadata": {},
   "source": [
    "## 2. Spectral Features"
   ]
  },
  {
   "cell_type": "code",
   "execution_count": 3,
   "metadata": {},
   "outputs": [],
   "source": [
    "from mne_features.feature_extraction import FeatureExtractor"
   ]
  },
  {
   "cell_type": "code",
   "execution_count": 4,
   "metadata": {},
   "outputs": [
    {
     "name": "stdout",
     "output_type": "stream",
     "text": [
      "-----WARNING: Model s01 failed to learn: sum(ans)=80.0 sum(y)=48.0 len(y)=80\n",
      "\tAROUSAL-s01|Acc=0.6|10-CV=0.56|STD=0.1562|Time spend=31.408523082733154\n",
      "-----WARNING: Model s02 failed to learn: sum(ans)=80.0 sum(y)=48.0 len(y)=80\n",
      "\tAROUSAL-s02|Acc=0.6|10-CV=0.535|STD=0.13048|Time spend=0.45372509956359863\n",
      "-----WARNING: Model s03 failed to learn: sum(ans)=0.0 sum(y)=16.0 len(y)=80\n",
      "\tAROUSAL-s03|Acc=0.8|10-CV=0.73|STD=0.15524|Time spend=0.43322229385375977\n",
      "-----WARNING: Model s04 failed to learn: sum(ans)=0.0 sum(y)=32.0 len(y)=80\n",
      "\tAROUSAL-s04|Acc=0.6|10-CV=0.51|STD=0.09434|Time spend=0.45276379585266113\n",
      "-----WARNING: Model s05 failed to learn: sum(ans)=0.0 sum(y)=38.0 len(y)=80\n",
      "\tAROUSAL-s05|Acc=0.525|10-CV=0.39|STD=0.09434|Time spend=0.43549132347106934\n",
      "\tAROUSAL-s06|Acc=0.6125|10-CV=0.535|STD=0.15008|Time spend=0.44235682487487793\n",
      "\tAROUSAL-s07|Acc=0.6375|10-CV=0.63|STD=0.12083|Time spend=0.4570798873901367\n",
      "-----WARNING: Model s08 failed to learn: sum(ans)=80.0 sum(y)=46.0 len(y)=80\n",
      "\tAROUSAL-s08|Acc=0.575|10-CV=0.425|STD=0.11456|Time spend=0.43729352951049805\n",
      "-----WARNING: Model s09 failed to learn: sum(ans)=80.0 sum(y)=48.0 len(y)=80\n",
      "\tAROUSAL-s09|Acc=0.6|10-CV=0.535|STD=0.11413|Time spend=0.4338657855987549\n",
      "\tAROUSAL-s10|Acc=0.7375|10-CV=0.535|STD=0.18173|Time spend=0.4335823059082031\n",
      "-----WARNING: Model s11 failed to learn: sum(ans)=0.0 sum(y)=30.0 len(y)=80\n",
      "\tAROUSAL-s11|Acc=0.625|10-CV=0.63|STD=0.11|Time spend=0.43900465965270996\n",
      "-----WARNING: Model s12 failed to learn: sum(ans)=80.0 sum(y)=66.0 len(y)=80\n",
      "\tAROUSAL-s12|Acc=0.825|10-CV=0.83|STD=0.1005|Time spend=0.4630887508392334\n",
      "-----WARNING: Model s13 failed to learn: sum(ans)=80.0 sum(y)=68.0 len(y)=80\n",
      "\tAROUSAL-s13|Acc=0.85|10-CV=0.84|STD=0.06633|Time spend=0.4366896152496338\n",
      "-----WARNING: Model s14 failed to learn: sum(ans)=80.0 sum(y)=54.0 len(y)=80\n",
      "\tAROUSAL-s14|Acc=0.675|10-CV=0.65|STD=0.10247|Time spend=0.4286365509033203\n",
      "\tAROUSAL-s15|Acc=0.7|10-CV=0.59|STD=0.11576|Time spend=0.42603039741516113\n",
      "\tAROUSAL-s16|Acc=0.7125|10-CV=0.535|STD=0.12258|Time spend=0.4185652732849121\n",
      "\tAROUSAL-s17|Acc=0.625|10-CV=0.58|STD=0.12689|Time spend=0.5129599571228027\n",
      "-----WARNING: Model s18 failed to learn: sum(ans)=80.0 sum(y)=50.0 len(y)=80\n",
      "\tAROUSAL-s18|Acc=0.625|10-CV=0.595|STD=0.13124|Time spend=0.4553337097167969\n",
      "\tAROUSAL-s19|Acc=0.6875|10-CV=0.63|STD=0.13454|Time spend=0.497403621673584\n",
      "-----WARNING: Model s20 failed to learn: sum(ans)=80.0 sum(y)=62.0 len(y)=80\n",
      "\tAROUSAL-s20|Acc=0.775|10-CV=0.82|STD=0.08718|Time spend=0.4276618957519531\n",
      "-----WARNING: Model s21 failed to learn: sum(ans)=80.0 sum(y)=64.0 len(y)=80\n",
      "\tAROUSAL-s21|Acc=0.8|10-CV=0.8|STD=0.1|Time spend=0.44449806213378906\n",
      "\tAROUSAL-s22|Acc=0.675|10-CV=0.62|STD=0.09274|Time spend=0.48211193084716797\n",
      "-----WARNING: Model s23 failed to learn: sum(ans)=0.0 sum(y)=20.0 len(y)=80\n",
      "\tAROUSAL-s23|Acc=0.75|10-CV=0.78|STD=0.09798|Time spend=0.45415496826171875\n",
      "-----WARNING: Model s24 failed to learn: sum(ans)=80.0 sum(y)=66.0 len(y)=80\n",
      "\tAROUSAL-s24|Acc=0.825|10-CV=0.82|STD=0.07483|Time spend=0.4462246894836426\n",
      "-----WARNING: Model s25 failed to learn: sum(ans)=80.0 sum(y)=58.0 len(y)=80\n",
      "\tAROUSAL-s25|Acc=0.725|10-CV=0.74|STD=0.12806|Time spend=0.5005643367767334\n",
      "-----WARNING: Model s26 failed to learn: sum(ans)=0.0 sum(y)=34.0 len(y)=80\n",
      "\tAROUSAL-s26|Acc=0.575|10-CV=0.525|STD=0.14534|Time spend=0.7838809490203857\n",
      "\tAROUSAL-s27|Acc=0.75|10-CV=0.645|STD=0.10356|Time spend=0.5972616672515869\n",
      "\tAROUSAL-s28|Acc=0.575|10-CV=0.465|STD=0.13611|Time spend=0.49687910079956055\n",
      "-----WARNING: Model s29 failed to learn: sum(ans)=80.0 sum(y)=50.0 len(y)=80\n",
      "\tAROUSAL-s29|Acc=0.625|10-CV=0.53|STD=0.09|Time spend=0.447620153427124\n",
      "\tAROUSAL-s30|Acc=0.7|10-CV=0.51|STD=0.12|Time spend=0.5162312984466553\n",
      "\tAROUSAL-s31|Acc=0.65|10-CV=0.48|STD=0.15524|Time spend=0.497234582901001\n",
      "-----WARNING: Model s32 failed to learn: sum(ans)=80.0 sum(y)=54.0 len(y)=80\n",
      "\tAROUSAL-s32|Acc=0.675|10-CV=0.74|STD=0.13565|Time spend=0.6339106559753418\n",
      "AROUSAL|Acc=0.6785156250000001|10-CV=0.6168750000000001|STD=0.11840410472625604\n",
      "-----WARNING: Model s01 failed to learn: sum(ans)=0.0 sum(y)=38.0 len(y)=80\n",
      "\tVALENCE-s01|Acc=0.525|10-CV=0.395|STD=0.10595|Time spend=0.2012319564819336\n",
      "\tVALENCE-s02|Acc=0.65|10-CV=0.46|STD=0.11358|Time spend=0.24399781227111816\n",
      "-----WARNING: Model s03 failed to learn: sum(ans)=80.0 sum(y)=44.0 len(y)=80\n",
      "\tVALENCE-s03|Acc=0.55|10-CV=0.43|STD=0.12884|Time spend=0.2696089744567871\n",
      "-----WARNING: Model s04 failed to learn: sum(ans)=0.0 sum(y)=32.0 len(y)=80\n",
      "\tVALENCE-s04|Acc=0.6|10-CV=0.49|STD=0.08307|Time spend=0.1928999423980713\n",
      "\tVALENCE-s05|Acc=0.6375|10-CV=0.605|STD=0.11057|Time spend=0.2110598087310791\n",
      "-----WARNING: Model s06 failed to learn: sum(ans)=80.0 sum(y)=60.0 len(y)=80\n",
      "\tVALENCE-s06|Acc=0.75|10-CV=0.72|STD=0.07483|Time spend=0.21335244178771973\n",
      "-----WARNING: Model s07 failed to learn: sum(ans)=80.0 sum(y)=56.0 len(y)=80\n",
      "\tVALENCE-s07|Acc=0.7|10-CV=0.685|STD=0.13048|Time spend=0.19687986373901367\n",
      "\tVALENCE-s08|Acc=0.725|10-CV=0.49|STD=0.10677|Time spend=0.20414161682128906\n",
      "\tVALENCE-s09|Acc=0.775|10-CV=0.525|STD=0.17783|Time spend=0.21634316444396973\n",
      "\tVALENCE-s10|Acc=0.7625|10-CV=0.63|STD=0.20881|Time spend=0.2124948501586914\n",
      "\tVALENCE-s11|Acc=0.7|10-CV=0.555|STD=0.16194|Time spend=0.213547945022583\n",
      "\tVALENCE-s12|Acc=0.675|10-CV=0.485|STD=0.18446|Time spend=0.18698978424072266\n",
      "\tVALENCE-s13|Acc=0.8|10-CV=0.785|STD=0.12855|Time spend=0.19243693351745605\n",
      "\tVALENCE-s14|Acc=0.725|10-CV=0.605|STD=0.13684|Time spend=0.18819069862365723\n",
      "\tVALENCE-s15|Acc=0.8125|10-CV=0.75|STD=0.13601|Time spend=0.1931138038635254\n",
      "\tVALENCE-s16|Acc=0.725|10-CV=0.655|STD=0.1254|Time spend=0.2038288116455078\n",
      "-----WARNING: Model s17 failed to learn: sum(ans)=80.0 sum(y)=44.0 len(y)=80\n",
      "\tVALENCE-s17|Acc=0.55|10-CV=0.425|STD=0.14705|Time spend=0.2020585536956787\n",
      "\tVALENCE-s18|Acc=0.825|10-CV=0.62|STD=0.18193|Time spend=0.21315836906433105\n",
      "\tVALENCE-s19|Acc=0.7125|10-CV=0.485|STD=0.16741|Time spend=0.22351574897766113\n",
      "\tVALENCE-s20|Acc=0.825|10-CV=0.57|STD=0.19131|Time spend=0.18761920928955078\n",
      "\tVALENCE-s21|Acc=0.675|10-CV=0.485|STD=0.12052|Time spend=0.1968545913696289\n",
      "\tVALENCE-s22|Acc=0.7|10-CV=0.56|STD=0.16553|Time spend=0.18986749649047852\n",
      "-----WARNING: Model s23 failed to learn: sum(ans)=80.0 sum(y)=52.0 len(y)=80\n",
      "\tVALENCE-s23|Acc=0.65|10-CV=0.61|STD=0.15133|Time spend=0.21283197402954102\n",
      "-----WARNING: Model s24 failed to learn: sum(ans)=0.0 sum(y)=36.0 len(y)=80\n",
      "\tVALENCE-s24|Acc=0.55|10-CV=0.43|STD=0.18466|Time spend=0.21155834197998047\n",
      "-----WARNING: Model s25 failed to learn: sum(ans)=0.0 sum(y)=38.0 len(y)=80\n",
      "\tVALENCE-s25|Acc=0.525|10-CV=0.36|STD=0.10198|Time spend=0.21469569206237793\n",
      "-----WARNING: Model s26 failed to learn: sum(ans)=80.0 sum(y)=52.0 len(y)=80\n",
      "\tVALENCE-s26|Acc=0.65|10-CV=0.62|STD=0.14177|Time spend=0.1976318359375\n",
      "-----WARNING: Model s27 failed to learn: sum(ans)=80.0 sum(y)=60.0 len(y)=80\n",
      "\tVALENCE-s27|Acc=0.75|10-CV=0.67|STD=0.12689|Time spend=0.19753098487854004\n",
      "-----WARNING: Model s28 failed to learn: sum(ans)=80.0 sum(y)=50.0 len(y)=80\n",
      "\tVALENCE-s28|Acc=0.625|10-CV=0.55|STD=0.15166|Time spend=0.20328617095947266\n",
      "\tVALENCE-s29|Acc=0.6375|10-CV=0.56|STD=0.1179|Time spend=0.24964141845703125\n",
      "-----WARNING: Model s30 failed to learn: sum(ans)=80.0 sum(y)=54.0 len(y)=80\n",
      "\tVALENCE-s30|Acc=0.675|10-CV=0.615|STD=0.13793|Time spend=0.18993258476257324\n",
      "-----WARNING: Model s31 failed to learn: sum(ans)=80.0 sum(y)=46.0 len(y)=80\n",
      "\tVALENCE-s31|Acc=0.575|10-CV=0.47|STD=0.11225|Time spend=0.1950395107269287\n",
      "\tVALENCE-s32|Acc=0.725|10-CV=0.58|STD=0.20025|Time spend=0.1967301368713379\n",
      "VALENCE|Acc=0.680078125|10-CV=0.5585937499999998|STD=0.14107185512758585\n",
      "TOTAL|Acc=0.679296875|10-CV=0.5877343749999999|STD=0.12973797992692096\n"
     ]
    }
   ],
   "source": [
    "bands = [(0,4), (4,8), (8,12), (12,30), (30,64)]\n",
    "# [alias_feature_function]__[optional_param]\n",
    "params = dict({\n",
    "    'pow_freq_bands__log':True,\n",
    "    'pow_freq_bands__normalize':False,\n",
    "    'pow_freq_bands__freq_bands':bands\n",
    "})\n",
    "\n",
    "\n",
    "accs,cv_means,cv_stds  = [],[],[]\n",
    "# count = 0\n",
    "for filename in dataset.get_file_list():\n",
    "    start = time.time()\n",
    "    data, labels, groups = dataset.get_data(filename, stimuli=Dataset_subjectDependent.STIMULI_AROUSAL, return_type='numpy')\n",
    "    fe = FeatureExtractor(sfreq=128, selected_funcs=['pow_freq_bands'],params=params,n_jobs=8)\n",
    "    X = fe.fit_transform(X=data)\n",
    "    _, acc, cross = train_model(X, labels.reshape(-1), groups,filename=filename)\n",
    "    print(f\"\\tAROUSAL-{filename}|Acc={round(acc,5)}|10-CV={round(cross.mean(),5)}|STD={round(cross.std(),5)}|Time spend={time.time() - start}\")\n",
    "    accs.append(acc)\n",
    "    cv_means.append(cross.mean())\n",
    "    cv_stds.append(cross.std())\n",
    "    # count+=1\n",
    "    # if(count == 5): break\n",
    "print(f\"AROUSAL|Acc={sum(accs)/len(accs)}|10-CV={sum(cv_means)/len(cv_means)}|STD={sum(cv_stds)/len(cv_stds)}\")\n",
    "\n",
    "accs_v,cv_means_v,cv_stds_v  = [],[],[]\n",
    "# count=0\n",
    "for filename in dataset.get_file_list():\n",
    "    start = time.time()\n",
    "    data, labels, groups = dataset.get_data(filename, stimuli=Dataset_subjectDependent.STIMULI_VALENCE, return_type='numpy')\n",
    "    fe = FeatureExtractor(sfreq=128, selected_funcs=['pow_freq_bands'],params=params,n_jobs=8)\n",
    "    X = fe.fit_transform(X=data)\n",
    "    _, acc, cross = train_model(X, labels.reshape(-1), groups,filename=filename)\n",
    "    print(f\"\\tVALENCE-{filename}|Acc={round(acc,5)}|10-CV={round(cross.mean(),5)}|STD={round(cross.std(),5)}|Time spend={time.time() - start}\")\n",
    "    accs_v.append(acc)\n",
    "    cv_means_v.append(cross.mean())\n",
    "    cv_stds_v.append(cross.std())\n",
    "    # count+=1\n",
    "    # if(count == 5): break\n",
    "print(f\"VALENCE|Acc={sum(accs_v)/len(accs_v)}|10-CV={sum(cv_means_v)/len(cv_means_v)}|STD={sum(cv_stds_v)/len(cv_stds_v)}\")\n",
    "\n",
    "accs.extend(accs_v)\n",
    "cv_means.extend(cv_means_v)\n",
    "cv_stds.extend(cv_stds_v)\n",
    "print(f\"TOTAL|Acc={sum(accs)/len(accs)}|10-CV={sum(cv_means)/len(cv_means)}|STD={sum(cv_stds)/len(cv_stds)}\")"
   ]
  },
  {
   "cell_type": "markdown",
   "metadata": {},
   "source": [
    "## 3. Asymetry"
   ]
  },
  {
   "cell_type": "code",
   "execution_count": 5,
   "metadata": {},
   "outputs": [
    {
     "name": "stdout",
     "output_type": "stream",
     "text": [
      "left_channel_indexes=[0, 3, 2, 7, 11, 6, 10, 13, 1, 4, 5, 8, 9, 12]\n",
      "right_channel_indexes=[16, 20, 19, 25, 29, 24, 28, 31, 17, 21, 22, 26, 27, 30]\n",
      "frontal_channel_indexes=[4, 5, 22, 21, 3, 2, 18, 19, 20, 0, 16]\n",
      "posterior_channel_indexes=[8, 9, 27, 26, 11, 10, 15, 28, 29, 13, 31]\n"
     ]
    }
   ],
   "source": [
    "channels = ['Fp1','AF3','F3','F7','FC5','FC1','C3','T7','CP5','CP1','P3','P7','PO3','O1','Oz','Pz','Fp2','AF4','Fz','F4','F8','FC6','FC2','Cz','C4','T8','CP6','CP2','P4','P8','PO4','O2']\n",
    "left_channels = ['Fp1','F7','F3','T7','P7','C3','P3','O1','AF3','FC5','FC1','CP5','CP1','PO3']\n",
    "right_channels = ['Fp2','F8','F4','T8','P8','C4','P4','O2','AF4','FC6','FC2','CP6','CP2','PO4']\n",
    "left_channel_indexes = [ channels.index(ch) for ch in left_channels ]\n",
    "right_channel_indexes = [ channels.index(ch) for ch in right_channels ]\n",
    "\n",
    "print(f\"{left_channel_indexes=}\")\n",
    "print(f\"{right_channel_indexes=}\")\n",
    "\n",
    "frontal_channels = ['FC5','FC1','FC2','FC6','F7','F3','Fz','F4','F8','Fp1','Fp2']\n",
    "posterior_channels = ['CP5','CP1','CP2','CP6','P7','P3','Pz','P4','P8','O1','O2']\n",
    "\n",
    "frontal_channel_indexes = [ channels.index(ch) for ch in frontal_channels ]\n",
    "posterior_channel_indexes = [ channels.index(ch) for ch in posterior_channels ]\n",
    "\n",
    "print(f\"{frontal_channel_indexes=}\")\n",
    "print(f\"{posterior_channel_indexes=}\")"
   ]
  },
  {
   "cell_type": "code",
   "execution_count": 6,
   "metadata": {},
   "outputs": [
    {
     "name": "stdout",
     "output_type": "stream",
     "text": [
      "-----WARNING: Model s01 failed to learn: sum(ans)=80.0 sum(y)=48.0 len(y)=80\n",
      "\tAROUSAL-s01-DASM|Acc=0.6|10-CV=0.56|STD=0.1562|Time spend=0.23476338386535645\n",
      "\tAROUSAL-s01-RASM|Acc=0.6375|10-CV=0.565|STD=0.16439|Time spend=0.24602580070495605\n",
      "-----WARNING: Model s01 failed to learn: sum(ans)=80.0 sum(y)=48.0 len(y)=80\n",
      "\tAROUSAL-s01-DCAU|Acc=0.6|10-CV=0.56|STD=0.1562|Time spend=0.2550084590911865\n",
      "-----WARNING: Model s02 failed to learn: sum(ans)=80.0 sum(y)=48.0 len(y)=80\n",
      "\tAROUSAL-s02-DASM|Acc=0.6|10-CV=0.55|STD=0.1118|Time spend=0.19494295120239258\n",
      "\tAROUSAL-s02-RASM|Acc=0.6875|10-CV=0.635|STD=0.12659|Time spend=0.20586776733398438\n",
      "-----WARNING: Model s02 failed to learn: sum(ans)=80.0 sum(y)=48.0 len(y)=80\n",
      "\tAROUSAL-s02-DCAU|Acc=0.6|10-CV=0.555|STD=0.115|Time spend=0.2175743579864502\n",
      "-----WARNING: Model s03 failed to learn: sum(ans)=0.0 sum(y)=16.0 len(y)=80\n",
      "\tAROUSAL-s03-DASM|Acc=0.8|10-CV=0.73|STD=0.15524|Time spend=0.19095873832702637\n",
      "-----WARNING: Model s03 failed to learn: sum(ans)=0.0 sum(y)=16.0 len(y)=80\n",
      "\tAROUSAL-s03-RASM|Acc=0.8|10-CV=0.73|STD=0.15524|Time spend=0.20392775535583496\n",
      "-----WARNING: Model s03 failed to learn: sum(ans)=0.0 sum(y)=16.0 len(y)=80\n",
      "\tAROUSAL-s03-DCAU|Acc=0.8|10-CV=0.73|STD=0.15524|Time spend=0.2147693634033203\n",
      "-----WARNING: Model s04 failed to learn: sum(ans)=0.0 sum(y)=32.0 len(y)=80\n",
      "\tAROUSAL-s04-DASM|Acc=0.6|10-CV=0.505|STD=0.115|Time spend=0.18085575103759766\n",
      "\tAROUSAL-s04-RASM|Acc=0.625|10-CV=0.5|STD=0.09747|Time spend=0.19081521034240723\n",
      "\tAROUSAL-s04-DCAU|Acc=0.7|10-CV=0.515|STD=0.12855|Time spend=0.20038127899169922\n",
      "-----WARNING: Model s05 failed to learn: sum(ans)=0.0 sum(y)=38.0 len(y)=80\n",
      "\tAROUSAL-s05-DASM|Acc=0.525|10-CV=0.38|STD=0.1005|Time spend=0.1889784336090088\n",
      "\tAROUSAL-s05-RASM|Acc=0.5375|10-CV=0.36|STD=0.08307|Time spend=0.20071125030517578\n",
      "\tAROUSAL-s05-DCAU|Acc=0.6|10-CV=0.39|STD=0.09434|Time spend=0.21240639686584473\n",
      "\tAROUSAL-s06-DASM|Acc=0.6125|10-CV=0.515|STD=0.155|Time spend=0.1966235637664795\n",
      "\tAROUSAL-s06-RASM|Acc=0.65|10-CV=0.53|STD=0.15684|Time spend=0.2076420783996582\n",
      "-----WARNING: Model s06 failed to learn: sum(ans)=0.0 sum(y)=34.0 len(y)=80\n",
      "\tAROUSAL-s06-DCAU|Acc=0.575|10-CV=0.52|STD=0.14|Time spend=0.21875977516174316\n",
      "-----WARNING: Model s07 failed to learn: sum(ans)=80.0 sum(y)=50.0 len(y)=80\n",
      "\tAROUSAL-s07-DASM|Acc=0.625|10-CV=0.645|STD=0.135|Time spend=0.21140122413635254\n",
      "\tAROUSAL-s07-RASM|Acc=0.6375|10-CV=0.65|STD=0.14318|Time spend=0.22451543807983398\n",
      "-----WARNING: Model s07 failed to learn: sum(ans)=80.0 sum(y)=50.0 len(y)=80\n",
      "\tAROUSAL-s07-DCAU|Acc=0.625|10-CV=0.65|STD=0.14318|Time spend=0.23550677299499512\n",
      "-----WARNING: Model s08 failed to learn: sum(ans)=80.0 sum(y)=46.0 len(y)=80\n",
      "\tAROUSAL-s08-DASM|Acc=0.575|10-CV=0.44|STD=0.10198|Time spend=0.19229364395141602\n",
      "\tAROUSAL-s08-RASM|Acc=0.5875|10-CV=0.5|STD=0.13416|Time spend=0.20315837860107422\n",
      "\tAROUSAL-s08-DCAU|Acc=0.5875|10-CV=0.43|STD=0.10296|Time spend=0.21377253532409668\n",
      "-----WARNING: Model s09 failed to learn: sum(ans)=80.0 sum(y)=48.0 len(y)=80\n",
      "\tAROUSAL-s09-DASM|Acc=0.6|10-CV=0.535|STD=0.11843|Time spend=0.20154500007629395\n",
      "-----WARNING: Model s09 failed to learn: sum(ans)=80.0 sum(y)=48.0 len(y)=80\n",
      "\tAROUSAL-s09-RASM|Acc=0.6|10-CV=0.505|STD=0.09605|Time spend=0.21393918991088867\n",
      "-----WARNING: Model s09 failed to learn: sum(ans)=80.0 sum(y)=48.0 len(y)=80\n",
      "\tAROUSAL-s09-DCAU|Acc=0.6|10-CV=0.52|STD=0.11446|Time spend=0.2251882553100586\n",
      "\tAROUSAL-s10-DASM|Acc=0.6875|10-CV=0.635|STD=0.105|Time spend=0.21285724639892578\n",
      "\tAROUSAL-s10-RASM|Acc=0.725|10-CV=0.57|STD=0.1249|Time spend=0.2232661247253418\n",
      "\tAROUSAL-s10-DCAU|Acc=0.7125|10-CV=0.645|STD=0.07566|Time spend=0.23300981521606445\n",
      "-----WARNING: Model s11 failed to learn: sum(ans)=0.0 sum(y)=30.0 len(y)=80\n",
      "\tAROUSAL-s11-DASM|Acc=0.625|10-CV=0.62|STD=0.08718|Time spend=0.20889019966125488\n",
      "-----WARNING: Model s11 failed to learn: sum(ans)=0.0 sum(y)=30.0 len(y)=80\n",
      "\tAROUSAL-s11-RASM|Acc=0.625|10-CV=0.625|STD=0.09811|Time spend=0.21985483169555664\n",
      "\tAROUSAL-s11-DCAU|Acc=0.6375|10-CV=0.605|STD=0.065|Time spend=0.22978591918945312\n",
      "-----WARNING: Model s12 failed to learn: sum(ans)=80.0 sum(y)=66.0 len(y)=80\n",
      "\tAROUSAL-s12-DASM|Acc=0.825|10-CV=0.83|STD=0.1005|Time spend=0.1942894458770752\n",
      "-----WARNING: Model s12 failed to learn: sum(ans)=80.0 sum(y)=66.0 len(y)=80\n",
      "\tAROUSAL-s12-RASM|Acc=0.825|10-CV=0.83|STD=0.1005|Time spend=0.20417499542236328\n",
      "-----WARNING: Model s12 failed to learn: sum(ans)=80.0 sum(y)=66.0 len(y)=80\n",
      "\tAROUSAL-s12-DCAU|Acc=0.825|10-CV=0.83|STD=0.1005|Time spend=0.21408319473266602\n",
      "-----WARNING: Model s13 failed to learn: sum(ans)=80.0 sum(y)=68.0 len(y)=80\n",
      "\tAROUSAL-s13-DASM|Acc=0.85|10-CV=0.84|STD=0.06633|Time spend=0.1920320987701416\n",
      "-----WARNING: Model s13 failed to learn: sum(ans)=80.0 sum(y)=68.0 len(y)=80\n",
      "\tAROUSAL-s13-RASM|Acc=0.85|10-CV=0.84|STD=0.06633|Time spend=0.20314335823059082\n",
      "-----WARNING: Model s13 failed to learn: sum(ans)=80.0 sum(y)=68.0 len(y)=80\n",
      "\tAROUSAL-s13-DCAU|Acc=0.85|10-CV=0.84|STD=0.06633|Time spend=0.21459269523620605\n",
      "-----WARNING: Model s14 failed to learn: sum(ans)=80.0 sum(y)=54.0 len(y)=80\n",
      "\tAROUSAL-s14-DASM|Acc=0.675|10-CV=0.65|STD=0.10247|Time spend=0.19541430473327637\n",
      "\tAROUSAL-s14-RASM|Acc=0.6875|10-CV=0.65|STD=0.10247|Time spend=0.2127833366394043\n",
      "-----WARNING: Model s14 failed to learn: sum(ans)=80.0 sum(y)=54.0 len(y)=80\n",
      "\tAROUSAL-s14-DCAU|Acc=0.675|10-CV=0.65|STD=0.10247|Time spend=0.22327041625976562\n",
      "\tAROUSAL-s15-DASM|Acc=0.6625|10-CV=0.555|STD=0.12933|Time spend=0.1891772747039795\n",
      "\tAROUSAL-s15-RASM|Acc=0.5375|10-CV=0.405|STD=0.0789|Time spend=0.20125770568847656\n",
      "\tAROUSAL-s15-DCAU|Acc=0.7125|10-CV=0.55|STD=0.13964|Time spend=0.2110891342163086\n",
      "\tAROUSAL-s16-DASM|Acc=0.675|10-CV=0.545|STD=0.11927|Time spend=0.19832539558410645\n",
      "\tAROUSAL-s16-RASM|Acc=0.6875|10-CV=0.525|STD=0.19268|Time spend=0.21095681190490723\n",
      "\tAROUSAL-s16-DCAU|Acc=0.6625|10-CV=0.565|STD=0.12052|Time spend=0.2225024700164795\n",
      "\tAROUSAL-s17-DASM|Acc=0.6125|10-CV=0.56|STD=0.09165|Time spend=0.20553374290466309\n",
      "\tAROUSAL-s17-RASM|Acc=0.6125|10-CV=0.56|STD=0.09165|Time spend=0.21717619895935059\n",
      "-----WARNING: Model s17 failed to learn: sum(ans)=80.0 sum(y)=48.0 len(y)=80\n",
      "\tAROUSAL-s17-DCAU|Acc=0.6|10-CV=0.565|STD=0.10012|Time spend=0.22660303115844727\n",
      "-----WARNING: Model s18 failed to learn: sum(ans)=80.0 sum(y)=50.0 len(y)=80\n",
      "\tAROUSAL-s18-DASM|Acc=0.625|10-CV=0.59|STD=0.12207|Time spend=0.1939535140991211\n",
      "-----WARNING: Model s18 failed to learn: sum(ans)=80.0 sum(y)=50.0 len(y)=80\n",
      "\tAROUSAL-s18-RASM|Acc=0.625|10-CV=0.6|STD=0.14142|Time spend=0.20518970489501953\n",
      "\tAROUSAL-s18-DCAU|Acc=0.6375|10-CV=0.585|STD=0.11413|Time spend=0.21550607681274414\n",
      "\tAROUSAL-s19-DASM|Acc=0.6875|10-CV=0.63|STD=0.13454|Time spend=0.2114708423614502\n",
      "\tAROUSAL-s19-RASM|Acc=0.7|10-CV=0.635|STD=0.13426|Time spend=0.2228069305419922\n",
      "\tAROUSAL-s19-DCAU|Acc=0.7|10-CV=0.62|STD=0.11662|Time spend=0.23252058029174805\n",
      "-----WARNING: Model s20 failed to learn: sum(ans)=80.0 sum(y)=62.0 len(y)=80\n",
      "\tAROUSAL-s20-DASM|Acc=0.775|10-CV=0.82|STD=0.08718|Time spend=0.20114493370056152\n",
      "-----WARNING: Model s20 failed to learn: sum(ans)=80.0 sum(y)=62.0 len(y)=80\n",
      "\tAROUSAL-s20-RASM|Acc=0.775|10-CV=0.82|STD=0.08718|Time spend=0.21268939971923828\n",
      "-----WARNING: Model s20 failed to learn: sum(ans)=80.0 sum(y)=62.0 len(y)=80\n",
      "\tAROUSAL-s20-DCAU|Acc=0.775|10-CV=0.82|STD=0.08718|Time spend=0.22304749488830566\n",
      "-----WARNING: Model s21 failed to learn: sum(ans)=80.0 sum(y)=64.0 len(y)=80\n",
      "\tAROUSAL-s21-DASM|Acc=0.8|10-CV=0.8|STD=0.1|Time spend=0.18974995613098145\n",
      "-----WARNING: Model s21 failed to learn: sum(ans)=80.0 sum(y)=64.0 len(y)=80\n",
      "\tAROUSAL-s21-RASM|Acc=0.8|10-CV=0.8|STD=0.1|Time spend=0.20151829719543457\n",
      "-----WARNING: Model s21 failed to learn: sum(ans)=80.0 sum(y)=64.0 len(y)=80\n",
      "\tAROUSAL-s21-DCAU|Acc=0.8|10-CV=0.8|STD=0.1|Time spend=0.21322965621948242\n",
      "\tAROUSAL-s22-DASM|Acc=0.7625|10-CV=0.685|STD=0.08382|Time spend=0.18146991729736328\n",
      "\tAROUSAL-s22-RASM|Acc=0.75|10-CV=0.675|STD=0.10308|Time spend=0.19157052040100098\n",
      "\tAROUSAL-s22-DCAU|Acc=0.6875|10-CV=0.625|STD=0.07159|Time spend=0.20188403129577637\n",
      "-----WARNING: Model s23 failed to learn: sum(ans)=0.0 sum(y)=20.0 len(y)=80\n",
      "\tAROUSAL-s23-DASM|Acc=0.75|10-CV=0.78|STD=0.09798|Time spend=0.19882988929748535\n",
      "\tAROUSAL-s23-RASM|Acc=0.775|10-CV=0.765|STD=0.0976|Time spend=0.21084856986999512\n",
      "-----WARNING: Model s23 failed to learn: sum(ans)=0.0 sum(y)=20.0 len(y)=80\n",
      "\tAROUSAL-s23-DCAU|Acc=0.75|10-CV=0.78|STD=0.09798|Time spend=0.22699618339538574\n",
      "-----WARNING: Model s24 failed to learn: sum(ans)=80.0 sum(y)=66.0 len(y)=80\n",
      "\tAROUSAL-s24-DASM|Acc=0.825|10-CV=0.82|STD=0.07483|Time spend=0.1909961700439453\n",
      "-----WARNING: Model s24 failed to learn: sum(ans)=80.0 sum(y)=66.0 len(y)=80\n",
      "\tAROUSAL-s24-RASM|Acc=0.825|10-CV=0.82|STD=0.07483|Time spend=0.20340967178344727\n",
      "-----WARNING: Model s24 failed to learn: sum(ans)=80.0 sum(y)=66.0 len(y)=80\n",
      "\tAROUSAL-s24-DCAU|Acc=0.825|10-CV=0.82|STD=0.07483|Time spend=0.21391749382019043\n",
      "-----WARNING: Model s25 failed to learn: sum(ans)=80.0 sum(y)=58.0 len(y)=80\n",
      "\tAROUSAL-s25-DASM|Acc=0.725|10-CV=0.74|STD=0.12806|Time spend=0.1928720474243164\n",
      "-----WARNING: Model s25 failed to learn: sum(ans)=80.0 sum(y)=58.0 len(y)=80\n",
      "\tAROUSAL-s25-RASM|Acc=0.725|10-CV=0.74|STD=0.12806|Time spend=0.20557665824890137\n",
      "-----WARNING: Model s25 failed to learn: sum(ans)=80.0 sum(y)=58.0 len(y)=80\n",
      "\tAROUSAL-s25-DCAU|Acc=0.725|10-CV=0.74|STD=0.12806|Time spend=0.2172701358795166\n",
      "\tAROUSAL-s26-DASM|Acc=0.675|10-CV=0.57|STD=0.14353|Time spend=0.18846750259399414\n",
      "\tAROUSAL-s26-RASM|Acc=0.5875|10-CV=0.495|STD=0.15564|Time spend=0.20064949989318848\n",
      "\tAROUSAL-s26-DCAU|Acc=0.625|10-CV=0.495|STD=0.11715|Time spend=0.21319079399108887\n",
      "\tAROUSAL-s27-DASM|Acc=0.7125|10-CV=0.635|STD=0.10012|Time spend=0.21014690399169922\n",
      "\tAROUSAL-s27-RASM|Acc=0.75|10-CV=0.665|STD=0.08382|Time spend=0.22190308570861816\n",
      "\tAROUSAL-s27-DCAU|Acc=0.725|10-CV=0.635|STD=0.10735|Time spend=0.23092269897460938\n",
      "-----WARNING: Model s28 failed to learn: sum(ans)=0.0 sum(y)=36.0 len(y)=80\n",
      "\tAROUSAL-s28-DASM|Acc=0.55|10-CV=0.405|STD=0.17529|Time spend=0.21180176734924316\n",
      "-----WARNING: Model s28 failed to learn: sum(ans)=0.0 sum(y)=36.0 len(y)=80\n",
      "\tAROUSAL-s28-RASM|Acc=0.55|10-CV=0.405|STD=0.13124|Time spend=0.2223200798034668\n",
      "-----WARNING: Model s28 failed to learn: sum(ans)=0.0 sum(y)=36.0 len(y)=80\n",
      "\tAROUSAL-s28-DCAU|Acc=0.55|10-CV=0.4|STD=0.15|Time spend=0.2319200038909912\n",
      "-----WARNING: Model s29 failed to learn: sum(ans)=80.0 sum(y)=50.0 len(y)=80\n",
      "\tAROUSAL-s29-DASM|Acc=0.625|10-CV=0.525|STD=0.08139|Time spend=0.18621373176574707\n",
      "\tAROUSAL-s29-RASM|Acc=0.6375|10-CV=0.525|STD=0.09287|Time spend=0.19759440422058105\n",
      "-----WARNING: Model s29 failed to learn: sum(ans)=80.0 sum(y)=50.0 len(y)=80\n",
      "\tAROUSAL-s29-DCAU|Acc=0.625|10-CV=0.51|STD=0.08602|Time spend=0.2081911563873291\n",
      "\tAROUSAL-s30-DASM|Acc=0.7|10-CV=0.455|STD=0.10595|Time spend=0.18597197532653809\n",
      "\tAROUSAL-s30-RASM|Acc=0.5375|10-CV=0.42|STD=0.10536|Time spend=0.19788599014282227\n",
      "\tAROUSAL-s30-DCAU|Acc=0.675|10-CV=0.48|STD=0.1005|Time spend=0.20844054222106934\n",
      "\tAROUSAL-s31-DASM|Acc=0.7125|10-CV=0.57|STD=0.18466|Time spend=0.19266295433044434\n",
      "\tAROUSAL-s31-RASM|Acc=0.5875|10-CV=0.43|STD=0.11874|Time spend=0.20496320724487305\n",
      "\tAROUSAL-s31-DCAU|Acc=0.6625|10-CV=0.555|STD=0.16348|Time spend=0.21471905708312988\n",
      "-----WARNING: Model s32 failed to learn: sum(ans)=80.0 sum(y)=54.0 len(y)=80\n",
      "\tAROUSAL-s32-DASM|Acc=0.675|10-CV=0.75|STD=0.13601|Time spend=0.1811988353729248\n",
      "\tAROUSAL-s32-RASM|Acc=0.6875|10-CV=0.745|STD=0.13124|Time spend=0.19223976135253906\n",
      "-----WARNING: Model s32 failed to learn: sum(ans)=80.0 sum(y)=54.0 len(y)=80\n",
      "\tAROUSAL-s32-DCAU|Acc=0.675|10-CV=0.71|STD=0.16248|Time spend=0.20324254035949707\n",
      "AROUSAL-DASM|Acc=0.6796875000000001|10-CV=0.6209375000000001|STD=0.11582209199688388\n",
      "AROUSAL-RASM|Acc=0.67578125|10-CV=0.6100000000000001|STD=0.11555850311073652\n",
      "AROUSAL-DCAU|Acc=0.6812500000000002|10-CV=0.61546875|STD=0.11242358702714988\n",
      "\tVALENCE-s01-DASM|Acc=0.5375|10-CV=0.415|STD=0.08078|Time spend=0.2057664394378662\n",
      "\tVALENCE-s01-RASM|Acc=0.6|10-CV=0.545|STD=0.13314|Time spend=0.2184441089630127\n",
      "-----WARNING: Model s01 failed to learn: sum(ans)=0.0 sum(y)=38.0 len(y)=80\n",
      "\tVALENCE-s01-DCAU|Acc=0.525|10-CV=0.435|STD=0.10259|Time spend=0.229736328125\n",
      "\tVALENCE-s02-DASM|Acc=0.6375|10-CV=0.53|STD=0.16155|Time spend=0.2064800262451172\n",
      "\tVALENCE-s02-RASM|Acc=0.7125|10-CV=0.575|STD=0.14361|Time spend=0.21613454818725586\n",
      "\tVALENCE-s02-DCAU|Acc=0.7375|10-CV=0.61|STD=0.13928|Time spend=0.22579550743103027\n",
      "-----WARNING: Model s03 failed to learn: sum(ans)=80.0 sum(y)=44.0 len(y)=80\n",
      "\tVALENCE-s03-DASM|Acc=0.55|10-CV=0.435|STD=0.12258|Time spend=0.2255549430847168\n",
      "\tVALENCE-s03-RASM|Acc=0.6|10-CV=0.47|STD=0.14353|Time spend=0.23575186729431152\n",
      "-----WARNING: Model s03 failed to learn: sum(ans)=80.0 sum(y)=44.0 len(y)=80\n",
      "\tVALENCE-s03-DCAU|Acc=0.55|10-CV=0.455|STD=0.135|Time spend=0.24591350555419922\n",
      "\tVALENCE-s04-DASM|Acc=0.6375|10-CV=0.495|STD=0.085|Time spend=0.21513962745666504\n",
      "\tVALENCE-s04-RASM|Acc=0.6625|10-CV=0.54|STD=0.09695|Time spend=0.2261030673980713\n",
      "\tVALENCE-s04-DCAU|Acc=0.7125|10-CV=0.525|STD=0.12698|Time spend=0.23707056045532227\n",
      "\tVALENCE-s05-DASM|Acc=0.6125|10-CV=0.58|STD=0.11|Time spend=0.23311710357666016\n",
      "\tVALENCE-s05-RASM|Acc=0.6625|10-CV=0.605|STD=0.11715|Time spend=0.24547100067138672\n",
      "\tVALENCE-s05-DCAU|Acc=0.625|10-CV=0.555|STD=0.12738|Time spend=0.25956177711486816\n",
      "-----WARNING: Model s06 failed to learn: sum(ans)=80.0 sum(y)=60.0 len(y)=80\n",
      "\tVALENCE-s06-DASM|Acc=0.75|10-CV=0.72|STD=0.07483|Time spend=0.21773338317871094\n",
      "\tVALENCE-s06-RASM|Acc=0.7625|10-CV=0.72|STD=0.07483|Time spend=0.22959113121032715\n",
      "-----WARNING: Model s06 failed to learn: sum(ans)=80.0 sum(y)=60.0 len(y)=80\n",
      "\tVALENCE-s06-DCAU|Acc=0.75|10-CV=0.72|STD=0.07483|Time spend=0.2426137924194336\n",
      "-----WARNING: Model s07 failed to learn: sum(ans)=80.0 sum(y)=56.0 len(y)=80\n",
      "\tVALENCE-s07-DASM|Acc=0.7|10-CV=0.69|STD=0.13748|Time spend=0.2013695240020752\n",
      "\tVALENCE-s07-RASM|Acc=0.7125|10-CV=0.67|STD=0.13638|Time spend=0.2136385440826416\n",
      "-----WARNING: Model s07 failed to learn: sum(ans)=80.0 sum(y)=56.0 len(y)=80\n",
      "\tVALENCE-s07-DCAU|Acc=0.7|10-CV=0.69|STD=0.13748|Time spend=0.22444510459899902\n",
      "\tVALENCE-s08-DASM|Acc=0.7|10-CV=0.54|STD=0.13191|Time spend=0.19417691230773926\n",
      "\tVALENCE-s08-RASM|Acc=0.5625|10-CV=0.445|STD=0.085|Time spend=0.20575237274169922\n",
      "\tVALENCE-s08-DCAU|Acc=0.7375|10-CV=0.525|STD=0.14361|Time spend=0.21646857261657715\n",
      "\tVALENCE-s09-DASM|Acc=0.6875|10-CV=0.415|STD=0.17896|Time spend=0.2217850685119629\n",
      "\tVALENCE-s09-RASM|Acc=0.7375|10-CV=0.495|STD=0.17529|Time spend=0.23490238189697266\n",
      "\tVALENCE-s09-DCAU|Acc=0.7375|10-CV=0.52|STD=0.19|Time spend=0.24590182304382324\n",
      "\tVALENCE-s10-DASM|Acc=0.7375|10-CV=0.645|STD=0.11057|Time spend=0.19719910621643066\n",
      "\tVALENCE-s10-RASM|Acc=0.8|10-CV=0.725|STD=0.11673|Time spend=0.21014070510864258\n",
      "\tVALENCE-s10-DCAU|Acc=0.7625|10-CV=0.73|STD=0.11446|Time spend=0.2244577407836914\n",
      "\tVALENCE-s11-DASM|Acc=0.7125|10-CV=0.61|STD=0.19596|Time spend=0.23571133613586426\n",
      "\tVALENCE-s11-RASM|Acc=0.7125|10-CV=0.63|STD=0.1631|Time spend=0.24983000755310059\n",
      "\tVALENCE-s11-DCAU|Acc=0.725|10-CV=0.66|STD=0.17292|Time spend=0.2626471519470215\n",
      "\tVALENCE-s12-DASM|Acc=0.6125|10-CV=0.495|STD=0.1809|Time spend=0.26285552978515625\n",
      "\tVALENCE-s12-RASM|Acc=0.6875|10-CV=0.455|STD=0.17951|Time spend=0.2789926528930664\n",
      "\tVALENCE-s12-DCAU|Acc=0.6125|10-CV=0.445|STD=0.165|Time spend=0.29146742820739746\n",
      "\tVALENCE-s13-DASM|Acc=0.75|10-CV=0.67|STD=0.13266|Time spend=0.22909784317016602\n",
      "\tVALENCE-s13-RASM|Acc=0.5875|10-CV=0.49|STD=0.1562|Time spend=0.2392430305480957\n",
      "\tVALENCE-s13-DCAU|Acc=0.775|10-CV=0.775|STD=0.125|Time spend=0.2492835521697998\n",
      "\tVALENCE-s14-DASM|Acc=0.6875|10-CV=0.38|STD=0.09|Time spend=0.20053386688232422\n",
      "\tVALENCE-s14-RASM|Acc=0.7375|10-CV=0.65|STD=0.06708|Time spend=0.2123093605041504\n",
      "\tVALENCE-s14-DCAU|Acc=0.7|10-CV=0.455|STD=0.12933|Time spend=0.22284364700317383\n",
      "\tVALENCE-s15-DASM|Acc=0.8|10-CV=0.71|STD=0.12207|Time spend=0.2016773223876953\n",
      "\tVALENCE-s15-RASM|Acc=0.55|10-CV=0.395|STD=0.07228|Time spend=0.21523404121398926\n",
      "\tVALENCE-s15-DCAU|Acc=0.775|10-CV=0.74|STD=0.1241|Time spend=0.22663497924804688\n",
      "\tVALENCE-s16-DASM|Acc=0.7375|10-CV=0.655|STD=0.11057|Time spend=0.21221160888671875\n",
      "\tVALENCE-s16-RASM|Acc=0.65|10-CV=0.635|STD=0.10012|Time spend=0.23226046562194824\n",
      "\tVALENCE-s16-DCAU|Acc=0.725|10-CV=0.65|STD=0.10488|Time spend=0.24988031387329102\n",
      "-----WARNING: Model s17 failed to learn: sum(ans)=80.0 sum(y)=44.0 len(y)=80\n",
      "\tVALENCE-s17-DASM|Acc=0.55|10-CV=0.44|STD=0.14107|Time spend=0.23384451866149902\n",
      "\tVALENCE-s17-RASM|Acc=0.5875|10-CV=0.475|STD=0.175|Time spend=0.2450089454650879\n",
      "-----WARNING: Model s17 failed to learn: sum(ans)=80.0 sum(y)=44.0 len(y)=80\n",
      "\tVALENCE-s17-DCAU|Acc=0.55|10-CV=0.44|STD=0.13565|Time spend=0.25598621368408203\n",
      "\tVALENCE-s18-DASM|Acc=0.75|10-CV=0.57|STD=0.17349|Time spend=0.22345447540283203\n",
      "\tVALENCE-s18-RASM|Acc=0.625|10-CV=0.55|STD=0.15492|Time spend=0.23483872413635254\n",
      "\tVALENCE-s18-DCAU|Acc=0.8|10-CV=0.65|STD=0.18166|Time spend=0.24676275253295898\n",
      "\tVALENCE-s19-DASM|Acc=0.5875|10-CV=0.43|STD=0.17916|Time spend=0.22698497772216797\n",
      "\tVALENCE-s19-RASM|Acc=0.6|10-CV=0.465|STD=0.195|Time spend=0.23822402954101562\n",
      "\tVALENCE-s19-DCAU|Acc=0.625|10-CV=0.475|STD=0.18062|Time spend=0.24862051010131836\n",
      "\tVALENCE-s20-DASM|Acc=0.8125|10-CV=0.585|STD=0.17614|Time spend=0.2380521297454834\n",
      "\tVALENCE-s20-RASM|Acc=0.8|10-CV=0.6|STD=0.2|Time spend=0.25080013275146484\n",
      "\tVALENCE-s20-DCAU|Acc=0.7875|10-CV=0.615|STD=0.17896|Time spend=0.2619822025299072\n",
      "\tVALENCE-s21-DASM|Acc=0.65|10-CV=0.41|STD=0.09695|Time spend=0.22075510025024414\n",
      "\tVALENCE-s21-RASM|Acc=0.7|10-CV=0.615|STD=0.1246|Time spend=0.23286819458007812\n",
      "\tVALENCE-s21-DCAU|Acc=0.6625|10-CV=0.43|STD=0.11662|Time spend=0.24492549896240234\n",
      "\tVALENCE-s22-DASM|Acc=0.65|10-CV=0.61|STD=0.16553|Time spend=0.23563337326049805\n",
      "\tVALENCE-s22-RASM|Acc=0.6375|10-CV=0.565|STD=0.11843|Time spend=0.24614810943603516\n",
      "\tVALENCE-s22-DCAU|Acc=0.65|10-CV=0.595|STD=0.17671|Time spend=0.257152795791626\n",
      "-----WARNING: Model s23 failed to learn: sum(ans)=80.0 sum(y)=52.0 len(y)=80\n",
      "\tVALENCE-s23-DASM|Acc=0.65|10-CV=0.61|STD=0.15133|Time spend=0.24643778800964355\n",
      "-----WARNING: Model s23 failed to learn: sum(ans)=80.0 sum(y)=52.0 len(y)=80\n",
      "\tVALENCE-s23-RASM|Acc=0.65|10-CV=0.61|STD=0.15133|Time spend=0.25951218605041504\n",
      "-----WARNING: Model s23 failed to learn: sum(ans)=80.0 sum(y)=52.0 len(y)=80\n",
      "\tVALENCE-s23-DCAU|Acc=0.65|10-CV=0.61|STD=0.15133|Time spend=0.27222418785095215\n",
      "-----WARNING: Model s24 failed to learn: sum(ans)=0.0 sum(y)=36.0 len(y)=80\n",
      "\tVALENCE-s24-DASM|Acc=0.55|10-CV=0.43|STD=0.18466|Time spend=0.2220749855041504\n",
      "\tVALENCE-s24-RASM|Acc=0.6375|10-CV=0.425|STD=0.18337|Time spend=0.2354719638824463\n",
      "\tVALENCE-s24-DCAU|Acc=0.5625|10-CV=0.43|STD=0.18466|Time spend=0.2458508014678955\n",
      "-----WARNING: Model s25 failed to learn: sum(ans)=0.0 sum(y)=38.0 len(y)=80\n",
      "\tVALENCE-s25-DASM|Acc=0.525|10-CV=0.36|STD=0.10909|Time spend=0.22525286674499512\n",
      "-----WARNING: Model s25 failed to learn: sum(ans)=0.0 sum(y)=38.0 len(y)=80\n",
      "\tVALENCE-s25-RASM|Acc=0.525|10-CV=0.365|STD=0.09233|Time spend=0.23628592491149902\n",
      "\tVALENCE-s25-DCAU|Acc=0.5375|10-CV=0.365|STD=0.105|Time spend=0.2470541000366211\n",
      "-----WARNING: Model s26 failed to learn: sum(ans)=80.0 sum(y)=52.0 len(y)=80\n",
      "\tVALENCE-s26-DASM|Acc=0.65|10-CV=0.6|STD=0.13038|Time spend=0.2564420700073242\n",
      "\tVALENCE-s26-RASM|Acc=0.6875|10-CV=0.62|STD=0.14|Time spend=0.2666435241699219\n",
      "\tVALENCE-s26-DCAU|Acc=0.75|10-CV=0.61|STD=0.13191|Time spend=0.2760584354400635\n",
      "-----WARNING: Model s27 failed to learn: sum(ans)=80.0 sum(y)=60.0 len(y)=80\n",
      "\tVALENCE-s27-DASM|Acc=0.75|10-CV=0.67|STD=0.12689|Time spend=0.26221728324890137\n",
      "\tVALENCE-s27-RASM|Acc=0.775|10-CV=0.665|STD=0.11843|Time spend=0.27258992195129395\n",
      "-----WARNING: Model s27 failed to learn: sum(ans)=80.0 sum(y)=60.0 len(y)=80\n",
      "\tVALENCE-s27-DCAU|Acc=0.75|10-CV=0.67|STD=0.12689|Time spend=0.2820775508880615\n",
      "-----WARNING: Model s28 failed to learn: sum(ans)=80.0 sum(y)=50.0 len(y)=80\n",
      "\tVALENCE-s28-DASM|Acc=0.625|10-CV=0.61|STD=0.19209|Time spend=0.2164149284362793\n",
      "\tVALENCE-s28-RASM|Acc=0.6875|10-CV=0.535|STD=0.13973|Time spend=0.2283616065979004\n",
      "-----WARNING: Model s28 failed to learn: sum(ans)=80.0 sum(y)=50.0 len(y)=80\n",
      "\tVALENCE-s28-DCAU|Acc=0.625|10-CV=0.61|STD=0.19209|Time spend=0.23939871788024902\n",
      "\tVALENCE-s29-DASM|Acc=0.675|10-CV=0.535|STD=0.11192|Time spend=0.22165822982788086\n",
      "-----WARNING: Model s29 failed to learn: sum(ans)=80.0 sum(y)=46.0 len(y)=80\n",
      "\tVALENCE-s29-RASM|Acc=0.575|10-CV=0.435|STD=0.07433|Time spend=0.2348923683166504\n",
      "\tVALENCE-s29-DCAU|Acc=0.6875|10-CV=0.51|STD=0.11136|Time spend=0.2454969882965088\n",
      "-----WARNING: Model s30 failed to learn: sum(ans)=80.0 sum(y)=54.0 len(y)=80\n",
      "\tVALENCE-s30-DASM|Acc=0.675|10-CV=0.62|STD=0.14697|Time spend=0.23367691040039062\n",
      "-----WARNING: Model s30 failed to learn: sum(ans)=80.0 sum(y)=54.0 len(y)=80\n",
      "\tVALENCE-s30-RASM|Acc=0.675|10-CV=0.62|STD=0.14697|Time spend=0.24445366859436035\n",
      "-----WARNING: Model s30 failed to learn: sum(ans)=80.0 sum(y)=54.0 len(y)=80\n",
      "\tVALENCE-s30-DCAU|Acc=0.675|10-CV=0.62|STD=0.14697|Time spend=0.25600624084472656\n",
      "-----WARNING: Model s31 failed to learn: sum(ans)=80.0 sum(y)=46.0 len(y)=80\n",
      "\tVALENCE-s31-DASM|Acc=0.575|10-CV=0.495|STD=0.115|Time spend=0.22502756118774414\n",
      "\tVALENCE-s31-RASM|Acc=0.6|10-CV=0.45|STD=0.13229|Time spend=0.24109697341918945\n",
      "-----WARNING: Model s31 failed to learn: sum(ans)=80.0 sum(y)=46.0 len(y)=80\n",
      "\tVALENCE-s31-DCAU|Acc=0.575|10-CV=0.45|STD=0.11402|Time spend=0.2532060146331787\n",
      "\tVALENCE-s32-DASM|Acc=0.6375|10-CV=0.55|STD=0.19748|Time spend=0.22846317291259766\n",
      "\tVALENCE-s32-RASM|Acc=0.5625|10-CV=0.395|STD=0.17241|Time spend=0.23717451095581055\n",
      "\tVALENCE-s32-DCAU|Acc=0.725|10-CV=0.62|STD=0.14866|Time spend=0.24738168716430664\n",
      "VALENCE-DASM|Acc=0.661328125|10-CV=0.5471874999999999|STD=0.13824887173600658\n",
      "VALENCE-RASM|Acc=0.658203125|10-CV=0.54484375|STD=0.13375143624626692\n",
      "VALENCE-DCAU|Acc=0.6800781250000001|10-CV=0.5684375|STD=0.14049769525911082\n",
      "TOTAL-DASM|Acc=0.6705078124999998|10-CV=0.5840624999999999|STD=0.12703548186644523\n",
      "TOTAL-RASM|Acc=0.6669921875000001|10-CV=0.5774218750000001|STD=0.12465496967850175\n",
      "TOTAL-DCAU|Acc=0.6806640625000001|10-CV=0.5919531249999997|STD=0.12646064114313038\n"
     ]
    }
   ],
   "source": [
    "bands = [(0,4), (4,8), (8,12), (12,30), (30,64)]\n",
    "# [alias_feature_function]__[optional_param]\n",
    "params = dict({\n",
    "    'pow_freq_bands__log':True,\n",
    "    'pow_freq_bands__normalize':False,\n",
    "    'pow_freq_bands__freq_bands':bands\n",
    "})\n",
    "\n",
    "accs,cv_means,cv_stds  = {'DASM':[],'RASM':[],'DCAU':[]},{'DASM':[],'RASM':[],'DCAU':[]},{'DASM':[],'RASM':[],'DCAU':[]}\n",
    "# count = 0\n",
    "for filename in dataset.get_file_list():\n",
    "    start = time.time()\n",
    "    data, labels, groups = dataset.get_data(filename, stimuli=Dataset_subjectDependent.STIMULI_AROUSAL, return_type='numpy')\n",
    "    fe = FeatureExtractor(sfreq=128, selected_funcs=['pow_freq_bands'],params=params,n_jobs=8)\n",
    "    X = fe.fit_transform(X=data)\n",
    "\n",
    "    PSD_left = X[:, left_channel_indexes].copy()\n",
    "    PSD_right = X[:, right_channel_indexes].copy()\n",
    "    PSD_frontal = X[:, frontal_channel_indexes].copy()\n",
    "    PSD_posterior = X[:, posterior_channel_indexes].copy()\n",
    "    X = {\n",
    "        'DASM': PSD_left - PSD_right,\n",
    "        'RASM': PSD_left / PSD_right,\n",
    "        'DCAU': PSD_frontal - PSD_posterior,\n",
    "    }\n",
    "\n",
    "    for feature_name in ['DASM','RASM','DCAU']:\n",
    "        _, acc, cross = train_model(X[feature_name], labels.reshape(-1), groups, filename=filename)\n",
    "        print(f\"\\tAROUSAL-{filename}-{feature_name}|Acc={round(acc,5)}|10-CV={round(cross.mean(),5)}|STD={round(cross.std(),5)}|Time spend={time.time() - start}\")\n",
    "        accs[feature_name].append(acc)\n",
    "        cv_means[feature_name].append(cross.mean())\n",
    "        cv_stds[feature_name].append(cross.std())\n",
    "    # count+=1\n",
    "    # if(count == 3): break\n",
    "for feature_name in ['DASM','RASM','DCAU']:\n",
    "    print(f\"AROUSAL-{feature_name}|Acc={sum(accs[feature_name])/len(accs[feature_name])}|10-CV={sum(cv_means[feature_name])/len(cv_means[feature_name])}|STD={sum(cv_stds[feature_name])/len(cv_stds[feature_name])}\")\n",
    "\n",
    "accs_v,cv_means_v,cv_stds_v  = {'DASM':[],'RASM':[],'DCAU':[]},{'DASM':[],'RASM':[],'DCAU':[]},{'DASM':[],'RASM':[],'DCAU':[]}\n",
    "# count=0\n",
    "for filename in dataset.get_file_list():\n",
    "    start = time.time()\n",
    "    data, labels, groups = dataset.get_data(filename, stimuli=Dataset_subjectDependent.STIMULI_VALENCE, return_type='numpy')\n",
    "    fe = FeatureExtractor(sfreq=128, selected_funcs=['pow_freq_bands'],params=params,n_jobs=8)\n",
    "    X = fe.fit_transform(X=data)\n",
    "\n",
    "    PSD_left = X[:, left_channel_indexes].copy()\n",
    "    PSD_right = X[:, right_channel_indexes].copy()\n",
    "    PSD_frontal = X[:, frontal_channel_indexes].copy()\n",
    "    PSD_posterior = X[:, posterior_channel_indexes].copy()\n",
    "    X = {\n",
    "        'DASM': PSD_left - PSD_right,\n",
    "        'RASM': PSD_left / PSD_right,\n",
    "        'DCAU': PSD_frontal - PSD_posterior,\n",
    "    }\n",
    "\n",
    "    for feature_name in ['DASM','RASM','DCAU']:\n",
    "        _, acc, cross = train_model(X[feature_name], labels.reshape(-1), groups, filename=filename)\n",
    "        print(f\"\\tVALENCE-{filename}-{feature_name}|Acc={round(acc,5)}|10-CV={round(cross.mean(),5)}|STD={round(cross.std(),5)}|Time spend={time.time() - start}\")\n",
    "        accs_v[feature_name].append(acc)\n",
    "        cv_means_v[feature_name].append(cross.mean())\n",
    "        cv_stds_v[feature_name].append(cross.std())\n",
    "    # count+=1\n",
    "    # if(count == 3): break\n",
    "for feature_name in ['DASM','RASM','DCAU']:\n",
    "    print(f\"VALENCE-{feature_name}|Acc={sum(accs_v[feature_name])/len(accs_v[feature_name])}|10-CV={sum(cv_means_v[feature_name])/len(cv_means_v[feature_name])}|STD={sum(cv_stds_v[feature_name])/len(cv_stds_v[feature_name])}\")\n",
    "\n",
    "for feature_name in ['DASM','RASM','DCAU']:\n",
    "    accs[feature_name].extend(accs_v[feature_name])\n",
    "    cv_means[feature_name].extend(cv_means_v[feature_name])\n",
    "    cv_stds[feature_name].extend(cv_stds_v[feature_name])\n",
    "    print(f\"TOTAL-{feature_name}|Acc={sum(accs[feature_name])/len(accs[feature_name])}|10-CV={sum(cv_means[feature_name])/len(cv_means[feature_name])}|STD={sum(cv_stds[feature_name])/len(cv_stds[feature_name])}\")"
   ]
  },
  {
   "cell_type": "markdown",
   "metadata": {},
   "source": [
    "## 4. Connectivity\n",
    "\n",
    "### 4.1 $ \\text{PCC}_{\\text{time}}(i,j) = \\frac{\\text{Cov}[\\mathbf{X}_i, \\mathbf{X}_j]}{\\sigma_{\\mathbf{X}_i} \\sigma_{\\mathbf{X}_j}} $"
   ]
  },
  {
   "cell_type": "code",
   "execution_count": 7,
   "metadata": {},
   "outputs": [],
   "source": [
    "\n",
    "def pearson_correlation(x,y):\n",
    "    \"\"\" x,y denoted the signal_x and signal_y following the equation \"\"\"\n",
    "    cov = np.cov(x, y)\n",
    "    # print(cov)\n",
    "    # [[ 8806859.74527069  8007149.0906219 ] ==> [[cov_xx, cov_xy]\n",
    "    # [ 8007149.0906219  10396797.72458848]]      [cov_yx, cov_yy]]\n",
    "    cov_xy = cov[0,1] # or cov[1,0]\n",
    "    cov_xx = cov[0,0]\n",
    "    cov_yy = cov[1,1]\n",
    "    corr = cov_xy / ( cov_xx**0.5 * cov_yy**0.5  )\n",
    "    return corr\n",
    "\n",
    "def _cal(p_id, partial_data):\n",
    "    # print(f\"p_id:{p_id} - data to run {partial_data.shape}\")\n",
    "    from itertools import combinations\n",
    "    pcc = []\n",
    "    for index in range(partial_data.shape[0]):\n",
    "        pcc_epoch = []\n",
    "        for comb in combinations(list(range(partial_data.shape[1])), 2):\n",
    "            pcc_ab = pearson_correlation(partial_data[index, comb[0], :], partial_data[index, comb[1], :]   )\n",
    "            pcc_epoch.append(pcc_ab)\n",
    "        pcc_epoch = np.hstack(pcc_epoch)\n",
    "        pcc.append(pcc_epoch)\n",
    "    pcc = np.vstack(pcc)\n",
    "    return pcc\n",
    "\n",
    "def calculate_pcc(data, n_jobs=8):\n",
    "    \"\"\" \n",
    "    Input: Expect data to have (n_epochs, n_channels, n_samples)\n",
    "    Output: (n_epochs, n_conn ) => n_conn = n_channels!/(2!(n_channels-2)!)\n",
    "    \"\"\"\n",
    "    from multiprocessing import Pool\n",
    "\n",
    "    try:\n",
    "        t_out = 60000\n",
    "        pool = Pool()\n",
    "        p_list = []\n",
    "        ans_list = []\n",
    "        num_p = n_jobs\n",
    "        indices = np.array_split(np.arange(data.shape[0]), num_p)\n",
    "        for p_id in range(num_p):\n",
    "            p_list.append(pool.apply_async(_cal, [p_id, data[indices[p_id]] ]))\n",
    "        for p_id in range(num_p):\n",
    "            ans_list.append( p_list[p_id].get(timeout=t_out) )\n",
    "        # ans_list\n",
    "    except Exception as e:\n",
    "        print(e)\n",
    "    finally:\n",
    "        print(\"========= close ========\")\n",
    "        pool.close() \n",
    "        pool.terminate()\n",
    "    return np.vstack(ans_list)"
   ]
  },
  {
   "cell_type": "code",
   "execution_count": 8,
   "metadata": {},
   "outputs": [
    {
     "data": {
      "application/vnd.jupyter.widget-view+json": {
       "model_id": "5e77cd15ce184035bff86d0b08a27eed",
       "version_major": 2,
       "version_minor": 0
      },
      "text/plain": [
       "  0%|          | 0/32 [00:00<?, ?it/s]"
      ]
     },
     "metadata": {},
     "output_type": "display_data"
    },
    {
     "name": "stdout",
     "output_type": "stream",
     "text": [
      "Fitted sphere radius:         95.3 mm\n",
      "Origin head coordinates:      -0.8 15.1 45.3 mm\n",
      "Origin device coordinates:    -0.8 15.1 45.3 mm\n",
      "========= close ========\n",
      "\tAROUSAL-s01|Acc=0.6|10-CV=0.56|STD=0.1562|Time spend=1.2297985553741455\n",
      "\tVALENCE-s01|Acc=0.6125|10-CV=0.46|STD=0.1044|Time spend=1.3104400634765625\n",
      "Fitted sphere radius:         95.3 mm\n",
      "Origin head coordinates:      -0.8 15.1 45.3 mm\n",
      "Origin device coordinates:    -0.8 15.1 45.3 mm\n",
      "========= close ========\n",
      "\tAROUSAL-s02|Acc=0.6|10-CV=0.505|STD=0.16194|Time spend=1.244776964187622\n",
      "\tVALENCE-s02|Acc=0.55|10-CV=0.45|STD=0.0922|Time spend=1.2941217422485352\n",
      "Fitted sphere radius:         95.3 mm\n",
      "Origin head coordinates:      -0.8 15.1 45.3 mm\n",
      "Origin device coordinates:    -0.8 15.1 45.3 mm\n",
      "========= close ========\n",
      "\tAROUSAL-s03|Acc=0.8|10-CV=0.73|STD=0.15524|Time spend=0.8451929092407227\n",
      "\tVALENCE-s03|Acc=0.55|10-CV=0.43|STD=0.12083|Time spend=0.9185521602630615\n",
      "Fitted sphere radius:         95.3 mm\n",
      "Origin head coordinates:      -0.8 15.1 45.3 mm\n",
      "Origin device coordinates:    -0.8 15.1 45.3 mm\n",
      "========= close ========\n",
      "\tAROUSAL-s04|Acc=0.6|10-CV=0.54|STD=0.22|Time spend=0.8193743228912354\n",
      "\tVALENCE-s04|Acc=0.6|10-CV=0.49|STD=0.18682|Time spend=0.8708860874176025\n",
      "Fitted sphere radius:         95.3 mm\n",
      "Origin head coordinates:      -0.8 15.1 45.3 mm\n",
      "Origin device coordinates:    -0.8 15.1 45.3 mm\n",
      "========= close ========\n",
      "\tAROUSAL-s05|Acc=0.525|10-CV=0.405|STD=0.10828|Time spend=0.8147294521331787\n",
      "\tVALENCE-s05|Acc=0.6|10-CV=0.615|STD=0.12258|Time spend=0.8680822849273682\n",
      "Fitted sphere radius:         95.3 mm\n",
      "Origin head coordinates:      -0.8 15.1 45.3 mm\n",
      "Origin device coordinates:    -0.8 15.1 45.3 mm\n",
      "========= close ========\n",
      "\tAROUSAL-s06|Acc=0.575|10-CV=0.535|STD=0.145|Time spend=0.8342928886413574\n",
      "\tVALENCE-s06|Acc=0.75|10-CV=0.72|STD=0.07483|Time spend=0.8874709606170654\n",
      "Fitted sphere radius:         95.3 mm\n",
      "Origin head coordinates:      -0.8 15.1 45.3 mm\n",
      "Origin device coordinates:    -0.8 15.1 45.3 mm\n",
      "========= close ========\n",
      "\tAROUSAL-s07|Acc=0.625|10-CV=0.645|STD=0.135|Time spend=0.8526346683502197\n",
      "\tVALENCE-s07|Acc=0.7|10-CV=0.69|STD=0.13748|Time spend=0.9043612480163574\n",
      "Fitted sphere radius:         95.3 mm\n",
      "Origin head coordinates:      -0.8 15.1 45.3 mm\n",
      "Origin device coordinates:    -0.8 15.1 45.3 mm\n",
      "========= close ========\n",
      "\tAROUSAL-s08|Acc=0.575|10-CV=0.46|STD=0.12806|Time spend=0.8535628318786621\n",
      "\tVALENCE-s08|Acc=0.6625|10-CV=0.56|STD=0.10909|Time spend=0.9040236473083496\n",
      "Fitted sphere radius:         95.3 mm\n",
      "Origin head coordinates:      -0.8 15.1 45.3 mm\n",
      "Origin device coordinates:    -0.8 15.1 45.3 mm\n",
      "========= close ========\n",
      "\tAROUSAL-s09|Acc=0.6|10-CV=0.54|STD=0.12|Time spend=1.091069221496582\n",
      "\tVALENCE-s09|Acc=0.7125|10-CV=0.45|STD=0.19494|Time spend=1.1436817646026611\n",
      "Fitted sphere radius:         95.3 mm\n",
      "Origin head coordinates:      -0.8 15.1 45.3 mm\n",
      "Origin device coordinates:    -0.8 15.1 45.3 mm\n",
      "========= close ========\n",
      "\tAROUSAL-s10|Acc=0.5375|10-CV=0.475|STD=0.08139|Time spend=1.004037857055664\n",
      "\tVALENCE-s10|Acc=0.7|10-CV=0.6|STD=0.21331|Time spend=1.05509614944458\n",
      "Fitted sphere radius:         95.3 mm\n",
      "Origin head coordinates:      -0.8 15.1 45.3 mm\n",
      "Origin device coordinates:    -0.8 15.1 45.3 mm\n",
      "========= close ========\n",
      "\tAROUSAL-s11|Acc=0.625|10-CV=0.63|STD=0.11|Time spend=0.8831064701080322\n",
      "\tVALENCE-s11|Acc=0.6|10-CV=0.56|STD=0.16852|Time spend=0.9323272705078125\n",
      "Fitted sphere radius:         95.3 mm\n",
      "Origin head coordinates:      -0.8 15.1 45.3 mm\n",
      "Origin device coordinates:    -0.8 15.1 45.3 mm\n",
      "========= close ========\n",
      "\tAROUSAL-s12|Acc=0.825|10-CV=0.83|STD=0.1005|Time spend=0.8488247394561768\n",
      "\tVALENCE-s12|Acc=0.525|10-CV=0.42|STD=0.12689|Time spend=0.9127130508422852\n",
      "Fitted sphere radius:         95.3 mm\n",
      "Origin head coordinates:      -0.8 15.1 45.3 mm\n",
      "Origin device coordinates:    -0.8 15.1 45.3 mm\n",
      "========= close ========\n",
      "\tAROUSAL-s13|Acc=0.85|10-CV=0.84|STD=0.06633|Time spend=0.8230636119842529\n",
      "\tVALENCE-s13|Acc=0.7875|10-CV=0.67|STD=0.16155|Time spend=0.8711147308349609\n",
      "Fitted sphere radius:         95.3 mm\n",
      "Origin head coordinates:      -0.8 15.1 45.3 mm\n",
      "Origin device coordinates:    -0.8 15.1 45.3 mm\n",
      "========= close ========\n",
      "\tAROUSAL-s14|Acc=0.675|10-CV=0.65|STD=0.10247|Time spend=0.841489315032959\n",
      "\tVALENCE-s14|Acc=0.6125|10-CV=0.36|STD=0.06633|Time spend=0.8921787738800049\n",
      "Fitted sphere radius:         95.3 mm\n",
      "Origin head coordinates:      -0.8 15.1 45.3 mm\n",
      "Origin device coordinates:    -0.8 15.1 45.3 mm\n",
      "========= close ========\n",
      "\tAROUSAL-s15|Acc=0.525|10-CV=0.41|STD=0.09434|Time spend=0.8314316272735596\n",
      "\tVALENCE-s15|Acc=0.775|10-CV=0.73|STD=0.08718|Time spend=0.8823561668395996\n",
      "Fitted sphere radius:         95.3 mm\n",
      "Origin head coordinates:      -0.8 15.1 45.3 mm\n",
      "Origin device coordinates:    -0.8 15.1 45.3 mm\n",
      "========= close ========\n",
      "\tAROUSAL-s16|Acc=0.625|10-CV=0.345|STD=0.10112|Time spend=0.7767767906188965\n",
      "\tVALENCE-s16|Acc=0.625|10-CV=0.64|STD=0.10198|Time spend=0.8280079364776611\n",
      "Fitted sphere radius:         95.3 mm\n",
      "Origin head coordinates:      -0.8 15.1 45.3 mm\n",
      "Origin device coordinates:    -0.8 15.1 45.3 mm\n",
      "========= close ========\n",
      "\tAROUSAL-s17|Acc=0.6|10-CV=0.56|STD=0.09165|Time spend=0.8512582778930664\n",
      "\tVALENCE-s17|Acc=0.55|10-CV=0.42|STD=0.13077|Time spend=0.903977632522583\n",
      "Fitted sphere radius:         95.3 mm\n",
      "Origin head coordinates:      -0.8 15.1 45.3 mm\n",
      "Origin device coordinates:    -0.8 15.1 45.3 mm\n",
      "========= close ========\n",
      "\tAROUSAL-s18|Acc=0.625|10-CV=0.595|STD=0.13124|Time spend=0.8434662818908691\n",
      "\tVALENCE-s18|Acc=0.6625|10-CV=0.57|STD=0.15199|Time spend=0.8925518989562988\n",
      "Fitted sphere radius:         95.3 mm\n",
      "Origin head coordinates:      -0.8 15.1 45.3 mm\n",
      "Origin device coordinates:    -0.8 15.1 45.3 mm\n",
      "========= close ========\n",
      "\tAROUSAL-s19|Acc=0.675|10-CV=0.63|STD=0.13454|Time spend=0.9077389240264893\n",
      "\tVALENCE-s19|Acc=0.575|10-CV=0.415|STD=0.17037|Time spend=0.9719078540802002\n",
      "Fitted sphere radius:         95.3 mm\n",
      "Origin head coordinates:      -0.8 15.1 45.3 mm\n",
      "Origin device coordinates:    -0.8 15.1 45.3 mm\n",
      "========= close ========\n",
      "\tAROUSAL-s20|Acc=0.775|10-CV=0.82|STD=0.08718|Time spend=0.8175039291381836\n",
      "\tVALENCE-s20|Acc=0.65|10-CV=0.48|STD=0.15843|Time spend=0.865337610244751\n",
      "Fitted sphere radius:         95.3 mm\n",
      "Origin head coordinates:      -0.8 15.1 45.3 mm\n",
      "Origin device coordinates:    -0.8 15.1 45.3 mm\n",
      "========= close ========\n",
      "\tAROUSAL-s21|Acc=0.8|10-CV=0.8|STD=0.1|Time spend=0.8869340419769287\n",
      "\tVALENCE-s21|Acc=0.55|10-CV=0.37|STD=0.09|Time spend=0.9419844150543213\n",
      "Fitted sphere radius:         95.3 mm\n",
      "Origin head coordinates:      -0.8 15.1 45.3 mm\n",
      "Origin device coordinates:    -0.8 15.1 45.3 mm\n",
      "========= close ========\n",
      "\tAROUSAL-s22|Acc=0.6|10-CV=0.61|STD=0.07|Time spend=0.8446841239929199\n",
      "\tVALENCE-s22|Acc=0.55|10-CV=0.54|STD=0.12207|Time spend=0.8958702087402344\n",
      "Fitted sphere radius:         95.3 mm\n",
      "Origin head coordinates:      -0.8 15.1 45.3 mm\n",
      "Origin device coordinates:    -0.8 15.1 45.3 mm\n",
      "========= close ========\n",
      "\tAROUSAL-s23|Acc=0.75|10-CV=0.78|STD=0.09798|Time spend=1.001394271850586\n",
      "\tVALENCE-s23|Acc=0.65|10-CV=0.61|STD=0.15133|Time spend=1.05153489112854\n",
      "Fitted sphere radius:         95.3 mm\n",
      "Origin head coordinates:      -0.8 15.1 45.3 mm\n",
      "Origin device coordinates:    -0.8 15.1 45.3 mm\n",
      "========= close ========\n",
      "\tAROUSAL-s24|Acc=0.825|10-CV=0.82|STD=0.07483|Time spend=0.8382964134216309\n",
      "\tVALENCE-s24|Acc=0.55|10-CV=0.43|STD=0.18466|Time spend=0.8931667804718018\n",
      "Fitted sphere radius:         95.3 mm\n",
      "Origin head coordinates:      -0.8 15.1 45.3 mm\n",
      "Origin device coordinates:    -0.8 15.1 45.3 mm\n",
      "========= close ========\n",
      "\tAROUSAL-s25|Acc=0.725|10-CV=0.74|STD=0.12806|Time spend=0.9632136821746826\n",
      "\tVALENCE-s25|Acc=0.525|10-CV=0.365|STD=0.105|Time spend=1.0117201805114746\n",
      "Fitted sphere radius:         95.3 mm\n",
      "Origin head coordinates:      -0.8 15.1 45.3 mm\n",
      "Origin device coordinates:    -0.8 15.1 45.3 mm\n",
      "========= close ========\n",
      "\tAROUSAL-s26|Acc=0.625|10-CV=0.535|STD=0.13973|Time spend=0.9581465721130371\n",
      "\tVALENCE-s26|Acc=0.65|10-CV=0.62|STD=0.14|Time spend=1.0199649333953857\n",
      "Fitted sphere radius:         95.3 mm\n",
      "Origin head coordinates:      -0.8 15.1 45.3 mm\n",
      "Origin device coordinates:    -0.8 15.1 45.3 mm\n",
      "========= close ========\n",
      "\tAROUSAL-s27|Acc=0.675|10-CV=0.635|STD=0.10012|Time spend=0.9265861511230469\n",
      "\tVALENCE-s27|Acc=0.75|10-CV=0.67|STD=0.12689|Time spend=0.9750912189483643\n",
      "Fitted sphere radius:         95.3 mm\n",
      "Origin head coordinates:      -0.8 15.1 45.3 mm\n",
      "Origin device coordinates:    -0.8 15.1 45.3 mm\n",
      "========= close ========\n",
      "\tAROUSAL-s28|Acc=0.55|10-CV=0.405|STD=0.17385|Time spend=0.8076176643371582\n",
      "\tVALENCE-s28|Acc=0.625|10-CV=0.595|STD=0.18228|Time spend=0.8707551956176758\n",
      "Fitted sphere radius:         95.3 mm\n",
      "Origin head coordinates:      -0.8 15.1 45.3 mm\n",
      "Origin device coordinates:    -0.8 15.1 45.3 mm\n",
      "========= close ========\n",
      "\tAROUSAL-s29|Acc=0.625|10-CV=0.53|STD=0.09|Time spend=0.7731006145477295\n",
      "\tVALENCE-s29|Acc=0.65|10-CV=0.54|STD=0.1179|Time spend=0.8226020336151123\n",
      "Fitted sphere radius:         95.3 mm\n",
      "Origin head coordinates:      -0.8 15.1 45.3 mm\n",
      "Origin device coordinates:    -0.8 15.1 45.3 mm\n",
      "========= close ========\n",
      "\tAROUSAL-s30|Acc=0.6375|10-CV=0.54|STD=0.11136|Time spend=0.8613491058349609\n",
      "\tVALENCE-s30|Acc=0.675|10-CV=0.62|STD=0.14697|Time spend=0.911435604095459\n",
      "Fitted sphere radius:         95.3 mm\n",
      "Origin head coordinates:      -0.8 15.1 45.3 mm\n",
      "Origin device coordinates:    -0.8 15.1 45.3 mm\n",
      "========= close ========\n",
      "\tAROUSAL-s31|Acc=0.525|10-CV=0.465|STD=0.16286|Time spend=0.8671422004699707\n",
      "\tVALENCE-s31|Acc=0.575|10-CV=0.475|STD=0.125|Time spend=0.9204726219177246\n",
      "Fitted sphere radius:         95.3 mm\n",
      "Origin head coordinates:      -0.8 15.1 45.3 mm\n",
      "Origin device coordinates:    -0.8 15.1 45.3 mm\n",
      "========= close ========\n",
      "\tAROUSAL-s32|Acc=0.675|10-CV=0.75|STD=0.13601|Time spend=0.834160566329956\n",
      "\tVALENCE-s32|Acc=0.725|10-CV=0.59|STD=0.19723|Time spend=0.881943941116333\n",
      "AROUSAL|Acc=0.6515625|10-CV=0.6035937500000002|STD=0.11922863101413578\n",
      "VALENCE|Acc=0.6335937500000001|10-CV=0.53609375|STD=0.1365557320538907\n"
     ]
    }
   ],
   "source": [
    "accs, cv_means, cv_stds = [],[],[]\n",
    "accs_v, cv_means_v, cv_stds_v = [],[],[]\n",
    "reports = []\n",
    "for filename in (pbar := tqdm(dataset.get_file_list())):\n",
    "    start = time.time()\n",
    "    pbar.set_description(filename)\n",
    "    data, labels, groups = dataset.get_data(filename, stimuli=Dataset_subjectDependent.STIMULI_AROUSAL, return_type='mne', sfreq=128)\n",
    "    data_csd = mne.preprocessing.compute_current_source_density(data)\n",
    "    pcc = calculate_pcc(data_csd.get_data())\n",
    "    _,acc,cross,train_report = train_model(pcc, labels.squeeze(), groups, filename=filename, return_text=True)\n",
    "    report = f\"\\tAROUSAL-{filename}|Acc={round(acc,5)}|10-CV={round(cross.mean(),5)}|STD={round(cross.std(),5)}|Time spend={time.time() - start}\"\n",
    "    print(report)\n",
    "    reports.append(report)\n",
    "    reports.append(train_report)\n",
    "    accs.append(acc)\n",
    "    cv_means.append(cross.mean())\n",
    "    cv_stds.append(cross.std())\n",
    "\n",
    "    _, labels_v, groups_v = dataset.get_data(filename, stimuli=Dataset_subjectDependent.STIMULI_VALENCE, return_type='mne', sfreq=128)\n",
    "    _,acc,cross,train_report = train_model(pcc, labels_v.squeeze(), groups_v, filename=filename, return_text=True)\n",
    "    report = f\"\\tVALENCE-{filename}|Acc={round(acc,5)}|10-CV={round(cross.mean(),5)}|STD={round(cross.std(),5)}|Time spend={time.time() - start}\"\n",
    "    print(report)\n",
    "    reports.append(report)\n",
    "    reports.append(train_report)\n",
    "    accs_v.append(acc)\n",
    "    cv_means_v.append(cross.mean())\n",
    "    cv_stds_v.append(cross.std())\n",
    "    # break\n",
    "    # count+=1\n",
    "    # if(count == 5): break\n",
    "report = f\"AROUSAL|Acc={sum(accs)/len(accs)}|10-CV={sum(cv_means)/len(cv_means)}|STD={sum(cv_stds)/len(cv_stds)}\"\n",
    "print(report)\n",
    "reports.append(report)\n",
    "report = f\"VALENCE|Acc={sum(accs_v)/len(accs_v)}|10-CV={sum(cv_means_v)/len(cv_means_v)}|STD={sum(cv_stds_v)/len(cv_stds_v)}\"\n",
    "print(report)\n",
    "reports.append(report)"
   ]
  },
  {
   "cell_type": "code",
   "execution_count": 9,
   "metadata": {},
   "outputs": [
    {
     "name": "stdout",
     "output_type": "stream",
     "text": [
      "\tAROUSAL-s01|Acc=0.6|10-CV=0.56|STD=0.1562|Time spend=1.2297985553741455\n",
      "-----WARNING: Model s01 failed to learn: sum(ans)=80.0 sum(y)=48.0 len(y)=80\n",
      "\tVALENCE-s01|Acc=0.6125|10-CV=0.46|STD=0.1044|Time spend=1.3104400634765625\n",
      "\tAROUSAL-s02|Acc=0.6|10-CV=0.505|STD=0.16194|Time spend=1.244776964187622\n",
      "-----WARNING: Model s02 failed to learn: sum(ans)=80.0 sum(y)=48.0 len(y)=80\n",
      "\tVALENCE-s02|Acc=0.55|10-CV=0.45|STD=0.0922|Time spend=1.2941217422485352\n",
      "-----WARNING: Model s02 failed to learn: sum(ans)=80.0 sum(y)=44.0 len(y)=80\n",
      "\tAROUSAL-s03|Acc=0.8|10-CV=0.73|STD=0.15524|Time spend=0.8451929092407227\n",
      "-----WARNING: Model s03 failed to learn: sum(ans)=0.0 sum(y)=16.0 len(y)=80\n",
      "\tVALENCE-s03|Acc=0.55|10-CV=0.43|STD=0.12083|Time spend=0.9185521602630615\n",
      "-----WARNING: Model s03 failed to learn: sum(ans)=80.0 sum(y)=44.0 len(y)=80\n",
      "\tAROUSAL-s04|Acc=0.6|10-CV=0.54|STD=0.22|Time spend=0.8193743228912354\n",
      "-----WARNING: Model s04 failed to learn: sum(ans)=0.0 sum(y)=32.0 len(y)=80\n",
      "\tVALENCE-s04|Acc=0.6|10-CV=0.49|STD=0.18682|Time spend=0.8708860874176025\n",
      "-----WARNING: Model s04 failed to learn: sum(ans)=0.0 sum(y)=32.0 len(y)=80\n",
      "\tAROUSAL-s05|Acc=0.525|10-CV=0.405|STD=0.10828|Time spend=0.8147294521331787\n",
      "-----WARNING: Model s05 failed to learn: sum(ans)=0.0 sum(y)=38.0 len(y)=80\n",
      "\tVALENCE-s05|Acc=0.6|10-CV=0.615|STD=0.12258|Time spend=0.8680822849273682\n",
      "-----WARNING: Model s05 failed to learn: sum(ans)=80.0 sum(y)=48.0 len(y)=80\n",
      "\tAROUSAL-s06|Acc=0.575|10-CV=0.535|STD=0.145|Time spend=0.8342928886413574\n",
      "-----WARNING: Model s06 failed to learn: sum(ans)=0.0 sum(y)=34.0 len(y)=80\n",
      "\tVALENCE-s06|Acc=0.75|10-CV=0.72|STD=0.07483|Time spend=0.8874709606170654\n",
      "-----WARNING: Model s06 failed to learn: sum(ans)=80.0 sum(y)=60.0 len(y)=80\n",
      "\tAROUSAL-s07|Acc=0.625|10-CV=0.645|STD=0.135|Time spend=0.8526346683502197\n",
      "-----WARNING: Model s07 failed to learn: sum(ans)=80.0 sum(y)=50.0 len(y)=80\n",
      "\tVALENCE-s07|Acc=0.7|10-CV=0.69|STD=0.13748|Time spend=0.9043612480163574\n",
      "-----WARNING: Model s07 failed to learn: sum(ans)=80.0 sum(y)=56.0 len(y)=80\n",
      "\tAROUSAL-s08|Acc=0.575|10-CV=0.46|STD=0.12806|Time spend=0.8535628318786621\n",
      "-----WARNING: Model s08 failed to learn: sum(ans)=80.0 sum(y)=46.0 len(y)=80\n",
      "\tVALENCE-s08|Acc=0.6625|10-CV=0.56|STD=0.10909|Time spend=0.9040236473083496\n",
      "\tAROUSAL-s09|Acc=0.6|10-CV=0.54|STD=0.12|Time spend=1.091069221496582\n",
      "-----WARNING: Model s09 failed to learn: sum(ans)=80.0 sum(y)=48.0 len(y)=80\n",
      "\tVALENCE-s09|Acc=0.7125|10-CV=0.45|STD=0.19494|Time spend=1.1436817646026611\n",
      "\tAROUSAL-s10|Acc=0.5375|10-CV=0.475|STD=0.08139|Time spend=1.004037857055664\n",
      "\tVALENCE-s10|Acc=0.7|10-CV=0.6|STD=0.21331|Time spend=1.05509614944458\n",
      "\tAROUSAL-s11|Acc=0.625|10-CV=0.63|STD=0.11|Time spend=0.8831064701080322\n",
      "-----WARNING: Model s11 failed to learn: sum(ans)=0.0 sum(y)=30.0 len(y)=80\n",
      "\tVALENCE-s11|Acc=0.6|10-CV=0.56|STD=0.16852|Time spend=0.9323272705078125\n",
      "-----WARNING: Model s11 failed to learn: sum(ans)=80.0 sum(y)=48.0 len(y)=80\n",
      "\tAROUSAL-s12|Acc=0.825|10-CV=0.83|STD=0.1005|Time spend=0.8488247394561768\n",
      "-----WARNING: Model s12 failed to learn: sum(ans)=80.0 sum(y)=66.0 len(y)=80\n",
      "\tVALENCE-s12|Acc=0.525|10-CV=0.42|STD=0.12689|Time spend=0.9127130508422852\n",
      "-----WARNING: Model s12 failed to learn: sum(ans)=80.0 sum(y)=42.0 len(y)=80\n",
      "\tAROUSAL-s13|Acc=0.85|10-CV=0.84|STD=0.06633|Time spend=0.8230636119842529\n",
      "-----WARNING: Model s13 failed to learn: sum(ans)=80.0 sum(y)=68.0 len(y)=80\n",
      "\tVALENCE-s13|Acc=0.7875|10-CV=0.67|STD=0.16155|Time spend=0.8711147308349609\n",
      "\tAROUSAL-s14|Acc=0.675|10-CV=0.65|STD=0.10247|Time spend=0.841489315032959\n",
      "-----WARNING: Model s14 failed to learn: sum(ans)=80.0 sum(y)=54.0 len(y)=80\n",
      "\tVALENCE-s14|Acc=0.6125|10-CV=0.36|STD=0.06633|Time spend=0.8921787738800049\n",
      "\tAROUSAL-s15|Acc=0.525|10-CV=0.41|STD=0.09434|Time spend=0.8314316272735596\n",
      "-----WARNING: Model s15 failed to learn: sum(ans)=0.0 sum(y)=38.0 len(y)=80\n",
      "\tVALENCE-s15|Acc=0.775|10-CV=0.73|STD=0.08718|Time spend=0.8823561668395996\n",
      "\tAROUSAL-s16|Acc=0.625|10-CV=0.345|STD=0.10112|Time spend=0.7767767906188965\n",
      "\tVALENCE-s16|Acc=0.625|10-CV=0.64|STD=0.10198|Time spend=0.8280079364776611\n",
      "-----WARNING: Model s16 failed to learn: sum(ans)=0.0 sum(y)=30.0 len(y)=80\n",
      "\tAROUSAL-s17|Acc=0.6|10-CV=0.56|STD=0.09165|Time spend=0.8512582778930664\n",
      "-----WARNING: Model s17 failed to learn: sum(ans)=80.0 sum(y)=48.0 len(y)=80\n",
      "\tVALENCE-s17|Acc=0.55|10-CV=0.42|STD=0.13077|Time spend=0.903977632522583\n",
      "-----WARNING: Model s17 failed to learn: sum(ans)=80.0 sum(y)=44.0 len(y)=80\n",
      "\tAROUSAL-s18|Acc=0.625|10-CV=0.595|STD=0.13124|Time spend=0.8434662818908691\n",
      "-----WARNING: Model s18 failed to learn: sum(ans)=80.0 sum(y)=50.0 len(y)=80\n",
      "\tVALENCE-s18|Acc=0.6625|10-CV=0.57|STD=0.15199|Time spend=0.8925518989562988\n",
      "\tAROUSAL-s19|Acc=0.675|10-CV=0.63|STD=0.13454|Time spend=0.9077389240264893\n",
      "-----WARNING: Model s19 failed to learn: sum(ans)=80.0 sum(y)=54.0 len(y)=80\n",
      "\tVALENCE-s19|Acc=0.575|10-CV=0.415|STD=0.17037|Time spend=0.9719078540802002\n",
      "-----WARNING: Model s19 failed to learn: sum(ans)=80.0 sum(y)=46.0 len(y)=80\n",
      "\tAROUSAL-s20|Acc=0.775|10-CV=0.82|STD=0.08718|Time spend=0.8175039291381836\n",
      "-----WARNING: Model s20 failed to learn: sum(ans)=80.0 sum(y)=62.0 len(y)=80\n",
      "\tVALENCE-s20|Acc=0.65|10-CV=0.48|STD=0.15843|Time spend=0.865337610244751\n",
      "\tAROUSAL-s21|Acc=0.8|10-CV=0.8|STD=0.1|Time spend=0.8869340419769287\n",
      "-----WARNING: Model s21 failed to learn: sum(ans)=80.0 sum(y)=64.0 len(y)=80\n",
      "\tVALENCE-s21|Acc=0.55|10-CV=0.37|STD=0.09|Time spend=0.9419844150543213\n",
      "\tAROUSAL-s22|Acc=0.6|10-CV=0.61|STD=0.07|Time spend=0.8446841239929199\n",
      "-----WARNING: Model s22 failed to learn: sum(ans)=80.0 sum(y)=48.0 len(y)=80\n",
      "\tVALENCE-s22|Acc=0.55|10-CV=0.54|STD=0.12207|Time spend=0.8958702087402344\n",
      "-----WARNING: Model s22 failed to learn: sum(ans)=0.0 sum(y)=36.0 len(y)=80\n",
      "\tAROUSAL-s23|Acc=0.75|10-CV=0.78|STD=0.09798|Time spend=1.001394271850586\n",
      "-----WARNING: Model s23 failed to learn: sum(ans)=0.0 sum(y)=20.0 len(y)=80\n",
      "\tVALENCE-s23|Acc=0.65|10-CV=0.61|STD=0.15133|Time spend=1.05153489112854\n",
      "-----WARNING: Model s23 failed to learn: sum(ans)=80.0 sum(y)=52.0 len(y)=80\n",
      "\tAROUSAL-s24|Acc=0.825|10-CV=0.82|STD=0.07483|Time spend=0.8382964134216309\n",
      "-----WARNING: Model s24 failed to learn: sum(ans)=80.0 sum(y)=66.0 len(y)=80\n",
      "\tVALENCE-s24|Acc=0.55|10-CV=0.43|STD=0.18466|Time spend=0.8931667804718018\n",
      "-----WARNING: Model s24 failed to learn: sum(ans)=0.0 sum(y)=36.0 len(y)=80\n",
      "\tAROUSAL-s25|Acc=0.725|10-CV=0.74|STD=0.12806|Time spend=0.9632136821746826\n",
      "-----WARNING: Model s25 failed to learn: sum(ans)=80.0 sum(y)=58.0 len(y)=80\n",
      "\tVALENCE-s25|Acc=0.525|10-CV=0.365|STD=0.105|Time spend=1.0117201805114746\n",
      "-----WARNING: Model s25 failed to learn: sum(ans)=0.0 sum(y)=38.0 len(y)=80\n",
      "\tAROUSAL-s26|Acc=0.625|10-CV=0.535|STD=0.13973|Time spend=0.9581465721130371\n",
      "\tVALENCE-s26|Acc=0.65|10-CV=0.62|STD=0.14|Time spend=1.0199649333953857\n",
      "-----WARNING: Model s26 failed to learn: sum(ans)=80.0 sum(y)=52.0 len(y)=80\n",
      "\tAROUSAL-s27|Acc=0.675|10-CV=0.635|STD=0.10012|Time spend=0.9265861511230469\n",
      "-----WARNING: Model s27 failed to learn: sum(ans)=80.0 sum(y)=54.0 len(y)=80\n",
      "\tVALENCE-s27|Acc=0.75|10-CV=0.67|STD=0.12689|Time spend=0.9750912189483643\n",
      "-----WARNING: Model s27 failed to learn: sum(ans)=80.0 sum(y)=60.0 len(y)=80\n",
      "\tAROUSAL-s28|Acc=0.55|10-CV=0.405|STD=0.17385|Time spend=0.8076176643371582\n",
      "-----WARNING: Model s28 failed to learn: sum(ans)=0.0 sum(y)=36.0 len(y)=80\n",
      "\tVALENCE-s28|Acc=0.625|10-CV=0.595|STD=0.18228|Time spend=0.8707551956176758\n",
      "-----WARNING: Model s28 failed to learn: sum(ans)=80.0 sum(y)=50.0 len(y)=80\n",
      "\tAROUSAL-s29|Acc=0.625|10-CV=0.53|STD=0.09|Time spend=0.7731006145477295\n",
      "-----WARNING: Model s29 failed to learn: sum(ans)=80.0 sum(y)=50.0 len(y)=80\n",
      "\tVALENCE-s29|Acc=0.65|10-CV=0.54|STD=0.1179|Time spend=0.8226020336151123\n",
      "\tAROUSAL-s30|Acc=0.6375|10-CV=0.54|STD=0.11136|Time spend=0.8613491058349609\n",
      "\tVALENCE-s30|Acc=0.675|10-CV=0.62|STD=0.14697|Time spend=0.911435604095459\n",
      "-----WARNING: Model s30 failed to learn: sum(ans)=80.0 sum(y)=54.0 len(y)=80\n",
      "\tAROUSAL-s31|Acc=0.525|10-CV=0.465|STD=0.16286|Time spend=0.8671422004699707\n",
      "-----WARNING: Model s31 failed to learn: sum(ans)=0.0 sum(y)=38.0 len(y)=80\n",
      "\tVALENCE-s31|Acc=0.575|10-CV=0.475|STD=0.125|Time spend=0.9204726219177246\n",
      "-----WARNING: Model s31 failed to learn: sum(ans)=80.0 sum(y)=46.0 len(y)=80\n",
      "\tAROUSAL-s32|Acc=0.675|10-CV=0.75|STD=0.13601|Time spend=0.834160566329956\n",
      "-----WARNING: Model s32 failed to learn: sum(ans)=80.0 sum(y)=54.0 len(y)=80\n",
      "\tVALENCE-s32|Acc=0.725|10-CV=0.59|STD=0.19723|Time spend=0.881943941116333\n",
      "AROUSAL|Acc=0.6515625|10-CV=0.6035937500000002|STD=0.11922863101413578\n",
      "VALENCE|Acc=0.6335937500000001|10-CV=0.53609375|STD=0.1365557320538907\n",
      "TOTAL|Acc=0.6425781249999999|10-CV=0.5698437500000001|STD=0.12789218153401324\n"
     ]
    }
   ],
   "source": [
    "for text in reports:\n",
    "    if(text == None): continue\n",
    "    print(text)\n",
    "\n",
    "accs.extend(accs_v)\n",
    "cv_means.extend(cv_means_v)\n",
    "cv_stds.extend(cv_stds_v)\n",
    "print(f\"TOTAL|Acc={sum(accs)/len(accs)}|10-CV={sum(cv_means)/len(cv_means)}|STD={sum(cv_stds)/len(cv_stds)}\")"
   ]
  },
  {
   "cell_type": "markdown",
   "metadata": {},
   "source": [
    "### 4.2 $ \\text{PCC}_{freq} (i,j) = \\frac{\\text{Cov}[\\hat{\\mathbf{X}}_i, \\hat{\\mathbf{X}}_j]}{\\sigma_{\\hat{\\mathbf{X}}_i} \\sigma_{\\hat{\\mathbf{X}}_j}} $"
   ]
  },
  {
   "cell_type": "code",
   "execution_count": 10,
   "metadata": {},
   "outputs": [],
   "source": [
    "def calculate_fft(signal, sfreq):\n",
    "    \"\"\" signal: can be 1D array of (n_sample,) or 2D array of (n_signal, n_sample)  \"\"\"\n",
    "    number_sample = signal.shape[-1]\n",
    "\n",
    "    # the result will be a complex number. We can obtain the magnitude using `absolute`\n",
    "    magnitude = np.abs(np.fft.fft(signal))\n",
    "    # scale the result\n",
    "    magnitude = magnitude / (number_sample/2)\n",
    "    # Selecting the range\n",
    "    magnitude = magnitude.T[:number_sample//2].T\n",
    "    freq_range = np.fft.fftfreq(number_sample, d=1/sfreq)[:number_sample//2]\n",
    "\n",
    "    return magnitude, freq_range"
   ]
  },
  {
   "cell_type": "code",
   "execution_count": 11,
   "metadata": {},
   "outputs": [
    {
     "data": {
      "application/vnd.jupyter.widget-view+json": {
       "model_id": "c1c7cd91c68a489084cda5e1065500aa",
       "version_major": 2,
       "version_minor": 0
      },
      "text/plain": [
       "  0%|          | 0/32 [00:00<?, ?it/s]"
      ]
     },
     "metadata": {},
     "output_type": "display_data"
    },
    {
     "name": "stdout",
     "output_type": "stream",
     "text": [
      "Fitted sphere radius:         95.3 mm\n",
      "Origin head coordinates:      -0.8 15.1 45.3 mm\n",
      "Origin device coordinates:    -0.8 15.1 45.3 mm\n",
      "========= close ========\n",
      "\tAROUSAL-s01|Acc=0.75|10-CV=0.525|STD=0.14705|Time spend=0.9849221706390381\n",
      "\tVALENCE-s01|Acc=0.725|10-CV=0.415|STD=0.05937|Time spend=1.0343735218048096\n",
      "Fitted sphere radius:         95.3 mm\n",
      "Origin head coordinates:      -0.8 15.1 45.3 mm\n",
      "Origin device coordinates:    -0.8 15.1 45.3 mm\n",
      "========= close ========\n",
      "\tAROUSAL-s02|Acc=0.6|10-CV=0.535|STD=0.11413|Time spend=1.0558483600616455\n",
      "\tVALENCE-s02|Acc=0.7125|10-CV=0.53|STD=0.1249|Time spend=1.1096932888031006\n",
      "Fitted sphere radius:         95.3 mm\n",
      "Origin head coordinates:      -0.8 15.1 45.3 mm\n",
      "Origin device coordinates:    -0.8 15.1 45.3 mm\n",
      "========= close ========\n",
      "\tAROUSAL-s03|Acc=0.8|10-CV=0.73|STD=0.15524|Time spend=0.9763391017913818\n",
      "\tVALENCE-s03|Acc=0.55|10-CV=0.435|STD=0.11843|Time spend=1.0335650444030762\n",
      "Fitted sphere radius:         95.3 mm\n",
      "Origin head coordinates:      -0.8 15.1 45.3 mm\n",
      "Origin device coordinates:    -0.8 15.1 45.3 mm\n",
      "========= close ========\n",
      "\tAROUSAL-s04|Acc=0.6|10-CV=0.55|STD=0.19621|Time spend=0.8829407691955566\n",
      "\tVALENCE-s04|Acc=0.6|10-CV=0.495|STD=0.19033|Time spend=0.9357209205627441\n",
      "Fitted sphere radius:         95.3 mm\n",
      "Origin head coordinates:      -0.8 15.1 45.3 mm\n",
      "Origin device coordinates:    -0.8 15.1 45.3 mm\n",
      "========= close ========\n",
      "\tAROUSAL-s05|Acc=0.625|10-CV=0.39|STD=0.09434|Time spend=0.9420421123504639\n",
      "\tVALENCE-s05|Acc=0.6375|10-CV=0.595|STD=0.11057|Time spend=0.9921338558197021\n",
      "Fitted sphere radius:         95.3 mm\n",
      "Origin head coordinates:      -0.8 15.1 45.3 mm\n",
      "Origin device coordinates:    -0.8 15.1 45.3 mm\n",
      "========= close ========\n",
      "\tAROUSAL-s06|Acc=0.65|10-CV=0.55|STD=0.15811|Time spend=0.8836812973022461\n",
      "\tVALENCE-s06|Acc=0.75|10-CV=0.72|STD=0.07483|Time spend=0.9303145408630371\n",
      "Fitted sphere radius:         95.3 mm\n",
      "Origin head coordinates:      -0.8 15.1 45.3 mm\n",
      "Origin device coordinates:    -0.8 15.1 45.3 mm\n",
      "========= close ========\n",
      "\tAROUSAL-s07|Acc=0.6375|10-CV=0.61|STD=0.12|Time spend=0.9142343997955322\n",
      "\tVALENCE-s07|Acc=0.7125|10-CV=0.665|STD=0.1163|Time spend=0.9772651195526123\n",
      "Fitted sphere radius:         95.3 mm\n",
      "Origin head coordinates:      -0.8 15.1 45.3 mm\n",
      "Origin device coordinates:    -0.8 15.1 45.3 mm\n",
      "========= close ========\n",
      "\tAROUSAL-s08|Acc=0.65|10-CV=0.42|STD=0.11225|Time spend=0.9063549041748047\n",
      "\tVALENCE-s08|Acc=0.75|10-CV=0.57|STD=0.10536|Time spend=0.9561543464660645\n",
      "Fitted sphere radius:         95.3 mm\n",
      "Origin head coordinates:      -0.8 15.1 45.3 mm\n",
      "Origin device coordinates:    -0.8 15.1 45.3 mm\n",
      "========= close ========\n",
      "\tAROUSAL-s09|Acc=0.6|10-CV=0.545|STD=0.135|Time spend=0.9269299507141113\n",
      "\tVALENCE-s09|Acc=0.7625|10-CV=0.675|STD=0.09811|Time spend=0.9905920028686523\n",
      "Fitted sphere radius:         95.3 mm\n",
      "Origin head coordinates:      -0.8 15.1 45.3 mm\n",
      "Origin device coordinates:    -0.8 15.1 45.3 mm\n",
      "========= close ========\n",
      "\tAROUSAL-s10|Acc=0.6875|10-CV=0.525|STD=0.13829|Time spend=0.9331145286560059\n",
      "\tVALENCE-s10|Acc=0.8125|10-CV=0.78|STD=0.09539|Time spend=0.984346866607666\n",
      "Fitted sphere radius:         95.3 mm\n",
      "Origin head coordinates:      -0.8 15.1 45.3 mm\n",
      "Origin device coordinates:    -0.8 15.1 45.3 mm\n",
      "========= close ========\n",
      "\tAROUSAL-s11|Acc=0.6625|10-CV=0.61|STD=0.07348|Time spend=0.884528398513794\n",
      "\tVALENCE-s11|Acc=0.7|10-CV=0.6|STD=0.18841|Time spend=0.9395442008972168\n",
      "Fitted sphere radius:         95.3 mm\n",
      "Origin head coordinates:      -0.8 15.1 45.3 mm\n",
      "Origin device coordinates:    -0.8 15.1 45.3 mm\n",
      "========= close ========\n",
      "\tAROUSAL-s12|Acc=0.825|10-CV=0.83|STD=0.1005|Time spend=0.8967616558074951\n",
      "\tVALENCE-s12|Acc=0.7|10-CV=0.42|STD=0.1249|Time spend=0.9464178085327148\n",
      "Fitted sphere radius:         95.3 mm\n",
      "Origin head coordinates:      -0.8 15.1 45.3 mm\n",
      "Origin device coordinates:    -0.8 15.1 45.3 mm\n",
      "========= close ========\n",
      "\tAROUSAL-s13|Acc=0.85|10-CV=0.84|STD=0.06633|Time spend=0.8774919509887695\n",
      "\tVALENCE-s13|Acc=0.7625|10-CV=0.565|STD=0.1246|Time spend=0.9283866882324219\n",
      "Fitted sphere radius:         95.3 mm\n",
      "Origin head coordinates:      -0.8 15.1 45.3 mm\n",
      "Origin device coordinates:    -0.8 15.1 45.3 mm\n",
      "========= close ========\n",
      "\tAROUSAL-s14|Acc=0.675|10-CV=0.65|STD=0.10247|Time spend=0.9479944705963135\n",
      "\tVALENCE-s14|Acc=0.7625|10-CV=0.53|STD=0.13454|Time spend=1.0259497165679932\n",
      "Fitted sphere radius:         95.3 mm\n",
      "Origin head coordinates:      -0.8 15.1 45.3 mm\n",
      "Origin device coordinates:    -0.8 15.1 45.3 mm\n",
      "========= close ========\n",
      "\tAROUSAL-s15|Acc=0.625|10-CV=0.49|STD=0.1044|Time spend=1.3385512828826904\n",
      "\tVALENCE-s15|Acc=0.7625|10-CV=0.7|STD=0.1|Time spend=1.3891913890838623\n",
      "Fitted sphere radius:         95.3 mm\n",
      "Origin head coordinates:      -0.8 15.1 45.3 mm\n",
      "Origin device coordinates:    -0.8 15.1 45.3 mm\n",
      "========= close ========\n",
      "\tAROUSAL-s16|Acc=0.65|10-CV=0.46|STD=0.10909|Time spend=0.9831387996673584\n",
      "\tVALENCE-s16|Acc=0.625|10-CV=0.635|STD=0.095|Time spend=1.0368564128875732\n",
      "Fitted sphere radius:         95.3 mm\n",
      "Origin head coordinates:      -0.8 15.1 45.3 mm\n",
      "Origin device coordinates:    -0.8 15.1 45.3 mm\n",
      "========= close ========\n",
      "\tAROUSAL-s17|Acc=0.6875|10-CV=0.55|STD=0.08062|Time spend=0.8871171474456787\n",
      "\tVALENCE-s17|Acc=0.55|10-CV=0.405|STD=0.09069|Time spend=0.9463050365447998\n",
      "Fitted sphere radius:         95.3 mm\n",
      "Origin head coordinates:      -0.8 15.1 45.3 mm\n",
      "Origin device coordinates:    -0.8 15.1 45.3 mm\n",
      "========= close ========\n",
      "\tAROUSAL-s18|Acc=0.625|10-CV=0.59|STD=0.12207|Time spend=0.8854315280914307\n",
      "\tVALENCE-s18|Acc=0.75|10-CV=0.62|STD=0.20273|Time spend=0.9475996494293213\n",
      "Fitted sphere radius:         95.3 mm\n",
      "Origin head coordinates:      -0.8 15.1 45.3 mm\n",
      "Origin device coordinates:    -0.8 15.1 45.3 mm\n",
      "========= close ========\n",
      "\tAROUSAL-s19|Acc=0.75|10-CV=0.63|STD=0.13454|Time spend=0.9609909057617188\n",
      "\tVALENCE-s19|Acc=0.7125|10-CV=0.465|STD=0.1246|Time spend=1.012751817703247\n",
      "Fitted sphere radius:         95.3 mm\n",
      "Origin head coordinates:      -0.8 15.1 45.3 mm\n",
      "Origin device coordinates:    -0.8 15.1 45.3 mm\n",
      "========= close ========\n",
      "\tAROUSAL-s20|Acc=0.775|10-CV=0.82|STD=0.08718|Time spend=0.9944565296173096\n",
      "\tVALENCE-s20|Acc=0.6875|10-CV=0.515|STD=0.17183|Time spend=1.061772108078003\n",
      "Fitted sphere radius:         95.3 mm\n",
      "Origin head coordinates:      -0.8 15.1 45.3 mm\n",
      "Origin device coordinates:    -0.8 15.1 45.3 mm\n",
      "========= close ========\n",
      "\tAROUSAL-s21|Acc=0.8|10-CV=0.8|STD=0.1|Time spend=0.9147729873657227\n",
      "\tVALENCE-s21|Acc=0.65|10-CV=0.495|STD=0.14396|Time spend=0.9660458564758301\n",
      "Fitted sphere radius:         95.3 mm\n",
      "Origin head coordinates:      -0.8 15.1 45.3 mm\n",
      "Origin device coordinates:    -0.8 15.1 45.3 mm\n",
      "========= close ========\n",
      "\tAROUSAL-s22|Acc=0.6|10-CV=0.59|STD=0.07|Time spend=0.8824081420898438\n",
      "\tVALENCE-s22|Acc=0.6125|10-CV=0.525|STD=0.11011|Time spend=0.9339127540588379\n",
      "Fitted sphere radius:         95.3 mm\n",
      "Origin head coordinates:      -0.8 15.1 45.3 mm\n",
      "Origin device coordinates:    -0.8 15.1 45.3 mm\n",
      "========= close ========\n",
      "\tAROUSAL-s23|Acc=0.75|10-CV=0.78|STD=0.09798|Time spend=0.9454302787780762\n",
      "\tVALENCE-s23|Acc=0.65|10-CV=0.61|STD=0.15133|Time spend=0.9970085620880127\n",
      "Fitted sphere radius:         95.3 mm\n",
      "Origin head coordinates:      -0.8 15.1 45.3 mm\n",
      "Origin device coordinates:    -0.8 15.1 45.3 mm\n",
      "========= close ========\n",
      "\tAROUSAL-s24|Acc=0.825|10-CV=0.82|STD=0.07483|Time spend=1.5146293640136719\n",
      "\tVALENCE-s24|Acc=0.6|10-CV=0.48|STD=0.12884|Time spend=1.582958459854126\n",
      "Fitted sphere radius:         95.3 mm\n",
      "Origin head coordinates:      -0.8 15.1 45.3 mm\n",
      "Origin device coordinates:    -0.8 15.1 45.3 mm\n",
      "========= close ========\n",
      "\tAROUSAL-s25|Acc=0.725|10-CV=0.74|STD=0.12806|Time spend=1.0701863765716553\n",
      "\tVALENCE-s25|Acc=0.6375|10-CV=0.355|STD=0.115|Time spend=1.1230545043945312\n",
      "Fitted sphere radius:         95.3 mm\n",
      "Origin head coordinates:      -0.8 15.1 45.3 mm\n",
      "Origin device coordinates:    -0.8 15.1 45.3 mm\n",
      "========= close ========\n",
      "\tAROUSAL-s26|Acc=0.7|10-CV=0.505|STD=0.16039|Time spend=0.8838982582092285\n",
      "\tVALENCE-s26|Acc=0.65|10-CV=0.62|STD=0.14|Time spend=0.9366819858551025\n",
      "Fitted sphere radius:         95.3 mm\n",
      "Origin head coordinates:      -0.8 15.1 45.3 mm\n",
      "Origin device coordinates:    -0.8 15.1 45.3 mm\n",
      "========= close ========\n",
      "\tAROUSAL-s27|Acc=0.725|10-CV=0.665|STD=0.11843|Time spend=0.8942897319793701\n",
      "\tVALENCE-s27|Acc=0.775|10-CV=0.665|STD=0.11843|Time spend=0.9500389099121094\n",
      "Fitted sphere radius:         95.3 mm\n",
      "Origin head coordinates:      -0.8 15.1 45.3 mm\n",
      "Origin device coordinates:    -0.8 15.1 45.3 mm\n",
      "========= close ========\n",
      "\tAROUSAL-s28|Acc=0.575|10-CV=0.43|STD=0.15362|Time spend=0.8863039016723633\n",
      "\tVALENCE-s28|Acc=0.625|10-CV=0.515|STD=0.16439|Time spend=0.9358248710632324\n",
      "Fitted sphere radius:         95.3 mm\n",
      "Origin head coordinates:      -0.8 15.1 45.3 mm\n",
      "Origin device coordinates:    -0.8 15.1 45.3 mm\n",
      "========= close ========\n",
      "\tAROUSAL-s29|Acc=0.7375|10-CV=0.575|STD=0.12093|Time spend=1.006098985671997\n",
      "\tVALENCE-s29|Acc=0.7125|10-CV=0.605|STD=0.10356|Time spend=1.0541713237762451\n",
      "Fitted sphere radius:         95.3 mm\n",
      "Origin head coordinates:      -0.8 15.1 45.3 mm\n",
      "Origin device coordinates:    -0.8 15.1 45.3 mm\n",
      "========= close ========\n",
      "\tAROUSAL-s30|Acc=0.725|10-CV=0.585|STD=0.13048|Time spend=0.9756410121917725\n",
      "\tVALENCE-s30|Acc=0.6875|10-CV=0.61|STD=0.14283|Time spend=1.026482105255127\n",
      "Fitted sphere radius:         95.3 mm\n",
      "Origin head coordinates:      -0.8 15.1 45.3 mm\n",
      "Origin device coordinates:    -0.8 15.1 45.3 mm\n",
      "========= close ========\n",
      "\tAROUSAL-s31|Acc=0.7125|10-CV=0.465|STD=0.13973|Time spend=0.9417002201080322\n",
      "\tVALENCE-s31|Acc=0.575|10-CV=0.47|STD=0.11225|Time spend=0.9930365085601807\n",
      "Fitted sphere radius:         95.3 mm\n",
      "Origin head coordinates:      -0.8 15.1 45.3 mm\n",
      "Origin device coordinates:    -0.8 15.1 45.3 mm\n",
      "========= close ========\n",
      "\tAROUSAL-s32|Acc=0.7125|10-CV=0.685|STD=0.13426|Time spend=0.8701794147491455\n",
      "\tVALENCE-s32|Acc=0.7625|10-CV=0.65|STD=0.11619|Time spend=0.9214818477630615\n",
      "AROUSAL|Acc=0.6972656250000001|10-CV=0.6090625000000001|STD=0.1181259485755288\n",
      "VALENCE|Acc=0.6863281249999998|10-CV=0.5604687499999998|STD=0.1249305021558647\n"
     ]
    }
   ],
   "source": [
    "accs, cv_means, cv_stds = [],[],[]\n",
    "accs_v, cv_means_v, cv_stds_v = [],[],[]\n",
    "reports = []\n",
    "for filename in (pbar := tqdm(dataset.get_file_list())):\n",
    "    start = time.time()\n",
    "    pbar.set_description(filename)\n",
    "    data, labels, groups = dataset.get_data(filename, stimuli=Dataset_subjectDependent.STIMULI_AROUSAL, return_type='mne', sfreq=128)\n",
    "    \n",
    "    data_csd = mne.preprocessing.compute_current_source_density(data)\n",
    "    magnitude, freq_range = calculate_fft(data_csd.get_data(), 128)\n",
    "    pcc = calculate_pcc(magnitude)\n",
    "    _,acc,cross,train_report = train_model(pcc, labels.squeeze(), groups, filename=filename, return_text=True)\n",
    "    report = f\"\\tAROUSAL-{filename}|Acc={round(acc,5)}|10-CV={round(cross.mean(),5)}|STD={round(cross.std(),5)}|Time spend={time.time() - start}\"\n",
    "    print(report)\n",
    "    reports.append(report)\n",
    "    reports.append(train_report)\n",
    "    accs.append(acc)\n",
    "    cv_means.append(cross.mean())\n",
    "    cv_stds.append(cross.std())\n",
    "\n",
    "    _, labels_v, groups_v = dataset.get_data(filename, stimuli=Dataset_subjectDependent.STIMULI_VALENCE, return_type='mne', sfreq=128)\n",
    "    _,acc,cross,train_report = train_model(pcc, labels_v.squeeze(), groups_v, filename=filename, return_text=True)\n",
    "    report = f\"\\tVALENCE-{filename}|Acc={round(acc,5)}|10-CV={round(cross.mean(),5)}|STD={round(cross.std(),5)}|Time spend={time.time() - start}\"\n",
    "    print(report)\n",
    "    reports.append(report)\n",
    "    reports.append(train_report)\n",
    "    accs_v.append(acc)\n",
    "    cv_means_v.append(cross.mean())\n",
    "    cv_stds_v.append(cross.std())\n",
    "    # break\n",
    "    # count+=1\n",
    "    # if(count == 5): break\n",
    "report = f\"AROUSAL|Acc={sum(accs)/len(accs)}|10-CV={sum(cv_means)/len(cv_means)}|STD={sum(cv_stds)/len(cv_stds)}\"\n",
    "print(report)\n",
    "reports.append(report)\n",
    "report = f\"VALENCE|Acc={sum(accs_v)/len(accs_v)}|10-CV={sum(cv_means_v)/len(cv_means_v)}|STD={sum(cv_stds_v)/len(cv_stds_v)}\"\n",
    "print(report)\n",
    "reports.append(report)"
   ]
  },
  {
   "cell_type": "code",
   "execution_count": 12,
   "metadata": {},
   "outputs": [
    {
     "name": "stdout",
     "output_type": "stream",
     "text": [
      "\tAROUSAL-s01|Acc=0.75|10-CV=0.525|STD=0.14705|Time spend=0.9849221706390381\n",
      "\tVALENCE-s01|Acc=0.725|10-CV=0.415|STD=0.05937|Time spend=1.0343735218048096\n",
      "\tAROUSAL-s02|Acc=0.6|10-CV=0.535|STD=0.11413|Time spend=1.0558483600616455\n",
      "-----WARNING: Model s02 failed to learn: sum(ans)=80.0 sum(y)=48.0 len(y)=80\n",
      "\tVALENCE-s02|Acc=0.7125|10-CV=0.53|STD=0.1249|Time spend=1.1096932888031006\n",
      "\tAROUSAL-s03|Acc=0.8|10-CV=0.73|STD=0.15524|Time spend=0.9763391017913818\n",
      "-----WARNING: Model s03 failed to learn: sum(ans)=0.0 sum(y)=16.0 len(y)=80\n",
      "\tVALENCE-s03|Acc=0.55|10-CV=0.435|STD=0.11843|Time spend=1.0335650444030762\n",
      "-----WARNING: Model s03 failed to learn: sum(ans)=80.0 sum(y)=44.0 len(y)=80\n",
      "\tAROUSAL-s04|Acc=0.6|10-CV=0.55|STD=0.19621|Time spend=0.8829407691955566\n",
      "-----WARNING: Model s04 failed to learn: sum(ans)=0.0 sum(y)=32.0 len(y)=80\n",
      "\tVALENCE-s04|Acc=0.6|10-CV=0.495|STD=0.19033|Time spend=0.9357209205627441\n",
      "-----WARNING: Model s04 failed to learn: sum(ans)=0.0 sum(y)=32.0 len(y)=80\n",
      "\tAROUSAL-s05|Acc=0.625|10-CV=0.39|STD=0.09434|Time spend=0.9420421123504639\n",
      "\tVALENCE-s05|Acc=0.6375|10-CV=0.595|STD=0.11057|Time spend=0.9921338558197021\n",
      "\tAROUSAL-s06|Acc=0.65|10-CV=0.55|STD=0.15811|Time spend=0.8836812973022461\n",
      "\tVALENCE-s06|Acc=0.75|10-CV=0.72|STD=0.07483|Time spend=0.9303145408630371\n",
      "-----WARNING: Model s06 failed to learn: sum(ans)=80.0 sum(y)=60.0 len(y)=80\n",
      "\tAROUSAL-s07|Acc=0.6375|10-CV=0.61|STD=0.12|Time spend=0.9142343997955322\n",
      "\tVALENCE-s07|Acc=0.7125|10-CV=0.665|STD=0.1163|Time spend=0.9772651195526123\n",
      "\tAROUSAL-s08|Acc=0.65|10-CV=0.42|STD=0.11225|Time spend=0.9063549041748047\n",
      "\tVALENCE-s08|Acc=0.75|10-CV=0.57|STD=0.10536|Time spend=0.9561543464660645\n",
      "\tAROUSAL-s09|Acc=0.6|10-CV=0.545|STD=0.135|Time spend=0.9269299507141113\n",
      "-----WARNING: Model s09 failed to learn: sum(ans)=80.0 sum(y)=48.0 len(y)=80\n",
      "\tVALENCE-s09|Acc=0.7625|10-CV=0.675|STD=0.09811|Time spend=0.9905920028686523\n",
      "\tAROUSAL-s10|Acc=0.6875|10-CV=0.525|STD=0.13829|Time spend=0.9331145286560059\n",
      "\tVALENCE-s10|Acc=0.8125|10-CV=0.78|STD=0.09539|Time spend=0.984346866607666\n",
      "\tAROUSAL-s11|Acc=0.6625|10-CV=0.61|STD=0.07348|Time spend=0.884528398513794\n",
      "\tVALENCE-s11|Acc=0.7|10-CV=0.6|STD=0.18841|Time spend=0.9395442008972168\n",
      "\tAROUSAL-s12|Acc=0.825|10-CV=0.83|STD=0.1005|Time spend=0.8967616558074951\n",
      "-----WARNING: Model s12 failed to learn: sum(ans)=80.0 sum(y)=66.0 len(y)=80\n",
      "\tVALENCE-s12|Acc=0.7|10-CV=0.42|STD=0.1249|Time spend=0.9464178085327148\n",
      "\tAROUSAL-s13|Acc=0.85|10-CV=0.84|STD=0.06633|Time spend=0.8774919509887695\n",
      "-----WARNING: Model s13 failed to learn: sum(ans)=80.0 sum(y)=68.0 len(y)=80\n",
      "\tVALENCE-s13|Acc=0.7625|10-CV=0.565|STD=0.1246|Time spend=0.9283866882324219\n",
      "\tAROUSAL-s14|Acc=0.675|10-CV=0.65|STD=0.10247|Time spend=0.9479944705963135\n",
      "-----WARNING: Model s14 failed to learn: sum(ans)=80.0 sum(y)=54.0 len(y)=80\n",
      "\tVALENCE-s14|Acc=0.7625|10-CV=0.53|STD=0.13454|Time spend=1.0259497165679932\n",
      "\tAROUSAL-s15|Acc=0.625|10-CV=0.49|STD=0.1044|Time spend=1.3385512828826904\n",
      "\tVALENCE-s15|Acc=0.7625|10-CV=0.7|STD=0.1|Time spend=1.3891913890838623\n",
      "\tAROUSAL-s16|Acc=0.65|10-CV=0.46|STD=0.10909|Time spend=0.9831387996673584\n",
      "\tVALENCE-s16|Acc=0.625|10-CV=0.635|STD=0.095|Time spend=1.0368564128875732\n",
      "-----WARNING: Model s16 failed to learn: sum(ans)=0.0 sum(y)=30.0 len(y)=80\n",
      "\tAROUSAL-s17|Acc=0.6875|10-CV=0.55|STD=0.08062|Time spend=0.8871171474456787\n",
      "\tVALENCE-s17|Acc=0.55|10-CV=0.405|STD=0.09069|Time spend=0.9463050365447998\n",
      "-----WARNING: Model s17 failed to learn: sum(ans)=80.0 sum(y)=44.0 len(y)=80\n",
      "\tAROUSAL-s18|Acc=0.625|10-CV=0.59|STD=0.12207|Time spend=0.8854315280914307\n",
      "-----WARNING: Model s18 failed to learn: sum(ans)=80.0 sum(y)=50.0 len(y)=80\n",
      "\tVALENCE-s18|Acc=0.75|10-CV=0.62|STD=0.20273|Time spend=0.9475996494293213\n",
      "\tAROUSAL-s19|Acc=0.75|10-CV=0.63|STD=0.13454|Time spend=0.9609909057617188\n",
      "\tVALENCE-s19|Acc=0.7125|10-CV=0.465|STD=0.1246|Time spend=1.012751817703247\n",
      "\tAROUSAL-s20|Acc=0.775|10-CV=0.82|STD=0.08718|Time spend=0.9944565296173096\n",
      "-----WARNING: Model s20 failed to learn: sum(ans)=80.0 sum(y)=62.0 len(y)=80\n",
      "\tVALENCE-s20|Acc=0.6875|10-CV=0.515|STD=0.17183|Time spend=1.061772108078003\n",
      "\tAROUSAL-s21|Acc=0.8|10-CV=0.8|STD=0.1|Time spend=0.9147729873657227\n",
      "-----WARNING: Model s21 failed to learn: sum(ans)=80.0 sum(y)=64.0 len(y)=80\n",
      "\tVALENCE-s21|Acc=0.65|10-CV=0.495|STD=0.14396|Time spend=0.9660458564758301\n",
      "\tAROUSAL-s22|Acc=0.6|10-CV=0.59|STD=0.07|Time spend=0.8824081420898438\n",
      "-----WARNING: Model s22 failed to learn: sum(ans)=80.0 sum(y)=48.0 len(y)=80\n",
      "\tVALENCE-s22|Acc=0.6125|10-CV=0.525|STD=0.11011|Time spend=0.9339127540588379\n",
      "\tAROUSAL-s23|Acc=0.75|10-CV=0.78|STD=0.09798|Time spend=0.9454302787780762\n",
      "-----WARNING: Model s23 failed to learn: sum(ans)=0.0 sum(y)=20.0 len(y)=80\n",
      "\tVALENCE-s23|Acc=0.65|10-CV=0.61|STD=0.15133|Time spend=0.9970085620880127\n",
      "-----WARNING: Model s23 failed to learn: sum(ans)=80.0 sum(y)=52.0 len(y)=80\n",
      "\tAROUSAL-s24|Acc=0.825|10-CV=0.82|STD=0.07483|Time spend=1.5146293640136719\n",
      "-----WARNING: Model s24 failed to learn: sum(ans)=80.0 sum(y)=66.0 len(y)=80\n",
      "\tVALENCE-s24|Acc=0.6|10-CV=0.48|STD=0.12884|Time spend=1.582958459854126\n",
      "\tAROUSAL-s25|Acc=0.725|10-CV=0.74|STD=0.12806|Time spend=1.0701863765716553\n",
      "-----WARNING: Model s25 failed to learn: sum(ans)=80.0 sum(y)=58.0 len(y)=80\n",
      "\tVALENCE-s25|Acc=0.6375|10-CV=0.355|STD=0.115|Time spend=1.1230545043945312\n",
      "\tAROUSAL-s26|Acc=0.7|10-CV=0.505|STD=0.16039|Time spend=0.8838982582092285\n",
      "\tVALENCE-s26|Acc=0.65|10-CV=0.62|STD=0.14|Time spend=0.9366819858551025\n",
      "-----WARNING: Model s26 failed to learn: sum(ans)=80.0 sum(y)=52.0 len(y)=80\n",
      "\tAROUSAL-s27|Acc=0.725|10-CV=0.665|STD=0.11843|Time spend=0.8942897319793701\n",
      "\tVALENCE-s27|Acc=0.775|10-CV=0.665|STD=0.11843|Time spend=0.9500389099121094\n",
      "\tAROUSAL-s28|Acc=0.575|10-CV=0.43|STD=0.15362|Time spend=0.8863039016723633\n",
      "\tVALENCE-s28|Acc=0.625|10-CV=0.515|STD=0.16439|Time spend=0.9358248710632324\n",
      "-----WARNING: Model s28 failed to learn: sum(ans)=80.0 sum(y)=50.0 len(y)=80\n",
      "\tAROUSAL-s29|Acc=0.7375|10-CV=0.575|STD=0.12093|Time spend=1.006098985671997\n",
      "\tVALENCE-s29|Acc=0.7125|10-CV=0.605|STD=0.10356|Time spend=1.0541713237762451\n",
      "\tAROUSAL-s30|Acc=0.725|10-CV=0.585|STD=0.13048|Time spend=0.9756410121917725\n",
      "\tVALENCE-s30|Acc=0.6875|10-CV=0.61|STD=0.14283|Time spend=1.026482105255127\n",
      "\tAROUSAL-s31|Acc=0.7125|10-CV=0.465|STD=0.13973|Time spend=0.9417002201080322\n",
      "\tVALENCE-s31|Acc=0.575|10-CV=0.47|STD=0.11225|Time spend=0.9930365085601807\n",
      "-----WARNING: Model s31 failed to learn: sum(ans)=80.0 sum(y)=46.0 len(y)=80\n",
      "\tAROUSAL-s32|Acc=0.7125|10-CV=0.685|STD=0.13426|Time spend=0.8701794147491455\n",
      "\tVALENCE-s32|Acc=0.7625|10-CV=0.65|STD=0.11619|Time spend=0.9214818477630615\n",
      "AROUSAL|Acc=0.6972656250000001|10-CV=0.6090625000000001|STD=0.1181259485755288\n",
      "VALENCE|Acc=0.6863281249999998|10-CV=0.5604687499999998|STD=0.1249305021558647\n",
      "TOTAL|Acc=0.691796875|10-CV=0.584765625|STD=0.12152822536569674\n"
     ]
    }
   ],
   "source": [
    "for text in reports:\n",
    "    if(text == None): continue\n",
    "    print(text)\n",
    "\n",
    "accs.extend(accs_v)\n",
    "cv_means.extend(cv_means_v)\n",
    "cv_stds.extend(cv_stds_v)\n",
    "print(f\"TOTAL|Acc={sum(accs)/len(accs)}|10-CV={sum(cv_means)/len(cv_means)}|STD={sum(cv_stds)/len(cv_stds)}\")"
   ]
  },
  {
   "cell_type": "markdown",
   "metadata": {},
   "source": [
    "### 4.3 $ \\text{PLV}(j,k) = \\frac{1}{T} | \\Sigma^{T}_{t=1} e^{i(\\phi^{t}_{j} - \\phi^{t}_{k})}   | $"
   ]
  },
  {
   "cell_type": "code",
   "execution_count": 13,
   "metadata": {},
   "outputs": [],
   "source": [
    "# bands = [(0,4), (4,8), (8,12), (12,30), (30,64)]\n",
    "def calculate_stft(signals, sfreq):\n",
    "    from scipy import signal\n",
    "    f_range, t_range, Z = signal.stft(signals, sfreq, nperseg=sfreq//10, nfft=sfreq)\n",
    "    magnitude = np.abs(Z) \n",
    "    phase = np.angle(Z)\n",
    "    return magnitude, phase, f_range, t_range\n",
    "\n",
    "def PLV_stft(p_id, phase):\n",
    "    # (32, 65, 12) => (channels, freqs, times)\n",
    "    # print(f\"p_id:{p_id} - data to run {phase.shape}\")\n",
    "    print(phase.shape)\n",
    "    from itertools import combinations\n",
    "    plv = []\n",
    "    # count = 0\n",
    "    for index in range(phase.shape[0]):\n",
    "        plv_epoch = []\n",
    "        for comb in combinations(list(range(phase.shape[1])), 2):\n",
    "            # shape = (65,12)\n",
    "            phase_a, phase_b = phase[index, comb[0]], phase[index, comb[1]]\n",
    "            phase_diff = phase_a - phase_b\n",
    "            # sum along the time size\n",
    "            plv_ab = np.abs(np.average(np.exp(complex(0,1) * phase_diff), axis=1))\n",
    "            plv_epoch.append(plv_ab)\n",
    "        plv_epoch = np.vstack(plv_epoch)\n",
    "        # print(plv_epoch.shape) => (300, 32, 65, 23)\n",
    "        plv_epoch_5 = np.concatenate([ plv_epoch[:,0:4].mean(axis=1).reshape(-1,1),\n",
    "                                        plv_epoch[:,4:8].mean(axis=1).reshape(-1,1),\n",
    "                                        plv_epoch[:,8:12].mean(axis=1).reshape(-1,1),\n",
    "                                        plv_epoch[:,12:30].mean(axis=1).reshape(-1,1),\n",
    "                                        plv_epoch[:,30:65].mean(axis=1).reshape(-1,1)], axis=0)\n",
    "        plv.append(np.expand_dims(plv_epoch_5, axis=0))\n",
    "        # count += 1\n",
    "        # if(count == 3): break\n",
    "    # shape (496, 65)\n",
    "    # 496 is number of pairs that is not duplicate\n",
    "    # 65 is number of phase of frequencies\n",
    "    plv = np.vstack( plv )\n",
    "    return plv.squeeze()\n",
    "\n",
    "def calculate_plv(data, n_jobs=8):\n",
    "    \"\"\" \n",
    "    Input: Expect data to have (n_epochs, n_channels, n_samples)\n",
    "    Output: (n_epochs, n_conn, n_freqs ) => n_conn = n_channels!/(2!(n_channels-2)!)\n",
    "    \"\"\"\n",
    "    from multiprocessing import Pool\n",
    "\n",
    "    try:\n",
    "        t_out = 60000\n",
    "        pool = Pool()\n",
    "        p_list = []\n",
    "        ans_list = []\n",
    "        num_p = n_jobs\n",
    "        indices = np.array_split(np.arange(data.shape[0]), num_p)\n",
    "        _, phase, _, _ = calculate_stft(data, 128)\n",
    "        for p_id in range(num_p):\n",
    "            p_list.append(pool.apply_async(PLV_stft, [p_id, phase[indices[p_id]] ]))\n",
    "        for p_id in range(num_p):\n",
    "            ans_list.append( p_list[p_id].get(timeout=t_out) )\n",
    "        # ans_list\n",
    "    finally:\n",
    "        print(\"========= close ========\")\n",
    "        pool.close() \n",
    "        pool.terminate()\n",
    "    return np.vstack(ans_list)\n"
   ]
  },
  {
   "cell_type": "code",
   "execution_count": 14,
   "metadata": {},
   "outputs": [
    {
     "data": {
      "application/vnd.jupyter.widget-view+json": {
       "model_id": "c3fb51cfdb1b479c8cfcb0a5463c5225",
       "version_major": 2,
       "version_minor": 0
      },
      "text/plain": [
       "  0%|          | 0/32 [00:00<?, ?it/s]"
      ]
     },
     "metadata": {},
     "output_type": "display_data"
    },
    {
     "name": "stdout",
     "output_type": "stream",
     "text": [
      "Fitted sphere radius:         95.3 mm\n",
      "Origin head coordinates:      -0.8 15.1 45.3 mm\n",
      "Origin device coordinates:    -0.8 15.1 45.3 mm\n",
      "(10, 32, 65, 641)\n",
      "(10, 32, 65, 641)\n",
      "(10, 32, 65, 641)\n",
      "(10, 32, 65, 641)\n",
      "(10, 32, 65, 641)\n",
      "(10, 32, 65, 641)\n",
      "(10, 32, 65, 641)\n",
      "(10, 32, 65, 641)\n",
      "========= close ========\n",
      "\tAROUSAL-s01|Acc=0.6375|10-CV=0.55|STD=0.15|Time spend=23.418017148971558\n",
      "\tVALENCE-s01|Acc=0.6875|10-CV=0.495|STD=0.13124|Time spend=23.63770890235901\n",
      "Fitted sphere radius:         95.3 mm\n",
      "Origin head coordinates:      -0.8 15.1 45.3 mm\n",
      "Origin device coordinates:    -0.8 15.1 45.3 mm\n",
      "(10, 32, 65, 641)\n",
      "(10, 32, 65, 641)\n",
      "(10, 32, 65, 641)\n",
      "(10, 32, 65, 641)\n",
      "(10, 32, 65, 641)\n",
      "(10, 32, 65, 641)\n",
      "(10, 32, 65, 641)\n",
      "(10, 32, 65, 641)\n",
      "========= close ========\n",
      "\tAROUSAL-s02|Acc=0.6|10-CV=0.5|STD=0.07746|Time spend=17.99298906326294\n",
      "\tVALENCE-s02|Acc=0.7625|10-CV=0.655|STD=0.11715|Time spend=18.179803133010864\n",
      "Fitted sphere radius:         95.3 mm\n",
      "Origin head coordinates:      -0.8 15.1 45.3 mm\n",
      "Origin device coordinates:    -0.8 15.1 45.3 mm\n",
      "(10, 32, 65, 641)\n",
      "(10, 32, 65, 641)\n",
      "(10, 32, 65, 641)\n",
      "(10, 32, 65, 641)\n",
      "(10, 32, 65, 641)\n",
      "(10, 32, 65, 641)\n",
      "(10, 32, 65, 641)\n",
      "(10, 32, 65, 641)\n",
      "========= close ========\n",
      "\tAROUSAL-s03|Acc=0.8|10-CV=0.73|STD=0.15524|Time spend=18.3594491481781\n",
      "\tVALENCE-s03|Acc=0.625|10-CV=0.485|STD=0.16132|Time spend=18.54895520210266\n",
      "Fitted sphere radius:         95.3 mm\n",
      "Origin head coordinates:      -0.8 15.1 45.3 mm\n",
      "Origin device coordinates:    -0.8 15.1 45.3 mm\n",
      "(10, 32, 65, 641)\n",
      "(10, 32, 65, 641)\n",
      "(10, 32, 65, 641)\n",
      "(10, 32, 65, 641)\n",
      "(10, 32, 65, 641)\n",
      "(10, 32, 65, 641)\n",
      "(10, 32, 65, 641)\n",
      "(10, 32, 65, 641)\n",
      "========= close ========\n",
      "\tAROUSAL-s04|Acc=0.6375|10-CV=0.56|STD=0.11136|Time spend=16.5161612033844\n",
      "\tVALENCE-s04|Acc=0.75|10-CV=0.515|STD=0.08958|Time spend=16.693315505981445\n",
      "Fitted sphere radius:         95.3 mm\n",
      "Origin head coordinates:      -0.8 15.1 45.3 mm\n",
      "Origin device coordinates:    -0.8 15.1 45.3 mm\n",
      "(10, 32, 65, 641)\n",
      "(10, 32, 65, 641)\n",
      "(10, 32, 65, 641)\n",
      "(10, 32, 65, 641)\n",
      "(10, 32, 65, 641)\n",
      "(10, 32, 65, 641)\n",
      "(10, 32, 65, 641)\n",
      "(10, 32, 65, 641)\n",
      "========= close ========\n",
      "\tAROUSAL-s05|Acc=0.6625|10-CV=0.46|STD=0.13|Time spend=17.372772455215454\n",
      "\tVALENCE-s05|Acc=0.6|10-CV=0.585|STD=0.08958|Time spend=17.567501306533813\n",
      "Fitted sphere radius:         95.3 mm\n",
      "Origin head coordinates:      -0.8 15.1 45.3 mm\n",
      "Origin device coordinates:    -0.8 15.1 45.3 mm\n",
      "(10, 32, 65, 641)\n",
      "(10, 32, 65, 641)\n",
      "(10, 32, 65, 641)\n",
      "(10, 32, 65, 641)\n",
      "(10, 32, 65, 641)\n",
      "(10, 32, 65, 641)\n",
      "(10, 32, 65, 641)\n",
      "(10, 32, 65, 641)\n",
      "========= close ========\n",
      "\tAROUSAL-s06|Acc=0.6|10-CV=0.51|STD=0.14967|Time spend=17.56151247024536\n",
      "\tVALENCE-s06|Acc=0.75|10-CV=0.72|STD=0.07483|Time spend=17.643237829208374\n",
      "Fitted sphere radius:         95.3 mm\n",
      "Origin head coordinates:      -0.8 15.1 45.3 mm\n",
      "Origin device coordinates:    -0.8 15.1 45.3 mm\n",
      "(10, 32, 65, 641)\n",
      "(10, 32, 65, 641)\n",
      "(10, 32, 65, 641)\n",
      "(10, 32, 65, 641)\n",
      "(10, 32, 65, 641)\n",
      "(10, 32, 65, 641)\n",
      "(10, 32, 65, 641)\n",
      "(10, 32, 65, 641)\n",
      "========= close ========\n",
      "\tAROUSAL-s07|Acc=0.675|10-CV=0.645|STD=0.135|Time spend=17.58896255493164\n",
      "\tVALENCE-s07|Acc=0.7|10-CV=0.675|STD=0.14874|Time spend=17.767035722732544\n",
      "Fitted sphere radius:         95.3 mm\n",
      "Origin head coordinates:      -0.8 15.1 45.3 mm\n",
      "Origin device coordinates:    -0.8 15.1 45.3 mm\n",
      "(10, 32, 65, 641)\n",
      "(10, 32, 65, 641)\n",
      "(10, 32, 65, 641)\n",
      "(10, 32, 65, 641)\n",
      "(10, 32, 65, 641)\n",
      "(10, 32, 65, 641)\n",
      "(10, 32, 65, 641)\n",
      "(10, 32, 65, 641)\n",
      "========= close ========\n",
      "\tAROUSAL-s08|Acc=0.6875|10-CV=0.4|STD=0.11832|Time spend=18.103455781936646\n",
      "\tVALENCE-s08|Acc=0.7375|10-CV=0.565|STD=0.14841|Time spend=18.28239369392395\n",
      "Fitted sphere radius:         95.3 mm\n",
      "Origin head coordinates:      -0.8 15.1 45.3 mm\n",
      "Origin device coordinates:    -0.8 15.1 45.3 mm\n",
      "(10, 32, 65, 641)\n",
      "(10, 32, 65, 641)\n",
      "(10, 32, 65, 641)\n",
      "(10, 32, 65, 641)\n",
      "(10, 32, 65, 641)\n",
      "(10, 32, 65, 641)\n",
      "(10, 32, 65, 641)\n",
      "(10, 32, 65, 641)\n",
      "========= close ========\n",
      "\tAROUSAL-s09|Acc=0.6625|10-CV=0.52|STD=0.10296|Time spend=17.57737708091736\n",
      "\tVALENCE-s09|Acc=0.8125|10-CV=0.67|STD=0.10536|Time spend=17.758101224899292\n",
      "Fitted sphere radius:         95.3 mm\n",
      "Origin head coordinates:      -0.8 15.1 45.3 mm\n",
      "Origin device coordinates:    -0.8 15.1 45.3 mm\n",
      "(10, 32, 65, 641)\n",
      "(10, 32, 65, 641)\n",
      "(10, 32, 65, 641)\n",
      "(10, 32, 65, 641)\n",
      "(10, 32, 65, 641)\n",
      "(10, 32, 65, 641)\n",
      "(10, 32, 65, 641)\n",
      "(10, 32, 65, 641)\n",
      "========= close ========\n",
      "\tAROUSAL-s10|Acc=0.725|10-CV=0.63|STD=0.10296|Time spend=17.415767908096313\n",
      "\tVALENCE-s10|Acc=0.825|10-CV=0.775|STD=0.10782|Time spend=17.591721534729004\n",
      "Fitted sphere radius:         95.3 mm\n",
      "Origin head coordinates:      -0.8 15.1 45.3 mm\n",
      "Origin device coordinates:    -0.8 15.1 45.3 mm\n",
      "(10, 32, 65, 641)\n",
      "(10, 32, 65, 641)\n",
      "(10, 32, 65, 641)\n",
      "(10, 32, 65, 641)\n",
      "(10, 32, 65, 641)\n",
      "(10, 32, 65, 641)\n",
      "(10, 32, 65, 641)\n",
      "(10, 32, 65, 641)\n",
      "========= close ========\n",
      "\tAROUSAL-s11|Acc=0.625|10-CV=0.595|STD=0.05679|Time spend=16.4972186088562\n",
      "\tVALENCE-s11|Acc=0.65|10-CV=0.545|STD=0.15564|Time spend=16.677016973495483\n",
      "Fitted sphere radius:         95.3 mm\n",
      "Origin head coordinates:      -0.8 15.1 45.3 mm\n",
      "Origin device coordinates:    -0.8 15.1 45.3 mm\n",
      "(10, 32, 65, 641)\n",
      "(10, 32, 65, 641)\n",
      "(10, 32, 65, 641)\n",
      "(10, 32, 65, 641)\n",
      "(10, 32, 65, 641)\n",
      "(10, 32, 65, 641)\n",
      "(10, 32, 65, 641)\n",
      "(10, 32, 65, 641)\n",
      "========= close ========\n",
      "\tAROUSAL-s12|Acc=0.825|10-CV=0.83|STD=0.1005|Time spend=17.38514471054077\n",
      "\tVALENCE-s12|Acc=0.6375|10-CV=0.47|STD=0.17916|Time spend=17.60232138633728\n",
      "Fitted sphere radius:         95.3 mm\n",
      "Origin head coordinates:      -0.8 15.1 45.3 mm\n",
      "Origin device coordinates:    -0.8 15.1 45.3 mm\n",
      "(10, 32, 65, 641)\n",
      "(10, 32, 65, 641)\n",
      "(10, 32, 65, 641)\n",
      "(10, 32, 65, 641)\n",
      "(10, 32, 65, 641)\n",
      "(10, 32, 65, 641)\n",
      "(10, 32, 65, 641)\n",
      "(10, 32, 65, 641)\n",
      "========= close ========\n",
      "\tAROUSAL-s13|Acc=0.85|10-CV=0.84|STD=0.06633|Time spend=16.74694538116455\n",
      "\tVALENCE-s13|Acc=0.8|10-CV=0.79|STD=0.11576|Time spend=16.93752884864807\n",
      "Fitted sphere radius:         95.3 mm\n",
      "Origin head coordinates:      -0.8 15.1 45.3 mm\n",
      "Origin device coordinates:    -0.8 15.1 45.3 mm\n",
      "(10, 32, 65, 641)\n",
      "(10, 32, 65, 641)\n",
      "(10, 32, 65, 641)\n",
      "(10, 32, 65, 641)\n",
      "(10, 32, 65, 641)\n",
      "(10, 32, 65, 641)\n",
      "(10, 32, 65, 641)\n",
      "(10, 32, 65, 641)\n",
      "========= close ========\n",
      "\tAROUSAL-s14|Acc=0.675|10-CV=0.65|STD=0.10247|Time spend=17.08780026435852\n",
      "\tVALENCE-s14|Acc=0.75|10-CV=0.6|STD=0.09747|Time spend=17.369000911712646\n",
      "Fitted sphere radius:         95.3 mm\n",
      "Origin head coordinates:      -0.8 15.1 45.3 mm\n",
      "Origin device coordinates:    -0.8 15.1 45.3 mm\n",
      "(10, 32, 65, 641)\n",
      "(10, 32, 65, 641)\n",
      "(10, 32, 65, 641)\n",
      "(10, 32, 65, 641)\n",
      "(10, 32, 65, 641)\n",
      "(10, 32, 65, 641)\n",
      "(10, 32, 65, 641)\n",
      "(10, 32, 65, 641)\n",
      "========= close ========\n",
      "\tAROUSAL-s15|Acc=0.6625|10-CV=0.455|STD=0.11927|Time spend=17.47447180747986\n",
      "\tVALENCE-s15|Acc=0.85|10-CV=0.795|STD=0.10595|Time spend=17.652996301651\n",
      "Fitted sphere radius:         95.3 mm\n",
      "Origin head coordinates:      -0.8 15.1 45.3 mm\n",
      "Origin device coordinates:    -0.8 15.1 45.3 mm\n",
      "(10, 32, 65, 641)\n",
      "(10, 32, 65, 641)\n",
      "(10, 32, 65, 641)\n",
      "(10, 32, 65, 641)\n",
      "(10, 32, 65, 641)\n",
      "(10, 32, 65, 641)\n",
      "(10, 32, 65, 641)\n",
      "(10, 32, 65, 641)\n",
      "========= close ========\n",
      "\tAROUSAL-s16|Acc=0.6625|10-CV=0.425|STD=0.14361|Time spend=16.7967267036438\n",
      "\tVALENCE-s16|Acc=0.7|10-CV=0.63|STD=0.11874|Time spend=17.120805740356445\n",
      "Fitted sphere radius:         95.3 mm\n",
      "Origin head coordinates:      -0.8 15.1 45.3 mm\n",
      "Origin device coordinates:    -0.8 15.1 45.3 mm\n",
      "(10, 32, 65, 641)\n",
      "(10, 32, 65, 641)\n",
      "(10, 32, 65, 641)\n",
      "(10, 32, 65, 641)\n",
      "(10, 32, 65, 641)\n",
      "(10, 32, 65, 641)\n",
      "(10, 32, 65, 641)\n",
      "(10, 32, 65, 641)\n",
      "========= close ========\n",
      "\tAROUSAL-s17|Acc=0.8|10-CV=0.69|STD=0.1261|Time spend=16.774844884872437\n",
      "\tVALENCE-s17|Acc=0.625|10-CV=0.435|STD=0.105|Time spend=17.001856803894043\n",
      "Fitted sphere radius:         95.3 mm\n",
      "Origin head coordinates:      -0.8 15.1 45.3 mm\n",
      "Origin device coordinates:    -0.8 15.1 45.3 mm\n",
      "(10, 32, 65, 641)\n",
      "(10, 32, 65, 641)\n",
      "(10, 32, 65, 641)\n",
      "(10, 32, 65, 641)\n",
      "(10, 32, 65, 641)\n",
      "(10, 32, 65, 641)\n",
      "(10, 32, 65, 641)\n",
      "(10, 32, 65, 641)\n",
      "========= close ========\n",
      "\tAROUSAL-s18|Acc=0.625|10-CV=0.55|STD=0.1118|Time spend=17.399597883224487\n",
      "\tVALENCE-s18|Acc=0.8375|10-CV=0.785|STD=0.095|Time spend=17.690386056900024\n",
      "Fitted sphere radius:         95.3 mm\n",
      "Origin head coordinates:      -0.8 15.1 45.3 mm\n",
      "Origin device coordinates:    -0.8 15.1 45.3 mm\n",
      "(10, 32, 65, 641)\n",
      "(10, 32, 65, 641)\n",
      "(10, 32, 65, 641)\n",
      "(10, 32, 65, 641)\n",
      "(10, 32, 65, 641)\n",
      "(10, 32, 65, 641)\n",
      "(10, 32, 65, 641)\n",
      "(10, 32, 65, 641)\n",
      "========= close ========\n",
      "\tAROUSAL-s19|Acc=0.725|10-CV=0.63|STD=0.13454|Time spend=17.15777087211609\n",
      "\tVALENCE-s19|Acc=0.7375|10-CV=0.485|STD=0.15977|Time spend=17.334120988845825\n",
      "Fitted sphere radius:         95.3 mm\n",
      "Origin head coordinates:      -0.8 15.1 45.3 mm\n",
      "Origin device coordinates:    -0.8 15.1 45.3 mm\n",
      "(10, 32, 65, 641)\n",
      "(10, 32, 65, 641)\n",
      "(10, 32, 65, 641)\n",
      "(10, 32, 65, 641)\n",
      "(10, 32, 65, 641)\n",
      "(10, 32, 65, 641)\n",
      "(10, 32, 65, 641)\n",
      "(10, 32, 65, 641)\n",
      "========= close ========\n",
      "\tAROUSAL-s20|Acc=0.775|10-CV=0.82|STD=0.08718|Time spend=17.6681010723114\n",
      "\tVALENCE-s20|Acc=0.8625|10-CV=0.645|STD=0.16651|Time spend=17.851845264434814\n",
      "Fitted sphere radius:         95.3 mm\n",
      "Origin head coordinates:      -0.8 15.1 45.3 mm\n",
      "Origin device coordinates:    -0.8 15.1 45.3 mm\n",
      "(10, 32, 65, 641)\n",
      "(10, 32, 65, 641)\n",
      "(10, 32, 65, 641)\n",
      "(10, 32, 65, 641)\n",
      "(10, 32, 65, 641)\n",
      "(10, 32, 65, 641)\n",
      "(10, 32, 65, 641)\n",
      "(10, 32, 65, 641)\n",
      "========= close ========\n",
      "\tAROUSAL-s21|Acc=0.8|10-CV=0.8|STD=0.1|Time spend=17.739330768585205\n",
      "\tVALENCE-s21|Acc=0.55|10-CV=0.37|STD=0.09|Time spend=17.988516807556152\n",
      "Fitted sphere radius:         95.3 mm\n",
      "Origin head coordinates:      -0.8 15.1 45.3 mm\n",
      "Origin device coordinates:    -0.8 15.1 45.3 mm\n",
      "(10, 32, 65, 641)\n",
      "(10, 32, 65, 641)\n",
      "(10, 32, 65, 641)\n",
      "(10, 32, 65, 641)\n",
      "(10, 32, 65, 641)\n",
      "(10, 32, 65, 641)\n",
      "(10, 32, 65, 641)\n",
      "(10, 32, 65, 641)\n",
      "========= close ========\n",
      "\tAROUSAL-s22|Acc=0.6|10-CV=0.605|STD=0.065|Time spend=16.308334589004517\n",
      "\tVALENCE-s22|Acc=0.7625|10-CV=0.695|STD=0.10595|Time spend=16.48081088066101\n",
      "Fitted sphere radius:         95.3 mm\n",
      "Origin head coordinates:      -0.8 15.1 45.3 mm\n",
      "Origin device coordinates:    -0.8 15.1 45.3 mm\n",
      "(10, 32, 65, 641)\n",
      "(10, 32, 65, 641)\n",
      "(10, 32, 65, 641)\n",
      "(10, 32, 65, 641)\n",
      "(10, 32, 65, 641)\n",
      "(10, 32, 65, 641)\n",
      "(10, 32, 65, 641)\n",
      "(10, 32, 65, 641)\n",
      "========= close ========\n",
      "\tAROUSAL-s23|Acc=0.75|10-CV=0.78|STD=0.09798|Time spend=17.204439401626587\n",
      "\tVALENCE-s23|Acc=0.65|10-CV=0.61|STD=0.15133|Time spend=17.399389028549194\n",
      "Fitted sphere radius:         95.3 mm\n",
      "Origin head coordinates:      -0.8 15.1 45.3 mm\n",
      "Origin device coordinates:    -0.8 15.1 45.3 mm\n",
      "(10, 32, 65, 641)\n",
      "(10, 32, 65, 641)\n",
      "(10, 32, 65, 641)\n",
      "(10, 32, 65, 641)\n",
      "(10, 32, 65, 641)\n",
      "(10, 32, 65, 641)\n",
      "(10, 32, 65, 641)\n",
      "(10, 32, 65, 641)\n",
      "========= close ========\n",
      "\tAROUSAL-s24|Acc=0.825|10-CV=0.82|STD=0.07483|Time spend=17.437499523162842\n",
      "\tVALENCE-s24|Acc=0.75|10-CV=0.6|STD=0.1245|Time spend=17.612919807434082\n",
      "Fitted sphere radius:         95.3 mm\n",
      "Origin head coordinates:      -0.8 15.1 45.3 mm\n",
      "Origin device coordinates:    -0.8 15.1 45.3 mm\n",
      "(10, 32, 65, 641)\n",
      "(10, 32, 65, 641)\n",
      "(10, 32, 65, 641)\n",
      "(10, 32, 65, 641)\n",
      "(10, 32, 65, 641)\n",
      "(10, 32, 65, 641)\n",
      "(10, 32, 65, 641)\n",
      "(10, 32, 65, 641)\n",
      "========= close ========\n",
      "\tAROUSAL-s25|Acc=0.725|10-CV=0.74|STD=0.12806|Time spend=16.657808303833008\n",
      "\tVALENCE-s25|Acc=0.5375|10-CV=0.36|STD=0.10909|Time spend=16.868029356002808\n",
      "Fitted sphere radius:         95.3 mm\n",
      "Origin head coordinates:      -0.8 15.1 45.3 mm\n",
      "Origin device coordinates:    -0.8 15.1 45.3 mm\n",
      "(10, 32, 65, 641)\n",
      "(10, 32, 65, 641)\n",
      "(10, 32, 65, 641)\n",
      "(10, 32, 65, 641)\n",
      "(10, 32, 65, 641)\n",
      "(10, 32, 65, 641)\n",
      "(10, 32, 65, 641)\n",
      "(10, 32, 65, 641)\n",
      "========= close ========\n",
      "\tAROUSAL-s26|Acc=0.7|10-CV=0.575|STD=0.15851|Time spend=18.889095306396484\n",
      "\tVALENCE-s26|Acc=0.65|10-CV=0.62|STD=0.14|Time spend=19.081712245941162\n",
      "Fitted sphere radius:         95.3 mm\n",
      "Origin head coordinates:      -0.8 15.1 45.3 mm\n",
      "Origin device coordinates:    -0.8 15.1 45.3 mm\n",
      "(10, 32, 65, 641)\n",
      "(10, 32, 65, 641)\n",
      "(10, 32, 65, 641)\n",
      "(10, 32, 65, 641)\n",
      "(10, 32, 65, 641)\n",
      "(10, 32, 65, 641)\n",
      "(10, 32, 65, 641)\n",
      "(10, 32, 65, 641)\n",
      "========= close ========\n",
      "\tAROUSAL-s27|Acc=0.725|10-CV=0.635|STD=0.10012|Time spend=17.484206676483154\n",
      "\tVALENCE-s27|Acc=0.75|10-CV=0.67|STD=0.12689|Time spend=17.67214870452881\n",
      "Fitted sphere radius:         95.3 mm\n",
      "Origin head coordinates:      -0.8 15.1 45.3 mm\n",
      "Origin device coordinates:    -0.8 15.1 45.3 mm\n",
      "(10, 32, 65, 641)\n",
      "(10, 32, 65, 641)\n",
      "(10, 32, 65, 641)\n",
      "(10, 32, 65, 641)\n",
      "(10, 32, 65, 641)\n",
      "(10, 32, 65, 641)\n",
      "(10, 32, 65, 641)\n",
      "(10, 32, 65, 641)\n",
      "========= close ========\n",
      "\tAROUSAL-s28|Acc=0.55|10-CV=0.42|STD=0.15524|Time spend=17.015425443649292\n",
      "\tVALENCE-s28|Acc=0.625|10-CV=0.535|STD=0.145|Time spend=17.2911159992218\n",
      "Fitted sphere radius:         95.3 mm\n",
      "Origin head coordinates:      -0.8 15.1 45.3 mm\n",
      "Origin device coordinates:    -0.8 15.1 45.3 mm\n",
      "(10, 32, 65, 641)\n",
      "(10, 32, 65, 641)\n",
      "(10, 32, 65, 641)\n",
      "(10, 32, 65, 641)\n",
      "(10, 32, 65, 641)\n",
      "(10, 32, 65, 641)\n",
      "(10, 32, 65, 641)\n",
      "(10, 32, 65, 641)\n",
      "========= close ========\n",
      "\tAROUSAL-s29|Acc=0.7|10-CV=0.545|STD=0.10828|Time spend=16.981300830841064\n",
      "\tVALENCE-s29|Acc=0.7625|10-CV=0.57|STD=0.11662|Time spend=17.06851029396057\n",
      "Fitted sphere radius:         95.3 mm\n",
      "Origin head coordinates:      -0.8 15.1 45.3 mm\n",
      "Origin device coordinates:    -0.8 15.1 45.3 mm\n",
      "(10, 32, 65, 641)\n",
      "(10, 32, 65, 641)\n",
      "(10, 32, 65, 641)\n",
      "(10, 32, 65, 641)\n",
      "(10, 32, 65, 641)\n",
      "(10, 32, 65, 641)\n",
      "(10, 32, 65, 641)\n",
      "(10, 32, 65, 641)\n",
      "========= close ========\n",
      "\tAROUSAL-s30|Acc=0.6375|10-CV=0.495|STD=0.115|Time spend=17.53634476661682\n",
      "\tVALENCE-s30|Acc=0.675|10-CV=0.62|STD=0.14697|Time spend=17.75302243232727\n",
      "Fitted sphere radius:         95.3 mm\n",
      "Origin head coordinates:      -0.8 15.1 45.3 mm\n",
      "Origin device coordinates:    -0.8 15.1 45.3 mm\n",
      "(10, 32, 65, 641)\n",
      "(10, 32, 65, 641)\n",
      "(10, 32, 65, 641)\n",
      "(10, 32, 65, 641)\n",
      "(10, 32, 65, 641)\n",
      "(10, 32, 65, 641)\n",
      "(10, 32, 65, 641)\n",
      "(10, 32, 65, 641)\n",
      "========= close ========\n",
      "\tAROUSAL-s31|Acc=0.7|10-CV=0.505|STD=0.15882|Time spend=17.30092740058899\n",
      "\tVALENCE-s31|Acc=0.625|10-CV=0.48|STD=0.12288|Time spend=17.477266311645508\n",
      "Fitted sphere radius:         95.3 mm\n",
      "Origin head coordinates:      -0.8 15.1 45.3 mm\n",
      "Origin device coordinates:    -0.8 15.1 45.3 mm\n",
      "(10, 32, 65, 641)\n",
      "(10, 32, 65, 641)\n",
      "(10, 32, 65, 641)\n",
      "(10, 32, 65, 641)\n",
      "(10, 32, 65, 641)\n",
      "(10, 32, 65, 641)\n",
      "(10, 32, 65, 641)\n",
      "(10, 32, 65, 641)\n",
      "========= close ========\n",
      "\tAROUSAL-s32|Acc=0.675|10-CV=0.73|STD=0.14177|Time spend=16.401761293411255\n",
      "\tVALENCE-s32|Acc=0.7875|10-CV=0.645|STD=0.10112|Time spend=16.576074600219727\n",
      "AROUSAL|Acc=0.696875|10-CV=0.6137500000000002|STD=0.11516166890002315\n",
      "VALENCE|Acc=0.7132812500000001|10-CV=0.59671875|STD=0.12354324683293216\n"
     ]
    }
   ],
   "source": [
    "accs, cv_means, cv_stds = [],[],[]\n",
    "accs_v, cv_means_v, cv_stds_v = [],[],[]\n",
    "reports = []\n",
    "for filename in (pbar := tqdm(dataset.get_file_list())):\n",
    "    start = time.time()\n",
    "    pbar.set_description(filename)\n",
    "    data, labels, groups = dataset.get_data(filename, stimuli=Dataset_subjectDependent.STIMULI_AROUSAL, return_type='mne', sfreq=128)\n",
    "    \n",
    "    data_csd = mne.preprocessing.compute_current_source_density(data)\n",
    "\n",
    "    plv = calculate_plv(data_csd.get_data(), n_jobs=8)\n",
    "\n",
    "    _,acc,cross,train_report = train_model(plv, labels.squeeze(), groups, filename=filename, return_text=True)\n",
    "    report = f\"\\tAROUSAL-{filename}|Acc={round(acc,5)}|10-CV={round(cross.mean(),5)}|STD={round(cross.std(),5)}|Time spend={time.time() - start}\"\n",
    "    print(report)\n",
    "    reports.append(report)\n",
    "    reports.append(train_report)\n",
    "    accs.append(acc)\n",
    "    cv_means.append(cross.mean())\n",
    "    cv_stds.append(cross.std())\n",
    "\n",
    "    _, labels_v, groups_v = dataset.get_data(filename, stimuli=Dataset_subjectDependent.STIMULI_VALENCE, return_type='mne', sfreq=128)\n",
    "    _,acc,cross,train_report = train_model(plv, labels_v.squeeze(), groups_v, filename=filename, return_text=True)\n",
    "    report = f\"\\tVALENCE-{filename}|Acc={round(acc,5)}|10-CV={round(cross.mean(),5)}|STD={round(cross.std(),5)}|Time spend={time.time() - start}\"\n",
    "    print(report)\n",
    "    reports.append(report)\n",
    "    reports.append(train_report)\n",
    "    accs_v.append(acc)\n",
    "    cv_means_v.append(cross.mean())\n",
    "    cv_stds_v.append(cross.std())\n",
    "    # break\n",
    "    # count+=1\n",
    "    # if(count == 5): break\n",
    "report = f\"AROUSAL|Acc={sum(accs)/len(accs)}|10-CV={sum(cv_means)/len(cv_means)}|STD={sum(cv_stds)/len(cv_stds)}\"\n",
    "print(report)\n",
    "reports.append(report)\n",
    "report = f\"VALENCE|Acc={sum(accs_v)/len(accs_v)}|10-CV={sum(cv_means_v)/len(cv_means_v)}|STD={sum(cv_stds_v)/len(cv_stds_v)}\"\n",
    "print(report)\n",
    "reports.append(report)"
   ]
  },
  {
   "cell_type": "code",
   "execution_count": 15,
   "metadata": {},
   "outputs": [
    {
     "name": "stdout",
     "output_type": "stream",
     "text": [
      "\tAROUSAL-s01|Acc=0.6375|10-CV=0.55|STD=0.15|Time spend=23.418017148971558\n",
      "\tVALENCE-s01|Acc=0.6875|10-CV=0.495|STD=0.13124|Time spend=23.63770890235901\n",
      "\tAROUSAL-s02|Acc=0.6|10-CV=0.5|STD=0.07746|Time spend=17.99298906326294\n",
      "-----WARNING: Model s02 failed to learn: sum(ans)=80.0 sum(y)=48.0 len(y)=80\n",
      "\tVALENCE-s02|Acc=0.7625|10-CV=0.655|STD=0.11715|Time spend=18.179803133010864\n",
      "\tAROUSAL-s03|Acc=0.8|10-CV=0.73|STD=0.15524|Time spend=18.3594491481781\n",
      "-----WARNING: Model s03 failed to learn: sum(ans)=0.0 sum(y)=16.0 len(y)=80\n",
      "\tVALENCE-s03|Acc=0.625|10-CV=0.485|STD=0.16132|Time spend=18.54895520210266\n",
      "\tAROUSAL-s04|Acc=0.6375|10-CV=0.56|STD=0.11136|Time spend=16.5161612033844\n",
      "\tVALENCE-s04|Acc=0.75|10-CV=0.515|STD=0.08958|Time spend=16.693315505981445\n",
      "\tAROUSAL-s05|Acc=0.6625|10-CV=0.46|STD=0.13|Time spend=17.372772455215454\n",
      "\tVALENCE-s05|Acc=0.6|10-CV=0.585|STD=0.08958|Time spend=17.567501306533813\n",
      "-----WARNING: Model s05 failed to learn: sum(ans)=80.0 sum(y)=48.0 len(y)=80\n",
      "\tAROUSAL-s06|Acc=0.6|10-CV=0.51|STD=0.14967|Time spend=17.56151247024536\n",
      "\tVALENCE-s06|Acc=0.75|10-CV=0.72|STD=0.07483|Time spend=17.643237829208374\n",
      "-----WARNING: Model s06 failed to learn: sum(ans)=80.0 sum(y)=60.0 len(y)=80\n",
      "\tAROUSAL-s07|Acc=0.675|10-CV=0.645|STD=0.135|Time spend=17.58896255493164\n",
      "\tVALENCE-s07|Acc=0.7|10-CV=0.675|STD=0.14874|Time spend=17.767035722732544\n",
      "-----WARNING: Model s07 failed to learn: sum(ans)=80.0 sum(y)=56.0 len(y)=80\n",
      "\tAROUSAL-s08|Acc=0.6875|10-CV=0.4|STD=0.11832|Time spend=18.103455781936646\n",
      "\tVALENCE-s08|Acc=0.7375|10-CV=0.565|STD=0.14841|Time spend=18.28239369392395\n",
      "\tAROUSAL-s09|Acc=0.6625|10-CV=0.52|STD=0.10296|Time spend=17.57737708091736\n",
      "\tVALENCE-s09|Acc=0.8125|10-CV=0.67|STD=0.10536|Time spend=17.758101224899292\n",
      "\tAROUSAL-s10|Acc=0.725|10-CV=0.63|STD=0.10296|Time spend=17.415767908096313\n",
      "\tVALENCE-s10|Acc=0.825|10-CV=0.775|STD=0.10782|Time spend=17.591721534729004\n",
      "\tAROUSAL-s11|Acc=0.625|10-CV=0.595|STD=0.05679|Time spend=16.4972186088562\n",
      "-----WARNING: Model s11 failed to learn: sum(ans)=0.0 sum(y)=30.0 len(y)=80\n",
      "\tVALENCE-s11|Acc=0.65|10-CV=0.545|STD=0.15564|Time spend=16.677016973495483\n",
      "\tAROUSAL-s12|Acc=0.825|10-CV=0.83|STD=0.1005|Time spend=17.38514471054077\n",
      "-----WARNING: Model s12 failed to learn: sum(ans)=80.0 sum(y)=66.0 len(y)=80\n",
      "\tVALENCE-s12|Acc=0.6375|10-CV=0.47|STD=0.17916|Time spend=17.60232138633728\n",
      "\tAROUSAL-s13|Acc=0.85|10-CV=0.84|STD=0.06633|Time spend=16.74694538116455\n",
      "-----WARNING: Model s13 failed to learn: sum(ans)=80.0 sum(y)=68.0 len(y)=80\n",
      "\tVALENCE-s13|Acc=0.8|10-CV=0.79|STD=0.11576|Time spend=16.93752884864807\n",
      "\tAROUSAL-s14|Acc=0.675|10-CV=0.65|STD=0.10247|Time spend=17.08780026435852\n",
      "-----WARNING: Model s14 failed to learn: sum(ans)=80.0 sum(y)=54.0 len(y)=80\n",
      "\tVALENCE-s14|Acc=0.75|10-CV=0.6|STD=0.09747|Time spend=17.369000911712646\n",
      "\tAROUSAL-s15|Acc=0.6625|10-CV=0.455|STD=0.11927|Time spend=17.47447180747986\n",
      "\tVALENCE-s15|Acc=0.85|10-CV=0.795|STD=0.10595|Time spend=17.652996301651\n",
      "\tAROUSAL-s16|Acc=0.6625|10-CV=0.425|STD=0.14361|Time spend=16.7967267036438\n",
      "\tVALENCE-s16|Acc=0.7|10-CV=0.63|STD=0.11874|Time spend=17.120805740356445\n",
      "\tAROUSAL-s17|Acc=0.8|10-CV=0.69|STD=0.1261|Time spend=16.774844884872437\n",
      "\tVALENCE-s17|Acc=0.625|10-CV=0.435|STD=0.105|Time spend=17.001856803894043\n",
      "\tAROUSAL-s18|Acc=0.625|10-CV=0.55|STD=0.1118|Time spend=17.399597883224487\n",
      "-----WARNING: Model s18 failed to learn: sum(ans)=80.0 sum(y)=50.0 len(y)=80\n",
      "\tVALENCE-s18|Acc=0.8375|10-CV=0.785|STD=0.095|Time spend=17.690386056900024\n",
      "\tAROUSAL-s19|Acc=0.725|10-CV=0.63|STD=0.13454|Time spend=17.15777087211609\n",
      "\tVALENCE-s19|Acc=0.7375|10-CV=0.485|STD=0.15977|Time spend=17.334120988845825\n",
      "\tAROUSAL-s20|Acc=0.775|10-CV=0.82|STD=0.08718|Time spend=17.6681010723114\n",
      "-----WARNING: Model s20 failed to learn: sum(ans)=80.0 sum(y)=62.0 len(y)=80\n",
      "\tVALENCE-s20|Acc=0.8625|10-CV=0.645|STD=0.16651|Time spend=17.851845264434814\n",
      "\tAROUSAL-s21|Acc=0.8|10-CV=0.8|STD=0.1|Time spend=17.739330768585205\n",
      "-----WARNING: Model s21 failed to learn: sum(ans)=80.0 sum(y)=64.0 len(y)=80\n",
      "\tVALENCE-s21|Acc=0.55|10-CV=0.37|STD=0.09|Time spend=17.988516807556152\n",
      "\tAROUSAL-s22|Acc=0.6|10-CV=0.605|STD=0.065|Time spend=16.308334589004517\n",
      "-----WARNING: Model s22 failed to learn: sum(ans)=80.0 sum(y)=48.0 len(y)=80\n",
      "\tVALENCE-s22|Acc=0.7625|10-CV=0.695|STD=0.10595|Time spend=16.48081088066101\n",
      "\tAROUSAL-s23|Acc=0.75|10-CV=0.78|STD=0.09798|Time spend=17.204439401626587\n",
      "-----WARNING: Model s23 failed to learn: sum(ans)=0.0 sum(y)=20.0 len(y)=80\n",
      "\tVALENCE-s23|Acc=0.65|10-CV=0.61|STD=0.15133|Time spend=17.399389028549194\n",
      "-----WARNING: Model s23 failed to learn: sum(ans)=80.0 sum(y)=52.0 len(y)=80\n",
      "\tAROUSAL-s24|Acc=0.825|10-CV=0.82|STD=0.07483|Time spend=17.437499523162842\n",
      "-----WARNING: Model s24 failed to learn: sum(ans)=80.0 sum(y)=66.0 len(y)=80\n",
      "\tVALENCE-s24|Acc=0.75|10-CV=0.6|STD=0.1245|Time spend=17.612919807434082\n",
      "\tAROUSAL-s25|Acc=0.725|10-CV=0.74|STD=0.12806|Time spend=16.657808303833008\n",
      "-----WARNING: Model s25 failed to learn: sum(ans)=80.0 sum(y)=58.0 len(y)=80\n",
      "\tVALENCE-s25|Acc=0.5375|10-CV=0.36|STD=0.10909|Time spend=16.868029356002808\n",
      "\tAROUSAL-s26|Acc=0.7|10-CV=0.575|STD=0.15851|Time spend=18.889095306396484\n",
      "\tVALENCE-s26|Acc=0.65|10-CV=0.62|STD=0.14|Time spend=19.081712245941162\n",
      "-----WARNING: Model s26 failed to learn: sum(ans)=80.0 sum(y)=52.0 len(y)=80\n",
      "\tAROUSAL-s27|Acc=0.725|10-CV=0.635|STD=0.10012|Time spend=17.484206676483154\n",
      "\tVALENCE-s27|Acc=0.75|10-CV=0.67|STD=0.12689|Time spend=17.67214870452881\n",
      "-----WARNING: Model s27 failed to learn: sum(ans)=80.0 sum(y)=60.0 len(y)=80\n",
      "\tAROUSAL-s28|Acc=0.55|10-CV=0.42|STD=0.15524|Time spend=17.015425443649292\n",
      "-----WARNING: Model s28 failed to learn: sum(ans)=0.0 sum(y)=36.0 len(y)=80\n",
      "\tVALENCE-s28|Acc=0.625|10-CV=0.535|STD=0.145|Time spend=17.2911159992218\n",
      "-----WARNING: Model s28 failed to learn: sum(ans)=80.0 sum(y)=50.0 len(y)=80\n",
      "\tAROUSAL-s29|Acc=0.7|10-CV=0.545|STD=0.10828|Time spend=16.981300830841064\n",
      "\tVALENCE-s29|Acc=0.7625|10-CV=0.57|STD=0.11662|Time spend=17.06851029396057\n",
      "\tAROUSAL-s30|Acc=0.6375|10-CV=0.495|STD=0.115|Time spend=17.53634476661682\n",
      "\tVALENCE-s30|Acc=0.675|10-CV=0.62|STD=0.14697|Time spend=17.75302243232727\n",
      "-----WARNING: Model s30 failed to learn: sum(ans)=80.0 sum(y)=54.0 len(y)=80\n",
      "\tAROUSAL-s31|Acc=0.7|10-CV=0.505|STD=0.15882|Time spend=17.30092740058899\n",
      "\tVALENCE-s31|Acc=0.625|10-CV=0.48|STD=0.12288|Time spend=17.477266311645508\n",
      "\tAROUSAL-s32|Acc=0.675|10-CV=0.73|STD=0.14177|Time spend=16.401761293411255\n",
      "-----WARNING: Model s32 failed to learn: sum(ans)=80.0 sum(y)=54.0 len(y)=80\n",
      "\tVALENCE-s32|Acc=0.7875|10-CV=0.645|STD=0.10112|Time spend=16.576074600219727\n",
      "AROUSAL|Acc=0.696875|10-CV=0.6137500000000002|STD=0.11516166890002315\n",
      "VALENCE|Acc=0.7132812500000001|10-CV=0.59671875|STD=0.12354324683293216\n",
      "TOTAL|Acc=0.705078125|10-CV=0.6052343750000001|STD=0.11935245786647761\n"
     ]
    }
   ],
   "source": [
    "for text in reports:\n",
    "    if(text == None): continue\n",
    "    print(text)\n",
    "\n",
    "accs.extend(accs_v)\n",
    "cv_means.extend(cv_means_v)\n",
    "cv_stds.extend(cv_stds_v)\n",
    "print(f\"TOTAL|Acc={sum(accs)/len(accs)}|10-CV={sum(cv_means)/len(cv_means)}|STD={sum(cv_stds)/len(cv_stds)}\")"
   ]
  },
  {
   "cell_type": "markdown",
   "metadata": {},
   "source": [
    "### 4.4 $ \\text{PLI}(j,k) =  \\frac{1}{T} | \\Sigma^{T}_{t=1} \\text{sign}(Im[e^{i (\\phi^{t}_{j} - \\phi^{t}_{k})}])  | $"
   ]
  },
  {
   "cell_type": "code",
   "execution_count": 16,
   "metadata": {},
   "outputs": [],
   "source": [
    "# bands = [(0,4), (4,8), (8,12), (12,30), (30,64)]\n",
    "def calculate_stft(signals, sfreq):\n",
    "    from scipy import signal\n",
    "    f_range, t_range, Z = signal.stft(signals, sfreq, nperseg=sfreq//10, nfft=sfreq)\n",
    "    magnitude = np.abs(Z) \n",
    "    phase = np.angle(Z)\n",
    "    return magnitude, phase, f_range, t_range\n",
    "\n",
    "def PLI_stft(p_id, phase):\n",
    "    # (32, 65, 12) => (channels, freqs, times)\n",
    "    # print(f\"p_id:{p_id} - data to run {phase.shape}\")\n",
    "    from itertools import combinations\n",
    "    pli = []\n",
    "    # count = 0\n",
    "    for index in range(phase.shape[0]):\n",
    "        pli_epoch = []\n",
    "        for comb in combinations(list(range(phase.shape[1])), 2):\n",
    "            # shape = (65,12)\n",
    "            phase_a, phase_b = phase[index, comb[0]], phase[index, comb[1]]\n",
    "            phase_diff = phase_a - phase_b\n",
    "            # sum along the time size\n",
    "            pli_ab = np.abs(np.average(   np.sign(np.imag(   np.exp(complex(0,1) * phase_diff) ))  , axis=1))\n",
    "            pli_epoch.append(pli_ab)\n",
    "        pli_epoch = np.vstack(pli_epoch)\n",
    "        pli_epoch_5 = np.concatenate([ pli_epoch[:,0:4].mean(axis=1).reshape(-1,1),\n",
    "                                        pli_epoch[:,4:8].mean(axis=1).reshape(-1,1),\n",
    "                                        pli_epoch[:,8:12].mean(axis=1).reshape(-1,1),\n",
    "                                        pli_epoch[:,12:30].mean(axis=1).reshape(-1,1),\n",
    "                                        pli_epoch[:,30:65].mean(axis=1).reshape(-1,1)], axis=0)\n",
    "        pli.append(np.expand_dims(pli_epoch_5, axis=0))\n",
    "        # count += 1\n",
    "        # if(count == 3): break\n",
    "    # shape (496, 65)\n",
    "    # 496 is number of pairs that is not duplicate\n",
    "    # 65 is number of phase of frequencies\n",
    "    pli = np.vstack( pli )\n",
    "    return pli.squeeze()\n",
    "\n",
    "def calculate_pli(data, n_jobs=8):\n",
    "    \"\"\" \n",
    "    Input: Expect data to have (n_epochs, n_channels, n_samples)\n",
    "    Output: (n_epochs, n_conn, n_freqs ) => n_conn = n_channels!/(2!(n_channels-2)!)\n",
    "    \"\"\"\n",
    "    from multiprocessing import Pool\n",
    "\n",
    "    try:\n",
    "        t_out = 60000\n",
    "        pool = Pool()\n",
    "        p_list = []\n",
    "        ans_list = []\n",
    "        num_p = n_jobs\n",
    "        indices = np.array_split(np.arange(data.shape[0]), num_p)\n",
    "        _, phase, _, _ = calculate_stft(data, 128)\n",
    "        for p_id in range(num_p):\n",
    "            p_list.append(pool.apply_async(PLI_stft, [p_id, phase[indices[p_id]] ]))\n",
    "        for p_id in range(num_p):\n",
    "            ans_list.append( p_list[p_id].get(timeout=t_out) )\n",
    "        # ans_list\n",
    "    finally:\n",
    "        print(\"========= close ========\")\n",
    "        pool.close() \n",
    "        pool.terminate()\n",
    "    return np.vstack(ans_list)\n"
   ]
  },
  {
   "cell_type": "code",
   "execution_count": 17,
   "metadata": {},
   "outputs": [
    {
     "data": {
      "application/vnd.jupyter.widget-view+json": {
       "model_id": "3d1e8bd1c2c34eef8e189ba6763743ae",
       "version_major": 2,
       "version_minor": 0
      },
      "text/plain": [
       "  0%|          | 0/32 [00:00<?, ?it/s]"
      ]
     },
     "metadata": {},
     "output_type": "display_data"
    },
    {
     "name": "stdout",
     "output_type": "stream",
     "text": [
      "Fitted sphere radius:         95.3 mm\n",
      "Origin head coordinates:      -0.8 15.1 45.3 mm\n",
      "Origin device coordinates:    -0.8 15.1 45.3 mm\n",
      "========= close ========\n",
      "\tAROUSAL-s01|Acc=0.975|10-CV=0.51|STD=0.13379|Time spend=17.604084968566895\n",
      "\tVALENCE-s01|Acc=1.0|10-CV=0.49|STD=0.08888|Time spend=17.809196710586548\n",
      "Fitted sphere radius:         95.3 mm\n",
      "Origin head coordinates:      -0.8 15.1 45.3 mm\n",
      "Origin device coordinates:    -0.8 15.1 45.3 mm\n",
      "========= close ========\n",
      "\tAROUSAL-s02|Acc=0.875|10-CV=0.53|STD=0.1077|Time spend=16.84079146385193\n",
      "\tVALENCE-s02|Acc=0.85|10-CV=0.59|STD=0.09434|Time spend=17.023033618927002\n",
      "Fitted sphere radius:         95.3 mm\n",
      "Origin head coordinates:      -0.8 15.1 45.3 mm\n",
      "Origin device coordinates:    -0.8 15.1 45.3 mm\n",
      "========= close ========\n",
      "\tAROUSAL-s03|Acc=0.8625|10-CV=0.73|STD=0.15524|Time spend=16.83098340034485\n",
      "\tVALENCE-s03|Acc=0.9875|10-CV=0.43|STD=0.12884|Time spend=17.12282133102417\n",
      "Fitted sphere radius:         95.3 mm\n",
      "Origin head coordinates:      -0.8 15.1 45.3 mm\n",
      "Origin device coordinates:    -0.8 15.1 45.3 mm\n",
      "========= close ========\n",
      "\tAROUSAL-s04|Acc=0.8875|10-CV=0.53|STD=0.1382|Time spend=18.15869641304016\n",
      "\tVALENCE-s04|Acc=0.85|10-CV=0.51|STD=0.13748|Time spend=18.34033179283142\n",
      "Fitted sphere radius:         95.3 mm\n",
      "Origin head coordinates:      -0.8 15.1 45.3 mm\n",
      "Origin device coordinates:    -0.8 15.1 45.3 mm\n",
      "========= close ========\n",
      "\tAROUSAL-s05|Acc=0.95|10-CV=0.4|STD=0.09487|Time spend=17.879169464111328\n",
      "\tVALENCE-s05|Acc=0.7875|10-CV=0.6|STD=0.10488|Time spend=18.06061291694641\n",
      "Fitted sphere radius:         95.3 mm\n",
      "Origin head coordinates:      -0.8 15.1 45.3 mm\n",
      "Origin device coordinates:    -0.8 15.1 45.3 mm\n",
      "========= close ========\n",
      "\tAROUSAL-s06|Acc=0.975|10-CV=0.535|STD=0.14841|Time spend=18.495081901550293\n",
      "\tVALENCE-s06|Acc=0.925|10-CV=0.72|STD=0.07483|Time spend=18.76189136505127\n",
      "Fitted sphere radius:         95.3 mm\n",
      "Origin head coordinates:      -0.8 15.1 45.3 mm\n",
      "Origin device coordinates:    -0.8 15.1 45.3 mm\n",
      "========= close ========\n",
      "\tAROUSAL-s07|Acc=1.0|10-CV=0.64|STD=0.13565|Time spend=18.606550455093384\n",
      "\tVALENCE-s07|Acc=0.975|10-CV=0.69|STD=0.13748|Time spend=18.798038244247437\n",
      "Fitted sphere radius:         95.3 mm\n",
      "Origin head coordinates:      -0.8 15.1 45.3 mm\n",
      "Origin device coordinates:    -0.8 15.1 45.3 mm\n",
      "========= close ========\n",
      "\tAROUSAL-s08|Acc=1.0|10-CV=0.475|STD=0.11236|Time spend=18.506667613983154\n",
      "\tVALENCE-s08|Acc=0.9875|10-CV=0.505|STD=0.09862|Time spend=18.80385947227478\n",
      "Fitted sphere radius:         95.3 mm\n",
      "Origin head coordinates:      -0.8 15.1 45.3 mm\n",
      "Origin device coordinates:    -0.8 15.1 45.3 mm\n",
      "========= close ========\n",
      "\tAROUSAL-s09|Acc=0.9375|10-CV=0.535|STD=0.14841|Time spend=17.60517191886902\n",
      "\tVALENCE-s09|Acc=0.9625|10-CV=0.58|STD=0.16|Time spend=17.784943342208862\n",
      "Fitted sphere radius:         95.3 mm\n",
      "Origin head coordinates:      -0.8 15.1 45.3 mm\n",
      "Origin device coordinates:    -0.8 15.1 45.3 mm\n",
      "========= close ========\n",
      "\tAROUSAL-s10|Acc=1.0|10-CV=0.455|STD=0.06874|Time spend=17.57320284843445\n",
      "\tVALENCE-s10|Acc=1.0|10-CV=0.375|STD=0.15207|Time spend=17.760868310928345\n",
      "Fitted sphere radius:         95.3 mm\n",
      "Origin head coordinates:      -0.8 15.1 45.3 mm\n",
      "Origin device coordinates:    -0.8 15.1 45.3 mm\n",
      "========= close ========\n",
      "\tAROUSAL-s11|Acc=0.8875|10-CV=0.595|STD=0.06103|Time spend=17.678825855255127\n",
      "\tVALENCE-s11|Acc=0.8375|10-CV=0.555|STD=0.16194|Time spend=17.864147663116455\n",
      "Fitted sphere radius:         95.3 mm\n",
      "Origin head coordinates:      -0.8 15.1 45.3 mm\n",
      "Origin device coordinates:    -0.8 15.1 45.3 mm\n",
      "========= close ========\n",
      "\tAROUSAL-s12|Acc=0.8875|10-CV=0.83|STD=0.1005|Time spend=17.37227439880371\n",
      "\tVALENCE-s12|Acc=1.0|10-CV=0.39|STD=0.12|Time spend=17.561055421829224\n",
      "Fitted sphere radius:         95.3 mm\n",
      "Origin head coordinates:      -0.8 15.1 45.3 mm\n",
      "Origin device coordinates:    -0.8 15.1 45.3 mm\n",
      "========= close ========\n",
      "\tAROUSAL-s13|Acc=0.9|10-CV=0.84|STD=0.06633|Time spend=17.322218418121338\n",
      "\tVALENCE-s13|Acc=0.95|10-CV=0.465|STD=0.14151|Time spend=17.50189757347107\n",
      "Fitted sphere radius:         95.3 mm\n",
      "Origin head coordinates:      -0.8 15.1 45.3 mm\n",
      "Origin device coordinates:    -0.8 15.1 45.3 mm\n",
      "========= close ========\n",
      "\tAROUSAL-s14|Acc=0.9|10-CV=0.65|STD=0.10247|Time spend=17.10407018661499\n",
      "\tVALENCE-s14|Acc=1.0|10-CV=0.38|STD=0.08426|Time spend=17.29059648513794\n",
      "Fitted sphere radius:         95.3 mm\n",
      "Origin head coordinates:      -0.8 15.1 45.3 mm\n",
      "Origin device coordinates:    -0.8 15.1 45.3 mm\n",
      "========= close ========\n",
      "\tAROUSAL-s15|Acc=1.0|10-CV=0.415|STD=0.08958|Time spend=18.218498468399048\n",
      "\tVALENCE-s15|Acc=1.0|10-CV=0.51|STD=0.09695|Time spend=18.46062922477722\n",
      "Fitted sphere radius:         95.3 mm\n",
      "Origin head coordinates:      -0.8 15.1 45.3 mm\n",
      "Origin device coordinates:    -0.8 15.1 45.3 mm\n",
      "========= close ========\n",
      "\tAROUSAL-s16|Acc=1.0|10-CV=0.4|STD=0.14832|Time spend=17.870643138885498\n",
      "\tVALENCE-s16|Acc=0.9875|10-CV=0.64|STD=0.10198|Time spend=18.050811529159546\n",
      "Fitted sphere radius:         95.3 mm\n",
      "Origin head coordinates:      -0.8 15.1 45.3 mm\n",
      "Origin device coordinates:    -0.8 15.1 45.3 mm\n",
      "========= close ========\n",
      "\tAROUSAL-s17|Acc=0.825|10-CV=0.73|STD=0.1077|Time spend=16.855013132095337\n",
      "\tVALENCE-s17|Acc=0.85|10-CV=0.44|STD=0.1044|Time spend=17.049327850341797\n",
      "Fitted sphere radius:         95.3 mm\n",
      "Origin head coordinates:      -0.8 15.1 45.3 mm\n",
      "Origin device coordinates:    -0.8 15.1 45.3 mm\n",
      "========= close ========\n",
      "\tAROUSAL-s18|Acc=1.0|10-CV=0.565|STD=0.10012|Time spend=17.671178817749023\n",
      "\tVALENCE-s18|Acc=0.9875|10-CV=0.525|STD=0.12894|Time spend=17.853626251220703\n",
      "Fitted sphere radius:         95.3 mm\n",
      "Origin head coordinates:      -0.8 15.1 45.3 mm\n",
      "Origin device coordinates:    -0.8 15.1 45.3 mm\n",
      "========= close ========\n",
      "\tAROUSAL-s19|Acc=0.675|10-CV=0.6|STD=0.1|Time spend=18.373411417007446\n",
      "\tVALENCE-s19|Acc=0.6375|10-CV=0.425|STD=0.11456|Time spend=18.692633628845215\n",
      "Fitted sphere radius:         95.3 mm\n",
      "Origin head coordinates:      -0.8 15.1 45.3 mm\n",
      "Origin device coordinates:    -0.8 15.1 45.3 mm\n",
      "========= close ========\n",
      "\tAROUSAL-s20|Acc=0.8875|10-CV=0.82|STD=0.08718|Time spend=18.07963728904724\n",
      "\tVALENCE-s20|Acc=1.0|10-CV=0.455|STD=0.165|Time spend=18.26368498802185\n",
      "Fitted sphere radius:         95.3 mm\n",
      "Origin head coordinates:      -0.8 15.1 45.3 mm\n",
      "Origin device coordinates:    -0.8 15.1 45.3 mm\n",
      "========= close ========\n",
      "\tAROUSAL-s21|Acc=0.875|10-CV=0.8|STD=0.1|Time spend=17.779318809509277\n",
      "\tVALENCE-s21|Acc=1.0|10-CV=0.41|STD=0.08307|Time spend=17.96215295791626\n",
      "Fitted sphere radius:         95.3 mm\n",
      "Origin head coordinates:      -0.8 15.1 45.3 mm\n",
      "Origin device coordinates:    -0.8 15.1 45.3 mm\n",
      "========= close ========\n",
      "\tAROUSAL-s22|Acc=0.8625|10-CV=0.575|STD=0.07159|Time spend=17.25672459602356\n",
      "\tVALENCE-s22|Acc=0.8875|10-CV=0.545|STD=0.10828|Time spend=17.528347969055176\n",
      "Fitted sphere radius:         95.3 mm\n",
      "Origin head coordinates:      -0.8 15.1 45.3 mm\n",
      "Origin device coordinates:    -0.8 15.1 45.3 mm\n",
      "========= close ========\n",
      "\tAROUSAL-s23|Acc=0.9875|10-CV=0.78|STD=0.09798|Time spend=18.187052726745605\n",
      "\tVALENCE-s23|Acc=1.0|10-CV=0.61|STD=0.15133|Time spend=18.369530200958252\n",
      "Fitted sphere radius:         95.3 mm\n",
      "Origin head coordinates:      -0.8 15.1 45.3 mm\n",
      "Origin device coordinates:    -0.8 15.1 45.3 mm\n",
      "========= close ========\n",
      "\tAROUSAL-s24|Acc=0.825|10-CV=0.82|STD=0.07483|Time spend=20.06181025505066\n",
      "\tVALENCE-s24|Acc=0.8875|10-CV=0.43|STD=0.13266|Time spend=20.292656898498535\n",
      "Fitted sphere radius:         95.3 mm\n",
      "Origin head coordinates:      -0.8 15.1 45.3 mm\n",
      "Origin device coordinates:    -0.8 15.1 45.3 mm\n",
      "========= close ========\n",
      "\tAROUSAL-s25|Acc=0.9125|10-CV=0.73|STD=0.12689|Time spend=18.02323818206787\n",
      "\tVALENCE-s25|Acc=0.9875|10-CV=0.325|STD=0.09287|Time spend=18.21892237663269\n",
      "Fitted sphere radius:         95.3 mm\n",
      "Origin head coordinates:      -0.8 15.1 45.3 mm\n",
      "Origin device coordinates:    -0.8 15.1 45.3 mm\n",
      "========= close ========\n",
      "\tAROUSAL-s26|Acc=0.9375|10-CV=0.495|STD=0.12135|Time spend=17.32094168663025\n",
      "\tVALENCE-s26|Acc=0.825|10-CV=0.615|STD=0.13426|Time spend=17.501051664352417\n",
      "Fitted sphere radius:         95.3 mm\n",
      "Origin head coordinates:      -0.8 15.1 45.3 mm\n",
      "Origin device coordinates:    -0.8 15.1 45.3 mm\n",
      "========= close ========\n",
      "\tAROUSAL-s27|Acc=0.9875|10-CV=0.635|STD=0.10966|Time spend=18.091371297836304\n",
      "\tVALENCE-s27|Acc=0.95|10-CV=0.67|STD=0.12689|Time spend=18.282631158828735\n",
      "Fitted sphere radius:         95.3 mm\n",
      "Origin head coordinates:      -0.8 15.1 45.3 mm\n",
      "Origin device coordinates:    -0.8 15.1 45.3 mm\n",
      "========= close ========\n",
      "\tAROUSAL-s28|Acc=0.975|10-CV=0.56|STD=0.13928|Time spend=18.069010734558105\n",
      "\tVALENCE-s28|Acc=0.9625|10-CV=0.57|STD=0.16763|Time spend=18.255443334579468\n",
      "Fitted sphere radius:         95.3 mm\n",
      "Origin head coordinates:      -0.8 15.1 45.3 mm\n",
      "Origin device coordinates:    -0.8 15.1 45.3 mm\n",
      "========= close ========\n",
      "\tAROUSAL-s29|Acc=0.8875|10-CV=0.535|STD=0.10012|Time spend=17.53015899658203\n",
      "\tVALENCE-s29|Acc=0.925|10-CV=0.505|STD=0.10828|Time spend=17.714393615722656\n",
      "Fitted sphere radius:         95.3 mm\n",
      "Origin head coordinates:      -0.8 15.1 45.3 mm\n",
      "Origin device coordinates:    -0.8 15.1 45.3 mm\n",
      "========= close ========\n",
      "\tAROUSAL-s30|Acc=0.95|10-CV=0.425|STD=0.08441|Time spend=18.656890630722046\n",
      "\tVALENCE-s30|Acc=0.75|10-CV=0.62|STD=0.14697|Time spend=18.847108840942383\n",
      "Fitted sphere radius:         95.3 mm\n",
      "Origin head coordinates:      -0.8 15.1 45.3 mm\n",
      "Origin device coordinates:    -0.8 15.1 45.3 mm\n",
      "========= close ========\n",
      "\tAROUSAL-s31|Acc=1.0|10-CV=0.545|STD=0.16948|Time spend=18.8362398147583\n",
      "\tVALENCE-s31|Acc=0.9875|10-CV=0.53|STD=0.15033|Time spend=19.048925638198853\n",
      "Fitted sphere radius:         95.3 mm\n",
      "Origin head coordinates:      -0.8 15.1 45.3 mm\n",
      "Origin device coordinates:    -0.8 15.1 45.3 mm\n",
      "========= close ========\n",
      "\tAROUSAL-s32|Acc=0.95|10-CV=0.745|STD=0.13124|Time spend=18.01781702041626\n",
      "\tVALENCE-s32|Acc=1.0|10-CV=0.43|STD=0.17635|Time spend=18.33669948577881\n",
      "AROUSAL|Acc=0.92421875|10-CV=0.6071875|STD=0.11042048890410279\n",
      "VALENCE|Acc=0.9292968749999999|10-CV=0.51671875|STD=0.12424653825636693\n"
     ]
    }
   ],
   "source": [
    "accs, cv_means, cv_stds = [],[],[]\n",
    "accs_v, cv_means_v, cv_stds_v = [],[],[]\n",
    "reports = []\n",
    "for filename in (pbar := tqdm(dataset.get_file_list())):\n",
    "    start = time.time()\n",
    "    pbar.set_description(filename)\n",
    "    data, labels, groups = dataset.get_data(filename, stimuli=Dataset_subjectDependent.STIMULI_AROUSAL, return_type='mne', sfreq=128)\n",
    "    \n",
    "    data_csd = mne.preprocessing.compute_current_source_density(data)\n",
    "\n",
    "    pli = calculate_pli(data_csd.get_data(), n_jobs=8)\n",
    "\n",
    "    _,acc,cross,train_report = train_model(pli, labels.squeeze(), groups, filename=filename, return_text=True)\n",
    "    report = f\"\\tAROUSAL-{filename}|Acc={round(acc,5)}|10-CV={round(cross.mean(),5)}|STD={round(cross.std(),5)}|Time spend={time.time() - start}\"\n",
    "    print(report)\n",
    "    reports.append(report)\n",
    "    reports.append(train_report)\n",
    "    accs.append(acc)\n",
    "    cv_means.append(cross.mean())\n",
    "    cv_stds.append(cross.std())\n",
    "\n",
    "    _, labels_v, groups_v = dataset.get_data(filename, stimuli=Dataset_subjectDependent.STIMULI_VALENCE, return_type='mne', sfreq=128)\n",
    "    _,acc,cross,train_report = train_model(pli, labels_v.squeeze(), groups_v, filename=filename, return_text=True)\n",
    "    report = f\"\\tVALENCE-{filename}|Acc={round(acc,5)}|10-CV={round(cross.mean(),5)}|STD={round(cross.std(),5)}|Time spend={time.time() - start}\"\n",
    "    print(report)\n",
    "    reports.append(report)\n",
    "    reports.append(train_report)\n",
    "    accs_v.append(acc)\n",
    "    cv_means_v.append(cross.mean())\n",
    "    cv_stds_v.append(cross.std())\n",
    "    # break\n",
    "    # count+=1\n",
    "    # if(count == 5): break\n",
    "report = f\"AROUSAL|Acc={sum(accs)/len(accs)}|10-CV={sum(cv_means)/len(cv_means)}|STD={sum(cv_stds)/len(cv_stds)}\"\n",
    "print(report)\n",
    "reports.append(report)\n",
    "report = f\"VALENCE|Acc={sum(accs_v)/len(accs_v)}|10-CV={sum(cv_means_v)/len(cv_means_v)}|STD={sum(cv_stds_v)/len(cv_stds_v)}\"\n",
    "print(report)\n",
    "reports.append(report)"
   ]
  },
  {
   "cell_type": "code",
   "execution_count": 18,
   "metadata": {},
   "outputs": [
    {
     "name": "stdout",
     "output_type": "stream",
     "text": [
      "\tAROUSAL-s01|Acc=0.975|10-CV=0.51|STD=0.13379|Time spend=17.604084968566895\n",
      "\tVALENCE-s01|Acc=1.0|10-CV=0.49|STD=0.08888|Time spend=17.809196710586548\n",
      "\tAROUSAL-s02|Acc=0.875|10-CV=0.53|STD=0.1077|Time spend=16.84079146385193\n",
      "\tVALENCE-s02|Acc=0.85|10-CV=0.59|STD=0.09434|Time spend=17.023033618927002\n",
      "\tAROUSAL-s03|Acc=0.8625|10-CV=0.73|STD=0.15524|Time spend=16.83098340034485\n",
      "\tVALENCE-s03|Acc=0.9875|10-CV=0.43|STD=0.12884|Time spend=17.12282133102417\n",
      "\tAROUSAL-s04|Acc=0.8875|10-CV=0.53|STD=0.1382|Time spend=18.15869641304016\n",
      "\tVALENCE-s04|Acc=0.85|10-CV=0.51|STD=0.13748|Time spend=18.34033179283142\n",
      "\tAROUSAL-s05|Acc=0.95|10-CV=0.4|STD=0.09487|Time spend=17.879169464111328\n",
      "\tVALENCE-s05|Acc=0.7875|10-CV=0.6|STD=0.10488|Time spend=18.06061291694641\n",
      "\tAROUSAL-s06|Acc=0.975|10-CV=0.535|STD=0.14841|Time spend=18.495081901550293\n",
      "\tVALENCE-s06|Acc=0.925|10-CV=0.72|STD=0.07483|Time spend=18.76189136505127\n",
      "\tAROUSAL-s07|Acc=1.0|10-CV=0.64|STD=0.13565|Time spend=18.606550455093384\n",
      "\tVALENCE-s07|Acc=0.975|10-CV=0.69|STD=0.13748|Time spend=18.798038244247437\n",
      "\tAROUSAL-s08|Acc=1.0|10-CV=0.475|STD=0.11236|Time spend=18.506667613983154\n",
      "\tVALENCE-s08|Acc=0.9875|10-CV=0.505|STD=0.09862|Time spend=18.80385947227478\n",
      "\tAROUSAL-s09|Acc=0.9375|10-CV=0.535|STD=0.14841|Time spend=17.60517191886902\n",
      "\tVALENCE-s09|Acc=0.9625|10-CV=0.58|STD=0.16|Time spend=17.784943342208862\n",
      "\tAROUSAL-s10|Acc=1.0|10-CV=0.455|STD=0.06874|Time spend=17.57320284843445\n",
      "\tVALENCE-s10|Acc=1.0|10-CV=0.375|STD=0.15207|Time spend=17.760868310928345\n",
      "\tAROUSAL-s11|Acc=0.8875|10-CV=0.595|STD=0.06103|Time spend=17.678825855255127\n",
      "\tVALENCE-s11|Acc=0.8375|10-CV=0.555|STD=0.16194|Time spend=17.864147663116455\n",
      "\tAROUSAL-s12|Acc=0.8875|10-CV=0.83|STD=0.1005|Time spend=17.37227439880371\n",
      "\tVALENCE-s12|Acc=1.0|10-CV=0.39|STD=0.12|Time spend=17.561055421829224\n",
      "\tAROUSAL-s13|Acc=0.9|10-CV=0.84|STD=0.06633|Time spend=17.322218418121338\n",
      "\tVALENCE-s13|Acc=0.95|10-CV=0.465|STD=0.14151|Time spend=17.50189757347107\n",
      "\tAROUSAL-s14|Acc=0.9|10-CV=0.65|STD=0.10247|Time spend=17.10407018661499\n",
      "\tVALENCE-s14|Acc=1.0|10-CV=0.38|STD=0.08426|Time spend=17.29059648513794\n",
      "\tAROUSAL-s15|Acc=1.0|10-CV=0.415|STD=0.08958|Time spend=18.218498468399048\n",
      "\tVALENCE-s15|Acc=1.0|10-CV=0.51|STD=0.09695|Time spend=18.46062922477722\n",
      "\tAROUSAL-s16|Acc=1.0|10-CV=0.4|STD=0.14832|Time spend=17.870643138885498\n",
      "\tVALENCE-s16|Acc=0.9875|10-CV=0.64|STD=0.10198|Time spend=18.050811529159546\n",
      "\tAROUSAL-s17|Acc=0.825|10-CV=0.73|STD=0.1077|Time spend=16.855013132095337\n",
      "\tVALENCE-s17|Acc=0.85|10-CV=0.44|STD=0.1044|Time spend=17.049327850341797\n",
      "\tAROUSAL-s18|Acc=1.0|10-CV=0.565|STD=0.10012|Time spend=17.671178817749023\n",
      "\tVALENCE-s18|Acc=0.9875|10-CV=0.525|STD=0.12894|Time spend=17.853626251220703\n",
      "\tAROUSAL-s19|Acc=0.675|10-CV=0.6|STD=0.1|Time spend=18.373411417007446\n",
      "-----WARNING: Model s19 failed to learn: sum(ans)=80.0 sum(y)=54.0 len(y)=80\n",
      "\tVALENCE-s19|Acc=0.6375|10-CV=0.425|STD=0.11456|Time spend=18.692633628845215\n",
      "\tAROUSAL-s20|Acc=0.8875|10-CV=0.82|STD=0.08718|Time spend=18.07963728904724\n",
      "\tVALENCE-s20|Acc=1.0|10-CV=0.455|STD=0.165|Time spend=18.26368498802185\n",
      "\tAROUSAL-s21|Acc=0.875|10-CV=0.8|STD=0.1|Time spend=17.779318809509277\n",
      "\tVALENCE-s21|Acc=1.0|10-CV=0.41|STD=0.08307|Time spend=17.96215295791626\n",
      "\tAROUSAL-s22|Acc=0.8625|10-CV=0.575|STD=0.07159|Time spend=17.25672459602356\n",
      "\tVALENCE-s22|Acc=0.8875|10-CV=0.545|STD=0.10828|Time spend=17.528347969055176\n",
      "\tAROUSAL-s23|Acc=0.9875|10-CV=0.78|STD=0.09798|Time spend=18.187052726745605\n",
      "\tVALENCE-s23|Acc=1.0|10-CV=0.61|STD=0.15133|Time spend=18.369530200958252\n",
      "\tAROUSAL-s24|Acc=0.825|10-CV=0.82|STD=0.07483|Time spend=20.06181025505066\n",
      "-----WARNING: Model s24 failed to learn: sum(ans)=80.0 sum(y)=66.0 len(y)=80\n",
      "\tVALENCE-s24|Acc=0.8875|10-CV=0.43|STD=0.13266|Time spend=20.292656898498535\n",
      "\tAROUSAL-s25|Acc=0.9125|10-CV=0.73|STD=0.12689|Time spend=18.02323818206787\n",
      "\tVALENCE-s25|Acc=0.9875|10-CV=0.325|STD=0.09287|Time spend=18.21892237663269\n",
      "\tAROUSAL-s26|Acc=0.9375|10-CV=0.495|STD=0.12135|Time spend=17.32094168663025\n",
      "\tVALENCE-s26|Acc=0.825|10-CV=0.615|STD=0.13426|Time spend=17.501051664352417\n",
      "\tAROUSAL-s27|Acc=0.9875|10-CV=0.635|STD=0.10966|Time spend=18.091371297836304\n",
      "\tVALENCE-s27|Acc=0.95|10-CV=0.67|STD=0.12689|Time spend=18.282631158828735\n",
      "\tAROUSAL-s28|Acc=0.975|10-CV=0.56|STD=0.13928|Time spend=18.069010734558105\n",
      "\tVALENCE-s28|Acc=0.9625|10-CV=0.57|STD=0.16763|Time spend=18.255443334579468\n",
      "\tAROUSAL-s29|Acc=0.8875|10-CV=0.535|STD=0.10012|Time spend=17.53015899658203\n",
      "\tVALENCE-s29|Acc=0.925|10-CV=0.505|STD=0.10828|Time spend=17.714393615722656\n",
      "\tAROUSAL-s30|Acc=0.95|10-CV=0.425|STD=0.08441|Time spend=18.656890630722046\n",
      "\tVALENCE-s30|Acc=0.75|10-CV=0.62|STD=0.14697|Time spend=18.847108840942383\n",
      "\tAROUSAL-s31|Acc=1.0|10-CV=0.545|STD=0.16948|Time spend=18.8362398147583\n",
      "\tVALENCE-s31|Acc=0.9875|10-CV=0.53|STD=0.15033|Time spend=19.048925638198853\n",
      "\tAROUSAL-s32|Acc=0.95|10-CV=0.745|STD=0.13124|Time spend=18.01781702041626\n",
      "\tVALENCE-s32|Acc=1.0|10-CV=0.43|STD=0.17635|Time spend=18.33669948577881\n",
      "AROUSAL|Acc=0.92421875|10-CV=0.6071875|STD=0.11042048890410279\n",
      "VALENCE|Acc=0.9292968749999999|10-CV=0.51671875|STD=0.12424653825636693\n",
      "TOTAL|Acc=0.9267578125|10-CV=0.5619531250000002|STD=0.11733351358023486\n"
     ]
    }
   ],
   "source": [
    "for text in reports:\n",
    "    if(text == None): continue\n",
    "    print(text)\n",
    "\n",
    "accs.extend(accs_v)\n",
    "cv_means.extend(cv_means_v)\n",
    "cv_stds.extend(cv_stds_v)\n",
    "print(f\"TOTAL|Acc={sum(accs)/len(accs)}|10-CV={sum(cv_means)/len(cv_means)}|STD={sum(cv_stds)/len(cv_stds)}\")"
   ]
  },
  {
   "cell_type": "markdown",
   "metadata": {},
   "source": [
    "## 5. CSP"
   ]
  },
  {
   "cell_type": "code",
   "execution_count": 19,
   "metadata": {},
   "outputs": [],
   "source": [
    "from components.CSP import CSP\n",
    "from mne_features.feature_extraction import FeatureExtractor\n",
    "\n",
    "bands = [(0,4), (4,8), (8,12), (12,30), (30,64)]\n",
    "# [alias_feature_function]__[optional_param]\n",
    "params = dict({\n",
    "    'pow_freq_bands__log':True,\n",
    "    'pow_freq_bands__normalize':False,\n",
    "    'pow_freq_bands__freq_bands':bands\n",
    "})"
   ]
  },
  {
   "cell_type": "code",
   "execution_count": 23,
   "metadata": {},
   "outputs": [
    {
     "data": {
      "application/vnd.jupyter.widget-view+json": {
       "model_id": "d5f9a28452f34b1d80b87f0c3b0bb6f7",
       "version_major": 2,
       "version_minor": 0
      },
      "text/plain": [
       "  0%|          | 0/32 [00:00<?, ?it/s]"
      ]
     },
     "metadata": {},
     "output_type": "display_data"
    },
    {
     "name": "stdout",
     "output_type": "stream",
     "text": [
      "\tAROUSAL-s01|Acc=0.9125|10-CV=0.87|STD=0.1005|Time spend=2.908087968826294\n"
     ]
    },
    {
     "name": "stderr",
     "output_type": "stream",
     "text": [
      "/root/projects/components/CSP.py:78: ComplexWarning: Casting complex values to real discards the imaginary part\n",
      "  return SFa.astype(np.float32)\n"
     ]
    },
    {
     "name": "stdout",
     "output_type": "stream",
     "text": [
      "\tAROUSAL-s02|Acc=1.0|10-CV=1.0|STD=0.0|Time spend=2.2726778984069824\n"
     ]
    },
    {
     "name": "stderr",
     "output_type": "stream",
     "text": [
      "/root/projects/components/CSP.py:78: ComplexWarning: Casting complex values to real discards the imaginary part\n",
      "  return SFa.astype(np.float32)\n"
     ]
    },
    {
     "name": "stdout",
     "output_type": "stream",
     "text": [
      "-----WARNING: Model s03 failed to learn: sum(ans)=0.0 sum(y)=16.0 len(y)=80\n",
      "\tAROUSAL-s03|Acc=0.8|10-CV=0.73|STD=0.15524|Time spend=2.209850788116455\n"
     ]
    },
    {
     "name": "stderr",
     "output_type": "stream",
     "text": [
      "/root/projects/components/CSP.py:78: ComplexWarning: Casting complex values to real discards the imaginary part\n",
      "  return SFa.astype(np.float32)\n"
     ]
    },
    {
     "name": "stdout",
     "output_type": "stream",
     "text": [
      "\tAROUSAL-s04|Acc=0.925|10-CV=0.9|STD=0.04472|Time spend=1.113363265991211\n"
     ]
    },
    {
     "name": "stderr",
     "output_type": "stream",
     "text": [
      "/root/projects/components/CSP.py:78: ComplexWarning: Casting complex values to real discards the imaginary part\n",
      "  return SFa.astype(np.float32)\n"
     ]
    },
    {
     "name": "stdout",
     "output_type": "stream",
     "text": [
      "\tAROUSAL-s05|Acc=0.9125|10-CV=0.875|STD=0.07159|Time spend=0.7865715026855469\n"
     ]
    },
    {
     "name": "stderr",
     "output_type": "stream",
     "text": [
      "/root/projects/components/CSP.py:78: ComplexWarning: Casting complex values to real discards the imaginary part\n",
      "  return SFa.astype(np.float32)\n"
     ]
    },
    {
     "name": "stdout",
     "output_type": "stream",
     "text": [
      "\tAROUSAL-s06|Acc=0.625|10-CV=0.52|STD=0.14177|Time spend=0.8325445652008057\n"
     ]
    },
    {
     "name": "stderr",
     "output_type": "stream",
     "text": [
      "/root/projects/components/CSP.py:78: ComplexWarning: Casting complex values to real discards the imaginary part\n",
      "  return SFa.astype(np.float32)\n"
     ]
    },
    {
     "name": "stdout",
     "output_type": "stream",
     "text": [
      "\tAROUSAL-s07|Acc=0.9875|10-CV=0.975|STD=0.03354|Time spend=0.711545467376709\n"
     ]
    },
    {
     "name": "stderr",
     "output_type": "stream",
     "text": [
      "/root/projects/components/CSP.py:78: ComplexWarning: Casting complex values to real discards the imaginary part\n",
      "  return SFa.astype(np.float32)\n"
     ]
    },
    {
     "name": "stdout",
     "output_type": "stream",
     "text": [
      "-----WARNING: Model s08 failed to learn: sum(ans)=80.0 sum(y)=46.0 len(y)=80\n",
      "\tAROUSAL-s08|Acc=0.575|10-CV=0.435|STD=0.095|Time spend=0.8088600635528564\n"
     ]
    },
    {
     "name": "stderr",
     "output_type": "stream",
     "text": [
      "/root/projects/components/CSP.py:78: ComplexWarning: Casting complex values to real discards the imaginary part\n",
      "  return SFa.astype(np.float32)\n"
     ]
    },
    {
     "name": "stdout",
     "output_type": "stream",
     "text": [
      "\tAROUSAL-s09|Acc=0.9125|10-CV=0.92|STD=0.07141|Time spend=0.8805944919586182\n"
     ]
    },
    {
     "name": "stderr",
     "output_type": "stream",
     "text": [
      "/root/projects/components/CSP.py:78: ComplexWarning: Casting complex values to real discards the imaginary part\n",
      "  return SFa.astype(np.float32)\n"
     ]
    },
    {
     "name": "stdout",
     "output_type": "stream",
     "text": [
      "\tAROUSAL-s10|Acc=0.5875|10-CV=0.4|STD=0.10247|Time spend=1.0039870738983154\n"
     ]
    },
    {
     "name": "stderr",
     "output_type": "stream",
     "text": [
      "/root/projects/components/CSP.py:78: ComplexWarning: Casting complex values to real discards the imaginary part\n",
      "  return SFa.astype(np.float32)\n"
     ]
    },
    {
     "name": "stdout",
     "output_type": "stream",
     "text": [
      "\tAROUSAL-s11|Acc=1.0|10-CV=0.99|STD=0.02|Time spend=0.9244844913482666\n"
     ]
    },
    {
     "name": "stderr",
     "output_type": "stream",
     "text": [
      "/root/projects/components/CSP.py:78: ComplexWarning: Casting complex values to real discards the imaginary part\n",
      "  return SFa.astype(np.float32)\n"
     ]
    },
    {
     "name": "stdout",
     "output_type": "stream",
     "text": [
      "-----WARNING: Model s12 failed to learn: sum(ans)=80.0 sum(y)=66.0 len(y)=80\n",
      "\tAROUSAL-s12|Acc=0.825|10-CV=0.83|STD=0.1005|Time spend=0.9440348148345947\n"
     ]
    },
    {
     "name": "stderr",
     "output_type": "stream",
     "text": [
      "/root/projects/components/CSP.py:78: ComplexWarning: Casting complex values to real discards the imaginary part\n",
      "  return SFa.astype(np.float32)\n"
     ]
    },
    {
     "name": "stdout",
     "output_type": "stream",
     "text": [
      "-----WARNING: Model s13 failed to learn: sum(ans)=80.0 sum(y)=68.0 len(y)=80\n",
      "\tAROUSAL-s13|Acc=0.85|10-CV=0.84|STD=0.06633|Time spend=0.9408371448516846\n"
     ]
    },
    {
     "name": "stderr",
     "output_type": "stream",
     "text": [
      "/root/projects/components/CSP.py:78: ComplexWarning: Casting complex values to real discards the imaginary part\n",
      "  return SFa.astype(np.float32)\n"
     ]
    },
    {
     "name": "stdout",
     "output_type": "stream",
     "text": [
      "\tAROUSAL-s14|Acc=0.75|10-CV=0.65|STD=0.10247|Time spend=0.7436389923095703\n"
     ]
    },
    {
     "name": "stderr",
     "output_type": "stream",
     "text": [
      "/root/projects/components/CSP.py:78: ComplexWarning: Casting complex values to real discards the imaginary part\n",
      "  return SFa.astype(np.float32)\n"
     ]
    },
    {
     "name": "stdout",
     "output_type": "stream",
     "text": [
      "\tAROUSAL-s15|Acc=0.6125|10-CV=0.53|STD=0.12689|Time spend=0.634169340133667\n"
     ]
    },
    {
     "name": "stderr",
     "output_type": "stream",
     "text": [
      "/root/projects/components/CSP.py:78: ComplexWarning: Casting complex values to real discards the imaginary part\n",
      "  return SFa.astype(np.float32)\n"
     ]
    },
    {
     "name": "stdout",
     "output_type": "stream",
     "text": [
      "\tAROUSAL-s16|Acc=0.9875|10-CV=0.99|STD=0.03|Time spend=0.4661574363708496\n"
     ]
    },
    {
     "name": "stderr",
     "output_type": "stream",
     "text": [
      "/root/projects/components/CSP.py:78: ComplexWarning: Casting complex values to real discards the imaginary part\n",
      "  return SFa.astype(np.float32)\n"
     ]
    },
    {
     "name": "stdout",
     "output_type": "stream",
     "text": [
      "\tAROUSAL-s17|Acc=0.9|10-CV=0.78|STD=0.09274|Time spend=0.47026991844177246\n"
     ]
    },
    {
     "name": "stderr",
     "output_type": "stream",
     "text": [
      "/root/projects/components/CSP.py:78: ComplexWarning: Casting complex values to real discards the imaginary part\n",
      "  return SFa.astype(np.float32)\n"
     ]
    },
    {
     "name": "stdout",
     "output_type": "stream",
     "text": [
      "\tAROUSAL-s18|Acc=0.925|10-CV=0.885|STD=0.07762|Time spend=0.4157555103302002\n"
     ]
    },
    {
     "name": "stderr",
     "output_type": "stream",
     "text": [
      "/root/projects/components/CSP.py:78: ComplexWarning: Casting complex values to real discards the imaginary part\n",
      "  return SFa.astype(np.float32)\n"
     ]
    },
    {
     "name": "stdout",
     "output_type": "stream",
     "text": [
      "\tAROUSAL-s19|Acc=1.0|10-CV=1.0|STD=0.0|Time spend=0.4909796714782715\n"
     ]
    },
    {
     "name": "stderr",
     "output_type": "stream",
     "text": [
      "/root/projects/components/CSP.py:78: ComplexWarning: Casting complex values to real discards the imaginary part\n",
      "  return SFa.astype(np.float32)\n"
     ]
    },
    {
     "name": "stdout",
     "output_type": "stream",
     "text": [
      "\tAROUSAL-s20|Acc=0.975|10-CV=0.98|STD=0.02449|Time spend=0.4508953094482422\n"
     ]
    },
    {
     "name": "stderr",
     "output_type": "stream",
     "text": [
      "/root/projects/components/CSP.py:78: ComplexWarning: Casting complex values to real discards the imaginary part\n",
      "  return SFa.astype(np.float32)\n"
     ]
    },
    {
     "name": "stdout",
     "output_type": "stream",
     "text": [
      "-----WARNING: Model s21 failed to learn: sum(ans)=80.0 sum(y)=64.0 len(y)=80\n",
      "\tAROUSAL-s21|Acc=0.8|10-CV=0.785|STD=0.10259|Time spend=0.48340702056884766\n"
     ]
    },
    {
     "name": "stderr",
     "output_type": "stream",
     "text": [
      "/root/projects/components/CSP.py:78: ComplexWarning: Casting complex values to real discards the imaginary part\n",
      "  return SFa.astype(np.float32)\n"
     ]
    },
    {
     "name": "stdout",
     "output_type": "stream",
     "text": [
      "\tAROUSAL-s22|Acc=0.7|10-CV=0.615|STD=0.08382|Time spend=0.4553341865539551\n"
     ]
    },
    {
     "name": "stderr",
     "output_type": "stream",
     "text": [
      "/root/projects/components/CSP.py:78: ComplexWarning: Casting complex values to real discards the imaginary part\n",
      "  return SFa.astype(np.float32)\n"
     ]
    },
    {
     "name": "stdout",
     "output_type": "stream",
     "text": [
      "-----WARNING: Model s23 failed to learn: sum(ans)=0.0 sum(y)=20.0 len(y)=80\n",
      "\tAROUSAL-s23|Acc=0.75|10-CV=0.78|STD=0.09798|Time spend=0.49803829193115234\n"
     ]
    },
    {
     "name": "stderr",
     "output_type": "stream",
     "text": [
      "/root/projects/components/CSP.py:78: ComplexWarning: Casting complex values to real discards the imaginary part\n",
      "  return SFa.astype(np.float32)\n"
     ]
    },
    {
     "name": "stdout",
     "output_type": "stream",
     "text": [
      "-----WARNING: Model s24 failed to learn: sum(ans)=80.0 sum(y)=66.0 len(y)=80\n",
      "\tAROUSAL-s24|Acc=0.825|10-CV=0.82|STD=0.07483|Time spend=0.45826029777526855\n"
     ]
    },
    {
     "name": "stderr",
     "output_type": "stream",
     "text": [
      "/root/projects/components/CSP.py:78: ComplexWarning: Casting complex values to real discards the imaginary part\n",
      "  return SFa.astype(np.float32)\n"
     ]
    },
    {
     "name": "stdout",
     "output_type": "stream",
     "text": [
      "-----WARNING: Model s25 failed to learn: sum(ans)=80.0 sum(y)=58.0 len(y)=80\n",
      "\tAROUSAL-s25|Acc=0.725|10-CV=0.74|STD=0.12806|Time spend=0.4981260299682617\n"
     ]
    },
    {
     "name": "stderr",
     "output_type": "stream",
     "text": [
      "/root/projects/components/CSP.py:78: ComplexWarning: Casting complex values to real discards the imaginary part\n",
      "  return SFa.astype(np.float32)\n"
     ]
    },
    {
     "name": "stdout",
     "output_type": "stream",
     "text": [
      "-----WARNING: Model s26 failed to learn: sum(ans)=0.0 sum(y)=34.0 len(y)=80\n",
      "\tAROUSAL-s26|Acc=0.575|10-CV=0.49|STD=0.1261|Time spend=0.49324941635131836\n"
     ]
    },
    {
     "name": "stderr",
     "output_type": "stream",
     "text": [
      "/root/projects/components/CSP.py:78: ComplexWarning: Casting complex values to real discards the imaginary part\n",
      "  return SFa.astype(np.float32)\n"
     ]
    },
    {
     "name": "stdout",
     "output_type": "stream",
     "text": [
      "\tAROUSAL-s27|Acc=0.95|10-CV=0.88|STD=0.0781|Time spend=0.43573784828186035\n"
     ]
    },
    {
     "name": "stderr",
     "output_type": "stream",
     "text": [
      "/root/projects/components/CSP.py:78: ComplexWarning: Casting complex values to real discards the imaginary part\n",
      "  return SFa.astype(np.float32)\n"
     ]
    },
    {
     "name": "stdout",
     "output_type": "stream",
     "text": [
      "\tAROUSAL-s28|Acc=0.625|10-CV=0.5|STD=0.14142|Time spend=0.4290025234222412\n"
     ]
    },
    {
     "name": "stderr",
     "output_type": "stream",
     "text": [
      "/root/projects/components/CSP.py:78: ComplexWarning: Casting complex values to real discards the imaginary part\n",
      "  return SFa.astype(np.float32)\n"
     ]
    },
    {
     "name": "stdout",
     "output_type": "stream",
     "text": [
      "\tAROUSAL-s29|Acc=1.0|10-CV=1.0|STD=0.0|Time spend=0.3910386562347412\n"
     ]
    },
    {
     "name": "stderr",
     "output_type": "stream",
     "text": [
      "/root/projects/components/CSP.py:78: ComplexWarning: Casting complex values to real discards the imaginary part\n",
      "  return SFa.astype(np.float32)\n"
     ]
    },
    {
     "name": "stdout",
     "output_type": "stream",
     "text": [
      "\tAROUSAL-s30|Acc=0.9|10-CV=0.865|STD=0.06727|Time spend=0.4346137046813965\n"
     ]
    },
    {
     "name": "stderr",
     "output_type": "stream",
     "text": [
      "/root/projects/components/CSP.py:78: ComplexWarning: Casting complex values to real discards the imaginary part\n",
      "  return SFa.astype(np.float32)\n"
     ]
    },
    {
     "name": "stdout",
     "output_type": "stream",
     "text": [
      "\tAROUSAL-s31|Acc=0.675|10-CV=0.56|STD=0.15297|Time spend=0.496168851852417\n"
     ]
    },
    {
     "name": "stderr",
     "output_type": "stream",
     "text": [
      "/root/projects/components/CSP.py:78: ComplexWarning: Casting complex values to real discards the imaginary part\n",
      "  return SFa.astype(np.float32)\n"
     ]
    },
    {
     "name": "stdout",
     "output_type": "stream",
     "text": [
      "-----WARNING: Model s32 failed to learn: sum(ans)=80.0 sum(y)=54.0 len(y)=80\n",
      "\tAROUSAL-s32|Acc=0.675|10-CV=0.725|STD=0.14009|Time spend=0.673058271408081\n",
      "AROUSAL|Acc=0.820703125|10-CV=0.7768749999999998|STD=0.08282867735380613\n"
     ]
    }
   ],
   "source": [
    "accs, cv_means, cv_stds = [],[],[]\n",
    "for filename in tqdm(dataset.get_file_list()):\n",
    "\n",
    "    data, labels, groups = dataset.get_data(filename, stimuli=Dataset_subjectDependent.STIMULI_AROUSAL, return_type='numpy')\n",
    "    labels = labels.squeeze()\n",
    "    start = time.time()\n",
    "    filters = CSP(data[labels==0], data[labels==1])\n",
    "    \n",
    "    csp_data = []\n",
    "    for index in range(len(data)):\n",
    "        \n",
    "        # (672, 32) @ (32, 32) = (672, 32)\n",
    "        csp = data[index].T @ filters[labels[index].astype(int)]\n",
    "        # (1, 32, 672)\n",
    "        csp = np.expand_dims(csp.T, axis=0)\n",
    "        csp_data.append(csp)\n",
    "\n",
    "    csp_data = np.vstack(csp_data)\n",
    "    # print(csp_data.shape) => (2400, 32, 128)\n",
    "    fe = FeatureExtractor(sfreq=128, selected_funcs=['pow_freq_bands'],params=params,n_jobs=8)\n",
    "    X = fe.fit_transform(X=csp_data)\n",
    "    # print(X.shape, time.time() - start) => (2400, 160) 1.2374355792999268\n",
    "    # print(X.shape)\n",
    "    assert X.shape[1] == 160\n",
    "    _, acc, cross = train_model(X, labels.reshape(-1), groups, filename=filename)\n",
    "    print(f\"\\tAROUSAL-{filename}|Acc={round(acc,5)}|10-CV={round(cross.mean(),5)}|STD={round(cross.std(),5)}|Time spend={time.time() - start}\")\n",
    "    accs.append(acc)\n",
    "    cv_means.append(cross.mean())\n",
    "    cv_stds.append(cross.std())\n",
    "print(f\"AROUSAL|Acc={sum(accs)/len(accs)}|10-CV={sum(cv_means)/len(cv_means)}|STD={sum(cv_stds)/len(cv_stds)}\")"
   ]
  },
  {
   "cell_type": "code",
   "execution_count": 25,
   "metadata": {},
   "outputs": [
    {
     "data": {
      "application/vnd.jupyter.widget-view+json": {
       "model_id": "175037dafea643f8b09a4fc5bfc414f0",
       "version_major": 2,
       "version_minor": 0
      },
      "text/plain": [
       "  0%|          | 0/32 [00:00<?, ?it/s]"
      ]
     },
     "metadata": {},
     "output_type": "display_data"
    },
    {
     "name": "stdout",
     "output_type": "stream",
     "text": [
      "\tVALENCE-s01|Acc=0.8625|10-CV=0.84|STD=0.06633|Time spend=0.46907997131347656\n"
     ]
    },
    {
     "name": "stderr",
     "output_type": "stream",
     "text": [
      "/root/projects/components/CSP.py:78: ComplexWarning: Casting complex values to real discards the imaginary part\n",
      "  return SFa.astype(np.float32)\n"
     ]
    },
    {
     "name": "stdout",
     "output_type": "stream",
     "text": [
      "\tVALENCE-s02|Acc=1.0|10-CV=1.0|STD=0.0|Time spend=0.43291568756103516\n"
     ]
    },
    {
     "name": "stderr",
     "output_type": "stream",
     "text": [
      "/root/projects/components/CSP.py:78: ComplexWarning: Casting complex values to real discards the imaginary part\n",
      "  return SFa.astype(np.float32)\n"
     ]
    },
    {
     "name": "stdout",
     "output_type": "stream",
     "text": [
      "\tVALENCE-s03|Acc=0.7|10-CV=0.585|STD=0.18581|Time spend=0.4497840404510498\n"
     ]
    },
    {
     "name": "stderr",
     "output_type": "stream",
     "text": [
      "/root/projects/components/CSP.py:78: ComplexWarning: Casting complex values to real discards the imaginary part\n",
      "  return SFa.astype(np.float32)\n"
     ]
    },
    {
     "name": "stdout",
     "output_type": "stream",
     "text": [
      "\tVALENCE-s04|Acc=0.6875|10-CV=0.505|STD=0.09862|Time spend=0.47086381912231445\n"
     ]
    },
    {
     "name": "stderr",
     "output_type": "stream",
     "text": [
      "/root/projects/components/CSP.py:78: ComplexWarning: Casting complex values to real discards the imaginary part\n",
      "  return SFa.astype(np.float32)\n"
     ]
    },
    {
     "name": "stdout",
     "output_type": "stream",
     "text": [
      "-----WARNING: Model s05 failed to learn: sum(ans)=80.0 sum(y)=48.0 len(y)=80\n",
      "\tVALENCE-s05|Acc=0.6|10-CV=0.625|STD=0.14361|Time spend=0.5336771011352539\n"
     ]
    },
    {
     "name": "stderr",
     "output_type": "stream",
     "text": [
      "/root/projects/components/CSP.py:78: ComplexWarning: Casting complex values to real discards the imaginary part\n",
      "  return SFa.astype(np.float32)\n"
     ]
    },
    {
     "name": "stdout",
     "output_type": "stream",
     "text": [
      "\tVALENCE-s06|Acc=1.0|10-CV=1.0|STD=0.0|Time spend=0.4405372142791748\n"
     ]
    },
    {
     "name": "stderr",
     "output_type": "stream",
     "text": [
      "/root/projects/components/CSP.py:78: ComplexWarning: Casting complex values to real discards the imaginary part\n",
      "  return SFa.astype(np.float32)\n"
     ]
    },
    {
     "name": "stdout",
     "output_type": "stream",
     "text": [
      "-----WARNING: Model s07 failed to learn: sum(ans)=80.0 sum(y)=56.0 len(y)=80\n",
      "\tVALENCE-s07|Acc=0.7|10-CV=0.69|STD=0.13748|Time spend=0.47797489166259766\n"
     ]
    },
    {
     "name": "stderr",
     "output_type": "stream",
     "text": [
      "/root/projects/components/CSP.py:78: ComplexWarning: Casting complex values to real discards the imaginary part\n",
      "  return SFa.astype(np.float32)\n"
     ]
    },
    {
     "name": "stdout",
     "output_type": "stream",
     "text": [
      "\tVALENCE-s08|Acc=0.65|10-CV=0.45|STD=0.12649|Time spend=0.55118727684021\n"
     ]
    },
    {
     "name": "stderr",
     "output_type": "stream",
     "text": [
      "/root/projects/components/CSP.py:78: ComplexWarning: Casting complex values to real discards the imaginary part\n",
      "  return SFa.astype(np.float32)\n"
     ]
    },
    {
     "name": "stdout",
     "output_type": "stream",
     "text": [
      "\tVALENCE-s09|Acc=0.9625|10-CV=0.95|STD=0.05|Time spend=0.49695420265197754\n"
     ]
    },
    {
     "name": "stderr",
     "output_type": "stream",
     "text": [
      "/root/projects/components/CSP.py:78: ComplexWarning: Casting complex values to real discards the imaginary part\n",
      "  return SFa.astype(np.float32)\n"
     ]
    },
    {
     "name": "stdout",
     "output_type": "stream",
     "text": [
      "\tVALENCE-s10|Acc=0.9875|10-CV=0.97|STD=0.03317|Time spend=0.4151887893676758\n"
     ]
    },
    {
     "name": "stderr",
     "output_type": "stream",
     "text": [
      "/root/projects/components/CSP.py:78: ComplexWarning: Casting complex values to real discards the imaginary part\n",
      "  return SFa.astype(np.float32)\n"
     ]
    },
    {
     "name": "stdout",
     "output_type": "stream",
     "text": [
      "\tVALENCE-s11|Acc=0.725|10-CV=0.605|STD=0.1524|Time spend=0.5086863040924072\n"
     ]
    },
    {
     "name": "stderr",
     "output_type": "stream",
     "text": [
      "/root/projects/components/CSP.py:78: ComplexWarning: Casting complex values to real discards the imaginary part\n",
      "  return SFa.astype(np.float32)\n"
     ]
    },
    {
     "name": "stdout",
     "output_type": "stream",
     "text": [
      "\tVALENCE-s12|Acc=0.925|10-CV=0.81|STD=0.05385|Time spend=0.40415334701538086\n"
     ]
    },
    {
     "name": "stderr",
     "output_type": "stream",
     "text": [
      "/root/projects/components/CSP.py:78: ComplexWarning: Casting complex values to real discards the imaginary part\n",
      "  return SFa.astype(np.float32)\n"
     ]
    },
    {
     "name": "stdout",
     "output_type": "stream",
     "text": [
      "\tVALENCE-s13|Acc=1.0|10-CV=0.995|STD=0.015|Time spend=0.6592867374420166\n"
     ]
    },
    {
     "name": "stderr",
     "output_type": "stream",
     "text": [
      "/root/projects/components/CSP.py:78: ComplexWarning: Casting complex values to real discards the imaginary part\n",
      "  return SFa.astype(np.float32)\n"
     ]
    },
    {
     "name": "stdout",
     "output_type": "stream",
     "text": [
      "\tVALENCE-s14|Acc=0.625|10-CV=0.465|STD=0.10259|Time spend=0.4076101779937744\n"
     ]
    },
    {
     "name": "stderr",
     "output_type": "stream",
     "text": [
      "/root/projects/components/CSP.py:78: ComplexWarning: Casting complex values to real discards the imaginary part\n",
      "  return SFa.astype(np.float32)\n"
     ]
    },
    {
     "name": "stdout",
     "output_type": "stream",
     "text": [
      "\tVALENCE-s15|Acc=0.8375|10-CV=0.81|STD=0.08602|Time spend=0.49230360984802246\n"
     ]
    },
    {
     "name": "stderr",
     "output_type": "stream",
     "text": [
      "/root/projects/components/CSP.py:78: ComplexWarning: Casting complex values to real discards the imaginary part\n",
      "  return SFa.astype(np.float32)\n"
     ]
    },
    {
     "name": "stdout",
     "output_type": "stream",
     "text": [
      "\tVALENCE-s16|Acc=0.9875|10-CV=0.97|STD=0.04583|Time spend=0.5206599235534668\n"
     ]
    },
    {
     "name": "stderr",
     "output_type": "stream",
     "text": [
      "/root/projects/components/CSP.py:78: ComplexWarning: Casting complex values to real discards the imaginary part\n",
      "  return SFa.astype(np.float32)\n"
     ]
    },
    {
     "name": "stdout",
     "output_type": "stream",
     "text": [
      "\tVALENCE-s17|Acc=0.6625|10-CV=0.49|STD=0.12806|Time spend=0.7003390789031982\n"
     ]
    },
    {
     "name": "stderr",
     "output_type": "stream",
     "text": [
      "/root/projects/components/CSP.py:78: ComplexWarning: Casting complex values to real discards the imaginary part\n",
      "  return SFa.astype(np.float32)\n"
     ]
    },
    {
     "name": "stdout",
     "output_type": "stream",
     "text": [
      "\tVALENCE-s18|Acc=0.7|10-CV=0.545|STD=0.14396|Time spend=0.6020307540893555\n"
     ]
    },
    {
     "name": "stderr",
     "output_type": "stream",
     "text": [
      "/root/projects/components/CSP.py:78: ComplexWarning: Casting complex values to real discards the imaginary part\n",
      "  return SFa.astype(np.float32)\n"
     ]
    },
    {
     "name": "stdout",
     "output_type": "stream",
     "text": [
      "\tVALENCE-s19|Acc=1.0|10-CV=1.0|STD=0.0|Time spend=0.43289828300476074\n"
     ]
    },
    {
     "name": "stderr",
     "output_type": "stream",
     "text": [
      "/root/projects/components/CSP.py:78: ComplexWarning: Casting complex values to real discards the imaginary part\n",
      "  return SFa.astype(np.float32)\n"
     ]
    },
    {
     "name": "stdout",
     "output_type": "stream",
     "text": [
      "\tVALENCE-s20|Acc=0.725|10-CV=0.555|STD=0.14396|Time spend=0.4076051712036133\n"
     ]
    },
    {
     "name": "stderr",
     "output_type": "stream",
     "text": [
      "/root/projects/components/CSP.py:78: ComplexWarning: Casting complex values to real discards the imaginary part\n",
      "  return SFa.astype(np.float32)\n"
     ]
    },
    {
     "name": "stdout",
     "output_type": "stream",
     "text": [
      "\tVALENCE-s21|Acc=0.6625|10-CV=0.46|STD=0.11358|Time spend=0.4561293125152588\n"
     ]
    },
    {
     "name": "stderr",
     "output_type": "stream",
     "text": [
      "/root/projects/components/CSP.py:78: ComplexWarning: Casting complex values to real discards the imaginary part\n",
      "  return SFa.astype(np.float32)\n"
     ]
    },
    {
     "name": "stdout",
     "output_type": "stream",
     "text": [
      "\tVALENCE-s22|Acc=0.725|10-CV=0.63|STD=0.10536|Time spend=0.4087209701538086\n"
     ]
    },
    {
     "name": "stderr",
     "output_type": "stream",
     "text": [
      "/root/projects/components/CSP.py:78: ComplexWarning: Casting complex values to real discards the imaginary part\n",
      "  return SFa.astype(np.float32)\n"
     ]
    },
    {
     "name": "stdout",
     "output_type": "stream",
     "text": [
      "-----WARNING: Model s23 failed to learn: sum(ans)=80.0 sum(y)=52.0 len(y)=80\n",
      "\tVALENCE-s23|Acc=0.65|10-CV=0.61|STD=0.15133|Time spend=0.4872400760650635\n"
     ]
    },
    {
     "name": "stderr",
     "output_type": "stream",
     "text": [
      "/root/projects/components/CSP.py:78: ComplexWarning: Casting complex values to real discards the imaginary part\n",
      "  return SFa.astype(np.float32)\n"
     ]
    },
    {
     "name": "stdout",
     "output_type": "stream",
     "text": [
      "\tVALENCE-s24|Acc=1.0|10-CV=1.0|STD=0.0|Time spend=0.42885851860046387\n"
     ]
    },
    {
     "name": "stderr",
     "output_type": "stream",
     "text": [
      "/root/projects/components/CSP.py:78: ComplexWarning: Casting complex values to real discards the imaginary part\n",
      "  return SFa.astype(np.float32)\n"
     ]
    },
    {
     "name": "stdout",
     "output_type": "stream",
     "text": [
      "\tVALENCE-s25|Acc=0.65|10-CV=0.395|STD=0.11715|Time spend=0.541682243347168\n"
     ]
    },
    {
     "name": "stderr",
     "output_type": "stream",
     "text": [
      "/root/projects/components/CSP.py:78: ComplexWarning: Casting complex values to real discards the imaginary part\n",
      "  return SFa.astype(np.float32)\n"
     ]
    },
    {
     "name": "stdout",
     "output_type": "stream",
     "text": [
      "\tVALENCE-s26|Acc=0.7|10-CV=0.62|STD=0.15362|Time spend=0.4375293254852295\n"
     ]
    },
    {
     "name": "stderr",
     "output_type": "stream",
     "text": [
      "/root/projects/components/CSP.py:78: ComplexWarning: Casting complex values to real discards the imaginary part\n",
      "  return SFa.astype(np.float32)\n"
     ]
    },
    {
     "name": "stdout",
     "output_type": "stream",
     "text": [
      "\tVALENCE-s27|Acc=0.7625|10-CV=0.67|STD=0.12689|Time spend=0.4320409297943115\n"
     ]
    },
    {
     "name": "stderr",
     "output_type": "stream",
     "text": [
      "/root/projects/components/CSP.py:78: ComplexWarning: Casting complex values to real discards the imaginary part\n",
      "  return SFa.astype(np.float32)\n"
     ]
    },
    {
     "name": "stdout",
     "output_type": "stream",
     "text": [
      "\tVALENCE-s28|Acc=0.9625|10-CV=0.955|STD=0.035|Time spend=0.5668563842773438\n"
     ]
    },
    {
     "name": "stderr",
     "output_type": "stream",
     "text": [
      "/root/projects/components/CSP.py:78: ComplexWarning: Casting complex values to real discards the imaginary part\n",
      "  return SFa.astype(np.float32)\n"
     ]
    },
    {
     "name": "stdout",
     "output_type": "stream",
     "text": [
      "\tVALENCE-s29|Acc=1.0|10-CV=1.0|STD=0.0|Time spend=0.45981597900390625\n"
     ]
    },
    {
     "name": "stderr",
     "output_type": "stream",
     "text": [
      "/root/projects/components/CSP.py:78: ComplexWarning: Casting complex values to real discards the imaginary part\n",
      "  return SFa.astype(np.float32)\n"
     ]
    },
    {
     "name": "stdout",
     "output_type": "stream",
     "text": [
      "\tVALENCE-s30|Acc=0.85|10-CV=0.81|STD=0.09434|Time spend=0.460374116897583\n"
     ]
    },
    {
     "name": "stderr",
     "output_type": "stream",
     "text": [
      "/root/projects/components/CSP.py:78: ComplexWarning: Casting complex values to real discards the imaginary part\n",
      "  return SFa.astype(np.float32)\n"
     ]
    },
    {
     "name": "stdout",
     "output_type": "stream",
     "text": [
      "\tVALENCE-s31|Acc=0.9875|10-CV=0.98|STD=0.02449|Time spend=0.4488518238067627\n"
     ]
    },
    {
     "name": "stderr",
     "output_type": "stream",
     "text": [
      "/root/projects/components/CSP.py:78: ComplexWarning: Casting complex values to real discards the imaginary part\n",
      "  return SFa.astype(np.float32)\n"
     ]
    },
    {
     "name": "stdout",
     "output_type": "stream",
     "text": [
      "\tVALENCE-s32|Acc=0.6625|10-CV=0.63|STD=0.12288|Time spend=0.46358418464660645\n",
      "VALENCE|Acc=0.8109375000000001|10-CV=0.738125|STD=0.08618195879941332\n"
     ]
    }
   ],
   "source": [
    "accs_v, cv_means_v, cv_stds_v = [],[],[]\n",
    "for filename in tqdm(dataset.get_file_list()):\n",
    "\n",
    "    data, labels, groups = dataset.get_data(filename, stimuli=Dataset_subjectDependent.STIMULI_VALENCE, return_type='numpy')\n",
    "    labels = labels.squeeze()\n",
    "    start = time.time()\n",
    "    filters = CSP(data[labels==0], data[labels==1])\n",
    "    \n",
    "    csp_data = []\n",
    "    for index in range(len(data)):\n",
    "        \n",
    "        # (672, 32) @ (32, 32) = (672, 32)\n",
    "        csp = data[index].T @ filters[labels[index].astype(int)]\n",
    "        # (1, 32, 672)\n",
    "        csp = np.expand_dims(csp.T, axis=0)\n",
    "        csp_data.append(csp)\n",
    "\n",
    "    csp_data = np.vstack(csp_data)\n",
    "    # print(csp_data.shape) => (2400, 32, 128)\n",
    "    fe = FeatureExtractor(sfreq=128, selected_funcs=['pow_freq_bands'],params=params,n_jobs=8)\n",
    "    X = fe.fit_transform(X=csp_data)\n",
    "    # print(X.shape, time.time() - start) => (2400, 160) 1.2374355792999268\n",
    "\n",
    "    assert X.shape[1] == 160\n",
    "    _, acc, cross = train_model(X, labels.reshape(-1), groups, filename=filename)\n",
    "    print(f\"\\tVALENCE-{filename}|Acc={round(acc,5)}|10-CV={round(cross.mean(),5)}|STD={round(cross.std(),5)}|Time spend={time.time() - start}\")\n",
    "    accs_v.append(acc)\n",
    "    cv_means_v.append(cross.mean())\n",
    "    cv_stds_v.append(cross.std())\n",
    "print(f\"VALENCE|Acc={sum(accs_v)/len(accs_v)}|10-CV={sum(cv_means_v)/len(cv_means_v)}|STD={sum(cv_stds_v)/len(cv_stds_v)}\")"
   ]
  },
  {
   "cell_type": "code",
   "execution_count": 26,
   "metadata": {},
   "outputs": [
    {
     "name": "stdout",
     "output_type": "stream",
     "text": [
      "TOTAL|Acc=0.8158203125|10-CV=0.7575000000000001|STD=0.08450531807660971\n"
     ]
    }
   ],
   "source": [
    "accs.extend(accs_v)\n",
    "cv_means.extend(cv_means_v)\n",
    "cv_stds.extend(cv_stds_v)\n",
    "\n",
    "print(f\"TOTAL|Acc={sum(accs)/len(accs)}|10-CV={sum(cv_means)/len(cv_means)}|STD={sum(cv_stds)/len(cv_stds)}\")"
   ]
  },
  {
   "cell_type": "code",
   "execution_count": null,
   "metadata": {},
   "outputs": [],
   "source": []
  }
 ],
 "metadata": {
  "interpreter": {
   "hash": "27768773b483d82a9b2b839e3fa80b1be5789db7fd78df4eedef2df266871616"
  },
  "kernelspec": {
   "display_name": "Python 3 (ipykernel)",
   "language": "python",
   "name": "python3"
  },
  "language_info": {
   "codemirror_mode": {
    "name": "ipython",
    "version": 3
   },
   "file_extension": ".py",
   "mimetype": "text/x-python",
   "name": "python",
   "nbconvert_exporter": "python",
   "pygments_lexer": "ipython3",
   "version": "3.8.10"
  }
 },
 "nbformat": 4,
 "nbformat_minor": 4
}
