{
 "cells": [
  {
   "cell_type": "code",
   "execution_count": 1,
   "metadata": {},
   "outputs": [
    {
     "name": "stdout",
     "output_type": "stream",
     "text": [
      "Found: 32 files\n",
      "s01 (480, 2) [47.5 60. ]\n"
     ]
    }
   ],
   "source": [
    "import time\n",
    "import numpy as np\n",
    "from tqdm.notebook import tqdm\n",
    "\n",
    "from components.dataset_jo import *\n",
    "\n",
    "dataset = Dataset_subjectDependent('data')\n",
    "segment_lenght = 5 #second\n",
    "dataset.set_segment(7680//(128*segment_lenght))\n",
    "for filename in dataset.get_file_list():\n",
    "    data, labels, _ = dataset.get_data(filename, return_type='numpy')\n",
    "    print(filename, labels.shape, labels.sum(axis=0)/labels.shape[0]*100)\n",
    "    break"
   ]
  },
  {
   "cell_type": "code",
   "execution_count": 2,
   "metadata": {},
   "outputs": [],
   "source": [
    "def train_model(X_ori,y_ori,groups_ori,filename=None, kernel='rbf',return_text=False):\n",
    "    # Make a copy because I am paranoid\n",
    "    X,y,groups = X_ori.copy(), y_ori.copy(), groups_ori.copy()\n",
    "\n",
    "    from sklearn.svm import SVC\n",
    "    from sklearn.model_selection import GroupShuffleSplit \n",
    "    from sklearn.model_selection import cross_val_score\n",
    "\n",
    "    model = SVC(kernel=kernel,max_iter=50000)\n",
    "    cv = GroupShuffleSplit(n_splits=10, train_size=0.75, random_state=0)\n",
    "    cross = cross_val_score(model, X, y, cv=cv,groups=groups, n_jobs=8)\n",
    "    \n",
    "    # We probably dont need this\n",
    "    model = SVC(kernel=kernel, max_iter=50000)\n",
    "    model.fit(X, y)\n",
    "    ans = model.predict(X)\n",
    "    acc = sum(ans == y) / len(y)\n",
    "    # If the model answer with all 0 or 1, we print this message\n",
    "    text = None\n",
    "    if( sum(ans) == len(y) or sum(ans) == 0 ): \n",
    "        text = f\"-----WARNING: Model {filename} failed to learn: sum(ans)={sum(ans)} sum(y)={sum(y)} len(y)={len(y)}\"\n",
    "    if(return_text):\n",
    "        return model, acc, cross, text\n",
    "    else:\n",
    "        if(text != None): print(text)\n",
    "        return model, acc, cross"
   ]
  },
  {
   "cell_type": "markdown",
   "metadata": {},
   "source": [
    "## 2. Spectral Features"
   ]
  },
  {
   "cell_type": "code",
   "execution_count": 3,
   "metadata": {},
   "outputs": [],
   "source": [
    "from mne_features.feature_extraction import FeatureExtractor"
   ]
  },
  {
   "cell_type": "code",
   "execution_count": 4,
   "metadata": {},
   "outputs": [
    {
     "name": "stdout",
     "output_type": "stream",
     "text": [
      "\tAROUSAL-s01|Acc=0.67917|10-CV=0.52917|STD=0.13901|Time spend=33.724406003952026\n",
      "\tAROUSAL-s02|Acc=0.62083|10-CV=0.53417|STD=0.06535|Time spend=0.549811601638794\n",
      "-----WARNING: Model s03 failed to learn: sum(ans)=0.0 sum(y)=96.0 len(y)=480\n",
      "\tAROUSAL-s03|Acc=0.8|10-CV=0.73|STD=0.15524|Time spend=0.5136277675628662\n",
      "\tAROUSAL-s04|Acc=0.68125|10-CV=0.52917|STD=0.1049|Time spend=0.5278401374816895\n",
      "\tAROUSAL-s05|Acc=0.59167|10-CV=0.39917|STD=0.10681|Time spend=0.5932796001434326\n",
      "\tAROUSAL-s06|Acc=0.62917|10-CV=0.525|STD=0.13054|Time spend=0.5500681400299072\n",
      "\tAROUSAL-s07|Acc=0.68125|10-CV=0.625|STD=0.10872|Time spend=0.5121986865997314\n",
      "\tAROUSAL-s08|Acc=0.67917|10-CV=0.41083|STD=0.10993|Time spend=0.5359585285186768\n",
      "\tAROUSAL-s09|Acc=0.62292|10-CV=0.49417|STD=0.08037|Time spend=0.535728931427002\n",
      "\tAROUSAL-s10|Acc=0.7|10-CV=0.53|STD=0.08475|Time spend=0.5622267723083496\n",
      "-----WARNING: Model s11 failed to learn: sum(ans)=0.0 sum(y)=180.0 len(y)=480\n",
      "\tAROUSAL-s11|Acc=0.625|10-CV=0.595|STD=0.05728|Time spend=0.5195403099060059\n",
      "-----WARNING: Model s12 failed to learn: sum(ans)=480.0 sum(y)=396.0 len(y)=480\n",
      "\tAROUSAL-s12|Acc=0.825|10-CV=0.83|STD=0.1005|Time spend=0.5341179370880127\n",
      "-----WARNING: Model s13 failed to learn: sum(ans)=480.0 sum(y)=408.0 len(y)=480\n",
      "\tAROUSAL-s13|Acc=0.85|10-CV=0.84|STD=0.06633|Time spend=0.5036818981170654\n",
      "-----WARNING: Model s14 failed to learn: sum(ans)=480.0 sum(y)=324.0 len(y)=480\n",
      "\tAROUSAL-s14|Acc=0.675|10-CV=0.64917|STD=0.10127|Time spend=0.609527587890625\n",
      "\tAROUSAL-s15|Acc=0.74375|10-CV=0.60833|STD=0.09937|Time spend=0.6356842517852783\n",
      "\tAROUSAL-s16|Acc=0.75|10-CV=0.5475|STD=0.08123|Time spend=0.6301655769348145\n",
      "\tAROUSAL-s17|Acc=0.73125|10-CV=0.60833|STD=0.08054|Time spend=0.5743522644042969\n",
      "\tAROUSAL-s18|Acc=0.6625|10-CV=0.56583|STD=0.10727|Time spend=0.5919749736785889\n",
      "\tAROUSAL-s19|Acc=0.68542|10-CV=0.6275|STD=0.13208|Time spend=0.5329728126525879\n",
      "-----WARNING: Model s20 failed to learn: sum(ans)=480.0 sum(y)=372.0 len(y)=480\n",
      "\tAROUSAL-s20|Acc=0.775|10-CV=0.82|STD=0.08718|Time spend=0.5177733898162842\n",
      "-----WARNING: Model s21 failed to learn: sum(ans)=480.0 sum(y)=384.0 len(y)=480\n",
      "\tAROUSAL-s21|Acc=0.8|10-CV=0.8|STD=0.1|Time spend=0.5644071102142334\n",
      "\tAROUSAL-s22|Acc=0.60833|10-CV=0.575|STD=0.06314|Time spend=0.5494105815887451\n",
      "-----WARNING: Model s23 failed to learn: sum(ans)=0.0 sum(y)=120.0 len(y)=480\n",
      "\tAROUSAL-s23|Acc=0.75|10-CV=0.78|STD=0.09798|Time spend=0.5320653915405273\n",
      "-----WARNING: Model s24 failed to learn: sum(ans)=480.0 sum(y)=396.0 len(y)=480\n",
      "\tAROUSAL-s24|Acc=0.825|10-CV=0.82|STD=0.07483|Time spend=0.5268025398254395\n",
      "-----WARNING: Model s25 failed to learn: sum(ans)=480.0 sum(y)=348.0 len(y)=480\n",
      "\tAROUSAL-s25|Acc=0.725|10-CV=0.74|STD=0.12806|Time spend=0.5635619163513184\n",
      "\tAROUSAL-s26|Acc=0.63958|10-CV=0.5275|STD=0.12197|Time spend=0.581789493560791\n",
      "\tAROUSAL-s27|Acc=0.69792|10-CV=0.64|STD=0.10605|Time spend=0.5632753372192383\n",
      "\tAROUSAL-s28|Acc=0.59792|10-CV=0.4475|STD=0.11625|Time spend=0.5844202041625977\n",
      "\tAROUSAL-s29|Acc=0.67917|10-CV=0.54083|STD=0.08815|Time spend=0.588465690612793\n",
      "\tAROUSAL-s30|Acc=0.65417|10-CV=0.4275|STD=0.0889|Time spend=0.6094241142272949\n",
      "\tAROUSAL-s31|Acc=0.68542|10-CV=0.495|STD=0.11656|Time spend=0.5724489688873291\n",
      "-----WARNING: Model s32 failed to learn: sum(ans)=480.0 sum(y)=324.0 len(y)=480\n",
      "\tAROUSAL-s32|Acc=0.675|10-CV=0.67417|STD=0.11711|Time spend=0.5829250812530518\n",
      "AROUSAL|Acc=0.6983072916666667|10-CV=0.6083072916666667|STD=0.1005518683436663\n",
      "\tVALENCE-s01|Acc=0.69792|10-CV=0.45|STD=0.09006|Time spend=0.37636518478393555\n",
      "\tVALENCE-s02|Acc=0.6875|10-CV=0.5225|STD=0.10885|Time spend=0.4181549549102783\n",
      "\tVALENCE-s03|Acc=0.66042|10-CV=0.48167|STD=0.1511|Time spend=0.3574404716491699\n",
      "\tVALENCE-s04|Acc=0.67708|10-CV=0.5225|STD=0.08408|Time spend=0.38100528717041016\n",
      "\tVALENCE-s05|Acc=0.63542|10-CV=0.54583|STD=0.07229|Time spend=0.34604454040527344\n",
      "-----WARNING: Model s06 failed to learn: sum(ans)=480.0 sum(y)=360.0 len(y)=480\n",
      "\tVALENCE-s06|Acc=0.75|10-CV=0.72|STD=0.07483|Time spend=0.35274434089660645\n",
      "-----WARNING: Model s07 failed to learn: sum(ans)=480.0 sum(y)=336.0 len(y)=480\n",
      "\tVALENCE-s07|Acc=0.7|10-CV=0.66583|STD=0.11823|Time spend=0.39031505584716797\n",
      "\tVALENCE-s08|Acc=0.70208|10-CV=0.47|STD=0.10146|Time spend=0.34876060485839844\n",
      "\tVALENCE-s09|Acc=0.73958|10-CV=0.62|STD=0.08251|Time spend=0.3327758312225342\n",
      "\tVALENCE-s10|Acc=0.77708|10-CV=0.68917|STD=0.09509|Time spend=0.35162901878356934\n",
      "\tVALENCE-s11|Acc=0.6125|10-CV=0.51833|STD=0.12957|Time spend=0.35379981994628906\n",
      "\tVALENCE-s12|Acc=0.69167|10-CV=0.51083|STD=0.16313|Time spend=0.3722386360168457\n",
      "\tVALENCE-s13|Acc=0.79375|10-CV=0.75|STD=0.11255|Time spend=0.37770557403564453\n",
      "\tVALENCE-s14|Acc=0.7375|10-CV=0.61417|STD=0.10462|Time spend=0.34897947311401367\n",
      "\tVALENCE-s15|Acc=0.82292|10-CV=0.73083|STD=0.06822|Time spend=0.3491034507751465\n",
      "\tVALENCE-s16|Acc=0.72917|10-CV=0.66083|STD=0.10389|Time spend=0.35709095001220703\n",
      "\tVALENCE-s17|Acc=0.64792|10-CV=0.43167|STD=0.11492|Time spend=0.34599828720092773\n",
      "\tVALENCE-s18|Acc=0.7875|10-CV=0.66417|STD=0.09516|Time spend=0.3478376865386963\n",
      "\tVALENCE-s19|Acc=0.67708|10-CV=0.495|STD=0.16048|Time spend=0.3732445240020752\n",
      "\tVALENCE-s20|Acc=0.75625|10-CV=0.59917|STD=0.15431|Time spend=0.3613402843475342\n",
      "\tVALENCE-s21|Acc=0.6375|10-CV=0.465|STD=0.09097|Time spend=0.37961459159851074\n",
      "\tVALENCE-s22|Acc=0.73333|10-CV=0.65|STD=0.09979|Time spend=0.3415062427520752\n",
      "\tVALENCE-s23|Acc=0.6625|10-CV=0.5975|STD=0.13017|Time spend=0.35211706161499023\n",
      "\tVALENCE-s24|Acc=0.65833|10-CV=0.47083|STD=0.16862|Time spend=0.3854868412017822\n",
      "\tVALENCE-s25|Acc=0.64792|10-CV=0.38833|STD=0.09784|Time spend=0.3722214698791504\n",
      "-----WARNING: Model s26 failed to learn: sum(ans)=480.0 sum(y)=312.0 len(y)=480\n",
      "\tVALENCE-s26|Acc=0.65|10-CV=0.595|STD=0.11524|Time spend=0.35848331451416016\n",
      "\tVALENCE-s27|Acc=0.75625|10-CV=0.66667|STD=0.1223|Time spend=0.33460545539855957\n",
      "\tVALENCE-s28|Acc=0.62917|10-CV=0.53083|STD=0.10853|Time spend=0.3632020950317383\n",
      "\tVALENCE-s29|Acc=0.71042|10-CV=0.54583|STD=0.06382|Time spend=0.3597424030303955\n",
      "-----WARNING: Model s30 failed to learn: sum(ans)=480.0 sum(y)=324.0 len(y)=480\n",
      "\tVALENCE-s30|Acc=0.675|10-CV=0.62|STD=0.14697|Time spend=0.34658193588256836\n",
      "\tVALENCE-s31|Acc=0.59583|10-CV=0.47|STD=0.10582|Time spend=0.36657047271728516\n",
      "\tVALENCE-s32|Acc=0.65417|10-CV=0.5525|STD=0.09235|Time spend=0.3719189167022705\n",
      "VALENCE|Acc=0.6966796875000001|10-CV=0.56921875|STD=0.11024286491349508\n",
      "TOTAL|Acc=0.6974934895833335|10-CV=0.5887630208333332|STD=0.1053973666285807\n"
     ]
    }
   ],
   "source": [
    "bands = [(0,4), (4,8), (8,12), (12,30), (30,64)]\n",
    "# [alias_feature_function]__[optional_param]\n",
    "params = dict({\n",
    "    'pow_freq_bands__log':True,\n",
    "    'pow_freq_bands__normalize':False,\n",
    "    'pow_freq_bands__freq_bands':bands\n",
    "})\n",
    "\n",
    "\n",
    "accs,cv_means,cv_stds  = [],[],[]\n",
    "# count = 0\n",
    "for filename in dataset.get_file_list():\n",
    "    start = time.time()\n",
    "    data, labels, groups = dataset.get_data(filename, stimuli=Dataset_subjectDependent.STIMULI_AROUSAL, return_type='numpy')\n",
    "    fe = FeatureExtractor(sfreq=128, selected_funcs=['pow_freq_bands'],params=params,n_jobs=8)\n",
    "    X = fe.fit_transform(X=data)\n",
    "    _, acc, cross = train_model(X, labels.reshape(-1), groups,filename=filename)\n",
    "    print(f\"\\tAROUSAL-{filename}|Acc={round(acc,5)}|10-CV={round(cross.mean(),5)}|STD={round(cross.std(),5)}|Time spend={time.time() - start}\")\n",
    "    accs.append(acc)\n",
    "    cv_means.append(cross.mean())\n",
    "    cv_stds.append(cross.std())\n",
    "    # count+=1\n",
    "    # if(count == 5): break\n",
    "print(f\"AROUSAL|Acc={sum(accs)/len(accs)}|10-CV={sum(cv_means)/len(cv_means)}|STD={sum(cv_stds)/len(cv_stds)}\")\n",
    "\n",
    "accs_v,cv_means_v,cv_stds_v  = [],[],[]\n",
    "# count=0\n",
    "for filename in dataset.get_file_list():\n",
    "    start = time.time()\n",
    "    data, labels, groups = dataset.get_data(filename, stimuli=Dataset_subjectDependent.STIMULI_VALENCE, return_type='numpy')\n",
    "    fe = FeatureExtractor(sfreq=128, selected_funcs=['pow_freq_bands'],params=params,n_jobs=8)\n",
    "    X = fe.fit_transform(X=data)\n",
    "    _, acc, cross = train_model(X, labels.reshape(-1), groups,filename=filename)\n",
    "    print(f\"\\tVALENCE-{filename}|Acc={round(acc,5)}|10-CV={round(cross.mean(),5)}|STD={round(cross.std(),5)}|Time spend={time.time() - start}\")\n",
    "    accs_v.append(acc)\n",
    "    cv_means_v.append(cross.mean())\n",
    "    cv_stds_v.append(cross.std())\n",
    "    # count+=1\n",
    "    # if(count == 5): break\n",
    "print(f\"VALENCE|Acc={sum(accs_v)/len(accs_v)}|10-CV={sum(cv_means_v)/len(cv_means_v)}|STD={sum(cv_stds_v)/len(cv_stds_v)}\")\n",
    "\n",
    "accs.extend(accs_v)\n",
    "cv_means.extend(cv_means_v)\n",
    "cv_stds.extend(cv_stds_v)\n",
    "print(f\"TOTAL|Acc={sum(accs)/len(accs)}|10-CV={sum(cv_means)/len(cv_means)}|STD={sum(cv_stds)/len(cv_stds)}\")"
   ]
  },
  {
   "cell_type": "markdown",
   "metadata": {},
   "source": [
    "## 3. Asymetry"
   ]
  },
  {
   "cell_type": "code",
   "execution_count": 5,
   "metadata": {},
   "outputs": [
    {
     "name": "stdout",
     "output_type": "stream",
     "text": [
      "left_channel_indexes=[0, 3, 2, 7, 11, 6, 10, 13, 1, 4, 5, 8, 9, 12]\n",
      "right_channel_indexes=[16, 20, 19, 25, 29, 24, 28, 31, 17, 21, 22, 26, 27, 30]\n",
      "frontal_channel_indexes=[4, 5, 22, 21, 3, 2, 18, 19, 20, 0, 16]\n",
      "posterior_channel_indexes=[8, 9, 27, 26, 11, 10, 15, 28, 29, 13, 31]\n"
     ]
    }
   ],
   "source": [
    "channels = ['Fp1','AF3','F3','F7','FC5','FC1','C3','T7','CP5','CP1','P3','P7','PO3','O1','Oz','Pz','Fp2','AF4','Fz','F4','F8','FC6','FC2','Cz','C4','T8','CP6','CP2','P4','P8','PO4','O2']\n",
    "left_channels = ['Fp1','F7','F3','T7','P7','C3','P3','O1','AF3','FC5','FC1','CP5','CP1','PO3']\n",
    "right_channels = ['Fp2','F8','F4','T8','P8','C4','P4','O2','AF4','FC6','FC2','CP6','CP2','PO4']\n",
    "left_channel_indexes = [ channels.index(ch) for ch in left_channels ]\n",
    "right_channel_indexes = [ channels.index(ch) for ch in right_channels ]\n",
    "\n",
    "print(f\"{left_channel_indexes=}\")\n",
    "print(f\"{right_channel_indexes=}\")\n",
    "\n",
    "frontal_channels = ['FC5','FC1','FC2','FC6','F7','F3','Fz','F4','F8','Fp1','Fp2']\n",
    "posterior_channels = ['CP5','CP1','CP2','CP6','P7','P3','Pz','P4','P8','O1','O2']\n",
    "\n",
    "frontal_channel_indexes = [ channels.index(ch) for ch in frontal_channels ]\n",
    "posterior_channel_indexes = [ channels.index(ch) for ch in posterior_channels ]\n",
    "\n",
    "print(f\"{frontal_channel_indexes=}\")\n",
    "print(f\"{posterior_channel_indexes=}\")"
   ]
  },
  {
   "cell_type": "code",
   "execution_count": 6,
   "metadata": {},
   "outputs": [
    {
     "name": "stdout",
     "output_type": "stream",
     "text": [
      "\tAROUSAL-s01-DASM|Acc=0.60417|10-CV=0.545|STD=0.1389|Time spend=0.3052947521209717\n",
      "\tAROUSAL-s01-RASM|Acc=0.61458|10-CV=0.555|STD=0.15564|Time spend=0.33645129203796387\n",
      "\tAROUSAL-s01-DCAU|Acc=0.62292|10-CV=0.50833|STD=0.10775|Time spend=0.3646049499511719\n",
      "\tAROUSAL-s02-DASM|Acc=0.61875|10-CV=0.5225|STD=0.07656|Time spend=0.30477309226989746\n",
      "\tAROUSAL-s02-RASM|Acc=0.60833|10-CV=0.51667|STD=0.13844|Time spend=0.3398761749267578\n",
      "\tAROUSAL-s02-DCAU|Acc=0.62917|10-CV=0.52917|STD=0.08268|Time spend=0.3707458972930908\n",
      "-----WARNING: Model s03 failed to learn: sum(ans)=0.0 sum(y)=96.0 len(y)=480\n",
      "\tAROUSAL-s03-DASM|Acc=0.8|10-CV=0.73|STD=0.15524|Time spend=0.3101518154144287\n",
      "\tAROUSAL-s03-RASM|Acc=0.80208|10-CV=0.72833|STD=0.15349|Time spend=0.3347158432006836\n",
      "-----WARNING: Model s03 failed to learn: sum(ans)=0.0 sum(y)=96.0 len(y)=480\n",
      "\tAROUSAL-s03-DCAU|Acc=0.8|10-CV=0.73|STD=0.15524|Time spend=0.361560583114624\n",
      "\tAROUSAL-s04-DASM|Acc=0.65208|10-CV=0.53583|STD=0.1091|Time spend=0.33595800399780273\n",
      "\tAROUSAL-s04-RASM|Acc=0.60417|10-CV=0.50917|STD=0.18862|Time spend=0.3680298328399658\n",
      "\tAROUSAL-s04-DCAU|Acc=0.66458|10-CV=0.55333|STD=0.12266|Time spend=0.39815664291381836\n",
      "\tAROUSAL-s05-DASM|Acc=0.56875|10-CV=0.39833|STD=0.10191|Time spend=0.3467442989349365\n",
      "\tAROUSAL-s05-RASM|Acc=0.53958|10-CV=0.42167|STD=0.12534|Time spend=0.38088202476501465\n",
      "\tAROUSAL-s05-DCAU|Acc=0.6|10-CV=0.42167|STD=0.09967|Time spend=0.413144588470459\n",
      "\tAROUSAL-s06-DASM|Acc=0.59583|10-CV=0.5175|STD=0.13455|Time spend=0.3097352981567383\n",
      "\tAROUSAL-s06-RASM|Acc=0.58125|10-CV=0.53667|STD=0.14899|Time spend=0.33963561058044434\n",
      "\tAROUSAL-s06-DCAU|Acc=0.59792|10-CV=0.52083|STD=0.13876|Time spend=0.37081122398376465\n",
      "\tAROUSAL-s07-DASM|Acc=0.62917|10-CV=0.63167|STD=0.12121|Time spend=0.30854225158691406\n",
      "\tAROUSAL-s07-RASM|Acc=0.63333|10-CV=0.64833|STD=0.14033|Time spend=0.34253954887390137\n",
      "-----WARNING: Model s07 failed to learn: sum(ans)=480.0 sum(y)=300.0 len(y)=480\n",
      "\tAROUSAL-s07-DCAU|Acc=0.625|10-CV=0.64583|STD=0.13628|Time spend=0.37420225143432617\n",
      "\tAROUSAL-s08-DASM|Acc=0.60417|10-CV=0.41833|STD=0.09873|Time spend=0.3163619041442871\n",
      "\tAROUSAL-s08-RASM|Acc=0.58333|10-CV=0.505|STD=0.1473|Time spend=0.35771989822387695\n",
      "\tAROUSAL-s08-DCAU|Acc=0.625|10-CV=0.42083|STD=0.10503|Time spend=0.3880128860473633\n",
      "\tAROUSAL-s09-DASM|Acc=0.625|10-CV=0.49667|STD=0.0867|Time spend=0.34215331077575684\n",
      "\tAROUSAL-s09-RASM|Acc=0.7|10-CV=0.525|STD=0.09747|Time spend=0.37334513664245605\n",
      "\tAROUSAL-s09-DCAU|Acc=0.60208|10-CV=0.485|STD=0.0829|Time spend=0.4042637348175049\n",
      "\tAROUSAL-s10-DASM|Acc=0.64792|10-CV=0.55583|STD=0.08002|Time spend=0.3838989734649658\n",
      "\tAROUSAL-s10-RASM|Acc=0.55417|10-CV=0.43833|STD=0.10835|Time spend=0.4161076545715332\n",
      "\tAROUSAL-s10-DCAU|Acc=0.69583|10-CV=0.57|STD=0.07712|Time spend=0.4484872817993164\n",
      "-----WARNING: Model s11 failed to learn: sum(ans)=0.0 sum(y)=180.0 len(y)=480\n",
      "\tAROUSAL-s11-DASM|Acc=0.625|10-CV=0.585|STD=0.05039|Time spend=0.31282877922058105\n",
      "\tAROUSAL-s11-RASM|Acc=0.62708|10-CV=0.59417|STD=0.06033|Time spend=0.3429751396179199\n",
      "\tAROUSAL-s11-DCAU|Acc=0.62708|10-CV=0.59333|STD=0.05424|Time spend=0.3729288578033447\n",
      "-----WARNING: Model s12 failed to learn: sum(ans)=480.0 sum(y)=396.0 len(y)=480\n",
      "\tAROUSAL-s12-DASM|Acc=0.825|10-CV=0.83|STD=0.1005|Time spend=0.32778477668762207\n",
      "\tAROUSAL-s12-RASM|Acc=0.82917|10-CV=0.83|STD=0.1005|Time spend=0.3536684513092041\n",
      "-----WARNING: Model s12 failed to learn: sum(ans)=480.0 sum(y)=396.0 len(y)=480\n",
      "\tAROUSAL-s12-DCAU|Acc=0.825|10-CV=0.83|STD=0.1005|Time spend=0.38715124130249023\n",
      "-----WARNING: Model s13 failed to learn: sum(ans)=480.0 sum(y)=408.0 len(y)=480\n",
      "\tAROUSAL-s13-DASM|Acc=0.85|10-CV=0.84|STD=0.06633|Time spend=0.35910654067993164\n",
      "-----WARNING: Model s13 failed to learn: sum(ans)=480.0 sum(y)=408.0 len(y)=480\n",
      "\tAROUSAL-s13-RASM|Acc=0.85|10-CV=0.84|STD=0.06633|Time spend=0.3804905414581299\n",
      "-----WARNING: Model s13 failed to learn: sum(ans)=480.0 sum(y)=408.0 len(y)=480\n",
      "\tAROUSAL-s13-DCAU|Acc=0.85|10-CV=0.84|STD=0.06633|Time spend=0.4093132019042969\n",
      "-----WARNING: Model s14 failed to learn: sum(ans)=480.0 sum(y)=324.0 len(y)=480\n",
      "\tAROUSAL-s14-DASM|Acc=0.675|10-CV=0.65|STD=0.10247|Time spend=0.331326961517334\n",
      "\tAROUSAL-s14-RASM|Acc=0.67708|10-CV=0.64833|STD=0.10012|Time spend=0.3670375347137451\n",
      "-----WARNING: Model s14 failed to learn: sum(ans)=480.0 sum(y)=324.0 len(y)=480\n",
      "\tAROUSAL-s14-DCAU|Acc=0.675|10-CV=0.65|STD=0.10247|Time spend=0.3996305465698242\n",
      "\tAROUSAL-s15-DASM|Acc=0.70208|10-CV=0.5725|STD=0.0948|Time spend=0.327594518661499\n",
      "\tAROUSAL-s15-RASM|Acc=0.52708|10-CV=0.42833|STD=0.10022|Time spend=0.3636016845703125\n",
      "\tAROUSAL-s15-DCAU|Acc=0.67292|10-CV=0.57167|STD=0.09932|Time spend=0.39545130729675293\n",
      "\tAROUSAL-s16-DASM|Acc=0.65833|10-CV=0.47667|STD=0.10586|Time spend=0.2971208095550537\n",
      "\tAROUSAL-s16-RASM|Acc=0.54583|10-CV=0.36583|STD=0.10491|Time spend=0.33452773094177246\n",
      "\tAROUSAL-s16-DCAU|Acc=0.66458|10-CV=0.5075|STD=0.09365|Time spend=0.3633699417114258\n",
      "\tAROUSAL-s17-DASM|Acc=0.725|10-CV=0.62417|STD=0.08862|Time spend=0.32387709617614746\n",
      "\tAROUSAL-s17-RASM|Acc=0.6125|10-CV=0.56083|STD=0.10042|Time spend=0.3560752868652344\n",
      "\tAROUSAL-s17-DCAU|Acc=0.69583|10-CV=0.57667|STD=0.08348|Time spend=0.3864591121673584\n",
      "\tAROUSAL-s18-DASM|Acc=0.65|10-CV=0.55083|STD=0.10418|Time spend=0.3170323371887207\n",
      "\tAROUSAL-s18-RASM|Acc=0.62917|10-CV=0.6|STD=0.13744|Time spend=0.3502922058105469\n",
      "\tAROUSAL-s18-DCAU|Acc=0.63333|10-CV=0.5625|STD=0.10167|Time spend=0.38348841667175293\n",
      "\tAROUSAL-s19-DASM|Acc=0.68333|10-CV=0.62917|STD=0.13288|Time spend=0.3373227119445801\n",
      "-----WARNING: Model s19 failed to learn: sum(ans)=480.0 sum(y)=324.0 len(y)=480\n",
      "\tAROUSAL-s19-RASM|Acc=0.675|10-CV=0.62667|STD=0.12806|Time spend=0.3673102855682373\n",
      "\tAROUSAL-s19-DCAU|Acc=0.6875|10-CV=0.62833|STD=0.13371|Time spend=0.4033818244934082\n",
      "-----WARNING: Model s20 failed to learn: sum(ans)=480.0 sum(y)=372.0 len(y)=480\n",
      "\tAROUSAL-s20-DASM|Acc=0.775|10-CV=0.82|STD=0.08718|Time spend=0.35279393196105957\n",
      "\tAROUSAL-s20-RASM|Acc=0.78542|10-CV=0.8175|STD=0.08304|Time spend=0.3849167823791504\n",
      "-----WARNING: Model s20 failed to learn: sum(ans)=480.0 sum(y)=372.0 len(y)=480\n",
      "\tAROUSAL-s20-DCAU|Acc=0.775|10-CV=0.82|STD=0.08718|Time spend=0.42342090606689453\n",
      "-----WARNING: Model s21 failed to learn: sum(ans)=480.0 sum(y)=384.0 len(y)=480\n",
      "\tAROUSAL-s21-DASM|Acc=0.8|10-CV=0.8|STD=0.1|Time spend=0.3394913673400879\n",
      "\tAROUSAL-s21-RASM|Acc=0.80208|10-CV=0.8|STD=0.1|Time spend=0.3640620708465576\n",
      "-----WARNING: Model s21 failed to learn: sum(ans)=480.0 sum(y)=384.0 len(y)=480\n",
      "\tAROUSAL-s21-DCAU|Acc=0.8|10-CV=0.8|STD=0.1|Time spend=0.4001286029815674\n",
      "\tAROUSAL-s22-DASM|Acc=0.61042|10-CV=0.57083|STD=0.06468|Time spend=0.37017226219177246\n",
      "\tAROUSAL-s22-RASM|Acc=0.60625|10-CV=0.59|STD=0.07|Time spend=0.41529083251953125\n",
      "\tAROUSAL-s22-DCAU|Acc=0.60833|10-CV=0.58333|STD=0.07388|Time spend=0.4580848217010498\n",
      "-----WARNING: Model s23 failed to learn: sum(ans)=0.0 sum(y)=120.0 len(y)=480\n",
      "\tAROUSAL-s23-DASM|Acc=0.75|10-CV=0.78|STD=0.09798|Time spend=0.3689749240875244\n",
      "\tAROUSAL-s23-RASM|Acc=0.75417|10-CV=0.78|STD=0.09798|Time spend=0.3973705768585205\n",
      "-----WARNING: Model s23 failed to learn: sum(ans)=0.0 sum(y)=120.0 len(y)=480\n",
      "\tAROUSAL-s23-DCAU|Acc=0.75|10-CV=0.78|STD=0.09798|Time spend=0.4288017749786377\n",
      "-----WARNING: Model s24 failed to learn: sum(ans)=480.0 sum(y)=396.0 len(y)=480\n",
      "\tAROUSAL-s24-DASM|Acc=0.825|10-CV=0.82|STD=0.07483|Time spend=0.32519054412841797\n",
      "\tAROUSAL-s24-RASM|Acc=0.82917|10-CV=0.82|STD=0.07483|Time spend=0.3561842441558838\n",
      "-----WARNING: Model s24 failed to learn: sum(ans)=480.0 sum(y)=396.0 len(y)=480\n",
      "\tAROUSAL-s24-DCAU|Acc=0.825|10-CV=0.82|STD=0.07483|Time spend=0.38852715492248535\n",
      "-----WARNING: Model s25 failed to learn: sum(ans)=480.0 sum(y)=348.0 len(y)=480\n",
      "\tAROUSAL-s25-DASM|Acc=0.725|10-CV=0.74|STD=0.12806|Time spend=0.37222814559936523\n",
      "-----WARNING: Model s25 failed to learn: sum(ans)=480.0 sum(y)=348.0 len(y)=480\n",
      "\tAROUSAL-s25-RASM|Acc=0.725|10-CV=0.7375|STD=0.12711|Time spend=0.40153002738952637\n",
      "-----WARNING: Model s25 failed to learn: sum(ans)=480.0 sum(y)=348.0 len(y)=480\n",
      "\tAROUSAL-s25-DCAU|Acc=0.725|10-CV=0.73917|STD=0.12638|Time spend=0.43235039710998535\n",
      "\tAROUSAL-s26-DASM|Acc=0.625|10-CV=0.55083|STD=0.12788|Time spend=0.40116262435913086\n",
      "\tAROUSAL-s26-RASM|Acc=0.58958|10-CV=0.57667|STD=0.14962|Time spend=0.4369540214538574\n",
      "\tAROUSAL-s26-DCAU|Acc=0.67083|10-CV=0.55167|STD=0.12549|Time spend=0.46793079376220703\n",
      "\tAROUSAL-s27-DASM|Acc=0.68333|10-CV=0.645|STD=0.10918|Time spend=0.3290531635284424\n",
      "\tAROUSAL-s27-RASM|Acc=0.68125|10-CV=0.64667|STD=0.10987|Time spend=0.359360933303833\n",
      "-----WARNING: Model s27 failed to learn: sum(ans)=480.0 sum(y)=324.0 len(y)=480\n",
      "\tAROUSAL-s27-DCAU|Acc=0.675|10-CV=0.65167|STD=0.11333|Time spend=0.39014220237731934\n",
      "\tAROUSAL-s28-DASM|Acc=0.57083|10-CV=0.43833|STD=0.13071|Time spend=0.3273003101348877\n",
      "\tAROUSAL-s28-RASM|Acc=0.56042|10-CV=0.4|STD=0.14804|Time spend=0.36891818046569824\n",
      "\tAROUSAL-s28-DCAU|Acc=0.55625|10-CV=0.4325|STD=0.14135|Time spend=0.4007301330566406\n",
      "\tAROUSAL-s29-DASM|Acc=0.65625|10-CV=0.53333|STD=0.0862|Time spend=0.30307626724243164\n",
      "\tAROUSAL-s29-RASM|Acc=0.63958|10-CV=0.53833|STD=0.08638|Time spend=0.3335142135620117\n",
      "\tAROUSAL-s29-DCAU|Acc=0.6375|10-CV=0.53|STD=0.08742|Time spend=0.3640313148498535\n",
      "\tAROUSAL-s30-DASM|Acc=0.60833|10-CV=0.4225|STD=0.0676|Time spend=0.31975793838500977\n",
      "\tAROUSAL-s30-RASM|Acc=0.54583|10-CV=0.43833|STD=0.10981|Time spend=0.3526268005371094\n",
      "\tAROUSAL-s30-DCAU|Acc=0.63125|10-CV=0.4075|STD=0.06449|Time spend=0.3846292495727539\n",
      "\tAROUSAL-s31-DASM|Acc=0.66042|10-CV=0.53333|STD=0.13601|Time spend=0.3346991539001465\n",
      "\tAROUSAL-s31-RASM|Acc=0.53542|10-CV=0.405|STD=0.08293|Time spend=0.368847131729126\n",
      "\tAROUSAL-s31-DCAU|Acc=0.66458|10-CV=0.5325|STD=0.11788|Time spend=0.40044569969177246\n",
      "-----WARNING: Model s32 failed to learn: sum(ans)=480.0 sum(y)=324.0 len(y)=480\n",
      "\tAROUSAL-s32-DASM|Acc=0.675|10-CV=0.70583|STD=0.1172|Time spend=0.3613853454589844\n",
      "-----WARNING: Model s32 failed to learn: sum(ans)=480.0 sum(y)=324.0 len(y)=480\n",
      "\tAROUSAL-s32-RASM|Acc=0.675|10-CV=0.74917|STD=0.13695|Time spend=0.40061235427856445\n",
      "\tAROUSAL-s32-DCAU|Acc=0.6875|10-CV=0.6975|STD=0.11199|Time spend=0.437913179397583\n",
      "AROUSAL-DASM|Acc=0.6782552083333335|10-CV=0.6084375000000001|STD=0.10239002659528354\n",
      "AROUSAL-RASM|Acc=0.6538411458333334|10-CV=0.5992968750000001|STD=0.11496455704105951\n",
      "AROUSAL-DCAU|Acc=0.68125|10-CV=0.6090885416666668|STD=0.10205168963458774\n",
      "\tVALENCE-s01-DASM|Acc=0.56875|10-CV=0.43167|STD=0.05686|Time spend=0.32836174964904785\n",
      "\tVALENCE-s01-RASM|Acc=0.53333|10-CV=0.4325|STD=0.09147|Time spend=0.36475443840026855\n",
      "\tVALENCE-s01-DCAU|Acc=0.6|10-CV=0.47417|STD=0.08058|Time spend=0.3993253707885742\n",
      "\tVALENCE-s02-DASM|Acc=0.68125|10-CV=0.56417|STD=0.10846|Time spend=0.352938175201416\n",
      "\tVALENCE-s02-RASM|Acc=0.55208|10-CV=0.43|STD=0.09826|Time spend=0.3923380374908447\n",
      "\tVALENCE-s02-DCAU|Acc=0.70208|10-CV=0.625|STD=0.09189|Time spend=0.4260382652282715\n",
      "\tVALENCE-s03-DASM|Acc=0.60625|10-CV=0.45917|STD=0.13496|Time spend=0.3918180465698242\n",
      "\tVALENCE-s03-RASM|Acc=0.56042|10-CV=0.42583|STD=0.13445|Time spend=0.42884254455566406\n",
      "-----WARNING: Model s03 failed to learn: sum(ans)=480.0 sum(y)=264.0 len(y)=480\n",
      "\tVALENCE-s03-DCAU|Acc=0.55|10-CV=0.425|STD=0.11432|Time spend=0.4677729606628418\n",
      "\tVALENCE-s04-DASM|Acc=0.66667|10-CV=0.53333|STD=0.09167|Time spend=0.31867480278015137\n",
      "\tVALENCE-s04-RASM|Acc=0.60625|10-CV=0.50083|STD=0.11604|Time spend=0.3502922058105469\n",
      "\tVALENCE-s04-DCAU|Acc=0.7|10-CV=0.56333|STD=0.08251|Time spend=0.379270076751709\n",
      "\tVALENCE-s05-DASM|Acc=0.60208|10-CV=0.56583|STD=0.08688|Time spend=0.3441152572631836\n",
      "\tVALENCE-s05-RASM|Acc=0.60208|10-CV=0.54|STD=0.1715|Time spend=0.37746500968933105\n",
      "\tVALENCE-s05-DCAU|Acc=0.62292|10-CV=0.57167|STD=0.09145|Time spend=0.4099409580230713\n",
      "-----WARNING: Model s06 failed to learn: sum(ans)=480.0 sum(y)=360.0 len(y)=480\n",
      "\tVALENCE-s06-DASM|Acc=0.75|10-CV=0.72|STD=0.07483|Time spend=0.3165171146392822\n",
      "-----WARNING: Model s06 failed to learn: sum(ans)=480.0 sum(y)=360.0 len(y)=480\n",
      "\tVALENCE-s06-RASM|Acc=0.75|10-CV=0.72|STD=0.07483|Time spend=0.34329915046691895\n",
      "-----WARNING: Model s06 failed to learn: sum(ans)=480.0 sum(y)=360.0 len(y)=480\n",
      "\tVALENCE-s06-DCAU|Acc=0.75|10-CV=0.72|STD=0.07483|Time spend=0.37601470947265625\n",
      "-----WARNING: Model s07 failed to learn: sum(ans)=480.0 sum(y)=336.0 len(y)=480\n",
      "\tVALENCE-s07-DASM|Acc=0.7|10-CV=0.69|STD=0.13748|Time spend=0.33278465270996094\n",
      "\tVALENCE-s07-RASM|Acc=0.70625|10-CV=0.69|STD=0.13748|Time spend=0.3646397590637207\n",
      "-----WARNING: Model s07 failed to learn: sum(ans)=480.0 sum(y)=336.0 len(y)=480\n",
      "\tVALENCE-s07-DCAU|Acc=0.7|10-CV=0.69|STD=0.13748|Time spend=0.39844346046447754\n",
      "\tVALENCE-s08-DASM|Acc=0.63958|10-CV=0.4725|STD=0.08733|Time spend=0.30805373191833496\n",
      "\tVALENCE-s08-RASM|Acc=0.57708|10-CV=0.52833|STD=0.12835|Time spend=0.33786582946777344\n",
      "\tVALENCE-s08-DCAU|Acc=0.675|10-CV=0.46583|STD=0.09578|Time spend=0.36709046363830566\n",
      "\tVALENCE-s09-DASM|Acc=0.71875|10-CV=0.62583|STD=0.09548|Time spend=0.31053614616394043\n",
      "\tVALENCE-s09-RASM|Acc=0.73125|10-CV=0.59417|STD=0.09068|Time spend=0.33998966217041016\n",
      "\tVALENCE-s09-DCAU|Acc=0.73542|10-CV=0.64083|STD=0.07839|Time spend=0.36662721633911133\n",
      "\tVALENCE-s10-DASM|Acc=0.75833|10-CV=0.65083|STD=0.12329|Time spend=0.33153724670410156\n",
      "\tVALENCE-s10-RASM|Acc=0.52083|10-CV=0.34667|STD=0.10835|Time spend=0.36902451515197754\n",
      "\tVALENCE-s10-DCAU|Acc=0.79375|10-CV=0.7025|STD=0.08233|Time spend=0.3983762264251709\n",
      "\tVALENCE-s11-DASM|Acc=0.60625|10-CV=0.52417|STD=0.1368|Time spend=0.33381080627441406\n",
      "\tVALENCE-s11-RASM|Acc=0.60417|10-CV=0.52583|STD=0.13791|Time spend=0.3663182258605957\n",
      "\tVALENCE-s11-DCAU|Acc=0.63542|10-CV=0.51083|STD=0.12786|Time spend=0.3978891372680664\n",
      "\tVALENCE-s12-DASM|Acc=0.6625|10-CV=0.5075|STD=0.15067|Time spend=0.5216317176818848\n",
      "\tVALENCE-s12-RASM|Acc=0.53542|10-CV=0.395|STD=0.1066|Time spend=0.5530030727386475\n",
      "\tVALENCE-s12-DCAU|Acc=0.6125|10-CV=0.46083|STD=0.16613|Time spend=0.582369327545166\n",
      "\tVALENCE-s13-DASM|Acc=0.74375|10-CV=0.67417|STD=0.11008|Time spend=0.3113975524902344\n",
      "\tVALENCE-s13-RASM|Acc=0.57708|10-CV=0.53|STD=0.19|Time spend=0.3435232639312744\n",
      "\tVALENCE-s13-DCAU|Acc=0.76875|10-CV=0.70417|STD=0.09741|Time spend=0.3696742057800293\n",
      "\tVALENCE-s14-DASM|Acc=0.7|10-CV=0.5675|STD=0.11417|Time spend=0.30789852142333984\n",
      "\tVALENCE-s14-RASM|Acc=0.56875|10-CV=0.41917|STD=0.08748|Time spend=0.33864760398864746\n",
      "\tVALENCE-s14-DCAU|Acc=0.70625|10-CV=0.54333|STD=0.10985|Time spend=0.37022995948791504\n",
      "\tVALENCE-s15-DASM|Acc=0.7625|10-CV=0.69833|STD=0.05878|Time spend=0.34095311164855957\n",
      "\tVALENCE-s15-RASM|Acc=0.50625|10-CV=0.37917|STD=0.07372|Time spend=0.37303829193115234\n",
      "\tVALENCE-s15-DCAU|Acc=0.74375|10-CV=0.69167|STD=0.05998|Time spend=0.4012298583984375\n",
      "\tVALENCE-s16-DASM|Acc=0.70833|10-CV=0.63917|STD=0.08515|Time spend=0.31363844871520996\n",
      "\tVALENCE-s16-RASM|Acc=0.63542|10-CV=0.63833|STD=0.10187|Time spend=0.3471701145172119\n",
      "\tVALENCE-s16-DCAU|Acc=0.7|10-CV=0.64083|STD=0.08728|Time spend=0.3743021488189697\n",
      "\tVALENCE-s17-DASM|Acc=0.55417|10-CV=0.425|STD=0.10929|Time spend=0.31751418113708496\n",
      "\tVALENCE-s17-RASM|Acc=0.58333|10-CV=0.45833|STD=0.15019|Time spend=0.35014796257019043\n",
      "\tVALENCE-s17-DCAU|Acc=0.55625|10-CV=0.42|STD=0.10476|Time spend=0.38256144523620605\n",
      "\tVALENCE-s18-DASM|Acc=0.76042|10-CV=0.61417|STD=0.11112|Time spend=0.3135054111480713\n",
      "\tVALENCE-s18-RASM|Acc=0.60833|10-CV=0.57333|STD=0.16632|Time spend=0.34319090843200684\n",
      "\tVALENCE-s18-DCAU|Acc=0.76667|10-CV=0.675|STD=0.0878|Time spend=0.36922216415405273\n",
      "\tVALENCE-s19-DASM|Acc=0.6625|10-CV=0.46|STD=0.1358|Time spend=0.3214554786682129\n",
      "-----WARNING: Model s19 failed to learn: sum(ans)=480.0 sum(y)=276.0 len(y)=480\n",
      "\tVALENCE-s19-RASM|Acc=0.575|10-CV=0.43917|STD=0.1901|Time spend=0.35198211669921875\n",
      "\tVALENCE-s19-DCAU|Acc=0.67083|10-CV=0.45833|STD=0.14601|Time spend=0.38231563568115234\n",
      "\tVALENCE-s20-DASM|Acc=0.72708|10-CV=0.55083|STD=0.14603|Time spend=0.3287198543548584\n",
      "\tVALENCE-s20-RASM|Acc=0.59792|10-CV=0.44417|STD=0.17176|Time spend=0.36371302604675293\n",
      "\tVALENCE-s20-DCAU|Acc=0.70208|10-CV=0.53167|STD=0.15147|Time spend=0.3997952938079834\n",
      "\tVALENCE-s21-DASM|Acc=0.58542|10-CV=0.42667|STD=0.062|Time spend=0.32915425300598145\n",
      "\tVALENCE-s21-RASM|Acc=0.52708|10-CV=0.36833|STD=0.0895|Time spend=0.36278295516967773\n",
      "\tVALENCE-s21-DCAU|Acc=0.60417|10-CV=0.43917|STD=0.0762|Time spend=0.39734363555908203\n",
      "\tVALENCE-s22-DASM|Acc=0.59583|10-CV=0.45667|STD=0.07654|Time spend=0.31900787353515625\n",
      "\tVALENCE-s22-RASM|Acc=0.55208|10-CV=0.46167|STD=0.09833|Time spend=0.3510162830352783\n",
      "\tVALENCE-s22-DCAU|Acc=0.57917|10-CV=0.48333|STD=0.09923|Time spend=0.38356757164001465\n",
      "-----WARNING: Model s23 failed to learn: sum(ans)=480.0 sum(y)=312.0 len(y)=480\n",
      "\tVALENCE-s23-DASM|Acc=0.65|10-CV=0.5875|STD=0.11921|Time spend=0.31174230575561523\n",
      "\tVALENCE-s23-RASM|Acc=0.65208|10-CV=0.61|STD=0.15133|Time spend=0.3394503593444824\n",
      "-----WARNING: Model s23 failed to learn: sum(ans)=480.0 sum(y)=312.0 len(y)=480\n",
      "\tVALENCE-s23-DCAU|Acc=0.65|10-CV=0.59583|STD=0.12841|Time spend=0.368363618850708\n",
      "\tVALENCE-s24-DASM|Acc=0.61667|10-CV=0.46167|STD=0.19337|Time spend=0.3136739730834961\n",
      "\tVALENCE-s24-RASM|Acc=0.55417|10-CV=0.43|STD=0.18342|Time spend=0.3451855182647705\n",
      "\tVALENCE-s24-DCAU|Acc=0.65833|10-CV=0.53333|STD=0.12472|Time spend=0.37556004524230957\n",
      "\tVALENCE-s25-DASM|Acc=0.57083|10-CV=0.3575|STD=0.0965|Time spend=0.33731961250305176\n",
      "\tVALENCE-s25-RASM|Acc=0.52708|10-CV=0.38167|STD=0.12275|Time spend=0.3694469928741455\n",
      "\tVALENCE-s25-DCAU|Acc=0.56042|10-CV=0.3675|STD=0.09261|Time spend=0.4023404121398926\n",
      "-----WARNING: Model s26 failed to learn: sum(ans)=480.0 sum(y)=312.0 len(y)=480\n",
      "\tVALENCE-s26-DASM|Acc=0.65|10-CV=0.59583|STD=0.11518|Time spend=0.32892537117004395\n",
      "\tVALENCE-s26-RASM|Acc=0.65625|10-CV=0.6175|STD=0.13695|Time spend=0.3632667064666748\n",
      "\tVALENCE-s26-DCAU|Acc=0.65625|10-CV=0.59417|STD=0.11535|Time spend=0.39734983444213867\n",
      "-----WARNING: Model s27 failed to learn: sum(ans)=480.0 sum(y)=360.0 len(y)=480\n",
      "\tVALENCE-s27-DASM|Acc=0.75|10-CV=0.67|STD=0.12689|Time spend=0.3309950828552246\n",
      "\tVALENCE-s27-RASM|Acc=0.75208|10-CV=0.67|STD=0.12689|Time spend=0.36159443855285645\n",
      "-----WARNING: Model s27 failed to learn: sum(ans)=480.0 sum(y)=360.0 len(y)=480\n",
      "\tVALENCE-s27-DCAU|Acc=0.75|10-CV=0.67|STD=0.12689|Time spend=0.39397692680358887\n",
      "-----WARNING: Model s28 failed to learn: sum(ans)=480.0 sum(y)=300.0 len(y)=480\n",
      "\tVALENCE-s28-DASM|Acc=0.625|10-CV=0.53|STD=0.12754|Time spend=0.32715821266174316\n",
      "\tVALENCE-s28-RASM|Acc=0.6375|10-CV=0.59333|STD=0.16996|Time spend=0.3609275817871094\n",
      "-----WARNING: Model s28 failed to learn: sum(ans)=480.0 sum(y)=300.0 len(y)=480\n",
      "\tVALENCE-s28-DCAU|Acc=0.625|10-CV=0.54083|STD=0.1275|Time spend=0.3912386894226074\n",
      "\tVALENCE-s29-DASM|Acc=0.65417|10-CV=0.545|STD=0.08573|Time spend=0.3108818531036377\n",
      "\tVALENCE-s29-RASM|Acc=0.57917|10-CV=0.55083|STD=0.11687|Time spend=0.34322381019592285\n",
      "\tVALENCE-s29-DCAU|Acc=0.67708|10-CV=0.51833|STD=0.08602|Time spend=0.37253499031066895\n",
      "-----WARNING: Model s30 failed to learn: sum(ans)=480.0 sum(y)=324.0 len(y)=480\n",
      "\tVALENCE-s30-DASM|Acc=0.675|10-CV=0.61917|STD=0.14539|Time spend=0.3223705291748047\n",
      "\tVALENCE-s30-RASM|Acc=0.68333|10-CV=0.62|STD=0.14697|Time spend=0.35506248474121094\n",
      "-----WARNING: Model s30 failed to learn: sum(ans)=480.0 sum(y)=324.0 len(y)=480\n",
      "\tVALENCE-s30-DCAU|Acc=0.675|10-CV=0.62|STD=0.14697|Time spend=0.38716793060302734\n",
      "\tVALENCE-s31-DASM|Acc=0.62917|10-CV=0.47167|STD=0.0977|Time spend=0.31775617599487305\n",
      "\tVALENCE-s31-RASM|Acc=0.58542|10-CV=0.44417|STD=0.16642|Time spend=0.35163092613220215\n",
      "\tVALENCE-s31-DCAU|Acc=0.59167|10-CV=0.4525|STD=0.09091|Time spend=0.38301587104797363\n",
      "\tVALENCE-s32-DASM|Acc=0.64792|10-CV=0.5425|STD=0.10471|Time spend=0.3343374729156494\n",
      "\tVALENCE-s32-RASM|Acc=0.51667|10-CV=0.38333|STD=0.14196|Time spend=0.36865663528442383\n",
      "\tVALENCE-s32-DCAU|Acc=0.63542|10-CV=0.53667|STD=0.1178|Time spend=0.3988630771636963\n",
      "VALENCE-DASM|Acc=0.6634114583333331|10-CV=0.5511979166666667|STD=0.10955963812501092\n",
      "VALENCE-RASM|Acc=0.5985677083333333|10-CV=0.5044270833333333|STD=0.13058502072669795\n",
      "VALENCE-DCAU|Acc=0.6673177083333334|10-CV=0.5583333333333333|STD=0.1062724733786699\n",
      "TOTAL-DASM|Acc=0.6708333333333334|10-CV=0.5798177083333335|STD=0.10597483236014721\n",
      "TOTAL-RASM|Acc=0.6262044270833333|10-CV=0.5518619791666667|STD=0.12277478888387877\n",
      "TOTAL-DCAU|Acc=0.6742838541666667|10-CV=0.5837109374999999|STD=0.10416208150662881\n"
     ]
    }
   ],
   "source": [
    "bands = [(0,4), (4,8), (8,12), (12,30), (30,64)]\n",
    "# [alias_feature_function]__[optional_param]\n",
    "params = dict({\n",
    "    'pow_freq_bands__log':True,\n",
    "    'pow_freq_bands__normalize':False,\n",
    "    'pow_freq_bands__freq_bands':bands\n",
    "})\n",
    "\n",
    "accs,cv_means,cv_stds  = {'DASM':[],'RASM':[],'DCAU':[]},{'DASM':[],'RASM':[],'DCAU':[]},{'DASM':[],'RASM':[],'DCAU':[]}\n",
    "# count = 0\n",
    "for filename in dataset.get_file_list():\n",
    "    start = time.time()\n",
    "    data, labels, groups = dataset.get_data(filename, stimuli=Dataset_subjectDependent.STIMULI_AROUSAL, return_type='numpy')\n",
    "    fe = FeatureExtractor(sfreq=128, selected_funcs=['pow_freq_bands'],params=params,n_jobs=8)\n",
    "    X = fe.fit_transform(X=data)\n",
    "\n",
    "    PSD_left = X[:, left_channel_indexes].copy()\n",
    "    PSD_right = X[:, right_channel_indexes].copy()\n",
    "    PSD_frontal = X[:, frontal_channel_indexes].copy()\n",
    "    PSD_posterior = X[:, posterior_channel_indexes].copy()\n",
    "    X = {\n",
    "        'DASM': PSD_left - PSD_right,\n",
    "        'RASM': PSD_left / PSD_right,\n",
    "        'DCAU': PSD_frontal - PSD_posterior,\n",
    "    }\n",
    "\n",
    "    for feature_name in ['DASM','RASM','DCAU']:\n",
    "        _, acc, cross = train_model(X[feature_name], labels.reshape(-1), groups, filename=filename)\n",
    "        print(f\"\\tAROUSAL-{filename}-{feature_name}|Acc={round(acc,5)}|10-CV={round(cross.mean(),5)}|STD={round(cross.std(),5)}|Time spend={time.time() - start}\")\n",
    "        accs[feature_name].append(acc)\n",
    "        cv_means[feature_name].append(cross.mean())\n",
    "        cv_stds[feature_name].append(cross.std())\n",
    "    # count+=1\n",
    "    # if(count == 3): break\n",
    "for feature_name in ['DASM','RASM','DCAU']:\n",
    "    print(f\"AROUSAL-{feature_name}|Acc={sum(accs[feature_name])/len(accs[feature_name])}|10-CV={sum(cv_means[feature_name])/len(cv_means[feature_name])}|STD={sum(cv_stds[feature_name])/len(cv_stds[feature_name])}\")\n",
    "\n",
    "accs_v,cv_means_v,cv_stds_v  = {'DASM':[],'RASM':[],'DCAU':[]},{'DASM':[],'RASM':[],'DCAU':[]},{'DASM':[],'RASM':[],'DCAU':[]}\n",
    "# count=0\n",
    "for filename in dataset.get_file_list():\n",
    "    start = time.time()\n",
    "    data, labels, groups = dataset.get_data(filename, stimuli=Dataset_subjectDependent.STIMULI_VALENCE, return_type='numpy')\n",
    "    fe = FeatureExtractor(sfreq=128, selected_funcs=['pow_freq_bands'],params=params,n_jobs=8)\n",
    "    X = fe.fit_transform(X=data)\n",
    "\n",
    "    PSD_left = X[:, left_channel_indexes].copy()\n",
    "    PSD_right = X[:, right_channel_indexes].copy()\n",
    "    PSD_frontal = X[:, frontal_channel_indexes].copy()\n",
    "    PSD_posterior = X[:, posterior_channel_indexes].copy()\n",
    "    X = {\n",
    "        'DASM': PSD_left - PSD_right,\n",
    "        'RASM': PSD_left / PSD_right,\n",
    "        'DCAU': PSD_frontal - PSD_posterior,\n",
    "    }\n",
    "\n",
    "    for feature_name in ['DASM','RASM','DCAU']:\n",
    "        _, acc, cross = train_model(X[feature_name], labels.reshape(-1), groups, filename=filename)\n",
    "        print(f\"\\tVALENCE-{filename}-{feature_name}|Acc={round(acc,5)}|10-CV={round(cross.mean(),5)}|STD={round(cross.std(),5)}|Time spend={time.time() - start}\")\n",
    "        accs_v[feature_name].append(acc)\n",
    "        cv_means_v[feature_name].append(cross.mean())\n",
    "        cv_stds_v[feature_name].append(cross.std())\n",
    "    # count+=1\n",
    "    # if(count == 3): break\n",
    "for feature_name in ['DASM','RASM','DCAU']:\n",
    "    print(f\"VALENCE-{feature_name}|Acc={sum(accs_v[feature_name])/len(accs_v[feature_name])}|10-CV={sum(cv_means_v[feature_name])/len(cv_means_v[feature_name])}|STD={sum(cv_stds_v[feature_name])/len(cv_stds_v[feature_name])}\")\n",
    "\n",
    "for feature_name in ['DASM','RASM','DCAU']:\n",
    "    accs[feature_name].extend(accs_v[feature_name])\n",
    "    cv_means[feature_name].extend(cv_means_v[feature_name])\n",
    "    cv_stds[feature_name].extend(cv_stds_v[feature_name])\n",
    "    print(f\"TOTAL-{feature_name}|Acc={sum(accs[feature_name])/len(accs[feature_name])}|10-CV={sum(cv_means[feature_name])/len(cv_means[feature_name])}|STD={sum(cv_stds[feature_name])/len(cv_stds[feature_name])}\")"
   ]
  },
  {
   "cell_type": "markdown",
   "metadata": {},
   "source": [
    "## 4. Connectivity\n",
    "\n",
    "### 4.1 $ \\text{PCC}_{\\text{time}}(i,j) = \\frac{\\text{Cov}[\\mathbf{X}_i, \\mathbf{X}_j]}{\\sigma_{\\mathbf{X}_i} \\sigma_{\\mathbf{X}_j}} $"
   ]
  },
  {
   "cell_type": "code",
   "execution_count": 7,
   "metadata": {},
   "outputs": [],
   "source": [
    "\n",
    "def pearson_correlation(x,y):\n",
    "    \"\"\" x,y denoted the signal_x and signal_y following the equation \"\"\"\n",
    "    cov = np.cov(x, y)\n",
    "    # print(cov)\n",
    "    # [[ 8806859.74527069  8007149.0906219 ] ==> [[cov_xx, cov_xy]\n",
    "    # [ 8007149.0906219  10396797.72458848]]      [cov_yx, cov_yy]]\n",
    "    cov_xy = cov[0,1] # or cov[1,0]\n",
    "    cov_xx = cov[0,0]\n",
    "    cov_yy = cov[1,1]\n",
    "    corr = cov_xy / ( cov_xx**0.5 * cov_yy**0.5  )\n",
    "    return corr\n",
    "\n",
    "def _cal(p_id, partial_data):\n",
    "    # print(f\"p_id:{p_id} - data to run {partial_data.shape}\")\n",
    "    from itertools import combinations\n",
    "    pcc = []\n",
    "    for index in range(partial_data.shape[0]):\n",
    "        pcc_epoch = []\n",
    "        for comb in combinations(list(range(partial_data.shape[1])), 2):\n",
    "            pcc_ab = pearson_correlation(partial_data[index, comb[0], :], partial_data[index, comb[1], :]   )\n",
    "            pcc_epoch.append(pcc_ab)\n",
    "        pcc_epoch = np.hstack(pcc_epoch)\n",
    "        pcc.append(pcc_epoch)\n",
    "    pcc = np.vstack(pcc)\n",
    "    return pcc\n",
    "\n",
    "def calculate_pcc(data, n_jobs=8):\n",
    "    \"\"\" \n",
    "    Input: Expect data to have (n_epochs, n_channels, n_samples)\n",
    "    Output: (n_epochs, n_conn ) => n_conn = n_channels!/(2!(n_channels-2)!)\n",
    "    \"\"\"\n",
    "    from multiprocessing import Pool\n",
    "\n",
    "    try:\n",
    "        t_out = 60000\n",
    "        pool = Pool()\n",
    "        p_list = []\n",
    "        ans_list = []\n",
    "        num_p = n_jobs\n",
    "        indices = np.array_split(np.arange(data.shape[0]), num_p)\n",
    "        for p_id in range(num_p):\n",
    "            p_list.append(pool.apply_async(_cal, [p_id, data[indices[p_id]] ]))\n",
    "        for p_id in range(num_p):\n",
    "            ans_list.append( p_list[p_id].get(timeout=t_out) )\n",
    "        # ans_list\n",
    "    except Exception as e:\n",
    "        print(e)\n",
    "    finally:\n",
    "        print(\"========= close ========\")\n",
    "        pool.close() \n",
    "        pool.terminate()\n",
    "    return np.vstack(ans_list)"
   ]
  },
  {
   "cell_type": "code",
   "execution_count": 8,
   "metadata": {},
   "outputs": [
    {
     "data": {
      "application/vnd.jupyter.widget-view+json": {
       "model_id": "f7eb8aaca4f84db98cbf2c345c938cb2",
       "version_major": 2,
       "version_minor": 0
      },
      "text/plain": [
       "  0%|          | 0/32 [00:00<?, ?it/s]"
      ]
     },
     "metadata": {},
     "output_type": "display_data"
    },
    {
     "name": "stdout",
     "output_type": "stream",
     "text": [
      "Fitted sphere radius:         95.3 mm\n",
      "Origin head coordinates:      -0.8 15.1 45.3 mm\n",
      "Origin device coordinates:    -0.8 15.1 45.3 mm\n",
      "========= close ========\n",
      "\tAROUSAL-s01|Acc=0.70625|10-CV=0.53667|STD=0.13464|Time spend=2.8295555114746094\n",
      "\tVALENCE-s01|Acc=0.63958|10-CV=0.45833|STD=0.07764|Time spend=3.1454830169677734\n",
      "Fitted sphere radius:         95.3 mm\n",
      "Origin head coordinates:      -0.8 15.1 45.3 mm\n",
      "Origin device coordinates:    -0.8 15.1 45.3 mm\n",
      "========= close ========\n",
      "\tAROUSAL-s02|Acc=0.6|10-CV=0.5475|STD=0.09903|Time spend=2.791242837905884\n",
      "\tVALENCE-s02|Acc=0.58333|10-CV=0.42833|STD=0.07907|Time spend=3.0893049240112305\n",
      "Fitted sphere radius:         95.3 mm\n",
      "Origin head coordinates:      -0.8 15.1 45.3 mm\n",
      "Origin device coordinates:    -0.8 15.1 45.3 mm\n",
      "========= close ========\n",
      "\tAROUSAL-s03|Acc=0.8|10-CV=0.73|STD=0.15524|Time spend=2.5477395057678223\n",
      "\tVALENCE-s03|Acc=0.55|10-CV=0.4075|STD=0.11404|Time spend=2.862313985824585\n",
      "Fitted sphere radius:         95.3 mm\n",
      "Origin head coordinates:      -0.8 15.1 45.3 mm\n",
      "Origin device coordinates:    -0.8 15.1 45.3 mm\n",
      "========= close ========\n",
      "\tAROUSAL-s04|Acc=0.6|10-CV=0.54|STD=0.22|Time spend=2.505620002746582\n",
      "\tVALENCE-s04|Acc=0.6|10-CV=0.49|STD=0.18682|Time spend=2.802335262298584\n",
      "Fitted sphere radius:         95.3 mm\n",
      "Origin head coordinates:      -0.8 15.1 45.3 mm\n",
      "Origin device coordinates:    -0.8 15.1 45.3 mm\n",
      "========= close ========\n",
      "\tAROUSAL-s05|Acc=0.55833|10-CV=0.41917|STD=0.10281|Time spend=2.6030735969543457\n",
      "\tVALENCE-s05|Acc=0.6|10-CV=0.56917|STD=0.08258|Time spend=2.8889834880828857\n",
      "Fitted sphere radius:         95.3 mm\n",
      "Origin head coordinates:      -0.8 15.1 45.3 mm\n",
      "Origin device coordinates:    -0.8 15.1 45.3 mm\n",
      "========= close ========\n",
      "\tAROUSAL-s06|Acc=0.58542|10-CV=0.51417|STD=0.13494|Time spend=2.4584550857543945\n",
      "\tVALENCE-s06|Acc=0.75|10-CV=0.72|STD=0.07483|Time spend=2.7140748500823975\n",
      "Fitted sphere radius:         95.3 mm\n",
      "Origin head coordinates:      -0.8 15.1 45.3 mm\n",
      "Origin device coordinates:    -0.8 15.1 45.3 mm\n",
      "========= close ========\n",
      "\tAROUSAL-s07|Acc=0.65833|10-CV=0.63417|STD=0.11651|Time spend=2.406949996948242\n",
      "\tVALENCE-s07|Acc=0.7|10-CV=0.67417|STD=0.12641|Time spend=2.6723928451538086\n",
      "Fitted sphere radius:         95.3 mm\n",
      "Origin head coordinates:      -0.8 15.1 45.3 mm\n",
      "Origin device coordinates:    -0.8 15.1 45.3 mm\n",
      "========= close ========\n",
      "\tAROUSAL-s08|Acc=0.58125|10-CV=0.41917|STD=0.10561|Time spend=2.3908863067626953\n",
      "\tVALENCE-s08|Acc=0.6375|10-CV=0.5025|STD=0.09091|Time spend=2.681185245513916\n",
      "Fitted sphere radius:         95.3 mm\n",
      "Origin head coordinates:      -0.8 15.1 45.3 mm\n",
      "Origin device coordinates:    -0.8 15.1 45.3 mm\n",
      "========= close ========\n",
      "\tAROUSAL-s09|Acc=0.6|10-CV=0.54|STD=0.12|Time spend=2.473050832748413\n",
      "\tVALENCE-s09|Acc=0.66042|10-CV=0.54917|STD=0.18411|Time spend=2.7652339935302734\n",
      "Fitted sphere radius:         95.3 mm\n",
      "Origin head coordinates:      -0.8 15.1 45.3 mm\n",
      "Origin device coordinates:    -0.8 15.1 45.3 mm\n",
      "========= close ========\n",
      "\tAROUSAL-s10|Acc=0.57292|10-CV=0.47583|STD=0.06481|Time spend=2.594501495361328\n",
      "\tVALENCE-s10|Acc=0.75208|10-CV=0.61583|STD=0.12793|Time spend=2.883652925491333\n",
      "Fitted sphere radius:         95.3 mm\n",
      "Origin head coordinates:      -0.8 15.1 45.3 mm\n",
      "Origin device coordinates:    -0.8 15.1 45.3 mm\n",
      "========= close ========\n",
      "\tAROUSAL-s11|Acc=0.625|10-CV=0.59833|STD=0.06344|Time spend=2.449193000793457\n",
      "\tVALENCE-s11|Acc=0.60833|10-CV=0.55667|STD=0.16405|Time spend=2.7386789321899414\n",
      "Fitted sphere radius:         95.3 mm\n",
      "Origin head coordinates:      -0.8 15.1 45.3 mm\n",
      "Origin device coordinates:    -0.8 15.1 45.3 mm\n",
      "========= close ========\n",
      "\tAROUSAL-s12|Acc=0.825|10-CV=0.83|STD=0.1005|Time spend=2.3842475414276123\n",
      "\tVALENCE-s12|Acc=0.62708|10-CV=0.45083|STD=0.14006|Time spend=2.6843838691711426\n",
      "Fitted sphere radius:         95.3 mm\n",
      "Origin head coordinates:      -0.8 15.1 45.3 mm\n",
      "Origin device coordinates:    -0.8 15.1 45.3 mm\n",
      "========= close ========\n",
      "\tAROUSAL-s13|Acc=0.85|10-CV=0.84|STD=0.06633|Time spend=2.4515578746795654\n",
      "\tVALENCE-s13|Acc=0.70625|10-CV=0.62417|STD=0.05682|Time spend=2.7330100536346436\n",
      "Fitted sphere radius:         95.3 mm\n",
      "Origin head coordinates:      -0.8 15.1 45.3 mm\n",
      "Origin device coordinates:    -0.8 15.1 45.3 mm\n",
      "========= close ========\n",
      "\tAROUSAL-s14|Acc=0.675|10-CV=0.65|STD=0.10247|Time spend=2.381969928741455\n",
      "\tVALENCE-s14|Acc=0.66042|10-CV=0.49667|STD=0.11857|Time spend=2.6833536624908447\n",
      "Fitted sphere radius:         95.3 mm\n",
      "Origin head coordinates:      -0.8 15.1 45.3 mm\n",
      "Origin device coordinates:    -0.8 15.1 45.3 mm\n",
      "========= close ========\n",
      "\tAROUSAL-s15|Acc=0.59375|10-CV=0.42167|STD=0.08678|Time spend=2.4697787761688232\n",
      "\tVALENCE-s15|Acc=0.74167|10-CV=0.68417|STD=0.08728|Time spend=2.7365000247955322\n",
      "Fitted sphere radius:         95.3 mm\n",
      "Origin head coordinates:      -0.8 15.1 45.3 mm\n",
      "Origin device coordinates:    -0.8 15.1 45.3 mm\n",
      "========= close ========\n",
      "\tAROUSAL-s16|Acc=0.63958|10-CV=0.38833|STD=0.11119|Time spend=2.4763264656066895\n",
      "\tVALENCE-s16|Acc=0.66458|10-CV=0.64667|STD=0.10595|Time spend=2.7564327716827393\n",
      "Fitted sphere radius:         95.3 mm\n",
      "Origin head coordinates:      -0.8 15.1 45.3 mm\n",
      "Origin device coordinates:    -0.8 15.1 45.3 mm\n",
      "========= close ========\n",
      "\tAROUSAL-s17|Acc=0.61667|10-CV=0.555|STD=0.08368|Time spend=2.429469108581543\n",
      "\tVALENCE-s17|Acc=0.55|10-CV=0.42667|STD=0.13823|Time spend=2.7414286136627197\n",
      "Fitted sphere radius:         95.3 mm\n",
      "Origin head coordinates:      -0.8 15.1 45.3 mm\n",
      "Origin device coordinates:    -0.8 15.1 45.3 mm\n",
      "========= close ========\n",
      "\tAROUSAL-s18|Acc=0.625|10-CV=0.56333|STD=0.1005|Time spend=2.632549524307251\n",
      "\tVALENCE-s18|Acc=0.725|10-CV=0.61083|STD=0.15595|Time spend=2.9037697315216064\n",
      "Fitted sphere radius:         95.3 mm\n",
      "Origin head coordinates:      -0.8 15.1 45.3 mm\n",
      "Origin device coordinates:    -0.8 15.1 45.3 mm\n",
      "========= close ========\n",
      "\tAROUSAL-s19|Acc=0.67708|10-CV=0.6225|STD=0.12168|Time spend=2.5468087196350098\n",
      "\tVALENCE-s19|Acc=0.66667|10-CV=0.47167|STD=0.14435|Time spend=2.8530800342559814\n",
      "Fitted sphere radius:         95.3 mm\n",
      "Origin head coordinates:      -0.8 15.1 45.3 mm\n",
      "Origin device coordinates:    -0.8 15.1 45.3 mm\n",
      "========= close ========\n",
      "\tAROUSAL-s20|Acc=0.775|10-CV=0.82|STD=0.08718|Time spend=2.375976324081421\n",
      "\tVALENCE-s20|Acc=0.69167|10-CV=0.5475|STD=0.16266|Time spend=2.6718838214874268\n",
      "Fitted sphere radius:         95.3 mm\n",
      "Origin head coordinates:      -0.8 15.1 45.3 mm\n",
      "Origin device coordinates:    -0.8 15.1 45.3 mm\n",
      "========= close ========\n",
      "\tAROUSAL-s21|Acc=0.8|10-CV=0.8|STD=0.1|Time spend=2.3915750980377197\n",
      "\tVALENCE-s21|Acc=0.525|10-CV=0.39083|STD=0.08599|Time spend=2.7053678035736084\n",
      "Fitted sphere radius:         95.3 mm\n",
      "Origin head coordinates:      -0.8 15.1 45.3 mm\n",
      "Origin device coordinates:    -0.8 15.1 45.3 mm\n",
      "========= close ========\n",
      "\tAROUSAL-s22|Acc=0.6|10-CV=0.61|STD=0.07|Time spend=2.4664831161499023\n",
      "\tVALENCE-s22|Acc=0.59792|10-CV=0.55|STD=0.1172|Time spend=2.7678205966949463\n",
      "Fitted sphere radius:         95.3 mm\n",
      "Origin head coordinates:      -0.8 15.1 45.3 mm\n",
      "Origin device coordinates:    -0.8 15.1 45.3 mm\n",
      "========= close ========\n",
      "\tAROUSAL-s23|Acc=0.75|10-CV=0.78|STD=0.09798|Time spend=2.5055270195007324\n",
      "\tVALENCE-s23|Acc=0.65|10-CV=0.58917|STD=0.12134|Time spend=2.7796831130981445\n",
      "Fitted sphere radius:         95.3 mm\n",
      "Origin head coordinates:      -0.8 15.1 45.3 mm\n",
      "Origin device coordinates:    -0.8 15.1 45.3 mm\n",
      "========= close ========\n",
      "\tAROUSAL-s24|Acc=0.825|10-CV=0.82|STD=0.07483|Time spend=2.535242795944214\n",
      "\tVALENCE-s24|Acc=0.59375|10-CV=0.43917|STD=0.19109|Time spend=2.833245277404785\n",
      "Fitted sphere radius:         95.3 mm\n",
      "Origin head coordinates:      -0.8 15.1 45.3 mm\n",
      "Origin device coordinates:    -0.8 15.1 45.3 mm\n",
      "========= close ========\n",
      "\tAROUSAL-s25|Acc=0.725|10-CV=0.74|STD=0.12806|Time spend=2.467862606048584\n",
      "\tVALENCE-s25|Acc=0.52083|10-CV=0.38333|STD=0.10878|Time spend=2.779224157333374\n",
      "Fitted sphere radius:         95.3 mm\n",
      "Origin head coordinates:      -0.8 15.1 45.3 mm\n",
      "Origin device coordinates:    -0.8 15.1 45.3 mm\n",
      "========= close ========\n",
      "\tAROUSAL-s26|Acc=0.6125|10-CV=0.55667|STD=0.12549|Time spend=2.4435648918151855\n",
      "\tVALENCE-s26|Acc=0.65|10-CV=0.62|STD=0.14|Time spend=2.727766513824463\n",
      "Fitted sphere radius:         95.3 mm\n",
      "Origin head coordinates:      -0.8 15.1 45.3 mm\n",
      "Origin device coordinates:    -0.8 15.1 45.3 mm\n",
      "========= close ========\n",
      "\tAROUSAL-s27|Acc=0.70625|10-CV=0.6375|STD=0.10078|Time spend=2.545593023300171\n",
      "\tVALENCE-s27|Acc=0.75|10-CV=0.66833|STD=0.12393|Time spend=2.794379949569702\n",
      "Fitted sphere radius:         95.3 mm\n",
      "Origin head coordinates:      -0.8 15.1 45.3 mm\n",
      "Origin device coordinates:    -0.8 15.1 45.3 mm\n",
      "========= close ========\n",
      "\tAROUSAL-s28|Acc=0.56875|10-CV=0.44417|STD=0.16931|Time spend=2.4891602993011475\n",
      "\tVALENCE-s28|Acc=0.625|10-CV=0.55417|STD=0.14913|Time spend=2.772256374359131\n",
      "Fitted sphere radius:         95.3 mm\n",
      "Origin head coordinates:      -0.8 15.1 45.3 mm\n",
      "Origin device coordinates:    -0.8 15.1 45.3 mm\n",
      "========= close ========\n",
      "\tAROUSAL-s29|Acc=0.625|10-CV=0.53|STD=0.09|Time spend=2.474717617034912\n",
      "\tVALENCE-s29|Acc=0.65833|10-CV=0.5725|STD=0.09683|Time spend=2.7723801136016846\n",
      "Fitted sphere radius:         95.3 mm\n",
      "Origin head coordinates:      -0.8 15.1 45.3 mm\n",
      "Origin device coordinates:    -0.8 15.1 45.3 mm\n",
      "========= close ========\n",
      "\tAROUSAL-s30|Acc=0.59583|10-CV=0.48667|STD=0.08133|Time spend=2.5631020069122314\n",
      "\tVALENCE-s30|Acc=0.675|10-CV=0.62|STD=0.14697|Time spend=2.839189052581787\n",
      "Fitted sphere radius:         95.3 mm\n",
      "Origin head coordinates:      -0.8 15.1 45.3 mm\n",
      "Origin device coordinates:    -0.8 15.1 45.3 mm\n",
      "========= close ========\n",
      "\tAROUSAL-s31|Acc=0.67292|10-CV=0.52833|STD=0.15322|Time spend=2.5233941078186035\n",
      "\tVALENCE-s31|Acc=0.575|10-CV=0.46583|STD=0.11386|Time spend=2.8180434703826904\n",
      "Fitted sphere radius:         95.3 mm\n",
      "Origin head coordinates:      -0.8 15.1 45.3 mm\n",
      "Origin device coordinates:    -0.8 15.1 45.3 mm\n",
      "========= close ========\n",
      "\tAROUSAL-s32|Acc=0.675|10-CV=0.75|STD=0.13601|Time spend=2.55676531791687\n",
      "\tVALENCE-s32|Acc=0.64583|10-CV=0.59917|STD=0.07874|Time spend=2.8394315242767334\n",
      "AROUSAL|Acc=0.6662760416666669|10-CV=0.6040364583333334|STD=0.10951139988641534\n",
      "VALENCE|Acc=0.6431640624999999|10-CV=0.5432291666666665|STD=0.12162920768670807\n"
     ]
    }
   ],
   "source": [
    "accs, cv_means, cv_stds = [],[],[]\n",
    "accs_v, cv_means_v, cv_stds_v = [],[],[]\n",
    "reports = []\n",
    "for filename in (pbar := tqdm(dataset.get_file_list())):\n",
    "    start = time.time()\n",
    "    pbar.set_description(filename)\n",
    "    data, labels, groups = dataset.get_data(filename, stimuli=Dataset_subjectDependent.STIMULI_AROUSAL, return_type='mne', sfreq=128)\n",
    "    data_csd = mne.preprocessing.compute_current_source_density(data)\n",
    "    pcc = calculate_pcc(data_csd.get_data())\n",
    "    _,acc,cross,train_report = train_model(pcc, labels.squeeze(), groups, filename=filename, return_text=True)\n",
    "    report = f\"\\tAROUSAL-{filename}|Acc={round(acc,5)}|10-CV={round(cross.mean(),5)}|STD={round(cross.std(),5)}|Time spend={time.time() - start}\"\n",
    "    print(report)\n",
    "    reports.append(report)\n",
    "    reports.append(train_report)\n",
    "    accs.append(acc)\n",
    "    cv_means.append(cross.mean())\n",
    "    cv_stds.append(cross.std())\n",
    "\n",
    "    _, labels_v, groups_v = dataset.get_data(filename, stimuli=Dataset_subjectDependent.STIMULI_VALENCE, return_type='mne', sfreq=128)\n",
    "    _,acc,cross,train_report = train_model(pcc, labels_v.squeeze(), groups_v, filename=filename, return_text=True)\n",
    "    report = f\"\\tVALENCE-{filename}|Acc={round(acc,5)}|10-CV={round(cross.mean(),5)}|STD={round(cross.std(),5)}|Time spend={time.time() - start}\"\n",
    "    print(report)\n",
    "    reports.append(report)\n",
    "    reports.append(train_report)\n",
    "    accs_v.append(acc)\n",
    "    cv_means_v.append(cross.mean())\n",
    "    cv_stds_v.append(cross.std())\n",
    "    # break\n",
    "    # count+=1\n",
    "    # if(count == 5): break\n",
    "report = f\"AROUSAL|Acc={sum(accs)/len(accs)}|10-CV={sum(cv_means)/len(cv_means)}|STD={sum(cv_stds)/len(cv_stds)}\"\n",
    "print(report)\n",
    "reports.append(report)\n",
    "report = f\"VALENCE|Acc={sum(accs_v)/len(accs_v)}|10-CV={sum(cv_means_v)/len(cv_means_v)}|STD={sum(cv_stds_v)/len(cv_stds_v)}\"\n",
    "print(report)\n",
    "reports.append(report)"
   ]
  },
  {
   "cell_type": "code",
   "execution_count": 9,
   "metadata": {},
   "outputs": [
    {
     "name": "stdout",
     "output_type": "stream",
     "text": [
      "\tAROUSAL-s01|Acc=0.70625|10-CV=0.53667|STD=0.13464|Time spend=2.8295555114746094\n",
      "\tVALENCE-s01|Acc=0.63958|10-CV=0.45833|STD=0.07764|Time spend=3.1454830169677734\n",
      "\tAROUSAL-s02|Acc=0.6|10-CV=0.5475|STD=0.09903|Time spend=2.791242837905884\n",
      "-----WARNING: Model s02 failed to learn: sum(ans)=480.0 sum(y)=288.0 len(y)=480\n",
      "\tVALENCE-s02|Acc=0.58333|10-CV=0.42833|STD=0.07907|Time spend=3.0893049240112305\n",
      "\tAROUSAL-s03|Acc=0.8|10-CV=0.73|STD=0.15524|Time spend=2.5477395057678223\n",
      "-----WARNING: Model s03 failed to learn: sum(ans)=0.0 sum(y)=96.0 len(y)=480\n",
      "\tVALENCE-s03|Acc=0.55|10-CV=0.4075|STD=0.11404|Time spend=2.862313985824585\n",
      "-----WARNING: Model s03 failed to learn: sum(ans)=480.0 sum(y)=264.0 len(y)=480\n",
      "\tAROUSAL-s04|Acc=0.6|10-CV=0.54|STD=0.22|Time spend=2.505620002746582\n",
      "-----WARNING: Model s04 failed to learn: sum(ans)=0.0 sum(y)=192.0 len(y)=480\n",
      "\tVALENCE-s04|Acc=0.6|10-CV=0.49|STD=0.18682|Time spend=2.802335262298584\n",
      "-----WARNING: Model s04 failed to learn: sum(ans)=0.0 sum(y)=192.0 len(y)=480\n",
      "\tAROUSAL-s05|Acc=0.55833|10-CV=0.41917|STD=0.10281|Time spend=2.6030735969543457\n",
      "\tVALENCE-s05|Acc=0.6|10-CV=0.56917|STD=0.08258|Time spend=2.8889834880828857\n",
      "-----WARNING: Model s05 failed to learn: sum(ans)=480.0 sum(y)=288.0 len(y)=480\n",
      "\tAROUSAL-s06|Acc=0.58542|10-CV=0.51417|STD=0.13494|Time spend=2.4584550857543945\n",
      "\tVALENCE-s06|Acc=0.75|10-CV=0.72|STD=0.07483|Time spend=2.7140748500823975\n",
      "-----WARNING: Model s06 failed to learn: sum(ans)=480.0 sum(y)=360.0 len(y)=480\n",
      "\tAROUSAL-s07|Acc=0.65833|10-CV=0.63417|STD=0.11651|Time spend=2.406949996948242\n",
      "\tVALENCE-s07|Acc=0.7|10-CV=0.67417|STD=0.12641|Time spend=2.6723928451538086\n",
      "-----WARNING: Model s07 failed to learn: sum(ans)=480.0 sum(y)=336.0 len(y)=480\n",
      "\tAROUSAL-s08|Acc=0.58125|10-CV=0.41917|STD=0.10561|Time spend=2.3908863067626953\n",
      "\tVALENCE-s08|Acc=0.6375|10-CV=0.5025|STD=0.09091|Time spend=2.681185245513916\n",
      "\tAROUSAL-s09|Acc=0.6|10-CV=0.54|STD=0.12|Time spend=2.473050832748413\n",
      "-----WARNING: Model s09 failed to learn: sum(ans)=480.0 sum(y)=288.0 len(y)=480\n",
      "\tVALENCE-s09|Acc=0.66042|10-CV=0.54917|STD=0.18411|Time spend=2.7652339935302734\n",
      "\tAROUSAL-s10|Acc=0.57292|10-CV=0.47583|STD=0.06481|Time spend=2.594501495361328\n",
      "\tVALENCE-s10|Acc=0.75208|10-CV=0.61583|STD=0.12793|Time spend=2.883652925491333\n",
      "\tAROUSAL-s11|Acc=0.625|10-CV=0.59833|STD=0.06344|Time spend=2.449193000793457\n",
      "-----WARNING: Model s11 failed to learn: sum(ans)=0.0 sum(y)=180.0 len(y)=480\n",
      "\tVALENCE-s11|Acc=0.60833|10-CV=0.55667|STD=0.16405|Time spend=2.7386789321899414\n",
      "\tAROUSAL-s12|Acc=0.825|10-CV=0.83|STD=0.1005|Time spend=2.3842475414276123\n",
      "-----WARNING: Model s12 failed to learn: sum(ans)=480.0 sum(y)=396.0 len(y)=480\n",
      "\tVALENCE-s12|Acc=0.62708|10-CV=0.45083|STD=0.14006|Time spend=2.6843838691711426\n",
      "\tAROUSAL-s13|Acc=0.85|10-CV=0.84|STD=0.06633|Time spend=2.4515578746795654\n",
      "-----WARNING: Model s13 failed to learn: sum(ans)=480.0 sum(y)=408.0 len(y)=480\n",
      "\tVALENCE-s13|Acc=0.70625|10-CV=0.62417|STD=0.05682|Time spend=2.7330100536346436\n",
      "\tAROUSAL-s14|Acc=0.675|10-CV=0.65|STD=0.10247|Time spend=2.381969928741455\n",
      "-----WARNING: Model s14 failed to learn: sum(ans)=480.0 sum(y)=324.0 len(y)=480\n",
      "\tVALENCE-s14|Acc=0.66042|10-CV=0.49667|STD=0.11857|Time spend=2.6833536624908447\n",
      "\tAROUSAL-s15|Acc=0.59375|10-CV=0.42167|STD=0.08678|Time spend=2.4697787761688232\n",
      "\tVALENCE-s15|Acc=0.74167|10-CV=0.68417|STD=0.08728|Time spend=2.7365000247955322\n",
      "\tAROUSAL-s16|Acc=0.63958|10-CV=0.38833|STD=0.11119|Time spend=2.4763264656066895\n",
      "\tVALENCE-s16|Acc=0.66458|10-CV=0.64667|STD=0.10595|Time spend=2.7564327716827393\n",
      "\tAROUSAL-s17|Acc=0.61667|10-CV=0.555|STD=0.08368|Time spend=2.429469108581543\n",
      "\tVALENCE-s17|Acc=0.55|10-CV=0.42667|STD=0.13823|Time spend=2.7414286136627197\n",
      "-----WARNING: Model s17 failed to learn: sum(ans)=480.0 sum(y)=264.0 len(y)=480\n",
      "\tAROUSAL-s18|Acc=0.625|10-CV=0.56333|STD=0.1005|Time spend=2.632549524307251\n",
      "-----WARNING: Model s18 failed to learn: sum(ans)=480.0 sum(y)=300.0 len(y)=480\n",
      "\tVALENCE-s18|Acc=0.725|10-CV=0.61083|STD=0.15595|Time spend=2.9037697315216064\n",
      "\tAROUSAL-s19|Acc=0.67708|10-CV=0.6225|STD=0.12168|Time spend=2.5468087196350098\n",
      "\tVALENCE-s19|Acc=0.66667|10-CV=0.47167|STD=0.14435|Time spend=2.8530800342559814\n",
      "\tAROUSAL-s20|Acc=0.775|10-CV=0.82|STD=0.08718|Time spend=2.375976324081421\n",
      "-----WARNING: Model s20 failed to learn: sum(ans)=480.0 sum(y)=372.0 len(y)=480\n",
      "\tVALENCE-s20|Acc=0.69167|10-CV=0.5475|STD=0.16266|Time spend=2.6718838214874268\n",
      "\tAROUSAL-s21|Acc=0.8|10-CV=0.8|STD=0.1|Time spend=2.3915750980377197\n",
      "-----WARNING: Model s21 failed to learn: sum(ans)=480.0 sum(y)=384.0 len(y)=480\n",
      "\tVALENCE-s21|Acc=0.525|10-CV=0.39083|STD=0.08599|Time spend=2.7053678035736084\n",
      "-----WARNING: Model s21 failed to learn: sum(ans)=480.0 sum(y)=252.0 len(y)=480\n",
      "\tAROUSAL-s22|Acc=0.6|10-CV=0.61|STD=0.07|Time spend=2.4664831161499023\n",
      "-----WARNING: Model s22 failed to learn: sum(ans)=480.0 sum(y)=288.0 len(y)=480\n",
      "\tVALENCE-s22|Acc=0.59792|10-CV=0.55|STD=0.1172|Time spend=2.7678205966949463\n",
      "\tAROUSAL-s23|Acc=0.75|10-CV=0.78|STD=0.09798|Time spend=2.5055270195007324\n",
      "-----WARNING: Model s23 failed to learn: sum(ans)=0.0 sum(y)=120.0 len(y)=480\n",
      "\tVALENCE-s23|Acc=0.65|10-CV=0.58917|STD=0.12134|Time spend=2.7796831130981445\n",
      "-----WARNING: Model s23 failed to learn: sum(ans)=480.0 sum(y)=312.0 len(y)=480\n",
      "\tAROUSAL-s24|Acc=0.825|10-CV=0.82|STD=0.07483|Time spend=2.535242795944214\n",
      "-----WARNING: Model s24 failed to learn: sum(ans)=480.0 sum(y)=396.0 len(y)=480\n",
      "\tVALENCE-s24|Acc=0.59375|10-CV=0.43917|STD=0.19109|Time spend=2.833245277404785\n",
      "\tAROUSAL-s25|Acc=0.725|10-CV=0.74|STD=0.12806|Time spend=2.467862606048584\n",
      "-----WARNING: Model s25 failed to learn: sum(ans)=480.0 sum(y)=348.0 len(y)=480\n",
      "\tVALENCE-s25|Acc=0.52083|10-CV=0.38333|STD=0.10878|Time spend=2.779224157333374\n",
      "\tAROUSAL-s26|Acc=0.6125|10-CV=0.55667|STD=0.12549|Time spend=2.4435648918151855\n",
      "\tVALENCE-s26|Acc=0.65|10-CV=0.62|STD=0.14|Time spend=2.727766513824463\n",
      "-----WARNING: Model s26 failed to learn: sum(ans)=480.0 sum(y)=312.0 len(y)=480\n",
      "\tAROUSAL-s27|Acc=0.70625|10-CV=0.6375|STD=0.10078|Time spend=2.545593023300171\n",
      "\tVALENCE-s27|Acc=0.75|10-CV=0.66833|STD=0.12393|Time spend=2.794379949569702\n",
      "-----WARNING: Model s27 failed to learn: sum(ans)=480.0 sum(y)=360.0 len(y)=480\n",
      "\tAROUSAL-s28|Acc=0.56875|10-CV=0.44417|STD=0.16931|Time spend=2.4891602993011475\n",
      "\tVALENCE-s28|Acc=0.625|10-CV=0.55417|STD=0.14913|Time spend=2.772256374359131\n",
      "-----WARNING: Model s28 failed to learn: sum(ans)=480.0 sum(y)=300.0 len(y)=480\n",
      "\tAROUSAL-s29|Acc=0.625|10-CV=0.53|STD=0.09|Time spend=2.474717617034912\n",
      "-----WARNING: Model s29 failed to learn: sum(ans)=480.0 sum(y)=300.0 len(y)=480\n",
      "\tVALENCE-s29|Acc=0.65833|10-CV=0.5725|STD=0.09683|Time spend=2.7723801136016846\n",
      "\tAROUSAL-s30|Acc=0.59583|10-CV=0.48667|STD=0.08133|Time spend=2.5631020069122314\n",
      "\tVALENCE-s30|Acc=0.675|10-CV=0.62|STD=0.14697|Time spend=2.839189052581787\n",
      "-----WARNING: Model s30 failed to learn: sum(ans)=480.0 sum(y)=324.0 len(y)=480\n",
      "\tAROUSAL-s31|Acc=0.67292|10-CV=0.52833|STD=0.15322|Time spend=2.5233941078186035\n",
      "\tVALENCE-s31|Acc=0.575|10-CV=0.46583|STD=0.11386|Time spend=2.8180434703826904\n",
      "\tAROUSAL-s32|Acc=0.675|10-CV=0.75|STD=0.13601|Time spend=2.55676531791687\n",
      "-----WARNING: Model s32 failed to learn: sum(ans)=480.0 sum(y)=324.0 len(y)=480\n",
      "\tVALENCE-s32|Acc=0.64583|10-CV=0.59917|STD=0.07874|Time spend=2.8394315242767334\n",
      "AROUSAL|Acc=0.6662760416666669|10-CV=0.6040364583333334|STD=0.10951139988641534\n",
      "VALENCE|Acc=0.6431640624999999|10-CV=0.5432291666666665|STD=0.12162920768670807\n",
      "TOTAL|Acc=0.6547200520833336|10-CV=0.5736328125000001|STD=0.11557030378656168\n"
     ]
    }
   ],
   "source": [
    "for text in reports:\n",
    "    if(text == None): continue\n",
    "    print(text)\n",
    "\n",
    "accs.extend(accs_v)\n",
    "cv_means.extend(cv_means_v)\n",
    "cv_stds.extend(cv_stds_v)\n",
    "print(f\"TOTAL|Acc={sum(accs)/len(accs)}|10-CV={sum(cv_means)/len(cv_means)}|STD={sum(cv_stds)/len(cv_stds)}\")"
   ]
  },
  {
   "cell_type": "markdown",
   "metadata": {},
   "source": [
    "### 4.2 $ \\text{PCC}_{freq} (i,j) = \\frac{\\text{Cov}[\\hat{\\mathbf{X}}_i, \\hat{\\mathbf{X}}_j]}{\\sigma_{\\hat{\\mathbf{X}}_i} \\sigma_{\\hat{\\mathbf{X}}_j}} $"
   ]
  },
  {
   "cell_type": "code",
   "execution_count": 10,
   "metadata": {},
   "outputs": [],
   "source": [
    "def calculate_fft(signal, sfreq):\n",
    "    \"\"\" signal: can be 1D array of (n_sample,) or 2D array of (n_signal, n_sample)  \"\"\"\n",
    "    number_sample = signal.shape[-1]\n",
    "\n",
    "    # the result will be a complex number. We can obtain the magnitude using `absolute`\n",
    "    magnitude = np.abs(np.fft.fft(signal))\n",
    "    # scale the result\n",
    "    magnitude = magnitude / (number_sample/2)\n",
    "    # Selecting the range\n",
    "    magnitude = magnitude.T[:number_sample//2].T\n",
    "    freq_range = np.fft.fftfreq(number_sample, d=1/sfreq)[:number_sample//2]\n",
    "\n",
    "    return magnitude, freq_range"
   ]
  },
  {
   "cell_type": "code",
   "execution_count": 11,
   "metadata": {},
   "outputs": [
    {
     "data": {
      "application/vnd.jupyter.widget-view+json": {
       "model_id": "c57bbf4074714e659ca2a4a4b180b1b5",
       "version_major": 2,
       "version_minor": 0
      },
      "text/plain": [
       "  0%|          | 0/32 [00:00<?, ?it/s]"
      ]
     },
     "metadata": {},
     "output_type": "display_data"
    },
    {
     "name": "stdout",
     "output_type": "stream",
     "text": [
      "Fitted sphere radius:         95.3 mm\n",
      "Origin head coordinates:      -0.8 15.1 45.3 mm\n",
      "Origin device coordinates:    -0.8 15.1 45.3 mm\n",
      "========= close ========\n",
      "\tAROUSAL-s01|Acc=0.7875|10-CV=0.54667|STD=0.12123|Time spend=2.6567223072052\n",
      "\tVALENCE-s01|Acc=0.82917|10-CV=0.495|STD=0.06669|Time spend=2.953669309616089\n",
      "Fitted sphere radius:         95.3 mm\n",
      "Origin head coordinates:      -0.8 15.1 45.3 mm\n",
      "Origin device coordinates:    -0.8 15.1 45.3 mm\n",
      "========= close ========\n",
      "\tAROUSAL-s02|Acc=0.64583|10-CV=0.58583|STD=0.09761|Time spend=2.6267282962799072\n",
      "\tVALENCE-s02|Acc=0.61667|10-CV=0.45167|STD=0.08691|Time spend=2.924337387084961\n",
      "Fitted sphere radius:         95.3 mm\n",
      "Origin head coordinates:      -0.8 15.1 45.3 mm\n",
      "Origin device coordinates:    -0.8 15.1 45.3 mm\n",
      "========= close ========\n",
      "\tAROUSAL-s03|Acc=0.8|10-CV=0.73|STD=0.15524|Time spend=2.5059168338775635\n",
      "\tVALENCE-s03|Acc=0.65208|10-CV=0.45|STD=0.13144|Time spend=2.837669610977173\n",
      "Fitted sphere radius:         95.3 mm\n",
      "Origin head coordinates:      -0.8 15.1 45.3 mm\n",
      "Origin device coordinates:    -0.8 15.1 45.3 mm\n",
      "========= close ========\n",
      "\tAROUSAL-s04|Acc=0.61875|10-CV=0.50167|STD=0.14538|Time spend=2.8596675395965576\n",
      "\tVALENCE-s04|Acc=0.61042|10-CV=0.48667|STD=0.14473|Time spend=3.18727707862854\n",
      "Fitted sphere radius:         95.3 mm\n",
      "Origin head coordinates:      -0.8 15.1 45.3 mm\n",
      "Origin device coordinates:    -0.8 15.1 45.3 mm\n",
      "========= close ========\n",
      "\tAROUSAL-s05|Acc=0.65833|10-CV=0.44333|STD=0.12779|Time spend=2.852987289428711\n",
      "\tVALENCE-s05|Acc=0.61667|10-CV=0.5475|STD=0.08441|Time spend=3.153331756591797\n",
      "Fitted sphere radius:         95.3 mm\n",
      "Origin head coordinates:      -0.8 15.1 45.3 mm\n",
      "Origin device coordinates:    -0.8 15.1 45.3 mm\n",
      "========= close ========\n",
      "\tAROUSAL-s06|Acc=0.675|10-CV=0.545|STD=0.13905|Time spend=2.6641125679016113\n",
      "\tVALENCE-s06|Acc=0.75|10-CV=0.71917|STD=0.0751|Time spend=2.9919440746307373\n",
      "Fitted sphere radius:         95.3 mm\n",
      "Origin head coordinates:      -0.8 15.1 45.3 mm\n",
      "Origin device coordinates:    -0.8 15.1 45.3 mm\n",
      "========= close ========\n",
      "\tAROUSAL-s07|Acc=0.70208|10-CV=0.6|STD=0.09144|Time spend=2.6552581787109375\n",
      "\tVALENCE-s07|Acc=0.76042|10-CV=0.64667|STD=0.11482|Time spend=2.979810953140259\n",
      "Fitted sphere radius:         95.3 mm\n",
      "Origin head coordinates:      -0.8 15.1 45.3 mm\n",
      "Origin device coordinates:    -0.8 15.1 45.3 mm\n",
      "========= close ========\n",
      "\tAROUSAL-s08|Acc=0.69167|10-CV=0.42417|STD=0.12547|Time spend=2.7964839935302734\n",
      "\tVALENCE-s08|Acc=0.71042|10-CV=0.51167|STD=0.0815|Time spend=3.1184029579162598\n",
      "Fitted sphere radius:         95.3 mm\n",
      "Origin head coordinates:      -0.8 15.1 45.3 mm\n",
      "Origin device coordinates:    -0.8 15.1 45.3 mm\n",
      "========= close ========\n",
      "\tAROUSAL-s09|Acc=0.65625|10-CV=0.56|STD=0.12968|Time spend=2.780412435531616\n",
      "\tVALENCE-s09|Acc=0.71458|10-CV=0.60583|STD=0.07924|Time spend=3.0874009132385254\n",
      "Fitted sphere radius:         95.3 mm\n",
      "Origin head coordinates:      -0.8 15.1 45.3 mm\n",
      "Origin device coordinates:    -0.8 15.1 45.3 mm\n",
      "========= close ========\n",
      "\tAROUSAL-s10|Acc=0.72917|10-CV=0.54083|STD=0.0851|Time spend=2.7018072605133057\n",
      "\tVALENCE-s10|Acc=0.825|10-CV=0.71917|STD=0.10724|Time spend=3.0056958198547363\n",
      "Fitted sphere radius:         95.3 mm\n",
      "Origin head coordinates:      -0.8 15.1 45.3 mm\n",
      "Origin device coordinates:    -0.8 15.1 45.3 mm\n",
      "========= close ========\n",
      "\tAROUSAL-s11|Acc=0.67083|10-CV=0.61083|STD=0.04744|Time spend=2.9878127574920654\n",
      "\tVALENCE-s11|Acc=0.68125|10-CV=0.55917|STD=0.15565|Time spend=3.3143527507781982\n",
      "Fitted sphere radius:         95.3 mm\n",
      "Origin head coordinates:      -0.8 15.1 45.3 mm\n",
      "Origin device coordinates:    -0.8 15.1 45.3 mm\n",
      "========= close ========\n",
      "\tAROUSAL-s12|Acc=0.825|10-CV=0.83|STD=0.1005|Time spend=2.5483224391937256\n",
      "\tVALENCE-s12|Acc=0.67292|10-CV=0.47667|STD=0.16085|Time spend=2.8528542518615723\n",
      "Fitted sphere radius:         95.3 mm\n",
      "Origin head coordinates:      -0.8 15.1 45.3 mm\n",
      "Origin device coordinates:    -0.8 15.1 45.3 mm\n",
      "========= close ========\n",
      "\tAROUSAL-s13|Acc=0.85|10-CV=0.84|STD=0.06633|Time spend=2.7938036918640137\n",
      "\tVALENCE-s13|Acc=0.7125|10-CV=0.605|STD=0.05942|Time spend=3.084982395172119\n",
      "Fitted sphere radius:         95.3 mm\n",
      "Origin head coordinates:      -0.8 15.1 45.3 mm\n",
      "Origin device coordinates:    -0.8 15.1 45.3 mm\n",
      "========= close ========\n",
      "\tAROUSAL-s14|Acc=0.675|10-CV=0.65|STD=0.10247|Time spend=3.2785544395446777\n",
      "\tVALENCE-s14|Acc=0.7375|10-CV=0.59083|STD=0.08135|Time spend=3.5701675415039062\n",
      "Fitted sphere radius:         95.3 mm\n",
      "Origin head coordinates:      -0.8 15.1 45.3 mm\n",
      "Origin device coordinates:    -0.8 15.1 45.3 mm\n",
      "========= close ========\n",
      "\tAROUSAL-s15|Acc=0.77292|10-CV=0.49417|STD=0.10698|Time spend=3.1860454082489014\n",
      "\tVALENCE-s15|Acc=0.81042|10-CV=0.71|STD=0.06591|Time spend=3.4950737953186035\n",
      "Fitted sphere radius:         95.3 mm\n",
      "Origin head coordinates:      -0.8 15.1 45.3 mm\n",
      "Origin device coordinates:    -0.8 15.1 45.3 mm\n",
      "========= close ========\n",
      "\tAROUSAL-s16|Acc=0.70417|10-CV=0.45917|STD=0.11811|Time spend=2.8844828605651855\n",
      "\tVALENCE-s16|Acc=0.73333|10-CV=0.64917|STD=0.09793|Time spend=3.1642444133758545\n",
      "Fitted sphere radius:         95.3 mm\n",
      "Origin head coordinates:      -0.8 15.1 45.3 mm\n",
      "Origin device coordinates:    -0.8 15.1 45.3 mm\n",
      "========= close ========\n",
      "\tAROUSAL-s17|Acc=0.70417|10-CV=0.61167|STD=0.0796|Time spend=2.5839192867279053\n",
      "\tVALENCE-s17|Acc=0.5875|10-CV=0.42667|STD=0.11358|Time spend=2.902480125427246\n",
      "Fitted sphere radius:         95.3 mm\n",
      "Origin head coordinates:      -0.8 15.1 45.3 mm\n",
      "Origin device coordinates:    -0.8 15.1 45.3 mm\n",
      "========= close ========\n",
      "\tAROUSAL-s18|Acc=0.67917|10-CV=0.53167|STD=0.11042|Time spend=2.6838858127593994\n",
      "\tVALENCE-s18|Acc=0.79375|10-CV=0.675|STD=0.10973|Time spend=2.960751533508301\n",
      "Fitted sphere radius:         95.3 mm\n",
      "Origin head coordinates:      -0.8 15.1 45.3 mm\n",
      "Origin device coordinates:    -0.8 15.1 45.3 mm\n",
      "========= close ========\n",
      "\tAROUSAL-s19|Acc=0.72292|10-CV=0.615|STD=0.12303|Time spend=2.593344211578369\n",
      "\tVALENCE-s19|Acc=0.7125|10-CV=0.50833|STD=0.11908|Time spend=2.8979368209838867\n",
      "Fitted sphere radius:         95.3 mm\n",
      "Origin head coordinates:      -0.8 15.1 45.3 mm\n",
      "Origin device coordinates:    -0.8 15.1 45.3 mm\n",
      "========= close ========\n",
      "\tAROUSAL-s20|Acc=0.775|10-CV=0.82|STD=0.08718|Time spend=2.6870269775390625\n",
      "\tVALENCE-s20|Acc=0.72917|10-CV=0.53667|STD=0.13985|Time spend=2.997105836868286\n",
      "Fitted sphere radius:         95.3 mm\n",
      "Origin head coordinates:      -0.8 15.1 45.3 mm\n",
      "Origin device coordinates:    -0.8 15.1 45.3 mm\n",
      "========= close ========\n",
      "\tAROUSAL-s21|Acc=0.8|10-CV=0.8|STD=0.1|Time spend=2.9442543983459473\n",
      "\tVALENCE-s21|Acc=0.58333|10-CV=0.40417|STD=0.08176|Time spend=3.2962141036987305\n",
      "Fitted sphere radius:         95.3 mm\n",
      "Origin head coordinates:      -0.8 15.1 45.3 mm\n",
      "Origin device coordinates:    -0.8 15.1 45.3 mm\n",
      "========= close ========\n",
      "\tAROUSAL-s22|Acc=0.6|10-CV=0.58|STD=0.06782|Time spend=2.796254873275757\n",
      "\tVALENCE-s22|Acc=0.65208|10-CV=0.58167|STD=0.09173|Time spend=3.122793436050415\n",
      "Fitted sphere radius:         95.3 mm\n",
      "Origin head coordinates:      -0.8 15.1 45.3 mm\n",
      "Origin device coordinates:    -0.8 15.1 45.3 mm\n",
      "========= close ========\n",
      "\tAROUSAL-s23|Acc=0.75|10-CV=0.77917|STD=0.09699|Time spend=3.2158427238464355\n",
      "\tVALENCE-s23|Acc=0.73333|10-CV=0.5925|STD=0.12563|Time spend=3.5169382095336914\n",
      "Fitted sphere radius:         95.3 mm\n",
      "Origin head coordinates:      -0.8 15.1 45.3 mm\n",
      "Origin device coordinates:    -0.8 15.1 45.3 mm\n",
      "========= close ========\n",
      "\tAROUSAL-s24|Acc=0.825|10-CV=0.82|STD=0.07483|Time spend=2.5098719596862793\n",
      "\tVALENCE-s24|Acc=0.62917|10-CV=0.48167|STD=0.11558|Time spend=2.834426164627075\n",
      "Fitted sphere radius:         95.3 mm\n",
      "Origin head coordinates:      -0.8 15.1 45.3 mm\n",
      "Origin device coordinates:    -0.8 15.1 45.3 mm\n",
      "========= close ========\n",
      "\tAROUSAL-s25|Acc=0.72917|10-CV=0.74|STD=0.12806|Time spend=2.6308043003082275\n",
      "\tVALENCE-s25|Acc=0.6375|10-CV=0.39667|STD=0.10601|Time spend=2.9416656494140625\n",
      "Fitted sphere radius:         95.3 mm\n",
      "Origin head coordinates:      -0.8 15.1 45.3 mm\n",
      "Origin device coordinates:    -0.8 15.1 45.3 mm\n",
      "========= close ========\n",
      "\tAROUSAL-s26|Acc=0.68958|10-CV=0.54333|STD=0.1166|Time spend=3.1018052101135254\n",
      "\tVALENCE-s26|Acc=0.65|10-CV=0.59667|STD=0.12129|Time spend=3.4242122173309326\n",
      "Fitted sphere radius:         95.3 mm\n",
      "Origin head coordinates:      -0.8 15.1 45.3 mm\n",
      "Origin device coordinates:    -0.8 15.1 45.3 mm\n",
      "========= close ========\n",
      "\tAROUSAL-s27|Acc=0.76875|10-CV=0.63583|STD=0.09882|Time spend=2.856422185897827\n",
      "\tVALENCE-s27|Acc=0.79375|10-CV=0.66833|STD=0.12058|Time spend=3.130127429962158\n",
      "Fitted sphere radius:         95.3 mm\n",
      "Origin head coordinates:      -0.8 15.1 45.3 mm\n",
      "Origin device coordinates:    -0.8 15.1 45.3 mm\n",
      "========= close ========\n",
      "\tAROUSAL-s28|Acc=0.59167|10-CV=0.44417|STD=0.13055|Time spend=2.948485851287842\n",
      "\tVALENCE-s28|Acc=0.625|10-CV=0.51|STD=0.09816|Time spend=3.2372000217437744\n",
      "Fitted sphere radius:         95.3 mm\n",
      "Origin head coordinates:      -0.8 15.1 45.3 mm\n",
      "Origin device coordinates:    -0.8 15.1 45.3 mm\n",
      "========= close ========\n",
      "\tAROUSAL-s29|Acc=0.71042|10-CV=0.54833|STD=0.09688|Time spend=2.7185375690460205\n",
      "\tVALENCE-s29|Acc=0.72708|10-CV=0.57667|STD=0.07234|Time spend=3.0203773975372314\n",
      "Fitted sphere radius:         95.3 mm\n",
      "Origin head coordinates:      -0.8 15.1 45.3 mm\n",
      "Origin device coordinates:    -0.8 15.1 45.3 mm\n",
      "========= close ========\n",
      "\tAROUSAL-s30|Acc=0.67708|10-CV=0.47083|STD=0.08718|Time spend=2.706244468688965\n",
      "\tVALENCE-s30|Acc=0.675|10-CV=0.61667|STD=0.1441|Time spend=3.010122537612915\n",
      "Fitted sphere radius:         95.3 mm\n",
      "Origin head coordinates:      -0.8 15.1 45.3 mm\n",
      "Origin device coordinates:    -0.8 15.1 45.3 mm\n",
      "========= close ========\n",
      "\tAROUSAL-s31|Acc=0.75833|10-CV=0.56417|STD=0.13422|Time spend=2.6757917404174805\n",
      "\tVALENCE-s31|Acc=0.73125|10-CV=0.505|STD=0.11317|Time spend=2.992202043533325\n",
      "Fitted sphere radius:         95.3 mm\n",
      "Origin head coordinates:      -0.8 15.1 45.3 mm\n",
      "Origin device coordinates:    -0.8 15.1 45.3 mm\n",
      "========= close ========\n",
      "\tAROUSAL-s32|Acc=0.7125|10-CV=0.70417|STD=0.11886|Time spend=2.6564152240753174\n",
      "\tVALENCE-s32|Acc=0.66458|10-CV=0.57417|STD=0.07936|Time spend=2.996089220046997\n",
      "AROUSAL|Acc=0.7173828125000001|10-CV=0.6115625|STD=0.10658975553223517\n",
      "VALENCE|Acc=0.6986979166666666|10-CV=0.55859375|STD=0.10453564346941814\n"
     ]
    }
   ],
   "source": [
    "accs, cv_means, cv_stds = [],[],[]\n",
    "accs_v, cv_means_v, cv_stds_v = [],[],[]\n",
    "reports = []\n",
    "for filename in (pbar := tqdm(dataset.get_file_list())):\n",
    "    start = time.time()\n",
    "    pbar.set_description(filename)\n",
    "    data, labels, groups = dataset.get_data(filename, stimuli=Dataset_subjectDependent.STIMULI_AROUSAL, return_type='mne', sfreq=128)\n",
    "    \n",
    "    data_csd = mne.preprocessing.compute_current_source_density(data)\n",
    "    magnitude, freq_range = calculate_fft(data_csd.get_data(), 128)\n",
    "    pcc = calculate_pcc(magnitude)\n",
    "    _,acc,cross,train_report = train_model(pcc, labels.squeeze(), groups, filename=filename, return_text=True)\n",
    "    report = f\"\\tAROUSAL-{filename}|Acc={round(acc,5)}|10-CV={round(cross.mean(),5)}|STD={round(cross.std(),5)}|Time spend={time.time() - start}\"\n",
    "    print(report)\n",
    "    reports.append(report)\n",
    "    reports.append(train_report)\n",
    "    accs.append(acc)\n",
    "    cv_means.append(cross.mean())\n",
    "    cv_stds.append(cross.std())\n",
    "\n",
    "    _, labels_v, groups_v = dataset.get_data(filename, stimuli=Dataset_subjectDependent.STIMULI_VALENCE, return_type='mne', sfreq=128)\n",
    "    _,acc,cross,train_report = train_model(pcc, labels_v.squeeze(), groups_v, filename=filename, return_text=True)\n",
    "    report = f\"\\tVALENCE-{filename}|Acc={round(acc,5)}|10-CV={round(cross.mean(),5)}|STD={round(cross.std(),5)}|Time spend={time.time() - start}\"\n",
    "    print(report)\n",
    "    reports.append(report)\n",
    "    reports.append(train_report)\n",
    "    accs_v.append(acc)\n",
    "    cv_means_v.append(cross.mean())\n",
    "    cv_stds_v.append(cross.std())\n",
    "    # break\n",
    "    # count+=1\n",
    "    # if(count == 5): break\n",
    "report = f\"AROUSAL|Acc={sum(accs)/len(accs)}|10-CV={sum(cv_means)/len(cv_means)}|STD={sum(cv_stds)/len(cv_stds)}\"\n",
    "print(report)\n",
    "reports.append(report)\n",
    "report = f\"VALENCE|Acc={sum(accs_v)/len(accs_v)}|10-CV={sum(cv_means_v)/len(cv_means_v)}|STD={sum(cv_stds_v)/len(cv_stds_v)}\"\n",
    "print(report)\n",
    "reports.append(report)"
   ]
  },
  {
   "cell_type": "code",
   "execution_count": 12,
   "metadata": {},
   "outputs": [
    {
     "name": "stdout",
     "output_type": "stream",
     "text": [
      "\tAROUSAL-s01|Acc=0.7875|10-CV=0.54667|STD=0.12123|Time spend=2.6567223072052\n",
      "\tVALENCE-s01|Acc=0.82917|10-CV=0.495|STD=0.06669|Time spend=2.953669309616089\n",
      "\tAROUSAL-s02|Acc=0.64583|10-CV=0.58583|STD=0.09761|Time spend=2.6267282962799072\n",
      "\tVALENCE-s02|Acc=0.61667|10-CV=0.45167|STD=0.08691|Time spend=2.924337387084961\n",
      "\tAROUSAL-s03|Acc=0.8|10-CV=0.73|STD=0.15524|Time spend=2.5059168338775635\n",
      "-----WARNING: Model s03 failed to learn: sum(ans)=0.0 sum(y)=96.0 len(y)=480\n",
      "\tVALENCE-s03|Acc=0.65208|10-CV=0.45|STD=0.13144|Time spend=2.837669610977173\n",
      "\tAROUSAL-s04|Acc=0.61875|10-CV=0.50167|STD=0.14538|Time spend=2.8596675395965576\n",
      "\tVALENCE-s04|Acc=0.61042|10-CV=0.48667|STD=0.14473|Time spend=3.18727707862854\n",
      "\tAROUSAL-s05|Acc=0.65833|10-CV=0.44333|STD=0.12779|Time spend=2.852987289428711\n",
      "\tVALENCE-s05|Acc=0.61667|10-CV=0.5475|STD=0.08441|Time spend=3.153331756591797\n",
      "\tAROUSAL-s06|Acc=0.675|10-CV=0.545|STD=0.13905|Time spend=2.6641125679016113\n",
      "\tVALENCE-s06|Acc=0.75|10-CV=0.71917|STD=0.0751|Time spend=2.9919440746307373\n",
      "-----WARNING: Model s06 failed to learn: sum(ans)=480.0 sum(y)=360.0 len(y)=480\n",
      "\tAROUSAL-s07|Acc=0.70208|10-CV=0.6|STD=0.09144|Time spend=2.6552581787109375\n",
      "\tVALENCE-s07|Acc=0.76042|10-CV=0.64667|STD=0.11482|Time spend=2.979810953140259\n",
      "\tAROUSAL-s08|Acc=0.69167|10-CV=0.42417|STD=0.12547|Time spend=2.7964839935302734\n",
      "\tVALENCE-s08|Acc=0.71042|10-CV=0.51167|STD=0.0815|Time spend=3.1184029579162598\n",
      "\tAROUSAL-s09|Acc=0.65625|10-CV=0.56|STD=0.12968|Time spend=2.780412435531616\n",
      "\tVALENCE-s09|Acc=0.71458|10-CV=0.60583|STD=0.07924|Time spend=3.0874009132385254\n",
      "\tAROUSAL-s10|Acc=0.72917|10-CV=0.54083|STD=0.0851|Time spend=2.7018072605133057\n",
      "\tVALENCE-s10|Acc=0.825|10-CV=0.71917|STD=0.10724|Time spend=3.0056958198547363\n",
      "\tAROUSAL-s11|Acc=0.67083|10-CV=0.61083|STD=0.04744|Time spend=2.9878127574920654\n",
      "\tVALENCE-s11|Acc=0.68125|10-CV=0.55917|STD=0.15565|Time spend=3.3143527507781982\n",
      "\tAROUSAL-s12|Acc=0.825|10-CV=0.83|STD=0.1005|Time spend=2.5483224391937256\n",
      "-----WARNING: Model s12 failed to learn: sum(ans)=480.0 sum(y)=396.0 len(y)=480\n",
      "\tVALENCE-s12|Acc=0.67292|10-CV=0.47667|STD=0.16085|Time spend=2.8528542518615723\n",
      "\tAROUSAL-s13|Acc=0.85|10-CV=0.84|STD=0.06633|Time spend=2.7938036918640137\n",
      "-----WARNING: Model s13 failed to learn: sum(ans)=480.0 sum(y)=408.0 len(y)=480\n",
      "\tVALENCE-s13|Acc=0.7125|10-CV=0.605|STD=0.05942|Time spend=3.084982395172119\n",
      "\tAROUSAL-s14|Acc=0.675|10-CV=0.65|STD=0.10247|Time spend=3.2785544395446777\n",
      "-----WARNING: Model s14 failed to learn: sum(ans)=480.0 sum(y)=324.0 len(y)=480\n",
      "\tVALENCE-s14|Acc=0.7375|10-CV=0.59083|STD=0.08135|Time spend=3.5701675415039062\n",
      "\tAROUSAL-s15|Acc=0.77292|10-CV=0.49417|STD=0.10698|Time spend=3.1860454082489014\n",
      "\tVALENCE-s15|Acc=0.81042|10-CV=0.71|STD=0.06591|Time spend=3.4950737953186035\n",
      "\tAROUSAL-s16|Acc=0.70417|10-CV=0.45917|STD=0.11811|Time spend=2.8844828605651855\n",
      "\tVALENCE-s16|Acc=0.73333|10-CV=0.64917|STD=0.09793|Time spend=3.1642444133758545\n",
      "\tAROUSAL-s17|Acc=0.70417|10-CV=0.61167|STD=0.0796|Time spend=2.5839192867279053\n",
      "\tVALENCE-s17|Acc=0.5875|10-CV=0.42667|STD=0.11358|Time spend=2.902480125427246\n",
      "\tAROUSAL-s18|Acc=0.67917|10-CV=0.53167|STD=0.11042|Time spend=2.6838858127593994\n",
      "\tVALENCE-s18|Acc=0.79375|10-CV=0.675|STD=0.10973|Time spend=2.960751533508301\n",
      "\tAROUSAL-s19|Acc=0.72292|10-CV=0.615|STD=0.12303|Time spend=2.593344211578369\n",
      "\tVALENCE-s19|Acc=0.7125|10-CV=0.50833|STD=0.11908|Time spend=2.8979368209838867\n",
      "\tAROUSAL-s20|Acc=0.775|10-CV=0.82|STD=0.08718|Time spend=2.6870269775390625\n",
      "-----WARNING: Model s20 failed to learn: sum(ans)=480.0 sum(y)=372.0 len(y)=480\n",
      "\tVALENCE-s20|Acc=0.72917|10-CV=0.53667|STD=0.13985|Time spend=2.997105836868286\n",
      "\tAROUSAL-s21|Acc=0.8|10-CV=0.8|STD=0.1|Time spend=2.9442543983459473\n",
      "-----WARNING: Model s21 failed to learn: sum(ans)=480.0 sum(y)=384.0 len(y)=480\n",
      "\tVALENCE-s21|Acc=0.58333|10-CV=0.40417|STD=0.08176|Time spend=3.2962141036987305\n",
      "\tAROUSAL-s22|Acc=0.6|10-CV=0.58|STD=0.06782|Time spend=2.796254873275757\n",
      "-----WARNING: Model s22 failed to learn: sum(ans)=480.0 sum(y)=288.0 len(y)=480\n",
      "\tVALENCE-s22|Acc=0.65208|10-CV=0.58167|STD=0.09173|Time spend=3.122793436050415\n",
      "\tAROUSAL-s23|Acc=0.75|10-CV=0.77917|STD=0.09699|Time spend=3.2158427238464355\n",
      "-----WARNING: Model s23 failed to learn: sum(ans)=0.0 sum(y)=120.0 len(y)=480\n",
      "\tVALENCE-s23|Acc=0.73333|10-CV=0.5925|STD=0.12563|Time spend=3.5169382095336914\n",
      "\tAROUSAL-s24|Acc=0.825|10-CV=0.82|STD=0.07483|Time spend=2.5098719596862793\n",
      "-----WARNING: Model s24 failed to learn: sum(ans)=480.0 sum(y)=396.0 len(y)=480\n",
      "\tVALENCE-s24|Acc=0.62917|10-CV=0.48167|STD=0.11558|Time spend=2.834426164627075\n",
      "\tAROUSAL-s25|Acc=0.72917|10-CV=0.74|STD=0.12806|Time spend=2.6308043003082275\n",
      "\tVALENCE-s25|Acc=0.6375|10-CV=0.39667|STD=0.10601|Time spend=2.9416656494140625\n",
      "\tAROUSAL-s26|Acc=0.68958|10-CV=0.54333|STD=0.1166|Time spend=3.1018052101135254\n",
      "\tVALENCE-s26|Acc=0.65|10-CV=0.59667|STD=0.12129|Time spend=3.4242122173309326\n",
      "\tAROUSAL-s27|Acc=0.76875|10-CV=0.63583|STD=0.09882|Time spend=2.856422185897827\n",
      "\tVALENCE-s27|Acc=0.79375|10-CV=0.66833|STD=0.12058|Time spend=3.130127429962158\n",
      "\tAROUSAL-s28|Acc=0.59167|10-CV=0.44417|STD=0.13055|Time spend=2.948485851287842\n",
      "\tVALENCE-s28|Acc=0.625|10-CV=0.51|STD=0.09816|Time spend=3.2372000217437744\n",
      "-----WARNING: Model s28 failed to learn: sum(ans)=480.0 sum(y)=300.0 len(y)=480\n",
      "\tAROUSAL-s29|Acc=0.71042|10-CV=0.54833|STD=0.09688|Time spend=2.7185375690460205\n",
      "\tVALENCE-s29|Acc=0.72708|10-CV=0.57667|STD=0.07234|Time spend=3.0203773975372314\n",
      "\tAROUSAL-s30|Acc=0.67708|10-CV=0.47083|STD=0.08718|Time spend=2.706244468688965\n",
      "\tVALENCE-s30|Acc=0.675|10-CV=0.61667|STD=0.1441|Time spend=3.010122537612915\n",
      "-----WARNING: Model s30 failed to learn: sum(ans)=480.0 sum(y)=324.0 len(y)=480\n",
      "\tAROUSAL-s31|Acc=0.75833|10-CV=0.56417|STD=0.13422|Time spend=2.6757917404174805\n",
      "\tVALENCE-s31|Acc=0.73125|10-CV=0.505|STD=0.11317|Time spend=2.992202043533325\n",
      "\tAROUSAL-s32|Acc=0.7125|10-CV=0.70417|STD=0.11886|Time spend=2.6564152240753174\n",
      "\tVALENCE-s32|Acc=0.66458|10-CV=0.57417|STD=0.07936|Time spend=2.996089220046997\n",
      "AROUSAL|Acc=0.7173828125000001|10-CV=0.6115625|STD=0.10658975553223517\n",
      "VALENCE|Acc=0.6986979166666666|10-CV=0.55859375|STD=0.10453564346941814\n",
      "TOTAL|Acc=0.7080403645833334|10-CV=0.5850781250000001|STD=0.10556269950082664\n"
     ]
    }
   ],
   "source": [
    "for text in reports:\n",
    "    if(text == None): continue\n",
    "    print(text)\n",
    "\n",
    "accs.extend(accs_v)\n",
    "cv_means.extend(cv_means_v)\n",
    "cv_stds.extend(cv_stds_v)\n",
    "print(f\"TOTAL|Acc={sum(accs)/len(accs)}|10-CV={sum(cv_means)/len(cv_means)}|STD={sum(cv_stds)/len(cv_stds)}\")"
   ]
  },
  {
   "cell_type": "markdown",
   "metadata": {},
   "source": [
    "### 4.3 $ \\text{PLV}(j,k) = \\frac{1}{T} | \\Sigma^{T}_{t=1} e^{i(\\phi^{t}_{j} - \\phi^{t}_{k})}   | $"
   ]
  },
  {
   "cell_type": "code",
   "execution_count": 13,
   "metadata": {},
   "outputs": [],
   "source": [
    "# bands = [(0,4), (4,8), (8,12), (12,30), (30,64)]\n",
    "def calculate_stft(signals, sfreq):\n",
    "    from scipy import signal\n",
    "    f_range, t_range, Z = signal.stft(signals, sfreq, nperseg=sfreq//10, nfft=sfreq)\n",
    "    magnitude = np.abs(Z) \n",
    "    phase = np.angle(Z)\n",
    "    return magnitude, phase, f_range, t_range\n",
    "\n",
    "def PLV_stft(p_id, phase):\n",
    "    # (32, 65, 12) => (channels, freqs, times)\n",
    "    # print(f\"p_id:{p_id} - data to run {phase.shape}\")\n",
    "    print(phase.shape)\n",
    "    from itertools import combinations\n",
    "    plv = []\n",
    "    # count = 0\n",
    "    for index in range(phase.shape[0]):\n",
    "        plv_epoch = []\n",
    "        for comb in combinations(list(range(phase.shape[1])), 2):\n",
    "            # shape = (65,12)\n",
    "            phase_a, phase_b = phase[index, comb[0]], phase[index, comb[1]]\n",
    "            phase_diff = phase_a - phase_b\n",
    "            # sum along the time size\n",
    "            plv_ab = np.abs(np.average(np.exp(complex(0,1) * phase_diff), axis=1))\n",
    "            plv_epoch.append(plv_ab)\n",
    "        plv_epoch = np.vstack(plv_epoch)\n",
    "        # print(plv_epoch.shape) => (300, 32, 65, 23)\n",
    "        plv_epoch_5 = np.concatenate([ plv_epoch[:,0:4].mean(axis=1).reshape(-1,1),\n",
    "                                        plv_epoch[:,4:8].mean(axis=1).reshape(-1,1),\n",
    "                                        plv_epoch[:,8:12].mean(axis=1).reshape(-1,1),\n",
    "                                        plv_epoch[:,12:30].mean(axis=1).reshape(-1,1),\n",
    "                                        plv_epoch[:,30:65].mean(axis=1).reshape(-1,1)], axis=0)\n",
    "        plv.append(np.expand_dims(plv_epoch_5, axis=0))\n",
    "        # count += 1\n",
    "        # if(count == 3): break\n",
    "    # shape (496, 65)\n",
    "    # 496 is number of pairs that is not duplicate\n",
    "    # 65 is number of phase of frequencies\n",
    "    plv = np.vstack( plv )\n",
    "    return plv.squeeze()\n",
    "\n",
    "def calculate_plv(data, n_jobs=8):\n",
    "    \"\"\" \n",
    "    Input: Expect data to have (n_epochs, n_channels, n_samples)\n",
    "    Output: (n_epochs, n_conn, n_freqs ) => n_conn = n_channels!/(2!(n_channels-2)!)\n",
    "    \"\"\"\n",
    "    from multiprocessing import Pool\n",
    "\n",
    "    try:\n",
    "        t_out = 60000\n",
    "        pool = Pool()\n",
    "        p_list = []\n",
    "        ans_list = []\n",
    "        num_p = n_jobs\n",
    "        indices = np.array_split(np.arange(data.shape[0]), num_p)\n",
    "        _, phase, _, _ = calculate_stft(data, 128)\n",
    "        for p_id in range(num_p):\n",
    "            p_list.append(pool.apply_async(PLV_stft, [p_id, phase[indices[p_id]] ]))\n",
    "        for p_id in range(num_p):\n",
    "            ans_list.append( p_list[p_id].get(timeout=t_out) )\n",
    "        # ans_list\n",
    "    finally:\n",
    "        print(\"========= close ========\")\n",
    "        pool.close() \n",
    "        pool.terminate()\n",
    "    return np.vstack(ans_list)\n"
   ]
  },
  {
   "cell_type": "code",
   "execution_count": 14,
   "metadata": {},
   "outputs": [
    {
     "data": {
      "application/vnd.jupyter.widget-view+json": {
       "model_id": "d40a3c07c93c416ba21fa9cae3ebf6fe",
       "version_major": 2,
       "version_minor": 0
      },
      "text/plain": [
       "  0%|          | 0/32 [00:00<?, ?it/s]"
      ]
     },
     "metadata": {},
     "output_type": "display_data"
    },
    {
     "name": "stdout",
     "output_type": "stream",
     "text": [
      "Fitted sphere radius:         95.3 mm\n",
      "Origin head coordinates:      -0.8 15.1 45.3 mm\n",
      "Origin device coordinates:    -0.8 15.1 45.3 mm\n",
      "(60, 32, 65, 108)\n",
      "(60, 32, 65, 108)\n",
      "(60, 32, 65, 108)\n",
      "(60, 32, 65, 108)\n",
      "(60, 32, 65, 108)\n",
      "(60, 32, 65, 108)\n",
      "(60, 32, 65, 108)\n",
      "(60, 32, 65, 108)\n",
      "========= close ========\n",
      "\tAROUSAL-s01|Acc=0.82917|10-CV=0.55333|STD=0.15056|Time spend=20.170716285705566\n",
      "\tVALENCE-s01|Acc=0.83542|10-CV=0.50417|STD=0.07649|Time spend=21.45978832244873\n",
      "Fitted sphere radius:         95.3 mm\n",
      "Origin head coordinates:      -0.8 15.1 45.3 mm\n",
      "Origin device coordinates:    -0.8 15.1 45.3 mm\n",
      "(60, 32, 65, 108)\n",
      "(60, 32, 65, 108)\n",
      "(60, 32, 65, 108)\n",
      "(60, 32, 65, 108)\n",
      "(60, 32, 65, 108)\n",
      "(60, 32, 65, 108)\n",
      "(60, 32, 65, 108)\n",
      "(60, 32, 65, 108)\n",
      "========= close ========\n",
      "\tAROUSAL-s02|Acc=0.69375|10-CV=0.53917|STD=0.0986|Time spend=19.380507230758667\n",
      "\tVALENCE-s02|Acc=0.7375|10-CV=0.675|STD=0.10382|Time spend=20.545986890792847\n",
      "Fitted sphere radius:         95.3 mm\n",
      "Origin head coordinates:      -0.8 15.1 45.3 mm\n",
      "Origin device coordinates:    -0.8 15.1 45.3 mm\n",
      "(60, 32, 65, 108)\n",
      "(60, 32, 65, 108)\n",
      "(60, 32, 65, 108)\n",
      "(60, 32, 65, 108)\n",
      "(60, 32, 65, 108)\n",
      "(60, 32, 65, 108)\n",
      "(60, 32, 65, 108)\n",
      "(60, 32, 65, 108)\n",
      "========= close ========\n",
      "\tAROUSAL-s03|Acc=0.8|10-CV=0.73|STD=0.15524|Time spend=20.70134401321411\n",
      "\tVALENCE-s03|Acc=0.76875|10-CV=0.60417|STD=0.19|Time spend=21.97966456413269\n",
      "Fitted sphere radius:         95.3 mm\n",
      "Origin head coordinates:      -0.8 15.1 45.3 mm\n",
      "Origin device coordinates:    -0.8 15.1 45.3 mm\n",
      "(60, 32, 65, 108)\n",
      "(60, 32, 65, 108)\n",
      "(60, 32, 65, 108)\n",
      "(60, 32, 65, 108)\n",
      "(60, 32, 65, 108)\n",
      "(60, 32, 65, 108)\n",
      "(60, 32, 65, 108)\n",
      "(60, 32, 65, 108)\n",
      "========= close ========\n",
      "\tAROUSAL-s04|Acc=0.72083|10-CV=0.575|STD=0.11625|Time spend=20.311432361602783\n",
      "\tVALENCE-s04|Acc=0.73333|10-CV=0.58833|STD=0.07621|Time spend=21.449374198913574\n",
      "Fitted sphere radius:         95.3 mm\n",
      "Origin head coordinates:      -0.8 15.1 45.3 mm\n",
      "Origin device coordinates:    -0.8 15.1 45.3 mm\n",
      "(60, 32, 65, 108)\n",
      "(60, 32, 65, 108)\n",
      "(60, 32, 65, 108)\n",
      "(60, 32, 65, 108)\n",
      "(60, 32, 65, 108)\n",
      "(60, 32, 65, 108)\n",
      "(60, 32, 65, 108)\n",
      "(60, 32, 65, 108)\n",
      "========= close ========\n",
      "\tAROUSAL-s05|Acc=0.6875|10-CV=0.46333|STD=0.11206|Time spend=27.055453777313232\n",
      "\tVALENCE-s05|Acc=0.63958|10-CV=0.55083|STD=0.08862|Time spend=28.39096713066101\n",
      "Fitted sphere radius:         95.3 mm\n",
      "Origin head coordinates:      -0.8 15.1 45.3 mm\n",
      "Origin device coordinates:    -0.8 15.1 45.3 mm\n",
      "(60, 32, 65, 108)\n",
      "(60, 32, 65, 108)\n",
      "(60, 32, 65, 108)\n",
      "(60, 32, 65, 108)\n",
      "(60, 32, 65, 108)\n",
      "(60, 32, 65, 108)\n",
      "(60, 32, 65, 108)\n",
      "(60, 32, 65, 108)\n",
      "========= close ========\n",
      "\tAROUSAL-s06|Acc=0.625|10-CV=0.50917|STD=0.13299|Time spend=20.302172660827637\n",
      "\tVALENCE-s06|Acc=0.75|10-CV=0.72|STD=0.07483|Time spend=21.37359046936035\n",
      "Fitted sphere radius:         95.3 mm\n",
      "Origin head coordinates:      -0.8 15.1 45.3 mm\n",
      "Origin device coordinates:    -0.8 15.1 45.3 mm\n",
      "(60, 32, 65, 108)\n",
      "(60, 32, 65, 108)\n",
      "(60, 32, 65, 108)\n",
      "(60, 32, 65, 108)\n",
      "(60, 32, 65, 108)\n",
      "(60, 32, 65, 108)\n",
      "(60, 32, 65, 108)\n",
      "(60, 32, 65, 108)\n",
      "========= close ========\n",
      "\tAROUSAL-s07|Acc=0.74375|10-CV=0.6025|STD=0.08756|Time spend=20.61197590827942\n",
      "\tVALENCE-s07|Acc=0.78333|10-CV=0.66|STD=0.14614|Time spend=21.690230131149292\n",
      "Fitted sphere radius:         95.3 mm\n",
      "Origin head coordinates:      -0.8 15.1 45.3 mm\n",
      "Origin device coordinates:    -0.8 15.1 45.3 mm\n",
      "(60, 32, 65, 108)\n",
      "(60, 32, 65, 108)\n",
      "(60, 32, 65, 108)\n",
      "(60, 32, 65, 108)\n",
      "(60, 32, 65, 108)\n",
      "(60, 32, 65, 108)\n",
      "(60, 32, 65, 108)\n",
      "(60, 32, 65, 108)\n",
      "========= close ========\n",
      "\tAROUSAL-s08|Acc=0.775|10-CV=0.41167|STD=0.11715|Time spend=22.41219687461853\n",
      "\tVALENCE-s08|Acc=0.79167|10-CV=0.50917|STD=0.07777|Time spend=23.72538709640503\n",
      "Fitted sphere radius:         95.3 mm\n",
      "Origin head coordinates:      -0.8 15.1 45.3 mm\n",
      "Origin device coordinates:    -0.8 15.1 45.3 mm\n",
      "(60, 32, 65, 108)\n",
      "(60, 32, 65, 108)\n",
      "(60, 32, 65, 108)\n",
      "(60, 32, 65, 108)\n",
      "(60, 32, 65, 108)\n",
      "(60, 32, 65, 108)\n",
      "(60, 32, 65, 108)\n",
      "(60, 32, 65, 108)\n",
      "========= close ========\n",
      "\tAROUSAL-s09|Acc=0.75208|10-CV=0.5125|STD=0.08443|Time spend=20.087116241455078\n",
      "\tVALENCE-s09|Acc=0.77083|10-CV=0.65083|STD=0.08527|Time spend=21.139124155044556\n",
      "Fitted sphere radius:         95.3 mm\n",
      "Origin head coordinates:      -0.8 15.1 45.3 mm\n",
      "Origin device coordinates:    -0.8 15.1 45.3 mm\n",
      "(60, 32, 65, 108)\n",
      "(60, 32, 65, 108)\n",
      "(60, 32, 65, 108)\n",
      "(60, 32, 65, 108)\n",
      "(60, 32, 65, 108)\n",
      "(60, 32, 65, 108)\n",
      "(60, 32, 65, 108)\n",
      "(60, 32, 65, 108)\n",
      "========= close ========\n",
      "\tAROUSAL-s10|Acc=0.75417|10-CV=0.61667|STD=0.09923|Time spend=20.658341884613037\n",
      "\tVALENCE-s10|Acc=0.8375|10-CV=0.78583|STD=0.08685|Time spend=21.679450273513794\n",
      "Fitted sphere radius:         95.3 mm\n",
      "Origin head coordinates:      -0.8 15.1 45.3 mm\n",
      "Origin device coordinates:    -0.8 15.1 45.3 mm\n",
      "(60, 32, 65, 108)\n",
      "(60, 32, 65, 108)\n",
      "(60, 32, 65, 108)\n",
      "(60, 32, 65, 108)\n",
      "(60, 32, 65, 108)\n",
      "(60, 32, 65, 108)\n",
      "(60, 32, 65, 108)\n",
      "(60, 32, 65, 108)\n",
      "========= close ========\n",
      "\tAROUSAL-s11|Acc=0.66042|10-CV=0.56833|STD=0.04561|Time spend=19.26117968559265\n",
      "\tVALENCE-s11|Acc=0.7|10-CV=0.55417|STD=0.16|Time spend=20.40831232070923\n",
      "Fitted sphere radius:         95.3 mm\n",
      "Origin head coordinates:      -0.8 15.1 45.3 mm\n",
      "Origin device coordinates:    -0.8 15.1 45.3 mm\n",
      "(60, 32, 65, 108)\n",
      "(60, 32, 65, 108)\n",
      "(60, 32, 65, 108)\n",
      "(60, 32, 65, 108)\n",
      "(60, 32, 65, 108)\n",
      "(60, 32, 65, 108)\n",
      "(60, 32, 65, 108)\n",
      "(60, 32, 65, 108)\n",
      "========= close ========\n",
      "\tAROUSAL-s12|Acc=0.825|10-CV=0.83|STD=0.1005|Time spend=21.640957355499268\n",
      "\tVALENCE-s12|Acc=0.70833|10-CV=0.485|STD=0.14985|Time spend=22.910959482192993\n",
      "Fitted sphere radius:         95.3 mm\n",
      "Origin head coordinates:      -0.8 15.1 45.3 mm\n",
      "Origin device coordinates:    -0.8 15.1 45.3 mm\n",
      "(60, 32, 65, 108)\n",
      "(60, 32, 65, 108)\n",
      "(60, 32, 65, 108)\n",
      "(60, 32, 65, 108)\n",
      "(60, 32, 65, 108)\n",
      "(60, 32, 65, 108)\n",
      "(60, 32, 65, 108)\n",
      "(60, 32, 65, 108)\n",
      "========= close ========\n",
      "\tAROUSAL-s13|Acc=0.85|10-CV=0.84|STD=0.06633|Time spend=21.486917734146118\n",
      "\tVALENCE-s13|Acc=0.79375|10-CV=0.75083|STD=0.10065|Time spend=22.495346784591675\n",
      "Fitted sphere radius:         95.3 mm\n",
      "Origin head coordinates:      -0.8 15.1 45.3 mm\n",
      "Origin device coordinates:    -0.8 15.1 45.3 mm\n",
      "(60, 32, 65, 108)\n",
      "(60, 32, 65, 108)\n",
      "(60, 32, 65, 108)\n",
      "(60, 32, 65, 108)\n",
      "(60, 32, 65, 108)\n",
      "(60, 32, 65, 108)\n",
      "(60, 32, 65, 108)\n",
      "(60, 32, 65, 108)\n",
      "========= close ========\n",
      "\tAROUSAL-s14|Acc=0.68958|10-CV=0.62667|STD=0.0895|Time spend=19.055855989456177\n",
      "\tVALENCE-s14|Acc=0.78125|10-CV=0.70333|STD=0.0489|Time spend=20.36457848548889\n",
      "Fitted sphere radius:         95.3 mm\n",
      "Origin head coordinates:      -0.8 15.1 45.3 mm\n",
      "Origin device coordinates:    -0.8 15.1 45.3 mm\n",
      "(60, 32, 65, 108)\n",
      "(60, 32, 65, 108)\n",
      "(60, 32, 65, 108)\n",
      "(60, 32, 65, 108)\n",
      "(60, 32, 65, 108)\n",
      "(60, 32, 65, 108)\n",
      "(60, 32, 65, 108)\n",
      "(60, 32, 65, 108)\n",
      "========= close ========\n",
      "\tAROUSAL-s15|Acc=0.76667|10-CV=0.51917|STD=0.12721|Time spend=20.376665830612183\n",
      "\tVALENCE-s15|Acc=0.8625|10-CV=0.78083|STD=0.06872|Time spend=21.313650131225586\n",
      "Fitted sphere radius:         95.3 mm\n",
      "Origin head coordinates:      -0.8 15.1 45.3 mm\n",
      "Origin device coordinates:    -0.8 15.1 45.3 mm\n",
      "(60, 32, 65, 108)\n",
      "(60, 32, 65, 108)\n",
      "(60, 32, 65, 108)\n",
      "(60, 32, 65, 108)\n",
      "(60, 32, 65, 108)\n",
      "(60, 32, 65, 108)\n",
      "(60, 32, 65, 108)\n",
      "(60, 32, 65, 108)\n",
      "========= close ========\n",
      "\tAROUSAL-s16|Acc=0.73333|10-CV=0.45667|STD=0.08857|Time spend=20.29359197616577\n",
      "\tVALENCE-s16|Acc=0.74375|10-CV=0.65583|STD=0.10131|Time spend=21.51508069038391\n",
      "Fitted sphere radius:         95.3 mm\n",
      "Origin head coordinates:      -0.8 15.1 45.3 mm\n",
      "Origin device coordinates:    -0.8 15.1 45.3 mm\n",
      "(60, 32, 65, 108)\n",
      "(60, 32, 65, 108)\n",
      "(60, 32, 65, 108)\n",
      "(60, 32, 65, 108)\n",
      "(60, 32, 65, 108)\n",
      "(60, 32, 65, 108)\n",
      "(60, 32, 65, 108)\n",
      "(60, 32, 65, 108)\n",
      "========= close ========\n",
      "\tAROUSAL-s17|Acc=0.76042|10-CV=0.67333|STD=0.05188|Time spend=19.31131386756897\n",
      "\tVALENCE-s17|Acc=0.65625|10-CV=0.4425|STD=0.10629|Time spend=20.621327877044678\n",
      "Fitted sphere radius:         95.3 mm\n",
      "Origin head coordinates:      -0.8 15.1 45.3 mm\n",
      "Origin device coordinates:    -0.8 15.1 45.3 mm\n",
      "(60, 32, 65, 108)\n",
      "(60, 32, 65, 108)\n",
      "(60, 32, 65, 108)\n",
      "(60, 32, 65, 108)\n",
      "(60, 32, 65, 108)\n",
      "(60, 32, 65, 108)\n",
      "(60, 32, 65, 108)\n",
      "(60, 32, 65, 108)\n",
      "========= close ========\n",
      "\tAROUSAL-s18|Acc=0.65417|10-CV=0.515|STD=0.11766|Time spend=19.618492364883423\n",
      "\tVALENCE-s18|Acc=0.80625|10-CV=0.72833|STD=0.0669|Time spend=20.53207778930664\n",
      "Fitted sphere radius:         95.3 mm\n",
      "Origin head coordinates:      -0.8 15.1 45.3 mm\n",
      "Origin device coordinates:    -0.8 15.1 45.3 mm\n",
      "(60, 32, 65, 108)\n",
      "(60, 32, 65, 108)\n",
      "(60, 32, 65, 108)\n",
      "(60, 32, 65, 108)\n",
      "(60, 32, 65, 108)\n",
      "(60, 32, 65, 108)\n",
      "(60, 32, 65, 108)\n",
      "(60, 32, 65, 108)\n",
      "========= close ========\n",
      "\tAROUSAL-s19|Acc=0.76042|10-CV=0.62833|STD=0.10783|Time spend=19.525777339935303\n",
      "\tVALENCE-s19|Acc=0.7625|10-CV=0.51083|STD=0.1098|Time spend=20.759568214416504\n",
      "Fitted sphere radius:         95.3 mm\n",
      "Origin head coordinates:      -0.8 15.1 45.3 mm\n",
      "Origin device coordinates:    -0.8 15.1 45.3 mm\n",
      "(60, 32, 65, 108)\n",
      "(60, 32, 65, 108)\n",
      "(60, 32, 65, 108)\n",
      "(60, 32, 65, 108)\n",
      "(60, 32, 65, 108)\n",
      "(60, 32, 65, 108)\n",
      "(60, 32, 65, 108)\n",
      "(60, 32, 65, 108)\n",
      "========= close ========\n",
      "\tAROUSAL-s20|Acc=0.775|10-CV=0.82|STD=0.08718|Time spend=20.192778825759888\n",
      "\tVALENCE-s20|Acc=0.76875|10-CV=0.61833|STD=0.12404|Time spend=21.350922346115112\n",
      "Fitted sphere radius:         95.3 mm\n",
      "Origin head coordinates:      -0.8 15.1 45.3 mm\n",
      "Origin device coordinates:    -0.8 15.1 45.3 mm\n",
      "(60, 32, 65, 108)\n",
      "(60, 32, 65, 108)\n",
      "(60, 32, 65, 108)\n",
      "(60, 32, 65, 108)\n",
      "(60, 32, 65, 108)\n",
      "(60, 32, 65, 108)\n",
      "(60, 32, 65, 108)\n",
      "(60, 32, 65, 108)\n",
      "========= close ========\n",
      "\tAROUSAL-s21|Acc=0.8|10-CV=0.8|STD=0.1|Time spend=19.866053819656372\n",
      "\tVALENCE-s21|Acc=0.65208|10-CV=0.45167|STD=0.09688|Time spend=21.325355529785156\n",
      "Fitted sphere radius:         95.3 mm\n",
      "Origin head coordinates:      -0.8 15.1 45.3 mm\n",
      "Origin device coordinates:    -0.8 15.1 45.3 mm\n",
      "(60, 32, 65, 108)\n",
      "(60, 32, 65, 108)\n",
      "(60, 32, 65, 108)\n",
      "(60, 32, 65, 108)\n",
      "(60, 32, 65, 108)\n",
      "(60, 32, 65, 108)\n",
      "(60, 32, 65, 108)\n",
      "(60, 32, 65, 108)\n",
      "========= close ========\n",
      "\tAROUSAL-s22|Acc=0.62083|10-CV=0.59917|STD=0.06395|Time spend=18.66865563392639\n",
      "\tVALENCE-s22|Acc=0.75625|10-CV=0.68667|STD=0.06468|Time spend=19.818594694137573\n",
      "Fitted sphere radius:         95.3 mm\n",
      "Origin head coordinates:      -0.8 15.1 45.3 mm\n",
      "Origin device coordinates:    -0.8 15.1 45.3 mm\n",
      "(60, 32, 65, 108)\n",
      "(60, 32, 65, 108)\n",
      "(60, 32, 65, 108)\n",
      "(60, 32, 65, 108)\n",
      "(60, 32, 65, 108)\n",
      "(60, 32, 65, 108)\n",
      "(60, 32, 65, 108)\n",
      "(60, 32, 65, 108)\n",
      "========= close ========\n",
      "\tAROUSAL-s23|Acc=0.77708|10-CV=0.77917|STD=0.09699|Time spend=20.735186100006104\n",
      "\tVALENCE-s23|Acc=0.77083|10-CV=0.595|STD=0.13087|Time spend=21.928162097930908\n",
      "Fitted sphere radius:         95.3 mm\n",
      "Origin head coordinates:      -0.8 15.1 45.3 mm\n",
      "Origin device coordinates:    -0.8 15.1 45.3 mm\n",
      "(60, 32, 65, 108)\n",
      "(60, 32, 65, 108)\n",
      "(60, 32, 65, 108)\n",
      "(60, 32, 65, 108)\n",
      "(60, 32, 65, 108)\n",
      "(60, 32, 65, 108)\n",
      "(60, 32, 65, 108)\n",
      "(60, 32, 65, 108)\n",
      "========= close ========\n",
      "\tAROUSAL-s24|Acc=0.825|10-CV=0.82|STD=0.07483|Time spend=20.075361251831055\n",
      "\tVALENCE-s24|Acc=0.775|10-CV=0.59333|STD=0.08323|Time spend=21.235636472702026\n",
      "Fitted sphere radius:         95.3 mm\n",
      "Origin head coordinates:      -0.8 15.1 45.3 mm\n",
      "Origin device coordinates:    -0.8 15.1 45.3 mm\n",
      "(60, 32, 65, 108)\n",
      "(60, 32, 65, 108)\n",
      "(60, 32, 65, 108)\n",
      "(60, 32, 65, 108)\n",
      "(60, 32, 65, 108)\n",
      "(60, 32, 65, 108)\n",
      "(60, 32, 65, 108)\n",
      "(60, 32, 65, 108)\n",
      "========= close ========\n",
      "\tAROUSAL-s25|Acc=0.725|10-CV=0.74|STD=0.12806|Time spend=19.688595294952393\n",
      "\tVALENCE-s25|Acc=0.67708|10-CV=0.41833|STD=0.09929|Time spend=21.123258352279663\n",
      "Fitted sphere radius:         95.3 mm\n",
      "Origin head coordinates:      -0.8 15.1 45.3 mm\n",
      "Origin device coordinates:    -0.8 15.1 45.3 mm\n",
      "(60, 32, 65, 108)\n",
      "(60, 32, 65, 108)\n",
      "(60, 32, 65, 108)\n",
      "(60, 32, 65, 108)\n",
      "(60, 32, 65, 108)\n",
      "(60, 32, 65, 108)\n",
      "(60, 32, 65, 108)\n",
      "(60, 32, 65, 108)\n",
      "========= close ========\n",
      "\tAROUSAL-s26|Acc=0.7|10-CV=0.54833|STD=0.12052|Time spend=20.148219108581543\n",
      "\tVALENCE-s26|Acc=0.65208|10-CV=0.58667|STD=0.10905|Time spend=21.499465227127075\n",
      "Fitted sphere radius:         95.3 mm\n",
      "Origin head coordinates:      -0.8 15.1 45.3 mm\n",
      "Origin device coordinates:    -0.8 15.1 45.3 mm\n",
      "(60, 32, 65, 108)\n",
      "(60, 32, 65, 108)\n",
      "(60, 32, 65, 108)\n",
      "(60, 32, 65, 108)\n",
      "(60, 32, 65, 108)\n",
      "(60, 32, 65, 108)\n",
      "(60, 32, 65, 108)\n",
      "(60, 32, 65, 108)\n",
      "========= close ========\n",
      "\tAROUSAL-s27|Acc=0.80833|10-CV=0.63417|STD=0.1057|Time spend=21.024832487106323\n",
      "\tVALENCE-s27|Acc=0.75417|10-CV=0.65583|STD=0.10782|Time spend=22.052852869033813\n",
      "Fitted sphere radius:         95.3 mm\n",
      "Origin head coordinates:      -0.8 15.1 45.3 mm\n",
      "Origin device coordinates:    -0.8 15.1 45.3 mm\n",
      "(60, 32, 65, 108)\n",
      "(60, 32, 65, 108)\n",
      "(60, 32, 65, 108)\n",
      "(60, 32, 65, 108)\n",
      "(60, 32, 65, 108)\n",
      "(60, 32, 65, 108)\n",
      "(60, 32, 65, 108)\n",
      "(60, 32, 65, 108)\n",
      "========= close ========\n",
      "\tAROUSAL-s28|Acc=0.6625|10-CV=0.51583|STD=0.10311|Time spend=20.089028120040894\n",
      "\tVALENCE-s28|Acc=0.69375|10-CV=0.4975|STD=0.09332|Time spend=21.484459161758423\n",
      "Fitted sphere radius:         95.3 mm\n",
      "Origin head coordinates:      -0.8 15.1 45.3 mm\n",
      "Origin device coordinates:    -0.8 15.1 45.3 mm\n",
      "(60, 32, 65, 108)\n",
      "(60, 32, 65, 108)\n",
      "(60, 32, 65, 108)\n",
      "(60, 32, 65, 108)\n",
      "(60, 32, 65, 108)\n",
      "(60, 32, 65, 108)\n",
      "(60, 32, 65, 108)\n",
      "(60, 32, 65, 108)\n",
      "========= close ========\n",
      "\tAROUSAL-s29|Acc=0.72083|10-CV=0.55083|STD=0.09714|Time spend=19.51984930038452\n",
      "\tVALENCE-s29|Acc=0.7125|10-CV=0.58667|STD=0.07757|Time spend=20.950405597686768\n",
      "Fitted sphere radius:         95.3 mm\n",
      "Origin head coordinates:      -0.8 15.1 45.3 mm\n",
      "Origin device coordinates:    -0.8 15.1 45.3 mm\n",
      "(60, 32, 65, 108)\n",
      "(60, 32, 65, 108)\n",
      "(60, 32, 65, 108)\n",
      "(60, 32, 65, 108)\n",
      "(60, 32, 65, 108)\n",
      "(60, 32, 65, 108)\n",
      "(60, 32, 65, 108)\n",
      "(60, 32, 65, 108)\n",
      "========= close ========\n",
      "\tAROUSAL-s30|Acc=0.67708|10-CV=0.46667|STD=0.09825|Time spend=21.15278172492981\n",
      "\tVALENCE-s30|Acc=0.675|10-CV=0.61333|STD=0.14468|Time spend=22.355525493621826\n",
      "Fitted sphere radius:         95.3 mm\n",
      "Origin head coordinates:      -0.8 15.1 45.3 mm\n",
      "Origin device coordinates:    -0.8 15.1 45.3 mm\n",
      "(60, 32, 65, 108)\n",
      "(60, 32, 65, 108)\n",
      "(60, 32, 65, 108)\n",
      "(60, 32, 65, 108)\n",
      "(60, 32, 65, 108)\n",
      "(60, 32, 65, 108)\n",
      "(60, 32, 65, 108)\n",
      "(60, 32, 65, 108)\n",
      "========= close ========\n",
      "\tAROUSAL-s31|Acc=0.81667|10-CV=0.54167|STD=0.12489|Time spend=21.84752917289734\n",
      "\tVALENCE-s31|Acc=0.75208|10-CV=0.5025|STD=0.11978|Time spend=23.51412558555603\n",
      "Fitted sphere radius:         95.3 mm\n",
      "Origin head coordinates:      -0.8 15.1 45.3 mm\n",
      "Origin device coordinates:    -0.8 15.1 45.3 mm\n",
      "(60, 32, 65, 108)\n",
      "(60, 32, 65, 108)\n",
      "(60, 32, 65, 108)\n",
      "(60, 32, 65, 108)\n",
      "(60, 32, 65, 108)\n",
      "(60, 32, 65, 108)\n",
      "(60, 32, 65, 108)\n",
      "(60, 32, 65, 108)\n",
      "========= close ========\n",
      "\tAROUSAL-s32|Acc=0.71042|10-CV=0.68083|STD=0.09604|Time spend=20.570523023605347\n",
      "\tVALENCE-s32|Acc=0.68958|10-CV=0.51833|STD=0.08849|Time spend=22.0887508392334\n",
      "AROUSAL|Acc=0.7406250000000001|10-CV=0.614609375|STD=0.1014328447850321\n",
      "VALENCE|Acc=0.7434895833333334|10-CV=0.5995052083333334|STD=0.10181722853306105\n"
     ]
    }
   ],
   "source": [
    "accs, cv_means, cv_stds = [],[],[]\n",
    "accs_v, cv_means_v, cv_stds_v = [],[],[]\n",
    "reports = []\n",
    "for filename in (pbar := tqdm(dataset.get_file_list())):\n",
    "    start = time.time()\n",
    "    pbar.set_description(filename)\n",
    "    data, labels, groups = dataset.get_data(filename, stimuli=Dataset_subjectDependent.STIMULI_AROUSAL, return_type='mne', sfreq=128)\n",
    "    \n",
    "    data_csd = mne.preprocessing.compute_current_source_density(data)\n",
    "\n",
    "    plv = calculate_plv(data_csd.get_data(), n_jobs=8)\n",
    "\n",
    "    _,acc,cross,train_report = train_model(plv, labels.squeeze(), groups, filename=filename, return_text=True)\n",
    "    report = f\"\\tAROUSAL-{filename}|Acc={round(acc,5)}|10-CV={round(cross.mean(),5)}|STD={round(cross.std(),5)}|Time spend={time.time() - start}\"\n",
    "    print(report)\n",
    "    reports.append(report)\n",
    "    reports.append(train_report)\n",
    "    accs.append(acc)\n",
    "    cv_means.append(cross.mean())\n",
    "    cv_stds.append(cross.std())\n",
    "\n",
    "    _, labels_v, groups_v = dataset.get_data(filename, stimuli=Dataset_subjectDependent.STIMULI_VALENCE, return_type='mne', sfreq=128)\n",
    "    _,acc,cross,train_report = train_model(plv, labels_v.squeeze(), groups_v, filename=filename, return_text=True)\n",
    "    report = f\"\\tVALENCE-{filename}|Acc={round(acc,5)}|10-CV={round(cross.mean(),5)}|STD={round(cross.std(),5)}|Time spend={time.time() - start}\"\n",
    "    print(report)\n",
    "    reports.append(report)\n",
    "    reports.append(train_report)\n",
    "    accs_v.append(acc)\n",
    "    cv_means_v.append(cross.mean())\n",
    "    cv_stds_v.append(cross.std())\n",
    "    # break\n",
    "    # count+=1\n",
    "    # if(count == 5): break\n",
    "report = f\"AROUSAL|Acc={sum(accs)/len(accs)}|10-CV={sum(cv_means)/len(cv_means)}|STD={sum(cv_stds)/len(cv_stds)}\"\n",
    "print(report)\n",
    "reports.append(report)\n",
    "report = f\"VALENCE|Acc={sum(accs_v)/len(accs_v)}|10-CV={sum(cv_means_v)/len(cv_means_v)}|STD={sum(cv_stds_v)/len(cv_stds_v)}\"\n",
    "print(report)\n",
    "reports.append(report)"
   ]
  },
  {
   "cell_type": "code",
   "execution_count": 15,
   "metadata": {},
   "outputs": [
    {
     "name": "stdout",
     "output_type": "stream",
     "text": [
      "\tAROUSAL-s01|Acc=0.82917|10-CV=0.55333|STD=0.15056|Time spend=20.170716285705566\n",
      "\tVALENCE-s01|Acc=0.83542|10-CV=0.50417|STD=0.07649|Time spend=21.45978832244873\n",
      "\tAROUSAL-s02|Acc=0.69375|10-CV=0.53917|STD=0.0986|Time spend=19.380507230758667\n",
      "\tVALENCE-s02|Acc=0.7375|10-CV=0.675|STD=0.10382|Time spend=20.545986890792847\n",
      "\tAROUSAL-s03|Acc=0.8|10-CV=0.73|STD=0.15524|Time spend=20.70134401321411\n",
      "-----WARNING: Model s03 failed to learn: sum(ans)=0.0 sum(y)=96.0 len(y)=480\n",
      "\tVALENCE-s03|Acc=0.76875|10-CV=0.60417|STD=0.19|Time spend=21.97966456413269\n",
      "\tAROUSAL-s04|Acc=0.72083|10-CV=0.575|STD=0.11625|Time spend=20.311432361602783\n",
      "\tVALENCE-s04|Acc=0.73333|10-CV=0.58833|STD=0.07621|Time spend=21.449374198913574\n",
      "\tAROUSAL-s05|Acc=0.6875|10-CV=0.46333|STD=0.11206|Time spend=27.055453777313232\n",
      "\tVALENCE-s05|Acc=0.63958|10-CV=0.55083|STD=0.08862|Time spend=28.39096713066101\n",
      "\tAROUSAL-s06|Acc=0.625|10-CV=0.50917|STD=0.13299|Time spend=20.302172660827637\n",
      "\tVALENCE-s06|Acc=0.75|10-CV=0.72|STD=0.07483|Time spend=21.37359046936035\n",
      "-----WARNING: Model s06 failed to learn: sum(ans)=480.0 sum(y)=360.0 len(y)=480\n",
      "\tAROUSAL-s07|Acc=0.74375|10-CV=0.6025|STD=0.08756|Time spend=20.61197590827942\n",
      "\tVALENCE-s07|Acc=0.78333|10-CV=0.66|STD=0.14614|Time spend=21.690230131149292\n",
      "\tAROUSAL-s08|Acc=0.775|10-CV=0.41167|STD=0.11715|Time spend=22.41219687461853\n",
      "\tVALENCE-s08|Acc=0.79167|10-CV=0.50917|STD=0.07777|Time spend=23.72538709640503\n",
      "\tAROUSAL-s09|Acc=0.75208|10-CV=0.5125|STD=0.08443|Time spend=20.087116241455078\n",
      "\tVALENCE-s09|Acc=0.77083|10-CV=0.65083|STD=0.08527|Time spend=21.139124155044556\n",
      "\tAROUSAL-s10|Acc=0.75417|10-CV=0.61667|STD=0.09923|Time spend=20.658341884613037\n",
      "\tVALENCE-s10|Acc=0.8375|10-CV=0.78583|STD=0.08685|Time spend=21.679450273513794\n",
      "\tAROUSAL-s11|Acc=0.66042|10-CV=0.56833|STD=0.04561|Time spend=19.26117968559265\n",
      "\tVALENCE-s11|Acc=0.7|10-CV=0.55417|STD=0.16|Time spend=20.40831232070923\n",
      "\tAROUSAL-s12|Acc=0.825|10-CV=0.83|STD=0.1005|Time spend=21.640957355499268\n",
      "-----WARNING: Model s12 failed to learn: sum(ans)=480.0 sum(y)=396.0 len(y)=480\n",
      "\tVALENCE-s12|Acc=0.70833|10-CV=0.485|STD=0.14985|Time spend=22.910959482192993\n",
      "\tAROUSAL-s13|Acc=0.85|10-CV=0.84|STD=0.06633|Time spend=21.486917734146118\n",
      "-----WARNING: Model s13 failed to learn: sum(ans)=480.0 sum(y)=408.0 len(y)=480\n",
      "\tVALENCE-s13|Acc=0.79375|10-CV=0.75083|STD=0.10065|Time spend=22.495346784591675\n",
      "\tAROUSAL-s14|Acc=0.68958|10-CV=0.62667|STD=0.0895|Time spend=19.055855989456177\n",
      "\tVALENCE-s14|Acc=0.78125|10-CV=0.70333|STD=0.0489|Time spend=20.36457848548889\n",
      "\tAROUSAL-s15|Acc=0.76667|10-CV=0.51917|STD=0.12721|Time spend=20.376665830612183\n",
      "\tVALENCE-s15|Acc=0.8625|10-CV=0.78083|STD=0.06872|Time spend=21.313650131225586\n",
      "\tAROUSAL-s16|Acc=0.73333|10-CV=0.45667|STD=0.08857|Time spend=20.29359197616577\n",
      "\tVALENCE-s16|Acc=0.74375|10-CV=0.65583|STD=0.10131|Time spend=21.51508069038391\n",
      "\tAROUSAL-s17|Acc=0.76042|10-CV=0.67333|STD=0.05188|Time spend=19.31131386756897\n",
      "\tVALENCE-s17|Acc=0.65625|10-CV=0.4425|STD=0.10629|Time spend=20.621327877044678\n",
      "\tAROUSAL-s18|Acc=0.65417|10-CV=0.515|STD=0.11766|Time spend=19.618492364883423\n",
      "\tVALENCE-s18|Acc=0.80625|10-CV=0.72833|STD=0.0669|Time spend=20.53207778930664\n",
      "\tAROUSAL-s19|Acc=0.76042|10-CV=0.62833|STD=0.10783|Time spend=19.525777339935303\n",
      "\tVALENCE-s19|Acc=0.7625|10-CV=0.51083|STD=0.1098|Time spend=20.759568214416504\n",
      "\tAROUSAL-s20|Acc=0.775|10-CV=0.82|STD=0.08718|Time spend=20.192778825759888\n",
      "-----WARNING: Model s20 failed to learn: sum(ans)=480.0 sum(y)=372.0 len(y)=480\n",
      "\tVALENCE-s20|Acc=0.76875|10-CV=0.61833|STD=0.12404|Time spend=21.350922346115112\n",
      "\tAROUSAL-s21|Acc=0.8|10-CV=0.8|STD=0.1|Time spend=19.866053819656372\n",
      "-----WARNING: Model s21 failed to learn: sum(ans)=480.0 sum(y)=384.0 len(y)=480\n",
      "\tVALENCE-s21|Acc=0.65208|10-CV=0.45167|STD=0.09688|Time spend=21.325355529785156\n",
      "\tAROUSAL-s22|Acc=0.62083|10-CV=0.59917|STD=0.06395|Time spend=18.66865563392639\n",
      "\tVALENCE-s22|Acc=0.75625|10-CV=0.68667|STD=0.06468|Time spend=19.818594694137573\n",
      "\tAROUSAL-s23|Acc=0.77708|10-CV=0.77917|STD=0.09699|Time spend=20.735186100006104\n",
      "\tVALENCE-s23|Acc=0.77083|10-CV=0.595|STD=0.13087|Time spend=21.928162097930908\n",
      "\tAROUSAL-s24|Acc=0.825|10-CV=0.82|STD=0.07483|Time spend=20.075361251831055\n",
      "-----WARNING: Model s24 failed to learn: sum(ans)=480.0 sum(y)=396.0 len(y)=480\n",
      "\tVALENCE-s24|Acc=0.775|10-CV=0.59333|STD=0.08323|Time spend=21.235636472702026\n",
      "\tAROUSAL-s25|Acc=0.725|10-CV=0.74|STD=0.12806|Time spend=19.688595294952393\n",
      "-----WARNING: Model s25 failed to learn: sum(ans)=480.0 sum(y)=348.0 len(y)=480\n",
      "\tVALENCE-s25|Acc=0.67708|10-CV=0.41833|STD=0.09929|Time spend=21.123258352279663\n",
      "\tAROUSAL-s26|Acc=0.7|10-CV=0.54833|STD=0.12052|Time spend=20.148219108581543\n",
      "\tVALENCE-s26|Acc=0.65208|10-CV=0.58667|STD=0.10905|Time spend=21.499465227127075\n",
      "\tAROUSAL-s27|Acc=0.80833|10-CV=0.63417|STD=0.1057|Time spend=21.024832487106323\n",
      "\tVALENCE-s27|Acc=0.75417|10-CV=0.65583|STD=0.10782|Time spend=22.052852869033813\n",
      "\tAROUSAL-s28|Acc=0.6625|10-CV=0.51583|STD=0.10311|Time spend=20.089028120040894\n",
      "\tVALENCE-s28|Acc=0.69375|10-CV=0.4975|STD=0.09332|Time spend=21.484459161758423\n",
      "\tAROUSAL-s29|Acc=0.72083|10-CV=0.55083|STD=0.09714|Time spend=19.51984930038452\n",
      "\tVALENCE-s29|Acc=0.7125|10-CV=0.58667|STD=0.07757|Time spend=20.950405597686768\n",
      "\tAROUSAL-s30|Acc=0.67708|10-CV=0.46667|STD=0.09825|Time spend=21.15278172492981\n",
      "\tVALENCE-s30|Acc=0.675|10-CV=0.61333|STD=0.14468|Time spend=22.355525493621826\n",
      "-----WARNING: Model s30 failed to learn: sum(ans)=480.0 sum(y)=324.0 len(y)=480\n",
      "\tAROUSAL-s31|Acc=0.81667|10-CV=0.54167|STD=0.12489|Time spend=21.84752917289734\n",
      "\tVALENCE-s31|Acc=0.75208|10-CV=0.5025|STD=0.11978|Time spend=23.51412558555603\n",
      "\tAROUSAL-s32|Acc=0.71042|10-CV=0.68083|STD=0.09604|Time spend=20.570523023605347\n",
      "\tVALENCE-s32|Acc=0.68958|10-CV=0.51833|STD=0.08849|Time spend=22.0887508392334\n",
      "AROUSAL|Acc=0.7406250000000001|10-CV=0.614609375|STD=0.1014328447850321\n",
      "VALENCE|Acc=0.7434895833333334|10-CV=0.5995052083333334|STD=0.10181722853306105\n",
      "TOTAL|Acc=0.7420572916666667|10-CV=0.6070572916666668|STD=0.10162503665904658\n"
     ]
    }
   ],
   "source": [
    "for text in reports:\n",
    "    if(text == None): continue\n",
    "    print(text)\n",
    "\n",
    "accs.extend(accs_v)\n",
    "cv_means.extend(cv_means_v)\n",
    "cv_stds.extend(cv_stds_v)\n",
    "print(f\"TOTAL|Acc={sum(accs)/len(accs)}|10-CV={sum(cv_means)/len(cv_means)}|STD={sum(cv_stds)/len(cv_stds)}\")"
   ]
  },
  {
   "cell_type": "markdown",
   "metadata": {},
   "source": [
    "### 4.4 $ \\text{PLI}(j,k) =  \\frac{1}{T} | \\Sigma^{T}_{t=1} \\text{sign}(Im[e^{i (\\phi^{t}_{j} - \\phi^{t}_{k})}])  | $"
   ]
  },
  {
   "cell_type": "code",
   "execution_count": 16,
   "metadata": {},
   "outputs": [],
   "source": [
    "# bands = [(0,4), (4,8), (8,12), (12,30), (30,64)]\n",
    "def calculate_stft(signals, sfreq):\n",
    "    from scipy import signal\n",
    "    f_range, t_range, Z = signal.stft(signals, sfreq, nperseg=sfreq//10, nfft=sfreq)\n",
    "    magnitude = np.abs(Z) \n",
    "    phase = np.angle(Z)\n",
    "    return magnitude, phase, f_range, t_range\n",
    "\n",
    "def PLI_stft(p_id, phase):\n",
    "    # (32, 65, 12) => (channels, freqs, times)\n",
    "    # print(f\"p_id:{p_id} - data to run {phase.shape}\")\n",
    "    from itertools import combinations\n",
    "    pli = []\n",
    "    # count = 0\n",
    "    for index in range(phase.shape[0]):\n",
    "        pli_epoch = []\n",
    "        for comb in combinations(list(range(phase.shape[1])), 2):\n",
    "            # shape = (65,12)\n",
    "            phase_a, phase_b = phase[index, comb[0]], phase[index, comb[1]]\n",
    "            phase_diff = phase_a - phase_b\n",
    "            # sum along the time size\n",
    "            pli_ab = np.abs(np.average(   np.sign(np.imag(   np.exp(complex(0,1) * phase_diff) ))  , axis=1))\n",
    "            pli_epoch.append(pli_ab)\n",
    "        pli_epoch = np.vstack(pli_epoch)\n",
    "        pli_epoch_5 = np.concatenate([ pli_epoch[:,0:4].mean(axis=1).reshape(-1,1),\n",
    "                                        pli_epoch[:,4:8].mean(axis=1).reshape(-1,1),\n",
    "                                        pli_epoch[:,8:12].mean(axis=1).reshape(-1,1),\n",
    "                                        pli_epoch[:,12:30].mean(axis=1).reshape(-1,1),\n",
    "                                        pli_epoch[:,30:65].mean(axis=1).reshape(-1,1)], axis=0)\n",
    "        pli.append(np.expand_dims(pli_epoch_5, axis=0))\n",
    "        # count += 1\n",
    "        # if(count == 3): break\n",
    "    # shape (496, 65)\n",
    "    # 496 is number of pairs that is not duplicate\n",
    "    # 65 is number of phase of frequencies\n",
    "    pli = np.vstack( pli )\n",
    "    return pli.squeeze()\n",
    "\n",
    "def calculate_pli(data, n_jobs=8):\n",
    "    \"\"\" \n",
    "    Input: Expect data to have (n_epochs, n_channels, n_samples)\n",
    "    Output: (n_epochs, n_conn, n_freqs ) => n_conn = n_channels!/(2!(n_channels-2)!)\n",
    "    \"\"\"\n",
    "    from multiprocessing import Pool\n",
    "\n",
    "    try:\n",
    "        t_out = 60000\n",
    "        pool = Pool()\n",
    "        p_list = []\n",
    "        ans_list = []\n",
    "        num_p = n_jobs\n",
    "        indices = np.array_split(np.arange(data.shape[0]), num_p)\n",
    "        _, phase, _, _ = calculate_stft(data, 128)\n",
    "        for p_id in range(num_p):\n",
    "            p_list.append(pool.apply_async(PLI_stft, [p_id, phase[indices[p_id]] ]))\n",
    "        for p_id in range(num_p):\n",
    "            ans_list.append( p_list[p_id].get(timeout=t_out) )\n",
    "        # ans_list\n",
    "    finally:\n",
    "        print(\"========= close ========\")\n",
    "        pool.close() \n",
    "        pool.terminate()\n",
    "    return np.vstack(ans_list)\n"
   ]
  },
  {
   "cell_type": "code",
   "execution_count": 17,
   "metadata": {},
   "outputs": [
    {
     "data": {
      "application/vnd.jupyter.widget-view+json": {
       "model_id": "9cf63667a5a84cc2b856e7af650fe3fa",
       "version_major": 2,
       "version_minor": 0
      },
      "text/plain": [
       "  0%|          | 0/32 [00:00<?, ?it/s]"
      ]
     },
     "metadata": {},
     "output_type": "display_data"
    },
    {
     "name": "stdout",
     "output_type": "stream",
     "text": [
      "Fitted sphere radius:         95.3 mm\n",
      "Origin head coordinates:      -0.8 15.1 45.3 mm\n",
      "Origin device coordinates:    -0.8 15.1 45.3 mm\n",
      "========= close ========\n",
      "\tAROUSAL-s01|Acc=0.93542|10-CV=0.53083|STD=0.13224|Time spend=30.117353677749634\n",
      "\tVALENCE-s01|Acc=0.99792|10-CV=0.44917|STD=0.06174|Time spend=31.743388175964355\n",
      "Fitted sphere radius:         95.3 mm\n",
      "Origin head coordinates:      -0.8 15.1 45.3 mm\n",
      "Origin device coordinates:    -0.8 15.1 45.3 mm\n",
      "========= close ========\n",
      "\tAROUSAL-s02|Acc=0.87083|10-CV=0.53833|STD=0.09378|Time spend=32.36420011520386\n",
      "\tVALENCE-s02|Acc=0.93333|10-CV=0.48583|STD=0.10872|Time spend=34.24181032180786\n",
      "Fitted sphere radius:         95.3 mm\n",
      "Origin head coordinates:      -0.8 15.1 45.3 mm\n",
      "Origin device coordinates:    -0.8 15.1 45.3 mm\n",
      "========= close ========\n",
      "\tAROUSAL-s03|Acc=0.84167|10-CV=0.73|STD=0.15524|Time spend=27.616836309432983\n",
      "\tVALENCE-s03|Acc=0.9875|10-CV=0.43583|STD=0.11938|Time spend=29.4894061088562\n",
      "Fitted sphere radius:         95.3 mm\n",
      "Origin head coordinates:      -0.8 15.1 45.3 mm\n",
      "Origin device coordinates:    -0.8 15.1 45.3 mm\n",
      "========= close ========\n",
      "\tAROUSAL-s04|Acc=0.85|10-CV=0.53667|STD=0.15412|Time spend=25.07441520690918\n",
      "\tVALENCE-s04|Acc=0.80208|10-CV=0.50333|STD=0.14697|Time spend=26.63633632659912\n",
      "Fitted sphere radius:         95.3 mm\n",
      "Origin head coordinates:      -0.8 15.1 45.3 mm\n",
      "Origin device coordinates:    -0.8 15.1 45.3 mm\n",
      "========= close ========\n",
      "\tAROUSAL-s05|Acc=0.84375|10-CV=0.4175|STD=0.09468|Time spend=20.79804801940918\n",
      "\tVALENCE-s05|Acc=0.73333|10-CV=0.56667|STD=0.09098|Time spend=22.467103719711304\n",
      "Fitted sphere radius:         95.3 mm\n",
      "Origin head coordinates:      -0.8 15.1 45.3 mm\n",
      "Origin device coordinates:    -0.8 15.1 45.3 mm\n",
      "========= close ========\n",
      "\tAROUSAL-s06|Acc=0.96667|10-CV=0.51083|STD=0.12265|Time spend=21.15766668319702\n",
      "\tVALENCE-s06|Acc=0.84792|10-CV=0.72|STD=0.07483|Time spend=22.839406490325928\n",
      "Fitted sphere radius:         95.3 mm\n",
      "Origin head coordinates:      -0.8 15.1 45.3 mm\n",
      "Origin device coordinates:    -0.8 15.1 45.3 mm\n",
      "========= close ========\n",
      "\tAROUSAL-s07|Acc=0.95|10-CV=0.625|STD=0.11087|Time spend=23.064326524734497\n",
      "\tVALENCE-s07|Acc=0.91458|10-CV=0.69|STD=0.13748|Time spend=24.726770162582397\n",
      "Fitted sphere radius:         95.3 mm\n",
      "Origin head coordinates:      -0.8 15.1 45.3 mm\n",
      "Origin device coordinates:    -0.8 15.1 45.3 mm\n",
      "========= close ========\n",
      "\tAROUSAL-s08|Acc=0.98958|10-CV=0.45417|STD=0.11219|Time spend=22.223471879959106\n",
      "\tVALENCE-s08|Acc=0.98958|10-CV=0.495|STD=0.08805|Time spend=24.161262273788452\n",
      "Fitted sphere radius:         95.3 mm\n",
      "Origin head coordinates:      -0.8 15.1 45.3 mm\n",
      "Origin device coordinates:    -0.8 15.1 45.3 mm\n",
      "========= close ========\n",
      "\tAROUSAL-s09|Acc=0.82292|10-CV=0.53833|STD=0.11915|Time spend=22.214662790298462\n",
      "\tVALENCE-s09|Acc=0.95208|10-CV=0.39583|STD=0.11482|Time spend=23.96402072906494\n",
      "Fitted sphere radius:         95.3 mm\n",
      "Origin head coordinates:      -0.8 15.1 45.3 mm\n",
      "Origin device coordinates:    -0.8 15.1 45.3 mm\n",
      "========= close ========\n",
      "\tAROUSAL-s10|Acc=0.98542|10-CV=0.465|STD=0.06053|Time spend=20.86627769470215\n",
      "\tVALENCE-s10|Acc=0.96875|10-CV=0.43917|STD=0.14559|Time spend=22.5282781124115\n",
      "Fitted sphere radius:         95.3 mm\n",
      "Origin head coordinates:      -0.8 15.1 45.3 mm\n",
      "Origin device coordinates:    -0.8 15.1 45.3 mm\n",
      "========= close ========\n",
      "\tAROUSAL-s11|Acc=0.8625|10-CV=0.59833|STD=0.05855|Time spend=21.12434697151184\n",
      "\tVALENCE-s11|Acc=0.88125|10-CV=0.54167|STD=0.14968|Time spend=22.87058162689209\n",
      "Fitted sphere radius:         95.3 mm\n",
      "Origin head coordinates:      -0.8 15.1 45.3 mm\n",
      "Origin device coordinates:    -0.8 15.1 45.3 mm\n",
      "========= close ========\n",
      "\tAROUSAL-s12|Acc=0.84792|10-CV=0.83|STD=0.1005|Time spend=20.635857582092285\n",
      "\tVALENCE-s12|Acc=0.99375|10-CV=0.4475|STD=0.12366|Time spend=22.53421974182129\n",
      "Fitted sphere radius:         95.3 mm\n",
      "Origin head coordinates:      -0.8 15.1 45.3 mm\n",
      "Origin device coordinates:    -0.8 15.1 45.3 mm\n",
      "========= close ========\n",
      "\tAROUSAL-s13|Acc=0.8875|10-CV=0.84|STD=0.06633|Time spend=20.15385365486145\n",
      "\tVALENCE-s13|Acc=0.95833|10-CV=0.52|STD=0.10396|Time spend=21.7208468914032\n",
      "Fitted sphere radius:         95.3 mm\n",
      "Origin head coordinates:      -0.8 15.1 45.3 mm\n",
      "Origin device coordinates:    -0.8 15.1 45.3 mm\n",
      "========= close ========\n",
      "\tAROUSAL-s14|Acc=0.87917|10-CV=0.64917|STD=0.10127|Time spend=21.520516633987427\n",
      "\tVALENCE-s14|Acc=0.97292|10-CV=0.41417|STD=0.08334|Time spend=23.256375312805176\n",
      "Fitted sphere radius:         95.3 mm\n",
      "Origin head coordinates:      -0.8 15.1 45.3 mm\n",
      "Origin device coordinates:    -0.8 15.1 45.3 mm\n",
      "========= close ========\n",
      "\tAROUSAL-s15|Acc=0.98958|10-CV=0.43667|STD=0.0871|Time spend=21.967949867248535\n",
      "\tVALENCE-s15|Acc=0.99167|10-CV=0.48833|STD=0.08734|Time spend=23.55262589454651\n",
      "Fitted sphere radius:         95.3 mm\n",
      "Origin head coordinates:      -0.8 15.1 45.3 mm\n",
      "Origin device coordinates:    -0.8 15.1 45.3 mm\n",
      "========= close ========\n",
      "\tAROUSAL-s16|Acc=0.99792|10-CV=0.3525|STD=0.09516|Time spend=21.766683101654053\n",
      "\tVALENCE-s16|Acc=0.95208|10-CV=0.6325|STD=0.09208|Time spend=23.418339252471924\n",
      "Fitted sphere radius:         95.3 mm\n",
      "Origin head coordinates:      -0.8 15.1 45.3 mm\n",
      "Origin device coordinates:    -0.8 15.1 45.3 mm\n",
      "========= close ========\n",
      "\tAROUSAL-s17|Acc=0.84167|10-CV=0.555|STD=0.08726|Time spend=20.25544047355652\n",
      "\tVALENCE-s17|Acc=0.92917|10-CV=0.46417|STD=0.09889|Time spend=21.93277072906494\n",
      "Fitted sphere radius:         95.3 mm\n",
      "Origin head coordinates:      -0.8 15.1 45.3 mm\n",
      "Origin device coordinates:    -0.8 15.1 45.3 mm\n",
      "========= close ========\n",
      "\tAROUSAL-s18|Acc=0.88333|10-CV=0.55583|STD=0.10409|Time spend=28.53818440437317\n",
      "\tVALENCE-s18|Acc=0.92292|10-CV=0.52917|STD=0.12395|Time spend=30.20479965209961\n",
      "Fitted sphere radius:         95.3 mm\n",
      "Origin head coordinates:      -0.8 15.1 45.3 mm\n",
      "Origin device coordinates:    -0.8 15.1 45.3 mm\n",
      "========= close ========\n",
      "\tAROUSAL-s19|Acc=0.68542|10-CV=0.62|STD=0.11662|Time spend=21.77526569366455\n",
      "\tVALENCE-s19|Acc=0.77917|10-CV=0.42333|STD=0.11333|Time spend=23.38954758644104\n",
      "Fitted sphere radius:         95.3 mm\n",
      "Origin head coordinates:      -0.8 15.1 45.3 mm\n",
      "Origin device coordinates:    -0.8 15.1 45.3 mm\n",
      "========= close ========\n",
      "\tAROUSAL-s20|Acc=0.87292|10-CV=0.82|STD=0.08718|Time spend=21.986552953720093\n",
      "\tVALENCE-s20|Acc=0.97708|10-CV=0.46583|STD=0.14997|Time spend=23.516529083251953\n",
      "Fitted sphere radius:         95.3 mm\n",
      "Origin head coordinates:      -0.8 15.1 45.3 mm\n",
      "Origin device coordinates:    -0.8 15.1 45.3 mm\n",
      "========= close ========\n",
      "\tAROUSAL-s21|Acc=0.82708|10-CV=0.8|STD=0.1|Time spend=19.902320623397827\n",
      "\tVALENCE-s21|Acc=0.97292|10-CV=0.40333|STD=0.08021|Time spend=21.419883251190186\n",
      "Fitted sphere radius:         95.3 mm\n",
      "Origin head coordinates:      -0.8 15.1 45.3 mm\n",
      "Origin device coordinates:    -0.8 15.1 45.3 mm\n",
      "========= close ========\n",
      "\tAROUSAL-s22|Acc=0.84167|10-CV=0.57667|STD=0.03412|Time spend=21.040405750274658\n",
      "\tVALENCE-s22|Acc=0.88958|10-CV=0.505|STD=0.08385|Time spend=22.530121564865112\n",
      "Fitted sphere radius:         95.3 mm\n",
      "Origin head coordinates:      -0.8 15.1 45.3 mm\n",
      "Origin device coordinates:    -0.8 15.1 45.3 mm\n",
      "========= close ========\n",
      "\tAROUSAL-s23|Acc=0.925|10-CV=0.78|STD=0.09798|Time spend=20.14727210998535\n",
      "\tVALENCE-s23|Acc=0.97292|10-CV=0.6025|STD=0.13804|Time spend=21.597218990325928\n",
      "Fitted sphere radius:         95.3 mm\n",
      "Origin head coordinates:      -0.8 15.1 45.3 mm\n",
      "Origin device coordinates:    -0.8 15.1 45.3 mm\n",
      "========= close ========\n",
      "\tAROUSAL-s24|Acc=0.82708|10-CV=0.82|STD=0.07483|Time spend=19.331063508987427\n",
      "\tVALENCE-s24|Acc=0.94792|10-CV=0.42917|STD=0.1529|Time spend=20.853896856307983\n",
      "Fitted sphere radius:         95.3 mm\n",
      "Origin head coordinates:      -0.8 15.1 45.3 mm\n",
      "Origin device coordinates:    -0.8 15.1 45.3 mm\n",
      "========= close ========\n",
      "\tAROUSAL-s25|Acc=0.79167|10-CV=0.73917|STD=0.12638|Time spend=21.036564826965332\n",
      "\tVALENCE-s25|Acc=0.93333|10-CV=0.41083|STD=0.09818|Time spend=22.726622343063354\n",
      "Fitted sphere radius:         95.3 mm\n",
      "Origin head coordinates:      -0.8 15.1 45.3 mm\n",
      "Origin device coordinates:    -0.8 15.1 45.3 mm\n",
      "========= close ========\n",
      "\tAROUSAL-s26|Acc=0.95|10-CV=0.50333|STD=0.09777|Time spend=21.7413113117218\n",
      "\tVALENCE-s26|Acc=0.83542|10-CV=0.61833|STD=0.13793|Time spend=23.174367904663086\n",
      "Fitted sphere radius:         95.3 mm\n",
      "Origin head coordinates:      -0.8 15.1 45.3 mm\n",
      "Origin device coordinates:    -0.8 15.1 45.3 mm\n",
      "========= close ========\n",
      "\tAROUSAL-s27|Acc=0.93958|10-CV=0.65|STD=0.1118|Time spend=20.40803289413452\n",
      "\tVALENCE-s27|Acc=0.91875|10-CV=0.67|STD=0.12689|Time spend=21.90999960899353\n",
      "Fitted sphere radius:         95.3 mm\n",
      "Origin head coordinates:      -0.8 15.1 45.3 mm\n",
      "Origin device coordinates:    -0.8 15.1 45.3 mm\n",
      "========= close ========\n",
      "\tAROUSAL-s28|Acc=0.93958|10-CV=0.49417|STD=0.09889|Time spend=19.57552719116211\n",
      "\tVALENCE-s28|Acc=0.9125|10-CV=0.5675|STD=0.14407|Time spend=21.111006021499634\n",
      "Fitted sphere radius:         95.3 mm\n",
      "Origin head coordinates:      -0.8 15.1 45.3 mm\n",
      "Origin device coordinates:    -0.8 15.1 45.3 mm\n",
      "========= close ========\n",
      "\tAROUSAL-s29|Acc=0.86458|10-CV=0.53167|STD=0.09323|Time spend=20.66790747642517\n",
      "\tVALENCE-s29|Acc=0.89375|10-CV=0.52667|STD=0.09738|Time spend=22.147464990615845\n",
      "Fitted sphere radius:         95.3 mm\n",
      "Origin head coordinates:      -0.8 15.1 45.3 mm\n",
      "Origin device coordinates:    -0.8 15.1 45.3 mm\n",
      "========= close ========\n",
      "\tAROUSAL-s30|Acc=0.95625|10-CV=0.41|STD=0.06685|Time spend=19.829200983047485\n",
      "\tVALENCE-s30|Acc=0.82917|10-CV=0.61917|STD=0.14539|Time spend=21.260963678359985\n",
      "Fitted sphere radius:         95.3 mm\n",
      "Origin head coordinates:      -0.8 15.1 45.3 mm\n",
      "Origin device coordinates:    -0.8 15.1 45.3 mm\n",
      "========= close ========\n",
      "\tAROUSAL-s31|Acc=0.99583|10-CV=0.50333|STD=0.11578|Time spend=20.58713388442993\n",
      "\tVALENCE-s31|Acc=0.98958|10-CV=0.49333|STD=0.10333|Time spend=22.153067350387573\n",
      "Fitted sphere radius:         95.3 mm\n",
      "Origin head coordinates:      -0.8 15.1 45.3 mm\n",
      "Origin device coordinates:    -0.8 15.1 45.3 mm\n",
      "========= close ========\n",
      "\tAROUSAL-s32|Acc=0.86875|10-CV=0.73917|STD=0.12572|Time spend=20.207484245300293\n",
      "\tVALENCE-s32|Acc=0.98958|10-CV=0.37833|STD=0.13674|Time spend=21.648114919662476\n",
      "AROUSAL|Acc=0.8916015625|10-CV=0.5984895833333334|STD=0.10008936842055868\n",
      "VALENCE|Acc=0.9240885416666667|10-CV=0.5103645833333335|STD=0.114364866754838\n"
     ]
    }
   ],
   "source": [
    "accs, cv_means, cv_stds = [],[],[]\n",
    "accs_v, cv_means_v, cv_stds_v = [],[],[]\n",
    "reports = []\n",
    "for filename in (pbar := tqdm(dataset.get_file_list())):\n",
    "    start = time.time()\n",
    "    pbar.set_description(filename)\n",
    "    data, labels, groups = dataset.get_data(filename, stimuli=Dataset_subjectDependent.STIMULI_AROUSAL, return_type='mne', sfreq=128)\n",
    "    \n",
    "    data_csd = mne.preprocessing.compute_current_source_density(data)\n",
    "\n",
    "    pli = calculate_pli(data_csd.get_data(), n_jobs=8)\n",
    "\n",
    "    _,acc,cross,train_report = train_model(pli, labels.squeeze(), groups, filename=filename, return_text=True)\n",
    "    report = f\"\\tAROUSAL-{filename}|Acc={round(acc,5)}|10-CV={round(cross.mean(),5)}|STD={round(cross.std(),5)}|Time spend={time.time() - start}\"\n",
    "    print(report)\n",
    "    reports.append(report)\n",
    "    reports.append(train_report)\n",
    "    accs.append(acc)\n",
    "    cv_means.append(cross.mean())\n",
    "    cv_stds.append(cross.std())\n",
    "\n",
    "    _, labels_v, groups_v = dataset.get_data(filename, stimuli=Dataset_subjectDependent.STIMULI_VALENCE, return_type='mne', sfreq=128)\n",
    "    _,acc,cross,train_report = train_model(pli, labels_v.squeeze(), groups_v, filename=filename, return_text=True)\n",
    "    report = f\"\\tVALENCE-{filename}|Acc={round(acc,5)}|10-CV={round(cross.mean(),5)}|STD={round(cross.std(),5)}|Time spend={time.time() - start}\"\n",
    "    print(report)\n",
    "    reports.append(report)\n",
    "    reports.append(train_report)\n",
    "    accs_v.append(acc)\n",
    "    cv_means_v.append(cross.mean())\n",
    "    cv_stds_v.append(cross.std())\n",
    "    # break\n",
    "    # count+=1\n",
    "    # if(count == 5): break\n",
    "report = f\"AROUSAL|Acc={sum(accs)/len(accs)}|10-CV={sum(cv_means)/len(cv_means)}|STD={sum(cv_stds)/len(cv_stds)}\"\n",
    "print(report)\n",
    "reports.append(report)\n",
    "report = f\"VALENCE|Acc={sum(accs_v)/len(accs_v)}|10-CV={sum(cv_means_v)/len(cv_means_v)}|STD={sum(cv_stds_v)/len(cv_stds_v)}\"\n",
    "print(report)\n",
    "reports.append(report)"
   ]
  },
  {
   "cell_type": "code",
   "execution_count": 18,
   "metadata": {},
   "outputs": [
    {
     "name": "stdout",
     "output_type": "stream",
     "text": [
      "\tAROUSAL-s01|Acc=0.93542|10-CV=0.53083|STD=0.13224|Time spend=30.117353677749634\n",
      "\tVALENCE-s01|Acc=0.99792|10-CV=0.44917|STD=0.06174|Time spend=31.743388175964355\n",
      "\tAROUSAL-s02|Acc=0.87083|10-CV=0.53833|STD=0.09378|Time spend=32.36420011520386\n",
      "\tVALENCE-s02|Acc=0.93333|10-CV=0.48583|STD=0.10872|Time spend=34.24181032180786\n",
      "\tAROUSAL-s03|Acc=0.84167|10-CV=0.73|STD=0.15524|Time spend=27.616836309432983\n",
      "\tVALENCE-s03|Acc=0.9875|10-CV=0.43583|STD=0.11938|Time spend=29.4894061088562\n",
      "\tAROUSAL-s04|Acc=0.85|10-CV=0.53667|STD=0.15412|Time spend=25.07441520690918\n",
      "\tVALENCE-s04|Acc=0.80208|10-CV=0.50333|STD=0.14697|Time spend=26.63633632659912\n",
      "\tAROUSAL-s05|Acc=0.84375|10-CV=0.4175|STD=0.09468|Time spend=20.79804801940918\n",
      "\tVALENCE-s05|Acc=0.73333|10-CV=0.56667|STD=0.09098|Time spend=22.467103719711304\n",
      "\tAROUSAL-s06|Acc=0.96667|10-CV=0.51083|STD=0.12265|Time spend=21.15766668319702\n",
      "\tVALENCE-s06|Acc=0.84792|10-CV=0.72|STD=0.07483|Time spend=22.839406490325928\n",
      "\tAROUSAL-s07|Acc=0.95|10-CV=0.625|STD=0.11087|Time spend=23.064326524734497\n",
      "\tVALENCE-s07|Acc=0.91458|10-CV=0.69|STD=0.13748|Time spend=24.726770162582397\n",
      "\tAROUSAL-s08|Acc=0.98958|10-CV=0.45417|STD=0.11219|Time spend=22.223471879959106\n",
      "\tVALENCE-s08|Acc=0.98958|10-CV=0.495|STD=0.08805|Time spend=24.161262273788452\n",
      "\tAROUSAL-s09|Acc=0.82292|10-CV=0.53833|STD=0.11915|Time spend=22.214662790298462\n",
      "\tVALENCE-s09|Acc=0.95208|10-CV=0.39583|STD=0.11482|Time spend=23.96402072906494\n",
      "\tAROUSAL-s10|Acc=0.98542|10-CV=0.465|STD=0.06053|Time spend=20.86627769470215\n",
      "\tVALENCE-s10|Acc=0.96875|10-CV=0.43917|STD=0.14559|Time spend=22.5282781124115\n",
      "\tAROUSAL-s11|Acc=0.8625|10-CV=0.59833|STD=0.05855|Time spend=21.12434697151184\n",
      "\tVALENCE-s11|Acc=0.88125|10-CV=0.54167|STD=0.14968|Time spend=22.87058162689209\n",
      "\tAROUSAL-s12|Acc=0.84792|10-CV=0.83|STD=0.1005|Time spend=20.635857582092285\n",
      "\tVALENCE-s12|Acc=0.99375|10-CV=0.4475|STD=0.12366|Time spend=22.53421974182129\n",
      "\tAROUSAL-s13|Acc=0.8875|10-CV=0.84|STD=0.06633|Time spend=20.15385365486145\n",
      "\tVALENCE-s13|Acc=0.95833|10-CV=0.52|STD=0.10396|Time spend=21.7208468914032\n",
      "\tAROUSAL-s14|Acc=0.87917|10-CV=0.64917|STD=0.10127|Time spend=21.520516633987427\n",
      "\tVALENCE-s14|Acc=0.97292|10-CV=0.41417|STD=0.08334|Time spend=23.256375312805176\n",
      "\tAROUSAL-s15|Acc=0.98958|10-CV=0.43667|STD=0.0871|Time spend=21.967949867248535\n",
      "\tVALENCE-s15|Acc=0.99167|10-CV=0.48833|STD=0.08734|Time spend=23.55262589454651\n",
      "\tAROUSAL-s16|Acc=0.99792|10-CV=0.3525|STD=0.09516|Time spend=21.766683101654053\n",
      "\tVALENCE-s16|Acc=0.95208|10-CV=0.6325|STD=0.09208|Time spend=23.418339252471924\n",
      "\tAROUSAL-s17|Acc=0.84167|10-CV=0.555|STD=0.08726|Time spend=20.25544047355652\n",
      "\tVALENCE-s17|Acc=0.92917|10-CV=0.46417|STD=0.09889|Time spend=21.93277072906494\n",
      "\tAROUSAL-s18|Acc=0.88333|10-CV=0.55583|STD=0.10409|Time spend=28.53818440437317\n",
      "\tVALENCE-s18|Acc=0.92292|10-CV=0.52917|STD=0.12395|Time spend=30.20479965209961\n",
      "\tAROUSAL-s19|Acc=0.68542|10-CV=0.62|STD=0.11662|Time spend=21.77526569366455\n",
      "\tVALENCE-s19|Acc=0.77917|10-CV=0.42333|STD=0.11333|Time spend=23.38954758644104\n",
      "\tAROUSAL-s20|Acc=0.87292|10-CV=0.82|STD=0.08718|Time spend=21.986552953720093\n",
      "\tVALENCE-s20|Acc=0.97708|10-CV=0.46583|STD=0.14997|Time spend=23.516529083251953\n",
      "\tAROUSAL-s21|Acc=0.82708|10-CV=0.8|STD=0.1|Time spend=19.902320623397827\n",
      "\tVALENCE-s21|Acc=0.97292|10-CV=0.40333|STD=0.08021|Time spend=21.419883251190186\n",
      "\tAROUSAL-s22|Acc=0.84167|10-CV=0.57667|STD=0.03412|Time spend=21.040405750274658\n",
      "\tVALENCE-s22|Acc=0.88958|10-CV=0.505|STD=0.08385|Time spend=22.530121564865112\n",
      "\tAROUSAL-s23|Acc=0.925|10-CV=0.78|STD=0.09798|Time spend=20.14727210998535\n",
      "\tVALENCE-s23|Acc=0.97292|10-CV=0.6025|STD=0.13804|Time spend=21.597218990325928\n",
      "\tAROUSAL-s24|Acc=0.82708|10-CV=0.82|STD=0.07483|Time spend=19.331063508987427\n",
      "\tVALENCE-s24|Acc=0.94792|10-CV=0.42917|STD=0.1529|Time spend=20.853896856307983\n",
      "\tAROUSAL-s25|Acc=0.79167|10-CV=0.73917|STD=0.12638|Time spend=21.036564826965332\n",
      "\tVALENCE-s25|Acc=0.93333|10-CV=0.41083|STD=0.09818|Time spend=22.726622343063354\n",
      "\tAROUSAL-s26|Acc=0.95|10-CV=0.50333|STD=0.09777|Time spend=21.7413113117218\n",
      "\tVALENCE-s26|Acc=0.83542|10-CV=0.61833|STD=0.13793|Time spend=23.174367904663086\n",
      "\tAROUSAL-s27|Acc=0.93958|10-CV=0.65|STD=0.1118|Time spend=20.40803289413452\n",
      "\tVALENCE-s27|Acc=0.91875|10-CV=0.67|STD=0.12689|Time spend=21.90999960899353\n",
      "\tAROUSAL-s28|Acc=0.93958|10-CV=0.49417|STD=0.09889|Time spend=19.57552719116211\n",
      "\tVALENCE-s28|Acc=0.9125|10-CV=0.5675|STD=0.14407|Time spend=21.111006021499634\n",
      "\tAROUSAL-s29|Acc=0.86458|10-CV=0.53167|STD=0.09323|Time spend=20.66790747642517\n",
      "\tVALENCE-s29|Acc=0.89375|10-CV=0.52667|STD=0.09738|Time spend=22.147464990615845\n",
      "\tAROUSAL-s30|Acc=0.95625|10-CV=0.41|STD=0.06685|Time spend=19.829200983047485\n",
      "\tVALENCE-s30|Acc=0.82917|10-CV=0.61917|STD=0.14539|Time spend=21.260963678359985\n",
      "\tAROUSAL-s31|Acc=0.99583|10-CV=0.50333|STD=0.11578|Time spend=20.58713388442993\n",
      "\tVALENCE-s31|Acc=0.98958|10-CV=0.49333|STD=0.10333|Time spend=22.153067350387573\n",
      "\tAROUSAL-s32|Acc=0.86875|10-CV=0.73917|STD=0.12572|Time spend=20.207484245300293\n",
      "\tVALENCE-s32|Acc=0.98958|10-CV=0.37833|STD=0.13674|Time spend=21.648114919662476\n",
      "AROUSAL|Acc=0.8916015625|10-CV=0.5984895833333334|STD=0.10008936842055868\n",
      "VALENCE|Acc=0.9240885416666667|10-CV=0.5103645833333335|STD=0.114364866754838\n",
      "TOTAL|Acc=0.9078450520833337|10-CV=0.5544270833333332|STD=0.10722711758769829\n"
     ]
    }
   ],
   "source": [
    "for text in reports:\n",
    "    if(text == None): continue\n",
    "    print(text)\n",
    "\n",
    "accs.extend(accs_v)\n",
    "cv_means.extend(cv_means_v)\n",
    "cv_stds.extend(cv_stds_v)\n",
    "print(f\"TOTAL|Acc={sum(accs)/len(accs)}|10-CV={sum(cv_means)/len(cv_means)}|STD={sum(cv_stds)/len(cv_stds)}\")"
   ]
  },
  {
   "cell_type": "markdown",
   "metadata": {},
   "source": [
    "## 5. CSP"
   ]
  },
  {
   "cell_type": "code",
   "execution_count": 19,
   "metadata": {},
   "outputs": [],
   "source": [
    "from components.CSP import CSP\n",
    "from mne_features.feature_extraction import FeatureExtractor\n",
    "\n",
    "bands = [(0,4), (4,8), (8,12), (12,30), (30,64)]\n",
    "# [alias_feature_function]__[optional_param]\n",
    "params = dict({\n",
    "    'pow_freq_bands__log':True,\n",
    "    'pow_freq_bands__normalize':False,\n",
    "    'pow_freq_bands__freq_bands':bands\n",
    "})"
   ]
  },
  {
   "cell_type": "code",
   "execution_count": 20,
   "metadata": {},
   "outputs": [
    {
     "data": {
      "application/vnd.jupyter.widget-view+json": {
       "model_id": "fa43048dab0a4fdfaa47ea817bdb171b",
       "version_major": 2,
       "version_minor": 0
      },
      "text/plain": [
       "  0%|          | 0/32 [00:00<?, ?it/s]"
      ]
     },
     "metadata": {},
     "output_type": "display_data"
    },
    {
     "name": "stderr",
     "output_type": "stream",
     "text": [
      "/root/projects/components/CSP.py:78: ComplexWarning: Casting complex values to real discards the imaginary part\n",
      "  return SFa.astype(np.float32)\n"
     ]
    },
    {
     "name": "stdout",
     "output_type": "stream",
     "text": [
      "-----WARNING: Model s01 failed to learn: sum(ans)=480.0 sum(y)=288.0 len(y)=480\n",
      "\tAROUSAL-s01|Acc=0.6|10-CV=0.54333|STD=0.13677|Time spend=2.93384051322937\n"
     ]
    },
    {
     "name": "stderr",
     "output_type": "stream",
     "text": [
      "/root/projects/components/CSP.py:78: ComplexWarning: Casting complex values to real discards the imaginary part\n",
      "  return SFa.astype(np.float32)\n"
     ]
    },
    {
     "name": "stdout",
     "output_type": "stream",
     "text": [
      "\tAROUSAL-s02|Acc=0.63542|10-CV=0.53667|STD=0.06974|Time spend=2.9869275093078613\n"
     ]
    },
    {
     "name": "stderr",
     "output_type": "stream",
     "text": [
      "/root/projects/components/CSP.py:78: ComplexWarning: Casting complex values to real discards the imaginary part\n",
      "  return SFa.astype(np.float32)\n"
     ]
    },
    {
     "name": "stdout",
     "output_type": "stream",
     "text": [
      "\tAROUSAL-s03|Acc=0.94792|10-CV=0.89333|STD=0.10909|Time spend=0.9649617671966553\n"
     ]
    },
    {
     "name": "stderr",
     "output_type": "stream",
     "text": [
      "/root/projects/components/CSP.py:78: ComplexWarning: Casting complex values to real discards the imaginary part\n",
      "  return SFa.astype(np.float32)\n"
     ]
    },
    {
     "name": "stdout",
     "output_type": "stream",
     "text": [
      "\tAROUSAL-s04|Acc=0.66667|10-CV=0.53833|STD=0.09953|Time spend=0.8533270359039307\n"
     ]
    },
    {
     "name": "stderr",
     "output_type": "stream",
     "text": [
      "/root/projects/components/CSP.py:78: ComplexWarning: Casting complex values to real discards the imaginary part\n",
      "  return SFa.astype(np.float32)\n"
     ]
    },
    {
     "name": "stdout",
     "output_type": "stream",
     "text": [
      "\tAROUSAL-s05|Acc=0.84375|10-CV=0.81167|STD=0.05605|Time spend=0.5724906921386719\n"
     ]
    },
    {
     "name": "stderr",
     "output_type": "stream",
     "text": [
      "/root/projects/components/CSP.py:78: ComplexWarning: Casting complex values to real discards the imaginary part\n",
      "  return SFa.astype(np.float32)\n"
     ]
    },
    {
     "name": "stdout",
     "output_type": "stream",
     "text": [
      "\tAROUSAL-s06|Acc=0.77083|10-CV=0.7275|STD=0.06993|Time spend=1.26582932472229\n"
     ]
    },
    {
     "name": "stderr",
     "output_type": "stream",
     "text": [
      "/root/projects/components/CSP.py:78: ComplexWarning: Casting complex values to real discards the imaginary part\n",
      "  return SFa.astype(np.float32)\n"
     ]
    },
    {
     "name": "stdout",
     "output_type": "stream",
     "text": [
      "\tAROUSAL-s07|Acc=0.94375|10-CV=0.93667|STD=0.02718|Time spend=0.5623724460601807\n"
     ]
    },
    {
     "name": "stderr",
     "output_type": "stream",
     "text": [
      "/root/projects/components/CSP.py:78: ComplexWarning: Casting complex values to real discards the imaginary part\n",
      "  return SFa.astype(np.float32)\n"
     ]
    },
    {
     "name": "stdout",
     "output_type": "stream",
     "text": [
      "\tAROUSAL-s08|Acc=0.59167|10-CV=0.45|STD=0.09711|Time spend=0.6782832145690918\n"
     ]
    },
    {
     "name": "stderr",
     "output_type": "stream",
     "text": [
      "/root/projects/components/CSP.py:78: ComplexWarning: Casting complex values to real discards the imaginary part\n",
      "  return SFa.astype(np.float32)\n"
     ]
    },
    {
     "name": "stdout",
     "output_type": "stream",
     "text": [
      "\tAROUSAL-s09|Acc=0.94792|10-CV=0.90333|STD=0.04052|Time spend=0.5649559497833252\n"
     ]
    },
    {
     "name": "stderr",
     "output_type": "stream",
     "text": [
      "/root/projects/components/CSP.py:78: ComplexWarning: Casting complex values to real discards the imaginary part\n",
      "  return SFa.astype(np.float32)\n"
     ]
    },
    {
     "name": "stdout",
     "output_type": "stream",
     "text": [
      "\tAROUSAL-s10|Acc=0.9625|10-CV=0.96667|STD=0.03873|Time spend=1.5809533596038818\n"
     ]
    },
    {
     "name": "stderr",
     "output_type": "stream",
     "text": [
      "/root/projects/components/CSP.py:78: ComplexWarning: Casting complex values to real discards the imaginary part\n",
      "  return SFa.astype(np.float32)\n"
     ]
    },
    {
     "name": "stdout",
     "output_type": "stream",
     "text": [
      "-----WARNING: Model s11 failed to learn: sum(ans)=0.0 sum(y)=180.0 len(y)=480\n",
      "\tAROUSAL-s11|Acc=0.625|10-CV=0.6|STD=0.06135|Time spend=1.4884250164031982\n"
     ]
    },
    {
     "name": "stderr",
     "output_type": "stream",
     "text": [
      "/root/projects/components/CSP.py:78: ComplexWarning: Casting complex values to real discards the imaginary part\n",
      "  return SFa.astype(np.float32)\n"
     ]
    },
    {
     "name": "stdout",
     "output_type": "stream",
     "text": [
      "\tAROUSAL-s12|Acc=0.90417|10-CV=0.86333|STD=0.05099|Time spend=0.7757139205932617\n"
     ]
    },
    {
     "name": "stderr",
     "output_type": "stream",
     "text": [
      "/root/projects/components/CSP.py:78: ComplexWarning: Casting complex values to real discards the imaginary part\n",
      "  return SFa.astype(np.float32)\n"
     ]
    },
    {
     "name": "stdout",
     "output_type": "stream",
     "text": [
      "\tAROUSAL-s13|Acc=0.90208|10-CV=0.85833|STD=0.06932|Time spend=1.7012815475463867\n"
     ]
    },
    {
     "name": "stderr",
     "output_type": "stream",
     "text": [
      "/root/projects/components/CSP.py:78: ComplexWarning: Casting complex values to real discards the imaginary part\n",
      "  return SFa.astype(np.float32)\n"
     ]
    },
    {
     "name": "stdout",
     "output_type": "stream",
     "text": [
      "-----WARNING: Model s14 failed to learn: sum(ans)=480.0 sum(y)=324.0 len(y)=480\n",
      "\tAROUSAL-s14|Acc=0.675|10-CV=0.645|STD=0.09605|Time spend=1.1330761909484863\n"
     ]
    },
    {
     "name": "stderr",
     "output_type": "stream",
     "text": [
      "/root/projects/components/CSP.py:78: ComplexWarning: Casting complex values to real discards the imaginary part\n",
      "  return SFa.astype(np.float32)\n"
     ]
    },
    {
     "name": "stdout",
     "output_type": "stream",
     "text": [
      "\tAROUSAL-s15|Acc=0.625|10-CV=0.51333|STD=0.10937|Time spend=1.5701820850372314\n"
     ]
    },
    {
     "name": "stderr",
     "output_type": "stream",
     "text": [
      "/root/projects/components/CSP.py:78: ComplexWarning: Casting complex values to real discards the imaginary part\n",
      "  return SFa.astype(np.float32)\n"
     ]
    },
    {
     "name": "stdout",
     "output_type": "stream",
     "text": [
      "\tAROUSAL-s16|Acc=0.99167|10-CV=0.99667|STD=0.00408|Time spend=1.4891467094421387\n"
     ]
    },
    {
     "name": "stderr",
     "output_type": "stream",
     "text": [
      "/root/projects/components/CSP.py:78: ComplexWarning: Casting complex values to real discards the imaginary part\n",
      "  return SFa.astype(np.float32)\n"
     ]
    },
    {
     "name": "stdout",
     "output_type": "stream",
     "text": [
      "\tAROUSAL-s17|Acc=0.94375|10-CV=0.92333|STD=0.01481|Time spend=0.8803367614746094\n"
     ]
    },
    {
     "name": "stderr",
     "output_type": "stream",
     "text": [
      "/root/projects/components/CSP.py:78: ComplexWarning: Casting complex values to real discards the imaginary part\n",
      "  return SFa.astype(np.float32)\n"
     ]
    },
    {
     "name": "stdout",
     "output_type": "stream",
     "text": [
      "\tAROUSAL-s18|Acc=0.64375|10-CV=0.57583|STD=0.11404|Time spend=0.7417750358581543\n"
     ]
    },
    {
     "name": "stderr",
     "output_type": "stream",
     "text": [
      "/root/projects/components/CSP.py:78: ComplexWarning: Casting complex values to real discards the imaginary part\n",
      "  return SFa.astype(np.float32)\n"
     ]
    },
    {
     "name": "stdout",
     "output_type": "stream",
     "text": [
      "\tAROUSAL-s19|Acc=0.925|10-CV=0.90083|STD=0.04305|Time spend=0.5205411911010742\n"
     ]
    },
    {
     "name": "stderr",
     "output_type": "stream",
     "text": [
      "/root/projects/components/CSP.py:78: ComplexWarning: Casting complex values to real discards the imaginary part\n",
      "  return SFa.astype(np.float32)\n"
     ]
    },
    {
     "name": "stdout",
     "output_type": "stream",
     "text": [
      "-----WARNING: Model s20 failed to learn: sum(ans)=480.0 sum(y)=372.0 len(y)=480\n",
      "\tAROUSAL-s20|Acc=0.775|10-CV=0.82|STD=0.08718|Time spend=0.6365892887115479\n"
     ]
    },
    {
     "name": "stderr",
     "output_type": "stream",
     "text": [
      "/root/projects/components/CSP.py:78: ComplexWarning: Casting complex values to real discards the imaginary part\n",
      "  return SFa.astype(np.float32)\n"
     ]
    },
    {
     "name": "stdout",
     "output_type": "stream",
     "text": [
      "-----WARNING: Model s21 failed to learn: sum(ans)=480.0 sum(y)=384.0 len(y)=480\n",
      "\tAROUSAL-s21|Acc=0.8|10-CV=0.79167|STD=0.10233|Time spend=0.6513917446136475\n"
     ]
    },
    {
     "name": "stderr",
     "output_type": "stream",
     "text": [
      "/root/projects/components/CSP.py:78: ComplexWarning: Casting complex values to real discards the imaginary part\n",
      "  return SFa.astype(np.float32)\n"
     ]
    },
    {
     "name": "stdout",
     "output_type": "stream",
     "text": [
      "\tAROUSAL-s22|Acc=0.60208|10-CV=0.56167|STD=0.05605|Time spend=0.6549971103668213\n"
     ]
    },
    {
     "name": "stderr",
     "output_type": "stream",
     "text": [
      "/root/projects/components/CSP.py:78: ComplexWarning: Casting complex values to real discards the imaginary part\n",
      "  return SFa.astype(np.float32)\n"
     ]
    },
    {
     "name": "stdout",
     "output_type": "stream",
     "text": [
      "\tAROUSAL-s23|Acc=0.85208|10-CV=0.83583|STD=0.07592|Time spend=0.5725252628326416\n"
     ]
    },
    {
     "name": "stderr",
     "output_type": "stream",
     "text": [
      "/root/projects/components/CSP.py:78: ComplexWarning: Casting complex values to real discards the imaginary part\n",
      "  return SFa.astype(np.float32)\n"
     ]
    },
    {
     "name": "stdout",
     "output_type": "stream",
     "text": [
      "-----WARNING: Model s24 failed to learn: sum(ans)=480.0 sum(y)=396.0 len(y)=480\n",
      "\tAROUSAL-s24|Acc=0.825|10-CV=0.82|STD=0.07483|Time spend=0.7473928928375244\n"
     ]
    },
    {
     "name": "stderr",
     "output_type": "stream",
     "text": [
      "/root/projects/components/CSP.py:78: ComplexWarning: Casting complex values to real discards the imaginary part\n",
      "  return SFa.astype(np.float32)\n"
     ]
    },
    {
     "name": "stdout",
     "output_type": "stream",
     "text": [
      "-----WARNING: Model s25 failed to learn: sum(ans)=480.0 sum(y)=348.0 len(y)=480\n",
      "\tAROUSAL-s25|Acc=0.725|10-CV=0.7375|STD=0.12311|Time spend=0.5900194644927979\n"
     ]
    },
    {
     "name": "stderr",
     "output_type": "stream",
     "text": [
      "/root/projects/components/CSP.py:78: ComplexWarning: Casting complex values to real discards the imaginary part\n",
      "  return SFa.astype(np.float32)\n"
     ]
    },
    {
     "name": "stdout",
     "output_type": "stream",
     "text": [
      "\tAROUSAL-s26|Acc=0.75|10-CV=0.715|STD=0.06399|Time spend=0.5825066566467285\n"
     ]
    },
    {
     "name": "stderr",
     "output_type": "stream",
     "text": [
      "/root/projects/components/CSP.py:78: ComplexWarning: Casting complex values to real discards the imaginary part\n",
      "  return SFa.astype(np.float32)\n"
     ]
    },
    {
     "name": "stdout",
     "output_type": "stream",
     "text": [
      "\tAROUSAL-s27|Acc=0.88542|10-CV=0.82917|STD=0.05167|Time spend=0.6562342643737793\n"
     ]
    },
    {
     "name": "stderr",
     "output_type": "stream",
     "text": [
      "/root/projects/components/CSP.py:78: ComplexWarning: Casting complex values to real discards the imaginary part\n",
      "  return SFa.astype(np.float32)\n"
     ]
    },
    {
     "name": "stdout",
     "output_type": "stream",
     "text": [
      "\tAROUSAL-s28|Acc=0.60833|10-CV=0.47167|STD=0.11144|Time spend=0.6493291854858398\n"
     ]
    },
    {
     "name": "stderr",
     "output_type": "stream",
     "text": [
      "/root/projects/components/CSP.py:78: ComplexWarning: Casting complex values to real discards the imaginary part\n",
      "  return SFa.astype(np.float32)\n"
     ]
    },
    {
     "name": "stdout",
     "output_type": "stream",
     "text": [
      "\tAROUSAL-s29|Acc=0.66667|10-CV=0.54|STD=0.09127|Time spend=0.5927987098693848\n"
     ]
    },
    {
     "name": "stderr",
     "output_type": "stream",
     "text": [
      "/root/projects/components/CSP.py:78: ComplexWarning: Casting complex values to real discards the imaginary part\n",
      "  return SFa.astype(np.float32)\n"
     ]
    },
    {
     "name": "stdout",
     "output_type": "stream",
     "text": [
      "\tAROUSAL-s30|Acc=0.94167|10-CV=0.93833|STD=0.02242|Time spend=0.6394426822662354\n"
     ]
    },
    {
     "name": "stderr",
     "output_type": "stream",
     "text": [
      "/root/projects/components/CSP.py:78: ComplexWarning: Casting complex values to real discards the imaginary part\n",
      "  return SFa.astype(np.float32)\n"
     ]
    },
    {
     "name": "stdout",
     "output_type": "stream",
     "text": [
      "\tAROUSAL-s31|Acc=0.59167|10-CV=0.485|STD=0.10474|Time spend=0.7142229080200195\n"
     ]
    },
    {
     "name": "stderr",
     "output_type": "stream",
     "text": [
      "/root/projects/components/CSP.py:78: ComplexWarning: Casting complex values to real discards the imaginary part\n",
      "  return SFa.astype(np.float32)\n"
     ]
    },
    {
     "name": "stdout",
     "output_type": "stream",
     "text": [
      "\tAROUSAL-s32|Acc=0.85417|10-CV=0.82667|STD=0.07396|Time spend=0.6565530300140381\n",
      "AROUSAL|Acc=0.7819661458333335|10-CV=0.7361458333333333|STD=0.07333220626131699\n"
     ]
    }
   ],
   "source": [
    "accs, cv_means, cv_stds = [],[],[]\n",
    "for filename in tqdm(dataset.get_file_list()):\n",
    "\n",
    "    data, labels, groups = dataset.get_data(filename, stimuli=Dataset_subjectDependent.STIMULI_AROUSAL, return_type='numpy')\n",
    "    labels = labels.squeeze()\n",
    "    start = time.time()\n",
    "    filters = CSP(data[labels==0], data[labels==1])\n",
    "    \n",
    "    csp_data = []\n",
    "    for index in range(len(data)):\n",
    "        \n",
    "        # (672, 32) @ (32, 32) = (672, 32)\n",
    "        csp = data[index].T @ filters[labels[index].astype(int)]\n",
    "        # (1, 32, 672)\n",
    "        csp = np.expand_dims(csp.T, axis=0)\n",
    "        csp_data.append(csp)\n",
    "\n",
    "    csp_data = np.vstack(csp_data)\n",
    "    # print(csp_data.shape) => (2400, 32, 128)\n",
    "    fe = FeatureExtractor(sfreq=128, selected_funcs=['pow_freq_bands'],params=params,n_jobs=8)\n",
    "    X = fe.fit_transform(X=csp_data)\n",
    "    # print(X.shape, time.time() - start) => (2400, 160) 1.2374355792999268\n",
    "\n",
    "    assert X.shape[1] == 160\n",
    "    _, acc, cross = train_model(X, labels.reshape(-1), groups, filename=filename)\n",
    "    print(f\"\\tAROUSAL-{filename}|Acc={round(acc,5)}|10-CV={round(cross.mean(),5)}|STD={round(cross.std(),5)}|Time spend={time.time() - start}\")\n",
    "    accs.append(acc)\n",
    "    cv_means.append(cross.mean())\n",
    "    cv_stds.append(cross.std())\n",
    "print(f\"AROUSAL|Acc={sum(accs)/len(accs)}|10-CV={sum(cv_means)/len(cv_means)}|STD={sum(cv_stds)/len(cv_stds)}\")"
   ]
  },
  {
   "cell_type": "code",
   "execution_count": 21,
   "metadata": {},
   "outputs": [
    {
     "data": {
      "application/vnd.jupyter.widget-view+json": {
       "model_id": "96bd13d5365646d58892ccc3aaafb223",
       "version_major": 2,
       "version_minor": 0
      },
      "text/plain": [
       "  0%|          | 0/32 [00:00<?, ?it/s]"
      ]
     },
     "metadata": {},
     "output_type": "display_data"
    },
    {
     "name": "stderr",
     "output_type": "stream",
     "text": [
      "/root/projects/components/CSP.py:78: ComplexWarning: Casting complex values to real discards the imaginary part\n",
      "  return SFa.astype(np.float32)\n"
     ]
    },
    {
     "name": "stdout",
     "output_type": "stream",
     "text": [
      "\tVALENCE-s01|Acc=0.79583|10-CV=0.7725|STD=0.04331|Time spend=0.6027204990386963\n"
     ]
    },
    {
     "name": "stderr",
     "output_type": "stream",
     "text": [
      "/root/projects/components/CSP.py:78: ComplexWarning: Casting complex values to real discards the imaginary part\n",
      "  return SFa.astype(np.float32)\n"
     ]
    },
    {
     "name": "stdout",
     "output_type": "stream",
     "text": [
      "\tVALENCE-s02|Acc=0.99792|10-CV=0.9975|STD=0.00382|Time spend=0.6370220184326172\n"
     ]
    },
    {
     "name": "stderr",
     "output_type": "stream",
     "text": [
      "/root/projects/components/CSP.py:78: ComplexWarning: Casting complex values to real discards the imaginary part\n",
      "  return SFa.astype(np.float32)\n"
     ]
    },
    {
     "name": "stdout",
     "output_type": "stream",
     "text": [
      "\tVALENCE-s03|Acc=0.71667|10-CV=0.61583|STD=0.17933|Time spend=0.6551346778869629\n"
     ]
    },
    {
     "name": "stderr",
     "output_type": "stream",
     "text": [
      "/root/projects/components/CSP.py:78: ComplexWarning: Casting complex values to real discards the imaginary part\n",
      "  return SFa.astype(np.float32)\n"
     ]
    },
    {
     "name": "stdout",
     "output_type": "stream",
     "text": [
      "\tVALENCE-s04|Acc=0.98333|10-CV=0.98667|STD=0.0119|Time spend=0.6705844402313232\n"
     ]
    },
    {
     "name": "stderr",
     "output_type": "stream",
     "text": [
      "/root/projects/components/CSP.py:78: ComplexWarning: Casting complex values to real discards the imaginary part\n",
      "  return SFa.astype(np.float32)\n"
     ]
    },
    {
     "name": "stdout",
     "output_type": "stream",
     "text": [
      "\tVALENCE-s05|Acc=0.98542|10-CV=0.98583|STD=0.00651|Time spend=0.667189359664917\n"
     ]
    },
    {
     "name": "stderr",
     "output_type": "stream",
     "text": [
      "/root/projects/components/CSP.py:78: ComplexWarning: Casting complex values to real discards the imaginary part\n",
      "  return SFa.astype(np.float32)\n"
     ]
    },
    {
     "name": "stdout",
     "output_type": "stream",
     "text": [
      "\tVALENCE-s06|Acc=0.85|10-CV=0.775|STD=0.06112|Time spend=0.7333312034606934\n"
     ]
    },
    {
     "name": "stderr",
     "output_type": "stream",
     "text": [
      "/root/projects/components/CSP.py:78: ComplexWarning: Casting complex values to real discards the imaginary part\n",
      "  return SFa.astype(np.float32)\n"
     ]
    },
    {
     "name": "stdout",
     "output_type": "stream",
     "text": [
      "\tVALENCE-s07|Acc=0.76667|10-CV=0.675|STD=0.12687|Time spend=0.700911283493042\n"
     ]
    },
    {
     "name": "stderr",
     "output_type": "stream",
     "text": [
      "/root/projects/components/CSP.py:78: ComplexWarning: Casting complex values to real discards the imaginary part\n",
      "  return SFa.astype(np.float32)\n"
     ]
    },
    {
     "name": "stdout",
     "output_type": "stream",
     "text": [
      "\tVALENCE-s08|Acc=0.9375|10-CV=0.91917|STD=0.02445|Time spend=0.6638975143432617\n"
     ]
    },
    {
     "name": "stderr",
     "output_type": "stream",
     "text": [
      "/root/projects/components/CSP.py:78: ComplexWarning: Casting complex values to real discards the imaginary part\n",
      "  return SFa.astype(np.float32)\n"
     ]
    },
    {
     "name": "stdout",
     "output_type": "stream",
     "text": [
      "\tVALENCE-s09|Acc=0.61458|10-CV=0.445|STD=0.13709|Time spend=0.6885857582092285\n"
     ]
    },
    {
     "name": "stderr",
     "output_type": "stream",
     "text": [
      "/root/projects/components/CSP.py:78: ComplexWarning: Casting complex values to real discards the imaginary part\n",
      "  return SFa.astype(np.float32)\n"
     ]
    },
    {
     "name": "stdout",
     "output_type": "stream",
     "text": [
      "\tVALENCE-s10|Acc=0.7|10-CV=0.63333|STD=0.09212|Time spend=0.6589922904968262\n"
     ]
    },
    {
     "name": "stderr",
     "output_type": "stream",
     "text": [
      "/root/projects/components/CSP.py:78: ComplexWarning: Casting complex values to real discards the imaginary part\n",
      "  return SFa.astype(np.float32)\n"
     ]
    },
    {
     "name": "stdout",
     "output_type": "stream",
     "text": [
      "\tVALENCE-s11|Acc=0.60833|10-CV=0.51417|STD=0.12824|Time spend=0.7004818916320801\n"
     ]
    },
    {
     "name": "stderr",
     "output_type": "stream",
     "text": [
      "/root/projects/components/CSP.py:78: ComplexWarning: Casting complex values to real discards the imaginary part\n",
      "  return SFa.astype(np.float32)\n"
     ]
    },
    {
     "name": "stdout",
     "output_type": "stream",
     "text": [
      "\tVALENCE-s12|Acc=0.64375|10-CV=0.49833|STD=0.14695|Time spend=0.6926696300506592\n"
     ]
    },
    {
     "name": "stderr",
     "output_type": "stream",
     "text": [
      "/root/projects/components/CSP.py:78: ComplexWarning: Casting complex values to real discards the imaginary part\n",
      "  return SFa.astype(np.float32)\n"
     ]
    },
    {
     "name": "stdout",
     "output_type": "stream",
     "text": [
      "\tVALENCE-s13|Acc=0.94792|10-CV=0.94667|STD=0.02506|Time spend=0.7174453735351562\n"
     ]
    },
    {
     "name": "stderr",
     "output_type": "stream",
     "text": [
      "/root/projects/components/CSP.py:78: ComplexWarning: Casting complex values to real discards the imaginary part\n",
      "  return SFa.astype(np.float32)\n"
     ]
    },
    {
     "name": "stdout",
     "output_type": "stream",
     "text": [
      "\tVALENCE-s14|Acc=0.6125|10-CV=0.4125|STD=0.08686|Time spend=0.7843401432037354\n"
     ]
    },
    {
     "name": "stderr",
     "output_type": "stream",
     "text": [
      "/root/projects/components/CSP.py:78: ComplexWarning: Casting complex values to real discards the imaginary part\n",
      "  return SFa.astype(np.float32)\n"
     ]
    },
    {
     "name": "stdout",
     "output_type": "stream",
     "text": [
      "\tVALENCE-s15|Acc=0.72917|10-CV=0.62917|STD=0.0568|Time spend=0.700709342956543\n"
     ]
    },
    {
     "name": "stderr",
     "output_type": "stream",
     "text": [
      "/root/projects/components/CSP.py:78: ComplexWarning: Casting complex values to real discards the imaginary part\n",
      "  return SFa.astype(np.float32)\n"
     ]
    },
    {
     "name": "stdout",
     "output_type": "stream",
     "text": [
      "\tVALENCE-s16|Acc=0.67292|10-CV=0.6275|STD=0.07426|Time spend=0.6825125217437744\n"
     ]
    },
    {
     "name": "stderr",
     "output_type": "stream",
     "text": [
      "/root/projects/components/CSP.py:78: ComplexWarning: Casting complex values to real discards the imaginary part\n",
      "  return SFa.astype(np.float32)\n"
     ]
    },
    {
     "name": "stdout",
     "output_type": "stream",
     "text": [
      "\tVALENCE-s17|Acc=0.6125|10-CV=0.45|STD=0.11714|Time spend=0.7027208805084229\n"
     ]
    },
    {
     "name": "stderr",
     "output_type": "stream",
     "text": [
      "/root/projects/components/CSP.py:78: ComplexWarning: Casting complex values to real discards the imaginary part\n",
      "  return SFa.astype(np.float32)\n"
     ]
    },
    {
     "name": "stdout",
     "output_type": "stream",
     "text": [
      "\tVALENCE-s18|Acc=0.61875|10-CV=0.51417|STD=0.11714|Time spend=0.6464972496032715\n"
     ]
    },
    {
     "name": "stderr",
     "output_type": "stream",
     "text": [
      "/root/projects/components/CSP.py:78: ComplexWarning: Casting complex values to real discards the imaginary part\n",
      "  return SFa.astype(np.float32)\n"
     ]
    },
    {
     "name": "stdout",
     "output_type": "stream",
     "text": [
      "\tVALENCE-s19|Acc=0.60417|10-CV=0.4725|STD=0.14342|Time spend=0.7384939193725586\n"
     ]
    },
    {
     "name": "stderr",
     "output_type": "stream",
     "text": [
      "/root/projects/components/CSP.py:78: ComplexWarning: Casting complex values to real discards the imaginary part\n",
      "  return SFa.astype(np.float32)\n"
     ]
    },
    {
     "name": "stdout",
     "output_type": "stream",
     "text": [
      "\tVALENCE-s20|Acc=0.68333|10-CV=0.50333|STD=0.13905|Time spend=0.6593101024627686\n"
     ]
    },
    {
     "name": "stderr",
     "output_type": "stream",
     "text": [
      "/root/projects/components/CSP.py:78: ComplexWarning: Casting complex values to real discards the imaginary part\n",
      "  return SFa.astype(np.float32)\n"
     ]
    },
    {
     "name": "stdout",
     "output_type": "stream",
     "text": [
      "\tVALENCE-s21|Acc=0.58542|10-CV=0.41833|STD=0.05995|Time spend=0.6853606700897217\n"
     ]
    },
    {
     "name": "stderr",
     "output_type": "stream",
     "text": [
      "/root/projects/components/CSP.py:78: ComplexWarning: Casting complex values to real discards the imaginary part\n",
      "  return SFa.astype(np.float32)\n"
     ]
    },
    {
     "name": "stdout",
     "output_type": "stream",
     "text": [
      "\tVALENCE-s22|Acc=0.97917|10-CV=0.96167|STD=0.02082|Time spend=0.7537436485290527\n"
     ]
    },
    {
     "name": "stderr",
     "output_type": "stream",
     "text": [
      "/root/projects/components/CSP.py:78: ComplexWarning: Casting complex values to real discards the imaginary part\n",
      "  return SFa.astype(np.float32)\n"
     ]
    },
    {
     "name": "stdout",
     "output_type": "stream",
     "text": [
      "\tVALENCE-s23|Acc=0.82292|10-CV=0.7925|STD=0.06481|Time spend=0.7040958404541016\n"
     ]
    },
    {
     "name": "stderr",
     "output_type": "stream",
     "text": [
      "/root/projects/components/CSP.py:78: ComplexWarning: Casting complex values to real discards the imaginary part\n",
      "  return SFa.astype(np.float32)\n"
     ]
    },
    {
     "name": "stdout",
     "output_type": "stream",
     "text": [
      "-----WARNING: Model s24 failed to learn: sum(ans)=0.0 sum(y)=216.0 len(y)=480\n",
      "\tVALENCE-s24|Acc=0.55|10-CV=0.42583|STD=0.18103|Time spend=0.7939865589141846\n"
     ]
    },
    {
     "name": "stderr",
     "output_type": "stream",
     "text": [
      "/root/projects/components/CSP.py:78: ComplexWarning: Casting complex values to real discards the imaginary part\n",
      "  return SFa.astype(np.float32)\n"
     ]
    },
    {
     "name": "stdout",
     "output_type": "stream",
     "text": [
      "\tVALENCE-s25|Acc=0.97708|10-CV=0.9725|STD=0.02358|Time spend=0.5739500522613525\n"
     ]
    },
    {
     "name": "stderr",
     "output_type": "stream",
     "text": [
      "/root/projects/components/CSP.py:78: ComplexWarning: Casting complex values to real discards the imaginary part\n",
      "  return SFa.astype(np.float32)\n"
     ]
    },
    {
     "name": "stdout",
     "output_type": "stream",
     "text": [
      "\tVALENCE-s26|Acc=0.81458|10-CV=0.7425|STD=0.08436|Time spend=0.6214313507080078\n"
     ]
    },
    {
     "name": "stderr",
     "output_type": "stream",
     "text": [
      "/root/projects/components/CSP.py:78: ComplexWarning: Casting complex values to real discards the imaginary part\n",
      "  return SFa.astype(np.float32)\n"
     ]
    },
    {
     "name": "stdout",
     "output_type": "stream",
     "text": [
      "\tVALENCE-s27|Acc=0.90417|10-CV=0.8175|STD=0.06535|Time spend=0.6711370944976807\n"
     ]
    },
    {
     "name": "stderr",
     "output_type": "stream",
     "text": [
      "/root/projects/components/CSP.py:78: ComplexWarning: Casting complex values to real discards the imaginary part\n",
      "  return SFa.astype(np.float32)\n"
     ]
    },
    {
     "name": "stdout",
     "output_type": "stream",
     "text": [
      "\tVALENCE-s28|Acc=0.62292|10-CV=0.51833|STD=0.09992|Time spend=0.7074482440948486\n"
     ]
    },
    {
     "name": "stderr",
     "output_type": "stream",
     "text": [
      "/root/projects/components/CSP.py:78: ComplexWarning: Casting complex values to real discards the imaginary part\n",
      "  return SFa.astype(np.float32)\n"
     ]
    },
    {
     "name": "stdout",
     "output_type": "stream",
     "text": [
      "\tVALENCE-s29|Acc=0.63333|10-CV=0.5525|STD=0.10495|Time spend=0.7947258949279785\n"
     ]
    },
    {
     "name": "stderr",
     "output_type": "stream",
     "text": [
      "/root/projects/components/CSP.py:78: ComplexWarning: Casting complex values to real discards the imaginary part\n",
      "  return SFa.astype(np.float32)\n"
     ]
    },
    {
     "name": "stdout",
     "output_type": "stream",
     "text": [
      "\tVALENCE-s30|Acc=0.89375|10-CV=0.86667|STD=0.05349|Time spend=0.6241970062255859\n"
     ]
    },
    {
     "name": "stderr",
     "output_type": "stream",
     "text": [
      "/root/projects/components/CSP.py:78: ComplexWarning: Casting complex values to real discards the imaginary part\n",
      "  return SFa.astype(np.float32)\n"
     ]
    },
    {
     "name": "stdout",
     "output_type": "stream",
     "text": [
      "-----WARNING: Model s31 failed to learn: sum(ans)=480.0 sum(y)=276.0 len(y)=480\n",
      "\tVALENCE-s31|Acc=0.575|10-CV=0.4725|STD=0.10007|Time spend=0.782759428024292\n"
     ]
    },
    {
     "name": "stderr",
     "output_type": "stream",
     "text": [
      "/root/projects/components/CSP.py:78: ComplexWarning: Casting complex values to real discards the imaginary part\n",
      "  return SFa.astype(np.float32)\n"
     ]
    },
    {
     "name": "stdout",
     "output_type": "stream",
     "text": [
      "\tVALENCE-s32|Acc=0.63958|10-CV=0.55417|STD=0.10758|Time spend=0.6663718223571777\n",
      "VALENCE|Acc=0.7524739583333334|10-CV=0.6709114583333332|STD=0.08398030762410409\n"
     ]
    }
   ],
   "source": [
    "accs_v, cv_means_v, cv_stds_v = [],[],[]\n",
    "for filename in tqdm(dataset.get_file_list()):\n",
    "\n",
    "    data, labels, groups = dataset.get_data(filename, stimuli=Dataset_subjectDependent.STIMULI_VALENCE, return_type='numpy')\n",
    "    labels = labels.squeeze()\n",
    "    start = time.time()\n",
    "    filters = CSP(data[labels==0], data[labels==1])\n",
    "    \n",
    "    csp_data = []\n",
    "    for index in range(len(data)):\n",
    "        \n",
    "        # (672, 32) @ (32, 32) = (672, 32)\n",
    "        csp = data[index].T @ filters[labels[index].astype(int)]\n",
    "        # (1, 32, 672)\n",
    "        csp = np.expand_dims(csp.T, axis=0)\n",
    "        csp_data.append(csp)\n",
    "\n",
    "    csp_data = np.vstack(csp_data)\n",
    "    # print(csp_data.shape) => (2400, 32, 128)\n",
    "    fe = FeatureExtractor(sfreq=128, selected_funcs=['pow_freq_bands'],params=params,n_jobs=8)\n",
    "    X = fe.fit_transform(X=csp_data)\n",
    "    # print(X.shape, time.time() - start) => (2400, 160) 1.2374355792999268\n",
    "\n",
    "    assert X.shape[1] == 160\n",
    "    _, acc, cross = train_model(X, labels.reshape(-1), groups, filename=filename)\n",
    "    print(f\"\\tVALENCE-{filename}|Acc={round(acc,5)}|10-CV={round(cross.mean(),5)}|STD={round(cross.std(),5)}|Time spend={time.time() - start}\")\n",
    "    accs_v.append(acc)\n",
    "    cv_means_v.append(cross.mean())\n",
    "    cv_stds_v.append(cross.std())\n",
    "print(f\"VALENCE|Acc={sum(accs_v)/len(accs_v)}|10-CV={sum(cv_means_v)/len(cv_means_v)}|STD={sum(cv_stds_v)/len(cv_stds_v)}\")"
   ]
  },
  {
   "cell_type": "code",
   "execution_count": 22,
   "metadata": {},
   "outputs": [
    {
     "name": "stdout",
     "output_type": "stream",
     "text": [
      "TOTAL|Acc=0.7672200520833331|10-CV=0.7035286458333333|STD=0.07865625694271056\n"
     ]
    }
   ],
   "source": [
    "accs.extend(accs_v)\n",
    "cv_means.extend(cv_means_v)\n",
    "cv_stds.extend(cv_stds_v)\n",
    "\n",
    "print(f\"TOTAL|Acc={sum(accs)/len(accs)}|10-CV={sum(cv_means)/len(cv_means)}|STD={sum(cv_stds)/len(cv_stds)}\")"
   ]
  }
 ],
 "metadata": {
  "interpreter": {
   "hash": "27768773b483d82a9b2b839e3fa80b1be5789db7fd78df4eedef2df266871616"
  },
  "kernelspec": {
   "display_name": "Python 3 (ipykernel)",
   "language": "python",
   "name": "python3"
  },
  "language_info": {
   "codemirror_mode": {
    "name": "ipython",
    "version": 3
   },
   "file_extension": ".py",
   "mimetype": "text/x-python",
   "name": "python",
   "nbconvert_exporter": "python",
   "pygments_lexer": "ipython3",
   "version": "3.8.10"
  }
 },
 "nbformat": 4,
 "nbformat_minor": 4
}
