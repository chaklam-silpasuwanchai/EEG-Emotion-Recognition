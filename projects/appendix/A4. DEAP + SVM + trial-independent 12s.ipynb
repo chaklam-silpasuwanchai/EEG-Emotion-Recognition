{
 "cells": [
  {
   "cell_type": "code",
   "execution_count": 1,
   "metadata": {},
   "outputs": [
    {
     "name": "stdout",
     "output_type": "stream",
     "text": [
      "Found: 32 files\n",
      "s01 (200, 2) [47.5 60. ]\n"
     ]
    }
   ],
   "source": [
    "import time\n",
    "import numpy as np\n",
    "from tqdm.notebook import tqdm\n",
    "\n",
    "from components.dataset_jo import *\n",
    "\n",
    "dataset = Dataset_subjectDependent('data')\n",
    "segment_lenght = 12 #second\n",
    "dataset.set_segment(7680//(128*segment_lenght))\n",
    "for filename in dataset.get_file_list():\n",
    "    data, labels, _ = dataset.get_data(filename, return_type='numpy')\n",
    "    print(filename, labels.shape, labels.sum(axis=0)/labels.shape[0]*100)\n",
    "    break"
   ]
  },
  {
   "cell_type": "code",
   "execution_count": 2,
   "metadata": {},
   "outputs": [],
   "source": [
    "def train_model(X_ori,y_ori,groups_ori,filename=None, kernel='rbf',return_text=False):\n",
    "    # Make a copy because I am paranoid\n",
    "    X,y,groups = X_ori.copy(), y_ori.copy(), groups_ori.copy()\n",
    "\n",
    "    from sklearn.svm import SVC\n",
    "    from sklearn.model_selection import GroupShuffleSplit \n",
    "    from sklearn.model_selection import cross_val_score\n",
    "\n",
    "    model = SVC(kernel=kernel,max_iter=50000)\n",
    "    cv = GroupShuffleSplit(n_splits=10, train_size=0.75, random_state=0)\n",
    "    cross = cross_val_score(model, X, y, cv=cv,groups=groups, n_jobs=8)\n",
    "    \n",
    "    # We probably dont need this\n",
    "    model = SVC(kernel=kernel, max_iter=50000)\n",
    "    model.fit(X, y)\n",
    "    ans = model.predict(X)\n",
    "    acc = sum(ans == y) / len(y)\n",
    "    # If the model answer with all 0 or 1, we print this message\n",
    "    text = None\n",
    "    if( sum(ans) == len(y) or sum(ans) == 0 ): \n",
    "        text = f\"-----WARNING: Model {filename} failed to learn: sum(ans)={sum(ans)} sum(y)={sum(y)} len(y)={len(y)}\"\n",
    "    if(return_text):\n",
    "        return model, acc, cross, text\n",
    "    else:\n",
    "        if(text != None): print(text)\n",
    "        return model, acc, cross"
   ]
  },
  {
   "cell_type": "markdown",
   "metadata": {},
   "source": [
    "## 2. Spectral Features"
   ]
  },
  {
   "cell_type": "code",
   "execution_count": 3,
   "metadata": {},
   "outputs": [],
   "source": [
    "from mne_features.feature_extraction import FeatureExtractor"
   ]
  },
  {
   "cell_type": "code",
   "execution_count": 7,
   "metadata": {},
   "outputs": [
    {
     "name": "stdout",
     "output_type": "stream",
     "text": [
      "\tAROUSAL-s01|Acc=0.61|10-CV=0.54|STD=0.14697|Time spend=33.40366077423096\n",
      "\tAROUSAL-s02|Acc=0.605|10-CV=0.522|STD=0.07454|Time spend=0.4545097351074219\n",
      "-----WARNING: Model s03 failed to learn: sum(ans)=0.0 sum(y)=40.0 len(y)=200\n",
      "\tAROUSAL-s03|Acc=0.8|10-CV=0.73|STD=0.15524|Time spend=0.4596371650695801\n",
      "\tAROUSAL-s04|Acc=0.635|10-CV=0.542|STD=0.09897|Time spend=0.5086207389831543\n",
      "\tAROUSAL-s05|Acc=0.57|10-CV=0.394|STD=0.09922|Time spend=0.4840714931488037\n",
      "\tAROUSAL-s06|Acc=0.595|10-CV=0.532|STD=0.14621|Time spend=0.4956550598144531\n",
      "\tAROUSAL-s07|Acc=0.695|10-CV=0.634|STD=0.11173|Time spend=0.5161631107330322\n",
      "\tAROUSAL-s08|Acc=0.615|10-CV=0.42|STD=0.10844|Time spend=0.4441061019897461\n",
      "\tAROUSAL-s09|Acc=0.63|10-CV=0.516|STD=0.09583|Time spend=0.43585944175720215\n",
      "\tAROUSAL-s10|Acc=0.695|10-CV=0.55|STD=0.12845|Time spend=0.4407029151916504\n",
      "-----WARNING: Model s11 failed to learn: sum(ans)=0.0 sum(y)=75.0 len(y)=200\n",
      "\tAROUSAL-s11|Acc=0.625|10-CV=0.606|STD=0.06576|Time spend=0.5013742446899414\n",
      "-----WARNING: Model s12 failed to learn: sum(ans)=200.0 sum(y)=165.0 len(y)=200\n",
      "\tAROUSAL-s12|Acc=0.825|10-CV=0.83|STD=0.1005|Time spend=0.4364938735961914\n",
      "-----WARNING: Model s13 failed to learn: sum(ans)=200.0 sum(y)=170.0 len(y)=200\n",
      "\tAROUSAL-s13|Acc=0.85|10-CV=0.84|STD=0.06633|Time spend=0.494675874710083\n",
      "-----WARNING: Model s14 failed to learn: sum(ans)=200.0 sum(y)=135.0 len(y)=200\n",
      "\tAROUSAL-s14|Acc=0.675|10-CV=0.65|STD=0.10247|Time spend=0.4759337902069092\n",
      "\tAROUSAL-s15|Acc=0.72|10-CV=0.598|STD=0.11746|Time spend=0.47785425186157227\n",
      "\tAROUSAL-s16|Acc=0.735|10-CV=0.514|STD=0.09211|Time spend=0.47576236724853516\n",
      "\tAROUSAL-s17|Acc=0.73|10-CV=0.628|STD=0.09516|Time spend=0.4502835273742676\n",
      "\tAROUSAL-s18|Acc=0.63|10-CV=0.584|STD=0.11482|Time spend=0.42981958389282227\n",
      "\tAROUSAL-s19|Acc=0.685|10-CV=0.63|STD=0.13454|Time spend=0.444835901260376\n",
      "-----WARNING: Model s20 failed to learn: sum(ans)=200.0 sum(y)=155.0 len(y)=200\n",
      "\tAROUSAL-s20|Acc=0.775|10-CV=0.82|STD=0.08718|Time spend=0.4453086853027344\n",
      "-----WARNING: Model s21 failed to learn: sum(ans)=200.0 sum(y)=160.0 len(y)=200\n",
      "\tAROUSAL-s21|Acc=0.8|10-CV=0.8|STD=0.1|Time spend=0.4452693462371826\n",
      "\tAROUSAL-s22|Acc=0.65|10-CV=0.598|STD=0.07236|Time spend=0.48870182037353516\n",
      "-----WARNING: Model s23 failed to learn: sum(ans)=0.0 sum(y)=50.0 len(y)=200\n",
      "\tAROUSAL-s23|Acc=0.75|10-CV=0.78|STD=0.09798|Time spend=0.43992114067077637\n",
      "-----WARNING: Model s24 failed to learn: sum(ans)=200.0 sum(y)=165.0 len(y)=200\n",
      "\tAROUSAL-s24|Acc=0.825|10-CV=0.82|STD=0.07483|Time spend=0.45795369148254395\n",
      "\tAROUSAL-s25|Acc=0.73|10-CV=0.732|STD=0.11321|Time spend=0.4854857921600342\n",
      "\tAROUSAL-s26|Acc=0.625|10-CV=0.536|STD=0.14527|Time spend=0.44698214530944824\n",
      "\tAROUSAL-s27|Acc=0.74|10-CV=0.644|STD=0.10461|Time spend=0.43123483657836914\n",
      "\tAROUSAL-s28|Acc=0.615|10-CV=0.466|STD=0.13537|Time spend=0.4499382972717285\n",
      "\tAROUSAL-s29|Acc=0.63|10-CV=0.524|STD=0.08139|Time spend=0.48061132431030273\n",
      "\tAROUSAL-s30|Acc=0.705|10-CV=0.508|STD=0.09086|Time spend=0.44761180877685547\n",
      "\tAROUSAL-s31|Acc=0.74|10-CV=0.522|STD=0.13812|Time spend=0.4635798931121826\n",
      "-----WARNING: Model s32 failed to learn: sum(ans)=200.0 sum(y)=135.0 len(y)=200\n",
      "\tAROUSAL-s32|Acc=0.675|10-CV=0.686|STD=0.11173|Time spend=0.43732476234436035\n",
      "AROUSAL|Acc=0.69328125|10-CV=0.6154999999999999|STD=0.10648938002908204\n",
      "\tVALENCE-s01|Acc=0.615|10-CV=0.436|STD=0.07031|Time spend=0.222900390625\n",
      "\tVALENCE-s02|Acc=0.685|10-CV=0.502|STD=0.15529|Time spend=0.21132445335388184\n",
      "\tVALENCE-s03|Acc=0.555|10-CV=0.428|STD=0.11839|Time spend=0.20740532875061035\n",
      "\tVALENCE-s04|Acc=0.715|10-CV=0.508|STD=0.08542|Time spend=0.2234649658203125\n",
      "\tVALENCE-s05|Acc=0.67|10-CV=0.568|STD=0.08447|Time spend=0.21921443939208984\n",
      "-----WARNING: Model s06 failed to learn: sum(ans)=200.0 sum(y)=150.0 len(y)=200\n",
      "\tVALENCE-s06|Acc=0.75|10-CV=0.72|STD=0.07483|Time spend=0.2640042304992676\n",
      "-----WARNING: Model s07 failed to learn: sum(ans)=200.0 sum(y)=140.0 len(y)=200\n",
      "\tVALENCE-s07|Acc=0.7|10-CV=0.656|STD=0.09871|Time spend=0.22379040718078613\n",
      "\tVALENCE-s08|Acc=0.7|10-CV=0.49|STD=0.09|Time spend=0.21513056755065918\n",
      "\tVALENCE-s09|Acc=0.755|10-CV=0.636|STD=0.10111|Time spend=0.20866656303405762\n",
      "\tVALENCE-s10|Acc=0.775|10-CV=0.716|STD=0.10111|Time spend=0.24644231796264648\n",
      "\tVALENCE-s11|Acc=0.64|10-CV=0.53|STD=0.1395|Time spend=0.20943427085876465\n",
      "\tVALENCE-s12|Acc=0.68|10-CV=0.494|STD=0.17275|Time spend=0.2258749008178711\n",
      "\tVALENCE-s13|Acc=0.795|10-CV=0.788|STD=0.11426|Time spend=0.22960662841796875\n",
      "\tVALENCE-s14|Acc=0.745|10-CV=0.638|STD=0.09816|Time spend=0.2344956398010254\n",
      "\tVALENCE-s15|Acc=0.825|10-CV=0.736|STD=0.088|Time spend=0.27462220191955566\n",
      "\tVALENCE-s16|Acc=0.735|10-CV=0.646|STD=0.10883|Time spend=0.2172832489013672\n",
      "-----WARNING: Model s17 failed to learn: sum(ans)=200.0 sum(y)=110.0 len(y)=200\n",
      "\tVALENCE-s17|Acc=0.55|10-CV=0.436|STD=0.11236|Time spend=0.21635985374450684\n",
      "\tVALENCE-s18|Acc=0.8|10-CV=0.634|STD=0.12619|Time spend=0.22155141830444336\n",
      "\tVALENCE-s19|Acc=0.685|10-CV=0.484|STD=0.15094|Time spend=0.23294329643249512\n",
      "\tVALENCE-s20|Acc=0.79|10-CV=0.628|STD=0.15131|Time spend=0.2277064323425293\n",
      "\tVALENCE-s21|Acc=0.62|10-CV=0.456|STD=0.08754|Time spend=0.22227048873901367\n",
      "\tVALENCE-s22|Acc=0.69|10-CV=0.562|STD=0.12568|Time spend=0.2178051471710205\n",
      "-----WARNING: Model s23 failed to learn: sum(ans)=200.0 sum(y)=130.0 len(y)=200\n",
      "\tVALENCE-s23|Acc=0.65|10-CV=0.61|STD=0.15133|Time spend=0.25925493240356445\n",
      "-----WARNING: Model s24 failed to learn: sum(ans)=0.0 sum(y)=90.0 len(y)=200\n",
      "\tVALENCE-s24|Acc=0.55|10-CV=0.43|STD=0.17939|Time spend=0.27542638778686523\n",
      "\tVALENCE-s25|Acc=0.615|10-CV=0.388|STD=0.10778|Time spend=0.25607752799987793\n",
      "-----WARNING: Model s26 failed to learn: sum(ans)=200.0 sum(y)=130.0 len(y)=200\n",
      "\tVALENCE-s26|Acc=0.65|10-CV=0.602|STD=0.1218|Time spend=0.2291698455810547\n",
      "-----WARNING: Model s27 failed to learn: sum(ans)=200.0 sum(y)=150.0 len(y)=200\n",
      "\tVALENCE-s27|Acc=0.75|10-CV=0.668|STD=0.12335|Time spend=0.22623944282531738\n",
      "\tVALENCE-s28|Acc=0.66|10-CV=0.516|STD=0.10385|Time spend=0.22166991233825684\n",
      "\tVALENCE-s29|Acc=0.725|10-CV=0.516|STD=0.08616|Time spend=0.22328639030456543\n",
      "-----WARNING: Model s30 failed to learn: sum(ans)=200.0 sum(y)=135.0 len(y)=200\n",
      "\tVALENCE-s30|Acc=0.675|10-CV=0.606|STD=0.13025|Time spend=0.24484515190124512\n",
      "-----WARNING: Model s31 failed to learn: sum(ans)=200.0 sum(y)=115.0 len(y)=200\n",
      "\tVALENCE-s31|Acc=0.575|10-CV=0.452|STD=0.07909|Time spend=0.24876952171325684\n",
      "\tVALENCE-s32|Acc=0.69|10-CV=0.588|STD=0.09887|Time spend=0.21957731246948242\n",
      "VALENCE|Acc=0.6879687499999999|10-CV=0.5646250000000002|STD=0.11365852739109238\n",
      "TOTAL|Acc=0.6906249999999997|10-CV=0.5900624999999998|STD=0.11007395371008721\n"
     ]
    }
   ],
   "source": [
    "bands = [(0,4), (4,8), (8,12), (12,30), (30,64)]\n",
    "# [alias_feature_function]__[optional_param]\n",
    "params = dict({\n",
    "    'pow_freq_bands__log':True,\n",
    "    'pow_freq_bands__normalize':False,\n",
    "    'pow_freq_bands__freq_bands':bands\n",
    "})\n",
    "\n",
    "\n",
    "accs,cv_means,cv_stds  = [],[],[]\n",
    "# count = 0\n",
    "for filename in dataset.get_file_list():\n",
    "    start = time.time()\n",
    "    data, labels, groups = dataset.get_data(filename, stimuli=Dataset_subjectDependent.STIMULI_AROUSAL, return_type='numpy')\n",
    "    fe = FeatureExtractor(sfreq=128, selected_funcs=['pow_freq_bands'],params=params,n_jobs=8)\n",
    "    X = fe.fit_transform(X=data)\n",
    "    _, acc, cross = train_model(X, labels.reshape(-1), groups,filename=filename)\n",
    "    print(f\"\\tAROUSAL-{filename}|Acc={round(acc,5)}|10-CV={round(cross.mean(),5)}|STD={round(cross.std(),5)}|Time spend={time.time() - start}\")\n",
    "    accs.append(acc)\n",
    "    cv_means.append(cross.mean())\n",
    "    cv_stds.append(cross.std())\n",
    "    # count+=1\n",
    "    # if(count == 5): break\n",
    "print(f\"AROUSAL|Acc={sum(accs)/len(accs)}|10-CV={sum(cv_means)/len(cv_means)}|STD={sum(cv_stds)/len(cv_stds)}\")\n",
    "\n",
    "accs_v,cv_means_v,cv_stds_v  = [],[],[]\n",
    "# count=0\n",
    "for filename in dataset.get_file_list():\n",
    "    start = time.time()\n",
    "    data, labels, groups = dataset.get_data(filename, stimuli=Dataset_subjectDependent.STIMULI_VALENCE, return_type='numpy')\n",
    "    fe = FeatureExtractor(sfreq=128, selected_funcs=['pow_freq_bands'],params=params,n_jobs=8)\n",
    "    X = fe.fit_transform(X=data)\n",
    "    _, acc, cross = train_model(X, labels.reshape(-1), groups,filename=filename)\n",
    "    print(f\"\\tVALENCE-{filename}|Acc={round(acc,5)}|10-CV={round(cross.mean(),5)}|STD={round(cross.std(),5)}|Time spend={time.time() - start}\")\n",
    "    accs_v.append(acc)\n",
    "    cv_means_v.append(cross.mean())\n",
    "    cv_stds_v.append(cross.std())\n",
    "    # count+=1\n",
    "    # if(count == 5): break\n",
    "print(f\"VALENCE|Acc={sum(accs_v)/len(accs_v)}|10-CV={sum(cv_means_v)/len(cv_means_v)}|STD={sum(cv_stds_v)/len(cv_stds_v)}\")\n",
    "\n",
    "accs.extend(accs_v)\n",
    "cv_means.extend(cv_means_v)\n",
    "cv_stds.extend(cv_stds_v)\n",
    "print(f\"TOTAL|Acc={sum(accs)/len(accs)}|10-CV={sum(cv_means)/len(cv_means)}|STD={sum(cv_stds)/len(cv_stds)}\")"
   ]
  },
  {
   "cell_type": "markdown",
   "metadata": {},
   "source": [
    "## 3. Asymetry"
   ]
  },
  {
   "cell_type": "code",
   "execution_count": 8,
   "metadata": {},
   "outputs": [
    {
     "name": "stdout",
     "output_type": "stream",
     "text": [
      "left_channel_indexes=[0, 3, 2, 7, 11, 6, 10, 13, 1, 4, 5, 8, 9, 12]\n",
      "right_channel_indexes=[16, 20, 19, 25, 29, 24, 28, 31, 17, 21, 22, 26, 27, 30]\n",
      "frontal_channel_indexes=[4, 5, 22, 21, 3, 2, 18, 19, 20, 0, 16]\n",
      "posterior_channel_indexes=[8, 9, 27, 26, 11, 10, 15, 28, 29, 13, 31]\n"
     ]
    }
   ],
   "source": [
    "channels = ['Fp1','AF3','F3','F7','FC5','FC1','C3','T7','CP5','CP1','P3','P7','PO3','O1','Oz','Pz','Fp2','AF4','Fz','F4','F8','FC6','FC2','Cz','C4','T8','CP6','CP2','P4','P8','PO4','O2']\n",
    "left_channels = ['Fp1','F7','F3','T7','P7','C3','P3','O1','AF3','FC5','FC1','CP5','CP1','PO3']\n",
    "right_channels = ['Fp2','F8','F4','T8','P8','C4','P4','O2','AF4','FC6','FC2','CP6','CP2','PO4']\n",
    "left_channel_indexes = [ channels.index(ch) for ch in left_channels ]\n",
    "right_channel_indexes = [ channels.index(ch) for ch in right_channels ]\n",
    "\n",
    "print(f\"{left_channel_indexes=}\")\n",
    "print(f\"{right_channel_indexes=}\")\n",
    "\n",
    "frontal_channels = ['FC5','FC1','FC2','FC6','F7','F3','Fz','F4','F8','Fp1','Fp2']\n",
    "posterior_channels = ['CP5','CP1','CP2','CP6','P7','P3','Pz','P4','P8','O1','O2']\n",
    "\n",
    "frontal_channel_indexes = [ channels.index(ch) for ch in frontal_channels ]\n",
    "posterior_channel_indexes = [ channels.index(ch) for ch in posterior_channels ]\n",
    "\n",
    "print(f\"{frontal_channel_indexes=}\")\n",
    "print(f\"{posterior_channel_indexes=}\")"
   ]
  },
  {
   "cell_type": "code",
   "execution_count": 9,
   "metadata": {},
   "outputs": [
    {
     "name": "stdout",
     "output_type": "stream",
     "text": [
      "-----WARNING: Model s01 failed to learn: sum(ans)=200.0 sum(y)=120.0 len(y)=200\n",
      "\tAROUSAL-s01-DASM|Acc=0.6|10-CV=0.554|STD=0.1478|Time spend=0.2547333240509033\n",
      "\tAROUSAL-s01-RASM|Acc=0.615|10-CV=0.56|STD=0.1562|Time spend=0.2722947597503662\n",
      "-----WARNING: Model s01 failed to learn: sum(ans)=200.0 sum(y)=120.0 len(y)=200\n",
      "\tAROUSAL-s01-DCAU|Acc=0.6|10-CV=0.536|STD=0.1326|Time spend=0.28708982467651367\n",
      "-----WARNING: Model s02 failed to learn: sum(ans)=200.0 sum(y)=120.0 len(y)=200\n",
      "\tAROUSAL-s02-DASM|Acc=0.6|10-CV=0.54|STD=0.10159|Time spend=0.24750566482543945\n",
      "\tAROUSAL-s02-RASM|Acc=0.625|10-CV=0.572|STD=0.14344|Time spend=0.2635335922241211\n",
      "\tAROUSAL-s02-DCAU|Acc=0.605|10-CV=0.5|STD=0.08899|Time spend=0.2817685604095459\n",
      "-----WARNING: Model s03 failed to learn: sum(ans)=0.0 sum(y)=40.0 len(y)=200\n",
      "\tAROUSAL-s03-DASM|Acc=0.8|10-CV=0.73|STD=0.15524|Time spend=0.24302101135253906\n",
      "\tAROUSAL-s03-RASM|Acc=0.81|10-CV=0.726|STD=0.15127|Time spend=0.2582542896270752\n",
      "-----WARNING: Model s03 failed to learn: sum(ans)=0.0 sum(y)=40.0 len(y)=200\n",
      "\tAROUSAL-s03-DCAU|Acc=0.8|10-CV=0.73|STD=0.15524|Time spend=0.27453112602233887\n",
      "-----WARNING: Model s04 failed to learn: sum(ans)=0.0 sum(y)=80.0 len(y)=200\n",
      "\tAROUSAL-s04-DASM|Acc=0.6|10-CV=0.508|STD=0.12007|Time spend=0.21722888946533203\n",
      "\tAROUSAL-s04-RASM|Acc=0.63|10-CV=0.518|STD=0.12278|Time spend=0.23108935356140137\n",
      "\tAROUSAL-s04-DCAU|Acc=0.67|10-CV=0.516|STD=0.12126|Time spend=0.24407553672790527\n",
      "\tAROUSAL-s05-DASM|Acc=0.55|10-CV=0.392|STD=0.09261|Time spend=0.20619821548461914\n",
      "-----WARNING: Model s05 failed to learn: sum(ans)=0.0 sum(y)=95.0 len(y)=200\n",
      "\tAROUSAL-s05-RASM|Acc=0.525|10-CV=0.382|STD=0.08022|Time spend=0.22246432304382324\n",
      "\tAROUSAL-s05-DCAU|Acc=0.585|10-CV=0.414|STD=0.12651|Time spend=0.23686861991882324\n",
      "\tAROUSAL-s06-DASM|Acc=0.625|10-CV=0.514|STD=0.14256|Time spend=0.20961785316467285\n",
      "-----WARNING: Model s06 failed to learn: sum(ans)=0.0 sum(y)=85.0 len(y)=200\n",
      "\tAROUSAL-s06-RASM|Acc=0.575|10-CV=0.53|STD=0.14262|Time spend=0.22562599182128906\n",
      "\tAROUSAL-s06-DCAU|Acc=0.635|10-CV=0.508|STD=0.13833|Time spend=0.23895525932312012\n",
      "-----WARNING: Model s07 failed to learn: sum(ans)=200.0 sum(y)=125.0 len(y)=200\n",
      "\tAROUSAL-s07-DASM|Acc=0.625|10-CV=0.63|STD=0.11975|Time spend=0.21769070625305176\n",
      "\tAROUSAL-s07-RASM|Acc=0.63|10-CV=0.648|STD=0.14675|Time spend=0.23174667358398438\n",
      "-----WARNING: Model s07 failed to learn: sum(ans)=200.0 sum(y)=125.0 len(y)=200\n",
      "\tAROUSAL-s07-DCAU|Acc=0.625|10-CV=0.648|STD=0.13977|Time spend=0.24798917770385742\n",
      "\tAROUSAL-s08-DASM|Acc=0.58|10-CV=0.444|STD=0.10032|Time spend=0.22233080863952637\n",
      "\tAROUSAL-s08-RASM|Acc=0.585|10-CV=0.508|STD=0.14648|Time spend=0.23969244956970215\n",
      "\tAROUSAL-s08-DCAU|Acc=0.645|10-CV=0.42|STD=0.11063|Time spend=0.25558924674987793\n",
      "\tAROUSAL-s09-DASM|Acc=0.605|10-CV=0.528|STD=0.11107|Time spend=0.22444915771484375\n",
      "\tAROUSAL-s09-RASM|Acc=0.67|10-CV=0.504|STD=0.09287|Time spend=0.238908052444458\n",
      "\tAROUSAL-s09-DCAU|Acc=0.615|10-CV=0.5|STD=0.09033|Time spend=0.253176212310791\n",
      "\tAROUSAL-s10-DASM|Acc=0.65|10-CV=0.568|STD=0.08818|Time spend=0.20423173904418945\n",
      "\tAROUSAL-s10-RASM|Acc=0.645|10-CV=0.55|STD=0.09726|Time spend=0.21872735023498535\n",
      "\tAROUSAL-s10-DCAU|Acc=0.67|10-CV=0.574|STD=0.06815|Time spend=0.2320568561553955\n",
      "\tAROUSAL-s11-DASM|Acc=0.63|10-CV=0.6|STD=0.0645|Time spend=0.20114755630493164\n",
      "-----WARNING: Model s11 failed to learn: sum(ans)=0.0 sum(y)=75.0 len(y)=200\n",
      "\tAROUSAL-s11-RASM|Acc=0.625|10-CV=0.596|STD=0.06053|Time spend=0.2159881591796875\n",
      "\tAROUSAL-s11-DCAU|Acc=0.655|10-CV=0.598|STD=0.06416|Time spend=0.22942876815795898\n",
      "-----WARNING: Model s12 failed to learn: sum(ans)=200.0 sum(y)=165.0 len(y)=200\n",
      "\tAROUSAL-s12-DASM|Acc=0.825|10-CV=0.83|STD=0.1005|Time spend=0.21593952178955078\n",
      "-----WARNING: Model s12 failed to learn: sum(ans)=200.0 sum(y)=165.0 len(y)=200\n",
      "\tAROUSAL-s12-RASM|Acc=0.825|10-CV=0.83|STD=0.1005|Time spend=0.23077011108398438\n",
      "-----WARNING: Model s12 failed to learn: sum(ans)=200.0 sum(y)=165.0 len(y)=200\n",
      "\tAROUSAL-s12-DCAU|Acc=0.825|10-CV=0.83|STD=0.1005|Time spend=0.24381089210510254\n",
      "-----WARNING: Model s13 failed to learn: sum(ans)=200.0 sum(y)=170.0 len(y)=200\n",
      "\tAROUSAL-s13-DASM|Acc=0.85|10-CV=0.84|STD=0.06633|Time spend=0.20761895179748535\n",
      "-----WARNING: Model s13 failed to learn: sum(ans)=200.0 sum(y)=170.0 len(y)=200\n",
      "\tAROUSAL-s13-RASM|Acc=0.85|10-CV=0.84|STD=0.06633|Time spend=0.22150516510009766\n",
      "-----WARNING: Model s13 failed to learn: sum(ans)=200.0 sum(y)=170.0 len(y)=200\n",
      "\tAROUSAL-s13-DCAU|Acc=0.85|10-CV=0.84|STD=0.06633|Time spend=0.23370122909545898\n",
      "-----WARNING: Model s14 failed to learn: sum(ans)=200.0 sum(y)=135.0 len(y)=200\n",
      "\tAROUSAL-s14-DASM|Acc=0.675|10-CV=0.65|STD=0.10247|Time spend=0.20786547660827637\n",
      "\tAROUSAL-s14-RASM|Acc=0.7|10-CV=0.66|STD=0.08854|Time spend=0.22315263748168945\n",
      "-----WARNING: Model s14 failed to learn: sum(ans)=200.0 sum(y)=135.0 len(y)=200\n",
      "\tAROUSAL-s14-DCAU|Acc=0.675|10-CV=0.65|STD=0.10247|Time spend=0.2378377914428711\n",
      "\tAROUSAL-s15-DASM|Acc=0.665|10-CV=0.572|STD=0.11285|Time spend=0.20550894737243652\n",
      "\tAROUSAL-s15-RASM|Acc=0.55|10-CV=0.462|STD=0.114|Time spend=0.22298955917358398\n",
      "\tAROUSAL-s15-DCAU|Acc=0.685|10-CV=0.56|STD=0.11063|Time spend=0.23921751976013184\n",
      "\tAROUSAL-s16-DASM|Acc=0.63|10-CV=0.48|STD=0.08198|Time spend=0.2079145908355713\n",
      "\tAROUSAL-s16-RASM|Acc=0.68|10-CV=0.53|STD=0.13214|Time spend=0.2230696678161621\n",
      "\tAROUSAL-s16-DCAU|Acc=0.635|10-CV=0.482|STD=0.07972|Time spend=0.23734235763549805\n",
      "\tAROUSAL-s17-DASM|Acc=0.73|10-CV=0.62|STD=0.10198|Time spend=0.2225027084350586\n",
      "\tAROUSAL-s17-RASM|Acc=0.62|10-CV=0.56|STD=0.09209|Time spend=0.23603343963623047\n",
      "\tAROUSAL-s17-DCAU|Acc=0.7|10-CV=0.59|STD=0.10555|Time spend=0.2510106563568115\n",
      "\tAROUSAL-s18-DASM|Acc=0.645|10-CV=0.568|STD=0.10323|Time spend=0.21016621589660645\n",
      "\tAROUSAL-s18-RASM|Acc=0.635|10-CV=0.6|STD=0.14142|Time spend=0.2234811782836914\n",
      "\tAROUSAL-s18-DCAU|Acc=0.64|10-CV=0.58|STD=0.10844|Time spend=0.2395176887512207\n",
      "\tAROUSAL-s19-DASM|Acc=0.685|10-CV=0.63|STD=0.13454|Time spend=0.2073826789855957\n",
      "\tAROUSAL-s19-RASM|Acc=0.68|10-CV=0.63|STD=0.13454|Time spend=0.22444510459899902\n",
      "\tAROUSAL-s19-DCAU|Acc=0.69|10-CV=0.624|STD=0.12737|Time spend=0.23910140991210938\n",
      "-----WARNING: Model s20 failed to learn: sum(ans)=200.0 sum(y)=155.0 len(y)=200\n",
      "\tAROUSAL-s20-DASM|Acc=0.775|10-CV=0.82|STD=0.08718|Time spend=0.20444726943969727\n",
      "\tAROUSAL-s20-RASM|Acc=0.79|10-CV=0.812|STD=0.07277|Time spend=0.21820878982543945\n",
      "-----WARNING: Model s20 failed to learn: sum(ans)=200.0 sum(y)=155.0 len(y)=200\n",
      "\tAROUSAL-s20-DCAU|Acc=0.775|10-CV=0.82|STD=0.08718|Time spend=0.2327876091003418\n",
      "-----WARNING: Model s21 failed to learn: sum(ans)=200.0 sum(y)=160.0 len(y)=200\n",
      "\tAROUSAL-s21-DASM|Acc=0.8|10-CV=0.8|STD=0.1|Time spend=0.2051713466644287\n",
      "-----WARNING: Model s21 failed to learn: sum(ans)=200.0 sum(y)=160.0 len(y)=200\n",
      "\tAROUSAL-s21-RASM|Acc=0.8|10-CV=0.8|STD=0.1|Time spend=0.21848011016845703\n",
      "-----WARNING: Model s21 failed to learn: sum(ans)=200.0 sum(y)=160.0 len(y)=200\n",
      "\tAROUSAL-s21-DCAU|Acc=0.8|10-CV=0.8|STD=0.1|Time spend=0.232283353805542\n",
      "\tAROUSAL-s22-DASM|Acc=0.665|10-CV=0.612|STD=0.0796|Time spend=0.19704532623291016\n",
      "\tAROUSAL-s22-RASM|Acc=0.675|10-CV=0.598|STD=0.08829|Time spend=0.21546411514282227\n",
      "\tAROUSAL-s22-DCAU|Acc=0.64|10-CV=0.586|STD=0.06756|Time spend=0.23083925247192383\n",
      "-----WARNING: Model s23 failed to learn: sum(ans)=0.0 sum(y)=50.0 len(y)=200\n",
      "\tAROUSAL-s23-DASM|Acc=0.75|10-CV=0.78|STD=0.09798|Time spend=0.2060556411743164\n",
      "\tAROUSAL-s23-RASM|Acc=0.755|10-CV=0.78|STD=0.09798|Time spend=0.21982789039611816\n",
      "-----WARNING: Model s23 failed to learn: sum(ans)=0.0 sum(y)=50.0 len(y)=200\n",
      "\tAROUSAL-s23-DCAU|Acc=0.75|10-CV=0.78|STD=0.09798|Time spend=0.23302578926086426\n",
      "-----WARNING: Model s24 failed to learn: sum(ans)=200.0 sum(y)=165.0 len(y)=200\n",
      "\tAROUSAL-s24-DASM|Acc=0.825|10-CV=0.82|STD=0.07483|Time spend=0.1871318817138672\n",
      "-----WARNING: Model s24 failed to learn: sum(ans)=200.0 sum(y)=165.0 len(y)=200\n",
      "\tAROUSAL-s24-RASM|Acc=0.825|10-CV=0.82|STD=0.07483|Time spend=0.2017199993133545\n",
      "-----WARNING: Model s24 failed to learn: sum(ans)=200.0 sum(y)=165.0 len(y)=200\n",
      "\tAROUSAL-s24-DCAU|Acc=0.825|10-CV=0.82|STD=0.07483|Time spend=0.21461081504821777\n",
      "-----WARNING: Model s25 failed to learn: sum(ans)=200.0 sum(y)=145.0 len(y)=200\n",
      "\tAROUSAL-s25-DASM|Acc=0.725|10-CV=0.734|STD=0.11664|Time spend=0.19792437553405762\n",
      "-----WARNING: Model s25 failed to learn: sum(ans)=200.0 sum(y)=145.0 len(y)=200\n",
      "\tAROUSAL-s25-RASM|Acc=0.725|10-CV=0.738|STD=0.12408|Time spend=0.21623778343200684\n",
      "-----WARNING: Model s25 failed to learn: sum(ans)=200.0 sum(y)=145.0 len(y)=200\n",
      "\tAROUSAL-s25-DCAU|Acc=0.725|10-CV=0.734|STD=0.11664|Time spend=0.23018383979797363\n",
      "\tAROUSAL-s26-DASM|Acc=0.685|10-CV=0.538|STD=0.12632|Time spend=0.22529268264770508\n",
      "\tAROUSAL-s26-RASM|Acc=0.58|10-CV=0.58|STD=0.15362|Time spend=0.23990654945373535\n",
      "\tAROUSAL-s26-DCAU|Acc=0.65|10-CV=0.508|STD=0.10245|Time spend=0.2544400691986084\n",
      "\tAROUSAL-s27-DASM|Acc=0.725|10-CV=0.654|STD=0.10883|Time spend=0.20879173278808594\n",
      "\tAROUSAL-s27-RASM|Acc=0.705|10-CV=0.624|STD=0.09625|Time spend=0.22270536422729492\n",
      "\tAROUSAL-s27-DCAU|Acc=0.71|10-CV=0.638|STD=0.10137|Time spend=0.23709869384765625\n",
      "-----WARNING: Model s28 failed to learn: sum(ans)=0.0 sum(y)=90.0 len(y)=200\n",
      "\tAROUSAL-s28-DASM|Acc=0.55|10-CV=0.404|STD=0.15844|Time spend=0.21706867218017578\n",
      "-----WARNING: Model s28 failed to learn: sum(ans)=0.0 sum(y)=90.0 len(y)=200\n",
      "\tAROUSAL-s28-RASM|Acc=0.55|10-CV=0.432|STD=0.12655|Time spend=0.23730158805847168\n",
      "-----WARNING: Model s28 failed to learn: sum(ans)=0.0 sum(y)=90.0 len(y)=200\n",
      "\tAROUSAL-s28-DCAU|Acc=0.55|10-CV=0.398|STD=0.14709|Time spend=0.258774995803833\n",
      "\tAROUSAL-s29-DASM|Acc=0.64|10-CV=0.514|STD=0.08052|Time spend=0.24460577964782715\n",
      "\tAROUSAL-s29-RASM|Acc=0.64|10-CV=0.522|STD=0.07291|Time spend=0.26274561882019043\n",
      "\tAROUSAL-s29-DCAU|Acc=0.63|10-CV=0.512|STD=0.07705|Time spend=0.2813115119934082\n",
      "\tAROUSAL-s30-DASM|Acc=0.66|10-CV=0.49|STD=0.08637|Time spend=0.23270273208618164\n",
      "\tAROUSAL-s30-RASM|Acc=0.64|10-CV=0.536|STD=0.10229|Time spend=0.2482612133026123\n",
      "\tAROUSAL-s30-DCAU|Acc=0.655|10-CV=0.5|STD=0.09077|Time spend=0.26400256156921387\n",
      "\tAROUSAL-s31-DASM|Acc=0.71|10-CV=0.608|STD=0.16546|Time spend=0.2036428451538086\n",
      "\tAROUSAL-s31-RASM|Acc=0.565|10-CV=0.382|STD=0.08171|Time spend=0.2197422981262207\n",
      "\tAROUSAL-s31-DCAU|Acc=0.71|10-CV=0.558|STD=0.1672|Time spend=0.2341628074645996\n",
      "-----WARNING: Model s32 failed to learn: sum(ans)=200.0 sum(y)=135.0 len(y)=200\n",
      "\tAROUSAL-s32-DASM|Acc=0.675|10-CV=0.728|STD=0.13029|Time spend=0.21013736724853516\n",
      "\tAROUSAL-s32-RASM|Acc=0.68|10-CV=0.746|STD=0.13625|Time spend=0.22490787506103516\n",
      "-----WARNING: Model s32 failed to learn: sum(ans)=200.0 sum(y)=135.0 len(y)=200\n",
      "\tAROUSAL-s32-DCAU|Acc=0.675|10-CV=0.7|STD=0.12166|Time spend=0.23741412162780762\n",
      "AROUSAL-DASM|Acc=0.6798437500000003|10-CV=0.615625|STD=0.10812538112745726\n",
      "AROUSAL-RASM|Acc=0.66890625|10-CV=0.6117499999999999|STD=0.11054829355745739\n",
      "AROUSAL-DCAU|Acc=0.6843750000000002|10-CV=0.6079375|STD=0.10589929624726502\n",
      "\tVALENCE-s01-DASM|Acc=0.565|10-CV=0.428|STD=0.06645|Time spend=0.20412540435791016\n",
      "\tVALENCE-s01-RASM|Acc=0.53|10-CV=0.396|STD=0.06375|Time spend=0.22097134590148926\n",
      "\tVALENCE-s01-DCAU|Acc=0.55|10-CV=0.438|STD=0.08122|Time spend=0.23532319068908691\n",
      "\tVALENCE-s02-DASM|Acc=0.71|10-CV=0.56|STD=0.11454|Time spend=0.20415282249450684\n",
      "\tVALENCE-s02-RASM|Acc=0.555|10-CV=0.468|STD=0.14865|Time spend=0.21964502334594727\n",
      "\tVALENCE-s02-DCAU|Acc=0.725|10-CV=0.66|STD=0.13054|Time spend=0.23288321495056152\n",
      "-----WARNING: Model s03 failed to learn: sum(ans)=200.0 sum(y)=110.0 len(y)=200\n",
      "\tVALENCE-s03-DASM|Acc=0.55|10-CV=0.412|STD=0.12238|Time spend=0.22701025009155273\n",
      "\tVALENCE-s03-RASM|Acc=0.565|10-CV=0.472|STD=0.15052|Time spend=0.24080824851989746\n",
      "-----WARNING: Model s03 failed to learn: sum(ans)=200.0 sum(y)=110.0 len(y)=200\n",
      "\tVALENCE-s03-DCAU|Acc=0.55|10-CV=0.406|STD=0.12002|Time spend=0.25719141960144043\n",
      "\tVALENCE-s04-DASM|Acc=0.665|10-CV=0.512|STD=0.09217|Time spend=0.3001587390899658\n",
      "\tVALENCE-s04-RASM|Acc=0.665|10-CV=0.54|STD=0.08899|Time spend=0.3169522285461426\n",
      "\tVALENCE-s04-DCAU|Acc=0.7|10-CV=0.544|STD=0.088|Time spend=0.3333754539489746\n",
      "\tVALENCE-s05-DASM|Acc=0.605|10-CV=0.554|STD=0.09677|Time spend=0.22346115112304688\n",
      "\tVALENCE-s05-RASM|Acc=0.63|10-CV=0.606|STD=0.09552|Time spend=0.23897218704223633\n",
      "\tVALENCE-s05-DCAU|Acc=0.63|10-CV=0.556|STD=0.11164|Time spend=0.25377440452575684\n",
      "-----WARNING: Model s06 failed to learn: sum(ans)=200.0 sum(y)=150.0 len(y)=200\n",
      "\tVALENCE-s06-DASM|Acc=0.75|10-CV=0.72|STD=0.07483|Time spend=0.2186570167541504\n",
      "-----WARNING: Model s06 failed to learn: sum(ans)=200.0 sum(y)=150.0 len(y)=200\n",
      "\tVALENCE-s06-RASM|Acc=0.75|10-CV=0.718|STD=0.07291|Time spend=0.23359131813049316\n",
      "-----WARNING: Model s06 failed to learn: sum(ans)=200.0 sum(y)=150.0 len(y)=200\n",
      "\tVALENCE-s06-DCAU|Acc=0.75|10-CV=0.72|STD=0.07483|Time spend=0.2473163604736328\n",
      "-----WARNING: Model s07 failed to learn: sum(ans)=200.0 sum(y)=140.0 len(y)=200\n",
      "\tVALENCE-s07-DASM|Acc=0.7|10-CV=0.69|STD=0.13748|Time spend=0.2059638500213623\n",
      "\tVALENCE-s07-RASM|Acc=0.705|10-CV=0.69|STD=0.13748|Time spend=0.22083735466003418\n",
      "-----WARNING: Model s07 failed to learn: sum(ans)=200.0 sum(y)=140.0 len(y)=200\n",
      "\tVALENCE-s07-DCAU|Acc=0.7|10-CV=0.69|STD=0.13748|Time spend=0.23987340927124023\n",
      "\tVALENCE-s08-DASM|Acc=0.675|10-CV=0.5|STD=0.10237|Time spend=0.21535706520080566\n",
      "\tVALENCE-s08-RASM|Acc=0.565|10-CV=0.47|STD=0.11145|Time spend=0.23025274276733398\n",
      "\tVALENCE-s08-DCAU|Acc=0.725|10-CV=0.5|STD=0.09592|Time spend=0.2438182830810547\n",
      "\tVALENCE-s09-DASM|Acc=0.725|10-CV=0.588|STD=0.16105|Time spend=0.2165834903717041\n",
      "\tVALENCE-s09-RASM|Acc=0.75|10-CV=0.606|STD=0.1066|Time spend=0.23301959037780762\n",
      "\tVALENCE-s09-DCAU|Acc=0.75|10-CV=0.642|STD=0.10255|Time spend=0.25028395652770996\n",
      "\tVALENCE-s10-DASM|Acc=0.77|10-CV=0.636|STD=0.14555|Time spend=0.20594501495361328\n",
      "\tVALENCE-s10-RASM|Acc=0.79|10-CV=0.738|STD=0.09857|Time spend=0.2196338176727295\n",
      "\tVALENCE-s10-DCAU|Acc=0.78|10-CV=0.722|STD=0.10176|Time spend=0.23279857635498047\n",
      "\tVALENCE-s11-DASM|Acc=0.67|10-CV=0.554|STD=0.15901|Time spend=0.24216794967651367\n",
      "\tVALENCE-s11-RASM|Acc=0.64|10-CV=0.544|STD=0.148|Time spend=0.25751662254333496\n",
      "\tVALENCE-s11-DCAU|Acc=0.665|10-CV=0.544|STD=0.15357|Time spend=0.2719428539276123\n",
      "\tVALENCE-s12-DASM|Acc=0.65|10-CV=0.492|STD=0.13862|Time spend=0.20812368392944336\n",
      "\tVALENCE-s12-RASM|Acc=0.53|10-CV=0.384|STD=0.10032|Time spend=0.22374367713928223\n",
      "\tVALENCE-s12-DCAU|Acc=0.615|10-CV=0.466|STD=0.17252|Time spend=0.23791074752807617\n",
      "\tVALENCE-s13-DASM|Acc=0.755|10-CV=0.706|STD=0.118|Time spend=0.2662088871002197\n",
      "\tVALENCE-s13-RASM|Acc=0.595|10-CV=0.464|STD=0.17177|Time spend=0.2860066890716553\n",
      "\tVALENCE-s13-DCAU|Acc=0.79|10-CV=0.768|STD=0.11669|Time spend=0.3042001724243164\n",
      "\tVALENCE-s14-DASM|Acc=0.71|10-CV=0.536|STD=0.11792|Time spend=0.21825385093688965\n",
      "\tVALENCE-s14-RASM|Acc=0.695|10-CV=0.522|STD=0.11881|Time spend=0.23392605781555176\n",
      "\tVALENCE-s14-DCAU|Acc=0.695|10-CV=0.554|STD=0.10278|Time spend=0.24967718124389648\n",
      "\tVALENCE-s15-DASM|Acc=0.785|10-CV=0.712|STD=0.07756|Time spend=0.19912290573120117\n",
      "\tVALENCE-s15-RASM|Acc=0.525|10-CV=0.382|STD=0.07068|Time spend=0.21672368049621582\n",
      "\tVALENCE-s15-DCAU|Acc=0.795|10-CV=0.738|STD=0.07666|Time spend=0.23022723197937012\n",
      "\tVALENCE-s16-DASM|Acc=0.755|10-CV=0.658|STD=0.09652|Time spend=0.2241051197052002\n",
      "\tVALENCE-s16-RASM|Acc=0.635|10-CV=0.61|STD=0.10555|Time spend=0.23882031440734863\n",
      "\tVALENCE-s16-DCAU|Acc=0.735|10-CV=0.648|STD=0.08863|Time spend=0.25533556938171387\n",
      "-----WARNING: Model s17 failed to learn: sum(ans)=200.0 sum(y)=110.0 len(y)=200\n",
      "\tVALENCE-s17-DASM|Acc=0.55|10-CV=0.438|STD=0.134|Time spend=0.2275855541229248\n",
      "\tVALENCE-s17-RASM|Acc=0.56|10-CV=0.468|STD=0.16497|Time spend=0.24460124969482422\n",
      "-----WARNING: Model s17 failed to learn: sum(ans)=200.0 sum(y)=110.0 len(y)=200\n",
      "\tVALENCE-s17-DCAU|Acc=0.55|10-CV=0.408|STD=0.10553|Time spend=0.26087284088134766\n",
      "\tVALENCE-s18-DASM|Acc=0.81|10-CV=0.64|STD=0.14724|Time spend=0.19676995277404785\n",
      "\tVALENCE-s18-RASM|Acc=0.61|10-CV=0.562|STD=0.15296|Time spend=0.21130633354187012\n",
      "\tVALENCE-s18-DCAU|Acc=0.795|10-CV=0.644|STD=0.13351|Time spend=0.2236473560333252\n",
      "\tVALENCE-s19-DASM|Acc=0.605|10-CV=0.458|STD=0.15658|Time spend=0.20832157135009766\n",
      "\tVALENCE-s19-RASM|Acc=0.605|10-CV=0.454|STD=0.19412|Time spend=0.22711849212646484\n",
      "\tVALENCE-s19-DCAU|Acc=0.66|10-CV=0.474|STD=0.15048|Time spend=0.24429678916931152\n",
      "\tVALENCE-s20-DASM|Acc=0.755|10-CV=0.598|STD=0.17285|Time spend=0.22225570678710938\n",
      "\tVALENCE-s20-RASM|Acc=0.605|10-CV=0.446|STD=0.182|Time spend=0.23792028427124023\n",
      "\tVALENCE-s20-DCAU|Acc=0.765|10-CV=0.578|STD=0.1834|Time spend=0.25348949432373047\n",
      "\tVALENCE-s21-DASM|Acc=0.6|10-CV=0.418|STD=0.09357|Time spend=0.19908905029296875\n",
      "-----WARNING: Model s21 failed to learn: sum(ans)=200.0 sum(y)=105.0 len(y)=200\n",
      "\tVALENCE-s21-RASM|Acc=0.525|10-CV=0.37|STD=0.09|Time spend=0.21815729141235352\n",
      "\tVALENCE-s21-DCAU|Acc=0.615|10-CV=0.45|STD=0.1063|Time spend=0.23338699340820312\n",
      "\tVALENCE-s22-DASM|Acc=0.6|10-CV=0.56|STD=0.13357|Time spend=0.2036268711090088\n",
      "\tVALENCE-s22-RASM|Acc=0.605|10-CV=0.534|STD=0.12265|Time spend=0.2194380760192871\n",
      "\tVALENCE-s22-DCAU|Acc=0.615|10-CV=0.57|STD=0.16667|Time spend=0.2342817783355713\n",
      "-----WARNING: Model s23 failed to learn: sum(ans)=200.0 sum(y)=130.0 len(y)=200\n",
      "\tVALENCE-s23-DASM|Acc=0.65|10-CV=0.602|STD=0.13724|Time spend=0.21928000450134277\n",
      "\tVALENCE-s23-RASM|Acc=0.665|10-CV=0.608|STD=0.14757|Time spend=0.23485755920410156\n",
      "-----WARNING: Model s23 failed to learn: sum(ans)=200.0 sum(y)=130.0 len(y)=200\n",
      "\tVALENCE-s23-DCAU|Acc=0.65|10-CV=0.61|STD=0.15133|Time spend=0.24970412254333496\n",
      "-----WARNING: Model s24 failed to learn: sum(ans)=0.0 sum(y)=90.0 len(y)=200\n",
      "\tVALENCE-s24-DASM|Acc=0.55|10-CV=0.43|STD=0.18466|Time spend=0.1957108974456787\n",
      "\tVALENCE-s24-RASM|Acc=0.6|10-CV=0.466|STD=0.18068|Time spend=0.21080350875854492\n",
      "\tVALENCE-s24-DCAU|Acc=0.66|10-CV=0.462|STD=0.17583|Time spend=0.22463321685791016\n",
      "\tVALENCE-s25-DASM|Acc=0.56|10-CV=0.374|STD=0.10239|Time spend=0.19681310653686523\n",
      "\tVALENCE-s25-RASM|Acc=0.52|10-CV=0.374|STD=0.09759|Time spend=0.21459412574768066\n",
      "\tVALENCE-s25-DCAU|Acc=0.56|10-CV=0.376|STD=0.09912|Time spend=0.22823834419250488\n",
      "-----WARNING: Model s26 failed to learn: sum(ans)=200.0 sum(y)=130.0 len(y)=200\n",
      "\tVALENCE-s26-DASM|Acc=0.65|10-CV=0.594|STD=0.11595|Time spend=0.20501446723937988\n",
      "-----WARNING: Model s26 failed to learn: sum(ans)=200.0 sum(y)=130.0 len(y)=200\n",
      "\tVALENCE-s26-RASM|Acc=0.65|10-CV=0.616|STD=0.13647|Time spend=0.21955347061157227\n",
      "-----WARNING: Model s26 failed to learn: sum(ans)=200.0 sum(y)=130.0 len(y)=200\n",
      "\tVALENCE-s26-DCAU|Acc=0.65|10-CV=0.582|STD=0.106|Time spend=0.2348489761352539\n",
      "-----WARNING: Model s27 failed to learn: sum(ans)=200.0 sum(y)=150.0 len(y)=200\n",
      "\tVALENCE-s27-DASM|Acc=0.75|10-CV=0.67|STD=0.12689|Time spend=0.2237253189086914\n",
      "\tVALENCE-s27-RASM|Acc=0.76|10-CV=0.67|STD=0.12689|Time spend=0.23814821243286133\n",
      "-----WARNING: Model s27 failed to learn: sum(ans)=200.0 sum(y)=150.0 len(y)=200\n",
      "\tVALENCE-s27-DCAU|Acc=0.75|10-CV=0.67|STD=0.12689|Time spend=0.2536191940307617\n",
      "-----WARNING: Model s28 failed to learn: sum(ans)=200.0 sum(y)=125.0 len(y)=200\n",
      "\tVALENCE-s28-DASM|Acc=0.625|10-CV=0.552|STD=0.14865|Time spend=0.2177445888519287\n",
      "\tVALENCE-s28-RASM|Acc=0.68|10-CV=0.544|STD=0.13109|Time spend=0.23367953300476074\n",
      "-----WARNING: Model s28 failed to learn: sum(ans)=200.0 sum(y)=125.0 len(y)=200\n",
      "\tVALENCE-s28-DCAU|Acc=0.625|10-CV=0.586|STD=0.16639|Time spend=0.24832725524902344\n",
      "\tVALENCE-s29-DASM|Acc=0.705|10-CV=0.534|STD=0.09635|Time spend=0.17732644081115723\n",
      "\tVALENCE-s29-RASM|Acc=0.585|10-CV=0.55|STD=0.11739|Time spend=0.19301939010620117\n",
      "\tVALENCE-s29-DCAU|Acc=0.685|10-CV=0.532|STD=0.09724|Time spend=0.20784449577331543\n",
      "-----WARNING: Model s30 failed to learn: sum(ans)=200.0 sum(y)=135.0 len(y)=200\n",
      "\tVALENCE-s30-DASM|Acc=0.675|10-CV=0.616|STD=0.14527|Time spend=0.23012185096740723\n",
      "\tVALENCE-s30-RASM|Acc=0.685|10-CV=0.62|STD=0.14697|Time spend=0.2486708164215088\n",
      "-----WARNING: Model s30 failed to learn: sum(ans)=200.0 sum(y)=135.0 len(y)=200\n",
      "\tVALENCE-s30-DCAU|Acc=0.675|10-CV=0.612|STD=0.14091|Time spend=0.26402926445007324\n",
      "\tVALENCE-s31-DASM|Acc=0.595|10-CV=0.48|STD=0.10621|Time spend=0.21083950996398926\n",
      "\tVALENCE-s31-RASM|Acc=0.62|10-CV=0.416|STD=0.13559|Time spend=0.22577762603759766\n",
      "-----WARNING: Model s31 failed to learn: sum(ans)=200.0 sum(y)=115.0 len(y)=200\n",
      "\tVALENCE-s31-DCAU|Acc=0.575|10-CV=0.44|STD=0.09798|Time spend=0.24300456047058105\n",
      "\tVALENCE-s32-DASM|Acc=0.665|10-CV=0.568|STD=0.09304|Time spend=0.19356679916381836\n",
      "\tVALENCE-s32-RASM|Acc=0.55|10-CV=0.41|STD=0.15395|Time spend=0.20897722244262695\n",
      "\tVALENCE-s32-DCAU|Acc=0.71|10-CV=0.626|STD=0.10471|Time spend=0.22360682487487793\n",
      "VALENCE-DASM|Acc=0.6682812499999999|10-CV=0.5559375000000001|STD=0.12236474253479722\n",
      "VALENCE-RASM|Acc=0.6234375000000001|10-CV=0.5224375|STD=0.1272012489246798\n",
      "VALENCE-DCAU|Acc=0.6779687499999999|10-CV=0.5692499999999999|STD=0.12084616843072911\n",
      "TOTAL-DASM|Acc=0.6740625000000001|10-CV=0.5857812499999998|STD=0.11524506183112729\n",
      "TOTAL-RASM|Acc=0.6461718749999998|10-CV=0.5670937499999998|STD=0.1188747712410686\n",
      "TOTAL-DCAU|Acc=0.6811718750000001|10-CV=0.58859375|STD=0.11337273233899704\n"
     ]
    }
   ],
   "source": [
    "bands = [(0,4), (4,8), (8,12), (12,30), (30,64)]\n",
    "# [alias_feature_function]__[optional_param]\n",
    "params = dict({\n",
    "    'pow_freq_bands__log':True,\n",
    "    'pow_freq_bands__normalize':False,\n",
    "    'pow_freq_bands__freq_bands':bands\n",
    "})\n",
    "\n",
    "accs,cv_means,cv_stds  = {'DASM':[],'RASM':[],'DCAU':[]},{'DASM':[],'RASM':[],'DCAU':[]},{'DASM':[],'RASM':[],'DCAU':[]}\n",
    "# count = 0\n",
    "for filename in dataset.get_file_list():\n",
    "    start = time.time()\n",
    "    data, labels, groups = dataset.get_data(filename, stimuli=Dataset_subjectDependent.STIMULI_AROUSAL, return_type='numpy')\n",
    "    fe = FeatureExtractor(sfreq=128, selected_funcs=['pow_freq_bands'],params=params,n_jobs=8)\n",
    "    X = fe.fit_transform(X=data)\n",
    "\n",
    "    PSD_left = X[:, left_channel_indexes].copy()\n",
    "    PSD_right = X[:, right_channel_indexes].copy()\n",
    "    PSD_frontal = X[:, frontal_channel_indexes].copy()\n",
    "    PSD_posterior = X[:, posterior_channel_indexes].copy()\n",
    "    X = {\n",
    "        'DASM': PSD_left - PSD_right,\n",
    "        'RASM': PSD_left / PSD_right,\n",
    "        'DCAU': PSD_frontal - PSD_posterior,\n",
    "    }\n",
    "\n",
    "    for feature_name in ['DASM','RASM','DCAU']:\n",
    "        _, acc, cross = train_model(X[feature_name], labels.reshape(-1), groups, filename=filename)\n",
    "        print(f\"\\tAROUSAL-{filename}-{feature_name}|Acc={round(acc,5)}|10-CV={round(cross.mean(),5)}|STD={round(cross.std(),5)}|Time spend={time.time() - start}\")\n",
    "        accs[feature_name].append(acc)\n",
    "        cv_means[feature_name].append(cross.mean())\n",
    "        cv_stds[feature_name].append(cross.std())\n",
    "    # count+=1\n",
    "    # if(count == 3): break\n",
    "for feature_name in ['DASM','RASM','DCAU']:\n",
    "    print(f\"AROUSAL-{feature_name}|Acc={sum(accs[feature_name])/len(accs[feature_name])}|10-CV={sum(cv_means[feature_name])/len(cv_means[feature_name])}|STD={sum(cv_stds[feature_name])/len(cv_stds[feature_name])}\")\n",
    "\n",
    "accs_v,cv_means_v,cv_stds_v  = {'DASM':[],'RASM':[],'DCAU':[]},{'DASM':[],'RASM':[],'DCAU':[]},{'DASM':[],'RASM':[],'DCAU':[]}\n",
    "# count=0\n",
    "for filename in dataset.get_file_list():\n",
    "    start = time.time()\n",
    "    data, labels, groups = dataset.get_data(filename, stimuli=Dataset_subjectDependent.STIMULI_VALENCE, return_type='numpy')\n",
    "    fe = FeatureExtractor(sfreq=128, selected_funcs=['pow_freq_bands'],params=params,n_jobs=8)\n",
    "    X = fe.fit_transform(X=data)\n",
    "\n",
    "    PSD_left = X[:, left_channel_indexes].copy()\n",
    "    PSD_right = X[:, right_channel_indexes].copy()\n",
    "    PSD_frontal = X[:, frontal_channel_indexes].copy()\n",
    "    PSD_posterior = X[:, posterior_channel_indexes].copy()\n",
    "    X = {\n",
    "        'DASM': PSD_left - PSD_right,\n",
    "        'RASM': PSD_left / PSD_right,\n",
    "        'DCAU': PSD_frontal - PSD_posterior,\n",
    "    }\n",
    "\n",
    "    for feature_name in ['DASM','RASM','DCAU']:\n",
    "        _, acc, cross = train_model(X[feature_name], labels.reshape(-1), groups, filename=filename)\n",
    "        print(f\"\\tVALENCE-{filename}-{feature_name}|Acc={round(acc,5)}|10-CV={round(cross.mean(),5)}|STD={round(cross.std(),5)}|Time spend={time.time() - start}\")\n",
    "        accs_v[feature_name].append(acc)\n",
    "        cv_means_v[feature_name].append(cross.mean())\n",
    "        cv_stds_v[feature_name].append(cross.std())\n",
    "    # count+=1\n",
    "    # if(count == 3): break\n",
    "for feature_name in ['DASM','RASM','DCAU']:\n",
    "    print(f\"VALENCE-{feature_name}|Acc={sum(accs_v[feature_name])/len(accs_v[feature_name])}|10-CV={sum(cv_means_v[feature_name])/len(cv_means_v[feature_name])}|STD={sum(cv_stds_v[feature_name])/len(cv_stds_v[feature_name])}\")\n",
    "\n",
    "for feature_name in ['DASM','RASM','DCAU']:\n",
    "    accs[feature_name].extend(accs_v[feature_name])\n",
    "    cv_means[feature_name].extend(cv_means_v[feature_name])\n",
    "    cv_stds[feature_name].extend(cv_stds_v[feature_name])\n",
    "    print(f\"TOTAL-{feature_name}|Acc={sum(accs[feature_name])/len(accs[feature_name])}|10-CV={sum(cv_means[feature_name])/len(cv_means[feature_name])}|STD={sum(cv_stds[feature_name])/len(cv_stds[feature_name])}\")"
   ]
  },
  {
   "cell_type": "markdown",
   "metadata": {},
   "source": [
    "## 4. Connectivity\n",
    "\n",
    "### 4.1 $ \\text{PCC}_{\\text{time}}(i,j) = \\frac{\\text{Cov}[\\mathbf{X}_i, \\mathbf{X}_j]}{\\sigma_{\\mathbf{X}_i} \\sigma_{\\mathbf{X}_j}} $"
   ]
  },
  {
   "cell_type": "code",
   "execution_count": 10,
   "metadata": {},
   "outputs": [],
   "source": [
    "\n",
    "def pearson_correlation(x,y):\n",
    "    \"\"\" x,y denoted the signal_x and signal_y following the equation \"\"\"\n",
    "    cov = np.cov(x, y)\n",
    "    # print(cov)\n",
    "    # [[ 8806859.74527069  8007149.0906219 ] ==> [[cov_xx, cov_xy]\n",
    "    # [ 8007149.0906219  10396797.72458848]]      [cov_yx, cov_yy]]\n",
    "    cov_xy = cov[0,1] # or cov[1,0]\n",
    "    cov_xx = cov[0,0]\n",
    "    cov_yy = cov[1,1]\n",
    "    corr = cov_xy / ( cov_xx**0.5 * cov_yy**0.5  )\n",
    "    return corr\n",
    "\n",
    "def _cal(p_id, partial_data):\n",
    "    # print(f\"p_id:{p_id} - data to run {partial_data.shape}\")\n",
    "    from itertools import combinations\n",
    "    pcc = []\n",
    "    for index in range(partial_data.shape[0]):\n",
    "        pcc_epoch = []\n",
    "        for comb in combinations(list(range(partial_data.shape[1])), 2):\n",
    "            pcc_ab = pearson_correlation(partial_data[index, comb[0], :], partial_data[index, comb[1], :]   )\n",
    "            pcc_epoch.append(pcc_ab)\n",
    "        pcc_epoch = np.hstack(pcc_epoch)\n",
    "        pcc.append(pcc_epoch)\n",
    "    pcc = np.vstack(pcc)\n",
    "    return pcc\n",
    "\n",
    "def calculate_pcc(data, n_jobs=8):\n",
    "    \"\"\" \n",
    "    Input: Expect data to have (n_epochs, n_channels, n_samples)\n",
    "    Output: (n_epochs, n_conn ) => n_conn = n_channels!/(2!(n_channels-2)!)\n",
    "    \"\"\"\n",
    "    from multiprocessing import Pool\n",
    "\n",
    "    try:\n",
    "        t_out = 60000\n",
    "        pool = Pool()\n",
    "        p_list = []\n",
    "        ans_list = []\n",
    "        num_p = n_jobs\n",
    "        indices = np.array_split(np.arange(data.shape[0]), num_p)\n",
    "        for p_id in range(num_p):\n",
    "            p_list.append(pool.apply_async(_cal, [p_id, data[indices[p_id]] ]))\n",
    "        for p_id in range(num_p):\n",
    "            ans_list.append( p_list[p_id].get(timeout=t_out) )\n",
    "        # ans_list\n",
    "    except Exception as e:\n",
    "        print(e)\n",
    "    finally:\n",
    "        print(\"========= close ========\")\n",
    "        pool.close() \n",
    "        pool.terminate()\n",
    "    return np.vstack(ans_list)"
   ]
  },
  {
   "cell_type": "code",
   "execution_count": 11,
   "metadata": {},
   "outputs": [
    {
     "data": {
      "application/vnd.jupyter.widget-view+json": {
       "model_id": "5dda61d733c84fab88f7825dbcf1ae9a",
       "version_major": 2,
       "version_minor": 0
      },
      "text/plain": [
       "  0%|          | 0/32 [00:00<?, ?it/s]"
      ]
     },
     "metadata": {},
     "output_type": "display_data"
    },
    {
     "name": "stdout",
     "output_type": "stream",
     "text": [
      "Fitted sphere radius:         95.3 mm\n",
      "Origin head coordinates:      -0.8 15.1 45.3 mm\n",
      "Origin device coordinates:    -0.8 15.1 45.3 mm\n",
      "========= close ========\n",
      "\tAROUSAL-s01|Acc=0.62|10-CV=0.534|STD=0.13742|Time spend=1.7578785419464111\n",
      "\tVALENCE-s01|Acc=0.64|10-CV=0.436|STD=0.08285|Time spend=1.8603579998016357\n",
      "Fitted sphere radius:         95.3 mm\n",
      "Origin head coordinates:      -0.8 15.1 45.3 mm\n",
      "Origin device coordinates:    -0.8 15.1 45.3 mm\n",
      "========= close ========\n",
      "\tAROUSAL-s02|Acc=0.6|10-CV=0.568|STD=0.13121|Time spend=1.3435869216918945\n",
      "\tVALENCE-s02|Acc=0.55|10-CV=0.436|STD=0.07838|Time spend=1.4264676570892334\n",
      "Fitted sphere radius:         95.3 mm\n",
      "Origin head coordinates:      -0.8 15.1 45.3 mm\n",
      "Origin device coordinates:    -0.8 15.1 45.3 mm\n",
      "========= close ========\n",
      "\tAROUSAL-s03|Acc=0.8|10-CV=0.73|STD=0.15524|Time spend=1.291214942932129\n",
      "\tVALENCE-s03|Acc=0.55|10-CV=0.422|STD=0.11505|Time spend=1.367992877960205\n",
      "Fitted sphere radius:         95.3 mm\n",
      "Origin head coordinates:      -0.8 15.1 45.3 mm\n",
      "Origin device coordinates:    -0.8 15.1 45.3 mm\n",
      "========= close ========\n",
      "\tAROUSAL-s04|Acc=0.6|10-CV=0.54|STD=0.22|Time spend=1.4651360511779785\n",
      "\tVALENCE-s04|Acc=0.6|10-CV=0.49|STD=0.18682|Time spend=1.5808143615722656\n",
      "Fitted sphere radius:         95.3 mm\n",
      "Origin head coordinates:      -0.8 15.1 45.3 mm\n",
      "Origin device coordinates:    -0.8 15.1 45.3 mm\n",
      "========= close ========\n",
      "\tAROUSAL-s05|Acc=0.575|10-CV=0.406|STD=0.11421|Time spend=2.0131235122680664\n",
      "\tVALENCE-s05|Acc=0.6|10-CV=0.592|STD=0.09347|Time spend=2.0903358459472656\n",
      "Fitted sphere radius:         95.3 mm\n",
      "Origin head coordinates:      -0.8 15.1 45.3 mm\n",
      "Origin device coordinates:    -0.8 15.1 45.3 mm\n",
      "========= close ========\n",
      "\tAROUSAL-s06|Acc=0.575|10-CV=0.522|STD=0.14127|Time spend=1.2491605281829834\n",
      "\tVALENCE-s06|Acc=0.75|10-CV=0.72|STD=0.07483|Time spend=1.3238561153411865\n",
      "Fitted sphere radius:         95.3 mm\n",
      "Origin head coordinates:      -0.8 15.1 45.3 mm\n",
      "Origin device coordinates:    -0.8 15.1 45.3 mm\n",
      "========= close ========\n",
      "\tAROUSAL-s07|Acc=0.625|10-CV=0.634|STD=0.12492|Time spend=1.3099112510681152\n",
      "\tVALENCE-s07|Acc=0.7|10-CV=0.684|STD=0.12862|Time spend=1.3777363300323486\n",
      "Fitted sphere radius:         95.3 mm\n",
      "Origin head coordinates:      -0.8 15.1 45.3 mm\n",
      "Origin device coordinates:    -0.8 15.1 45.3 mm\n",
      "========= close ========\n",
      "\tAROUSAL-s08|Acc=0.575|10-CV=0.448|STD=0.11356|Time spend=1.3526999950408936\n",
      "\tVALENCE-s08|Acc=0.685|10-CV=0.568|STD=0.10206|Time spend=1.4264311790466309\n",
      "Fitted sphere radius:         95.3 mm\n",
      "Origin head coordinates:      -0.8 15.1 45.3 mm\n",
      "Origin device coordinates:    -0.8 15.1 45.3 mm\n",
      "========= close ========\n",
      "\tAROUSAL-s09|Acc=0.6|10-CV=0.54|STD=0.12|Time spend=1.421459674835205\n",
      "\tVALENCE-s09|Acc=0.665|10-CV=0.524|STD=0.18564|Time spend=1.5073308944702148\n",
      "Fitted sphere radius:         95.3 mm\n",
      "Origin head coordinates:      -0.8 15.1 45.3 mm\n",
      "Origin device coordinates:    -0.8 15.1 45.3 mm\n",
      "========= close ========\n",
      "\tAROUSAL-s10|Acc=0.63|10-CV=0.464|STD=0.07684|Time spend=1.2626142501831055\n",
      "\tVALENCE-s10|Acc=0.715|10-CV=0.6|STD=0.1739|Time spend=1.334822177886963\n",
      "Fitted sphere radius:         95.3 mm\n",
      "Origin head coordinates:      -0.8 15.1 45.3 mm\n",
      "Origin device coordinates:    -0.8 15.1 45.3 mm\n",
      "========= close ========\n",
      "\tAROUSAL-s11|Acc=0.625|10-CV=0.624|STD=0.09583|Time spend=1.3725056648254395\n",
      "\tVALENCE-s11|Acc=0.6|10-CV=0.56|STD=0.16852|Time spend=1.4493446350097656\n",
      "Fitted sphere radius:         95.3 mm\n",
      "Origin head coordinates:      -0.8 15.1 45.3 mm\n",
      "Origin device coordinates:    -0.8 15.1 45.3 mm\n",
      "========= close ========\n",
      "\tAROUSAL-s12|Acc=0.825|10-CV=0.83|STD=0.1005|Time spend=1.3544604778289795\n",
      "\tVALENCE-s12|Acc=0.675|10-CV=0.418|STD=0.12015|Time spend=1.4449944496154785\n",
      "Fitted sphere radius:         95.3 mm\n",
      "Origin head coordinates:      -0.8 15.1 45.3 mm\n",
      "Origin device coordinates:    -0.8 15.1 45.3 mm\n",
      "========= close ========\n",
      "\tAROUSAL-s13|Acc=0.85|10-CV=0.84|STD=0.06633|Time spend=1.2456085681915283\n",
      "\tVALENCE-s13|Acc=0.745|10-CV=0.696|STD=0.05987|Time spend=1.319267749786377\n",
      "Fitted sphere radius:         95.3 mm\n",
      "Origin head coordinates:      -0.8 15.1 45.3 mm\n",
      "Origin device coordinates:    -0.8 15.1 45.3 mm\n",
      "========= close ========\n",
      "\tAROUSAL-s14|Acc=0.675|10-CV=0.65|STD=0.10247|Time spend=1.4099457263946533\n",
      "\tVALENCE-s14|Acc=0.68|10-CV=0.406|STD=0.09035|Time spend=1.4972829818725586\n",
      "Fitted sphere radius:         95.3 mm\n",
      "Origin head coordinates:      -0.8 15.1 45.3 mm\n",
      "Origin device coordinates:    -0.8 15.1 45.3 mm\n",
      "========= close ========\n",
      "\tAROUSAL-s15|Acc=0.535|10-CV=0.41|STD=0.08775|Time spend=1.5084433555603027\n",
      "\tVALENCE-s15|Acc=0.76|10-CV=0.716|STD=0.07684|Time spend=1.5967497825622559\n",
      "Fitted sphere radius:         95.3 mm\n",
      "Origin head coordinates:      -0.8 15.1 45.3 mm\n",
      "Origin device coordinates:    -0.8 15.1 45.3 mm\n",
      "========= close ========\n",
      "\tAROUSAL-s16|Acc=0.595|10-CV=0.346|STD=0.10042|Time spend=1.262136697769165\n",
      "\tVALENCE-s16|Acc=0.625|10-CV=0.638|STD=0.10098|Time spend=1.3331818580627441\n",
      "Fitted sphere radius:         95.3 mm\n",
      "Origin head coordinates:      -0.8 15.1 45.3 mm\n",
      "Origin device coordinates:    -0.8 15.1 45.3 mm\n",
      "========= close ========\n",
      "\tAROUSAL-s17|Acc=0.6|10-CV=0.56|STD=0.09165|Time spend=1.355377435684204\n",
      "\tVALENCE-s17|Acc=0.55|10-CV=0.406|STD=0.12395|Time spend=1.4348247051239014\n",
      "Fitted sphere radius:         95.3 mm\n",
      "Origin head coordinates:      -0.8 15.1 45.3 mm\n",
      "Origin device coordinates:    -0.8 15.1 45.3 mm\n",
      "========= close ========\n",
      "\tAROUSAL-s18|Acc=0.625|10-CV=0.574|STD=0.10239|Time spend=1.3388195037841797\n",
      "\tVALENCE-s18|Acc=0.72|10-CV=0.59|STD=0.16377|Time spend=1.4362444877624512\n",
      "Fitted sphere radius:         95.3 mm\n",
      "Origin head coordinates:      -0.8 15.1 45.3 mm\n",
      "Origin device coordinates:    -0.8 15.1 45.3 mm\n",
      "========= close ========\n",
      "\tAROUSAL-s19|Acc=0.685|10-CV=0.628|STD=0.1306|Time spend=1.26603364944458\n",
      "\tVALENCE-s19|Acc=0.63|10-CV=0.454|STD=0.14968|Time spend=1.3381140232086182\n",
      "Fitted sphere radius:         95.3 mm\n",
      "Origin head coordinates:      -0.8 15.1 45.3 mm\n",
      "Origin device coordinates:    -0.8 15.1 45.3 mm\n",
      "========= close ========\n",
      "\tAROUSAL-s20|Acc=0.775|10-CV=0.82|STD=0.08718|Time spend=1.2716562747955322\n",
      "\tVALENCE-s20|Acc=0.645|10-CV=0.518|STD=0.16455|Time spend=1.3393950462341309\n",
      "Fitted sphere radius:         95.3 mm\n",
      "Origin head coordinates:      -0.8 15.1 45.3 mm\n",
      "Origin device coordinates:    -0.8 15.1 45.3 mm\n",
      "========= close ========\n",
      "\tAROUSAL-s21|Acc=0.8|10-CV=0.8|STD=0.1|Time spend=1.3603386878967285\n",
      "\tVALENCE-s21|Acc=0.57|10-CV=0.402|STD=0.09009|Time spend=1.4554412364959717\n",
      "Fitted sphere radius:         95.3 mm\n",
      "Origin head coordinates:      -0.8 15.1 45.3 mm\n",
      "Origin device coordinates:    -0.8 15.1 45.3 mm\n",
      "========= close ========\n",
      "\tAROUSAL-s22|Acc=0.6|10-CV=0.61|STD=0.07|Time spend=1.7793266773223877\n",
      "\tVALENCE-s22|Acc=0.55|10-CV=0.538|STD=0.11814|Time spend=1.8535258769989014\n",
      "Fitted sphere radius:         95.3 mm\n",
      "Origin head coordinates:      -0.8 15.1 45.3 mm\n",
      "Origin device coordinates:    -0.8 15.1 45.3 mm\n",
      "========= close ========\n",
      "\tAROUSAL-s23|Acc=0.75|10-CV=0.78|STD=0.09798|Time spend=1.4146387577056885\n",
      "\tVALENCE-s23|Acc=0.65|10-CV=0.61|STD=0.15133|Time spend=1.4873261451721191\n",
      "Fitted sphere radius:         95.3 mm\n",
      "Origin head coordinates:      -0.8 15.1 45.3 mm\n",
      "Origin device coordinates:    -0.8 15.1 45.3 mm\n",
      "========= close ========\n",
      "\tAROUSAL-s24|Acc=0.825|10-CV=0.82|STD=0.07483|Time spend=1.393442153930664\n",
      "\tVALENCE-s24|Acc=0.56|10-CV=0.43|STD=0.18767|Time spend=1.4907159805297852\n",
      "Fitted sphere radius:         95.3 mm\n",
      "Origin head coordinates:      -0.8 15.1 45.3 mm\n",
      "Origin device coordinates:    -0.8 15.1 45.3 mm\n",
      "========= close ========\n",
      "\tAROUSAL-s25|Acc=0.725|10-CV=0.74|STD=0.12806|Time spend=1.3170685768127441\n",
      "\tVALENCE-s25|Acc=0.525|10-CV=0.372|STD=0.1125|Time spend=1.3898959159851074\n",
      "Fitted sphere radius:         95.3 mm\n",
      "Origin head coordinates:      -0.8 15.1 45.3 mm\n",
      "Origin device coordinates:    -0.8 15.1 45.3 mm\n",
      "========= close ========\n",
      "\tAROUSAL-s26|Acc=0.625|10-CV=0.552|STD=0.11634|Time spend=1.5502119064331055\n",
      "\tVALENCE-s26|Acc=0.65|10-CV=0.62|STD=0.14|Time spend=1.6465449333190918\n",
      "Fitted sphere radius:         95.3 mm\n",
      "Origin head coordinates:      -0.8 15.1 45.3 mm\n",
      "Origin device coordinates:    -0.8 15.1 45.3 mm\n",
      "========= close ========\n",
      "\tAROUSAL-s27|Acc=0.735|10-CV=0.628|STD=0.096|Time spend=1.3044037818908691\n",
      "\tVALENCE-s27|Acc=0.75|10-CV=0.67|STD=0.12689|Time spend=1.374986171722412\n",
      "Fitted sphere radius:         95.3 mm\n",
      "Origin head coordinates:      -0.8 15.1 45.3 mm\n",
      "Origin device coordinates:    -0.8 15.1 45.3 mm\n",
      "========= close ========\n",
      "\tAROUSAL-s28|Acc=0.55|10-CV=0.45|STD=0.18072|Time spend=1.299311637878418\n",
      "\tVALENCE-s28|Acc=0.625|10-CV=0.564|STD=0.15513|Time spend=1.3685202598571777\n",
      "Fitted sphere radius:         95.3 mm\n",
      "Origin head coordinates:      -0.8 15.1 45.3 mm\n",
      "Origin device coordinates:    -0.8 15.1 45.3 mm\n",
      "========= close ========\n",
      "\tAROUSAL-s29|Acc=0.625|10-CV=0.53|STD=0.09|Time spend=1.327211856842041\n",
      "\tVALENCE-s29|Acc=0.67|10-CV=0.598|STD=0.11881|Time spend=1.4009411334991455\n",
      "Fitted sphere radius:         95.3 mm\n",
      "Origin head coordinates:      -0.8 15.1 45.3 mm\n",
      "Origin device coordinates:    -0.8 15.1 45.3 mm\n",
      "========= close ========\n",
      "\tAROUSAL-s30|Acc=0.635|10-CV=0.496|STD=0.07419|Time spend=1.3435266017913818\n",
      "\tVALENCE-s30|Acc=0.675|10-CV=0.62|STD=0.14697|Time spend=1.4290797710418701\n",
      "Fitted sphere radius:         95.3 mm\n",
      "Origin head coordinates:      -0.8 15.1 45.3 mm\n",
      "Origin device coordinates:    -0.8 15.1 45.3 mm\n",
      "========= close ========\n",
      "\tAROUSAL-s31|Acc=0.615|10-CV=0.458|STD=0.1041|Time spend=1.4519360065460205\n",
      "\tVALENCE-s31|Acc=0.575|10-CV=0.476|STD=0.12579|Time spend=1.523775339126587\n",
      "Fitted sphere radius:         95.3 mm\n",
      "Origin head coordinates:      -0.8 15.1 45.3 mm\n",
      "Origin device coordinates:    -0.8 15.1 45.3 mm\n",
      "========= close ========\n",
      "\tAROUSAL-s32|Acc=0.675|10-CV=0.75|STD=0.13601|Time spend=1.3184406757354736\n",
      "\tVALENCE-s32|Acc=0.69|10-CV=0.634|STD=0.1066|Time spend=1.3996326923370361\n",
      "AROUSAL|Acc=0.6609375000000001|10-CV=0.6025624999999999|STD=0.11150071695958809\n",
      "VALENCE|Acc=0.6429687500000001|10-CV=0.5439999999999999|STD=0.12563067654509355\n"
     ]
    }
   ],
   "source": [
    "accs, cv_means, cv_stds = [],[],[]\n",
    "accs_v, cv_means_v, cv_stds_v = [],[],[]\n",
    "reports = []\n",
    "for filename in (pbar := tqdm(dataset.get_file_list())):\n",
    "    start = time.time()\n",
    "    pbar.set_description(filename)\n",
    "    data, labels, groups = dataset.get_data(filename, stimuli=Dataset_subjectDependent.STIMULI_AROUSAL, return_type='mne', sfreq=128)\n",
    "    data_csd = mne.preprocessing.compute_current_source_density(data)\n",
    "    pcc = calculate_pcc(data_csd.get_data())\n",
    "    _,acc,cross,train_report = train_model(pcc, labels.squeeze(), groups, filename=filename, return_text=True)\n",
    "    report = f\"\\tAROUSAL-{filename}|Acc={round(acc,5)}|10-CV={round(cross.mean(),5)}|STD={round(cross.std(),5)}|Time spend={time.time() - start}\"\n",
    "    print(report)\n",
    "    reports.append(report)\n",
    "    reports.append(train_report)\n",
    "    accs.append(acc)\n",
    "    cv_means.append(cross.mean())\n",
    "    cv_stds.append(cross.std())\n",
    "\n",
    "    _, labels_v, groups_v = dataset.get_data(filename, stimuli=Dataset_subjectDependent.STIMULI_VALENCE, return_type='mne', sfreq=128)\n",
    "    _,acc,cross,train_report = train_model(pcc, labels_v.squeeze(), groups_v, filename=filename, return_text=True)\n",
    "    report = f\"\\tVALENCE-{filename}|Acc={round(acc,5)}|10-CV={round(cross.mean(),5)}|STD={round(cross.std(),5)}|Time spend={time.time() - start}\"\n",
    "    print(report)\n",
    "    reports.append(report)\n",
    "    reports.append(train_report)\n",
    "    accs_v.append(acc)\n",
    "    cv_means_v.append(cross.mean())\n",
    "    cv_stds_v.append(cross.std())\n",
    "    # break\n",
    "    # count+=1\n",
    "    # if(count == 5): break\n",
    "report = f\"AROUSAL|Acc={sum(accs)/len(accs)}|10-CV={sum(cv_means)/len(cv_means)}|STD={sum(cv_stds)/len(cv_stds)}\"\n",
    "print(report)\n",
    "reports.append(report)\n",
    "report = f\"VALENCE|Acc={sum(accs_v)/len(accs_v)}|10-CV={sum(cv_means_v)/len(cv_means_v)}|STD={sum(cv_stds_v)/len(cv_stds_v)}\"\n",
    "print(report)\n",
    "reports.append(report)"
   ]
  },
  {
   "cell_type": "code",
   "execution_count": 12,
   "metadata": {},
   "outputs": [
    {
     "name": "stdout",
     "output_type": "stream",
     "text": [
      "\tAROUSAL-s01|Acc=0.62|10-CV=0.534|STD=0.13742|Time spend=1.7578785419464111\n",
      "\tVALENCE-s01|Acc=0.64|10-CV=0.436|STD=0.08285|Time spend=1.8603579998016357\n",
      "\tAROUSAL-s02|Acc=0.6|10-CV=0.568|STD=0.13121|Time spend=1.3435869216918945\n",
      "-----WARNING: Model s02 failed to learn: sum(ans)=200.0 sum(y)=120.0 len(y)=200\n",
      "\tVALENCE-s02|Acc=0.55|10-CV=0.436|STD=0.07838|Time spend=1.4264676570892334\n",
      "-----WARNING: Model s02 failed to learn: sum(ans)=200.0 sum(y)=110.0 len(y)=200\n",
      "\tAROUSAL-s03|Acc=0.8|10-CV=0.73|STD=0.15524|Time spend=1.291214942932129\n",
      "-----WARNING: Model s03 failed to learn: sum(ans)=0.0 sum(y)=40.0 len(y)=200\n",
      "\tVALENCE-s03|Acc=0.55|10-CV=0.422|STD=0.11505|Time spend=1.367992877960205\n",
      "-----WARNING: Model s03 failed to learn: sum(ans)=200.0 sum(y)=110.0 len(y)=200\n",
      "\tAROUSAL-s04|Acc=0.6|10-CV=0.54|STD=0.22|Time spend=1.4651360511779785\n",
      "-----WARNING: Model s04 failed to learn: sum(ans)=0.0 sum(y)=80.0 len(y)=200\n",
      "\tVALENCE-s04|Acc=0.6|10-CV=0.49|STD=0.18682|Time spend=1.5808143615722656\n",
      "-----WARNING: Model s04 failed to learn: sum(ans)=0.0 sum(y)=80.0 len(y)=200\n",
      "\tAROUSAL-s05|Acc=0.575|10-CV=0.406|STD=0.11421|Time spend=2.0131235122680664\n",
      "\tVALENCE-s05|Acc=0.6|10-CV=0.592|STD=0.09347|Time spend=2.0903358459472656\n",
      "-----WARNING: Model s05 failed to learn: sum(ans)=200.0 sum(y)=120.0 len(y)=200\n",
      "\tAROUSAL-s06|Acc=0.575|10-CV=0.522|STD=0.14127|Time spend=1.2491605281829834\n",
      "-----WARNING: Model s06 failed to learn: sum(ans)=0.0 sum(y)=85.0 len(y)=200\n",
      "\tVALENCE-s06|Acc=0.75|10-CV=0.72|STD=0.07483|Time spend=1.3238561153411865\n",
      "-----WARNING: Model s06 failed to learn: sum(ans)=200.0 sum(y)=150.0 len(y)=200\n",
      "\tAROUSAL-s07|Acc=0.625|10-CV=0.634|STD=0.12492|Time spend=1.3099112510681152\n",
      "-----WARNING: Model s07 failed to learn: sum(ans)=200.0 sum(y)=125.0 len(y)=200\n",
      "\tVALENCE-s07|Acc=0.7|10-CV=0.684|STD=0.12862|Time spend=1.3777363300323486\n",
      "-----WARNING: Model s07 failed to learn: sum(ans)=200.0 sum(y)=140.0 len(y)=200\n",
      "\tAROUSAL-s08|Acc=0.575|10-CV=0.448|STD=0.11356|Time spend=1.3526999950408936\n",
      "-----WARNING: Model s08 failed to learn: sum(ans)=200.0 sum(y)=115.0 len(y)=200\n",
      "\tVALENCE-s08|Acc=0.685|10-CV=0.568|STD=0.10206|Time spend=1.4264311790466309\n",
      "\tAROUSAL-s09|Acc=0.6|10-CV=0.54|STD=0.12|Time spend=1.421459674835205\n",
      "-----WARNING: Model s09 failed to learn: sum(ans)=200.0 sum(y)=120.0 len(y)=200\n",
      "\tVALENCE-s09|Acc=0.665|10-CV=0.524|STD=0.18564|Time spend=1.5073308944702148\n",
      "\tAROUSAL-s10|Acc=0.63|10-CV=0.464|STD=0.07684|Time spend=1.2626142501831055\n",
      "\tVALENCE-s10|Acc=0.715|10-CV=0.6|STD=0.1739|Time spend=1.334822177886963\n",
      "\tAROUSAL-s11|Acc=0.625|10-CV=0.624|STD=0.09583|Time spend=1.3725056648254395\n",
      "-----WARNING: Model s11 failed to learn: sum(ans)=0.0 sum(y)=75.0 len(y)=200\n",
      "\tVALENCE-s11|Acc=0.6|10-CV=0.56|STD=0.16852|Time spend=1.4493446350097656\n",
      "-----WARNING: Model s11 failed to learn: sum(ans)=200.0 sum(y)=120.0 len(y)=200\n",
      "\tAROUSAL-s12|Acc=0.825|10-CV=0.83|STD=0.1005|Time spend=1.3544604778289795\n",
      "-----WARNING: Model s12 failed to learn: sum(ans)=200.0 sum(y)=165.0 len(y)=200\n",
      "\tVALENCE-s12|Acc=0.675|10-CV=0.418|STD=0.12015|Time spend=1.4449944496154785\n",
      "\tAROUSAL-s13|Acc=0.85|10-CV=0.84|STD=0.06633|Time spend=1.2456085681915283\n",
      "-----WARNING: Model s13 failed to learn: sum(ans)=200.0 sum(y)=170.0 len(y)=200\n",
      "\tVALENCE-s13|Acc=0.745|10-CV=0.696|STD=0.05987|Time spend=1.319267749786377\n",
      "\tAROUSAL-s14|Acc=0.675|10-CV=0.65|STD=0.10247|Time spend=1.4099457263946533\n",
      "-----WARNING: Model s14 failed to learn: sum(ans)=200.0 sum(y)=135.0 len(y)=200\n",
      "\tVALENCE-s14|Acc=0.68|10-CV=0.406|STD=0.09035|Time spend=1.4972829818725586\n",
      "\tAROUSAL-s15|Acc=0.535|10-CV=0.41|STD=0.08775|Time spend=1.5084433555603027\n",
      "\tVALENCE-s15|Acc=0.76|10-CV=0.716|STD=0.07684|Time spend=1.5967497825622559\n",
      "\tAROUSAL-s16|Acc=0.595|10-CV=0.346|STD=0.10042|Time spend=1.262136697769165\n",
      "\tVALENCE-s16|Acc=0.625|10-CV=0.638|STD=0.10098|Time spend=1.3331818580627441\n",
      "-----WARNING: Model s16 failed to learn: sum(ans)=0.0 sum(y)=75.0 len(y)=200\n",
      "\tAROUSAL-s17|Acc=0.6|10-CV=0.56|STD=0.09165|Time spend=1.355377435684204\n",
      "-----WARNING: Model s17 failed to learn: sum(ans)=200.0 sum(y)=120.0 len(y)=200\n",
      "\tVALENCE-s17|Acc=0.55|10-CV=0.406|STD=0.12395|Time spend=1.4348247051239014\n",
      "-----WARNING: Model s17 failed to learn: sum(ans)=200.0 sum(y)=110.0 len(y)=200\n",
      "\tAROUSAL-s18|Acc=0.625|10-CV=0.574|STD=0.10239|Time spend=1.3388195037841797\n",
      "-----WARNING: Model s18 failed to learn: sum(ans)=200.0 sum(y)=125.0 len(y)=200\n",
      "\tVALENCE-s18|Acc=0.72|10-CV=0.59|STD=0.16377|Time spend=1.4362444877624512\n",
      "\tAROUSAL-s19|Acc=0.685|10-CV=0.628|STD=0.1306|Time spend=1.26603364944458\n",
      "\tVALENCE-s19|Acc=0.63|10-CV=0.454|STD=0.14968|Time spend=1.3381140232086182\n",
      "\tAROUSAL-s20|Acc=0.775|10-CV=0.82|STD=0.08718|Time spend=1.2716562747955322\n",
      "-----WARNING: Model s20 failed to learn: sum(ans)=200.0 sum(y)=155.0 len(y)=200\n",
      "\tVALENCE-s20|Acc=0.645|10-CV=0.518|STD=0.16455|Time spend=1.3393950462341309\n",
      "\tAROUSAL-s21|Acc=0.8|10-CV=0.8|STD=0.1|Time spend=1.3603386878967285\n",
      "-----WARNING: Model s21 failed to learn: sum(ans)=200.0 sum(y)=160.0 len(y)=200\n",
      "\tVALENCE-s21|Acc=0.57|10-CV=0.402|STD=0.09009|Time spend=1.4554412364959717\n",
      "\tAROUSAL-s22|Acc=0.6|10-CV=0.61|STD=0.07|Time spend=1.7793266773223877\n",
      "-----WARNING: Model s22 failed to learn: sum(ans)=200.0 sum(y)=120.0 len(y)=200\n",
      "\tVALENCE-s22|Acc=0.55|10-CV=0.538|STD=0.11814|Time spend=1.8535258769989014\n",
      "-----WARNING: Model s22 failed to learn: sum(ans)=0.0 sum(y)=90.0 len(y)=200\n",
      "\tAROUSAL-s23|Acc=0.75|10-CV=0.78|STD=0.09798|Time spend=1.4146387577056885\n",
      "-----WARNING: Model s23 failed to learn: sum(ans)=0.0 sum(y)=50.0 len(y)=200\n",
      "\tVALENCE-s23|Acc=0.65|10-CV=0.61|STD=0.15133|Time spend=1.4873261451721191\n",
      "-----WARNING: Model s23 failed to learn: sum(ans)=200.0 sum(y)=130.0 len(y)=200\n",
      "\tAROUSAL-s24|Acc=0.825|10-CV=0.82|STD=0.07483|Time spend=1.393442153930664\n",
      "-----WARNING: Model s24 failed to learn: sum(ans)=200.0 sum(y)=165.0 len(y)=200\n",
      "\tVALENCE-s24|Acc=0.56|10-CV=0.43|STD=0.18767|Time spend=1.4907159805297852\n",
      "\tAROUSAL-s25|Acc=0.725|10-CV=0.74|STD=0.12806|Time spend=1.3170685768127441\n",
      "-----WARNING: Model s25 failed to learn: sum(ans)=200.0 sum(y)=145.0 len(y)=200\n",
      "\tVALENCE-s25|Acc=0.525|10-CV=0.372|STD=0.1125|Time spend=1.3898959159851074\n",
      "-----WARNING: Model s25 failed to learn: sum(ans)=0.0 sum(y)=95.0 len(y)=200\n",
      "\tAROUSAL-s26|Acc=0.625|10-CV=0.552|STD=0.11634|Time spend=1.5502119064331055\n",
      "\tVALENCE-s26|Acc=0.65|10-CV=0.62|STD=0.14|Time spend=1.6465449333190918\n",
      "-----WARNING: Model s26 failed to learn: sum(ans)=200.0 sum(y)=130.0 len(y)=200\n",
      "\tAROUSAL-s27|Acc=0.735|10-CV=0.628|STD=0.096|Time spend=1.3044037818908691\n",
      "\tVALENCE-s27|Acc=0.75|10-CV=0.67|STD=0.12689|Time spend=1.374986171722412\n",
      "-----WARNING: Model s27 failed to learn: sum(ans)=200.0 sum(y)=150.0 len(y)=200\n",
      "\tAROUSAL-s28|Acc=0.55|10-CV=0.45|STD=0.18072|Time spend=1.299311637878418\n",
      "-----WARNING: Model s28 failed to learn: sum(ans)=0.0 sum(y)=90.0 len(y)=200\n",
      "\tVALENCE-s28|Acc=0.625|10-CV=0.564|STD=0.15513|Time spend=1.3685202598571777\n",
      "-----WARNING: Model s28 failed to learn: sum(ans)=200.0 sum(y)=125.0 len(y)=200\n",
      "\tAROUSAL-s29|Acc=0.625|10-CV=0.53|STD=0.09|Time spend=1.327211856842041\n",
      "-----WARNING: Model s29 failed to learn: sum(ans)=200.0 sum(y)=125.0 len(y)=200\n",
      "\tVALENCE-s29|Acc=0.67|10-CV=0.598|STD=0.11881|Time spend=1.4009411334991455\n",
      "\tAROUSAL-s30|Acc=0.635|10-CV=0.496|STD=0.07419|Time spend=1.3435266017913818\n",
      "\tVALENCE-s30|Acc=0.675|10-CV=0.62|STD=0.14697|Time spend=1.4290797710418701\n",
      "-----WARNING: Model s30 failed to learn: sum(ans)=200.0 sum(y)=135.0 len(y)=200\n",
      "\tAROUSAL-s31|Acc=0.615|10-CV=0.458|STD=0.1041|Time spend=1.4519360065460205\n",
      "\tVALENCE-s31|Acc=0.575|10-CV=0.476|STD=0.12579|Time spend=1.523775339126587\n",
      "-----WARNING: Model s31 failed to learn: sum(ans)=200.0 sum(y)=115.0 len(y)=200\n",
      "\tAROUSAL-s32|Acc=0.675|10-CV=0.75|STD=0.13601|Time spend=1.3184406757354736\n",
      "-----WARNING: Model s32 failed to learn: sum(ans)=200.0 sum(y)=135.0 len(y)=200\n",
      "\tVALENCE-s32|Acc=0.69|10-CV=0.634|STD=0.1066|Time spend=1.3996326923370361\n",
      "AROUSAL|Acc=0.6609375000000001|10-CV=0.6025624999999999|STD=0.11150071695958809\n",
      "VALENCE|Acc=0.6429687500000001|10-CV=0.5439999999999999|STD=0.12563067654509355\n",
      "TOTAL|Acc=0.6519531250000001|10-CV=0.57328125|STD=0.11856569675234083\n"
     ]
    }
   ],
   "source": [
    "for text in reports:\n",
    "    if(text == None): continue\n",
    "    print(text)\n",
    "\n",
    "accs.extend(accs_v)\n",
    "cv_means.extend(cv_means_v)\n",
    "cv_stds.extend(cv_stds_v)\n",
    "print(f\"TOTAL|Acc={sum(accs)/len(accs)}|10-CV={sum(cv_means)/len(cv_means)}|STD={sum(cv_stds)/len(cv_stds)}\")"
   ]
  },
  {
   "cell_type": "markdown",
   "metadata": {},
   "source": [
    "### 4.2 $ \\text{PCC}_{freq} (i,j) = \\frac{\\text{Cov}[\\hat{\\mathbf{X}}_i, \\hat{\\mathbf{X}}_j]}{\\sigma_{\\hat{\\mathbf{X}}_i} \\sigma_{\\hat{\\mathbf{X}}_j}} $"
   ]
  },
  {
   "cell_type": "code",
   "execution_count": 13,
   "metadata": {},
   "outputs": [],
   "source": [
    "def calculate_fft(signal, sfreq):\n",
    "    \"\"\" signal: can be 1D array of (n_sample,) or 2D array of (n_signal, n_sample)  \"\"\"\n",
    "    number_sample = signal.shape[-1]\n",
    "\n",
    "    # the result will be a complex number. We can obtain the magnitude using `absolute`\n",
    "    magnitude = np.abs(np.fft.fft(signal))\n",
    "    # scale the result\n",
    "    magnitude = magnitude / (number_sample/2)\n",
    "    # Selecting the range\n",
    "    magnitude = magnitude.T[:number_sample//2].T\n",
    "    freq_range = np.fft.fftfreq(number_sample, d=1/sfreq)[:number_sample//2]\n",
    "\n",
    "    return magnitude, freq_range"
   ]
  },
  {
   "cell_type": "code",
   "execution_count": 14,
   "metadata": {},
   "outputs": [
    {
     "data": {
      "application/vnd.jupyter.widget-view+json": {
       "model_id": "a67ec397d4494f318c022589db25446c",
       "version_major": 2,
       "version_minor": 0
      },
      "text/plain": [
       "  0%|          | 0/32 [00:00<?, ?it/s]"
      ]
     },
     "metadata": {},
     "output_type": "display_data"
    },
    {
     "name": "stdout",
     "output_type": "stream",
     "text": [
      "Fitted sphere radius:         95.3 mm\n",
      "Origin head coordinates:      -0.8 15.1 45.3 mm\n",
      "Origin device coordinates:    -0.8 15.1 45.3 mm\n",
      "========= close ========\n",
      "\tAROUSAL-s01|Acc=0.76|10-CV=0.572|STD=0.12655|Time spend=1.3973383903503418\n",
      "\tVALENCE-s01|Acc=0.775|10-CV=0.452|STD=0.07277|Time spend=1.515211820602417\n",
      "Fitted sphere radius:         95.3 mm\n",
      "Origin head coordinates:      -0.8 15.1 45.3 mm\n",
      "Origin device coordinates:    -0.8 15.1 45.3 mm\n",
      "========= close ========\n",
      "\tAROUSAL-s02|Acc=0.64|10-CV=0.546|STD=0.09124|Time spend=1.3789384365081787\n",
      "\tVALENCE-s02|Acc=0.63|10-CV=0.462|STD=0.09485|Time spend=1.4500069618225098\n",
      "Fitted sphere radius:         95.3 mm\n",
      "Origin head coordinates:      -0.8 15.1 45.3 mm\n",
      "Origin device coordinates:    -0.8 15.1 45.3 mm\n",
      "========= close ========\n",
      "\tAROUSAL-s03|Acc=0.8|10-CV=0.73|STD=0.15524|Time spend=1.34334135055542\n",
      "\tVALENCE-s03|Acc=0.565|10-CV=0.422|STD=0.11505|Time spend=1.4420356750488281\n",
      "Fitted sphere radius:         95.3 mm\n",
      "Origin head coordinates:      -0.8 15.1 45.3 mm\n",
      "Origin device coordinates:    -0.8 15.1 45.3 mm\n",
      "========= close ========\n",
      "\tAROUSAL-s04|Acc=0.605|10-CV=0.544|STD=0.2051|Time spend=1.5069055557250977\n",
      "\tVALENCE-s04|Acc=0.6|10-CV=0.492|STD=0.17394|Time spend=1.5986332893371582\n",
      "Fitted sphere radius:         95.3 mm\n",
      "Origin head coordinates:      -0.8 15.1 45.3 mm\n",
      "Origin device coordinates:    -0.8 15.1 45.3 mm\n",
      "========= close ========\n",
      "\tAROUSAL-s05|Acc=0.655|10-CV=0.396|STD=0.09287|Time spend=1.6803803443908691\n",
      "\tVALENCE-s05|Acc=0.63|10-CV=0.546|STD=0.0908|Time spend=1.7622332572937012\n",
      "Fitted sphere radius:         95.3 mm\n",
      "Origin head coordinates:      -0.8 15.1 45.3 mm\n",
      "Origin device coordinates:    -0.8 15.1 45.3 mm\n",
      "========= close ========\n",
      "\tAROUSAL-s06|Acc=0.64|10-CV=0.522|STD=0.13189|Time spend=1.43222975730896\n",
      "\tVALENCE-s06|Acc=0.75|10-CV=0.72|STD=0.07483|Time spend=1.5070514678955078\n",
      "Fitted sphere radius:         95.3 mm\n",
      "Origin head coordinates:      -0.8 15.1 45.3 mm\n",
      "Origin device coordinates:    -0.8 15.1 45.3 mm\n",
      "========= close ========\n",
      "\tAROUSAL-s07|Acc=0.695|10-CV=0.61|STD=0.1044|Time spend=1.5522618293762207\n",
      "\tVALENCE-s07|Acc=0.735|10-CV=0.686|STD=0.12233|Time spend=1.6359832286834717\n",
      "Fitted sphere radius:         95.3 mm\n",
      "Origin head coordinates:      -0.8 15.1 45.3 mm\n",
      "Origin device coordinates:    -0.8 15.1 45.3 mm\n",
      "========= close ========\n",
      "\tAROUSAL-s08|Acc=0.665|10-CV=0.394|STD=0.11491|Time spend=1.4665064811706543\n",
      "\tVALENCE-s08|Acc=0.71|10-CV=0.556|STD=0.10072|Time spend=1.546710729598999\n",
      "Fitted sphere radius:         95.3 mm\n",
      "Origin head coordinates:      -0.8 15.1 45.3 mm\n",
      "Origin device coordinates:    -0.8 15.1 45.3 mm\n",
      "========= close ========\n",
      "\tAROUSAL-s09|Acc=0.67|10-CV=0.53|STD=0.12466|Time spend=1.7244744300842285\n",
      "\tVALENCE-s09|Acc=0.74|10-CV=0.684|STD=0.05713|Time spend=1.8118889331817627\n",
      "Fitted sphere radius:         95.3 mm\n",
      "Origin head coordinates:      -0.8 15.1 45.3 mm\n",
      "Origin device coordinates:    -0.8 15.1 45.3 mm\n",
      "========= close ========\n",
      "\tAROUSAL-s10|Acc=0.655|10-CV=0.502|STD=0.11152|Time spend=1.6895256042480469\n",
      "\tVALENCE-s10|Acc=0.8|10-CV=0.75|STD=0.09685|Time spend=1.7796425819396973\n",
      "Fitted sphere radius:         95.3 mm\n",
      "Origin head coordinates:      -0.8 15.1 45.3 mm\n",
      "Origin device coordinates:    -0.8 15.1 45.3 mm\n",
      "========= close ========\n",
      "\tAROUSAL-s11|Acc=0.665|10-CV=0.594|STD=0.0566|Time spend=2.6352055072784424\n",
      "\tVALENCE-s11|Acc=0.69|10-CV=0.57|STD=0.16081|Time spend=2.7366440296173096\n",
      "Fitted sphere radius:         95.3 mm\n",
      "Origin head coordinates:      -0.8 15.1 45.3 mm\n",
      "Origin device coordinates:    -0.8 15.1 45.3 mm\n",
      "========= close ========\n",
      "\tAROUSAL-s12|Acc=0.825|10-CV=0.83|STD=0.1005|Time spend=1.3889455795288086\n",
      "\tVALENCE-s12|Acc=0.68|10-CV=0.468|STD=0.15829|Time spend=1.4911441802978516\n",
      "Fitted sphere radius:         95.3 mm\n",
      "Origin head coordinates:      -0.8 15.1 45.3 mm\n",
      "Origin device coordinates:    -0.8 15.1 45.3 mm\n",
      "========= close ========\n",
      "\tAROUSAL-s13|Acc=0.85|10-CV=0.84|STD=0.06633|Time spend=1.6204495429992676\n",
      "\tVALENCE-s13|Acc=0.75|10-CV=0.656|STD=0.05919|Time spend=1.70158052444458\n",
      "Fitted sphere radius:         95.3 mm\n",
      "Origin head coordinates:      -0.8 15.1 45.3 mm\n",
      "Origin device coordinates:    -0.8 15.1 45.3 mm\n",
      "========= close ========\n",
      "\tAROUSAL-s14|Acc=0.675|10-CV=0.65|STD=0.10247|Time spend=1.7676692008972168\n",
      "\tVALENCE-s14|Acc=0.755|10-CV=0.576|STD=0.11412|Time spend=1.8373627662658691\n",
      "Fitted sphere radius:         95.3 mm\n",
      "Origin head coordinates:      -0.8 15.1 45.3 mm\n",
      "Origin device coordinates:    -0.8 15.1 45.3 mm\n",
      "========= close ========\n",
      "\tAROUSAL-s15|Acc=0.705|10-CV=0.482|STD=0.10787|Time spend=1.9526829719543457\n",
      "\tVALENCE-s15|Acc=0.815|10-CV=0.704|STD=0.07838|Time spend=2.0252554416656494\n",
      "Fitted sphere radius:         95.3 mm\n",
      "Origin head coordinates:      -0.8 15.1 45.3 mm\n",
      "Origin device coordinates:    -0.8 15.1 45.3 mm\n",
      "========= close ========\n",
      "\tAROUSAL-s16|Acc=0.665|10-CV=0.444|STD=0.105|Time spend=1.5287082195281982\n",
      "\tVALENCE-s16|Acc=0.715|10-CV=0.648|STD=0.10438|Time spend=1.6355702877044678\n",
      "Fitted sphere radius:         95.3 mm\n",
      "Origin head coordinates:      -0.8 15.1 45.3 mm\n",
      "Origin device coordinates:    -0.8 15.1 45.3 mm\n",
      "========= close ========\n",
      "\tAROUSAL-s17|Acc=0.725|10-CV=0.566|STD=0.08857|Time spend=1.6743624210357666\n",
      "\tVALENCE-s17|Acc=0.55|10-CV=0.404|STD=0.09457|Time spend=1.771113395690918\n",
      "Fitted sphere radius:         95.3 mm\n",
      "Origin head coordinates:      -0.8 15.1 45.3 mm\n",
      "Origin device coordinates:    -0.8 15.1 45.3 mm\n",
      "========= close ========\n",
      "\tAROUSAL-s18|Acc=0.63|10-CV=0.544|STD=0.10268|Time spend=1.7155561447143555\n",
      "\tVALENCE-s18|Acc=0.77|10-CV=0.64|STD=0.15975|Time spend=1.7974703311920166\n",
      "Fitted sphere radius:         95.3 mm\n",
      "Origin head coordinates:      -0.8 15.1 45.3 mm\n",
      "Origin device coordinates:    -0.8 15.1 45.3 mm\n",
      "========= close ========\n",
      "\tAROUSAL-s19|Acc=0.75|10-CV=0.634|STD=0.12101|Time spend=1.5628910064697266\n",
      "\tVALENCE-s19|Acc=0.715|10-CV=0.466|STD=0.1233|Time spend=1.6530680656433105\n",
      "Fitted sphere radius:         95.3 mm\n",
      "Origin head coordinates:      -0.8 15.1 45.3 mm\n",
      "Origin device coordinates:    -0.8 15.1 45.3 mm\n",
      "========= close ========\n",
      "\tAROUSAL-s20|Acc=0.78|10-CV=0.82|STD=0.08718|Time spend=1.7451605796813965\n",
      "\tVALENCE-s20|Acc=0.72|10-CV=0.54|STD=0.15388|Time spend=1.8776721954345703\n",
      "Fitted sphere radius:         95.3 mm\n",
      "Origin head coordinates:      -0.8 15.1 45.3 mm\n",
      "Origin device coordinates:    -0.8 15.1 45.3 mm\n",
      "========= close ========\n",
      "\tAROUSAL-s21|Acc=0.8|10-CV=0.8|STD=0.1|Time spend=1.998802661895752\n",
      "\tVALENCE-s21|Acc=0.635|10-CV=0.442|STD=0.08022|Time spend=2.1092848777770996\n",
      "Fitted sphere radius:         95.3 mm\n",
      "Origin head coordinates:      -0.8 15.1 45.3 mm\n",
      "Origin device coordinates:    -0.8 15.1 45.3 mm\n",
      "========= close ========\n",
      "\tAROUSAL-s22|Acc=0.605|10-CV=0.572|STD=0.07756|Time spend=1.3964450359344482\n",
      "\tVALENCE-s22|Acc=0.655|10-CV=0.568|STD=0.08953|Time spend=1.490459680557251\n",
      "Fitted sphere radius:         95.3 mm\n",
      "Origin head coordinates:      -0.8 15.1 45.3 mm\n",
      "Origin device coordinates:    -0.8 15.1 45.3 mm\n",
      "========= close ========\n",
      "\tAROUSAL-s23|Acc=0.75|10-CV=0.78|STD=0.09798|Time spend=1.7397146224975586\n",
      "\tVALENCE-s23|Acc=0.72|10-CV=0.61|STD=0.13513|Time spend=1.8176615238189697\n",
      "Fitted sphere radius:         95.3 mm\n",
      "Origin head coordinates:      -0.8 15.1 45.3 mm\n",
      "Origin device coordinates:    -0.8 15.1 45.3 mm\n",
      "========= close ========\n",
      "\tAROUSAL-s24|Acc=0.825|10-CV=0.82|STD=0.07483|Time spend=1.7929701805114746\n",
      "\tVALENCE-s24|Acc=0.63|10-CV=0.5|STD=0.12033|Time spend=1.8726577758789062\n",
      "Fitted sphere radius:         95.3 mm\n",
      "Origin head coordinates:      -0.8 15.1 45.3 mm\n",
      "Origin device coordinates:    -0.8 15.1 45.3 mm\n",
      "========= close ========\n",
      "\tAROUSAL-s25|Acc=0.75|10-CV=0.738|STD=0.12408|Time spend=1.6540307998657227\n",
      "\tVALENCE-s25|Acc=0.615|10-CV=0.41|STD=0.11841|Time spend=1.727074146270752\n",
      "Fitted sphere radius:         95.3 mm\n",
      "Origin head coordinates:      -0.8 15.1 45.3 mm\n",
      "Origin device coordinates:    -0.8 15.1 45.3 mm\n",
      "========= close ========\n",
      "\tAROUSAL-s26|Acc=0.705|10-CV=0.552|STD=0.11565|Time spend=1.8542754650115967\n",
      "\tVALENCE-s26|Acc=0.65|10-CV=0.618|STD=0.13754|Time spend=1.9291658401489258\n",
      "Fitted sphere radius:         95.3 mm\n",
      "Origin head coordinates:      -0.8 15.1 45.3 mm\n",
      "Origin device coordinates:    -0.8 15.1 45.3 mm\n",
      "========= close ========\n",
      "\tAROUSAL-s27|Acc=0.735|10-CV=0.656|STD=0.10763|Time spend=1.6956720352172852\n",
      "\tVALENCE-s27|Acc=0.81|10-CV=0.68|STD=0.12554|Time spend=1.7874765396118164\n",
      "Fitted sphere radius:         95.3 mm\n",
      "Origin head coordinates:      -0.8 15.1 45.3 mm\n",
      "Origin device coordinates:    -0.8 15.1 45.3 mm\n",
      "========= close ========\n",
      "\tAROUSAL-s28|Acc=0.565|10-CV=0.426|STD=0.1434|Time spend=2.9932146072387695\n",
      "\tVALENCE-s28|Acc=0.625|10-CV=0.53|STD=0.13483|Time spend=3.099808931350708\n",
      "Fitted sphere radius:         95.3 mm\n",
      "Origin head coordinates:      -0.8 15.1 45.3 mm\n",
      "Origin device coordinates:    -0.8 15.1 45.3 mm\n",
      "========= close ========\n",
      "\tAROUSAL-s29|Acc=0.735|10-CV=0.55|STD=0.09767|Time spend=1.4792940616607666\n",
      "\tVALENCE-s29|Acc=0.705|10-CV=0.602|STD=0.08829|Time spend=1.5658130645751953\n",
      "Fitted sphere radius:         95.3 mm\n",
      "Origin head coordinates:      -0.8 15.1 45.3 mm\n",
      "Origin device coordinates:    -0.8 15.1 45.3 mm\n",
      "========= close ========\n",
      "\tAROUSAL-s30|Acc=0.695|10-CV=0.51|STD=0.07759|Time spend=1.767747402191162\n",
      "\tVALENCE-s30|Acc=0.675|10-CV=0.616|STD=0.14527|Time spend=1.839820146560669\n",
      "Fitted sphere radius:         95.3 mm\n",
      "Origin head coordinates:      -0.8 15.1 45.3 mm\n",
      "Origin device coordinates:    -0.8 15.1 45.3 mm\n",
      "========= close ========\n",
      "\tAROUSAL-s31|Acc=0.76|10-CV=0.506|STD=0.12167|Time spend=1.7830619812011719\n",
      "\tVALENCE-s31|Acc=0.68|10-CV=0.478|STD=0.13006|Time spend=1.8539671897888184\n",
      "Fitted sphere radius:         95.3 mm\n",
      "Origin head coordinates:      -0.8 15.1 45.3 mm\n",
      "Origin device coordinates:    -0.8 15.1 45.3 mm\n",
      "========= close ========\n",
      "\tAROUSAL-s32|Acc=0.715|10-CV=0.676|STD=0.128|Time spend=1.5167012214660645\n",
      "\tVALENCE-s32|Acc=0.7|10-CV=0.598|STD=0.09485|Time spend=1.6114420890808105\n",
      "AROUSAL|Acc=0.70921875|10-CV=0.6042500000000001|STD=0.10820813096072103\n",
      "VALENCE|Acc=0.6935937499999998|10-CV=0.5654374999999999|STD=0.11268664288552323\n"
     ]
    }
   ],
   "source": [
    "accs, cv_means, cv_stds = [],[],[]\n",
    "accs_v, cv_means_v, cv_stds_v = [],[],[]\n",
    "reports = []\n",
    "for filename in (pbar := tqdm(dataset.get_file_list())):\n",
    "    start = time.time()\n",
    "    pbar.set_description(filename)\n",
    "    data, labels, groups = dataset.get_data(filename, stimuli=Dataset_subjectDependent.STIMULI_AROUSAL, return_type='mne', sfreq=128)\n",
    "    \n",
    "    data_csd = mne.preprocessing.compute_current_source_density(data)\n",
    "    magnitude, freq_range = calculate_fft(data_csd.get_data(), 128)\n",
    "    pcc = calculate_pcc(magnitude)\n",
    "    _,acc,cross,train_report = train_model(pcc, labels.squeeze(), groups, filename=filename, return_text=True)\n",
    "    report = f\"\\tAROUSAL-{filename}|Acc={round(acc,5)}|10-CV={round(cross.mean(),5)}|STD={round(cross.std(),5)}|Time spend={time.time() - start}\"\n",
    "    print(report)\n",
    "    reports.append(report)\n",
    "    reports.append(train_report)\n",
    "    accs.append(acc)\n",
    "    cv_means.append(cross.mean())\n",
    "    cv_stds.append(cross.std())\n",
    "\n",
    "    _, labels_v, groups_v = dataset.get_data(filename, stimuli=Dataset_subjectDependent.STIMULI_VALENCE, return_type='mne', sfreq=128)\n",
    "    _,acc,cross,train_report = train_model(pcc, labels_v.squeeze(), groups_v, filename=filename, return_text=True)\n",
    "    report = f\"\\tVALENCE-{filename}|Acc={round(acc,5)}|10-CV={round(cross.mean(),5)}|STD={round(cross.std(),5)}|Time spend={time.time() - start}\"\n",
    "    print(report)\n",
    "    reports.append(report)\n",
    "    reports.append(train_report)\n",
    "    accs_v.append(acc)\n",
    "    cv_means_v.append(cross.mean())\n",
    "    cv_stds_v.append(cross.std())\n",
    "    # break\n",
    "    # count+=1\n",
    "    # if(count == 5): break\n",
    "report = f\"AROUSAL|Acc={sum(accs)/len(accs)}|10-CV={sum(cv_means)/len(cv_means)}|STD={sum(cv_stds)/len(cv_stds)}\"\n",
    "print(report)\n",
    "reports.append(report)\n",
    "report = f\"VALENCE|Acc={sum(accs_v)/len(accs_v)}|10-CV={sum(cv_means_v)/len(cv_means_v)}|STD={sum(cv_stds_v)/len(cv_stds_v)}\"\n",
    "print(report)\n",
    "reports.append(report)"
   ]
  },
  {
   "cell_type": "code",
   "execution_count": 15,
   "metadata": {},
   "outputs": [
    {
     "name": "stdout",
     "output_type": "stream",
     "text": [
      "\tAROUSAL-s01|Acc=0.76|10-CV=0.572|STD=0.12655|Time spend=1.3973383903503418\n",
      "\tVALENCE-s01|Acc=0.775|10-CV=0.452|STD=0.07277|Time spend=1.515211820602417\n",
      "\tAROUSAL-s02|Acc=0.64|10-CV=0.546|STD=0.09124|Time spend=1.3789384365081787\n",
      "\tVALENCE-s02|Acc=0.63|10-CV=0.462|STD=0.09485|Time spend=1.4500069618225098\n",
      "\tAROUSAL-s03|Acc=0.8|10-CV=0.73|STD=0.15524|Time spend=1.34334135055542\n",
      "-----WARNING: Model s03 failed to learn: sum(ans)=0.0 sum(y)=40.0 len(y)=200\n",
      "\tVALENCE-s03|Acc=0.565|10-CV=0.422|STD=0.11505|Time spend=1.4420356750488281\n",
      "\tAROUSAL-s04|Acc=0.605|10-CV=0.544|STD=0.2051|Time spend=1.5069055557250977\n",
      "\tVALENCE-s04|Acc=0.6|10-CV=0.492|STD=0.17394|Time spend=1.5986332893371582\n",
      "-----WARNING: Model s04 failed to learn: sum(ans)=0.0 sum(y)=80.0 len(y)=200\n",
      "\tAROUSAL-s05|Acc=0.655|10-CV=0.396|STD=0.09287|Time spend=1.6803803443908691\n",
      "\tVALENCE-s05|Acc=0.63|10-CV=0.546|STD=0.0908|Time spend=1.7622332572937012\n",
      "\tAROUSAL-s06|Acc=0.64|10-CV=0.522|STD=0.13189|Time spend=1.43222975730896\n",
      "\tVALENCE-s06|Acc=0.75|10-CV=0.72|STD=0.07483|Time spend=1.5070514678955078\n",
      "-----WARNING: Model s06 failed to learn: sum(ans)=200.0 sum(y)=150.0 len(y)=200\n",
      "\tAROUSAL-s07|Acc=0.695|10-CV=0.61|STD=0.1044|Time spend=1.5522618293762207\n",
      "\tVALENCE-s07|Acc=0.735|10-CV=0.686|STD=0.12233|Time spend=1.6359832286834717\n",
      "\tAROUSAL-s08|Acc=0.665|10-CV=0.394|STD=0.11491|Time spend=1.4665064811706543\n",
      "\tVALENCE-s08|Acc=0.71|10-CV=0.556|STD=0.10072|Time spend=1.546710729598999\n",
      "\tAROUSAL-s09|Acc=0.67|10-CV=0.53|STD=0.12466|Time spend=1.7244744300842285\n",
      "\tVALENCE-s09|Acc=0.74|10-CV=0.684|STD=0.05713|Time spend=1.8118889331817627\n",
      "\tAROUSAL-s10|Acc=0.655|10-CV=0.502|STD=0.11152|Time spend=1.6895256042480469\n",
      "\tVALENCE-s10|Acc=0.8|10-CV=0.75|STD=0.09685|Time spend=1.7796425819396973\n",
      "\tAROUSAL-s11|Acc=0.665|10-CV=0.594|STD=0.0566|Time spend=2.6352055072784424\n",
      "\tVALENCE-s11|Acc=0.69|10-CV=0.57|STD=0.16081|Time spend=2.7366440296173096\n",
      "\tAROUSAL-s12|Acc=0.825|10-CV=0.83|STD=0.1005|Time spend=1.3889455795288086\n",
      "-----WARNING: Model s12 failed to learn: sum(ans)=200.0 sum(y)=165.0 len(y)=200\n",
      "\tVALENCE-s12|Acc=0.68|10-CV=0.468|STD=0.15829|Time spend=1.4911441802978516\n",
      "\tAROUSAL-s13|Acc=0.85|10-CV=0.84|STD=0.06633|Time spend=1.6204495429992676\n",
      "-----WARNING: Model s13 failed to learn: sum(ans)=200.0 sum(y)=170.0 len(y)=200\n",
      "\tVALENCE-s13|Acc=0.75|10-CV=0.656|STD=0.05919|Time spend=1.70158052444458\n",
      "\tAROUSAL-s14|Acc=0.675|10-CV=0.65|STD=0.10247|Time spend=1.7676692008972168\n",
      "-----WARNING: Model s14 failed to learn: sum(ans)=200.0 sum(y)=135.0 len(y)=200\n",
      "\tVALENCE-s14|Acc=0.755|10-CV=0.576|STD=0.11412|Time spend=1.8373627662658691\n",
      "\tAROUSAL-s15|Acc=0.705|10-CV=0.482|STD=0.10787|Time spend=1.9526829719543457\n",
      "\tVALENCE-s15|Acc=0.815|10-CV=0.704|STD=0.07838|Time spend=2.0252554416656494\n",
      "\tAROUSAL-s16|Acc=0.665|10-CV=0.444|STD=0.105|Time spend=1.5287082195281982\n",
      "\tVALENCE-s16|Acc=0.715|10-CV=0.648|STD=0.10438|Time spend=1.6355702877044678\n",
      "\tAROUSAL-s17|Acc=0.725|10-CV=0.566|STD=0.08857|Time spend=1.6743624210357666\n",
      "\tVALENCE-s17|Acc=0.55|10-CV=0.404|STD=0.09457|Time spend=1.771113395690918\n",
      "-----WARNING: Model s17 failed to learn: sum(ans)=200.0 sum(y)=110.0 len(y)=200\n",
      "\tAROUSAL-s18|Acc=0.63|10-CV=0.544|STD=0.10268|Time spend=1.7155561447143555\n",
      "\tVALENCE-s18|Acc=0.77|10-CV=0.64|STD=0.15975|Time spend=1.7974703311920166\n",
      "\tAROUSAL-s19|Acc=0.75|10-CV=0.634|STD=0.12101|Time spend=1.5628910064697266\n",
      "\tVALENCE-s19|Acc=0.715|10-CV=0.466|STD=0.1233|Time spend=1.6530680656433105\n",
      "\tAROUSAL-s20|Acc=0.78|10-CV=0.82|STD=0.08718|Time spend=1.7451605796813965\n",
      "\tVALENCE-s20|Acc=0.72|10-CV=0.54|STD=0.15388|Time spend=1.8776721954345703\n",
      "\tAROUSAL-s21|Acc=0.8|10-CV=0.8|STD=0.1|Time spend=1.998802661895752\n",
      "-----WARNING: Model s21 failed to learn: sum(ans)=200.0 sum(y)=160.0 len(y)=200\n",
      "\tVALENCE-s21|Acc=0.635|10-CV=0.442|STD=0.08022|Time spend=2.1092848777770996\n",
      "\tAROUSAL-s22|Acc=0.605|10-CV=0.572|STD=0.07756|Time spend=1.3964450359344482\n",
      "\tVALENCE-s22|Acc=0.655|10-CV=0.568|STD=0.08953|Time spend=1.490459680557251\n",
      "\tAROUSAL-s23|Acc=0.75|10-CV=0.78|STD=0.09798|Time spend=1.7397146224975586\n",
      "-----WARNING: Model s23 failed to learn: sum(ans)=0.0 sum(y)=50.0 len(y)=200\n",
      "\tVALENCE-s23|Acc=0.72|10-CV=0.61|STD=0.13513|Time spend=1.8176615238189697\n",
      "\tAROUSAL-s24|Acc=0.825|10-CV=0.82|STD=0.07483|Time spend=1.7929701805114746\n",
      "-----WARNING: Model s24 failed to learn: sum(ans)=200.0 sum(y)=165.0 len(y)=200\n",
      "\tVALENCE-s24|Acc=0.63|10-CV=0.5|STD=0.12033|Time spend=1.8726577758789062\n",
      "\tAROUSAL-s25|Acc=0.75|10-CV=0.738|STD=0.12408|Time spend=1.6540307998657227\n",
      "\tVALENCE-s25|Acc=0.615|10-CV=0.41|STD=0.11841|Time spend=1.727074146270752\n",
      "\tAROUSAL-s26|Acc=0.705|10-CV=0.552|STD=0.11565|Time spend=1.8542754650115967\n",
      "\tVALENCE-s26|Acc=0.65|10-CV=0.618|STD=0.13754|Time spend=1.9291658401489258\n",
      "-----WARNING: Model s26 failed to learn: sum(ans)=200.0 sum(y)=130.0 len(y)=200\n",
      "\tAROUSAL-s27|Acc=0.735|10-CV=0.656|STD=0.10763|Time spend=1.6956720352172852\n",
      "\tVALENCE-s27|Acc=0.81|10-CV=0.68|STD=0.12554|Time spend=1.7874765396118164\n",
      "\tAROUSAL-s28|Acc=0.565|10-CV=0.426|STD=0.1434|Time spend=2.9932146072387695\n",
      "\tVALENCE-s28|Acc=0.625|10-CV=0.53|STD=0.13483|Time spend=3.099808931350708\n",
      "-----WARNING: Model s28 failed to learn: sum(ans)=200.0 sum(y)=125.0 len(y)=200\n",
      "\tAROUSAL-s29|Acc=0.735|10-CV=0.55|STD=0.09767|Time spend=1.4792940616607666\n",
      "\tVALENCE-s29|Acc=0.705|10-CV=0.602|STD=0.08829|Time spend=1.5658130645751953\n",
      "\tAROUSAL-s30|Acc=0.695|10-CV=0.51|STD=0.07759|Time spend=1.767747402191162\n",
      "\tVALENCE-s30|Acc=0.675|10-CV=0.616|STD=0.14527|Time spend=1.839820146560669\n",
      "-----WARNING: Model s30 failed to learn: sum(ans)=200.0 sum(y)=135.0 len(y)=200\n",
      "\tAROUSAL-s31|Acc=0.76|10-CV=0.506|STD=0.12167|Time spend=1.7830619812011719\n",
      "\tVALENCE-s31|Acc=0.68|10-CV=0.478|STD=0.13006|Time spend=1.8539671897888184\n",
      "\tAROUSAL-s32|Acc=0.715|10-CV=0.676|STD=0.128|Time spend=1.5167012214660645\n",
      "\tVALENCE-s32|Acc=0.7|10-CV=0.598|STD=0.09485|Time spend=1.6114420890808105\n",
      "AROUSAL|Acc=0.70921875|10-CV=0.6042500000000001|STD=0.10820813096072103\n",
      "VALENCE|Acc=0.6935937499999998|10-CV=0.5654374999999999|STD=0.11268664288552323\n",
      "TOTAL|Acc=0.7014062500000001|10-CV=0.5848437500000001|STD=0.11044738692312212\n"
     ]
    }
   ],
   "source": [
    "for text in reports:\n",
    "    if(text == None): continue\n",
    "    print(text)\n",
    "\n",
    "accs.extend(accs_v)\n",
    "cv_means.extend(cv_means_v)\n",
    "cv_stds.extend(cv_stds_v)\n",
    "print(f\"TOTAL|Acc={sum(accs)/len(accs)}|10-CV={sum(cv_means)/len(cv_means)}|STD={sum(cv_stds)/len(cv_stds)}\")"
   ]
  },
  {
   "cell_type": "markdown",
   "metadata": {},
   "source": [
    "### 4.3 $ \\text{PLV}(j,k) = \\frac{1}{T} | \\Sigma^{T}_{t=1} e^{i(\\phi^{t}_{j} - \\phi^{t}_{k})}   | $"
   ]
  },
  {
   "cell_type": "code",
   "execution_count": 16,
   "metadata": {},
   "outputs": [],
   "source": [
    "# bands = [(0,4), (4,8), (8,12), (12,30), (30,64)]\n",
    "def calculate_stft(signals, sfreq):\n",
    "    from scipy import signal\n",
    "    f_range, t_range, Z = signal.stft(signals, sfreq, nperseg=sfreq//10, nfft=sfreq)\n",
    "    magnitude = np.abs(Z) \n",
    "    phase = np.angle(Z)\n",
    "    return magnitude, phase, f_range, t_range\n",
    "\n",
    "def PLV_stft(p_id, phase):\n",
    "    # (32, 65, 12) => (channels, freqs, times)\n",
    "    # print(f\"p_id:{p_id} - data to run {phase.shape}\")\n",
    "    print(phase.shape)\n",
    "    from itertools import combinations\n",
    "    plv = []\n",
    "    # count = 0\n",
    "    for index in range(phase.shape[0]):\n",
    "        plv_epoch = []\n",
    "        for comb in combinations(list(range(phase.shape[1])), 2):\n",
    "            # shape = (65,12)\n",
    "            phase_a, phase_b = phase[index, comb[0]], phase[index, comb[1]]\n",
    "            phase_diff = phase_a - phase_b\n",
    "            # sum along the time size\n",
    "            plv_ab = np.abs(np.average(np.exp(complex(0,1) * phase_diff), axis=1))\n",
    "            plv_epoch.append(plv_ab)\n",
    "        plv_epoch = np.vstack(plv_epoch)\n",
    "        # print(plv_epoch.shape) => (300, 32, 65, 23)\n",
    "        plv_epoch_5 = np.concatenate([ plv_epoch[:,0:4].mean(axis=1).reshape(-1,1),\n",
    "                                        plv_epoch[:,4:8].mean(axis=1).reshape(-1,1),\n",
    "                                        plv_epoch[:,8:12].mean(axis=1).reshape(-1,1),\n",
    "                                        plv_epoch[:,12:30].mean(axis=1).reshape(-1,1),\n",
    "                                        plv_epoch[:,30:65].mean(axis=1).reshape(-1,1)], axis=0)\n",
    "        plv.append(np.expand_dims(plv_epoch_5, axis=0))\n",
    "        # count += 1\n",
    "        # if(count == 3): break\n",
    "    # shape (496, 65)\n",
    "    # 496 is number of pairs that is not duplicate\n",
    "    # 65 is number of phase of frequencies\n",
    "    plv = np.vstack( plv )\n",
    "    return plv.squeeze()\n",
    "\n",
    "def calculate_plv(data, n_jobs=8):\n",
    "    \"\"\" \n",
    "    Input: Expect data to have (n_epochs, n_channels, n_samples)\n",
    "    Output: (n_epochs, n_conn, n_freqs ) => n_conn = n_channels!/(2!(n_channels-2)!)\n",
    "    \"\"\"\n",
    "    from multiprocessing import Pool\n",
    "\n",
    "    try:\n",
    "        t_out = 60000\n",
    "        pool = Pool()\n",
    "        p_list = []\n",
    "        ans_list = []\n",
    "        num_p = n_jobs\n",
    "        indices = np.array_split(np.arange(data.shape[0]), num_p)\n",
    "        _, phase, _, _ = calculate_stft(data, 128)\n",
    "        for p_id in range(num_p):\n",
    "            p_list.append(pool.apply_async(PLV_stft, [p_id, phase[indices[p_id]] ]))\n",
    "        for p_id in range(num_p):\n",
    "            ans_list.append( p_list[p_id].get(timeout=t_out) )\n",
    "        # ans_list\n",
    "    finally:\n",
    "        print(\"========= close ========\")\n",
    "        pool.close() \n",
    "        pool.terminate()\n",
    "    return np.vstack(ans_list)\n"
   ]
  },
  {
   "cell_type": "code",
   "execution_count": 17,
   "metadata": {},
   "outputs": [
    {
     "data": {
      "application/vnd.jupyter.widget-view+json": {
       "model_id": "fd67a43db4094ecea48446a549476091",
       "version_major": 2,
       "version_minor": 0
      },
      "text/plain": [
       "  0%|          | 0/32 [00:00<?, ?it/s]"
      ]
     },
     "metadata": {},
     "output_type": "display_data"
    },
    {
     "name": "stdout",
     "output_type": "stream",
     "text": [
      "Fitted sphere radius:         95.3 mm\n",
      "Origin head coordinates:      -0.8 15.1 45.3 mm\n",
      "Origin device coordinates:    -0.8 15.1 45.3 mm\n",
      "(25, 32, 65, 257)\n",
      "(25, 32, 65, 257)\n",
      "(25, 32, 65, 257)\n",
      "(25, 32, 65, 257)\n",
      "(25, 32, 65, 257)\n",
      "(25, 32, 65, 257)\n",
      "(25, 32, 65, 257)\n",
      "(25, 32, 65, 257)\n",
      "========= close ========\n",
      "\tAROUSAL-s01|Acc=0.775|10-CV=0.548|STD=0.15549|Time spend=24.592607736587524\n",
      "\tVALENCE-s01|Acc=0.74|10-CV=0.524|STD=0.12484|Time spend=24.94776701927185\n",
      "Fitted sphere radius:         95.3 mm\n",
      "Origin head coordinates:      -0.8 15.1 45.3 mm\n",
      "Origin device coordinates:    -0.8 15.1 45.3 mm\n",
      "(25, 32, 65, 257)\n",
      "(25, 32, 65, 257)\n",
      "(25, 32, 65, 257)\n",
      "(25, 32, 65, 257)\n",
      "(25, 32, 65, 257)\n",
      "(25, 32, 65, 257)\n",
      "(25, 32, 65, 257)\n",
      "(25, 32, 65, 257)\n",
      "========= close ========\n",
      "\tAROUSAL-s02|Acc=0.69|10-CV=0.536|STD=0.07838|Time spend=17.733957052230835\n",
      "\tVALENCE-s02|Acc=0.745|10-CV=0.674|STD=0.09759|Time spend=18.034701347351074\n",
      "Fitted sphere radius:         95.3 mm\n",
      "Origin head coordinates:      -0.8 15.1 45.3 mm\n",
      "Origin device coordinates:    -0.8 15.1 45.3 mm\n",
      "(25, 32, 65, 257)\n",
      "(25, 32, 65, 257)\n",
      "(25, 32, 65, 257)\n",
      "(25, 32, 65, 257)\n",
      "(25, 32, 65, 257)\n",
      "(25, 32, 65, 257)\n",
      "(25, 32, 65, 257)\n",
      "(25, 32, 65, 257)\n",
      "========= close ========\n",
      "\tAROUSAL-s03|Acc=0.8|10-CV=0.73|STD=0.15524|Time spend=17.722599267959595\n",
      "\tVALENCE-s03|Acc=0.73|10-CV=0.558|STD=0.18231|Time spend=18.035121202468872\n",
      "Fitted sphere radius:         95.3 mm\n",
      "Origin head coordinates:      -0.8 15.1 45.3 mm\n",
      "Origin device coordinates:    -0.8 15.1 45.3 mm\n",
      "(25, 32, 65, 257)\n",
      "(25, 32, 65, 257)\n",
      "(25, 32, 65, 257)\n",
      "(25, 32, 65, 257)\n",
      "(25, 32, 65, 257)\n",
      "(25, 32, 65, 257)\n",
      "(25, 32, 65, 257)\n",
      "(25, 32, 65, 257)\n",
      "========= close ========\n",
      "\tAROUSAL-s04|Acc=0.715|10-CV=0.572|STD=0.11356|Time spend=17.71335768699646\n",
      "\tVALENCE-s04|Acc=0.735|10-CV=0.592|STD=0.10245|Time spend=18.005396604537964\n",
      "Fitted sphere radius:         95.3 mm\n",
      "Origin head coordinates:      -0.8 15.1 45.3 mm\n",
      "Origin device coordinates:    -0.8 15.1 45.3 mm\n",
      "(25, 32, 65, 257)\n",
      "(25, 32, 65, 257)\n",
      "(25, 32, 65, 257)\n",
      "(25, 32, 65, 257)\n",
      "(25, 32, 65, 257)\n",
      "(25, 32, 65, 257)\n",
      "(25, 32, 65, 257)\n",
      "(25, 32, 65, 257)\n",
      "========= close ========\n",
      "\tAROUSAL-s05|Acc=0.685|10-CV=0.468|STD=0.12781|Time spend=17.991154193878174\n",
      "\tVALENCE-s05|Acc=0.6|10-CV=0.564|STD=0.0794|Time spend=18.321791887283325\n",
      "Fitted sphere radius:         95.3 mm\n",
      "Origin head coordinates:      -0.8 15.1 45.3 mm\n",
      "Origin device coordinates:    -0.8 15.1 45.3 mm\n",
      "(25, 32, 65, 257)\n",
      "(25, 32, 65, 257)\n",
      "(25, 32, 65, 257)\n",
      "(25, 32, 65, 257)\n",
      "(25, 32, 65, 257)\n",
      "(25, 32, 65, 257)\n",
      "(25, 32, 65, 257)\n",
      "(25, 32, 65, 257)\n",
      "========= close ========\n",
      "\tAROUSAL-s06|Acc=0.62|10-CV=0.504|STD=0.13078|Time spend=18.453630447387695\n",
      "\tVALENCE-s06|Acc=0.75|10-CV=0.72|STD=0.07483|Time spend=18.730315446853638\n",
      "Fitted sphere radius:         95.3 mm\n",
      "Origin head coordinates:      -0.8 15.1 45.3 mm\n",
      "Origin device coordinates:    -0.8 15.1 45.3 mm\n",
      "(25, 32, 65, 257)\n",
      "(25, 32, 65, 257)\n",
      "(25, 32, 65, 257)\n",
      "(25, 32, 65, 257)\n",
      "(25, 32, 65, 257)\n",
      "(25, 32, 65, 257)\n",
      "(25, 32, 65, 257)\n",
      "(25, 32, 65, 257)\n",
      "========= close ========\n",
      "\tAROUSAL-s07|Acc=0.705|10-CV=0.636|STD=0.09069|Time spend=17.90173053741455\n",
      "\tVALENCE-s07|Acc=0.78|10-CV=0.666|STD=0.15442|Time spend=18.179096698760986\n",
      "Fitted sphere radius:         95.3 mm\n",
      "Origin head coordinates:      -0.8 15.1 45.3 mm\n",
      "Origin device coordinates:    -0.8 15.1 45.3 mm\n",
      "(25, 32, 65, 257)\n",
      "(25, 32, 65, 257)\n",
      "(25, 32, 65, 257)\n",
      "(25, 32, 65, 257)\n",
      "(25, 32, 65, 257)\n",
      "(25, 32, 65, 257)\n",
      "(25, 32, 65, 257)\n",
      "(25, 32, 65, 257)\n",
      "========= close ========\n",
      "\tAROUSAL-s08|Acc=0.73|10-CV=0.412|STD=0.12528|Time spend=18.626861810684204\n",
      "\tVALENCE-s08|Acc=0.77|10-CV=0.538|STD=0.09315|Time spend=18.935949325561523\n",
      "Fitted sphere radius:         95.3 mm\n",
      "Origin head coordinates:      -0.8 15.1 45.3 mm\n",
      "Origin device coordinates:    -0.8 15.1 45.3 mm\n",
      "(25, 32, 65, 257)\n",
      "(25, 32, 65, 257)\n",
      "(25, 32, 65, 257)\n",
      "(25, 32, 65, 257)\n",
      "(25, 32, 65, 257)\n",
      "(25, 32, 65, 257)\n",
      "(25, 32, 65, 257)\n",
      "(25, 32, 65, 257)\n",
      "========= close ========\n",
      "\tAROUSAL-s09|Acc=0.74|10-CV=0.536|STD=0.09583|Time spend=19.59274458885193\n",
      "\tVALENCE-s09|Acc=0.785|10-CV=0.674|STD=0.10356|Time spend=19.864744663238525\n",
      "Fitted sphere radius:         95.3 mm\n",
      "Origin head coordinates:      -0.8 15.1 45.3 mm\n",
      "Origin device coordinates:    -0.8 15.1 45.3 mm\n",
      "(25, 32, 65, 257)\n",
      "(25, 32, 65, 257)\n",
      "(25, 32, 65, 257)\n",
      "(25, 32, 65, 257)\n",
      "(25, 32, 65, 257)\n",
      "(25, 32, 65, 257)\n",
      "(25, 32, 65, 257)\n",
      "(25, 32, 65, 257)\n",
      "========= close ========\n",
      "\tAROUSAL-s10|Acc=0.735|10-CV=0.64|STD=0.07746|Time spend=18.810911655426025\n",
      "\tVALENCE-s10|Acc=0.82|10-CV=0.786|STD=0.09552|Time spend=19.12126898765564\n",
      "Fitted sphere radius:         95.3 mm\n",
      "Origin head coordinates:      -0.8 15.1 45.3 mm\n",
      "Origin device coordinates:    -0.8 15.1 45.3 mm\n",
      "(25, 32, 65, 257)\n",
      "(25, 32, 65, 257)\n",
      "(25, 32, 65, 257)\n",
      "(25, 32, 65, 257)\n",
      "(25, 32, 65, 257)\n",
      "(25, 32, 65, 257)\n",
      "(25, 32, 65, 257)\n",
      "(25, 32, 65, 257)\n",
      "========= close ========\n",
      "\tAROUSAL-s11|Acc=0.625|10-CV=0.584|STD=0.05426|Time spend=17.00028157234192\n",
      "\tVALENCE-s11|Acc=0.695|10-CV=0.554|STD=0.17345|Time spend=17.30501389503479\n",
      "Fitted sphere radius:         95.3 mm\n",
      "Origin head coordinates:      -0.8 15.1 45.3 mm\n",
      "Origin device coordinates:    -0.8 15.1 45.3 mm\n",
      "(25, 32, 65, 257)\n",
      "(25, 32, 65, 257)\n",
      "(25, 32, 65, 257)\n",
      "(25, 32, 65, 257)\n",
      "(25, 32, 65, 257)\n",
      "(25, 32, 65, 257)\n",
      "(25, 32, 65, 257)\n",
      "(25, 32, 65, 257)\n",
      "========= close ========\n",
      "\tAROUSAL-s12|Acc=0.825|10-CV=0.83|STD=0.1005|Time spend=18.06343102455139\n",
      "\tVALENCE-s12|Acc=0.645|10-CV=0.47|STD=0.17464|Time spend=18.384924173355103\n",
      "Fitted sphere radius:         95.3 mm\n",
      "Origin head coordinates:      -0.8 15.1 45.3 mm\n",
      "Origin device coordinates:    -0.8 15.1 45.3 mm\n",
      "(25, 32, 65, 257)\n",
      "(25, 32, 65, 257)\n",
      "(25, 32, 65, 257)\n",
      "(25, 32, 65, 257)\n",
      "(25, 32, 65, 257)\n",
      "(25, 32, 65, 257)\n",
      "(25, 32, 65, 257)\n",
      "(25, 32, 65, 257)\n",
      "========= close ========\n",
      "\tAROUSAL-s13|Acc=0.85|10-CV=0.84|STD=0.06633|Time spend=17.38069176673889\n",
      "\tVALENCE-s13|Acc=0.81|10-CV=0.788|STD=0.10167|Time spend=17.792890787124634\n",
      "Fitted sphere radius:         95.3 mm\n",
      "Origin head coordinates:      -0.8 15.1 45.3 mm\n",
      "Origin device coordinates:    -0.8 15.1 45.3 mm\n",
      "(25, 32, 65, 257)\n",
      "(25, 32, 65, 257)\n",
      "(25, 32, 65, 257)\n",
      "(25, 32, 65, 257)\n",
      "(25, 32, 65, 257)\n",
      "(25, 32, 65, 257)\n",
      "(25, 32, 65, 257)\n",
      "(25, 32, 65, 257)\n",
      "========= close ========\n",
      "\tAROUSAL-s14|Acc=0.675|10-CV=0.644|STD=0.09457|Time spend=17.224289417266846\n",
      "\tVALENCE-s14|Acc=0.785|10-CV=0.676|STD=0.048|Time spend=17.513333559036255\n",
      "Fitted sphere radius:         95.3 mm\n",
      "Origin head coordinates:      -0.8 15.1 45.3 mm\n",
      "Origin device coordinates:    -0.8 15.1 45.3 mm\n",
      "(25, 32, 65, 257)\n",
      "(25, 32, 65, 257)\n",
      "(25, 32, 65, 257)\n",
      "(25, 32, 65, 257)\n",
      "(25, 32, 65, 257)\n",
      "(25, 32, 65, 257)\n",
      "(25, 32, 65, 257)\n",
      "(25, 32, 65, 257)\n",
      "========= close ========\n",
      "\tAROUSAL-s15|Acc=0.72|10-CV=0.508|STD=0.11565|Time spend=17.680930852890015\n",
      "\tVALENCE-s15|Acc=0.86|10-CV=0.81|STD=0.0634|Time spend=18.028056621551514\n",
      "Fitted sphere radius:         95.3 mm\n",
      "Origin head coordinates:      -0.8 15.1 45.3 mm\n",
      "Origin device coordinates:    -0.8 15.1 45.3 mm\n",
      "(25, 32, 65, 257)\n",
      "(25, 32, 65, 257)\n",
      "(25, 32, 65, 257)\n",
      "(25, 32, 65, 257)\n",
      "(25, 32, 65, 257)\n",
      "(25, 32, 65, 257)\n",
      "(25, 32, 65, 257)\n",
      "(25, 32, 65, 257)\n",
      "========= close ========\n",
      "\tAROUSAL-s16|Acc=0.725|10-CV=0.454|STD=0.12901|Time spend=16.868982315063477\n",
      "\tVALENCE-s16|Acc=0.735|10-CV=0.644|STD=0.10874|Time spend=17.160866260528564\n",
      "Fitted sphere radius:         95.3 mm\n",
      "Origin head coordinates:      -0.8 15.1 45.3 mm\n",
      "Origin device coordinates:    -0.8 15.1 45.3 mm\n",
      "(25, 32, 65, 257)\n",
      "(25, 32, 65, 257)\n",
      "(25, 32, 65, 257)\n",
      "(25, 32, 65, 257)\n",
      "(25, 32, 65, 257)\n",
      "(25, 32, 65, 257)\n",
      "(25, 32, 65, 257)\n",
      "(25, 32, 65, 257)\n",
      "========= close ========\n",
      "\tAROUSAL-s17|Acc=0.775|10-CV=0.692|STD=0.0621|Time spend=17.345229864120483\n",
      "\tVALENCE-s17|Acc=0.64|10-CV=0.436|STD=0.09666|Time spend=17.706880807876587\n",
      "Fitted sphere radius:         95.3 mm\n",
      "Origin head coordinates:      -0.8 15.1 45.3 mm\n",
      "Origin device coordinates:    -0.8 15.1 45.3 mm\n",
      "(25, 32, 65, 257)\n",
      "(25, 32, 65, 257)\n",
      "(25, 32, 65, 257)\n",
      "(25, 32, 65, 257)\n",
      "(25, 32, 65, 257)\n",
      "(25, 32, 65, 257)\n",
      "(25, 32, 65, 257)\n",
      "(25, 32, 65, 257)\n",
      "========= close ========\n",
      "\tAROUSAL-s18|Acc=0.625|10-CV=0.544|STD=0.11342|Time spend=17.421439170837402\n",
      "\tVALENCE-s18|Acc=0.8|10-CV=0.766|STD=0.0607|Time spend=17.692853927612305\n",
      "Fitted sphere radius:         95.3 mm\n",
      "Origin head coordinates:      -0.8 15.1 45.3 mm\n",
      "Origin device coordinates:    -0.8 15.1 45.3 mm\n",
      "(25, 32, 65, 257)\n",
      "(25, 32, 65, 257)\n",
      "(25, 32, 65, 257)\n",
      "(25, 32, 65, 257)\n",
      "(25, 32, 65, 257)\n",
      "(25, 32, 65, 257)\n",
      "(25, 32, 65, 257)\n",
      "(25, 32, 65, 257)\n",
      "========= close ========\n",
      "\tAROUSAL-s19|Acc=0.76|10-CV=0.642|STD=0.1218|Time spend=17.17628026008606\n",
      "\tVALENCE-s19|Acc=0.725|10-CV=0.504|STD=0.12419|Time spend=17.489654302597046\n",
      "Fitted sphere radius:         95.3 mm\n",
      "Origin head coordinates:      -0.8 15.1 45.3 mm\n",
      "Origin device coordinates:    -0.8 15.1 45.3 mm\n",
      "(25, 32, 65, 257)\n",
      "(25, 32, 65, 257)\n",
      "(25, 32, 65, 257)\n",
      "(25, 32, 65, 257)\n",
      "(25, 32, 65, 257)\n",
      "(25, 32, 65, 257)\n",
      "(25, 32, 65, 257)\n",
      "(25, 32, 65, 257)\n",
      "========= close ========\n",
      "\tAROUSAL-s20|Acc=0.775|10-CV=0.82|STD=0.08718|Time spend=17.180577039718628\n",
      "\tVALENCE-s20|Acc=0.78|10-CV=0.626|STD=0.13742|Time spend=17.5902156829834\n",
      "Fitted sphere radius:         95.3 mm\n",
      "Origin head coordinates:      -0.8 15.1 45.3 mm\n",
      "Origin device coordinates:    -0.8 15.1 45.3 mm\n",
      "(25, 32, 65, 257)\n",
      "(25, 32, 65, 257)\n",
      "(25, 32, 65, 257)\n",
      "(25, 32, 65, 257)\n",
      "(25, 32, 65, 257)\n",
      "(25, 32, 65, 257)\n",
      "(25, 32, 65, 257)\n",
      "(25, 32, 65, 257)\n",
      "========= close ========\n",
      "\tAROUSAL-s21|Acc=0.8|10-CV=0.8|STD=0.1|Time spend=17.7757351398468\n",
      "\tVALENCE-s21|Acc=0.64|10-CV=0.438|STD=0.08316|Time spend=18.083239793777466\n",
      "Fitted sphere radius:         95.3 mm\n",
      "Origin head coordinates:      -0.8 15.1 45.3 mm\n",
      "Origin device coordinates:    -0.8 15.1 45.3 mm\n",
      "(25, 32, 65, 257)\n",
      "(25, 32, 65, 257)\n",
      "(25, 32, 65, 257)\n",
      "(25, 32, 65, 257)\n",
      "(25, 32, 65, 257)\n",
      "(25, 32, 65, 257)\n",
      "(25, 32, 65, 257)\n",
      "(25, 32, 65, 257)\n",
      "========= close ========\n",
      "\tAROUSAL-s22|Acc=0.605|10-CV=0.598|STD=0.06353|Time spend=15.861665725708008\n",
      "\tVALENCE-s22|Acc=0.76|10-CV=0.696|STD=0.08237|Time spend=16.203840017318726\n",
      "Fitted sphere radius:         95.3 mm\n",
      "Origin head coordinates:      -0.8 15.1 45.3 mm\n",
      "Origin device coordinates:    -0.8 15.1 45.3 mm\n",
      "(25, 32, 65, 257)\n",
      "(25, 32, 65, 257)\n",
      "(25, 32, 65, 257)\n",
      "(25, 32, 65, 257)\n",
      "(25, 32, 65, 257)\n",
      "(25, 32, 65, 257)\n",
      "(25, 32, 65, 257)\n",
      "(25, 32, 65, 257)\n",
      "========= close ========\n",
      "\tAROUSAL-s23|Acc=0.75|10-CV=0.78|STD=0.09798|Time spend=17.176151990890503\n",
      "\tVALENCE-s23|Acc=0.71|10-CV=0.596|STD=0.13321|Time spend=17.45398783683777\n",
      "Fitted sphere radius:         95.3 mm\n",
      "Origin head coordinates:      -0.8 15.1 45.3 mm\n",
      "Origin device coordinates:    -0.8 15.1 45.3 mm\n",
      "(25, 32, 65, 257)\n",
      "(25, 32, 65, 257)\n",
      "(25, 32, 65, 257)\n",
      "(25, 32, 65, 257)\n",
      "(25, 32, 65, 257)\n",
      "(25, 32, 65, 257)\n",
      "(25, 32, 65, 257)\n",
      "(25, 32, 65, 257)\n",
      "========= close ========\n",
      "\tAROUSAL-s24|Acc=0.825|10-CV=0.82|STD=0.07483|Time spend=17.35839533805847\n",
      "\tVALENCE-s24|Acc=0.775|10-CV=0.578|STD=0.1407|Time spend=17.683435916900635\n",
      "Fitted sphere radius:         95.3 mm\n",
      "Origin head coordinates:      -0.8 15.1 45.3 mm\n",
      "Origin device coordinates:    -0.8 15.1 45.3 mm\n",
      "(25, 32, 65, 257)\n",
      "(25, 32, 65, 257)\n",
      "(25, 32, 65, 257)\n",
      "(25, 32, 65, 257)\n",
      "(25, 32, 65, 257)\n",
      "(25, 32, 65, 257)\n",
      "(25, 32, 65, 257)\n",
      "(25, 32, 65, 257)\n",
      "========= close ========\n",
      "\tAROUSAL-s25|Acc=0.725|10-CV=0.74|STD=0.12806|Time spend=16.99650263786316\n",
      "\tVALENCE-s25|Acc=0.655|10-CV=0.406|STD=0.11209|Time spend=17.46989107131958\n",
      "Fitted sphere radius:         95.3 mm\n",
      "Origin head coordinates:      -0.8 15.1 45.3 mm\n",
      "Origin device coordinates:    -0.8 15.1 45.3 mm\n",
      "(25, 32, 65, 257)\n",
      "(25, 32, 65, 257)\n",
      "(25, 32, 65, 257)\n",
      "(25, 32, 65, 257)\n",
      "(25, 32, 65, 257)\n",
      "(25, 32, 65, 257)\n",
      "(25, 32, 65, 257)\n",
      "(25, 32, 65, 257)\n",
      "========= close ========\n",
      "\tAROUSAL-s26|Acc=0.71|10-CV=0.534|STD=0.13537|Time spend=17.50571608543396\n",
      "\tVALENCE-s26|Acc=0.65|10-CV=0.604|STD=0.12322|Time spend=17.8787043094635\n",
      "Fitted sphere radius:         95.3 mm\n",
      "Origin head coordinates:      -0.8 15.1 45.3 mm\n",
      "Origin device coordinates:    -0.8 15.1 45.3 mm\n",
      "(25, 32, 65, 257)\n",
      "(25, 32, 65, 257)\n",
      "(25, 32, 65, 257)\n",
      "(25, 32, 65, 257)\n",
      "(25, 32, 65, 257)\n",
      "(25, 32, 65, 257)\n",
      "(25, 32, 65, 257)\n",
      "(25, 32, 65, 257)\n",
      "========= close ========\n",
      "\tAROUSAL-s27|Acc=0.77|10-CV=0.65|STD=0.1063|Time spend=18.204293966293335\n",
      "\tVALENCE-s27|Acc=0.75|10-CV=0.67|STD=0.12689|Time spend=18.605974912643433\n",
      "Fitted sphere radius:         95.3 mm\n",
      "Origin head coordinates:      -0.8 15.1 45.3 mm\n",
      "Origin device coordinates:    -0.8 15.1 45.3 mm\n",
      "(25, 32, 65, 257)\n",
      "(25, 32, 65, 257)\n",
      "(25, 32, 65, 257)\n",
      "(25, 32, 65, 257)\n",
      "(25, 32, 65, 257)\n",
      "(25, 32, 65, 257)\n",
      "(25, 32, 65, 257)\n",
      "(25, 32, 65, 257)\n",
      "========= close ========\n",
      "\tAROUSAL-s28|Acc=0.62|10-CV=0.47|STD=0.11428|Time spend=17.142543077468872\n",
      "\tVALENCE-s28|Acc=0.625|10-CV=0.502|STD=0.11187|Time spend=17.421858072280884\n",
      "Fitted sphere radius:         95.3 mm\n",
      "Origin head coordinates:      -0.8 15.1 45.3 mm\n",
      "Origin device coordinates:    -0.8 15.1 45.3 mm\n",
      "(25, 32, 65, 257)\n",
      "(25, 32, 65, 257)\n",
      "(25, 32, 65, 257)\n",
      "(25, 32, 65, 257)\n",
      "(25, 32, 65, 257)\n",
      "(25, 32, 65, 257)\n",
      "(25, 32, 65, 257)\n",
      "(25, 32, 65, 257)\n",
      "========= close ========\n",
      "\tAROUSAL-s29|Acc=0.72|10-CV=0.562|STD=0.09693|Time spend=17.868903636932373\n",
      "\tVALENCE-s29|Acc=0.72|10-CV=0.608|STD=0.08998|Time spend=18.23595118522644\n",
      "Fitted sphere radius:         95.3 mm\n",
      "Origin head coordinates:      -0.8 15.1 45.3 mm\n",
      "Origin device coordinates:    -0.8 15.1 45.3 mm\n",
      "(25, 32, 65, 257)\n",
      "(25, 32, 65, 257)\n",
      "(25, 32, 65, 257)\n",
      "(25, 32, 65, 257)\n",
      "(25, 32, 65, 257)\n",
      "(25, 32, 65, 257)\n",
      "(25, 32, 65, 257)\n",
      "(25, 32, 65, 257)\n",
      "========= close ========\n",
      "\tAROUSAL-s30|Acc=0.68|10-CV=0.464|STD=0.07365|Time spend=17.475178003311157\n",
      "\tVALENCE-s30|Acc=0.675|10-CV=0.62|STD=0.14697|Time spend=17.764122247695923\n",
      "Fitted sphere radius:         95.3 mm\n",
      "Origin head coordinates:      -0.8 15.1 45.3 mm\n",
      "Origin device coordinates:    -0.8 15.1 45.3 mm\n",
      "(25, 32, 65, 257)\n",
      "(25, 32, 65, 257)\n",
      "(25, 32, 65, 257)\n",
      "(25, 32, 65, 257)\n",
      "(25, 32, 65, 257)\n",
      "(25, 32, 65, 257)\n",
      "(25, 32, 65, 257)\n",
      "(25, 32, 65, 257)\n",
      "========= close ========\n",
      "\tAROUSAL-s31|Acc=0.755|10-CV=0.498|STD=0.13956|Time spend=19.278435707092285\n",
      "\tVALENCE-s31|Acc=0.67|10-CV=0.474|STD=0.10698|Time spend=19.622576475143433\n",
      "Fitted sphere radius:         95.3 mm\n",
      "Origin head coordinates:      -0.8 15.1 45.3 mm\n",
      "Origin device coordinates:    -0.8 15.1 45.3 mm\n",
      "(25, 32, 65, 257)\n",
      "(25, 32, 65, 257)\n",
      "(25, 32, 65, 257)\n",
      "(25, 32, 65, 257)\n",
      "(25, 32, 65, 257)\n",
      "(25, 32, 65, 257)\n",
      "(25, 32, 65, 257)\n",
      "(25, 32, 65, 257)\n",
      "========= close ========\n",
      "\tAROUSAL-s32|Acc=0.675|10-CV=0.71|STD=0.14346|Time spend=19.84633994102478\n",
      "\tVALENCE-s32|Acc=0.735|10-CV=0.6|STD=0.08809|Time spend=20.207059860229492\n",
      "AROUSAL|Acc=0.7245312500000001|10-CV=0.6176875000000001|STD=0.105290727148545\n",
      "VALENCE|Acc=0.72796875|10-CV=0.6050625000000001|STD=0.11070132831827983\n"
     ]
    }
   ],
   "source": [
    "accs, cv_means, cv_stds = [],[],[]\n",
    "accs_v, cv_means_v, cv_stds_v = [],[],[]\n",
    "reports = []\n",
    "for filename in (pbar := tqdm(dataset.get_file_list())):\n",
    "    start = time.time()\n",
    "    pbar.set_description(filename)\n",
    "    data, labels, groups = dataset.get_data(filename, stimuli=Dataset_subjectDependent.STIMULI_AROUSAL, return_type='mne', sfreq=128)\n",
    "    \n",
    "    data_csd = mne.preprocessing.compute_current_source_density(data)\n",
    "\n",
    "    plv = calculate_plv(data_csd.get_data(), n_jobs=8)\n",
    "\n",
    "    _,acc,cross,train_report = train_model(plv, labels.squeeze(), groups, filename=filename, return_text=True)\n",
    "    report = f\"\\tAROUSAL-{filename}|Acc={round(acc,5)}|10-CV={round(cross.mean(),5)}|STD={round(cross.std(),5)}|Time spend={time.time() - start}\"\n",
    "    print(report)\n",
    "    reports.append(report)\n",
    "    reports.append(train_report)\n",
    "    accs.append(acc)\n",
    "    cv_means.append(cross.mean())\n",
    "    cv_stds.append(cross.std())\n",
    "\n",
    "    _, labels_v, groups_v = dataset.get_data(filename, stimuli=Dataset_subjectDependent.STIMULI_VALENCE, return_type='mne', sfreq=128)\n",
    "    _,acc,cross,train_report = train_model(plv, labels_v.squeeze(), groups_v, filename=filename, return_text=True)\n",
    "    report = f\"\\tVALENCE-{filename}|Acc={round(acc,5)}|10-CV={round(cross.mean(),5)}|STD={round(cross.std(),5)}|Time spend={time.time() - start}\"\n",
    "    print(report)\n",
    "    reports.append(report)\n",
    "    reports.append(train_report)\n",
    "    accs_v.append(acc)\n",
    "    cv_means_v.append(cross.mean())\n",
    "    cv_stds_v.append(cross.std())\n",
    "    # break\n",
    "    # count+=1\n",
    "    # if(count == 5): break\n",
    "report = f\"AROUSAL|Acc={sum(accs)/len(accs)}|10-CV={sum(cv_means)/len(cv_means)}|STD={sum(cv_stds)/len(cv_stds)}\"\n",
    "print(report)\n",
    "reports.append(report)\n",
    "report = f\"VALENCE|Acc={sum(accs_v)/len(accs_v)}|10-CV={sum(cv_means_v)/len(cv_means_v)}|STD={sum(cv_stds_v)/len(cv_stds_v)}\"\n",
    "print(report)\n",
    "reports.append(report)"
   ]
  },
  {
   "cell_type": "code",
   "execution_count": 18,
   "metadata": {},
   "outputs": [
    {
     "name": "stdout",
     "output_type": "stream",
     "text": [
      "\tAROUSAL-s01|Acc=0.775|10-CV=0.548|STD=0.15549|Time spend=24.592607736587524\n",
      "\tVALENCE-s01|Acc=0.74|10-CV=0.524|STD=0.12484|Time spend=24.94776701927185\n",
      "\tAROUSAL-s02|Acc=0.69|10-CV=0.536|STD=0.07838|Time spend=17.733957052230835\n",
      "\tVALENCE-s02|Acc=0.745|10-CV=0.674|STD=0.09759|Time spend=18.034701347351074\n",
      "\tAROUSAL-s03|Acc=0.8|10-CV=0.73|STD=0.15524|Time spend=17.722599267959595\n",
      "-----WARNING: Model s03 failed to learn: sum(ans)=0.0 sum(y)=40.0 len(y)=200\n",
      "\tVALENCE-s03|Acc=0.73|10-CV=0.558|STD=0.18231|Time spend=18.035121202468872\n",
      "\tAROUSAL-s04|Acc=0.715|10-CV=0.572|STD=0.11356|Time spend=17.71335768699646\n",
      "\tVALENCE-s04|Acc=0.735|10-CV=0.592|STD=0.10245|Time spend=18.005396604537964\n",
      "\tAROUSAL-s05|Acc=0.685|10-CV=0.468|STD=0.12781|Time spend=17.991154193878174\n",
      "\tVALENCE-s05|Acc=0.6|10-CV=0.564|STD=0.0794|Time spend=18.321791887283325\n",
      "-----WARNING: Model s05 failed to learn: sum(ans)=200.0 sum(y)=120.0 len(y)=200\n",
      "\tAROUSAL-s06|Acc=0.62|10-CV=0.504|STD=0.13078|Time spend=18.453630447387695\n",
      "\tVALENCE-s06|Acc=0.75|10-CV=0.72|STD=0.07483|Time spend=18.730315446853638\n",
      "-----WARNING: Model s06 failed to learn: sum(ans)=200.0 sum(y)=150.0 len(y)=200\n",
      "\tAROUSAL-s07|Acc=0.705|10-CV=0.636|STD=0.09069|Time spend=17.90173053741455\n",
      "\tVALENCE-s07|Acc=0.78|10-CV=0.666|STD=0.15442|Time spend=18.179096698760986\n",
      "\tAROUSAL-s08|Acc=0.73|10-CV=0.412|STD=0.12528|Time spend=18.626861810684204\n",
      "\tVALENCE-s08|Acc=0.77|10-CV=0.538|STD=0.09315|Time spend=18.935949325561523\n",
      "\tAROUSAL-s09|Acc=0.74|10-CV=0.536|STD=0.09583|Time spend=19.59274458885193\n",
      "\tVALENCE-s09|Acc=0.785|10-CV=0.674|STD=0.10356|Time spend=19.864744663238525\n",
      "\tAROUSAL-s10|Acc=0.735|10-CV=0.64|STD=0.07746|Time spend=18.810911655426025\n",
      "\tVALENCE-s10|Acc=0.82|10-CV=0.786|STD=0.09552|Time spend=19.12126898765564\n",
      "\tAROUSAL-s11|Acc=0.625|10-CV=0.584|STD=0.05426|Time spend=17.00028157234192\n",
      "-----WARNING: Model s11 failed to learn: sum(ans)=0.0 sum(y)=75.0 len(y)=200\n",
      "\tVALENCE-s11|Acc=0.695|10-CV=0.554|STD=0.17345|Time spend=17.30501389503479\n",
      "\tAROUSAL-s12|Acc=0.825|10-CV=0.83|STD=0.1005|Time spend=18.06343102455139\n",
      "-----WARNING: Model s12 failed to learn: sum(ans)=200.0 sum(y)=165.0 len(y)=200\n",
      "\tVALENCE-s12|Acc=0.645|10-CV=0.47|STD=0.17464|Time spend=18.384924173355103\n",
      "\tAROUSAL-s13|Acc=0.85|10-CV=0.84|STD=0.06633|Time spend=17.38069176673889\n",
      "-----WARNING: Model s13 failed to learn: sum(ans)=200.0 sum(y)=170.0 len(y)=200\n",
      "\tVALENCE-s13|Acc=0.81|10-CV=0.788|STD=0.10167|Time spend=17.792890787124634\n",
      "\tAROUSAL-s14|Acc=0.675|10-CV=0.644|STD=0.09457|Time spend=17.224289417266846\n",
      "-----WARNING: Model s14 failed to learn: sum(ans)=200.0 sum(y)=135.0 len(y)=200\n",
      "\tVALENCE-s14|Acc=0.785|10-CV=0.676|STD=0.048|Time spend=17.513333559036255\n",
      "\tAROUSAL-s15|Acc=0.72|10-CV=0.508|STD=0.11565|Time spend=17.680930852890015\n",
      "\tVALENCE-s15|Acc=0.86|10-CV=0.81|STD=0.0634|Time spend=18.028056621551514\n",
      "\tAROUSAL-s16|Acc=0.725|10-CV=0.454|STD=0.12901|Time spend=16.868982315063477\n",
      "\tVALENCE-s16|Acc=0.735|10-CV=0.644|STD=0.10874|Time spend=17.160866260528564\n",
      "\tAROUSAL-s17|Acc=0.775|10-CV=0.692|STD=0.0621|Time spend=17.345229864120483\n",
      "\tVALENCE-s17|Acc=0.64|10-CV=0.436|STD=0.09666|Time spend=17.706880807876587\n",
      "\tAROUSAL-s18|Acc=0.625|10-CV=0.544|STD=0.11342|Time spend=17.421439170837402\n",
      "-----WARNING: Model s18 failed to learn: sum(ans)=200.0 sum(y)=125.0 len(y)=200\n",
      "\tVALENCE-s18|Acc=0.8|10-CV=0.766|STD=0.0607|Time spend=17.692853927612305\n",
      "\tAROUSAL-s19|Acc=0.76|10-CV=0.642|STD=0.1218|Time spend=17.17628026008606\n",
      "\tVALENCE-s19|Acc=0.725|10-CV=0.504|STD=0.12419|Time spend=17.489654302597046\n",
      "\tAROUSAL-s20|Acc=0.775|10-CV=0.82|STD=0.08718|Time spend=17.180577039718628\n",
      "-----WARNING: Model s20 failed to learn: sum(ans)=200.0 sum(y)=155.0 len(y)=200\n",
      "\tVALENCE-s20|Acc=0.78|10-CV=0.626|STD=0.13742|Time spend=17.5902156829834\n",
      "\tAROUSAL-s21|Acc=0.8|10-CV=0.8|STD=0.1|Time spend=17.7757351398468\n",
      "-----WARNING: Model s21 failed to learn: sum(ans)=200.0 sum(y)=160.0 len(y)=200\n",
      "\tVALENCE-s21|Acc=0.64|10-CV=0.438|STD=0.08316|Time spend=18.083239793777466\n",
      "\tAROUSAL-s22|Acc=0.605|10-CV=0.598|STD=0.06353|Time spend=15.861665725708008\n",
      "\tVALENCE-s22|Acc=0.76|10-CV=0.696|STD=0.08237|Time spend=16.203840017318726\n",
      "\tAROUSAL-s23|Acc=0.75|10-CV=0.78|STD=0.09798|Time spend=17.176151990890503\n",
      "-----WARNING: Model s23 failed to learn: sum(ans)=0.0 sum(y)=50.0 len(y)=200\n",
      "\tVALENCE-s23|Acc=0.71|10-CV=0.596|STD=0.13321|Time spend=17.45398783683777\n",
      "\tAROUSAL-s24|Acc=0.825|10-CV=0.82|STD=0.07483|Time spend=17.35839533805847\n",
      "-----WARNING: Model s24 failed to learn: sum(ans)=200.0 sum(y)=165.0 len(y)=200\n",
      "\tVALENCE-s24|Acc=0.775|10-CV=0.578|STD=0.1407|Time spend=17.683435916900635\n",
      "\tAROUSAL-s25|Acc=0.725|10-CV=0.74|STD=0.12806|Time spend=16.99650263786316\n",
      "-----WARNING: Model s25 failed to learn: sum(ans)=200.0 sum(y)=145.0 len(y)=200\n",
      "\tVALENCE-s25|Acc=0.655|10-CV=0.406|STD=0.11209|Time spend=17.46989107131958\n",
      "\tAROUSAL-s26|Acc=0.71|10-CV=0.534|STD=0.13537|Time spend=17.50571608543396\n",
      "\tVALENCE-s26|Acc=0.65|10-CV=0.604|STD=0.12322|Time spend=17.8787043094635\n",
      "-----WARNING: Model s26 failed to learn: sum(ans)=200.0 sum(y)=130.0 len(y)=200\n",
      "\tAROUSAL-s27|Acc=0.77|10-CV=0.65|STD=0.1063|Time spend=18.204293966293335\n",
      "\tVALENCE-s27|Acc=0.75|10-CV=0.67|STD=0.12689|Time spend=18.605974912643433\n",
      "-----WARNING: Model s27 failed to learn: sum(ans)=200.0 sum(y)=150.0 len(y)=200\n",
      "\tAROUSAL-s28|Acc=0.62|10-CV=0.47|STD=0.11428|Time spend=17.142543077468872\n",
      "\tVALENCE-s28|Acc=0.625|10-CV=0.502|STD=0.11187|Time spend=17.421858072280884\n",
      "-----WARNING: Model s28 failed to learn: sum(ans)=200.0 sum(y)=125.0 len(y)=200\n",
      "\tAROUSAL-s29|Acc=0.72|10-CV=0.562|STD=0.09693|Time spend=17.868903636932373\n",
      "\tVALENCE-s29|Acc=0.72|10-CV=0.608|STD=0.08998|Time spend=18.23595118522644\n",
      "\tAROUSAL-s30|Acc=0.68|10-CV=0.464|STD=0.07365|Time spend=17.475178003311157\n",
      "\tVALENCE-s30|Acc=0.675|10-CV=0.62|STD=0.14697|Time spend=17.764122247695923\n",
      "-----WARNING: Model s30 failed to learn: sum(ans)=200.0 sum(y)=135.0 len(y)=200\n",
      "\tAROUSAL-s31|Acc=0.755|10-CV=0.498|STD=0.13956|Time spend=19.278435707092285\n",
      "\tVALENCE-s31|Acc=0.67|10-CV=0.474|STD=0.10698|Time spend=19.622576475143433\n",
      "\tAROUSAL-s32|Acc=0.675|10-CV=0.71|STD=0.14346|Time spend=19.84633994102478\n",
      "-----WARNING: Model s32 failed to learn: sum(ans)=200.0 sum(y)=135.0 len(y)=200\n",
      "\tVALENCE-s32|Acc=0.735|10-CV=0.6|STD=0.08809|Time spend=20.207059860229492\n",
      "AROUSAL|Acc=0.7245312500000001|10-CV=0.6176875000000001|STD=0.105290727148545\n",
      "VALENCE|Acc=0.72796875|10-CV=0.6050625000000001|STD=0.11070132831827983\n",
      "TOTAL|Acc=0.72625|10-CV=0.6113749999999998|STD=0.10799602773341241\n"
     ]
    }
   ],
   "source": [
    "for text in reports:\n",
    "    if(text == None): continue\n",
    "    print(text)\n",
    "\n",
    "accs.extend(accs_v)\n",
    "cv_means.extend(cv_means_v)\n",
    "cv_stds.extend(cv_stds_v)\n",
    "print(f\"TOTAL|Acc={sum(accs)/len(accs)}|10-CV={sum(cv_means)/len(cv_means)}|STD={sum(cv_stds)/len(cv_stds)}\")"
   ]
  },
  {
   "cell_type": "markdown",
   "metadata": {},
   "source": [
    "### 4.4 $ \\text{PLI}(j,k) =  \\frac{1}{T} | \\Sigma^{T}_{t=1} \\text{sign}(Im[e^{i (\\phi^{t}_{j} - \\phi^{t}_{k})}])  | $"
   ]
  },
  {
   "cell_type": "code",
   "execution_count": 19,
   "metadata": {},
   "outputs": [],
   "source": [
    "# bands = [(0,4), (4,8), (8,12), (12,30), (30,64)]\n",
    "def calculate_stft(signals, sfreq):\n",
    "    from scipy import signal\n",
    "    f_range, t_range, Z = signal.stft(signals, sfreq, nperseg=sfreq//10, nfft=sfreq)\n",
    "    magnitude = np.abs(Z) \n",
    "    phase = np.angle(Z)\n",
    "    return magnitude, phase, f_range, t_range\n",
    "\n",
    "def PLI_stft(p_id, phase):\n",
    "    # (32, 65, 12) => (channels, freqs, times)\n",
    "    # print(f\"p_id:{p_id} - data to run {phase.shape}\")\n",
    "    from itertools import combinations\n",
    "    pli = []\n",
    "    # count = 0\n",
    "    for index in range(phase.shape[0]):\n",
    "        pli_epoch = []\n",
    "        for comb in combinations(list(range(phase.shape[1])), 2):\n",
    "            # shape = (65,12)\n",
    "            phase_a, phase_b = phase[index, comb[0]], phase[index, comb[1]]\n",
    "            phase_diff = phase_a - phase_b\n",
    "            # sum along the time size\n",
    "            pli_ab = np.abs(np.average(   np.sign(np.imag(   np.exp(complex(0,1) * phase_diff) ))  , axis=1))\n",
    "            pli_epoch.append(pli_ab)\n",
    "        pli_epoch = np.vstack(pli_epoch)\n",
    "        pli_epoch_5 = np.concatenate([ pli_epoch[:,0:4].mean(axis=1).reshape(-1,1),\n",
    "                                        pli_epoch[:,4:8].mean(axis=1).reshape(-1,1),\n",
    "                                        pli_epoch[:,8:12].mean(axis=1).reshape(-1,1),\n",
    "                                        pli_epoch[:,12:30].mean(axis=1).reshape(-1,1),\n",
    "                                        pli_epoch[:,30:65].mean(axis=1).reshape(-1,1)], axis=0)\n",
    "        pli.append(np.expand_dims(pli_epoch_5, axis=0))\n",
    "        # count += 1\n",
    "        # if(count == 3): break\n",
    "    # shape (496, 65)\n",
    "    # 496 is number of pairs that is not duplicate\n",
    "    # 65 is number of phase of frequencies\n",
    "    pli = np.vstack( pli )\n",
    "    return pli.squeeze()\n",
    "\n",
    "def calculate_pli(data, n_jobs=8):\n",
    "    \"\"\" \n",
    "    Input: Expect data to have (n_epochs, n_channels, n_samples)\n",
    "    Output: (n_epochs, n_conn, n_freqs ) => n_conn = n_channels!/(2!(n_channels-2)!)\n",
    "    \"\"\"\n",
    "    from multiprocessing import Pool\n",
    "\n",
    "    try:\n",
    "        t_out = 60000\n",
    "        pool = Pool()\n",
    "        p_list = []\n",
    "        ans_list = []\n",
    "        num_p = n_jobs\n",
    "        indices = np.array_split(np.arange(data.shape[0]), num_p)\n",
    "        _, phase, _, _ = calculate_stft(data, 128)\n",
    "        for p_id in range(num_p):\n",
    "            p_list.append(pool.apply_async(PLI_stft, [p_id, phase[indices[p_id]] ]))\n",
    "        for p_id in range(num_p):\n",
    "            ans_list.append( p_list[p_id].get(timeout=t_out) )\n",
    "        # ans_list\n",
    "    finally:\n",
    "        print(\"========= close ========\")\n",
    "        pool.close() \n",
    "        pool.terminate()\n",
    "    return np.vstack(ans_list)\n"
   ]
  },
  {
   "cell_type": "code",
   "execution_count": 20,
   "metadata": {},
   "outputs": [
    {
     "data": {
      "application/vnd.jupyter.widget-view+json": {
       "model_id": "0820f81a72734352beaa265f4121462a",
       "version_major": 2,
       "version_minor": 0
      },
      "text/plain": [
       "  0%|          | 0/32 [00:00<?, ?it/s]"
      ]
     },
     "metadata": {},
     "output_type": "display_data"
    },
    {
     "name": "stdout",
     "output_type": "stream",
     "text": [
      "Fitted sphere radius:         95.3 mm\n",
      "Origin head coordinates:      -0.8 15.1 45.3 mm\n",
      "Origin device coordinates:    -0.8 15.1 45.3 mm\n",
      "========= close ========\n",
      "\tAROUSAL-s01|Acc=0.96|10-CV=0.532|STD=0.14034|Time spend=17.558741331100464\n",
      "\tVALENCE-s01|Acc=0.995|10-CV=0.428|STD=0.06823|Time spend=17.86286735534668\n",
      "Fitted sphere radius:         95.3 mm\n",
      "Origin head coordinates:      -0.8 15.1 45.3 mm\n",
      "Origin device coordinates:    -0.8 15.1 45.3 mm\n",
      "========= close ========\n",
      "\tAROUSAL-s02|Acc=0.855|10-CV=0.576|STD=0.11586|Time spend=17.126378774642944\n",
      "\tVALENCE-s02|Acc=0.85|10-CV=0.532|STD=0.1194|Time spend=17.51194715499878\n",
      "Fitted sphere radius:         95.3 mm\n",
      "Origin head coordinates:      -0.8 15.1 45.3 mm\n",
      "Origin device coordinates:    -0.8 15.1 45.3 mm\n",
      "========= close ========\n",
      "\tAROUSAL-s03|Acc=0.87|10-CV=0.73|STD=0.15524|Time spend=17.080159187316895\n",
      "\tVALENCE-s03|Acc=0.995|10-CV=0.448|STD=0.13029|Time spend=17.439396858215332\n",
      "Fitted sphere radius:         95.3 mm\n",
      "Origin head coordinates:      -0.8 15.1 45.3 mm\n",
      "Origin device coordinates:    -0.8 15.1 45.3 mm\n",
      "========= close ========\n",
      "\tAROUSAL-s04|Acc=0.88|10-CV=0.548|STD=0.16975|Time spend=16.430772066116333\n",
      "\tVALENCE-s04|Acc=0.86|10-CV=0.528|STD=0.08352|Time spend=16.740461587905884\n",
      "Fitted sphere radius:         95.3 mm\n",
      "Origin head coordinates:      -0.8 15.1 45.3 mm\n",
      "Origin device coordinates:    -0.8 15.1 45.3 mm\n",
      "========= close ========\n",
      "\tAROUSAL-s05|Acc=0.745|10-CV=0.386|STD=0.0908|Time spend=16.505311965942383\n",
      "\tVALENCE-s05|Acc=0.69|10-CV=0.574|STD=0.0844|Time spend=16.88107967376709\n",
      "Fitted sphere radius:         95.3 mm\n",
      "Origin head coordinates:      -0.8 15.1 45.3 mm\n",
      "Origin device coordinates:    -0.8 15.1 45.3 mm\n",
      "========= close ========\n",
      "\tAROUSAL-s06|Acc=0.98|10-CV=0.53|STD=0.13864|Time spend=17.21834897994995\n",
      "\tVALENCE-s06|Acc=0.87|10-CV=0.718|STD=0.07291|Time spend=17.52505898475647\n",
      "Fitted sphere radius:         95.3 mm\n",
      "Origin head coordinates:      -0.8 15.1 45.3 mm\n",
      "Origin device coordinates:    -0.8 15.1 45.3 mm\n",
      "========= close ========\n",
      "\tAROUSAL-s07|Acc=0.99|10-CV=0.644|STD=0.1344|Time spend=17.481186628341675\n",
      "\tVALENCE-s07|Acc=0.945|10-CV=0.69|STD=0.13748|Time spend=17.82517385482788\n",
      "Fitted sphere radius:         95.3 mm\n",
      "Origin head coordinates:      -0.8 15.1 45.3 mm\n",
      "Origin device coordinates:    -0.8 15.1 45.3 mm\n",
      "========= close ========\n",
      "\tAROUSAL-s08|Acc=0.985|10-CV=0.458|STD=0.10638|Time spend=17.68458318710327\n",
      "\tVALENCE-s08|Acc=0.98|10-CV=0.532|STD=0.09432|Time spend=17.972611665725708\n",
      "Fitted sphere radius:         95.3 mm\n",
      "Origin head coordinates:      -0.8 15.1 45.3 mm\n",
      "Origin device coordinates:    -0.8 15.1 45.3 mm\n",
      "========= close ========\n",
      "\tAROUSAL-s09|Acc=0.865|10-CV=0.54|STD=0.121|Time spend=16.411773204803467\n",
      "\tVALENCE-s09|Acc=0.96|10-CV=0.394|STD=0.1233|Time spend=16.758909463882446\n",
      "Fitted sphere radius:         95.3 mm\n",
      "Origin head coordinates:      -0.8 15.1 45.3 mm\n",
      "Origin device coordinates:    -0.8 15.1 45.3 mm\n",
      "========= close ========\n",
      "\tAROUSAL-s10|Acc=0.995|10-CV=0.476|STD=0.07632|Time spend=17.951422452926636\n",
      "\tVALENCE-s10|Acc=0.995|10-CV=0.422|STD=0.11915|Time spend=18.30027985572815\n",
      "Fitted sphere radius:         95.3 mm\n",
      "Origin head coordinates:      -0.8 15.1 45.3 mm\n",
      "Origin device coordinates:    -0.8 15.1 45.3 mm\n",
      "========= close ========\n",
      "\tAROUSAL-s11|Acc=0.845|10-CV=0.62|STD=0.08532|Time spend=16.641512632369995\n",
      "\tVALENCE-s11|Acc=0.855|10-CV=0.564|STD=0.15895|Time spend=16.933372497558594\n",
      "Fitted sphere radius:         95.3 mm\n",
      "Origin head coordinates:      -0.8 15.1 45.3 mm\n",
      "Origin device coordinates:    -0.8 15.1 45.3 mm\n",
      "========= close ========\n",
      "\tAROUSAL-s12|Acc=0.865|10-CV=0.83|STD=0.1005|Time spend=16.384587287902832\n",
      "\tVALENCE-s12|Acc=1.0|10-CV=0.42|STD=0.11866|Time spend=16.697903871536255\n",
      "Fitted sphere radius:         95.3 mm\n",
      "Origin head coordinates:      -0.8 15.1 45.3 mm\n",
      "Origin device coordinates:    -0.8 15.1 45.3 mm\n",
      "========= close ========\n",
      "\tAROUSAL-s13|Acc=0.905|10-CV=0.84|STD=0.06633|Time spend=16.6826651096344\n",
      "\tVALENCE-s13|Acc=0.96|10-CV=0.494|STD=0.11526|Time spend=16.98388409614563\n",
      "Fitted sphere radius:         95.3 mm\n",
      "Origin head coordinates:      -0.8 15.1 45.3 mm\n",
      "Origin device coordinates:    -0.8 15.1 45.3 mm\n",
      "========= close ========\n",
      "\tAROUSAL-s14|Acc=0.885|10-CV=0.648|STD=0.09968|Time spend=16.30153465270996\n",
      "\tVALENCE-s14|Acc=0.995|10-CV=0.418|STD=0.094|Time spend=16.694385766983032\n",
      "Fitted sphere radius:         95.3 mm\n",
      "Origin head coordinates:      -0.8 15.1 45.3 mm\n",
      "Origin device coordinates:    -0.8 15.1 45.3 mm\n",
      "========= close ========\n",
      "\tAROUSAL-s15|Acc=0.995|10-CV=0.416|STD=0.07889|Time spend=16.53993558883667\n",
      "\tVALENCE-s15|Acc=1.0|10-CV=0.496|STD=0.09749|Time spend=16.822556495666504\n",
      "Fitted sphere radius:         95.3 mm\n",
      "Origin head coordinates:      -0.8 15.1 45.3 mm\n",
      "Origin device coordinates:    -0.8 15.1 45.3 mm\n",
      "========= close ========\n",
      "\tAROUSAL-s16|Acc=1.0|10-CV=0.38|STD=0.09757|Time spend=16.49225115776062\n",
      "\tVALENCE-s16|Acc=0.99|10-CV=0.63|STD=0.08866|Time spend=16.833293914794922\n",
      "Fitted sphere radius:         95.3 mm\n",
      "Origin head coordinates:      -0.8 15.1 45.3 mm\n",
      "Origin device coordinates:    -0.8 15.1 45.3 mm\n",
      "========= close ========\n",
      "\tAROUSAL-s17|Acc=0.835|10-CV=0.58|STD=0.07797|Time spend=17.250059843063354\n",
      "\tVALENCE-s17|Acc=0.97|10-CV=0.436|STD=0.11825|Time spend=17.586859464645386\n",
      "Fitted sphere radius:         95.3 mm\n",
      "Origin head coordinates:      -0.8 15.1 45.3 mm\n",
      "Origin device coordinates:    -0.8 15.1 45.3 mm\n",
      "========= close ========\n",
      "\tAROUSAL-s18|Acc=0.94|10-CV=0.564|STD=0.10032|Time spend=16.628522872924805\n",
      "\tVALENCE-s18|Acc=0.965|10-CV=0.51|STD=0.12969|Time spend=17.04205322265625\n",
      "Fitted sphere radius:         95.3 mm\n",
      "Origin head coordinates:      -0.8 15.1 45.3 mm\n",
      "Origin device coordinates:    -0.8 15.1 45.3 mm\n",
      "========= close ========\n",
      "\tAROUSAL-s19|Acc=0.68|10-CV=0.624|STD=0.12322|Time spend=17.78282928466797\n",
      "\tVALENCE-s19|Acc=0.675|10-CV=0.456|STD=0.13966|Time spend=18.18350338935852\n",
      "Fitted sphere radius:         95.3 mm\n",
      "Origin head coordinates:      -0.8 15.1 45.3 mm\n",
      "Origin device coordinates:    -0.8 15.1 45.3 mm\n",
      "========= close ========\n",
      "\tAROUSAL-s20|Acc=0.91|10-CV=0.82|STD=0.08718|Time spend=16.957340002059937\n",
      "\tVALENCE-s20|Acc=0.985|10-CV=0.47|STD=0.14346|Time spend=17.262453079223633\n",
      "Fitted sphere radius:         95.3 mm\n",
      "Origin head coordinates:      -0.8 15.1 45.3 mm\n",
      "Origin device coordinates:    -0.8 15.1 45.3 mm\n",
      "========= close ========\n",
      "\tAROUSAL-s21|Acc=0.86|10-CV=0.8|STD=0.1|Time spend=16.62258243560791\n",
      "\tVALENCE-s21|Acc=0.985|10-CV=0.356|STD=0.08476|Time spend=17.01703143119812\n",
      "Fitted sphere radius:         95.3 mm\n",
      "Origin head coordinates:      -0.8 15.1 45.3 mm\n",
      "Origin device coordinates:    -0.8 15.1 45.3 mm\n",
      "========= close ========\n",
      "\tAROUSAL-s22|Acc=0.785|10-CV=0.594|STD=0.06989|Time spend=15.90619683265686\n",
      "\tVALENCE-s22|Acc=0.875|10-CV=0.474|STD=0.08488|Time spend=16.21387267112732\n",
      "Fitted sphere radius:         95.3 mm\n",
      "Origin head coordinates:      -0.8 15.1 45.3 mm\n",
      "Origin device coordinates:    -0.8 15.1 45.3 mm\n",
      "========= close ========\n",
      "\tAROUSAL-s23|Acc=0.96|10-CV=0.78|STD=0.09798|Time spend=16.444393634796143\n",
      "\tVALENCE-s23|Acc=0.995|10-CV=0.61|STD=0.15133|Time spend=16.790327787399292\n",
      "Fitted sphere radius:         95.3 mm\n",
      "Origin head coordinates:      -0.8 15.1 45.3 mm\n",
      "Origin device coordinates:    -0.8 15.1 45.3 mm\n",
      "========= close ========\n",
      "\tAROUSAL-s24|Acc=0.825|10-CV=0.82|STD=0.07483|Time spend=16.841428518295288\n",
      "\tVALENCE-s24|Acc=0.96|10-CV=0.4|STD=0.14394|Time spend=17.142314434051514\n",
      "Fitted sphere radius:         95.3 mm\n",
      "Origin head coordinates:      -0.8 15.1 45.3 mm\n",
      "Origin device coordinates:    -0.8 15.1 45.3 mm\n",
      "========= close ========\n",
      "\tAROUSAL-s25|Acc=0.82|10-CV=0.74|STD=0.12806|Time spend=16.541251182556152\n",
      "\tVALENCE-s25|Acc=0.97|10-CV=0.412|STD=0.09683|Time spend=16.941792726516724\n",
      "Fitted sphere radius:         95.3 mm\n",
      "Origin head coordinates:      -0.8 15.1 45.3 mm\n",
      "Origin device coordinates:    -0.8 15.1 45.3 mm\n",
      "========= close ========\n",
      "\tAROUSAL-s26|Acc=0.97|10-CV=0.492|STD=0.09516|Time spend=17.26000714302063\n",
      "\tVALENCE-s26|Acc=0.855|10-CV=0.62|STD=0.14|Time spend=17.644065618515015\n",
      "Fitted sphere radius:         95.3 mm\n",
      "Origin head coordinates:      -0.8 15.1 45.3 mm\n",
      "Origin device coordinates:    -0.8 15.1 45.3 mm\n",
      "========= close ========\n",
      "\tAROUSAL-s27|Acc=0.97|10-CV=0.65|STD=0.1118|Time spend=17.161022663116455\n",
      "\tVALENCE-s27|Acc=0.97|10-CV=0.67|STD=0.12689|Time spend=17.497193336486816\n",
      "Fitted sphere radius:         95.3 mm\n",
      "Origin head coordinates:      -0.8 15.1 45.3 mm\n",
      "Origin device coordinates:    -0.8 15.1 45.3 mm\n",
      "========= close ========\n",
      "\tAROUSAL-s28|Acc=0.96|10-CV=0.462|STD=0.10971|Time spend=17.267953157424927\n",
      "\tVALENCE-s28|Acc=0.93|10-CV=0.574|STD=0.15825|Time spend=17.581290006637573\n",
      "Fitted sphere radius:         95.3 mm\n",
      "Origin head coordinates:      -0.8 15.1 45.3 mm\n",
      "Origin device coordinates:    -0.8 15.1 45.3 mm\n",
      "========= close ========\n",
      "\tAROUSAL-s29|Acc=0.86|10-CV=0.524|STD=0.07684|Time spend=16.799864530563354\n",
      "\tVALENCE-s29|Acc=0.89|10-CV=0.54|STD=0.10881|Time spend=17.150681018829346\n",
      "Fitted sphere radius:         95.3 mm\n",
      "Origin head coordinates:      -0.8 15.1 45.3 mm\n",
      "Origin device coordinates:    -0.8 15.1 45.3 mm\n",
      "========= close ========\n",
      "\tAROUSAL-s30|Acc=0.905|10-CV=0.596|STD=0.08089|Time spend=16.68956422805786\n",
      "\tVALENCE-s30|Acc=0.835|10-CV=0.62|STD=0.14724|Time spend=16.99445939064026\n",
      "Fitted sphere radius:         95.3 mm\n",
      "Origin head coordinates:      -0.8 15.1 45.3 mm\n",
      "Origin device coordinates:    -0.8 15.1 45.3 mm\n",
      "========= close ========\n",
      "\tAROUSAL-s31|Acc=1.0|10-CV=0.536|STD=0.13017|Time spend=17.22306799888611\n",
      "\tVALENCE-s31|Acc=0.99|10-CV=0.508|STD=0.12432|Time spend=17.528806686401367\n",
      "Fitted sphere radius:         95.3 mm\n",
      "Origin head coordinates:      -0.8 15.1 45.3 mm\n",
      "Origin device coordinates:    -0.8 15.1 45.3 mm\n",
      "========= close ========\n",
      "\tAROUSAL-s32|Acc=0.875|10-CV=0.732|STD=0.11906|Time spend=16.481554746627808\n",
      "\tVALENCE-s32|Acc=0.985|10-CV=0.438|STD=0.16887|Time spend=16.79862904548645\n",
      "AROUSAL|Acc=0.89921875|10-CV=0.6083750000000001|STD=0.1050035608702674\n",
      "VALENCE|Acc=0.93046875|10-CV=0.5119375|STD=0.11791231620143967\n"
     ]
    }
   ],
   "source": [
    "accs, cv_means, cv_stds = [],[],[]\n",
    "accs_v, cv_means_v, cv_stds_v = [],[],[]\n",
    "reports = []\n",
    "for filename in (pbar := tqdm(dataset.get_file_list())):\n",
    "    start = time.time()\n",
    "    pbar.set_description(filename)\n",
    "    data, labels, groups = dataset.get_data(filename, stimuli=Dataset_subjectDependent.STIMULI_AROUSAL, return_type='mne', sfreq=128)\n",
    "    \n",
    "    data_csd = mne.preprocessing.compute_current_source_density(data)\n",
    "\n",
    "    pli = calculate_pli(data_csd.get_data(), n_jobs=8)\n",
    "\n",
    "    _,acc,cross,train_report = train_model(pli, labels.squeeze(), groups, filename=filename, return_text=True)\n",
    "    report = f\"\\tAROUSAL-{filename}|Acc={round(acc,5)}|10-CV={round(cross.mean(),5)}|STD={round(cross.std(),5)}|Time spend={time.time() - start}\"\n",
    "    print(report)\n",
    "    reports.append(report)\n",
    "    reports.append(train_report)\n",
    "    accs.append(acc)\n",
    "    cv_means.append(cross.mean())\n",
    "    cv_stds.append(cross.std())\n",
    "\n",
    "    _, labels_v, groups_v = dataset.get_data(filename, stimuli=Dataset_subjectDependent.STIMULI_VALENCE, return_type='mne', sfreq=128)\n",
    "    _,acc,cross,train_report = train_model(pli, labels_v.squeeze(), groups_v, filename=filename, return_text=True)\n",
    "    report = f\"\\tVALENCE-{filename}|Acc={round(acc,5)}|10-CV={round(cross.mean(),5)}|STD={round(cross.std(),5)}|Time spend={time.time() - start}\"\n",
    "    print(report)\n",
    "    reports.append(report)\n",
    "    reports.append(train_report)\n",
    "    accs_v.append(acc)\n",
    "    cv_means_v.append(cross.mean())\n",
    "    cv_stds_v.append(cross.std())\n",
    "    # break\n",
    "    # count+=1\n",
    "    # if(count == 5): break\n",
    "report = f\"AROUSAL|Acc={sum(accs)/len(accs)}|10-CV={sum(cv_means)/len(cv_means)}|STD={sum(cv_stds)/len(cv_stds)}\"\n",
    "print(report)\n",
    "reports.append(report)\n",
    "report = f\"VALENCE|Acc={sum(accs_v)/len(accs_v)}|10-CV={sum(cv_means_v)/len(cv_means_v)}|STD={sum(cv_stds_v)/len(cv_stds_v)}\"\n",
    "print(report)\n",
    "reports.append(report)"
   ]
  },
  {
   "cell_type": "code",
   "execution_count": 21,
   "metadata": {},
   "outputs": [
    {
     "name": "stdout",
     "output_type": "stream",
     "text": [
      "\tAROUSAL-s01|Acc=0.96|10-CV=0.532|STD=0.14034|Time spend=17.558741331100464\n",
      "\tVALENCE-s01|Acc=0.995|10-CV=0.428|STD=0.06823|Time spend=17.86286735534668\n",
      "\tAROUSAL-s02|Acc=0.855|10-CV=0.576|STD=0.11586|Time spend=17.126378774642944\n",
      "\tVALENCE-s02|Acc=0.85|10-CV=0.532|STD=0.1194|Time spend=17.51194715499878\n",
      "\tAROUSAL-s03|Acc=0.87|10-CV=0.73|STD=0.15524|Time spend=17.080159187316895\n",
      "\tVALENCE-s03|Acc=0.995|10-CV=0.448|STD=0.13029|Time spend=17.439396858215332\n",
      "\tAROUSAL-s04|Acc=0.88|10-CV=0.548|STD=0.16975|Time spend=16.430772066116333\n",
      "\tVALENCE-s04|Acc=0.86|10-CV=0.528|STD=0.08352|Time spend=16.740461587905884\n",
      "\tAROUSAL-s05|Acc=0.745|10-CV=0.386|STD=0.0908|Time spend=16.505311965942383\n",
      "\tVALENCE-s05|Acc=0.69|10-CV=0.574|STD=0.0844|Time spend=16.88107967376709\n",
      "\tAROUSAL-s06|Acc=0.98|10-CV=0.53|STD=0.13864|Time spend=17.21834897994995\n",
      "\tVALENCE-s06|Acc=0.87|10-CV=0.718|STD=0.07291|Time spend=17.52505898475647\n",
      "\tAROUSAL-s07|Acc=0.99|10-CV=0.644|STD=0.1344|Time spend=17.481186628341675\n",
      "\tVALENCE-s07|Acc=0.945|10-CV=0.69|STD=0.13748|Time spend=17.82517385482788\n",
      "\tAROUSAL-s08|Acc=0.985|10-CV=0.458|STD=0.10638|Time spend=17.68458318710327\n",
      "\tVALENCE-s08|Acc=0.98|10-CV=0.532|STD=0.09432|Time spend=17.972611665725708\n",
      "\tAROUSAL-s09|Acc=0.865|10-CV=0.54|STD=0.121|Time spend=16.411773204803467\n",
      "\tVALENCE-s09|Acc=0.96|10-CV=0.394|STD=0.1233|Time spend=16.758909463882446\n",
      "\tAROUSAL-s10|Acc=0.995|10-CV=0.476|STD=0.07632|Time spend=17.951422452926636\n",
      "\tVALENCE-s10|Acc=0.995|10-CV=0.422|STD=0.11915|Time spend=18.30027985572815\n",
      "\tAROUSAL-s11|Acc=0.845|10-CV=0.62|STD=0.08532|Time spend=16.641512632369995\n",
      "\tVALENCE-s11|Acc=0.855|10-CV=0.564|STD=0.15895|Time spend=16.933372497558594\n",
      "\tAROUSAL-s12|Acc=0.865|10-CV=0.83|STD=0.1005|Time spend=16.384587287902832\n",
      "\tVALENCE-s12|Acc=1.0|10-CV=0.42|STD=0.11866|Time spend=16.697903871536255\n",
      "\tAROUSAL-s13|Acc=0.905|10-CV=0.84|STD=0.06633|Time spend=16.6826651096344\n",
      "\tVALENCE-s13|Acc=0.96|10-CV=0.494|STD=0.11526|Time spend=16.98388409614563\n",
      "\tAROUSAL-s14|Acc=0.885|10-CV=0.648|STD=0.09968|Time spend=16.30153465270996\n",
      "\tVALENCE-s14|Acc=0.995|10-CV=0.418|STD=0.094|Time spend=16.694385766983032\n",
      "\tAROUSAL-s15|Acc=0.995|10-CV=0.416|STD=0.07889|Time spend=16.53993558883667\n",
      "\tVALENCE-s15|Acc=1.0|10-CV=0.496|STD=0.09749|Time spend=16.822556495666504\n",
      "\tAROUSAL-s16|Acc=1.0|10-CV=0.38|STD=0.09757|Time spend=16.49225115776062\n",
      "\tVALENCE-s16|Acc=0.99|10-CV=0.63|STD=0.08866|Time spend=16.833293914794922\n",
      "\tAROUSAL-s17|Acc=0.835|10-CV=0.58|STD=0.07797|Time spend=17.250059843063354\n",
      "\tVALENCE-s17|Acc=0.97|10-CV=0.436|STD=0.11825|Time spend=17.586859464645386\n",
      "\tAROUSAL-s18|Acc=0.94|10-CV=0.564|STD=0.10032|Time spend=16.628522872924805\n",
      "\tVALENCE-s18|Acc=0.965|10-CV=0.51|STD=0.12969|Time spend=17.04205322265625\n",
      "\tAROUSAL-s19|Acc=0.68|10-CV=0.624|STD=0.12322|Time spend=17.78282928466797\n",
      "\tVALENCE-s19|Acc=0.675|10-CV=0.456|STD=0.13966|Time spend=18.18350338935852\n",
      "\tAROUSAL-s20|Acc=0.91|10-CV=0.82|STD=0.08718|Time spend=16.957340002059937\n",
      "\tVALENCE-s20|Acc=0.985|10-CV=0.47|STD=0.14346|Time spend=17.262453079223633\n",
      "\tAROUSAL-s21|Acc=0.86|10-CV=0.8|STD=0.1|Time spend=16.62258243560791\n",
      "\tVALENCE-s21|Acc=0.985|10-CV=0.356|STD=0.08476|Time spend=17.01703143119812\n",
      "\tAROUSAL-s22|Acc=0.785|10-CV=0.594|STD=0.06989|Time spend=15.90619683265686\n",
      "\tVALENCE-s22|Acc=0.875|10-CV=0.474|STD=0.08488|Time spend=16.21387267112732\n",
      "\tAROUSAL-s23|Acc=0.96|10-CV=0.78|STD=0.09798|Time spend=16.444393634796143\n",
      "\tVALENCE-s23|Acc=0.995|10-CV=0.61|STD=0.15133|Time spend=16.790327787399292\n",
      "\tAROUSAL-s24|Acc=0.825|10-CV=0.82|STD=0.07483|Time spend=16.841428518295288\n",
      "-----WARNING: Model s24 failed to learn: sum(ans)=200.0 sum(y)=165.0 len(y)=200\n",
      "\tVALENCE-s24|Acc=0.96|10-CV=0.4|STD=0.14394|Time spend=17.142314434051514\n",
      "\tAROUSAL-s25|Acc=0.82|10-CV=0.74|STD=0.12806|Time spend=16.541251182556152\n",
      "\tVALENCE-s25|Acc=0.97|10-CV=0.412|STD=0.09683|Time spend=16.941792726516724\n",
      "\tAROUSAL-s26|Acc=0.97|10-CV=0.492|STD=0.09516|Time spend=17.26000714302063\n",
      "\tVALENCE-s26|Acc=0.855|10-CV=0.62|STD=0.14|Time spend=17.644065618515015\n",
      "\tAROUSAL-s27|Acc=0.97|10-CV=0.65|STD=0.1118|Time spend=17.161022663116455\n",
      "\tVALENCE-s27|Acc=0.97|10-CV=0.67|STD=0.12689|Time spend=17.497193336486816\n",
      "\tAROUSAL-s28|Acc=0.96|10-CV=0.462|STD=0.10971|Time spend=17.267953157424927\n",
      "\tVALENCE-s28|Acc=0.93|10-CV=0.574|STD=0.15825|Time spend=17.581290006637573\n",
      "\tAROUSAL-s29|Acc=0.86|10-CV=0.524|STD=0.07684|Time spend=16.799864530563354\n",
      "\tVALENCE-s29|Acc=0.89|10-CV=0.54|STD=0.10881|Time spend=17.150681018829346\n",
      "\tAROUSAL-s30|Acc=0.905|10-CV=0.596|STD=0.08089|Time spend=16.68956422805786\n",
      "\tVALENCE-s30|Acc=0.835|10-CV=0.62|STD=0.14724|Time spend=16.99445939064026\n",
      "\tAROUSAL-s31|Acc=1.0|10-CV=0.536|STD=0.13017|Time spend=17.22306799888611\n",
      "\tVALENCE-s31|Acc=0.99|10-CV=0.508|STD=0.12432|Time spend=17.528806686401367\n",
      "\tAROUSAL-s32|Acc=0.875|10-CV=0.732|STD=0.11906|Time spend=16.481554746627808\n",
      "\tVALENCE-s32|Acc=0.985|10-CV=0.438|STD=0.16887|Time spend=16.79862904548645\n",
      "AROUSAL|Acc=0.89921875|10-CV=0.6083750000000001|STD=0.1050035608702674\n",
      "VALENCE|Acc=0.93046875|10-CV=0.5119375|STD=0.11791231620143967\n",
      "TOTAL|Acc=0.9148437499999997|10-CV=0.56015625|STD=0.1114579385358535\n"
     ]
    }
   ],
   "source": [
    "for text in reports:\n",
    "    if(text == None): continue\n",
    "    print(text)\n",
    "\n",
    "accs.extend(accs_v)\n",
    "cv_means.extend(cv_means_v)\n",
    "cv_stds.extend(cv_stds_v)\n",
    "print(f\"TOTAL|Acc={sum(accs)/len(accs)}|10-CV={sum(cv_means)/len(cv_means)}|STD={sum(cv_stds)/len(cv_stds)}\")"
   ]
  },
  {
   "cell_type": "markdown",
   "metadata": {},
   "source": [
    "## 5. CSP"
   ]
  },
  {
   "cell_type": "code",
   "execution_count": 4,
   "metadata": {},
   "outputs": [],
   "source": [
    "from components.CSP import CSP\n",
    "from mne_features.feature_extraction import FeatureExtractor\n",
    "\n",
    "bands = [(0,4), (4,8), (8,12), (12,30), (30,64)]\n",
    "# [alias_feature_function]__[optional_param]\n",
    "params = dict({\n",
    "    'pow_freq_bands__log':True,\n",
    "    'pow_freq_bands__normalize':False,\n",
    "    'pow_freq_bands__freq_bands':bands\n",
    "})"
   ]
  },
  {
   "cell_type": "code",
   "execution_count": 5,
   "metadata": {},
   "outputs": [
    {
     "data": {
      "application/vnd.jupyter.widget-view+json": {
       "model_id": "38dc7dae48c8455d9a4fc86266f302d0",
       "version_major": 2,
       "version_minor": 0
      },
      "text/plain": [
       "  0%|          | 0/32 [00:00<?, ?it/s]"
      ]
     },
     "metadata": {},
     "output_type": "display_data"
    },
    {
     "name": "stderr",
     "output_type": "stream",
     "text": [
      "/root/projects/components/CSP.py:78: ComplexWarning: Casting complex values to real discards the imaginary part\n",
      "  return SFa.astype(np.float32)\n"
     ]
    },
    {
     "name": "stdout",
     "output_type": "stream",
     "text": [
      "\tAROUSAL-s01|Acc=0.885|10-CV=0.818|STD=0.0756|Time spend=34.92034578323364\n"
     ]
    },
    {
     "name": "stderr",
     "output_type": "stream",
     "text": [
      "/root/projects/components/CSP.py:78: ComplexWarning: Casting complex values to real discards the imaginary part\n",
      "  return SFa.astype(np.float32)\n"
     ]
    },
    {
     "name": "stdout",
     "output_type": "stream",
     "text": [
      "\tAROUSAL-s02|Acc=0.61|10-CV=0.502|STD=0.07291|Time spend=0.5144634246826172\n"
     ]
    },
    {
     "name": "stderr",
     "output_type": "stream",
     "text": [
      "/root/projects/components/CSP.py:78: ComplexWarning: Casting complex values to real discards the imaginary part\n",
      "  return SFa.astype(np.float32)\n"
     ]
    },
    {
     "name": "stdout",
     "output_type": "stream",
     "text": [
      "-----WARNING: Model s03 failed to learn: sum(ans)=0.0 sum(y)=40.0 len(y)=200\n",
      "\tAROUSAL-s03|Acc=0.8|10-CV=0.73|STD=0.15524|Time spend=0.6263377666473389\n"
     ]
    },
    {
     "name": "stderr",
     "output_type": "stream",
     "text": [
      "/root/projects/components/CSP.py:78: ComplexWarning: Casting complex values to real discards the imaginary part\n",
      "  return SFa.astype(np.float32)\n"
     ]
    },
    {
     "name": "stdout",
     "output_type": "stream",
     "text": [
      "\tAROUSAL-s04|Acc=0.88|10-CV=0.84|STD=0.05727|Time spend=0.4615664482116699\n"
     ]
    },
    {
     "name": "stderr",
     "output_type": "stream",
     "text": [
      "/root/projects/components/CSP.py:78: ComplexWarning: Casting complex values to real discards the imaginary part\n",
      "  return SFa.astype(np.float32)\n"
     ]
    },
    {
     "name": "stdout",
     "output_type": "stream",
     "text": [
      "\tAROUSAL-s05|Acc=0.565|10-CV=0.406|STD=0.12101|Time spend=0.41986680030822754\n"
     ]
    },
    {
     "name": "stderr",
     "output_type": "stream",
     "text": [
      "/root/projects/components/CSP.py:78: ComplexWarning: Casting complex values to real discards the imaginary part\n",
      "  return SFa.astype(np.float32)\n"
     ]
    },
    {
     "name": "stdout",
     "output_type": "stream",
     "text": [
      "\tAROUSAL-s06|Acc=0.61|10-CV=0.506|STD=0.12619|Time spend=0.4342780113220215\n"
     ]
    },
    {
     "name": "stderr",
     "output_type": "stream",
     "text": [
      "/root/projects/components/CSP.py:78: ComplexWarning: Casting complex values to real discards the imaginary part\n",
      "  return SFa.astype(np.float32)\n"
     ]
    },
    {
     "name": "stdout",
     "output_type": "stream",
     "text": [
      "\tAROUSAL-s07|Acc=0.97|10-CV=0.956|STD=0.01744|Time spend=0.4938535690307617\n"
     ]
    },
    {
     "name": "stderr",
     "output_type": "stream",
     "text": [
      "/root/projects/components/CSP.py:78: ComplexWarning: Casting complex values to real discards the imaginary part\n",
      "  return SFa.astype(np.float32)\n"
     ]
    },
    {
     "name": "stdout",
     "output_type": "stream",
     "text": [
      "\tAROUSAL-s08|Acc=0.965|10-CV=0.958|STD=0.026|Time spend=0.5236818790435791\n"
     ]
    },
    {
     "name": "stderr",
     "output_type": "stream",
     "text": [
      "/root/projects/components/CSP.py:78: ComplexWarning: Casting complex values to real discards the imaginary part\n",
      "  return SFa.astype(np.float32)\n"
     ]
    },
    {
     "name": "stdout",
     "output_type": "stream",
     "text": [
      "\tAROUSAL-s09|Acc=0.615|10-CV=0.522|STD=0.1133|Time spend=0.547823429107666\n"
     ]
    },
    {
     "name": "stderr",
     "output_type": "stream",
     "text": [
      "/root/projects/components/CSP.py:78: ComplexWarning: Casting complex values to real discards the imaginary part\n",
      "  return SFa.astype(np.float32)\n"
     ]
    },
    {
     "name": "stdout",
     "output_type": "stream",
     "text": [
      "\tAROUSAL-s10|Acc=0.995|10-CV=0.98|STD=0.02683|Time spend=0.43418169021606445\n"
     ]
    },
    {
     "name": "stderr",
     "output_type": "stream",
     "text": [
      "/root/projects/components/CSP.py:78: ComplexWarning: Casting complex values to real discards the imaginary part\n",
      "  return SFa.astype(np.float32)\n"
     ]
    },
    {
     "name": "stdout",
     "output_type": "stream",
     "text": [
      "\tAROUSAL-s11|Acc=0.965|10-CV=0.964|STD=0.02154|Time spend=0.5135653018951416\n"
     ]
    },
    {
     "name": "stderr",
     "output_type": "stream",
     "text": [
      "/root/projects/components/CSP.py:78: ComplexWarning: Casting complex values to real discards the imaginary part\n",
      "  return SFa.astype(np.float32)\n"
     ]
    },
    {
     "name": "stdout",
     "output_type": "stream",
     "text": [
      "-----WARNING: Model s12 failed to learn: sum(ans)=200.0 sum(y)=165.0 len(y)=200\n",
      "\tAROUSAL-s12|Acc=0.825|10-CV=0.83|STD=0.1005|Time spend=1.1430490016937256\n"
     ]
    },
    {
     "name": "stderr",
     "output_type": "stream",
     "text": [
      "/root/projects/components/CSP.py:78: ComplexWarning: Casting complex values to real discards the imaginary part\n",
      "  return SFa.astype(np.float32)\n"
     ]
    },
    {
     "name": "stdout",
     "output_type": "stream",
     "text": [
      "-----WARNING: Model s13 failed to learn: sum(ans)=200.0 sum(y)=170.0 len(y)=200\n",
      "\tAROUSAL-s13|Acc=0.85|10-CV=0.84|STD=0.06633|Time spend=1.6194078922271729\n"
     ]
    },
    {
     "name": "stderr",
     "output_type": "stream",
     "text": [
      "/root/projects/components/CSP.py:78: ComplexWarning: Casting complex values to real discards the imaginary part\n",
      "  return SFa.astype(np.float32)\n"
     ]
    },
    {
     "name": "stdout",
     "output_type": "stream",
     "text": [
      "\tAROUSAL-s14|Acc=0.94|10-CV=0.928|STD=0.02857|Time spend=0.49631237983703613\n"
     ]
    },
    {
     "name": "stderr",
     "output_type": "stream",
     "text": [
      "/root/projects/components/CSP.py:78: ComplexWarning: Casting complex values to real discards the imaginary part\n",
      "  return SFa.astype(np.float32)\n"
     ]
    },
    {
     "name": "stdout",
     "output_type": "stream",
     "text": [
      "\tAROUSAL-s15|Acc=0.605|10-CV=0.518|STD=0.09485|Time spend=0.5755617618560791\n"
     ]
    },
    {
     "name": "stderr",
     "output_type": "stream",
     "text": [
      "/root/projects/components/CSP.py:78: ComplexWarning: Casting complex values to real discards the imaginary part\n",
      "  return SFa.astype(np.float32)\n"
     ]
    },
    {
     "name": "stdout",
     "output_type": "stream",
     "text": [
      "\tAROUSAL-s16|Acc=0.975|10-CV=0.992|STD=0.0098|Time spend=0.5486719608306885\n"
     ]
    },
    {
     "name": "stderr",
     "output_type": "stream",
     "text": [
      "/root/projects/components/CSP.py:78: ComplexWarning: Casting complex values to real discards the imaginary part\n",
      "  return SFa.astype(np.float32)\n"
     ]
    },
    {
     "name": "stdout",
     "output_type": "stream",
     "text": [
      "\tAROUSAL-s17|Acc=0.685|10-CV=0.552|STD=0.08998|Time spend=0.7140793800354004\n"
     ]
    },
    {
     "name": "stderr",
     "output_type": "stream",
     "text": [
      "/root/projects/components/CSP.py:78: ComplexWarning: Casting complex values to real discards the imaginary part\n",
      "  return SFa.astype(np.float32)\n"
     ]
    },
    {
     "name": "stdout",
     "output_type": "stream",
     "text": [
      "\tAROUSAL-s18|Acc=0.65|10-CV=0.56|STD=0.111|Time spend=1.0800611972808838\n"
     ]
    },
    {
     "name": "stderr",
     "output_type": "stream",
     "text": [
      "/root/projects/components/CSP.py:78: ComplexWarning: Casting complex values to real discards the imaginary part\n",
      "  return SFa.astype(np.float32)\n"
     ]
    },
    {
     "name": "stdout",
     "output_type": "stream",
     "text": [
      "\tAROUSAL-s19|Acc=0.995|10-CV=0.984|STD=0.0196|Time spend=1.4244606494903564\n"
     ]
    },
    {
     "name": "stderr",
     "output_type": "stream",
     "text": [
      "/root/projects/components/CSP.py:78: ComplexWarning: Casting complex values to real discards the imaginary part\n",
      "  return SFa.astype(np.float32)\n"
     ]
    },
    {
     "name": "stdout",
     "output_type": "stream",
     "text": [
      "-----WARNING: Model s20 failed to learn: sum(ans)=200.0 sum(y)=155.0 len(y)=200\n",
      "\tAROUSAL-s20|Acc=0.775|10-CV=0.82|STD=0.08718|Time spend=0.4936525821685791\n"
     ]
    },
    {
     "name": "stderr",
     "output_type": "stream",
     "text": [
      "/root/projects/components/CSP.py:78: ComplexWarning: Casting complex values to real discards the imaginary part\n",
      "  return SFa.astype(np.float32)\n"
     ]
    },
    {
     "name": "stdout",
     "output_type": "stream",
     "text": [
      "\tAROUSAL-s21|Acc=0.975|10-CV=0.942|STD=0.04686|Time spend=0.6773242950439453\n"
     ]
    },
    {
     "name": "stderr",
     "output_type": "stream",
     "text": [
      "/root/projects/components/CSP.py:78: ComplexWarning: Casting complex values to real discards the imaginary part\n",
      "  return SFa.astype(np.float32)\n"
     ]
    },
    {
     "name": "stdout",
     "output_type": "stream",
     "text": [
      "\tAROUSAL-s22|Acc=0.66|10-CV=0.6|STD=0.07155|Time spend=0.8234763145446777\n"
     ]
    },
    {
     "name": "stderr",
     "output_type": "stream",
     "text": [
      "/root/projects/components/CSP.py:78: ComplexWarning: Casting complex values to real discards the imaginary part\n",
      "  return SFa.astype(np.float32)\n"
     ]
    },
    {
     "name": "stdout",
     "output_type": "stream",
     "text": [
      "-----WARNING: Model s23 failed to learn: sum(ans)=0.0 sum(y)=50.0 len(y)=200\n",
      "\tAROUSAL-s23|Acc=0.75|10-CV=0.78|STD=0.09798|Time spend=1.7132034301757812\n"
     ]
    },
    {
     "name": "stderr",
     "output_type": "stream",
     "text": [
      "/root/projects/components/CSP.py:78: ComplexWarning: Casting complex values to real discards the imaginary part\n",
      "  return SFa.astype(np.float32)\n"
     ]
    },
    {
     "name": "stdout",
     "output_type": "stream",
     "text": [
      "-----WARNING: Model s24 failed to learn: sum(ans)=200.0 sum(y)=165.0 len(y)=200\n",
      "\tAROUSAL-s24|Acc=0.825|10-CV=0.82|STD=0.07483|Time spend=0.9387333393096924\n"
     ]
    },
    {
     "name": "stderr",
     "output_type": "stream",
     "text": [
      "/root/projects/components/CSP.py:78: ComplexWarning: Casting complex values to real discards the imaginary part\n",
      "  return SFa.astype(np.float32)\n"
     ]
    },
    {
     "name": "stdout",
     "output_type": "stream",
     "text": [
      "-----WARNING: Model s25 failed to learn: sum(ans)=200.0 sum(y)=145.0 len(y)=200\n",
      "\tAROUSAL-s25|Acc=0.725|10-CV=0.724|STD=0.10307|Time spend=0.7151608467102051\n"
     ]
    },
    {
     "name": "stderr",
     "output_type": "stream",
     "text": [
      "/root/projects/components/CSP.py:78: ComplexWarning: Casting complex values to real discards the imaginary part\n",
      "  return SFa.astype(np.float32)\n"
     ]
    },
    {
     "name": "stdout",
     "output_type": "stream",
     "text": [
      "\tAROUSAL-s26|Acc=0.595|10-CV=0.506|STD=0.11456|Time spend=0.5464591979980469\n"
     ]
    },
    {
     "name": "stderr",
     "output_type": "stream",
     "text": [
      "/root/projects/components/CSP.py:78: ComplexWarning: Casting complex values to real discards the imaginary part\n",
      "  return SFa.astype(np.float32)\n"
     ]
    },
    {
     "name": "stdout",
     "output_type": "stream",
     "text": [
      "\tAROUSAL-s27|Acc=0.73|10-CV=0.63|STD=0.11705|Time spend=0.49863600730895996\n"
     ]
    },
    {
     "name": "stderr",
     "output_type": "stream",
     "text": [
      "/root/projects/components/CSP.py:78: ComplexWarning: Casting complex values to real discards the imaginary part\n",
      "  return SFa.astype(np.float32)\n"
     ]
    },
    {
     "name": "stdout",
     "output_type": "stream",
     "text": [
      "\tAROUSAL-s28|Acc=0.635|10-CV=0.516|STD=0.14305|Time spend=1.2127501964569092\n"
     ]
    },
    {
     "name": "stderr",
     "output_type": "stream",
     "text": [
      "/root/projects/components/CSP.py:78: ComplexWarning: Casting complex values to real discards the imaginary part\n",
      "  return SFa.astype(np.float32)\n"
     ]
    },
    {
     "name": "stdout",
     "output_type": "stream",
     "text": [
      "\tAROUSAL-s29|Acc=0.975|10-CV=0.984|STD=0.01497|Time spend=0.5434446334838867\n"
     ]
    },
    {
     "name": "stderr",
     "output_type": "stream",
     "text": [
      "/root/projects/components/CSP.py:78: ComplexWarning: Casting complex values to real discards the imaginary part\n",
      "  return SFa.astype(np.float32)\n"
     ]
    },
    {
     "name": "stdout",
     "output_type": "stream",
     "text": [
      "\tAROUSAL-s30|Acc=0.645|10-CV=0.452|STD=0.0796|Time spend=0.892669677734375\n"
     ]
    },
    {
     "name": "stderr",
     "output_type": "stream",
     "text": [
      "/root/projects/components/CSP.py:78: ComplexWarning: Casting complex values to real discards the imaginary part\n",
      "  return SFa.astype(np.float32)\n"
     ]
    },
    {
     "name": "stdout",
     "output_type": "stream",
     "text": [
      "\tAROUSAL-s31|Acc=0.995|10-CV=1.0|STD=0.0|Time spend=0.47684526443481445\n"
     ]
    },
    {
     "name": "stderr",
     "output_type": "stream",
     "text": [
      "/root/projects/components/CSP.py:78: ComplexWarning: Casting complex values to real discards the imaginary part\n",
      "  return SFa.astype(np.float32)\n"
     ]
    },
    {
     "name": "stdout",
     "output_type": "stream",
     "text": [
      "\tAROUSAL-s32|Acc=0.96|10-CV=0.916|STD=0.05851|Time spend=0.4989304542541504\n",
      "AROUSAL|Acc=0.8009375000000001|10-CV=0.7523750000000002|STD=0.07322395696803466\n"
     ]
    }
   ],
   "source": [
    "accs, cv_means, cv_stds = [],[],[]\n",
    "for filename in tqdm(dataset.get_file_list()):\n",
    "\n",
    "    data, labels, groups = dataset.get_data(filename, stimuli=Dataset_subjectDependent.STIMULI_AROUSAL, return_type='numpy')\n",
    "    labels = labels.squeeze()\n",
    "    start = time.time()\n",
    "    filters = CSP(data[labels==0], data[labels==1])\n",
    "    \n",
    "    csp_data = []\n",
    "    for index in range(len(data)):\n",
    "        \n",
    "        # (672, 32) @ (32, 32) = (672, 32)\n",
    "        csp = data[index].T @ filters[labels[index].astype(int)]\n",
    "        # (1, 32, 672)\n",
    "        csp = np.expand_dims(csp.T, axis=0)\n",
    "        csp_data.append(csp)\n",
    "\n",
    "    csp_data = np.vstack(csp_data)\n",
    "    # print(csp_data.shape) => (2400, 32, 128)\n",
    "    fe = FeatureExtractor(sfreq=128, selected_funcs=['pow_freq_bands'],params=params,n_jobs=8)\n",
    "    X = fe.fit_transform(X=csp_data)\n",
    "    # print(X.shape, time.time() - start) => (2400, 160) 1.2374355792999268\n",
    "\n",
    "    assert X.shape[1] == 160\n",
    "    _, acc, cross = train_model(X, labels.reshape(-1), groups, filename=filename)\n",
    "    print(f\"\\tAROUSAL-{filename}|Acc={round(acc,5)}|10-CV={round(cross.mean(),5)}|STD={round(cross.std(),5)}|Time spend={time.time() - start}\")\n",
    "    accs.append(acc)\n",
    "    cv_means.append(cross.mean())\n",
    "    cv_stds.append(cross.std())\n",
    "print(f\"AROUSAL|Acc={sum(accs)/len(accs)}|10-CV={sum(cv_means)/len(cv_means)}|STD={sum(cv_stds)/len(cv_stds)}\")"
   ]
  },
  {
   "cell_type": "code",
   "execution_count": 6,
   "metadata": {},
   "outputs": [
    {
     "data": {
      "application/vnd.jupyter.widget-view+json": {
       "model_id": "f1d8564d19bc4811b8602adc36eaef88",
       "version_major": 2,
       "version_minor": 0
      },
      "text/plain": [
       "  0%|          | 0/32 [00:00<?, ?it/s]"
      ]
     },
     "metadata": {},
     "output_type": "display_data"
    },
    {
     "name": "stderr",
     "output_type": "stream",
     "text": [
      "/root/projects/components/CSP.py:78: ComplexWarning: Casting complex values to real discards the imaginary part\n",
      "  return SFa.astype(np.float32)\n"
     ]
    },
    {
     "name": "stdout",
     "output_type": "stream",
     "text": [
      "\tVALENCE-s01|Acc=0.61|10-CV=0.436|STD=0.07579|Time spend=0.7244970798492432\n"
     ]
    },
    {
     "name": "stderr",
     "output_type": "stream",
     "text": [
      "/root/projects/components/CSP.py:78: ComplexWarning: Casting complex values to real discards the imaginary part\n",
      "  return SFa.astype(np.float32)\n"
     ]
    },
    {
     "name": "stdout",
     "output_type": "stream",
     "text": [
      "\tVALENCE-s02|Acc=0.67|10-CV=0.53|STD=0.12434|Time spend=0.6834807395935059\n"
     ]
    },
    {
     "name": "stderr",
     "output_type": "stream",
     "text": [
      "/root/projects/components/CSP.py:78: ComplexWarning: Casting complex values to real discards the imaginary part\n",
      "  return SFa.astype(np.float32)\n"
     ]
    },
    {
     "name": "stdout",
     "output_type": "stream",
     "text": [
      "\tVALENCE-s03|Acc=0.895|10-CV=0.878|STD=0.06539|Time spend=0.5869736671447754\n"
     ]
    },
    {
     "name": "stderr",
     "output_type": "stream",
     "text": [
      "/root/projects/components/CSP.py:78: ComplexWarning: Casting complex values to real discards the imaginary part\n",
      "  return SFa.astype(np.float32)\n"
     ]
    },
    {
     "name": "stdout",
     "output_type": "stream",
     "text": [
      "\tVALENCE-s04|Acc=0.71|10-CV=0.534|STD=0.12134|Time spend=0.6275825500488281\n"
     ]
    },
    {
     "name": "stderr",
     "output_type": "stream",
     "text": [
      "/root/projects/components/CSP.py:78: ComplexWarning: Casting complex values to real discards the imaginary part\n",
      "  return SFa.astype(np.float32)\n"
     ]
    },
    {
     "name": "stdout",
     "output_type": "stream",
     "text": [
      "\tVALENCE-s05|Acc=0.895|10-CV=0.822|STD=0.06226|Time spend=0.4152352809906006\n"
     ]
    },
    {
     "name": "stderr",
     "output_type": "stream",
     "text": [
      "/root/projects/components/CSP.py:78: ComplexWarning: Casting complex values to real discards the imaginary part\n",
      "  return SFa.astype(np.float32)\n"
     ]
    },
    {
     "name": "stdout",
     "output_type": "stream",
     "text": [
      "-----WARNING: Model s06 failed to learn: sum(ans)=200.0 sum(y)=150.0 len(y)=200\n",
      "\tVALENCE-s06|Acc=0.75|10-CV=0.714|STD=0.07486|Time spend=0.675541877746582\n"
     ]
    },
    {
     "name": "stderr",
     "output_type": "stream",
     "text": [
      "/root/projects/components/CSP.py:78: ComplexWarning: Casting complex values to real discards the imaginary part\n",
      "  return SFa.astype(np.float32)\n"
     ]
    },
    {
     "name": "stdout",
     "output_type": "stream",
     "text": [
      "-----WARNING: Model s07 failed to learn: sum(ans)=200.0 sum(y)=140.0 len(y)=200\n",
      "\tVALENCE-s07|Acc=0.7|10-CV=0.688|STD=0.13452|Time spend=0.7306561470031738\n"
     ]
    },
    {
     "name": "stderr",
     "output_type": "stream",
     "text": [
      "/root/projects/components/CSP.py:78: ComplexWarning: Casting complex values to real discards the imaginary part\n",
      "  return SFa.astype(np.float32)\n"
     ]
    },
    {
     "name": "stdout",
     "output_type": "stream",
     "text": [
      "\tVALENCE-s08|Acc=0.86|10-CV=0.836|STD=0.02939|Time spend=0.5629401206970215\n"
     ]
    },
    {
     "name": "stderr",
     "output_type": "stream",
     "text": [
      "/root/projects/components/CSP.py:78: ComplexWarning: Casting complex values to real discards the imaginary part\n",
      "  return SFa.astype(np.float32)\n"
     ]
    },
    {
     "name": "stdout",
     "output_type": "stream",
     "text": [
      "\tVALENCE-s09|Acc=1.0|10-CV=0.998|STD=0.006|Time spend=0.4774453639984131\n"
     ]
    },
    {
     "name": "stderr",
     "output_type": "stream",
     "text": [
      "/root/projects/components/CSP.py:78: ComplexWarning: Casting complex values to real discards the imaginary part\n",
      "  return SFa.astype(np.float32)\n"
     ]
    },
    {
     "name": "stdout",
     "output_type": "stream",
     "text": [
      "\tVALENCE-s10|Acc=0.99|10-CV=0.992|STD=0.0098|Time spend=0.864342451095581\n"
     ]
    },
    {
     "name": "stderr",
     "output_type": "stream",
     "text": [
      "/root/projects/components/CSP.py:78: ComplexWarning: Casting complex values to real discards the imaginary part\n",
      "  return SFa.astype(np.float32)\n"
     ]
    },
    {
     "name": "stdout",
     "output_type": "stream",
     "text": [
      "\tVALENCE-s11|Acc=0.635|10-CV=0.514|STD=0.12492|Time spend=0.46504807472229004\n"
     ]
    },
    {
     "name": "stderr",
     "output_type": "stream",
     "text": [
      "/root/projects/components/CSP.py:78: ComplexWarning: Casting complex values to real discards the imaginary part\n",
      "  return SFa.astype(np.float32)\n"
     ]
    },
    {
     "name": "stdout",
     "output_type": "stream",
     "text": [
      "\tVALENCE-s12|Acc=0.675|10-CV=0.486|STD=0.15545|Time spend=1.1595163345336914\n"
     ]
    },
    {
     "name": "stderr",
     "output_type": "stream",
     "text": [
      "/root/projects/components/CSP.py:78: ComplexWarning: Casting complex values to real discards the imaginary part\n",
      "  return SFa.astype(np.float32)\n"
     ]
    },
    {
     "name": "stdout",
     "output_type": "stream",
     "text": [
      "\tVALENCE-s13|Acc=0.77|10-CV=0.778|STD=0.11365|Time spend=0.5933232307434082\n"
     ]
    },
    {
     "name": "stderr",
     "output_type": "stream",
     "text": [
      "/root/projects/components/CSP.py:78: ComplexWarning: Casting complex values to real discards the imaginary part\n",
      "  return SFa.astype(np.float32)\n"
     ]
    },
    {
     "name": "stdout",
     "output_type": "stream",
     "text": [
      "\tVALENCE-s14|Acc=0.915|10-CV=0.874|STD=0.0566|Time spend=0.6993288993835449\n"
     ]
    },
    {
     "name": "stderr",
     "output_type": "stream",
     "text": [
      "/root/projects/components/CSP.py:78: ComplexWarning: Casting complex values to real discards the imaginary part\n",
      "  return SFa.astype(np.float32)\n"
     ]
    },
    {
     "name": "stdout",
     "output_type": "stream",
     "text": [
      "\tVALENCE-s15|Acc=0.905|10-CV=0.876|STD=0.06681|Time spend=1.169321060180664\n"
     ]
    },
    {
     "name": "stderr",
     "output_type": "stream",
     "text": [
      "/root/projects/components/CSP.py:78: ComplexWarning: Casting complex values to real discards the imaginary part\n",
      "  return SFa.astype(np.float32)\n"
     ]
    },
    {
     "name": "stdout",
     "output_type": "stream",
     "text": [
      "\tVALENCE-s16|Acc=0.93|10-CV=0.9|STD=0.04099|Time spend=1.011143684387207\n"
     ]
    },
    {
     "name": "stderr",
     "output_type": "stream",
     "text": [
      "/root/projects/components/CSP.py:78: ComplexWarning: Casting complex values to real discards the imaginary part\n",
      "  return SFa.astype(np.float32)\n"
     ]
    },
    {
     "name": "stdout",
     "output_type": "stream",
     "text": [
      "\tVALENCE-s17|Acc=0.61|10-CV=0.45|STD=0.10479|Time spend=0.938237190246582\n"
     ]
    },
    {
     "name": "stderr",
     "output_type": "stream",
     "text": [
      "/root/projects/components/CSP.py:78: ComplexWarning: Casting complex values to real discards the imaginary part\n",
      "  return SFa.astype(np.float32)\n"
     ]
    },
    {
     "name": "stdout",
     "output_type": "stream",
     "text": [
      "\tVALENCE-s18|Acc=0.93|10-CV=0.89|STD=0.05532|Time spend=0.646798849105835\n"
     ]
    },
    {
     "name": "stderr",
     "output_type": "stream",
     "text": [
      "/root/projects/components/CSP.py:78: ComplexWarning: Casting complex values to real discards the imaginary part\n",
      "  return SFa.astype(np.float32)\n"
     ]
    },
    {
     "name": "stdout",
     "output_type": "stream",
     "text": [
      "\tVALENCE-s19|Acc=0.635|10-CV=0.5|STD=0.15569|Time spend=0.5713768005371094\n"
     ]
    },
    {
     "name": "stderr",
     "output_type": "stream",
     "text": [
      "/root/projects/components/CSP.py:78: ComplexWarning: Casting complex values to real discards the imaginary part\n",
      "  return SFa.astype(np.float32)\n"
     ]
    },
    {
     "name": "stdout",
     "output_type": "stream",
     "text": [
      "\tVALENCE-s20|Acc=0.73|10-CV=0.554|STD=0.15851|Time spend=0.5396702289581299\n"
     ]
    },
    {
     "name": "stderr",
     "output_type": "stream",
     "text": [
      "/root/projects/components/CSP.py:78: ComplexWarning: Casting complex values to real discards the imaginary part\n",
      "  return SFa.astype(np.float32)\n"
     ]
    },
    {
     "name": "stdout",
     "output_type": "stream",
     "text": [
      "\tVALENCE-s21|Acc=0.575|10-CV=0.418|STD=0.08316|Time spend=0.7852611541748047\n"
     ]
    },
    {
     "name": "stderr",
     "output_type": "stream",
     "text": [
      "/root/projects/components/CSP.py:78: ComplexWarning: Casting complex values to real discards the imaginary part\n",
      "  return SFa.astype(np.float32)\n"
     ]
    },
    {
     "name": "stdout",
     "output_type": "stream",
     "text": [
      "\tVALENCE-s22|Acc=0.7|10-CV=0.608|STD=0.11391|Time spend=0.7012631893157959\n"
     ]
    },
    {
     "name": "stderr",
     "output_type": "stream",
     "text": [
      "/root/projects/components/CSP.py:78: ComplexWarning: Casting complex values to real discards the imaginary part\n",
      "  return SFa.astype(np.float32)\n"
     ]
    },
    {
     "name": "stdout",
     "output_type": "stream",
     "text": [
      "-----WARNING: Model s23 failed to learn: sum(ans)=200.0 sum(y)=130.0 len(y)=200\n",
      "\tVALENCE-s23|Acc=0.65|10-CV=0.594|STD=0.12619|Time spend=0.5697615146636963\n"
     ]
    },
    {
     "name": "stderr",
     "output_type": "stream",
     "text": [
      "/root/projects/components/CSP.py:78: ComplexWarning: Casting complex values to real discards the imaginary part\n",
      "  return SFa.astype(np.float32)\n"
     ]
    },
    {
     "name": "stdout",
     "output_type": "stream",
     "text": [
      "\tVALENCE-s24|Acc=1.0|10-CV=0.994|STD=0.00917|Time spend=0.438812255859375\n"
     ]
    },
    {
     "name": "stderr",
     "output_type": "stream",
     "text": [
      "/root/projects/components/CSP.py:78: ComplexWarning: Casting complex values to real discards the imaginary part\n",
      "  return SFa.astype(np.float32)\n"
     ]
    },
    {
     "name": "stdout",
     "output_type": "stream",
     "text": [
      "\tVALENCE-s25|Acc=0.985|10-CV=0.988|STD=0.02993|Time spend=1.4212965965270996\n"
     ]
    },
    {
     "name": "stderr",
     "output_type": "stream",
     "text": [
      "/root/projects/components/CSP.py:78: ComplexWarning: Casting complex values to real discards the imaginary part\n",
      "  return SFa.astype(np.float32)\n"
     ]
    },
    {
     "name": "stdout",
     "output_type": "stream",
     "text": [
      "-----WARNING: Model s26 failed to learn: sum(ans)=200.0 sum(y)=130.0 len(y)=200\n",
      "\tVALENCE-s26|Acc=0.65|10-CV=0.59|STD=0.11109|Time spend=1.0813326835632324\n"
     ]
    },
    {
     "name": "stderr",
     "output_type": "stream",
     "text": [
      "/root/projects/components/CSP.py:78: ComplexWarning: Casting complex values to real discards the imaginary part\n",
      "  return SFa.astype(np.float32)\n"
     ]
    },
    {
     "name": "stdout",
     "output_type": "stream",
     "text": [
      "\tVALENCE-s27|Acc=0.765|10-CV=0.67|STD=0.12689|Time spend=0.9316143989562988\n"
     ]
    },
    {
     "name": "stderr",
     "output_type": "stream",
     "text": [
      "/root/projects/components/CSP.py:78: ComplexWarning: Casting complex values to real discards the imaginary part\n",
      "  return SFa.astype(np.float32)\n"
     ]
    },
    {
     "name": "stdout",
     "output_type": "stream",
     "text": [
      "\tVALENCE-s28|Acc=0.96|10-CV=0.954|STD=0.03353|Time spend=0.5598006248474121\n"
     ]
    },
    {
     "name": "stderr",
     "output_type": "stream",
     "text": [
      "/root/projects/components/CSP.py:78: ComplexWarning: Casting complex values to real discards the imaginary part\n",
      "  return SFa.astype(np.float32)\n"
     ]
    },
    {
     "name": "stdout",
     "output_type": "stream",
     "text": [
      "\tVALENCE-s29|Acc=1.0|10-CV=1.0|STD=0.0|Time spend=0.5396566390991211\n"
     ]
    },
    {
     "name": "stderr",
     "output_type": "stream",
     "text": [
      "/root/projects/components/CSP.py:78: ComplexWarning: Casting complex values to real discards the imaginary part\n",
      "  return SFa.astype(np.float32)\n"
     ]
    },
    {
     "name": "stdout",
     "output_type": "stream",
     "text": [
      "-----WARNING: Model s30 failed to learn: sum(ans)=200.0 sum(y)=135.0 len(y)=200\n",
      "\tVALENCE-s30|Acc=0.675|10-CV=0.616|STD=0.14527|Time spend=0.6028478145599365\n"
     ]
    },
    {
     "name": "stderr",
     "output_type": "stream",
     "text": [
      "/root/projects/components/CSP.py:78: ComplexWarning: Casting complex values to real discards the imaginary part\n",
      "  return SFa.astype(np.float32)\n"
     ]
    },
    {
     "name": "stdout",
     "output_type": "stream",
     "text": [
      "-----WARNING: Model s31 failed to learn: sum(ans)=200.0 sum(y)=115.0 len(y)=200\n",
      "\tVALENCE-s31|Acc=0.575|10-CV=0.446|STD=0.0951|Time spend=0.5548233985900879\n"
     ]
    },
    {
     "name": "stderr",
     "output_type": "stream",
     "text": [
      "/root/projects/components/CSP.py:78: ComplexWarning: Casting complex values to real discards the imaginary part\n",
      "  return SFa.astype(np.float32)\n"
     ]
    },
    {
     "name": "stdout",
     "output_type": "stream",
     "text": [
      "\tVALENCE-s32|Acc=0.665|10-CV=0.558|STD=0.10058|Time spend=0.5925710201263428\n",
      "VALENCE|Acc=0.7817187499999998|10-CV=0.7089375000000001|STD=0.0847256391585963\n"
     ]
    }
   ],
   "source": [
    "accs_v, cv_means_v, cv_stds_v = [],[],[]\n",
    "for filename in tqdm(dataset.get_file_list()):\n",
    "\n",
    "    data, labels, groups = dataset.get_data(filename, stimuli=Dataset_subjectDependent.STIMULI_VALENCE, return_type='numpy')\n",
    "    labels = labels.squeeze()\n",
    "    start = time.time()\n",
    "    filters = CSP(data[labels==0], data[labels==1])\n",
    "    \n",
    "    csp_data = []\n",
    "    for index in range(len(data)):\n",
    "        \n",
    "        # (672, 32) @ (32, 32) = (672, 32)\n",
    "        csp = data[index].T @ filters[labels[index].astype(int)]\n",
    "        # (1, 32, 672)\n",
    "        csp = np.expand_dims(csp.T, axis=0)\n",
    "        csp_data.append(csp)\n",
    "\n",
    "    csp_data = np.vstack(csp_data)\n",
    "    # print(csp_data.shape) => (2400, 32, 128)\n",
    "    fe = FeatureExtractor(sfreq=128, selected_funcs=['pow_freq_bands'],params=params,n_jobs=8)\n",
    "    X = fe.fit_transform(X=csp_data)\n",
    "    # print(X.shape, time.time() - start) => (2400, 160) 1.2374355792999268\n",
    "\n",
    "    assert X.shape[1] == 160\n",
    "    _, acc, cross = train_model(X, labels.reshape(-1), groups, filename=filename)\n",
    "    print(f\"\\tVALENCE-{filename}|Acc={round(acc,5)}|10-CV={round(cross.mean(),5)}|STD={round(cross.std(),5)}|Time spend={time.time() - start}\")\n",
    "    accs_v.append(acc)\n",
    "    cv_means_v.append(cross.mean())\n",
    "    cv_stds_v.append(cross.std())\n",
    "print(f\"VALENCE|Acc={sum(accs_v)/len(accs_v)}|10-CV={sum(cv_means_v)/len(cv_means_v)}|STD={sum(cv_stds_v)/len(cv_stds_v)}\")"
   ]
  },
  {
   "cell_type": "code",
   "execution_count": 7,
   "metadata": {},
   "outputs": [
    {
     "name": "stdout",
     "output_type": "stream",
     "text": [
      "TOTAL|Acc=0.7913281249999999|10-CV=0.7306562500000001|STD=0.07897479806331546\n"
     ]
    }
   ],
   "source": [
    "accs.extend(accs_v)\n",
    "cv_means.extend(cv_means_v)\n",
    "cv_stds.extend(cv_stds_v)\n",
    "\n",
    "print(f\"TOTAL|Acc={sum(accs)/len(accs)}|10-CV={sum(cv_means)/len(cv_means)}|STD={sum(cv_stds)/len(cv_stds)}\")"
   ]
  },
  {
   "cell_type": "code",
   "execution_count": null,
   "metadata": {},
   "outputs": [],
   "source": []
  }
 ],
 "metadata": {
  "interpreter": {
   "hash": "27768773b483d82a9b2b839e3fa80b1be5789db7fd78df4eedef2df266871616"
  },
  "kernelspec": {
   "display_name": "Python 3 (ipykernel)",
   "language": "python",
   "name": "python3"
  },
  "language_info": {
   "codemirror_mode": {
    "name": "ipython",
    "version": 3
   },
   "file_extension": ".py",
   "mimetype": "text/x-python",
   "name": "python",
   "nbconvert_exporter": "python",
   "pygments_lexer": "ipython3",
   "version": "3.8.10"
  }
 },
 "nbformat": 4,
 "nbformat_minor": 4
}
