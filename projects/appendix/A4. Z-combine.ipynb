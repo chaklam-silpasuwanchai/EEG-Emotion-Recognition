{
 "cells": [
  {
   "cell_type": "code",
   "execution_count": 1,
   "metadata": {},
   "outputs": [],
   "source": [
    "import numpy as np\n"
   ]
  },
  {
   "cell_type": "code",
   "execution_count": 12,
   "metadata": {},
   "outputs": [
    {
     "name": "stdout",
     "output_type": "stream",
     "text": [
      "mean of tech \n",
      "=======\n",
      "DE 0.66\n",
      "DASM 0.648\n",
      "RASM 0.621\n",
      "DCAU 0.648\n",
      "PCC_time 0.642\n",
      "PCC_freq 0.652\n",
      "PLV 0.68\n",
      "PLI 0.625\n",
      "CSP 0.772\n",
      "mean of seg len \n",
      "=======\n",
      "60 0.656\n",
      "30 0.661\n",
      "20 0.661\n",
      "12 0.664\n",
      "5 0.66\n",
      "4 0.668\n",
      "3 0.658\n",
      "2 0.66\n",
      "1 0.659\n"
     ]
    }
   ],
   "source": [
    "seg_cv = {\n",
    "    'DE': [0.636,0.647,0.653,0.659,0.664,0.669,0.664,0.675,0.677],\n",
    "    'DASM': [0.633,0.656,0.651,0.652,0.648,0.653,0.645,0.650,0.645],\n",
    "    'RASM': [0.621,0.636,0.628,0.625,0.617,0.615,0.614,0.615,0.614],\n",
    "    'DCAU': [0.641,0.651,0.654,0.654,0.648,0.652,0.643,0.648,0.644],\n",
    "    'PCC_time': [0.625,0.633,0.635,0.639,0.641,0.676,0.645,0.647,0.634],\n",
    "    'PCC_freq': [0.636,0.648,0.648,0.655,0.662,0.642,0.659,0.662,0.657],\n",
    "    'PLV': [0.654,0.668,0.676,0.686,0.693,0.659,0.696,0.698,0.688],\n",
    "    'PLI': [0.615,0.623,0.619,0.618,0.615,0.696,0.613,0.613,0.611],\n",
    "    'CSP': [0.840,0.790,0.787,0.790,0.753,0.750,0.745,0.732,0.763],\n",
    "}\n",
    "\n",
    "print('mean of tech','\\n=======')\n",
    "for k,v in seg_cv.items():\n",
    "    temp = np.array(v)\n",
    "    print(k,round(temp.mean(),3))\n",
    "\n",
    "print('mean of seg len','\\n=======')\n",
    "seg_len = [60,30,20,12,5,4,3,2,1]\n",
    "for i in range(len(seg_len)):\n",
    "    temp = []\n",
    "    for k,v in seg_cv.items():\n",
    "        temp.append(v[i])\n",
    "    temp = np.array(temp)\n",
    "    print(seg_len[i], round(temp.mean(),3))"
   ]
  },
  {
   "cell_type": "code",
   "execution_count": 14,
   "metadata": {},
   "outputs": [
    {
     "name": "stdout",
     "output_type": "stream",
     "text": [
      "mean of tech \n",
      "=======\n",
      "DE 0.024\n",
      "DASM 0.022\n",
      "RASM 0.019\n",
      "DCAU 0.024\n",
      "PCC_time 0.034\n",
      "PCC_freq 0.027\n",
      "PLV 0.026\n",
      "PLI 0.024\n",
      "CSP 0.024\n",
      "mean of seg len \n",
      "=======\n",
      "60 0.041\n",
      "30 0.039\n",
      "20 0.049\n",
      "12 0.026\n",
      "5 0.017\n",
      "4 0.017\n",
      "3 0.014\n",
      "2 0.012\n",
      "1 0.009\n"
     ]
    }
   ],
   "source": [
    "seg_std = {\n",
    "    'DE': [0.040,0.038,0.029,0.029,0.019,0.018,0.016,0.014,0.010],\n",
    "    'DASM': [0.038,0.036,0.030,0.026,0.018,0.016,0.013,0.012,0.008],\n",
    "    'RASM': [0.050,0.041,0.027,0.021,0.008,0.009,0.005,0.004,0.003],\n",
    "    'DCAU': [0.046,0.038,0.032,0.028,0.017,0.017,0.014,0.012,0.008],\n",
    "    'PCC_time': [0.024,0.025,0.178,0.019,0.014,0.016,0.011,0.010,0.010],\n",
    "    'PCC_freq': [0.042,0.046,0.037,0.032,0.021,0.022,0.019,0.014,0.011],\n",
    "    'PLV': [0.040,0.043,0.038,0.032,0.021,0.019,0.018,0.015,0.011],\n",
    "    'PLI': [0.048,0.039,0.032,0.026,0.016,0.021,0.013,0.011,0.008],\n",
    "    'CSP': [0.040,0.041,0.036,0.023,0.020,0.016,0.016,0.014,0.009],\n",
    "}\n",
    "\n",
    "print('mean of tech','\\n=======')\n",
    "for k,v in seg_std.items():\n",
    "    temp = np.array(v)\n",
    "    print(k,round(temp.mean(),3))\n",
    "\n",
    "print('mean of seg len','\\n=======')\n",
    "seg_len = [60,30,20,12,5,4,3,2,1]\n",
    "for i in range(len(seg_len)):\n",
    "    temp = []\n",
    "    for k,v in seg_std.items():\n",
    "        temp.append(v[i])\n",
    "    temp = np.array(temp)\n",
    "    print(seg_len[i], round(temp.mean(),3))"
   ]
  },
  {
   "cell_type": "code",
   "execution_count": 15,
   "metadata": {},
   "outputs": [
    {
     "name": "stdout",
     "output_type": "stream",
     "text": [
      "mean of tech \n",
      "=======\n",
      "DE 0.59\n",
      "DASM 0.582\n",
      "RASM 0.56\n",
      "DCAU 0.582\n",
      "PCC_time 0.572\n",
      "PCC_freq 0.582\n",
      "PLV 0.603\n",
      "PLI 0.557\n",
      "CSP 0.73\n",
      "mean of seg len \n",
      "=======\n",
      "60 0.603\n",
      "30 0.602\n",
      "20 0.601\n",
      "12 0.596\n",
      "5 0.592\n",
      "4 0.593\n",
      "3 0.59\n",
      "2 0.589\n",
      "1 0.591\n"
     ]
    }
   ],
   "source": [
    "spl_cv = {\n",
    "    'DE': [0.580,0.588,0.593,0.590,0.589,0.595,0.587,0.594,0.591],\n",
    "    'DASM': [0.575,0.584,0.587,0.586,0.580,0.584,0.580,0.581,0.578],\n",
    "    'RASM': [0.564,0.578,0.568,0.567,0.552,0.552,0.553,0.552,0.553],\n",
    "    'DCAU': [0.583,0.592,0.591,0.559,0.584,0.585,0.580,0.582,0.578],\n",
    "    'PCC_time': [0.564,0.570,0.572,0.573,0.574,0.574,0.573,0.575,0.574],\n",
    "    'PCC_freq': [0.578,0.585,0.585,0.585,0.585,0.581,0.581,0.582,0.577],\n",
    "    'PLV': [0.591,0.605,0.609,0.611,0.607,0.604,0.603,0.602,0.596],\n",
    "    'PLI': [0.564,0.562,0.559,0.560,0.554,0.555,0.553,0.554,0.554],\n",
    "    'CSP': [0.830,0.758,0.746,0.731,0.704,0.703,0.700,0.681,0.720]\n",
    "}\n",
    "\n",
    "print('mean of tech','\\n=======')\n",
    "for k,v in spl_cv.items():\n",
    "    temp = np.array(v)\n",
    "    print(k,round(temp.mean(),3))\n",
    "\n",
    "print('mean of seg len','\\n=======')\n",
    "seg_len = [60,30,20,12,5,4,3,2,1]\n",
    "for i in range(len(seg_len)):\n",
    "    temp = []\n",
    "    for k,v in spl_cv.items():\n",
    "        temp.append(v[i])\n",
    "    temp = np.array(temp)\n",
    "    print(seg_len[i], round(temp.mean(),3))"
   ]
  },
  {
   "cell_type": "code",
   "execution_count": 16,
   "metadata": {},
   "outputs": [
    {
     "name": "stdout",
     "output_type": "stream",
     "text": [
      "mean of tech \n",
      "=======\n",
      "DE 0.111\n",
      "DASM 0.212\n",
      "RASM 0.124\n",
      "DCAU 0.112\n",
      "PCC_time 0.12\n",
      "PCC_freq 0.109\n",
      "PLV 0.107\n",
      "PLI 0.11\n",
      "CSP 0.079\n",
      "mean of seg len \n",
      "=======\n",
      "60 0.125\n",
      "30 0.12\n",
      "20 0.115\n",
      "12 0.109\n",
      "5 0.105\n",
      "4 0.104\n",
      "3 0.104\n",
      "2 0.103\n",
      "1 0.199\n"
     ]
    }
   ],
   "source": [
    "spl_std = {\n",
    "    'DE': [0.134,0.130,0.120,0.110,0.105,0.104,0.103,0.101,0.096],\n",
    "    'DASM': [0.135,0.127,0.125,0.115,0.106,0.107,0.103,0.103,0.990],\n",
    "    'RASM': [0.130,0.125,0.123,0.119,0.123,0.122,0.127,0.124,0.127],\n",
    "    'DCAU': [0.134,0.126,0.121,0.113,0.104,0.102,0.102,0.102,0.100],\n",
    "    'PCC_time': [0.135,0.128,0.124,0.119,0.116,0.114,0.116,0.114,0.110],\n",
    "    'PCC_freq': [0.130,0.122,0.116,0.110,0.106,0.102,0.100,0.099,0.096],\n",
    "    'PLV': [0.130,0.119,0.114,0.108,0.102,0.100,0.098,0.096,0.092],\n",
    "    'PLI': [0.124,0.117,0.113,0.111,0.107,0.106,0.104,0.104,0.103],\n",
    "    'CSP': [0.074,0.085,0.080,0.079,0.079,0.080,0.081,0.080,0.074]\n",
    "}\n",
    "\n",
    "print('mean of tech','\\n=======')\n",
    "for k,v in spl_std.items():\n",
    "    temp = np.array(v)\n",
    "    print(k,round(temp.mean(),3))\n",
    "\n",
    "print('mean of seg len','\\n=======')\n",
    "seg_len = [60,30,20,12,5,4,3,2,1]\n",
    "for i in range(len(seg_len)):\n",
    "    temp = []\n",
    "    for k,v in spl_std.items():\n",
    "        temp.append(v[i])\n",
    "    temp = np.array(temp)\n",
    "    print(seg_len[i], round(temp.mean(),3))\n",
    "\n",
    "\n",
    "0.603&pm;0.125 | 0.602&pm;0.120 | 0.601&pm;0.115 | 0.596&pm;0.109 | 0.592&pm;0.105 | 0.593&pm;0.104 | 0.590&pm;0.104 | 0.589&pm;0.103 | 0.591&pm;0.199 | \n",
    "\n",
    "\n",
    "\n",
    "\n",
    "\n",
    "\n",
    "\n",
    "\n"
   ]
  }
 ],
 "metadata": {
  "interpreter": {
   "hash": "27768773b483d82a9b2b839e3fa80b1be5789db7fd78df4eedef2df266871616"
  },
  "kernelspec": {
   "display_name": "Python 3.8.10 ('.venv': pipenv)",
   "language": "python",
   "name": "python3"
  },
  "language_info": {
   "codemirror_mode": {
    "name": "ipython",
    "version": 3
   },
   "file_extension": ".py",
   "mimetype": "text/x-python",
   "name": "python",
   "nbconvert_exporter": "python",
   "pygments_lexer": "ipython3",
   "version": "3.8.10"
  },
  "orig_nbformat": 4
 },
 "nbformat": 4,
 "nbformat_minor": 2
}
