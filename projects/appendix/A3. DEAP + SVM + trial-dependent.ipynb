{
 "cells": [
  {
   "cell_type": "markdown",
   "metadata": {},
   "source": [
    "## 1. Feature Evaluation\n",
    "\n",
    "In this file, we will be evaluating features. The procedure is as follow,\n",
    "\n",
    "1. Subject-Dependent evaluation: build model for each subject\n",
    "2. 10-CrossValidation: with 75-25 train-test ration\n",
    "3. `Trial-dependent`: Segment First then Split\n",
    "4. The DEAP data set contain 63 seconds long trial, discard the first 3 seconds and segment the trial into 60 samples. (1 second long)\n",
    "\n",
    "Plan 1\n",
    "====\n",
    "\n",
    "In Sklearn, there is a function `sklearn.model_selection.StratifiedShuffleSplit`.\n",
    "\n",
    "1. Stratified: ensure label ratio\n",
    "2. ShuffleSplit: this is not K-fold. Just random all segment with the ability to pick train-test."
   ]
  },
  {
   "cell_type": "code",
   "execution_count": 1,
   "metadata": {},
   "outputs": [
    {
     "name": "stdout",
     "output_type": "stream",
     "text": [
      "Found: 32 files\n",
      "s01 (2400, 2) [47.5 60. ]\n",
      "s02 (2400, 2) [55. 60.]\n",
      "s03 (2400, 2) [55. 20.]\n",
      "s04 (2400, 2) [40. 40.]\n",
      "s05 (2400, 2) [60.  47.5]\n",
      "s06 (2400, 2) [75.  42.5]\n",
      "s07 (2400, 2) [70.  62.5]\n",
      "s08 (2400, 2) [55.  57.5]\n",
      "s09 (2400, 2) [50. 60.]\n",
      "s10 (2400, 2) [50. 55.]\n",
      "s11 (2400, 2) [60.  37.5]\n",
      "s12 (2400, 2) [52.5 82.5]\n",
      "s13 (2400, 2) [42.5 85. ]\n",
      "s14 (2400, 2) [50.  67.5]\n",
      "s15 (2400, 2) [50.  47.5]\n",
      "s16 (2400, 2) [37.5 50. ]\n",
      "s17 (2400, 2) [55. 60.]\n",
      "s18 (2400, 2) [60.  62.5]\n",
      "s19 (2400, 2) [57.5 67.5]\n",
      "s20 (2400, 2) [57.5 77.5]\n",
      "s21 (2400, 2) [52.5 80. ]\n",
      "s22 (2400, 2) [45. 60.]\n",
      "s23 (2400, 2) [65. 25.]\n",
      "s24 (2400, 2) [45.  82.5]\n",
      "s25 (2400, 2) [47.5 72.5]\n",
      "s26 (2400, 2) [65.  42.5]\n",
      "s27 (2400, 2) [75.  67.5]\n",
      "s28 (2400, 2) [62.5 45. ]\n",
      "s29 (2400, 2) [57.5 62.5]\n",
      "s30 (2400, 2) [67.5 47.5]\n",
      "s31 (2400, 2) [57.5 47.5]\n",
      "s32 (2400, 2) [50.  67.5]\n"
     ]
    }
   ],
   "source": [
    "import time\n",
    "import numpy as np\n",
    "from tqdm.notebook import tqdm\n",
    "\n",
    "from components.dataset_jo import *\n",
    "\n",
    "dataset = Dataset_subjectDependent('data')\n",
    "dataset.set_segment(60)\n",
    "for filename in dataset.get_file_list():\n",
    "    data, labels, _ = dataset.get_data(filename, return_type='numpy')\n",
    "    print(filename, labels.shape, labels.sum(axis=0)/labels.shape[0]*100)"
   ]
  },
  {
   "cell_type": "code",
   "execution_count": 2,
   "metadata": {},
   "outputs": [
    {
     "name": "stdout",
     "output_type": "stream",
     "text": [
      "===== GroupShuffleSplit =====\n",
      "(2400, 32, 128) (2400,) (2400,)\n",
      "(1800,) (600,) set()\n",
      "[0.66666667] [0.4]\n",
      "(1800,) (600,) set()\n",
      "[0.56666667] [0.7]\n",
      "(1800,) (600,) set()\n",
      "[0.63333333] [0.5]\n",
      "(1800,) (600,) set()\n",
      "[0.66666667] [0.4]\n",
      "(1800,) (600,) set()\n",
      "[0.63333333] [0.5]\n",
      "(1800,) (600,) set()\n",
      "[0.6] [0.6]\n",
      "(1800,) (600,) set()\n",
      "[0.53333333] [0.8]\n",
      "(1800,) (600,) set()\n",
      "[0.7] [0.3]\n",
      "(1800,) (600,) set()\n",
      "[0.56666667] [0.7]\n",
      "(1800,) (600,) set()\n",
      "[0.56666667] [0.7]\n",
      "\n",
      "===== StratifiedGroupKFold =====\n",
      "(2400, 32, 128) (2400,) (2400,)\n",
      "(2160,) (240,) set()\n",
      "[0.61111111] [0.5]\n",
      "(2160,) (240,) set()\n",
      "[0.58333333] [0.75]\n",
      "(2160,) (240,) set()\n",
      "[0.55555556] [1.]\n",
      "(2160,) (240,) set()\n",
      "[0.61111111] [0.5]\n",
      "(2160,) (240,) set()\n",
      "[0.61111111] [0.5]\n",
      "(2160,) (240,) set()\n",
      "[0.58333333] [0.75]\n",
      "(2160,) (240,) set()\n",
      "[0.61111111] [0.5]\n",
      "(2160,) (240,) set()\n",
      "[0.61111111] [0.5]\n",
      "(2160,) (240,) set()\n",
      "[0.61111111] [0.5]\n",
      "(2160,) (240,) set()\n",
      "[0.61111111] [0.5]\n",
      "\n",
      "===== StratifiedShuffleSplit =====\n",
      "(2400, 32, 128) (2400,) (2400,)\n",
      "(1800,) (600,) {0, 1, 2, 3, 4, 5, 6, 7, 8, 9, 10, 11, 12, 13, 14, 15, 16, 17, 18, 19, 20, 21, 22, 23, 24, 25, 26, 27, 28, 29, 30, 31, 32, 33, 34, 35, 36, 37, 38, 39}\n",
      "[0.6] [0.6]\n",
      "(1800,) (600,) {0, 1, 2, 3, 4, 5, 6, 7, 8, 9, 10, 11, 12, 13, 14, 15, 16, 17, 18, 19, 20, 21, 22, 23, 24, 25, 26, 27, 28, 29, 30, 31, 32, 33, 34, 35, 36, 37, 38, 39}\n",
      "[0.6] [0.6]\n",
      "(1800,) (600,) {0, 1, 2, 3, 4, 5, 6, 7, 8, 9, 10, 11, 12, 13, 14, 15, 16, 17, 18, 19, 20, 21, 22, 23, 24, 25, 26, 27, 28, 29, 30, 31, 32, 33, 34, 35, 36, 37, 38, 39}\n",
      "[0.6] [0.6]\n",
      "(1800,) (600,) {0, 1, 2, 3, 4, 5, 6, 7, 8, 9, 10, 11, 12, 13, 14, 15, 16, 17, 18, 19, 20, 21, 22, 23, 24, 25, 26, 27, 28, 29, 30, 31, 32, 33, 34, 35, 36, 37, 38, 39}\n",
      "[0.6] [0.6]\n",
      "(1800,) (600,) {0, 1, 2, 3, 4, 5, 6, 7, 8, 9, 10, 11, 12, 13, 14, 15, 16, 17, 18, 19, 20, 21, 22, 23, 24, 25, 26, 27, 28, 29, 30, 31, 32, 33, 34, 35, 36, 37, 38, 39}\n",
      "[0.6] [0.6]\n",
      "(1800,) (600,) {0, 1, 2, 3, 4, 5, 6, 7, 8, 9, 10, 11, 12, 13, 14, 15, 16, 17, 18, 19, 20, 21, 22, 23, 24, 25, 26, 27, 28, 29, 30, 31, 32, 33, 34, 35, 36, 37, 38, 39}\n",
      "[0.6] [0.6]\n",
      "(1800,) (600,) {0, 1, 2, 3, 4, 5, 6, 7, 8, 9, 10, 11, 12, 13, 14, 15, 16, 17, 18, 19, 20, 21, 22, 23, 24, 25, 26, 27, 28, 29, 30, 31, 32, 33, 34, 35, 36, 37, 38, 39}\n",
      "[0.6] [0.6]\n",
      "(1800,) (600,) {0, 1, 2, 3, 4, 5, 6, 7, 8, 9, 10, 11, 12, 13, 14, 15, 16, 17, 18, 19, 20, 21, 22, 23, 24, 25, 26, 27, 28, 29, 30, 31, 32, 33, 34, 35, 36, 37, 38, 39}\n",
      "[0.6] [0.6]\n",
      "(1800,) (600,) {0, 1, 2, 3, 4, 5, 6, 7, 8, 9, 10, 11, 12, 13, 14, 15, 16, 17, 18, 19, 20, 21, 22, 23, 24, 25, 26, 27, 28, 29, 30, 31, 32, 33, 34, 35, 36, 37, 38, 39}\n",
      "[0.6] [0.6]\n",
      "(1800,) (600,) {0, 1, 2, 3, 4, 5, 6, 7, 8, 9, 10, 11, 12, 13, 14, 15, 16, 17, 18, 19, 20, 21, 22, 23, 24, 25, 26, 27, 28, 29, 30, 31, 32, 33, 34, 35, 36, 37, 38, 39}\n",
      "[0.6] [0.6]\n"
     ]
    }
   ],
   "source": [
    "from sklearn.model_selection import GroupShuffleSplit, StratifiedGroupKFold,StratifiedShuffleSplit \n",
    "print(\"===== GroupShuffleSplit =====\")\n",
    "X,y,groups = dataset.get_data('s01', Dataset_subjectDependent.STIMULI_AROUSAL, return_type='numpy')\n",
    "print(X.shape, y.squeeze().shape, groups.shape)\n",
    "cv = GroupShuffleSplit(n_splits=10, train_size=0.75, random_state=0)\n",
    "for train_idxs, test_idxs in cv.split(X, y.squeeze(), groups):\n",
    "    print(train_idxs.shape, test_idxs.shape, set(groups[train_idxs]).intersection(groups[test_idxs]) )\n",
    "    print(sum(y[train_idxs])/len(train_idxs),sum(y[test_idxs])/len(test_idxs))\n",
    "\n",
    "print()\n",
    "\n",
    "print(\"===== StratifiedGroupKFold =====\")\n",
    "X,y,groups = dataset.get_data('s01', Dataset_subjectDependent.STIMULI_AROUSAL, return_type='numpy')\n",
    "print(X.shape, y.squeeze().shape, groups.shape)\n",
    "cv = StratifiedGroupKFold(n_splits=10, shuffle=True, random_state=0)\n",
    "for train_idxs, test_idxs in cv.split(X, y.squeeze(), groups):\n",
    "    print(train_idxs.shape, test_idxs.shape, set(groups[train_idxs]).intersection(groups[test_idxs]) )\n",
    "    print(sum(y[train_idxs])/len(train_idxs),sum(y[test_idxs])/len(test_idxs))\n",
    "\n",
    "print()\n",
    "\n",
    "print(\"===== StratifiedShuffleSplit =====\")\n",
    "X,y,groups = dataset.get_data('s01', Dataset_subjectDependent.STIMULI_AROUSAL, return_type='numpy')\n",
    "print(X.shape, y.squeeze().shape, groups.shape)\n",
    "cv = StratifiedShuffleSplit(n_splits=10, train_size=0.75, random_state=0)\n",
    "for train_idxs, test_idxs in cv.split(X, y.squeeze(), groups):\n",
    "    print(train_idxs.shape, test_idxs.shape, set(groups[train_idxs]).intersection(groups[test_idxs]) )\n",
    "    print(sum(y[train_idxs])/len(train_idxs),sum(y[test_idxs])/len(test_idxs))"
   ]
  },
  {
   "cell_type": "markdown",
   "metadata": {},
   "source": [
    "As a result, I will use `GroupShuffleSplit`."
   ]
  },
  {
   "cell_type": "code",
   "execution_count": 3,
   "metadata": {},
   "outputs": [],
   "source": [
    "def train_model(X_ori,y_ori,groups_ori,filename=None, kernel='rbf'):\n",
    "    \n",
    "    # Make a copy because I am paranoid\n",
    "    X,y,groups = X_ori.copy(), y_ori.copy(), groups_ori.copy()\n",
    "\n",
    "    from sklearn.svm import SVC\n",
    "    from sklearn.model_selection import StratifiedShuffleSplit \n",
    "    from sklearn.model_selection import cross_val_score\n",
    "\n",
    "    model = SVC(kernel=kernel,max_iter=50000)\n",
    "    cv = StratifiedShuffleSplit(n_splits=10, train_size=0.75, random_state=0)\n",
    "    cross = cross_val_score(model, X, y, cv=cv, n_jobs=8)\n",
    "    \n",
    "    # We probably dont need this\n",
    "    model = SVC(kernel=kernel, max_iter=50000)\n",
    "    model.fit(X, y)\n",
    "    ans = model.predict(X)\n",
    "    acc = sum(ans == y) / len(y)\n",
    "    # If the model answer with all 0 or 1, we print this message\n",
    "    if( sum(ans) == len(y) or sum(ans) == 0 ): \n",
    "        print(f\"-----WARNING: Model {filename} failed to learn: sum(ans)={sum(ans)} sum(y)={sum(y)} len(y)={len(y)}\")\n",
    "    return model, acc, cross"
   ]
  },
  {
   "cell_type": "markdown",
   "metadata": {},
   "source": [
    "## 2. Spectral Features"
   ]
  },
  {
   "cell_type": "code",
   "execution_count": 5,
   "metadata": {},
   "outputs": [],
   "source": [
    "from mne_features.feature_extraction import FeatureExtractor"
   ]
  },
  {
   "cell_type": "code",
   "execution_count": 8,
   "metadata": {},
   "outputs": [
    {
     "name": "stdout",
     "output_type": "stream",
     "text": [
      "\tAROUSAL-s01|Acc=0.76917|10-CV=0.68417|STD=0.01613|Time spend=2.089592695236206\n",
      "\tAROUSAL-s02|Acc=0.64292|10-CV=0.62183|STD=0.00643|Time spend=2.206979274749756\n",
      "-----WARNING: Model s03 failed to learn: sum(ans)=0.0 sum(y)=480.0 len(y)=2400\n",
      "\tAROUSAL-s03|Acc=0.8|10-CV=0.8|STD=0.0|Time spend=1.6508989334106445\n",
      "\tAROUSAL-s04|Acc=0.65292|10-CV=0.6185|STD=0.01223|Time spend=2.1168110370635986\n",
      "\tAROUSAL-s05|Acc=0.63667|10-CV=0.57633|STD=0.01115|Time spend=2.2953717708587646\n",
      "\tAROUSAL-s06|Acc=0.63292|10-CV=0.59583|STD=0.01847|Time spend=2.158255100250244\n",
      "\tAROUSAL-s07|Acc=0.72833|10-CV=0.66967|STD=0.01021|Time spend=2.0664174556732178\n",
      "\tAROUSAL-s08|Acc=0.72417|10-CV=0.64083|STD=0.00851|Time spend=2.1546568870544434\n",
      "\tAROUSAL-s09|Acc=0.67792|10-CV=0.63567|STD=0.00692|Time spend=2.0801613330841064\n",
      "\tAROUSAL-s10|Acc=0.75958|10-CV=0.69983|STD=0.01015|Time spend=2.1571784019470215\n",
      "\tAROUSAL-s11|Acc=0.62917|10-CV=0.62683|STD=0.00174|Time spend=2.063520669937134\n",
      "-----WARNING: Model s12 failed to learn: sum(ans)=2400.0 sum(y)=1980.0 len(y)=2400\n",
      "\tAROUSAL-s12|Acc=0.825|10-CV=0.825|STD=0.0|Time spend=1.9618330001831055\n",
      "-----WARNING: Model s13 failed to learn: sum(ans)=2400.0 sum(y)=2040.0 len(y)=2400\n",
      "\tAROUSAL-s13|Acc=0.85|10-CV=0.85|STD=0.0|Time spend=1.5298986434936523\n",
      "\tAROUSAL-s14|Acc=0.67542|10-CV=0.67483|STD=0.0005|Time spend=2.2359423637390137\n",
      "\tAROUSAL-s15|Acc=0.74167|10-CV=0.68717|STD=0.01323|Time spend=2.2160961627960205\n",
      "\tAROUSAL-s16|Acc=0.77458|10-CV=0.71133|STD=0.01827|Time spend=2.0657382011413574\n",
      "\tAROUSAL-s17|Acc=0.71333|10-CV=0.698|STD=0.01185|Time spend=1.9958035945892334\n",
      "\tAROUSAL-s18|Acc=0.68708|10-CV=0.65783|STD=0.00806|Time spend=2.2081918716430664\n",
      "\tAROUSAL-s19|Acc=0.6825|10-CV=0.67717|STD=0.00299|Time spend=2.1150805950164795\n",
      "\tAROUSAL-s20|Acc=0.77542|10-CV=0.775|STD=0.0|Time spend=2.0114333629608154\n",
      "-----WARNING: Model s21 failed to learn: sum(ans)=2400.0 sum(y)=1920.0 len(y)=2400\n",
      "\tAROUSAL-s21|Acc=0.8|10-CV=0.79983|STD=0.0005|Time spend=1.9748787879943848\n",
      "\tAROUSAL-s22|Acc=0.60667|10-CV=0.60617|STD=0.00898|Time spend=2.4483554363250732\n",
      "\tAROUSAL-s23|Acc=0.77208|10-CV=0.757|STD=0.00323|Time spend=2.0128014087677\n",
      "-----WARNING: Model s24 failed to learn: sum(ans)=2400.0 sum(y)=1980.0 len(y)=2400\n",
      "\tAROUSAL-s24|Acc=0.825|10-CV=0.825|STD=0.0|Time spend=2.0733375549316406\n",
      "-----WARNING: Model s25 failed to learn: sum(ans)=2400.0 sum(y)=1740.0 len(y)=2400\n",
      "\tAROUSAL-s25|Acc=0.725|10-CV=0.725|STD=0.0|Time spend=2.3169915676116943\n",
      "\tAROUSAL-s26|Acc=0.63042|10-CV=0.5855|STD=0.01174|Time spend=2.836872100830078\n",
      "\tAROUSAL-s27|Acc=0.745|10-CV=0.6935|STD=0.00639|Time spend=2.192077159881592\n",
      "\tAROUSAL-s28|Acc=0.62542|10-CV=0.58383|STD=0.01422|Time spend=2.4295847415924072\n",
      "\tAROUSAL-s29|Acc=0.68458|10-CV=0.64667|STD=0.0094|Time spend=2.416552782058716\n",
      "\tAROUSAL-s30|Acc=0.66375|10-CV=0.58133|STD=0.014|Time spend=2.3503811359405518\n",
      "\tAROUSAL-s31|Acc=0.71125|10-CV=0.65283|STD=0.01|Time spend=2.3812406063079834\n",
      "\tAROUSAL-s32|Acc=0.68167|10-CV=0.6755|STD=0.0013|Time spend=2.2471370697021484\n",
      "AROUSAL|Acc=0.7140494791666667|10-CV=0.6830625000000001|STD=0.0073940310485948015\n",
      "\tVALENCE-s01|Acc=0.72833|10-CV=0.613|STD=0.01616|Time spend=2.3868820667266846\n",
      "\tVALENCE-s02|Acc=0.70542|10-CV=0.67433|STD=0.01153|Time spend=2.1723060607910156\n",
      "\tVALENCE-s03|Acc=0.72292|10-CV=0.65317|STD=0.01603|Time spend=2.3105976581573486\n",
      "\tVALENCE-s04|Acc=0.675|10-CV=0.646|STD=0.01375|Time spend=2.1800594329833984\n",
      "\tVALENCE-s05|Acc=0.66875|10-CV=0.62867|STD=0.01176|Time spend=2.27486252784729\n",
      "\tVALENCE-s06|Acc=0.75208|10-CV=0.75|STD=0.00129|Time spend=2.0050904750823975\n",
      "\tVALENCE-s07|Acc=0.73625|10-CV=0.70483|STD=0.00293|Time spend=1.9286503791809082\n",
      "\tVALENCE-s08|Acc=0.72458|10-CV=0.63167|STD=0.01487|Time spend=2.4103264808654785\n",
      "\tVALENCE-s09|Acc=0.75583|10-CV=0.71817|STD=0.01444|Time spend=1.9731519222259521\n",
      "\tVALENCE-s10|Acc=0.81167|10-CV=0.785|STD=0.01668|Time spend=1.8006949424743652\n",
      "\tVALENCE-s11|Acc=0.61958|10-CV=0.60683|STD=0.00529|Time spend=2.277397632598877\n",
      "\tVALENCE-s12|Acc=0.70292|10-CV=0.62867|STD=0.01171|Time spend=2.189004898071289\n",
      "\tVALENCE-s13|Acc=0.76542|10-CV=0.75517|STD=0.00979|Time spend=1.9300041198730469\n",
      "\tVALENCE-s14|Acc=0.73708|10-CV=0.6965|STD=0.0172|Time spend=2.0237209796905518\n",
      "\tVALENCE-s15|Acc=0.82667|10-CV=0.77767|STD=0.01459|Time spend=1.869363784790039\n",
      "\tVALENCE-s16|Acc=0.75542|10-CV=0.71883|STD=0.01258|Time spend=2.175182819366455\n",
      "\tVALENCE-s17|Acc=0.63583|10-CV=0.59483|STD=0.02013|Time spend=2.432560443878174\n",
      "\tVALENCE-s18|Acc=0.78|10-CV=0.756|STD=0.02119|Time spend=1.8304400444030762\n",
      "\tVALENCE-s19|Acc=0.70125|10-CV=0.65633|STD=0.01588|Time spend=2.9433536529541016\n",
      "\tVALENCE-s20|Acc=0.73958|10-CV=0.67883|STD=0.02117|Time spend=2.6400914192199707\n",
      "\tVALENCE-s21|Acc=0.6575|10-CV=0.5915|STD=0.01548|Time spend=2.49438738822937\n",
      "\tVALENCE-s22|Acc=0.71417|10-CV=0.69417|STD=0.00938|Time spend=2.261505365371704\n",
      "\tVALENCE-s23|Acc=0.74875|10-CV=0.71333|STD=0.01062|Time spend=2.258842945098877\n",
      "\tVALENCE-s24|Acc=0.66375|10-CV=0.61983|STD=0.01799|Time spend=2.4587552547454834\n",
      "\tVALENCE-s25|Acc=0.63958|10-CV=0.59067|STD=0.02046|Time spend=2.450270414352417\n",
      "-----WARNING: Model s26 failed to learn: sum(ans)=2400.0 sum(y)=1560.0 len(y)=2400\n",
      "\tVALENCE-s26|Acc=0.65|10-CV=0.65|STD=0.0|Time spend=2.294903039932251\n",
      "\tVALENCE-s27|Acc=0.75917|10-CV=0.75083|STD=0.00281|Time spend=1.9360897541046143\n",
      "\tVALENCE-s28|Acc=0.66833|10-CV=0.64017|STD=0.0063|Time spend=2.250027656555176\n",
      "\tVALENCE-s29|Acc=0.70292|10-CV=0.63867|STD=0.0157|Time spend=2.561892509460449\n",
      "-----WARNING: Model s30 failed to learn: sum(ans)=2400.0 sum(y)=1620.0 len(y)=2400\n",
      "\tVALENCE-s30|Acc=0.675|10-CV=0.675|STD=0.0|Time spend=2.2424864768981934\n",
      "\tVALENCE-s31|Acc=0.69125|10-CV=0.60817|STD=0.01239|Time spend=2.3785669803619385\n",
      "\tVALENCE-s32|Acc=0.66125|10-CV=0.59333|STD=0.01675|Time spend=2.391305685043335\n",
      "VALENCE|Acc=0.7117578125|10-CV=0.6700052083333331|STD=0.012401636363541533\n",
      "TOTAL|Acc=0.7129036458333333|10-CV=0.6765338541666667|STD=0.00989783370606817\n"
     ]
    }
   ],
   "source": [
    "bands = [(0,4), (4,8), (8,12), (12,30), (30,64)]\n",
    "# [alias_feature_function]__[optional_param]\n",
    "params = dict({\n",
    "    'pow_freq_bands__log':True,\n",
    "    'pow_freq_bands__normalize':False,\n",
    "    'pow_freq_bands__freq_bands':bands\n",
    "})\n",
    "\n",
    "accs,cv_means,cv_stds  = [],[],[]\n",
    "# count = 0\n",
    "for filename in dataset.get_file_list():\n",
    "    start = time.time()\n",
    "    data, labels, groups = dataset.get_data(filename, stimuli=Dataset_subjectDependent.STIMULI_AROUSAL, return_type='numpy')\n",
    "    fe = FeatureExtractor(sfreq=128, selected_funcs=['pow_freq_bands'],params=params,n_jobs=8)\n",
    "    X = fe.fit_transform(X=data)\n",
    "    _, acc, cross = train_model(X, labels.reshape(-1), groups,filename=filename)\n",
    "    print(f\"\\tAROUSAL-{filename}|Acc={round(acc,5)}|10-CV={round(cross.mean(),5)}|STD={round(cross.std(),5)}|Time spend={time.time() - start}\")\n",
    "    accs.append(acc)\n",
    "    cv_means.append(cross.mean())\n",
    "    cv_stds.append(cross.std())\n",
    "    # count+=1\n",
    "    # if(count == 5): break\n",
    "print(f\"AROUSAL|Acc={sum(accs)/len(accs)}|10-CV={sum(cv_means)/len(cv_means)}|STD={sum(cv_stds)/len(cv_stds)}\")\n",
    "\n",
    "accs_v,cv_means_v,cv_stds_v  = [],[],[]\n",
    "# count=0\n",
    "for filename in dataset.get_file_list():\n",
    "    start = time.time()\n",
    "    data, labels, groups = dataset.get_data(filename, stimuli=Dataset_subjectDependent.STIMULI_VALENCE, return_type='numpy')\n",
    "    fe = FeatureExtractor(sfreq=128, selected_funcs=['pow_freq_bands'],params=params,n_jobs=8)\n",
    "    X = fe.fit_transform(X=data)\n",
    "    _, acc, cross = train_model(X, labels.reshape(-1), groups,filename=filename)\n",
    "    print(f\"\\tVALENCE-{filename}|Acc={round(acc,5)}|10-CV={round(cross.mean(),5)}|STD={round(cross.std(),5)}|Time spend={time.time() - start}\")\n",
    "    accs_v.append(acc)\n",
    "    cv_means_v.append(cross.mean())\n",
    "    cv_stds_v.append(cross.std())\n",
    "    # count+=1\n",
    "    # if(count == 5): break\n",
    "print(f\"VALENCE|Acc={sum(accs_v)/len(accs_v)}|10-CV={sum(cv_means_v)/len(cv_means_v)}|STD={sum(cv_stds_v)/len(cv_stds_v)}\")\n",
    "\n",
    "accs.extend(accs_v)\n",
    "cv_means.extend(cv_means_v)\n",
    "cv_stds.extend(cv_stds_v)\n",
    "print(f\"TOTAL|Acc={sum(accs)/len(accs)}|10-CV={sum(cv_means)/len(cv_means)}|STD={sum(cv_stds)/len(cv_stds)}\")"
   ]
  },
  {
   "cell_type": "markdown",
   "metadata": {},
   "source": [
    "## 3. Asymetry"
   ]
  },
  {
   "cell_type": "code",
   "execution_count": 9,
   "metadata": {},
   "outputs": [
    {
     "name": "stdout",
     "output_type": "stream",
     "text": [
      "left_channel_indexes=[0, 3, 2, 7, 11, 6, 10, 13, 1, 4, 5, 8, 9, 12]\n",
      "right_channel_indexes=[16, 20, 19, 25, 29, 24, 28, 31, 17, 21, 22, 26, 27, 30]\n",
      "frontal_channel_indexes=[4, 5, 22, 21, 3, 2, 18, 19, 20, 0, 16]\n",
      "posterior_channel_indexes=[8, 9, 27, 26, 11, 10, 15, 28, 29, 13, 31]\n"
     ]
    }
   ],
   "source": [
    "channels = ['Fp1','AF3','F3','F7','FC5','FC1','C3','T7','CP5','CP1','P3','P7','PO3','O1','Oz','Pz','Fp2','AF4','Fz','F4','F8','FC6','FC2','Cz','C4','T8','CP6','CP2','P4','P8','PO4','O2']\n",
    "left_channels = ['Fp1','F7','F3','T7','P7','C3','P3','O1','AF3','FC5','FC1','CP5','CP1','PO3']\n",
    "right_channels = ['Fp2','F8','F4','T8','P8','C4','P4','O2','AF4','FC6','FC2','CP6','CP2','PO4']\n",
    "left_channel_indexes = [ channels.index(ch) for ch in left_channels ]\n",
    "right_channel_indexes = [ channels.index(ch) for ch in right_channels ]\n",
    "\n",
    "print(f\"{left_channel_indexes=}\")\n",
    "print(f\"{right_channel_indexes=}\")\n",
    "\n",
    "frontal_channels = ['FC5','FC1','FC2','FC6','F7','F3','Fz','F4','F8','Fp1','Fp2']\n",
    "posterior_channels = ['CP5','CP1','CP2','CP6','P7','P3','Pz','P4','P8','O1','O2']\n",
    "\n",
    "frontal_channel_indexes = [ channels.index(ch) for ch in frontal_channels ]\n",
    "posterior_channel_indexes = [ channels.index(ch) for ch in posterior_channels ]\n",
    "\n",
    "print(f\"{frontal_channel_indexes=}\")\n",
    "print(f\"{posterior_channel_indexes=}\")"
   ]
  },
  {
   "cell_type": "code",
   "execution_count": 10,
   "metadata": {},
   "outputs": [
    {
     "name": "stdout",
     "output_type": "stream",
     "text": [
      "\tAROUSAL-s01-DASM|Acc=0.61|10-CV=0.60083|STD=0.00436|Time spend=1.019376516342163\n",
      "\tAROUSAL-s01-RASM|Acc=0.60833|10-CV=0.60117|STD=0.00259|Time spend=1.5545539855957031\n",
      "\tAROUSAL-s01-DCAU|Acc=0.63167|10-CV=0.61517|STD=0.00762|Time spend=2.0637810230255127\n",
      "\tAROUSAL-s02-DASM|Acc=0.615|10-CV=0.60217|STD=0.00478|Time spend=1.122661828994751\n",
      "\tAROUSAL-s02-RASM|Acc=0.60708|10-CV=0.59767|STD=0.00359|Time spend=1.6134107112884521\n",
      "\tAROUSAL-s02-DCAU|Acc=0.61583|10-CV=0.60417|STD=0.00629|Time spend=2.0919063091278076\n",
      "-----WARNING: Model s03 failed to learn: sum(ans)=0.0 sum(y)=480.0 len(y)=2400\n",
      "\tAROUSAL-s03-DASM|Acc=0.8|10-CV=0.8|STD=0.0|Time spend=0.9721813201904297\n",
      "\tAROUSAL-s03-RASM|Acc=0.80208|10-CV=0.7995|STD=0.0013|Time spend=1.2753639221191406\n",
      "-----WARNING: Model s03 failed to learn: sum(ans)=0.0 sum(y)=480.0 len(y)=2400\n",
      "\tAROUSAL-s03-DCAU|Acc=0.8|10-CV=0.8|STD=0.0|Time spend=1.804645299911499\n",
      "\tAROUSAL-s04-DASM|Acc=0.63333|10-CV=0.618|STD=0.00657|Time spend=1.086745262145996\n",
      "\tAROUSAL-s04-RASM|Acc=0.60375|10-CV=0.59733|STD=0.00238|Time spend=1.534860610961914\n",
      "\tAROUSAL-s04-DCAU|Acc=0.63167|10-CV=0.6085|STD=0.00728|Time spend=1.988879680633545\n",
      "\tAROUSAL-s05-DASM|Acc=0.59208|10-CV=0.56183|STD=0.01463|Time spend=1.034454345703125\n",
      "\tAROUSAL-s05-RASM|Acc=0.52917|10-CV=0.52267|STD=0.00351|Time spend=1.5556583404541016\n",
      "\tAROUSAL-s05-DCAU|Acc=0.58208|10-CV=0.544|STD=0.0106|Time spend=2.0908422470092773\n",
      "\tAROUSAL-s06-DASM|Acc=0.60708|10-CV=0.59683|STD=0.01144|Time spend=1.0468318462371826\n",
      "\tAROUSAL-s06-RASM|Acc=0.58083|10-CV=0.5755|STD=0.00224|Time spend=1.4939541816711426\n",
      "\tAROUSAL-s06-DCAU|Acc=0.59625|10-CV=0.58683|STD=0.00818|Time spend=1.9753515720367432\n",
      "\tAROUSAL-s07-DASM|Acc=0.62875|10-CV=0.62483|STD=0.00117|Time spend=1.1364924907684326\n",
      "\tAROUSAL-s07-RASM|Acc=0.62917|10-CV=0.62517|STD=0.00337|Time spend=1.6111853122711182\n",
      "\tAROUSAL-s07-DCAU|Acc=0.625|10-CV=0.62433|STD=0.00082|Time spend=2.1181933879852295\n",
      "\tAROUSAL-s08-DASM|Acc=0.64|10-CV=0.58867|STD=0.01194|Time spend=1.0127863883972168\n",
      "\tAROUSAL-s08-RASM|Acc=0.57792|10-CV=0.5745|STD=0.00224|Time spend=1.5194828510284424\n",
      "\tAROUSAL-s08-DCAU|Acc=0.62833|10-CV=0.59467|STD=0.00759|Time spend=2.021419048309326\n",
      "\tAROUSAL-s09-DASM|Acc=0.64292|10-CV=0.6185|STD=0.00383|Time spend=1.192549228668213\n",
      "\tAROUSAL-s09-RASM|Acc=0.60875|10-CV=0.599|STD=0.00238|Time spend=1.6641640663146973\n",
      "\tAROUSAL-s09-DCAU|Acc=0.63083|10-CV=0.61483|STD=0.00821|Time spend=2.1108129024505615\n",
      "\tAROUSAL-s10-DASM|Acc=0.65083|10-CV=0.6155|STD=0.018|Time spend=0.9988272190093994\n",
      "\tAROUSAL-s10-RASM|Acc=0.55417|10-CV=0.55017|STD=0.00157|Time spend=1.5516104698181152\n",
      "\tAROUSAL-s10-DCAU|Acc=0.65458|10-CV=0.61683|STD=0.01367|Time spend=2.0279483795166016\n",
      "-----WARNING: Model s11 failed to learn: sum(ans)=0.0 sum(y)=900.0 len(y)=2400\n",
      "\tAROUSAL-s11-DASM|Acc=0.625|10-CV=0.625|STD=0.0|Time spend=1.0730814933776855\n",
      "\tAROUSAL-s11-RASM|Acc=0.62708|10-CV=0.62267|STD=0.00318|Time spend=1.49896240234375\n",
      "-----WARNING: Model s11 failed to learn: sum(ans)=0.0 sum(y)=900.0 len(y)=2400\n",
      "\tAROUSAL-s11-DCAU|Acc=0.625|10-CV=0.6245|STD=0.00107|Time spend=1.9670088291168213\n",
      "-----WARNING: Model s12 failed to learn: sum(ans)=2400.0 sum(y)=1980.0 len(y)=2400\n",
      "\tAROUSAL-s12-DASM|Acc=0.825|10-CV=0.825|STD=0.0|Time spend=1.231252908706665\n",
      "-----WARNING: Model s12 failed to learn: sum(ans)=2400.0 sum(y)=1980.0 len(y)=2400\n",
      "\tAROUSAL-s12-RASM|Acc=0.825|10-CV=0.825|STD=0.0|Time spend=1.467090129852295\n",
      "-----WARNING: Model s12 failed to learn: sum(ans)=2400.0 sum(y)=1980.0 len(y)=2400\n",
      "\tAROUSAL-s12-DCAU|Acc=0.825|10-CV=0.825|STD=0.0|Time spend=2.0382444858551025\n",
      "-----WARNING: Model s13 failed to learn: sum(ans)=2400.0 sum(y)=2040.0 len(y)=2400\n",
      "\tAROUSAL-s13-DASM|Acc=0.85|10-CV=0.85|STD=0.0|Time spend=1.0411701202392578\n",
      "\tAROUSAL-s13-RASM|Acc=0.85042|10-CV=0.8495|STD=0.00076|Time spend=1.3136463165283203\n",
      "-----WARNING: Model s13 failed to learn: sum(ans)=2400.0 sum(y)=2040.0 len(y)=2400\n",
      "\tAROUSAL-s13-DCAU|Acc=0.85|10-CV=0.85|STD=0.0|Time spend=1.778156042098999\n",
      "-----WARNING: Model s14 failed to learn: sum(ans)=2400.0 sum(y)=1620.0 len(y)=2400\n",
      "\tAROUSAL-s14-DASM|Acc=0.675|10-CV=0.675|STD=0.0|Time spend=1.255359411239624\n",
      "\tAROUSAL-s14-RASM|Acc=0.67542|10-CV=0.67483|STD=0.0005|Time spend=1.6612904071807861\n",
      "-----WARNING: Model s14 failed to learn: sum(ans)=2400.0 sum(y)=1620.0 len(y)=2400\n",
      "\tAROUSAL-s14-DCAU|Acc=0.675|10-CV=0.675|STD=0.0|Time spend=2.228348970413208\n",
      "\tAROUSAL-s15-DASM|Acc=0.655|10-CV=0.61117|STD=0.01118|Time spend=1.0068778991699219\n",
      "\tAROUSAL-s15-RASM|Acc=0.52958|10-CV=0.52367|STD=0.00364|Time spend=1.5029406547546387\n",
      "\tAROUSAL-s15-DCAU|Acc=0.66125|10-CV=0.6145|STD=0.0154|Time spend=1.948908805847168\n",
      "\tAROUSAL-s16-DASM|Acc=0.63583|10-CV=0.597|STD=0.01021|Time spend=1.0070738792419434\n",
      "\tAROUSAL-s16-RASM|Acc=0.50125|10-CV=0.51067|STD=0.01487|Time spend=1.501798391342163\n",
      "\tAROUSAL-s16-DCAU|Acc=0.62958|10-CV=0.59683|STD=0.01508|Time spend=1.9444758892059326\n",
      "\tAROUSAL-s17-DASM|Acc=0.68083|10-CV=0.67567|STD=0.00742|Time spend=0.9484419822692871\n",
      "\tAROUSAL-s17-RASM|Acc=0.60333|10-CV=0.59833|STD=0.00247|Time spend=1.4325594902038574\n",
      "\tAROUSAL-s17-DCAU|Acc=0.65583|10-CV=0.647|STD=0.01306|Time spend=1.8946754932403564\n",
      "\tAROUSAL-s18-DASM|Acc=0.64458|10-CV=0.63183|STD=0.00762|Time spend=1.0735828876495361\n",
      "\tAROUSAL-s18-RASM|Acc=0.62875|10-CV=0.62533|STD=0.00163|Time spend=1.5597219467163086\n",
      "\tAROUSAL-s18-DCAU|Acc=0.62667|10-CV=0.6245|STD=0.00269|Time spend=2.07665753364563\n",
      "\tAROUSAL-s19-DASM|Acc=0.67708|10-CV=0.67567|STD=0.00153|Time spend=1.1588010787963867\n",
      "-----WARNING: Model s19 failed to learn: sum(ans)=2400.0 sum(y)=1620.0 len(y)=2400\n",
      "\tAROUSAL-s19-RASM|Acc=0.675|10-CV=0.67483|STD=0.0005|Time spend=1.5142483711242676\n",
      "\tAROUSAL-s19-DCAU|Acc=0.6775|10-CV=0.67617|STD=0.00224|Time spend=2.0787413120269775\n",
      "-----WARNING: Model s20 failed to learn: sum(ans)=2400.0 sum(y)=1860.0 len(y)=2400\n",
      "\tAROUSAL-s20-DASM|Acc=0.775|10-CV=0.775|STD=0.0|Time spend=1.337106704711914\n",
      "\tAROUSAL-s20-RASM|Acc=0.7775|10-CV=0.77417|STD=0.00112|Time spend=1.6566433906555176\n",
      "-----WARNING: Model s20 failed to learn: sum(ans)=2400.0 sum(y)=1860.0 len(y)=2400\n",
      "\tAROUSAL-s20-DCAU|Acc=0.775|10-CV=0.775|STD=0.0|Time spend=2.189906120300293\n",
      "-----WARNING: Model s21 failed to learn: sum(ans)=2400.0 sum(y)=1920.0 len(y)=2400\n",
      "\tAROUSAL-s21-DASM|Acc=0.8|10-CV=0.8|STD=0.0|Time spend=1.1650316715240479\n",
      "\tAROUSAL-s21-RASM|Acc=0.80042|10-CV=0.7995|STD=0.00076|Time spend=1.4952104091644287\n",
      "-----WARNING: Model s21 failed to learn: sum(ans)=2400.0 sum(y)=1920.0 len(y)=2400\n",
      "\tAROUSAL-s21-DCAU|Acc=0.8|10-CV=0.8|STD=0.0|Time spend=1.9795444011688232\n",
      "\tAROUSAL-s22-DASM|Acc=0.60667|10-CV=0.60183|STD=0.00689|Time spend=1.2283096313476562\n",
      "\tAROUSAL-s22-RASM|Acc=0.6025|10-CV=0.59917|STD=0.00261|Time spend=1.8200623989105225\n",
      "\tAROUSAL-s22-DCAU|Acc=0.60958|10-CV=0.59583|STD=0.00761|Time spend=2.4041194915771484\n",
      "-----WARNING: Model s23 failed to learn: sum(ans)=0.0 sum(y)=600.0 len(y)=2400\n",
      "\tAROUSAL-s23-DASM|Acc=0.75|10-CV=0.75|STD=0.0|Time spend=1.1142330169677734\n",
      "\tAROUSAL-s23-RASM|Acc=0.75167|10-CV=0.7495|STD=0.00107|Time spend=1.4155266284942627\n",
      "-----WARNING: Model s23 failed to learn: sum(ans)=0.0 sum(y)=600.0 len(y)=2400\n",
      "\tAROUSAL-s23-DCAU|Acc=0.75|10-CV=0.75|STD=0.0|Time spend=1.898331880569458\n",
      "-----WARNING: Model s24 failed to learn: sum(ans)=2400.0 sum(y)=1980.0 len(y)=2400\n",
      "\tAROUSAL-s24-DASM|Acc=0.825|10-CV=0.825|STD=0.0|Time spend=1.2243452072143555\n",
      "-----WARNING: Model s24 failed to learn: sum(ans)=2400.0 sum(y)=1980.0 len(y)=2400\n",
      "\tAROUSAL-s24-RASM|Acc=0.825|10-CV=0.825|STD=0.0|Time spend=1.4171531200408936\n",
      "-----WARNING: Model s24 failed to learn: sum(ans)=2400.0 sum(y)=1980.0 len(y)=2400\n",
      "\tAROUSAL-s24-DCAU|Acc=0.825|10-CV=0.825|STD=0.0|Time spend=2.006495714187622\n",
      "-----WARNING: Model s25 failed to learn: sum(ans)=2400.0 sum(y)=1740.0 len(y)=2400\n",
      "\tAROUSAL-s25-DASM|Acc=0.725|10-CV=0.725|STD=0.0|Time spend=1.247607946395874\n",
      "\tAROUSAL-s25-RASM|Acc=0.72542|10-CV=0.72467|STD=0.00067|Time spend=1.6761095523834229\n",
      "-----WARNING: Model s25 failed to learn: sum(ans)=2400.0 sum(y)=1740.0 len(y)=2400\n",
      "\tAROUSAL-s25-DCAU|Acc=0.725|10-CV=0.725|STD=0.0|Time spend=2.315556049346924\n",
      "\tAROUSAL-s26-DASM|Acc=0.61208|10-CV=0.58483|STD=0.01207|Time spend=1.194166898727417\n",
      "\tAROUSAL-s26-RASM|Acc=0.58167|10-CV=0.57417|STD=0.00396|Time spend=1.729250431060791\n",
      "\tAROUSAL-s26-DCAU|Acc=0.60458|10-CV=0.578|STD=0.00763|Time spend=2.2113544940948486\n",
      "\tAROUSAL-s27-DASM|Acc=0.67875|10-CV=0.67433|STD=0.0017|Time spend=1.220860481262207\n",
      "\tAROUSAL-s27-RASM|Acc=0.67792|10-CV=0.675|STD=0.00105|Time spend=1.6785516738891602\n",
      "\tAROUSAL-s27-DCAU|Acc=0.67583|10-CV=0.675|STD=0.0|Time spend=2.2303571701049805\n",
      "\tAROUSAL-s28-DASM|Acc=0.57|10-CV=0.5565|STD=0.01244|Time spend=1.0871236324310303\n",
      "\tAROUSAL-s28-RASM|Acc=0.55083|10-CV=0.54983|STD=0.0005|Time spend=1.5873842239379883\n",
      "\tAROUSAL-s28-DCAU|Acc=0.56542|10-CV=0.55767|STD=0.00754|Time spend=2.094529867172241\n",
      "\tAROUSAL-s29-DASM|Acc=0.6375|10-CV=0.62583|STD=0.00534|Time spend=1.1891202926635742\n",
      "-----WARNING: Model s29 failed to learn: sum(ans)=2400.0 sum(y)=1500.0 len(y)=2400\n",
      "\tAROUSAL-s29-RASM|Acc=0.625|10-CV=0.625|STD=0.0|Time spend=1.697038173675537\n",
      "-----WARNING: Model s29 failed to learn: sum(ans)=2400.0 sum(y)=1500.0 len(y)=2400\n",
      "\tAROUSAL-s29-DCAU|Acc=0.625|10-CV=0.625|STD=0.0|Time spend=2.294696092605591\n",
      "\tAROUSAL-s30-DASM|Acc=0.59542|10-CV=0.54133|STD=0.01549|Time spend=1.133042812347412\n",
      "\tAROUSAL-s30-RASM|Acc=0.52917|10-CV=0.52283|STD=0.00317|Time spend=1.6364026069641113\n",
      "\tAROUSAL-s30-DCAU|Acc=0.585|10-CV=0.537|STD=0.01201|Time spend=2.1276817321777344\n",
      "\tAROUSAL-s31-DASM|Acc=0.64917|10-CV=0.613|STD=0.02525|Time spend=1.1197319030761719\n",
      "\tAROUSAL-s31-RASM|Acc=0.53208|10-CV=0.52467|STD=0.00145|Time spend=1.621694564819336\n",
      "\tAROUSAL-s31-DCAU|Acc=0.63375|10-CV=0.5975|STD=0.01476|Time spend=2.09085750579834\n",
      "-----WARNING: Model s32 failed to learn: sum(ans)=2400.0 sum(y)=1620.0 len(y)=2400\n",
      "\tAROUSAL-s32-DASM|Acc=0.675|10-CV=0.675|STD=0.0|Time spend=1.1098124980926514\n",
      "\tAROUSAL-s32-RASM|Acc=0.67542|10-CV=0.675|STD=0.0|Time spend=1.500472068786621\n",
      "\tAROUSAL-s32-DCAU|Acc=0.675|10-CV=0.6755|STD=0.00076|Time spend=1.9497432708740234\n",
      "AROUSAL-DASM|Acc=0.6746223958333335|10-CV=0.6606614583333335|STD=0.0060583712126306664\n",
      "AROUSAL-RASM|Acc=0.6459895833333333|10-CV=0.6426875000000001|STD=0.0021593017187132224\n",
      "AROUSAL-DCAU|Acc=0.6709765625000002|10-CV=0.6581041666666667|STD=0.005316386624546263\n",
      "\tVALENCE-s01-DASM|Acc=0.58708|10-CV=0.53433|STD=0.0153|Time spend=1.1282217502593994\n",
      "\tVALENCE-s01-RASM|Acc=0.54042|10-CV=0.5305|STD=0.00495|Time spend=1.6119565963745117\n",
      "\tVALENCE-s01-DCAU|Acc=0.57917|10-CV=0.538|STD=0.0096|Time spend=2.117217779159546\n",
      "\tVALENCE-s02-DASM|Acc=0.675|10-CV=0.64667|STD=0.01701|Time spend=1.046245813369751\n",
      "\tVALENCE-s02-RASM|Acc=0.55458|10-CV=0.55017|STD=0.00117|Time spend=1.565255880355835\n",
      "\tVALENCE-s02-DCAU|Acc=0.69667|10-CV=0.6665|STD=0.01537|Time spend=1.9750053882598877\n",
      "\tVALENCE-s03-DASM|Acc=0.60125|10-CV=0.55883|STD=0.01234|Time spend=1.1782751083374023\n",
      "\tVALENCE-s03-RASM|Acc=0.55542|10-CV=0.54733|STD=0.00359|Time spend=1.7265594005584717\n",
      "\tVALENCE-s03-DCAU|Acc=0.59542|10-CV=0.563|STD=0.00756|Time spend=2.2010598182678223\n",
      "\tVALENCE-s04-DASM|Acc=0.66583|10-CV=0.64517|STD=0.01375|Time spend=1.0483267307281494\n",
      "\tVALENCE-s04-RASM|Acc=0.60417|10-CV=0.59883|STD=0.00366|Time spend=1.4817264080047607\n",
      "\tVALENCE-s04-DCAU|Acc=0.64917|10-CV=0.63|STD=0.0065|Time spend=1.9011836051940918\n",
      "\tVALENCE-s05-DASM|Acc=0.61417|10-CV=0.60167|STD=0.00435|Time spend=1.1346375942230225\n",
      "\tVALENCE-s05-RASM|Acc=0.60375|10-CV=0.599|STD=0.0026|Time spend=1.6364614963531494\n",
      "\tVALENCE-s05-DCAU|Acc=0.62208|10-CV=0.606|STD=0.00667|Time spend=2.1116652488708496\n",
      "-----WARNING: Model s06 failed to learn: sum(ans)=2400.0 sum(y)=1800.0 len(y)=2400\n",
      "\tVALENCE-s06-DASM|Acc=0.75|10-CV=0.75|STD=0.0|Time spend=1.2102577686309814\n",
      "\tVALENCE-s06-RASM|Acc=0.75292|10-CV=0.74933|STD=0.00082|Time spend=1.634875774383545\n",
      "-----WARNING: Model s06 failed to learn: sum(ans)=2400.0 sum(y)=1800.0 len(y)=2400\n",
      "\tVALENCE-s06-DCAU|Acc=0.75|10-CV=0.75|STD=0.0|Time spend=2.2135066986083984\n",
      "-----WARNING: Model s07 failed to learn: sum(ans)=2400.0 sum(y)=1680.0 len(y)=2400\n",
      "\tVALENCE-s07-DASM|Acc=0.7|10-CV=0.7|STD=0.0|Time spend=1.1287033557891846\n",
      "\tVALENCE-s07-RASM|Acc=0.70083|10-CV=0.69967|STD=0.00067|Time spend=1.4927372932434082\n",
      "-----WARNING: Model s07 failed to learn: sum(ans)=2400.0 sum(y)=1680.0 len(y)=2400\n",
      "\tVALENCE-s07-DCAU|Acc=0.7|10-CV=0.7|STD=0.0|Time spend=2.0866146087646484\n",
      "\tVALENCE-s08-DASM|Acc=0.6275|10-CV=0.58217|STD=0.0076|Time spend=1.1984913349151611\n",
      "\tVALENCE-s08-RASM|Acc=0.55292|10-CV=0.54983|STD=0.00157|Time spend=1.7209968566894531\n",
      "\tVALENCE-s08-DCAU|Acc=0.64375|10-CV=0.59433|STD=0.01338|Time spend=2.203071355819702\n",
      "\tVALENCE-s09-DASM|Acc=0.70542|10-CV=0.6915|STD=0.01493|Time spend=1.0869216918945312\n",
      "\tVALENCE-s09-RASM|Acc=0.67667|10-CV=0.65233|STD=0.01057|Time spend=1.5683748722076416\n",
      "\tVALENCE-s09-DCAU|Acc=0.70875|10-CV=0.699|STD=0.0127|Time spend=2.03263521194458\n",
      "\tVALENCE-s10-DASM|Acc=0.74333|10-CV=0.70933|STD=0.01221|Time spend=1.0579833984375\n",
      "\tVALENCE-s10-RASM|Acc=0.50667|10-CV=0.49883|STD=0.00827|Time spend=1.5934627056121826\n",
      "\tVALENCE-s10-DCAU|Acc=0.7375|10-CV=0.70883|STD=0.01726|Time spend=1.9763424396514893\n",
      "\tVALENCE-s11-DASM|Acc=0.60958|10-CV=0.6005|STD=0.0065|Time spend=1.166369915008545\n",
      "\tVALENCE-s11-RASM|Acc=0.605|10-CV=0.599|STD=0.002|Time spend=1.6550562381744385\n",
      "\tVALENCE-s11-DCAU|Acc=0.6075|10-CV=0.59933|STD=0.00735|Time spend=2.167510986328125\n",
      "\tVALENCE-s12-DASM|Acc=0.61167|10-CV=0.5765|STD=0.01431|Time spend=1.1581687927246094\n",
      "\tVALENCE-s12-RASM|Acc=0.53667|10-CV=0.53017|STD=0.00302|Time spend=1.6625547409057617\n",
      "\tVALENCE-s12-DCAU|Acc=0.61083|10-CV=0.58383|STD=0.01455|Time spend=2.1385977268218994\n",
      "\tVALENCE-s13-DASM|Acc=0.69375|10-CV=0.68567|STD=0.0079|Time spend=1.0962097644805908\n",
      "\tVALENCE-s13-RASM|Acc=0.58042|10-CV=0.5765|STD=0.00229|Time spend=1.5861845016479492\n",
      "\tVALENCE-s13-DCAU|Acc=0.71333|10-CV=0.70133|STD=0.01256|Time spend=1.975794792175293\n",
      "\tVALENCE-s14-DASM|Acc=0.67208|10-CV=0.64483|STD=0.01417|Time spend=1.1532039642333984\n",
      "\tVALENCE-s14-RASM|Acc=0.50083|10-CV=0.503|STD=0.00812|Time spend=1.688042402267456\n",
      "\tVALENCE-s14-DCAU|Acc=0.68|10-CV=0.65083|STD=0.01252|Time spend=2.1046109199523926\n",
      "\tVALENCE-s15-DASM|Acc=0.73458|10-CV=0.68917|STD=0.00998|Time spend=1.033973217010498\n",
      "\tVALENCE-s15-RASM|Acc=0.50917|10-CV=0.507|STD=0.00586|Time spend=1.5585801601409912\n",
      "\tVALENCE-s15-DCAU|Acc=0.73958|10-CV=0.7095|STD=0.02092|Time spend=1.9854135513305664\n",
      "\tVALENCE-s16-DASM|Acc=0.68083|10-CV=0.66167|STD=0.01118|Time spend=1.1288650035858154\n",
      "-----WARNING: Model s16 failed to learn: sum(ans)=0.0 sum(y)=900.0 len(y)=2400\n",
      "\tVALENCE-s16-RASM|Acc=0.625|10-CV=0.62517|STD=0.0009|Time spend=1.5499560832977295\n",
      "\tVALENCE-s16-DCAU|Acc=0.69208|10-CV=0.6755|STD=0.01376|Time spend=1.9555070400238037\n",
      "\tVALENCE-s17-DASM|Acc=0.60042|10-CV=0.577|STD=0.00823|Time spend=1.1958677768707275\n",
      "\tVALENCE-s17-RASM|Acc=0.55583|10-CV=0.54933|STD=0.00291|Time spend=1.7222874164581299\n",
      "\tVALENCE-s17-DCAU|Acc=0.57083|10-CV=0.56517|STD=0.01272|Time spend=2.2224972248077393\n",
      "\tVALENCE-s18-DASM|Acc=0.72583|10-CV=0.7095|STD=0.01321|Time spend=0.9839913845062256\n",
      "\tVALENCE-s18-RASM|Acc=0.60375|10-CV=0.59967|STD=0.00221|Time spend=1.553083896636963\n",
      "\tVALENCE-s18-DCAU|Acc=0.73792|10-CV=0.7185|STD=0.01989|Time spend=1.9009983539581299\n",
      "\tVALENCE-s19-DASM|Acc=0.62|10-CV=0.59233|STD=0.01379|Time spend=1.1016879081726074\n",
      "\tVALENCE-s19-RASM|Acc=0.57542|10-CV=0.57567|STD=0.00133|Time spend=1.5672829151153564\n",
      "\tVALENCE-s19-DCAU|Acc=0.62542|10-CV=0.58667|STD=0.01125|Time spend=2.0456008911132812\n",
      "\tVALENCE-s20-DASM|Acc=0.66542|10-CV=0.63167|STD=0.01549|Time spend=1.1139552593231201\n",
      "\tVALENCE-s20-RASM|Acc=0.58417|10-CV=0.57533|STD=0.00332|Time spend=1.6045055389404297\n",
      "\tVALENCE-s20-DCAU|Acc=0.66375|10-CV=0.61817|STD=0.01495|Time spend=2.121151924133301\n",
      "\tVALENCE-s21-DASM|Acc=0.59375|10-CV=0.54017|STD=0.01722|Time spend=1.167234182357788\n",
      "\tVALENCE-s21-RASM|Acc=0.53375|10-CV=0.51983|STD=0.00724|Time spend=1.7674732208251953\n",
      "\tVALENCE-s21-DCAU|Acc=0.59375|10-CV=0.53517|STD=0.00886|Time spend=2.253767967224121\n",
      "\tVALENCE-s22-DASM|Acc=0.59917|10-CV=0.57717|STD=0.0086|Time spend=1.202322244644165\n",
      "\tVALENCE-s22-RASM|Acc=0.55375|10-CV=0.54983|STD=0.00203|Time spend=1.7229697704315186\n",
      "\tVALENCE-s22-DCAU|Acc=0.58458|10-CV=0.57083|STD=0.01188|Time spend=2.188450574874878\n",
      "\tVALENCE-s23-DASM|Acc=0.65083|10-CV=0.65|STD=0.0|Time spend=1.177887201309204\n",
      "\tVALENCE-s23-RASM|Acc=0.65292|10-CV=0.64883|STD=0.00279|Time spend=1.6969633102416992\n",
      "-----WARNING: Model s23 failed to learn: sum(ans)=2400.0 sum(y)=1560.0 len(y)=2400\n",
      "\tVALENCE-s23-DCAU|Acc=0.65|10-CV=0.65|STD=0.0|Time spend=2.201436758041382\n",
      "\tVALENCE-s24-DASM|Acc=0.62667|10-CV=0.602|STD=0.01077|Time spend=1.1031172275543213\n",
      "-----WARNING: Model s24 failed to learn: sum(ans)=0.0 sum(y)=1080.0 len(y)=2400\n",
      "\tVALENCE-s24-RASM|Acc=0.55|10-CV=0.54767|STD=0.00343|Time spend=1.6277189254760742\n",
      "\tVALENCE-s24-DCAU|Acc=0.60167|10-CV=0.585|STD=0.01128|Time spend=2.1021265983581543\n",
      "\tVALENCE-s25-DASM|Acc=0.58625|10-CV=0.54033|STD=0.02192|Time spend=1.1254520416259766\n",
      "\tVALENCE-s25-RASM|Acc=0.52958|10-CV=0.52783|STD=0.00224|Time spend=1.6243155002593994\n",
      "\tVALENCE-s25-DCAU|Acc=0.5825|10-CV=0.53383|STD=0.01912|Time spend=2.126497983932495\n",
      "-----WARNING: Model s26 failed to learn: sum(ans)=2400.0 sum(y)=1560.0 len(y)=2400\n",
      "\tVALENCE-s26-DASM|Acc=0.65|10-CV=0.65|STD=0.0|Time spend=1.1897344589233398\n",
      "\tVALENCE-s26-RASM|Acc=0.6525|10-CV=0.64933|STD=0.00111|Time spend=1.700124740600586\n",
      "\tVALENCE-s26-DCAU|Acc=0.65333|10-CV=0.65033|STD=0.001|Time spend=2.194087266921997\n",
      "-----WARNING: Model s27 failed to learn: sum(ans)=2400.0 sum(y)=1800.0 len(y)=2400\n",
      "\tVALENCE-s27-DASM|Acc=0.75|10-CV=0.75|STD=0.0|Time spend=1.0698215961456299\n",
      "\tVALENCE-s27-RASM|Acc=0.75083|10-CV=0.75|STD=0.0|Time spend=1.4295191764831543\n",
      "-----WARNING: Model s27 failed to learn: sum(ans)=2400.0 sum(y)=1800.0 len(y)=2400\n",
      "\tVALENCE-s27-DCAU|Acc=0.75|10-CV=0.75|STD=0.0|Time spend=1.97286057472229\n",
      "-----WARNING: Model s28 failed to learn: sum(ans)=2400.0 sum(y)=1500.0 len(y)=2400\n",
      "\tVALENCE-s28-DASM|Acc=0.625|10-CV=0.625|STD=0.0|Time spend=1.126220703125\n",
      "\tVALENCE-s28-RASM|Acc=0.62667|10-CV=0.6235|STD=0.00217|Time spend=1.624523401260376\n",
      "-----WARNING: Model s28 failed to learn: sum(ans)=2400.0 sum(y)=1500.0 len(y)=2400\n",
      "\tVALENCE-s28-DCAU|Acc=0.625|10-CV=0.625|STD=0.0|Time spend=2.2015857696533203\n",
      "\tVALENCE-s29-DASM|Acc=0.6325|10-CV=0.598|STD=0.01412|Time spend=1.1284070014953613\n",
      "\tVALENCE-s29-RASM|Acc=0.57542|10-CV=0.57533|STD=0.00125|Time spend=1.6622958183288574\n",
      "\tVALENCE-s29-DCAU|Acc=0.6325|10-CV=0.58483|STD=0.01577|Time spend=2.183759927749634\n",
      "-----WARNING: Model s30 failed to learn: sum(ans)=2400.0 sum(y)=1620.0 len(y)=2400\n",
      "\tVALENCE-s30-DASM|Acc=0.675|10-CV=0.675|STD=0.0|Time spend=1.1898317337036133\n",
      "\tVALENCE-s30-RASM|Acc=0.67542|10-CV=0.67483|STD=0.0005|Time spend=1.6238172054290771\n",
      "-----WARNING: Model s30 failed to learn: sum(ans)=2400.0 sum(y)=1620.0 len(y)=2400\n",
      "\tVALENCE-s30-DCAU|Acc=0.675|10-CV=0.675|STD=0.0|Time spend=2.1880602836608887\n",
      "\tVALENCE-s31-DASM|Acc=0.61667|10-CV=0.58367|STD=0.0113|Time spend=1.10445237159729\n",
      "\tVALENCE-s31-RASM|Acc=0.57875|10-CV=0.57367|STD=0.00256|Time spend=1.6410424709320068\n",
      "\tVALENCE-s31-DCAU|Acc=0.6075|10-CV=0.58083|STD=0.00579|Time spend=2.1316630840301514\n",
      "\tVALENCE-s32-DASM|Acc=0.61542|10-CV=0.5725|STD=0.01263|Time spend=1.1212024688720703\n",
      "\tVALENCE-s32-RASM|Acc=0.50167|10-CV=0.50067|STD=0.00226|Time spend=1.6589927673339844\n",
      "\tVALENCE-s32-DCAU|Acc=0.6225|10-CV=0.57067|STD=0.01574|Time spend=2.1241374015808105\n",
      "VALENCE-DASM|Acc=0.65328125|10-CV=0.6297604166666667|STD=0.009649717207424914\n",
      "VALENCE-RASM|Acc=0.5908072916666666|10-CV=0.5861875|STD=0.0030439880286006636\n",
      "VALENCE-DCAU|Acc=0.6531901041666667|10-CV=0.6305000000000001|STD=0.009967909714309765\n",
      "TOTAL-DASM|Acc=0.6639518229166667|10-CV=0.6452109374999998|STD=0.007854044210027791\n",
      "TOTAL-RASM|Acc=0.6183984375|10-CV=0.6144375|STD=0.0026016448736569425\n",
      "TOTAL-DCAU|Acc=0.6620833333333334|10-CV=0.6443020833333335|STD=0.007642148169428015\n"
     ]
    }
   ],
   "source": [
    "bands = [(0,4), (4,8), (8,12), (12,30), (30,64)]\n",
    "# [alias_feature_function]__[optional_param]\n",
    "params = dict({\n",
    "    'pow_freq_bands__log':True,\n",
    "    'pow_freq_bands__normalize':False,\n",
    "    'pow_freq_bands__freq_bands':bands\n",
    "})\n",
    "\n",
    "accs,cv_means,cv_stds  = {'DASM':[],'RASM':[],'DCAU':[]},{'DASM':[],'RASM':[],'DCAU':[]},{'DASM':[],'RASM':[],'DCAU':[]}\n",
    "# count = 0\n",
    "for filename in dataset.get_file_list():\n",
    "    start = time.time()\n",
    "    data, labels, groups = dataset.get_data(filename, stimuli=Dataset_subjectDependent.STIMULI_AROUSAL, return_type='numpy')\n",
    "    fe = FeatureExtractor(sfreq=128, selected_funcs=['pow_freq_bands'],params=params,n_jobs=8)\n",
    "    X = fe.fit_transform(X=data)\n",
    "\n",
    "    PSD_left = X[:, left_channel_indexes].copy()\n",
    "    PSD_right = X[:, right_channel_indexes].copy()\n",
    "    PSD_frontal = X[:, frontal_channel_indexes].copy()\n",
    "    PSD_posterior = X[:, posterior_channel_indexes].copy()\n",
    "    X = {\n",
    "        'DASM': PSD_left - PSD_right,\n",
    "        'RASM': PSD_left / PSD_right,\n",
    "        'DCAU': PSD_frontal - PSD_posterior,\n",
    "    }\n",
    "\n",
    "    for feature_name in ['DASM','RASM','DCAU']:\n",
    "        _, acc, cross = train_model(X[feature_name], labels.reshape(-1), groups, filename=filename)\n",
    "        print(f\"\\tAROUSAL-{filename}-{feature_name}|Acc={round(acc,5)}|10-CV={round(cross.mean(),5)}|STD={round(cross.std(),5)}|Time spend={time.time() - start}\")\n",
    "        accs[feature_name].append(acc)\n",
    "        cv_means[feature_name].append(cross.mean())\n",
    "        cv_stds[feature_name].append(cross.std())\n",
    "    # count+=1\n",
    "    # if(count == 3): break\n",
    "for feature_name in ['DASM','RASM','DCAU']:\n",
    "    print(f\"AROUSAL-{feature_name}|Acc={sum(accs[feature_name])/len(accs[feature_name])}|10-CV={sum(cv_means[feature_name])/len(cv_means[feature_name])}|STD={sum(cv_stds[feature_name])/len(cv_stds[feature_name])}\")\n",
    "\n",
    "accs_v,cv_means_v,cv_stds_v  = {'DASM':[],'RASM':[],'DCAU':[]},{'DASM':[],'RASM':[],'DCAU':[]},{'DASM':[],'RASM':[],'DCAU':[]}\n",
    "# count=0\n",
    "for filename in dataset.get_file_list():\n",
    "    start = time.time()\n",
    "    data, labels, groups = dataset.get_data(filename, stimuli=Dataset_subjectDependent.STIMULI_VALENCE, return_type='numpy')\n",
    "    fe = FeatureExtractor(sfreq=128, selected_funcs=['pow_freq_bands'],params=params,n_jobs=8)\n",
    "    X = fe.fit_transform(X=data)\n",
    "\n",
    "    PSD_left = X[:, left_channel_indexes].copy()\n",
    "    PSD_right = X[:, right_channel_indexes].copy()\n",
    "    PSD_frontal = X[:, frontal_channel_indexes].copy()\n",
    "    PSD_posterior = X[:, posterior_channel_indexes].copy()\n",
    "    X = {\n",
    "        'DASM': PSD_left - PSD_right,\n",
    "        'RASM': PSD_left / PSD_right,\n",
    "        'DCAU': PSD_frontal - PSD_posterior,\n",
    "    }\n",
    "\n",
    "    for feature_name in ['DASM','RASM','DCAU']:\n",
    "        _, acc, cross = train_model(X[feature_name], labels.reshape(-1), groups, filename=filename)\n",
    "        print(f\"\\tVALENCE-{filename}-{feature_name}|Acc={round(acc,5)}|10-CV={round(cross.mean(),5)}|STD={round(cross.std(),5)}|Time spend={time.time() - start}\")\n",
    "        accs_v[feature_name].append(acc)\n",
    "        cv_means_v[feature_name].append(cross.mean())\n",
    "        cv_stds_v[feature_name].append(cross.std())\n",
    "    # count+=1\n",
    "    # if(count == 3): break\n",
    "for feature_name in ['DASM','RASM','DCAU']:\n",
    "    print(f\"VALENCE-{feature_name}|Acc={sum(accs_v[feature_name])/len(accs_v[feature_name])}|10-CV={sum(cv_means_v[feature_name])/len(cv_means_v[feature_name])}|STD={sum(cv_stds_v[feature_name])/len(cv_stds_v[feature_name])}\")\n",
    "\n",
    "for feature_name in ['DASM','RASM','DCAU']:\n",
    "    accs[feature_name].extend(accs_v[feature_name])\n",
    "    cv_means[feature_name].extend(cv_means_v[feature_name])\n",
    "    cv_stds[feature_name].extend(cv_stds_v[feature_name])\n",
    "    print(f\"TOTAL-{feature_name}|Acc={sum(accs[feature_name])/len(accs[feature_name])}|10-CV={sum(cv_means[feature_name])/len(cv_means[feature_name])}|STD={sum(cv_stds[feature_name])/len(cv_stds[feature_name])}\")"
   ]
  },
  {
   "cell_type": "markdown",
   "metadata": {},
   "source": [
    "## 4. Connectivity\n",
    "\n",
    "### 4.1 coherence"
   ]
  },
  {
   "cell_type": "code",
   "execution_count": 11,
   "metadata": {},
   "outputs": [],
   "source": [
    "from mne_connectivity import spectral_connectivity_time\n",
    "\n",
    "def save(data,filename):\n",
    "    with open(f'cache/{filename}.pickle', 'wb') as handle:\n",
    "        pickle.dump(data, handle, protocol=pickle.HIGHEST_PROTOCOL)\n",
    "\n",
    "def load(filename):\n",
    "    with open(f'cache/{filename}.pickle', 'rb') as handle:\n",
    "        data = pickle.load(handle)\n",
    "    return data"
   ]
  },
  {
   "cell_type": "code",
   "execution_count": null,
   "metadata": {},
   "outputs": [],
   "source": [
    "# bands = [(0,4), (4,8), (8,12), (12,30), (30,64)]\n",
    "for filename in tqdm(dataset.get_file_list()):\n",
    "    # if(filename in ['s01','s02','s03','s04','s05','s06','s07']): continue\n",
    "    print(\"----\"*5, filename, \"----\"*5)\n",
    "    # start = time.time()\n",
    "    epochs, _, _ = dataset.get_data(filename, sfreq=128, stimuli=Dataset_subjectDependent.STIMULI_AROUSAL, return_type='mne')\n",
    "    # epochs, _ = dataset.get_data_mne_epochs(filename, sfreq=128, stimuli=Dataset_subjectDependent.STIMULI_AROUSAL, split=False)\n",
    "    # X = fe.fit_transform(X=data)\n",
    "    # print(epochs, labels.shape)\n",
    "    step = 150//2\n",
    "    X = []\n",
    "    # count = 0\n",
    "    for index in range(0,len(epochs), step):\n",
    "        # print(index,index+step)\n",
    "        conn = spectral_connectivity_time(epochs[index:index+step], method='coh',mode='multitaper',sfreq=128, freqs=range(7,64), verbose='CRITICAL')\n",
    "        # (step, 528, 57, 128) => (epoch, conn, freq, time) .mean(axis=3)\n",
    "        # (step, 528, 57) => (epoch, conn, freq)\n",
    "        # print(conn.get_data('raveled').mean(axis=3).shape)\n",
    "        conn = conn.get_data('raveled').mean(axis=3)\n",
    "        # (step, 528*4 ) =>(step, 2112 )\n",
    "        x = np.concatenate([ conn[:,:,7-7:8-7 ].mean(axis=2),\n",
    "                            conn[:,:,8-7:12-7 ].mean(axis=2),\n",
    "                            conn[:,:,12-7:30-7 ].mean(axis=2),\n",
    "                            conn[:,:,30-7:64-7 ].mean(axis=2) ],axis=1)\n",
    "        X.append(x)\n",
    "        # count += 1\n",
    "        # if(count == 3): break\n",
    "    X = np.vstack(X)\n",
    "    print(X.shape)\n",
    "    save(X,f\"X_COH_AROUSAL_{filename}\")\n",
    "\n",
    "    epochs, _, _ = dataset.get_data(filename, sfreq=128, stimuli=Dataset_subjectDependent.STIMULI_VALENCE, return_type='mne')\n",
    "    # X = fe.fit_transform(X=data)\n",
    "    # print(epochs, labels.shape)\n",
    "    step = 150//2\n",
    "    X = []\n",
    "    # count = 0\n",
    "    for index in tqdm(range(0,len(epochs), step)):\n",
    "        # print(index,index+step)\n",
    "        conn = spectral_connectivity_time(epochs[index:index+step], method='coh',mode='multitaper',sfreq=128, freqs=range(7,64), verbose='CRITICAL')\n",
    "        # (step, 528, 57, 128) => (epoc\n",
    "        # h, conn, freq, time) .mean(axis=3)\n",
    "        # (step, 528, 57) => (epoch, conn, freq)\n",
    "        # print(conn.get_data('raveled').mean(axis=3).shape)\n",
    "        conn = conn.get_data('raveled').mean(axis=3)\n",
    "        # (step, 528*4 ) =>(step, 2112 )\n",
    "        x = np.concatenate([ conn[:,:,7-7:8-7 ].mean(axis=2),\n",
    "                            conn[:,:,8-7:12-7 ].mean(axis=2),\n",
    "                            conn[:,:,12-7:30-7 ].mean(axis=2),\n",
    "                            conn[:,:,30-7:64-7 ].mean(axis=2) ],axis=1)\n",
    "        X.append(x)\n",
    "        # count += 1\n",
    "        # if(count == 3): break\n",
    "    X = np.vstack(X)\n",
    "    print(X.shape)\n",
    "    save(X,f\"X_COH_VALENCE_{filename}\")"
   ]
  },
  {
   "cell_type": "code",
   "execution_count": 12,
   "metadata": {},
   "outputs": [
    {
     "data": {
      "application/vnd.jupyter.widget-view+json": {
       "model_id": "9a1fd97564ad41ceb072cab62dc0cb72",
       "version_major": 2,
       "version_minor": 0
      },
      "text/plain": [
       "  0%|          | 0/32 [00:00<?, ?it/s]"
      ]
     },
     "metadata": {},
     "output_type": "display_data"
    },
    {
     "name": "stdout",
     "output_type": "stream",
     "text": [
      "\tAROUSAL-s01|Acc=0.77917|10-CV=0.66467|STD=0.01356|Time spend=32.63673949241638\n",
      "\tAROUSAL-s02|Acc=0.70292|10-CV=0.64933|STD=0.01033|Time spend=32.94605565071106\n",
      "-----WARNING: Model s03 failed to learn: sum(ans)=0.0 sum(y)=480.0 len(y)=2400\n",
      "\tAROUSAL-s03|Acc=0.8|10-CV=0.8|STD=0.0|Time spend=22.42845129966736\n",
      "\tAROUSAL-s04|Acc=0.73042|10-CV=0.6685|STD=0.01294|Time spend=31.360233545303345\n",
      "\tAROUSAL-s05|Acc=0.72083|10-CV=0.6295|STD=0.01123|Time spend=35.94806909561157\n",
      "\tAROUSAL-s06|Acc=0.67792|10-CV=0.6125|STD=0.01502|Time spend=34.917884349823\n",
      "\tAROUSAL-s07|Acc=0.76|10-CV=0.67683|STD=0.01403|Time spend=31.535387754440308\n",
      "\tAROUSAL-s08|Acc=0.76417|10-CV=0.653|STD=0.01145|Time spend=36.99915051460266\n",
      "\tAROUSAL-s09|Acc=0.75417|10-CV=0.685|STD=0.01638|Time spend=34.030192136764526\n",
      "\tAROUSAL-s10|Acc=0.81292|10-CV=0.73817|STD=0.01301|Time spend=33.61989498138428\n",
      "\tAROUSAL-s11|Acc=0.67542|10-CV=0.647|STD=0.01108|Time spend=35.153825521469116\n",
      "-----WARNING: Model s12 failed to learn: sum(ans)=2400.0 sum(y)=1980.0 len(y)=2400\n",
      "\tAROUSAL-s12|Acc=0.825|10-CV=0.825|STD=0.0|Time spend=28.147624731063843\n",
      "-----WARNING: Model s13 failed to learn: sum(ans)=2400.0 sum(y)=2040.0 len(y)=2400\n",
      "\tAROUSAL-s13|Acc=0.85|10-CV=0.85|STD=0.0|Time spend=20.17611861228943\n",
      "\tAROUSAL-s14|Acc=0.68792|10-CV=0.67533|STD=0.00163|Time spend=31.1497802734375\n",
      "\tAROUSAL-s15|Acc=0.76917|10-CV=0.682|STD=0.0159|Time spend=28.848589658737183\n",
      "\tAROUSAL-s16|Acc=0.78667|10-CV=0.689|STD=0.02098|Time spend=27.907947540283203\n",
      "\tAROUSAL-s17|Acc=0.75417|10-CV=0.72133|STD=0.00767|Time spend=25.564197778701782\n",
      "\tAROUSAL-s18|Acc=0.69292|10-CV=0.65917|STD=0.01446|Time spend=29.56945300102234\n",
      "-----WARNING: Model s19 failed to learn: sum(ans)=2400.0 sum(y)=1620.0 len(y)=2400\n",
      "\tAROUSAL-s19|Acc=0.675|10-CV=0.675|STD=0.0|Time spend=25.94882607460022\n",
      "-----WARNING: Model s20 failed to learn: sum(ans)=2400.0 sum(y)=1860.0 len(y)=2400\n",
      "\tAROUSAL-s20|Acc=0.775|10-CV=0.775|STD=0.0|Time spend=22.54452610015869\n",
      "-----WARNING: Model s21 failed to learn: sum(ans)=2400.0 sum(y)=1920.0 len(y)=2400\n",
      "\tAROUSAL-s21|Acc=0.8|10-CV=0.8|STD=0.0|Time spend=20.882943153381348\n",
      "\tAROUSAL-s22|Acc=0.61417|10-CV=0.604|STD=0.00343|Time spend=29.65945053100586\n",
      "\tAROUSAL-s23|Acc=0.7725|10-CV=0.7555|STD=0.00107|Time spend=21.515164136886597\n",
      "-----WARNING: Model s24 failed to learn: sum(ans)=2400.0 sum(y)=1980.0 len(y)=2400\n",
      "\tAROUSAL-s24|Acc=0.825|10-CV=0.825|STD=0.0|Time spend=17.908286809921265\n",
      "-----WARNING: Model s25 failed to learn: sum(ans)=2400.0 sum(y)=1740.0 len(y)=2400\n",
      "\tAROUSAL-s25|Acc=0.725|10-CV=0.725|STD=0.0|Time spend=21.459262371063232\n",
      "\tAROUSAL-s26|Acc=0.71125|10-CV=0.63017|STD=0.01371|Time spend=31.093377113342285\n",
      "\tAROUSAL-s27|Acc=0.81875|10-CV=0.763|STD=0.01222|Time spend=24.377506256103516\n",
      "\tAROUSAL-s28|Acc=0.67292|10-CV=0.60383|STD=0.01955|Time spend=29.606436014175415\n",
      "\tAROUSAL-s29|Acc=0.6825|10-CV=0.63983|STD=0.00617|Time spend=27.31363582611084\n",
      "\tAROUSAL-s30|Acc=0.73375|10-CV=0.63383|STD=0.0131|Time spend=30.09356379508972\n",
      "\tAROUSAL-s31|Acc=0.74333|10-CV=0.64867|STD=0.01431|Time spend=30.965973138809204\n",
      "\tAROUSAL-s32|Acc=0.78167|10-CV=0.72067|STD=0.00672|Time spend=30.68852210044861\n",
      "AROUSAL|Acc=0.7460807291666668|10-CV=0.6976822916666668|STD=0.008748125675829185\n"
     ]
    }
   ],
   "source": [
    "accs, cv_means, cv_stds = [],[],[]\n",
    "for filename in tqdm(dataset.get_file_list()):\n",
    "    start = time.time()\n",
    "    X = load(f\"X_COH_AROUSAL_{filename}\")\n",
    "    assert X.shape == (2400,2112)\n",
    "    _, labels,groups = dataset.get_data(filename, stimuli=Dataset_subjectDependent.STIMULI_AROUSAL, return_type='numpy')\n",
    "    _, acc, cross = train_model(X, labels.reshape(-1), groups,filename=filename)\n",
    "    print(f\"\\tAROUSAL-{filename}|Acc={round(acc,5)}|10-CV={round(cross.mean(),5)}|STD={round(cross.std(),5)}|Time spend={time.time() - start}\")\n",
    "    accs.append(acc)\n",
    "    cv_means.append(cross.mean())\n",
    "    cv_stds.append(cross.std())\n",
    "print(f\"AROUSAL|Acc={sum(accs)/len(accs)}|10-CV={sum(cv_means)/len(cv_means)}|STD={sum(cv_stds)/len(cv_stds)}\")"
   ]
  },
  {
   "cell_type": "code",
   "execution_count": 13,
   "metadata": {},
   "outputs": [
    {
     "data": {
      "application/vnd.jupyter.widget-view+json": {
       "model_id": "35e13face5b2433b9fb345bfd8eec98b",
       "version_major": 2,
       "version_minor": 0
      },
      "text/plain": [
       "  0%|          | 0/32 [00:00<?, ?it/s]"
      ]
     },
     "metadata": {},
     "output_type": "display_data"
    },
    {
     "name": "stdout",
     "output_type": "stream",
     "text": [
      "\tVALENCE-s01|Acc=0.72|10-CV=0.56933|STD=0.01601|Time spend=37.02593231201172\n",
      "\tVALENCE-s02|Acc=0.7475|10-CV=0.70867|STD=0.00933|Time spend=24.315701246261597\n",
      "\tVALENCE-s03|Acc=0.75333|10-CV=0.67583|STD=0.02042|Time spend=34.49039268493652\n",
      "\tVALENCE-s04|Acc=0.77125|10-CV=0.70467|STD=0.01631|Time spend=31.66639995574951\n",
      "\tVALENCE-s05|Acc=0.71875|10-CV=0.6625|STD=0.01109|Time spend=36.92310857772827\n",
      "-----WARNING: Model s06 failed to learn: sum(ans)=2400.0 sum(y)=1800.0 len(y)=2400\n",
      "\tVALENCE-s06|Acc=0.75|10-CV=0.75|STD=0.0|Time spend=32.14384746551514\n",
      "\tVALENCE-s07|Acc=0.76583|10-CV=0.73417|STD=0.00544|Time spend=29.645787954330444\n",
      "\tVALENCE-s08|Acc=0.74125|10-CV=0.631|STD=0.01846|Time spend=37.00292706489563\n",
      "\tVALENCE-s09|Acc=0.78542|10-CV=0.75083|STD=0.02|Time spend=30.02628469467163\n",
      "\tVALENCE-s10|Acc=0.85083|10-CV=0.813|STD=0.0177|Time spend=24.604620695114136\n",
      "\tVALENCE-s11|Acc=0.68708|10-CV=0.6495|STD=0.01432|Time spend=33.66275978088379\n",
      "\tVALENCE-s12|Acc=0.75958|10-CV=0.65067|STD=0.0092|Time spend=33.75001859664917\n",
      "\tVALENCE-s13|Acc=0.78125|10-CV=0.769|STD=0.00952|Time spend=26.297296285629272\n",
      "\tVALENCE-s14|Acc=0.80375|10-CV=0.7415|STD=0.01259|Time spend=28.930899381637573\n",
      "\tVALENCE-s15|Acc=0.84708|10-CV=0.78483|STD=0.01153|Time spend=25.037801027297974\n",
      "\tVALENCE-s16|Acc=0.79042|10-CV=0.7325|STD=0.01181|Time spend=28.856996297836304\n",
      "\tVALENCE-s17|Acc=0.66708|10-CV=0.61733|STD=0.02169|Time spend=36.04532766342163\n",
      "\tVALENCE-s18|Acc=0.81042|10-CV=0.75633|STD=0.02325|Time spend=22.697999238967896\n",
      "\tVALENCE-s19|Acc=0.74583|10-CV=0.664|STD=0.01153|Time spend=29.601973295211792\n",
      "\tVALENCE-s20|Acc=0.75583|10-CV=0.69617|STD=0.02048|Time spend=28.261765718460083\n",
      "\tVALENCE-s21|Acc=0.71167|10-CV=0.59033|STD=0.01832|Time spend=36.97883725166321\n",
      "\tVALENCE-s22|Acc=0.7525|10-CV=0.71933|STD=0.00967|Time spend=28.0081889629364\n",
      "\tVALENCE-s23|Acc=0.76667|10-CV=0.70217|STD=0.00683|Time spend=32.96946930885315\n",
      "\tVALENCE-s24|Acc=0.755|10-CV=0.68067|STD=0.0143|Time spend=37.74170804023743\n",
      "\tVALENCE-s25|Acc=0.68083|10-CV=0.61567|STD=0.01682|Time spend=40.234700441360474\n",
      "\tVALENCE-s26|Acc=0.65708|10-CV=0.65033|STD=0.00067|Time spend=37.5079710483551\n",
      "\tVALENCE-s27|Acc=0.7525|10-CV=0.75|STD=0.0|Time spend=28.33807110786438\n",
      "\tVALENCE-s28|Acc=0.73833|10-CV=0.68117|STD=0.00876|Time spend=35.472095012664795\n",
      "\tVALENCE-s29|Acc=0.74292|10-CV=0.65783|STD=0.01406|Time spend=38.358299255371094\n",
      "-----WARNING: Model s30 failed to learn: sum(ans)=2400.0 sum(y)=1620.0 len(y)=2400\n",
      "\tVALENCE-s30|Acc=0.675|10-CV=0.675|STD=0.0|Time spend=36.50192332267761\n",
      "\tVALENCE-s31|Acc=0.69833|10-CV=0.60933|STD=0.01298|Time spend=41.670339822769165\n",
      "\tVALENCE-s32|Acc=0.73708|10-CV=0.6125|STD=0.01086|Time spend=41.597862243652344\n",
      "VALENCE|Acc=0.7475130208333334|10-CV=0.6876927083333332|STD=0.01231067066446924\n",
      "TOTAL|Acc=0.7467968749999996|10-CV=0.6926875000000001|STD=0.010529398170149213\n"
     ]
    }
   ],
   "source": [
    "accs_v, cv_means_v, cv_stds_v = [],[],[]\n",
    "for filename in tqdm(dataset.get_file_list()):\n",
    "    start = time.time()\n",
    "    X = load(f\"X_COH_VALENCE_{filename}\")\n",
    "    assert X.shape == (2400,2112)\n",
    "    _, labels,groups = dataset.get_data(filename, stimuli=Dataset_subjectDependent.STIMULI_VALENCE, return_type='numpy')\n",
    "    _, acc, cross = train_model(X, labels.reshape(-1), groups,filename=filename)\n",
    "    print(f\"\\tVALENCE-{filename}|Acc={round(acc,5)}|10-CV={round(cross.mean(),5)}|STD={round(cross.std(),5)}|Time spend={time.time() - start}\")\n",
    "    accs_v.append(acc)\n",
    "    cv_means_v.append(cross.mean())\n",
    "    cv_stds_v.append(cross.std())\n",
    "print(f\"VALENCE|Acc={sum(accs_v)/len(accs_v)}|10-CV={sum(cv_means_v)/len(cv_means_v)}|STD={sum(cv_stds_v)/len(cv_stds_v)}\")\n",
    "\n",
    "accs.extend(accs_v)\n",
    "cv_means.extend(cv_means_v)\n",
    "cv_stds.extend(cv_stds_v)\n",
    "print(f\"TOTAL|Acc={sum(accs)/len(accs)}|10-CV={sum(cv_means)/len(cv_means)}|STD={sum(cv_stds)/len(cv_stds)}\")"
   ]
  },
  {
   "cell_type": "markdown",
   "metadata": {},
   "source": [
    "### Connectivity PLV"
   ]
  },
  {
   "cell_type": "code",
   "execution_count": null,
   "metadata": {},
   "outputs": [],
   "source": [
    "# bands = [(0,4), (4,8), (8,12), (12,30), (30,64)]\n",
    "for filename in tqdm(dataset.get_file_list()):\n",
    "    # if(filename in ['s01','s02','s03','s04','s05','s06','s07']): continue\n",
    "    print(\"----\"*5, filename, \"----\"*5)\n",
    "    # start = time.time()\n",
    "    epochs, _, _ = dataset.get_data(filename, sfreq=128, stimuli=Dataset_subjectDependent.STIMULI_AROUSAL, return_type='mne')\n",
    "    # epochs, _ = dataset.get_data_mne_epochs(filename, sfreq=128, stimuli=Dataset_subjectDependent.STIMULI_AROUSAL, split=False)\n",
    "    # X = fe.fit_transform(X=data)\n",
    "    # print(epochs, labels.shape)\n",
    "    step = 150//2\n",
    "    X = []\n",
    "    # count = 0\n",
    "    for index in range(0,len(epochs), step):\n",
    "        # print(index,index+step)\n",
    "        conn = spectral_connectivity_time(epochs[index:index+step], method='plv',mode='multitaper',sfreq=128, freqs=range(7,64), verbose='CRITICAL')\n",
    "        # (step, 528, 57, 128) => (epoch, conn, freq, time) .mean(axis=3)\n",
    "        # (step, 528, 57) => (epoch, conn, freq)\n",
    "        # print(conn.get_data('raveled').mean(axis=3).shape)\n",
    "        conn = conn.get_data('raveled').mean(axis=3)\n",
    "        # (step, 528*4 ) =>(step, 2112 )\n",
    "        x = np.concatenate([ conn[:,:,7-7:8-7 ].mean(axis=2),\n",
    "                            conn[:,:,8-7:12-7 ].mean(axis=2),\n",
    "                            conn[:,:,12-7:30-7 ].mean(axis=2),\n",
    "                            conn[:,:,30-7:64-7 ].mean(axis=2) ],axis=1)\n",
    "        X.append(x)\n",
    "        # count += 1\n",
    "        # if(count == 3): break\n",
    "    X = np.vstack(X)\n",
    "    print(X.shape)\n",
    "    save(X,f\"X_PLV_AROUSAL_{filename}_1s_trial_depen\")\n",
    "\n",
    "    epochs, _, _ = dataset.get_data(filename, sfreq=128, stimuli=Dataset_subjectDependent.STIMULI_VALENCE, return_type='mne')\n",
    "    # X = fe.fit_transform(X=data)\n",
    "    # print(epochs, labels.shape)\n",
    "    step = 150//2\n",
    "    X = []\n",
    "    # count = 0\n",
    "    for index in tqdm(range(0,len(epochs), step)):\n",
    "        # print(index,index+step)\n",
    "        conn = spectral_connectivity_time(epochs[index:index+step], method='plv',mode='multitaper',sfreq=128, freqs=range(7,64), verbose='CRITICAL')\n",
    "        # (step, 528, 57, 128) => (epoc\n",
    "        # h, conn, freq, time) .mean(axis=3)\n",
    "        # (step, 528, 57) => (epoch, conn, freq)\n",
    "        # print(conn.get_data('raveled').mean(axis=3).shape)\n",
    "        conn = conn.get_data('raveled').mean(axis=3)\n",
    "        # (step, 528*4 ) =>(step, 2112 )\n",
    "        x = np.concatenate([ conn[:,:,7-7:8-7 ].mean(axis=2),\n",
    "                            conn[:,:,8-7:12-7 ].mean(axis=2),\n",
    "                            conn[:,:,12-7:30-7 ].mean(axis=2),\n",
    "                            conn[:,:,30-7:64-7 ].mean(axis=2) ],axis=1)\n",
    "        X.append(x)\n",
    "        # count += 1\n",
    "        # if(count == 3): break\n",
    "    X = np.vstack(X)\n",
    "    print(X.shape)\n",
    "    save(X,f\"X_PLV_VALENCE_{filename}_1s_trial_depen\")"
   ]
  },
  {
   "cell_type": "code",
   "execution_count": 14,
   "metadata": {},
   "outputs": [
    {
     "data": {
      "application/vnd.jupyter.widget-view+json": {
       "model_id": "42f8de70047143f389043fb5c94d854e",
       "version_major": 2,
       "version_minor": 0
      },
      "text/plain": [
       "  0%|          | 0/32 [00:00<?, ?it/s]"
      ]
     },
     "metadata": {},
     "output_type": "display_data"
    },
    {
     "name": "stdout",
     "output_type": "stream",
     "text": [
      "\tAROUSAL-s01|Acc=0.75542|10-CV=0.6555|STD=0.01295|Time spend=37.43366312980652\n",
      "\tAROUSAL-s02|Acc=0.71083|10-CV=0.64733|STD=0.01083|Time spend=37.73756408691406\n",
      "-----WARNING: Model s03 failed to learn: sum(ans)=0.0 sum(y)=480.0 len(y)=2400\n",
      "\tAROUSAL-s03|Acc=0.8|10-CV=0.8|STD=0.0|Time spend=28.663148641586304\n",
      "\tAROUSAL-s04|Acc=0.7325|10-CV=0.6655|STD=0.0182|Time spend=36.61770296096802\n",
      "\tAROUSAL-s05|Acc=0.72875|10-CV=0.62983|STD=0.01074|Time spend=41.52228379249573\n",
      "\tAROUSAL-s06|Acc=0.67542|10-CV=0.608|STD=0.01628|Time spend=39.19609069824219\n",
      "\tAROUSAL-s07|Acc=0.75375|10-CV=0.67167|STD=0.00989|Time spend=37.3769097328186\n",
      "\tAROUSAL-s08|Acc=0.75625|10-CV=0.64217|STD=0.01276|Time spend=41.02107501029968\n",
      "\tAROUSAL-s09|Acc=0.75542|10-CV=0.68333|STD=0.01698|Time spend=36.57077383995056\n",
      "\tAROUSAL-s10|Acc=0.80958|10-CV=0.72717|STD=0.01106|Time spend=34.97941851615906\n",
      "\tAROUSAL-s11|Acc=0.6925|10-CV=0.65017|STD=0.01248|Time spend=35.66855216026306\n",
      "-----WARNING: Model s12 failed to learn: sum(ans)=2400.0 sum(y)=1980.0 len(y)=2400\n",
      "\tAROUSAL-s12|Acc=0.825|10-CV=0.825|STD=0.0|Time spend=29.90027618408203\n",
      "-----WARNING: Model s13 failed to learn: sum(ans)=2400.0 sum(y)=2040.0 len(y)=2400\n",
      "\tAROUSAL-s13|Acc=0.85|10-CV=0.85|STD=0.0|Time spend=21.162569046020508\n",
      "\tAROUSAL-s14|Acc=0.68208|10-CV=0.67567|STD=0.00111|Time spend=33.46585035324097\n",
      "\tAROUSAL-s15|Acc=0.77625|10-CV=0.67283|STD=0.0096|Time spend=35.67878818511963\n",
      "\tAROUSAL-s16|Acc=0.78375|10-CV=0.69267|STD=0.01919|Time spend=34.23115110397339\n",
      "\tAROUSAL-s17|Acc=0.76042|10-CV=0.71867|STD=0.00816|Time spend=30.8188738822937\n",
      "\tAROUSAL-s18|Acc=0.69417|10-CV=0.65967|STD=0.01331|Time spend=33.07418346405029\n",
      "-----WARNING: Model s19 failed to learn: sum(ans)=2400.0 sum(y)=1620.0 len(y)=2400\n",
      "\tAROUSAL-s19|Acc=0.675|10-CV=0.675|STD=0.0|Time spend=31.299163103103638\n",
      "-----WARNING: Model s20 failed to learn: sum(ans)=2400.0 sum(y)=1860.0 len(y)=2400\n",
      "\tAROUSAL-s20|Acc=0.775|10-CV=0.775|STD=0.0|Time spend=27.181455612182617\n",
      "-----WARNING: Model s21 failed to learn: sum(ans)=2400.0 sum(y)=1920.0 len(y)=2400\n",
      "\tAROUSAL-s21|Acc=0.8|10-CV=0.8|STD=0.0|Time spend=26.622380256652832\n",
      "\tAROUSAL-s22|Acc=0.60708|10-CV=0.60117|STD=0.00183|Time spend=38.18697166442871\n",
      "\tAROUSAL-s23|Acc=0.76417|10-CV=0.75217|STD=0.00107|Time spend=27.46421241760254\n",
      "-----WARNING: Model s24 failed to learn: sum(ans)=2400.0 sum(y)=1980.0 len(y)=2400\n",
      "\tAROUSAL-s24|Acc=0.825|10-CV=0.825|STD=0.0|Time spend=25.134957551956177\n",
      "-----WARNING: Model s25 failed to learn: sum(ans)=2400.0 sum(y)=1740.0 len(y)=2400\n",
      "\tAROUSAL-s25|Acc=0.725|10-CV=0.725|STD=0.0|Time spend=28.566577672958374\n",
      "\tAROUSAL-s26|Acc=0.7075|10-CV=0.62633|STD=0.0126|Time spend=38.35767722129822\n",
      "\tAROUSAL-s27|Acc=0.81333|10-CV=0.75683|STD=0.01219|Time spend=29.264037132263184\n",
      "\tAROUSAL-s28|Acc=0.68042|10-CV=0.6065|STD=0.01585|Time spend=37.524038553237915\n",
      "\tAROUSAL-s29|Acc=0.68292|10-CV=0.6425|STD=0.00692|Time spend=34.182109355926514\n",
      "\tAROUSAL-s30|Acc=0.7375|10-CV=0.63133|STD=0.01406|Time spend=36.70097231864929\n",
      "\tAROUSAL-s31|Acc=0.74125|10-CV=0.6375|STD=0.01566|Time spend=36.222413778305054\n",
      "\tAROUSAL-s32|Acc=0.78042|10-CV=0.71567|STD=0.00633|Time spend=29.62853217124939\n",
      "AROUSAL|Acc=0.7455208333333333|10-CV=0.6951614583333333|STD=0.008439052406740723\n"
     ]
    }
   ],
   "source": [
    "accs, cv_means, cv_stds = [],[],[]\n",
    "for filename in tqdm(dataset.get_file_list()):\n",
    "    start = time.time()\n",
    "    X = load(f\"X_PLV_AROUSAL_{filename}\")\n",
    "    assert X.shape == (2400,2112)\n",
    "    _, labels, groups = dataset.get_data(filename, stimuli=Dataset_subjectDependent.STIMULI_AROUSAL, return_type='numpy')\n",
    "    _, acc, cross = train_model(X, labels.reshape(-1), groups, filename=filename)\n",
    "    print(f\"\\tAROUSAL-{filename}|Acc={round(acc,5)}|10-CV={round(cross.mean(),5)}|STD={round(cross.std(),5)}|Time spend={time.time() - start}\")\n",
    "    accs.append(acc)\n",
    "    cv_means.append(cross.mean())\n",
    "    cv_stds.append(cross.std())\n",
    "print(f\"AROUSAL|Acc={sum(accs)/len(accs)}|10-CV={sum(cv_means)/len(cv_means)}|STD={sum(cv_stds)/len(cv_stds)}\")"
   ]
  },
  {
   "cell_type": "code",
   "execution_count": 15,
   "metadata": {},
   "outputs": [
    {
     "data": {
      "application/vnd.jupyter.widget-view+json": {
       "model_id": "af18dcd2080e470a8c047bd75f046b4c",
       "version_major": 2,
       "version_minor": 0
      },
      "text/plain": [
       "  0%|          | 0/32 [00:00<?, ?it/s]"
      ]
     },
     "metadata": {},
     "output_type": "display_data"
    },
    {
     "name": "stdout",
     "output_type": "stream",
     "text": [
      "\tVALENCE-s01|Acc=0.71708|10-CV=0.574|STD=0.01315|Time spend=41.36754584312439\n",
      "\tVALENCE-s02|Acc=0.75208|10-CV=0.706|STD=0.01123|Time spend=31.821028470993042\n",
      "\tVALENCE-s03|Acc=0.7575|10-CV=0.67217|STD=0.02378|Time spend=36.953999042510986\n",
      "\tVALENCE-s04|Acc=0.77292|10-CV=0.6935|STD=0.01651|Time spend=32.18308210372925\n",
      "\tVALENCE-s05|Acc=0.72583|10-CV=0.6655|STD=0.01183|Time spend=36.31413412094116\n",
      "-----WARNING: Model s06 failed to learn: sum(ans)=2400.0 sum(y)=1800.0 len(y)=2400\n",
      "\tVALENCE-s06|Acc=0.75|10-CV=0.75|STD=0.0|Time spend=32.59681844711304\n",
      "\tVALENCE-s07|Acc=0.75958|10-CV=0.72567|STD=0.00559|Time spend=30.242356538772583\n",
      "\tVALENCE-s08|Acc=0.75125|10-CV=0.62717|STD=0.01625|Time spend=38.52914834022522\n",
      "\tVALENCE-s09|Acc=0.79333|10-CV=0.74683|STD=0.01702|Time spend=31.223616123199463\n",
      "\tVALENCE-s10|Acc=0.84917|10-CV=0.81033|STD=0.01552|Time spend=25.97879695892334\n",
      "\tVALENCE-s11|Acc=0.70208|10-CV=0.65217|STD=0.01323|Time spend=36.84693932533264\n",
      "\tVALENCE-s12|Acc=0.76083|10-CV=0.64983|STD=0.01045|Time spend=36.2799072265625\n",
      "\tVALENCE-s13|Acc=0.78083|10-CV=0.7655|STD=0.01014|Time spend=28.73328948020935\n",
      "\tVALENCE-s14|Acc=0.80583|10-CV=0.74583|STD=0.00864|Time spend=31.616835355758667\n",
      "\tVALENCE-s15|Acc=0.84542|10-CV=0.77767|STD=0.01395|Time spend=26.8880295753479\n",
      "\tVALENCE-s16|Acc=0.77875|10-CV=0.72533|STD=0.0147|Time spend=32.51673126220703\n",
      "\tVALENCE-s17|Acc=0.66958|10-CV=0.60733|STD=0.01892|Time spend=39.0449275970459\n",
      "\tVALENCE-s18|Acc=0.80875|10-CV=0.7545|STD=0.01912|Time spend=26.954360485076904\n",
      "\tVALENCE-s19|Acc=0.74542|10-CV=0.65867|STD=0.014|Time spend=36.27415633201599\n",
      "\tVALENCE-s20|Acc=0.765|10-CV=0.69717|STD=0.01806|Time spend=33.18151593208313\n",
      "\tVALENCE-s21|Acc=0.71208|10-CV=0.591|STD=0.01941|Time spend=40.545790672302246\n",
      "\tVALENCE-s22|Acc=0.75833|10-CV=0.7185|STD=0.01094|Time spend=33.739906787872314\n",
      "\tVALENCE-s23|Acc=0.7425|10-CV=0.6865|STD=0.00575|Time spend=35.73257279396057\n",
      "\tVALENCE-s24|Acc=0.74292|10-CV=0.67367|STD=0.01882|Time spend=37.300628662109375\n",
      "\tVALENCE-s25|Acc=0.68792|10-CV=0.61167|STD=0.01716|Time spend=39.04444622993469\n",
      "\tVALENCE-s26|Acc=0.65083|10-CV=0.65|STD=0.0|Time spend=35.99053692817688\n",
      "\tVALENCE-s27|Acc=0.75042|10-CV=0.75|STD=0.0|Time spend=27.448500633239746\n",
      "\tVALENCE-s28|Acc=0.75125|10-CV=0.691|STD=0.012|Time spend=33.60480451583862\n",
      "\tVALENCE-s29|Acc=0.73667|10-CV=0.66083|STD=0.01311|Time spend=35.470460414886475\n",
      "-----WARNING: Model s30 failed to learn: sum(ans)=2400.0 sum(y)=1620.0 len(y)=2400\n",
      "\tVALENCE-s30|Acc=0.675|10-CV=0.675|STD=0.0|Time spend=33.15948557853699\n",
      "\tVALENCE-s31|Acc=0.69167|10-CV=0.608|STD=0.00745|Time spend=36.463008642196655\n",
      "\tVALENCE-s32|Acc=0.72875|10-CV=0.608|STD=0.00632|Time spend=36.866188526153564\n",
      "VALENCE|Acc=0.7474869791666668|10-CV=0.6852916666666666|STD=0.011969660075974659\n",
      "TOTAL|Acc=0.7465039062499998|10-CV=0.6902265625|STD=0.010204356241357697\n"
     ]
    }
   ],
   "source": [
    "accs_v, cv_means_v, cv_stds_v = [],[],[]\n",
    "for filename in tqdm(dataset.get_file_list()):\n",
    "    start = time.time()\n",
    "    X = load(f\"X_PLV_VALENCE_{filename}\")\n",
    "    assert X.shape == (2400,2112)\n",
    "    _, labels, groups = dataset.get_data(filename, stimuli=Dataset_subjectDependent.STIMULI_VALENCE, return_type='numpy')\n",
    "    _, acc, cross = train_model(X, labels.reshape(-1), groups, filename=filename)\n",
    "    print(f\"\\tVALENCE-{filename}|Acc={round(acc,5)}|10-CV={round(cross.mean(),5)}|STD={round(cross.std(),5)}|Time spend={time.time() - start}\")\n",
    "    accs_v.append(acc)\n",
    "    cv_means_v.append(cross.mean())\n",
    "    cv_stds_v.append(cross.std())\n",
    "print(f\"VALENCE|Acc={sum(accs_v)/len(accs_v)}|10-CV={sum(cv_means_v)/len(cv_means_v)}|STD={sum(cv_stds_v)/len(cv_stds_v)}\")\n",
    "\n",
    "accs.extend(accs_v)\n",
    "cv_means.extend(cv_means_v)\n",
    "cv_stds.extend(cv_stds_v)\n",
    "\n",
    "print(f\"TOTAL|Acc={sum(accs)/len(accs)}|10-CV={sum(cv_means)/len(cv_means)}|STD={sum(cv_stds)/len(cv_stds)}\")"
   ]
  },
  {
   "cell_type": "markdown",
   "metadata": {},
   "source": [
    "## 5. CSP"
   ]
  },
  {
   "cell_type": "code",
   "execution_count": 16,
   "metadata": {},
   "outputs": [],
   "source": [
    "from components.CSP import CSP\n",
    "from mne_features.feature_extraction import FeatureExtractor\n",
    "\n",
    "bands = [(0,4), (4,8), (8,12), (12,30), (30,64)]\n",
    "# [alias_feature_function]__[optional_param]\n",
    "params = dict({\n",
    "    'pow_freq_bands__log':True,\n",
    "    'pow_freq_bands__normalize':False,\n",
    "    'pow_freq_bands__freq_bands':bands\n",
    "})"
   ]
  },
  {
   "cell_type": "code",
   "execution_count": 17,
   "metadata": {},
   "outputs": [
    {
     "data": {
      "application/vnd.jupyter.widget-view+json": {
       "model_id": "c23e6b027933436bb451b38be4402dd3",
       "version_major": 2,
       "version_minor": 0
      },
      "text/plain": [
       "  0%|          | 0/32 [00:00<?, ?it/s]"
      ]
     },
     "metadata": {},
     "output_type": "display_data"
    },
    {
     "name": "stderr",
     "output_type": "stream",
     "text": [
      "/root/projects/components/CSP.py:78: ComplexWarning: Casting complex values to real discards the imaginary part\n",
      "  return SFa.astype(np.float32)\n"
     ]
    },
    {
     "name": "stdout",
     "output_type": "stream",
     "text": [
      "\tAROUSAL-s01|Acc=0.72458|10-CV=0.71467|STD=0.01157|Time spend=2.7334656715393066\n"
     ]
    },
    {
     "name": "stderr",
     "output_type": "stream",
     "text": [
      "/root/projects/components/CSP.py:78: ComplexWarning: Casting complex values to real discards the imaginary part\n",
      "  return SFa.astype(np.float32)\n"
     ]
    },
    {
     "name": "stdout",
     "output_type": "stream",
     "text": [
      "\tAROUSAL-s02|Acc=1.0|10-CV=1.0|STD=0.0|Time spend=0.9059147834777832\n"
     ]
    },
    {
     "name": "stderr",
     "output_type": "stream",
     "text": [
      "/root/projects/components/CSP.py:78: ComplexWarning: Casting complex values to real discards the imaginary part\n",
      "  return SFa.astype(np.float32)\n"
     ]
    },
    {
     "name": "stdout",
     "output_type": "stream",
     "text": [
      "\tAROUSAL-s03|Acc=0.87417|10-CV=0.86883|STD=0.00658|Time spend=1.4373278617858887\n"
     ]
    },
    {
     "name": "stderr",
     "output_type": "stream",
     "text": [
      "/root/projects/components/CSP.py:78: ComplexWarning: Casting complex values to real discards the imaginary part\n",
      "  return SFa.astype(np.float32)\n"
     ]
    },
    {
     "name": "stdout",
     "output_type": "stream",
     "text": [
      "\tAROUSAL-s04|Acc=0.99708|10-CV=0.99583|STD=0.00214|Time spend=0.9537415504455566\n"
     ]
    },
    {
     "name": "stderr",
     "output_type": "stream",
     "text": [
      "/root/projects/components/CSP.py:78: ComplexWarning: Casting complex values to real discards the imaginary part\n",
      "  return SFa.astype(np.float32)\n"
     ]
    },
    {
     "name": "stdout",
     "output_type": "stream",
     "text": [
      "\tAROUSAL-s05|Acc=0.55833|10-CV=0.53983|STD=0.00717|Time spend=2.4256060123443604\n"
     ]
    },
    {
     "name": "stderr",
     "output_type": "stream",
     "text": [
      "/root/projects/components/CSP.py:78: ComplexWarning: Casting complex values to real discards the imaginary part\n",
      "  return SFa.astype(np.float32)\n"
     ]
    },
    {
     "name": "stdout",
     "output_type": "stream",
     "text": [
      "\tAROUSAL-s06|Acc=0.7775|10-CV=0.77117|STD=0.01555|Time spend=1.7546536922454834\n"
     ]
    },
    {
     "name": "stderr",
     "output_type": "stream",
     "text": [
      "/root/projects/components/CSP.py:78: ComplexWarning: Casting complex values to real discards the imaginary part\n",
      "  return SFa.astype(np.float32)\n"
     ]
    },
    {
     "name": "stdout",
     "output_type": "stream",
     "text": [
      "\tAROUSAL-s07|Acc=0.6275|10-CV=0.62583|STD=0.00112|Time spend=2.364071846008301\n"
     ]
    },
    {
     "name": "stderr",
     "output_type": "stream",
     "text": [
      "/root/projects/components/CSP.py:78: ComplexWarning: Casting complex values to real discards the imaginary part\n",
      "  return SFa.astype(np.float32)\n"
     ]
    },
    {
     "name": "stdout",
     "output_type": "stream",
     "text": [
      "\tAROUSAL-s08|Acc=0.59792|10-CV=0.589|STD=0.00523|Time spend=2.35284161567688\n"
     ]
    },
    {
     "name": "stderr",
     "output_type": "stream",
     "text": [
      "/root/projects/components/CSP.py:78: ComplexWarning: Casting complex values to real discards the imaginary part\n",
      "  return SFa.astype(np.float32)\n"
     ]
    },
    {
     "name": "stdout",
     "output_type": "stream",
     "text": [
      "\tAROUSAL-s09|Acc=0.90958|10-CV=0.90267|STD=0.00583|Time spend=1.3024768829345703\n"
     ]
    },
    {
     "name": "stderr",
     "output_type": "stream",
     "text": [
      "/root/projects/components/CSP.py:78: ComplexWarning: Casting complex values to real discards the imaginary part\n",
      "  return SFa.astype(np.float32)\n"
     ]
    },
    {
     "name": "stdout",
     "output_type": "stream",
     "text": [
      "\tAROUSAL-s10|Acc=0.95167|10-CV=0.95283|STD=0.00853|Time spend=1.1334426403045654\n"
     ]
    },
    {
     "name": "stderr",
     "output_type": "stream",
     "text": [
      "/root/projects/components/CSP.py:78: ComplexWarning: Casting complex values to real discards the imaginary part\n",
      "  return SFa.astype(np.float32)\n"
     ]
    },
    {
     "name": "stdout",
     "output_type": "stream",
     "text": [
      "\tAROUSAL-s11|Acc=0.62542|10-CV=0.625|STD=0.0|Time spend=2.488837957382202\n"
     ]
    },
    {
     "name": "stderr",
     "output_type": "stream",
     "text": [
      "/root/projects/components/CSP.py:78: ComplexWarning: Casting complex values to real discards the imaginary part\n",
      "  return SFa.astype(np.float32)\n"
     ]
    },
    {
     "name": "stdout",
     "output_type": "stream",
     "text": [
      "-----WARNING: Model s12 failed to learn: sum(ans)=2400.0 sum(y)=1980.0 len(y)=2400\n",
      "\tAROUSAL-s12|Acc=0.825|10-CV=0.825|STD=0.0|Time spend=2.0633904933929443\n"
     ]
    },
    {
     "name": "stderr",
     "output_type": "stream",
     "text": [
      "/root/projects/components/CSP.py:78: ComplexWarning: Casting complex values to real discards the imaginary part\n",
      "  return SFa.astype(np.float32)\n"
     ]
    },
    {
     "name": "stdout",
     "output_type": "stream",
     "text": [
      "\tAROUSAL-s13|Acc=0.86208|10-CV=0.85867|STD=0.0034|Time spend=1.492713451385498\n"
     ]
    },
    {
     "name": "stderr",
     "output_type": "stream",
     "text": [
      "/root/projects/components/CSP.py:78: ComplexWarning: Casting complex values to real discards the imaginary part\n",
      "  return SFa.astype(np.float32)\n"
     ]
    },
    {
     "name": "stdout",
     "output_type": "stream",
     "text": [
      "\tAROUSAL-s14|Acc=0.79125|10-CV=0.789|STD=0.01338|Time spend=1.851949691772461\n"
     ]
    },
    {
     "name": "stderr",
     "output_type": "stream",
     "text": [
      "/root/projects/components/CSP.py:78: ComplexWarning: Casting complex values to real discards the imaginary part\n",
      "  return SFa.astype(np.float32)\n"
     ]
    },
    {
     "name": "stdout",
     "output_type": "stream",
     "text": [
      "\tAROUSAL-s15|Acc=0.59417|10-CV=0.57367|STD=0.01414|Time spend=2.845367193222046\n"
     ]
    },
    {
     "name": "stderr",
     "output_type": "stream",
     "text": [
      "/root/projects/components/CSP.py:78: ComplexWarning: Casting complex values to real discards the imaginary part\n",
      "  return SFa.astype(np.float32)\n"
     ]
    },
    {
     "name": "stdout",
     "output_type": "stream",
     "text": [
      "\tAROUSAL-s16|Acc=0.87417|10-CV=0.86133|STD=0.01449|Time spend=2.7949776649475098\n"
     ]
    },
    {
     "name": "stderr",
     "output_type": "stream",
     "text": [
      "/root/projects/components/CSP.py:78: ComplexWarning: Casting complex values to real discards the imaginary part\n",
      "  return SFa.astype(np.float32)\n"
     ]
    },
    {
     "name": "stdout",
     "output_type": "stream",
     "text": [
      "\tAROUSAL-s17|Acc=0.93625|10-CV=0.93417|STD=0.00523|Time spend=1.2845184803009033\n"
     ]
    },
    {
     "name": "stderr",
     "output_type": "stream",
     "text": [
      "/root/projects/components/CSP.py:78: ComplexWarning: Casting complex values to real discards the imaginary part\n",
      "  return SFa.astype(np.float32)\n"
     ]
    },
    {
     "name": "stdout",
     "output_type": "stream",
     "text": [
      "\tAROUSAL-s18|Acc=0.84375|10-CV=0.834|STD=0.01587|Time spend=1.7126846313476562\n"
     ]
    },
    {
     "name": "stderr",
     "output_type": "stream",
     "text": [
      "/root/projects/components/CSP.py:78: ComplexWarning: Casting complex values to real discards the imaginary part\n",
      "  return SFa.astype(np.float32)\n"
     ]
    },
    {
     "name": "stdout",
     "output_type": "stream",
     "text": [
      "-----WARNING: Model s19 failed to learn: sum(ans)=2400.0 sum(y)=1620.0 len(y)=2400\n",
      "\tAROUSAL-s19|Acc=0.675|10-CV=0.675|STD=0.0|Time spend=2.4783966541290283\n"
     ]
    },
    {
     "name": "stderr",
     "output_type": "stream",
     "text": [
      "/root/projects/components/CSP.py:78: ComplexWarning: Casting complex values to real discards the imaginary part\n",
      "  return SFa.astype(np.float32)\n"
     ]
    },
    {
     "name": "stdout",
     "output_type": "stream",
     "text": [
      "\tAROUSAL-s20|Acc=0.845|10-CV=0.83817|STD=0.01076|Time spend=1.5545194149017334\n"
     ]
    },
    {
     "name": "stderr",
     "output_type": "stream",
     "text": [
      "/root/projects/components/CSP.py:78: ComplexWarning: Casting complex values to real discards the imaginary part\n",
      "  return SFa.astype(np.float32)\n"
     ]
    },
    {
     "name": "stdout",
     "output_type": "stream",
     "text": [
      "\tAROUSAL-s21|Acc=0.9125|10-CV=0.91067|STD=0.00708|Time spend=1.4251904487609863\n"
     ]
    },
    {
     "name": "stderr",
     "output_type": "stream",
     "text": [
      "/root/projects/components/CSP.py:78: ComplexWarning: Casting complex values to real discards the imaginary part\n",
      "  return SFa.astype(np.float32)\n"
     ]
    },
    {
     "name": "stdout",
     "output_type": "stream",
     "text": [
      "\tAROUSAL-s22|Acc=0.82708|10-CV=0.82133|STD=0.01543|Time spend=1.7571840286254883\n"
     ]
    },
    {
     "name": "stderr",
     "output_type": "stream",
     "text": [
      "/root/projects/components/CSP.py:78: ComplexWarning: Casting complex values to real discards the imaginary part\n",
      "  return SFa.astype(np.float32)\n"
     ]
    },
    {
     "name": "stdout",
     "output_type": "stream",
     "text": [
      "\tAROUSAL-s23|Acc=0.81917|10-CV=0.81683|STD=0.01134|Time spend=1.6667594909667969\n"
     ]
    },
    {
     "name": "stderr",
     "output_type": "stream",
     "text": [
      "/root/projects/components/CSP.py:78: ComplexWarning: Casting complex values to real discards the imaginary part\n",
      "  return SFa.astype(np.float32)\n"
     ]
    },
    {
     "name": "stdout",
     "output_type": "stream",
     "text": [
      "\tAROUSAL-s24|Acc=0.99375|10-CV=0.993|STD=0.00287|Time spend=0.9935400485992432\n"
     ]
    },
    {
     "name": "stderr",
     "output_type": "stream",
     "text": [
      "/root/projects/components/CSP.py:78: ComplexWarning: Casting complex values to real discards the imaginary part\n",
      "  return SFa.astype(np.float32)\n"
     ]
    },
    {
     "name": "stdout",
     "output_type": "stream",
     "text": [
      "\tAROUSAL-s25|Acc=0.94042|10-CV=0.9365|STD=0.00801|Time spend=1.2577154636383057\n"
     ]
    },
    {
     "name": "stderr",
     "output_type": "stream",
     "text": [
      "/root/projects/components/CSP.py:78: ComplexWarning: Casting complex values to real discards the imaginary part\n",
      "  return SFa.astype(np.float32)\n"
     ]
    },
    {
     "name": "stdout",
     "output_type": "stream",
     "text": [
      "\tAROUSAL-s26|Acc=0.71208|10-CV=0.70467|STD=0.01724|Time spend=2.386957883834839\n"
     ]
    },
    {
     "name": "stderr",
     "output_type": "stream",
     "text": [
      "/root/projects/components/CSP.py:78: ComplexWarning: Casting complex values to real discards the imaginary part\n",
      "  return SFa.astype(np.float32)\n"
     ]
    },
    {
     "name": "stdout",
     "output_type": "stream",
     "text": [
      "\tAROUSAL-s27|Acc=0.7625|10-CV=0.73867|STD=0.01118|Time spend=2.0963540077209473\n"
     ]
    },
    {
     "name": "stderr",
     "output_type": "stream",
     "text": [
      "/root/projects/components/CSP.py:78: ComplexWarning: Casting complex values to real discards the imaginary part\n",
      "  return SFa.astype(np.float32)\n"
     ]
    },
    {
     "name": "stdout",
     "output_type": "stream",
     "text": [
      "\tAROUSAL-s28|Acc=0.58917|10-CV=0.57133|STD=0.01565|Time spend=2.467508554458618\n"
     ]
    },
    {
     "name": "stderr",
     "output_type": "stream",
     "text": [
      "/root/projects/components/CSP.py:78: ComplexWarning: Casting complex values to real discards the imaginary part\n",
      "  return SFa.astype(np.float32)\n"
     ]
    },
    {
     "name": "stdout",
     "output_type": "stream",
     "text": [
      "\tAROUSAL-s29|Acc=0.63792|10-CV=0.62817|STD=0.00643|Time spend=2.368893623352051\n"
     ]
    },
    {
     "name": "stderr",
     "output_type": "stream",
     "text": [
      "/root/projects/components/CSP.py:78: ComplexWarning: Casting complex values to real discards the imaginary part\n",
      "  return SFa.astype(np.float32)\n"
     ]
    },
    {
     "name": "stdout",
     "output_type": "stream",
     "text": [
      "\tAROUSAL-s30|Acc=0.83833|10-CV=0.83133|STD=0.01282|Time spend=1.844303846359253\n"
     ]
    },
    {
     "name": "stderr",
     "output_type": "stream",
     "text": [
      "/root/projects/components/CSP.py:78: ComplexWarning: Casting complex values to real discards the imaginary part\n",
      "  return SFa.astype(np.float32)\n"
     ]
    },
    {
     "name": "stdout",
     "output_type": "stream",
     "text": [
      "\tAROUSAL-s31|Acc=0.94958|10-CV=0.94733|STD=0.00797|Time spend=1.3076021671295166\n"
     ]
    },
    {
     "name": "stderr",
     "output_type": "stream",
     "text": [
      "/root/projects/components/CSP.py:78: ComplexWarning: Casting complex values to real discards the imaginary part\n",
      "  return SFa.astype(np.float32)\n"
     ]
    },
    {
     "name": "stdout",
     "output_type": "stream",
     "text": [
      "\tAROUSAL-s32|Acc=0.8275|10-CV=0.826|STD=0.01225|Time spend=1.7909026145935059\n",
      "AROUSAL|Acc=0.8031380208333333|10-CV=0.796890625|STD=0.008413643019671204\n"
     ]
    }
   ],
   "source": [
    "accs, cv_means, cv_stds = [],[],[]\n",
    "for filename in tqdm(dataset.get_file_list()):\n",
    "\n",
    "    data, labels, groups = dataset.get_data(filename, stimuli=Dataset_subjectDependent.STIMULI_AROUSAL, return_type='numpy')\n",
    "    labels = labels.squeeze()\n",
    "    start = time.time()\n",
    "    filters = CSP(data[labels==0], data[labels==1])\n",
    "    \n",
    "    csp_data = []\n",
    "    for index in range(len(data)):\n",
    "        \n",
    "        # (672, 32) @ (32, 32) = (672, 32)\n",
    "        csp = data[index].T @ filters[labels[index].astype(int)]\n",
    "        # (1, 32, 672)\n",
    "        csp = np.expand_dims(csp.T, axis=0)\n",
    "        csp_data.append(csp)\n",
    "\n",
    "    csp_data = np.vstack(csp_data)\n",
    "    # print(csp_data.shape) => (2400, 32, 128)\n",
    "    fe = FeatureExtractor(sfreq=128, selected_funcs=['pow_freq_bands'],params=params,n_jobs=8)\n",
    "    X = fe.fit_transform(X=csp_data)\n",
    "    # print(X.shape, time.time() - start) => (2400, 160) 1.2374355792999268\n",
    "\n",
    "    assert X.shape == (2400,160)\n",
    "    _, acc, cross = train_model(X, labels.reshape(-1), groups, filename=filename)\n",
    "    print(f\"\\tAROUSAL-{filename}|Acc={round(acc,5)}|10-CV={round(cross.mean(),5)}|STD={round(cross.std(),5)}|Time spend={time.time() - start}\")\n",
    "    accs.append(acc)\n",
    "    cv_means.append(cross.mean())\n",
    "    cv_stds.append(cross.std())\n",
    "print(f\"AROUSAL|Acc={sum(accs)/len(accs)}|10-CV={sum(cv_means)/len(cv_means)}|STD={sum(cv_stds)/len(cv_stds)}\")"
   ]
  },
  {
   "cell_type": "code",
   "execution_count": 18,
   "metadata": {},
   "outputs": [
    {
     "data": {
      "application/vnd.jupyter.widget-view+json": {
       "model_id": "2509d63c4f26403698931aab9019e5d3",
       "version_major": 2,
       "version_minor": 0
      },
      "text/plain": [
       "  0%|          | 0/32 [00:00<?, ?it/s]"
      ]
     },
     "metadata": {},
     "output_type": "display_data"
    },
    {
     "name": "stderr",
     "output_type": "stream",
     "text": [
      "/root/projects/components/CSP.py:78: ComplexWarning: Casting complex values to real discards the imaginary part\n",
      "  return SFa.astype(np.float32)\n"
     ]
    },
    {
     "name": "stdout",
     "output_type": "stream",
     "text": [
      "\tVALENCE-s01|Acc=0.55375|10-CV=0.53983|STD=0.01097|Time spend=2.6032896041870117\n"
     ]
    },
    {
     "name": "stderr",
     "output_type": "stream",
     "text": [
      "/root/projects/components/CSP.py:78: ComplexWarning: Casting complex values to real discards the imaginary part\n",
      "  return SFa.astype(np.float32)\n"
     ]
    },
    {
     "name": "stdout",
     "output_type": "stream",
     "text": [
      "\tVALENCE-s02|Acc=0.99667|10-CV=0.99633|STD=0.00163|Time spend=0.9560387134552002\n"
     ]
    },
    {
     "name": "stderr",
     "output_type": "stream",
     "text": [
      "/root/projects/components/CSP.py:78: ComplexWarning: Casting complex values to real discards the imaginary part\n",
      "  return SFa.astype(np.float32)\n"
     ]
    },
    {
     "name": "stdout",
     "output_type": "stream",
     "text": [
      "\tVALENCE-s03|Acc=0.66417|10-CV=0.6495|STD=0.01544|Time spend=2.378692150115967\n"
     ]
    },
    {
     "name": "stderr",
     "output_type": "stream",
     "text": [
      "/root/projects/components/CSP.py:78: ComplexWarning: Casting complex values to real discards the imaginary part\n",
      "  return SFa.astype(np.float32)\n"
     ]
    },
    {
     "name": "stdout",
     "output_type": "stream",
     "text": [
      "\tVALENCE-s04|Acc=0.71917|10-CV=0.70233|STD=0.01039|Time spend=2.3117923736572266\n"
     ]
    },
    {
     "name": "stderr",
     "output_type": "stream",
     "text": [
      "/root/projects/components/CSP.py:78: ComplexWarning: Casting complex values to real discards the imaginary part\n",
      "  return SFa.astype(np.float32)\n"
     ]
    },
    {
     "name": "stdout",
     "output_type": "stream",
     "text": [
      "\tVALENCE-s05|Acc=0.76792|10-CV=0.7615|STD=0.01747|Time spend=1.8939478397369385\n"
     ]
    },
    {
     "name": "stderr",
     "output_type": "stream",
     "text": [
      "/root/projects/components/CSP.py:78: ComplexWarning: Casting complex values to real discards the imaginary part\n",
      "  return SFa.astype(np.float32)\n"
     ]
    },
    {
     "name": "stdout",
     "output_type": "stream",
     "text": [
      "\tVALENCE-s06|Acc=0.80042|10-CV=0.79733|STD=0.00901|Time spend=1.8088557720184326\n"
     ]
    },
    {
     "name": "stderr",
     "output_type": "stream",
     "text": [
      "/root/projects/components/CSP.py:78: ComplexWarning: Casting complex values to real discards the imaginary part\n",
      "  return SFa.astype(np.float32)\n"
     ]
    },
    {
     "name": "stdout",
     "output_type": "stream",
     "text": [
      "\tVALENCE-s07|Acc=0.99125|10-CV=0.98917|STD=0.00436|Time spend=0.942040205001831\n"
     ]
    },
    {
     "name": "stderr",
     "output_type": "stream",
     "text": [
      "/root/projects/components/CSP.py:78: ComplexWarning: Casting complex values to real discards the imaginary part\n",
      "  return SFa.astype(np.float32)\n"
     ]
    },
    {
     "name": "stdout",
     "output_type": "stream",
     "text": [
      "\tVALENCE-s08|Acc=0.8375|10-CV=0.82783|STD=0.0159|Time spend=1.6787397861480713\n"
     ]
    },
    {
     "name": "stderr",
     "output_type": "stream",
     "text": [
      "/root/projects/components/CSP.py:78: ComplexWarning: Casting complex values to real discards the imaginary part\n",
      "  return SFa.astype(np.float32)\n"
     ]
    },
    {
     "name": "stdout",
     "output_type": "stream",
     "text": [
      "\tVALENCE-s09|Acc=0.95208|10-CV=0.9485|STD=0.00705|Time spend=1.171898365020752\n"
     ]
    },
    {
     "name": "stderr",
     "output_type": "stream",
     "text": [
      "/root/projects/components/CSP.py:78: ComplexWarning: Casting complex values to real discards the imaginary part\n",
      "  return SFa.astype(np.float32)\n"
     ]
    },
    {
     "name": "stdout",
     "output_type": "stream",
     "text": [
      "\tVALENCE-s10|Acc=0.93667|10-CV=0.92967|STD=0.00954|Time spend=1.234628677368164\n"
     ]
    },
    {
     "name": "stderr",
     "output_type": "stream",
     "text": [
      "/root/projects/components/CSP.py:78: ComplexWarning: Casting complex values to real discards the imaginary part\n",
      "  return SFa.astype(np.float32)\n"
     ]
    },
    {
     "name": "stdout",
     "output_type": "stream",
     "text": [
      "\tVALENCE-s11|Acc=0.6025|10-CV=0.59833|STD=0.0035|Time spend=2.473661184310913\n"
     ]
    },
    {
     "name": "stderr",
     "output_type": "stream",
     "text": [
      "/root/projects/components/CSP.py:78: ComplexWarning: Casting complex values to real discards the imaginary part\n",
      "  return SFa.astype(np.float32)\n"
     ]
    },
    {
     "name": "stdout",
     "output_type": "stream",
     "text": [
      "\tVALENCE-s12|Acc=0.62|10-CV=0.5865|STD=0.01585|Time spend=2.3474667072296143\n"
     ]
    },
    {
     "name": "stderr",
     "output_type": "stream",
     "text": [
      "/root/projects/components/CSP.py:78: ComplexWarning: Casting complex values to real discards the imaginary part\n",
      "  return SFa.astype(np.float32)\n"
     ]
    },
    {
     "name": "stdout",
     "output_type": "stream",
     "text": [
      "\tVALENCE-s13|Acc=0.71792|10-CV=0.71117|STD=0.01014|Time spend=2.1478772163391113\n"
     ]
    },
    {
     "name": "stderr",
     "output_type": "stream",
     "text": [
      "/root/projects/components/CSP.py:78: ComplexWarning: Casting complex values to real discards the imaginary part\n",
      "  return SFa.astype(np.float32)\n"
     ]
    },
    {
     "name": "stdout",
     "output_type": "stream",
     "text": [
      "\tVALENCE-s14|Acc=0.74375|10-CV=0.74417|STD=0.02233|Time spend=1.9973299503326416\n"
     ]
    },
    {
     "name": "stderr",
     "output_type": "stream",
     "text": [
      "/root/projects/components/CSP.py:78: ComplexWarning: Casting complex values to real discards the imaginary part\n",
      "  return SFa.astype(np.float32)\n"
     ]
    },
    {
     "name": "stdout",
     "output_type": "stream",
     "text": [
      "\tVALENCE-s15|Acc=0.77|10-CV=0.766|STD=0.01476|Time spend=1.9071149826049805\n"
     ]
    },
    {
     "name": "stderr",
     "output_type": "stream",
     "text": [
      "/root/projects/components/CSP.py:78: ComplexWarning: Casting complex values to real discards the imaginary part\n",
      "  return SFa.astype(np.float32)\n"
     ]
    },
    {
     "name": "stdout",
     "output_type": "stream",
     "text": [
      "\tVALENCE-s16|Acc=0.67583|10-CV=0.6685|STD=0.00905|Time spend=2.311208724975586\n"
     ]
    },
    {
     "name": "stderr",
     "output_type": "stream",
     "text": [
      "/root/projects/components/CSP.py:78: ComplexWarning: Casting complex values to real discards the imaginary part\n",
      "  return SFa.astype(np.float32)\n"
     ]
    },
    {
     "name": "stdout",
     "output_type": "stream",
     "text": [
      "\tVALENCE-s17|Acc=0.92042|10-CV=0.91733|STD=0.00461|Time spend=1.2184231281280518\n"
     ]
    },
    {
     "name": "stderr",
     "output_type": "stream",
     "text": [
      "/root/projects/components/CSP.py:78: ComplexWarning: Casting complex values to real discards the imaginary part\n",
      "  return SFa.astype(np.float32)\n"
     ]
    },
    {
     "name": "stdout",
     "output_type": "stream",
     "text": [
      "\tVALENCE-s18|Acc=0.60208|10-CV=0.5915|STD=0.0058|Time spend=2.503159999847412\n"
     ]
    },
    {
     "name": "stderr",
     "output_type": "stream",
     "text": [
      "/root/projects/components/CSP.py:78: ComplexWarning: Casting complex values to real discards the imaginary part\n",
      "  return SFa.astype(np.float32)\n"
     ]
    },
    {
     "name": "stdout",
     "output_type": "stream",
     "text": [
      "\tVALENCE-s19|Acc=0.59875|10-CV=0.59367|STD=0.01154|Time spend=2.652194023132324\n"
     ]
    },
    {
     "name": "stderr",
     "output_type": "stream",
     "text": [
      "/root/projects/components/CSP.py:78: ComplexWarning: Casting complex values to real discards the imaginary part\n",
      "  return SFa.astype(np.float32)\n"
     ]
    },
    {
     "name": "stdout",
     "output_type": "stream",
     "text": [
      "\tVALENCE-s20|Acc=0.655|10-CV=0.6355|STD=0.01227|Time spend=2.4676995277404785\n"
     ]
    },
    {
     "name": "stderr",
     "output_type": "stream",
     "text": [
      "/root/projects/components/CSP.py:78: ComplexWarning: Casting complex values to real discards the imaginary part\n",
      "  return SFa.astype(np.float32)\n"
     ]
    },
    {
     "name": "stdout",
     "output_type": "stream",
     "text": [
      "\tVALENCE-s21|Acc=0.89042|10-CV=0.88217|STD=0.00997|Time spend=1.4104883670806885\n"
     ]
    },
    {
     "name": "stderr",
     "output_type": "stream",
     "text": [
      "/root/projects/components/CSP.py:78: ComplexWarning: Casting complex values to real discards the imaginary part\n",
      "  return SFa.astype(np.float32)\n"
     ]
    },
    {
     "name": "stdout",
     "output_type": "stream",
     "text": [
      "\tVALENCE-s22|Acc=0.65042|10-CV=0.63933|STD=0.01879|Time spend=2.454566478729248\n"
     ]
    },
    {
     "name": "stderr",
     "output_type": "stream",
     "text": [
      "/root/projects/components/CSP.py:78: ComplexWarning: Casting complex values to real discards the imaginary part\n",
      "  return SFa.astype(np.float32)\n"
     ]
    },
    {
     "name": "stdout",
     "output_type": "stream",
     "text": [
      "\tVALENCE-s23|Acc=0.7275|10-CV=0.71367|STD=0.01621|Time spend=2.0381410121917725\n"
     ]
    },
    {
     "name": "stderr",
     "output_type": "stream",
     "text": [
      "/root/projects/components/CSP.py:78: ComplexWarning: Casting complex values to real discards the imaginary part\n",
      "  return SFa.astype(np.float32)\n"
     ]
    },
    {
     "name": "stdout",
     "output_type": "stream",
     "text": [
      "-----WARNING: Model s24 failed to learn: sum(ans)=0.0 sum(y)=1080.0 len(y)=2400\n",
      "\tVALENCE-s24|Acc=0.55|10-CV=0.54983|STD=0.00217|Time spend=2.701198101043701\n"
     ]
    },
    {
     "name": "stderr",
     "output_type": "stream",
     "text": [
      "/root/projects/components/CSP.py:78: ComplexWarning: Casting complex values to real discards the imaginary part\n",
      "  return SFa.astype(np.float32)\n"
     ]
    },
    {
     "name": "stdout",
     "output_type": "stream",
     "text": [
      "\tVALENCE-s25|Acc=0.58875|10-CV=0.5535|STD=0.01723|Time spend=2.5017244815826416\n"
     ]
    },
    {
     "name": "stderr",
     "output_type": "stream",
     "text": [
      "/root/projects/components/CSP.py:78: ComplexWarning: Casting complex values to real discards the imaginary part\n",
      "  return SFa.astype(np.float32)\n"
     ]
    },
    {
     "name": "stdout",
     "output_type": "stream",
     "text": [
      "-----WARNING: Model s26 failed to learn: sum(ans)=2400.0 sum(y)=1560.0 len(y)=2400\n",
      "\tVALENCE-s26|Acc=0.65|10-CV=0.65|STD=0.0|Time spend=2.6662721633911133\n"
     ]
    },
    {
     "name": "stderr",
     "output_type": "stream",
     "text": [
      "/root/projects/components/CSP.py:78: ComplexWarning: Casting complex values to real discards the imaginary part\n",
      "  return SFa.astype(np.float32)\n"
     ]
    },
    {
     "name": "stdout",
     "output_type": "stream",
     "text": [
      "\tVALENCE-s27|Acc=0.95833|10-CV=0.95567|STD=0.00501|Time spend=1.089770793914795\n"
     ]
    },
    {
     "name": "stderr",
     "output_type": "stream",
     "text": [
      "/root/projects/components/CSP.py:78: ComplexWarning: Casting complex values to real discards the imaginary part\n",
      "  return SFa.astype(np.float32)\n"
     ]
    },
    {
     "name": "stdout",
     "output_type": "stream",
     "text": [
      "\tVALENCE-s28|Acc=0.63708|10-CV=0.62883|STD=0.00289|Time spend=2.499983787536621\n"
     ]
    },
    {
     "name": "stderr",
     "output_type": "stream",
     "text": [
      "/root/projects/components/CSP.py:78: ComplexWarning: Casting complex values to real discards the imaginary part\n",
      "  return SFa.astype(np.float32)\n"
     ]
    },
    {
     "name": "stdout",
     "output_type": "stream",
     "text": [
      "\tVALENCE-s29|Acc=0.82417|10-CV=0.81633|STD=0.01215|Time spend=1.7453219890594482\n"
     ]
    },
    {
     "name": "stderr",
     "output_type": "stream",
     "text": [
      "/root/projects/components/CSP.py:78: ComplexWarning: Casting complex values to real discards the imaginary part\n",
      "  return SFa.astype(np.float32)\n"
     ]
    },
    {
     "name": "stdout",
     "output_type": "stream",
     "text": [
      "\tVALENCE-s30|Acc=0.84958|10-CV=0.84717|STD=0.01346|Time spend=1.6595885753631592\n"
     ]
    },
    {
     "name": "stderr",
     "output_type": "stream",
     "text": [
      "/root/projects/components/CSP.py:78: ComplexWarning: Casting complex values to real discards the imaginary part\n",
      "  return SFa.astype(np.float32)\n"
     ]
    },
    {
     "name": "stdout",
     "output_type": "stream",
     "text": [
      "\tVALENCE-s31|Acc=0.58833|10-CV=0.58033|STD=0.00557|Time spend=2.654433012008667\n"
     ]
    },
    {
     "name": "stderr",
     "output_type": "stream",
     "text": [
      "/root/projects/components/CSP.py:78: ComplexWarning: Casting complex values to real discards the imaginary part\n",
      "  return SFa.astype(np.float32)\n"
     ]
    },
    {
     "name": "stdout",
     "output_type": "stream",
     "text": [
      "\tVALENCE-s32|Acc=0.57417|10-CV=0.55367|STD=0.01511|Time spend=2.51802659034729\n",
      "VALENCE|Acc=0.7379557291666665|10-CV=0.7289114583333332|STD=0.010317328234950098\n"
     ]
    }
   ],
   "source": [
    "accs_v, cv_means_v, cv_stds_v = [],[],[]\n",
    "for filename in tqdm(dataset.get_file_list()):\n",
    "\n",
    "    data, labels, groups = dataset.get_data(filename, stimuli=Dataset_subjectDependent.STIMULI_VALENCE, return_type='numpy')\n",
    "    labels = labels.squeeze()\n",
    "    start = time.time()\n",
    "    filters = CSP(data[labels==0], data[labels==1])\n",
    "    \n",
    "    csp_data = []\n",
    "    for index in range(len(data)):\n",
    "        \n",
    "        # (672, 32) @ (32, 32) = (672, 32)\n",
    "        csp = data[index].T @ filters[labels[index].astype(int)]\n",
    "        # (1, 32, 672)\n",
    "        csp = np.expand_dims(csp.T, axis=0)\n",
    "        csp_data.append(csp)\n",
    "\n",
    "    csp_data = np.vstack(csp_data)\n",
    "    # print(csp_data.shape) => (2400, 32, 128)\n",
    "    fe = FeatureExtractor(sfreq=128, selected_funcs=['pow_freq_bands'],params=params,n_jobs=8)\n",
    "    X = fe.fit_transform(X=csp_data)\n",
    "    # print(X.shape, time.time() - start) => (2400, 160) 1.2374355792999268\n",
    "\n",
    "    assert X.shape == (2400,160)\n",
    "    _, acc, cross = train_model(X, labels.reshape(-1), groups, filename=filename)\n",
    "    print(f\"\\tVALENCE-{filename}|Acc={round(acc,5)}|10-CV={round(cross.mean(),5)}|STD={round(cross.std(),5)}|Time spend={time.time() - start}\")\n",
    "    accs_v.append(acc)\n",
    "    cv_means_v.append(cross.mean())\n",
    "    cv_stds_v.append(cross.std())\n",
    "print(f\"VALENCE|Acc={sum(accs_v)/len(accs_v)}|10-CV={sum(cv_means_v)/len(cv_means_v)}|STD={sum(cv_stds_v)/len(cv_stds_v)}\")"
   ]
  },
  {
   "cell_type": "code",
   "execution_count": 19,
   "metadata": {},
   "outputs": [
    {
     "name": "stdout",
     "output_type": "stream",
     "text": [
      "TOTAL|Acc=0.770546875|10-CV=0.7629010416666667|STD=0.009365485627310651\n"
     ]
    }
   ],
   "source": [
    "accs.extend(accs_v)\n",
    "cv_means.extend(cv_means_v)\n",
    "cv_stds.extend(cv_stds_v)\n",
    "\n",
    "print(f\"TOTAL|Acc={sum(accs)/len(accs)}|10-CV={sum(cv_means)/len(cv_means)}|STD={sum(cv_stds)/len(cv_stds)}\")"
   ]
  },
  {
   "cell_type": "code",
   "execution_count": null,
   "metadata": {},
   "outputs": [],
   "source": []
  }
 ],
 "metadata": {
  "interpreter": {
   "hash": "27768773b483d82a9b2b839e3fa80b1be5789db7fd78df4eedef2df266871616"
  },
  "kernelspec": {
   "display_name": "Python 3 (ipykernel)",
   "language": "python",
   "name": "python3"
  },
  "language_info": {
   "codemirror_mode": {
    "name": "ipython",
    "version": 3
   },
   "file_extension": ".py",
   "mimetype": "text/x-python",
   "name": "python",
   "nbconvert_exporter": "python",
   "pygments_lexer": "ipython3",
   "version": "3.8.10"
  }
 },
 "nbformat": 4,
 "nbformat_minor": 4
}
