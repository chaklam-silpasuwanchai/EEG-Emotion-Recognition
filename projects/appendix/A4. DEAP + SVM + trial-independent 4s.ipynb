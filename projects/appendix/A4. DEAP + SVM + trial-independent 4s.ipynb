{
 "cells": [
  {
   "cell_type": "code",
   "execution_count": 1,
   "metadata": {},
   "outputs": [
    {
     "name": "stdout",
     "output_type": "stream",
     "text": [
      "Found: 32 files\n",
      "s01 (600, 2) [47.5 60. ]\n"
     ]
    }
   ],
   "source": [
    "import time\n",
    "import numpy as np\n",
    "from tqdm.notebook import tqdm\n",
    "\n",
    "from components.dataset_jo import *\n",
    "\n",
    "dataset = Dataset_subjectDependent('data')\n",
    "segment_lenght = 4 #second\n",
    "dataset.set_segment(7680//(128*segment_lenght))\n",
    "for filename in dataset.get_file_list():\n",
    "    data, labels, _ = dataset.get_data(filename, return_type='numpy')\n",
    "    print(filename, labels.shape, labels.sum(axis=0)/labels.shape[0]*100)\n",
    "    break"
   ]
  },
  {
   "cell_type": "code",
   "execution_count": 2,
   "metadata": {},
   "outputs": [],
   "source": [
    "def train_model(X_ori,y_ori,groups_ori,filename=None, kernel='rbf',return_text=False):\n",
    "    # Make a copy because I am paranoid\n",
    "    X,y,groups = X_ori.copy(), y_ori.copy(), groups_ori.copy()\n",
    "\n",
    "    from sklearn.svm import SVC\n",
    "    from sklearn.model_selection import GroupShuffleSplit \n",
    "    from sklearn.model_selection import cross_val_score\n",
    "\n",
    "    model = SVC(kernel=kernel,max_iter=50000)\n",
    "    cv = GroupShuffleSplit(n_splits=10, train_size=0.75, random_state=0)\n",
    "    cross = cross_val_score(model, X, y, cv=cv,groups=groups, n_jobs=8)\n",
    "    \n",
    "    # We probably dont need this\n",
    "    model = SVC(kernel=kernel, max_iter=50000)\n",
    "    model.fit(X, y)\n",
    "    ans = model.predict(X)\n",
    "    acc = sum(ans == y) / len(y)\n",
    "    # If the model answer with all 0 or 1, we print this message\n",
    "    text = None\n",
    "    if( sum(ans) == len(y) or sum(ans) == 0 ): \n",
    "        text = f\"-----WARNING: Model {filename} failed to learn: sum(ans)={sum(ans)} sum(y)={sum(y)} len(y)={len(y)}\"\n",
    "    if(return_text):\n",
    "        return model, acc, cross, text\n",
    "    else:\n",
    "        if(text != None): print(text)\n",
    "        return model, acc, cross"
   ]
  },
  {
   "cell_type": "markdown",
   "metadata": {},
   "source": [
    "## 2. Spectral Features"
   ]
  },
  {
   "cell_type": "code",
   "execution_count": 3,
   "metadata": {},
   "outputs": [],
   "source": [
    "from mne_features.feature_extraction import FeatureExtractor"
   ]
  },
  {
   "cell_type": "code",
   "execution_count": 4,
   "metadata": {},
   "outputs": [
    {
     "name": "stdout",
     "output_type": "stream",
     "text": [
      "\tAROUSAL-s01|Acc=0.705|10-CV=0.536|STD=0.14171|Time spend=32.432703495025635\n",
      "\tAROUSAL-s02|Acc=0.64833|10-CV=0.544|STD=0.08079|Time spend=0.6004517078399658\n",
      "-----WARNING: Model s03 failed to learn: sum(ans)=0.0 sum(y)=120.0 len(y)=600\n",
      "\tAROUSAL-s03|Acc=0.8|10-CV=0.73|STD=0.15524|Time spend=0.5529723167419434\n",
      "\tAROUSAL-s04|Acc=0.665|10-CV=0.53867|STD=0.10254|Time spend=0.5832347869873047\n",
      "\tAROUSAL-s05|Acc=0.585|10-CV=0.4|STD=0.09428|Time spend=0.5917432308197021\n",
      "\tAROUSAL-s06|Acc=0.62167|10-CV=0.524|STD=0.13863|Time spend=0.570556640625\n",
      "\tAROUSAL-s07|Acc=0.685|10-CV=0.634|STD=0.10496|Time spend=0.5847246646881104\n",
      "\tAROUSAL-s08|Acc=0.69667|10-CV=0.42533|STD=0.1188|Time spend=0.5811765193939209\n",
      "\tAROUSAL-s09|Acc=0.65333|10-CV=0.49467|STD=0.08038|Time spend=0.5979676246643066\n",
      "\tAROUSAL-s10|Acc=0.69667|10-CV=0.55333|STD=0.09494|Time spend=0.6734280586242676\n",
      "\tAROUSAL-s11|Acc=0.63|10-CV=0.59533|STD=0.05918|Time spend=0.6626689434051514\n",
      "-----WARNING: Model s12 failed to learn: sum(ans)=600.0 sum(y)=495.0 len(y)=600\n",
      "\tAROUSAL-s12|Acc=0.825|10-CV=0.83|STD=0.1005|Time spend=0.6613638401031494\n",
      "-----WARNING: Model s13 failed to learn: sum(ans)=600.0 sum(y)=510.0 len(y)=600\n",
      "\tAROUSAL-s13|Acc=0.85|10-CV=0.84|STD=0.06633|Time spend=0.6640810966491699\n",
      "-----WARNING: Model s14 failed to learn: sum(ans)=600.0 sum(y)=405.0 len(y)=600\n",
      "\tAROUSAL-s14|Acc=0.675|10-CV=0.65|STD=0.10247|Time spend=0.6563854217529297\n",
      "\tAROUSAL-s15|Acc=0.72|10-CV=0.59733|STD=0.09634|Time spend=0.6427040100097656\n",
      "\tAROUSAL-s16|Acc=0.75333|10-CV=0.54667|STD=0.07448|Time spend=0.6220569610595703\n",
      "\tAROUSAL-s17|Acc=0.73333|10-CV=0.62333|STD=0.07359|Time spend=0.628711462020874\n",
      "\tAROUSAL-s18|Acc=0.665|10-CV=0.55533|STD=0.09915|Time spend=0.5813136100769043\n",
      "\tAROUSAL-s19|Acc=0.68333|10-CV=0.62867|STD=0.13189|Time spend=0.588115930557251\n",
      "-----WARNING: Model s20 failed to learn: sum(ans)=600.0 sum(y)=465.0 len(y)=600\n",
      "\tAROUSAL-s20|Acc=0.775|10-CV=0.82|STD=0.08718|Time spend=0.5752668380737305\n",
      "-----WARNING: Model s21 failed to learn: sum(ans)=600.0 sum(y)=480.0 len(y)=600\n",
      "\tAROUSAL-s21|Acc=0.8|10-CV=0.79933|STD=0.10068|Time spend=0.6234414577484131\n",
      "\tAROUSAL-s22|Acc=0.64167|10-CV=0.592|STD=0.07344|Time spend=0.6013896465301514\n",
      "-----WARNING: Model s23 failed to learn: sum(ans)=0.0 sum(y)=150.0 len(y)=600\n",
      "\tAROUSAL-s23|Acc=0.75|10-CV=0.78|STD=0.09798|Time spend=0.5766584873199463\n",
      "-----WARNING: Model s24 failed to learn: sum(ans)=600.0 sum(y)=495.0 len(y)=600\n",
      "\tAROUSAL-s24|Acc=0.825|10-CV=0.82|STD=0.07483|Time spend=0.5804822444915771\n",
      "-----WARNING: Model s25 failed to learn: sum(ans)=600.0 sum(y)=435.0 len(y)=600\n",
      "\tAROUSAL-s25|Acc=0.725|10-CV=0.73867|STD=0.12539|Time spend=0.6276183128356934\n",
      "\tAROUSAL-s26|Acc=0.63333|10-CV=0.50933|STD=0.11152|Time spend=0.6368207931518555\n",
      "\tAROUSAL-s27|Acc=0.71|10-CV=0.62333|STD=0.09565|Time spend=0.5935800075531006\n",
      "\tAROUSAL-s28|Acc=0.59667|10-CV=0.48267|STD=0.12111|Time spend=0.672802209854126\n",
      "\tAROUSAL-s29|Acc=0.68|10-CV=0.532|STD=0.0831|Time spend=0.6378529071807861\n",
      "\tAROUSAL-s30|Acc=0.63833|10-CV=0.49267|STD=0.0943|Time spend=0.6240112781524658\n",
      "\tAROUSAL-s31|Acc=0.725|10-CV=0.57333|STD=0.11828|Time spend=0.6428701877593994\n",
      "-----WARNING: Model s32 failed to learn: sum(ans)=600.0 sum(y)=405.0 len(y)=600\n",
      "\tAROUSAL-s32|Acc=0.675|10-CV=0.69|STD=0.1213|Time spend=0.6033344268798828\n",
      "AROUSAL|Acc=0.7020833333333335|10-CV=0.6156250000000002|STD=0.10065574691772229\n",
      "\tVALENCE-s01|Acc=0.68333|10-CV=0.47933|STD=0.09477|Time spend=0.4709506034851074\n",
      "\tVALENCE-s02|Acc=0.69833|10-CV=0.598|STD=0.12716|Time spend=0.39449357986450195\n",
      "\tVALENCE-s03|Acc=0.65833|10-CV=0.47467|STD=0.14341|Time spend=0.4293248653411865\n",
      "\tVALENCE-s04|Acc=0.69167|10-CV=0.534|STD=0.09496|Time spend=0.40945005416870117\n",
      "\tVALENCE-s05|Acc=0.66|10-CV=0.54933|STD=0.07608|Time spend=0.41463685035705566\n",
      "\tVALENCE-s06|Acc=0.75167|10-CV=0.71733|STD=0.07237|Time spend=0.4056878089904785\n",
      "-----WARNING: Model s07 failed to learn: sum(ans)=600.0 sum(y)=420.0 len(y)=600\n",
      "\tVALENCE-s07|Acc=0.7|10-CV=0.64867|STD=0.12103|Time spend=0.3949413299560547\n",
      "\tVALENCE-s08|Acc=0.69333|10-CV=0.48733|STD=0.08991|Time spend=0.43223023414611816\n",
      "\tVALENCE-s09|Acc=0.75167|10-CV=0.62467|STD=0.09661|Time spend=0.38890576362609863\n",
      "\tVALENCE-s10|Acc=0.78333|10-CV=0.72933|STD=0.0883|Time spend=0.3957834243774414\n",
      "\tVALENCE-s11|Acc=0.63667|10-CV=0.51867|STD=0.13114|Time spend=0.39467525482177734\n",
      "\tVALENCE-s12|Acc=0.69|10-CV=0.49533|STD=0.14655|Time spend=0.4044523239135742\n",
      "\tVALENCE-s13|Acc=0.79|10-CV=0.75533|STD=0.11959|Time spend=0.3846147060394287\n",
      "\tVALENCE-s14|Acc=0.755|10-CV=0.63467|STD=0.08676|Time spend=0.39692211151123047\n",
      "\tVALENCE-s15|Acc=0.81667|10-CV=0.72333|STD=0.05987|Time spend=0.4154472351074219\n",
      "\tVALENCE-s16|Acc=0.73833|10-CV=0.66267|STD=0.09862|Time spend=0.5372059345245361\n",
      "\tVALENCE-s17|Acc=0.63667|10-CV=0.436|STD=0.11287|Time spend=0.6110248565673828\n",
      "\tVALENCE-s18|Acc=0.81333|10-CV=0.692|STD=0.07035|Time spend=0.4069836139678955\n",
      "\tVALENCE-s19|Acc=0.67|10-CV=0.48267|STD=0.14001|Time spend=0.49559450149536133\n",
      "\tVALENCE-s20|Acc=0.77667|10-CV=0.64133|STD=0.12429|Time spend=0.48895978927612305\n",
      "\tVALENCE-s21|Acc=0.63833|10-CV=0.42733|STD=0.09158|Time spend=0.5413892269134521\n",
      "\tVALENCE-s22|Acc=0.73667|10-CV=0.63867|STD=0.10417|Time spend=0.4411745071411133\n",
      "\tVALENCE-s23|Acc=0.65667|10-CV=0.59467|STD=0.12854|Time spend=0.4666430950164795\n",
      "\tVALENCE-s24|Acc=0.62667|10-CV=0.456|STD=0.17002|Time spend=0.4652423858642578\n",
      "\tVALENCE-s25|Acc=0.64167|10-CV=0.41933|STD=0.1045|Time spend=0.49790024757385254\n",
      "-----WARNING: Model s26 failed to learn: sum(ans)=600.0 sum(y)=390.0 len(y)=600\n",
      "\tVALENCE-s26|Acc=0.65|10-CV=0.58667|STD=0.10881|Time spend=0.46555209159851074\n",
      "\tVALENCE-s27|Acc=0.75333|10-CV=0.66733|STD=0.12222|Time spend=0.4403421878814697\n",
      "\tVALENCE-s28|Acc=0.69|10-CV=0.53867|STD=0.11095|Time spend=0.4449961185455322\n",
      "\tVALENCE-s29|Acc=0.695|10-CV=0.51667|STD=0.08161|Time spend=0.41674351692199707\n",
      "-----WARNING: Model s30 failed to learn: sum(ans)=600.0 sum(y)=405.0 len(y)=600\n",
      "\tVALENCE-s30|Acc=0.675|10-CV=0.62|STD=0.14697|Time spend=0.4121241569519043\n",
      "\tVALENCE-s31|Acc=0.60333|10-CV=0.478|STD=0.09834|Time spend=0.4310312271118164\n",
      "\tVALENCE-s32|Acc=0.655|10-CV=0.52|STD=0.09023|Time spend=0.4568948745727539\n",
      "VALENCE|Acc=0.7005208333333333|10-CV=0.573375|STD=0.10789388443761021\n",
      "TOTAL|Acc=0.7013020833333332|10-CV=0.5945|STD=0.10427481567766626\n"
     ]
    }
   ],
   "source": [
    "bands = [(0,4), (4,8), (8,12), (12,30), (30,64)]\n",
    "# [alias_feature_function]__[optional_param]\n",
    "params = dict({\n",
    "    'pow_freq_bands__log':True,\n",
    "    'pow_freq_bands__normalize':False,\n",
    "    'pow_freq_bands__freq_bands':bands\n",
    "})\n",
    "\n",
    "\n",
    "accs,cv_means,cv_stds  = [],[],[]\n",
    "# count = 0\n",
    "for filename in dataset.get_file_list():\n",
    "    start = time.time()\n",
    "    data, labels, groups = dataset.get_data(filename, stimuli=Dataset_subjectDependent.STIMULI_AROUSAL, return_type='numpy')\n",
    "    fe = FeatureExtractor(sfreq=128, selected_funcs=['pow_freq_bands'],params=params,n_jobs=8)\n",
    "    X = fe.fit_transform(X=data)\n",
    "    _, acc, cross = train_model(X, labels.reshape(-1), groups,filename=filename)\n",
    "    print(f\"\\tAROUSAL-{filename}|Acc={round(acc,5)}|10-CV={round(cross.mean(),5)}|STD={round(cross.std(),5)}|Time spend={time.time() - start}\")\n",
    "    accs.append(acc)\n",
    "    cv_means.append(cross.mean())\n",
    "    cv_stds.append(cross.std())\n",
    "    # count+=1\n",
    "    # if(count == 5): break\n",
    "print(f\"AROUSAL|Acc={sum(accs)/len(accs)}|10-CV={sum(cv_means)/len(cv_means)}|STD={sum(cv_stds)/len(cv_stds)}\")\n",
    "\n",
    "accs_v,cv_means_v,cv_stds_v  = [],[],[]\n",
    "# count=0\n",
    "for filename in dataset.get_file_list():\n",
    "    start = time.time()\n",
    "    data, labels, groups = dataset.get_data(filename, stimuli=Dataset_subjectDependent.STIMULI_VALENCE, return_type='numpy')\n",
    "    fe = FeatureExtractor(sfreq=128, selected_funcs=['pow_freq_bands'],params=params,n_jobs=8)\n",
    "    X = fe.fit_transform(X=data)\n",
    "    _, acc, cross = train_model(X, labels.reshape(-1), groups,filename=filename)\n",
    "    print(f\"\\tVALENCE-{filename}|Acc={round(acc,5)}|10-CV={round(cross.mean(),5)}|STD={round(cross.std(),5)}|Time spend={time.time() - start}\")\n",
    "    accs_v.append(acc)\n",
    "    cv_means_v.append(cross.mean())\n",
    "    cv_stds_v.append(cross.std())\n",
    "    # count+=1\n",
    "    # if(count == 5): break\n",
    "print(f\"VALENCE|Acc={sum(accs_v)/len(accs_v)}|10-CV={sum(cv_means_v)/len(cv_means_v)}|STD={sum(cv_stds_v)/len(cv_stds_v)}\")\n",
    "\n",
    "accs.extend(accs_v)\n",
    "cv_means.extend(cv_means_v)\n",
    "cv_stds.extend(cv_stds_v)\n",
    "print(f\"TOTAL|Acc={sum(accs)/len(accs)}|10-CV={sum(cv_means)/len(cv_means)}|STD={sum(cv_stds)/len(cv_stds)}\")"
   ]
  },
  {
   "cell_type": "markdown",
   "metadata": {},
   "source": [
    "## 3. Asymetry"
   ]
  },
  {
   "cell_type": "code",
   "execution_count": 5,
   "metadata": {},
   "outputs": [
    {
     "name": "stdout",
     "output_type": "stream",
     "text": [
      "left_channel_indexes=[0, 3, 2, 7, 11, 6, 10, 13, 1, 4, 5, 8, 9, 12]\n",
      "right_channel_indexes=[16, 20, 19, 25, 29, 24, 28, 31, 17, 21, 22, 26, 27, 30]\n",
      "frontal_channel_indexes=[4, 5, 22, 21, 3, 2, 18, 19, 20, 0, 16]\n",
      "posterior_channel_indexes=[8, 9, 27, 26, 11, 10, 15, 28, 29, 13, 31]\n"
     ]
    }
   ],
   "source": [
    "channels = ['Fp1','AF3','F3','F7','FC5','FC1','C3','T7','CP5','CP1','P3','P7','PO3','O1','Oz','Pz','Fp2','AF4','Fz','F4','F8','FC6','FC2','Cz','C4','T8','CP6','CP2','P4','P8','PO4','O2']\n",
    "left_channels = ['Fp1','F7','F3','T7','P7','C3','P3','O1','AF3','FC5','FC1','CP5','CP1','PO3']\n",
    "right_channels = ['Fp2','F8','F4','T8','P8','C4','P4','O2','AF4','FC6','FC2','CP6','CP2','PO4']\n",
    "left_channel_indexes = [ channels.index(ch) for ch in left_channels ]\n",
    "right_channel_indexes = [ channels.index(ch) for ch in right_channels ]\n",
    "\n",
    "print(f\"{left_channel_indexes=}\")\n",
    "print(f\"{right_channel_indexes=}\")\n",
    "\n",
    "frontal_channels = ['FC5','FC1','FC2','FC6','F7','F3','Fz','F4','F8','Fp1','Fp2']\n",
    "posterior_channels = ['CP5','CP1','CP2','CP6','P7','P3','Pz','P4','P8','O1','O2']\n",
    "\n",
    "frontal_channel_indexes = [ channels.index(ch) for ch in frontal_channels ]\n",
    "posterior_channel_indexes = [ channels.index(ch) for ch in posterior_channels ]\n",
    "\n",
    "print(f\"{frontal_channel_indexes=}\")\n",
    "print(f\"{posterior_channel_indexes=}\")"
   ]
  },
  {
   "cell_type": "code",
   "execution_count": 6,
   "metadata": {},
   "outputs": [
    {
     "name": "stdout",
     "output_type": "stream",
     "text": [
      "-----WARNING: Model s01 failed to learn: sum(ans)=600.0 sum(y)=360.0 len(y)=600\n",
      "\tAROUSAL-s01-DASM|Acc=0.6|10-CV=0.538|STD=0.13206|Time spend=0.36437177658081055\n",
      "\tAROUSAL-s01-RASM|Acc=0.61333|10-CV=0.558|STD=0.15409|Time spend=0.4083542823791504\n",
      "\tAROUSAL-s01-DCAU|Acc=0.60167|10-CV=0.51667|STD=0.11878|Time spend=0.4462447166442871\n",
      "\tAROUSAL-s02-DASM|Acc=0.63|10-CV=0.53933|STD=0.08986|Time spend=0.3340623378753662\n",
      "\tAROUSAL-s02-RASM|Acc=0.60333|10-CV=0.49867|STD=0.16825|Time spend=0.37640976905822754\n",
      "\tAROUSAL-s02-DCAU|Acc=0.63167|10-CV=0.53733|STD=0.08714|Time spend=0.41666555404663086\n",
      "-----WARNING: Model s03 failed to learn: sum(ans)=0.0 sum(y)=120.0 len(y)=600\n",
      "\tAROUSAL-s03-DASM|Acc=0.8|10-CV=0.73|STD=0.15524|Time spend=0.34456801414489746\n",
      "\tAROUSAL-s03-RASM|Acc=0.80667|10-CV=0.72933|STD=0.15538|Time spend=0.37246155738830566\n",
      "-----WARNING: Model s03 failed to learn: sum(ans)=0.0 sum(y)=120.0 len(y)=600\n",
      "\tAROUSAL-s03-DCAU|Acc=0.8|10-CV=0.73|STD=0.15524|Time spend=0.4097278118133545\n",
      "\tAROUSAL-s04-DASM|Acc=0.63333|10-CV=0.53867|STD=0.1176|Time spend=0.3559994697570801\n",
      "\tAROUSAL-s04-RASM|Acc=0.61167|10-CV=0.54867|STD=0.11423|Time spend=0.396559476852417\n",
      "\tAROUSAL-s04-DCAU|Acc=0.63833|10-CV=0.54667|STD=0.11635|Time spend=0.4409146308898926\n",
      "\tAROUSAL-s05-DASM|Acc=0.57833|10-CV=0.40733|STD=0.09345|Time spend=0.39452648162841797\n",
      "\tAROUSAL-s05-RASM|Acc=0.52667|10-CV=0.38867|STD=0.10302|Time spend=0.4379751682281494\n",
      "\tAROUSAL-s05-DCAU|Acc=0.58667|10-CV=0.41067|STD=0.0968|Time spend=0.48195695877075195\n",
      "\tAROUSAL-s06-DASM|Acc=0.62|10-CV=0.534|STD=0.14552|Time spend=0.35364794731140137\n",
      "\tAROUSAL-s06-RASM|Acc=0.57667|10-CV=0.542|STD=0.15059|Time spend=0.3971133232116699\n",
      "\tAROUSAL-s06-DCAU|Acc=0.60667|10-CV=0.53133|STD=0.14949|Time spend=0.44288086891174316\n",
      "\tAROUSAL-s07-DASM|Acc=0.63167|10-CV=0.63067|STD=0.12177|Time spend=0.3594021797180176\n",
      "\tAROUSAL-s07-RASM|Acc=0.62833|10-CV=0.65|STD=0.14318|Time spend=0.40558409690856934\n",
      "-----WARNING: Model s07 failed to learn: sum(ans)=600.0 sum(y)=375.0 len(y)=600\n",
      "\tAROUSAL-s07-DCAU|Acc=0.625|10-CV=0.64133|STD=0.1309|Time spend=0.44620847702026367\n",
      "\tAROUSAL-s08-DASM|Acc=0.6|10-CV=0.414|STD=0.09686|Time spend=0.3574693202972412\n",
      "\tAROUSAL-s08-RASM|Acc=0.58667|10-CV=0.506|STD=0.14568|Time spend=0.403728723526001\n",
      "\tAROUSAL-s08-DCAU|Acc=0.65167|10-CV=0.416|STD=0.10927|Time spend=0.45011019706726074\n",
      "\tAROUSAL-s09-DASM|Acc=0.645|10-CV=0.50267|STD=0.09176|Time spend=0.3986854553222656\n",
      "-----WARNING: Model s09 failed to learn: sum(ans)=600.0 sum(y)=360.0 len(y)=600\n",
      "\tAROUSAL-s09-RASM|Acc=0.6|10-CV=0.548|STD=0.11843|Time spend=0.4387803077697754\n",
      "\tAROUSAL-s09-DCAU|Acc=0.63667|10-CV=0.48067|STD=0.08451|Time spend=0.47837162017822266\n",
      "\tAROUSAL-s10-DASM|Acc=0.65833|10-CV=0.56|STD=0.07706|Time spend=0.38332366943359375\n",
      "\tAROUSAL-s10-RASM|Acc=0.55667|10-CV=0.448|STD=0.0953|Time spend=0.42813825607299805\n",
      "\tAROUSAL-s10-DCAU|Acc=0.68167|10-CV=0.554|STD=0.08074|Time spend=0.4682466983795166\n",
      "-----WARNING: Model s11 failed to learn: sum(ans)=0.0 sum(y)=225.0 len(y)=600\n",
      "\tAROUSAL-s11-DASM|Acc=0.625|10-CV=0.59733|STD=0.06031|Time spend=0.37410807609558105\n",
      "\tAROUSAL-s11-RASM|Acc=0.62667|10-CV=0.592|STD=0.06625|Time spend=0.41863465309143066\n",
      "\tAROUSAL-s11-DCAU|Acc=0.62667|10-CV=0.588|STD=0.04879|Time spend=0.4618806838989258\n",
      "-----WARNING: Model s12 failed to learn: sum(ans)=600.0 sum(y)=495.0 len(y)=600\n",
      "\tAROUSAL-s12-DASM|Acc=0.825|10-CV=0.83|STD=0.1005|Time spend=0.40870189666748047\n",
      "-----WARNING: Model s12 failed to learn: sum(ans)=600.0 sum(y)=495.0 len(y)=600\n",
      "\tAROUSAL-s12-RASM|Acc=0.825|10-CV=0.83|STD=0.1005|Time spend=0.44205665588378906\n",
      "-----WARNING: Model s12 failed to learn: sum(ans)=600.0 sum(y)=495.0 len(y)=600\n",
      "\tAROUSAL-s12-DCAU|Acc=0.825|10-CV=0.83|STD=0.1005|Time spend=0.4854285717010498\n",
      "-----WARNING: Model s13 failed to learn: sum(ans)=600.0 sum(y)=510.0 len(y)=600\n",
      "\tAROUSAL-s13-DASM|Acc=0.85|10-CV=0.84|STD=0.06633|Time spend=0.4103875160217285\n",
      "\tAROUSAL-s13-RASM|Acc=0.85333|10-CV=0.84|STD=0.06633|Time spend=0.4535391330718994\n",
      "-----WARNING: Model s13 failed to learn: sum(ans)=600.0 sum(y)=510.0 len(y)=600\n",
      "\tAROUSAL-s13-DCAU|Acc=0.85|10-CV=0.84|STD=0.06633|Time spend=0.48871779441833496\n",
      "-----WARNING: Model s14 failed to learn: sum(ans)=600.0 sum(y)=405.0 len(y)=600\n",
      "\tAROUSAL-s14-DASM|Acc=0.675|10-CV=0.65|STD=0.10247|Time spend=0.37755894660949707\n",
      "\tAROUSAL-s14-RASM|Acc=0.68333|10-CV=0.64867|STD=0.10185|Time spend=0.42286038398742676\n",
      "-----WARNING: Model s14 failed to learn: sum(ans)=600.0 sum(y)=405.0 len(y)=600\n",
      "\tAROUSAL-s14-DCAU|Acc=0.675|10-CV=0.65|STD=0.10247|Time spend=0.46682214736938477\n",
      "\tAROUSAL-s15-DASM|Acc=0.69|10-CV=0.542|STD=0.08252|Time spend=0.3858191967010498\n",
      "\tAROUSAL-s15-RASM|Acc=0.535|10-CV=0.408|STD=0.07612|Time spend=0.43128514289855957\n",
      "\tAROUSAL-s15-DCAU|Acc=0.67167|10-CV=0.54733|STD=0.07885|Time spend=0.47203898429870605\n",
      "\tAROUSAL-s16-DASM|Acc=0.62667|10-CV=0.44533|STD=0.10171|Time spend=0.39129209518432617\n",
      "\tAROUSAL-s16-RASM|Acc=0.53333|10-CV=0.34|STD=0.08924|Time spend=0.44705653190612793\n",
      "\tAROUSAL-s16-DCAU|Acc=0.61667|10-CV=0.45533|STD=0.09938|Time spend=0.4891068935394287\n",
      "\tAROUSAL-s17-DASM|Acc=0.71667|10-CV=0.638|STD=0.0848|Time spend=0.5005054473876953\n",
      "\tAROUSAL-s17-RASM|Acc=0.60167|10-CV=0.56867|STD=0.09794|Time spend=0.553961992263794\n",
      "\tAROUSAL-s17-DCAU|Acc=0.70333|10-CV=0.606|STD=0.08587|Time spend=0.6020772457122803\n",
      "\tAROUSAL-s18-DASM|Acc=0.64333|10-CV=0.54467|STD=0.10328|Time spend=0.39165306091308594\n",
      "\tAROUSAL-s18-RASM|Acc=0.63333|10-CV=0.59733|STD=0.1368|Time spend=0.4461181163787842\n",
      "\tAROUSAL-s18-DCAU|Acc=0.64167|10-CV=0.56267|STD=0.09934|Time spend=0.49039649963378906\n",
      "\tAROUSAL-s19-DASM|Acc=0.68|10-CV=0.63067|STD=0.13588|Time spend=0.4230794906616211\n",
      "\tAROUSAL-s19-RASM|Acc=0.67667|10-CV=0.62933|STD=0.13321|Time spend=0.47124290466308594\n",
      "\tAROUSAL-s19-DCAU|Acc=0.68833|10-CV=0.62933|STD=0.13519|Time spend=0.532418966293335\n",
      "-----WARNING: Model s20 failed to learn: sum(ans)=600.0 sum(y)=465.0 len(y)=600\n",
      "\tAROUSAL-s20-DASM|Acc=0.775|10-CV=0.82|STD=0.08718|Time spend=0.4010906219482422\n",
      "\tAROUSAL-s20-RASM|Acc=0.78|10-CV=0.81933|STD=0.08735|Time spend=0.43731093406677246\n",
      "-----WARNING: Model s20 failed to learn: sum(ans)=600.0 sum(y)=465.0 len(y)=600\n",
      "\tAROUSAL-s20-DCAU|Acc=0.775|10-CV=0.82|STD=0.08718|Time spend=0.4832117557525635\n",
      "-----WARNING: Model s21 failed to learn: sum(ans)=600.0 sum(y)=480.0 len(y)=600\n",
      "\tAROUSAL-s21-DASM|Acc=0.8|10-CV=0.8|STD=0.1|Time spend=0.37654638290405273\n",
      "\tAROUSAL-s21-RASM|Acc=0.805|10-CV=0.802|STD=0.09803|Time spend=0.40840601921081543\n",
      "-----WARNING: Model s21 failed to learn: sum(ans)=600.0 sum(y)=480.0 len(y)=600\n",
      "\tAROUSAL-s21-DCAU|Acc=0.8|10-CV=0.8|STD=0.1|Time spend=0.4489555358886719\n",
      "\tAROUSAL-s22-DASM|Acc=0.64833|10-CV=0.60733|STD=0.07214|Time spend=0.45117688179016113\n",
      "\tAROUSAL-s22-RASM|Acc=0.63667|10-CV=0.596|STD=0.07861|Time spend=0.49982237815856934\n",
      "\tAROUSAL-s22-DCAU|Acc=0.63833|10-CV=0.59|STD=0.06911|Time spend=0.5457649230957031\n",
      "-----WARNING: Model s23 failed to learn: sum(ans)=0.0 sum(y)=150.0 len(y)=600\n",
      "\tAROUSAL-s23-DASM|Acc=0.75|10-CV=0.78|STD=0.09798|Time spend=0.382387638092041\n",
      "\tAROUSAL-s23-RASM|Acc=0.75667|10-CV=0.78|STD=0.09798|Time spend=0.414853572845459\n",
      "-----WARNING: Model s23 failed to learn: sum(ans)=0.0 sum(y)=150.0 len(y)=600\n",
      "\tAROUSAL-s23-DCAU|Acc=0.75|10-CV=0.78|STD=0.09798|Time spend=0.4508626461029053\n",
      "-----WARNING: Model s24 failed to learn: sum(ans)=600.0 sum(y)=495.0 len(y)=600\n",
      "\tAROUSAL-s24-DASM|Acc=0.825|10-CV=0.82|STD=0.07483|Time spend=0.36788082122802734\n",
      "-----WARNING: Model s24 failed to learn: sum(ans)=600.0 sum(y)=495.0 len(y)=600\n",
      "\tAROUSAL-s24-RASM|Acc=0.825|10-CV=0.82|STD=0.07483|Time spend=0.4059581756591797\n",
      "-----WARNING: Model s24 failed to learn: sum(ans)=600.0 sum(y)=495.0 len(y)=600\n",
      "\tAROUSAL-s24-DCAU|Acc=0.825|10-CV=0.82|STD=0.07483|Time spend=0.44500279426574707\n",
      "-----WARNING: Model s25 failed to learn: sum(ans)=600.0 sum(y)=435.0 len(y)=600\n",
      "\tAROUSAL-s25-DASM|Acc=0.725|10-CV=0.73933|STD=0.12672|Time spend=0.37483882904052734\n",
      "\tAROUSAL-s25-RASM|Acc=0.73|10-CV=0.73867|STD=0.12539|Time spend=0.4129524230957031\n",
      "-----WARNING: Model s25 failed to learn: sum(ans)=600.0 sum(y)=435.0 len(y)=600\n",
      "\tAROUSAL-s25-DCAU|Acc=0.725|10-CV=0.73933|STD=0.12672|Time spend=0.4521975517272949\n",
      "\tAROUSAL-s26-DASM|Acc=0.645|10-CV=0.554|STD=0.12424|Time spend=0.3614320755004883\n",
      "\tAROUSAL-s26-RASM|Acc=0.585|10-CV=0.56933|STD=0.14616|Time spend=0.404010534286499\n",
      "\tAROUSAL-s26-DCAU|Acc=0.62833|10-CV=0.528|STD=0.11403|Time spend=0.44641804695129395\n",
      "\tAROUSAL-s27-DASM|Acc=0.71|10-CV=0.63333|STD=0.09861|Time spend=0.3620574474334717\n",
      "\tAROUSAL-s27-RASM|Acc=0.69167|10-CV=0.644|STD=0.10984|Time spend=0.3997988700866699\n",
      "\tAROUSAL-s27-DCAU|Acc=0.68167|10-CV=0.62867|STD=0.09592|Time spend=0.44408512115478516\n",
      "\tAROUSAL-s28-DASM|Acc=0.57|10-CV=0.424|STD=0.154|Time spend=0.36763882637023926\n",
      "-----WARNING: Model s28 failed to learn: sum(ans)=0.0 sum(y)=270.0 len(y)=600\n",
      "\tAROUSAL-s28-RASM|Acc=0.55|10-CV=0.394|STD=0.15596|Time spend=0.4140441417694092\n",
      "\tAROUSAL-s28-DCAU|Acc=0.56333|10-CV=0.43067|STD=0.15035|Time spend=0.46140551567077637\n",
      "\tAROUSAL-s29-DASM|Acc=0.64|10-CV=0.524|STD=0.08413|Time spend=0.3789029121398926\n",
      "-----WARNING: Model s29 failed to learn: sum(ans)=600.0 sum(y)=375.0 len(y)=600\n",
      "\tAROUSAL-s29-RASM|Acc=0.625|10-CV=0.53|STD=0.09|Time spend=0.41591954231262207\n",
      "\tAROUSAL-s29-DCAU|Acc=0.62667|10-CV=0.524|STD=0.08637|Time spend=0.45894956588745117\n",
      "\tAROUSAL-s30-DASM|Acc=0.62|10-CV=0.46533|STD=0.10017|Time spend=0.40079808235168457\n",
      "\tAROUSAL-s30-RASM|Acc=0.54833|10-CV=0.448|STD=0.11115|Time spend=0.44390082359313965\n",
      "\tAROUSAL-s30-DCAU|Acc=0.61167|10-CV=0.46267|STD=0.08719|Time spend=0.4866211414337158\n",
      "\tAROUSAL-s31-DASM|Acc=0.69833|10-CV=0.60933|STD=0.13321|Time spend=0.3727109432220459\n",
      "\tAROUSAL-s31-RASM|Acc=0.55|10-CV=0.434|STD=0.11808|Time spend=0.426821231842041\n",
      "\tAROUSAL-s31-DCAU|Acc=0.68167|10-CV=0.572|STD=0.12655|Time spend=0.47281527519226074\n",
      "-----WARNING: Model s32 failed to learn: sum(ans)=600.0 sum(y)=405.0 len(y)=600\n",
      "\tAROUSAL-s32-DASM|Acc=0.675|10-CV=0.73733|STD=0.12394|Time spend=0.35777783393859863\n",
      "\tAROUSAL-s32-RASM|Acc=0.68|10-CV=0.74867|STD=0.13702|Time spend=0.39780688285827637\n",
      "\tAROUSAL-s32-DCAU|Acc=0.67667|10-CV=0.71333|STD=0.12169|Time spend=0.4398798942565918\n",
      "AROUSAL-DASM|Acc=0.6815625000000002|10-CV=0.6133333333333332|STD=0.10425432662942634\n",
      "AROUSAL-RASM|Acc=0.6513020833333333|10-CV=0.5998541666666666|STD=0.11396167004496405\n",
      "AROUSAL-DCAU|Acc=0.6794270833333335|10-CV=0.6088125000000001|STD=0.1026207970761803\n",
      "\tVALENCE-s01-DASM|Acc=0.55333|10-CV=0.416|STD=0.06668|Time spend=0.38655686378479004\n",
      "\tVALENCE-s01-RASM|Acc=0.54667|10-CV=0.418|STD=0.08475|Time spend=0.4287264347076416\n",
      "\tVALENCE-s01-DCAU|Acc=0.575|10-CV=0.42|STD=0.06346|Time spend=0.47249269485473633\n",
      "\tVALENCE-s02-DASM|Acc=0.695|10-CV=0.59067|STD=0.10234|Time spend=0.4061319828033447\n",
      "-----WARNING: Model s02 failed to learn: sum(ans)=600.0 sum(y)=330.0 len(y)=600\n",
      "\tVALENCE-s02-RASM|Acc=0.55|10-CV=0.424|STD=0.10346|Time spend=0.45462560653686523\n",
      "\tVALENCE-s02-DCAU|Acc=0.71833|10-CV=0.646|STD=0.09444|Time spend=0.4986441135406494\n",
      "\tVALENCE-s03-DASM|Acc=0.615|10-CV=0.46067|STD=0.13979|Time spend=0.3717992305755615\n",
      "\tVALENCE-s03-RASM|Acc=0.56833|10-CV=0.49667|STD=0.16774|Time spend=0.41570210456848145\n",
      "\tVALENCE-s03-DCAU|Acc=0.62|10-CV=0.466|STD=0.13579|Time spend=0.4613654613494873\n",
      "\tVALENCE-s04-DASM|Acc=0.66667|10-CV=0.53067|STD=0.09662|Time spend=0.3747882843017578\n",
      "\tVALENCE-s04-RASM|Acc=0.60833|10-CV=0.51267|STD=0.08756|Time spend=0.4142324924468994\n",
      "\tVALENCE-s04-DCAU|Acc=0.68167|10-CV=0.55733|STD=0.08729|Time spend=0.459197998046875\n",
      "\tVALENCE-s05-DASM|Acc=0.61833|10-CV=0.54267|STD=0.07101|Time spend=0.3677084445953369\n",
      "\tVALENCE-s05-RASM|Acc=0.60333|10-CV=0.61867|STD=0.13189|Time spend=0.40793442726135254\n",
      "\tVALENCE-s05-DCAU|Acc=0.63833|10-CV=0.54667|STD=0.09151|Time spend=0.45058774948120117\n",
      "-----WARNING: Model s06 failed to learn: sum(ans)=600.0 sum(y)=450.0 len(y)=600\n",
      "\tVALENCE-s06-DASM|Acc=0.75|10-CV=0.72|STD=0.07483|Time spend=0.3641197681427002\n",
      "\tVALENCE-s06-RASM|Acc=0.75167|10-CV=0.72|STD=0.07483|Time spend=0.3986499309539795\n",
      "-----WARNING: Model s06 failed to learn: sum(ans)=600.0 sum(y)=450.0 len(y)=600\n",
      "\tVALENCE-s06-DCAU|Acc=0.75|10-CV=0.72|STD=0.07483|Time spend=0.44304513931274414\n",
      "-----WARNING: Model s07 failed to learn: sum(ans)=600.0 sum(y)=420.0 len(y)=600\n",
      "\tVALENCE-s07-DASM|Acc=0.7|10-CV=0.688|STD=0.13452|Time spend=0.36812806129455566\n",
      "\tVALENCE-s07-RASM|Acc=0.70667|10-CV=0.68933|STD=0.13647|Time spend=0.40775179862976074\n",
      "-----WARNING: Model s07 failed to learn: sum(ans)=600.0 sum(y)=420.0 len(y)=600\n",
      "\tVALENCE-s07-DCAU|Acc=0.7|10-CV=0.69|STD=0.13748|Time spend=0.4483635425567627\n",
      "\tVALENCE-s08-DASM|Acc=0.64333|10-CV=0.49333|STD=0.08994|Time spend=0.37256956100463867\n",
      "\tVALENCE-s08-RASM|Acc=0.55667|10-CV=0.44867|STD=0.12242|Time spend=0.41538429260253906\n",
      "\tVALENCE-s08-DCAU|Acc=0.69167|10-CV=0.47533|STD=0.08045|Time spend=0.459308385848999\n",
      "\tVALENCE-s09-DASM|Acc=0.735|10-CV=0.62667|STD=0.10667|Time spend=0.352433443069458\n",
      "\tVALENCE-s09-RASM|Acc=0.55167|10-CV=0.46467|STD=0.14243|Time spend=0.39615893363952637\n",
      "\tVALENCE-s09-DCAU|Acc=0.73|10-CV=0.65067|STD=0.08139|Time spend=0.43668341636657715\n",
      "\tVALENCE-s10-DASM|Acc=0.78667|10-CV=0.71|STD=0.0846|Time spend=0.3502833843231201\n",
      "\tVALENCE-s10-RASM|Acc=0.65333|10-CV=0.41333|STD=0.16831|Time spend=0.39713168144226074\n",
      "\tVALENCE-s10-DCAU|Acc=0.79167|10-CV=0.722|STD=0.07786|Time spend=0.43639039993286133\n",
      "\tVALENCE-s11-DASM|Acc=0.61|10-CV=0.528|STD=0.13856|Time spend=0.36748671531677246\n",
      "\tVALENCE-s11-RASM|Acc=0.615|10-CV=0.526|STD=0.13596|Time spend=0.41089868545532227\n",
      "\tVALENCE-s11-DCAU|Acc=0.62833|10-CV=0.51867|STD=0.13436|Time spend=0.4554784297943115\n",
      "\tVALENCE-s12-DASM|Acc=0.64833|10-CV=0.49333|STD=0.14594|Time spend=0.3678467273712158\n",
      "\tVALENCE-s12-RASM|Acc=0.52667|10-CV=0.38533|STD=0.10004|Time spend=0.4091956615447998\n",
      "\tVALENCE-s12-DCAU|Acc=0.60167|10-CV=0.44533|STD=0.15292|Time spend=0.4536423683166504\n",
      "\tVALENCE-s13-DASM|Acc=0.73|10-CV=0.682|STD=0.11993|Time spend=0.3686847686767578\n",
      "\tVALENCE-s13-RASM|Acc=0.59|10-CV=0.48067|STD=0.1596|Time spend=0.4113576412200928\n",
      "\tVALENCE-s13-DCAU|Acc=0.76833|10-CV=0.728|STD=0.10379|Time spend=0.4494435787200928\n",
      "\tVALENCE-s14-DASM|Acc=0.69167|10-CV=0.55267|STD=0.08451|Time spend=0.3591887950897217\n",
      "\tVALENCE-s14-RASM|Acc=0.55833|10-CV=0.39067|STD=0.0531|Time spend=0.402972936630249\n",
      "\tVALENCE-s14-DCAU|Acc=0.69667|10-CV=0.56667|STD=0.07531|Time spend=0.44589757919311523\n",
      "\tVALENCE-s15-DASM|Acc=0.76333|10-CV=0.69|STD=0.07032|Time spend=0.36196279525756836\n",
      "\tVALENCE-s15-RASM|Acc=0.52667|10-CV=0.38733|STD=0.07777|Time spend=0.4118828773498535\n",
      "\tVALENCE-s15-DCAU|Acc=0.77333|10-CV=0.71733|STD=0.07225|Time spend=0.44913434982299805\n",
      "\tVALENCE-s16-DASM|Acc=0.71|10-CV=0.63533|STD=0.09295|Time spend=0.3649742603302002\n",
      "\tVALENCE-s16-RASM|Acc=0.63167|10-CV=0.638|STD=0.10084|Time spend=0.4106273651123047\n",
      "\tVALENCE-s16-DCAU|Acc=0.70167|10-CV=0.642|STD=0.08182|Time spend=0.45276427268981934\n",
      "\tVALENCE-s17-DASM|Acc=0.55167|10-CV=0.42733|STD=0.09755|Time spend=0.3708629608154297\n",
      "\tVALENCE-s17-RASM|Acc=0.555|10-CV=0.46933|STD=0.16795|Time spend=0.423048734664917\n",
      "\tVALENCE-s17-DCAU|Acc=0.565|10-CV=0.40733|STD=0.08654|Time spend=0.4718751907348633\n",
      "\tVALENCE-s18-DASM|Acc=0.765|10-CV=0.66|STD=0.07665|Time spend=0.38859987258911133\n",
      "\tVALENCE-s18-RASM|Acc=0.61167|10-CV=0.56933|STD=0.16479|Time spend=0.4326505661010742\n",
      "\tVALENCE-s18-DCAU|Acc=0.77833|10-CV=0.692|STD=0.05961|Time spend=0.4702298641204834\n",
      "\tVALENCE-s19-DASM|Acc=0.64667|10-CV=0.46733|STD=0.142|Time spend=0.3720057010650635\n",
      "\tVALENCE-s19-RASM|Acc=0.57667|10-CV=0.43933|STD=0.19024|Time spend=0.41516613960266113\n",
      "\tVALENCE-s19-DCAU|Acc=0.64|10-CV=0.45|STD=0.12949|Time spend=0.4584383964538574\n",
      "\tVALENCE-s20-DASM|Acc=0.73167|10-CV=0.58067|STD=0.1651|Time spend=0.3622426986694336\n",
      "\tVALENCE-s20-RASM|Acc=0.58667|10-CV=0.444|STD=0.17951|Time spend=0.40369176864624023\n",
      "\tVALENCE-s20-DCAU|Acc=0.72333|10-CV=0.554|STD=0.16307|Time spend=0.44258975982666016\n",
      "\tVALENCE-s21-DASM|Acc=0.615|10-CV=0.418|STD=0.08512|Time spend=0.3736569881439209\n",
      "\tVALENCE-s21-RASM|Acc=0.54167|10-CV=0.37|STD=0.08719|Time spend=0.4168710708618164\n",
      "\tVALENCE-s21-DCAU|Acc=0.58833|10-CV=0.42533|STD=0.08021|Time spend=0.46378040313720703\n",
      "\tVALENCE-s22-DASM|Acc=0.60833|10-CV=0.524|STD=0.09358|Time spend=0.3730626106262207\n",
      "\tVALENCE-s22-RASM|Acc=0.59333|10-CV=0.502|STD=0.08994|Time spend=0.4167001247406006\n",
      "\tVALENCE-s22-DCAU|Acc=0.58833|10-CV=0.518|STD=0.09353|Time spend=0.46131300926208496\n",
      "-----WARNING: Model s23 failed to learn: sum(ans)=600.0 sum(y)=390.0 len(y)=600\n",
      "\tVALENCE-s23-DASM|Acc=0.65|10-CV=0.58133|STD=0.10937|Time spend=0.3710312843322754\n",
      "\tVALENCE-s23-RASM|Acc=0.65833|10-CV=0.60867|STD=0.1488|Time spend=0.41507673263549805\n",
      "-----WARNING: Model s23 failed to learn: sum(ans)=600.0 sum(y)=390.0 len(y)=600\n",
      "\tVALENCE-s23-DCAU|Acc=0.65|10-CV=0.59533|STD=0.12779|Time spend=0.45717501640319824\n",
      "\tVALENCE-s24-DASM|Acc=0.625|10-CV=0.448|STD=0.19076|Time spend=0.3666701316833496\n",
      "\tVALENCE-s24-RASM|Acc=0.55667|10-CV=0.434|STD=0.17815|Time spend=0.409454345703125\n",
      "\tVALENCE-s24-DCAU|Acc=0.65|10-CV=0.51933|STD=0.11193|Time spend=0.4519786834716797\n",
      "\tVALENCE-s25-DASM|Acc=0.58667|10-CV=0.37067|STD=0.10487|Time spend=0.3620328903198242\n",
      "\tVALENCE-s25-RASM|Acc=0.53|10-CV=0.35533|STD=0.09499|Time spend=0.405442476272583\n",
      "\tVALENCE-s25-DCAU|Acc=0.58333|10-CV=0.37533|STD=0.08999|Time spend=0.44995903968811035\n",
      "-----WARNING: Model s26 failed to learn: sum(ans)=600.0 sum(y)=390.0 len(y)=600\n",
      "\tVALENCE-s26-DASM|Acc=0.65|10-CV=0.588|STD=0.11099|Time spend=0.37293553352355957\n",
      "\tVALENCE-s26-RASM|Acc=0.66|10-CV=0.62|STD=0.13818|Time spend=0.4195868968963623\n",
      "\tVALENCE-s26-DCAU|Acc=0.65833|10-CV=0.59267|STD=0.11444|Time spend=0.46234631538391113\n",
      "-----WARNING: Model s27 failed to learn: sum(ans)=600.0 sum(y)=450.0 len(y)=600\n",
      "\tVALENCE-s27-DASM|Acc=0.75|10-CV=0.67|STD=0.12689|Time spend=0.3712036609649658\n",
      "\tVALENCE-s27-RASM|Acc=0.75833|10-CV=0.66733|STD=0.12524|Time spend=0.40666913986206055\n",
      "-----WARNING: Model s27 failed to learn: sum(ans)=600.0 sum(y)=450.0 len(y)=600\n",
      "\tVALENCE-s27-DCAU|Acc=0.75|10-CV=0.67|STD=0.12689|Time spend=0.4484071731567383\n",
      "-----WARNING: Model s28 failed to learn: sum(ans)=600.0 sum(y)=375.0 len(y)=600\n",
      "\tVALENCE-s28-DASM|Acc=0.625|10-CV=0.53933|STD=0.12028|Time spend=0.37259626388549805\n",
      "\tVALENCE-s28-RASM|Acc=0.62667|10-CV=0.61|STD=0.19209|Time spend=0.40882015228271484\n",
      "-----WARNING: Model s28 failed to learn: sum(ans)=600.0 sum(y)=375.0 len(y)=600\n",
      "\tVALENCE-s28-DCAU|Acc=0.625|10-CV=0.55133|STD=0.13037|Time spend=0.45180749893188477\n",
      "\tVALENCE-s29-DASM|Acc=0.65167|10-CV=0.52133|STD=0.08863|Time spend=0.36797404289245605\n",
      "-----WARNING: Model s29 failed to learn: sum(ans)=600.0 sum(y)=345.0 len(y)=600\n",
      "\tVALENCE-s29-RASM|Acc=0.575|10-CV=0.55867|STD=0.12014|Time spend=0.40778112411499023\n",
      "\tVALENCE-s29-DCAU|Acc=0.66833|10-CV=0.518|STD=0.08738|Time spend=0.45270442962646484\n",
      "-----WARNING: Model s30 failed to learn: sum(ans)=600.0 sum(y)=405.0 len(y)=600\n",
      "\tVALENCE-s30-DASM|Acc=0.675|10-CV=0.62|STD=0.14697|Time spend=0.36662936210632324\n",
      "\tVALENCE-s30-RASM|Acc=0.68|10-CV=0.62|STD=0.14697|Time spend=0.4096097946166992\n",
      "-----WARNING: Model s30 failed to learn: sum(ans)=600.0 sum(y)=405.0 len(y)=600\n",
      "\tVALENCE-s30-DCAU|Acc=0.675|10-CV=0.61667|STD=0.14165|Time spend=0.453904390335083\n",
      "\tVALENCE-s31-DASM|Acc=0.63833|10-CV=0.48333|STD=0.09749|Time spend=0.36876583099365234\n",
      "\tVALENCE-s31-RASM|Acc=0.59167|10-CV=0.48867|STD=0.14943|Time spend=0.4135112762451172\n",
      "\tVALENCE-s31-DCAU|Acc=0.57833|10-CV=0.46|STD=0.08605|Time spend=0.4569528102874756\n",
      "\tVALENCE-s32-DASM|Acc=0.63|10-CV=0.51667|STD=0.1055|Time spend=0.3718080520629883\n",
      "\tVALENCE-s32-RASM|Acc=0.52167|10-CV=0.378|STD=0.1386|Time spend=0.41743946075439453\n",
      "\tVALENCE-s32-DCAU|Acc=0.64333|10-CV=0.52467|STD=0.09466|Time spend=0.45990467071533203\n",
      "VALENCE-DASM|Acc=0.6661458333333332|10-CV=0.5555|STD=0.10877940713484821\n",
      "VALENCE-RASM|Acc=0.5990104166666665|10-CV=0.5046458333333332|STD=0.1299800722356608\n",
      "VALENCE-DCAU|Acc=0.6697395833333334|10-CV=0.5619375000000001|STD=0.10214103459902481\n",
      "TOTAL-DASM|Acc=0.6738541666666669|10-CV=0.5844166666666664|STD=0.10651686688213724\n",
      "TOTAL-RASM|Acc=0.62515625|10-CV=0.55225|STD=0.12197087114031245\n",
      "TOTAL-DCAU|Acc=0.6745833333333333|10-CV=0.5853750000000002|STD=0.10238091583760253\n"
     ]
    }
   ],
   "source": [
    "bands = [(0,4), (4,8), (8,12), (12,30), (30,64)]\n",
    "# [alias_feature_function]__[optional_param]\n",
    "params = dict({\n",
    "    'pow_freq_bands__log':True,\n",
    "    'pow_freq_bands__normalize':False,\n",
    "    'pow_freq_bands__freq_bands':bands\n",
    "})\n",
    "\n",
    "accs,cv_means,cv_stds  = {'DASM':[],'RASM':[],'DCAU':[]},{'DASM':[],'RASM':[],'DCAU':[]},{'DASM':[],'RASM':[],'DCAU':[]}\n",
    "# count = 0\n",
    "for filename in dataset.get_file_list():\n",
    "    start = time.time()\n",
    "    data, labels, groups = dataset.get_data(filename, stimuli=Dataset_subjectDependent.STIMULI_AROUSAL, return_type='numpy')\n",
    "    fe = FeatureExtractor(sfreq=128, selected_funcs=['pow_freq_bands'],params=params,n_jobs=8)\n",
    "    X = fe.fit_transform(X=data)\n",
    "\n",
    "    PSD_left = X[:, left_channel_indexes].copy()\n",
    "    PSD_right = X[:, right_channel_indexes].copy()\n",
    "    PSD_frontal = X[:, frontal_channel_indexes].copy()\n",
    "    PSD_posterior = X[:, posterior_channel_indexes].copy()\n",
    "    X = {\n",
    "        'DASM': PSD_left - PSD_right,\n",
    "        'RASM': PSD_left / PSD_right,\n",
    "        'DCAU': PSD_frontal - PSD_posterior,\n",
    "    }\n",
    "\n",
    "    for feature_name in ['DASM','RASM','DCAU']:\n",
    "        _, acc, cross = train_model(X[feature_name], labels.reshape(-1), groups, filename=filename)\n",
    "        print(f\"\\tAROUSAL-{filename}-{feature_name}|Acc={round(acc,5)}|10-CV={round(cross.mean(),5)}|STD={round(cross.std(),5)}|Time spend={time.time() - start}\")\n",
    "        accs[feature_name].append(acc)\n",
    "        cv_means[feature_name].append(cross.mean())\n",
    "        cv_stds[feature_name].append(cross.std())\n",
    "    # count+=1\n",
    "    # if(count == 3): break\n",
    "for feature_name in ['DASM','RASM','DCAU']:\n",
    "    print(f\"AROUSAL-{feature_name}|Acc={sum(accs[feature_name])/len(accs[feature_name])}|10-CV={sum(cv_means[feature_name])/len(cv_means[feature_name])}|STD={sum(cv_stds[feature_name])/len(cv_stds[feature_name])}\")\n",
    "\n",
    "accs_v,cv_means_v,cv_stds_v  = {'DASM':[],'RASM':[],'DCAU':[]},{'DASM':[],'RASM':[],'DCAU':[]},{'DASM':[],'RASM':[],'DCAU':[]}\n",
    "# count=0\n",
    "for filename in dataset.get_file_list():\n",
    "    start = time.time()\n",
    "    data, labels, groups = dataset.get_data(filename, stimuli=Dataset_subjectDependent.STIMULI_VALENCE, return_type='numpy')\n",
    "    fe = FeatureExtractor(sfreq=128, selected_funcs=['pow_freq_bands'],params=params,n_jobs=8)\n",
    "    X = fe.fit_transform(X=data)\n",
    "\n",
    "    PSD_left = X[:, left_channel_indexes].copy()\n",
    "    PSD_right = X[:, right_channel_indexes].copy()\n",
    "    PSD_frontal = X[:, frontal_channel_indexes].copy()\n",
    "    PSD_posterior = X[:, posterior_channel_indexes].copy()\n",
    "    X = {\n",
    "        'DASM': PSD_left - PSD_right,\n",
    "        'RASM': PSD_left / PSD_right,\n",
    "        'DCAU': PSD_frontal - PSD_posterior,\n",
    "    }\n",
    "\n",
    "    for feature_name in ['DASM','RASM','DCAU']:\n",
    "        _, acc, cross = train_model(X[feature_name], labels.reshape(-1), groups, filename=filename)\n",
    "        print(f\"\\tVALENCE-{filename}-{feature_name}|Acc={round(acc,5)}|10-CV={round(cross.mean(),5)}|STD={round(cross.std(),5)}|Time spend={time.time() - start}\")\n",
    "        accs_v[feature_name].append(acc)\n",
    "        cv_means_v[feature_name].append(cross.mean())\n",
    "        cv_stds_v[feature_name].append(cross.std())\n",
    "    # count+=1\n",
    "    # if(count == 3): break\n",
    "for feature_name in ['DASM','RASM','DCAU']:\n",
    "    print(f\"VALENCE-{feature_name}|Acc={sum(accs_v[feature_name])/len(accs_v[feature_name])}|10-CV={sum(cv_means_v[feature_name])/len(cv_means_v[feature_name])}|STD={sum(cv_stds_v[feature_name])/len(cv_stds_v[feature_name])}\")\n",
    "\n",
    "for feature_name in ['DASM','RASM','DCAU']:\n",
    "    accs[feature_name].extend(accs_v[feature_name])\n",
    "    cv_means[feature_name].extend(cv_means_v[feature_name])\n",
    "    cv_stds[feature_name].extend(cv_stds_v[feature_name])\n",
    "    print(f\"TOTAL-{feature_name}|Acc={sum(accs[feature_name])/len(accs[feature_name])}|10-CV={sum(cv_means[feature_name])/len(cv_means[feature_name])}|STD={sum(cv_stds[feature_name])/len(cv_stds[feature_name])}\")"
   ]
  },
  {
   "cell_type": "markdown",
   "metadata": {},
   "source": [
    "## 4. Connectivity\n",
    "\n",
    "### 4.1 $ \\text{PCC}_{\\text{time}}(i,j) = \\frac{\\text{Cov}[\\mathbf{X}_i, \\mathbf{X}_j]}{\\sigma_{\\mathbf{X}_i} \\sigma_{\\mathbf{X}_j}} $"
   ]
  },
  {
   "cell_type": "code",
   "execution_count": 7,
   "metadata": {},
   "outputs": [],
   "source": [
    "\n",
    "def pearson_correlation(x,y):\n",
    "    \"\"\" x,y denoted the signal_x and signal_y following the equation \"\"\"\n",
    "    cov = np.cov(x, y)\n",
    "    # print(cov)\n",
    "    # [[ 8806859.74527069  8007149.0906219 ] ==> [[cov_xx, cov_xy]\n",
    "    # [ 8007149.0906219  10396797.72458848]]      [cov_yx, cov_yy]]\n",
    "    cov_xy = cov[0,1] # or cov[1,0]\n",
    "    cov_xx = cov[0,0]\n",
    "    cov_yy = cov[1,1]\n",
    "    corr = cov_xy / ( cov_xx**0.5 * cov_yy**0.5  )\n",
    "    return corr\n",
    "\n",
    "def _cal(p_id, partial_data):\n",
    "    # print(f\"p_id:{p_id} - data to run {partial_data.shape}\")\n",
    "    from itertools import combinations\n",
    "    pcc = []\n",
    "    for index in range(partial_data.shape[0]):\n",
    "        pcc_epoch = []\n",
    "        for comb in combinations(list(range(partial_data.shape[1])), 2):\n",
    "            pcc_ab = pearson_correlation(partial_data[index, comb[0], :], partial_data[index, comb[1], :]   )\n",
    "            pcc_epoch.append(pcc_ab)\n",
    "        pcc_epoch = np.hstack(pcc_epoch)\n",
    "        pcc.append(pcc_epoch)\n",
    "    pcc = np.vstack(pcc)\n",
    "    return pcc\n",
    "\n",
    "def calculate_pcc(data, n_jobs=8):\n",
    "    \"\"\" \n",
    "    Input: Expect data to have (n_epochs, n_channels, n_samples)\n",
    "    Output: (n_epochs, n_conn ) => n_conn = n_channels!/(2!(n_channels-2)!)\n",
    "    \"\"\"\n",
    "    from multiprocessing import Pool\n",
    "\n",
    "    try:\n",
    "        t_out = 60000\n",
    "        pool = Pool()\n",
    "        p_list = []\n",
    "        ans_list = []\n",
    "        num_p = n_jobs\n",
    "        indices = np.array_split(np.arange(data.shape[0]), num_p)\n",
    "        for p_id in range(num_p):\n",
    "            p_list.append(pool.apply_async(_cal, [p_id, data[indices[p_id]] ]))\n",
    "        for p_id in range(num_p):\n",
    "            ans_list.append( p_list[p_id].get(timeout=t_out) )\n",
    "        # ans_list\n",
    "    except Exception as e:\n",
    "        print(e)\n",
    "    finally:\n",
    "        print(\"========= close ========\")\n",
    "        pool.close() \n",
    "        pool.terminate()\n",
    "    return np.vstack(ans_list)"
   ]
  },
  {
   "cell_type": "code",
   "execution_count": 8,
   "metadata": {},
   "outputs": [
    {
     "data": {
      "application/vnd.jupyter.widget-view+json": {
       "model_id": "5b4c0b0174f3471e897ce1c48edb3955",
       "version_major": 2,
       "version_minor": 0
      },
      "text/plain": [
       "  0%|          | 0/32 [00:00<?, ?it/s]"
      ]
     },
     "metadata": {},
     "output_type": "display_data"
    },
    {
     "name": "stdout",
     "output_type": "stream",
     "text": [
      "Fitted sphere radius:         95.3 mm\n",
      "Origin head coordinates:      -0.8 15.1 45.3 mm\n",
      "Origin device coordinates:    -0.8 15.1 45.3 mm\n",
      "========= close ========\n",
      "\tAROUSAL-s01|Acc=0.69833|10-CV=0.53533|STD=0.13708|Time spend=3.038990020751953\n",
      "\tVALENCE-s01|Acc=0.64167|10-CV=0.452|STD=0.08798|Time spend=3.4338572025299072\n",
      "Fitted sphere radius:         95.3 mm\n",
      "Origin head coordinates:      -0.8 15.1 45.3 mm\n",
      "Origin device coordinates:    -0.8 15.1 45.3 mm\n",
      "========= close ========\n",
      "\tAROUSAL-s02|Acc=0.60833|10-CV=0.55467|STD=0.10958|Time spend=2.962812662124634\n",
      "\tVALENCE-s02|Acc=0.59167|10-CV=0.44|STD=0.08584|Time spend=3.3282783031463623\n",
      "Fitted sphere radius:         95.3 mm\n",
      "Origin head coordinates:      -0.8 15.1 45.3 mm\n",
      "Origin device coordinates:    -0.8 15.1 45.3 mm\n",
      "========= close ========\n",
      "\tAROUSAL-s03|Acc=0.8|10-CV=0.73|STD=0.15524|Time spend=2.814911127090454\n",
      "\tVALENCE-s03|Acc=0.55|10-CV=0.41933|STD=0.11433|Time spend=3.1861572265625\n",
      "Fitted sphere radius:         95.3 mm\n",
      "Origin head coordinates:      -0.8 15.1 45.3 mm\n",
      "Origin device coordinates:    -0.8 15.1 45.3 mm\n",
      "========= close ========\n",
      "\tAROUSAL-s04|Acc=0.6|10-CV=0.54|STD=0.22|Time spend=2.887798547744751\n",
      "\tVALENCE-s04|Acc=0.6|10-CV=0.49|STD=0.18682|Time spend=3.2484521865844727\n",
      "Fitted sphere radius:         95.3 mm\n",
      "Origin head coordinates:      -0.8 15.1 45.3 mm\n",
      "Origin device coordinates:    -0.8 15.1 45.3 mm\n",
      "========= close ========\n",
      "\tAROUSAL-s05|Acc=0.57333|10-CV=0.418|STD=0.10058|Time spend=2.9331064224243164\n",
      "\tVALENCE-s05|Acc=0.6|10-CV=0.586|STD=0.08791|Time spend=3.2872209548950195\n",
      "Fitted sphere radius:         95.3 mm\n",
      "Origin head coordinates:      -0.8 15.1 45.3 mm\n",
      "Origin device coordinates:    -0.8 15.1 45.3 mm\n",
      "========= close ========\n",
      "\tAROUSAL-s06|Acc=0.585|10-CV=0.516|STD=0.13575|Time spend=2.8569908142089844\n",
      "\tVALENCE-s06|Acc=0.75|10-CV=0.72|STD=0.07483|Time spend=3.185161828994751\n",
      "Fitted sphere radius:         95.3 mm\n",
      "Origin head coordinates:      -0.8 15.1 45.3 mm\n",
      "Origin device coordinates:    -0.8 15.1 45.3 mm\n",
      "========= close ========\n",
      "\tAROUSAL-s07|Acc=0.66667|10-CV=0.646|STD=0.12577|Time spend=2.824172019958496\n",
      "\tVALENCE-s07|Acc=0.7|10-CV=0.67133|STD=0.12834|Time spend=3.13523268699646\n",
      "Fitted sphere radius:         95.3 mm\n",
      "Origin head coordinates:      -0.8 15.1 45.3 mm\n",
      "Origin device coordinates:    -0.8 15.1 45.3 mm\n",
      "========= close ========\n",
      "\tAROUSAL-s08|Acc=0.585|10-CV=0.42333|STD=0.11089|Time spend=2.9059879779815674\n",
      "\tVALENCE-s08|Acc=0.63167|10-CV=0.494|STD=0.07975|Time spend=3.2709102630615234\n",
      "Fitted sphere radius:         95.3 mm\n",
      "Origin head coordinates:      -0.8 15.1 45.3 mm\n",
      "Origin device coordinates:    -0.8 15.1 45.3 mm\n",
      "========= close ========\n",
      "\tAROUSAL-s09|Acc=0.6|10-CV=0.54|STD=0.12|Time spend=2.953171730041504\n",
      "\tVALENCE-s09|Acc=0.635|10-CV=0.53067|STD=0.17439|Time spend=3.3151021003723145\n",
      "Fitted sphere radius:         95.3 mm\n",
      "Origin head coordinates:      -0.8 15.1 45.3 mm\n",
      "Origin device coordinates:    -0.8 15.1 45.3 mm\n",
      "========= close ========\n",
      "\tAROUSAL-s10|Acc=0.58667|10-CV=0.48333|STD=0.06833|Time spend=2.9392950534820557\n",
      "\tVALENCE-s10|Acc=0.75833|10-CV=0.63467|STD=0.12201|Time spend=3.283419370651245\n",
      "Fitted sphere radius:         95.3 mm\n",
      "Origin head coordinates:      -0.8 15.1 45.3 mm\n",
      "Origin device coordinates:    -0.8 15.1 45.3 mm\n",
      "========= close ========\n",
      "\tAROUSAL-s11|Acc=0.625|10-CV=0.59467|STD=0.06524|Time spend=2.8683054447174072\n",
      "\tVALENCE-s11|Acc=0.605|10-CV=0.55867|STD=0.16597|Time spend=3.233020544052124\n",
      "Fitted sphere radius:         95.3 mm\n",
      "Origin head coordinates:      -0.8 15.1 45.3 mm\n",
      "Origin device coordinates:    -0.8 15.1 45.3 mm\n",
      "========= close ========\n",
      "\tAROUSAL-s12|Acc=0.825|10-CV=0.83|STD=0.1005|Time spend=3.643064260482788\n",
      "\tVALENCE-s12|Acc=0.615|10-CV=0.44467|STD=0.13889|Time spend=4.021235466003418\n",
      "Fitted sphere radius:         95.3 mm\n",
      "Origin head coordinates:      -0.8 15.1 45.3 mm\n",
      "Origin device coordinates:    -0.8 15.1 45.3 mm\n",
      "========= close ========\n",
      "\tAROUSAL-s13|Acc=0.85|10-CV=0.84|STD=0.06633|Time spend=3.214778423309326\n",
      "\tVALENCE-s13|Acc=0.68833|10-CV=0.624|STD=0.06588|Time spend=3.5662338733673096\n",
      "Fitted sphere radius:         95.3 mm\n",
      "Origin head coordinates:      -0.8 15.1 45.3 mm\n",
      "Origin device coordinates:    -0.8 15.1 45.3 mm\n",
      "========= close ========\n",
      "\tAROUSAL-s14|Acc=0.675|10-CV=0.65|STD=0.10247|Time spend=2.9619953632354736\n",
      "\tVALENCE-s14|Acc=0.655|10-CV=0.49733|STD=0.11377|Time spend=3.3366916179656982\n",
      "Fitted sphere radius:         95.3 mm\n",
      "Origin head coordinates:      -0.8 15.1 45.3 mm\n",
      "Origin device coordinates:    -0.8 15.1 45.3 mm\n",
      "========= close ========\n",
      "\tAROUSAL-s15|Acc=0.62667|10-CV=0.43933|STD=0.09496|Time spend=2.9104573726654053\n",
      "\tVALENCE-s15|Acc=0.72|10-CV=0.65667|STD=0.08199|Time spend=3.2364590167999268\n",
      "Fitted sphere radius:         95.3 mm\n",
      "Origin head coordinates:      -0.8 15.1 45.3 mm\n",
      "Origin device coordinates:    -0.8 15.1 45.3 mm\n",
      "========= close ========\n",
      "\tAROUSAL-s16|Acc=0.64833|10-CV=0.39467|STD=0.12557|Time spend=2.8516318798065186\n",
      "\tVALENCE-s16|Acc=0.68333|10-CV=0.64533|STD=0.10327|Time spend=3.2339816093444824\n",
      "Fitted sphere radius:         95.3 mm\n",
      "Origin head coordinates:      -0.8 15.1 45.3 mm\n",
      "Origin device coordinates:    -0.8 15.1 45.3 mm\n",
      "========= close ========\n",
      "\tAROUSAL-s17|Acc=0.60833|10-CV=0.55133|STD=0.08154|Time spend=2.876248598098755\n",
      "\tVALENCE-s17|Acc=0.55|10-CV=0.42067|STD=0.13127|Time spend=3.2527554035186768\n",
      "Fitted sphere radius:         95.3 mm\n",
      "Origin head coordinates:      -0.8 15.1 45.3 mm\n",
      "Origin device coordinates:    -0.8 15.1 45.3 mm\n",
      "========= close ========\n",
      "\tAROUSAL-s18|Acc=0.625|10-CV=0.56067|STD=0.10161|Time spend=2.894108533859253\n",
      "\tVALENCE-s18|Acc=0.73833|10-CV=0.61533|STD=0.14484|Time spend=3.225407361984253\n",
      "Fitted sphere radius:         95.3 mm\n",
      "Origin head coordinates:      -0.8 15.1 45.3 mm\n",
      "Origin device coordinates:    -0.8 15.1 45.3 mm\n",
      "========= close ========\n",
      "\tAROUSAL-s19|Acc=0.675|10-CV=0.62533|STD=0.1256|Time spend=2.9830322265625\n",
      "\tVALENCE-s19|Acc=0.665|10-CV=0.464|STD=0.134|Time spend=3.3367421627044678\n",
      "Fitted sphere radius:         95.3 mm\n",
      "Origin head coordinates:      -0.8 15.1 45.3 mm\n",
      "Origin device coordinates:    -0.8 15.1 45.3 mm\n",
      "========= close ========\n",
      "\tAROUSAL-s20|Acc=0.775|10-CV=0.82|STD=0.08718|Time spend=2.915119171142578\n",
      "\tVALENCE-s20|Acc=0.68333|10-CV=0.536|STD=0.15967|Time spend=3.2668581008911133\n",
      "Fitted sphere radius:         95.3 mm\n",
      "Origin head coordinates:      -0.8 15.1 45.3 mm\n",
      "Origin device coordinates:    -0.8 15.1 45.3 mm\n",
      "========= close ========\n",
      "\tAROUSAL-s21|Acc=0.8|10-CV=0.8|STD=0.1|Time spend=2.827875852584839\n",
      "\tVALENCE-s21|Acc=0.525|10-CV=0.388|STD=0.084|Time spend=3.233079671859741\n",
      "Fitted sphere radius:         95.3 mm\n",
      "Origin head coordinates:      -0.8 15.1 45.3 mm\n",
      "Origin device coordinates:    -0.8 15.1 45.3 mm\n",
      "========= close ========\n",
      "\tAROUSAL-s22|Acc=0.6|10-CV=0.61|STD=0.07|Time spend=2.8635945320129395\n",
      "\tVALENCE-s22|Acc=0.60833|10-CV=0.56133|STD=0.12753|Time spend=3.238553762435913\n",
      "Fitted sphere radius:         95.3 mm\n",
      "Origin head coordinates:      -0.8 15.1 45.3 mm\n",
      "Origin device coordinates:    -0.8 15.1 45.3 mm\n",
      "========= close ========\n",
      "\tAROUSAL-s23|Acc=0.75|10-CV=0.77933|STD=0.09718|Time spend=2.988969087600708\n",
      "\tVALENCE-s23|Acc=0.65|10-CV=0.57867|STD=0.11119|Time spend=3.3224310874938965\n",
      "Fitted sphere radius:         95.3 mm\n",
      "Origin head coordinates:      -0.8 15.1 45.3 mm\n",
      "Origin device coordinates:    -0.8 15.1 45.3 mm\n",
      "========= close ========\n",
      "\tAROUSAL-s24|Acc=0.825|10-CV=0.82|STD=0.07483|Time spend=3.049945592880249\n",
      "\tVALENCE-s24|Acc=0.595|10-CV=0.45067|STD=0.19496|Time spend=3.443305253982544\n",
      "Fitted sphere radius:         95.3 mm\n",
      "Origin head coordinates:      -0.8 15.1 45.3 mm\n",
      "Origin device coordinates:    -0.8 15.1 45.3 mm\n",
      "========= close ========\n",
      "\tAROUSAL-s25|Acc=0.725|10-CV=0.74|STD=0.12806|Time spend=2.841658353805542\n",
      "\tVALENCE-s25|Acc=0.51667|10-CV=0.37667|STD=0.10338|Time spend=3.2270584106445312\n",
      "Fitted sphere radius:         95.3 mm\n",
      "Origin head coordinates:      -0.8 15.1 45.3 mm\n",
      "Origin device coordinates:    -0.8 15.1 45.3 mm\n",
      "========= close ========\n",
      "\tAROUSAL-s26|Acc=0.62667|10-CV=0.57067|STD=0.12817|Time spend=2.975818634033203\n",
      "\tVALENCE-s26|Acc=0.65|10-CV=0.62|STD=0.14|Time spend=3.3276994228363037\n",
      "Fitted sphere radius:         95.3 mm\n",
      "Origin head coordinates:      -0.8 15.1 45.3 mm\n",
      "Origin device coordinates:    -0.8 15.1 45.3 mm\n",
      "========= close ========\n",
      "\tAROUSAL-s27|Acc=0.70333|10-CV=0.63667|STD=0.10116|Time spend=2.922516107559204\n",
      "\tVALENCE-s27|Acc=0.75|10-CV=0.666|STD=0.12002|Time spend=3.2350382804870605\n",
      "Fitted sphere radius:         95.3 mm\n",
      "Origin head coordinates:      -0.8 15.1 45.3 mm\n",
      "Origin device coordinates:    -0.8 15.1 45.3 mm\n",
      "========= close ========\n",
      "\tAROUSAL-s28|Acc=0.56667|10-CV=0.44467|STD=0.17555|Time spend=2.9789600372314453\n",
      "\tVALENCE-s28|Acc=0.625|10-CV=0.55467|STD=0.14889|Time spend=3.3276162147521973\n",
      "Fitted sphere radius:         95.3 mm\n",
      "Origin head coordinates:      -0.8 15.1 45.3 mm\n",
      "Origin device coordinates:    -0.8 15.1 45.3 mm\n",
      "========= close ========\n",
      "\tAROUSAL-s29|Acc=0.625|10-CV=0.52933|STD=0.08875|Time spend=3.1156156063079834\n",
      "\tVALENCE-s29|Acc=0.65167|10-CV=0.558|STD=0.093|Time spend=3.4681859016418457\n",
      "Fitted sphere radius:         95.3 mm\n",
      "Origin head coordinates:      -0.8 15.1 45.3 mm\n",
      "Origin device coordinates:    -0.8 15.1 45.3 mm\n",
      "========= close ========\n",
      "\tAROUSAL-s30|Acc=0.58167|10-CV=0.464|STD=0.07678|Time spend=3.00264048576355\n",
      "\tVALENCE-s30|Acc=0.675|10-CV=0.62|STD=0.14697|Time spend=3.3513078689575195\n",
      "Fitted sphere radius:         95.3 mm\n",
      "Origin head coordinates:      -0.8 15.1 45.3 mm\n",
      "Origin device coordinates:    -0.8 15.1 45.3 mm\n",
      "========= close ========\n",
      "\tAROUSAL-s31|Acc=0.68667|10-CV=0.546|STD=0.1539|Time spend=2.954584836959839\n",
      "\tVALENCE-s31|Acc=0.57667|10-CV=0.474|STD=0.10916|Time spend=3.364858865737915\n",
      "Fitted sphere radius:         95.3 mm\n",
      "Origin head coordinates:      -0.8 15.1 45.3 mm\n",
      "Origin device coordinates:    -0.8 15.1 45.3 mm\n",
      "========= close ========\n",
      "\tAROUSAL-s32|Acc=0.675|10-CV=0.74867|STD=0.1346|Time spend=2.98762583732605\n",
      "\tVALENCE-s32|Acc=0.64|10-CV=0.57667|STD=0.08926|Time spend=3.3465211391448975\n",
      "AROUSAL|Acc=0.6688020833333335|10-CV=0.6056875|STD=0.11134984972949365\n",
      "VALENCE|Acc=0.6414062500000002|10-CV=0.5414166666666668|STD=0.1203151640392073\n"
     ]
    }
   ],
   "source": [
    "accs, cv_means, cv_stds = [],[],[]\n",
    "accs_v, cv_means_v, cv_stds_v = [],[],[]\n",
    "reports = []\n",
    "for filename in (pbar := tqdm(dataset.get_file_list())):\n",
    "    start = time.time()\n",
    "    pbar.set_description(filename)\n",
    "    data, labels, groups = dataset.get_data(filename, stimuli=Dataset_subjectDependent.STIMULI_AROUSAL, return_type='mne', sfreq=128)\n",
    "    data_csd = mne.preprocessing.compute_current_source_density(data)\n",
    "    pcc = calculate_pcc(data_csd.get_data())\n",
    "    _,acc,cross,train_report = train_model(pcc, labels.squeeze(), groups, filename=filename, return_text=True)\n",
    "    report = f\"\\tAROUSAL-{filename}|Acc={round(acc,5)}|10-CV={round(cross.mean(),5)}|STD={round(cross.std(),5)}|Time spend={time.time() - start}\"\n",
    "    print(report)\n",
    "    reports.append(report)\n",
    "    reports.append(train_report)\n",
    "    accs.append(acc)\n",
    "    cv_means.append(cross.mean())\n",
    "    cv_stds.append(cross.std())\n",
    "\n",
    "    _, labels_v, groups_v = dataset.get_data(filename, stimuli=Dataset_subjectDependent.STIMULI_VALENCE, return_type='mne', sfreq=128)\n",
    "    _,acc,cross,train_report = train_model(pcc, labels_v.squeeze(), groups_v, filename=filename, return_text=True)\n",
    "    report = f\"\\tVALENCE-{filename}|Acc={round(acc,5)}|10-CV={round(cross.mean(),5)}|STD={round(cross.std(),5)}|Time spend={time.time() - start}\"\n",
    "    print(report)\n",
    "    reports.append(report)\n",
    "    reports.append(train_report)\n",
    "    accs_v.append(acc)\n",
    "    cv_means_v.append(cross.mean())\n",
    "    cv_stds_v.append(cross.std())\n",
    "    # break\n",
    "    # count+=1\n",
    "    # if(count == 5): break\n",
    "report = f\"AROUSAL|Acc={sum(accs)/len(accs)}|10-CV={sum(cv_means)/len(cv_means)}|STD={sum(cv_stds)/len(cv_stds)}\"\n",
    "print(report)\n",
    "reports.append(report)\n",
    "report = f\"VALENCE|Acc={sum(accs_v)/len(accs_v)}|10-CV={sum(cv_means_v)/len(cv_means_v)}|STD={sum(cv_stds_v)/len(cv_stds_v)}\"\n",
    "print(report)\n",
    "reports.append(report)"
   ]
  },
  {
   "cell_type": "code",
   "execution_count": 9,
   "metadata": {},
   "outputs": [
    {
     "name": "stdout",
     "output_type": "stream",
     "text": [
      "\tAROUSAL-s01|Acc=0.69833|10-CV=0.53533|STD=0.13708|Time spend=3.038990020751953\n",
      "\tVALENCE-s01|Acc=0.64167|10-CV=0.452|STD=0.08798|Time spend=3.4338572025299072\n",
      "\tAROUSAL-s02|Acc=0.60833|10-CV=0.55467|STD=0.10958|Time spend=2.962812662124634\n",
      "\tVALENCE-s02|Acc=0.59167|10-CV=0.44|STD=0.08584|Time spend=3.3282783031463623\n",
      "\tAROUSAL-s03|Acc=0.8|10-CV=0.73|STD=0.15524|Time spend=2.814911127090454\n",
      "-----WARNING: Model s03 failed to learn: sum(ans)=0.0 sum(y)=120.0 len(y)=600\n",
      "\tVALENCE-s03|Acc=0.55|10-CV=0.41933|STD=0.11433|Time spend=3.1861572265625\n",
      "-----WARNING: Model s03 failed to learn: sum(ans)=600.0 sum(y)=330.0 len(y)=600\n",
      "\tAROUSAL-s04|Acc=0.6|10-CV=0.54|STD=0.22|Time spend=2.887798547744751\n",
      "-----WARNING: Model s04 failed to learn: sum(ans)=0.0 sum(y)=240.0 len(y)=600\n",
      "\tVALENCE-s04|Acc=0.6|10-CV=0.49|STD=0.18682|Time spend=3.2484521865844727\n",
      "-----WARNING: Model s04 failed to learn: sum(ans)=0.0 sum(y)=240.0 len(y)=600\n",
      "\tAROUSAL-s05|Acc=0.57333|10-CV=0.418|STD=0.10058|Time spend=2.9331064224243164\n",
      "\tVALENCE-s05|Acc=0.6|10-CV=0.586|STD=0.08791|Time spend=3.2872209548950195\n",
      "-----WARNING: Model s05 failed to learn: sum(ans)=600.0 sum(y)=360.0 len(y)=600\n",
      "\tAROUSAL-s06|Acc=0.585|10-CV=0.516|STD=0.13575|Time spend=2.8569908142089844\n",
      "\tVALENCE-s06|Acc=0.75|10-CV=0.72|STD=0.07483|Time spend=3.185161828994751\n",
      "-----WARNING: Model s06 failed to learn: sum(ans)=600.0 sum(y)=450.0 len(y)=600\n",
      "\tAROUSAL-s07|Acc=0.66667|10-CV=0.646|STD=0.12577|Time spend=2.824172019958496\n",
      "\tVALENCE-s07|Acc=0.7|10-CV=0.67133|STD=0.12834|Time spend=3.13523268699646\n",
      "-----WARNING: Model s07 failed to learn: sum(ans)=600.0 sum(y)=420.0 len(y)=600\n",
      "\tAROUSAL-s08|Acc=0.585|10-CV=0.42333|STD=0.11089|Time spend=2.9059879779815674\n",
      "\tVALENCE-s08|Acc=0.63167|10-CV=0.494|STD=0.07975|Time spend=3.2709102630615234\n",
      "\tAROUSAL-s09|Acc=0.6|10-CV=0.54|STD=0.12|Time spend=2.953171730041504\n",
      "-----WARNING: Model s09 failed to learn: sum(ans)=600.0 sum(y)=360.0 len(y)=600\n",
      "\tVALENCE-s09|Acc=0.635|10-CV=0.53067|STD=0.17439|Time spend=3.3151021003723145\n",
      "\tAROUSAL-s10|Acc=0.58667|10-CV=0.48333|STD=0.06833|Time spend=2.9392950534820557\n",
      "\tVALENCE-s10|Acc=0.75833|10-CV=0.63467|STD=0.12201|Time spend=3.283419370651245\n",
      "\tAROUSAL-s11|Acc=0.625|10-CV=0.59467|STD=0.06524|Time spend=2.8683054447174072\n",
      "-----WARNING: Model s11 failed to learn: sum(ans)=0.0 sum(y)=225.0 len(y)=600\n",
      "\tVALENCE-s11|Acc=0.605|10-CV=0.55867|STD=0.16597|Time spend=3.233020544052124\n",
      "\tAROUSAL-s12|Acc=0.825|10-CV=0.83|STD=0.1005|Time spend=3.643064260482788\n",
      "-----WARNING: Model s12 failed to learn: sum(ans)=600.0 sum(y)=495.0 len(y)=600\n",
      "\tVALENCE-s12|Acc=0.615|10-CV=0.44467|STD=0.13889|Time spend=4.021235466003418\n",
      "\tAROUSAL-s13|Acc=0.85|10-CV=0.84|STD=0.06633|Time spend=3.214778423309326\n",
      "-----WARNING: Model s13 failed to learn: sum(ans)=600.0 sum(y)=510.0 len(y)=600\n",
      "\tVALENCE-s13|Acc=0.68833|10-CV=0.624|STD=0.06588|Time spend=3.5662338733673096\n",
      "\tAROUSAL-s14|Acc=0.675|10-CV=0.65|STD=0.10247|Time spend=2.9619953632354736\n",
      "-----WARNING: Model s14 failed to learn: sum(ans)=600.0 sum(y)=405.0 len(y)=600\n",
      "\tVALENCE-s14|Acc=0.655|10-CV=0.49733|STD=0.11377|Time spend=3.3366916179656982\n",
      "\tAROUSAL-s15|Acc=0.62667|10-CV=0.43933|STD=0.09496|Time spend=2.9104573726654053\n",
      "\tVALENCE-s15|Acc=0.72|10-CV=0.65667|STD=0.08199|Time spend=3.2364590167999268\n",
      "\tAROUSAL-s16|Acc=0.64833|10-CV=0.39467|STD=0.12557|Time spend=2.8516318798065186\n",
      "\tVALENCE-s16|Acc=0.68333|10-CV=0.64533|STD=0.10327|Time spend=3.2339816093444824\n",
      "\tAROUSAL-s17|Acc=0.60833|10-CV=0.55133|STD=0.08154|Time spend=2.876248598098755\n",
      "\tVALENCE-s17|Acc=0.55|10-CV=0.42067|STD=0.13127|Time spend=3.2527554035186768\n",
      "-----WARNING: Model s17 failed to learn: sum(ans)=600.0 sum(y)=330.0 len(y)=600\n",
      "\tAROUSAL-s18|Acc=0.625|10-CV=0.56067|STD=0.10161|Time spend=2.894108533859253\n",
      "-----WARNING: Model s18 failed to learn: sum(ans)=600.0 sum(y)=375.0 len(y)=600\n",
      "\tVALENCE-s18|Acc=0.73833|10-CV=0.61533|STD=0.14484|Time spend=3.225407361984253\n",
      "\tAROUSAL-s19|Acc=0.675|10-CV=0.62533|STD=0.1256|Time spend=2.9830322265625\n",
      "-----WARNING: Model s19 failed to learn: sum(ans)=600.0 sum(y)=405.0 len(y)=600\n",
      "\tVALENCE-s19|Acc=0.665|10-CV=0.464|STD=0.134|Time spend=3.3367421627044678\n",
      "\tAROUSAL-s20|Acc=0.775|10-CV=0.82|STD=0.08718|Time spend=2.915119171142578\n",
      "-----WARNING: Model s20 failed to learn: sum(ans)=600.0 sum(y)=465.0 len(y)=600\n",
      "\tVALENCE-s20|Acc=0.68333|10-CV=0.536|STD=0.15967|Time spend=3.2668581008911133\n",
      "\tAROUSAL-s21|Acc=0.8|10-CV=0.8|STD=0.1|Time spend=2.827875852584839\n",
      "-----WARNING: Model s21 failed to learn: sum(ans)=600.0 sum(y)=480.0 len(y)=600\n",
      "\tVALENCE-s21|Acc=0.525|10-CV=0.388|STD=0.084|Time spend=3.233079671859741\n",
      "-----WARNING: Model s21 failed to learn: sum(ans)=600.0 sum(y)=315.0 len(y)=600\n",
      "\tAROUSAL-s22|Acc=0.6|10-CV=0.61|STD=0.07|Time spend=2.8635945320129395\n",
      "-----WARNING: Model s22 failed to learn: sum(ans)=600.0 sum(y)=360.0 len(y)=600\n",
      "\tVALENCE-s22|Acc=0.60833|10-CV=0.56133|STD=0.12753|Time spend=3.238553762435913\n",
      "\tAROUSAL-s23|Acc=0.75|10-CV=0.77933|STD=0.09718|Time spend=2.988969087600708\n",
      "-----WARNING: Model s23 failed to learn: sum(ans)=0.0 sum(y)=150.0 len(y)=600\n",
      "\tVALENCE-s23|Acc=0.65|10-CV=0.57867|STD=0.11119|Time spend=3.3224310874938965\n",
      "-----WARNING: Model s23 failed to learn: sum(ans)=600.0 sum(y)=390.0 len(y)=600\n",
      "\tAROUSAL-s24|Acc=0.825|10-CV=0.82|STD=0.07483|Time spend=3.049945592880249\n",
      "-----WARNING: Model s24 failed to learn: sum(ans)=600.0 sum(y)=495.0 len(y)=600\n",
      "\tVALENCE-s24|Acc=0.595|10-CV=0.45067|STD=0.19496|Time spend=3.443305253982544\n",
      "\tAROUSAL-s25|Acc=0.725|10-CV=0.74|STD=0.12806|Time spend=2.841658353805542\n",
      "-----WARNING: Model s25 failed to learn: sum(ans)=600.0 sum(y)=435.0 len(y)=600\n",
      "\tVALENCE-s25|Acc=0.51667|10-CV=0.37667|STD=0.10338|Time spend=3.2270584106445312\n",
      "\tAROUSAL-s26|Acc=0.62667|10-CV=0.57067|STD=0.12817|Time spend=2.975818634033203\n",
      "\tVALENCE-s26|Acc=0.65|10-CV=0.62|STD=0.14|Time spend=3.3276994228363037\n",
      "-----WARNING: Model s26 failed to learn: sum(ans)=600.0 sum(y)=390.0 len(y)=600\n",
      "\tAROUSAL-s27|Acc=0.70333|10-CV=0.63667|STD=0.10116|Time spend=2.922516107559204\n",
      "\tVALENCE-s27|Acc=0.75|10-CV=0.666|STD=0.12002|Time spend=3.2350382804870605\n",
      "-----WARNING: Model s27 failed to learn: sum(ans)=600.0 sum(y)=450.0 len(y)=600\n",
      "\tAROUSAL-s28|Acc=0.56667|10-CV=0.44467|STD=0.17555|Time spend=2.9789600372314453\n",
      "\tVALENCE-s28|Acc=0.625|10-CV=0.55467|STD=0.14889|Time spend=3.3276162147521973\n",
      "-----WARNING: Model s28 failed to learn: sum(ans)=600.0 sum(y)=375.0 len(y)=600\n",
      "\tAROUSAL-s29|Acc=0.625|10-CV=0.52933|STD=0.08875|Time spend=3.1156156063079834\n",
      "-----WARNING: Model s29 failed to learn: sum(ans)=600.0 sum(y)=375.0 len(y)=600\n",
      "\tVALENCE-s29|Acc=0.65167|10-CV=0.558|STD=0.093|Time spend=3.4681859016418457\n",
      "\tAROUSAL-s30|Acc=0.58167|10-CV=0.464|STD=0.07678|Time spend=3.00264048576355\n",
      "\tVALENCE-s30|Acc=0.675|10-CV=0.62|STD=0.14697|Time spend=3.3513078689575195\n",
      "-----WARNING: Model s30 failed to learn: sum(ans)=600.0 sum(y)=405.0 len(y)=600\n",
      "\tAROUSAL-s31|Acc=0.68667|10-CV=0.546|STD=0.1539|Time spend=2.954584836959839\n",
      "\tVALENCE-s31|Acc=0.57667|10-CV=0.474|STD=0.10916|Time spend=3.364858865737915\n",
      "\tAROUSAL-s32|Acc=0.675|10-CV=0.74867|STD=0.1346|Time spend=2.98762583732605\n",
      "-----WARNING: Model s32 failed to learn: sum(ans)=600.0 sum(y)=405.0 len(y)=600\n",
      "\tVALENCE-s32|Acc=0.64|10-CV=0.57667|STD=0.08926|Time spend=3.3465211391448975\n",
      "AROUSAL|Acc=0.6688020833333335|10-CV=0.6056875|STD=0.11134984972949365\n",
      "VALENCE|Acc=0.6414062500000002|10-CV=0.5414166666666668|STD=0.1203151640392073\n",
      "TOTAL|Acc=0.6551041666666666|10-CV=0.5735520833333332|STD=0.11583250688435048\n"
     ]
    }
   ],
   "source": [
    "for text in reports:\n",
    "    if(text == None): continue\n",
    "    print(text)\n",
    "\n",
    "accs.extend(accs_v)\n",
    "cv_means.extend(cv_means_v)\n",
    "cv_stds.extend(cv_stds_v)\n",
    "print(f\"TOTAL|Acc={sum(accs)/len(accs)}|10-CV={sum(cv_means)/len(cv_means)}|STD={sum(cv_stds)/len(cv_stds)}\")"
   ]
  },
  {
   "cell_type": "markdown",
   "metadata": {},
   "source": [
    "### 4.2 $ \\text{PCC}_{freq} (i,j) = \\frac{\\text{Cov}[\\hat{\\mathbf{X}}_i, \\hat{\\mathbf{X}}_j]}{\\sigma_{\\hat{\\mathbf{X}}_i} \\sigma_{\\hat{\\mathbf{X}}_j}} $"
   ]
  },
  {
   "cell_type": "code",
   "execution_count": 10,
   "metadata": {},
   "outputs": [],
   "source": [
    "def calculate_fft(signal, sfreq):\n",
    "    \"\"\" signal: can be 1D array of (n_sample,) or 2D array of (n_signal, n_sample)  \"\"\"\n",
    "    number_sample = signal.shape[-1]\n",
    "\n",
    "    # the result will be a complex number. We can obtain the magnitude using `absolute`\n",
    "    magnitude = np.abs(np.fft.fft(signal))\n",
    "    # scale the result\n",
    "    magnitude = magnitude / (number_sample/2)\n",
    "    # Selecting the range\n",
    "    magnitude = magnitude.T[:number_sample//2].T\n",
    "    freq_range = np.fft.fftfreq(number_sample, d=1/sfreq)[:number_sample//2]\n",
    "\n",
    "    return magnitude, freq_range"
   ]
  },
  {
   "cell_type": "code",
   "execution_count": 11,
   "metadata": {},
   "outputs": [
    {
     "data": {
      "application/vnd.jupyter.widget-view+json": {
       "model_id": "f299ac896aca48279174320526a0526d",
       "version_major": 2,
       "version_minor": 0
      },
      "text/plain": [
       "  0%|          | 0/32 [00:00<?, ?it/s]"
      ]
     },
     "metadata": {},
     "output_type": "display_data"
    },
    {
     "name": "stdout",
     "output_type": "stream",
     "text": [
      "Fitted sphere radius:         95.3 mm\n",
      "Origin head coordinates:      -0.8 15.1 45.3 mm\n",
      "Origin device coordinates:    -0.8 15.1 45.3 mm\n",
      "========= close ========\n",
      "\tAROUSAL-s01|Acc=0.79|10-CV=0.53533|STD=0.12289|Time spend=3.028975009918213\n",
      "\tVALENCE-s01|Acc=0.77333|10-CV=0.48867|STD=0.07118|Time spend=3.429551362991333\n",
      "Fitted sphere radius:         95.3 mm\n",
      "Origin head coordinates:      -0.8 15.1 45.3 mm\n",
      "Origin device coordinates:    -0.8 15.1 45.3 mm\n",
      "========= close ========\n",
      "\tAROUSAL-s02|Acc=0.64167|10-CV=0.574|STD=0.10424|Time spend=2.9688048362731934\n",
      "\tVALENCE-s02|Acc=0.62|10-CV=0.45267|STD=0.08514|Time spend=3.3559300899505615\n",
      "Fitted sphere radius:         95.3 mm\n",
      "Origin head coordinates:      -0.8 15.1 45.3 mm\n",
      "Origin device coordinates:    -0.8 15.1 45.3 mm\n",
      "========= close ========\n",
      "\tAROUSAL-s03|Acc=0.8|10-CV=0.73|STD=0.15524|Time spend=3.2946813106536865\n",
      "\tVALENCE-s03|Acc=0.63333|10-CV=0.456|STD=0.13291|Time spend=3.741478681564331\n",
      "Fitted sphere radius:         95.3 mm\n",
      "Origin head coordinates:      -0.8 15.1 45.3 mm\n",
      "Origin device coordinates:    -0.8 15.1 45.3 mm\n",
      "========= close ========\n",
      "\tAROUSAL-s04|Acc=0.63333|10-CV=0.49667|STD=0.1343|Time spend=3.362854480743408\n",
      "\tVALENCE-s04|Acc=0.61|10-CV=0.48733|STD=0.11751|Time spend=3.77034854888916\n",
      "Fitted sphere radius:         95.3 mm\n",
      "Origin head coordinates:      -0.8 15.1 45.3 mm\n",
      "Origin device coordinates:    -0.8 15.1 45.3 mm\n",
      "========= close ========\n",
      "\tAROUSAL-s05|Acc=0.65667|10-CV=0.45067|STD=0.11501|Time spend=3.031146287918091\n",
      "\tVALENCE-s05|Acc=0.62833|10-CV=0.55333|STD=0.07333|Time spend=3.414764404296875\n",
      "Fitted sphere radius:         95.3 mm\n",
      "Origin head coordinates:      -0.8 15.1 45.3 mm\n",
      "Origin device coordinates:    -0.8 15.1 45.3 mm\n",
      "========= close ========\n",
      "\tAROUSAL-s06|Acc=0.68667|10-CV=0.55133|STD=0.14236|Time spend=3.171693801879883\n",
      "\tVALENCE-s06|Acc=0.75|10-CV=0.71733|STD=0.0731|Time spend=3.5013859272003174\n",
      "Fitted sphere radius:         95.3 mm\n",
      "Origin head coordinates:      -0.8 15.1 45.3 mm\n",
      "Origin device coordinates:    -0.8 15.1 45.3 mm\n",
      "========= close ========\n",
      "\tAROUSAL-s07|Acc=0.71833|10-CV=0.61267|STD=0.10077|Time spend=3.1147565841674805\n",
      "\tVALENCE-s07|Acc=0.76667|10-CV=0.648|STD=0.12421|Time spend=3.4583520889282227\n",
      "Fitted sphere radius:         95.3 mm\n",
      "Origin head coordinates:      -0.8 15.1 45.3 mm\n",
      "Origin device coordinates:    -0.8 15.1 45.3 mm\n",
      "========= close ========\n",
      "\tAROUSAL-s08|Acc=0.66833|10-CV=0.41|STD=0.12849|Time spend=3.1574246883392334\n",
      "\tVALENCE-s08|Acc=0.685|10-CV=0.47733|STD=0.07455|Time spend=3.5381569862365723\n",
      "Fitted sphere radius:         95.3 mm\n",
      "Origin head coordinates:      -0.8 15.1 45.3 mm\n",
      "Origin device coordinates:    -0.8 15.1 45.3 mm\n",
      "========= close ========\n",
      "\tAROUSAL-s09|Acc=0.65167|10-CV=0.54867|STD=0.12351|Time spend=3.0442752838134766\n",
      "\tVALENCE-s09|Acc=0.70333|10-CV=0.59933|STD=0.06214|Time spend=3.3976190090179443\n",
      "Fitted sphere radius:         95.3 mm\n",
      "Origin head coordinates:      -0.8 15.1 45.3 mm\n",
      "Origin device coordinates:    -0.8 15.1 45.3 mm\n",
      "========= close ========\n",
      "\tAROUSAL-s10|Acc=0.715|10-CV=0.524|STD=0.07833|Time spend=3.1569154262542725\n",
      "\tVALENCE-s10|Acc=0.79|10-CV=0.71867|STD=0.08294|Time spend=3.5055391788482666\n",
      "Fitted sphere radius:         95.3 mm\n",
      "Origin head coordinates:      -0.8 15.1 45.3 mm\n",
      "Origin device coordinates:    -0.8 15.1 45.3 mm\n",
      "========= close ========\n",
      "\tAROUSAL-s11|Acc=0.66833|10-CV=0.60333|STD=0.04973|Time spend=3.0886950492858887\n",
      "\tVALENCE-s11|Acc=0.66833|10-CV=0.552|STD=0.15208|Time spend=3.4444005489349365\n",
      "Fitted sphere radius:         95.3 mm\n",
      "Origin head coordinates:      -0.8 15.1 45.3 mm\n",
      "Origin device coordinates:    -0.8 15.1 45.3 mm\n",
      "========= close ========\n",
      "\tAROUSAL-s12|Acc=0.825|10-CV=0.83|STD=0.1005|Time spend=2.925039768218994\n",
      "\tVALENCE-s12|Acc=0.68333|10-CV=0.454|STD=0.14411|Time spend=3.3167104721069336\n",
      "Fitted sphere radius:         95.3 mm\n",
      "Origin head coordinates:      -0.8 15.1 45.3 mm\n",
      "Origin device coordinates:    -0.8 15.1 45.3 mm\n",
      "========= close ========\n",
      "\tAROUSAL-s13|Acc=0.85|10-CV=0.84|STD=0.06633|Time spend=3.014382839202881\n",
      "\tVALENCE-s13|Acc=0.69333|10-CV=0.59267|STD=0.06576|Time spend=3.412446975708008\n",
      "Fitted sphere radius:         95.3 mm\n",
      "Origin head coordinates:      -0.8 15.1 45.3 mm\n",
      "Origin device coordinates:    -0.8 15.1 45.3 mm\n",
      "========= close ========\n",
      "\tAROUSAL-s14|Acc=0.675|10-CV=0.65|STD=0.10247|Time spend=3.163201332092285\n",
      "\tVALENCE-s14|Acc=0.70333|10-CV=0.56467|STD=0.05896|Time spend=3.6028554439544678\n",
      "Fitted sphere radius:         95.3 mm\n",
      "Origin head coordinates:      -0.8 15.1 45.3 mm\n",
      "Origin device coordinates:    -0.8 15.1 45.3 mm\n",
      "========= close ========\n",
      "\tAROUSAL-s15|Acc=0.775|10-CV=0.49|STD=0.09703|Time spend=3.6453003883361816\n",
      "\tVALENCE-s15|Acc=0.825|10-CV=0.69467|STD=0.06817|Time spend=3.9745583534240723\n",
      "Fitted sphere radius:         95.3 mm\n",
      "Origin head coordinates:      -0.8 15.1 45.3 mm\n",
      "Origin device coordinates:    -0.8 15.1 45.3 mm\n",
      "========= close ========\n",
      "\tAROUSAL-s16|Acc=0.70167|10-CV=0.45|STD=0.11373|Time spend=3.2031877040863037\n",
      "\tVALENCE-s16|Acc=0.72167|10-CV=0.63067|STD=0.08698|Time spend=3.5609371662139893\n",
      "Fitted sphere radius:         95.3 mm\n",
      "Origin head coordinates:      -0.8 15.1 45.3 mm\n",
      "Origin device coordinates:    -0.8 15.1 45.3 mm\n",
      "========= close ========\n",
      "\tAROUSAL-s17|Acc=0.68667|10-CV=0.59333|STD=0.08417|Time spend=3.2157397270202637\n",
      "\tVALENCE-s17|Acc=0.60333|10-CV=0.42467|STD=0.11243|Time spend=3.594430446624756\n",
      "Fitted sphere radius:         95.3 mm\n",
      "Origin head coordinates:      -0.8 15.1 45.3 mm\n",
      "Origin device coordinates:    -0.8 15.1 45.3 mm\n",
      "========= close ========\n",
      "\tAROUSAL-s18|Acc=0.68167|10-CV=0.54467|STD=0.11829|Time spend=3.133387804031372\n",
      "\tVALENCE-s18|Acc=0.78333|10-CV=0.66667|STD=0.09679|Time spend=3.471510171890259\n",
      "Fitted sphere radius:         95.3 mm\n",
      "Origin head coordinates:      -0.8 15.1 45.3 mm\n",
      "Origin device coordinates:    -0.8 15.1 45.3 mm\n",
      "========= close ========\n",
      "\tAROUSAL-s19|Acc=0.72667|10-CV=0.61867|STD=0.11764|Time spend=3.088024616241455\n",
      "\tVALENCE-s19|Acc=0.69|10-CV=0.51267|STD=0.11363|Time spend=3.444303274154663\n",
      "Fitted sphere radius:         95.3 mm\n",
      "Origin head coordinates:      -0.8 15.1 45.3 mm\n",
      "Origin device coordinates:    -0.8 15.1 45.3 mm\n",
      "========= close ========\n",
      "\tAROUSAL-s20|Acc=0.775|10-CV=0.82|STD=0.08718|Time spend=3.0351719856262207\n",
      "\tVALENCE-s20|Acc=0.76|10-CV=0.542|STD=0.13506|Time spend=3.4122095108032227\n",
      "Fitted sphere radius:         95.3 mm\n",
      "Origin head coordinates:      -0.8 15.1 45.3 mm\n",
      "Origin device coordinates:    -0.8 15.1 45.3 mm\n",
      "========= close ========\n",
      "\tAROUSAL-s21|Acc=0.8|10-CV=0.8|STD=0.1|Time spend=2.911424398422241\n",
      "\tVALENCE-s21|Acc=0.60333|10-CV=0.394|STD=0.08623|Time spend=3.308199644088745\n",
      "Fitted sphere radius:         95.3 mm\n",
      "Origin head coordinates:      -0.8 15.1 45.3 mm\n",
      "Origin device coordinates:    -0.8 15.1 45.3 mm\n",
      "========= close ========\n",
      "\tAROUSAL-s22|Acc=0.61167|10-CV=0.578|STD=0.06478|Time spend=3.0511794090270996\n",
      "\tVALENCE-s22|Acc=0.64|10-CV=0.582|STD=0.09009|Time spend=3.476297378540039\n",
      "Fitted sphere radius:         95.3 mm\n",
      "Origin head coordinates:      -0.8 15.1 45.3 mm\n",
      "Origin device coordinates:    -0.8 15.1 45.3 mm\n",
      "========= close ========\n",
      "\tAROUSAL-s23|Acc=0.75|10-CV=0.77067|STD=0.08785|Time spend=3.0029382705688477\n",
      "\tVALENCE-s23|Acc=0.75|10-CV=0.58533|STD=0.12317|Time spend=3.3607747554779053\n",
      "Fitted sphere radius:         95.3 mm\n",
      "Origin head coordinates:      -0.8 15.1 45.3 mm\n",
      "Origin device coordinates:    -0.8 15.1 45.3 mm\n",
      "========= close ========\n",
      "\tAROUSAL-s24|Acc=0.825|10-CV=0.82|STD=0.07483|Time spend=3.2015633583068848\n",
      "\tVALENCE-s24|Acc=0.62833|10-CV=0.48333|STD=0.10107|Time spend=3.5835180282592773\n",
      "Fitted sphere radius:         95.3 mm\n",
      "Origin head coordinates:      -0.8 15.1 45.3 mm\n",
      "Origin device coordinates:    -0.8 15.1 45.3 mm\n",
      "========= close ========\n",
      "\tAROUSAL-s25|Acc=0.725|10-CV=0.73933|STD=0.12672|Time spend=2.9388515949249268\n",
      "\tVALENCE-s25|Acc=0.61167|10-CV=0.36733|STD=0.0934|Time spend=3.3243749141693115\n",
      "Fitted sphere radius:         95.3 mm\n",
      "Origin head coordinates:      -0.8 15.1 45.3 mm\n",
      "Origin device coordinates:    -0.8 15.1 45.3 mm\n",
      "========= close ========\n",
      "\tAROUSAL-s26|Acc=0.68167|10-CV=0.558|STD=0.11524|Time spend=2.9856767654418945\n",
      "\tVALENCE-s26|Acc=0.655|10-CV=0.59133|STD=0.11501|Time spend=3.409034252166748\n",
      "Fitted sphere radius:         95.3 mm\n",
      "Origin head coordinates:      -0.8 15.1 45.3 mm\n",
      "Origin device coordinates:    -0.8 15.1 45.3 mm\n",
      "========= close ========\n",
      "\tAROUSAL-s27|Acc=0.76333|10-CV=0.63467|STD=0.09829|Time spend=3.136162757873535\n",
      "\tVALENCE-s27|Acc=0.80167|10-CV=0.678|STD=0.12572|Time spend=3.441638231277466\n",
      "Fitted sphere radius:         95.3 mm\n",
      "Origin head coordinates:      -0.8 15.1 45.3 mm\n",
      "Origin device coordinates:    -0.8 15.1 45.3 mm\n",
      "========= close ========\n",
      "\tAROUSAL-s28|Acc=0.58667|10-CV=0.45333|STD=0.11423|Time spend=3.1373703479766846\n",
      "\tVALENCE-s28|Acc=0.63833|10-CV=0.53667|STD=0.12097|Time spend=3.4935762882232666\n",
      "Fitted sphere radius:         95.3 mm\n",
      "Origin head coordinates:      -0.8 15.1 45.3 mm\n",
      "Origin device coordinates:    -0.8 15.1 45.3 mm\n",
      "========= close ========\n",
      "\tAROUSAL-s29|Acc=0.7|10-CV=0.54733|STD=0.09026|Time spend=3.104856252670288\n",
      "\tVALENCE-s29|Acc=0.71333|10-CV=0.556|STD=0.0731|Time spend=3.4852001667022705\n",
      "Fitted sphere radius:         95.3 mm\n",
      "Origin head coordinates:      -0.8 15.1 45.3 mm\n",
      "Origin device coordinates:    -0.8 15.1 45.3 mm\n",
      "========= close ========\n",
      "\tAROUSAL-s30|Acc=0.665|10-CV=0.45267|STD=0.07557|Time spend=3.139726400375366\n",
      "\tVALENCE-s30|Acc=0.675|10-CV=0.616|STD=0.14527|Time spend=3.488713502883911\n",
      "Fitted sphere radius:         95.3 mm\n",
      "Origin head coordinates:      -0.8 15.1 45.3 mm\n",
      "Origin device coordinates:    -0.8 15.1 45.3 mm\n",
      "========= close ========\n",
      "\tAROUSAL-s31|Acc=0.76|10-CV=0.57133|STD=0.13353|Time spend=3.0500147342681885\n",
      "\tVALENCE-s31|Acc=0.73667|10-CV=0.50067|STD=0.11045|Time spend=3.4697437286376953\n",
      "Fitted sphere radius:         95.3 mm\n",
      "Origin head coordinates:      -0.8 15.1 45.3 mm\n",
      "Origin device coordinates:    -0.8 15.1 45.3 mm\n",
      "========= close ========\n",
      "\tAROUSAL-s32|Acc=0.69|10-CV=0.70133|STD=0.116|Time spend=3.161130905151367\n",
      "\tVALENCE-s32|Acc=0.65167|10-CV=0.56333|STD=0.07544|Time spend=3.5505895614624023\n",
      "AROUSAL|Acc=0.7151562499999999|10-CV=0.609375|STD=0.10435992126228401\n",
      "VALENCE|Acc=0.6936458333333335|10-CV=0.5527291666666666|STD=0.09971561348625196\n"
     ]
    }
   ],
   "source": [
    "accs, cv_means, cv_stds = [],[],[]\n",
    "accs_v, cv_means_v, cv_stds_v = [],[],[]\n",
    "reports = []\n",
    "for filename in (pbar := tqdm(dataset.get_file_list())):\n",
    "    start = time.time()\n",
    "    pbar.set_description(filename)\n",
    "    data, labels, groups = dataset.get_data(filename, stimuli=Dataset_subjectDependent.STIMULI_AROUSAL, return_type='mne', sfreq=128)\n",
    "    \n",
    "    data_csd = mne.preprocessing.compute_current_source_density(data)\n",
    "    magnitude, freq_range = calculate_fft(data_csd.get_data(), 128)\n",
    "    pcc = calculate_pcc(magnitude)\n",
    "    _,acc,cross,train_report = train_model(pcc, labels.squeeze(), groups, filename=filename, return_text=True)\n",
    "    report = f\"\\tAROUSAL-{filename}|Acc={round(acc,5)}|10-CV={round(cross.mean(),5)}|STD={round(cross.std(),5)}|Time spend={time.time() - start}\"\n",
    "    print(report)\n",
    "    reports.append(report)\n",
    "    reports.append(train_report)\n",
    "    accs.append(acc)\n",
    "    cv_means.append(cross.mean())\n",
    "    cv_stds.append(cross.std())\n",
    "\n",
    "    _, labels_v, groups_v = dataset.get_data(filename, stimuli=Dataset_subjectDependent.STIMULI_VALENCE, return_type='mne', sfreq=128)\n",
    "    _,acc,cross,train_report = train_model(pcc, labels_v.squeeze(), groups_v, filename=filename, return_text=True)\n",
    "    report = f\"\\tVALENCE-{filename}|Acc={round(acc,5)}|10-CV={round(cross.mean(),5)}|STD={round(cross.std(),5)}|Time spend={time.time() - start}\"\n",
    "    print(report)\n",
    "    reports.append(report)\n",
    "    reports.append(train_report)\n",
    "    accs_v.append(acc)\n",
    "    cv_means_v.append(cross.mean())\n",
    "    cv_stds_v.append(cross.std())\n",
    "    # break\n",
    "    # count+=1\n",
    "    # if(count == 5): break\n",
    "report = f\"AROUSAL|Acc={sum(accs)/len(accs)}|10-CV={sum(cv_means)/len(cv_means)}|STD={sum(cv_stds)/len(cv_stds)}\"\n",
    "print(report)\n",
    "reports.append(report)\n",
    "report = f\"VALENCE|Acc={sum(accs_v)/len(accs_v)}|10-CV={sum(cv_means_v)/len(cv_means_v)}|STD={sum(cv_stds_v)/len(cv_stds_v)}\"\n",
    "print(report)\n",
    "reports.append(report)"
   ]
  },
  {
   "cell_type": "code",
   "execution_count": 12,
   "metadata": {},
   "outputs": [
    {
     "name": "stdout",
     "output_type": "stream",
     "text": [
      "\tAROUSAL-s01|Acc=0.79|10-CV=0.53533|STD=0.12289|Time spend=3.028975009918213\n",
      "\tVALENCE-s01|Acc=0.77333|10-CV=0.48867|STD=0.07118|Time spend=3.429551362991333\n",
      "\tAROUSAL-s02|Acc=0.64167|10-CV=0.574|STD=0.10424|Time spend=2.9688048362731934\n",
      "\tVALENCE-s02|Acc=0.62|10-CV=0.45267|STD=0.08514|Time spend=3.3559300899505615\n",
      "\tAROUSAL-s03|Acc=0.8|10-CV=0.73|STD=0.15524|Time spend=3.2946813106536865\n",
      "-----WARNING: Model s03 failed to learn: sum(ans)=0.0 sum(y)=120.0 len(y)=600\n",
      "\tVALENCE-s03|Acc=0.63333|10-CV=0.456|STD=0.13291|Time spend=3.741478681564331\n",
      "\tAROUSAL-s04|Acc=0.63333|10-CV=0.49667|STD=0.1343|Time spend=3.362854480743408\n",
      "\tVALENCE-s04|Acc=0.61|10-CV=0.48733|STD=0.11751|Time spend=3.77034854888916\n",
      "\tAROUSAL-s05|Acc=0.65667|10-CV=0.45067|STD=0.11501|Time spend=3.031146287918091\n",
      "\tVALENCE-s05|Acc=0.62833|10-CV=0.55333|STD=0.07333|Time spend=3.414764404296875\n",
      "\tAROUSAL-s06|Acc=0.68667|10-CV=0.55133|STD=0.14236|Time spend=3.171693801879883\n",
      "\tVALENCE-s06|Acc=0.75|10-CV=0.71733|STD=0.0731|Time spend=3.5013859272003174\n",
      "-----WARNING: Model s06 failed to learn: sum(ans)=600.0 sum(y)=450.0 len(y)=600\n",
      "\tAROUSAL-s07|Acc=0.71833|10-CV=0.61267|STD=0.10077|Time spend=3.1147565841674805\n",
      "\tVALENCE-s07|Acc=0.76667|10-CV=0.648|STD=0.12421|Time spend=3.4583520889282227\n",
      "\tAROUSAL-s08|Acc=0.66833|10-CV=0.41|STD=0.12849|Time spend=3.1574246883392334\n",
      "\tVALENCE-s08|Acc=0.685|10-CV=0.47733|STD=0.07455|Time spend=3.5381569862365723\n",
      "\tAROUSAL-s09|Acc=0.65167|10-CV=0.54867|STD=0.12351|Time spend=3.0442752838134766\n",
      "\tVALENCE-s09|Acc=0.70333|10-CV=0.59933|STD=0.06214|Time spend=3.3976190090179443\n",
      "\tAROUSAL-s10|Acc=0.715|10-CV=0.524|STD=0.07833|Time spend=3.1569154262542725\n",
      "\tVALENCE-s10|Acc=0.79|10-CV=0.71867|STD=0.08294|Time spend=3.5055391788482666\n",
      "\tAROUSAL-s11|Acc=0.66833|10-CV=0.60333|STD=0.04973|Time spend=3.0886950492858887\n",
      "\tVALENCE-s11|Acc=0.66833|10-CV=0.552|STD=0.15208|Time spend=3.4444005489349365\n",
      "\tAROUSAL-s12|Acc=0.825|10-CV=0.83|STD=0.1005|Time spend=2.925039768218994\n",
      "-----WARNING: Model s12 failed to learn: sum(ans)=600.0 sum(y)=495.0 len(y)=600\n",
      "\tVALENCE-s12|Acc=0.68333|10-CV=0.454|STD=0.14411|Time spend=3.3167104721069336\n",
      "\tAROUSAL-s13|Acc=0.85|10-CV=0.84|STD=0.06633|Time spend=3.014382839202881\n",
      "-----WARNING: Model s13 failed to learn: sum(ans)=600.0 sum(y)=510.0 len(y)=600\n",
      "\tVALENCE-s13|Acc=0.69333|10-CV=0.59267|STD=0.06576|Time spend=3.412446975708008\n",
      "\tAROUSAL-s14|Acc=0.675|10-CV=0.65|STD=0.10247|Time spend=3.163201332092285\n",
      "-----WARNING: Model s14 failed to learn: sum(ans)=600.0 sum(y)=405.0 len(y)=600\n",
      "\tVALENCE-s14|Acc=0.70333|10-CV=0.56467|STD=0.05896|Time spend=3.6028554439544678\n",
      "\tAROUSAL-s15|Acc=0.775|10-CV=0.49|STD=0.09703|Time spend=3.6453003883361816\n",
      "\tVALENCE-s15|Acc=0.825|10-CV=0.69467|STD=0.06817|Time spend=3.9745583534240723\n",
      "\tAROUSAL-s16|Acc=0.70167|10-CV=0.45|STD=0.11373|Time spend=3.2031877040863037\n",
      "\tVALENCE-s16|Acc=0.72167|10-CV=0.63067|STD=0.08698|Time spend=3.5609371662139893\n",
      "\tAROUSAL-s17|Acc=0.68667|10-CV=0.59333|STD=0.08417|Time spend=3.2157397270202637\n",
      "\tVALENCE-s17|Acc=0.60333|10-CV=0.42467|STD=0.11243|Time spend=3.594430446624756\n",
      "\tAROUSAL-s18|Acc=0.68167|10-CV=0.54467|STD=0.11829|Time spend=3.133387804031372\n",
      "\tVALENCE-s18|Acc=0.78333|10-CV=0.66667|STD=0.09679|Time spend=3.471510171890259\n",
      "\tAROUSAL-s19|Acc=0.72667|10-CV=0.61867|STD=0.11764|Time spend=3.088024616241455\n",
      "\tVALENCE-s19|Acc=0.69|10-CV=0.51267|STD=0.11363|Time spend=3.444303274154663\n",
      "\tAROUSAL-s20|Acc=0.775|10-CV=0.82|STD=0.08718|Time spend=3.0351719856262207\n",
      "-----WARNING: Model s20 failed to learn: sum(ans)=600.0 sum(y)=465.0 len(y)=600\n",
      "\tVALENCE-s20|Acc=0.76|10-CV=0.542|STD=0.13506|Time spend=3.4122095108032227\n",
      "\tAROUSAL-s21|Acc=0.8|10-CV=0.8|STD=0.1|Time spend=2.911424398422241\n",
      "-----WARNING: Model s21 failed to learn: sum(ans)=600.0 sum(y)=480.0 len(y)=600\n",
      "\tVALENCE-s21|Acc=0.60333|10-CV=0.394|STD=0.08623|Time spend=3.308199644088745\n",
      "\tAROUSAL-s22|Acc=0.61167|10-CV=0.578|STD=0.06478|Time spend=3.0511794090270996\n",
      "\tVALENCE-s22|Acc=0.64|10-CV=0.582|STD=0.09009|Time spend=3.476297378540039\n",
      "\tAROUSAL-s23|Acc=0.75|10-CV=0.77067|STD=0.08785|Time spend=3.0029382705688477\n",
      "-----WARNING: Model s23 failed to learn: sum(ans)=0.0 sum(y)=150.0 len(y)=600\n",
      "\tVALENCE-s23|Acc=0.75|10-CV=0.58533|STD=0.12317|Time spend=3.3607747554779053\n",
      "\tAROUSAL-s24|Acc=0.825|10-CV=0.82|STD=0.07483|Time spend=3.2015633583068848\n",
      "-----WARNING: Model s24 failed to learn: sum(ans)=600.0 sum(y)=495.0 len(y)=600\n",
      "\tVALENCE-s24|Acc=0.62833|10-CV=0.48333|STD=0.10107|Time spend=3.5835180282592773\n",
      "\tAROUSAL-s25|Acc=0.725|10-CV=0.73933|STD=0.12672|Time spend=2.9388515949249268\n",
      "-----WARNING: Model s25 failed to learn: sum(ans)=600.0 sum(y)=435.0 len(y)=600\n",
      "\tVALENCE-s25|Acc=0.61167|10-CV=0.36733|STD=0.0934|Time spend=3.3243749141693115\n",
      "\tAROUSAL-s26|Acc=0.68167|10-CV=0.558|STD=0.11524|Time spend=2.9856767654418945\n",
      "\tVALENCE-s26|Acc=0.655|10-CV=0.59133|STD=0.11501|Time spend=3.409034252166748\n",
      "\tAROUSAL-s27|Acc=0.76333|10-CV=0.63467|STD=0.09829|Time spend=3.136162757873535\n",
      "\tVALENCE-s27|Acc=0.80167|10-CV=0.678|STD=0.12572|Time spend=3.441638231277466\n",
      "\tAROUSAL-s28|Acc=0.58667|10-CV=0.45333|STD=0.11423|Time spend=3.1373703479766846\n",
      "\tVALENCE-s28|Acc=0.63833|10-CV=0.53667|STD=0.12097|Time spend=3.4935762882232666\n",
      "\tAROUSAL-s29|Acc=0.7|10-CV=0.54733|STD=0.09026|Time spend=3.104856252670288\n",
      "\tVALENCE-s29|Acc=0.71333|10-CV=0.556|STD=0.0731|Time spend=3.4852001667022705\n",
      "\tAROUSAL-s30|Acc=0.665|10-CV=0.45267|STD=0.07557|Time spend=3.139726400375366\n",
      "\tVALENCE-s30|Acc=0.675|10-CV=0.616|STD=0.14527|Time spend=3.488713502883911\n",
      "-----WARNING: Model s30 failed to learn: sum(ans)=600.0 sum(y)=405.0 len(y)=600\n",
      "\tAROUSAL-s31|Acc=0.76|10-CV=0.57133|STD=0.13353|Time spend=3.0500147342681885\n",
      "\tVALENCE-s31|Acc=0.73667|10-CV=0.50067|STD=0.11045|Time spend=3.4697437286376953\n",
      "\tAROUSAL-s32|Acc=0.69|10-CV=0.70133|STD=0.116|Time spend=3.161130905151367\n",
      "\tVALENCE-s32|Acc=0.65167|10-CV=0.56333|STD=0.07544|Time spend=3.5505895614624023\n",
      "AROUSAL|Acc=0.7151562499999999|10-CV=0.609375|STD=0.10435992126228401\n",
      "VALENCE|Acc=0.6936458333333335|10-CV=0.5527291666666666|STD=0.09971561348625196\n",
      "TOTAL|Acc=0.7044010416666663|10-CV=0.5810520833333334|STD=0.10203776737426798\n"
     ]
    }
   ],
   "source": [
    "for text in reports:\n",
    "    if(text == None): continue\n",
    "    print(text)\n",
    "\n",
    "accs.extend(accs_v)\n",
    "cv_means.extend(cv_means_v)\n",
    "cv_stds.extend(cv_stds_v)\n",
    "print(f\"TOTAL|Acc={sum(accs)/len(accs)}|10-CV={sum(cv_means)/len(cv_means)}|STD={sum(cv_stds)/len(cv_stds)}\")"
   ]
  },
  {
   "cell_type": "markdown",
   "metadata": {},
   "source": [
    "### 4.3 $ \\text{PLV}(j,k) = \\frac{1}{T} | \\Sigma^{T}_{t=1} e^{i(\\phi^{t}_{j} - \\phi^{t}_{k})}   | $"
   ]
  },
  {
   "cell_type": "code",
   "execution_count": 13,
   "metadata": {},
   "outputs": [],
   "source": [
    "# bands = [(0,4), (4,8), (8,12), (12,30), (30,64)]\n",
    "def calculate_stft(signals, sfreq):\n",
    "    from scipy import signal\n",
    "    f_range, t_range, Z = signal.stft(signals, sfreq, nperseg=sfreq//10, nfft=sfreq)\n",
    "    magnitude = np.abs(Z) \n",
    "    phase = np.angle(Z)\n",
    "    return magnitude, phase, f_range, t_range\n",
    "\n",
    "def PLV_stft(p_id, phase):\n",
    "    # (32, 65, 12) => (channels, freqs, times)\n",
    "    # print(f\"p_id:{p_id} - data to run {phase.shape}\")\n",
    "    print(phase.shape)\n",
    "    from itertools import combinations\n",
    "    plv = []\n",
    "    # count = 0\n",
    "    for index in range(phase.shape[0]):\n",
    "        plv_epoch = []\n",
    "        for comb in combinations(list(range(phase.shape[1])), 2):\n",
    "            # shape = (65,12)\n",
    "            phase_a, phase_b = phase[index, comb[0]], phase[index, comb[1]]\n",
    "            phase_diff = phase_a - phase_b\n",
    "            # sum along the time size\n",
    "            plv_ab = np.abs(np.average(np.exp(complex(0,1) * phase_diff), axis=1))\n",
    "            plv_epoch.append(plv_ab)\n",
    "        plv_epoch = np.vstack(plv_epoch)\n",
    "        # print(plv_epoch.shape) => (300, 32, 65, 23)\n",
    "        plv_epoch_5 = np.concatenate([ plv_epoch[:,0:4].mean(axis=1).reshape(-1,1),\n",
    "                                        plv_epoch[:,4:8].mean(axis=1).reshape(-1,1),\n",
    "                                        plv_epoch[:,8:12].mean(axis=1).reshape(-1,1),\n",
    "                                        plv_epoch[:,12:30].mean(axis=1).reshape(-1,1),\n",
    "                                        plv_epoch[:,30:65].mean(axis=1).reshape(-1,1)], axis=0)\n",
    "        plv.append(np.expand_dims(plv_epoch_5, axis=0))\n",
    "        # count += 1\n",
    "        # if(count == 3): break\n",
    "    # shape (496, 65)\n",
    "    # 496 is number of pairs that is not duplicate\n",
    "    # 65 is number of phase of frequencies\n",
    "    plv = np.vstack( plv )\n",
    "    return plv.squeeze()\n",
    "\n",
    "def calculate_plv(data, n_jobs=8):\n",
    "    \"\"\" \n",
    "    Input: Expect data to have (n_epochs, n_channels, n_samples)\n",
    "    Output: (n_epochs, n_conn, n_freqs ) => n_conn = n_channels!/(2!(n_channels-2)!)\n",
    "    \"\"\"\n",
    "    from multiprocessing import Pool\n",
    "\n",
    "    try:\n",
    "        t_out = 60000\n",
    "        pool = Pool()\n",
    "        p_list = []\n",
    "        ans_list = []\n",
    "        num_p = n_jobs\n",
    "        indices = np.array_split(np.arange(data.shape[0]), num_p)\n",
    "        _, phase, _, _ = calculate_stft(data, 128)\n",
    "        for p_id in range(num_p):\n",
    "            p_list.append(pool.apply_async(PLV_stft, [p_id, phase[indices[p_id]] ]))\n",
    "        for p_id in range(num_p):\n",
    "            ans_list.append( p_list[p_id].get(timeout=t_out) )\n",
    "        # ans_list\n",
    "    finally:\n",
    "        print(\"========= close ========\")\n",
    "        pool.close() \n",
    "        pool.terminate()\n",
    "    return np.vstack(ans_list)\n"
   ]
  },
  {
   "cell_type": "code",
   "execution_count": 14,
   "metadata": {},
   "outputs": [
    {
     "data": {
      "application/vnd.jupyter.widget-view+json": {
       "model_id": "927a9b5fce044b729a2f4b34bbac134f",
       "version_major": 2,
       "version_minor": 0
      },
      "text/plain": [
       "  0%|          | 0/32 [00:00<?, ?it/s]"
      ]
     },
     "metadata": {},
     "output_type": "display_data"
    },
    {
     "name": "stdout",
     "output_type": "stream",
     "text": [
      "Fitted sphere radius:         95.3 mm\n",
      "Origin head coordinates:      -0.8 15.1 45.3 mm\n",
      "Origin device coordinates:    -0.8 15.1 45.3 mm\n",
      "(75, 32, 65, 87)\n",
      "(75, 32, 65, 87)\n",
      "(75, 32, 65, 87)\n",
      "(75, 32, 65, 87)\n",
      "(75, 32, 65, 87)\n",
      "(75, 32, 65, 87)\n",
      "(75, 32, 65, 87)\n",
      "(75, 32, 65, 87)\n",
      "========= close ========\n",
      "\tAROUSAL-s01|Acc=0.83333|10-CV=0.56333|STD=0.1446|Time spend=21.29649829864502\n",
      "\tVALENCE-s01|Acc=0.83167|10-CV=0.48533|STD=0.07338|Time spend=23.56507420539856\n",
      "Fitted sphere radius:         95.3 mm\n",
      "Origin head coordinates:      -0.8 15.1 45.3 mm\n",
      "Origin device coordinates:    -0.8 15.1 45.3 mm\n",
      "(75, 32, 65, 87)\n",
      "(75, 32, 65, 87)\n",
      "(75, 32, 65, 87)\n",
      "(75, 32, 65, 87)\n",
      "(75, 32, 65, 87)\n",
      "(75, 32, 65, 87)\n",
      "(75, 32, 65, 87)\n",
      "(75, 32, 65, 87)\n",
      "========= close ========\n",
      "\tAROUSAL-s02|Acc=0.70333|10-CV=0.54467|STD=0.09367|Time spend=22.981752634048462\n",
      "\tVALENCE-s02|Acc=0.74833|10-CV=0.67267|STD=0.10597|Time spend=24.829442977905273\n",
      "Fitted sphere radius:         95.3 mm\n",
      "Origin head coordinates:      -0.8 15.1 45.3 mm\n",
      "Origin device coordinates:    -0.8 15.1 45.3 mm\n",
      "(75, 32, 65, 87)\n",
      "(75, 32, 65, 87)\n",
      "(75, 32, 65, 87)\n",
      "(75, 32, 65, 87)\n",
      "(75, 32, 65, 87)\n",
      "(75, 32, 65, 87)\n",
      "(75, 32, 65, 87)\n",
      "(75, 32, 65, 87)\n",
      "========= close ========\n",
      "\tAROUSAL-s03|Acc=0.8|10-CV=0.73|STD=0.15524|Time spend=22.921663522720337\n",
      "\tVALENCE-s03|Acc=0.74667|10-CV=0.59333|STD=0.18304|Time spend=24.9835102558136\n",
      "Fitted sphere radius:         95.3 mm\n",
      "Origin head coordinates:      -0.8 15.1 45.3 mm\n",
      "Origin device coordinates:    -0.8 15.1 45.3 mm\n",
      "(75, 32, 65, 87)\n",
      "(75, 32, 65, 87)\n",
      "(75, 32, 65, 87)\n",
      "(75, 32, 65, 87)\n",
      "(75, 32, 65, 87)\n",
      "(75, 32, 65, 87)\n",
      "(75, 32, 65, 87)\n",
      "(75, 32, 65, 87)\n",
      "========= close ========\n",
      "\tAROUSAL-s04|Acc=0.735|10-CV=0.56|STD=0.10758|Time spend=22.24033546447754\n",
      "\tVALENCE-s04|Acc=0.74167|10-CV=0.608|STD=0.08331|Time spend=24.269334316253662\n",
      "Fitted sphere radius:         95.3 mm\n",
      "Origin head coordinates:      -0.8 15.1 45.3 mm\n",
      "Origin device coordinates:    -0.8 15.1 45.3 mm\n",
      "(75, 32, 65, 87)\n",
      "(75, 32, 65, 87)\n",
      "(75, 32, 65, 87)\n",
      "(75, 32, 65, 87)\n",
      "(75, 32, 65, 87)\n",
      "(75, 32, 65, 87)\n",
      "(75, 32, 65, 87)\n",
      "(75, 32, 65, 87)\n",
      "========= close ========\n",
      "\tAROUSAL-s05|Acc=0.70167|10-CV=0.44533|STD=0.10383|Time spend=21.771145820617676\n",
      "\tVALENCE-s05|Acc=0.675|10-CV=0.548|STD=0.08863|Time spend=23.92218852043152\n",
      "Fitted sphere radius:         95.3 mm\n",
      "Origin head coordinates:      -0.8 15.1 45.3 mm\n",
      "Origin device coordinates:    -0.8 15.1 45.3 mm\n",
      "(75, 32, 65, 87)\n",
      "(75, 32, 65, 87)\n",
      "(75, 32, 65, 87)\n",
      "(75, 32, 65, 87)\n",
      "(75, 32, 65, 87)\n",
      "(75, 32, 65, 87)\n",
      "(75, 32, 65, 87)\n",
      "(75, 32, 65, 87)\n",
      "========= close ========\n",
      "\tAROUSAL-s06|Acc=0.635|10-CV=0.51133|STD=0.12817|Time spend=21.1551251411438\n",
      "\tVALENCE-s06|Acc=0.75|10-CV=0.72|STD=0.07483|Time spend=22.936553239822388\n",
      "Fitted sphere radius:         95.3 mm\n",
      "Origin head coordinates:      -0.8 15.1 45.3 mm\n",
      "Origin device coordinates:    -0.8 15.1 45.3 mm\n",
      "(75, 32, 65, 87)\n",
      "(75, 32, 65, 87)\n",
      "(75, 32, 65, 87)\n",
      "(75, 32, 65, 87)\n",
      "(75, 32, 65, 87)\n",
      "(75, 32, 65, 87)\n",
      "(75, 32, 65, 87)\n",
      "(75, 32, 65, 87)\n",
      "========= close ========\n",
      "\tAROUSAL-s07|Acc=0.73667|10-CV=0.6|STD=0.08241|Time spend=21.776840925216675\n",
      "\tVALENCE-s07|Acc=0.79667|10-CV=0.658|STD=0.1412|Time spend=23.546382188796997\n",
      "Fitted sphere radius:         95.3 mm\n",
      "Origin head coordinates:      -0.8 15.1 45.3 mm\n",
      "Origin device coordinates:    -0.8 15.1 45.3 mm\n",
      "(75, 32, 65, 87)\n",
      "(75, 32, 65, 87)\n",
      "(75, 32, 65, 87)\n",
      "(75, 32, 65, 87)\n",
      "(75, 32, 65, 87)\n",
      "(75, 32, 65, 87)\n",
      "(75, 32, 65, 87)\n",
      "(75, 32, 65, 87)\n",
      "========= close ========\n",
      "\tAROUSAL-s08|Acc=0.78|10-CV=0.41667|STD=0.1154|Time spend=21.06941056251526\n",
      "\tVALENCE-s08|Acc=0.82167|10-CV=0.49467|STD=0.08479|Time spend=23.20983910560608\n",
      "Fitted sphere radius:         95.3 mm\n",
      "Origin head coordinates:      -0.8 15.1 45.3 mm\n",
      "Origin device coordinates:    -0.8 15.1 45.3 mm\n",
      "(75, 32, 65, 87)\n",
      "(75, 32, 65, 87)\n",
      "(75, 32, 65, 87)\n",
      "(75, 32, 65, 87)\n",
      "(75, 32, 65, 87)\n",
      "(75, 32, 65, 87)\n",
      "(75, 32, 65, 87)\n",
      "(75, 32, 65, 87)\n",
      "========= close ========\n",
      "\tAROUSAL-s09|Acc=0.75167|10-CV=0.51333|STD=0.08964|Time spend=20.99413537979126\n",
      "\tVALENCE-s09|Acc=0.78167|10-CV=0.66267|STD=0.08673|Time spend=22.726500988006592\n",
      "Fitted sphere radius:         95.3 mm\n",
      "Origin head coordinates:      -0.8 15.1 45.3 mm\n",
      "Origin device coordinates:    -0.8 15.1 45.3 mm\n",
      "(75, 32, 65, 87)\n",
      "(75, 32, 65, 87)\n",
      "(75, 32, 65, 87)\n",
      "(75, 32, 65, 87)\n",
      "(75, 32, 65, 87)\n",
      "(75, 32, 65, 87)\n",
      "(75, 32, 65, 87)\n",
      "(75, 32, 65, 87)\n",
      "========= close ========\n",
      "\tAROUSAL-s10|Acc=0.765|10-CV=0.59933|STD=0.08852|Time spend=20.889944553375244\n",
      "\tVALENCE-s10|Acc=0.85|10-CV=0.778|STD=0.08|Time spend=22.45601224899292\n",
      "Fitted sphere radius:         95.3 mm\n",
      "Origin head coordinates:      -0.8 15.1 45.3 mm\n",
      "Origin device coordinates:    -0.8 15.1 45.3 mm\n",
      "(75, 32, 65, 87)\n",
      "(75, 32, 65, 87)\n",
      "(75, 32, 65, 87)\n",
      "(75, 32, 65, 87)\n",
      "(75, 32, 65, 87)\n",
      "(75, 32, 65, 87)\n",
      "(75, 32, 65, 87)\n",
      "(75, 32, 65, 87)\n",
      "========= close ========\n",
      "\tAROUSAL-s11|Acc=0.67667|10-CV=0.57333|STD=0.04733|Time spend=21.423285484313965\n",
      "\tVALENCE-s11|Acc=0.70333|10-CV=0.54067|STD=0.15294|Time spend=23.392523765563965\n",
      "Fitted sphere radius:         95.3 mm\n",
      "Origin head coordinates:      -0.8 15.1 45.3 mm\n",
      "Origin device coordinates:    -0.8 15.1 45.3 mm\n",
      "(75, 32, 65, 87)\n",
      "(75, 32, 65, 87)\n",
      "(75, 32, 65, 87)\n",
      "(75, 32, 65, 87)\n",
      "(75, 32, 65, 87)\n",
      "(75, 32, 65, 87)\n",
      "(75, 32, 65, 87)\n",
      "(75, 32, 65, 87)\n",
      "========= close ========\n",
      "\tAROUSAL-s12|Acc=0.825|10-CV=0.83|STD=0.1005|Time spend=20.847689151763916\n",
      "\tVALENCE-s12|Acc=0.72833|10-CV=0.488|STD=0.16066|Time spend=22.89152455329895\n",
      "Fitted sphere radius:         95.3 mm\n",
      "Origin head coordinates:      -0.8 15.1 45.3 mm\n",
      "Origin device coordinates:    -0.8 15.1 45.3 mm\n",
      "(75, 32, 65, 87)\n",
      "(75, 32, 65, 87)\n",
      "(75, 32, 65, 87)\n",
      "(75, 32, 65, 87)\n",
      "(75, 32, 65, 87)\n",
      "(75, 32, 65, 87)\n",
      "(75, 32, 65, 87)\n",
      "(75, 32, 65, 87)\n",
      "========= close ========\n",
      "\tAROUSAL-s13|Acc=0.85|10-CV=0.84|STD=0.06633|Time spend=20.880679845809937\n",
      "\tVALENCE-s13|Acc=0.78667|10-CV=0.74467|STD=0.10181|Time spend=22.576508283615112\n",
      "Fitted sphere radius:         95.3 mm\n",
      "Origin head coordinates:      -0.8 15.1 45.3 mm\n",
      "Origin device coordinates:    -0.8 15.1 45.3 mm\n",
      "(75, 32, 65, 87)\n",
      "(75, 32, 65, 87)\n",
      "(75, 32, 65, 87)\n",
      "(75, 32, 65, 87)\n",
      "(75, 32, 65, 87)\n",
      "(75, 32, 65, 87)\n",
      "(75, 32, 65, 87)\n",
      "(75, 32, 65, 87)\n",
      "========= close ========\n",
      "\tAROUSAL-s14|Acc=0.69833|10-CV=0.632|STD=0.0914|Time spend=21.201029777526855\n",
      "\tVALENCE-s14|Acc=0.78333|10-CV=0.70133|STD=0.03816|Time spend=23.098094701766968\n",
      "Fitted sphere radius:         95.3 mm\n",
      "Origin head coordinates:      -0.8 15.1 45.3 mm\n",
      "Origin device coordinates:    -0.8 15.1 45.3 mm\n",
      "(75, 32, 65, 87)\n",
      "(75, 32, 65, 87)\n",
      "(75, 32, 65, 87)\n",
      "(75, 32, 65, 87)\n",
      "(75, 32, 65, 87)\n",
      "(75, 32, 65, 87)\n",
      "(75, 32, 65, 87)\n",
      "(75, 32, 65, 87)\n",
      "========= close ========\n",
      "\tAROUSAL-s15|Acc=0.78|10-CV=0.52667|STD=0.11274|Time spend=20.079122304916382\n",
      "\tVALENCE-s15|Acc=0.87333|10-CV=0.782|STD=0.06045|Time spend=21.62621760368347\n",
      "Fitted sphere radius:         95.3 mm\n",
      "Origin head coordinates:      -0.8 15.1 45.3 mm\n",
      "Origin device coordinates:    -0.8 15.1 45.3 mm\n",
      "(75, 32, 65, 87)\n",
      "(75, 32, 65, 87)\n",
      "(75, 32, 65, 87)\n",
      "(75, 32, 65, 87)\n",
      "(75, 32, 65, 87)\n",
      "(75, 32, 65, 87)\n",
      "(75, 32, 65, 87)\n",
      "(75, 32, 65, 87)\n",
      "========= close ========\n",
      "\tAROUSAL-s16|Acc=0.75333|10-CV=0.46|STD=0.07978|Time spend=21.559187173843384\n",
      "\tVALENCE-s16|Acc=0.76|10-CV=0.66267|STD=0.10376|Time spend=23.271127939224243\n",
      "Fitted sphere radius:         95.3 mm\n",
      "Origin head coordinates:      -0.8 15.1 45.3 mm\n",
      "Origin device coordinates:    -0.8 15.1 45.3 mm\n",
      "(75, 32, 65, 87)\n",
      "(75, 32, 65, 87)\n",
      "(75, 32, 65, 87)\n",
      "(75, 32, 65, 87)\n",
      "(75, 32, 65, 87)\n",
      "(75, 32, 65, 87)\n",
      "(75, 32, 65, 87)\n",
      "(75, 32, 65, 87)\n",
      "========= close ========\n",
      "\tAROUSAL-s17|Acc=0.75333|10-CV=0.66333|STD=0.05235|Time spend=21.88047456741333\n",
      "\tVALENCE-s17|Acc=0.66833|10-CV=0.46133|STD=0.10434|Time spend=23.97936773300171\n",
      "Fitted sphere radius:         95.3 mm\n",
      "Origin head coordinates:      -0.8 15.1 45.3 mm\n",
      "Origin device coordinates:    -0.8 15.1 45.3 mm\n",
      "(75, 32, 65, 87)\n",
      "(75, 32, 65, 87)\n",
      "(75, 32, 65, 87)\n",
      "(75, 32, 65, 87)\n",
      "(75, 32, 65, 87)\n",
      "(75, 32, 65, 87)\n",
      "(75, 32, 65, 87)\n",
      "(75, 32, 65, 87)\n",
      "========= close ========\n",
      "\tAROUSAL-s18|Acc=0.69|10-CV=0.51533|STD=0.11616|Time spend=21.82454013824463\n",
      "\tVALENCE-s18|Acc=0.81667|10-CV=0.726|STD=0.06663|Time spend=23.312899827957153\n",
      "Fitted sphere radius:         95.3 mm\n",
      "Origin head coordinates:      -0.8 15.1 45.3 mm\n",
      "Origin device coordinates:    -0.8 15.1 45.3 mm\n",
      "(75, 32, 65, 87)\n",
      "(75, 32, 65, 87)\n",
      "(75, 32, 65, 87)\n",
      "(75, 32, 65, 87)\n",
      "(75, 32, 65, 87)\n",
      "(75, 32, 65, 87)\n",
      "(75, 32, 65, 87)\n",
      "(75, 32, 65, 87)\n",
      "========= close ========\n",
      "\tAROUSAL-s19|Acc=0.74833|10-CV=0.64267|STD=0.11148|Time spend=21.32004714012146\n",
      "\tVALENCE-s19|Acc=0.765|10-CV=0.49867|STD=0.11123|Time spend=23.134218454360962\n",
      "Fitted sphere radius:         95.3 mm\n",
      "Origin head coordinates:      -0.8 15.1 45.3 mm\n",
      "Origin device coordinates:    -0.8 15.1 45.3 mm\n",
      "(75, 32, 65, 87)\n",
      "(75, 32, 65, 87)\n",
      "(75, 32, 65, 87)\n",
      "(75, 32, 65, 87)\n",
      "(75, 32, 65, 87)\n",
      "(75, 32, 65, 87)\n",
      "(75, 32, 65, 87)\n",
      "(75, 32, 65, 87)\n",
      "========= close ========\n",
      "\tAROUSAL-s20|Acc=0.775|10-CV=0.82|STD=0.08718|Time spend=21.005099058151245\n",
      "\tVALENCE-s20|Acc=0.785|10-CV=0.61533|STD=0.12271|Time spend=22.76488494873047\n",
      "Fitted sphere radius:         95.3 mm\n",
      "Origin head coordinates:      -0.8 15.1 45.3 mm\n",
      "Origin device coordinates:    -0.8 15.1 45.3 mm\n",
      "(75, 32, 65, 87)\n",
      "(75, 32, 65, 87)\n",
      "(75, 32, 65, 87)\n",
      "(75, 32, 65, 87)\n",
      "(75, 32, 65, 87)\n",
      "(75, 32, 65, 87)\n",
      "(75, 32, 65, 87)\n",
      "(75, 32, 65, 87)\n",
      "========= close ========\n",
      "\tAROUSAL-s21|Acc=0.8|10-CV=0.8|STD=0.1|Time spend=21.262596607208252\n",
      "\tVALENCE-s21|Acc=0.66667|10-CV=0.444|STD=0.09772|Time spend=23.477543115615845\n",
      "Fitted sphere radius:         95.3 mm\n",
      "Origin head coordinates:      -0.8 15.1 45.3 mm\n",
      "Origin device coordinates:    -0.8 15.1 45.3 mm\n",
      "(75, 32, 65, 87)\n",
      "(75, 32, 65, 87)\n",
      "(75, 32, 65, 87)\n",
      "(75, 32, 65, 87)\n",
      "(75, 32, 65, 87)\n",
      "(75, 32, 65, 87)\n",
      "(75, 32, 65, 87)\n",
      "(75, 32, 65, 87)\n",
      "========= close ========\n",
      "\tAROUSAL-s22|Acc=0.625|10-CV=0.592|STD=0.06685|Time spend=21.01161789894104\n",
      "\tVALENCE-s22|Acc=0.76333|10-CV=0.69333|STD=0.07972|Time spend=22.757848024368286\n",
      "Fitted sphere radius:         95.3 mm\n",
      "Origin head coordinates:      -0.8 15.1 45.3 mm\n",
      "Origin device coordinates:    -0.8 15.1 45.3 mm\n",
      "(75, 32, 65, 87)\n",
      "(75, 32, 65, 87)\n",
      "(75, 32, 65, 87)\n",
      "(75, 32, 65, 87)\n",
      "(75, 32, 65, 87)\n",
      "(75, 32, 65, 87)\n",
      "(75, 32, 65, 87)\n",
      "(75, 32, 65, 87)\n",
      "========= close ========\n",
      "\tAROUSAL-s23|Acc=0.79333|10-CV=0.77667|STD=0.09467|Time spend=20.196856260299683\n",
      "\tVALENCE-s23|Acc=0.79|10-CV=0.58867|STD=0.12487|Time spend=22.170099020004272\n",
      "Fitted sphere radius:         95.3 mm\n",
      "Origin head coordinates:      -0.8 15.1 45.3 mm\n",
      "Origin device coordinates:    -0.8 15.1 45.3 mm\n",
      "(75, 32, 65, 87)\n",
      "(75, 32, 65, 87)\n",
      "(75, 32, 65, 87)\n",
      "(75, 32, 65, 87)\n",
      "(75, 32, 65, 87)\n",
      "(75, 32, 65, 87)\n",
      "(75, 32, 65, 87)\n",
      "(75, 32, 65, 87)\n",
      "========= close ========\n",
      "\tAROUSAL-s24|Acc=0.825|10-CV=0.82|STD=0.07483|Time spend=20.174258708953857\n",
      "\tVALENCE-s24|Acc=0.76|10-CV=0.59133|STD=0.089|Time spend=22.1608784198761\n",
      "Fitted sphere radius:         95.3 mm\n",
      "Origin head coordinates:      -0.8 15.1 45.3 mm\n",
      "Origin device coordinates:    -0.8 15.1 45.3 mm\n",
      "(75, 32, 65, 87)\n",
      "(75, 32, 65, 87)\n",
      "(75, 32, 65, 87)\n",
      "(75, 32, 65, 87)\n",
      "(75, 32, 65, 87)\n",
      "(75, 32, 65, 87)\n",
      "(75, 32, 65, 87)\n",
      "(75, 32, 65, 87)\n",
      "========= close ========\n",
      "\tAROUSAL-s25|Acc=0.725|10-CV=0.74|STD=0.12806|Time spend=19.642167568206787\n",
      "\tVALENCE-s25|Acc=0.67833|10-CV=0.42333|STD=0.10722|Time spend=21.920225381851196\n",
      "Fitted sphere radius:         95.3 mm\n",
      "Origin head coordinates:      -0.8 15.1 45.3 mm\n",
      "Origin device coordinates:    -0.8 15.1 45.3 mm\n",
      "(75, 32, 65, 87)\n",
      "(75, 32, 65, 87)\n",
      "(75, 32, 65, 87)\n",
      "(75, 32, 65, 87)\n",
      "(75, 32, 65, 87)\n",
      "(75, 32, 65, 87)\n",
      "(75, 32, 65, 87)\n",
      "(75, 32, 65, 87)\n",
      "========= close ========\n",
      "\tAROUSAL-s26|Acc=0.72667|10-CV=0.53933|STD=0.09686|Time spend=21.63530468940735\n",
      "\tVALENCE-s26|Acc=0.67667|10-CV=0.58333|STD=0.1068|Time spend=23.605817079544067\n",
      "Fitted sphere radius:         95.3 mm\n",
      "Origin head coordinates:      -0.8 15.1 45.3 mm\n",
      "Origin device coordinates:    -0.8 15.1 45.3 mm\n",
      "(75, 32, 65, 87)\n",
      "(75, 32, 65, 87)\n",
      "(75, 32, 65, 87)\n",
      "(75, 32, 65, 87)\n",
      "(75, 32, 65, 87)\n",
      "(75, 32, 65, 87)\n",
      "(75, 32, 65, 87)\n",
      "(75, 32, 65, 87)\n",
      "========= close ========\n",
      "\tAROUSAL-s27|Acc=0.81|10-CV=0.632|STD=0.10426|Time spend=21.349913597106934\n",
      "\tVALENCE-s27|Acc=0.755|10-CV=0.65067|STD=0.1044|Time spend=22.915347576141357\n",
      "Fitted sphere radius:         95.3 mm\n",
      "Origin head coordinates:      -0.8 15.1 45.3 mm\n",
      "Origin device coordinates:    -0.8 15.1 45.3 mm\n",
      "(75, 32, 65, 87)\n",
      "(75, 32, 65, 87)\n",
      "(75, 32, 65, 87)\n",
      "(75, 32, 65, 87)\n",
      "(75, 32, 65, 87)\n",
      "(75, 32, 65, 87)\n",
      "(75, 32, 65, 87)\n",
      "(75, 32, 65, 87)\n",
      "========= close ========\n",
      "\tAROUSAL-s28|Acc=0.665|10-CV=0.49667|STD=0.11109|Time spend=20.749939680099487\n",
      "\tVALENCE-s28|Acc=0.70667|10-CV=0.496|STD=0.0881|Time spend=22.61739182472229\n",
      "Fitted sphere radius:         95.3 mm\n",
      "Origin head coordinates:      -0.8 15.1 45.3 mm\n",
      "Origin device coordinates:    -0.8 15.1 45.3 mm\n",
      "(75, 32, 65, 87)\n",
      "(75, 32, 65, 87)\n",
      "(75, 32, 65, 87)\n",
      "(75, 32, 65, 87)\n",
      "(75, 32, 65, 87)\n",
      "(75, 32, 65, 87)\n",
      "(75, 32, 65, 87)\n",
      "(75, 32, 65, 87)\n",
      "========= close ========\n",
      "\tAROUSAL-s29|Acc=0.725|10-CV=0.566|STD=0.09854|Time spend=20.712459802627563\n",
      "\tVALENCE-s29|Acc=0.73|10-CV=0.56733|STD=0.07083|Time spend=22.834901809692383\n",
      "Fitted sphere radius:         95.3 mm\n",
      "Origin head coordinates:      -0.8 15.1 45.3 mm\n",
      "Origin device coordinates:    -0.8 15.1 45.3 mm\n",
      "(75, 32, 65, 87)\n",
      "(75, 32, 65, 87)\n",
      "(75, 32, 65, 87)\n",
      "(75, 32, 65, 87)\n",
      "(75, 32, 65, 87)\n",
      "(75, 32, 65, 87)\n",
      "(75, 32, 65, 87)\n",
      "(75, 32, 65, 87)\n",
      "========= close ========\n",
      "\tAROUSAL-s30|Acc=0.7|10-CV=0.456|STD=0.09291|Time spend=20.85784101486206\n",
      "\tVALENCE-s30|Acc=0.675|10-CV=0.61067|STD=0.14249|Time spend=22.859724283218384\n",
      "Fitted sphere radius:         95.3 mm\n",
      "Origin head coordinates:      -0.8 15.1 45.3 mm\n",
      "Origin device coordinates:    -0.8 15.1 45.3 mm\n",
      "(75, 32, 65, 87)\n",
      "(75, 32, 65, 87)\n",
      "(75, 32, 65, 87)\n",
      "(75, 32, 65, 87)\n",
      "(75, 32, 65, 87)\n",
      "(75, 32, 65, 87)\n",
      "(75, 32, 65, 87)\n",
      "(75, 32, 65, 87)\n",
      "========= close ========\n",
      "\tAROUSAL-s31|Acc=0.82167|10-CV=0.53867|STD=0.1138|Time spend=23.35765814781189\n",
      "\tVALENCE-s31|Acc=0.75167|10-CV=0.486|STD=0.10213|Time spend=25.596468687057495\n",
      "Fitted sphere radius:         95.3 mm\n",
      "Origin head coordinates:      -0.8 15.1 45.3 mm\n",
      "Origin device coordinates:    -0.8 15.1 45.3 mm\n",
      "(75, 32, 65, 87)\n",
      "(75, 32, 65, 87)\n",
      "(75, 32, 65, 87)\n",
      "(75, 32, 65, 87)\n",
      "(75, 32, 65, 87)\n",
      "(75, 32, 65, 87)\n",
      "(75, 32, 65, 87)\n",
      "(75, 32, 65, 87)\n",
      "========= close ========\n",
      "\tAROUSAL-s32|Acc=0.70667|10-CV=0.666|STD=0.09235|Time spend=21.811633586883545\n",
      "\tVALENCE-s32|Acc=0.7|10-CV=0.47333|STD=0.09933|Time spend=24.000279188156128\n",
      "AROUSAL|Acc=0.7473437499999999|10-CV=0.6128333333333335|STD=0.09839132737179701\n",
      "VALENCE|Acc=0.7520833333333332|10-CV=0.5952916666666667|STD=0.10116203836679326\n"
     ]
    }
   ],
   "source": [
    "accs, cv_means, cv_stds = [],[],[]\n",
    "accs_v, cv_means_v, cv_stds_v = [],[],[]\n",
    "reports = []\n",
    "for filename in (pbar := tqdm(dataset.get_file_list())):\n",
    "    start = time.time()\n",
    "    pbar.set_description(filename)\n",
    "    data, labels, groups = dataset.get_data(filename, stimuli=Dataset_subjectDependent.STIMULI_AROUSAL, return_type='mne', sfreq=128)\n",
    "    \n",
    "    data_csd = mne.preprocessing.compute_current_source_density(data)\n",
    "\n",
    "    plv = calculate_plv(data_csd.get_data(), n_jobs=8)\n",
    "\n",
    "    _,acc,cross,train_report = train_model(plv, labels.squeeze(), groups, filename=filename, return_text=True)\n",
    "    report = f\"\\tAROUSAL-{filename}|Acc={round(acc,5)}|10-CV={round(cross.mean(),5)}|STD={round(cross.std(),5)}|Time spend={time.time() - start}\"\n",
    "    print(report)\n",
    "    reports.append(report)\n",
    "    reports.append(train_report)\n",
    "    accs.append(acc)\n",
    "    cv_means.append(cross.mean())\n",
    "    cv_stds.append(cross.std())\n",
    "\n",
    "    _, labels_v, groups_v = dataset.get_data(filename, stimuli=Dataset_subjectDependent.STIMULI_VALENCE, return_type='mne', sfreq=128)\n",
    "    _,acc,cross,train_report = train_model(plv, labels_v.squeeze(), groups_v, filename=filename, return_text=True)\n",
    "    report = f\"\\tVALENCE-{filename}|Acc={round(acc,5)}|10-CV={round(cross.mean(),5)}|STD={round(cross.std(),5)}|Time spend={time.time() - start}\"\n",
    "    print(report)\n",
    "    reports.append(report)\n",
    "    reports.append(train_report)\n",
    "    accs_v.append(acc)\n",
    "    cv_means_v.append(cross.mean())\n",
    "    cv_stds_v.append(cross.std())\n",
    "    # break\n",
    "    # count+=1\n",
    "    # if(count == 5): break\n",
    "report = f\"AROUSAL|Acc={sum(accs)/len(accs)}|10-CV={sum(cv_means)/len(cv_means)}|STD={sum(cv_stds)/len(cv_stds)}\"\n",
    "print(report)\n",
    "reports.append(report)\n",
    "report = f\"VALENCE|Acc={sum(accs_v)/len(accs_v)}|10-CV={sum(cv_means_v)/len(cv_means_v)}|STD={sum(cv_stds_v)/len(cv_stds_v)}\"\n",
    "print(report)\n",
    "reports.append(report)"
   ]
  },
  {
   "cell_type": "code",
   "execution_count": 15,
   "metadata": {},
   "outputs": [
    {
     "name": "stdout",
     "output_type": "stream",
     "text": [
      "\tAROUSAL-s01|Acc=0.83333|10-CV=0.56333|STD=0.1446|Time spend=21.29649829864502\n",
      "\tVALENCE-s01|Acc=0.83167|10-CV=0.48533|STD=0.07338|Time spend=23.56507420539856\n",
      "\tAROUSAL-s02|Acc=0.70333|10-CV=0.54467|STD=0.09367|Time spend=22.981752634048462\n",
      "\tVALENCE-s02|Acc=0.74833|10-CV=0.67267|STD=0.10597|Time spend=24.829442977905273\n",
      "\tAROUSAL-s03|Acc=0.8|10-CV=0.73|STD=0.15524|Time spend=22.921663522720337\n",
      "-----WARNING: Model s03 failed to learn: sum(ans)=0.0 sum(y)=120.0 len(y)=600\n",
      "\tVALENCE-s03|Acc=0.74667|10-CV=0.59333|STD=0.18304|Time spend=24.9835102558136\n",
      "\tAROUSAL-s04|Acc=0.735|10-CV=0.56|STD=0.10758|Time spend=22.24033546447754\n",
      "\tVALENCE-s04|Acc=0.74167|10-CV=0.608|STD=0.08331|Time spend=24.269334316253662\n",
      "\tAROUSAL-s05|Acc=0.70167|10-CV=0.44533|STD=0.10383|Time spend=21.771145820617676\n",
      "\tVALENCE-s05|Acc=0.675|10-CV=0.548|STD=0.08863|Time spend=23.92218852043152\n",
      "\tAROUSAL-s06|Acc=0.635|10-CV=0.51133|STD=0.12817|Time spend=21.1551251411438\n",
      "\tVALENCE-s06|Acc=0.75|10-CV=0.72|STD=0.07483|Time spend=22.936553239822388\n",
      "-----WARNING: Model s06 failed to learn: sum(ans)=600.0 sum(y)=450.0 len(y)=600\n",
      "\tAROUSAL-s07|Acc=0.73667|10-CV=0.6|STD=0.08241|Time spend=21.776840925216675\n",
      "\tVALENCE-s07|Acc=0.79667|10-CV=0.658|STD=0.1412|Time spend=23.546382188796997\n",
      "\tAROUSAL-s08|Acc=0.78|10-CV=0.41667|STD=0.1154|Time spend=21.06941056251526\n",
      "\tVALENCE-s08|Acc=0.82167|10-CV=0.49467|STD=0.08479|Time spend=23.20983910560608\n",
      "\tAROUSAL-s09|Acc=0.75167|10-CV=0.51333|STD=0.08964|Time spend=20.99413537979126\n",
      "\tVALENCE-s09|Acc=0.78167|10-CV=0.66267|STD=0.08673|Time spend=22.726500988006592\n",
      "\tAROUSAL-s10|Acc=0.765|10-CV=0.59933|STD=0.08852|Time spend=20.889944553375244\n",
      "\tVALENCE-s10|Acc=0.85|10-CV=0.778|STD=0.08|Time spend=22.45601224899292\n",
      "\tAROUSAL-s11|Acc=0.67667|10-CV=0.57333|STD=0.04733|Time spend=21.423285484313965\n",
      "\tVALENCE-s11|Acc=0.70333|10-CV=0.54067|STD=0.15294|Time spend=23.392523765563965\n",
      "\tAROUSAL-s12|Acc=0.825|10-CV=0.83|STD=0.1005|Time spend=20.847689151763916\n",
      "-----WARNING: Model s12 failed to learn: sum(ans)=600.0 sum(y)=495.0 len(y)=600\n",
      "\tVALENCE-s12|Acc=0.72833|10-CV=0.488|STD=0.16066|Time spend=22.89152455329895\n",
      "\tAROUSAL-s13|Acc=0.85|10-CV=0.84|STD=0.06633|Time spend=20.880679845809937\n",
      "-----WARNING: Model s13 failed to learn: sum(ans)=600.0 sum(y)=510.0 len(y)=600\n",
      "\tVALENCE-s13|Acc=0.78667|10-CV=0.74467|STD=0.10181|Time spend=22.576508283615112\n",
      "\tAROUSAL-s14|Acc=0.69833|10-CV=0.632|STD=0.0914|Time spend=21.201029777526855\n",
      "\tVALENCE-s14|Acc=0.78333|10-CV=0.70133|STD=0.03816|Time spend=23.098094701766968\n",
      "\tAROUSAL-s15|Acc=0.78|10-CV=0.52667|STD=0.11274|Time spend=20.079122304916382\n",
      "\tVALENCE-s15|Acc=0.87333|10-CV=0.782|STD=0.06045|Time spend=21.62621760368347\n",
      "\tAROUSAL-s16|Acc=0.75333|10-CV=0.46|STD=0.07978|Time spend=21.559187173843384\n",
      "\tVALENCE-s16|Acc=0.76|10-CV=0.66267|STD=0.10376|Time spend=23.271127939224243\n",
      "\tAROUSAL-s17|Acc=0.75333|10-CV=0.66333|STD=0.05235|Time spend=21.88047456741333\n",
      "\tVALENCE-s17|Acc=0.66833|10-CV=0.46133|STD=0.10434|Time spend=23.97936773300171\n",
      "\tAROUSAL-s18|Acc=0.69|10-CV=0.51533|STD=0.11616|Time spend=21.82454013824463\n",
      "\tVALENCE-s18|Acc=0.81667|10-CV=0.726|STD=0.06663|Time spend=23.312899827957153\n",
      "\tAROUSAL-s19|Acc=0.74833|10-CV=0.64267|STD=0.11148|Time spend=21.32004714012146\n",
      "\tVALENCE-s19|Acc=0.765|10-CV=0.49867|STD=0.11123|Time spend=23.134218454360962\n",
      "\tAROUSAL-s20|Acc=0.775|10-CV=0.82|STD=0.08718|Time spend=21.005099058151245\n",
      "-----WARNING: Model s20 failed to learn: sum(ans)=600.0 sum(y)=465.0 len(y)=600\n",
      "\tVALENCE-s20|Acc=0.785|10-CV=0.61533|STD=0.12271|Time spend=22.76488494873047\n",
      "\tAROUSAL-s21|Acc=0.8|10-CV=0.8|STD=0.1|Time spend=21.262596607208252\n",
      "-----WARNING: Model s21 failed to learn: sum(ans)=600.0 sum(y)=480.0 len(y)=600\n",
      "\tVALENCE-s21|Acc=0.66667|10-CV=0.444|STD=0.09772|Time spend=23.477543115615845\n",
      "\tAROUSAL-s22|Acc=0.625|10-CV=0.592|STD=0.06685|Time spend=21.01161789894104\n",
      "\tVALENCE-s22|Acc=0.76333|10-CV=0.69333|STD=0.07972|Time spend=22.757848024368286\n",
      "\tAROUSAL-s23|Acc=0.79333|10-CV=0.77667|STD=0.09467|Time spend=20.196856260299683\n",
      "\tVALENCE-s23|Acc=0.79|10-CV=0.58867|STD=0.12487|Time spend=22.170099020004272\n",
      "\tAROUSAL-s24|Acc=0.825|10-CV=0.82|STD=0.07483|Time spend=20.174258708953857\n",
      "-----WARNING: Model s24 failed to learn: sum(ans)=600.0 sum(y)=495.0 len(y)=600\n",
      "\tVALENCE-s24|Acc=0.76|10-CV=0.59133|STD=0.089|Time spend=22.1608784198761\n",
      "\tAROUSAL-s25|Acc=0.725|10-CV=0.74|STD=0.12806|Time spend=19.642167568206787\n",
      "-----WARNING: Model s25 failed to learn: sum(ans)=600.0 sum(y)=435.0 len(y)=600\n",
      "\tVALENCE-s25|Acc=0.67833|10-CV=0.42333|STD=0.10722|Time spend=21.920225381851196\n",
      "\tAROUSAL-s26|Acc=0.72667|10-CV=0.53933|STD=0.09686|Time spend=21.63530468940735\n",
      "\tVALENCE-s26|Acc=0.67667|10-CV=0.58333|STD=0.1068|Time spend=23.605817079544067\n",
      "\tAROUSAL-s27|Acc=0.81|10-CV=0.632|STD=0.10426|Time spend=21.349913597106934\n",
      "\tVALENCE-s27|Acc=0.755|10-CV=0.65067|STD=0.1044|Time spend=22.915347576141357\n",
      "\tAROUSAL-s28|Acc=0.665|10-CV=0.49667|STD=0.11109|Time spend=20.749939680099487\n",
      "\tVALENCE-s28|Acc=0.70667|10-CV=0.496|STD=0.0881|Time spend=22.61739182472229\n",
      "\tAROUSAL-s29|Acc=0.725|10-CV=0.566|STD=0.09854|Time spend=20.712459802627563\n",
      "\tVALENCE-s29|Acc=0.73|10-CV=0.56733|STD=0.07083|Time spend=22.834901809692383\n",
      "\tAROUSAL-s30|Acc=0.7|10-CV=0.456|STD=0.09291|Time spend=20.85784101486206\n",
      "\tVALENCE-s30|Acc=0.675|10-CV=0.61067|STD=0.14249|Time spend=22.859724283218384\n",
      "-----WARNING: Model s30 failed to learn: sum(ans)=600.0 sum(y)=405.0 len(y)=600\n",
      "\tAROUSAL-s31|Acc=0.82167|10-CV=0.53867|STD=0.1138|Time spend=23.35765814781189\n",
      "\tVALENCE-s31|Acc=0.75167|10-CV=0.486|STD=0.10213|Time spend=25.596468687057495\n",
      "\tAROUSAL-s32|Acc=0.70667|10-CV=0.666|STD=0.09235|Time spend=21.811633586883545\n",
      "\tVALENCE-s32|Acc=0.7|10-CV=0.47333|STD=0.09933|Time spend=24.000279188156128\n",
      "AROUSAL|Acc=0.7473437499999999|10-CV=0.6128333333333335|STD=0.09839132737179701\n",
      "VALENCE|Acc=0.7520833333333332|10-CV=0.5952916666666667|STD=0.10116203836679326\n",
      "TOTAL|Acc=0.7497135416666666|10-CV=0.6040625000000002|STD=0.09977668286929514\n"
     ]
    }
   ],
   "source": [
    "for text in reports:\n",
    "    if(text == None): continue\n",
    "    print(text)\n",
    "\n",
    "accs.extend(accs_v)\n",
    "cv_means.extend(cv_means_v)\n",
    "cv_stds.extend(cv_stds_v)\n",
    "print(f\"TOTAL|Acc={sum(accs)/len(accs)}|10-CV={sum(cv_means)/len(cv_means)}|STD={sum(cv_stds)/len(cv_stds)}\")"
   ]
  },
  {
   "cell_type": "markdown",
   "metadata": {},
   "source": [
    "### 4.4 $ \\text{PLI}(j,k) =  \\frac{1}{T} | \\Sigma^{T}_{t=1} \\text{sign}(Im[e^{i (\\phi^{t}_{j} - \\phi^{t}_{k})}])  | $"
   ]
  },
  {
   "cell_type": "code",
   "execution_count": 16,
   "metadata": {},
   "outputs": [],
   "source": [
    "# bands = [(0,4), (4,8), (8,12), (12,30), (30,64)]\n",
    "def calculate_stft(signals, sfreq):\n",
    "    from scipy import signal\n",
    "    f_range, t_range, Z = signal.stft(signals, sfreq, nperseg=sfreq//10, nfft=sfreq)\n",
    "    magnitude = np.abs(Z) \n",
    "    phase = np.angle(Z)\n",
    "    return magnitude, phase, f_range, t_range\n",
    "\n",
    "def PLI_stft(p_id, phase):\n",
    "    # (32, 65, 12) => (channels, freqs, times)\n",
    "    # print(f\"p_id:{p_id} - data to run {phase.shape}\")\n",
    "    from itertools import combinations\n",
    "    pli = []\n",
    "    # count = 0\n",
    "    for index in range(phase.shape[0]):\n",
    "        pli_epoch = []\n",
    "        for comb in combinations(list(range(phase.shape[1])), 2):\n",
    "            # shape = (65,12)\n",
    "            phase_a, phase_b = phase[index, comb[0]], phase[index, comb[1]]\n",
    "            phase_diff = phase_a - phase_b\n",
    "            # sum along the time size\n",
    "            pli_ab = np.abs(np.average(   np.sign(np.imag(   np.exp(complex(0,1) * phase_diff) ))  , axis=1))\n",
    "            pli_epoch.append(pli_ab)\n",
    "        pli_epoch = np.vstack(pli_epoch)\n",
    "        pli_epoch_5 = np.concatenate([ pli_epoch[:,0:4].mean(axis=1).reshape(-1,1),\n",
    "                                        pli_epoch[:,4:8].mean(axis=1).reshape(-1,1),\n",
    "                                        pli_epoch[:,8:12].mean(axis=1).reshape(-1,1),\n",
    "                                        pli_epoch[:,12:30].mean(axis=1).reshape(-1,1),\n",
    "                                        pli_epoch[:,30:65].mean(axis=1).reshape(-1,1)], axis=0)\n",
    "        pli.append(np.expand_dims(pli_epoch_5, axis=0))\n",
    "        # count += 1\n",
    "        # if(count == 3): break\n",
    "    # shape (496, 65)\n",
    "    # 496 is number of pairs that is not duplicate\n",
    "    # 65 is number of phase of frequencies\n",
    "    pli = np.vstack( pli )\n",
    "    return pli.squeeze()\n",
    "\n",
    "def calculate_pli(data, n_jobs=8):\n",
    "    \"\"\" \n",
    "    Input: Expect data to have (n_epochs, n_channels, n_samples)\n",
    "    Output: (n_epochs, n_conn, n_freqs ) => n_conn = n_channels!/(2!(n_channels-2)!)\n",
    "    \"\"\"\n",
    "    from multiprocessing import Pool\n",
    "\n",
    "    try:\n",
    "        t_out = 60000\n",
    "        pool = Pool()\n",
    "        p_list = []\n",
    "        ans_list = []\n",
    "        num_p = n_jobs\n",
    "        indices = np.array_split(np.arange(data.shape[0]), num_p)\n",
    "        _, phase, _, _ = calculate_stft(data, 128)\n",
    "        for p_id in range(num_p):\n",
    "            p_list.append(pool.apply_async(PLI_stft, [p_id, phase[indices[p_id]] ]))\n",
    "        for p_id in range(num_p):\n",
    "            ans_list.append( p_list[p_id].get(timeout=t_out) )\n",
    "        # ans_list\n",
    "    finally:\n",
    "        print(\"========= close ========\")\n",
    "        pool.close() \n",
    "        pool.terminate()\n",
    "    return np.vstack(ans_list)\n"
   ]
  },
  {
   "cell_type": "code",
   "execution_count": 17,
   "metadata": {},
   "outputs": [
    {
     "data": {
      "application/vnd.jupyter.widget-view+json": {
       "model_id": "54c3ac6729974890b9b8687f0d499a28",
       "version_major": 2,
       "version_minor": 0
      },
      "text/plain": [
       "  0%|          | 0/32 [00:00<?, ?it/s]"
      ]
     },
     "metadata": {},
     "output_type": "display_data"
    },
    {
     "name": "stdout",
     "output_type": "stream",
     "text": [
      "Fitted sphere radius:         95.3 mm\n",
      "Origin head coordinates:      -0.8 15.1 45.3 mm\n",
      "Origin device coordinates:    -0.8 15.1 45.3 mm\n",
      "========= close ========\n",
      "\tAROUSAL-s01|Acc=0.955|10-CV=0.53133|STD=0.12589|Time spend=21.37575078010559\n",
      "\tVALENCE-s01|Acc=1.0|10-CV=0.43733|STD=0.05555|Time spend=23.73000979423523\n",
      "Fitted sphere radius:         95.3 mm\n",
      "Origin head coordinates:      -0.8 15.1 45.3 mm\n",
      "Origin device coordinates:    -0.8 15.1 45.3 mm\n",
      "========= close ========\n",
      "\tAROUSAL-s02|Acc=0.86667|10-CV=0.54333|STD=0.1009|Time spend=24.265512943267822\n",
      "\tVALENCE-s02|Acc=0.9|10-CV=0.47733|STD=0.10125|Time spend=26.578510999679565\n",
      "Fitted sphere radius:         95.3 mm\n",
      "Origin head coordinates:      -0.8 15.1 45.3 mm\n",
      "Origin device coordinates:    -0.8 15.1 45.3 mm\n",
      "========= close ========\n",
      "\tAROUSAL-s03|Acc=0.84833|10-CV=0.73|STD=0.15524|Time spend=22.027878046035767\n",
      "\tVALENCE-s03|Acc=0.98167|10-CV=0.434|STD=0.11927|Time spend=24.609827041625977\n",
      "Fitted sphere radius:         95.3 mm\n",
      "Origin head coordinates:      -0.8 15.1 45.3 mm\n",
      "Origin device coordinates:    -0.8 15.1 45.3 mm\n",
      "========= close ========\n",
      "\tAROUSAL-s04|Acc=0.86833|10-CV=0.534|STD=0.13385|Time spend=20.901691913604736\n",
      "\tVALENCE-s04|Acc=0.84167|10-CV=0.512|STD=0.12511|Time spend=23.19629406929016\n",
      "Fitted sphere radius:         95.3 mm\n",
      "Origin head coordinates:      -0.8 15.1 45.3 mm\n",
      "Origin device coordinates:    -0.8 15.1 45.3 mm\n",
      "========= close ========\n",
      "\tAROUSAL-s05|Acc=0.89333|10-CV=0.43067|STD=0.10825|Time spend=20.63515067100525\n",
      "\tVALENCE-s05|Acc=0.75167|10-CV=0.584|STD=0.088|Time spend=22.94931125640869\n",
      "Fitted sphere radius:         95.3 mm\n",
      "Origin head coordinates:      -0.8 15.1 45.3 mm\n",
      "Origin device coordinates:    -0.8 15.1 45.3 mm\n",
      "========= close ========\n",
      "\tAROUSAL-s06|Acc=0.955|10-CV=0.49667|STD=0.11475|Time spend=21.73943543434143\n",
      "\tVALENCE-s06|Acc=0.86333|10-CV=0.72|STD=0.07483|Time spend=24.056525230407715\n",
      "Fitted sphere radius:         95.3 mm\n",
      "Origin head coordinates:      -0.8 15.1 45.3 mm\n",
      "Origin device coordinates:    -0.8 15.1 45.3 mm\n",
      "========= close ========\n",
      "\tAROUSAL-s07|Acc=0.96667|10-CV=0.63067|STD=0.11874|Time spend=20.592065811157227\n",
      "\tVALENCE-s07|Acc=0.91|10-CV=0.69|STD=0.13748|Time spend=22.810579776763916\n",
      "Fitted sphere radius:         95.3 mm\n",
      "Origin head coordinates:      -0.8 15.1 45.3 mm\n",
      "Origin device coordinates:    -0.8 15.1 45.3 mm\n",
      "========= close ========\n",
      "\tAROUSAL-s08|Acc=0.98667|10-CV=0.46267|STD=0.10829|Time spend=20.747823476791382\n",
      "\tVALENCE-s08|Acc=0.98167|10-CV=0.514|STD=0.10055|Time spend=23.033477306365967\n",
      "Fitted sphere radius:         95.3 mm\n",
      "Origin head coordinates:      -0.8 15.1 45.3 mm\n",
      "Origin device coordinates:    -0.8 15.1 45.3 mm\n",
      "========= close ========\n",
      "\tAROUSAL-s09|Acc=0.77833|10-CV=0.53133|STD=0.11156|Time spend=20.373912811279297\n",
      "\tVALENCE-s09|Acc=0.93833|10-CV=0.422|STD=0.11959|Time spend=22.800363779067993\n",
      "Fitted sphere radius:         95.3 mm\n",
      "Origin head coordinates:      -0.8 15.1 45.3 mm\n",
      "Origin device coordinates:    -0.8 15.1 45.3 mm\n",
      "========= close ========\n",
      "\tAROUSAL-s10|Acc=0.97333|10-CV=0.466|STD=0.0615|Time spend=23.575973749160767\n",
      "\tVALENCE-s10|Acc=0.97333|10-CV=0.426|STD=0.1425|Time spend=26.04461669921875\n",
      "Fitted sphere radius:         95.3 mm\n",
      "Origin head coordinates:      -0.8 15.1 45.3 mm\n",
      "Origin device coordinates:    -0.8 15.1 45.3 mm\n",
      "========= close ========\n",
      "\tAROUSAL-s11|Acc=0.825|10-CV=0.61067|STD=0.07243|Time spend=23.220633506774902\n",
      "\tVALENCE-s11|Acc=0.84833|10-CV=0.53133|STD=0.14183|Time spend=25.605663299560547\n",
      "Fitted sphere radius:         95.3 mm\n",
      "Origin head coordinates:      -0.8 15.1 45.3 mm\n",
      "Origin device coordinates:    -0.8 15.1 45.3 mm\n",
      "========= close ========\n",
      "\tAROUSAL-s12|Acc=0.865|10-CV=0.83|STD=0.1005|Time spend=20.752545595169067\n",
      "\tVALENCE-s12|Acc=0.99667|10-CV=0.45|STD=0.11971|Time spend=23.156298637390137\n",
      "Fitted sphere radius:         95.3 mm\n",
      "Origin head coordinates:      -0.8 15.1 45.3 mm\n",
      "Origin device coordinates:    -0.8 15.1 45.3 mm\n",
      "========= close ========\n",
      "\tAROUSAL-s13|Acc=0.88333|10-CV=0.84|STD=0.06633|Time spend=21.447673797607422\n",
      "\tVALENCE-s13|Acc=0.93|10-CV=0.48733|STD=0.10627|Time spend=23.856364488601685\n",
      "Fitted sphere radius:         95.3 mm\n",
      "Origin head coordinates:      -0.8 15.1 45.3 mm\n",
      "Origin device coordinates:    -0.8 15.1 45.3 mm\n",
      "========= close ========\n",
      "\tAROUSAL-s14|Acc=0.84833|10-CV=0.65|STD=0.10247|Time spend=20.364567279815674\n",
      "\tVALENCE-s14|Acc=0.985|10-CV=0.40667|STD=0.07899|Time spend=22.824596643447876\n",
      "Fitted sphere radius:         95.3 mm\n",
      "Origin head coordinates:      -0.8 15.1 45.3 mm\n",
      "Origin device coordinates:    -0.8 15.1 45.3 mm\n",
      "========= close ========\n",
      "\tAROUSAL-s15|Acc=0.99|10-CV=0.42267|STD=0.08001|Time spend=22.414709091186523\n",
      "\tVALENCE-s15|Acc=0.98667|10-CV=0.46867|STD=0.07945|Time spend=24.866631746292114\n",
      "Fitted sphere radius:         95.3 mm\n",
      "Origin head coordinates:      -0.8 15.1 45.3 mm\n",
      "Origin device coordinates:    -0.8 15.1 45.3 mm\n",
      "========= close ========\n",
      "\tAROUSAL-s16|Acc=0.99667|10-CV=0.35867|STD=0.09874|Time spend=19.8593692779541\n",
      "\tVALENCE-s16|Acc=0.94667|10-CV=0.63067|STD=0.08785|Time spend=22.247397899627686\n",
      "Fitted sphere radius:         95.3 mm\n",
      "Origin head coordinates:      -0.8 15.1 45.3 mm\n",
      "Origin device coordinates:    -0.8 15.1 45.3 mm\n",
      "========= close ========\n",
      "\tAROUSAL-s17|Acc=0.81833|10-CV=0.57133|STD=0.08677|Time spend=21.37743377685547\n",
      "\tVALENCE-s17|Acc=0.91167|10-CV=0.452|STD=0.11155|Time spend=23.833824157714844\n",
      "Fitted sphere radius:         95.3 mm\n",
      "Origin head coordinates:      -0.8 15.1 45.3 mm\n",
      "Origin device coordinates:    -0.8 15.1 45.3 mm\n",
      "========= close ========\n",
      "\tAROUSAL-s18|Acc=0.875|10-CV=0.56067|STD=0.09832|Time spend=19.621058702468872\n",
      "\tVALENCE-s18|Acc=0.91667|10-CV=0.52733|STD=0.11664|Time spend=22.11440944671631\n",
      "Fitted sphere radius:         95.3 mm\n",
      "Origin head coordinates:      -0.8 15.1 45.3 mm\n",
      "Origin device coordinates:    -0.8 15.1 45.3 mm\n",
      "========= close ========\n",
      "\tAROUSAL-s19|Acc=0.71|10-CV=0.628|STD=0.1306|Time spend=21.85389280319214\n",
      "\tVALENCE-s19|Acc=0.79833|10-CV=0.436|STD=0.12228|Time spend=24.16624879837036\n",
      "Fitted sphere radius:         95.3 mm\n",
      "Origin head coordinates:      -0.8 15.1 45.3 mm\n",
      "Origin device coordinates:    -0.8 15.1 45.3 mm\n",
      "========= close ========\n",
      "\tAROUSAL-s20|Acc=0.87|10-CV=0.82|STD=0.08718|Time spend=20.02537751197815\n",
      "\tVALENCE-s20|Acc=0.955|10-CV=0.466|STD=0.12637|Time spend=22.592468738555908\n",
      "Fitted sphere radius:         95.3 mm\n",
      "Origin head coordinates:      -0.8 15.1 45.3 mm\n",
      "Origin device coordinates:    -0.8 15.1 45.3 mm\n",
      "========= close ========\n",
      "\tAROUSAL-s21|Acc=0.82667|10-CV=0.8|STD=0.1|Time spend=20.687581539154053\n",
      "\tVALENCE-s21|Acc=0.96667|10-CV=0.38133|STD=0.07092|Time spend=23.11690092086792\n",
      "Fitted sphere radius:         95.3 mm\n",
      "Origin head coordinates:      -0.8 15.1 45.3 mm\n",
      "Origin device coordinates:    -0.8 15.1 45.3 mm\n",
      "========= close ========\n",
      "\tAROUSAL-s22|Acc=0.76333|10-CV=0.59933|STD=0.0625|Time spend=21.3484845161438\n",
      "\tVALENCE-s22|Acc=0.85833|10-CV=0.52|STD=0.08733|Time spend=23.85495400428772\n",
      "Fitted sphere radius:         95.3 mm\n",
      "Origin head coordinates:      -0.8 15.1 45.3 mm\n",
      "Origin device coordinates:    -0.8 15.1 45.3 mm\n",
      "========= close ========\n",
      "\tAROUSAL-s23|Acc=0.91167|10-CV=0.78|STD=0.09798|Time spend=21.60009503364563\n",
      "\tVALENCE-s23|Acc=0.96667|10-CV=0.596|STD=0.12862|Time spend=24.08092427253723\n",
      "Fitted sphere radius:         95.3 mm\n",
      "Origin head coordinates:      -0.8 15.1 45.3 mm\n",
      "Origin device coordinates:    -0.8 15.1 45.3 mm\n",
      "========= close ========\n",
      "\tAROUSAL-s24|Acc=0.83|10-CV=0.82|STD=0.07483|Time spend=20.83693289756775\n",
      "\tVALENCE-s24|Acc=0.94167|10-CV=0.44267|STD=0.13715|Time spend=23.181047439575195\n",
      "Fitted sphere radius:         95.3 mm\n",
      "Origin head coordinates:      -0.8 15.1 45.3 mm\n",
      "Origin device coordinates:    -0.8 15.1 45.3 mm\n",
      "========= close ========\n",
      "\tAROUSAL-s25|Acc=0.77167|10-CV=0.73933|STD=0.12672|Time spend=20.627386331558228\n",
      "\tVALENCE-s25|Acc=0.925|10-CV=0.42267|STD=0.11144|Time spend=22.875874280929565\n",
      "Fitted sphere radius:         95.3 mm\n",
      "Origin head coordinates:      -0.8 15.1 45.3 mm\n",
      "Origin device coordinates:    -0.8 15.1 45.3 mm\n",
      "========= close ========\n",
      "\tAROUSAL-s26|Acc=0.93667|10-CV=0.488|STD=0.085|Time spend=22.09382152557373\n",
      "\tVALENCE-s26|Acc=0.82833|10-CV=0.618|STD=0.13747|Time spend=24.352380752563477\n",
      "Fitted sphere radius:         95.3 mm\n",
      "Origin head coordinates:      -0.8 15.1 45.3 mm\n",
      "Origin device coordinates:    -0.8 15.1 45.3 mm\n",
      "========= close ========\n",
      "\tAROUSAL-s27|Acc=0.94|10-CV=0.65|STD=0.1118|Time spend=20.09755277633667\n",
      "\tVALENCE-s27|Acc=0.9|10-CV=0.67|STD=0.12689|Time spend=22.327940940856934\n",
      "Fitted sphere radius:         95.3 mm\n",
      "Origin head coordinates:      -0.8 15.1 45.3 mm\n",
      "Origin device coordinates:    -0.8 15.1 45.3 mm\n",
      "========= close ========\n",
      "\tAROUSAL-s28|Acc=0.94667|10-CV=0.49267|STD=0.0803|Time spend=22.49748420715332\n",
      "\tVALENCE-s28|Acc=0.93|10-CV=0.56933|STD=0.14785|Time spend=24.85779356956482\n",
      "Fitted sphere radius:         95.3 mm\n",
      "Origin head coordinates:      -0.8 15.1 45.3 mm\n",
      "Origin device coordinates:    -0.8 15.1 45.3 mm\n",
      "========= close ========\n",
      "\tAROUSAL-s29|Acc=0.87333|10-CV=0.52667|STD=0.08532|Time spend=20.94757080078125\n",
      "\tVALENCE-s29|Acc=0.88833|10-CV=0.53867|STD=0.10083|Time spend=23.345293045043945\n",
      "Fitted sphere radius:         95.3 mm\n",
      "Origin head coordinates:      -0.8 15.1 45.3 mm\n",
      "Origin device coordinates:    -0.8 15.1 45.3 mm\n",
      "========= close ========\n",
      "\tAROUSAL-s30|Acc=0.95333|10-CV=0.43933|STD=0.08791|Time spend=21.850619792938232\n",
      "\tVALENCE-s30|Acc=0.77333|10-CV=0.61933|STD=0.14571|Time spend=24.313446044921875\n",
      "Fitted sphere radius:         95.3 mm\n",
      "Origin head coordinates:      -0.8 15.1 45.3 mm\n",
      "Origin device coordinates:    -0.8 15.1 45.3 mm\n",
      "========= close ========\n",
      "\tAROUSAL-s31|Acc=0.99333|10-CV=0.46467|STD=0.10084|Time spend=21.88388681411743\n",
      "\tVALENCE-s31|Acc=0.98|10-CV=0.47933|STD=0.09547|Time spend=24.160645961761475\n",
      "Fitted sphere radius:         95.3 mm\n",
      "Origin head coordinates:      -0.8 15.1 45.3 mm\n",
      "Origin device coordinates:    -0.8 15.1 45.3 mm\n",
      "========= close ========\n",
      "\tAROUSAL-s32|Acc=0.84833|10-CV=0.74|STD=0.12716|Time spend=19.643004655838013\n",
      "\tVALENCE-s32|Acc=0.98167|10-CV=0.378|STD=0.12628|Time spend=22.08346724510193\n",
      "AROUSAL|Acc=0.8865104166666665|10-CV=0.5996458333333333|STD=0.10008344417724203\n",
      "VALENCE|Acc=0.917395833333333|10-CV=0.5096249999999999|STD=0.11159478661432501\n"
     ]
    }
   ],
   "source": [
    "accs, cv_means, cv_stds = [],[],[]\n",
    "accs_v, cv_means_v, cv_stds_v = [],[],[]\n",
    "reports = []\n",
    "for filename in (pbar := tqdm(dataset.get_file_list())):\n",
    "    start = time.time()\n",
    "    pbar.set_description(filename)\n",
    "    data, labels, groups = dataset.get_data(filename, stimuli=Dataset_subjectDependent.STIMULI_AROUSAL, return_type='mne', sfreq=128)\n",
    "    \n",
    "    data_csd = mne.preprocessing.compute_current_source_density(data)\n",
    "\n",
    "    pli = calculate_pli(data_csd.get_data(), n_jobs=8)\n",
    "\n",
    "    _,acc,cross,train_report = train_model(pli, labels.squeeze(), groups, filename=filename, return_text=True)\n",
    "    report = f\"\\tAROUSAL-{filename}|Acc={round(acc,5)}|10-CV={round(cross.mean(),5)}|STD={round(cross.std(),5)}|Time spend={time.time() - start}\"\n",
    "    print(report)\n",
    "    reports.append(report)\n",
    "    reports.append(train_report)\n",
    "    accs.append(acc)\n",
    "    cv_means.append(cross.mean())\n",
    "    cv_stds.append(cross.std())\n",
    "\n",
    "    _, labels_v, groups_v = dataset.get_data(filename, stimuli=Dataset_subjectDependent.STIMULI_VALENCE, return_type='mne', sfreq=128)\n",
    "    _,acc,cross,train_report = train_model(pli, labels_v.squeeze(), groups_v, filename=filename, return_text=True)\n",
    "    report = f\"\\tVALENCE-{filename}|Acc={round(acc,5)}|10-CV={round(cross.mean(),5)}|STD={round(cross.std(),5)}|Time spend={time.time() - start}\"\n",
    "    print(report)\n",
    "    reports.append(report)\n",
    "    reports.append(train_report)\n",
    "    accs_v.append(acc)\n",
    "    cv_means_v.append(cross.mean())\n",
    "    cv_stds_v.append(cross.std())\n",
    "    # break\n",
    "    # count+=1\n",
    "    # if(count == 5): break\n",
    "report = f\"AROUSAL|Acc={sum(accs)/len(accs)}|10-CV={sum(cv_means)/len(cv_means)}|STD={sum(cv_stds)/len(cv_stds)}\"\n",
    "print(report)\n",
    "reports.append(report)\n",
    "report = f\"VALENCE|Acc={sum(accs_v)/len(accs_v)}|10-CV={sum(cv_means_v)/len(cv_means_v)}|STD={sum(cv_stds_v)/len(cv_stds_v)}\"\n",
    "print(report)\n",
    "reports.append(report)"
   ]
  },
  {
   "cell_type": "code",
   "execution_count": 18,
   "metadata": {},
   "outputs": [
    {
     "name": "stdout",
     "output_type": "stream",
     "text": [
      "\tAROUSAL-s01|Acc=0.955|10-CV=0.53133|STD=0.12589|Time spend=21.37575078010559\n",
      "\tVALENCE-s01|Acc=1.0|10-CV=0.43733|STD=0.05555|Time spend=23.73000979423523\n",
      "\tAROUSAL-s02|Acc=0.86667|10-CV=0.54333|STD=0.1009|Time spend=24.265512943267822\n",
      "\tVALENCE-s02|Acc=0.9|10-CV=0.47733|STD=0.10125|Time spend=26.578510999679565\n",
      "\tAROUSAL-s03|Acc=0.84833|10-CV=0.73|STD=0.15524|Time spend=22.027878046035767\n",
      "\tVALENCE-s03|Acc=0.98167|10-CV=0.434|STD=0.11927|Time spend=24.609827041625977\n",
      "\tAROUSAL-s04|Acc=0.86833|10-CV=0.534|STD=0.13385|Time spend=20.901691913604736\n",
      "\tVALENCE-s04|Acc=0.84167|10-CV=0.512|STD=0.12511|Time spend=23.19629406929016\n",
      "\tAROUSAL-s05|Acc=0.89333|10-CV=0.43067|STD=0.10825|Time spend=20.63515067100525\n",
      "\tVALENCE-s05|Acc=0.75167|10-CV=0.584|STD=0.088|Time spend=22.94931125640869\n",
      "\tAROUSAL-s06|Acc=0.955|10-CV=0.49667|STD=0.11475|Time spend=21.73943543434143\n",
      "\tVALENCE-s06|Acc=0.86333|10-CV=0.72|STD=0.07483|Time spend=24.056525230407715\n",
      "\tAROUSAL-s07|Acc=0.96667|10-CV=0.63067|STD=0.11874|Time spend=20.592065811157227\n",
      "\tVALENCE-s07|Acc=0.91|10-CV=0.69|STD=0.13748|Time spend=22.810579776763916\n",
      "\tAROUSAL-s08|Acc=0.98667|10-CV=0.46267|STD=0.10829|Time spend=20.747823476791382\n",
      "\tVALENCE-s08|Acc=0.98167|10-CV=0.514|STD=0.10055|Time spend=23.033477306365967\n",
      "\tAROUSAL-s09|Acc=0.77833|10-CV=0.53133|STD=0.11156|Time spend=20.373912811279297\n",
      "\tVALENCE-s09|Acc=0.93833|10-CV=0.422|STD=0.11959|Time spend=22.800363779067993\n",
      "\tAROUSAL-s10|Acc=0.97333|10-CV=0.466|STD=0.0615|Time spend=23.575973749160767\n",
      "\tVALENCE-s10|Acc=0.97333|10-CV=0.426|STD=0.1425|Time spend=26.04461669921875\n",
      "\tAROUSAL-s11|Acc=0.825|10-CV=0.61067|STD=0.07243|Time spend=23.220633506774902\n",
      "\tVALENCE-s11|Acc=0.84833|10-CV=0.53133|STD=0.14183|Time spend=25.605663299560547\n",
      "\tAROUSAL-s12|Acc=0.865|10-CV=0.83|STD=0.1005|Time spend=20.752545595169067\n",
      "\tVALENCE-s12|Acc=0.99667|10-CV=0.45|STD=0.11971|Time spend=23.156298637390137\n",
      "\tAROUSAL-s13|Acc=0.88333|10-CV=0.84|STD=0.06633|Time spend=21.447673797607422\n",
      "\tVALENCE-s13|Acc=0.93|10-CV=0.48733|STD=0.10627|Time spend=23.856364488601685\n",
      "\tAROUSAL-s14|Acc=0.84833|10-CV=0.65|STD=0.10247|Time spend=20.364567279815674\n",
      "\tVALENCE-s14|Acc=0.985|10-CV=0.40667|STD=0.07899|Time spend=22.824596643447876\n",
      "\tAROUSAL-s15|Acc=0.99|10-CV=0.42267|STD=0.08001|Time spend=22.414709091186523\n",
      "\tVALENCE-s15|Acc=0.98667|10-CV=0.46867|STD=0.07945|Time spend=24.866631746292114\n",
      "\tAROUSAL-s16|Acc=0.99667|10-CV=0.35867|STD=0.09874|Time spend=19.8593692779541\n",
      "\tVALENCE-s16|Acc=0.94667|10-CV=0.63067|STD=0.08785|Time spend=22.247397899627686\n",
      "\tAROUSAL-s17|Acc=0.81833|10-CV=0.57133|STD=0.08677|Time spend=21.37743377685547\n",
      "\tVALENCE-s17|Acc=0.91167|10-CV=0.452|STD=0.11155|Time spend=23.833824157714844\n",
      "\tAROUSAL-s18|Acc=0.875|10-CV=0.56067|STD=0.09832|Time spend=19.621058702468872\n",
      "\tVALENCE-s18|Acc=0.91667|10-CV=0.52733|STD=0.11664|Time spend=22.11440944671631\n",
      "\tAROUSAL-s19|Acc=0.71|10-CV=0.628|STD=0.1306|Time spend=21.85389280319214\n",
      "\tVALENCE-s19|Acc=0.79833|10-CV=0.436|STD=0.12228|Time spend=24.16624879837036\n",
      "\tAROUSAL-s20|Acc=0.87|10-CV=0.82|STD=0.08718|Time spend=20.02537751197815\n",
      "\tVALENCE-s20|Acc=0.955|10-CV=0.466|STD=0.12637|Time spend=22.592468738555908\n",
      "\tAROUSAL-s21|Acc=0.82667|10-CV=0.8|STD=0.1|Time spend=20.687581539154053\n",
      "\tVALENCE-s21|Acc=0.96667|10-CV=0.38133|STD=0.07092|Time spend=23.11690092086792\n",
      "\tAROUSAL-s22|Acc=0.76333|10-CV=0.59933|STD=0.0625|Time spend=21.3484845161438\n",
      "\tVALENCE-s22|Acc=0.85833|10-CV=0.52|STD=0.08733|Time spend=23.85495400428772\n",
      "\tAROUSAL-s23|Acc=0.91167|10-CV=0.78|STD=0.09798|Time spend=21.60009503364563\n",
      "\tVALENCE-s23|Acc=0.96667|10-CV=0.596|STD=0.12862|Time spend=24.08092427253723\n",
      "\tAROUSAL-s24|Acc=0.83|10-CV=0.82|STD=0.07483|Time spend=20.83693289756775\n",
      "\tVALENCE-s24|Acc=0.94167|10-CV=0.44267|STD=0.13715|Time spend=23.181047439575195\n",
      "\tAROUSAL-s25|Acc=0.77167|10-CV=0.73933|STD=0.12672|Time spend=20.627386331558228\n",
      "\tVALENCE-s25|Acc=0.925|10-CV=0.42267|STD=0.11144|Time spend=22.875874280929565\n",
      "\tAROUSAL-s26|Acc=0.93667|10-CV=0.488|STD=0.085|Time spend=22.09382152557373\n",
      "\tVALENCE-s26|Acc=0.82833|10-CV=0.618|STD=0.13747|Time spend=24.352380752563477\n",
      "\tAROUSAL-s27|Acc=0.94|10-CV=0.65|STD=0.1118|Time spend=20.09755277633667\n",
      "\tVALENCE-s27|Acc=0.9|10-CV=0.67|STD=0.12689|Time spend=22.327940940856934\n",
      "\tAROUSAL-s28|Acc=0.94667|10-CV=0.49267|STD=0.0803|Time spend=22.49748420715332\n",
      "\tVALENCE-s28|Acc=0.93|10-CV=0.56933|STD=0.14785|Time spend=24.85779356956482\n",
      "\tAROUSAL-s29|Acc=0.87333|10-CV=0.52667|STD=0.08532|Time spend=20.94757080078125\n",
      "\tVALENCE-s29|Acc=0.88833|10-CV=0.53867|STD=0.10083|Time spend=23.345293045043945\n",
      "\tAROUSAL-s30|Acc=0.95333|10-CV=0.43933|STD=0.08791|Time spend=21.850619792938232\n",
      "\tVALENCE-s30|Acc=0.77333|10-CV=0.61933|STD=0.14571|Time spend=24.313446044921875\n",
      "\tAROUSAL-s31|Acc=0.99333|10-CV=0.46467|STD=0.10084|Time spend=21.88388681411743\n",
      "\tVALENCE-s31|Acc=0.98|10-CV=0.47933|STD=0.09547|Time spend=24.160645961761475\n",
      "\tAROUSAL-s32|Acc=0.84833|10-CV=0.74|STD=0.12716|Time spend=19.643004655838013\n",
      "\tVALENCE-s32|Acc=0.98167|10-CV=0.378|STD=0.12628|Time spend=22.08346724510193\n",
      "AROUSAL|Acc=0.8865104166666665|10-CV=0.5996458333333333|STD=0.10008344417724203\n",
      "VALENCE|Acc=0.917395833333333|10-CV=0.5096249999999999|STD=0.11159478661432501\n",
      "TOTAL|Acc=0.901953125|10-CV=0.5546354166666667|STD=0.10583911539578347\n"
     ]
    }
   ],
   "source": [
    "for text in reports:\n",
    "    if(text == None): continue\n",
    "    print(text)\n",
    "\n",
    "accs.extend(accs_v)\n",
    "cv_means.extend(cv_means_v)\n",
    "cv_stds.extend(cv_stds_v)\n",
    "print(f\"TOTAL|Acc={sum(accs)/len(accs)}|10-CV={sum(cv_means)/len(cv_means)}|STD={sum(cv_stds)/len(cv_stds)}\")"
   ]
  },
  {
   "cell_type": "markdown",
   "metadata": {},
   "source": [
    "## 5. CSP"
   ]
  },
  {
   "cell_type": "code",
   "execution_count": 19,
   "metadata": {},
   "outputs": [],
   "source": [
    "from components.CSP import CSP\n",
    "from mne_features.feature_extraction import FeatureExtractor\n",
    "\n",
    "bands = [(0,4), (4,8), (8,12), (12,30), (30,64)]\n",
    "# [alias_feature_function]__[optional_param]\n",
    "params = dict({\n",
    "    'pow_freq_bands__log':True,\n",
    "    'pow_freq_bands__normalize':False,\n",
    "    'pow_freq_bands__freq_bands':bands\n",
    "})"
   ]
  },
  {
   "cell_type": "code",
   "execution_count": 20,
   "metadata": {},
   "outputs": [
    {
     "data": {
      "application/vnd.jupyter.widget-view+json": {
       "model_id": "97cc795f8db54e879d1896a6308179bd",
       "version_major": 2,
       "version_minor": 0
      },
      "text/plain": [
       "  0%|          | 0/32 [00:00<?, ?it/s]"
      ]
     },
     "metadata": {},
     "output_type": "display_data"
    },
    {
     "name": "stderr",
     "output_type": "stream",
     "text": [
      "/root/projects/components/CSP.py:78: ComplexWarning: Casting complex values to real discards the imaginary part\n",
      "  return SFa.astype(np.float32)\n"
     ]
    },
    {
     "name": "stdout",
     "output_type": "stream",
     "text": [
      "\tAROUSAL-s01|Acc=0.795|10-CV=0.75133|STD=0.06491|Time spend=1.1227118968963623\n"
     ]
    },
    {
     "name": "stderr",
     "output_type": "stream",
     "text": [
      "/root/projects/components/CSP.py:78: ComplexWarning: Casting complex values to real discards the imaginary part\n",
      "  return SFa.astype(np.float32)\n"
     ]
    },
    {
     "name": "stdout",
     "output_type": "stream",
     "text": [
      "\tAROUSAL-s02|Acc=0.61333|10-CV=0.54067|STD=0.08816|Time spend=3.2156808376312256\n"
     ]
    },
    {
     "name": "stderr",
     "output_type": "stream",
     "text": [
      "/root/projects/components/CSP.py:78: ComplexWarning: Casting complex values to real discards the imaginary part\n",
      "  return SFa.astype(np.float32)\n"
     ]
    },
    {
     "name": "stdout",
     "output_type": "stream",
     "text": [
      "-----WARNING: Model s03 failed to learn: sum(ans)=0.0 sum(y)=120.0 len(y)=600\n",
      "\tAROUSAL-s03|Acc=0.8|10-CV=0.73|STD=0.15524|Time spend=0.8063912391662598\n"
     ]
    },
    {
     "name": "stderr",
     "output_type": "stream",
     "text": [
      "/root/projects/components/CSP.py:78: ComplexWarning: Casting complex values to real discards the imaginary part\n",
      "  return SFa.astype(np.float32)\n"
     ]
    },
    {
     "name": "stdout",
     "output_type": "stream",
     "text": [
      "\tAROUSAL-s04|Acc=1.0|10-CV=1.0|STD=0.0|Time spend=0.5999770164489746\n"
     ]
    },
    {
     "name": "stderr",
     "output_type": "stream",
     "text": [
      "/root/projects/components/CSP.py:78: ComplexWarning: Casting complex values to real discards the imaginary part\n",
      "  return SFa.astype(np.float32)\n"
     ]
    },
    {
     "name": "stdout",
     "output_type": "stream",
     "text": [
      "\tAROUSAL-s05|Acc=0.73833|10-CV=0.662|STD=0.06714|Time spend=0.6545929908752441\n"
     ]
    },
    {
     "name": "stderr",
     "output_type": "stream",
     "text": [
      "/root/projects/components/CSP.py:78: ComplexWarning: Casting complex values to real discards the imaginary part\n",
      "  return SFa.astype(np.float32)\n"
     ]
    },
    {
     "name": "stdout",
     "output_type": "stream",
     "text": [
      "\tAROUSAL-s06|Acc=0.62|10-CV=0.518|STD=0.12865|Time spend=0.6033222675323486\n"
     ]
    },
    {
     "name": "stderr",
     "output_type": "stream",
     "text": [
      "/root/projects/components/CSP.py:78: ComplexWarning: Casting complex values to real discards the imaginary part\n",
      "  return SFa.astype(np.float32)\n"
     ]
    },
    {
     "name": "stdout",
     "output_type": "stream",
     "text": [
      "-----WARNING: Model s07 failed to learn: sum(ans)=600.0 sum(y)=375.0 len(y)=600\n",
      "\tAROUSAL-s07|Acc=0.625|10-CV=0.63933|STD=0.13408|Time spend=0.6227338314056396\n"
     ]
    },
    {
     "name": "stderr",
     "output_type": "stream",
     "text": [
      "/root/projects/components/CSP.py:78: ComplexWarning: Casting complex values to real discards the imaginary part\n",
      "  return SFa.astype(np.float32)\n"
     ]
    },
    {
     "name": "stdout",
     "output_type": "stream",
     "text": [
      "\tAROUSAL-s08|Acc=0.93667|10-CV=0.914|STD=0.02804|Time spend=0.6139190196990967\n"
     ]
    },
    {
     "name": "stderr",
     "output_type": "stream",
     "text": [
      "/root/projects/components/CSP.py:78: ComplexWarning: Casting complex values to real discards the imaginary part\n",
      "  return SFa.astype(np.float32)\n"
     ]
    },
    {
     "name": "stdout",
     "output_type": "stream",
     "text": [
      "\tAROUSAL-s09|Acc=0.90667|10-CV=0.88867|STD=0.05449|Time spend=0.540257453918457\n"
     ]
    },
    {
     "name": "stderr",
     "output_type": "stream",
     "text": [
      "/root/projects/components/CSP.py:78: ComplexWarning: Casting complex values to real discards the imaginary part\n",
      "  return SFa.astype(np.float32)\n"
     ]
    },
    {
     "name": "stdout",
     "output_type": "stream",
     "text": [
      "\tAROUSAL-s10|Acc=0.57667|10-CV=0.45067|STD=0.05376|Time spend=0.6407890319824219\n"
     ]
    },
    {
     "name": "stderr",
     "output_type": "stream",
     "text": [
      "/root/projects/components/CSP.py:78: ComplexWarning: Casting complex values to real discards the imaginary part\n",
      "  return SFa.astype(np.float32)\n"
     ]
    },
    {
     "name": "stdout",
     "output_type": "stream",
     "text": [
      "\tAROUSAL-s11|Acc=0.97333|10-CV=0.962|STD=0.02023|Time spend=0.9121959209442139\n"
     ]
    },
    {
     "name": "stderr",
     "output_type": "stream",
     "text": [
      "/root/projects/components/CSP.py:78: ComplexWarning: Casting complex values to real discards the imaginary part\n",
      "  return SFa.astype(np.float32)\n"
     ]
    },
    {
     "name": "stdout",
     "output_type": "stream",
     "text": [
      "\tAROUSAL-s12|Acc=0.84667|10-CV=0.82267|STD=0.08333|Time spend=0.6405889987945557\n"
     ]
    },
    {
     "name": "stderr",
     "output_type": "stream",
     "text": [
      "/root/projects/components/CSP.py:78: ComplexWarning: Casting complex values to real discards the imaginary part\n",
      "  return SFa.astype(np.float32)\n"
     ]
    },
    {
     "name": "stdout",
     "output_type": "stream",
     "text": [
      "-----WARNING: Model s13 failed to learn: sum(ans)=600.0 sum(y)=510.0 len(y)=600\n",
      "\tAROUSAL-s13|Acc=0.85|10-CV=0.84|STD=0.06633|Time spend=0.6208024024963379\n"
     ]
    },
    {
     "name": "stderr",
     "output_type": "stream",
     "text": [
      "/root/projects/components/CSP.py:78: ComplexWarning: Casting complex values to real discards the imaginary part\n",
      "  return SFa.astype(np.float32)\n"
     ]
    },
    {
     "name": "stdout",
     "output_type": "stream",
     "text": [
      "\tAROUSAL-s14|Acc=0.92|10-CV=0.89867|STD=0.03896|Time spend=0.6358985900878906\n"
     ]
    },
    {
     "name": "stderr",
     "output_type": "stream",
     "text": [
      "/root/projects/components/CSP.py:78: ComplexWarning: Casting complex values to real discards the imaginary part\n",
      "  return SFa.astype(np.float32)\n"
     ]
    },
    {
     "name": "stdout",
     "output_type": "stream",
     "text": [
      "\tAROUSAL-s15|Acc=0.60333|10-CV=0.508|STD=0.11569|Time spend=0.6533756256103516\n"
     ]
    },
    {
     "name": "stderr",
     "output_type": "stream",
     "text": [
      "/root/projects/components/CSP.py:78: ComplexWarning: Casting complex values to real discards the imaginary part\n",
      "  return SFa.astype(np.float32)\n"
     ]
    },
    {
     "name": "stdout",
     "output_type": "stream",
     "text": [
      "\tAROUSAL-s16|Acc=0.99|10-CV=0.99533|STD=0.00427|Time spend=0.5705208778381348\n"
     ]
    },
    {
     "name": "stderr",
     "output_type": "stream",
     "text": [
      "/root/projects/components/CSP.py:78: ComplexWarning: Casting complex values to real discards the imaginary part\n",
      "  return SFa.astype(np.float32)\n"
     ]
    },
    {
     "name": "stdout",
     "output_type": "stream",
     "text": [
      "\tAROUSAL-s17|Acc=0.67667|10-CV=0.562|STD=0.06753|Time spend=0.6575279235839844\n"
     ]
    },
    {
     "name": "stderr",
     "output_type": "stream",
     "text": [
      "/root/projects/components/CSP.py:78: ComplexWarning: Casting complex values to real discards the imaginary part\n",
      "  return SFa.astype(np.float32)\n"
     ]
    },
    {
     "name": "stdout",
     "output_type": "stream",
     "text": [
      "\tAROUSAL-s18|Acc=0.63667|10-CV=0.56733|STD=0.11153|Time spend=0.6589858531951904\n"
     ]
    },
    {
     "name": "stderr",
     "output_type": "stream",
     "text": [
      "/root/projects/components/CSP.py:78: ComplexWarning: Casting complex values to real discards the imaginary part\n",
      "  return SFa.astype(np.float32)\n"
     ]
    },
    {
     "name": "stdout",
     "output_type": "stream",
     "text": [
      "-----WARNING: Model s19 failed to learn: sum(ans)=600.0 sum(y)=405.0 len(y)=600\n",
      "\tAROUSAL-s19|Acc=0.675|10-CV=0.62533|STD=0.13623|Time spend=0.6666834354400635\n"
     ]
    },
    {
     "name": "stderr",
     "output_type": "stream",
     "text": [
      "/root/projects/components/CSP.py:78: ComplexWarning: Casting complex values to real discards the imaginary part\n",
      "  return SFa.astype(np.float32)\n"
     ]
    },
    {
     "name": "stdout",
     "output_type": "stream",
     "text": [
      "\tAROUSAL-s20|Acc=0.90833|10-CV=0.90533|STD=0.03152|Time spend=0.6246435642242432\n"
     ]
    },
    {
     "name": "stderr",
     "output_type": "stream",
     "text": [
      "/root/projects/components/CSP.py:78: ComplexWarning: Casting complex values to real discards the imaginary part\n",
      "  return SFa.astype(np.float32)\n"
     ]
    },
    {
     "name": "stdout",
     "output_type": "stream",
     "text": [
      "\tAROUSAL-s21|Acc=0.97|10-CV=0.95533|STD=0.02531|Time spend=0.6239557266235352\n"
     ]
    },
    {
     "name": "stderr",
     "output_type": "stream",
     "text": [
      "/root/projects/components/CSP.py:78: ComplexWarning: Casting complex values to real discards the imaginary part\n",
      "  return SFa.astype(np.float32)\n"
     ]
    },
    {
     "name": "stdout",
     "output_type": "stream",
     "text": [
      "\tAROUSAL-s22|Acc=0.82667|10-CV=0.804|STD=0.05131|Time spend=0.6189777851104736\n"
     ]
    },
    {
     "name": "stderr",
     "output_type": "stream",
     "text": [
      "/root/projects/components/CSP.py:78: ComplexWarning: Casting complex values to real discards the imaginary part\n",
      "  return SFa.astype(np.float32)\n"
     ]
    },
    {
     "name": "stdout",
     "output_type": "stream",
     "text": [
      "-----WARNING: Model s23 failed to learn: sum(ans)=0.0 sum(y)=150.0 len(y)=600\n",
      "\tAROUSAL-s23|Acc=0.75|10-CV=0.78|STD=0.09798|Time spend=0.7335655689239502\n"
     ]
    },
    {
     "name": "stderr",
     "output_type": "stream",
     "text": [
      "/root/projects/components/CSP.py:78: ComplexWarning: Casting complex values to real discards the imaginary part\n",
      "  return SFa.astype(np.float32)\n"
     ]
    },
    {
     "name": "stdout",
     "output_type": "stream",
     "text": [
      "-----WARNING: Model s24 failed to learn: sum(ans)=600.0 sum(y)=495.0 len(y)=600\n",
      "\tAROUSAL-s24|Acc=0.825|10-CV=0.82|STD=0.07483|Time spend=0.6041209697723389\n"
     ]
    },
    {
     "name": "stderr",
     "output_type": "stream",
     "text": [
      "/root/projects/components/CSP.py:78: ComplexWarning: Casting complex values to real discards the imaginary part\n",
      "  return SFa.astype(np.float32)\n"
     ]
    },
    {
     "name": "stdout",
     "output_type": "stream",
     "text": [
      "-----WARNING: Model s25 failed to learn: sum(ans)=600.0 sum(y)=435.0 len(y)=600\n",
      "\tAROUSAL-s25|Acc=0.725|10-CV=0.73867|STD=0.12539|Time spend=0.6454141139984131\n"
     ]
    },
    {
     "name": "stderr",
     "output_type": "stream",
     "text": [
      "/root/projects/components/CSP.py:78: ComplexWarning: Casting complex values to real discards the imaginary part\n",
      "  return SFa.astype(np.float32)\n"
     ]
    },
    {
     "name": "stdout",
     "output_type": "stream",
     "text": [
      "\tAROUSAL-s26|Acc=0.58833|10-CV=0.516|STD=0.11663|Time spend=0.7014117240905762\n"
     ]
    },
    {
     "name": "stderr",
     "output_type": "stream",
     "text": [
      "/root/projects/components/CSP.py:78: ComplexWarning: Casting complex values to real discards the imaginary part\n",
      "  return SFa.astype(np.float32)\n"
     ]
    },
    {
     "name": "stdout",
     "output_type": "stream",
     "text": [
      "\tAROUSAL-s27|Acc=0.90667|10-CV=0.87333|STD=0.03515|Time spend=0.6310021877288818\n"
     ]
    },
    {
     "name": "stderr",
     "output_type": "stream",
     "text": [
      "/root/projects/components/CSP.py:78: ComplexWarning: Casting complex values to real discards the imaginary part\n",
      "  return SFa.astype(np.float32)\n"
     ]
    },
    {
     "name": "stdout",
     "output_type": "stream",
     "text": [
      "\tAROUSAL-s28|Acc=0.96167|10-CV=0.95667|STD=0.01498|Time spend=1.2988851070404053\n"
     ]
    },
    {
     "name": "stderr",
     "output_type": "stream",
     "text": [
      "/root/projects/components/CSP.py:78: ComplexWarning: Casting complex values to real discards the imaginary part\n",
      "  return SFa.astype(np.float32)\n"
     ]
    },
    {
     "name": "stdout",
     "output_type": "stream",
     "text": [
      "\tAROUSAL-s29|Acc=0.65167|10-CV=0.526|STD=0.07851|Time spend=1.055816411972046\n"
     ]
    },
    {
     "name": "stderr",
     "output_type": "stream",
     "text": [
      "/root/projects/components/CSP.py:78: ComplexWarning: Casting complex values to real discards the imaginary part\n",
      "  return SFa.astype(np.float32)\n"
     ]
    },
    {
     "name": "stdout",
     "output_type": "stream",
     "text": [
      "\tAROUSAL-s30|Acc=0.89167|10-CV=0.864|STD=0.05934|Time spend=0.9396429061889648\n"
     ]
    },
    {
     "name": "stderr",
     "output_type": "stream",
     "text": [
      "/root/projects/components/CSP.py:78: ComplexWarning: Casting complex values to real discards the imaginary part\n",
      "  return SFa.astype(np.float32)\n"
     ]
    },
    {
     "name": "stdout",
     "output_type": "stream",
     "text": [
      "\tAROUSAL-s31|Acc=0.59833|10-CV=0.502|STD=0.10688|Time spend=0.6962201595306396\n"
     ]
    },
    {
     "name": "stderr",
     "output_type": "stream",
     "text": [
      "/root/projects/components/CSP.py:78: ComplexWarning: Casting complex values to real discards the imaginary part\n",
      "  return SFa.astype(np.float32)\n"
     ]
    },
    {
     "name": "stdout",
     "output_type": "stream",
     "text": [
      "\tAROUSAL-s32|Acc=0.92167|10-CV=0.92933|STD=0.032|Time spend=0.5935401916503906\n",
      "AROUSAL|Acc=0.7908854166666667|10-CV=0.7514583333333333|STD=0.07088855053441581\n"
     ]
    }
   ],
   "source": [
    "accs, cv_means, cv_stds = [],[],[]\n",
    "for filename in tqdm(dataset.get_file_list()):\n",
    "\n",
    "    data, labels, groups = dataset.get_data(filename, stimuli=Dataset_subjectDependent.STIMULI_AROUSAL, return_type='numpy')\n",
    "    labels = labels.squeeze()\n",
    "    start = time.time()\n",
    "    filters = CSP(data[labels==0], data[labels==1])\n",
    "    \n",
    "    csp_data = []\n",
    "    for index in range(len(data)):\n",
    "        \n",
    "        # (672, 32) @ (32, 32) = (672, 32)\n",
    "        csp = data[index].T @ filters[labels[index].astype(int)]\n",
    "        # (1, 32, 672)\n",
    "        csp = np.expand_dims(csp.T, axis=0)\n",
    "        csp_data.append(csp)\n",
    "\n",
    "    csp_data = np.vstack(csp_data)\n",
    "    # print(csp_data.shape) => (2400, 32, 128)\n",
    "    fe = FeatureExtractor(sfreq=128, selected_funcs=['pow_freq_bands'],params=params,n_jobs=8)\n",
    "    X = fe.fit_transform(X=csp_data)\n",
    "    # print(X.shape, time.time() - start) => (2400, 160) 1.2374355792999268\n",
    "\n",
    "    assert X.shape[1] == 160\n",
    "    _, acc, cross = train_model(X, labels.reshape(-1), groups, filename=filename)\n",
    "    print(f\"\\tAROUSAL-{filename}|Acc={round(acc,5)}|10-CV={round(cross.mean(),5)}|STD={round(cross.std(),5)}|Time spend={time.time() - start}\")\n",
    "    accs.append(acc)\n",
    "    cv_means.append(cross.mean())\n",
    "    cv_stds.append(cross.std())\n",
    "print(f\"AROUSAL|Acc={sum(accs)/len(accs)}|10-CV={sum(cv_means)/len(cv_means)}|STD={sum(cv_stds)/len(cv_stds)}\")"
   ]
  },
  {
   "cell_type": "code",
   "execution_count": 21,
   "metadata": {},
   "outputs": [
    {
     "data": {
      "application/vnd.jupyter.widget-view+json": {
       "model_id": "f18779fae02f45f8af2be0bbe12737cd",
       "version_major": 2,
       "version_minor": 0
      },
      "text/plain": [
       "  0%|          | 0/32 [00:00<?, ?it/s]"
      ]
     },
     "metadata": {},
     "output_type": "display_data"
    },
    {
     "name": "stderr",
     "output_type": "stream",
     "text": [
      "/root/projects/components/CSP.py:78: ComplexWarning: Casting complex values to real discards the imaginary part\n",
      "  return SFa.astype(np.float32)\n"
     ]
    },
    {
     "name": "stdout",
     "output_type": "stream",
     "text": [
      "\tVALENCE-s01|Acc=0.8|10-CV=0.772|STD=0.03919|Time spend=0.5979387760162354\n"
     ]
    },
    {
     "name": "stderr",
     "output_type": "stream",
     "text": [
      "/root/projects/components/CSP.py:78: ComplexWarning: Casting complex values to real discards the imaginary part\n",
      "  return SFa.astype(np.float32)\n"
     ]
    },
    {
     "name": "stdout",
     "output_type": "stream",
     "text": [
      "\tVALENCE-s02|Acc=0.60667|10-CV=0.472|STD=0.09706|Time spend=0.6265716552734375\n"
     ]
    },
    {
     "name": "stderr",
     "output_type": "stream",
     "text": [
      "/root/projects/components/CSP.py:78: ComplexWarning: Casting complex values to real discards the imaginary part\n",
      "  return SFa.astype(np.float32)\n"
     ]
    },
    {
     "name": "stdout",
     "output_type": "stream",
     "text": [
      "\tVALENCE-s03|Acc=0.7|10-CV=0.588|STD=0.16991|Time spend=0.5825610160827637\n"
     ]
    },
    {
     "name": "stderr",
     "output_type": "stream",
     "text": [
      "/root/projects/components/CSP.py:78: ComplexWarning: Casting complex values to real discards the imaginary part\n",
      "  return SFa.astype(np.float32)\n"
     ]
    },
    {
     "name": "stdout",
     "output_type": "stream",
     "text": [
      "\tVALENCE-s04|Acc=0.69833|10-CV=0.564|STD=0.10367|Time spend=0.7505135536193848\n"
     ]
    },
    {
     "name": "stderr",
     "output_type": "stream",
     "text": [
      "/root/projects/components/CSP.py:78: ComplexWarning: Casting complex values to real discards the imaginary part\n",
      "  return SFa.astype(np.float32)\n"
     ]
    },
    {
     "name": "stdout",
     "output_type": "stream",
     "text": [
      "\tVALENCE-s05|Acc=0.86833|10-CV=0.876|STD=0.02863|Time spend=0.5652961730957031\n"
     ]
    },
    {
     "name": "stderr",
     "output_type": "stream",
     "text": [
      "/root/projects/components/CSP.py:78: ComplexWarning: Casting complex values to real discards the imaginary part\n",
      "  return SFa.astype(np.float32)\n"
     ]
    },
    {
     "name": "stdout",
     "output_type": "stream",
     "text": [
      "-----WARNING: Model s06 failed to learn: sum(ans)=600.0 sum(y)=450.0 len(y)=600\n",
      "\tVALENCE-s06|Acc=0.75|10-CV=0.714|STD=0.07348|Time spend=0.5531744956970215\n"
     ]
    },
    {
     "name": "stderr",
     "output_type": "stream",
     "text": [
      "/root/projects/components/CSP.py:78: ComplexWarning: Casting complex values to real discards the imaginary part\n",
      "  return SFa.astype(np.float32)\n"
     ]
    },
    {
     "name": "stdout",
     "output_type": "stream",
     "text": [
      "-----WARNING: Model s07 failed to learn: sum(ans)=600.0 sum(y)=420.0 len(y)=600\n",
      "\tVALENCE-s07|Acc=0.7|10-CV=0.682|STD=0.12625|Time spend=0.6080946922302246\n"
     ]
    },
    {
     "name": "stderr",
     "output_type": "stream",
     "text": [
      "/root/projects/components/CSP.py:78: ComplexWarning: Casting complex values to real discards the imaginary part\n",
      "  return SFa.astype(np.float32)\n"
     ]
    },
    {
     "name": "stdout",
     "output_type": "stream",
     "text": [
      "\tVALENCE-s08|Acc=0.59167|10-CV=0.46467|STD=0.09058|Time spend=0.6337404251098633\n"
     ]
    },
    {
     "name": "stderr",
     "output_type": "stream",
     "text": [
      "/root/projects/components/CSP.py:78: ComplexWarning: Casting complex values to real discards the imaginary part\n",
      "  return SFa.astype(np.float32)\n"
     ]
    },
    {
     "name": "stdout",
     "output_type": "stream",
     "text": [
      "\tVALENCE-s09|Acc=0.91|10-CV=0.88867|STD=0.04153|Time spend=0.5744082927703857\n"
     ]
    },
    {
     "name": "stderr",
     "output_type": "stream",
     "text": [
      "/root/projects/components/CSP.py:78: ComplexWarning: Casting complex values to real discards the imaginary part\n",
      "  return SFa.astype(np.float32)\n"
     ]
    },
    {
     "name": "stdout",
     "output_type": "stream",
     "text": [
      "\tVALENCE-s10|Acc=0.96167|10-CV=0.95467|STD=0.03052|Time spend=0.5578999519348145\n"
     ]
    },
    {
     "name": "stderr",
     "output_type": "stream",
     "text": [
      "/root/projects/components/CSP.py:78: ComplexWarning: Casting complex values to real discards the imaginary part\n",
      "  return SFa.astype(np.float32)\n"
     ]
    },
    {
     "name": "stdout",
     "output_type": "stream",
     "text": [
      "\tVALENCE-s11|Acc=0.60667|10-CV=0.50933|STD=0.12344|Time spend=0.5975043773651123\n"
     ]
    },
    {
     "name": "stderr",
     "output_type": "stream",
     "text": [
      "/root/projects/components/CSP.py:78: ComplexWarning: Casting complex values to real discards the imaginary part\n",
      "  return SFa.astype(np.float32)\n"
     ]
    },
    {
     "name": "stdout",
     "output_type": "stream",
     "text": [
      "\tVALENCE-s12|Acc=0.78667|10-CV=0.70933|STD=0.05531|Time spend=0.5971591472625732\n"
     ]
    },
    {
     "name": "stderr",
     "output_type": "stream",
     "text": [
      "/root/projects/components/CSP.py:78: ComplexWarning: Casting complex values to real discards the imaginary part\n",
      "  return SFa.astype(np.float32)\n"
     ]
    },
    {
     "name": "stdout",
     "output_type": "stream",
     "text": [
      "\tVALENCE-s13|Acc=0.75833|10-CV=0.74467|STD=0.10812|Time spend=0.7588987350463867\n"
     ]
    },
    {
     "name": "stderr",
     "output_type": "stream",
     "text": [
      "/root/projects/components/CSP.py:78: ComplexWarning: Casting complex values to real discards the imaginary part\n",
      "  return SFa.astype(np.float32)\n"
     ]
    },
    {
     "name": "stdout",
     "output_type": "stream",
     "text": [
      "\tVALENCE-s14|Acc=0.635|10-CV=0.48467|STD=0.09541|Time spend=0.628227949142456\n"
     ]
    },
    {
     "name": "stderr",
     "output_type": "stream",
     "text": [
      "/root/projects/components/CSP.py:78: ComplexWarning: Casting complex values to real discards the imaginary part\n",
      "  return SFa.astype(np.float32)\n"
     ]
    },
    {
     "name": "stdout",
     "output_type": "stream",
     "text": [
      "\tVALENCE-s15|Acc=0.83333|10-CV=0.82333|STD=0.08001|Time spend=0.5915508270263672\n"
     ]
    },
    {
     "name": "stderr",
     "output_type": "stream",
     "text": [
      "/root/projects/components/CSP.py:78: ComplexWarning: Casting complex values to real discards the imaginary part\n",
      "  return SFa.astype(np.float32)\n"
     ]
    },
    {
     "name": "stdout",
     "output_type": "stream",
     "text": [
      "\tVALENCE-s16|Acc=0.68|10-CV=0.64|STD=0.0823|Time spend=0.7236001491546631\n"
     ]
    },
    {
     "name": "stderr",
     "output_type": "stream",
     "text": [
      "/root/projects/components/CSP.py:78: ComplexWarning: Casting complex values to real discards the imaginary part\n",
      "  return SFa.astype(np.float32)\n"
     ]
    },
    {
     "name": "stdout",
     "output_type": "stream",
     "text": [
      "\tVALENCE-s17|Acc=0.605|10-CV=0.42533|STD=0.10232|Time spend=0.6362273693084717\n"
     ]
    },
    {
     "name": "stderr",
     "output_type": "stream",
     "text": [
      "/root/projects/components/CSP.py:78: ComplexWarning: Casting complex values to real discards the imaginary part\n",
      "  return SFa.astype(np.float32)\n"
     ]
    },
    {
     "name": "stdout",
     "output_type": "stream",
     "text": [
      "\tVALENCE-s18|Acc=0.615|10-CV=0.51733|STD=0.11908|Time spend=0.6134915351867676\n"
     ]
    },
    {
     "name": "stderr",
     "output_type": "stream",
     "text": [
      "/root/projects/components/CSP.py:78: ComplexWarning: Casting complex values to real discards the imaginary part\n",
      "  return SFa.astype(np.float32)\n"
     ]
    },
    {
     "name": "stdout",
     "output_type": "stream",
     "text": [
      "\tVALENCE-s19|Acc=0.99833|10-CV=0.99933|STD=0.002|Time spend=0.555314302444458\n"
     ]
    },
    {
     "name": "stderr",
     "output_type": "stream",
     "text": [
      "/root/projects/components/CSP.py:78: ComplexWarning: Casting complex values to real discards the imaginary part\n",
      "  return SFa.astype(np.float32)\n"
     ]
    },
    {
     "name": "stdout",
     "output_type": "stream",
     "text": [
      "\tVALENCE-s20|Acc=0.94167|10-CV=0.93133|STD=0.0213|Time spend=0.5636088848114014\n"
     ]
    },
    {
     "name": "stderr",
     "output_type": "stream",
     "text": [
      "/root/projects/components/CSP.py:78: ComplexWarning: Casting complex values to real discards the imaginary part\n",
      "  return SFa.astype(np.float32)\n"
     ]
    },
    {
     "name": "stdout",
     "output_type": "stream",
     "text": [
      "\tVALENCE-s21|Acc=0.545|10-CV=0.37|STD=0.07176|Time spend=0.6342248916625977\n"
     ]
    },
    {
     "name": "stderr",
     "output_type": "stream",
     "text": [
      "/root/projects/components/CSP.py:78: ComplexWarning: Casting complex values to real discards the imaginary part\n",
      "  return SFa.astype(np.float32)\n"
     ]
    },
    {
     "name": "stdout",
     "output_type": "stream",
     "text": [
      "\tVALENCE-s22|Acc=0.90333|10-CV=0.89267|STD=0.04273|Time spend=0.573265790939331\n"
     ]
    },
    {
     "name": "stderr",
     "output_type": "stream",
     "text": [
      "/root/projects/components/CSP.py:78: ComplexWarning: Casting complex values to real discards the imaginary part\n",
      "  return SFa.astype(np.float32)\n"
     ]
    },
    {
     "name": "stdout",
     "output_type": "stream",
     "text": [
      "-----WARNING: Model s23 failed to learn: sum(ans)=600.0 sum(y)=390.0 len(y)=600\n",
      "\tVALENCE-s23|Acc=0.65|10-CV=0.59933|STD=0.13375|Time spend=0.5985350608825684\n"
     ]
    },
    {
     "name": "stderr",
     "output_type": "stream",
     "text": [
      "/root/projects/components/CSP.py:78: ComplexWarning: Casting complex values to real discards the imaginary part\n",
      "  return SFa.astype(np.float32)\n"
     ]
    },
    {
     "name": "stdout",
     "output_type": "stream",
     "text": [
      "-----WARNING: Model s24 failed to learn: sum(ans)=0.0 sum(y)=270.0 len(y)=600\n",
      "\tVALENCE-s24|Acc=0.55|10-CV=0.41867|STD=0.17846|Time spend=0.6245901584625244\n"
     ]
    },
    {
     "name": "stderr",
     "output_type": "stream",
     "text": [
      "/root/projects/components/CSP.py:78: ComplexWarning: Casting complex values to real discards the imaginary part\n",
      "  return SFa.astype(np.float32)\n"
     ]
    },
    {
     "name": "stdout",
     "output_type": "stream",
     "text": [
      "\tVALENCE-s25|Acc=0.62|10-CV=0.44533|STD=0.10599|Time spend=0.6283924579620361\n"
     ]
    },
    {
     "name": "stderr",
     "output_type": "stream",
     "text": [
      "/root/projects/components/CSP.py:78: ComplexWarning: Casting complex values to real discards the imaginary part\n",
      "  return SFa.astype(np.float32)\n"
     ]
    },
    {
     "name": "stdout",
     "output_type": "stream",
     "text": [
      "\tVALENCE-s26|Acc=0.78|10-CV=0.65667|STD=0.13654|Time spend=0.6403050422668457\n"
     ]
    },
    {
     "name": "stderr",
     "output_type": "stream",
     "text": [
      "/root/projects/components/CSP.py:78: ComplexWarning: Casting complex values to real discards the imaginary part\n",
      "  return SFa.astype(np.float32)\n"
     ]
    },
    {
     "name": "stdout",
     "output_type": "stream",
     "text": [
      "\tVALENCE-s27|Acc=0.75167|10-CV=0.67|STD=0.12689|Time spend=0.6054530143737793\n"
     ]
    },
    {
     "name": "stderr",
     "output_type": "stream",
     "text": [
      "/root/projects/components/CSP.py:78: ComplexWarning: Casting complex values to real discards the imaginary part\n",
      "  return SFa.astype(np.float32)\n"
     ]
    },
    {
     "name": "stdout",
     "output_type": "stream",
     "text": [
      "\tVALENCE-s28|Acc=0.65167|10-CV=0.53067|STD=0.10788|Time spend=0.6178736686706543\n"
     ]
    },
    {
     "name": "stderr",
     "output_type": "stream",
     "text": [
      "/root/projects/components/CSP.py:78: ComplexWarning: Casting complex values to real discards the imaginary part\n",
      "  return SFa.astype(np.float32)\n"
     ]
    },
    {
     "name": "stdout",
     "output_type": "stream",
     "text": [
      "\tVALENCE-s29|Acc=0.99667|10-CV=0.99667|STD=0.00333|Time spend=0.5322957038879395\n"
     ]
    },
    {
     "name": "stderr",
     "output_type": "stream",
     "text": [
      "/root/projects/components/CSP.py:78: ComplexWarning: Casting complex values to real discards the imaginary part\n",
      "  return SFa.astype(np.float32)\n"
     ]
    },
    {
     "name": "stdout",
     "output_type": "stream",
     "text": [
      "-----WARNING: Model s30 failed to learn: sum(ans)=600.0 sum(y)=405.0 len(y)=600\n",
      "\tVALENCE-s30|Acc=0.675|10-CV=0.61867|STD=0.1463|Time spend=0.6529767513275146\n"
     ]
    },
    {
     "name": "stderr",
     "output_type": "stream",
     "text": [
      "/root/projects/components/CSP.py:78: ComplexWarning: Casting complex values to real discards the imaginary part\n",
      "  return SFa.astype(np.float32)\n"
     ]
    },
    {
     "name": "stdout",
     "output_type": "stream",
     "text": [
      "\tVALENCE-s31|Acc=0.57667|10-CV=0.474|STD=0.10042|Time spend=0.6511485576629639\n"
     ]
    },
    {
     "name": "stderr",
     "output_type": "stream",
     "text": [
      "/root/projects/components/CSP.py:78: ComplexWarning: Casting complex values to real discards the imaginary part\n",
      "  return SFa.astype(np.float32)\n"
     ]
    },
    {
     "name": "stdout",
     "output_type": "stream",
     "text": [
      "\tVALENCE-s32|Acc=0.63|10-CV=0.54|STD=0.0996|Time spend=0.6143550872802734\n",
      "VALENCE|Acc=0.7305208333333334|10-CV=0.6554166666666665|STD=0.08886716269771341\n"
     ]
    }
   ],
   "source": [
    "accs_v, cv_means_v, cv_stds_v = [],[],[]\n",
    "for filename in tqdm(dataset.get_file_list()):\n",
    "\n",
    "    data, labels, groups = dataset.get_data(filename, stimuli=Dataset_subjectDependent.STIMULI_VALENCE, return_type='numpy')\n",
    "    labels = labels.squeeze()\n",
    "    start = time.time()\n",
    "    filters = CSP(data[labels==0], data[labels==1])\n",
    "    \n",
    "    csp_data = []\n",
    "    for index in range(len(data)):\n",
    "        \n",
    "        # (672, 32) @ (32, 32) = (672, 32)\n",
    "        csp = data[index].T @ filters[labels[index].astype(int)]\n",
    "        # (1, 32, 672)\n",
    "        csp = np.expand_dims(csp.T, axis=0)\n",
    "        csp_data.append(csp)\n",
    "\n",
    "    csp_data = np.vstack(csp_data)\n",
    "    # print(csp_data.shape) => (2400, 32, 128)\n",
    "    fe = FeatureExtractor(sfreq=128, selected_funcs=['pow_freq_bands'],params=params,n_jobs=8)\n",
    "    X = fe.fit_transform(X=csp_data)\n",
    "    # print(X.shape, time.time() - start) => (2400, 160) 1.2374355792999268\n",
    "\n",
    "    assert X.shape[1] == 160\n",
    "    _, acc, cross = train_model(X, labels.reshape(-1), groups, filename=filename)\n",
    "    print(f\"\\tVALENCE-{filename}|Acc={round(acc,5)}|10-CV={round(cross.mean(),5)}|STD={round(cross.std(),5)}|Time spend={time.time() - start}\")\n",
    "    accs_v.append(acc)\n",
    "    cv_means_v.append(cross.mean())\n",
    "    cv_stds_v.append(cross.std())\n",
    "print(f\"VALENCE|Acc={sum(accs_v)/len(accs_v)}|10-CV={sum(cv_means_v)/len(cv_means_v)}|STD={sum(cv_stds_v)/len(cv_stds_v)}\")"
   ]
  },
  {
   "cell_type": "code",
   "execution_count": 22,
   "metadata": {},
   "outputs": [
    {
     "name": "stdout",
     "output_type": "stream",
     "text": [
      "TOTAL|Acc=0.760703125|10-CV=0.7034374999999999|STD=0.07987785661606457\n"
     ]
    }
   ],
   "source": [
    "accs.extend(accs_v)\n",
    "cv_means.extend(cv_means_v)\n",
    "cv_stds.extend(cv_stds_v)\n",
    "\n",
    "print(f\"TOTAL|Acc={sum(accs)/len(accs)}|10-CV={sum(cv_means)/len(cv_means)}|STD={sum(cv_stds)/len(cv_stds)}\")"
   ]
  }
 ],
 "metadata": {
  "interpreter": {
   "hash": "27768773b483d82a9b2b839e3fa80b1be5789db7fd78df4eedef2df266871616"
  },
  "kernelspec": {
   "display_name": "Python 3 (ipykernel)",
   "language": "python",
   "name": "python3"
  },
  "language_info": {
   "codemirror_mode": {
    "name": "ipython",
    "version": 3
   },
   "file_extension": ".py",
   "mimetype": "text/x-python",
   "name": "python",
   "nbconvert_exporter": "python",
   "pygments_lexer": "ipython3",
   "version": "3.8.10"
  }
 },
 "nbformat": 4,
 "nbformat_minor": 4
}
