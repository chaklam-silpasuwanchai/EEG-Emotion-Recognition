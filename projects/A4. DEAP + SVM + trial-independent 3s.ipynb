{
 "cells": [
  {
   "cell_type": "code",
   "execution_count": 1,
   "metadata": {},
   "outputs": [
    {
     "name": "stdout",
     "output_type": "stream",
     "text": [
      "Found: 32 files\n",
      "s01 (800, 2) [47.5 60. ]\n"
     ]
    }
   ],
   "source": [
    "import time\n",
    "import numpy as np\n",
    "from tqdm.notebook import tqdm\n",
    "\n",
    "from components.dataset_jo import *\n",
    "\n",
    "dataset = Dataset_subjectDependent('data')\n",
    "segment_lenght = 3 #second\n",
    "dataset.set_segment(7680//(128*segment_lenght))\n",
    "for filename in dataset.get_file_list():\n",
    "    data, labels, _ = dataset.get_data(filename, return_type='numpy')\n",
    "    print(filename, labels.shape, labels.sum(axis=0)/labels.shape[0]*100)\n",
    "    break"
   ]
  },
  {
   "cell_type": "code",
   "execution_count": 2,
   "metadata": {},
   "outputs": [],
   "source": [
    "def train_model(X_ori,y_ori,groups_ori,filename=None, kernel='rbf',return_text=False):\n",
    "    # Make a copy because I am paranoid\n",
    "    X,y,groups = X_ori.copy(), y_ori.copy(), groups_ori.copy()\n",
    "\n",
    "    from sklearn.svm import SVC\n",
    "    from sklearn.model_selection import GroupShuffleSplit \n",
    "    from sklearn.model_selection import cross_val_score\n",
    "\n",
    "    model = SVC(kernel=kernel,max_iter=50000)\n",
    "    cv = GroupShuffleSplit(n_splits=10, train_size=0.75, random_state=0)\n",
    "    cross = cross_val_score(model, X, y, cv=cv,groups=groups, n_jobs=8)\n",
    "    \n",
    "    # We probably dont need this\n",
    "    model = SVC(kernel=kernel, max_iter=50000)\n",
    "    model.fit(X, y)\n",
    "    ans = model.predict(X)\n",
    "    acc = sum(ans == y) / len(y)\n",
    "    # If the model answer with all 0 or 1, we print this message\n",
    "    text = None\n",
    "    if( sum(ans) == len(y) or sum(ans) == 0 ): \n",
    "        text = f\"-----WARNING: Model {filename} failed to learn: sum(ans)={sum(ans)} sum(y)={sum(y)} len(y)={len(y)}\"\n",
    "    if(return_text):\n",
    "        return model, acc, cross, text\n",
    "    else:\n",
    "        if(text != None): print(text)\n",
    "        return model, acc, cross"
   ]
  },
  {
   "cell_type": "markdown",
   "metadata": {},
   "source": [
    "## 2. Spectral Features"
   ]
  },
  {
   "cell_type": "code",
   "execution_count": 3,
   "metadata": {},
   "outputs": [],
   "source": [
    "from mne_features.feature_extraction import FeatureExtractor"
   ]
  },
  {
   "cell_type": "code",
   "execution_count": 4,
   "metadata": {},
   "outputs": [
    {
     "name": "stdout",
     "output_type": "stream",
     "text": [
      "\tAROUSAL-s01|Acc=0.72125|10-CV=0.5395|STD=0.1422|Time spend=28.75119709968567\n",
      "\tAROUSAL-s02|Acc=0.63375|10-CV=0.5375|STD=0.0737|Time spend=0.5980422496795654\n",
      "-----WARNING: Model s03 failed to learn: sum(ans)=0.0 sum(y)=160.0 len(y)=800\n",
      "\tAROUSAL-s03|Acc=0.8|10-CV=0.73|STD=0.15524|Time spend=0.5485589504241943\n",
      "\tAROUSAL-s04|Acc=0.6525|10-CV=0.516|STD=0.0854|Time spend=0.60251784324646\n",
      "\tAROUSAL-s05|Acc=0.63125|10-CV=0.42|STD=0.09615|Time spend=0.5999720096588135\n",
      "\tAROUSAL-s06|Acc=0.64|10-CV=0.529|STD=0.13294|Time spend=0.5902667045593262\n",
      "\tAROUSAL-s07|Acc=0.68125|10-CV=0.6075|STD=0.09215|Time spend=0.5799992084503174\n",
      "\tAROUSAL-s08|Acc=0.6925|10-CV=0.4105|STD=0.10969|Time spend=0.5892424583435059\n",
      "\tAROUSAL-s09|Acc=0.64375|10-CV=0.507|STD=0.09039|Time spend=0.5985488891601562\n",
      "\tAROUSAL-s10|Acc=0.7675|10-CV=0.5595|STD=0.08813|Time spend=0.5834240913391113\n",
      "-----WARNING: Model s11 failed to learn: sum(ans)=0.0 sum(y)=300.0 len(y)=800\n",
      "\tAROUSAL-s11|Acc=0.625|10-CV=0.5955|STD=0.05646|Time spend=0.5763928890228271\n",
      "-----WARNING: Model s12 failed to learn: sum(ans)=800.0 sum(y)=660.0 len(y)=800\n",
      "\tAROUSAL-s12|Acc=0.825|10-CV=0.83|STD=0.1005|Time spend=0.5411584377288818\n",
      "-----WARNING: Model s13 failed to learn: sum(ans)=800.0 sum(y)=680.0 len(y)=800\n",
      "\tAROUSAL-s13|Acc=0.85|10-CV=0.84|STD=0.06633|Time spend=0.5856688022613525\n",
      "-----WARNING: Model s14 failed to learn: sum(ans)=800.0 sum(y)=540.0 len(y)=800\n",
      "\tAROUSAL-s14|Acc=0.675|10-CV=0.65|STD=0.10247|Time spend=0.623164176940918\n",
      "\tAROUSAL-s15|Acc=0.72625|10-CV=0.5785|STD=0.09453|Time spend=0.6107456684112549\n",
      "\tAROUSAL-s16|Acc=0.7575|10-CV=0.561|STD=0.08233|Time spend=0.5808000564575195\n",
      "\tAROUSAL-s17|Acc=0.715|10-CV=0.5965|STD=0.07239|Time spend=0.5718898773193359\n",
      "\tAROUSAL-s18|Acc=0.64625|10-CV=0.5435|STD=0.09874|Time spend=0.5964012145996094\n",
      "\tAROUSAL-s19|Acc=0.68375|10-CV=0.6285|STD=0.13197|Time spend=0.5775089263916016\n",
      "-----WARNING: Model s20 failed to learn: sum(ans)=800.0 sum(y)=620.0 len(y)=800\n",
      "\tAROUSAL-s20|Acc=0.775|10-CV=0.82|STD=0.08718|Time spend=0.5416178703308105\n",
      "-----WARNING: Model s21 failed to learn: sum(ans)=800.0 sum(y)=640.0 len(y)=800\n",
      "\tAROUSAL-s21|Acc=0.8|10-CV=0.8|STD=0.1|Time spend=0.5500564575195312\n",
      "-----WARNING: Model s22 failed to learn: sum(ans)=800.0 sum(y)=480.0 len(y)=800\n",
      "\tAROUSAL-s22|Acc=0.6|10-CV=0.5725|STD=0.06435|Time spend=0.5924973487854004\n",
      "-----WARNING: Model s23 failed to learn: sum(ans)=0.0 sum(y)=200.0 len(y)=800\n",
      "\tAROUSAL-s23|Acc=0.75|10-CV=0.78|STD=0.09798|Time spend=0.5463156700134277\n",
      "-----WARNING: Model s24 failed to learn: sum(ans)=800.0 sum(y)=660.0 len(y)=800\n",
      "\tAROUSAL-s24|Acc=0.825|10-CV=0.82|STD=0.07483|Time spend=0.5514395236968994\n",
      "-----WARNING: Model s25 failed to learn: sum(ans)=800.0 sum(y)=580.0 len(y)=800\n",
      "\tAROUSAL-s25|Acc=0.725|10-CV=0.739|STD=0.12605|Time spend=0.5778117179870605\n",
      "\tAROUSAL-s26|Acc=0.62875|10-CV=0.515|STD=0.10728|Time spend=0.6020541191101074\n",
      "\tAROUSAL-s27|Acc=0.70125|10-CV=0.639|STD=0.10121|Time spend=0.5894243717193604\n",
      "\tAROUSAL-s28|Acc=0.61375|10-CV=0.4815|STD=0.10872|Time spend=0.6647210121154785\n",
      "\tAROUSAL-s29|Acc=0.66625|10-CV=0.5325|STD=0.08583|Time spend=0.5882315635681152\n",
      "\tAROUSAL-s30|Acc=0.6225|10-CV=0.448|STD=0.06392|Time spend=0.6392502784729004\n",
      "\tAROUSAL-s31|Acc=0.7|10-CV=0.543|STD=0.11637|Time spend=0.6523587703704834\n",
      "-----WARNING: Model s32 failed to learn: sum(ans)=800.0 sum(y)=540.0 len(y)=800\n",
      "\tAROUSAL-s32|Acc=0.675|10-CV=0.6995|STD=0.12248|Time spend=0.5903360843658447\n",
      "AROUSAL|Acc=0.7015625000000002|10-CV=0.6115625|STD=0.09774803223821303\n",
      "\tVALENCE-s01|Acc=0.68625|10-CV=0.439|STD=0.07576|Time spend=0.39922547340393066\n",
      "\tVALENCE-s02|Acc=0.71875|10-CV=0.5995|STD=0.11055|Time spend=0.3703155517578125\n",
      "\tVALENCE-s03|Acc=0.6925|10-CV=0.492|STD=0.15083|Time spend=0.38393282890319824\n",
      "\tVALENCE-s04|Acc=0.66|10-CV=0.5045|STD=0.07367|Time spend=0.4451272487640381\n",
      "\tVALENCE-s05|Acc=0.64625|10-CV=0.561|STD=0.07877|Time spend=0.41666245460510254\n",
      "-----WARNING: Model s06 failed to learn: sum(ans)=800.0 sum(y)=600.0 len(y)=800\n",
      "\tVALENCE-s06|Acc=0.75|10-CV=0.7195|STD=0.07498|Time spend=0.38520264625549316\n",
      "\tVALENCE-s07|Acc=0.70875|10-CV=0.66|STD=0.13533|Time spend=0.384387731552124\n",
      "\tVALENCE-s08|Acc=0.725|10-CV=0.4935|STD=0.09826|Time spend=0.4115478992462158\n",
      "\tVALENCE-s09|Acc=0.72875|10-CV=0.583|STD=0.09296|Time spend=0.42982053756713867\n",
      "\tVALENCE-s10|Acc=0.78625|10-CV=0.7285|STD=0.08195|Time spend=0.42505812644958496\n",
      "\tVALENCE-s11|Acc=0.6|10-CV=0.52|STD=0.13476|Time spend=0.4119112491607666\n",
      "\tVALENCE-s12|Acc=0.70375|10-CV=0.502|STD=0.14521|Time spend=0.41983580589294434\n",
      "\tVALENCE-s13|Acc=0.77375|10-CV=0.729|STD=0.12016|Time spend=0.38744354248046875\n",
      "\tVALENCE-s14|Acc=0.74125|10-CV=0.6285|STD=0.08491|Time spend=0.40964317321777344\n",
      "\tVALENCE-s15|Acc=0.8225|10-CV=0.708|STD=0.07219|Time spend=0.40599536895751953\n",
      "\tVALENCE-s16|Acc=0.75625|10-CV=0.656|STD=0.09648|Time spend=0.4031860828399658\n",
      "\tVALENCE-s17|Acc=0.65125|10-CV=0.4135|STD=0.10045|Time spend=0.42697644233703613\n",
      "\tVALENCE-s18|Acc=0.8075|10-CV=0.6645|STD=0.0724|Time spend=0.39878082275390625\n",
      "\tVALENCE-s19|Acc=0.7025|10-CV=0.48|STD=0.12896|Time spend=0.4212167263031006\n",
      "\tVALENCE-s20|Acc=0.725|10-CV=0.558|STD=0.15815|Time spend=0.41401243209838867\n",
      "\tVALENCE-s21|Acc=0.655|10-CV=0.4345|STD=0.09822|Time spend=0.41832828521728516\n",
      "\tVALENCE-s22|Acc=0.72875|10-CV=0.646|STD=0.09641|Time spend=0.40796542167663574\n",
      "\tVALENCE-s23|Acc=0.66375|10-CV=0.5765|STD=0.10421|Time spend=0.41229963302612305\n",
      "\tVALENCE-s24|Acc=0.60875|10-CV=0.46|STD=0.15947|Time spend=0.42913031578063965\n",
      "\tVALENCE-s25|Acc=0.6375|10-CV=0.399|STD=0.09909|Time spend=0.43817949295043945\n",
      "-----WARNING: Model s26 failed to learn: sum(ans)=800.0 sum(y)=520.0 len(y)=800\n",
      "\tVALENCE-s26|Acc=0.65|10-CV=0.606|STD=0.12381|Time spend=0.41856861114501953\n",
      "\tVALENCE-s27|Acc=0.75125|10-CV=0.669|STD=0.12587|Time spend=0.3805546760559082\n",
      "\tVALENCE-s28|Acc=0.635|10-CV=0.5315|STD=0.11378|Time spend=0.4907546043395996\n",
      "\tVALENCE-s29|Acc=0.67875|10-CV=0.5|STD=0.07596|Time spend=0.44705891609191895\n",
      "-----WARNING: Model s30 failed to learn: sum(ans)=800.0 sum(y)=540.0 len(y)=800\n",
      "\tVALENCE-s30|Acc=0.675|10-CV=0.618|STD=0.14595|Time spend=0.4403259754180908\n",
      "\tVALENCE-s31|Acc=0.63125|10-CV=0.479|STD=0.09974|Time spend=0.46671104431152344\n",
      "\tVALENCE-s32|Acc=0.63875|10-CV=0.4595|STD=0.11618|Time spend=0.4528162479400635\n",
      "VALENCE|Acc=0.698125|10-CV=0.5630937500000001|STD=0.10766948111012153\n",
      "TOTAL|Acc=0.69984375|10-CV=0.587328125|STD=0.10270875667416729\n"
     ]
    }
   ],
   "source": [
    "bands = [(0,4), (4,8), (8,12), (12,30), (30,64)]\n",
    "# [alias_feature_function]__[optional_param]\n",
    "params = dict({\n",
    "    'pow_freq_bands__log':True,\n",
    "    'pow_freq_bands__normalize':False,\n",
    "    'pow_freq_bands__freq_bands':bands\n",
    "})\n",
    "\n",
    "\n",
    "accs,cv_means,cv_stds  = [],[],[]\n",
    "# count = 0\n",
    "for filename in dataset.get_file_list():\n",
    "    start = time.time()\n",
    "    data, labels, groups = dataset.get_data(filename, stimuli=Dataset_subjectDependent.STIMULI_AROUSAL, return_type='numpy')\n",
    "    fe = FeatureExtractor(sfreq=128, selected_funcs=['pow_freq_bands'],params=params,n_jobs=8)\n",
    "    X = fe.fit_transform(X=data)\n",
    "    _, acc, cross = train_model(X, labels.reshape(-1), groups,filename=filename)\n",
    "    print(f\"\\tAROUSAL-{filename}|Acc={round(acc,5)}|10-CV={round(cross.mean(),5)}|STD={round(cross.std(),5)}|Time spend={time.time() - start}\")\n",
    "    accs.append(acc)\n",
    "    cv_means.append(cross.mean())\n",
    "    cv_stds.append(cross.std())\n",
    "    # count+=1\n",
    "    # if(count == 5): break\n",
    "print(f\"AROUSAL|Acc={sum(accs)/len(accs)}|10-CV={sum(cv_means)/len(cv_means)}|STD={sum(cv_stds)/len(cv_stds)}\")\n",
    "\n",
    "accs_v,cv_means_v,cv_stds_v  = [],[],[]\n",
    "# count=0\n",
    "for filename in dataset.get_file_list():\n",
    "    start = time.time()\n",
    "    data, labels, groups = dataset.get_data(filename, stimuli=Dataset_subjectDependent.STIMULI_VALENCE, return_type='numpy')\n",
    "    fe = FeatureExtractor(sfreq=128, selected_funcs=['pow_freq_bands'],params=params,n_jobs=8)\n",
    "    X = fe.fit_transform(X=data)\n",
    "    _, acc, cross = train_model(X, labels.reshape(-1), groups,filename=filename)\n",
    "    print(f\"\\tVALENCE-{filename}|Acc={round(acc,5)}|10-CV={round(cross.mean(),5)}|STD={round(cross.std(),5)}|Time spend={time.time() - start}\")\n",
    "    accs_v.append(acc)\n",
    "    cv_means_v.append(cross.mean())\n",
    "    cv_stds_v.append(cross.std())\n",
    "    # count+=1\n",
    "    # if(count == 5): break\n",
    "print(f\"VALENCE|Acc={sum(accs_v)/len(accs_v)}|10-CV={sum(cv_means_v)/len(cv_means_v)}|STD={sum(cv_stds_v)/len(cv_stds_v)}\")\n",
    "\n",
    "accs.extend(accs_v)\n",
    "cv_means.extend(cv_means_v)\n",
    "cv_stds.extend(cv_stds_v)\n",
    "print(f\"TOTAL|Acc={sum(accs)/len(accs)}|10-CV={sum(cv_means)/len(cv_means)}|STD={sum(cv_stds)/len(cv_stds)}\")"
   ]
  },
  {
   "cell_type": "markdown",
   "metadata": {},
   "source": [
    "## 3. Asymetry"
   ]
  },
  {
   "cell_type": "code",
   "execution_count": 5,
   "metadata": {},
   "outputs": [
    {
     "name": "stdout",
     "output_type": "stream",
     "text": [
      "left_channel_indexes=[0, 3, 2, 7, 11, 6, 10, 13, 1, 4, 5, 8, 9, 12]\n",
      "right_channel_indexes=[16, 20, 19, 25, 29, 24, 28, 31, 17, 21, 22, 26, 27, 30]\n",
      "frontal_channel_indexes=[4, 5, 22, 21, 3, 2, 18, 19, 20, 0, 16]\n",
      "posterior_channel_indexes=[8, 9, 27, 26, 11, 10, 15, 28, 29, 13, 31]\n"
     ]
    }
   ],
   "source": [
    "channels = ['Fp1','AF3','F3','F7','FC5','FC1','C3','T7','CP5','CP1','P3','P7','PO3','O1','Oz','Pz','Fp2','AF4','Fz','F4','F8','FC6','FC2','Cz','C4','T8','CP6','CP2','P4','P8','PO4','O2']\n",
    "left_channels = ['Fp1','F7','F3','T7','P7','C3','P3','O1','AF3','FC5','FC1','CP5','CP1','PO3']\n",
    "right_channels = ['Fp2','F8','F4','T8','P8','C4','P4','O2','AF4','FC6','FC2','CP6','CP2','PO4']\n",
    "left_channel_indexes = [ channels.index(ch) for ch in left_channels ]\n",
    "right_channel_indexes = [ channels.index(ch) for ch in right_channels ]\n",
    "\n",
    "print(f\"{left_channel_indexes=}\")\n",
    "print(f\"{right_channel_indexes=}\")\n",
    "\n",
    "frontal_channels = ['FC5','FC1','FC2','FC6','F7','F3','Fz','F4','F8','Fp1','Fp2']\n",
    "posterior_channels = ['CP5','CP1','CP2','CP6','P7','P3','Pz','P4','P8','O1','O2']\n",
    "\n",
    "frontal_channel_indexes = [ channels.index(ch) for ch in frontal_channels ]\n",
    "posterior_channel_indexes = [ channels.index(ch) for ch in posterior_channels ]\n",
    "\n",
    "print(f\"{frontal_channel_indexes=}\")\n",
    "print(f\"{posterior_channel_indexes=}\")"
   ]
  },
  {
   "cell_type": "code",
   "execution_count": 6,
   "metadata": {},
   "outputs": [
    {
     "name": "stdout",
     "output_type": "stream",
     "text": [
      "\tAROUSAL-s01-DASM|Acc=0.6025|10-CV=0.531|STD=0.12623|Time spend=0.3277158737182617\n",
      "\tAROUSAL-s01-RASM|Acc=0.6025|10-CV=0.559|STD=0.15662|Time spend=0.3993964195251465\n",
      "\tAROUSAL-s01-DCAU|Acc=0.6375|10-CV=0.532|STD=0.13089|Time spend=0.4586758613586426\n",
      "\tAROUSAL-s02-DASM|Acc=0.61375|10-CV=0.5155|STD=0.06966|Time spend=0.32250452041625977\n",
      "\tAROUSAL-s02-RASM|Acc=0.60875|10-CV=0.5125|STD=0.14925|Time spend=0.38097572326660156\n",
      "\tAROUSAL-s02-DCAU|Acc=0.61375|10-CV=0.5045|STD=0.07699|Time spend=0.4385800361633301\n",
      "-----WARNING: Model s03 failed to learn: sum(ans)=0.0 sum(y)=160.0 len(y)=800\n",
      "\tAROUSAL-s03-DASM|Acc=0.8|10-CV=0.73|STD=0.15524|Time spend=0.28737878799438477\n",
      "\tAROUSAL-s03-RASM|Acc=0.8025|10-CV=0.7295|STD=0.1547|Time spend=0.3244800567626953\n",
      "-----WARNING: Model s03 failed to learn: sum(ans)=0.0 sum(y)=160.0 len(y)=800\n",
      "\tAROUSAL-s03-DCAU|Acc=0.8|10-CV=0.73|STD=0.15524|Time spend=0.37532663345336914\n",
      "\tAROUSAL-s04-DASM|Acc=0.61875|10-CV=0.5375|STD=0.11472|Time spend=0.30904483795166016\n",
      "\tAROUSAL-s04-RASM|Acc=0.60125|10-CV=0.5395|STD=0.21945|Time spend=0.36612892150878906\n",
      "\tAROUSAL-s04-DCAU|Acc=0.61875|10-CV=0.536|STD=0.11061|Time spend=0.4217097759246826\n",
      "\tAROUSAL-s05-DASM|Acc=0.59|10-CV=0.4115|STD=0.09179|Time spend=0.31350088119506836\n",
      "\tAROUSAL-s05-RASM|Acc=0.535|10-CV=0.409|STD=0.10735|Time spend=0.3760669231414795\n",
      "\tAROUSAL-s05-DCAU|Acc=0.5925|10-CV=0.4255|STD=0.10233|Time spend=0.43769145011901855\n",
      "\tAROUSAL-s06-DASM|Acc=0.63625|10-CV=0.526|STD=0.13867|Time spend=0.3479499816894531\n",
      "\tAROUSAL-s06-RASM|Acc=0.58375|10-CV=0.5415|STD=0.14517|Time spend=0.40915822982788086\n",
      "\tAROUSAL-s06-DCAU|Acc=0.62125|10-CV=0.521|STD=0.13438|Time spend=0.4698333740234375\n",
      "\tAROUSAL-s07-DASM|Acc=0.63125|10-CV=0.6095|STD=0.10063|Time spend=0.32950377464294434\n",
      "\tAROUSAL-s07-RASM|Acc=0.62875|10-CV=0.6435|STD=0.13543|Time spend=0.43176937103271484\n",
      "\tAROUSAL-s07-DCAU|Acc=0.62625|10-CV=0.6335|STD=0.12067|Time spend=0.5056607723236084\n",
      "\tAROUSAL-s08-DASM|Acc=0.62|10-CV=0.42|STD=0.10412|Time spend=0.3737149238586426\n",
      "-----WARNING: Model s08 failed to learn: sum(ans)=800.0 sum(y)=460.0 len(y)=800\n",
      "\tAROUSAL-s08-RASM|Acc=0.575|10-CV=0.4525|STD=0.13895|Time spend=0.4450507164001465\n",
      "\tAROUSAL-s08-DCAU|Acc=0.6225|10-CV=0.4245|STD=0.09551|Time spend=0.5088121891021729\n",
      "\tAROUSAL-s09-DASM|Acc=0.66375|10-CV=0.5205|STD=0.1018|Time spend=0.31720399856567383\n",
      "\tAROUSAL-s09-RASM|Acc=0.60125|10-CV=0.533|STD=0.12067|Time spend=0.37615180015563965\n",
      "\tAROUSAL-s09-DCAU|Acc=0.64625|10-CV=0.498|STD=0.0944|Time spend=0.4310159683227539\n",
      "\tAROUSAL-s10-DASM|Acc=0.65875|10-CV=0.5335|STD=0.06185|Time spend=0.32806944847106934\n",
      "\tAROUSAL-s10-RASM|Acc=0.555|10-CV=0.44|STD=0.1074|Time spend=0.39910316467285156\n",
      "\tAROUSAL-s10-DCAU|Acc=0.65625|10-CV=0.5425|STD=0.05667|Time spend=0.4628944396972656\n",
      "-----WARNING: Model s11 failed to learn: sum(ans)=0.0 sum(y)=300.0 len(y)=800\n",
      "\tAROUSAL-s11-DASM|Acc=0.625|10-CV=0.6015|STD=0.06021|Time spend=0.32495570182800293\n",
      "\tAROUSAL-s11-RASM|Acc=0.62625|10-CV=0.63|STD=0.11|Time spend=0.38010144233703613\n",
      "-----WARNING: Model s11 failed to learn: sum(ans)=0.0 sum(y)=300.0 len(y)=800\n",
      "\tAROUSAL-s11-DCAU|Acc=0.625|10-CV=0.6|STD=0.06277|Time spend=0.44008374214172363\n",
      "-----WARNING: Model s12 failed to learn: sum(ans)=800.0 sum(y)=660.0 len(y)=800\n",
      "\tAROUSAL-s12-DASM|Acc=0.825|10-CV=0.83|STD=0.1005|Time spend=0.3202974796295166\n",
      "\tAROUSAL-s12-RASM|Acc=0.8275|10-CV=0.829|STD=0.09932|Time spend=0.3581724166870117\n",
      "-----WARNING: Model s12 failed to learn: sum(ans)=800.0 sum(y)=660.0 len(y)=800\n",
      "\tAROUSAL-s12-DCAU|Acc=0.825|10-CV=0.83|STD=0.1005|Time spend=0.4158656597137451\n",
      "-----WARNING: Model s13 failed to learn: sum(ans)=800.0 sum(y)=680.0 len(y)=800\n",
      "\tAROUSAL-s13-DASM|Acc=0.85|10-CV=0.84|STD=0.06633|Time spend=0.2983872890472412\n",
      "-----WARNING: Model s13 failed to learn: sum(ans)=800.0 sum(y)=680.0 len(y)=800\n",
      "\tAROUSAL-s13-RASM|Acc=0.85|10-CV=0.84|STD=0.06633|Time spend=0.33112406730651855\n",
      "-----WARNING: Model s13 failed to learn: sum(ans)=800.0 sum(y)=680.0 len(y)=800\n",
      "\tAROUSAL-s13-DCAU|Acc=0.85|10-CV=0.84|STD=0.06633|Time spend=0.3832743167877197\n",
      "-----WARNING: Model s14 failed to learn: sum(ans)=800.0 sum(y)=540.0 len(y)=800\n",
      "\tAROUSAL-s14-DASM|Acc=0.675|10-CV=0.65|STD=0.10247|Time spend=0.3196275234222412\n",
      "\tAROUSAL-s14-RASM|Acc=0.67625|10-CV=0.65|STD=0.10247|Time spend=0.37263917922973633\n",
      "-----WARNING: Model s14 failed to learn: sum(ans)=800.0 sum(y)=540.0 len(y)=800\n",
      "\tAROUSAL-s14-DCAU|Acc=0.675|10-CV=0.65|STD=0.10247|Time spend=0.4333231449127197\n",
      "\tAROUSAL-s15-DASM|Acc=0.6825|10-CV=0.538|STD=0.06889|Time spend=0.33612656593322754\n",
      "\tAROUSAL-s15-RASM|Acc=0.54375|10-CV=0.4085|STD=0.08322|Time spend=0.3988659381866455\n",
      "\tAROUSAL-s15-DCAU|Acc=0.68125|10-CV=0.548|STD=0.08106|Time spend=0.45359301567077637\n",
      "\tAROUSAL-s16-DASM|Acc=0.6575|10-CV=0.483|STD=0.11376|Time spend=0.333453893661499\n",
      "\tAROUSAL-s16-RASM|Acc=0.51875|10-CV=0.3475|STD=0.09352|Time spend=0.3969593048095703\n",
      "\tAROUSAL-s16-DCAU|Acc=0.62|10-CV=0.4575|STD=0.10717|Time spend=0.45425844192504883\n",
      "\tAROUSAL-s17-DASM|Acc=0.69|10-CV=0.6085|STD=0.07874|Time spend=0.2997922897338867\n",
      "\tAROUSAL-s17-RASM|Acc=0.60125|10-CV=0.5595|STD=0.09145|Time spend=0.3572885990142822\n",
      "\tAROUSAL-s17-DCAU|Acc=0.66625|10-CV=0.563|STD=0.0795|Time spend=0.40950918197631836\n",
      "\tAROUSAL-s18-DASM|Acc=0.63875|10-CV=0.554|STD=0.10129|Time spend=0.3096146583557129\n",
      "\tAROUSAL-s18-RASM|Acc=0.62625|10-CV=0.595|STD=0.13631|Time spend=0.3684713840484619\n",
      "-----WARNING: Model s18 failed to learn: sum(ans)=800.0 sum(y)=500.0 len(y)=800\n",
      "\tAROUSAL-s18-DCAU|Acc=0.625|10-CV=0.558|STD=0.10015|Time spend=0.42812490463256836\n",
      "\tAROUSAL-s19-DASM|Acc=0.685|10-CV=0.6295|STD=0.13354|Time spend=0.3166694641113281\n",
      "-----WARNING: Model s19 failed to learn: sum(ans)=800.0 sum(y)=540.0 len(y)=800\n",
      "\tAROUSAL-s19-RASM|Acc=0.675|10-CV=0.6295|STD=0.13391|Time spend=0.3782336711883545\n",
      "\tAROUSAL-s19-DCAU|Acc=0.69125|10-CV=0.6275|STD=0.13108|Time spend=0.4349985122680664\n",
      "-----WARNING: Model s20 failed to learn: sum(ans)=800.0 sum(y)=620.0 len(y)=800\n",
      "\tAROUSAL-s20-DASM|Acc=0.775|10-CV=0.82|STD=0.08718|Time spend=0.31765055656433105\n",
      "-----WARNING: Model s20 failed to learn: sum(ans)=800.0 sum(y)=620.0 len(y)=800\n",
      "\tAROUSAL-s20-RASM|Acc=0.775|10-CV=0.8195|STD=0.08615|Time spend=0.3584737777709961\n",
      "-----WARNING: Model s20 failed to learn: sum(ans)=800.0 sum(y)=620.0 len(y)=800\n",
      "\tAROUSAL-s20-DCAU|Acc=0.775|10-CV=0.82|STD=0.08718|Time spend=0.4178352355957031\n",
      "-----WARNING: Model s21 failed to learn: sum(ans)=800.0 sum(y)=640.0 len(y)=800\n",
      "\tAROUSAL-s21-DASM|Acc=0.8|10-CV=0.8|STD=0.1|Time spend=0.30628085136413574\n",
      "\tAROUSAL-s21-RASM|Acc=0.80125|10-CV=0.8|STD=0.1|Time spend=0.35434627532958984\n",
      "-----WARNING: Model s21 failed to learn: sum(ans)=800.0 sum(y)=640.0 len(y)=800\n",
      "\tAROUSAL-s21-DCAU|Acc=0.8|10-CV=0.8|STD=0.1|Time spend=0.411541223526001\n",
      "\tAROUSAL-s22-DASM|Acc=0.60625|10-CV=0.5845|STD=0.06639|Time spend=0.3334794044494629\n",
      "\tAROUSAL-s22-RASM|Acc=0.60125|10-CV=0.61|STD=0.07|Time spend=0.3934354782104492\n",
      "-----WARNING: Model s22 failed to learn: sum(ans)=800.0 sum(y)=480.0 len(y)=800\n",
      "\tAROUSAL-s22-DCAU|Acc=0.6|10-CV=0.5835|STD=0.06257|Time spend=0.46519923210144043\n",
      "-----WARNING: Model s23 failed to learn: sum(ans)=0.0 sum(y)=200.0 len(y)=800\n",
      "\tAROUSAL-s23-DASM|Acc=0.75|10-CV=0.78|STD=0.09798|Time spend=0.33762574195861816\n",
      "\tAROUSAL-s23-RASM|Acc=0.75375|10-CV=0.78|STD=0.09752|Time spend=0.39018821716308594\n",
      "-----WARNING: Model s23 failed to learn: sum(ans)=0.0 sum(y)=200.0 len(y)=800\n",
      "\tAROUSAL-s23-DCAU|Acc=0.75|10-CV=0.78|STD=0.09798|Time spend=0.4428224563598633\n",
      "-----WARNING: Model s24 failed to learn: sum(ans)=800.0 sum(y)=660.0 len(y)=800\n",
      "\tAROUSAL-s24-DASM|Acc=0.825|10-CV=0.82|STD=0.07483|Time spend=0.3308861255645752\n",
      "\tAROUSAL-s24-RASM|Acc=0.82625|10-CV=0.82|STD=0.07483|Time spend=0.3779296875\n",
      "-----WARNING: Model s24 failed to learn: sum(ans)=800.0 sum(y)=660.0 len(y)=800\n",
      "\tAROUSAL-s24-DCAU|Acc=0.825|10-CV=0.82|STD=0.07483|Time spend=0.43596625328063965\n",
      "-----WARNING: Model s25 failed to learn: sum(ans)=800.0 sum(y)=580.0 len(y)=800\n",
      "\tAROUSAL-s25-DASM|Acc=0.725|10-CV=0.7375|STD=0.12311|Time spend=0.3463752269744873\n",
      "\tAROUSAL-s25-RASM|Acc=0.72875|10-CV=0.741|STD=0.12659|Time spend=0.39762020111083984\n",
      "-----WARNING: Model s25 failed to learn: sum(ans)=800.0 sum(y)=580.0 len(y)=800\n",
      "\tAROUSAL-s25-DCAU|Acc=0.725|10-CV=0.7355|STD=0.11934|Time spend=0.45288586616516113\n",
      "\tAROUSAL-s26-DASM|Acc=0.63125|10-CV=0.5615|STD=0.12235|Time spend=0.3131732940673828\n",
      "\tAROUSAL-s26-RASM|Acc=0.5825|10-CV=0.5225|STD=0.1675|Time spend=0.3759467601776123\n",
      "\tAROUSAL-s26-DCAU|Acc=0.64125|10-CV=0.5325|STD=0.11281|Time spend=0.4318404197692871\n",
      "\tAROUSAL-s27-DASM|Acc=0.68375|10-CV=0.646|STD=0.10674|Time spend=0.29106926918029785\n",
      "\tAROUSAL-s27-RASM|Acc=0.68375|10-CV=0.647|STD=0.10923|Time spend=0.34741973876953125\n",
      "-----WARNING: Model s27 failed to learn: sum(ans)=800.0 sum(y)=540.0 len(y)=800\n",
      "\tAROUSAL-s27-DCAU|Acc=0.675|10-CV=0.6505|STD=0.11248|Time spend=0.4050886631011963\n",
      "\tAROUSAL-s28-DASM|Acc=0.57625|10-CV=0.456|STD=0.13013|Time spend=0.30965733528137207\n",
      "\tAROUSAL-s28-RASM|Acc=0.55625|10-CV=0.406|STD=0.14239|Time spend=0.37386012077331543\n",
      "\tAROUSAL-s28-DCAU|Acc=0.55875|10-CV=0.4645|STD=0.13378|Time spend=0.43342089653015137\n",
      "\tAROUSAL-s29-DASM|Acc=0.64625|10-CV=0.53|STD=0.08798|Time spend=0.30986666679382324\n",
      "\tAROUSAL-s29-RASM|Acc=0.63625|10-CV=0.5315|STD=0.08956|Time spend=0.3764340877532959\n",
      "\tAROUSAL-s29-DCAU|Acc=0.63125|10-CV=0.531|STD=0.09024|Time spend=0.4360659122467041\n",
      "\tAROUSAL-s30-DASM|Acc=0.6|10-CV=0.44|STD=0.06538|Time spend=0.35468292236328125\n",
      "\tAROUSAL-s30-RASM|Acc=0.53|10-CV=0.4385|STD=0.11014|Time spend=0.42451000213623047\n",
      "\tAROUSAL-s30-DCAU|Acc=0.6175|10-CV=0.454|STD=0.07486|Time spend=0.4901540279388428\n",
      "\tAROUSAL-s31-DASM|Acc=0.65625|10-CV=0.556|STD=0.12647|Time spend=0.3819711208343506\n",
      "\tAROUSAL-s31-RASM|Acc=0.535|10-CV=0.465|STD=0.13012|Time spend=0.44866085052490234\n",
      "\tAROUSAL-s31-DCAU|Acc=0.6425|10-CV=0.5415|STD=0.12186|Time spend=0.5063714981079102\n",
      "-----WARNING: Model s32 failed to learn: sum(ans)=800.0 sum(y)=540.0 len(y)=800\n",
      "\tAROUSAL-s32-DASM|Acc=0.675|10-CV=0.749|STD=0.13494|Time spend=0.3214449882507324\n",
      "\tAROUSAL-s32-RASM|Acc=0.67875|10-CV=0.737|STD=0.13056|Time spend=0.3814418315887451\n",
      "-----WARNING: Model s32 failed to learn: sum(ans)=800.0 sum(y)=540.0 len(y)=800\n",
      "\tAROUSAL-s32-DCAU|Acc=0.675|10-CV=0.7285|STD=0.1244|Time spend=0.43921518325805664\n",
      "AROUSAL-DASM|Acc=0.6785546875000003|10-CV=0.6109375000000001|STD=0.10043479938621871\n",
      "AROUSAL-RASM|Acc=0.6477343750000001|10-CV=0.5989687499999999|STD=0.1183151252456487\n",
      "AROUSAL-DCAU|Acc=0.6753125000000001|10-CV=0.60821875|STD=0.10065838263997536\n",
      "\tVALENCE-s01-DASM|Acc=0.58875|10-CV=0.4455|STD=0.0722|Time spend=0.31847262382507324\n",
      "\tVALENCE-s01-RASM|Acc=0.5325|10-CV=0.4235|STD=0.08161|Time spend=0.3814389705657959\n",
      "\tVALENCE-s01-DCAU|Acc=0.5775|10-CV=0.4465|STD=0.06989|Time spend=0.44125986099243164\n",
      "\tVALENCE-s02-DASM|Acc=0.69625|10-CV=0.566|STD=0.10195|Time spend=0.3159215450286865\n",
      "\tVALENCE-s02-RASM|Acc=0.56375|10-CV=0.4985|STD=0.131|Time spend=0.3793449401855469\n",
      "\tVALENCE-s02-DCAU|Acc=0.71125|10-CV=0.6295|STD=0.10111|Time spend=0.43170595169067383\n",
      "\tVALENCE-s03-DASM|Acc=0.625|10-CV=0.461|STD=0.13678|Time spend=0.3157320022583008\n",
      "\tVALENCE-s03-RASM|Acc=0.56125|10-CV=0.385|STD=0.12428|Time spend=0.3783280849456787\n",
      "\tVALENCE-s03-DCAU|Acc=0.59|10-CV=0.4495|STD=0.12604|Time spend=0.44026613235473633\n",
      "\tVALENCE-s04-DASM|Acc=0.66|10-CV=0.525|STD=0.09742|Time spend=0.2980201244354248\n",
      "\tVALENCE-s04-RASM|Acc=0.6025|10-CV=0.489|STD=0.1865|Time spend=0.3606235980987549\n",
      "\tVALENCE-s04-DCAU|Acc=0.65125|10-CV=0.527|STD=0.09185|Time spend=0.4413282871246338\n",
      "\tVALENCE-s05-DASM|Acc=0.61|10-CV=0.5565|STD=0.07603|Time spend=0.3680698871612549\n",
      "\tVALENCE-s05-RASM|Acc=0.6075|10-CV=0.614|STD=0.11151|Time spend=0.45366978645324707\n",
      "\tVALENCE-s05-DCAU|Acc=0.63|10-CV=0.565|STD=0.09479|Time spend=0.5147476196289062\n",
      "-----WARNING: Model s06 failed to learn: sum(ans)=800.0 sum(y)=600.0 len(y)=800\n",
      "\tVALENCE-s06-DASM|Acc=0.75|10-CV=0.72|STD=0.07483|Time spend=0.3396580219268799\n",
      "\tVALENCE-s06-RASM|Acc=0.75125|10-CV=0.72|STD=0.07483|Time spend=0.38853883743286133\n",
      "-----WARNING: Model s06 failed to learn: sum(ans)=800.0 sum(y)=600.0 len(y)=800\n",
      "\tVALENCE-s06-DCAU|Acc=0.75|10-CV=0.72|STD=0.07483|Time spend=0.46442317962646484\n",
      "-----WARNING: Model s07 failed to learn: sum(ans)=800.0 sum(y)=560.0 len(y)=800\n",
      "\tVALENCE-s07-DASM|Acc=0.7|10-CV=0.69|STD=0.13748|Time spend=0.32769250869750977\n",
      "\tVALENCE-s07-RASM|Acc=0.7025|10-CV=0.6885|STD=0.13775|Time spend=0.3833930492401123\n",
      "-----WARNING: Model s07 failed to learn: sum(ans)=800.0 sum(y)=560.0 len(y)=800\n",
      "\tVALENCE-s07-DCAU|Acc=0.7|10-CV=0.69|STD=0.13748|Time spend=0.4490926265716553\n",
      "\tVALENCE-s08-DASM|Acc=0.645|10-CV=0.508|STD=0.09464|Time spend=0.329927921295166\n",
      "\tVALENCE-s08-RASM|Acc=0.55125|10-CV=0.528|STD=0.1332|Time spend=0.3916893005371094\n",
      "\tVALENCE-s08-DCAU|Acc=0.63|10-CV=0.4725|STD=0.08103|Time spend=0.45012927055358887\n",
      "\tVALENCE-s09-DASM|Acc=0.705|10-CV=0.6045|STD=0.10666|Time spend=0.31176137924194336\n",
      "\tVALENCE-s09-RASM|Acc=0.625|10-CV=0.426|STD=0.15811|Time spend=0.37638235092163086\n",
      "\tVALENCE-s09-DCAU|Acc=0.7|10-CV=0.598|STD=0.08397|Time spend=0.42967844009399414\n",
      "\tVALENCE-s10-DASM|Acc=0.7675|10-CV=0.6615|STD=0.10637|Time spend=0.30206942558288574\n",
      "\tVALENCE-s10-RASM|Acc=0.52875|10-CV=0.3395|STD=0.10939|Time spend=0.36516737937927246\n",
      "\tVALENCE-s10-DCAU|Acc=0.75875|10-CV=0.6785|STD=0.07527|Time spend=0.4145677089691162\n",
      "-----WARNING: Model s11 failed to learn: sum(ans)=800.0 sum(y)=480.0 len(y)=800\n",
      "\tVALENCE-s11-DASM|Acc=0.6|10-CV=0.533|STD=0.14313|Time spend=0.3248305320739746\n",
      "\tVALENCE-s11-RASM|Acc=0.60125|10-CV=0.5585|STD=0.16733|Time spend=0.38690710067749023\n",
      "\tVALENCE-s11-DCAU|Acc=0.60125|10-CV=0.5255|STD=0.13935|Time spend=0.4450814723968506\n",
      "\tVALENCE-s12-DASM|Acc=0.63625|10-CV=0.4825|STD=0.13117|Time spend=0.3476271629333496\n",
      "\tVALENCE-s12-RASM|Acc=0.5325|10-CV=0.428|STD=0.13033|Time spend=0.4115149974822998\n",
      "\tVALENCE-s12-DCAU|Acc=0.59375|10-CV=0.458|STD=0.14668|Time spend=0.47141456604003906\n",
      "\tVALENCE-s13-DASM|Acc=0.7075|10-CV=0.6395|STD=0.10348|Time spend=0.3183729648590088\n",
      "\tVALENCE-s13-RASM|Acc=0.5775|10-CV=0.5295|STD=0.18982|Time spend=0.377150297164917\n",
      "\tVALENCE-s13-DCAU|Acc=0.71625|10-CV=0.671|STD=0.11088|Time spend=0.426680326461792\n",
      "\tVALENCE-s14-DASM|Acc=0.65875|10-CV=0.5615|STD=0.065|Time spend=0.31608128547668457\n",
      "\tVALENCE-s14-RASM|Acc=0.50125|10-CV=0.359|STD=0.06576|Time spend=0.3798332214355469\n",
      "\tVALENCE-s14-DCAU|Acc=0.67625|10-CV=0.584|STD=0.06902|Time spend=0.4355144500732422\n",
      "\tVALENCE-s15-DASM|Acc=0.76875|10-CV=0.6985|STD=0.03702|Time spend=0.3023993968963623\n",
      "\tVALENCE-s15-RASM|Acc=0.575|10-CV=0.386|STD=0.07324|Time spend=0.36475515365600586\n",
      "\tVALENCE-s15-DCAU|Acc=0.76375|10-CV=0.7|STD=0.05324|Time spend=0.4127640724182129\n",
      "\tVALENCE-s16-DASM|Acc=0.70125|10-CV=0.6365|STD=0.07896|Time spend=0.3103470802307129\n",
      "\tVALENCE-s16-RASM|Acc=0.62625|10-CV=0.6395|STD=0.1017|Time spend=0.36992764472961426\n",
      "\tVALENCE-s16-DCAU|Acc=0.70125|10-CV=0.6455|STD=0.08542|Time spend=0.4226348400115967\n",
      "\tVALENCE-s17-DASM|Acc=0.57|10-CV=0.413|STD=0.11007|Time spend=0.3268899917602539\n",
      "\tVALENCE-s17-RASM|Acc=0.55125|10-CV=0.4675|STD=0.16427|Time spend=0.3857884407043457\n",
      "\tVALENCE-s17-DCAU|Acc=0.5525|10-CV=0.401|STD=0.10389|Time spend=0.4439082145690918\n",
      "\tVALENCE-s18-DASM|Acc=0.76625|10-CV=0.659|STD=0.08467|Time spend=0.30712008476257324\n",
      "\tVALENCE-s18-RASM|Acc=0.6075|10-CV=0.57|STD=0.16556|Time spend=0.3632326126098633\n",
      "\tVALENCE-s18-DCAU|Acc=0.76|10-CV=0.6665|STD=0.07011|Time spend=0.409132719039917\n",
      "\tVALENCE-s19-DASM|Acc=0.63875|10-CV=0.4405|STD=0.11605|Time spend=0.3060128688812256\n",
      "\tVALENCE-s19-RASM|Acc=0.57875|10-CV=0.441|STD=0.18591|Time spend=0.36850595474243164\n",
      "\tVALENCE-s19-DCAU|Acc=0.635|10-CV=0.456|STD=0.13236|Time spend=0.425884485244751\n",
      "\tVALENCE-s20-DASM|Acc=0.69|10-CV=0.5285|STD=0.14447|Time spend=0.3163869380950928\n",
      "\tVALENCE-s20-RASM|Acc=0.57625|10-CV=0.4505|STD=0.18538|Time spend=0.37531208992004395\n",
      "\tVALENCE-s20-DCAU|Acc=0.675|10-CV=0.494|STD=0.14305|Time spend=0.4355332851409912\n",
      "\tVALENCE-s21-DASM|Acc=0.60375|10-CV=0.3975|STD=0.08082|Time spend=0.3204381465911865\n",
      "\tVALENCE-s21-RASM|Acc=0.5375|10-CV=0.3665|STD=0.08678|Time spend=0.3874175548553467\n",
      "\tVALENCE-s21-DCAU|Acc=0.6125|10-CV=0.4155|STD=0.08085|Time spend=0.4500579833984375\n",
      "\tVALENCE-s22-DASM|Acc=0.5775|10-CV=0.4745|STD=0.07692|Time spend=0.3186163902282715\n",
      "\tVALENCE-s22-RASM|Acc=0.5525|10-CV=0.5395|STD=0.11976|Time spend=0.37929368019104004\n",
      "\tVALENCE-s22-DCAU|Acc=0.57|10-CV=0.476|STD=0.08309|Time spend=0.4380314350128174\n",
      "-----WARNING: Model s23 failed to learn: sum(ans)=800.0 sum(y)=520.0 len(y)=800\n",
      "\tVALENCE-s23-DASM|Acc=0.65|10-CV=0.5755|STD=0.10795|Time spend=0.3137338161468506\n",
      "\tVALENCE-s23-RASM|Acc=0.65875|10-CV=0.605|STD=0.14541|Time spend=0.37241530418395996\n",
      "-----WARNING: Model s23 failed to learn: sum(ans)=800.0 sum(y)=520.0 len(y)=800\n",
      "\tVALENCE-s23-DCAU|Acc=0.65|10-CV=0.599|STD=0.1327|Time spend=0.43314313888549805\n",
      "\tVALENCE-s24-DASM|Acc=0.59125|10-CV=0.457|STD=0.15429|Time spend=0.3171579837799072\n",
      "-----WARNING: Model s24 failed to learn: sum(ans)=0.0 sum(y)=360.0 len(y)=800\n",
      "\tVALENCE-s24-RASM|Acc=0.55|10-CV=0.4345|STD=0.17399|Time spend=0.38039398193359375\n",
      "\tVALENCE-s24-DCAU|Acc=0.625|10-CV=0.4905|STD=0.11695|Time spend=0.4365990161895752\n",
      "\tVALENCE-s25-DASM|Acc=0.56375|10-CV=0.3725|STD=0.09545|Time spend=0.33953213691711426\n",
      "\tVALENCE-s25-RASM|Acc=0.54|10-CV=0.384|STD=0.12726|Time spend=0.40751028060913086\n",
      "\tVALENCE-s25-DCAU|Acc=0.5525|10-CV=0.3665|STD=0.09463|Time spend=0.46875\n",
      "-----WARNING: Model s26 failed to learn: sum(ans)=800.0 sum(y)=520.0 len(y)=800\n",
      "\tVALENCE-s26-DASM|Acc=0.65|10-CV=0.6065|STD=0.1245|Time spend=0.31601834297180176\n",
      "\tVALENCE-s26-RASM|Acc=0.6575|10-CV=0.618|STD=0.13857|Time spend=0.3747982978820801\n",
      "\tVALENCE-s26-DCAU|Acc=0.65125|10-CV=0.601|STD=0.12169|Time spend=0.43142151832580566\n",
      "-----WARNING: Model s27 failed to learn: sum(ans)=800.0 sum(y)=600.0 len(y)=800\n",
      "\tVALENCE-s27-DASM|Acc=0.75|10-CV=0.67|STD=0.12689|Time spend=0.3181619644165039\n",
      "\tVALENCE-s27-RASM|Acc=0.75125|10-CV=0.6685|STD=0.12616|Time spend=0.37362146377563477\n",
      "-----WARNING: Model s27 failed to learn: sum(ans)=800.0 sum(y)=600.0 len(y)=800\n",
      "\tVALENCE-s27-DCAU|Acc=0.75|10-CV=0.67|STD=0.12689|Time spend=0.42827653884887695\n",
      "-----WARNING: Model s28 failed to learn: sum(ans)=800.0 sum(y)=500.0 len(y)=800\n",
      "\tVALENCE-s28-DASM|Acc=0.625|10-CV=0.5685|STD=0.14706|Time spend=0.3109877109527588\n",
      "\tVALENCE-s28-RASM|Acc=0.6375|10-CV=0.611|STD=0.18683|Time spend=0.36872291564941406\n",
      "-----WARNING: Model s28 failed to learn: sum(ans)=800.0 sum(y)=500.0 len(y)=800\n",
      "\tVALENCE-s28-DCAU|Acc=0.625|10-CV=0.5725|STD=0.15059|Time spend=0.4307441711425781\n",
      "\tVALENCE-s29-DASM|Acc=0.64875|10-CV=0.5155|STD=0.07475|Time spend=0.33501362800598145\n",
      "\tVALENCE-s29-RASM|Acc=0.58125|10-CV=0.556|STD=0.11445|Time spend=0.4011356830596924\n",
      "\tVALENCE-s29-DCAU|Acc=0.6725|10-CV=0.5005|STD=0.06872|Time spend=0.45963168144226074\n",
      "-----WARNING: Model s30 failed to learn: sum(ans)=800.0 sum(y)=540.0 len(y)=800\n",
      "\tVALENCE-s30-DASM|Acc=0.675|10-CV=0.62|STD=0.14697|Time spend=0.32545995712280273\n",
      "\tVALENCE-s30-RASM|Acc=0.6775|10-CV=0.62|STD=0.14697|Time spend=0.3777334690093994\n",
      "-----WARNING: Model s30 failed to learn: sum(ans)=800.0 sum(y)=540.0 len(y)=800\n",
      "\tVALENCE-s30-DCAU|Acc=0.675|10-CV=0.62|STD=0.14697|Time spend=0.4403200149536133\n",
      "\tVALENCE-s31-DASM|Acc=0.625|10-CV=0.48|STD=0.09571|Time spend=0.3154125213623047\n",
      "\tVALENCE-s31-RASM|Acc=0.58375|10-CV=0.4955|STD=0.17879|Time spend=0.37847471237182617\n",
      "\tVALENCE-s31-DCAU|Acc=0.5725|10-CV=0.4615|STD=0.08755|Time spend=0.4376249313354492\n",
      "\tVALENCE-s32-DASM|Acc=0.59875|10-CV=0.475|STD=0.14117|Time spend=0.32006359100341797\n",
      "\tVALENCE-s32-RASM|Acc=0.51875|10-CV=0.377|STD=0.13755|Time spend=0.38255882263183594\n",
      "\tVALENCE-s32-DCAU|Acc=0.6175|10-CV=0.4695|STD=0.12858|Time spend=0.43902063369750977\n",
      "VALENCE-DASM|Acc=0.6576171875|10-CV=0.5482187500000001|STD=0.10596384360461077\n",
      "VALENCE-RASM|Acc=0.5937499999999999|10-CV=0.5067812500000001|STD=0.13625015107166358\n",
      "VALENCE-DCAU|Acc=0.6546093750000002|10-CV=0.550640625|STD=0.10404627716978644\n",
      "TOTAL-DASM|Acc=0.6680859375|10-CV=0.579578125|STD=0.10319932149541475\n",
      "TOTAL-RASM|Acc=0.6207421874999999|10-CV=0.5528749999999999|STD=0.12728263815865618\n",
      "TOTAL-DCAU|Acc=0.6649609374999997|10-CV=0.5794296875|STD=0.10235232990488088\n"
     ]
    }
   ],
   "source": [
    "bands = [(0,4), (4,8), (8,12), (12,30), (30,64)]\n",
    "# [alias_feature_function]__[optional_param]\n",
    "params = dict({\n",
    "    'pow_freq_bands__log':True,\n",
    "    'pow_freq_bands__normalize':False,\n",
    "    'pow_freq_bands__freq_bands':bands\n",
    "})\n",
    "\n",
    "accs,cv_means,cv_stds  = {'DASM':[],'RASM':[],'DCAU':[]},{'DASM':[],'RASM':[],'DCAU':[]},{'DASM':[],'RASM':[],'DCAU':[]}\n",
    "# count = 0\n",
    "for filename in dataset.get_file_list():\n",
    "    start = time.time()\n",
    "    data, labels, groups = dataset.get_data(filename, stimuli=Dataset_subjectDependent.STIMULI_AROUSAL, return_type='numpy')\n",
    "    fe = FeatureExtractor(sfreq=128, selected_funcs=['pow_freq_bands'],params=params,n_jobs=8)\n",
    "    X = fe.fit_transform(X=data)\n",
    "\n",
    "    PSD_left = X[:, left_channel_indexes].copy()\n",
    "    PSD_right = X[:, right_channel_indexes].copy()\n",
    "    PSD_frontal = X[:, frontal_channel_indexes].copy()\n",
    "    PSD_posterior = X[:, posterior_channel_indexes].copy()\n",
    "    X = {\n",
    "        'DASM': PSD_left - PSD_right,\n",
    "        'RASM': PSD_left / PSD_right,\n",
    "        'DCAU': PSD_frontal - PSD_posterior,\n",
    "    }\n",
    "\n",
    "    for feature_name in ['DASM','RASM','DCAU']:\n",
    "        _, acc, cross = train_model(X[feature_name], labels.reshape(-1), groups, filename=filename)\n",
    "        print(f\"\\tAROUSAL-{filename}-{feature_name}|Acc={round(acc,5)}|10-CV={round(cross.mean(),5)}|STD={round(cross.std(),5)}|Time spend={time.time() - start}\")\n",
    "        accs[feature_name].append(acc)\n",
    "        cv_means[feature_name].append(cross.mean())\n",
    "        cv_stds[feature_name].append(cross.std())\n",
    "    # count+=1\n",
    "    # if(count == 3): break\n",
    "for feature_name in ['DASM','RASM','DCAU']:\n",
    "    print(f\"AROUSAL-{feature_name}|Acc={sum(accs[feature_name])/len(accs[feature_name])}|10-CV={sum(cv_means[feature_name])/len(cv_means[feature_name])}|STD={sum(cv_stds[feature_name])/len(cv_stds[feature_name])}\")\n",
    "\n",
    "accs_v,cv_means_v,cv_stds_v  = {'DASM':[],'RASM':[],'DCAU':[]},{'DASM':[],'RASM':[],'DCAU':[]},{'DASM':[],'RASM':[],'DCAU':[]}\n",
    "# count=0\n",
    "for filename in dataset.get_file_list():\n",
    "    start = time.time()\n",
    "    data, labels, groups = dataset.get_data(filename, stimuli=Dataset_subjectDependent.STIMULI_VALENCE, return_type='numpy')\n",
    "    fe = FeatureExtractor(sfreq=128, selected_funcs=['pow_freq_bands'],params=params,n_jobs=8)\n",
    "    X = fe.fit_transform(X=data)\n",
    "\n",
    "    PSD_left = X[:, left_channel_indexes].copy()\n",
    "    PSD_right = X[:, right_channel_indexes].copy()\n",
    "    PSD_frontal = X[:, frontal_channel_indexes].copy()\n",
    "    PSD_posterior = X[:, posterior_channel_indexes].copy()\n",
    "    X = {\n",
    "        'DASM': PSD_left - PSD_right,\n",
    "        'RASM': PSD_left / PSD_right,\n",
    "        'DCAU': PSD_frontal - PSD_posterior,\n",
    "    }\n",
    "\n",
    "    for feature_name in ['DASM','RASM','DCAU']:\n",
    "        _, acc, cross = train_model(X[feature_name], labels.reshape(-1), groups, filename=filename)\n",
    "        print(f\"\\tVALENCE-{filename}-{feature_name}|Acc={round(acc,5)}|10-CV={round(cross.mean(),5)}|STD={round(cross.std(),5)}|Time spend={time.time() - start}\")\n",
    "        accs_v[feature_name].append(acc)\n",
    "        cv_means_v[feature_name].append(cross.mean())\n",
    "        cv_stds_v[feature_name].append(cross.std())\n",
    "    # count+=1\n",
    "    # if(count == 3): break\n",
    "for feature_name in ['DASM','RASM','DCAU']:\n",
    "    print(f\"VALENCE-{feature_name}|Acc={sum(accs_v[feature_name])/len(accs_v[feature_name])}|10-CV={sum(cv_means_v[feature_name])/len(cv_means_v[feature_name])}|STD={sum(cv_stds_v[feature_name])/len(cv_stds_v[feature_name])}\")\n",
    "\n",
    "for feature_name in ['DASM','RASM','DCAU']:\n",
    "    accs[feature_name].extend(accs_v[feature_name])\n",
    "    cv_means[feature_name].extend(cv_means_v[feature_name])\n",
    "    cv_stds[feature_name].extend(cv_stds_v[feature_name])\n",
    "    print(f\"TOTAL-{feature_name}|Acc={sum(accs[feature_name])/len(accs[feature_name])}|10-CV={sum(cv_means[feature_name])/len(cv_means[feature_name])}|STD={sum(cv_stds[feature_name])/len(cv_stds[feature_name])}\")"
   ]
  },
  {
   "cell_type": "markdown",
   "metadata": {},
   "source": [
    "## 4. Connectivity\n",
    "\n",
    "### 4.1 $ \\text{PCC}_{\\text{time}}(i,j) = \\frac{\\text{Cov}[\\mathbf{X}_i, \\mathbf{X}_j]}{\\sigma_{\\mathbf{X}_i} \\sigma_{\\mathbf{X}_j}} $"
   ]
  },
  {
   "cell_type": "code",
   "execution_count": 7,
   "metadata": {},
   "outputs": [],
   "source": [
    "\n",
    "def pearson_correlation(x,y):\n",
    "    \"\"\" x,y denoted the signal_x and signal_y following the equation \"\"\"\n",
    "    cov = np.cov(x, y)\n",
    "    # print(cov)\n",
    "    # [[ 8806859.74527069  8007149.0906219 ] ==> [[cov_xx, cov_xy]\n",
    "    # [ 8007149.0906219  10396797.72458848]]      [cov_yx, cov_yy]]\n",
    "    cov_xy = cov[0,1] # or cov[1,0]\n",
    "    cov_xx = cov[0,0]\n",
    "    cov_yy = cov[1,1]\n",
    "    corr = cov_xy / ( cov_xx**0.5 * cov_yy**0.5  )\n",
    "    return corr\n",
    "\n",
    "def _cal(p_id, partial_data):\n",
    "    # print(f\"p_id:{p_id} - data to run {partial_data.shape}\")\n",
    "    from itertools import combinations\n",
    "    pcc = []\n",
    "    for index in range(partial_data.shape[0]):\n",
    "        pcc_epoch = []\n",
    "        for comb in combinations(list(range(partial_data.shape[1])), 2):\n",
    "            pcc_ab = pearson_correlation(partial_data[index, comb[0], :], partial_data[index, comb[1], :]   )\n",
    "            pcc_epoch.append(pcc_ab)\n",
    "        pcc_epoch = np.hstack(pcc_epoch)\n",
    "        pcc.append(pcc_epoch)\n",
    "    pcc = np.vstack(pcc)\n",
    "    return pcc\n",
    "\n",
    "def calculate_pcc(data, n_jobs=8):\n",
    "    \"\"\" \n",
    "    Input: Expect data to have (n_epochs, n_channels, n_samples)\n",
    "    Output: (n_epochs, n_conn ) => n_conn = n_channels!/(2!(n_channels-2)!)\n",
    "    \"\"\"\n",
    "    from multiprocessing import Pool\n",
    "\n",
    "    try:\n",
    "        t_out = 60000\n",
    "        pool = Pool()\n",
    "        p_list = []\n",
    "        ans_list = []\n",
    "        num_p = n_jobs\n",
    "        indices = np.array_split(np.arange(data.shape[0]), num_p)\n",
    "        for p_id in range(num_p):\n",
    "            p_list.append(pool.apply_async(_cal, [p_id, data[indices[p_id]] ]))\n",
    "        for p_id in range(num_p):\n",
    "            ans_list.append( p_list[p_id].get(timeout=t_out) )\n",
    "        # ans_list\n",
    "    except Exception as e:\n",
    "        print(e)\n",
    "    finally:\n",
    "        print(\"========= close ========\")\n",
    "        pool.close() \n",
    "        pool.terminate()\n",
    "    return np.vstack(ans_list)"
   ]
  },
  {
   "cell_type": "code",
   "execution_count": 8,
   "metadata": {},
   "outputs": [
    {
     "data": {
      "application/vnd.jupyter.widget-view+json": {
       "model_id": "990f152b0ba345f9942aac9b9193b151",
       "version_major": 2,
       "version_minor": 0
      },
      "text/plain": [
       "  0%|          | 0/32 [00:00<?, ?it/s]"
      ]
     },
     "metadata": {},
     "output_type": "display_data"
    },
    {
     "name": "stdout",
     "output_type": "stream",
     "text": [
      "Fitted sphere radius:         95.3 mm\n",
      "Origin head coordinates:      -0.8 15.1 45.3 mm\n",
      "Origin device coordinates:    -0.8 15.1 45.3 mm\n",
      "========= close ========\n",
      "\tAROUSAL-s01|Acc=0.70125|10-CV=0.54|STD=0.13813|Time spend=3.5034666061401367\n",
      "\tVALENCE-s01|Acc=0.66375|10-CV=0.455|STD=0.07406|Time spend=4.004952669143677\n",
      "Fitted sphere radius:         95.3 mm\n",
      "Origin head coordinates:      -0.8 15.1 45.3 mm\n",
      "Origin device coordinates:    -0.8 15.1 45.3 mm\n",
      "========= close ========\n",
      "\tAROUSAL-s02|Acc=0.61875|10-CV=0.5485|STD=0.1006|Time spend=3.373429536819458\n",
      "\tVALENCE-s02|Acc=0.57625|10-CV=0.436|STD=0.07854|Time spend=3.877535104751587\n",
      "Fitted sphere radius:         95.3 mm\n",
      "Origin head coordinates:      -0.8 15.1 45.3 mm\n",
      "Origin device coordinates:    -0.8 15.1 45.3 mm\n",
      "========= close ========\n",
      "\tAROUSAL-s03|Acc=0.8|10-CV=0.73|STD=0.15524|Time spend=3.205967426300049\n",
      "\tVALENCE-s03|Acc=0.55|10-CV=0.4295|STD=0.11641|Time spend=3.7343554496765137\n",
      "Fitted sphere radius:         95.3 mm\n",
      "Origin head coordinates:      -0.8 15.1 45.3 mm\n",
      "Origin device coordinates:    -0.8 15.1 45.3 mm\n",
      "========= close ========\n",
      "\tAROUSAL-s04|Acc=0.6|10-CV=0.54|STD=0.22|Time spend=3.5247349739074707\n",
      "\tVALENCE-s04|Acc=0.6|10-CV=0.49|STD=0.18682|Time spend=4.009503364562988\n",
      "Fitted sphere radius:         95.3 mm\n",
      "Origin head coordinates:      -0.8 15.1 45.3 mm\n",
      "Origin device coordinates:    -0.8 15.1 45.3 mm\n",
      "========= close ========\n",
      "\tAROUSAL-s05|Acc=0.55|10-CV=0.4185|STD=0.10457|Time spend=3.300363540649414\n",
      "\tVALENCE-s05|Acc=0.6|10-CV=0.5835|STD=0.08494|Time spend=3.7827248573303223\n",
      "Fitted sphere radius:         95.3 mm\n",
      "Origin head coordinates:      -0.8 15.1 45.3 mm\n",
      "Origin device coordinates:    -0.8 15.1 45.3 mm\n",
      "========= close ========\n",
      "\tAROUSAL-s06|Acc=0.6|10-CV=0.5085|STD=0.13155|Time spend=3.4556162357330322\n",
      "\tVALENCE-s06|Acc=0.75|10-CV=0.72|STD=0.07483|Time spend=3.860924243927002\n",
      "Fitted sphere radius:         95.3 mm\n",
      "Origin head coordinates:      -0.8 15.1 45.3 mm\n",
      "Origin device coordinates:    -0.8 15.1 45.3 mm\n",
      "========= close ========\n",
      "\tAROUSAL-s07|Acc=0.6725|10-CV=0.639|STD=0.10793|Time spend=3.311537265777588\n",
      "\tVALENCE-s07|Acc=0.70125|10-CV=0.6715|STD=0.12602|Time spend=3.719337224960327\n",
      "Fitted sphere radius:         95.3 mm\n",
      "Origin head coordinates:      -0.8 15.1 45.3 mm\n",
      "Origin device coordinates:    -0.8 15.1 45.3 mm\n",
      "========= close ========\n",
      "\tAROUSAL-s08|Acc=0.58875|10-CV=0.417|STD=0.10221|Time spend=3.6240899562835693\n",
      "\tVALENCE-s08|Acc=0.62625|10-CV=0.4955|STD=0.08023|Time spend=4.1840434074401855\n",
      "Fitted sphere radius:         95.3 mm\n",
      "Origin head coordinates:      -0.8 15.1 45.3 mm\n",
      "Origin device coordinates:    -0.8 15.1 45.3 mm\n",
      "========= close ========\n",
      "\tAROUSAL-s09|Acc=0.6|10-CV=0.54|STD=0.12|Time spend=3.2498629093170166\n",
      "\tVALENCE-s09|Acc=0.64375|10-CV=0.533|STD=0.17315|Time spend=3.7468655109405518\n",
      "Fitted sphere radius:         95.3 mm\n",
      "Origin head coordinates:      -0.8 15.1 45.3 mm\n",
      "Origin device coordinates:    -0.8 15.1 45.3 mm\n",
      "========= close ========\n",
      "\tAROUSAL-s10|Acc=0.6175|10-CV=0.488|STD=0.07246|Time spend=3.3473803997039795\n",
      "\tVALENCE-s10|Acc=0.78125|10-CV=0.655|STD=0.16433|Time spend=3.8221230506896973\n",
      "Fitted sphere radius:         95.3 mm\n",
      "Origin head coordinates:      -0.8 15.1 45.3 mm\n",
      "Origin device coordinates:    -0.8 15.1 45.3 mm\n",
      "========= close ========\n",
      "\tAROUSAL-s11|Acc=0.625|10-CV=0.5895|STD=0.07066|Time spend=3.097327947616577\n",
      "\tVALENCE-s11|Acc=0.605|10-CV=0.549|STD=0.1577|Time spend=3.5572450160980225\n",
      "Fitted sphere radius:         95.3 mm\n",
      "Origin head coordinates:      -0.8 15.1 45.3 mm\n",
      "Origin device coordinates:    -0.8 15.1 45.3 mm\n",
      "========= close ========\n",
      "\tAROUSAL-s12|Acc=0.825|10-CV=0.83|STD=0.1005|Time spend=2.9978885650634766\n",
      "\tVALENCE-s12|Acc=0.6275|10-CV=0.448|STD=0.13873|Time spend=3.529503107070923\n",
      "Fitted sphere radius:         95.3 mm\n",
      "Origin head coordinates:      -0.8 15.1 45.3 mm\n",
      "Origin device coordinates:    -0.8 15.1 45.3 mm\n",
      "========= close ========\n",
      "\tAROUSAL-s13|Acc=0.85|10-CV=0.84|STD=0.06633|Time spend=3.198202610015869\n",
      "\tVALENCE-s13|Acc=0.6625|10-CV=0.6085|STD=0.07018|Time spend=3.656061887741089\n",
      "Fitted sphere radius:         95.3 mm\n",
      "Origin head coordinates:      -0.8 15.1 45.3 mm\n",
      "Origin device coordinates:    -0.8 15.1 45.3 mm\n",
      "========= close ========\n",
      "\tAROUSAL-s14|Acc=0.675|10-CV=0.65|STD=0.10247|Time spend=3.6453797817230225\n",
      "\tVALENCE-s14|Acc=0.645|10-CV=0.4945|STD=0.11503|Time spend=4.1562700271606445\n",
      "Fitted sphere radius:         95.3 mm\n",
      "Origin head coordinates:      -0.8 15.1 45.3 mm\n",
      "Origin device coordinates:    -0.8 15.1 45.3 mm\n",
      "========= close ========\n",
      "\tAROUSAL-s15|Acc=0.62125|10-CV=0.4425|STD=0.10194|Time spend=3.2724640369415283\n",
      "\tVALENCE-s15|Acc=0.73875|10-CV=0.686|STD=0.08857|Time spend=3.8419415950775146\n",
      "Fitted sphere radius:         95.3 mm\n",
      "Origin head coordinates:      -0.8 15.1 45.3 mm\n",
      "Origin device coordinates:    -0.8 15.1 45.3 mm\n",
      "========= close ========\n",
      "\tAROUSAL-s16|Acc=0.65875|10-CV=0.4135|STD=0.13012|Time spend=4.6966025829315186\n",
      "\tVALENCE-s16|Acc=0.6975|10-CV=0.6435|STD=0.10796|Time spend=5.150944948196411\n",
      "Fitted sphere radius:         95.3 mm\n",
      "Origin head coordinates:      -0.8 15.1 45.3 mm\n",
      "Origin device coordinates:    -0.8 15.1 45.3 mm\n",
      "========= close ========\n",
      "\tAROUSAL-s17|Acc=0.60125|10-CV=0.551|STD=0.08015|Time spend=3.8906948566436768\n",
      "\tVALENCE-s17|Acc=0.55|10-CV=0.4155|STD=0.11942|Time spend=4.400174617767334\n",
      "Fitted sphere radius:         95.3 mm\n",
      "Origin head coordinates:      -0.8 15.1 45.3 mm\n",
      "Origin device coordinates:    -0.8 15.1 45.3 mm\n",
      "========= close ========\n",
      "\tAROUSAL-s18|Acc=0.625|10-CV=0.5605|STD=0.1017|Time spend=3.255460500717163\n",
      "\tVALENCE-s18|Acc=0.72875|10-CV=0.6145|STD=0.14079|Time spend=3.7232487201690674\n",
      "Fitted sphere radius:         95.3 mm\n",
      "Origin head coordinates:      -0.8 15.1 45.3 mm\n",
      "Origin device coordinates:    -0.8 15.1 45.3 mm\n",
      "========= close ========\n",
      "\tAROUSAL-s19|Acc=0.675|10-CV=0.6265|STD=0.12775|Time spend=3.2524895668029785\n",
      "\tVALENCE-s19|Acc=0.645|10-CV=0.4565|STD=0.13191|Time spend=3.723362684249878\n",
      "Fitted sphere radius:         95.3 mm\n",
      "Origin head coordinates:      -0.8 15.1 45.3 mm\n",
      "Origin device coordinates:    -0.8 15.1 45.3 mm\n",
      "========= close ========\n",
      "\tAROUSAL-s20|Acc=0.775|10-CV=0.82|STD=0.08718|Time spend=3.350958824157715\n",
      "\tVALENCE-s20|Acc=0.6675|10-CV=0.526|STD=0.14951|Time spend=3.8340909481048584\n",
      "Fitted sphere radius:         95.3 mm\n",
      "Origin head coordinates:      -0.8 15.1 45.3 mm\n",
      "Origin device coordinates:    -0.8 15.1 45.3 mm\n",
      "========= close ========\n",
      "\tAROUSAL-s21|Acc=0.8|10-CV=0.8|STD=0.1|Time spend=3.0763449668884277\n",
      "\tVALENCE-s21|Acc=0.525|10-CV=0.386|STD=0.08405|Time spend=3.6260387897491455\n",
      "Fitted sphere radius:         95.3 mm\n",
      "Origin head coordinates:      -0.8 15.1 45.3 mm\n",
      "Origin device coordinates:    -0.8 15.1 45.3 mm\n",
      "========= close ========\n",
      "\tAROUSAL-s22|Acc=0.6|10-CV=0.61|STD=0.07|Time spend=3.5869433879852295\n",
      "\tVALENCE-s22|Acc=0.61875|10-CV=0.574|STD=0.12357|Time spend=4.090526342391968\n",
      "Fitted sphere radius:         95.3 mm\n",
      "Origin head coordinates:      -0.8 15.1 45.3 mm\n",
      "Origin device coordinates:    -0.8 15.1 45.3 mm\n",
      "========= close ========\n",
      "\tAROUSAL-s23|Acc=0.75|10-CV=0.779|STD=0.09679|Time spend=2.964780569076538\n",
      "\tVALENCE-s23|Acc=0.65|10-CV=0.579|STD=0.1132|Time spend=3.4178643226623535\n",
      "Fitted sphere radius:         95.3 mm\n",
      "Origin head coordinates:      -0.8 15.1 45.3 mm\n",
      "Origin device coordinates:    -0.8 15.1 45.3 mm\n",
      "========= close ========\n",
      "\tAROUSAL-s24|Acc=0.825|10-CV=0.82|STD=0.07483|Time spend=3.21805477142334\n",
      "\tVALENCE-s24|Acc=0.58875|10-CV=0.4365|STD=0.19085|Time spend=3.7462613582611084\n",
      "Fitted sphere radius:         95.3 mm\n",
      "Origin head coordinates:      -0.8 15.1 45.3 mm\n",
      "Origin device coordinates:    -0.8 15.1 45.3 mm\n",
      "========= close ========\n",
      "\tAROUSAL-s25|Acc=0.725|10-CV=0.74|STD=0.12806|Time spend=3.279470920562744\n",
      "\tVALENCE-s25|Acc=0.5275|10-CV=0.371|STD=0.10195|Time spend=3.7936487197875977\n",
      "Fitted sphere radius:         95.3 mm\n",
      "Origin head coordinates:      -0.8 15.1 45.3 mm\n",
      "Origin device coordinates:    -0.8 15.1 45.3 mm\n",
      "========= close ========\n",
      "\tAROUSAL-s26|Acc=0.6225|10-CV=0.552|STD=0.11938|Time spend=3.320915699005127\n",
      "\tVALENCE-s26|Acc=0.65|10-CV=0.62|STD=0.14|Time spend=3.7981960773468018\n",
      "Fitted sphere radius:         95.3 mm\n",
      "Origin head coordinates:      -0.8 15.1 45.3 mm\n",
      "Origin device coordinates:    -0.8 15.1 45.3 mm\n",
      "========= close ========\n",
      "\tAROUSAL-s27|Acc=0.7025|10-CV=0.6415|STD=0.10318|Time spend=3.2473084926605225\n",
      "\tVALENCE-s27|Acc=0.75|10-CV=0.667|STD=0.12166|Time spend=3.622408866882324\n",
      "Fitted sphere radius:         95.3 mm\n",
      "Origin head coordinates:      -0.8 15.1 45.3 mm\n",
      "Origin device coordinates:    -0.8 15.1 45.3 mm\n",
      "========= close ========\n",
      "\tAROUSAL-s28|Acc=0.56125|10-CV=0.4405|STD=0.16333|Time spend=3.552626371383667\n",
      "\tVALENCE-s28|Acc=0.625|10-CV=0.564|STD=0.15096|Time spend=4.028118133544922\n",
      "Fitted sphere radius:         95.3 mm\n",
      "Origin head coordinates:      -0.8 15.1 45.3 mm\n",
      "Origin device coordinates:    -0.8 15.1 45.3 mm\n",
      "========= close ========\n",
      "\tAROUSAL-s29|Acc=0.625|10-CV=0.529|STD=0.08814|Time spend=3.4556987285614014\n",
      "\tVALENCE-s29|Acc=0.64875|10-CV=0.5515|STD=0.09479|Time spend=3.944868803024292\n",
      "Fitted sphere radius:         95.3 mm\n",
      "Origin head coordinates:      -0.8 15.1 45.3 mm\n",
      "Origin device coordinates:    -0.8 15.1 45.3 mm\n",
      "========= close ========\n",
      "\tAROUSAL-s30|Acc=0.5875|10-CV=0.461|STD=0.08233|Time spend=3.447774887084961\n",
      "\tVALENCE-s30|Acc=0.675|10-CV=0.62|STD=0.14697|Time spend=3.917757272720337\n",
      "Fitted sphere radius:         95.3 mm\n",
      "Origin head coordinates:      -0.8 15.1 45.3 mm\n",
      "Origin device coordinates:    -0.8 15.1 45.3 mm\n",
      "========= close ========\n",
      "\tAROUSAL-s31|Acc=0.66875|10-CV=0.564|STD=0.15233|Time spend=3.3798961639404297\n",
      "\tVALENCE-s31|Acc=0.60875|10-CV=0.4845|STD=0.10926|Time spend=3.854673147201538\n",
      "Fitted sphere radius:         95.3 mm\n",
      "Origin head coordinates:      -0.8 15.1 45.3 mm\n",
      "Origin device coordinates:    -0.8 15.1 45.3 mm\n",
      "========= close ========\n",
      "\tAROUSAL-s32|Acc=0.675|10-CV=0.75|STD=0.13601|Time spend=3.069606065750122\n",
      "\tVALENCE-s32|Acc=0.625|10-CV=0.528|STD=0.11961|Time spend=3.562260150909424\n",
      "AROUSAL|Acc=0.6694531250000001|10-CV=0.605625|STD=0.11049602429972974\n",
      "VALENCE|Acc=0.642265625|10-CV=0.540390625|STD=0.12112531772102926\n"
     ]
    }
   ],
   "source": [
    "accs, cv_means, cv_stds = [],[],[]\n",
    "accs_v, cv_means_v, cv_stds_v = [],[],[]\n",
    "reports = []\n",
    "for filename in (pbar := tqdm(dataset.get_file_list())):\n",
    "    start = time.time()\n",
    "    pbar.set_description(filename)\n",
    "    data, labels, groups = dataset.get_data(filename, stimuli=Dataset_subjectDependent.STIMULI_AROUSAL, return_type='mne', sfreq=128)\n",
    "    data_csd = mne.preprocessing.compute_current_source_density(data)\n",
    "    pcc = calculate_pcc(data_csd.get_data())\n",
    "    _,acc,cross,train_report = train_model(pcc, labels.squeeze(), groups, filename=filename, return_text=True)\n",
    "    report = f\"\\tAROUSAL-{filename}|Acc={round(acc,5)}|10-CV={round(cross.mean(),5)}|STD={round(cross.std(),5)}|Time spend={time.time() - start}\"\n",
    "    print(report)\n",
    "    reports.append(report)\n",
    "    reports.append(train_report)\n",
    "    accs.append(acc)\n",
    "    cv_means.append(cross.mean())\n",
    "    cv_stds.append(cross.std())\n",
    "\n",
    "    _, labels_v, groups_v = dataset.get_data(filename, stimuli=Dataset_subjectDependent.STIMULI_VALENCE, return_type='mne', sfreq=128)\n",
    "    _,acc,cross,train_report = train_model(pcc, labels_v.squeeze(), groups_v, filename=filename, return_text=True)\n",
    "    report = f\"\\tVALENCE-{filename}|Acc={round(acc,5)}|10-CV={round(cross.mean(),5)}|STD={round(cross.std(),5)}|Time spend={time.time() - start}\"\n",
    "    print(report)\n",
    "    reports.append(report)\n",
    "    reports.append(train_report)\n",
    "    accs_v.append(acc)\n",
    "    cv_means_v.append(cross.mean())\n",
    "    cv_stds_v.append(cross.std())\n",
    "    # break\n",
    "    # count+=1\n",
    "    # if(count == 5): break\n",
    "report = f\"AROUSAL|Acc={sum(accs)/len(accs)}|10-CV={sum(cv_means)/len(cv_means)}|STD={sum(cv_stds)/len(cv_stds)}\"\n",
    "print(report)\n",
    "reports.append(report)\n",
    "report = f\"VALENCE|Acc={sum(accs_v)/len(accs_v)}|10-CV={sum(cv_means_v)/len(cv_means_v)}|STD={sum(cv_stds_v)/len(cv_stds_v)}\"\n",
    "print(report)\n",
    "reports.append(report)"
   ]
  },
  {
   "cell_type": "code",
   "execution_count": 9,
   "metadata": {},
   "outputs": [
    {
     "name": "stdout",
     "output_type": "stream",
     "text": [
      "\tAROUSAL-s01|Acc=0.70125|10-CV=0.54|STD=0.13813|Time spend=3.5034666061401367\n",
      "\tVALENCE-s01|Acc=0.66375|10-CV=0.455|STD=0.07406|Time spend=4.004952669143677\n",
      "\tAROUSAL-s02|Acc=0.61875|10-CV=0.5485|STD=0.1006|Time spend=3.373429536819458\n",
      "\tVALENCE-s02|Acc=0.57625|10-CV=0.436|STD=0.07854|Time spend=3.877535104751587\n",
      "\tAROUSAL-s03|Acc=0.8|10-CV=0.73|STD=0.15524|Time spend=3.205967426300049\n",
      "-----WARNING: Model s03 failed to learn: sum(ans)=0.0 sum(y)=160.0 len(y)=800\n",
      "\tVALENCE-s03|Acc=0.55|10-CV=0.4295|STD=0.11641|Time spend=3.7343554496765137\n",
      "-----WARNING: Model s03 failed to learn: sum(ans)=800.0 sum(y)=440.0 len(y)=800\n",
      "\tAROUSAL-s04|Acc=0.6|10-CV=0.54|STD=0.22|Time spend=3.5247349739074707\n",
      "-----WARNING: Model s04 failed to learn: sum(ans)=0.0 sum(y)=320.0 len(y)=800\n",
      "\tVALENCE-s04|Acc=0.6|10-CV=0.49|STD=0.18682|Time spend=4.009503364562988\n",
      "-----WARNING: Model s04 failed to learn: sum(ans)=0.0 sum(y)=320.0 len(y)=800\n",
      "\tAROUSAL-s05|Acc=0.55|10-CV=0.4185|STD=0.10457|Time spend=3.300363540649414\n",
      "\tVALENCE-s05|Acc=0.6|10-CV=0.5835|STD=0.08494|Time spend=3.7827248573303223\n",
      "-----WARNING: Model s05 failed to learn: sum(ans)=800.0 sum(y)=480.0 len(y)=800\n",
      "\tAROUSAL-s06|Acc=0.6|10-CV=0.5085|STD=0.13155|Time spend=3.4556162357330322\n",
      "\tVALENCE-s06|Acc=0.75|10-CV=0.72|STD=0.07483|Time spend=3.860924243927002\n",
      "-----WARNING: Model s06 failed to learn: sum(ans)=800.0 sum(y)=600.0 len(y)=800\n",
      "\tAROUSAL-s07|Acc=0.6725|10-CV=0.639|STD=0.10793|Time spend=3.311537265777588\n",
      "\tVALENCE-s07|Acc=0.70125|10-CV=0.6715|STD=0.12602|Time spend=3.719337224960327\n",
      "\tAROUSAL-s08|Acc=0.58875|10-CV=0.417|STD=0.10221|Time spend=3.6240899562835693\n",
      "\tVALENCE-s08|Acc=0.62625|10-CV=0.4955|STD=0.08023|Time spend=4.1840434074401855\n",
      "\tAROUSAL-s09|Acc=0.6|10-CV=0.54|STD=0.12|Time spend=3.2498629093170166\n",
      "-----WARNING: Model s09 failed to learn: sum(ans)=800.0 sum(y)=480.0 len(y)=800\n",
      "\tVALENCE-s09|Acc=0.64375|10-CV=0.533|STD=0.17315|Time spend=3.7468655109405518\n",
      "\tAROUSAL-s10|Acc=0.6175|10-CV=0.488|STD=0.07246|Time spend=3.3473803997039795\n",
      "\tVALENCE-s10|Acc=0.78125|10-CV=0.655|STD=0.16433|Time spend=3.8221230506896973\n",
      "\tAROUSAL-s11|Acc=0.625|10-CV=0.5895|STD=0.07066|Time spend=3.097327947616577\n",
      "-----WARNING: Model s11 failed to learn: sum(ans)=0.0 sum(y)=300.0 len(y)=800\n",
      "\tVALENCE-s11|Acc=0.605|10-CV=0.549|STD=0.1577|Time spend=3.5572450160980225\n",
      "\tAROUSAL-s12|Acc=0.825|10-CV=0.83|STD=0.1005|Time spend=2.9978885650634766\n",
      "-----WARNING: Model s12 failed to learn: sum(ans)=800.0 sum(y)=660.0 len(y)=800\n",
      "\tVALENCE-s12|Acc=0.6275|10-CV=0.448|STD=0.13873|Time spend=3.529503107070923\n",
      "\tAROUSAL-s13|Acc=0.85|10-CV=0.84|STD=0.06633|Time spend=3.198202610015869\n",
      "-----WARNING: Model s13 failed to learn: sum(ans)=800.0 sum(y)=680.0 len(y)=800\n",
      "\tVALENCE-s13|Acc=0.6625|10-CV=0.6085|STD=0.07018|Time spend=3.656061887741089\n",
      "\tAROUSAL-s14|Acc=0.675|10-CV=0.65|STD=0.10247|Time spend=3.6453797817230225\n",
      "-----WARNING: Model s14 failed to learn: sum(ans)=800.0 sum(y)=540.0 len(y)=800\n",
      "\tVALENCE-s14|Acc=0.645|10-CV=0.4945|STD=0.11503|Time spend=4.1562700271606445\n",
      "\tAROUSAL-s15|Acc=0.62125|10-CV=0.4425|STD=0.10194|Time spend=3.2724640369415283\n",
      "\tVALENCE-s15|Acc=0.73875|10-CV=0.686|STD=0.08857|Time spend=3.8419415950775146\n",
      "\tAROUSAL-s16|Acc=0.65875|10-CV=0.4135|STD=0.13012|Time spend=4.6966025829315186\n",
      "\tVALENCE-s16|Acc=0.6975|10-CV=0.6435|STD=0.10796|Time spend=5.150944948196411\n",
      "\tAROUSAL-s17|Acc=0.60125|10-CV=0.551|STD=0.08015|Time spend=3.8906948566436768\n",
      "\tVALENCE-s17|Acc=0.55|10-CV=0.4155|STD=0.11942|Time spend=4.400174617767334\n",
      "-----WARNING: Model s17 failed to learn: sum(ans)=800.0 sum(y)=440.0 len(y)=800\n",
      "\tAROUSAL-s18|Acc=0.625|10-CV=0.5605|STD=0.1017|Time spend=3.255460500717163\n",
      "-----WARNING: Model s18 failed to learn: sum(ans)=800.0 sum(y)=500.0 len(y)=800\n",
      "\tVALENCE-s18|Acc=0.72875|10-CV=0.6145|STD=0.14079|Time spend=3.7232487201690674\n",
      "\tAROUSAL-s19|Acc=0.675|10-CV=0.6265|STD=0.12775|Time spend=3.2524895668029785\n",
      "-----WARNING: Model s19 failed to learn: sum(ans)=800.0 sum(y)=540.0 len(y)=800\n",
      "\tVALENCE-s19|Acc=0.645|10-CV=0.4565|STD=0.13191|Time spend=3.723362684249878\n",
      "\tAROUSAL-s20|Acc=0.775|10-CV=0.82|STD=0.08718|Time spend=3.350958824157715\n",
      "-----WARNING: Model s20 failed to learn: sum(ans)=800.0 sum(y)=620.0 len(y)=800\n",
      "\tVALENCE-s20|Acc=0.6675|10-CV=0.526|STD=0.14951|Time spend=3.8340909481048584\n",
      "\tAROUSAL-s21|Acc=0.8|10-CV=0.8|STD=0.1|Time spend=3.0763449668884277\n",
      "-----WARNING: Model s21 failed to learn: sum(ans)=800.0 sum(y)=640.0 len(y)=800\n",
      "\tVALENCE-s21|Acc=0.525|10-CV=0.386|STD=0.08405|Time spend=3.6260387897491455\n",
      "-----WARNING: Model s21 failed to learn: sum(ans)=800.0 sum(y)=420.0 len(y)=800\n",
      "\tAROUSAL-s22|Acc=0.6|10-CV=0.61|STD=0.07|Time spend=3.5869433879852295\n",
      "-----WARNING: Model s22 failed to learn: sum(ans)=800.0 sum(y)=480.0 len(y)=800\n",
      "\tVALENCE-s22|Acc=0.61875|10-CV=0.574|STD=0.12357|Time spend=4.090526342391968\n",
      "\tAROUSAL-s23|Acc=0.75|10-CV=0.779|STD=0.09679|Time spend=2.964780569076538\n",
      "-----WARNING: Model s23 failed to learn: sum(ans)=0.0 sum(y)=200.0 len(y)=800\n",
      "\tVALENCE-s23|Acc=0.65|10-CV=0.579|STD=0.1132|Time spend=3.4178643226623535\n",
      "\tAROUSAL-s24|Acc=0.825|10-CV=0.82|STD=0.07483|Time spend=3.21805477142334\n",
      "-----WARNING: Model s24 failed to learn: sum(ans)=800.0 sum(y)=660.0 len(y)=800\n",
      "\tVALENCE-s24|Acc=0.58875|10-CV=0.4365|STD=0.19085|Time spend=3.7462613582611084\n",
      "\tAROUSAL-s25|Acc=0.725|10-CV=0.74|STD=0.12806|Time spend=3.279470920562744\n",
      "-----WARNING: Model s25 failed to learn: sum(ans)=800.0 sum(y)=580.0 len(y)=800\n",
      "\tVALENCE-s25|Acc=0.5275|10-CV=0.371|STD=0.10195|Time spend=3.7936487197875977\n",
      "\tAROUSAL-s26|Acc=0.6225|10-CV=0.552|STD=0.11938|Time spend=3.320915699005127\n",
      "\tVALENCE-s26|Acc=0.65|10-CV=0.62|STD=0.14|Time spend=3.7981960773468018\n",
      "-----WARNING: Model s26 failed to learn: sum(ans)=800.0 sum(y)=520.0 len(y)=800\n",
      "\tAROUSAL-s27|Acc=0.7025|10-CV=0.6415|STD=0.10318|Time spend=3.2473084926605225\n",
      "\tVALENCE-s27|Acc=0.75|10-CV=0.667|STD=0.12166|Time spend=3.622408866882324\n",
      "-----WARNING: Model s27 failed to learn: sum(ans)=800.0 sum(y)=600.0 len(y)=800\n",
      "\tAROUSAL-s28|Acc=0.56125|10-CV=0.4405|STD=0.16333|Time spend=3.552626371383667\n",
      "\tVALENCE-s28|Acc=0.625|10-CV=0.564|STD=0.15096|Time spend=4.028118133544922\n",
      "-----WARNING: Model s28 failed to learn: sum(ans)=800.0 sum(y)=500.0 len(y)=800\n",
      "\tAROUSAL-s29|Acc=0.625|10-CV=0.529|STD=0.08814|Time spend=3.4556987285614014\n",
      "-----WARNING: Model s29 failed to learn: sum(ans)=800.0 sum(y)=500.0 len(y)=800\n",
      "\tVALENCE-s29|Acc=0.64875|10-CV=0.5515|STD=0.09479|Time spend=3.944868803024292\n",
      "\tAROUSAL-s30|Acc=0.5875|10-CV=0.461|STD=0.08233|Time spend=3.447774887084961\n",
      "\tVALENCE-s30|Acc=0.675|10-CV=0.62|STD=0.14697|Time spend=3.917757272720337\n",
      "-----WARNING: Model s30 failed to learn: sum(ans)=800.0 sum(y)=540.0 len(y)=800\n",
      "\tAROUSAL-s31|Acc=0.66875|10-CV=0.564|STD=0.15233|Time spend=3.3798961639404297\n",
      "\tVALENCE-s31|Acc=0.60875|10-CV=0.4845|STD=0.10926|Time spend=3.854673147201538\n",
      "\tAROUSAL-s32|Acc=0.675|10-CV=0.75|STD=0.13601|Time spend=3.069606065750122\n",
      "-----WARNING: Model s32 failed to learn: sum(ans)=800.0 sum(y)=540.0 len(y)=800\n",
      "\tVALENCE-s32|Acc=0.625|10-CV=0.528|STD=0.11961|Time spend=3.562260150909424\n",
      "AROUSAL|Acc=0.6694531250000001|10-CV=0.605625|STD=0.11049602429972974\n",
      "VALENCE|Acc=0.642265625|10-CV=0.540390625|STD=0.12112531772102926\n",
      "TOTAL|Acc=0.655859375|10-CV=0.5730078124999998|STD=0.11581067101037945\n"
     ]
    }
   ],
   "source": [
    "for text in reports:\n",
    "    if(text == None): continue\n",
    "    print(text)\n",
    "\n",
    "accs.extend(accs_v)\n",
    "cv_means.extend(cv_means_v)\n",
    "cv_stds.extend(cv_stds_v)\n",
    "print(f\"TOTAL|Acc={sum(accs)/len(accs)}|10-CV={sum(cv_means)/len(cv_means)}|STD={sum(cv_stds)/len(cv_stds)}\")"
   ]
  },
  {
   "cell_type": "markdown",
   "metadata": {},
   "source": [
    "### 4.2 $ \\text{PCC}_{freq} (i,j) = \\frac{\\text{Cov}[\\hat{\\mathbf{X}}_i, \\hat{\\mathbf{X}}_j]}{\\sigma_{\\hat{\\mathbf{X}}_i} \\sigma_{\\hat{\\mathbf{X}}_j}} $"
   ]
  },
  {
   "cell_type": "code",
   "execution_count": 10,
   "metadata": {},
   "outputs": [],
   "source": [
    "def calculate_fft(signal, sfreq):\n",
    "    \"\"\" signal: can be 1D array of (n_sample,) or 2D array of (n_signal, n_sample)  \"\"\"\n",
    "    number_sample = signal.shape[-1]\n",
    "\n",
    "    # the result will be a complex number. We can obtain the magnitude using `absolute`\n",
    "    magnitude = np.abs(np.fft.fft(signal))\n",
    "    # scale the result\n",
    "    magnitude = magnitude / (number_sample/2)\n",
    "    # Selecting the range\n",
    "    magnitude = magnitude.T[:number_sample//2].T\n",
    "    freq_range = np.fft.fftfreq(number_sample, d=1/sfreq)[:number_sample//2]\n",
    "\n",
    "    return magnitude, freq_range"
   ]
  },
  {
   "cell_type": "code",
   "execution_count": 11,
   "metadata": {},
   "outputs": [
    {
     "data": {
      "application/vnd.jupyter.widget-view+json": {
       "model_id": "089bf09a125e4811a66064e28b09ddf7",
       "version_major": 2,
       "version_minor": 0
      },
      "text/plain": [
       "  0%|          | 0/32 [00:00<?, ?it/s]"
      ]
     },
     "metadata": {},
     "output_type": "display_data"
    },
    {
     "name": "stdout",
     "output_type": "stream",
     "text": [
      "Fitted sphere radius:         95.3 mm\n",
      "Origin head coordinates:      -0.8 15.1 45.3 mm\n",
      "Origin device coordinates:    -0.8 15.1 45.3 mm\n",
      "========= close ========\n",
      "\tAROUSAL-s01|Acc=0.79375|10-CV=0.5485|STD=0.11602|Time spend=3.481194019317627\n",
      "\tVALENCE-s01|Acc=0.81875|10-CV=0.495|STD=0.06438|Time spend=4.009430885314941\n",
      "Fitted sphere radius:         95.3 mm\n",
      "Origin head coordinates:      -0.8 15.1 45.3 mm\n",
      "Origin device coordinates:    -0.8 15.1 45.3 mm\n",
      "========= close ========\n",
      "\tAROUSAL-s02|Acc=0.65125|10-CV=0.583|STD=0.09397|Time spend=3.443272590637207\n",
      "\tVALENCE-s02|Acc=0.60875|10-CV=0.4445|STD=0.08332|Time spend=3.971703290939331\n",
      "Fitted sphere radius:         95.3 mm\n",
      "Origin head coordinates:      -0.8 15.1 45.3 mm\n",
      "Origin device coordinates:    -0.8 15.1 45.3 mm\n",
      "========= close ========\n",
      "\tAROUSAL-s03|Acc=0.8|10-CV=0.73|STD=0.15524|Time spend=3.650613784790039\n",
      "\tVALENCE-s03|Acc=0.66875|10-CV=0.4715|STD=0.14087|Time spend=4.190045118331909\n",
      "Fitted sphere radius:         95.3 mm\n",
      "Origin head coordinates:      -0.8 15.1 45.3 mm\n",
      "Origin device coordinates:    -0.8 15.1 45.3 mm\n",
      "========= close ========\n",
      "\tAROUSAL-s04|Acc=0.6575|10-CV=0.525|STD=0.15215|Time spend=4.223123788833618\n",
      "\tVALENCE-s04|Acc=0.64|10-CV=0.494|STD=0.12674|Time spend=4.759689569473267\n",
      "Fitted sphere radius:         95.3 mm\n",
      "Origin head coordinates:      -0.8 15.1 45.3 mm\n",
      "Origin device coordinates:    -0.8 15.1 45.3 mm\n",
      "========= close ========\n",
      "\tAROUSAL-s05|Acc=0.65125|10-CV=0.4325|STD=0.10692|Time spend=3.3890836238861084\n",
      "\tVALENCE-s05|Acc=0.66125|10-CV=0.5565|STD=0.07724|Time spend=3.8900415897369385\n",
      "Fitted sphere radius:         95.3 mm\n",
      "Origin head coordinates:      -0.8 15.1 45.3 mm\n",
      "Origin device coordinates:    -0.8 15.1 45.3 mm\n",
      "========= close ========\n",
      "\tAROUSAL-s06|Acc=0.67875|10-CV=0.5295|STD=0.13371|Time spend=3.6503102779388428\n",
      "\tVALENCE-s06|Acc=0.75|10-CV=0.718|STD=0.07349|Time spend=4.170911550521851\n",
      "Fitted sphere radius:         95.3 mm\n",
      "Origin head coordinates:      -0.8 15.1 45.3 mm\n",
      "Origin device coordinates:    -0.8 15.1 45.3 mm\n",
      "========= close ========\n",
      "\tAROUSAL-s07|Acc=0.73|10-CV=0.6005|STD=0.08475|Time spend=3.454832077026367\n",
      "\tVALENCE-s07|Acc=0.78375|10-CV=0.659|STD=0.12986|Time spend=3.9185867309570312\n",
      "Fitted sphere radius:         95.3 mm\n",
      "Origin head coordinates:      -0.8 15.1 45.3 mm\n",
      "Origin device coordinates:    -0.8 15.1 45.3 mm\n",
      "========= close ========\n",
      "\tAROUSAL-s08|Acc=0.69625|10-CV=0.4065|STD=0.11524|Time spend=3.722010374069214\n",
      "\tVALENCE-s08|Acc=0.70875|10-CV=0.484|STD=0.07851|Time spend=4.251621246337891\n",
      "Fitted sphere radius:         95.3 mm\n",
      "Origin head coordinates:      -0.8 15.1 45.3 mm\n",
      "Origin device coordinates:    -0.8 15.1 45.3 mm\n",
      "========= close ========\n",
      "\tAROUSAL-s09|Acc=0.65|10-CV=0.546|STD=0.12159|Time spend=3.5853610038757324\n",
      "\tVALENCE-s09|Acc=0.68625|10-CV=0.5905|STD=0.0935|Time spend=4.081767797470093\n",
      "Fitted sphere radius:         95.3 mm\n",
      "Origin head coordinates:      -0.8 15.1 45.3 mm\n",
      "Origin device coordinates:    -0.8 15.1 45.3 mm\n",
      "========= close ========\n",
      "\tAROUSAL-s10|Acc=0.7125|10-CV=0.53|STD=0.07642|Time spend=3.597485065460205\n",
      "\tVALENCE-s10|Acc=0.81625|10-CV=0.744|STD=0.08648|Time spend=4.0197224617004395\n",
      "Fitted sphere radius:         95.3 mm\n",
      "Origin head coordinates:      -0.8 15.1 45.3 mm\n",
      "Origin device coordinates:    -0.8 15.1 45.3 mm\n",
      "========= close ========\n",
      "\tAROUSAL-s11|Acc=0.67625|10-CV=0.5925|STD=0.04389|Time spend=3.5993270874023438\n",
      "\tVALENCE-s11|Acc=0.67|10-CV=0.5405|STD=0.14847|Time spend=4.068392992019653\n",
      "Fitted sphere radius:         95.3 mm\n",
      "Origin head coordinates:      -0.8 15.1 45.3 mm\n",
      "Origin device coordinates:    -0.8 15.1 45.3 mm\n",
      "========= close ========\n",
      "\tAROUSAL-s12|Acc=0.825|10-CV=0.83|STD=0.1005|Time spend=3.239488363265991\n",
      "\tVALENCE-s12|Acc=0.67625|10-CV=0.4855|STD=0.15016|Time spend=3.7785000801086426\n",
      "Fitted sphere radius:         95.3 mm\n",
      "Origin head coordinates:      -0.8 15.1 45.3 mm\n",
      "Origin device coordinates:    -0.8 15.1 45.3 mm\n",
      "========= close ========\n",
      "\tAROUSAL-s13|Acc=0.85|10-CV=0.84|STD=0.06633|Time spend=3.4187381267547607\n",
      "\tVALENCE-s13|Acc=0.705|10-CV=0.5795|STD=0.07227|Time spend=3.911041736602783\n",
      "Fitted sphere radius:         95.3 mm\n",
      "Origin head coordinates:      -0.8 15.1 45.3 mm\n",
      "Origin device coordinates:    -0.8 15.1 45.3 mm\n",
      "========= close ========\n",
      "\tAROUSAL-s14|Acc=0.675|10-CV=0.65|STD=0.10247|Time spend=3.4020004272460938\n",
      "\tVALENCE-s14|Acc=0.72|10-CV=0.571|STD=0.06308|Time spend=3.8999760150909424\n",
      "Fitted sphere radius:         95.3 mm\n",
      "Origin head coordinates:      -0.8 15.1 45.3 mm\n",
      "Origin device coordinates:    -0.8 15.1 45.3 mm\n",
      "========= close ========\n",
      "\tAROUSAL-s15|Acc=0.78|10-CV=0.475|STD=0.10383|Time spend=3.5800178050994873\n",
      "\tVALENCE-s15|Acc=0.81875|10-CV=0.6965|STD=0.07642|Time spend=4.0084898471832275\n",
      "Fitted sphere radius:         95.3 mm\n",
      "Origin head coordinates:      -0.8 15.1 45.3 mm\n",
      "Origin device coordinates:    -0.8 15.1 45.3 mm\n",
      "========= close ========\n",
      "\tAROUSAL-s16|Acc=0.72625|10-CV=0.46|STD=0.0997|Time spend=3.463660955429077\n",
      "\tVALENCE-s16|Acc=0.73|10-CV=0.638|STD=0.09755|Time spend=3.9263038635253906\n",
      "Fitted sphere radius:         95.3 mm\n",
      "Origin head coordinates:      -0.8 15.1 45.3 mm\n",
      "Origin device coordinates:    -0.8 15.1 45.3 mm\n",
      "========= close ========\n",
      "\tAROUSAL-s17|Acc=0.6925|10-CV=0.6055|STD=0.08001|Time spend=3.6808624267578125\n",
      "\tVALENCE-s17|Acc=0.59625|10-CV=0.425|STD=0.09767|Time spend=4.2172136306762695\n",
      "Fitted sphere radius:         95.3 mm\n",
      "Origin head coordinates:      -0.8 15.1 45.3 mm\n",
      "Origin device coordinates:    -0.8 15.1 45.3 mm\n",
      "========= close ========\n",
      "\tAROUSAL-s18|Acc=0.67375|10-CV=0.536|STD=0.11204|Time spend=3.469804048538208\n",
      "\tVALENCE-s18|Acc=0.79|10-CV=0.6765|STD=0.08243|Time spend=3.9028234481811523\n",
      "Fitted sphere radius:         95.3 mm\n",
      "Origin head coordinates:      -0.8 15.1 45.3 mm\n",
      "Origin device coordinates:    -0.8 15.1 45.3 mm\n",
      "========= close ========\n",
      "\tAROUSAL-s19|Acc=0.71625|10-CV=0.619|STD=0.11905|Time spend=3.490300416946411\n",
      "\tVALENCE-s19|Acc=0.67375|10-CV=0.477|STD=0.10948|Time spend=3.971877336502075\n",
      "Fitted sphere radius:         95.3 mm\n",
      "Origin head coordinates:      -0.8 15.1 45.3 mm\n",
      "Origin device coordinates:    -0.8 15.1 45.3 mm\n",
      "========= close ========\n",
      "\tAROUSAL-s20|Acc=0.775|10-CV=0.82|STD=0.08718|Time spend=3.781045913696289\n",
      "\tVALENCE-s20|Acc=0.75375|10-CV=0.5545|STD=0.12013|Time spend=4.269034147262573\n",
      "Fitted sphere radius:         95.3 mm\n",
      "Origin head coordinates:      -0.8 15.1 45.3 mm\n",
      "Origin device coordinates:    -0.8 15.1 45.3 mm\n",
      "========= close ========\n",
      "\tAROUSAL-s21|Acc=0.8|10-CV=0.8|STD=0.1|Time spend=3.4164936542510986\n",
      "\tVALENCE-s21|Acc=0.61375|10-CV=0.403|STD=0.08597|Time spend=3.9429116249084473\n",
      "Fitted sphere radius:         95.3 mm\n",
      "Origin head coordinates:      -0.8 15.1 45.3 mm\n",
      "Origin device coordinates:    -0.8 15.1 45.3 mm\n",
      "========= close ========\n",
      "\tAROUSAL-s22|Acc=0.6|10-CV=0.579|STD=0.06888|Time spend=3.407898187637329\n",
      "\tVALENCE-s22|Acc=0.64125|10-CV=0.5995|STD=0.09161|Time spend=3.893528938293457\n",
      "Fitted sphere radius:         95.3 mm\n",
      "Origin head coordinates:      -0.8 15.1 45.3 mm\n",
      "Origin device coordinates:    -0.8 15.1 45.3 mm\n",
      "========= close ========\n",
      "\tAROUSAL-s23|Acc=0.75375|10-CV=0.7695|STD=0.08656|Time spend=3.4125185012817383\n",
      "\tVALENCE-s23|Acc=0.74|10-CV=0.576|STD=0.11377|Time spend=3.936363458633423\n",
      "Fitted sphere radius:         95.3 mm\n",
      "Origin head coordinates:      -0.8 15.1 45.3 mm\n",
      "Origin device coordinates:    -0.8 15.1 45.3 mm\n",
      "========= close ========\n",
      "\tAROUSAL-s24|Acc=0.825|10-CV=0.82|STD=0.07483|Time spend=3.475194215774536\n",
      "\tVALENCE-s24|Acc=0.63125|10-CV=0.4625|STD=0.09867|Time spend=4.0063464641571045\n",
      "Fitted sphere radius:         95.3 mm\n",
      "Origin head coordinates:      -0.8 15.1 45.3 mm\n",
      "Origin device coordinates:    -0.8 15.1 45.3 mm\n",
      "========= close ========\n",
      "\tAROUSAL-s25|Acc=0.725|10-CV=0.74|STD=0.12806|Time spend=3.5514159202575684\n",
      "\tVALENCE-s25|Acc=0.6025|10-CV=0.3955|STD=0.10253|Time spend=4.083136320114136\n",
      "Fitted sphere radius:         95.3 mm\n",
      "Origin head coordinates:      -0.8 15.1 45.3 mm\n",
      "Origin device coordinates:    -0.8 15.1 45.3 mm\n",
      "========= close ========\n",
      "\tAROUSAL-s26|Acc=0.67|10-CV=0.5585|STD=0.1075|Time spend=3.815349578857422\n",
      "\tVALENCE-s26|Acc=0.6525|10-CV=0.5885|STD=0.10968|Time spend=4.292898416519165\n",
      "Fitted sphere radius:         95.3 mm\n",
      "Origin head coordinates:      -0.8 15.1 45.3 mm\n",
      "Origin device coordinates:    -0.8 15.1 45.3 mm\n",
      "========= close ========\n",
      "\tAROUSAL-s27|Acc=0.77|10-CV=0.6315|STD=0.10005|Time spend=3.399298667907715\n",
      "\tVALENCE-s27|Acc=0.80375|10-CV=0.6655|STD=0.12158|Time spend=3.7982311248779297\n",
      "Fitted sphere radius:         95.3 mm\n",
      "Origin head coordinates:      -0.8 15.1 45.3 mm\n",
      "Origin device coordinates:    -0.8 15.1 45.3 mm\n",
      "========= close ========\n",
      "\tAROUSAL-s28|Acc=0.5925|10-CV=0.448|STD=0.11084|Time spend=3.3133931159973145\n",
      "\tVALENCE-s28|Acc=0.625|10-CV=0.5115|STD=0.09571|Time spend=3.8023593425750732\n",
      "Fitted sphere radius:         95.3 mm\n",
      "Origin head coordinates:      -0.8 15.1 45.3 mm\n",
      "Origin device coordinates:    -0.8 15.1 45.3 mm\n",
      "========= close ========\n",
      "\tAROUSAL-s29|Acc=0.695|10-CV=0.5335|STD=0.07871|Time spend=3.7263529300689697\n",
      "\tVALENCE-s29|Acc=0.695|10-CV=0.564|STD=0.07127|Time spend=4.2096099853515625\n",
      "Fitted sphere radius:         95.3 mm\n",
      "Origin head coordinates:      -0.8 15.1 45.3 mm\n",
      "Origin device coordinates:    -0.8 15.1 45.3 mm\n",
      "========= close ========\n",
      "\tAROUSAL-s30|Acc=0.69125|10-CV=0.4805|STD=0.07374|Time spend=3.415623426437378\n",
      "\tVALENCE-s30|Acc=0.675|10-CV=0.618|STD=0.14629|Time spend=3.8901729583740234\n",
      "Fitted sphere radius:         95.3 mm\n",
      "Origin head coordinates:      -0.8 15.1 45.3 mm\n",
      "Origin device coordinates:    -0.8 15.1 45.3 mm\n",
      "========= close ========\n",
      "\tAROUSAL-s31|Acc=0.7625|10-CV=0.56|STD=0.12977|Time spend=3.631084442138672\n",
      "\tVALENCE-s31|Acc=0.72625|10-CV=0.5235|STD=0.11457|Time spend=4.1679465770721436\n",
      "Fitted sphere radius:         95.3 mm\n",
      "Origin head coordinates:      -0.8 15.1 45.3 mm\n",
      "Origin device coordinates:    -0.8 15.1 45.3 mm\n",
      "========= close ========\n",
      "\tAROUSAL-s32|Acc=0.7|10-CV=0.6845|STD=0.10316|Time spend=3.436530828475952\n",
      "\tVALENCE-s32|Acc=0.665|10-CV=0.5325|STD=0.07477|Time spend=3.956909418106079\n",
      "AROUSAL|Acc=0.7186328125000001|10-CV=0.608265625|STD=0.10103466718883371\n",
      "VALENCE|Acc=0.6983593750000001|10-CV=0.55440625|STD=0.09995267510706989\n"
     ]
    }
   ],
   "source": [
    "accs, cv_means, cv_stds = [],[],[]\n",
    "accs_v, cv_means_v, cv_stds_v = [],[],[]\n",
    "reports = []\n",
    "for filename in (pbar := tqdm(dataset.get_file_list())):\n",
    "    start = time.time()\n",
    "    pbar.set_description(filename)\n",
    "    data, labels, groups = dataset.get_data(filename, stimuli=Dataset_subjectDependent.STIMULI_AROUSAL, return_type='mne', sfreq=128)\n",
    "    \n",
    "    data_csd = mne.preprocessing.compute_current_source_density(data)\n",
    "    magnitude, freq_range = calculate_fft(data_csd.get_data(), 128)\n",
    "    pcc = calculate_pcc(magnitude)\n",
    "    _,acc,cross,train_report = train_model(pcc, labels.squeeze(), groups, filename=filename, return_text=True)\n",
    "    report = f\"\\tAROUSAL-{filename}|Acc={round(acc,5)}|10-CV={round(cross.mean(),5)}|STD={round(cross.std(),5)}|Time spend={time.time() - start}\"\n",
    "    print(report)\n",
    "    reports.append(report)\n",
    "    reports.append(train_report)\n",
    "    accs.append(acc)\n",
    "    cv_means.append(cross.mean())\n",
    "    cv_stds.append(cross.std())\n",
    "\n",
    "    _, labels_v, groups_v = dataset.get_data(filename, stimuli=Dataset_subjectDependent.STIMULI_VALENCE, return_type='mne', sfreq=128)\n",
    "    _,acc,cross,train_report = train_model(pcc, labels_v.squeeze(), groups_v, filename=filename, return_text=True)\n",
    "    report = f\"\\tVALENCE-{filename}|Acc={round(acc,5)}|10-CV={round(cross.mean(),5)}|STD={round(cross.std(),5)}|Time spend={time.time() - start}\"\n",
    "    print(report)\n",
    "    reports.append(report)\n",
    "    reports.append(train_report)\n",
    "    accs_v.append(acc)\n",
    "    cv_means_v.append(cross.mean())\n",
    "    cv_stds_v.append(cross.std())\n",
    "    # break\n",
    "    # count+=1\n",
    "    # if(count == 5): break\n",
    "report = f\"AROUSAL|Acc={sum(accs)/len(accs)}|10-CV={sum(cv_means)/len(cv_means)}|STD={sum(cv_stds)/len(cv_stds)}\"\n",
    "print(report)\n",
    "reports.append(report)\n",
    "report = f\"VALENCE|Acc={sum(accs_v)/len(accs_v)}|10-CV={sum(cv_means_v)/len(cv_means_v)}|STD={sum(cv_stds_v)/len(cv_stds_v)}\"\n",
    "print(report)\n",
    "reports.append(report)"
   ]
  },
  {
   "cell_type": "code",
   "execution_count": 12,
   "metadata": {},
   "outputs": [
    {
     "name": "stdout",
     "output_type": "stream",
     "text": [
      "\tAROUSAL-s01|Acc=0.79375|10-CV=0.5485|STD=0.11602|Time spend=3.481194019317627\n",
      "\tVALENCE-s01|Acc=0.81875|10-CV=0.495|STD=0.06438|Time spend=4.009430885314941\n",
      "\tAROUSAL-s02|Acc=0.65125|10-CV=0.583|STD=0.09397|Time spend=3.443272590637207\n",
      "\tVALENCE-s02|Acc=0.60875|10-CV=0.4445|STD=0.08332|Time spend=3.971703290939331\n",
      "\tAROUSAL-s03|Acc=0.8|10-CV=0.73|STD=0.15524|Time spend=3.650613784790039\n",
      "-----WARNING: Model s03 failed to learn: sum(ans)=0.0 sum(y)=160.0 len(y)=800\n",
      "\tVALENCE-s03|Acc=0.66875|10-CV=0.4715|STD=0.14087|Time spend=4.190045118331909\n",
      "\tAROUSAL-s04|Acc=0.6575|10-CV=0.525|STD=0.15215|Time spend=4.223123788833618\n",
      "\tVALENCE-s04|Acc=0.64|10-CV=0.494|STD=0.12674|Time spend=4.759689569473267\n",
      "\tAROUSAL-s05|Acc=0.65125|10-CV=0.4325|STD=0.10692|Time spend=3.3890836238861084\n",
      "\tVALENCE-s05|Acc=0.66125|10-CV=0.5565|STD=0.07724|Time spend=3.8900415897369385\n",
      "\tAROUSAL-s06|Acc=0.67875|10-CV=0.5295|STD=0.13371|Time spend=3.6503102779388428\n",
      "\tVALENCE-s06|Acc=0.75|10-CV=0.718|STD=0.07349|Time spend=4.170911550521851\n",
      "-----WARNING: Model s06 failed to learn: sum(ans)=800.0 sum(y)=600.0 len(y)=800\n",
      "\tAROUSAL-s07|Acc=0.73|10-CV=0.6005|STD=0.08475|Time spend=3.454832077026367\n",
      "\tVALENCE-s07|Acc=0.78375|10-CV=0.659|STD=0.12986|Time spend=3.9185867309570312\n",
      "\tAROUSAL-s08|Acc=0.69625|10-CV=0.4065|STD=0.11524|Time spend=3.722010374069214\n",
      "\tVALENCE-s08|Acc=0.70875|10-CV=0.484|STD=0.07851|Time spend=4.251621246337891\n",
      "\tAROUSAL-s09|Acc=0.65|10-CV=0.546|STD=0.12159|Time spend=3.5853610038757324\n",
      "\tVALENCE-s09|Acc=0.68625|10-CV=0.5905|STD=0.0935|Time spend=4.081767797470093\n",
      "\tAROUSAL-s10|Acc=0.7125|10-CV=0.53|STD=0.07642|Time spend=3.597485065460205\n",
      "\tVALENCE-s10|Acc=0.81625|10-CV=0.744|STD=0.08648|Time spend=4.0197224617004395\n",
      "\tAROUSAL-s11|Acc=0.67625|10-CV=0.5925|STD=0.04389|Time spend=3.5993270874023438\n",
      "\tVALENCE-s11|Acc=0.67|10-CV=0.5405|STD=0.14847|Time spend=4.068392992019653\n",
      "\tAROUSAL-s12|Acc=0.825|10-CV=0.83|STD=0.1005|Time spend=3.239488363265991\n",
      "-----WARNING: Model s12 failed to learn: sum(ans)=800.0 sum(y)=660.0 len(y)=800\n",
      "\tVALENCE-s12|Acc=0.67625|10-CV=0.4855|STD=0.15016|Time spend=3.7785000801086426\n",
      "\tAROUSAL-s13|Acc=0.85|10-CV=0.84|STD=0.06633|Time spend=3.4187381267547607\n",
      "-----WARNING: Model s13 failed to learn: sum(ans)=800.0 sum(y)=680.0 len(y)=800\n",
      "\tVALENCE-s13|Acc=0.705|10-CV=0.5795|STD=0.07227|Time spend=3.911041736602783\n",
      "\tAROUSAL-s14|Acc=0.675|10-CV=0.65|STD=0.10247|Time spend=3.4020004272460938\n",
      "-----WARNING: Model s14 failed to learn: sum(ans)=800.0 sum(y)=540.0 len(y)=800\n",
      "\tVALENCE-s14|Acc=0.72|10-CV=0.571|STD=0.06308|Time spend=3.8999760150909424\n",
      "\tAROUSAL-s15|Acc=0.78|10-CV=0.475|STD=0.10383|Time spend=3.5800178050994873\n",
      "\tVALENCE-s15|Acc=0.81875|10-CV=0.6965|STD=0.07642|Time spend=4.0084898471832275\n",
      "\tAROUSAL-s16|Acc=0.72625|10-CV=0.46|STD=0.0997|Time spend=3.463660955429077\n",
      "\tVALENCE-s16|Acc=0.73|10-CV=0.638|STD=0.09755|Time spend=3.9263038635253906\n",
      "\tAROUSAL-s17|Acc=0.6925|10-CV=0.6055|STD=0.08001|Time spend=3.6808624267578125\n",
      "\tVALENCE-s17|Acc=0.59625|10-CV=0.425|STD=0.09767|Time spend=4.2172136306762695\n",
      "\tAROUSAL-s18|Acc=0.67375|10-CV=0.536|STD=0.11204|Time spend=3.469804048538208\n",
      "\tVALENCE-s18|Acc=0.79|10-CV=0.6765|STD=0.08243|Time spend=3.9028234481811523\n",
      "\tAROUSAL-s19|Acc=0.71625|10-CV=0.619|STD=0.11905|Time spend=3.490300416946411\n",
      "\tVALENCE-s19|Acc=0.67375|10-CV=0.477|STD=0.10948|Time spend=3.971877336502075\n",
      "\tAROUSAL-s20|Acc=0.775|10-CV=0.82|STD=0.08718|Time spend=3.781045913696289\n",
      "-----WARNING: Model s20 failed to learn: sum(ans)=800.0 sum(y)=620.0 len(y)=800\n",
      "\tVALENCE-s20|Acc=0.75375|10-CV=0.5545|STD=0.12013|Time spend=4.269034147262573\n",
      "\tAROUSAL-s21|Acc=0.8|10-CV=0.8|STD=0.1|Time spend=3.4164936542510986\n",
      "-----WARNING: Model s21 failed to learn: sum(ans)=800.0 sum(y)=640.0 len(y)=800\n",
      "\tVALENCE-s21|Acc=0.61375|10-CV=0.403|STD=0.08597|Time spend=3.9429116249084473\n",
      "\tAROUSAL-s22|Acc=0.6|10-CV=0.579|STD=0.06888|Time spend=3.407898187637329\n",
      "-----WARNING: Model s22 failed to learn: sum(ans)=800.0 sum(y)=480.0 len(y)=800\n",
      "\tVALENCE-s22|Acc=0.64125|10-CV=0.5995|STD=0.09161|Time spend=3.893528938293457\n",
      "\tAROUSAL-s23|Acc=0.75375|10-CV=0.7695|STD=0.08656|Time spend=3.4125185012817383\n",
      "\tVALENCE-s23|Acc=0.74|10-CV=0.576|STD=0.11377|Time spend=3.936363458633423\n",
      "\tAROUSAL-s24|Acc=0.825|10-CV=0.82|STD=0.07483|Time spend=3.475194215774536\n",
      "-----WARNING: Model s24 failed to learn: sum(ans)=800.0 sum(y)=660.0 len(y)=800\n",
      "\tVALENCE-s24|Acc=0.63125|10-CV=0.4625|STD=0.09867|Time spend=4.0063464641571045\n",
      "\tAROUSAL-s25|Acc=0.725|10-CV=0.74|STD=0.12806|Time spend=3.5514159202575684\n",
      "-----WARNING: Model s25 failed to learn: sum(ans)=800.0 sum(y)=580.0 len(y)=800\n",
      "\tVALENCE-s25|Acc=0.6025|10-CV=0.3955|STD=0.10253|Time spend=4.083136320114136\n",
      "\tAROUSAL-s26|Acc=0.67|10-CV=0.5585|STD=0.1075|Time spend=3.815349578857422\n",
      "\tVALENCE-s26|Acc=0.6525|10-CV=0.5885|STD=0.10968|Time spend=4.292898416519165\n",
      "\tAROUSAL-s27|Acc=0.77|10-CV=0.6315|STD=0.10005|Time spend=3.399298667907715\n",
      "\tVALENCE-s27|Acc=0.80375|10-CV=0.6655|STD=0.12158|Time spend=3.7982311248779297\n",
      "\tAROUSAL-s28|Acc=0.5925|10-CV=0.448|STD=0.11084|Time spend=3.3133931159973145\n",
      "\tVALENCE-s28|Acc=0.625|10-CV=0.5115|STD=0.09571|Time spend=3.8023593425750732\n",
      "-----WARNING: Model s28 failed to learn: sum(ans)=800.0 sum(y)=500.0 len(y)=800\n",
      "\tAROUSAL-s29|Acc=0.695|10-CV=0.5335|STD=0.07871|Time spend=3.7263529300689697\n",
      "\tVALENCE-s29|Acc=0.695|10-CV=0.564|STD=0.07127|Time spend=4.2096099853515625\n",
      "\tAROUSAL-s30|Acc=0.69125|10-CV=0.4805|STD=0.07374|Time spend=3.415623426437378\n",
      "\tVALENCE-s30|Acc=0.675|10-CV=0.618|STD=0.14629|Time spend=3.8901729583740234\n",
      "-----WARNING: Model s30 failed to learn: sum(ans)=800.0 sum(y)=540.0 len(y)=800\n",
      "\tAROUSAL-s31|Acc=0.7625|10-CV=0.56|STD=0.12977|Time spend=3.631084442138672\n",
      "\tVALENCE-s31|Acc=0.72625|10-CV=0.5235|STD=0.11457|Time spend=4.1679465770721436\n",
      "\tAROUSAL-s32|Acc=0.7|10-CV=0.6845|STD=0.10316|Time spend=3.436530828475952\n",
      "\tVALENCE-s32|Acc=0.665|10-CV=0.5325|STD=0.07477|Time spend=3.956909418106079\n",
      "AROUSAL|Acc=0.7186328125000001|10-CV=0.608265625|STD=0.10103466718883371\n",
      "VALENCE|Acc=0.6983593750000001|10-CV=0.55440625|STD=0.09995267510706989\n",
      "TOTAL|Acc=0.70849609375|10-CV=0.5813359375|STD=0.10049367114795178\n"
     ]
    }
   ],
   "source": [
    "for text in reports:\n",
    "    if(text == None): continue\n",
    "    print(text)\n",
    "\n",
    "accs.extend(accs_v)\n",
    "cv_means.extend(cv_means_v)\n",
    "cv_stds.extend(cv_stds_v)\n",
    "print(f\"TOTAL|Acc={sum(accs)/len(accs)}|10-CV={sum(cv_means)/len(cv_means)}|STD={sum(cv_stds)/len(cv_stds)}\")"
   ]
  },
  {
   "cell_type": "markdown",
   "metadata": {},
   "source": [
    "### 4.3 $ \\text{PLV}(j,k) = \\frac{1}{T} | \\Sigma^{T}_{t=1} e^{i(\\phi^{t}_{j} - \\phi^{t}_{k})}   | $"
   ]
  },
  {
   "cell_type": "code",
   "execution_count": 13,
   "metadata": {},
   "outputs": [],
   "source": [
    "# bands = [(0,4), (4,8), (8,12), (12,30), (30,64)]\n",
    "def calculate_stft(signals, sfreq):\n",
    "    from scipy import signal\n",
    "    f_range, t_range, Z = signal.stft(signals, sfreq, nperseg=sfreq//10, nfft=sfreq)\n",
    "    magnitude = np.abs(Z) \n",
    "    phase = np.angle(Z)\n",
    "    return magnitude, phase, f_range, t_range\n",
    "\n",
    "def PLV_stft(p_id, phase):\n",
    "    # (32, 65, 12) => (channels, freqs, times)\n",
    "    # print(f\"p_id:{p_id} - data to run {phase.shape}\")\n",
    "    print(phase.shape)\n",
    "    from itertools import combinations\n",
    "    plv = []\n",
    "    # count = 0\n",
    "    for index in range(phase.shape[0]):\n",
    "        plv_epoch = []\n",
    "        for comb in combinations(list(range(phase.shape[1])), 2):\n",
    "            # shape = (65,12)\n",
    "            phase_a, phase_b = phase[index, comb[0]], phase[index, comb[1]]\n",
    "            phase_diff = phase_a - phase_b\n",
    "            # sum along the time size\n",
    "            plv_ab = np.abs(np.average(np.exp(complex(0,1) * phase_diff), axis=1))\n",
    "            plv_epoch.append(plv_ab)\n",
    "        plv_epoch = np.vstack(plv_epoch)\n",
    "        # print(plv_epoch.shape) => (300, 32, 65, 23)\n",
    "        plv_epoch_5 = np.concatenate([ plv_epoch[:,0:4].mean(axis=1).reshape(-1,1),\n",
    "                                        plv_epoch[:,4:8].mean(axis=1).reshape(-1,1),\n",
    "                                        plv_epoch[:,8:12].mean(axis=1).reshape(-1,1),\n",
    "                                        plv_epoch[:,12:30].mean(axis=1).reshape(-1,1),\n",
    "                                        plv_epoch[:,30:65].mean(axis=1).reshape(-1,1)], axis=0)\n",
    "        plv.append(np.expand_dims(plv_epoch_5, axis=0))\n",
    "        # count += 1\n",
    "        # if(count == 3): break\n",
    "    # shape (496, 65)\n",
    "    # 496 is number of pairs that is not duplicate\n",
    "    # 65 is number of phase of frequencies\n",
    "    plv = np.vstack( plv )\n",
    "    return plv.squeeze()\n",
    "\n",
    "def calculate_plv(data, n_jobs=8):\n",
    "    \"\"\" \n",
    "    Input: Expect data to have (n_epochs, n_channels, n_samples)\n",
    "    Output: (n_epochs, n_conn, n_freqs ) => n_conn = n_channels!/(2!(n_channels-2)!)\n",
    "    \"\"\"\n",
    "    from multiprocessing import Pool\n",
    "\n",
    "    try:\n",
    "        t_out = 60000\n",
    "        pool = Pool()\n",
    "        p_list = []\n",
    "        ans_list = []\n",
    "        num_p = n_jobs\n",
    "        indices = np.array_split(np.arange(data.shape[0]), num_p)\n",
    "        _, phase, _, _ = calculate_stft(data, 128)\n",
    "        for p_id in range(num_p):\n",
    "            p_list.append(pool.apply_async(PLV_stft, [p_id, phase[indices[p_id]] ]))\n",
    "        for p_id in range(num_p):\n",
    "            ans_list.append( p_list[p_id].get(timeout=t_out) )\n",
    "        # ans_list\n",
    "    finally:\n",
    "        print(\"========= close ========\")\n",
    "        pool.close() \n",
    "        pool.terminate()\n",
    "    return np.vstack(ans_list)\n"
   ]
  },
  {
   "cell_type": "code",
   "execution_count": 14,
   "metadata": {},
   "outputs": [
    {
     "data": {
      "application/vnd.jupyter.widget-view+json": {
       "model_id": "5b28e5a391f74b5abe3b781ae49a8f44",
       "version_major": 2,
       "version_minor": 0
      },
      "text/plain": [
       "  0%|          | 0/32 [00:00<?, ?it/s]"
      ]
     },
     "metadata": {},
     "output_type": "display_data"
    },
    {
     "name": "stdout",
     "output_type": "stream",
     "text": [
      "Fitted sphere radius:         95.3 mm\n",
      "Origin head coordinates:      -0.8 15.1 45.3 mm\n",
      "Origin device coordinates:    -0.8 15.1 45.3 mm\n",
      "(100, 32, 65, 65)\n",
      "(100, 32, 65, 65)\n",
      "(100, 32, 65, 65)\n",
      "(100, 32, 65, 65)\n",
      "(100, 32, 65, 65)\n",
      "(100, 32, 65, 65)\n",
      "(100, 32, 65, 65)\n",
      "(100, 32, 65, 65)\n",
      "========= close ========\n",
      "\tAROUSAL-s01|Acc=0.8725|10-CV=0.555|STD=0.13444|Time spend=21.39948844909668\n",
      "\tVALENCE-s01|Acc=0.84875|10-CV=0.4985|STD=0.07057|Time spend=24.54912233352661\n",
      "Fitted sphere radius:         95.3 mm\n",
      "Origin head coordinates:      -0.8 15.1 45.3 mm\n",
      "Origin device coordinates:    -0.8 15.1 45.3 mm\n",
      "(100, 32, 65, 65)\n",
      "(100, 32, 65, 65)\n",
      "(100, 32, 65, 65)\n",
      "(100, 32, 65, 65)\n",
      "(100, 32, 65, 65)\n",
      "(100, 32, 65, 65)\n",
      "(100, 32, 65, 65)\n",
      "(100, 32, 65, 65)\n",
      "========= close ========\n",
      "\tAROUSAL-s02|Acc=0.6925|10-CV=0.5225|STD=0.08741|Time spend=22.714601755142212\n",
      "\tVALENCE-s02|Acc=0.73625|10-CV=0.6695|STD=0.10125|Time spend=25.16535496711731\n",
      "Fitted sphere radius:         95.3 mm\n",
      "Origin head coordinates:      -0.8 15.1 45.3 mm\n",
      "Origin device coordinates:    -0.8 15.1 45.3 mm\n",
      "(100, 32, 65, 65)\n",
      "(100, 32, 65, 65)\n",
      "(100, 32, 65, 65)\n",
      "(100, 32, 65, 65)\n",
      "(100, 32, 65, 65)\n",
      "(100, 32, 65, 65)\n",
      "(100, 32, 65, 65)\n",
      "(100, 32, 65, 65)\n",
      "========= close ========\n",
      "\tAROUSAL-s03|Acc=0.8|10-CV=0.73|STD=0.15524|Time spend=20.42439579963684\n",
      "\tVALENCE-s03|Acc=0.75125|10-CV=0.596|STD=0.18342|Time spend=23.27506732940674\n",
      "Fitted sphere radius:         95.3 mm\n",
      "Origin head coordinates:      -0.8 15.1 45.3 mm\n",
      "Origin device coordinates:    -0.8 15.1 45.3 mm\n",
      "(100, 32, 65, 65)\n",
      "(100, 32, 65, 65)\n",
      "(100, 32, 65, 65)\n",
      "(100, 32, 65, 65)\n",
      "(100, 32, 65, 65)\n",
      "(100, 32, 65, 65)\n",
      "(100, 32, 65, 65)\n",
      "(100, 32, 65, 65)\n",
      "========= close ========\n",
      "\tAROUSAL-s04|Acc=0.72625|10-CV=0.547|STD=0.11025|Time spend=19.966647624969482\n",
      "\tVALENCE-s04|Acc=0.7225|10-CV=0.593|STD=0.07688|Time spend=22.559674978256226\n",
      "Fitted sphere radius:         95.3 mm\n",
      "Origin head coordinates:      -0.8 15.1 45.3 mm\n",
      "Origin device coordinates:    -0.8 15.1 45.3 mm\n",
      "(100, 32, 65, 65)\n",
      "(100, 32, 65, 65)\n",
      "(100, 32, 65, 65)\n",
      "(100, 32, 65, 65)\n",
      "(100, 32, 65, 65)\n",
      "(100, 32, 65, 65)\n",
      "(100, 32, 65, 65)\n",
      "(100, 32, 65, 65)\n",
      "========= close ========\n",
      "\tAROUSAL-s05|Acc=0.71125|10-CV=0.482|STD=0.11782|Time spend=19.66467308998108\n",
      "\tVALENCE-s05|Acc=0.69625|10-CV=0.549|STD=0.06963|Time spend=22.62801480293274\n",
      "Fitted sphere radius:         95.3 mm\n",
      "Origin head coordinates:      -0.8 15.1 45.3 mm\n",
      "Origin device coordinates:    -0.8 15.1 45.3 mm\n",
      "(100, 32, 65, 65)\n",
      "(100, 32, 65, 65)\n",
      "(100, 32, 65, 65)\n",
      "(100, 32, 65, 65)\n",
      "(100, 32, 65, 65)\n",
      "(100, 32, 65, 65)\n",
      "(100, 32, 65, 65)\n",
      "(100, 32, 65, 65)\n",
      "========= close ========\n",
      "\tAROUSAL-s06|Acc=0.64625|10-CV=0.505|STD=0.12363|Time spend=19.757647275924683\n",
      "\tVALENCE-s06|Acc=0.75|10-CV=0.72|STD=0.07483|Time spend=22.183897733688354\n",
      "Fitted sphere radius:         95.3 mm\n",
      "Origin head coordinates:      -0.8 15.1 45.3 mm\n",
      "Origin device coordinates:    -0.8 15.1 45.3 mm\n",
      "(100, 32, 65, 65)\n",
      "(100, 32, 65, 65)\n",
      "(100, 32, 65, 65)\n",
      "(100, 32, 65, 65)\n",
      "(100, 32, 65, 65)\n",
      "(100, 32, 65, 65)\n",
      "(100, 32, 65, 65)\n",
      "(100, 32, 65, 65)\n",
      "========= close ========\n",
      "\tAROUSAL-s07|Acc=0.76375|10-CV=0.591|STD=0.07687|Time spend=20.236046075820923\n",
      "\tVALENCE-s07|Acc=0.7975|10-CV=0.6585|STD=0.1408|Time spend=22.617307662963867\n",
      "Fitted sphere radius:         95.3 mm\n",
      "Origin head coordinates:      -0.8 15.1 45.3 mm\n",
      "Origin device coordinates:    -0.8 15.1 45.3 mm\n",
      "(100, 32, 65, 65)\n",
      "(100, 32, 65, 65)\n",
      "(100, 32, 65, 65)\n",
      "(100, 32, 65, 65)\n",
      "(100, 32, 65, 65)\n",
      "(100, 32, 65, 65)\n",
      "(100, 32, 65, 65)\n",
      "(100, 32, 65, 65)\n",
      "========= close ========\n",
      "\tAROUSAL-s08|Acc=0.8|10-CV=0.4185|STD=0.1262|Time spend=19.25060224533081\n",
      "\tVALENCE-s08|Acc=0.81625|10-CV=0.498|STD=0.08385|Time spend=22.418049097061157\n",
      "Fitted sphere radius:         95.3 mm\n",
      "Origin head coordinates:      -0.8 15.1 45.3 mm\n",
      "Origin device coordinates:    -0.8 15.1 45.3 mm\n",
      "(100, 32, 65, 65)\n",
      "(100, 32, 65, 65)\n",
      "(100, 32, 65, 65)\n",
      "(100, 32, 65, 65)\n",
      "(100, 32, 65, 65)\n",
      "(100, 32, 65, 65)\n",
      "(100, 32, 65, 65)\n",
      "(100, 32, 65, 65)\n",
      "========= close ========\n",
      "\tAROUSAL-s09|Acc=0.7475|10-CV=0.515|STD=0.08941|Time spend=18.483391761779785\n",
      "\tVALENCE-s09|Acc=0.77125|10-CV=0.6625|STD=0.08698|Time spend=21.019890069961548\n",
      "Fitted sphere radius:         95.3 mm\n",
      "Origin head coordinates:      -0.8 15.1 45.3 mm\n",
      "Origin device coordinates:    -0.8 15.1 45.3 mm\n",
      "(100, 32, 65, 65)\n",
      "(100, 32, 65, 65)\n",
      "(100, 32, 65, 65)\n",
      "(100, 32, 65, 65)\n",
      "(100, 32, 65, 65)\n",
      "(100, 32, 65, 65)\n",
      "(100, 32, 65, 65)\n",
      "(100, 32, 65, 65)\n",
      "========= close ========\n",
      "\tAROUSAL-s10|Acc=0.76375|10-CV=0.601|STD=0.09316|Time spend=19.627840757369995\n",
      "\tVALENCE-s10|Acc=0.86|10-CV=0.791|STD=0.0794|Time spend=21.683255195617676\n",
      "Fitted sphere radius:         95.3 mm\n",
      "Origin head coordinates:      -0.8 15.1 45.3 mm\n",
      "Origin device coordinates:    -0.8 15.1 45.3 mm\n",
      "(100, 32, 65, 65)\n",
      "(100, 32, 65, 65)\n",
      "(100, 32, 65, 65)\n",
      "(100, 32, 65, 65)\n",
      "(100, 32, 65, 65)\n",
      "(100, 32, 65, 65)\n",
      "(100, 32, 65, 65)\n",
      "(100, 32, 65, 65)\n",
      "========= close ========\n",
      "\tAROUSAL-s11|Acc=0.6775|10-CV=0.567|STD=0.05178|Time spend=18.40301275253296\n",
      "\tVALENCE-s11|Acc=0.71375|10-CV=0.539|STD=0.14956|Time spend=20.925615549087524\n",
      "Fitted sphere radius:         95.3 mm\n",
      "Origin head coordinates:      -0.8 15.1 45.3 mm\n",
      "Origin device coordinates:    -0.8 15.1 45.3 mm\n",
      "(100, 32, 65, 65)\n",
      "(100, 32, 65, 65)\n",
      "(100, 32, 65, 65)\n",
      "(100, 32, 65, 65)\n",
      "(100, 32, 65, 65)\n",
      "(100, 32, 65, 65)\n",
      "(100, 32, 65, 65)\n",
      "(100, 32, 65, 65)\n",
      "========= close ========\n",
      "\tAROUSAL-s12|Acc=0.825|10-CV=0.83|STD=0.1005|Time spend=18.87792682647705\n",
      "\tVALENCE-s12|Acc=0.7225|10-CV=0.4885|STD=0.14706|Time spend=21.67649483680725\n",
      "Fitted sphere radius:         95.3 mm\n",
      "Origin head coordinates:      -0.8 15.1 45.3 mm\n",
      "Origin device coordinates:    -0.8 15.1 45.3 mm\n",
      "(100, 32, 65, 65)\n",
      "(100, 32, 65, 65)\n",
      "(100, 32, 65, 65)\n",
      "(100, 32, 65, 65)\n",
      "(100, 32, 65, 65)\n",
      "(100, 32, 65, 65)\n",
      "(100, 32, 65, 65)\n",
      "(100, 32, 65, 65)\n",
      "========= close ========\n",
      "\tAROUSAL-s13|Acc=0.85|10-CV=0.84|STD=0.06633|Time spend=18.481210470199585\n",
      "\tVALENCE-s13|Acc=0.78875|10-CV=0.75|STD=0.10279|Time spend=20.621482610702515\n",
      "Fitted sphere radius:         95.3 mm\n",
      "Origin head coordinates:      -0.8 15.1 45.3 mm\n",
      "Origin device coordinates:    -0.8 15.1 45.3 mm\n",
      "(100, 32, 65, 65)\n",
      "(100, 32, 65, 65)\n",
      "(100, 32, 65, 65)\n",
      "(100, 32, 65, 65)\n",
      "(100, 32, 65, 65)\n",
      "(100, 32, 65, 65)\n",
      "(100, 32, 65, 65)\n",
      "(100, 32, 65, 65)\n",
      "========= close ========\n",
      "\tAROUSAL-s14|Acc=0.70625|10-CV=0.63|STD=0.09693|Time spend=18.616933822631836\n",
      "\tVALENCE-s14|Acc=0.785|10-CV=0.6825|STD=0.0392|Time spend=21.183183908462524\n",
      "Fitted sphere radius:         95.3 mm\n",
      "Origin head coordinates:      -0.8 15.1 45.3 mm\n",
      "Origin device coordinates:    -0.8 15.1 45.3 mm\n",
      "(100, 32, 65, 65)\n",
      "(100, 32, 65, 65)\n",
      "(100, 32, 65, 65)\n",
      "(100, 32, 65, 65)\n",
      "(100, 32, 65, 65)\n",
      "(100, 32, 65, 65)\n",
      "(100, 32, 65, 65)\n",
      "(100, 32, 65, 65)\n",
      "========= close ========\n",
      "\tAROUSAL-s15|Acc=0.79375|10-CV=0.5325|STD=0.12102|Time spend=19.215043544769287\n",
      "\tVALENCE-s15|Acc=0.88375|10-CV=0.774|STD=0.06332|Time spend=21.365147590637207\n",
      "Fitted sphere radius:         95.3 mm\n",
      "Origin head coordinates:      -0.8 15.1 45.3 mm\n",
      "Origin device coordinates:    -0.8 15.1 45.3 mm\n",
      "(100, 32, 65, 65)\n",
      "(100, 32, 65, 65)\n",
      "(100, 32, 65, 65)\n",
      "(100, 32, 65, 65)\n",
      "(100, 32, 65, 65)\n",
      "(100, 32, 65, 65)\n",
      "(100, 32, 65, 65)\n",
      "(100, 32, 65, 65)\n",
      "========= close ========\n",
      "\tAROUSAL-s16|Acc=0.7625|10-CV=0.4635|STD=0.07253|Time spend=19.34485936164856\n",
      "\tVALENCE-s16|Acc=0.75625|10-CV=0.658|STD=0.10647|Time spend=21.865159273147583\n",
      "Fitted sphere radius:         95.3 mm\n",
      "Origin head coordinates:      -0.8 15.1 45.3 mm\n",
      "Origin device coordinates:    -0.8 15.1 45.3 mm\n",
      "(100, 32, 65, 65)\n",
      "(100, 32, 65, 65)\n",
      "(100, 32, 65, 65)\n",
      "(100, 32, 65, 65)\n",
      "(100, 32, 65, 65)\n",
      "(100, 32, 65, 65)\n",
      "(100, 32, 65, 65)\n",
      "(100, 32, 65, 65)\n",
      "========= close ========\n",
      "\tAROUSAL-s17|Acc=0.77|10-CV=0.6415|STD=0.04775|Time spend=18.222445011138916\n",
      "\tVALENCE-s17|Acc=0.65625|10-CV=0.4525|STD=0.10685|Time spend=21.17281675338745\n",
      "Fitted sphere radius:         95.3 mm\n",
      "Origin head coordinates:      -0.8 15.1 45.3 mm\n",
      "Origin device coordinates:    -0.8 15.1 45.3 mm\n",
      "(100, 32, 65, 65)\n",
      "(100, 32, 65, 65)\n",
      "(100, 32, 65, 65)\n",
      "(100, 32, 65, 65)\n",
      "(100, 32, 65, 65)\n",
      "(100, 32, 65, 65)\n",
      "(100, 32, 65, 65)\n",
      "(100, 32, 65, 65)\n",
      "========= close ========\n",
      "\tAROUSAL-s18|Acc=0.68125|10-CV=0.519|STD=0.11736|Time spend=19.209091663360596\n",
      "\tVALENCE-s18|Acc=0.8125|10-CV=0.728|STD=0.05528|Time spend=21.305474281311035\n",
      "Fitted sphere radius:         95.3 mm\n",
      "Origin head coordinates:      -0.8 15.1 45.3 mm\n",
      "Origin device coordinates:    -0.8 15.1 45.3 mm\n",
      "(100, 32, 65, 65)\n",
      "(100, 32, 65, 65)\n",
      "(100, 32, 65, 65)\n",
      "(100, 32, 65, 65)\n",
      "(100, 32, 65, 65)\n",
      "(100, 32, 65, 65)\n",
      "(100, 32, 65, 65)\n",
      "(100, 32, 65, 65)\n",
      "========= close ========\n",
      "\tAROUSAL-s19|Acc=0.76375|10-CV=0.6275|STD=0.11279|Time spend=18.478869199752808\n",
      "\tVALENCE-s19|Acc=0.77|10-CV=0.4795|STD=0.10764|Time spend=21.15332865715027\n",
      "Fitted sphere radius:         95.3 mm\n",
      "Origin head coordinates:      -0.8 15.1 45.3 mm\n",
      "Origin device coordinates:    -0.8 15.1 45.3 mm\n",
      "(100, 32, 65, 65)\n",
      "(100, 32, 65, 65)\n",
      "(100, 32, 65, 65)\n",
      "(100, 32, 65, 65)\n",
      "(100, 32, 65, 65)\n",
      "(100, 32, 65, 65)\n",
      "(100, 32, 65, 65)\n",
      "(100, 32, 65, 65)\n",
      "========= close ========\n",
      "\tAROUSAL-s20|Acc=0.775|10-CV=0.82|STD=0.08718|Time spend=18.85691475868225\n",
      "\tVALENCE-s20|Acc=0.77625|10-CV=0.6105|STD=0.1144|Time spend=21.342569589614868\n",
      "Fitted sphere radius:         95.3 mm\n",
      "Origin head coordinates:      -0.8 15.1 45.3 mm\n",
      "Origin device coordinates:    -0.8 15.1 45.3 mm\n",
      "(100, 32, 65, 65)\n",
      "(100, 32, 65, 65)\n",
      "(100, 32, 65, 65)\n",
      "(100, 32, 65, 65)\n",
      "(100, 32, 65, 65)\n",
      "(100, 32, 65, 65)\n",
      "(100, 32, 65, 65)\n",
      "(100, 32, 65, 65)\n",
      "========= close ========\n",
      "\tAROUSAL-s21|Acc=0.8|10-CV=0.8|STD=0.1|Time spend=18.593021869659424\n",
      "\tVALENCE-s21|Acc=0.6875|10-CV=0.4495|STD=0.09853|Time spend=21.791279792785645\n",
      "Fitted sphere radius:         95.3 mm\n",
      "Origin head coordinates:      -0.8 15.1 45.3 mm\n",
      "Origin device coordinates:    -0.8 15.1 45.3 mm\n",
      "(100, 32, 65, 65)\n",
      "(100, 32, 65, 65)\n",
      "(100, 32, 65, 65)\n",
      "(100, 32, 65, 65)\n",
      "(100, 32, 65, 65)\n",
      "(100, 32, 65, 65)\n",
      "(100, 32, 65, 65)\n",
      "(100, 32, 65, 65)\n",
      "========= close ========\n",
      "\tAROUSAL-s22|Acc=0.615|10-CV=0.5925|STD=0.06497|Time spend=18.386007070541382\n",
      "\tVALENCE-s22|Acc=0.7525|10-CV=0.6875|STD=0.07132|Time spend=20.786197423934937\n",
      "Fitted sphere radius:         95.3 mm\n",
      "Origin head coordinates:      -0.8 15.1 45.3 mm\n",
      "Origin device coordinates:    -0.8 15.1 45.3 mm\n",
      "(100, 32, 65, 65)\n",
      "(100, 32, 65, 65)\n",
      "(100, 32, 65, 65)\n",
      "(100, 32, 65, 65)\n",
      "(100, 32, 65, 65)\n",
      "(100, 32, 65, 65)\n",
      "(100, 32, 65, 65)\n",
      "(100, 32, 65, 65)\n",
      "========= close ========\n",
      "\tAROUSAL-s23|Acc=0.805|10-CV=0.7715|STD=0.08886|Time spend=19.531593561172485\n",
      "\tVALENCE-s23|Acc=0.795|10-CV=0.595|STD=0.1227|Time spend=22.198461294174194\n",
      "Fitted sphere radius:         95.3 mm\n",
      "Origin head coordinates:      -0.8 15.1 45.3 mm\n",
      "Origin device coordinates:    -0.8 15.1 45.3 mm\n",
      "(100, 32, 65, 65)\n",
      "(100, 32, 65, 65)\n",
      "(100, 32, 65, 65)\n",
      "(100, 32, 65, 65)\n",
      "(100, 32, 65, 65)\n",
      "(100, 32, 65, 65)\n",
      "(100, 32, 65, 65)\n",
      "(100, 32, 65, 65)\n",
      "========= close ========\n",
      "\tAROUSAL-s24|Acc=0.825|10-CV=0.82|STD=0.07483|Time spend=17.892275094985962\n",
      "\tVALENCE-s24|Acc=0.74375|10-CV=0.5845|STD=0.09845|Time spend=20.679990530014038\n",
      "Fitted sphere radius:         95.3 mm\n",
      "Origin head coordinates:      -0.8 15.1 45.3 mm\n",
      "Origin device coordinates:    -0.8 15.1 45.3 mm\n",
      "(100, 32, 65, 65)\n",
      "(100, 32, 65, 65)\n",
      "(100, 32, 65, 65)\n",
      "(100, 32, 65, 65)\n",
      "(100, 32, 65, 65)\n",
      "(100, 32, 65, 65)\n",
      "(100, 32, 65, 65)\n",
      "(100, 32, 65, 65)\n",
      "========= close ========\n",
      "\tAROUSAL-s25|Acc=0.725|10-CV=0.74|STD=0.12806|Time spend=17.798851251602173\n",
      "\tVALENCE-s25|Acc=0.66875|10-CV=0.433|STD=0.09613|Time spend=20.725922346115112\n",
      "Fitted sphere radius:         95.3 mm\n",
      "Origin head coordinates:      -0.8 15.1 45.3 mm\n",
      "Origin device coordinates:    -0.8 15.1 45.3 mm\n",
      "(100, 32, 65, 65)\n",
      "(100, 32, 65, 65)\n",
      "(100, 32, 65, 65)\n",
      "(100, 32, 65, 65)\n",
      "(100, 32, 65, 65)\n",
      "(100, 32, 65, 65)\n",
      "(100, 32, 65, 65)\n",
      "(100, 32, 65, 65)\n",
      "========= close ========\n",
      "\tAROUSAL-s26|Acc=0.7|10-CV=0.5585|STD=0.10301|Time spend=20.17408847808838\n",
      "\tVALENCE-s26|Acc=0.66375|10-CV=0.5785|STD=0.10404|Time spend=22.86131715774536\n",
      "Fitted sphere radius:         95.3 mm\n",
      "Origin head coordinates:      -0.8 15.1 45.3 mm\n",
      "Origin device coordinates:    -0.8 15.1 45.3 mm\n",
      "(100, 32, 65, 65)\n",
      "(100, 32, 65, 65)\n",
      "(100, 32, 65, 65)\n",
      "(100, 32, 65, 65)\n",
      "(100, 32, 65, 65)\n",
      "(100, 32, 65, 65)\n",
      "(100, 32, 65, 65)\n",
      "(100, 32, 65, 65)\n",
      "========= close ========\n",
      "\tAROUSAL-s27|Acc=0.82875|10-CV=0.629|STD=0.09984|Time spend=19.484716176986694\n",
      "\tVALENCE-s27|Acc=0.76625|10-CV=0.6535|STD=0.11034|Time spend=21.664232969284058\n",
      "Fitted sphere radius:         95.3 mm\n",
      "Origin head coordinates:      -0.8 15.1 45.3 mm\n",
      "Origin device coordinates:    -0.8 15.1 45.3 mm\n",
      "(100, 32, 65, 65)\n",
      "(100, 32, 65, 65)\n",
      "(100, 32, 65, 65)\n",
      "(100, 32, 65, 65)\n",
      "(100, 32, 65, 65)\n",
      "(100, 32, 65, 65)\n",
      "(100, 32, 65, 65)\n",
      "(100, 32, 65, 65)\n",
      "========= close ========\n",
      "\tAROUSAL-s28|Acc=0.6725|10-CV=0.5095|STD=0.10492|Time spend=19.67180895805359\n",
      "\tVALENCE-s28|Acc=0.7225|10-CV=0.511|STD=0.09713|Time spend=22.24796152114868\n",
      "Fitted sphere radius:         95.3 mm\n",
      "Origin head coordinates:      -0.8 15.1 45.3 mm\n",
      "Origin device coordinates:    -0.8 15.1 45.3 mm\n",
      "(100, 32, 65, 65)\n",
      "(100, 32, 65, 65)\n",
      "(100, 32, 65, 65)\n",
      "(100, 32, 65, 65)\n",
      "(100, 32, 65, 65)\n",
      "(100, 32, 65, 65)\n",
      "(100, 32, 65, 65)\n",
      "(100, 32, 65, 65)\n",
      "========= close ========\n",
      "\tAROUSAL-s29|Acc=0.70625|10-CV=0.543|STD=0.08606|Time spend=19.58690595626831\n",
      "\tVALENCE-s29|Acc=0.7575|10-CV=0.574|STD=0.05558|Time spend=22.342971801757812\n",
      "Fitted sphere radius:         95.3 mm\n",
      "Origin head coordinates:      -0.8 15.1 45.3 mm\n",
      "Origin device coordinates:    -0.8 15.1 45.3 mm\n",
      "(100, 32, 65, 65)\n",
      "(100, 32, 65, 65)\n",
      "(100, 32, 65, 65)\n",
      "(100, 32, 65, 65)\n",
      "(100, 32, 65, 65)\n",
      "(100, 32, 65, 65)\n",
      "(100, 32, 65, 65)\n",
      "(100, 32, 65, 65)\n",
      "========= close ========\n",
      "\tAROUSAL-s30|Acc=0.73|10-CV=0.457|STD=0.08539|Time spend=21.923317193984985\n",
      "\tVALENCE-s30|Acc=0.6775|10-CV=0.608|STD=0.14135|Time spend=24.549387454986572\n",
      "Fitted sphere radius:         95.3 mm\n",
      "Origin head coordinates:      -0.8 15.1 45.3 mm\n",
      "Origin device coordinates:    -0.8 15.1 45.3 mm\n",
      "(100, 32, 65, 65)\n",
      "(100, 32, 65, 65)\n",
      "(100, 32, 65, 65)\n",
      "(100, 32, 65, 65)\n",
      "(100, 32, 65, 65)\n",
      "(100, 32, 65, 65)\n",
      "(100, 32, 65, 65)\n",
      "(100, 32, 65, 65)\n",
      "========= close ========\n",
      "\tAROUSAL-s31|Acc=0.8325|10-CV=0.5515|STD=0.10854|Time spend=19.93840765953064\n",
      "\tVALENCE-s31|Acc=0.8025|10-CV=0.5035|STD=0.11122|Time spend=23.101561784744263\n",
      "Fitted sphere radius:         95.3 mm\n",
      "Origin head coordinates:      -0.8 15.1 45.3 mm\n",
      "Origin device coordinates:    -0.8 15.1 45.3 mm\n",
      "(100, 32, 65, 65)\n",
      "(100, 32, 65, 65)\n",
      "(100, 32, 65, 65)\n",
      "(100, 32, 65, 65)\n",
      "(100, 32, 65, 65)\n",
      "(100, 32, 65, 65)\n",
      "(100, 32, 65, 65)\n",
      "(100, 32, 65, 65)\n",
      "========= close ========\n",
      "\tAROUSAL-s32|Acc=0.715|10-CV=0.649|STD=0.07892|Time spend=18.573219537734985\n",
      "\tVALENCE-s32|Acc=0.6775|10-CV=0.4845|STD=0.08196|Time spend=21.40269923210144\n",
      "AROUSAL|Acc=0.7526171875|10-CV=0.6112343750000001|STD=0.09725023513327814\n",
      "VALENCE|Acc=0.7540624999999999|10-CV=0.59565625|STD=0.09840440843779798\n"
     ]
    }
   ],
   "source": [
    "accs, cv_means, cv_stds = [],[],[]\n",
    "accs_v, cv_means_v, cv_stds_v = [],[],[]\n",
    "reports = []\n",
    "for filename in (pbar := tqdm(dataset.get_file_list())):\n",
    "    start = time.time()\n",
    "    pbar.set_description(filename)\n",
    "    data, labels, groups = dataset.get_data(filename, stimuli=Dataset_subjectDependent.STIMULI_AROUSAL, return_type='mne', sfreq=128)\n",
    "    \n",
    "    data_csd = mne.preprocessing.compute_current_source_density(data)\n",
    "\n",
    "    plv = calculate_plv(data_csd.get_data(), n_jobs=8)\n",
    "\n",
    "    _,acc,cross,train_report = train_model(plv, labels.squeeze(), groups, filename=filename, return_text=True)\n",
    "    report = f\"\\tAROUSAL-{filename}|Acc={round(acc,5)}|10-CV={round(cross.mean(),5)}|STD={round(cross.std(),5)}|Time spend={time.time() - start}\"\n",
    "    print(report)\n",
    "    reports.append(report)\n",
    "    reports.append(train_report)\n",
    "    accs.append(acc)\n",
    "    cv_means.append(cross.mean())\n",
    "    cv_stds.append(cross.std())\n",
    "\n",
    "    _, labels_v, groups_v = dataset.get_data(filename, stimuli=Dataset_subjectDependent.STIMULI_VALENCE, return_type='mne', sfreq=128)\n",
    "    _,acc,cross,train_report = train_model(plv, labels_v.squeeze(), groups_v, filename=filename, return_text=True)\n",
    "    report = f\"\\tVALENCE-{filename}|Acc={round(acc,5)}|10-CV={round(cross.mean(),5)}|STD={round(cross.std(),5)}|Time spend={time.time() - start}\"\n",
    "    print(report)\n",
    "    reports.append(report)\n",
    "    reports.append(train_report)\n",
    "    accs_v.append(acc)\n",
    "    cv_means_v.append(cross.mean())\n",
    "    cv_stds_v.append(cross.std())\n",
    "    # break\n",
    "    # count+=1\n",
    "    # if(count == 5): break\n",
    "report = f\"AROUSAL|Acc={sum(accs)/len(accs)}|10-CV={sum(cv_means)/len(cv_means)}|STD={sum(cv_stds)/len(cv_stds)}\"\n",
    "print(report)\n",
    "reports.append(report)\n",
    "report = f\"VALENCE|Acc={sum(accs_v)/len(accs_v)}|10-CV={sum(cv_means_v)/len(cv_means_v)}|STD={sum(cv_stds_v)/len(cv_stds_v)}\"\n",
    "print(report)\n",
    "reports.append(report)"
   ]
  },
  {
   "cell_type": "code",
   "execution_count": 15,
   "metadata": {},
   "outputs": [
    {
     "name": "stdout",
     "output_type": "stream",
     "text": [
      "\tAROUSAL-s01|Acc=0.8725|10-CV=0.555|STD=0.13444|Time spend=21.39948844909668\n",
      "\tVALENCE-s01|Acc=0.84875|10-CV=0.4985|STD=0.07057|Time spend=24.54912233352661\n",
      "\tAROUSAL-s02|Acc=0.6925|10-CV=0.5225|STD=0.08741|Time spend=22.714601755142212\n",
      "\tVALENCE-s02|Acc=0.73625|10-CV=0.6695|STD=0.10125|Time spend=25.16535496711731\n",
      "\tAROUSAL-s03|Acc=0.8|10-CV=0.73|STD=0.15524|Time spend=20.42439579963684\n",
      "-----WARNING: Model s03 failed to learn: sum(ans)=0.0 sum(y)=160.0 len(y)=800\n",
      "\tVALENCE-s03|Acc=0.75125|10-CV=0.596|STD=0.18342|Time spend=23.27506732940674\n",
      "\tAROUSAL-s04|Acc=0.72625|10-CV=0.547|STD=0.11025|Time spend=19.966647624969482\n",
      "\tVALENCE-s04|Acc=0.7225|10-CV=0.593|STD=0.07688|Time spend=22.559674978256226\n",
      "\tAROUSAL-s05|Acc=0.71125|10-CV=0.482|STD=0.11782|Time spend=19.66467308998108\n",
      "\tVALENCE-s05|Acc=0.69625|10-CV=0.549|STD=0.06963|Time spend=22.62801480293274\n",
      "\tAROUSAL-s06|Acc=0.64625|10-CV=0.505|STD=0.12363|Time spend=19.757647275924683\n",
      "\tVALENCE-s06|Acc=0.75|10-CV=0.72|STD=0.07483|Time spend=22.183897733688354\n",
      "-----WARNING: Model s06 failed to learn: sum(ans)=800.0 sum(y)=600.0 len(y)=800\n",
      "\tAROUSAL-s07|Acc=0.76375|10-CV=0.591|STD=0.07687|Time spend=20.236046075820923\n",
      "\tVALENCE-s07|Acc=0.7975|10-CV=0.6585|STD=0.1408|Time spend=22.617307662963867\n",
      "\tAROUSAL-s08|Acc=0.8|10-CV=0.4185|STD=0.1262|Time spend=19.25060224533081\n",
      "\tVALENCE-s08|Acc=0.81625|10-CV=0.498|STD=0.08385|Time spend=22.418049097061157\n",
      "\tAROUSAL-s09|Acc=0.7475|10-CV=0.515|STD=0.08941|Time spend=18.483391761779785\n",
      "\tVALENCE-s09|Acc=0.77125|10-CV=0.6625|STD=0.08698|Time spend=21.019890069961548\n",
      "\tAROUSAL-s10|Acc=0.76375|10-CV=0.601|STD=0.09316|Time spend=19.627840757369995\n",
      "\tVALENCE-s10|Acc=0.86|10-CV=0.791|STD=0.0794|Time spend=21.683255195617676\n",
      "\tAROUSAL-s11|Acc=0.6775|10-CV=0.567|STD=0.05178|Time spend=18.40301275253296\n",
      "\tVALENCE-s11|Acc=0.71375|10-CV=0.539|STD=0.14956|Time spend=20.925615549087524\n",
      "\tAROUSAL-s12|Acc=0.825|10-CV=0.83|STD=0.1005|Time spend=18.87792682647705\n",
      "-----WARNING: Model s12 failed to learn: sum(ans)=800.0 sum(y)=660.0 len(y)=800\n",
      "\tVALENCE-s12|Acc=0.7225|10-CV=0.4885|STD=0.14706|Time spend=21.67649483680725\n",
      "\tAROUSAL-s13|Acc=0.85|10-CV=0.84|STD=0.06633|Time spend=18.481210470199585\n",
      "-----WARNING: Model s13 failed to learn: sum(ans)=800.0 sum(y)=680.0 len(y)=800\n",
      "\tVALENCE-s13|Acc=0.78875|10-CV=0.75|STD=0.10279|Time spend=20.621482610702515\n",
      "\tAROUSAL-s14|Acc=0.70625|10-CV=0.63|STD=0.09693|Time spend=18.616933822631836\n",
      "\tVALENCE-s14|Acc=0.785|10-CV=0.6825|STD=0.0392|Time spend=21.183183908462524\n",
      "\tAROUSAL-s15|Acc=0.79375|10-CV=0.5325|STD=0.12102|Time spend=19.215043544769287\n",
      "\tVALENCE-s15|Acc=0.88375|10-CV=0.774|STD=0.06332|Time spend=21.365147590637207\n",
      "\tAROUSAL-s16|Acc=0.7625|10-CV=0.4635|STD=0.07253|Time spend=19.34485936164856\n",
      "\tVALENCE-s16|Acc=0.75625|10-CV=0.658|STD=0.10647|Time spend=21.865159273147583\n",
      "\tAROUSAL-s17|Acc=0.77|10-CV=0.6415|STD=0.04775|Time spend=18.222445011138916\n",
      "\tVALENCE-s17|Acc=0.65625|10-CV=0.4525|STD=0.10685|Time spend=21.17281675338745\n",
      "\tAROUSAL-s18|Acc=0.68125|10-CV=0.519|STD=0.11736|Time spend=19.209091663360596\n",
      "\tVALENCE-s18|Acc=0.8125|10-CV=0.728|STD=0.05528|Time spend=21.305474281311035\n",
      "\tAROUSAL-s19|Acc=0.76375|10-CV=0.6275|STD=0.11279|Time spend=18.478869199752808\n",
      "\tVALENCE-s19|Acc=0.77|10-CV=0.4795|STD=0.10764|Time spend=21.15332865715027\n",
      "\tAROUSAL-s20|Acc=0.775|10-CV=0.82|STD=0.08718|Time spend=18.85691475868225\n",
      "-----WARNING: Model s20 failed to learn: sum(ans)=800.0 sum(y)=620.0 len(y)=800\n",
      "\tVALENCE-s20|Acc=0.77625|10-CV=0.6105|STD=0.1144|Time spend=21.342569589614868\n",
      "\tAROUSAL-s21|Acc=0.8|10-CV=0.8|STD=0.1|Time spend=18.593021869659424\n",
      "-----WARNING: Model s21 failed to learn: sum(ans)=800.0 sum(y)=640.0 len(y)=800\n",
      "\tVALENCE-s21|Acc=0.6875|10-CV=0.4495|STD=0.09853|Time spend=21.791279792785645\n",
      "\tAROUSAL-s22|Acc=0.615|10-CV=0.5925|STD=0.06497|Time spend=18.386007070541382\n",
      "\tVALENCE-s22|Acc=0.7525|10-CV=0.6875|STD=0.07132|Time spend=20.786197423934937\n",
      "\tAROUSAL-s23|Acc=0.805|10-CV=0.7715|STD=0.08886|Time spend=19.531593561172485\n",
      "\tVALENCE-s23|Acc=0.795|10-CV=0.595|STD=0.1227|Time spend=22.198461294174194\n",
      "\tAROUSAL-s24|Acc=0.825|10-CV=0.82|STD=0.07483|Time spend=17.892275094985962\n",
      "-----WARNING: Model s24 failed to learn: sum(ans)=800.0 sum(y)=660.0 len(y)=800\n",
      "\tVALENCE-s24|Acc=0.74375|10-CV=0.5845|STD=0.09845|Time spend=20.679990530014038\n",
      "\tAROUSAL-s25|Acc=0.725|10-CV=0.74|STD=0.12806|Time spend=17.798851251602173\n",
      "-----WARNING: Model s25 failed to learn: sum(ans)=800.0 sum(y)=580.0 len(y)=800\n",
      "\tVALENCE-s25|Acc=0.66875|10-CV=0.433|STD=0.09613|Time spend=20.725922346115112\n",
      "\tAROUSAL-s26|Acc=0.7|10-CV=0.5585|STD=0.10301|Time spend=20.17408847808838\n",
      "\tVALENCE-s26|Acc=0.66375|10-CV=0.5785|STD=0.10404|Time spend=22.86131715774536\n",
      "\tAROUSAL-s27|Acc=0.82875|10-CV=0.629|STD=0.09984|Time spend=19.484716176986694\n",
      "\tVALENCE-s27|Acc=0.76625|10-CV=0.6535|STD=0.11034|Time spend=21.664232969284058\n",
      "\tAROUSAL-s28|Acc=0.6725|10-CV=0.5095|STD=0.10492|Time spend=19.67180895805359\n",
      "\tVALENCE-s28|Acc=0.7225|10-CV=0.511|STD=0.09713|Time spend=22.24796152114868\n",
      "\tAROUSAL-s29|Acc=0.70625|10-CV=0.543|STD=0.08606|Time spend=19.58690595626831\n",
      "\tVALENCE-s29|Acc=0.7575|10-CV=0.574|STD=0.05558|Time spend=22.342971801757812\n",
      "\tAROUSAL-s30|Acc=0.73|10-CV=0.457|STD=0.08539|Time spend=21.923317193984985\n",
      "\tVALENCE-s30|Acc=0.6775|10-CV=0.608|STD=0.14135|Time spend=24.549387454986572\n",
      "\tAROUSAL-s31|Acc=0.8325|10-CV=0.5515|STD=0.10854|Time spend=19.93840765953064\n",
      "\tVALENCE-s31|Acc=0.8025|10-CV=0.5035|STD=0.11122|Time spend=23.101561784744263\n",
      "\tAROUSAL-s32|Acc=0.715|10-CV=0.649|STD=0.07892|Time spend=18.573219537734985\n",
      "\tVALENCE-s32|Acc=0.6775|10-CV=0.4845|STD=0.08196|Time spend=21.40269923210144\n",
      "AROUSAL|Acc=0.7526171875|10-CV=0.6112343750000001|STD=0.09725023513327814\n",
      "VALENCE|Acc=0.7540624999999999|10-CV=0.59565625|STD=0.09840440843779798\n",
      "TOTAL|Acc=0.7533398437499998|10-CV=0.6034453125|STD=0.09782732178553806\n"
     ]
    }
   ],
   "source": [
    "for text in reports:\n",
    "    if(text == None): continue\n",
    "    print(text)\n",
    "\n",
    "accs.extend(accs_v)\n",
    "cv_means.extend(cv_means_v)\n",
    "cv_stds.extend(cv_stds_v)\n",
    "print(f\"TOTAL|Acc={sum(accs)/len(accs)}|10-CV={sum(cv_means)/len(cv_means)}|STD={sum(cv_stds)/len(cv_stds)}\")"
   ]
  },
  {
   "cell_type": "markdown",
   "metadata": {},
   "source": [
    "### 4.4 $ \\text{PLI}(j,k) =  \\frac{1}{T} | \\Sigma^{T}_{t=1} \\text{sign}(Im[e^{i (\\phi^{t}_{j} - \\phi^{t}_{k})}])  | $"
   ]
  },
  {
   "cell_type": "code",
   "execution_count": 16,
   "metadata": {},
   "outputs": [],
   "source": [
    "# bands = [(0,4), (4,8), (8,12), (12,30), (30,64)]\n",
    "def calculate_stft(signals, sfreq):\n",
    "    from scipy import signal\n",
    "    f_range, t_range, Z = signal.stft(signals, sfreq, nperseg=sfreq//10, nfft=sfreq)\n",
    "    magnitude = np.abs(Z) \n",
    "    phase = np.angle(Z)\n",
    "    return magnitude, phase, f_range, t_range\n",
    "\n",
    "def PLI_stft(p_id, phase):\n",
    "    # (32, 65, 12) => (channels, freqs, times)\n",
    "    # print(f\"p_id:{p_id} - data to run {phase.shape}\")\n",
    "    from itertools import combinations\n",
    "    pli = []\n",
    "    # count = 0\n",
    "    for index in range(phase.shape[0]):\n",
    "        pli_epoch = []\n",
    "        for comb in combinations(list(range(phase.shape[1])), 2):\n",
    "            # shape = (65,12)\n",
    "            phase_a, phase_b = phase[index, comb[0]], phase[index, comb[1]]\n",
    "            phase_diff = phase_a - phase_b\n",
    "            # sum along the time size\n",
    "            pli_ab = np.abs(np.average(   np.sign(np.imag(   np.exp(complex(0,1) * phase_diff) ))  , axis=1))\n",
    "            pli_epoch.append(pli_ab)\n",
    "        pli_epoch = np.vstack(pli_epoch)\n",
    "        pli_epoch_5 = np.concatenate([ pli_epoch[:,0:4].mean(axis=1).reshape(-1,1),\n",
    "                                        pli_epoch[:,4:8].mean(axis=1).reshape(-1,1),\n",
    "                                        pli_epoch[:,8:12].mean(axis=1).reshape(-1,1),\n",
    "                                        pli_epoch[:,12:30].mean(axis=1).reshape(-1,1),\n",
    "                                        pli_epoch[:,30:65].mean(axis=1).reshape(-1,1)], axis=0)\n",
    "        pli.append(np.expand_dims(pli_epoch_5, axis=0))\n",
    "        # count += 1\n",
    "        # if(count == 3): break\n",
    "    # shape (496, 65)\n",
    "    # 496 is number of pairs that is not duplicate\n",
    "    # 65 is number of phase of frequencies\n",
    "    pli = np.vstack( pli )\n",
    "    return pli.squeeze()\n",
    "\n",
    "def calculate_pli(data, n_jobs=8):\n",
    "    \"\"\" \n",
    "    Input: Expect data to have (n_epochs, n_channels, n_samples)\n",
    "    Output: (n_epochs, n_conn, n_freqs ) => n_conn = n_channels!/(2!(n_channels-2)!)\n",
    "    \"\"\"\n",
    "    from multiprocessing import Pool\n",
    "\n",
    "    try:\n",
    "        t_out = 60000\n",
    "        pool = Pool()\n",
    "        p_list = []\n",
    "        ans_list = []\n",
    "        num_p = n_jobs\n",
    "        indices = np.array_split(np.arange(data.shape[0]), num_p)\n",
    "        _, phase, _, _ = calculate_stft(data, 128)\n",
    "        for p_id in range(num_p):\n",
    "            p_list.append(pool.apply_async(PLI_stft, [p_id, phase[indices[p_id]] ]))\n",
    "        for p_id in range(num_p):\n",
    "            ans_list.append( p_list[p_id].get(timeout=t_out) )\n",
    "        # ans_list\n",
    "    finally:\n",
    "        print(\"========= close ========\")\n",
    "        pool.close() \n",
    "        pool.terminate()\n",
    "    return np.vstack(ans_list)\n"
   ]
  },
  {
   "cell_type": "code",
   "execution_count": 17,
   "metadata": {},
   "outputs": [
    {
     "data": {
      "application/vnd.jupyter.widget-view+json": {
       "model_id": "436c71f60093411b8265b4a60edce868",
       "version_major": 2,
       "version_minor": 0
      },
      "text/plain": [
       "  0%|          | 0/32 [00:00<?, ?it/s]"
      ]
     },
     "metadata": {},
     "output_type": "display_data"
    },
    {
     "name": "stdout",
     "output_type": "stream",
     "text": [
      "Fitted sphere radius:         95.3 mm\n",
      "Origin head coordinates:      -0.8 15.1 45.3 mm\n",
      "Origin device coordinates:    -0.8 15.1 45.3 mm\n",
      "========= close ========\n",
      "\tAROUSAL-s01|Acc=0.9425|10-CV=0.532|STD=0.12554|Time spend=20.379687070846558\n",
      "\tVALENCE-s01|Acc=0.9925|10-CV=0.45|STD=0.06561|Time spend=23.85644292831421\n",
      "Fitted sphere radius:         95.3 mm\n",
      "Origin head coordinates:      -0.8 15.1 45.3 mm\n",
      "Origin device coordinates:    -0.8 15.1 45.3 mm\n",
      "========= close ========\n",
      "\tAROUSAL-s02|Acc=0.845|10-CV=0.5675|STD=0.10783|Time spend=20.168811321258545\n",
      "\tVALENCE-s02|Acc=0.92875|10-CV=0.4405|STD=0.08135|Time spend=23.630865812301636\n",
      "Fitted sphere radius:         95.3 mm\n",
      "Origin head coordinates:      -0.8 15.1 45.3 mm\n",
      "Origin device coordinates:    -0.8 15.1 45.3 mm\n",
      "========= close ========\n",
      "\tAROUSAL-s03|Acc=0.845|10-CV=0.73|STD=0.15524|Time spend=19.63386631011963\n",
      "\tVALENCE-s03|Acc=0.9575|10-CV=0.441|STD=0.11968|Time spend=23.03820824623108\n",
      "Fitted sphere radius:         95.3 mm\n",
      "Origin head coordinates:      -0.8 15.1 45.3 mm\n",
      "Origin device coordinates:    -0.8 15.1 45.3 mm\n",
      "========= close ========\n",
      "\tAROUSAL-s04|Acc=0.88125|10-CV=0.562|STD=0.11535|Time spend=19.240538358688354\n",
      "\tVALENCE-s04|Acc=0.84125|10-CV=0.511|STD=0.10459|Time spend=22.49614119529724\n",
      "Fitted sphere radius:         95.3 mm\n",
      "Origin head coordinates:      -0.8 15.1 45.3 mm\n",
      "Origin device coordinates:    -0.8 15.1 45.3 mm\n",
      "========= close ========\n",
      "\tAROUSAL-s05|Acc=0.86625|10-CV=0.4315|STD=0.10344|Time spend=20.61870765686035\n",
      "\tVALENCE-s05|Acc=0.72375|10-CV=0.565|STD=0.07909|Time spend=23.893173694610596\n",
      "Fitted sphere radius:         95.3 mm\n",
      "Origin head coordinates:      -0.8 15.1 45.3 mm\n",
      "Origin device coordinates:    -0.8 15.1 45.3 mm\n",
      "========= close ========\n",
      "\tAROUSAL-s06|Acc=0.9425|10-CV=0.5045|STD=0.12152|Time spend=20.369267463684082\n",
      "\tVALENCE-s06|Acc=0.845|10-CV=0.72|STD=0.07483|Time spend=23.651084899902344\n",
      "Fitted sphere radius:         95.3 mm\n",
      "Origin head coordinates:      -0.8 15.1 45.3 mm\n",
      "Origin device coordinates:    -0.8 15.1 45.3 mm\n",
      "========= close ========\n",
      "\tAROUSAL-s07|Acc=0.9525|10-CV=0.626|STD=0.10997|Time spend=19.423457384109497\n",
      "\tVALENCE-s07|Acc=0.91375|10-CV=0.6895|STD=0.13672|Time spend=22.736976146697998\n",
      "Fitted sphere radius:         95.3 mm\n",
      "Origin head coordinates:      -0.8 15.1 45.3 mm\n",
      "Origin device coordinates:    -0.8 15.1 45.3 mm\n",
      "========= close ========\n",
      "\tAROUSAL-s08|Acc=0.9725|10-CV=0.465|STD=0.10773|Time spend=19.72445559501648\n",
      "\tVALENCE-s08|Acc=0.96375|10-CV=0.513|STD=0.08793|Time spend=23.145464181900024\n",
      "Fitted sphere radius:         95.3 mm\n",
      "Origin head coordinates:      -0.8 15.1 45.3 mm\n",
      "Origin device coordinates:    -0.8 15.1 45.3 mm\n",
      "========= close ========\n",
      "\tAROUSAL-s09|Acc=0.81375|10-CV=0.533|STD=0.11005|Time spend=18.461596488952637\n",
      "\tVALENCE-s09|Acc=0.92875|10-CV=0.4115|STD=0.11803|Time spend=21.76473879814148\n",
      "Fitted sphere radius:         95.3 mm\n",
      "Origin head coordinates:      -0.8 15.1 45.3 mm\n",
      "Origin device coordinates:    -0.8 15.1 45.3 mm\n",
      "========= close ========\n",
      "\tAROUSAL-s10|Acc=0.96125|10-CV=0.4805|STD=0.05905|Time spend=21.226440906524658\n",
      "\tVALENCE-s10|Acc=0.9725|10-CV=0.404|STD=0.13586|Time spend=24.583209991455078\n",
      "Fitted sphere radius:         95.3 mm\n",
      "Origin head coordinates:      -0.8 15.1 45.3 mm\n",
      "Origin device coordinates:    -0.8 15.1 45.3 mm\n",
      "========= close ========\n",
      "\tAROUSAL-s11|Acc=0.835|10-CV=0.6095|STD=0.0674|Time spend=21.36547827720642\n",
      "\tVALENCE-s11|Acc=0.8425|10-CV=0.5295|STD=0.13917|Time spend=24.859872579574585\n",
      "Fitted sphere radius:         95.3 mm\n",
      "Origin head coordinates:      -0.8 15.1 45.3 mm\n",
      "Origin device coordinates:    -0.8 15.1 45.3 mm\n",
      "========= close ========\n",
      "\tAROUSAL-s12|Acc=0.8625|10-CV=0.83|STD=0.1005|Time spend=19.65693473815918\n",
      "\tVALENCE-s12|Acc=0.975|10-CV=0.4165|STD=0.10847|Time spend=23.219905376434326\n",
      "Fitted sphere radius:         95.3 mm\n",
      "Origin head coordinates:      -0.8 15.1 45.3 mm\n",
      "Origin device coordinates:    -0.8 15.1 45.3 mm\n",
      "========= close ========\n",
      "\tAROUSAL-s13|Acc=0.8825|10-CV=0.84|STD=0.06633|Time spend=19.10369038581848\n",
      "\tVALENCE-s13|Acc=0.92375|10-CV=0.489|STD=0.10802|Time spend=22.614572763442993\n",
      "Fitted sphere radius:         95.3 mm\n",
      "Origin head coordinates:      -0.8 15.1 45.3 mm\n",
      "Origin device coordinates:    -0.8 15.1 45.3 mm\n",
      "========= close ========\n",
      "\tAROUSAL-s14|Acc=0.835|10-CV=0.6495|STD=0.10277|Time spend=20.331507921218872\n",
      "\tVALENCE-s14|Acc=0.97875|10-CV=0.403|STD=0.0855|Time spend=23.856152772903442\n",
      "Fitted sphere radius:         95.3 mm\n",
      "Origin head coordinates:      -0.8 15.1 45.3 mm\n",
      "Origin device coordinates:    -0.8 15.1 45.3 mm\n",
      "========= close ========\n",
      "\tAROUSAL-s15|Acc=0.98875|10-CV=0.4095|STD=0.06973|Time spend=20.5437433719635\n",
      "\tVALENCE-s15|Acc=0.985|10-CV=0.4675|STD=0.07574|Time spend=24.124552965164185\n",
      "Fitted sphere radius:         95.3 mm\n",
      "Origin head coordinates:      -0.8 15.1 45.3 mm\n",
      "Origin device coordinates:    -0.8 15.1 45.3 mm\n",
      "========= close ========\n",
      "\tAROUSAL-s16|Acc=0.99|10-CV=0.3735|STD=0.11653|Time spend=19.90102243423462\n",
      "\tVALENCE-s16|Acc=0.93625|10-CV=0.6175|STD=0.07356|Time spend=23.31428027153015\n",
      "Fitted sphere radius:         95.3 mm\n",
      "Origin head coordinates:      -0.8 15.1 45.3 mm\n",
      "Origin device coordinates:    -0.8 15.1 45.3 mm\n",
      "========= close ========\n",
      "\tAROUSAL-s17|Acc=0.82625|10-CV=0.546|STD=0.08077|Time spend=19.30699896812439\n",
      "\tVALENCE-s17|Acc=0.9275|10-CV=0.447|STD=0.10939|Time spend=22.761653184890747\n",
      "Fitted sphere radius:         95.3 mm\n",
      "Origin head coordinates:      -0.8 15.1 45.3 mm\n",
      "Origin device coordinates:    -0.8 15.1 45.3 mm\n",
      "========= close ========\n",
      "\tAROUSAL-s18|Acc=0.85625|10-CV=0.574|STD=0.10264|Time spend=21.439821243286133\n",
      "\tVALENCE-s18|Acc=0.9225|10-CV=0.5255|STD=0.11297|Time spend=27.167348623275757\n",
      "Fitted sphere radius:         95.3 mm\n",
      "Origin head coordinates:      -0.8 15.1 45.3 mm\n",
      "Origin device coordinates:    -0.8 15.1 45.3 mm\n",
      "========= close ========\n",
      "\tAROUSAL-s19|Acc=0.70875|10-CV=0.625|STD=0.125|Time spend=23.320635318756104\n",
      "\tVALENCE-s19|Acc=0.835|10-CV=0.4335|STD=0.11847|Time spend=27.608681440353394\n",
      "Fitted sphere radius:         95.3 mm\n",
      "Origin head coordinates:      -0.8 15.1 45.3 mm\n",
      "Origin device coordinates:    -0.8 15.1 45.3 mm\n",
      "========= close ========\n",
      "\tAROUSAL-s20|Acc=0.85125|10-CV=0.82|STD=0.08718|Time spend=24.33301544189453\n",
      "\tVALENCE-s20|Acc=0.9275|10-CV=0.459|STD=0.13243|Time spend=28.629449129104614\n",
      "Fitted sphere radius:         95.3 mm\n",
      "Origin head coordinates:      -0.8 15.1 45.3 mm\n",
      "Origin device coordinates:    -0.8 15.1 45.3 mm\n",
      "========= close ========\n",
      "\tAROUSAL-s21|Acc=0.81625|10-CV=0.8|STD=0.1|Time spend=23.754653692245483\n",
      "\tVALENCE-s21|Acc=0.94875|10-CV=0.4035|STD=0.07138|Time spend=28.11211585998535\n",
      "Fitted sphere radius:         95.3 mm\n",
      "Origin head coordinates:      -0.8 15.1 45.3 mm\n",
      "Origin device coordinates:    -0.8 15.1 45.3 mm\n",
      "========= close ========\n",
      "\tAROUSAL-s22|Acc=0.765|10-CV=0.5915|STD=0.06087|Time spend=23.811421394348145\n",
      "\tVALENCE-s22|Acc=0.89875|10-CV=0.4915|STD=0.07934|Time spend=28.219026803970337\n",
      "Fitted sphere radius:         95.3 mm\n",
      "Origin head coordinates:      -0.8 15.1 45.3 mm\n",
      "Origin device coordinates:    -0.8 15.1 45.3 mm\n",
      "========= close ========\n",
      "\tAROUSAL-s23|Acc=0.90875|10-CV=0.78|STD=0.09798|Time spend=24.935407400131226\n",
      "\tVALENCE-s23|Acc=0.95875|10-CV=0.604|STD=0.14051|Time spend=29.520765781402588\n",
      "Fitted sphere radius:         95.3 mm\n",
      "Origin head coordinates:      -0.8 15.1 45.3 mm\n",
      "Origin device coordinates:    -0.8 15.1 45.3 mm\n",
      "========= close ========\n",
      "\tAROUSAL-s24|Acc=0.83|10-CV=0.82|STD=0.07483|Time spend=24.22427988052368\n",
      "\tVALENCE-s24|Acc=0.93375|10-CV=0.433|STD=0.14435|Time spend=28.573293924331665\n",
      "Fitted sphere radius:         95.3 mm\n",
      "Origin head coordinates:      -0.8 15.1 45.3 mm\n",
      "Origin device coordinates:    -0.8 15.1 45.3 mm\n",
      "========= close ========\n",
      "\tAROUSAL-s25|Acc=0.78125|10-CV=0.74|STD=0.12806|Time spend=23.08300542831421\n",
      "\tVALENCE-s25|Acc=0.93375|10-CV=0.3875|STD=0.09953|Time spend=27.6566801071167\n",
      "Fitted sphere radius:         95.3 mm\n",
      "Origin head coordinates:      -0.8 15.1 45.3 mm\n",
      "Origin device coordinates:    -0.8 15.1 45.3 mm\n",
      "========= close ========\n",
      "\tAROUSAL-s26|Acc=0.92875|10-CV=0.507|STD=0.1003|Time spend=23.50975489616394\n",
      "\tVALENCE-s26|Acc=0.825|10-CV=0.618|STD=0.13857|Time spend=27.96519637107849\n",
      "Fitted sphere radius:         95.3 mm\n",
      "Origin head coordinates:      -0.8 15.1 45.3 mm\n",
      "Origin device coordinates:    -0.8 15.1 45.3 mm\n",
      "========= close ========\n",
      "\tAROUSAL-s27|Acc=0.92875|10-CV=0.65|STD=0.1118|Time spend=23.126746892929077\n",
      "\tVALENCE-s27|Acc=0.89125|10-CV=0.67|STD=0.12689|Time spend=27.590397834777832\n",
      "Fitted sphere radius:         95.3 mm\n",
      "Origin head coordinates:      -0.8 15.1 45.3 mm\n",
      "Origin device coordinates:    -0.8 15.1 45.3 mm\n",
      "========= close ========\n",
      "\tAROUSAL-s28|Acc=0.9475|10-CV=0.4795|STD=0.0838|Time spend=21.96181321144104\n",
      "\tVALENCE-s28|Acc=0.87375|10-CV=0.5765|STD=0.15429|Time spend=26.733047246932983\n",
      "Fitted sphere radius:         95.3 mm\n",
      "Origin head coordinates:      -0.8 15.1 45.3 mm\n",
      "Origin device coordinates:    -0.8 15.1 45.3 mm\n",
      "========= close ========\n",
      "\tAROUSAL-s29|Acc=0.86875|10-CV=0.5265|STD=0.0842|Time spend=22.613346099853516\n",
      "\tVALENCE-s29|Acc=0.91875|10-CV=0.5325|STD=0.09796|Time spend=26.919325828552246\n",
      "Fitted sphere radius:         95.3 mm\n",
      "Origin head coordinates:      -0.8 15.1 45.3 mm\n",
      "Origin device coordinates:    -0.8 15.1 45.3 mm\n",
      "========= close ========\n",
      "\tAROUSAL-s30|Acc=0.95625|10-CV=0.434|STD=0.07949|Time spend=24.78060531616211\n",
      "\tVALENCE-s30|Acc=0.78|10-CV=0.619|STD=0.14508|Time spend=29.296156644821167\n",
      "Fitted sphere radius:         95.3 mm\n",
      "Origin head coordinates:      -0.8 15.1 45.3 mm\n",
      "Origin device coordinates:    -0.8 15.1 45.3 mm\n",
      "========= close ========\n",
      "\tAROUSAL-s31|Acc=0.99375|10-CV=0.4735|STD=0.1046|Time spend=24.18764305114746\n",
      "\tVALENCE-s31|Acc=0.97125|10-CV=0.4805|STD=0.09393|Time spend=29.04414463043213\n",
      "Fitted sphere radius:         95.3 mm\n",
      "Origin head coordinates:      -0.8 15.1 45.3 mm\n",
      "Origin device coordinates:    -0.8 15.1 45.3 mm\n",
      "========= close ========\n",
      "\tAROUSAL-s32|Acc=0.84375|10-CV=0.7375|STD=0.12506|Time spend=24.86107563972473\n",
      "\tVALENCE-s32|Acc=0.955|10-CV=0.3955|STD=0.13404|Time spend=29.599581241607666\n",
      "AROUSAL|Acc=0.8821093750000001|10-CV=0.6015156250000001|STD=0.09954950634532474\n",
      "VALENCE|Acc=0.9128124999999999|10-CV=0.5045312499999999|STD=0.10916511546933104\n"
     ]
    }
   ],
   "source": [
    "accs, cv_means, cv_stds = [],[],[]\n",
    "accs_v, cv_means_v, cv_stds_v = [],[],[]\n",
    "reports = []\n",
    "for filename in (pbar := tqdm(dataset.get_file_list())):\n",
    "    start = time.time()\n",
    "    pbar.set_description(filename)\n",
    "    data, labels, groups = dataset.get_data(filename, stimuli=Dataset_subjectDependent.STIMULI_AROUSAL, return_type='mne', sfreq=128)\n",
    "    \n",
    "    data_csd = mne.preprocessing.compute_current_source_density(data)\n",
    "\n",
    "    pli = calculate_pli(data_csd.get_data(), n_jobs=8)\n",
    "\n",
    "    _,acc,cross,train_report = train_model(pli, labels.squeeze(), groups, filename=filename, return_text=True)\n",
    "    report = f\"\\tAROUSAL-{filename}|Acc={round(acc,5)}|10-CV={round(cross.mean(),5)}|STD={round(cross.std(),5)}|Time spend={time.time() - start}\"\n",
    "    print(report)\n",
    "    reports.append(report)\n",
    "    reports.append(train_report)\n",
    "    accs.append(acc)\n",
    "    cv_means.append(cross.mean())\n",
    "    cv_stds.append(cross.std())\n",
    "\n",
    "    _, labels_v, groups_v = dataset.get_data(filename, stimuli=Dataset_subjectDependent.STIMULI_VALENCE, return_type='mne', sfreq=128)\n",
    "    _,acc,cross,train_report = train_model(pli, labels_v.squeeze(), groups_v, filename=filename, return_text=True)\n",
    "    report = f\"\\tVALENCE-{filename}|Acc={round(acc,5)}|10-CV={round(cross.mean(),5)}|STD={round(cross.std(),5)}|Time spend={time.time() - start}\"\n",
    "    print(report)\n",
    "    reports.append(report)\n",
    "    reports.append(train_report)\n",
    "    accs_v.append(acc)\n",
    "    cv_means_v.append(cross.mean())\n",
    "    cv_stds_v.append(cross.std())\n",
    "    # break\n",
    "    # count+=1\n",
    "    # if(count == 5): break\n",
    "report = f\"AROUSAL|Acc={sum(accs)/len(accs)}|10-CV={sum(cv_means)/len(cv_means)}|STD={sum(cv_stds)/len(cv_stds)}\"\n",
    "print(report)\n",
    "reports.append(report)\n",
    "report = f\"VALENCE|Acc={sum(accs_v)/len(accs_v)}|10-CV={sum(cv_means_v)/len(cv_means_v)}|STD={sum(cv_stds_v)/len(cv_stds_v)}\"\n",
    "print(report)\n",
    "reports.append(report)"
   ]
  },
  {
   "cell_type": "code",
   "execution_count": 18,
   "metadata": {},
   "outputs": [
    {
     "name": "stdout",
     "output_type": "stream",
     "text": [
      "\tAROUSAL-s01|Acc=0.9425|10-CV=0.532|STD=0.12554|Time spend=20.379687070846558\n",
      "\tVALENCE-s01|Acc=0.9925|10-CV=0.45|STD=0.06561|Time spend=23.85644292831421\n",
      "\tAROUSAL-s02|Acc=0.845|10-CV=0.5675|STD=0.10783|Time spend=20.168811321258545\n",
      "\tVALENCE-s02|Acc=0.92875|10-CV=0.4405|STD=0.08135|Time spend=23.630865812301636\n",
      "\tAROUSAL-s03|Acc=0.845|10-CV=0.73|STD=0.15524|Time spend=19.63386631011963\n",
      "\tVALENCE-s03|Acc=0.9575|10-CV=0.441|STD=0.11968|Time spend=23.03820824623108\n",
      "\tAROUSAL-s04|Acc=0.88125|10-CV=0.562|STD=0.11535|Time spend=19.240538358688354\n",
      "\tVALENCE-s04|Acc=0.84125|10-CV=0.511|STD=0.10459|Time spend=22.49614119529724\n",
      "\tAROUSAL-s05|Acc=0.86625|10-CV=0.4315|STD=0.10344|Time spend=20.61870765686035\n",
      "\tVALENCE-s05|Acc=0.72375|10-CV=0.565|STD=0.07909|Time spend=23.893173694610596\n",
      "\tAROUSAL-s06|Acc=0.9425|10-CV=0.5045|STD=0.12152|Time spend=20.369267463684082\n",
      "\tVALENCE-s06|Acc=0.845|10-CV=0.72|STD=0.07483|Time spend=23.651084899902344\n",
      "\tAROUSAL-s07|Acc=0.9525|10-CV=0.626|STD=0.10997|Time spend=19.423457384109497\n",
      "\tVALENCE-s07|Acc=0.91375|10-CV=0.6895|STD=0.13672|Time spend=22.736976146697998\n",
      "\tAROUSAL-s08|Acc=0.9725|10-CV=0.465|STD=0.10773|Time spend=19.72445559501648\n",
      "\tVALENCE-s08|Acc=0.96375|10-CV=0.513|STD=0.08793|Time spend=23.145464181900024\n",
      "\tAROUSAL-s09|Acc=0.81375|10-CV=0.533|STD=0.11005|Time spend=18.461596488952637\n",
      "\tVALENCE-s09|Acc=0.92875|10-CV=0.4115|STD=0.11803|Time spend=21.76473879814148\n",
      "\tAROUSAL-s10|Acc=0.96125|10-CV=0.4805|STD=0.05905|Time spend=21.226440906524658\n",
      "\tVALENCE-s10|Acc=0.9725|10-CV=0.404|STD=0.13586|Time spend=24.583209991455078\n",
      "\tAROUSAL-s11|Acc=0.835|10-CV=0.6095|STD=0.0674|Time spend=21.36547827720642\n",
      "\tVALENCE-s11|Acc=0.8425|10-CV=0.5295|STD=0.13917|Time spend=24.859872579574585\n",
      "\tAROUSAL-s12|Acc=0.8625|10-CV=0.83|STD=0.1005|Time spend=19.65693473815918\n",
      "\tVALENCE-s12|Acc=0.975|10-CV=0.4165|STD=0.10847|Time spend=23.219905376434326\n",
      "\tAROUSAL-s13|Acc=0.8825|10-CV=0.84|STD=0.06633|Time spend=19.10369038581848\n",
      "\tVALENCE-s13|Acc=0.92375|10-CV=0.489|STD=0.10802|Time spend=22.614572763442993\n",
      "\tAROUSAL-s14|Acc=0.835|10-CV=0.6495|STD=0.10277|Time spend=20.331507921218872\n",
      "\tVALENCE-s14|Acc=0.97875|10-CV=0.403|STD=0.0855|Time spend=23.856152772903442\n",
      "\tAROUSAL-s15|Acc=0.98875|10-CV=0.4095|STD=0.06973|Time spend=20.5437433719635\n",
      "\tVALENCE-s15|Acc=0.985|10-CV=0.4675|STD=0.07574|Time spend=24.124552965164185\n",
      "\tAROUSAL-s16|Acc=0.99|10-CV=0.3735|STD=0.11653|Time spend=19.90102243423462\n",
      "\tVALENCE-s16|Acc=0.93625|10-CV=0.6175|STD=0.07356|Time spend=23.31428027153015\n",
      "\tAROUSAL-s17|Acc=0.82625|10-CV=0.546|STD=0.08077|Time spend=19.30699896812439\n",
      "\tVALENCE-s17|Acc=0.9275|10-CV=0.447|STD=0.10939|Time spend=22.761653184890747\n",
      "\tAROUSAL-s18|Acc=0.85625|10-CV=0.574|STD=0.10264|Time spend=21.439821243286133\n",
      "\tVALENCE-s18|Acc=0.9225|10-CV=0.5255|STD=0.11297|Time spend=27.167348623275757\n",
      "\tAROUSAL-s19|Acc=0.70875|10-CV=0.625|STD=0.125|Time spend=23.320635318756104\n",
      "\tVALENCE-s19|Acc=0.835|10-CV=0.4335|STD=0.11847|Time spend=27.608681440353394\n",
      "\tAROUSAL-s20|Acc=0.85125|10-CV=0.82|STD=0.08718|Time spend=24.33301544189453\n",
      "\tVALENCE-s20|Acc=0.9275|10-CV=0.459|STD=0.13243|Time spend=28.629449129104614\n",
      "\tAROUSAL-s21|Acc=0.81625|10-CV=0.8|STD=0.1|Time spend=23.754653692245483\n",
      "\tVALENCE-s21|Acc=0.94875|10-CV=0.4035|STD=0.07138|Time spend=28.11211585998535\n",
      "\tAROUSAL-s22|Acc=0.765|10-CV=0.5915|STD=0.06087|Time spend=23.811421394348145\n",
      "\tVALENCE-s22|Acc=0.89875|10-CV=0.4915|STD=0.07934|Time spend=28.219026803970337\n",
      "\tAROUSAL-s23|Acc=0.90875|10-CV=0.78|STD=0.09798|Time spend=24.935407400131226\n",
      "\tVALENCE-s23|Acc=0.95875|10-CV=0.604|STD=0.14051|Time spend=29.520765781402588\n",
      "\tAROUSAL-s24|Acc=0.83|10-CV=0.82|STD=0.07483|Time spend=24.22427988052368\n",
      "\tVALENCE-s24|Acc=0.93375|10-CV=0.433|STD=0.14435|Time spend=28.573293924331665\n",
      "\tAROUSAL-s25|Acc=0.78125|10-CV=0.74|STD=0.12806|Time spend=23.08300542831421\n",
      "\tVALENCE-s25|Acc=0.93375|10-CV=0.3875|STD=0.09953|Time spend=27.6566801071167\n",
      "\tAROUSAL-s26|Acc=0.92875|10-CV=0.507|STD=0.1003|Time spend=23.50975489616394\n",
      "\tVALENCE-s26|Acc=0.825|10-CV=0.618|STD=0.13857|Time spend=27.96519637107849\n",
      "\tAROUSAL-s27|Acc=0.92875|10-CV=0.65|STD=0.1118|Time spend=23.126746892929077\n",
      "\tVALENCE-s27|Acc=0.89125|10-CV=0.67|STD=0.12689|Time spend=27.590397834777832\n",
      "\tAROUSAL-s28|Acc=0.9475|10-CV=0.4795|STD=0.0838|Time spend=21.96181321144104\n",
      "\tVALENCE-s28|Acc=0.87375|10-CV=0.5765|STD=0.15429|Time spend=26.733047246932983\n",
      "\tAROUSAL-s29|Acc=0.86875|10-CV=0.5265|STD=0.0842|Time spend=22.613346099853516\n",
      "\tVALENCE-s29|Acc=0.91875|10-CV=0.5325|STD=0.09796|Time spend=26.919325828552246\n",
      "\tAROUSAL-s30|Acc=0.95625|10-CV=0.434|STD=0.07949|Time spend=24.78060531616211\n",
      "\tVALENCE-s30|Acc=0.78|10-CV=0.619|STD=0.14508|Time spend=29.296156644821167\n",
      "\tAROUSAL-s31|Acc=0.99375|10-CV=0.4735|STD=0.1046|Time spend=24.18764305114746\n",
      "\tVALENCE-s31|Acc=0.97125|10-CV=0.4805|STD=0.09393|Time spend=29.04414463043213\n",
      "\tAROUSAL-s32|Acc=0.84375|10-CV=0.7375|STD=0.12506|Time spend=24.86107563972473\n",
      "\tVALENCE-s32|Acc=0.955|10-CV=0.3955|STD=0.13404|Time spend=29.599581241607666\n",
      "AROUSAL|Acc=0.8821093750000001|10-CV=0.6015156250000001|STD=0.09954950634532474\n",
      "VALENCE|Acc=0.9128124999999999|10-CV=0.5045312499999999|STD=0.10916511546933104\n",
      "TOTAL|Acc=0.8974609375000001|10-CV=0.5530234374999999|STD=0.10435731090732789\n"
     ]
    }
   ],
   "source": [
    "for text in reports:\n",
    "    if(text == None): continue\n",
    "    print(text)\n",
    "\n",
    "accs.extend(accs_v)\n",
    "cv_means.extend(cv_means_v)\n",
    "cv_stds.extend(cv_stds_v)\n",
    "print(f\"TOTAL|Acc={sum(accs)/len(accs)}|10-CV={sum(cv_means)/len(cv_means)}|STD={sum(cv_stds)/len(cv_stds)}\")"
   ]
  },
  {
   "cell_type": "markdown",
   "metadata": {},
   "source": [
    "## 5. CSP"
   ]
  },
  {
   "cell_type": "code",
   "execution_count": 19,
   "metadata": {},
   "outputs": [],
   "source": [
    "from components.CSP import CSP\n",
    "from mne_features.feature_extraction import FeatureExtractor\n",
    "\n",
    "bands = [(0,4), (4,8), (8,12), (12,30), (30,64)]\n",
    "# [alias_feature_function]__[optional_param]\n",
    "params = dict({\n",
    "    'pow_freq_bands__log':True,\n",
    "    'pow_freq_bands__normalize':False,\n",
    "    'pow_freq_bands__freq_bands':bands\n",
    "})"
   ]
  },
  {
   "cell_type": "code",
   "execution_count": 20,
   "metadata": {},
   "outputs": [
    {
     "data": {
      "application/vnd.jupyter.widget-view+json": {
       "model_id": "525ba470c4264f748ddb1b857203ed7b",
       "version_major": 2,
       "version_minor": 0
      },
      "text/plain": [
       "  0%|          | 0/32 [00:00<?, ?it/s]"
      ]
     },
     "metadata": {},
     "output_type": "display_data"
    },
    {
     "name": "stderr",
     "output_type": "stream",
     "text": [
      "/root/projects/components/CSP.py:78: ComplexWarning: Casting complex values to real discards the imaginary part\n",
      "  return SFa.astype(np.float32)\n"
     ]
    },
    {
     "name": "stdout",
     "output_type": "stream",
     "text": [
      "\tAROUSAL-s01|Acc=0.73375|10-CV=0.6555|STD=0.10494|Time spend=1.195817470550537\n"
     ]
    },
    {
     "name": "stderr",
     "output_type": "stream",
     "text": [
      "/root/projects/components/CSP.py:78: ComplexWarning: Casting complex values to real discards the imaginary part\n",
      "  return SFa.astype(np.float32)\n"
     ]
    },
    {
     "name": "stdout",
     "output_type": "stream",
     "text": [
      "\tAROUSAL-s02|Acc=0.6175|10-CV=0.537|STD=0.10536|Time spend=0.9507181644439697\n"
     ]
    },
    {
     "name": "stderr",
     "output_type": "stream",
     "text": [
      "/root/projects/components/CSP.py:78: ComplexWarning: Casting complex values to real discards the imaginary part\n",
      "  return SFa.astype(np.float32)\n"
     ]
    },
    {
     "name": "stdout",
     "output_type": "stream",
     "text": [
      "\tAROUSAL-s03|Acc=0.8475|10-CV=0.7365|STD=0.15302|Time spend=0.652418851852417\n"
     ]
    },
    {
     "name": "stderr",
     "output_type": "stream",
     "text": [
      "/root/projects/components/CSP.py:78: ComplexWarning: Casting complex values to real discards the imaginary part\n",
      "  return SFa.astype(np.float32)\n"
     ]
    },
    {
     "name": "stdout",
     "output_type": "stream",
     "text": [
      "\tAROUSAL-s04|Acc=0.99875|10-CV=0.9975|STD=0.00403|Time spend=0.8009347915649414\n"
     ]
    },
    {
     "name": "stderr",
     "output_type": "stream",
     "text": [
      "/root/projects/components/CSP.py:78: ComplexWarning: Casting complex values to real discards the imaginary part\n",
      "  return SFa.astype(np.float32)\n"
     ]
    },
    {
     "name": "stdout",
     "output_type": "stream",
     "text": [
      "\tAROUSAL-s05|Acc=0.56875|10-CV=0.4265|STD=0.10286|Time spend=0.7721631526947021\n"
     ]
    },
    {
     "name": "stderr",
     "output_type": "stream",
     "text": [
      "/root/projects/components/CSP.py:78: ComplexWarning: Casting complex values to real discards the imaginary part\n",
      "  return SFa.astype(np.float32)\n"
     ]
    },
    {
     "name": "stdout",
     "output_type": "stream",
     "text": [
      "\tAROUSAL-s06|Acc=0.6175|10-CV=0.521|STD=0.13147|Time spend=0.7559878826141357\n"
     ]
    },
    {
     "name": "stderr",
     "output_type": "stream",
     "text": [
      "/root/projects/components/CSP.py:78: ComplexWarning: Casting complex values to real discards the imaginary part\n",
      "  return SFa.astype(np.float32)\n"
     ]
    },
    {
     "name": "stdout",
     "output_type": "stream",
     "text": [
      "\tAROUSAL-s07|Acc=0.91125|10-CV=0.8985|STD=0.03688|Time spend=0.6187829971313477\n"
     ]
    },
    {
     "name": "stderr",
     "output_type": "stream",
     "text": [
      "/root/projects/components/CSP.py:78: ComplexWarning: Casting complex values to real discards the imaginary part\n",
      "  return SFa.astype(np.float32)\n"
     ]
    },
    {
     "name": "stdout",
     "output_type": "stream",
     "text": [
      "\tAROUSAL-s08|Acc=0.6225|10-CV=0.458|STD=0.10916|Time spend=1.3296229839324951\n"
     ]
    },
    {
     "name": "stderr",
     "output_type": "stream",
     "text": [
      "/root/projects/components/CSP.py:78: ComplexWarning: Casting complex values to real discards the imaginary part\n",
      "  return SFa.astype(np.float32)\n"
     ]
    },
    {
     "name": "stdout",
     "output_type": "stream",
     "text": [
      "\tAROUSAL-s09|Acc=0.92625|10-CV=0.8855|STD=0.0465|Time spend=1.7270967960357666\n"
     ]
    },
    {
     "name": "stderr",
     "output_type": "stream",
     "text": [
      "/root/projects/components/CSP.py:78: ComplexWarning: Casting complex values to real discards the imaginary part\n",
      "  return SFa.astype(np.float32)\n"
     ]
    },
    {
     "name": "stdout",
     "output_type": "stream",
     "text": [
      "\tAROUSAL-s10|Acc=0.60375|10-CV=0.46|STD=0.04685|Time spend=1.1478757858276367\n"
     ]
    },
    {
     "name": "stderr",
     "output_type": "stream",
     "text": [
      "/root/projects/components/CSP.py:78: ComplexWarning: Casting complex values to real discards the imaginary part\n",
      "  return SFa.astype(np.float32)\n"
     ]
    },
    {
     "name": "stdout",
     "output_type": "stream",
     "text": [
      "\tAROUSAL-s11|Acc=0.84|10-CV=0.82|STD=0.07082|Time spend=1.0944716930389404\n"
     ]
    },
    {
     "name": "stderr",
     "output_type": "stream",
     "text": [
      "/root/projects/components/CSP.py:78: ComplexWarning: Casting complex values to real discards the imaginary part\n",
      "  return SFa.astype(np.float32)\n"
     ]
    },
    {
     "name": "stdout",
     "output_type": "stream",
     "text": [
      "-----WARNING: Model s12 failed to learn: sum(ans)=800.0 sum(y)=660.0 len(y)=800\n",
      "\tAROUSAL-s12|Acc=0.825|10-CV=0.83|STD=0.1005|Time spend=1.0532703399658203\n"
     ]
    },
    {
     "name": "stderr",
     "output_type": "stream",
     "text": [
      "/root/projects/components/CSP.py:78: ComplexWarning: Casting complex values to real discards the imaginary part\n",
      "  return SFa.astype(np.float32)\n"
     ]
    },
    {
     "name": "stdout",
     "output_type": "stream",
     "text": [
      "-----WARNING: Model s13 failed to learn: sum(ans)=800.0 sum(y)=680.0 len(y)=800\n",
      "\tAROUSAL-s13|Acc=0.85|10-CV=0.84|STD=0.06633|Time spend=0.9455904960632324\n"
     ]
    },
    {
     "name": "stderr",
     "output_type": "stream",
     "text": [
      "/root/projects/components/CSP.py:78: ComplexWarning: Casting complex values to real discards the imaginary part\n",
      "  return SFa.astype(np.float32)\n"
     ]
    },
    {
     "name": "stdout",
     "output_type": "stream",
     "text": [
      "-----WARNING: Model s14 failed to learn: sum(ans)=800.0 sum(y)=540.0 len(y)=800\n",
      "\tAROUSAL-s14|Acc=0.675|10-CV=0.65|STD=0.10247|Time spend=0.6890506744384766\n"
     ]
    },
    {
     "name": "stderr",
     "output_type": "stream",
     "text": [
      "/root/projects/components/CSP.py:78: ComplexWarning: Casting complex values to real discards the imaginary part\n",
      "  return SFa.astype(np.float32)\n"
     ]
    },
    {
     "name": "stdout",
     "output_type": "stream",
     "text": [
      "\tAROUSAL-s15|Acc=0.76|10-CV=0.682|STD=0.05311|Time spend=0.7326745986938477\n"
     ]
    },
    {
     "name": "stderr",
     "output_type": "stream",
     "text": [
      "/root/projects/components/CSP.py:78: ComplexWarning: Casting complex values to real discards the imaginary part\n",
      "  return SFa.astype(np.float32)\n"
     ]
    },
    {
     "name": "stdout",
     "output_type": "stream",
     "text": [
      "\tAROUSAL-s16|Acc=0.72125|10-CV=0.6605|STD=0.07614|Time spend=0.7140231132507324\n"
     ]
    },
    {
     "name": "stderr",
     "output_type": "stream",
     "text": [
      "/root/projects/components/CSP.py:78: ComplexWarning: Casting complex values to real discards the imaginary part\n",
      "  return SFa.astype(np.float32)\n"
     ]
    },
    {
     "name": "stdout",
     "output_type": "stream",
     "text": [
      "\tAROUSAL-s17|Acc=0.68375|10-CV=0.5735|STD=0.08411|Time spend=0.645759105682373\n"
     ]
    },
    {
     "name": "stderr",
     "output_type": "stream",
     "text": [
      "/root/projects/components/CSP.py:78: ComplexWarning: Casting complex values to real discards the imaginary part\n",
      "  return SFa.astype(np.float32)\n"
     ]
    },
    {
     "name": "stdout",
     "output_type": "stream",
     "text": [
      "\tAROUSAL-s18|Acc=0.62625|10-CV=0.5825|STD=0.11761|Time spend=0.7395646572113037\n"
     ]
    },
    {
     "name": "stderr",
     "output_type": "stream",
     "text": [
      "/root/projects/components/CSP.py:78: ComplexWarning: Casting complex values to real discards the imaginary part\n",
      "  return SFa.astype(np.float32)\n"
     ]
    },
    {
     "name": "stdout",
     "output_type": "stream",
     "text": [
      "\tAROUSAL-s19|Acc=0.97625|10-CV=0.9675|STD=0.01585|Time spend=0.6962487697601318\n"
     ]
    },
    {
     "name": "stderr",
     "output_type": "stream",
     "text": [
      "/root/projects/components/CSP.py:78: ComplexWarning: Casting complex values to real discards the imaginary part\n",
      "  return SFa.astype(np.float32)\n"
     ]
    },
    {
     "name": "stdout",
     "output_type": "stream",
     "text": [
      "\tAROUSAL-s20|Acc=0.89875|10-CV=0.901|STD=0.02166|Time spend=0.6634702682495117\n"
     ]
    },
    {
     "name": "stderr",
     "output_type": "stream",
     "text": [
      "/root/projects/components/CSP.py:78: ComplexWarning: Casting complex values to real discards the imaginary part\n",
      "  return SFa.astype(np.float32)\n"
     ]
    },
    {
     "name": "stdout",
     "output_type": "stream",
     "text": [
      "-----WARNING: Model s21 failed to learn: sum(ans)=800.0 sum(y)=640.0 len(y)=800\n",
      "\tAROUSAL-s21|Acc=0.8|10-CV=0.8|STD=0.1|Time spend=0.6803760528564453\n"
     ]
    },
    {
     "name": "stderr",
     "output_type": "stream",
     "text": [
      "/root/projects/components/CSP.py:78: ComplexWarning: Casting complex values to real discards the imaginary part\n",
      "  return SFa.astype(np.float32)\n"
     ]
    },
    {
     "name": "stdout",
     "output_type": "stream",
     "text": [
      "\tAROUSAL-s22|Acc=0.995|10-CV=0.995|STD=0.00387|Time spend=0.5667579174041748\n"
     ]
    },
    {
     "name": "stderr",
     "output_type": "stream",
     "text": [
      "/root/projects/components/CSP.py:78: ComplexWarning: Casting complex values to real discards the imaginary part\n",
      "  return SFa.astype(np.float32)\n"
     ]
    },
    {
     "name": "stdout",
     "output_type": "stream",
     "text": [
      "\tAROUSAL-s23|Acc=0.83625|10-CV=0.828|STD=0.07219|Time spend=0.7905910015106201\n"
     ]
    },
    {
     "name": "stderr",
     "output_type": "stream",
     "text": [
      "/root/projects/components/CSP.py:78: ComplexWarning: Casting complex values to real discards the imaginary part\n",
      "  return SFa.astype(np.float32)\n"
     ]
    },
    {
     "name": "stdout",
     "output_type": "stream",
     "text": [
      "\tAROUSAL-s24|Acc=0.9975|10-CV=0.9895|STD=0.00568|Time spend=0.5795822143554688\n"
     ]
    },
    {
     "name": "stderr",
     "output_type": "stream",
     "text": [
      "/root/projects/components/CSP.py:78: ComplexWarning: Casting complex values to real discards the imaginary part\n",
      "  return SFa.astype(np.float32)\n"
     ]
    },
    {
     "name": "stdout",
     "output_type": "stream",
     "text": [
      "-----WARNING: Model s25 failed to learn: sum(ans)=800.0 sum(y)=580.0 len(y)=800\n",
      "\tAROUSAL-s25|Acc=0.725|10-CV=0.7375|STD=0.12311|Time spend=0.729794979095459\n"
     ]
    },
    {
     "name": "stderr",
     "output_type": "stream",
     "text": [
      "/root/projects/components/CSP.py:78: ComplexWarning: Casting complex values to real discards the imaginary part\n",
      "  return SFa.astype(np.float32)\n"
     ]
    },
    {
     "name": "stdout",
     "output_type": "stream",
     "text": [
      "\tAROUSAL-s26|Acc=0.74375|10-CV=0.681|STD=0.06632|Time spend=0.7527058124542236\n"
     ]
    },
    {
     "name": "stderr",
     "output_type": "stream",
     "text": [
      "/root/projects/components/CSP.py:78: ComplexWarning: Casting complex values to real discards the imaginary part\n",
      "  return SFa.astype(np.float32)\n"
     ]
    },
    {
     "name": "stdout",
     "output_type": "stream",
     "text": [
      "\tAROUSAL-s27|Acc=0.6875|10-CV=0.6415|STD=0.10257|Time spend=0.748666524887085\n"
     ]
    },
    {
     "name": "stderr",
     "output_type": "stream",
     "text": [
      "/root/projects/components/CSP.py:78: ComplexWarning: Casting complex values to real discards the imaginary part\n",
      "  return SFa.astype(np.float32)\n"
     ]
    },
    {
     "name": "stdout",
     "output_type": "stream",
     "text": [
      "\tAROUSAL-s28|Acc=0.8925|10-CV=0.8605|STD=0.03335|Time spend=0.590381383895874\n"
     ]
    },
    {
     "name": "stderr",
     "output_type": "stream",
     "text": [
      "/root/projects/components/CSP.py:78: ComplexWarning: Casting complex values to real discards the imaginary part\n",
      "  return SFa.astype(np.float32)\n"
     ]
    },
    {
     "name": "stdout",
     "output_type": "stream",
     "text": [
      "\tAROUSAL-s29|Acc=0.65125|10-CV=0.532|STD=0.08165|Time spend=0.6998260021209717\n"
     ]
    },
    {
     "name": "stderr",
     "output_type": "stream",
     "text": [
      "/root/projects/components/CSP.py:78: ComplexWarning: Casting complex values to real discards the imaginary part\n",
      "  return SFa.astype(np.float32)\n"
     ]
    },
    {
     "name": "stdout",
     "output_type": "stream",
     "text": [
      "\tAROUSAL-s30|Acc=0.8875|10-CV=0.8715|STD=0.04099|Time spend=0.6560080051422119\n"
     ]
    },
    {
     "name": "stderr",
     "output_type": "stream",
     "text": [
      "/root/projects/components/CSP.py:78: ComplexWarning: Casting complex values to real discards the imaginary part\n",
      "  return SFa.astype(np.float32)\n"
     ]
    },
    {
     "name": "stdout",
     "output_type": "stream",
     "text": [
      "\tAROUSAL-s31|Acc=0.57625|10-CV=0.4725|STD=0.10371|Time spend=0.6981408596038818\n"
     ]
    },
    {
     "name": "stderr",
     "output_type": "stream",
     "text": [
      "/root/projects/components/CSP.py:78: ComplexWarning: Casting complex values to real discards the imaginary part\n",
      "  return SFa.astype(np.float32)\n"
     ]
    },
    {
     "name": "stdout",
     "output_type": "stream",
     "text": [
      "-----WARNING: Model s32 failed to learn: sum(ans)=800.0 sum(y)=540.0 len(y)=800\n",
      "\tAROUSAL-s32|Acc=0.675|10-CV=0.75|STD=0.13601|Time spend=0.7313463687896729\n",
      "AROUSAL|Acc=0.7741015625|10-CV=0.7263125|STD=0.0755977871072317\n"
     ]
    }
   ],
   "source": [
    "accs, cv_means, cv_stds = [],[],[]\n",
    "for filename in tqdm(dataset.get_file_list()):\n",
    "\n",
    "    data, labels, groups = dataset.get_data(filename, stimuli=Dataset_subjectDependent.STIMULI_AROUSAL, return_type='numpy')\n",
    "    labels = labels.squeeze()\n",
    "    start = time.time()\n",
    "    filters = CSP(data[labels==0], data[labels==1])\n",
    "    \n",
    "    csp_data = []\n",
    "    for index in range(len(data)):\n",
    "        \n",
    "        # (672, 32) @ (32, 32) = (672, 32)\n",
    "        csp = data[index].T @ filters[labels[index].astype(int)]\n",
    "        # (1, 32, 672)\n",
    "        csp = np.expand_dims(csp.T, axis=0)\n",
    "        csp_data.append(csp)\n",
    "\n",
    "    csp_data = np.vstack(csp_data)\n",
    "    # print(csp_data.shape) => (2400, 32, 128)\n",
    "    fe = FeatureExtractor(sfreq=128, selected_funcs=['pow_freq_bands'],params=params,n_jobs=8)\n",
    "    X = fe.fit_transform(X=csp_data)\n",
    "    # print(X.shape, time.time() - start) => (2400, 160) 1.2374355792999268\n",
    "\n",
    "    assert X.shape[1] == 160\n",
    "    _, acc, cross = train_model(X, labels.reshape(-1), groups, filename=filename)\n",
    "    print(f\"\\tAROUSAL-{filename}|Acc={round(acc,5)}|10-CV={round(cross.mean(),5)}|STD={round(cross.std(),5)}|Time spend={time.time() - start}\")\n",
    "    accs.append(acc)\n",
    "    cv_means.append(cross.mean())\n",
    "    cv_stds.append(cross.std())\n",
    "print(f\"AROUSAL|Acc={sum(accs)/len(accs)}|10-CV={sum(cv_means)/len(cv_means)}|STD={sum(cv_stds)/len(cv_stds)}\")"
   ]
  },
  {
   "cell_type": "code",
   "execution_count": 21,
   "metadata": {},
   "outputs": [
    {
     "data": {
      "application/vnd.jupyter.widget-view+json": {
       "model_id": "d600942143e542af8533a9ff0cae10e7",
       "version_major": 2,
       "version_minor": 0
      },
      "text/plain": [
       "  0%|          | 0/32 [00:00<?, ?it/s]"
      ]
     },
     "metadata": {},
     "output_type": "display_data"
    },
    {
     "name": "stderr",
     "output_type": "stream",
     "text": [
      "/root/projects/components/CSP.py:78: ComplexWarning: Casting complex values to real discards the imaginary part\n",
      "  return SFa.astype(np.float32)\n"
     ]
    },
    {
     "name": "stdout",
     "output_type": "stream",
     "text": [
      "\tVALENCE-s01|Acc=0.585|10-CV=0.4805|STD=0.09462|Time spend=0.7891819477081299\n"
     ]
    },
    {
     "name": "stderr",
     "output_type": "stream",
     "text": [
      "/root/projects/components/CSP.py:78: ComplexWarning: Casting complex values to real discards the imaginary part\n",
      "  return SFa.astype(np.float32)\n"
     ]
    },
    {
     "name": "stdout",
     "output_type": "stream",
     "text": [
      "\tVALENCE-s02|Acc=0.995|10-CV=0.993|STD=0.00458|Time spend=0.5917422771453857\n"
     ]
    },
    {
     "name": "stderr",
     "output_type": "stream",
     "text": [
      "/root/projects/components/CSP.py:78: ComplexWarning: Casting complex values to real discards the imaginary part\n",
      "  return SFa.astype(np.float32)\n"
     ]
    },
    {
     "name": "stdout",
     "output_type": "stream",
     "text": [
      "\tVALENCE-s03|Acc=0.8775|10-CV=0.839|STD=0.03917|Time spend=0.6303322315216064\n"
     ]
    },
    {
     "name": "stderr",
     "output_type": "stream",
     "text": [
      "/root/projects/components/CSP.py:78: ComplexWarning: Casting complex values to real discards the imaginary part\n",
      "  return SFa.astype(np.float32)\n"
     ]
    },
    {
     "name": "stdout",
     "output_type": "stream",
     "text": [
      "\tVALENCE-s04|Acc=0.9275|10-CV=0.915|STD=0.03564|Time spend=0.7577543258666992\n"
     ]
    },
    {
     "name": "stderr",
     "output_type": "stream",
     "text": [
      "/root/projects/components/CSP.py:78: ComplexWarning: Casting complex values to real discards the imaginary part\n",
      "  return SFa.astype(np.float32)\n"
     ]
    },
    {
     "name": "stdout",
     "output_type": "stream",
     "text": [
      "\tVALENCE-s05|Acc=0.845|10-CV=0.7965|STD=0.05329|Time spend=0.7450997829437256\n"
     ]
    },
    {
     "name": "stderr",
     "output_type": "stream",
     "text": [
      "/root/projects/components/CSP.py:78: ComplexWarning: Casting complex values to real discards the imaginary part\n",
      "  return SFa.astype(np.float32)\n"
     ]
    },
    {
     "name": "stdout",
     "output_type": "stream",
     "text": [
      "\tVALENCE-s06|Acc=0.80375|10-CV=0.7385|STD=0.08515|Time spend=0.6829087734222412\n"
     ]
    },
    {
     "name": "stderr",
     "output_type": "stream",
     "text": [
      "/root/projects/components/CSP.py:78: ComplexWarning: Casting complex values to real discards the imaginary part\n",
      "  return SFa.astype(np.float32)\n"
     ]
    },
    {
     "name": "stdout",
     "output_type": "stream",
     "text": [
      "-----WARNING: Model s07 failed to learn: sum(ans)=800.0 sum(y)=560.0 len(y)=800\n",
      "\tVALENCE-s07|Acc=0.7|10-CV=0.69|STD=0.13748|Time spend=0.8007359504699707\n"
     ]
    },
    {
     "name": "stderr",
     "output_type": "stream",
     "text": [
      "/root/projects/components/CSP.py:78: ComplexWarning: Casting complex values to real discards the imaginary part\n",
      "  return SFa.astype(np.float32)\n"
     ]
    },
    {
     "name": "stdout",
     "output_type": "stream",
     "text": [
      "\tVALENCE-s08|Acc=0.59125|10-CV=0.4805|STD=0.08985|Time spend=0.7181739807128906\n"
     ]
    },
    {
     "name": "stderr",
     "output_type": "stream",
     "text": [
      "/root/projects/components/CSP.py:78: ComplexWarning: Casting complex values to real discards the imaginary part\n",
      "  return SFa.astype(np.float32)\n"
     ]
    },
    {
     "name": "stdout",
     "output_type": "stream",
     "text": [
      "\tVALENCE-s09|Acc=0.59125|10-CV=0.4605|STD=0.1171|Time spend=0.7601268291473389\n"
     ]
    },
    {
     "name": "stderr",
     "output_type": "stream",
     "text": [
      "/root/projects/components/CSP.py:78: ComplexWarning: Casting complex values to real discards the imaginary part\n",
      "  return SFa.astype(np.float32)\n"
     ]
    },
    {
     "name": "stdout",
     "output_type": "stream",
     "text": [
      "\tVALENCE-s10|Acc=0.69875|10-CV=0.636|STD=0.11088|Time spend=0.6864686012268066\n"
     ]
    },
    {
     "name": "stderr",
     "output_type": "stream",
     "text": [
      "/root/projects/components/CSP.py:78: ComplexWarning: Casting complex values to real discards the imaginary part\n",
      "  return SFa.astype(np.float32)\n"
     ]
    },
    {
     "name": "stdout",
     "output_type": "stream",
     "text": [
      "\tVALENCE-s11|Acc=0.95125|10-CV=0.9285|STD=0.02303|Time spend=0.6118178367614746\n"
     ]
    },
    {
     "name": "stderr",
     "output_type": "stream",
     "text": [
      "/root/projects/components/CSP.py:78: ComplexWarning: Casting complex values to real discards the imaginary part\n",
      "  return SFa.astype(np.float32)\n"
     ]
    },
    {
     "name": "stdout",
     "output_type": "stream",
     "text": [
      "\tVALENCE-s12|Acc=0.7925|10-CV=0.7535|STD=0.04284|Time spend=0.6638171672821045\n"
     ]
    },
    {
     "name": "stderr",
     "output_type": "stream",
     "text": [
      "/root/projects/components/CSP.py:78: ComplexWarning: Casting complex values to real discards the imaginary part\n",
      "  return SFa.astype(np.float32)\n"
     ]
    },
    {
     "name": "stdout",
     "output_type": "stream",
     "text": [
      "\tVALENCE-s13|Acc=0.7375|10-CV=0.725|STD=0.10943|Time spend=0.7617378234863281\n"
     ]
    },
    {
     "name": "stderr",
     "output_type": "stream",
     "text": [
      "/root/projects/components/CSP.py:78: ComplexWarning: Casting complex values to real discards the imaginary part\n",
      "  return SFa.astype(np.float32)\n"
     ]
    },
    {
     "name": "stdout",
     "output_type": "stream",
     "text": [
      "\tVALENCE-s14|Acc=0.8425|10-CV=0.794|STD=0.05073|Time spend=0.6328401565551758\n"
     ]
    },
    {
     "name": "stderr",
     "output_type": "stream",
     "text": [
      "/root/projects/components/CSP.py:78: ComplexWarning: Casting complex values to real discards the imaginary part\n",
      "  return SFa.astype(np.float32)\n"
     ]
    },
    {
     "name": "stdout",
     "output_type": "stream",
     "text": [
      "\tVALENCE-s15|Acc=0.65375|10-CV=0.5875|STD=0.07884|Time spend=0.7097799777984619\n"
     ]
    },
    {
     "name": "stderr",
     "output_type": "stream",
     "text": [
      "/root/projects/components/CSP.py:78: ComplexWarning: Casting complex values to real discards the imaginary part\n",
      "  return SFa.astype(np.float32)\n"
     ]
    },
    {
     "name": "stdout",
     "output_type": "stream",
     "text": [
      "\tVALENCE-s16|Acc=0.94125|10-CV=0.9615|STD=0.03034|Time spend=0.5942833423614502\n"
     ]
    },
    {
     "name": "stderr",
     "output_type": "stream",
     "text": [
      "/root/projects/components/CSP.py:78: ComplexWarning: Casting complex values to real discards the imaginary part\n",
      "  return SFa.astype(np.float32)\n"
     ]
    },
    {
     "name": "stdout",
     "output_type": "stream",
     "text": [
      "\tVALENCE-s17|Acc=0.69625|10-CV=0.6115|STD=0.09698|Time spend=1.4014708995819092\n"
     ]
    },
    {
     "name": "stderr",
     "output_type": "stream",
     "text": [
      "/root/projects/components/CSP.py:78: ComplexWarning: Casting complex values to real discards the imaginary part\n",
      "  return SFa.astype(np.float32)\n"
     ]
    },
    {
     "name": "stdout",
     "output_type": "stream",
     "text": [
      "\tVALENCE-s18|Acc=0.68625|10-CV=0.5685|STD=0.12361|Time spend=0.7684540748596191\n"
     ]
    },
    {
     "name": "stderr",
     "output_type": "stream",
     "text": [
      "/root/projects/components/CSP.py:78: ComplexWarning: Casting complex values to real discards the imaginary part\n",
      "  return SFa.astype(np.float32)\n"
     ]
    },
    {
     "name": "stdout",
     "output_type": "stream",
     "text": [
      "\tVALENCE-s19|Acc=0.61625|10-CV=0.483|STD=0.14549|Time spend=0.8003756999969482\n"
     ]
    },
    {
     "name": "stderr",
     "output_type": "stream",
     "text": [
      "/root/projects/components/CSP.py:78: ComplexWarning: Casting complex values to real discards the imaginary part\n",
      "  return SFa.astype(np.float32)\n"
     ]
    },
    {
     "name": "stdout",
     "output_type": "stream",
     "text": [
      "\tVALENCE-s20|Acc=0.66125|10-CV=0.498|STD=0.14426|Time spend=0.6849782466888428\n"
     ]
    },
    {
     "name": "stderr",
     "output_type": "stream",
     "text": [
      "/root/projects/components/CSP.py:78: ComplexWarning: Casting complex values to real discards the imaginary part\n",
      "  return SFa.astype(np.float32)\n"
     ]
    },
    {
     "name": "stdout",
     "output_type": "stream",
     "text": [
      "\tVALENCE-s21|Acc=0.56875|10-CV=0.397|STD=0.07414|Time spend=0.7402055263519287\n"
     ]
    },
    {
     "name": "stderr",
     "output_type": "stream",
     "text": [
      "/root/projects/components/CSP.py:78: ComplexWarning: Casting complex values to real discards the imaginary part\n",
      "  return SFa.astype(np.float32)\n"
     ]
    },
    {
     "name": "stdout",
     "output_type": "stream",
     "text": [
      "\tVALENCE-s22|Acc=0.9075|10-CV=0.9025|STD=0.03393|Time spend=0.6039533615112305\n"
     ]
    },
    {
     "name": "stderr",
     "output_type": "stream",
     "text": [
      "/root/projects/components/CSP.py:78: ComplexWarning: Casting complex values to real discards the imaginary part\n",
      "  return SFa.astype(np.float32)\n"
     ]
    },
    {
     "name": "stdout",
     "output_type": "stream",
     "text": [
      "-----WARNING: Model s23 failed to learn: sum(ans)=800.0 sum(y)=520.0 len(y)=800\n",
      "\tVALENCE-s23|Acc=0.65|10-CV=0.597|STD=0.13098|Time spend=0.7072043418884277\n"
     ]
    },
    {
     "name": "stderr",
     "output_type": "stream",
     "text": [
      "/root/projects/components/CSP.py:78: ComplexWarning: Casting complex values to real discards the imaginary part\n",
      "  return SFa.astype(np.float32)\n"
     ]
    },
    {
     "name": "stdout",
     "output_type": "stream",
     "text": [
      "\tVALENCE-s24|Acc=0.55625|10-CV=0.4275|STD=0.16927|Time spend=0.7211923599243164\n"
     ]
    },
    {
     "name": "stderr",
     "output_type": "stream",
     "text": [
      "/root/projects/components/CSP.py:78: ComplexWarning: Casting complex values to real discards the imaginary part\n",
      "  return SFa.astype(np.float32)\n"
     ]
    },
    {
     "name": "stdout",
     "output_type": "stream",
     "text": [
      "\tVALENCE-s25|Acc=0.61625|10-CV=0.4315|STD=0.11129|Time spend=0.7138042449951172\n"
     ]
    },
    {
     "name": "stderr",
     "output_type": "stream",
     "text": [
      "/root/projects/components/CSP.py:78: ComplexWarning: Casting complex values to real discards the imaginary part\n",
      "  return SFa.astype(np.float32)\n"
     ]
    },
    {
     "name": "stdout",
     "output_type": "stream",
     "text": [
      "-----WARNING: Model s26 failed to learn: sum(ans)=800.0 sum(y)=520.0 len(y)=800\n",
      "\tVALENCE-s26|Acc=0.65|10-CV=0.614|STD=0.13328|Time spend=0.7434201240539551\n"
     ]
    },
    {
     "name": "stderr",
     "output_type": "stream",
     "text": [
      "/root/projects/components/CSP.py:78: ComplexWarning: Casting complex values to real discards the imaginary part\n",
      "  return SFa.astype(np.float32)\n"
     ]
    },
    {
     "name": "stdout",
     "output_type": "stream",
     "text": [
      "\tVALENCE-s27|Acc=0.855|10-CV=0.76|STD=0.10689|Time spend=0.6305184364318848\n"
     ]
    },
    {
     "name": "stderr",
     "output_type": "stream",
     "text": [
      "/root/projects/components/CSP.py:78: ComplexWarning: Casting complex values to real discards the imaginary part\n",
      "  return SFa.astype(np.float32)\n"
     ]
    },
    {
     "name": "stdout",
     "output_type": "stream",
     "text": [
      "\tVALENCE-s28|Acc=0.645|10-CV=0.5375|STD=0.11739|Time spend=0.7315487861633301\n"
     ]
    },
    {
     "name": "stderr",
     "output_type": "stream",
     "text": [
      "/root/projects/components/CSP.py:78: ComplexWarning: Casting complex values to real discards the imaginary part\n",
      "  return SFa.astype(np.float32)\n"
     ]
    },
    {
     "name": "stdout",
     "output_type": "stream",
     "text": [
      "\tVALENCE-s29|Acc=0.9975|10-CV=0.998|STD=0.00245|Time spend=0.556281328201294\n"
     ]
    },
    {
     "name": "stderr",
     "output_type": "stream",
     "text": [
      "/root/projects/components/CSP.py:78: ComplexWarning: Casting complex values to real discards the imaginary part\n",
      "  return SFa.astype(np.float32)\n"
     ]
    },
    {
     "name": "stdout",
     "output_type": "stream",
     "text": [
      "-----WARNING: Model s30 failed to learn: sum(ans)=800.0 sum(y)=540.0 len(y)=800\n",
      "\tVALENCE-s30|Acc=0.675|10-CV=0.62|STD=0.14697|Time spend=0.6896770000457764\n"
     ]
    },
    {
     "name": "stderr",
     "output_type": "stream",
     "text": [
      "/root/projects/components/CSP.py:78: ComplexWarning: Casting complex values to real discards the imaginary part\n",
      "  return SFa.astype(np.float32)\n"
     ]
    },
    {
     "name": "stdout",
     "output_type": "stream",
     "text": [
      "-----WARNING: Model s31 failed to learn: sum(ans)=800.0 sum(y)=460.0 len(y)=800\n",
      "\tVALENCE-s31|Acc=0.575|10-CV=0.4635|STD=0.09138|Time spend=0.7437047958374023\n"
     ]
    },
    {
     "name": "stderr",
     "output_type": "stream",
     "text": [
      "/root/projects/components/CSP.py:78: ComplexWarning: Casting complex values to real discards the imaginary part\n",
      "  return SFa.astype(np.float32)\n"
     ]
    },
    {
     "name": "stdout",
     "output_type": "stream",
     "text": [
      "\tVALENCE-s32|Acc=0.90875|10-CV=0.8665|STD=0.05158|Time spend=0.6449780464172363\n",
      "VALENCE|Acc=0.7437109374999998|10-CV=0.6736093750000001|STD=0.08696364427020895\n"
     ]
    }
   ],
   "source": [
    "accs_v, cv_means_v, cv_stds_v = [],[],[]\n",
    "for filename in tqdm(dataset.get_file_list()):\n",
    "\n",
    "    data, labels, groups = dataset.get_data(filename, stimuli=Dataset_subjectDependent.STIMULI_VALENCE, return_type='numpy')\n",
    "    labels = labels.squeeze()\n",
    "    start = time.time()\n",
    "    filters = CSP(data[labels==0], data[labels==1])\n",
    "    \n",
    "    csp_data = []\n",
    "    for index in range(len(data)):\n",
    "        \n",
    "        # (672, 32) @ (32, 32) = (672, 32)\n",
    "        csp = data[index].T @ filters[labels[index].astype(int)]\n",
    "        # (1, 32, 672)\n",
    "        csp = np.expand_dims(csp.T, axis=0)\n",
    "        csp_data.append(csp)\n",
    "\n",
    "    csp_data = np.vstack(csp_data)\n",
    "    # print(csp_data.shape) => (2400, 32, 128)\n",
    "    fe = FeatureExtractor(sfreq=128, selected_funcs=['pow_freq_bands'],params=params,n_jobs=8)\n",
    "    X = fe.fit_transform(X=csp_data)\n",
    "    # print(X.shape, time.time() - start) => (2400, 160) 1.2374355792999268\n",
    "\n",
    "    assert X.shape[1] == 160\n",
    "    _, acc, cross = train_model(X, labels.reshape(-1), groups, filename=filename)\n",
    "    print(f\"\\tVALENCE-{filename}|Acc={round(acc,5)}|10-CV={round(cross.mean(),5)}|STD={round(cross.std(),5)}|Time spend={time.time() - start}\")\n",
    "    accs_v.append(acc)\n",
    "    cv_means_v.append(cross.mean())\n",
    "    cv_stds_v.append(cross.std())\n",
    "print(f\"VALENCE|Acc={sum(accs_v)/len(accs_v)}|10-CV={sum(cv_means_v)/len(cv_means_v)}|STD={sum(cv_stds_v)/len(cv_stds_v)}\")"
   ]
  },
  {
   "cell_type": "code",
   "execution_count": 22,
   "metadata": {},
   "outputs": [
    {
     "name": "stdout",
     "output_type": "stream",
     "text": [
      "TOTAL|Acc=0.7589062499999999|10-CV=0.6999609374999998|STD=0.08128071568872029\n"
     ]
    }
   ],
   "source": [
    "accs.extend(accs_v)\n",
    "cv_means.extend(cv_means_v)\n",
    "cv_stds.extend(cv_stds_v)\n",
    "\n",
    "print(f\"TOTAL|Acc={sum(accs)/len(accs)}|10-CV={sum(cv_means)/len(cv_means)}|STD={sum(cv_stds)/len(cv_stds)}\")"
   ]
  }
 ],
 "metadata": {
  "interpreter": {
   "hash": "27768773b483d82a9b2b839e3fa80b1be5789db7fd78df4eedef2df266871616"
  },
  "kernelspec": {
   "display_name": "Python 3 (ipykernel)",
   "language": "python",
   "name": "python3"
  },
  "language_info": {
   "codemirror_mode": {
    "name": "ipython",
    "version": 3
   },
   "file_extension": ".py",
   "mimetype": "text/x-python",
   "name": "python",
   "nbconvert_exporter": "python",
   "pygments_lexer": "ipython3",
   "version": "3.8.10"
  }
 },
 "nbformat": 4,
 "nbformat_minor": 4
}
