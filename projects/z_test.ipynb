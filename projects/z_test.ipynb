{
 "cells": [
  {
   "cell_type": "code",
   "execution_count": 22,
   "metadata": {},
   "outputs": [
    {
     "name": "stdout",
     "output_type": "stream",
     "text": [
      "Found: 32 files\n",
      "(1280, 32, 7680)\n"
     ]
    }
   ],
   "source": [
    "from components.dataset_jo import Dataset_subjectDependent as MyDataset\n",
    "from components.preprocessing import preprocess_interface, standardize, DE, ASYM, PCC, _parallel, convert_to_mne\n",
    "\n",
    "dataset = MyDataset(dataset_path='data', lazyload=True)\n",
    "lenght = 1\n",
    "dataset.set_segment(7680//(128*60))\n",
    "data, labels, groups = dataset.get_data('all', stimuli=1, return_type='numpy')\n",
    "# X = DE(data, variant='asd')\n",
    "# X = standardize(X)\n",
    "print(data.shape)"
   ]
  },
  {
   "cell_type": "code",
   "execution_count": 23,
   "metadata": {},
   "outputs": [
    {
     "name": "stdout",
     "output_type": "stream",
     "text": [
      "Fitted sphere radius:         95.3 mm\n",
      "Origin head coordinates:      -0.8 15.1 45.3 mm\n",
      "Origin device coordinates:    -0.8 15.1 45.3 mm\n"
     ]
    }
   ],
   "source": [
    "import numpy as np\n",
    "from scipy import signal\n",
    "\n",
    "import logging\n",
    "from multiprocessing import Pool\n",
    "from itertools import combinations\n",
    "import os\n",
    "import mne\n",
    "\n",
    "def _calculate_stft(signals: np.ndarray, sfreq: int):\n",
    "    f_range, t_range, Z = signal.stft(signals, sfreq, nperseg=sfreq//10, nfft=sfreq)\n",
    "    magnitude = np.abs(Z) \n",
    "    phase = np.angle(Z) #type: ignore\n",
    "    return magnitude, phase, f_range, t_range\n",
    "\n",
    "def _cal_plv(p_id, partial_data:np.ndarray) -> np.ndarray:\n",
    "    plv = []\n",
    "    # count = 0\n",
    "    for index in range(partial_data.shape[0]):\n",
    "        plv_epoch = []\n",
    "        _,phase,_,_ = _calculate_stft(partial_data[index],128) #type: ignore\n",
    "        for comb in combinations(list(range(partial_data.shape[1])), 2):\n",
    "            # shape = (65,12)\n",
    "            phase_a, phase_b = phase[comb[0]], phase[comb[1]]\n",
    "            phase_diff = phase_a - phase_b\n",
    "            # sum along the time size\n",
    "            plv_ab = np.abs(np.average(np.exp(complex(0,1) * phase_diff), axis=1))\n",
    "            plv_epoch.append(plv_ab)\n",
    "        plv_epoch = np.vstack(plv_epoch)\n",
    "        # print(plv_epoch.shape) => (300, 32, 65, 23)\n",
    "        plv_epoch_5 = np.concatenate([ plv_epoch[:,0:4].mean(axis=1).reshape(-1,1),\n",
    "                                        plv_epoch[:,4:8].mean(axis=1).reshape(-1,1),\n",
    "                                        plv_epoch[:,8:12].mean(axis=1).reshape(-1,1),\n",
    "                                        plv_epoch[:,12:30].mean(axis=1).reshape(-1,1),\n",
    "                                        plv_epoch[:,30:65].mean(axis=1).reshape(-1,1)], axis=0)\n",
    "        plv.append(np.expand_dims(plv_epoch_5, axis=0))\n",
    "        # count += 1\n",
    "        # if(count == 3): break\n",
    "    # shape (496, 65)\n",
    "    # 496 is number of pairs that is not duplicate\n",
    "    # 65 is number of phase of frequencies\n",
    "    plv = np.vstack( plv )\n",
    "    return plv.squeeze()    \n",
    "\n",
    "epochs = convert_to_mne(data)\n",
    "epochs = mne.preprocessing.compute_current_source_density(epochs)\n",
    "data = epochs.get_data()\n",
    "del(epochs)\n",
    "# def PLV(data: np.ndarray, variant:str) -> np.ndarray:\n",
    "#     epochs = convert_to_mne(data)\n",
    "#     epochs = mne.preprocessing.compute_current_source_density(epochs)\n",
    "#     data = epochs.get_data()\n",
    "#     del(epochs)\n",
    "#     ans_list = _parallel(data, _cal_plv, n_jobs=os.cpu_count()) #type: ignore\n",
    "#     return ans_list"
   ]
  },
  {
   "cell_type": "code",
   "execution_count": 7,
   "metadata": {},
   "outputs": [
    {
     "name": "stdout",
     "output_type": "stream",
     "text": [
      "(1280, 32, 7680)\n"
     ]
    }
   ],
   "source": [
    "print(data.shape)"
   ]
  },
  {
   "cell_type": "code",
   "execution_count": 25,
   "metadata": {},
   "outputs": [
    {
     "name": "stdout",
     "output_type": "stream",
     "text": [
      "(32, 65, 1281)\n",
      "(496, 65)\n",
      "(2480,)\n",
      "(32, 65, 1281)\n",
      "(496, 65)\n",
      "(2480,)\n",
      "(32, 65, 1281)\n",
      "(496, 65)\n",
      "(2480,)\n",
      "(3, 2480)\n"
     ]
    }
   ],
   "source": [
    "plv = []\n",
    "count = 0\n",
    "for index in range(data.shape[0]):\n",
    "    plv_epoch = []\n",
    "    _,phase,_,_ = _calculate_stft(data[index],128) #type: ignore\n",
    "    print(phase.shape)\n",
    "    for comb in combinations(list(range(data.shape[1])), 2):\n",
    "        # shape = (65,12)\n",
    "        phase_a, phase_b = phase[comb[0]], phase[comb[1]]\n",
    "        phase_diff = phase_a - phase_b\n",
    "        # sum along the time size\n",
    "        plv_ab = np.abs(np.average(np.exp(complex(0,1) * phase_diff), axis=1))\n",
    "        plv_epoch.append(plv_ab)\n",
    "    plv_epoch = np.vstack(plv_epoch)\n",
    "    print(plv_epoch.shape) # => (496, 65)\n",
    "    plv_epoch_5 = np.concatenate([ plv_epoch[:,0:4].mean(axis=1).reshape(-1,1),\n",
    "                                    plv_epoch[:,4:8].mean(axis=1).reshape(-1,1),\n",
    "                                    plv_epoch[:,8:12].mean(axis=1).reshape(-1,1),\n",
    "                                    plv_epoch[:,12:30].mean(axis=1).reshape(-1,1),\n",
    "                                    plv_epoch[:,30:65].mean(axis=1).reshape(-1,1)], axis=0).squeeze()\n",
    "    print(plv_epoch_5.shape) # => (496 * 5)\n",
    "    plv.append(np.expand_dims(plv_epoch_5, axis=0))\n",
    "    count += 1\n",
    "    if(count == 3): break\n",
    "# shape (496, 65)\n",
    "# 496 is number of pairs that is not duplicate\n",
    "# 65 is number of phase of frequencies\n",
    "plv = np.vstack( plv )\n",
    "print(plv.shape)"
   ]
  },
  {
   "cell_type": "code",
   "execution_count": 2,
   "metadata": {},
   "outputs": [
    {
     "name": "stdout",
     "output_type": "stream",
     "text": [
      "(128,)\n",
      "(1, 1, 128) (1, 128)\n"
     ]
    },
    {
     "ename": "NameError",
     "evalue": "name 'data' is not defined",
     "output_type": "error",
     "traceback": [
      "\u001b[0;31m---------------------------------------------------------------------------\u001b[0m",
      "\u001b[0;31mNameError\u001b[0m                                 Traceback (most recent call last)",
      "\u001b[1;32m/root/projects/z_test.ipynb Cell 2'\u001b[0m in \u001b[0;36m<cell line: 26>\u001b[0;34m()\u001b[0m\n\u001b[1;32m     <a href='vscode-notebook-cell://attached-container%2B7b22636f6e7461696e65724e616d65223a222f6565672d656d6f74696f6e2d7265636f676e6974696f6e2d637564612d707974686f6e2d31227d/root/projects/z_test.ipynb#ch0000016vscode-remote?line=14'>15</a>\u001b[0m \u001b[39mprint\u001b[39m(data_time\u001b[39m.\u001b[39mshape, data_time[\u001b[39m0\u001b[39m]\u001b[39m.\u001b[39mshape)\n\u001b[1;32m     <a href='vscode-notebook-cell://attached-container%2B7b22636f6e7461696e65724e616d65223a222f6565672d656d6f74696f6e2d7265636f676e6974696f6e2d637564612d707974686f6e2d31227d/root/projects/z_test.ipynb#ch0000016vscode-remote?line=15'>16</a>\u001b[0m \u001b[39m# print(data_time.shape)\u001b[39;00m\n\u001b[1;32m     <a href='vscode-notebook-cell://attached-container%2B7b22636f6e7461696e65724e616d65223a222f6565672d656d6f74696f6e2d7265636f676e6974696f6e2d637564612d707974686f6e2d31227d/root/projects/z_test.ipynb#ch0000016vscode-remote?line=16'>17</a>\u001b[0m \u001b[39m# data_freq = _calculate_fft(data_time, 128)\u001b[39;00m\n\u001b[1;32m     <a href='vscode-notebook-cell://attached-container%2B7b22636f6e7461696e65724e616d65223a222f6565672d656d6f74696f6e2d7265636f676e6974696f6e2d637564612d707974686f6e2d31227d/root/projects/z_test.ipynb#ch0000016vscode-remote?line=17'>18</a>\u001b[0m \n\u001b[0;32m   (...)\u001b[0m\n\u001b[1;32m     <a href='vscode-notebook-cell://attached-container%2B7b22636f6e7461696e65724e616d65223a222f6565672d656d6f74696f6e2d7265636f676e6974696f6e2d637564612d707974686f6e2d31227d/root/projects/z_test.ipynb#ch0000016vscode-remote?line=21'>22</a>\u001b[0m \u001b[39m# data_freq[data_freq < 0.001] = 0\u001b[39;00m\n\u001b[1;32m     <a href='vscode-notebook-cell://attached-container%2B7b22636f6e7461696e65724e616d65223a222f6565672d656d6f74696f6e2d7265636f676e6974696f6e2d637564612d707974686f6e2d31227d/root/projects/z_test.ipynb#ch0000016vscode-remote?line=22'>23</a>\u001b[0m \u001b[39m# print(data_freq)\u001b[39;00m\n\u001b[0;32m---> <a href='vscode-notebook-cell://attached-container%2B7b22636f6e7461696e65724e616d65223a222f6565672d656d6f74696f6e2d7265636f676e6974696f6e2d637564612d707974686f6e2d31227d/root/projects/z_test.ipynb#ch0000016vscode-remote?line=25'>26</a>\u001b[0m data_freq, data_phase, f_range, t_range \u001b[39m=\u001b[39m _calculate_stft(data, \u001b[39m128\u001b[39m)\n\u001b[1;32m     <a href='vscode-notebook-cell://attached-container%2B7b22636f6e7461696e65724e616d65223a222f6565672d656d6f74696f6e2d7265636f676e6974696f6e2d637564612d707974686f6e2d31227d/root/projects/z_test.ipynb#ch0000016vscode-remote?line=26'>27</a>\u001b[0m \u001b[39mprint\u001b[39m(data_freq\u001b[39m.\u001b[39mshape, data_phase\u001b[39m.\u001b[39mshape)\n",
      "\u001b[0;31mNameError\u001b[0m: name 'data' is not defined"
     ]
    }
   ],
   "source": [
    "import numpy as np\n",
    "from scipy import signal\n",
    "def _calculate_stft(signals: np.ndarray, sfreq: int):\n",
    "    f_range, t_range, Z = signal.stft(signals, sfreq, nperseg=sfreq//10, nfft=sfreq)\n",
    "    magnitude = np.abs(Z) \n",
    "    phase = np.angle(Z)\n",
    "    return magnitude, phase, f_range, t_range\n",
    "\n",
    "\n",
    "# import matplotlib.pyplot as plt\n",
    "t = np.arange(0,1,1/128)\n",
    "print(t.shape)\n",
    "f = 60\n",
    "data_time = np.sin(t * 2 * np.pi * f).reshape(1,1,-1) * 10\n",
    "print(data_time.shape, data_time[0].shape)\n",
    "# print(data_time.shape)\n",
    "# data_freq = _calculate_fft(data_time, 128)\n",
    "\n",
    "# freq_range= np.fft.fftfreq(128, d=1/128)[:128//2]\n",
    "# print(data_freq.shape, freq_range.shape)\n",
    "# plt.plot(freq_range, data_freq[0,0])\n",
    "# data_freq[data_freq < 0.001] = 0\n",
    "# print(data_freq)\n",
    "\n",
    "\n",
    "data_freq, data_phase, f_range, t_range = _calculate_stft(data, 128)\n",
    "print(data_freq.shape, data_phase.shape)"
   ]
  },
  {
   "cell_type": "code",
   "execution_count": 34,
   "metadata": {},
   "outputs": [],
   "source": [
    "from sklearn.model_selection import StratifiedGroupKFold,GridSearchCV,StratifiedKFold\n",
    "n_split_outter = 10\n",
    "cv_outter = StratifiedGroupKFold(n_splits=n_split_outter, shuffle=False)\n",
    "train_1 = list(cv_outter.split(X, labels, groups))\n",
    "\n",
    "cv_outter_2 = StratifiedGroupKFold(n_splits=n_split_outter, shuffle=False)\n",
    "train_2 = list(cv_outter_2.split(X, labels, groups))"
   ]
  },
  {
   "cell_type": "code",
   "execution_count": 43,
   "metadata": {},
   "outputs": [
    {
     "name": "stdout",
     "output_type": "stream",
     "text": [
      "True\n",
      "True\n",
      "True\n",
      "True\n",
      "True\n",
      "True\n",
      "True\n",
      "True\n",
      "True\n",
      "True\n"
     ]
    }
   ],
   "source": [
    "for a,b in zip(train_1, train_2):\n",
    "    train = (a[0] == b[0]).all()\n",
    "    test = (a[1] == b[1]).all()\n",
    "    print(train == test)"
   ]
  },
  {
   "cell_type": "code",
   "execution_count": 55,
   "metadata": {},
   "outputs": [],
   "source": [
    "import numpy as np\n",
    "def _calculate_fft(signal, sfreq):\n",
    "    \"\"\" signal: can be 1D array of (n_sample,) or 2D array of (n_signal, n_sample)  \"\"\"\n",
    "    # the result will be a complex number. We can obtain the magnitude using `absolute`\n",
    "    magnitude = np.abs(np.fft.fft(signal, sfreq))\n",
    "    # scale the result\n",
    "    magnitude = magnitude / (sfreq/2)\n",
    "    # Selecting the range\n",
    "    magnitude = magnitude.T[:sfreq//2].T\n",
    "    freq_range= np.fft.fftfreq(128, d=1/128)[:128//2]\n",
    "    return magnitude\n",
    "\n"
   ]
  },
  {
   "cell_type": "code",
   "execution_count": null,
   "metadata": {},
   "outputs": [],
   "source": []
  },
  {
   "cell_type": "code",
   "execution_count": 36,
   "metadata": {},
   "outputs": [
    {
     "name": "stdout",
     "output_type": "stream",
     "text": [
      "Fitted sphere radius:         95.3 mm\n",
      "Origin head coordinates:      -0.8 15.1 45.3 mm\n",
      "Origin device coordinates:    -0.8 15.1 45.3 mm\n"
     ]
    }
   ],
   "source": [
    "from components.preprocessing import convert_to_mne\n",
    "import mne\n",
    "epochs = convert_to_mne(data)\n",
    "epochs = mne.preprocessing.compute_current_source_density(epochs)\n",
    "data_time = epochs.get_data()  "
   ]
  },
  {
   "cell_type": "code",
   "execution_count": 56,
   "metadata": {},
   "outputs": [
    {
     "name": "stdout",
     "output_type": "stream",
     "text": [
      "(640,)\n",
      "(1, 1, 64) (64,)\n",
      "[[[ 0.  0.  0.  0.  0.  0.  0.  0.  0.  0.  0.  0.  0.  0.  0.  0.  0.\n",
      "    0.  0.  0.  0.  0.  0.  0.  0.  0.  0.  0.  0.  0.  0.  0.  0.  0.\n",
      "    0.  0.  0.  0.  0.  0.  0.  0.  0.  0.  0.  0.  0.  0.  0.  0.  0.\n",
      "    0.  0.  0.  0.  0.  0.  0.  0.  0. 10.  0.  0.  0.]]]\n"
     ]
    },
    {
     "data": {
      "image/png": "[encoded data removed]",
      "text/plain": [
       "<Figure size 432x288 with 1 Axes>"
      ]
     },
     "metadata": {
      "needs_background": "light"
     },
     "output_type": "display_data"
    }
   ],
   "source": [
    "import matplotlib.pyplot as plt\n",
    "t = np.arange(0,5,1/128)\n",
    "print(t.shape)\n",
    "f = 60\n",
    "data_time = np.sin(t * 2 * np.pi * f).reshape(1,1,-1) * 10\n",
    "\n",
    "data_freq = _calculate_fft(data_time, 128)\n",
    "\n",
    "freq_range= np.fft.fftfreq(128, d=1/128)[:128//2]\n",
    "print(data_freq.shape, freq_range.shape)\n",
    "plt.plot(freq_range, data_freq[0,0])\n",
    "data_freq[data_freq < 0.001] = 0\n",
    "print(data_freq)\n"
   ]
  },
  {
   "cell_type": "code",
   "execution_count": 30,
   "metadata": {},
   "outputs": [
    {
     "data": {
      "text/plain": [
       "array([  0.,   1.,   2.,   3.,   4.,   5.,   6.,   7.,   8.,   9.,  10.,\n",
       "        11.,  12.,  13.,  14.,  15.,  16.,  17.,  18.,  19.,  20.,  21.,\n",
       "        22.,  23.,  24.,  25.,  26.,  27.,  28.,  29.,  30.,  31.,  32.,\n",
       "        33.,  34.,  35.,  36.,  37.,  38.,  39.,  40.,  41.,  42.,  43.,\n",
       "        44.,  45.,  46.,  47.,  48.,  49.,  50.,  51.,  52.,  53.,  54.,\n",
       "        55.,  56.,  57.,  58.,  59.,  60.,  61.,  62.,  63., -64., -63.,\n",
       "       -62., -61., -60., -59., -58., -57., -56., -55., -54., -53., -52.,\n",
       "       -51., -50., -49., -48., -47., -46., -45., -44., -43., -42., -41.,\n",
       "       -40., -39., -38., -37., -36., -35., -34., -33., -32., -31., -30.,\n",
       "       -29., -28., -27., -26., -25., -24., -23., -22., -21., -20., -19.,\n",
       "       -18., -17., -16., -15., -14., -13., -12., -11., -10.,  -9.,  -8.,\n",
       "        -7.,  -6.,  -5.,  -4.,  -3.,  -2.,  -1.])"
      ]
     },
     "execution_count": 30,
     "metadata": {},
     "output_type": "execute_result"
    }
   ],
   "source": [
    "np.fft.fftfreq(128, d=1/128)"
   ]
  },
  {
   "cell_type": "code",
   "execution_count": 34,
   "metadata": {},
   "outputs": [
    {
     "data": {
      "text/plain": [
       "((1280, 32, 7680), (1280, 32, 7680), (1280, 32, 128))"
      ]
     },
     "execution_count": 34,
     "metadata": {},
     "output_type": "execute_result"
    }
   ],
   "source": [
    "data.shape, data_time.shape, data_freq.shape"
   ]
  },
  {
   "cell_type": "code",
   "execution_count": 20,
   "metadata": {},
   "outputs": [],
   "source": [
    "indices = np.array_split(np.arange(data.shape[0]), 10)"
   ]
  },
  {
   "cell_type": "code",
   "execution_count": 21,
   "metadata": {},
   "outputs": [
    {
     "data": {
      "text/plain": [
       "[array([  0,   1,   2,   3,   4,   5,   6,   7,   8,   9,  10,  11,  12,\n",
       "         13,  14,  15,  16,  17,  18,  19,  20,  21,  22,  23,  24,  25,\n",
       "         26,  27,  28,  29,  30,  31,  32,  33,  34,  35,  36,  37,  38,\n",
       "         39,  40,  41,  42,  43,  44,  45,  46,  47,  48,  49,  50,  51,\n",
       "         52,  53,  54,  55,  56,  57,  58,  59,  60,  61,  62,  63,  64,\n",
       "         65,  66,  67,  68,  69,  70,  71,  72,  73,  74,  75,  76,  77,\n",
       "         78,  79,  80,  81,  82,  83,  84,  85,  86,  87,  88,  89,  90,\n",
       "         91,  92,  93,  94,  95,  96,  97,  98,  99, 100, 101, 102, 103,\n",
       "        104, 105, 106, 107, 108, 109, 110, 111, 112, 113, 114, 115, 116,\n",
       "        117, 118, 119, 120, 121, 122, 123, 124, 125, 126, 127]),\n",
       " array([128, 129, 130, 131, 132, 133, 134, 135, 136, 137, 138, 139, 140,\n",
       "        141, 142, 143, 144, 145, 146, 147, 148, 149, 150, 151, 152, 153,\n",
       "        154, 155, 156, 157, 158, 159, 160, 161, 162, 163, 164, 165, 166,\n",
       "        167, 168, 169, 170, 171, 172, 173, 174, 175, 176, 177, 178, 179,\n",
       "        180, 181, 182, 183, 184, 185, 186, 187, 188, 189, 190, 191, 192,\n",
       "        193, 194, 195, 196, 197, 198, 199, 200, 201, 202, 203, 204, 205,\n",
       "        206, 207, 208, 209, 210, 211, 212, 213, 214, 215, 216, 217, 218,\n",
       "        219, 220, 221, 222, 223, 224, 225, 226, 227, 228, 229, 230, 231,\n",
       "        232, 233, 234, 235, 236, 237, 238, 239, 240, 241, 242, 243, 244,\n",
       "        245, 246, 247, 248, 249, 250, 251, 252, 253, 254, 255]),\n",
       " array([256, 257, 258, 259, 260, 261, 262, 263, 264, 265, 266, 267, 268,\n",
       "        269, 270, 271, 272, 273, 274, 275, 276, 277, 278, 279, 280, 281,\n",
       "        282, 283, 284, 285, 286, 287, 288, 289, 290, 291, 292, 293, 294,\n",
       "        295, 296, 297, 298, 299, 300, 301, 302, 303, 304, 305, 306, 307,\n",
       "        308, 309, 310, 311, 312, 313, 314, 315, 316, 317, 318, 319, 320,\n",
       "        321, 322, 323, 324, 325, 326, 327, 328, 329, 330, 331, 332, 333,\n",
       "        334, 335, 336, 337, 338, 339, 340, 341, 342, 343, 344, 345, 346,\n",
       "        347, 348, 349, 350, 351, 352, 353, 354, 355, 356, 357, 358, 359,\n",
       "        360, 361, 362, 363, 364, 365, 366, 367, 368, 369, 370, 371, 372,\n",
       "        373, 374, 375, 376, 377, 378, 379, 380, 381, 382, 383]),\n",
       " array([384, 385, 386, 387, 388, 389, 390, 391, 392, 393, 394, 395, 396,\n",
       "        397, 398, 399, 400, 401, 402, 403, 404, 405, 406, 407, 408, 409,\n",
       "        410, 411, 412, 413, 414, 415, 416, 417, 418, 419, 420, 421, 422,\n",
       "        423, 424, 425, 426, 427, 428, 429, 430, 431, 432, 433, 434, 435,\n",
       "        436, 437, 438, 439, 440, 441, 442, 443, 444, 445, 446, 447, 448,\n",
       "        449, 450, 451, 452, 453, 454, 455, 456, 457, 458, 459, 460, 461,\n",
       "        462, 463, 464, 465, 466, 467, 468, 469, 470, 471, 472, 473, 474,\n",
       "        475, 476, 477, 478, 479, 480, 481, 482, 483, 484, 485, 486, 487,\n",
       "        488, 489, 490, 491, 492, 493, 494, 495, 496, 497, 498, 499, 500,\n",
       "        501, 502, 503, 504, 505, 506, 507, 508, 509, 510, 511]),\n",
       " array([512, 513, 514, 515, 516, 517, 518, 519, 520, 521, 522, 523, 524,\n",
       "        525, 526, 527, 528, 529, 530, 531, 532, 533, 534, 535, 536, 537,\n",
       "        538, 539, 540, 541, 542, 543, 544, 545, 546, 547, 548, 549, 550,\n",
       "        551, 552, 553, 554, 555, 556, 557, 558, 559, 560, 561, 562, 563,\n",
       "        564, 565, 566, 567, 568, 569, 570, 571, 572, 573, 574, 575, 576,\n",
       "        577, 578, 579, 580, 581, 582, 583, 584, 585, 586, 587, 588, 589,\n",
       "        590, 591, 592, 593, 594, 595, 596, 597, 598, 599, 600, 601, 602,\n",
       "        603, 604, 605, 606, 607, 608, 609, 610, 611, 612, 613, 614, 615,\n",
       "        616, 617, 618, 619, 620, 621, 622, 623, 624, 625, 626, 627, 628,\n",
       "        629, 630, 631, 632, 633, 634, 635, 636, 637, 638, 639]),\n",
       " array([640, 641, 642, 643, 644, 645, 646, 647, 648, 649, 650, 651, 652,\n",
       "        653, 654, 655, 656, 657, 658, 659, 660, 661, 662, 663, 664, 665,\n",
       "        666, 667, 668, 669, 670, 671, 672, 673, 674, 675, 676, 677, 678,\n",
       "        679, 680, 681, 682, 683, 684, 685, 686, 687, 688, 689, 690, 691,\n",
       "        692, 693, 694, 695, 696, 697, 698, 699, 700, 701, 702, 703, 704,\n",
       "        705, 706, 707, 708, 709, 710, 711, 712, 713, 714, 715, 716, 717,\n",
       "        718, 719, 720, 721, 722, 723, 724, 725, 726, 727, 728, 729, 730,\n",
       "        731, 732, 733, 734, 735, 736, 737, 738, 739, 740, 741, 742, 743,\n",
       "        744, 745, 746, 747, 748, 749, 750, 751, 752, 753, 754, 755, 756,\n",
       "        757, 758, 759, 760, 761, 762, 763, 764, 765, 766, 767]),\n",
       " array([768, 769, 770, 771, 772, 773, 774, 775, 776, 777, 778, 779, 780,\n",
       "        781, 782, 783, 784, 785, 786, 787, 788, 789, 790, 791, 792, 793,\n",
       "        794, 795, 796, 797, 798, 799, 800, 801, 802, 803, 804, 805, 806,\n",
       "        807, 808, 809, 810, 811, 812, 813, 814, 815, 816, 817, 818, 819,\n",
       "        820, 821, 822, 823, 824, 825, 826, 827, 828, 829, 830, 831, 832,\n",
       "        833, 834, 835, 836, 837, 838, 839, 840, 841, 842, 843, 844, 845,\n",
       "        846, 847, 848, 849, 850, 851, 852, 853, 854, 855, 856, 857, 858,\n",
       "        859, 860, 861, 862, 863, 864, 865, 866, 867, 868, 869, 870, 871,\n",
       "        872, 873, 874, 875, 876, 877, 878, 879, 880, 881, 882, 883, 884,\n",
       "        885, 886, 887, 888, 889, 890, 891, 892, 893, 894, 895]),\n",
       " array([ 896,  897,  898,  899,  900,  901,  902,  903,  904,  905,  906,\n",
       "         907,  908,  909,  910,  911,  912,  913,  914,  915,  916,  917,\n",
       "         918,  919,  920,  921,  922,  923,  924,  925,  926,  927,  928,\n",
       "         929,  930,  931,  932,  933,  934,  935,  936,  937,  938,  939,\n",
       "         940,  941,  942,  943,  944,  945,  946,  947,  948,  949,  950,\n",
       "         951,  952,  953,  954,  955,  956,  957,  958,  959,  960,  961,\n",
       "         962,  963,  964,  965,  966,  967,  968,  969,  970,  971,  972,\n",
       "         973,  974,  975,  976,  977,  978,  979,  980,  981,  982,  983,\n",
       "         984,  985,  986,  987,  988,  989,  990,  991,  992,  993,  994,\n",
       "         995,  996,  997,  998,  999, 1000, 1001, 1002, 1003, 1004, 1005,\n",
       "        1006, 1007, 1008, 1009, 1010, 1011, 1012, 1013, 1014, 1015, 1016,\n",
       "        1017, 1018, 1019, 1020, 1021, 1022, 1023]),\n",
       " array([1024, 1025, 1026, 1027, 1028, 1029, 1030, 1031, 1032, 1033, 1034,\n",
       "        1035, 1036, 1037, 1038, 1039, 1040, 1041, 1042, 1043, 1044, 1045,\n",
       "        1046, 1047, 1048, 1049, 1050, 1051, 1052, 1053, 1054, 1055, 1056,\n",
       "        1057, 1058, 1059, 1060, 1061, 1062, 1063, 1064, 1065, 1066, 1067,\n",
       "        1068, 1069, 1070, 1071, 1072, 1073, 1074, 1075, 1076, 1077, 1078,\n",
       "        1079, 1080, 1081, 1082, 1083, 1084, 1085, 1086, 1087, 1088, 1089,\n",
       "        1090, 1091, 1092, 1093, 1094, 1095, 1096, 1097, 1098, 1099, 1100,\n",
       "        1101, 1102, 1103, 1104, 1105, 1106, 1107, 1108, 1109, 1110, 1111,\n",
       "        1112, 1113, 1114, 1115, 1116, 1117, 1118, 1119, 1120, 1121, 1122,\n",
       "        1123, 1124, 1125, 1126, 1127, 1128, 1129, 1130, 1131, 1132, 1133,\n",
       "        1134, 1135, 1136, 1137, 1138, 1139, 1140, 1141, 1142, 1143, 1144,\n",
       "        1145, 1146, 1147, 1148, 1149, 1150, 1151]),\n",
       " array([1152, 1153, 1154, 1155, 1156, 1157, 1158, 1159, 1160, 1161, 1162,\n",
       "        1163, 1164, 1165, 1166, 1167, 1168, 1169, 1170, 1171, 1172, 1173,\n",
       "        1174, 1175, 1176, 1177, 1178, 1179, 1180, 1181, 1182, 1183, 1184,\n",
       "        1185, 1186, 1187, 1188, 1189, 1190, 1191, 1192, 1193, 1194, 1195,\n",
       "        1196, 1197, 1198, 1199, 1200, 1201, 1202, 1203, 1204, 1205, 1206,\n",
       "        1207, 1208, 1209, 1210, 1211, 1212, 1213, 1214, 1215, 1216, 1217,\n",
       "        1218, 1219, 1220, 1221, 1222, 1223, 1224, 1225, 1226, 1227, 1228,\n",
       "        1229, 1230, 1231, 1232, 1233, 1234, 1235, 1236, 1237, 1238, 1239,\n",
       "        1240, 1241, 1242, 1243, 1244, 1245, 1246, 1247, 1248, 1249, 1250,\n",
       "        1251, 1252, 1253, 1254, 1255, 1256, 1257, 1258, 1259, 1260, 1261,\n",
       "        1262, 1263, 1264, 1265, 1266, 1267, 1268, 1269, 1270, 1271, 1272,\n",
       "        1273, 1274, 1275, 1276, 1277, 1278, 1279])]"
      ]
     },
     "execution_count": 21,
     "metadata": {},
     "output_type": "execute_result"
    }
   ],
   "source": [
    "indices"
   ]
  }
 ],
 "metadata": {
  "kernelspec": {
   "display_name": "Python 3.8.10 ('.venv': pipenv)",
   "language": "python",
   "name": "python3"
  },
  "language_info": {
   "codemirror_mode": {
    "name": "ipython",
    "version": 3
   },
   "file_extension": ".py",
   "mimetype": "text/x-python",
   "name": "python",
   "nbconvert_exporter": "python",
   "pygments_lexer": "ipython3",
   "version": "3.8.10"
  },
  "orig_nbformat": 4,
  "vscode": {
   "interpreter": {
    "hash": "27768773b483d82a9b2b839e3fa80b1be5789db7fd78df4eedef2df266871616"
   }
  }
 },
 "nbformat": 4,
 "nbformat_minor": 2
}
