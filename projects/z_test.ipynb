{
 "cells": [
  {
   "cell_type": "code",
   "execution_count": 5,
   "metadata": {},
   "outputs": [
    {
     "name": "stdout",
     "output_type": "stream",
     "text": [
      "Found: 32 files\n"
     ]
    }
   ],
   "source": [
    "from components.dataset_jo import Dataset_subjectDependent as MyDataset\n",
    "from components.preprocessing import preprocess_interface, standardize, DE, ASYM, PCC_TIME\n",
    "\n",
    "dataset = MyDataset(dataset_path='data', lazyload=True)\n",
    "dataset.set_segment(7680//(128*1))\n",
    "data, labels, groups = dataset.get_data('all', stimuli=1, return_type='numpy')\n",
    "X = DE(data, variant='asd')\n",
    "X = standardize(X)"
   ]
  },
  {
   "cell_type": "code",
   "execution_count": 34,
   "metadata": {},
   "outputs": [],
   "source": [
    "from sklearn.model_selection import StratifiedGroupKFold,GridSearchCV,StratifiedKFold\n",
    "n_split_outter = 10\n",
    "cv_outter = StratifiedGroupKFold(n_splits=n_split_outter, shuffle=False)\n",
    "train_1 = list(cv_outter.split(X, labels, groups))\n",
    "\n",
    "cv_outter_2 = StratifiedGroupKFold(n_splits=n_split_outter, shuffle=False)\n",
    "train_2 = list(cv_outter_2.split(X, labels, groups))"
   ]
  },
  {
   "cell_type": "code",
   "execution_count": 43,
   "metadata": {},
   "outputs": [
    {
     "name": "stdout",
     "output_type": "stream",
     "text": [
      "True\n",
      "True\n",
      "True\n",
      "True\n",
      "True\n",
      "True\n",
      "True\n",
      "True\n",
      "True\n",
      "True\n"
     ]
    }
   ],
   "source": [
    "for a,b in zip(train_1, train_2):\n",
    "    train = (a[0] == b[0]).all()\n",
    "    test = (a[1] == b[1]).all()\n",
    "    print(train == test)"
   ]
  },
  {
   "cell_type": "code",
   "execution_count": null,
   "metadata": {},
   "outputs": [],
   "source": [
    "\n"
   ]
  }
 ],
 "metadata": {
  "kernelspec": {
   "display_name": "Python 3.8.10 ('.venv': pipenv)",
   "language": "python",
   "name": "python3"
  },
  "language_info": {
   "codemirror_mode": {
    "name": "ipython",
    "version": 3
   },
   "file_extension": ".py",
   "mimetype": "text/x-python",
   "name": "python",
   "nbconvert_exporter": "python",
   "pygments_lexer": "ipython3",
   "version": "3.8.10"
  },
  "orig_nbformat": 4,
  "vscode": {
   "interpreter": {
    "hash": "27768773b483d82a9b2b839e3fa80b1be5789db7fd78df4eedef2df266871616"
   }
  }
 },
 "nbformat": 4,
 "nbformat_minor": 2
}
