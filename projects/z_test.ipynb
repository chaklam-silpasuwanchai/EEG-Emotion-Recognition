{
 "cells": [
  {
   "cell_type": "code",
   "execution_count": 1,
   "metadata": {},
   "outputs": [
    {
     "name": "stdout",
     "output_type": "stream",
     "text": [
      "Found: 32 files\n"
     ]
    }
   ],
   "source": [
    "from components.dataset_jo import Dataset_subjectDependent as MyDataset\n",
    "from components.preprocessing import preprocess_interface, standardize, DE, ASYM, PCC\n",
    "\n",
    "dataset = MyDataset(dataset_path='data', lazyload=True)\n",
    "lenght = 12\n",
    "dataset.set_segment(7680//(128*60))\n",
    "data, labels, groups = dataset.get_data('all', stimuli=1, return_type='numpy')\n",
    "# X = DE(data, variant='asd')\n",
    "# X = standardize(X)"
   ]
  },
  {
   "cell_type": "code",
   "execution_count": 34,
   "metadata": {},
   "outputs": [],
   "source": [
    "from sklearn.model_selection import StratifiedGroupKFold,GridSearchCV,StratifiedKFold\n",
    "n_split_outter = 10\n",
    "cv_outter = StratifiedGroupKFold(n_splits=n_split_outter, shuffle=False)\n",
    "train_1 = list(cv_outter.split(X, labels, groups))\n",
    "\n",
    "cv_outter_2 = StratifiedGroupKFold(n_splits=n_split_outter, shuffle=False)\n",
    "train_2 = list(cv_outter_2.split(X, labels, groups))"
   ]
  },
  {
   "cell_type": "code",
   "execution_count": 43,
   "metadata": {},
   "outputs": [
    {
     "name": "stdout",
     "output_type": "stream",
     "text": [
      "True\n",
      "True\n",
      "True\n",
      "True\n",
      "True\n",
      "True\n",
      "True\n",
      "True\n",
      "True\n",
      "True\n"
     ]
    }
   ],
   "source": [
    "for a,b in zip(train_1, train_2):\n",
    "    train = (a[0] == b[0]).all()\n",
    "    test = (a[1] == b[1]).all()\n",
    "    print(train == test)"
   ]
  },
  {
   "cell_type": "code",
   "execution_count": 55,
   "metadata": {},
   "outputs": [],
   "source": [
    "import numpy as np\n",
    "def _calculate_fft(signal, sfreq):\n",
    "    \"\"\" signal: can be 1D array of (n_sample,) or 2D array of (n_signal, n_sample)  \"\"\"\n",
    "    # the result will be a complex number. We can obtain the magnitude using `absolute`\n",
    "    magnitude = np.abs(np.fft.fft(signal, sfreq))\n",
    "    # scale the result\n",
    "    magnitude = magnitude / (sfreq/2)\n",
    "    # Selecting the range\n",
    "    magnitude = magnitude.T[:sfreq//2].T\n",
    "    freq_range= np.fft.fftfreq(128, d=1/128)[:128//2]\n",
    "    return magnitude\n",
    "\n"
   ]
  },
  {
   "cell_type": "code",
   "execution_count": 36,
   "metadata": {},
   "outputs": [
    {
     "name": "stdout",
     "output_type": "stream",
     "text": [
      "Fitted sphere radius:         95.3 mm\n",
      "Origin head coordinates:      -0.8 15.1 45.3 mm\n",
      "Origin device coordinates:    -0.8 15.1 45.3 mm\n"
     ]
    }
   ],
   "source": [
    "from components.preprocessing import convert_to_mne\n",
    "import mne\n",
    "epochs = convert_to_mne(data)\n",
    "epochs = mne.preprocessing.compute_current_source_density(epochs)\n",
    "data_time = epochs.get_data()  "
   ]
  },
  {
   "cell_type": "code",
   "execution_count": 56,
   "metadata": {},
   "outputs": [
    {
     "name": "stdout",
     "output_type": "stream",
     "text": [
      "(640,)\n",
      "(1, 1, 64) (64,)\n",
      "[[[ 0.  0.  0.  0.  0.  0.  0.  0.  0.  0.  0.  0.  0.  0.  0.  0.  0.\n",
      "    0.  0.  0.  0.  0.  0.  0.  0.  0.  0.  0.  0.  0.  0.  0.  0.  0.\n",
      "    0.  0.  0.  0.  0.  0.  0.  0.  0.  0.  0.  0.  0.  0.  0.  0.  0.\n",
      "    0.  0.  0.  0.  0.  0.  0.  0.  0. 10.  0.  0.  0.]]]\n"
     ]
    },
    {
     "data": {
      "image/png": "[encoded data removed]",
      "text/plain": [
       "<Figure size 432x288 with 1 Axes>"
      ]
     },
     "metadata": {
      "needs_background": "light"
     },
     "output_type": "display_data"
    }
   ],
   "source": [
    "import matplotlib.pyplot as plt\n",
    "t = np.arange(0,5,1/128)\n",
    "print(t.shape)\n",
    "f = 60\n",
    "data_time = np.sin(t * 2 * np.pi * f).reshape(1,1,-1) * 10\n",
    "\n",
    "data_freq = _calculate_fft(data_time, 128)\n",
    "\n",
    "freq_range= np.fft.fftfreq(128, d=1/128)[:128//2]\n",
    "print(data_freq.shape, freq_range.shape)\n",
    "plt.plot(freq_range, data_freq[0,0])\n",
    "data_freq[data_freq < 0.001] = 0\n",
    "print(data_freq)\n"
   ]
  },
  {
   "cell_type": "code",
   "execution_count": 30,
   "metadata": {},
   "outputs": [
    {
     "data": {
      "text/plain": [
       "array([  0.,   1.,   2.,   3.,   4.,   5.,   6.,   7.,   8.,   9.,  10.,\n",
       "        11.,  12.,  13.,  14.,  15.,  16.,  17.,  18.,  19.,  20.,  21.,\n",
       "        22.,  23.,  24.,  25.,  26.,  27.,  28.,  29.,  30.,  31.,  32.,\n",
       "        33.,  34.,  35.,  36.,  37.,  38.,  39.,  40.,  41.,  42.,  43.,\n",
       "        44.,  45.,  46.,  47.,  48.,  49.,  50.,  51.,  52.,  53.,  54.,\n",
       "        55.,  56.,  57.,  58.,  59.,  60.,  61.,  62.,  63., -64., -63.,\n",
       "       -62., -61., -60., -59., -58., -57., -56., -55., -54., -53., -52.,\n",
       "       -51., -50., -49., -48., -47., -46., -45., -44., -43., -42., -41.,\n",
       "       -40., -39., -38., -37., -36., -35., -34., -33., -32., -31., -30.,\n",
       "       -29., -28., -27., -26., -25., -24., -23., -22., -21., -20., -19.,\n",
       "       -18., -17., -16., -15., -14., -13., -12., -11., -10.,  -9.,  -8.,\n",
       "        -7.,  -6.,  -5.,  -4.,  -3.,  -2.,  -1.])"
      ]
     },
     "execution_count": 30,
     "metadata": {},
     "output_type": "execute_result"
    }
   ],
   "source": [
    "np.fft.fftfreq(128, d=1/128)"
   ]
  },
  {
   "cell_type": "code",
   "execution_count": 34,
   "metadata": {},
   "outputs": [
    {
     "data": {
      "text/plain": [
       "((1280, 32, 7680), (1280, 32, 7680), (1280, 32, 128))"
      ]
     },
     "execution_count": 34,
     "metadata": {},
     "output_type": "execute_result"
    }
   ],
   "source": [
    "data.shape, data_time.shape, data_freq.shape"
   ]
  },
  {
   "cell_type": "code",
   "execution_count": 11,
   "metadata": {},
   "outputs": [],
   "source": [
    "indices = np.array_split(np.arange(data.shape[0]), 1)"
   ]
  },
  {
   "cell_type": "code",
   "execution_count": 12,
   "metadata": {},
   "outputs": [
    {
     "data": {
      "text/plain": [
       "[array([    0,     1,     2, ..., 76797, 76798, 76799])]"
      ]
     },
     "execution_count": 12,
     "metadata": {},
     "output_type": "execute_result"
    }
   ],
   "source": [
    "indices"
   ]
  }
 ],
 "metadata": {
  "kernelspec": {
   "display_name": "Python 3.8.10 ('.venv': pipenv)",
   "language": "python",
   "name": "python3"
  },
  "language_info": {
   "codemirror_mode": {
    "name": "ipython",
    "version": 3
   },
   "file_extension": ".py",
   "mimetype": "text/x-python",
   "name": "python",
   "nbconvert_exporter": "python",
   "pygments_lexer": "ipython3",
   "version": "3.8.10"
  },
  "orig_nbformat": 4,
  "vscode": {
   "interpreter": {
    "hash": "27768773b483d82a9b2b839e3fa80b1be5789db7fd78df4eedef2df266871616"
   }
  }
 },
 "nbformat": 4,
 "nbformat_minor": 2
}
