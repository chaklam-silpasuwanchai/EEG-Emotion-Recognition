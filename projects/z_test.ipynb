{
 "cells": [
  {
   "cell_type": "code",
   "execution_count": 1,
   "metadata": {},
   "outputs": [
    {
     "name": "stdout",
     "output_type": "stream",
     "text": [
      "Found: 32 files\n"
     ]
    }
   ],
   "source": [
    "from components.dataset_jo import Dataset_subjectDependent as MyDataset\n",
    "from components.preprocessing import preprocess_interface, standardize, DE, ASYM, PCC\n",
    "\n",
    "dataset = MyDataset(dataset_path='data', lazyload=True)\n",
    "lenght = 12\n",
    "dataset.set_segment(7680//(128*60))\n",
    "data, labels, groups = dataset.get_data('all', stimuli=1, return_type='numpy')\n",
    "# X = DE(data, variant='asd')\n",
    "# X = standardize(X)"
   ]
  },
  {
   "cell_type": "code",
   "execution_count": 34,
   "metadata": {},
   "outputs": [],
   "source": [
    "from sklearn.model_selection import StratifiedGroupKFold,GridSearchCV,StratifiedKFold\n",
    "n_split_outter = 10\n",
    "cv_outter = StratifiedGroupKFold(n_splits=n_split_outter, shuffle=False)\n",
    "train_1 = list(cv_outter.split(X, labels, groups))\n",
    "\n",
    "cv_outter_2 = StratifiedGroupKFold(n_splits=n_split_outter, shuffle=False)\n",
    "train_2 = list(cv_outter_2.split(X, labels, groups))"
   ]
  },
  {
   "cell_type": "code",
   "execution_count": 43,
   "metadata": {},
   "outputs": [
    {
     "name": "stdout",
     "output_type": "stream",
     "text": [
      "True\n",
      "True\n",
      "True\n",
      "True\n",
      "True\n",
      "True\n",
      "True\n",
      "True\n",
      "True\n",
      "True\n"
     ]
    }
   ],
   "source": [
    "for a,b in zip(train_1, train_2):\n",
    "    train = (a[0] == b[0]).all()\n",
    "    test = (a[1] == b[1]).all()\n",
    "    print(train == test)"
   ]
  },
  {
   "cell_type": "code",
   "execution_count": 55,
   "metadata": {},
   "outputs": [],
   "source": [
    "import numpy as np\n",
    "def _calculate_fft(signal, sfreq):\n",
    "    \"\"\" signal: can be 1D array of (n_sample,) or 2D array of (n_signal, n_sample)  \"\"\"\n",
    "    # the result will be a complex number. We can obtain the magnitude using `absolute`\n",
    "    magnitude = np.abs(np.fft.fft(signal, sfreq))\n",
    "    # scale the result\n",
    "    magnitude = magnitude / (sfreq/2)\n",
    "    # Selecting the range\n",
    "    magnitude = magnitude.T[:sfreq//2].T\n",
    "    freq_range= np.fft.fftfreq(128, d=1/128)[:128//2]\n",
    "    return magnitude\n",
    "\n"
   ]
  },
  {
   "cell_type": "code",
   "execution_count": 36,
   "metadata": {},
   "outputs": [
    {
     "name": "stdout",
     "output_type": "stream",
     "text": [
      "Fitted sphere radius:         95.3 mm\n",
      "Origin head coordinates:      -0.8 15.1 45.3 mm\n",
      "Origin device coordinates:    -0.8 15.1 45.3 mm\n"
     ]
    }
   ],
   "source": [
    "from components.preprocessing import convert_to_mne\n",
    "import mne\n",
    "epochs = convert_to_mne(data)\n",
    "epochs = mne.preprocessing.compute_current_source_density(epochs)\n",
    "data_time = epochs.get_data()  "
   ]
  },
  {
   "cell_type": "code",
   "execution_count": 56,
   "metadata": {},
   "outputs": [
    {
     "name": "stdout",
     "output_type": "stream",
     "text": [
      "(640,)\n",
      "(1, 1, 64) (64,)\n",
      "[[[ 0.  0.  0.  0.  0.  0.  0.  0.  0.  0.  0.  0.  0.  0.  0.  0.  0.\n",
      "    0.  0.  0.  0.  0.  0.  0.  0.  0.  0.  0.  0.  0.  0.  0.  0.  0.\n",
      "    0.  0.  0.  0.  0.  0.  0.  0.  0.  0.  0.  0.  0.  0.  0.  0.  0.\n",
      "    0.  0.  0.  0.  0.  0.  0.  0.  0. 10.  0.  0.  0.]]]\n"
     ]
    },
    {
     "data": {
      "image/png": "[encoded data removed]",
      "text/plain": [
       "<Figure size 432x288 with 1 Axes>"
      ]
     },
     "metadata": {
      "needs_background": "light"
     },
     "output_type": "display_data"
    }
   ],
   "source": [
    "import matplotlib.pyplot as plt\n",
    "t = np.arange(0,5,1/128)\n",
    "print(t.shape)\n",
    "f = 60\n",
    "data_time = np.sin(t * 2 * np.pi * f).reshape(1,1,-1) * 10\n",
    "\n",
    "data_freq = _calculate_fft(data_time, 128)\n",
    "\n",
    "freq_range= np.fft.fftfreq(128, d=1/128)[:128//2]\n",
    "print(data_freq.shape, freq_range.shape)\n",
    "plt.plot(freq_range, data_freq[0,0])\n",
    "data_freq[data_freq < 0.001] = 0\n",
    "print(data_freq)\n"
   ]
  },
  {
   "cell_type": "code",
   "execution_count": 30,
   "metadata": {},
   "outputs": [
    {
     "data": {
      "text/plain": [
       "array([  0.,   1.,   2.,   3.,   4.,   5.,   6.,   7.,   8.,   9.,  10.,\n",
       "        11.,  12.,  13.,  14.,  15.,  16.,  17.,  18.,  19.,  20.,  21.,\n",
       "        22.,  23.,  24.,  25.,  26.,  27.,  28.,  29.,  30.,  31.,  32.,\n",
       "        33.,  34.,  35.,  36.,  37.,  38.,  39.,  40.,  41.,  42.,  43.,\n",
       "        44.,  45.,  46.,  47.,  48.,  49.,  50.,  51.,  52.,  53.,  54.,\n",
       "        55.,  56.,  57.,  58.,  59.,  60.,  61.,  62.,  63., -64., -63.,\n",
       "       -62., -61., -60., -59., -58., -57., -56., -55., -54., -53., -52.,\n",
       "       -51., -50., -49., -48., -47., -46., -45., -44., -43., -42., -41.,\n",
       "       -40., -39., -38., -37., -36., -35., -34., -33., -32., -31., -30.,\n",
       "       -29., -28., -27., -26., -25., -24., -23., -22., -21., -20., -19.,\n",
       "       -18., -17., -16., -15., -14., -13., -12., -11., -10.,  -9.,  -8.,\n",
       "        -7.,  -6.,  -5.,  -4.,  -3.,  -2.,  -1.])"
      ]
     },
     "execution_count": 30,
     "metadata": {},
     "output_type": "execute_result"
    }
   ],
   "source": [
    "np.fft.fftfreq(128, d=1/128)"
   ]
  },
  {
   "cell_type": "code",
   "execution_count": 34,
   "metadata": {},
   "outputs": [
    {
     "data": {
      "text/plain": [
       "((1280, 32, 7680), (1280, 32, 7680), (1280, 32, 128))"
      ]
     },
     "execution_count": 34,
     "metadata": {},
     "output_type": "execute_result"
    }
   ],
   "source": [
    "data.shape, data_time.shape, data_freq.shape"
   ]
  },
  {
   "cell_type": "code",
   "execution_count": 11,
   "metadata": {},
   "outputs": [],
   "source": [
    "indices = np.array_split(np.arange(data.shape[0]), 1)"
   ]
  },
  {
   "cell_type": "code",
   "execution_count": 12,
   "metadata": {},
   "outputs": [
    {
     "data": {
      "text/plain": [
       "[array([    0,     1,     2, ..., 76797, 76798, 76799])]"
      ]
     },
     "execution_count": 12,
     "metadata": {},
     "output_type": "execute_result"
    }
   ],
   "source": [
    "indices"
   ]
  },
  {
   "cell_type": "code",
   "execution_count": 111,
   "metadata": {},
   "outputs": [],
   "source": [
    "import glob\n",
    "import os\n",
    "import pandas as pd\n",
    "import re\n",
    "import numpy as np"
   ]
  },
  {
   "cell_type": "code",
   "execution_count": 117,
   "metadata": {},
   "outputs": [],
   "source": [
    "def get_10_cv(file_path):\n",
    "    pattern = \"10-CV\"\n",
    "    lines = []\n",
    "    with open(file_path, 'r') as f:\n",
    "        # last_line = f.readlines()[-1]\n",
    "        for line in f:\n",
    "            if(re.search(pattern,line)):\n",
    "                if(re.search(\"final\",line)):\n",
    "                    continue\n",
    "                else:\n",
    "                    lines.append(line)\n",
    "    return lines\n",
    "\n",
    "def get_result(file_path):\n",
    "    lines = get_10_cv(file_path)\n",
    "    # print(log)\n",
    "    try:\n",
    "        assert len(lines) == 32 or len(lines) == 1, len(lines)\n",
    "    except:\n",
    "        print(file_path, \"not done\")\n",
    "    if(file_path == \"\"):\n",
    "        print(lines)\n",
    "    cvs, stds = [], []\n",
    "    for line in lines:\n",
    "        try:\n",
    "            time,log_type,msg,cv_txt,std_txt,elapse = line.split('|')\n",
    "            assert log_type == 'INFO', f\"{line}\"\n",
    "            cv = float(cv_txt.split('=')[1])\n",
    "            std = float(std_txt.split('=')[1])\n",
    "            cvs.append(cv)\n",
    "            stds.append(std)\n",
    "        except Exception as e:\n",
    "            print(file_path, line, e)\n",
    "            raise e\n",
    "    return round(np.array(cvs).mean(),5), round(np.array(stds).mean(),5)"
   ]
  },
  {
   "cell_type": "code",
   "execution_count": 118,
   "metadata": {},
   "outputs": [
    {
     "name": "stdout",
     "output_type": "stream",
     "text": [
      "output/PCC_TIME/dependent-trial-valence-PCC_TIME-1.log not done\n"
     ]
    }
   ],
   "source": [
    "path_files = glob.glob(\"output/*/*dependent*.log\")\n",
    "df = pd.DataFrame(columns=[\"subject_setup\", \"experimental_setup\", \"preprocess\", \"segment_lenght\", \"stimuli\", \"cv\", \"std\"])\n",
    "for path_file in path_files:\n",
    "    # print(f)\n",
    "    path, filename = os.path.split(path_file)\n",
    "    # print(path, filename)\n",
    "    filename, ext = os.path.splitext(filename)\n",
    "    subject_setup, experimental_setup, stimuli,  preprocess, segment_lenght = filename.split('-')\n",
    "    # print(subject_setup, experimental_setup, stimuli, preprocess, segment_lenght)\n",
    "    try:\n",
    "        cv, std = get_result(path_file)\n",
    "        row = {\n",
    "            \"subject_setup\": subject_setup,\n",
    "            \"experimental_setup\": experimental_setup,\n",
    "            \"segment_lenght\": segment_lenght,\n",
    "            \"stimuli\": stimuli,\n",
    "            \"preprocess\": preprocess,\n",
    "            \"cv\": cv,\n",
    "            \"std\": std\n",
    "        }\n",
    "        a = pd.DataFrame.from_records([row])\n",
    "        df= pd.concat([df, a], axis=0)\n",
    "    except Exception as e:\n",
    "            # print(file_path, line, e)\n",
    "            raise e\n",
    "    # break\n",
    "df.to_csv(\"output/ml.csv\")"
   ]
  },
  {
   "cell_type": "code",
   "execution_count": 121,
   "metadata": {},
   "outputs": [
    {
     "name": "stdout",
     "output_type": "stream",
     "text": [
      "dependent-segment-sti-DASM-1\t0.642\t0.022\n",
      "dependent-segment-sti-RASM-1\t0.634\t0.018\n",
      "dependent-segment-sti-DCAU-1\t0.643\t0.019\n",
      "dependent-segment-sti-DASM-12\t0.664\t0.076\n",
      "dependent-segment-sti-RASM-12\t0.661\t0.077\n",
      "dependent-segment-sti-DCAU-12\t0.662\t0.077\n",
      "dependent-segment-sti-DASM-20\t0.658\t0.101\n",
      "dependent-segment-sti-RASM-20\t0.665\t0.107\n",
      "dependent-segment-sti-DCAU-20\t0.66\t0.104\n",
      "dependent-segment-sti-DASM-60\t0.626\t0.191\n",
      "dependent-segment-sti-RASM-60\t0.613\t0.178\n",
      "dependent-segment-sti-DCAU-60\t0.621\t0.182\n",
      "dependent-trial-sti-DASM-1\t0.619\t0.09\n",
      "dependent-trial-sti-RASM-1\t0.606\t0.092\n",
      "dependent-trial-sti-DCAU-1\t0.622\t0.093\n",
      "dependent-trial-sti-DASM-12\t0.626\t0.117\n",
      "dependent-trial-sti-RASM-12\t0.626\t0.117\n",
      "dependent-trial-sti-DCAU-12\t0.628\t0.114\n",
      "dependent-trial-sti-DASM-20\t0.629\t0.125\n",
      "dependent-trial-sti-RASM-20\t0.633\t0.128\n",
      "dependent-trial-sti-DCAU-20\t0.634\t0.13\n",
      "dependent-trial-sti-DASM-60\t0.63\t0.181\n",
      "dependent-trial-sti-RASM-60\t0.62\t0.18\n",
      "dependent-trial-sti-DCAU-60\t0.625\t0.173\n",
      "independent-segment-sti-DASM-1\t0.562\t0.012\n",
      "independent-segment-sti-RASM-1\t0.564\t0.0\n",
      "independent-segment-sti-DCAU-1\t0.553\t0.022\n",
      "independent-segment-sti-DASM-12\t0.517\t0.062\n",
      "independent-segment-sti-RASM-12\t0.506\t0.08\n",
      "independent-segment-sti-DCAU-12\t0.538\t0.044\n",
      "independent-segment-sti-DASM-20\t0.434\t0.124\n",
      "independent-segment-sti-RASM-20\t0.459\t0.079\n",
      "independent-segment-sti-DCAU-20\t0.466\t0.099\n",
      "independent-segment-sti-DASM-60\t0.409\t0.116\n",
      "independent-segment-sti-RASM-60\t0.461\t0.109\n",
      "independent-segment-sti-DCAU-60\t0.434\t0.127\n",
      "independent-trial-sti-DASM-1\t0.562\t0.006\n",
      "independent-trial-sti-RASM-1\t0.564\t0.003\n",
      "independent-trial-sti-DCAU-1\t0.562\t0.005\n",
      "independent-trial-sti-DASM-12\t0.558\t0.026\n",
      "independent-trial-sti-RASM-12\t0.564\t0.006\n",
      "independent-trial-sti-DCAU-12\t0.56\t0.016\n",
      "independent-trial-sti-DASM-20\t0.585\t0.023\n",
      "independent-trial-sti-RASM-20\t0.571\t0.017\n",
      "independent-trial-sti-DCAU-20\t0.578\t0.033\n",
      "independent-trial-sti-DASM-60\t0.615\t0.022\n",
      "independent-trial-sti-RASM-60\t0.59\t0.032\n",
      "independent-trial-sti-DCAU-60\t0.619\t0.04\n"
     ]
    }
   ],
   "source": [
    "df = pd.read_csv(\"output/ml.csv\")\n",
    "# for preprocess in [\"DE\",\"DASM\",\"RASM\",\"DCAU\",\"PCC_TIME\",\"PCC_FREQ\",\"PLV\",\"PLI\"]:\n",
    "for subject_setup in [\"dependent\",\"independent\"]:\n",
    "    for experimental_setup in [\"segment\", 'trial']:\n",
    "        for segment_lenght in [1,12,20,60]:\n",
    "            for preprocess in [\"DASM\",\"RASM\",\"DCAU\"]:\n",
    "                rows = df.loc[\n",
    "                    (df[\"subject_setup\"] == subject_setup) &\n",
    "                    (df[\"experimental_setup\"] ==  experimental_setup) &\n",
    "                    (df[\"segment_lenght\"] ==  segment_lenght) &\n",
    "                    (df[\"preprocess\"] ==  preprocess)\n",
    "                ]\n",
    "                if(len(rows) == 0): \n",
    "                    print(f\"{subject_setup}-{experimental_setup}-sti-{preprocess}-{segment_lenght} has not run\")\n",
    "                elif(len(rows) == 1):\n",
    "                    print(rows)\n",
    "                    raise ValueError\n",
    "                else:\n",
    "                    print(f\"{subject_setup}-{experimental_setup}-sti-{preprocess}-{segment_lenght}\", round(rows['cv'].mean(),3), round(rows['std'].mean(),3), sep=\"\\t\")\n",
    "                # pass\n",
    "            # for sti in [\"arousal\",\"valence\"]:\n"
   ]
  },
  {
   "cell_type": "code",
   "execution_count": null,
   "metadata": {},
   "outputs": [],
   "source": [
    "dependent-segment-sti-DASM-1\t0.642\t0.022\n",
    "dependent-segment-sti-RASM-1\t0.634\t0.018\n",
    "dependent-segment-sti-DCAU-1\t0.643\t0.019\n",
    "dependent-segment-sti-DASM-12\t0.664\t0.076\n",
    "dependent-segment-sti-RASM-12\t0.661\t0.077\n",
    "dependent-segment-sti-DCAU-12\t0.662\t0.077\n",
    "dependent-segment-sti-DASM-20\t0.658\t0.101\n",
    "dependent-segment-sti-RASM-20\t0.665\t0.107\n",
    "dependent-segment-sti-DCAU-20\t0.66\t0.104\n",
    "dependent-segment-sti-DASM-60\t0.626\t0.191\n",
    "dependent-segment-sti-RASM-60\t0.613\t0.178\n",
    "dependent-segment-sti-DCAU-60\t0.621\t0.182\n",
    "dependent-trial-sti-DASM-1\t0.619\t0.09\n",
    "dependent-trial-sti-RASM-1\t0.606\t0.092\n",
    "dependent-trial-sti-DCAU-1\t0.622\t0.093\n",
    "dependent-trial-sti-DASM-12\t0.626\t0.117\n",
    "dependent-trial-sti-RASM-12\t0.626\t0.117\n",
    "dependent-trial-sti-DCAU-12\t0.628\t0.114\n",
    "dependent-trial-sti-DASM-20\t0.629\t0.125\n",
    "dependent-trial-sti-RASM-20\t0.633\t0.128\n",
    "dependent-trial-sti-DCAU-20\t0.634\t0.13\n",
    "dependent-trial-sti-DASM-60\t0.63\t0.181\n",
    "dependent-trial-sti-RASM-60\t0.62\t0.18\n",
    "dependent-trial-sti-DCAU-60\t0.625\t0.173\n",
    "independent-segment-sti-DASM-1\t0.562\t0.012\n",
    "independent-segment-sti-RASM-1\t0.564\t0.0\n",
    "independent-segment-sti-DCAU-1\t0.553\t0.022\n",
    "independent-segment-sti-DASM-12\t0.517\t0.062\n",
    "independent-segment-sti-RASM-12\t0.506\t0.08\n",
    "independent-segment-sti-DCAU-12\t0.538\t0.044\n",
    "independent-segment-sti-DASM-20\t0.434\t0.124\n",
    "independent-segment-sti-RASM-20\t0.459\t0.079\n",
    "independent-segment-sti-DCAU-20\t0.466\t0.099\n",
    "independent-segment-sti-DASM-60\t0.409\t0.116\n",
    "independent-segment-sti-RASM-60\t0.461\t0.109\n",
    "independent-segment-sti-DCAU-60\t0.434\t0.127\n",
    "independent-trial-sti-DASM-1\t0.562\t0.006\n",
    "independent-trial-sti-RASM-1\t0.564\t0.003\n",
    "independent-trial-sti-DCAU-1\t0.562\t0.005\n",
    "independent-trial-sti-DASM-12\t0.558\t0.026\n",
    "independent-trial-sti-RASM-12\t0.564\t0.006\n",
    "independent-trial-sti-DCAU-12\t0.56\t0.016\n",
    "independent-trial-sti-DASM-20\t0.585\t0.023\n",
    "independent-trial-sti-RASM-20\t0.571\t0.017\n",
    "independent-trial-sti-DCAU-20\t0.578\t0.033\n",
    "independent-trial-sti-DASM-60\t0.615\t0.022\n",
    "independent-trial-sti-RASM-60\t0.59\t0.032\n",
    "independent-trial-sti-DCAU-60\t0.619\t0.04"
   ]
  }
 ],
 "metadata": {
  "kernelspec": {
   "display_name": "Python 3.8.10 ('.venv': pipenv)",
   "language": "python",
   "name": "python3"
  },
  "language_info": {
   "codemirror_mode": {
    "name": "ipython",
    "version": 3
   },
   "file_extension": ".py",
   "mimetype": "text/x-python",
   "name": "python",
   "nbconvert_exporter": "python",
   "pygments_lexer": "ipython3",
   "version": "3.8.10"
  },
  "orig_nbformat": 4,
  "vscode": {
   "interpreter": {
    "hash": "27768773b483d82a9b2b839e3fa80b1be5789db7fd78df4eedef2df266871616"
   }
  }
 },
 "nbformat": 4,
 "nbformat_minor": 2
}
