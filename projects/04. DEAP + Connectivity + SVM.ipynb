{
 "cells": [
  {
   "cell_type": "markdown",
   "id": "ea26d92c",
   "metadata": {},
   "source": [
    "# Part 4. DEAP Dataset + Connectivity + SVM\n",
    "\n",
    "In this part 4, we will focus on feature engineering using connectivity analysis.  Connectivity analysis here refers to the analysis of correlations between different electrodes.\n",
    "\n",
    "Connectivity analysis is a very useful technique to understand the dynamics of the brain, especially on a very long-duration task.\n",
    "\n",
    "In this part, we shall extract these connectivities as features.  Then let's try input these features into SVM and see if these features are useful for predicting the four valence-arousal classes that we have obtained from Part 1."
   ]
  },
  {
   "cell_type": "markdown",
   "id": "088e975b",
   "metadata": {},
   "source": [
    "Welcome back to part 4 of this zero-to-hero EEG analysis.\n",
    "\n",
    "Previously, we learnt that basic Spectral Information (FFT,PSD) can somehow capture the emotion (70% using 5 bands of each electrodes).\n",
    "However, when we considered the asymetry between 2-electrodes, the accuracy increase to 75%. (We have not yet find the way to mearge the 5 different information)\n",
    "\n",
    "In brain science, there is a theory that neurons work together. One neuron activate another and so on. This chain (or could be parallel) of activation is in this topic \"Connectivity\".\n",
    "\n",
    "This topic is much deeper and harder to simplify (one reason is because it is an on going research) and this tutorial has no intension to explain connectivity theory to you. Therefore, a self-research is a must.\n",
    "\n",
    "There are multiple ways (a lot of waysss) to measure connectivity. One way is to look at phase.\n",
    "\n",
    "If the two brain region are working together, their rythm are somewhat synchronize.\n",
    "\n",
    "OK good, we just match the two electrodes and find the correlation. if it is high then there is connectivity.\n",
    "\n",
    "Well, that is the basis. In reality, EEG data is highly correlated because each electrode share the same data (an activation is recorded by multiple electrodes). \n",
    "\n",
    "One way to counter this is to apply [`surface laplacian`](https://www.youtube.com/watch?v=CodQ5-pmXdQ) method. It is not a perfect method but rather a standard technique. Look into the literature for more detail.\n",
    "\n",
    "Let's us apply this `surface laplacian` first."
   ]
  },
  {
   "cell_type": "markdown",
   "id": "5d05cfbf",
   "metadata": {},
   "source": [
    "## 1. Loading dataset\n",
    "\n",
    "Let's first reuse the dataset loader we have created in Part 1."
   ]
  },
  {
   "cell_type": "code",
   "execution_count": 1,
   "id": "83423011",
   "metadata": {},
   "outputs": [
    {
     "name": "stdout",
     "output_type": "stream",
     "text": [
      "Data shape:  (15360, 32, 672)\n",
      "Label shape:  (15360,)\n"
     ]
    }
   ],
   "source": [
    "import numpy as np\n",
    "import pickle\n",
    "\n",
    "# this time I will load the Dataset class from `./components/dataset.py`\n",
    "from components.dataset import Dataset\n",
    "path = \"data\"  #create a folder \"data\", and inside put s01.dat,....,s32.dat inside from the preprocessed folder from the DEAP dataset\n",
    "dataset = Dataset(path, \"Valence\")\n",
    "\n",
    "data  = np.array(dataset[:]['data'])\n",
    "label = np.array(dataset[:]['label']).squeeze()\n",
    "\n",
    "print(\"Data shape: \" , data.shape)  #15360 = 32 * 40 trials * 12 segments, 32 EEG channels, 672 samples\n",
    "print(\"Label shape: \", label.shape)  #two classes of valence"
   ]
  },
  {
   "cell_type": "markdown",
   "id": "0c9e7b50",
   "metadata": {},
   "source": [
    "Here I only cache the data from the loader.\n",
    "\n",
    "Loading from cache is faster in my machine."
   ]
  },
  {
   "cell_type": "code",
   "execution_count": 3,
   "id": "df931aed",
   "metadata": {},
   "outputs": [
    {
     "name": "stdout",
     "output_type": "stream",
     "text": [
      "Data shape:  (15360, 32, 672)\n",
      "Label shape:  (15360,)\n"
     ]
    }
   ],
   "source": [
    "# Here I can load the data from cache (work a bit faster than loop through the /data/*.dat)\n",
    "def save(data,filename):\n",
    "    with open(f'cache/{filename}.pickle', 'wb') as handle:\n",
    "        pickle.dump(data, handle, protocol=pickle.HIGHEST_PROTOCOL)\n",
    "\n",
    "def load(filename):\n",
    "    with open(f'cache/{filename}.pickle', 'rb') as handle:\n",
    "        data = pickle.load(handle)\n",
    "    return data\n",
    "\n",
    "# save(data, 'data_valence')\n",
    "# save(label, 'label_valence')\n",
    "\n",
    "data = load('data_valence')\n",
    "label = load('label_valence')\n",
    "\n",
    "print(\"Data shape: \" , data.shape)  #15360 = 32 * 40 trials * 12 segments, 32 EEG channels, 672 samples\n",
    "print(\"Label shape: \", label.shape)  #two classes of valence\n",
    "\n",
    "# I won't use this `dataset` object anymore. Save a lot of RAM.\n",
    "del(dataset)"
   ]
  },
  {
   "cell_type": "markdown",
   "id": "a0b41682",
   "metadata": {},
   "source": [
    "## 2. The correlation part\n",
    "\n",
    "As said in the begining, EEG data is high correlation.\n",
    "\n",
    "Let's prove that it is true.\n",
    "\n",
    "**Note: For instace why it should be true is when you blink, the both electrode Fp1 Fp2 measure your blink.*"
   ]
  },
  {
   "cell_type": "markdown",
   "id": "eecb7059",
   "metadata": {},
   "source": [
    "The easiest way to prove that data are shared between the electrodes is finding correlation. (Wow, i said this word multiple time)\n",
    "\n",
    "The correlation is somewhat weak term. The number we got from the function meanless unless you compare with another thing. (Confuse? Think of the loss term in Deep Learning, It means nothing unless you compare it in series)."
   ]
  },
  {
   "cell_type": "code",
   "execution_count": 22,
   "id": "0760ca7d",
   "metadata": {},
   "outputs": [],
   "source": [
    "# Here is I calculate correlation step by step\n",
    "\n",
    "sample = data[0]\n",
    "# (32, 672)\n",
    "# sample.shape\n",
    "\n",
    "# This will has correlation matrix at the end\n",
    "corr_sample = []\n",
    "\n",
    "# Get eletrode_a from all electrtodes\n",
    "for index_a in range(32):\n",
    "    corr_row = []\n",
    "    scaler = None\n",
    "    # Compare electrode_a to all electrodes\n",
    "    for index_b in range(32):\n",
    "        electrode_a = sample[index_a]\n",
    "        electrode_b = sample[index_b]\n",
    "        # https://numpy.org/doc/stable/reference/generated/numpy.correlate.html\n",
    "        coeff = np.correlate(electrode_b, electrode_a, mode='valid')\n",
    "        corr_row.append(coeff)\n",
    "        if(index_a == index_b): scaler = coeff\n",
    "\n",
    "    corr_row = np.hstack(corr_row)\n",
    "    corr_row = corr_row / scaler\n",
    "    # print(corr_row.shape) => (32,)\n",
    "    corr_sample.append(corr_row)\n",
    "\n",
    "corr_sample = np.vstack(corr_sample)\n",
    "# print(corr_sample.shape) => (32,32)\n"
   ]
  },
  {
   "cell_type": "code",
   "execution_count": 23,
   "id": "5f4114f0",
   "metadata": {},
   "outputs": [
    {
     "data": {
      "image/png": "[encoded data removed]",
      "text/plain": [
       "<Figure size 720x720 with 2 Axes>"
      ]
     },
     "metadata": {
      "needs_background": "light"
     },
     "output_type": "display_data"
    }
   ],
   "source": [
    "import matplotlib.pyplot as plt\n",
    "\n",
    "ch_names = ['Fp1','AF3','F3','F7','FC5','FC1','C3','T7','CP5','CP1','P3','P7','PO3','O1','Oz','Pz','Fp2','AF4','Fz','F4','F8','FC6','FC2','Cz','C4','T8','CP6','CP2','P4','P8','PO4','O2']\n",
    "f = plt.figure(figsize=(10, 10))\n",
    "plt.matshow(abs(corr_sample), fignum=f.number)\n",
    "plt.xticks(range(len(ch_names)), ch_names, rotation=45)\n",
    "plt.yticks(range(len(ch_names)), ch_names)\n",
    "cb = plt.colorbar()\n",
    "# cb.ax.tick_params(labelsize=14)\n",
    "plt.title('Correlation Matrix');"
   ]
  },
  {
   "cell_type": "markdown",
   "id": "7a00cc26",
   "metadata": {},
   "source": [
    "The lighter the colour, the greater information they share.\n",
    "\n",
    "Let's say the Fp1-Fp1 is the maximun information shared = 1. \n",
    "\n",
    "Let's see the correation of Fp1 compares another"
   ]
  },
  {
   "cell_type": "code",
   "execution_count": 38,
   "id": "d3e8a109",
   "metadata": {},
   "outputs": [
    {
     "name": "stdout",
     "output_type": "stream",
     "text": [
      "1.0 Fp1\n",
      "0.9260536 AF3\n",
      "0.821613 F7\n",
      "0.7900972 F3\n",
      "0.77451545 Fp2\n",
      "0.7598759 PO4\n",
      "0.74120134 P4\n",
      "0.70947576 P3\n",
      "0.61753434 O2\n",
      "0.6059011 Oz\n",
      "0.6053959 PO3\n",
      "0.5621436 O1\n",
      "0.5293826 F4\n",
      "0.52142894 Pz\n",
      "0.44434643 Fz\n",
      "0.43891737 F8\n",
      "0.39555243 P7\n",
      "0.383458 T7\n",
      "0.3575377 AF4\n",
      "0.33959383 CP2\n",
      "0.33204433 CP1\n",
      "0.2851352 P8\n",
      "0.28436184 FC5\n",
      "0.26125258 CP6\n",
      "0.24175304 C4\n",
      "0.23949584 FC2\n",
      "0.1922385 Cz\n",
      "0.18832019 FC1\n",
      "0.14312485 CP5\n",
      "0.13717708 C3\n",
      "0.12257443 T8\n",
      "0.120949775 FC6\n"
     ]
    }
   ],
   "source": [
    "corr_Fp1 = abs(corr_sample[ch_names.index('Fp1')])\n",
    "\n",
    "for orderd_index in corr_Fp1.argsort()[::-1]:\n",
    "    print( corr_Fp1[orderd_index], ch_names[orderd_index]  )"
   ]
  },
  {
   "cell_type": "markdown",
   "id": "e63dc167",
   "metadata": {},
   "source": [
    "<img src=\"https://upload.wikimedia.org/wikipedia/commons/6/6e/International_10-20_system_for_EEG-MCN.svg\">"
   ]
  },
  {
   "cell_type": "markdown",
   "id": "043e15df",
   "metadata": {},
   "source": [
    "Wow. Fp1 and AF3 near recored the same data. It could be the same data if we delayed the electrode_b a bit. But that is question for later.\n",
    "\n",
    "For now, let's `Surface Laplacian` the data\n",
    "\n",
    "In `mne`, the function to use is [Current Source Density (CSD)](https://mne.tools/stable/auto_examples/preprocessing/eeg_csd.html?highlight=spatial%20laplacian)"
   ]
  },
  {
   "cell_type": "code",
   "execution_count": 44,
   "id": "58918e45",
   "metadata": {},
   "outputs": [
    {
     "name": "stdout",
     "output_type": "stream",
     "text": [
      "Not setting metadata\n",
      "Not setting metadata\n",
      "15360 matching events found\n",
      "No baseline correction applied\n",
      "0 projection items activated\n",
      "0 bad epochs dropped\n",
      "Fitted sphere radius:         91.4 mm\n",
      "Origin head coordinates:      1.0 7.3 50.2 mm\n",
      "Origin device coordinates:    1.0 7.3 50.2 mm\n"
     ]
    }
   ],
   "source": [
    "from mne.preprocessing import compute_current_source_density\n",
    "import mne\n",
    "\n",
    "# convert data to mne.Epochs\n",
    "ch_names = ['Fp1','AF3','F3','F7','FC5','FC1','C3','T7','CP5','CP1','P3','P7','PO3','O1','Oz','Pz','Fp2','AF4','Fz','F4','F8','FC6','FC2','Cz','C4','T8','CP6','CP2','P4','P8','PO4','O2']\n",
    "ch_types = ['eeg'] * len(ch_names)\n",
    "sfreq = 128 #Hz\n",
    "# https://mne.tools/stable/generated/mne.create_info.html\n",
    "info = mne.create_info(ch_names=ch_names, ch_types=ch_types, sfreq=sfreq)\n",
    "epochs = mne.EpochsArray(data,info)\n",
    "epochs.set_montage('standard_1020')\n",
    "\n",
    "# I ran out of RAM\n",
    "del(data)\n",
    "\n",
    "epochs_csd = compute_current_source_density(epochs)\n"
   ]
  },
  {
   "cell_type": "markdown",
   "id": "8204fc46",
   "metadata": {},
   "source": [
    "Let's calculate the correlation again with the CSD data"
   ]
  },
  {
   "cell_type": "code",
   "execution_count": 55,
   "id": "8b64d9af",
   "metadata": {},
   "outputs": [
    {
     "data": {
      "image/png": "[encoded data removed]",
      "text/plain": [
       "<Figure size 720x720 with 2 Axes>"
      ]
     },
     "metadata": {
      "needs_background": "light"
     },
     "output_type": "display_data"
    },
    {
     "name": "stdout",
     "output_type": "stream",
     "text": [
      "1.0 Fp1\n",
      "0.9091728367128609 AF3\n",
      "0.759389404410194 F3\n",
      "0.5920178061499116 T8\n",
      "0.5392559727857197 P7\n",
      "0.5340613955410654 F7\n",
      "0.5202827941467469 FC5\n",
      "0.4381353671390498 PO4\n",
      "0.37820239594916777 O2\n",
      "0.3728413570877575 FC2\n",
      "0.34352491605241786 Cz\n",
      "0.3348395515024905 Fp2\n",
      "0.2973826567287101 FC1\n",
      "0.2961737053766444 P4\n",
      "0.2559005792097564 AF4\n",
      "0.23574479637355325 CP2\n",
      "0.21808215111786977 P3\n",
      "0.21134380579660028 Oz\n",
      "0.20432248335468034 PO3\n",
      "0.17871407132280245 O1\n",
      "0.17723312125906884 P8\n",
      "0.17168185490339752 CP6\n",
      "0.16172971870536865 CP1\n",
      "0.15843781157276257 Fz\n",
      "0.135495142486162 C4\n",
      "0.12986920561806914 CP5\n",
      "0.12646195641373978 FC6\n",
      "0.12512982219997862 F4\n",
      "0.07799588594363188 C3\n",
      "0.07054608369808789 T7\n",
      "0.054904802951614776 F8\n",
      "0.05472577976724237 Pz\n"
     ]
    }
   ],
   "source": [
    "# Here is I calculate correlation step by step\n",
    "\n",
    "sample = epochs_csd._data[0]\n",
    "# (32, 672)\n",
    "# sample.shape\n",
    "\n",
    "# This will has correlation matrix at the end\n",
    "corr_sample = []\n",
    "\n",
    "# Get eletrode_a from all electrtodes\n",
    "for index_a in range(32):\n",
    "    corr_row = []\n",
    "    scaler = None\n",
    "    # Compare electrode_a to all electrodes\n",
    "    for index_b in range(32):\n",
    "        electrode_a = sample[index_a]\n",
    "        electrode_b = sample[index_b]\n",
    "        # https://numpy.org/doc/stable/reference/generated/numpy.correlate.html\n",
    "        coeff = np.correlate(electrode_b, electrode_a, mode='valid')\n",
    "        corr_row.append(coeff)\n",
    "        if(index_a == index_b): scaler = coeff\n",
    "\n",
    "    corr_row = np.hstack(corr_row)\n",
    "    corr_row = corr_row / scaler\n",
    "    # print(corr_row.shape) => (32,)\n",
    "    corr_sample.append(corr_row)\n",
    "\n",
    "corr_sample = np.vstack(corr_sample)\n",
    "# print(corr_sample.shape) => (32,32)\n",
    "\n",
    "f = plt.figure(figsize=(10, 10))\n",
    "plt.matshow(abs(corr_sample), fignum=f.number)\n",
    "plt.xticks(range(len(ch_names)), ch_names, rotation=45)\n",
    "plt.yticks(range(len(ch_names)), ch_names)\n",
    "cb = plt.colorbar()\n",
    "# cb.ax.tick_params(labelsize=14)\n",
    "plt.title('Correlation Matrix');\n",
    "plt.show()\n",
    "\n",
    "corr_Fp1 = abs(corr_sample[ch_names.index('Fp1')])\n",
    "for orderd_index in corr_Fp1.argsort()[::-1]:\n",
    "    print( corr_Fp1[orderd_index], ch_names[orderd_index]  )\n"
   ]
  },
  {
   "cell_type": "code",
   "execution_count": 61,
   "id": "6329c65a",
   "metadata": {},
   "outputs": [
    {
     "name": "stdout",
     "output_type": "stream",
     "text": [
      "Non CSD sum of correlation coeff: 14.872452145000002\n",
      "CSD sum of correlation coeff: 10.063599232277127\n"
     ]
    }
   ],
   "source": [
    "print('Non CSD sum of correlation coeff:', sum([1.0, 0.9260536, 0.821613, 0.7900972, 0.77451545, 0.7598759, 0.74120134, 0.70947576, 0.61753434, 0.6059011, 0.6053959, 0.5621436, 0.5293826, 0.52142894, 0.44434643, 0.43891737, 0.39555243, 0.383458, 0.3575377, 0.33959383, 0.33204433, 0.2851352, 0.28436184, 0.26125258, 0.24175304, 0.23949584, 0.1922385, 0.18832019, 0.14312485, 0.13717708, 0.12257443, 0.120949775]))\n",
    "\n",
    "print('CSD sum of correlation coeff:', sum([1.0,0.9091728367128609 ,0.759389404410194 ,0.5920178061499116 ,0.5392559727857197 ,0.5340613955410654 ,0.5202827941467469 ,0.4381353671390498 ,0.37820239594916777 ,0.3728413570877575 ,0.34352491605241786 ,0.3348395515024905 ,0.2973826567287101 ,0.2961737053766444 ,0.2559005792097564 ,0.23574479637355325 ,0.21808215111786977 ,0.21134380579660028 ,0.20432248335468034 ,0.17871407132280245 ,0.17723312125906884 ,0.17168185490339752 ,0.16172971870536865 ,0.15843781157276257 ,0.135495142486162 ,0.12986920561806914 ,0.12646195641373978 ,0.12512982219997862 ,0.07799588594363188 ,0.07054608369808789 ,0.054904802951614776 ,0.05472577976724237]))"
   ]
  },
  {
   "cell_type": "markdown",
   "id": "596d86ef",
   "metadata": {},
   "source": [
    "Base on my lazy summation (because I forget the sum them and I don't want to rerun the tutorial), the CSD data has lower the correlation as expected.\n",
    "\n",
    "Finally, we can do this connectivity thing."
   ]
  },
  {
   "cell_type": "code",
   "execution_count": 63,
   "id": "c8ef7f3c",
   "metadata": {},
   "outputs": [],
   "source": [
    "save(epochs_csd, 'epochs_csd_valence')"
   ]
  },
  {
   "cell_type": "markdown",
   "id": "e7cc8888",
   "metadata": {},
   "source": [
    "## 3. Connectivity Analysis\n",
    "\n",
    "*You can start run from here*"
   ]
  },
  {
   "cell_type": "markdown",
   "id": "15c5ea0e",
   "metadata": {},
   "source": [
    "[Emotional EEG Classification using Connectivity Features and Convolutional Neural Networks](https://arxiv.org/pdf/2101.07069.pdf)\n",
    "\n",
    "Before we jump right into the `connectivity`, let's up think what make sense here.\n",
    "\n",
    "There are various ways to calculate the connectivity. As shown above, the correlation between electrodes is one of the way.\n",
    "\n",
    "I will call this `connectivity within trial` and the correlation has the names `Pearson correlation coefficient` ($R^2$).\n",
    "\n",
    "You could also find the connectivity between different trials which makes sense in the ERP (Event-Related Potential).\n",
    "\n",
    "Since we are working with Emotion and 5 frequency bands delta (0-4), theta (4 - 8 Hz), alpha (8 - 12 Hz), beta (12 - 30 Hz), and gamma (30 - 64 Hz) is what we are interested (is what I am interested, not nesseary you), we want to do `within trial` and use the result as features for SVM later in the tutorial.\n",
    "\n",
    "Sure you can see this task as ERP task if you calculate a baseline trial. However, it is not very common to do so.\n",
    "\n",
    "Let's try the `Pearson correlation coefficient` ($R^2$) using `within trial`\n",
    "\n",
    "Previously, I did a very simple Correlation matrix using `numpy.correlate` function. Now, it is time to look at the actual equation.\n",
    "\n",
    "https://en.wikipedia.org/wiki/Pearson_correlation_coefficient\n",
    "\n",
    "$$ C = \\frac{Cov[X,Y]}{\\sigma_{x}  \\sigma_{y}} $$\n",
    "\n",
    "In this `Pearson correlation coefficient`, we do not look at each freqncy band seperately but rather look at how each brain region interact with each other. For instance, if everytime we are happy then region_a and region_b work together. Hence, a high correlation of region a and b on every happy trial.\n",
    "\n",
    "The correlation feature of 32*32 channels is 1024 features.\n",
    "\n",
    "Let's code"
   ]
  },
  {
   "cell_type": "code",
   "execution_count": 7,
   "id": "c2afcbdf",
   "metadata": {},
   "outputs": [],
   "source": [
    "import numpy as np\n",
    "import pickle\n",
    "import mne\n",
    "from tqdm.notebook import tqdm\n",
    "import matplotlib.pyplot as plt\n",
    "\n",
    "def load(filename):\n",
    "    with open(f'cache/{filename}.pickle', 'rb') as handle:\n",
    "        data = pickle.load(handle)\n",
    "    return data\n",
    "\n",
    "def save(data,filename):\n",
    "    with open(f'cache/{filename}.pickle', 'wb') as handle:\n",
    "        pickle.dump(data, handle, protocol=pickle.HIGHEST_PROTOCOL)\n",
    "\n",
    "def pearson_correlation(x,y):\n",
    "    \"\"\" x,y denoted the signal_x and signal_y following the equation \"\"\"\n",
    "    cov = np.cov(x, y)\n",
    "    # print(cov)\n",
    "    # [[ 8806859.74527069  8007149.0906219 ] ==> [[cov_xx, cov_xy]\n",
    "    # [ 8007149.0906219  10396797.72458848]]      [cov_yx, cov_yy]]\n",
    "    cov_xy = cov[0,1] # or cov[1,0]\n",
    "    cov_xx = cov[0,0]\n",
    "    cov_yy = cov[1,1]\n",
    "    corr = cov_xy / ( cov_xx**0.5 * cov_yy**0.5  )\n",
    "    return corr\n",
    "\n",
    "import time\n",
    "def train_model(X_ori,y_ori, kernel='rbf'):\n",
    "    # Make a copy because I am paranoid\n",
    "    X,y = X_ori.copy(), y_ori.copy()\n",
    "\n",
    "    from sklearn.svm import SVC\n",
    "    from sklearn.utils import shuffle\n",
    "    from sklearn.model_selection import cross_val_score\n",
    "\n",
    "    X_shuff,y_shuff = shuffle(X,y)\n",
    "    model = SVC(kernel=kernel,max_iter=10000)\n",
    "    cross = cross_val_score(model, X_shuff, y_shuff, cv=3)\n",
    "\n",
    "    model = SVC(kernel=kernel, max_iter=10000)\n",
    "    model.fit(X_shuff, y_shuff)\n",
    "    ans = model.predict(X_shuff)\n",
    "    acc = sum(ans == y_shuff) / len(y_shuff)\n",
    "    return model, acc, cross\n",
    "\n",
    "    \n",
    "epochs_csd = load('epochs_csd_valence')"
   ]
  },
  {
   "cell_type": "code",
   "execution_count": null,
   "id": "a865cd71",
   "metadata": {},
   "outputs": [],
   "source": []
  },
  {
   "cell_type": "code",
   "execution_count": 3,
   "id": "57092bea",
   "metadata": {},
   "outputs": [
    {
     "data": {
      "application/vnd.jupyter.widget-view+json": {
       "model_id": "21d81eb2e78046f1bada2f80893e4be4",
       "version_major": 2,
       "version_minor": 0
      },
      "text/plain": [
       "  0%|          | 0/15360 [00:00<?, ?it/s]"
      ]
     },
     "metadata": {},
     "output_type": "display_data"
    },
    {
     "name": "stdout",
     "output_type": "stream",
     "text": [
      "(15360, 1024)\n"
     ]
    }
   ],
   "source": [
    "# This will be me calculate Correlation feature with shape (n_trials/n_epochs, 1024)\n",
    "X = []\n",
    "for epoch in tqdm(epochs_csd):\n",
    "    corr_epoch = []\n",
    "    for index_a in range(32):\n",
    "        for index_b in range(32):\n",
    "            p_corr = pearson_correlation(epoch[index_a], epoch[index_b])\n",
    "            corr_epoch.append(p_corr)\n",
    "    corr_epoch = np.hstack(corr_epoch)\n",
    "    # print(corr_epoch.shape) => (1024,)\n",
    "    X.append(corr_epoch)\n",
    "\n",
    "X = np.vstack(X)\n",
    "print(X.shape) # => (15360, 1024)\n",
    "save(X, 'X_pearson')"
   ]
  },
  {
   "cell_type": "markdown",
   "id": "7d61700e",
   "metadata": {},
   "source": [
    "Let's SVM its"
   ]
  },
  {
   "cell_type": "code",
   "execution_count": 5,
   "id": "fa20ab85",
   "metadata": {},
   "outputs": [
    {
     "data": {
      "text/plain": [
       "((15360, 1024), (15360,))"
      ]
     },
     "execution_count": 5,
     "metadata": {},
     "output_type": "execute_result"
    }
   ],
   "source": [
    "X = load('X_pearson')\n",
    "y = load('label_valence')\n",
    "X.shape, y.shape"
   ]
  },
  {
   "cell_type": "code",
   "execution_count": 6,
   "id": "826de4f7",
   "metadata": {},
   "outputs": [
    {
     "name": "stdout",
     "output_type": "stream",
     "text": [
      "\tAcc=0.67552 | 3-CV score=0.65885 STD=0.00997| Time spend=991.2590882778168\n"
     ]
    }
   ],
   "source": [
    "start = time.time()\n",
    "model, acc, cross = train_model(X, y, kernel='rbf')\n",
    "# We can save the model and reuse it later\n",
    "print(f\"\\tAcc={round(acc,5)} | 3-CV score={round(cross.mean(),5)} STD={round(cross.std(),5)}| Time spend={time.time() - start}\")"
   ]
  },
  {
   "cell_type": "markdown",
   "id": "f8dbf6a4",
   "metadata": {},
   "source": [
    "OMG! It took 991 seconds to finish the run. Well, it was 1024 features. However, This result was a lot better than the `all_asymetry` did.\n",
    "\n",
    "Next, we are going to calculate the `pearson correlation` of a frequncy content between electrodes.\n",
    "\n",
    "The function we are going to use [`numpy.fft.fft`](https://numpy.org/doc/stable/reference/generated/numpy.fft.fft.html) to calculate the both FFT and obtain phase information (which we will be using later so we going to learn the function now).\n",
    "\n",
    "Our previous example find correlation between two pure signals which is not wrong. However, if the two signals are actually correlated but delay, it could result in low correlation coefficient. Instead of trying to phase-lock the signal (which is a must in ERP), we are going to convert the signal from Time domain into Freq domain using FFT instead. (Actually, the PSD function is useable since it is in Freq domain too)."
   ]
  },
  {
   "cell_type": "code",
   "execution_count": 71,
   "id": "bd684541",
   "metadata": {},
   "outputs": [
    {
     "data": {
      "application/vnd.jupyter.widget-view+json": {
       "model_id": "242379ff1d3a4299a606768acd9ae4aa",
       "version_major": 2,
       "version_minor": 0
      },
      "text/plain": [
       "  0%|          | 0/15360 [00:00<?, ?it/s]"
      ]
     },
     "metadata": {},
     "output_type": "display_data"
    },
    {
     "name": "stdout",
     "output_type": "stream",
     "text": [
      "(15360, 1024)\n"
     ]
    }
   ],
   "source": [
    "def calculate_fft(signal, sfreq):\n",
    "    \"\"\" signal: can be 1D array of (n_sample,) or 2D array of (n_signal, n_sample)  \"\"\"\n",
    "    number_sample = signal.shape[-1]\n",
    "\n",
    "    # the result will be a complex number. We can obtain the magnitude using `absolute`\n",
    "    magnitude = np.abs(np.fft.fft(signal))\n",
    "    # scale the result\n",
    "    magnitude = magnitude / (number_sample/2)\n",
    "    # Selecting the range\n",
    "    magnitude = magnitude.T[:number_sample//2].T\n",
    "    freq_range = np.fft.fftfreq(number_sample, d=1/sfreq)[:number_sample//2]\n",
    "\n",
    "    return magnitude, freq_range\n",
    "\n",
    "X = []\n",
    "for epoch in tqdm(epochs_csd):\n",
    "    corr_mag = []\n",
    "    # (32, 336) (336,)\n",
    "    mag, f_range = calculate_fft(epoch, 128)\n",
    "    for index_a in range(32):\n",
    "        for index_b in range(32):\n",
    "            p_corr = pearson_correlation(mag[index_a], mag[index_b])\n",
    "            corr_mag.append(p_corr)\n",
    "    corr_mag = np.hstack(corr_mag)\n",
    "    # print(corr_mag.shape)# => (1024,)\n",
    "    X.append(corr_mag)\n",
    "    # break\n",
    "\n",
    "X = np.vstack(X)\n",
    "print(X.shape) # => (15360, 1024)\n",
    "save(X, 'X_fft_pearson')"
   ]
  },
  {
   "cell_type": "code",
   "execution_count": 72,
   "id": "8526e230",
   "metadata": {},
   "outputs": [
    {
     "name": "stdout",
     "output_type": "stream",
     "text": [
      "(15360, 1024) (15360,)\n",
      "\tAcc=0.72311 | 3-CV score=0.69538 STD=0.00106| Time spend=617.6518638134003\n"
     ]
    }
   ],
   "source": [
    "X = load('X_fft_pearson')\n",
    "y = load('label_valence')\n",
    "print(X.shape, y.shape)\n",
    "\n",
    "start = time.time()\n",
    "model, acc, cross = train_model(X, y, kernel='rbf')\n",
    "# We can save the model and reuse it later\n",
    "print(f\"\\tAcc={round(acc,5)} | 3-CV score={round(cross.mean(),5)} STD={round(cross.std(),5)}| Time spend={time.time() - start}\")"
   ]
  },
  {
   "cell_type": "markdown",
   "id": "8ec06572",
   "metadata": {},
   "source": [
    "This time, we bump up the accuray to 72% with nearly 70% of CV score. Sweet!\n",
    "\n",
    "Next, we are going to explore the connectivity base on Phase of the signal.\n",
    "\n",
    "In the previous two examples, we kind of ignore the phase. To consider Phase, there are way to measure the connectivity through Phase.\n",
    "\n",
    "- [Phase Lag Index (PLI)](https://www.youtube.com/watch?v=jdY-qHz6Zo8)\n",
    "\n",
    "$$ PLI(j,k) = | n^{-1} \\Sigma^{n}_{t=1} sign(Im[e^{i (\\phi^j - \\phi^k) t}])  | $$\n",
    "\n",
    "- [Inter-site phase clustering (ISPC)](https://www.youtube.com/watch?v=4vwj7t6yDQk)\n",
    "\n",
    "$$ ISPC(j,k) = | n^{-1} \\Sigma^{n}_{t=1} e^{i ( \\phi^j - \\phi^k)t } |$$\n",
    "\n",
    "- [phase locking value (PLV)](https://arxiv.org/pdf/2101.07069.pdf)\n",
    "\n",
    "$$ PLV(i,k) = \\frac{1}{T} | \\Sigma^{T}_{t=1} exp(j(\\phi^{t}_{i} - \\phi^{t}_{k}))  | $$\n",
    "\n",
    "- [Phase-Coherence](https://github.com/emma-holmes/Phase-Coherence-for-Python) : Note that the same method is sometimes referred to as the phase locking value (PLV)--although some implementations of the PLV use a time-series filter rather than conducting the analyses in the frequency domain, as used here.\n",
    "\n",
    "Well, ISPD and PLV look to be the same euqation (this two names same function happen a lot).\n",
    "\n",
    "To calculate the phase, we have to select which frequncy you want to obtain the phase. In our case, there will be 64 phases (128/2) per electrode. Later, according to the equation, it will sum down to *one* number.\n",
    "\n",
    "Let's code the PLV/ISPC"
   ]
  },
  {
   "cell_type": "code",
   "execution_count": 11,
   "id": "fb97f268",
   "metadata": {},
   "outputs": [
    {
     "data": {
      "image/png": "[encoded data removed]",
      "text/plain": [
       "<Figure size 432x288 with 1 Axes>"
      ]
     },
     "metadata": {
      "needs_background": "light"
     },
     "output_type": "display_data"
    },
    {
     "data": {
      "text/plain": [
       "(array([[1.        , 1.        , 1.        , ..., 1.        , 1.        ,\n",
       "         1.        ],\n",
       "        [0.33333333, 0.79281859, 0.85814091, ..., 0.80216808, 0.85295706,\n",
       "         0.83333333],\n",
       "        [1.        , 1.        , 1.        , ..., 1.        , 1.        ,\n",
       "         1.        ],\n",
       "        ...,\n",
       "        [1.        , 0.99283242, 0.9981587 , ..., 0.99902754, 0.99798618,\n",
       "         1.        ],\n",
       "        [1.        , 0.98987042, 0.99307326, ..., 0.99820315, 0.99657745,\n",
       "         1.        ],\n",
       "        [1.        , 1.        , 1.        , ..., 1.        , 1.        ,\n",
       "         1.        ]]),\n",
       " (528, 65))"
      ]
     },
     "execution_count": 11,
     "metadata": {},
     "output_type": "execute_result"
    }
   ],
   "source": [
    "def calculate_stft(signals, sfreq):\n",
    "    from scipy import signal\n",
    "    # This is short time fourier transform. Sound fancy but it actually is a FFT with smaller window size.\n",
    "    # In this case we use the window size = sampling rate.\n",
    "    # Our signal contain 672 samples, thus, a window size of 128 wil result in 5.25 = > 6 time frames.\n",
    "    # Moreover, we all so have overlapping of half window size. Therefore, 6 + 6 = 12 time frames\n",
    "    f_range, t_range, Z = signal.stft(signals, sfreq, nperseg=sfreq, nfft=sfreq)\n",
    "    magnitude = np.abs(Z) \n",
    "    # magnitude.shape => (32, 65, 12)\n",
    "\n",
    "    phase = np.angle(Z)\n",
    "    # phase.shape => (32, 65, 12)\n",
    "\n",
    "    return magnitude, phase, f_range, t_range\n",
    "\n",
    "def PLV_stft(phase):\n",
    "    plv = []\n",
    "    # (32, 65, 12) => (channels, freqs, times)\n",
    "    # print(phase.shape)\n",
    "    for index_a in range(phase.shape[0]):\n",
    "        for index_b in range(index_a+1):\n",
    "            # shape = (65,12)\n",
    "            phase_a, phase_b = phase[index_a], phase[index_b]\n",
    "            phase_diff = phase_a - phase_b\n",
    "            # sum along the time size\n",
    "            plv_ab = np.abs(np.average(np.exp(complex(0,1) * phase_diff), axis=1))\n",
    "            plv.append(plv_ab)\n",
    "    # shape (528, 65)\n",
    "    # 528 is number of pairs that is not duplicate\n",
    "    # 65 is number of phase of frequencies\n",
    "    plv = np.vstack( plv )\n",
    "    return plv\n",
    "\n",
    "mag, phase, f_range, t_range = calculate_stft(epochs_csd.get_data()[500], 128)\n",
    "plt.pcolormesh(t_range, f_range, mag[0])\n",
    "plt.title('STFT Magnitude of electrode 0')\n",
    "plt.ylabel('Frequency [Hz]')\n",
    "plt.xlabel('Time [sec]')\n",
    "plt.show()\n",
    "plv = PLV_stft(phase)\n",
    "plv, plv.shape"
   ]
  },
  {
   "cell_type": "code",
   "execution_count": 404,
   "id": "d6f81134",
   "metadata": {},
   "outputs": [
    {
     "data": {
      "application/vnd.jupyter.widget-view+json": {
       "model_id": "1b65b99505f6411289455ec97efd7ac8",
       "version_major": 2,
       "version_minor": 0
      },
      "text/plain": [
       "  0%|          | 0/15360 [00:00<?, ?it/s]"
      ]
     },
     "metadata": {},
     "output_type": "display_data"
    },
    {
     "name": "stdout",
     "output_type": "stream",
     "text": [
      "(15360, 528, 65)\n"
     ]
    }
   ],
   "source": [
    "X = []\n",
    "for epoch in tqdm(epochs_csd):\n",
    "    # (32, 65, 12) (65,)\n",
    "    _, phase, f_range, _ = calculate_stft(epoch, 128)\n",
    "    plv = PLV_stft(phase)\n",
    "    # print(plv.shape)# => (528, 65)\n",
    "    X.append(plv)\n",
    "\n",
    "X = np.stack(X)\n",
    "print(X.shape) # => (15360, 528, 65)\n",
    "save(X, 'X_PLV_stft')"
   ]
  },
  {
   "cell_type": "code",
   "execution_count": 3,
   "id": "1e7b49b5",
   "metadata": {},
   "outputs": [
    {
     "name": "stdout",
     "output_type": "stream",
     "text": [
      "(15360, 2640)\n"
     ]
    }
   ],
   "source": [
    "X = load('X_PLV_stft')\n",
    "print(X.shape)\n",
    "# Sum the information down in frequcny axis from 65 to 5 based on EEG freq band.\n",
    "# Otherwise, there will be toooooooo many feature.\n",
    "X_5 = np.concatenate( [ X[:, :,0:4].mean(axis=2),\n",
    "                        X[:, :,4:8].mean(axis=2),\n",
    "                        X[:, :,8:12].mean(axis=2),\n",
    "                        X[:, :,12:30].mean(axis=2),\n",
    "                        X[:, :,30:64].mean(axis=2),],axis=1 )\n",
    "print(X_5.shape)\n",
    "save(X_5, 'X_PLV_stft_5')"
   ]
  },
  {
   "cell_type": "code",
   "execution_count": 2,
   "id": "138abfc4",
   "metadata": {},
   "outputs": [
    {
     "name": "stdout",
     "output_type": "stream",
     "text": [
      "(15360, 2640) (15360,)\n",
      "\tAcc=0.78073 | 3-CV score=0.7168 STD=0.00564| Time spend=1206.8660593032837\n"
     ]
    }
   ],
   "source": [
    "X = load('X_PLV_stft_5')\n",
    "y = load('label_valence')\n",
    "print(X.shape, y.shape)\n",
    "\n",
    "start = time.time()\n",
    "model, acc, cross = train_model(X, y, kernel='rbf')\n",
    "# We can save the model and reuse it later\n",
    "print(f\"\\tAcc={round(acc,5)} | 3-CV score={round(cross.mean(),5)} STD={round(cross.std(),5)}| Time spend={time.time() - start}\")"
   ]
  },
  {
   "cell_type": "markdown",
   "id": "e64e216a",
   "metadata": {},
   "source": [
    "The PLV feature improve our performance to 78% and CV of 72%. The result is pretty satisfying.\n",
    "\n",
    "Time to calculate the last PLI. Here I copy the equation from above.\n",
    "\n",
    "$$ PLI(j,k) = | n^{-1} \\Sigma^{n}_{t=1} sign(Im[e^{i (\\phi^j - \\phi^k) t}])  | $$\n",
    "\n",
    "*Note: Sign is a function that only take the + or -*"
   ]
  },
  {
   "cell_type": "code",
   "execution_count": 13,
   "id": "4aab9b79",
   "metadata": {},
   "outputs": [
    {
     "data": {
      "text/plain": [
       "(array([[0.        , 0.        , 0.        , ..., 0.        , 0.        ,\n",
       "         0.        ],\n",
       "        [0.        , 0.        , 0.        , ..., 0.33333333, 0.        ,\n",
       "         0.25      ],\n",
       "        [0.        , 0.        , 0.        , ..., 0.        , 0.        ,\n",
       "         0.        ],\n",
       "        ...,\n",
       "        [0.16666667, 0.        , 0.        , ..., 0.16666667, 0.        ,\n",
       "         0.08333333],\n",
       "        [0.16666667, 0.16666667, 0.16666667, ..., 0.        , 0.66666667,\n",
       "         0.08333333],\n",
       "        [0.        , 0.        , 0.        , ..., 0.        , 0.        ,\n",
       "         0.        ]]),\n",
       " (528, 65))"
      ]
     },
     "execution_count": 13,
     "metadata": {},
     "output_type": "execute_result"
    }
   ],
   "source": [
    "def PLI(phase):\n",
    "    j = complex(0,1)\n",
    "    pli = []\n",
    "    for index_a in range(phase.shape[0]):\n",
    "        for index_b in range(phase.shape[0]):\n",
    "            phase_diff = phase[index_a] - phase[index_b]\n",
    "            # print(phase_diff.shape) => (336,)\n",
    "            pli_ab = np.abs(np.sign(np.imag(np.exp( j * phase_diff  ))).mean())\n",
    "            \n",
    "            pli.append(pli_ab)\n",
    "    pli = np.hstack(pli)\n",
    "    return pli\n",
    "\n",
    "def PLI_stft(phase):\n",
    "    plv = []\n",
    "    # (32, 65, 12) => (channels, freqs, times)\n",
    "    # print(phase.shape)\n",
    "    for index_a in range(phase.shape[0]):\n",
    "        for index_b in range(index_a+1):\n",
    "            # shape = (65,12)\n",
    "            phase_a, phase_b = phase[index_a], phase[index_b]\n",
    "            phase_diff = phase_a - phase_b\n",
    "            # sum along the time size\n",
    "            plv_ab = np.abs(np.average(   np.sign(np.imag(   np.exp(complex(0,1) * phase_diff) ))  , axis=1))\n",
    "            plv.append(plv_ab)\n",
    "    # shape (528, 65)\n",
    "    # 528 is number of pairs that is not duplicate\n",
    "    # 65 is number of phase of frequencies\n",
    "    plv = np.vstack( plv )\n",
    "    return plv\n",
    "\n",
    "\n",
    "\n",
    "mag, phase, f_range, t_range = calculate_stft(epochs_csd.get_data()[0], 128)\n",
    "pli = PLI_stft(phase)\n",
    "pli, pli.shape"
   ]
  },
  {
   "cell_type": "code",
   "execution_count": 19,
   "id": "327fb11e",
   "metadata": {},
   "outputs": [
    {
     "data": {
      "application/vnd.jupyter.widget-view+json": {
       "model_id": "9b6337667f194b9ca0ba8b0b7e5e9acd",
       "version_major": 2,
       "version_minor": 0
      },
      "text/plain": [
       "  0%|          | 0/15360 [00:00<?, ?it/s]"
      ]
     },
     "metadata": {},
     "output_type": "display_data"
    },
    {
     "name": "stdout",
     "output_type": "stream",
     "text": [
      "(15360, 528, 65)\n"
     ]
    }
   ],
   "source": [
    "X = []\n",
    "# count = 0\n",
    "for epoch in tqdm(epochs_csd):\n",
    "    # (32, 65, 12) (65,)\n",
    "    _, phase, f_range, _ = calculate_stft(epoch, 128)\n",
    "    pli = PLI_stft(phase)\n",
    "    # print(pli.shape)# => (528, 65)\n",
    "    X.append(pli)\n",
    "    # count += 1\n",
    "    # if count == 5:    break\n",
    "\n",
    "X = np.stack(X)\n",
    "print(X.shape) # => (15360, 528, 65)\n",
    "save(X, 'X_PLI_stft')"
   ]
  },
  {
   "cell_type": "code",
   "execution_count": 20,
   "id": "41222fcb",
   "metadata": {},
   "outputs": [
    {
     "name": "stdout",
     "output_type": "stream",
     "text": [
      "(15360, 528, 65)\n",
      "(15360, 2640)\n"
     ]
    }
   ],
   "source": [
    "X = load('X_PLI_stft')\n",
    "print(X.shape)\n",
    "# Sum the information down in frequcny axis from 65 to 5 based on EEG freq band.\n",
    "# Otherwise, there will be toooooooo many feature.\n",
    "X_5 = np.concatenate( [ X[:, :,0:4].mean(axis=2),\n",
    "                        X[:, :,4:8].mean(axis=2),\n",
    "                        X[:, :,8:12].mean(axis=2),\n",
    "                        X[:, :,12:30].mean(axis=2),\n",
    "                        X[:, :,30:64].mean(axis=2),],axis=1 )\n",
    "print(X_5.shape)\n",
    "save(X_5, 'X_PLI_stft_5')"
   ]
  },
  {
   "cell_type": "code",
   "execution_count": 21,
   "id": "b7bb0a06",
   "metadata": {},
   "outputs": [
    {
     "name": "stdout",
     "output_type": "stream",
     "text": [
      "(15360, 2640) (15360,)\n"
     ]
    },
    {
     "name": "stderr",
     "output_type": "stream",
     "text": [
      "/root/projects/.venv/lib/python3.8/site-packages/sklearn/svm/_base.py:284: ConvergenceWarning: Solver terminated early (max_iter=10000).  Consider pre-processing your data with StandardScaler or MinMaxScaler.\n",
      "  warnings.warn(\n"
     ]
    },
    {
     "name": "stdout",
     "output_type": "stream",
     "text": [
      "\tAcc=0.85456 | 3-CV score=0.56361 STD=0.00432| Time spend=1569.2779262065887\n"
     ]
    }
   ],
   "source": [
    "X = load('X_PLI_stft_5')\n",
    "y = load('label_valence')\n",
    "print(X.shape, y.shape)\n",
    "\n",
    "start = time.time()\n",
    "model, acc, cross = train_model(X, y, kernel='rbf')\n",
    "# We can save the model and reuse it later\n",
    "print(f\"\\tAcc={round(acc,5)} | 3-CV score={round(cross.mean(),5)} STD={round(cross.std(),5)}| Time spend={time.time() - start}\")"
   ]
  },
  {
   "cell_type": "markdown",
   "id": "ca85f2b9",
   "metadata": {},
   "source": [
    "We got something different here. The accury jump to 85% but CV score is drop to 56%.\n",
    "\n",
    "Well, it does look like the data is overfit during training or the data is not generalized."
   ]
  },
  {
   "cell_type": "markdown",
   "id": "95a72c53",
   "metadata": {},
   "source": [
    "Finally, we will look into the [`transfer entropy (TE)`](https://arxiv.org/pdf/2101.07069.pdf)\n",
    "\n",
    "$$ TE(i \\rightarrow k) = \\frac{1}{T-1} \\Sigma^{T-1}_{t=1} p( x^t_i,x^t_k,x^{t+1}_k ) log \\frac{ p( x^{t+1}_{k} | x^{t}_{i}, x^{t}_{k} ) }{ p( x^{t+1}_{k} | x^{t}_{k} ) }  $$\n",
    "\n",
    "Luckily, this time we have library to you. Hooray~!\n",
    "\n",
    "https://elife-asu.github.io/PyInform/starting.html\n",
    "\n",
    "However, I try to run on my poor laptop and it could not even start the first comparision. Look like this technique is memory hungry"
   ]
  },
  {
   "cell_type": "markdown",
   "id": "1ff775c5",
   "metadata": {},
   "source": [
    "## 4. MNE_Connectivity\n",
    "\n",
    "*you can start run from here*"
   ]
  },
  {
   "cell_type": "markdown",
   "id": "033d8b57",
   "metadata": {},
   "source": [
    "We are finally reach to the end of this tutorial. I don't want to create another file so I will just keep going.\n",
    "\n",
    "Just like `MNE_feature`, the folk at `MNE` also create a library called `MNE_connectivity` for calculate connectivity stuff.\n",
    "\n",
    "However, the library only focus on CSD+PSD calculation (It will perform CSD and then PSD and then connectivity).\n",
    "\n",
    "In the library, there is two main function\n",
    "\n",
    "1. [mne_connectivity.spectral_connectivity_epochs](https://mne.tools/mne-connectivity/stable/generated/mne_connectivity.spectral_connectivity_epochs.html)\n",
    "\n",
    "  - A epoch-wise connecticity.\n",
    "\n",
    "2. [mne_connectivity.spectral_connectivity_time](https://mne.tools/mne-connectivity/stable/generated/mne_connectivity.spectral_connectivity_time.html)\n",
    "\n",
    "  - A trial-wise connectivity. (within trial)\n",
    "\n",
    "*P.S. dont quote me on `epoch-wise` or `trial-wise`. I named it myself.*\n",
    "\n",
    "The main function to read is `1. spectral_connectivity_epochs`. All information is documented there. Then, we can apply the knowledge to `2. spectral_connectivity_time`"
   ]
  },
  {
   "cell_type": "markdown",
   "id": "c6494949",
   "metadata": {},
   "source": [
    "When we are calling `spectral_connectivity_epochs`, we have to specify `method` which is *which connectivity you want to calculate*.\n",
    "\n",
    "Here are the list of `method`.\n",
    "\n",
    "1. `coh` : Coherence given by:\n",
    "```\n",
    "         | E[Sxy] |\n",
    "C = ---------------------\n",
    "    sqrt(E[Sxx] * E[Syy])\n",
    "```\n",
    "\n",
    "2. `cohy` : Coherency given by:\n",
    "```\n",
    "           E[Sxy]\n",
    "C = ---------------------\n",
    "    sqrt(E[Sxx] * E[Syy])\n",
    "```\n",
    "\n",
    "3. `imcoh` : Imaginary coherence 1 given by:\n",
    "```\n",
    "          Im(E[Sxy])\n",
    "C = ----------------------\n",
    "    sqrt(E[Sxx] * E[Syy])\n",
    "```\n",
    "\n",
    "4. `plv` : Phase-Locking Value (PLV) 2 given by:\n",
    "```\n",
    "PLV = |E[Sxy/|Sxy|]|\n",
    "```\n",
    "\n",
    "5. `ciplv` : corrected imaginary PLV (icPLV) 3 given by:\n",
    "```\n",
    "                 |E[Im(Sxy/|Sxy|)]|\n",
    "ciPLV = ------------------------------------\n",
    "         sqrt(1 - |E[real(Sxy/|Sxy|)]| ** 2)\n",
    "```\n",
    "\n",
    "6. `ppc` : Pairwise Phase Consistency (PPC), an unbiased estimator of squared PLV 4.\n",
    "\n",
    "7. `pli` : Phase Lag Index (PLI) 5 given by:\n",
    "```\n",
    "PLI = |E[sign(Im(Sxy))]|\n",
    "```\n",
    "\n",
    "8. `pli2_unbiased` : Unbiased estimator of squared PLI 6.\n",
    "\n",
    "9. `wpli` : Weighted Phase Lag Index (WPLI) 6 given by:\n",
    "```\n",
    "          |E[Im(Sxy)]|\n",
    "WPLI = ------------------\n",
    "          E[|Im(Sxy)|]\n",
    "```\n",
    "\n",
    "10. `wpli2_debiased` : Debiased estimator of squared WPLI 6.\n"
   ]
  },
  {
   "cell_type": "markdown",
   "id": "704fbc52",
   "metadata": {},
   "source": [
    "So, `PLV` and `PLI` is given in the library. But, where is the `pearson correlation`?\n",
    "\n",
    "Well, if you look closely to the first method `coh` equation. Does it remind you of something?\n",
    "\n",
    "\n",
    "$$ S_{xx} = \\Sigma(x_{i} - \\bar{x})^{2} $$\n",
    "\n",
    "$$ S_{yy} = \\Sigma(y_{i} - \\bar{y})^{2} $$\n",
    "\n",
    "$$ S_{xy} = \\Sigma(x_{i} - \\bar{x})(y_{i} - \\bar{y}) $$\n",
    "\n",
    "Well, it is a variance (xx,yy) and covariance (xy)\n",
    "\n",
    "The `Coherence` is \n",
    "\n",
    "$$ C = \\frac{ | E[S_{xy}] | }{ \\sqrt{E[S_{ss}] * E[S_{yy}]} }  $$\n",
    "\n",
    "Here is the `pearson correlation` equation\n",
    "\n",
    "$$ C = \\frac{Cov[X,Y]}{\\sigma_{x}  \\sigma_{y}} $$\n",
    "\n",
    "The term $E[.]$ is expected value. This use in the Random Variable when $X$ is a random process. $E[X]$ is $\\bar{X}$.\n",
    "\n",
    "Therefore if we try to merge the two world (Random Variable and Discrete Distribution), we can see that the `Coherence` is actually is the `Correlation` we love (with `abs` as a twist).\n",
    "\n",
    "If you want an exactly `pearson correlation` then `mne_connectivity` has `cohy` method\n",
    "\n",
    "```\n",
    "           E[Sxy]\n",
    "C = ---------------------\n",
    "    sqrt(E[Sxx] * E[Syy])\n",
    "```\n",
    "\n",
    "\n",
    "Note:\n",
    "- Variability [youtube](https://www.youtube.com/watch?v=d-yK_I0pVFY)\n",
    "- Random Variable [pdf](https://www0.gsb.columbia.edu/faculty/pglasserman/B6014/RandomVariables.pdf)"
   ]
  },
  {
   "cell_type": "markdown",
   "id": "3f91c536",
   "metadata": {},
   "source": [
    "However, that is the list of method in `spectral_connectivity_epochs` not `spectral_connectivity_time`.\n",
    "\n",
    "The list of method in `spectral_connectivity_time` is limited to the following.\n",
    "\n",
    "- `coh` : Coherence\n",
    "- `plv` : Phase-Locking Value (PLV)\n",
    "- `sxy` : Cross-spectrum\n",
    "\n",
    "Let's try or of them."
   ]
  },
  {
   "cell_type": "code",
   "execution_count": 1,
   "id": "a3c31640",
   "metadata": {},
   "outputs": [
    {
     "name": "stdout",
     "output_type": "stream",
     "text": [
      "Not setting metadata\n",
      "15360 matching events found\n",
      "No baseline correction applied\n",
      "0 projection items activated\n",
      "0 bad epochs dropped\n"
     ]
    },
    {
     "data": {
      "text/html": [
       "<table class=\"table table-hover table-striped table-sm table-responsive small\">\n",
       "    <tr>\n",
       "        <th>Number of events</th>\n",
       "        <td>15360</td>\n",
       "    </tr>\n",
       "    <tr>\n",
       "        <th>Events</th>\n",
       "        \n",
       "        <td>1: 15360</td>\n",
       "        \n",
       "    </tr>\n",
       "    <tr>\n",
       "        <th>Time range</th>\n",
       "        <td>0.000 – 5.242 sec</td>\n",
       "    </tr>\n",
       "    <tr>\n",
       "        <th>Baseline</th>\n",
       "        <td>off</td>\n",
       "    </tr>\n",
       "</table>"
      ],
      "text/plain": [
       "<EpochsArray |  15360 events (all good), 0 - 5.24219 sec, baseline off, ~2.46 GB, data loaded,\n",
       " '1': 15360>"
      ]
     },
     "execution_count": 1,
     "metadata": {},
     "output_type": "execute_result"
    }
   ],
   "source": [
    "import numpy as np\n",
    "import pickle\n",
    "import mne\n",
    "from tqdm.notebook import tqdm\n",
    "\n",
    "def save(data,filename):\n",
    "    with open(f'cache/{filename}.pickle', 'wb') as handle:\n",
    "        pickle.dump(data, handle, protocol=pickle.HIGHEST_PROTOCOL)\n",
    "\n",
    "def load(filename):\n",
    "    with open(f'cache/{filename}.pickle', 'rb') as handle:\n",
    "        data = pickle.load(handle)\n",
    "    return data\n",
    "\n",
    "# save(data, 'data_valence')\n",
    "# save(label, 'label_valence')\n",
    "\n",
    "data = load('data_valence')\n",
    "label = load('label_valence')\n",
    "\n",
    "# convert data to mne.Epochs\n",
    "ch_names = ['Fp1','AF3','F3','F7','FC5','FC1','C3','T7','CP5','CP1','P3','P7','PO3','O1','Oz','Pz','Fp2','AF4','Fz','F4','F8','FC6','FC2','Cz','C4','T8','CP6','CP2','P4','P8','PO4','O2']\n",
    "ch_types = ['eeg'] * len(ch_names)\n",
    "sfreq = 128 #Hz\n",
    "# https://mne.tools/stable/generated/mne.create_info.html\n",
    "info = mne.create_info(ch_names=ch_names, ch_types=ch_types, sfreq=sfreq)\n",
    "epochs = mne.EpochsArray(data,info)\n",
    "epochs.set_montage('standard_1020')\n",
    "\n",
    "# I use `epochs` because the mne_connectivity will do CSD for me. I think"
   ]
  },
  {
   "cell_type": "code",
   "execution_count": 2,
   "id": "b41385e0",
   "metadata": {},
   "outputs": [
    {
     "name": "stdout",
     "output_type": "stream",
     "text": [
      "(10, 32, 672)\n",
      "Connectivity computation...\n"
     ]
    },
    {
     "name": "stderr",
     "output_type": "stream",
     "text": [
      "/tmp/ipykernel_27838/3979398820.py:5: RuntimeWarning: There were no Annotations stored in <EpochsArray |  10 events (all good), 0 - 5.24219 sec, baseline off, ~1.7 MB, data loaded,\n",
      " '1': 10>, so metadata was not modified.\n",
      "  con = spectral_connectivity_time(epochs[:10], freqs=[4,5,6,7], mode='multitaper', method='coh')\n"
     ]
    },
    {
     "data": {
      "application/vnd.jupyter.widget-view+json": {
       "model_id": "29da6dd035af4c9eb9e96228a5478fd8",
       "version_major": 2,
       "version_minor": 0
      },
      "text/plain": [
       "  0%|          |  : 0/528 [00:00<?,       ?it/s]"
      ]
     },
     "metadata": {},
     "output_type": "display_data"
    },
    {
     "name": "stdout",
     "output_type": "stream",
     "text": [
      "<class 'mne_connectivity.base.EpochSpectroTemporalConnectivity'> (10, 528, 4, 672) (10, 32, 32, 4, 672)\n"
     ]
    }
   ],
   "source": [
    "from mne_connectivity import spectral_connectivity_time\n",
    "import matplotlib.pyplot as plt\n",
    "\n",
    "print(epochs[:10]._data.shape)\n",
    "con = spectral_connectivity_time(epochs[:10], freqs=[4,5,6,7], mode='multitaper', method='coh')\n",
    "\n",
    "print(type(con), con.shape, con.get_data('dense').shape)"
   ]
  },
  {
   "cell_type": "markdown",
   "id": "afb43e82",
   "metadata": {},
   "source": [
    "The function return `mne_connectivity.base.EpochSpectroTemporalConnectivity` class and the shape is (10,528,4,672)\n",
    "\n",
    "Obviously, the first dimension is `n_epochs`. the third is each freqs `[4,5,6,7]`\n",
    "\n",
    "But 528, and 672??\n",
    "\n",
    "If we compare the every 32 electrodes with 32 electrodes, the number of combination is 32 x 32 = 1024. Which is always the feautre set. However, Fp1-Fp2 and Fp2-Fp1 is the same data. When we eliminate the duplicate information we got 528. (calculation can be done)\n",
    "\n",
    "However, if you are more comfortable with 32 x 32 shape, you can use `con.get_data('dense')`\n",
    "\n",
    "Now, what is `672`? The `672` is `n_times` which is equal to the `n_sample` of your signal.\n",
    "\n",
    "So, what we get is connectivity with a shape of `(n_epochs, n_con, n_freqs, n_times)`.\n",
    "\n",
    "To follow the previous calculation, i will average on the last two axis (`n_freqs`,`n_times`) and flattern them out.\n",
    "\n",
    "At the end, we will get the array of shape `(n_epochs, n_con)` which is SVM ready."
   ]
  },
  {
   "cell_type": "code",
   "execution_count": 75,
   "id": "1de2ae0e",
   "metadata": {},
   "outputs": [
    {
     "data": {
      "image/png": "[encoded data removed]",
      "text/plain": [
       "<Figure size 720x720 with 2 Axes>"
      ]
     },
     "metadata": {
      "needs_background": "light"
     },
     "output_type": "display_data"
    }
   ],
   "source": [
    "# a plot for fun\n",
    "f = plt.figure(figsize=(10, 10))\n",
    "\n",
    "# sum the last two axes\n",
    "plot_data = con.get_data('dense').mean(axis=3).mean(axis=3)\n",
    "# print(plot_data.shape) => (10, 32, 32)\n",
    "\n",
    "plt.matshow(plot_data[0], fignum=f.number)\n",
    "plt.xticks(range(len(con.names)), con.names, rotation=45)\n",
    "plt.yticks(range(len(con.names)), con.names)\n",
    "cb = plt.colorbar()\n",
    "# cb.ax.tick_params(labelsize=14)\n",
    "plt.title('Correlation Matrix');"
   ]
  },
  {
   "cell_type": "code",
   "execution_count": 76,
   "id": "c7c7e738",
   "metadata": {},
   "outputs": [
    {
     "name": "stderr",
     "output_type": "stream",
     "text": [
      "/tmp/ipykernel_19184/2153218768.py:1: RuntimeWarning: There were no Annotations stored in <EpochsArray |  15360 events (all good), 0 - 5.24219 sec, baseline off, ~2.46 GB, data loaded,\n",
      " '1': 15360>, so metadata was not modified.\n",
      "  con = spectral_connectivity_time(epochs, freqs=range(64), mode='multitaper')\n"
     ]
    },
    {
     "ename": "MemoryError",
     "evalue": "Unable to allocate 2.54 TiB for an array with shape (15360, 528, 64, 672) and data type float64",
     "output_type": "error",
     "traceback": [
      "\u001b[0;31m---------------------------------------------------------------------------\u001b[0m",
      "\u001b[0;31mMemoryError\u001b[0m                               Traceback (most recent call last)",
      "\u001b[1;32m/root/projects/04. DEAP + Connectivity + SVM.ipynb Cell 50'\u001b[0m in \u001b[0;36m<cell line: 1>\u001b[0;34m()\u001b[0m\n\u001b[0;32m----> <a href='vscode-notebook-cell://attached-container%2B7b22636f6e7461696e65724e616d65223a222f6565672d656d6f74696f6e2d7265636f676e6974696f6e2d637564612d707974686f6e2d31227d/root/projects/04.%20DEAP%20%2B%20Connectivity%20%2B%20SVM.ipynb#ch0000056vscode-remote?line=0'>1</a>\u001b[0m con \u001b[39m=\u001b[39m spectral_connectivity_time(epochs, freqs\u001b[39m=\u001b[39;49m\u001b[39mrange\u001b[39;49m(\u001b[39m64\u001b[39;49m), mode\u001b[39m=\u001b[39;49m\u001b[39m'\u001b[39;49m\u001b[39mmultitaper\u001b[39;49m\u001b[39m'\u001b[39;49m)\n\u001b[1;32m      <a href='vscode-notebook-cell://attached-container%2B7b22636f6e7461696e65724e616d65223a222f6565672d656d6f74696f6e2d7265636f676e6974696f6e2d637564612d707974686f6e2d31227d/root/projects/04.%20DEAP%20%2B%20Connectivity%20%2B%20SVM.ipynb#ch0000056vscode-remote?line=2'>3</a>\u001b[0m \u001b[39mprint\u001b[39m(\u001b[39mtype\u001b[39m(con), con\u001b[39m.\u001b[39mshape, con\u001b[39m.\u001b[39mget_data(\u001b[39m'\u001b[39m\u001b[39mdense\u001b[39m\u001b[39m'\u001b[39m)\u001b[39m.\u001b[39mshape)\n",
      "File \u001b[0;32m~/projects/.venv/lib/python3.8/site-packages/mne_connectivity/spectral/time.py:202\u001b[0m, in \u001b[0;36mspectral_connectivity_time\u001b[0;34m(data, names, method, indices, sfreq, foi, sm_times, sm_freqs, sm_kernel, mode, mt_bandwidth, freqs, n_cycles, decim, block_size, n_jobs, verbose)\u001b[0m\n\u001b[1;32m    <a href='file:///root/projects/.venv/lib/python3.8/site-packages/mne_connectivity/spectral/time.py?line=198'>199</a>\u001b[0m n_freqs \u001b[39m=\u001b[39m \u001b[39mlen\u001b[39m(f_vec)\n\u001b[1;32m    <a href='file:///root/projects/.venv/lib/python3.8/site-packages/mne_connectivity/spectral/time.py?line=200'>201</a>\u001b[0m \u001b[39m# compute coherence on blocks of trials\u001b[39;00m\n\u001b[0;32m--> <a href='file:///root/projects/.venv/lib/python3.8/site-packages/mne_connectivity/spectral/time.py?line=201'>202</a>\u001b[0m conn \u001b[39m=\u001b[39m np\u001b[39m.\u001b[39;49mzeros((n_epochs, n_pairs, n_freqs, \u001b[39mlen\u001b[39;49m(times)))\n\u001b[1;32m    <a href='file:///root/projects/.venv/lib/python3.8/site-packages/mne_connectivity/spectral/time.py?line=202'>203</a>\u001b[0m logger\u001b[39m.\u001b[39minfo(\u001b[39m'\u001b[39m\u001b[39mConnectivity computation...\u001b[39m\u001b[39m'\u001b[39m)\n\u001b[1;32m    <a href='file:///root/projects/.venv/lib/python3.8/site-packages/mne_connectivity/spectral/time.py?line=204'>205</a>\u001b[0m \u001b[39m# parameters to pass to the connectivity function\u001b[39;00m\n",
      "\u001b[0;31mMemoryError\u001b[0m: Unable to allocate 2.54 TiB for an array with shape (15360, 528, 64, 672) and data type float64"
     ]
    }
   ],
   "source": [
    "con = spectral_connectivity_time(epochs, freqs=range(64), mode='multitaper')\n",
    "\n",
    "print(type(con), con.shape, con.get_data('dense').shape)"
   ]
  },
  {
   "cell_type": "code",
   "execution_count": null,
   "id": "79ecc5e0",
   "metadata": {},
   "outputs": [],
   "source": [
    "# I can not calculate the entire epochs at once because of my poor laptop does not have enough memory\n",
    "# Let's do it in every 5 epochs instead\n",
    "\n",
    "X = []\n",
    "count = 0\n",
    "for loop in tqdm(range(len(epochs)//5)):\n",
    "    start_index = loop * 5\n",
    "    stop_index = (loop+1) * 5\n",
    "    selected_epochs = epochs[start_index:stop_index]\n",
    "    con = spectral_connectivity_time(selected_epochs, freqs=range(2,128//2), mode='multitaper', method='coh')\n",
    "    sum_data = con.get_data('raveled').mean(axis=3).mean(axis=2)\n",
    "    X.append(sum_data)\n",
    "    count += 1\n",
    "    # if count == 4: break\n",
    "\n",
    "X = np.vstack(X)\n",
    "print(X.shape)\n",
    "save(X,'X_mnecon_coh')\n",
    "\n",
    "# I run for 600 minutes and I gave up.\n",
    "# But this is my way to extract the connectivity.\n",
    "# If you want other method like PLV, and 'sxv' just change the `method` argument"
   ]
  },
  {
   "cell_type": "code",
   "execution_count": null,
   "id": "4c2ffdb4",
   "metadata": {},
   "outputs": [],
   "source": []
  },
  {
   "cell_type": "markdown",
   "id": "9ca95729",
   "metadata": {},
   "source": [
    "## Summary\n",
    "\n",
    "This tutorial is too long and I think I should summarized it.\n",
    "\n",
    "Connectivity is a theory that neurons are working together and each human reaction will activate a certain group/pattern of neuron activation.\n",
    "\n",
    "We want to extract those pattern into features.\n",
    "\n",
    "Here we start from a very basic `signal correlation`, `pearson correlation`, `pearson correlation with frequency content`, and various of `phase` base analysis.\n",
    "\n",
    "As mentioned before, this tutorial has no intension to provide all the information you need for this topic. Therefore, I have provided the link for you to study yourself.\n",
    "\n",
    "There are also multiple of other ways to measure the connectivity which we have not yet explore. \n",
    "\n",
    "Finally, the result from the classification are listed below.\n",
    "\n",
    "- CSD + signal_correlation => Acc=0.67552 | 3-CV score=0.65885 STD=0.00997| Time spend=991.2590882778168\n",
    "\n",
    "- CSD + freq_correlation => Acc=0.72311 | 3-CV score=0.69538 STD=0.00106| Time spend=617.6518638134003\n",
    "\n",
    "- CSD + PLV_correation => Acc=0.78073 | 3-CV score=0.7168 STD=0.00564| Time spend=1206.8660593032837\n",
    "\n",
    "- CSD + PLI_correlation => Acc=0.85456 | 3-CV score=0.56361 STD=0.00432| Time spend=1569.2779262065887\n",
    "\n",
    "- Transfer Entropy => Crash\n",
    "\n",
    "- all MNE_connectivity => Crash"
   ]
  }
 ],
 "metadata": {
  "kernelspec": {
   "display_name": "Python 3",
   "language": "python",
   "name": "python3"
  },
  "language_info": {
   "codemirror_mode": {
    "name": "ipython",
    "version": 3
   },
   "file_extension": ".py",
   "mimetype": "text/x-python",
   "name": "python",
   "nbconvert_exporter": "python",
   "pygments_lexer": "ipython3",
   "version": "3.8.10"
  }
 },
 "nbformat": 4,
 "nbformat_minor": 5
}
