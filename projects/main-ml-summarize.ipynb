{
 "cells": [
  {
   "cell_type": "code",
   "execution_count": 1,
   "metadata": {},
   "outputs": [],
   "source": [
    "import glob\n",
    "import os\n",
    "import pandas as pd\n",
    "import re\n",
    "import numpy as np\n",
    "\n",
    "def get_10_cv(file_path):\n",
    "    pattern = \"10-CV\"\n",
    "    lines = []\n",
    "    with open(file_path, 'r') as f:\n",
    "        # last_line = f.readlines()[-1]\n",
    "        for line in f:\n",
    "            if(re.search(pattern,line)):\n",
    "                if(re.search(\"final\",line)):\n",
    "                    continue\n",
    "                else:\n",
    "                    lines.append(line)\n",
    "    return lines\n",
    "\n",
    "def get_result(file_path):\n",
    "    lines = get_10_cv(file_path)\n",
    "    try:\n",
    "        assert len(lines) == 32 or len(lines) == 1, len(lines)\n",
    "    except:\n",
    "        print(file_path, f\"not done: {len(lines)}\")\n",
    "    if(file_path == \"\"):\n",
    "        print(lines)\n",
    "    cvs, stds = [], []\n",
    "    for line in lines:\n",
    "        try:\n",
    "            time,log_type,msg,cv_txt,std_txt,elapse = line.split('|')\n",
    "            assert log_type == 'INFO', f\"{line}\"\n",
    "            cv = float(cv_txt.split('=')[1])\n",
    "            std = float(std_txt.split('=')[1])\n",
    "            cvs.append(cv)\n",
    "            stds.append(std)\n",
    "        except Exception as e:\n",
    "            print(file_path, line, e)\n",
    "            raise e\n",
    "    return round(np.array(cvs).mean(),5), round(np.array(stds).mean(),5)"
   ]
  },
  {
   "cell_type": "code",
   "execution_count": 7,
   "metadata": {},
   "outputs": [],
   "source": [
    "path_files = glob.glob(\"output/*dependent*-60.log\")\n",
    "df = pd.DataFrame(columns=[\"subject_setup\", \"experimental_setup\", \"preprocess\", \"segment_lenght\", \"stimuli\", \"cv\", \"std\"])\n",
    "for path_file in path_files:\n",
    "    # print(f)\n",
    "    path, filename = os.path.split(path_file)\n",
    "    # print(path, filename)\n",
    "    filename, ext = os.path.splitext(filename)\n",
    "    subject_setup, experimental_setup, stimuli,  preprocess, segment_lenght = filename.split('-')\n",
    "    # print(subject_setup, experimental_setup, stimuli, preprocess, segment_lenght)\n",
    "    try:\n",
    "        cv, std = get_result(path_file)\n",
    "        row = {\n",
    "            \"subject_setup\": subject_setup,\n",
    "            \"experimental_setup\": experimental_setup,\n",
    "            \"segment_lenght\": segment_lenght,\n",
    "            \"stimuli\": stimuli,\n",
    "            \"preprocess\": preprocess,\n",
    "            \"cv\": cv,\n",
    "            \"std\": std\n",
    "        }\n",
    "        a = pd.DataFrame.from_records([row])\n",
    "        df= pd.concat([df, a], axis=0)\n",
    "    except Exception as e:\n",
    "            # print(file_path, line, e)\n",
    "            raise e\n",
    "    # break\n",
    "df.to_csv(\"output/ml.csv\")"
   ]
  },
  {
   "cell_type": "code",
   "execution_count": 10,
   "metadata": {},
   "outputs": [
    {
     "name": "stdout",
     "output_type": "stream",
     "text": [
      "dependent-segment-sti-DE-60\t0.63\t0.178\n",
      "dependent-segment-sti-DASM-60\t0.626\t0.191\n",
      "dependent-segment-sti-RASM-60\t0.613\t0.178\n",
      "dependent-segment-sti-DCAU-60\t0.621\t0.182\n",
      "dependent-segment-sti-PCC_TIME-60\t0.627\t0.181\n",
      "dependent-segment-sti-PCC_FREQ-60\t0.591\t0.155\n",
      "dependent-segment-sti-PLV-60\t0.646\t0.176\n",
      "dependent-segment-sti-PLI-60\t0.609\t0.154\n",
      "dependent-trial-sti-DE-60\t0.642\t0.172\n",
      "dependent-trial-sti-DASM-60\t0.63\t0.181\n",
      "dependent-trial-sti-RASM-60\t0.62\t0.18\n",
      "dependent-trial-sti-DCAU-60\t0.625\t0.173\n",
      "dependent-trial-sti-PCC_TIME-60\t0.636\t0.178\n",
      "dependent-trial-sti-PCC_FREQ-60\t0.586\t0.154\n",
      "dependent-trial-sti-PLV-60\t0.655\t0.166\n",
      "dependent-trial-sti-PLI-60\t0.608\t0.155\n",
      "independent-segment-sti-DE-60\t0.409\t0.13\n",
      "independent-segment-sti-DASM-60\t0.409\t0.116\n",
      "independent-segment-sti-RASM-60\t0.461\t0.109\n",
      "independent-segment-sti-DCAU-60\t0.434\t0.127\n",
      "independent-segment-sti-PCC_TIME-60\t0.393\t0.131\n",
      "independent-segment-sti-PCC_FREQ-60\t0.453\t0.12\n",
      "independent-segment-sti-PLV-60\t0.421\t0.127\n",
      "independent-segment-sti-PLI-60\t0.482\t0.077\n",
      "independent-trial-sti-DE-60\t0.646\t0.031\n",
      "independent-trial-sti-DASM-60\t0.615\t0.022\n",
      "independent-trial-sti-RASM-60\t0.59\t0.032\n",
      "independent-trial-sti-DCAU-60\t0.619\t0.04\n",
      "independent-trial-sti-PCC_TIME-60\t0.643\t0.024\n",
      "independent-trial-sti-PCC_FREQ-60\t0.592\t0.029\n",
      "independent-trial-sti-PLV-60\t0.637\t0.034\n",
      "independent-trial-sti-PLI-60\t0.569\t0.016\n"
     ]
    }
   ],
   "source": [
    "df = pd.read_csv(\"output/ml.csv\")\n",
    "for subject_setup in [\"dependent\",\"independent\"]:\n",
    "    for experimental_setup in [\"segment\", 'trial']:\n",
    "        # for segment_lenght in [1,12,20,60]:\n",
    "        for segment_lenght in [60]:\n",
    "        # for segment_lenght in [1]:\n",
    "            for preprocess in [\"DE\",\"DASM\",\"RASM\",\"DCAU\",\"PCC_TIME\",\"PCC_FREQ\",\"PLV\",\"PLI\"]:\n",
    "            # for preprocess in [\"PLI\"]:\n",
    "                rows = df.loc[\n",
    "                    (df[\"subject_setup\"] == subject_setup) &\n",
    "                    (df[\"experimental_setup\"] ==  experimental_setup) &\n",
    "                    (df[\"segment_lenght\"] ==  segment_lenght) &\n",
    "                    (df[\"preprocess\"] ==  preprocess)\n",
    "                ]\n",
    "                if(len(rows) == 0): \n",
    "                    print(f\"{subject_setup}-{experimental_setup}-sti-{preprocess}-{segment_lenght} has not run\")\n",
    "                elif(len(rows) == 1):\n",
    "                    print(rows)\n",
    "                    raise ValueError\n",
    "                else:\n",
    "                    print(f\"{subject_setup}-{experimental_setup}-sti-{preprocess}-{segment_lenght}\", round(rows['cv'].mean(),3), round(rows['std'].mean(),3), sep=\"\\t\")\n",
    "                # pass\n",
    "            # for sti in [\"arousal\",\"valence\"]:\n"
   ]
  },
  {
   "cell_type": "code",
   "execution_count": 4,
   "metadata": {},
   "outputs": [
    {
     "ename": "SyntaxError",
     "evalue": "invalid syntax (384850572.py, line 1)",
     "output_type": "error",
     "traceback": [
      "\u001b[0;36m  Input \u001b[0;32mIn [4]\u001b[0;36m\u001b[0m\n\u001b[0;31m    dependent-segment-sti-DE-12\t0.691\t0.081\u001b[0m\n\u001b[0m                               \t^\u001b[0m\n\u001b[0;31mSyntaxError\u001b[0m\u001b[0;31m:\u001b[0m invalid syntax\n"
     ]
    }
   ],
   "source": [
    "dependent-segment-sti-DE-12\t0.691\t0.081\n",
    "dependent-segment-sti-DE-20\t0.677\t0.108\n",
    "dependent-segment-sti-DE-60\t0.636\t0.18\n",
    "dependent-trial-sti-DE-12\t0.63\t0.115\n",
    "dependent-trial-sti-DE-20\t0.642\t0.123\n",
    "dependent-trial-sti-DE-60\t0.632\t0.17\n",
    "independent-segment-sti-DE-12\t0.497\t0.076\n",
    "independent-segment-sti-DE-20\t0.453\t0.138\n",
    "independent-segment-sti-DE-60\t0.426\t0.139\n",
    "independent-trial-sti-DE-12\t0.57\t0.028\n",
    "independent-trial-sti-DE-20\t0.628\t0.028\n",
    "independent-trial-sti-DE-60\t0.64\t0.032"
   ]
  },
  {
   "cell_type": "code",
   "execution_count": null,
   "metadata": {},
   "outputs": [],
   "source": []
  }
 ],
 "metadata": {
  "kernelspec": {
   "display_name": "Python 3.8.10 64-bit",
   "language": "python",
   "name": "python3"
  },
  "language_info": {
   "codemirror_mode": {
    "name": "ipython",
    "version": 3
   },
   "file_extension": ".py",
   "mimetype": "text/x-python",
   "name": "python",
   "nbconvert_exporter": "python",
   "pygments_lexer": "ipython3",
   "version": "3.8.10"
  },
  "orig_nbformat": 4,
  "vscode": {
   "interpreter": {
    "hash": "916dbcbb3f70747c44a77c7bcd40155683ae19c65e1c03b4aa3499c5328201f1"
   }
  }
 },
 "nbformat": 4,
 "nbformat_minor": 2
}
