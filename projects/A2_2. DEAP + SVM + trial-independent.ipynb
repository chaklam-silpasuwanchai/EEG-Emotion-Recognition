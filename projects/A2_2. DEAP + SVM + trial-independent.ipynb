{
 "cells": [
  {
   "cell_type": "markdown",
   "metadata": {},
   "source": [
    "## 1. Feature Evaluation\n",
    "\n",
    "In this file, we will be evaluating features. The procedure is as follow,\n",
    "\n",
    "1. Subject-Dependent evaluation: build model for each subject\n",
    "2. 10-CrossValidation: with 75-25 train-test ration\n",
    "3. Trial-Independent: Split first then segment\n",
    "4. The DEAP data set contain 63 seconds long trial, discard the first 3 seconds and segment the trial into 60 samples. (1 second long)\n",
    "\n",
    "Plan 1\n",
    "====\n",
    "\n",
    "In Sklearn, there is a function `sklearn.model_selection.StratifiedGroupKFold`.\n",
    "\n",
    "```\n",
    "StratifiedGroupKFold is a cross-validation scheme that combines both StratifiedKFold and GroupKFold. The idea is to try to preserve the distribution of classes in each split while keeping each group within a single split. That might be useful when you have an unbalanced dataset so that using just GroupKFold might produce skewed splits.\n",
    "```\n",
    "\n",
    "There are three ideas.\n",
    "\n",
    "1. K-fold: It is the only option.\n",
    "2. Stratified: This ensure that the ratio of labels is equal for both train and test set.\n",
    "3. Group: Using `Group` strategy, I can ensure the `Trial-Independent`. (each segment from the same trial has the same group)\n",
    "\n",
    "We can not set the ratio of train-test\n",
    "\n",
    "Plan 2\n",
    "====\n",
    "\n",
    "`sklearn.model_selection.GroupShuffleSplit`\n",
    "\n",
    "\n",
    "There are two ideas.\n",
    "\n",
    "1. ShuffleSplit: We can set the ratio of train-test\n",
    "2. Group: Using `Group` strategy, I can ensure the `Trial-Independent`. (each segment from the same trial has the same group)\n",
    "\n",
    "We can not ensure the ratio between of lebels in both train-test"
   ]
  },
  {
   "cell_type": "code",
   "execution_count": 40,
   "metadata": {},
   "outputs": [
    {
     "name": "stdout",
     "output_type": "stream",
     "text": [
      "Found: 32 files\n",
      "s01 (2400, 2) [47.5 60. ]\n",
      "s02 (2400, 2) [55. 60.]\n",
      "s03 (2400, 2) [55. 20.]\n",
      "s04 (2400, 2) [40. 40.]\n",
      "s05 (2400, 2) [60.  47.5]\n",
      "s06 (2400, 2) [75.  42.5]\n",
      "s07 (2400, 2) [70.  62.5]\n",
      "s08 (2400, 2) [55.  57.5]\n",
      "s09 (2400, 2) [50. 60.]\n",
      "s10 (2400, 2) [50. 55.]\n",
      "s11 (2400, 2) [60.  37.5]\n",
      "s12 (2400, 2) [52.5 82.5]\n",
      "s13 (2400, 2) [42.5 85. ]\n",
      "s14 (2400, 2) [50.  67.5]\n",
      "s15 (2400, 2) [50.  47.5]\n",
      "s16 (2400, 2) [37.5 50. ]\n",
      "s17 (2400, 2) [55. 60.]\n",
      "s18 (2400, 2) [60.  62.5]\n",
      "s19 (2400, 2) [57.5 67.5]\n",
      "s20 (2400, 2) [57.5 77.5]\n",
      "s21 (2400, 2) [52.5 80. ]\n",
      "s22 (2400, 2) [45. 60.]\n",
      "s23 (2400, 2) [65. 25.]\n",
      "s24 (2400, 2) [45.  82.5]\n",
      "s25 (2400, 2) [47.5 72.5]\n",
      "s26 (2400, 2) [65.  42.5]\n",
      "s27 (2400, 2) [75.  67.5]\n",
      "s28 (2400, 2) [62.5 45. ]\n",
      "s29 (2400, 2) [57.5 62.5]\n",
      "s30 (2400, 2) [67.5 47.5]\n",
      "s31 (2400, 2) [57.5 47.5]\n",
      "s32 (2400, 2) [50.  67.5]\n"
     ]
    }
   ],
   "source": [
    "import time\n",
    "import numpy as np\n",
    "from tqdm.notebook import tqdm\n",
    "\n",
    "from components.dataset_jo import *\n",
    "\n",
    "dataset = Dataset_subjectDependent('data')\n",
    "dataset.set_segment(60)\n",
    "for filename in dataset.get_file_list():\n",
    "    data, labels, _ = dataset.get_data(filename, return_type='numpy')\n",
    "    print(filename, labels.shape, labels.sum(axis=0)/labels.shape[0]*100)"
   ]
  },
  {
   "cell_type": "code",
   "execution_count": 2,
   "metadata": {},
   "outputs": [
    {
     "name": "stdout",
     "output_type": "stream",
     "text": [
      "(2400, 32, 128) (2400, 1) (2400,)\n",
      "\n",
      "Not setting metadata\n",
      "2400 matching events found\n",
      "No baseline correction applied\n",
      "0 projection items activated\n",
      "0 bad epochs dropped\n",
      "<EpochsArray |  2400 events (all good), 0 - 0.992188 sec, baseline off, ~75.0 MB, data loaded,\n",
      " '1': 2400> (2400, 1) (2400,)\n",
      "\n",
      "1800 600\n"
     ]
    }
   ],
   "source": [
    "# You can get the data in to way\n",
    "# First way, the numpy array\n",
    "data, labels, groups = dataset.get_data(name='s01', stimuli=Dataset_subjectDependent.STIMULI_AROUSAL, return_type='numpy')\n",
    "print(data.shape, labels.shape, groups.shape)\n",
    "print()\n",
    "data, labels, groups = dataset.get_data(name='s01', stimuli=Dataset_subjectDependent.STIMULI_AROUSAL, return_type='mne', sfreq=128)\n",
    "print(data, labels.shape, groups.shape)\n",
    "print()\n",
    "\n",
    "# Second way, as pytorch.util.Dataset\n",
    "train_dataset, test_dataset = dataset.get_data_torch_dataset('s01', Dataset_subjectDependent.STIMULI_VALENCE, train_size=0.75)\n",
    "print(len(train_dataset), len(test_dataset) )\n",
    "# This train_dataset, and test_dataset is DataLoader ready\n",
    "# train_loader = torch.utils.data.DataLoader(train_dataset, batch=8)"
   ]
  },
  {
   "cell_type": "code",
   "execution_count": 3,
   "metadata": {},
   "outputs": [
    {
     "name": "stdout",
     "output_type": "stream",
     "text": [
      "===== GroupShuffleSplit =====\n",
      "(2400, 32, 128) (2400,) (2400,)\n",
      "(1800,) (600,) set()\n",
      "[0.66666667] [0.4]\n",
      "(1800,) (600,) set()\n",
      "[0.56666667] [0.7]\n",
      "(1800,) (600,) set()\n",
      "[0.63333333] [0.5]\n",
      "(1800,) (600,) set()\n",
      "[0.66666667] [0.4]\n",
      "(1800,) (600,) set()\n",
      "[0.63333333] [0.5]\n",
      "(1800,) (600,) set()\n",
      "[0.6] [0.6]\n",
      "(1800,) (600,) set()\n",
      "[0.53333333] [0.8]\n",
      "(1800,) (600,) set()\n",
      "[0.7] [0.3]\n",
      "(1800,) (600,) set()\n",
      "[0.56666667] [0.7]\n",
      "(1800,) (600,) set()\n",
      "[0.56666667] [0.7]\n",
      "\n",
      "===== StratifiedGroupKFold =====\n",
      "(2400, 32, 128) (2400,) (2400,)\n",
      "(2160,) (240,) set()\n",
      "[0.61111111] [0.5]\n",
      "(2160,) (240,) set()\n",
      "[0.58333333] [0.75]\n",
      "(2160,) (240,) set()\n",
      "[0.55555556] [1.]\n",
      "(2160,) (240,) set()\n",
      "[0.61111111] [0.5]\n",
      "(2160,) (240,) set()\n",
      "[0.61111111] [0.5]\n",
      "(2160,) (240,) set()\n",
      "[0.58333333] [0.75]\n",
      "(2160,) (240,) set()\n",
      "[0.61111111] [0.5]\n",
      "(2160,) (240,) set()\n",
      "[0.61111111] [0.5]\n",
      "(2160,) (240,) set()\n",
      "[0.61111111] [0.5]\n",
      "(2160,) (240,) set()\n",
      "[0.61111111] [0.5]\n",
      "\n",
      "===== StratifiedShuffleSplit =====\n",
      "(2400, 32, 128) (2400,) (2400,)\n",
      "(1800,) (600,) {0, 1, 2, 3, 4, 5, 6, 7, 8, 9, 10, 11, 12, 13, 14, 15, 16, 17, 18, 19, 20, 21, 22, 23, 24, 25, 26, 27, 28, 29, 30, 31, 32, 33, 34, 35, 36, 37, 38, 39}\n",
      "[0.6] [0.6]\n",
      "(1800,) (600,) {0, 1, 2, 3, 4, 5, 6, 7, 8, 9, 10, 11, 12, 13, 14, 15, 16, 17, 18, 19, 20, 21, 22, 23, 24, 25, 26, 27, 28, 29, 30, 31, 32, 33, 34, 35, 36, 37, 38, 39}\n",
      "[0.6] [0.6]\n",
      "(1800,) (600,) {0, 1, 2, 3, 4, 5, 6, 7, 8, 9, 10, 11, 12, 13, 14, 15, 16, 17, 18, 19, 20, 21, 22, 23, 24, 25, 26, 27, 28, 29, 30, 31, 32, 33, 34, 35, 36, 37, 38, 39}\n",
      "[0.6] [0.6]\n",
      "(1800,) (600,) {0, 1, 2, 3, 4, 5, 6, 7, 8, 9, 10, 11, 12, 13, 14, 15, 16, 17, 18, 19, 20, 21, 22, 23, 24, 25, 26, 27, 28, 29, 30, 31, 32, 33, 34, 35, 36, 37, 38, 39}\n",
      "[0.6] [0.6]\n",
      "(1800,) (600,) {0, 1, 2, 3, 4, 5, 6, 7, 8, 9, 10, 11, 12, 13, 14, 15, 16, 17, 18, 19, 20, 21, 22, 23, 24, 25, 26, 27, 28, 29, 30, 31, 32, 33, 34, 35, 36, 37, 38, 39}\n",
      "[0.6] [0.6]\n",
      "(1800,) (600,) {0, 1, 2, 3, 4, 5, 6, 7, 8, 9, 10, 11, 12, 13, 14, 15, 16, 17, 18, 19, 20, 21, 22, 23, 24, 25, 26, 27, 28, 29, 30, 31, 32, 33, 34, 35, 36, 37, 38, 39}\n",
      "[0.6] [0.6]\n",
      "(1800,) (600,) {0, 1, 2, 3, 4, 5, 6, 7, 8, 9, 10, 11, 12, 13, 14, 15, 16, 17, 18, 19, 20, 21, 22, 23, 24, 25, 26, 27, 28, 29, 30, 31, 32, 33, 34, 35, 36, 37, 38, 39}\n",
      "[0.6] [0.6]\n",
      "(1800,) (600,) {0, 1, 2, 3, 4, 5, 6, 7, 8, 9, 10, 11, 12, 13, 14, 15, 16, 17, 18, 19, 20, 21, 22, 23, 24, 25, 26, 27, 28, 29, 30, 31, 32, 33, 34, 35, 36, 37, 38, 39}\n",
      "[0.6] [0.6]\n",
      "(1800,) (600,) {0, 1, 2, 3, 4, 5, 6, 7, 8, 9, 10, 11, 12, 13, 14, 15, 16, 17, 18, 19, 20, 21, 22, 23, 24, 25, 26, 27, 28, 29, 30, 31, 32, 33, 34, 35, 36, 37, 38, 39}\n",
      "[0.6] [0.6]\n",
      "(1800,) (600,) {0, 1, 2, 3, 4, 5, 6, 7, 8, 9, 10, 11, 12, 13, 14, 15, 16, 17, 18, 19, 20, 21, 22, 23, 24, 25, 26, 27, 28, 29, 30, 31, 32, 33, 34, 35, 36, 37, 38, 39}\n",
      "[0.6] [0.6]\n"
     ]
    }
   ],
   "source": [
    "from sklearn.model_selection import GroupShuffleSplit, StratifiedGroupKFold,StratifiedShuffleSplit \n",
    "print(\"===== GroupShuffleSplit =====\")\n",
    "X,y,groups = dataset.get_data('s01', Dataset_subjectDependent.STIMULI_AROUSAL, return_type='numpy')\n",
    "print(X.shape, y.squeeze().shape, groups.shape)\n",
    "cv = GroupShuffleSplit(n_splits=10, train_size=0.75, random_state=0)\n",
    "for train_idxs, test_idxs in cv.split(X, y.squeeze(), groups):\n",
    "    print(train_idxs.shape, test_idxs.shape, set(groups[train_idxs]).intersection(groups[test_idxs]) )\n",
    "    print(sum(y[train_idxs])/len(train_idxs),sum(y[test_idxs])/len(test_idxs))\n",
    "\n",
    "print()\n",
    "\n",
    "print(\"===== StratifiedGroupKFold =====\")\n",
    "X,y,groups = dataset.get_data('s01', Dataset_subjectDependent.STIMULI_AROUSAL, return_type='numpy')\n",
    "print(X.shape, y.squeeze().shape, groups.shape)\n",
    "cv = StratifiedGroupKFold(n_splits=10, shuffle=True, random_state=0)\n",
    "for train_idxs, test_idxs in cv.split(X, y.squeeze(), groups):\n",
    "    print(train_idxs.shape, test_idxs.shape, set(groups[train_idxs]).intersection(groups[test_idxs]) )\n",
    "    print(sum(y[train_idxs])/len(train_idxs),sum(y[test_idxs])/len(test_idxs))\n",
    "\n",
    "print()\n",
    "\n",
    "print(\"===== StratifiedShuffleSplit =====\")\n",
    "X,y,groups = dataset.get_data('s01', Dataset_subjectDependent.STIMULI_AROUSAL, return_type='numpy')\n",
    "print(X.shape, y.squeeze().shape, groups.shape)\n",
    "cv = StratifiedShuffleSplit(n_splits=10, train_size=0.75, random_state=0)\n",
    "for train_idxs, test_idxs in cv.split(X, y.squeeze(), groups):\n",
    "    print(train_idxs.shape, test_idxs.shape, set(groups[train_idxs]).intersection(groups[test_idxs]) )\n",
    "    print(sum(y[train_idxs])/len(train_idxs),sum(y[test_idxs])/len(test_idxs))"
   ]
  },
  {
   "cell_type": "markdown",
   "metadata": {},
   "source": [
    "As a result, I will use `GroupShuffleSplit`."
   ]
  },
  {
   "cell_type": "code",
   "execution_count": 13,
   "metadata": {},
   "outputs": [],
   "source": [
    "def train_model(X_ori,y_ori,groups_ori,filename=None, kernel='rbf'):\n",
    "    \n",
    "    # Make a copy because I am paranoid\n",
    "    X,y,groups = X_ori.copy(), y_ori.copy(), groups_ori.copy()\n",
    "\n",
    "    from sklearn.svm import SVC\n",
    "    from sklearn.model_selection import GroupShuffleSplit \n",
    "    from sklearn.model_selection import cross_val_score\n",
    "\n",
    "    model = SVC(kernel=kernel,max_iter=50000)\n",
    "    cv = GroupShuffleSplit (n_splits=10, train_size=0.75, random_state=0)\n",
    "    cross = cross_val_score(model, X, y, cv=cv,groups=groups, n_jobs=8)\n",
    "    \n",
    "    # We probably dont need this\n",
    "    model = SVC(kernel=kernel, max_iter=50000)\n",
    "    model.fit(X, y)\n",
    "    ans = model.predict(X)\n",
    "    acc = sum(ans == y) / len(y)\n",
    "    # If the model answer with all 0 or 1, we print this message\n",
    "    if( sum(ans) == len(y) or sum(ans) == 0 ): \n",
    "        print(f\"-----WARNING: Model {filename} failed to learn: sum(ans)={sum(ans)} sum(y)={sum(y)} len(y)={len(y)}\")\n",
    "    return model, acc, cross"
   ]
  },
  {
   "cell_type": "markdown",
   "metadata": {},
   "source": [
    "## 2. Spectral Features"
   ]
  },
  {
   "cell_type": "code",
   "execution_count": 14,
   "metadata": {},
   "outputs": [],
   "source": [
    "from mne_features.feature_extraction import FeatureExtractor"
   ]
  },
  {
   "cell_type": "code",
   "execution_count": 15,
   "metadata": {},
   "outputs": [
    {
     "name": "stdout",
     "output_type": "stream",
     "text": [
      "\tAROUSAL-s01|Acc=0.76917|10-CV=0.54533|STD=0.12671|Time spend=53.19175410270691\n",
      "\tAROUSAL-s02|Acc=0.64292|10-CV=0.54367|STD=0.07663|Time spend=4.825149774551392\n",
      "-----WARNING: Model s03 failed to learn: sum(ans)=0.0 sum(y)=480.0 len(y)=2400\n",
      "\tAROUSAL-s03|Acc=0.8|10-CV=0.73|STD=0.15524|Time spend=3.9972658157348633\n",
      "\tAROUSAL-s04|Acc=0.65292|10-CV=0.52267|STD=0.09443|Time spend=4.7857325077056885\n",
      "\tAROUSAL-s05|Acc=0.63667|10-CV=0.423|STD=0.10057|Time spend=5.007667779922485\n",
      "\tAROUSAL-s06|Acc=0.63292|10-CV=0.5135|STD=0.12294|Time spend=4.671141862869263\n",
      "\tAROUSAL-s07|Acc=0.72833|10-CV=0.58867|STD=0.08981|Time spend=4.50341272354126\n",
      "\tAROUSAL-s08|Acc=0.72417|10-CV=0.42967|STD=0.11511|Time spend=4.5084474086761475\n",
      "\tAROUSAL-s09|Acc=0.67792|10-CV=0.48783|STD=0.07916|Time spend=4.522738933563232\n",
      "\tAROUSAL-s10|Acc=0.75958|10-CV=0.6025|STD=0.08021|Time spend=4.503004312515259\n",
      "\tAROUSAL-s11|Acc=0.62917|10-CV=0.579|STD=0.05024|Time spend=4.713841438293457\n",
      "-----WARNING: Model s12 failed to learn: sum(ans)=2400.0 sum(y)=1980.0 len(y)=2400\n",
      "\tAROUSAL-s12|Acc=0.825|10-CV=0.83|STD=0.1005|Time spend=4.011794567108154\n",
      "-----WARNING: Model s13 failed to learn: sum(ans)=2400.0 sum(y)=2040.0 len(y)=2400\n",
      "\tAROUSAL-s13|Acc=0.85|10-CV=0.84|STD=0.06633|Time spend=3.227428913116455\n",
      "\tAROUSAL-s14|Acc=0.67542|10-CV=0.65|STD=0.10247|Time spend=4.446349143981934\n",
      "\tAROUSAL-s15|Acc=0.74167|10-CV=0.5725|STD=0.09475|Time spend=4.653661251068115\n",
      "\tAROUSAL-s16|Acc=0.77458|10-CV=0.55783|STD=0.07708|Time spend=5.17548680305481\n",
      "\tAROUSAL-s17|Acc=0.71333|10-CV=0.62867|STD=0.05392|Time spend=5.380131721496582\n",
      "\tAROUSAL-s18|Acc=0.68708|10-CV=0.53233|STD=0.09838|Time spend=5.446061611175537\n",
      "\tAROUSAL-s19|Acc=0.6825|10-CV=0.62267|STD=0.12476|Time spend=4.797693967819214\n",
      "\tAROUSAL-s20|Acc=0.77542|10-CV=0.82|STD=0.08718|Time spend=4.229021072387695\n",
      "-----WARNING: Model s21 failed to learn: sum(ans)=2400.0 sum(y)=1920.0 len(y)=2400\n",
      "\tAROUSAL-s21|Acc=0.8|10-CV=0.7965|STD=0.09991|Time spend=4.1341283321380615\n",
      "\tAROUSAL-s22|Acc=0.60667|10-CV=0.59|STD=0.05808|Time spend=5.29258131980896\n",
      "\tAROUSAL-s23|Acc=0.77208|10-CV=0.77433|STD=0.09099|Time spend=4.4698426723480225\n",
      "-----WARNING: Model s24 failed to learn: sum(ans)=2400.0 sum(y)=1980.0 len(y)=2400\n",
      "\tAROUSAL-s24|Acc=0.825|10-CV=0.82|STD=0.07483|Time spend=4.50683856010437\n",
      "-----WARNING: Model s25 failed to learn: sum(ans)=2400.0 sum(y)=1740.0 len(y)=2400\n",
      "\tAROUSAL-s25|Acc=0.725|10-CV=0.73983|STD=0.12772|Time spend=4.824293851852417\n",
      "\tAROUSAL-s26|Acc=0.63042|10-CV=0.50517|STD=0.10182|Time spend=5.124872207641602\n",
      "\tAROUSAL-s27|Acc=0.745|10-CV=0.625|STD=0.09574|Time spend=4.578295707702637\n",
      "\tAROUSAL-s28|Acc=0.62542|10-CV=0.48783|STD=0.09672|Time spend=5.176298379898071\n",
      "\tAROUSAL-s29|Acc=0.68458|10-CV=0.52983|STD=0.08051|Time spend=5.062544584274292\n",
      "\tAROUSAL-s30|Acc=0.66375|10-CV=0.43867|STD=0.0856|Time spend=6.73061466217041\n",
      "\tAROUSAL-s31|Acc=0.71125|10-CV=0.589|STD=0.10181|Time spend=5.346637487411499\n",
      "\tAROUSAL-s32|Acc=0.68167|10-CV=0.66017|STD=0.10506|Time spend=4.486658573150635\n",
      "AROUSAL|Acc=0.7140494791666667|10-CV=0.6117552083333332|STD=0.09422564807783762\n",
      "\tVALENCE-s01|Acc=0.72833|10-CV=0.48767|STD=0.05211|Time spend=4.6730873584747314\n",
      "\tVALENCE-s02|Acc=0.70542|10-CV=0.59583|STD=0.11016|Time spend=4.234497785568237\n",
      "\tVALENCE-s03|Acc=0.72292|10-CV=0.51767|STD=0.15526|Time spend=5.398938179016113\n",
      "\tVALENCE-s04|Acc=0.675|10-CV=0.52783|STD=0.08127|Time spend=4.769556999206543\n",
      "\tVALENCE-s05|Acc=0.66875|10-CV=0.55833|STD=0.07771|Time spend=4.954302787780762\n",
      "\tVALENCE-s06|Acc=0.75208|10-CV=0.712|STD=0.07251|Time spend=4.372016906738281\n",
      "\tVALENCE-s07|Acc=0.73625|10-CV=0.6385|STD=0.12179|Time spend=4.0388100147247314\n",
      "\tVALENCE-s08|Acc=0.72458|10-CV=0.4885|STD=0.07625|Time spend=4.654482126235962\n",
      "\tVALENCE-s09|Acc=0.75583|10-CV=0.61683|STD=0.07907|Time spend=4.281428098678589\n",
      "\tVALENCE-s10|Acc=0.81167|10-CV=0.738|STD=0.07598|Time spend=4.163487434387207\n",
      "\tVALENCE-s11|Acc=0.61958|10-CV=0.51567|STD=0.12914|Time spend=5.2453553676605225\n",
      "\tVALENCE-s12|Acc=0.70292|10-CV=0.5315|STD=0.1192|Time spend=4.6974778175354\n",
      "\tVALENCE-s13|Acc=0.76542|10-CV=0.70817|STD=0.10541|Time spend=4.177201986312866\n",
      "\tVALENCE-s14|Acc=0.73708|10-CV=0.61483|STD=0.05641|Time spend=4.279774904251099\n",
      "\tVALENCE-s15|Acc=0.82667|10-CV=0.7285|STD=0.06927|Time spend=3.770350933074951\n",
      "\tVALENCE-s16|Acc=0.75542|10-CV=0.647|STD=0.09767|Time spend=3.7613043785095215\n",
      "\tVALENCE-s17|Acc=0.63583|10-CV=0.4375|STD=0.09643|Time spend=4.654434680938721\n",
      "\tVALENCE-s18|Acc=0.78|10-CV=0.67783|STD=0.05256|Time spend=3.7466888427734375\n",
      "\tVALENCE-s19|Acc=0.70125|10-CV=0.49867|STD=0.12274|Time spend=4.399991512298584\n",
      "\tVALENCE-s20|Acc=0.73958|10-CV=0.57617|STD=0.12689|Time spend=4.452592611312866\n",
      "\tVALENCE-s21|Acc=0.6575|10-CV=0.464|STD=0.0847|Time spend=5.397967338562012\n",
      "\tVALENCE-s22|Acc=0.71417|10-CV=0.64883|STD=0.09229|Time spend=4.680584669113159\n",
      "\tVALENCE-s23|Acc=0.74875|10-CV=0.57833|STD=0.10355|Time spend=4.307015895843506\n",
      "\tVALENCE-s24|Acc=0.66375|10-CV=0.49967|STD=0.11781|Time spend=4.799771547317505\n",
      "\tVALENCE-s25|Acc=0.63958|10-CV=0.42767|STD=0.10445|Time spend=5.096404314041138\n",
      "-----WARNING: Model s26 failed to learn: sum(ans)=2400.0 sum(y)=1560.0 len(y)=2400\n",
      "\tVALENCE-s26|Acc=0.65|10-CV=0.5925|STD=0.11329|Time spend=4.564961194992065\n",
      "\tVALENCE-s27|Acc=0.75917|10-CV=0.66567|STD=0.12207|Time spend=4.115972995758057\n",
      "\tVALENCE-s28|Acc=0.66833|10-CV=0.52567|STD=0.10619|Time spend=4.449225425720215\n",
      "\tVALENCE-s29|Acc=0.70292|10-CV=0.507|STD=0.07442|Time spend=5.370147466659546\n",
      "-----WARNING: Model s30 failed to learn: sum(ans)=2400.0 sum(y)=1620.0 len(y)=2400\n",
      "\tVALENCE-s30|Acc=0.675|10-CV=0.61617|STD=0.14387|Time spend=5.010666370391846\n",
      "\tVALENCE-s31|Acc=0.69125|10-CV=0.47867|STD=0.09109|Time spend=5.706433057785034\n",
      "\tVALENCE-s32|Acc=0.66125|10-CV=0.39917|STD=0.09678|Time spend=4.958833932876587\n",
      "VALENCE|Acc=0.7117578125|10-CV=0.5693854166666668|STD=0.0977602410860418\n",
      "TOTAL|Acc=0.7129036458333333|10-CV=0.5905703124999999|STD=0.09599294458193973\n"
     ]
    }
   ],
   "source": [
    "bands = [(0,4), (4,8), (8,12), (12,30), (30,64)]\n",
    "# [alias_feature_function]__[optional_param]\n",
    "params = dict({\n",
    "    'pow_freq_bands__log':True,\n",
    "    'pow_freq_bands__normalize':False,\n",
    "    'pow_freq_bands__freq_bands':bands\n",
    "})\n",
    "fe = FeatureExtractor(sfreq=128, selected_funcs=['pow_freq_bands'],params=params,n_jobs=8)\n",
    "\n",
    "accs,cv_means,cv_stds  = [],[],[]\n",
    "# count = 0\n",
    "for filename in dataset.get_file_list():\n",
    "    start = time.time()\n",
    "    data, labels, groups = dataset.get_data(filename, stimuli=Dataset_subjectDependent.STIMULI_AROUSAL, return_type='numpy')\n",
    "    X = fe.fit_transform(X=data)\n",
    "    _, acc, cross = train_model(X, labels.reshape(-1), groups,filename=filename)\n",
    "    print(f\"\\tAROUSAL-{filename}|Acc={round(acc,5)}|10-CV={round(cross.mean(),5)}|STD={round(cross.std(),5)}|Time spend={time.time() - start}\")\n",
    "    accs.append(acc)\n",
    "    cv_means.append(cross.mean())\n",
    "    cv_stds.append(cross.std())\n",
    "    # count+=1\n",
    "    # if(count == 5): break\n",
    "print(f\"AROUSAL|Acc={sum(accs)/len(accs)}|10-CV={sum(cv_means)/len(cv_means)}|STD={sum(cv_stds)/len(cv_stds)}\")\n",
    "\n",
    "accs_v,cv_means_v,cv_stds_v  = [],[],[]\n",
    "# count=0\n",
    "for filename in dataset.get_file_list():\n",
    "    start = time.time()\n",
    "    data, labels, groups = dataset.get_data(filename, stimuli=Dataset_subjectDependent.STIMULI_VALENCE, return_type='numpy')\n",
    "    X = fe.fit_transform(X=data)\n",
    "    _, acc, cross = train_model(X, labels.reshape(-1), groups,filename=filename)\n",
    "    print(f\"\\tVALENCE-{filename}|Acc={round(acc,5)}|10-CV={round(cross.mean(),5)}|STD={round(cross.std(),5)}|Time spend={time.time() - start}\")\n",
    "    accs_v.append(acc)\n",
    "    cv_means_v.append(cross.mean())\n",
    "    cv_stds_v.append(cross.std())\n",
    "    # count+=1\n",
    "    # if(count == 5): break\n",
    "print(f\"VALENCE|Acc={sum(accs_v)/len(accs_v)}|10-CV={sum(cv_means_v)/len(cv_means_v)}|STD={sum(cv_stds_v)/len(cv_stds_v)}\")\n",
    "\n",
    "accs.extend(accs_v)\n",
    "cv_means.extend(cv_means_v)\n",
    "cv_stds.extend(cv_stds_v)\n",
    "print(f\"TOTAL|Acc={sum(accs)/len(accs)}|10-CV={sum(cv_means)/len(cv_means)}|STD={sum(cv_stds)/len(cv_stds)}\")"
   ]
  },
  {
   "cell_type": "markdown",
   "metadata": {},
   "source": [
    "## 3. Asymetry"
   ]
  },
  {
   "cell_type": "code",
   "execution_count": 16,
   "metadata": {},
   "outputs": [
    {
     "name": "stdout",
     "output_type": "stream",
     "text": [
      "left_channel_indexes=[0, 3, 2, 7, 11, 6, 10, 13, 1, 4, 5, 8, 9, 12]\n",
      "right_channel_indexes=[16, 20, 19, 25, 29, 24, 28, 31, 17, 21, 22, 26, 27, 30]\n",
      "frontal_channel_indexes=[4, 5, 22, 21, 3, 2, 18, 19, 20, 0, 16]\n",
      "posterior_channel_indexes=[8, 9, 27, 26, 11, 10, 15, 28, 29, 13, 31]\n"
     ]
    }
   ],
   "source": [
    "channels = ['Fp1','AF3','F3','F7','FC5','FC1','C3','T7','CP5','CP1','P3','P7','PO3','O1','Oz','Pz','Fp2','AF4','Fz','F4','F8','FC6','FC2','Cz','C4','T8','CP6','CP2','P4','P8','PO4','O2']\n",
    "left_channels = ['Fp1','F7','F3','T7','P7','C3','P3','O1','AF3','FC5','FC1','CP5','CP1','PO3']\n",
    "right_channels = ['Fp2','F8','F4','T8','P8','C4','P4','O2','AF4','FC6','FC2','CP6','CP2','PO4']\n",
    "left_channel_indexes = [ channels.index(ch) for ch in left_channels ]\n",
    "right_channel_indexes = [ channels.index(ch) for ch in right_channels ]\n",
    "\n",
    "print(f\"{left_channel_indexes=}\")\n",
    "print(f\"{right_channel_indexes=}\")\n",
    "\n",
    "frontal_channels = ['FC5','FC1','FC2','FC6','F7','F3','Fz','F4','F8','Fp1','Fp2']\n",
    "posterior_channels = ['CP5','CP1','CP2','CP6','P7','P3','Pz','P4','P8','O1','O2']\n",
    "\n",
    "frontal_channel_indexes = [ channels.index(ch) for ch in frontal_channels ]\n",
    "posterior_channel_indexes = [ channels.index(ch) for ch in posterior_channels ]\n",
    "\n",
    "print(f\"{frontal_channel_indexes=}\")\n",
    "print(f\"{posterior_channel_indexes=}\")\n",
    "\n"
   ]
  },
  {
   "cell_type": "code",
   "execution_count": 17,
   "metadata": {},
   "outputs": [
    {
     "name": "stdout",
     "output_type": "stream",
     "text": [
      "\tAROUSAL-s01-DASM|Acc=0.61|10-CV=0.52683|STD=0.12269|Time spend=2.5244381427764893\n",
      "\tAROUSAL-s01-RASM|Acc=0.60833|10-CV=0.55783|STD=0.15148|Time spend=3.6488218307495117\n",
      "\tAROUSAL-s01-DCAU|Acc=0.63167|10-CV=0.529|STD=0.1247|Time spend=4.637875318527222\n",
      "\tAROUSAL-s02-DASM|Acc=0.615|10-CV=0.52283|STD=0.07245|Time spend=2.2942090034484863\n",
      "\tAROUSAL-s02-RASM|Acc=0.60708|10-CV=0.57783|STD=0.14908|Time spend=3.4416568279266357\n",
      "\tAROUSAL-s02-DCAU|Acc=0.61583|10-CV=0.52333|STD=0.0682|Time spend=4.432082414627075\n",
      "-----WARNING: Model s03 failed to learn: sum(ans)=0.0 sum(y)=480.0 len(y)=2400\n",
      "\tAROUSAL-s03-DASM|Acc=0.8|10-CV=0.73|STD=0.15524|Time spend=2.0978734493255615\n",
      "\tAROUSAL-s03-RASM|Acc=0.80208|10-CV=0.72933|STD=0.15494|Time spend=2.7306392192840576\n",
      "-----WARNING: Model s03 failed to learn: sum(ans)=0.0 sum(y)=480.0 len(y)=2400\n",
      "\tAROUSAL-s03-DCAU|Acc=0.8|10-CV=0.73|STD=0.15524|Time spend=3.656728744506836\n",
      "\tAROUSAL-s04-DASM|Acc=0.63333|10-CV=0.54267|STD=0.10763|Time spend=3.041966676712036\n",
      "\tAROUSAL-s04-RASM|Acc=0.60375|10-CV=0.53783|STD=0.21747|Time spend=4.071048021316528\n",
      "\tAROUSAL-s04-DCAU|Acc=0.63167|10-CV=0.53833|STD=0.10646|Time spend=5.087215185165405\n",
      "\tAROUSAL-s05-DASM|Acc=0.59208|10-CV=0.41567|STD=0.09413|Time spend=2.336662769317627\n",
      "\tAROUSAL-s05-RASM|Acc=0.52917|10-CV=0.40867|STD=0.12096|Time spend=3.4595062732696533\n",
      "\tAROUSAL-s05-DCAU|Acc=0.58208|10-CV=0.413|STD=0.0956|Time spend=4.5183422565460205\n",
      "\tAROUSAL-s06-DASM|Acc=0.60708|10-CV=0.518|STD=0.13082|Time spend=2.249450445175171\n",
      "\tAROUSAL-s06-RASM|Acc=0.58083|10-CV=0.53983|STD=0.14906|Time spend=3.3364098072052\n",
      "\tAROUSAL-s06-DCAU|Acc=0.59625|10-CV=0.51433|STD=0.13095|Time spend=4.374697685241699\n",
      "\tAROUSAL-s07-DASM|Acc=0.62875|10-CV=0.60933|STD=0.09961|Time spend=2.41157865524292\n",
      "\tAROUSAL-s07-RASM|Acc=0.62917|10-CV=0.6505|STD=0.14256|Time spend=3.5541374683380127\n",
      "\tAROUSAL-s07-DCAU|Acc=0.625|10-CV=0.62417|STD=0.11433|Time spend=4.659446477890015\n",
      "\tAROUSAL-s08-DASM|Acc=0.64|10-CV=0.434|STD=0.1043|Time spend=2.257530689239502\n",
      "\tAROUSAL-s08-RASM|Acc=0.57792|10-CV=0.508|STD=0.14818|Time spend=3.61700177192688\n",
      "\tAROUSAL-s08-DCAU|Acc=0.62833|10-CV=0.437|STD=0.10719|Time spend=4.952639818191528\n",
      "\tAROUSAL-s09-DASM|Acc=0.64292|10-CV=0.50483|STD=0.08858|Time spend=2.2869858741760254\n",
      "\tAROUSAL-s09-RASM|Acc=0.60875|10-CV=0.51583|STD=0.10014|Time spend=3.4055843353271484\n",
      "\tAROUSAL-s09-DCAU|Acc=0.63083|10-CV=0.493|STD=0.08378|Time spend=4.38630485534668\n",
      "\tAROUSAL-s10-DASM|Acc=0.65083|10-CV=0.53183|STD=0.06469|Time spend=2.429048538208008\n",
      "\tAROUSAL-s10-RASM|Acc=0.55417|10-CV=0.4795|STD=0.12349|Time spend=3.605027675628662\n",
      "\tAROUSAL-s10-DCAU|Acc=0.65458|10-CV=0.55117|STD=0.04953|Time spend=4.608395338058472\n",
      "-----WARNING: Model s11 failed to learn: sum(ans)=0.0 sum(y)=900.0 len(y)=2400\n",
      "\tAROUSAL-s11-DASM|Acc=0.625|10-CV=0.6025|STD=0.06089|Time spend=2.168447494506836\n",
      "\tAROUSAL-s11-RASM|Acc=0.62708|10-CV=0.6265|STD=0.10795|Time spend=3.214174509048462\n",
      "-----WARNING: Model s11 failed to learn: sum(ans)=0.0 sum(y)=900.0 len(y)=2400\n",
      "\tAROUSAL-s11-DCAU|Acc=0.625|10-CV=0.6015|STD=0.06046|Time spend=4.231436014175415\n",
      "-----WARNING: Model s12 failed to learn: sum(ans)=2400.0 sum(y)=1980.0 len(y)=2400\n",
      "\tAROUSAL-s12-DASM|Acc=0.825|10-CV=0.83|STD=0.1005|Time spend=2.2917840480804443\n",
      "-----WARNING: Model s12 failed to learn: sum(ans)=2400.0 sum(y)=1980.0 len(y)=2400\n",
      "\tAROUSAL-s12-RASM|Acc=0.825|10-CV=0.83|STD=0.1005|Time spend=2.8425488471984863\n",
      "-----WARNING: Model s12 failed to learn: sum(ans)=2400.0 sum(y)=1980.0 len(y)=2400\n",
      "\tAROUSAL-s12-DCAU|Acc=0.825|10-CV=0.83|STD=0.1005|Time spend=4.025047540664673\n",
      "-----WARNING: Model s13 failed to learn: sum(ans)=2400.0 sum(y)=2040.0 len(y)=2400\n",
      "\tAROUSAL-s13-DASM|Acc=0.85|10-CV=0.84|STD=0.06633|Time spend=2.0435452461242676\n",
      "\tAROUSAL-s13-RASM|Acc=0.85042|10-CV=0.8395|STD=0.06639|Time spend=2.6387479305267334\n",
      "-----WARNING: Model s13 failed to learn: sum(ans)=2400.0 sum(y)=2040.0 len(y)=2400\n",
      "\tAROUSAL-s13-DCAU|Acc=0.85|10-CV=0.84|STD=0.06633|Time spend=3.5000102519989014\n",
      "-----WARNING: Model s14 failed to learn: sum(ans)=2400.0 sum(y)=1620.0 len(y)=2400\n",
      "\tAROUSAL-s14-DASM|Acc=0.675|10-CV=0.65|STD=0.10247|Time spend=2.36016583442688\n",
      "\tAROUSAL-s14-RASM|Acc=0.67542|10-CV=0.64983|STD=0.10255|Time spend=3.2563562393188477\n",
      "-----WARNING: Model s14 failed to learn: sum(ans)=2400.0 sum(y)=1620.0 len(y)=2400\n",
      "\tAROUSAL-s14-DCAU|Acc=0.675|10-CV=0.65|STD=0.10247|Time spend=4.412880897521973\n",
      "\tAROUSAL-s15-DASM|Acc=0.655|10-CV=0.51133|STD=0.06971|Time spend=2.3226490020751953\n",
      "\tAROUSAL-s15-RASM|Acc=0.52958|10-CV=0.45017|STD=0.11114|Time spend=3.5033740997314453\n",
      "\tAROUSAL-s15-DCAU|Acc=0.66125|10-CV=0.5275|STD=0.08275|Time spend=4.587225914001465\n",
      "\tAROUSAL-s16-DASM|Acc=0.63583|10-CV=0.4665|STD=0.09763|Time spend=2.1911609172821045\n",
      "\tAROUSAL-s16-RASM|Acc=0.50125|10-CV=0.34133|STD=0.09116|Time spend=3.3744144439697266\n",
      "\tAROUSAL-s16-DCAU|Acc=0.62958|10-CV=0.451|STD=0.09717|Time spend=4.37649393081665\n",
      "\tAROUSAL-s17-DASM|Acc=0.68083|10-CV=0.61583|STD=0.06218|Time spend=2.111085891723633\n",
      "\tAROUSAL-s17-RASM|Acc=0.60333|10-CV=0.5595|STD=0.09147|Time spend=3.2650985717773438\n",
      "\tAROUSAL-s17-DCAU|Acc=0.65583|10-CV=0.59233|STD=0.08432|Time spend=4.191474914550781\n",
      "\tAROUSAL-s18-DASM|Acc=0.64458|10-CV=0.54883|STD=0.10163|Time spend=2.1897425651550293\n",
      "\tAROUSAL-s18-RASM|Acc=0.62875|10-CV=0.59767|STD=0.13483|Time spend=3.3884711265563965\n",
      "\tAROUSAL-s18-DCAU|Acc=0.62667|10-CV=0.55033|STD=0.10248|Time spend=4.43910551071167\n",
      "\tAROUSAL-s19-DASM|Acc=0.67708|10-CV=0.62683|STD=0.1295|Time spend=2.1749019622802734\n",
      "-----WARNING: Model s19 failed to learn: sum(ans)=2400.0 sum(y)=1620.0 len(y)=2400\n",
      "\tAROUSAL-s19-RASM|Acc=0.675|10-CV=0.62883|STD=0.13271|Time spend=2.9108636379241943\n",
      "\tAROUSAL-s19-DCAU|Acc=0.6775|10-CV=0.62783|STD=0.13232|Time spend=4.090364217758179\n",
      "-----WARNING: Model s20 failed to learn: sum(ans)=2400.0 sum(y)=1860.0 len(y)=2400\n",
      "\tAROUSAL-s20-DASM|Acc=0.775|10-CV=0.82|STD=0.08718|Time spend=2.2155702114105225\n",
      "\tAROUSAL-s20-RASM|Acc=0.7775|10-CV=0.81883|STD=0.0863|Time spend=2.922618865966797\n",
      "-----WARNING: Model s20 failed to learn: sum(ans)=2400.0 sum(y)=1860.0 len(y)=2400\n",
      "\tAROUSAL-s20-DCAU|Acc=0.775|10-CV=0.82|STD=0.08718|Time spend=3.9750804901123047\n",
      "-----WARNING: Model s21 failed to learn: sum(ans)=2400.0 sum(y)=1920.0 len(y)=2400\n",
      "\tAROUSAL-s21-DASM|Acc=0.8|10-CV=0.8|STD=0.1|Time spend=2.126049041748047\n",
      "\tAROUSAL-s21-RASM|Acc=0.80042|10-CV=0.79983|STD=0.09983|Time spend=2.8981239795684814\n",
      "-----WARNING: Model s21 failed to learn: sum(ans)=2400.0 sum(y)=1920.0 len(y)=2400\n",
      "\tAROUSAL-s21-DCAU|Acc=0.8|10-CV=0.8|STD=0.1|Time spend=3.8857104778289795\n",
      "\tAROUSAL-s22-DASM|Acc=0.60667|10-CV=0.5875|STD=0.0575|Time spend=2.3782432079315186\n",
      "\tAROUSAL-s22-RASM|Acc=0.6025|10-CV=0.61|STD=0.07|Time spend=3.5008387565612793\n",
      "\tAROUSAL-s22-DCAU|Acc=0.60958|10-CV=0.59267|STD=0.05952|Time spend=4.731767177581787\n",
      "-----WARNING: Model s23 failed to learn: sum(ans)=0.0 sum(y)=600.0 len(y)=2400\n",
      "\tAROUSAL-s23-DASM|Acc=0.75|10-CV=0.78|STD=0.09798|Time spend=2.605471134185791\n",
      "\tAROUSAL-s23-RASM|Acc=0.75167|10-CV=0.77933|STD=0.09802|Time spend=3.3969154357910156\n",
      "-----WARNING: Model s23 failed to learn: sum(ans)=0.0 sum(y)=600.0 len(y)=2400\n",
      "\tAROUSAL-s23-DCAU|Acc=0.75|10-CV=0.78|STD=0.09798|Time spend=4.415596961975098\n",
      "-----WARNING: Model s24 failed to learn: sum(ans)=2400.0 sum(y)=1980.0 len(y)=2400\n",
      "\tAROUSAL-s24-DASM|Acc=0.825|10-CV=0.82|STD=0.07483|Time spend=2.2297821044921875\n",
      "-----WARNING: Model s24 failed to learn: sum(ans)=2400.0 sum(y)=1980.0 len(y)=2400\n",
      "\tAROUSAL-s24-RASM|Acc=0.825|10-CV=0.82|STD=0.07483|Time spend=2.7172157764434814\n",
      "-----WARNING: Model s24 failed to learn: sum(ans)=2400.0 sum(y)=1980.0 len(y)=2400\n",
      "\tAROUSAL-s24-DCAU|Acc=0.825|10-CV=0.82|STD=0.07483|Time spend=3.806990146636963\n",
      "-----WARNING: Model s25 failed to learn: sum(ans)=2400.0 sum(y)=1740.0 len(y)=2400\n",
      "\tAROUSAL-s25-DASM|Acc=0.725|10-CV=0.73767|STD=0.12343|Time spend=2.280691385269165\n",
      "\tAROUSAL-s25-RASM|Acc=0.72542|10-CV=0.73967|STD=0.12739|Time spend=3.118626117706299\n",
      "-----WARNING: Model s25 failed to learn: sum(ans)=2400.0 sum(y)=1740.0 len(y)=2400\n",
      "\tAROUSAL-s25-DCAU|Acc=0.725|10-CV=0.73883|STD=0.12572|Time spend=4.3123602867126465\n",
      "\tAROUSAL-s26-DASM|Acc=0.61208|10-CV=0.526|STD=0.11075|Time spend=2.4020230770111084\n",
      "\tAROUSAL-s26-RASM|Acc=0.58167|10-CV=0.52633|STD=0.16339|Time spend=3.5955135822296143\n",
      "\tAROUSAL-s26-DCAU|Acc=0.60458|10-CV=0.523|STD=0.11091|Time spend=4.683115243911743\n",
      "\tAROUSAL-s27-DASM|Acc=0.67875|10-CV=0.63417|STD=0.09918|Time spend=2.2661571502685547\n",
      "\tAROUSAL-s27-RASM|Acc=0.67792|10-CV=0.6505|STD=0.11174|Time spend=3.3407227993011475\n",
      "\tAROUSAL-s27-DCAU|Acc=0.67583|10-CV=0.6495|STD=0.111|Time spend=4.430099964141846\n",
      "\tAROUSAL-s28-DASM|Acc=0.57|10-CV=0.46083|STD=0.10871|Time spend=2.388953685760498\n",
      "\tAROUSAL-s28-RASM|Acc=0.55083|10-CV=0.4275|STD=0.17599|Time spend=3.630187511444092\n",
      "\tAROUSAL-s28-DCAU|Acc=0.56542|10-CV=0.46783|STD=0.12645|Time spend=4.7664878368377686\n",
      "\tAROUSAL-s29-DASM|Acc=0.6375|10-CV=0.52633|STD=0.08544|Time spend=2.3553059101104736\n",
      "-----WARNING: Model s29 failed to learn: sum(ans)=2400.0 sum(y)=1500.0 len(y)=2400\n",
      "\tAROUSAL-s29-RASM|Acc=0.625|10-CV=0.52983|STD=0.08987|Time spend=3.4127004146575928\n",
      "-----WARNING: Model s29 failed to learn: sum(ans)=2400.0 sum(y)=1500.0 len(y)=2400\n",
      "\tAROUSAL-s29-DCAU|Acc=0.625|10-CV=0.52967|STD=0.08937|Time spend=4.615275621414185\n",
      "\tAROUSAL-s30-DASM|Acc=0.59542|10-CV=0.44233|STD=0.07246|Time spend=2.4016342163085938\n",
      "\tAROUSAL-s30-RASM|Acc=0.52917|10-CV=0.43867|STD=0.10886|Time spend=3.594974994659424\n",
      "\tAROUSAL-s30-DCAU|Acc=0.585|10-CV=0.42033|STD=0.06739|Time spend=4.7014875411987305\n",
      "\tAROUSAL-s31-DASM|Acc=0.64917|10-CV=0.55533|STD=0.1185|Time spend=2.30204439163208\n",
      "\tAROUSAL-s31-RASM|Acc=0.53208|10-CV=0.398|STD=0.08274|Time spend=3.5615758895874023\n",
      "\tAROUSAL-s31-DCAU|Acc=0.63375|10-CV=0.534|STD=0.11057|Time spend=4.584941387176514\n",
      "-----WARNING: Model s32 failed to learn: sum(ans)=2400.0 sum(y)=1620.0 len(y)=2400\n",
      "\tAROUSAL-s32-DASM|Acc=0.675|10-CV=0.7345|STD=0.12172|Time spend=2.3936636447906494\n",
      "\tAROUSAL-s32-RASM|Acc=0.67542|10-CV=0.75|STD=0.13601|Time spend=3.3306586742401123\n",
      "\tAROUSAL-s32-DCAU|Acc=0.675|10-CV=0.70983|STD=0.1096|Time spend=4.281905174255371\n",
      "AROUSAL-DASM|Acc=0.6746223958333335|10-CV=0.6078906249999999|STD=0.09652146344130477\n",
      "AROUSAL-RASM|Acc=0.6459895833333333|10-CV=0.6036562499999999|STD=0.11940721088786388\n",
      "AROUSAL-DCAU|Acc=0.6709765625000002|10-CV=0.6065468749999999|STD=0.09797891588554176\n",
      "\tVALENCE-s01-DASM|Acc=0.58708|10-CV=0.43283|STD=0.05758|Time spend=2.3007192611694336\n",
      "\tVALENCE-s01-RASM|Acc=0.54042|10-CV=0.48183|STD=0.11526|Time spend=3.481513261795044\n",
      "\tVALENCE-s01-DCAU|Acc=0.57917|10-CV=0.44383|STD=0.06524|Time spend=4.609406471252441\n",
      "\tVALENCE-s02-DASM|Acc=0.675|10-CV=0.55783|STD=0.09109|Time spend=2.2048821449279785\n",
      "\tVALENCE-s02-RASM|Acc=0.55458|10-CV=0.43133|STD=0.09784|Time spend=3.4835457801818848\n",
      "\tVALENCE-s02-DCAU|Acc=0.69667|10-CV=0.6035|STD=0.09878|Time spend=4.376491546630859\n",
      "\tVALENCE-s03-DASM|Acc=0.60125|10-CV=0.45167|STD=0.12701|Time spend=2.386840343475342\n",
      "\tVALENCE-s03-RASM|Acc=0.55542|10-CV=0.4145|STD=0.13991|Time spend=3.666562557220459\n",
      "\tVALENCE-s03-DCAU|Acc=0.59542|10-CV=0.44517|STD=0.12308|Time spend=4.827373027801514\n",
      "\tVALENCE-s04-DASM|Acc=0.66583|10-CV=0.53883|STD=0.08507|Time spend=2.1694350242614746\n",
      "\tVALENCE-s04-RASM|Acc=0.60417|10-CV=0.4895|STD=0.18599|Time spend=3.2241246700286865\n",
      "\tVALENCE-s04-DCAU|Acc=0.64917|10-CV=0.52817|STD=0.08182|Time spend=4.168171644210815\n",
      "\tVALENCE-s05-DASM|Acc=0.61417|10-CV=0.557|STD=0.08039|Time spend=2.6082348823547363\n",
      "\tVALENCE-s05-RASM|Acc=0.60375|10-CV=0.61933|STD=0.13027|Time spend=3.9262497425079346\n",
      "\tVALENCE-s05-DCAU|Acc=0.62208|10-CV=0.564|STD=0.0856|Time spend=4.968102693557739\n",
      "-----WARNING: Model s06 failed to learn: sum(ans)=2400.0 sum(y)=1800.0 len(y)=2400\n",
      "\tVALENCE-s06-DASM|Acc=0.75|10-CV=0.72|STD=0.07483|Time spend=2.1849775314331055\n",
      "\tVALENCE-s06-RASM|Acc=0.75292|10-CV=0.71967|STD=0.07448|Time spend=3.0488362312316895\n",
      "-----WARNING: Model s06 failed to learn: sum(ans)=2400.0 sum(y)=1800.0 len(y)=2400\n",
      "\tVALENCE-s06-DCAU|Acc=0.75|10-CV=0.72|STD=0.07483|Time spend=4.205595016479492\n",
      "-----WARNING: Model s07 failed to learn: sum(ans)=2400.0 sum(y)=1680.0 len(y)=2400\n",
      "\tVALENCE-s07-DASM|Acc=0.7|10-CV=0.68767|STD=0.13518|Time spend=2.197166681289673\n",
      "\tVALENCE-s07-RASM|Acc=0.70083|10-CV=0.68983|STD=0.13722|Time spend=3.117283582687378\n",
      "-----WARNING: Model s07 failed to learn: sum(ans)=2400.0 sum(y)=1680.0 len(y)=2400\n",
      "\tVALENCE-s07-DCAU|Acc=0.7|10-CV=0.68933|STD=0.13647|Time spend=4.210712909698486\n",
      "\tVALENCE-s08-DASM|Acc=0.6275|10-CV=0.49183|STD=0.08507|Time spend=2.3832569122314453\n",
      "\tVALENCE-s08-RASM|Acc=0.55292|10-CV=0.449|STD=0.12425|Time spend=3.5945065021514893\n",
      "\tVALENCE-s08-DCAU|Acc=0.64375|10-CV=0.496|STD=0.08331|Time spend=4.625082969665527\n",
      "\tVALENCE-s09-DASM|Acc=0.70542|10-CV=0.6215|STD=0.09213|Time spend=2.1162283420562744\n",
      "\tVALENCE-s09-RASM|Acc=0.67667|10-CV=0.534|STD=0.13421|Time spend=3.224602222442627\n",
      "\tVALENCE-s09-DCAU|Acc=0.70875|10-CV=0.61933|STD=0.07827|Time spend=4.138579368591309\n",
      "\tVALENCE-s10-DASM|Acc=0.74333|10-CV=0.65583|STD=0.08431|Time spend=2.0733609199523926\n",
      "\tVALENCE-s10-RASM|Acc=0.50667|10-CV=0.34033|STD=0.1117|Time spend=3.302565574645996\n",
      "\tVALENCE-s10-DCAU|Acc=0.7375|10-CV=0.63967|STD=0.08801|Time spend=4.148659706115723\n",
      "\tVALENCE-s11-DASM|Acc=0.60958|10-CV=0.52767|STD=0.13738|Time spend=2.317185878753662\n",
      "\tVALENCE-s11-RASM|Acc=0.605|10-CV=0.551|STD=0.15885|Time spend=3.45992112159729\n",
      "\tVALENCE-s11-DCAU|Acc=0.6075|10-CV=0.522|STD=0.13293|Time spend=4.5577592849731445\n",
      "\tVALENCE-s12-DASM|Acc=0.61167|10-CV=0.47733|STD=0.13572|Time spend=2.26288104057312\n",
      "\tVALENCE-s12-RASM|Acc=0.53667|10-CV=0.44117|STD=0.13786|Time spend=3.5780439376831055\n",
      "\tVALENCE-s12-DCAU|Acc=0.61083|10-CV=0.45583|STD=0.14397|Time spend=4.643091678619385\n",
      "\tVALENCE-s13-DASM|Acc=0.69375|10-CV=0.6365|STD=0.09129|Time spend=2.1624021530151367\n",
      "\tVALENCE-s13-RASM|Acc=0.58042|10-CV=0.46983|STD=0.18213|Time spend=3.3610000610351562\n",
      "\tVALENCE-s13-DCAU|Acc=0.71333|10-CV=0.66783|STD=0.09735|Time spend=4.249223470687866\n",
      "\tVALENCE-s14-DASM|Acc=0.67208|10-CV=0.56867|STD=0.05109|Time spend=2.1558661460876465\n",
      "\tVALENCE-s14-RASM|Acc=0.50083|10-CV=0.361|STD=0.06647|Time spend=3.395794630050659\n",
      "\tVALENCE-s14-DCAU|Acc=0.68|10-CV=0.57017|STD=0.05682|Time spend=4.37137246131897\n",
      "\tVALENCE-s15-DASM|Acc=0.73458|10-CV=0.65467|STD=0.04947|Time spend=2.1229348182678223\n",
      "\tVALENCE-s15-RASM|Acc=0.50917|10-CV=0.38367|STD=0.07454|Time spend=3.3664462566375732\n",
      "\tVALENCE-s15-DCAU|Acc=0.73958|10-CV=0.684|STD=0.05757|Time spend=4.202050447463989\n",
      "\tVALENCE-s16-DASM|Acc=0.68083|10-CV=0.61783|STD=0.08306|Time spend=2.193509817123413\n",
      "-----WARNING: Model s16 failed to learn: sum(ans)=0.0 sum(y)=900.0 len(y)=2400\n",
      "\tVALENCE-s16-RASM|Acc=0.625|10-CV=0.63983|STD=0.10221|Time spend=3.231097936630249\n",
      "\tVALENCE-s16-DCAU|Acc=0.69208|10-CV=0.63733|STD=0.08588|Time spend=4.116713047027588\n",
      "\tVALENCE-s17-DASM|Acc=0.60042|10-CV=0.43167|STD=0.09507|Time spend=2.3630242347717285\n",
      "\tVALENCE-s17-RASM|Acc=0.55583|10-CV=0.43617|STD=0.14803|Time spend=3.588035821914673\n",
      "\tVALENCE-s17-DCAU|Acc=0.57083|10-CV=0.43383|STD=0.10364|Time spend=4.732191324234009\n",
      "\tVALENCE-s18-DASM|Acc=0.72583|10-CV=0.632|STD=0.08286|Time spend=2.1777400970458984\n",
      "\tVALENCE-s18-RASM|Acc=0.60375|10-CV=0.5625|STD=0.15253|Time spend=3.320807695388794\n",
      "\tVALENCE-s18-DCAU|Acc=0.73792|10-CV=0.655|STD=0.07159|Time spend=4.138202667236328\n",
      "\tVALENCE-s19-DASM|Acc=0.62|10-CV=0.44883|STD=0.12264|Time spend=2.2701449394226074\n",
      "\tVALENCE-s19-RASM|Acc=0.57542|10-CV=0.44033|STD=0.19107|Time spend=3.6037349700927734\n",
      "\tVALENCE-s19-DCAU|Acc=0.62542|10-CV=0.453|STD=0.12998|Time spend=4.6964111328125\n",
      "\tVALENCE-s20-DASM|Acc=0.66542|10-CV=0.52317|STD=0.14331|Time spend=2.1968326568603516\n",
      "\tVALENCE-s20-RASM|Acc=0.58417|10-CV=0.44933|STD=0.18406|Time spend=3.3087167739868164\n",
      "\tVALENCE-s20-DCAU|Acc=0.66375|10-CV=0.508|STD=0.14465|Time spend=4.312873125076294\n",
      "\tVALENCE-s21-DASM|Acc=0.59375|10-CV=0.4005|STD=0.07338|Time spend=2.402038097381592\n",
      "\tVALENCE-s21-RASM|Acc=0.53375|10-CV=0.37|STD=0.08805|Time spend=3.7012298107147217\n",
      "\tVALENCE-s21-DCAU|Acc=0.59375|10-CV=0.40333|STD=0.06936|Time spend=4.807211637496948\n",
      "\tVALENCE-s22-DASM|Acc=0.59917|10-CV=0.514|STD=0.09225|Time spend=2.276291608810425\n",
      "\tVALENCE-s22-RASM|Acc=0.55375|10-CV=0.4995|STD=0.1248|Time spend=3.4626657962799072\n",
      "\tVALENCE-s22-DCAU|Acc=0.58458|10-CV=0.50467|STD=0.08881|Time spend=4.517291307449341\n",
      "\tVALENCE-s23-DASM|Acc=0.65083|10-CV=0.58683|STD=0.11566|Time spend=2.3096795082092285\n",
      "\tVALENCE-s23-RASM|Acc=0.65292|10-CV=0.609|STD=0.14975|Time spend=3.4220261573791504\n",
      "-----WARNING: Model s23 failed to learn: sum(ans)=2400.0 sum(y)=1560.0 len(y)=2400\n",
      "\tVALENCE-s23-DCAU|Acc=0.65|10-CV=0.59633|STD=0.12896|Time spend=4.4837563037872314\n",
      "\tVALENCE-s24-DASM|Acc=0.62667|10-CV=0.49717|STD=0.1332|Time spend=2.1965816020965576\n",
      "-----WARNING: Model s24 failed to learn: sum(ans)=0.0 sum(y)=1080.0 len(y)=2400\n",
      "\tVALENCE-s24-RASM|Acc=0.55|10-CV=0.42967|STD=0.18436|Time spend=3.4247939586639404\n",
      "\tVALENCE-s24-DCAU|Acc=0.60167|10-CV=0.49117|STD=0.12722|Time spend=4.5010387897491455\n",
      "\tVALENCE-s25-DASM|Acc=0.58625|10-CV=0.386|STD=0.1004|Time spend=2.4357805252075195\n",
      "\tVALENCE-s25-RASM|Acc=0.52958|10-CV=0.38217|STD=0.12501|Time spend=3.766127586364746\n",
      "\tVALENCE-s25-DCAU|Acc=0.5825|10-CV=0.38217|STD=0.09759|Time spend=4.901022672653198\n",
      "-----WARNING: Model s26 failed to learn: sum(ans)=2400.0 sum(y)=1560.0 len(y)=2400\n",
      "\tVALENCE-s26-DASM|Acc=0.65|10-CV=0.60667|STD=0.12579|Time spend=2.4440324306488037\n",
      "\tVALENCE-s26-RASM|Acc=0.6525|10-CV=0.61883|STD=0.13922|Time spend=3.669693946838379\n",
      "\tVALENCE-s26-DCAU|Acc=0.65333|10-CV=0.607|STD=0.12618|Time spend=4.78885555267334\n",
      "-----WARNING: Model s27 failed to learn: sum(ans)=2400.0 sum(y)=1800.0 len(y)=2400\n",
      "\tVALENCE-s27-DASM|Acc=0.75|10-CV=0.67|STD=0.12689|Time spend=2.5167880058288574\n",
      "\tVALENCE-s27-RASM|Acc=0.75083|10-CV=0.67017|STD=0.12719|Time spend=3.2849364280700684\n",
      "-----WARNING: Model s27 failed to learn: sum(ans)=2400.0 sum(y)=1800.0 len(y)=2400\n",
      "\tVALENCE-s27-DCAU|Acc=0.75|10-CV=0.67|STD=0.12689|Time spend=4.352454662322998\n",
      "-----WARNING: Model s28 failed to learn: sum(ans)=2400.0 sum(y)=1500.0 len(y)=2400\n",
      "\tVALENCE-s28-DASM|Acc=0.625|10-CV=0.5545|STD=0.13584|Time spend=2.4245948791503906\n",
      "\tVALENCE-s28-RASM|Acc=0.62667|10-CV=0.60867|STD=0.19018|Time spend=3.4735426902770996\n",
      "-----WARNING: Model s28 failed to learn: sum(ans)=2400.0 sum(y)=1500.0 len(y)=2400\n",
      "\tVALENCE-s28-DCAU|Acc=0.625|10-CV=0.561|STD=0.14294|Time spend=4.681349754333496\n",
      "\tVALENCE-s29-DASM|Acc=0.6325|10-CV=0.51767|STD=0.07814|Time spend=2.3534746170043945\n",
      "\tVALENCE-s29-RASM|Acc=0.57542|10-CV=0.55867|STD=0.1181|Time spend=3.573511838912964\n",
      "\tVALENCE-s29-DCAU|Acc=0.6325|10-CV=0.51217|STD=0.07876|Time spend=4.678154230117798\n",
      "-----WARNING: Model s30 failed to learn: sum(ans)=2400.0 sum(y)=1620.0 len(y)=2400\n",
      "\tVALENCE-s30-DASM|Acc=0.675|10-CV=0.62|STD=0.14697|Time spend=2.4761033058166504\n",
      "\tVALENCE-s30-RASM|Acc=0.67542|10-CV=0.6185|STD=0.14673|Time spend=3.5396554470062256\n",
      "-----WARNING: Model s30 failed to learn: sum(ans)=2400.0 sum(y)=1620.0 len(y)=2400\n",
      "\tVALENCE-s30-DCAU|Acc=0.675|10-CV=0.62|STD=0.14697|Time spend=4.678695917129517\n",
      "\tVALENCE-s31-DASM|Acc=0.61667|10-CV=0.47933|STD=0.09208|Time spend=2.425565242767334\n",
      "\tVALENCE-s31-RASM|Acc=0.57875|10-CV=0.45|STD=0.16035|Time spend=3.6870548725128174\n",
      "\tVALENCE-s31-DCAU|Acc=0.6075|10-CV=0.47217|STD=0.08956|Time spend=4.857441186904907\n",
      "\tVALENCE-s32-DASM|Acc=0.61542|10-CV=0.43517|STD=0.12429|Time spend=2.3756356239318848\n",
      "\tVALENCE-s32-RASM|Acc=0.50167|10-CV=0.3705|STD=0.13515|Time spend=3.6218602657318115\n",
      "\tVALENCE-s32-DCAU|Acc=0.6225|10-CV=0.41867|STD=0.11948|Time spend=4.95201563835144\n",
      "VALENCE-DASM|Acc=0.65328125|10-CV=0.5469114583333333|STD=0.10154588893633107\n",
      "VALENCE-RASM|Acc=0.5908072916666666|10-CV=0.5028072916666666|STD=0.13555546297658877\n",
      "VALENCE-DCAU|Acc=0.6531901041666667|10-CV=0.5492083333333333|STD=0.10257882345865155\n",
      "TOTAL-DASM|Acc=0.6639518229166667|10-CV=0.5774010416666667|STD=0.09903367618881792\n",
      "TOTAL-RASM|Acc=0.6183984375|10-CV=0.5532317708333333|STD=0.1274813369322263\n",
      "TOTAL-DCAU|Acc=0.6620833333333334|10-CV=0.5778776041666666|STD=0.10027886967209666\n"
     ]
    }
   ],
   "source": [
    "bands = [(0,4), (4,8), (8,12), (12,30), (30,64)]\n",
    "# [alias_feature_function]__[optional_param]\n",
    "params = dict({\n",
    "    'pow_freq_bands__log':True,\n",
    "    'pow_freq_bands__normalize':False,\n",
    "    'pow_freq_bands__freq_bands':bands\n",
    "})\n",
    "\n",
    "accs,cv_means,cv_stds  = {'DASM':[],'RASM':[],'DCAU':[]},{'DASM':[],'RASM':[],'DCAU':[]},{'DASM':[],'RASM':[],'DCAU':[]}\n",
    "# count = 0\n",
    "for filename in dataset.get_file_list():\n",
    "    start = time.time()\n",
    "    data, labels, groups = dataset.get_data(filename, stimuli=Dataset_subjectDependent.STIMULI_AROUSAL, return_type='numpy')\n",
    "    fe = FeatureExtractor(sfreq=128, selected_funcs=['pow_freq_bands'],params=params,n_jobs=8)\n",
    "    X = fe.fit_transform(X=data)\n",
    "\n",
    "    PSD_left = X[:, left_channel_indexes].copy()\n",
    "    PSD_right = X[:, right_channel_indexes].copy()\n",
    "    PSD_frontal = X[:, frontal_channel_indexes].copy()\n",
    "    PSD_posterior = X[:, posterior_channel_indexes].copy()\n",
    "    X = {\n",
    "        'DASM': PSD_left - PSD_right,\n",
    "        'RASM': PSD_left / PSD_right,\n",
    "        'DCAU': PSD_frontal - PSD_posterior,\n",
    "    }\n",
    "\n",
    "    for feature_name in ['DASM','RASM','DCAU']:\n",
    "        _, acc, cross = train_model(X[feature_name], labels.reshape(-1), groups, filename=filename)\n",
    "        print(f\"\\tAROUSAL-{filename}-{feature_name}|Acc={round(acc,5)}|10-CV={round(cross.mean(),5)}|STD={round(cross.std(),5)}|Time spend={time.time() - start}\")\n",
    "        accs[feature_name].append(acc)\n",
    "        cv_means[feature_name].append(cross.mean())\n",
    "        cv_stds[feature_name].append(cross.std())\n",
    "    # count+=1\n",
    "    # if(count == 3): break\n",
    "for feature_name in ['DASM','RASM','DCAU']:\n",
    "    print(f\"AROUSAL-{feature_name}|Acc={sum(accs[feature_name])/len(accs[feature_name])}|10-CV={sum(cv_means[feature_name])/len(cv_means[feature_name])}|STD={sum(cv_stds[feature_name])/len(cv_stds[feature_name])}\")\n",
    "\n",
    "accs_v,cv_means_v,cv_stds_v  = {'DASM':[],'RASM':[],'DCAU':[]},{'DASM':[],'RASM':[],'DCAU':[]},{'DASM':[],'RASM':[],'DCAU':[]}\n",
    "# count=0\n",
    "for filename in dataset.get_file_list():\n",
    "    start = time.time()\n",
    "    data, labels, groups = dataset.get_data(filename, stimuli=Dataset_subjectDependent.STIMULI_VALENCE, return_type='numpy')\n",
    "    fe = FeatureExtractor(sfreq=128, selected_funcs=['pow_freq_bands'],params=params,n_jobs=8)\n",
    "    X = fe.fit_transform(X=data)\n",
    "\n",
    "    PSD_left = X[:, left_channel_indexes].copy()\n",
    "    PSD_right = X[:, right_channel_indexes].copy()\n",
    "    PSD_frontal = X[:, frontal_channel_indexes].copy()\n",
    "    PSD_posterior = X[:, posterior_channel_indexes].copy()\n",
    "    X = {\n",
    "        'DASM': PSD_left - PSD_right,\n",
    "        'RASM': PSD_left / PSD_right,\n",
    "        'DCAU': PSD_frontal - PSD_posterior,\n",
    "    }\n",
    "\n",
    "    for feature_name in ['DASM','RASM','DCAU']:\n",
    "        _, acc, cross = train_model(X[feature_name], labels.reshape(-1), groups, filename=filename)\n",
    "        print(f\"\\tVALENCE-{filename}-{feature_name}|Acc={round(acc,5)}|10-CV={round(cross.mean(),5)}|STD={round(cross.std(),5)}|Time spend={time.time() - start}\")\n",
    "        accs_v[feature_name].append(acc)\n",
    "        cv_means_v[feature_name].append(cross.mean())\n",
    "        cv_stds_v[feature_name].append(cross.std())\n",
    "    # count+=1\n",
    "    # if(count == 3): break\n",
    "for feature_name in ['DASM','RASM','DCAU']:\n",
    "    print(f\"VALENCE-{feature_name}|Acc={sum(accs_v[feature_name])/len(accs_v[feature_name])}|10-CV={sum(cv_means_v[feature_name])/len(cv_means_v[feature_name])}|STD={sum(cv_stds_v[feature_name])/len(cv_stds_v[feature_name])}\")\n",
    "\n",
    "for feature_name in ['DASM','RASM','DCAU']:\n",
    "    accs[feature_name].extend(accs_v[feature_name])\n",
    "    cv_means[feature_name].extend(cv_means_v[feature_name])\n",
    "    cv_stds[feature_name].extend(cv_stds_v[feature_name])\n",
    "    print(f\"TOTAL-{feature_name}|Acc={sum(accs[feature_name])/len(accs[feature_name])}|10-CV={sum(cv_means[feature_name])/len(cv_means[feature_name])}|STD={sum(cv_stds[feature_name])/len(cv_stds[feature_name])}\")"
   ]
  },
  {
   "cell_type": "markdown",
   "metadata": {},
   "source": [
    "## 4. Connectivity\n",
    "\n",
    "### 4.1 coherence"
   ]
  },
  {
   "cell_type": "code",
   "execution_count": 18,
   "metadata": {},
   "outputs": [],
   "source": [
    "from mne_connectivity import spectral_connectivity_time\n",
    "\n",
    "def save(data,filename):\n",
    "    with open(f'cache/{filename}.pickle', 'wb') as handle:\n",
    "        pickle.dump(data, handle, protocol=pickle.HIGHEST_PROTOCOL)\n",
    "\n",
    "def load(filename):\n",
    "    with open(f'cache/{filename}.pickle', 'rb') as handle:\n",
    "        data = pickle.load(handle)\n",
    "    return data"
   ]
  },
  {
   "cell_type": "code",
   "execution_count": 4,
   "metadata": {},
   "outputs": [],
   "source": [
    "# bands = [(0,4), (4,8), (8,12), (12,30), (30,64)]\n",
    "for filename in tqdm(dataset.get_file_list()):\n",
    "    # if(filename in ['s01','s02','s03','s04','s05','s06','s07']): continue\n",
    "    print(\"----\"*5, filename, \"----\"*5)\n",
    "    # start = time.time()\n",
    "    epochs, _ = dataset.get_data_mne_epochs(filename, sfreq=128, stimuli=Dataset_subjectDependent.STIMULI_AROUSAL, split=False)\n",
    "    # X = fe.fit_transform(X=data)\n",
    "    # print(epochs, labels.shape)\n",
    "    step = 150//2\n",
    "    X = []\n",
    "    # count = 0\n",
    "    for index in range(0,len(epochs), step):\n",
    "        # print(index,index+step)\n",
    "        conn = spectral_connectivity_time(epochs[index:index+step], method='coh',mode='multitaper',sfreq=128, freqs=range(7,64), verbose='CRITICAL')\n",
    "        # (step, 528, 57, 128) => (epoch, conn, freq, time) .mean(axis=3)\n",
    "        # (step, 528, 57) => (epoch, conn, freq)\n",
    "        # print(conn.get_data('raveled').mean(axis=3).shape)\n",
    "        conn = conn.get_data('raveled').mean(axis=3)\n",
    "        # (step, 528*4 ) =>(step, 2112 )\n",
    "        x = np.concatenate([ conn[:,:,7-7:8-7 ].mean(axis=2),\n",
    "                            conn[:,:,8-7:12-7 ].mean(axis=2),\n",
    "                            conn[:,:,12-7:30-7 ].mean(axis=2),\n",
    "                            conn[:,:,30-7:64-7 ].mean(axis=2) ],axis=1)\n",
    "        X.append(x)\n",
    "        # count += 1\n",
    "        # if(count == 3): break\n",
    "    X = np.vstack(X)\n",
    "    print(X.shape)\n",
    "    save(X,f\"X_COH_AROUSAL_{filename}\")\n",
    "\n",
    "\n",
    "    epochs, _ = dataset.get_data_mne_epochs(filename, sfreq=128, stimuli=Dataset_subjectDependent.STIMULI_VALENCE, split=False)\n",
    "    # X = fe.fit_transform(X=data)\n",
    "    # print(epochs, labels.shape)\n",
    "    step = 150//2\n",
    "    X = []\n",
    "    # count = 0\n",
    "    for index in tqdm(range(0,len(epochs), step)):\n",
    "        # print(index,index+step)\n",
    "        conn = spectral_connectivity_time(epochs[index:index+step], method='coh',mode='multitaper',sfreq=128, freqs=range(7,64), verbose='CRITICAL')\n",
    "        # (step, 528, 57, 128) => (epoc\n",
    "        # h, conn, freq, time) .mean(axis=3)\n",
    "        # (step, 528, 57) => (epoch, conn, freq)\n",
    "        # print(conn.get_data('raveled').mean(axis=3).shape)\n",
    "        conn = conn.get_data('raveled').mean(axis=3)\n",
    "        # (step, 528*4 ) =>(step, 2112 )\n",
    "        x = np.concatenate([ conn[:,:,7-7:8-7 ].mean(axis=2),\n",
    "                            conn[:,:,8-7:12-7 ].mean(axis=2),\n",
    "                            conn[:,:,12-7:30-7 ].mean(axis=2),\n",
    "                            conn[:,:,30-7:64-7 ].mean(axis=2) ],axis=1)\n",
    "        X.append(x)\n",
    "        # count += 1\n",
    "        # if(count == 3): break\n",
    "    X = np.vstack(X)\n",
    "    print(X.shape)\n",
    "    save(X,f\"X_COH_VALENCE_{filename}\")"
   ]
  },
  {
   "cell_type": "code",
   "execution_count": 22,
   "metadata": {},
   "outputs": [
    {
     "data": {
      "application/vnd.jupyter.widget-view+json": {
       "model_id": "788a41cac9f74f10b5061f8e2dc510fc",
       "version_major": 2,
       "version_minor": 0
      },
      "text/plain": [
       "  0%|          | 0/32 [00:00<?, ?it/s]"
      ]
     },
     "metadata": {},
     "output_type": "display_data"
    },
    {
     "name": "stdout",
     "output_type": "stream",
     "text": [
      "\tAROUSAL-s01|Acc=0.77917|10-CV=0.54617|STD=0.14184|Time spend=72.09873604774475\n",
      "\tAROUSAL-s02|Acc=0.70292|10-CV=0.54167|STD=0.07741|Time spend=53.257426500320435\n",
      "-----WARNING: Model s03 failed to learn: sum(ans)=0.0 sum(y)=480.0 len(y)=2400\n",
      "\tAROUSAL-s03|Acc=0.8|10-CV=0.73|STD=0.15524|Time spend=36.00350046157837\n",
      "\tAROUSAL-s04|Acc=0.73042|10-CV=0.53633|STD=0.10344|Time spend=49.57472538948059\n",
      "\tAROUSAL-s05|Acc=0.72083|10-CV=0.47983|STD=0.10048|Time spend=57.4552948474884\n",
      "\tAROUSAL-s06|Acc=0.67792|10-CV=0.5205|STD=0.12185|Time spend=57.38243746757507\n",
      "\tAROUSAL-s07|Acc=0.76|10-CV=0.57767|STD=0.0818|Time spend=54.6458694934845\n",
      "\tAROUSAL-s08|Acc=0.76417|10-CV=0.43267|STD=0.11995|Time spend=54.8598849773407\n",
      "\tAROUSAL-s09|Acc=0.75417|10-CV=0.4935|STD=0.07972|Time spend=51.59825849533081\n",
      "\tAROUSAL-s10|Acc=0.81292|10-CV=0.6625|STD=0.08202|Time spend=50.832497358322144\n",
      "\tAROUSAL-s11|Acc=0.67542|10-CV=0.552|STD=0.04605|Time spend=51.17717623710632\n",
      "-----WARNING: Model s12 failed to learn: sum(ans)=2400.0 sum(y)=1980.0 len(y)=2400\n",
      "\tAROUSAL-s12|Acc=0.825|10-CV=0.83|STD=0.1005|Time spend=42.51485300064087\n",
      "-----WARNING: Model s13 failed to learn: sum(ans)=2400.0 sum(y)=2040.0 len(y)=2400\n",
      "\tAROUSAL-s13|Acc=0.85|10-CV=0.83933|STD=0.06675|Time spend=30.717071294784546\n",
      "\tAROUSAL-s14|Acc=0.68792|10-CV=0.6285|STD=0.09061|Time spend=48.560932636260986\n",
      "\tAROUSAL-s15|Acc=0.76917|10-CV=0.5295|STD=0.11105|Time spend=54.85595917701721\n",
      "\tAROUSAL-s16|Acc=0.78667|10-CV=0.549|STD=0.07392|Time spend=53.135347843170166\n",
      "\tAROUSAL-s17|Acc=0.75417|10-CV=0.64633|STD=0.04274|Time spend=48.494009017944336\n",
      "\tAROUSAL-s18|Acc=0.69292|10-CV=0.52|STD=0.1118|Time spend=52.47011423110962\n",
      "-----WARNING: Model s19 failed to learn: sum(ans)=2400.0 sum(y)=1620.0 len(y)=2400\n",
      "\tAROUSAL-s19|Acc=0.675|10-CV=0.62817|STD=0.13092|Time spend=50.83431005477905\n",
      "-----WARNING: Model s20 failed to learn: sum(ans)=2400.0 sum(y)=1860.0 len(y)=2400\n",
      "\tAROUSAL-s20|Acc=0.775|10-CV=0.82|STD=0.08718|Time spend=45.38244366645813\n",
      "-----WARNING: Model s21 failed to learn: sum(ans)=2400.0 sum(y)=1920.0 len(y)=2400\n",
      "\tAROUSAL-s21|Acc=0.8|10-CV=0.8|STD=0.1|Time spend=41.40534067153931\n",
      "\tAROUSAL-s22|Acc=0.61417|10-CV=0.56167|STD=0.06918|Time spend=59.24596858024597\n",
      "\tAROUSAL-s23|Acc=0.7725|10-CV=0.77783|STD=0.0958|Time spend=45.10616660118103\n",
      "-----WARNING: Model s24 failed to learn: sum(ans)=2400.0 sum(y)=1980.0 len(y)=2400\n",
      "\tAROUSAL-s24|Acc=0.825|10-CV=0.82|STD=0.07483|Time spend=36.33444333076477\n",
      "-----WARNING: Model s25 failed to learn: sum(ans)=2400.0 sum(y)=1740.0 len(y)=2400\n",
      "\tAROUSAL-s25|Acc=0.725|10-CV=0.73917|STD=0.12664|Time spend=42.43127226829529\n",
      "\tAROUSAL-s26|Acc=0.71125|10-CV=0.52667|STD=0.10619|Time spend=55.375648021698\n",
      "\tAROUSAL-s27|Acc=0.81875|10-CV=0.64833|STD=0.10208|Time spend=43.52504277229309\n",
      "\tAROUSAL-s28|Acc=0.67292|10-CV=0.47383|STD=0.07505|Time spend=56.8767523765564\n",
      "\tAROUSAL-s29|Acc=0.6825|10-CV=0.53433|STD=0.08457|Time spend=51.611369132995605\n",
      "\tAROUSAL-s30|Acc=0.73375|10-CV=0.4705|STD=0.08268|Time spend=56.67428803443909\n",
      "\tAROUSAL-s31|Acc=0.74333|10-CV=0.56317|STD=0.10562|Time spend=56.36841368675232\n",
      "\tAROUSAL-s32|Acc=0.78167|10-CV=0.6525|STD=0.09469|Time spend=46.7352340221405\n",
      "AROUSAL|Acc=0.7460807291666668|10-CV=0.6134895833333334|STD=0.0950809252903726\n"
     ]
    }
   ],
   "source": [
    "accs, cv_means, cv_stds = [],[],[]\n",
    "for filename in tqdm(dataset.get_file_list()):\n",
    "    start = time.time()\n",
    "    X = load(f\"X_COH_AROUSAL_{filename}\")\n",
    "    assert X.shape == (2400,2112)\n",
    "    _, labels,groups = dataset.get_data(filename, stimuli=Dataset_subjectDependent.STIMULI_AROUSAL, return_type='numpy')\n",
    "    _, acc, cross = train_model(X, labels.reshape(-1), groups,filename=filename)\n",
    "    print(f\"\\tAROUSAL-{filename}|Acc={round(acc,5)}|10-CV={round(cross.mean(),5)}|STD={round(cross.std(),5)}|Time spend={time.time() - start}\")\n",
    "    accs.append(acc)\n",
    "    cv_means.append(cross.mean())\n",
    "    cv_stds.append(cross.std())\n",
    "print(f\"AROUSAL|Acc={sum(accs)/len(accs)}|10-CV={sum(cv_means)/len(cv_means)}|STD={sum(cv_stds)/len(cv_stds)}\")"
   ]
  },
  {
   "cell_type": "code",
   "execution_count": 24,
   "metadata": {},
   "outputs": [
    {
     "data": {
      "application/vnd.jupyter.widget-view+json": {
       "model_id": "b6ec5e5a2ec549b498e7b69ad628bbc5",
       "version_major": 2,
       "version_minor": 0
      },
      "text/plain": [
       "  0%|          | 0/32 [00:00<?, ?it/s]"
      ]
     },
     "metadata": {},
     "output_type": "display_data"
    },
    {
     "name": "stdout",
     "output_type": "stream",
     "text": [
      "\tVALENCE-s01|Acc=0.72|10-CV=0.41933|STD=0.06797|Time spend=59.25682973861694\n",
      "\tVALENCE-s02|Acc=0.7475|10-CV=0.65983|STD=0.10715|Time spend=47.22028207778931\n",
      "\tVALENCE-s03|Acc=0.75333|10-CV=0.56583|STD=0.16636|Time spend=53.59569239616394\n",
      "\tVALENCE-s04|Acc=0.77125|10-CV=0.60717|STD=0.07833|Time spend=48.5079128742218\n",
      "\tVALENCE-s05|Acc=0.71875|10-CV=0.56567|STD=0.0848|Time spend=53.26034903526306\n",
      "-----WARNING: Model s06 failed to learn: sum(ans)=2400.0 sum(y)=1800.0 len(y)=2400\n",
      "\tVALENCE-s06|Acc=0.75|10-CV=0.71767|STD=0.0736|Time spend=49.34060454368591\n",
      "\tVALENCE-s07|Acc=0.76583|10-CV=0.6585|STD=0.13381|Time spend=46.04002046585083\n",
      "\tVALENCE-s08|Acc=0.74125|10-CV=0.48433|STD=0.08415|Time spend=58.035321950912476\n",
      "\tVALENCE-s09|Acc=0.78542|10-CV=0.64483|STD=0.0799|Time spend=47.633655309677124\n",
      "\tVALENCE-s10|Acc=0.85083|10-CV=0.78033|STD=0.08143|Time spend=38.175557374954224\n",
      "\tVALENCE-s11|Acc=0.68708|10-CV=0.50083|STD=0.13131|Time spend=52.31644153594971\n",
      "\tVALENCE-s12|Acc=0.75958|10-CV=0.54117|STD=0.09452|Time spend=52.39402174949646\n",
      "\tVALENCE-s13|Acc=0.78125|10-CV=0.72533|STD=0.08898|Time spend=41.13262748718262\n",
      "\tVALENCE-s14|Acc=0.80375|10-CV=0.69217|STD=0.03138|Time spend=46.44713830947876\n",
      "\tVALENCE-s15|Acc=0.84708|10-CV=0.72667|STD=0.06454|Time spend=40.389992237091064\n",
      "\tVALENCE-s16|Acc=0.79042|10-CV=0.66883|STD=0.09699|Time spend=46.59841322898865\n",
      "\tVALENCE-s17|Acc=0.66708|10-CV=0.45583|STD=0.10361|Time spend=58.78437829017639\n",
      "\tVALENCE-s18|Acc=0.81042|10-CV=0.68817|STD=0.07156|Time spend=40.494478940963745\n",
      "\tVALENCE-s19|Acc=0.74583|10-CV=0.49183|STD=0.09528|Time spend=52.551241874694824\n",
      "\tVALENCE-s20|Acc=0.75583|10-CV=0.605|STD=0.13381|Time spend=49.02714014053345\n",
      "\tVALENCE-s21|Acc=0.71167|10-CV=0.43183|STD=0.08113|Time spend=60.97601532936096\n",
      "\tVALENCE-s22|Acc=0.7525|10-CV=0.68467|STD=0.07042|Time spend=45.32523441314697\n",
      "\tVALENCE-s23|Acc=0.76667|10-CV=0.59667|STD=0.11927|Time spend=51.139920711517334\n",
      "\tVALENCE-s24|Acc=0.755|10-CV=0.5665|STD=0.07309|Time spend=54.62797403335571\n",
      "\tVALENCE-s25|Acc=0.68083|10-CV=0.461|STD=0.11046|Time spend=57.01069736480713\n",
      "\tVALENCE-s26|Acc=0.65708|10-CV=0.59417|STD=0.11476|Time spend=53.28585982322693\n",
      "\tVALENCE-s27|Acc=0.7525|10-CV=0.6555|STD=0.11669|Time spend=40.210787534713745\n",
      "\tVALENCE-s28|Acc=0.73833|10-CV=0.54267|STD=0.11365|Time spend=50.330543756484985\n",
      "\tVALENCE-s29|Acc=0.74292|10-CV=0.56967|STD=0.07261|Time spend=55.17047309875488\n",
      "-----WARNING: Model s30 failed to learn: sum(ans)=2400.0 sum(y)=1620.0 len(y)=2400\n",
      "\tVALENCE-s30|Acc=0.675|10-CV=0.60533|STD=0.1413|Time spend=49.29420709609985\n",
      "\tVALENCE-s31|Acc=0.69833|10-CV=0.489|STD=0.10123|Time spend=58.0265052318573\n",
      "\tVALENCE-s32|Acc=0.73708|10-CV=0.36983|STD=0.09038|Time spend=56.24444603919983\n",
      "VALENCE|Acc=0.7475130208333334|10-CV=0.5864427083333333|STD=0.09607650653629923\n"
     ]
    }
   ],
   "source": [
    "accs_v, cv_means_v, cv_stds_v = [],[],[]\n",
    "for filename in tqdm(dataset.get_file_list()):\n",
    "    start = time.time()\n",
    "    X = load(f\"X_COH_VALENCE_{filename}\")\n",
    "    assert X.shape == (2400,2112)\n",
    "    _, labels,groups = dataset.get_data(filename, stimuli=Dataset_subjectDependent.STIMULI_VALENCE, return_type='numpy')\n",
    "    _, acc, cross = train_model(X, labels.reshape(-1), groups,filename=filename)\n",
    "    print(f\"\\tVALENCE-{filename}|Acc={round(acc,5)}|10-CV={round(cross.mean(),5)}|STD={round(cross.std(),5)}|Time spend={time.time() - start}\")\n",
    "    accs_v.append(acc)\n",
    "    cv_means_v.append(cross.mean())\n",
    "    cv_stds_v.append(cross.std())\n",
    "print(f\"VALENCE|Acc={sum(accs_v)/len(accs_v)}|10-CV={sum(cv_means_v)/len(cv_means_v)}|STD={sum(cv_stds_v)/len(cv_stds_v)}\")"
   ]
  },
  {
   "cell_type": "code",
   "execution_count": 25,
   "metadata": {},
   "outputs": [
    {
     "name": "stdout",
     "output_type": "stream",
     "text": [
      "TOTAL|Acc=0.7467968749999996|10-CV=0.5999661458333331|STD=0.09557871591333594\n"
     ]
    }
   ],
   "source": [
    "accs.extend(accs_v)\n",
    "cv_means.extend(cv_means_v)\n",
    "cv_stds.extend(cv_stds_v)\n",
    "print(f\"TOTAL|Acc={sum(accs)/len(accs)}|10-CV={sum(cv_means)/len(cv_means)}|STD={sum(cv_stds)/len(cv_stds)}\")"
   ]
  },
  {
   "cell_type": "markdown",
   "metadata": {},
   "source": [
    "### Connectivity PLV"
   ]
  },
  {
   "cell_type": "code",
   "execution_count": null,
   "metadata": {},
   "outputs": [],
   "source": [
    "# bands = [(0,4), (4,8), (8,12), (12,30), (30,64)]\n",
    "for filename in tqdm(dataset.get_file_list()):\n",
    "    # if(filename in ['s01','s02','s03','s04','s05','s06','s07']): continue\n",
    "    print(\"----\"*5, filename, \"----\"*5)\n",
    "    # start = time.time()\n",
    "    epochs, _ = dataset.get_data_mne_epochs(filename, sfreq=128, stimuli=Dataset_subjectDependent.STIMULI_AROUSAL, split=False)\n",
    "    # X = fe.fit_transform(X=data)\n",
    "    # print(epochs, labels.shape)\n",
    "    step = 150//2\n",
    "    X = []\n",
    "    # count = 0\n",
    "    for index in range(0,len(epochs), step):\n",
    "        # print(index,index+step)\n",
    "        conn = spectral_connectivity_time(epochs[index:index+step], method='plv',mode='multitaper',sfreq=128, freqs=range(7,64), verbose='CRITICAL')\n",
    "        # (step, 528, 57, 128) => (epoch, conn, freq, time) .mean(axis=3)\n",
    "        # (step, 528, 57) => (epoch, conn, freq)\n",
    "        # print(conn.get_data('raveled').mean(axis=3).shape)\n",
    "        conn = conn.get_data('raveled').mean(axis=3)\n",
    "        # (step, 528*4 ) =>(step, 2112 )\n",
    "        x = np.concatenate([ conn[:,:,7-7:8-7 ].mean(axis=2),\n",
    "                            conn[:,:,8-7:12-7 ].mean(axis=2),\n",
    "                            conn[:,:,12-7:30-7 ].mean(axis=2),\n",
    "                            conn[:,:,30-7:64-7 ].mean(axis=2) ],axis=1)\n",
    "        X.append(x)\n",
    "        # count += 1\n",
    "        # if(count == 3): break\n",
    "    X = np.vstack(X)\n",
    "    print(X.shape)\n",
    "    save(X,f\"X_PLV_AROUSAL_{filename}\")\n",
    "\n",
    "\n",
    "    epochs, _ = dataset.get_data_mne_epochs(filename, sfreq=128, stimuli=Dataset_subjectDependent.STIMULI_VALENCE, split=False)\n",
    "    # X = fe.fit_transform(X=data)\n",
    "    # print(epochs, labels.shape)\n",
    "    step = 150//2\n",
    "    X = []\n",
    "    # count = 0\n",
    "    for index in tqdm(range(0,len(epochs), step)):\n",
    "        # print(index,index+step)\n",
    "        conn = spectral_connectivity_time(epochs[index:index+step], method='plv',mode='multitaper',sfreq=128, freqs=range(7,64), verbose='CRITICAL')\n",
    "        # (step, 528, 57, 128) => (epoc\n",
    "        # h, conn, freq, time) .mean(axis=3)\n",
    "        # (step, 528, 57) => (epoch, conn, freq)\n",
    "        # print(conn.get_data('raveled').mean(axis=3).shape)\n",
    "        conn = conn.get_data('raveled').mean(axis=3)\n",
    "        # (step, 528*4 ) =>(step, 2112 )\n",
    "        x = np.concatenate([ conn[:,:,7-7:8-7 ].mean(axis=2),\n",
    "                            conn[:,:,8-7:12-7 ].mean(axis=2),\n",
    "                            conn[:,:,12-7:30-7 ].mean(axis=2),\n",
    "                            conn[:,:,30-7:64-7 ].mean(axis=2) ],axis=1)\n",
    "        X.append(x)\n",
    "        # count += 1\n",
    "        # if(count == 3): break\n",
    "    X = np.vstack(X)\n",
    "    print(X.shape)\n",
    "    save(X,f\"X_PLV_VALENCE_{filename}\")"
   ]
  },
  {
   "cell_type": "code",
   "execution_count": 26,
   "metadata": {},
   "outputs": [
    {
     "data": {
      "application/vnd.jupyter.widget-view+json": {
       "model_id": "660b1a3602ae461ca58808114446bf79",
       "version_major": 2,
       "version_minor": 0
      },
      "text/plain": [
       "  0%|          | 0/32 [00:00<?, ?it/s]"
      ]
     },
     "metadata": {},
     "output_type": "display_data"
    },
    {
     "name": "stdout",
     "output_type": "stream",
     "text": [
      "\tAROUSAL-s01|Acc=0.75542|10-CV=0.54167|STD=0.13722|Time spend=58.2156548500061\n",
      "\tAROUSAL-s02|Acc=0.71083|10-CV=0.54533|STD=0.07539|Time spend=51.67206573486328\n",
      "-----WARNING: Model s03 failed to learn: sum(ans)=0.0 sum(y)=480.0 len(y)=2400\n",
      "\tAROUSAL-s03|Acc=0.8|10-CV=0.73|STD=0.15524|Time spend=37.107110261917114\n",
      "\tAROUSAL-s04|Acc=0.7325|10-CV=0.53583|STD=0.10332|Time spend=53.449044942855835\n",
      "\tAROUSAL-s05|Acc=0.72875|10-CV=0.48717|STD=0.09655|Time spend=60.510722637176514\n",
      "\tAROUSAL-s06|Acc=0.67542|10-CV=0.519|STD=0.12047|Time spend=48.775301933288574\n",
      "\tAROUSAL-s07|Acc=0.75375|10-CV=0.5785|STD=0.08497|Time spend=47.53772449493408\n",
      "\tAROUSAL-s08|Acc=0.75625|10-CV=0.4355|STD=0.12245|Time spend=49.33205270767212\n",
      "\tAROUSAL-s09|Acc=0.75542|10-CV=0.4955|STD=0.07933|Time spend=46.42083978652954\n",
      "\tAROUSAL-s10|Acc=0.80958|10-CV=0.65917|STD=0.07514|Time spend=50.13776922225952\n",
      "\tAROUSAL-s11|Acc=0.6925|10-CV=0.55567|STD=0.05022|Time spend=50.09951138496399\n",
      "-----WARNING: Model s12 failed to learn: sum(ans)=2400.0 sum(y)=1980.0 len(y)=2400\n",
      "\tAROUSAL-s12|Acc=0.825|10-CV=0.83|STD=0.1005|Time spend=39.6446475982666\n",
      "-----WARNING: Model s13 failed to learn: sum(ans)=2400.0 sum(y)=2040.0 len(y)=2400\n",
      "\tAROUSAL-s13|Acc=0.85|10-CV=0.84|STD=0.06633|Time spend=29.706333875656128\n",
      "\tAROUSAL-s14|Acc=0.68208|10-CV=0.63033|STD=0.09178|Time spend=48.25706934928894\n",
      "\tAROUSAL-s15|Acc=0.77625|10-CV=0.5295|STD=0.11104|Time spend=50.5946991443634\n",
      "\tAROUSAL-s16|Acc=0.78375|10-CV=0.55167|STD=0.07924|Time spend=50.24148869514465\n",
      "\tAROUSAL-s17|Acc=0.76042|10-CV=0.64067|STD=0.03609|Time spend=44.52104330062866\n",
      "\tAROUSAL-s18|Acc=0.69417|10-CV=0.5215|STD=0.11247|Time spend=47.77605891227722\n",
      "-----WARNING: Model s19 failed to learn: sum(ans)=2400.0 sum(y)=1620.0 len(y)=2400\n",
      "\tAROUSAL-s19|Acc=0.675|10-CV=0.62717|STD=0.129|Time spend=47.21958351135254\n",
      "-----WARNING: Model s20 failed to learn: sum(ans)=2400.0 sum(y)=1860.0 len(y)=2400\n",
      "\tAROUSAL-s20|Acc=0.775|10-CV=0.82|STD=0.08718|Time spend=39.89521908760071\n",
      "-----WARNING: Model s21 failed to learn: sum(ans)=2400.0 sum(y)=1920.0 len(y)=2400\n",
      "\tAROUSAL-s21|Acc=0.8|10-CV=0.8|STD=0.1|Time spend=38.13968586921692\n",
      "\tAROUSAL-s22|Acc=0.60708|10-CV=0.557|STD=0.06885|Time spend=53.7866370677948\n",
      "\tAROUSAL-s23|Acc=0.76417|10-CV=0.77867|STD=0.09674|Time spend=40.14490580558777\n",
      "-----WARNING: Model s24 failed to learn: sum(ans)=2400.0 sum(y)=1980.0 len(y)=2400\n",
      "\tAROUSAL-s24|Acc=0.825|10-CV=0.82|STD=0.07483|Time spend=34.27354145050049\n",
      "-----WARNING: Model s25 failed to learn: sum(ans)=2400.0 sum(y)=1740.0 len(y)=2400\n",
      "\tAROUSAL-s25|Acc=0.725|10-CV=0.7395|STD=0.12705|Time spend=41.05292582511902\n",
      "\tAROUSAL-s26|Acc=0.7075|10-CV=0.5255|STD=0.10732|Time spend=53.183075189590454\n",
      "\tAROUSAL-s27|Acc=0.81333|10-CV=0.64633|STD=0.10042|Time spend=41.27260112762451\n",
      "\tAROUSAL-s28|Acc=0.68042|10-CV=0.47883|STD=0.07915|Time spend=53.67089319229126\n",
      "\tAROUSAL-s29|Acc=0.68292|10-CV=0.5335|STD=0.08489|Time spend=48.98305535316467\n",
      "\tAROUSAL-s30|Acc=0.7375|10-CV=0.48433|STD=0.08588|Time spend=54.09758400917053\n",
      "\tAROUSAL-s31|Acc=0.74125|10-CV=0.56217|STD=0.11309|Time spend=53.19852590560913\n",
      "\tAROUSAL-s32|Acc=0.78042|10-CV=0.65717|STD=0.09078|Time spend=43.6285834312439\n",
      "AROUSAL|Acc=0.7455208333333333|10-CV=0.6142864583333333|STD=0.09509065930660855\n"
     ]
    }
   ],
   "source": [
    "accs, cv_means, cv_stds = [],[],[]\n",
    "for filename in tqdm(dataset.get_file_list()):\n",
    "    start = time.time()\n",
    "    X = load(f\"X_PLV_AROUSAL_{filename}\")\n",
    "    assert X.shape == (2400,2112)\n",
    "    _, labels, groups = dataset.get_data(filename, stimuli=Dataset_subjectDependent.STIMULI_AROUSAL, return_type='numpy')\n",
    "    _, acc, cross = train_model(X, labels.reshape(-1), groups, filename=filename)\n",
    "    print(f\"\\tAROUSAL-{filename}|Acc={round(acc,5)}|10-CV={round(cross.mean(),5)}|STD={round(cross.std(),5)}|Time spend={time.time() - start}\")\n",
    "    accs.append(acc)\n",
    "    cv_means.append(cross.mean())\n",
    "    cv_stds.append(cross.std())\n",
    "print(f\"AROUSAL|Acc={sum(accs)/len(accs)}|10-CV={sum(cv_means)/len(cv_means)}|STD={sum(cv_stds)/len(cv_stds)}\")"
   ]
  },
  {
   "cell_type": "code",
   "execution_count": 27,
   "metadata": {},
   "outputs": [
    {
     "data": {
      "application/vnd.jupyter.widget-view+json": {
       "model_id": "66a8aed5b17d4d5da9f4b734b2a64eed",
       "version_major": 2,
       "version_minor": 0
      },
      "text/plain": [
       "  0%|          | 0/32 [00:00<?, ?it/s]"
      ]
     },
     "metadata": {},
     "output_type": "display_data"
    },
    {
     "name": "stdout",
     "output_type": "stream",
     "text": [
      "\tVALENCE-s01|Acc=0.71708|10-CV=0.42483|STD=0.06913|Time spend=58.38158130645752\n",
      "\tVALENCE-s02|Acc=0.75208|10-CV=0.654|STD=0.10568|Time spend=45.17832064628601\n",
      "\tVALENCE-s03|Acc=0.7575|10-CV=0.56317|STD=0.16687|Time spend=53.06384229660034\n",
      "\tVALENCE-s04|Acc=0.77292|10-CV=0.59483|STD=0.07703|Time spend=46.40867495536804\n",
      "\tVALENCE-s05|Acc=0.72583|10-CV=0.56583|STD=0.08497|Time spend=51.74175024032593\n",
      "-----WARNING: Model s06 failed to learn: sum(ans)=2400.0 sum(y)=1800.0 len(y)=2400\n",
      "\tVALENCE-s06|Acc=0.75|10-CV=0.71867|STD=0.07457|Time spend=45.86181974411011\n",
      "\tVALENCE-s07|Acc=0.75958|10-CV=0.66133|STD=0.13482|Time spend=42.283950090408325\n",
      "\tVALENCE-s08|Acc=0.75125|10-CV=0.48317|STD=0.08322|Time spend=54.72673439979553\n",
      "\tVALENCE-s09|Acc=0.79333|10-CV=0.6375|STD=0.0813|Time spend=45.475549936294556\n",
      "\tVALENCE-s10|Acc=0.84917|10-CV=0.77767|STD=0.08128|Time spend=36.27791213989258\n",
      "\tVALENCE-s11|Acc=0.70208|10-CV=0.507|STD=0.1285|Time spend=49.72342801094055\n",
      "\tVALENCE-s12|Acc=0.76083|10-CV=0.5475|STD=0.09443|Time spend=49.665486574172974\n",
      "\tVALENCE-s13|Acc=0.78083|10-CV=0.7245|STD=0.08753|Time spend=39.20905661582947\n",
      "\tVALENCE-s14|Acc=0.80583|10-CV=0.6935|STD=0.03355|Time spend=43.73175525665283\n",
      "\tVALENCE-s15|Acc=0.84542|10-CV=0.72717|STD=0.06671|Time spend=39.536943197250366\n",
      "\tVALENCE-s16|Acc=0.77875|10-CV=0.6625|STD=0.09805|Time spend=44.15964984893799\n",
      "\tVALENCE-s17|Acc=0.66958|10-CV=0.45283|STD=0.10305|Time spend=54.17705941200256\n",
      "\tVALENCE-s18|Acc=0.80875|10-CV=0.689|STD=0.07267|Time spend=36.2486047744751\n",
      "\tVALENCE-s19|Acc=0.74542|10-CV=0.48717|STD=0.09911|Time spend=49.3302698135376\n",
      "\tVALENCE-s20|Acc=0.765|10-CV=0.59917|STD=0.13073|Time spend=45.462783098220825\n",
      "\tVALENCE-s21|Acc=0.71208|10-CV=0.4445|STD=0.0806|Time spend=56.232208013534546\n",
      "\tVALENCE-s22|Acc=0.75833|10-CV=0.68167|STD=0.07237|Time spend=42.922422647476196\n",
      "\tVALENCE-s23|Acc=0.7425|10-CV=0.59433|STD=0.1209|Time spend=47.631683111190796\n",
      "\tVALENCE-s24|Acc=0.74292|10-CV=0.56417|STD=0.0697|Time spend=50.936652421951294\n",
      "\tVALENCE-s25|Acc=0.68792|10-CV=0.45633|STD=0.11233|Time spend=54.92114520072937\n",
      "\tVALENCE-s26|Acc=0.65083|10-CV=0.59467|STD=0.1156|Time spend=49.30146265029907\n",
      "\tVALENCE-s27|Acc=0.75042|10-CV=0.65783|STD=0.11723|Time spend=36.94381785392761\n",
      "\tVALENCE-s28|Acc=0.75125|10-CV=0.54167|STD=0.11537|Time spend=46.40566682815552\n",
      "\tVALENCE-s29|Acc=0.73667|10-CV=0.56067|STD=0.07959|Time spend=52.23165249824524\n",
      "-----WARNING: Model s30 failed to learn: sum(ans)=2400.0 sum(y)=1620.0 len(y)=2400\n",
      "\tVALENCE-s30|Acc=0.675|10-CV=0.607|STD=0.14163|Time spend=46.678510665893555\n",
      "\tVALENCE-s31|Acc=0.69167|10-CV=0.48583|STD=0.09796|Time spend=54.79100728034973\n",
      "\tVALENCE-s32|Acc=0.72875|10-CV=0.36333|STD=0.10013|Time spend=53.80192518234253\n",
      "VALENCE|Acc=0.7474869791666668|10-CV=0.5851041666666665|STD=0.09676939750943277\n",
      "TOTAL|Acc=0.7465039062499998|10-CV=0.5996953125|STD=0.09593002840802067\n"
     ]
    }
   ],
   "source": [
    "accs_v, cv_means_v, cv_stds_v = [],[],[]\n",
    "for filename in tqdm(dataset.get_file_list()):\n",
    "    start = time.time()\n",
    "    X = load(f\"X_PLV_VALENCE_{filename}\")\n",
    "    assert X.shape == (2400,2112)\n",
    "    _, labels, groups = dataset.get_data(filename, stimuli=Dataset_subjectDependent.STIMULI_VALENCE, return_type='numpy')\n",
    "    _, acc, cross = train_model(X, labels.reshape(-1), groups, filename=filename)\n",
    "    print(f\"\\tVALENCE-{filename}|Acc={round(acc,5)}|10-CV={round(cross.mean(),5)}|STD={round(cross.std(),5)}|Time spend={time.time() - start}\")\n",
    "    accs_v.append(acc)\n",
    "    cv_means_v.append(cross.mean())\n",
    "    cv_stds_v.append(cross.std())\n",
    "print(f\"VALENCE|Acc={sum(accs_v)/len(accs_v)}|10-CV={sum(cv_means_v)/len(cv_means_v)}|STD={sum(cv_stds_v)/len(cv_stds_v)}\")\n",
    "\n",
    "accs.extend(accs_v)\n",
    "cv_means.extend(cv_means_v)\n",
    "cv_stds.extend(cv_stds_v)\n",
    "\n",
    "print(f\"TOTAL|Acc={sum(accs)/len(accs)}|10-CV={sum(cv_means)/len(cv_means)}|STD={sum(cv_stds)/len(cv_stds)}\")"
   ]
  },
  {
   "cell_type": "markdown",
   "metadata": {},
   "source": [
    "## 5. CSP"
   ]
  },
  {
   "cell_type": "code",
   "execution_count": 28,
   "metadata": {},
   "outputs": [],
   "source": [
    "from components.CSP import CSP\n",
    "from mne_features.feature_extraction import FeatureExtractor\n",
    "\n",
    "bands = [(0,4), (4,8), (8,12), (12,30), (30,64)]\n",
    "# [alias_feature_function]__[optional_param]\n",
    "params = dict({\n",
    "    'pow_freq_bands__log':True,\n",
    "    'pow_freq_bands__normalize':False,\n",
    "    'pow_freq_bands__freq_bands':bands\n",
    "})"
   ]
  },
  {
   "cell_type": "code",
   "execution_count": 29,
   "metadata": {},
   "outputs": [
    {
     "data": {
      "application/vnd.jupyter.widget-view+json": {
       "model_id": "b4c28e8b846848ab8ede1f26aa23ea95",
       "version_major": 2,
       "version_minor": 0
      },
      "text/plain": [
       "  0%|          | 0/32 [00:00<?, ?it/s]"
      ]
     },
     "metadata": {},
     "output_type": "display_data"
    },
    {
     "name": "stderr",
     "output_type": "stream",
     "text": [
      "/root/projects/components/CSP.py:78: ComplexWarning: Casting complex values to real discards the imaginary part\n",
      "  return SFa.astype(np.float32)\n"
     ]
    },
    {
     "name": "stdout",
     "output_type": "stream",
     "text": [
      "-----WARNING: Model s01 failed to learn: sum(ans)=2400.0 sum(y)=1440.0 len(y)=2400\n",
      "\tAROUSAL-s01|Acc=0.6|10-CV=0.53883|STD=0.13232|Time spend=33.491339683532715\n"
     ]
    },
    {
     "name": "stderr",
     "output_type": "stream",
     "text": [
      "/root/projects/components/CSP.py:78: ComplexWarning: Casting complex values to real discards the imaginary part\n",
      "  return SFa.astype(np.float32)\n"
     ]
    },
    {
     "name": "stdout",
     "output_type": "stream",
     "text": [
      "\tAROUSAL-s02|Acc=0.80667|10-CV=0.7825|STD=0.04279|Time spend=3.3040568828582764\n"
     ]
    },
    {
     "name": "stderr",
     "output_type": "stream",
     "text": [
      "/root/projects/components/CSP.py:78: ComplexWarning: Casting complex values to real discards the imaginary part\n",
      "  return SFa.astype(np.float32)\n"
     ]
    },
    {
     "name": "stdout",
     "output_type": "stream",
     "text": [
      "-----WARNING: Model s03 failed to learn: sum(ans)=0.0 sum(y)=480.0 len(y)=2400\n",
      "\tAROUSAL-s03|Acc=0.8|10-CV=0.73|STD=0.15524|Time spend=3.8881757259368896\n"
     ]
    },
    {
     "name": "stderr",
     "output_type": "stream",
     "text": [
      "/root/projects/components/CSP.py:78: ComplexWarning: Casting complex values to real discards the imaginary part\n",
      "  return SFa.astype(np.float32)\n"
     ]
    },
    {
     "name": "stdout",
     "output_type": "stream",
     "text": [
      "\tAROUSAL-s04|Acc=0.99708|10-CV=0.99633|STD=0.00194|Time spend=1.5439510345458984\n"
     ]
    },
    {
     "name": "stderr",
     "output_type": "stream",
     "text": [
      "/root/projects/components/CSP.py:78: ComplexWarning: Casting complex values to real discards the imaginary part\n",
      "  return SFa.astype(np.float32)\n"
     ]
    },
    {
     "name": "stdout",
     "output_type": "stream",
     "text": [
      "\tAROUSAL-s05|Acc=0.55875|10-CV=0.4155|STD=0.10485|Time spend=4.6319739818573\n"
     ]
    },
    {
     "name": "stderr",
     "output_type": "stream",
     "text": [
      "/root/projects/components/CSP.py:78: ComplexWarning: Casting complex values to real discards the imaginary part\n",
      "  return SFa.astype(np.float32)\n"
     ]
    },
    {
     "name": "stdout",
     "output_type": "stream",
     "text": [
      "\tAROUSAL-s06|Acc=0.7775|10-CV=0.7245|STD=0.04728|Time spend=3.343454599380493\n"
     ]
    },
    {
     "name": "stderr",
     "output_type": "stream",
     "text": [
      "/root/projects/components/CSP.py:78: ComplexWarning: Casting complex values to real discards the imaginary part\n",
      "  return SFa.astype(np.float32)\n"
     ]
    },
    {
     "name": "stdout",
     "output_type": "stream",
     "text": [
      "\tAROUSAL-s07|Acc=0.6275|10-CV=0.63733|STD=0.13037|Time spend=4.839266061782837\n"
     ]
    },
    {
     "name": "stderr",
     "output_type": "stream",
     "text": [
      "/root/projects/components/CSP.py:78: ComplexWarning: Casting complex values to real discards the imaginary part\n",
      "  return SFa.astype(np.float32)\n"
     ]
    },
    {
     "name": "stdout",
     "output_type": "stream",
     "text": [
      "\tAROUSAL-s08|Acc=0.84792|10-CV=0.789|STD=0.0454|Time spend=3.0009617805480957\n"
     ]
    },
    {
     "name": "stderr",
     "output_type": "stream",
     "text": [
      "/root/projects/components/CSP.py:78: ComplexWarning: Casting complex values to real discards the imaginary part\n",
      "  return SFa.astype(np.float32)\n"
     ]
    },
    {
     "name": "stdout",
     "output_type": "stream",
     "text": [
      "\tAROUSAL-s09|Acc=0.90958|10-CV=0.87583|STD=0.04143|Time spend=2.3351073265075684\n"
     ]
    },
    {
     "name": "stderr",
     "output_type": "stream",
     "text": [
      "/root/projects/components/CSP.py:78: ComplexWarning: Casting complex values to real discards the imaginary part\n",
      "  return SFa.astype(np.float32)\n"
     ]
    },
    {
     "name": "stdout",
     "output_type": "stream",
     "text": [
      "\tAROUSAL-s10|Acc=0.86792|10-CV=0.8725|STD=0.01606|Time spend=2.7474682331085205\n"
     ]
    },
    {
     "name": "stderr",
     "output_type": "stream",
     "text": [
      "/root/projects/components/CSP.py:78: ComplexWarning: Casting complex values to real discards the imaginary part\n",
      "  return SFa.astype(np.float32)\n"
     ]
    },
    {
     "name": "stdout",
     "output_type": "stream",
     "text": [
      "\tAROUSAL-s11|Acc=0.93542|10-CV=0.925|STD=0.03836|Time spend=2.2750725746154785\n"
     ]
    },
    {
     "name": "stderr",
     "output_type": "stream",
     "text": [
      "/root/projects/components/CSP.py:78: ComplexWarning: Casting complex values to real discards the imaginary part\n",
      "  return SFa.astype(np.float32)\n"
     ]
    },
    {
     "name": "stdout",
     "output_type": "stream",
     "text": [
      "-----WARNING: Model s12 failed to learn: sum(ans)=2400.0 sum(y)=1980.0 len(y)=2400\n",
      "\tAROUSAL-s12|Acc=0.825|10-CV=0.83|STD=0.1005|Time spend=3.586897134780884\n"
     ]
    },
    {
     "name": "stderr",
     "output_type": "stream",
     "text": [
      "/root/projects/components/CSP.py:78: ComplexWarning: Casting complex values to real discards the imaginary part\n",
      "  return SFa.astype(np.float32)\n"
     ]
    },
    {
     "name": "stdout",
     "output_type": "stream",
     "text": [
      "\tAROUSAL-s13|Acc=0.86208|10-CV=0.84333|STD=0.06692|Time spend=2.5236849784851074\n"
     ]
    },
    {
     "name": "stderr",
     "output_type": "stream",
     "text": [
      "/root/projects/components/CSP.py:78: ComplexWarning: Casting complex values to real discards the imaginary part\n",
      "  return SFa.astype(np.float32)\n"
     ]
    },
    {
     "name": "stdout",
     "output_type": "stream",
     "text": [
      "\tAROUSAL-s14|Acc=0.79167|10-CV=0.7665|STD=0.06144|Time spend=3.48911452293396\n"
     ]
    },
    {
     "name": "stderr",
     "output_type": "stream",
     "text": [
      "/root/projects/components/CSP.py:78: ComplexWarning: Casting complex values to real discards the imaginary part\n",
      "  return SFa.astype(np.float32)\n"
     ]
    },
    {
     "name": "stdout",
     "output_type": "stream",
     "text": [
      "\tAROUSAL-s15|Acc=0.59417|10-CV=0.49967|STD=0.10126|Time spend=4.863680362701416\n"
     ]
    },
    {
     "name": "stderr",
     "output_type": "stream",
     "text": [
      "/root/projects/components/CSP.py:78: ComplexWarning: Casting complex values to real discards the imaginary part\n",
      "  return SFa.astype(np.float32)\n"
     ]
    },
    {
     "name": "stdout",
     "output_type": "stream",
     "text": [
      "\tAROUSAL-s16|Acc=0.87417|10-CV=0.86533|STD=0.04246|Time spend=2.761474609375\n"
     ]
    },
    {
     "name": "stderr",
     "output_type": "stream",
     "text": [
      "/root/projects/components/CSP.py:78: ComplexWarning: Casting complex values to real discards the imaginary part\n",
      "  return SFa.astype(np.float32)\n"
     ]
    },
    {
     "name": "stdout",
     "output_type": "stream",
     "text": [
      "\tAROUSAL-s17|Acc=0.72167|10-CV=0.67367|STD=0.05311|Time spend=3.7029078006744385\n"
     ]
    },
    {
     "name": "stderr",
     "output_type": "stream",
     "text": [
      "/root/projects/components/CSP.py:78: ComplexWarning: Casting complex values to real discards the imaginary part\n",
      "  return SFa.astype(np.float32)\n"
     ]
    },
    {
     "name": "stdout",
     "output_type": "stream",
     "text": [
      "\tAROUSAL-s18|Acc=0.99208|10-CV=0.9835|STD=0.01591|Time spend=1.567286491394043\n"
     ]
    },
    {
     "name": "stderr",
     "output_type": "stream",
     "text": [
      "/root/projects/components/CSP.py:78: ComplexWarning: Casting complex values to real discards the imaginary part\n",
      "  return SFa.astype(np.float32)\n"
     ]
    },
    {
     "name": "stdout",
     "output_type": "stream",
     "text": [
      "-----WARNING: Model s19 failed to learn: sum(ans)=2400.0 sum(y)=1620.0 len(y)=2400\n",
      "\tAROUSAL-s19|Acc=0.675|10-CV=0.62817|STD=0.13202|Time spend=4.735112190246582\n"
     ]
    },
    {
     "name": "stderr",
     "output_type": "stream",
     "text": [
      "/root/projects/components/CSP.py:78: ComplexWarning: Casting complex values to real discards the imaginary part\n",
      "  return SFa.astype(np.float32)\n"
     ]
    },
    {
     "name": "stdout",
     "output_type": "stream",
     "text": [
      "\tAROUSAL-s20|Acc=0.845|10-CV=0.85867|STD=0.04933|Time spend=4.8833184242248535\n"
     ]
    },
    {
     "name": "stderr",
     "output_type": "stream",
     "text": [
      "/root/projects/components/CSP.py:78: ComplexWarning: Casting complex values to real discards the imaginary part\n",
      "  return SFa.astype(np.float32)\n"
     ]
    },
    {
     "name": "stdout",
     "output_type": "stream",
     "text": [
      "\tAROUSAL-s21|Acc=0.9125|10-CV=0.88233|STD=0.05804|Time spend=2.2369046211242676\n"
     ]
    },
    {
     "name": "stderr",
     "output_type": "stream",
     "text": [
      "/root/projects/components/CSP.py:78: ComplexWarning: Casting complex values to real discards the imaginary part\n",
      "  return SFa.astype(np.float32)\n"
     ]
    },
    {
     "name": "stdout",
     "output_type": "stream",
     "text": [
      "\tAROUSAL-s22|Acc=0.82667|10-CV=0.817|STD=0.03492|Time spend=3.194808006286621\n"
     ]
    },
    {
     "name": "stderr",
     "output_type": "stream",
     "text": [
      "/root/projects/components/CSP.py:78: ComplexWarning: Casting complex values to real discards the imaginary part\n",
      "  return SFa.astype(np.float32)\n"
     ]
    },
    {
     "name": "stdout",
     "output_type": "stream",
     "text": [
      "-----WARNING: Model s23 failed to learn: sum(ans)=0.0 sum(y)=600.0 len(y)=2400\n",
      "\tAROUSAL-s23|Acc=0.75|10-CV=0.78|STD=0.09798|Time spend=3.9746925830841064\n"
     ]
    },
    {
     "name": "stderr",
     "output_type": "stream",
     "text": [
      "/root/projects/components/CSP.py:78: ComplexWarning: Casting complex values to real discards the imaginary part\n",
      "  return SFa.astype(np.float32)\n"
     ]
    },
    {
     "name": "stdout",
     "output_type": "stream",
     "text": [
      "\tAROUSAL-s24|Acc=0.99375|10-CV=0.99083|STD=0.00461|Time spend=1.6474273204803467\n"
     ]
    },
    {
     "name": "stderr",
     "output_type": "stream",
     "text": [
      "/root/projects/components/CSP.py:78: ComplexWarning: Casting complex values to real discards the imaginary part\n",
      "  return SFa.astype(np.float32)\n"
     ]
    },
    {
     "name": "stdout",
     "output_type": "stream",
     "text": [
      "\tAROUSAL-s25|Acc=0.94042|10-CV=0.92183|STD=0.02663|Time spend=2.16511869430542\n"
     ]
    },
    {
     "name": "stderr",
     "output_type": "stream",
     "text": [
      "/root/projects/components/CSP.py:78: ComplexWarning: Casting complex values to real discards the imaginary part\n",
      "  return SFa.astype(np.float32)\n"
     ]
    },
    {
     "name": "stdout",
     "output_type": "stream",
     "text": [
      "\tAROUSAL-s26|Acc=0.58167|10-CV=0.53367|STD=0.11689|Time spend=4.615108489990234\n"
     ]
    },
    {
     "name": "stderr",
     "output_type": "stream",
     "text": [
      "/root/projects/components/CSP.py:78: ComplexWarning: Casting complex values to real discards the imaginary part\n",
      "  return SFa.astype(np.float32)\n"
     ]
    },
    {
     "name": "stdout",
     "output_type": "stream",
     "text": [
      "\tAROUSAL-s27|Acc=0.7625|10-CV=0.6935|STD=0.09429|Time spend=3.413452386856079\n"
     ]
    },
    {
     "name": "stderr",
     "output_type": "stream",
     "text": [
      "/root/projects/components/CSP.py:78: ComplexWarning: Casting complex values to real discards the imaginary part\n",
      "  return SFa.astype(np.float32)\n"
     ]
    },
    {
     "name": "stdout",
     "output_type": "stream",
     "text": [
      "\tAROUSAL-s28|Acc=0.58917|10-CV=0.49483|STD=0.11085|Time spend=4.528119325637817\n"
     ]
    },
    {
     "name": "stderr",
     "output_type": "stream",
     "text": [
      "/root/projects/components/CSP.py:78: ComplexWarning: Casting complex values to real discards the imaginary part\n",
      "  return SFa.astype(np.float32)\n"
     ]
    },
    {
     "name": "stdout",
     "output_type": "stream",
     "text": [
      "\tAROUSAL-s29|Acc=0.63792|10-CV=0.526|STD=0.08379|Time spend=4.481009244918823\n"
     ]
    },
    {
     "name": "stderr",
     "output_type": "stream",
     "text": [
      "/root/projects/components/CSP.py:78: ComplexWarning: Casting complex values to real discards the imaginary part\n",
      "  return SFa.astype(np.float32)\n"
     ]
    },
    {
     "name": "stdout",
     "output_type": "stream",
     "text": [
      "\tAROUSAL-s30|Acc=0.83833|10-CV=0.821|STD=0.0538|Time spend=2.9493160247802734\n"
     ]
    },
    {
     "name": "stderr",
     "output_type": "stream",
     "text": [
      "/root/projects/components/CSP.py:78: ComplexWarning: Casting complex values to real discards the imaginary part\n",
      "  return SFa.astype(np.float32)\n"
     ]
    },
    {
     "name": "stdout",
     "output_type": "stream",
     "text": [
      "\tAROUSAL-s31|Acc=0.94958|10-CV=0.94283|STD=0.01138|Time spend=2.023477792739868\n"
     ]
    },
    {
     "name": "stderr",
     "output_type": "stream",
     "text": [
      "/root/projects/components/CSP.py:78: ComplexWarning: Casting complex values to real discards the imaginary part\n",
      "  return SFa.astype(np.float32)\n"
     ]
    },
    {
     "name": "stdout",
     "output_type": "stream",
     "text": [
      "\tAROUSAL-s32|Acc=0.90542|10-CV=0.8865|STD=0.05254|Time spend=2.436899185180664\n",
      "AROUSAL|Acc=0.7999088541666667|10-CV=0.7664531250000001|STD=0.06639725666649411\n"
     ]
    }
   ],
   "source": [
    "accs, cv_means, cv_stds = [],[],[]\n",
    "for filename in tqdm(dataset.get_file_list()):\n",
    "\n",
    "    data, labels, groups = dataset.get_data(filename, stimuli=Dataset_subjectDependent.STIMULI_AROUSAL, return_type='numpy')\n",
    "    labels = labels.squeeze()\n",
    "    start = time.time()\n",
    "    filters = CSP(data[labels==0], data[labels==1])\n",
    "    \n",
    "    csp_data = []\n",
    "    for index in range(len(data)):\n",
    "        \n",
    "        # (672, 32) @ (32, 32) = (672, 32)\n",
    "        csp = data[index].T @ filters[labels[index].astype(int)]\n",
    "        # (1, 32, 672)\n",
    "        csp = np.expand_dims(csp.T, axis=0)\n",
    "        csp_data.append(csp)\n",
    "\n",
    "    csp_data = np.vstack(csp_data)\n",
    "    # print(csp_data.shape) => (2400, 32, 128)\n",
    "    fe = FeatureExtractor(sfreq=128, selected_funcs=['pow_freq_bands'],params=params,n_jobs=8)\n",
    "    X = fe.fit_transform(X=csp_data)\n",
    "    # print(X.shape, time.time() - start) => (2400, 160) 1.2374355792999268\n",
    "\n",
    "    assert X.shape == (2400,160)\n",
    "    _, acc, cross = train_model(X, labels.reshape(-1), groups, filename=filename)\n",
    "    print(f\"\\tAROUSAL-{filename}|Acc={round(acc,5)}|10-CV={round(cross.mean(),5)}|STD={round(cross.std(),5)}|Time spend={time.time() - start}\")\n",
    "    accs.append(acc)\n",
    "    cv_means.append(cross.mean())\n",
    "    cv_stds.append(cross.std())\n",
    "print(f\"AROUSAL|Acc={sum(accs)/len(accs)}|10-CV={sum(cv_means)/len(cv_means)}|STD={sum(cv_stds)/len(cv_stds)}\")"
   ]
  },
  {
   "cell_type": "code",
   "execution_count": 30,
   "metadata": {},
   "outputs": [
    {
     "data": {
      "application/vnd.jupyter.widget-view+json": {
       "model_id": "180cdc46b6534728831a1d1341f7cfd7",
       "version_major": 2,
       "version_minor": 0
      },
      "text/plain": [
       "  0%|          | 0/32 [00:00<?, ?it/s]"
      ]
     },
     "metadata": {},
     "output_type": "display_data"
    },
    {
     "name": "stderr",
     "output_type": "stream",
     "text": [
      "/root/projects/components/CSP.py:78: ComplexWarning: Casting complex values to real discards the imaginary part\n",
      "  return SFa.astype(np.float32)\n"
     ]
    },
    {
     "name": "stdout",
     "output_type": "stream",
     "text": [
      "\tVALENCE-s01|Acc=0.55375|10-CV=0.42917|STD=0.06762|Time spend=4.513397693634033\n"
     ]
    },
    {
     "name": "stderr",
     "output_type": "stream",
     "text": [
      "/root/projects/components/CSP.py:78: ComplexWarning: Casting complex values to real discards the imaginary part\n",
      "  return SFa.astype(np.float32)\n"
     ]
    },
    {
     "name": "stdout",
     "output_type": "stream",
     "text": [
      "\tVALENCE-s02|Acc=0.99667|10-CV=0.99567|STD=0.00318|Time spend=1.6004712581634521\n"
     ]
    },
    {
     "name": "stderr",
     "output_type": "stream",
     "text": [
      "/root/projects/components/CSP.py:78: ComplexWarning: Casting complex values to real discards the imaginary part\n",
      "  return SFa.astype(np.float32)\n"
     ]
    },
    {
     "name": "stdout",
     "output_type": "stream",
     "text": [
      "\tVALENCE-s03|Acc=0.66417|10-CV=0.558|STD=0.15734|Time spend=4.2572736740112305\n"
     ]
    },
    {
     "name": "stderr",
     "output_type": "stream",
     "text": [
      "/root/projects/components/CSP.py:78: ComplexWarning: Casting complex values to real discards the imaginary part\n",
      "  return SFa.astype(np.float32)\n"
     ]
    },
    {
     "name": "stdout",
     "output_type": "stream",
     "text": [
      "\tVALENCE-s04|Acc=0.98333|10-CV=0.98967|STD=0.00632|Time spend=1.6263957023620605\n"
     ]
    },
    {
     "name": "stderr",
     "output_type": "stream",
     "text": [
      "/root/projects/components/CSP.py:78: ComplexWarning: Casting complex values to real discards the imaginary part\n",
      "  return SFa.astype(np.float32)\n"
     ]
    },
    {
     "name": "stdout",
     "output_type": "stream",
     "text": [
      "\tVALENCE-s05|Acc=0.76792|10-CV=0.75183|STD=0.0326|Time spend=3.6385037899017334\n"
     ]
    },
    {
     "name": "stderr",
     "output_type": "stream",
     "text": [
      "/root/projects/components/CSP.py:78: ComplexWarning: Casting complex values to real discards the imaginary part\n",
      "  return SFa.astype(np.float32)\n"
     ]
    },
    {
     "name": "stdout",
     "output_type": "stream",
     "text": [
      "\tVALENCE-s06|Acc=0.80042|10-CV=0.74617|STD=0.06443|Time spend=2.9923441410064697\n"
     ]
    },
    {
     "name": "stderr",
     "output_type": "stream",
     "text": [
      "/root/projects/components/CSP.py:78: ComplexWarning: Casting complex values to real discards the imaginary part\n",
      "  return SFa.astype(np.float32)\n"
     ]
    },
    {
     "name": "stdout",
     "output_type": "stream",
     "text": [
      "\tVALENCE-s07|Acc=1.0|10-CV=1.0|STD=0.0|Time spend=1.499220371246338\n"
     ]
    },
    {
     "name": "stderr",
     "output_type": "stream",
     "text": [
      "/root/projects/components/CSP.py:78: ComplexWarning: Casting complex values to real discards the imaginary part\n",
      "  return SFa.astype(np.float32)\n"
     ]
    },
    {
     "name": "stdout",
     "output_type": "stream",
     "text": [
      "\tVALENCE-s08|Acc=0.8375|10-CV=0.80667|STD=0.04251|Time spend=3.080916166305542\n"
     ]
    },
    {
     "name": "stderr",
     "output_type": "stream",
     "text": [
      "/root/projects/components/CSP.py:78: ComplexWarning: Casting complex values to real discards the imaginary part\n",
      "  return SFa.astype(np.float32)\n"
     ]
    },
    {
     "name": "stdout",
     "output_type": "stream",
     "text": [
      "\tVALENCE-s09|Acc=0.72125|10-CV=0.662|STD=0.0591|Time spend=3.8132951259613037\n"
     ]
    },
    {
     "name": "stderr",
     "output_type": "stream",
     "text": [
      "/root/projects/components/CSP.py:78: ComplexWarning: Casting complex values to real discards the imaginary part\n",
      "  return SFa.astype(np.float32)\n"
     ]
    },
    {
     "name": "stdout",
     "output_type": "stream",
     "text": [
      "\tVALENCE-s10|Acc=0.93667|10-CV=0.93433|STD=0.0333|Time spend=1.9813954830169678\n"
     ]
    },
    {
     "name": "stderr",
     "output_type": "stream",
     "text": [
      "/root/projects/components/CSP.py:78: ComplexWarning: Casting complex values to real discards the imaginary part\n",
      "  return SFa.astype(np.float32)\n"
     ]
    },
    {
     "name": "stdout",
     "output_type": "stream",
     "text": [
      "\tVALENCE-s11|Acc=0.6025|10-CV=0.5195|STD=0.13004|Time spend=4.642468690872192\n"
     ]
    },
    {
     "name": "stderr",
     "output_type": "stream",
     "text": [
      "/root/projects/components/CSP.py:78: ComplexWarning: Casting complex values to real discards the imaginary part\n",
      "  return SFa.astype(np.float32)\n"
     ]
    },
    {
     "name": "stdout",
     "output_type": "stream",
     "text": [
      "\tVALENCE-s12|Acc=0.62|10-CV=0.457|STD=0.15468|Time spend=4.3586530685424805\n"
     ]
    },
    {
     "name": "stderr",
     "output_type": "stream",
     "text": [
      "/root/projects/components/CSP.py:78: ComplexWarning: Casting complex values to real discards the imaginary part\n",
      "  return SFa.astype(np.float32)\n"
     ]
    },
    {
     "name": "stdout",
     "output_type": "stream",
     "text": [
      "\tVALENCE-s13|Acc=0.7175|10-CV=0.708|STD=0.10896|Time spend=3.787112236022949\n"
     ]
    },
    {
     "name": "stderr",
     "output_type": "stream",
     "text": [
      "/root/projects/components/CSP.py:78: ComplexWarning: Casting complex values to real discards the imaginary part\n",
      "  return SFa.astype(np.float32)\n"
     ]
    },
    {
     "name": "stdout",
     "output_type": "stream",
     "text": [
      "\tVALENCE-s14|Acc=0.74375|10-CV=0.68933|STD=0.05087|Time spend=3.435683012008667\n"
     ]
    },
    {
     "name": "stderr",
     "output_type": "stream",
     "text": [
      "/root/projects/components/CSP.py:78: ComplexWarning: Casting complex values to real discards the imaginary part\n",
      "  return SFa.astype(np.float32)\n"
     ]
    },
    {
     "name": "stdout",
     "output_type": "stream",
     "text": [
      "\tVALENCE-s15|Acc=0.62667|10-CV=0.55267|STD=0.07474|Time spend=4.276718854904175\n"
     ]
    },
    {
     "name": "stderr",
     "output_type": "stream",
     "text": [
      "/root/projects/components/CSP.py:78: ComplexWarning: Casting complex values to real discards the imaginary part\n",
      "  return SFa.astype(np.float32)\n"
     ]
    },
    {
     "name": "stdout",
     "output_type": "stream",
     "text": [
      "\tVALENCE-s16|Acc=0.67583|10-CV=0.64617|STD=0.08428|Time spend=4.04193639755249\n"
     ]
    },
    {
     "name": "stderr",
     "output_type": "stream",
     "text": [
      "/root/projects/components/CSP.py:78: ComplexWarning: Casting complex values to real discards the imaginary part\n",
      "  return SFa.astype(np.float32)\n"
     ]
    },
    {
     "name": "stdout",
     "output_type": "stream",
     "text": [
      "\tVALENCE-s17|Acc=0.78917|10-CV=0.74383|STD=0.06152|Time spend=3.320286989212036\n"
     ]
    },
    {
     "name": "stderr",
     "output_type": "stream",
     "text": [
      "/root/projects/components/CSP.py:78: ComplexWarning: Casting complex values to real discards the imaginary part\n",
      "  return SFa.astype(np.float32)\n"
     ]
    },
    {
     "name": "stdout",
     "output_type": "stream",
     "text": [
      "\tVALENCE-s18|Acc=0.60208|10-CV=0.50867|STD=0.11144|Time spend=4.463863372802734\n"
     ]
    },
    {
     "name": "stderr",
     "output_type": "stream",
     "text": [
      "/root/projects/components/CSP.py:78: ComplexWarning: Casting complex values to real discards the imaginary part\n",
      "  return SFa.astype(np.float32)\n"
     ]
    },
    {
     "name": "stdout",
     "output_type": "stream",
     "text": [
      "\tVALENCE-s19|Acc=0.59875|10-CV=0.4595|STD=0.14431|Time spend=4.550335884094238\n"
     ]
    },
    {
     "name": "stderr",
     "output_type": "stream",
     "text": [
      "/root/projects/components/CSP.py:78: ComplexWarning: Casting complex values to real discards the imaginary part\n",
      "  return SFa.astype(np.float32)\n"
     ]
    },
    {
     "name": "stdout",
     "output_type": "stream",
     "text": [
      "\tVALENCE-s20|Acc=0.76083|10-CV=0.7075|STD=0.0788|Time spend=3.2323954105377197\n"
     ]
    },
    {
     "name": "stderr",
     "output_type": "stream",
     "text": [
      "/root/projects/components/CSP.py:78: ComplexWarning: Casting complex values to real discards the imaginary part\n",
      "  return SFa.astype(np.float32)\n"
     ]
    },
    {
     "name": "stdout",
     "output_type": "stream",
     "text": [
      "\tVALENCE-s21|Acc=0.89042|10-CV=0.86683|STD=0.02263|Time spend=2.50677490234375\n"
     ]
    },
    {
     "name": "stderr",
     "output_type": "stream",
     "text": [
      "/root/projects/components/CSP.py:78: ComplexWarning: Casting complex values to real discards the imaginary part\n",
      "  return SFa.astype(np.float32)\n"
     ]
    },
    {
     "name": "stdout",
     "output_type": "stream",
     "text": [
      "\tVALENCE-s22|Acc=0.65042|10-CV=0.59683|STD=0.10159|Time spend=4.323333740234375\n"
     ]
    },
    {
     "name": "stderr",
     "output_type": "stream",
     "text": [
      "/root/projects/components/CSP.py:78: ComplexWarning: Casting complex values to real discards the imaginary part\n",
      "  return SFa.astype(np.float32)\n"
     ]
    },
    {
     "name": "stdout",
     "output_type": "stream",
     "text": [
      "\tVALENCE-s23|Acc=0.655|10-CV=0.5985|STD=0.13285|Time spend=4.216681241989136\n"
     ]
    },
    {
     "name": "stderr",
     "output_type": "stream",
     "text": [
      "/root/projects/components/CSP.py:78: ComplexWarning: Casting complex values to real discards the imaginary part\n",
      "  return SFa.astype(np.float32)\n"
     ]
    },
    {
     "name": "stdout",
     "output_type": "stream",
     "text": [
      "-----WARNING: Model s24 failed to learn: sum(ans)=0.0 sum(y)=1080.0 len(y)=2400\n",
      "\tVALENCE-s24|Acc=0.55|10-CV=0.42967|STD=0.16888|Time spend=5.253264665603638\n"
     ]
    },
    {
     "name": "stderr",
     "output_type": "stream",
     "text": [
      "/root/projects/components/CSP.py:78: ComplexWarning: Casting complex values to real discards the imaginary part\n",
      "  return SFa.astype(np.float32)\n"
     ]
    },
    {
     "name": "stdout",
     "output_type": "stream",
     "text": [
      "\tVALENCE-s25|Acc=0.58792|10-CV=0.41983|STD=0.09879|Time spend=4.750972032546997\n"
     ]
    },
    {
     "name": "stderr",
     "output_type": "stream",
     "text": [
      "/root/projects/components/CSP.py:78: ComplexWarning: Casting complex values to real discards the imaginary part\n",
      "  return SFa.astype(np.float32)\n"
     ]
    },
    {
     "name": "stdout",
     "output_type": "stream",
     "text": [
      "-----WARNING: Model s26 failed to learn: sum(ans)=2400.0 sum(y)=1560.0 len(y)=2400\n",
      "\tVALENCE-s26|Acc=0.65|10-CV=0.618|STD=0.1375|Time spend=4.729224681854248\n"
     ]
    },
    {
     "name": "stderr",
     "output_type": "stream",
     "text": [
      "/root/projects/components/CSP.py:78: ComplexWarning: Casting complex values to real discards the imaginary part\n",
      "  return SFa.astype(np.float32)\n"
     ]
    },
    {
     "name": "stdout",
     "output_type": "stream",
     "text": [
      "\tVALENCE-s27|Acc=0.79667|10-CV=0.698|STD=0.12688|Time spend=3.0177931785583496\n"
     ]
    },
    {
     "name": "stderr",
     "output_type": "stream",
     "text": [
      "/root/projects/components/CSP.py:78: ComplexWarning: Casting complex values to real discards the imaginary part\n",
      "  return SFa.astype(np.float32)\n"
     ]
    },
    {
     "name": "stdout",
     "output_type": "stream",
     "text": [
      "\tVALENCE-s28|Acc=0.9275|10-CV=0.90567|STD=0.01775|Time spend=2.130599021911621\n"
     ]
    },
    {
     "name": "stderr",
     "output_type": "stream",
     "text": [
      "/root/projects/components/CSP.py:78: ComplexWarning: Casting complex values to real discards the imaginary part\n",
      "  return SFa.astype(np.float32)\n"
     ]
    },
    {
     "name": "stdout",
     "output_type": "stream",
     "text": [
      "\tVALENCE-s29|Acc=0.82208|10-CV=0.78867|STD=0.03745|Time spend=3.503805160522461\n"
     ]
    },
    {
     "name": "stderr",
     "output_type": "stream",
     "text": [
      "/root/projects/components/CSP.py:78: ComplexWarning: Casting complex values to real discards the imaginary part\n",
      "  return SFa.astype(np.float32)\n"
     ]
    },
    {
     "name": "stdout",
     "output_type": "stream",
     "text": [
      "\tVALENCE-s30|Acc=0.85|10-CV=0.8265|STD=0.04829|Time spend=2.9235219955444336\n"
     ]
    },
    {
     "name": "stderr",
     "output_type": "stream",
     "text": [
      "/root/projects/components/CSP.py:78: ComplexWarning: Casting complex values to real discards the imaginary part\n",
      "  return SFa.astype(np.float32)\n"
     ]
    },
    {
     "name": "stdout",
     "output_type": "stream",
     "text": [
      "\tVALENCE-s31|Acc=0.58833|10-CV=0.48933|STD=0.10852|Time spend=4.774028301239014\n"
     ]
    },
    {
     "name": "stderr",
     "output_type": "stream",
     "text": [
      "/root/projects/components/CSP.py:78: ComplexWarning: Casting complex values to real discards the imaginary part\n",
      "  return SFa.astype(np.float32)\n"
     ]
    },
    {
     "name": "stdout",
     "output_type": "stream",
     "text": [
      "\tVALENCE-s32|Acc=0.57417|10-CV=0.45967|STD=0.13675|Time spend=4.643377065658569\n",
      "VALENCE|Acc=0.7356640625|10-CV=0.6738489583333334|STD=0.08137207163881335\n"
     ]
    }
   ],
   "source": [
    "accs_v, cv_means_v, cv_stds_v = [],[],[]\n",
    "for filename in tqdm(dataset.get_file_list()):\n",
    "\n",
    "    data, labels, groups = dataset.get_data(filename, stimuli=Dataset_subjectDependent.STIMULI_VALENCE, return_type='numpy')\n",
    "    labels = labels.squeeze()\n",
    "    start = time.time()\n",
    "    filters = CSP(data[labels==0], data[labels==1])\n",
    "    \n",
    "    csp_data = []\n",
    "    for index in range(len(data)):\n",
    "        \n",
    "        # (672, 32) @ (32, 32) = (672, 32)\n",
    "        csp = data[index].T @ filters[labels[index].astype(int)]\n",
    "        # (1, 32, 672)\n",
    "        csp = np.expand_dims(csp.T, axis=0)\n",
    "        csp_data.append(csp)\n",
    "\n",
    "    csp_data = np.vstack(csp_data)\n",
    "    # print(csp_data.shape) => (2400, 32, 128)\n",
    "    fe = FeatureExtractor(sfreq=128, selected_funcs=['pow_freq_bands'],params=params,n_jobs=8)\n",
    "    X = fe.fit_transform(X=csp_data)\n",
    "    # print(X.shape, time.time() - start) => (2400, 160) 1.2374355792999268\n",
    "\n",
    "    assert X.shape == (2400,160)\n",
    "    _, acc, cross = train_model(X, labels.reshape(-1), groups, filename=filename)\n",
    "    print(f\"\\tVALENCE-{filename}|Acc={round(acc,5)}|10-CV={round(cross.mean(),5)}|STD={round(cross.std(),5)}|Time spend={time.time() - start}\")\n",
    "    accs_v.append(acc)\n",
    "    cv_means_v.append(cross.mean())\n",
    "    cv_stds_v.append(cross.std())\n",
    "print(f\"VALENCE|Acc={sum(accs_v)/len(accs_v)}|10-CV={sum(cv_means_v)/len(cv_means_v)}|STD={sum(cv_stds_v)/len(cv_stds_v)}\")"
   ]
  },
  {
   "cell_type": "code",
   "execution_count": 31,
   "metadata": {},
   "outputs": [
    {
     "name": "stdout",
     "output_type": "stream",
     "text": [
      "TOTAL|Acc=0.7677864583333331|10-CV=0.7201510416666669|STD=0.07388466415265374\n"
     ]
    }
   ],
   "source": [
    "accs.extend(accs_v)\n",
    "cv_means.extend(cv_means_v)\n",
    "cv_stds.extend(cv_stds_v)\n",
    "\n",
    "print(f\"TOTAL|Acc={sum(accs)/len(accs)}|10-CV={sum(cv_means)/len(cv_means)}|STD={sum(cv_stds)/len(cv_stds)}\")"
   ]
  }
 ],
 "metadata": {
  "interpreter": {
   "hash": "27768773b483d82a9b2b839e3fa80b1be5789db7fd78df4eedef2df266871616"
  },
  "kernelspec": {
   "display_name": "Python 3 (ipykernel)",
   "language": "python",
   "name": "python3"
  },
  "language_info": {
   "codemirror_mode": {
    "name": "ipython",
    "version": 3
   },
   "file_extension": ".py",
   "mimetype": "text/x-python",
   "name": "python",
   "nbconvert_exporter": "python",
   "pygments_lexer": "ipython3",
   "version": "3.9.4"
  }
 },
 "nbformat": 4,
 "nbformat_minor": 4
}
