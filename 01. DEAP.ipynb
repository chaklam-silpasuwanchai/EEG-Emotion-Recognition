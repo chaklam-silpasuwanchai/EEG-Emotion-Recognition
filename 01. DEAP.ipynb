{
 "cells": [
  {
   "cell_type": "markdown",
   "metadata": {},
   "source": [
    "# Part 1. DEAP Dataset\n",
    "\n",
    "In this series of tutorial, we will be working on basic EEG analysis using python mne + pyTorch.  The case study will be on the DEAP dataset, a benchmark EEG emotion recognition dataset.   In this part 1, we will focus on looking at the dataset.\n",
    "\n",
    "This set of tutorial assumes:\n",
    "\n",
    "1.  You have already basic understanding of Python\n",
    "2.  You have some experience with scikit-learn, and also some knowledge about machine learning\n",
    "3.  You have a bit of experience with pyTorch and also some knowledge about deep learning\n",
    "\n",
    "In this dataset, there is a total of 32 participants, where each participant watches 40 1-minute videos.  Thus <code>s01.dat</code> is holding 40 batches.   The total sample is thus 40*32=1280 batches.\n",
    "\n",
    "Looking in each dat file (e.g., s01), it contains the data and label\n",
    "- Data ----- 40 x 40 x 8064 [\tvideo/batches x channel x samples ]\n",
    "- Label  ---- 40 x 4 \n",
    "\n",
    "Out of 40 channels, 32 channels were of EEG, and the rest of 8 of them from other sensors such as EOG (see the section 6.1 of the original paper).  We shall only extract the first 32 channels.   For the 8064, since the data is downsampled to 128Hz, thus one second contains around 128 samples, thus in one minute which is 60 seconds, it will be roughly 7680 samples.  The paper did not really talk a lot but it is likely there is  another 1.5 seconds before and after which total to 8064 samples (128 Hz * 63 seconds).\n",
    "\n",
    "The four labels correspond to valence, arousal, liking, and dominance, in this order.  We will only use valence and arousal, thus index 0 and 1 of the labels will be extracted."
   ]
  },
  {
   "cell_type": "code",
   "execution_count": 1,
   "metadata": {},
   "outputs": [],
   "source": [
    "import torch\n",
    "\n",
    "import os\n",
    "import pickle\n",
    "import numpy as np"
   ]
  },
  {
   "cell_type": "markdown",
   "metadata": {},
   "source": [
    "Set cuda accordingly."
   ]
  },
  {
   "cell_type": "code",
   "execution_count": 2,
   "metadata": {},
   "outputs": [
    {
     "name": "stdout",
     "output_type": "stream",
     "text": [
      "Configured device:  cuda\n"
     ]
    }
   ],
   "source": [
    "device = torch.device('cuda' if torch.cuda.is_available() else 'cpu')\n",
    "print(\"Configured device: \", device)"
   ]
  },
  {
   "cell_type": "markdown",
   "metadata": {},
   "source": [
    "## 1. Loading dataset\n",
    "\n",
    "Let's first create a simple dataset loader.   The code is explained using comments and is quite self-explanatory."
   ]
  },
  {
   "cell_type": "code",
   "execution_count": 3,
   "metadata": {},
   "outputs": [],
   "source": [
    "class Dataset(torch.utils.data.Dataset):\n",
    "    \n",
    "    def __init__(self, path, stim):\n",
    "        _, _, filenames = next(os.walk(path))\n",
    "        filenames = sorted(filenames)\n",
    "        all_data = []\n",
    "        all_label = []\n",
    "        for dat in filenames:\n",
    "            temp = pickle.load(open(os.path.join(path,dat), 'rb'), encoding='latin1')\n",
    "            all_data.append(temp['data'])\n",
    "            \n",
    "            if stim == \"Valence\":\n",
    "                all_label.append(temp['labels'][:,:1])   #the first index is valence\n",
    "            elif stim == \"Arousal\":\n",
    "                all_label.append(temp['labels'][:,1:2]) # Arousal  #the second index is arousal\n",
    "                \n",
    "        self.data = np.vstack(all_data)   #shape: (1280, 40, 8064) ==> 1280 samples / 40 samples = 32 participants\n",
    "        self.label = np.vstack(all_label) #(1280, )  ==> 1280 samples, each with a unique label (depend on the param \"stim\")\n",
    "        \n",
    "        del temp, all_data, all_label\n",
    "\n",
    "    def __len__(self):\n",
    "        return self.data.shape[0]\n",
    "\n",
    "    def __getitem__(self, idx):\n",
    "        single_data  = self.data[idx]\n",
    "        single_label = (self.label[idx] > 5).astype(float)   #convert the scale to either 0 or 1 (to classification problem)\n",
    "        \n",
    "        batch = {\n",
    "            'data': torch.Tensor(single_data),\n",
    "            'label': torch.Tensor(single_label)\n",
    "        }\n",
    "        \n",
    "        return batch"
   ]
  },
  {
   "cell_type": "markdown",
   "metadata": {},
   "source": [
    "Let's try load the dataset."
   ]
  },
  {
   "cell_type": "code",
   "execution_count": 4,
   "metadata": {},
   "outputs": [],
   "source": [
    "path = \"data\"  #create a folder \"data\", and inside put s01.dat,....,s32.dat inside from the preprocessed folder from the DEAP dataset"
   ]
  },
  {
   "cell_type": "code",
   "execution_count": 5,
   "metadata": {},
   "outputs": [],
   "source": [
    "dataset_valence = Dataset(path, \"Valence\")\n",
    "dataset_arousal = Dataset(path, \"Arousal\")"
   ]
  },
  {
   "cell_type": "markdown",
   "metadata": {},
   "source": [
    "We can try look at one sample using the index.  This is automatically mapped to the <code>__getitem__</code> function in the <code>Dataset</code> class."
   ]
  },
  {
   "cell_type": "code",
   "execution_count": 6,
   "metadata": {},
   "outputs": [
    {
     "data": {
      "text/plain": [
       "{'data': tensor([[ 9.4823e-01,  1.6533e+00,  3.0137e+00,  ..., -2.8265e+00,\n",
       "          -4.4772e+00, -3.6769e+00],\n",
       "         [ 1.2471e-01,  1.3901e+00,  1.8351e+00,  ..., -2.9870e+00,\n",
       "          -6.2878e+00, -4.4743e+00],\n",
       "         [-2.2165e+00,  2.2920e+00,  2.7464e+00,  ..., -2.6371e+00,\n",
       "          -7.4065e+00, -6.7559e+00],\n",
       "         ...,\n",
       "         [ 2.3078e+02,  6.9672e+02,  1.1951e+03,  ...,  1.0108e+03,\n",
       "           1.2831e+03,  1.5200e+03],\n",
       "         [-1.5418e+03, -1.6180e+03, -1.6927e+03,  ..., -1.5784e+04,\n",
       "          -1.5782e+04, -1.5781e+04],\n",
       "         [ 6.3905e-03,  6.3905e-03,  6.3905e-03,  ..., -9.7608e-02,\n",
       "          -9.7608e-02, -9.7608e-02]]),\n",
       " 'label': tensor([1.])}"
      ]
     },
     "execution_count": 6,
     "metadata": {},
     "output_type": "execute_result"
    }
   ],
   "source": [
    "dataset_valence[0]"
   ]
  },
  {
   "cell_type": "code",
   "execution_count": 7,
   "metadata": {},
   "outputs": [
    {
     "name": "stdout",
     "output_type": "stream",
     "text": [
      "Shape of data:  torch.Size([40, 8064])\n",
      "Shape of label:  torch.Size([1])\n"
     ]
    }
   ],
   "source": [
    "print(\"Shape of data: \", dataset_valence[0]['data'].shape)  #40 channels of data, 8064 samples in 1 minute\n",
    "print(\"Shape of label: \", dataset_valence[0]['label'].shape) #just 1 single label; 0 or 1"
   ]
  },
  {
   "cell_type": "markdown",
   "metadata": {},
   "source": [
    "Let's try to look at our data and label distribution."
   ]
  },
  {
   "cell_type": "code",
   "execution_count": 8,
   "metadata": {},
   "outputs": [],
   "source": [
    "data = dataset_valence[:]['data']\n",
    "label = dataset_valence[:]['label']"
   ]
  },
  {
   "cell_type": "code",
   "execution_count": 9,
   "metadata": {},
   "outputs": [
    {
     "data": {
      "text/plain": [
       "torch.Size([1280, 40, 8064])"
      ]
     },
     "execution_count": 9,
     "metadata": {},
     "output_type": "execute_result"
    }
   ],
   "source": [
    "#so we got 1280 trial (40 videos * 32 participants = 1280, each with 40 channels of data, each video contains 8064 EEG samples)\n",
    "data.shape  "
   ]
  },
  {
   "cell_type": "code",
   "execution_count": 10,
   "metadata": {},
   "outputs": [
    {
     "data": {
      "text/plain": [
       "torch.Size([1280, 1])"
      ]
     },
     "execution_count": 10,
     "metadata": {},
     "output_type": "execute_result"
    }
   ],
   "source": [
    "#so we got 1280 labels, i.e., one label per video\n",
    "label.shape  "
   ]
  },
  {
   "cell_type": "markdown",
   "metadata": {},
   "source": [
    "Let's count how many 0 and 1 in the valence dataset, to see if there is some imbalance."
   ]
  },
  {
   "cell_type": "code",
   "execution_count": 11,
   "metadata": {},
   "outputs": [
    {
     "name": "stdout",
     "output_type": "stream",
     "text": [
      "Labels 1 in valence dataset:  708\n",
      "Labels 0 in valence dataset:  572\n"
     ]
    }
   ],
   "source": [
    "cond_1 = label == 1\n",
    "cond_0 = label == 0\n",
    "\n",
    "print(\"Labels 1 in valence dataset: \", len(label[cond_1]))\n",
    "print(\"Labels 0 in valence dataset: \", len(label[cond_0]))"
   ]
  },
  {
   "cell_type": "markdown",
   "metadata": {},
   "source": [
    "Let's also count in the valence dataset, to see if there is some imbalance."
   ]
  },
  {
   "cell_type": "code",
   "execution_count": 12,
   "metadata": {},
   "outputs": [
    {
     "name": "stdout",
     "output_type": "stream",
     "text": [
      "Labels 1 in arousal dataset:  708\n",
      "Labels 0 in arousal dataset:  572\n"
     ]
    }
   ],
   "source": [
    "cond_1 = label == 1\n",
    "cond_0 = label == 0\n",
    "\n",
    "print(\"Labels 1 in arousal dataset: \", len(label[cond_1]))\n",
    "print(\"Labels 0 in arousal dataset: \", len(label[cond_0]))"
   ]
  },
  {
   "cell_type": "markdown",
   "metadata": {},
   "source": [
    "To confirm that the first 32 channels are EEG and the rest of the 8 channels are other channels, let's check the median value of each channel to see whether there is a pattern."
   ]
  },
  {
   "cell_type": "code",
   "execution_count": 13,
   "metadata": {},
   "outputs": [
    {
     "name": "stdout",
     "output_type": "stream",
     "text": [
      "Median of 0 data: 0.05827333778142929\n",
      "Median of 1 data: 0.024529436603188515\n",
      "Median of 2 data: -0.019204378128051758\n",
      "Median of 3 data: 0.033645644783973694\n",
      "Median of 4 data: -0.033030420541763306\n",
      "Median of 5 data: -0.016304221004247665\n",
      "Median of 6 data: -0.008036154322326183\n",
      "Median of 7 data: 0.09355251491069794\n",
      "Median of 8 data: -0.00792337954044342\n",
      "Median of 9 data: 0.021872472018003464\n",
      "Median of 10 data: 0.004741182550787926\n",
      "Median of 11 data: -0.02171526849269867\n",
      "Median of 12 data: -0.011923680081963539\n",
      "Median of 13 data: -0.04902170971035957\n",
      "Median of 14 data: -0.04108745604753494\n",
      "Median of 15 data: 0.033856555819511414\n",
      "Median of 16 data: 0.05146871879696846\n",
      "Median of 17 data: 0.03564863279461861\n",
      "Median of 18 data: -0.017957160249352455\n",
      "Median of 19 data: 0.007688858546316624\n",
      "Median of 20 data: 0.043062545359134674\n",
      "Median of 21 data: 0.019127536565065384\n",
      "Median of 22 data: -0.0017579937120899558\n",
      "Median of 23 data: -0.006185607053339481\n",
      "Median of 24 data: 0.015526460483670235\n",
      "Median of 25 data: 0.10526316612958908\n",
      "Median of 26 data: 0.003382256720215082\n",
      "Median of 27 data: -0.01977178454399109\n",
      "Median of 28 data: -0.012524685822427273\n",
      "Median of 29 data: 0.0033319643698632717\n",
      "Median of 30 data: -0.012974156066775322\n",
      "Median of 31 data: -0.02609466202557087\n",
      "Median of 32 data: 3.0773868560791016\n",
      "Median of 33 data: -14.912814140319824\n",
      "Median of 34 data: -3.8114349842071533\n",
      "Median of 35 data: 5.339752674102783\n",
      "Median of 36 data: 407.8304748535156\n",
      "Median of 37 data: -172.8857421875\n",
      "Median of 38 data: 70.57766723632812\n",
      "Median of 39 data: -0.01525240857154131\n"
     ]
    }
   ],
   "source": [
    "for i in range(40):\n",
    "    print(f\"Median of {i} data: {torch.median(data[:, i, :])}\")"
   ]
  },
  {
   "cell_type": "markdown",
   "metadata": {},
   "source": [
    "As we can see, the data index 0 to 31 is clearly EEG, while data from 32 onward is not."
   ]
  },
  {
   "cell_type": "markdown",
   "metadata": {},
   "source": [
    "### Summary\n",
    "\n",
    "The way we process our dataset has three important observations we have to fix:\n",
    "1. First, make sure we only take **32 channels of EEG**.  Of course, feel free to play around with other channels of data as well but this tutorial focuses on EEG.\n",
    "2. **Data segmentation** is the process of creating more segments of data.  For example, in a one minute video, we could possibly divide into 12 segments of 5 seconds, thus greatly increase the number of samples, thus greatly increase the chance of better prediction. The steps are:\n",
    "         a. Reshape so that (1280, 32 8064) becomes (1280, 32, 672, 12)\n",
    "         b. Then permute (1280, 32, 672, 12) to (1280, 12, 32, 672)\n",
    "         c. Then reshape to (1280*12, 32, 672)\n",
    "\n",
    "Note that since the data is already preprocessed by the authors, we don't have to do anything more, but it's very natural for us to do preprocessing, e.g., min-max normalization, notch filters, band pass filters, etc."
   ]
  },
  {
   "cell_type": "markdown",
   "metadata": {},
   "source": [
    "## 2. Loading dataset (version 2)"
   ]
  },
  {
   "cell_type": "code",
   "execution_count": 14,
   "metadata": {},
   "outputs": [],
   "source": [
    "class Dataset(torch.utils.data.Dataset):\n",
    "    \n",
    "    def __init__(self, path, stim):\n",
    "        _, _, filenames = next(os.walk(path))\n",
    "        filenames = sorted(filenames)\n",
    "        all_data = []\n",
    "        all_label = []\n",
    "        for dat in filenames:\n",
    "            temp = pickle.load(open(os.path.join(path,dat), 'rb'), encoding='latin1')\n",
    "            all_data.append(temp['data'])\n",
    "            \n",
    "            if stim == \"Valence\":\n",
    "                all_label.append(temp['labels'][:,:1])   #the first index is valence\n",
    "            elif stim == \"Arousal\":\n",
    "                all_label.append(temp['labels'][:,1:2]) # Arousal  #the second index is arousal\n",
    "                \n",
    "        self.data = np.vstack(all_data)[:, :32, ]   #shape: (1280, 32, 8064) --> take only the first 32 channels\n",
    "        \n",
    "        shape = self.data.shape\n",
    "        \n",
    "        #perform segmentation=====\n",
    "        segments = 12\n",
    "        \n",
    "        self.data = self.data.reshape(shape[0], shape[1], int(shape[2]/segments), segments)\n",
    "        #data shape: (1280, 32, 672, 12)\n",
    "\n",
    "        self.data = self.data.transpose(0, 3, 1, 2)\n",
    "        #data shape: (1280, 12, 32, 672)\n",
    "\n",
    "        self.data = self.data.reshape(shape[0] * segments, shape[1], -1)\n",
    "        #data shape: (1280*12, 32, 672)\n",
    "        #==========================\n",
    "        \n",
    "        self.label = np.vstack(all_label) #(1280, 1)  ==> 1280 samples, \n",
    "        self.label = np.repeat(self.label, 12)[:, np.newaxis]  #the dimension 1 is lost after repeat, so need to unsqueeze (1280*12, 1)\n",
    "        \n",
    "        del temp, all_data, all_label\n",
    "\n",
    "    def __len__(self):\n",
    "        return self.data.shape[0]\n",
    "\n",
    "    def __getitem__(self, idx):\n",
    "        single_data  = self.data[idx]\n",
    "        single_label = (self.label[idx] > 5).astype(float)   #convert the scale to either 0 or 1 (to classification problem)\n",
    "        \n",
    "        batch = {\n",
    "            'data': torch.Tensor(single_data),\n",
    "            'label': torch.Tensor(single_label)\n",
    "        }\n",
    "        \n",
    "        return batch"
   ]
  },
  {
   "cell_type": "markdown",
   "metadata": {},
   "source": [
    "Now let's try to load the dataset and see the shape."
   ]
  },
  {
   "cell_type": "code",
   "execution_count": 15,
   "metadata": {},
   "outputs": [],
   "source": [
    "path = \"data\"  #create a folder \"data\", and inside put s01.dat,....,s32.dat inside from the preprocessed folder from the DEAP dataset"
   ]
  },
  {
   "cell_type": "code",
   "execution_count": 16,
   "metadata": {
    "tags": []
   },
   "outputs": [
    {
     "name": "stdout",
     "output_type": "stream",
     "text": [
      "Data shape:  torch.Size([15360, 32, 672])\n",
      "Label shape:  torch.Size([15360, 1])\n"
     ]
    }
   ],
   "source": [
    "dataset = Dataset(path, \"Valence\")\n",
    "\n",
    "data  = dataset[:]['data']\n",
    "label = dataset[:]['label']\n",
    "\n",
    "print(\"Data shape: \" , data.shape)  #15360 = 32 * 40 trials * 12 segments, 32 EEG channels, 672 samples\n",
    "print(\"Label shape: \", label.shape)  #two classes of valence"
   ]
  },
  {
   "cell_type": "markdown",
   "metadata": {},
   "source": [
    "Let's look the label distribution of the dataset."
   ]
  },
  {
   "cell_type": "code",
   "execution_count": 17,
   "metadata": {},
   "outputs": [
    {
     "name": "stdout",
     "output_type": "stream",
     "text": [
      "count of low valence:  6864\n",
      "count of high valence:  8496\n"
     ]
    }
   ],
   "source": [
    "lv = label == 0\n",
    "hv = label == 1\n",
    "\n",
    "assert len(label[lv]) + len(label[hv]) == label.shape[0]  #simple unit test\n",
    "print(\"count of low valence: \", len(label[lv]))\n",
    "print(\"count of high valence: \", len(label[hv]))"
   ]
  },
  {
   "cell_type": "markdown",
   "metadata": {},
   "source": [
    "Let's see the median of EEG of each group (you can do std on your own exercise)"
   ]
  },
  {
   "cell_type": "code",
   "execution_count": 18,
   "metadata": {},
   "outputs": [
    {
     "name": "stdout",
     "output_type": "stream",
     "text": [
      "Median of low valence 0.009302851\n",
      "Median of high valence 0.0034587365\n"
     ]
    }
   ],
   "source": [
    "lv_unsqueeze = lv.squeeze()\n",
    "hv_unsqueeze = hv.squeeze()\n",
    "\n",
    "print(\"Median of low valence\",  np.median(data[lv_unsqueeze, :, :]))\n",
    "print(\"Median of high valence\", np.median(data[hv_unsqueeze, :, :]))"
   ]
  },
  {
   "cell_type": "markdown",
   "metadata": {},
   "source": [
    "Hmm....certainly, we can see some differences in voltage, which could be due to some peaks.  Anyhow, in the next tutorial, we shall look at power spectrum which could help us look at the power at different frequencies."
   ]
  }
 ],
 "metadata": {
  "kernelspec": {
   "display_name": "Python 3",
   "language": "python",
   "name": "python3"
  },
  "language_info": {
   "codemirror_mode": {
    "name": "ipython",
    "version": 3
   },
   "file_extension": ".py",
   "mimetype": "text/x-python",
   "name": "python",
   "nbconvert_exporter": "python",
   "pygments_lexer": "ipython3",
   "version": "3.8.10"
  }
 },
 "nbformat": 4,
 "nbformat_minor": 5
}
