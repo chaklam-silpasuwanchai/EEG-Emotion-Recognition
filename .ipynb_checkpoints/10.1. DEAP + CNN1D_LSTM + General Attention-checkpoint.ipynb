{
 "cells": [
  {
   "cell_type": "markdown",
   "metadata": {},
   "source": [
    "# DEAP Dataset + CNN1D_LSTM + General Attention\n",
    "\n",
    "In this part, we shall try add attention mechanisms after LSTM, which has seen a lot of success in the area of NLP.  It's the idea of trying to finding the best possible weighted sum of all hidden states instead of using only the last hidden state for inputting to the linear layer.\n",
    "\n",
    "*Note that we will be only predicting the valence.  Feel free to work on the arousal yourself.*\n",
    "\n",
    "In this part, most of the code will be the same except 2 Defining Model."
   ]
  },
  {
   "cell_type": "code",
   "execution_count": 1,
   "metadata": {},
   "outputs": [],
   "source": [
    "import torch\n",
    "import torch.nn as nn\n",
    "import torch.nn.functional as F\n",
    "\n",
    "# setting seed so that splitting process and training process can be reproduce\n",
    "torch.manual_seed(1)\n",
    "\n",
    "import numpy as np\n",
    "\n",
    "#refactoring components\n",
    "#maybe you want to take a look at these components, because we will be using them in the future series\n",
    "from components.dataset import Dataset\n",
    "from components.helper import getLoaders, count_parameters, plot_performance\n",
    "from components.train import train, evaluate, initialize_weights"
   ]
  },
  {
   "cell_type": "markdown",
   "metadata": {},
   "source": [
    "Set cuda accordingly."
   ]
  },
  {
   "cell_type": "code",
   "execution_count": 2,
   "metadata": {},
   "outputs": [
    {
     "name": "stdout",
     "output_type": "stream",
     "text": [
      "Configured device:  cuda\n"
     ]
    }
   ],
   "source": [
    "device = torch.device('cuda' if torch.cuda.is_available() else 'cpu')\n",
    "print(\"Configured device: \", device)"
   ]
  },
  {
   "cell_type": "markdown",
   "metadata": {},
   "source": [
    "## 1. Loading dataset\n",
    "\n",
    "Let's first reuse the dataset loader we have created in Part 1."
   ]
  },
  {
   "cell_type": "code",
   "execution_count": 3,
   "metadata": {},
   "outputs": [],
   "source": [
    "path = \"data\"  #create a folder \"data\", and inside put s01.dat,....,s32.dat inside from the preprocessed folder from the DEAP dataset"
   ]
  },
  {
   "cell_type": "code",
   "execution_count": 4,
   "metadata": {
    "tags": []
   },
   "outputs": [
    {
     "name": "stdout",
     "output_type": "stream",
     "text": [
      "Train Data shape:  torch.Size([10752, 32, 672])\n",
      "Train Label shape:  torch.Size([10752, 1])\n"
     ]
    }
   ],
   "source": [
    "train_set = Dataset(path, \"Valence\", \"train\") \n",
    "val_set = Dataset(path, \"Valence\", \"val\")\n",
    "test_set = Dataset(path, \"Valence\", \"test\")\n",
    "\n",
    "data_train  = train_set[:]['data']\n",
    "label_train = train_set[:]['label']\n",
    "\n",
    "print(\"Train Data shape: \" , data_train.shape)  #10752 = 32 * 28 trials * 12 segments, 32 EEG channels, 672 samples\n",
    "print(\"Train Label shape: \", label_train.shape)  #two classes of valence"
   ]
  },
  {
   "cell_type": "markdown",
   "metadata": {
    "tags": []
   },
   "source": [
    "## 2. Defining the Model\n",
    "\n",
    "General Attention is a very simple idea in which we wanna find the best weighted sum of all hidden states, instead of using the last hidden state to input into the linear layer.  In order to find that weight, we \n",
    "1. perform a multiplication between the all hidden states (i.e., <code>out</code>) and the last hidden state (i.e., <code>hn</code>).  This multiplication will tell us whether the last hidden state should attend to which hidden state more.  \n",
    "2. perform a softmax on this attention matrix so we can get value between 0 and 1\n",
    "3. lastly, we simply multiply this attention matrix with our all hidden states (i.e.,  <code>out</code>)\n",
    "\n",
    "Note that attention has many variants, mostly differ in how they find the attention weights in step 1.  We shall explore other variants of attention in the next tutorial."
   ]
  },
  {
   "cell_type": "code",
   "execution_count": 5,
   "metadata": {},
   "outputs": [],
   "source": [
    "class Conv1D_LSTM_Attention(nn.Module):\n",
    "    '''\n",
    "    Expected Input Shape: (batch, channels, seq_len)  <==what conv1d wants\n",
    "    '''\n",
    "    def __init__(self, input_dim, hidden_dim, num_layers, output_dim, bidirectional, dropout):\n",
    "        super(Conv1D_LSTM_Attention, self).__init__()\n",
    "        self.conv1d = nn.Conv1d(input_dim, input_dim, kernel_size=128, stride=1, padding=1)\n",
    "        self.norm = nn.BatchNorm1d(input_dim)\n",
    "        self.lstm = nn.LSTM(input_dim, \n",
    "                           hidden_dim, \n",
    "                           num_layers=num_layers, \n",
    "                           bidirectional=bidirectional, \n",
    "                           dropout=dropout,\n",
    "                           batch_first=True)\n",
    "        self.fc = nn.Linear(hidden_dim * num_layers, output_dim)\n",
    "    \n",
    "    def attention_net(self, lstm_output, final_state):\n",
    "        hidden = final_state.unsqueeze(2)  # hidden : [batch_size, n_hidden * num_directions(=2), 1(=n_layer)]\n",
    "        attn_weights = torch.bmm(lstm_output, hidden).squeeze(2) # attn_weights : [batch_size, seq_len, 1]\n",
    "        soft_attn_weights = F.softmax(attn_weights, 1)\n",
    "        # context = [batch_size, n_hidden * num_directions(=2), seq_len] * [batch_size, seq_len, 1] = [batch_size, n_hidden * num_directions(=2), 1]\n",
    "        context = torch.bmm(lstm_output.transpose(1, 2), soft_attn_weights.unsqueeze(2)).squeeze(2)\n",
    "        return context, soft_attn_weights.cpu().data.numpy() # context : [batch_size, n_hidden * num_directions(=2)]\n",
    "    \n",
    "    def forward(self, x):\n",
    "        # conv1d expects (batch, channels, seq_len)\n",
    "        # should not try too many conv1d or there is nothing to attend to, thus I have only left with one layer of conv1d\n",
    "        x = F.max_pool1d(F.relu(self.norm(self.conv1d(x))), kernel_size=3)\n",
    "\n",
    "        # change to (batch, seq_len, channels) because lstm expects\n",
    "        x = x.permute(0,2,1)\n",
    "        \n",
    "        #x = [batch size, seq len, channels]\n",
    "        out, (hn, cn) = self.lstm(x)\n",
    "        \n",
    "        #out = [batch size, seq len, hidden dim * num directions]        \n",
    "        #hn = [num layers * num directions, batch size, hidden dim]\n",
    "        #cn = [num layers * num directions, batch size, hidden dim]\n",
    "        \n",
    "        #concat the final forward (hidden[-2,:,:]) and backward (hidden[-1,:,:]) hidden layers\n",
    "        hn = torch.cat((hn[-2,:,:], hn[-1,:,:]), dim = 1)\n",
    "        #hn = [batch size, hidden dim * num directions]\n",
    "        \n",
    "        attn_output, attention = self.attention_net(out, hn)\n",
    "\n",
    "        return self.fc(attn_output)"
   ]
  },
  {
   "cell_type": "markdown",
   "metadata": {},
   "source": [
    "**Model init**: Let's init the class instance and create a workabout model."
   ]
  },
  {
   "cell_type": "code",
   "execution_count": 6,
   "metadata": {},
   "outputs": [
    {
     "data": {
      "text/plain": [
       "Conv1D_LSTM_Attention(\n",
       "  (conv1d): Conv1d(32, 32, kernel_size=(128,), stride=(1,), padding=(1,))\n",
       "  (norm): BatchNorm1d(32, eps=1e-05, momentum=0.1, affine=True, track_running_stats=True)\n",
       "  (lstm): LSTM(32, 256, num_layers=2, batch_first=True, dropout=0.5, bidirectional=True)\n",
       "  (fc): Linear(in_features=512, out_features=1, bias=True)\n",
       ")"
      ]
     },
     "execution_count": 6,
     "metadata": {},
     "output_type": "execute_result"
    }
   ],
   "source": [
    "#note that these params are simply obtained from trial and error; I got no theory to back up why I use certain numbers here...\n",
    "input_dim     = 32 #we got 32 EEG channels\n",
    "hidden_dim    = 256 #let's define hidden dim as 256\n",
    "num_layers    = 2  #we gonna have two LSTM layers\n",
    "output_dim    = 1  #we got 2 classes for our labels\n",
    "bidirectional = True  #uses bidirectional LSTM\n",
    "dropout       = 0.5  #setting dropout to 0.5\n",
    "\n",
    "#define the model\n",
    "model = Conv1D_LSTM_Attention(input_dim, hidden_dim, num_layers, output_dim, bidirectional, dropout)\n",
    "\n",
    "#send to cuda so we can use the GPU\n",
    "model = model.to(device)  \n",
    "\n",
    "#apply weights\n",
    "model.apply(initialize_weights)"
   ]
  },
  {
   "cell_type": "markdown",
   "metadata": {},
   "source": [
    "**Param count**: Let's also check the number of parameters used"
   ]
  },
  {
   "cell_type": "code",
   "execution_count": 7,
   "metadata": {},
   "outputs": [
    {
     "name": "stdout",
     "output_type": "stream",
     "text": [
      "The model Conv1D_LSTM_Attention has 2,302,561 trainable parameters\n"
     ]
    }
   ],
   "source": [
    "print(f'The model {type(model).__name__} has {count_parameters(model):,} trainable parameters')# Train the model"
   ]
  },
  {
   "cell_type": "markdown",
   "metadata": {},
   "source": [
    "**Unit test**: Let's define a simple unit test, inputing some mock EEG data and see whether we got the desired output as 4 classes."
   ]
  },
  {
   "cell_type": "code",
   "execution_count": 8,
   "metadata": {},
   "outputs": [
    {
     "name": "stdout",
     "output_type": "stream",
     "text": [
      "Prediction shape:  torch.Size([2, 1])\n",
      "Predictions:  tensor([[-0.0192],\n",
      "        [-0.0187]], device='cuda:0', grad_fn=<AddmmBackward0>)\n"
     ]
    }
   ],
   "source": [
    "mock_batch_size = 2    #in real training, we use 32\n",
    "mock_input_dim  = 32   #in real data, ours is 32 channels\n",
    "mock_seq_len    = 8064 #in real data, ours is 8064\n",
    "\n",
    "#note that our model first layer is conv1d which expects (batch, channel, seq len)\n",
    "mock_eegdata = torch.rand(mock_batch_size, mock_input_dim, mock_seq_len).to(device)\n",
    "\n",
    "#let's try run the model by simply inserting the mockdata into the model; very similar to .fit\n",
    "predictions = model(mock_eegdata)\n",
    "\n",
    "#let's try to see the predictions whether it really outputs 2 unique classes - 0 and 1\n",
    "print(\"Prediction shape: \", predictions.shape)\n",
    "print(\"Predictions: \", predictions)\n",
    "\n",
    "#simple unit test\n",
    "assert predictions.shape[0] == mock_batch_size\n",
    "assert predictions.shape[1] == output_dim"
   ]
  },
  {
   "cell_type": "markdown",
   "metadata": {},
   "source": [
    "## 3. Training"
   ]
  },
  {
   "cell_type": "markdown",
   "metadata": {
    "tags": []
   },
   "source": [
    "### I. Batch Iterators\n",
    "\n",
    "To make it easier to manage, I have put this into our <code>components/helper.py</code>."
   ]
  },
  {
   "cell_type": "code",
   "execution_count": 9,
   "metadata": {},
   "outputs": [
    {
     "name": "stdout",
     "output_type": "stream",
     "text": [
      "Dataset size:  10752\n",
      "Loader size:  672\n",
      "Dataset size:  3072\n",
      "Loader size:  192\n",
      "Dataset size:  1536\n",
      "Loader size:  96\n"
     ]
    }
   ],
   "source": [
    "train_loader = getLoaders(dataset=train_set, batch_size=16)\n",
    "val_loader = getLoaders(dataset=val_set, batch_size=16)\n",
    "test_loader = getLoaders(dataset=test_set, batch_size=16)"
   ]
  },
  {
   "cell_type": "markdown",
   "metadata": {},
   "source": [
    "### II. Optimizers\n",
    "\n",
    "Optimizer simply refers to the one that gonna take care of the backpropagation process.  The commonly used optimizer is SGD and Adam, both are quite interchangeable.  Here we gonna use Adam.  In order to backpropagate, we gonna define a loss function using cross entropy loss, which is a common loss function for multi-class purposes."
   ]
  },
  {
   "cell_type": "code",
   "execution_count": 10,
   "metadata": {},
   "outputs": [],
   "source": [
    "import torch.optim as optim\n",
    "\n",
    "num_epochs = 50\n",
    "\n",
    "lr = 0.0001\n",
    "\n",
    "#can also try SGD which should not make too much of a difference\n",
    "optimizer = optim.Adam(model.parameters(), lr=lr) \n",
    "\n",
    "#combine sigmoid with binary entropy; binary entropy is used for binary classification\n",
    "criterion = nn.BCEWithLogitsLoss() "
   ]
  },
  {
   "cell_type": "markdown",
   "metadata": {
    "tags": []
   },
   "source": [
    "### III. Let's train!"
   ]
  },
  {
   "cell_type": "code",
   "execution_count": null,
   "metadata": {},
   "outputs": [
    {
     "name": "stdout",
     "output_type": "stream",
     "text": [
      "Epoch: 01 | Epoch Time: 0m 26s\n",
      "\t Train Loss: 0.679 | Train Acc: 57.06%\n",
      "\t Val. Loss: 0.698  |  Val. Acc: 55.79%\n",
      "Epoch: 02 | Epoch Time: 0m 27s\n",
      "\t Train Loss: 0.589 | Train Acc: 66.61%\n",
      "\t Val. Loss: 0.831  |  Val. Acc: 53.55%\n",
      "Epoch: 03 | Epoch Time: 0m 27s\n",
      "\t Train Loss: 0.434 | Train Acc: 78.73%\n",
      "\t Val. Loss: 1.025  |  Val. Acc: 51.14%\n",
      "Epoch: 04 | Epoch Time: 0m 26s\n",
      "\t Train Loss: 0.276 | Train Acc: 87.37%\n",
      "\t Val. Loss: 1.463  |  Val. Acc: 52.34%\n",
      "Epoch: 05 | Epoch Time: 0m 27s\n",
      "\t Train Loss: 0.175 | Train Acc: 92.75%\n",
      "\t Val. Loss: 1.619  |  Val. Acc: 52.54%\n",
      "Epoch: 06 | Epoch Time: 0m 27s\n",
      "\t Train Loss: 0.114 | Train Acc: 95.45%\n",
      "\t Val. Loss: 1.915  |  Val. Acc: 53.12%\n",
      "Epoch: 07 | Epoch Time: 0m 27s\n",
      "\t Train Loss: 0.081 | Train Acc: 96.99%\n",
      "\t Val. Loss: 2.231  |  Val. Acc: 53.71%\n",
      "Epoch: 08 | Epoch Time: 0m 27s\n",
      "\t Train Loss: 0.059 | Train Acc: 97.73%\n",
      "\t Val. Loss: 2.091  |  Val. Acc: 52.67%\n",
      "Epoch: 09 | Epoch Time: 0m 27s\n",
      "\t Train Loss: 0.037 | Train Acc: 98.83%\n",
      "\t Val. Loss: 2.612  |  Val. Acc: 52.96%\n",
      "Epoch: 10 | Epoch Time: 0m 27s\n",
      "\t Train Loss: 0.031 | Train Acc: 98.94%\n",
      "\t Val. Loss: 2.379  |  Val. Acc: 51.66%\n",
      "Epoch: 11 | Epoch Time: 0m 27s\n",
      "\t Train Loss: 0.019 | Train Acc: 99.45%\n",
      "\t Val. Loss: 2.760  |  Val. Acc: 51.82%\n",
      "Epoch: 12 | Epoch Time: 0m 27s\n",
      "\t Train Loss: 0.017 | Train Acc: 99.49%\n",
      "\t Val. Loss: 2.682  |  Val. Acc: 51.17%\n",
      "Epoch: 13 | Epoch Time: 0m 27s\n",
      "\t Train Loss: 0.010 | Train Acc: 99.65%\n",
      "\t Val. Loss: 2.921  |  Val. Acc: 51.20%\n",
      "Epoch: 14 | Epoch Time: 0m 26s\n",
      "\t Train Loss: 0.015 | Train Acc: 99.50%\n",
      "\t Val. Loss: 2.852  |  Val. Acc: 51.60%\n",
      "Epoch: 15 | Epoch Time: 0m 27s\n",
      "\t Train Loss: 0.009 | Train Acc: 99.69%\n",
      "\t Val. Loss: 2.558  |  Val. Acc: 48.93%\n",
      "Epoch: 16 | Epoch Time: 0m 27s\n",
      "\t Train Loss: 0.013 | Train Acc: 99.59%\n",
      "\t Val. Loss: 2.772  |  Val. Acc: 50.68%\n",
      "Epoch: 17 | Epoch Time: 0m 27s\n",
      "\t Train Loss: 0.008 | Train Acc: 99.78%\n",
      "\t Val. Loss: 3.164  |  Val. Acc: 52.21%\n",
      "Epoch: 18 | Epoch Time: 0m 27s\n",
      "\t Train Loss: 0.009 | Train Acc: 99.72%\n",
      "\t Val. Loss: 3.287  |  Val. Acc: 52.60%\n",
      "Epoch: 19 | Epoch Time: 0m 27s\n",
      "\t Train Loss: 0.010 | Train Acc: 99.73%\n",
      "\t Val. Loss: 2.618  |  Val. Acc: 52.31%\n",
      "Epoch: 20 | Epoch Time: 0m 27s\n",
      "\t Train Loss: 0.012 | Train Acc: 99.62%\n",
      "\t Val. Loss: 2.438  |  Val. Acc: 52.08%\n",
      "Epoch: 21 | Epoch Time: 0m 27s\n",
      "\t Train Loss: 0.010 | Train Acc: 99.67%\n",
      "\t Val. Loss: 2.963  |  Val. Acc: 51.20%\n",
      "Epoch: 22 | Epoch Time: 0m 27s\n",
      "\t Train Loss: 0.007 | Train Acc: 99.80%\n",
      "\t Val. Loss: 3.120  |  Val. Acc: 51.46%\n",
      "Epoch: 23 | Epoch Time: 0m 27s\n",
      "\t Train Loss: 0.008 | Train Acc: 99.77%\n",
      "\t Val. Loss: 3.431  |  Val. Acc: 51.30%\n",
      "Epoch: 24 | Epoch Time: 0m 27s\n",
      "\t Train Loss: 0.008 | Train Acc: 99.74%\n",
      "\t Val. Loss: 3.707  |  Val. Acc: 51.69%\n",
      "Epoch: 25 | Epoch Time: 0m 27s\n",
      "\t Train Loss: 0.006 | Train Acc: 99.80%\n",
      "\t Val. Loss: 3.388  |  Val. Acc: 51.53%\n",
      "Epoch: 26 | Epoch Time: 0m 27s\n",
      "\t Train Loss: 0.006 | Train Acc: 99.84%\n",
      "\t Val. Loss: 2.994  |  Val. Acc: 52.41%\n",
      "Epoch: 27 | Epoch Time: 0m 27s\n",
      "\t Train Loss: 0.004 | Train Acc: 99.92%\n",
      "\t Val. Loss: 2.917  |  Val. Acc: 51.79%\n",
      "Epoch: 28 | Epoch Time: 0m 27s\n",
      "\t Train Loss: 0.009 | Train Acc: 99.71%\n",
      "\t Val. Loss: 3.252  |  Val. Acc: 51.63%\n",
      "Epoch: 29 | Epoch Time: 0m 27s\n",
      "\t Train Loss: 0.008 | Train Acc: 99.75%\n",
      "\t Val. Loss: 2.926  |  Val. Acc: 51.01%\n",
      "Epoch: 30 | Epoch Time: 0m 27s\n",
      "\t Train Loss: 0.003 | Train Acc: 99.94%\n",
      "\t Val. Loss: 3.674  |  Val. Acc: 52.41%\n",
      "Epoch: 31 | Epoch Time: 0m 27s\n",
      "\t Train Loss: 0.005 | Train Acc: 99.82%\n",
      "\t Val. Loss: 3.413  |  Val. Acc: 49.71%\n",
      "Epoch: 32 | Epoch Time: 0m 27s\n",
      "\t Train Loss: 0.003 | Train Acc: 99.92%\n",
      "\t Val. Loss: 3.610  |  Val. Acc: 52.34%\n",
      "Epoch: 33 | Epoch Time: 0m 27s\n",
      "\t Train Loss: 0.007 | Train Acc: 99.80%\n",
      "\t Val. Loss: 3.086  |  Val. Acc: 52.47%\n",
      "Epoch: 34 | Epoch Time: 0m 27s\n",
      "\t Train Loss: 0.011 | Train Acc: 99.66%\n",
      "\t Val. Loss: 2.651  |  Val. Acc: 52.60%\n",
      "Epoch: 35 | Epoch Time: 0m 27s\n",
      "\t Train Loss: 0.004 | Train Acc: 99.88%\n",
      "\t Val. Loss: 3.074  |  Val. Acc: 52.41%\n",
      "Epoch: 36 | Epoch Time: 0m 27s\n",
      "\t Train Loss: 0.005 | Train Acc: 99.86%\n",
      "\t Val. Loss: 3.104  |  Val. Acc: 52.08%\n",
      "Epoch: 37 | Epoch Time: 0m 27s\n",
      "\t Train Loss: 0.003 | Train Acc: 99.93%\n",
      "\t Val. Loss: 3.280  |  Val. Acc: 52.96%\n",
      "Epoch: 38 | Epoch Time: 0m 27s\n",
      "\t Train Loss: 0.003 | Train Acc: 99.92%\n",
      "\t Val. Loss: 3.630  |  Val. Acc: 52.96%\n",
      "Epoch: 39 | Epoch Time: 0m 27s\n",
      "\t Train Loss: 0.007 | Train Acc: 99.80%\n",
      "\t Val. Loss: 2.704  |  Val. Acc: 51.53%\n",
      "Epoch: 40 | Epoch Time: 0m 27s\n",
      "\t Train Loss: 0.004 | Train Acc: 99.88%\n",
      "\t Val. Loss: 2.759  |  Val. Acc: 51.66%\n",
      "Epoch: 41 | Epoch Time: 0m 27s\n",
      "\t Train Loss: 0.004 | Train Acc: 99.85%\n",
      "\t Val. Loss: 3.479  |  Val. Acc: 52.34%\n",
      "Epoch: 42 | Epoch Time: 0m 27s\n",
      "\t Train Loss: 0.001 | Train Acc: 99.98%\n",
      "\t Val. Loss: 3.739  |  Val. Acc: 52.90%\n",
      "Epoch: 43 | Epoch Time: 0m 27s\n",
      "\t Train Loss: 0.000 | Train Acc: 100.00%\n",
      "\t Val. Loss: 4.138  |  Val. Acc: 52.54%\n",
      "Epoch: 44 | Epoch Time: 0m 27s\n",
      "\t Train Loss: 0.000 | Train Acc: 100.00%\n",
      "\t Val. Loss: 4.476  |  Val. Acc: 52.60%\n",
      "Epoch: 45 | Epoch Time: 0m 27s\n",
      "\t Train Loss: 0.010 | Train Acc: 99.64%\n",
      "\t Val. Loss: 3.412  |  Val. Acc: 52.64%\n",
      "Epoch: 46 | Epoch Time: 0m 27s\n",
      "\t Train Loss: 0.008 | Train Acc: 99.75%\n",
      "\t Val. Loss: 3.400  |  Val. Acc: 52.77%\n"
     ]
    }
   ],
   "source": [
    "model_saved_name = \"models/DEAP_CNN_BiLSTM_Attention.pt\"\n",
    "\n",
    "#trainer(num_epochs, model, train_loader, val_loader, optimizer, criterion, model_name, device, seq_len_first=False)\n",
    "train_losses, valid_losses, train_accs, valid_accs = train(num_epochs, model, train_loader, val_loader, optimizer, criterion, model_saved_name, device)"
   ]
  },
  {
   "cell_type": "markdown",
   "metadata": {},
   "source": [
    "Let's plot the losses and acc for easier inspection"
   ]
  },
  {
   "cell_type": "code",
   "execution_count": 13,
   "metadata": {},
   "outputs": [
    {
     "data": {
      "image/png": "[encoded data removed]",
      "text/plain": [
       "<Figure size 720x432 with 1 Axes>"
      ]
     },
     "metadata": {
      "needs_background": "light"
     },
     "output_type": "display_data"
    },
    {
     "data": {
      "image/png": "[encoded data removed]",
      "text/plain": [
       "<Figure size 720x432 with 1 Axes>"
      ]
     },
     "metadata": {
      "needs_background": "light"
     },
     "output_type": "display_data"
    }
   ],
   "source": [
    "plot_performance(train_losses, valid_losses, \"loss\")\n",
    "plot_performance(train_accs, valid_accs, \"acc\")"
   ]
  },
  {
   "cell_type": "markdown",
   "metadata": {},
   "source": [
    "## 4. Evaluation on test set"
   ]
  },
  {
   "cell_type": "code",
   "execution_count": 14,
   "metadata": {},
   "outputs": [
    {
     "name": "stdout",
     "output_type": "stream",
     "text": [
      "Test Loss: 0.460 | Test Acc: 85.87%\n"
     ]
    }
   ],
   "source": [
    "model.load_state_dict(torch.load(model_saved_name))\n",
    "test_loss, test_acc = evaluate(model, test_loader, criterion, device)\n",
    "\n",
    "print(f'Test Loss: {test_loss:.3f} | Test Acc: {test_acc*100:.2f}%')"
   ]
  },
  {
   "cell_type": "markdown",
   "metadata": {},
   "source": [
    "## Final Verdict\n",
    "\n"
   ]
  },
  {
   "cell_type": "markdown",
   "metadata": {},
   "source": [
    "Hmm...it works fine increasing the accuracy by around 3%.  The intuition is likely that attention is like another layer that allows longer dependencies learning because attention is simply like convolution but of full width.\n",
    "\n",
    "Let's try another variant of attention which is self-attention, inspired by the Transformers.  Maybe it will perform better."
   ]
  }
 ],
 "metadata": {
  "kernelspec": {
   "display_name": "thesis",
   "language": "python",
   "name": "thesis"
  },
  "language_info": {
   "codemirror_mode": {
    "name": "ipython",
    "version": 3
   },
   "file_extension": ".py",
   "mimetype": "text/x-python",
   "name": "python",
   "nbconvert_exporter": "python",
   "pygments_lexer": "ipython3",
   "version": "3.8.10"
  }
 },
 "nbformat": 4,
 "nbformat_minor": 5
}
