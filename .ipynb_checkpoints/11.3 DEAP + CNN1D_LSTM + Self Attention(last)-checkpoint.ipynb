{
 "cells": [
  {
   "cell_type": "markdown",
   "metadata": {},
   "source": [
    "# DEAP Dataset + CNN1D_LSTM + Self Attention (last)\n",
    "\n",
    "In this part, we shall revise just slightly and change how we combine the context to \"last\".\n",
    "\n",
    "*Note that we will be only predicting the valence.  Feel free to work on the arousal yourself.*\n",
    "\n",
    "In this part, most of the code will be the same except 2 Defining Model."
   ]
  },
  {
   "cell_type": "code",
   "execution_count": 1,
   "metadata": {},
   "outputs": [],
   "source": [
    "import torch\n",
    "import torch.nn as nn\n",
    "import torch.nn.functional as F\n",
    "\n",
    "# setting seed so that splitting process and training process can be reproduce\n",
    "torch.manual_seed(1)\n",
    "\n",
    "import numpy as np\n",
    "\n",
    "#refactoring components\n",
    "#maybe you want to take a look at these components, because we will be using them in the future series\n",
    "from components.dataset import Dataset\n",
    "from components.helper import getLoaders, count_parameters, plot_performance\n",
    "from components.train import train, evaluate, initialize_weights"
   ]
  },
  {
   "cell_type": "markdown",
   "metadata": {},
   "source": [
    "Set cuda accordingly."
   ]
  },
  {
   "cell_type": "code",
   "execution_count": 2,
   "metadata": {},
   "outputs": [
    {
     "name": "stdout",
     "output_type": "stream",
     "text": [
      "Configured device:  cuda\n"
     ]
    }
   ],
   "source": [
    "device = torch.device('cuda' if torch.cuda.is_available() else 'cpu')\n",
    "print(\"Configured device: \", device)"
   ]
  },
  {
   "cell_type": "markdown",
   "metadata": {},
   "source": [
    "## 1. Loading dataset\n",
    "\n",
    "Let's first reuse the dataset loader we have created in Part 1."
   ]
  },
  {
   "cell_type": "code",
   "execution_count": 3,
   "metadata": {},
   "outputs": [],
   "source": [
    "path = \"data\"  #create a folder \"data\", and inside put s01.dat,....,s32.dat inside from the preprocessed folder from the DEAP dataset"
   ]
  },
  {
   "cell_type": "code",
   "execution_count": 4,
   "metadata": {
    "tags": []
   },
   "outputs": [
    {
     "name": "stdout",
     "output_type": "stream",
     "text": [
      "[805, 113, 506, 533, 7, 318, 559, 1260, 151, 809, 738, 1238, 328, 767, 981, 725, 1270, 275, 188, 1100, 170, 1178, 1234, 1155, 931, 91, 444, 883, 953, 519, 1048, 1140, 311, 155, 295, 368, 491, 633, 1120, 388, 765, 826, 605, 149, 527, 1235, 1114, 431, 929, 622, 434, 1142, 908, 944, 207, 503, 34, 1278, 375, 290, 786, 259, 1217, 650, 3, 788, 623, 602, 768, 1029, 789, 265, 612, 391, 972, 488, 1089, 51, 961, 819, 911, 592, 812, 1127, 279, 865, 621, 711, 1146, 1094, 770, 886, 525, 979, 111, 662, 1079, 1080, 736, 1098, 1173, 583, 589, 649, 816, 171, 5, 910, 731, 345, 363, 656, 71, 443, 683, 867, 1130, 396, 764, 428, 312, 300, 229, 19, 425, 934, 145, 963, 1272, 1116, 529, 739, 1096, 460, 117, 1118, 1068, 578, 1119, 806, 611, 714, 470, 553, 556, 354, 632, 942, 1132, 489, 695, 59, 308, 422, 68, 380, 294, 109, 1035, 402, 535, 737, 1033, 999, 1009, 554, 1108, 1276, 476, 933, 486, 98, 474, 1141, 255, 603, 386, 1188, 433, 593, 668, 485, 797, 1262, 482, 920, 236, 1052, 322, 119, 360, 871, 327, 29, 658, 299, 899, 307, 915, 213, 732, 791, 1018, 1255, 373, 900, 753, 1001, 705, 1165, 326, 962, 424, 1190, 305, 682, 48, 1006, 573, 735, 1197, 800, 951, 1195, 1166, 774, 580, 1030, 1103, 123, 331, 723, 17, 989, 576, 513, 921, 110, 465, 881, 757, 713, 323, 215, 76, 95, 1075, 1181, 164, 710, 377, 126, 480, 748, 329, 1232, 912, 227, 187, 100, 419, 378, 104, 181, 224, 1063, 1005, 394, 423, 341, 1065, 530, 849, 11, 584, 801, 864, 1261, 370, 222, 52, 450, 510, 199, 336, 524, 120, 138, 277, 93, 504, 555, 776, 660, 97, 1244, 297, 182, 106, 411, 1192, 103, 249, 762, 540, 247, 698, 8, 302, 655, 47, 143, 1058, 1015, 1104, 993, 815, 1277, 615, 836, 1020, 502, 492, 1147, 392, 282, 827, 1011, 856, 287, 645, 1144, 582, 325, 549, 243, 879, 367, 1083, 121, 324, 878, 722, 745, 608, 231, 620, 15, 200, 1224, 874, 254, 366, 810, 545, 225, 1057, 1106, 184, 1045, 238, 795, 1275, 925, 397, 456, 77, 566, 706, 69, 1060, 928, 614, 414, 258, 409, 704, 1210, 1117, 863, 516, 82, 959, 647, 891, 28, 817, 1162, 771, 1223, 700, 53, 579, 945, 1264, 687, 1122, 1017, 0, 954, 167, 517, 477, 619, 853, 80, 1034, 268, 194, 1152, 350, 1036, 601, 640, 210, 923, 242, 1160, 75, 166, 648, 112, 742, 1208, 203, 135, 1225, 754, 955, 854, 1062, 269, 667, 471, 1279, 1136, 283, 469, 845, 362, 292, 1007, 1209, 448, 317, 13, 657, 1219, 914, 969, 252, 87, 88, 846, 156, 873, 664, 666, 1182, 212, 1071, 935, 1194, 1265, 726, 1171, 575, 719, 941, 828, 1061, 393, 1239, 484, 420, 642, 1040, 1072, 980, 1248, 1013, 518, 1213, 493, 400, 263, 872, 454, 260, 136, 496, 838, 1023, 547, 33, 1024, 73, 628, 707, 131, 195, 168, 1143, 1076, 186, 850, 1151, 777, 644, 1012, 616, 978, 1051, 522, 478, 359, 190, 646, 1211, 996, 948, 310, 174, 532, 537, 992, 351, 1113, 107, 25, 875, 89, 952, 998, 905, 1121, 21, 585, 772, 588, 890, 973, 1074, 221, 515, 876, 681, 16, 407, 176, 472, 1082, 1184, 49, 78, 782, 505, 276, 280, 462, 743, 475, 133, 1250, 587, 1128, 497, 818, 426, 1245, 674, 1267, 429, 371, 906, 24, 60, 629, 180, 193, 58, 548, 365, 202, 1201, 440, 561, 1180, 42, 248, 560, 85, 1003, 1137, 526, 534, 822, 694, 744, 124, 132, 841, 332, 564, 1206, 880, 64, 637, 346, 281, 746, 1081, 858, 271, 150, 1243, 214, 574, 1191, 859, 521, 964, 12, 783, 968, 1258, 385, 1044, 541, 937, 572, 1039, 172, 6, 909, 509, 877, 852, 401, 192, 984, 349, 1157, 1042, 780, 1222, 627, 829, 452, 1148, 625, 239, 1101, 741, 479, 233, 730, 40, 1056, 309, 298, 1221, 183, 84, 792, 240, 991, 1085, 372, 870, 288, 466, 1240, 1105, 821, 887, 1135, 868, 481, 842, 421, 418, 779, 1027, 152, 230, 712, 570, 1046, 353, 487, 893, 1090, 932, 125, 436, 304, 1138, 296, 824, 67, 1226, 189, 1154, 1031, 957, 639, 335, 137, 219, 220, 1093, 586, 839, 803, 618, 160, 154, 799, 445, 483, 234, 659, 4, 1028, 970, 609, 610, 869, 116, 1170, 523, 1091, 1273, 882, 128, 679, 376, 635, 1266, 439, 1274, 218, 1204, 949, 46, 903, 758, 866, 314, 1095, 930, 778, 1133, 65, 775, 267, 1207, 1259, 441, 680, 1134, 416, 1022, 512, 1177, 1176, 102, 669, 960, 417, 1112, 729, 1253, 383, 654, 507, 536, 211, 860, 569, 1202, 558, 508, 337, 1000, 543, 1097, 1230, 1164, 977, 946, 223, 763, 333, 495, 718, 266, 413, 1078, 459, 140, 55, 178, 975, 814, 594, 146, 919, 1257, 1086, 1055, 347, 1149, 379, 191, 237, 832, 997, 1050, 352, 261, 1019, 708, 1026, 720, 855, 162, 781, 1183, 1008, 974, 1169, 699, 20, 130, 38, 917, 23, 61, 389, 245, 251, 36, 1252, 550, 833, 356, 848, 405, 2, 1215, 72, 1102, 1269, 398, 198, 958, 339, 636, 1125, 1092, 1251, 1059, 520, 982, 892, 847, 896, 938, 701, 546, 461, 306, 889, 1167, 272, 37, 511, 408, 1229, 939, 716, 453, 340, 235, 319, 1064, 451, 1179, 702, 727, 1163, 134, 676, 631]\n",
      "[54, 1037, 1077, 437, 432, 406, 435, 661, 338, 688, 257, 1233, 315, 384, 303, 634, 216, 790, 802, 686, 313, 671, 26, 966, 696, 342, 1241, 1199, 458, 894, 1161, 147, 153, 1109, 361, 1150, 321, 542, 685, 179, 395, 1198, 43, 142, 638, 99, 613, 1153, 57, 1228, 1218, 769, 286, 987, 563, 201, 773, 888, 90, 590, 692, 793, 228, 562, 785, 494, 808, 600, 907, 1212, 232, 750, 1099, 83, 464, 1004, 1, 840, 1021, 244, 851, 79, 498, 544, 468, 1054, 122, 709, 1186, 759, 139, 787, 105, 918, 689, 455, 9, 950, 185, 798, 902, 197, 940, 173, 835, 1067, 291, 1088, 30, 1145, 606, 595, 678, 501, 834, 343, 115, 599, 1216, 721, 1227, 447, 438, 14, 734, 382, 1115, 177, 1047, 922, 995, 1185, 1271, 924, 837, 528, 751, 1131, 1254, 568, 22, 1073, 690, 538, 1214, 807, 577, 1066, 581, 571, 334, 144, 607, 804, 717, 624, 442, 209, 813, 724, 293, 761, 63, 862, 665, 204, 284, 703, 693, 927, 404, 756, 733, 330, 44, 1111, 18, 539, 369, 289, 467, 344, 551, 514, 403, 62, 92, 399, 567, 301, 1187, 1014, 943, 1175, 41, 956, 784, 913, 844, 1070, 531, 697, 598, 971, 596, 1172, 175, 374, 127, 50, 604, 129, 1168, 1247, 1043, 114, 830, 990, 316, 1249, 169, 1242, 320, 641, 81, 1159, 500, 410, 677, 988, 27, 1231, 1205, 728, 31, 457, 811, 66, 264, 273, 1263, 857, 196, 250, 994, 752, 274, 387, 643, 415, 901, 985, 158, 70, 691, 1025]\n",
      "[96, 1053, 652, 159, 684, 35, 206, 1002, 427, 1156, 32, 390, 1237, 430, 1139, 672, 148, 101, 565, 1196, 617, 1107, 45, 473, 965, 108, 246, 1016, 947, 262, 630, 1032, 1189, 1236, 983, 1174, 1110, 967, 499, 278, 355, 749, 357, 976, 675, 747, 1087, 884, 141, 670, 740, 1049, 1200, 208, 165, 651, 217, 1246, 412, 715, 895, 39, 56, 118, 898, 381, 74, 348, 86, 241, 364, 161, 557, 663, 157, 1203, 597, 766, 358, 449, 463, 1041, 490, 916, 926, 446, 1123, 10, 755, 94, 1010, 936, 163, 653, 1158, 831, 552, 897, 796, 673, 861, 256, 1124, 1129, 1069, 794, 1256, 226, 270, 626, 843, 760, 253, 591, 885, 904, 825, 986, 1038, 1126, 1193, 820, 823, 1220, 1268, 285, 205, 1084]\n",
      "Train Data shape:  torch.Size([10752, 32, 672])\n",
      "Train Label shape:  torch.Size([10752, 1])\n"
     ]
    }
   ],
   "source": [
    "train_set = Dataset(path, \"Valence\", \"train\") \n",
    "val_set = Dataset(path, \"Valence\", \"val\")\n",
    "test_set = Dataset(path, \"Valence\", \"test\")\n",
    "\n",
    "data_train  = train_set[:]['data']\n",
    "label_train = train_set[:]['label']\n",
    "\n",
    "print(\"Train Data shape: \" , data_train.shape)  #10752 = 32 * 28 trials * 12 segments, 32 EEG channels, 672 samples\n",
    "print(\"Train Label shape: \", label_train.shape)  #two classes of valence"
   ]
  },
  {
   "cell_type": "markdown",
   "metadata": {
    "tags": []
   },
   "source": [
    "## 2. Defining the Model\n",
    "\n",
    "In this part, we shall use <code>len_reduction</code> to last."
   ]
  },
  {
   "cell_type": "code",
   "execution_count": 5,
   "metadata": {},
   "outputs": [],
   "source": [
    "class Conv1D_LSTM_SelfAttention(nn.Module):\n",
    "    '''\n",
    "    Expected Input Shape: (batch, channels, seq_len)  <==what conv1d wants\n",
    "    '''\n",
    "    def __init__(self, input_dim, hidden_dim, num_layers, output_dim, bidirectional, dropout, len_reduction='mean'):\n",
    "        super(Conv1D_LSTM_SelfAttention, self).__init__()\n",
    "        self.conv1d = nn.Conv1d(input_dim, input_dim, kernel_size=128, stride=1, padding=1)\n",
    "        self.norm = nn.BatchNorm1d(input_dim)\n",
    "        self.lstm = nn.LSTM(input_dim, \n",
    "                           hidden_dim, \n",
    "                           num_layers=num_layers, \n",
    "                           bidirectional=bidirectional, \n",
    "                           dropout=dropout,\n",
    "                           batch_first=True)\n",
    "        self.fc = nn.Linear(hidden_dim * num_layers, output_dim)\n",
    "        self.lin_Q = nn.Linear(hidden_dim * 2, hidden_dim * 2)\n",
    "        self.lin_K = nn.Linear(hidden_dim * 2, hidden_dim * 2)\n",
    "        self.lin_V = nn.Linear(hidden_dim * 2, hidden_dim * 2)\n",
    "        self.len_reduction = len_reduction\n",
    "    \n",
    "    # lstm_output : [batch_size, seq len, n_hidden * num_directions(=2)]\n",
    "    def self_attention_net(self, lstm_output):\n",
    "        q = self.lin_Q(torch.clone(lstm_output))\n",
    "        k = self.lin_K(torch.clone(lstm_output))\n",
    "        v = self.lin_V(torch.clone(lstm_output))\n",
    "        # q : [batch_size, seq_len, n_hidden * num_directions(=2)]\n",
    "        # k.transpose(1, 2): [batch_size, n_hidden * num_directions(=2), seq_len]\n",
    "        # attn_w = [batch_size, seq_len, seq_len]\n",
    "                \n",
    "        attn_w = torch.matmul(q, k.transpose(1, 2))\n",
    "        sfmx_attn_w = F.softmax(attn_w, 1)\n",
    "        \n",
    "        # context = [batch_size, seq_len, hidden_dim * num_directions(=2)]\n",
    "        context = torch.matmul(sfmx_attn_w, v)\n",
    "        \n",
    "        # by doing some mean/sum, the dimension on the seq len is gone\n",
    "        if self.len_reduction == \"mean\":\n",
    "            return torch.mean(context, dim=1), sfmx_attn_w.cpu().data.numpy()\n",
    "        elif self.len_reduction == \"sum\":\n",
    "            return torch.sum(context, dim=1), sfmx_attn_w.cpu().data.numpy()\n",
    "        elif self.len_reduction == \"last\":\n",
    "            return context[:, -1, :], sfmx_attn_w.cpu().data.numpy()   \n",
    "        \n",
    "    def forward(self, x):\n",
    "        # conv1d expects (batch, channels, seq_len)\n",
    "        # should not try too big a kernel size, which could lead to too much information loss\n",
    "        x = F.max_pool1d(F.relu(self.norm(self.conv1d(x))), kernel_size=3)\n",
    "\n",
    "        # change to (batch, seq_len, channels) because lstm expects\n",
    "        x = x.permute(0,2,1)\n",
    "        \n",
    "        #x = [batch size, seq len, channels]\n",
    "        out, (hn, cn) = self.lstm(x)\n",
    "        \n",
    "        #out = [batch size, seq len, hidden dim * num directions]        \n",
    "        #hn = [num layers * num directions, batch size, hidden dim]\n",
    "        #cn = [num layers * num directions, batch size, hidden dim]\n",
    "        \n",
    "        #concat the final forward (hidden[-2,:,:]) and backward (hidden[-1,:,:]) hidden layers\n",
    "        hn = torch.cat((hn[-2,:,:], hn[-1,:,:]), dim = 1)\n",
    "        #hn = [batch size, hidden dim * num directions]\n",
    "        \n",
    "        attn_output, attention = self.self_attention_net(out)\n",
    "\n",
    "        return self.fc(attn_output)"
   ]
  },
  {
   "cell_type": "markdown",
   "metadata": {},
   "source": [
    "**Model init**: Let's init the class instance and create a workabout model."
   ]
  },
  {
   "cell_type": "code",
   "execution_count": 6,
   "metadata": {},
   "outputs": [
    {
     "data": {
      "text/plain": [
       "Conv1D_LSTM_SelfAttention(\n",
       "  (conv1d): Conv1d(32, 32, kernel_size=(128,), stride=(1,), padding=(1,))\n",
       "  (norm): BatchNorm1d(32, eps=1e-05, momentum=0.1, affine=True, track_running_stats=True)\n",
       "  (lstm): LSTM(32, 256, num_layers=2, batch_first=True, dropout=0.5, bidirectional=True)\n",
       "  (fc): Linear(in_features=512, out_features=1, bias=True)\n",
       "  (lin_Q): Linear(in_features=512, out_features=512, bias=True)\n",
       "  (lin_K): Linear(in_features=512, out_features=512, bias=True)\n",
       "  (lin_V): Linear(in_features=512, out_features=512, bias=True)\n",
       ")"
      ]
     },
     "execution_count": 6,
     "metadata": {},
     "output_type": "execute_result"
    }
   ],
   "source": [
    "#note that these params are simply obtained from trial and error; I got no theory to back up why I use certain numbers here...\n",
    "input_dim     = 32 #we got 32 EEG channels\n",
    "hidden_dim    = 256 #let's define hidden dim as 256\n",
    "num_layers    = 2  #we gonna have two LSTM layers\n",
    "output_dim    = 1  #we got 2 classes for our labels\n",
    "bidirectional = True  #uses bidirectional LSTM\n",
    "dropout       = 0.5  #setting dropout to 0.5\n",
    "len_reduction = 'last' #try sum or last\n",
    "\n",
    "#define the model\n",
    "model = Conv1D_LSTM_SelfAttention(input_dim, hidden_dim, num_layers, output_dim, bidirectional, dropout, len_reduction)\n",
    "\n",
    "#send to cuda so we can use the GPU\n",
    "model = model.to(device)  \n",
    "\n",
    "#apply weights\n",
    "model.apply(initialize_weights)"
   ]
  },
  {
   "cell_type": "markdown",
   "metadata": {},
   "source": [
    "**Param count**: Let's also check the number of parameters used"
   ]
  },
  {
   "cell_type": "code",
   "execution_count": 7,
   "metadata": {},
   "outputs": [
    {
     "name": "stdout",
     "output_type": "stream",
     "text": [
      "The model Conv1D_LSTM_SelfAttention has 3,090,529 trainable parameters\n"
     ]
    }
   ],
   "source": [
    "print(f'The model {type(model).__name__} has {count_parameters(model):,} trainable parameters')# Train the model"
   ]
  },
  {
   "cell_type": "markdown",
   "metadata": {},
   "source": [
    "**Unit test**: Let's define a simple unit test, inputing some mock EEG data and see whether we got the desired output as 4 classes."
   ]
  },
  {
   "cell_type": "code",
   "execution_count": 8,
   "metadata": {},
   "outputs": [
    {
     "name": "stdout",
     "output_type": "stream",
     "text": [
      "Prediction shape:  torch.Size([2, 1])\n",
      "Predictions:  tensor([[0.0147],\n",
      "        [0.0156]], device='cuda:0', grad_fn=<AddmmBackward>)\n"
     ]
    }
   ],
   "source": [
    "mock_batch_size = 2    #in real training, we use 32\n",
    "mock_input_dim  = 32   #in real data, ours is 32 channels\n",
    "mock_seq_len    = 8064 #in real data, ours is 8064\n",
    "\n",
    "#note that our model first layer is conv1d which expects (batch, channel, seq len)\n",
    "mock_eegdata = torch.rand(mock_batch_size, mock_input_dim, mock_seq_len).to(device)\n",
    "\n",
    "#let's try run the model by simply inserting the mockdata into the model; very similar to .fit\n",
    "predictions = model(mock_eegdata)\n",
    "\n",
    "#let's try to see the predictions whether it really outputs 2 unique classes - 0 and 1\n",
    "print(\"Prediction shape: \", predictions.shape)\n",
    "print(\"Predictions: \", predictions)\n",
    "\n",
    "#simple unit test\n",
    "assert predictions.shape[0] == mock_batch_size\n",
    "assert predictions.shape[1] == output_dim"
   ]
  },
  {
   "cell_type": "markdown",
   "metadata": {},
   "source": [
    "## 3. Training"
   ]
  },
  {
   "cell_type": "markdown",
   "metadata": {
    "tags": []
   },
   "source": [
    "### I. Batch Iterators\n",
    "\n",
    "To make it easier to manage, I have put this into our <code>components/helper.py</code>."
   ]
  },
  {
   "cell_type": "code",
   "execution_count": 9,
   "metadata": {},
   "outputs": [
    {
     "name": "stdout",
     "output_type": "stream",
     "text": [
      "Full Dataset size:  15360\n",
      "Train Dataset size: 10752\n",
      "Valid Dataset size: 3072\n",
      "Test Dataset size:  1536\n",
      "\n"
     ]
    }
   ],
   "source": [
    "train_loader, val_loader, test_loader = getLoaders(dataset=dataset, batch_size=16)"
   ]
  },
  {
   "cell_type": "markdown",
   "metadata": {},
   "source": [
    "### II. Optimizers\n",
    "\n",
    "Optimizer simply refers to the one that gonna take care of the backpropagation process.  The commonly used optimizer is SGD and Adam, both are quite interchangeable.  Here we gonna use Adam.  In order to backpropagate, we gonna define a loss function using cross entropy loss, which is a common loss function for multi-class purposes."
   ]
  },
  {
   "cell_type": "code",
   "execution_count": 10,
   "metadata": {},
   "outputs": [],
   "source": [
    "import torch.optim as optim\n",
    "\n",
    "num_epochs = 50\n",
    "\n",
    "lr = 0.0001\n",
    "\n",
    "#can also try SGD which should not make too much of a difference\n",
    "optimizer = optim.Adam(model.parameters(), lr=lr) \n",
    "\n",
    "#combine sigmoid with binary entropy; binary entropy is used for binary classification\n",
    "criterion = nn.BCEWithLogitsLoss() "
   ]
  },
  {
   "cell_type": "markdown",
   "metadata": {
    "tags": []
   },
   "source": [
    "### III. Let's train!"
   ]
  },
  {
   "cell_type": "code",
   "execution_count": 11,
   "metadata": {},
   "outputs": [
    {
     "name": "stdout",
     "output_type": "stream",
     "text": [
      "Epoch: 01 | Epoch Time: 0m 29s\n",
      "\t Train Loss: 0.687 | Train Acc: 55.34%\n",
      "\t Val. Loss: 0.670  |  Val. Acc: 55.47%\n",
      "Epoch: 02 | Epoch Time: 0m 29s\n",
      "\t Train Loss: 0.647 | Train Acc: 58.82%\n",
      "\t Val. Loss: 0.634  |  Val. Acc: 58.95%\n",
      "Epoch: 03 | Epoch Time: 0m 29s\n",
      "\t Train Loss: 0.595 | Train Acc: 63.60%\n",
      "\t Val. Loss: 0.599  |  Val. Acc: 62.83%\n",
      "Epoch: 04 | Epoch Time: 0m 29s\n",
      "\t Train Loss: 0.552 | Train Acc: 68.23%\n",
      "\t Val. Loss: 0.713  |  Val. Acc: 66.34%\n",
      "Epoch: 05 | Epoch Time: 0m 29s\n",
      "\t Train Loss: 0.501 | Train Acc: 74.82%\n",
      "\t Val. Loss: 0.620  |  Val. Acc: 70.51%\n",
      "Epoch: 06 | Epoch Time: 0m 29s\n",
      "\t Train Loss: 0.462 | Train Acc: 78.49%\n",
      "\t Val. Loss: 0.609  |  Val. Acc: 74.74%\n",
      "Epoch: 07 | Epoch Time: 0m 29s\n",
      "\t Train Loss: 0.425 | Train Acc: 81.30%\n",
      "\t Val. Loss: 0.629  |  Val. Acc: 74.90%\n",
      "Epoch: 08 | Epoch Time: 0m 29s\n",
      "\t Train Loss: 0.342 | Train Acc: 85.70%\n",
      "\t Val. Loss: 0.652  |  Val. Acc: 78.19%\n",
      "Epoch: 09 | Epoch Time: 0m 29s\n",
      "\t Train Loss: 0.328 | Train Acc: 84.51%\n",
      "\t Val. Loss: 0.688  |  Val. Acc: 47.53%\n",
      "Epoch: 10 | Epoch Time: 0m 29s\n",
      "\t Train Loss: 0.308 | Train Acc: 85.07%\n",
      "\t Val. Loss: 0.570  |  Val. Acc: 81.38%\n",
      "Epoch: 11 | Epoch Time: 0m 29s\n",
      "\t Train Loss: 0.171 | Train Acc: 92.75%\n",
      "\t Val. Loss: 0.852  |  Val. Acc: 84.34%\n",
      "Epoch: 12 | Epoch Time: 0m 29s\n",
      "\t Train Loss: 0.107 | Train Acc: 95.53%\n",
      "\t Val. Loss: 0.816  |  Val. Acc: 84.93%\n",
      "Epoch: 13 | Epoch Time: 0m 29s\n",
      "\t Train Loss: 0.077 | Train Acc: 96.87%\n",
      "\t Val. Loss: 1.276  |  Val. Acc: 86.62%\n",
      "Epoch: 14 | Epoch Time: 0m 29s\n",
      "\t Train Loss: 0.058 | Train Acc: 97.78%\n",
      "\t Val. Loss: 0.834  |  Val. Acc: 86.82%\n",
      "Epoch: 15 | Epoch Time: 0m 29s\n",
      "\t Train Loss: 0.047 | Train Acc: 98.14%\n",
      "\t Val. Loss: 1.078  |  Val. Acc: 88.41%\n",
      "Epoch: 16 | Epoch Time: 0m 29s\n",
      "\t Train Loss: 0.033 | Train Acc: 98.68%\n",
      "\t Val. Loss: 1.211  |  Val. Acc: 87.37%\n",
      "Epoch: 17 | Epoch Time: 0m 29s\n",
      "\t Train Loss: 0.032 | Train Acc: 98.76%\n",
      "\t Val. Loss: 0.917  |  Val. Acc: 88.61%\n",
      "Epoch: 18 | Epoch Time: 0m 29s\n",
      "\t Train Loss: 0.027 | Train Acc: 98.95%\n",
      "\t Val. Loss: 0.903  |  Val. Acc: 88.87%\n",
      "Epoch: 19 | Epoch Time: 0m 29s\n",
      "\t Train Loss: 0.017 | Train Acc: 99.47%\n",
      "\t Val. Loss: 1.454  |  Val. Acc: 89.52%\n",
      "Epoch: 20 | Epoch Time: 0m 29s\n",
      "\t Train Loss: 0.027 | Train Acc: 99.16%\n",
      "\t Val. Loss: 1.008  |  Val. Acc: 89.45%\n",
      "Epoch: 21 | Epoch Time: 0m 29s\n",
      "\t Train Loss: 0.014 | Train Acc: 99.56%\n",
      "\t Val. Loss: 0.871  |  Val. Acc: 89.19%\n",
      "Epoch: 22 | Epoch Time: 0m 29s\n",
      "\t Train Loss: 0.011 | Train Acc: 99.54%\n",
      "\t Val. Loss: 1.028  |  Val. Acc: 89.29%\n",
      "Epoch: 23 | Epoch Time: 0m 29s\n",
      "\t Train Loss: 0.014 | Train Acc: 99.54%\n",
      "\t Val. Loss: 0.655  |  Val. Acc: 89.52%\n",
      "Epoch: 24 | Epoch Time: 0m 29s\n",
      "\t Train Loss: 0.014 | Train Acc: 99.53%\n",
      "\t Val. Loss: 0.733  |  Val. Acc: 89.52%\n",
      "Epoch: 25 | Epoch Time: 0m 29s\n",
      "\t Train Loss: 0.007 | Train Acc: 99.77%\n",
      "\t Val. Loss: 1.108  |  Val. Acc: 89.58%\n",
      "Epoch: 26 | Epoch Time: 0m 29s\n",
      "\t Train Loss: 0.012 | Train Acc: 99.55%\n",
      "\t Val. Loss: 1.499  |  Val. Acc: 89.94%\n",
      "Epoch: 27 | Epoch Time: 0m 29s\n",
      "\t Train Loss: 0.013 | Train Acc: 99.66%\n",
      "\t Val. Loss: 1.059  |  Val. Acc: 89.03%\n",
      "Epoch: 28 | Epoch Time: 0m 29s\n",
      "\t Train Loss: 0.007 | Train Acc: 99.79%\n",
      "\t Val. Loss: 1.137  |  Val. Acc: 90.76%\n",
      "Epoch: 29 | Epoch Time: 0m 29s\n",
      "\t Train Loss: 0.034 | Train Acc: 99.13%\n",
      "\t Val. Loss: 0.707  |  Val. Acc: 90.10%\n",
      "Epoch: 30 | Epoch Time: 0m 29s\n",
      "\t Train Loss: 0.009 | Train Acc: 99.74%\n",
      "\t Val. Loss: 1.298  |  Val. Acc: 91.02%\n",
      "Epoch: 31 | Epoch Time: 0m 29s\n",
      "\t Train Loss: 0.002 | Train Acc: 99.96%\n",
      "\t Val. Loss: 2.054  |  Val. Acc: 91.41%\n",
      "Epoch: 32 | Epoch Time: 0m 29s\n",
      "\t Train Loss: 0.006 | Train Acc: 99.82%\n",
      "\t Val. Loss: 0.981  |  Val. Acc: 89.58%\n",
      "Epoch: 33 | Epoch Time: 0m 29s\n",
      "\t Train Loss: 0.012 | Train Acc: 99.61%\n",
      "\t Val. Loss: 0.779  |  Val. Acc: 89.03%\n",
      "Epoch: 34 | Epoch Time: 0m 29s\n",
      "\t Train Loss: 0.013 | Train Acc: 99.67%\n",
      "\t Val. Loss: 1.064  |  Val. Acc: 90.95%\n",
      "Epoch: 35 | Epoch Time: 0m 29s\n",
      "\t Train Loss: 0.006 | Train Acc: 99.81%\n",
      "\t Val. Loss: 0.965  |  Val. Acc: 91.28%\n",
      "Epoch: 36 | Epoch Time: 0m 29s\n",
      "\t Train Loss: 0.004 | Train Acc: 99.89%\n",
      "\t Val. Loss: 1.148  |  Val. Acc: 90.69%\n",
      "Epoch: 37 | Epoch Time: 0m 29s\n",
      "\t Train Loss: 0.003 | Train Acc: 99.91%\n",
      "\t Val. Loss: 1.378  |  Val. Acc: 90.33%\n",
      "Epoch: 38 | Epoch Time: 0m 29s\n",
      "\t Train Loss: 0.014 | Train Acc: 99.68%\n",
      "\t Val. Loss: 0.544  |  Val. Acc: 89.88%\n",
      "Epoch: 39 | Epoch Time: 0m 29s\n",
      "\t Train Loss: 0.006 | Train Acc: 99.80%\n",
      "\t Val. Loss: 0.725  |  Val. Acc: 90.30%\n",
      "Epoch: 40 | Epoch Time: 0m 29s\n",
      "\t Train Loss: 0.004 | Train Acc: 99.85%\n",
      "\t Val. Loss: 0.861  |  Val. Acc: 89.91%\n",
      "Epoch: 41 | Epoch Time: 0m 29s\n",
      "\t Train Loss: 0.006 | Train Acc: 99.80%\n",
      "\t Val. Loss: 0.836  |  Val. Acc: 90.56%\n",
      "Epoch: 42 | Epoch Time: 0m 29s\n",
      "\t Train Loss: 0.005 | Train Acc: 99.83%\n",
      "\t Val. Loss: 1.403  |  Val. Acc: 90.14%\n",
      "Epoch: 43 | Epoch Time: 0m 29s\n",
      "\t Train Loss: 0.005 | Train Acc: 99.79%\n",
      "\t Val. Loss: 1.398  |  Val. Acc: 90.95%\n",
      "Epoch: 44 | Epoch Time: 0m 29s\n",
      "\t Train Loss: 0.005 | Train Acc: 99.80%\n",
      "\t Val. Loss: 1.164  |  Val. Acc: 90.98%\n",
      "Epoch: 45 | Epoch Time: 0m 29s\n",
      "\t Train Loss: 0.006 | Train Acc: 99.83%\n",
      "\t Val. Loss: 1.403  |  Val. Acc: 91.24%\n",
      "Epoch: 46 | Epoch Time: 0m 29s\n",
      "\t Train Loss: 0.005 | Train Acc: 99.85%\n",
      "\t Val. Loss: 1.262  |  Val. Acc: 91.37%\n",
      "Epoch: 47 | Epoch Time: 0m 29s\n",
      "\t Train Loss: 0.008 | Train Acc: 99.80%\n",
      "\t Val. Loss: 1.130  |  Val. Acc: 91.37%\n",
      "Epoch: 48 | Epoch Time: 0m 29s\n",
      "\t Train Loss: 0.005 | Train Acc: 99.82%\n",
      "\t Val. Loss: 1.452  |  Val. Acc: 91.63%\n",
      "Epoch: 49 | Epoch Time: 0m 29s\n",
      "\t Train Loss: 0.008 | Train Acc: 99.82%\n",
      "\t Val. Loss: 0.958  |  Val. Acc: 90.62%\n",
      "Epoch: 50 | Epoch Time: 0m 29s\n",
      "\t Train Loss: 0.005 | Train Acc: 99.86%\n",
      "\t Val. Loss: 1.024  |  Val. Acc: 91.05%\n"
     ]
    }
   ],
   "source": [
    "model_saved_name = \"models/DEAP_CNN_BiLSTM_SelfAttention_last.pt\"\n",
    "\n",
    "#trainer(num_epochs, model, train_loader, val_loader, optimizer, criterion, model_name, device, seq_len_first=False)\n",
    "train_losses, valid_losses, train_accs, valid_accs = train(num_epochs, model, train_loader, val_loader, optimizer, criterion, model_saved_name, device)"
   ]
  },
  {
   "cell_type": "code",
   "execution_count": 12,
   "metadata": {},
   "outputs": [
    {
     "data": {
      "image/png": "[encoded data removed]",
      "text/plain": [
       "<Figure size 720x432 with 1 Axes>"
      ]
     },
     "metadata": {
      "needs_background": "light"
     },
     "output_type": "display_data"
    },
    {
     "data": {
      "image/png": "[encoded data removed]",
      "text/plain": [
       "<Figure size 720x432 with 1 Axes>"
      ]
     },
     "metadata": {
      "needs_background": "light"
     },
     "output_type": "display_data"
    }
   ],
   "source": [
    "plot_performance(train_losses, valid_losses, \"loss\")\n",
    "plot_performance(train_accs, valid_accs, \"acc\")"
   ]
  },
  {
   "cell_type": "markdown",
   "metadata": {},
   "source": [
    "## 4. Evaluation on test set"
   ]
  },
  {
   "cell_type": "code",
   "execution_count": 13,
   "metadata": {},
   "outputs": [
    {
     "name": "stdout",
     "output_type": "stream",
     "text": [
      "Test Loss: 0.465 | Test Acc: 89.97%\n"
     ]
    }
   ],
   "source": [
    "model.load_state_dict(torch.load(model_saved_name))\n",
    "test_loss, test_acc = evaluate(model, test_loader, criterion, device)\n",
    "\n",
    "print(f'Test Loss: {test_loss:.3f} | Test Acc: {test_acc*100:.2f}%')"
   ]
  },
  {
   "cell_type": "markdown",
   "metadata": {},
   "source": [
    "## Final Verdict\n",
    "\n"
   ]
  },
  {
   "cell_type": "markdown",
   "metadata": {},
   "source": [
    "After all the variants (mean, sum, last), we can kinda argue that self-attention does not really work well in our case, unlike general attention in which we find the relationship between the last hidden and all hidden states. \n",
    "\n",
    "Let's try multi-head self attention, again inspired in the Transformers paper, which argue that it may be beneficial to learn multiple threads of self-attention parallely, allowing the network to capture different aspects."
   ]
  }
 ],
 "metadata": {
  "kernelspec": {
   "display_name": "thesis",
   "language": "python",
   "name": "thesis"
  },
  "language_info": {
   "codemirror_mode": {
    "name": "ipython",
    "version": 3
   },
   "file_extension": ".py",
   "mimetype": "text/x-python",
   "name": "python",
   "nbconvert_exporter": "python",
   "pygments_lexer": "ipython3",
   "version": "3.8.10"
  }
 },
 "nbformat": 4,
 "nbformat_minor": 5
}
