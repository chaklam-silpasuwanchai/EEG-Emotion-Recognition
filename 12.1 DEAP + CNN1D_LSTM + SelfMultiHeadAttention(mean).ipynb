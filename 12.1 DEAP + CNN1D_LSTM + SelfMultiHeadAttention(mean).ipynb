{
 "cells": [
  {
   "cell_type": "markdown",
   "metadata": {},
   "source": [
    "# DEAP Dataset + CNN1D_LSTM + Self MultiHead Attention\n",
    "\n",
    "In this part 10, we shall revise just slightly and add some multiheads attention, which is again inspired by the Transformers architecture.\n",
    "\n",
    "*Note that we will be only predicting the valence.  Feel free to work on the arousal yourself.*\n",
    "\n",
    "In this part, most of the code will be the same except 2 Defining Model."
   ]
  },
  {
   "cell_type": "code",
   "execution_count": 1,
   "metadata": {},
   "outputs": [],
   "source": [
    "import torch\n",
    "import torch.nn as nn\n",
    "import torch.nn.functional as F\n",
    "\n",
    "# setting seed so that splitting process and training process can be reproduce\n",
    "torch.manual_seed(1)\n",
    "\n",
    "import numpy as np\n",
    "\n",
    "#refactoring components\n",
    "#maybe you want to take a look at these components, because we will be using them in the future series\n",
    "from components.dataset import Dataset\n",
    "from components.helper import getLoaders, count_parameters, plot_performance\n",
    "from components.train import train, evaluate, initialize_weights"
   ]
  },
  {
   "cell_type": "markdown",
   "metadata": {},
   "source": [
    "Set cuda accordingly."
   ]
  },
  {
   "cell_type": "code",
   "execution_count": 2,
   "metadata": {},
   "outputs": [
    {
     "name": "stdout",
     "output_type": "stream",
     "text": [
      "Configured device:  cuda\n"
     ]
    }
   ],
   "source": [
    "device = torch.device('cuda' if torch.cuda.is_available() else 'cpu')\n",
    "print(\"Configured device: \", device)"
   ]
  },
  {
   "cell_type": "markdown",
   "metadata": {},
   "source": [
    "## 1. Loading dataset\n",
    "\n",
    "Let's first reuse the dataset loader we have created in Part 1."
   ]
  },
  {
   "cell_type": "code",
   "execution_count": 3,
   "metadata": {},
   "outputs": [],
   "source": [
    "path = \"data\"  #create a folder \"data\", and inside put s01.dat,....,s32.dat inside from the preprocessed folder from the DEAP dataset"
   ]
  },
  {
   "cell_type": "code",
   "execution_count": 4,
   "metadata": {
    "tags": []
   },
   "outputs": [
    {
     "name": "stdout",
     "output_type": "stream",
     "text": [
      "Data shape:  torch.Size([15360, 32, 672])\n",
      "Label shape:  torch.Size([15360, 1])\n"
     ]
    }
   ],
   "source": [
    "dataset = Dataset(path, \"Valence\")\n",
    "\n",
    "data  = dataset[:]['data']\n",
    "label = dataset[:]['label']\n",
    "\n",
    "print(\"Data shape: \" , data.shape)  #15360 = 32 * 40 trials * 12 segments, 32 EEG channels, 672 samples\n",
    "print(\"Label shape: \", label.shape)  #two classes of valence"
   ]
  },
  {
   "cell_type": "markdown",
   "metadata": {
    "tags": []
   },
   "source": [
    "## 2. Defining the Model\n",
    "\n",
    "Self Attention is a very simple idea in which we wanna find the best weighted sum of all hidden states, instead of using the last hidden state to input into the linear layer.  However, the procedure in doing so it's a bit different, especially in step 1.  In order to find that weight, we \n",
    "1. we create three copies of (i.e., <code>out</code>) and called them Q (queries), K (key), V (value)\n",
    "2. attention weights matrix is done by having Q and K dotted together\n",
    "3. perform a softmax on this attention matrix so we can get value between 0 and 1\n",
    "4. lastly, we simply multiply this attention matrix with V"
   ]
  },
  {
   "cell_type": "code",
   "execution_count": 5,
   "metadata": {},
   "outputs": [],
   "source": [
    "class Conv1D_LSTM_SelfMultiHeadAttention(nn.Module):\n",
    "    '''\n",
    "    Expected Input Shape: (batch, channels, seq_len)  <==what conv1d wants\n",
    "    '''\n",
    "    def __init__(self, input_dim, hidden_dim, num_layers, output_dim, bidirectional, dropout, len_reduction='mean'):\n",
    "        super(Conv1D_LSTM_SelfMultiHeadAttention, self).__init__()\n",
    "        self.conv1d = nn.Conv1d(input_dim, input_dim, kernel_size=128, stride=1, padding=1)\n",
    "        self.norm = nn.BatchNorm1d(input_dim)\n",
    "        self.lstm = nn.LSTM(input_dim, \n",
    "                           hidden_dim, \n",
    "                           num_layers=num_layers, \n",
    "                           bidirectional=bidirectional, \n",
    "                           dropout=dropout,\n",
    "                           batch_first=True)\n",
    "        self.softmax       = nn.LogSoftmax(dim=1)\n",
    "        self.fc = nn.Linear(hidden_dim * num_layers, output_dim)\n",
    "        self.lin_Q = nn.Linear(hidden_dim * 2, hidden_dim * 2)\n",
    "        self.lin_K = nn.Linear(hidden_dim * 2, hidden_dim * 2)\n",
    "        self.lin_V = nn.Linear(hidden_dim * 2, hidden_dim * 2)\n",
    "        self.len_reduction = len_reduction\n",
    "        self.layer_norm = nn.LayerNorm(hidden_dim * 2)\n",
    "    \n",
    "    # lstm_output : [batch_size, seq len, n_hidden * num_directions(=2)]\n",
    "    def self_multihead_attention_net(self, lstm_output):\n",
    "        \n",
    "        residual, batch_size = lstm_output, lstm_output.size(0) #<---residual added to the last output; batch_size may not be even for the last unit\n",
    "        \n",
    "        q = self.lin_Q(torch.clone(lstm_output))\n",
    "        k = self.lin_K(torch.clone(lstm_output))\n",
    "        v = self.lin_V(torch.clone(lstm_output))\n",
    "        # q : [batch_size, seq_len, n_hidden * num_directions(=2)]\n",
    "        # k.transpose(1, 2): [batch_size, n_hidden * num_directions(=2), seq_len]\n",
    "        # attn_w = [batch_size, seq_len, seq_len]\n",
    "        \n",
    "        #split into heads\n",
    "        q = q.view(batch_size, -1, n_heads, d_k).transpose(1,2)  # q: [batch_size x n_heads x seq_len x d_k]\n",
    "        k = k.view(batch_size, -1, n_heads, d_k).transpose(1,2)  # k: [batch_size x n_heads x seq_len x d_k]\n",
    "        v = v.view(batch_size, -1, n_heads, d_k).transpose(1,2)  # v: [batch_size x n_heads x seq_len x d_k]\n",
    "        \n",
    "        # dot production attention\n",
    "        attn_w = torch.matmul(q, k.transpose(-1, -2)) / np.sqrt(d_k) # [batch_size x n_heads x seq_len x seq_len]\n",
    "                \n",
    "        sfmx_attn_w = self.softmax(attn_w)\n",
    "        context = torch.matmul(sfmx_attn_w, v) # [batch_size x n_heads x seq_len x d_k]\n",
    "        \n",
    "        # concatenate heads\n",
    "        context = context.transpose(1, 2).contiguous().view(batch_size, -1, n_heads * d_k) # context: [batch_size x seq_len x n_heads * d_k]\n",
    "        # now context: [batch_size, seq_len, hidden_dim * 2]\n",
    "        \n",
    "        # doing skip connection\n",
    "        # https://stats.stackexchange.com/questions/474440/why-do-transformers-use-layer-norm-instead-of-batch-norm\n",
    "        context = self.layer_norm(residual + context)\n",
    "\n",
    "        if self.len_reduction == \"mean\":\n",
    "            return torch.mean(context, dim=1), sfmx_attn_w.cpu().data.numpy()\n",
    "        elif self.len_reduction == \"sum\":\n",
    "            return torch.sum(context, dim=1), sfmx_attn_w.cpu().data.numpy()\n",
    "        elif self.len_reduction == \"last\":\n",
    "            return context[:, -1, :], sfmx_attn_w.cpu().data.numpy()\n",
    "        \n",
    "    def forward(self, x):\n",
    "        # conv1d expects (batch, channels, seq_len)\n",
    "        # should not try too big a kernel size, which could lead to too much information loss\n",
    "        x = F.max_pool1d(F.relu(self.norm(self.conv1d(x))), kernel_size=3)\n",
    "\n",
    "        # change to (batch, seq_len, channels) because lstm expects\n",
    "        x = x.permute(0,2,1)\n",
    "        \n",
    "        #x = [batch size, seq len, channels]\n",
    "        out, (hn, cn) = self.lstm(x)\n",
    "        \n",
    "        #out = [batch size, seq len, hidden dim * num directions]        \n",
    "        #hn = [num layers * num directions, batch size, hidden dim]\n",
    "        #cn = [num layers * num directions, batch size, hidden dim]\n",
    "        \n",
    "        #concat the final forward (hidden[-2,:,:]) and backward (hidden[-1,:,:]) hidden layers\n",
    "        hn = torch.cat((hn[-2,:,:], hn[-1,:,:]), dim = 1)\n",
    "        #hn = [batch size, hidden dim * num directions]\n",
    "        \n",
    "        attn_output, attention = self.self_multihead_attention_net(out)\n",
    "\n",
    "        return self.fc(attn_output)"
   ]
  },
  {
   "cell_type": "markdown",
   "metadata": {},
   "source": [
    "**Model init**: Let's init the class instance and create a workabout model."
   ]
  },
  {
   "cell_type": "code",
   "execution_count": 6,
   "metadata": {},
   "outputs": [
    {
     "data": {
      "text/plain": [
       "Conv1D_LSTM_SelfMultiHeadAttention(\n",
       "  (conv1d): Conv1d(32, 32, kernel_size=(128,), stride=(1,), padding=(1,))\n",
       "  (norm): BatchNorm1d(32, eps=1e-05, momentum=0.1, affine=True, track_running_stats=True)\n",
       "  (lstm): LSTM(32, 256, num_layers=2, batch_first=True, dropout=0.5, bidirectional=True)\n",
       "  (softmax): LogSoftmax(dim=1)\n",
       "  (fc): Linear(in_features=512, out_features=1, bias=True)\n",
       "  (lin_Q): Linear(in_features=512, out_features=512, bias=True)\n",
       "  (lin_K): Linear(in_features=512, out_features=512, bias=True)\n",
       "  (lin_V): Linear(in_features=512, out_features=512, bias=True)\n",
       "  (layer_norm): LayerNorm((512,), eps=1e-05, elementwise_affine=True)\n",
       ")"
      ]
     },
     "execution_count": 6,
     "metadata": {},
     "output_type": "execute_result"
    }
   ],
   "source": [
    "#note that these params are simply obtained from trial and error; I got no theory to back up why I use certain numbers here...\n",
    "input_dim     = 32 #we got 32 EEG channels\n",
    "hidden_dim    = 256 #let's define hidden dim as 256\n",
    "num_layers    = 2  #we gonna have two LSTM layers\n",
    "output_dim    = 1  #we got 2 classes for our labels\n",
    "bidirectional = True  #uses bidirectional LSTM\n",
    "dropout       = 0.5  #setting dropout to 0.5\n",
    "n_heads       = 8   #<=======new!\n",
    "d_k           = (hidden_dim * 2) // n_heads # (256 * 2) // 8\n",
    "len_reduction = 'mean'  #try sum and last\n",
    "\n",
    "#define the model\n",
    "model = Conv1D_LSTM_SelfMultiHeadAttention(input_dim, hidden_dim, num_layers, output_dim, bidirectional, dropout, len_reduction)\n",
    "\n",
    "#send to cuda so we can use the GPU\n",
    "model = model.to(device)  \n",
    "\n",
    "#apply weights\n",
    "model.apply(initialize_weights)"
   ]
  },
  {
   "cell_type": "markdown",
   "metadata": {},
   "source": [
    "**Param count**: Let's also check the number of parameters used"
   ]
  },
  {
   "cell_type": "code",
   "execution_count": 7,
   "metadata": {},
   "outputs": [
    {
     "name": "stdout",
     "output_type": "stream",
     "text": [
      "The model Conv1D_LSTM_SelfMultiHeadAttention has 3,091,553 trainable parameters\n"
     ]
    }
   ],
   "source": [
    "print(f'The model {type(model).__name__} has {count_parameters(model):,} trainable parameters')# Train the model"
   ]
  },
  {
   "cell_type": "markdown",
   "metadata": {},
   "source": [
    "**Unit test**: Let's define a simple unit test, inputing some mock EEG data and see whether we got the desired output as 4 classes."
   ]
  },
  {
   "cell_type": "code",
   "execution_count": 8,
   "metadata": {},
   "outputs": [
    {
     "name": "stdout",
     "output_type": "stream",
     "text": [
      "Prediction shape:  torch.Size([2, 1])\n",
      "Predictions:  tensor([[-0.4730],\n",
      "        [-0.4885]], device='cuda:0', grad_fn=<AddmmBackward>)\n"
     ]
    }
   ],
   "source": [
    "mock_batch_size = 2    #in real training, we use 32\n",
    "mock_input_dim  = 32   #in real data, ours is 32 channels\n",
    "mock_seq_len    = 8064 #in real data, ours is 8064\n",
    "\n",
    "#note that our model first layer is conv1d which expects (batch, channel, seq len)\n",
    "mock_eegdata = torch.rand(mock_batch_size, mock_input_dim, mock_seq_len).to(device)\n",
    "\n",
    "#let's try run the model by simply inserting the mockdata into the model; very similar to .fit\n",
    "predictions = model(mock_eegdata)\n",
    "\n",
    "#let's try to see the predictions whether it really outputs 2 unique classes - 0 and 1\n",
    "print(\"Prediction shape: \", predictions.shape)\n",
    "print(\"Predictions: \", predictions)\n",
    "\n",
    "#simple unit test\n",
    "assert predictions.shape[0] == mock_batch_size\n",
    "assert predictions.shape[1] == output_dim"
   ]
  },
  {
   "cell_type": "markdown",
   "metadata": {},
   "source": [
    "## 3. Training"
   ]
  },
  {
   "cell_type": "markdown",
   "metadata": {
    "tags": []
   },
   "source": [
    "### I. Batch Iterators\n",
    "\n",
    "To make it easier to manage, I have put this into our <code>components/helper.py</code>."
   ]
  },
  {
   "cell_type": "code",
   "execution_count": 9,
   "metadata": {},
   "outputs": [
    {
     "name": "stdout",
     "output_type": "stream",
     "text": [
      "Full Dataset size:  15360\n",
      "Train Dataset size: 10752\n",
      "Valid Dataset size: 3072\n",
      "Test Dataset size:  1536\n",
      "\n"
     ]
    }
   ],
   "source": [
    "train_loader, val_loader, test_loader = getLoaders(dataset=dataset, batch_size=16)"
   ]
  },
  {
   "cell_type": "markdown",
   "metadata": {},
   "source": [
    "### II. Optimizers\n",
    "\n",
    "Optimizer simply refers to the one that gonna take care of the backpropagation process.  The commonly used optimizer is SGD and Adam, both are quite interchangeable.  Here we gonna use Adam.  In order to backpropagate, we gonna define a loss function using cross entropy loss, which is a common loss function for multi-class purposes."
   ]
  },
  {
   "cell_type": "code",
   "execution_count": 10,
   "metadata": {},
   "outputs": [],
   "source": [
    "import torch.optim as optim\n",
    "\n",
    "num_epochs = 50\n",
    "\n",
    "lr = 0.0001\n",
    "\n",
    "#can also try SGD which should not make too much of a difference\n",
    "optimizer = optim.Adam(model.parameters(), lr=lr) \n",
    "\n",
    "#combine sigmoid with binary entropy; binary entropy is used for binary classification\n",
    "criterion = nn.BCEWithLogitsLoss() "
   ]
  },
  {
   "cell_type": "markdown",
   "metadata": {
    "tags": []
   },
   "source": [
    "### III. Let's train!"
   ]
  },
  {
   "cell_type": "code",
   "execution_count": 11,
   "metadata": {},
   "outputs": [
    {
     "name": "stdout",
     "output_type": "stream",
     "text": [
      "Epoch: 01 | Epoch Time: 0m 32s\n",
      "\t Train Loss: 0.697 | Train Acc: 56.04%\n",
      "\t Val. Loss: 0.687  |  Val. Acc: 54.75%\n",
      "Epoch: 02 | Epoch Time: 0m 32s\n",
      "\t Train Loss: 0.638 | Train Acc: 63.08%\n",
      "\t Val. Loss: 0.580  |  Val. Acc: 70.70%\n",
      "Epoch: 03 | Epoch Time: 0m 32s\n",
      "\t Train Loss: 0.557 | Train Acc: 71.35%\n",
      "\t Val. Loss: 0.559  |  Val. Acc: 71.13%\n",
      "Epoch: 04 | Epoch Time: 0m 31s\n",
      "\t Train Loss: 0.467 | Train Acc: 77.03%\n",
      "\t Val. Loss: 0.493  |  Val. Acc: 76.07%\n",
      "Epoch: 05 | Epoch Time: 0m 32s\n",
      "\t Train Loss: 0.378 | Train Acc: 83.30%\n",
      "\t Val. Loss: 0.449  |  Val. Acc: 78.81%\n",
      "Epoch: 06 | Epoch Time: 0m 31s\n",
      "\t Train Loss: 0.317 | Train Acc: 86.46%\n",
      "\t Val. Loss: 0.396  |  Val. Acc: 82.71%\n",
      "Epoch: 07 | Epoch Time: 0m 31s\n",
      "\t Train Loss: 0.257 | Train Acc: 89.38%\n",
      "\t Val. Loss: 0.326  |  Val. Acc: 85.71%\n",
      "Epoch: 08 | Epoch Time: 0m 31s\n",
      "\t Train Loss: 0.212 | Train Acc: 91.21%\n",
      "\t Val. Loss: 0.303  |  Val. Acc: 86.91%\n",
      "Epoch: 09 | Epoch Time: 0m 31s\n",
      "\t Train Loss: 0.186 | Train Acc: 92.30%\n",
      "\t Val. Loss: 0.328  |  Val. Acc: 87.96%\n",
      "Epoch: 10 | Epoch Time: 0m 32s\n",
      "\t Train Loss: 0.160 | Train Acc: 93.44%\n",
      "\t Val. Loss: 0.355  |  Val. Acc: 86.04%\n",
      "Epoch: 11 | Epoch Time: 0m 32s\n",
      "\t Train Loss: 0.134 | Train Acc: 94.69%\n",
      "\t Val. Loss: 0.338  |  Val. Acc: 87.43%\n",
      "Epoch: 12 | Epoch Time: 0m 32s\n",
      "\t Train Loss: 0.132 | Train Acc: 95.02%\n",
      "\t Val. Loss: 0.341  |  Val. Acc: 86.49%\n",
      "Epoch: 13 | Epoch Time: 0m 32s\n",
      "\t Train Loss: 0.114 | Train Acc: 95.67%\n",
      "\t Val. Loss: 0.282  |  Val. Acc: 88.93%\n",
      "Epoch: 14 | Epoch Time: 0m 32s\n",
      "\t Train Loss: 0.099 | Train Acc: 96.42%\n",
      "\t Val. Loss: 0.276  |  Val. Acc: 90.20%\n",
      "Epoch: 15 | Epoch Time: 0m 32s\n",
      "\t Train Loss: 0.099 | Train Acc: 96.19%\n",
      "\t Val. Loss: 0.213  |  Val. Acc: 91.18%\n",
      "Epoch: 16 | Epoch Time: 0m 32s\n",
      "\t Train Loss: 0.071 | Train Acc: 97.35%\n",
      "\t Val. Loss: 0.213  |  Val. Acc: 91.57%\n",
      "Epoch: 17 | Epoch Time: 0m 32s\n",
      "\t Train Loss: 0.099 | Train Acc: 96.46%\n",
      "\t Val. Loss: 0.206  |  Val. Acc: 92.06%\n",
      "Epoch: 18 | Epoch Time: 0m 32s\n",
      "\t Train Loss: 0.072 | Train Acc: 97.29%\n",
      "\t Val. Loss: 0.308  |  Val. Acc: 90.56%\n",
      "Epoch: 19 | Epoch Time: 0m 32s\n",
      "\t Train Loss: 0.076 | Train Acc: 97.09%\n",
      "\t Val. Loss: 0.259  |  Val. Acc: 90.62%\n",
      "Epoch: 20 | Epoch Time: 0m 32s\n",
      "\t Train Loss: 0.052 | Train Acc: 98.13%\n",
      "\t Val. Loss: 0.394  |  Val. Acc: 89.03%\n",
      "Epoch: 21 | Epoch Time: 0m 32s\n",
      "\t Train Loss: 0.067 | Train Acc: 97.62%\n",
      "\t Val. Loss: 0.257  |  Val. Acc: 91.99%\n",
      "Epoch: 22 | Epoch Time: 0m 32s\n",
      "\t Train Loss: 0.075 | Train Acc: 97.30%\n",
      "\t Val. Loss: 0.449  |  Val. Acc: 87.43%\n",
      "Epoch: 23 | Epoch Time: 0m 32s\n",
      "\t Train Loss: 0.047 | Train Acc: 98.49%\n",
      "\t Val. Loss: 0.214  |  Val. Acc: 92.45%\n",
      "Epoch: 24 | Epoch Time: 0m 32s\n",
      "\t Train Loss: 0.052 | Train Acc: 97.96%\n",
      "\t Val. Loss: 0.258  |  Val. Acc: 91.15%\n",
      "Epoch: 25 | Epoch Time: 0m 32s\n",
      "\t Train Loss: 0.057 | Train Acc: 98.01%\n",
      "\t Val. Loss: 0.253  |  Val. Acc: 91.83%\n",
      "Epoch: 26 | Epoch Time: 0m 32s\n",
      "\t Train Loss: 0.044 | Train Acc: 98.47%\n",
      "\t Val. Loss: 0.289  |  Val. Acc: 90.82%\n",
      "Epoch: 27 | Epoch Time: 0m 32s\n",
      "\t Train Loss: 0.048 | Train Acc: 98.26%\n",
      "\t Val. Loss: 0.287  |  Val. Acc: 90.76%\n",
      "Epoch: 28 | Epoch Time: 0m 32s\n",
      "\t Train Loss: 0.048 | Train Acc: 98.28%\n",
      "\t Val. Loss: 0.356  |  Val. Acc: 90.20%\n",
      "Epoch: 29 | Epoch Time: 0m 32s\n",
      "\t Train Loss: 0.050 | Train Acc: 98.28%\n",
      "\t Val. Loss: 0.297  |  Val. Acc: 90.30%\n",
      "Epoch: 30 | Epoch Time: 0m 32s\n",
      "\t Train Loss: 0.041 | Train Acc: 98.57%\n",
      "\t Val. Loss: 0.319  |  Val. Acc: 91.34%\n",
      "Epoch: 31 | Epoch Time: 0m 32s\n",
      "\t Train Loss: 0.049 | Train Acc: 98.34%\n",
      "\t Val. Loss: 0.244  |  Val. Acc: 92.94%\n",
      "Epoch: 32 | Epoch Time: 0m 32s\n",
      "\t Train Loss: 0.045 | Train Acc: 98.43%\n",
      "\t Val. Loss: 0.269  |  Val. Acc: 91.37%\n",
      "Epoch: 33 | Epoch Time: 0m 32s\n",
      "\t Train Loss: 0.042 | Train Acc: 98.60%\n",
      "\t Val. Loss: 0.271  |  Val. Acc: 88.67%\n",
      "Epoch: 34 | Epoch Time: 0m 32s\n",
      "\t Train Loss: 0.038 | Train Acc: 98.97%\n",
      "\t Val. Loss: 0.238  |  Val. Acc: 91.54%\n",
      "Epoch: 35 | Epoch Time: 0m 32s\n",
      "\t Train Loss: 0.042 | Train Acc: 98.65%\n",
      "\t Val. Loss: 0.311  |  Val. Acc: 90.76%\n",
      "Epoch: 36 | Epoch Time: 0m 32s\n",
      "\t Train Loss: 0.034 | Train Acc: 98.74%\n",
      "\t Val. Loss: 0.293  |  Val. Acc: 90.92%\n",
      "Epoch: 37 | Epoch Time: 0m 32s\n",
      "\t Train Loss: 0.040 | Train Acc: 98.60%\n",
      "\t Val. Loss: 0.228  |  Val. Acc: 92.77%\n",
      "Epoch: 38 | Epoch Time: 0m 32s\n",
      "\t Train Loss: 0.046 | Train Acc: 98.74%\n",
      "\t Val. Loss: 0.208  |  Val. Acc: 93.55%\n",
      "Epoch: 39 | Epoch Time: 0m 32s\n",
      "\t Train Loss: 0.036 | Train Acc: 98.74%\n",
      "\t Val. Loss: 0.343  |  Val. Acc: 90.01%\n",
      "Epoch: 40 | Epoch Time: 0m 32s\n",
      "\t Train Loss: 0.043 | Train Acc: 98.44%\n",
      "\t Val. Loss: 0.238  |  Val. Acc: 93.33%\n",
      "Epoch: 41 | Epoch Time: 0m 32s\n",
      "\t Train Loss: 0.035 | Train Acc: 98.79%\n",
      "\t Val. Loss: 0.250  |  Val. Acc: 91.86%\n",
      "Epoch: 42 | Epoch Time: 0m 32s\n",
      "\t Train Loss: 0.019 | Train Acc: 99.41%\n",
      "\t Val. Loss: 0.317  |  Val. Acc: 90.95%\n",
      "Epoch: 43 | Epoch Time: 0m 32s\n",
      "\t Train Loss: 0.038 | Train Acc: 98.61%\n",
      "\t Val. Loss: 0.260  |  Val. Acc: 92.25%\n",
      "Epoch: 44 | Epoch Time: 0m 32s\n",
      "\t Train Loss: 0.033 | Train Acc: 99.02%\n",
      "\t Val. Loss: 0.196  |  Val. Acc: 93.00%\n",
      "Epoch: 45 | Epoch Time: 0m 32s\n",
      "\t Train Loss: 0.030 | Train Acc: 98.83%\n",
      "\t Val. Loss: 0.275  |  Val. Acc: 91.96%\n",
      "Epoch: 46 | Epoch Time: 0m 32s\n",
      "\t Train Loss: 0.021 | Train Acc: 99.35%\n",
      "\t Val. Loss: 0.279  |  Val. Acc: 91.99%\n",
      "Epoch: 47 | Epoch Time: 0m 32s\n",
      "\t Train Loss: 0.034 | Train Acc: 98.74%\n",
      "\t Val. Loss: 0.299  |  Val. Acc: 91.73%\n",
      "Epoch: 48 | Epoch Time: 0m 32s\n",
      "\t Train Loss: 0.028 | Train Acc: 99.04%\n",
      "\t Val. Loss: 0.268  |  Val. Acc: 92.38%\n",
      "Epoch: 49 | Epoch Time: 0m 32s\n",
      "\t Train Loss: 0.017 | Train Acc: 99.47%\n",
      "\t Val. Loss: 0.315  |  Val. Acc: 91.31%\n",
      "Epoch: 50 | Epoch Time: 0m 32s\n",
      "\t Train Loss: 0.033 | Train Acc: 98.86%\n",
      "\t Val. Loss: 0.288  |  Val. Acc: 91.67%\n"
     ]
    }
   ],
   "source": [
    "model_saved_name = \"models/DEAP_CNN_BiLSTM_SelfMultiHeadAttention_mean.pt\"\n",
    "\n",
    "#trainer(num_epochs, model, train_loader, val_loader, optimizer, criterion, model_name, device, seq_len_first=False)\n",
    "train_losses, valid_losses, train_accs, valid_accs = train(num_epochs, model, train_loader, val_loader, optimizer, criterion, model_saved_name, device)"
   ]
  },
  {
   "cell_type": "code",
   "execution_count": 12,
   "metadata": {},
   "outputs": [
    {
     "data": {
      "image/png": "[encoded data removed]",
      "text/plain": [
       "<Figure size 720x432 with 1 Axes>"
      ]
     },
     "metadata": {
      "needs_background": "light"
     },
     "output_type": "display_data"
    },
    {
     "data": {
      "image/png": "[encoded data removed]",
      "text/plain": [
       "<Figure size 720x432 with 1 Axes>"
      ]
     },
     "metadata": {
      "needs_background": "light"
     },
     "output_type": "display_data"
    }
   ],
   "source": [
    "plot_performance(train_losses, valid_losses, \"loss\")\n",
    "plot_performance(train_accs, valid_accs, \"acc\")"
   ]
  },
  {
   "cell_type": "markdown",
   "metadata": {},
   "source": [
    "## 4. Evaluation on test set"
   ]
  },
  {
   "cell_type": "code",
   "execution_count": 13,
   "metadata": {},
   "outputs": [
    {
     "name": "stdout",
     "output_type": "stream",
     "text": [
      "Test Loss: 0.231 | Test Acc: 92.97%\n"
     ]
    }
   ],
   "source": [
    "model.load_state_dict(torch.load(model_saved_name))\n",
    "test_loss, test_acc = evaluate(model, test_loader, criterion, device)\n",
    "\n",
    "print(f'Test Loss: {test_loss:.3f} | Test Acc: {test_acc*100:.2f}%')"
   ]
  },
  {
   "cell_type": "markdown",
   "metadata": {},
   "source": [
    "## Final Verdict\n",
    "\n"
   ]
  },
  {
   "cell_type": "markdown",
   "metadata": {},
   "source": [
    "Hmm.... 93%...quite same as CNN1D + LSTM.   Can argue that it may not really worth it given much more parameters.  Let's try whether changing the hidden states (sum, last) will affect the results."
   ]
  }
 ],
 "metadata": {
  "kernelspec": {
   "display_name": "Python 3",
   "language": "python",
   "name": "python3"
  },
  "language_info": {
   "codemirror_mode": {
    "name": "ipython",
    "version": 3
   },
   "file_extension": ".py",
   "mimetype": "text/x-python",
   "name": "python",
   "nbconvert_exporter": "python",
   "pygments_lexer": "ipython3",
   "version": "3.8.10"
  }
 },
 "nbformat": 4,
 "nbformat_minor": 5
}
